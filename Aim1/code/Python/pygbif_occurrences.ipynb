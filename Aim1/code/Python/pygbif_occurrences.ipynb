{
 "cells": [
  {
   "cell_type": "code",
   "execution_count": 3,
   "id": "7293e2db-6042-42b3-92ee-bc324b7143c8",
   "metadata": {},
   "outputs": [
    {
     "name": "stdout",
     "output_type": "stream",
     "text": [
      "Success!\n"
     ]
    }
   ],
   "source": [
    "\"\"\"\n",
    "Access and download GBIF occurrence data for quaking aspen\n",
    "\n",
    "maxwell.cook@colorado.edu\n",
    "\n",
    "\"\"\"\n",
    "\n",
    "import pygbif\n",
    "from pygbif import occurrences as occ\n",
    "\n",
    "print(\"Success!\")"
   ]
  },
  {
   "cell_type": "code",
   "execution_count": null,
   "id": "d2f19f91-0542-4fcb-8c35-d0ff4243e37a",
   "metadata": {},
   "outputs": [],
   "source": [
    "#\n",
    "\n"
   ]
  }
 ],
 "metadata": {
  "kernelspec": {
   "display_name": "aspen-fire",
   "language": "python",
   "name": "aspen-fire"
  },
  "language_info": {
   "codemirror_mode": {
    "name": "ipython",
    "version": 3
   },
   "file_extension": ".py",
   "mimetype": "text/x-python",
   "name": "python",
   "nbconvert_exporter": "python",
   "pygments_lexer": "ipython3",
   "version": "3.10.12"
  }
 },
 "nbformat": 4,
 "nbformat_minor": 5
}
