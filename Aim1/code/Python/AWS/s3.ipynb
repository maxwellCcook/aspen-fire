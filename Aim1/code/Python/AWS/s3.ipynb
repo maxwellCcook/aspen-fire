{
 "cells": [
  {
   "cell_type": "code",
   "execution_count": 1,
   "id": "07109be3-f986-42f6-893f-752b2833a0d1",
   "metadata": {
    "tags": []
   },
   "outputs": [
    {
     "name": "stdout",
     "output_type": "stream",
     "text": [
      "Collecting boto3\n",
      "  Obtaining dependency information for boto3 from https://files.pythonhosted.org/packages/e0/24/e66035b9658936e9ac8b6296816fd9c73a514f1192a0f33bdac241a465c5/boto3-1.33.3-py3-none-any.whl.metadata\n",
      "  Downloading boto3-1.33.3-py3-none-any.whl.metadata (6.7 kB)\n",
      "Collecting botocore<1.34.0,>=1.33.3 (from boto3)\n",
      "  Obtaining dependency information for botocore<1.34.0,>=1.33.3 from https://files.pythonhosted.org/packages/44/56/44bbc841746d3fc32433c95b268b6e4500ba4ef8fb0024bc1cf4632d415a/botocore-1.33.3-py3-none-any.whl.metadata\n",
      "  Downloading botocore-1.33.3-py3-none-any.whl.metadata (6.1 kB)\n",
      "Collecting jmespath<2.0.0,>=0.7.1 (from boto3)\n",
      "  Downloading jmespath-1.0.1-py3-none-any.whl (20 kB)\n",
      "Collecting s3transfer<0.9.0,>=0.8.0 (from boto3)\n",
      "  Obtaining dependency information for s3transfer<0.9.0,>=0.8.0 from https://files.pythonhosted.org/packages/75/ca/5399536cbd5889ca4532d4b8bbcd17efa0fe0be0da04e143667a4ff5644e/s3transfer-0.8.2-py3-none-any.whl.metadata\n",
      "  Downloading s3transfer-0.8.2-py3-none-any.whl.metadata (1.8 kB)\n",
      "Requirement already satisfied: python-dateutil<3.0.0,>=2.1 in /opt/conda/lib/python3.10/site-packages (from botocore<1.34.0,>=1.33.3->boto3) (2.8.2)\n",
      "Requirement already satisfied: urllib3<2.1,>=1.25.4 in /opt/conda/lib/python3.10/site-packages (from botocore<1.34.0,>=1.33.3->boto3) (2.0.4)\n",
      "Requirement already satisfied: six>=1.5 in /opt/conda/lib/python3.10/site-packages (from python-dateutil<3.0.0,>=2.1->botocore<1.34.0,>=1.33.3->boto3) (1.16.0)\n",
      "Downloading boto3-1.33.3-py3-none-any.whl (139 kB)\n",
      "\u001b[2K   \u001b[90m━━━━━━━━━━━━━━━━━━━━━━━━━━━━━━━━━━━━━━━━\u001b[0m \u001b[32m139.3/139.3 kB\u001b[0m \u001b[31m10.4 MB/s\u001b[0m eta \u001b[36m0:00:00\u001b[0m\n",
      "\u001b[?25hDownloading botocore-1.33.3-py3-none-any.whl (11.8 MB)\n",
      "\u001b[2K   \u001b[90m━━━━━━━━━━━━━━━━━━━━━━━━━━━━━━━━━━━━━━━━\u001b[0m \u001b[32m11.8/11.8 MB\u001b[0m \u001b[31m109.2 MB/s\u001b[0m eta \u001b[36m0:00:00\u001b[0m00:01\u001b[0m0:01\u001b[0m\n",
      "\u001b[?25hDownloading s3transfer-0.8.2-py3-none-any.whl (82 kB)\n",
      "\u001b[2K   \u001b[90m━━━━━━━━━━━━━━━━━━━━━━━━━━━━━━━━━━━━━━━━\u001b[0m \u001b[32m82.0/82.0 kB\u001b[0m \u001b[31m24.3 MB/s\u001b[0m eta \u001b[36m0:00:00\u001b[0m\n",
      "\u001b[?25hInstalling collected packages: jmespath, botocore, s3transfer, boto3\n",
      "Successfully installed boto3-1.33.3 botocore-1.33.3 jmespath-1.0.1 s3transfer-0.8.2\n"
     ]
    }
   ],
   "source": []
  },
  {
   "cell_type": "code",
   "execution_count": 3,
   "id": "24568d8b-51c6-4e7b-9297-6815bdc40f2f",
   "metadata": {
    "tags": []
   },
   "outputs": [
    {
     "name": "stdout",
     "output_type": "stream",
     "text": [
      "jsfp.bucket/landscape-metrics_aws.ipynb\n",
      "landscape-metrics_aws.ipynb\n",
      "jsfp.bucket/lc16_evt_200_bin.tif\n",
      "lc16_evt_200_bin.tif\n",
      "jsfp.bucket/s2aspen_prob_10m_binOpt_srme.tif\n",
      "s2aspen_prob_10m_binOpt_srme.tif\n",
      "jsfp.bucket/s2aspen_prob_10m_binOpt_wrnf.tif\n",
      "s2aspen_prob_10m_binOpt_wrnf.tif\n",
      "jsfp.bucket/us_eco_l3_srme.gpkg\n",
      "us_eco_l3_srme.gpkg\n",
      "jsfp.bucket/usfs_itsp_aspen_ba_gt10.tif\n",
      "usfs_itsp_aspen_ba_gt10.tif\n",
      "jsfp.bucket/usfs_treemap16_bin.tif\n",
      "usfs_treemap16_bin.tif\n",
      "jsfp.bucket/wrnf_boundary_srme.gpkg\n",
      "wrnf_boundary_srme.gpkg\n"
     ]
    }
   ],
   "source": [
    "!pip install boto3\n",
    "\n",
    "import boto3\n",
    "import os\n",
    "BUCKET_NAME = 'jsfp.bucket'\n",
    "s3 = boto3.resource('s3')\n",
    "for obj in s3.Bucket(BUCKET_NAME).objects.all():\n",
    "    print(os.path.join(obj.bucket_name, obj.key))\n",
    "    print(obj.key.split('/')[-1])\n",
    "    s3.Bucket(BUCKET_NAME).download_file(os.path.join(obj.key), obj.key.split('/')[-1])"
   ]
  }
 ],
 "metadata": {
  "kernelspec": {
   "display_name": "Python 3 (ipykernel)",
   "language": "python",
   "name": "python3"
  },
  "language_info": {
   "codemirror_mode": {
    "name": "ipython",
    "version": 3
   },
   "file_extension": ".py",
   "mimetype": "text/x-python",
   "name": "python",
   "nbconvert_exporter": "python",
   "pygments_lexer": "ipython3",
   "version": "3.10.12"
  }
 },
 "nbformat": 4,
 "nbformat_minor": 5
}
