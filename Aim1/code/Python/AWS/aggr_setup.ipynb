{
 "cells": [
  {
   "cell_type": "code",
   "execution_count": 2,
   "id": "519c05df-3cfb-4029-be71-e81e2e54cdde",
   "metadata": {
    "tags": []
   },
   "outputs": [
    {
     "name": "stdout",
     "output_type": "stream",
     "text": [
      "Starting prep of reference images ...\n",
      "Processing: usfs_treemap16_bin\n",
      "Clipping to the 'srme'\n"
     ]
    },
    {
     "name": "stderr",
     "output_type": "stream",
     "text": [
      "/opt/conda/lib/python3.10/site-packages/xarray/core/duck_array_ops.py:188: RuntimeWarning: invalid value encountered in cast\n",
      "  return data.astype(dtype, **kwargs)\n",
      "/opt/conda/lib/python3.10/site-packages/xarray/core/duck_array_ops.py:188: RuntimeWarning: invalid value encountered in cast\n",
      "  return data.astype(dtype, **kwargs)\n"
     ]
    },
    {
     "name": "stdout",
     "output_type": "stream",
     "text": [
      "Upsampling to 10m\n",
      "Clipping to the 'wrnf'\n"
     ]
    },
    {
     "name": "stderr",
     "output_type": "stream",
     "text": [
      "/opt/conda/lib/python3.10/site-packages/xarray/core/duck_array_ops.py:188: RuntimeWarning: invalid value encountered in cast\n",
      "  return data.astype(dtype, **kwargs)\n",
      "/opt/conda/lib/python3.10/site-packages/xarray/core/duck_array_ops.py:188: RuntimeWarning: invalid value encountered in cast\n",
      "  return data.astype(dtype, **kwargs)\n"
     ]
    },
    {
     "name": "stdout",
     "output_type": "stream",
     "text": [
      "Upsampling to 10m\n",
      "Time elapsed: 5.914511028925578 minutes.\n"
     ]
    }
   ],
   "source": [
    "\"\"\"\n",
    "This script preps the reference and testing images for the agreement assessment\n",
    "\n",
    "    - Resamples existing products to common 10m resolution matching the Sentinel-based aspen map\n",
    "\n",
    "LANDFIRE Existing Vegetation Type (EVT, c. 2016 Remap)\n",
    "USFS National Individual Tree Species Atlas (c. 2014)\n",
    "USFS TreeMap (c. 2016)\n",
    "\n",
    "maxwell.cook@colorado.edu\n",
    "\"\"\"\n",
    "\n",
    "# Packages\n",
    "\n",
    "import os,sys\n",
    "import geopandas as gpd\n",
    "import rioxarray as rxr\n",
    "import rasterio\n",
    "from rasterio.enums import Resampling\n",
    "\n",
    "import time\n",
    "begin = time.time()\n",
    "\n",
    "# Custom functions\n",
    "# Function to resample and snap grids\n",
    "def resample_match_grid(\n",
    "        in_img, to_img, scale_factor,\n",
    "        crs, dtype, method='', out_path=os.getcwd()):\n",
    "\n",
    "    # Define the resample dimensions\n",
    "    new_height = int(in_img.rio.height * scale_factor)\n",
    "    new_width = int(in_img.rio.width * scale_factor)\n",
    "\n",
    "    # Reproject w/ resampling\n",
    "    resamp = in_img.rio.reproject(\n",
    "        crs,\n",
    "        shape=(new_height, new_width),\n",
    "        resampling=method\n",
    "    )\n",
    "\n",
    "    del in_img\n",
    "\n",
    "    # Reproject match, clip, save out\n",
    "    out_grid = resamp.rio.reproject_match(to_img)\n",
    "\n",
    "    del to_img, resamp\n",
    "\n",
    "    out_grid.rio.to_raster(\n",
    "        out_path, compress='zstd', zstd_level=9,\n",
    "        dtype=dtype, driver='GTiff'\n",
    "    )\n",
    "\n",
    "    del out_grid\n",
    "\n",
    "# Globals\n",
    "\n",
    "proj = 'EPSG:5070'  # NAD83 CONUS Albers\n",
    "\n",
    "# Load the study area boundaries\n",
    "# Southern Rocky Mountains Ecoregion (SRME)\n",
    "srme = gpd.read_file('us_eco_l3_srme.gpkg').to_crs(proj)\n",
    "# White River National Forest\n",
    "wrnf = gpd.read_file('wrnf_boundary_srme.gpkg').to_crs(proj)\n",
    "# Combine in a list\n",
    "gdfs = [srme,wrnf]\n",
    "names = [\"srme\",\"wrnf\"]\n",
    "\n",
    "#############################\n",
    "# Prep the reference images #\n",
    "#############################\n",
    "\n",
    "print(\"Starting prep of reference images ...\")\n",
    "\n",
    "# Target grid (Sentinel-based aspen distribution map)\n",
    "tests = [\n",
    "    's2aspen_prob_10m_binOpt_srme.tif',\n",
    "    's2aspen_prob_10m_binOpt_wrnf.tif'\n",
    "]\n",
    "\n",
    "# Load the \"reference\" images of aspen distribution\n",
    "# USFS TreeMap, ITSP (basal area), LANDFIRE EVT\n",
    "refs = [\n",
    "    'lc16_evt_200_bin.tif',\n",
    "    'usfs_itsp_aspen_ba_gt10.tif',\n",
    "    'usfs_treemap16_bin.tif'\n",
    "]\n",
    "\n",
    "# Loop the reference images, exporting a matched 10-meter grid\n",
    "\n",
    "refs = ['usfs_treemap16_bin.tif']\n",
    "\n",
    "for r in refs:\n",
    "    name = os.path.basename(r)[:-4]\n",
    "    print(f\"Processing: {name}\")\n",
    "\n",
    "    # Open the raster file\n",
    "    ref = rxr.open_rasterio(r,masked=True,cache=False).squeeze().astype(rasterio.uint8)\n",
    "\n",
    "    for i in range(0,len(names)):\n",
    "        print(f\"Clipping to the '{names[i]}'\")\n",
    "\n",
    "        gdf = gdfs[i]\n",
    "        region = names[i]\n",
    "\n",
    "        # Open the test image to match\n",
    "        test = rxr.open_rasterio(tests[i],masked=True,cache=False).astype(rasterio.uint8)\n",
    "\n",
    "        # Clip to study region\n",
    "        cl = ref.rio.clip(gdf.geometry)\n",
    "\n",
    "        # Upscale to 10m and match to the test image\n",
    "        print(\"Upsampling to 10m\")\n",
    "\n",
    "        out = f'{name}_{region}_10m.tif'\n",
    "\n",
    "        ups = resample_match_grid(\n",
    "            in_img=cl, to_img=test,\n",
    "            scale_factor=3, crs=proj, method=Resampling.nearest,\n",
    "            dtype=\"uint8\", out_path=out\n",
    "        )\n",
    "\n",
    "        del test, cl, ups\n",
    "\n",
    "    del ref\n",
    "\n",
    "print(f\"Time elapsed: {(time.time() - begin) / 60} minutes.\")"
   ]
  }
 ],
 "metadata": {
  "kernelspec": {
   "display_name": "Python 3 (ipykernel)",
   "language": "python",
   "name": "python3"
  },
  "language_info": {
   "codemirror_mode": {
    "name": "ipython",
    "version": 3
   },
   "file_extension": ".py",
   "mimetype": "text/x-python",
   "name": "python",
   "nbconvert_exporter": "python",
   "pygments_lexer": "ipython3",
   "version": "3.10.11"
  }
 },
 "nbformat": 4,
 "nbformat_minor": 5
}
