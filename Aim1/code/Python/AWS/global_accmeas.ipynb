{
 "cells": [
  {
   "cell_type": "code",
   "execution_count": 11,
   "id": "4d66c723-0e1d-4415-a3c7-5f7632fb01f9",
   "metadata": {
    "tags": []
   },
   "outputs": [
    {
     "name": "stdout",
     "output_type": "stream",
     "text": [
      "Complete\n"
     ]
    }
   ],
   "source": [
    "\"\"\"\n",
    "This script calculates the agreement between our Sentinel-based map and three reference datasets\n",
    "Returns precision, recall and F1 for 1x1 and 3x3 windows for each spatial block\n",
    "\n",
    "maxwell.cook@colorado.edu\n",
    "\"\"\"\n",
    "\n",
    "# Packages\n",
    "import os,sys,time\n",
    "import numpy as np\n",
    "import pandas as pd\n",
    "import rioxarray as rxr\n",
    "import rasterio\n",
    "\n",
    "# Globals\n",
    "\n",
    "rois = ['srme','wrnf']\n",
    "\n",
    "blocks = 'spatial_block_grid_w_attr.gpkg'\n",
    "block_ids = blocks.grid_id\n",
    "\n",
    "# Target grid (resampled 10-meter map using maximum resampling)\n",
    "tests = [\n",
    "    's2aspen_prob_10m_binOpt_srme.tif',\n",
    "    's2aspen_prob_10m_binOpt_wrnf.tif'\n",
    "]\n",
    "\n",
    "# Reference grids (binary, matched)\n",
    "refs = [\n",
    "    'lc16_evt_200_bin_srme_10m.tif',\n",
    "    'lc16_evt_200_bin_wrnf_10m.tif',\n",
    "    'usfs_treemap16_bin_srme_10m.tif',\n",
    "    'usfs_treemap16_bin_wrnf_10m.tif',\n",
    "    'usfs_itsp_aspen_ba_gt10_srme_10m.tif',\n",
    "    'usfs_itsp_aspen_ba_gt10_wrnf_10m.tif'\n",
    "]\n",
    "\n",
    "# Functions\n",
    "\n",
    "def blockmax(inarr, blocksize):\n",
    "    n = blocksize  # Height of window\n",
    "    m = blocksize  # Width of window\n",
    "    modulo = inarr.shape[0] % blocksize\n",
    "    if modulo > 0:\n",
    "        padby = blocksize - modulo\n",
    "        inarr_pad = np.pad(inarr, ((0, padby), (0, 0)), mode='constant', constant_values=0)\n",
    "    else:\n",
    "        inarr_pad = inarr\n",
    "    modulo = inarr.shape[1] % blocksize\n",
    "    if modulo > 0:\n",
    "        padby = blocksize - modulo\n",
    "        inarr_pad = np.pad(inarr_pad, ((0, 0), (0, padby)), mode='constant', constant_values=0)\n",
    "    k = int(inarr_pad.shape[0] / n)  # Must divide evenly\n",
    "    l = int(inarr_pad.shape[1] / m)  # Must divide evenly\n",
    "    inarr_pad_blockmax = inarr_pad.reshape(k, n, l, m).max(axis=(-1, -3))  # Numpy >= 1.7.1\n",
    "    return inarr_pad_blockmax\n",
    "\n",
    "print(\"Complete\")"
   ]
  },
  {
   "cell_type": "code",
   "execution_count": 5,
   "id": "80f025c1-5a21-4dee-9d37-5ada71a71ad0",
   "metadata": {
    "tags": []
   },
   "outputs": [
    {
     "name": "stdout",
     "output_type": "stream",
     "text": [
      "s2aspen_prob_10m_binOpt_srme.tif\n",
      "['lc16_evt_200_bin_srme_10m.tif', 'usfs_treemap16_bin_srme_10m.tif', 'usfs_itsp_aspen_ba_gt10_srme_10m.tif']\n",
      "lc16_evt_200_bin_srme_10m.tif\n",
      "Ref and Test match ...\n",
      "usfs_treemap16_bin_srme_10m.tif\n",
      "Ref and Test match ...\n",
      "usfs_itsp_aspen_ba_gt10_srme_10m.tif\n",
      "Ref and Test match ...\n",
      "s2aspen_prob_10m_binOpt_wrnf.tif\n",
      "['lc16_evt_200_bin_wrnf_10m.tif', 'usfs_treemap16_bin_wrnf_10m.tif', 'usfs_itsp_aspen_ba_gt10_wrnf_10m.tif']\n",
      "lc16_evt_200_bin_wrnf_10m.tif\n",
      "Ref and Test match ...\n",
      "usfs_treemap16_bin_wrnf_10m.tif\n",
      "Ref and Test match ...\n",
      "usfs_itsp_aspen_ba_gt10_wrnf_10m.tif\n",
      "Ref and Test match ...\n"
     ]
    }
   ],
   "source": [
    "# Check the dimensions of the input data to ensure they match\n",
    "# Loop through ROIs\n",
    "for i in range(len(rois)):\n",
    "\n",
    "    roi = rois[i]\n",
    "\n",
    "    test_file_paths = [test for test in tests if str(roi)+\".tif\" in test]\n",
    "    print(test_file_paths[0])\n",
    "    test = rxr.open_rasterio(test_file_paths[0], cache=False).squeeze()\n",
    "\n",
    "    ref_file_paths = [ref for ref in refs if str(roi)+\"_10m.tif\" in ref]\n",
    "    print(ref_file_paths)\n",
    "\n",
    "    # Check that they match with the aspen surfaces\n",
    "\n",
    "    for ref in ref_file_paths:\n",
    "        print(os.path.basename(ref))\n",
    "\n",
    "        ref_ = rxr.open_rasterio(ref_file_paths[0], cache=False).squeeze()\n",
    "\n",
    "        if test.rio.resolution() == ref_.rio.resolution() and \\\n",
    "                test.rio.bounds() == ref_.rio.bounds() and \\\n",
    "                test.shape == ref_.shape:\n",
    "\n",
    "            print(\"Ref and Test match ...\")\n",
    "\n",
    "            del ref_\n",
    "\n",
    "        else:\n",
    "            print(\"Mismatch between ref and test ...\")\n",
    "\n",
    "            print(f\"Shape of test: {test.shape}\\nBounds of ref: {ref_.shape}\")\n",
    "            print(f\"Resolution of test: {test.rio.resolution()}\\nResolution of ref: {ref_.rio.resolution()}\")\n",
    "            print(f\"Bounds of test: {test.rio.bounds()}\\nBounds of ref: {ref_.rio.bounds()}\")\n",
    "\n",
    "            del ref_\n",
    "\n",
    "            print(f\"Matching reference image to test image for {os.path.basename(ref)}\")\n",
    "            img = rxr.open_rasterio(ref,masked=True,cache=False).squeeze()\n",
    "            img = img.fillna(0).astype(np.uint16)\n",
    "            img_match = img.rio.reproject_match(test)\n",
    "            out_path = ref[:-4]+\".tif\"\n",
    "            print(out_path)\n",
    "            img_match.rio.to_raster(\n",
    "                out_path, tiled=True, lock=threading.Lock(), windowed=True,\n",
    "                compress='zstd', zstd_level=9, num_threads='all_cpus',\n",
    "                dtype='uint16', driver='GTiff'\n",
    "            )\n",
    "\n",
    "            del img, img_match\n",
    "\n",
    "    del test, ref"
   ]
  },
  {
   "cell_type": "code",
   "execution_count": null,
   "id": "e66a7bdf-5150-48d5-a9ef-e3eb3403964e",
   "metadata": {
    "tags": []
   },
   "outputs": [
    {
     "name": "stdout",
     "output_type": "stream",
     "text": [
      "Starting for srme\n",
      "s2aspen_prob_10m_binOpt_srme.tif\n",
      "['lc16_evt_200_bin_srme_10m.tif', 'usfs_treemap16_bin_srme_10m.tif', 'usfs_itsp_aspen_ba_gt10_srme_10m.tif']\n"
     ]
    },
    {
     "name": "stderr",
     "output_type": "stream",
     "text": [
      "/opt/conda/lib/python3.10/site-packages/xarray/core/duck_array_ops.py:188: RuntimeWarning: invalid value encountered in cast\n",
      "  return data.astype(dtype, **kwargs)\n"
     ]
    },
    {
     "name": "stdout",
     "output_type": "stream",
     "text": [
      "lc16_evt_200_bin_srme_10m\n"
     ]
    },
    {
     "name": "stderr",
     "output_type": "stream",
     "text": [
      "/opt/conda/lib/python3.10/site-packages/xarray/core/duck_array_ops.py:188: RuntimeWarning: invalid value encountered in cast\n",
      "  return data.astype(dtype, **kwargs)\n"
     ]
    },
    {
     "name": "stdout",
     "output_type": "stream",
     "text": [
      "Blocksize 1: Reference - (95434, 64152), Test - (95434, 64152)\n",
      "Creating data frame\n",
      "1 66152230 28649723 70613507\n"
     ]
    },
    {
     "name": "stderr",
     "output_type": "stream",
     "text": [
      "/opt/conda/lib/python3.10/site-packages/xarray/core/duck_array_ops.py:188: RuntimeWarning: invalid value encountered in cast\n",
      "  return data.astype(dtype, **kwargs)\n"
     ]
    },
    {
     "name": "stdout",
     "output_type": "stream",
     "text": [
      "Blocksize 3: Reference - (31812, 21384), Test - (31812, 21384)\n",
      "Creating data frame\n",
      "3 9757363 6922237 5438830\n"
     ]
    },
    {
     "name": "stderr",
     "output_type": "stream",
     "text": [
      "/opt/conda/lib/python3.10/site-packages/xarray/core/duck_array_ops.py:188: RuntimeWarning: invalid value encountered in cast\n",
      "  return data.astype(dtype, **kwargs)\n"
     ]
    },
    {
     "name": "stdout",
     "output_type": "stream",
     "text": [
      "usfs_treemap16_bin_srme_10m\n"
     ]
    },
    {
     "name": "stderr",
     "output_type": "stream",
     "text": [
      "/opt/conda/lib/python3.10/site-packages/xarray/core/duck_array_ops.py:188: RuntimeWarning: invalid value encountered in cast\n",
      "  return data.astype(dtype, **kwargs)\n"
     ]
    },
    {
     "name": "stdout",
     "output_type": "stream",
     "text": [
      "Blocksize 1: Reference - (95434, 64152), Test - (95434, 64152)\n",
      "Creating data frame\n",
      "1 64324769 30477184 82739527\n"
     ]
    },
    {
     "name": "stderr",
     "output_type": "stream",
     "text": [
      "/opt/conda/lib/python3.10/site-packages/xarray/core/duck_array_ops.py:188: RuntimeWarning: invalid value encountered in cast\n",
      "  return data.astype(dtype, **kwargs)\n"
     ]
    },
    {
     "name": "stdout",
     "output_type": "stream",
     "text": [
      "Blocksize 3: Reference - (31812, 21384), Test - (31812, 21384)\n",
      "Creating data frame\n",
      "3 11275668 5403932 12984119\n"
     ]
    },
    {
     "name": "stderr",
     "output_type": "stream",
     "text": [
      "/opt/conda/lib/python3.10/site-packages/xarray/core/duck_array_ops.py:188: RuntimeWarning: invalid value encountered in cast\n",
      "  return data.astype(dtype, **kwargs)\n"
     ]
    },
    {
     "name": "stdout",
     "output_type": "stream",
     "text": [
      "usfs_itsp_aspen_ba_gt10_srme_10m\n"
     ]
    },
    {
     "name": "stderr",
     "output_type": "stream",
     "text": [
      "/opt/conda/lib/python3.10/site-packages/xarray/core/duck_array_ops.py:188: RuntimeWarning: invalid value encountered in cast\n",
      "  return data.astype(dtype, **kwargs)\n"
     ]
    },
    {
     "name": "stdout",
     "output_type": "stream",
     "text": [
      "Blocksize 1: Reference - (95434, 64152), Test - (95434, 64152)\n",
      "Creating data frame\n",
      "1 70373384 24428569 139270780\n"
     ]
    },
    {
     "name": "stderr",
     "output_type": "stream",
     "text": [
      "/opt/conda/lib/python3.10/site-packages/xarray/core/duck_array_ops.py:188: RuntimeWarning: invalid value encountered in cast\n",
      "  return data.astype(dtype, **kwargs)\n"
     ]
    },
    {
     "name": "stdout",
     "output_type": "stream",
     "text": [
      "Blocksize 3: Reference - (31812, 21384), Test - (31812, 21384)\n",
      "Creating data frame\n",
      "3 11135165 5544435 12158631\n",
      "Starting for wrnf\n",
      "s2aspen_prob_10m_binOpt_wrnf.tif\n",
      "['lc16_evt_200_bin_wrnf_10m.tif', 'usfs_treemap16_bin_wrnf_10m.tif', 'usfs_itsp_aspen_ba_gt10_wrnf_10m.tif']\n"
     ]
    },
    {
     "name": "stderr",
     "output_type": "stream",
     "text": [
      "/opt/conda/lib/python3.10/site-packages/xarray/core/duck_array_ops.py:188: RuntimeWarning: invalid value encountered in cast\n",
      "  return data.astype(dtype, **kwargs)\n"
     ]
    },
    {
     "name": "stdout",
     "output_type": "stream",
     "text": [
      "lc16_evt_200_bin_wrnf_10m\n"
     ]
    },
    {
     "name": "stderr",
     "output_type": "stream",
     "text": [
      "/opt/conda/lib/python3.10/site-packages/xarray/core/duck_array_ops.py:188: RuntimeWarning: invalid value encountered in cast\n",
      "  return data.astype(dtype, **kwargs)\n"
     ]
    },
    {
     "name": "stdout",
     "output_type": "stream",
     "text": [
      "Blocksize 1: Reference - (95434, 64152), Test - (95434, 64152)\n",
      "Creating data frame\n",
      "1 12023638 4549761 8149052\n"
     ]
    },
    {
     "name": "stderr",
     "output_type": "stream",
     "text": [
      "/opt/conda/lib/python3.10/site-packages/xarray/core/duck_array_ops.py:188: RuntimeWarning: invalid value encountered in cast\n",
      "  return data.astype(dtype, **kwargs)\n"
     ]
    },
    {
     "name": "stdout",
     "output_type": "stream",
     "text": [
      "Blocksize 3: Reference - (31812, 21384), Test - (31812, 21384)\n",
      "Creating data frame\n",
      "3 1688776 1026049 552634\n"
     ]
    },
    {
     "name": "stderr",
     "output_type": "stream",
     "text": [
      "/opt/conda/lib/python3.10/site-packages/xarray/core/duck_array_ops.py:188: RuntimeWarning: invalid value encountered in cast\n",
      "  return data.astype(dtype, **kwargs)\n"
     ]
    },
    {
     "name": "stdout",
     "output_type": "stream",
     "text": [
      "usfs_treemap16_bin_wrnf_10m\n"
     ]
    },
    {
     "name": "stderr",
     "output_type": "stream",
     "text": [
      "/opt/conda/lib/python3.10/site-packages/xarray/core/duck_array_ops.py:188: RuntimeWarning: invalid value encountered in cast\n",
      "  return data.astype(dtype, **kwargs)\n"
     ]
    },
    {
     "name": "stdout",
     "output_type": "stream",
     "text": [
      "Blocksize 1: Reference - (95434, 64152), Test - (95434, 64152)\n",
      "Creating data frame\n",
      "1 11900264 4673135 9429907\n"
     ]
    },
    {
     "name": "stderr",
     "output_type": "stream",
     "text": [
      "/opt/conda/lib/python3.10/site-packages/xarray/core/duck_array_ops.py:188: RuntimeWarning: invalid value encountered in cast\n",
      "  return data.astype(dtype, **kwargs)\n"
     ]
    },
    {
     "name": "stdout",
     "output_type": "stream",
     "text": [
      "Blocksize 3: Reference - (31812, 21384), Test - (31812, 21384)\n",
      "Creating data frame\n",
      "3 1912430 802395 1014854\n"
     ]
    },
    {
     "name": "stderr",
     "output_type": "stream",
     "text": [
      "/opt/conda/lib/python3.10/site-packages/xarray/core/duck_array_ops.py:188: RuntimeWarning: invalid value encountered in cast\n",
      "  return data.astype(dtype, **kwargs)\n"
     ]
    },
    {
     "name": "stdout",
     "output_type": "stream",
     "text": [
      "usfs_itsp_aspen_ba_gt10_wrnf_10m\n"
     ]
    },
    {
     "name": "stderr",
     "output_type": "stream",
     "text": [
      "/opt/conda/lib/python3.10/site-packages/xarray/core/duck_array_ops.py:188: RuntimeWarning: invalid value encountered in cast\n",
      "  return data.astype(dtype, **kwargs)\n"
     ]
    },
    {
     "name": "stdout",
     "output_type": "stream",
     "text": [
      "Blocksize 1: Reference - (95434, 64152), Test - (95434, 64152)\n",
      "Creating data frame\n",
      "1 12923739 3649660 14298372\n"
     ]
    },
    {
     "name": "stderr",
     "output_type": "stream",
     "text": [
      "/opt/conda/lib/python3.10/site-packages/xarray/core/duck_array_ops.py:188: RuntimeWarning: invalid value encountered in cast\n",
      "  return data.astype(dtype, **kwargs)\n"
     ]
    }
   ],
   "source": [
    "# Run the workflow for each ROI\n",
    "\n",
    "begin = time.time()\n",
    "\n",
    "for roi in rois:\n",
    "\n",
    "    print(f\"Starting for {roi}\")\n",
    "\n",
    "    # Load the test image\n",
    "    test_path = [test for test in tests if str(roi)+\".tif\" in test]\n",
    "    print(test_path[0])\n",
    "\n",
    "    file_paths = [ref for ref in refs if str(roi)+\"_10m.tif\" in ref]\n",
    "    print(file_paths)\n",
    "\n",
    "    # Loop through reference images\n",
    "    out_refs = []\n",
    "    for ref_tif in file_paths:\n",
    "\n",
    "        test_arr = rxr.open_rasterio(test_path[0], masked=True, cache=False).astype(rasterio.uint8).squeeze().values\n",
    "        ref_arr = rxr.open_rasterio(ref_tif, masked=True, cache=False).astype(rasterio.uint8).squeeze().values\n",
    "\n",
    "        name = os.path.basename(ref_tif)[:-4]\n",
    "        print(name)\n",
    "\n",
    "        blocksizes = [1, 3]  # block sizes (in pixel) used as analytical units.\n",
    "\n",
    "        outdata = []\n",
    "        for blocksize in blocksizes:\n",
    "\n",
    "            if blocksize > 1:\n",
    "                arr_ref_res = blockmax(ref_arr, blocksize)\n",
    "                arr_test_res = blockmax(test_arr, blocksize)\n",
    "            else:\n",
    "                arr_ref_res = ref_arr\n",
    "                arr_test_res = test_arr\n",
    "\n",
    "            # Free up some space\n",
    "            del ref_arr\n",
    "\n",
    "            # Print the shapes for debugging\n",
    "            print(\n",
    "                f\"Blocksize {blocksize}: Reference - {arr_ref_res.shape}, Test - {arr_test_res.shape}\")\n",
    "\n",
    "            print(\"Creating data frame\")\n",
    "\n",
    "            # Check if the reshaped arrays have the same shape\n",
    "            if arr_ref_res.shape != arr_test_res.shape:\n",
    "                raise ValueError(\n",
    "                    f\"Reference and test arrays have different shapes: {arr_ref_res.shape} vs {arr_test_res.shape}\")\n",
    "\n",
    "            currdf = pd.DataFrame({\n",
    "                'ref': arr_ref_res.flatten(),\n",
    "                'test': arr_test_res.flatten()\n",
    "            })\n",
    "\n",
    "            # Free up some more space\n",
    "            del arr_ref_res, arr_test_res\n",
    "\n",
    "            currdf = currdf[-np.logical_and(currdf.ref == 0, currdf.test == 0)]\n",
    "            tp = len(currdf[np.logical_and(currdf.ref == 1, currdf.test == 1)])\n",
    "            fp = len(currdf[np.logical_and(currdf.ref == 0, currdf.test == 1)])\n",
    "            fn = len(currdf[np.logical_and(currdf.ref == 1, currdf.test == 0)])\n",
    "            print(blocksize, tp, fp, fn)\n",
    "            outdata.append([blocksize, tp, fp, fn])\n",
    "\n",
    "        del test_arr\n",
    "\n",
    "        outdatadf = pd.DataFrame(outdata, columns=['blocksize', 'tp', 'fp', 'fn'])\n",
    "        outdatadf['prec'] = outdatadf.tp / (outdatadf.tp + outdatadf.fp).astype(np.float64)\n",
    "        outdatadf['rec'] = outdatadf.tp / (outdatadf.tp + outdatadf.fn).astype(np.float64)\n",
    "        outdatadf['source'] = name\n",
    "        outdatadf.to_csv(f'global_accmeas_multi_blocks_{name}.csv',index=False)\n",
    "        out_refs.append(outdatadf)\n",
    "        outdata = []\n",
    "\n",
    "    # Bind the results together for plotting\n",
    "    outdfs = pd.concat(out_refs).reset_index(drop=True)\n",
    "    outdfs.to_csv(f\"global_accmeas_multi_blocks_full_{roi}.csv\", index=False)\n",
    "\n",
    "print(\"Complete!\")\n",
    "\n",
    "print(time.time() - begin)"
   ]
  }
 ],
 "metadata": {
  "kernelspec": {
   "display_name": "Python 3 (ipykernel)",
   "language": "python",
   "name": "python3"
  },
  "language_info": {
   "codemirror_mode": {
    "name": "ipython",
    "version": 3
   },
   "file_extension": ".py",
   "mimetype": "text/x-python",
   "name": "python",
   "nbconvert_exporter": "python",
   "pygments_lexer": "ipython3",
   "version": "3.10.12"
  }
 },
 "nbformat": 4,
 "nbformat_minor": 5
}
