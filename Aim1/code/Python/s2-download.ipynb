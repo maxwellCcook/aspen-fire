{
 "cells": [
  {
   "cell_type": "code",
   "execution_count": 4,
   "id": "83702332-73fa-4a94-a967-03ccc208f31f",
   "metadata": {},
   "outputs": [
    {
     "name": "stdout",
     "output_type": "stream",
     "text": [
      "Success ...\n"
     ]
    }
   ],
   "source": [
    "# Import Librariesimport os\n",
    "import numpy as np\n",
    "import matplotlib.pyplot as plt\n",
    "from pystac_client import Client\n",
    "print(\"Success ...\")"
   ]
  },
  {
   "cell_type": "code",
   "execution_count": 7,
   "id": "675ec819-791f-4e66-9c4f-57e03e1b17f8",
   "metadata": {},
   "outputs": [
    {
     "name": "stdout",
     "output_type": "stream",
     "text": [
      "Connected to the STAC API endpoint ...\n"
     ]
    }
   ],
   "source": [
    "# Open access to the API\n",
    "api_url = \"https://earth-search.aws.element84.com/v0\"\n",
    "client = Client.open(api_url)\n",
    "print(\"Connected to the STAC API endpoint ...\")"
   ]
  },
  {
   "cell_type": "code",
   "execution_count": null,
   "id": "38357ae4-6adc-44a7-adfe-ca348430a9f7",
   "metadata": {},
   "outputs": [],
   "source": [
    "# Request access to the Sentinel-2, Level 2A, COGs for Steamboat Lake State Park\n",
    "collection = \"sentinel-s2-l2a-cogs\"\n"
   ]
  }
 ],
 "metadata": {
  "kernelspec": {
   "display_name": "geoenv",
   "language": "python",
   "name": "geoenv"
  },
  "language_info": {
   "codemirror_mode": {
    "name": "ipython",
    "version": 3
   },
   "file_extension": ".py",
   "mimetype": "text/x-python",
   "name": "python",
   "nbconvert_exporter": "python",
   "pygments_lexer": "ipython3",
   "version": "3.10.6"
  }
 },
 "nbformat": 4,
 "nbformat_minor": 5
}
