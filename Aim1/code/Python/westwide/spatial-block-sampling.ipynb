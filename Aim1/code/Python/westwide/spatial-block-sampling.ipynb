{
 "cells": [
  {
   "cell_type": "markdown",
   "id": "ce574b6d-828c-4b02-86a8-27df0071786d",
   "metadata": {},
   "source": [
    "## Prepare the Spatial Block Grid and Training Samples for Westwide Ecoregions\n",
    "\n"
   ]
  },
  {
   "cell_type": "code",
   "execution_count": null,
   "id": "917111a3-9f6d-42bd-be03-079be76fef45",
   "metadata": {},
   "outputs": [],
   "source": [
    "\"\"\"\n",
    "\"\"\"\n",
    "\n",
    "# Imports\n",
    "\n",
    "# Environment variables\n",
    "\n",
    "print(\"Success!\")"
   ]
  },
  {
   "cell_type": "code",
   "execution_count": null,
   "id": "54a5dc3d-7153-4448-a263-4f1e99fc7be4",
   "metadata": {},
   "outputs": [],
   "source": []
  }
 ],
 "metadata": {
  "kernelspec": {
   "display_name": "aspen-fire",
   "language": "python",
   "name": "aspen-fire"
  },
  "language_info": {
   "codemirror_mode": {
    "name": "ipython",
    "version": 3
   },
   "file_extension": ".py",
   "mimetype": "text/x-python",
   "name": "python",
   "nbconvert_exporter": "python",
   "pygments_lexer": "ipython3",
   "version": "3.10.12"
  }
 },
 "nbformat": 4,
 "nbformat_minor": 5
}
