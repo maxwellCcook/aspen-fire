{
 "cells": [
  {
   "cell_type": "code",
   "execution_count": 1,
   "id": "c681f7fc-3b4e-48fb-a7e3-ea1cb9f91b69",
   "metadata": {},
   "outputs": [
    {
     "name": "stdout",
     "output_type": "stream",
     "text": [
      "Success\n"
     ]
    },
    {
     "name": "stderr",
     "output_type": "stream",
     "text": [
      "*** Earth Engine *** Share your feedback by taking our Annual Developer Satisfaction Survey: https://google.qualtrics.com/jfe/form/SV_0JLhFqfSY1uiEaW?source=Init\n"
     ]
    }
   ],
   "source": [
    "\"\"\"\n",
    "Summarizing Sentinel-2 fuel metrics in AFD\n",
    "Author: maxwell.cook@colorado.edu\n",
    "\"\"\"\n",
    "\n",
    "import ee\n",
    "import geemap\n",
    "import time\n",
    "\n",
    "ee.Authenticate()\n",
    "\n",
    "ee.Initialize(project='jfsp-aspen')\n",
    "\n",
    "print(\"Success\")"
   ]
  },
  {
   "cell_type": "code",
   "execution_count": 2,
   "id": "53cf4ea2-44ee-4acf-9539-ad12b1006313",
   "metadata": {},
   "outputs": [
    {
     "data": {
      "text/html": [
       "\n",
       "            <style>\n",
       "                .geemap-dark {\n",
       "                    --jp-widgets-color: white;\n",
       "                    --jp-widgets-label-color: white;\n",
       "                    --jp-ui-font-color1: white;\n",
       "                    --jp-layout-color2: #454545;\n",
       "                    background-color: #383838;\n",
       "                }\n",
       "\n",
       "                .geemap-dark .jupyter-button {\n",
       "                    --jp-layout-color3: #383838;\n",
       "                }\n",
       "\n",
       "                .geemap-colab {\n",
       "                    background-color: var(--colab-primary-surface-color, white);\n",
       "                }\n",
       "\n",
       "                .geemap-colab .jupyter-button {\n",
       "                    --jp-layout-color3: var(--colab-primary-surface-color, white);\n",
       "                }\n",
       "            </style>\n",
       "            "
      ],
      "text/plain": [
       "<IPython.core.display.HTML object>"
      ]
     },
     "metadata": {},
     "output_type": "display_data"
    },
    {
     "name": "stdout",
     "output_type": "stream",
     "text": [
      "Functions ready!\n"
     ]
    }
   ],
   "source": [
    "def monitor_gee_export(task, sleep=30):\n",
    "    \"\"\" Monitors EE export task \"\"\"\n",
    "    while task.active():\n",
    "        print('Waiting for export to finish..\\n\\tPatience young padawan.')\n",
    "        time.sleep(sleep)  # Check every 30 seconds\n",
    "    \n",
    "    # Get the status of the task\n",
    "    status = task.status()\n",
    "    \n",
    "    # Check if the task failed or succeeded\n",
    "    if status['state'] == 'COMPLETED':\n",
    "        print(\"Export completed successfully !!!!\")\n",
    "    elif status['state'] == 'FAILED':\n",
    "        print(f\"Export failed! Bummer. Reason: {status.get('error_message', 'Unknown error')}\")\n",
    "    else:\n",
    "        print(f\"Export ended with state: {status['state']}\")\n",
    "\n",
    "print(\"Functions ready!\")"
   ]
  },
  {
   "cell_type": "code",
   "execution_count": null,
   "id": "79532c53-6234-412a-99b1-71a21a212bd0",
   "metadata": {},
   "outputs": [],
   "source": []
  },
  {
   "cell_type": "code",
   "execution_count": 3,
   "id": "c29e9a5e-1dee-43e8-b1e8-778128b6269d",
   "metadata": {},
   "outputs": [
    {
     "data": {
      "text/html": [
       "\n",
       "            <style>\n",
       "                .geemap-dark {\n",
       "                    --jp-widgets-color: white;\n",
       "                    --jp-widgets-label-color: white;\n",
       "                    --jp-ui-font-color1: white;\n",
       "                    --jp-layout-color2: #454545;\n",
       "                    background-color: #383838;\n",
       "                }\n",
       "\n",
       "                .geemap-dark .jupyter-button {\n",
       "                    --jp-layout-color3: #383838;\n",
       "                }\n",
       "\n",
       "                .geemap-colab {\n",
       "                    background-color: var(--colab-primary-surface-color, white);\n",
       "                }\n",
       "\n",
       "                .geemap-colab .jupyter-button {\n",
       "                    --jp-layout-color3: var(--colab-primary-surface-color, white);\n",
       "                }\n",
       "            </style>\n",
       "            "
      ],
      "text/plain": [
       "<IPython.core.display.HTML object>"
      ]
     },
     "metadata": {},
     "output_type": "display_data"
    }
   ],
   "source": [
    "# Calculate statistics in AFD observations"
   ]
  },
  {
   "cell_type": "code",
   "execution_count": 4,
   "id": "8fb9f13b-f825-4c8e-b4d7-de101d011f2a",
   "metadata": {},
   "outputs": [
    {
     "data": {
      "text/html": [
       "\n",
       "            <style>\n",
       "                .geemap-dark {\n",
       "                    --jp-widgets-color: white;\n",
       "                    --jp-widgets-label-color: white;\n",
       "                    --jp-ui-font-color1: white;\n",
       "                    --jp-layout-color2: #454545;\n",
       "                    background-color: #383838;\n",
       "                }\n",
       "\n",
       "                .geemap-dark .jupyter-button {\n",
       "                    --jp-layout-color3: #383838;\n",
       "                }\n",
       "\n",
       "                .geemap-colab {\n",
       "                    background-color: var(--colab-primary-surface-color, white);\n",
       "                }\n",
       "\n",
       "                .geemap-colab .jupyter-button {\n",
       "                    --jp-layout-color3: var(--colab-primary-surface-color, white);\n",
       "                }\n",
       "            </style>\n",
       "            "
      ],
      "text/plain": [
       "<IPython.core.display.HTML object>"
      ]
     },
     "metadata": {},
     "output_type": "display_data"
    }
   ],
   "source": [
    "# Load the exported asset from above\n",
    "s2metrics = ee.Image('projects/jfsp-aspen/assets/afd_aspen_fires_S2metrics_mosaic')"
   ]
  },
  {
   "cell_type": "code",
   "execution_count": 5,
   "id": "7ab7e5a7-4e39-4b94-afeb-da7508684960",
   "metadata": {},
   "outputs": [
    {
     "data": {
      "text/html": [
       "\n",
       "            <style>\n",
       "                .geemap-dark {\n",
       "                    --jp-widgets-color: white;\n",
       "                    --jp-widgets-label-color: white;\n",
       "                    --jp-ui-font-color1: white;\n",
       "                    --jp-layout-color2: #454545;\n",
       "                    background-color: #383838;\n",
       "                }\n",
       "\n",
       "                .geemap-dark .jupyter-button {\n",
       "                    --jp-layout-color3: #383838;\n",
       "                }\n",
       "\n",
       "                .geemap-colab {\n",
       "                    background-color: var(--colab-primary-surface-color, white);\n",
       "                }\n",
       "\n",
       "                .geemap-colab .jupyter-button {\n",
       "                    --jp-layout-color3: var(--colab-primary-surface-color, white);\n",
       "                }\n",
       "            </style>\n",
       "            "
      ],
      "text/plain": [
       "<IPython.core.display.HTML object>"
      ]
     },
     "metadata": {},
     "output_type": "display_data"
    },
    {
     "name": "stdout",
     "output_type": "stream",
     "text": [
      "['Fire_ID', 'acq_date', 'daynight', 'Ig_Date', 'Last_Date', 'afdID', 'system:index']\n"
     ]
    }
   ],
   "source": [
    "afds = ee.FeatureCollection('projects/jfsp-aspen/assets/AFD/vnp14img_geo_srm_pix_area_aspenfires')\n",
    "print(afds.first().propertyNames().getInfo())"
   ]
  },
  {
   "cell_type": "code",
   "execution_count": 7,
   "id": "e46c07c1-a88c-4c1b-b375-ec635af4e820",
   "metadata": {},
   "outputs": [
    {
     "data": {
      "text/html": [
       "\n",
       "            <style>\n",
       "                .geemap-dark {\n",
       "                    --jp-widgets-color: white;\n",
       "                    --jp-widgets-label-color: white;\n",
       "                    --jp-ui-font-color1: white;\n",
       "                    --jp-layout-color2: #454545;\n",
       "                    background-color: #383838;\n",
       "                }\n",
       "\n",
       "                .geemap-dark .jupyter-button {\n",
       "                    --jp-layout-color3: #383838;\n",
       "                }\n",
       "\n",
       "                .geemap-colab {\n",
       "                    background-color: var(--colab-primary-surface-color, white);\n",
       "                }\n",
       "\n",
       "                .geemap-colab .jupyter-button {\n",
       "                    --jp-layout-color3: var(--colab-primary-surface-color, white);\n",
       "                }\n",
       "            </style>\n",
       "            "
      ],
      "text/plain": [
       "<IPython.core.display.HTML object>"
      ]
     },
     "metadata": {},
     "output_type": "display_data"
    },
    {
     "name": "stdout",
     "output_type": "stream",
     "text": [
      "Submitted !\n"
     ]
    }
   ],
   "source": [
    "# Simplify the feature collection properties.\n",
    "afds = afds.select(['afdID'])\n",
    "\n",
    "# Perform the reductions.\n",
    "\n",
    "mean_med_stdDev = ee.Reducer.mean().combine(\n",
    "    reducer2=ee.Reducer.stdDev(), sharedInputs=True).combine(\n",
    "    reducer2=ee.Reducer.median(), sharedInputs=True)\n",
    "\n",
    "# Perform the reduction by AFD observations\n",
    "s2_stats = s2metrics.reduceRegions(\n",
    "    collection=afds,\n",
    "    reducer=mean_med_stdDev, # Mean and Standard Deviation CBI, CBI_bc, rbr\n",
    "    scale=30\n",
    ")\n",
    "\n",
    "print(\"Submitted !\")"
   ]
  },
  {
   "cell_type": "code",
   "execution_count": 8,
   "id": "16a68690-6889-490a-b435-6488a6c44468",
   "metadata": {},
   "outputs": [
    {
     "data": {
      "text/html": [
       "\n",
       "            <style>\n",
       "                .geemap-dark {\n",
       "                    --jp-widgets-color: white;\n",
       "                    --jp-widgets-label-color: white;\n",
       "                    --jp-ui-font-color1: white;\n",
       "                    --jp-layout-color2: #454545;\n",
       "                    background-color: #383838;\n",
       "                }\n",
       "\n",
       "                .geemap-dark .jupyter-button {\n",
       "                    --jp-layout-color3: #383838;\n",
       "                }\n",
       "\n",
       "                .geemap-colab {\n",
       "                    background-color: var(--colab-primary-surface-color, white);\n",
       "                }\n",
       "\n",
       "                .geemap-colab .jupyter-button {\n",
       "                    --jp-layout-color3: var(--colab-primary-surface-color, white);\n",
       "                }\n",
       "            </style>\n",
       "            "
      ],
      "text/plain": [
       "<IPython.core.display.HTML object>"
      ]
     },
     "metadata": {},
     "output_type": "display_data"
    },
    {
     "name": "stdout",
     "output_type": "stream",
     "text": [
      "Export to Earth Engine Asset started!\n",
      "Waiting for export to finish..\n",
      "\tPatience young padawan.\n",
      "Export completed successfully !!!!\n"
     ]
    }
   ],
   "source": [
    "# Export the table. \n",
    "s2_stats = s2_stats.map(lambda feature: feature.setGeometry(None)) # drop geometry column\n",
    "\n",
    "export_task = ee.batch.Export.table.toDrive(\n",
    "    collection=s2_stats,\n",
    "    description='vn14img_s2-lai-evi-mndwi',\n",
    "    fileFormat='CSV', \n",
    "    fileNamePrefix='vn14img_s2-lai-evi-mndwi',\n",
    "    folder='S2'\n",
    ")\n",
    "\n",
    "# Start the export task\n",
    "export_task.start()\n",
    "print(\"Export to Earth Engine Asset started!\")\n",
    "# Monitor the task until it's finished\n",
    "monitor_gee_export(export_task, 120) # print every 2 min"
   ]
  },
  {
   "cell_type": "code",
   "execution_count": null,
   "id": "9bafe9d1-2157-4ad8-8e81-88021c0d94d2",
   "metadata": {},
   "outputs": [],
   "source": []
  },
  {
   "cell_type": "code",
   "execution_count": null,
   "id": "50ada8aa-75af-4eab-9969-e3251944d371",
   "metadata": {},
   "outputs": [],
   "source": []
  }
 ],
 "metadata": {
  "kernelspec": {
   "display_name": "aspen-fire",
   "language": "python",
   "name": "aspen-fire"
  },
  "language_info": {
   "codemirror_mode": {
    "name": "ipython",
    "version": 3
   },
   "file_extension": ".py",
   "mimetype": "text/x-python",
   "name": "python",
   "nbconvert_exporter": "python",
   "pygments_lexer": "ipython3",
   "version": "3.10.12"
  }
 },
 "nbformat": 4,
 "nbformat_minor": 5
}
