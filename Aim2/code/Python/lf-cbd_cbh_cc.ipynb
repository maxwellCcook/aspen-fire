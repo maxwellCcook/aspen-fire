{
 "cells": [
  {
   "cell_type": "code",
   "execution_count": 1,
   "id": "daf62736-0bf5-49b2-8454-94fd55028654",
   "metadata": {},
   "outputs": [
    {
     "name": "stdout",
     "output_type": "stream",
     "text": [
      "Complete\n"
     ]
    }
   ],
   "source": [
    "\"\"\"\n",
    "Extract attributes for FRP observations\n",
    "\n",
    "Data sources:\n",
    "- LANDFIRE Canopy Bulk Density (CBD)\n",
    "- LANDFIRE Canopy Base Height (CBH)\n",
    "- LANDFIRE Tree Canopy Cover (TCC)\n",
    "\n",
    "maxwell.cook@colorado.edu\n",
    "\n",
    "\"\"\"\n",
    "\n",
    "import os, time\n",
    "import numpy as np\n",
    "\n",
    "import pandas as pd\n",
    "import geopandas as gpd\n",
    "import rioxarray as rxr\n",
    "import rasterio as rio\n",
    "import matplotlib\n",
    "import matplotlib.pyplot as plt\n",
    "import seaborn as sns\n",
    "\n",
    "from rasterstats import zonal_stats\n",
    "\n",
    "proj = 'EPSG:5070'\n",
    "\n",
    "maindir = '/Users/max/Library/CloudStorage/OneDrive-Personal/mcook/'\n",
    "\n",
    "print(\"Complete\")"
   ]
  },
  {
   "cell_type": "code",
   "execution_count": 2,
   "id": "80e71bd5-4b8d-4837-95c9-77ede920dff3",
   "metadata": {},
   "outputs": [],
   "source": [
    "# Functions\n",
    "\n",
    "# Calculate zonal statistics\n",
    "def calc_zonal_stats(vectors, raster_path, attr, stats=['mean'], categorical=False, geojson_out=True):\n",
    "    begin = time.time()    \n",
    "\n",
    "    # Calculate the zonal mean\n",
    "    zs = zonal_stats(vectors=vectors[['VID','geometry']], raster=raster_path, stats=stats, categorical=categorical, geojson_out=geojson_out)\n",
    "    \n",
    "    # Convert the list of dicts to a DataFrame, extract properties\n",
    "    zs_df = pd.DataFrame(zs)\n",
    "\n",
    "    # Tidy the columns\n",
    "    zs_df['VID'] = zs_df['properties'].apply(lambda x: x.get('VID'))\n",
    "    zs_df['mean'] = zs_df['properties'].apply(lambda x: x.get('mean'))\n",
    "    zs_df = zs_df[['VID','mean']]\n",
    "    zs_df.rename(columns={'mean':f'{attr}_mean'}, inplace=True)\n",
    "\n",
    "    print(zs_df.head())\n",
    "\n",
    "    print(f\"Total elapsed time for the current grid: {round((time.time() - begin))} seconds.\")\n",
    "\n",
    "    del zs\n",
    "    \n",
    "    return pd.DataFrame(zs_df)\n"
   ]
  },
  {
   "cell_type": "markdown",
   "id": "5fadd05d-8705-46e1-b31f-d6635a735161",
   "metadata": {},
   "source": [
    "## Extract LANDFIRE attributes for VIIRS observations\n",
    "\n",
    "We will calculate zonal statistics for LANDFIRE Canopy Bulk Density (CBD), Canopy Base Height (CBH), and tree canopy cover (TCC)."
   ]
  },
  {
   "cell_type": "code",
   "execution_count": 3,
   "id": "2acc37f7-fd25-4d33-bc00-d27c465f79c2",
   "metadata": {},
   "outputs": [
    {
     "name": "stdout",
     "output_type": "stream",
     "text": [
      "      VID   LATITUDE   LONGITUDE   ACQ_DATE ACQ_TIME CONFIDENCE    FRP  \\\n",
      "0  876446  37.507347 -112.675858 2020-11-18     1954          n  24.28   \n",
      "1  876447  37.502945 -112.674408 2020-11-18     1954          n  24.28   \n",
      "2  876448  37.504166 -112.669052 2020-11-18     1954          n  24.28   \n",
      "3  876763  37.512333 -112.681885 2020-11-19     1936          n   7.04   \n",
      "4  876764  37.513638 -112.677109 2020-11-19     1936          n   7.04   \n",
      "\n",
      "  DAYNIGHT fired_id              ig_date  ... mn_grw_km2  mu_grw_km2  \\\n",
      "0        D    44927  2020-11-16 00:00:00  ...   0.214659    4.055308   \n",
      "1        D    44927  2020-11-16 00:00:00  ...   0.214659    4.055308   \n",
      "2        D    44927  2020-11-16 00:00:00  ...   0.214659    4.055308   \n",
      "3        D    44927  2020-11-16 00:00:00  ...   0.214659    4.055308   \n",
      "4        D    44927  2020-11-16 00:00:00  ...   0.214659    4.055308   \n",
      "\n",
      "            mx_grw_dte      ig_utm_x      ig_utm_y     tot_perim  pct_aspen  \\\n",
      "0  2020-11-17 00:00:00  4.167730e+06 -9.943850e+06  60253.252598   8.981698   \n",
      "1  2020-11-17 00:00:00  4.167730e+06 -9.943850e+06  60253.252598   8.981698   \n",
      "2  2020-11-17 00:00:00  4.167730e+06 -9.943850e+06  60253.252598   8.981698   \n",
      "3  2020-11-17 00:00:00  4.167730e+06 -9.943850e+06  60253.252598   8.981698   \n",
      "4  2020-11-17 00:00:00  4.167730e+06 -9.943850e+06  60253.252598   8.981698   \n",
      "\n",
      "   ACQ_MONTH  ACQ_YEAR                                           geometry  \n",
      "0         11      2020  POLYGON ((-1452319.902 1735767.739, -1452319.9...  \n",
      "1         11      2020  POLYGON ((-1452281.003 1735259.817, -1452281.0...  \n",
      "2         11      2020  POLYGON ((-1451795.311 1735312.697, -1451795.3...  \n",
      "3         11      2020  POLYGON ((-1452741.949 1736410.081, -1452741.9...  \n",
      "4         11      2020  POLYGON ((-1452304.669 1736481.068, -1452304.6...  \n",
      "\n",
      "[5 rows x 28 columns]\n"
     ]
    }
   ],
   "source": [
    "# Load the VIIRS 375m observations\n",
    "frp_plots = gpd.read_file(os.path.join(maindir,'aspen-fire/Aim2/data/spatial/mod/VIIRS/viirs_plots_fired_events_west_aspen.gpkg'))\n",
    "print(frp_plots.head())"
   ]
  },
  {
   "cell_type": "code",
   "execution_count": 23,
   "id": "608aeeea-6b95-4af4-98c2-8b4bef4c84bf",
   "metadata": {},
   "outputs": [
    {
     "name": "stdout",
     "output_type": "stream",
     "text": [
      "Processing LC20_CBD_200.tif\n",
      "      VID  CBD_mean                                           geometry\n",
      "0  876446    3.1808  {'type': 'Polygon', 'coordinates': (((-1452319...\n",
      "1  876447    5.1168  {'type': 'Polygon', 'coordinates': (((-1452281...\n",
      "2  876448    5.6992  {'type': 'Polygon', 'coordinates': (((-1451795...\n",
      "3  876763    5.0400  {'type': 'Polygon', 'coordinates': (((-1452741...\n",
      "4  876764    3.4704  {'type': 'Polygon', 'coordinates': (((-1452304...\n",
      "Total elapsed time for the current grid: 392 seconds.\n",
      "Processing LC20_CBH_200.tif\n",
      "      VID  CBH_mean                                           geometry\n",
      "0  876446    8.9424  {'type': 'Polygon', 'coordinates': (((-1452319...\n",
      "1  876447    9.8512  {'type': 'Polygon', 'coordinates': (((-1452281...\n",
      "2  876448    8.7392  {'type': 'Polygon', 'coordinates': (((-1451795...\n",
      "3  876763    3.7440  {'type': 'Polygon', 'coordinates': (((-1452741...\n",
      "4  876764    3.8160  {'type': 'Polygon', 'coordinates': (((-1452304...\n",
      "Total elapsed time for the current grid: 401 seconds.\n",
      "Processing LC20_CC_200.tif\n",
      "      VID  CC_mean                                           geometry\n",
      "0  876446   18.680  {'type': 'Polygon', 'coordinates': (((-1452319...\n",
      "1  876447   27.384  {'type': 'Polygon', 'coordinates': (((-1452281...\n",
      "2  876448   31.528  {'type': 'Polygon', 'coordinates': (((-1451795...\n",
      "3  876763   23.864  {'type': 'Polygon', 'coordinates': (((-1452741...\n",
      "4  876764   17.560  {'type': 'Polygon', 'coordinates': (((-1452304...\n",
      "Total elapsed time for the current grid: 421 seconds.\n",
      "Total elapsed time: 20 minutes\n"
     ]
    }
   ],
   "source": [
    "start = time.time()    \n",
    "\n",
    "# Read in the LANDFIRE layers\n",
    "cbd_path = os.path.join(maindir,'data/landcover/LANDFIRE/LF2020_CBD_200_CONUS/Tif/LC20_CBD_200.tif')\n",
    "cbh_path = os.path.join(maindir,'data/landcover/LANDFIRE/LF2020_CBH_200_CONUS/Tif/LC20_CBH_200.tif')\n",
    "tcc_path = os.path.join(maindir,'data/landcover/LANDFIRE/LF2020_CC_200_CONUS/Tif/LC20_CC_200.tif')\n",
    "\n",
    "lf_paths = [cbd_path, cbh_path, tcc_path]\n",
    "\n",
    "results = []\n",
    "for lf in lf_paths:\n",
    "    print(f'Processing {os.path.basename(lf)}')\n",
    "    name = os.path.basename(lf).split('_')[1]\n",
    "    \n",
    "    # Calculate the zonal statistics\n",
    "    df = calc_zonal_stats(vectors=frp_plots[['VID','geometry']], raster_path=lf, attr=name)\n",
    "    \n",
    "    results.append(df)\n",
    "\n",
    "print(f\"Total elapsed time: {round((time.time() - start)/60)} minutes\")"
   ]
  },
  {
   "cell_type": "code",
   "execution_count": 31,
   "id": "b19b6a06-9142-4d03-9fd6-a2e013d76c47",
   "metadata": {},
   "outputs": [
    {
     "name": "stdout",
     "output_type": "stream",
     "text": [
      "      VID  CBD_mean  CBH_mean  CC_mean\n",
      "0  876446    3.1808    8.9424   18.680\n",
      "1  876447    5.1168    9.8512   27.384\n",
      "2  876448    5.6992    8.7392   31.528\n",
      "3  876763    5.0400    3.7440   23.864\n",
      "4  876764    3.4704    3.8160   17.560\n",
      "65124\n"
     ]
    }
   ],
   "source": [
    "# Merge the results and join back to the FRP data\n",
    "df1 = pd.merge(results[0][['VID','CBD_mean']], results[1][['VID','CBH_mean']], on='VID', how='inner')\n",
    "df = pd.merge(df1, results[2][['VID','CC_mean']], on='VID', how='inner')\n",
    "\n",
    "del df1\n",
    "\n",
    "print(df.head())\n",
    "\n",
    "# Merge back to the original FRP spatial data\n",
    "\n",
    "frp_gdf = pd.merge(frp_plots, df, on='VID', how='inner')\n",
    "print(len(frp_gdf['VID'].unique()))\n",
    "\n",
    "# Save the spatial data\n",
    "frp_gdf.to_file(os.path.join(maindir,'aspen-fire/Aim2/data/spatial/mod/VIIRS/viirs_plots_fired_events_west_aspen_LF.gpkg'))"
   ]
  }
 ],
 "metadata": {
  "kernelspec": {
   "display_name": "aspen-fire",
   "language": "python",
   "name": "aspen-fire"
  },
  "language_info": {
   "codemirror_mode": {
    "name": "ipython",
    "version": 3
   },
   "file_extension": ".py",
   "mimetype": "text/x-python",
   "name": "python",
   "nbconvert_exporter": "python",
   "pygments_lexer": "ipython3",
   "version": "3.10.12"
  }
 },
 "nbformat": 4,
 "nbformat_minor": 5
}
