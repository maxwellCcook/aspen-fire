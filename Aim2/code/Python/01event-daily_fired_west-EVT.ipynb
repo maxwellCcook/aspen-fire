{
 "cells": [
  {
   "cell_type": "code",
   "execution_count": 1,
   "id": "4d797da2-4f14-4307-bafa-ef51add6105c",
   "metadata": {},
   "outputs": [
    {
     "name": "stdout",
     "output_type": "stream",
     "text": [
      "Ready to go !\n"
     ]
    }
   ],
   "source": [
    "\"\"\"\n",
    "Identify wildfire events with >= 1% pre-fire aspen forest cover across western U.S. ecoregions\n",
    "Landcover data: LANDFIRE Existing Vegetation Type (EVT) ca. 2016\n",
    "Author: maxwell.cook@colorado.edu\n",
    "\"\"\"\n",
    "\n",
    "import os, time, glob, gc\n",
    "import numpy as np\n",
    "import pandas as pd\n",
    "import geopandas as gpd\n",
    "import rioxarray as rxr\n",
    "import rasterio as rio\n",
    "import matplotlib\n",
    "import matplotlib.pyplot as plt\n",
    "import seaborn as sns\n",
    "import multiprocessing as mp\n",
    "\n",
    "from shapely.geometry import box\n",
    "from datetime import datetime\n",
    "from rasterstats import zonal_stats\n",
    "\n",
    "import warnings\n",
    "warnings.filterwarnings(\"ignore\") # suppresses annoying geopandas warning\n",
    "\n",
    "proj = 'EPSG:5070'\n",
    "\n",
    "maindir = '/Users/max/Library/CloudStorage/OneDrive-Personal/mcook/'\n",
    "projdir = os.path.join(maindir, 'aspen-fire/Aim2/')\n",
    "\n",
    "print(\"Ready to go !\")"
   ]
  },
  {
   "cell_type": "code",
   "execution_count": 40,
   "id": "0a364ddd-b270-4978-b306-7c4d79cb2b0d",
   "metadata": {},
   "outputs": [
    {
     "name": "stdout",
     "output_type": "stream",
     "text": [
      "Functions loaded !\n"
     ]
    }
   ],
   "source": [
    "def compute_band_stats(geom_chunk, band_data, affine, nodataval, id_col):\n",
    "    \"\"\"\n",
    "    Function to compute band statistics for a chunk of geometries and a raster band.\n",
    "    This function is passed to the multiprocessing workers.\n",
    "    \"\"\"\n",
    "    stats = zonal_stats(\n",
    "        vectors=geom_chunk[[id_col, 'geometry']],\n",
    "        raster=band_data,\n",
    "        categorical=True,\n",
    "        affine=affine,\n",
    "        all_touched=True,\n",
    "        nodata=nodataval,\n",
    "        geojson_out=True\n",
    "    )\n",
    "    \n",
    "    # Convert the stats to a DataFrame and perform necessary operations\n",
    "    stats_df = pd.DataFrame(stats)\n",
    "    stats_df[id_col] = stats_df['properties'].apply(lambda x: x.get(id_col))\n",
    "    stats_df['properties'] = stats_df['properties'].apply(lambda x: {key: val for key, val in x.items() if key != id_col})\n",
    "    stats_df['props_list'] = stats_df['properties'].apply(lambda x: list(x.items()))\n",
    "\n",
    "    props = stats_df.explode('props_list').reset_index(drop=True)\n",
    "    props[['evt', 'count']] = pd.DataFrame(props['props_list'].tolist(), index=props.index)\n",
    "    props = props[[id_col, 'evt', 'count']].reset_index(drop=True)\n",
    "\n",
    "    total_pixels = props.groupby(props[id_col])['count'].transform('sum')\n",
    "    props['total_pixels'] = total_pixels\n",
    "    props['pct_cover'] = (props['count'] / props['total_pixels']) * 100\n",
    "\n",
    "    return props\n",
    "    \n",
    "class BandStatistics:\n",
    "    def __init__(self, geo_fp, img_fp, uid):\n",
    "        \"\"\"\n",
    "        Initializes the BandStatistics object\n",
    "        \"\"\"\n",
    "        self.geometries = gpd.read_file(geo_fp)\n",
    "        self.id_col = str(uid)\n",
    "        self.image_da = rxr.open_rasterio(img_fp, cache=False).squeeze()\n",
    "        # Check the CRS information matches\n",
    "        if self.image_da.rio.crs != self.geometries.crs:\n",
    "            self.geometries = self.geometries.to_crs(self.image_da.rio.crs)\n",
    "        \n",
    "        # Crop the raster image to the extent of fire polygons\n",
    "        bounds = self.geometries.total_bounds\n",
    "        self.image_da = self.image_da.rio.clip_box(\n",
    "            minx=bounds[0], \n",
    "            miny=bounds[1], \n",
    "            maxx=bounds[2], \n",
    "            maxy=bounds[3]\n",
    "        )\n",
    "        \n",
    "        self.affine = self.image_da.rio.transform()\n",
    "        self.band_da = self.image_da.values\n",
    "        self.nodataval = self.image_da.rio.nodata\n",
    "\n",
    "        del self.image_da\n",
    "        gc.collect()\n",
    "        \n",
    "    def parallel_compute_stats(self):\n",
    "        \"\"\"\n",
    "        Parallelizes the categorical statistics computation for all geometries for the single band.\n",
    "        Automatically sets the number of workers to the number of available CPU cores minus one.\n",
    "        \"\"\"\n",
    "        num_workers = max(1, os.cpu_count() - 2)\n",
    "        print(f\"Using {num_workers} workers.\")\n",
    "\n",
    "        # Split geometries into chunks for parallel processing\n",
    "        chunks = np.array_split(self.geometries, num_workers)\n",
    "\n",
    "        with mp.Pool(processes=num_workers) as pool:\n",
    "            results = pool.starmap(\n",
    "                compute_band_stats, \n",
    "                [(chunk, self.band_da, self.affine, self.nodataval, self.id_col) for chunk in chunks]\n",
    "            )\n",
    "\n",
    "        # Cancetenate the star objects (chunked results)\n",
    "        results_df = pd.concat(results, ignore_index=True)\n",
    "        \n",
    "        return results_df\n",
    "\n",
    "\n",
    "def create_bounds(gdf, buffer=None):\n",
    "    \"\"\" Calculate a bounding rectangle for a given geometry and buffer \"\"\"\n",
    "    bounds = gdf.geometry.apply(lambda geom: box(*geom.bounds))\n",
    "    if buffer is not None:\n",
    "        bounds = bounds.buffer(buffer)\n",
    "    # Assign the geometry to the geodataframe\n",
    "    gdf_ = gdf.copy()\n",
    "    gdf_.geometry = bounds\n",
    "    return gdf_\n",
    "    \n",
    "\n",
    "print(\"Functions loaded !\")"
   ]
  },
  {
   "cell_type": "code",
   "execution_count": null,
   "id": "91b02c4c-ef7e-4b47-8dd1-1aad328f5fb5",
   "metadata": {},
   "outputs": [],
   "source": []
  },
  {
   "cell_type": "code",
   "execution_count": 3,
   "id": "5467af0e-7f57-45dc-b750-89b962c788c0",
   "metadata": {},
   "outputs": [],
   "source": [
    "# Load the land cover data"
   ]
  },
  {
   "cell_type": "code",
   "execution_count": 3,
   "id": "35b60e93-b5b4-4c2a-9ecb-5480e03889ab",
   "metadata": {},
   "outputs": [
    {
     "name": "stdout",
     "output_type": "stream",
     "text": [
      "Shape: (97283, 154207); \n",
      "GeoTransform: -2362425.0 30.0 0.0 3177435.0 0.0 -30.0; \n",
      "WKT: EPSG:5070; \n",
      "NoData Value: nan; \n",
      "Data Type: float32\n"
     ]
    },
    {
     "data": {
      "text/plain": [
       "106"
      ]
     },
     "execution_count": 3,
     "metadata": {},
     "output_type": "execute_result"
    }
   ],
   "source": [
    "# Load the LANDFIRE EVT (ca. 2016)\n",
    "evt_fp = os.path.join(maindir,'data/landcover/LANDFIRE/LF2016_EVT_200_CONUS/Tif/LC16_EVT_200.tif')\n",
    "evt = rxr.open_rasterio(evt_fp, masked=True, cache=False).squeeze()\n",
    "shp, gt, wkt, nd = evt.shape, evt.spatial_ref.GeoTransform, evt.rio.crs, evt.rio.nodata\n",
    "print(\n",
    "    f\"Shape: {shp}; \\n\"\n",
    "    f\"GeoTransform: {gt}; \\n\"\n",
    "    f\"WKT: {wkt}; \\n\"\n",
    "    f\"NoData Value: {nd}; \\n\"\n",
    "    f\"Data Type: {evt[0].dtype}\")\n",
    "del evt\n",
    "gc.collect()"
   ]
  },
  {
   "cell_type": "code",
   "execution_count": null,
   "id": "8132327c-dfba-49fb-b5d2-28d9372cdd14",
   "metadata": {},
   "outputs": [],
   "source": []
  },
  {
   "cell_type": "code",
   "execution_count": 5,
   "id": "9c8edeb6-699f-4e55-8ea3-e334c172787a",
   "metadata": {},
   "outputs": [],
   "source": [
    "# Load FIRED perimeters"
   ]
  },
  {
   "cell_type": "code",
   "execution_count": null,
   "id": "27eb5b1a-c60d-44ac-96be-6b39f78160df",
   "metadata": {},
   "outputs": [],
   "source": []
  },
  {
   "cell_type": "code",
   "execution_count": 4,
   "id": "0d9bcab2-f7ef-4284-ac4f-acef2d28a0f2",
   "metadata": {},
   "outputs": [
    {
     "data": {
      "text/plain": [
       "Index(['did', 'id', 'date', 'ig_date', 'ig_day', 'ig_month', 'ig_year',\n",
       "       'last_date', 'event_day', 'event_dur', 'pixels', 'tot_pix', 'dy_ar_km2',\n",
       "       'tot_ar_km2', 'fsr_px_dy', 'fsr_km2_dy', 'mx_grw_px', 'mn_grw_px',\n",
       "       'mu_grw_px', 'mx_grw_km2', 'mn_grw_km2', 'mu_grw_km2', 'mx_grw_dte',\n",
       "       'x', 'y', 'ig_utm_x', 'ig_utm_y', 'lc_code', 'lc_mode', 'lc_name',\n",
       "       'lc_desc', 'lc_type', 'eco_mode', 'eco_name', 'eco_type', 'geometry'],\n",
       "      dtype='object')"
      ]
     },
     "execution_count": 4,
     "metadata": {},
     "output_type": "execute_result"
    }
   ],
   "source": [
    "# Load the FIRED perimeters (2018-2024)\n",
    "daily_fp = os.path.join(maindir,'aspen-fire/Aim2/data/spatial/mod/FIRED/fired-daily_west_2018_to_2024.gpkg')\n",
    "daily = gpd.read_file(daily_fp)\n",
    "daily = daily.to_crs(proj) # ensure albers projection\n",
    "daily.columns"
   ]
  },
  {
   "cell_type": "code",
   "execution_count": null,
   "id": "1aafce3a-a7da-47fd-8422-9f65557eef9e",
   "metadata": {},
   "outputs": [],
   "source": []
  },
  {
   "cell_type": "code",
   "execution_count": 7,
   "id": "6881aeeb-3b03-41a0-b691-70d5ace3d87c",
   "metadata": {},
   "outputs": [],
   "source": [
    "# Calculate the daily land cover (EVT) proportions"
   ]
  },
  {
   "cell_type": "code",
   "execution_count": null,
   "id": "7367193f-3d3b-49ea-bf25-3fed27f7bc64",
   "metadata": {},
   "outputs": [],
   "source": []
  },
  {
   "cell_type": "code",
   "execution_count": 6,
   "id": "ad702c12-1d78-40f1-bebc-93f45cf16d46",
   "metadata": {},
   "outputs": [
    {
     "name": "stdout",
     "output_type": "stream",
     "text": [
      "Using 6 workers.\n",
      "Total elapsed time: 3.88 minutes.\n",
      "\n",
      "~~~~~~~~~~\n",
      "\n"
     ]
    }
   ],
   "source": [
    "t0 = time.time()\n",
    "\n",
    "if __name__ == '__main__':\n",
    "    mp.set_start_method('fork')\n",
    "    # Create the band stats class\n",
    "    band_stats_obj = BandStatistics(daily_fp, evt_fp, uid='did')\n",
    "    # Run parallel band statistics computation\n",
    "    sampled = band_stats_obj.parallel_compute_stats()\n",
    "\n",
    "t1 = (time.time() - t0) / 60\n",
    "print(f\"Total elapsed time: {t1:.2f} minutes.\")\n",
    "print(\"\\n~~~~~~~~~~\\n\")"
   ]
  },
  {
   "cell_type": "code",
   "execution_count": 7,
   "id": "8ad74002-273a-4471-b784-5b55427ab9d1",
   "metadata": {},
   "outputs": [
    {
     "data": {
      "text/html": [
       "<div>\n",
       "<style scoped>\n",
       "    .dataframe tbody tr th:only-of-type {\n",
       "        vertical-align: middle;\n",
       "    }\n",
       "\n",
       "    .dataframe tbody tr th {\n",
       "        vertical-align: top;\n",
       "    }\n",
       "\n",
       "    .dataframe thead th {\n",
       "        text-align: right;\n",
       "    }\n",
       "</style>\n",
       "<table border=\"1\" class=\"dataframe\">\n",
       "  <thead>\n",
       "    <tr style=\"text-align: right;\">\n",
       "      <th></th>\n",
       "      <th>did</th>\n",
       "      <th>evt</th>\n",
       "      <th>count</th>\n",
       "      <th>total_pixels</th>\n",
       "      <th>pct_cover</th>\n",
       "    </tr>\n",
       "  </thead>\n",
       "  <tbody>\n",
       "    <tr>\n",
       "      <th>0</th>\n",
       "      <td>0003d89c00208d55887fec4a95f58ac8</td>\n",
       "      <td>7080</td>\n",
       "      <td>1</td>\n",
       "      <td>600</td>\n",
       "      <td>0.166667</td>\n",
       "    </tr>\n",
       "    <tr>\n",
       "      <th>1</th>\n",
       "      <td>0003d89c00208d55887fec4a95f58ac8</td>\n",
       "      <td>7127</td>\n",
       "      <td>3</td>\n",
       "      <td>600</td>\n",
       "      <td>0.500000</td>\n",
       "    </tr>\n",
       "    <tr>\n",
       "      <th>2</th>\n",
       "      <td>0003d89c00208d55887fec4a95f58ac8</td>\n",
       "      <td>7296</td>\n",
       "      <td>5</td>\n",
       "      <td>600</td>\n",
       "      <td>0.833333</td>\n",
       "    </tr>\n",
       "    <tr>\n",
       "      <th>3</th>\n",
       "      <td>0003d89c00208d55887fec4a95f58ac8</td>\n",
       "      <td>7297</td>\n",
       "      <td>1</td>\n",
       "      <td>600</td>\n",
       "      <td>0.166667</td>\n",
       "    </tr>\n",
       "    <tr>\n",
       "      <th>4</th>\n",
       "      <td>0003d89c00208d55887fec4a95f58ac8</td>\n",
       "      <td>7299</td>\n",
       "      <td>47</td>\n",
       "      <td>600</td>\n",
       "      <td>7.833333</td>\n",
       "    </tr>\n",
       "  </tbody>\n",
       "</table>\n",
       "</div>"
      ],
      "text/plain": [
       "                                did   evt  count  total_pixels  pct_cover\n",
       "0  0003d89c00208d55887fec4a95f58ac8  7080      1           600   0.166667\n",
       "1  0003d89c00208d55887fec4a95f58ac8  7127      3           600   0.500000\n",
       "2  0003d89c00208d55887fec4a95f58ac8  7296      5           600   0.833333\n",
       "3  0003d89c00208d55887fec4a95f58ac8  7297      1           600   0.166667\n",
       "4  0003d89c00208d55887fec4a95f58ac8  7299     47           600   7.833333"
      ]
     },
     "execution_count": 7,
     "metadata": {},
     "output_type": "execute_result"
    }
   ],
   "source": [
    "sampled.head()"
   ]
  },
  {
   "cell_type": "code",
   "execution_count": 9,
   "id": "9a8f9647-77e3-48c8-9dbb-8841d8b53a62",
   "metadata": {},
   "outputs": [
    {
     "data": {
      "text/plain": [
       "0"
      ]
     },
     "execution_count": 9,
     "metadata": {},
     "output_type": "execute_result"
    }
   ],
   "source": [
    "gc.collect() # clear any unused memory"
   ]
  },
  {
   "cell_type": "code",
   "execution_count": null,
   "id": "8070b647-7256-4778-b04d-bcf570b5fa42",
   "metadata": {},
   "outputs": [],
   "source": [
    "# Load the lookup info to get landcover type"
   ]
  },
  {
   "cell_type": "code",
   "execution_count": 8,
   "id": "37ec535d-2b55-4d43-a7e3-4f081830d26a",
   "metadata": {},
   "outputs": [
    {
     "name": "stdout",
     "output_type": "stream",
     "text": [
      "Index(['VALUE', 'EVT_NAME', 'LFRDB', 'EVT_FUEL', 'EVT_FUEL_N', 'EVT_LF',\n",
      "       'EVT_PHYS', 'EVT_GP', 'EVT_GP_N', 'SAF_SRM', 'EVT_ORDER', 'EVT_CLASS',\n",
      "       'EVT_SBCLS', 'R', 'G', 'B', 'RED', 'GREEN', 'BLUE'],\n",
      "      dtype='object')\n"
     ]
    }
   ],
   "source": [
    "lookup = os.path.join(maindir,'data/landcover/LANDFIRE/LF2016_EVT_200_CONUS/CSV_Data/LF16_EVT_200.csv')\n",
    "lookup = pd.read_csv(lookup)\n",
    "print(lookup.columns)"
   ]
  },
  {
   "cell_type": "code",
   "execution_count": 13,
   "id": "aa7b1aad-3eab-4e0f-b53f-d3f6d5dd89fa",
   "metadata": {},
   "outputs": [
    {
     "data": {
      "text/html": [
       "<div>\n",
       "<style scoped>\n",
       "    .dataframe tbody tr th:only-of-type {\n",
       "        vertical-align: middle;\n",
       "    }\n",
       "\n",
       "    .dataframe tbody tr th {\n",
       "        vertical-align: top;\n",
       "    }\n",
       "\n",
       "    .dataframe thead th {\n",
       "        text-align: right;\n",
       "    }\n",
       "</style>\n",
       "<table border=\"1\" class=\"dataframe\">\n",
       "  <thead>\n",
       "    <tr style=\"text-align: right;\">\n",
       "      <th></th>\n",
       "      <th>did</th>\n",
       "      <th>evt</th>\n",
       "      <th>count</th>\n",
       "      <th>total_pixels</th>\n",
       "      <th>pct_cover</th>\n",
       "      <th>VALUE</th>\n",
       "      <th>EVT_NAME</th>\n",
       "      <th>EVT_PHYS</th>\n",
       "      <th>EVT_GP_N</th>\n",
       "      <th>EVT_CLASS</th>\n",
       "    </tr>\n",
       "  </thead>\n",
       "  <tbody>\n",
       "    <tr>\n",
       "      <th>0</th>\n",
       "      <td>0003d89c00208d55887fec4a95f58ac8</td>\n",
       "      <td>7080</td>\n",
       "      <td>1</td>\n",
       "      <td>600</td>\n",
       "      <td>0.166667</td>\n",
       "      <td>7080</td>\n",
       "      <td>Inter-Mountain Basins Big Sagebrush Shrubland</td>\n",
       "      <td>Shrubland</td>\n",
       "      <td>Big Sagebrush Shrubland and Steppe</td>\n",
       "      <td>Shrubland</td>\n",
       "    </tr>\n",
       "    <tr>\n",
       "      <th>1</th>\n",
       "      <td>0003d89c00208d55887fec4a95f58ac8</td>\n",
       "      <td>7127</td>\n",
       "      <td>3</td>\n",
       "      <td>600</td>\n",
       "      <td>0.500000</td>\n",
       "      <td>7127</td>\n",
       "      <td>Inter-Mountain Basins Semi-Desert Shrub-Steppe</td>\n",
       "      <td>Shrubland</td>\n",
       "      <td>Desert Scrub</td>\n",
       "      <td>Shrubland</td>\n",
       "    </tr>\n",
       "    <tr>\n",
       "      <th>2</th>\n",
       "      <td>0003d89c00208d55887fec4a95f58ac8</td>\n",
       "      <td>7296</td>\n",
       "      <td>5</td>\n",
       "      <td>600</td>\n",
       "      <td>0.833333</td>\n",
       "      <td>7296</td>\n",
       "      <td>Developed-Low Intensity</td>\n",
       "      <td>Developed-Low Intensity</td>\n",
       "      <td>Developed-Low Intensity</td>\n",
       "      <td>No Dominant Lifeform</td>\n",
       "    </tr>\n",
       "    <tr>\n",
       "      <th>3</th>\n",
       "      <td>0003d89c00208d55887fec4a95f58ac8</td>\n",
       "      <td>7297</td>\n",
       "      <td>1</td>\n",
       "      <td>600</td>\n",
       "      <td>0.166667</td>\n",
       "      <td>7297</td>\n",
       "      <td>Developed-Medium Intensity</td>\n",
       "      <td>Developed-Medium Intensity</td>\n",
       "      <td>Developed-Medium Intensity</td>\n",
       "      <td>No Dominant Lifeform</td>\n",
       "    </tr>\n",
       "    <tr>\n",
       "      <th>4</th>\n",
       "      <td>0003d89c00208d55887fec4a95f58ac8</td>\n",
       "      <td>7299</td>\n",
       "      <td>47</td>\n",
       "      <td>600</td>\n",
       "      <td>7.833333</td>\n",
       "      <td>7299</td>\n",
       "      <td>Developed-Roads</td>\n",
       "      <td>Developed-Roads</td>\n",
       "      <td>Developed-Roads</td>\n",
       "      <td>No Dominant Lifeform</td>\n",
       "    </tr>\n",
       "  </tbody>\n",
       "</table>\n",
       "</div>"
      ],
      "text/plain": [
       "                                did   evt  count  total_pixels  pct_cover  \\\n",
       "0  0003d89c00208d55887fec4a95f58ac8  7080      1           600   0.166667   \n",
       "1  0003d89c00208d55887fec4a95f58ac8  7127      3           600   0.500000   \n",
       "2  0003d89c00208d55887fec4a95f58ac8  7296      5           600   0.833333   \n",
       "3  0003d89c00208d55887fec4a95f58ac8  7297      1           600   0.166667   \n",
       "4  0003d89c00208d55887fec4a95f58ac8  7299     47           600   7.833333   \n",
       "\n",
       "   VALUE                                        EVT_NAME  \\\n",
       "0   7080   Inter-Mountain Basins Big Sagebrush Shrubland   \n",
       "1   7127  Inter-Mountain Basins Semi-Desert Shrub-Steppe   \n",
       "2   7296                         Developed-Low Intensity   \n",
       "3   7297                      Developed-Medium Intensity   \n",
       "4   7299                                 Developed-Roads   \n",
       "\n",
       "                     EVT_PHYS                            EVT_GP_N  \\\n",
       "0                   Shrubland  Big Sagebrush Shrubland and Steppe   \n",
       "1                   Shrubland                        Desert Scrub   \n",
       "2     Developed-Low Intensity             Developed-Low Intensity   \n",
       "3  Developed-Medium Intensity          Developed-Medium Intensity   \n",
       "4             Developed-Roads                     Developed-Roads   \n",
       "\n",
       "              EVT_CLASS  \n",
       "0             Shrubland  \n",
       "1             Shrubland  \n",
       "2  No Dominant Lifeform  \n",
       "3  No Dominant Lifeform  \n",
       "4  No Dominant Lifeform  "
      ]
     },
     "execution_count": 13,
     "metadata": {},
     "output_type": "execute_result"
    }
   ],
   "source": [
    "# Subset the codes we want to join, join back to the dataframe\n",
    "lookup = lookup[['VALUE','EVT_NAME','EVT_PHYS','EVT_GP_N','EVT_CLASS']]\n",
    "# Merge back to the data\n",
    "props_df = sampled.merge(lookup, left_on='evt', right_on='VALUE', how='left')\n",
    "props_df.head()"
   ]
  },
  {
   "cell_type": "code",
   "execution_count": 15,
   "id": "d2c49893-38cd-4402-86fb-6c4e9a328c04",
   "metadata": {},
   "outputs": [],
   "source": [
    "# retrieve the FIRED_ID from the original dataframe\n",
    "props_df = props_df.merge(daily[['id','did']], left_on='did', right_on='did', how='left')"
   ]
  },
  {
   "cell_type": "code",
   "execution_count": 17,
   "id": "5fcaa4f9-6b31-4b11-804a-a6a0543a3821",
   "metadata": {},
   "outputs": [
    {
     "name": "stdout",
     "output_type": "stream",
     "text": [
      "There are [9936] unique fires in the sampled data.\n",
      "\t[32493] individual daily perimeters.\n"
     ]
    }
   ],
   "source": [
    "print(f\"There are [{len(props_df['id'].unique())}] unique fires in the sampled data.\\n\\t[{len(props_df['did'].unique())}] individual daily perimeters.\")"
   ]
  },
  {
   "cell_type": "code",
   "execution_count": 18,
   "id": "debf5cae-6ad4-4bf1-bb40-3359c1af54a3",
   "metadata": {},
   "outputs": [
    {
     "data": {
      "text/plain": [
       "Index(['did', 'evt', 'count', 'total_pixels', 'pct_cover', 'VALUE', 'EVT_NAME',\n",
       "       'EVT_PHYS', 'EVT_GP_N', 'EVT_CLASS', 'id'],\n",
       "      dtype='object')"
      ]
     },
     "execution_count": 18,
     "metadata": {},
     "output_type": "execute_result"
    }
   ],
   "source": [
    "props_df.columns"
   ]
  },
  {
   "cell_type": "code",
   "execution_count": null,
   "id": "f9473057-b4b3-4152-a297-28d864c0646e",
   "metadata": {},
   "outputs": [],
   "source": []
  },
  {
   "cell_type": "code",
   "execution_count": null,
   "id": "172ad7de-58ff-422e-83d4-ede5cc36c4de",
   "metadata": {},
   "outputs": [],
   "source": []
  },
  {
   "cell_type": "code",
   "execution_count": null,
   "id": "bc6e6ab3-c9fc-4076-ab4d-60febfdf9c35",
   "metadata": {},
   "outputs": [],
   "source": [
    "# Calculate event-level EVT proportions"
   ]
  },
  {
   "cell_type": "code",
   "execution_count": null,
   "id": "a67a9169-2357-43bb-b08d-fd5052f31dbe",
   "metadata": {},
   "outputs": [],
   "source": []
  },
  {
   "cell_type": "code",
   "execution_count": 22,
   "id": "659b214e-c8fa-4272-957f-07a2cbddf3ee",
   "metadata": {},
   "outputs": [
    {
     "data": {
      "text/html": [
       "<div>\n",
       "<style scoped>\n",
       "    .dataframe tbody tr th:only-of-type {\n",
       "        vertical-align: middle;\n",
       "    }\n",
       "\n",
       "    .dataframe tbody tr th {\n",
       "        vertical-align: top;\n",
       "    }\n",
       "\n",
       "    .dataframe thead th {\n",
       "        text-align: right;\n",
       "    }\n",
       "</style>\n",
       "<table border=\"1\" class=\"dataframe\">\n",
       "  <thead>\n",
       "    <tr style=\"text-align: right;\">\n",
       "      <th></th>\n",
       "      <th>id</th>\n",
       "      <th>total_count</th>\n",
       "    </tr>\n",
       "  </thead>\n",
       "  <tbody>\n",
       "    <tr>\n",
       "      <th>0</th>\n",
       "      <td>10</td>\n",
       "      <td>299</td>\n",
       "    </tr>\n",
       "    <tr>\n",
       "      <th>1</th>\n",
       "      <td>13</td>\n",
       "      <td>301</td>\n",
       "    </tr>\n",
       "    <tr>\n",
       "      <th>2</th>\n",
       "      <td>15</td>\n",
       "      <td>299</td>\n",
       "    </tr>\n",
       "    <tr>\n",
       "      <th>3</th>\n",
       "      <td>18</td>\n",
       "      <td>2784</td>\n",
       "    </tr>\n",
       "    <tr>\n",
       "      <th>4</th>\n",
       "      <td>19</td>\n",
       "      <td>602</td>\n",
       "    </tr>\n",
       "  </tbody>\n",
       "</table>\n",
       "</div>"
      ],
      "text/plain": [
       "   id  total_count\n",
       "0  10          299\n",
       "1  13          301\n",
       "2  15          299\n",
       "3  18         2784\n",
       "4  19          602"
      ]
     },
     "execution_count": 22,
     "metadata": {},
     "output_type": "execute_result"
    }
   ],
   "source": [
    "event_evt_count = props_df.groupby('id')['count'].sum().reset_index()\n",
    "event_evt_count.rename(columns={'count': 'total_count'}, inplace=True)\n",
    "event_evt_count.head()"
   ]
  },
  {
   "cell_type": "code",
   "execution_count": 23,
   "id": "e324a5a3-e380-4b91-b819-94f7ddbacdba",
   "metadata": {},
   "outputs": [
    {
     "data": {
      "text/plain": [
       "0    0.047664\n",
       "1    0.142993\n",
       "2    0.238322\n",
       "3    0.047664\n",
       "4    2.240229\n",
       "Name: event_pct_cover, dtype: float64"
      ]
     },
     "execution_count": 23,
     "metadata": {},
     "output_type": "execute_result"
    }
   ],
   "source": [
    "props_df_ = pd.merge(props_df, event_evt_count, on='id', how='left')\n",
    "props_df_['event_pct_cover'] = (props_df_['count'] / props_df_['total_count']) * 100\n",
    "props_df_['event_pct_cover'].head()"
   ]
  },
  {
   "cell_type": "code",
   "execution_count": 24,
   "id": "62e7818d-d2c1-40ec-90ca-4cbaeca7c14f",
   "metadata": {},
   "outputs": [
    {
     "data": {
      "text/html": [
       "<div>\n",
       "<style scoped>\n",
       "    .dataframe tbody tr th:only-of-type {\n",
       "        vertical-align: middle;\n",
       "    }\n",
       "\n",
       "    .dataframe tbody tr th {\n",
       "        vertical-align: top;\n",
       "    }\n",
       "\n",
       "    .dataframe thead th {\n",
       "        text-align: right;\n",
       "    }\n",
       "</style>\n",
       "<table border=\"1\" class=\"dataframe\">\n",
       "  <thead>\n",
       "    <tr style=\"text-align: right;\">\n",
       "      <th></th>\n",
       "      <th>id</th>\n",
       "      <th>evt</th>\n",
       "      <th>count</th>\n",
       "      <th>event_pct_cover</th>\n",
       "      <th>EVT_NAME</th>\n",
       "    </tr>\n",
       "  </thead>\n",
       "  <tbody>\n",
       "    <tr>\n",
       "      <th>0</th>\n",
       "      <td>10</td>\n",
       "      <td>7035</td>\n",
       "      <td>1</td>\n",
       "      <td>0.334448</td>\n",
       "      <td>North Pacific Dry Douglas-fir-(Madrone) Forest...</td>\n",
       "    </tr>\n",
       "    <tr>\n",
       "      <th>1</th>\n",
       "      <td>10</td>\n",
       "      <td>7037</td>\n",
       "      <td>124</td>\n",
       "      <td>41.471572</td>\n",
       "      <td>North Pacific Maritime Dry-Mesic Douglas-fir-W...</td>\n",
       "    </tr>\n",
       "    <tr>\n",
       "      <th>2</th>\n",
       "      <td>10</td>\n",
       "      <td>7039</td>\n",
       "      <td>99</td>\n",
       "      <td>33.110368</td>\n",
       "      <td>North Pacific Maritime Mesic-Wet Douglas-fir-W...</td>\n",
       "    </tr>\n",
       "    <tr>\n",
       "      <th>3</th>\n",
       "      <td>10</td>\n",
       "      <td>7043</td>\n",
       "      <td>67</td>\n",
       "      <td>22.408027</td>\n",
       "      <td>Mediterranean California Mixed Evergreen Forest</td>\n",
       "    </tr>\n",
       "    <tr>\n",
       "      <th>4</th>\n",
       "      <td>10</td>\n",
       "      <td>7063</td>\n",
       "      <td>2</td>\n",
       "      <td>0.668896</td>\n",
       "      <td>North Pacific Broadleaf Landslide Forest</td>\n",
       "    </tr>\n",
       "  </tbody>\n",
       "</table>\n",
       "</div>"
      ],
      "text/plain": [
       "   id   evt  count  event_pct_cover  \\\n",
       "0  10  7035      1         0.334448   \n",
       "1  10  7037    124        41.471572   \n",
       "2  10  7039     99        33.110368   \n",
       "3  10  7043     67        22.408027   \n",
       "4  10  7063      2         0.668896   \n",
       "\n",
       "                                            EVT_NAME  \n",
       "0  North Pacific Dry Douglas-fir-(Madrone) Forest...  \n",
       "1  North Pacific Maritime Dry-Mesic Douglas-fir-W...  \n",
       "2  North Pacific Maritime Mesic-Wet Douglas-fir-W...  \n",
       "3    Mediterranean California Mixed Evergreen Forest  \n",
       "4           North Pacific Broadleaf Landslide Forest  "
      ]
     },
     "execution_count": 24,
     "metadata": {},
     "output_type": "execute_result"
    }
   ],
   "source": [
    "props_df_event = props_df_.groupby(['id', 'evt']).agg({\n",
    "    'count': 'sum',\n",
    "    'event_pct_cover': 'mean',\n",
    "    'EVT_NAME': 'first',  # Add any additional columns you want in the summary\n",
    "}).reset_index()\n",
    "props_df_event.head()"
   ]
  },
  {
   "cell_type": "code",
   "execution_count": null,
   "id": "0c9d7e79-48ff-4267-9589-54c1b1b27c99",
   "metadata": {},
   "outputs": [],
   "source": []
  },
  {
   "cell_type": "code",
   "execution_count": null,
   "id": "e2c7f50e-ad1e-4cc6-85de-a96c3fb524c9",
   "metadata": {},
   "outputs": [],
   "source": [
    "# Save the files out."
   ]
  },
  {
   "cell_type": "code",
   "execution_count": 27,
   "id": "0584240c-8638-40f8-a86f-bd8c6a9db964",
   "metadata": {},
   "outputs": [
    {
     "name": "stdout",
     "output_type": "stream",
     "text": [
      "Saving EVT summary tables to /Users/max/Library/CloudStorage/OneDrive-Personal/mcook/aspen-fire/Aim2/data/tabular/mod/EVT/\n"
     ]
    }
   ],
   "source": [
    "results_dir = os.path.join(projdir,'data/tabular/mod/EVT/')\n",
    "if not os.path.exists(results_dir):\n",
    "    os.makedirs(results_dir)\n",
    "print(f\"Saving EVT summary tables to {results_dir}\")"
   ]
  },
  {
   "cell_type": "code",
   "execution_count": 28,
   "id": "c65957a7-b6c6-4471-a160-1e20a1f4d8de",
   "metadata": {},
   "outputs": [
    {
     "name": "stdout",
     "output_type": "stream",
     "text": [
      "Tables saved !\n"
     ]
    }
   ],
   "source": [
    "# Save the daily-level EVT summary\n",
    "out_fp = os.path.join(results_dir, 'fired-daily_west_2018_to_2024-EVT.csv')\n",
    "props_df.to_csv(out_fp)\n",
    "\n",
    "# Save the event-level EVT summary\n",
    "out_fp = os.path.join(results_dir, 'fired-events_west_2018_to_2024-EVT.csv')\n",
    "props_df_event.to_csv(out_fp)\n",
    "\n",
    "print(\"Tables saved !\")"
   ]
  },
  {
   "cell_type": "code",
   "execution_count": null,
   "id": "c814c672-0c95-40b8-b593-efe6ba291879",
   "metadata": {},
   "outputs": [],
   "source": []
  },
  {
   "cell_type": "code",
   "execution_count": null,
   "id": "8e8d3aa6-c59b-4cb0-a4c5-a8146b306f19",
   "metadata": {},
   "outputs": [],
   "source": []
  },
  {
   "cell_type": "code",
   "execution_count": null,
   "id": "9fc86040-336c-4866-b286-269c5162b625",
   "metadata": {},
   "outputs": [],
   "source": [
    "# Compare with a more broad scale approach (event summary within 3km)"
   ]
  },
  {
   "cell_type": "code",
   "execution_count": 44,
   "id": "4418e416-272f-4518-ab57-cebe96e15b0c",
   "metadata": {},
   "outputs": [
    {
     "name": "stdout",
     "output_type": "stream",
     "text": [
      "There are [9936] across western U.S. ecoregions (2018-2024).\n",
      "Index(['id', 'ig_date', 'ig_day', 'ig_month', 'ig_year', 'last_date',\n",
      "       'event_dur', 'tot_pix', 'tot_ar_km2', 'fsr_px_dy', 'fsr_km2_dy',\n",
      "       'mx_grw_px', 'mn_grw_px', 'mu_grw_px', 'mx_grw_km2', 'mn_grw_km2',\n",
      "       'mu_grw_km2', 'mx_grw_dte', 'x', 'y', 'ig_utm_x', 'ig_utm_y', 'lc_code',\n",
      "       'lc_mode', 'lc_name', 'lc_desc', 'lc_type', 'eco_mode', 'eco_name',\n",
      "       'eco_type', 'tot_perim', 'na_l3name', 'geometry'],\n",
      "      dtype='object')\n"
     ]
    }
   ],
   "source": [
    "event_fp = os.path.join(projdir,'data/spatial/mod/FIRED/fired-events_west_2018_to_2024.gpkg')\n",
    "events = gpd.read_file(fp)\n",
    "print(f\"There are [{len(events)}] across western U.S. ecoregions (2018-2024).\")\n",
    "print(events.columns)"
   ]
  },
  {
   "cell_type": "code",
   "execution_count": 45,
   "id": "4e3d4f8e-98d5-4367-a64a-54d8042225c7",
   "metadata": {},
   "outputs": [
    {
     "data": {
      "text/plain": [
       "9936"
      ]
     },
     "execution_count": 45,
     "metadata": {},
     "output_type": "execute_result"
    }
   ],
   "source": [
    "# Create new geometry (bounds) with 1km buffer\n",
    "bounds = create_bounds(events, buffer=3000)\n",
    "event_fp_3k = os.path.join(projdir,'data/spatial/mod/FIRED/fired-events_west_2018_to_2024_3km.gpkg')\n",
    "bounds.to_file(event_fp_3k)\n",
    "len(bounds)"
   ]
  },
  {
   "cell_type": "code",
   "execution_count": 46,
   "id": "d74e5951-27bc-4b10-a21f-341dee042208",
   "metadata": {},
   "outputs": [
    {
     "name": "stdout",
     "output_type": "stream",
     "text": [
      "Using 6 workers.\n",
      "Total elapsed time: 3.80 minutes.\n",
      "\n",
      "~~~~~~~~~~\n",
      "\n"
     ]
    }
   ],
   "source": [
    "t0 = time.time()\n",
    "\n",
    "if __name__ == '__main__':\n",
    "    # mp.set_start_method('fork')\n",
    "    # Create the band stats class\n",
    "    band_stats_obj = BandStatistics(event_fp_3k, evt_fp, uid='id')\n",
    "    # Run parallel band statistics computation\n",
    "    sampled = band_stats_obj.parallel_compute_stats()\n",
    "\n",
    "t1 = (time.time() - t0) / 60\n",
    "print(f\"Total elapsed time: {t1:.2f} minutes.\")\n",
    "print(\"\\n~~~~~~~~~~\\n\")"
   ]
  },
  {
   "cell_type": "code",
   "execution_count": 47,
   "id": "c651ed88-7c99-4a01-a1ec-fd402cbe4b96",
   "metadata": {},
   "outputs": [
    {
     "data": {
      "text/html": [
       "<div>\n",
       "<style scoped>\n",
       "    .dataframe tbody tr th:only-of-type {\n",
       "        vertical-align: middle;\n",
       "    }\n",
       "\n",
       "    .dataframe tbody tr th {\n",
       "        vertical-align: top;\n",
       "    }\n",
       "\n",
       "    .dataframe thead th {\n",
       "        text-align: right;\n",
       "    }\n",
       "</style>\n",
       "<table border=\"1\" class=\"dataframe\">\n",
       "  <thead>\n",
       "    <tr style=\"text-align: right;\">\n",
       "      <th></th>\n",
       "      <th>id</th>\n",
       "      <th>evt</th>\n",
       "      <th>count</th>\n",
       "      <th>total_pixels</th>\n",
       "      <th>pct_cover</th>\n",
       "    </tr>\n",
       "  </thead>\n",
       "  <tbody>\n",
       "    <tr>\n",
       "      <th>0</th>\n",
       "      <td>10</td>\n",
       "      <td>7008</td>\n",
       "      <td>21</td>\n",
       "      <td>44300</td>\n",
       "      <td>0.047404</td>\n",
       "    </tr>\n",
       "    <tr>\n",
       "      <th>1</th>\n",
       "      <td>10</td>\n",
       "      <td>7035</td>\n",
       "      <td>710</td>\n",
       "      <td>44300</td>\n",
       "      <td>1.602709</td>\n",
       "    </tr>\n",
       "    <tr>\n",
       "      <th>2</th>\n",
       "      <td>10</td>\n",
       "      <td>7037</td>\n",
       "      <td>20936</td>\n",
       "      <td>44300</td>\n",
       "      <td>47.259594</td>\n",
       "    </tr>\n",
       "    <tr>\n",
       "      <th>3</th>\n",
       "      <td>10</td>\n",
       "      <td>7039</td>\n",
       "      <td>12813</td>\n",
       "      <td>44300</td>\n",
       "      <td>28.923251</td>\n",
       "    </tr>\n",
       "    <tr>\n",
       "      <th>4</th>\n",
       "      <td>10</td>\n",
       "      <td>7043</td>\n",
       "      <td>7282</td>\n",
       "      <td>44300</td>\n",
       "      <td>16.437923</td>\n",
       "    </tr>\n",
       "  </tbody>\n",
       "</table>\n",
       "</div>"
      ],
      "text/plain": [
       "   id   evt  count  total_pixels  pct_cover\n",
       "0  10  7008     21         44300   0.047404\n",
       "1  10  7035    710         44300   1.602709\n",
       "2  10  7037  20936         44300  47.259594\n",
       "3  10  7039  12813         44300  28.923251\n",
       "4  10  7043   7282         44300  16.437923"
      ]
     },
     "execution_count": 47,
     "metadata": {},
     "output_type": "execute_result"
    }
   ],
   "source": [
    "sampled.head()"
   ]
  },
  {
   "cell_type": "code",
   "execution_count": 48,
   "id": "cef1608f-a575-4308-81f2-c8ac5c37efcd",
   "metadata": {},
   "outputs": [
    {
     "data": {
      "text/html": [
       "<div>\n",
       "<style scoped>\n",
       "    .dataframe tbody tr th:only-of-type {\n",
       "        vertical-align: middle;\n",
       "    }\n",
       "\n",
       "    .dataframe tbody tr th {\n",
       "        vertical-align: top;\n",
       "    }\n",
       "\n",
       "    .dataframe thead th {\n",
       "        text-align: right;\n",
       "    }\n",
       "</style>\n",
       "<table border=\"1\" class=\"dataframe\">\n",
       "  <thead>\n",
       "    <tr style=\"text-align: right;\">\n",
       "      <th></th>\n",
       "      <th>id</th>\n",
       "      <th>evt</th>\n",
       "      <th>count</th>\n",
       "      <th>total_pixels</th>\n",
       "      <th>pct_cover</th>\n",
       "      <th>VALUE</th>\n",
       "      <th>EVT_NAME</th>\n",
       "      <th>EVT_PHYS</th>\n",
       "      <th>EVT_GP_N</th>\n",
       "      <th>EVT_CLASS</th>\n",
       "    </tr>\n",
       "  </thead>\n",
       "  <tbody>\n",
       "    <tr>\n",
       "      <th>0</th>\n",
       "      <td>10</td>\n",
       "      <td>7008</td>\n",
       "      <td>21</td>\n",
       "      <td>44300</td>\n",
       "      <td>0.047404</td>\n",
       "      <td>7008</td>\n",
       "      <td>North Pacific Oak Woodland</td>\n",
       "      <td>Hardwood</td>\n",
       "      <td>Western Oak Woodland and Savanna</td>\n",
       "      <td>Open tree canopy</td>\n",
       "    </tr>\n",
       "    <tr>\n",
       "      <th>1</th>\n",
       "      <td>10</td>\n",
       "      <td>7035</td>\n",
       "      <td>710</td>\n",
       "      <td>44300</td>\n",
       "      <td>1.602709</td>\n",
       "      <td>7035</td>\n",
       "      <td>North Pacific Dry Douglas-fir-(Madrone) Forest...</td>\n",
       "      <td>Conifer</td>\n",
       "      <td>Douglas-fir Forest and Woodland</td>\n",
       "      <td>Closed tree canopy</td>\n",
       "    </tr>\n",
       "    <tr>\n",
       "      <th>2</th>\n",
       "      <td>10</td>\n",
       "      <td>7037</td>\n",
       "      <td>20936</td>\n",
       "      <td>44300</td>\n",
       "      <td>47.259594</td>\n",
       "      <td>7037</td>\n",
       "      <td>North Pacific Maritime Dry-Mesic Douglas-fir-W...</td>\n",
       "      <td>Conifer</td>\n",
       "      <td>Douglas-fir-Western Hemlock Forest and Woodland</td>\n",
       "      <td>Closed tree canopy</td>\n",
       "    </tr>\n",
       "    <tr>\n",
       "      <th>3</th>\n",
       "      <td>10</td>\n",
       "      <td>7039</td>\n",
       "      <td>12813</td>\n",
       "      <td>44300</td>\n",
       "      <td>28.923251</td>\n",
       "      <td>7039</td>\n",
       "      <td>North Pacific Maritime Mesic-Wet Douglas-fir-W...</td>\n",
       "      <td>Conifer</td>\n",
       "      <td>Douglas-fir-Western Hemlock Forest and Woodland</td>\n",
       "      <td>Closed tree canopy</td>\n",
       "    </tr>\n",
       "    <tr>\n",
       "      <th>4</th>\n",
       "      <td>10</td>\n",
       "      <td>7043</td>\n",
       "      <td>7282</td>\n",
       "      <td>44300</td>\n",
       "      <td>16.437923</td>\n",
       "      <td>7043</td>\n",
       "      <td>Mediterranean California Mixed Evergreen Forest</td>\n",
       "      <td>Conifer</td>\n",
       "      <td>California Mixed Evergreen Forest and Woodland</td>\n",
       "      <td>Closed tree canopy</td>\n",
       "    </tr>\n",
       "  </tbody>\n",
       "</table>\n",
       "</div>"
      ],
      "text/plain": [
       "   id   evt  count  total_pixels  pct_cover  VALUE  \\\n",
       "0  10  7008     21         44300   0.047404   7008   \n",
       "1  10  7035    710         44300   1.602709   7035   \n",
       "2  10  7037  20936         44300  47.259594   7037   \n",
       "3  10  7039  12813         44300  28.923251   7039   \n",
       "4  10  7043   7282         44300  16.437923   7043   \n",
       "\n",
       "                                            EVT_NAME  EVT_PHYS  \\\n",
       "0                         North Pacific Oak Woodland  Hardwood   \n",
       "1  North Pacific Dry Douglas-fir-(Madrone) Forest...   Conifer   \n",
       "2  North Pacific Maritime Dry-Mesic Douglas-fir-W...   Conifer   \n",
       "3  North Pacific Maritime Mesic-Wet Douglas-fir-W...   Conifer   \n",
       "4    Mediterranean California Mixed Evergreen Forest   Conifer   \n",
       "\n",
       "                                          EVT_GP_N           EVT_CLASS  \n",
       "0                 Western Oak Woodland and Savanna    Open tree canopy  \n",
       "1                  Douglas-fir Forest and Woodland  Closed tree canopy  \n",
       "2  Douglas-fir-Western Hemlock Forest and Woodland  Closed tree canopy  \n",
       "3  Douglas-fir-Western Hemlock Forest and Woodland  Closed tree canopy  \n",
       "4   California Mixed Evergreen Forest and Woodland  Closed tree canopy  "
      ]
     },
     "execution_count": 48,
     "metadata": {},
     "output_type": "execute_result"
    }
   ],
   "source": [
    "# Load the lookup table\n",
    "lookup = os.path.join(maindir,'data/landcover/LANDFIRE/LF2016_EVT_200_CONUS/CSV_Data/LF16_EVT_200.csv')\n",
    "lookup = pd.read_csv(lookup)\n",
    "# Subset the codes we want to join, join back to the dataframe\n",
    "lookup = lookup[['VALUE','EVT_NAME','EVT_PHYS','EVT_GP_N','EVT_CLASS']]\n",
    "# Merge back to the data\n",
    "props_df_3k = sampled.merge(lookup, left_on='evt', right_on='VALUE', how='left')\n",
    "props_df_3k.head()"
   ]
  },
  {
   "cell_type": "code",
   "execution_count": 49,
   "id": "645cb0a0-3188-45ea-89bc-fc28371b3179",
   "metadata": {},
   "outputs": [],
   "source": [
    "# Save the daily-level EVT summary\n",
    "out_fp = os.path.join(results_dir, 'fired-events_west_2018_to_2024-EVT-3km.csv')\n",
    "props_df_3k.to_csv(out_fp)"
   ]
  },
  {
   "cell_type": "code",
   "execution_count": null,
   "id": "67273615-2151-4d12-ab8f-a47f13cebc58",
   "metadata": {},
   "outputs": [],
   "source": []
  },
  {
   "cell_type": "code",
   "execution_count": null,
   "id": "86d8613b-f51b-4a2e-9356-a1308689734d",
   "metadata": {},
   "outputs": [],
   "source": []
  },
  {
   "cell_type": "code",
   "execution_count": 50,
   "id": "e96180f4-18df-4a36-874a-2a599c466d46",
   "metadata": {},
   "outputs": [
    {
     "data": {
      "text/plain": [
       "0"
      ]
     },
     "execution_count": 50,
     "metadata": {},
     "output_type": "execute_result"
    }
   ],
   "source": [
    "del lookup, sampled\n",
    "gc.collect()"
   ]
  },
  {
   "cell_type": "code",
   "execution_count": null,
   "id": "41b85319-68dc-4899-b7ed-977424bd8ee1",
   "metadata": {},
   "outputs": [],
   "source": []
  }
 ],
 "metadata": {
  "kernelspec": {
   "display_name": "aspen-fire",
   "language": "python",
   "name": "aspen-fire"
  },
  "language_info": {
   "codemirror_mode": {
    "name": "ipython",
    "version": 3
   },
   "file_extension": ".py",
   "mimetype": "text/x-python",
   "name": "python",
   "nbconvert_exporter": "python",
   "pygments_lexer": "ipython3",
   "version": "3.10.12"
  }
 },
 "nbformat": 4,
 "nbformat_minor": 5
}
