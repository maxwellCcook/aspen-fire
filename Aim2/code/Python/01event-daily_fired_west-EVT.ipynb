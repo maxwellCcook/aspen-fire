{
 "cells": [
  {
   "cell_type": "code",
   "execution_count": 49,
   "id": "4d797da2-4f14-4307-bafa-ef51add6105c",
   "metadata": {},
   "outputs": [
    {
     "name": "stdout",
     "output_type": "stream",
     "text": [
      "Ready to go !\n"
     ]
    }
   ],
   "source": [
    "\"\"\"\n",
    "Identify wildfire events with >= 1% pre-fire aspen forest cover across western U.S. ecoregions\n",
    "Landcover data: LANDFIRE Existing Vegetation Type (EVT) ca. 2016\n",
    "Author: maxwell.cook@colorado.edu\n",
    "\"\"\"\n",
    "\n",
    "import os, time, glob, gc\n",
    "import numpy as np\n",
    "import pandas as pd\n",
    "import geopandas as gpd\n",
    "import rioxarray as rxr\n",
    "import rasterio as rio\n",
    "import matplotlib\n",
    "import matplotlib.pyplot as plt\n",
    "import seaborn as sns\n",
    "import multiprocessing as mp\n",
    "import dask\n",
    "\n",
    "from shapely.geometry import box\n",
    "from shapely.geometry import Polygon, MultiPolygon\n",
    "from datetime import datetime\n",
    "from rasterstats import zonal_stats\n",
    "\n",
    "import warnings\n",
    "warnings.filterwarnings(\"ignore\") # suppresses annoying geopandas warning\n",
    "\n",
    "proj = 'EPSG:5070'\n",
    "\n",
    "# maindir = '/Users/max/Library/CloudStorage/OneDrive-Personal/mcook/'\n",
    "# projdir = os.path.join(maindir, 'aspen-fire/Aim2/')\n",
    "\n",
    "maindir = '/home/jovyan/' # cyverse\n",
    "projdir = os.path.join(maindir,'data-store/data/iplant/home/maco4303/data/JFSP')\n",
    "\n",
    "print(\"Ready to go !\")"
   ]
  },
  {
   "cell_type": "code",
   "execution_count": 2,
   "id": "0e065e30-9156-4b8b-b79d-81f385c3677a",
   "metadata": {},
   "outputs": [
    {
     "name": "stdout",
     "output_type": "stream",
     "text": [
      "Saving EVT summary tables to /home/jovyan/data-store/data/iplant/home/maco4303/data/JFSP/results/\n"
     ]
    }
   ],
   "source": [
    "# results_dir = os.path.join(projdir,'data/tabular/mod/EVT/')\n",
    "results_dir = os.path.join(projdir,'results/') # cyverse\n",
    "if not os.path.exists(results_dir):\n",
    "    os.makedirs(results_dir)\n",
    "print(f\"Saving EVT summary tables to {results_dir}\")"
   ]
  },
  {
   "cell_type": "code",
   "execution_count": 47,
   "id": "0a364ddd-b270-4978-b306-7c4d79cb2b0d",
   "metadata": {},
   "outputs": [
    {
     "name": "stdout",
     "output_type": "stream",
     "text": [
      "Functions loaded !\n"
     ]
    }
   ],
   "source": [
    "def compute_band_stats(geoms, image_da, id_col):\n",
    "    \"\"\"\n",
    "    Function to compute band statistics for a chunk of geometries and a raster band.\n",
    "    This function is passed to the multiprocessing workers.\n",
    "    \"\"\"\n",
    "    affine = image_da.rio.transform()\n",
    "    nodataval = image_da.rio.nodata\n",
    "    arr = image_da.values\n",
    "    \n",
    "    stats = zonal_stats(\n",
    "        vectors=geoms[[id_col, 'geometry']],\n",
    "        raster=arr,\n",
    "        affine=affine,\n",
    "        nodata=nodataval,\n",
    "        categorical=True,\n",
    "        all_touched=True,\n",
    "        geojson_out=True\n",
    "    )\n",
    "\n",
    "    # Extract the results (properties)\n",
    "    stats_df = pd.DataFrame(stats)\n",
    "    stats_df[id_col] = stats_df['properties'].apply(lambda x: x.get(id_col))\n",
    "    stats_df['properties'] = stats_df['properties'].apply(lambda x: {key: val for key, val in x.items() if key != id_col})\n",
    "    stats_df['props_list'] = stats_df['properties'].apply(lambda x: list(x.items()))\n",
    "\n",
    "    # Explode the properties to column\n",
    "    props = stats_df.explode('props_list').reset_index(drop=True)\n",
    "    props[['evt', 'count']] = pd.DataFrame(props['props_list'].tolist(), index=props.index)\n",
    "    props['evt'] = props['evt'].astype(int)\n",
    "    props = props[[id_col, 'evt', 'count']].reset_index(drop=True)\n",
    "\n",
    "    # Calculate the total pixels and percent cover\n",
    "    total_pixels = props.groupby(props[id_col])['count'].transform('sum')\n",
    "    props['total_pixels'] = total_pixels\n",
    "    props['pct_cover'] = (props['count'] / props['total_pixels']) * 100\n",
    "\n",
    "    del arr, stats, stats_df # clean up\n",
    "    gc.collect()\n",
    "    \n",
    "    return props\n",
    "\n",
    "\n",
    "def create_bounds(gdf, buffer=None):\n",
    "    \"\"\" Calculate a bounding rectangle for a given geometry and buffer \"\"\"\n",
    "    bounds = gdf.geometry.apply(lambda geom: box(*geom.bounds))\n",
    "    if buffer is not None:\n",
    "        bounds = bounds.buffer(buffer)\n",
    "    # Assign the geometry to the geodataframe\n",
    "    gdf_ = gdf.copy()\n",
    "    gdf_.geometry = bounds.geometry.apply(\n",
    "        lambda geom: Polygon(geom) if geom.geom_type == 'Polygon' else MultiPolygon([geom])\n",
    "    )\n",
    "    return gdf_\n",
    "    \n",
    "\n",
    "print(\"Functions loaded !\")"
   ]
  },
  {
   "cell_type": "code",
   "execution_count": 4,
   "id": "5e351ad3-74c5-4602-8ab5-f8523c71bc20",
   "metadata": {},
   "outputs": [
    {
     "data": {
      "text/plain": [
       "'/home/jovyan/data-store/aspen-fire/data'"
      ]
     },
     "execution_count": 4,
     "metadata": {},
     "output_type": "execute_result"
    }
   ],
   "source": [
    "\"\"\"\n",
    "Copy the data-store to 'local' directory\n",
    "This enables quick access to data files in CyVerse\n",
    "\"\"\"\n",
    "import shutil\n",
    "\n",
    "# Set a destination path (this is a 'local' and temporary path)\n",
    "dest = '/home/jovyan/data-store/aspen-fire/data' \n",
    "if not os.path.exists(dest):\n",
    "    os.mkdir(dest) # create the directory for the copied data, if needed\n",
    "    \n",
    "# Using 'shutil' package, copy all the files over\n",
    "shutil.copytree(projdir, dest, dirs_exist_ok=True)"
   ]
  },
  {
   "cell_type": "code",
   "execution_count": null,
   "id": "91b02c4c-ef7e-4b47-8dd1-1aad328f5fb5",
   "metadata": {},
   "outputs": [],
   "source": []
  },
  {
   "cell_type": "code",
   "execution_count": 5,
   "id": "5467af0e-7f57-45dc-b750-89b962c788c0",
   "metadata": {},
   "outputs": [],
   "source": [
    "# Load the land cover data"
   ]
  },
  {
   "cell_type": "code",
   "execution_count": 6,
   "id": "35b60e93-b5b4-4c2a-9ecb-5480e03889ab",
   "metadata": {},
   "outputs": [
    {
     "name": "stdout",
     "output_type": "stream",
     "text": [
      "Shape: (97283, 154207); \n",
      "GeoTransform: -2362425.0 30.0 0.0 3177435.0 0.0 -30.0; \n",
      "WKT: EPSG:5070; \n",
      "NoData Value: nan; \n",
      "Data Type: float32\n"
     ]
    },
    {
     "data": {
      "text/plain": [
       "57"
      ]
     },
     "execution_count": 6,
     "metadata": {},
     "output_type": "execute_result"
    }
   ],
   "source": [
    "# Load the LANDFIRE EVT (ca. 2016)\n",
    "# evt_fp = os.path.join(maindir,'data/landcover/LANDFIRE/LF2016_EVT_200_CONUS/Tif/LC16_EVT_200.tif')\n",
    "evt_fp = os.path.join(dest,'LC16_EVT_200.tif') # cyverse\n",
    "\n",
    "evt_da = rxr.open_rasterio(evt_fp, masked=True, cache=False, chunks='auto').squeeze()\n",
    "\n",
    "shp, gt, wkt, nd = evt_da.shape, evt_da.spatial_ref.GeoTransform, evt_da.rio.crs, evt_da.rio.nodata\n",
    "print(\n",
    "    f\"Shape: {shp}; \\n\"\n",
    "    f\"GeoTransform: {gt}; \\n\"\n",
    "    f\"WKT: {wkt}; \\n\"\n",
    "    f\"NoData Value: {nd}; \\n\"\n",
    "    f\"Data Type: {evt_da[0].dtype}\")\n",
    "gc.collect()"
   ]
  },
  {
   "cell_type": "code",
   "execution_count": null,
   "id": "8132327c-dfba-49fb-b5d2-28d9372cdd14",
   "metadata": {},
   "outputs": [],
   "source": []
  },
  {
   "cell_type": "code",
   "execution_count": 7,
   "id": "9c8edeb6-699f-4e55-8ea3-e334c172787a",
   "metadata": {},
   "outputs": [],
   "source": [
    "# Load FIRED perimeters"
   ]
  },
  {
   "cell_type": "code",
   "execution_count": null,
   "id": "27eb5b1a-c60d-44ac-96be-6b39f78160df",
   "metadata": {},
   "outputs": [],
   "source": []
  },
  {
   "cell_type": "code",
   "execution_count": 8,
   "id": "0d9bcab2-f7ef-4284-ac4f-acef2d28a0f2",
   "metadata": {},
   "outputs": [
    {
     "data": {
      "text/plain": [
       "Index(['did', 'id', 'date', 'ig_date', 'ig_day', 'ig_month', 'ig_year',\n",
       "       'last_date', 'event_day', 'event_dur', 'pixels', 'tot_pix', 'dy_ar_km2',\n",
       "       'tot_ar_km2', 'fsr_px_dy', 'fsr_km2_dy', 'mx_grw_px', 'mn_grw_px',\n",
       "       'mu_grw_px', 'mx_grw_km2', 'mn_grw_km2', 'mu_grw_km2', 'mx_grw_dte',\n",
       "       'x', 'y', 'ig_utm_x', 'ig_utm_y', 'lc_code', 'lc_mode', 'lc_name',\n",
       "       'lc_desc', 'lc_type', 'eco_mode', 'eco_name', 'eco_type', 'geometry'],\n",
       "      dtype='object')"
      ]
     },
     "execution_count": 8,
     "metadata": {},
     "output_type": "execute_result"
    }
   ],
   "source": [
    "# Load the FIRED perimeters (2012-2023)\n",
    "# daily_fp = os.path.join(maindir,'aspen-fire/Aim2/data/spatial/raw/FIRED/fired-daily_west_2012_to_2023.gpkg')\n",
    "daily_fp = os.path.join(dest,'fired-daily_west_2012_to_2023.gpkg') # cyverse\n",
    "daily = gpd.read_file(daily_fp)\n",
    "daily = daily.to_crs(proj) # ensure albers projection\n",
    "daily.columns"
   ]
  },
  {
   "cell_type": "code",
   "execution_count": 9,
   "id": "07336bc0-bd00-47c0-9f8f-0345f18bad68",
   "metadata": {},
   "outputs": [
    {
     "name": "stdout",
     "output_type": "stream",
     "text": [
      "Buffered by 1.0 pixel(s).\n"
     ]
    }
   ],
   "source": [
    "# Add a one pixel buffer to the daily perimeters ()\n",
    "n_pixels = 500  # meters\n",
    "daily_ = daily.copy() # make a copy of the original data\n",
    "daily_['geometry'] = daily_['geometry'].buffer(n_pixels)\n",
    "print(f\"Buffered by {n_pixels/500} pixel(s).\")"
   ]
  },
  {
   "cell_type": "code",
   "execution_count": null,
   "id": "1aafce3a-a7da-47fd-8422-9f65557eef9e",
   "metadata": {},
   "outputs": [],
   "source": []
  },
  {
   "cell_type": "code",
   "execution_count": 10,
   "id": "0572d135-6b90-4397-b9bb-958b92636fba",
   "metadata": {},
   "outputs": [],
   "source": [
    "# Crop the image data to the fire bounds"
   ]
  },
  {
   "cell_type": "code",
   "execution_count": 11,
   "id": "dbcb32f8-51f9-4e80-93c0-87dce64c09e3",
   "metadata": {},
   "outputs": [
    {
     "data": {
      "text/plain": [
       "66"
      ]
     },
     "execution_count": 11,
     "metadata": {},
     "output_type": "execute_result"
    }
   ],
   "source": [
    "# Crop the raster by the fire bounds (with small buffer)\n",
    "bounds = daily_.total_bounds\n",
    "evt_da_crop = evt_da.rio.clip_box(\n",
    "    minx=bounds[0]+1000, \n",
    "    miny=bounds[1]+1000, \n",
    "    maxx=bounds[2]+1000, \n",
    "    maxy=bounds[3]+1000\n",
    ")\n",
    "del evt_da, bounds\n",
    "gc.collect()"
   ]
  },
  {
   "cell_type": "code",
   "execution_count": null,
   "id": "66b45676-c266-4da0-bff9-5d6e9a7de9db",
   "metadata": {},
   "outputs": [],
   "source": []
  },
  {
   "cell_type": "code",
   "execution_count": 12,
   "id": "6881aeeb-3b03-41a0-b691-70d5ace3d87c",
   "metadata": {},
   "outputs": [],
   "source": [
    "# Calculate the daily land cover (EVT) proportions for daily perimeters"
   ]
  },
  {
   "cell_type": "code",
   "execution_count": 13,
   "id": "f5b5b89b-8db6-46ba-a2a1-750f390fe0cc",
   "metadata": {},
   "outputs": [
    {
     "name": "stdout",
     "output_type": "stream",
     "text": [
      "Total elapsed time: 2.26 minutes.\n",
      "\n",
      "~~~~~~~~~~\n",
      "\n"
     ]
    }
   ],
   "source": [
    "t0 = time.time()\n",
    "\n",
    "sampled = compute_band_stats(daily_, evt_da_crop, 'did')\n",
    "\n",
    "t1 = (time.time() - t0) / 60\n",
    "print(f\"Total elapsed time: {t1:.2f} minutes.\")\n",
    "print(\"\\n~~~~~~~~~~\\n\")"
   ]
  },
  {
   "cell_type": "code",
   "execution_count": 14,
   "id": "8ad74002-273a-4471-b784-5b55427ab9d1",
   "metadata": {},
   "outputs": [
    {
     "data": {
      "text/html": [
       "<div>\n",
       "<style scoped>\n",
       "    .dataframe tbody tr th:only-of-type {\n",
       "        vertical-align: middle;\n",
       "    }\n",
       "\n",
       "    .dataframe tbody tr th {\n",
       "        vertical-align: top;\n",
       "    }\n",
       "\n",
       "    .dataframe thead th {\n",
       "        text-align: right;\n",
       "    }\n",
       "</style>\n",
       "<table border=\"1\" class=\"dataframe\">\n",
       "  <thead>\n",
       "    <tr style=\"text-align: right;\">\n",
       "      <th></th>\n",
       "      <th>did</th>\n",
       "      <th>evt</th>\n",
       "      <th>count</th>\n",
       "      <th>total_pixels</th>\n",
       "      <th>pct_cover</th>\n",
       "    </tr>\n",
       "  </thead>\n",
       "  <tbody>\n",
       "    <tr>\n",
       "      <th>0</th>\n",
       "      <td>0000802601a74f5edd520234febfaeff</td>\n",
       "      <td>7011</td>\n",
       "      <td>3</td>\n",
       "      <td>14864</td>\n",
       "      <td>0.020183</td>\n",
       "    </tr>\n",
       "    <tr>\n",
       "      <th>1</th>\n",
       "      <td>0000802601a74f5edd520234febfaeff</td>\n",
       "      <td>7049</td>\n",
       "      <td>1</td>\n",
       "      <td>14864</td>\n",
       "      <td>0.006728</td>\n",
       "    </tr>\n",
       "    <tr>\n",
       "      <th>2</th>\n",
       "      <td>0000802601a74f5edd520234febfaeff</td>\n",
       "      <td>7050</td>\n",
       "      <td>1</td>\n",
       "      <td>14864</td>\n",
       "      <td>0.006728</td>\n",
       "    </tr>\n",
       "    <tr>\n",
       "      <th>3</th>\n",
       "      <td>0000802601a74f5edd520234febfaeff</td>\n",
       "      <td>7080</td>\n",
       "      <td>1446</td>\n",
       "      <td>14864</td>\n",
       "      <td>9.728202</td>\n",
       "    </tr>\n",
       "    <tr>\n",
       "      <th>4</th>\n",
       "      <td>0000802601a74f5edd520234febfaeff</td>\n",
       "      <td>7106</td>\n",
       "      <td>147</td>\n",
       "      <td>14864</td>\n",
       "      <td>0.988967</td>\n",
       "    </tr>\n",
       "  </tbody>\n",
       "</table>\n",
       "</div>"
      ],
      "text/plain": [
       "                                did   evt  count  total_pixels  pct_cover\n",
       "0  0000802601a74f5edd520234febfaeff  7011      3         14864   0.020183\n",
       "1  0000802601a74f5edd520234febfaeff  7049      1         14864   0.006728\n",
       "2  0000802601a74f5edd520234febfaeff  7050      1         14864   0.006728\n",
       "3  0000802601a74f5edd520234febfaeff  7080   1446         14864   9.728202\n",
       "4  0000802601a74f5edd520234febfaeff  7106    147         14864   0.988967"
      ]
     },
     "execution_count": 14,
     "metadata": {},
     "output_type": "execute_result"
    }
   ],
   "source": [
    "sampled.head()"
   ]
  },
  {
   "cell_type": "code",
   "execution_count": 15,
   "id": "9a8f9647-77e3-48c8-9dbb-8841d8b53a62",
   "metadata": {},
   "outputs": [
    {
     "data": {
      "text/plain": [
       "0"
      ]
     },
     "execution_count": 15,
     "metadata": {},
     "output_type": "execute_result"
    }
   ],
   "source": [
    "gc.collect() # clear any unused memory"
   ]
  },
  {
   "cell_type": "code",
   "execution_count": null,
   "id": "bbd0c584-460f-49ea-9ec4-eefc79517321",
   "metadata": {},
   "outputs": [],
   "source": []
  },
  {
   "cell_type": "code",
   "execution_count": 16,
   "id": "8070b647-7256-4778-b04d-bcf570b5fa42",
   "metadata": {},
   "outputs": [],
   "source": [
    "# Load the lookup info to get landcover type"
   ]
  },
  {
   "cell_type": "code",
   "execution_count": 22,
   "id": "37ec535d-2b55-4d43-a7e3-4f081830d26a",
   "metadata": {},
   "outputs": [
    {
     "name": "stdout",
     "output_type": "stream",
     "text": [
      "Index(['VALUE', 'EVT_NAME', 'LFRDB', 'EVT_FUEL', 'EVT_FUEL_N', 'EVT_LF',\n",
      "       'EVT_PHYS', 'EVT_GP', 'EVT_GP_N', 'SAF_SRM', 'EVT_ORDER', 'EVT_CLASS',\n",
      "       'EVT_SBCLS', 'R', 'G', 'B', 'RED', 'GREEN', 'BLUE'],\n",
      "      dtype='object')\n"
     ]
    }
   ],
   "source": [
    "# lookup = os.path.join(maindir,'data/landcover/LANDFIRE/LF2016_EVT_200_CONUS/CSV_Data/LF16_EVT_200.csv')\n",
    "lookup = os.path.join(dest, 'LF16_EVT_200.csv') # cyverse\n",
    "lookup = pd.read_csv(lookup)\n",
    "print(lookup.columns)"
   ]
  },
  {
   "cell_type": "code",
   "execution_count": 18,
   "id": "aa7b1aad-3eab-4e0f-b53f-d3f6d5dd89fa",
   "metadata": {},
   "outputs": [
    {
     "data": {
      "text/plain": [
       "0"
      ]
     },
     "execution_count": 18,
     "metadata": {},
     "output_type": "execute_result"
    }
   ],
   "source": [
    "# Subset the codes we want to join, join back to the dataframe\n",
    "lookup = lookup[['VALUE','EVT_NAME','EVT_PHYS','EVT_GP_N','EVT_CLASS']]\n",
    "# Merge back to the data\n",
    "props_df = sampled.merge(lookup, left_on='evt', right_on='VALUE', how='left')\n",
    "props_df.head()"
   ]
  },
  {
   "cell_type": "code",
   "execution_count": null,
   "id": "d2c49893-38cd-4402-86fb-6c4e9a328c04",
   "metadata": {},
   "outputs": [],
   "source": []
  },
  {
   "cell_type": "code",
   "execution_count": 19,
   "id": "5fcaa4f9-6b31-4b11-804a-a6a0543a3821",
   "metadata": {},
   "outputs": [
    {
     "name": "stdout",
     "output_type": "stream",
     "text": [
      "There are [18529] unique fires in the sampled data.\n",
      "\t[63264] individual daily perimeters.\n"
     ]
    }
   ],
   "source": [
    "# retrieve the FIRED_ID from the original dataframe\n",
    "props_df = props_df.merge(daily[['id','did']], left_on='did', right_on='did', how='left')\n",
    "print(f\"There are [{len(props_df['id'].unique())}] unique fires in the sampled data.\\n\\t[{len(props_df['did'].unique())}] individual daily perimeters.\")"
   ]
  },
  {
   "cell_type": "code",
   "execution_count": 23,
   "id": "debf5cae-6ad4-4bf1-bb40-3359c1af54a3",
   "metadata": {},
   "outputs": [
    {
     "data": {
      "text/plain": [
       "Index(['id', 'did', 'evt', 'count', 'total_pixels', 'pct_cover', 'EVT_NAME',\n",
       "       'EVT_PHYS', 'EVT_GP_N', 'EVT_CLASS'],\n",
       "      dtype='object')"
      ]
     },
     "execution_count": 23,
     "metadata": {},
     "output_type": "execute_result"
    }
   ],
   "source": [
    "props_df.columns"
   ]
  },
  {
   "cell_type": "code",
   "execution_count": 21,
   "id": "671af52b-9e0c-43e1-8cfa-822987dc26b9",
   "metadata": {},
   "outputs": [],
   "source": [
    "props_df = props_df[['id', 'did', 'evt', 'count', 'total_pixels', 'pct_cover', \n",
    "                     'EVT_NAME', 'EVT_PHYS', 'EVT_GP_N', 'EVT_CLASS']]"
   ]
  },
  {
   "cell_type": "code",
   "execution_count": 24,
   "id": "f9473057-b4b3-4152-a297-28d864c0646e",
   "metadata": {},
   "outputs": [],
   "source": [
    "# Save the file out.\n",
    "out_fp = os.path.join(results_dir, 'fired-daily_west_2012_to_2023-EVT.csv')\n",
    "props_df.to_csv(out_fp)\n",
    "print(f\"Saved to {out_fp}\")"
   ]
  },
  {
   "cell_type": "code",
   "execution_count": 26,
   "id": "172ad7de-58ff-422e-83d4-ede5cc36c4de",
   "metadata": {},
   "outputs": [],
   "source": [
    "del sampled, props_df, daily\n",
    "gc.collect()"
   ]
  },
  {
   "cell_type": "code",
   "execution_count": null,
   "id": "0bab597d-db15-4810-8968-e917b064c213",
   "metadata": {},
   "outputs": [],
   "source": []
  },
  {
   "cell_type": "code",
   "execution_count": null,
   "id": "e9864048-3328-4ed0-ac8d-dd341f5fb865",
   "metadata": {},
   "outputs": [],
   "source": []
  },
  {
   "cell_type": "code",
   "execution_count": null,
   "id": "bc6e6ab3-c9fc-4076-ab4d-60febfdf9c35",
   "metadata": {},
   "outputs": [],
   "source": [
    "# Calculate event-level EVT proportions"
   ]
  },
  {
   "cell_type": "code",
   "execution_count": null,
   "id": "16c74814-89db-49b8-a0a7-b560fbc9657d",
   "metadata": {},
   "outputs": [],
   "source": []
  },
  {
   "cell_type": "code",
   "execution_count": 28,
   "id": "a67a9169-2357-43bb-b08d-fd5052f31dbe",
   "metadata": {},
   "outputs": [
    {
     "data": {
      "text/plain": [
       "Index(['id', 'ig_date', 'ig_day', 'ig_month', 'ig_year', 'last_date',\n",
       "       'event_dur', 'tot_pix', 'tot_ar_km2', 'fsr_px_dy', 'fsr_km2_dy',\n",
       "       'mx_grw_px', 'mn_grw_px', 'mu_grw_px', 'mx_grw_km2', 'mn_grw_km2',\n",
       "       'mu_grw_km2', 'mx_grw_dte', 'x', 'y', 'ig_utm_x', 'ig_utm_y', 'lc_code',\n",
       "       'lc_mode', 'lc_name', 'lc_desc', 'lc_type', 'eco_mode', 'eco_name',\n",
       "       'eco_type', 'tot_perim', 'na_l3name', 'geometry'],\n",
       "      dtype='object')"
      ]
     },
     "execution_count": 28,
     "metadata": {},
     "output_type": "execute_result"
    }
   ],
   "source": [
    "# Load the FIRED perimeters (2012-2023)\n",
    "# events = os.path.join(maindir,'aspen-fire/Aim2/data/spatial/raw/FIRED/fired-events_west_2012_to_2023.gpkg')\n",
    "events_fp = os.path.join(dest, 'fired-events_west_2012_to_2023.gpkg') # cyverse\n",
    "events = gpd.read_file(events_fp)\n",
    "events = events.to_crs(proj) # ensure albers projection\n",
    "events.columns"
   ]
  },
  {
   "cell_type": "code",
   "execution_count": 29,
   "id": "72ae841c-17c5-4ef3-bd01-5a319f275758",
   "metadata": {},
   "outputs": [
    {
     "name": "stdout",
     "output_type": "stream",
     "text": [
      "Buffered by 1.0 pixel(s).\n"
     ]
    }
   ],
   "source": [
    "# Add a one pixel buffer to the daily perimeters ()\n",
    "n_pixels = 500  # meters\n",
    "events_ = events.copy() # make a copy of the original data\n",
    "events_['geometry'] = events_['geometry'].buffer(n_pixels)\n",
    "print(f\"Buffered by {n_pixels/500} pixel(s).\")"
   ]
  },
  {
   "cell_type": "code",
   "execution_count": 34,
   "id": "5810b254-90fc-40de-a27d-2db738cd7506",
   "metadata": {},
   "outputs": [
    {
     "name": "stdout",
     "output_type": "stream",
     "text": [
      "Total elapsed time: 0.73 minutes.\n",
      "\n",
      "~~~~~~~~~~\n",
      "\n"
     ]
    }
   ],
   "source": [
    "t0 = time.time()\n",
    "\n",
    "sampled = compute_band_stats(events_, evt_da_crop, 'id')\n",
    "\n",
    "t1 = (time.time() - t0) / 60\n",
    "print(f\"Total elapsed time: {t1:.2f} minutes.\")\n",
    "print(\"\\n~~~~~~~~~~\\n\")"
   ]
  },
  {
   "cell_type": "code",
   "execution_count": 35,
   "id": "0c9d7e79-48ff-4267-9589-54c1b1b27c99",
   "metadata": {},
   "outputs": [
    {
     "data": {
      "text/html": [
       "<div>\n",
       "<style scoped>\n",
       "    .dataframe tbody tr th:only-of-type {\n",
       "        vertical-align: middle;\n",
       "    }\n",
       "\n",
       "    .dataframe tbody tr th {\n",
       "        vertical-align: top;\n",
       "    }\n",
       "\n",
       "    .dataframe thead th {\n",
       "        text-align: right;\n",
       "    }\n",
       "</style>\n",
       "<table border=\"1\" class=\"dataframe\">\n",
       "  <thead>\n",
       "    <tr style=\"text-align: right;\">\n",
       "      <th></th>\n",
       "      <th>id</th>\n",
       "      <th>evt</th>\n",
       "      <th>count</th>\n",
       "      <th>total_pixels</th>\n",
       "      <th>pct_cover</th>\n",
       "      <th>VALUE</th>\n",
       "      <th>EVT_NAME</th>\n",
       "      <th>EVT_PHYS</th>\n",
       "      <th>EVT_GP_N</th>\n",
       "      <th>EVT_CLASS</th>\n",
       "    </tr>\n",
       "  </thead>\n",
       "  <tbody>\n",
       "    <tr>\n",
       "      <th>0</th>\n",
       "      <td>5</td>\n",
       "      <td>7008</td>\n",
       "      <td>7</td>\n",
       "      <td>32955</td>\n",
       "      <td>0.021241</td>\n",
       "      <td>7008</td>\n",
       "      <td>North Pacific Oak Woodland</td>\n",
       "      <td>Hardwood</td>\n",
       "      <td>Western Oak Woodland and Savanna</td>\n",
       "      <td>Open tree canopy</td>\n",
       "    </tr>\n",
       "    <tr>\n",
       "      <th>1</th>\n",
       "      <td>5</td>\n",
       "      <td>7035</td>\n",
       "      <td>61</td>\n",
       "      <td>32955</td>\n",
       "      <td>0.185101</td>\n",
       "      <td>7035</td>\n",
       "      <td>North Pacific Dry Douglas-fir-(Madrone) Forest...</td>\n",
       "      <td>Conifer</td>\n",
       "      <td>Douglas-fir Forest and Woodland</td>\n",
       "      <td>Closed tree canopy</td>\n",
       "    </tr>\n",
       "    <tr>\n",
       "      <th>2</th>\n",
       "      <td>5</td>\n",
       "      <td>7036</td>\n",
       "      <td>863</td>\n",
       "      <td>32955</td>\n",
       "      <td>2.618723</td>\n",
       "      <td>7036</td>\n",
       "      <td>North Pacific Seasonal Sitka Spruce Forest</td>\n",
       "      <td>Conifer</td>\n",
       "      <td>Sitka Spruce Forest</td>\n",
       "      <td>Closed tree canopy</td>\n",
       "    </tr>\n",
       "    <tr>\n",
       "      <th>3</th>\n",
       "      <td>5</td>\n",
       "      <td>7037</td>\n",
       "      <td>4023</td>\n",
       "      <td>32955</td>\n",
       "      <td>12.207556</td>\n",
       "      <td>7037</td>\n",
       "      <td>North Pacific Maritime Dry-Mesic Douglas-fir-W...</td>\n",
       "      <td>Conifer</td>\n",
       "      <td>Douglas-fir-Western Hemlock Forest and Woodland</td>\n",
       "      <td>Closed tree canopy</td>\n",
       "    </tr>\n",
       "    <tr>\n",
       "      <th>4</th>\n",
       "      <td>5</td>\n",
       "      <td>7039</td>\n",
       "      <td>21524</td>\n",
       "      <td>32955</td>\n",
       "      <td>65.313306</td>\n",
       "      <td>7039</td>\n",
       "      <td>North Pacific Maritime Mesic-Wet Douglas-fir-W...</td>\n",
       "      <td>Conifer</td>\n",
       "      <td>Douglas-fir-Western Hemlock Forest and Woodland</td>\n",
       "      <td>Closed tree canopy</td>\n",
       "    </tr>\n",
       "  </tbody>\n",
       "</table>\n",
       "</div>"
      ],
      "text/plain": [
       "   id   evt  count  total_pixels  pct_cover  VALUE  \\\n",
       "0   5  7008      7         32955   0.021241   7008   \n",
       "1   5  7035     61         32955   0.185101   7035   \n",
       "2   5  7036    863         32955   2.618723   7036   \n",
       "3   5  7037   4023         32955  12.207556   7037   \n",
       "4   5  7039  21524         32955  65.313306   7039   \n",
       "\n",
       "                                            EVT_NAME  EVT_PHYS  \\\n",
       "0                         North Pacific Oak Woodland  Hardwood   \n",
       "1  North Pacific Dry Douglas-fir-(Madrone) Forest...   Conifer   \n",
       "2         North Pacific Seasonal Sitka Spruce Forest   Conifer   \n",
       "3  North Pacific Maritime Dry-Mesic Douglas-fir-W...   Conifer   \n",
       "4  North Pacific Maritime Mesic-Wet Douglas-fir-W...   Conifer   \n",
       "\n",
       "                                          EVT_GP_N           EVT_CLASS  \n",
       "0                 Western Oak Woodland and Savanna    Open tree canopy  \n",
       "1                  Douglas-fir Forest and Woodland  Closed tree canopy  \n",
       "2                              Sitka Spruce Forest  Closed tree canopy  \n",
       "3  Douglas-fir-Western Hemlock Forest and Woodland  Closed tree canopy  \n",
       "4  Douglas-fir-Western Hemlock Forest and Woodland  Closed tree canopy  "
      ]
     },
     "execution_count": 35,
     "metadata": {},
     "output_type": "execute_result"
    }
   ],
   "source": [
    "lookup = lookup[['VALUE','EVT_NAME','EVT_PHYS','EVT_GP_N','EVT_CLASS']]\n",
    "props_df = sampled.merge(lookup, left_on='evt', right_on='VALUE', how='left')\n",
    "props_df.head()"
   ]
  },
  {
   "cell_type": "code",
   "execution_count": 36,
   "id": "75874e0d-3f3c-462b-9222-ae56d169e3b1",
   "metadata": {},
   "outputs": [
    {
     "data": {
      "text/plain": [
       "Index(['id', 'evt', 'count', 'total_pixels', 'pct_cover', 'VALUE', 'EVT_NAME',\n",
       "       'EVT_PHYS', 'EVT_GP_N', 'EVT_CLASS'],\n",
       "      dtype='object')"
      ]
     },
     "execution_count": 36,
     "metadata": {},
     "output_type": "execute_result"
    }
   ],
   "source": [
    "props_df.columns"
   ]
  },
  {
   "cell_type": "code",
   "execution_count": 38,
   "id": "92bcd41a-bcff-481b-9100-9125855a7bfd",
   "metadata": {},
   "outputs": [],
   "source": [
    "props_df = props_df[['id', 'evt', 'count', 'total_pixels', 'pct_cover', \n",
    "                     'EVT_NAME', 'EVT_PHYS', 'EVT_GP_N', 'EVT_CLASS']]"
   ]
  },
  {
   "cell_type": "code",
   "execution_count": 39,
   "id": "c65957a7-b6c6-4471-a160-1e20a1f4d8de",
   "metadata": {},
   "outputs": [
    {
     "name": "stdout",
     "output_type": "stream",
     "text": [
      "Saved to /home/jovyan/data-store/data/iplant/home/maco4303/data/JFSP/results/fired-events_west_2012_to_2023-EVT.csv\n"
     ]
    }
   ],
   "source": [
    "# Save the files out.\n",
    "out_fp = os.path.join(results_dir, 'fired-events_west_2012_to_2023-EVT.csv')\n",
    "props_df.to_csv(out_fp)\n",
    "print(f\"Saved to {out_fp}\")"
   ]
  },
  {
   "cell_type": "code",
   "execution_count": 40,
   "id": "c814c672-0c95-40b8-b593-efe6ba291879",
   "metadata": {},
   "outputs": [
    {
     "data": {
      "text/plain": [
       "1431"
      ]
     },
     "execution_count": 40,
     "metadata": {},
     "output_type": "execute_result"
    }
   ],
   "source": [
    "del sampled, props_df # clean up\n",
    "gc.collect()"
   ]
  },
  {
   "cell_type": "code",
   "execution_count": null,
   "id": "8e8d3aa6-c59b-4cb0-a4c5-a8146b306f19",
   "metadata": {},
   "outputs": [],
   "source": []
  },
  {
   "cell_type": "code",
   "execution_count": null,
   "id": "0c751caa-2d4b-4daf-be00-a50267e2ab23",
   "metadata": {},
   "outputs": [],
   "source": []
  },
  {
   "cell_type": "code",
   "execution_count": null,
   "id": "9fc86040-336c-4866-b286-269c5162b625",
   "metadata": {},
   "outputs": [],
   "source": [
    "# Compare with a more broad scale approach (event summary within 3km bounds)"
   ]
  },
  {
   "cell_type": "code",
   "execution_count": null,
   "id": "96b7f17d-6502-48d6-bcd1-d28ca1d09cfd",
   "metadata": {},
   "outputs": [],
   "source": []
  },
  {
   "cell_type": "code",
   "execution_count": 51,
   "id": "4e3d4f8e-98d5-4367-a64a-54d8042225c7",
   "metadata": {},
   "outputs": [],
   "source": [
    "# Create new geometry (bounds) with 1km buffer\n",
    "bounds = create_bounds(events, buffer=3000)\n",
    "bounds = bounds[['id','geometry']] # keep it simple\n",
    "bounds = bounds.set_crs(proj, allow_override=True) # ensure correct crs"
   ]
  },
  {
   "cell_type": "code",
   "execution_count": 52,
   "id": "d74e5951-27bc-4b10-a21f-341dee042208",
   "metadata": {},
   "outputs": [
    {
     "name": "stdout",
     "output_type": "stream",
     "text": [
      "Total elapsed time: 1.27 minutes.\n",
      "\n",
      "~~~~~~~~~~\n",
      "\n"
     ]
    }
   ],
   "source": [
    "t0 = time.time()\n",
    "\n",
    "sampled = compute_band_stats(bounds, evt_da_crop, 'id')\n",
    "\n",
    "t1 = (time.time() - t0) / 60\n",
    "print(f\"Total elapsed time: {t1:.2f} minutes.\")\n",
    "print(\"\\n~~~~~~~~~~\\n\")"
   ]
  },
  {
   "cell_type": "code",
   "execution_count": 53,
   "id": "c651ed88-7c99-4a01-a1ec-fd402cbe4b96",
   "metadata": {},
   "outputs": [
    {
     "data": {
      "text/html": [
       "<div>\n",
       "<style scoped>\n",
       "    .dataframe tbody tr th:only-of-type {\n",
       "        vertical-align: middle;\n",
       "    }\n",
       "\n",
       "    .dataframe tbody tr th {\n",
       "        vertical-align: top;\n",
       "    }\n",
       "\n",
       "    .dataframe thead th {\n",
       "        text-align: right;\n",
       "    }\n",
       "</style>\n",
       "<table border=\"1\" class=\"dataframe\">\n",
       "  <thead>\n",
       "    <tr style=\"text-align: right;\">\n",
       "      <th></th>\n",
       "      <th>id</th>\n",
       "      <th>evt</th>\n",
       "      <th>count</th>\n",
       "      <th>total_pixels</th>\n",
       "      <th>pct_cover</th>\n",
       "    </tr>\n",
       "  </thead>\n",
       "  <tbody>\n",
       "    <tr>\n",
       "      <th>0</th>\n",
       "      <td>5</td>\n",
       "      <td>7008</td>\n",
       "      <td>139</td>\n",
       "      <td>153586</td>\n",
       "      <td>0.090503</td>\n",
       "    </tr>\n",
       "    <tr>\n",
       "      <th>1</th>\n",
       "      <td>5</td>\n",
       "      <td>7035</td>\n",
       "      <td>334</td>\n",
       "      <td>153586</td>\n",
       "      <td>0.217468</td>\n",
       "    </tr>\n",
       "    <tr>\n",
       "      <th>2</th>\n",
       "      <td>5</td>\n",
       "      <td>7036</td>\n",
       "      <td>5453</td>\n",
       "      <td>153586</td>\n",
       "      <td>3.550454</td>\n",
       "    </tr>\n",
       "    <tr>\n",
       "      <th>3</th>\n",
       "      <td>5</td>\n",
       "      <td>7037</td>\n",
       "      <td>19118</td>\n",
       "      <td>153586</td>\n",
       "      <td>12.447749</td>\n",
       "    </tr>\n",
       "    <tr>\n",
       "      <th>4</th>\n",
       "      <td>5</td>\n",
       "      <td>7039</td>\n",
       "      <td>83327</td>\n",
       "      <td>153586</td>\n",
       "      <td>54.254294</td>\n",
       "    </tr>\n",
       "  </tbody>\n",
       "</table>\n",
       "</div>"
      ],
      "text/plain": [
       "   id   evt  count  total_pixels  pct_cover\n",
       "0   5  7008    139        153586   0.090503\n",
       "1   5  7035    334        153586   0.217468\n",
       "2   5  7036   5453        153586   3.550454\n",
       "3   5  7037  19118        153586  12.447749\n",
       "4   5  7039  83327        153586  54.254294"
      ]
     },
     "execution_count": 53,
     "metadata": {},
     "output_type": "execute_result"
    }
   ],
   "source": [
    "sampled.head()"
   ]
  },
  {
   "cell_type": "code",
   "execution_count": 54,
   "id": "cef1608f-a575-4308-81f2-c8ac5c37efcd",
   "metadata": {},
   "outputs": [
    {
     "data": {
      "text/html": [
       "<div>\n",
       "<style scoped>\n",
       "    .dataframe tbody tr th:only-of-type {\n",
       "        vertical-align: middle;\n",
       "    }\n",
       "\n",
       "    .dataframe tbody tr th {\n",
       "        vertical-align: top;\n",
       "    }\n",
       "\n",
       "    .dataframe thead th {\n",
       "        text-align: right;\n",
       "    }\n",
       "</style>\n",
       "<table border=\"1\" class=\"dataframe\">\n",
       "  <thead>\n",
       "    <tr style=\"text-align: right;\">\n",
       "      <th></th>\n",
       "      <th>id</th>\n",
       "      <th>evt</th>\n",
       "      <th>count</th>\n",
       "      <th>total_pixels</th>\n",
       "      <th>pct_cover</th>\n",
       "      <th>VALUE</th>\n",
       "      <th>EVT_NAME</th>\n",
       "      <th>EVT_PHYS</th>\n",
       "      <th>EVT_GP_N</th>\n",
       "      <th>EVT_CLASS</th>\n",
       "    </tr>\n",
       "  </thead>\n",
       "  <tbody>\n",
       "    <tr>\n",
       "      <th>0</th>\n",
       "      <td>5</td>\n",
       "      <td>7008</td>\n",
       "      <td>139</td>\n",
       "      <td>153586</td>\n",
       "      <td>0.090503</td>\n",
       "      <td>7008</td>\n",
       "      <td>North Pacific Oak Woodland</td>\n",
       "      <td>Hardwood</td>\n",
       "      <td>Western Oak Woodland and Savanna</td>\n",
       "      <td>Open tree canopy</td>\n",
       "    </tr>\n",
       "    <tr>\n",
       "      <th>1</th>\n",
       "      <td>5</td>\n",
       "      <td>7035</td>\n",
       "      <td>334</td>\n",
       "      <td>153586</td>\n",
       "      <td>0.217468</td>\n",
       "      <td>7035</td>\n",
       "      <td>North Pacific Dry Douglas-fir-(Madrone) Forest...</td>\n",
       "      <td>Conifer</td>\n",
       "      <td>Douglas-fir Forest and Woodland</td>\n",
       "      <td>Closed tree canopy</td>\n",
       "    </tr>\n",
       "    <tr>\n",
       "      <th>2</th>\n",
       "      <td>5</td>\n",
       "      <td>7036</td>\n",
       "      <td>5453</td>\n",
       "      <td>153586</td>\n",
       "      <td>3.550454</td>\n",
       "      <td>7036</td>\n",
       "      <td>North Pacific Seasonal Sitka Spruce Forest</td>\n",
       "      <td>Conifer</td>\n",
       "      <td>Sitka Spruce Forest</td>\n",
       "      <td>Closed tree canopy</td>\n",
       "    </tr>\n",
       "    <tr>\n",
       "      <th>3</th>\n",
       "      <td>5</td>\n",
       "      <td>7037</td>\n",
       "      <td>19118</td>\n",
       "      <td>153586</td>\n",
       "      <td>12.447749</td>\n",
       "      <td>7037</td>\n",
       "      <td>North Pacific Maritime Dry-Mesic Douglas-fir-W...</td>\n",
       "      <td>Conifer</td>\n",
       "      <td>Douglas-fir-Western Hemlock Forest and Woodland</td>\n",
       "      <td>Closed tree canopy</td>\n",
       "    </tr>\n",
       "    <tr>\n",
       "      <th>4</th>\n",
       "      <td>5</td>\n",
       "      <td>7039</td>\n",
       "      <td>83327</td>\n",
       "      <td>153586</td>\n",
       "      <td>54.254294</td>\n",
       "      <td>7039</td>\n",
       "      <td>North Pacific Maritime Mesic-Wet Douglas-fir-W...</td>\n",
       "      <td>Conifer</td>\n",
       "      <td>Douglas-fir-Western Hemlock Forest and Woodland</td>\n",
       "      <td>Closed tree canopy</td>\n",
       "    </tr>\n",
       "  </tbody>\n",
       "</table>\n",
       "</div>"
      ],
      "text/plain": [
       "   id   evt  count  total_pixels  pct_cover  VALUE  \\\n",
       "0   5  7008    139        153586   0.090503   7008   \n",
       "1   5  7035    334        153586   0.217468   7035   \n",
       "2   5  7036   5453        153586   3.550454   7036   \n",
       "3   5  7037  19118        153586  12.447749   7037   \n",
       "4   5  7039  83327        153586  54.254294   7039   \n",
       "\n",
       "                                            EVT_NAME  EVT_PHYS  \\\n",
       "0                         North Pacific Oak Woodland  Hardwood   \n",
       "1  North Pacific Dry Douglas-fir-(Madrone) Forest...   Conifer   \n",
       "2         North Pacific Seasonal Sitka Spruce Forest   Conifer   \n",
       "3  North Pacific Maritime Dry-Mesic Douglas-fir-W...   Conifer   \n",
       "4  North Pacific Maritime Mesic-Wet Douglas-fir-W...   Conifer   \n",
       "\n",
       "                                          EVT_GP_N           EVT_CLASS  \n",
       "0                 Western Oak Woodland and Savanna    Open tree canopy  \n",
       "1                  Douglas-fir Forest and Woodland  Closed tree canopy  \n",
       "2                              Sitka Spruce Forest  Closed tree canopy  \n",
       "3  Douglas-fir-Western Hemlock Forest and Woodland  Closed tree canopy  \n",
       "4  Douglas-fir-Western Hemlock Forest and Woodland  Closed tree canopy  "
      ]
     },
     "execution_count": 54,
     "metadata": {},
     "output_type": "execute_result"
    }
   ],
   "source": [
    "# Subset the codes we want to join, join back to the dataframe\n",
    "lookup = lookup[['VALUE','EVT_NAME','EVT_PHYS','EVT_GP_N','EVT_CLASS']]\n",
    "# Merge back to the data\n",
    "props_df_3k = sampled.merge(lookup, left_on='evt', right_on='VALUE', how='left')\n",
    "props_df_3k.head()"
   ]
  },
  {
   "cell_type": "code",
   "execution_count": 55,
   "id": "645cb0a0-3188-45ea-89bc-fc28371b3179",
   "metadata": {},
   "outputs": [],
   "source": [
    "# Save the file.\n",
    "out_fp = os.path.join(results_dir, 'fired-events_west_2012_to_2023-EVT-3km.csv')\n",
    "props_df_3k.to_csv(out_fp)\n",
    "print(f\"Saved to {out_fp}\")"
   ]
  },
  {
   "cell_type": "code",
   "execution_count": null,
   "id": "67273615-2151-4d12-ab8f-a47f13cebc58",
   "metadata": {},
   "outputs": [],
   "source": []
  },
  {
   "cell_type": "code",
   "execution_count": 56,
   "id": "e96180f4-18df-4a36-874a-2a599c466d46",
   "metadata": {},
   "outputs": [
    {
     "data": {
      "text/plain": [
       "0"
      ]
     },
     "execution_count": 56,
     "metadata": {},
     "output_type": "execute_result"
    }
   ],
   "source": [
    "del lookup, sampled, props_df_3k\n",
    "gc.collect()"
   ]
  },
  {
   "cell_type": "code",
   "execution_count": null,
   "id": "41b85319-68dc-4899-b7ed-977424bd8ee1",
   "metadata": {},
   "outputs": [],
   "source": []
  }
 ],
 "metadata": {
  "kernelspec": {
   "display_name": "macrosystems",
   "language": "python",
   "name": "macrosystems"
  },
  "language_info": {
   "codemirror_mode": {
    "name": "ipython",
    "version": 3
   },
   "file_extension": ".py",
   "mimetype": "text/x-python",
   "name": "python",
   "nbconvert_exporter": "python",
   "pygments_lexer": "ipython3",
   "version": "3.10.13"
  }
 },
 "nbformat": 4,
 "nbformat_minor": 5
}
