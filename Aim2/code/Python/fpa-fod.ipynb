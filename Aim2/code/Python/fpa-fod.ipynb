{
 "cells": [
  {
   "cell_type": "code",
   "execution_count": 2,
   "id": "4728c469-4c26-40c2-ae37-f91814d989b6",
   "metadata": {},
   "outputs": [
    {
     "name": "stdout",
     "output_type": "stream",
     "text": [
      "Ready!\n"
     ]
    }
   ],
   "source": [
    "\"\"\"\n",
    "Fire occurrence data: FPA-FOD v6\n",
    "\n",
    "General workflow:\n",
    "\n",
    "- Tidy the FPA-FOD ignitions data\n",
    "- Extract the landcover composition within Xm buffer of ignition locations\n",
    "- Assess the probability of ignition -> large fire growth based on landcover type\n",
    "\n",
    "Eventually:\n",
    "\n",
    "Extract variables from gridMET to account for extreme fire weather during the ignition\n",
    "\n",
    "\"\"\"\n",
    "\n",
    "import os, time\n",
    "import numpy as np\n",
    "import pandas as pd\n",
    "import geopandas as gpd\n",
    "import rioxarray as rxr\n",
    "import rasterio as rio\n",
    "import matplotlib\n",
    "import matplotlib.pyplot as plt\n",
    "\n",
    "proj = 'EPSG:5070'\n",
    "\n",
    "maindir = '/Users/max/Library/CloudStorage/OneDrive-Personal/mcook/'\n",
    "\n",
    "print(\"Ready!\")"
   ]
  },
  {
   "cell_type": "code",
   "execution_count": 5,
   "id": "3cc53d43-58cb-4eef-a8e9-f2517d2bdf54",
   "metadata": {},
   "outputs": [
    {
     "name": "stdout",
     "output_type": "stream",
     "text": [
      "   OBJECTID  FOD_ID      FPA_ID SOURCE_SYSTEM_TYPE SOURCE_SYSTEM  \\\n",
      "0     33335   33504  FS-1474237                FED   FS-FIRESTAT   \n",
      "1    224459  227966     W-28574                FED      DOI-WFMI   \n",
      "2    224375  227881     W-38733                FED      DOI-WFMI   \n",
      "3    329334  336835    W-125187                FED      DOI-WFMI   \n",
      "4    224642  228152     W-16575                FED      DOI-WFMI   \n",
      "\n",
      "  NWCG_REPORTING_AGENCY NWCG_REPORTING_UNIT_ID  \\\n",
      "0                    FS                USIDCTF   \n",
      "1                   BLM                USIDIFD   \n",
      "2                   BLM                USIDIFD   \n",
      "3                   BLM                USIDIFD   \n",
      "4                   BLM                USIDIFD   \n",
      "\n",
      "          NWCG_REPORTING_UNIT_NAME SOURCE_REPORTING_UNIT  \\\n",
      "0  Caribou-Targhee National Forest                  0415   \n",
      "1             Idaho Falls District                 IDIFD   \n",
      "2             Idaho Falls District                 IDIFD   \n",
      "3             Idaho Falls District                 IDPOD   \n",
      "4             Idaho Falls District                 IDIFD   \n",
      "\n",
      "        SOURCE_REPORTING_UNIT_NAME  ... FIRE_SIZE FIRE_SIZE_CLASS   LATITUDE  \\\n",
      "0  Caribou-Targhee National Forest  ...      0.25               A  42.231389   \n",
      "1             Idaho Falls District  ...   2190.00               F  42.166600   \n",
      "2             Idaho Falls District  ...     97.00               C  42.149900   \n",
      "3           Pocatello Field Office  ...     20.00               C  42.154100   \n",
      "4             Idaho Falls District  ...    600.00               E  42.135500   \n",
      "\n",
      "    LONGITUDE OWNER_DESCR STATE     COUNTY FIPS_CODE         FIPS_NAME  \\\n",
      "0 -111.501944        USFS    ID          7     16007  Bear Lake County   \n",
      "1 -111.267400     PRIVATE    ID        NaN       NaN               NaN   \n",
      "2 -111.267400         BLM    ID        NaN       NaN               NaN   \n",
      "3 -111.266300         BLM    ID  Bear Lake     16007  Bear Lake County   \n",
      "4 -111.252700         BLM    ID        NaN       NaN               NaN   \n",
      "\n",
      "                           geometry  \n",
      "0  POINT (-1265434.947 2240230.943)  \n",
      "1  POINT (-1247614.233 2229978.838)  \n",
      "2  POINT (-1247913.003 2228135.141)  \n",
      "3  POINT (-1247748.732 2228584.386)  \n",
      "4  POINT (-1246979.189 2226352.358)  \n",
      "\n",
      "[5 rows x 39 columns]\n"
     ]
    }
   ],
   "source": [
    "fpa = gpd.read_file(os.path.join(maindir,'aspen-fire/Aim2/data/spatial/raw/USFS/FPA_FOD/fpa-fod_west.gpkg'))\n",
    "fpa = fpa.to_crs(proj)\n",
    "print(fpa.head())"
   ]
  },
  {
   "cell_type": "markdown",
   "id": "8039336e-7b90-49bf-b098-3d3cd8c2726f",
   "metadata": {},
   "source": [
    "## Calculate the landcover type at point of ignition\n",
    "\n",
    "As a first step, we can identify the landcover type at the point of ignition. Likely, we will want to also use a buffered region around the ignition location and assess the vegetation composition to get a better understanding of the distribution of vegetation types near the ignition source."
   ]
  },
  {
   "cell_type": "code",
   "execution_count": null,
   "id": "f60fb8d6-66fc-44a1-9ba9-2991aa14452c",
   "metadata": {},
   "outputs": [],
   "source": [
    "# Define a function for point-based raster sampling\n",
    "def img_vals_at_pts(img, points, band_names):\n",
    "    coord_list = [(x, y) for x, y in zip(points[\"geometry\"].x, points[\"geometry\"].y)]\n",
    "    n_bands = img.count\n",
    "    print(f\"Number of bands to process: {n_bands}\")\n",
    "    for i in range(0,n_bands):\n",
    "        band = desc[i]\n",
    "        print(str(i)+'_'+band)\n",
    "        points[f\"{band}\"] = [x for x in img.sample(coord_list, indexes=i+1)]\n",
    "    points_df = points.reset_index()\n",
    "    points_df[desc] = points_df[band_names].astype(np.float32)\n",
    "    return points_df"
   ]
  }
 ],
 "metadata": {
  "kernelspec": {
   "display_name": "aspen-fire",
   "language": "python",
   "name": "aspen-fire"
  },
  "language_info": {
   "codemirror_mode": {
    "name": "ipython",
    "version": 3
   },
   "file_extension": ".py",
   "mimetype": "text/x-python",
   "name": "python",
   "nbconvert_exporter": "python",
   "pygments_lexer": "ipython3",
   "version": "3.10.12"
  }
 },
 "nbformat": 4,
 "nbformat_minor": 5
}
