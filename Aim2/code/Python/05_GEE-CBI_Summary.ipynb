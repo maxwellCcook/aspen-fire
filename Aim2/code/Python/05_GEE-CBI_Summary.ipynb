{
 "cells": [
  {
   "cell_type": "code",
   "execution_count": 1,
   "id": "e8875da6-de28-494e-8590-5deff24c959f",
   "metadata": {},
   "outputs": [
    {
     "name": "stdout",
     "output_type": "stream",
     "text": [
      "Success !\n"
     ]
    }
   ],
   "source": [
    "\"\"\"\n",
    "Calculate fire severity statistics within AFD observations from MODIS and VIIRS.\n",
    "Severity index: Composite Burn Severity (CBI), calculated in GEE via Parks (2018)\n",
    "\n",
    "Author: maxwell.cook@colorado.edu\n",
    "\"\"\"\n",
    "\n",
    "import os, sys\n",
    "import ee\n",
    "import geemap\n",
    "import time\n",
    "from tqdm import tqdm\n",
    "\n",
    "# Custom functions\n",
    "sys.path.append(os.path.join(os.getcwd(),'code/'))\n",
    "from __functions import *\n",
    "\n",
    "ee.Authenticate()\n",
    "ee.Initialize(project='jfsp-aspen')\n",
    "\n",
    "print(\"Success !\")"
   ]
  },
  {
   "cell_type": "code",
   "execution_count": 2,
   "id": "630cba3c-2a17-432d-83aa-db242a71dcbe",
   "metadata": {},
   "outputs": [
    {
     "data": {
      "text/html": [
       "\n",
       "            <style>\n",
       "                .geemap-dark {\n",
       "                    --jp-widgets-color: white;\n",
       "                    --jp-widgets-label-color: white;\n",
       "                    --jp-ui-font-color1: white;\n",
       "                    --jp-layout-color2: #454545;\n",
       "                    background-color: #383838;\n",
       "                }\n",
       "\n",
       "                .geemap-dark .jupyter-button {\n",
       "                    --jp-layout-color3: #383838;\n",
       "                }\n",
       "\n",
       "                .geemap-colab {\n",
       "                    background-color: var(--colab-primary-surface-color, white);\n",
       "                }\n",
       "\n",
       "                .geemap-colab .jupyter-button {\n",
       "                    --jp-layout-color3: var(--colab-primary-surface-color, white);\n",
       "                }\n",
       "            </style>\n",
       "            "
      ],
      "text/plain": [
       "<IPython.core.display.HTML object>"
      ]
     },
     "metadata": {},
     "output_type": "display_data"
    },
    {
     "name": "stdout",
     "output_type": "stream",
     "text": [
      "Number of grid cells: 57232\n",
      "['system:index', 'grid_index', 'Fire_ID']\n"
     ]
    }
   ],
   "source": [
    "# Load the gridded FRP data\n",
    "grid = ee.FeatureCollection('projects/jfsp-aspen/assets/viirs_snpp_jpss1_afd_gridstats')\n",
    "print(f\"Number of grid cells: {grid.size().getInfo()}\")\n",
    "grid = grid.select(['grid_index','Fire_ID'])\n",
    "print(grid.first().propertyNames().getInfo())"
   ]
  },
  {
   "cell_type": "code",
   "execution_count": 3,
   "id": "fbfaa245-9531-4093-9164-cad232b809d7",
   "metadata": {},
   "outputs": [
    {
     "data": {
      "text/html": [
       "\n",
       "            <style>\n",
       "                .geemap-dark {\n",
       "                    --jp-widgets-color: white;\n",
       "                    --jp-widgets-label-color: white;\n",
       "                    --jp-ui-font-color1: white;\n",
       "                    --jp-layout-color2: #454545;\n",
       "                    background-color: #383838;\n",
       "                }\n",
       "\n",
       "                .geemap-dark .jupyter-button {\n",
       "                    --jp-layout-color3: #383838;\n",
       "                }\n",
       "\n",
       "                .geemap-colab {\n",
       "                    background-color: var(--colab-primary-surface-color, white);\n",
       "                }\n",
       "\n",
       "                .geemap-colab .jupyter-button {\n",
       "                    --jp-layout-color3: var(--colab-primary-surface-color, white);\n",
       "                }\n",
       "            </style>\n",
       "            "
      ],
      "text/plain": [
       "<IPython.core.display.HTML object>"
      ]
     },
     "metadata": {},
     "output_type": "display_data"
    },
    {
     "name": "stdout",
     "output_type": "stream",
     "text": [
      "100\n"
     ]
    }
   ],
   "source": [
    "# CBI Asset folder (replace with your asset path)\n",
    "cbidir = 'projects/jfsp-aspen/assets/CBI/'\n",
    "# List all CBI images in the folder\n",
    "cbi_images = ee.data.listAssets({'parent': cbidir})['assets']\n",
    "cbi_image_list = [\n",
    "    ee.Image(f['id']) for f in cbi_images if f['id'].endswith('CBI_bc')\n",
    "]\n",
    "print(len(cbi_image_list))"
   ]
  },
  {
   "cell_type": "code",
   "execution_count": 9,
   "id": "9605fca7-d939-4562-8de3-bdd7823dedff",
   "metadata": {},
   "outputs": [
    {
     "data": {
      "text/html": [
       "\n",
       "            <style>\n",
       "                .geemap-dark {\n",
       "                    --jp-widgets-color: white;\n",
       "                    --jp-widgets-label-color: white;\n",
       "                    --jp-ui-font-color1: white;\n",
       "                    --jp-layout-color2: #454545;\n",
       "                    background-color: #383838;\n",
       "                }\n",
       "\n",
       "                .geemap-dark .jupyter-button {\n",
       "                    --jp-layout-color3: #383838;\n",
       "                }\n",
       "\n",
       "                .geemap-colab {\n",
       "                    background-color: var(--colab-primary-surface-color, white);\n",
       "                }\n",
       "\n",
       "                .geemap-colab .jupyter-button {\n",
       "                    --jp-layout-color3: var(--colab-primary-surface-color, white);\n",
       "                }\n",
       "            </style>\n",
       "            "
      ],
      "text/plain": [
       "<IPython.core.display.HTML object>"
      ]
     },
     "metadata": {},
     "output_type": "display_data"
    },
    {
     "name": "stdout",
     "output_type": "stream",
     "text": [
      "{'type': 'Projection', 'crs': 'EPSG:4326', 'transform': [0.00026949458523585647, 0, -108.08700178430067, 0, -0.00026949458523585647, 37.668875145927075]}\n",
      "{'type': 'Projection', 'crs': 'EPSG:4326', 'transform': [1, 0, 0, 0, 1, 0]}\n"
     ]
    }
   ],
   "source": [
    "print(cbi_image_list[0].projection().getInfo())\n",
    "print(grid.first().geometry().projection().getInfo())"
   ]
  },
  {
   "cell_type": "code",
   "execution_count": 4,
   "id": "9f4ebf7f-6768-46a2-a80b-69e6cf19851d",
   "metadata": {},
   "outputs": [
    {
     "data": {
      "text/html": [
       "\n",
       "            <style>\n",
       "                .geemap-dark {\n",
       "                    --jp-widgets-color: white;\n",
       "                    --jp-widgets-label-color: white;\n",
       "                    --jp-ui-font-color1: white;\n",
       "                    --jp-layout-color2: #454545;\n",
       "                    background-color: #383838;\n",
       "                }\n",
       "\n",
       "                .geemap-dark .jupyter-button {\n",
       "                    --jp-layout-color3: #383838;\n",
       "                }\n",
       "\n",
       "                .geemap-colab {\n",
       "                    background-color: var(--colab-primary-surface-color, white);\n",
       "                }\n",
       "\n",
       "                .geemap-colab .jupyter-button {\n",
       "                    --jp-layout-color3: var(--colab-primary-surface-color, white);\n",
       "                }\n",
       "            </style>\n",
       "            "
      ],
      "text/plain": [
       "<IPython.core.display.HTML object>"
      ]
     },
     "metadata": {},
     "output_type": "display_data"
    },
    {
     "name": "stdout",
     "output_type": "stream",
     "text": [
      "TreeMap bands available for analysis:\n",
      "\n",
      "['ALSTK', 'BALIVE', 'CANOPYPCT', 'CARBON_D', 'CARBON_DWN', 'CARBON_L', 'DRYBIO_D', 'DRYBIO_L', 'FLDSZCD', 'FLDTYPCD', 'FORTYPCD', 'GSSTK', 'QMD_RMRS', 'SDIPCT_RMRS', 'STANDHT', 'STDSZCD', 'TPA_DEAD', 'TPA_LIVE', 'Value', 'VOLBFNET_L', 'VOLCFNET_D', 'VOLCFNET_L']\n"
     ]
    }
   ],
   "source": [
    "# create a 'forest mask' from the TreeMap data\n",
    "treemap = ee.ImageCollection(\"USFS/GTAC/TreeMap/v2016\")\n",
    "print(f\"TreeMap bands available for analysis:\\n\\n{treemap.first().bandNames().getInfo()}\")"
   ]
  },
  {
   "cell_type": "code",
   "execution_count": 6,
   "id": "cd1c6684-5c3a-4de6-9b70-fc707e34a38f",
   "metadata": {},
   "outputs": [
    {
     "data": {
      "text/html": [
       "\n",
       "            <style>\n",
       "                .geemap-dark {\n",
       "                    --jp-widgets-color: white;\n",
       "                    --jp-widgets-label-color: white;\n",
       "                    --jp-ui-font-color1: white;\n",
       "                    --jp-layout-color2: #454545;\n",
       "                    background-color: #383838;\n",
       "                }\n",
       "\n",
       "                .geemap-dark .jupyter-button {\n",
       "                    --jp-layout-color3: #383838;\n",
       "                }\n",
       "\n",
       "                .geemap-colab {\n",
       "                    background-color: var(--colab-primary-surface-color, white);\n",
       "                }\n",
       "\n",
       "                .geemap-colab .jupyter-button {\n",
       "                    --jp-layout-color3: var(--colab-primary-surface-color, white);\n",
       "                }\n",
       "            </style>\n",
       "            "
      ],
      "text/plain": [
       "<IPython.core.display.HTML object>"
      ]
     },
     "metadata": {},
     "output_type": "display_data"
    },
    {
     "data": {
      "application/vnd.jupyter.widget-view+json": {
       "model_id": "b429c6e5f1e04cc6b6fbe09b759246f5",
       "version_major": 2,
       "version_minor": 0
      },
      "text/plain": [
       "Map(center=[0, 0], controls=(WidgetControl(options=['position', 'transparent_bg'], widget=SearchDataGUI(childr…"
      ]
     },
     "execution_count": 6,
     "metadata": {},
     "output_type": "execute_result"
    }
   ],
   "source": [
    "# create a forest mask and check on it\n",
    "forest = treemap.select('FORTYPCD').mosaic().gt(0)\n",
    "# grab a CBI image and update the mask to check\n",
    "test = ee.ImageCollection.fromImages(cbi_image_list)\n",
    "# .updateMask(forest)\n",
    "\n",
    "# Initialize a map\n",
    "Map = geemap.Map()\n",
    "Map.addLayerControl()\n",
    "Map.addLayer(forest)\n",
    "Map.addLayer(test)\n",
    "Map.addLayer(grid)\n",
    "Map"
   ]
  },
  {
   "cell_type": "code",
   "execution_count": 9,
   "id": "f2a5b281-f627-4ab0-bfe8-297594f8567e",
   "metadata": {},
   "outputs": [
    {
     "data": {
      "text/html": [
       "\n",
       "            <style>\n",
       "                .geemap-dark {\n",
       "                    --jp-widgets-color: white;\n",
       "                    --jp-widgets-label-color: white;\n",
       "                    --jp-ui-font-color1: white;\n",
       "                    --jp-layout-color2: #454545;\n",
       "                    background-color: #383838;\n",
       "                }\n",
       "\n",
       "                .geemap-dark .jupyter-button {\n",
       "                    --jp-layout-color3: #383838;\n",
       "                }\n",
       "\n",
       "                .geemap-colab {\n",
       "                    background-color: var(--colab-primary-surface-color, white);\n",
       "                }\n",
       "\n",
       "                .geemap-colab .jupyter-button {\n",
       "                    --jp-layout-color3: var(--colab-primary-surface-color, white);\n",
       "                }\n",
       "            </style>\n",
       "            "
      ],
      "text/plain": [
       "<IPython.core.display.HTML object>"
      ]
     },
     "metadata": {},
     "output_type": "display_data"
    },
    {
     "name": "stdout",
     "output_type": "stream",
     "text": [
      "Functions ready !\n"
     ]
    }
   ],
   "source": [
    "# Setup seperate functions for average/stdev and extremes (percentiles)\n",
    "def calculate_average(cbi_image, grid_fc, fire_id):\n",
    "    \"\"\"Calculate mean and standard deviation of CBI within each grid cell.\"\"\"\n",
    "    # mask the CBI to forest pixels\n",
    "    cbi_image = cbi_image.updateMask(forest)\n",
    "    # perform the reduction\n",
    "    return cbi_image.reduceRegions(\n",
    "        collection=grid_fc,\n",
    "        reducer=ee.Reducer.mean().combine(\n",
    "            reducer2=ee.Reducer.stdDev(), sharedInputs=True\n",
    "        ),\n",
    "        scale=30\n",
    "    ).map(lambda f: f.set(\"Fire_ID\", fire_id))\n",
    "\n",
    "def calculate_extremes(cbi_image, grid_fc, fire_id):\n",
    "    \"\"\"Calculate percentiles (90th, 95th, 99th) of CBI within each grid cell.\"\"\"\n",
    "    # mask the CBI to forest pixels\n",
    "    cbi_image = cbi_image.updateMask(forest)\n",
    "    # perform the reduction\n",
    "    return cbi_image.reduceRegions(\n",
    "        collection=grid_fc,\n",
    "        reducer=ee.Reducer.percentile([90, 95, 97, 99]),\n",
    "        scale=30\n",
    "    ).map(lambda f: f.set(\"Fire_ID\", fire_id))\n",
    "\n",
    "def merge_collections(primary, secondary, join_field=\"grid_index\"):\n",
    "    \"\"\"Join two FeatureCollections and merge their properties.\"\"\"\n",
    "    join = ee.Join.inner()\n",
    "    filter_condition = ee.Filter.equals(\n",
    "        leftField=join_field, \n",
    "        rightField=join_field\n",
    "    )\n",
    "    joined = join.apply(primary, secondary, filter_condition)\n",
    "\n",
    "    # Flatten joined results\n",
    "    def merge_features(f):\n",
    "        primary_props = ee.Feature(f.get(\"primary\")).toDictionary()\n",
    "        secondary_props = ee.Feature(f.get(\"secondary\")).toDictionary()\n",
    "        combined_props = primary_props.combine(secondary_props)\n",
    "        return ee.Feature(None, combined_props)\n",
    "\n",
    "    return joined.map(merge_features)\n",
    "\n",
    "print(\"Functions ready !\")"
   ]
  },
  {
   "cell_type": "code",
   "execution_count": 14,
   "id": "47374b7b-c74c-4327-a8fc-4ec9d8b94ae2",
   "metadata": {},
   "outputs": [
    {
     "data": {
      "text/html": [
       "\n",
       "            <style>\n",
       "                .geemap-dark {\n",
       "                    --jp-widgets-color: white;\n",
       "                    --jp-widgets-label-color: white;\n",
       "                    --jp-ui-font-color1: white;\n",
       "                    --jp-layout-color2: #454545;\n",
       "                    background-color: #383838;\n",
       "                }\n",
       "\n",
       "                .geemap-dark .jupyter-button {\n",
       "                    --jp-layout-color3: #383838;\n",
       "                }\n",
       "\n",
       "                .geemap-colab {\n",
       "                    background-color: var(--colab-primary-surface-color, white);\n",
       "                }\n",
       "\n",
       "                .geemap-colab .jupyter-button {\n",
       "                    --jp-layout-color3: var(--colab-primary-surface-color, white);\n",
       "                }\n",
       "            </style>\n",
       "            "
      ],
      "text/plain": [
       "<IPython.core.display.HTML object>"
      ]
     },
     "metadata": {},
     "output_type": "display_data"
    },
    {
     "name": "stdout",
     "output_type": "stream",
     "text": [
      "0\n"
     ]
    }
   ],
   "source": [
    "print(cbi_image_list[0].get('fireID').getInfo())"
   ]
  },
  {
   "cell_type": "code",
   "execution_count": 11,
   "id": "100e139a-2097-40ff-ba93-f652e6a81beb",
   "metadata": {},
   "outputs": [
    {
     "data": {
      "text/html": [
       "\n",
       "            <style>\n",
       "                .geemap-dark {\n",
       "                    --jp-widgets-color: white;\n",
       "                    --jp-widgets-label-color: white;\n",
       "                    --jp-ui-font-color1: white;\n",
       "                    --jp-layout-color2: #454545;\n",
       "                    background-color: #383838;\n",
       "                }\n",
       "\n",
       "                .geemap-dark .jupyter-button {\n",
       "                    --jp-layout-color3: #383838;\n",
       "                }\n",
       "\n",
       "                .geemap-colab {\n",
       "                    background-color: var(--colab-primary-surface-color, white);\n",
       "                }\n",
       "\n",
       "                .geemap-colab .jupyter-button {\n",
       "                    --jp-layout-color3: var(--colab-primary-surface-color, white);\n",
       "                }\n",
       "            </style>\n",
       "            "
      ],
      "text/plain": [
       "<IPython.core.display.HTML object>"
      ]
     },
     "metadata": {},
     "output_type": "display_data"
    },
    {
     "data": {
      "text/html": [
       "<div><style>:root {\n",
       "  --font-color-primary: var(--jp-content-font-color0, rgba(0, 0, 0, 1));\n",
       "  --font-color-secondary: var(--jp-content-font-color2, rgba(0, 0, 0, 0.6));\n",
       "  --font-color-accent: rgba(123, 31, 162, 1);\n",
       "  --border-color: var(--jp-border-color2, #e0e0e0);\n",
       "  --background-color: var(--jp-layout-color0, white);\n",
       "  --background-color-row-even: var(--jp-layout-color1, white);\n",
       "  --background-color-row-odd: var(--jp-layout-color2, #eeeeee);\n",
       "}\n",
       "\n",
       "html[theme=\"dark\"],\n",
       "body[data-theme=\"dark\"],\n",
       "body.vscode-dark {\n",
       "  --font-color-primary: rgba(255, 255, 255, 1);\n",
       "  --font-color-secondary: rgba(255, 255, 255, 0.6);\n",
       "  --font-color-accent: rgb(173, 132, 190);\n",
       "  --border-color: #2e2e2e;\n",
       "  --background-color: #111111;\n",
       "  --background-color-row-even: #111111;\n",
       "  --background-color-row-odd: #313131;\n",
       "}\n",
       "\n",
       ".ee {\n",
       "  padding: 1em;\n",
       "  line-height: 1.5em;\n",
       "  min-width: 300px;\n",
       "  max-width: 1200px;\n",
       "  overflow-y: scroll;\n",
       "  max-height: 600px;\n",
       "  border: 1px solid var(--border-color);\n",
       "  font-family: monospace;\n",
       "}\n",
       "\n",
       ".ee li {\n",
       "  list-style-type: none;\n",
       "}\n",
       "\n",
       ".ee ul {\n",
       "  padding-left: 1.5em !important;\n",
       "  margin: 0;\n",
       "}\n",
       "\n",
       ".ee > ul {\n",
       "  padding-left: 0 !important;\n",
       "}\n",
       "\n",
       ".ee-open,\n",
       ".ee-shut {\n",
       "  color: var(--font-color-secondary);\n",
       "  cursor: pointer;\n",
       "  margin: 0;\n",
       "}\n",
       "\n",
       ".ee-open:hover,\n",
       ".ee-shut:hover {\n",
       "  color: var(--font-color-primary);\n",
       "}\n",
       "\n",
       ".ee-k {\n",
       "  color: var(--font-color-accent);\n",
       "  margin-right: 6px;\n",
       "}\n",
       "\n",
       ".ee-v {\n",
       "  color: var(--font-color-primary);\n",
       "}\n",
       "\n",
       ".ee-toggle {\n",
       "  display: none;\n",
       "}\n",
       "\n",
       ".ee-shut + ul {\n",
       "  display: none;\n",
       "}\n",
       "\n",
       ".ee-open + ul {\n",
       "  display: block;\n",
       "}\n",
       "\n",
       ".ee-shut::before {\n",
       "  display: inline-block;\n",
       "  content: \"▼\";\n",
       "  margin-right: 6px;\n",
       "  transform: rotate(-90deg);\n",
       "  transition: transform 0.2s;\n",
       "}\n",
       "\n",
       ".ee-open::before {\n",
       "  transform: rotate(0deg);\n",
       "  display: inline-block;\n",
       "  content: \"▼\";\n",
       "  margin-right: 6px;\n",
       "  transition: transform 0.2s;\n",
       "}\n",
       "</style><div class='ee'><ul><li><label class='ee-shut'>Image projects/jfsp-aspen/assets/CBI/0_CBI_bc (1 band)<input type='checkbox' class='ee-toggle'></label><ul><li><span class='ee-k'>type:</span><span class='ee-v'>Image</span></li><li><span class='ee-k'>id:</span><span class='ee-v'>projects/jfsp-aspen/assets/CBI/0_CBI_bc</span></li><li><span class='ee-k'>version:</span><span class='ee-v'>1736041151327413</span></li><li><label class='ee-shut'>bands: List (1 element)<input type='checkbox' class='ee-toggle'></label><ul><li><label class='ee-shut'>0: \"CBI_bc\", float, EPSG:4326, 1350x1297 px<input type='checkbox' class='ee-toggle'></label><ul><li><span class='ee-k'>id:</span><span class='ee-v'>CBI_bc</span></li><li><span class='ee-k'>crs:</span><span class='ee-v'>EPSG:4326</span></li><li><label class='ee-shut'>crs_transform: List (6 elements)<input type='checkbox' class='ee-toggle'></label><ul><li><span class='ee-k'>0:</span><span class='ee-v'>0.00026949458523585647</span></li><li><span class='ee-k'>1:</span><span class='ee-v'>0</span></li><li><span class='ee-k'>2:</span><span class='ee-v'>-108.08700178430067</span></li><li><span class='ee-k'>3:</span><span class='ee-v'>0</span></li><li><span class='ee-k'>4:</span><span class='ee-v'>-0.00026949458523585647</span></li><li><span class='ee-k'>5:</span><span class='ee-v'>37.668875145927075</span></li></ul></li><li><label class='ee-shut'>data_type: float<input type='checkbox' class='ee-toggle'></label><ul><li><span class='ee-k'>type:</span><span class='ee-v'>PixelType</span></li><li><span class='ee-k'>precision:</span><span class='ee-v'>float</span></li></ul></li><li><label class='ee-shut'>dimensions: [1350, 1297]<input type='checkbox' class='ee-toggle'></label><ul><li><span class='ee-k'>0:</span><span class='ee-v'>1350</span></li><li><span class='ee-k'>1:</span><span class='ee-v'>1297</span></li></ul></li></ul></li></ul></li><li><label class='ee-shut'>properties: Object (4 properties)<input type='checkbox' class='ee-toggle'></label><ul><li><span class='ee-k'>fireID:</span><span class='ee-v'>0</span></li><li><span class='ee-k'>fireYear:</span><span class='ee-v'>2018</span></li><li><span class='ee-k'>system:asset_size:</span><span class='ee-v'>2196680</span></li><li><label class='ee-shut'>system:footprint: LinearRing (20 vertices)<input type='checkbox' class='ee-toggle'></label><ul><li><span class='ee-k'>type:</span><span class='ee-v'>LinearRing</span></li><li><label class='ee-shut'>coordinates: List (20 elements)<input type='checkbox' class='ee-toggle'></label><ul><li><label class='ee-shut'>0: [-108.08690945425988, 37.31920758081628]<input type='checkbox' class='ee-toggle'></label><ul><li><span class='ee-k'>0:</span><span class='ee-v'>-108.08690945425988</span></li><li><span class='ee-k'>1:</span><span class='ee-v'>37.31920758081628</span></li></ul></li><li><label class='ee-shut'>1: [-108.08686666685864, 37.31920547705053]<input type='checkbox' class='ee-toggle'></label><ul><li><span class='ee-k'>0:</span><span class='ee-v'>-108.08686666685864</span></li><li><span class='ee-k'>1:</span><span class='ee-v'>37.31920547705053</span></li></ul></li><li><label class='ee-shut'>2: [-107.90509295936775, 37.31920548071919]<input type='checkbox' class='ee-toggle'></label><ul><li><span class='ee-k'>0:</span><span class='ee-v'>-107.90509295936775</span></li><li><span class='ee-k'>1:</span><span class='ee-v'>37.31920548071919</span></li></ul></li><li><label class='ee-shut'>3: [-107.72331917522456, 37.31920541842389]<input type='checkbox' class='ee-toggle'></label><ul><li><span class='ee-k'>0:</span><span class='ee-v'>-107.72331917522456</span></li><li><span class='ee-k'>1:</span><span class='ee-v'>37.31920541842389</span></li></ul></li><li><label class='ee-shut'>4: [-107.72316251229472, 37.31931508402951]<input type='checkbox' class='ee-toggle'></label><ul><li><span class='ee-k'>0:</span><span class='ee-v'>-107.72316251229472</span></li><li><span class='ee-k'>1:</span><span class='ee-v'>37.31931508402951</span></li></ul></li><li><label class='ee-shut'>5: [-107.72298994826939, 37.31940846590726]<input type='checkbox' class='ee-toggle'></label><ul><li><span class='ee-k'>0:</span><span class='ee-v'>-107.72298994826939</span></li><li><span class='ee-k'>1:</span><span class='ee-v'>37.31940846590726</span></li></ul></li><li><label class='ee-shut'>6: [-107.72297937759696, 37.319452699614786]<input type='checkbox' class='ee-toggle'></label><ul><li><span class='ee-k'>0:</span><span class='ee-v'>-107.72297937759696</span></li><li><span class='ee-k'>1:</span><span class='ee-v'>37.319452699614786</span></li></ul></li><li><label class='ee-shut'>7: [-107.7229777513397, 37.6687403894729]<input type='checkbox' class='ee-toggle'></label><ul><li><span class='ee-k'>0:</span><span class='ee-v'>-107.7229777513397</span></li><li><span class='ee-k'>1:</span><span class='ee-v'>37.6687403894729</span></li></ul></li><li><label class='ee-shut'>8: [-107.72311625428377, 37.66886473324784]<input type='checkbox' class='ee-toggle'></label><ul><li><span class='ee-k'>0:</span><span class='ee-v'>-107.72311625428377</span></li><li><span class='ee-k'>1:</span><span class='ee-v'>37.66886473324784</span></li></ul></li><li><label class='ee-shut'>9: [-107.72323388697507, 37.66900189916652]<input type='checkbox' class='ee-toggle'></label><ul><li><span class='ee-k'>0:</span><span class='ee-v'>-107.72323388697507</span></li><li><span class='ee-k'>1:</span><span class='ee-v'>37.66900189916652</span></li></ul></li><li><label class='ee-shut'>10: [-107.7232900832552, 37.66901035930392]<input type='checkbox' class='ee-toggle'></label><ul><li><span class='ee-k'>0:</span><span class='ee-v'>-107.7232900832552</span></li><li><span class='ee-k'>1:</span><span class='ee-v'>37.66901035930392</span></li></ul></li><li><label class='ee-shut'>11: [-107.90509295936775, 37.66901033330912]<input type='checkbox' class='ee-toggle'></label><ul><li><span class='ee-k'>0:</span><span class='ee-v'>-107.90509295936775</span></li><li><span class='ee-k'>1:</span><span class='ee-v'>37.66901033330912</span></li></ul></li><li><label class='ee-shut'>12: [-108.08686739053556, 37.66901034917005]<input type='checkbox' class='ee-toggle'></label><ul><li><span class='ee-k'>0:</span><span class='ee-v'>-108.08686739053556</span></li><li><span class='ee-k'>1:</span><span class='ee-v'>37.66901034917005</span></li></ul></li><li><label class='ee-shut'>13: [-108.08702433800923, 37.66890055846925]<input type='checkbox' class='ee-toggle'></label><ul><li><span class='ee-k'>0:</span><span class='ee-v'>-108.08702433800923</span></li><li><span class='ee-k'>1:</span><span class='ee-v'>37.66890055846925</span></li></ul></li><li><label class='ee-shut'>14: [-108.08719747785068, 37.66880737666869]<input type='checkbox' class='ee-toggle'></label><ul><li><span class='ee-k'>0:</span><span class='ee-v'>-108.08719747785068</span></li><li><span class='ee-k'>1:</span><span class='ee-v'>37.66880737666869</span></li></ul></li><li><label class='ee-shut'>15: [-108.08720806163723, 37.66876289236075]<input type='checkbox' class='ee-toggle'></label><ul><li><span class='ee-k'>0:</span><span class='ee-v'>-108.08720806163723</span></li><li><span class='ee-k'>1:</span><span class='ee-v'>37.66876289236075</span></li></ul></li><li><label class='ee-shut'>16: [-108.08720652382206, 37.31947537677363]<input type='checkbox' class='ee-toggle'></label><ul><li><span class='ee-k'>0:</span><span class='ee-v'>-108.08720652382206</span></li><li><span class='ee-k'>1:</span><span class='ee-v'>37.31947537677363</span></li></ul></li><li><label class='ee-shut'>17: [-108.08706848232742, 37.319350917778024]<input type='checkbox' class='ee-toggle'></label><ul><li><span class='ee-k'>0:</span><span class='ee-v'>-108.08706848232742</span></li><li><span class='ee-k'>1:</span><span class='ee-v'>37.319350917778024</span></li></ul></li><li><label class='ee-shut'>18: [-108.08695088477245, 37.31921384521519]<input type='checkbox' class='ee-toggle'></label><ul><li><span class='ee-k'>0:</span><span class='ee-v'>-108.08695088477245</span></li><li><span class='ee-k'>1:</span><span class='ee-v'>37.31921384521519</span></li></ul></li><li><label class='ee-shut'>19: [-108.08690945425988, 37.31920758081628]<input type='checkbox' class='ee-toggle'></label><ul><li><span class='ee-k'>0:</span><span class='ee-v'>-108.08690945425988</span></li><li><span class='ee-k'>1:</span><span class='ee-v'>37.31920758081628</span></li></ul></li></ul></li></ul></li></ul></li></ul></li></ul></div><script>function toggleHeader() {\n",
       "    const parent = this.parentElement;\n",
       "    parent.className = parent.className === \"ee-open\" ? \"ee-shut\" : \"ee-open\";\n",
       "}\n",
       "\n",
       "for (let c of document.getElementsByClassName(\"ee-toggle\")) {\n",
       "    c.onclick = toggleHeader;\n",
       "}</script></div>"
      ],
      "text/plain": [
       "<ee.image.Image at 0x10417a3b0>"
      ]
     },
     "execution_count": 11,
     "metadata": {},
     "output_type": "execute_result"
    }
   ],
   "source": [
    "cbi_image_list[0]"
   ]
  },
  {
   "cell_type": "code",
   "execution_count": 15,
   "id": "65fa740f-64e9-476f-8ef4-07e2a0418f32",
   "metadata": {},
   "outputs": [
    {
     "data": {
      "text/html": [
       "\n",
       "            <style>\n",
       "                .geemap-dark {\n",
       "                    --jp-widgets-color: white;\n",
       "                    --jp-widgets-label-color: white;\n",
       "                    --jp-ui-font-color1: white;\n",
       "                    --jp-layout-color2: #454545;\n",
       "                    background-color: #383838;\n",
       "                }\n",
       "\n",
       "                .geemap-dark .jupyter-button {\n",
       "                    --jp-layout-color3: #383838;\n",
       "                }\n",
       "\n",
       "                .geemap-colab {\n",
       "                    background-color: var(--colab-primary-surface-color, white);\n",
       "                }\n",
       "\n",
       "                .geemap-colab .jupyter-button {\n",
       "                    --jp-layout-color3: var(--colab-primary-surface-color, white);\n",
       "                }\n",
       "            </style>\n",
       "            "
      ],
      "text/plain": [
       "<IPython.core.display.HTML object>"
      ]
     },
     "metadata": {},
     "output_type": "display_data"
    },
    {
     "name": "stderr",
     "output_type": "stream",
     "text": [
      "Processing Fires: 100%|████████████████████████████████████████████████████████████████████████████████████████████████████████████| 100/100 [00:14<00:00,  6.88it/s]\n"
     ]
    },
    {
     "name": "stdout",
     "output_type": "stream",
     "text": [
      "Export to Earth Engine Asset started!\n",
      "Waiting for export to finish..\n",
      "\tPatience young padawan.\n",
      "Waiting for export to finish..\n",
      "\tPatience young padawan.\n",
      "Waiting for export to finish..\n",
      "\tPatience young padawan.\n",
      "Waiting for export to finish..\n",
      "\tPatience young padawan.\n",
      "Waiting for export to finish..\n",
      "\tPatience young padawan.\n",
      "Waiting for export to finish..\n",
      "\tPatience young padawan.\n",
      "Waiting for export to finish..\n",
      "\tPatience young padawan.\n",
      "Export completed successfully !!!!\n"
     ]
    }
   ],
   "source": [
    "# Initialize export tasks for all fires\n",
    "# Initialize an empty collection to hold all results\n",
    "all_fires_stats = ee.FeatureCollection([])\n",
    "for cbi_image in tqdm(cbi_image_list, desc=\"Processing Fires\"):\n",
    "    \n",
    "    # Extract Fire ID from the image file name\n",
    "    fire_id = cbi_image.get('fireID').getInfo()\n",
    "    # Filter grid cells for this fire\n",
    "    fire_grid = grid.filter(ee.Filter.eq(\"Fire_ID\", fire_id))\n",
    "\n",
    "    # Calculate mean/stdDev and percentiles\n",
    "    average_stats = calculate_average(cbi_image, fire_grid, fire_id)\n",
    "    extremes_stats = calculate_extremes(cbi_image, fire_grid, fire_id)\n",
    "\n",
    "    # Merge results\n",
    "    stats = merge_collections(average_stats, extremes_stats)\n",
    "\n",
    "    # Add to the global collection\n",
    "    all_fires_stats = all_fires_stats.merge(stats)\n",
    "\n",
    "# export table to Drive.\n",
    "export_task = ee.batch.Export.table.toDrive(\n",
    "    collection=all_fires_stats,\n",
    "    description='gridstats_cbibc_forest',\n",
    "    fileNamePrefix='gridstats_cbibc_forest',\n",
    "    fileFormat='CSV', \n",
    "    folder='CBI'\n",
    ")\n",
    "\n",
    "export_task.start()\n",
    "print(\"Export to Earth Engine Asset started!\")\n",
    "monitor_export(export_task, 360) # 360=every 5 min"
   ]
  }
 ],
 "metadata": {
  "kernelspec": {
   "display_name": "aspen-fire",
   "language": "python",
   "name": "aspen-fire"
  },
  "language_info": {
   "codemirror_mode": {
    "name": "ipython",
    "version": 3
   },
   "file_extension": ".py",
   "mimetype": "text/x-python",
   "name": "python",
   "nbconvert_exporter": "python",
   "pygments_lexer": "ipython3",
   "version": "3.10.12"
  }
 },
 "nbformat": 4,
 "nbformat_minor": 5
}
