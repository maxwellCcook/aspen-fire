{
 "cells": [
  {
   "cell_type": "code",
   "id": "e8875da6-de28-494e-8590-5deff24c959f",
   "metadata": {
    "ExecuteTime": {
     "end_time": "2025-10-04T20:24:45.814245Z",
     "start_time": "2025-10-04T20:24:43.934388Z"
    }
   },
   "source": [
    "\"\"\"\n",
    "Calculate fire severity statistics within AFD observations from MODIS and VIIRS.\n",
    "Severity index: Composite Burn Severity (CBI), calculated in GEE via Parks (2018)\n",
    "\n",
    "Author: maxwell.cook@colorado.edu\n",
    "\"\"\"\n",
    "\n",
    "import os, sys\n",
    "import ee\n",
    "\n",
    "# Custom functions\n",
    "sys.path.append(os.path.join(os.getcwd(),'code/'))\n",
    "from __functions import *\n",
    "\n",
    "ee.Authenticate()\n",
    "ee.Initialize(project='jfsp-aspen')\n",
    "\n",
    "print(\"Success !\")"
   ],
   "outputs": [
    {
     "name": "stdout",
     "output_type": "stream",
     "text": [
      "Success !\n"
     ]
    }
   ],
   "execution_count": 17
  },
  {
   "cell_type": "code",
   "id": "630cba3c-2a17-432d-83aa-db242a71dcbe",
   "metadata": {
    "ExecuteTime": {
     "end_time": "2025-10-04T19:59:41.091403Z",
     "start_time": "2025-10-04T19:59:39.872804Z"
    }
   },
   "source": [
    "# Load the gridded FRP data\n",
    "grid = ee.FeatureCollection('projects/jfsp-aspen/assets/AFD/viirs_snpp_jpss1_afd_gridstats')\n",
    "print(f\"Number of grid cells: {grid.size().getInfo()}\")\n",
    "grid = grid.select(['grid_index','Fire_ID'])\n",
    "# Align the grid geometries with the GridMET projection\n",
    "# Define the DEM projection explicitly\n",
    "dem_proj = ee.ImageCollection('USGS/3DEP/10m_collection').first().projection()\n",
    "# Reproject geometries properly\n",
    "grid = grid.map(lambda f: f.setGeometry(\n",
    "    f.geometry().transform(dem_proj, 30)  # 30 m tolerance for reprojection\n",
    "))\n",
    "print(grid.first().propertyNames().getInfo())"
   ],
   "outputs": [
    {
     "name": "stdout",
     "output_type": "stream",
     "text": [
      "Number of grid cells: 56974\n",
      "['system:index', 'grid_index', 'Fire_ID']\n"
     ]
    }
   ],
   "execution_count": 5
  },
  {
   "cell_type": "code",
   "id": "fbfaa245-9531-4093-9164-cad232b809d7",
   "metadata": {
    "ExecuteTime": {
     "end_time": "2025-10-04T21:22:18.369516Z",
     "start_time": "2025-10-04T21:22:17.904842Z"
    }
   },
   "source": [
    "# Load topographic collections\n",
    "from tagee import terrainAnalysis\n",
    "\n",
    "# set up a smoothed DEM\n",
    "gaussianFilter = ee.Kernel.gaussian(\n",
    "  radius=3, sigma=2, units='pixels', normalize=True\n",
    ")\n",
    "srtmSmooth = ee.Image(\"USGS/SRTMGL1_003\").convolve(gaussianFilter).resample(\"bilinear\")\n",
    "\n",
    "# Calculate terrain metrics over a given geometry.\n",
    "terrainMetrics = terrainAnalysis(srtmSmooth)\n",
    "terrainMetrics = terrainMetrics.select(['Elevation', 'Slope', 'Northness', 'Eastness'], ['elevation','slope','northness','eastness'])\n",
    "\n",
    "# Continuous Heat-Insolation Load Index (CHILI)\n",
    "chili = ee.Image(\"CSP/ERGo/1_0/US/CHILI\").rename('chili')\n",
    "\n",
    "# --- Combine with slope and elevation ---\n",
    "terrainMetrics = terrainMetrics.addBands(chili)\n",
    "print(terrainMetrics.bandNames().getInfo())"
   ],
   "outputs": [
    {
     "data": {
      "text/plain": [
       "<IPython.core.display.HTML object>"
      ],
      "text/html": [
       "\n",
       "            <style>\n",
       "                .geemap-dark {\n",
       "                    --jp-widgets-color: white;\n",
       "                    --jp-widgets-label-color: white;\n",
       "                    --jp-ui-font-color1: white;\n",
       "                    --jp-layout-color2: #454545;\n",
       "                    background-color: #383838;\n",
       "                }\n",
       "\n",
       "                .geemap-dark .jupyter-button {\n",
       "                    --jp-layout-color3: #383838;\n",
       "                }\n",
       "\n",
       "                .geemap-colab {\n",
       "                    background-color: var(--colab-primary-surface-color, white);\n",
       "                }\n",
       "\n",
       "                .geemap-colab .jupyter-button {\n",
       "                    --jp-layout-color3: var(--colab-primary-surface-color, white);\n",
       "                }\n",
       "            </style>\n",
       "            "
      ]
     },
     "metadata": {},
     "output_type": "display_data"
    },
    {
     "name": "stdout",
     "output_type": "stream",
     "text": [
      "['elevation', 'slope', 'northness', 'eastness', 'chili']\n"
     ]
    }
   ],
   "execution_count": 46
  },
  {
   "cell_type": "code",
   "id": "19d56c44-c07d-4af7-9494-c5ae7e7ed863",
   "metadata": {
    "ExecuteTime": {
     "end_time": "2025-10-04T21:23:55.965072Z",
     "start_time": "2025-10-04T21:22:24.120257Z"
    }
   },
   "source": [
    "# Run the reduction on the grid\n",
    "dem_stats = terrainMetrics.reduceRegions(\n",
    "    collection=grid,\n",
    "    reducer=ee.Reducer.mean(),\n",
    "    scale=30\n",
    ")\n",
    "\n",
    "# run TPI separately\n",
    "# Topographic Position Index (TPI) (USGS NED 10m-based, 270m res)\n",
    "tpi = ee.Image(\"CSP/ERGo/1_0/US/mTPI\").rename('tpi')\n",
    "tpi_stats = tpi.reduceRegions(\n",
    "    collection=grid,\n",
    "    reducer=ee.Reducer.mode().setOutputs(['tpi']),\n",
    "    scale=270, # resolution of the TPI\n",
    "    tileScale=2\n",
    ")\n",
    "\n",
    "# merge these\n",
    "# Define a join filter\n",
    "join_filter = ee.Filter.equals(\n",
    "    leftField='grid_index',\n",
    "    rightField='grid_index'\n",
    ")\n",
    "\n",
    "# Apply an inner join (keeps matching features)\n",
    "joined = ee.Join.inner().apply(dem_stats, tpi_stats, join_filter)\n",
    "\n",
    "# Merge properties into single feature\n",
    "def merge_feats(f):\n",
    "    left = ee.Feature(f.get('primary'))\n",
    "    right = ee.Feature(f.get('secondary'))\n",
    "    return left.copyProperties(right)\n",
    "\n",
    "# Create final merged collection\n",
    "topo_stats = ee.FeatureCollection(joined.map(merge_feats))\n",
    "\n",
    "# Pull a few features into Python to inspect\n",
    "sample = topo_stats.limit(10).getInfo()\n",
    "props = [f['properties'] for f in sample['features']]\n",
    "df = pd.DataFrame(props)\n",
    "df"
   ],
   "outputs": [
    {
     "data": {
      "text/plain": [
       "<IPython.core.display.HTML object>"
      ],
      "text/html": [
       "\n",
       "            <style>\n",
       "                .geemap-dark {\n",
       "                    --jp-widgets-color: white;\n",
       "                    --jp-widgets-label-color: white;\n",
       "                    --jp-ui-font-color1: white;\n",
       "                    --jp-layout-color2: #454545;\n",
       "                    background-color: #383838;\n",
       "                }\n",
       "\n",
       "                .geemap-dark .jupyter-button {\n",
       "                    --jp-layout-color3: #383838;\n",
       "                }\n",
       "\n",
       "                .geemap-colab {\n",
       "                    background-color: var(--colab-primary-surface-color, white);\n",
       "                }\n",
       "\n",
       "                .geemap-colab .jupyter-button {\n",
       "                    --jp-layout-color3: var(--colab-primary-surface-color, white);\n",
       "                }\n",
       "            </style>\n",
       "            "
      ]
     },
     "metadata": {},
     "output_type": "display_data"
    },
    {
     "data": {
      "text/plain": [
       "  Fire_ID       chili  eastness    elevation  grid_index  northness  \\\n",
       "0      71  184.530786  0.013091  2621.674122     1766660   0.906543   \n",
       "1      71  181.574906  0.327737  2586.930004     1766661   0.761077   \n",
       "2      71  197.110966 -0.380865  2557.561706     1766662   0.400299   \n",
       "3      71  205.781335 -0.688227  2539.404715     1766663   0.300543   \n",
       "4      71  195.675797  0.754680  2619.043826     1768909   0.100018   \n",
       "5      71  190.175313 -0.007775  2613.639388     1768910   0.470546   \n",
       "6      71  198.659918 -0.478300  2605.966335     1768913   0.116766   \n",
       "7      71  215.767483 -0.209094  2602.310283     1771159  -0.422815   \n",
       "8      71  219.775477 -0.670701  2639.941341     1771160  -0.616474   \n",
       "9      71  206.061009 -0.496901  2656.379124     1771163  -0.005822   \n",
       "\n",
       "       slope  tpi  \n",
       "0   9.964018    2  \n",
       "1  10.120274   -8  \n",
       "2  12.572239  -11  \n",
       "3  10.692603  -41  \n",
       "4   7.323137    5  \n",
       "5   9.802152   -6  \n",
       "6  18.635969  -18  \n",
       "7  13.771395  -12  \n",
       "8  11.967990   15  \n",
       "9  17.295700    2  "
      ],
      "text/html": [
       "<div>\n",
       "<style scoped>\n",
       "    .dataframe tbody tr th:only-of-type {\n",
       "        vertical-align: middle;\n",
       "    }\n",
       "\n",
       "    .dataframe tbody tr th {\n",
       "        vertical-align: top;\n",
       "    }\n",
       "\n",
       "    .dataframe thead th {\n",
       "        text-align: right;\n",
       "    }\n",
       "</style>\n",
       "<table border=\"1\" class=\"dataframe\">\n",
       "  <thead>\n",
       "    <tr style=\"text-align: right;\">\n",
       "      <th></th>\n",
       "      <th>Fire_ID</th>\n",
       "      <th>chili</th>\n",
       "      <th>eastness</th>\n",
       "      <th>elevation</th>\n",
       "      <th>grid_index</th>\n",
       "      <th>northness</th>\n",
       "      <th>slope</th>\n",
       "      <th>tpi</th>\n",
       "    </tr>\n",
       "  </thead>\n",
       "  <tbody>\n",
       "    <tr>\n",
       "      <th>0</th>\n",
       "      <td>71</td>\n",
       "      <td>184.530786</td>\n",
       "      <td>0.013091</td>\n",
       "      <td>2621.674122</td>\n",
       "      <td>1766660</td>\n",
       "      <td>0.906543</td>\n",
       "      <td>9.964018</td>\n",
       "      <td>2</td>\n",
       "    </tr>\n",
       "    <tr>\n",
       "      <th>1</th>\n",
       "      <td>71</td>\n",
       "      <td>181.574906</td>\n",
       "      <td>0.327737</td>\n",
       "      <td>2586.930004</td>\n",
       "      <td>1766661</td>\n",
       "      <td>0.761077</td>\n",
       "      <td>10.120274</td>\n",
       "      <td>-8</td>\n",
       "    </tr>\n",
       "    <tr>\n",
       "      <th>2</th>\n",
       "      <td>71</td>\n",
       "      <td>197.110966</td>\n",
       "      <td>-0.380865</td>\n",
       "      <td>2557.561706</td>\n",
       "      <td>1766662</td>\n",
       "      <td>0.400299</td>\n",
       "      <td>12.572239</td>\n",
       "      <td>-11</td>\n",
       "    </tr>\n",
       "    <tr>\n",
       "      <th>3</th>\n",
       "      <td>71</td>\n",
       "      <td>205.781335</td>\n",
       "      <td>-0.688227</td>\n",
       "      <td>2539.404715</td>\n",
       "      <td>1766663</td>\n",
       "      <td>0.300543</td>\n",
       "      <td>10.692603</td>\n",
       "      <td>-41</td>\n",
       "    </tr>\n",
       "    <tr>\n",
       "      <th>4</th>\n",
       "      <td>71</td>\n",
       "      <td>195.675797</td>\n",
       "      <td>0.754680</td>\n",
       "      <td>2619.043826</td>\n",
       "      <td>1768909</td>\n",
       "      <td>0.100018</td>\n",
       "      <td>7.323137</td>\n",
       "      <td>5</td>\n",
       "    </tr>\n",
       "    <tr>\n",
       "      <th>5</th>\n",
       "      <td>71</td>\n",
       "      <td>190.175313</td>\n",
       "      <td>-0.007775</td>\n",
       "      <td>2613.639388</td>\n",
       "      <td>1768910</td>\n",
       "      <td>0.470546</td>\n",
       "      <td>9.802152</td>\n",
       "      <td>-6</td>\n",
       "    </tr>\n",
       "    <tr>\n",
       "      <th>6</th>\n",
       "      <td>71</td>\n",
       "      <td>198.659918</td>\n",
       "      <td>-0.478300</td>\n",
       "      <td>2605.966335</td>\n",
       "      <td>1768913</td>\n",
       "      <td>0.116766</td>\n",
       "      <td>18.635969</td>\n",
       "      <td>-18</td>\n",
       "    </tr>\n",
       "    <tr>\n",
       "      <th>7</th>\n",
       "      <td>71</td>\n",
       "      <td>215.767483</td>\n",
       "      <td>-0.209094</td>\n",
       "      <td>2602.310283</td>\n",
       "      <td>1771159</td>\n",
       "      <td>-0.422815</td>\n",
       "      <td>13.771395</td>\n",
       "      <td>-12</td>\n",
       "    </tr>\n",
       "    <tr>\n",
       "      <th>8</th>\n",
       "      <td>71</td>\n",
       "      <td>219.775477</td>\n",
       "      <td>-0.670701</td>\n",
       "      <td>2639.941341</td>\n",
       "      <td>1771160</td>\n",
       "      <td>-0.616474</td>\n",
       "      <td>11.967990</td>\n",
       "      <td>15</td>\n",
       "    </tr>\n",
       "    <tr>\n",
       "      <th>9</th>\n",
       "      <td>71</td>\n",
       "      <td>206.061009</td>\n",
       "      <td>-0.496901</td>\n",
       "      <td>2656.379124</td>\n",
       "      <td>1771163</td>\n",
       "      <td>-0.005822</td>\n",
       "      <td>17.295700</td>\n",
       "      <td>2</td>\n",
       "    </tr>\n",
       "  </tbody>\n",
       "</table>\n",
       "</div>"
      ]
     },
     "execution_count": 47,
     "metadata": {},
     "output_type": "execute_result"
    }
   ],
   "execution_count": 47
  },
  {
   "cell_type": "code",
   "id": "4d25b420-ec86-419e-8a44-823853ecd985",
   "metadata": {
    "ExecuteTime": {
     "end_time": "2025-10-04T21:40:17.014182Z",
     "start_time": "2025-10-04T21:24:14.463786Z"
    }
   },
   "source": [
    "# Remove geometry\n",
    "def remove_geometry(ftr):\n",
    "    return ftr.setGeometry(None)\n",
    "topo_stats = topo_stats.map(remove_geometry)\n",
    "\n",
    "# export to drive\n",
    "export_task = ee.batch.Export.table.toDrive(\n",
    "    collection=topo_stats,\n",
    "    description='gridstats_topo_v2',\n",
    "    fileNamePrefix='gridstats_topo_v2',\n",
    "    fileFormat='CSV', \n",
    "    folder='TOPO_V2'\n",
    ")\n",
    "\n",
    "export_task.start() # Start the export task\n",
    "print(\"Export to Earth Engine Asset started!\")\n",
    "# Monitor the task until it's finished\n",
    "monitor_export(export_task, 60)"
   ],
   "outputs": [
    {
     "data": {
      "text/plain": [
       "<IPython.core.display.HTML object>"
      ],
      "text/html": [
       "\n",
       "            <style>\n",
       "                .geemap-dark {\n",
       "                    --jp-widgets-color: white;\n",
       "                    --jp-widgets-label-color: white;\n",
       "                    --jp-ui-font-color1: white;\n",
       "                    --jp-layout-color2: #454545;\n",
       "                    background-color: #383838;\n",
       "                }\n",
       "\n",
       "                .geemap-dark .jupyter-button {\n",
       "                    --jp-layout-color3: #383838;\n",
       "                }\n",
       "\n",
       "                .geemap-colab {\n",
       "                    background-color: var(--colab-primary-surface-color, white);\n",
       "                }\n",
       "\n",
       "                .geemap-colab .jupyter-button {\n",
       "                    --jp-layout-color3: var(--colab-primary-surface-color, white);\n",
       "                }\n",
       "            </style>\n",
       "            "
      ]
     },
     "metadata": {},
     "output_type": "display_data"
    },
    {
     "name": "stdout",
     "output_type": "stream",
     "text": [
      "Export to Earth Engine Asset started!\n",
      "Waiting for export to finish..\n",
      "\tPatience young padawan.\n",
      "Waiting for export to finish..\n",
      "\tPatience young padawan.\n",
      "Waiting for export to finish..\n",
      "\tPatience young padawan.\n",
      "Waiting for export to finish..\n",
      "\tPatience young padawan.\n",
      "Waiting for export to finish..\n",
      "\tPatience young padawan.\n",
      "Waiting for export to finish..\n",
      "\tPatience young padawan.\n",
      "Waiting for export to finish..\n",
      "\tPatience young padawan.\n",
      "Waiting for export to finish..\n",
      "\tPatience young padawan.\n",
      "Waiting for export to finish..\n",
      "\tPatience young padawan.\n",
      "Waiting for export to finish..\n",
      "\tPatience young padawan.\n",
      "Waiting for export to finish..\n",
      "\tPatience young padawan.\n",
      "Waiting for export to finish..\n",
      "\tPatience young padawan.\n",
      "Waiting for export to finish..\n",
      "\tPatience young padawan.\n",
      "Waiting for export to finish..\n",
      "\tPatience young padawan.\n",
      "Waiting for export to finish..\n",
      "\tPatience young padawan.\n",
      "Waiting for export to finish..\n",
      "\tPatience young padawan.\n",
      "Export completed successfully !!!!\n"
     ]
    }
   ],
   "execution_count": 48
  }
 ],
 "metadata": {
  "kernelspec": {
   "display_name": "aspen-fire",
   "language": "python",
   "name": "aspen-fire"
  },
  "language_info": {
   "codemirror_mode": {
    "name": "ipython",
    "version": 3
   },
   "file_extension": ".py",
   "mimetype": "text/x-python",
   "name": "python",
   "nbconvert_exporter": "python",
   "pygments_lexer": "ipython3",
   "version": "3.10.12"
  }
 },
 "nbformat": 4,
 "nbformat_minor": 5
}
