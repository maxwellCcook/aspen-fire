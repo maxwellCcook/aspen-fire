{
 "cells": [
  {
   "cell_type": "code",
   "execution_count": 1,
   "id": "49947ce4-1f30-4924-896d-542778ac24a6",
   "metadata": {},
   "outputs": [
    {
     "name": "stdout",
     "output_type": "stream",
     "text": [
      "Ready to go !\n"
     ]
    }
   ],
   "source": [
    "\"\"\"\n",
    "Link daily Fire Radiative Power (FRP) retrievals to daily fire perimeters\n",
    "Author: maxwell.cook@colorado.edu\n",
    "\"\"\"\n",
    "\n",
    "import os, time, glob, gc\n",
    "import numpy as np\n",
    "import pandas as pd\n",
    "import geopandas as gpd\n",
    "import matplotlib as mpl\n",
    "import matplotlib.pyplot as plt\n",
    "import seaborn as sns\n",
    "import pytz\n",
    "\n",
    "from datetime import datetime\n",
    "from shapely.geometry import box\n",
    "from shapely.geometry import Polygon, MultiPolygon\n",
    "\n",
    "import warnings\n",
    "warnings.filterwarnings(\"ignore\") # suppresses annoying geopandas warning\n",
    "\n",
    "proj = 'EPSG:5070'\n",
    "\n",
    "maindir = '/Users/max/Library/CloudStorage/OneDrive-Personal/mcook/'\n",
    "projdir = os.path.join(maindir, 'aspen-fire/Aim2/')\n",
    "\n",
    "print(\"Ready to go !\")"
   ]
  },
  {
   "cell_type": "code",
   "execution_count": 2,
   "id": "3c69eb3b-f9d3-4724-a705-22c112920d6b",
   "metadata": {},
   "outputs": [
    {
     "name": "stdout",
     "output_type": "stream",
     "text": [
      "Functions read !\n"
     ]
    }
   ],
   "source": [
    "def create_bounds(gdf, buffer=None, by_bounds=True):\n",
    "    \"\"\" Calculate a bounding rectangle for a given geometry and buffer \"\"\"\n",
    "    if by_bounds is True:\n",
    "        geom = gdf.geometry.apply(lambda geo: box(*geo.bounds))\n",
    "        if buffer is not None:\n",
    "            geom = geom.buffer(buffer)\n",
    "        # Apply the new geometry\n",
    "        gdf_ = gdf.copy()\n",
    "        gdf_.geometry = geom.geometry.apply(\n",
    "            lambda geo: Polygon(geo) if geo.geom_type == 'Polygon' else MultiPolygon([geo]))\n",
    "        return gdf_\n",
    "    elif by_bounds is False:\n",
    "        if buffer is not None:\n",
    "            geom = gdf.geometry.buffer(buffer)\n",
    "        else:\n",
    "            gdf_ = gdf.copy()\n",
    "            gdf_.geometry = gdf_.geometry.buffer(buffer)\n",
    "            return gdf_    \n",
    "\n",
    " \n",
    "def convert_datetime(acq_date, acq_time):\n",
    "    \"\"\" Function to convert ACQ_DATE and ACQ_TIME to a datetime object in UTC \"\"\"\n",
    "    # Ensure ACQ_TIME is in HHMM format\n",
    "    acq_time = str(acq_time) # force to string\n",
    "    if len(acq_time) == 3:\n",
    "        acq_time = '0' + acq_time\n",
    "    elif len(acq_time) == 2:\n",
    "        acq_time = '00' + acq_time\n",
    "    elif len(acq_time) == 1:\n",
    "        acq_time = '000' + acq_time\n",
    "\n",
    "    acq_date_str = acq_date.strftime('%Y-%m-%d')\n",
    "    dt = datetime.strptime(acq_date_str + acq_time, '%Y-%m-%d%H%M')\n",
    "    dt_utc = pytz.utc.localize(dt)  # Localize the datetime object to UTC\n",
    "    return dt_utc\n",
    "\n",
    "\n",
    "print(\"Functions read !\")"
   ]
  },
  {
   "cell_type": "code",
   "execution_count": null,
   "id": "c62a76f5-3360-443f-b2fd-2d75546f1d79",
   "metadata": {},
   "outputs": [],
   "source": []
  },
  {
   "cell_type": "code",
   "execution_count": 3,
   "id": "92f3265a-348b-4093-a1b5-ef0bc30f989d",
   "metadata": {},
   "outputs": [],
   "source": [
    "# Load the fire data."
   ]
  },
  {
   "cell_type": "code",
   "execution_count": null,
   "id": "e8b70e87-83d7-416f-a886-fc6db0031161",
   "metadata": {},
   "outputs": [],
   "source": []
  },
  {
   "cell_type": "code",
   "execution_count": 4,
   "id": "444d750f-ac02-471b-a570-8f26385cf39c",
   "metadata": {},
   "outputs": [
    {
     "data": {
      "text/plain": [
       "Index(['id', 'ig_date', 'ig_day', 'ig_month', 'ig_year', 'last_date',\n",
       "       'event_dur', 'tot_pix', 'tot_ar_km2', 'fsr_px_dy', 'fsr_km2_dy',\n",
       "       'mx_grw_px', 'mx_grw_km2', 'mx_grw_dte', 'ig_utm_x', 'ig_utm_y',\n",
       "       'na_l3name', 'pct_aspen', 'geometry'],\n",
       "      dtype='object')"
      ]
     },
     "execution_count": 4,
     "metadata": {},
     "output_type": "execute_result"
    }
   ],
   "source": [
    "aspen_events_fp = os.path.join(projdir,'data/spatial/mod/FIRED/fired-events_west_2018_to_2024_aspen.gpkg')\n",
    "aspen_events = gpd.read_file(aspen_events_fp)\n",
    "aspen_events.columns"
   ]
  },
  {
   "cell_type": "code",
   "execution_count": null,
   "id": "d2bee532-a7c1-4c15-aad6-764c7dd6da7f",
   "metadata": {},
   "outputs": [],
   "source": []
  },
  {
   "cell_type": "code",
   "execution_count": 5,
   "id": "2cc9fd02-0c88-4c58-af56-1f1d05a3098a",
   "metadata": {},
   "outputs": [],
   "source": [
    "# Create a fire perimeter buffer to extract FRP observations within 1km of bounds."
   ]
  },
  {
   "cell_type": "code",
   "execution_count": 6,
   "id": "258aba23-d897-44c6-828b-a657e3e323ce",
   "metadata": {},
   "outputs": [
    {
     "data": {
      "text/html": [
       "<div>\n",
       "<style scoped>\n",
       "    .dataframe tbody tr th:only-of-type {\n",
       "        vertical-align: middle;\n",
       "    }\n",
       "\n",
       "    .dataframe tbody tr th {\n",
       "        vertical-align: top;\n",
       "    }\n",
       "\n",
       "    .dataframe thead th {\n",
       "        text-align: right;\n",
       "    }\n",
       "</style>\n",
       "<table border=\"1\" class=\"dataframe\">\n",
       "  <thead>\n",
       "    <tr style=\"text-align: right;\">\n",
       "      <th></th>\n",
       "      <th>id</th>\n",
       "      <th>ig_date</th>\n",
       "      <th>last_date</th>\n",
       "      <th>geometry</th>\n",
       "    </tr>\n",
       "  </thead>\n",
       "  <tbody>\n",
       "    <tr>\n",
       "      <th>0</th>\n",
       "      <td>282</td>\n",
       "      <td>2021-08-05</td>\n",
       "      <td>2021-08-05</td>\n",
       "      <td>POLYGON ((-2086715.084 2356782.795, -2087666.8...</td>\n",
       "    </tr>\n",
       "    <tr>\n",
       "      <th>1</th>\n",
       "      <td>492</td>\n",
       "      <td>2018-08-09</td>\n",
       "      <td>2018-08-13</td>\n",
       "      <td>POLYGON ((-2099220.550 2280974.827, -2105343.3...</td>\n",
       "    </tr>\n",
       "    <tr>\n",
       "      <th>2</th>\n",
       "      <td>1796</td>\n",
       "      <td>2021-10-28</td>\n",
       "      <td>2021-11-04</td>\n",
       "      <td>POLYGON ((-1796487.029 1997450.102, -1799267.9...</td>\n",
       "    </tr>\n",
       "    <tr>\n",
       "      <th>3</th>\n",
       "      <td>2207</td>\n",
       "      <td>2021-10-30</td>\n",
       "      <td>2021-10-30</td>\n",
       "      <td>POLYGON ((-1822312.155 1967211.915, -1823260.8...</td>\n",
       "    </tr>\n",
       "    <tr>\n",
       "      <th>4</th>\n",
       "      <td>2314</td>\n",
       "      <td>2021-10-29</td>\n",
       "      <td>2021-10-29</td>\n",
       "      <td>POLYGON ((-1758198.372 1945155.099, -1759124.2...</td>\n",
       "    </tr>\n",
       "  </tbody>\n",
       "</table>\n",
       "</div>"
      ],
      "text/plain": [
       "     id    ig_date  last_date  \\\n",
       "0   282 2021-08-05 2021-08-05   \n",
       "1   492 2018-08-09 2018-08-13   \n",
       "2  1796 2021-10-28 2021-11-04   \n",
       "3  2207 2021-10-30 2021-10-30   \n",
       "4  2314 2021-10-29 2021-10-29   \n",
       "\n",
       "                                            geometry  \n",
       "0  POLYGON ((-2086715.084 2356782.795, -2087666.8...  \n",
       "1  POLYGON ((-2099220.550 2280974.827, -2105343.3...  \n",
       "2  POLYGON ((-1796487.029 1997450.102, -1799267.9...  \n",
       "3  POLYGON ((-1822312.155 1967211.915, -1823260.8...  \n",
       "4  POLYGON ((-1758198.372 1945155.099, -1759124.2...  "
      ]
     },
     "execution_count": 6,
     "metadata": {},
     "output_type": "execute_result"
    }
   ],
   "source": [
    "bounds = create_bounds(aspen_events, by_bounds=True, buffer=1000)\n",
    "bounds = bounds.set_crs(proj, allow_override=True) # ensure correct crs\n",
    "bounds = bounds[['id','ig_date','last_date','geometry']] \n",
    "bounds.head()"
   ]
  },
  {
   "cell_type": "code",
   "execution_count": null,
   "id": "9572203e-1079-421d-845e-94e3ff7fe2d4",
   "metadata": {},
   "outputs": [],
   "source": []
  },
  {
   "cell_type": "code",
   "execution_count": 7,
   "id": "9280561c-b025-4e3e-98fe-115f78f37ac7",
   "metadata": {},
   "outputs": [],
   "source": [
    "# Load the Active Fire Detection (AFD) data"
   ]
  },
  {
   "cell_type": "markdown",
   "id": "7ad1174f-72bd-4e7f-8716-a96ee53ac573",
   "metadata": {},
   "source": [
    "AFDs from MODIS Collection 6.1 (1km) and the Suomi National Polar-Orbiting Partnership (VIIRS S-NPP 375m) were obtained from the NASA FIRMS (https://firms.modaps.eosdis.nasa.gov/download/) between 2018-2023 in the western US. The S-NPP AFDs include an archive shapefile and a NRT shapefile for Sept 2022-->"
   ]
  },
  {
   "cell_type": "code",
   "execution_count": 8,
   "id": "3eae4f3f-685b-4a9c-9557-b9ba89b94bd7",
   "metadata": {},
   "outputs": [
    {
     "name": "stdout",
     "output_type": "stream",
     "text": [
      "['fire_nrt_SV-C2_476784.shp', 'fire_archive_SV-C2_476784.shp']\n"
     ]
    }
   ],
   "source": [
    "# Gather the archive and NRT S-NPP AFDs.\n",
    "snpp_fp = os.path.join(projdir,'data/spatial/raw/NASA-FIRMS/DL_FIRE_SV-C2_476784/')\n",
    "vects = glob.glob(snpp_fp+\"*.shp\")\n",
    "print([os.path.basename(v) for v in vects])"
   ]
  },
  {
   "cell_type": "code",
   "execution_count": 9,
   "id": "ab8eb693-f076-457b-bd7d-4ee7aac2c66a",
   "metadata": {},
   "outputs": [
    {
     "data": {
      "text/html": [
       "<div>\n",
       "<style scoped>\n",
       "    .dataframe tbody tr th:only-of-type {\n",
       "        vertical-align: middle;\n",
       "    }\n",
       "\n",
       "    .dataframe tbody tr th {\n",
       "        vertical-align: top;\n",
       "    }\n",
       "\n",
       "    .dataframe thead th {\n",
       "        text-align: right;\n",
       "    }\n",
       "</style>\n",
       "<table border=\"1\" class=\"dataframe\">\n",
       "  <thead>\n",
       "    <tr style=\"text-align: right;\">\n",
       "      <th></th>\n",
       "      <th>LATITUDE</th>\n",
       "      <th>LONGITUDE</th>\n",
       "      <th>BRIGHTNESS</th>\n",
       "      <th>SCAN</th>\n",
       "      <th>TRACK</th>\n",
       "      <th>ACQ_DATE</th>\n",
       "      <th>ACQ_TIME</th>\n",
       "      <th>SATELLITE</th>\n",
       "      <th>INSTRUMENT</th>\n",
       "      <th>CONFIDENCE</th>\n",
       "      <th>VERSION</th>\n",
       "      <th>BRIGHT_T31</th>\n",
       "      <th>FRP</th>\n",
       "      <th>DAYNIGHT</th>\n",
       "      <th>TYPE</th>\n",
       "      <th>geometry</th>\n",
       "    </tr>\n",
       "  </thead>\n",
       "  <tbody>\n",
       "    <tr>\n",
       "      <th>0</th>\n",
       "      <td>36.622398</td>\n",
       "      <td>-119.958420</td>\n",
       "      <td>319.25</td>\n",
       "      <td>0.45</td>\n",
       "      <td>0.63</td>\n",
       "      <td>2018-01-01</td>\n",
       "      <td>0854</td>\n",
       "      <td>N</td>\n",
       "      <td>VIIRS</td>\n",
       "      <td>n</td>\n",
       "      <td>1</td>\n",
       "      <td>276.46</td>\n",
       "      <td>1.93</td>\n",
       "      <td>N</td>\n",
       "      <td>0.0</td>\n",
       "      <td>POINT (-2100437.814 1774627.392)</td>\n",
       "    </tr>\n",
       "    <tr>\n",
       "      <th>1</th>\n",
       "      <td>48.166241</td>\n",
       "      <td>-102.698212</td>\n",
       "      <td>323.92</td>\n",
       "      <td>0.38</td>\n",
       "      <td>0.36</td>\n",
       "      <td>2018-01-01</td>\n",
       "      <td>0854</td>\n",
       "      <td>N</td>\n",
       "      <td>VIIRS</td>\n",
       "      <td>n</td>\n",
       "      <td>1</td>\n",
       "      <td>244.01</td>\n",
       "      <td>3.01</td>\n",
       "      <td>N</td>\n",
       "      <td>0.0</td>\n",
       "      <td>POINT (-502299.189 2814197.682)</td>\n",
       "    </tr>\n",
       "    <tr>\n",
       "      <th>2</th>\n",
       "      <td>48.152390</td>\n",
       "      <td>-102.697792</td>\n",
       "      <td>325.34</td>\n",
       "      <td>0.38</td>\n",
       "      <td>0.36</td>\n",
       "      <td>2018-01-01</td>\n",
       "      <td>0854</td>\n",
       "      <td>N</td>\n",
       "      <td>VIIRS</td>\n",
       "      <td>n</td>\n",
       "      <td>1</td>\n",
       "      <td>247.16</td>\n",
       "      <td>2.07</td>\n",
       "      <td>N</td>\n",
       "      <td>0.0</td>\n",
       "      <td>POINT (-502375.241 2812672.753)</td>\n",
       "    </tr>\n",
       "    <tr>\n",
       "      <th>3</th>\n",
       "      <td>47.879730</td>\n",
       "      <td>-102.706543</td>\n",
       "      <td>320.74</td>\n",
       "      <td>0.38</td>\n",
       "      <td>0.36</td>\n",
       "      <td>2018-01-01</td>\n",
       "      <td>0854</td>\n",
       "      <td>N</td>\n",
       "      <td>VIIRS</td>\n",
       "      <td>n</td>\n",
       "      <td>1</td>\n",
       "      <td>245.34</td>\n",
       "      <td>3.00</td>\n",
       "      <td>N</td>\n",
       "      <td>0.0</td>\n",
       "      <td>POINT (-505150.481 2782728.231)</td>\n",
       "    </tr>\n",
       "    <tr>\n",
       "      <th>4</th>\n",
       "      <td>44.249660</td>\n",
       "      <td>-104.516678</td>\n",
       "      <td>327.49</td>\n",
       "      <td>0.38</td>\n",
       "      <td>0.36</td>\n",
       "      <td>2018-01-01</td>\n",
       "      <td>0854</td>\n",
       "      <td>N</td>\n",
       "      <td>VIIRS</td>\n",
       "      <td>n</td>\n",
       "      <td>1</td>\n",
       "      <td>251.79</td>\n",
       "      <td>5.84</td>\n",
       "      <td>N</td>\n",
       "      <td>0.0</td>\n",
       "      <td>POINT (-677212.174 2392519.636)</td>\n",
       "    </tr>\n",
       "  </tbody>\n",
       "</table>\n",
       "</div>"
      ],
      "text/plain": [
       "    LATITUDE   LONGITUDE  BRIGHTNESS  SCAN  TRACK    ACQ_DATE ACQ_TIME  \\\n",
       "0  36.622398 -119.958420      319.25  0.45   0.63  2018-01-01     0854   \n",
       "1  48.166241 -102.698212      323.92  0.38   0.36  2018-01-01     0854   \n",
       "2  48.152390 -102.697792      325.34  0.38   0.36  2018-01-01     0854   \n",
       "3  47.879730 -102.706543      320.74  0.38   0.36  2018-01-01     0854   \n",
       "4  44.249660 -104.516678      327.49  0.38   0.36  2018-01-01     0854   \n",
       "\n",
       "  SATELLITE INSTRUMENT CONFIDENCE VERSION  BRIGHT_T31   FRP DAYNIGHT  TYPE  \\\n",
       "0         N      VIIRS          n       1      276.46  1.93        N   0.0   \n",
       "1         N      VIIRS          n       1      244.01  3.01        N   0.0   \n",
       "2         N      VIIRS          n       1      247.16  2.07        N   0.0   \n",
       "3         N      VIIRS          n       1      245.34  3.00        N   0.0   \n",
       "4         N      VIIRS          n       1      251.79  5.84        N   0.0   \n",
       "\n",
       "                           geometry  \n",
       "0  POINT (-2100437.814 1774627.392)  \n",
       "1   POINT (-502299.189 2814197.682)  \n",
       "2   POINT (-502375.241 2812672.753)  \n",
       "3   POINT (-505150.481 2782728.231)  \n",
       "4   POINT (-677212.174 2392519.636)  "
      ]
     },
     "execution_count": 9,
     "metadata": {},
     "output_type": "execute_result"
    }
   ],
   "source": [
    "# Merge the NRT and archive vintages\n",
    "archive = gpd.read_file([v for v in vects if \"archive\" in v][0]).to_crs(proj)\n",
    "nrt = gpd.read_file([v for v in vects if \"nrt\" in v][0]).to_crs(proj)\n",
    "snpp = pd.concat([archive, nrt], ignore_index=True)\n",
    "snpp.head()"
   ]
  },
  {
   "cell_type": "code",
   "execution_count": 10,
   "id": "126f1a3f-ed29-4066-9e8e-6ddb84ba2a8f",
   "metadata": {},
   "outputs": [
    {
     "data": {
      "text/html": [
       "<div>\n",
       "<style scoped>\n",
       "    .dataframe tbody tr th:only-of-type {\n",
       "        vertical-align: middle;\n",
       "    }\n",
       "\n",
       "    .dataframe tbody tr th {\n",
       "        vertical-align: top;\n",
       "    }\n",
       "\n",
       "    .dataframe thead th {\n",
       "        text-align: right;\n",
       "    }\n",
       "</style>\n",
       "<table border=\"1\" class=\"dataframe\">\n",
       "  <thead>\n",
       "    <tr style=\"text-align: right;\">\n",
       "      <th></th>\n",
       "      <th>LATITUDE</th>\n",
       "      <th>LONGITUDE</th>\n",
       "      <th>BRIGHTNESS</th>\n",
       "      <th>SCAN</th>\n",
       "      <th>TRACK</th>\n",
       "      <th>ACQ_DATE</th>\n",
       "      <th>ACQ_TIME</th>\n",
       "      <th>SATELLITE</th>\n",
       "      <th>INSTRUMENT</th>\n",
       "      <th>CONFIDENCE</th>\n",
       "      <th>VERSION</th>\n",
       "      <th>BRIGHT_T31</th>\n",
       "      <th>FRP</th>\n",
       "      <th>DAYNIGHT</th>\n",
       "      <th>TYPE</th>\n",
       "      <th>geometry</th>\n",
       "    </tr>\n",
       "  </thead>\n",
       "  <tbody>\n",
       "    <tr>\n",
       "      <th>0</th>\n",
       "      <td>44.3762</td>\n",
       "      <td>-119.1190</td>\n",
       "      <td>312.5</td>\n",
       "      <td>1.2</td>\n",
       "      <td>1.1</td>\n",
       "      <td>2018-01-01</td>\n",
       "      <td>0608</td>\n",
       "      <td>Terra</td>\n",
       "      <td>MODIS</td>\n",
       "      <td>85</td>\n",
       "      <td>6.03</td>\n",
       "      <td>269.1</td>\n",
       "      <td>21.9</td>\n",
       "      <td>N</td>\n",
       "      <td>0</td>\n",
       "      <td>POINT (-1819292.701 2598646.798)</td>\n",
       "    </tr>\n",
       "    <tr>\n",
       "      <th>1</th>\n",
       "      <td>32.1679</td>\n",
       "      <td>-107.7655</td>\n",
       "      <td>322.3</td>\n",
       "      <td>1.1</td>\n",
       "      <td>1.0</td>\n",
       "      <td>2018-01-01</td>\n",
       "      <td>1809</td>\n",
       "      <td>Terra</td>\n",
       "      <td>MODIS</td>\n",
       "      <td>77</td>\n",
       "      <td>6.03</td>\n",
       "      <td>289.1</td>\n",
       "      <td>19.0</td>\n",
       "      <td>D</td>\n",
       "      <td>0</td>\n",
       "      <td>POINT (-1101321.656 1078752.715)</td>\n",
       "    </tr>\n",
       "    <tr>\n",
       "      <th>2</th>\n",
       "      <td>32.1643</td>\n",
       "      <td>-107.7433</td>\n",
       "      <td>318.4</td>\n",
       "      <td>1.1</td>\n",
       "      <td>1.0</td>\n",
       "      <td>2018-01-01</td>\n",
       "      <td>1809</td>\n",
       "      <td>Terra</td>\n",
       "      <td>MODIS</td>\n",
       "      <td>74</td>\n",
       "      <td>6.03</td>\n",
       "      <td>287.9</td>\n",
       "      <td>14.9</td>\n",
       "      <td>D</td>\n",
       "      <td>0</td>\n",
       "      <td>POINT (-1099303.652 1078097.526)</td>\n",
       "    </tr>\n",
       "    <tr>\n",
       "      <th>3</th>\n",
       "      <td>31.7188</td>\n",
       "      <td>-102.0085</td>\n",
       "      <td>303.8</td>\n",
       "      <td>1.4</td>\n",
       "      <td>1.2</td>\n",
       "      <td>2018-01-01</td>\n",
       "      <td>1944</td>\n",
       "      <td>Aqua</td>\n",
       "      <td>MODIS</td>\n",
       "      <td>57</td>\n",
       "      <td>6.03</td>\n",
       "      <td>279.4</td>\n",
       "      <td>12.6</td>\n",
       "      <td>D</td>\n",
       "      <td>0</td>\n",
       "      <td>POINT (-566656.554 978378.293)</td>\n",
       "    </tr>\n",
       "    <tr>\n",
       "      <th>4</th>\n",
       "      <td>38.8238</td>\n",
       "      <td>-122.6829</td>\n",
       "      <td>302.0</td>\n",
       "      <td>2.7</td>\n",
       "      <td>1.6</td>\n",
       "      <td>2018-01-01</td>\n",
       "      <td>1946</td>\n",
       "      <td>Terra</td>\n",
       "      <td>MODIS</td>\n",
       "      <td>50</td>\n",
       "      <td>6.03</td>\n",
       "      <td>280.2</td>\n",
       "      <td>26.9</td>\n",
       "      <td>D</td>\n",
       "      <td>0</td>\n",
       "      <td>POINT (-2264952.497 2075236.763)</td>\n",
       "    </tr>\n",
       "  </tbody>\n",
       "</table>\n",
       "</div>"
      ],
      "text/plain": [
       "   LATITUDE  LONGITUDE  BRIGHTNESS  SCAN  TRACK    ACQ_DATE ACQ_TIME  \\\n",
       "0   44.3762  -119.1190       312.5   1.2    1.1  2018-01-01     0608   \n",
       "1   32.1679  -107.7655       322.3   1.1    1.0  2018-01-01     1809   \n",
       "2   32.1643  -107.7433       318.4   1.1    1.0  2018-01-01     1809   \n",
       "3   31.7188  -102.0085       303.8   1.4    1.2  2018-01-01     1944   \n",
       "4   38.8238  -122.6829       302.0   2.7    1.6  2018-01-01     1946   \n",
       "\n",
       "  SATELLITE INSTRUMENT  CONFIDENCE VERSION  BRIGHT_T31   FRP DAYNIGHT  TYPE  \\\n",
       "0     Terra      MODIS          85    6.03       269.1  21.9        N     0   \n",
       "1     Terra      MODIS          77    6.03       289.1  19.0        D     0   \n",
       "2     Terra      MODIS          74    6.03       287.9  14.9        D     0   \n",
       "3      Aqua      MODIS          57    6.03       279.4  12.6        D     0   \n",
       "4     Terra      MODIS          50    6.03       280.2  26.9        D     0   \n",
       "\n",
       "                           geometry  \n",
       "0  POINT (-1819292.701 2598646.798)  \n",
       "1  POINT (-1101321.656 1078752.715)  \n",
       "2  POINT (-1099303.652 1078097.526)  \n",
       "3    POINT (-566656.554 978378.293)  \n",
       "4  POINT (-2264952.497 2075236.763)  "
      ]
     },
     "execution_count": 10,
     "metadata": {},
     "output_type": "execute_result"
    }
   ],
   "source": [
    "# Set up a dictionary to store both MODIS and VIIRS AFDs\n",
    "modis_fp = os.path.join(projdir,'data/spatial/raw/NASA-FIRMS/DL_FIRE_M-C61_476781/')\n",
    "\n",
    "# Store these in a dictionary\n",
    "afds = {\n",
    "    \"MOD61\": gpd.read_file(modis_fp).to_crs(proj),\n",
    "    \"SNPP\": snpp\n",
    "}\n",
    "\n",
    "afds['MOD61'].head()"
   ]
  },
  {
   "cell_type": "code",
   "execution_count": null,
   "id": "7003f152-6e2c-461d-b616-15a023ff3fc4",
   "metadata": {},
   "outputs": [],
   "source": []
  },
  {
   "cell_type": "code",
   "execution_count": 11,
   "id": "57af249d-0e08-408e-93f3-41274070218c",
   "metadata": {},
   "outputs": [],
   "source": [
    "# Extract the AFDs within fire bounds."
   ]
  },
  {
   "cell_type": "code",
   "execution_count": null,
   "id": "f3de4609-2c93-4dbc-8e34-6464d66b07e6",
   "metadata": {},
   "outputs": [],
   "source": []
  },
  {
   "cell_type": "code",
   "execution_count": 12,
   "id": "143cf807-00ce-48fd-8ba0-7ab2adde47c7",
   "metadata": {},
   "outputs": [
    {
     "name": "stdout",
     "output_type": "stream",
     "text": [
      "Processing: MOD61\n",
      "\tThere are [28707] high or nominal confidence detections within fire bounds.\n",
      "Saved to /Users/max/Library/CloudStorage/OneDrive-Personal/mcook/aspen-fire/Aim2/data/spatial/mod/AFD/MOD61-afd_fired-aspen_2018_to_2023.gpkg\n",
      "\n",
      "Processing: SNPP\n",
      "\tThere are [118561] high or nominal confidence detections within fire bounds.\n",
      "Saved to /Users/max/Library/CloudStorage/OneDrive-Personal/mcook/aspen-fire/Aim2/data/spatial/mod/AFD/SNPP-afd_fired-aspen_2018_to_2023.gpkg\n",
      "\n",
      "\n",
      "Processing complete !\n"
     ]
    }
   ],
   "source": [
    "afd_events = {} # to store the filtered data\n",
    "# Loop through sensors (MODIS and VIIRS)\n",
    "for satellite, afd in afds.items():\n",
    "    print(f\"Processing: {satellite}\")\n",
    "    \n",
    "    afd['VID'] = afd.index # add a unique ID\n",
    "    \n",
    "    # Remove low confidence observations\n",
    "    try:\n",
    "        afd = afd[afd['CONFIDENCE'] != 'l']\n",
    "    except KeyError as e:\n",
    "        print(f\"KeyError: {e}\")\n",
    "\n",
    "    if afd.crs != bounds.crs:\n",
    "        afd = afd.to_crs(bounds.crs)  # ensure the crs matches\n",
    "\n",
    "    # Extract within fire bounds\n",
    "    afd_ = gpd.sjoin(afd, bounds, how='inner', predicate='within')\n",
    "    afd_.drop(columns=['index_right'], inplace=True)\n",
    "    \n",
    "    # Tidy the date columns for matching\n",
    "    afd_['ACQ_DATE'] = pd.to_datetime(afd_['ACQ_DATE'])\n",
    "    afd_['ACQ_MONTH'] = afd_['ACQ_DATE'].dt.month.astype(int)\n",
    "    afd_['ACQ_YEAR'] = afd_['ACQ_DATE'].dt.year.astype(int)\n",
    "    \n",
    "    # Create a datetime object\n",
    "    afd_.loc[:, 'ACQ_DATETIME'] = afd_.apply(lambda row: convert_datetime(row['ACQ_DATE'], row['ACQ_TIME']), axis=1)\n",
    "\n",
    "    # Filter for matching dates\n",
    "    afd_f = afd_[\n",
    "        (afd_['ACQ_YEAR'] >= afd_['ig_date'].dt.year.astype(int)) & \n",
    "        (afd_['ACQ_MONTH'] >= afd_['ig_date'].dt.month.astype(int)) &\n",
    "        (afd_['ACQ_YEAR'] <= afd_['last_date'].dt.year.astype(int)) &\n",
    "        (afd_['ACQ_MONTH'] <= afd_['last_date'].dt.month.astype(int))\n",
    "    ]\n",
    "\n",
    "    # Drop any duplicates\n",
    "    afd_f = afd_f.drop_duplicates(subset='VID', keep='first')\n",
    "    afd_f.drop(columns=['VID'], inplace=True)\n",
    "    \n",
    "    print(f\"\\tThere are [{len(afd_f)}] high or nominal confidence detections within fire bounds.\")\n",
    "\n",
    "    # Overwrite the dictionary items\n",
    "    afd_events[satellite] = afd_f\n",
    "\n",
    "    # Save the AFD observation in fire bounds\n",
    "    out_fp = os.path.join(projdir,f'data/spatial/mod/AFD/{satellite}-afd_fired-aspen_2018_to_2023.gpkg')\n",
    "    afd_f.to_file(out_fp)\n",
    "    print(f'Saved to {out_fp}\\n')\n",
    "    \n",
    "    del afd, afd_, afd_f\n",
    "    gc.collect()\n",
    "\n",
    "print(\"\\nProcessing complete !\")"
   ]
  },
  {
   "cell_type": "code",
   "execution_count": 13,
   "id": "14921074-c6fc-42c5-87ff-29b5339cb29e",
   "metadata": {},
   "outputs": [
    {
     "data": {
      "text/plain": [
       "Index(['LATITUDE', 'LONGITUDE', 'BRIGHTNESS', 'SCAN', 'TRACK', 'ACQ_DATE',\n",
       "       'ACQ_TIME', 'SATELLITE', 'INSTRUMENT', 'CONFIDENCE', 'VERSION',\n",
       "       'BRIGHT_T31', 'FRP', 'DAYNIGHT', 'TYPE', 'geometry', 'id', 'ig_date',\n",
       "       'last_date', 'ACQ_MONTH', 'ACQ_YEAR', 'ACQ_DATETIME'],\n",
       "      dtype='object')"
      ]
     },
     "execution_count": 13,
     "metadata": {},
     "output_type": "execute_result"
    }
   ],
   "source": [
    "afd_events['MOD61'].columns"
   ]
  },
  {
   "cell_type": "code",
   "execution_count": null,
   "id": "509f870f-462d-458b-acc0-9588bbb58a20",
   "metadata": {},
   "outputs": [],
   "source": []
  },
  {
   "cell_type": "code",
   "execution_count": null,
   "id": "92368a1e-0efc-4bd9-8d68-05b635e4263e",
   "metadata": {},
   "outputs": [],
   "source": []
  },
  {
   "cell_type": "code",
   "execution_count": 14,
   "id": "98a7f228-09ed-4eb8-8694-69a79486644b",
   "metadata": {},
   "outputs": [],
   "source": [
    "# Calculate daily FRP statistics"
   ]
  },
  {
   "cell_type": "code",
   "execution_count": null,
   "id": "604afd0a-b5fb-4b1d-81f9-08296a74c242",
   "metadata": {},
   "outputs": [],
   "source": []
  },
  {
   "cell_type": "code",
   "execution_count": 15,
   "id": "e48c9034-e7bb-4ac5-8260-616fd0c51437",
   "metadata": {},
   "outputs": [
    {
     "name": "stdout",
     "output_type": "stream",
     "text": [
      "Day/night FRP statistics calculated !\n"
     ]
    }
   ],
   "source": [
    "datetime_frp = {} # to store aggregated FRP by datetime\n",
    "dob_frp = {} # by day of burn\n",
    "for satellite, afd in afd_events.items():\n",
    "    # Group by fire ID and calculate datetime 99th percentile FRP\n",
    "    dt_frp = afd.groupby(['id', 'DAYNIGHT', 'ACQ_DATETIME'])['FRP'].quantile(0.99).reset_index(name='FRP99_DT')\n",
    "    \n",
    "    # Add a date object\n",
    "    dt_frp['ACQ_DATE'] = dt_frp['ACQ_DATETIME'].dt.date\n",
    "\n",
    "    def calc_frp_percentiles(group):\n",
    "        \"\"\" Function to calculate day / night statistics \"\"\"\n",
    "        return pd.Series({\n",
    "            'FRP_MN': group['FRP99_DT'].mean(), \n",
    "            'FRP_SD': group['FRP99_DT'].std(),\n",
    "            'FRP_90': np.percentile(group['FRP99_DT'], 90),\n",
    "            'FRP_95': np.percentile(group['FRP99_DT'], 95),\n",
    "            'FRP_99': np.percentile(group['FRP99_DT'], 99)\n",
    "        })\n",
    "\n",
    "    # Calculate the daily FRP statistics by day/night\n",
    "    date_frp = dt_frp.groupby(['id', 'ACQ_DATE', 'DAYNIGHT']).apply(calc_frp_percentiles).reset_index()\n",
    "    date_frp['FRP_SD'].fillna(0, inplace=True) # NaN to 0 where there is only one observation\n",
    "    \n",
    "    # append to the dictionary\n",
    "    datetime_frp[satellite] = dt_frp \n",
    "    dob_frp[satellite] = date_frp \n",
    "    \n",
    "print(\"Day/night FRP statistics calculated !\")"
   ]
  },
  {
   "cell_type": "code",
   "execution_count": 16,
   "id": "817427cb-25c8-4ef7-8fe3-dd65528b2e51",
   "metadata": {},
   "outputs": [
    {
     "data": {
      "text/html": [
       "<div>\n",
       "<style scoped>\n",
       "    .dataframe tbody tr th:only-of-type {\n",
       "        vertical-align: middle;\n",
       "    }\n",
       "\n",
       "    .dataframe tbody tr th {\n",
       "        vertical-align: top;\n",
       "    }\n",
       "\n",
       "    .dataframe thead th {\n",
       "        text-align: right;\n",
       "    }\n",
       "</style>\n",
       "<table border=\"1\" class=\"dataframe\">\n",
       "  <thead>\n",
       "    <tr style=\"text-align: right;\">\n",
       "      <th></th>\n",
       "      <th>id</th>\n",
       "      <th>DAYNIGHT</th>\n",
       "      <th>ACQ_DATETIME</th>\n",
       "      <th>FRP99_DT</th>\n",
       "      <th>ACQ_DATE</th>\n",
       "    </tr>\n",
       "  </thead>\n",
       "  <tbody>\n",
       "    <tr>\n",
       "      <th>0</th>\n",
       "      <td>492</td>\n",
       "      <td>N</td>\n",
       "      <td>2018-08-10 05:38:00+00:00</td>\n",
       "      <td>69.649</td>\n",
       "      <td>2018-08-10</td>\n",
       "    </tr>\n",
       "    <tr>\n",
       "      <th>1</th>\n",
       "      <td>492</td>\n",
       "      <td>N</td>\n",
       "      <td>2018-08-10 09:50:00+00:00</td>\n",
       "      <td>30.448</td>\n",
       "      <td>2018-08-10</td>\n",
       "    </tr>\n",
       "    <tr>\n",
       "      <th>2</th>\n",
       "      <td>2544</td>\n",
       "      <td>D</td>\n",
       "      <td>2018-09-05 18:15:00+00:00</td>\n",
       "      <td>933.770</td>\n",
       "      <td>2018-09-05</td>\n",
       "    </tr>\n",
       "    <tr>\n",
       "      <th>3</th>\n",
       "      <td>2544</td>\n",
       "      <td>D</td>\n",
       "      <td>2018-09-06 18:58:00+00:00</td>\n",
       "      <td>38.087</td>\n",
       "      <td>2018-09-06</td>\n",
       "    </tr>\n",
       "    <tr>\n",
       "      <th>4</th>\n",
       "      <td>2544</td>\n",
       "      <td>D</td>\n",
       "      <td>2018-09-06 20:36:00+00:00</td>\n",
       "      <td>263.746</td>\n",
       "      <td>2018-09-06</td>\n",
       "    </tr>\n",
       "  </tbody>\n",
       "</table>\n",
       "</div>"
      ],
      "text/plain": [
       "     id DAYNIGHT              ACQ_DATETIME  FRP99_DT    ACQ_DATE\n",
       "0   492        N 2018-08-10 05:38:00+00:00    69.649  2018-08-10\n",
       "1   492        N 2018-08-10 09:50:00+00:00    30.448  2018-08-10\n",
       "2  2544        D 2018-09-05 18:15:00+00:00   933.770  2018-09-05\n",
       "3  2544        D 2018-09-06 18:58:00+00:00    38.087  2018-09-06\n",
       "4  2544        D 2018-09-06 20:36:00+00:00   263.746  2018-09-06"
      ]
     },
     "execution_count": 16,
     "metadata": {},
     "output_type": "execute_result"
    }
   ],
   "source": [
    "datetime_frp['MOD61'].head()"
   ]
  },
  {
   "cell_type": "code",
   "execution_count": 17,
   "id": "4ab90748-c25e-492f-b98a-b97696b00361",
   "metadata": {},
   "outputs": [
    {
     "data": {
      "text/html": [
       "<div>\n",
       "<style scoped>\n",
       "    .dataframe tbody tr th:only-of-type {\n",
       "        vertical-align: middle;\n",
       "    }\n",
       "\n",
       "    .dataframe tbody tr th {\n",
       "        vertical-align: top;\n",
       "    }\n",
       "\n",
       "    .dataframe thead th {\n",
       "        text-align: right;\n",
       "    }\n",
       "</style>\n",
       "<table border=\"1\" class=\"dataframe\">\n",
       "  <thead>\n",
       "    <tr style=\"text-align: right;\">\n",
       "      <th></th>\n",
       "      <th>id</th>\n",
       "      <th>ACQ_DATE</th>\n",
       "      <th>DAYNIGHT</th>\n",
       "      <th>FRP_MN</th>\n",
       "      <th>FRP_SD</th>\n",
       "      <th>FRP_90</th>\n",
       "      <th>FRP_95</th>\n",
       "      <th>FRP_99</th>\n",
       "    </tr>\n",
       "  </thead>\n",
       "  <tbody>\n",
       "    <tr>\n",
       "      <th>0</th>\n",
       "      <td>492</td>\n",
       "      <td>2018-08-10</td>\n",
       "      <td>N</td>\n",
       "      <td>50.0485</td>\n",
       "      <td>27.719293</td>\n",
       "      <td>65.7289</td>\n",
       "      <td>67.68895</td>\n",
       "      <td>69.25699</td>\n",
       "    </tr>\n",
       "    <tr>\n",
       "      <th>1</th>\n",
       "      <td>2544</td>\n",
       "      <td>2018-09-05</td>\n",
       "      <td>D</td>\n",
       "      <td>933.7700</td>\n",
       "      <td>0.000000</td>\n",
       "      <td>933.7700</td>\n",
       "      <td>933.77000</td>\n",
       "      <td>933.77000</td>\n",
       "    </tr>\n",
       "    <tr>\n",
       "      <th>2</th>\n",
       "      <td>2544</td>\n",
       "      <td>2018-09-05</td>\n",
       "      <td>N</td>\n",
       "      <td>183.5050</td>\n",
       "      <td>141.760767</td>\n",
       "      <td>263.6970</td>\n",
       "      <td>273.72100</td>\n",
       "      <td>281.74020</td>\n",
       "    </tr>\n",
       "    <tr>\n",
       "      <th>3</th>\n",
       "      <td>2544</td>\n",
       "      <td>2018-09-06</td>\n",
       "      <td>D</td>\n",
       "      <td>150.9165</td>\n",
       "      <td>159.565009</td>\n",
       "      <td>241.1801</td>\n",
       "      <td>252.46305</td>\n",
       "      <td>261.48941</td>\n",
       "    </tr>\n",
       "    <tr>\n",
       "      <th>4</th>\n",
       "      <td>2544</td>\n",
       "      <td>2018-09-07</td>\n",
       "      <td>D</td>\n",
       "      <td>26.9000</td>\n",
       "      <td>0.000000</td>\n",
       "      <td>26.9000</td>\n",
       "      <td>26.90000</td>\n",
       "      <td>26.90000</td>\n",
       "    </tr>\n",
       "  </tbody>\n",
       "</table>\n",
       "</div>"
      ],
      "text/plain": [
       "     id    ACQ_DATE DAYNIGHT    FRP_MN      FRP_SD    FRP_90     FRP_95  \\\n",
       "0   492  2018-08-10        N   50.0485   27.719293   65.7289   67.68895   \n",
       "1  2544  2018-09-05        D  933.7700    0.000000  933.7700  933.77000   \n",
       "2  2544  2018-09-05        N  183.5050  141.760767  263.6970  273.72100   \n",
       "3  2544  2018-09-06        D  150.9165  159.565009  241.1801  252.46305   \n",
       "4  2544  2018-09-07        D   26.9000    0.000000   26.9000   26.90000   \n",
       "\n",
       "      FRP_99  \n",
       "0   69.25699  \n",
       "1  933.77000  \n",
       "2  281.74020  \n",
       "3  261.48941  \n",
       "4   26.90000  "
      ]
     },
     "execution_count": 17,
     "metadata": {},
     "output_type": "execute_result"
    }
   ],
   "source": [
    "dob_frp['MOD61'].head()"
   ]
  },
  {
   "cell_type": "code",
   "execution_count": null,
   "id": "a3ec427a-3748-45b5-8860-af2a37f03de5",
   "metadata": {},
   "outputs": [],
   "source": []
  },
  {
   "cell_type": "code",
   "execution_count": null,
   "id": "1ab0f20e-1c78-48c6-8cd5-db253257343d",
   "metadata": {},
   "outputs": [],
   "source": [
    "# Aggregate to the DOB from the daily perimeters"
   ]
  },
  {
   "cell_type": "code",
   "execution_count": null,
   "id": "cb9d9e26-baf5-40bd-921e-bac79e0418f1",
   "metadata": {},
   "outputs": [],
   "source": []
  },
  {
   "cell_type": "code",
   "execution_count": 18,
   "id": "2c26a109-3b5c-4158-8993-3a065ae2577a",
   "metadata": {},
   "outputs": [
    {
     "name": "stdout",
     "output_type": "stream",
     "text": [
      "There are [70932] daily perimeters (2012-2023).\n"
     ]
    }
   ],
   "source": [
    "# Load the FIRED perimeters (2012-2023)\n",
    "daily_fp = os.path.join(maindir,'aspen-fire/Aim2/data/spatial/raw/FIRED/fired-daily_west_2012_to_2023.gpkg')\n",
    "daily = gpd.read_file(daily_fp)\n",
    "print(f\"There are [{len(daily)}] daily perimeters (2012-2023).\")"
   ]
  },
  {
   "cell_type": "code",
   "execution_count": 19,
   "id": "58f7f51e-a33a-4a47-a408-65ec6cdf9515",
   "metadata": {},
   "outputs": [
    {
     "name": "stdout",
     "output_type": "stream",
     "text": [
      "There are [3387] daily perimeters for aspen fires (2018-2023).\n"
     ]
    }
   ],
   "source": [
    "# Filter to aspen fires (2018-2023)\n",
    "daily = daily[daily['id'].isin(aspen_events['id'].unique())]\n",
    "daily = daily.to_crs(proj) # ensure albers projection\n",
    "print(f\"There are [{len(daily)}] daily perimeters for aspen fires (2018-2023).\")"
   ]
  },
  {
   "cell_type": "code",
   "execution_count": 20,
   "id": "56ad4229-0bdd-4cac-a9cd-eeaef887779e",
   "metadata": {},
   "outputs": [
    {
     "data": {
      "text/plain": [
       "Index(['did', 'date', 'id', 'ig_date', 'ig_day', 'ig_month', 'ig_year',\n",
       "       'last_date', 'event_dur', 'tot_pix', 'tot_ar_km2', 'fsr_px_dy',\n",
       "       'fsr_km2_dy', 'mx_grw_px', 'mx_grw_km2', 'mx_grw_dte', 'ig_utm_x',\n",
       "       'ig_utm_y', 'na_l3name', 'geometry'],\n",
       "      dtype='object')"
      ]
     },
     "execution_count": 20,
     "metadata": {},
     "output_type": "execute_result"
    }
   ],
   "source": [
    "daily.columns"
   ]
  },
  {
   "cell_type": "code",
   "execution_count": 22,
   "id": "1a06f403-1417-49f9-8ef9-70521e170100",
   "metadata": {},
   "outputs": [
    {
     "data": {
      "text/html": [
       "<div>\n",
       "<style scoped>\n",
       "    .dataframe tbody tr th:only-of-type {\n",
       "        vertical-align: middle;\n",
       "    }\n",
       "\n",
       "    .dataframe tbody tr th {\n",
       "        vertical-align: top;\n",
       "    }\n",
       "\n",
       "    .dataframe thead th {\n",
       "        text-align: right;\n",
       "    }\n",
       "</style>\n",
       "<table border=\"1\" class=\"dataframe\">\n",
       "  <thead>\n",
       "    <tr style=\"text-align: right;\">\n",
       "      <th></th>\n",
       "      <th>id</th>\n",
       "      <th>did</th>\n",
       "      <th>burn_date</th>\n",
       "    </tr>\n",
       "  </thead>\n",
       "  <tbody>\n",
       "    <tr>\n",
       "      <th>61821</th>\n",
       "      <td>1796</td>\n",
       "      <td>df0679d5c4e0c44b0f5b36547175ce89</td>\n",
       "      <td>2021-10-28</td>\n",
       "    </tr>\n",
       "    <tr>\n",
       "      <th>43422</th>\n",
       "      <td>1796</td>\n",
       "      <td>9d0c0e530e80ee93b02752d9ab868c7f</td>\n",
       "      <td>2021-10-29</td>\n",
       "    </tr>\n",
       "    <tr>\n",
       "      <th>35122</th>\n",
       "      <td>1796</td>\n",
       "      <td>7f26e46c07eb94125b29ecd4a21926a7</td>\n",
       "      <td>2021-10-30</td>\n",
       "    </tr>\n",
       "    <tr>\n",
       "      <th>11416</th>\n",
       "      <td>1796</td>\n",
       "      <td>292bf2b5180da458108872171f792142</td>\n",
       "      <td>2021-10-31</td>\n",
       "    </tr>\n",
       "    <tr>\n",
       "      <th>35021</th>\n",
       "      <td>1796</td>\n",
       "      <td>7ee31b1beb043ddb3e3984fa3c74f2a3</td>\n",
       "      <td>2021-11-02</td>\n",
       "    </tr>\n",
       "  </tbody>\n",
       "</table>\n",
       "</div>"
      ],
      "text/plain": [
       "         id                               did   burn_date\n",
       "61821  1796  df0679d5c4e0c44b0f5b36547175ce89  2021-10-28\n",
       "43422  1796  9d0c0e530e80ee93b02752d9ab868c7f  2021-10-29\n",
       "35122  1796  7f26e46c07eb94125b29ecd4a21926a7  2021-10-30\n",
       "11416  1796  292bf2b5180da458108872171f792142  2021-10-31\n",
       "35021  1796  7ee31b1beb043ddb3e3984fa3c74f2a3  2021-11-02"
      ]
     },
     "execution_count": 22,
     "metadata": {},
     "output_type": "execute_result"
    }
   ],
   "source": [
    "# Clean up the table for joining\n",
    "daily_ = daily[['id','did','date']]\n",
    "daily_.rename(columns={'date': 'burn_date'}, inplace=True)\n",
    "daily_['id'] = daily_['id'].astype(str) # ensure id is a string for joining\n",
    "daily_['burn_date'] = pd.to_datetime(daily_['burn_date']).dt.date # ensure date type\n",
    "daily_ = daily_.sort_values(by=['id','burn_date'])\n",
    "daily_.head()"
   ]
  },
  {
   "cell_type": "code",
   "execution_count": 23,
   "id": "7e3e5f37-1307-4e99-888d-aca224ffcc09",
   "metadata": {},
   "outputs": [
    {
     "data": {
      "text/plain": [
       "715"
      ]
     },
     "execution_count": 23,
     "metadata": {},
     "output_type": "execute_result"
    }
   ],
   "source": [
    "len(daily_['id'].unique())"
   ]
  },
  {
   "cell_type": "code",
   "execution_count": 24,
   "id": "d3eb5fc2-9b75-423b-a69c-93c6fc9b8dae",
   "metadata": {},
   "outputs": [
    {
     "data": {
      "text/plain": [
       "212"
      ]
     },
     "execution_count": 24,
     "metadata": {},
     "output_type": "execute_result"
    }
   ],
   "source": [
    "len(dob_frp['MOD61']['id'].unique())"
   ]
  },
  {
   "cell_type": "code",
   "execution_count": null,
   "id": "6e651dd8-b88c-4cd4-bfd5-92924d552979",
   "metadata": {},
   "outputs": [],
   "source": []
  },
  {
   "cell_type": "code",
   "execution_count": null,
   "id": "ef746a27-ea52-46d2-9916-8f9a3dd9fafb",
   "metadata": {},
   "outputs": [],
   "source": [
    "# Merge the daily burn perimeters with daily FRP "
   ]
  },
  {
   "cell_type": "code",
   "execution_count": 25,
   "id": "80ddbe70-fcb4-4486-9c69-465d565d1cb3",
   "metadata": {},
   "outputs": [
    {
     "name": "stdout",
     "output_type": "stream",
     "text": [
      "Joined DOB to daily FRP !\n"
     ]
    }
   ],
   "source": [
    "daynight_frp = {} # to store day / night FRP\n",
    "for satellite, afd in dob_frp.items():\n",
    "    # Make sure the data types match\n",
    "    afd['id'] = afd['id'].astype(str)\n",
    "    afd['ACQ_DATE'] = pd.to_datetime(afd['ACQ_DATE']).dt.date\n",
    "    \n",
    "    # Merge the daily perimeters with the AFD\n",
    "    frp_events = pd.merge(daily_, afd, left_on=['id','burn_date'], right_on=['id','ACQ_DATE'], how='left')\n",
    "    \n",
    "    # Drop out fires with no AFD\n",
    "    frp_events = frp_events.dropna(subset=['ACQ_DATE'])\n",
    "    \n",
    "    daynight_frp[satellite] = frp_events # append to new dictionary\n",
    "    \n",
    "print(\"Joined DOB to daily FRP !\")"
   ]
  },
  {
   "cell_type": "code",
   "execution_count": 26,
   "id": "348ba30f-61f9-476a-99fa-c11f4fd2836d",
   "metadata": {},
   "outputs": [
    {
     "data": {
      "text/plain": [
       "Index(['id', 'did', 'burn_date', 'ACQ_DATE', 'DAYNIGHT', 'FRP_MN', 'FRP_SD',\n",
       "       'FRP_90', 'FRP_95', 'FRP_99'],\n",
       "      dtype='object')"
      ]
     },
     "execution_count": 26,
     "metadata": {},
     "output_type": "execute_result"
    }
   ],
   "source": [
    "daynight_frp['MOD61'].columns"
   ]
  },
  {
   "cell_type": "code",
   "execution_count": 27,
   "id": "2bd91a57-2b15-4b1f-9fa1-98d6da979530",
   "metadata": {},
   "outputs": [
    {
     "data": {
      "text/plain": [
       "1535"
      ]
     },
     "execution_count": 27,
     "metadata": {},
     "output_type": "execute_result"
    }
   ],
   "source": [
    "len(daynight_frp['MOD61'])"
   ]
  },
  {
   "cell_type": "code",
   "execution_count": 28,
   "id": "b7161bda-7cde-4784-be68-ccadea64614c",
   "metadata": {},
   "outputs": [
    {
     "data": {
      "text/plain": [
       "155"
      ]
     },
     "execution_count": 28,
     "metadata": {},
     "output_type": "execute_result"
    }
   ],
   "source": [
    "len(daynight_frp['MOD61']['id'].unique())"
   ]
  },
  {
   "cell_type": "code",
   "execution_count": 34,
   "id": "cde7aea2-22bb-4174-bb99-3c44a9e06584",
   "metadata": {},
   "outputs": [
    {
     "data": {
      "text/html": [
       "<div>\n",
       "<style scoped>\n",
       "    .dataframe tbody tr th:only-of-type {\n",
       "        vertical-align: middle;\n",
       "    }\n",
       "\n",
       "    .dataframe tbody tr th {\n",
       "        vertical-align: top;\n",
       "    }\n",
       "\n",
       "    .dataframe thead th {\n",
       "        text-align: right;\n",
       "    }\n",
       "</style>\n",
       "<table border=\"1\" class=\"dataframe\">\n",
       "  <thead>\n",
       "    <tr style=\"text-align: right;\">\n",
       "      <th></th>\n",
       "      <th>id</th>\n",
       "      <th>burn_date</th>\n",
       "      <th>ACQ_DATE</th>\n",
       "      <th>DAYNIGHT</th>\n",
       "      <th>FRP_95</th>\n",
       "    </tr>\n",
       "  </thead>\n",
       "  <tbody>\n",
       "    <tr>\n",
       "      <th>10</th>\n",
       "      <td>189371</td>\n",
       "      <td>2018-06-28</td>\n",
       "      <td>2018-06-28</td>\n",
       "      <td>D</td>\n",
       "      <td>2175.06680</td>\n",
       "    </tr>\n",
       "    <tr>\n",
       "      <th>11</th>\n",
       "      <td>189371</td>\n",
       "      <td>2018-06-28</td>\n",
       "      <td>2018-06-28</td>\n",
       "      <td>N</td>\n",
       "      <td>2355.28295</td>\n",
       "    </tr>\n",
       "    <tr>\n",
       "      <th>12</th>\n",
       "      <td>189371</td>\n",
       "      <td>2018-06-29</td>\n",
       "      <td>2018-06-29</td>\n",
       "      <td>D</td>\n",
       "      <td>186.42155</td>\n",
       "    </tr>\n",
       "    <tr>\n",
       "      <th>13</th>\n",
       "      <td>189371</td>\n",
       "      <td>2018-06-29</td>\n",
       "      <td>2018-06-29</td>\n",
       "      <td>N</td>\n",
       "      <td>1271.31255</td>\n",
       "    </tr>\n",
       "    <tr>\n",
       "      <th>14</th>\n",
       "      <td>189371</td>\n",
       "      <td>2018-06-30</td>\n",
       "      <td>2018-06-30</td>\n",
       "      <td>D</td>\n",
       "      <td>103.69200</td>\n",
       "    </tr>\n",
       "    <tr>\n",
       "      <th>15</th>\n",
       "      <td>189371</td>\n",
       "      <td>2018-06-30</td>\n",
       "      <td>2018-06-30</td>\n",
       "      <td>N</td>\n",
       "      <td>185.21490</td>\n",
       "    </tr>\n",
       "    <tr>\n",
       "      <th>16</th>\n",
       "      <td>189371</td>\n",
       "      <td>2018-07-01</td>\n",
       "      <td>2018-07-01</td>\n",
       "      <td>D</td>\n",
       "      <td>41.29880</td>\n",
       "    </tr>\n",
       "    <tr>\n",
       "      <th>17</th>\n",
       "      <td>189371</td>\n",
       "      <td>2018-07-01</td>\n",
       "      <td>2018-07-01</td>\n",
       "      <td>N</td>\n",
       "      <td>48.76840</td>\n",
       "    </tr>\n",
       "    <tr>\n",
       "      <th>18</th>\n",
       "      <td>189371</td>\n",
       "      <td>2018-07-02</td>\n",
       "      <td>2018-07-02</td>\n",
       "      <td>D</td>\n",
       "      <td>53.79200</td>\n",
       "    </tr>\n",
       "    <tr>\n",
       "      <th>19</th>\n",
       "      <td>189371</td>\n",
       "      <td>2018-07-02</td>\n",
       "      <td>2018-07-02</td>\n",
       "      <td>N</td>\n",
       "      <td>16.18560</td>\n",
       "    </tr>\n",
       "  </tbody>\n",
       "</table>\n",
       "</div>"
      ],
      "text/plain": [
       "        id   burn_date    ACQ_DATE DAYNIGHT      FRP_95\n",
       "10  189371  2018-06-28  2018-06-28        D  2175.06680\n",
       "11  189371  2018-06-28  2018-06-28        N  2355.28295\n",
       "12  189371  2018-06-29  2018-06-29        D   186.42155\n",
       "13  189371  2018-06-29  2018-06-29        N  1271.31255\n",
       "14  189371  2018-06-30  2018-06-30        D   103.69200\n",
       "15  189371  2018-06-30  2018-06-30        N   185.21490\n",
       "16  189371  2018-07-01  2018-07-01        D    41.29880\n",
       "17  189371  2018-07-01  2018-07-01        N    48.76840\n",
       "18  189371  2018-07-02  2018-07-02        D    53.79200\n",
       "19  189371  2018-07-02  2018-07-02        N    16.18560"
      ]
     },
     "execution_count": 34,
     "metadata": {},
     "output_type": "execute_result"
    }
   ],
   "source": [
    "daynight_frp['MOD61'][['id','burn_date','ACQ_DATE','DAYNIGHT','FRP_95']].head(10)"
   ]
  },
  {
   "cell_type": "code",
   "execution_count": null,
   "id": "de6c3586-6cb5-4ed2-bdab-bf871b5a0094",
   "metadata": {},
   "outputs": [],
   "source": []
  },
  {
   "cell_type": "code",
   "execution_count": null,
   "id": "726b05d8-8278-4c02-9bf3-bb545919d860",
   "metadata": {},
   "outputs": [],
   "source": [
    "# Pivot and merge the LANDFIRE EVT"
   ]
  },
  {
   "cell_type": "code",
   "execution_count": null,
   "id": "a6c8f53d-414f-4ced-a4b0-a24381533aad",
   "metadata": {},
   "outputs": [],
   "source": []
  },
  {
   "cell_type": "code",
   "execution_count": 35,
   "id": "201376af-f2aa-4c59-9ee6-eb2d3e95261c",
   "metadata": {},
   "outputs": [
    {
     "data": {
      "text/html": [
       "<div>\n",
       "<style scoped>\n",
       "    .dataframe tbody tr th:only-of-type {\n",
       "        vertical-align: middle;\n",
       "    }\n",
       "\n",
       "    .dataframe tbody tr th {\n",
       "        vertical-align: top;\n",
       "    }\n",
       "\n",
       "    .dataframe thead th {\n",
       "        text-align: right;\n",
       "    }\n",
       "</style>\n",
       "<table border=\"1\" class=\"dataframe\">\n",
       "  <thead>\n",
       "    <tr style=\"text-align: right;\">\n",
       "      <th></th>\n",
       "      <th>did</th>\n",
       "      <th>evt</th>\n",
       "      <th>count</th>\n",
       "      <th>total_pixels</th>\n",
       "      <th>pct_cover</th>\n",
       "      <th>EVT_NAME</th>\n",
       "      <th>EVT_PHYS</th>\n",
       "      <th>EVT_GP_N</th>\n",
       "      <th>EVT_CLASS</th>\n",
       "    </tr>\n",
       "  </thead>\n",
       "  <tbody>\n",
       "    <tr>\n",
       "      <th>0</th>\n",
       "      <td>0003d89c00208d55887fec4a95f58ac8</td>\n",
       "      <td>7017</td>\n",
       "      <td>2</td>\n",
       "      <td>5026</td>\n",
       "      <td>0.039793</td>\n",
       "      <td>Columbia Plateau Western Juniper Woodland and ...</td>\n",
       "      <td>Conifer</td>\n",
       "      <td>Juniper Woodland and Savanna</td>\n",
       "      <td>Open tree canopy</td>\n",
       "    </tr>\n",
       "    <tr>\n",
       "      <th>1</th>\n",
       "      <td>0003d89c00208d55887fec4a95f58ac8</td>\n",
       "      <td>7080</td>\n",
       "      <td>4</td>\n",
       "      <td>5026</td>\n",
       "      <td>0.079586</td>\n",
       "      <td>Inter-Mountain Basins Big Sagebrush Shrubland</td>\n",
       "      <td>Shrubland</td>\n",
       "      <td>Big Sagebrush Shrubland and Steppe</td>\n",
       "      <td>Shrubland</td>\n",
       "    </tr>\n",
       "    <tr>\n",
       "      <th>2</th>\n",
       "      <td>0003d89c00208d55887fec4a95f58ac8</td>\n",
       "      <td>7123</td>\n",
       "      <td>5</td>\n",
       "      <td>5026</td>\n",
       "      <td>0.099483</td>\n",
       "      <td>Columbia Plateau Steppe and Grassland</td>\n",
       "      <td>Grassland</td>\n",
       "      <td>Grassland and Steppe</td>\n",
       "      <td>Herbaceous-shrub-steppe</td>\n",
       "    </tr>\n",
       "    <tr>\n",
       "      <th>3</th>\n",
       "      <td>0003d89c00208d55887fec4a95f58ac8</td>\n",
       "      <td>7127</td>\n",
       "      <td>5</td>\n",
       "      <td>5026</td>\n",
       "      <td>0.099483</td>\n",
       "      <td>Inter-Mountain Basins Semi-Desert Shrub-Steppe</td>\n",
       "      <td>Shrubland</td>\n",
       "      <td>Desert Scrub</td>\n",
       "      <td>Shrubland</td>\n",
       "    </tr>\n",
       "    <tr>\n",
       "      <th>4</th>\n",
       "      <td>0003d89c00208d55887fec4a95f58ac8</td>\n",
       "      <td>7296</td>\n",
       "      <td>36</td>\n",
       "      <td>5026</td>\n",
       "      <td>0.716275</td>\n",
       "      <td>Developed-Low Intensity</td>\n",
       "      <td>Developed-Low Intensity</td>\n",
       "      <td>Developed-Low Intensity</td>\n",
       "      <td>No Dominant Lifeform</td>\n",
       "    </tr>\n",
       "  </tbody>\n",
       "</table>\n",
       "</div>"
      ],
      "text/plain": [
       "                                did   evt  count  total_pixels  pct_cover  \\\n",
       "0  0003d89c00208d55887fec4a95f58ac8  7017      2          5026   0.039793   \n",
       "1  0003d89c00208d55887fec4a95f58ac8  7080      4          5026   0.079586   \n",
       "2  0003d89c00208d55887fec4a95f58ac8  7123      5          5026   0.099483   \n",
       "3  0003d89c00208d55887fec4a95f58ac8  7127      5          5026   0.099483   \n",
       "4  0003d89c00208d55887fec4a95f58ac8  7296     36          5026   0.716275   \n",
       "\n",
       "                                            EVT_NAME                 EVT_PHYS  \\\n",
       "0  Columbia Plateau Western Juniper Woodland and ...                  Conifer   \n",
       "1      Inter-Mountain Basins Big Sagebrush Shrubland                Shrubland   \n",
       "2              Columbia Plateau Steppe and Grassland                Grassland   \n",
       "3     Inter-Mountain Basins Semi-Desert Shrub-Steppe                Shrubland   \n",
       "4                            Developed-Low Intensity  Developed-Low Intensity   \n",
       "\n",
       "                             EVT_GP_N                EVT_CLASS  \n",
       "0        Juniper Woodland and Savanna         Open tree canopy  \n",
       "1  Big Sagebrush Shrubland and Steppe                Shrubland  \n",
       "2                Grassland and Steppe  Herbaceous-shrub-steppe  \n",
       "3                        Desert Scrub                Shrubland  \n",
       "4             Developed-Low Intensity     No Dominant Lifeform  "
      ]
     },
     "execution_count": 35,
     "metadata": {},
     "output_type": "execute_result"
    }
   ],
   "source": [
    "# Load the EVT summary\n",
    "daily_evt_fp = os.path.join(projdir, 'data/tabular/mod/EVT/fired-daily_west_2018_to_2023-EVT.csv')\n",
    "daily_evt = pd.read_csv(daily_evt_fp)\n",
    "daily_evt.drop(columns=['Unnamed: 0', 'id'], inplace=True)\n",
    "daily_evt.head()"
   ]
  },
  {
   "cell_type": "code",
   "execution_count": null,
   "id": "e1ecdfd7-3ad7-4391-a25e-7befe3acb66e",
   "metadata": {},
   "outputs": [],
   "source": [
    "# Pivot longer to create EVT percent cover as columns"
   ]
  },
  {
   "cell_type": "code",
   "execution_count": null,
   "id": "a4304963-566f-47d9-85a3-4276af7aae61",
   "metadata": {},
   "outputs": [],
   "source": []
  },
  {
   "cell_type": "code",
   "execution_count": null,
   "id": "98ed79fc-f553-4792-85cd-1605d2444728",
   "metadata": {},
   "outputs": [],
   "source": []
  },
  {
   "cell_type": "code",
   "execution_count": null,
   "id": "e124db6e-c51a-46c2-8783-879bac319421",
   "metadata": {},
   "outputs": [],
   "source": [
    "gc.collect()"
   ]
  }
 ],
 "metadata": {
  "kernelspec": {
   "display_name": "aspen-fire",
   "language": "python",
   "name": "aspen-fire"
  },
  "language_info": {
   "codemirror_mode": {
    "name": "ipython",
    "version": 3
   },
   "file_extension": ".py",
   "mimetype": "text/x-python",
   "name": "python",
   "nbconvert_exporter": "python",
   "pygments_lexer": "ipython3",
   "version": "3.10.12"
  }
 },
 "nbformat": 4,
 "nbformat_minor": 5
}
