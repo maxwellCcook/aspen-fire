{
 "cells": [
  {
   "cell_type": "code",
   "execution_count": null,
   "id": "d5c35bd8-cf8c-4e91-b38b-9d95f5492940",
   "metadata": {},
   "outputs": [],
   "source": [
    "\"\"\"\n",
    "Combining indpeendent and dependent variables for a model dataframe\n",
    "\n",
    "Author: maxwell.cook@colorado.edu\n",
    "\"\"\"\n",
    "\n",
    "import os, sys, time, gc\n",
    "\n",
    "# Custom functions\n",
    "sys.path.append(os.path.join(os.getcwd(),'code/'))\n",
    "from __functions import *\n",
    "\n",
    "proj = 'EPSG:5070'\n",
    "\n",
    "maindir = '/Users/max/Library/CloudStorage/OneDrive-Personal/mcook/'\n",
    "projdir = os.path.join(maindir, 'aspen-fire/Aim2/')"
   ]
  },
  {
   "cell_type": "code",
   "execution_count": null,
   "id": "37ca89f9-150b-4c62-b882-6e202faca1f4",
   "metadata": {},
   "outputs": [],
   "source": [
    "# Load the statistics dataframes\n",
    "\n",
    "gridmet_fp = os.path.join(projdir,'data/earth-engine/exports/gridmet/"
   ]
  },
  {
   "cell_type": "code",
   "execution_count": null,
   "id": "ec6c18cd-a667-4a8a-8efd-e4d3740f3766",
   "metadata": {},
   "outputs": [],
   "source": []
  },
  {
   "cell_type": "code",
   "execution_count": null,
   "id": "dadade75-d9f2-4b07-bb43-88d7c89d0ab3",
   "metadata": {},
   "outputs": [],
   "source": []
  },
  {
   "cell_type": "code",
   "execution_count": null,
   "id": "10a083e9-e07d-4ad7-96a9-2bcceb2b7ffc",
   "metadata": {},
   "outputs": [],
   "source": []
  },
  {
   "cell_type": "code",
   "execution_count": null,
   "id": "67aa23b4-ff72-4cf8-9415-f616b455fb7c",
   "metadata": {},
   "outputs": [],
   "source": []
  },
  {
   "cell_type": "code",
   "execution_count": null,
   "id": "5f98a020-f707-48a2-b68c-86cb29f8773f",
   "metadata": {},
   "outputs": [],
   "source": []
  }
 ],
 "metadata": {
  "kernelspec": {
   "display_name": "aspen-fire",
   "language": "python",
   "name": "aspen-fire"
  },
  "language_info": {
   "codemirror_mode": {
    "name": "ipython",
    "version": 3
   },
   "file_extension": ".py",
   "mimetype": "text/x-python",
   "name": "python",
   "nbconvert_exporter": "python",
   "pygments_lexer": "ipython3",
   "version": "3.10.12"
  }
 },
 "nbformat": 4,
 "nbformat_minor": 5
}
