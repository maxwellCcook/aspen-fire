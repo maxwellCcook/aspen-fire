{
 "cells": [
  {
   "cell_type": "code",
   "execution_count": 1,
   "id": "c681f7fc-3b4e-48fb-a7e3-ea1cb9f91b69",
   "metadata": {},
   "outputs": [
    {
     "name": "stdout",
     "output_type": "stream",
     "text": [
      "Success\n"
     ]
    }
   ],
   "source": [
    "\"\"\"\n",
    "Extract attributes from Google Earth Engine (GEE)\n",
    "\n",
    "maxwell.cook@colorado.edu\n",
    "\"\"\"\n",
    "\n",
    "import ee\n",
    "import geemap\n",
    "\n",
    "ee.Authenticate()\n",
    "\n",
    "ee.Initialize(project='jfsp-aspen')\n",
    "\n",
    "print(\"Success\")"
   ]
  },
  {
   "cell_type": "markdown",
   "id": "ccab0b07-9762-4bd9-a174-819c3c38237e",
   "metadata": {},
   "source": [
    "# Calculate Sentinel-based MNDWI, EVI, and LAI for fire boundaries\n",
    "\n",
    "Bring in the FIRED perimeters with at least 5% aspen cover and sufficient FRP observations. Load the Sentinel-2 MSI collection and calculate prefire LAI and MNDWI."
   ]
  },
  {
   "cell_type": "code",
   "execution_count": 2,
   "id": "ded96248-0865-46d5-a158-81b223a8a694",
   "metadata": {},
   "outputs": [
    {
     "data": {
      "text/html": [
       "\n",
       "            <style>\n",
       "                .geemap-dark {\n",
       "                    --jp-widgets-color: white;\n",
       "                    --jp-widgets-label-color: white;\n",
       "                    --jp-ui-font-color1: white;\n",
       "                    --jp-layout-color2: #454545;\n",
       "                    background-color: #383838;\n",
       "                }\n",
       "\n",
       "                .geemap-dark .jupyter-button {\n",
       "                    --jp-layout-color3: #383838;\n",
       "                }\n",
       "\n",
       "                .geemap-colab {\n",
       "                    background-color: var(--colab-primary-surface-color, white);\n",
       "                }\n",
       "\n",
       "                .geemap-colab .jupyter-button {\n",
       "                    --jp-layout-color3: var(--colab-primary-surface-color, white);\n",
       "                }\n",
       "            </style>\n",
       "            "
      ],
      "text/plain": [
       "<IPython.core.display.HTML object>"
      ]
     },
     "metadata": {},
     "output_type": "display_data"
    },
    {
     "name": "stdout",
     "output_type": "stream",
     "text": [
      "ee.FeatureCollection({\n",
      "  \"functionInvocationValue\": {\n",
      "    \"functionName\": \"Collection.loadTable\",\n",
      "    \"arguments\": {\n",
      "      \"tableId\": {\n",
      "        \"constantValue\": \"projects/jfsp-aspen/assets/viirs_plots_fired_events_west_aspen\"\n",
      "      }\n",
      "    }\n",
      "  }\n",
      "})\n",
      "['189859', '189869', '189371', '42306', '43192', '70094', '42761', '68490', '69873', '42895']\n",
      "9299\n"
     ]
    }
   ],
   "source": [
    "# Load the FRP observations\n",
    "frp = ee.FeatureCollection('projects/jfsp-aspen/assets/viirs_plots_fired_events_west_aspen')\n",
    "print(frp)\n",
    "# Grab a list of fire IDs\n",
    "fire_ids = frp.aggregate_array('fired_id').distinct()\n",
    "print(fire_ids.slice(0,10).getInfo())\n",
    "# Check on the first\n",
    "print(frp.filter(ee.Filter.eq('fired_id','189859')).size().getInfo())"
   ]
  },
  {
   "cell_type": "code",
   "execution_count": 3,
   "id": "979596da-daa3-41f9-b001-61ee855fe439",
   "metadata": {},
   "outputs": [
    {
     "data": {
      "text/html": [
       "\n",
       "            <style>\n",
       "                .geemap-dark {\n",
       "                    --jp-widgets-color: white;\n",
       "                    --jp-widgets-label-color: white;\n",
       "                    --jp-ui-font-color1: white;\n",
       "                    --jp-layout-color2: #454545;\n",
       "                    background-color: #383838;\n",
       "                }\n",
       "\n",
       "                .geemap-dark .jupyter-button {\n",
       "                    --jp-layout-color3: #383838;\n",
       "                }\n",
       "\n",
       "                .geemap-colab {\n",
       "                    background-color: var(--colab-primary-surface-color, white);\n",
       "                }\n",
       "\n",
       "                .geemap-colab .jupyter-button {\n",
       "                    --jp-layout-color3: var(--colab-primary-surface-color, white);\n",
       "                }\n",
       "            </style>\n",
       "            "
      ],
      "text/plain": [
       "<IPython.core.display.HTML object>"
      ]
     },
     "metadata": {},
     "output_type": "display_data"
    },
    {
     "name": "stdout",
     "output_type": "stream",
     "text": [
      "ee.FeatureCollection({\n",
      "  \"functionInvocationValue\": {\n",
      "    \"functionName\": \"Collection.loadTable\",\n",
      "    \"arguments\": {\n",
      "      \"tableId\": {\n",
      "        \"constantValue\": \"projects/jfsp-aspen/assets/fired_events_west_aspen\"\n",
      "      }\n",
      "    }\n",
      "  }\n",
      "})\n",
      "2017\n",
      "2018-01-22 00:00:00\n",
      "Properties: ['fired_id', 'ig_year', 'mx_grw_dte', 'ig_date', 'last_date', 'system:index']\n"
     ]
    }
   ],
   "source": [
    "fires = ee.FeatureCollection('projects/jfsp-aspen/assets/fired_events_west_aspen')\n",
    "print(fires)\n",
    "print(ee.Number(fires.first().get('ig_year').getInfo()).subtract(1).getInfo())\n",
    "print((fires.first().get('ig_date').getInfo()))\n",
    "print(\"Properties:\", fires.first().propertyNames().getInfo())"
   ]
  },
  {
   "cell_type": "code",
   "execution_count": 6,
   "id": "b3be0471-9fac-45b1-850b-25649b82336d",
   "metadata": {},
   "outputs": [
    {
     "data": {
      "text/html": [
       "\n",
       "            <style>\n",
       "                .geemap-dark {\n",
       "                    --jp-widgets-color: white;\n",
       "                    --jp-widgets-label-color: white;\n",
       "                    --jp-ui-font-color1: white;\n",
       "                    --jp-layout-color2: #454545;\n",
       "                    background-color: #383838;\n",
       "                }\n",
       "\n",
       "                .geemap-dark .jupyter-button {\n",
       "                    --jp-layout-color3: #383838;\n",
       "                }\n",
       "\n",
       "                .geemap-colab {\n",
       "                    background-color: var(--colab-primary-surface-color, white);\n",
       "                }\n",
       "\n",
       "                .geemap-colab .jupyter-button {\n",
       "                    --jp-layout-color3: var(--colab-primary-surface-color, white);\n",
       "                }\n",
       "            </style>\n",
       "            "
      ],
      "text/plain": [
       "<IPython.core.display.HTML object>"
      ]
     },
     "metadata": {},
     "output_type": "display_data"
    },
    {
     "name": "stdout",
     "output_type": "stream",
     "text": [
      "Functions imported and ready !\n"
     ]
    }
   ],
   "source": [
    "def generate_composites(geom_id):\n",
    "    \"\"\" \n",
    "    Function to create a cloud-free image composite within polygon bounds\n",
    "    Operates on a unique identifier\n",
    "\n",
    "    Args:\n",
    "    - geom_id: the unique ID for polygon data within which to create the composite image\n",
    "    \"\"\"\n",
    "    # Get the fire perimeter and bounding geometry\n",
    "    fire = fires.filter(ee.Filter.eq('fired_id', geom_id)).first()\n",
    "    bounds = fire.geometry().buffer(1000).bounds()\n",
    "\n",
    "    # Get the VIIRS FRP observations\n",
    "    frp_fire = frp.filter(ee.Filter.eq('fired_id', geom_id))\n",
    "    \n",
    "    # Grab the ignition date information\n",
    "    ig_year = ee.Number(fire.get('ig_year')).subtract(1)\n",
    "    \n",
    "    # Filter the S2-MSI collection\n",
    "    s2_filter = ee.Filter.And(\n",
    "      ee.Filter.bounds(bounds),\n",
    "      ee.Filter.calendarRange(ig_year, ig_year, 'year'),\n",
    "      ee.Filter.calendarRange(6, 8, 'month'),\n",
    "      ee.Filter.lt('CLOUDY_PIXEL_PERCENTAGE', 80)\n",
    "    )\n",
    "    \n",
    "    # Image Collection\n",
    "    s2 = s2l1c.filter(s2_filter).select(s2_bands)\n",
    "    \n",
    "    # Grab some statistics from the collection\n",
    "    n = s2.size();\n",
    "    start_date = ee.Date(s2.first().get('system:time_start'));\n",
    "    end_date = ee.Date(\n",
    "      s2.limit(1,'system:time_start',False)\n",
    "        .first().get('system:time_start'));\n",
    "    \n",
    "    # Join the Cloud Score Plus\n",
    "    csPlus_s = csPlus.filter(\n",
    "    ee.Filter.And(\n",
    "      ee.Filter.bounds(bounds),\n",
    "      ee.Filter.calendarRange(ig_year, ig_year, 'year'),\n",
    "      ee.Filter.calendarRange(5, 9, 'month'),\n",
    "    )\n",
    "    ).select([QA_BAND])\n",
    "    \n",
    "    # Mask out occluded pixels\n",
    "    s2 = join_collections(s2,csPlus_s)\n",
    "    s2 = s2.map(\n",
    "      lambda img: img.updateMask(img.select(QA_BAND).gte(CLEAR_THRESHOLD))\n",
    "    ).select(s2_bands)\n",
    "    \n",
    "    # Calculate the spectral indices\n",
    "    s2 = s2.map(calc_indices).median().clip(bounds).set('fired_id',fire_id)\n",
    "\n",
    "    # Extract the reduction for spectral indices\n",
    "    s2_reduc = s2.select(['MNDWI','EVI','LAI']).reduceRegions(\n",
    "        collection = frp_fire,\n",
    "        reducer = ee.Reducer.mean(),\n",
    "        scale = 10,\n",
    "        tileScale = 16\n",
    "    )\n",
    "    \n",
    "    return ee.List([s2, s2_reduc])\n",
    "\n",
    "\n",
    "def calc_indices(image):\n",
    "    \"\"\" Calculates spectral indices from Sentinel-2 image data \"\"\"\n",
    "    \n",
    "    # Modified Normalized Difference Water Index (MNDWI)\n",
    "    # https://www.mdpi.com/2072-4292/8/4/354\n",
    "    mndwi = image.normalizedDifference(['B3', 'B11']).rename('MNDWI')\n",
    "\n",
    "    # Enhanced Vegetation Index (EVI)\n",
    "    evi = image.expression(\n",
    "        \"2.5 * ((NIR - RED) / (NIR + 6 * RED - 7.5 * BLUE + 1))\", {\n",
    "            'NIR': image.select('B8'),\n",
    "            'RED': image.select('B4'),\n",
    "            'BLUE': image.select('B3')\n",
    "        }).rename('EVI')\n",
    "\n",
    "    image = image.addBands([mndwi, evi])\n",
    "\n",
    "    # Leaf Area Index (LAI)\n",
    "    lai = image.expression(\n",
    "        '(3.618 * EVI - 0.118)', {\n",
    "            'EVI': image.select('EVI')\n",
    "        }).rename('LAI')\n",
    "\n",
    "    return image.addBands(lai)\n",
    "\n",
    "\n",
    "def string_cat(item, y):\n",
    "    \"\"\" Function to concatenate strings (rename bands) \"\"\"\n",
    "    return ee.String(item).cat(y)\n",
    "\n",
    "def apply_string_cat(x, y):\n",
    "    return x.map(lambda item: string_cat(item, y))\n",
    "\n",
    "# Function to join collections\n",
    "def join_collections(col1, col2):\n",
    "    joined = ee.ImageCollection(ee.Join.saveFirst('cs').apply(\n",
    "        primary=col1,\n",
    "        secondary=col2,\n",
    "        condition=ee.Filter.equals(\n",
    "            leftField='system:index',\n",
    "            rightField='system:index'\n",
    "        )\n",
    "    ))\n",
    "    return joined.map(lambda image: image.addBands(image.get('cs')))\n",
    "\n",
    "print(\"Functions imported and ready !\")"
   ]
  },
  {
   "cell_type": "code",
   "execution_count": 7,
   "id": "90b60eab-9bf7-442d-9346-99ba6bf25d3d",
   "metadata": {},
   "outputs": [
    {
     "data": {
      "text/html": [
       "\n",
       "            <style>\n",
       "                .geemap-dark {\n",
       "                    --jp-widgets-color: white;\n",
       "                    --jp-widgets-label-color: white;\n",
       "                    --jp-ui-font-color1: white;\n",
       "                    --jp-layout-color2: #454545;\n",
       "                    background-color: #383838;\n",
       "                }\n",
       "\n",
       "                .geemap-dark .jupyter-button {\n",
       "                    --jp-layout-color3: #383838;\n",
       "                }\n",
       "\n",
       "                .geemap-colab {\n",
       "                    background-color: var(--colab-primary-surface-color, white);\n",
       "                }\n",
       "\n",
       "                .geemap-colab .jupyter-button {\n",
       "                    --jp-layout-color3: var(--colab-primary-surface-color, white);\n",
       "                }\n",
       "            </style>\n",
       "            "
      ],
      "text/plain": [
       "<IPython.core.display.HTML object>"
      ]
     },
     "metadata": {},
     "output_type": "display_data"
    },
    {
     "name": "stdout",
     "output_type": "stream",
     "text": [
      "['189859', '189869', '189371', '42306', '43192', '70094', '42761', '68490', '69873', '42895']\n"
     ]
    },
    {
     "ename": "NameError",
     "evalue": "name 'fire_id' is not defined",
     "output_type": "error",
     "traceback": [
      "\u001b[0;31m---------------------------------------------------------------------------\u001b[0m",
      "\u001b[0;31mNameError\u001b[0m                                 Traceback (most recent call last)",
      "Cell \u001b[0;32mIn[7], line 17\u001b[0m\n\u001b[1;32m     14\u001b[0m \u001b[38;5;28mprint\u001b[39m(fire_ids\u001b[38;5;241m.\u001b[39mgetInfo())\n\u001b[1;32m     16\u001b[0m \u001b[38;5;66;03m# Run the function\u001b[39;00m\n\u001b[0;32m---> 17\u001b[0m results_list \u001b[38;5;241m=\u001b[39m \u001b[43mfire_ids\u001b[49m\u001b[38;5;241;43m.\u001b[39;49m\u001b[43mmap\u001b[49m\u001b[43m(\u001b[49m\u001b[38;5;28;43;01mlambda\u001b[39;49;00m\u001b[43m \u001b[49m\u001b[43mx\u001b[49m\u001b[43m:\u001b[49m\u001b[43m \u001b[49m\u001b[43mgenerate_composites\u001b[49m\u001b[43m(\u001b[49m\u001b[43mx\u001b[49m\u001b[43m)\u001b[49m\u001b[43m)\u001b[49m\n\u001b[1;32m     19\u001b[0m \u001b[38;5;66;03m# Extract sample and reference data for training and testing\u001b[39;00m\n\u001b[1;32m     20\u001b[0m images \u001b[38;5;241m=\u001b[39m results_list\u001b[38;5;241m.\u001b[39mmap(\u001b[38;5;28;01mlambda\u001b[39;00m result: ee\u001b[38;5;241m.\u001b[39mImage(ee\u001b[38;5;241m.\u001b[39mList(result)\u001b[38;5;241m.\u001b[39mget(\u001b[38;5;241m0\u001b[39m)))\n",
      "File \u001b[0;32m/opt/miniconda3/envs/aspen-fire/lib/python3.10/site-packages/ee/ee_list.py:417\u001b[0m, in \u001b[0;36mList.map\u001b[0;34m(self, baseAlgorithm, dropNulls)\u001b[0m\n\u001b[1;32m    400\u001b[0m \u001b[38;5;28;01mdef\u001b[39;00m \u001b[38;5;21mmap\u001b[39m(\n\u001b[1;32m    401\u001b[0m     \u001b[38;5;28mself\u001b[39m, baseAlgorithm: _EeAnyType, dropNulls: _EeBoolType \u001b[38;5;241m=\u001b[39m \u001b[38;5;28;01mFalse\u001b[39;00m\n\u001b[1;32m    402\u001b[0m ) \u001b[38;5;241m-\u001b[39m\u001b[38;5;241m>\u001b[39m \u001b[38;5;124m'\u001b[39m\u001b[38;5;124mList\u001b[39m\u001b[38;5;124m'\u001b[39m:\n\u001b[1;32m    403\u001b[0m   \u001b[38;5;66;03m# pylint: enable=invalid-name\u001b[39;00m\n\u001b[1;32m    404\u001b[0m \u001b[38;5;250m  \u001b[39m\u001b[38;5;124;03m\"\"\"Map an algorithm over a list.\u001b[39;00m\n\u001b[1;32m    405\u001b[0m \n\u001b[1;32m    406\u001b[0m \u001b[38;5;124;03m  The algorithm is expected to take an Object and return an Object.\u001b[39;00m\n\u001b[0;32m   (...)\u001b[0m\n\u001b[1;32m    414\u001b[0m \u001b[38;5;124;03m    An ee.List.\u001b[39;00m\n\u001b[1;32m    415\u001b[0m \u001b[38;5;124;03m  \"\"\"\u001b[39;00m\n\u001b[0;32m--> 417\u001b[0m   \u001b[38;5;28;01mreturn\u001b[39;00m \u001b[43mapifunction\u001b[49m\u001b[38;5;241;43m.\u001b[39;49m\u001b[43mApiFunction\u001b[49m\u001b[38;5;241;43m.\u001b[39;49m\u001b[43mcall_\u001b[49m\u001b[43m(\u001b[49m\n\u001b[1;32m    418\u001b[0m \u001b[43m      \u001b[49m\u001b[38;5;28;43mself\u001b[39;49m\u001b[38;5;241;43m.\u001b[39;49m\u001b[43mname\u001b[49m\u001b[43m(\u001b[49m\u001b[43m)\u001b[49m\u001b[43m \u001b[49m\u001b[38;5;241;43m+\u001b[39;49m\u001b[43m \u001b[49m\u001b[38;5;124;43m'\u001b[39;49m\u001b[38;5;124;43m.map\u001b[39;49m\u001b[38;5;124;43m'\u001b[39;49m\u001b[43m,\u001b[49m\u001b[43m \u001b[49m\u001b[38;5;28;43mself\u001b[39;49m\u001b[43m,\u001b[49m\u001b[43m \u001b[49m\u001b[43mbaseAlgorithm\u001b[49m\u001b[43m,\u001b[49m\u001b[43m \u001b[49m\u001b[43mdropNulls\u001b[49m\n\u001b[1;32m    419\u001b[0m \u001b[43m  \u001b[49m\u001b[43m)\u001b[49m\n",
      "File \u001b[0;32m/opt/miniconda3/envs/aspen-fire/lib/python3.10/site-packages/ee/apifunction.py:84\u001b[0m, in \u001b[0;36mApiFunction.call_\u001b[0;34m(cls, name, *args, **kwargs)\u001b[0m\n\u001b[1;32m     71\u001b[0m \u001b[38;5;129m@classmethod\u001b[39m\n\u001b[1;32m     72\u001b[0m \u001b[38;5;28;01mdef\u001b[39;00m \u001b[38;5;21mcall_\u001b[39m(\u001b[38;5;28mcls\u001b[39m, name: \u001b[38;5;28mstr\u001b[39m, \u001b[38;5;241m*\u001b[39margs: Any, \u001b[38;5;241m*\u001b[39m\u001b[38;5;241m*\u001b[39mkwargs: Any) \u001b[38;5;241m-\u001b[39m\u001b[38;5;241m>\u001b[39m Any:\n\u001b[1;32m     73\u001b[0m \u001b[38;5;250m  \u001b[39m\u001b[38;5;124;03m\"\"\"Call a named API function with positional and keyword arguments.\u001b[39;00m\n\u001b[1;32m     74\u001b[0m \n\u001b[1;32m     75\u001b[0m \u001b[38;5;124;03m  Args:\u001b[39;00m\n\u001b[0;32m   (...)\u001b[0m\n\u001b[1;32m     82\u001b[0m \u001b[38;5;124;03m    a recognized return type, the returned value will be cast to that type.\u001b[39;00m\n\u001b[1;32m     83\u001b[0m \u001b[38;5;124;03m  \"\"\"\u001b[39;00m\n\u001b[0;32m---> 84\u001b[0m   \u001b[38;5;28;01mreturn\u001b[39;00m \u001b[38;5;28;43mcls\u001b[39;49m\u001b[38;5;241;43m.\u001b[39;49m\u001b[43mlookup\u001b[49m\u001b[43m(\u001b[49m\u001b[43mname\u001b[49m\u001b[43m)\u001b[49m\u001b[38;5;241;43m.\u001b[39;49m\u001b[43mcall\u001b[49m\u001b[43m(\u001b[49m\u001b[38;5;241;43m*\u001b[39;49m\u001b[43margs\u001b[49m\u001b[43m,\u001b[49m\u001b[43m \u001b[49m\u001b[38;5;241;43m*\u001b[39;49m\u001b[38;5;241;43m*\u001b[39;49m\u001b[43mkwargs\u001b[49m\u001b[43m)\u001b[49m\n",
      "File \u001b[0;32m/opt/miniconda3/envs/aspen-fire/lib/python3.10/site-packages/ee/function.py:62\u001b[0m, in \u001b[0;36mFunction.call\u001b[0;34m(self, *args, **kwargs)\u001b[0m\n\u001b[1;32m     50\u001b[0m \u001b[38;5;28;01mdef\u001b[39;00m \u001b[38;5;21mcall\u001b[39m(\u001b[38;5;28mself\u001b[39m, \u001b[38;5;241m*\u001b[39margs, \u001b[38;5;241m*\u001b[39m\u001b[38;5;241m*\u001b[39mkwargs):\n\u001b[1;32m     51\u001b[0m \u001b[38;5;250m  \u001b[39m\u001b[38;5;124;03m\"\"\"Calls the function with the given positional and keyword arguments.\u001b[39;00m\n\u001b[1;32m     52\u001b[0m \n\u001b[1;32m     53\u001b[0m \u001b[38;5;124;03m  Args:\u001b[39;00m\n\u001b[0;32m   (...)\u001b[0m\n\u001b[1;32m     60\u001b[0m \u001b[38;5;124;03m    to that type.\u001b[39;00m\n\u001b[1;32m     61\u001b[0m \u001b[38;5;124;03m  \"\"\"\u001b[39;00m\n\u001b[0;32m---> 62\u001b[0m   \u001b[38;5;28;01mreturn\u001b[39;00m \u001b[38;5;28;43mself\u001b[39;49m\u001b[38;5;241;43m.\u001b[39;49m\u001b[43mapply\u001b[49m\u001b[43m(\u001b[49m\u001b[38;5;28;43mself\u001b[39;49m\u001b[38;5;241;43m.\u001b[39;49m\u001b[43mnameArgs\u001b[49m\u001b[43m(\u001b[49m\u001b[43margs\u001b[49m\u001b[43m,\u001b[49m\u001b[43m \u001b[49m\u001b[43mkwargs\u001b[49m\u001b[43m)\u001b[49m\u001b[43m)\u001b[49m\n",
      "File \u001b[0;32m/opt/miniconda3/envs/aspen-fire/lib/python3.10/site-packages/ee/function.py:75\u001b[0m, in \u001b[0;36mFunction.apply\u001b[0;34m(self, named_args)\u001b[0m\n\u001b[1;32m     64\u001b[0m \u001b[38;5;28;01mdef\u001b[39;00m \u001b[38;5;21mapply\u001b[39m(\u001b[38;5;28mself\u001b[39m, named_args):\n\u001b[1;32m     65\u001b[0m \u001b[38;5;250m  \u001b[39m\u001b[38;5;124;03m\"\"\"Calls the function with a dictionary of named arguments.\u001b[39;00m\n\u001b[1;32m     66\u001b[0m \n\u001b[1;32m     67\u001b[0m \u001b[38;5;124;03m  Args:\u001b[39;00m\n\u001b[0;32m   (...)\u001b[0m\n\u001b[1;32m     73\u001b[0m \u001b[38;5;124;03m    to that type.\u001b[39;00m\n\u001b[1;32m     74\u001b[0m \u001b[38;5;124;03m  \"\"\"\u001b[39;00m\n\u001b[0;32m---> 75\u001b[0m   result \u001b[38;5;241m=\u001b[39m computedobject\u001b[38;5;241m.\u001b[39mComputedObject(\u001b[38;5;28mself\u001b[39m, \u001b[38;5;28;43mself\u001b[39;49m\u001b[38;5;241;43m.\u001b[39;49m\u001b[43mpromoteArgs\u001b[49m\u001b[43m(\u001b[49m\u001b[43mnamed_args\u001b[49m\u001b[43m)\u001b[49m)\n\u001b[1;32m     76\u001b[0m   \u001b[38;5;28;01mreturn\u001b[39;00m Function\u001b[38;5;241m.\u001b[39m_promoter(result, \u001b[38;5;28mself\u001b[39m\u001b[38;5;241m.\u001b[39mgetReturnType())\n",
      "File \u001b[0;32m/opt/miniconda3/envs/aspen-fire/lib/python3.10/site-packages/ee/function.py:103\u001b[0m, in \u001b[0;36mFunction.promoteArgs\u001b[0;34m(self, args)\u001b[0m\n\u001b[1;32m    101\u001b[0m name \u001b[38;5;241m=\u001b[39m arg_spec[\u001b[38;5;124m'\u001b[39m\u001b[38;5;124mname\u001b[39m\u001b[38;5;124m'\u001b[39m]\n\u001b[1;32m    102\u001b[0m \u001b[38;5;28;01mif\u001b[39;00m name \u001b[38;5;129;01min\u001b[39;00m args:\n\u001b[0;32m--> 103\u001b[0m   promoted_args[name] \u001b[38;5;241m=\u001b[39m \u001b[43mFunction\u001b[49m\u001b[38;5;241;43m.\u001b[39;49m\u001b[43m_promoter\u001b[49m\u001b[43m(\u001b[49m\u001b[43margs\u001b[49m\u001b[43m[\u001b[49m\u001b[43mname\u001b[49m\u001b[43m]\u001b[49m\u001b[43m,\u001b[49m\u001b[43m \u001b[49m\u001b[43marg_spec\u001b[49m\u001b[43m[\u001b[49m\u001b[38;5;124;43m'\u001b[39;49m\u001b[38;5;124;43mtype\u001b[39;49m\u001b[38;5;124;43m'\u001b[39;49m\u001b[43m]\u001b[49m\u001b[43m)\u001b[49m\n\u001b[1;32m    104\u001b[0m \u001b[38;5;28;01melif\u001b[39;00m \u001b[38;5;129;01mnot\u001b[39;00m arg_spec\u001b[38;5;241m.\u001b[39mget(\u001b[38;5;124m'\u001b[39m\u001b[38;5;124moptional\u001b[39m\u001b[38;5;124m'\u001b[39m):\n\u001b[1;32m    105\u001b[0m   \u001b[38;5;28;01mraise\u001b[39;00m ee_exception\u001b[38;5;241m.\u001b[39mEEException(\n\u001b[1;32m    106\u001b[0m       \u001b[38;5;124m'\u001b[39m\u001b[38;5;124mRequired argument (\u001b[39m\u001b[38;5;132;01m%s\u001b[39;00m\u001b[38;5;124m) missing to function: \u001b[39m\u001b[38;5;132;01m%s\u001b[39;00m\u001b[38;5;124m'\u001b[39m\n\u001b[1;32m    107\u001b[0m       \u001b[38;5;241m%\u001b[39m (name, signature\u001b[38;5;241m.\u001b[39mget(\u001b[38;5;124m'\u001b[39m\u001b[38;5;124mname\u001b[39m\u001b[38;5;124m'\u001b[39m)))\n",
      "File \u001b[0;32m/opt/miniconda3/envs/aspen-fire/lib/python3.10/site-packages/ee/__init__.py:328\u001b[0m, in \u001b[0;36m_Promote\u001b[0;34m(arg, a_class)\u001b[0m\n\u001b[1;32m    325\u001b[0m \u001b[38;5;28;01melif\u001b[39;00m \u001b[38;5;28mcallable\u001b[39m(arg):\n\u001b[1;32m    326\u001b[0m   \u001b[38;5;66;03m# A native function that needs to be wrapped.\u001b[39;00m\n\u001b[1;32m    327\u001b[0m   args_count \u001b[38;5;241m=\u001b[39m \u001b[38;5;28mlen\u001b[39m(inspect\u001b[38;5;241m.\u001b[39mgetfullargspec(arg)\u001b[38;5;241m.\u001b[39margs)\n\u001b[0;32m--> 328\u001b[0m   \u001b[38;5;28;01mreturn\u001b[39;00m \u001b[43mCustomFunction\u001b[49m\u001b[38;5;241;43m.\u001b[39;49m\u001b[43mcreate\u001b[49m\u001b[43m(\u001b[49m\u001b[43marg\u001b[49m\u001b[43m,\u001b[49m\u001b[43m \u001b[49m\u001b[38;5;124;43m'\u001b[39;49m\u001b[38;5;124;43mObject\u001b[39;49m\u001b[38;5;124;43m'\u001b[39;49m\u001b[43m,\u001b[49m\u001b[43m \u001b[49m\u001b[43m[\u001b[49m\u001b[38;5;124;43m'\u001b[39;49m\u001b[38;5;124;43mObject\u001b[39;49m\u001b[38;5;124;43m'\u001b[39;49m\u001b[43m]\u001b[49m\u001b[43m \u001b[49m\u001b[38;5;241;43m*\u001b[39;49m\u001b[43m \u001b[49m\u001b[43margs_count\u001b[49m\u001b[43m)\u001b[49m\n\u001b[1;32m    329\u001b[0m \u001b[38;5;28;01melif\u001b[39;00m \u001b[38;5;28misinstance\u001b[39m(arg, Encodable):\n\u001b[1;32m    330\u001b[0m   \u001b[38;5;66;03m# An ee.Function or a computed function like the return value of\u001b[39;00m\n\u001b[1;32m    331\u001b[0m   \u001b[38;5;66;03m# Image.parseExpression().\u001b[39;00m\n\u001b[1;32m    332\u001b[0m   \u001b[38;5;28;01mreturn\u001b[39;00m arg\n",
      "File \u001b[0;32m/opt/miniconda3/envs/aspen-fire/lib/python3.10/site-packages/ee/customfunction.py:126\u001b[0m, in \u001b[0;36mCustomFunction.create\u001b[0;34m(func, return_type, arg_types)\u001b[0m\n\u001b[1;32m    120\u001b[0m args \u001b[38;5;241m=\u001b[39m [{\u001b[38;5;124m'\u001b[39m\u001b[38;5;124mname\u001b[39m\u001b[38;5;124m'\u001b[39m: \u001b[38;5;28;01mNone\u001b[39;00m, \u001b[38;5;124m'\u001b[39m\u001b[38;5;124mtype\u001b[39m\u001b[38;5;124m'\u001b[39m: StringifyType(i)} \u001b[38;5;28;01mfor\u001b[39;00m i \u001b[38;5;129;01min\u001b[39;00m arg_types]\n\u001b[1;32m    121\u001b[0m signature \u001b[38;5;241m=\u001b[39m {\n\u001b[1;32m    122\u001b[0m     \u001b[38;5;124m'\u001b[39m\u001b[38;5;124mname\u001b[39m\u001b[38;5;124m'\u001b[39m: \u001b[38;5;124m'\u001b[39m\u001b[38;5;124m'\u001b[39m,\n\u001b[1;32m    123\u001b[0m     \u001b[38;5;124m'\u001b[39m\u001b[38;5;124mreturns\u001b[39m\u001b[38;5;124m'\u001b[39m: StringifyType(return_type),\n\u001b[1;32m    124\u001b[0m     \u001b[38;5;124m'\u001b[39m\u001b[38;5;124margs\u001b[39m\u001b[38;5;124m'\u001b[39m: args\n\u001b[1;32m    125\u001b[0m }\n\u001b[0;32m--> 126\u001b[0m \u001b[38;5;28;01mreturn\u001b[39;00m \u001b[43mCustomFunction\u001b[49m\u001b[43m(\u001b[49m\u001b[43msignature\u001b[49m\u001b[43m,\u001b[49m\u001b[43m \u001b[49m\u001b[43mfunc\u001b[49m\u001b[43m)\u001b[49m\n",
      "File \u001b[0;32m/opt/miniconda3/envs/aspen-fire/lib/python3.10/site-packages/ee/customfunction.py:40\u001b[0m, in \u001b[0;36mCustomFunction.__init__\u001b[0;34m(self, signature, body)\u001b[0m\n\u001b[1;32m     26\u001b[0m \u001b[38;5;250m\u001b[39m\u001b[38;5;124;03m\"\"\"Creates a function defined by a given expression with unbound variables.\u001b[39;00m\n\u001b[1;32m     27\u001b[0m \n\u001b[1;32m     28\u001b[0m \u001b[38;5;124;03mThe expression is created by evaluating the given function\u001b[39;00m\n\u001b[0;32m   (...)\u001b[0m\n\u001b[1;32m     35\u001b[0m \u001b[38;5;124;03m  body: The Python function to evaluate.\u001b[39;00m\n\u001b[1;32m     36\u001b[0m \u001b[38;5;124;03m\"\"\"\u001b[39;00m\n\u001b[1;32m     37\u001b[0m variables \u001b[38;5;241m=\u001b[39m [CustomFunction\u001b[38;5;241m.\u001b[39mvariable(arg[\u001b[38;5;124m'\u001b[39m\u001b[38;5;124mtype\u001b[39m\u001b[38;5;124m'\u001b[39m], arg[\u001b[38;5;124m'\u001b[39m\u001b[38;5;124mname\u001b[39m\u001b[38;5;124m'\u001b[39m])\n\u001b[1;32m     38\u001b[0m              \u001b[38;5;28;01mfor\u001b[39;00m arg \u001b[38;5;129;01min\u001b[39;00m signature[\u001b[38;5;124m'\u001b[39m\u001b[38;5;124margs\u001b[39m\u001b[38;5;124m'\u001b[39m]]\n\u001b[0;32m---> 40\u001b[0m \u001b[38;5;28;01mif\u001b[39;00m \u001b[43mbody\u001b[49m\u001b[43m(\u001b[49m\u001b[38;5;241;43m*\u001b[39;49m\u001b[43mvariables\u001b[49m\u001b[43m)\u001b[49m \u001b[38;5;129;01mis\u001b[39;00m \u001b[38;5;28;01mNone\u001b[39;00m:\n\u001b[1;32m     41\u001b[0m   \u001b[38;5;28;01mraise\u001b[39;00m ee_exception\u001b[38;5;241m.\u001b[39mEEException(\u001b[38;5;124m'\u001b[39m\u001b[38;5;124mUser-defined methods must return a value\u001b[39m\u001b[38;5;124m'\u001b[39m)\n\u001b[1;32m     43\u001b[0m \u001b[38;5;66;03m# The signature of the function.\u001b[39;00m\n",
      "Cell \u001b[0;32mIn[7], line 17\u001b[0m, in \u001b[0;36m<lambda>\u001b[0;34m(x)\u001b[0m\n\u001b[1;32m     14\u001b[0m \u001b[38;5;28mprint\u001b[39m(fire_ids\u001b[38;5;241m.\u001b[39mgetInfo())\n\u001b[1;32m     16\u001b[0m \u001b[38;5;66;03m# Run the function\u001b[39;00m\n\u001b[0;32m---> 17\u001b[0m results_list \u001b[38;5;241m=\u001b[39m fire_ids\u001b[38;5;241m.\u001b[39mmap(\u001b[38;5;28;01mlambda\u001b[39;00m x: \u001b[43mgenerate_composites\u001b[49m\u001b[43m(\u001b[49m\u001b[43mx\u001b[49m\u001b[43m)\u001b[49m)\n\u001b[1;32m     19\u001b[0m \u001b[38;5;66;03m# Extract sample and reference data for training and testing\u001b[39;00m\n\u001b[1;32m     20\u001b[0m images \u001b[38;5;241m=\u001b[39m results_list\u001b[38;5;241m.\u001b[39mmap(\u001b[38;5;28;01mlambda\u001b[39;00m result: ee\u001b[38;5;241m.\u001b[39mImage(ee\u001b[38;5;241m.\u001b[39mList(result)\u001b[38;5;241m.\u001b[39mget(\u001b[38;5;241m0\u001b[39m)))\n",
      "Cell \u001b[0;32mIn[6], line 14\u001b[0m, in \u001b[0;36mgenerate_composites\u001b[0;34m(geom_id)\u001b[0m\n\u001b[1;32m     11\u001b[0m bounds \u001b[38;5;241m=\u001b[39m fire\u001b[38;5;241m.\u001b[39mgeometry()\u001b[38;5;241m.\u001b[39mbuffer(\u001b[38;5;241m1000\u001b[39m)\u001b[38;5;241m.\u001b[39mbounds()\n\u001b[1;32m     13\u001b[0m \u001b[38;5;66;03m# Get the VIIRS FRP observations\u001b[39;00m\n\u001b[0;32m---> 14\u001b[0m frp_fire \u001b[38;5;241m=\u001b[39m frp\u001b[38;5;241m.\u001b[39mfilter(ee\u001b[38;5;241m.\u001b[39mFilter\u001b[38;5;241m.\u001b[39meq(\u001b[38;5;124m'\u001b[39m\u001b[38;5;124mfired_id\u001b[39m\u001b[38;5;124m'\u001b[39m, \u001b[43mfire_id\u001b[49m))\n\u001b[1;32m     16\u001b[0m \u001b[38;5;66;03m# Grab the ignition date information\u001b[39;00m\n\u001b[1;32m     17\u001b[0m ig_year \u001b[38;5;241m=\u001b[39m ee\u001b[38;5;241m.\u001b[39mNumber(fire\u001b[38;5;241m.\u001b[39mget(\u001b[38;5;124m'\u001b[39m\u001b[38;5;124mig_year\u001b[39m\u001b[38;5;124m'\u001b[39m))\u001b[38;5;241m.\u001b[39msubtract(\u001b[38;5;241m1\u001b[39m)\n",
      "\u001b[0;31mNameError\u001b[0m: name 'fire_id' is not defined"
     ]
    }
   ],
   "source": [
    "# Load the S2-MSI Level 1C and cloud score plus\n",
    "s2l1c = ee.ImageCollection(\"COPERNICUS/S2_HARMONIZED\")\n",
    "csPlus = ee.ImageCollection(\"GOOGLE/CLOUD_SCORE_PLUS/V1/S2_HARMONIZED\")\n",
    "\n",
    "# Sentinel-2 MSI Bands and Vegetation Indices\n",
    "s2_bands = ['B2', 'B3', 'B4', 'B5', 'B6', 'B7', 'B8', 'B8A', 'B11', 'B12']\n",
    "\n",
    "QA_BAND = 'cs'\n",
    "CLEAR_THRESHOLD = 0.60\n",
    "\n",
    "# Get the fire IDs\n",
    "fire_ids = frp.aggregate_array('fired_id').distinct()\n",
    "fire_ids = fire_ids.slice(0,10)\n",
    "print(fire_ids.getInfo())\n",
    "\n",
    "# Run the function\n",
    "results_list = fire_ids.map(lambda x: generate_composites(x))\n",
    "\n",
    "# Extract sample and reference data for training and testing\n",
    "images = results_list.map(lambda result: ee.Image(ee.List(result).get(0)))\n",
    "reductions = results_list.map(lambda result: ee.FeatureCollection(ee.List(result).get(1)))\n",
    "\n",
    "# Create the image collection\n",
    "img_col = ee.ImageCollection.fromImages(images)\n",
    "reduc = ee.FeatureCollection(reductions).flatten()\n",
    "\n",
    "print(f\"Number of features: {reduc.size().getInfo()}\")\n",
    "print(f\"Band names: {img_col.first().bandNames().getInfo()}\")\n",
    "\n",
    "# Check that it worked\n",
    "print(reduc.first().getInfo())\n",
    "\n",
    "print(\"Done!\")"
   ]
  },
  {
   "cell_type": "code",
   "execution_count": 8,
   "id": "d2baf978-a77d-46f7-a059-b146206811f3",
   "metadata": {},
   "outputs": [
    {
     "data": {
      "text/html": [
       "\n",
       "            <style>\n",
       "                .geemap-dark {\n",
       "                    --jp-widgets-color: white;\n",
       "                    --jp-widgets-label-color: white;\n",
       "                    --jp-ui-font-color1: white;\n",
       "                    --jp-layout-color2: #454545;\n",
       "                    background-color: #383838;\n",
       "                }\n",
       "\n",
       "                .geemap-dark .jupyter-button {\n",
       "                    --jp-layout-color3: #383838;\n",
       "                }\n",
       "\n",
       "                .geemap-colab {\n",
       "                    background-color: var(--colab-primary-surface-color, white);\n",
       "                }\n",
       "\n",
       "                .geemap-colab .jupyter-button {\n",
       "                    --jp-layout-color3: var(--colab-primary-surface-color, white);\n",
       "                }\n",
       "            </style>\n",
       "            "
      ],
      "text/plain": [
       "<IPython.core.display.HTML object>"
      ]
     },
     "metadata": {},
     "output_type": "display_data"
    },
    {
     "name": "stdout",
     "output_type": "stream",
     "text": [
      "Fire ID: 189859\n"
     ]
    },
    {
     "data": {
      "application/vnd.jupyter.widget-view+json": {
       "model_id": "b7f4fe9db53e4d1da5a2caf50d255f8f",
       "version_major": 2,
       "version_minor": 0
      },
      "text/plain": [
       "Map(center=[0, 0], controls=(WidgetControl(options=['position', 'transparent_bg'], widget=SearchDataGUI(childr…"
      ]
     },
     "execution_count": 8,
     "metadata": {},
     "output_type": "execute_result"
    }
   ],
   "source": [
    "# Initialize a map\n",
    "Map = geemap.Map()\n",
    "Map.addLayerControl()\n",
    "\n",
    "f = img_col.first()\n",
    "id = f.get('fired_id').getInfo()\n",
    "print(\"Fire ID:\", id)\n",
    "\n",
    "# Grab the fire perimeter\n",
    "fire = ee.FeatureCollection(fires.filter(ee.Filter.eq('fired_id', id)))\n",
    "plots = frp.filter(ee.Filter.eq('fired_id', id))\n",
    "\n",
    "Map.centerObject(plots)\n",
    "\n",
    "# Visualize for one fire\n",
    "vis_params_lai = {\n",
    "    'bands': ['LAI'],\n",
    "    'min': -50,\n",
    "    'max': 100,\n",
    "}\n",
    "vis_params_mndwi = {\n",
    "    'bands': ['MNDWI'],\n",
    "    'min': -1,\n",
    "    'max': 1,\n",
    "}\n",
    "vis_params_rgb = {\n",
    "    'bands': ['B4', 'B3', 'B2'],\n",
    "    'min': 0,\n",
    "    'max': 3000,\n",
    "}\n",
    "\n",
    "# Add the layers to the map\n",
    "Map.addLayer(f, vis_params_lai, \"LAI\")\n",
    "Map.addLayer(f, vis_params_mndwi, \"MNDWI\")\n",
    "Map.addLayer(f, vis_params_rgb, \"RGB\")\n",
    "Map.addLayer(fire.style(**{'color': 'orange', 'fillColor': '00000000'}), {}, 'Fire perimeter')\n",
    "Map.addLayer(plots, {}, 'FRP Obs.')\n",
    "\n",
    "Map"
   ]
  },
  {
   "cell_type": "code",
   "execution_count": 24,
   "id": "889d4584-374c-442f-812e-19637e56fbf2",
   "metadata": {},
   "outputs": [
    {
     "data": {
      "text/html": [
       "\n",
       "            <style>\n",
       "                .geemap-dark {\n",
       "                    --jp-widgets-color: white;\n",
       "                    --jp-widgets-label-color: white;\n",
       "                    --jp-ui-font-color1: white;\n",
       "                    --jp-layout-color2: #454545;\n",
       "                    background-color: #383838;\n",
       "                }\n",
       "\n",
       "                .geemap-dark .jupyter-button {\n",
       "                    --jp-layout-color3: #383838;\n",
       "                }\n",
       "\n",
       "                .geemap-colab {\n",
       "                    background-color: var(--colab-primary-surface-color, white);\n",
       "                }\n",
       "\n",
       "                .geemap-colab .jupyter-button {\n",
       "                    --jp-layout-color3: var(--colab-primary-surface-color, white);\n",
       "                }\n",
       "            </style>\n",
       "            "
      ],
      "text/plain": [
       "<IPython.core.display.HTML object>"
      ]
     },
     "metadata": {},
     "output_type": "display_data"
    },
    {
     "name": "stdout",
     "output_type": "stream",
     "text": [
      "Success\n"
     ]
    }
   ],
   "source": [
    "# Export the reduction\n",
    "task = ee.batch.Export.table.toDrive(\n",
    "    collection=reduc,  # FeatureCollection to be exported\n",
    "    description='frp_reduc_evi_lai_mndwi',  # Description of the task\n",
    "    folder='Aim2',  # Google Drive folder to export to\n",
    "    fileFormat='CSV'  # File format for the export\n",
    ")\n",
    "task.start()\n",
    "print(\"Success\")"
   ]
  },
  {
   "cell_type": "markdown",
   "id": "3515cc35-b930-488c-b8ea-01c7c75cbd8f",
   "metadata": {},
   "source": [
    "## Extract fire-weather variables from gridMET"
   ]
  },
  {
   "cell_type": "code",
   "execution_count": null,
   "id": "f86cfea2-1a9b-4ec5-a684-2e00445ebc90",
   "metadata": {},
   "outputs": [],
   "source": [
    "# Load the gridMET datasets\n",
    "gridmet = ee.ImageCollection('IDAHO_EPSCOR/GRIDMET')\n",
    "\n",
    "# Extract the required attributes\n",
    "attrs = ['vs','erc','vpd','bi','fm1000']\n",
    "\n",
    "# Loop fire events and calculate 90th, 95th, and 99th percentiles for each variable\n",
    "percentiles = [90, 95, 99]\n",
    "\n",
    "def calc_gridmet(fire_id):\n",
    "    # Get the fire perimeter and bounding geometry\n",
    "    fire = fires.filter(ee.Filter.eq('fired_id', fire_id)).first()\n",
    "    bounds = fire.geometry().buffer(1000).bounds()\n",
    "    \n",
    "results = fires.map(\n"
   ]
  }
 ],
 "metadata": {
  "kernelspec": {
   "display_name": "aspen-fire",
   "language": "python",
   "name": "aspen-fire"
  },
  "language_info": {
   "codemirror_mode": {
    "name": "ipython",
    "version": 3
   },
   "file_extension": ".py",
   "mimetype": "text/x-python",
   "name": "python",
   "nbconvert_exporter": "python",
   "pygments_lexer": "ipython3",
   "version": "3.10.12"
  }
 },
 "nbformat": 4,
 "nbformat_minor": 5
}
