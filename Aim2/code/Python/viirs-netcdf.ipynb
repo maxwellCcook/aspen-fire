{
 "cells": [
  {
   "cell_type": "code",
   "execution_count": 1,
   "id": "5ecd0bef-fee5-428a-a587-cacab707d965",
   "metadata": {},
   "outputs": [
    {
     "name": "stdout",
     "output_type": "stream",
     "text": [
      "Success\n"
     ]
    }
   ],
   "source": [
    "\"\"\"\n",
    "Read VIIRS active fire data\n",
    "\"\"\"\n",
    "\n",
    "# Import packages\n",
    "import os, time, glob\n",
    "import pandas as pd\n",
    "import geopandas as gpd\n",
    "import rasterio as rio\n",
    "import rioxarray as rxr\n",
    "import h5py\n",
    "import pyproj\n",
    "import xarray as xr\n",
    "import numpy as np\n",
    "from datetime import datetime\n",
    "from matplotlib import pyplot as plt\n",
    "from affine import Affine\n",
    "from osgeo import gdal, gdal_array, gdalconst, osr\n",
    "\n",
    "# Projection information\n",
    "geog = 'EPSG:4326'  # Geographic projection\n",
    "prj = 'EPSG:5070'  # Projected coordinate system- WGS 84 NAD83 UTM Zone 13N\n",
    "\n",
    "# File path information\n",
    "maindir = '/Users/max/Library/CloudStorage/OneDrive-Personal/mcook/aspen-fire/Aim2/'\n",
    "\n",
    "# File path information\n",
    "print(\"Success\")"
   ]
  },
  {
   "cell_type": "code",
   "execution_count": 4,
   "id": "768e33a8-7c3d-436d-be3d-446eca0d93cc",
   "metadata": {},
   "outputs": [
    {
     "name": "stdout",
     "output_type": "stream",
     "text": [
      "VNP14IMG: 158 granules\n",
      "VJI14IMG: 155 granules\n"
     ]
    }
   ],
   "source": [
    "# Function to list files in a directory\n",
    "def list_files(path, ext, recursive):\n",
    "    \"\"\"\n",
    "    List files of a specific type in a directory or subdirectories\n",
    "    \"\"\"\n",
    "    if recursive is True:\n",
    "        return glob.glob(os.path.join(path, '**', '*{}'.format(ext)), recursive=True)\n",
    "    else:\n",
    "        return glob.glob(os.path.join(path, '*{}'.format(ext)), recursive=False)\n",
    "\n",
    "# Get a list of .nc files\n",
    "nc_files = list_files(os.path.join(maindir, 'data/spatial/raw/VIIRS'), \"*.nc\", recursive=True)\n",
    "h5_files = list_files(os.path.join(maindir, 'data/spatial/raw/VIIRS'), \"*.h5\", recursive=True)\n",
    "\n",
    "# Seperate into VNP14 and VJ114, VNP03/VJ103\n",
    "\n",
    "vnp = [f for f in nc_files if 'VNP14' in os.path.basename(f)] # VNP14IMG\n",
    "vji = [f for f in nc_files if 'VJ114' in os.path.basename(f)] # VJI14IMG\n",
    "\n",
    "print(f'VNP14IMG: {len(vnp)} granules')\n",
    "print(f'VJI14IMG: {len(vji)} granules')\n"
   ]
  },
  {
   "cell_type": "code",
   "execution_count": 5,
   "id": "c54298c5-9b18-47e6-a479-e6a9831058d7",
   "metadata": {},
   "outputs": [
    {
     "name": "stdout",
     "output_type": "stream",
     "text": [
      "FIRED_4014\n"
     ]
    }
   ],
   "source": [
    "# Split the path\n",
    "parts = vnp[0].split(\"/\")\n",
    "for part in parts:\n",
    "    if part.startswith(\"FIRED_\"):\n",
    "        fire_id = part\n",
    "        break\n",
    "print(fire_id)"
   ]
  },
  {
   "cell_type": "code",
   "execution_count": 6,
   "id": "28d4ace3-662e-449c-9725-11db206cf447",
   "metadata": {},
   "outputs": [
    {
     "data": {
      "text/plain": [
       "'/Users/max/Library/CloudStorage/OneDrive-Personal/mcook/aspen-fire/Aim2/data/spatial/raw/VIIRS/FIRED_4014/VNP14IMG/VNP14IMG.A2019225.1936.002.2024095014143.nc'"
      ]
     },
     "execution_count": 6,
     "metadata": {},
     "output_type": "execute_result"
    }
   ],
   "source": [
    "vnp[0]"
   ]
  },
  {
   "cell_type": "code",
   "execution_count": 7,
   "id": "df4d03a9-9968-4a33-8b2b-f02522f50f67",
   "metadata": {},
   "outputs": [
    {
     "name": "stdout",
     "output_type": "stream",
     "text": [
      "<class 'netCDF4._netCDF4.Dataset'>\n",
      "root group (NETCDF4 data model, file format HDF5):\n",
      "    VNP02IMG: VNP02CCIMG.A2019225.1936.002.2022333062425.nc\n",
      "    VNP03IMG: VNP03IMG.A2019225.1936.002.2021110215728.nc\n",
      "    VNP02MOD: VNP02CCMOD.A2019225.1936.002.2022333062425.nc\n",
      "    VNP02GDC: VNP02GDC.A2019225.1936.002.2021111141115.nc\n",
      "    ProcessVersionNumber: 3.1.9\n",
      "    ExecutableCreationDate: Oct 31 2023\n",
      "    ExecutableCreationTime: 17:46:00\n",
      "    SystemID: Linux minion20367 5.4.0-1093-fips #103-Ubuntu SMP Thu Feb 8 14:02:37 UTC 2024 x86_64\n",
      "    Unagg_GRingLatitude: 51.740856,59.026741,38.287682,33.210144\n",
      "    Unagg_GRingLongitude: -129.983383,-81.693024,-81.958115,-115.527855\n",
      "    NorthBoundingCoordinate: 59.20688\n",
      "    SouthBoundingCoordinate: 33.210144\n",
      "    EastBoundingCoordinate: -81.69302\n",
      "    WestBoundingCoordinate: -129.98338\n",
      "    Day/Night/Both: Day\n",
      "    FirePix: 63\n",
      "    DayPix: 41369600\n",
      "    LandPix: 39874606\n",
      "    Satellite: NPP\n",
      "    NightPix: 0\n",
      "    DayNightFlag: Day\n",
      "    WaterPix: 1494994\n",
      "    MissingPix: 92\n",
      "    GlintPix: 1429982\n",
      "    CloudPix: 12731557\n",
      "    LongName: VIIRS/NPP Active Fires 6-Min L2 Swath 375m\n",
      "    PlatformShortName: SUOMI-NPP\n",
      "    StartTime: 2019-08-13 19:36:00.000\n",
      "    RangeBeginningTime: 19:36:00.00000\n",
      "    AlgorithmVersion: NPP_PR14IMG 3.1.6\n",
      "    RangeEndingDate: 2019-08-13\n",
      "    publisher_url: https://ladsweb.modaps.eosdis.nasa.gov\n",
      "    creator_name: VIIRS Land SIPS Processing Group\n",
      "    SatelliteInstrument: NPP_OPS\n",
      "    VersionID: 002\n",
      "    PGE_StartTime: 2019-08-13 19:36:00.000\n",
      "    ShortName: VNP14IMG\n",
      "    Conventions: CF-1.6\n",
      "    PGE_EndTime: 2019-08-13 19:42:00.000\n",
      "    creator_email: modis-ops@lists.nasa.gov\n",
      "    processing_level: Level 2\n",
      "    ProductionTime: 2024-04-04 01:41:43.000\n",
      "    LocalGranuleID: VNP14IMG.A2019225.1936.002.2024095014143.nc\n",
      "    GRingPointSequenceNo: [1 2 3 4]\n",
      "    project: VIIRS Land SIPS Active Fire\n",
      "    EndTime: 2019-08-13 19:42:00.000\n",
      "    creator_url: https://ladsweb.modaps.eosdis.nasa.gov\n",
      "    title: VIIRS 375m Active Fire Data\n",
      "    ProcessingEnvironment: Linux minion20367 5.4.0-1093-fips #103-Ubuntu SMP Thu Feb 8 14:02:37 UTC 2024 x86_64 x86_64 x86_64 GNU/Linux\n",
      "    cdm_data_type: swath\n",
      "    stdname_vocabulary: NetCDF Climate and Forecast (CF) Metadata Convention\n",
      "    GRingPointLongitude: [-129.983   -81.693   -81.9581 -115.528 ]\n",
      "    PGENumber: 510\n",
      "    publisher_email: modis-ops@lists.nasa.gov\n",
      "    AlgorithmType: OPS\n",
      "    PGEVersion: 2.0.13\n",
      "    institution: NASA Goddard Space Flight Center\n",
      "    RangeBeginningDate: 2019-08-13\n",
      "    identifier_product_doi_authority: https://doi.org\n",
      "    RangeEndingTime: 19:42:00.00000\n",
      "    ProcessingCenter: MODAPS-NASA\n",
      "    GRingPointLatitude: [51.7409 59.0267 38.2877 33.2101]\n",
      "    license: http://science.nasa.gov/earth-science/earth-science-data/data-information-policy/\n",
      "    SensorShortname: VIIRS\n",
      "    PGE_Name: PGE510\n",
      "    publisher_name: LAADS\n",
      "    identifier_product_doi: 10.5067/VIIRS/VNP14IMG.002\n",
      "    InputPointer: /MODAPSops4/archive/f20367/running/VNP_L1bglu/60572898/VNP02CCIMG.A2019225.1936.002.2022333062425.nc, /MODAPSops4/archive/f20367/running/VNP_L1bglu/60572898/VNP03IMG.A2019225.1936.002.2021110215728.nc, /MODAPSops4/archive/f20367/running/VNP_L1bglu/60572898/VNP02CCMOD.A2019225.1936.002.2022333062425.nc, /MODAPSops4/archive/f20367/running/VNP_L1bglu/60572898/VNP02GDC.A2019225.1936.002.2021111141115.nc\n",
      "    naming_authority: gov.nasa.gsfc.VIIRSland\n",
      "    keywords_vocabulary: NASA Global Change Master Directory (GCMD) Science Keywords\n",
      "    dimensions(sizes): phony_dim_0(63), phony_dim_1(6464), phony_dim_2(6400)\n",
      "    variables(dimensions): uint16 FP_AdjCloud(phony_dim_0), uint16 FP_AdjWater(phony_dim_0), float32 FP_MAD_DT(phony_dim_0), float32 FP_MAD_T4(phony_dim_0), float32 FP_MAD_T5(phony_dim_0), float32 FP_MeanDT(phony_dim_0), float32 FP_MeanRad13(phony_dim_0), float32 FP_MeanT4(phony_dim_0), float32 FP_MeanT5(phony_dim_0), float32 FP_Rad13(phony_dim_0), float32 FP_SolAzAng(phony_dim_0), float32 FP_SolZenAng(phony_dim_0), float32 FP_T4(phony_dim_0), float32 FP_T5(phony_dim_0), float32 FP_ViewAzAng(phony_dim_0), float32 FP_ViewZenAng(phony_dim_0), uint16 FP_WinSize(phony_dim_0), uint8 FP_confidence(phony_dim_0), uint8 FP_day(phony_dim_0), float32 FP_latitude(phony_dim_0), uint16 FP_line(phony_dim_0), float32 FP_longitude(phony_dim_0), float32 FP_power(phony_dim_0), uint16 FP_sample(phony_dim_0), uint32 algorithm QA(phony_dim_1, phony_dim_2), uint8 fire mask(phony_dim_1, phony_dim_2)\n",
      "    groups: \n"
     ]
    }
   ],
   "source": [
    "# Library to work with netCDF files\n",
    "from netCDF4 import Dataset\n",
    "\n",
    "# Open a .nc file (\"file_name\")\n",
    "ds = Dataset(vnp[0], 'r', format = 'NETCDF4')\n",
    "\n",
    "print(ds)"
   ]
  },
  {
   "cell_type": "code",
   "execution_count": 8,
   "id": "2fa69198-76c9-4402-9a7d-deea2c856e21",
   "metadata": {},
   "outputs": [
    {
     "name": "stdout",
     "output_type": "stream",
     "text": [
      "Day\n"
     ]
    }
   ],
   "source": [
    "day_night_flag = ds.getncattr('DayNightFlag')\n",
    "print(day_night_flag)"
   ]
  },
  {
   "cell_type": "code",
   "execution_count": 9,
   "id": "f4ff07c7-5ded-4dde-8ea3-a8e326399148",
   "metadata": {},
   "outputs": [
    {
     "data": {
      "text/plain": [
       "['FP_AdjCloud',\n",
       " 'FP_AdjWater',\n",
       " 'FP_MAD_DT',\n",
       " 'FP_MAD_T4',\n",
       " 'FP_MAD_T5',\n",
       " 'FP_MeanDT',\n",
       " 'FP_MeanRad13',\n",
       " 'FP_MeanT4',\n",
       " 'FP_MeanT5',\n",
       " 'FP_Rad13',\n",
       " 'FP_SolAzAng',\n",
       " 'FP_SolZenAng',\n",
       " 'FP_T4',\n",
       " 'FP_T5',\n",
       " 'FP_ViewAzAng',\n",
       " 'FP_ViewZenAng',\n",
       " 'FP_WinSize',\n",
       " 'FP_confidence',\n",
       " 'FP_day',\n",
       " 'FP_latitude',\n",
       " 'FP_line',\n",
       " 'FP_longitude',\n",
       " 'FP_power',\n",
       " 'FP_sample',\n",
       " 'algorithm QA',\n",
       " 'fire mask']"
      ]
     },
     "execution_count": 9,
     "metadata": {},
     "output_type": "execute_result"
    }
   ],
   "source": [
    "# Print a list of variables in file\n",
    "list(ds.variables)"
   ]
  },
  {
   "cell_type": "code",
   "execution_count": 13,
   "id": "df50b959-5981-4760-9159-0ff0847cce21",
   "metadata": {},
   "outputs": [
    {
     "data": {
      "text/plain": [
       "'SUOMI-NPP'"
      ]
     },
     "execution_count": 13,
     "metadata": {},
     "output_type": "execute_result"
    }
   ],
   "source": [
    "ds.getncattr('PlatformShortName')"
   ]
  },
  {
   "cell_type": "code",
   "execution_count": null,
   "id": "2039c1f0-a2b3-4224-aa7d-4d6b29017e46",
   "metadata": {},
   "outputs": [],
   "source": [
    "print(ds.variables[''])"
   ]
  },
  {
   "cell_type": "code",
   "execution_count": null,
   "id": "ad9d015f-1d87-4e50-b928-43232fb9850f",
   "metadata": {},
   "outputs": [],
   "source": [
    "print(ds.variables['FP_confidence'][:])"
   ]
  },
  {
   "cell_type": "code",
   "execution_count": null,
   "id": "3827bb77-28bc-4b73-893d-488be66739d5",
   "metadata": {},
   "outputs": [],
   "source": [
    "# Extract the acquisition date and time from the NetCDF file\n",
    "start_time_str = ds.getncattr('PGE_StartTime')\n",
    "acq_datetime = datetime.strptime(start_time_str, '%Y-%m-%d %H:%M:%S.%f')\n",
    "# Calculate Julian Day\n",
    "julian_day = acq_datetime.timetuple().tm_yday\n",
    "\n",
    "print(f'Acquisition date/time: {acq_datetime}')\n",
    "print(f'Acquisition Julian Day: {julian_day}')"
   ]
  },
  {
   "cell_type": "code",
   "execution_count": null,
   "id": "70397ade-63e4-4e44-a90e-5661382f75dc",
   "metadata": {},
   "outputs": [],
   "source": [
    "# Extract fire pixel information\n",
    "latitudes = ds.variables['FP_latitude'][:]\n",
    "longitudes = ds.variables['FP_longitude'][:]\n",
    "fire_radiative_power = ds.variables['FP_power'][:]\n",
    "fire_confidence = ds.variables['FP_confidence'][:]\n",
    "day_night = ds.variables['FP_day'][:]\n",
    "\n",
    "# Create a DataFrame with the fire pixel data\n",
    "fire_data = pd.DataFrame({\n",
    "    'latitude': latitudes,\n",
    "    'longitude': longitudes,\n",
    "    'fire_radiative_power': fire_radiative_power,\n",
    "    'fire_confidence': fire_confidence,\n",
    "    'day_night': day_night,\n",
    "    'acq_datetime': acq_datetime,\n",
    "    'acq_julian_day': julian_day\n",
    "})\n",
    "\n",
    "fire_data.head()"
   ]
  },
  {
   "cell_type": "code",
   "execution_count": null,
   "id": "1a077c2e-0e5b-4470-b3cf-4326af579942",
   "metadata": {},
   "outputs": [],
   "source": [
    "print(len(fire_data))"
   ]
  },
  {
   "cell_type": "code",
   "execution_count": null,
   "id": "4ebad434-f1c0-4448-b83b-cf284f520e9a",
   "metadata": {},
   "outputs": [],
   "source": [
    "import folium\n",
    "from folium.plugins import MarkerCluster\n",
    "\n",
    "# Create a Folium map centered around the mean latitude and longitude\n",
    "m = folium.Map(location=[fire_data['latitude'].mean(), fire_data['longitude'].mean()], zoom_start=6)\n",
    "\n",
    "# Add a marker cluster to the map\n",
    "marker_cluster = MarkerCluster().add_to(m)\n",
    "\n",
    "# Add markers to the map\n",
    "for idx, row in fire_data.iterrows():\n",
    "    folium.Marker(\n",
    "        location=[row['latitude'], row['longitude']],\n",
    "        popup=f'FRP: {row[\"fire_radiative_power\"]}',\n",
    "        icon=folium.Icon(color='red')\n",
    "    ).add_to(marker_cluster)\n",
    "\n",
    "# Display the map\n",
    "m.save('fire_radiative_power_map.html')\n",
    "m"
   ]
  }
 ],
 "metadata": {
  "kernelspec": {
   "display_name": "aspen-fire",
   "language": "python",
   "name": "aspen-fire"
  },
  "language_info": {
   "codemirror_mode": {
    "name": "ipython",
    "version": 3
   },
   "file_extension": ".py",
   "mimetype": "text/x-python",
   "name": "python",
   "nbconvert_exporter": "python",
   "pygments_lexer": "ipython3",
   "version": "3.10.12"
  }
 },
 "nbformat": 4,
 "nbformat_minor": 5
}
