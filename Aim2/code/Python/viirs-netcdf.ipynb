{
 "cells": [
  {
   "cell_type": "code",
   "execution_count": 1,
   "id": "5ecd0bef-fee5-428a-a587-cacab707d965",
   "metadata": {},
   "outputs": [
    {
     "name": "stdout",
     "output_type": "stream",
     "text": [
      "Success\n"
     ]
    }
   ],
   "source": [
    "\"\"\"\n",
    "Read VIIRS active fire data\n",
    "\"\"\"\n",
    "\n",
    "# Import packages\n",
    "import os, time, glob\n",
    "import pandas as pd\n",
    "import geopandas as gpd\n",
    "import rasterio as rio\n",
    "import rioxarray as rxr\n",
    "import h5py\n",
    "import pyproj\n",
    "import xarray as xr\n",
    "import numpy as np\n",
    "from datetime import datetime\n",
    "from matplotlib import pyplot as plt\n",
    "from affine import Affine\n",
    "from osgeo import gdal, gdal_array, gdalconst, osr\n",
    "\n",
    "# Projection information\n",
    "geog = 'EPSG:4326'  # Geographic projection\n",
    "prj = 'EPSG:5070'  # Projected coordinate system- WGS 84 NAD83 UTM Zone 13N\n",
    "\n",
    "# File path information\n",
    "maindir = '/Users/max/Library/CloudStorage/OneDrive-Personal/mcook/aspen-fire/Aim2/'\n",
    "\n",
    "# File path information\n",
    "print(\"Success\")"
   ]
  },
  {
   "cell_type": "code",
   "execution_count": 16,
   "id": "768e33a8-7c3d-436d-be3d-446eca0d93cc",
   "metadata": {},
   "outputs": [
    {
     "name": "stdout",
     "output_type": "stream",
     "text": [
      "VNP14IMG: 17 granules\n",
      "VNP03IMG: 17 granules\n",
      "VJI14IMG: 16 granules\n",
      "VJI03IMG: 16 granules\n"
     ]
    }
   ],
   "source": [
    "# Function to list files in a directory\n",
    "def list_files(path, ext, recursive):\n",
    "    \"\"\"\n",
    "    List files of a specific type in a directory or subdirectories\n",
    "    \"\"\"\n",
    "    if recursive is True:\n",
    "        return glob.glob(os.path.join(path, '**', '*{}'.format(ext)), recursive=True)\n",
    "    else:\n",
    "        return glob.glob(os.path.join(path, '*{}'.format(ext)), recursive=False)\n",
    "\n",
    "# Testing for one fire\n",
    "fire_id = 'FIRED_3518'\n",
    "\n",
    "# Get a list of .nc files\n",
    "nc_files = list_files(os.path.join(maindir, f'data/spatial/raw/VIIRS/{fire_id}'), \"*.nc\", recursive=True)\n",
    "\n",
    "# Seperate into VNP14 and VJ114, VNP03/VJ103\n",
    "\n",
    "vnp = [f for f in nc_files if 'VNP14' in os.path.basename(f)] # VNP14IMG (active fire)\n",
    "vnp03 = [f for f in nc_files if 'VNP03' in os.path.basename(f)] # VNP03IMG (geolocation)\n",
    "\n",
    "vji = [f for f in nc_files if 'VJ114' in os.path.basename(f)] # VJI14IMG (active fire)\n",
    "vji03 = [f for f in nc_files if 'VJ103' in os.path.basename(f)] # VJI14IMG (geolocation)\n",
    "\n",
    "print(f'VNP14IMG: {len(vnp)} granules')\n",
    "print(f'VNP03IMG: {len(vnp03)} granules')\n",
    "\n",
    "print(f'VJI14IMG: {len(vji)} granules')\n",
    "print(f'VJI03IMG: {len(vji03)} granules')\n"
   ]
  },
  {
   "cell_type": "code",
   "execution_count": 18,
   "id": "28d4ace3-662e-449c-9725-11db206cf447",
   "metadata": {},
   "outputs": [
    {
     "data": {
      "text/plain": [
       "'/Users/max/Library/CloudStorage/OneDrive-Personal/mcook/aspen-fire/Aim2/data/spatial/raw/VIIRS/FIRED_3518/VNP03IMG/VNP03IMG.A2021240.2130.002.2021264132733.nc'"
      ]
     },
     "execution_count": 18,
     "metadata": {},
     "output_type": "execute_result"
    }
   ],
   "source": [
    "vnp[0]\n",
    "vnp03[0]"
   ]
  },
  {
   "cell_type": "code",
   "execution_count": 20,
   "id": "df4d03a9-9968-4a33-8b2b-f02522f50f67",
   "metadata": {},
   "outputs": [
    {
     "name": "stdout",
     "output_type": "stream",
     "text": [
      "<class 'netCDF4._netCDF4.Dataset'>\n",
      "root group (NETCDF4 data model, file format HDF5):\n",
      "    VNP02IMG: VNP02CCIMG.A2021242.2048.002.2022348190854.nc\n",
      "    VNP03IMG: VNP03IMG.A2021242.2048.002.2021264144156.nc\n",
      "    VNP02MOD: VNP02CCMOD.A2021242.2048.002.2022348190854.nc\n",
      "    VNP02GDC: VNP02GDC.A2021242.2048.002.2022267115438.nc\n",
      "    ProcessVersionNumber: 3.1.9\n",
      "    ExecutableCreationDate: Oct 31 2023\n",
      "    ExecutableCreationTime: 17:46:00\n",
      "    SystemID: Linux minion20055 5.4.0-1093-fips #103-Ubuntu SMP Thu Feb 8 14:02:37 UTC 2024 x86_64\n",
      "    Unagg_GRingLatitude: 38.395008,43.871014,23.046049,18.644436\n",
      "    Unagg_GRingLongitude: -137.594040,-101.392303,-99.409630,-128.482117\n",
      "    NorthBoundingCoordinate: 43.8761\n",
      "    SouthBoundingCoordinate: 18.644436\n",
      "    EastBoundingCoordinate: -99.40963\n",
      "    WestBoundingCoordinate: -137.59404\n",
      "    Satellite: NPP\n",
      "    Day/Night/Both: Day\n",
      "    FirePix: 1659\n",
      "    DayPix: 41369600\n",
      "    LandPix: 36033495\n",
      "    NightPix: 0\n",
      "    RangeBeginningDate: 2021-08-30\n",
      "    WaterPix: 5336105\n",
      "    MissingPix: 389\n",
      "    GlintPix: 5176044\n",
      "    CloudPix: 11871914\n",
      "    InputPointer: /MODAPSops7/archive/f20055/running/VNP_L1bglu/8476462/VNP02CCIMG.A2021242.2048.002.2022348190854.nc, /MODAPSops7/archive/f20055/running/VNP_L1bglu/8476462/VNP03IMG.A2021242.2048.002.2021264144156.nc, /MODAPSops7/archive/f20055/running/VNP_L1bglu/8476462/VNP02CCMOD.A2021242.2048.002.2022348190854.nc, /MODAPSops7/archive/f20055/running/VNP_L1bglu/8476462/VNP02GDC.A2021242.2048.002.2022267115438.nc\n",
      "    PGEVersion: 2.0.13\n",
      "    PGE_StartTime: 2021-08-30 20:48:00.000\n",
      "    processing_level: Level 2\n",
      "    ShortName: VNP14IMG\n",
      "    publisher_email: modis-ops@lists.nasa.gov\n",
      "    ProcessingCenter: MODAPS-NASA\n",
      "    RangeEndingTime: 20:54:00.00000\n",
      "    creator_email: modis-ops@lists.nasa.gov\n",
      "    VersionID: 002\n",
      "    publisher_url: https://ladsweb.modaps.eosdis.nasa.gov\n",
      "    LongName: VIIRS/NPP Active Fires 6-Min L2 Swath 375m\n",
      "    stdname_vocabulary: NetCDF Climate and Forecast (CF) Metadata Convention\n",
      "    identifier_product_doi_authority: https://doi.org\n",
      "    naming_authority: gov.nasa.gsfc.VIIRSland\n",
      "    AlgorithmType: OPS\n",
      "    LocalGranuleID: VNP14IMG.A2021242.2048.002.2024074102039.nc\n",
      "    PlatformShortName: SUOMI-NPP\n",
      "    title: VIIRS 375m Active Fire Data\n",
      "    cdm_data_type: swath\n",
      "    PGE_EndTime: 2021-08-30 20:54:00.000\n",
      "    AlgorithmVersion: NPP_PR14IMG 3.1.6\n",
      "    SensorShortname: VIIRS\n",
      "    ProcessingEnvironment: Linux minion20055 5.4.0-1093-fips #103-Ubuntu SMP Thu Feb 8 14:02:37 UTC 2024 x86_64 x86_64 x86_64 GNU/Linux\n",
      "    PGE_Name: PGE510\n",
      "    RangeEndingDate: 2021-08-30\n",
      "    ProductionTime: 2024-03-14 10:20:39.000\n",
      "    publisher_name: LAADS\n",
      "    project: VIIRS Land SIPS Active Fire\n",
      "    GRingPointLongitude: [-137.594  -101.392   -99.4096 -128.482 ]\n",
      "    Conventions: CF-1.6\n",
      "    GRingPointLatitude: [38.395  43.871  23.046  18.6444]\n",
      "    institution: NASA Goddard Space Flight Center\n",
      "    SatelliteInstrument: NPP_OPS\n",
      "    EndTime: 2021-08-30 20:54:00.000\n",
      "    GRingPointSequenceNo: [1 2 3 4]\n",
      "    keywords_vocabulary: NASA Global Change Master Directory (GCMD) Science Keywords\n",
      "    DayNightFlag: Day\n",
      "    StartTime: 2021-08-30 20:48:00.000\n",
      "    creator_name: VIIRS Land SIPS Processing Group\n",
      "    license: http://science.nasa.gov/earth-science/earth-science-data/data-information-policy/\n",
      "    creator_url: https://ladsweb.modaps.eosdis.nasa.gov\n",
      "    PGENumber: 510\n",
      "    RangeBeginningTime: 20:48:00.00000\n",
      "    identifier_product_doi: 10.5067/VIIRS/VNP14IMG.002\n",
      "    dimensions(sizes): phony_dim_0(1659), phony_dim_1(6464), phony_dim_2(6400)\n",
      "    variables(dimensions): uint16 FP_AdjCloud(phony_dim_0), uint16 FP_AdjWater(phony_dim_0), float32 FP_MAD_DT(phony_dim_0), float32 FP_MAD_T4(phony_dim_0), float32 FP_MAD_T5(phony_dim_0), float32 FP_MeanDT(phony_dim_0), float32 FP_MeanRad13(phony_dim_0), float32 FP_MeanT4(phony_dim_0), float32 FP_MeanT5(phony_dim_0), float32 FP_Rad13(phony_dim_0), float32 FP_SolAzAng(phony_dim_0), float32 FP_SolZenAng(phony_dim_0), float32 FP_T4(phony_dim_0), float32 FP_T5(phony_dim_0), float32 FP_ViewAzAng(phony_dim_0), float32 FP_ViewZenAng(phony_dim_0), uint16 FP_WinSize(phony_dim_0), uint8 FP_confidence(phony_dim_0), uint8 FP_day(phony_dim_0), float32 FP_latitude(phony_dim_0), uint16 FP_line(phony_dim_0), float32 FP_longitude(phony_dim_0), float32 FP_power(phony_dim_0), uint16 FP_sample(phony_dim_0), uint32 algorithm QA(phony_dim_1, phony_dim_2), uint8 fire mask(phony_dim_1, phony_dim_2)\n",
      "    groups: \n",
      "\n",
      "~~~~~~~~~~~~~~~~~~~~~~~~~~~~~~~~~~~~~~~~~~~~~~~~~~~~~~~\n",
      "\n",
      "<class 'netCDF4._netCDF4.Dataset'>\n",
      "root group (NETCDF4 data model, file format HDF5):\n",
      "    title: VIIRS I-band Geolocation Data\n",
      "    platform: Suomi-NPP\n",
      "    instrument: VIIRS\n",
      "    product_name: VNP03IMG.A2021240.2130.002.2021264132733.nc\n",
      "    LocalGranuleID: VNP03IMG.A2021240.2130.002.2021264132733.nc\n",
      "    LongName: VIIRS/NPP Imagery Resolution Terrain Corrected Geolocation 6-Min L1 Swath 375m\n",
      "    ShortName: VNP03IMG\n",
      "    date_created: 2021-09-21T09:32:39Z\n",
      "    ProductionTime: 2021-09-21T09:32:39Z\n",
      "    processing_version: v3.0.0\n",
      "    Conventions: CF-1.6\n",
      "    institution: NASA Goddard Space Flight Center, VIIRS L1 Processing Group\n",
      "    license: http://science.nasa.gov/earth-science/earth-science-data/data-information-policy/\n",
      "    naming_authority: gov.nasa.gsfc.VIIRSland\n",
      "    keywords_vocabulary: NASA Global Change Master Directory (GCMD) Science Keywords\n",
      "    standard_name_vocabulary: \n",
      "    creator_name: VIIRS L1 Processing Group\n",
      "    creator_email: modis-ops@lists.nasa.gov\n",
      "    creator_url: https://ladsweb.modaps.eosdis.nasa.gov\n",
      "    project: VIIRS L1 Project\n",
      "    publisher_name: LAADS\n",
      "    publisher_url: https://ladsweb.modaps.eosdis.nasa.gov\n",
      "    publisher_email: modis-ops@lists.nasa.gov\n",
      "    processing_level: GEO\n",
      "    cdm_data_type: swath\n",
      "    number_of_filled_scans: 202\n",
      "    OrbitNumber: 50969\n",
      "    history: geolocate_viirs.exe PGE501.1.AS5200.NPP_OPS.2021-240T21:30.NA.2021-264T13:27:33.49949099.pcf\n",
      "    source: VNP01.A2021240.2130.002.2021264132409.nc,VIIRS_NPP_CMN_LUT_v3.1.0.4_20210803_vcst.nc,VIIRS_NPP_GEO_LUT_v3.1.0.0_20210401_vcst.nc,off_USNO-PolarWander-UT1-ANC_Ser7_USNO_000f_20210827_202108270000Z_20210827000101Z_ee20210903120000Z_np.ascii\n",
      "    time_coverage_start: 2021-08-28T21:30:00.000Z\n",
      "    TAI93_leapseconds: 10\n",
      "    time_coverage_end: 2021-08-28T21:36:00.000Z\n",
      "    PGE_StartTime: 2021-08-28 21:30:00.000\n",
      "    PGE_EndTime: 2021-08-28 21:36:00.000\n",
      "    StartTime: 2021-08-28 21:30:00.000\n",
      "    EndTime: 2021-08-28 21:36:00.000\n",
      "    PGE_Name: PGE501\n",
      "    VersionId: 002\n",
      "    startDirection: Ascending\n",
      "    endDirection: Ascending\n",
      "    DayNightFlag: Day\n",
      "    format_version: 2\n",
      "    instrument_number: 2\n",
      "    GRingPointSequenceNo: [1 2 3 4]\n",
      "    PGEVersion: 3.0.33\n",
      "    GRingPointLatitude: [50.454727 57.487545 36.731586 31.749874]\n",
      "    GRingPointLongitude: [-157.12552 -110.54589 -110.52894 -143.41428]\n",
      "    geospatial_lat_units: degrees_north\n",
      "    geospatial_lon_units: degrees_east\n",
      "    geospatial_lat_min: 31.749874\n",
      "    geospatial_lat_max: 57.637814\n",
      "    geospatial_lon_min: -157.12552\n",
      "    geospatial_lon_max: -110.51413\n",
      "    SouthBoundingCoordinate: 31.749874\n",
      "    NorthBoundingCoordinate: 57.637814\n",
      "    WestBoundingCoordinate: -157.12552\n",
      "    EastBoundingCoordinate: -110.51413\n",
      "    RangeBeginningTime: 21:30:00.000000\n",
      "    RangeBeginningDate: 2021-08-28\n",
      "    RangeEndingDate: 2021-08-28\n",
      "    AlgorithmVersion: NPP_PR03_VCST v3.0.0\n",
      "    ProcessingCenter: MODAPS-NASA\n",
      "    AlgorithmType: SCI\n",
      "    identifier_product_doi_authority: https://doi.org\n",
      "    ProcessingEnvironment: Linux minion7382 3.10.0-1160.42.2.el7.x86_64 #1 SMP Tue Sep 7 14:49:57 UTC 2021 x86_64 x86_64 x86_64 GNU/Linux\n",
      "    identifier_product_doi: 10.5067/VIIRS/VNP03IMG.002\n",
      "    InputPointer: VNP01.A2021240.2130.002.2021264132409.nc,off_USNO-PolarWander-UT1-ANC_Ser7_USNO_000f_20210827_202108270000Z_20210827000101Z_ee20210903120000Z_np.ascii,VIIRS_NPP_CMN_LUT_v3.1.0.4_20210803_vcst.nc,VIIRS_NPP_GEO_LUT_v3.1.0.0_20210401_vcst.nc\n",
      "    RangeEndingTime: 21:36:00.000000\n",
      "    SatelliteInstrument: NPP_OPS\n",
      "    dimensions(sizes): number_of_scans(202), number_of_lines(6464), number_of_pixels(6400), vector_elements(3), quaternion_elements(4)\n",
      "    variables(dimensions): \n",
      "    groups: scan_line_attributes, geolocation_data, navigation_data\n"
     ]
    }
   ],
   "source": [
    "# Library to work with netCDF files\n",
    "from netCDF4 import Dataset\n",
    "\n",
    "# Open a .nc file (\"file_name\")\n",
    "ds = Dataset(vnp[0], 'r', format = 'NETCDF4')\n",
    "ds03 = Dataset(vnp03[0], 'r', format = 'NETCDF4')\n",
    "\n",
    "print(ds)\n",
    "print(\"\\n~~~~~~~~~~~~~~~~~~~~~~~~~~~~~~~~~~~~~~~~~~~~~~~~~~~~~~~\\n\")\n",
    "print(ds03)"
   ]
  },
  {
   "cell_type": "code",
   "execution_count": null,
   "id": "b62c071c-ed1e-47b7-b0f0-b237b18b5374",
   "metadata": {},
   "outputs": [],
   "source": [
    "\n",
    "def read_geolocation_data(geo_file_path):\n",
    "    with Dataset(geo_file_path, 'r') as geo_nc:\n",
    "        print(geo_nc.groups.keys())  # List groups to see where the data is\n",
    "        geo_group = geo_nc.groups['geolocation_data']  # Access the geolocation data group\n",
    "        latitude = geo_group.variables['latitude'][:]  # Read latitude data\n",
    "        longitude = geo_group.variables['longitude'][:]  # Read longitude data\n",
    "        print(f\"Latitude shape: {latitude.shape}\")\n",
    "        print(f\"Longitude shape: {longitude.shape}\")\n",
    "        return latitude, longitude\n",
    "\n",
    "latitude, longitude = read_geolocation_data(ds03)"
   ]
  },
  {
   "cell_type": "code",
   "execution_count": 28,
   "id": "7860e09c-0b48-4abf-a18c-61b57bbc1826",
   "metadata": {},
   "outputs": [
    {
     "name": "stdout",
     "output_type": "stream",
     "text": [
      "dict_keys(['scan_line_attributes', 'geolocation_data', 'navigation_data'])\n"
     ]
    }
   ],
   "source": [
    "# Explore the geolocation data:\n",
    "print(ds03.groups.keys())  # List groups to see where the data is"
   ]
  },
  {
   "cell_type": "code",
   "execution_count": 30,
   "id": "0e50bc34-1d58-4995-b755-367953ff837b",
   "metadata": {},
   "outputs": [
    {
     "name": "stdout",
     "output_type": "stream",
     "text": [
      "Latitude shape: (6464, 6400)\n",
      "Longitude shape: (6464, 6400)\n"
     ]
    }
   ],
   "source": [
    "geo_da = ds03.groups['geolocation_data']  # Access the geolocation data group\n",
    "latitude = geo_da.variables['latitude'][:]  # Read latitude data\n",
    "longitude = geo_da.variables['longitude'][:]  # Read longitude data\n",
    "print(f\"Latitude shape: {latitude.shape}\")\n",
    "print(f\"Longitude shape: {longitude.shape}\")"
   ]
  },
  {
   "cell_type": "code",
   "execution_count": null,
   "id": "303472d0-aa72-4732-be2b-988b7c095965",
   "metadata": {},
   "outputs": [],
   "source": []
  },
  {
   "cell_type": "code",
   "execution_count": null,
   "id": "81402e94-f4c2-443c-b294-cd417184124b",
   "metadata": {},
   "outputs": [],
   "source": []
  },
  {
   "cell_type": "code",
   "execution_count": 25,
   "id": "2fa69198-76c9-4402-9a7d-deea2c856e21",
   "metadata": {},
   "outputs": [
    {
     "name": "stdout",
     "output_type": "stream",
     "text": [
      "Day\n"
     ]
    }
   ],
   "source": [
    "day_night_flag = ds.getncattr('DayNightFlag')\n",
    "print(day_night_flag)"
   ]
  },
  {
   "cell_type": "code",
   "execution_count": 23,
   "id": "f4ff07c7-5ded-4dde-8ea3-a8e326399148",
   "metadata": {},
   "outputs": [
    {
     "name": "stdout",
     "output_type": "stream",
     "text": [
      "['FP_AdjCloud', 'FP_AdjWater', 'FP_MAD_DT', 'FP_MAD_T4', 'FP_MAD_T5', 'FP_MeanDT', 'FP_MeanRad13', 'FP_MeanT4', 'FP_MeanT5', 'FP_Rad13', 'FP_SolAzAng', 'FP_SolZenAng', 'FP_T4', 'FP_T5', 'FP_ViewAzAng', 'FP_ViewZenAng', 'FP_WinSize', 'FP_confidence', 'FP_day', 'FP_latitude', 'FP_line', 'FP_longitude', 'FP_power', 'FP_sample', 'algorithm QA', 'fire mask']\n",
      "\n",
      "~~~~~~~~~~~~~~~~~~~~~~~~~~~~~~~~~~~~~~~~~~~~~~~~~~~~~~~\n",
      "\n",
      "[]\n"
     ]
    }
   ],
   "source": [
    "# Print a list of variables in file\n",
    "print(list(ds.variables))\n",
    "print(\"\\n~~~~~~~~~~~~~~~~~~~~~~~~~~~~~~~~~~~~~~~~~~~~~~~~~~~~~~~\\n\")\n",
    "print(list(ds03.variables))"
   ]
  },
  {
   "cell_type": "code",
   "execution_count": null,
   "id": "442c7adc-2c76-4f38-aa63-a081ba4c395b",
   "metadata": {},
   "outputs": [],
   "source": []
  },
  {
   "cell_type": "code",
   "execution_count": 13,
   "id": "df50b959-5981-4760-9159-0ff0847cce21",
   "metadata": {},
   "outputs": [
    {
     "data": {
      "text/plain": [
       "'SUOMI-NPP'"
      ]
     },
     "execution_count": 13,
     "metadata": {},
     "output_type": "execute_result"
    }
   ],
   "source": [
    "ds.getncattr('PlatformShortName')"
   ]
  },
  {
   "cell_type": "code",
   "execution_count": null,
   "id": "2039c1f0-a2b3-4224-aa7d-4d6b29017e46",
   "metadata": {},
   "outputs": [],
   "source": [
    "print(ds.variables[''])"
   ]
  },
  {
   "cell_type": "code",
   "execution_count": null,
   "id": "ad9d015f-1d87-4e50-b928-43232fb9850f",
   "metadata": {},
   "outputs": [],
   "source": [
    "print(ds.variables['FP_confidence'][:])"
   ]
  },
  {
   "cell_type": "code",
   "execution_count": null,
   "id": "3827bb77-28bc-4b73-893d-488be66739d5",
   "metadata": {},
   "outputs": [],
   "source": [
    "# Extract the acquisition date and time from the NetCDF file\n",
    "start_time_str = ds.getncattr('PGE_StartTime')\n",
    "acq_datetime = datetime.strptime(start_time_str, '%Y-%m-%d %H:%M:%S.%f')\n",
    "# Calculate Julian Day\n",
    "julian_day = acq_datetime.timetuple().tm_yday\n",
    "\n",
    "print(f'Acquisition date/time: {acq_datetime}')\n",
    "print(f'Acquisition Julian Day: {julian_day}')"
   ]
  },
  {
   "cell_type": "code",
   "execution_count": null,
   "id": "70397ade-63e4-4e44-a90e-5661382f75dc",
   "metadata": {},
   "outputs": [],
   "source": [
    "# Extract fire pixel information\n",
    "latitudes = ds.variables['FP_latitude'][:]\n",
    "longitudes = ds.variables['FP_longitude'][:]\n",
    "fire_radiative_power = ds.variables['FP_power'][:]\n",
    "fire_confidence = ds.variables['FP_confidence'][:]\n",
    "day_night = ds.variables['FP_day'][:]\n",
    "\n",
    "# Create a DataFrame with the fire pixel data\n",
    "fire_data = pd.DataFrame({\n",
    "    'latitude': latitudes,\n",
    "    'longitude': longitudes,\n",
    "    'fire_radiative_power': fire_radiative_power,\n",
    "    'fire_confidence': fire_confidence,\n",
    "    'day_night': day_night,\n",
    "    'acq_datetime': acq_datetime,\n",
    "    'acq_julian_day': julian_day\n",
    "})\n",
    "\n",
    "fire_data.head()"
   ]
  },
  {
   "cell_type": "code",
   "execution_count": null,
   "id": "1a077c2e-0e5b-4470-b3cf-4326af579942",
   "metadata": {},
   "outputs": [],
   "source": [
    "print(len(fire_data))"
   ]
  },
  {
   "cell_type": "code",
   "execution_count": null,
   "id": "4ebad434-f1c0-4448-b83b-cf284f520e9a",
   "metadata": {},
   "outputs": [],
   "source": [
    "import folium\n",
    "from folium.plugins import MarkerCluster\n",
    "\n",
    "# Create a Folium map centered around the mean latitude and longitude\n",
    "m = folium.Map(location=[fire_data['latitude'].mean(), fire_data['longitude'].mean()], zoom_start=6)\n",
    "\n",
    "# Add a marker cluster to the map\n",
    "marker_cluster = MarkerCluster().add_to(m)\n",
    "\n",
    "# Add markers to the map\n",
    "for idx, row in fire_data.iterrows():\n",
    "    folium.Marker(\n",
    "        location=[row['latitude'], row['longitude']],\n",
    "        popup=f'FRP: {row[\"fire_radiative_power\"]}',\n",
    "        icon=folium.Icon(color='red')\n",
    "    ).add_to(marker_cluster)\n",
    "\n",
    "# Display the map\n",
    "m.save('fire_radiative_power_map.html')\n",
    "m"
   ]
  }
 ],
 "metadata": {
  "kernelspec": {
   "display_name": "aspen-fire",
   "language": "python",
   "name": "aspen-fire"
  },
  "language_info": {
   "codemirror_mode": {
    "name": "ipython",
    "version": 3
   },
   "file_extension": ".py",
   "mimetype": "text/x-python",
   "name": "python",
   "nbconvert_exporter": "python",
   "pygments_lexer": "ipython3",
   "version": "3.10.12"
  }
 },
 "nbformat": 4,
 "nbformat_minor": 5
}
