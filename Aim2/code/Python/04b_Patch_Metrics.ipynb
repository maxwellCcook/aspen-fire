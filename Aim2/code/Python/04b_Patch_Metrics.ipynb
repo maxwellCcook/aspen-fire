{
 "cells": [
  {
   "cell_type": "code",
   "id": "initial_id",
   "metadata": {
    "collapsed": true,
    "ExecuteTime": {
     "end_time": "2025-10-04T21:46:34.029725Z",
     "start_time": "2025-10-04T21:46:33.433022Z"
    }
   },
   "source": [
    "\"\"\"\n",
    "Calculate grid cell aspen patch metrics from a TreeMap-based aspen mask\n",
    "Author: maxwell.cook@colorado.edu\n",
    "\"\"\"\n",
    "\n",
    "import os, sys\n",
    "import geopandas as gpd\n",
    "\n",
    "os.environ[\"PROJ_LIB\"] = \"/opt/miniconda3/envs/aspen-fire/share/proj\"\n",
    "\n",
    "# Custom functions\n",
    "sys.path.append(os.path.join(os.getcwd(),'code/'))\n",
    "from __functions import *\n",
    "\n",
    "proj = 'EPSG:5070'\n",
    "\n",
    "maindir = '/Users/max/Library/CloudStorage/OneDrive-Personal/mcook/'\n",
    "projdir = os.path.join(maindir, 'aspen-fire/Aim2/')\n",
    "\n",
    "print(\"Ready to go !\")"
   ],
   "outputs": [
    {
     "name": "stdout",
     "output_type": "stream",
     "text": [
      "Ready to go !\n"
     ]
    }
   ],
   "execution_count": 1
  },
  {
   "metadata": {
    "ExecuteTime": {
     "end_time": "2025-10-04T21:46:34.405452Z",
     "start_time": "2025-10-04T21:46:34.032799Z"
    }
   },
   "cell_type": "code",
   "source": [
    "# load the grid statistics\n",
    "fp = os.path.join(projdir,'data/tabular/mod/gridstats_tm_lf.csv')\n",
    "gs = pd.read_csv(fp)\n",
    "# filter to only grid cells with any aspen\n",
    "gs_aspen = gs[gs['species_gp'] == 'quaking aspen']\n",
    "print(f\"\\nThere are {len(gs_aspen['grid_idx'].unique())} grid cells with any aspen.\\n\")"
   ],
   "id": "be6498f7d45cab87",
   "outputs": [
    {
     "name": "stdout",
     "output_type": "stream",
     "text": [
      "\n",
      "There are 28761 grid cells with any aspen.\n",
      "\n"
     ]
    }
   ],
   "execution_count": 2
  },
  {
   "metadata": {
    "ExecuteTime": {
     "end_time": "2025-10-04T21:46:35.537535Z",
     "start_time": "2025-10-04T21:46:34.409290Z"
    }
   },
   "cell_type": "code",
   "source": [
    "# load the spatial grids, subset to grid stats data frame\n",
    "fp = os.path.join(projdir,'data/spatial/mod/VIIRS/viirs_snpp_jpss1_afd_latlon_fires_pixar_gridstats.gpkg')\n",
    "grids = gpd.read_file(fp)\n",
    "# create a unique ID\n",
    "grids['grid_idx'] = grids['Fire_ID'].astype(str) + grids['grid_index'].astype(str)\n",
    "grids['grid_idx'] = grids['grid_idx'].astype(int)\n",
    "# subset the spatial grids\n",
    "grids = grids[grids['grid_idx'].isin(gs_aspen['grid_idx'].unique())]\n",
    "print(f\"\\nThere are [{len(grids)}] grids across [{len(grids['Fire_ID'].unique())}] fires.\\n\")"
   ],
   "id": "3ee17be23a27503f",
   "outputs": [
    {
     "name": "stdout",
     "output_type": "stream",
     "text": [
      "\n",
      "There are [28761] grids across [71] fires.\n",
      "\n"
     ]
    }
   ],
   "execution_count": 3
  },
  {
   "metadata": {
    "ExecuteTime": {
     "end_time": "2025-10-04T21:46:35.583997Z",
     "start_time": "2025-10-04T21:46:35.541123Z"
    }
   },
   "cell_type": "code",
   "source": [
    "# load the aspen mask\n",
    "fp = os.path.join(projdir, \"data/spatial/mod/USFS/tm_aspen_mask.tif\")\n",
    "# Load with rioxarray (handles CRS, nodata, etc.)\n",
    "aspen_da = rxr.open_rasterio(fp, chunks=True).squeeze()\n",
    "print(aspen_da.dtype)\n",
    "print(aspen_da.rio.nodata)\n",
    "print(aspen_da.rio.transform())"
   ],
   "id": "2acc49495c528676",
   "outputs": [
    {
     "name": "stdout",
     "output_type": "stream",
     "text": [
      "uint8\n",
      "255\n",
      "| 30.00, 0.00,-1188315.00|\n",
      "| 0.00,-30.00, 2248365.00|\n",
      "| 0.00, 0.00, 1.00|\n"
     ]
    }
   ],
   "execution_count": 4
  },
  {
   "metadata": {
    "ExecuteTime": {
     "end_time": "2025-10-04T21:55:53.941723Z",
     "start_time": "2025-10-04T21:55:53.909321Z"
    }
   },
   "cell_type": "code",
   "source": [
    "# run it\n",
    "shape = aspen_da.shape\n",
    "transform = aspen_da.rio.transform()\n",
    "\n",
    "results = []\n",
    "for row in tqdm(grids.itertuples(index=False), total=len(grids)):\n",
    "    idx = row.grid_idx # grid index\n",
    "    geom = row.geometry # geometry for creating window\n",
    "\n",
    "    try:\n",
    "        # gather the grid geometry as a window\n",
    "        row_start, row_stop, col_start, col_stop = geometry_to_window(geom, transform, shape)\n",
    "\n",
    "        # slice the array using grid geometry\n",
    "        arr = aspen_da.isel(\n",
    "            y=slice(row_start, row_stop),\n",
    "            x=slice(col_start, col_stop)\n",
    "        ).values.squeeze()\n",
    "\n",
    "        # get the window size in ha (gut check)\n",
    "        n_pixels = arr.shape[0] * arr.shape[1]\n",
    "        pixel_area_ha = (30 * 30) / 10_000  # 0.09 ha\n",
    "        window_area_ha = n_pixels * pixel_area_ha\n",
    "\n",
    "        # make sure there is valid data\n",
    "        if np.count_nonzero(arr == 1) == 0:\n",
    "            continue\n",
    "\n",
    "        # compute the region metrics\n",
    "        metrics = compute_patch_metrics(arr)  # ← scikit-image function\n",
    "        if metrics:\n",
    "            metrics['grid_idx'] = idx\n",
    "            metrics['grid_ha'] = window_area_ha\n",
    "            results.append(metrics)\n",
    "\n",
    "    except Exception as e:\n",
    "        print(f\"Grid {idx} failed: {e}\")\n",
    "        continue\n",
    "\n",
    "# gather the results\n",
    "df_patch = pd.DataFrame(results)\n",
    "df_patch.head()"
   ],
   "id": "a593869900ef516e",
   "outputs": [
    {
     "data": {
      "text/plain": [
       "   n_patch  mean_patch  large_patch  total_aspen_ha   grid_idx  grid_ha\n",
       "0        6    0.135000         0.27            0.81  161955422    14.04\n",
       "1        4    0.247500         0.45            0.99  161957669    14.04\n",
       "2       16    0.275625         0.99            4.41  161957670    15.21\n",
       "3        4    0.157500         0.27            0.63  161957671    14.04\n",
       "4        7    0.154286         0.27            1.08  161957672    15.21"
      ],
      "text/html": [
       "<div>\n",
       "<style scoped>\n",
       "    .dataframe tbody tr th:only-of-type {\n",
       "        vertical-align: middle;\n",
       "    }\n",
       "\n",
       "    .dataframe tbody tr th {\n",
       "        vertical-align: top;\n",
       "    }\n",
       "\n",
       "    .dataframe thead th {\n",
       "        text-align: right;\n",
       "    }\n",
       "</style>\n",
       "<table border=\"1\" class=\"dataframe\">\n",
       "  <thead>\n",
       "    <tr style=\"text-align: right;\">\n",
       "      <th></th>\n",
       "      <th>n_patch</th>\n",
       "      <th>mean_patch</th>\n",
       "      <th>large_patch</th>\n",
       "      <th>total_aspen_ha</th>\n",
       "      <th>grid_idx</th>\n",
       "      <th>grid_ha</th>\n",
       "    </tr>\n",
       "  </thead>\n",
       "  <tbody>\n",
       "    <tr>\n",
       "      <th>0</th>\n",
       "      <td>6</td>\n",
       "      <td>0.135000</td>\n",
       "      <td>0.27</td>\n",
       "      <td>0.81</td>\n",
       "      <td>161955422</td>\n",
       "      <td>14.04</td>\n",
       "    </tr>\n",
       "    <tr>\n",
       "      <th>1</th>\n",
       "      <td>4</td>\n",
       "      <td>0.247500</td>\n",
       "      <td>0.45</td>\n",
       "      <td>0.99</td>\n",
       "      <td>161957669</td>\n",
       "      <td>14.04</td>\n",
       "    </tr>\n",
       "    <tr>\n",
       "      <th>2</th>\n",
       "      <td>16</td>\n",
       "      <td>0.275625</td>\n",
       "      <td>0.99</td>\n",
       "      <td>4.41</td>\n",
       "      <td>161957670</td>\n",
       "      <td>15.21</td>\n",
       "    </tr>\n",
       "    <tr>\n",
       "      <th>3</th>\n",
       "      <td>4</td>\n",
       "      <td>0.157500</td>\n",
       "      <td>0.27</td>\n",
       "      <td>0.63</td>\n",
       "      <td>161957671</td>\n",
       "      <td>14.04</td>\n",
       "    </tr>\n",
       "    <tr>\n",
       "      <th>4</th>\n",
       "      <td>7</td>\n",
       "      <td>0.154286</td>\n",
       "      <td>0.27</td>\n",
       "      <td>1.08</td>\n",
       "      <td>161957672</td>\n",
       "      <td>15.21</td>\n",
       "    </tr>\n",
       "  </tbody>\n",
       "</table>\n",
       "</div>"
      ]
     },
     "execution_count": 6,
     "metadata": {},
     "output_type": "execute_result"
    }
   ],
   "execution_count": 6
  },
  {
   "metadata": {
    "ExecuteTime": {
     "end_time": "2025-10-04T21:56:14.569895Z",
     "start_time": "2025-10-04T21:56:14.562695Z"
    }
   },
   "cell_type": "code",
   "source": [
    "df_patch['aspen_pr'] = df_patch['total_aspen_ha'] / df_patch['grid_ha'] * 100\n",
    "df_patch.head()"
   ],
   "id": "443131f1086668ae",
   "outputs": [
    {
     "data": {
      "text/plain": [
       "   n_patch  mean_patch  large_patch  total_aspen_ha   grid_idx  grid_ha  \\\n",
       "0        6    0.135000         0.27            0.81  161955422    14.04   \n",
       "1        4    0.247500         0.45            0.99  161957669    14.04   \n",
       "2       16    0.275625         0.99            4.41  161957670    15.21   \n",
       "3        4    0.157500         0.27            0.63  161957671    14.04   \n",
       "4        7    0.154286         0.27            1.08  161957672    15.21   \n",
       "\n",
       "    aspen_pr  \n",
       "0   5.769231  \n",
       "1   7.051282  \n",
       "2  28.994083  \n",
       "3   4.487179  \n",
       "4   7.100592  "
      ],
      "text/html": [
       "<div>\n",
       "<style scoped>\n",
       "    .dataframe tbody tr th:only-of-type {\n",
       "        vertical-align: middle;\n",
       "    }\n",
       "\n",
       "    .dataframe tbody tr th {\n",
       "        vertical-align: top;\n",
       "    }\n",
       "\n",
       "    .dataframe thead th {\n",
       "        text-align: right;\n",
       "    }\n",
       "</style>\n",
       "<table border=\"1\" class=\"dataframe\">\n",
       "  <thead>\n",
       "    <tr style=\"text-align: right;\">\n",
       "      <th></th>\n",
       "      <th>n_patch</th>\n",
       "      <th>mean_patch</th>\n",
       "      <th>large_patch</th>\n",
       "      <th>total_aspen_ha</th>\n",
       "      <th>grid_idx</th>\n",
       "      <th>grid_ha</th>\n",
       "      <th>aspen_pr</th>\n",
       "    </tr>\n",
       "  </thead>\n",
       "  <tbody>\n",
       "    <tr>\n",
       "      <th>0</th>\n",
       "      <td>6</td>\n",
       "      <td>0.135000</td>\n",
       "      <td>0.27</td>\n",
       "      <td>0.81</td>\n",
       "      <td>161955422</td>\n",
       "      <td>14.04</td>\n",
       "      <td>5.769231</td>\n",
       "    </tr>\n",
       "    <tr>\n",
       "      <th>1</th>\n",
       "      <td>4</td>\n",
       "      <td>0.247500</td>\n",
       "      <td>0.45</td>\n",
       "      <td>0.99</td>\n",
       "      <td>161957669</td>\n",
       "      <td>14.04</td>\n",
       "      <td>7.051282</td>\n",
       "    </tr>\n",
       "    <tr>\n",
       "      <th>2</th>\n",
       "      <td>16</td>\n",
       "      <td>0.275625</td>\n",
       "      <td>0.99</td>\n",
       "      <td>4.41</td>\n",
       "      <td>161957670</td>\n",
       "      <td>15.21</td>\n",
       "      <td>28.994083</td>\n",
       "    </tr>\n",
       "    <tr>\n",
       "      <th>3</th>\n",
       "      <td>4</td>\n",
       "      <td>0.157500</td>\n",
       "      <td>0.27</td>\n",
       "      <td>0.63</td>\n",
       "      <td>161957671</td>\n",
       "      <td>14.04</td>\n",
       "      <td>4.487179</td>\n",
       "    </tr>\n",
       "    <tr>\n",
       "      <th>4</th>\n",
       "      <td>7</td>\n",
       "      <td>0.154286</td>\n",
       "      <td>0.27</td>\n",
       "      <td>1.08</td>\n",
       "      <td>161957672</td>\n",
       "      <td>15.21</td>\n",
       "      <td>7.100592</td>\n",
       "    </tr>\n",
       "  </tbody>\n",
       "</table>\n",
       "</div>"
      ]
     },
     "execution_count": 7,
     "metadata": {},
     "output_type": "execute_result"
    }
   ],
   "execution_count": 7
  },
  {
   "metadata": {
    "ExecuteTime": {
     "end_time": "2025-10-04T21:56:21.215820Z",
     "start_time": "2025-10-04T21:56:21.112034Z"
    }
   },
   "cell_type": "code",
   "source": [
    "# save the file out.\n",
    "out_fp = os.path.join(projdir,'data/tabular/mod/gridstats_aspen_patches.csv')\n",
    "df_patch.to_csv(out_fp)\n",
    "print(f\"Saved file to: {out_fp}\")"
   ],
   "id": "b4461a7769e51985",
   "outputs": [
    {
     "name": "stdout",
     "output_type": "stream",
     "text": [
      "Saved file to: /Users/max/Library/CloudStorage/OneDrive-Personal/mcook/aspen-fire/Aim2/data/tabular/mod/gridstats_aspen_patches.csv\n"
     ]
    }
   ],
   "execution_count": 8
  }
 ],
 "metadata": {
  "kernelspec": {
   "display_name": "Python 3",
   "language": "python",
   "name": "python3"
  },
  "language_info": {
   "codemirror_mode": {
    "name": "ipython",
    "version": 2
   },
   "file_extension": ".py",
   "mimetype": "text/x-python",
   "name": "python",
   "nbconvert_exporter": "python",
   "pygments_lexer": "ipython2",
   "version": "2.7.6"
  }
 },
 "nbformat": 4,
 "nbformat_minor": 5
}
