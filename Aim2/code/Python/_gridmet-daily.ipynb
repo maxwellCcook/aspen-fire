{
 "cells": [
  {
   "cell_type": "code",
   "execution_count": 1,
   "id": "28852ad0-84f8-4740-82dc-7eeeac631b4c",
   "metadata": {},
   "outputs": [
    {
     "name": "stdout",
     "output_type": "stream",
     "text": [
      "GEE Authenticated !\n"
     ]
    }
   ],
   "source": [
    "\"\"\"\n",
    "Extract gridMET variables for daily burn perimeters, western U.S.\n",
    "Google Earth Engine (GEE) Python API\n",
    "Author: maxwell.cook@colorado.edu\n",
    "\"\"\"\n",
    "\n",
    "import ee\n",
    "import geemap\n",
    "import time\n",
    "\n",
    "ee.Authenticate()\n",
    "ee.Initialize(project='jfsp-aspen')\n",
    "print(\"GEE Authenticated !\")"
   ]
  },
  {
   "cell_type": "code",
   "execution_count": null,
   "id": "2bd57a67-ad12-433f-91d9-7ec7fbf1d2c0",
   "metadata": {},
   "outputs": [],
   "source": [
    "# Function to calculate gridmet for daily perimeters\n",
    "def gridmet_summary(fires, reducer, attrs, buffer=None):\n",
    "    \"\"\" Calculates the gridMET variables for a given daily perimeter by daily ID \n",
    "    Args:\n",
    "        - fires: fire perimeters (with daily polygons)\n",
    "        - reducer: the reduction to use for the gridmet variables\n",
    "        - attrs: the gridmet variables\n",
    "        - buffer: (optional) apply a buffer to the daily polygon\n",
    "    \"\"\"\n",
    "    # Set a function to calculate the variables for each daily perimeter\n",
    "    def get_daily_gridmet(perim):\n",
    "        # Buffer if requested\n",
    "        if buffer is not None:\n",
    "            geom = perim.geometry().bounds().buffer(buffer)\n",
    "        else:\n",
    "            geom = perim.geometry().bounds()\n",
    "        did = perim.get('did') # get the daily burn ID\n",
    "        # Get the burn date for extracting gridMET variables\n",
    "        burn_date = ee.Date(perim.get('date')) \n",
    "        gridmet_ = gridmet.filterDate(burn_date, burn_date.advance(1, 'day')).select(attrs)\n",
    "        gridmet_mn = gridmet_.mean() # take the mean of the imageCollection (daily gridmets)\n",
    "        # Set up the feature reduction\n",
    "        stats = gridmet_mn.reduceRegion(\n",
    "            reducer=reducer,\n",
    "            geometry=geom,\n",
    "            scale=4000,  # Match gridMET resolution\n",
    "            bestEffort=True)\n",
    "        return perim.set(stats)\n",
    "    results = fires.map(get_daily_gridmet)\n",
    "    return results\n",
    "\n",
    "def parse_date(ftr, date_col):\n",
    "    \"\"\" Function to safely parse a date column and raise error if the date is invalid \"\"\"\n",
    "    try:\n",
    "        date_str = ee.String(ftr.get(date_col)).split(' ').get(0) # removes the time stamp\n",
    "        # Try to parse the date using the provided format\n",
    "        date = ee.Date.parse('YYYY/MM/dd', date_str)\n",
    "        return ftr.set('date', date)\n",
    "    except ee.EEException as e:\n",
    "        # Raise an error or skip the feature if the date is invalid\n",
    "        print(f\"Error parsing date for feature with ID {ftr.get('did').getInfo()}: {str(e)}\")\n",
    "        return None  # Skip features with invalid dates\n",
    "\n",
    "def check_dates(fc, date_col):\n",
    "    \"\"\" Filters out features with invalid dates \"\"\"\n",
    "    valid_dates = fc.map(lambda ftr: parse_date(ftr, date_col)).filter(ee.Filter.notNull(['date']))\n",
    "    return valid_dates\n",
    "\n",
    "def monitor_export(task):\n",
    "    \"\"\" Monitors EE export task \"\"\"\n",
    "    while task.active():\n",
    "        print('Waiting for export to finish...')\n",
    "        time.sleep(30)  # Check every 30 seconds\n",
    "    \n",
    "    # Get the status of the task\n",
    "    status = task.status()\n",
    "    \n",
    "    # Check if the task failed or succeeded\n",
    "    if status['state'] == 'COMPLETED':\n",
    "        print(\"Export completed successfully!\")\n",
    "    elif status['state'] == 'FAILED':\n",
    "        print(f\"Export failed! Reason: {status.get('error_message', 'Unknown error')}\")\n",
    "    else:\n",
    "        print(f\"Export ended with state: {status['state']}\")\n",
    "\n",
    "print(\"Functions loaded !\")"
   ]
  },
  {
   "cell_type": "code",
   "execution_count": 14,
   "id": "c3179a4e-50e1-41b0-88db-88622efcd014",
   "metadata": {},
   "outputs": [
    {
     "data": {
      "text/html": [
       "\n",
       "            <style>\n",
       "                .geemap-dark {\n",
       "                    --jp-widgets-color: white;\n",
       "                    --jp-widgets-label-color: white;\n",
       "                    --jp-ui-font-color1: white;\n",
       "                    --jp-layout-color2: #454545;\n",
       "                    background-color: #383838;\n",
       "                }\n",
       "\n",
       "                .geemap-dark .jupyter-button {\n",
       "                    --jp-layout-color3: #383838;\n",
       "                }\n",
       "\n",
       "                .geemap-colab {\n",
       "                    background-color: var(--colab-primary-surface-color, white);\n",
       "                }\n",
       "\n",
       "                .geemap-colab .jupyter-button {\n",
       "                    --jp-layout-color3: var(--colab-primary-surface-color, white);\n",
       "                }\n",
       "            </style>\n",
       "            "
      ],
      "text/plain": [
       "<IPython.core.display.HTML object>"
      ]
     },
     "metadata": {},
     "output_type": "display_data"
    },
    {
     "name": "stdout",
     "output_type": "stream",
     "text": [
      "gridMET bands available for analysis:\n",
      "\n",
      "['pr', 'rmax', 'rmin', 'sph', 'srad', 'th', 'tmmn', 'tmmx', 'vs', 'erc', 'eto', 'bi', 'fm100', 'fm1000', 'etr', 'vpd']\n"
     ]
    }
   ],
   "source": [
    "# Load the gridMET datasets\n",
    "gridmet = ee.ImageCollection('IDAHO_EPSCOR/GRIDMET')\n",
    "print(f\"gridMET bands available for analysis:\\n\\n{gridmet.first().bandNames().getInfo()}\")"
   ]
  },
  {
   "cell_type": "code",
   "execution_count": null,
   "id": "55ad824b-a376-4e4f-8a11-0fd839ad5fde",
   "metadata": {},
   "outputs": [],
   "source": [
    "# Implement the function"
   ]
  },
  {
   "cell_type": "code",
   "execution_count": 31,
   "id": "d0b55b31-4069-427e-af42-241f600f5da0",
   "metadata": {},
   "outputs": [
    {
     "data": {
      "text/html": [
       "\n",
       "            <style>\n",
       "                .geemap-dark {\n",
       "                    --jp-widgets-color: white;\n",
       "                    --jp-widgets-label-color: white;\n",
       "                    --jp-ui-font-color1: white;\n",
       "                    --jp-layout-color2: #454545;\n",
       "                    background-color: #383838;\n",
       "                }\n",
       "\n",
       "                .geemap-dark .jupyter-button {\n",
       "                    --jp-layout-color3: #383838;\n",
       "                }\n",
       "\n",
       "                .geemap-colab {\n",
       "                    background-color: var(--colab-primary-surface-color, white);\n",
       "                }\n",
       "\n",
       "                .geemap-colab .jupyter-button {\n",
       "                    --jp-layout-color3: var(--colab-primary-surface-color, white);\n",
       "                }\n",
       "            </style>\n",
       "            "
      ],
      "text/plain": [
       "<IPython.core.display.HTML object>"
      ]
     },
     "metadata": {},
     "output_type": "display_data"
    },
    {
     "name": "stdout",
     "output_type": "stream",
     "text": [
      "There are [32493] daily fire perimeters.\n",
      "Successfully parsed dates for [32493] daily perimeters.\n",
      "Example date: {'type': 'Date', 'value': 1582934400000}\n"
     ]
    }
   ],
   "source": [
    "fires = ee.FeatureCollection('projects/jfsp-aspen/assets/fired-daily_west_2018_to_2024')\n",
    "print(f\"There are [{fires.size().getInfo()}] daily fire perimeters.\")\n",
    "\n",
    "# Parse the date column:\n",
    "fires = check_dates(fires, 'date')\n",
    "print(f\"Successfully parsed dates for [{fires.size().getInfo()}] daily perimeters.\")\n",
    "print(f\"Example date: {fires.first().get('date').getInfo()}\")"
   ]
  },
  {
   "cell_type": "code",
   "execution_count": 32,
   "id": "4bd4f2a2-c235-43c3-adcf-b29030c056c1",
   "metadata": {},
   "outputs": [
    {
     "data": {
      "text/html": [
       "\n",
       "            <style>\n",
       "                .geemap-dark {\n",
       "                    --jp-widgets-color: white;\n",
       "                    --jp-widgets-label-color: white;\n",
       "                    --jp-ui-font-color1: white;\n",
       "                    --jp-layout-color2: #454545;\n",
       "                    background-color: #383838;\n",
       "                }\n",
       "\n",
       "                .geemap-dark .jupyter-button {\n",
       "                    --jp-layout-color3: #383838;\n",
       "                }\n",
       "\n",
       "                .geemap-colab {\n",
       "                    background-color: var(--colab-primary-surface-color, white);\n",
       "                }\n",
       "\n",
       "                .geemap-colab .jupyter-button {\n",
       "                    --jp-layout-color3: var(--colab-primary-surface-color, white);\n",
       "                }\n",
       "            </style>\n",
       "            "
      ],
      "text/plain": [
       "<IPython.core.display.HTML object>"
      ]
     },
     "metadata": {},
     "output_type": "display_data"
    },
    {
     "name": "stdout",
     "output_type": "stream",
     "text": [
      "Success !\n"
     ]
    }
   ],
   "source": [
    "# Define the function parameters\n",
    "reduction = ee.Reducer.percentile([95]) # 95th percentile\n",
    "attrs = ['fm1000', 'vpd', 'erc', 'bi', 'tmmx', 'rmin', 'vs'] # the gridmet attributes to use\n",
    "# Retrieve gridmet summaries for daily perimeters\n",
    "results_fc = gridmet_summary(fires, reduction, attrs)\n",
    "print(\"Success !\")"
   ]
  },
  {
   "cell_type": "code",
   "execution_count": 33,
   "id": "551d010b-9bbf-4a9d-8853-370d5d33d201",
   "metadata": {},
   "outputs": [
    {
     "data": {
      "text/html": [
       "\n",
       "            <style>\n",
       "                .geemap-dark {\n",
       "                    --jp-widgets-color: white;\n",
       "                    --jp-widgets-label-color: white;\n",
       "                    --jp-ui-font-color1: white;\n",
       "                    --jp-layout-color2: #454545;\n",
       "                    background-color: #383838;\n",
       "                }\n",
       "\n",
       "                .geemap-dark .jupyter-button {\n",
       "                    --jp-layout-color3: #383838;\n",
       "                }\n",
       "\n",
       "                .geemap-colab {\n",
       "                    background-color: var(--colab-primary-surface-color, white);\n",
       "                }\n",
       "\n",
       "                .geemap-colab .jupyter-button {\n",
       "                    --jp-layout-color3: var(--colab-primary-surface-color, white);\n",
       "                }\n",
       "            </style>\n",
       "            "
      ],
      "text/plain": [
       "<IPython.core.display.HTML object>"
      ]
     },
     "metadata": {},
     "output_type": "display_data"
    },
    {
     "data": {
      "text/plain": [
       "{'type': 'Feature',\n",
       " 'geometry': {'type': 'Polygon',\n",
       "  'coordinates': [[[-118.99755710339323, 35.05417427658838],\n",
       "    [-118.99145840860311, 35.04999004807538],\n",
       "    [-118.98634903602644, 35.04999023890428],\n",
       "    [-118.9924474889566, 35.054174741246676],\n",
       "    [-118.99755710339323, 35.05417427658838]]]},\n",
       " 'id': '00000000000000004264',\n",
       " 'properties': {'bi': 45,\n",
       "  'date': {'type': 'Date', 'value': 1582934400000},\n",
       "  'did': '0b908840d20743a1554d1ca3e1d42df8',\n",
       "  'dy_ar_km2': 0.214658673296478,\n",
       "  'eco_mode': 1,\n",
       "  'eco_name': 'California Central Valley grasslands',\n",
       "  'eco_type': 'WWF Terrestrial Ecoregions of the World',\n",
       "  'erc': 52,\n",
       "  'event_day': 1,\n",
       "  'event_dur': 1,\n",
       "  'fid': 1441,\n",
       "  'fm1000': 12.899999618530273,\n",
       "  'fsr_km2_dy': 0.214658673296478,\n",
       "  'fsr_px_dy': 1,\n",
       "  'id': 5247,\n",
       "  'ig_date': '2020/02/29 00:00:00.000',\n",
       "  'ig_day': '060',\n",
       "  'ig_month': 2,\n",
       "  'ig_utm_x': 3897618.156358264,\n",
       "  'ig_utm_y': -10831556.656358264,\n",
       "  'ig_year': 2020,\n",
       "  'last_date': '2020/02/29 00:00:00.000',\n",
       "  'lc_code': 13,\n",
       "  'lc_desc': 'At least 30% impervious surface area includingbuilding materials, asphalt, and vehicles.',\n",
       "  'lc_mode': 13,\n",
       "  'lc_name': 'Urban and Built-up Lands',\n",
       "  'lc_type': 'IGBP global vegetation classification scheme',\n",
       "  'mn_grw_km2': 0.214658673296478,\n",
       "  'mn_grw_px': 1,\n",
       "  'mu_grw_km2': 0.214658673296478,\n",
       "  'mu_grw_px': 1,\n",
       "  'mx_grw_dte': '2020/02/29 00:00:00.000',\n",
       "  'mx_grw_km2': 0.214658673296478,\n",
       "  'mx_grw_px': 1,\n",
       "  'pixels': 1,\n",
       "  'rmin': 13,\n",
       "  'tmmx': 299.6000061035156,\n",
       "  'tot_ar_km2': 0.214658673296478,\n",
       "  'tot_pix': 1,\n",
       "  'vpd': 1.6799999475479126,\n",
       "  'vs': 3.5999999046325684,\n",
       "  'x': 3897618.156358264,\n",
       "  'y': -10831556.656358264}}"
      ]
     },
     "execution_count": 33,
     "metadata": {},
     "output_type": "execute_result"
    }
   ],
   "source": [
    "# Check the results\n",
    "results_fc.first().getInfo()"
   ]
  },
  {
   "cell_type": "code",
   "execution_count": 39,
   "id": "16c22d98-6f3d-4f98-aac5-5091bb6096df",
   "metadata": {},
   "outputs": [
    {
     "data": {
      "text/html": [
       "\n",
       "            <style>\n",
       "                .geemap-dark {\n",
       "                    --jp-widgets-color: white;\n",
       "                    --jp-widgets-label-color: white;\n",
       "                    --jp-ui-font-color1: white;\n",
       "                    --jp-layout-color2: #454545;\n",
       "                    background-color: #383838;\n",
       "                }\n",
       "\n",
       "                .geemap-dark .jupyter-button {\n",
       "                    --jp-layout-color3: #383838;\n",
       "                }\n",
       "\n",
       "                .geemap-colab {\n",
       "                    background-color: var(--colab-primary-surface-color, white);\n",
       "                }\n",
       "\n",
       "                .geemap-colab .jupyter-button {\n",
       "                    --jp-layout-color3: var(--colab-primary-surface-color, white);\n",
       "                }\n",
       "            </style>\n",
       "            "
      ],
      "text/plain": [
       "<IPython.core.display.HTML object>"
      ]
     },
     "metadata": {},
     "output_type": "display_data"
    },
    {
     "name": "stdout",
     "output_type": "stream",
     "text": [
      "Export columns: ['did', 'fm1000', 'vpd', 'erc', 'bi', 'tmmx', 'rmin', 'vs']\n"
     ]
    }
   ],
   "source": [
    "# Subset and export (gridmet attributes and DID)\n",
    "print(f\"Export columns: {['did'] + attrs}\")\n",
    "results_fc_ = results_fc.select(attrs + ['did'])"
   ]
  },
  {
   "cell_type": "code",
   "execution_count": 40,
   "id": "e3dfe058-af05-42fc-8a97-17b7c56a9155",
   "metadata": {},
   "outputs": [
    {
     "data": {
      "text/html": [
       "\n",
       "            <style>\n",
       "                .geemap-dark {\n",
       "                    --jp-widgets-color: white;\n",
       "                    --jp-widgets-label-color: white;\n",
       "                    --jp-ui-font-color1: white;\n",
       "                    --jp-layout-color2: #454545;\n",
       "                    background-color: #383838;\n",
       "                }\n",
       "\n",
       "                .geemap-dark .jupyter-button {\n",
       "                    --jp-layout-color3: #383838;\n",
       "                }\n",
       "\n",
       "                .geemap-colab {\n",
       "                    background-color: var(--colab-primary-surface-color, white);\n",
       "                }\n",
       "\n",
       "                .geemap-colab .jupyter-button {\n",
       "                    --jp-layout-color3: var(--colab-primary-surface-color, white);\n",
       "                }\n",
       "            </style>\n",
       "            "
      ],
      "text/plain": [
       "<IPython.core.display.HTML object>"
      ]
     },
     "metadata": {},
     "output_type": "display_data"
    },
    {
     "name": "stdout",
     "output_type": "stream",
     "text": [
      "Export to Earth Engine Asset started!\n"
     ]
    }
   ],
   "source": [
    "# Export the table to an asset\n",
    "export_task = ee.batch.Export.table.toAsset(\n",
    "    collection=results_fc_,\n",
    "    description='fired-daily_west_2018_to_2024_gridmet',\n",
    "    assetId='projects/jfsp-aspen/assets/fired-daily_west_2018_to_2024_gridmet' \n",
    ")\n",
    "# Start the export task\n",
    "export_task.start()\n",
    "print(\"Export to Earth Engine Asset started!\")\n",
    "# Monitor the task until it's finished\n",
    "monitor_export(export_task)"
   ]
  },
  {
   "cell_type": "code",
   "execution_count": null,
   "id": "6c0f4ed8-f4e1-4f2c-a613-df7be7f5f1ae",
   "metadata": {},
   "outputs": [
    {
     "data": {
      "text/html": [
       "\n",
       "            <style>\n",
       "                .geemap-dark {\n",
       "                    --jp-widgets-color: white;\n",
       "                    --jp-widgets-label-color: white;\n",
       "                    --jp-ui-font-color1: white;\n",
       "                    --jp-layout-color2: #454545;\n",
       "                    background-color: #383838;\n",
       "                }\n",
       "\n",
       "                .geemap-dark .jupyter-button {\n",
       "                    --jp-layout-color3: #383838;\n",
       "                }\n",
       "\n",
       "                .geemap-colab {\n",
       "                    background-color: var(--colab-primary-surface-color, white);\n",
       "                }\n",
       "\n",
       "                .geemap-colab .jupyter-button {\n",
       "                    --jp-layout-color3: var(--colab-primary-surface-color, white);\n",
       "                }\n",
       "            </style>\n",
       "            "
      ],
      "text/plain": [
       "<IPython.core.display.HTML object>"
      ]
     },
     "metadata": {},
     "output_type": "display_data"
    },
    {
     "name": "stdout",
     "output_type": "stream",
     "text": [
      "Waiting for export to finish...\n",
      "Waiting for export to finish...\n",
      "Waiting for export to finish...\n",
      "Waiting for export to finish...\n",
      "Waiting for export to finish...\n",
      "Waiting for export to finish...\n",
      "Waiting for export to finish...\n",
      "Waiting for export to finish...\n",
      "Waiting for export to finish...\n",
      "Waiting for export to finish...\n",
      "Waiting for export to finish...\n",
      "Waiting for export to finish...\n",
      "Waiting for export to finish...\n",
      "Waiting for export to finish...\n",
      "Waiting for export to finish...\n",
      "Waiting for export to finish...\n"
     ]
    }
   ],
   "source": [
    "# Monitor the task until it's finished\n",
    "while export_task.active():\n",
    "    print('Waiting for export to finish...')\n",
    "    time.sleep(60)\n",
    "print('Export finished!')"
   ]
  },
  {
   "cell_type": "code",
   "execution_count": null,
   "id": "9cafdd44-a861-4c28-a1b9-e42303b804f1",
   "metadata": {},
   "outputs": [],
   "source": [
    "# Export the FeatureCollection to Google Drive\n",
    "export_task = ee.batch.Export.table.toDrive(\n",
    "    collection=results_fc_,\n",
    "    description='fired-daily_west_2018_to_2024_gridmet',\n",
    "    fileFormat='CSV'\n",
    ")\n",
    "# Start the export task\n",
    "export_task.start()\n",
    "print(\"Export to Google Drive started!\")\n",
    "# Monitor the task until it's finished\n",
    "monitor_export(export_task)"
   ]
  }
 ],
 "metadata": {
  "kernelspec": {
   "display_name": "aspen-fire",
   "language": "python",
   "name": "aspen-fire"
  },
  "language_info": {
   "codemirror_mode": {
    "name": "ipython",
    "version": 3
   },
   "file_extension": ".py",
   "mimetype": "text/x-python",
   "name": "python",
   "nbconvert_exporter": "python",
   "pygments_lexer": "ipython3",
   "version": "3.10.12"
  }
 },
 "nbformat": 4,
 "nbformat_minor": 5
}
