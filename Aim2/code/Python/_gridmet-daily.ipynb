{
 "cells": [
  {
   "cell_type": "code",
   "execution_count": 1,
   "id": "28852ad0-84f8-4740-82dc-7eeeac631b4c",
   "metadata": {},
   "outputs": [
    {
     "name": "stdout",
     "output_type": "stream",
     "text": [
      "GEE Authenticated !\n"
     ]
    }
   ],
   "source": [
    "\"\"\"\n",
    "Extract gridMET variables for daily burn perimeters, western U.S.\n",
    "Google Earth Engine (GEE) Python API\n",
    "Author: maxwell.cook@colorado.edu\n",
    "\"\"\"\n",
    "\n",
    "import ee\n",
    "import geemap\n",
    "\n",
    "ee.Authenticate()\n",
    "ee.Initialize(project='jfsp-aspen')\n",
    "print(\"GEE Authenticated !\")"
   ]
  },
  {
   "cell_type": "code",
   "execution_count": null,
   "id": "2bd57a67-ad12-433f-91d9-7ec7fbf1d2c0",
   "metadata": {},
   "outputs": [],
   "source": [
    "# Function to calculate gridmet for daily perimeters\n",
    "def gridmet_summary(fire, reducer, buffer=None):\n",
    "    \"\"\" Calculates the gridMET variables for a given daily perimeter by daily ID \"\"\"\n",
    "    # Set a function to calculate the variables for each daily perimeter\n",
    "    def get_daily_gridmet(perim):\n",
    "        # Buffer if requested\n",
    "        if buffer is not None:\n",
    "            geom = perim.geometry().bounds().buffer(buffer)\n",
    "        else:\n",
    "            geom = perim.geometry().bounds().buffer(buffer)\n",
    "        did = perim.get('did') # get the daily burn ID\n",
    "        # Get the burn date for extracting gridMET variables\n",
    "        burn_date = ee.Date(feature.get('date')) \n",
    "        gridmet_ = gridmet.filterDate(burn_date, burn_date.advance(1, 'day')).select(vars)\n",
    "        # Set up the feature reduction\n",
    "        stats = gridmet_.reduceRegion(\n",
    "            reducer=reduction,\n",
    "            geometry=geom,\n",
    "            scale=4000,  # Match gridMET resolution\n",
    "            bestEffort=True)\n",
    "        return perim.set(stats)\n",
    "    results = fire.map(get_daily_gridmet)\n",
    "    return results\n",
    "\n",
    "print(\"Functions loaded !\")"
   ]
  },
  {
   "cell_type": "code",
   "execution_count": null,
   "id": "c3179a4e-50e1-41b0-88db-88622efcd014",
   "metadata": {},
   "outputs": [],
   "source": [
    "# Load the gridMET datasets\n",
    "gridmet = ee.ImageCollection('IDAHO_EPSCOR/GRIDMET')\n",
    "\n",
    "# Define the parameters\n",
    "vars = ['vs','vpd','erc','bi','fm1000'] # gridmet variables\n",
    "reducer = ee.Reducer.percentile([90,95,99]) # reducer"
   ]
  }
 ],
 "metadata": {
  "kernelspec": {
   "display_name": "aspen-fire",
   "language": "python",
   "name": "aspen-fire"
  },
  "language_info": {
   "codemirror_mode": {
    "name": "ipython",
    "version": 3
   },
   "file_extension": ".py",
   "mimetype": "text/x-python",
   "name": "python",
   "nbconvert_exporter": "python",
   "pygments_lexer": "ipython3",
   "version": "3.10.12"
  }
 },
 "nbformat": 4,
 "nbformat_minor": 5
}
