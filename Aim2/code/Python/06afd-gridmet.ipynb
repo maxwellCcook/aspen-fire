{
 "cells": [
  {
   "cell_type": "code",
   "execution_count": 1,
   "id": "2ec5f74e-ef2e-4ec3-9066-c21a7c15ee34",
   "metadata": {},
   "outputs": [
    {
     "name": "stdout",
     "output_type": "stream",
     "text": [
      "GEE Authenticated !\n"
     ]
    }
   ],
   "source": [
    "\"\"\"\n",
    "Extract gridMET variables \n",
    "Google Earth Engine (GEE) Python API\n",
    "Author: maxwell.cook@colorado.edu\n",
    "\"\"\"\n",
    "\n",
    "import ee\n",
    "import geemap\n",
    "import time\n",
    "\n",
    "ee.Authenticate()\n",
    "ee.Initialize(project='jfsp-aspen')\n",
    "print(\"GEE Authenticated !\")"
   ]
  },
  {
   "cell_type": "code",
   "execution_count": 2,
   "id": "e579c8a6-cec4-4dc7-9a21-36bc687941ae",
   "metadata": {},
   "outputs": [
    {
     "data": {
      "text/html": [
       "\n",
       "            <style>\n",
       "                .geemap-dark {\n",
       "                    --jp-widgets-color: white;\n",
       "                    --jp-widgets-label-color: white;\n",
       "                    --jp-ui-font-color1: white;\n",
       "                    --jp-layout-color2: #454545;\n",
       "                    background-color: #383838;\n",
       "                }\n",
       "\n",
       "                .geemap-dark .jupyter-button {\n",
       "                    --jp-layout-color3: #383838;\n",
       "                }\n",
       "\n",
       "                .geemap-colab {\n",
       "                    background-color: var(--colab-primary-surface-color, white);\n",
       "                }\n",
       "\n",
       "                .geemap-colab .jupyter-button {\n",
       "                    --jp-layout-color3: var(--colab-primary-surface-color, white);\n",
       "                }\n",
       "            </style>\n",
       "            "
      ],
      "text/plain": [
       "<IPython.core.display.HTML object>"
      ]
     },
     "metadata": {},
     "output_type": "display_data"
    },
    {
     "name": "stdout",
     "output_type": "stream",
     "text": [
      "Functions loaded !\n"
     ]
    }
   ],
   "source": [
    "def gridmet_summary(fires, reducer, attrs, buffer=None):\n",
    "    \"\"\" Calculates the gridMET variables for a given daily perimeter by daily ID \n",
    "    Args:\n",
    "        - fires: fire perimeters (with daily polygons)\n",
    "        - reducer: the reduction to use for the gridmet variables\n",
    "        - attrs: the gridmet variables\n",
    "        - buffer: (optional) apply a buffer to the daily polygon\n",
    "    \"\"\"\n",
    "    # Set a function to calculate the variables for each daily perimeter\n",
    "    def get_daily_gridmet(perim):\n",
    "        # Buffer if requested\n",
    "        if buffer is not None:\n",
    "            geom = perim.geometry().bounds().buffer(buffer)\n",
    "        else:\n",
    "            geom = perim.geometry().bounds()\n",
    "\n",
    "        # Get the burn date for extracting gridMET variables\n",
    "        fire_year = ee.Number.parse(perim.get('FIRE_YEAR')) \n",
    "        burn_doy = ee.Number.parse(perim.get('ACQ_DOY')) \n",
    "        next_doy = burn_doy.add(1)\n",
    "        \n",
    "        gridmet_ = gridmet.filter(\n",
    "            ee.Filter.And(\n",
    "              ee.Filter.bounds(geom), # filter to the fire bounds\n",
    "              ee.Filter.calendarRange(fire_year, fire_year, 'year'), # fire year\n",
    "              ee.Filter.calendarRange(burn_doy, next_doy, 'DAY_OF_YEAR'), # 60 days pre-ignition\n",
    "            )\n",
    "        )\n",
    "        \n",
    "        gridmet_mn = gridmet_.mean() # take the temporal mean of the imageCollection (daily gridmets)\n",
    "        \n",
    "        # Set up the feature reduction\n",
    "        stats = gridmet_mn.reduceRegion(\n",
    "            reducer=reducer,\n",
    "            geometry=geom,\n",
    "            scale=4000,  # Match gridMET resolution\n",
    "            bestEffort=True)\n",
    "        return perim.set(stats)\n",
    "\n",
    "    # Map the reduction onto the daily polygons\n",
    "    results = fires.map(get_daily_gridmet)\n",
    "    \n",
    "    return results\n",
    "\n",
    "\n",
    "def monitor_export(task):\n",
    "    \"\"\" Monitors EE export task \"\"\"\n",
    "    while task.active():\n",
    "        print('Waiting for export to finish..\\n\\tPatience young padawan.')\n",
    "        time.sleep(30)  # Check every 30 seconds\n",
    "    \n",
    "    # Get the status of the task\n",
    "    status = task.status()\n",
    "    \n",
    "    # Check if the task failed or succeeded\n",
    "    if status['state'] == 'COMPLETED':\n",
    "        print(\"Export completed successfully !!!!\")\n",
    "    elif status['state'] == 'FAILED':\n",
    "        print(f\"Export failed! Bummer. Reason: {status.get('error_message', 'Unknown error')}\")\n",
    "    else:\n",
    "        print(f\"Export ended with state: {status['state']}\")\n",
    "\n",
    "print(\"Functions loaded !\")"
   ]
  },
  {
   "cell_type": "code",
   "execution_count": null,
   "id": "01b61f34-4249-4da9-9b4e-08d122ffbfde",
   "metadata": {},
   "outputs": [],
   "source": []
  },
  {
   "cell_type": "code",
   "execution_count": null,
   "id": "34d76eb3-82ed-43ac-b8bf-3b44cbc0cc8d",
   "metadata": {},
   "outputs": [],
   "source": [
    "# Setup the workflow."
   ]
  },
  {
   "cell_type": "code",
   "execution_count": null,
   "id": "a2332df3-e18e-426e-9564-8d5448d312a5",
   "metadata": {},
   "outputs": [],
   "source": []
  },
  {
   "cell_type": "code",
   "execution_count": 3,
   "id": "929988fa-2c96-43a5-aaa0-48e51720842e",
   "metadata": {},
   "outputs": [
    {
     "data": {
      "text/html": [
       "\n",
       "            <style>\n",
       "                .geemap-dark {\n",
       "                    --jp-widgets-color: white;\n",
       "                    --jp-widgets-label-color: white;\n",
       "                    --jp-ui-font-color1: white;\n",
       "                    --jp-layout-color2: #454545;\n",
       "                    background-color: #383838;\n",
       "                }\n",
       "\n",
       "                .geemap-dark .jupyter-button {\n",
       "                    --jp-layout-color3: #383838;\n",
       "                }\n",
       "\n",
       "                .geemap-colab {\n",
       "                    background-color: var(--colab-primary-surface-color, white);\n",
       "                }\n",
       "\n",
       "                .geemap-colab .jupyter-button {\n",
       "                    --jp-layout-color3: var(--colab-primary-surface-color, white);\n",
       "                }\n",
       "            </style>\n",
       "            "
      ],
      "text/plain": [
       "<IPython.core.display.HTML object>"
      ]
     },
     "metadata": {},
     "output_type": "display_data"
    },
    {
     "name": "stdout",
     "output_type": "stream",
     "text": [
      "gridMET bands available for analysis:\n",
      "\n",
      "['pr', 'rmax', 'rmin', 'sph', 'srad', 'th', 'tmmn', 'tmmx', 'vs', 'erc', 'eto', 'bi', 'fm100', 'fm1000', 'etr', 'vpd']\n"
     ]
    }
   ],
   "source": [
    "# Load the gridMET datasets\n",
    "gridmet = ee.ImageCollection('IDAHO_EPSCOR/GRIDMET')\n",
    "print(f\"gridMET bands available for analysis:\\n\\n{gridmet.first().bandNames().getInfo()}\")"
   ]
  },
  {
   "cell_type": "code",
   "execution_count": 5,
   "id": "9a33e6d7-4806-458e-b419-bbda4b695178",
   "metadata": {},
   "outputs": [
    {
     "data": {
      "text/html": [
       "\n",
       "            <style>\n",
       "                .geemap-dark {\n",
       "                    --jp-widgets-color: white;\n",
       "                    --jp-widgets-label-color: white;\n",
       "                    --jp-ui-font-color1: white;\n",
       "                    --jp-layout-color2: #454545;\n",
       "                    background-color: #383838;\n",
       "                }\n",
       "\n",
       "                .geemap-dark .jupyter-button {\n",
       "                    --jp-layout-color3: #383838;\n",
       "                }\n",
       "\n",
       "                .geemap-colab {\n",
       "                    background-color: var(--colab-primary-surface-color, white);\n",
       "                }\n",
       "\n",
       "                .geemap-colab .jupyter-button {\n",
       "                    --jp-layout-color3: var(--colab-primary-surface-color, white);\n",
       "                }\n",
       "            </style>\n",
       "            "
      ],
      "text/plain": [
       "<IPython.core.display.HTML object>"
      ]
     },
     "metadata": {},
     "output_type": "display_data"
    },
    {
     "name": "stdout",
     "output_type": "stream",
     "text": [
      "There are [2037] daily bounds.\n"
     ]
    }
   ],
   "source": [
    "fires = ee.FeatureCollection('projects/jfsp-aspen/assets/AFD/afd_aspen-fires_2018_to_2023_bounds_daily')\n",
    "print(f\"There are [{fires.size().getInfo()}] daily bounds.\")"
   ]
  },
  {
   "cell_type": "code",
   "execution_count": 6,
   "id": "63482ca5-e324-4582-a290-dcbe27596b2f",
   "metadata": {},
   "outputs": [
    {
     "data": {
      "text/html": [
       "\n",
       "            <style>\n",
       "                .geemap-dark {\n",
       "                    --jp-widgets-color: white;\n",
       "                    --jp-widgets-label-color: white;\n",
       "                    --jp-ui-font-color1: white;\n",
       "                    --jp-layout-color2: #454545;\n",
       "                    background-color: #383838;\n",
       "                }\n",
       "\n",
       "                .geemap-dark .jupyter-button {\n",
       "                    --jp-layout-color3: #383838;\n",
       "                }\n",
       "\n",
       "                .geemap-colab {\n",
       "                    background-color: var(--colab-primary-surface-color, white);\n",
       "                }\n",
       "\n",
       "                .geemap-colab .jupyter-button {\n",
       "                    --jp-layout-color3: var(--colab-primary-surface-color, white);\n",
       "                }\n",
       "            </style>\n",
       "            "
      ],
      "text/plain": [
       "<IPython.core.display.HTML object>"
      ]
     },
     "metadata": {},
     "output_type": "display_data"
    },
    {
     "name": "stdout",
     "output_type": "stream",
     "text": [
      "Success !\n"
     ]
    }
   ],
   "source": [
    "# Define the function parameters\n",
    "reduction = ee.Reducer.percentile([95]) # 95th percentile\n",
    "attrs = ['fm1000', 'vpd', 'erc', 'bi', 'tmmx', 'rmin', 'vs'] # the gridmet attributes to use\n",
    "# Retrieve gridmet summaries for daily perimeters\n",
    "results_fc = gridmet_summary(fires, reduction, attrs)\n",
    "print(\"Success !\")"
   ]
  },
  {
   "cell_type": "code",
   "execution_count": 7,
   "id": "7800ce5e-d07d-46ee-8281-481fe24cf01b",
   "metadata": {},
   "outputs": [
    {
     "data": {
      "text/html": [
       "\n",
       "            <style>\n",
       "                .geemap-dark {\n",
       "                    --jp-widgets-color: white;\n",
       "                    --jp-widgets-label-color: white;\n",
       "                    --jp-ui-font-color1: white;\n",
       "                    --jp-layout-color2: #454545;\n",
       "                    background-color: #383838;\n",
       "                }\n",
       "\n",
       "                .geemap-dark .jupyter-button {\n",
       "                    --jp-layout-color3: #383838;\n",
       "                }\n",
       "\n",
       "                .geemap-colab {\n",
       "                    background-color: var(--colab-primary-surface-color, white);\n",
       "                }\n",
       "\n",
       "                .geemap-colab .jupyter-button {\n",
       "                    --jp-layout-color3: var(--colab-primary-surface-color, white);\n",
       "                }\n",
       "            </style>\n",
       "            "
      ],
      "text/plain": [
       "<IPython.core.display.HTML object>"
      ]
     },
     "metadata": {},
     "output_type": "display_data"
    },
    {
     "data": {
      "text/plain": [
       "{'type': 'Feature',\n",
       " 'geometry': {'type': 'Polygon',\n",
       "  'coordinates': [[[-106.85336123730923, 35.87028325412543],\n",
       "    [-106.84920075958122, 35.87066463567183],\n",
       "    [-106.84967784663476, 35.87398984543011],\n",
       "    [-106.8538385131695, 35.873608467295654],\n",
       "    [-106.85336123730923, 35.87028325412543]]]},\n",
       " 'id': '000000000000000000b3',\n",
       " 'properties': {'ACQ_DOY': 257,\n",
       "  'FIRE_YEAR': 2018,\n",
       "  'NIFC_ID': '13378',\n",
       "  'bi': 41.5,\n",
       "  'erc': 57,\n",
       "  'eto': 4.699999809265137,\n",
       "  'etr': 6.350000381469727,\n",
       "  'fm100': 6.800000190734863,\n",
       "  'fm1000': 13.300000190734863,\n",
       "  'pr': 0,\n",
       "  'rmax': 43.29999923706055,\n",
       "  'rmin': 11.25,\n",
       "  'sph': 0.004414999857544899,\n",
       "  'srad': 244.14999389648438,\n",
       "  'th': 196.5,\n",
       "  'tmmn': 284.1500244140625,\n",
       "  'tmmx': 298.04998779296875,\n",
       "  'vpd': 1.7100000381469727,\n",
       "  'vs': 2.4499998092651367}}"
      ]
     },
     "execution_count": 7,
     "metadata": {},
     "output_type": "execute_result"
    }
   ],
   "source": [
    "# Check the results\n",
    "results_fc.first().getInfo()"
   ]
  },
  {
   "cell_type": "code",
   "execution_count": 8,
   "id": "0910081e-dbc2-471f-9add-3256ef41dde3",
   "metadata": {},
   "outputs": [
    {
     "data": {
      "text/html": [
       "\n",
       "            <style>\n",
       "                .geemap-dark {\n",
       "                    --jp-widgets-color: white;\n",
       "                    --jp-widgets-label-color: white;\n",
       "                    --jp-ui-font-color1: white;\n",
       "                    --jp-layout-color2: #454545;\n",
       "                    background-color: #383838;\n",
       "                }\n",
       "\n",
       "                .geemap-dark .jupyter-button {\n",
       "                    --jp-layout-color3: #383838;\n",
       "                }\n",
       "\n",
       "                .geemap-colab {\n",
       "                    background-color: var(--colab-primary-surface-color, white);\n",
       "                }\n",
       "\n",
       "                .geemap-colab .jupyter-button {\n",
       "                    --jp-layout-color3: var(--colab-primary-surface-color, white);\n",
       "                }\n",
       "            </style>\n",
       "            "
      ],
      "text/plain": [
       "<IPython.core.display.HTML object>"
      ]
     },
     "metadata": {},
     "output_type": "display_data"
    },
    {
     "name": "stdout",
     "output_type": "stream",
     "text": [
      "Export to Google Drive started!\n",
      "Waiting for export to finish..\n",
      "\tPatience young padawan.\n",
      "Waiting for export to finish..\n",
      "\tPatience young padawan.\n",
      "Waiting for export to finish..\n",
      "\tPatience young padawan.\n",
      "Waiting for export to finish..\n",
      "\tPatience young padawan.\n",
      "Waiting for export to finish..\n",
      "\tPatience young padawan.\n",
      "Waiting for export to finish..\n",
      "\tPatience young padawan.\n",
      "Waiting for export to finish..\n",
      "\tPatience young padawan.\n",
      "Waiting for export to finish..\n",
      "\tPatience young padawan.\n",
      "Waiting for export to finish..\n",
      "\tPatience young padawan.\n",
      "Waiting for export to finish..\n",
      "\tPatience young padawan.\n",
      "Waiting for export to finish..\n",
      "\tPatience young padawan.\n",
      "Waiting for export to finish..\n",
      "\tPatience young padawan.\n",
      "Waiting for export to finish..\n",
      "\tPatience young padawan.\n",
      "Waiting for export to finish..\n",
      "\tPatience young padawan.\n",
      "Waiting for export to finish..\n",
      "\tPatience young padawan.\n",
      "Waiting for export to finish..\n",
      "\tPatience young padawan.\n",
      "Waiting for export to finish..\n",
      "\tPatience young padawan.\n",
      "Waiting for export to finish..\n",
      "\tPatience young padawan.\n",
      "Waiting for export to finish..\n",
      "\tPatience young padawan.\n",
      "Export completed successfully !!!!\n"
     ]
    }
   ],
   "source": [
    "# Export the FeatureCollection to Google Drive\n",
    "export_task = ee.batch.Export.table.toDrive(\n",
    "    collection=results_fc,\n",
    "    description='afd_aspen-fires_2018_to_2023_bounds_daily-gridmet_stats',\n",
    "    fileFormat='CSV',\n",
    "    folder='GRIDMET'\n",
    ")\n",
    "# Start the export task\n",
    "export_task.start()\n",
    "print(\"Export to Google Drive started!\")\n",
    "# Monitor the task until it's finished\n",
    "monitor_export(export_task)"
   ]
  }
 ],
 "metadata": {
  "kernelspec": {
   "display_name": "aspen-fire",
   "language": "python",
   "name": "aspen-fire"
  },
  "language_info": {
   "codemirror_mode": {
    "name": "ipython",
    "version": 3
   },
   "file_extension": ".py",
   "mimetype": "text/x-python",
   "name": "python",
   "nbconvert_exporter": "python",
   "pygments_lexer": "ipython3",
   "version": "3.10.12"
  }
 },
 "nbformat": 4,
 "nbformat_minor": 5
}
