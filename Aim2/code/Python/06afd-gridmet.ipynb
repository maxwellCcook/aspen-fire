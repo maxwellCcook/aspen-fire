{
 "cells": [
  {
   "cell_type": "code",
   "execution_count": 5,
   "id": "2ec5f74e-ef2e-4ec3-9066-c21a7c15ee34",
   "metadata": {},
   "outputs": [
    {
     "name": "stdout",
     "output_type": "stream",
     "text": [
      "GEE Authenticated !\n"
     ]
    },
    {
     "name": "stderr",
     "output_type": "stream",
     "text": [
      "*** Earth Engine *** Share your feedback by taking our Annual Developer Satisfaction Survey: https://google.qualtrics.com/jfe/form/SV_0JLhFqfSY1uiEaW?source=Init\n"
     ]
    }
   ],
   "source": [
    "\"\"\"\n",
    "Extract gridMET variables \n",
    "Google Earth Engine (GEE) Python API\n",
    "Author: maxwell.cook@colorado.edu\n",
    "\"\"\"\n",
    "\n",
    "import ee\n",
    "import geemap\n",
    "import time\n",
    "\n",
    "ee.Authenticate()\n",
    "ee.Initialize(project='jfsp-aspen')\n",
    "print(\"GEE Authenticated !\")"
   ]
  },
  {
   "cell_type": "code",
   "execution_count": 30,
   "id": "e579c8a6-cec4-4dc7-9a21-36bc687941ae",
   "metadata": {},
   "outputs": [
    {
     "data": {
      "text/html": [
       "\n",
       "            <style>\n",
       "                .geemap-dark {\n",
       "                    --jp-widgets-color: white;\n",
       "                    --jp-widgets-label-color: white;\n",
       "                    --jp-ui-font-color1: white;\n",
       "                    --jp-layout-color2: #454545;\n",
       "                    background-color: #383838;\n",
       "                }\n",
       "\n",
       "                .geemap-dark .jupyter-button {\n",
       "                    --jp-layout-color3: #383838;\n",
       "                }\n",
       "\n",
       "                .geemap-colab {\n",
       "                    background-color: var(--colab-primary-surface-color, white);\n",
       "                }\n",
       "\n",
       "                .geemap-colab .jupyter-button {\n",
       "                    --jp-layout-color3: var(--colab-primary-surface-color, white);\n",
       "                }\n",
       "            </style>\n",
       "            "
      ],
      "text/plain": [
       "<IPython.core.display.HTML object>"
      ]
     },
     "metadata": {},
     "output_type": "display_data"
    },
    {
     "name": "stdout",
     "output_type": "stream",
     "text": [
      "Functions loaded !\n"
     ]
    }
   ],
   "source": [
    "def monitor_export(task, timeout):\n",
    "    \"\"\" Monitors EE export task \"\"\"\n",
    "    while task.active():\n",
    "        print('Waiting for export to finish..\\n\\tPatience young padawan.')\n",
    "        time.sleep(timeout)  \n",
    "    \n",
    "    # Get the status of the task\n",
    "    status = task.status()\n",
    "    \n",
    "    # Check if the task failed or succeeded\n",
    "    if status['state'] == 'COMPLETED':\n",
    "        print(\"Export completed successfully !!!!\")\n",
    "    elif status['state'] == 'FAILED':\n",
    "        print(f\"Export failed! Bummer. Reason: {status.get('error_message', 'Unknown error')}\")\n",
    "    else:\n",
    "        print(f\"Export ended with state: {status['state']}\")\n",
    "\n",
    "print(\"Functions loaded !\")"
   ]
  },
  {
   "cell_type": "code",
   "execution_count": null,
   "id": "01b61f34-4249-4da9-9b4e-08d122ffbfde",
   "metadata": {},
   "outputs": [],
   "source": []
  },
  {
   "cell_type": "code",
   "execution_count": 7,
   "id": "695dbe4b-5fe6-48c9-9ce3-7c2ed21f2a83",
   "metadata": {},
   "outputs": [
    {
     "data": {
      "text/html": [
       "\n",
       "            <style>\n",
       "                .geemap-dark {\n",
       "                    --jp-widgets-color: white;\n",
       "                    --jp-widgets-label-color: white;\n",
       "                    --jp-ui-font-color1: white;\n",
       "                    --jp-layout-color2: #454545;\n",
       "                    background-color: #383838;\n",
       "                }\n",
       "\n",
       "                .geemap-dark .jupyter-button {\n",
       "                    --jp-layout-color3: #383838;\n",
       "                }\n",
       "\n",
       "                .geemap-colab {\n",
       "                    background-color: var(--colab-primary-surface-color, white);\n",
       "                }\n",
       "\n",
       "                .geemap-colab .jupyter-button {\n",
       "                    --jp-layout-color3: var(--colab-primary-surface-color, white);\n",
       "                }\n",
       "            </style>\n",
       "            "
      ],
      "text/plain": [
       "<IPython.core.display.HTML object>"
      ]
     },
     "metadata": {},
     "output_type": "display_data"
    },
    {
     "name": "stdout",
     "output_type": "stream",
     "text": [
      "Number of aspen fires: 50\n",
      "['Fire_Year', 'Fire_ID', 'Ig_Date', 'Last_Date', 'Fire_Name', 'system:index']\n"
     ]
    }
   ],
   "source": [
    "# Load fire perimeters\n",
    "fires = ee.FeatureCollection('projects/jfsp-aspen/assets/nifc_aspenfires_2018to2023')\n",
    "print(f\"Number of aspen fires: {fires.size().getInfo()}\")\n",
    "print(fires.first().propertyNames().getInfo())"
   ]
  },
  {
   "cell_type": "code",
   "execution_count": null,
   "id": "53e44dd9-2b5f-4751-ad04-269bccd92461",
   "metadata": {},
   "outputs": [],
   "source": []
  },
  {
   "cell_type": "code",
   "execution_count": null,
   "id": "34d76eb3-82ed-43ac-b8bf-3b44cbc0cc8d",
   "metadata": {},
   "outputs": [],
   "source": [
    "# Load the gridmet image collection"
   ]
  },
  {
   "cell_type": "code",
   "execution_count": 8,
   "id": "929988fa-2c96-43a5-aaa0-48e51720842e",
   "metadata": {},
   "outputs": [
    {
     "data": {
      "text/html": [
       "\n",
       "            <style>\n",
       "                .geemap-dark {\n",
       "                    --jp-widgets-color: white;\n",
       "                    --jp-widgets-label-color: white;\n",
       "                    --jp-ui-font-color1: white;\n",
       "                    --jp-layout-color2: #454545;\n",
       "                    background-color: #383838;\n",
       "                }\n",
       "\n",
       "                .geemap-dark .jupyter-button {\n",
       "                    --jp-layout-color3: #383838;\n",
       "                }\n",
       "\n",
       "                .geemap-colab {\n",
       "                    background-color: var(--colab-primary-surface-color, white);\n",
       "                }\n",
       "\n",
       "                .geemap-colab .jupyter-button {\n",
       "                    --jp-layout-color3: var(--colab-primary-surface-color, white);\n",
       "                }\n",
       "            </style>\n",
       "            "
      ],
      "text/plain": [
       "<IPython.core.display.HTML object>"
      ]
     },
     "metadata": {},
     "output_type": "display_data"
    },
    {
     "name": "stdout",
     "output_type": "stream",
     "text": [
      "gridMET bands available for analysis:\n",
      "\n",
      "['pr', 'rmax', 'rmin', 'sph', 'srad', 'th', 'tmmn', 'tmmx', 'vs', 'erc', 'eto', 'bi', 'fm100', 'fm1000', 'etr', 'vpd']\n"
     ]
    }
   ],
   "source": [
    "gridmet = ee.ImageCollection('IDAHO_EPSCOR/GRIDMET')\n",
    "print(f\"gridMET bands available for analysis:\\n\\n{gridmet.first().bandNames().getInfo()}\")"
   ]
  },
  {
   "cell_type": "code",
   "execution_count": 9,
   "id": "1ea1f429-786b-4534-8bd6-8eeb06702db5",
   "metadata": {},
   "outputs": [
    {
     "data": {
      "text/html": [
       "\n",
       "            <style>\n",
       "                .geemap-dark {\n",
       "                    --jp-widgets-color: white;\n",
       "                    --jp-widgets-label-color: white;\n",
       "                    --jp-ui-font-color1: white;\n",
       "                    --jp-layout-color2: #454545;\n",
       "                    background-color: #383838;\n",
       "                }\n",
       "\n",
       "                .geemap-dark .jupyter-button {\n",
       "                    --jp-layout-color3: #383838;\n",
       "                }\n",
       "\n",
       "                .geemap-colab {\n",
       "                    background-color: var(--colab-primary-surface-color, white);\n",
       "                }\n",
       "\n",
       "                .geemap-colab .jupyter-button {\n",
       "                    --jp-layout-color3: var(--colab-primary-surface-color, white);\n",
       "                }\n",
       "            </style>\n",
       "            "
      ],
      "text/plain": [
       "<IPython.core.display.HTML object>"
      ]
     },
     "metadata": {},
     "output_type": "display_data"
    },
    {
     "data": {
      "text/plain": [
       "['pr',\n",
       " 'rmax',\n",
       " 'rmin',\n",
       " 'sph',\n",
       " 'srad',\n",
       " 'th',\n",
       " 'tmmn',\n",
       " 'tmmx',\n",
       " 'vs',\n",
       " 'erc',\n",
       " 'eto',\n",
       " 'bi',\n",
       " 'fm100',\n",
       " 'fm1000',\n",
       " 'etr',\n",
       " 'vpd']"
      ]
     },
     "execution_count": 9,
     "metadata": {},
     "output_type": "execute_result"
    }
   ],
   "source": [
    "# calculate the 15 year average\n",
    "mean15 = gridmet.filter(ee.Filter.calendarRange(2009,2024,'year')).mean() \n",
    "gridmet.first().bandNames().getInfo()"
   ]
  },
  {
   "cell_type": "code",
   "execution_count": null,
   "id": "b813d31c-780c-4eb8-a1a2-e459c072dc09",
   "metadata": {},
   "outputs": [],
   "source": []
  },
  {
   "cell_type": "code",
   "execution_count": null,
   "id": "4be4414c-ae77-487c-9662-1998983c1887",
   "metadata": {},
   "outputs": [],
   "source": [
    "# Load the AFD "
   ]
  },
  {
   "cell_type": "code",
   "execution_count": 10,
   "id": "9a33e6d7-4806-458e-b419-bbda4b695178",
   "metadata": {},
   "outputs": [
    {
     "data": {
      "text/html": [
       "\n",
       "            <style>\n",
       "                .geemap-dark {\n",
       "                    --jp-widgets-color: white;\n",
       "                    --jp-widgets-label-color: white;\n",
       "                    --jp-ui-font-color1: white;\n",
       "                    --jp-layout-color2: #454545;\n",
       "                    background-color: #383838;\n",
       "                }\n",
       "\n",
       "                .geemap-dark .jupyter-button {\n",
       "                    --jp-layout-color3: #383838;\n",
       "                }\n",
       "\n",
       "                .geemap-colab {\n",
       "                    background-color: var(--colab-primary-surface-color, white);\n",
       "                }\n",
       "\n",
       "                .geemap-colab .jupyter-button {\n",
       "                    --jp-layout-color3: var(--colab-primary-surface-color, white);\n",
       "                }\n",
       "            </style>\n",
       "            "
      ],
      "text/plain": [
       "<IPython.core.display.HTML object>"
      ]
     },
     "metadata": {},
     "output_type": "display_data"
    },
    {
     "name": "stdout",
     "output_type": "stream",
     "text": [
      "Number of AFD: 51853\n",
      "['Fire_ID', 'acq_date', 'daynight', 'Ig_Date', 'Last_Date', 'afdID', 'system:index']\n"
     ]
    }
   ],
   "source": [
    "afds = ee.FeatureCollection('projects/jfsp-aspen/assets/AFD/vnp14img_geo_srm_pix_area_aspenfires')\n",
    "print(f\"Number of AFD: {afds.size().getInfo()}\")\n",
    "print(afds.first().propertyNames().getInfo())"
   ]
  },
  {
   "cell_type": "code",
   "execution_count": 11,
   "id": "493a5cd8-b589-4b17-9edf-45f5d04141f1",
   "metadata": {},
   "outputs": [
    {
     "data": {
      "text/html": [
       "\n",
       "            <style>\n",
       "                .geemap-dark {\n",
       "                    --jp-widgets-color: white;\n",
       "                    --jp-widgets-label-color: white;\n",
       "                    --jp-ui-font-color1: white;\n",
       "                    --jp-layout-color2: #454545;\n",
       "                    background-color: #383838;\n",
       "                }\n",
       "\n",
       "                .geemap-dark .jupyter-button {\n",
       "                    --jp-layout-color3: #383838;\n",
       "                }\n",
       "\n",
       "                .geemap-colab {\n",
       "                    background-color: var(--colab-primary-surface-color, white);\n",
       "                }\n",
       "\n",
       "                .geemap-colab .jupyter-button {\n",
       "                    --jp-layout-color3: var(--colab-primary-surface-color, white);\n",
       "                }\n",
       "            </style>\n",
       "            "
      ],
      "text/plain": [
       "<IPython.core.display.HTML object>"
      ]
     },
     "metadata": {},
     "output_type": "display_data"
    },
    {
     "name": "stdout",
     "output_type": "stream",
     "text": [
      "Number of 'fire days': 390\n"
     ]
    }
   ],
   "source": [
    "# get a list of unique active fire days\n",
    "fire_days = afds.aggregate_array('acq_date').getInfo()\n",
    "fire_days = set(fire_days)\n",
    "print(f\"Number of 'fire days': {len(fire_days)}\")"
   ]
  },
  {
   "cell_type": "code",
   "execution_count": 25,
   "id": "2625bbc8-59c1-4383-b23f-d617ec889bff",
   "metadata": {},
   "outputs": [
    {
     "data": {
      "text/html": [
       "\n",
       "            <style>\n",
       "                .geemap-dark {\n",
       "                    --jp-widgets-color: white;\n",
       "                    --jp-widgets-label-color: white;\n",
       "                    --jp-ui-font-color1: white;\n",
       "                    --jp-layout-color2: #454545;\n",
       "                    background-color: #383838;\n",
       "                }\n",
       "\n",
       "                .geemap-dark .jupyter-button {\n",
       "                    --jp-layout-color3: #383838;\n",
       "                }\n",
       "\n",
       "                .geemap-colab {\n",
       "                    background-color: var(--colab-primary-surface-color, white);\n",
       "                }\n",
       "\n",
       "                .geemap-colab .jupyter-button {\n",
       "                    --jp-layout-color3: var(--colab-primary-surface-color, white);\n",
       "                }\n",
       "            </style>\n",
       "            "
      ],
      "text/plain": [
       "<IPython.core.display.HTML object>"
      ]
     },
     "metadata": {},
     "output_type": "display_data"
    },
    {
     "name": "stdout",
     "output_type": "stream",
     "text": [
      "Function ready !\n"
     ]
    }
   ],
   "source": [
    "# map over the list of unique dates\n",
    "def gridmet_summary(fire):\n",
    "    \"\"\" calculate the daily gridmet for active fire detections \"\"\"\n",
    "    \n",
    "    # grab the fire id\n",
    "    fire_id = fire.get('Fire_ID')\n",
    "    # filter obs. to the day of burning\n",
    "    afds_ = afds.filter(ee.Filter.eq('Fire_ID',fire_id))\n",
    "    # get the unique dates\n",
    "    fire_days = ee.List(afds_.aggregate_array('acq_date')).distinct()\n",
    "    \n",
    "    def get_daily(day):\n",
    "        \"\"\" calculate the daily gridmet summary\"\"\"\n",
    "        # filter to this day's detections\n",
    "        afds_day = afds_.filter(ee.Filter.eq('acq_date',day))\n",
    "        bounds = afds_day.geometry().bounds() # gather the bounds for this days detections\n",
    "        # retrieve the date information for filtering\n",
    "        acq_date = ee.Date(day) # the day of acquisition\n",
    "        prev_day = acq_date.advance(-1,'days') # previous day for calculating the mean\n",
    "        \n",
    "        # calculate the gridmet mean\n",
    "        gridmet_ = gridmet.filterDate(prev_day, acq_date).select(attrs)\n",
    "        gridmet_ = gridmet_.mean() # the average prev day to day of burn\n",
    "\n",
    "        # calculation the deviation from the 15-year average\n",
    "        anomaly = gridmet_.subtract(mean15.select(attrs)).rename([atr+\"_dev\" for atr in attrs])\n",
    "\n",
    "        # run the reduction\n",
    "        stats = gridmet_.addBands(anomaly).reduceRegion(\n",
    "            reducer=ee.Reducer.mean(),\n",
    "            geometry=bounds,\n",
    "            scale=4000,\n",
    "            bestEffort=True\n",
    "        )\n",
    "\n",
    "        return ee.Feature(None, stats.set(\"acq_date\", day))\n",
    "\n",
    "    results = fire_days.map(get_daily)\n",
    "    return ee.FeatureCollection(results)\n",
    "\n",
    "print(\"Function ready !\")"
   ]
  },
  {
   "cell_type": "code",
   "execution_count": 26,
   "id": "39fa4364-82f3-4c22-b6ff-4f51f44e89d3",
   "metadata": {},
   "outputs": [
    {
     "data": {
      "text/html": [
       "\n",
       "            <style>\n",
       "                .geemap-dark {\n",
       "                    --jp-widgets-color: white;\n",
       "                    --jp-widgets-label-color: white;\n",
       "                    --jp-ui-font-color1: white;\n",
       "                    --jp-layout-color2: #454545;\n",
       "                    background-color: #383838;\n",
       "                }\n",
       "\n",
       "                .geemap-dark .jupyter-button {\n",
       "                    --jp-layout-color3: #383838;\n",
       "                }\n",
       "\n",
       "                .geemap-colab {\n",
       "                    background-color: var(--colab-primary-surface-color, white);\n",
       "                }\n",
       "\n",
       "                .geemap-colab .jupyter-button {\n",
       "                    --jp-layout-color3: var(--colab-primary-surface-color, white);\n",
       "                }\n",
       "            </style>\n",
       "            "
      ],
      "text/plain": [
       "<IPython.core.display.HTML object>"
      ]
     },
     "metadata": {},
     "output_type": "display_data"
    },
    {
     "name": "stdout",
     "output_type": "stream",
     "text": [
      "Number of features: 798\n",
      "Submitted !\n"
     ]
    }
   ],
   "source": [
    "# list of gridmet attributes\n",
    "attrs = ['fm1000', 'vpd', 'erc', 'vs']\n",
    "        \n",
    "fire_stats = fires.limit.map(gridmet_summary).flatten()\n",
    "\n",
    "print(\"Number of features:\", fire_stats.first().getInfo())\n",
    "print(\"Submitted !\")"
   ]
  },
  {
   "cell_type": "code",
   "execution_count": 29,
   "id": "132271bc-1a08-40af-a8f5-916d68bdbc27",
   "metadata": {},
   "outputs": [
    {
     "data": {
      "text/html": [
       "\n",
       "            <style>\n",
       "                .geemap-dark {\n",
       "                    --jp-widgets-color: white;\n",
       "                    --jp-widgets-label-color: white;\n",
       "                    --jp-ui-font-color1: white;\n",
       "                    --jp-layout-color2: #454545;\n",
       "                    background-color: #383838;\n",
       "                }\n",
       "\n",
       "                .geemap-dark .jupyter-button {\n",
       "                    --jp-layout-color3: #383838;\n",
       "                }\n",
       "\n",
       "                .geemap-colab {\n",
       "                    background-color: var(--colab-primary-surface-color, white);\n",
       "                }\n",
       "\n",
       "                .geemap-colab .jupyter-button {\n",
       "                    --jp-layout-color3: var(--colab-primary-surface-color, white);\n",
       "                }\n",
       "            </style>\n",
       "            "
      ],
      "text/plain": [
       "<IPython.core.display.HTML object>"
      ]
     },
     "metadata": {},
     "output_type": "display_data"
    },
    {
     "data": {
      "text/plain": [
       "{'type': 'Feature',\n",
       " 'geometry': None,\n",
       " 'id': '00000000000000000000_0',\n",
       " 'properties': {'acq_date': '2018-06-09',\n",
       "  'erc': 92.08238884045336,\n",
       "  'erc_dev': 43.29555197518705,\n",
       "  'fm1000': 5.952092446341345,\n",
       "  'fm1000_dev': -6.854169788210935,\n",
       "  'vpd': 1.8013252251649174,\n",
       "  'vpd_dev': 0.9771088598703653,\n",
       "  'vs': 4.224280634234028,\n",
       "  'vs_dev': 0.16459902183013886}}"
      ]
     },
     "execution_count": 29,
     "metadata": {},
     "output_type": "execute_result"
    }
   ],
   "source": [
    "fire_stats.first().getInfo()"
   ]
  },
  {
   "cell_type": "code",
   "execution_count": 31,
   "id": "32d22d10-d1b2-424f-80c5-47caf6bc80f8",
   "metadata": {},
   "outputs": [
    {
     "data": {
      "text/html": [
       "\n",
       "            <style>\n",
       "                .geemap-dark {\n",
       "                    --jp-widgets-color: white;\n",
       "                    --jp-widgets-label-color: white;\n",
       "                    --jp-ui-font-color1: white;\n",
       "                    --jp-layout-color2: #454545;\n",
       "                    background-color: #383838;\n",
       "                }\n",
       "\n",
       "                .geemap-dark .jupyter-button {\n",
       "                    --jp-layout-color3: #383838;\n",
       "                }\n",
       "\n",
       "                .geemap-colab {\n",
       "                    background-color: var(--colab-primary-surface-color, white);\n",
       "                }\n",
       "\n",
       "                .geemap-colab .jupyter-button {\n",
       "                    --jp-layout-color3: var(--colab-primary-surface-color, white);\n",
       "                }\n",
       "            </style>\n",
       "            "
      ],
      "text/plain": [
       "<IPython.core.display.HTML object>"
      ]
     },
     "metadata": {},
     "output_type": "display_data"
    },
    {
     "name": "stdout",
     "output_type": "stream",
     "text": [
      "Export to Earth Engine Asset started!\n",
      "Waiting for export to finish..\n",
      "\tPatience young padawan.\n",
      "Waiting for export to finish..\n",
      "\tPatience young padawan.\n",
      "Waiting for export to finish..\n",
      "\tPatience young padawan.\n",
      "Waiting for export to finish..\n",
      "\tPatience young padawan.\n",
      "Waiting for export to finish..\n",
      "\tPatience young padawan.\n",
      "Waiting for export to finish..\n",
      "\tPatience young padawan.\n",
      "Waiting for export to finish..\n",
      "\tPatience young padawan.\n",
      "Waiting for export to finish..\n",
      "\tPatience young padawan.\n",
      "Waiting for export to finish..\n",
      "\tPatience young padawan.\n",
      "Waiting for export to finish..\n",
      "\tPatience young padawan.\n",
      "Waiting for export to finish..\n",
      "\tPatience young padawan.\n",
      "Waiting for export to finish..\n",
      "\tPatience young padawan.\n",
      "Waiting for export to finish..\n",
      "\tPatience young padawan.\n",
      "Waiting for export to finish..\n",
      "\tPatience young padawan.\n",
      "Waiting for export to finish..\n",
      "\tPatience young padawan.\n",
      "Waiting for export to finish..\n",
      "\tPatience young padawan.\n",
      "Waiting for export to finish..\n",
      "\tPatience young padawan.\n",
      "Waiting for export to finish..\n",
      "\tPatience young padawan.\n",
      "Waiting for export to finish..\n",
      "\tPatience young padawan.\n",
      "Waiting for export to finish..\n",
      "\tPatience young padawan.\n",
      "Waiting for export to finish..\n",
      "\tPatience young padawan.\n",
      "Waiting for export to finish..\n",
      "\tPatience young padawan.\n",
      "Waiting for export to finish..\n",
      "\tPatience young padawan.\n",
      "Waiting for export to finish..\n",
      "\tPatience young padawan.\n",
      "Waiting for export to finish..\n",
      "\tPatience young padawan.\n",
      "Waiting for export to finish..\n",
      "\tPatience young padawan.\n",
      "Waiting for export to finish..\n",
      "\tPatience young padawan.\n",
      "Waiting for export to finish..\n",
      "\tPatience young padawan.\n",
      "Waiting for export to finish..\n",
      "\tPatience young padawan.\n",
      "Waiting for export to finish..\n",
      "\tPatience young padawan.\n",
      "Waiting for export to finish..\n",
      "\tPatience young padawan.\n",
      "Waiting for export to finish..\n",
      "\tPatience young padawan.\n",
      "Waiting for export to finish..\n",
      "\tPatience young padawan.\n",
      "Waiting for export to finish..\n",
      "\tPatience young padawan.\n",
      "Waiting for export to finish..\n",
      "\tPatience young padawan.\n",
      "Waiting for export to finish..\n",
      "\tPatience young padawan.\n",
      "Waiting for export to finish..\n",
      "\tPatience young padawan.\n",
      "Waiting for export to finish..\n",
      "\tPatience young padawan.\n",
      "Waiting for export to finish..\n",
      "\tPatience young padawan.\n",
      "Waiting for export to finish..\n",
      "\tPatience young padawan.\n",
      "Waiting for export to finish..\n",
      "\tPatience young padawan.\n",
      "Waiting for export to finish..\n",
      "\tPatience young padawan.\n",
      "Waiting for export to finish..\n",
      "\tPatience young padawan.\n",
      "Waiting for export to finish..\n",
      "\tPatience young padawan.\n",
      "Waiting for export to finish..\n",
      "\tPatience young padawan.\n",
      "Waiting for export to finish..\n",
      "\tPatience young padawan.\n",
      "Waiting for export to finish..\n",
      "\tPatience young padawan.\n",
      "Waiting for export to finish..\n",
      "\tPatience young padawan.\n",
      "Waiting for export to finish..\n",
      "\tPatience young padawan.\n",
      "Waiting for export to finish..\n",
      "\tPatience young padawan.\n",
      "Waiting for export to finish..\n",
      "\tPatience young padawan.\n",
      "Waiting for export to finish..\n",
      "\tPatience young padawan.\n",
      "Waiting for export to finish..\n",
      "\tPatience young padawan.\n",
      "Waiting for export to finish..\n",
      "\tPatience young padawan.\n",
      "Waiting for export to finish..\n",
      "\tPatience young padawan.\n",
      "Waiting for export to finish..\n",
      "\tPatience young padawan.\n",
      "Waiting for export to finish..\n",
      "\tPatience young padawan.\n",
      "Waiting for export to finish..\n",
      "\tPatience young padawan.\n",
      "Waiting for export to finish..\n",
      "\tPatience young padawan.\n",
      "Waiting for export to finish..\n",
      "\tPatience young padawan.\n",
      "Waiting for export to finish..\n",
      "\tPatience young padawan.\n",
      "Waiting for export to finish..\n",
      "\tPatience young padawan.\n",
      "Waiting for export to finish..\n",
      "\tPatience young padawan.\n",
      "Waiting for export to finish..\n",
      "\tPatience young padawan.\n",
      "Waiting for export to finish..\n",
      "\tPatience young padawan.\n",
      "Waiting for export to finish..\n",
      "\tPatience young padawan.\n",
      "Waiting for export to finish..\n",
      "\tPatience young padawan.\n",
      "Waiting for export to finish..\n",
      "\tPatience young padawan.\n",
      "Waiting for export to finish..\n",
      "\tPatience young padawan.\n",
      "Waiting for export to finish..\n",
      "\tPatience young padawan.\n",
      "Waiting for export to finish..\n",
      "\tPatience young padawan.\n",
      "Waiting for export to finish..\n",
      "\tPatience young padawan.\n",
      "Waiting for export to finish..\n",
      "\tPatience young padawan.\n",
      "Waiting for export to finish..\n",
      "\tPatience young padawan.\n",
      "Waiting for export to finish..\n",
      "\tPatience young padawan.\n",
      "Waiting for export to finish..\n",
      "\tPatience young padawan.\n",
      "Waiting for export to finish..\n",
      "\tPatience young padawan.\n",
      "Waiting for export to finish..\n",
      "\tPatience young padawan.\n",
      "Waiting for export to finish..\n",
      "\tPatience young padawan.\n",
      "Waiting for export to finish..\n",
      "\tPatience young padawan.\n",
      "Waiting for export to finish..\n",
      "\tPatience young padawan.\n",
      "Waiting for export to finish..\n",
      "\tPatience young padawan.\n",
      "Waiting for export to finish..\n",
      "\tPatience young padawan.\n",
      "Waiting for export to finish..\n",
      "\tPatience young padawan.\n",
      "Waiting for export to finish..\n",
      "\tPatience young padawan.\n",
      "Waiting for export to finish..\n",
      "\tPatience young padawan.\n",
      "Waiting for export to finish..\n",
      "\tPatience young padawan.\n",
      "Waiting for export to finish..\n",
      "\tPatience young padawan.\n",
      "Waiting for export to finish..\n",
      "\tPatience young padawan.\n",
      "Waiting for export to finish..\n",
      "\tPatience young padawan.\n",
      "Waiting for export to finish..\n",
      "\tPatience young padawan.\n",
      "Waiting for export to finish..\n",
      "\tPatience young padawan.\n",
      "Waiting for export to finish..\n",
      "\tPatience young padawan.\n",
      "Waiting for export to finish..\n",
      "\tPatience young padawan.\n",
      "Waiting for export to finish..\n",
      "\tPatience young padawan.\n",
      "Export completed successfully !!!!\n"
     ]
    }
   ],
   "source": [
    "# Export the table. \n",
    "fire_stats = fire_stats.map(lambda ftr: ftr.setGeometry(None)) # drop geometry column\n",
    "\n",
    "export_task = ee.batch.Export.table.toDrive(\n",
    "    collection=fire_stats,\n",
    "    description='vn14img_gridmet',\n",
    "    fileFormat='CSV', \n",
    "    fileNamePrefix='vn14img_gridmet',\n",
    "    folder='GRIDMET'\n",
    ")\n",
    "\n",
    "# Start the export task\n",
    "export_task.start()\n",
    "print(\"Export to Earth Engine Asset started!\")\n",
    "# Monitor the task until it's finished\n",
    "monitor_export(export_task, 60) "
   ]
  }
 ],
 "metadata": {
  "kernelspec": {
   "display_name": "aspen-fire",
   "language": "python",
   "name": "aspen-fire"
  },
  "language_info": {
   "codemirror_mode": {
    "name": "ipython",
    "version": 3
   },
   "file_extension": ".py",
   "mimetype": "text/x-python",
   "name": "python",
   "nbconvert_exporter": "python",
   "pygments_lexer": "ipython3",
   "version": "3.10.12"
  }
 },
 "nbformat": 4,
 "nbformat_minor": 5
}
