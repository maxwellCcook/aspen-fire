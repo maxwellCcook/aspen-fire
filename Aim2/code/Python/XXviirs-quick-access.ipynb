{
 "cells": [
  {
   "cell_type": "code",
   "execution_count": 10,
   "id": "a6a1019d-8b74-4d25-b9ba-d426b9de0e08",
   "metadata": {},
   "outputs": [
    {
     "name": "stdout",
     "output_type": "stream",
     "text": [
      "Ready !\n"
     ]
    }
   ],
   "source": [
    "\"\"\"\n",
    "Simple VIIRS access\n",
    "\"\"\"\n",
    "\n",
    "import sys, os, shutil\n",
    "import earthaccess\n",
    "import geopandas as gpd\n",
    "import pandas as pd\n",
    "import rioxarray as rxr\n",
    "import rasterio as rio\n",
    "import math\n",
    "import traceback\n",
    "import datetime as dt\n",
    "import xarray as xr\n",
    "import pyproj\n",
    "import datetime\n",
    "\n",
    "from netCDF4 import Dataset \n",
    "from datetime import datetime\n",
    "from datetime import timedelta\n",
    "from matplotlib import pyplot as plt\n",
    "from affine import Affine\n",
    "from osgeo import gdal, gdal_array, gdalconst, osr\n",
    "from rasterio.transform import from_bounds\n",
    "from scipy.spatial import cKDTree\n",
    "from urllib.parse import urlparse\n",
    "\n",
    "import warnings\n",
    "warnings.simplefilter('ignore')\n",
    "warnings.filterwarnings('ignore')\n",
    "import logging\n",
    "logging.getLogger('earthaccess').setLevel(logging.ERROR)\n",
    "\n",
    "# Custom functions\n",
    "sys.path.append(os.path.join(os.getcwd(),'code/'))\n",
    "from __functions import *\n",
    "        \n",
    "# Directories\n",
    "maindir = '/Users/max/Library/CloudStorage/OneDrive-Personal/mcook/'\n",
    "projdir = os.path.join(maindir, 'aspen-fire/Aim2/')\n",
    "\n",
    "# Output directories\n",
    "dataraw = os.path.join(projdir,'data/spatial/raw/VIIRS/')\n",
    "datamod = os.path.join(projdir,'data/spatial/mod/VIIRS/')\n",
    "\n",
    "# load the lookup table for pixel sizes\n",
    "lut = pd.read_csv(os.path.join(projdir,'data/tabular/raw/pix_size_lut.csv'))\n",
    "\n",
    "print(\"Ready !\")"
   ]
  },
  {
   "cell_type": "code",
   "execution_count": 30,
   "id": "ad8e1584-e81c-4661-876c-75a1e4fc49d4",
   "metadata": {},
   "outputs": [],
   "source": [
    "def create_fire_gdf(extent, query):\n",
    "    \"\"\" Creates a geodataframe with active fire detections from a directory with NetCDF files \"\"\"\n",
    "\n",
    "    granule_dfs = [] # to store the geolocated AFDs\n",
    "    # granule_log = os.path.join(datamod, 'logs/processed_granules.txt')\n",
    "    \n",
    "    # Identify VNP14 vs. VNP03\n",
    "    vnp14_files = [g.data_links()[0] for g in query if 'VNP14IMG' in g.data_links()[0]]\n",
    "    vnp03_files = [g.data_links()[0] for g in query if 'VNP03IMG' in g.data_links()[0]]\n",
    "    \n",
    "    nprint = 10 # print counter\n",
    "    for idx, vnp14 in enumerate(sorted(vnp14_files)):\n",
    "\n",
    "        df = pd.DataFrame() # to store the active fire data\n",
    "            \n",
    "        # check if the granule has been processed\n",
    "        url = urlparse(vnp14)\n",
    "        granule_id = os.path.basename(url.path)    \n",
    "\n",
    "        # gather information from file name\n",
    "        timestamp = granule_id.split('.')[1:3]\n",
    "        year = timestamp[0][1:5]\n",
    "        day = timestamp[0][5:8]\n",
    "        time = timestamp[1]\n",
    "        date = dt.datetime.strptime(year+day, '%Y%j').strftime('%b %d') \n",
    "        acq_date = dt.datetime.strptime(year+day, '%Y%j').strftime('%-m/%-d/%Y')\n",
    "        daytime = int(time) > 1500 #timestamps in the 1900h-2200h UTC range are afternoon for Western US\n",
    "        \n",
    "        # Identify the corresponding geolocation file\n",
    "        geo_id = 'VNP03IMG.' + \".\".join(timestamp)\n",
    "        \n",
    "        # Filter the search query to the matching VNP14 and VNP03\n",
    "        query_ = [item for item in query if \".\".join(timestamp) in item.data_links()[0]]\n",
    "        # Open the VNP14IMG and gather the data\n",
    "        fileset = earthaccess.open(query_)  \n",
    "        vnp14 = fileset[1]\n",
    "        vnp03 = fileset[0]\n",
    "        \n",
    "        with xr.open_dataset(vnp14, phony_dims='access') as vnp14ds:\n",
    "\n",
    "            # Check for fire pixels in the specified region\n",
    "            lonfp = vnp14ds.variables['FP_longitude'][:] # fire pixel longitude\n",
    "            latfp = vnp14ds.variables['FP_latitude'][:] # fire pixel latitude\n",
    "            fire_scene = ((lonfp > extent[0]) & (lonfp < extent[1]) & \n",
    "                          (latfp > extent[2]) & (latfp < extent[3]))\n",
    "            if not fire_scene.any():  # Check for any fire pixels in region\n",
    "                print(f\"\\n\\tNo active fires detected in {granule_id}. Skipping...\")\n",
    "                # with open(granule_log, 'a') as log_file:\n",
    "                #     log_file.write(f\"{granule_id}\\n\") # log this granule as \"processed\"\n",
    "                continue # skip if no fire pixels in region\n",
    "\n",
    "            # granule attributes\n",
    "            daynight = vnp14ds.DayNightFlag #string Day or Night\n",
    "            granule_id = vnp14ds.LocalGranuleID\n",
    "\n",
    "            # variables\n",
    "            fire = vnp14ds['fire mask'] # the fire mask\n",
    "            frp = vnp14ds.variables['FP_power'][:] # fire radiative power\n",
    "            t4 = vnp14ds.variables['FP_T4'][:] # I04 brightness temp (kelvins)\n",
    "            t5 = vnp14ds.variables['FP_T5'][:] # I05 brightness temp (kelvins)\n",
    "            \n",
    "            tree = cKDTree(np.array([lonfp, latfp]).T) #search tree for finding nearest FRP\n",
    "\n",
    "            del fire_scene\n",
    "            \n",
    "        # Read the geolocation data \n",
    "        with xr.open_dataset(vnp03, group='geolocation_data', phony_dims='access') as geo_ds:\n",
    "            i, j = np.indices(geo_ds.longitude.shape) #line and sample\n",
    "            # Crop to fire bounding extent\n",
    "            geo_scene = ((geo_ds.longitude > extent[0]) & (geo_ds.longitude < extent[1]) & \n",
    "                         (geo_ds.latitude > extent[2]) & (geo_ds.latitude < extent[3])).values\n",
    "        \n",
    "        # Populate the dataframe\n",
    "        df['longitude'] = list(geo_ds.longitude.values[geo_scene])\n",
    "        df['latitude'] = list(geo_ds.latitude.values[geo_scene])\n",
    "        df['fire_mask'] = list(fire.values[geo_scene])\n",
    "        df['confidence'] = pd.Categorical( df.fire_mask)\n",
    "        # df.confidence = df.confidence.replace(\n",
    "        #     {0:'x', 1:'x', 2:'x', 3:'x', 4:'x', 5:'x', 6:'x', 7:'l', 8:'n', 9:'h'})\n",
    "        df['daynight'] = daynight\n",
    "        df['acq_date'] = acq_date\n",
    "        df['acq_time'] = time\n",
    "        df['granule_id'] = granule_id\n",
    "        df['geo_id'] = geo_id\n",
    "        df['j'] = list(j[geo_scene]) #sample number for pixel size lookup\n",
    "        \n",
    "        # Retain only low-high confidence fire points\n",
    "        # df = df[df.confidence!='x'] # keep only low-high confidence fire pixels\n",
    "    \n",
    "        # gather frp, brightness temps for nearest geolocated obs.\n",
    "        for k in df.index:\n",
    "            dist, nearest = tree.query([ df.loc[k, 'longitude'], df.loc[k, 'latitude'] ])\n",
    "            df.loc[k, 'frp'] = frp[nearest].item()\n",
    "            df.loc[k, 'iot4'] = t4[nearest].item()\n",
    "            df.loc[k, 'iot5'] = t5[nearest].item()\n",
    "    \n",
    "        # Join to pixel size info\n",
    "        df_ = pd.merge(df, lut, left_on='j', right_on='sample', how='left')\n",
    "        df_.drop(columns=['j'], inplace=True)\n",
    "        \n",
    "        granule_dfs.append(df_) # append the granule dataframe\n",
    "\n",
    "        # # write out the csv file\n",
    "        # out_dir = os.path.join(datamod,'granules')\n",
    "        # if not os.path.exists(out_dir):\n",
    "        #     os.makedirs(out_dir)\n",
    "        # out_fp = os.path.join(out_dir,f'{granule_id.replace(\".\",\"_\")}.csv')\n",
    "        # df_.to_csv(out_fp)\n",
    "\n",
    "        # # write the granule id to the log file\n",
    "        # with open(granule_log, 'a') as log_file:\n",
    "        #     log_file.write(f\"{granule_id}\\n\")\n",
    "\n",
    "        # clear up some memory and log the processed granule\n",
    "        # del df, i, j, geo_scene, fire, latfp, lonfp, frp, tree, df_\n",
    "        # if self.download is True:\n",
    "        #     os.remove(vnp14)\n",
    "        #     os.remove(vnp03)\n",
    "            \n",
    "        if idx % nprint == 0:\n",
    "            print(f\"\\n\\tProcessed {idx+1} granules.\\n\")\n",
    "\n",
    "    gc.collect() # clear out garbage\n",
    "    \n",
    "    # Concatenate the out dfs\n",
    "    if len(granule_dfs) > 0:\n",
    "        fire_data = pd.concat(granule_dfs) # for the entire list of granules\n",
    "        return fire_data\n",
    "    else:\n",
    "        return None"
   ]
  },
  {
   "cell_type": "code",
   "execution_count": null,
   "id": "1eefa1d0-af0e-47cc-94b4-82d5e4cce41c",
   "metadata": {},
   "outputs": [],
   "source": []
  },
  {
   "cell_type": "code",
   "execution_count": 21,
   "id": "e17fa318-3037-497f-a6e7-7c66b1b6464e",
   "metadata": {},
   "outputs": [
    {
     "name": "stdout",
     "output_type": "stream",
     "text": [
      "Available attributes: \n",
      "Index(['Fire_ID', 'Fire_Name', 'NIFC_ACRES', 'FINAL_ACRES', 'pct_aspen',\n",
      "       'INCIDENT_ID', 'INCIDENT_NAME', 'START_YEAR', 'CAUSE', 'DISCOVERY_DATE',\n",
      "       'DISCOVERY_DOY', 'WF_CESSATION_DATE', 'WF_CESSATION_DOY',\n",
      "       'STR_DESTROYED_TOTAL', 'STR_DAMAGED_TOTAL', 'STR_THREATENED_MAX',\n",
      "       'EVACUATION_REPORTED', 'PEAK_EVACUATIONS', 'WF_PEAK_AERIAL',\n",
      "       'WF_PEAK_PERSONNEL', 'na_l3name', 'geometry'],\n",
      "      dtype='object')\n",
      "\n",
      "There are [67] fires.\n"
     ]
    }
   ],
   "source": [
    "# Load the fire dataset for the Southern Rockies\n",
    "fp = os.path.join(projdir,'data/spatial/mod/NIFC/nifc-ics_2018_to_2023-aspen.gpkg')\n",
    "fires = gpd.read_file(fp)\n",
    "\n",
    "# subset to Southern Rockies\n",
    "fires = fires[fires['na_l3name'] == 'Southern Rockies']\n",
    "\n",
    "# tidy the fire id and name columns\n",
    "fires.rename(columns={'NIFC_ID': 'Fire_ID', 'NIFC_NAME': 'Fire_Name'}, inplace=True)\n",
    "# tify the date columns\n",
    "fires['DISCOVERY_DATE'] = pd.to_datetime(fires['DISCOVERY_DATE']).dt.date\n",
    "fires['WF_CESSATION_DATE'] = pd.to_datetime(fires['WF_CESSATION_DATE']).dt.date\n",
    "\n",
    "# # Adjust the start and end dates\n",
    "# fires['start_date'] = fires['DISCOVERY_DATE'] - timedelta(days=5)\n",
    "# fires['end_date'] = fires['WF_CESSATION_DATE'] + timedelta(days=5)\n",
    "\n",
    "print(f\"Available attributes: \\n{fires.columns}\")\n",
    "print(f\"\\nThere are [{len(fires)}] fires.\")"
   ]
  },
  {
   "cell_type": "code",
   "execution_count": 36,
   "id": "6c7dd995-a16e-4dbb-806c-63b504dad8a7",
   "metadata": {},
   "outputs": [
    {
     "data": {
      "text/html": [
       "<div>\n",
       "<style scoped>\n",
       "    .dataframe tbody tr th:only-of-type {\n",
       "        vertical-align: middle;\n",
       "    }\n",
       "\n",
       "    .dataframe tbody tr th {\n",
       "        vertical-align: top;\n",
       "    }\n",
       "\n",
       "    .dataframe thead th {\n",
       "        text-align: right;\n",
       "    }\n",
       "</style>\n",
       "<table border=\"1\" class=\"dataframe\">\n",
       "  <thead>\n",
       "    <tr style=\"text-align: right;\">\n",
       "      <th></th>\n",
       "      <th>Fire_ID</th>\n",
       "      <th>Fire_Name</th>\n",
       "      <th>NIFC_ACRES</th>\n",
       "      <th>FINAL_ACRES</th>\n",
       "      <th>pct_aspen</th>\n",
       "      <th>INCIDENT_ID</th>\n",
       "      <th>INCIDENT_NAME</th>\n",
       "      <th>START_YEAR</th>\n",
       "      <th>CAUSE</th>\n",
       "      <th>DISCOVERY_DATE</th>\n",
       "      <th>...</th>\n",
       "      <th>WF_CESSATION_DOY</th>\n",
       "      <th>STR_DESTROYED_TOTAL</th>\n",
       "      <th>STR_DAMAGED_TOTAL</th>\n",
       "      <th>STR_THREATENED_MAX</th>\n",
       "      <th>EVACUATION_REPORTED</th>\n",
       "      <th>PEAK_EVACUATIONS</th>\n",
       "      <th>WF_PEAK_AERIAL</th>\n",
       "      <th>WF_PEAK_PERSONNEL</th>\n",
       "      <th>na_l3name</th>\n",
       "      <th>geometry</th>\n",
       "    </tr>\n",
       "  </thead>\n",
       "  <tbody>\n",
       "    <tr>\n",
       "      <th>49</th>\n",
       "      <td>13356</td>\n",
       "      <td>CALF CANYON</td>\n",
       "      <td>299792.6</td>\n",
       "      <td>341735</td>\n",
       "      <td>3.322412</td>\n",
       "      <td>2022_14425222_HERMITS PEAK</td>\n",
       "      <td>HERMITS PEAK</td>\n",
       "      <td>2022</td>\n",
       "      <td>H</td>\n",
       "      <td>2022-04-06</td>\n",
       "      <td>...</td>\n",
       "      <td>165</td>\n",
       "      <td>903</td>\n",
       "      <td>903</td>\n",
       "      <td>22289</td>\n",
       "      <td>1</td>\n",
       "      <td>11973</td>\n",
       "      <td>33</td>\n",
       "      <td>1248.5</td>\n",
       "      <td>Southern Rockies</td>\n",
       "      <td>MULTIPOLYGON (((-835981.980 1484287.075, -8359...</td>\n",
       "    </tr>\n",
       "  </tbody>\n",
       "</table>\n",
       "<p>1 rows × 22 columns</p>\n",
       "</div>"
      ],
      "text/plain": [
       "   Fire_ID    Fire_Name NIFC_ACRES FINAL_ACRES  pct_aspen  \\\n",
       "49   13356  CALF CANYON   299792.6      341735   3.322412   \n",
       "\n",
       "                   INCIDENT_ID INCIDENT_NAME START_YEAR CAUSE DISCOVERY_DATE  \\\n",
       "49  2022_14425222_HERMITS PEAK  HERMITS PEAK       2022     H     2022-04-06   \n",
       "\n",
       "    ... WF_CESSATION_DOY STR_DESTROYED_TOTAL STR_DAMAGED_TOTAL  \\\n",
       "49  ...              165                 903               903   \n",
       "\n",
       "   STR_THREATENED_MAX EVACUATION_REPORTED PEAK_EVACUATIONS WF_PEAK_AERIAL  \\\n",
       "49              22289                   1            11973             33   \n",
       "\n",
       "   WF_PEAK_PERSONNEL         na_l3name  \\\n",
       "49            1248.5  Southern Rockies   \n",
       "\n",
       "                                             geometry  \n",
       "49  MULTIPOLYGON (((-835981.980 1484287.075, -8359...  \n",
       "\n",
       "[1 rows x 22 columns]"
      ]
     },
     "execution_count": 36,
     "metadata": {},
     "output_type": "execute_result"
    }
   ],
   "source": [
    "fire = fires[fires['Fire_Name'] == 'CALF CANYON']\n",
    "fire.head()"
   ]
  },
  {
   "cell_type": "code",
   "execution_count": 37,
   "id": "8b875630-b47c-4ed4-bb39-2b8284145671",
   "metadata": {},
   "outputs": [
    {
     "name": "stdout",
     "output_type": "stream",
     "text": [
      "49    2022-04-06\n",
      "Name: DISCOVERY_DATE, dtype: object\n",
      "49    2022-06-14\n",
      "Name: WF_CESSATION_DATE, dtype: object\n"
     ]
    }
   ],
   "source": [
    "print(fire['DISCOVERY_DATE'])\n",
    "print(fire['WF_CESSATION_DATE'])"
   ]
  },
  {
   "cell_type": "code",
   "execution_count": 39,
   "id": "53d0bd2f-4b51-4dc9-b291-1bbc75fb55cf",
   "metadata": {},
   "outputs": [],
   "source": [
    "coords, extent = get_coords(fire, 1000)"
   ]
  },
  {
   "cell_type": "code",
   "execution_count": 42,
   "id": "d8081853-7e3e-48e6-9b31-2e785b08b8dc",
   "metadata": {},
   "outputs": [],
   "source": [
    "start_date = '2022-6-13'\n",
    "end_date = '2022-6-17'"
   ]
  },
  {
   "cell_type": "code",
   "execution_count": 43,
   "id": "33017767-ec0a-4c5e-99f0-7877e3e30147",
   "metadata": {},
   "outputs": [
    {
     "name": "stdout",
     "output_type": "stream",
     "text": [
      "Granules found: 26\n"
     ]
    }
   ],
   "source": [
    "query = earthaccess.search_data(\n",
    "    short_name=['VNP14IMG','VNP03IMG'], \n",
    "    polygon=coords,\n",
    "    temporal=(str(start_date), str(end_date)), \n",
    "    cloud_hosted=True,\n",
    "    count=-1\n",
    ")"
   ]
  },
  {
   "cell_type": "code",
   "execution_count": 44,
   "id": "cc6dc7e4-b071-4713-8119-0d0fbb936a0f",
   "metadata": {},
   "outputs": [
    {
     "name": "stdout",
     "output_type": "stream",
     "text": [
      "Opening 2 granules, approx size: 0.16 GB\n"
     ]
    },
    {
     "data": {
      "application/vnd.jupyter.widget-view+json": {
       "model_id": "6a1aaf8704294d808f0ab4b33575380b",
       "version_major": 2,
       "version_minor": 0
      },
      "text/plain": [
       "QUEUEING TASKS | :   0%|          | 0/2 [00:00<?, ?it/s]"
      ]
     },
     "metadata": {},
     "output_type": "display_data"
    },
    {
     "data": {
      "application/vnd.jupyter.widget-view+json": {
       "model_id": "bb81a59368ff470199e1bea4024c8bce",
       "version_major": 2,
       "version_minor": 0
      },
      "text/plain": [
       "PROCESSING TASKS | :   0%|          | 0/2 [00:00<?, ?it/s]"
      ]
     },
     "metadata": {},
     "output_type": "display_data"
    },
    {
     "data": {
      "application/vnd.jupyter.widget-view+json": {
       "model_id": "a8fb4df703324b0f85ec9577bd7fe60d",
       "version_major": 2,
       "version_minor": 0
      },
      "text/plain": [
       "COLLECTING RESULTS | :   0%|          | 0/2 [00:00<?, ?it/s]"
      ]
     },
     "metadata": {},
     "output_type": "display_data"
    },
    {
     "name": "stdout",
     "output_type": "stream",
     "text": [
      "\n",
      "\tProcessed 1 granules.\n",
      "\n",
      "Opening 2 granules, approx size: 0.14 GB\n"
     ]
    },
    {
     "data": {
      "application/vnd.jupyter.widget-view+json": {
       "model_id": "dd02a86e332d43ff8cd05a8c88b5b15c",
       "version_major": 2,
       "version_minor": 0
      },
      "text/plain": [
       "QUEUEING TASKS | :   0%|          | 0/2 [00:00<?, ?it/s]"
      ]
     },
     "metadata": {},
     "output_type": "display_data"
    },
    {
     "data": {
      "application/vnd.jupyter.widget-view+json": {
       "model_id": "50cc3d2813be48ceb737f8b7bb2fece2",
       "version_major": 2,
       "version_minor": 0
      },
      "text/plain": [
       "PROCESSING TASKS | :   0%|          | 0/2 [00:00<?, ?it/s]"
      ]
     },
     "metadata": {},
     "output_type": "display_data"
    },
    {
     "data": {
      "application/vnd.jupyter.widget-view+json": {
       "model_id": "c2ef4b7baad74204846ccc882c3075ed",
       "version_major": 2,
       "version_minor": 0
      },
      "text/plain": [
       "COLLECTING RESULTS | :   0%|          | 0/2 [00:00<?, ?it/s]"
      ]
     },
     "metadata": {},
     "output_type": "display_data"
    },
    {
     "name": "stdout",
     "output_type": "stream",
     "text": [
      "Opening 2 granules, approx size: 0.16 GB\n"
     ]
    },
    {
     "data": {
      "application/vnd.jupyter.widget-view+json": {
       "model_id": "df9dc8f3f1564d80b077ff4ec1aa4f07",
       "version_major": 2,
       "version_minor": 0
      },
      "text/plain": [
       "QUEUEING TASKS | :   0%|          | 0/2 [00:00<?, ?it/s]"
      ]
     },
     "metadata": {},
     "output_type": "display_data"
    },
    {
     "data": {
      "application/vnd.jupyter.widget-view+json": {
       "model_id": "9ed28af4befd467e816db0ff21b34d55",
       "version_major": 2,
       "version_minor": 0
      },
      "text/plain": [
       "PROCESSING TASKS | :   0%|          | 0/2 [00:00<?, ?it/s]"
      ]
     },
     "metadata": {},
     "output_type": "display_data"
    },
    {
     "data": {
      "application/vnd.jupyter.widget-view+json": {
       "model_id": "a0a3da20915242ecb90600848a2a9816",
       "version_major": 2,
       "version_minor": 0
      },
      "text/plain": [
       "COLLECTING RESULTS | :   0%|          | 0/2 [00:00<?, ?it/s]"
      ]
     },
     "metadata": {},
     "output_type": "display_data"
    },
    {
     "name": "stdout",
     "output_type": "stream",
     "text": [
      "Opening 2 granules, approx size: 0.15 GB\n"
     ]
    },
    {
     "data": {
      "application/vnd.jupyter.widget-view+json": {
       "model_id": "feda9fd214a04ce09f5fd5abf356b15e",
       "version_major": 2,
       "version_minor": 0
      },
      "text/plain": [
       "QUEUEING TASKS | :   0%|          | 0/2 [00:00<?, ?it/s]"
      ]
     },
     "metadata": {},
     "output_type": "display_data"
    },
    {
     "data": {
      "application/vnd.jupyter.widget-view+json": {
       "model_id": "4bd7fb3371fc4637b77f95e568c60bef",
       "version_major": 2,
       "version_minor": 0
      },
      "text/plain": [
       "PROCESSING TASKS | :   0%|          | 0/2 [00:00<?, ?it/s]"
      ]
     },
     "metadata": {},
     "output_type": "display_data"
    },
    {
     "data": {
      "application/vnd.jupyter.widget-view+json": {
       "model_id": "2b833066eac14f7580a1832fe2604891",
       "version_major": 2,
       "version_minor": 0
      },
      "text/plain": [
       "COLLECTING RESULTS | :   0%|          | 0/2 [00:00<?, ?it/s]"
      ]
     },
     "metadata": {},
     "output_type": "display_data"
    },
    {
     "name": "stdout",
     "output_type": "stream",
     "text": [
      "\n",
      "\tNo active fires detected in VNP14IMG.A2022164.2106.002.2024076132819.nc. Skipping...\n",
      "Opening 2 granules, approx size: 0.15 GB\n"
     ]
    },
    {
     "data": {
      "application/vnd.jupyter.widget-view+json": {
       "model_id": "22eaa0c4f38d4b0182abe8a39d974a93",
       "version_major": 2,
       "version_minor": 0
      },
      "text/plain": [
       "QUEUEING TASKS | :   0%|          | 0/2 [00:00<?, ?it/s]"
      ]
     },
     "metadata": {},
     "output_type": "display_data"
    },
    {
     "data": {
      "application/vnd.jupyter.widget-view+json": {
       "model_id": "06cbf95714914215b04442200d260682",
       "version_major": 2,
       "version_minor": 0
      },
      "text/plain": [
       "PROCESSING TASKS | :   0%|          | 0/2 [00:00<?, ?it/s]"
      ]
     },
     "metadata": {},
     "output_type": "display_data"
    },
    {
     "data": {
      "application/vnd.jupyter.widget-view+json": {
       "model_id": "5d0143e0d4474ab182b89ff3c1f8660f",
       "version_major": 2,
       "version_minor": 0
      },
      "text/plain": [
       "COLLECTING RESULTS | :   0%|          | 0/2 [00:00<?, ?it/s]"
      ]
     },
     "metadata": {},
     "output_type": "display_data"
    },
    {
     "name": "stdout",
     "output_type": "stream",
     "text": [
      "Opening 2 granules, approx size: 0.14 GB\n"
     ]
    },
    {
     "data": {
      "application/vnd.jupyter.widget-view+json": {
       "model_id": "de4b49fd1ef4441f95132ca70960bde2",
       "version_major": 2,
       "version_minor": 0
      },
      "text/plain": [
       "QUEUEING TASKS | :   0%|          | 0/2 [00:00<?, ?it/s]"
      ]
     },
     "metadata": {},
     "output_type": "display_data"
    },
    {
     "data": {
      "application/vnd.jupyter.widget-view+json": {
       "model_id": "f222de6f0dc5453c80818c58b54df5fe",
       "version_major": 2,
       "version_minor": 0
      },
      "text/plain": [
       "PROCESSING TASKS | :   0%|          | 0/2 [00:00<?, ?it/s]"
      ]
     },
     "metadata": {},
     "output_type": "display_data"
    },
    {
     "data": {
      "application/vnd.jupyter.widget-view+json": {
       "model_id": "254bbdd043c04b02a5baa79d99c422ac",
       "version_major": 2,
       "version_minor": 0
      },
      "text/plain": [
       "COLLECTING RESULTS | :   0%|          | 0/2 [00:00<?, ?it/s]"
      ]
     },
     "metadata": {},
     "output_type": "display_data"
    },
    {
     "name": "stdout",
     "output_type": "stream",
     "text": [
      "Opening 2 granules, approx size: 0.16 GB\n"
     ]
    },
    {
     "data": {
      "application/vnd.jupyter.widget-view+json": {
       "model_id": "de512def528a42e188a32cef6345a5a5",
       "version_major": 2,
       "version_minor": 0
      },
      "text/plain": [
       "QUEUEING TASKS | :   0%|          | 0/2 [00:00<?, ?it/s]"
      ]
     },
     "metadata": {},
     "output_type": "display_data"
    },
    {
     "data": {
      "application/vnd.jupyter.widget-view+json": {
       "model_id": "7374b4e50b674ca98c53b5b190cdd000",
       "version_major": 2,
       "version_minor": 0
      },
      "text/plain": [
       "PROCESSING TASKS | :   0%|          | 0/2 [00:00<?, ?it/s]"
      ]
     },
     "metadata": {},
     "output_type": "display_data"
    },
    {
     "data": {
      "application/vnd.jupyter.widget-view+json": {
       "model_id": "432059bd892142f6b1deb0c978b042f7",
       "version_major": 2,
       "version_minor": 0
      },
      "text/plain": [
       "COLLECTING RESULTS | :   0%|          | 0/2 [00:00<?, ?it/s]"
      ]
     },
     "metadata": {},
     "output_type": "display_data"
    },
    {
     "name": "stdout",
     "output_type": "stream",
     "text": [
      "Opening 2 granules, approx size: 0.16 GB\n"
     ]
    },
    {
     "data": {
      "application/vnd.jupyter.widget-view+json": {
       "model_id": "4c878024e33743eb95be500128f75f2a",
       "version_major": 2,
       "version_minor": 0
      },
      "text/plain": [
       "QUEUEING TASKS | :   0%|          | 0/2 [00:00<?, ?it/s]"
      ]
     },
     "metadata": {},
     "output_type": "display_data"
    },
    {
     "data": {
      "application/vnd.jupyter.widget-view+json": {
       "model_id": "91f8690f07ae4e26af222da002fbc16d",
       "version_major": 2,
       "version_minor": 0
      },
      "text/plain": [
       "PROCESSING TASKS | :   0%|          | 0/2 [00:00<?, ?it/s]"
      ]
     },
     "metadata": {},
     "output_type": "display_data"
    },
    {
     "data": {
      "application/vnd.jupyter.widget-view+json": {
       "model_id": "6e67f18f3b6d4d1da99d5535968af8a8",
       "version_major": 2,
       "version_minor": 0
      },
      "text/plain": [
       "COLLECTING RESULTS | :   0%|          | 0/2 [00:00<?, ?it/s]"
      ]
     },
     "metadata": {},
     "output_type": "display_data"
    },
    {
     "name": "stdout",
     "output_type": "stream",
     "text": [
      "Opening 2 granules, approx size: 0.17 GB\n"
     ]
    },
    {
     "data": {
      "application/vnd.jupyter.widget-view+json": {
       "model_id": "815ba5c8a3614381aebc048464353202",
       "version_major": 2,
       "version_minor": 0
      },
      "text/plain": [
       "QUEUEING TASKS | :   0%|          | 0/2 [00:00<?, ?it/s]"
      ]
     },
     "metadata": {},
     "output_type": "display_data"
    },
    {
     "data": {
      "application/vnd.jupyter.widget-view+json": {
       "model_id": "bb7a533a0623478e82e1ba63816e5351",
       "version_major": 2,
       "version_minor": 0
      },
      "text/plain": [
       "PROCESSING TASKS | :   0%|          | 0/2 [00:00<?, ?it/s]"
      ]
     },
     "metadata": {},
     "output_type": "display_data"
    },
    {
     "data": {
      "application/vnd.jupyter.widget-view+json": {
       "model_id": "8e12ce624eff44ef98c07d300b897e7b",
       "version_major": 2,
       "version_minor": 0
      },
      "text/plain": [
       "COLLECTING RESULTS | :   0%|          | 0/2 [00:00<?, ?it/s]"
      ]
     },
     "metadata": {},
     "output_type": "display_data"
    },
    {
     "name": "stdout",
     "output_type": "stream",
     "text": [
      "Opening 2 granules, approx size: 0.16 GB\n"
     ]
    },
    {
     "data": {
      "application/vnd.jupyter.widget-view+json": {
       "model_id": "27d479bff00f49d4b42553375ef5abda",
       "version_major": 2,
       "version_minor": 0
      },
      "text/plain": [
       "QUEUEING TASKS | :   0%|          | 0/2 [00:00<?, ?it/s]"
      ]
     },
     "metadata": {},
     "output_type": "display_data"
    },
    {
     "data": {
      "application/vnd.jupyter.widget-view+json": {
       "model_id": "0d8ca5726f4d43388870bc4e4064cad1",
       "version_major": 2,
       "version_minor": 0
      },
      "text/plain": [
       "PROCESSING TASKS | :   0%|          | 0/2 [00:00<?, ?it/s]"
      ]
     },
     "metadata": {},
     "output_type": "display_data"
    },
    {
     "data": {
      "application/vnd.jupyter.widget-view+json": {
       "model_id": "9aadbf2c52a249cf970d489e663159a1",
       "version_major": 2,
       "version_minor": 0
      },
      "text/plain": [
       "COLLECTING RESULTS | :   0%|          | 0/2 [00:00<?, ?it/s]"
      ]
     },
     "metadata": {},
     "output_type": "display_data"
    },
    {
     "name": "stdout",
     "output_type": "stream",
     "text": [
      "Opening 2 granules, approx size: 0.17 GB\n"
     ]
    },
    {
     "data": {
      "application/vnd.jupyter.widget-view+json": {
       "model_id": "b252a830159a4867b79cffd8c4c40efb",
       "version_major": 2,
       "version_minor": 0
      },
      "text/plain": [
       "QUEUEING TASKS | :   0%|          | 0/2 [00:00<?, ?it/s]"
      ]
     },
     "metadata": {},
     "output_type": "display_data"
    },
    {
     "data": {
      "application/vnd.jupyter.widget-view+json": {
       "model_id": "05076262b7214245bc670a3d6bd49794",
       "version_major": 2,
       "version_minor": 0
      },
      "text/plain": [
       "PROCESSING TASKS | :   0%|          | 0/2 [00:00<?, ?it/s]"
      ]
     },
     "metadata": {},
     "output_type": "display_data"
    },
    {
     "data": {
      "application/vnd.jupyter.widget-view+json": {
       "model_id": "d76cb7eb348d47f7b051e76427f7b6ad",
       "version_major": 2,
       "version_minor": 0
      },
      "text/plain": [
       "COLLECTING RESULTS | :   0%|          | 0/2 [00:00<?, ?it/s]"
      ]
     },
     "metadata": {},
     "output_type": "display_data"
    },
    {
     "name": "stdout",
     "output_type": "stream",
     "text": [
      "\n",
      "\tProcessed 11 granules.\n",
      "\n",
      "Opening 2 granules, approx size: 0.17 GB\n"
     ]
    },
    {
     "data": {
      "application/vnd.jupyter.widget-view+json": {
       "model_id": "22b31a72fb9a46b9800edc8529163bd5",
       "version_major": 2,
       "version_minor": 0
      },
      "text/plain": [
       "QUEUEING TASKS | :   0%|          | 0/2 [00:00<?, ?it/s]"
      ]
     },
     "metadata": {},
     "output_type": "display_data"
    },
    {
     "data": {
      "application/vnd.jupyter.widget-view+json": {
       "model_id": "c206b271fa51479cb5f5606191f11929",
       "version_major": 2,
       "version_minor": 0
      },
      "text/plain": [
       "PROCESSING TASKS | :   0%|          | 0/2 [00:00<?, ?it/s]"
      ]
     },
     "metadata": {},
     "output_type": "display_data"
    },
    {
     "data": {
      "application/vnd.jupyter.widget-view+json": {
       "model_id": "adae4f9b54324e168720200cf72b5921",
       "version_major": 2,
       "version_minor": 0
      },
      "text/plain": [
       "COLLECTING RESULTS | :   0%|          | 0/2 [00:00<?, ?it/s]"
      ]
     },
     "metadata": {},
     "output_type": "display_data"
    },
    {
     "name": "stdout",
     "output_type": "stream",
     "text": [
      "Opening 2 granules, approx size: 0.17 GB\n"
     ]
    },
    {
     "data": {
      "application/vnd.jupyter.widget-view+json": {
       "model_id": "8a11a3f0664b4b18ab50f7d7c2859c30",
       "version_major": 2,
       "version_minor": 0
      },
      "text/plain": [
       "QUEUEING TASKS | :   0%|          | 0/2 [00:00<?, ?it/s]"
      ]
     },
     "metadata": {},
     "output_type": "display_data"
    },
    {
     "data": {
      "application/vnd.jupyter.widget-view+json": {
       "model_id": "374d06f746c640429f7bb08a2f8abc1d",
       "version_major": 2,
       "version_minor": 0
      },
      "text/plain": [
       "PROCESSING TASKS | :   0%|          | 0/2 [00:00<?, ?it/s]"
      ]
     },
     "metadata": {},
     "output_type": "display_data"
    },
    {
     "data": {
      "application/vnd.jupyter.widget-view+json": {
       "model_id": "588efe29764a43b78a2905e1fe392259",
       "version_major": 2,
       "version_minor": 0
      },
      "text/plain": [
       "COLLECTING RESULTS | :   0%|          | 0/2 [00:00<?, ?it/s]"
      ]
     },
     "metadata": {},
     "output_type": "display_data"
    }
   ],
   "source": [
    "fire_df = create_fire_gdf(extent, query)"
   ]
  },
  {
   "cell_type": "code",
   "execution_count": 45,
   "id": "d72a82e4-d266-4e07-9c97-7fea2526c603",
   "metadata": {},
   "outputs": [
    {
     "data": {
      "text/html": [
       "<div>\n",
       "<style scoped>\n",
       "    .dataframe tbody tr th:only-of-type {\n",
       "        vertical-align: middle;\n",
       "    }\n",
       "\n",
       "    .dataframe tbody tr th {\n",
       "        vertical-align: top;\n",
       "    }\n",
       "\n",
       "    .dataframe thead th {\n",
       "        text-align: right;\n",
       "    }\n",
       "</style>\n",
       "<table border=\"1\" class=\"dataframe\">\n",
       "  <thead>\n",
       "    <tr style=\"text-align: right;\">\n",
       "      <th></th>\n",
       "      <th>longitude</th>\n",
       "      <th>latitude</th>\n",
       "      <th>fire_mask</th>\n",
       "      <th>confidence</th>\n",
       "      <th>daynight</th>\n",
       "      <th>acq_date</th>\n",
       "      <th>acq_time</th>\n",
       "      <th>granule_id</th>\n",
       "      <th>geo_id</th>\n",
       "      <th>frp</th>\n",
       "      <th>iot4</th>\n",
       "      <th>iot5</th>\n",
       "      <th>sample</th>\n",
       "      <th>along_scan</th>\n",
       "      <th>along_track</th>\n",
       "      <th>scan_angle</th>\n",
       "      <th>pix_area</th>\n",
       "    </tr>\n",
       "  </thead>\n",
       "  <tbody>\n",
       "    <tr>\n",
       "      <th>0</th>\n",
       "      <td>-105.286003</td>\n",
       "      <td>36.187580</td>\n",
       "      <td>5</td>\n",
       "      <td>5</td>\n",
       "      <td>Night</td>\n",
       "      <td>6/13/2022</td>\n",
       "      <td>0806</td>\n",
       "      <td>VNP14IMG.A2022164.0806.002.2024076132819.nc</td>\n",
       "      <td>VNP03IMG.A2022164.0806</td>\n",
       "      <td>0.650276</td>\n",
       "      <td>299.53479</td>\n",
       "      <td>283.45813</td>\n",
       "      <td>1055</td>\n",
       "      <td>0.355507</td>\n",
       "      <td>0.570771</td>\n",
       "      <td>46.6781</td>\n",
       "      <td>0.202913</td>\n",
       "    </tr>\n",
       "    <tr>\n",
       "      <th>1</th>\n",
       "      <td>-105.282516</td>\n",
       "      <td>36.187363</td>\n",
       "      <td>5</td>\n",
       "      <td>5</td>\n",
       "      <td>Night</td>\n",
       "      <td>6/13/2022</td>\n",
       "      <td>0806</td>\n",
       "      <td>VNP14IMG.A2022164.0806.002.2024076132819.nc</td>\n",
       "      <td>VNP03IMG.A2022164.0806</td>\n",
       "      <td>0.650276</td>\n",
       "      <td>299.53479</td>\n",
       "      <td>283.45813</td>\n",
       "      <td>1056</td>\n",
       "      <td>0.355319</td>\n",
       "      <td>0.570644</td>\n",
       "      <td>46.6692</td>\n",
       "      <td>0.202761</td>\n",
       "    </tr>\n",
       "    <tr>\n",
       "      <th>2</th>\n",
       "      <td>-105.278854</td>\n",
       "      <td>36.187138</td>\n",
       "      <td>5</td>\n",
       "      <td>5</td>\n",
       "      <td>Night</td>\n",
       "      <td>6/13/2022</td>\n",
       "      <td>0806</td>\n",
       "      <td>VNP14IMG.A2022164.0806.002.2024076132819.nc</td>\n",
       "      <td>VNP03IMG.A2022164.0806</td>\n",
       "      <td>0.650276</td>\n",
       "      <td>299.53479</td>\n",
       "      <td>283.45813</td>\n",
       "      <td>1057</td>\n",
       "      <td>0.355132</td>\n",
       "      <td>0.570516</td>\n",
       "      <td>46.6604</td>\n",
       "      <td>0.202608</td>\n",
       "    </tr>\n",
       "    <tr>\n",
       "      <th>3</th>\n",
       "      <td>-105.274643</td>\n",
       "      <td>36.186882</td>\n",
       "      <td>5</td>\n",
       "      <td>5</td>\n",
       "      <td>Night</td>\n",
       "      <td>6/13/2022</td>\n",
       "      <td>0806</td>\n",
       "      <td>VNP14IMG.A2022164.0806.002.2024076132819.nc</td>\n",
       "      <td>VNP03IMG.A2022164.0806</td>\n",
       "      <td>0.650276</td>\n",
       "      <td>299.53479</td>\n",
       "      <td>283.45813</td>\n",
       "      <td>1058</td>\n",
       "      <td>0.354945</td>\n",
       "      <td>0.570389</td>\n",
       "      <td>46.6515</td>\n",
       "      <td>0.202457</td>\n",
       "    </tr>\n",
       "    <tr>\n",
       "      <th>4</th>\n",
       "      <td>-105.270020</td>\n",
       "      <td>36.186600</td>\n",
       "      <td>5</td>\n",
       "      <td>5</td>\n",
       "      <td>Night</td>\n",
       "      <td>6/13/2022</td>\n",
       "      <td>0806</td>\n",
       "      <td>VNP14IMG.A2022164.0806.002.2024076132819.nc</td>\n",
       "      <td>VNP03IMG.A2022164.0806</td>\n",
       "      <td>0.650276</td>\n",
       "      <td>299.53479</td>\n",
       "      <td>283.45813</td>\n",
       "      <td>1059</td>\n",
       "      <td>0.354758</td>\n",
       "      <td>0.570261</td>\n",
       "      <td>46.6426</td>\n",
       "      <td>0.202305</td>\n",
       "    </tr>\n",
       "  </tbody>\n",
       "</table>\n",
       "</div>"
      ],
      "text/plain": [
       "    longitude   latitude  fire_mask  confidence daynight   acq_date acq_time  \\\n",
       "0 -105.286003  36.187580          5           5    Night  6/13/2022     0806   \n",
       "1 -105.282516  36.187363          5           5    Night  6/13/2022     0806   \n",
       "2 -105.278854  36.187138          5           5    Night  6/13/2022     0806   \n",
       "3 -105.274643  36.186882          5           5    Night  6/13/2022     0806   \n",
       "4 -105.270020  36.186600          5           5    Night  6/13/2022     0806   \n",
       "\n",
       "                                    granule_id                  geo_id  \\\n",
       "0  VNP14IMG.A2022164.0806.002.2024076132819.nc  VNP03IMG.A2022164.0806   \n",
       "1  VNP14IMG.A2022164.0806.002.2024076132819.nc  VNP03IMG.A2022164.0806   \n",
       "2  VNP14IMG.A2022164.0806.002.2024076132819.nc  VNP03IMG.A2022164.0806   \n",
       "3  VNP14IMG.A2022164.0806.002.2024076132819.nc  VNP03IMG.A2022164.0806   \n",
       "4  VNP14IMG.A2022164.0806.002.2024076132819.nc  VNP03IMG.A2022164.0806   \n",
       "\n",
       "        frp       iot4       iot5  sample  along_scan  along_track  \\\n",
       "0  0.650276  299.53479  283.45813    1055    0.355507     0.570771   \n",
       "1  0.650276  299.53479  283.45813    1056    0.355319     0.570644   \n",
       "2  0.650276  299.53479  283.45813    1057    0.355132     0.570516   \n",
       "3  0.650276  299.53479  283.45813    1058    0.354945     0.570389   \n",
       "4  0.650276  299.53479  283.45813    1059    0.354758     0.570261   \n",
       "\n",
       "   scan_angle  pix_area  \n",
       "0     46.6781  0.202913  \n",
       "1     46.6692  0.202761  \n",
       "2     46.6604  0.202608  \n",
       "3     46.6515  0.202457  \n",
       "4     46.6426  0.202305  "
      ]
     },
     "execution_count": 45,
     "metadata": {},
     "output_type": "execute_result"
    }
   ],
   "source": [
    "afds = fire_df\n",
    "afds.head()"
   ]
  },
  {
   "cell_type": "code",
   "execution_count": 46,
   "id": "cbec6770-c66b-4f53-9dca-8f2467fc920b",
   "metadata": {},
   "outputs": [
    {
     "data": {
      "text/html": [
       "<div>\n",
       "<style scoped>\n",
       "    .dataframe tbody tr th:only-of-type {\n",
       "        vertical-align: middle;\n",
       "    }\n",
       "\n",
       "    .dataframe tbody tr th {\n",
       "        vertical-align: top;\n",
       "    }\n",
       "\n",
       "    .dataframe thead th {\n",
       "        text-align: right;\n",
       "    }\n",
       "</style>\n",
       "<table border=\"1\" class=\"dataframe\">\n",
       "  <thead>\n",
       "    <tr style=\"text-align: right;\">\n",
       "      <th></th>\n",
       "      <th>longitude</th>\n",
       "      <th>latitude</th>\n",
       "      <th>fire_mask</th>\n",
       "      <th>confidence</th>\n",
       "      <th>daynight</th>\n",
       "      <th>acq_date</th>\n",
       "      <th>acq_time</th>\n",
       "      <th>granule_id</th>\n",
       "      <th>geo_id</th>\n",
       "      <th>frp</th>\n",
       "      <th>iot4</th>\n",
       "      <th>iot5</th>\n",
       "      <th>sample</th>\n",
       "      <th>along_scan</th>\n",
       "      <th>along_track</th>\n",
       "      <th>scan_angle</th>\n",
       "      <th>pix_area</th>\n",
       "      <th>geometry</th>\n",
       "      <th>obs_id</th>\n",
       "    </tr>\n",
       "  </thead>\n",
       "  <tbody>\n",
       "    <tr>\n",
       "      <th>0</th>\n",
       "      <td>-105.286003</td>\n",
       "      <td>36.187580</td>\n",
       "      <td>5</td>\n",
       "      <td>5</td>\n",
       "      <td>Night</td>\n",
       "      <td>6/13/2022</td>\n",
       "      <td>0806</td>\n",
       "      <td>VNP14IMG.A2022164.0806.002.2024076132819.nc</td>\n",
       "      <td>VNP03IMG.A2022164.0806</td>\n",
       "      <td>0.650276</td>\n",
       "      <td>299.53479</td>\n",
       "      <td>283.45813</td>\n",
       "      <td>1055</td>\n",
       "      <td>0.355507</td>\n",
       "      <td>0.570771</td>\n",
       "      <td>46.6781</td>\n",
       "      <td>0.202913</td>\n",
       "      <td>POLYGON ((-826058.350 1499858.815, -826058.350...</td>\n",
       "      <td>0</td>\n",
       "    </tr>\n",
       "    <tr>\n",
       "      <th>1</th>\n",
       "      <td>-105.282516</td>\n",
       "      <td>36.187363</td>\n",
       "      <td>5</td>\n",
       "      <td>5</td>\n",
       "      <td>Night</td>\n",
       "      <td>6/13/2022</td>\n",
       "      <td>0806</td>\n",
       "      <td>VNP14IMG.A2022164.0806.002.2024076132819.nc</td>\n",
       "      <td>VNP03IMG.A2022164.0806</td>\n",
       "      <td>0.650276</td>\n",
       "      <td>299.53479</td>\n",
       "      <td>283.45813</td>\n",
       "      <td>1056</td>\n",
       "      <td>0.355319</td>\n",
       "      <td>0.570644</td>\n",
       "      <td>46.6692</td>\n",
       "      <td>0.202761</td>\n",
       "      <td>POLYGON ((-825751.578 1499804.334, -825751.578...</td>\n",
       "      <td>1</td>\n",
       "    </tr>\n",
       "    <tr>\n",
       "      <th>2</th>\n",
       "      <td>-105.278854</td>\n",
       "      <td>36.187138</td>\n",
       "      <td>5</td>\n",
       "      <td>5</td>\n",
       "      <td>Night</td>\n",
       "      <td>6/13/2022</td>\n",
       "      <td>0806</td>\n",
       "      <td>VNP14IMG.A2022164.0806.002.2024076132819.nc</td>\n",
       "      <td>VNP03IMG.A2022164.0806</td>\n",
       "      <td>0.650276</td>\n",
       "      <td>299.53479</td>\n",
       "      <td>283.45813</td>\n",
       "      <td>1057</td>\n",
       "      <td>0.355132</td>\n",
       "      <td>0.570516</td>\n",
       "      <td>46.6604</td>\n",
       "      <td>0.202608</td>\n",
       "      <td>POLYGON ((-825429.321 1499747.490, -825429.321...</td>\n",
       "      <td>2</td>\n",
       "    </tr>\n",
       "    <tr>\n",
       "      <th>3</th>\n",
       "      <td>-105.274643</td>\n",
       "      <td>36.186882</td>\n",
       "      <td>5</td>\n",
       "      <td>5</td>\n",
       "      <td>Night</td>\n",
       "      <td>6/13/2022</td>\n",
       "      <td>0806</td>\n",
       "      <td>VNP14IMG.A2022164.0806.002.2024076132819.nc</td>\n",
       "      <td>VNP03IMG.A2022164.0806</td>\n",
       "      <td>0.650276</td>\n",
       "      <td>299.53479</td>\n",
       "      <td>283.45813</td>\n",
       "      <td>1058</td>\n",
       "      <td>0.354945</td>\n",
       "      <td>0.570389</td>\n",
       "      <td>46.6515</td>\n",
       "      <td>0.202457</td>\n",
       "      <td>POLYGON ((-825058.674 1499682.486, -825058.674...</td>\n",
       "      <td>3</td>\n",
       "    </tr>\n",
       "    <tr>\n",
       "      <th>4</th>\n",
       "      <td>-105.270020</td>\n",
       "      <td>36.186600</td>\n",
       "      <td>5</td>\n",
       "      <td>5</td>\n",
       "      <td>Night</td>\n",
       "      <td>6/13/2022</td>\n",
       "      <td>0806</td>\n",
       "      <td>VNP14IMG.A2022164.0806.002.2024076132819.nc</td>\n",
       "      <td>VNP03IMG.A2022164.0806</td>\n",
       "      <td>0.650276</td>\n",
       "      <td>299.53479</td>\n",
       "      <td>283.45813</td>\n",
       "      <td>1059</td>\n",
       "      <td>0.354758</td>\n",
       "      <td>0.570261</td>\n",
       "      <td>46.6426</td>\n",
       "      <td>0.202305</td>\n",
       "      <td>POLYGON ((-824651.771 1499610.947, -824651.771...</td>\n",
       "      <td>4</td>\n",
       "    </tr>\n",
       "  </tbody>\n",
       "</table>\n",
       "</div>"
      ],
      "text/plain": [
       "    longitude   latitude  fire_mask  confidence daynight   acq_date acq_time  \\\n",
       "0 -105.286003  36.187580          5           5    Night  6/13/2022     0806   \n",
       "1 -105.282516  36.187363          5           5    Night  6/13/2022     0806   \n",
       "2 -105.278854  36.187138          5           5    Night  6/13/2022     0806   \n",
       "3 -105.274643  36.186882          5           5    Night  6/13/2022     0806   \n",
       "4 -105.270020  36.186600          5           5    Night  6/13/2022     0806   \n",
       "\n",
       "                                    granule_id                  geo_id  \\\n",
       "0  VNP14IMG.A2022164.0806.002.2024076132819.nc  VNP03IMG.A2022164.0806   \n",
       "1  VNP14IMG.A2022164.0806.002.2024076132819.nc  VNP03IMG.A2022164.0806   \n",
       "2  VNP14IMG.A2022164.0806.002.2024076132819.nc  VNP03IMG.A2022164.0806   \n",
       "3  VNP14IMG.A2022164.0806.002.2024076132819.nc  VNP03IMG.A2022164.0806   \n",
       "4  VNP14IMG.A2022164.0806.002.2024076132819.nc  VNP03IMG.A2022164.0806   \n",
       "\n",
       "        frp       iot4       iot5  sample  along_scan  along_track  \\\n",
       "0  0.650276  299.53479  283.45813    1055    0.355507     0.570771   \n",
       "1  0.650276  299.53479  283.45813    1056    0.355319     0.570644   \n",
       "2  0.650276  299.53479  283.45813    1057    0.355132     0.570516   \n",
       "3  0.650276  299.53479  283.45813    1058    0.354945     0.570389   \n",
       "4  0.650276  299.53479  283.45813    1059    0.354758     0.570261   \n",
       "\n",
       "   scan_angle  pix_area                                           geometry  \\\n",
       "0     46.6781  0.202913  POLYGON ((-826058.350 1499858.815, -826058.350...   \n",
       "1     46.6692  0.202761  POLYGON ((-825751.578 1499804.334, -825751.578...   \n",
       "2     46.6604  0.202608  POLYGON ((-825429.321 1499747.490, -825429.321...   \n",
       "3     46.6515  0.202457  POLYGON ((-825058.674 1499682.486, -825058.674...   \n",
       "4     46.6426  0.202305  POLYGON ((-824651.771 1499610.947, -824651.771...   \n",
       "\n",
       "   obs_id  \n",
       "0       0  \n",
       "1       1  \n",
       "2       2  \n",
       "3       3  \n",
       "4       4  "
      ]
     },
     "execution_count": 46,
     "metadata": {},
     "output_type": "execute_result"
    }
   ],
   "source": [
    "from shapely.geometry import Point\n",
    "\n",
    "# convert to spatial points using pixel centroid\n",
    "afds['geometry'] = [Point(xy) for xy in zip(afds.longitude, afds.latitude)]\n",
    "pix_gdf = gpd.GeoDataFrame(afds, geometry='geometry', crs=\"EPSG:4326\")\n",
    "\n",
    "# save this file out.\n",
    "out_fp = os.path.join(datamod,'vnp14img_geo_aspen-fires-srm_pix_latlon_ADDIN.gpkg')\n",
    "pix_gdf.to_file(out_fp)\n",
    "\n",
    "# Reproject to a projected CRS for accurate buffering\n",
    "pix_gdf = pix_gdf.to_crs(\"EPSG:5070\")\n",
    "\n",
    "# Define the pixel buffer function for the given width and height\n",
    "def pixel_buffer(point, width, height):\n",
    "    half_width = width / 2\n",
    "    half_height = height / 2\n",
    "    return box(\n",
    "        point.x - half_width, point.y - half_height,\n",
    "        point.x + half_width, point.y + half_height\n",
    "    )\n",
    "\n",
    "# Apply the buffer function with along_scan and along_track values converted to meters (*1000)\n",
    "pix_gdf[\"geometry\"] = pix_gdf.apply(\n",
    "    lambda row: pixel_buffer(row[\"geometry\"], row[\"along_scan\"] * 1000, row[\"along_track\"] * 1000), axis=1\n",
    ")\n",
    "\n",
    "pix_gdf = pix_gdf.reset_index(drop=True)\n",
    "pix_gdf['obs_id'] = pix_gdf.index # unique ID column\n",
    "# swath_gdf.loc[:, 'acq_datetime'] = swath_gdf.apply(lambda row: convert_datetime(row['acq_date'], row['acq_time']), axis=1)\n",
    "\n",
    "# save this file out.\n",
    "out_fp = os.path.join(datamod,'vnp14img_geo_aspen-fires-srm_pix_area_ADDIN.gpkg')\n",
    "pix_gdf.to_file(out_fp)\n",
    "\n",
    "pix_gdf.head() # check the results"
   ]
  }
 ],
 "metadata": {
  "kernelspec": {
   "display_name": "aspen-fire",
   "language": "python",
   "name": "aspen-fire"
  },
  "language_info": {
   "codemirror_mode": {
    "name": "ipython",
    "version": 3
   },
   "file_extension": ".py",
   "mimetype": "text/x-python",
   "name": "python",
   "nbconvert_exporter": "python",
   "pygments_lexer": "ipython3",
   "version": "3.10.12"
  }
 },
 "nbformat": 4,
 "nbformat_minor": 5
}
