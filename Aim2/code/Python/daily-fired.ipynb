{
 "cells": [
  {
   "cell_type": "code",
   "execution_count": null,
   "id": "eac6476a-9b0f-41b0-8e16-e7e507cfcb86",
   "metadata": {},
   "outputs": [],
   "source": [
    "\"\"\"\n",
    "This script extracts LANDFIRE EVT composition (%) for daily FIRED perimeters\n",
    "\n",
    "maxwell.cook@colorado.edu\n",
    "\"\"\"\n",
    "\n",
    "import os, time\n",
    "import numpy as np\n",
    "\n",
    "import pandas as pd\n",
    "import geopandas as gpd\n",
    "import rioxarray as rxr\n",
    "import rasterio as rio\n",
    "import matplotlib\n",
    "import matplotlib.pyplot as plt\n",
    "\n",
    "from rasterstats import zonal_stats\n",
    "\n",
    "proj = 'EPSG:5070'\n",
    "\n",
    "maindir = '/Users/max/Library/CloudStorage/OneDrive-Personal/mcook/'\n",
    "\n",
    "print(\"Complete\")\n"
   ]
  },
  {
   "cell_type": "markdown",
   "id": "35dbf282-d47f-4256-82c9-965c52f68ea4",
   "metadata": {},
   "source": [
    "## Load the daily FIRED perimeters for our aspen fire subset\n",
    "\n",
    "These fires represent the database of events which have at least 5% pre-fire aspen cover and have a minimum number of FRP observations. "
   ]
  },
  {
   "cell_type": "code",
   "execution_count": null,
   "id": "a8a1b1ff-8dbe-4b82-8313-9a1b6d2b9ebc",
   "metadata": {},
   "outputs": [],
   "source": []
  }
 ],
 "metadata": {
  "kernelspec": {
   "display_name": "aspen-fire",
   "language": "python",
   "name": "aspen-fire"
  },
  "language_info": {
   "codemirror_mode": {
    "name": "ipython",
    "version": 3
   },
   "file_extension": ".py",
   "mimetype": "text/x-python",
   "name": "python",
   "nbconvert_exporter": "python",
   "pygments_lexer": "ipython3",
   "version": "3.10.12"
  }
 },
 "nbformat": 4,
 "nbformat_minor": 5
}
