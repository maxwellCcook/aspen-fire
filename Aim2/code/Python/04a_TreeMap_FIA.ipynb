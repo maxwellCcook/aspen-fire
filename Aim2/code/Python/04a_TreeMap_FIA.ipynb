{
 "cells": [
  {
   "cell_type": "code",
   "execution_count": 1,
   "id": "c3d482be-361d-4286-b949-6680bf24babb",
   "metadata": {},
   "outputs": [
    {
     "name": "stdout",
     "output_type": "stream",
     "text": [
      "Ready to go !\n"
     ]
    }
   ],
   "source": [
    "\"\"\"\n",
    "Summaries of USFS TreeMap linked to FIA plot data\n",
    "Emphasis on \n",
    "    - Metrics of forest composition\n",
    "    - Ecological gradients of species dominance\n",
    "    - Forest structure (basal area, QMD, TPA, etc.)\n",
    "\n",
    "Aggregate these statistics to FRP gridcells.\n",
    "\n",
    "Author: maxwell.cook@colorado.edu\n",
    "\"\"\"\n",
    "\n",
    "import os, sys, time\n",
    "import pandas as pd\n",
    "import rioxarray as rxr\n",
    "import geopandas as gpd\n",
    "\n",
    "# Custom functions\n",
    "sys.path.append(os.path.join(os.getcwd(),'code/'))\n",
    "from __functions import *\n",
    "\n",
    "proj = 'EPSG:5070'\n",
    "\n",
    "maindir = '/Users/max/Library/CloudStorage/OneDrive-Personal/mcook/'\n",
    "projdir = os.path.join(maindir, 'aspen-fire/Aim2/')\n",
    "\n",
    "print(\"Ready to go !\")"
   ]
  },
  {
   "cell_type": "code",
   "execution_count": 2,
   "id": "56817b46-8e0c-4959-a626-23a519c120e5",
   "metadata": {},
   "outputs": [
    {
     "name": "stdout",
     "output_type": "stream",
     "text": [
      "Shape: (97383, 154221); \n",
      "GeoTransform: -2362845.0 30.0 0.0 3180555.0 0.0 -30.0; \n",
      "WKT: EPSG:5070; \n",
      "NoData Value: nan; \n",
      "Data Type: float64\n"
     ]
    },
    {
     "data": {
      "text/plain": [
       "60"
      ]
     },
     "execution_count": 2,
     "metadata": {},
     "output_type": "execute_result"
    }
   ],
   "source": [
    "# Load the TreeMap (ca. 2016)\n",
    "# Pixel values here denote the FIA plot ID (\"tm_id\")\n",
    "fp = os.path.join(maindir,'data/landcover/USFS/RDS_TreeMap/TreeMap2016.tif')\n",
    "treemap_da = rxr.open_rasterio(fp, masked=True, cache=False, chunks='auto').squeeze()\n",
    "# Grab some raster metadata\n",
    "shp, gt, wkt, nd = treemap_da.shape, treemap_da.spatial_ref.GeoTransform, treemap_da.rio.crs, treemap_da.rio.nodata\n",
    "print(\n",
    "    f\"Shape: {shp}; \\n\"\n",
    "    f\"GeoTransform: {gt}; \\n\"\n",
    "    f\"WKT: {wkt}; \\n\"\n",
    "    f\"NoData Value: {nd}; \\n\"\n",
    "    f\"Data Type: {treemap_da[0].dtype}\")\n",
    "gc.collect() # clean up"
   ]
  },
  {
   "cell_type": "code",
   "execution_count": 3,
   "id": "eb071916-fb7f-4c91-b385-bcbaa4a388b8",
   "metadata": {},
   "outputs": [
    {
     "name": "stdout",
     "output_type": "stream",
     "text": [
      "Cropped TreeMap to SRM bounds w/ 10km buffer.\n"
     ]
    },
    {
     "data": {
      "text/plain": [
       "54"
      ]
     },
     "execution_count": 3,
     "metadata": {},
     "output_type": "execute_result"
    }
   ],
   "source": [
    "# load and prepare our study region for cropping TreeMap\n",
    "# Southern Rockies ecoregion bounds (buffered)\n",
    "fp = os.path.join(projdir,'data/spatial/raw/boundaries/na_cec_eco_l3_srme.gpkg')\n",
    "srm = gpd.read_file(fp)\n",
    "# Crop the raster by the SRM bounds\n",
    "bounds = srm.total_bounds # total bounds of ecoregion\n",
    "treemap_da_c = treemap_da.rio.clip_box(\n",
    "    minx=bounds[0]+10000, # +10km buffer\n",
    "    miny=bounds[1]+10000, \n",
    "    maxx=bounds[2]+10000, \n",
    "    maxy=bounds[3]+10000\n",
    ")\n",
    "print(f\"Cropped TreeMap to SRM bounds w/ 10km buffer.\")\n",
    "del treemap_da, bounds\n",
    "gc.collect() # clean up"
   ]
  },
  {
   "cell_type": "code",
   "execution_count": 4,
   "id": "af7d2100-d318-41ce-970d-7686f0359b88",
   "metadata": {},
   "outputs": [
    {
     "data": {
      "text/plain": [
       "Index(['grid_index', 'grid_area', 'afd_count', 'unique_days', 'overlap',\n",
       "       'frp_csum', 'frp_max', 'frp_min', 'frp_mean', 'frp_p90', 'frp_first',\n",
       "       'day_max_frp', 'dt_max_frp', 'first_obs_date', 'last_obs_date',\n",
       "       't4_max', 't4_mean', 't5_max', 't5_mean', 'day_count', 'night_count',\n",
       "       'frp_max_day', 'frp_max_night', 'frp_csum_day', 'frp_csum_night',\n",
       "       'frp_mean_day', 'frp_mean_night', 'frp_p90_day', 'frp_p90_night',\n",
       "       'frp_first_day', 'frp_first_night', 'Fire_ID', 'Fire_Name', 'geometry'],\n",
       "      dtype='object')"
      ]
     },
     "execution_count": 4,
     "metadata": {},
     "output_type": "execute_result"
    }
   ],
   "source": [
    "# load the aggregated FRP grid\n",
    "fp = os.path.join(projdir,'data/spatial/mod/VIIRS/viirs_snpp_jpss1_afd_latlon_fires_pixar_gridstats.gpkg')\n",
    "grid = gpd.read_file(fp)\n",
    "grid.columns"
   ]
  },
  {
   "cell_type": "code",
   "execution_count": null,
   "id": "94660e63-5e61-45d4-b8f3-4b2f9f2b8be3",
   "metadata": {},
   "outputs": [],
   "source": [
    "# get the count/proportion of unique \"tm_id\" from TreeMap in grids\n",
    "t0 = time.time()\n",
    "\n",
    "# see __functions.py\n",
    "grid_tmid = compute_band_stats(grid, treemap_da_c, 'grid_index', attr='tm_id')\n",
    "\n",
    "t1 = (time.time() - t0) / 60\n",
    "print(f\"Total elapsed time: {t1:.2f} minutes.\")\n",
    "print(\"\\n~~~~~~~~~~\\n\")"
   ]
  },
  {
   "cell_type": "code",
   "execution_count": null,
   "id": "48ec172b-00cd-4408-9fa2-af28bb1b5294",
   "metadata": {},
   "outputs": [],
   "source": [
    "# tidy columns\n",
    "grid_tmid['count'] = grid_tmid['count'].astype(int)\n",
    "grid_tmid['total_pixels'] = grid_tmid['total_pixels'].astype(int)\n",
    "grid_tmid.rename(columns={'total_pixels': 'forest_pixels'}, inplace=True)\n",
    "grid_tmid.head()"
   ]
  },
  {
   "cell_type": "code",
   "execution_count": null,
   "id": "8bf3a23a-ac29-4b8d-adbe-55998412adb3",
   "metadata": {},
   "outputs": [],
   "source": [
    "# load the Tree Table\n",
    "fp = os.path.join(maindir,'data/landcover/USFS/RDS_TreeMap/TreeMap2016_tree_table.csv')\n",
    "tree_tbl = pd.read_csv(fp)\n",
    "tree_tbl.columns"
   ]
  },
  {
   "cell_type": "code",
   "execution_count": null,
   "id": "1fe1f062-5943-4ca6-9617-e82ccaa82a8b",
   "metadata": {},
   "outputs": [],
   "source": [
    "# join to the grid data\n",
    "grid_trees = grid_tmid.merge(tree_tbl, on='tm_id', how='left')\n",
    "grid_trees.head()"
   ]
  },
  {
   "cell_type": "code",
   "execution_count": null,
   "id": "eda1d77d-f0c2-4442-99d7-4acae2e5bc4d",
   "metadata": {},
   "outputs": [],
   "source": [
    "# identify the dominant forest species for each \"tm_id\"\n",
    "spp_dominance = (\n",
    "    grid_trees.groupby(['tm_id', 'COMMON_NAME'])['TREE']  # Sum tree counts (or use another metric)\n",
    "    .sum()\n",
    "    .reset_index()\n",
    "    .sort_values(['tm_id', 'TREE'], ascending=[True, False])\n",
    "    .drop_duplicates('tm_id')  # Keep only the top species per tm_id\n",
    "    .rename(columns={'COMMON_NAME': 'MajoritySpp'})\n",
    ")\n",
    "\n",
    "# join back to the tm_id summary\n",
    "grid_tmid_spp = grid_tmid.merge(spp_dominance[['tm_id', 'MajoritySpp']], on='tm_id', how='left')\n",
    "\n",
    "# identify the landscape proportion of dominant species\n",
    "spp_pr = (\n",
    "    grid_tmid_spp.groupby('MajoritySpp')['count']\n",
    "    .sum()\n",
    "    .reset_index()\n",
    "    .rename(columns={'count': 'maj_spp_count'})\n",
    "    .sort_values(by='maj_spp_count', ascending=False)\n",
    ")\n",
    "\n",
    "# calculate the fraction\n",
    "spp_pr['fraction'] = spp_pr['maj_spp_count'] / spp_pr['maj_spp_count'].sum()\n",
    "spp_pr = spp_pr.sort_values(by='fraction', ascending=False)\n",
    "\n",
    "# Identify species contributing 97% of the burned area\n",
    "spp_pr['c_fraction'] = spp_pr['fraction'].cumsum()\n",
    "top_species = spp_pr[spp_pr['c_fraction'] <= 0.99]\n",
    "print(f\"\\nSpecies contributing to 97% of the burned area:\\n{top_species}\\n\")"
   ]
  },
  {
   "cell_type": "code",
   "execution_count": null,
   "id": "e46f3dc4-ccfc-4053-90c1-c031221b690c",
   "metadata": {},
   "outputs": [],
   "source": [
    "# do some species regrouping\n",
    "\n",
    "# pinon-juniper\n",
    "pj = grid_trees[grid_trees['COMMON_NAME'].str.contains('pinyon|juniper', case=False, na=False)]\n",
    "print(pj['COMMON_NAME'].unique())\n",
    "# replace the species names\n",
    "spp_remap = {name: 'pinon-juniper' for name in pj['COMMON_NAME'].unique()}\n",
    "\n",
    "# spruce-fir\n",
    "spruce_fir = grid_trees[grid_trees['COMMON_NAME'].str.contains(' fir|spruce', case=False, na=False)]\n",
    "print(spruce_fir['COMMON_NAME'].unique())\n",
    "# replace the species names\n",
    "spp_remap.update({name: 'spruce-fir' for name in spruce_fir['COMMON_NAME'].unique()})\n",
    "\n",
    "# oak woodland\n",
    "oak = grid_trees[grid_trees['COMMON_NAME'].str.contains('oak|mountain-mahogany', case=False, na=False)]\n",
    "print(oak['COMMON_NAME'].unique())\n",
    "# replace the species names\n",
    "spp_remap.update({name: 'oak-scrub' for name in spruce_fir['COMMON_NAME'].unique()})\n",
    "\n",
    "# apply the new mapping\n",
    "grid_tree_r = grid_trees.copy()\n",
    "grid_tree_r['ForestType'] = grid_tree_r['COMMON_NAME'].map(spp_remap).fillna(grid_tree_r['COMMON_NAME'])"
   ]
  },
  {
   "cell_type": "code",
   "execution_count": null,
   "id": "73028c50-4c69-408d-9cc7-5135a1ec0431",
   "metadata": {},
   "outputs": [],
   "source": [
    "# identify the dominant forest species for each \"tm_id\"\n",
    "spp_dominance = (\n",
    "    grid_tree_r.groupby(['tm_id', 'ForestType'])['TREE']  # Sum tree counts (or use another metric)\n",
    "    .sum()\n",
    "    .reset_index()\n",
    "    .sort_values(['tm_id', 'TREE'], ascending=[True, False])\n",
    "    .drop_duplicates('tm_id')  # Keep only the top species per tm_id\n",
    "    .rename(columns={'ForestType': 'MajoritySpp'})\n",
    ")\n",
    "\n",
    "# join back to the tm_id summary\n",
    "grid_tmid_spp = grid_tmid.merge(spp_dominance[['tm_id', 'MajoritySpp']], on='tm_id', how='left')\n",
    "\n",
    "# identify the landscape proportion of dominant species\n",
    "spp_pr = (\n",
    "    grid_tmid_spp.groupby('MajoritySpp')['count']\n",
    "    .sum()\n",
    "    .reset_index()\n",
    "    .rename(columns={'count': 'maj_spp_count'})\n",
    "    .sort_values(by='maj_spp_count', ascending=False)\n",
    ")\n",
    "\n",
    "# calculate the fraction\n",
    "spp_pr['fraction'] = spp_pr['maj_spp_count'] / spp_pr['maj_spp_count'].sum()\n",
    "spp_pr = spp_pr.sort_values(by='fraction', ascending=False)\n",
    "\n",
    "# Identify species contributing 97% of the burned area\n",
    "spp_pr['c_fraction'] = spp_pr['fraction'].cumsum()\n",
    "top_species = spp_pr[spp_pr['c_fraction'] <= 0.97]\n",
    "print(f\"\\nSpecies contributing to 97% of the burned area:\\n{top_species}\\n\")"
   ]
  },
  {
   "cell_type": "code",
   "execution_count": null,
   "id": "7c1090d7-1359-47f2-8126-1c87fa76e0ec",
   "metadata": {},
   "outputs": [],
   "source": []
  },
  {
   "cell_type": "code",
   "execution_count": null,
   "id": "b86adbe3-d0a4-4326-abfc-4a2334895198",
   "metadata": {},
   "outputs": [],
   "source": []
  },
  {
   "cell_type": "code",
   "execution_count": null,
   "id": "3da2754d-89d3-4919-8894-434dfe19b571",
   "metadata": {},
   "outputs": [],
   "source": [
    "spp_pct_cover.head()"
   ]
  },
  {
   "cell_type": "code",
   "execution_count": null,
   "id": "f88e7624-b87d-452a-bcf4-eab31e666580",
   "metadata": {},
   "outputs": [],
   "source": []
  },
  {
   "cell_type": "code",
   "execution_count": null,
   "id": "c5bae987-9ee9-4d47-a7fb-34fa2c1d340e",
   "metadata": {},
   "outputs": [],
   "source": []
  },
  {
   "cell_type": "code",
   "execution_count": null,
   "id": "427fb3c8-5453-4e5d-a8cd-66977daa20f9",
   "metadata": {},
   "outputs": [],
   "source": [
    "# test tree table\n",
    "tree_tbl[tree_tbl['tm_id'] == 21404][['tm_id','COMMON_NAME','DIA','HT','CR','TREE']]"
   ]
  }
 ],
 "metadata": {
  "kernelspec": {
   "display_name": "aspen-fire",
   "language": "python",
   "name": "aspen-fire"
  },
  "language_info": {
   "codemirror_mode": {
    "name": "ipython",
    "version": 3
   },
   "file_extension": ".py",
   "mimetype": "text/x-python",
   "name": "python",
   "nbconvert_exporter": "python",
   "pygments_lexer": "ipython3",
   "version": "3.10.12"
  }
 },
 "nbformat": 4,
 "nbformat_minor": 5
}
