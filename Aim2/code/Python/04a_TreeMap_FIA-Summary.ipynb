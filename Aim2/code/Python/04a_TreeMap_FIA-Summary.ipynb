{
 "cells": [
  {
   "cell_type": "code",
   "execution_count": 1,
   "id": "c3d482be-361d-4286-b949-6680bf24babb",
   "metadata": {},
   "outputs": [
    {
     "name": "stdout",
     "output_type": "stream",
     "text": [
      "Ready to go !\n"
     ]
    }
   ],
   "source": [
    "\"\"\"\n",
    "Summaries of USFS TreeMap linked to FIA plot data\n",
    "Emphasis on \n",
    "    - Metrics of forest composition\n",
    "    - Ecological gradients of species dominance\n",
    "    - Forest structure (abundance, dominance, diversity, stand height)\n",
    "\n",
    "Aggregate these statistics to FRP gridcells.\n",
    "\n",
    "Author: maxwell.cook@colorado.edu\n",
    "\"\"\"\n",
    "\n",
    "import os, sys, time\n",
    "import pandas as pd\n",
    "import rioxarray as rxr\n",
    "import xarray as xr\n",
    "import geopandas as gpd\n",
    "import seaborn as sns\n",
    "import matplotlib.pyplot as plt\n",
    "import matplotlib.colors as mcolors\n",
    "from matplotlib.colors import to_rgba\n",
    "\n",
    "# Custom functions\n",
    "sys.path.append(os.path.join(os.getcwd(),'code/'))\n",
    "from __functions import *\n",
    "\n",
    "proj = 'EPSG:5070'\n",
    "\n",
    "maindir = '/Users/max/Library/CloudStorage/OneDrive-Personal/mcook/'\n",
    "projdir = os.path.join(maindir, 'aspen-fire/Aim2/')\n",
    "\n",
    "print(\"Ready to go !\")"
   ]
  },
  {
   "cell_type": "code",
   "execution_count": 2,
   "id": "af7d2100-d318-41ce-970d-7686f0359b88",
   "metadata": {},
   "outputs": [
    {
     "data": {
      "text/plain": [
       "Index(['grid_index', 'grid_area', 'afd_count', 'unique_days', 'overlap',\n",
       "       'frp_csum', 'frp_max', 'frp_min', 'frp_mean', 'frp_p90', 'frp_p95',\n",
       "       'frp_p97', 'frp_p99', 'frp_first', 'day_max_frp', 'dt_max_frp',\n",
       "       'first_obs_date', 'last_obs_date', 't4_max', 't4_mean', 't5_max',\n",
       "       't5_mean', 'day_count', 'night_count', 'frp_max_day', 'frp_max_night',\n",
       "       'frp_csum_day', 'frp_csum_night', 'frp_mean_day', 'frp_mean_night',\n",
       "       'frp_p90_day', 'frp_p90_night', 'frp_p95_day', 'frp_p95_night',\n",
       "       'frp_p97_day', 'frp_p97_night', 'frp_p99_day', 'frp_p99_night',\n",
       "       'frp_first_day', 'frp_first_night', 'Fire_ID', 'Fire_Name', 'geometry'],\n",
       "      dtype='object')"
      ]
     },
     "execution_count": 2,
     "metadata": {},
     "output_type": "execute_result"
    }
   ],
   "source": [
    "# load the aggregated FRP grids (regular 375m2 grids summarizing FRP from VIIRS)\n",
    "fp = os.path.join(projdir,'data/spatial/mod/VIIRS/viirs_snpp_jpss1_afd_latlon_fires_pixar_gridstats.gpkg')\n",
    "grid = gpd.read_file(fp)\n",
    "grid.columns"
   ]
  },
  {
   "cell_type": "code",
   "execution_count": 3,
   "id": "e6141e96-2713-438c-a396-e783040ad38b",
   "metadata": {},
   "outputs": [
    {
     "data": {
      "text/plain": [
       "array([-1193290.29502988,  1391628.00599962,  -683136.18714099,\n",
       "        2253336.36986925])"
      ]
     },
     "execution_count": 3,
     "metadata": {},
     "output_type": "execute_result"
    }
   ],
   "source": [
    "# load and prepare our study region for cropping TreeMap\n",
    "# Southern Rockies ecoregion bounds (buffered)\n",
    "fp = os.path.join(projdir,'data/spatial/raw/boundaries/na_cec_eco_l3_srme.gpkg')\n",
    "srm = gpd.read_file(fp)\n",
    "# Crop the raster by the SRM bounds\n",
    "srm['geometry'] = srm.geometry.buffer(10000)\n",
    "bounds = srm.total_bounds # total bounds of ecoregion\n",
    "bounds"
   ]
  },
  {
   "cell_type": "code",
   "execution_count": 4,
   "id": "8ab27165-81d1-4bb0-892a-168bc8353a89",
   "metadata": {},
   "outputs": [
    {
     "name": "stdout",
     "output_type": "stream",
     "text": [
      "Shape: (28724, 17006); \n",
      "GeoTransform: -1193295.0 30.0 0.0 2253345.0 0.0 -30.0; \n",
      "WKT: EPSG:5070; \n",
      "NoData Value: nan; \n",
      "Data Type: float32\n"
     ]
    }
   ],
   "source": [
    "# Load the TreeMap (ca. 2016)\n",
    "# Pixel values here denote the FIA plot ID (\"tm_id\")\n",
    "# see '04a_TreeMap_FIA-Prep.ipynb'\n",
    "# fp = os.path.join(maindir,'data/landcover/USFS/RDS_TreeMap/TreeMap2016.tif') # tm_id band\n",
    "fp = os.path.join(projdir, \"data/spatial/mod/USFS/TreeMap_2016_TMID_FORTYPCD.tif\") # multi-band\n",
    "treemap_da = rxr.open_rasterio(fp, masked=True, cache=False).squeeze()\n",
    "treemap_da = treemap_da.sel(band=1) # the \"tm_id\" band, dropping the FORTYP band\n",
    "\n",
    "# Grab some raster metadata from one of the layers\n",
    "shp, gt, wkt, nd = treemap_da.shape, treemap_da.spatial_ref.GeoTransform, treemap_da.rio.crs, treemap_da.rio.nodata\n",
    "print(\n",
    "    f\"Shape: {shp}; \\n\"\n",
    "    f\"GeoTransform: {gt}; \\n\"\n",
    "    f\"WKT: {wkt}; \\n\"\n",
    "    f\"NoData Value: {nd}; \\n\"\n",
    "    f\"Data Type: {treemap_da[0].dtype}\")"
   ]
  },
  {
   "cell_type": "code",
   "execution_count": 5,
   "id": "d36598f9-18f5-4bf7-b199-b9597387e1f2",
   "metadata": {},
   "outputs": [
    {
     "name": "stdout",
     "output_type": "stream",
     "text": [
      "Saved multi-band raster to: /Users/max/Library/CloudStorage/OneDrive-Personal/mcook/aspen-fire/Aim2/data/spatial/mod/USFS/TreeMap_2016_forestmask.tif\n",
      "[84.76%] predominantly forest grids.\n",
      "\n",
      "   grid_index  forest_pix  forest_pct\n",
      "0     1955419         169       100.0\n",
      "1     1955420         182       100.0\n",
      "2     1955421         169       100.0\n"
     ]
    },
    {
     "data": {
      "text/plain": [
       "16"
      ]
     },
     "execution_count": 5,
     "metadata": {},
     "output_type": "execute_result"
    }
   ],
   "source": [
    "# create a forest/non-forest grid\n",
    "forest_mask = xr.where(~np.isnan(treemap_da), 1, 0)\n",
    "\n",
    "# Save as a GeoTIFF\n",
    "out_fp = os.path.join(projdir, \"data/spatial/mod/USFS/TreeMap_2016_forestmask.tif\")\n",
    "forest_mask.rio.to_raster(out_fp, compress='zstd', zstd_level=9, dtype='uint16', driver='GTiff')\n",
    "print(f\"Saved multi-band raster to: {out_fp}\")\n",
    "\n",
    "# calculate the total grid pixels\n",
    "# see __functions.py 'compute_band_stats'\n",
    "forest_pct = compute_band_stats(grid, forest_mask, 'grid_index', attr='constant')\n",
    "forest_pct.rename(columns={\n",
    "    'pct_cover': 'forest_pct',\n",
    "    'total_pixels': 'forest_pix'\n",
    "}, inplace=True)\n",
    "forest_pct = forest_pct[forest_pct['constant'] == 1] # just forest pixels\n",
    "forest_pct = forest_pct[['grid_index','forest_pix','forest_pct']]\n",
    "\n",
    "n_forest = len(forest_pct[forest_pct['forest_pct'] > 50])\n",
    "print(f\"[{round(n_forest/len(grid)*100,2)}%] predominantly forest grids.\")\n",
    "\n",
    "print(f\"\\n{forest_pct.head(3)}\")\n",
    "\n",
    "del forest_mask\n",
    "gc.collect() # clean up"
   ]
  },
  {
   "cell_type": "code",
   "execution_count": 6,
   "id": "94660e63-5e61-45d4-b8f3-4b2f9f2b8be3",
   "metadata": {},
   "outputs": [
    {
     "name": "stdout",
     "output_type": "stream",
     "text": [
      "\n",
      "   grid_index  tm_id  tmid_count  total_pix   tmid_pct  forest_pix  forest_pct\n",
      "0     1955419   5081           2        169   1.183432         169       100.0\n",
      "1     1955419   5490          44        169  26.035503         169       100.0\n",
      "2     1955419   5501           2        169   1.183432         169       100.0\n",
      "3     1955419  12665           3        169   1.775148         169       100.0\n",
      "4     1955419  20313           5        169   2.958580         169       100.0\n",
      "5     1955419  45478           8        169   4.733728         169       100.0\n",
      "6     1955419  46099           1        169   0.591716         169       100.0\n",
      "7     1955419  51905           5        169   2.958580         169       100.0\n",
      "8     1955419  53570           3        169   1.775148         169       100.0\n",
      "9     1955419  53601           1        169   0.591716         169       100.0\n",
      "\n",
      "Total elapsed time: 0.68 minutes.\n",
      "\n",
      "~~~~~~~~~~\n",
      "\n"
     ]
    },
    {
     "data": {
      "text/plain": [
       "44"
      ]
     },
     "execution_count": 6,
     "metadata": {},
     "output_type": "execute_result"
    }
   ],
   "source": [
    "# get the count/proportion of unique \"tm_id\" from TreeMap in grids\n",
    "\n",
    "t0 = time.time()\n",
    "\n",
    "# see __functions.py\n",
    "grid_tmid = compute_band_stats(grid, treemap_da, 'grid_index', attr='tm_id')\n",
    "\n",
    "# tidy columns in the summary table\n",
    "grid_tmid['count'] = grid_tmid['count'].astype(int)\n",
    "grid_tmid['total_pixels'] = grid_tmid['total_pixels'].astype(int)\n",
    "grid_tmid.rename(columns={\n",
    "    'count': 'tmid_count',\n",
    "    'total_pixels': 'total_pix',\n",
    "    'pct_cover': 'tmid_pct' # percent of forest area\n",
    "}, inplace=True)\n",
    "\n",
    "# join in the forest_pct\n",
    "grid_tmid = grid_tmid.merge(forest_pct, on='grid_index', how='left')\n",
    "print(f\"\\n{grid_tmid.head(10)}\")\n",
    "\n",
    "t1 = (time.time() - t0) / 60\n",
    "print(f\"\\nTotal elapsed time: {t1:.2f} minutes.\")\n",
    "print(\"\\n~~~~~~~~~~\\n\")\n",
    "\n",
    "del treemap_da # clean up \n",
    "gc.collect()"
   ]
  },
  {
   "cell_type": "code",
   "execution_count": 7,
   "id": "f6327637-fb25-4dd9-85c3-808a97fcbf1e",
   "metadata": {},
   "outputs": [
    {
     "name": "stdout",
     "output_type": "stream",
     "text": [
      "Index(['tm_id', 'CN', 'STATUSCD', 'TPA_UNADJ', 'SPCD', 'COMMON_NAME',\n",
      "       'SCIENTIFIC_NAME', 'SPECIES_SYMBOL', 'DIA', 'HT', 'ACTUALHT', 'CR',\n",
      "       'SUBP', 'TREE', 'AGENTCD'],\n",
      "      dtype='object')\n",
      "\n",
      "   grid_index  tm_id  tmid_count  total_pix  tmid_pct  forest_pix  forest_pct  \\\n",
      "0     1955419   5081           2        169  1.183432         169       100.0   \n",
      "1     1955419   5081           2        169  1.183432         169       100.0   \n",
      "2     1955419   5081           2        169  1.183432         169       100.0   \n",
      "\n",
      "             CN  STATUSCD  TPA_UNADJ  ...        COMMON_NAME  \\\n",
      "0  3.536933e+13       1.0   6.018046  ...  Arizona white oak   \n",
      "1  3.536933e+13       1.0   6.018046  ...  Arizona white oak   \n",
      "2  3.536933e+13       2.0   6.018046  ...  Arizona white oak   \n",
      "\n",
      "     SCIENTIFIC_NAME SPECIES_SYMBOL   DIA    HT  ACTUALHT    CR  SUBP  TREE  \\\n",
      "0  Quercus arizonica           QUAR  10.9  15.0      15.0  70.0   1.0   1.0   \n",
      "1  Quercus arizonica           QUAR   5.6  11.0      11.0  70.0   1.0   2.0   \n",
      "2  Quercus arizonica           QUAR  10.0  12.0      12.0   NaN   1.0   3.0   \n",
      "\n",
      "   AGENTCD  \n",
      "0      NaN  \n",
      "1      NaN  \n",
      "2      NaN  \n",
      "\n",
      "[3 rows x 21 columns]\n"
     ]
    },
    {
     "data": {
      "text/plain": [
       "0"
      ]
     },
     "execution_count": 7,
     "metadata": {},
     "output_type": "execute_result"
    }
   ],
   "source": [
    "# load the TreeMap Tree Table\n",
    "fp = os.path.join(maindir,'data/landcover/USFS/RDS_TreeMap/TreeMap2016_tree_table.csv')\n",
    "tree_tbl = pd.read_csv(fp)\n",
    "print(tree_tbl.columns)\n",
    "\n",
    "# join the Tree Table to the grid data\n",
    "grid_trees = grid_tmid.merge(tree_tbl, on='tm_id', how='left')\n",
    "print(f\"\\n{grid_trees.head(3)}\")\n",
    "\n",
    "del tree_tbl # clean up\n",
    "gc.collect()"
   ]
  },
  {
   "cell_type": "code",
   "execution_count": 8,
   "id": "10a6d389-2d45-4fe8-a5a0-70fc813b29d5",
   "metadata": {},
   "outputs": [
    {
     "name": "stdout",
     "output_type": "stream",
     "text": [
      "   tm_id  shannon_h\n",
      "0     32   5.706651\n",
      "1    845   4.065466\n",
      "2   1207   5.954289\n",
      "\n",
      "Index(['grid_index', 'tm_id', 'tmid_count', 'total_pix', 'tmid_pct',\n",
      "       'forest_pix', 'forest_pct', 'CN', 'STATUSCD', 'TPA_UNADJ', 'SPCD',\n",
      "       'COMMON_NAME', 'SCIENTIFIC_NAME', 'SPECIES_SYMBOL', 'DIA', 'HT',\n",
      "       'ACTUALHT', 'CR', 'SUBP', 'TREE', 'AGENTCD', 'shannon_h'],\n",
      "      dtype='object')\n"
     ]
    },
    {
     "data": {
      "text/plain": [
       "0"
      ]
     },
     "execution_count": 8,
     "metadata": {},
     "output_type": "execute_result"
    }
   ],
   "source": [
    "# Calculate the Shannon diversity index for each tm_id\n",
    "# Using the full list of trees in the Tree Table\n",
    "# Based on total trees per tm_id and proportion\n",
    "grid_trees['total_trees'] = grid_trees.groupby('tm_id')['TREE'].transform('sum')\n",
    "grid_trees['p_species'] = grid_trees['TREE'] / grid_trees['total_trees'] # proportion\n",
    "\n",
    "# Calculate Shannon diversity (H') for each tree row\n",
    "grid_trees['shannon_h'] = -grid_trees['p_species'] * np.log(grid_trees['p_species'])\n",
    "\n",
    "# Aggregate to calculate H' at the tm_id level\n",
    "shannon_tmid = (\n",
    "    grid_trees.groupby('tm_id', as_index=False)\n",
    "    .agg(shannon_h=('shannon_h', 'sum')))\n",
    "# subset columns\n",
    "shannon_tmid = shannon_tmid[['tm_id','shannon_h']]\n",
    "print(shannon_tmid.head(3))\n",
    "\n",
    "# merge back to the grid data\n",
    "grid_trees.drop(columns=['shannon_h', 'total_trees', 'p_species'], inplace=True)\n",
    "grid_trees = grid_trees.merge(shannon_tmid, on='tm_id', how='left')\n",
    "print(f\"\\n{grid_trees.columns}\")\n",
    "\n",
    "del shannon_tmid\n",
    "gc.collect()"
   ]
  },
  {
   "cell_type": "code",
   "execution_count": 9,
   "id": "3739f114-d55d-47af-81fd-a8572393af93",
   "metadata": {},
   "outputs": [
    {
     "name": "stdout",
     "output_type": "stream",
     "text": [
      "\n",
      "    grid_index  tm_id  tmid_pixels  tmid_acres   tmid_pct  forest_pct  \\\n",
      "0       183297   5447          7.0    1.556765   6.140351   67.455621   \n",
      "1       183297   5447          7.0    1.556765   6.140351   67.455621   \n",
      "2       183297  13033         45.0   10.007775  39.473684   67.455621   \n",
      "3       183297  13033         45.0   10.007775  39.473684   67.455621   \n",
      "4       183297  41520         11.0    2.446345   9.649123   67.455621   \n",
      "5       183297  41609          5.0    1.111975   4.385965   67.455621   \n",
      "6       183297  46609         39.0    8.673405  34.210526   67.455621   \n",
      "7       183297  46609         39.0    8.673405  34.210526   67.455621   \n",
      "8       183298  13198          1.0    0.222395   1.234568   44.505495   \n",
      "9       183298  46609         65.0   14.455675  80.246914   44.505495   \n",
      "10      183298  46609         65.0   14.455675  80.246914   44.505495   \n",
      "11      183299   4505          2.0    0.444790   4.255319   27.810651   \n",
      "\n",
      "                        species  shannon_h        balive       badead  \\\n",
      "0   common or two-needle pinyon   8.638175   2019.306716  1060.887083   \n",
      "1                  utah juniper   8.638175   1206.746574  1910.490238   \n",
      "2   common or two-needle pinyon   6.118440    545.805142   211.136764   \n",
      "3                  utah juniper   6.118440   2450.525649     0.000000   \n",
      "4                  utah juniper   3.817086    975.721790     0.000000   \n",
      "5                  utah juniper   5.774478   2595.425687    90.915159   \n",
      "6   common or two-needle pinyon   4.629669    165.568813     0.000000   \n",
      "7               oneseed juniper   4.629669   1882.298024     0.000000   \n",
      "8                  utah juniper   4.752754  11655.514639   756.837948   \n",
      "9   common or two-needle pinyon   4.629669    165.568813     0.000000   \n",
      "10              oneseed juniper   4.629669   1882.298024     0.000000   \n",
      "11                 utah juniper   4.331127   2510.399940   389.561311   \n",
      "\n",
      "      tpa_live   tpa_dead  tree_ht_live  tree_ht_dead      tpa_ld  \\\n",
      "0    36.136350   6.691917     16.111111          20.5   42.828267   \n",
      "1    18.737367  13.383833     13.800000          12.0   32.121200   \n",
      "2   138.728761   4.015150      9.666667          10.0  142.743911   \n",
      "3    44.166650   0.000000     12.000000           0.0   44.166650   \n",
      "4     6.691917   0.000000     12.500000           0.0    6.691917   \n",
      "5   138.844538   1.338383     10.307692           7.0  140.182921   \n",
      "6     5.353533   0.000000     15.000000           0.0    5.353533   \n",
      "7     5.353533   0.000000     14.666667           0.0    5.353533   \n",
      "8   113.762584   6.691917     10.136364          13.0  120.454501   \n",
      "9     5.353533   0.000000     15.000000           0.0    5.353533   \n",
      "10    5.353533   0.000000     14.666667           0.0    5.353533   \n",
      "11   12.045450   2.676767     13.600000          10.5   14.722217   \n",
      "\n",
      "           ba_ld  \n",
      "0    3080.193799  \n",
      "1    3117.236812  \n",
      "2     756.941906  \n",
      "3    2450.525649  \n",
      "4     975.721790  \n",
      "5    2686.340846  \n",
      "6     165.568813  \n",
      "7    1882.298024  \n",
      "8   12412.352587  \n",
      "9     165.568813  \n",
      "10   1882.298024  \n",
      "11   2899.961251  \n"
     ]
    },
    {
     "data": {
      "text/plain": [
       "0"
      ]
     },
     "execution_count": 9,
     "metadata": {},
     "output_type": "execute_result"
    }
   ],
   "source": [
    "# Calculate the Tree Table statistics across tm_id/grid_index combinations\n",
    "#### Abundance (trees/acre, scaled to per-pixel)\n",
    "#### Dominance (live basal area, scaled to per-pixel)\n",
    "#### Tree height (average/species)\n",
    "\n",
    "# force species name to lower case\n",
    "grid_trees.rename(columns={'COMMON_NAME': 'species'}, inplace=True)\n",
    "grid_trees['species'] = grid_trees['species'].str.lower()\n",
    "# tidy the live/dead column\n",
    "grid_trees['live_dead'] = (grid_trees['STATUSCD'] == 1).astype(int)\n",
    "# calculate the trees per acre, scaling by the acre/pixel factor\n",
    "grid_trees['tree_tpa'] = (grid_trees['TREE'] * grid_trees['TPA_UNADJ']) * 0.222395 # trees/acre\n",
    "\n",
    "# calculate live basal area (balive) scaled by TPA\n",
    "grid_trees['BA'] = np.pi * (grid_trees['DIA'] / 2) ** 2  # Basal area in square feet\n",
    "grid_trees['BA_TPAsc'] = grid_trees['BA'] * grid_trees['tree_tpa']  # adjust based on tree abundance\n",
    "\n",
    "# group by grid_index and plot identifier (tm_id)\n",
    "# calculate statistics for live/dead seperately\n",
    "# merge into a single dataframe\n",
    "\n",
    "# live trees\n",
    "live_metrics = (\n",
    "    grid_trees[grid_trees['live_dead'] == 1]\n",
    "    .groupby(['grid_index', 'tm_id', 'species'], as_index=False)\n",
    "    .agg(\n",
    "        tmid_pixels=('tmid_count','max'), # retains the tm_id pixel count\n",
    "        tmid_pct=('tmid_pct','max'), # retain the percent of forested area\n",
    "        forest_pct=('forest_pct','max'), # retain forest percent for the grid\n",
    "        shannon_h=('shannon_h','max'), # retains the tm_id shannon index\n",
    "        balive=('BA_TPAsc', 'sum'),    # total BALIVE\n",
    "        tpa_live=('tree_tpa', 'sum'),  # total live tree count (trees/acre)\n",
    "        tree_ht_live=('ACTUALHT','mean') # average tree height\n",
    "    )\n",
    ")\n",
    "\n",
    "# dead trees\n",
    "dead_metrics = (\n",
    "    grid_trees[grid_trees['live_dead'] == 0]\n",
    "    .groupby(['grid_index', 'tm_id', 'species'], as_index=False)\n",
    "    .agg(\n",
    "        badead=('BA_TPAsc', 'sum'),    # Live basal area\n",
    "        tpa_dead=('tree_tpa', 'sum'),  # Total live tree count (trees/acre)\n",
    "        tree_ht_dead=('ACTUALHT','mean') # average tree height\n",
    "    )\n",
    ")\n",
    "\n",
    "# combine live/dead balive\n",
    "tree_metrics = live_metrics.merge(\n",
    "    dead_metrics, \n",
    "    on=['grid_index', 'tm_id', 'species'], \n",
    "    how='outer'\n",
    ").fillna(0)\n",
    "# total acres for the tm_id (pixels * conversion factor)\n",
    "tree_metrics['tmid_acres'] =  tree_metrics['tmid_pixels'] * 0.222395 \n",
    "# subset to the tree metric columns\n",
    "tree_metrics = tree_metrics[['grid_index','tm_id','tmid_pixels','tmid_acres',\n",
    "                             'tmid_pct','forest_pct','species','shannon_h',\n",
    "                             'balive','badead','tpa_live','tpa_dead',\n",
    "                             'tree_ht_live','tree_ht_dead']]\n",
    "\n",
    "# Add a \"combined TPA\" (live + dead)\n",
    "# this may be important for lodgepole and spruce-fir in particular (beetle-kill)\n",
    "tree_metrics['tpa_ld'] = tree_metrics['tpa_live'] + tree_metrics['tpa_dead']\n",
    "tree_metrics['ba_ld'] = tree_metrics['balive'] + tree_metrics['badead']\n",
    "\n",
    "print(f\"\\n{tree_metrics.head(12)}\")\n",
    "del live_metrics, dead_metrics\n",
    "gc.collect()"
   ]
  },
  {
   "cell_type": "code",
   "execution_count": 10,
   "id": "e4d2c733-4373-47c4-9d36-985a21f47e7c",
   "metadata": {},
   "outputs": [
    {
     "data": {
      "text/plain": [
       "array(['common or two-needle pinyon', 'utah juniper', 'oneseed juniper',\n",
       "       'velvet mesquite', 'honey mesquite', 'siberian elm', 'gambel oak',\n",
       "       'alligator juniper', 'arizona pinyon pine', 'singleleaf pinyon',\n",
       "       'ponderosa pine', 'western juniper', 'arizona white oak',\n",
       "       'cherrybark oak', 'common persimmon', 'eastern hophornbeam',\n",
       "       'eastern redbud', 'green ash', 'shagbark hickory', 'sugarberry',\n",
       "       'swamp chestnut oak', 'sweetgum', 'emory oak',\n",
       "       'mexican pinyon pine', 'blue spruce', 'douglas-fir',\n",
       "       'quaking aspen', 'white fir', 'american hornbeam, musclewood',\n",
       "       'red maple', 'river birch', 'swamp tupelo', 'sweetbay',\n",
       "       'water oak', 'water tupelo', 'narrowleaf cottonwood',\n",
       "       'plains cottonwood', 'rocky mountain juniper',\n",
       "       'eastern cottonwood', 'fremont cottonwood',\n",
       "       'southwestern white pine', 'jeffrey pine', 'loblolly pine',\n",
       "       'pignut hickory', 'post oak', 'sassafras', 'southern red oak',\n",
       "       'white oak', 'american elm', 'redberry juniper',\n",
       "       'black cottonwood', 'canyon live oak', 'loblolly-bay',\n",
       "       'longleaf pine', 'redbay', 'slash pine', 'incense-cedar',\n",
       "       'bur oak', 'ashe juniper', 'eastern redcedar',\n",
       "       'california black oak', 'silverleaf oak',\n",
       "       'curlleaf mountain-mahogany', 'interior live oak', 'arizona pine',\n",
       "       'sugar pine', 'grand fir', 'western larch', 'chokecherry',\n",
       "       'california live oak', 'california torreya (nutmeg)',\n",
       "       'pacific madrone', 'boxelder', 'engelmann spruce', 'knobcone pine',\n",
       "       'tanoak', 'oregon white oak', 'lodgepole pine', 'washoe pine',\n",
       "       'paper birch', 'subalpine fir', 'california red fir', 'blue oak',\n",
       "       'california juniper', 'whitebark pine', 'corkbark fir',\n",
       "       'laurel oak', 'pondcypress', 'balsam poplar', 'black ash',\n",
       "       'white spruce', 'gray or california foothill pine',\n",
       "       'border pinyon', 'limber pine', 'mountain hemlock',\n",
       "       'shasta red fir', 'hawthorn spp.', 'serviceberry spp.',\n",
       "       'great basin bristlecone pine', 'western white pine',\n",
       "       'bitter cherry', 'bigtooth maple',\n",
       "       'giant chinkapin, golden chinkapin', 'bigleaf maple', 'live oak',\n",
       "       'unknown dead conifer', 'rocky mountain bristlecone pine',\n",
       "       'balsam fir', 'black spruce', 'jack pine', 'mountain maple',\n",
       "       'pin cherry', 'eastern white pine', 'northern pin oak',\n",
       "       'pacific yew', 'western redcedar', 'black cherry',\n",
       "       'western hemlock', 'northern white-cedar', 'sugar maple',\n",
       "       'yellow birch', 'noble fir', 'bigtooth aspen', 'arizona madrone',\n",
       "       'netleaf oak', 'american mountain-ash', 'redwood', 'red alder',\n",
       "       'sitka spruce', 'dwarf post oak', 'sand pine', 'turkey oak',\n",
       "       'pacific dogwood', 'american basswood', 'northern red oak',\n",
       "       'american holly', 'blackgum', 'flowering dogwood',\n",
       "       'shortleaf pine', 'yellow-poplar', 'arizona walnut', 'gray oak',\n",
       "       'chihuahuan pine', 'black walnut', 'chestnut oak',\n",
       "       'peachleaf willow', 'arizona alder', 'velvet ash', 'black oak',\n",
       "       'hickory spp.', 'mockernut hickory', 'scarlet oak', 'sourwood',\n",
       "       'virginia pine', 'american beech', 'bitternut hickory',\n",
       "       'florida maple', 'blackjack oak', 'winged elm', 'bluejack oak',\n",
       "       'chinaberry', 'black willow', 'chinese tallowtree', 'overcup oak',\n",
       "       'american plum', 'engelmann oak', 'baker or modoc cypress',\n",
       "       'red mulberry', 'silver maple', 'western soapberry',\n",
       "       'california white oak', 'netleaf hackberry', 'honeylocust',\n",
       "       'willow oak', 'baldcypress', 'spruce pine', 'water birch',\n",
       "       'ogeechee tupelo', 'southern magnolia', 'water-elm, planertree',\n",
       "       'pinchot juniper', 'red hickory', 'russian-olive', 'willow spp.',\n",
       "       'oregon ash', 'bebb willow', 'dwarf live oak',\n",
       "       'california buckeye', 'other or unknown live tree',\n",
       "       'mimosa, silktree', 'texas walnut', 'unknown dead hardwood',\n",
       "       'pond pine', 'cabbage palmetto', 'carolina ash', 'hackberry',\n",
       "       'pumpkin ash', 'american sycamore', 'mountain-ash spp.',\n",
       "       'sand hickory', 'chinkapin oak', 'slippery elm', 'desert ironwood',\n",
       "       'arizona sycamore', 'red pine', 'mexican blue oak', 'tamarack',\n",
       "       'screwbean mesquite', 'texas persimmon', 'southern redcedar',\n",
       "       'pacific silver fir', 'southern crab apple'], dtype=object)"
      ]
     },
     "execution_count": 10,
     "metadata": {},
     "output_type": "execute_result"
    }
   ],
   "source": [
    "unique_spp = tree_metrics['species'].unique()\n",
    "unique_spp"
   ]
  },
  {
   "cell_type": "code",
   "execution_count": 11,
   "id": "b3b718c5-ad1c-44b6-9af9-0bba8e2cac69",
   "metadata": {},
   "outputs": [
    {
     "data": {
      "text/plain": [
       "['arizona pinyon pine',\n",
       " 'ponderosa pine',\n",
       " 'mexican pinyon pine',\n",
       " 'southwestern white pine',\n",
       " 'jeffrey pine',\n",
       " 'loblolly pine',\n",
       " 'longleaf pine',\n",
       " 'slash pine',\n",
       " 'arizona pine',\n",
       " 'sugar pine',\n",
       " 'knobcone pine',\n",
       " 'lodgepole pine',\n",
       " 'washoe pine',\n",
       " 'subalpine fir',\n",
       " 'whitebark pine',\n",
       " 'gray or california foothill pine',\n",
       " 'limber pine',\n",
       " 'great basin bristlecone pine',\n",
       " 'western white pine',\n",
       " 'rocky mountain bristlecone pine',\n",
       " 'jack pine',\n",
       " 'eastern white pine',\n",
       " 'sand pine',\n",
       " 'shortleaf pine',\n",
       " 'chihuahuan pine',\n",
       " 'virginia pine',\n",
       " 'spruce pine',\n",
       " 'pond pine',\n",
       " 'red pine']"
      ]
     },
     "execution_count": 11,
     "metadata": {},
     "output_type": "execute_result"
    }
   ],
   "source": [
    "[s for s in unique_spp if 'pine' in str(s).lower()] # check pine species"
   ]
  },
  {
   "cell_type": "code",
   "execution_count": 12,
   "id": "eff6f13a-d0c4-4ccc-8bb3-ac1a895b0eff",
   "metadata": {},
   "outputs": [
    {
     "name": "stdout",
     "output_type": "stream",
     "text": [
      "\n",
      "Species making up 97% of *ba_ld_f_csum*: \n",
      "\n",
      "                          species         ba_ld        tpa_ld\n",
      "134                ponderosa pine  8.499388e+10  1.532846e+09\n",
      "100                lodgepole pine  4.158066e+10  2.610325e+09\n",
      "80                      grand fir  2.594398e+10  5.952783e+08\n",
      "64                    douglas-fir  1.786395e+10  4.292833e+08\n",
      "203                     white fir  1.048952e+10  3.140411e+08\n",
      "93                   jeffrey pine  1.027366e+10  1.386313e+08\n",
      "173                 subalpine fir  8.368008e+09  5.478531e+08\n",
      "198               western juniper  7.852138e+09  1.212141e+08\n",
      "74               engelmann spruce  6.138088e+09  2.918200e+08\n",
      "137                 quaking aspen  3.315437e+09  1.616115e+08\n",
      "199                 western larch  3.314474e+09  1.001725e+08\n",
      "90                  incense-cedar  3.048827e+09  4.657282e+07\n",
      "62     curlleaf mountain-mahogany  2.462039e+09  5.320397e+07\n",
      "78                     gambel oak  1.289538e+09  2.520150e+08\n",
      "188                  utah juniper  8.019722e+08  1.567556e+07\n",
      "175                    sugar pine  6.507652e+08  8.435769e+06\n",
      "162             singleleaf pinyon  6.366487e+08  7.342149e+06\n",
      "43           california black oak  6.318044e+08  1.012104e+07\n",
      "59    common or two-needle pinyon  5.746833e+08  3.423524e+07\n",
      "206                whitebark pine  5.207337e+08  4.180135e+07\n",
      "50                canyon live oak  4.963818e+08  1.059812e+07\n",
      "96                    limber pine  4.731776e+08  1.478326e+07\n",
      "61                   corkbark fir  4.651924e+08  1.791594e+07\n",
      "83   great basin bristlecone pine  3.505866e+08  1.254629e+06\n",
      "148        rocky mountain juniper  3.393929e+08  1.490183e+07\n",
      "98                  loblolly pine  2.985817e+08  1.092068e+07\n",
      "46            california live oak  2.617393e+08  8.893719e+05\n",
      "\n",
      "\n"
     ]
    }
   ],
   "source": [
    "# Identify the primary species from the Tree Table\n",
    "# identify the species which make up 97% of landscape\n",
    "spp_pr = (\n",
    "    tree_metrics.groupby('species', as_index=False)\n",
    "    .agg(\n",
    "        balive=('balive', 'sum'),\n",
    "        ba_ld=('ba_ld', 'sum'),\n",
    "        tpa_live=('tpa_live', 'sum'),\n",
    "        tpa_ld=('tpa_ld', 'sum') # live+dead\n",
    "    )\n",
    ")\n",
    "# calculate the fractions for both BALIVE and TPA\n",
    "spp_pr['balive_f'] = spp_pr['balive'] / spp_pr['balive'].sum()\n",
    "spp_pr['ba_ld_f'] = spp_pr['ba_ld'] / spp_pr['ba_ld'].sum() # live+dead\n",
    "spp_pr['tpa_live_f'] = spp_pr['tpa_live'] / spp_pr['tpa_live'].sum()\n",
    "spp_pr['tpa_ld_f'] = spp_pr['tpa_ld'] / spp_pr['tpa_ld'].sum() # live+dead\n",
    "# sort values and gather the primary species\n",
    "spp_pr = spp_pr.sort_values(by='ba_ld_f', ascending=False)\n",
    "# which species make up 97% of observations?\n",
    "spp_pr['balive_f_csum'] = spp_pr['balive_f'].cumsum()\n",
    "spp_pr['ba_ld_f_csum'] = spp_pr['ba_ld_f'].cumsum() # live+dead\n",
    "spp_pr['tpa_live_f_csum'] = spp_pr['tpa_live_f'].cumsum()\n",
    "spp_pr['tpa_ld_f_csum'] = spp_pr['tpa_ld_f'].cumsum() # live+dead\n",
    "\n",
    "metric = 'ba_ld_f_csum'\n",
    "top_species = spp_pr[spp_pr[metric] <= 0.99]\n",
    "print(f\"\\nSpecies making up 97% of *{metric}*: \\n\\n{top_species[['species','ba_ld','tpa_ld']]}\\n\\n\")"
   ]
  },
  {
   "cell_type": "code",
   "execution_count": 13,
   "id": "4c040682-cbbe-4886-89a1-b6ce9cbcbe78",
   "metadata": {},
   "outputs": [
    {
     "name": "stdout",
     "output_type": "stream",
     "text": [
      "\n",
      "                         species_pair  coo_count    coo_pct\n",
      "4   (engelmann spruce, subalpine fir)        649  23.087869\n",
      "0     (douglas-fir, engelmann spruce)        333  11.846318\n",
      "6            (douglas-fir, grand fir)        333  11.846318\n",
      "1            (douglas-fir, white fir)        324  11.526147\n",
      "3        (douglas-fir, subalpine fir)        265   9.427250\n",
      "10       (douglas-fir, western larch)        217   7.719673\n",
      "11         (grand fir, western larch)        157   5.585201\n",
      "2       (engelmann spruce, white fir)         74   2.632515\n",
      "8   (engelmann spruce, western larch)         69   2.454642\n",
      "12      (engelmann spruce, grand fir)         61   2.170046\n",
      "9      (subalpine fir, western larch)         60   2.134472\n",
      "7          (grand fir, subalpine fir)         38   1.351832\n",
      "14             (grand fir, white fir)         22   0.782640\n",
      "13         (western larch, white fir)         19   0.675916\n",
      "5          (subalpine fir, white fir)         16   0.569192\n"
     ]
    }
   ],
   "source": [
    "# Assess the species co-occurrence matrix to look for natural groupings\n",
    "# Tests the \"commonness\" of species pairings\n",
    "# Particularly, what to do with the \"mixed conifers\"\n",
    "from itertools import combinations\n",
    "from collections import Counter\n",
    "\n",
    "# 1. Filter Tree Table to relevant species (most common)\n",
    "spp_filter = ['white fir', 'grand fir', 'douglas-fir', 'engelmann spruce', 'subalpine fir', 'western larch']\n",
    "# spp_filter = ['gambel oak', 'incense-cedar', 'canyon live oak', 'california black oak', \n",
    "#               'curlleaf mountain-mahogany', 'western juniper', 'singleleaf pinyon',\n",
    "#               'common or two-needle pinyon', 'utah juniper'\n",
    "#              ]\n",
    "top_spp_df = tree_metrics[tree_metrics['species'].str.lower().isin(spp_filter)]\n",
    "# 2. Group species by tm_id\n",
    "spp_tmid = (\n",
    "    top_spp_df.groupby('tm_id')['species']\n",
    "    .apply(lambda x: list(x.str.lower().unique()))  # Get unique species per tm_id\n",
    "    .reset_index()\n",
    ")\n",
    "# 3. Generate all pairwise species combinations per tm_id\n",
    "species_pairs = spp_tmid['species'].apply(\n",
    "    lambda species_list: list(combinations(sorted(species_list), 2))\n",
    ")\n",
    "# Flatten list of all pairs\n",
    "all_pairs = [pair for sublist in species_pairs for pair in sublist]\n",
    "# 4. Count co-occurrences of each pair\n",
    "pair_counts = Counter(all_pairs)\n",
    "# Convert to DataFrame\n",
    "pair_counts_df = (\n",
    "    pd.DataFrame(pair_counts.items(), columns=['species_pair', 'coo_count'])\n",
    "    .sort_values(by='coo_count', ascending=False)\n",
    ")\n",
    "# 5. Calculate co-occurrence percentage\n",
    "total_tmid = len(spp_tmid)\n",
    "pair_counts_df['coo_pct'] = pair_counts_df['coo_count'] / total_tmid * 100\n",
    "\n",
    "# Inspect results\n",
    "print(f\"\\n{pair_counts_df.head(30)}\")"
   ]
  },
  {
   "cell_type": "code",
   "execution_count": 14,
   "id": "52f17ffb-dc8f-4a7d-aa14-e110d8ca1bb7",
   "metadata": {},
   "outputs": [
    {
     "name": "stdout",
     "output_type": "stream",
     "text": [
      "                        species     species_gp_n\n",
      "0   common or two-needle pinyon    pinon-juniper\n",
      "1                  utah juniper    pinon-juniper\n",
      "7               oneseed juniper    pinon-juniper\n",
      "12              velvet mesquite  velvet mesquite\n",
      "19               honey mesquite   honey mesquite\n",
      "20                 siberian elm     siberian elm\n",
      "37                   gambel oak     oak-woodland\n",
      "41            alligator juniper    pinon-juniper\n",
      "42          arizona pinyon pine    pinon-juniper\n",
      "44            singleleaf pinyon    pinon-juniper\n"
     ]
    }
   ],
   "source": [
    "# Aggregate species into forest groups\n",
    "# These groups represent common pairings for the Southern Rockies\n",
    "spp_grouping = {\n",
    "    'pinyon|juniper': 'pinon-juniper',\n",
    "    'engelmann spruce|subalpine fir|corkbark fir': 'spruce-fir',\n",
    "    'limber|bristlecone|whitebark': 'subalpine-pine',\n",
    "    'ponderosa pine|Jeffrey': 'ponderosa', \n",
    "    'lodgepole pine': 'lodgepole',\n",
    "    'aspen': 'quaking aspen',\n",
    "    'douglas-fir|grand fir|white fir|larch': 'mixed-conifer',\n",
    "    'oak': 'oak-woodland',\n",
    "    'cottonwood|willow': 'woody-riparian'\n",
    "}\n",
    "\n",
    "spp_remap = {} # dictionary to store the remap values\n",
    "# Iterate over groups to create the species remap dictionary\n",
    "for keywords, spp_group in spp_grouping.items():\n",
    "    # Find species matching the keywords\n",
    "    spp = tree_metrics[tree_metrics['species'].str.contains(keywords, case=False, na=False)]\n",
    "    # Add matching species to the remap dictionary\n",
    "    spp_remap.update({name: spp_group for name in spp['species'].unique()})\n",
    "\n",
    "# Apply the remap to create a new grouped species column\n",
    "tree_metrics['species_gp_n'] = tree_metrics['species'].map(spp_remap).fillna(tree_metrics['species'])\n",
    "# Verify the updated species groups\n",
    "print(tree_metrics[['species', 'species_gp_n']].drop_duplicates().head(10))"
   ]
  },
  {
   "cell_type": "code",
   "execution_count": 15,
   "id": "dfdde02a-c75b-4167-9f47-8784314bcfbc",
   "metadata": {},
   "outputs": [
    {
     "data": {
      "text/plain": [
       "Index(['grid_index', 'tm_id', 'tmid_pixels', 'tmid_acres', 'tmid_pct',\n",
       "       'forest_pct', 'species', 'shannon_h', 'balive', 'badead', 'tpa_live',\n",
       "       'tpa_dead', 'tree_ht_live', 'tree_ht_dead', 'tpa_ld', 'ba_ld',\n",
       "       'species_gp_n'],\n",
       "      dtype='object')"
      ]
     },
     "execution_count": 15,
     "metadata": {},
     "output_type": "execute_result"
    }
   ],
   "source": [
    "tree_metrics.columns"
   ]
  },
  {
   "cell_type": "code",
   "execution_count": 16,
   "id": "f5554c05-53bf-4c68-bdf7-6f0e80ee075b",
   "metadata": {},
   "outputs": [
    {
     "name": "stdout",
     "output_type": "stream",
     "text": [
      "\n",
      "   grid_index     species_gp_n  tmid_n  forest_pct  shannon_h         balive  \\\n",
      "0      183297    pinon-juniper       5   67.455621   6.045516   11841.398396   \n",
      "1      183298    pinon-juniper       2   44.505495   4.670697   13703.381476   \n",
      "2      183299   honey mesquite       1   27.810651   4.412579      31.797705   \n",
      "3      183299    pinon-juniper       5   27.810651   5.330857   28807.804851   \n",
      "4      183299     siberian elm       1   27.810651   4.412579    1253.933318   \n",
      "5      183299  velvet mesquite       2   27.810651   4.718105     813.600795   \n",
      "6      185547    pinon-juniper       8   65.384615   5.251518   19496.509407   \n",
      "7      185548     oak-woodland       1   51.530612   8.300890     219.546075   \n",
      "8      185548    pinon-juniper       8   51.530612   4.558589  483822.479251   \n",
      "9      185549   honey mesquite       1   50.000000   4.412579      31.797705   \n",
      "\n",
      "        badead          ba_ld     tpa_live   tpa_dead       tpa_ld  \\\n",
      "0  3273.429243   15114.827639   394.012649  25.429283   419.441933   \n",
      "1   756.837948   14460.219425   124.469651   6.691917   131.161567   \n",
      "2     0.000000      31.797705     1.338383   0.000000     1.338383   \n",
      "3  2190.425674   30998.230525   696.899454  21.414133   718.313588   \n",
      "4     0.000000    1253.933318    13.383833   0.000000    13.383833   \n",
      "5   141.360510     954.961305     8.030300   2.676767    10.707067   \n",
      "6  4314.743656   23811.253062   443.532833  34.797967   478.330799   \n",
      "7     0.000000     219.546075     8.030300   0.000000     8.030300   \n",
      "8  4834.123698  488656.602949  3118.863130  37.474734  3156.337863   \n",
      "9     0.000000      31.797705     1.338383   0.000000     1.338383   \n",
      "\n",
      "   tree_ht_live  tree_ht_dead  \n",
      "0     13.006517      6.187500  \n",
      "1     13.267677      4.333333  \n",
      "2      8.000000      0.000000  \n",
      "3     13.246314      4.854167  \n",
      "4     42.000000      0.000000  \n",
      "5     15.875000      8.000000  \n",
      "6     13.838626      6.538462  \n",
      "7     30.000000      0.000000  \n",
      "8     15.683898      6.145833  \n",
      "9      8.000000      0.000000  \n",
      "\n"
     ]
    }
   ],
   "source": [
    "# re-aggregate the TreeMap characteristics by FRP grid/species combinations\n",
    "# summarizes forest metrics by individual species present in the grid cell\n",
    "# now, summarizes against the new forest groups made above\n",
    "grid_tm = (\n",
    "    tree_metrics.groupby(\n",
    "        ['grid_index', 'species_gp_n'], as_index=False\n",
    "    ).agg(\n",
    "        tmid_n=('tm_id', 'nunique'), # number of unique tm_id contributing\n",
    "        forest_pct=('forest_pct','max'), # retains the forest pixel count for the grid\n",
    "        shannon_h=('shannon_h','mean'),\n",
    "        balive=('balive', 'sum'),\n",
    "        badead=('badead', 'sum'), \n",
    "        ba_ld=('ba_ld', 'sum'),\n",
    "        tpa_live=('tpa_live', 'sum'),  \n",
    "        tpa_dead=('tpa_dead', 'sum'),\n",
    "        tpa_ld=('tpa_ld', 'sum'),\n",
    "        tree_ht_live=('tree_ht_live', 'mean'),\n",
    "        tree_ht_dead=('tree_ht_dead', 'mean')\n",
    "    )\n",
    ")\n",
    "\n",
    "# Check results\n",
    "print(f\"\\n{grid_tm.head(10)}\\n\")"
   ]
  },
  {
   "cell_type": "code",
   "execution_count": 17,
   "id": "b99e0ef3-9891-4180-9a21-7fc722a7b88f",
   "metadata": {},
   "outputs": [
    {
     "name": "stdout",
     "output_type": "stream",
     "text": [
      "\n",
      "Species making up 97% of the total *tpa_live_f_csum*: \n",
      "\n",
      "       species_gp_n  balive_f  tpa_live_f\n",
      "84       ponderosa  0.403849    0.222931\n",
      "62   mixed-conifer  0.244223    0.191895\n",
      "59       lodgepole  0.176265    0.348149\n",
      "115     spruce-fir  0.063465    0.114380\n",
      "81   pinon-juniper  0.045000    0.026952\n",
      "86   quaking aspen  0.014060    0.021558\n",
      "70    oak-woodland  0.012929    0.038821\n",
      "\n",
      "\n"
     ]
    }
   ],
   "source": [
    "# Re-assess the primary species after the regrouping\n",
    "spp_pr = (\n",
    "    grid_tm.groupby('species_gp_n', as_index=False)\n",
    "    .agg(\n",
    "        balive=('ba_ld','sum'),\n",
    "        tpa_live=('tpa_ld', 'sum')\n",
    "    )\n",
    ")\n",
    "# calculate the fraction\n",
    "spp_pr['balive_f'] = spp_pr['balive'] / spp_pr['balive'].sum()\n",
    "spp_pr['tpa_live_f'] = spp_pr['tpa_live'] / spp_pr['tpa_live'].sum()\n",
    "# sort values and gather the primary species\n",
    "spp_pr = spp_pr.sort_values(by='balive_f', ascending=False)\n",
    "# which species make up 97% of observations?\n",
    "spp_pr['balive_f_csum'] = spp_pr['balive_f'].cumsum()\n",
    "spp_pr['tpa_live_f_csum'] = spp_pr['tpa_live_f'].cumsum()\n",
    "top_species = spp_pr[spp_pr['tpa_live_f_csum'] <= 0.97]\n",
    "print(\n",
    "    f\"\\nSpecies making up 97% of the total *tpa_live_f_csum*: \\n\\n\",\n",
    "    f\"{top_species[['species_gp_n','balive_f','tpa_live_f']]}\\n\\n\")"
   ]
  },
  {
   "cell_type": "code",
   "execution_count": 18,
   "id": "929d6b12-1742-4750-b51e-70c6958013c9",
   "metadata": {},
   "outputs": [
    {
     "name": "stdout",
     "output_type": "stream",
     "text": [
      "40717 [73.9%] grids w/ any aspen\n"
     ]
    }
   ],
   "source": [
    "# check on the aspen composition\n",
    "# how many grids have at least some aspen component?\n",
    "spp = 'quaking aspen'\n",
    "spp_idx = grid_tm[grid_tm['species_gp_n'] == spp]['grid_index'].unique() # list of grid indices\n",
    "grid_spp = grid_tm[grid_tm['grid_index'].isin(spp_idx)]\n",
    "# check how many aspen gridcells there are\n",
    "n_spp_grids = len(grid_spp['grid_index'].unique())\n",
    "print(f\"{n_spp_grids} [{round(n_spp_grids/len(grid_tm['grid_index'].unique())*100,1)}%] grids w/ any aspen\")"
   ]
  },
  {
   "cell_type": "code",
   "execution_count": 19,
   "id": "00c865ca-c8bd-4bd7-b779-6d91313dcbad",
   "metadata": {},
   "outputs": [
    {
     "name": "stdout",
     "output_type": "stream",
     "text": [
      "\n",
      "Dominance based on *tpa_ld*\n",
      "\n",
      "\t~ ponderosa: 11987 grids (21.7%)\n",
      "\t~ mixed-conifer: 7249 grids (13.2%)\n",
      "\t~ lodgepole: 18317 grids (33.2%)\n",
      "\t~ spruce-fir: 9420 grids (17.1%)\n",
      "\t~ pinon-juniper: 2116 grids (3.8%)\n",
      "\t~ quaking aspen: 1125 grids (2.0%)\n",
      "\t~ oak-woodland: 4368 grids (7.9%)\n",
      "\n",
      "Dominance based on *ba_ld*\n",
      "\n",
      "\t~ ponderosa: 22479 grids (40.8%)\n",
      "\t~ mixed-conifer: 8058 grids (14.6%)\n",
      "\t~ lodgepole: 12995 grids (23.6%)\n",
      "\t~ spruce-fir: 6359 grids (11.5%)\n",
      "\t~ pinon-juniper: 2995 grids (5.4%)\n",
      "\t~ quaking aspen: 910 grids (1.7%)\n",
      "\t~ oak-woodland: 407 grids (0.7%)\n",
      "\n",
      "\n"
     ]
    },
    {
     "data": {
      "text/plain": [
       "0"
      ]
     },
     "execution_count": 19,
     "metadata": {},
     "output_type": "execute_result"
    }
   ],
   "source": [
    "# Identify dominant species for each grid cell by 'balive' or 'tpa_live'\n",
    "# print these summaries for all species\n",
    "# percent of grids in which that species is dominant\n",
    "metrics = ['tpa_ld', 'ba_ld']  # metrics to assess\n",
    "for metric in metrics:\n",
    "    print(f\"\\nDominance based on *{metric}*\\n\")\n",
    "    dom_spp = (\n",
    "        grid_tm.groupby('grid_index', as_index=False)\n",
    "        .apply(lambda df: df.loc[df[metric].idxmax()])\n",
    "        .reset_index(drop=True))\n",
    "    # print the dominance for each major forest type\n",
    "    for spp in top_species['species_gp_n'].unique():\n",
    "        # Filter for grid cells where species is dominant\n",
    "        spp_dominant = dom_spp[dom_spp['species_gp_n'] == spp]\n",
    "        # Count the number of grid cells with aspen dominance\n",
    "        n_dom = len(spp_dominant['grid_index'].unique())\n",
    "        # Print the results\n",
    "        total_grids = len(grid_tm['grid_index'].unique())\n",
    "        spp_pct = round(n_dom / total_grids * 100, 1)\n",
    "        print(f\"\\t~ {spp}: {n_dom} grids ({spp_pct}%)\")\n",
    "print(\"\\n\")\n",
    "del dom_spp, spp_dominant\n",
    "gc.collect()"
   ]
  },
  {
   "cell_type": "code",
   "execution_count": 20,
   "id": "cfde08ff-da3c-44bc-96bd-cd4cd5895ae1",
   "metadata": {},
   "outputs": [
    {
     "data": {
      "text/plain": [
       "Index(['grid_index', 'species_gp_n', 'tmid_n', 'forest_pct', 'shannon_h',\n",
       "       'balive', 'badead', 'ba_ld', 'tpa_live', 'tpa_dead', 'tpa_ld',\n",
       "       'tree_ht_live', 'tree_ht_dead'],\n",
       "      dtype='object')"
      ]
     },
     "execution_count": 20,
     "metadata": {},
     "output_type": "execute_result"
    }
   ],
   "source": [
    "grid_tm.columns"
   ]
  },
  {
   "cell_type": "code",
   "execution_count": 21,
   "id": "1bd180ac-7fac-483b-9608-d7d4920804e5",
   "metadata": {},
   "outputs": [
    {
     "name": "stdout",
     "output_type": "stream",
     "text": [
      "\n",
      "99.993% grids w/ primary species\n",
      "\n",
      "[87.59%] predominantly forested grids.\n",
      "\n"
     ]
    },
    {
     "data": {
      "text/html": [
       "<div>\n",
       "<style scoped>\n",
       "    .dataframe tbody tr th:only-of-type {\n",
       "        vertical-align: middle;\n",
       "    }\n",
       "\n",
       "    .dataframe tbody tr th {\n",
       "        vertical-align: top;\n",
       "    }\n",
       "\n",
       "    .dataframe thead th {\n",
       "        text-align: right;\n",
       "    }\n",
       "</style>\n",
       "<table border=\"1\" class=\"dataframe\">\n",
       "  <thead>\n",
       "    <tr style=\"text-align: right;\">\n",
       "      <th></th>\n",
       "      <th>grid_index</th>\n",
       "      <th>species_gp_n</th>\n",
       "      <th>sp_dominance_l</th>\n",
       "      <th>sp_dominance_d</th>\n",
       "      <th>sp_dominance_ld</th>\n",
       "      <th>sp_abundance_l</th>\n",
       "      <th>sp_abundance_d</th>\n",
       "      <th>sp_abundance_ld</th>\n",
       "    </tr>\n",
       "  </thead>\n",
       "  <tbody>\n",
       "    <tr>\n",
       "      <th>0</th>\n",
       "      <td>183297</td>\n",
       "      <td>pinon-juniper</td>\n",
       "      <td>1.0</td>\n",
       "      <td>1.0</td>\n",
       "      <td>1.0</td>\n",
       "      <td>1.0</td>\n",
       "      <td>1.0</td>\n",
       "      <td>1.0</td>\n",
       "    </tr>\n",
       "    <tr>\n",
       "      <th>1</th>\n",
       "      <td>183298</td>\n",
       "      <td>pinon-juniper</td>\n",
       "      <td>1.0</td>\n",
       "      <td>1.0</td>\n",
       "      <td>1.0</td>\n",
       "      <td>1.0</td>\n",
       "      <td>1.0</td>\n",
       "      <td>1.0</td>\n",
       "    </tr>\n",
       "    <tr>\n",
       "      <th>2</th>\n",
       "      <td>183299</td>\n",
       "      <td>pinon-juniper</td>\n",
       "      <td>1.0</td>\n",
       "      <td>1.0</td>\n",
       "      <td>1.0</td>\n",
       "      <td>1.0</td>\n",
       "      <td>1.0</td>\n",
       "      <td>1.0</td>\n",
       "    </tr>\n",
       "  </tbody>\n",
       "</table>\n",
       "</div>"
      ],
      "text/plain": [
       "   grid_index   species_gp_n  sp_dominance_l  sp_dominance_d  sp_dominance_ld  \\\n",
       "0      183297  pinon-juniper             1.0             1.0              1.0   \n",
       "1      183298  pinon-juniper             1.0             1.0              1.0   \n",
       "2      183299  pinon-juniper             1.0             1.0              1.0   \n",
       "\n",
       "   sp_abundance_l  sp_abundance_d  sp_abundance_ld  \n",
       "0             1.0             1.0              1.0  \n",
       "1             1.0             1.0              1.0  \n",
       "2             1.0             1.0              1.0  "
      ]
     },
     "execution_count": 21,
     "metadata": {},
     "output_type": "execute_result"
    }
   ],
   "source": [
    "# filter to keep grids with our top/dominant species\n",
    "# species groups making up 97% of gridcell area\n",
    "grid_tm_dsp = grid_tm[grid_tm['species_gp_n'].isin(top_species['species_gp_n'].unique())]\n",
    "\n",
    "# check how many this is compared to the total\n",
    "n_grids = len(grid_tm['grid_index'].unique())\n",
    "print(f\"\\n{round(len(grid_tm_dsp['grid_index'].unique()) / n_grids*100,3)}% grids w/ primary species\\n\")\n",
    "\n",
    "# calculate how many grids are predominantly forested\n",
    "n_forest = len(grid_tm_dsp[grid_tm_dsp['forest_pct'] > 50])\n",
    "print(f\"[{round(n_forest/len(grid_tm_dsp)*100,2)}%] predominantly forested grids.\\n\")\n",
    "\n",
    "# Get the grid-level dominance and abundance proportions by species\n",
    "# calculate the total balive and tpa for the grids\n",
    "grid_totals = (\n",
    "    grid_tm_dsp.groupby('grid_index', as_index=False)\n",
    "    .agg(\n",
    "        balive_total=('balive', 'sum'),\n",
    "        badead_total=('badead', 'sum'),\n",
    "        ba_ld_total=('ba_ld', 'sum'),\n",
    "        tpa_live_total=('tpa_live', 'sum'),\n",
    "        tpa_dead_total=('tpa_dead', 'sum'),\n",
    "        tpa_ld_total=('tpa_ld', 'sum')\n",
    "    )\n",
    ")\n",
    "# subset columns\n",
    "grid_totals = grid_totals[['grid_index',\n",
    "                           'balive_total','badead_total','ba_ld_total',\n",
    "                           'tpa_live_total','tpa_dead_total','tpa_ld_total']]\n",
    "# merge back to the grid data\n",
    "grid_tm_dsp = grid_tm_dsp.merge(grid_totals, on='grid_index', how='left')\n",
    "\n",
    "# calculate the species proportions (for live/dead)\n",
    "# dominance (live/dead basal area)\n",
    "grid_tm_dsp['sp_dominance_l'] = grid_tm_dsp['balive'] / grid_tm_dsp['balive_total']\n",
    "grid_tm_dsp['sp_dominance_d'] = grid_tm_dsp['badead'] / grid_tm_dsp['badead_total']\n",
    "grid_tm_dsp['sp_dominance_ld'] = grid_tm_dsp['ba_ld'] / grid_tm_dsp['ba_ld_total']\n",
    "\n",
    "# abundance (live/dead TPA)\n",
    "grid_tm_dsp['sp_abundance_l'] = grid_tm_dsp['tpa_live'] / grid_tm_dsp['tpa_live_total']\n",
    "grid_tm_dsp['sp_abundance_d'] = grid_tm_dsp['tpa_dead'] / grid_tm_dsp['tpa_dead_total']\n",
    "grid_tm_dsp['sp_abundance_ld'] = grid_tm_dsp['tpa_live'] / grid_tm_dsp['tpa_live_total']\n",
    "\n",
    "# cheack on the results\n",
    "grid_tm_dsp[['grid_index','species_gp_n',\n",
    "             'sp_dominance_l','sp_dominance_d','sp_dominance_ld',\n",
    "             'sp_abundance_l','sp_abundance_d','sp_abundance_ld'\n",
    "            ]].head(3)"
   ]
  },
  {
   "cell_type": "code",
   "execution_count": 22,
   "id": "e98355ad-5e6e-4282-84d7-1b097d7c54ed",
   "metadata": {},
   "outputs": [
    {
     "data": {
      "text/plain": [
       "Index(['grid_index', 'species_gp_n', 'tmid_n', 'forest_pct', 'shannon_h',\n",
       "       'balive', 'badead', 'ba_ld', 'tpa_live', 'tpa_dead', 'tpa_ld',\n",
       "       'tree_ht_live', 'tree_ht_dead', 'balive_total', 'badead_total',\n",
       "       'ba_ld_total', 'tpa_live_total', 'tpa_dead_total', 'tpa_ld_total',\n",
       "       'sp_dominance_l', 'sp_dominance_d', 'sp_dominance_ld', 'sp_abundance_l',\n",
       "       'sp_abundance_d', 'sp_abundance_ld'],\n",
       "      dtype='object')"
      ]
     },
     "execution_count": 22,
     "metadata": {},
     "output_type": "execute_result"
    }
   ],
   "source": [
    "grid_tm_dsp.columns"
   ]
  },
  {
   "cell_type": "code",
   "execution_count": 23,
   "id": "921adc6e-5d49-4d6c-8693-c77b71aef8e6",
   "metadata": {},
   "outputs": [
    {
     "data": {
      "text/plain": [
       "Index(['grid_index', 'grid_area', 'afd_count', 'unique_days', 'overlap',\n",
       "       'frp_csum', 'frp_max', 'frp_min', 'frp_mean', 'frp_p90', 'frp_p95',\n",
       "       'frp_p97', 'frp_p99', 'frp_first', 'day_max_frp', 'dt_max_frp',\n",
       "       'first_obs_date', 'last_obs_date', 't4_max', 't4_mean', 't5_max',\n",
       "       't5_mean', 'day_count', 'night_count', 'frp_max_day', 'frp_max_night',\n",
       "       'frp_csum_day', 'frp_csum_night', 'frp_mean_day', 'frp_mean_night',\n",
       "       'frp_p90_day', 'frp_p90_night', 'frp_p95_day', 'frp_p95_night',\n",
       "       'frp_p97_day', 'frp_p97_night', 'frp_p99_day', 'frp_p99_night',\n",
       "       'frp_first_day', 'frp_first_night', 'Fire_ID', 'Fire_Name', 'geometry'],\n",
       "      dtype='object')"
      ]
     },
     "execution_count": 23,
     "metadata": {},
     "output_type": "execute_result"
    }
   ],
   "source": [
    "grid.columns"
   ]
  },
  {
   "cell_type": "code",
   "execution_count": 24,
   "id": "448c6e9f-67bf-45bb-b8b4-798623e77d0f",
   "metadata": {},
   "outputs": [
    {
     "data": {
      "text/plain": [
       "Index(['grid_index', 'grid_area', 'afd_count', 'unique_days', 'overlap',\n",
       "       'frp_csum', 'frp_max', 'frp_min', 'frp_mean', 'frp_p90', 'frp_p95',\n",
       "       'frp_p97', 'frp_p99', 'frp_first', 'day_max_frp', 'dt_max_frp',\n",
       "       'first_obs_date', 'last_obs_date', 't4_max', 't4_mean', 't5_max',\n",
       "       't5_mean', 'day_count', 'night_count', 'frp_max_day', 'frp_max_night',\n",
       "       'frp_csum_day', 'frp_csum_night', 'frp_mean_day', 'frp_mean_night',\n",
       "       'frp_p90_day', 'frp_p90_night', 'frp_p95_day', 'frp_p95_night',\n",
       "       'frp_p97_day', 'frp_p97_night', 'frp_p99_day', 'frp_p99_night',\n",
       "       'frp_first_day', 'frp_first_night', 'Fire_ID', 'Fire_Name', 'geometry',\n",
       "       'species_gp_n', 'tmid_n', 'forest_pct', 'shannon_h', 'balive', 'badead',\n",
       "       'ba_ld', 'tpa_live', 'tpa_dead', 'tpa_ld', 'tree_ht_live',\n",
       "       'tree_ht_dead', 'balive_total', 'badead_total', 'ba_ld_total',\n",
       "       'tpa_live_total', 'tpa_dead_total', 'tpa_ld_total', 'sp_dominance_l',\n",
       "       'sp_dominance_d', 'sp_dominance_ld', 'sp_abundance_l', 'sp_abundance_d',\n",
       "       'sp_abundance_ld'],\n",
       "      dtype='object')"
      ]
     },
     "execution_count": 24,
     "metadata": {},
     "output_type": "execute_result"
    }
   ],
   "source": [
    "# merge back to the frp data\n",
    "grid_tm_frp = grid.merge(grid_tm_dsp, on='grid_index', how='right')\n",
    "grid_tm_frp.columns"
   ]
  },
  {
   "cell_type": "code",
   "execution_count": 25,
   "id": "97e86490-1b72-4d06-828f-d3d8ee71a100",
   "metadata": {},
   "outputs": [
    {
     "data": {
      "text/plain": [
       "array(['pinon-juniper', 'oak-woodland', 'ponderosa', 'mixed-conifer',\n",
       "       'quaking aspen', 'spruce-fir', 'lodgepole'], dtype=object)"
      ]
     },
     "execution_count": 25,
     "metadata": {},
     "output_type": "execute_result"
    }
   ],
   "source": [
    "grid_tm_frp['species_gp_n'].unique()"
   ]
  },
  {
   "cell_type": "code",
   "execution_count": 26,
   "id": "9715d186-b25c-42cf-a1bd-762057e73f7a",
   "metadata": {},
   "outputs": [
    {
     "data": {
      "text/plain": [
       "geopandas.geodataframe.GeoDataFrame"
      ]
     },
     "execution_count": 26,
     "metadata": {},
     "output_type": "execute_result"
    }
   ],
   "source": [
    "type(grid_tm_frp)"
   ]
  },
  {
   "cell_type": "code",
   "execution_count": 28,
   "id": "41f9f0ea-e0e5-4d1a-aadf-97a91ca7c188",
   "metadata": {},
   "outputs": [
    {
     "name": "stdout",
     "output_type": "stream",
     "text": [
      "Saved file to: /Users/max/Library/CloudStorage/OneDrive-Personal/mcook/aspen-fire/Aim2/data/tabular/mod/viirs_gridstats_treemap.csv\n"
     ]
    },
    {
     "data": {
      "text/plain": [
       "0"
      ]
     },
     "execution_count": 28,
     "metadata": {},
     "output_type": "execute_result"
    }
   ],
   "source": [
    "# Save this table out.\n",
    "# First, extract centroid coords\n",
    "df = grid_tm_frp.copy()\n",
    "df = df.to_crs(4326) # WGS coords for lat/lon\n",
    "df['grid_x'] = df.geometry.centroid.x  # Longitude (x-coordinate)\n",
    "df['grid_y'] = df.geometry.centroid.y \n",
    "# remove the geomtry field before exporting\n",
    "df.drop(columns=['geometry'], inplace=True)\n",
    "\n",
    "# save the file.\n",
    "out_fp = os.path.join(projdir,'data/tabular/mod/viirs_gridstats_treemap.csv')\n",
    "df.to_csv(out_fp)\n",
    "print(f\"Saved file to: {out_fp}\")\n",
    "\n",
    "del df\n",
    "gc.collect()"
   ]
  },
  {
   "cell_type": "code",
   "execution_count": 37,
   "id": "027a9024-d8fa-48dc-b37d-d2a404e157c1",
   "metadata": {},
   "outputs": [
    {
     "data": {
      "image/png": "[encoded data removed]",
      "text/plain": [
       "<Figure size 700x600 with 2 Axes>"
      ]
     },
     "metadata": {},
     "output_type": "display_data"
    }
   ],
   "source": [
    "# Species co-occurrence plot\n",
    "# Threshold species presence where dominance/abundance > 1% of total\n",
    "dt = 0.05 # 5%\n",
    "# Create a binary presence-absence matrix\n",
    "pres_abs = (\n",
    "    grid_tm_frp\n",
    "    .pivot_table(index='grid_index', columns='species_gp_n', values='sp_dominance_ld', aggfunc='first')\n",
    "    .fillna(0)\n",
    "    .applymap(lambda x: 1 if x >= dt else 0)  # Convert to binary\n",
    ")\n",
    "\n",
    "# get the species names and matrix\n",
    "species = pres_abs.columns\n",
    "coo_mat = pd.DataFrame(0, index=species, columns=species)\n",
    "\n",
    "# map across species combinations\n",
    "for sp1, sp2 in combinations(species, 2):\n",
    "    # Count co-occurrence (grids where both species are present)\n",
    "    coo = np.sum(pres_abs[sp1] & pres_abs[sp2])\n",
    "    coo_mat.loc[sp1, sp2] = coo\n",
    "    coo_mat.loc[sp2, sp1] = coo  # Symmetry\n",
    "\n",
    "# Optional: Normalize by the total number of grids for each species\n",
    "species_totals = pres_abs.sum(axis=0)\n",
    "norm_mat = coo_mat.div(species_totals, axis=0)\n",
    "\n",
    "# Create a heatmap\n",
    "plt.figure(figsize=(7, 6))\n",
    "sns.heatmap(\n",
    "    norm_mat, annot=True, fmt=\".2f\", cmap=\"YlGnBu\", cbar_kws={'label': 'Co-Occurrence Frequency'}\n",
    ")\n",
    "plt.title(\"Species Co-Occurrence Heatmap\")\n",
    "plt.xlabel(\"Species\")\n",
    "plt.ylabel(\"Species\")\n",
    "plt.tight_layout()\n",
    "\n",
    "out_png = os.path.join(projdir, 'figures/FigureX_Species_CoOccurrence.png')\n",
    "plt.savefig(out_png, dpi=300, bbox_inches='tight')\n",
    "\n",
    "plt.show()"
   ]
  },
  {
   "cell_type": "code",
   "execution_count": 40,
   "id": "13ec5333-646f-4cb3-a4c0-2575b7df6206",
   "metadata": {},
   "outputs": [
    {
     "data": {
      "text/plain": [
       "Index(['grid_index', 'grid_area', 'afd_count', 'unique_days', 'overlap',\n",
       "       'frp_csum', 'frp_max', 'frp_min', 'frp_mean', 'frp_p90', 'frp_p95',\n",
       "       'frp_p97', 'frp_p99', 'frp_first', 'day_max_frp', 'dt_max_frp',\n",
       "       'first_obs_date', 'last_obs_date', 't4_max', 't4_mean', 't5_max',\n",
       "       't5_mean', 'day_count', 'night_count', 'frp_max_day', 'frp_max_night',\n",
       "       'frp_csum_day', 'frp_csum_night', 'frp_mean_day', 'frp_mean_night',\n",
       "       'frp_p90_day', 'frp_p90_night', 'frp_p95_day', 'frp_p95_night',\n",
       "       'frp_p97_day', 'frp_p97_night', 'frp_p99_day', 'frp_p99_night',\n",
       "       'frp_first_day', 'frp_first_night', 'Fire_ID', 'Fire_Name', 'geometry',\n",
       "       'species_gp_n', 'tmid_n', 'forest_pct', 'shannon_h', 'balive', 'badead',\n",
       "       'ba_ld', 'tpa_live', 'tpa_dead', 'tpa_ld', 'tree_ht_live',\n",
       "       'tree_ht_dead', 'balive_total', 'badead_total', 'ba_ld_total',\n",
       "       'tpa_live_total', 'tpa_dead_total', 'tpa_ld_total', 'sp_dominance_l',\n",
       "       'sp_dominance_d', 'sp_dominance_ld', 'sp_abundance_l', 'sp_abundance_d',\n",
       "       'sp_abundance_ld'],\n",
       "      dtype='object')"
      ]
     },
     "execution_count": 40,
     "metadata": {},
     "output_type": "execute_result"
    }
   ],
   "source": [
    "grid_tm_frp.columns"
   ]
  },
  {
   "cell_type": "code",
   "execution_count": 51,
   "id": "49c42c4a-6eca-4c7b-9fcc-aa6c9a5c08d5",
   "metadata": {},
   "outputs": [
    {
     "data": {
      "text/plain": [
       "73529"
      ]
     },
     "execution_count": 51,
     "metadata": {},
     "output_type": "execute_result"
    }
   ],
   "source": [
    "len(df)"
   ]
  },
  {
   "cell_type": "code",
   "execution_count": 54,
   "id": "3534f41e-e89b-4df7-a8bf-c71bed1a9bc6",
   "metadata": {},
   "outputs": [
    {
     "name": "stdout",
     "output_type": "stream",
     "text": [
      "Forest classes: ['conifer' 'quaking aspen']\n",
      "\n",
      "31271 grids w/ some aspen.\n",
      "\n",
      "   grid_index forest_phys          ba_ld       tpa_ld  abundance  dominance\n",
      "0      187795     conifer  241774.638308  3754.012558   1.000000   1.000000\n",
      "1      187796     conifer  244630.770949  3505.619720   0.935872   0.975506\n",
      "2      187797     conifer    5044.197628   193.602478   1.000000   1.000000\n",
      "\n",
      "   grid_index   conifer  aspen  combined  frp_max_day\n",
      "0      187795  1.000000    0.0  1.000000     8.595289\n",
      "1      187795  1.000000    0.0  1.000000     8.595289\n",
      "2      187796  0.975506    0.0  0.975506    17.740537\n",
      "\n"
     ]
    },
    {
     "data": {
      "image/png": "[encoded data removed]",
      "text/plain": [
       "<Figure size 600x400 with 2 Axes>"
      ]
     },
     "metadata": {},
     "output_type": "display_data"
    }
   ],
   "source": [
    "# create a 'conifer' column\n",
    "df = grid_tm_frp.copy() # work with a copy\n",
    "df = df[df['frp_max_day'] > 1] # filter out small FRP values\n",
    "\n",
    "# drop out the oak-woodland group\n",
    "drop_spp = ['oak-woodland']\n",
    "df = df[~df['species_gp_n'].isin(drop_spp)]\n",
    "\n",
    "# label conifer/aspen, summarize percent cover\n",
    "df['forest_phys'] = df['species_gp_n'].apply(lambda x: 'conifer' if x != 'quaking aspen' else x)\n",
    "print(f\"Forest classes: {df['forest_phys'].unique()}\\n\")\n",
    "\n",
    "# aggregate statistics\n",
    "df = (\n",
    "    df.groupby(['grid_index', 'forest_phys'], as_index=False)\n",
    "    .agg(\n",
    "        ba_ld=('balive','sum'),\n",
    "        tpa_ld=('tpa_live','sum'),\n",
    "        abundance=('sp_abundance_ld','sum'),\n",
    "        dominance=('sp_dominance_ld','sum')\n",
    "    )\n",
    ")\n",
    "\n",
    "# filter to where there is some aspen or conifer\n",
    "df = df[(df['abundance'] > 0)]\n",
    "\n",
    "print(f\"{len(df[df['forest_phys'] == 'quaking aspen'])} grids w/ some aspen.\\n\")\n",
    "print(f\"{df.head(3)}\\n\")\n",
    "\n",
    "# Pivot to have one row per grid with aspen and conifer as columns\n",
    "df_p = (\n",
    "    df.pivot(index='grid_index', columns='forest_phys', values='dominance')\n",
    "    .fillna(0)  # Fill missing values with 0\n",
    "    .reset_index()\n",
    "    .rename(columns={'quaking aspen': 'aspen', 'conifer': 'conifer'})\n",
    ")\n",
    "\n",
    "df_p['combined'] = df_p['aspen'] + df_p['conifer']\n",
    "df_p = df_p[df_p['combined'] > 0.20] # greater than 50% combined dominance\n",
    "\n",
    "# Add FRP metrics back to the DataFrame\n",
    "df_p = df_p.merge(\n",
    "    grid_tm_frp[['grid_index', 'frp_max_day']], on='grid_index', how='left'\n",
    ")\n",
    "print(f\"{df_p.head(3)}\\n\")\n",
    "\n",
    "# bin the data and plot the heatmap\n",
    "bins = np.linspace(0, 1, 6)  # 10% intervals\n",
    "df_p['aspen_bin'] = pd.cut(df_p['aspen'], bins, labels=bins[:-1])\n",
    "df_p['conifer_bin'] = pd.cut(df_p['conifer'], bins, labels=bins[:-1])\n",
    "\n",
    "# create the summarized data by bins (heatmap)\n",
    "heatmap_da = df_p.groupby(['aspen_bin', 'conifer_bin']).frp_max_day.mean().unstack()\n",
    "heatmap_da = heatmap_da.replace(0, np.nan)\n",
    "\n",
    "# heatmap_da_log = np.log10(heatmap_da + 1e-6)\n",
    "\n",
    "# plot it\n",
    "plt.figure(figsize=(6, 4))\n",
    "\n",
    "sns.heatmap(\n",
    "    heatmap_da, \n",
    "    cmap='coolwarm', \n",
    "    annot=True, \n",
    "    fmt=\".0f\", \n",
    "    cbar_kws={'label': 'Maximum FRP'}\n",
    ")\n",
    "\n",
    "plt.title(\"Aspen/Conifer Co-occurrence\", size=12, loc='center')\n",
    "plt.xlabel('Conifer (%)')\n",
    "plt.ylabel('Aspen (%)')\n",
    "\n",
    "out_plot = os.path.join(projdir, 'figures/FigureX_ConiferAspen_Heatmap_FRPmax_Tree.png')\n",
    "plt.savefig(out_plot, dpi=300, bbox_inches='tight')\n",
    "\n",
    "plt.show()"
   ]
  },
  {
   "cell_type": "code",
   "execution_count": null,
   "id": "2e22dc18-a4ae-4c80-9b83-aa4e5d81282a",
   "metadata": {},
   "outputs": [],
   "source": [
    "# scaled tile version\n",
    "# conifer/aspen\n",
    "df = grid_forest.copy() # work with a copy\n",
    "\n",
    "# label conifer/aspen, summarize percent cover\n",
    "df['ForestPhys'] = df['SpeciesName'].apply(lambda x: 'Conifer' if x != 'Aspen' else x)\n",
    "print(f\" Forest classes: {df['ForestPhys'].unique()}\\n\")\n",
    "\n",
    "# Recalculate percent cover\n",
    "cover_df = (\n",
    "    df.groupby(['grid_index', 'ForestPhys'])['spp_pct']\n",
    "    .sum()\n",
    "    .unstack(fill_value=0)\n",
    "    .reset_index()\n",
    "    .rename(columns={'Aspen': 'aspen_pct', 'Conifer': 'conifer_pct'})\n",
    ")\n",
    "\n",
    "cover_df['combined_pct'] = cover_df['aspen_pct'] + cover_df['conifer_pct']\n",
    "# cover_df = cover_df[cover_df['combined_pct'] > 60]\n",
    "\n",
    "# Merge with FRP data\n",
    "frp_df = grid_aspen[['grid_index', 'frp_max', 'frp_max_day', \n",
    "                     'frp_max_night', 'frp_csum', 'frp_p90']].drop_duplicates()\n",
    "cover_df = cover_df.merge(frp_df, on='grid_index', how='left')\n",
    "\n",
    "# Bin Aspen and species percent cover\n",
    "bins = np.linspace(0, 100, 11)  # 10% intervals\n",
    "cover_df['aspen_bin'] = pd.cut(cover_df['aspen_pct'], bins, labels=bins[:-1])\n",
    "cover_df['conifer_bin'] = pd.cut(cover_df['conifer_pct'], bins, labels=bins[:-1])\n",
    "\n",
    "# Group by bins and calculate statistics\n",
    "grouped = cover_df.groupby(['aspen_bin', 'conifer_bin'])\n",
    "counts = grouped.size().reset_index(name='freq')  # Frequency for tile size\n",
    "mean_frp = grouped['frp_max_day'].mean().reset_index(name='frp')  # Mean FRP for color\n",
    "\n",
    "# Merge statistics into a single DataFrame\n",
    "tiles_df = pd.merge(counts, mean_frp, on=['aspen_bin', 'conifer_bin'])\n",
    "tiles_df['tile_size'] = (tiles_df['freq'] / tiles_df['freq'].max()) ** 0.2\n",
    "\n",
    "# create the plot\n",
    "tiles_df['aspen_bin_idx'] = tiles_df['aspen_bin'].cat.codes\n",
    "tiles_df['conifer_bin_idx'] = tiles_df['conifer_bin'].cat.codes\n",
    "\n",
    "# get the KDE plot for aspen/conifer\n",
    "kde_data = cover_df.melt(\n",
    "    id_vars='grid_index', \n",
    "    value_vars=['aspen_pct', 'conifer_pct'], \n",
    "    var_name='species', \n",
    "    value_name='pct_cover'\n",
    ")\n",
    "\n",
    "# Rename for consistent labeling\n",
    "kde_data['species'] = kde_data['species'].replace({\n",
    "    'aspen_pct': 'Aspen', \n",
    "    'conifer_pct': 'Conifer'\n",
    "})"
   ]
  },
  {
   "cell_type": "code",
   "execution_count": null,
   "id": "b5d6431b-f985-489c-8cc5-61c5ea98851e",
   "metadata": {},
   "outputs": [],
   "source": []
  },
  {
   "cell_type": "code",
   "execution_count": null,
   "id": "0d102e6e-0396-4971-8255-63e95f74cc10",
   "metadata": {},
   "outputs": [],
   "source": []
  },
  {
   "cell_type": "code",
   "execution_count": null,
   "id": "0b3d411f-59da-4755-bb5f-39315a879ebf",
   "metadata": {},
   "outputs": [],
   "source": []
  },
  {
   "cell_type": "code",
   "execution_count": null,
   "id": "08edabf5-cefe-4f89-8ac5-6b72db4b1b87",
   "metadata": {},
   "outputs": [],
   "source": [
    "# 1. Prepare the data\n",
    "# Filter data to remove non-forested or low-FRP grid cells\n",
    "grid_tm_frp_nonzero = grid_tm_frp[grid_tm_frp['frp_max_day'] > 0]\n",
    "\n",
    "# Compute the dominant species based on abundance and dominance\n",
    "dominant_abundance = (\n",
    "    grid_tm_frp_nonzero.loc[grid_tm_frp_nonzero.groupby('grid_index')['sp_abundance_ld'].idxmax()]\n",
    ")\n",
    "dominant_dominance = (\n",
    "    grid_tm_frp_nonzero.loc[grid_tm_frp_nonzero.groupby('grid_index')['sp_dominance_ld'].idxmax()]\n",
    ")\n",
    "\n",
    "# Subset only rows with a significant contribution (threshold adjustable)\n",
    "abundance_threshold = 0.5  # Example: At least 80% abundance\n",
    "dominance_threshold = 0.5  # Example: At least 80% dominance\n",
    "\n",
    "dom_abundance = dominant_abundance[dominant_abundance['sp_abundance_ld'] > abundance_threshold]\n",
    "dom_dominance = dominant_dominance[dominant_dominance['sp_dominance_ld'] > dominance_threshold]\n",
    "\n",
    "# Get sorted species order by FRP median\n",
    "abundance_median = dom_abundance.groupby('species_gp_n')['frp_max_day'].median().sort_values(ascending=False)\n",
    "dominance_median = dom_dominance.groupby('species_gp_n')['frp_max_day'].median().sort_values(ascending=False)\n",
    "\n",
    "# Sort species names by FRP medians\n",
    "abundance_sorted = abundance_median.index.tolist()\n",
    "dominance_sorted = dominance_median.index.tolist()\n",
    "\n",
    "# 2. Plot: Abundance-Based\n",
    "plt.figure(figsize=(6, 4))\n",
    "sns.boxplot(\n",
    "    data=dom_abundance,\n",
    "    x='frp_max_day',\n",
    "    y='species_gp_n',\n",
    "    order=abundance_sorted,\n",
    "    palette='coolwarm_r',\n",
    "    fliersize=4,\n",
    "    dodge=False\n",
    ")\n",
    "plt.xscale('log')  # Log-scale FRP\n",
    "plt.xlabel('Daytime Fire Radiative Power (FRP)')\n",
    "plt.ylabel('Forest Type (Abundance-Based)')\n",
    "plt.title('FRP by Dominant Species (Abundance)')\n",
    "plt.tight_layout()\n",
    "\n",
    "# out_plot_abundance = os.path.join(projdir, 'figures/FigureX_ForestAbundance_FRPmax.png')\n",
    "# plt.savefig(out_plot_abundance, dpi=300, bbox_inches='tight')\n",
    "# print(f\"\\nSaved to: {out_plot_abundance}\\n\")\n",
    "\n",
    "plt.show()\n",
    "\n",
    "# 3. Plot: Dominance-Based\n",
    "plt.figure(figsize=(6, 4))\n",
    "sns.boxplot(\n",
    "    data=dom_dominance,\n",
    "    x='frp_max_day',\n",
    "    y='species_gp_n',\n",
    "    order=dominance_sorted,\n",
    "    palette='coolwarm_r',\n",
    "    fliersize=4,\n",
    "    dodge=False\n",
    ")\n",
    "plt.xscale('log')  # Log-scale FRP\n",
    "plt.xlabel('Daytime Fire Radiative Power (FRP)')\n",
    "plt.ylabel('Forest Type (Dominance-Based)')\n",
    "plt.title('FRP by Dominant Species (Dominance)')\n",
    "plt.tight_layout()\n",
    "\n",
    "# out_plot_dominance = os.path.join(projdir, 'figures/FigureX_ForestDominance_FRPmax.png')\n",
    "# plt.savefig(out_plot_dominance, dpi=300, bbox_inches='tight')\n",
    "# print(f\"\\nSaved to: {out_plot_dominance}\\n\")\n",
    "\n",
    "plt.show()"
   ]
  },
  {
   "cell_type": "code",
   "execution_count": null,
   "id": "ede54433-3f46-438e-aa92-497af57e75e3",
   "metadata": {},
   "outputs": [],
   "source": []
  },
  {
   "cell_type": "code",
   "execution_count": null,
   "id": "ddf0c8ec-5238-4e24-b8da-d683728374c4",
   "metadata": {},
   "outputs": [],
   "source": []
  },
  {
   "cell_type": "code",
   "execution_count": null,
   "id": "45bf8f25-282a-486c-8aa6-25b3e960743d",
   "metadata": {},
   "outputs": [],
   "source": []
  },
  {
   "cell_type": "code",
   "execution_count": null,
   "id": "c1adfcd7-9a7b-4f36-a504-be05408a9905",
   "metadata": {},
   "outputs": [],
   "source": [
    "# # Plot the influence of aspen composition on FRP\n",
    "# # Conifer/Aspen dominance waffle chart\n",
    "\n",
    "# # create bins for species composition\n",
    "# bins = np.linspace(0, 100, 6) # 20% intervals\n",
    "# spps = [s for s in grid_tm_frp['species_gp_n'].unique() if s != 'quaking aspen'] # exclude aspen from species list\n",
    "# print(f\"Associate forest type: {spps}\\n\")\n",
    "\n",
    "# df = grid_tm_frp.copy() # work on a copy of the data\n",
    "\n",
    "# # create grid data\n",
    "# tiles = []  # Store tile data\n",
    "# for sp in spps:\n",
    "#     # Filter for co-occurrence\n",
    "#     df_sp = df[df['species_gp_n'].isin(['Aspen', sp])]\n",
    "\n",
    "#     # Pivot to create columns for Aspen and the species\n",
    "#     cover_df = (\n",
    "#         df_sp.pivot_table(index='grid_index', columns='species_gp_n', values='spp_pct', fill_value=0)\n",
    "#         .reset_index()\n",
    "#         .rename(columns={'Aspen': 'aspen_pct', sp: f'{sp}_pct'})\n",
    "#     )\n",
    "\n",
    "#     # make sure there is some of each kind\n",
    "#     cover_df['combined_pct'] = cover_df['aspen_pct'] + cover_df[f'{sp}_pct']\n",
    "#     cover_df = cover_df[cover_df['combined_pct'] > 50]\n",
    "\n",
    "#     # Merge with FRP data\n",
    "#     frp_df = grid_aspen[['grid_index', 'frp_max', 'frp_max_day', 'frp_max_night', 'frp_csum', 'frp_p90']].drop_duplicates()\n",
    "#     cover_df = cover_df.merge(frp_df, on='grid_index', how='left')\n",
    "\n",
    "#     # Bin Aspen and species percent cover\n",
    "#     cover_df['aspen_bin'] = pd.cut(cover_df['aspen_pct'], bins, labels=range(len(bins) - 1))\n",
    "#     cover_df[f'{sp}_bin'] = pd.cut(cover_df[f'{sp}_pct'], bins, labels=range(len(bins) - 1))\n",
    "\n",
    "#     # Group by bins and calculate statistics\n",
    "#     grouped = cover_df.groupby(['aspen_bin', f'{sp}_bin'])\n",
    "#     counts = grouped.size().reset_index(name='freq')  # Frequency for tile size\n",
    "#     mean_frp = grouped['frp_max_day'].mean().reset_index(name='frp')  # Mean FRP for color\n",
    "\n",
    "#     # Merge statistics into a single DataFrame\n",
    "#     tiled_data = pd.merge(counts, mean_frp, on=['aspen_bin', f'{sp}_bin'])\n",
    "#     tiled_data['species'] = sp\n",
    "#     tiles.append(tiled_data)\n",
    "\n",
    "# # Combine tile data\n",
    "# tiles_df = pd.concat(tiles, ignore_index=True)\n",
    "# tiles_df['log_frp'] = np.log10(tiles_df['frp'] + 1)\n",
    "\n",
    "# # Normalize tile sizes (scale frequency)\n",
    "# tiles_df['tile_size'] = (tiles_df['freq'] / tiles_df['freq'].max()) ** 0.2  # Square root scaling for better size balance\n",
    "\n",
    "# # Plotting the tile-scaled heatmap\n",
    "# n_cols = 3  # Number of columns in the facet grid\n",
    "# n_rows = int(np.ceil(len(spps) / n_cols))\n",
    "# fig, axes = plt.subplots(n_rows, n_cols, figsize=(9,3.5), constrained_layout=True)\n",
    "# axes = axes.flatten()\n",
    "\n",
    "# vmin = tiles_df['log_frp'].min()\n",
    "# vmax = tiles_df['log_frp'].quantile()\n",
    "# norm = mcolors.Normalize(vmin=vmin, vmax=vmax)  # Define color normalization based on raw FRP range\n",
    "\n",
    "# log_frp_min = np.percentile(tiles_df['log_frp'], 10)\n",
    "# log_frp_max = np.percentile(tiles_df['log_frp'], 90)\n",
    "\n",
    "# # make the grids\n",
    "# for i, sp in enumerate(spps):\n",
    "#     sp_data = tiles_df[tiles_df['species'] == sp]\n",
    "#     ax = axes[i]\n",
    "\n",
    "#     vmin = sp_data['frp'].min()\n",
    "#     vmax = sp_data['frp'].max()\n",
    "\n",
    "#     for _, row in sp_data.iterrows():\n",
    "#         x = int(row[f'{sp}_bin'])  \n",
    "#         y = int(row['aspen_bin'])  \n",
    "#         size = row['tile_size'] * 0.9\n",
    "        \n",
    "#         norm = mcolors.Normalize(vmin=vmin, vmax=vmax)\n",
    "#         color = plt.cm.coolwarm(norm(row['frp']))\n",
    "        \n",
    "#         ax.add_patch(\n",
    "#             plt.Rectangle(\n",
    "#                 (x - size / 2, y - size / 2), size, size, color=color, ec='black', lw=0.5\n",
    "#             )\n",
    "#         )\n",
    "\n",
    "#     # Formatting the axes\n",
    "#     # ax.set_title(sp, size=10)\n",
    "#     ax.text(\n",
    "#         0.95, 0.95, sp,  # x, y position in axis coordinates (top-right corner)\n",
    "#         transform=ax.transAxes,  # Use axis coordinates (0,0 is bottom-left, 1,1 is top-right)\n",
    "#         ha='right', va='top',  # Align the text to the top-right\n",
    "#         fontsize=10, color='black', bbox=dict(facecolor='white', edgecolor='none', boxstyle='round,pad=0.2')\n",
    "#     )\n",
    "#     ax.set_xlabel(f'')\n",
    "#     ax.set_ylabel('Aspen Cover (%)', size=9)\n",
    "#     ax.set_xticks(range(len(bins) - 1))\n",
    "#     ax.set_yticks(range(len(bins) - 1))\n",
    "#     ax.set_xticklabels([f'{int(b)}%' for b in bins[:-1]], size=8)\n",
    "#     ax.set_yticklabels([f'{int(b)}%' for b in bins[:-1]], size=8)\n",
    "#     ax.set_xlim(-0.5, len(bins) - 1.5)\n",
    "#     ax.set_ylim(-0.5, len(bins) - 1.5)\n",
    "\n",
    "#     # sm = plt.cm.ScalarMappable(cmap=plt.cm.coolwarm, norm=norm)\n",
    "#     # cbar = fig.colorbar(sm, ax=ax, orientation='vertical', fraction=0.50, pad=0.1)\n",
    "#     # cbar.set_label('Maximum FRP')\n",
    "\n",
    "# sm = plt.cm.ScalarMappable(cmap=plt.cm.coolwarm, norm=norm)\n",
    "# cbar = fig.colorbar(sm, ax=axes, orientation='vertical', fraction=0.05, pad=0.02)\n",
    "# cbar.set_label('Maximum FRP')\n",
    "# cbar.set_label('Cumulative FRP', fontsize=10)\n",
    "# cbar.ax.tick_params(labelsize=8)\n",
    "\n",
    "# # Remove unused axes\n",
    "# for j in range(i + 1, len(axes)):\n",
    "#     fig.delaxes(axes[j])\n",
    "\n",
    "# del df\n",
    "\n",
    "# out_plot = os.path.join(projdir, 'figures/FigureX_CoOccurring_Heatmap_FRPmax_Scaled.png')\n",
    "# plt.savefig(out_plot, dpi=300, bbox_inches='tight')\n",
    "\n",
    "# plt.show()"
   ]
  }
 ],
 "metadata": {
  "kernelspec": {
   "display_name": "aspen-fire",
   "language": "python",
   "name": "aspen-fire"
  },
  "language_info": {
   "codemirror_mode": {
    "name": "ipython",
    "version": 3
   },
   "file_extension": ".py",
   "mimetype": "text/x-python",
   "name": "python",
   "nbconvert_exporter": "python",
   "pygments_lexer": "ipython3",
   "version": "3.10.12"
  }
 },
 "nbformat": 4,
 "nbformat_minor": 5
}
