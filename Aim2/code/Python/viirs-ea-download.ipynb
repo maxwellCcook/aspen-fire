{
 "cells": [
  {
   "cell_type": "markdown",
   "id": "533a57d6-eb77-4629-8e17-c17599f48a8b",
   "metadata": {},
   "source": [
    "## Search and Download VIIRS Active Fire using 'earthaccess'"
   ]
  },
  {
   "cell_type": "code",
   "execution_count": 1,
   "id": "a136f5eb-c1ce-4e26-a439-7a3fdf42508c",
   "metadata": {},
   "outputs": [
    {
     "name": "stdout",
     "output_type": "stream",
     "text": [
      "Success!\n"
     ]
    }
   ],
   "source": [
    "\"\"\"\n",
    "Package imports and environment variables\n",
    "\"\"\"\n",
    "\n",
    "# Import modules and env vars\n",
    "\n",
    "import os, time, shutil\n",
    "import folium\n",
    "import earthaccess\n",
    "import warnings\n",
    "import folium.plugins\n",
    "import pandas as pd\n",
    "import geopandas as gpd\n",
    "import rioxarray as rxr\n",
    "import rasterio as rio\n",
    "import numpy as np\n",
    "import math\n",
    "\n",
    "from rasterio.plot import show\n",
    "from branca.element import Figure\n",
    "from IPython.display import display\n",
    "from shapely import geometry\n",
    "from skimage import io\n",
    "from datetime import timedelta\n",
    "from shapely.geometry.polygon import orient\n",
    "from matplotlib import pyplot as plt\n",
    "\n",
    "maindir = '/Users/max/Library/CloudStorage/OneDrive-Personal/mcook/'\n",
    "\n",
    "# Projection information\n",
    "geog = 'EPSG:4326'  # Geographic projection\n",
    "proj = 'EPSG:5070'  # Projected coordinate system\n",
    "\n",
    "print(\"Success!\")"
   ]
  },
  {
   "cell_type": "code",
   "execution_count": 2,
   "id": "9c6802ae-919b-4eff-9789-0fcce26063e8",
   "metadata": {},
   "outputs": [
    {
     "name": "stdout",
     "output_type": "stream",
     "text": [
      "Ready\n"
     ]
    }
   ],
   "source": [
    "def get_shapely_object(result:earthaccess.results.DataGranule):\n",
    "    \"\"\"\n",
    "    Retrieve geospatial information from ECOSTRESS granule footprints.\n",
    "    This function allows us to retrieve the geographic coverage for each granule and plot it on a map.\n",
    "    \n",
    "    :param 'result:earthaccess.results.DataGranule': a single data granule from earthaccess data search\n",
    "    \"\"\"\n",
    "    \n",
    "    # Get Geometry Keys\n",
    "    geo = result['umm']['SpatialExtent']['HorizontalSpatialDomain']['Geometry']\n",
    "    keys = geo.keys()\n",
    "\n",
    "    if 'BoundingRectangles' in keys:\n",
    "        bounding_rectangle = geo['BoundingRectangles'][0]\n",
    "        # Create bbox tuple\n",
    "        bbox_coords = (bounding_rectangle['WestBoundingCoordinate'],bounding_rectangle['SouthBoundingCoordinate'],\n",
    "                       bounding_rectangle['EastBoundingCoordinate'],bounding_rectangle['NorthBoundingCoordinate'])\n",
    "        # Create shapely geometry from bbox\n",
    "        shape = geometry.box(*bbox_coords, ccw=True)\n",
    "    elif 'GPolygons' in keys:\n",
    "        points = geo['GPolygons'][0]['Boundary']['Points']\n",
    "        # Create shapely geometry from polygons\n",
    "        shape = geometry.Polygon([[p['Longitude'],p['Latitude']] for p in points])\n",
    "    else:\n",
    "         raise ValueError('Provided result does not contain bounding boxes/polygons or is incompatible.')\n",
    "    return(shape)\n",
    "\n",
    "\n",
    "# Convert bounding coordinates to Folium-ready data for mapping\n",
    "def convert_bounds(bbox, invert_y=False):\n",
    "    \"\"\"\n",
    "    Helper method for changing bounding box representation to leaflet notation\n",
    "    Leaflet interactive maps require a specific format for coordinates, this function sets that up for a given bounding box.\n",
    "\n",
    "    ``(lon1, lat1, lon2, lat2) -> ((lat1, lon1), (lat2, lon2))``\n",
    "    \"\"\"\n",
    "    x1, y1, x2, y2 = bbox\n",
    "    if invert_y:\n",
    "        y1, y2 = y2, y1\n",
    "    return ((y1, x1), (y2, x2))\n",
    "    \n",
    "print(\"Ready\")"
   ]
  },
  {
   "cell_type": "code",
   "execution_count": 3,
   "id": "cdc0e1cf-749f-4778-977c-738c389ab997",
   "metadata": {},
   "outputs": [
    {
     "name": "stdout",
     "output_type": "stream",
     "text": [
      "Index(['fired_id', 'ig_date', 'ig_day', 'ig_month', 'ig_year', 'last_date',\n",
      "       'event_dur', 'tot_pix', 'tot_ar_km2', 'fsr_px_dy', 'fsr_km2_dy',\n",
      "       'mx_grw_px', 'mn_grw_px', 'mu_grw_px', 'mx_grw_km2', 'mn_grw_km2',\n",
      "       'mu_grw_km2', 'mx_grw_dte', 'x', 'y', 'ig_utm_x', 'ig_utm_y', 'lc_code',\n",
      "       'lc_mode', 'lc_name', 'lc_desc', 'lc_type', 'eco_mode', 'eco_name',\n",
      "       'eco_type', 'tot_perim', 'pct_aspen', 'geometry'],\n",
      "      dtype='object')\n"
     ]
    }
   ],
   "source": [
    "# Load some data\n",
    "fires = gpd.read_file(os.path.join(maindir,'aspen-fire/Aim2/data/spatial/mod/FIRED/fired_events_west_aspen.gpkg'))\n",
    "print(fires.columns)"
   ]
  },
  {
   "cell_type": "markdown",
   "id": "388eb393-3ee7-4618-adfc-db2eefbad0c2",
   "metadata": {},
   "source": [
    "#### Identify available VIIRS active fire products (VNP14)"
   ]
  },
  {
   "cell_type": "code",
   "execution_count": 17,
   "id": "b6ed86a0-8a35-40c2-b305-1264702338dc",
   "metadata": {},
   "outputs": [
    {
     "name": "stdout",
     "output_type": "stream",
     "text": [
      "Collections found: 11\n",
      "All available data products: \n"
     ]
    },
    {
     "data": {
      "text/plain": [
       "['VNP14A1',\n",
       " 'VNP14A1',\n",
       " 'VNP14',\n",
       " 'VNP03MODLL',\n",
       " 'VJ114A1',\n",
       " 'VJ114',\n",
       " 'VJ114IMG',\n",
       " 'VNP14',\n",
       " 'VNP14IMG',\n",
       " 'VNP14_NRT',\n",
       " 'VNP03MODLL']"
      ]
     },
     "execution_count": 17,
     "metadata": {},
     "output_type": "execute_result"
    }
   ],
   "source": [
    "# Search for VIIRS data collections\n",
    "Query = earthaccess.collection_query().keyword('VNP14')\n",
    "print(f'Collections found: {Query.hits()}')\n",
    "\n",
    "# Return search results as a list\n",
    "collections = Query.fields(['ShortName']).get(Query.hits())\n",
    "\n",
    "# Retrieve Collection short-names\n",
    "print(\"All available data products: \")\n",
    "[product['short-name'] for product in [collection.summary() for collection in collections]]"
   ]
  },
  {
   "cell_type": "code",
   "execution_count": 18,
   "id": "aad09252-6dd7-400c-a72b-3e3df96c7252",
   "metadata": {},
   "outputs": [
    {
     "name": "stdout",
     "output_type": "stream",
     "text": [
      "('2020-08-13 00:00:00', '2020-09-03 00:00:00')\n",
      "Granules found: 64\n"
     ]
    }
   ],
   "source": [
    "# Do a test search\n",
    "fire = fires[fires['fired_id'] == \"42306\"]  # Williams Fork Fire \"45811.0\"\n",
    "# Retrieve the date part\n",
    "ig_date = fire['ig_date']\n",
    "last_date = fire['last_date']\n",
    "\n",
    "# Define some search parameters\n",
    "short_names = ['VNP14IMG']\n",
    "\n",
    "# Define the date range\n",
    "date_range = (ig_date.iloc[0], last_date.iloc[0])\n",
    "print(date_range)\n",
    "\n",
    "# Retrieve the coordinate pairs for the region of interest\n",
    "perim = fire.to_crs(geog) # convert back to geographic coordinates\n",
    "geom = perim.unary_union.envelope # dissolve into a single shape and get the envelope\n",
    "coords = list(geom.exterior.coords) # retrieve the coordinate pairs\n",
    "\n",
    "# Search for ECOSTRESS products matching our short names\n",
    "result = earthaccess.search_data(\n",
    "    short_name=short_names,\n",
    "    polygon=coords,\n",
    "    temporal=date_range,\n",
    "    count=500, \n",
    ")"
   ]
  },
  {
   "cell_type": "markdown",
   "id": "25061229-51d3-4803-95be-2e5ecc1d5165",
   "metadata": {},
   "source": [
    "Now let's grab the granule information and plot it."
   ]
  },
  {
   "cell_type": "code",
   "execution_count": 20,
   "id": "66dcb516-9d19-4ee6-82e2-c297cf001ad5",
   "metadata": {},
   "outputs": [
    {
     "name": "stdout",
     "output_type": "stream",
     "text": [
      "Index(['size', 'meta.concept-type', 'meta.concept-id', 'meta.revision-id',\n",
      "       'meta.native-id', 'meta.collection-concept-id', 'meta.provider-id',\n",
      "       'meta.format', 'meta.revision-date',\n",
      "       'umm.TemporalExtent.RangeDateTime.BeginningDateTime',\n",
      "       'umm.TemporalExtent.RangeDateTime.EndingDateTime', 'umm.GranuleUR',\n",
      "       'umm.AdditionalAttributes',\n",
      "       'umm.SpatialExtent.HorizontalSpatialDomain.Geometry.GPolygons',\n",
      "       'umm.ProviderDates', 'umm.CollectionReference.ShortName',\n",
      "       'umm.CollectionReference.Version', 'umm.PGEVersionClass.PGEVersion',\n",
      "       'umm.RelatedUrls', 'umm.Projects', 'umm.DataGranule.DayNightFlag',\n",
      "       'umm.DataGranule.Identifiers', 'umm.DataGranule.ProductionDateTime',\n",
      "       'umm.DataGranule.ArchiveAndDistributionInformation', 'umm.Platforms',\n",
      "       'umm.MetadataSpecification.URL', 'umm.MetadataSpecification.Name',\n",
      "       'umm.MetadataSpecification.Version', 'geometry', 'start_datetime'],\n",
      "      dtype='object')\n"
     ]
    }
   ],
   "source": [
    "# Save the results as a data frame, append to dictionary\n",
    "df = pd.json_normalize(result)\n",
    "# Create shapely polygons for result\n",
    "geometries = [get_shapely_object(result[index]) for index in df.index.to_list()]\n",
    "# Convert to GeoDataframe\n",
    "results_gdf = gpd.GeoDataFrame(df, geometry=geometries, crs=\"EPSG:4326\")\n",
    "# Ensure 'start_datetime' and other relevant datetime columns are strings\n",
    "results_gdf['start_datetime'] = results_gdf['umm.TemporalExtent.RangeDateTime.BeginningDateTime'].astype(str)\n",
    "print(results_gdf.columns)"
   ]
  },
  {
   "cell_type": "code",
   "execution_count": 21,
   "id": "40acfb95-126d-4f93-a5c5-70a33be07ca9",
   "metadata": {},
   "outputs": [
    {
     "data": {
      "text/html": [
       "<iframe srcdoc=\"&lt;!DOCTYPE html&gt;\n",
       "&lt;html&gt;\n",
       "&lt;head&gt;\n",
       "    \n",
       "    &lt;meta http-equiv=&quot;content-type&quot; content=&quot;text/html; charset=UTF-8&quot; /&gt;\n",
       "    \n",
       "        &lt;script&gt;\n",
       "            L_NO_TOUCH = false;\n",
       "            L_DISABLE_3D = false;\n",
       "        &lt;/script&gt;\n",
       "    \n",
       "    &lt;style&gt;html, body {width: 100%;height: 100%;margin: 0;padding: 0;}&lt;/style&gt;\n",
       "    &lt;style&gt;#map {position:absolute;top:0;bottom:0;right:0;left:0;}&lt;/style&gt;\n",
       "    &lt;script src=&quot;https://cdn.jsdelivr.net/npm/leaflet@1.9.3/dist/leaflet.js&quot;&gt;&lt;/script&gt;\n",
       "    &lt;script src=&quot;https://code.jquery.com/jquery-1.12.4.min.js&quot;&gt;&lt;/script&gt;\n",
       "    &lt;script src=&quot;https://cdn.jsdelivr.net/npm/bootstrap@5.2.2/dist/js/bootstrap.bundle.min.js&quot;&gt;&lt;/script&gt;\n",
       "    &lt;script src=&quot;https://cdnjs.cloudflare.com/ajax/libs/Leaflet.awesome-markers/2.0.2/leaflet.awesome-markers.js&quot;&gt;&lt;/script&gt;\n",
       "    &lt;link rel=&quot;stylesheet&quot; href=&quot;https://cdn.jsdelivr.net/npm/leaflet@1.9.3/dist/leaflet.css&quot;/&gt;\n",
       "    &lt;link rel=&quot;stylesheet&quot; href=&quot;https://cdn.jsdelivr.net/npm/bootstrap@5.2.2/dist/css/bootstrap.min.css&quot;/&gt;\n",
       "    &lt;link rel=&quot;stylesheet&quot; href=&quot;https://netdna.bootstrapcdn.com/bootstrap/3.0.0/css/bootstrap.min.css&quot;/&gt;\n",
       "    &lt;link rel=&quot;stylesheet&quot; href=&quot;https://cdn.jsdelivr.net/npm/@fortawesome/fontawesome-free@6.2.0/css/all.min.css&quot;/&gt;\n",
       "    &lt;link rel=&quot;stylesheet&quot; href=&quot;https://cdnjs.cloudflare.com/ajax/libs/Leaflet.awesome-markers/2.0.2/leaflet.awesome-markers.css&quot;/&gt;\n",
       "    &lt;link rel=&quot;stylesheet&quot; href=&quot;https://cdn.jsdelivr.net/gh/python-visualization/folium/folium/templates/leaflet.awesome.rotate.min.css&quot;/&gt;\n",
       "    \n",
       "            &lt;meta name=&quot;viewport&quot; content=&quot;width=device-width,\n",
       "                initial-scale=1.0, maximum-scale=1.0, user-scalable=no&quot; /&gt;\n",
       "            &lt;style&gt;\n",
       "                #map_673c7683e9a04e52f62a462005c596a9 {\n",
       "                    position: relative;\n",
       "                    width: 100.0%;\n",
       "                    height: 100.0%;\n",
       "                    left: 0.0%;\n",
       "                    top: 0.0%;\n",
       "                }\n",
       "                .leaflet-container { font-size: 1rem; }\n",
       "            &lt;/style&gt;\n",
       "        \n",
       "    \n",
       "                    &lt;style&gt;\n",
       "                        .foliumtooltip {\n",
       "                            \n",
       "                        }\n",
       "                       .foliumtooltip table{\n",
       "                            margin: auto;\n",
       "                        }\n",
       "                        .foliumtooltip tr{\n",
       "                            text-align: left;\n",
       "                        }\n",
       "                        .foliumtooltip th{\n",
       "                            padding: 2px; padding-right: 8px;\n",
       "                        }\n",
       "                    &lt;/style&gt;\n",
       "            \n",
       "    \n",
       "                    &lt;style&gt;\n",
       "                        .foliumtooltip {\n",
       "                            \n",
       "                        }\n",
       "                       .foliumtooltip table{\n",
       "                            margin: auto;\n",
       "                        }\n",
       "                        .foliumtooltip tr{\n",
       "                            text-align: left;\n",
       "                        }\n",
       "                        .foliumtooltip th{\n",
       "                            padding: 2px; padding-right: 8px;\n",
       "                        }\n",
       "                    &lt;/style&gt;\n",
       "            \n",
       "    \n",
       "                    &lt;style&gt;\n",
       "                        .foliumpopup {\n",
       "                            margin: auto;\n",
       "                        }\n",
       "                       .foliumpopup table{\n",
       "                            margin: auto;\n",
       "                        }\n",
       "                        .foliumpopup tr{\n",
       "                            text-align: left;\n",
       "                        }\n",
       "                        .foliumpopup th{\n",
       "                            padding: 2px; padding-right: 8px;\n",
       "                        }\n",
       "                    &lt;/style&gt;\n",
       "            \n",
       "&lt;/head&gt;\n",
       "&lt;body&gt;\n",
       "    \n",
       "    \n",
       "            &lt;div class=&quot;folium-map&quot; id=&quot;map_673c7683e9a04e52f62a462005c596a9&quot; &gt;&lt;/div&gt;\n",
       "        \n",
       "&lt;/body&gt;\n",
       "&lt;script&gt;\n",
       "    \n",
       "    \n",
       "            var map_673c7683e9a04e52f62a462005c596a9 = L.map(\n",
       "                &quot;map_673c7683e9a04e52f62a462005c596a9&quot;,\n",
       "                {\n",
       "                    center: [0, 0],\n",
       "                    crs: L.CRS.EPSG3857,\n",
       "                    zoom: 1,\n",
       "                    zoomControl: true,\n",
       "                    preferCanvas: false,\n",
       "                }\n",
       "            );\n",
       "\n",
       "            \n",
       "\n",
       "        \n",
       "    \n",
       "            var tile_layer_d40a0b1d5319d6f0508a0b3ff7451d5b = L.tileLayer(\n",
       "                &quot;https://mt1.google.com/vt/lyrs=y\\u0026x={x}\\u0026y={y}\\u0026z={z}&quot;,\n",
       "                {&quot;attribution&quot;: &quot;Google&quot;, &quot;detectRetina&quot;: false, &quot;maxNativeZoom&quot;: 18, &quot;maxZoom&quot;: 18, &quot;minZoom&quot;: 0, &quot;noWrap&quot;: false, &quot;opacity&quot;: 1, &quot;subdomains&quot;: &quot;abc&quot;, &quot;tms&quot;: false}\n",
       "            ).addTo(map_673c7683e9a04e52f62a462005c596a9);\n",
       "        \n",
       "    \n",
       "        function geo_json_e8d4e618f36ae455b3cf1726ece1f0f4_styler(feature) {\n",
       "            switch(feature.id) {\n",
       "                default:\n",
       "                    return {&quot;fillOpacity&quot;: 0.1, &quot;weight&quot;: 2, &quot;width&quot;: 2};\n",
       "            }\n",
       "        }\n",
       "        function geo_json_e8d4e618f36ae455b3cf1726ece1f0f4_highlighter(feature) {\n",
       "            switch(feature.id) {\n",
       "                default:\n",
       "                    return {&quot;fillOpacity&quot;: 0.75};\n",
       "            }\n",
       "        }\n",
       "        function geo_json_e8d4e618f36ae455b3cf1726ece1f0f4_pointToLayer(feature, latlng) {\n",
       "            var opts = {&quot;bubblingMouseEvents&quot;: true, &quot;color&quot;: &quot;#3388ff&quot;, &quot;dashArray&quot;: null, &quot;dashOffset&quot;: null, &quot;fill&quot;: true, &quot;fillColor&quot;: &quot;#3388ff&quot;, &quot;fillOpacity&quot;: 0.2, &quot;fillRule&quot;: &quot;evenodd&quot;, &quot;lineCap&quot;: &quot;round&quot;, &quot;lineJoin&quot;: &quot;round&quot;, &quot;opacity&quot;: 1.0, &quot;radius&quot;: 2, &quot;stroke&quot;: true, &quot;weight&quot;: 3};\n",
       "            \n",
       "            let style = geo_json_e8d4e618f36ae455b3cf1726ece1f0f4_styler(feature)\n",
       "            Object.assign(opts, style)\n",
       "            \n",
       "            return new L.CircleMarker(latlng, opts)\n",
       "        }\n",
       "\n",
       "        function geo_json_e8d4e618f36ae455b3cf1726ece1f0f4_onEachFeature(feature, layer) {\n",
       "            layer.on({\n",
       "                mouseout: function(e) {\n",
       "                    if(typeof e.target.setStyle === &quot;function&quot;){\n",
       "                        geo_json_e8d4e618f36ae455b3cf1726ece1f0f4.resetStyle(e.target);\n",
       "                    }\n",
       "                },\n",
       "                mouseover: function(e) {\n",
       "                    if(typeof e.target.setStyle === &quot;function&quot;){\n",
       "                        const highlightStyle = geo_json_e8d4e618f36ae455b3cf1726ece1f0f4_highlighter(e.target.feature)\n",
       "                        e.target.setStyle(highlightStyle);\n",
       "                    }\n",
       "                },\n",
       "            });\n",
       "        };\n",
       "        var geo_json_e8d4e618f36ae455b3cf1726ece1f0f4 = L.geoJson(null, {\n",
       "                onEachFeature: geo_json_e8d4e618f36ae455b3cf1726ece1f0f4_onEachFeature,\n",
       "            \n",
       "                style: geo_json_e8d4e618f36ae455b3cf1726ece1f0f4_styler,\n",
       "                pointToLayer: geo_json_e8d4e618f36ae455b3cf1726ece1f0f4_pointToLayer\n",
       "        });\n",
       "\n",
       "        function geo_json_e8d4e618f36ae455b3cf1726ece1f0f4_add (data) {\n",
       "            geo_json_e8d4e618f36ae455b3cf1726ece1f0f4\n",
       "                .addData(data)\n",
       "                .addTo(map_673c7683e9a04e52f62a462005c596a9);\n",
       "        }\n",
       "            geo_json_e8d4e618f36ae455b3cf1726ece1f0f4_add({&quot;bbox&quot;: [-106.0934067738941, 39.779159972704, -105.96174012451345, 39.88334465943352], &quot;features&quot;: [{&quot;bbox&quot;: [-106.0934067738941, 39.779159972704, -105.96174012451345, 39.88334465943352], &quot;geometry&quot;: {&quot;coordinates&quot;: [[[[-105.98345104911908, 39.77916017969757], [-105.98884202541602, 39.779160231095524], [-105.98886908889364, 39.779160231353565], [-105.99427176722033, 39.7791602828631], [-105.99428712866819, 39.77916028300956], [-105.99971687047251, 39.7791603347771], [-106.00613794378965, 39.78332867647928], [-106.00616305880008, 39.7833449785643], [-106.01255342814376, 39.78749251836879], [-106.01797217510055, 39.78749251622524], [-106.02439625190691, 39.79166085409676], [-106.02442137865434, 39.791677156177805], [-106.03084679855355, 39.79584549362007], [-106.02542739519912, 39.79584549612482], [-106.03182175645814, 39.79999303465325], [-106.03185382560953, 39.80001383331956], [-106.03827465976669, 39.804177673499034], [-106.03284289498579, 39.80417767637035], [-106.03927167258722, 39.808346012890375], [-106.03385128639816, 39.80834601593585], [-106.04024898919172, 39.81249355354637], [-106.0402741382545, 39.81250985562122], [-106.04668011042394, 39.81666188939256], [-106.0521011507774, 39.816661885987294], [-106.0585269994498, 39.82082572463891], [-106.05855910035716, 39.82084652329545], [-106.0649862927207, 39.82501036151734], [-106.05956459536388, 39.82501036528392], [-106.06599973989132, 39.829178699843375], [-106.06057771439451, 39.82917870379039], [-106.06055063100793, 39.82917870381009], [-106.05514397825947, 39.829178707745925], [-106.06157980611846, 39.8333470422379], [-106.05615745241312, 39.83334704636538], [-106.05613036738711, 39.83334704638599], [-106.05073509870778, 39.83334705049283], [-106.0571394911839, 39.83749458626442], [-106.06256217152816, 39.83749458195737], [-106.06902552781526, 39.8416792178393], [-106.06360251784147, 39.841679222327556], [-106.07000957742068, 39.84582675724583], [-106.07003476326504, 39.845843059310035], [-106.07645010457398, 39.84999509038525], [-106.07647529566522, 39.850011392447804], [-106.08291716980835, 39.85417972515615], [-106.07748145984876, 39.8541797301967], [-106.08389219544414, 39.85832726401388], [-106.08391739573898, 39.85834356607375], [-106.09036162345876, 39.862511898104465], [-106.08493697143764, 39.86251190349514], [-106.09138221301176, 39.86668023527679], [-106.08595723223357, 39.86668024084808], [-106.09239653322423, 39.8708440757987], [-106.08695950624451, 39.8708440815629], [-106.0934067738941, 39.87501241284688], [-106.08798113575062, 39.875012418779306], [-106.08795403431864, 39.87501241880894], [-106.08255549760713, 39.875012424711755], [-106.0889964942294, 39.87917625934556], [-106.0835705274778, 39.87917626545849], [-106.0835434244044, 39.87917626548904], [-106.07813284157554, 39.87917627158464], [-106.07811745765278, 39.87917627160197], [-106.07270687482394, 39.87917627769757], [-106.07267977175053, 39.8791762777281], [-106.06725380499891, 39.87917628384101], [-106.06081412516028, 39.87501244848391], [-106.05540387000786, 39.87501245439952], [-106.0553884870168, 39.87501245441632], [-106.04997823186439, 39.875012460331945], [-106.0499511304324, 39.87501246036157], [-106.04455259372091, 39.87501246626436], [-106.05099128866685, 39.879176302162506], [-106.04555360276458, 39.87917630828862], [-106.04553821884183, 39.87917630830595], [-106.04012763601297, 39.87917631440155], [-106.04657396773203, 39.883344646814784], [-106.04114767194878, 39.88334465310843], [-106.04112056723181, 39.883344653139865], [-106.03569427144855, 39.88334465943352], [-106.02924859943634, 39.87917632665794], [-106.0292233934939, 39.87916002459511], [-106.02281122127405, 39.87501249003652], [-106.01740096612163, 39.87501249595213], [-106.02383801660748, 39.87917633275354], [-106.01838494678248, 39.87917633889698], [-106.01194822654615, 39.87501250191419], [-106.01191607805247, 39.87499170326385], [-106.00550589679578, 39.87084416791766], [-106.0054807039232, 39.87082786585006], [-105.99903972827119, 39.86665952398335], [-106.00446470055749, 39.86665952585183], [-105.99803169165091, 39.86249567231878], [-106.00346804441232, 39.86249568235915], [-106.00348342460386, 39.86249568234388], [-106.00889269514785, 39.86249567696919], [-106.00245340748178, 39.85832734222523], [-106.00787772952917, 39.85832733701592], [-106.00143945451069, 39.8541590020232], [-106.0068751628272, 39.85415899698357], [-106.00044484303825, 39.849995158329016], [-106.00586850826964, 39.8499951534806], [-106.00589559984681, 39.849995153456376], [-106.01129217350103, 39.84999514863218], [-106.0113192650782, 39.84999514860797], [-106.01672755291219, 39.849995143773306], [-106.01674293030959, 39.84999514375956], [-106.02215121814359, 39.8499951389249], [-106.02217830972074, 39.849995138900724], [-106.02757488337498, 39.8499951340765], [-106.02760197495215, 39.8499951340523], [-106.03301026278615, 39.84999512921763], [-106.02659754210751, 39.845843096702076], [-106.02657236655139, 39.8458267946322], [-106.02013581119675, 39.841658459617776], [-106.02555881953201, 39.84165845513043], [-106.01915538437152, 39.8375109185263], [-106.01913021801151, 39.83749461645381], [-106.01269601375867, 39.83332628076258], [-106.0181183658262, 39.83332627663602], [-106.0116921124541, 39.82916243728358], [-106.01711413666746, 39.829162433337274], [-106.01068195440466, 39.824994097150196], [-106.01611536040501, 39.82499409337621], [-106.00968418888948, 39.820825756941474], [-106.01510555689188, 39.82082575335602], [-106.00868233246295, 39.81666191326117], [-106.01410337281641, 39.8166619098559], [-106.01413045128214, 39.81666190983889], [-106.01953612168037, 39.81666190644328], [-106.0131317851078, 39.81250987177234], [-106.01310664246616, 39.81249356969396], [-106.00667850211907, 39.808325232516594], [-106.01209888667235, 39.808325229472025], [-106.00567868961991, 39.80416138863553], [-106.01109874672933, 39.804161385771096], [-106.0047046872418, 39.80001384676973], [-106.00467262628109, 39.79999304809889], [-105.99827991406946, 39.79584549239839], [-105.99825479002178, 39.79582919007645], [-105.99185652307571, 39.79167709229273], [-105.98646456640388, 39.791677043059494], [-105.98643749800463, 39.79167704281234], [-105.98103383717498, 39.79167699347224], [-105.98101847293356, 39.79167699333195], [-105.9756148121039, 39.79167694399185], [-105.97558774370466, 39.7916769437447], [-105.97016871863359, 39.79167689426431], [-105.9637228717003, 39.78749218719943], [-105.96914156729704, 39.787492237407264], [-105.96272876889981, 39.78332832835806], [-105.96815883946655, 39.78332837939963], [-105.96174012451345, 39.779159972704], [-105.96715816428801, 39.779160024359996], [-105.96718522776564, 39.779160024618044], [-105.97257620406258, 39.77916007601599], [-105.97260326754021, 39.77916007627401], [-105.97800594586688, 39.779160127783555], [-105.97802130731478, 39.779160127930005], [-105.98342398564145, 39.77916017943955], [-105.98345104911908, 39.77916017969757]]]], &quot;type&quot;: &quot;MultiPolygon&quot;}, &quot;id&quot;: &quot;8&quot;, &quot;properties&quot;: {&quot;fired_id&quot;: &quot;42306&quot;}, &quot;type&quot;: &quot;Feature&quot;}], &quot;type&quot;: &quot;FeatureCollection&quot;});\n",
       "\n",
       "        \n",
       "    \n",
       "    geo_json_e8d4e618f36ae455b3cf1726ece1f0f4.bindTooltip(\n",
       "    function(layer){\n",
       "    let div = L.DomUtil.create(&#x27;div&#x27;);\n",
       "    \n",
       "    let handleObject = feature=&gt;typeof(feature)==&#x27;object&#x27; ? JSON.stringify(feature) : feature;\n",
       "    let fields = [&quot;fired_id&quot;];\n",
       "    let aliases = [&quot;fired_id&quot;];\n",
       "    let table = &#x27;&lt;table&gt;&#x27; +\n",
       "        String(\n",
       "        fields.map(\n",
       "        (v,i)=&gt;\n",
       "        `&lt;tr&gt;\n",
       "            &lt;th&gt;${aliases[i]}&lt;/th&gt;\n",
       "            \n",
       "            &lt;td&gt;${handleObject(layer.feature.properties[v])}&lt;/td&gt;\n",
       "        &lt;/tr&gt;`).join(&#x27;&#x27;))\n",
       "    +&#x27;&lt;/table&gt;&#x27;;\n",
       "    div.innerHTML=table;\n",
       "    \n",
       "    return div\n",
       "    }\n",
       "    ,{&quot;className&quot;: &quot;foliumtooltip&quot;, &quot;sticky&quot;: true});\n",
       "                     \n",
       "    \n",
       "        function geo_json_b65fe6ce52afb57cededb4bcd5d6c505_styler(feature) {\n",
       "            switch(feature.id) {\n",
       "                case &quot;0&quot;: case &quot;1&quot;: case &quot;2&quot;: case &quot;3&quot;: \n",
       "                    return {&quot;color&quot;: &quot;#1f77b4&quot;, &quot;fillColor&quot;: &quot;#1f77b4&quot;, &quot;fillOpacity&quot;: 0.1, &quot;weight&quot;: 2, &quot;width&quot;: 2};\n",
       "                case &quot;4&quot;: case &quot;5&quot;: case &quot;6&quot;: \n",
       "                    return {&quot;color&quot;: &quot;#aec7e8&quot;, &quot;fillColor&quot;: &quot;#aec7e8&quot;, &quot;fillOpacity&quot;: 0.1, &quot;weight&quot;: 2, &quot;width&quot;: 2};\n",
       "                case &quot;7&quot;: case &quot;8&quot;: case &quot;9&quot;: \n",
       "                    return {&quot;color&quot;: &quot;#ff7f0e&quot;, &quot;fillColor&quot;: &quot;#ff7f0e&quot;, &quot;fillOpacity&quot;: 0.1, &quot;weight&quot;: 2, &quot;width&quot;: 2};\n",
       "                case &quot;10&quot;: case &quot;11&quot;: case &quot;12&quot;: \n",
       "                    return {&quot;color&quot;: &quot;#ffbb78&quot;, &quot;fillColor&quot;: &quot;#ffbb78&quot;, &quot;fillOpacity&quot;: 0.1, &quot;weight&quot;: 2, &quot;width&quot;: 2};\n",
       "                case &quot;13&quot;: case &quot;14&quot;: case &quot;15&quot;: \n",
       "                    return {&quot;color&quot;: &quot;#2ca02c&quot;, &quot;fillColor&quot;: &quot;#2ca02c&quot;, &quot;fillOpacity&quot;: 0.1, &quot;weight&quot;: 2, &quot;width&quot;: 2};\n",
       "                case &quot;16&quot;: case &quot;17&quot;: case &quot;18&quot;: \n",
       "                    return {&quot;color&quot;: &quot;#98df8a&quot;, &quot;fillColor&quot;: &quot;#98df8a&quot;, &quot;fillOpacity&quot;: 0.1, &quot;weight&quot;: 2, &quot;width&quot;: 2};\n",
       "                case &quot;19&quot;: case &quot;20&quot;: case &quot;21&quot;: case &quot;22&quot;: \n",
       "                    return {&quot;color&quot;: &quot;#d62728&quot;, &quot;fillColor&quot;: &quot;#d62728&quot;, &quot;fillOpacity&quot;: 0.1, &quot;weight&quot;: 2, &quot;width&quot;: 2};\n",
       "                case &quot;23&quot;: case &quot;24&quot;: case &quot;25&quot;: \n",
       "                    return {&quot;color&quot;: &quot;#ff9896&quot;, &quot;fillColor&quot;: &quot;#ff9896&quot;, &quot;fillOpacity&quot;: 0.1, &quot;weight&quot;: 2, &quot;width&quot;: 2};\n",
       "                case &quot;26&quot;: case &quot;27&quot;: case &quot;28&quot;: \n",
       "                    return {&quot;color&quot;: &quot;#9467bd&quot;, &quot;fillColor&quot;: &quot;#9467bd&quot;, &quot;fillOpacity&quot;: 0.1, &quot;weight&quot;: 2, &quot;width&quot;: 2};\n",
       "                case &quot;29&quot;: case &quot;30&quot;: case &quot;31&quot;: \n",
       "                    return {&quot;color&quot;: &quot;#c5b0d5&quot;, &quot;fillColor&quot;: &quot;#c5b0d5&quot;, &quot;fillOpacity&quot;: 0.1, &quot;weight&quot;: 2, &quot;width&quot;: 2};\n",
       "                case &quot;32&quot;: case &quot;33&quot;: case &quot;34&quot;: \n",
       "                    return {&quot;color&quot;: &quot;#8c564b&quot;, &quot;fillColor&quot;: &quot;#8c564b&quot;, &quot;fillOpacity&quot;: 0.1, &quot;weight&quot;: 2, &quot;width&quot;: 2};\n",
       "                case &quot;35&quot;: case &quot;36&quot;: case &quot;37&quot;: \n",
       "                    return {&quot;color&quot;: &quot;#c49c94&quot;, &quot;fillColor&quot;: &quot;#c49c94&quot;, &quot;fillOpacity&quot;: 0.1, &quot;weight&quot;: 2, &quot;width&quot;: 2};\n",
       "                case &quot;38&quot;: case &quot;39&quot;: case &quot;40&quot;: \n",
       "                    return {&quot;color&quot;: &quot;#e377c2&quot;, &quot;fillColor&quot;: &quot;#e377c2&quot;, &quot;fillOpacity&quot;: 0.1, &quot;weight&quot;: 2, &quot;width&quot;: 2};\n",
       "                case &quot;45&quot;: case &quot;46&quot;: case &quot;47&quot;: \n",
       "                    return {&quot;color&quot;: &quot;#7f7f7f&quot;, &quot;fillColor&quot;: &quot;#7f7f7f&quot;, &quot;fillOpacity&quot;: 0.1, &quot;weight&quot;: 2, &quot;width&quot;: 2};\n",
       "                case &quot;48&quot;: case &quot;49&quot;: case &quot;50&quot;: \n",
       "                    return {&quot;color&quot;: &quot;#c7c7c7&quot;, &quot;fillColor&quot;: &quot;#c7c7c7&quot;, &quot;fillOpacity&quot;: 0.1, &quot;weight&quot;: 2, &quot;width&quot;: 2};\n",
       "                case &quot;51&quot;: case &quot;52&quot;: case &quot;53&quot;: \n",
       "                    return {&quot;color&quot;: &quot;#bcbd22&quot;, &quot;fillColor&quot;: &quot;#bcbd22&quot;, &quot;fillOpacity&quot;: 0.1, &quot;weight&quot;: 2, &quot;width&quot;: 2};\n",
       "                case &quot;54&quot;: case &quot;55&quot;: case &quot;56&quot;: \n",
       "                    return {&quot;color&quot;: &quot;#dbdb8d&quot;, &quot;fillColor&quot;: &quot;#dbdb8d&quot;, &quot;fillOpacity&quot;: 0.1, &quot;weight&quot;: 2, &quot;width&quot;: 2};\n",
       "                case &quot;57&quot;: case &quot;58&quot;: case &quot;59&quot;: \n",
       "                    return {&quot;color&quot;: &quot;#17becf&quot;, &quot;fillColor&quot;: &quot;#17becf&quot;, &quot;fillOpacity&quot;: 0.1, &quot;weight&quot;: 2, &quot;width&quot;: 2};\n",
       "                case &quot;60&quot;: case &quot;61&quot;: case &quot;62&quot;: case &quot;63&quot;: \n",
       "                    return {&quot;color&quot;: &quot;#9edae5&quot;, &quot;fillColor&quot;: &quot;#9edae5&quot;, &quot;fillOpacity&quot;: 0.1, &quot;weight&quot;: 2, &quot;width&quot;: 2};\n",
       "                default:\n",
       "                    return {&quot;color&quot;: &quot;#f7b6d2&quot;, &quot;fillColor&quot;: &quot;#f7b6d2&quot;, &quot;fillOpacity&quot;: 0.1, &quot;weight&quot;: 2, &quot;width&quot;: 2};\n",
       "            }\n",
       "        }\n",
       "        function geo_json_b65fe6ce52afb57cededb4bcd5d6c505_highlighter(feature) {\n",
       "            switch(feature.id) {\n",
       "                default:\n",
       "                    return {&quot;fillOpacity&quot;: 0.75};\n",
       "            }\n",
       "        }\n",
       "        function geo_json_b65fe6ce52afb57cededb4bcd5d6c505_pointToLayer(feature, latlng) {\n",
       "            var opts = {&quot;bubblingMouseEvents&quot;: true, &quot;color&quot;: &quot;#3388ff&quot;, &quot;dashArray&quot;: null, &quot;dashOffset&quot;: null, &quot;fill&quot;: true, &quot;fillColor&quot;: &quot;#3388ff&quot;, &quot;fillOpacity&quot;: 0.2, &quot;fillRule&quot;: &quot;evenodd&quot;, &quot;lineCap&quot;: &quot;round&quot;, &quot;lineJoin&quot;: &quot;round&quot;, &quot;opacity&quot;: 1.0, &quot;radius&quot;: 2, &quot;stroke&quot;: true, &quot;weight&quot;: 3};\n",
       "            \n",
       "            let style = geo_json_b65fe6ce52afb57cededb4bcd5d6c505_styler(feature)\n",
       "            Object.assign(opts, style)\n",
       "            \n",
       "            return new L.CircleMarker(latlng, opts)\n",
       "        }\n",
       "\n",
       "        function geo_json_b65fe6ce52afb57cededb4bcd5d6c505_onEachFeature(feature, layer) {\n",
       "            layer.on({\n",
       "                mouseout: function(e) {\n",
       "                    if(typeof e.target.setStyle === &quot;function&quot;){\n",
       "                        geo_json_b65fe6ce52afb57cededb4bcd5d6c505.resetStyle(e.target);\n",
       "                    }\n",
       "                },\n",
       "                mouseover: function(e) {\n",
       "                    if(typeof e.target.setStyle === &quot;function&quot;){\n",
       "                        const highlightStyle = geo_json_b65fe6ce52afb57cededb4bcd5d6c505_highlighter(e.target.feature)\n",
       "                        e.target.setStyle(highlightStyle);\n",
       "                    }\n",
       "                },\n",
       "            });\n",
       "        };\n",
       "        var geo_json_b65fe6ce52afb57cededb4bcd5d6c505 = L.geoJson(null, {\n",
       "                onEachFeature: geo_json_b65fe6ce52afb57cededb4bcd5d6c505_onEachFeature,\n",
       "            \n",
       "                style: geo_json_b65fe6ce52afb57cededb4bcd5d6c505_styler,\n",
       "                pointToLayer: geo_json_b65fe6ce52afb57cededb4bcd5d6c505_pointToLayer\n",
       "        });\n",
       "\n",
       "        function geo_json_b65fe6ce52afb57cededb4bcd5d6c505_add (data) {\n",
       "            geo_json_b65fe6ce52afb57cededb4bcd5d6c505\n",
       "                .addData(data)\n",
       "                .addTo(map_673c7683e9a04e52f62a462005c596a9);\n",
       "        }\n",
       "            geo_json_b65fe6ce52afb57cededb4bcd5d6c505_add({&quot;bbox&quot;: [-144.217361450195, 17.1741847991943, -68.1961822509766, 63.706485748291], &quot;features&quot;: [{&quot;bbox&quot;: [-123.038192749023, 29.3237476348877, -78.4145126342773, 55.0091667175293], &quot;geometry&quot;: {&quot;coordinates&quot;: [[[-78.4145126342773, 48.2792015075684], [-122.44441986084, 55.0091667175293], [-123.038192749023, 34.2437973022461], [-91.0188751220703, 29.3237476348877], [-78.4145126342773, 48.2792015075684]]], &quot;type&quot;: &quot;Polygon&quot;}, &quot;id&quot;: &quot;0&quot;, &quot;properties&quot;: {&quot;__folium_color&quot;: &quot;#1f77b4&quot;, &quot;meta.native-id&quot;: &quot;VNP14IMG.A2020226.0848.002.2024066004717&quot;, &quot;start_datetime&quot;: &quot;2020-08-13T08:48:00.000Z&quot;}, &quot;type&quot;: &quot;Feature&quot;}, {&quot;bbox&quot;: [-134.370971679688, 27.8196544647217, -90.8895034790039, 53.3612174987793], &quot;geometry&quot;: {&quot;coordinates&quot;: [[[-122.379493713379, 27.8196544647217], [-90.8895034790039, 32.5846214294434], [-91.6921920776367, 53.3612174987793], [-134.370971679688, 46.9171676635742], [-122.379493713379, 27.8196544647217]]], &quot;type&quot;: &quot;Polygon&quot;}, &quot;id&quot;: &quot;1&quot;, &quot;properties&quot;: {&quot;__folium_color&quot;: &quot;#1f77b4&quot;, &quot;meta.native-id&quot;: &quot;VNP14IMG.A2020226.2012.002.2024066004717&quot;, &quot;start_datetime&quot;: &quot;2020-08-13T20:12:00.000Z&quot;}, &quot;type&quot;: &quot;Feature&quot;}, {&quot;bbox&quot;: [-118.651466369629, 25.8803329467773, -76.4277572631836, 51.5211563110352], &quot;geometry&quot;: {&quot;coordinates&quot;: [[[-76.4277572631836, 45.2339553833008], [-117.525238037109, 51.5211563110352], [-118.651466369629, 30.6333541870117], [-87.7691497802734, 25.8803329467773], [-76.4277572631836, 45.2339553833008]]], &quot;type&quot;: &quot;Polygon&quot;}, &quot;id&quot;: &quot;2&quot;, &quot;properties&quot;: {&quot;__folium_color&quot;: &quot;#1f77b4&quot;, &quot;meta.native-id&quot;: &quot;VNP14IMG.A2020227.0830.002.2024066010638&quot;, &quot;start_datetime&quot;: &quot;2020-08-14T08:30:00.000Z&quot;}, &quot;type&quot;: &quot;Feature&quot;}, {&quot;bbox&quot;: [-144.217361450195, 24.282901763916, -103.101913452148, 49.7591133117676], &quot;geometry&quot;: {&quot;coordinates&quot;: [[[-103.101913452148, 43.6747360229492], [-142.912261962891, 49.7591133117676], [-144.217361450195, 28.9639739990234], [-113.799537658691, 24.282901763916], [-103.101913452148, 43.6747360229492]]], &quot;type&quot;: &quot;Polygon&quot;}, &quot;id&quot;: &quot;3&quot;, &quot;properties&quot;: {&quot;__folium_color&quot;: &quot;#1f77b4&quot;, &quot;meta.native-id&quot;: &quot;VNP14IMG.A2020227.1012.002.2024066010635&quot;, &quot;start_datetime&quot;: &quot;2020-08-14T10:12:00.000Z&quot;}, &quot;type&quot;: &quot;Feature&quot;}, {&quot;bbox&quot;: [-132.590179443359, 31.1477909088135, -86.4651184082031, 56.8445510864258], &quot;geometry&quot;: {&quot;coordinates&quot;: [[[-119.16584777832, 31.1477909088135], [-86.4651184082031, 36.0944938659668], [-86.6556243896484, 56.8445510864258], [-132.590179443359, 49.913890838623], [-119.16584777832, 31.1477909088135]]], &quot;type&quot;: &quot;Polygon&quot;}, &quot;id&quot;: &quot;4&quot;, &quot;properties&quot;: {&quot;__folium_color&quot;: &quot;#aec7e8&quot;, &quot;meta.native-id&quot;: &quot;VNP14IMG.A2020227.1954.002.2024066010637&quot;, &quot;start_datetime&quot;: &quot;2020-08-14T19:54:00.000Z&quot;}, &quot;type&quot;: &quot;Feature&quot;}, {&quot;bbox&quot;: [-114.31502532959, 22.5094432830811, -74.1905212402344, 47.9247932434082], &quot;geometry&quot;: {&quot;coordinates&quot;: [[[-74.1905212402344, 42.0173645019531], [-112.697486877441, 47.9247932434082], [-114.31502532959, 27.120735168457], [-84.3591003417969, 22.5094432830811], [-74.1905212402344, 42.0173645019531]]], &quot;type&quot;: &quot;Polygon&quot;}, &quot;id&quot;: &quot;5&quot;, &quot;properties&quot;: {&quot;__folium_color&quot;: &quot;#aec7e8&quot;, &quot;meta.native-id&quot;: &quot;VNP14IMG.A2020228.0812.002.2024066011601&quot;, &quot;start_datetime&quot;: &quot;2020-08-15T08:12:00.000Z&quot;}, &quot;type&quot;: &quot;Feature&quot;}, {&quot;bbox&quot;: [-139.913955688477, 20.7979354858398, -100.649780273438, 46.259880065918], &quot;geometry&quot;: {&quot;coordinates&quot;: [[[-100.649780273438, 40.5188903808594], [-138.175964355469, 46.259880065918], [-139.913955688477, 25.351390838623], [-110.366455078125, 20.7979354858398], [-100.649780273438, 40.5188903808594]]], &quot;type&quot;: &quot;Polygon&quot;}, &quot;id&quot;: &quot;6&quot;, &quot;properties&quot;: {&quot;__folium_color&quot;: &quot;#aec7e8&quot;, &quot;meta.native-id&quot;: &quot;VNP14IMG.A2020228.0954.002.2024066011601&quot;, &quot;start_datetime&quot;: &quot;2020-08-15T09:54:00.000Z&quot;}, &quot;type&quot;: &quot;Feature&quot;}, {&quot;bbox&quot;: [-131.335647583008, 34.4509048461914, -81.3956604003906, 60.4224433898926], &quot;geometry&quot;: {&quot;coordinates&quot;: [[[-116.085350036621, 34.4509048461914], [-81.9840545654297, 39.604248046875], [-81.3956604003906, 60.4224433898926], [-131.335647583008, 52.8936424255371], [-116.085350036621, 34.4509048461914]]], &quot;type&quot;: &quot;Polygon&quot;}, &quot;id&quot;: &quot;7&quot;, &quot;properties&quot;: {&quot;__folium_color&quot;: &quot;#ff7f0e&quot;, &quot;meta.native-id&quot;: &quot;VNP14IMG.A2020228.1936.002.2024066011603&quot;, &quot;start_datetime&quot;: &quot;2020-08-15T19:36:00.000Z&quot;}, &quot;type&quot;: &quot;Feature&quot;}, {&quot;bbox&quot;: [-109.988479614258, 19.1113224029541, -71.6032638549805, 44.4204254150391], &quot;geometry&quot;: {&quot;coordinates&quot;: [[[-71.6032638549805, 38.8271293640137], [-108.053688049316, 44.4204254150391], [-109.988479614258, 23.6061573028564], [-80.8368225097656, 19.1113224029541], [-71.6032638549805, 38.8271293640137]]], &quot;type&quot;: &quot;Polygon&quot;}, &quot;id&quot;: &quot;8&quot;, &quot;properties&quot;: {&quot;__folium_color&quot;: &quot;#ff7f0e&quot;, &quot;meta.native-id&quot;: &quot;VNP14IMG.A2020229.0754.002.2024066012701&quot;, &quot;start_datetime&quot;: &quot;2020-08-16T07:54:00.000Z&quot;}, &quot;type&quot;: &quot;Feature&quot;}, {&quot;bbox&quot;: [-134.82600402832, 37.0981025695801, -81.1666870117188, 63.3167495727539], &quot;geometry&quot;: {&quot;coordinates&quot;: [[[-81.1666870117188, 55.1466026306152], [-134.82600402832, 63.3167495727539], [-133.537582397461, 42.5336456298828], [-98.050163269043, 37.0981025695801], [-81.1666870117188, 55.1466026306152]]], &quot;type&quot;: &quot;Polygon&quot;}, &quot;id&quot;: &quot;9&quot;, &quot;properties&quot;: {&quot;__folium_color&quot;: &quot;#ff7f0e&quot;, &quot;meta.native-id&quot;: &quot;VNP14IMG.A2020229.0930.002.2024066012700&quot;, &quot;start_datetime&quot;: &quot;2020-08-16T09:30:00.000Z&quot;}, &quot;type&quot;: &quot;Feature&quot;}, {&quot;bbox&quot;: [-113.297477722168, 18.0278911590576, -75.3533248901367, 43.3308334350586], &quot;geometry&quot;: {&quot;coordinates&quot;: [[[-104.322372436523, 18.0278911590576], [-75.3533248901367, 22.4137077331543], [-77.4104766845703, 43.3308334350586], [-113.297477722168, 37.9154624938965], [-104.322372436523, 18.0278911590576]]], &quot;type&quot;: &quot;Polygon&quot;}, &quot;id&quot;: &quot;10&quot;, &quot;properties&quot;: {&quot;__folium_color&quot;: &quot;#ffbb78&quot;, &quot;meta.native-id&quot;: &quot;VNP14IMG.A2020229.1912.002.2024066012700&quot;, &quot;start_datetime&quot;: &quot;2020-08-16T19:12:00.000Z&quot;}, &quot;type&quot;: &quot;Feature&quot;}, {&quot;bbox&quot;: [-139.681213378906, 19.7465133666992, -101.036926269531, 44.9956588745117], &quot;geometry&quot;: {&quot;coordinates&quot;: [[[-130.291809082031, 19.7465133666992], [-101.036926269531, 24.1776142120361], [-102.875518798828, 44.9956588745117], [-139.681213378906, 39.4285774230957], [-130.291809082031, 19.7465133666992]]], &quot;type&quot;: &quot;Polygon&quot;}, &quot;id&quot;: &quot;11&quot;, &quot;properties&quot;: {&quot;__folium_color&quot;: &quot;#ffbb78&quot;, &quot;meta.native-id&quot;: &quot;VNP14IMG.A2020229.2054.002.2024066012704&quot;, &quot;start_datetime&quot;: &quot;2020-08-16T20:54:00.000Z&quot;}, &quot;type&quot;: &quot;Feature&quot;}, {&quot;bbox&quot;: [-129.372467041016, 33.8341636657715, -80.235710144043, 59.8536834716797], &quot;geometry&quot;: {&quot;coordinates&quot;: [[[-80.235710144043, 52.3599052429199], [-129.372467041016, 59.8536834716797], [-128.988220214844, 39.0276870727539], [-95.1266784667969, 33.8341636657715], [-80.235710144043, 52.3599052429199]]], &quot;type&quot;: &quot;Polygon&quot;}, &quot;id&quot;: &quot;12&quot;, &quot;properties&quot;: {&quot;__folium_color&quot;: &quot;#ffbb78&quot;, &quot;meta.native-id&quot;: &quot;VNP14IMG.A2020230.0912.002.2024066014215&quot;, &quot;start_datetime&quot;: &quot;2020-08-17T09:12:00.000Z&quot;}, &quot;type&quot;: &quot;Feature&quot;}, {&quot;bbox&quot;: [-110.614784240723, 21.5411281585693, -71.0952301025391, 46.8336868286133], &quot;geometry&quot;: {&quot;coordinates&quot;: [[[-100.757904052734, 21.5411281585693], [-71.0952301025391, 26.0244674682617], [-72.7575607299805, 46.8336868286133], [-110.614784240723, 41.1262130737305], [-100.757904052734, 21.5411281585693]]], &quot;type&quot;: &quot;Polygon&quot;}, &quot;id&quot;: &quot;13&quot;, &quot;properties&quot;: {&quot;__folium_color&quot;: &quot;#2ca02c&quot;, &quot;meta.native-id&quot;: &quot;VNP14IMG.A2020230.1854.002.2024066014210&quot;, &quot;start_datetime&quot;: &quot;2020-08-17T18:54:00.000Z&quot;}, &quot;type&quot;: &quot;Feature&quot;}, {&quot;bbox&quot;: [-137.14875793457, 23.1370944976807, -96.6823806762695, 48.4958305358887], &quot;geometry&quot;: {&quot;coordinates&quot;: [[[-126.787872314453, 23.1370944976807], [-96.6823806762695, 27.6916675567627], [-98.1656036376953, 48.4958305358887], [-137.14875793457, 42.6021308898926], [-126.787872314453, 23.1370944976807]]], &quot;type&quot;: &quot;Polygon&quot;}, &quot;id&quot;: &quot;14&quot;, &quot;properties&quot;: {&quot;__folium_color&quot;: &quot;#2ca02c&quot;, &quot;meta.native-id&quot;: &quot;VNP14IMG.A2020230.2036.002.2024066014210&quot;, &quot;start_datetime&quot;: &quot;2020-08-17T20:36:00.000Z&quot;}, &quot;type&quot;: &quot;Feature&quot;}, {&quot;bbox&quot;: [-124.512802124023, 30.5347709655762, -78.9000549316406, 56.2788581848145], &quot;geometry&quot;: {&quot;coordinates&quot;: [[[-78.9000549316406, 49.3648719787598], [-124.15389251709, 56.2788581848145], [-124.512802124023, 35.5217628479004], [-92.0383224487305, 30.5347709655762], [-78.9000549316406, 49.3648719787598]]], &quot;type&quot;: &quot;Polygon&quot;}, &quot;id&quot;: &quot;15&quot;, &quot;properties&quot;: {&quot;__folium_color&quot;: &quot;#2ca02c&quot;, &quot;meta.native-id&quot;: &quot;VNP14IMG.A2020231.0854.002.2024066020542&quot;, &quot;start_datetime&quot;: &quot;2020-08-18T08:54:00.000Z&quot;}, &quot;type&quot;: &quot;Feature&quot;}, {&quot;bbox&quot;: [-134.964660644531, 26.5033111572266, -92.3343353271484, 52.091609954834], &quot;geometry&quot;: {&quot;coordinates&quot;: [[[-123.397575378418, 26.5033111572266], [-92.3343353271484, 31.2015190124512], [-93.34130859375, 52.091609954834], [-134.964660644531, 45.802734375], [-123.397575378418, 26.5033111572266]]], &quot;type&quot;: &quot;Polygon&quot;}, &quot;id&quot;: &quot;16&quot;, &quot;properties&quot;: {&quot;__folium_color&quot;: &quot;#98df8a&quot;, &quot;meta.native-id&quot;: &quot;VNP14IMG.A2020231.2018.002.2024066020542&quot;, &quot;start_datetime&quot;: &quot;2020-08-18T20:18:00.000Z&quot;}, &quot;type&quot;: &quot;Feature&quot;}, {&quot;bbox&quot;: [-120.09447479248, 27.200855255127, -77.0477142333984, 52.7933464050293], &quot;geometry&quot;: {&quot;coordinates&quot;: [[[-77.0477142333984, 46.3534545898438], [-119.179985046387, 52.7933464050293], [-120.09447479248, 32.0148544311523], [-88.7965316772461, 27.200855255127], [-77.0477142333984, 46.3534545898438]]], &quot;type&quot;: &quot;Polygon&quot;}, &quot;id&quot;: &quot;17&quot;, &quot;properties&quot;: {&quot;__folium_color&quot;: &quot;#98df8a&quot;, &quot;meta.native-id&quot;: &quot;VNP14IMG.A2020232.0836.002.2024066022011&quot;, &quot;start_datetime&quot;: &quot;2020-08-19T08:36:00.000Z&quot;}, &quot;type&quot;: &quot;Feature&quot;}, {&quot;bbox&quot;: [-133.049591064453, 29.9391441345215, -87.9438323974609, 55.5779991149902], &quot;geometry&quot;: {&quot;coordinates&quot;: [[[-120.175323486328, 29.9391441345215], [-87.9438323974609, 34.8149070739746], [-88.3673553466797, 55.5779991149902], [-133.049591064453, 48.8324356079102], [-120.175323486328, 29.9391441345215]]], &quot;type&quot;: &quot;Polygon&quot;}, &quot;id&quot;: &quot;18&quot;, &quot;properties&quot;: {&quot;__folium_color&quot;: &quot;#98df8a&quot;, &quot;meta.native-id&quot;: &quot;VNP14IMG.A2020232.2000.002.2024066022014&quot;, &quot;start_datetime&quot;: &quot;2020-08-19T20:00:00.000Z&quot;}, &quot;type&quot;: &quot;Feature&quot;}, {&quot;bbox&quot;: [-115.747772216797, 23.7415885925293, -74.8572540283203, 49.301326751709], &quot;geometry&quot;: {&quot;coordinates&quot;: [[[-74.8572540283203, 43.2568092346191], [-114.305404663086, 49.301326751709], [-115.747772216797, 28.4007148742676], [-85.4692001342773, 23.7415885925293], [-74.8572540283203, 43.2568092346191]]], &quot;type&quot;: &quot;Polygon&quot;}, &quot;id&quot;: &quot;19&quot;, &quot;properties&quot;: {&quot;__folium_color&quot;: &quot;#d62728&quot;, &quot;meta.native-id&quot;: &quot;VNP14IMG.A2020233.0818.002.2024066023813&quot;, &quot;start_datetime&quot;: &quot;2020-08-20T08:18:00.000Z&quot;}, &quot;type&quot;: &quot;Feature&quot;}, {&quot;bbox&quot;: [-141.325378417969, 22.1317043304443, -101.432609558105, 47.5342597961426], &quot;geometry&quot;: {&quot;coordinates&quot;: [[[-101.432609558105, 41.6786460876465], [-139.745513916016, 47.5342597961426], [-141.325378417969, 26.7338371276855], [-111.461051940918, 22.1317043304443], [-101.432609558105, 41.6786460876465]]], &quot;type&quot;: &quot;Polygon&quot;}, &quot;id&quot;: &quot;20&quot;, &quot;properties&quot;: {&quot;__folium_color&quot;: &quot;#d62728&quot;, &quot;meta.native-id&quot;: &quot;VNP14IMG.A2020233.1000.002.2024066023810&quot;, &quot;start_datetime&quot;: &quot;2020-08-20T10:00:00.000Z&quot;}, &quot;type&quot;: &quot;Feature&quot;}, {&quot;bbox&quot;: [-131.529983520508, 33.2502365112305, -83.2130661010742, 59.0581321716309], &quot;geometry&quot;: {&quot;coordinates&quot;: [[[-117.050277709961, 33.2502365112305], [-83.4871368408203, 38.3259391784668], [-83.2130661010742, 59.0581321716309], [-131.529983520508, 51.7680740356445], [-117.050277709961, 33.2502365112305]]], &quot;type&quot;: &quot;Polygon&quot;}, &quot;id&quot;: &quot;21&quot;, &quot;properties&quot;: {&quot;__folium_color&quot;: &quot;#d62728&quot;, &quot;meta.native-id&quot;: &quot;VNP14IMG.A2020233.1942.002.2024066023815&quot;, &quot;start_datetime&quot;: &quot;2020-08-20T19:42:00.000Z&quot;}, &quot;type&quot;: &quot;Feature&quot;}, {&quot;bbox&quot;: [-111.434646606445, 20.3490428924561, -72.4271011352539, 45.6947364807129], &quot;geometry&quot;: {&quot;coordinates&quot;: [[[-72.4271011352539, 39.9952430725098], [-109.605827331543, 45.6947364807129], [-111.434646606445, 24.8891468048096], [-81.9845123291016, 20.3490428924561], [-72.4271011352539, 39.9952430725098]]], &quot;type&quot;: &quot;Polygon&quot;}, &quot;id&quot;: &quot;22&quot;, &quot;properties&quot;: {&quot;__folium_color&quot;: &quot;#d62728&quot;, &quot;meta.native-id&quot;: &quot;VNP14IMG.A2020234.0800.002.2024066025738&quot;, &quot;start_datetime&quot;: &quot;2020-08-21T08:00:00.000Z&quot;}, &quot;type&quot;: &quot;Feature&quot;}, {&quot;bbox&quot;: [-137.056427001953, 18.63401222229, -98.8078689575195, 44.0327262878418], &quot;geometry&quot;: {&quot;coordinates&quot;: [[[-98.8078689575195, 38.4774322509766], [-135.073913574219, 44.0327262878418], [-137.056427001953, 23.1204128265381], [-107.964019775391, 18.63401222229], [-98.8078689575195, 38.4774322509766]]], &quot;type&quot;: &quot;Polygon&quot;}, &quot;id&quot;: &quot;23&quot;, &quot;properties&quot;: {&quot;__folium_color&quot;: &quot;#ff9896&quot;, &quot;meta.native-id&quot;: &quot;VNP14IMG.A2020234.0942.002.2024066025740&quot;, &quot;start_datetime&quot;: &quot;2020-08-21T09:42:00.000Z&quot;}, &quot;type&quot;: &quot;Feature&quot;}, {&quot;bbox&quot;: [-130.601867675781, 36.5301818847656, -77.7764892578125, 62.6259574890137], &quot;geometry&quot;: {&quot;coordinates&quot;: [[[-114.075569152832, 36.5301818847656], [-78.9610214233398, 41.836009979248], [-77.7764892578125, 62.6259574890137], [-130.601867675781, 54.6664085388184], [-114.075569152832, 36.5301818847656]]], &quot;type&quot;: &quot;Polygon&quot;}, &quot;id&quot;: &quot;24&quot;, &quot;properties&quot;: {&quot;__folium_color&quot;: &quot;#ff9896&quot;, &quot;meta.native-id&quot;: &quot;VNP14IMG.A2020234.1924.002.2024066025741&quot;, &quot;start_datetime&quot;: &quot;2020-08-21T19:24:00.000Z&quot;}, &quot;type&quot;: &quot;Feature&quot;}, {&quot;bbox&quot;: [-140.521957397461, 18.5064888000488, -102.452629089355, 43.7222099304199], &quot;geometry&quot;: {&quot;coordinates&quot;: [[[-131.446670532227, 18.5064888000488], [-102.452629089355, 22.900390625], [-104.432479858398, 43.7222099304199], [-140.521957397461, 38.2602043151855], [-131.446670532227, 18.5064888000488]]], &quot;type&quot;: &quot;Polygon&quot;}, &quot;id&quot;: &quot;25&quot;, &quot;properties&quot;: {&quot;__folium_color&quot;: &quot;#ff9896&quot;, &quot;meta.native-id&quot;: &quot;VNP14IMG.A2020234.2100.002.2024066025745&quot;, &quot;start_datetime&quot;: &quot;2020-08-21T21:00:00.000Z&quot;}, &quot;type&quot;: &quot;Feature&quot;}, {&quot;bbox&quot;: [-131.162734985352, 35.1182594299316, -80.4931411743164, 61.1140403747559], &quot;geometry&quot;: {&quot;coordinates&quot;: [[[-80.4931411743164, 53.3920478820801], [-131.162734985352, 61.1140403747559], [-130.48811340332, 40.4081993103027], [-96.0152969360352, 35.1182594299316], [-80.4931411743164, 53.3920478820801]]], &quot;type&quot;: &quot;Polygon&quot;}, &quot;id&quot;: &quot;26&quot;, &quot;properties&quot;: {&quot;__folium_color&quot;: &quot;#9467bd&quot;, &quot;meta.native-id&quot;: &quot;VNP14IMG.A2020235.0918.002.2024066030646&quot;, &quot;start_datetime&quot;: &quot;2020-08-22T09:18:00.000Z&quot;}, &quot;type&quot;: &quot;Feature&quot;}, {&quot;bbox&quot;: [-111.420059204102, 20.2068119049072, -72.5024871826172, 45.5618705749512], &quot;geometry&quot;: {&quot;coordinates&quot;: [[[-101.867050170898, 20.2068119049072], [-72.5024871826172, 24.6454315185547], [-74.3171539306641, 45.5618705749512], [-111.420059204102, 39.9646492004395], [-101.867050170898, 20.2068119049072]]], &quot;type&quot;: &quot;Polygon&quot;}, &quot;id&quot;: &quot;27&quot;, &quot;properties&quot;: {&quot;__folium_color&quot;: &quot;#9467bd&quot;, &quot;meta.native-id&quot;: &quot;VNP14IMG.A2020235.1900.002.2024066030641&quot;, &quot;start_datetime&quot;: &quot;2020-08-22T19:00:00.000Z&quot;}, &quot;type&quot;: &quot;Feature&quot;}, {&quot;bbox&quot;: [-137.899230957031, 21.905855178833, -98.1119613647461, 47.2243728637695], &quot;geometry&quot;: {&quot;coordinates&quot;: [[[-127.904647827148, 21.905855178833], [-98.1119613647461, 26.4163360595703], [-99.7475051879883, 47.2243728637695], [-137.899230957031, 41.4570121765137], [-127.904647827148, 21.905855178833]]], &quot;type&quot;: &quot;Polygon&quot;}, &quot;id&quot;: &quot;28&quot;, &quot;properties&quot;: {&quot;__folium_color&quot;: &quot;#9467bd&quot;, &quot;meta.native-id&quot;: &quot;VNP14IMG.A2020235.2042.002.2024066030646&quot;, &quot;start_datetime&quot;: &quot;2020-08-22T20:42:00.000Z&quot;}, &quot;type&quot;: &quot;Feature&quot;}, {&quot;bbox&quot;: [-125.993423461914, 31.7371673583984, -79.2369079589844, 57.642650604248], &quot;geometry&quot;: {&quot;coordinates&quot;: [[[-79.2369079589844, 50.5225028991699], [-125.903526306152, 57.642650604248], [-125.993423461914, 36.7980728149414], [-93.0371398925781, 31.7371673583984], [-79.2369079589844, 50.5225028991699]]], &quot;type&quot;: &quot;Polygon&quot;}, &quot;id&quot;: &quot;29&quot;, &quot;properties&quot;: {&quot;__folium_color&quot;: &quot;#c5b0d5&quot;, &quot;meta.native-id&quot;: &quot;VNP14IMG.A2020236.0900.002.2024066031816&quot;, &quot;start_datetime&quot;: &quot;2020-08-23T09:00:00.000Z&quot;}, &quot;type&quot;: &quot;Feature&quot;}, {&quot;bbox&quot;: [-108.937423706055, 23.585485458374, -68.1961822509766, 49.0604705810547], &quot;geometry&quot;: {&quot;coordinates&quot;: [[[-98.4130325317383, 23.585485458374], [-68.1961822509766, 28.1566429138184], [-69.6152038574219, 49.0604705810547], [-108.937423706055, 43.1277465820312], [-98.4130325317383, 23.585485458374]]], &quot;type&quot;: &quot;Polygon&quot;}, &quot;id&quot;: &quot;30&quot;, &quot;properties&quot;: {&quot;__folium_color&quot;: &quot;#c5b0d5&quot;, &quot;meta.native-id&quot;: &quot;VNP14IMG.A2020236.1842.002.2024066031814&quot;, &quot;start_datetime&quot;: &quot;2020-08-23T18:42:00.000Z&quot;}, &quot;type&quot;: &quot;Feature&quot;}, {&quot;bbox&quot;: [-135.537109375, 25.283317565918, -93.7812576293945, 50.720775604248], &quot;geometry&quot;: {&quot;coordinates&quot;: [[[-124.474784851074, 25.283317565918], [-93.7812576293945, 29.9267444610596], [-94.9741821289062, 50.720775604248], [-135.537109375, 44.5905914306641], [-124.474784851074, 25.283317565918]]], &quot;type&quot;: &quot;Polygon&quot;}, &quot;id&quot;: &quot;31&quot;, &quot;properties&quot;: {&quot;__folium_color&quot;: &quot;#c5b0d5&quot;, &quot;meta.native-id&quot;: &quot;VNP14IMG.A2020236.2024.002.2024066031813&quot;, &quot;start_datetime&quot;: &quot;2020-08-23T20:24:00.000Z&quot;}, &quot;type&quot;: &quot;Feature&quot;}, {&quot;bbox&quot;: [-121.55606842041, 28.4150943756104, -77.6266403198242, 54.0600242614746], &quot;geometry&quot;: {&quot;coordinates&quot;: [[[-77.6266403198242, 47.4590759277344], [-120.825332641602, 54.0600242614746], [-121.55606842041, 33.2898445129395], [-89.8488540649414, 28.4150943756104], [-77.6266403198242, 47.4590759277344]]], &quot;type&quot;: &quot;Polygon&quot;}, &quot;id&quot;: &quot;32&quot;, &quot;properties&quot;: {&quot;__folium_color&quot;: &quot;#8c564b&quot;, &quot;meta.native-id&quot;: &quot;VNP14IMG.A2020237.0842.002.2024066033114&quot;, &quot;start_datetime&quot;: &quot;2020-08-24T08:42:00.000Z&quot;}, &quot;type&quot;: &quot;Feature&quot;}, {&quot;bbox&quot;: [-133.563613891602, 28.6346130371094, -89.4023056030273, 54.3144683837891], &quot;geometry&quot;: {&quot;coordinates&quot;: [[[-121.162460327148, 28.6346130371094], [-89.4023056030273, 33.4390144348145], [-90.0521240234375, 54.3144683837891], [-133.563613891602, 47.7441177368164], [-121.162460327148, 28.6346130371094]]], &quot;type&quot;: &quot;Polygon&quot;}, &quot;id&quot;: &quot;33&quot;, &quot;properties&quot;: {&quot;__folium_color&quot;: &quot;#8c564b&quot;, &quot;meta.native-id&quot;: &quot;VNP14IMG.A2020237.2006.002.2024066033112&quot;, &quot;start_datetime&quot;: &quot;2020-08-24T20:06:00.000Z&quot;}, &quot;type&quot;: &quot;Feature&quot;}, {&quot;bbox&quot;: [-117.173919677734, 25.0603923797607, -75.5420227050781, 50.5684432983398], &quot;geometry&quot;: {&quot;coordinates&quot;: [[[-75.5420227050781, 44.3844566345215], [-115.911437988281, 50.5684432983398], [-117.173919677734, 29.7772960662842], [-86.5263900756836, 25.0603923797607], [-75.5420227050781, 44.3844566345215]]], &quot;type&quot;: &quot;Polygon&quot;}, &quot;id&quot;: &quot;34&quot;, &quot;properties&quot;: {&quot;__folium_color&quot;: &quot;#8c564b&quot;, &quot;meta.native-id&quot;: &quot;VNP14IMG.A2020238.0824.002.2024066034943&quot;, &quot;start_datetime&quot;: &quot;2020-08-25T08:24:00.000Z&quot;}, &quot;type&quot;: &quot;Feature&quot;}, {&quot;bbox&quot;: [-142.758163452148, 23.3592128753662, -102.17977142334, 48.803466796875], &quot;geometry&quot;: {&quot;coordinates&quot;: [[[-102.17977142334, 42.8205642700195], [-141.331558227539, 48.803466796875], [-142.758163452148, 28.0068397521973], [-112.579818725586, 23.3592128753662], [-102.17977142334, 42.8205642700195]]], &quot;type&quot;: &quot;Polygon&quot;}, &quot;id&quot;: &quot;35&quot;, &quot;properties&quot;: {&quot;__folium_color&quot;: &quot;#c49c94&quot;, &quot;meta.native-id&quot;: &quot;VNP14IMG.A2020238.1006.002.2024066034946&quot;, &quot;start_datetime&quot;: &quot;2020-08-25T10:06:00.000Z&quot;}, &quot;type&quot;: &quot;Feature&quot;}, {&quot;bbox&quot;: [-131.892959594727, 32.0547180175781, -84.9675903320312, 57.7995681762695], &quot;geometry&quot;: {&quot;coordinates&quot;: [[[-118.036079406738, 32.0547180175781], [-84.9768753051758, 37.0538940429688], [-84.9675903320312, 57.7995681762695], [-131.892959594727, 50.7182884216309], [-118.036079406738, 32.0547180175781]]], &quot;type&quot;: &quot;Polygon&quot;}, &quot;id&quot;: &quot;36&quot;, &quot;properties&quot;: {&quot;__folium_color&quot;: &quot;#c49c94&quot;, &quot;meta.native-id&quot;: &quot;VNP14IMG.A2020238.1948.002.2024066034948&quot;, &quot;start_datetime&quot;: &quot;2020-08-25T19:48:00.000Z&quot;}, &quot;type&quot;: &quot;Feature&quot;}, {&quot;bbox&quot;: [-112.861862182617, 21.5801200866699, -73.1566314697266, 47.0667190551758], &quot;geometry&quot;: {&quot;coordinates&quot;: [[[-73.1566314697266, 41.2386131286621], [-111.146537780762, 47.0667190551758], [-112.861862182617, 26.1600856781006], [-83.124397277832, 21.5801200866699], [-73.1566314697266, 41.2386131286621]]], &quot;type&quot;: &quot;Polygon&quot;}, &quot;id&quot;: &quot;37&quot;, &quot;properties&quot;: {&quot;__folium_color&quot;: &quot;#c49c94&quot;, &quot;meta.native-id&quot;: &quot;VNP14IMG.A2020239.0806.002.2024066040242&quot;, &quot;start_datetime&quot;: &quot;2020-08-26T08:06:00.000Z&quot;}, &quot;type&quot;: &quot;Feature&quot;}, {&quot;bbox&quot;: [-138.454681396484, 19.9657459259033, -99.6467819213867, 45.3006439208984], &quot;geometry&quot;: {&quot;coordinates&quot;: [[[-99.6467819213867, 39.6401863098145], [-136.62451171875, 45.3006439208984], [-138.454681396484, 24.4935073852539], [-109.083137512207, 19.9657459259033], [-99.6467819213867, 39.6401863098145]]], &quot;type&quot;: &quot;Polygon&quot;}, &quot;id&quot;: &quot;38&quot;, &quot;properties&quot;: {&quot;__folium_color&quot;: &quot;#e377c2&quot;, &quot;meta.native-id&quot;: &quot;VNP14IMG.A2020239.0948.002.2024066040246&quot;, &quot;start_datetime&quot;: &quot;2020-08-26T09:48:00.000Z&quot;}, &quot;type&quot;: &quot;Feature&quot;}, {&quot;bbox&quot;: [-130.666793823242, 35.3502540588379, -79.6546020507812, 61.273796081543], &quot;geometry&quot;: {&quot;coordinates&quot;: [[[-114.998054504395, 35.3502540588379], [-80.4711608886719, 40.5672645568848], [-79.6546020507812, 61.273796081543], [-130.666793823242, 53.5856552124023], [-114.998054504395, 35.3502540588379]]], &quot;type&quot;: &quot;Polygon&quot;}, &quot;id&quot;: &quot;39&quot;, &quot;properties&quot;: {&quot;__folium_color&quot;: &quot;#e377c2&quot;, &quot;meta.native-id&quot;: &quot;VNP14IMG.A2020239.1930.002.2024066040246&quot;, &quot;start_datetime&quot;: &quot;2020-08-26T19:30:00.000Z&quot;}, &quot;type&quot;: &quot;Feature&quot;}, {&quot;bbox&quot;: [-141.39192199707, 17.1741847991943, -103.816345214844, 42.4544525146484], &quot;geometry&quot;: {&quot;coordinates&quot;: [[[-132.581970214844, 17.1741847991943], [-103.816345214844, 21.5303173065186], [-106.001976013184, 42.4544525146484], [-141.39192199707, 37.0934066772461], [-132.581970214844, 17.1741847991943]]], &quot;type&quot;: &quot;Polygon&quot;}, &quot;id&quot;: &quot;40&quot;, &quot;properties&quot;: {&quot;__folium_color&quot;: &quot;#e377c2&quot;, &quot;meta.native-id&quot;: &quot;VNP14IMG.A2020239.2106.002.2024066040247&quot;, &quot;start_datetime&quot;: &quot;2020-08-26T21:06:00.000Z&quot;}, &quot;type&quot;: &quot;Feature&quot;}, {&quot;bbox&quot;: [-108.582412719727, 18.1737403869629, -70.5788192749023, 43.4568481445312], &quot;geometry&quot;: {&quot;coordinates&quot;: [[[-70.5788192749023, 37.9415550231934], [-106.504554748535, 43.4568481445312], [-108.582412719727, 22.6465606689453], [-79.5748291015625, 18.1737403869629], [-70.5788192749023, 37.9415550231934]]], &quot;type&quot;: &quot;Polygon&quot;}, &quot;id&quot;: &quot;41&quot;, &quot;properties&quot;: {&quot;__folium_color&quot;: &quot;#f7b6d2&quot;, &quot;meta.native-id&quot;: &quot;VNP14IMG.A2020240.0748.002.2024066041714&quot;, &quot;start_datetime&quot;: &quot;2020-08-27T07:48:00.000Z&quot;}, &quot;type&quot;: &quot;Feature&quot;}, {&quot;bbox&quot;: [-133.017074584961, 36.2975387573242, -80.692253112793, 62.3660011291504], &quot;geometry&quot;: {&quot;coordinates&quot;: [[[-80.692253112793, 54.3957977294922], [-133.017074584961, 62.3660011291504], [-132.006881713867, 41.6740684509277], [-96.9328002929688, 36.2975387573242], [-80.692253112793, 54.3957977294922]]], &quot;type&quot;: &quot;Polygon&quot;}, &quot;id&quot;: &quot;42&quot;, &quot;properties&quot;: {&quot;__folium_color&quot;: &quot;#f7b6d2&quot;, &quot;meta.native-id&quot;: &quot;VNP14IMG.A2020240.0924.002.2024066041714&quot;, &quot;start_datetime&quot;: &quot;2020-08-27T09:24:00.000Z&quot;}, &quot;type&quot;: &quot;Feature&quot;}, {&quot;bbox&quot;: [-112.192451477051, 18.9758415222168, -73.9163055419922, 44.195182800293], &quot;geometry&quot;: {&quot;coordinates&quot;: [[[-103.031135559082, 18.9758415222168], [-73.9163055419922, 23.3787899017334], [-75.8652038574219, 44.195182800293], [-112.192451477051, 38.7154884338379], [-103.031135559082, 18.9758415222168]]], &quot;type&quot;: &quot;Polygon&quot;}, &quot;id&quot;: &quot;43&quot;, &quot;properties&quot;: {&quot;__folium_color&quot;: &quot;#f7b6d2&quot;, &quot;meta.native-id&quot;: &quot;VNP14IMG.A2020240.1906.002.2024066041712&quot;, &quot;start_datetime&quot;: &quot;2020-08-27T19:06:00.000Z&quot;}, &quot;type&quot;: &quot;Feature&quot;}, {&quot;bbox&quot;: [-138.687881469727, 20.5839405059814, -99.5325546264648, 45.9612312316895], &quot;geometry&quot;: {&quot;coordinates&quot;: [[[-129.006805419922, 20.5839405059814], [-99.5325546264648, 25.0453414916992], [-101.31665802002, 45.9612312316895], [-138.687881469727, 40.3106918334961], [-129.006805419922, 20.5839405059814]]], &quot;type&quot;: &quot;Polygon&quot;}, &quot;id&quot;: &quot;44&quot;, &quot;properties&quot;: {&quot;__folium_color&quot;: &quot;#f7b6d2&quot;, &quot;meta.native-id&quot;: &quot;VNP14IMG.A2020240.2048.002.2024066041718&quot;, &quot;start_datetime&quot;: &quot;2020-08-27T20:48:00.000Z&quot;}, &quot;type&quot;: &quot;Feature&quot;}, {&quot;bbox&quot;: [-127.631454467773, 33.0213890075684, -79.6126022338867, 58.8962554931641], &quot;geometry&quot;: {&quot;coordinates&quot;: [[[-79.6126022338867, 51.5703506469727], [-127.631454467773, 58.8962554931641], [-127.474800109863, 38.1669006347656], [-93.9684371948242, 33.0213890075684], [-79.6126022338867, 51.5703506469727]]], &quot;type&quot;: &quot;Polygon&quot;}, &quot;id&quot;: &quot;45&quot;, &quot;properties&quot;: {&quot;__folium_color&quot;: &quot;#7f7f7f&quot;, &quot;meta.native-id&quot;: &quot;VNP14IMG.A2020241.0906.002.2024066042611&quot;, &quot;start_datetime&quot;: &quot;2020-08-28T09:06:00.000Z&quot;}, &quot;type&quot;: &quot;Feature&quot;}, {&quot;bbox&quot;: [-109.603332519531, 22.3752975463867, -69.6283416748047, 47.6999168395996], &quot;geometry&quot;: {&quot;coordinates&quot;: [[[-99.5040130615234, 22.3752975463867], [-69.6283416748047, 26.8906707763672], [-71.2110748291016, 47.6999168395996], [-109.603332519531, 41.9038352966309], [-99.5040130615234, 22.3752975463867]]], &quot;type&quot;: &quot;Polygon&quot;}, &quot;id&quot;: &quot;46&quot;, &quot;properties&quot;: {&quot;__folium_color&quot;: &quot;#7f7f7f&quot;, &quot;meta.native-id&quot;: &quot;VNP14IMG.A2020241.1848.002.2024066042613&quot;, &quot;start_datetime&quot;: &quot;2020-08-28T18:48:00.000Z&quot;}, &quot;type&quot;: &quot;Feature&quot;}, {&quot;bbox&quot;: [-136.228378295898, 24.0690364837646, -95.2213821411133, 49.4619979858398], &quot;geometry&quot;: {&quot;coordinates&quot;: [[[-125.56893157959, 24.0690364837646], [-95.2213821411133, 28.6621608734131], [-96.5741119384766, 49.4619979858398], [-136.228378295898, 43.4700584411621], [-125.56893157959, 24.0690364837646]]], &quot;type&quot;: &quot;Polygon&quot;}, &quot;id&quot;: &quot;47&quot;, &quot;properties&quot;: {&quot;__folium_color&quot;: &quot;#7f7f7f&quot;, &quot;meta.native-id&quot;: &quot;VNP14IMG.A2020241.2030.002.2024066042614&quot;, &quot;start_datetime&quot;: &quot;2020-08-28T20:30:00.000Z&quot;}, &quot;type&quot;: &quot;Feature&quot;}, {&quot;bbox&quot;: [-123.023895263672, 29.6162643432617, -78.0701446533203, 55.4176864624023], &quot;geometry&quot;: {&quot;coordinates&quot;: [[[-78.0701446533203, 48.6293640136719], [-122.503143310547, 55.4176864624023], [-123.023895263672, 34.5549011230469], [-90.8861312866211, 29.6162643432617], [-78.0701446533203, 48.6293640136719]]], &quot;type&quot;: &quot;Polygon&quot;}, &quot;id&quot;: &quot;48&quot;, &quot;properties&quot;: {&quot;__folium_color&quot;: &quot;#c7c7c7&quot;, &quot;meta.native-id&quot;: &quot;VNP14IMG.A2020242.0848.002.2024066043636&quot;, &quot;start_datetime&quot;: &quot;2020-08-29T08:48:00.000Z&quot;}, &quot;type&quot;: &quot;Feature&quot;}, {&quot;bbox&quot;: [-134.052185058594, 27.431713104248, -90.8615798950195, 52.9580116271973], &quot;geometry&quot;: {&quot;coordinates&quot;: [[[-122.214881896973, 27.431713104248], [-90.8615798950195, 32.1742172241211], [-91.7171249389648, 52.9580116271973], [-134.052185058594, 46.5622787475586], [-122.214881896973, 27.431713104248]]], &quot;type&quot;: &quot;Polygon&quot;}, &quot;id&quot;: &quot;49&quot;, &quot;properties&quot;: {&quot;__folium_color&quot;: &quot;#c7c7c7&quot;, &quot;meta.native-id&quot;: &quot;VNP14IMG.A2020242.2012.002.2024066043640&quot;, &quot;start_datetime&quot;: &quot;2020-08-29T20:12:00.000Z&quot;}, &quot;type&quot;: &quot;Feature&quot;}, {&quot;bbox&quot;: [-118.620826721191, 26.2717876434326, -76.2024841308594, 51.8256530761719], &quot;geometry&quot;: {&quot;coordinates&quot;: [[[-76.2024841308594, 45.4986534118652], [-117.52326965332, 51.8256530761719], [-118.620826721191, 31.0416221618652], [-87.6121292114258, 26.2717876434326], [-76.2024841308594, 45.4986534118652]]], &quot;type&quot;: &quot;Polygon&quot;}, &quot;id&quot;: &quot;50&quot;, &quot;properties&quot;: {&quot;__folium_color&quot;: &quot;#c7c7c7&quot;, &quot;meta.native-id&quot;: &quot;VNP14IMG.A2020243.0830.002.2024066044718&quot;, &quot;start_datetime&quot;: &quot;2020-08-30T08:30:00.000Z&quot;}, &quot;type&quot;: &quot;Feature&quot;}, {&quot;bbox&quot;: [-144.197418212891, 24.5737152099609, -102.8125, 50.1633949279785], &quot;geometry&quot;: {&quot;coordinates&quot;: [[[-102.8125, 44.0353775024414], [-142.929611206055, 50.1633949279785], [-144.197418212891, 29.2723331451416], [-113.685585021973, 24.5737152099609], [-102.8125, 44.0353775024414]]], &quot;type&quot;: &quot;Polygon&quot;}, &quot;id&quot;: &quot;51&quot;, &quot;properties&quot;: {&quot;__folium_color&quot;: &quot;#bcbd22&quot;, &quot;meta.native-id&quot;: &quot;VNP14IMG.A2020243.1012.002.2024066044716&quot;, &quot;start_datetime&quot;: &quot;2020-08-30T10:12:00.000Z&quot;}, &quot;type&quot;: &quot;Feature&quot;}, {&quot;bbox&quot;: [-132.323394775391, 30.7659282684326, -86.4487991333008, 56.5477104187012], &quot;geometry&quot;: {&quot;coordinates&quot;: [[[-118.989273071289, 30.7659282684326], [-86.4487991333008, 35.6893882751465], [-86.6945419311523, 56.5477104187012], [-132.323394775391, 49.6597290039062], [-118.989273071289, 30.7659282684326]]], &quot;type&quot;: &quot;Polygon&quot;}, &quot;id&quot;: &quot;52&quot;, &quot;properties&quot;: {&quot;__folium_color&quot;: &quot;#bcbd22&quot;, &quot;meta.native-id&quot;: &quot;VNP14IMG.A2020243.1954.002.2024066044717&quot;, &quot;start_datetime&quot;: &quot;2020-08-30T19:54:00.000Z&quot;}, &quot;type&quot;: &quot;Feature&quot;}, {&quot;bbox&quot;: [-114.274238586426, 22.8982086181641, -73.9238052368164, 48.3252334594727], &quot;geometry&quot;: {&quot;coordinates&quot;: [[[-73.9238052368164, 42.3785820007324], [-112.743835449219, 48.3252334594727], [-114.274238586426, 27.5281257629395], [-84.2120971679688, 22.8982086181641], [-73.9238052368164, 42.3785820007324]]], &quot;type&quot;: &quot;Polygon&quot;}, &quot;id&quot;: &quot;53&quot;, &quot;properties&quot;: {&quot;__folium_color&quot;: &quot;#bcbd22&quot;, &quot;meta.native-id&quot;: &quot;VNP14IMG.A2020244.0812.002.2024066050013&quot;, &quot;start_datetime&quot;: &quot;2020-08-31T08:12:00.000Z&quot;}, &quot;type&quot;: &quot;Feature&quot;}, {&quot;bbox&quot;: [-139.874572753906, 21.1898326873779, -100.465606689453, 46.560302734375], &quot;geometry&quot;: {&quot;coordinates&quot;: [[[-100.465606689453, 40.790096282959], [-138.187545776367, 46.560302734375], [-139.874572753906, 25.7574024200439], [-110.226509094238, 21.1898326873779], [-100.465606689453, 40.790096282959]]], &quot;type&quot;: &quot;Polygon&quot;}, &quot;id&quot;: &quot;54&quot;, &quot;properties&quot;: {&quot;__folium_color&quot;: &quot;#dbdb8d&quot;, &quot;meta.native-id&quot;: &quot;VNP14IMG.A2020244.0954.002.2024066050019&quot;, &quot;start_datetime&quot;: &quot;2020-08-31T09:54:00.000Z&quot;}, &quot;type&quot;: &quot;Feature&quot;}, {&quot;bbox&quot;: [-130.934036254883, 34.1698379516602, -81.4802474975586, 60.027515411377], &quot;geometry&quot;: {&quot;coordinates&quot;: [[[-115.950874328613, 34.1698379516602], [-81.9719848632812, 39.3068809509277], [-81.4802474975586, 60.027515411377], [-130.934036254883, 52.567699432373], [-115.950874328613, 34.1698379516602]]], &quot;type&quot;: &quot;Polygon&quot;}, &quot;id&quot;: &quot;55&quot;, &quot;properties&quot;: {&quot;__folium_color&quot;: &quot;#dbdb8d&quot;, &quot;meta.native-id&quot;: &quot;VNP14IMG.A2020244.1936.002.2024066050014&quot;, &quot;start_datetime&quot;: &quot;2020-08-31T19:36:00.000Z&quot;}, &quot;type&quot;: &quot;Feature&quot;}, {&quot;bbox&quot;: [-109.992065429688, 19.3989696502686, -71.366828918457, 44.820068359375], &quot;geometry&quot;: {&quot;coordinates&quot;: [[[-71.366828918457, 39.1913185119629], [-108.03833770752, 44.820068359375], [-109.992065429688, 23.9098834991455], [-80.7366485595703, 19.3989696502686], [-71.366828918457, 39.1913185119629]]], &quot;type&quot;: &quot;Polygon&quot;}, &quot;id&quot;: &quot;56&quot;, &quot;properties&quot;: {&quot;__folium_color&quot;: &quot;#dbdb8d&quot;, &quot;meta.native-id&quot;: &quot;VNP14IMG.A2020245.0754.002.2024066051104&quot;, &quot;start_datetime&quot;: &quot;2020-09-01T07:54:00.000Z&quot;}, &quot;type&quot;: &quot;Feature&quot;}, {&quot;bbox&quot;: [-134.981704711914, 37.4648361206055, -80.6967086791992, 63.706485748291], &quot;geometry&quot;: {&quot;coordinates&quot;: [[[-80.6967086791992, 55.453296661377], [-134.981704711914, 63.706485748291], [-133.533432006836, 42.9353675842285], [-97.8295516967773, 37.4648361206055], [-80.6967086791992, 55.453296661377]]], &quot;type&quot;: &quot;Polygon&quot;}, &quot;id&quot;: &quot;57&quot;, &quot;properties&quot;: {&quot;__folium_color&quot;: &quot;#17becf&quot;, &quot;meta.native-id&quot;: &quot;VNP14IMG.A2020245.0930.002.2024066051105&quot;, &quot;start_datetime&quot;: &quot;2020-09-01T09:30:00.000Z&quot;}, &quot;type&quot;: &quot;Feature&quot;}, {&quot;bbox&quot;: [-135.606170654297, 17.7817497253418, -97.7772064208984, 43.0544776916504], &quot;geometry&quot;: {&quot;coordinates&quot;: [[[-97.7772064208984, 37.5732307434082], [-133.539306640625, 43.0544776916504], [-135.606170654297, 22.2446060180664], [-106.67113494873, 17.7817497253418], [-97.7772064208984, 37.5732307434082]]], &quot;type&quot;: &quot;Polygon&quot;}, &quot;id&quot;: &quot;58&quot;, &quot;properties&quot;: {&quot;__folium_color&quot;: &quot;#17becf&quot;, &quot;meta.native-id&quot;: &quot;VNP14IMG.A2020245.0936.002.2024066051105&quot;, &quot;start_datetime&quot;: &quot;2020-09-01T09:36:00.000Z&quot;}, &quot;type&quot;: &quot;Feature&quot;}, {&quot;bbox&quot;: [-130.040328979492, 37.450325012207, -75.9731674194336, 63.4929962158203], &quot;geometry&quot;: {&quot;coordinates&quot;: [[[-113.001808166504, 37.450325012207], [-77.4237442016602, 42.8183898925781], [-75.9731674194336, 63.4929962158203], [-130.040328979492, 55.3506851196289], [-113.001808166504, 37.450325012207]]], &quot;type&quot;: &quot;Polygon&quot;}, &quot;id&quot;: &quot;59&quot;, &quot;properties&quot;: {&quot;__folium_color&quot;: &quot;#17becf&quot;, &quot;meta.native-id&quot;: &quot;VNP14IMG.A2020245.1918.002.2024066051106&quot;, &quot;start_datetime&quot;: &quot;2020-09-01T19:18:00.000Z&quot;}, &quot;type&quot;: &quot;Feature&quot;}, {&quot;bbox&quot;: [-139.451705932617, 19.3619632720947, -100.988151550293, 44.6019325256348], &quot;geometry&quot;: {&quot;coordinates&quot;: [[[-130.160079956055, 19.3619632720947], [-100.988151550293, 23.7825889587402], [-102.868621826172, 44.6019325256348], [-139.451705932617, 39.0681953430176], [-130.160079956055, 19.3619632720947]]], &quot;type&quot;: &quot;Polygon&quot;}, &quot;id&quot;: &quot;60&quot;, &quot;properties&quot;: {&quot;__folium_color&quot;: &quot;#9edae5&quot;, &quot;meta.native-id&quot;: &quot;VNP14IMG.A2020245.2054.002.2024066051105&quot;, &quot;start_datetime&quot;: &quot;2020-09-01T20:54:00.000Z&quot;}, &quot;type&quot;: &quot;Feature&quot;}, {&quot;bbox&quot;: [-129.452239990234, 34.201976776123, -79.9366989135742, 60.1409034729004], &quot;geometry&quot;: {&quot;coordinates&quot;: [[[-79.9366989135742, 52.5958251953125], [-129.452239990234, 60.1409034729004], [-128.974243164062, 39.4261016845703], [-94.9309616088867, 34.201976776123], [-79.9366989135742, 52.5958251953125]]], &quot;type&quot;: &quot;Polygon&quot;}, &quot;id&quot;: &quot;61&quot;, &quot;properties&quot;: {&quot;__folium_color&quot;: &quot;#9edae5&quot;, &quot;meta.native-id&quot;: &quot;VNP14IMG.A2020246.0912.002.2024066052023&quot;, &quot;start_datetime&quot;: &quot;2020-09-02T09:12:00.000Z&quot;}, &quot;type&quot;: &quot;Feature&quot;}, {&quot;bbox&quot;: [-110.348320007324, 21.1635875701904, -71.0529861450195, 46.4437065124512], &quot;geometry&quot;: {&quot;coordinates&quot;: [[[-100.622924804688, 21.1635875701904], [-71.0529861450195, 25.6334800720215], [-72.762321472168, 46.4437065124512], [-110.348320007324, 40.7806663513184], [-100.622924804688, 21.1635875701904]]], &quot;type&quot;: &quot;Polygon&quot;}, &quot;id&quot;: &quot;62&quot;, &quot;properties&quot;: {&quot;__folium_color&quot;: &quot;#9edae5&quot;, &quot;meta.native-id&quot;: &quot;VNP14IMG.A2020246.1854.002.2024066052022&quot;, &quot;start_datetime&quot;: &quot;2020-09-02T18:54:00.000Z&quot;}, &quot;type&quot;: &quot;Feature&quot;}, {&quot;bbox&quot;: [-136.962036132812, 22.7600479125977, -96.6428833007812, 48.2086372375488], &quot;geometry&quot;: {&quot;coordinates&quot;: [[[-126.645370483398, 22.7600479125977], [-96.6428833007812, 27.3002128601074], [-98.1718215942383, 48.2086372375488], [-136.962036132812, 42.3436012268066], [-126.645370483398, 22.7600479125977]]], &quot;type&quot;: &quot;Polygon&quot;}, &quot;id&quot;: &quot;63&quot;, &quot;properties&quot;: {&quot;__folium_color&quot;: &quot;#9edae5&quot;, &quot;meta.native-id&quot;: &quot;VNP14IMG.A2020246.2036.002.2024066052018&quot;, &quot;start_datetime&quot;: &quot;2020-09-02T20:36:00.000Z&quot;}, &quot;type&quot;: &quot;Feature&quot;}], &quot;type&quot;: &quot;FeatureCollection&quot;});\n",
       "\n",
       "        \n",
       "    \n",
       "    geo_json_b65fe6ce52afb57cededb4bcd5d6c505.bindTooltip(\n",
       "    function(layer){\n",
       "    let div = L.DomUtil.create(&#x27;div&#x27;);\n",
       "    \n",
       "    let handleObject = feature=&gt;typeof(feature)==&#x27;object&#x27; ? JSON.stringify(feature) : feature;\n",
       "    let fields = [&quot;meta.native-id&quot;, &quot;start_datetime&quot;];\n",
       "    let aliases = [&quot;meta.native-id&quot;, &quot;start_datetime&quot;];\n",
       "    let table = &#x27;&lt;table&gt;&#x27; +\n",
       "        String(\n",
       "        fields.map(\n",
       "        (v,i)=&gt;\n",
       "        `&lt;tr&gt;\n",
       "            &lt;th&gt;${aliases[i]}&lt;/th&gt;\n",
       "            \n",
       "            &lt;td&gt;${handleObject(layer.feature.properties[v])}&lt;/td&gt;\n",
       "        &lt;/tr&gt;`).join(&#x27;&#x27;))\n",
       "    +&#x27;&lt;/table&gt;&#x27;;\n",
       "    div.innerHTML=table;\n",
       "    \n",
       "    return div\n",
       "    }\n",
       "    ,{&quot;className&quot;: &quot;foliumtooltip&quot;, &quot;sticky&quot;: true});\n",
       "                     \n",
       "    \n",
       "    geo_json_b65fe6ce52afb57cededb4bcd5d6c505.bindPopup(\n",
       "    function(layer){\n",
       "    let div = L.DomUtil.create(&#x27;div&#x27;);\n",
       "    \n",
       "    let handleObject = feature=&gt;typeof(feature)==&#x27;object&#x27; ? JSON.stringify(feature) : feature;\n",
       "    let fields = [&quot;meta.native-id&quot;, &quot;start_datetime&quot;];\n",
       "    let aliases = [&quot;meta.native-id&quot;, &quot;start_datetime&quot;];\n",
       "    let table = &#x27;&lt;table&gt;&#x27; +\n",
       "        String(\n",
       "        fields.map(\n",
       "        (v,i)=&gt;\n",
       "        `&lt;tr&gt;\n",
       "            &lt;th&gt;${aliases[i].toLocaleString()}&lt;/th&gt;\n",
       "            \n",
       "            &lt;td&gt;${handleObject(layer.feature.properties[v]).toLocaleString()}&lt;/td&gt;\n",
       "        &lt;/tr&gt;`).join(&#x27;&#x27;))\n",
       "    +&#x27;&lt;/table&gt;&#x27;;\n",
       "    div.innerHTML=table;\n",
       "    \n",
       "    return div\n",
       "    }\n",
       "    ,{&quot;className&quot;: &quot;foliumpopup&quot;});\n",
       "                     \n",
       "    \n",
       "            map_673c7683e9a04e52f62a462005c596a9.fitBounds(\n",
       "                [[17.1741847991943, -144.217361450195], [63.706485748291, -68.1961822509766]],\n",
       "                {}\n",
       "            );\n",
       "        \n",
       "    \n",
       "            var layer_control_1f5fef3d3ff213e2630270ebc324e662 = {\n",
       "                base_layers : {\n",
       "                    &quot;https://mt1.google.com/vt/lyrs=y\\u0026x={x}\\u0026y={y}\\u0026z={z}&quot; : tile_layer_d40a0b1d5319d6f0508a0b3ff7451d5b,\n",
       "                },\n",
       "                overlays :  {\n",
       "                    &quot;South Platte River Basin&quot; : geo_json_e8d4e618f36ae455b3cf1726ece1f0f4,\n",
       "                    &quot;EMIT&quot; : geo_json_b65fe6ce52afb57cededb4bcd5d6c505,\n",
       "                },\n",
       "            };\n",
       "            L.control.layers(\n",
       "                layer_control_1f5fef3d3ff213e2630270ebc324e662.base_layers,\n",
       "                layer_control_1f5fef3d3ff213e2630270ebc324e662.overlays,\n",
       "                {&quot;autoZIndex&quot;: true, &quot;collapsed&quot;: true, &quot;position&quot;: &quot;topright&quot;}\n",
       "            ).addTo(map_673c7683e9a04e52f62a462005c596a9);\n",
       "        \n",
       "&lt;/script&gt;\n",
       "&lt;/html&gt;\" width=\"750px\" height=\"375px\"style=\"border:none !important;\" \"allowfullscreen\" \"webkitallowfullscreen\" \"mozallowfullscreen\"></iframe>"
      ],
      "text/plain": [
       "<branca.element.Figure at 0x168c8bfd0>"
      ]
     },
     "metadata": {},
     "output_type": "display_data"
    }
   ],
   "source": [
    "# Create the interactive map using folium\n",
    "fig = Figure(width=\"750px\", height=\"375px\")\n",
    "map1 = folium.Map(tiles='https://mt1.google.com/vt/lyrs=y&x={x}&y={y}&z={z}', attr='Google')\n",
    "fig.add_child(map1)\n",
    "\n",
    "fire_ = fire[['fired_id','geometry']]\n",
    "\n",
    "# Plot Region of Interest\n",
    "fire_.explore(\n",
    "    popup=False,\n",
    "    style_kwds=dict(fillOpacity=0.1, width=2),\n",
    "    name=\"South Platte River Basin\",\n",
    "    m=map1\n",
    ")\n",
    "\n",
    "results_gdf[['meta.native-id','start_datetime','geometry']].explore(\n",
    "    \"meta.native-id\",\n",
    "    categorical=True,\n",
    "    tooltip=[\n",
    "        \"meta.native-id\",\n",
    "        \"start_datetime\",\n",
    "    ],\n",
    "    popup=True,\n",
    "    style_kwds=dict(fillOpacity=0.1, width=2),\n",
    "    name=\"EMIT\",\n",
    "    m=map1,\n",
    "    legend=False\n",
    ")\n",
    "\n",
    "map1.fit_bounds(bounds=convert_bounds(results_gdf.unary_union.bounds))\n",
    "map1.add_child(folium.LayerControl())\n",
    "display(fig)\n",
    "\n",
    "del fire_"
   ]
  },
  {
   "cell_type": "code",
   "execution_count": 8,
   "id": "1a687916-f051-48f9-a870-7352137d4408",
   "metadata": {},
   "outputs": [
    {
     "data": {
      "text/plain": [
       "[['https://data.lpdaac.earthdatacloud.nasa.gov/lp-prod-protected/VJ114IMG.002/VJ114IMG.A2020226.0800.002.2024070113843/VJ114IMG.A2020226.0800.002.2024070113843.nc'],\n",
       " ['https://data.lpdaac.earthdatacloud.nasa.gov/lp-prod-protected/VNP14IMG.002/VNP14IMG.A2020226.0848.002.2024066004717/VNP14IMG.A2020226.0848.002.2024066004717.nc'],\n",
       " ['https://data.lpdaac.earthdatacloud.nasa.gov/lp-prod-protected/VJ114IMG.002/VJ114IMG.A2020226.0936.002.2024070113845/VJ114IMG.A2020226.0936.002.2024070113845.nc'],\n",
       " ['https://data.lpdaac.earthdatacloud.nasa.gov/lp-prod-protected/VJ114IMG.002/VJ114IMG.A2020226.1918.002.2024070113846/VJ114IMG.A2020226.1918.002.2024070113846.nc'],\n",
       " ['https://data.lpdaac.earthdatacloud.nasa.gov/lp-prod-protected/VJ114IMG.002/VJ114IMG.A2020226.1924.002.2024070113841/VJ114IMG.A2020226.1924.002.2024070113841.nc']]"
      ]
     },
     "execution_count": 8,
     "metadata": {},
     "output_type": "execute_result"
    }
   ],
   "source": [
    "results_urls = [granule.data_links() for granule in result]\n",
    "results_urls[0:5]"
   ]
  },
  {
   "cell_type": "code",
   "execution_count": 22,
   "id": "5c387fc1-12d6-4284-a017-dec20cb5a92e",
   "metadata": {},
   "outputs": [
    {
     "name": "stdout",
     "output_type": "stream",
     "text": [
      "Granule ID: VJ114IMG.A2020226.0800.002.2024070113843.nc\n"
     ]
    },
    {
     "data": {
      "application/vnd.jupyter.widget-view+json": {
       "model_id": "5963e4c0448b40189e38f0a01afdde92",
       "version_major": 2,
       "version_minor": 0
      },
      "text/plain": [
       "QUEUEING TASKS | :   0%|          | 0/1 [00:00<?, ?it/s]"
      ]
     },
     "metadata": {},
     "output_type": "display_data"
    },
    {
     "data": {
      "application/vnd.jupyter.widget-view+json": {
       "model_id": "d3bc38c636e74d3384be66d5dbc59df1",
       "version_major": 2,
       "version_minor": 0
      },
      "text/plain": [
       "PROCESSING TASKS | :   0%|          | 0/1 [00:00<?, ?it/s]"
      ]
     },
     "metadata": {},
     "output_type": "display_data"
    },
    {
     "data": {
      "application/vnd.jupyter.widget-view+json": {
       "model_id": "2a6dc670ee034737b50e2858e8462997",
       "version_major": 2,
       "version_minor": 0
      },
      "text/plain": [
       "COLLECTING RESULTS | :   0%|          | 0/1 [00:00<?, ?it/s]"
      ]
     },
     "metadata": {},
     "output_type": "display_data"
    },
    {
     "name": "stdout",
     "output_type": "stream",
     "text": [
      "Time to complete granule: 2.756728172302246\n",
      "Granule ID: VNP14IMG.A2020226.0848.002.2024066004717.nc\n"
     ]
    },
    {
     "data": {
      "application/vnd.jupyter.widget-view+json": {
       "model_id": "4d0e5ed8d21b46df94f5100dc8d48eef",
       "version_major": 2,
       "version_minor": 0
      },
      "text/plain": [
       "QUEUEING TASKS | :   0%|          | 0/1 [00:00<?, ?it/s]"
      ]
     },
     "metadata": {},
     "output_type": "display_data"
    },
    {
     "data": {
      "application/vnd.jupyter.widget-view+json": {
       "model_id": "a0b86ccd9d644a798bd5f0931228dc36",
       "version_major": 2,
       "version_minor": 0
      },
      "text/plain": [
       "PROCESSING TASKS | :   0%|          | 0/1 [00:00<?, ?it/s]"
      ]
     },
     "metadata": {},
     "output_type": "display_data"
    },
    {
     "data": {
      "application/vnd.jupyter.widget-view+json": {
       "model_id": "ed05fb0c2539451fa3cd9f0a662c1be9",
       "version_major": 2,
       "version_minor": 0
      },
      "text/plain": [
       "COLLECTING RESULTS | :   0%|          | 0/1 [00:00<?, ?it/s]"
      ]
     },
     "metadata": {},
     "output_type": "display_data"
    },
    {
     "name": "stdout",
     "output_type": "stream",
     "text": [
      "Time to complete granule: 5.311280250549316\n",
      "Granule ID: VJ114IMG.A2020226.0936.002.2024070113845.nc\n"
     ]
    },
    {
     "data": {
      "application/vnd.jupyter.widget-view+json": {
       "model_id": "05966b6e3cee4525bcebacc62ca4cc70",
       "version_major": 2,
       "version_minor": 0
      },
      "text/plain": [
       "QUEUEING TASKS | :   0%|          | 0/1 [00:00<?, ?it/s]"
      ]
     },
     "metadata": {},
     "output_type": "display_data"
    },
    {
     "data": {
      "application/vnd.jupyter.widget-view+json": {
       "model_id": "b918ee3669374d45b1b48a69530d8fb2",
       "version_major": 2,
       "version_minor": 0
      },
      "text/plain": [
       "PROCESSING TASKS | :   0%|          | 0/1 [00:00<?, ?it/s]"
      ]
     },
     "metadata": {},
     "output_type": "display_data"
    },
    {
     "data": {
      "application/vnd.jupyter.widget-view+json": {
       "model_id": "9b5054b63f3a4e94bcf400018a169c00",
       "version_major": 2,
       "version_minor": 0
      },
      "text/plain": [
       "COLLECTING RESULTS | :   0%|          | 0/1 [00:00<?, ?it/s]"
      ]
     },
     "metadata": {},
     "output_type": "display_data"
    },
    {
     "name": "stdout",
     "output_type": "stream",
     "text": [
      "Time to complete granule: 7.828516244888306\n",
      "Granule ID: VJ114IMG.A2020226.1918.002.2024070113846.nc\n"
     ]
    },
    {
     "data": {
      "application/vnd.jupyter.widget-view+json": {
       "model_id": "e479e702dc4f4700b39078c5ede84f95",
       "version_major": 2,
       "version_minor": 0
      },
      "text/plain": [
       "QUEUEING TASKS | :   0%|          | 0/1 [00:00<?, ?it/s]"
      ]
     },
     "metadata": {},
     "output_type": "display_data"
    },
    {
     "data": {
      "application/vnd.jupyter.widget-view+json": {
       "model_id": "636e3e0bd52c47d28cd6eac3cce81c60",
       "version_major": 2,
       "version_minor": 0
      },
      "text/plain": [
       "PROCESSING TASKS | :   0%|          | 0/1 [00:00<?, ?it/s]"
      ]
     },
     "metadata": {},
     "output_type": "display_data"
    },
    {
     "data": {
      "application/vnd.jupyter.widget-view+json": {
       "model_id": "2e0a833ddd004d26b9f74ba2a9371784",
       "version_major": 2,
       "version_minor": 0
      },
      "text/plain": [
       "COLLECTING RESULTS | :   0%|          | 0/1 [00:00<?, ?it/s]"
      ]
     },
     "metadata": {},
     "output_type": "display_data"
    },
    {
     "name": "stdout",
     "output_type": "stream",
     "text": [
      "Time to complete granule: 10.575400114059448\n",
      "Granule ID: VJ114IMG.A2020226.1924.002.2024070113841.nc\n"
     ]
    },
    {
     "data": {
      "application/vnd.jupyter.widget-view+json": {
       "model_id": "380b424454b143c894c9355f20444551",
       "version_major": 2,
       "version_minor": 0
      },
      "text/plain": [
       "QUEUEING TASKS | :   0%|          | 0/1 [00:00<?, ?it/s]"
      ]
     },
     "metadata": {},
     "output_type": "display_data"
    },
    {
     "data": {
      "application/vnd.jupyter.widget-view+json": {
       "model_id": "efc84cf5e511408a9faac528ac20d3b1",
       "version_major": 2,
       "version_minor": 0
      },
      "text/plain": [
       "PROCESSING TASKS | :   0%|          | 0/1 [00:00<?, ?it/s]"
      ]
     },
     "metadata": {},
     "output_type": "display_data"
    },
    {
     "data": {
      "application/vnd.jupyter.widget-view+json": {
       "model_id": "5d8c60b40c6540e9b04a9f073d795b24",
       "version_major": 2,
       "version_minor": 0
      },
      "text/plain": [
       "COLLECTING RESULTS | :   0%|          | 0/1 [00:00<?, ?it/s]"
      ]
     },
     "metadata": {},
     "output_type": "display_data"
    },
    {
     "name": "stdout",
     "output_type": "stream",
     "text": [
      "Time to complete granule: 13.842903137207031\n",
      "Granule ID: VNP14IMG.A2020226.2012.002.2024066004717.nc\n"
     ]
    },
    {
     "data": {
      "application/vnd.jupyter.widget-view+json": {
       "model_id": "c5fcf3433151465aa3609b95b4c423df",
       "version_major": 2,
       "version_minor": 0
      },
      "text/plain": [
       "QUEUEING TASKS | :   0%|          | 0/1 [00:00<?, ?it/s]"
      ]
     },
     "metadata": {},
     "output_type": "display_data"
    },
    {
     "data": {
      "application/vnd.jupyter.widget-view+json": {
       "model_id": "69a950a5638c4f7c93a420ed9c89f75e",
       "version_major": 2,
       "version_minor": 0
      },
      "text/plain": [
       "PROCESSING TASKS | :   0%|          | 0/1 [00:00<?, ?it/s]"
      ]
     },
     "metadata": {},
     "output_type": "display_data"
    },
    {
     "data": {
      "application/vnd.jupyter.widget-view+json": {
       "model_id": "fe0d3ff20f2141219213a1ee4bc1679e",
       "version_major": 2,
       "version_minor": 0
      },
      "text/plain": [
       "COLLECTING RESULTS | :   0%|          | 0/1 [00:00<?, ?it/s]"
      ]
     },
     "metadata": {},
     "output_type": "display_data"
    },
    {
     "name": "stdout",
     "output_type": "stream",
     "text": [
      "Time to complete granule: 17.10566520690918\n",
      "Granule ID: VJ114IMG.A2020226.2100.002.2024070113843.nc\n"
     ]
    },
    {
     "data": {
      "application/vnd.jupyter.widget-view+json": {
       "model_id": "50a4555ce0ed4ad48fb515828d4045f8",
       "version_major": 2,
       "version_minor": 0
      },
      "text/plain": [
       "QUEUEING TASKS | :   0%|          | 0/1 [00:00<?, ?it/s]"
      ]
     },
     "metadata": {},
     "output_type": "display_data"
    },
    {
     "data": {
      "application/vnd.jupyter.widget-view+json": {
       "model_id": "7778c76fae33448ea45aed482b7a6b4f",
       "version_major": 2,
       "version_minor": 0
      },
      "text/plain": [
       "PROCESSING TASKS | :   0%|          | 0/1 [00:00<?, ?it/s]"
      ]
     },
     "metadata": {},
     "output_type": "display_data"
    },
    {
     "data": {
      "application/vnd.jupyter.widget-view+json": {
       "model_id": "81d40436c41c47f99fc92fed46ab6d95",
       "version_major": 2,
       "version_minor": 0
      },
      "text/plain": [
       "COLLECTING RESULTS | :   0%|          | 0/1 [00:00<?, ?it/s]"
      ]
     },
     "metadata": {},
     "output_type": "display_data"
    },
    {
     "name": "stdout",
     "output_type": "stream",
     "text": [
      "Time to complete granule: 20.0604350566864\n",
      "Granule ID: VNP14IMG.A2020227.0830.002.2024066010638.nc\n"
     ]
    },
    {
     "data": {
      "application/vnd.jupyter.widget-view+json": {
       "model_id": "4e58b6fa50eb4c27b510a2275357bb02",
       "version_major": 2,
       "version_minor": 0
      },
      "text/plain": [
       "QUEUEING TASKS | :   0%|          | 0/1 [00:00<?, ?it/s]"
      ]
     },
     "metadata": {},
     "output_type": "display_data"
    },
    {
     "data": {
      "application/vnd.jupyter.widget-view+json": {
       "model_id": "a8667d478b154299b2daee469fcde209",
       "version_major": 2,
       "version_minor": 0
      },
      "text/plain": [
       "PROCESSING TASKS | :   0%|          | 0/1 [00:00<?, ?it/s]"
      ]
     },
     "metadata": {},
     "output_type": "display_data"
    },
    {
     "data": {
      "application/vnd.jupyter.widget-view+json": {
       "model_id": "a90c3a378ffe4ab7827134bd5b542e1c",
       "version_major": 2,
       "version_minor": 0
      },
      "text/plain": [
       "COLLECTING RESULTS | :   0%|          | 0/1 [00:00<?, ?it/s]"
      ]
     },
     "metadata": {},
     "output_type": "display_data"
    },
    {
     "name": "stdout",
     "output_type": "stream",
     "text": [
      "Time to complete granule: 22.37174916267395\n",
      "Granule ID: VJ114IMG.A2020227.0918.002.2024070121541.nc\n"
     ]
    },
    {
     "data": {
      "application/vnd.jupyter.widget-view+json": {
       "model_id": "05b2819c2a844a71a8ee8703f8e0b524",
       "version_major": 2,
       "version_minor": 0
      },
      "text/plain": [
       "QUEUEING TASKS | :   0%|          | 0/1 [00:00<?, ?it/s]"
      ]
     },
     "metadata": {},
     "output_type": "display_data"
    },
    {
     "data": {
      "application/vnd.jupyter.widget-view+json": {
       "model_id": "a8549a31751e4da580e82521c45e8d0b",
       "version_major": 2,
       "version_minor": 0
      },
      "text/plain": [
       "PROCESSING TASKS | :   0%|          | 0/1 [00:00<?, ?it/s]"
      ]
     },
     "metadata": {},
     "output_type": "display_data"
    },
    {
     "data": {
      "application/vnd.jupyter.widget-view+json": {
       "model_id": "d378a99a6e174ce08165855ca2f7cb8c",
       "version_major": 2,
       "version_minor": 0
      },
      "text/plain": [
       "COLLECTING RESULTS | :   0%|          | 0/1 [00:00<?, ?it/s]"
      ]
     },
     "metadata": {},
     "output_type": "display_data"
    },
    {
     "name": "stdout",
     "output_type": "stream",
     "text": [
      "Time to complete granule: 25.056905031204224\n",
      "Granule ID: VNP14IMG.A2020227.1012.002.2024066010635.nc\n"
     ]
    },
    {
     "data": {
      "application/vnd.jupyter.widget-view+json": {
       "model_id": "b3afdb2fde4947668b8495b26172edeb",
       "version_major": 2,
       "version_minor": 0
      },
      "text/plain": [
       "QUEUEING TASKS | :   0%|          | 0/1 [00:00<?, ?it/s]"
      ]
     },
     "metadata": {},
     "output_type": "display_data"
    },
    {
     "data": {
      "application/vnd.jupyter.widget-view+json": {
       "model_id": "0b5ee18ed1004b5d96ef458224721b49",
       "version_major": 2,
       "version_minor": 0
      },
      "text/plain": [
       "PROCESSING TASKS | :   0%|          | 0/1 [00:00<?, ?it/s]"
      ]
     },
     "metadata": {},
     "output_type": "display_data"
    },
    {
     "data": {
      "application/vnd.jupyter.widget-view+json": {
       "model_id": "76cd29cc5a47412d892cb75db057ab82",
       "version_major": 2,
       "version_minor": 0
      },
      "text/plain": [
       "COLLECTING RESULTS | :   0%|          | 0/1 [00:00<?, ?it/s]"
      ]
     },
     "metadata": {},
     "output_type": "display_data"
    },
    {
     "name": "stdout",
     "output_type": "stream",
     "text": [
      "Time to complete granule: 27.344615936279297\n",
      "Granule ID: VJ114IMG.A2020227.1900.002.2024070121541.nc\n"
     ]
    },
    {
     "data": {
      "application/vnd.jupyter.widget-view+json": {
       "model_id": "f474f61f248a4ff6bd3fe6d24d672f40",
       "version_major": 2,
       "version_minor": 0
      },
      "text/plain": [
       "QUEUEING TASKS | :   0%|          | 0/1 [00:00<?, ?it/s]"
      ]
     },
     "metadata": {},
     "output_type": "display_data"
    },
    {
     "data": {
      "application/vnd.jupyter.widget-view+json": {
       "model_id": "d4b7bf68c423424387dcd78ddbd15bcc",
       "version_major": 2,
       "version_minor": 0
      },
      "text/plain": [
       "PROCESSING TASKS | :   0%|          | 0/1 [00:00<?, ?it/s]"
      ]
     },
     "metadata": {},
     "output_type": "display_data"
    },
    {
     "data": {
      "application/vnd.jupyter.widget-view+json": {
       "model_id": "ce63abef16424c67af18fc833ffc83ba",
       "version_major": 2,
       "version_minor": 0
      },
      "text/plain": [
       "COLLECTING RESULTS | :   0%|          | 0/1 [00:00<?, ?it/s]"
      ]
     },
     "metadata": {},
     "output_type": "display_data"
    },
    {
     "name": "stdout",
     "output_type": "stream",
     "text": [
      "Time to complete granule: 30.248136043548584\n",
      "Granule ID: VNP14IMG.A2020227.1954.002.2024066010637.nc\n"
     ]
    },
    {
     "data": {
      "application/vnd.jupyter.widget-view+json": {
       "model_id": "970bb94f23b147fcb7a6b7f9c43e3f26",
       "version_major": 2,
       "version_minor": 0
      },
      "text/plain": [
       "QUEUEING TASKS | :   0%|          | 0/1 [00:00<?, ?it/s]"
      ]
     },
     "metadata": {},
     "output_type": "display_data"
    },
    {
     "data": {
      "application/vnd.jupyter.widget-view+json": {
       "model_id": "c07285971ced4cdda3c933865fad33d2",
       "version_major": 2,
       "version_minor": 0
      },
      "text/plain": [
       "PROCESSING TASKS | :   0%|          | 0/1 [00:00<?, ?it/s]"
      ]
     },
     "metadata": {},
     "output_type": "display_data"
    },
    {
     "data": {
      "application/vnd.jupyter.widget-view+json": {
       "model_id": "ea28aca51ca14ca288e401c74426cdcb",
       "version_major": 2,
       "version_minor": 0
      },
      "text/plain": [
       "COLLECTING RESULTS | :   0%|          | 0/1 [00:00<?, ?it/s]"
      ]
     },
     "metadata": {},
     "output_type": "display_data"
    },
    {
     "name": "stdout",
     "output_type": "stream",
     "text": [
      "Time to complete granule: 32.89757227897644\n",
      "Granule ID: VJ114IMG.A2020227.2042.002.2024070121545.nc\n"
     ]
    },
    {
     "data": {
      "application/vnd.jupyter.widget-view+json": {
       "model_id": "2c5be54ff976463aa627070201f01236",
       "version_major": 2,
       "version_minor": 0
      },
      "text/plain": [
       "QUEUEING TASKS | :   0%|          | 0/1 [00:00<?, ?it/s]"
      ]
     },
     "metadata": {},
     "output_type": "display_data"
    },
    {
     "data": {
      "application/vnd.jupyter.widget-view+json": {
       "model_id": "1c87f851418242f5891b01b8cbfd3bc9",
       "version_major": 2,
       "version_minor": 0
      },
      "text/plain": [
       "PROCESSING TASKS | :   0%|          | 0/1 [00:00<?, ?it/s]"
      ]
     },
     "metadata": {},
     "output_type": "display_data"
    },
    {
     "data": {
      "application/vnd.jupyter.widget-view+json": {
       "model_id": "092a64c8d199482a948cd22774228734",
       "version_major": 2,
       "version_minor": 0
      },
      "text/plain": [
       "COLLECTING RESULTS | :   0%|          | 0/1 [00:00<?, ?it/s]"
      ]
     },
     "metadata": {},
     "output_type": "display_data"
    },
    {
     "name": "stdout",
     "output_type": "stream",
     "text": [
      "Time to complete granule: 35.80625510215759\n",
      "Granule ID: VNP14IMG.A2020228.0812.002.2024066011601.nc\n"
     ]
    },
    {
     "data": {
      "application/vnd.jupyter.widget-view+json": {
       "model_id": "d125dc85ace141d38a0815b68519a93f",
       "version_major": 2,
       "version_minor": 0
      },
      "text/plain": [
       "QUEUEING TASKS | :   0%|          | 0/1 [00:00<?, ?it/s]"
      ]
     },
     "metadata": {},
     "output_type": "display_data"
    },
    {
     "data": {
      "application/vnd.jupyter.widget-view+json": {
       "model_id": "a1814d8feda54bf78c89857818d19b27",
       "version_major": 2,
       "version_minor": 0
      },
      "text/plain": [
       "PROCESSING TASKS | :   0%|          | 0/1 [00:00<?, ?it/s]"
      ]
     },
     "metadata": {},
     "output_type": "display_data"
    },
    {
     "data": {
      "application/vnd.jupyter.widget-view+json": {
       "model_id": "825313e827ba42e1873c1b709196e105",
       "version_major": 2,
       "version_minor": 0
      },
      "text/plain": [
       "COLLECTING RESULTS | :   0%|          | 0/1 [00:00<?, ?it/s]"
      ]
     },
     "metadata": {},
     "output_type": "display_data"
    },
    {
     "name": "stdout",
     "output_type": "stream",
     "text": [
      "Time to complete granule: 38.59854531288147\n",
      "Granule ID: VJ114IMG.A2020228.0900.002.2024070124049.nc\n"
     ]
    },
    {
     "data": {
      "application/vnd.jupyter.widget-view+json": {
       "model_id": "76700116e7e248c2b7b7998e3bb0e855",
       "version_major": 2,
       "version_minor": 0
      },
      "text/plain": [
       "QUEUEING TASKS | :   0%|          | 0/1 [00:00<?, ?it/s]"
      ]
     },
     "metadata": {},
     "output_type": "display_data"
    },
    {
     "data": {
      "application/vnd.jupyter.widget-view+json": {
       "model_id": "299baa5de55c4a8da493104cde0f62d0",
       "version_major": 2,
       "version_minor": 0
      },
      "text/plain": [
       "PROCESSING TASKS | :   0%|          | 0/1 [00:00<?, ?it/s]"
      ]
     },
     "metadata": {},
     "output_type": "display_data"
    },
    {
     "data": {
      "application/vnd.jupyter.widget-view+json": {
       "model_id": "a5ae216e839240c78838b7f99f021256",
       "version_major": 2,
       "version_minor": 0
      },
      "text/plain": [
       "COLLECTING RESULTS | :   0%|          | 0/1 [00:00<?, ?it/s]"
      ]
     },
     "metadata": {},
     "output_type": "display_data"
    },
    {
     "name": "stdout",
     "output_type": "stream",
     "text": [
      "Time to complete granule: 41.01179599761963\n",
      "Granule ID: VNP14IMG.A2020228.0954.002.2024066011601.nc\n"
     ]
    },
    {
     "data": {
      "application/vnd.jupyter.widget-view+json": {
       "model_id": "4d4a2bcfabda4dffb803034876ba5d59",
       "version_major": 2,
       "version_minor": 0
      },
      "text/plain": [
       "QUEUEING TASKS | :   0%|          | 0/1 [00:00<?, ?it/s]"
      ]
     },
     "metadata": {},
     "output_type": "display_data"
    },
    {
     "data": {
      "application/vnd.jupyter.widget-view+json": {
       "model_id": "18a0461c89cd4c83a8827b0853119536",
       "version_major": 2,
       "version_minor": 0
      },
      "text/plain": [
       "PROCESSING TASKS | :   0%|          | 0/1 [00:00<?, ?it/s]"
      ]
     },
     "metadata": {},
     "output_type": "display_data"
    },
    {
     "data": {
      "application/vnd.jupyter.widget-view+json": {
       "model_id": "f598c77d4dff4ea5ba1560775b75f9f0",
       "version_major": 2,
       "version_minor": 0
      },
      "text/plain": [
       "COLLECTING RESULTS | :   0%|          | 0/1 [00:00<?, ?it/s]"
      ]
     },
     "metadata": {},
     "output_type": "display_data"
    },
    {
     "name": "stdout",
     "output_type": "stream",
     "text": [
      "Time to complete granule: 43.224316358566284\n",
      "Granule ID: VJ114IMG.A2020228.1842.002.2024070124105.nc\n"
     ]
    },
    {
     "data": {
      "application/vnd.jupyter.widget-view+json": {
       "model_id": "a3b27937019f445ca3ca443b84ad51d1",
       "version_major": 2,
       "version_minor": 0
      },
      "text/plain": [
       "QUEUEING TASKS | :   0%|          | 0/1 [00:00<?, ?it/s]"
      ]
     },
     "metadata": {},
     "output_type": "display_data"
    },
    {
     "data": {
      "application/vnd.jupyter.widget-view+json": {
       "model_id": "1f417428c975479b88f4efa6b356f011",
       "version_major": 2,
       "version_minor": 0
      },
      "text/plain": [
       "PROCESSING TASKS | :   0%|          | 0/1 [00:00<?, ?it/s]"
      ]
     },
     "metadata": {},
     "output_type": "display_data"
    },
    {
     "data": {
      "application/vnd.jupyter.widget-view+json": {
       "model_id": "28a70e484cfb4263afc94dacb64bb537",
       "version_major": 2,
       "version_minor": 0
      },
      "text/plain": [
       "COLLECTING RESULTS | :   0%|          | 0/1 [00:00<?, ?it/s]"
      ]
     },
     "metadata": {},
     "output_type": "display_data"
    },
    {
     "name": "stdout",
     "output_type": "stream",
     "text": [
      "Time to complete granule: 45.798917293548584\n",
      "Granule ID: VNP14IMG.A2020228.1936.002.2024066011603.nc\n"
     ]
    },
    {
     "data": {
      "application/vnd.jupyter.widget-view+json": {
       "model_id": "48133141c5e743fe9aa4054870883711",
       "version_major": 2,
       "version_minor": 0
      },
      "text/plain": [
       "QUEUEING TASKS | :   0%|          | 0/1 [00:00<?, ?it/s]"
      ]
     },
     "metadata": {},
     "output_type": "display_data"
    },
    {
     "data": {
      "application/vnd.jupyter.widget-view+json": {
       "model_id": "4c02b512ec6c470daf6e68d1ade0f164",
       "version_major": 2,
       "version_minor": 0
      },
      "text/plain": [
       "PROCESSING TASKS | :   0%|          | 0/1 [00:00<?, ?it/s]"
      ]
     },
     "metadata": {},
     "output_type": "display_data"
    },
    {
     "data": {
      "application/vnd.jupyter.widget-view+json": {
       "model_id": "22381b3dffe0490abd5e830b9759a25a",
       "version_major": 2,
       "version_minor": 0
      },
      "text/plain": [
       "COLLECTING RESULTS | :   0%|          | 0/1 [00:00<?, ?it/s]"
      ]
     },
     "metadata": {},
     "output_type": "display_data"
    },
    {
     "name": "stdout",
     "output_type": "stream",
     "text": [
      "Time to complete granule: 48.41174030303955\n",
      "Granule ID: VJ114IMG.A2020228.2024.002.2024070124046.nc\n"
     ]
    },
    {
     "data": {
      "application/vnd.jupyter.widget-view+json": {
       "model_id": "a7f9b6cd18ef454394d64e85adfe22b7",
       "version_major": 2,
       "version_minor": 0
      },
      "text/plain": [
       "QUEUEING TASKS | :   0%|          | 0/1 [00:00<?, ?it/s]"
      ]
     },
     "metadata": {},
     "output_type": "display_data"
    },
    {
     "data": {
      "application/vnd.jupyter.widget-view+json": {
       "model_id": "5b489f09b87b47959f734ba8c681f266",
       "version_major": 2,
       "version_minor": 0
      },
      "text/plain": [
       "PROCESSING TASKS | :   0%|          | 0/1 [00:00<?, ?it/s]"
      ]
     },
     "metadata": {},
     "output_type": "display_data"
    },
    {
     "data": {
      "application/vnd.jupyter.widget-view+json": {
       "model_id": "6e403692d3ee4c2ea20faaf0e8d2b242",
       "version_major": 2,
       "version_minor": 0
      },
      "text/plain": [
       "COLLECTING RESULTS | :   0%|          | 0/1 [00:00<?, ?it/s]"
      ]
     },
     "metadata": {},
     "output_type": "display_data"
    },
    {
     "name": "stdout",
     "output_type": "stream",
     "text": [
      "Time to complete granule: 51.06451416015625\n",
      "Granule ID: VNP14IMG.A2020229.0754.002.2024066012701.nc\n"
     ]
    },
    {
     "data": {
      "application/vnd.jupyter.widget-view+json": {
       "model_id": "e3a7f7ed898647ddb010e84adae70fbb",
       "version_major": 2,
       "version_minor": 0
      },
      "text/plain": [
       "QUEUEING TASKS | :   0%|          | 0/1 [00:00<?, ?it/s]"
      ]
     },
     "metadata": {},
     "output_type": "display_data"
    },
    {
     "data": {
      "application/vnd.jupyter.widget-view+json": {
       "model_id": "3fb8111038194ec092ed654cc43026e1",
       "version_major": 2,
       "version_minor": 0
      },
      "text/plain": [
       "PROCESSING TASKS | :   0%|          | 0/1 [00:00<?, ?it/s]"
      ]
     },
     "metadata": {},
     "output_type": "display_data"
    },
    {
     "data": {
      "application/vnd.jupyter.widget-view+json": {
       "model_id": "5a0f0126528c4610b2c5a2909e9fdd2f",
       "version_major": 2,
       "version_minor": 0
      },
      "text/plain": [
       "COLLECTING RESULTS | :   0%|          | 0/1 [00:00<?, ?it/s]"
      ]
     },
     "metadata": {},
     "output_type": "display_data"
    },
    {
     "name": "stdout",
     "output_type": "stream",
     "text": [
      "Time to complete granule: 53.65644121170044\n",
      "Granule ID: VJ114IMG.A2020229.0842.002.2024070130451.nc\n"
     ]
    },
    {
     "data": {
      "application/vnd.jupyter.widget-view+json": {
       "model_id": "7ee5523e8d92414ab96e6bc543028c98",
       "version_major": 2,
       "version_minor": 0
      },
      "text/plain": [
       "QUEUEING TASKS | :   0%|          | 0/1 [00:00<?, ?it/s]"
      ]
     },
     "metadata": {},
     "output_type": "display_data"
    },
    {
     "data": {
      "application/vnd.jupyter.widget-view+json": {
       "model_id": "ade57a65c9fc40d698d9786fa7464b43",
       "version_major": 2,
       "version_minor": 0
      },
      "text/plain": [
       "PROCESSING TASKS | :   0%|          | 0/1 [00:00<?, ?it/s]"
      ]
     },
     "metadata": {},
     "output_type": "display_data"
    },
    {
     "data": {
      "application/vnd.jupyter.widget-view+json": {
       "model_id": "e981770abc034e81a10bda1c490d4584",
       "version_major": 2,
       "version_minor": 0
      },
      "text/plain": [
       "COLLECTING RESULTS | :   0%|          | 0/1 [00:00<?, ?it/s]"
      ]
     },
     "metadata": {},
     "output_type": "display_data"
    },
    {
     "name": "stdout",
     "output_type": "stream",
     "text": [
      "Time to complete granule: 56.268407106399536\n",
      "Granule ID: VNP14IMG.A2020229.0930.002.2024066012700.nc\n"
     ]
    },
    {
     "data": {
      "application/vnd.jupyter.widget-view+json": {
       "model_id": "fe08c78374d64f0d891c9b3499350091",
       "version_major": 2,
       "version_minor": 0
      },
      "text/plain": [
       "QUEUEING TASKS | :   0%|          | 0/1 [00:00<?, ?it/s]"
      ]
     },
     "metadata": {},
     "output_type": "display_data"
    },
    {
     "data": {
      "application/vnd.jupyter.widget-view+json": {
       "model_id": "4144ac32fdf34d1c8dda80548d3362bb",
       "version_major": 2,
       "version_minor": 0
      },
      "text/plain": [
       "PROCESSING TASKS | :   0%|          | 0/1 [00:00<?, ?it/s]"
      ]
     },
     "metadata": {},
     "output_type": "display_data"
    },
    {
     "data": {
      "application/vnd.jupyter.widget-view+json": {
       "model_id": "4be527c2c78e48ddb850f4064fd1a1ba",
       "version_major": 2,
       "version_minor": 0
      },
      "text/plain": [
       "COLLECTING RESULTS | :   0%|          | 0/1 [00:00<?, ?it/s]"
      ]
     },
     "metadata": {},
     "output_type": "display_data"
    },
    {
     "name": "stdout",
     "output_type": "stream",
     "text": [
      "Time to complete granule: 58.80377125740051\n",
      "Granule ID: VNP14IMG.A2020229.1912.002.2024066012700.nc\n"
     ]
    },
    {
     "data": {
      "application/vnd.jupyter.widget-view+json": {
       "model_id": "4d533107824140c3b22601b480c7edc1",
       "version_major": 2,
       "version_minor": 0
      },
      "text/plain": [
       "QUEUEING TASKS | :   0%|          | 0/1 [00:00<?, ?it/s]"
      ]
     },
     "metadata": {},
     "output_type": "display_data"
    },
    {
     "data": {
      "application/vnd.jupyter.widget-view+json": {
       "model_id": "044f701ddfb14ceaa1a8a212e86bd4e2",
       "version_major": 2,
       "version_minor": 0
      },
      "text/plain": [
       "PROCESSING TASKS | :   0%|          | 0/1 [00:00<?, ?it/s]"
      ]
     },
     "metadata": {},
     "output_type": "display_data"
    },
    {
     "data": {
      "application/vnd.jupyter.widget-view+json": {
       "model_id": "7cc4043788d341c89e29c229c7518bcd",
       "version_major": 2,
       "version_minor": 0
      },
      "text/plain": [
       "COLLECTING RESULTS | :   0%|          | 0/1 [00:00<?, ?it/s]"
      ]
     },
     "metadata": {},
     "output_type": "display_data"
    },
    {
     "name": "stdout",
     "output_type": "stream",
     "text": [
      "Time to complete granule: 61.65634202957153\n",
      "Granule ID: VJ114IMG.A2020229.2006.002.2024070130510.nc\n"
     ]
    },
    {
     "data": {
      "application/vnd.jupyter.widget-view+json": {
       "model_id": "7a8a4530fcdc4d96b39be87d414934b9",
       "version_major": 2,
       "version_minor": 0
      },
      "text/plain": [
       "QUEUEING TASKS | :   0%|          | 0/1 [00:00<?, ?it/s]"
      ]
     },
     "metadata": {},
     "output_type": "display_data"
    },
    {
     "data": {
      "application/vnd.jupyter.widget-view+json": {
       "model_id": "b43b2e9df9274762ba3ea345b285dcbc",
       "version_major": 2,
       "version_minor": 0
      },
      "text/plain": [
       "PROCESSING TASKS | :   0%|          | 0/1 [00:00<?, ?it/s]"
      ]
     },
     "metadata": {},
     "output_type": "display_data"
    },
    {
     "data": {
      "application/vnd.jupyter.widget-view+json": {
       "model_id": "dc8b385a699e4b5a8e3f5bfd635f93d2",
       "version_major": 2,
       "version_minor": 0
      },
      "text/plain": [
       "COLLECTING RESULTS | :   0%|          | 0/1 [00:00<?, ?it/s]"
      ]
     },
     "metadata": {},
     "output_type": "display_data"
    },
    {
     "name": "stdout",
     "output_type": "stream",
     "text": [
      "Time to complete granule: 64.14088916778564\n",
      "Granule ID: VNP14IMG.A2020229.2054.002.2024066012704.nc\n"
     ]
    },
    {
     "data": {
      "application/vnd.jupyter.widget-view+json": {
       "model_id": "f91de8883c6f491392cd842ae3d355a2",
       "version_major": 2,
       "version_minor": 0
      },
      "text/plain": [
       "QUEUEING TASKS | :   0%|          | 0/1 [00:00<?, ?it/s]"
      ]
     },
     "metadata": {},
     "output_type": "display_data"
    },
    {
     "data": {
      "application/vnd.jupyter.widget-view+json": {
       "model_id": "c2e8fcebbff94173b2572eb3920e543b",
       "version_major": 2,
       "version_minor": 0
      },
      "text/plain": [
       "PROCESSING TASKS | :   0%|          | 0/1 [00:00<?, ?it/s]"
      ]
     },
     "metadata": {},
     "output_type": "display_data"
    },
    {
     "data": {
      "application/vnd.jupyter.widget-view+json": {
       "model_id": "f7b68758f2a84cc6afcd579f454784e0",
       "version_major": 2,
       "version_minor": 0
      },
      "text/plain": [
       "COLLECTING RESULTS | :   0%|          | 0/1 [00:00<?, ?it/s]"
      ]
     },
     "metadata": {},
     "output_type": "display_data"
    },
    {
     "name": "stdout",
     "output_type": "stream",
     "text": [
      "Time to complete granule: 66.72223424911499\n",
      "Granule ID: VJ114IMG.A2020230.0824.002.2024070133243.nc\n"
     ]
    },
    {
     "data": {
      "application/vnd.jupyter.widget-view+json": {
       "model_id": "0435df589c01401a852e9b416cc7d92b",
       "version_major": 2,
       "version_minor": 0
      },
      "text/plain": [
       "QUEUEING TASKS | :   0%|          | 0/1 [00:00<?, ?it/s]"
      ]
     },
     "metadata": {},
     "output_type": "display_data"
    },
    {
     "data": {
      "application/vnd.jupyter.widget-view+json": {
       "model_id": "146f10e90557489c9aa17b9eaaf70aa7",
       "version_major": 2,
       "version_minor": 0
      },
      "text/plain": [
       "PROCESSING TASKS | :   0%|          | 0/1 [00:00<?, ?it/s]"
      ]
     },
     "metadata": {},
     "output_type": "display_data"
    },
    {
     "data": {
      "application/vnd.jupyter.widget-view+json": {
       "model_id": "c9a9e0f34dbe4cfea2a7540b381ff436",
       "version_major": 2,
       "version_minor": 0
      },
      "text/plain": [
       "COLLECTING RESULTS | :   0%|          | 0/1 [00:00<?, ?it/s]"
      ]
     },
     "metadata": {},
     "output_type": "display_data"
    },
    {
     "name": "stdout",
     "output_type": "stream",
     "text": [
      "Time to complete granule: 69.28980302810669\n",
      "Granule ID: VNP14IMG.A2020230.0912.002.2024066014215.nc\n"
     ]
    },
    {
     "data": {
      "application/vnd.jupyter.widget-view+json": {
       "model_id": "5cd160d2f4574b508e1d9496227e5ee6",
       "version_major": 2,
       "version_minor": 0
      },
      "text/plain": [
       "QUEUEING TASKS | :   0%|          | 0/1 [00:00<?, ?it/s]"
      ]
     },
     "metadata": {},
     "output_type": "display_data"
    },
    {
     "data": {
      "application/vnd.jupyter.widget-view+json": {
       "model_id": "8865659a8b2a418e979b89bfd0fd4518",
       "version_major": 2,
       "version_minor": 0
      },
      "text/plain": [
       "PROCESSING TASKS | :   0%|          | 0/1 [00:00<?, ?it/s]"
      ]
     },
     "metadata": {},
     "output_type": "display_data"
    },
    {
     "data": {
      "application/vnd.jupyter.widget-view+json": {
       "model_id": "9ae775d1498348729392a1a1778d17f3",
       "version_major": 2,
       "version_minor": 0
      },
      "text/plain": [
       "COLLECTING RESULTS | :   0%|          | 0/1 [00:00<?, ?it/s]"
      ]
     },
     "metadata": {},
     "output_type": "display_data"
    },
    {
     "name": "stdout",
     "output_type": "stream",
     "text": [
      "Time to complete granule: 71.79774332046509\n",
      "Granule ID: VJ114IMG.A2020230.1006.002.2024070133243.nc\n"
     ]
    },
    {
     "data": {
      "application/vnd.jupyter.widget-view+json": {
       "model_id": "4675a73062a14379abab8c21caa95eb6",
       "version_major": 2,
       "version_minor": 0
      },
      "text/plain": [
       "QUEUEING TASKS | :   0%|          | 0/1 [00:00<?, ?it/s]"
      ]
     },
     "metadata": {},
     "output_type": "display_data"
    },
    {
     "data": {
      "application/vnd.jupyter.widget-view+json": {
       "model_id": "79002a4ccd604bba917c74acebe85c61",
       "version_major": 2,
       "version_minor": 0
      },
      "text/plain": [
       "PROCESSING TASKS | :   0%|          | 0/1 [00:00<?, ?it/s]"
      ]
     },
     "metadata": {},
     "output_type": "display_data"
    },
    {
     "data": {
      "application/vnd.jupyter.widget-view+json": {
       "model_id": "a18a965b9e2a42359e34ffc3ee2ecacf",
       "version_major": 2,
       "version_minor": 0
      },
      "text/plain": [
       "COLLECTING RESULTS | :   0%|          | 0/1 [00:00<?, ?it/s]"
      ]
     },
     "metadata": {},
     "output_type": "display_data"
    },
    {
     "name": "stdout",
     "output_type": "stream",
     "text": [
      "Time to complete granule: 74.91647911071777\n",
      "Granule ID: VNP14IMG.A2020230.1854.002.2024066014210.nc\n"
     ]
    },
    {
     "data": {
      "application/vnd.jupyter.widget-view+json": {
       "model_id": "dffd8c1db0a84a64a4f3ad386234f9fe",
       "version_major": 2,
       "version_minor": 0
      },
      "text/plain": [
       "QUEUEING TASKS | :   0%|          | 0/1 [00:00<?, ?it/s]"
      ]
     },
     "metadata": {},
     "output_type": "display_data"
    },
    {
     "data": {
      "application/vnd.jupyter.widget-view+json": {
       "model_id": "8c4feb87a7f14ea2b3d4d94a82d843d5",
       "version_major": 2,
       "version_minor": 0
      },
      "text/plain": [
       "PROCESSING TASKS | :   0%|          | 0/1 [00:00<?, ?it/s]"
      ]
     },
     "metadata": {},
     "output_type": "display_data"
    },
    {
     "data": {
      "application/vnd.jupyter.widget-view+json": {
       "model_id": "eecb37d20bb1490091540b7aca5c1ca5",
       "version_major": 2,
       "version_minor": 0
      },
      "text/plain": [
       "COLLECTING RESULTS | :   0%|          | 0/1 [00:00<?, ?it/s]"
      ]
     },
     "metadata": {},
     "output_type": "display_data"
    },
    {
     "name": "stdout",
     "output_type": "stream",
     "text": [
      "Time to complete granule: 77.34622716903687\n",
      "Granule ID: VJ114IMG.A2020230.1948.002.2024070133312.nc\n"
     ]
    },
    {
     "data": {
      "application/vnd.jupyter.widget-view+json": {
       "model_id": "a998fde7dbf04ee0be26592c9d2bf2fd",
       "version_major": 2,
       "version_minor": 0
      },
      "text/plain": [
       "QUEUEING TASKS | :   0%|          | 0/1 [00:00<?, ?it/s]"
      ]
     },
     "metadata": {},
     "output_type": "display_data"
    },
    {
     "data": {
      "application/vnd.jupyter.widget-view+json": {
       "model_id": "b56f39d987b948e7a1ab748c0aa7204f",
       "version_major": 2,
       "version_minor": 0
      },
      "text/plain": [
       "PROCESSING TASKS | :   0%|          | 0/1 [00:00<?, ?it/s]"
      ]
     },
     "metadata": {},
     "output_type": "display_data"
    },
    {
     "data": {
      "application/vnd.jupyter.widget-view+json": {
       "model_id": "0223e68d8fe7495e8dc8b406c4eecce9",
       "version_major": 2,
       "version_minor": 0
      },
      "text/plain": [
       "COLLECTING RESULTS | :   0%|          | 0/1 [00:00<?, ?it/s]"
      ]
     },
     "metadata": {},
     "output_type": "display_data"
    },
    {
     "name": "stdout",
     "output_type": "stream",
     "text": [
      "Time to complete granule: 81.5592851638794\n",
      "Granule ID: VNP14IMG.A2020230.2036.002.2024066014210.nc\n"
     ]
    },
    {
     "data": {
      "application/vnd.jupyter.widget-view+json": {
       "model_id": "4d0266cadbe24dcdb5c662e4f3815b82",
       "version_major": 2,
       "version_minor": 0
      },
      "text/plain": [
       "QUEUEING TASKS | :   0%|          | 0/1 [00:00<?, ?it/s]"
      ]
     },
     "metadata": {},
     "output_type": "display_data"
    },
    {
     "data": {
      "application/vnd.jupyter.widget-view+json": {
       "model_id": "8d3a636a0be34fa59a3427ada449ac7d",
       "version_major": 2,
       "version_minor": 0
      },
      "text/plain": [
       "PROCESSING TASKS | :   0%|          | 0/1 [00:00<?, ?it/s]"
      ]
     },
     "metadata": {},
     "output_type": "display_data"
    },
    {
     "data": {
      "application/vnd.jupyter.widget-view+json": {
       "model_id": "b71a172e3a9d44909352afc663eed8dd",
       "version_major": 2,
       "version_minor": 0
      },
      "text/plain": [
       "COLLECTING RESULTS | :   0%|          | 0/1 [00:00<?, ?it/s]"
      ]
     },
     "metadata": {},
     "output_type": "display_data"
    },
    {
     "name": "stdout",
     "output_type": "stream",
     "text": [
      "Time to complete granule: 97.77205109596252\n",
      "Granule ID: VJ114IMG.A2020231.0806.002.2024070140317.nc\n"
     ]
    },
    {
     "data": {
      "application/vnd.jupyter.widget-view+json": {
       "model_id": "3be27c0fa4554ad3896fd045ce73e0f3",
       "version_major": 2,
       "version_minor": 0
      },
      "text/plain": [
       "QUEUEING TASKS | :   0%|          | 0/1 [00:00<?, ?it/s]"
      ]
     },
     "metadata": {},
     "output_type": "display_data"
    },
    {
     "data": {
      "application/vnd.jupyter.widget-view+json": {
       "model_id": "3fe611077eb54f088a18e998ed665631",
       "version_major": 2,
       "version_minor": 0
      },
      "text/plain": [
       "PROCESSING TASKS | :   0%|          | 0/1 [00:00<?, ?it/s]"
      ]
     },
     "metadata": {},
     "output_type": "display_data"
    },
    {
     "data": {
      "application/vnd.jupyter.widget-view+json": {
       "model_id": "afe6debf58354d22b0a863fcca7eb0a9",
       "version_major": 2,
       "version_minor": 0
      },
      "text/plain": [
       "COLLECTING RESULTS | :   0%|          | 0/1 [00:00<?, ?it/s]"
      ]
     },
     "metadata": {},
     "output_type": "display_data"
    },
    {
     "name": "stdout",
     "output_type": "stream",
     "text": [
      "Time to complete granule: 100.70337915420532\n",
      "Granule ID: VNP14IMG.A2020231.0854.002.2024066020542.nc\n"
     ]
    },
    {
     "data": {
      "application/vnd.jupyter.widget-view+json": {
       "model_id": "78e643543c4446c48535628c58f4b4c9",
       "version_major": 2,
       "version_minor": 0
      },
      "text/plain": [
       "QUEUEING TASKS | :   0%|          | 0/1 [00:00<?, ?it/s]"
      ]
     },
     "metadata": {},
     "output_type": "display_data"
    },
    {
     "data": {
      "application/vnd.jupyter.widget-view+json": {
       "model_id": "39364915c73b42ff8f0ccfcaeb24ffb5",
       "version_major": 2,
       "version_minor": 0
      },
      "text/plain": [
       "PROCESSING TASKS | :   0%|          | 0/1 [00:00<?, ?it/s]"
      ]
     },
     "metadata": {},
     "output_type": "display_data"
    },
    {
     "data": {
      "application/vnd.jupyter.widget-view+json": {
       "model_id": "92df44b10ca14d9c9b44478970e95f2f",
       "version_major": 2,
       "version_minor": 0
      },
      "text/plain": [
       "COLLECTING RESULTS | :   0%|          | 0/1 [00:00<?, ?it/s]"
      ]
     },
     "metadata": {},
     "output_type": "display_data"
    },
    {
     "name": "stdout",
     "output_type": "stream",
     "text": [
      "Time to complete granule: 103.33869433403015\n",
      "Granule ID: VJ114IMG.A2020231.0948.002.2024070140313.nc\n"
     ]
    },
    {
     "data": {
      "application/vnd.jupyter.widget-view+json": {
       "model_id": "3ef9a8672738465d954ee9add504efdc",
       "version_major": 2,
       "version_minor": 0
      },
      "text/plain": [
       "QUEUEING TASKS | :   0%|          | 0/1 [00:00<?, ?it/s]"
      ]
     },
     "metadata": {},
     "output_type": "display_data"
    },
    {
     "data": {
      "application/vnd.jupyter.widget-view+json": {
       "model_id": "fe138521952945a8b10a653c3ad3a93e",
       "version_major": 2,
       "version_minor": 0
      },
      "text/plain": [
       "PROCESSING TASKS | :   0%|          | 0/1 [00:00<?, ?it/s]"
      ]
     },
     "metadata": {},
     "output_type": "display_data"
    },
    {
     "data": {
      "application/vnd.jupyter.widget-view+json": {
       "model_id": "28feea9e7f7f49969a37d71a522a4cb2",
       "version_major": 2,
       "version_minor": 0
      },
      "text/plain": [
       "COLLECTING RESULTS | :   0%|          | 0/1 [00:00<?, ?it/s]"
      ]
     },
     "metadata": {},
     "output_type": "display_data"
    },
    {
     "name": "stdout",
     "output_type": "stream",
     "text": [
      "Time to complete granule: 105.52080416679382\n",
      "Granule ID: VJ114IMG.A2020231.1930.002.2024070140315.nc\n"
     ]
    },
    {
     "data": {
      "application/vnd.jupyter.widget-view+json": {
       "model_id": "ec1427dad9d64d5399338266d5e8ab5c",
       "version_major": 2,
       "version_minor": 0
      },
      "text/plain": [
       "QUEUEING TASKS | :   0%|          | 0/1 [00:00<?, ?it/s]"
      ]
     },
     "metadata": {},
     "output_type": "display_data"
    },
    {
     "data": {
      "application/vnd.jupyter.widget-view+json": {
       "model_id": "cf4c2595d2c2450995faa15f457a3e96",
       "version_major": 2,
       "version_minor": 0
      },
      "text/plain": [
       "PROCESSING TASKS | :   0%|          | 0/1 [00:00<?, ?it/s]"
      ]
     },
     "metadata": {},
     "output_type": "display_data"
    },
    {
     "data": {
      "application/vnd.jupyter.widget-view+json": {
       "model_id": "b903ae7985ae40df8ac8c94440a8a648",
       "version_major": 2,
       "version_minor": 0
      },
      "text/plain": [
       "COLLECTING RESULTS | :   0%|          | 0/1 [00:00<?, ?it/s]"
      ]
     },
     "metadata": {},
     "output_type": "display_data"
    },
    {
     "name": "stdout",
     "output_type": "stream",
     "text": [
      "Time to complete granule: 107.96573805809021\n",
      "Granule ID: VNP14IMG.A2020231.2018.002.2024066020542.nc\n"
     ]
    },
    {
     "data": {
      "application/vnd.jupyter.widget-view+json": {
       "model_id": "a52663f4ce354a6d9bc1c56f893f5c99",
       "version_major": 2,
       "version_minor": 0
      },
      "text/plain": [
       "QUEUEING TASKS | :   0%|          | 0/1 [00:00<?, ?it/s]"
      ]
     },
     "metadata": {},
     "output_type": "display_data"
    },
    {
     "data": {
      "application/vnd.jupyter.widget-view+json": {
       "model_id": "aa2449d0d7b0412f81c523a4b5e64de7",
       "version_major": 2,
       "version_minor": 0
      },
      "text/plain": [
       "PROCESSING TASKS | :   0%|          | 0/1 [00:00<?, ?it/s]"
      ]
     },
     "metadata": {},
     "output_type": "display_data"
    },
    {
     "data": {
      "application/vnd.jupyter.widget-view+json": {
       "model_id": "43901fbccff2453cb03c52ae4390d995",
       "version_major": 2,
       "version_minor": 0
      },
      "text/plain": [
       "COLLECTING RESULTS | :   0%|          | 0/1 [00:00<?, ?it/s]"
      ]
     },
     "metadata": {},
     "output_type": "display_data"
    },
    {
     "name": "stdout",
     "output_type": "stream",
     "text": [
      "Time to complete granule: 110.7939121723175\n",
      "Granule ID: VJ114IMG.A2020231.2106.002.2024070140315.nc\n"
     ]
    },
    {
     "data": {
      "application/vnd.jupyter.widget-view+json": {
       "model_id": "1035555ed02942c88e40fc259f7011cd",
       "version_major": 2,
       "version_minor": 0
      },
      "text/plain": [
       "QUEUEING TASKS | :   0%|          | 0/1 [00:00<?, ?it/s]"
      ]
     },
     "metadata": {},
     "output_type": "display_data"
    },
    {
     "data": {
      "application/vnd.jupyter.widget-view+json": {
       "model_id": "85f4537aafc64177ad4750c2b52804f5",
       "version_major": 2,
       "version_minor": 0
      },
      "text/plain": [
       "PROCESSING TASKS | :   0%|          | 0/1 [00:00<?, ?it/s]"
      ]
     },
     "metadata": {},
     "output_type": "display_data"
    },
    {
     "data": {
      "application/vnd.jupyter.widget-view+json": {
       "model_id": "20631c91ba974910a76df970d6e78371",
       "version_major": 2,
       "version_minor": 0
      },
      "text/plain": [
       "COLLECTING RESULTS | :   0%|          | 0/1 [00:00<?, ?it/s]"
      ]
     },
     "metadata": {},
     "output_type": "display_data"
    },
    {
     "name": "stdout",
     "output_type": "stream",
     "text": [
      "Time to complete granule: 113.50526714324951\n",
      "Granule ID: VJ114IMG.A2020232.0748.002.2024070142546.nc\n"
     ]
    },
    {
     "data": {
      "application/vnd.jupyter.widget-view+json": {
       "model_id": "6fc90b0279e34028bec46a4ed2a20b56",
       "version_major": 2,
       "version_minor": 0
      },
      "text/plain": [
       "QUEUEING TASKS | :   0%|          | 0/1 [00:00<?, ?it/s]"
      ]
     },
     "metadata": {},
     "output_type": "display_data"
    },
    {
     "data": {
      "application/vnd.jupyter.widget-view+json": {
       "model_id": "1b9081e69df74d7c883e530bb63fdd33",
       "version_major": 2,
       "version_minor": 0
      },
      "text/plain": [
       "PROCESSING TASKS | :   0%|          | 0/1 [00:00<?, ?it/s]"
      ]
     },
     "metadata": {},
     "output_type": "display_data"
    },
    {
     "data": {
      "application/vnd.jupyter.widget-view+json": {
       "model_id": "5ac7fac5625a485693a0b0f51cc54c70",
       "version_major": 2,
       "version_minor": 0
      },
      "text/plain": [
       "COLLECTING RESULTS | :   0%|          | 0/1 [00:00<?, ?it/s]"
      ]
     },
     "metadata": {},
     "output_type": "display_data"
    },
    {
     "name": "stdout",
     "output_type": "stream",
     "text": [
      "Time to complete granule: 115.76917624473572\n",
      "Granule ID: VNP14IMG.A2020232.0836.002.2024066022011.nc\n"
     ]
    },
    {
     "data": {
      "application/vnd.jupyter.widget-view+json": {
       "model_id": "8fba61c5b4184541921381a0b097d05e",
       "version_major": 2,
       "version_minor": 0
      },
      "text/plain": [
       "QUEUEING TASKS | :   0%|          | 0/1 [00:00<?, ?it/s]"
      ]
     },
     "metadata": {},
     "output_type": "display_data"
    },
    {
     "data": {
      "application/vnd.jupyter.widget-view+json": {
       "model_id": "4b7fc2db9f14422b824252cbf425e699",
       "version_major": 2,
       "version_minor": 0
      },
      "text/plain": [
       "PROCESSING TASKS | :   0%|          | 0/1 [00:00<?, ?it/s]"
      ]
     },
     "metadata": {},
     "output_type": "display_data"
    },
    {
     "data": {
      "application/vnd.jupyter.widget-view+json": {
       "model_id": "96ab27b924e6470694568861b2cb6294",
       "version_major": 2,
       "version_minor": 0
      },
      "text/plain": [
       "COLLECTING RESULTS | :   0%|          | 0/1 [00:00<?, ?it/s]"
      ]
     },
     "metadata": {},
     "output_type": "display_data"
    },
    {
     "name": "stdout",
     "output_type": "stream",
     "text": [
      "Time to complete granule: 118.74514722824097\n",
      "Granule ID: VJ114IMG.A2020232.0924.002.2024070142546.nc\n"
     ]
    },
    {
     "data": {
      "application/vnd.jupyter.widget-view+json": {
       "model_id": "ee63cdb4de8d425d9676f3fd795ffd98",
       "version_major": 2,
       "version_minor": 0
      },
      "text/plain": [
       "QUEUEING TASKS | :   0%|          | 0/1 [00:00<?, ?it/s]"
      ]
     },
     "metadata": {},
     "output_type": "display_data"
    },
    {
     "data": {
      "application/vnd.jupyter.widget-view+json": {
       "model_id": "dd240646c7e44ba98a70d38da28efac5",
       "version_major": 2,
       "version_minor": 0
      },
      "text/plain": [
       "PROCESSING TASKS | :   0%|          | 0/1 [00:00<?, ?it/s]"
      ]
     },
     "metadata": {},
     "output_type": "display_data"
    },
    {
     "data": {
      "application/vnd.jupyter.widget-view+json": {
       "model_id": "c04c7a46bf9b43ed8a475bd4b87d8bd7",
       "version_major": 2,
       "version_minor": 0
      },
      "text/plain": [
       "COLLECTING RESULTS | :   0%|          | 0/1 [00:00<?, ?it/s]"
      ]
     },
     "metadata": {},
     "output_type": "display_data"
    },
    {
     "name": "stdout",
     "output_type": "stream",
     "text": [
      "Time to complete granule: 121.76930832862854\n",
      "Granule ID: VJ114IMG.A2020232.1906.002.2024070142543.nc\n"
     ]
    },
    {
     "data": {
      "application/vnd.jupyter.widget-view+json": {
       "model_id": "354de4f1a6f544a5ace9a676241d8a6f",
       "version_major": 2,
       "version_minor": 0
      },
      "text/plain": [
       "QUEUEING TASKS | :   0%|          | 0/1 [00:00<?, ?it/s]"
      ]
     },
     "metadata": {},
     "output_type": "display_data"
    },
    {
     "data": {
      "application/vnd.jupyter.widget-view+json": {
       "model_id": "c866f722e8e44de4a84667569f6cd1a9",
       "version_major": 2,
       "version_minor": 0
      },
      "text/plain": [
       "PROCESSING TASKS | :   0%|          | 0/1 [00:00<?, ?it/s]"
      ]
     },
     "metadata": {},
     "output_type": "display_data"
    },
    {
     "data": {
      "application/vnd.jupyter.widget-view+json": {
       "model_id": "6ab9b1c9a2f746deabd7d8174ac19ac9",
       "version_major": 2,
       "version_minor": 0
      },
      "text/plain": [
       "COLLECTING RESULTS | :   0%|          | 0/1 [00:00<?, ?it/s]"
      ]
     },
     "metadata": {},
     "output_type": "display_data"
    },
    {
     "name": "stdout",
     "output_type": "stream",
     "text": [
      "Time to complete granule: 124.18309926986694\n",
      "Granule ID: VNP14IMG.A2020232.2000.002.2024066022014.nc\n"
     ]
    },
    {
     "data": {
      "application/vnd.jupyter.widget-view+json": {
       "model_id": "4b4a76547370487984881d0e4a365247",
       "version_major": 2,
       "version_minor": 0
      },
      "text/plain": [
       "QUEUEING TASKS | :   0%|          | 0/1 [00:00<?, ?it/s]"
      ]
     },
     "metadata": {},
     "output_type": "display_data"
    },
    {
     "data": {
      "application/vnd.jupyter.widget-view+json": {
       "model_id": "2afb119c5dce48daa7f3fbb097341251",
       "version_major": 2,
       "version_minor": 0
      },
      "text/plain": [
       "PROCESSING TASKS | :   0%|          | 0/1 [00:00<?, ?it/s]"
      ]
     },
     "metadata": {},
     "output_type": "display_data"
    },
    {
     "data": {
      "application/vnd.jupyter.widget-view+json": {
       "model_id": "8ea3b4aad0674f40b24be377edca6183",
       "version_major": 2,
       "version_minor": 0
      },
      "text/plain": [
       "COLLECTING RESULTS | :   0%|          | 0/1 [00:00<?, ?it/s]"
      ]
     },
     "metadata": {},
     "output_type": "display_data"
    },
    {
     "name": "stdout",
     "output_type": "stream",
     "text": [
      "Time to complete granule: 126.70229625701904\n",
      "Granule ID: VJ114IMG.A2020232.2048.002.2024070142546.nc\n"
     ]
    },
    {
     "data": {
      "application/vnd.jupyter.widget-view+json": {
       "model_id": "34a6fa96226f4e439158ec70ab7cdc27",
       "version_major": 2,
       "version_minor": 0
      },
      "text/plain": [
       "QUEUEING TASKS | :   0%|          | 0/1 [00:00<?, ?it/s]"
      ]
     },
     "metadata": {},
     "output_type": "display_data"
    },
    {
     "data": {
      "application/vnd.jupyter.widget-view+json": {
       "model_id": "307071ea68534a779e8a4a27a9260fba",
       "version_major": 2,
       "version_minor": 0
      },
      "text/plain": [
       "PROCESSING TASKS | :   0%|          | 0/1 [00:00<?, ?it/s]"
      ]
     },
     "metadata": {},
     "output_type": "display_data"
    },
    {
     "data": {
      "application/vnd.jupyter.widget-view+json": {
       "model_id": "cf6e25a59cd94e0aad740e03ddc68cce",
       "version_major": 2,
       "version_minor": 0
      },
      "text/plain": [
       "COLLECTING RESULTS | :   0%|          | 0/1 [00:00<?, ?it/s]"
      ]
     },
     "metadata": {},
     "output_type": "display_data"
    },
    {
     "name": "stdout",
     "output_type": "stream",
     "text": [
      "Time to complete granule: 129.31614017486572\n",
      "Granule ID: VNP14IMG.A2020233.0818.002.2024066023813.nc\n"
     ]
    },
    {
     "data": {
      "application/vnd.jupyter.widget-view+json": {
       "model_id": "17d1bdc3fb3d4f44a0c566124e88289f",
       "version_major": 2,
       "version_minor": 0
      },
      "text/plain": [
       "QUEUEING TASKS | :   0%|          | 0/1 [00:00<?, ?it/s]"
      ]
     },
     "metadata": {},
     "output_type": "display_data"
    },
    {
     "data": {
      "application/vnd.jupyter.widget-view+json": {
       "model_id": "56a1aeb9c29a4909bc1e7c74d9d536c3",
       "version_major": 2,
       "version_minor": 0
      },
      "text/plain": [
       "PROCESSING TASKS | :   0%|          | 0/1 [00:00<?, ?it/s]"
      ]
     },
     "metadata": {},
     "output_type": "display_data"
    },
    {
     "data": {
      "application/vnd.jupyter.widget-view+json": {
       "model_id": "9ed0eec063014931804636e275df59c6",
       "version_major": 2,
       "version_minor": 0
      },
      "text/plain": [
       "COLLECTING RESULTS | :   0%|          | 0/1 [00:00<?, ?it/s]"
      ]
     },
     "metadata": {},
     "output_type": "display_data"
    },
    {
     "name": "stdout",
     "output_type": "stream",
     "text": [
      "Time to complete granule: 131.8065161705017\n",
      "Granule ID: VJ114IMG.A2020233.0906.002.2024070145039.nc\n"
     ]
    },
    {
     "data": {
      "application/vnd.jupyter.widget-view+json": {
       "model_id": "2aea3eafdf854ce0bc9fd442af49e911",
       "version_major": 2,
       "version_minor": 0
      },
      "text/plain": [
       "QUEUEING TASKS | :   0%|          | 0/1 [00:00<?, ?it/s]"
      ]
     },
     "metadata": {},
     "output_type": "display_data"
    },
    {
     "data": {
      "application/vnd.jupyter.widget-view+json": {
       "model_id": "32a8389ae6a647029f5de1223bb735ce",
       "version_major": 2,
       "version_minor": 0
      },
      "text/plain": [
       "PROCESSING TASKS | :   0%|          | 0/1 [00:00<?, ?it/s]"
      ]
     },
     "metadata": {},
     "output_type": "display_data"
    },
    {
     "data": {
      "application/vnd.jupyter.widget-view+json": {
       "model_id": "199d329d81744d26a0f9daa0f75c2268",
       "version_major": 2,
       "version_minor": 0
      },
      "text/plain": [
       "COLLECTING RESULTS | :   0%|          | 0/1 [00:00<?, ?it/s]"
      ]
     },
     "metadata": {},
     "output_type": "display_data"
    },
    {
     "name": "stdout",
     "output_type": "stream",
     "text": [
      "Time to complete granule: 134.2309591770172\n",
      "Granule ID: VNP14IMG.A2020233.1000.002.2024066023810.nc\n"
     ]
    },
    {
     "data": {
      "application/vnd.jupyter.widget-view+json": {
       "model_id": "e54d94e3f0f4408cbba753b347396b28",
       "version_major": 2,
       "version_minor": 0
      },
      "text/plain": [
       "QUEUEING TASKS | :   0%|          | 0/1 [00:00<?, ?it/s]"
      ]
     },
     "metadata": {},
     "output_type": "display_data"
    },
    {
     "data": {
      "application/vnd.jupyter.widget-view+json": {
       "model_id": "29ebe9b15af44c2aa6d567e705a188c5",
       "version_major": 2,
       "version_minor": 0
      },
      "text/plain": [
       "PROCESSING TASKS | :   0%|          | 0/1 [00:00<?, ?it/s]"
      ]
     },
     "metadata": {},
     "output_type": "display_data"
    },
    {
     "data": {
      "application/vnd.jupyter.widget-view+json": {
       "model_id": "9542ba4f5bb045de9e5da2ba668f9826",
       "version_major": 2,
       "version_minor": 0
      },
      "text/plain": [
       "COLLECTING RESULTS | :   0%|          | 0/1 [00:00<?, ?it/s]"
      ]
     },
     "metadata": {},
     "output_type": "display_data"
    },
    {
     "name": "stdout",
     "output_type": "stream",
     "text": [
      "Time to complete granule: 136.5945942401886\n",
      "Granule ID: VJ114IMG.A2020233.1848.002.2024070145039.nc\n"
     ]
    },
    {
     "data": {
      "application/vnd.jupyter.widget-view+json": {
       "model_id": "d496d99283264a1281b4810f9e133df0",
       "version_major": 2,
       "version_minor": 0
      },
      "text/plain": [
       "QUEUEING TASKS | :   0%|          | 0/1 [00:00<?, ?it/s]"
      ]
     },
     "metadata": {},
     "output_type": "display_data"
    },
    {
     "data": {
      "application/vnd.jupyter.widget-view+json": {
       "model_id": "4ac715b2ae8e4a80be2c9947ba0a122a",
       "version_major": 2,
       "version_minor": 0
      },
      "text/plain": [
       "PROCESSING TASKS | :   0%|          | 0/1 [00:00<?, ?it/s]"
      ]
     },
     "metadata": {},
     "output_type": "display_data"
    },
    {
     "data": {
      "application/vnd.jupyter.widget-view+json": {
       "model_id": "f4edd754d5a54018899f303855c14203",
       "version_major": 2,
       "version_minor": 0
      },
      "text/plain": [
       "COLLECTING RESULTS | :   0%|          | 0/1 [00:00<?, ?it/s]"
      ]
     },
     "metadata": {},
     "output_type": "display_data"
    },
    {
     "name": "stdout",
     "output_type": "stream",
     "text": [
      "Time to complete granule: 139.19460725784302\n",
      "Granule ID: VNP14IMG.A2020233.1942.002.2024066023815.nc\n"
     ]
    },
    {
     "data": {
      "application/vnd.jupyter.widget-view+json": {
       "model_id": "ec9ce94419ed44a98a8f3cc3e2959a03",
       "version_major": 2,
       "version_minor": 0
      },
      "text/plain": [
       "QUEUEING TASKS | :   0%|          | 0/1 [00:00<?, ?it/s]"
      ]
     },
     "metadata": {},
     "output_type": "display_data"
    },
    {
     "data": {
      "application/vnd.jupyter.widget-view+json": {
       "model_id": "0782e9ac9e094e37957d741745d0528a",
       "version_major": 2,
       "version_minor": 0
      },
      "text/plain": [
       "PROCESSING TASKS | :   0%|          | 0/1 [00:00<?, ?it/s]"
      ]
     },
     "metadata": {},
     "output_type": "display_data"
    },
    {
     "data": {
      "application/vnd.jupyter.widget-view+json": {
       "model_id": "10157cc1d16f416aaad886cbba344259",
       "version_major": 2,
       "version_minor": 0
      },
      "text/plain": [
       "COLLECTING RESULTS | :   0%|          | 0/1 [00:00<?, ?it/s]"
      ]
     },
     "metadata": {},
     "output_type": "display_data"
    },
    {
     "name": "stdout",
     "output_type": "stream",
     "text": [
      "Time to complete granule: 141.50731706619263\n",
      "Granule ID: VJ114IMG.A2020233.2030.002.2024070145039.nc\n"
     ]
    },
    {
     "data": {
      "application/vnd.jupyter.widget-view+json": {
       "model_id": "d8ad55eefae94e5c85466678f57e902a",
       "version_major": 2,
       "version_minor": 0
      },
      "text/plain": [
       "QUEUEING TASKS | :   0%|          | 0/1 [00:00<?, ?it/s]"
      ]
     },
     "metadata": {},
     "output_type": "display_data"
    },
    {
     "data": {
      "application/vnd.jupyter.widget-view+json": {
       "model_id": "628ddc2589b847b5bc7e4c2f2e158d43",
       "version_major": 2,
       "version_minor": 0
      },
      "text/plain": [
       "PROCESSING TASKS | :   0%|          | 0/1 [00:00<?, ?it/s]"
      ]
     },
     "metadata": {},
     "output_type": "display_data"
    },
    {
     "data": {
      "application/vnd.jupyter.widget-view+json": {
       "model_id": "546aeba74b9c43cea3e10551288f1ba7",
       "version_major": 2,
       "version_minor": 0
      },
      "text/plain": [
       "COLLECTING RESULTS | :   0%|          | 0/1 [00:00<?, ?it/s]"
      ]
     },
     "metadata": {},
     "output_type": "display_data"
    },
    {
     "name": "stdout",
     "output_type": "stream",
     "text": [
      "Time to complete granule: 144.20393300056458\n",
      "Granule ID: VNP14IMG.A2020234.0800.002.2024066025738.nc\n"
     ]
    },
    {
     "data": {
      "application/vnd.jupyter.widget-view+json": {
       "model_id": "2a35fbd9a7f5457f93a8cf74d31305c0",
       "version_major": 2,
       "version_minor": 0
      },
      "text/plain": [
       "QUEUEING TASKS | :   0%|          | 0/1 [00:00<?, ?it/s]"
      ]
     },
     "metadata": {},
     "output_type": "display_data"
    },
    {
     "data": {
      "application/vnd.jupyter.widget-view+json": {
       "model_id": "9941a87b190b4096a7d477f732def7c4",
       "version_major": 2,
       "version_minor": 0
      },
      "text/plain": [
       "PROCESSING TASKS | :   0%|          | 0/1 [00:00<?, ?it/s]"
      ]
     },
     "metadata": {},
     "output_type": "display_data"
    },
    {
     "data": {
      "application/vnd.jupyter.widget-view+json": {
       "model_id": "0aeb7a568e6344dcad499f07f3f85c22",
       "version_major": 2,
       "version_minor": 0
      },
      "text/plain": [
       "COLLECTING RESULTS | :   0%|          | 0/1 [00:00<?, ?it/s]"
      ]
     },
     "metadata": {},
     "output_type": "display_data"
    },
    {
     "name": "stdout",
     "output_type": "stream",
     "text": [
      "Time to complete granule: 146.63239932060242\n",
      "Granule ID: VJ114IMG.A2020234.0848.002.2024070151114.nc\n"
     ]
    },
    {
     "data": {
      "application/vnd.jupyter.widget-view+json": {
       "model_id": "9b69e716b5f6416da6ff69cbcac922c7",
       "version_major": 2,
       "version_minor": 0
      },
      "text/plain": [
       "QUEUEING TASKS | :   0%|          | 0/1 [00:00<?, ?it/s]"
      ]
     },
     "metadata": {},
     "output_type": "display_data"
    },
    {
     "data": {
      "application/vnd.jupyter.widget-view+json": {
       "model_id": "b2de537e73a84b518875f1840ae27dd5",
       "version_major": 2,
       "version_minor": 0
      },
      "text/plain": [
       "PROCESSING TASKS | :   0%|          | 0/1 [00:00<?, ?it/s]"
      ]
     },
     "metadata": {},
     "output_type": "display_data"
    },
    {
     "data": {
      "application/vnd.jupyter.widget-view+json": {
       "model_id": "bc2a201735064da0977fc085a46dfaf7",
       "version_major": 2,
       "version_minor": 0
      },
      "text/plain": [
       "COLLECTING RESULTS | :   0%|          | 0/1 [00:00<?, ?it/s]"
      ]
     },
     "metadata": {},
     "output_type": "display_data"
    },
    {
     "name": "stdout",
     "output_type": "stream",
     "text": [
      "Time to complete granule: 148.9792172908783\n",
      "Granule ID: VNP14IMG.A2020234.0942.002.2024066025740.nc\n"
     ]
    },
    {
     "data": {
      "application/vnd.jupyter.widget-view+json": {
       "model_id": "19fa2884112a4d0ab14fb99220e3f6bb",
       "version_major": 2,
       "version_minor": 0
      },
      "text/plain": [
       "QUEUEING TASKS | :   0%|          | 0/1 [00:00<?, ?it/s]"
      ]
     },
     "metadata": {},
     "output_type": "display_data"
    },
    {
     "data": {
      "application/vnd.jupyter.widget-view+json": {
       "model_id": "90d5a1c7518f433dbdcb4a4ed02f0db2",
       "version_major": 2,
       "version_minor": 0
      },
      "text/plain": [
       "PROCESSING TASKS | :   0%|          | 0/1 [00:00<?, ?it/s]"
      ]
     },
     "metadata": {},
     "output_type": "display_data"
    },
    {
     "data": {
      "application/vnd.jupyter.widget-view+json": {
       "model_id": "6a9841e8963c44d38e42fd39914cfe4d",
       "version_major": 2,
       "version_minor": 0
      },
      "text/plain": [
       "COLLECTING RESULTS | :   0%|          | 0/1 [00:00<?, ?it/s]"
      ]
     },
     "metadata": {},
     "output_type": "display_data"
    },
    {
     "name": "stdout",
     "output_type": "stream",
     "text": [
      "Time to complete granule: 151.29292011260986\n",
      "Granule ID: VNP14IMG.A2020234.1924.002.2024066025741.nc\n"
     ]
    },
    {
     "data": {
      "application/vnd.jupyter.widget-view+json": {
       "model_id": "87008f60613b4e9d8306a2d4f9909f39",
       "version_major": 2,
       "version_minor": 0
      },
      "text/plain": [
       "QUEUEING TASKS | :   0%|          | 0/1 [00:00<?, ?it/s]"
      ]
     },
     "metadata": {},
     "output_type": "display_data"
    },
    {
     "data": {
      "application/vnd.jupyter.widget-view+json": {
       "model_id": "0bcfb901e10144c1a46b36b8e34c66a6",
       "version_major": 2,
       "version_minor": 0
      },
      "text/plain": [
       "PROCESSING TASKS | :   0%|          | 0/1 [00:00<?, ?it/s]"
      ]
     },
     "metadata": {},
     "output_type": "display_data"
    },
    {
     "data": {
      "application/vnd.jupyter.widget-view+json": {
       "model_id": "b15a9f2972df4ae6b0a26176041189d8",
       "version_major": 2,
       "version_minor": 0
      },
      "text/plain": [
       "COLLECTING RESULTS | :   0%|          | 0/1 [00:00<?, ?it/s]"
      ]
     },
     "metadata": {},
     "output_type": "display_data"
    },
    {
     "name": "stdout",
     "output_type": "stream",
     "text": [
      "Time to complete granule: 153.84238123893738\n",
      "Granule ID: VJ114IMG.A2020234.2012.002.2024070151112.nc\n"
     ]
    },
    {
     "data": {
      "application/vnd.jupyter.widget-view+json": {
       "model_id": "6d1bbe0feba24741917ac50229e51392",
       "version_major": 2,
       "version_minor": 0
      },
      "text/plain": [
       "QUEUEING TASKS | :   0%|          | 0/1 [00:00<?, ?it/s]"
      ]
     },
     "metadata": {},
     "output_type": "display_data"
    },
    {
     "data": {
      "application/vnd.jupyter.widget-view+json": {
       "model_id": "23056860cb6a454998062c5dbb235ade",
       "version_major": 2,
       "version_minor": 0
      },
      "text/plain": [
       "PROCESSING TASKS | :   0%|          | 0/1 [00:00<?, ?it/s]"
      ]
     },
     "metadata": {},
     "output_type": "display_data"
    },
    {
     "data": {
      "application/vnd.jupyter.widget-view+json": {
       "model_id": "9de0674eabb3424aa77cb5f1f4c756e8",
       "version_major": 2,
       "version_minor": 0
      },
      "text/plain": [
       "COLLECTING RESULTS | :   0%|          | 0/1 [00:00<?, ?it/s]"
      ]
     },
     "metadata": {},
     "output_type": "display_data"
    },
    {
     "name": "stdout",
     "output_type": "stream",
     "text": [
      "Time to complete granule: 156.53738617897034\n",
      "Granule ID: VNP14IMG.A2020234.2100.002.2024066025745.nc\n"
     ]
    },
    {
     "data": {
      "application/vnd.jupyter.widget-view+json": {
       "model_id": "3e72ee394aa14b43bcdb667f0bbaf4ea",
       "version_major": 2,
       "version_minor": 0
      },
      "text/plain": [
       "QUEUEING TASKS | :   0%|          | 0/1 [00:00<?, ?it/s]"
      ]
     },
     "metadata": {},
     "output_type": "display_data"
    },
    {
     "data": {
      "application/vnd.jupyter.widget-view+json": {
       "model_id": "f45fffce612e4c45bc37114a6aeb827d",
       "version_major": 2,
       "version_minor": 0
      },
      "text/plain": [
       "PROCESSING TASKS | :   0%|          | 0/1 [00:00<?, ?it/s]"
      ]
     },
     "metadata": {},
     "output_type": "display_data"
    },
    {
     "data": {
      "application/vnd.jupyter.widget-view+json": {
       "model_id": "1f596ce959a24adfad9ed0a7227d3d38",
       "version_major": 2,
       "version_minor": 0
      },
      "text/plain": [
       "COLLECTING RESULTS | :   0%|          | 0/1 [00:00<?, ?it/s]"
      ]
     },
     "metadata": {},
     "output_type": "display_data"
    },
    {
     "name": "stdout",
     "output_type": "stream",
     "text": [
      "Time to complete granule: 158.92023420333862\n",
      "Granule ID: VJ114IMG.A2020235.0830.002.2024070154408.nc\n"
     ]
    },
    {
     "data": {
      "application/vnd.jupyter.widget-view+json": {
       "model_id": "62af2b3d886f4a72a971305f1230f63e",
       "version_major": 2,
       "version_minor": 0
      },
      "text/plain": [
       "QUEUEING TASKS | :   0%|          | 0/1 [00:00<?, ?it/s]"
      ]
     },
     "metadata": {},
     "output_type": "display_data"
    },
    {
     "data": {
      "application/vnd.jupyter.widget-view+json": {
       "model_id": "584237c2ef494d12b98727e908f46567",
       "version_major": 2,
       "version_minor": 0
      },
      "text/plain": [
       "PROCESSING TASKS | :   0%|          | 0/1 [00:00<?, ?it/s]"
      ]
     },
     "metadata": {},
     "output_type": "display_data"
    },
    {
     "data": {
      "application/vnd.jupyter.widget-view+json": {
       "model_id": "bbb8fdc218844364892beba62055b311",
       "version_major": 2,
       "version_minor": 0
      },
      "text/plain": [
       "COLLECTING RESULTS | :   0%|          | 0/1 [00:00<?, ?it/s]"
      ]
     },
     "metadata": {},
     "output_type": "display_data"
    },
    {
     "name": "stdout",
     "output_type": "stream",
     "text": [
      "Time to complete granule: 161.24837112426758\n",
      "Granule ID: VNP14IMG.A2020235.0918.002.2024066030646.nc\n"
     ]
    },
    {
     "data": {
      "application/vnd.jupyter.widget-view+json": {
       "model_id": "6d254fa8fd694cbeb1034c4f1156093d",
       "version_major": 2,
       "version_minor": 0
      },
      "text/plain": [
       "QUEUEING TASKS | :   0%|          | 0/1 [00:00<?, ?it/s]"
      ]
     },
     "metadata": {},
     "output_type": "display_data"
    },
    {
     "data": {
      "application/vnd.jupyter.widget-view+json": {
       "model_id": "b248ad71d36f47e2bc0865cc416de626",
       "version_major": 2,
       "version_minor": 0
      },
      "text/plain": [
       "PROCESSING TASKS | :   0%|          | 0/1 [00:00<?, ?it/s]"
      ]
     },
     "metadata": {},
     "output_type": "display_data"
    },
    {
     "data": {
      "application/vnd.jupyter.widget-view+json": {
       "model_id": "6df449a12271415da72dfe27f023bf50",
       "version_major": 2,
       "version_minor": 0
      },
      "text/plain": [
       "COLLECTING RESULTS | :   0%|          | 0/1 [00:00<?, ?it/s]"
      ]
     },
     "metadata": {},
     "output_type": "display_data"
    },
    {
     "name": "stdout",
     "output_type": "stream",
     "text": [
      "Time to complete granule: 163.648353099823\n",
      "Granule ID: VNP14IMG.A2020235.1900.002.2024066030641.nc\n"
     ]
    },
    {
     "data": {
      "application/vnd.jupyter.widget-view+json": {
       "model_id": "98083725145747e1812ef6d82bd1043e",
       "version_major": 2,
       "version_minor": 0
      },
      "text/plain": [
       "QUEUEING TASKS | :   0%|          | 0/1 [00:00<?, ?it/s]"
      ]
     },
     "metadata": {},
     "output_type": "display_data"
    },
    {
     "data": {
      "application/vnd.jupyter.widget-view+json": {
       "model_id": "9c29c6648aca4af7af43053d32374289",
       "version_major": 2,
       "version_minor": 0
      },
      "text/plain": [
       "PROCESSING TASKS | :   0%|          | 0/1 [00:00<?, ?it/s]"
      ]
     },
     "metadata": {},
     "output_type": "display_data"
    },
    {
     "data": {
      "application/vnd.jupyter.widget-view+json": {
       "model_id": "0af061e2aa0f43f29e02185837f0e6d9",
       "version_major": 2,
       "version_minor": 0
      },
      "text/plain": [
       "COLLECTING RESULTS | :   0%|          | 0/1 [00:00<?, ?it/s]"
      ]
     },
     "metadata": {},
     "output_type": "display_data"
    },
    {
     "name": "stdout",
     "output_type": "stream",
     "text": [
      "Time to complete granule: 166.22075009346008\n",
      "Granule ID: VJ114IMG.A2020235.1954.002.2024070154407.nc\n"
     ]
    },
    {
     "data": {
      "application/vnd.jupyter.widget-view+json": {
       "model_id": "eadc95696b3645989352bb29fa967ef7",
       "version_major": 2,
       "version_minor": 0
      },
      "text/plain": [
       "QUEUEING TASKS | :   0%|          | 0/1 [00:00<?, ?it/s]"
      ]
     },
     "metadata": {},
     "output_type": "display_data"
    },
    {
     "data": {
      "application/vnd.jupyter.widget-view+json": {
       "model_id": "991b7d1c89054322a3489845a1f9026e",
       "version_major": 2,
       "version_minor": 0
      },
      "text/plain": [
       "PROCESSING TASKS | :   0%|          | 0/1 [00:00<?, ?it/s]"
      ]
     },
     "metadata": {},
     "output_type": "display_data"
    },
    {
     "data": {
      "application/vnd.jupyter.widget-view+json": {
       "model_id": "3c099e0e70a6462096242a60b6c0bbff",
       "version_major": 2,
       "version_minor": 0
      },
      "text/plain": [
       "COLLECTING RESULTS | :   0%|          | 0/1 [00:00<?, ?it/s]"
      ]
     },
     "metadata": {},
     "output_type": "display_data"
    },
    {
     "name": "stdout",
     "output_type": "stream",
     "text": [
      "Time to complete granule: 168.83222913742065\n",
      "Granule ID: VNP14IMG.A2020235.2042.002.2024066030646.nc\n"
     ]
    },
    {
     "data": {
      "application/vnd.jupyter.widget-view+json": {
       "model_id": "110000b6574c4834828ffb037e72fec7",
       "version_major": 2,
       "version_minor": 0
      },
      "text/plain": [
       "QUEUEING TASKS | :   0%|          | 0/1 [00:00<?, ?it/s]"
      ]
     },
     "metadata": {},
     "output_type": "display_data"
    },
    {
     "data": {
      "application/vnd.jupyter.widget-view+json": {
       "model_id": "26d79180dbf244f786d95a77811be63a",
       "version_major": 2,
       "version_minor": 0
      },
      "text/plain": [
       "PROCESSING TASKS | :   0%|          | 0/1 [00:00<?, ?it/s]"
      ]
     },
     "metadata": {},
     "output_type": "display_data"
    },
    {
     "data": {
      "application/vnd.jupyter.widget-view+json": {
       "model_id": "b7746961d9d046258a84fc48b3b794f3",
       "version_major": 2,
       "version_minor": 0
      },
      "text/plain": [
       "COLLECTING RESULTS | :   0%|          | 0/1 [00:00<?, ?it/s]"
      ]
     },
     "metadata": {},
     "output_type": "display_data"
    },
    {
     "name": "stdout",
     "output_type": "stream",
     "text": [
      "Time to complete granule: 171.59425115585327\n",
      "Granule ID: VJ114IMG.A2020236.0812.002.2024070161034.nc\n"
     ]
    },
    {
     "data": {
      "application/vnd.jupyter.widget-view+json": {
       "model_id": "ab0deef5c7134f9cb070bdaf05aaeeb7",
       "version_major": 2,
       "version_minor": 0
      },
      "text/plain": [
       "QUEUEING TASKS | :   0%|          | 0/1 [00:00<?, ?it/s]"
      ]
     },
     "metadata": {},
     "output_type": "display_data"
    },
    {
     "data": {
      "application/vnd.jupyter.widget-view+json": {
       "model_id": "8a10f95757314452a9977adb38b519e4",
       "version_major": 2,
       "version_minor": 0
      },
      "text/plain": [
       "PROCESSING TASKS | :   0%|          | 0/1 [00:00<?, ?it/s]"
      ]
     },
     "metadata": {},
     "output_type": "display_data"
    },
    {
     "data": {
      "application/vnd.jupyter.widget-view+json": {
       "model_id": "bd3b8167c0874f9e97cb349cee74aaea",
       "version_major": 2,
       "version_minor": 0
      },
      "text/plain": [
       "COLLECTING RESULTS | :   0%|          | 0/1 [00:00<?, ?it/s]"
      ]
     },
     "metadata": {},
     "output_type": "display_data"
    },
    {
     "name": "stdout",
     "output_type": "stream",
     "text": [
      "Time to complete granule: 173.80667424201965\n",
      "Granule ID: VNP14IMG.A2020236.0900.002.2024066031816.nc\n"
     ]
    },
    {
     "data": {
      "application/vnd.jupyter.widget-view+json": {
       "model_id": "7092960f8a564206994b26498ff0c86c",
       "version_major": 2,
       "version_minor": 0
      },
      "text/plain": [
       "QUEUEING TASKS | :   0%|          | 0/1 [00:00<?, ?it/s]"
      ]
     },
     "metadata": {},
     "output_type": "display_data"
    },
    {
     "data": {
      "application/vnd.jupyter.widget-view+json": {
       "model_id": "89e9728459dc4904a134f2bf3a45e004",
       "version_major": 2,
       "version_minor": 0
      },
      "text/plain": [
       "PROCESSING TASKS | :   0%|          | 0/1 [00:00<?, ?it/s]"
      ]
     },
     "metadata": {},
     "output_type": "display_data"
    },
    {
     "data": {
      "application/vnd.jupyter.widget-view+json": {
       "model_id": "1734656f93264e4496e110d05afc9e59",
       "version_major": 2,
       "version_minor": 0
      },
      "text/plain": [
       "COLLECTING RESULTS | :   0%|          | 0/1 [00:00<?, ?it/s]"
      ]
     },
     "metadata": {},
     "output_type": "display_data"
    },
    {
     "name": "stdout",
     "output_type": "stream",
     "text": [
      "Time to complete granule: 177.14866304397583\n",
      "Granule ID: VJ114IMG.A2020236.0954.002.2024070161031.nc\n"
     ]
    },
    {
     "data": {
      "application/vnd.jupyter.widget-view+json": {
       "model_id": "b5e6e700cc5c425381675c5568a04eca",
       "version_major": 2,
       "version_minor": 0
      },
      "text/plain": [
       "QUEUEING TASKS | :   0%|          | 0/1 [00:00<?, ?it/s]"
      ]
     },
     "metadata": {},
     "output_type": "display_data"
    },
    {
     "data": {
      "application/vnd.jupyter.widget-view+json": {
       "model_id": "9f7269c8273e4fadb83c0d0e2188ab10",
       "version_major": 2,
       "version_minor": 0
      },
      "text/plain": [
       "PROCESSING TASKS | :   0%|          | 0/1 [00:00<?, ?it/s]"
      ]
     },
     "metadata": {},
     "output_type": "display_data"
    },
    {
     "data": {
      "application/vnd.jupyter.widget-view+json": {
       "model_id": "66e9c31e5e7942ae96ec4d4e11db2241",
       "version_major": 2,
       "version_minor": 0
      },
      "text/plain": [
       "COLLECTING RESULTS | :   0%|          | 0/1 [00:00<?, ?it/s]"
      ]
     },
     "metadata": {},
     "output_type": "display_data"
    },
    {
     "name": "stdout",
     "output_type": "stream",
     "text": [
      "Time to complete granule: 179.53796935081482\n",
      "Granule ID: VNP14IMG.A2020236.1842.002.2024066031814.nc\n"
     ]
    },
    {
     "data": {
      "application/vnd.jupyter.widget-view+json": {
       "model_id": "ac642ef0bdee482da86b2f5c5b9412a2",
       "version_major": 2,
       "version_minor": 0
      },
      "text/plain": [
       "QUEUEING TASKS | :   0%|          | 0/1 [00:00<?, ?it/s]"
      ]
     },
     "metadata": {},
     "output_type": "display_data"
    },
    {
     "data": {
      "application/vnd.jupyter.widget-view+json": {
       "model_id": "6ef7f40604854e76a02307ca54c63dd1",
       "version_major": 2,
       "version_minor": 0
      },
      "text/plain": [
       "PROCESSING TASKS | :   0%|          | 0/1 [00:00<?, ?it/s]"
      ]
     },
     "metadata": {},
     "output_type": "display_data"
    },
    {
     "data": {
      "application/vnd.jupyter.widget-view+json": {
       "model_id": "e3f383e5c773463280ba2cc4d8696812",
       "version_major": 2,
       "version_minor": 0
      },
      "text/plain": [
       "COLLECTING RESULTS | :   0%|          | 0/1 [00:00<?, ?it/s]"
      ]
     },
     "metadata": {},
     "output_type": "display_data"
    },
    {
     "name": "stdout",
     "output_type": "stream",
     "text": [
      "Time to complete granule: 182.40730333328247\n",
      "Granule ID: VJ114IMG.A2020236.1936.002.2024070161031.nc\n"
     ]
    },
    {
     "data": {
      "application/vnd.jupyter.widget-view+json": {
       "model_id": "de8c36cf0e884c6895baaf159ae97692",
       "version_major": 2,
       "version_minor": 0
      },
      "text/plain": [
       "QUEUEING TASKS | :   0%|          | 0/1 [00:00<?, ?it/s]"
      ]
     },
     "metadata": {},
     "output_type": "display_data"
    },
    {
     "data": {
      "application/vnd.jupyter.widget-view+json": {
       "model_id": "fcc205ba667e41d39e6424125bebfd7e",
       "version_major": 2,
       "version_minor": 0
      },
      "text/plain": [
       "PROCESSING TASKS | :   0%|          | 0/1 [00:00<?, ?it/s]"
      ]
     },
     "metadata": {},
     "output_type": "display_data"
    },
    {
     "data": {
      "application/vnd.jupyter.widget-view+json": {
       "model_id": "c5212ae4e3b04e108de40734570842cc",
       "version_major": 2,
       "version_minor": 0
      },
      "text/plain": [
       "COLLECTING RESULTS | :   0%|          | 0/1 [00:00<?, ?it/s]"
      ]
     },
     "metadata": {},
     "output_type": "display_data"
    },
    {
     "name": "stdout",
     "output_type": "stream",
     "text": [
      "Time to complete granule: 185.39094710350037\n",
      "Granule ID: VNP14IMG.A2020236.2024.002.2024066031813.nc\n"
     ]
    },
    {
     "data": {
      "application/vnd.jupyter.widget-view+json": {
       "model_id": "4d60d4456cca428aac11bd9c70a13ea9",
       "version_major": 2,
       "version_minor": 0
      },
      "text/plain": [
       "QUEUEING TASKS | :   0%|          | 0/1 [00:00<?, ?it/s]"
      ]
     },
     "metadata": {},
     "output_type": "display_data"
    },
    {
     "data": {
      "application/vnd.jupyter.widget-view+json": {
       "model_id": "65cc954fda03422a8489ee000ee01a4f",
       "version_major": 2,
       "version_minor": 0
      },
      "text/plain": [
       "PROCESSING TASKS | :   0%|          | 0/1 [00:00<?, ?it/s]"
      ]
     },
     "metadata": {},
     "output_type": "display_data"
    },
    {
     "data": {
      "application/vnd.jupyter.widget-view+json": {
       "model_id": "bc56d090e0a94369a8ae9f81c631c34b",
       "version_major": 2,
       "version_minor": 0
      },
      "text/plain": [
       "COLLECTING RESULTS | :   0%|          | 0/1 [00:00<?, ?it/s]"
      ]
     },
     "metadata": {},
     "output_type": "display_data"
    },
    {
     "name": "stdout",
     "output_type": "stream",
     "text": [
      "Time to complete granule: 188.13017511367798\n",
      "Granule ID: VJ114IMG.A2020237.0754.002.2024070164405.nc\n"
     ]
    },
    {
     "data": {
      "application/vnd.jupyter.widget-view+json": {
       "model_id": "488063f066d24b5f8b41ef4f4d86cf6e",
       "version_major": 2,
       "version_minor": 0
      },
      "text/plain": [
       "QUEUEING TASKS | :   0%|          | 0/1 [00:00<?, ?it/s]"
      ]
     },
     "metadata": {},
     "output_type": "display_data"
    },
    {
     "data": {
      "application/vnd.jupyter.widget-view+json": {
       "model_id": "8ef5c7dd561b41ccb69f896383493041",
       "version_major": 2,
       "version_minor": 0
      },
      "text/plain": [
       "PROCESSING TASKS | :   0%|          | 0/1 [00:00<?, ?it/s]"
      ]
     },
     "metadata": {},
     "output_type": "display_data"
    },
    {
     "data": {
      "application/vnd.jupyter.widget-view+json": {
       "model_id": "e96a02f493bc460e9c9ce353b9990f0f",
       "version_major": 2,
       "version_minor": 0
      },
      "text/plain": [
       "COLLECTING RESULTS | :   0%|          | 0/1 [00:00<?, ?it/s]"
      ]
     },
     "metadata": {},
     "output_type": "display_data"
    },
    {
     "name": "stdout",
     "output_type": "stream",
     "text": [
      "Time to complete granule: 190.41234612464905\n",
      "Granule ID: VNP14IMG.A2020237.0842.002.2024066033114.nc\n"
     ]
    },
    {
     "data": {
      "application/vnd.jupyter.widget-view+json": {
       "model_id": "ae347975c1694b1f8b458502be18a7ae",
       "version_major": 2,
       "version_minor": 0
      },
      "text/plain": [
       "QUEUEING TASKS | :   0%|          | 0/1 [00:00<?, ?it/s]"
      ]
     },
     "metadata": {},
     "output_type": "display_data"
    },
    {
     "data": {
      "application/vnd.jupyter.widget-view+json": {
       "model_id": "4052669073f34684beef02be1015362e",
       "version_major": 2,
       "version_minor": 0
      },
      "text/plain": [
       "PROCESSING TASKS | :   0%|          | 0/1 [00:00<?, ?it/s]"
      ]
     },
     "metadata": {},
     "output_type": "display_data"
    },
    {
     "data": {
      "application/vnd.jupyter.widget-view+json": {
       "model_id": "e0eb0f8a6ebf46b0a67448ade33e6525",
       "version_major": 2,
       "version_minor": 0
      },
      "text/plain": [
       "COLLECTING RESULTS | :   0%|          | 0/1 [00:00<?, ?it/s]"
      ]
     },
     "metadata": {},
     "output_type": "display_data"
    },
    {
     "name": "stdout",
     "output_type": "stream",
     "text": [
      "Time to complete granule: 192.74071621894836\n",
      "Granule ID: VJ114IMG.A2020237.0930.002.2024070164405.nc\n"
     ]
    },
    {
     "data": {
      "application/vnd.jupyter.widget-view+json": {
       "model_id": "19fe39e551b74e2383fb593f09501a5c",
       "version_major": 2,
       "version_minor": 0
      },
      "text/plain": [
       "QUEUEING TASKS | :   0%|          | 0/1 [00:00<?, ?it/s]"
      ]
     },
     "metadata": {},
     "output_type": "display_data"
    },
    {
     "data": {
      "application/vnd.jupyter.widget-view+json": {
       "model_id": "c34dece238f343c89442f73c8dc16375",
       "version_major": 2,
       "version_minor": 0
      },
      "text/plain": [
       "PROCESSING TASKS | :   0%|          | 0/1 [00:00<?, ?it/s]"
      ]
     },
     "metadata": {},
     "output_type": "display_data"
    },
    {
     "data": {
      "application/vnd.jupyter.widget-view+json": {
       "model_id": "237f8cd7e5ea452a9bf511d36f24a07a",
       "version_major": 2,
       "version_minor": 0
      },
      "text/plain": [
       "COLLECTING RESULTS | :   0%|          | 0/1 [00:00<?, ?it/s]"
      ]
     },
     "metadata": {},
     "output_type": "display_data"
    },
    {
     "name": "stdout",
     "output_type": "stream",
     "text": [
      "Time to complete granule: 194.9329800605774\n",
      "Granule ID: VJ114IMG.A2020237.1912.002.2024070164404.nc\n"
     ]
    },
    {
     "data": {
      "application/vnd.jupyter.widget-view+json": {
       "model_id": "2622655d21fd4a978ba2427156bfd6a9",
       "version_major": 2,
       "version_minor": 0
      },
      "text/plain": [
       "QUEUEING TASKS | :   0%|          | 0/1 [00:00<?, ?it/s]"
      ]
     },
     "metadata": {},
     "output_type": "display_data"
    },
    {
     "data": {
      "application/vnd.jupyter.widget-view+json": {
       "model_id": "b43e36254e514253b64c506b305d8447",
       "version_major": 2,
       "version_minor": 0
      },
      "text/plain": [
       "PROCESSING TASKS | :   0%|          | 0/1 [00:00<?, ?it/s]"
      ]
     },
     "metadata": {},
     "output_type": "display_data"
    },
    {
     "data": {
      "application/vnd.jupyter.widget-view+json": {
       "model_id": "370986d46b4b44f294315a6715058ac2",
       "version_major": 2,
       "version_minor": 0
      },
      "text/plain": [
       "COLLECTING RESULTS | :   0%|          | 0/1 [00:00<?, ?it/s]"
      ]
     },
     "metadata": {},
     "output_type": "display_data"
    },
    {
     "name": "stdout",
     "output_type": "stream",
     "text": [
      "Time to complete granule: 197.60345029830933\n",
      "Granule ID: VNP14IMG.A2020237.2006.002.2024066033112.nc\n"
     ]
    },
    {
     "data": {
      "application/vnd.jupyter.widget-view+json": {
       "model_id": "0868e3d330ae455c827285c7d5a86d7e",
       "version_major": 2,
       "version_minor": 0
      },
      "text/plain": [
       "QUEUEING TASKS | :   0%|          | 0/1 [00:00<?, ?it/s]"
      ]
     },
     "metadata": {},
     "output_type": "display_data"
    },
    {
     "data": {
      "application/vnd.jupyter.widget-view+json": {
       "model_id": "78483eca9346443bad22a8c5a9e1a4a9",
       "version_major": 2,
       "version_minor": 0
      },
      "text/plain": [
       "PROCESSING TASKS | :   0%|          | 0/1 [00:00<?, ?it/s]"
      ]
     },
     "metadata": {},
     "output_type": "display_data"
    },
    {
     "data": {
      "application/vnd.jupyter.widget-view+json": {
       "model_id": "32bbe2faca1a4688a8cf1e0cfa3fd75c",
       "version_major": 2,
       "version_minor": 0
      },
      "text/plain": [
       "COLLECTING RESULTS | :   0%|          | 0/1 [00:00<?, ?it/s]"
      ]
     },
     "metadata": {},
     "output_type": "display_data"
    },
    {
     "name": "stdout",
     "output_type": "stream",
     "text": [
      "Time to complete granule: 200.6508481502533\n",
      "Granule ID: VJ114IMG.A2020237.2054.002.2024070164407.nc\n"
     ]
    },
    {
     "data": {
      "application/vnd.jupyter.widget-view+json": {
       "model_id": "024e21d000724fd1a5ec3867ff8152f0",
       "version_major": 2,
       "version_minor": 0
      },
      "text/plain": [
       "QUEUEING TASKS | :   0%|          | 0/1 [00:00<?, ?it/s]"
      ]
     },
     "metadata": {},
     "output_type": "display_data"
    },
    {
     "data": {
      "application/vnd.jupyter.widget-view+json": {
       "model_id": "5c2d68bd83ad4de5b94f7635ab5942fd",
       "version_major": 2,
       "version_minor": 0
      },
      "text/plain": [
       "PROCESSING TASKS | :   0%|          | 0/1 [00:00<?, ?it/s]"
      ]
     },
     "metadata": {},
     "output_type": "display_data"
    },
    {
     "data": {
      "application/vnd.jupyter.widget-view+json": {
       "model_id": "8a592cab22044d32ae6c3f7957fa681d",
       "version_major": 2,
       "version_minor": 0
      },
      "text/plain": [
       "COLLECTING RESULTS | :   0%|          | 0/1 [00:00<?, ?it/s]"
      ]
     },
     "metadata": {},
     "output_type": "display_data"
    },
    {
     "name": "stdout",
     "output_type": "stream",
     "text": [
      "Time to complete granule: 203.22854018211365\n",
      "Granule ID: VNP14IMG.A2020238.0824.002.2024066034943.nc\n"
     ]
    },
    {
     "data": {
      "application/vnd.jupyter.widget-view+json": {
       "model_id": "bfd5f804b71b4f6a8a6614d11cdad3d8",
       "version_major": 2,
       "version_minor": 0
      },
      "text/plain": [
       "QUEUEING TASKS | :   0%|          | 0/1 [00:00<?, ?it/s]"
      ]
     },
     "metadata": {},
     "output_type": "display_data"
    },
    {
     "data": {
      "application/vnd.jupyter.widget-view+json": {
       "model_id": "bfe237f7851d4eb8925d0bb7df3d7ed3",
       "version_major": 2,
       "version_minor": 0
      },
      "text/plain": [
       "PROCESSING TASKS | :   0%|          | 0/1 [00:00<?, ?it/s]"
      ]
     },
     "metadata": {},
     "output_type": "display_data"
    },
    {
     "data": {
      "application/vnd.jupyter.widget-view+json": {
       "model_id": "398643500bac466785b112306fdbf317",
       "version_major": 2,
       "version_minor": 0
      },
      "text/plain": [
       "COLLECTING RESULTS | :   0%|          | 0/1 [00:00<?, ?it/s]"
      ]
     },
     "metadata": {},
     "output_type": "display_data"
    },
    {
     "name": "stdout",
     "output_type": "stream",
     "text": [
      "Time to complete granule: 205.53753018379211\n",
      "Granule ID: VJ114IMG.A2020238.0912.002.2024070171004.nc\n"
     ]
    },
    {
     "data": {
      "application/vnd.jupyter.widget-view+json": {
       "model_id": "7cf2ff9b87d44c7a9d1886250a12fd7a",
       "version_major": 2,
       "version_minor": 0
      },
      "text/plain": [
       "QUEUEING TASKS | :   0%|          | 0/1 [00:00<?, ?it/s]"
      ]
     },
     "metadata": {},
     "output_type": "display_data"
    },
    {
     "data": {
      "application/vnd.jupyter.widget-view+json": {
       "model_id": "1d2af7d5662045f98d3f52f346f86c17",
       "version_major": 2,
       "version_minor": 0
      },
      "text/plain": [
       "PROCESSING TASKS | :   0%|          | 0/1 [00:00<?, ?it/s]"
      ]
     },
     "metadata": {},
     "output_type": "display_data"
    },
    {
     "data": {
      "application/vnd.jupyter.widget-view+json": {
       "model_id": "fcc4bb8002a14f8fbb024eb5b21373f4",
       "version_major": 2,
       "version_minor": 0
      },
      "text/plain": [
       "COLLECTING RESULTS | :   0%|          | 0/1 [00:00<?, ?it/s]"
      ]
     },
     "metadata": {},
     "output_type": "display_data"
    },
    {
     "name": "stdout",
     "output_type": "stream",
     "text": [
      "Time to complete granule: 208.2271010875702\n",
      "Granule ID: VNP14IMG.A2020238.1006.002.2024066034946.nc\n"
     ]
    },
    {
     "data": {
      "application/vnd.jupyter.widget-view+json": {
       "model_id": "9b719539590942cdb199a6ba44f7de87",
       "version_major": 2,
       "version_minor": 0
      },
      "text/plain": [
       "QUEUEING TASKS | :   0%|          | 0/1 [00:00<?, ?it/s]"
      ]
     },
     "metadata": {},
     "output_type": "display_data"
    },
    {
     "data": {
      "application/vnd.jupyter.widget-view+json": {
       "model_id": "b26eb9df8d5f4c4c85b6ff4ec777e183",
       "version_major": 2,
       "version_minor": 0
      },
      "text/plain": [
       "PROCESSING TASKS | :   0%|          | 0/1 [00:00<?, ?it/s]"
      ]
     },
     "metadata": {},
     "output_type": "display_data"
    },
    {
     "data": {
      "application/vnd.jupyter.widget-view+json": {
       "model_id": "64a271271d514c818e6bdacb54fa154b",
       "version_major": 2,
       "version_minor": 0
      },
      "text/plain": [
       "COLLECTING RESULTS | :   0%|          | 0/1 [00:00<?, ?it/s]"
      ]
     },
     "metadata": {},
     "output_type": "display_data"
    },
    {
     "name": "stdout",
     "output_type": "stream",
     "text": [
      "Time to complete granule: 210.56805515289307\n",
      "Granule ID: VJ114IMG.A2020238.1854.002.2024070170932.nc\n"
     ]
    },
    {
     "data": {
      "application/vnd.jupyter.widget-view+json": {
       "model_id": "09ce1ac40af44614b0c957623a9410c0",
       "version_major": 2,
       "version_minor": 0
      },
      "text/plain": [
       "QUEUEING TASKS | :   0%|          | 0/1 [00:00<?, ?it/s]"
      ]
     },
     "metadata": {},
     "output_type": "display_data"
    },
    {
     "data": {
      "application/vnd.jupyter.widget-view+json": {
       "model_id": "a3c9885f0f754dca9e2702b53a5c7192",
       "version_major": 2,
       "version_minor": 0
      },
      "text/plain": [
       "PROCESSING TASKS | :   0%|          | 0/1 [00:00<?, ?it/s]"
      ]
     },
     "metadata": {},
     "output_type": "display_data"
    },
    {
     "data": {
      "application/vnd.jupyter.widget-view+json": {
       "model_id": "06fcffd1d72646f19b8df7c72b45218f",
       "version_major": 2,
       "version_minor": 0
      },
      "text/plain": [
       "COLLECTING RESULTS | :   0%|          | 0/1 [00:00<?, ?it/s]"
      ]
     },
     "metadata": {},
     "output_type": "display_data"
    },
    {
     "name": "stdout",
     "output_type": "stream",
     "text": [
      "Time to complete granule: 212.95444107055664\n",
      "Granule ID: VNP14IMG.A2020238.1948.002.2024066034948.nc\n"
     ]
    },
    {
     "data": {
      "application/vnd.jupyter.widget-view+json": {
       "model_id": "8162992ece7e4193b68f940288593c9c",
       "version_major": 2,
       "version_minor": 0
      },
      "text/plain": [
       "QUEUEING TASKS | :   0%|          | 0/1 [00:00<?, ?it/s]"
      ]
     },
     "metadata": {},
     "output_type": "display_data"
    },
    {
     "data": {
      "application/vnd.jupyter.widget-view+json": {
       "model_id": "8a3fcb007e6348cdbebab52f36bcfc3c",
       "version_major": 2,
       "version_minor": 0
      },
      "text/plain": [
       "PROCESSING TASKS | :   0%|          | 0/1 [00:00<?, ?it/s]"
      ]
     },
     "metadata": {},
     "output_type": "display_data"
    },
    {
     "data": {
      "application/vnd.jupyter.widget-view+json": {
       "model_id": "188b6734d21e4571894da40b815a7f32",
       "version_major": 2,
       "version_minor": 0
      },
      "text/plain": [
       "COLLECTING RESULTS | :   0%|          | 0/1 [00:00<?, ?it/s]"
      ]
     },
     "metadata": {},
     "output_type": "display_data"
    },
    {
     "name": "stdout",
     "output_type": "stream",
     "text": [
      "Time to complete granule: 215.6214461326599\n",
      "Granule ID: VJ114IMG.A2020238.2036.002.2024070171003.nc\n"
     ]
    },
    {
     "data": {
      "application/vnd.jupyter.widget-view+json": {
       "model_id": "6f13a5c3995c4c07a395a7bf681e4870",
       "version_major": 2,
       "version_minor": 0
      },
      "text/plain": [
       "QUEUEING TASKS | :   0%|          | 0/1 [00:00<?, ?it/s]"
      ]
     },
     "metadata": {},
     "output_type": "display_data"
    },
    {
     "data": {
      "application/vnd.jupyter.widget-view+json": {
       "model_id": "90ab8a8300e24fc5828633296d055191",
       "version_major": 2,
       "version_minor": 0
      },
      "text/plain": [
       "PROCESSING TASKS | :   0%|          | 0/1 [00:00<?, ?it/s]"
      ]
     },
     "metadata": {},
     "output_type": "display_data"
    },
    {
     "data": {
      "application/vnd.jupyter.widget-view+json": {
       "model_id": "cc9a2b8195764133944fe3d5d5ad0fe2",
       "version_major": 2,
       "version_minor": 0
      },
      "text/plain": [
       "COLLECTING RESULTS | :   0%|          | 0/1 [00:00<?, ?it/s]"
      ]
     },
     "metadata": {},
     "output_type": "display_data"
    },
    {
     "name": "stdout",
     "output_type": "stream",
     "text": [
      "Time to complete granule: 218.102126121521\n",
      "Granule ID: VNP14IMG.A2020239.0806.002.2024066040242.nc\n"
     ]
    },
    {
     "data": {
      "application/vnd.jupyter.widget-view+json": {
       "model_id": "9299ccbb7c3e421f8cb288c75e0a2eb7",
       "version_major": 2,
       "version_minor": 0
      },
      "text/plain": [
       "QUEUEING TASKS | :   0%|          | 0/1 [00:00<?, ?it/s]"
      ]
     },
     "metadata": {},
     "output_type": "display_data"
    },
    {
     "data": {
      "application/vnd.jupyter.widget-view+json": {
       "model_id": "e301798a8f9340d9aca2a75d9f9b425d",
       "version_major": 2,
       "version_minor": 0
      },
      "text/plain": [
       "PROCESSING TASKS | :   0%|          | 0/1 [00:00<?, ?it/s]"
      ]
     },
     "metadata": {},
     "output_type": "display_data"
    },
    {
     "data": {
      "application/vnd.jupyter.widget-view+json": {
       "model_id": "70a8c4a322334ae186ee850962dba7db",
       "version_major": 2,
       "version_minor": 0
      },
      "text/plain": [
       "COLLECTING RESULTS | :   0%|          | 0/1 [00:00<?, ?it/s]"
      ]
     },
     "metadata": {},
     "output_type": "display_data"
    },
    {
     "name": "stdout",
     "output_type": "stream",
     "text": [
      "Time to complete granule: 220.55573511123657\n",
      "Granule ID: VJ114IMG.A2020239.0854.002.2024070174006.nc\n"
     ]
    },
    {
     "data": {
      "application/vnd.jupyter.widget-view+json": {
       "model_id": "9cd253d289fc4c67abd1491ccce909e6",
       "version_major": 2,
       "version_minor": 0
      },
      "text/plain": [
       "QUEUEING TASKS | :   0%|          | 0/1 [00:00<?, ?it/s]"
      ]
     },
     "metadata": {},
     "output_type": "display_data"
    },
    {
     "data": {
      "application/vnd.jupyter.widget-view+json": {
       "model_id": "1559e82a3dde4969a1dcf94c9b96dbcd",
       "version_major": 2,
       "version_minor": 0
      },
      "text/plain": [
       "PROCESSING TASKS | :   0%|          | 0/1 [00:00<?, ?it/s]"
      ]
     },
     "metadata": {},
     "output_type": "display_data"
    },
    {
     "data": {
      "application/vnd.jupyter.widget-view+json": {
       "model_id": "57313e1684c2418b9dc8cff31f297e4b",
       "version_major": 2,
       "version_minor": 0
      },
      "text/plain": [
       "COLLECTING RESULTS | :   0%|          | 0/1 [00:00<?, ?it/s]"
      ]
     },
     "metadata": {},
     "output_type": "display_data"
    },
    {
     "name": "stdout",
     "output_type": "stream",
     "text": [
      "Time to complete granule: 223.0204300880432\n",
      "Granule ID: VNP14IMG.A2020239.0948.002.2024066040246.nc\n"
     ]
    },
    {
     "data": {
      "application/vnd.jupyter.widget-view+json": {
       "model_id": "2d9fdfb5f023466fa65e1bce8fa45ac4",
       "version_major": 2,
       "version_minor": 0
      },
      "text/plain": [
       "QUEUEING TASKS | :   0%|          | 0/1 [00:00<?, ?it/s]"
      ]
     },
     "metadata": {},
     "output_type": "display_data"
    },
    {
     "data": {
      "application/vnd.jupyter.widget-view+json": {
       "model_id": "d04c6488cadc4b929a25d9afef9162a0",
       "version_major": 2,
       "version_minor": 0
      },
      "text/plain": [
       "PROCESSING TASKS | :   0%|          | 0/1 [00:00<?, ?it/s]"
      ]
     },
     "metadata": {},
     "output_type": "display_data"
    },
    {
     "data": {
      "application/vnd.jupyter.widget-view+json": {
       "model_id": "f86a639f641b4284b989b87e50564535",
       "version_major": 2,
       "version_minor": 0
      },
      "text/plain": [
       "COLLECTING RESULTS | :   0%|          | 0/1 [00:00<?, ?it/s]"
      ]
     },
     "metadata": {},
     "output_type": "display_data"
    },
    {
     "name": "stdout",
     "output_type": "stream",
     "text": [
      "Time to complete granule: 225.67500019073486\n",
      "Granule ID: VNP14IMG.A2020239.1930.002.2024066040246.nc\n"
     ]
    },
    {
     "data": {
      "application/vnd.jupyter.widget-view+json": {
       "model_id": "885947791b874bfe971028f3deef3c1f",
       "version_major": 2,
       "version_minor": 0
      },
      "text/plain": [
       "QUEUEING TASKS | :   0%|          | 0/1 [00:00<?, ?it/s]"
      ]
     },
     "metadata": {},
     "output_type": "display_data"
    },
    {
     "data": {
      "application/vnd.jupyter.widget-view+json": {
       "model_id": "9ec8ea7839e54c3295fae43585fe5002",
       "version_major": 2,
       "version_minor": 0
      },
      "text/plain": [
       "PROCESSING TASKS | :   0%|          | 0/1 [00:00<?, ?it/s]"
      ]
     },
     "metadata": {},
     "output_type": "display_data"
    },
    {
     "data": {
      "application/vnd.jupyter.widget-view+json": {
       "model_id": "8a1affb43add4a12a313fe434d3c8158",
       "version_major": 2,
       "version_minor": 0
      },
      "text/plain": [
       "COLLECTING RESULTS | :   0%|          | 0/1 [00:00<?, ?it/s]"
      ]
     },
     "metadata": {},
     "output_type": "display_data"
    },
    {
     "name": "stdout",
     "output_type": "stream",
     "text": [
      "Time to complete granule: 228.27322721481323\n",
      "Granule ID: VJ114IMG.A2020239.2018.002.2024070174003.nc\n"
     ]
    },
    {
     "data": {
      "application/vnd.jupyter.widget-view+json": {
       "model_id": "95252630efb04f73a170bb04c69e7f03",
       "version_major": 2,
       "version_minor": 0
      },
      "text/plain": [
       "QUEUEING TASKS | :   0%|          | 0/1 [00:00<?, ?it/s]"
      ]
     },
     "metadata": {},
     "output_type": "display_data"
    },
    {
     "data": {
      "application/vnd.jupyter.widget-view+json": {
       "model_id": "587cfbabbe834c57a1206b6f6fd278c2",
       "version_major": 2,
       "version_minor": 0
      },
      "text/plain": [
       "PROCESSING TASKS | :   0%|          | 0/1 [00:00<?, ?it/s]"
      ]
     },
     "metadata": {},
     "output_type": "display_data"
    },
    {
     "data": {
      "application/vnd.jupyter.widget-view+json": {
       "model_id": "6b0d3b5b5f944f9b9d311bcfec330c7f",
       "version_major": 2,
       "version_minor": 0
      },
      "text/plain": [
       "COLLECTING RESULTS | :   0%|          | 0/1 [00:00<?, ?it/s]"
      ]
     },
     "metadata": {},
     "output_type": "display_data"
    },
    {
     "name": "stdout",
     "output_type": "stream",
     "text": [
      "Time to complete granule: 230.7642571926117\n",
      "Granule ID: VNP14IMG.A2020239.2106.002.2024066040247.nc\n"
     ]
    },
    {
     "data": {
      "application/vnd.jupyter.widget-view+json": {
       "model_id": "f856de91392345a98c190eb39ccb242b",
       "version_major": 2,
       "version_minor": 0
      },
      "text/plain": [
       "QUEUEING TASKS | :   0%|          | 0/1 [00:00<?, ?it/s]"
      ]
     },
     "metadata": {},
     "output_type": "display_data"
    },
    {
     "data": {
      "application/vnd.jupyter.widget-view+json": {
       "model_id": "2bae49304940461895e0b78a28a38ad8",
       "version_major": 2,
       "version_minor": 0
      },
      "text/plain": [
       "PROCESSING TASKS | :   0%|          | 0/1 [00:00<?, ?it/s]"
      ]
     },
     "metadata": {},
     "output_type": "display_data"
    },
    {
     "data": {
      "application/vnd.jupyter.widget-view+json": {
       "model_id": "a7885fce69ac4fa7b49ee0fc00aa4f9c",
       "version_major": 2,
       "version_minor": 0
      },
      "text/plain": [
       "COLLECTING RESULTS | :   0%|          | 0/1 [00:00<?, ?it/s]"
      ]
     },
     "metadata": {},
     "output_type": "display_data"
    },
    {
     "name": "stdout",
     "output_type": "stream",
     "text": [
      "Time to complete granule: 233.53098702430725\n",
      "Granule ID: VNP14IMG.A2020240.0748.002.2024066041714.nc\n"
     ]
    },
    {
     "data": {
      "application/vnd.jupyter.widget-view+json": {
       "model_id": "2a84f371a08742daa90e8bf0591380ab",
       "version_major": 2,
       "version_minor": 0
      },
      "text/plain": [
       "QUEUEING TASKS | :   0%|          | 0/1 [00:00<?, ?it/s]"
      ]
     },
     "metadata": {},
     "output_type": "display_data"
    },
    {
     "data": {
      "application/vnd.jupyter.widget-view+json": {
       "model_id": "6597f58050174bc4b55b5f5bd8a198fa",
       "version_major": 2,
       "version_minor": 0
      },
      "text/plain": [
       "PROCESSING TASKS | :   0%|          | 0/1 [00:00<?, ?it/s]"
      ]
     },
     "metadata": {},
     "output_type": "display_data"
    },
    {
     "data": {
      "application/vnd.jupyter.widget-view+json": {
       "model_id": "6d0c8fba8504436f944c21e1d94b8645",
       "version_major": 2,
       "version_minor": 0
      },
      "text/plain": [
       "COLLECTING RESULTS | :   0%|          | 0/1 [00:00<?, ?it/s]"
      ]
     },
     "metadata": {},
     "output_type": "display_data"
    },
    {
     "name": "stdout",
     "output_type": "stream",
     "text": [
      "Time to complete granule: 235.85766506195068\n",
      "Granule ID: VJ114IMG.A2020240.0836.002.2024070180229.nc\n"
     ]
    },
    {
     "data": {
      "application/vnd.jupyter.widget-view+json": {
       "model_id": "eeb7d67ccc3b4d4a8b8ee57740890775",
       "version_major": 2,
       "version_minor": 0
      },
      "text/plain": [
       "QUEUEING TASKS | :   0%|          | 0/1 [00:00<?, ?it/s]"
      ]
     },
     "metadata": {},
     "output_type": "display_data"
    },
    {
     "data": {
      "application/vnd.jupyter.widget-view+json": {
       "model_id": "977b9de4b5da4b5394a69ed86736e2c8",
       "version_major": 2,
       "version_minor": 0
      },
      "text/plain": [
       "PROCESSING TASKS | :   0%|          | 0/1 [00:00<?, ?it/s]"
      ]
     },
     "metadata": {},
     "output_type": "display_data"
    },
    {
     "data": {
      "application/vnd.jupyter.widget-view+json": {
       "model_id": "e5c6157186ba47d49b12de76873a5a99",
       "version_major": 2,
       "version_minor": 0
      },
      "text/plain": [
       "COLLECTING RESULTS | :   0%|          | 0/1 [00:00<?, ?it/s]"
      ]
     },
     "metadata": {},
     "output_type": "display_data"
    },
    {
     "name": "stdout",
     "output_type": "stream",
     "text": [
      "Time to complete granule: 238.24185919761658\n",
      "Granule ID: VNP14IMG.A2020240.0924.002.2024066041714.nc\n"
     ]
    },
    {
     "data": {
      "application/vnd.jupyter.widget-view+json": {
       "model_id": "8a74cdf385f64750915e61bfb1f3f85e",
       "version_major": 2,
       "version_minor": 0
      },
      "text/plain": [
       "QUEUEING TASKS | :   0%|          | 0/1 [00:00<?, ?it/s]"
      ]
     },
     "metadata": {},
     "output_type": "display_data"
    },
    {
     "data": {
      "application/vnd.jupyter.widget-view+json": {
       "model_id": "3eed926f62da413d98804a311b8193ed",
       "version_major": 2,
       "version_minor": 0
      },
      "text/plain": [
       "PROCESSING TASKS | :   0%|          | 0/1 [00:00<?, ?it/s]"
      ]
     },
     "metadata": {},
     "output_type": "display_data"
    },
    {
     "data": {
      "application/vnd.jupyter.widget-view+json": {
       "model_id": "4c581fa4505440d3a087385e08ab6c58",
       "version_major": 2,
       "version_minor": 0
      },
      "text/plain": [
       "COLLECTING RESULTS | :   0%|          | 0/1 [00:00<?, ?it/s]"
      ]
     },
     "metadata": {},
     "output_type": "display_data"
    },
    {
     "name": "stdout",
     "output_type": "stream",
     "text": [
      "Time to complete granule: 240.7674150466919\n",
      "Granule ID: VNP14IMG.A2020240.1906.002.2024066041712.nc\n"
     ]
    },
    {
     "data": {
      "application/vnd.jupyter.widget-view+json": {
       "model_id": "4c0e491b7b7246b7ae5b6873bd69b275",
       "version_major": 2,
       "version_minor": 0
      },
      "text/plain": [
       "QUEUEING TASKS | :   0%|          | 0/1 [00:00<?, ?it/s]"
      ]
     },
     "metadata": {},
     "output_type": "display_data"
    },
    {
     "data": {
      "application/vnd.jupyter.widget-view+json": {
       "model_id": "b2183643d51d456091fe220c0bce74b1",
       "version_major": 2,
       "version_minor": 0
      },
      "text/plain": [
       "PROCESSING TASKS | :   0%|          | 0/1 [00:00<?, ?it/s]"
      ]
     },
     "metadata": {},
     "output_type": "display_data"
    },
    {
     "data": {
      "application/vnd.jupyter.widget-view+json": {
       "model_id": "a33b1e13b02743e594811bd3dfa2caa6",
       "version_major": 2,
       "version_minor": 0
      },
      "text/plain": [
       "COLLECTING RESULTS | :   0%|          | 0/1 [00:00<?, ?it/s]"
      ]
     },
     "metadata": {},
     "output_type": "display_data"
    },
    {
     "name": "stdout",
     "output_type": "stream",
     "text": [
      "Time to complete granule: 243.13603830337524\n",
      "Granule ID: VJ114IMG.A2020240.2000.002.2024070180230.nc\n"
     ]
    },
    {
     "data": {
      "application/vnd.jupyter.widget-view+json": {
       "model_id": "78481d2c6f5c466da5c2ea906249e82a",
       "version_major": 2,
       "version_minor": 0
      },
      "text/plain": [
       "QUEUEING TASKS | :   0%|          | 0/1 [00:00<?, ?it/s]"
      ]
     },
     "metadata": {},
     "output_type": "display_data"
    },
    {
     "data": {
      "application/vnd.jupyter.widget-view+json": {
       "model_id": "8858fc74f9d54401a507e1aea94de41f",
       "version_major": 2,
       "version_minor": 0
      },
      "text/plain": [
       "PROCESSING TASKS | :   0%|          | 0/1 [00:00<?, ?it/s]"
      ]
     },
     "metadata": {},
     "output_type": "display_data"
    },
    {
     "data": {
      "application/vnd.jupyter.widget-view+json": {
       "model_id": "9d00718a22cb453fba5e09e0122d92ba",
       "version_major": 2,
       "version_minor": 0
      },
      "text/plain": [
       "COLLECTING RESULTS | :   0%|          | 0/1 [00:00<?, ?it/s]"
      ]
     },
     "metadata": {},
     "output_type": "display_data"
    },
    {
     "name": "stdout",
     "output_type": "stream",
     "text": [
      "Time to complete granule: 245.58836007118225\n",
      "Granule ID: VNP14IMG.A2020240.2048.002.2024066041718.nc\n"
     ]
    },
    {
     "data": {
      "application/vnd.jupyter.widget-view+json": {
       "model_id": "ae7b1fe37d9849b38d26bb700a68f6a8",
       "version_major": 2,
       "version_minor": 0
      },
      "text/plain": [
       "QUEUEING TASKS | :   0%|          | 0/1 [00:00<?, ?it/s]"
      ]
     },
     "metadata": {},
     "output_type": "display_data"
    },
    {
     "data": {
      "application/vnd.jupyter.widget-view+json": {
       "model_id": "51c11f9ea1f14c489da9d85f0cca8024",
       "version_major": 2,
       "version_minor": 0
      },
      "text/plain": [
       "PROCESSING TASKS | :   0%|          | 0/1 [00:00<?, ?it/s]"
      ]
     },
     "metadata": {},
     "output_type": "display_data"
    },
    {
     "data": {
      "application/vnd.jupyter.widget-view+json": {
       "model_id": "74e5660b835045f4b9f13d34d8ac584b",
       "version_major": 2,
       "version_minor": 0
      },
      "text/plain": [
       "COLLECTING RESULTS | :   0%|          | 0/1 [00:00<?, ?it/s]"
      ]
     },
     "metadata": {},
     "output_type": "display_data"
    },
    {
     "name": "stdout",
     "output_type": "stream",
     "text": [
      "Time to complete granule: 248.01054906845093\n",
      "Granule ID: VJ114IMG.A2020241.0818.002.2024070182731.nc\n"
     ]
    },
    {
     "data": {
      "application/vnd.jupyter.widget-view+json": {
       "model_id": "5bed7b9912a8432b882576cea0a0df23",
       "version_major": 2,
       "version_minor": 0
      },
      "text/plain": [
       "QUEUEING TASKS | :   0%|          | 0/1 [00:00<?, ?it/s]"
      ]
     },
     "metadata": {},
     "output_type": "display_data"
    },
    {
     "data": {
      "application/vnd.jupyter.widget-view+json": {
       "model_id": "45b9bb73eaa54989b498d8d0eae9f22e",
       "version_major": 2,
       "version_minor": 0
      },
      "text/plain": [
       "PROCESSING TASKS | :   0%|          | 0/1 [00:00<?, ?it/s]"
      ]
     },
     "metadata": {},
     "output_type": "display_data"
    },
    {
     "data": {
      "application/vnd.jupyter.widget-view+json": {
       "model_id": "f79a9e7b735147a3bf19f7fba1ab26e9",
       "version_major": 2,
       "version_minor": 0
      },
      "text/plain": [
       "COLLECTING RESULTS | :   0%|          | 0/1 [00:00<?, ?it/s]"
      ]
     },
     "metadata": {},
     "output_type": "display_data"
    },
    {
     "name": "stdout",
     "output_type": "stream",
     "text": [
      "Time to complete granule: 250.2782220840454\n",
      "Granule ID: VNP14IMG.A2020241.0906.002.2024066042611.nc\n"
     ]
    },
    {
     "data": {
      "application/vnd.jupyter.widget-view+json": {
       "model_id": "f0cb0d0f99a34318a2ad321983fea4ce",
       "version_major": 2,
       "version_minor": 0
      },
      "text/plain": [
       "QUEUEING TASKS | :   0%|          | 0/1 [00:00<?, ?it/s]"
      ]
     },
     "metadata": {},
     "output_type": "display_data"
    },
    {
     "data": {
      "application/vnd.jupyter.widget-view+json": {
       "model_id": "0c308268c19d483683c11c5905089d10",
       "version_major": 2,
       "version_minor": 0
      },
      "text/plain": [
       "PROCESSING TASKS | :   0%|          | 0/1 [00:00<?, ?it/s]"
      ]
     },
     "metadata": {},
     "output_type": "display_data"
    },
    {
     "data": {
      "application/vnd.jupyter.widget-view+json": {
       "model_id": "93d492f0b0f846a7b250a287ff980e64",
       "version_major": 2,
       "version_minor": 0
      },
      "text/plain": [
       "COLLECTING RESULTS | :   0%|          | 0/1 [00:00<?, ?it/s]"
      ]
     },
     "metadata": {},
     "output_type": "display_data"
    },
    {
     "name": "stdout",
     "output_type": "stream",
     "text": [
      "Time to complete granule: 252.61862421035767\n",
      "Granule ID: VJ114IMG.A2020241.1000.002.2024070182734.nc\n"
     ]
    },
    {
     "data": {
      "application/vnd.jupyter.widget-view+json": {
       "model_id": "04e1bd13883c4203be8f2a1c353fae12",
       "version_major": 2,
       "version_minor": 0
      },
      "text/plain": [
       "QUEUEING TASKS | :   0%|          | 0/1 [00:00<?, ?it/s]"
      ]
     },
     "metadata": {},
     "output_type": "display_data"
    },
    {
     "data": {
      "application/vnd.jupyter.widget-view+json": {
       "model_id": "9ddbb6f7addc41d6a1b7dbe0e32509e3",
       "version_major": 2,
       "version_minor": 0
      },
      "text/plain": [
       "PROCESSING TASKS | :   0%|          | 0/1 [00:00<?, ?it/s]"
      ]
     },
     "metadata": {},
     "output_type": "display_data"
    },
    {
     "data": {
      "application/vnd.jupyter.widget-view+json": {
       "model_id": "db2e7269fce84efaa37f114a9f3ad8b9",
       "version_major": 2,
       "version_minor": 0
      },
      "text/plain": [
       "COLLECTING RESULTS | :   0%|          | 0/1 [00:00<?, ?it/s]"
      ]
     },
     "metadata": {},
     "output_type": "display_data"
    },
    {
     "name": "stdout",
     "output_type": "stream",
     "text": [
      "Time to complete granule: 255.01186108589172\n",
      "Granule ID: VNP14IMG.A2020241.1848.002.2024066042613.nc\n"
     ]
    },
    {
     "data": {
      "application/vnd.jupyter.widget-view+json": {
       "model_id": "fa4ce7cbd13244c2a6fe79284d0b4b66",
       "version_major": 2,
       "version_minor": 0
      },
      "text/plain": [
       "QUEUEING TASKS | :   0%|          | 0/1 [00:00<?, ?it/s]"
      ]
     },
     "metadata": {},
     "output_type": "display_data"
    },
    {
     "data": {
      "application/vnd.jupyter.widget-view+json": {
       "model_id": "bcb9ee3c69c84907a6e933f069a64c98",
       "version_major": 2,
       "version_minor": 0
      },
      "text/plain": [
       "PROCESSING TASKS | :   0%|          | 0/1 [00:00<?, ?it/s]"
      ]
     },
     "metadata": {},
     "output_type": "display_data"
    },
    {
     "data": {
      "application/vnd.jupyter.widget-view+json": {
       "model_id": "0089de33e50e4262965e9549f58aa0a0",
       "version_major": 2,
       "version_minor": 0
      },
      "text/plain": [
       "COLLECTING RESULTS | :   0%|          | 0/1 [00:00<?, ?it/s]"
      ]
     },
     "metadata": {},
     "output_type": "display_data"
    },
    {
     "name": "stdout",
     "output_type": "stream",
     "text": [
      "Time to complete granule: 257.6259322166443\n",
      "Granule ID: VJ114IMG.A2020241.1942.002.2024070182730.nc\n"
     ]
    },
    {
     "data": {
      "application/vnd.jupyter.widget-view+json": {
       "model_id": "8ca5110ff0c14ee68940b0f72c32ae9f",
       "version_major": 2,
       "version_minor": 0
      },
      "text/plain": [
       "QUEUEING TASKS | :   0%|          | 0/1 [00:00<?, ?it/s]"
      ]
     },
     "metadata": {},
     "output_type": "display_data"
    },
    {
     "data": {
      "application/vnd.jupyter.widget-view+json": {
       "model_id": "3b4fb163d56a4d93b2eefb52f073cef5",
       "version_major": 2,
       "version_minor": 0
      },
      "text/plain": [
       "PROCESSING TASKS | :   0%|          | 0/1 [00:00<?, ?it/s]"
      ]
     },
     "metadata": {},
     "output_type": "display_data"
    },
    {
     "data": {
      "application/vnd.jupyter.widget-view+json": {
       "model_id": "d2f127617da24dca891be8a0fc0b1ff8",
       "version_major": 2,
       "version_minor": 0
      },
      "text/plain": [
       "COLLECTING RESULTS | :   0%|          | 0/1 [00:00<?, ?it/s]"
      ]
     },
     "metadata": {},
     "output_type": "display_data"
    },
    {
     "name": "stdout",
     "output_type": "stream",
     "text": [
      "Time to complete granule: 260.1904492378235\n",
      "Granule ID: VNP14IMG.A2020241.2030.002.2024066042614.nc\n"
     ]
    },
    {
     "data": {
      "application/vnd.jupyter.widget-view+json": {
       "model_id": "a49da0e0d21241cd9392d861cebc60f5",
       "version_major": 2,
       "version_minor": 0
      },
      "text/plain": [
       "QUEUEING TASKS | :   0%|          | 0/1 [00:00<?, ?it/s]"
      ]
     },
     "metadata": {},
     "output_type": "display_data"
    },
    {
     "data": {
      "application/vnd.jupyter.widget-view+json": {
       "model_id": "db1dd38cce1d421499619f1f1dd7317b",
       "version_major": 2,
       "version_minor": 0
      },
      "text/plain": [
       "PROCESSING TASKS | :   0%|          | 0/1 [00:00<?, ?it/s]"
      ]
     },
     "metadata": {},
     "output_type": "display_data"
    },
    {
     "data": {
      "application/vnd.jupyter.widget-view+json": {
       "model_id": "c505b6bbeeda4cf7aea5f5a0e4e88520",
       "version_major": 2,
       "version_minor": 0
      },
      "text/plain": [
       "COLLECTING RESULTS | :   0%|          | 0/1 [00:00<?, ?it/s]"
      ]
     },
     "metadata": {},
     "output_type": "display_data"
    },
    {
     "name": "stdout",
     "output_type": "stream",
     "text": [
      "Time to complete granule: 262.66793394088745\n",
      "Granule ID: VJ114IMG.A2020242.0800.002.2024070184804.nc\n"
     ]
    },
    {
     "data": {
      "application/vnd.jupyter.widget-view+json": {
       "model_id": "d29da7af2a2b4208a0ae5240b1cceb16",
       "version_major": 2,
       "version_minor": 0
      },
      "text/plain": [
       "QUEUEING TASKS | :   0%|          | 0/1 [00:00<?, ?it/s]"
      ]
     },
     "metadata": {},
     "output_type": "display_data"
    },
    {
     "data": {
      "application/vnd.jupyter.widget-view+json": {
       "model_id": "5ec4c433c8024a2389a74c9153c3206e",
       "version_major": 2,
       "version_minor": 0
      },
      "text/plain": [
       "PROCESSING TASKS | :   0%|          | 0/1 [00:00<?, ?it/s]"
      ]
     },
     "metadata": {},
     "output_type": "display_data"
    },
    {
     "data": {
      "application/vnd.jupyter.widget-view+json": {
       "model_id": "d6a28f1522574a99a7b8d1f4a7482b58",
       "version_major": 2,
       "version_minor": 0
      },
      "text/plain": [
       "COLLECTING RESULTS | :   0%|          | 0/1 [00:00<?, ?it/s]"
      ]
     },
     "metadata": {},
     "output_type": "display_data"
    },
    {
     "name": "stdout",
     "output_type": "stream",
     "text": [
      "Time to complete granule: 265.05736017227173\n",
      "Granule ID: VNP14IMG.A2020242.0848.002.2024066043636.nc\n"
     ]
    },
    {
     "data": {
      "application/vnd.jupyter.widget-view+json": {
       "model_id": "c09d97a50a6643af8dc93fc009f66d05",
       "version_major": 2,
       "version_minor": 0
      },
      "text/plain": [
       "QUEUEING TASKS | :   0%|          | 0/1 [00:00<?, ?it/s]"
      ]
     },
     "metadata": {},
     "output_type": "display_data"
    },
    {
     "data": {
      "application/vnd.jupyter.widget-view+json": {
       "model_id": "8d006aefaad84b87a2ad628780a300bb",
       "version_major": 2,
       "version_minor": 0
      },
      "text/plain": [
       "PROCESSING TASKS | :   0%|          | 0/1 [00:00<?, ?it/s]"
      ]
     },
     "metadata": {},
     "output_type": "display_data"
    },
    {
     "data": {
      "application/vnd.jupyter.widget-view+json": {
       "model_id": "28ecc67a7f514df8a75b984c5a28f797",
       "version_major": 2,
       "version_minor": 0
      },
      "text/plain": [
       "COLLECTING RESULTS | :   0%|          | 0/1 [00:00<?, ?it/s]"
      ]
     },
     "metadata": {},
     "output_type": "display_data"
    },
    {
     "name": "stdout",
     "output_type": "stream",
     "text": [
      "Time to complete granule: 267.50000524520874\n",
      "Granule ID: VJ114IMG.A2020242.0936.002.2024070184803.nc\n"
     ]
    },
    {
     "data": {
      "application/vnd.jupyter.widget-view+json": {
       "model_id": "61cae6271b2741ae995d7fed7c4ce314",
       "version_major": 2,
       "version_minor": 0
      },
      "text/plain": [
       "QUEUEING TASKS | :   0%|          | 0/1 [00:00<?, ?it/s]"
      ]
     },
     "metadata": {},
     "output_type": "display_data"
    },
    {
     "data": {
      "application/vnd.jupyter.widget-view+json": {
       "model_id": "fa73db5d667b404c8e5a7241c35ab54d",
       "version_major": 2,
       "version_minor": 0
      },
      "text/plain": [
       "PROCESSING TASKS | :   0%|          | 0/1 [00:00<?, ?it/s]"
      ]
     },
     "metadata": {},
     "output_type": "display_data"
    },
    {
     "data": {
      "application/vnd.jupyter.widget-view+json": {
       "model_id": "c5c08972b9b94995a792445f0724b841",
       "version_major": 2,
       "version_minor": 0
      },
      "text/plain": [
       "COLLECTING RESULTS | :   0%|          | 0/1 [00:00<?, ?it/s]"
      ]
     },
     "metadata": {},
     "output_type": "display_data"
    },
    {
     "name": "stdout",
     "output_type": "stream",
     "text": [
      "Time to complete granule: 269.73015117645264\n",
      "Granule ID: VJ114IMG.A2020242.1918.002.2024070184832.nc\n"
     ]
    },
    {
     "data": {
      "application/vnd.jupyter.widget-view+json": {
       "model_id": "6657fcd9e2cb40b3ada32bc85c38b4f3",
       "version_major": 2,
       "version_minor": 0
      },
      "text/plain": [
       "QUEUEING TASKS | :   0%|          | 0/1 [00:00<?, ?it/s]"
      ]
     },
     "metadata": {},
     "output_type": "display_data"
    },
    {
     "data": {
      "application/vnd.jupyter.widget-view+json": {
       "model_id": "7f569f5f7caa4958962897155e38fabf",
       "version_major": 2,
       "version_minor": 0
      },
      "text/plain": [
       "PROCESSING TASKS | :   0%|          | 0/1 [00:00<?, ?it/s]"
      ]
     },
     "metadata": {},
     "output_type": "display_data"
    },
    {
     "data": {
      "application/vnd.jupyter.widget-view+json": {
       "model_id": "a4495c8c95924f61a9a756f47dddefa5",
       "version_major": 2,
       "version_minor": 0
      },
      "text/plain": [
       "COLLECTING RESULTS | :   0%|          | 0/1 [00:00<?, ?it/s]"
      ]
     },
     "metadata": {},
     "output_type": "display_data"
    },
    {
     "name": "stdout",
     "output_type": "stream",
     "text": [
      "Time to complete granule: 272.10209107398987\n",
      "Granule ID: VNP14IMG.A2020242.2012.002.2024066043640.nc\n"
     ]
    },
    {
     "data": {
      "application/vnd.jupyter.widget-view+json": {
       "model_id": "0356c4362d534b878dedd7ac509b03b7",
       "version_major": 2,
       "version_minor": 0
      },
      "text/plain": [
       "QUEUEING TASKS | :   0%|          | 0/1 [00:00<?, ?it/s]"
      ]
     },
     "metadata": {},
     "output_type": "display_data"
    },
    {
     "data": {
      "application/vnd.jupyter.widget-view+json": {
       "model_id": "180ea0e213d140f589789090f83eb85f",
       "version_major": 2,
       "version_minor": 0
      },
      "text/plain": [
       "PROCESSING TASKS | :   0%|          | 0/1 [00:00<?, ?it/s]"
      ]
     },
     "metadata": {},
     "output_type": "display_data"
    },
    {
     "data": {
      "application/vnd.jupyter.widget-view+json": {
       "model_id": "af1f4833772342c0a4029ba132f9701e",
       "version_major": 2,
       "version_minor": 0
      },
      "text/plain": [
       "COLLECTING RESULTS | :   0%|          | 0/1 [00:00<?, ?it/s]"
      ]
     },
     "metadata": {},
     "output_type": "display_data"
    },
    {
     "name": "stdout",
     "output_type": "stream",
     "text": [
      "Time to complete granule: 274.67765831947327\n",
      "Granule ID: VJ114IMG.A2020242.2100.002.2024070184833.nc\n"
     ]
    },
    {
     "data": {
      "application/vnd.jupyter.widget-view+json": {
       "model_id": "cd1f6168ac664f9ca06dc2f2b91aefcc",
       "version_major": 2,
       "version_minor": 0
      },
      "text/plain": [
       "QUEUEING TASKS | :   0%|          | 0/1 [00:00<?, ?it/s]"
      ]
     },
     "metadata": {},
     "output_type": "display_data"
    },
    {
     "data": {
      "application/vnd.jupyter.widget-view+json": {
       "model_id": "8a852415f49c4aaf976692457d8df97a",
       "version_major": 2,
       "version_minor": 0
      },
      "text/plain": [
       "PROCESSING TASKS | :   0%|          | 0/1 [00:00<?, ?it/s]"
      ]
     },
     "metadata": {},
     "output_type": "display_data"
    },
    {
     "data": {
      "application/vnd.jupyter.widget-view+json": {
       "model_id": "b59a7add0df84e81ac6645923f494796",
       "version_major": 2,
       "version_minor": 0
      },
      "text/plain": [
       "COLLECTING RESULTS | :   0%|          | 0/1 [00:00<?, ?it/s]"
      ]
     },
     "metadata": {},
     "output_type": "display_data"
    },
    {
     "name": "stdout",
     "output_type": "stream",
     "text": [
      "Time to complete granule: 276.9591643810272\n",
      "Granule ID: VNP14IMG.A2020243.0830.002.2024066044718.nc\n"
     ]
    },
    {
     "data": {
      "application/vnd.jupyter.widget-view+json": {
       "model_id": "38c73fe9c6bf4a5daa3bb3ba7cc60a04",
       "version_major": 2,
       "version_minor": 0
      },
      "text/plain": [
       "QUEUEING TASKS | :   0%|          | 0/1 [00:00<?, ?it/s]"
      ]
     },
     "metadata": {},
     "output_type": "display_data"
    },
    {
     "data": {
      "application/vnd.jupyter.widget-view+json": {
       "model_id": "d8f7887648534cfba6eb903e5d2f607d",
       "version_major": 2,
       "version_minor": 0
      },
      "text/plain": [
       "PROCESSING TASKS | :   0%|          | 0/1 [00:00<?, ?it/s]"
      ]
     },
     "metadata": {},
     "output_type": "display_data"
    },
    {
     "data": {
      "application/vnd.jupyter.widget-view+json": {
       "model_id": "d6bd405c919a43d79fe76ffa96eadad8",
       "version_major": 2,
       "version_minor": 0
      },
      "text/plain": [
       "COLLECTING RESULTS | :   0%|          | 0/1 [00:00<?, ?it/s]"
      ]
     },
     "metadata": {},
     "output_type": "display_data"
    },
    {
     "name": "stdout",
     "output_type": "stream",
     "text": [
      "Time to complete granule: 279.1941740512848\n",
      "Granule ID: VJ114IMG.A2020243.0918.002.2024070190634.nc\n"
     ]
    },
    {
     "data": {
      "application/vnd.jupyter.widget-view+json": {
       "model_id": "dff96389ca2448e6883fbd4868874e64",
       "version_major": 2,
       "version_minor": 0
      },
      "text/plain": [
       "QUEUEING TASKS | :   0%|          | 0/1 [00:00<?, ?it/s]"
      ]
     },
     "metadata": {},
     "output_type": "display_data"
    },
    {
     "data": {
      "application/vnd.jupyter.widget-view+json": {
       "model_id": "aba292cd83d54c4db72df0432c21260c",
       "version_major": 2,
       "version_minor": 0
      },
      "text/plain": [
       "PROCESSING TASKS | :   0%|          | 0/1 [00:00<?, ?it/s]"
      ]
     },
     "metadata": {},
     "output_type": "display_data"
    },
    {
     "data": {
      "application/vnd.jupyter.widget-view+json": {
       "model_id": "8388cc4529cf4dc296ddcc63dd426cc6",
       "version_major": 2,
       "version_minor": 0
      },
      "text/plain": [
       "COLLECTING RESULTS | :   0%|          | 0/1 [00:00<?, ?it/s]"
      ]
     },
     "metadata": {},
     "output_type": "display_data"
    },
    {
     "name": "stdout",
     "output_type": "stream",
     "text": [
      "Time to complete granule: 282.0535292625427\n",
      "Granule ID: VNP14IMG.A2020243.1012.002.2024066044716.nc\n"
     ]
    },
    {
     "data": {
      "application/vnd.jupyter.widget-view+json": {
       "model_id": "374eb62e6cf24302818c241964710d92",
       "version_major": 2,
       "version_minor": 0
      },
      "text/plain": [
       "QUEUEING TASKS | :   0%|          | 0/1 [00:00<?, ?it/s]"
      ]
     },
     "metadata": {},
     "output_type": "display_data"
    },
    {
     "data": {
      "application/vnd.jupyter.widget-view+json": {
       "model_id": "9c6784d226a24affa5e6f1016ed5b25b",
       "version_major": 2,
       "version_minor": 0
      },
      "text/plain": [
       "PROCESSING TASKS | :   0%|          | 0/1 [00:00<?, ?it/s]"
      ]
     },
     "metadata": {},
     "output_type": "display_data"
    },
    {
     "data": {
      "application/vnd.jupyter.widget-view+json": {
       "model_id": "3fb3b7d6c9a7447aac598e64c2a28a7e",
       "version_major": 2,
       "version_minor": 0
      },
      "text/plain": [
       "COLLECTING RESULTS | :   0%|          | 0/1 [00:00<?, ?it/s]"
      ]
     },
     "metadata": {},
     "output_type": "display_data"
    },
    {
     "name": "stdout",
     "output_type": "stream",
     "text": [
      "Time to complete granule: 284.26113414764404\n",
      "Granule ID: VJ114IMG.A2020243.1900.002.2024070190633.nc\n"
     ]
    },
    {
     "data": {
      "application/vnd.jupyter.widget-view+json": {
       "model_id": "e0789f4633a9483d8c30d666c7032f90",
       "version_major": 2,
       "version_minor": 0
      },
      "text/plain": [
       "QUEUEING TASKS | :   0%|          | 0/1 [00:00<?, ?it/s]"
      ]
     },
     "metadata": {},
     "output_type": "display_data"
    },
    {
     "data": {
      "application/vnd.jupyter.widget-view+json": {
       "model_id": "594c09b09d834dc9a699260a06db197f",
       "version_major": 2,
       "version_minor": 0
      },
      "text/plain": [
       "PROCESSING TASKS | :   0%|          | 0/1 [00:00<?, ?it/s]"
      ]
     },
     "metadata": {},
     "output_type": "display_data"
    },
    {
     "data": {
      "application/vnd.jupyter.widget-view+json": {
       "model_id": "781e0d204f864e80b1d611401a05f583",
       "version_major": 2,
       "version_minor": 0
      },
      "text/plain": [
       "COLLECTING RESULTS | :   0%|          | 0/1 [00:00<?, ?it/s]"
      ]
     },
     "metadata": {},
     "output_type": "display_data"
    },
    {
     "name": "stdout",
     "output_type": "stream",
     "text": [
      "Time to complete granule: 286.94917821884155\n",
      "Granule ID: VNP14IMG.A2020243.1954.002.2024066044717.nc\n"
     ]
    },
    {
     "data": {
      "application/vnd.jupyter.widget-view+json": {
       "model_id": "6a80488f9105468ca2448716358a44f8",
       "version_major": 2,
       "version_minor": 0
      },
      "text/plain": [
       "QUEUEING TASKS | :   0%|          | 0/1 [00:00<?, ?it/s]"
      ]
     },
     "metadata": {},
     "output_type": "display_data"
    },
    {
     "data": {
      "application/vnd.jupyter.widget-view+json": {
       "model_id": "dd06f96bffd543a682426d3ff8edf460",
       "version_major": 2,
       "version_minor": 0
      },
      "text/plain": [
       "PROCESSING TASKS | :   0%|          | 0/1 [00:00<?, ?it/s]"
      ]
     },
     "metadata": {},
     "output_type": "display_data"
    },
    {
     "data": {
      "application/vnd.jupyter.widget-view+json": {
       "model_id": "fe43ccf63fa74f42986bd58fda6e8f8f",
       "version_major": 2,
       "version_minor": 0
      },
      "text/plain": [
       "COLLECTING RESULTS | :   0%|          | 0/1 [00:00<?, ?it/s]"
      ]
     },
     "metadata": {},
     "output_type": "display_data"
    },
    {
     "name": "stdout",
     "output_type": "stream",
     "text": [
      "Time to complete granule: 289.35420417785645\n",
      "Granule ID: VJ114IMG.A2020243.2042.002.2024070190636.nc\n"
     ]
    },
    {
     "data": {
      "application/vnd.jupyter.widget-view+json": {
       "model_id": "a85c1818e99c4407b2d3ac87065c12d1",
       "version_major": 2,
       "version_minor": 0
      },
      "text/plain": [
       "QUEUEING TASKS | :   0%|          | 0/1 [00:00<?, ?it/s]"
      ]
     },
     "metadata": {},
     "output_type": "display_data"
    },
    {
     "data": {
      "application/vnd.jupyter.widget-view+json": {
       "model_id": "2a12d10c0cd047b495896a9e372351cf",
       "version_major": 2,
       "version_minor": 0
      },
      "text/plain": [
       "PROCESSING TASKS | :   0%|          | 0/1 [00:00<?, ?it/s]"
      ]
     },
     "metadata": {},
     "output_type": "display_data"
    },
    {
     "data": {
      "application/vnd.jupyter.widget-view+json": {
       "model_id": "30db9ba2552748aa97d718b0e90606b9",
       "version_major": 2,
       "version_minor": 0
      },
      "text/plain": [
       "COLLECTING RESULTS | :   0%|          | 0/1 [00:00<?, ?it/s]"
      ]
     },
     "metadata": {},
     "output_type": "display_data"
    },
    {
     "name": "stdout",
     "output_type": "stream",
     "text": [
      "Time to complete granule: 291.9793541431427\n",
      "Granule ID: VNP14IMG.A2020244.0812.002.2024066050013.nc\n"
     ]
    },
    {
     "data": {
      "application/vnd.jupyter.widget-view+json": {
       "model_id": "b1c0f18f8aea41068c1989679a744265",
       "version_major": 2,
       "version_minor": 0
      },
      "text/plain": [
       "QUEUEING TASKS | :   0%|          | 0/1 [00:00<?, ?it/s]"
      ]
     },
     "metadata": {},
     "output_type": "display_data"
    },
    {
     "data": {
      "application/vnd.jupyter.widget-view+json": {
       "model_id": "cb32227a06d94075aba6308ad74ba98e",
       "version_major": 2,
       "version_minor": 0
      },
      "text/plain": [
       "PROCESSING TASKS | :   0%|          | 0/1 [00:00<?, ?it/s]"
      ]
     },
     "metadata": {},
     "output_type": "display_data"
    },
    {
     "data": {
      "application/vnd.jupyter.widget-view+json": {
       "model_id": "ba778d8e6ce14db19c0634e232cdacd3",
       "version_major": 2,
       "version_minor": 0
      },
      "text/plain": [
       "COLLECTING RESULTS | :   0%|          | 0/1 [00:00<?, ?it/s]"
      ]
     },
     "metadata": {},
     "output_type": "display_data"
    },
    {
     "name": "stdout",
     "output_type": "stream",
     "text": [
      "Time to complete granule: 294.41215896606445\n",
      "Granule ID: VJ114IMG.A2020244.0900.002.2024070192607.nc\n"
     ]
    },
    {
     "data": {
      "application/vnd.jupyter.widget-view+json": {
       "model_id": "a44f6e543d4a4737862293e764c60cc8",
       "version_major": 2,
       "version_minor": 0
      },
      "text/plain": [
       "QUEUEING TASKS | :   0%|          | 0/1 [00:00<?, ?it/s]"
      ]
     },
     "metadata": {},
     "output_type": "display_data"
    },
    {
     "data": {
      "application/vnd.jupyter.widget-view+json": {
       "model_id": "5706287be4284218be654d1b86c2ea52",
       "version_major": 2,
       "version_minor": 0
      },
      "text/plain": [
       "PROCESSING TASKS | :   0%|          | 0/1 [00:00<?, ?it/s]"
      ]
     },
     "metadata": {},
     "output_type": "display_data"
    },
    {
     "data": {
      "application/vnd.jupyter.widget-view+json": {
       "model_id": "0ac09a6bd71f480f83d0e7b8f778a268",
       "version_major": 2,
       "version_minor": 0
      },
      "text/plain": [
       "COLLECTING RESULTS | :   0%|          | 0/1 [00:00<?, ?it/s]"
      ]
     },
     "metadata": {},
     "output_type": "display_data"
    },
    {
     "name": "stdout",
     "output_type": "stream",
     "text": [
      "Time to complete granule: 296.786404132843\n",
      "Granule ID: VNP14IMG.A2020244.0954.002.2024066050019.nc\n"
     ]
    },
    {
     "data": {
      "application/vnd.jupyter.widget-view+json": {
       "model_id": "f9a07af97d74441789e6736e64e1ccc1",
       "version_major": 2,
       "version_minor": 0
      },
      "text/plain": [
       "QUEUEING TASKS | :   0%|          | 0/1 [00:00<?, ?it/s]"
      ]
     },
     "metadata": {},
     "output_type": "display_data"
    },
    {
     "data": {
      "application/vnd.jupyter.widget-view+json": {
       "model_id": "504a35500eb844f5903e741c99627df0",
       "version_major": 2,
       "version_minor": 0
      },
      "text/plain": [
       "PROCESSING TASKS | :   0%|          | 0/1 [00:00<?, ?it/s]"
      ]
     },
     "metadata": {},
     "output_type": "display_data"
    },
    {
     "data": {
      "application/vnd.jupyter.widget-view+json": {
       "model_id": "0d8f38a457e3408590a2518623703c0a",
       "version_major": 2,
       "version_minor": 0
      },
      "text/plain": [
       "COLLECTING RESULTS | :   0%|          | 0/1 [00:00<?, ?it/s]"
      ]
     },
     "metadata": {},
     "output_type": "display_data"
    },
    {
     "name": "stdout",
     "output_type": "stream",
     "text": [
      "Time to complete granule: 299.16205310821533\n",
      "Granule ID: VJ114IMG.A2020244.1842.002.2024070192633.nc\n"
     ]
    },
    {
     "data": {
      "application/vnd.jupyter.widget-view+json": {
       "model_id": "6e5e263264414ffcb3a7c07a57dffb7f",
       "version_major": 2,
       "version_minor": 0
      },
      "text/plain": [
       "QUEUEING TASKS | :   0%|          | 0/1 [00:00<?, ?it/s]"
      ]
     },
     "metadata": {},
     "output_type": "display_data"
    },
    {
     "data": {
      "application/vnd.jupyter.widget-view+json": {
       "model_id": "29c5a3e320634594b88c2ce9eeb3ac2e",
       "version_major": 2,
       "version_minor": 0
      },
      "text/plain": [
       "PROCESSING TASKS | :   0%|          | 0/1 [00:00<?, ?it/s]"
      ]
     },
     "metadata": {},
     "output_type": "display_data"
    },
    {
     "data": {
      "application/vnd.jupyter.widget-view+json": {
       "model_id": "4270214bd1ed43f2a80cff6e02fe3999",
       "version_major": 2,
       "version_minor": 0
      },
      "text/plain": [
       "COLLECTING RESULTS | :   0%|          | 0/1 [00:00<?, ?it/s]"
      ]
     },
     "metadata": {},
     "output_type": "display_data"
    },
    {
     "name": "stdout",
     "output_type": "stream",
     "text": [
      "Time to complete granule: 301.53734016418457\n",
      "Granule ID: VNP14IMG.A2020244.1936.002.2024066050014.nc\n"
     ]
    },
    {
     "data": {
      "application/vnd.jupyter.widget-view+json": {
       "model_id": "c6be0d308b884b27bcb3d4b4a1595328",
       "version_major": 2,
       "version_minor": 0
      },
      "text/plain": [
       "QUEUEING TASKS | :   0%|          | 0/1 [00:00<?, ?it/s]"
      ]
     },
     "metadata": {},
     "output_type": "display_data"
    },
    {
     "data": {
      "application/vnd.jupyter.widget-view+json": {
       "model_id": "3d1b4a137db94d2483c8373f4f416a20",
       "version_major": 2,
       "version_minor": 0
      },
      "text/plain": [
       "PROCESSING TASKS | :   0%|          | 0/1 [00:00<?, ?it/s]"
      ]
     },
     "metadata": {},
     "output_type": "display_data"
    },
    {
     "data": {
      "application/vnd.jupyter.widget-view+json": {
       "model_id": "91c17cadb53f40718d1842f1da3045d5",
       "version_major": 2,
       "version_minor": 0
      },
      "text/plain": [
       "COLLECTING RESULTS | :   0%|          | 0/1 [00:00<?, ?it/s]"
      ]
     },
     "metadata": {},
     "output_type": "display_data"
    },
    {
     "name": "stdout",
     "output_type": "stream",
     "text": [
      "Time to complete granule: 304.1431202888489\n",
      "Granule ID: VJ114IMG.A2020244.2024.002.2024070192632.nc\n"
     ]
    },
    {
     "data": {
      "application/vnd.jupyter.widget-view+json": {
       "model_id": "3aa15c5654d44b10b237e1b91f26e894",
       "version_major": 2,
       "version_minor": 0
      },
      "text/plain": [
       "QUEUEING TASKS | :   0%|          | 0/1 [00:00<?, ?it/s]"
      ]
     },
     "metadata": {},
     "output_type": "display_data"
    },
    {
     "data": {
      "application/vnd.jupyter.widget-view+json": {
       "model_id": "57bc0e901ec04b8db9f8af10301a4ba4",
       "version_major": 2,
       "version_minor": 0
      },
      "text/plain": [
       "PROCESSING TASKS | :   0%|          | 0/1 [00:00<?, ?it/s]"
      ]
     },
     "metadata": {},
     "output_type": "display_data"
    },
    {
     "data": {
      "application/vnd.jupyter.widget-view+json": {
       "model_id": "c8c46305e7a64c0f84191d105f957dcb",
       "version_major": 2,
       "version_minor": 0
      },
      "text/plain": [
       "COLLECTING RESULTS | :   0%|          | 0/1 [00:00<?, ?it/s]"
      ]
     },
     "metadata": {},
     "output_type": "display_data"
    },
    {
     "name": "stdout",
     "output_type": "stream",
     "text": [
      "Time to complete granule: 306.6945161819458\n",
      "Granule ID: VNP14IMG.A2020245.0754.002.2024066051104.nc\n"
     ]
    },
    {
     "data": {
      "application/vnd.jupyter.widget-view+json": {
       "model_id": "02d7bea00b124a70aa51a7c3fb40fb36",
       "version_major": 2,
       "version_minor": 0
      },
      "text/plain": [
       "QUEUEING TASKS | :   0%|          | 0/1 [00:00<?, ?it/s]"
      ]
     },
     "metadata": {},
     "output_type": "display_data"
    },
    {
     "data": {
      "application/vnd.jupyter.widget-view+json": {
       "model_id": "b194d2a5d41b4fb5848836c40dcca0b6",
       "version_major": 2,
       "version_minor": 0
      },
      "text/plain": [
       "PROCESSING TASKS | :   0%|          | 0/1 [00:00<?, ?it/s]"
      ]
     },
     "metadata": {},
     "output_type": "display_data"
    },
    {
     "data": {
      "application/vnd.jupyter.widget-view+json": {
       "model_id": "c95cfae7e84842fb91a613a05900d9ec",
       "version_major": 2,
       "version_minor": 0
      },
      "text/plain": [
       "COLLECTING RESULTS | :   0%|          | 0/1 [00:00<?, ?it/s]"
      ]
     },
     "metadata": {},
     "output_type": "display_data"
    },
    {
     "name": "stdout",
     "output_type": "stream",
     "text": [
      "Time to complete granule: 309.1357841491699\n",
      "Granule ID: VJ114IMG.A2020245.0842.002.2024070194358.nc\n"
     ]
    },
    {
     "data": {
      "application/vnd.jupyter.widget-view+json": {
       "model_id": "489de6fe22e7429b8647a3b1672eedce",
       "version_major": 2,
       "version_minor": 0
      },
      "text/plain": [
       "QUEUEING TASKS | :   0%|          | 0/1 [00:00<?, ?it/s]"
      ]
     },
     "metadata": {},
     "output_type": "display_data"
    },
    {
     "data": {
      "application/vnd.jupyter.widget-view+json": {
       "model_id": "5566bef2e8664dcc9ed42aee54780ecb",
       "version_major": 2,
       "version_minor": 0
      },
      "text/plain": [
       "PROCESSING TASKS | :   0%|          | 0/1 [00:00<?, ?it/s]"
      ]
     },
     "metadata": {},
     "output_type": "display_data"
    },
    {
     "data": {
      "application/vnd.jupyter.widget-view+json": {
       "model_id": "318cae5c71464dd8be58fcde13ce0398",
       "version_major": 2,
       "version_minor": 0
      },
      "text/plain": [
       "COLLECTING RESULTS | :   0%|          | 0/1 [00:00<?, ?it/s]"
      ]
     },
     "metadata": {},
     "output_type": "display_data"
    },
    {
     "name": "stdout",
     "output_type": "stream",
     "text": [
      "Time to complete granule: 311.5917372703552\n",
      "Granule ID: VNP14IMG.A2020245.0930.002.2024066051105.nc\n"
     ]
    },
    {
     "data": {
      "application/vnd.jupyter.widget-view+json": {
       "model_id": "ad84ce43c6bf4197829f244dc212ca7f",
       "version_major": 2,
       "version_minor": 0
      },
      "text/plain": [
       "QUEUEING TASKS | :   0%|          | 0/1 [00:00<?, ?it/s]"
      ]
     },
     "metadata": {},
     "output_type": "display_data"
    },
    {
     "data": {
      "application/vnd.jupyter.widget-view+json": {
       "model_id": "ac5888302d634dfa9c3283dd91be05c4",
       "version_major": 2,
       "version_minor": 0
      },
      "text/plain": [
       "PROCESSING TASKS | :   0%|          | 0/1 [00:00<?, ?it/s]"
      ]
     },
     "metadata": {},
     "output_type": "display_data"
    },
    {
     "data": {
      "application/vnd.jupyter.widget-view+json": {
       "model_id": "496cb85a911f431c8026e9c45b138e0f",
       "version_major": 2,
       "version_minor": 0
      },
      "text/plain": [
       "COLLECTING RESULTS | :   0%|          | 0/1 [00:00<?, ?it/s]"
      ]
     },
     "metadata": {},
     "output_type": "display_data"
    },
    {
     "name": "stdout",
     "output_type": "stream",
     "text": [
      "Time to complete granule: 313.82921600341797\n",
      "Granule ID: VNP14IMG.A2020245.0936.002.2024066051105.nc\n"
     ]
    },
    {
     "data": {
      "application/vnd.jupyter.widget-view+json": {
       "model_id": "1151b93b0f3b4b2a858f42d7b88a842b",
       "version_major": 2,
       "version_minor": 0
      },
      "text/plain": [
       "QUEUEING TASKS | :   0%|          | 0/1 [00:00<?, ?it/s]"
      ]
     },
     "metadata": {},
     "output_type": "display_data"
    },
    {
     "data": {
      "application/vnd.jupyter.widget-view+json": {
       "model_id": "d51eb42ddf9946b6a7347c706a9a49a7",
       "version_major": 2,
       "version_minor": 0
      },
      "text/plain": [
       "PROCESSING TASKS | :   0%|          | 0/1 [00:00<?, ?it/s]"
      ]
     },
     "metadata": {},
     "output_type": "display_data"
    },
    {
     "data": {
      "application/vnd.jupyter.widget-view+json": {
       "model_id": "f39e1f0c2b2a435fbee924d781409fd8",
       "version_major": 2,
       "version_minor": 0
      },
      "text/plain": [
       "COLLECTING RESULTS | :   0%|          | 0/1 [00:00<?, ?it/s]"
      ]
     },
     "metadata": {},
     "output_type": "display_data"
    },
    {
     "name": "stdout",
     "output_type": "stream",
     "text": [
      "Time to complete granule: 316.19170212745667\n",
      "Granule ID: VNP14IMG.A2020245.1918.002.2024066051106.nc\n"
     ]
    },
    {
     "data": {
      "application/vnd.jupyter.widget-view+json": {
       "model_id": "7a9d6f99edab416b97366c1a9bad3c95",
       "version_major": 2,
       "version_minor": 0
      },
      "text/plain": [
       "QUEUEING TASKS | :   0%|          | 0/1 [00:00<?, ?it/s]"
      ]
     },
     "metadata": {},
     "output_type": "display_data"
    },
    {
     "data": {
      "application/vnd.jupyter.widget-view+json": {
       "model_id": "f5dc50e768c5413cb6cdcc09cdad4a85",
       "version_major": 2,
       "version_minor": 0
      },
      "text/plain": [
       "PROCESSING TASKS | :   0%|          | 0/1 [00:00<?, ?it/s]"
      ]
     },
     "metadata": {},
     "output_type": "display_data"
    },
    {
     "data": {
      "application/vnd.jupyter.widget-view+json": {
       "model_id": "e59f5be02e224d50b3937733b60a583e",
       "version_major": 2,
       "version_minor": 0
      },
      "text/plain": [
       "COLLECTING RESULTS | :   0%|          | 0/1 [00:00<?, ?it/s]"
      ]
     },
     "metadata": {},
     "output_type": "display_data"
    },
    {
     "name": "stdout",
     "output_type": "stream",
     "text": [
      "Time to complete granule: 318.68782210350037\n",
      "Granule ID: VJ114IMG.A2020245.2006.002.2024070194400.nc\n"
     ]
    },
    {
     "data": {
      "application/vnd.jupyter.widget-view+json": {
       "model_id": "5149714a990348adb44ad19eaaf9fc98",
       "version_major": 2,
       "version_minor": 0
      },
      "text/plain": [
       "QUEUEING TASKS | :   0%|          | 0/1 [00:00<?, ?it/s]"
      ]
     },
     "metadata": {},
     "output_type": "display_data"
    },
    {
     "data": {
      "application/vnd.jupyter.widget-view+json": {
       "model_id": "717785fe2eb2403b836fc6e7b6bd8934",
       "version_major": 2,
       "version_minor": 0
      },
      "text/plain": [
       "PROCESSING TASKS | :   0%|          | 0/1 [00:00<?, ?it/s]"
      ]
     },
     "metadata": {},
     "output_type": "display_data"
    },
    {
     "data": {
      "application/vnd.jupyter.widget-view+json": {
       "model_id": "8d1e08b903804883bd034fcabc97bd4a",
       "version_major": 2,
       "version_minor": 0
      },
      "text/plain": [
       "COLLECTING RESULTS | :   0%|          | 0/1 [00:00<?, ?it/s]"
      ]
     },
     "metadata": {},
     "output_type": "display_data"
    },
    {
     "name": "stdout",
     "output_type": "stream",
     "text": [
      "Time to complete granule: 321.12201023101807\n",
      "Granule ID: VNP14IMG.A2020245.2054.002.2024066051105.nc\n"
     ]
    },
    {
     "data": {
      "application/vnd.jupyter.widget-view+json": {
       "model_id": "73f967511c9841c5a7bb05ef84bbd4a9",
       "version_major": 2,
       "version_minor": 0
      },
      "text/plain": [
       "QUEUEING TASKS | :   0%|          | 0/1 [00:00<?, ?it/s]"
      ]
     },
     "metadata": {},
     "output_type": "display_data"
    },
    {
     "data": {
      "application/vnd.jupyter.widget-view+json": {
       "model_id": "9f6350ff1aea47f1bb5c5001ef380347",
       "version_major": 2,
       "version_minor": 0
      },
      "text/plain": [
       "PROCESSING TASKS | :   0%|          | 0/1 [00:00<?, ?it/s]"
      ]
     },
     "metadata": {},
     "output_type": "display_data"
    },
    {
     "data": {
      "application/vnd.jupyter.widget-view+json": {
       "model_id": "d6a678f74f0a4a919ea800cb34d43088",
       "version_major": 2,
       "version_minor": 0
      },
      "text/plain": [
       "COLLECTING RESULTS | :   0%|          | 0/1 [00:00<?, ?it/s]"
      ]
     },
     "metadata": {},
     "output_type": "display_data"
    },
    {
     "name": "stdout",
     "output_type": "stream",
     "text": [
      "Time to complete granule: 324.1732702255249\n",
      "Granule ID: VJ114IMG.A2020246.0824.002.2024070200057.nc\n"
     ]
    },
    {
     "data": {
      "application/vnd.jupyter.widget-view+json": {
       "model_id": "153a2b09b4f34fa0a2f942ae221ece03",
       "version_major": 2,
       "version_minor": 0
      },
      "text/plain": [
       "QUEUEING TASKS | :   0%|          | 0/1 [00:00<?, ?it/s]"
      ]
     },
     "metadata": {},
     "output_type": "display_data"
    },
    {
     "data": {
      "application/vnd.jupyter.widget-view+json": {
       "model_id": "f8c3b86819b046fdbc1c3cd3ebb7c9c8",
       "version_major": 2,
       "version_minor": 0
      },
      "text/plain": [
       "PROCESSING TASKS | :   0%|          | 0/1 [00:00<?, ?it/s]"
      ]
     },
     "metadata": {},
     "output_type": "display_data"
    },
    {
     "data": {
      "application/vnd.jupyter.widget-view+json": {
       "model_id": "1d9cd5e2a8c14a9e9f4c289e71ec847d",
       "version_major": 2,
       "version_minor": 0
      },
      "text/plain": [
       "COLLECTING RESULTS | :   0%|          | 0/1 [00:00<?, ?it/s]"
      ]
     },
     "metadata": {},
     "output_type": "display_data"
    },
    {
     "name": "stdout",
     "output_type": "stream",
     "text": [
      "Time to complete granule: 326.3471963405609\n",
      "Granule ID: VNP14IMG.A2020246.0912.002.2024066052023.nc\n"
     ]
    },
    {
     "data": {
      "application/vnd.jupyter.widget-view+json": {
       "model_id": "5df17d6884fa49fe909a56b2e98367ff",
       "version_major": 2,
       "version_minor": 0
      },
      "text/plain": [
       "QUEUEING TASKS | :   0%|          | 0/1 [00:00<?, ?it/s]"
      ]
     },
     "metadata": {},
     "output_type": "display_data"
    },
    {
     "data": {
      "application/vnd.jupyter.widget-view+json": {
       "model_id": "f7fc67a9da5042daa1a0def6b2f1a30d",
       "version_major": 2,
       "version_minor": 0
      },
      "text/plain": [
       "PROCESSING TASKS | :   0%|          | 0/1 [00:00<?, ?it/s]"
      ]
     },
     "metadata": {},
     "output_type": "display_data"
    },
    {
     "data": {
      "application/vnd.jupyter.widget-view+json": {
       "model_id": "1905e4bc640946b2a7927e04b8fccac0",
       "version_major": 2,
       "version_minor": 0
      },
      "text/plain": [
       "COLLECTING RESULTS | :   0%|          | 0/1 [00:00<?, ?it/s]"
      ]
     },
     "metadata": {},
     "output_type": "display_data"
    },
    {
     "name": "stdout",
     "output_type": "stream",
     "text": [
      "Time to complete granule: 328.5404841899872\n",
      "Granule ID: VJ114IMG.A2020246.1006.002.2024070200101.nc\n"
     ]
    },
    {
     "data": {
      "application/vnd.jupyter.widget-view+json": {
       "model_id": "eb282892113c41b5afb16ca923b9b3a2",
       "version_major": 2,
       "version_minor": 0
      },
      "text/plain": [
       "QUEUEING TASKS | :   0%|          | 0/1 [00:00<?, ?it/s]"
      ]
     },
     "metadata": {},
     "output_type": "display_data"
    },
    {
     "data": {
      "application/vnd.jupyter.widget-view+json": {
       "model_id": "c25e6b02f8c04c1eb81c4b2faf36acdf",
       "version_major": 2,
       "version_minor": 0
      },
      "text/plain": [
       "PROCESSING TASKS | :   0%|          | 0/1 [00:00<?, ?it/s]"
      ]
     },
     "metadata": {},
     "output_type": "display_data"
    },
    {
     "data": {
      "application/vnd.jupyter.widget-view+json": {
       "model_id": "bb9ea8065f78465098027285e7067b31",
       "version_major": 2,
       "version_minor": 0
      },
      "text/plain": [
       "COLLECTING RESULTS | :   0%|          | 0/1 [00:00<?, ?it/s]"
      ]
     },
     "metadata": {},
     "output_type": "display_data"
    },
    {
     "name": "stdout",
     "output_type": "stream",
     "text": [
      "Time to complete granule: 330.75938725471497\n",
      "Granule ID: VNP14IMG.A2020246.1854.002.2024066052022.nc\n"
     ]
    },
    {
     "data": {
      "application/vnd.jupyter.widget-view+json": {
       "model_id": "3f96f5332f154b5aa6e644cdb77076c6",
       "version_major": 2,
       "version_minor": 0
      },
      "text/plain": [
       "QUEUEING TASKS | :   0%|          | 0/1 [00:00<?, ?it/s]"
      ]
     },
     "metadata": {},
     "output_type": "display_data"
    },
    {
     "data": {
      "application/vnd.jupyter.widget-view+json": {
       "model_id": "b76e94bf641c4de9baafcf14dae56b6f",
       "version_major": 2,
       "version_minor": 0
      },
      "text/plain": [
       "PROCESSING TASKS | :   0%|          | 0/1 [00:00<?, ?it/s]"
      ]
     },
     "metadata": {},
     "output_type": "display_data"
    },
    {
     "data": {
      "application/vnd.jupyter.widget-view+json": {
       "model_id": "2614cb8bb0d049d488e37835431118d7",
       "version_major": 2,
       "version_minor": 0
      },
      "text/plain": [
       "COLLECTING RESULTS | :   0%|          | 0/1 [00:00<?, ?it/s]"
      ]
     },
     "metadata": {},
     "output_type": "display_data"
    },
    {
     "name": "stdout",
     "output_type": "stream",
     "text": [
      "Time to complete granule: 333.05200719833374\n",
      "Granule ID: VJ114IMG.A2020246.1948.002.2024070200059.nc\n"
     ]
    },
    {
     "data": {
      "application/vnd.jupyter.widget-view+json": {
       "model_id": "b0bfbc86a3d24ebbb75ade5be332892a",
       "version_major": 2,
       "version_minor": 0
      },
      "text/plain": [
       "QUEUEING TASKS | :   0%|          | 0/1 [00:00<?, ?it/s]"
      ]
     },
     "metadata": {},
     "output_type": "display_data"
    },
    {
     "data": {
      "application/vnd.jupyter.widget-view+json": {
       "model_id": "5df56acf5396490bb1bda00112f6c992",
       "version_major": 2,
       "version_minor": 0
      },
      "text/plain": [
       "PROCESSING TASKS | :   0%|          | 0/1 [00:00<?, ?it/s]"
      ]
     },
     "metadata": {},
     "output_type": "display_data"
    },
    {
     "data": {
      "application/vnd.jupyter.widget-view+json": {
       "model_id": "2f27a667c4084e27ab98c21d8e678650",
       "version_major": 2,
       "version_minor": 0
      },
      "text/plain": [
       "COLLECTING RESULTS | :   0%|          | 0/1 [00:00<?, ?it/s]"
      ]
     },
     "metadata": {},
     "output_type": "display_data"
    },
    {
     "name": "stdout",
     "output_type": "stream",
     "text": [
      "Time to complete granule: 335.4778881072998\n",
      "Granule ID: VNP14IMG.A2020246.2036.002.2024066052018.nc\n"
     ]
    },
    {
     "data": {
      "application/vnd.jupyter.widget-view+json": {
       "model_id": "ab537640378e4a018cb63226fa646343",
       "version_major": 2,
       "version_minor": 0
      },
      "text/plain": [
       "QUEUEING TASKS | :   0%|          | 0/1 [00:00<?, ?it/s]"
      ]
     },
     "metadata": {},
     "output_type": "display_data"
    },
    {
     "data": {
      "application/vnd.jupyter.widget-view+json": {
       "model_id": "f72afbba1e104f2b84c44372d595cd14",
       "version_major": 2,
       "version_minor": 0
      },
      "text/plain": [
       "PROCESSING TASKS | :   0%|          | 0/1 [00:00<?, ?it/s]"
      ]
     },
     "metadata": {},
     "output_type": "display_data"
    },
    {
     "data": {
      "application/vnd.jupyter.widget-view+json": {
       "model_id": "fe8d45f2e748469c92cee6c4704670c6",
       "version_major": 2,
       "version_minor": 0
      },
      "text/plain": [
       "COLLECTING RESULTS | :   0%|          | 0/1 [00:00<?, ?it/s]"
      ]
     },
     "metadata": {},
     "output_type": "display_data"
    },
    {
     "name": "stdout",
     "output_type": "stream",
     "text": [
      "Time to complete granule: 337.88052320480347\n"
     ]
    }
   ],
   "source": [
    "t0 = time.time()\n",
    "\n",
    "dest = os.path.join(maindir,'aspen-fire/Aim2/data/spatial/raw/VNP14IMG/')\n",
    "if not os.path.exists(dest):\n",
    "    os.makedirs(dest)\n",
    "    \n",
    "# Retrieve granule asset ID from URL (to maintain existing naming convention)\n",
    "for url in results_urls:\n",
    "    granule_id = os.path.basename(url[0])\n",
    "    print(f\"Granule ID: {granule_id}\")\n",
    "    \n",
    "    fp = os.path.join(dest,f'{granule_id}')\n",
    "\n",
    "    # Download the Granule Asset if it doesn't exist\n",
    "    if not os.path.isfile(fp):\n",
    "        earthaccess.download(url[0], local_path=fp)\n",
    "    else:\n",
    "        print(\"*** Already downloaded ***\")\n",
    "        print(\" \")\n",
    "\n",
    "    print('Time to complete granule:', time.time() - t0)"
   ]
  }
 ],
 "metadata": {
  "kernelspec": {
   "display_name": "aspen-fire",
   "language": "python",
   "name": "aspen-fire"
  },
  "language_info": {
   "codemirror_mode": {
    "name": "ipython",
    "version": 3
   },
   "file_extension": ".py",
   "mimetype": "text/x-python",
   "name": "python",
   "nbconvert_exporter": "python",
   "pygments_lexer": "ipython3",
   "version": "3.10.12"
  }
 },
 "nbformat": 4,
 "nbformat_minor": 5
}
