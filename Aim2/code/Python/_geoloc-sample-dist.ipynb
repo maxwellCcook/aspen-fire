{
 "cells": [
  {
   "cell_type": "code",
   "execution_count": 5,
   "id": "69ae29dd-372f-4682-a546-588b5e2858c7",
   "metadata": {},
   "outputs": [
    {
     "name": "stdout",
     "output_type": "stream",
     "text": [
      "Ready !\n"
     ]
    }
   ],
   "source": [
    "\"\"\"\n",
    "Calculates the average distance between nearest points\n",
    "From the geolocated AFD and the non-geolocated\n",
    "Author: maxwell.cook@colorado.edu\n",
    "\"\"\"\n",
    "\n",
    "import os, sys, time\n",
    "import pandas as pd\n",
    "import geopandas as gpd\n",
    "import numpy as np\n",
    "\n",
    "from scipy.spatial import cKDTree\n",
    "\n",
    "import warnings\n",
    "warnings.filterwarnings(\"ignore\")\n",
    "\n",
    "# Projection information\n",
    "geog = 'EPSG:4326'  # Geographic projection\n",
    "prj = 'EPSG:5070'  # Projected coordinate system- WGS 84 NAD83 UTM Zone 13N\n",
    "\n",
    "# File path information\n",
    "maindir = '/Users/max/Library/CloudStorage/OneDrive-Personal/mcook/'\n",
    "projdir = os.path.join(maindir, 'aspen-fire/Aim2/')\n",
    "\n",
    "print(\"Ready !\")"
   ]
  },
  {
   "cell_type": "code",
   "execution_count": 9,
   "id": "73410473-804f-4154-8a49-6a3446a1ff34",
   "metadata": {},
   "outputs": [
    {
     "name": "stdout",
     "output_type": "stream",
     "text": [
      "64143\n",
      "64963\n"
     ]
    }
   ],
   "source": [
    "# Load the VIIRS active fire data\n",
    "geo_fp = os.path.join(projdir,'data/spatial/mod/VIIRS/vnp14img_geo_srm_pix_latlon_aspenfires.gpkg')\n",
    "viirs_geo = gpd.read_file(geo_fp) # the geolocated data\n",
    "fire_ids = list(viirs_geo['Fire_ID'].unique())\n",
    "print(len(viirs_geo))\n",
    "\n",
    "ngeo_fp = os.path.join(projdir,'data/spatial/mod/FIRMS/SNPP/SNPP-afd_aspen-fires_2018_to_2023.gpkg')\n",
    "viirs_ngeo = gpd.read_file(ngeo_fp)\n",
    "viirs_ngeo = viirs_ngeo[(viirs_ngeo['na_l3name'] == 'Southern Rockies') & (viirs_ngeo['NIFC_ID'].isin(fire_ids))]\n",
    "print(len(viirs_ngeo))"
   ]
  },
  {
   "cell_type": "code",
   "execution_count": null,
   "id": "74057360-3ddc-4d00-af49-4c94a7d5b96f",
   "metadata": {},
   "outputs": [],
   "source": [
    "# Set up the cKDTree between points"
   ]
  },
  {
   "cell_type": "code",
   "execution_count": 15,
   "id": "285e3f84-3788-4e73-99ba-2977854e6e47",
   "metadata": {},
   "outputs": [
    {
     "data": {
      "text/plain": [
       "61.40914252939028"
      ]
     },
     "execution_count": 15,
     "metadata": {},
     "output_type": "execute_result"
    }
   ],
   "source": [
    "from pyproj import Transformer\n",
    "\n",
    "# calculate the average distance in meters\n",
    "transformer = Transformer.from_crs(\"EPSG:4326\", \"EPSG:32613\", always_xy=True)  \n",
    "# Transform lat/lon to UTM (x/y in meters)\n",
    "geo_coords = np.array(transformer.transform(\n",
    "    viirs_geo['longitude'].values, viirs_geo['latitude'].values\n",
    ")).T\n",
    "ngeo_coords = np.array(transformer.transform(\n",
    "    viirs_ngeo['LONGITUDE'].values, viirs_ngeo['LATITUDE'].values\n",
    ")).T\n",
    "\n",
    "tree = cKDTree(geo_coords)\n",
    "distances, _ = tree.query(ngeo_coords, k=1)\n",
    "distances.mean()"
   ]
  },
  {
   "cell_type": "code",
   "execution_count": null,
   "id": "1ec537d8-f5eb-450e-8903-527c5102ccaf",
   "metadata": {},
   "outputs": [],
   "source": []
  }
 ],
 "metadata": {
  "kernelspec": {
   "display_name": "aspen-fire",
   "language": "python",
   "name": "aspen-fire"
  },
  "language_info": {
   "codemirror_mode": {
    "name": "ipython",
    "version": 3
   },
   "file_extension": ".py",
   "mimetype": "text/x-python",
   "name": "python",
   "nbconvert_exporter": "python",
   "pygments_lexer": "ipython3",
   "version": "3.10.12"
  }
 },
 "nbformat": 4,
 "nbformat_minor": 5
}
