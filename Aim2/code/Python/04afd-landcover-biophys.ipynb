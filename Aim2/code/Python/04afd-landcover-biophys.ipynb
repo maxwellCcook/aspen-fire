{
 "cells": [
  {
   "cell_type": "code",
   "execution_count": 1,
   "id": "ba44202a-9fdb-4249-9cb3-039c1d0744f5",
   "metadata": {},
   "outputs": [
    {
     "name": "stdout",
     "output_type": "stream",
     "text": [
      "Ready to go !\n"
     ]
    }
   ],
   "source": [
    "\"\"\"\n",
    "LANDFIRE assessments for MODIS and VIIRS AFDs western U.S.\n",
    "\n",
    "Data sources:\n",
    "    - LANDFIRE Biophysical Setting (BPS)\n",
    "    - LANDFIRE Existing Vegetation Type (EVT) proportional cover\n",
    "    - Sentinel-based aspen cover (Cook et al.)\n",
    "    - LANDFIRE Canopy Bulk Density (CBD) mean\n",
    "    - LANDIFRE Canopy Base Height (CBH) mean\n",
    "    - LANDFIRE Canopy Cover (CC) percentage\n",
    "    \n",
    "Author: maxwell.cook@colorado.edu\n",
    "\"\"\"\n",
    "\n",
    "import os, sys, gc, time\n",
    "import geopandas as gpd\n",
    "import rioxarray as rxr\n",
    "import seaborn as sns\n",
    "import matplotlib.pyplot as plt\n",
    "\n",
    "# Custom functions\n",
    "sys.path.append(os.path.join(os.getcwd(),'code/'))\n",
    "from __functions import *\n",
    "\n",
    "proj = 'EPSG:5070'\n",
    "\n",
    "maindir = '/Users/max/Library/CloudStorage/OneDrive-Personal/mcook/'\n",
    "projdir = os.path.join(maindir, 'aspen-fire/Aim2/')\n",
    "\n",
    "print(\"Ready to go !\")"
   ]
  },
  {
   "cell_type": "code",
   "execution_count": 2,
   "id": "6c49dc55-bb2a-4669-a6c7-71a29a08ff19",
   "metadata": {},
   "outputs": [
    {
     "data": {
      "text/plain": [
       "Index(['LATITUDE', 'LONGITUDE', 'BRIGHTNESS', 'SCAN', 'TRACK', 'ACQ_DATE',\n",
       "       'ACQ_TIME', 'SATELLITE', 'INSTRUMENT', 'CONFIDENCE', 'VERSION',\n",
       "       'BRIGHT_T31', 'FRP', 'DAYNIGHT', 'TYPE', 'VID', 'NIFC_ID', 'NIFC_NAME',\n",
       "       'START_YEAR', 'DISCOVERY_DATE', 'WF_CESSATION_DATE', 'na_l3name',\n",
       "       'ACQ_MONTH', 'ACQ_YEAR', 'ACQ_DATETIME', 'afdID', 'geometry'],\n",
       "      dtype='object')"
      ]
     },
     "execution_count": 2,
     "metadata": {},
     "output_type": "execute_result"
    }
   ],
   "source": [
    "# Load the combined MODIS and VIIRS AFDs (buffered)\n",
    "fp = os.path.join(projdir,f'data/spatial/mod/AFD/combined-afd_aspen-fires_2018_to_2023_buffer.gpkg')\n",
    "afds = gpd.read_file(fp)\n",
    "afds.columns"
   ]
  },
  {
   "cell_type": "code",
   "execution_count": 3,
   "id": "3cfc236c-4465-4663-b7d3-82ee47f68a7e",
   "metadata": {},
   "outputs": [
    {
     "data": {
      "text/html": [
       "<div>\n",
       "<style scoped>\n",
       "    .dataframe tbody tr th:only-of-type {\n",
       "        vertical-align: middle;\n",
       "    }\n",
       "\n",
       "    .dataframe tbody tr th {\n",
       "        vertical-align: top;\n",
       "    }\n",
       "\n",
       "    .dataframe thead th {\n",
       "        text-align: right;\n",
       "    }\n",
       "</style>\n",
       "<table border=\"1\" class=\"dataframe\">\n",
       "  <thead>\n",
       "    <tr style=\"text-align: right;\">\n",
       "      <th></th>\n",
       "      <th>afdID</th>\n",
       "      <th>geometry</th>\n",
       "    </tr>\n",
       "  </thead>\n",
       "  <tbody>\n",
       "    <tr>\n",
       "      <th>0</th>\n",
       "      <td>MODIS7298</td>\n",
       "      <td>POLYGON ((-1334259.255 1940525.281, -1334259.2...</td>\n",
       "    </tr>\n",
       "    <tr>\n",
       "      <th>1</th>\n",
       "      <td>MODIS7301</td>\n",
       "      <td>POLYGON ((-1335247.149 1940508.597, -1335247.1...</td>\n",
       "    </tr>\n",
       "    <tr>\n",
       "      <th>2</th>\n",
       "      <td>MODIS7989</td>\n",
       "      <td>POLYGON ((-1149036.475 2035501.025, -1149036.4...</td>\n",
       "    </tr>\n",
       "    <tr>\n",
       "      <th>3</th>\n",
       "      <td>MODIS7990</td>\n",
       "      <td>POLYGON ((-1148030.494 2035535.701, -1148030.4...</td>\n",
       "    </tr>\n",
       "    <tr>\n",
       "      <th>4</th>\n",
       "      <td>MODIS7991</td>\n",
       "      <td>POLYGON ((-1148997.363 2034487.930, -1148997.3...</td>\n",
       "    </tr>\n",
       "  </tbody>\n",
       "</table>\n",
       "</div>"
      ],
      "text/plain": [
       "       afdID                                           geometry\n",
       "0  MODIS7298  POLYGON ((-1334259.255 1940525.281, -1334259.2...\n",
       "1  MODIS7301  POLYGON ((-1335247.149 1940508.597, -1335247.1...\n",
       "2  MODIS7989  POLYGON ((-1149036.475 2035501.025, -1149036.4...\n",
       "3  MODIS7990  POLYGON ((-1148030.494 2035535.701, -1148030.4...\n",
       "4  MODIS7991  POLYGON ((-1148997.363 2034487.930, -1148997.3..."
      ]
     },
     "execution_count": 3,
     "metadata": {},
     "output_type": "execute_result"
    }
   ],
   "source": [
    "# Tidy columns for simplicity.\n",
    "afds_ = afds[['afdID','geometry']]\n",
    "afds_.head()"
   ]
  },
  {
   "cell_type": "code",
   "execution_count": 4,
   "id": "81dd3bf0-8fe9-495e-8b04-7d4498e171a1",
   "metadata": {},
   "outputs": [],
   "source": [
    "bounds = afds_.total_bounds # for cropping"
   ]
  },
  {
   "cell_type": "code",
   "execution_count": null,
   "id": "8aadbca6-f60f-4914-9be2-eded1626ba80",
   "metadata": {},
   "outputs": [],
   "source": []
  },
  {
   "cell_type": "markdown",
   "id": "821899cc-7e15-47fb-a913-1bec1b823f31",
   "metadata": {},
   "source": [
    "## LANDFIRE Biophysical Setting (BPS) c.a. 2016"
   ]
  },
  {
   "cell_type": "code",
   "execution_count": 5,
   "id": "8802e5f4-9838-481a-b092-1957b34ac05f",
   "metadata": {},
   "outputs": [
    {
     "name": "stdout",
     "output_type": "stream",
     "text": [
      "Shape: (97283, 154208); \n",
      "GeoTransform: -2362425.0 30.0 0.0 3177435.0 0.0 -30.0; \n",
      "WKT: EPSG:5070; \n",
      "NoData Value: nan; \n",
      "Data Type: float32\n"
     ]
    },
    {
     "data": {
      "text/plain": [
       "47"
      ]
     },
     "execution_count": 5,
     "metadata": {},
     "output_type": "execute_result"
    }
   ],
   "source": [
    "fp = os.path.join(maindir,'data/landcover/LANDFIRE/LF2016_BPS_200_CONUS/Tif/LC16_BPS_200.tif')\n",
    "bps_da = rxr.open_rasterio(fp, masked=True, cache=False, chunks='auto').squeeze()\n",
    "shp, gt, wkt, nd = bps_da.shape, bps_da.spatial_ref.GeoTransform, bps_da.rio.crs, bps_da.rio.nodata\n",
    "print(\n",
    "    f\"Shape: {shp}; \\n\"\n",
    "    f\"GeoTransform: {gt}; \\n\"\n",
    "    f\"WKT: {wkt}; \\n\"\n",
    "    f\"NoData Value: {nd}; \\n\"\n",
    "    f\"Data Type: {bps_da[0].dtype}\")\n",
    "gc.collect()"
   ]
  },
  {
   "cell_type": "code",
   "execution_count": 6,
   "id": "3477cb10-47d3-468c-a80c-588c40e8cd19",
   "metadata": {},
   "outputs": [
    {
     "data": {
      "text/plain": [
       "66"
      ]
     },
     "execution_count": 6,
     "metadata": {},
     "output_type": "execute_result"
    }
   ],
   "source": [
    "# Crop the raster\n",
    "bps_da_crop = bps_da.rio.clip_box(\n",
    "    minx=bounds[0]+1000, # +1000 meters for a small buffer\n",
    "    miny=bounds[1]+1000, \n",
    "    maxx=bounds[2]+1000, \n",
    "    maxy=bounds[3]+1000\n",
    ")\n",
    "del bps_da\n",
    "gc.collect()"
   ]
  },
  {
   "cell_type": "code",
   "execution_count": 7,
   "id": "59266edc-3e7f-441a-b2cc-491f12295c44",
   "metadata": {},
   "outputs": [
    {
     "name": "stdout",
     "output_type": "stream",
     "text": [
      "Total elapsed time: 1.40 minutes.\n",
      "\n",
      "~~~~~~~~~~\n",
      "\n"
     ]
    }
   ],
   "source": [
    "t0 = time.time()\n",
    "\n",
    "afds_bps = compute_band_stats(\n",
    "    geoms=afds_, \n",
    "    image_da=bps_da_crop, \n",
    "    id_col='afdID',\n",
    "    attr='bps'\n",
    ")\n",
    "\n",
    "del bps_da_crop\n",
    "gc.collect() # clean up\n",
    "\n",
    "t1 = (time.time() - t0) / 60\n",
    "print(f\"Total elapsed time: {t1:.2f} minutes.\")\n",
    "print(\"\\n~~~~~~~~~~\\n\")"
   ]
  },
  {
   "cell_type": "code",
   "execution_count": 8,
   "id": "af582846-2eb4-4903-b5de-d9f35215cf11",
   "metadata": {},
   "outputs": [
    {
     "data": {
      "text/html": [
       "<div>\n",
       "<style scoped>\n",
       "    .dataframe tbody tr th:only-of-type {\n",
       "        vertical-align: middle;\n",
       "    }\n",
       "\n",
       "    .dataframe tbody tr th {\n",
       "        vertical-align: top;\n",
       "    }\n",
       "\n",
       "    .dataframe thead th {\n",
       "        text-align: right;\n",
       "    }\n",
       "</style>\n",
       "<table border=\"1\" class=\"dataframe\">\n",
       "  <thead>\n",
       "    <tr style=\"text-align: right;\">\n",
       "      <th></th>\n",
       "      <th>afdID</th>\n",
       "      <th>bps</th>\n",
       "      <th>count</th>\n",
       "      <th>total_pixels</th>\n",
       "      <th>pct_cover</th>\n",
       "    </tr>\n",
       "  </thead>\n",
       "  <tbody>\n",
       "    <tr>\n",
       "      <th>0</th>\n",
       "      <td>MODIS7298</td>\n",
       "      <td>965</td>\n",
       "      <td>46.0</td>\n",
       "      <td>1190.0</td>\n",
       "      <td>3.865546</td>\n",
       "    </tr>\n",
       "    <tr>\n",
       "      <th>1</th>\n",
       "      <td>MODIS7298</td>\n",
       "      <td>966</td>\n",
       "      <td>299.0</td>\n",
       "      <td>1190.0</td>\n",
       "      <td>25.126050</td>\n",
       "    </tr>\n",
       "    <tr>\n",
       "      <th>2</th>\n",
       "      <td>MODIS7298</td>\n",
       "      <td>967</td>\n",
       "      <td>21.0</td>\n",
       "      <td>1190.0</td>\n",
       "      <td>1.764706</td>\n",
       "    </tr>\n",
       "    <tr>\n",
       "      <th>3</th>\n",
       "      <td>MODIS7298</td>\n",
       "      <td>971</td>\n",
       "      <td>68.0</td>\n",
       "      <td>1190.0</td>\n",
       "      <td>5.714286</td>\n",
       "    </tr>\n",
       "    <tr>\n",
       "      <th>4</th>\n",
       "      <td>MODIS7298</td>\n",
       "      <td>972</td>\n",
       "      <td>90.0</td>\n",
       "      <td>1190.0</td>\n",
       "      <td>7.563025</td>\n",
       "    </tr>\n",
       "  </tbody>\n",
       "</table>\n",
       "</div>"
      ],
      "text/plain": [
       "       afdID  bps  count  total_pixels  pct_cover\n",
       "0  MODIS7298  965   46.0        1190.0   3.865546\n",
       "1  MODIS7298  966  299.0        1190.0  25.126050\n",
       "2  MODIS7298  967   21.0        1190.0   1.764706\n",
       "3  MODIS7298  971   68.0        1190.0   5.714286\n",
       "4  MODIS7298  972   90.0        1190.0   7.563025"
      ]
     },
     "execution_count": 8,
     "metadata": {},
     "output_type": "execute_result"
    }
   ],
   "source": [
    "afds_bps.head()"
   ]
  },
  {
   "cell_type": "code",
   "execution_count": 9,
   "id": "cbd22e44-11a2-4a1f-a2b4-f0fe8e6308aa",
   "metadata": {},
   "outputs": [
    {
     "name": "stdout",
     "output_type": "stream",
     "text": [
      "Index(['VALUE', 'BPS_CODE', 'ZONE', 'BPS_MODEL', 'BPS_NAME', 'GROUPVEG',\n",
      "       'FRI_REPLAC', 'FRI_MIXED', 'FRI_SURFAC', 'FRI_ALLFIR', 'PRC_REPLAC',\n",
      "       'PRC_MIXED', 'PRC_SURFAC', 'FRG_NEW', 'R', 'G', 'B', 'RED', 'GREEN',\n",
      "       'BLUE'],\n",
      "      dtype='object')\n"
     ]
    }
   ],
   "source": [
    "# Read in the lookup table for the EVT codes\n",
    "lookup = os.path.join(maindir,'data/landcover/LANDFIRE/LF2016_BPS_200_CONUS/CSV_Data/LF16_BPS_200.csv')\n",
    "lookup = pd.read_csv(lookup)\n",
    "print(lookup.columns)"
   ]
  },
  {
   "cell_type": "code",
   "execution_count": 10,
   "id": "48590ff5-afd7-45ac-83a0-bdb14475766d",
   "metadata": {},
   "outputs": [
    {
     "data": {
      "text/html": [
       "<div>\n",
       "<style scoped>\n",
       "    .dataframe tbody tr th:only-of-type {\n",
       "        vertical-align: middle;\n",
       "    }\n",
       "\n",
       "    .dataframe tbody tr th {\n",
       "        vertical-align: top;\n",
       "    }\n",
       "\n",
       "    .dataframe thead th {\n",
       "        text-align: right;\n",
       "    }\n",
       "</style>\n",
       "<table border=\"1\" class=\"dataframe\">\n",
       "  <thead>\n",
       "    <tr style=\"text-align: right;\">\n",
       "      <th></th>\n",
       "      <th>afdID</th>\n",
       "      <th>bps</th>\n",
       "      <th>count</th>\n",
       "      <th>total_pixels</th>\n",
       "      <th>pct_cover</th>\n",
       "      <th>BPS_CODE</th>\n",
       "      <th>BPS_NAME</th>\n",
       "    </tr>\n",
       "  </thead>\n",
       "  <tbody>\n",
       "    <tr>\n",
       "      <th>0</th>\n",
       "      <td>MODIS7298</td>\n",
       "      <td>965</td>\n",
       "      <td>46.0</td>\n",
       "      <td>1190.0</td>\n",
       "      <td>3.865546</td>\n",
       "      <td>10110</td>\n",
       "      <td>Rocky Mountain Aspen Forest and Woodland</td>\n",
       "    </tr>\n",
       "    <tr>\n",
       "      <th>1</th>\n",
       "      <td>MODIS7298</td>\n",
       "      <td>966</td>\n",
       "      <td>299.0</td>\n",
       "      <td>1190.0</td>\n",
       "      <td>25.126050</td>\n",
       "      <td>10120</td>\n",
       "      <td>Rocky Mountain Bigtooth Maple Ravine Woodland</td>\n",
       "    </tr>\n",
       "    <tr>\n",
       "      <th>2</th>\n",
       "      <td>MODIS7298</td>\n",
       "      <td>967</td>\n",
       "      <td>21.0</td>\n",
       "      <td>1190.0</td>\n",
       "      <td>1.764706</td>\n",
       "      <td>10160</td>\n",
       "      <td>Colorado Plateau Pinyon-Juniper Woodland</td>\n",
       "    </tr>\n",
       "    <tr>\n",
       "      <th>3</th>\n",
       "      <td>MODIS7298</td>\n",
       "      <td>971</td>\n",
       "      <td>68.0</td>\n",
       "      <td>1190.0</td>\n",
       "      <td>5.714286</td>\n",
       "      <td>10510</td>\n",
       "      <td>Southern Rocky Mountain Dry-Mesic Montane Mixe...</td>\n",
       "    </tr>\n",
       "    <tr>\n",
       "      <th>4</th>\n",
       "      <td>MODIS7298</td>\n",
       "      <td>972</td>\n",
       "      <td>90.0</td>\n",
       "      <td>1190.0</td>\n",
       "      <td>7.563025</td>\n",
       "      <td>10520</td>\n",
       "      <td>Southern Rocky Mountain Mesic Montane Mixed Co...</td>\n",
       "    </tr>\n",
       "  </tbody>\n",
       "</table>\n",
       "</div>"
      ],
      "text/plain": [
       "       afdID  bps  count  total_pixels  pct_cover  BPS_CODE  \\\n",
       "0  MODIS7298  965   46.0        1190.0   3.865546     10110   \n",
       "1  MODIS7298  966  299.0        1190.0  25.126050     10120   \n",
       "2  MODIS7298  967   21.0        1190.0   1.764706     10160   \n",
       "3  MODIS7298  971   68.0        1190.0   5.714286     10510   \n",
       "4  MODIS7298  972   90.0        1190.0   7.563025     10520   \n",
       "\n",
       "                                            BPS_NAME  \n",
       "0           Rocky Mountain Aspen Forest and Woodland  \n",
       "1      Rocky Mountain Bigtooth Maple Ravine Woodland  \n",
       "2           Colorado Plateau Pinyon-Juniper Woodland  \n",
       "3  Southern Rocky Mountain Dry-Mesic Montane Mixe...  \n",
       "4  Southern Rocky Mountain Mesic Montane Mixed Co...  "
      ]
     },
     "execution_count": 10,
     "metadata": {},
     "output_type": "execute_result"
    }
   ],
   "source": [
    "lookup = lookup[['VALUE','BPS_CODE','BPS_NAME']]\n",
    "afds_bps = afds_bps.merge(lookup, left_on='bps', right_on='VALUE', how='left')\n",
    "afds_bps.drop('VALUE', axis=1, inplace=True)\n",
    "afds_bps.head()"
   ]
  },
  {
   "cell_type": "code",
   "execution_count": 11,
   "id": "141684a9-3a12-45a1-83f0-ab8b6c52793d",
   "metadata": {},
   "outputs": [
    {
     "name": "stdout",
     "output_type": "stream",
     "text": [
      "Saved zonal statistics to: /Users/max/Library/CloudStorage/OneDrive-Personal/mcook/aspen-fire/Aim2/data/tabular/mod/EVT/afd_aspen-fires_2018_to_2023_buffer-BPS.csv\n"
     ]
    }
   ],
   "source": [
    "# Export the zonal statistics table.\n",
    "out_fp = os.path.join(projdir,'data/tabular/mod/EVT/afd_aspen-fires_2018_to_2023_buffer-BPS.csv')\n",
    "afds_bps.to_csv(out_fp)\n",
    "print(f\"Saved zonal statistics to: {out_fp}\")"
   ]
  },
  {
   "cell_type": "code",
   "execution_count": 13,
   "id": "946912c0-1a0e-4a46-b0b1-c25b555349e4",
   "metadata": {},
   "outputs": [
    {
     "data": {
      "text/plain": [
       "493"
      ]
     },
     "execution_count": 13,
     "metadata": {},
     "output_type": "execute_result"
    }
   ],
   "source": [
    "gc.collect()"
   ]
  },
  {
   "cell_type": "code",
   "execution_count": null,
   "id": "0ad37abc-a431-4cb3-bf5c-5443afc57fe1",
   "metadata": {},
   "outputs": [],
   "source": []
  },
  {
   "cell_type": "code",
   "execution_count": null,
   "id": "b491b84c-e03c-403e-9c40-7b415613902c",
   "metadata": {},
   "outputs": [],
   "source": []
  },
  {
   "cell_type": "markdown",
   "id": "03d72f03-2289-44db-8e59-c68741913e4d",
   "metadata": {},
   "source": [
    "## LANDFIRE Existing Vegetation Type (EVT) c.a. 2016"
   ]
  },
  {
   "cell_type": "code",
   "execution_count": 14,
   "id": "a3bb5f44-14d3-460f-aa09-1848d5a381bd",
   "metadata": {},
   "outputs": [
    {
     "name": "stdout",
     "output_type": "stream",
     "text": [
      "Shape: (97283, 154207); \n",
      "GeoTransform: -2362425.0 30.0 0.0 3177435.0 0.0 -30.0; \n",
      "WKT: EPSG:5070; \n",
      "NoData Value: nan; \n",
      "Data Type: float32\n"
     ]
    },
    {
     "data": {
      "text/plain": [
       "40"
      ]
     },
     "execution_count": 14,
     "metadata": {},
     "output_type": "execute_result"
    }
   ],
   "source": [
    "fp = os.path.join(maindir,'data/landcover/LANDFIRE/LF2016_EVT_200_CONUS/Tif/LC16_EVT_200.tif')\n",
    "evt_da = rxr.open_rasterio(fp, masked=True, cache=False, chunks='auto').squeeze()\n",
    "shp, gt, wkt, nd = evt_da.shape, evt_da.spatial_ref.GeoTransform, evt_da.rio.crs, evt_da.rio.nodata\n",
    "print(\n",
    "    f\"Shape: {shp}; \\n\"\n",
    "    f\"GeoTransform: {gt}; \\n\"\n",
    "    f\"WKT: {wkt}; \\n\"\n",
    "    f\"NoData Value: {nd}; \\n\"\n",
    "    f\"Data Type: {evt_da[0].dtype}\")\n",
    "gc.collect()"
   ]
  },
  {
   "cell_type": "code",
   "execution_count": 15,
   "id": "29e40e01-088e-4c61-9041-36bc31d2ab6c",
   "metadata": {},
   "outputs": [
    {
     "data": {
      "text/plain": [
       "66"
      ]
     },
     "execution_count": 15,
     "metadata": {},
     "output_type": "execute_result"
    }
   ],
   "source": [
    "evt_da_crop = evt_da.rio.clip_box(\n",
    "    minx=bounds[0]+1000, # +1000 meters for a small buffer\n",
    "    miny=bounds[1]+1000, \n",
    "    maxx=bounds[2]+1000, \n",
    "    maxy=bounds[3]+1000\n",
    ")\n",
    "del evt_da\n",
    "gc.collect()"
   ]
  },
  {
   "cell_type": "code",
   "execution_count": 16,
   "id": "bbfff329-c537-4b0d-bbc4-4cf286c3bccc",
   "metadata": {},
   "outputs": [
    {
     "name": "stdout",
     "output_type": "stream",
     "text": [
      "Total elapsed time: 1.45 minutes.\n",
      "\n",
      "~~~~~~~~~~\n",
      "\n"
     ]
    }
   ],
   "source": [
    "t0 = time.time()\n",
    "\n",
    "# Get the proportional landcover\n",
    "afds_evt = compute_band_stats(\n",
    "    geoms=afds_, \n",
    "    image_da=evt_da_crop, \n",
    "    id_col='afdID'\n",
    ")\n",
    "\n",
    "t1 = (time.time() - t0) / 60\n",
    "print(f\"Total elapsed time: {t1:.2f} minutes.\")\n",
    "print(\"\\n~~~~~~~~~~\\n\")"
   ]
  },
  {
   "cell_type": "code",
   "execution_count": 17,
   "id": "4ff92d78-79f9-425e-a7b9-990c0c1682dc",
   "metadata": {},
   "outputs": [
    {
     "data": {
      "text/html": [
       "<div>\n",
       "<style scoped>\n",
       "    .dataframe tbody tr th:only-of-type {\n",
       "        vertical-align: middle;\n",
       "    }\n",
       "\n",
       "    .dataframe tbody tr th {\n",
       "        vertical-align: top;\n",
       "    }\n",
       "\n",
       "    .dataframe thead th {\n",
       "        text-align: right;\n",
       "    }\n",
       "</style>\n",
       "<table border=\"1\" class=\"dataframe\">\n",
       "  <thead>\n",
       "    <tr style=\"text-align: right;\">\n",
       "      <th></th>\n",
       "      <th>afdID</th>\n",
       "      <th>evt</th>\n",
       "      <th>count</th>\n",
       "      <th>total_pixels</th>\n",
       "      <th>pct_cover</th>\n",
       "    </tr>\n",
       "  </thead>\n",
       "  <tbody>\n",
       "    <tr>\n",
       "      <th>0</th>\n",
       "      <td>MODIS7298</td>\n",
       "      <td>7011</td>\n",
       "      <td>103.0</td>\n",
       "      <td>1190.0</td>\n",
       "      <td>8.655462</td>\n",
       "    </tr>\n",
       "    <tr>\n",
       "      <th>1</th>\n",
       "      <td>MODIS7298</td>\n",
       "      <td>7012</td>\n",
       "      <td>306.0</td>\n",
       "      <td>1190.0</td>\n",
       "      <td>25.714286</td>\n",
       "    </tr>\n",
       "    <tr>\n",
       "      <th>2</th>\n",
       "      <td>MODIS7298</td>\n",
       "      <td>7016</td>\n",
       "      <td>306.0</td>\n",
       "      <td>1190.0</td>\n",
       "      <td>25.714286</td>\n",
       "    </tr>\n",
       "    <tr>\n",
       "      <th>3</th>\n",
       "      <td>MODIS7298</td>\n",
       "      <td>7051</td>\n",
       "      <td>82.0</td>\n",
       "      <td>1190.0</td>\n",
       "      <td>6.890756</td>\n",
       "    </tr>\n",
       "    <tr>\n",
       "      <th>4</th>\n",
       "      <td>MODIS7298</td>\n",
       "      <td>7052</td>\n",
       "      <td>171.0</td>\n",
       "      <td>1190.0</td>\n",
       "      <td>14.369748</td>\n",
       "    </tr>\n",
       "  </tbody>\n",
       "</table>\n",
       "</div>"
      ],
      "text/plain": [
       "       afdID   evt  count  total_pixels  pct_cover\n",
       "0  MODIS7298  7011  103.0        1190.0   8.655462\n",
       "1  MODIS7298  7012  306.0        1190.0  25.714286\n",
       "2  MODIS7298  7016  306.0        1190.0  25.714286\n",
       "3  MODIS7298  7051   82.0        1190.0   6.890756\n",
       "4  MODIS7298  7052  171.0        1190.0  14.369748"
      ]
     },
     "execution_count": 17,
     "metadata": {},
     "output_type": "execute_result"
    }
   ],
   "source": [
    "afds_evt.head()"
   ]
  },
  {
   "cell_type": "code",
   "execution_count": 18,
   "id": "e1c6b1dc-e9b9-401a-873c-0525a4ff3fad",
   "metadata": {},
   "outputs": [
    {
     "name": "stdout",
     "output_type": "stream",
     "text": [
      "Index(['VALUE', 'EVT_NAME', 'LFRDB', 'EVT_FUEL', 'EVT_FUEL_N', 'EVT_LF',\n",
      "       'EVT_PHYS', 'EVT_GP', 'EVT_GP_N', 'SAF_SRM', 'EVT_ORDER', 'EVT_CLASS',\n",
      "       'EVT_SBCLS', 'R', 'G', 'B', 'RED', 'GREEN', 'BLUE'],\n",
      "      dtype='object')\n"
     ]
    }
   ],
   "source": [
    "# Read in the lookup table for the EVT codes\n",
    "lookup = os.path.join(maindir,'data/landcover/LANDFIRE/LF2016_EVT_200_CONUS/CSV_Data/LF16_EVT_200.csv')\n",
    "lookup = pd.read_csv(lookup)\n",
    "print(lookup.columns)"
   ]
  },
  {
   "cell_type": "code",
   "execution_count": 19,
   "id": "4ebd9201-39be-49dc-bcaf-433c4d8c9963",
   "metadata": {},
   "outputs": [
    {
     "data": {
      "text/html": [
       "<div>\n",
       "<style scoped>\n",
       "    .dataframe tbody tr th:only-of-type {\n",
       "        vertical-align: middle;\n",
       "    }\n",
       "\n",
       "    .dataframe tbody tr th {\n",
       "        vertical-align: top;\n",
       "    }\n",
       "\n",
       "    .dataframe thead th {\n",
       "        text-align: right;\n",
       "    }\n",
       "</style>\n",
       "<table border=\"1\" class=\"dataframe\">\n",
       "  <thead>\n",
       "    <tr style=\"text-align: right;\">\n",
       "      <th></th>\n",
       "      <th>afdID</th>\n",
       "      <th>evt</th>\n",
       "      <th>count</th>\n",
       "      <th>total_pixels</th>\n",
       "      <th>pct_cover</th>\n",
       "      <th>EVT_NAME</th>\n",
       "      <th>EVT_PHYS</th>\n",
       "      <th>EVT_GP_N</th>\n",
       "      <th>EVT_CLASS</th>\n",
       "    </tr>\n",
       "  </thead>\n",
       "  <tbody>\n",
       "    <tr>\n",
       "      <th>0</th>\n",
       "      <td>MODIS7298</td>\n",
       "      <td>7011</td>\n",
       "      <td>103.0</td>\n",
       "      <td>1190.0</td>\n",
       "      <td>8.655462</td>\n",
       "      <td>Rocky Mountain Aspen Forest and Woodland</td>\n",
       "      <td>Hardwood</td>\n",
       "      <td>Aspen Forest, Woodland, and Parkland</td>\n",
       "      <td>Open tree canopy</td>\n",
       "    </tr>\n",
       "    <tr>\n",
       "      <th>1</th>\n",
       "      <td>MODIS7298</td>\n",
       "      <td>7012</td>\n",
       "      <td>306.0</td>\n",
       "      <td>1190.0</td>\n",
       "      <td>25.714286</td>\n",
       "      <td>Rocky Mountain Bigtooth Maple Ravine Woodland</td>\n",
       "      <td>Hardwood</td>\n",
       "      <td>Bigtooth Maple Woodland</td>\n",
       "      <td>Open tree canopy</td>\n",
       "    </tr>\n",
       "    <tr>\n",
       "      <th>2</th>\n",
       "      <td>MODIS7298</td>\n",
       "      <td>7016</td>\n",
       "      <td>306.0</td>\n",
       "      <td>1190.0</td>\n",
       "      <td>25.714286</td>\n",
       "      <td>Colorado Plateau Pinyon-Juniper Woodland</td>\n",
       "      <td>Conifer</td>\n",
       "      <td>Pinyon-Juniper Woodland</td>\n",
       "      <td>Open tree canopy</td>\n",
       "    </tr>\n",
       "    <tr>\n",
       "      <th>3</th>\n",
       "      <td>MODIS7298</td>\n",
       "      <td>7051</td>\n",
       "      <td>82.0</td>\n",
       "      <td>1190.0</td>\n",
       "      <td>6.890756</td>\n",
       "      <td>Southern Rocky Mountain Dry-Mesic Montane Mixe...</td>\n",
       "      <td>Conifer</td>\n",
       "      <td>Douglas-fir-Ponderosa Pine-Lodgepole Pine Fore...</td>\n",
       "      <td>Closed tree canopy</td>\n",
       "    </tr>\n",
       "    <tr>\n",
       "      <th>4</th>\n",
       "      <td>MODIS7298</td>\n",
       "      <td>7052</td>\n",
       "      <td>171.0</td>\n",
       "      <td>1190.0</td>\n",
       "      <td>14.369748</td>\n",
       "      <td>Southern Rocky Mountain Mesic Montane Mixed Co...</td>\n",
       "      <td>Conifer</td>\n",
       "      <td>Douglas-fir-Grand Fir-White Fir Forest and Woo...</td>\n",
       "      <td>Closed tree canopy</td>\n",
       "    </tr>\n",
       "  </tbody>\n",
       "</table>\n",
       "</div>"
      ],
      "text/plain": [
       "       afdID   evt  count  total_pixels  pct_cover  \\\n",
       "0  MODIS7298  7011  103.0        1190.0   8.655462   \n",
       "1  MODIS7298  7012  306.0        1190.0  25.714286   \n",
       "2  MODIS7298  7016  306.0        1190.0  25.714286   \n",
       "3  MODIS7298  7051   82.0        1190.0   6.890756   \n",
       "4  MODIS7298  7052  171.0        1190.0  14.369748   \n",
       "\n",
       "                                            EVT_NAME  EVT_PHYS  \\\n",
       "0           Rocky Mountain Aspen Forest and Woodland  Hardwood   \n",
       "1      Rocky Mountain Bigtooth Maple Ravine Woodland  Hardwood   \n",
       "2           Colorado Plateau Pinyon-Juniper Woodland   Conifer   \n",
       "3  Southern Rocky Mountain Dry-Mesic Montane Mixe...   Conifer   \n",
       "4  Southern Rocky Mountain Mesic Montane Mixed Co...   Conifer   \n",
       "\n",
       "                                            EVT_GP_N           EVT_CLASS  \n",
       "0               Aspen Forest, Woodland, and Parkland    Open tree canopy  \n",
       "1                            Bigtooth Maple Woodland    Open tree canopy  \n",
       "2                            Pinyon-Juniper Woodland    Open tree canopy  \n",
       "3  Douglas-fir-Ponderosa Pine-Lodgepole Pine Fore...  Closed tree canopy  \n",
       "4  Douglas-fir-Grand Fir-White Fir Forest and Woo...  Closed tree canopy  "
      ]
     },
     "execution_count": 19,
     "metadata": {},
     "output_type": "execute_result"
    }
   ],
   "source": [
    "# Subset the codes we want to join, join back to the dataframe\n",
    "lookup = lookup[['VALUE','EVT_NAME','EVT_PHYS','EVT_GP_N','EVT_CLASS']]\n",
    "afds_evt = afds_evt.merge(lookup, left_on='evt', right_on='VALUE', how='left')\n",
    "afds_evt.drop('VALUE', axis=1, inplace=True)\n",
    "afds_evt.head()"
   ]
  },
  {
   "cell_type": "code",
   "execution_count": null,
   "id": "70931ab9-31a9-4b29-bba9-8c9337fcf6d9",
   "metadata": {},
   "outputs": [],
   "source": [
    "# Export a table of the EVT values found in AFD observations\n",
    "lookup_ = lookup[lookup['VALUE'].isin(afds_evt['evt'].unique())]\n",
    "lookup_.to_csv(os.path.join(projdir,'data/tabular/mod/EVT/afd_evt_codes.csv'))\n",
    "\n",
    "# Export the zonal statistics table.\n",
    "out_fp = os.path.join(projdir,'data/tabular/mod/EVT/afd_aspen-fires_2018_to_2023_buffer-EVT.csv')\n",
    "afds_evt.to_csv(out_fp)\n",
    "print(f\"Saved zonal statistics to: {out_fp}\")"
   ]
  },
  {
   "cell_type": "code",
   "execution_count": null,
   "id": "51541962-1880-4304-a003-58eb1f5530c5",
   "metadata": {},
   "outputs": [],
   "source": [
    "print(afds_evt['EVT_PHYS'].unique())"
   ]
  },
  {
   "cell_type": "code",
   "execution_count": null,
   "id": "122db178-051c-450c-8d7d-e784ae42554d",
   "metadata": {},
   "outputs": [],
   "source": []
  },
  {
   "cell_type": "code",
   "execution_count": null,
   "id": "9bf12d80-0269-44ac-8adf-f6df9c11b602",
   "metadata": {},
   "outputs": [],
   "source": [
    "# Make some plots. Just for the SRM."
   ]
  },
  {
   "cell_type": "code",
   "execution_count": null,
   "id": "4932c33d-144c-4d7e-b344-5d6071992b26",
   "metadata": {},
   "outputs": [],
   "source": [
    "# Join back to FRP\n",
    "\n",
    "frp = afds[['afdID','INSTRUMENT','ACQ_DATETIME','DAYNIGHT','FRP','na_l3name']]\n",
    "frp = frp[frp['na_l3name'] == 'Southern Rockies']\n",
    "\n",
    "evt = afds_evt[['afdID','EVT_NAME','EVT_PHYS','EVT_GP_N','pct_cover']]\n",
    "\n",
    "frp_evt_srm = pd.merge(frp, evt, on='afdID', how='left')\n",
    "frp_evt_srm.head()"
   ]
  },
  {
   "cell_type": "code",
   "execution_count": null,
   "id": "0a5799e7-35aa-4c06-bcef-c73192272d2b",
   "metadata": {},
   "outputs": [],
   "source": [
    "# Create a \"pct_forest\" class\n",
    "forest_classes = ['Hardwood', 'Conifer', 'Conifer-Hardwood']\n",
    "frp_plots_forest = frp_evt_srm[frp_evt_srm['EVT_NAME'].isin(forest_classes)]\n",
    "# Pivot table and calculate the percent forest\n",
    "forest_cover = (\n",
    "    frp_evt_srm[['afdID', 'EVT_PHYS', 'pct_cover']]\n",
    "    .pivot_table(index='afdID', columns='EVT_PHYS', values='pct_cover', aggfunc='sum', fill_value=0)\n",
    ")\n",
    "forest_cover['pct_forest'] = forest_cover[forest_classes].sum(axis=1)\n",
    "# Merge back to the main data frame\n",
    "frp_evt_srm = frp_evt_srm.merge(forest_cover[['pct_forest']], on='afdID')\n",
    "frp_evt_srm['pct_forest'].describe()"
   ]
  },
  {
   "cell_type": "code",
   "execution_count": null,
   "id": "3b366e07-5632-4499-b224-a1ae24f9ff11",
   "metadata": {},
   "outputs": [],
   "source": [
    "# Calculate the percent aspen\n",
    "aspen_classes = frp_evt_srm[frp_evt_srm['EVT_NAME'].str.contains('aspen', case=False, na=False)]['EVT_NAME'].unique()\n",
    "aspen_classes"
   ]
  },
  {
   "cell_type": "code",
   "execution_count": null,
   "id": "581bedf6-7106-4ada-8192-7d8cf73fa068",
   "metadata": {},
   "outputs": [],
   "source": [
    "# Now filter to retain just the aspen composition in FRP observations\n",
    "frp_evt_srm_aspen = frp_evt_srm[frp_evt_srm['EVT_NAME'].isin(aspen_classes)]\n",
    "# What percent of FRP observations have an aspen component?\n",
    "aspenpct = len(frp_evt_srm_aspen['afdID'].unique()) / len(frp_evt_srm['afdID'].unique()) * 100\n",
    "print(f\"In the Southern Rockies, {aspenpct:.2f} of MODIS/VIIRS AFD have an aspen component.\")"
   ]
  },
  {
   "cell_type": "code",
   "execution_count": null,
   "id": "94c2a83f-a2ba-4620-aa65-dd8217d761e0",
   "metadata": {},
   "outputs": [],
   "source": [
    "plt.figure(figsize=(6, 4))\n",
    "\n",
    "frp_plots_aspen_d = frp_evt_srm_aspen[frp_evt_srm_aspen['DAYNIGHT'] == 'D']\n",
    "frp_plots_aspen_n = frp_evt_srm_aspen[frp_evt_srm_aspen['DAYNIGHT'] == 'N']\n",
    "\n",
    "# Apply log transformation to FRP values; add 1 to avoid taking log of zero\n",
    "sns.kdeplot(np.log1p(frp_plots_aspen_d['FRP']), fill=True, label=\"Daytime Obs.\")\n",
    "sns.kdeplot(np.log1p(frp_plots_aspen_n['FRP']), fill=True, label=\"Nighttime Obs.\")\n",
    "\n",
    "# Set plot title and axis labels\n",
    "plt.title('Log density of FRP for any aspen (Southern Rockies)')\n",
    "plt.xlabel('Log of Fire Radiative Power (FRP)')\n",
    "plt.ylabel('Density')\n",
    "plt.legend()\n",
    "plt.tight_layout()  # Adjust layout to prevent clipping of ylabel\n",
    "\n",
    "# plt.savefig(os.path.join(maindir,'aspen-fire/Aim2/figures/FigX_frp_density_aspen-any_day-night.png'), dpi=300, bbox_inches='tight')\n",
    "\n",
    "plt.show()"
   ]
  },
  {
   "cell_type": "code",
   "execution_count": null,
   "id": "d78896ad-5b69-445d-8fbe-020ab334829d",
   "metadata": {},
   "outputs": [],
   "source": [
    "plt.figure(figsize=(12, 4))\n",
    "\n",
    "frp_plots_aspen_ = frp_evt_srm_aspen[frp_evt_srm_aspen['FRP'] > 0]\n",
    "\n",
    "for aspen_class in aspen_classes:\n",
    "    subset = frp_plots_aspen_[frp_plots_aspen_['EVT_NAME'] == aspen_class]\n",
    "    sns.scatterplot(x='pct_cover', y='FRP', data=subset, label=aspen_class)\n",
    "\n",
    "plt.yscale('log')\n",
    "\n",
    "plt.title('FRP vs Percent Cover of Aspen Classes')\n",
    "plt.xlabel('Percent Cover of Aspen')\n",
    "plt.ylabel('Fire Radiative Power (FRP)')\n",
    "plt.legend(title='Aspen Class')\n",
    "\n",
    "# plt.savefig(os.path.join(maindir,'aspen-fire/Aim2/figures/FigX_aspen_frp_scatterplot.png'), dpi=300, bbox_inches='tight')\n",
    "\n",
    "plt.show()\n",
    "\n",
    "del frp_plots_aspen_"
   ]
  },
  {
   "cell_type": "code",
   "execution_count": null,
   "id": "21284cb6-3300-46fa-abac-aa73495bee16",
   "metadata": {},
   "outputs": [],
   "source": []
  },
  {
   "cell_type": "code",
   "execution_count": null,
   "id": "8f0c19e3-006f-4078-92ac-1c3a3800dddb",
   "metadata": {},
   "outputs": [],
   "source": [
    "# Identify the dominant EVT types."
   ]
  },
  {
   "cell_type": "code",
   "execution_count": null,
   "id": "91448b40-0bac-4fda-8ed9-4b5a281cab26",
   "metadata": {},
   "outputs": [],
   "source": []
  },
  {
   "cell_type": "code",
   "execution_count": null,
   "id": "de9972e6-0b6e-429e-acd8-92a29602be22",
   "metadata": {},
   "outputs": [],
   "source": [
    "# Identify the dominant EVT class for each observation\n",
    "dominant_evt = afds_evt.loc[afds_evt.groupby('afdID')['pct_cover'].idxmax()]\n",
    "dominant_evt.head()"
   ]
  },
  {
   "cell_type": "code",
   "execution_count": null,
   "id": "7e2b8287-509d-4e1e-89a3-6e4c6b2af325",
   "metadata": {},
   "outputs": [],
   "source": [
    "print(f\"There are {len(dominant_evt['EVT_GP_N'].unique())} EVT_GP_N categories.\\n\")\n",
    "print(dominant_evt['EVT_GP_N'].unique())"
   ]
  },
  {
   "cell_type": "code",
   "execution_count": null,
   "id": "2ee90890-de63-4323-b8c1-5db9e743906a",
   "metadata": {},
   "outputs": [],
   "source": [
    "# Save this file out as well.\n",
    "out_fp = os.path.join(projdir,'data/tabular/mod/EVT/afd_aspen-fires_2018_to_2023_buffer-EVT-dominant.csv')\n",
    "dominant_evt.to_csv(out_fp)\n",
    "print(f\"Saved zonal statistics to: {out_fp}\")"
   ]
  },
  {
   "cell_type": "code",
   "execution_count": null,
   "id": "d4da4b6a-4431-43d9-9677-484fb384465b",
   "metadata": {},
   "outputs": [],
   "source": [
    "# Join back to FRP\n",
    "frp = afds[['afdID','INSTRUMENT','ACQ_DATETIME','DAYNIGHT','FRP','na_l3name']]\n",
    "frp = frp[frp['na_l3name'] == 'Southern Rockies']\n",
    "evt = dominant_evt[['afdID','EVT_NAME','EVT_PHYS','EVT_GP_N','pct_cover']]\n",
    "frp_evt = pd.merge(frp, evt, on='afdID', how='left')\n",
    "frp_evt.head()"
   ]
  },
  {
   "cell_type": "code",
   "execution_count": null,
   "id": "887f4c8f-4157-44c4-9fbd-de4f0fcf7946",
   "metadata": {},
   "outputs": [],
   "source": [
    "# Plot FRP by EVT group name\n",
    "\n",
    "df = frp_evt[frp_evt['INSTRUMENT'] == 'VIIRS']\n",
    "\n",
    "med_frp = df.groupby('EVT_GP_N')['FRP'].median().sort_values(ascending=False)\n",
    "sorted = med_frp.index.tolist()\n",
    "\n",
    "plt.figure(figsize=(10, 10)) \n",
    "\n",
    "sns.boxplot(\n",
    "    data=df,\n",
    "    x='FRP', \n",
    "    y='EVT_GP_N', \n",
    "    hue='DAYNIGHT',\n",
    "    order=sorted,  \n",
    "    palette='coolwarm', \n",
    "    dodge=True\n",
    ")\n",
    "\n",
    "plt.xscale('log')\n",
    "\n",
    "plt.xlabel('Fire Radiative Power (FRP)')\n",
    "plt.ylabel('Dominant Vegetation Type')\n",
    "\n",
    "plt.tight_layout()\n",
    "plt.show()"
   ]
  },
  {
   "cell_type": "code",
   "execution_count": null,
   "id": "6d05b1f9-5ff3-4fc2-ad00-a31dafe8c74a",
   "metadata": {},
   "outputs": [],
   "source": []
  },
  {
   "cell_type": "code",
   "execution_count": null,
   "id": "6b1c90df-820c-40ec-8d81-fb584cefbf6e",
   "metadata": {},
   "outputs": [],
   "source": []
  },
  {
   "cell_type": "markdown",
   "id": "3f5f4e38-a329-467a-a3c1-4f423a46fb8d",
   "metadata": {},
   "source": [
    "### Calculate the CBD, CBH, and CC from LANDFIRE\n",
    "\n",
    "Now we calculate zonal statistics for these continuous attributes from LANDFIRE (e.g., mean within the AFD buffer zone)."
   ]
  },
  {
   "cell_type": "code",
   "execution_count": null,
   "id": "ed744edf-4476-4e38-a046-a93a28d3d34d",
   "metadata": {},
   "outputs": [],
   "source": []
  },
  {
   "cell_type": "code",
   "execution_count": null,
   "id": "e832c900-84dc-42d6-aff2-db8c596eb5ff",
   "metadata": {},
   "outputs": [],
   "source": [
    "start = time.time()    \n",
    "\n",
    "# Read in the LANDFIRE layers\n",
    "cbd_path = os.path.join(maindir,'data/landcover/LANDFIRE/LF2020_CBD_200_CONUS/Tif/LC20_CBD_200.tif')\n",
    "cbh_path = os.path.join(maindir,'data/landcover/LANDFIRE/LF2020_CBH_200_CONUS/Tif/LC20_CBH_200.tif')\n",
    "tcc_path = os.path.join(maindir,'data/landcover/LANDFIRE/LF2020_CC_200_CONUS/Tif/LC20_CC_200.tif')\n",
    "\n",
    "lf_paths = [cbd_path, cbh_path, tcc_path]\n",
    "attrs = ['cbd','cbh','tcc']\n",
    "\n",
    "results = []\n",
    "for i in range(len(lf_paths)):\n",
    "    lf = lf_paths[i]\n",
    "    attr = attrs[i]\n",
    "    print(f'Processing {os.path.basename(lf)}')\n",
    "\n",
    "    # Open the raster data and crop to bounds as before\n",
    "    lf_da = rxr.open_rasterio(lf, masked=True, cache=False).squeeze()\n",
    "    lf_da_crop = lf_da.rio.clip_box(\n",
    "        minx=bounds[0]+1000, # +1000 meters for a small buffer\n",
    "        miny=bounds[1]+1000, \n",
    "        maxx=bounds[2]+1000, \n",
    "        maxy=bounds[3]+1000\n",
    "    )\n",
    "\n",
    "    if not lf_da_crop.rio.crs == afds.crs:\n",
    "        print(\"CRS mismatch, fixing !\")\n",
    "        lf_da_crop = lf_da_crop.rio.reproject(afds.crs)\n",
    "\n",
    "    del lf_da # clean up\n",
    "    \n",
    "    # Calculate the zonal statistics\n",
    "    zsdf = compute_band_stats(\n",
    "        geoms=afds, \n",
    "        image_da=lf_da_crop, \n",
    "        id_col='afdID',\n",
    "        attr=attr,\n",
    "        stats=['mean'],\n",
    "        ztype='continuous'\n",
    "    )\n",
    "    \n",
    "    results.append(zsdf)\n",
    "    del zsdf\n",
    "\n",
    "print(f\"\\nTotal elapsed time: {round((time.time() - start)/60)} minutes\")"
   ]
  },
  {
   "cell_type": "code",
   "execution_count": null,
   "id": "04a5565c-306b-4959-b462-040c89f15a1e",
   "metadata": {},
   "outputs": [],
   "source": [
    "from functools import reduce\n",
    "afd_lf_ = reduce(lambda left, right: pd.merge(left, right, on='afdID', how='inner'), results)\n",
    "afd_lf_.head()"
   ]
  },
  {
   "cell_type": "code",
   "execution_count": null,
   "id": "f502ab23-a362-41d5-8221-6f1d7c198d31",
   "metadata": {},
   "outputs": [],
   "source": [
    "# Join to the percent cover data\n"
   ]
  }
 ],
 "metadata": {
  "kernelspec": {
   "display_name": "aspen-fire",
   "language": "python",
   "name": "aspen-fire"
  },
  "language_info": {
   "codemirror_mode": {
    "name": "ipython",
    "version": 3
   },
   "file_extension": ".py",
   "mimetype": "text/x-python",
   "name": "python",
   "nbconvert_exporter": "python",
   "pygments_lexer": "ipython3",
   "version": "3.10.12"
  }
 },
 "nbformat": 4,
 "nbformat_minor": 5
}
