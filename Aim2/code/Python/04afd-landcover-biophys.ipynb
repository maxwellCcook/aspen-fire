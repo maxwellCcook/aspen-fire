{
 "cells": [
  {
   "cell_type": "code",
   "execution_count": 2,
   "id": "ba44202a-9fdb-4249-9cb3-039c1d0744f5",
   "metadata": {},
   "outputs": [
    {
     "name": "stdout",
     "output_type": "stream",
     "text": [
      "Ready to go !\n"
     ]
    }
   ],
   "source": [
    "\"\"\"\n",
    "LANDFIRE assessments for MODIS and VIIRS AFDs western U.S.\n",
    "\n",
    "Data sources:\n",
    "    - LANDFIRE Existing Vegetation Type (EVT) proportional cover\n",
    "    - LANDFIRE Canopy Bulk Density (CBD) mean\n",
    "    - LANDIFRE Canopy Base Height (CBH) mean\n",
    "    - LANDFIRE Canopy Cover (CC) percentage\n",
    "    \n",
    "Author: maxwell.cook@colorado.edu\n",
    "\"\"\"\n",
    "\n",
    "import os, gc\n",
    "import geopandas as gpd\n",
    "import rioxarray as rxr\n",
    "\n",
    "import warnings\n",
    "warnings.filterwarnings(\"ignore\") # suppresses annoying geopandas warning\n",
    "\n",
    "proj = 'EPSG:5070'\n",
    "\n",
    "maindir = '/Users/max/Library/CloudStorage/OneDrive-Personal/mcook/'\n",
    "projdir = os.path.join(maindir, 'aspen-fire/Aim2/')\n",
    "\n",
    "print(\"Ready to go !\")"
   ]
  },
  {
   "cell_type": "code",
   "execution_count": 4,
   "id": "6c49dc55-bb2a-4669-a6c7-71a29a08ff19",
   "metadata": {},
   "outputs": [
    {
     "data": {
      "text/plain": [
       "Index(['LATITUDE', 'LONGITUDE', 'BRIGHTNESS', 'SCAN', 'TRACK', 'ACQ_DATE',\n",
       "       'ACQ_TIME', 'SATELLITE', 'INSTRUMENT', 'CONFIDENCE', 'VERSION',\n",
       "       'BRIGHT_T31', 'FRP', 'DAYNIGHT', 'TYPE', 'VID', 'NIFC_ID', 'NIFC_NAME',\n",
       "       'START_YEAR', 'DISCOVERY_DATE', 'WF_CESSATION_DATE', 'na_l3name',\n",
       "       'ACQ_MONTH', 'ACQ_YEAR', 'ACQ_DATETIME', 'afdID', 'geometry'],\n",
       "      dtype='object')"
      ]
     },
     "execution_count": 4,
     "metadata": {},
     "output_type": "execute_result"
    }
   ],
   "source": [
    "# Load the combined MODIS and VIIRS AFDs (buffered)\n",
    "fp = os.path.join(projdir,f'data/spatial/mod/AFD/combined-afd_aspen-fires_2018_to_2023_buffer.gpkg')\n",
    "afds = gpd.read_file(fp)\n",
    "afds.columns"
   ]
  },
  {
   "cell_type": "code",
   "execution_count": null,
   "id": "3cfc236c-4465-4663-b7d3-82ee47f68a7e",
   "metadata": {},
   "outputs": [],
   "source": [
    "# Tidy columns for simplicity.\n",
    "afds = afds[['afdID','START_YEAR','geometry']]"
   ]
  },
  {
   "cell_type": "code",
   "execution_count": null,
   "id": "80f5683e-d9c9-469b-943f-d51a973a65d7",
   "metadata": {},
   "outputs": [],
   "source": []
  },
  {
   "cell_type": "markdown",
   "id": "03d72f03-2289-44db-8e59-c68741913e4d",
   "metadata": {},
   "source": [
    "### Calculate the Proportional EVT in AFD Observations\n",
    "\n",
    "From LANDFIRE EVT (ca. 2016) calculate the proportional cover within AFD observations (buffers). "
   ]
  },
  {
   "cell_type": "code",
   "execution_count": null,
   "id": "a1f17721-749c-485e-9b8b-97f284acd0a1",
   "metadata": {},
   "outputs": [],
   "source": [
    "# Load the EVT raster"
   ]
  },
  {
   "cell_type": "code",
   "execution_count": 5,
   "id": "a3bb5f44-14d3-460f-aa09-1848d5a381bd",
   "metadata": {},
   "outputs": [
    {
     "name": "stdout",
     "output_type": "stream",
     "text": [
      "Shape: (97283, 154207); \n",
      "GeoTransform: -2362425.0 30.0 0.0 3177435.0 0.0 -30.0; \n",
      "WKT: EPSG:5070; \n",
      "NoData Value: nan; \n",
      "Data Type: float32\n"
     ]
    },
    {
     "data": {
      "text/plain": [
       "81"
      ]
     },
     "execution_count": 5,
     "metadata": {},
     "output_type": "execute_result"
    }
   ],
   "source": [
    "evt_fp = os.path.join(maindir,'data/landcover/LANDFIRE/LF2016_EVT_200_CONUS/Tif/LC16_EVT_200.tif')\n",
    "evt_da = rxr.open_rasterio(evt_fp, masked=True, cache=False, chunks='auto').squeeze()\n",
    "shp, gt, wkt, nd = evt_da.shape, evt_da.spatial_ref.GeoTransform, evt_da.rio.crs, evt_da.rio.nodata\n",
    "print(\n",
    "    f\"Shape: {shp}; \\n\"\n",
    "    f\"GeoTransform: {gt}; \\n\"\n",
    "    f\"WKT: {wkt}; \\n\"\n",
    "    f\"NoData Value: {nd}; \\n\"\n",
    "    f\"Data Type: {evt_da[0].dtype}\")\n",
    "gc.collect()"
   ]
  },
  {
   "cell_type": "code",
   "execution_count": null,
   "id": "29e40e01-088e-4c61-9041-36bc31d2ab6c",
   "metadata": {},
   "outputs": [],
   "source": [
    "# Crop to fire bounds.\n"
   ]
  },
  {
   "cell_type": "code",
   "execution_count": null,
   "id": "bbfff329-c537-4b0d-bbc4-4cf286c3bccc",
   "metadata": {},
   "outputs": [],
   "source": []
  },
  {
   "cell_type": "code",
   "execution_count": null,
   "id": "4ff92d78-79f9-425e-a7b9-990c0c1682dc",
   "metadata": {},
   "outputs": [],
   "source": []
  },
  {
   "cell_type": "code",
   "execution_count": null,
   "id": "e1c6b1dc-e9b9-401a-873c-0525a4ff3fad",
   "metadata": {},
   "outputs": [],
   "source": []
  },
  {
   "cell_type": "code",
   "execution_count": null,
   "id": "4ebd9201-39be-49dc-bcaf-433c4d8c9963",
   "metadata": {},
   "outputs": [],
   "source": []
  },
  {
   "cell_type": "code",
   "execution_count": null,
   "id": "d586578b-0596-4ac7-9f24-e4a6befcaadc",
   "metadata": {},
   "outputs": [],
   "source": [
    "# Run zonal statistics for the AFD buffers"
   ]
  },
  {
   "cell_type": "code",
   "execution_count": null,
   "id": "ed744edf-4476-4e38-a046-a93a28d3d34d",
   "metadata": {},
   "outputs": [],
   "source": []
  },
  {
   "cell_type": "code",
   "execution_count": null,
   "id": "e832c900-84dc-42d6-aff2-db8c596eb5ff",
   "metadata": {},
   "outputs": [],
   "source": [
    "start = time.time()    \n",
    "\n",
    "# Read in the LANDFIRE layers\n",
    "cbd_path = os.path.join(maindir,'data/landcover/LANDFIRE/LF2020_CBD_200_CONUS/Tif/LC20_CBD_200.tif')\n",
    "cbh_path = os.path.join(maindir,'data/landcover/LANDFIRE/LF2020_CBH_200_CONUS/Tif/LC20_CBH_200.tif')\n",
    "tcc_path = os.path.join(maindir,'data/landcover/LANDFIRE/LF2020_CC_200_CONUS/Tif/LC20_CC_200.tif')\n",
    "\n",
    "lf_paths = [cbd_path, cbh_path, tcc_path]\n",
    "\n",
    "results = []\n",
    "for lf in lf_paths:\n",
    "    print(f'Processing {os.path.basename(lf)}')\n",
    "    name = os.path.basename(lf).split('_')[1]\n",
    "    \n",
    "    # Calculate the zonal statistics\n",
    "    df = calc_zonal_stats(vectors=frp_plots[['VID','geometry']], raster_path=lf, attr=name)\n",
    "    \n",
    "    results.append(df)\n",
    "\n",
    "print(f\"Total elapsed time: {round((time.time() - start)/60)} minutes\")"
   ]
  }
 ],
 "metadata": {
  "kernelspec": {
   "display_name": "aspen-fire",
   "language": "python",
   "name": "aspen-fire"
  },
  "language_info": {
   "codemirror_mode": {
    "name": "ipython",
    "version": 3
   },
   "file_extension": ".py",
   "mimetype": "text/x-python",
   "name": "python",
   "nbconvert_exporter": "python",
   "pygments_lexer": "ipython3",
   "version": "3.10.12"
  }
 },
 "nbformat": 4,
 "nbformat_minor": 5
}
