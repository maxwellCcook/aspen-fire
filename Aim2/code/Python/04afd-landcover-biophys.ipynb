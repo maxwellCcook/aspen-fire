{
 "cells": [
  {
   "cell_type": "code",
   "execution_count": 73,
   "id": "ba44202a-9fdb-4249-9cb3-039c1d0744f5",
   "metadata": {},
   "outputs": [
    {
     "name": "stdout",
     "output_type": "stream",
     "text": [
      "Ready to go !\n"
     ]
    }
   ],
   "source": [
    "\"\"\"\n",
    "Land cover assessments for MODIS and VIIRS AFDs for the Southern Rockies\n",
    "\n",
    "Data sources:\n",
    "    - United States Forest Service (USFS) TreeMap c.a. 2016\n",
    "    - Sentinel-based aspen cover (Cook et al.)\n",
    "    - LANDFIRE Existing Vegetation Type (EVT) proportional cover\n",
    "    - LANDFIRE Canopy Bulk Density (CBD) mean\n",
    "    - LANDIFRE Canopy Base Height (CBH) mean\n",
    "    - LANDFIRE Canopy Cover (CC) percentage\n",
    "    \n",
    "Author: maxwell.cook@colorado.edu\n",
    "\"\"\"\n",
    "\n",
    "import os, sys, gc, time\n",
    "import geopandas as gpd\n",
    "import rasterio as rio\n",
    "import rioxarray as rxr\n",
    "import seaborn as sns\n",
    "import matplotlib.pyplot as plt\n",
    "\n",
    "# Custom functions\n",
    "sys.path.append(os.path.join(os.getcwd(),'code/'))\n",
    "from __functions import *\n",
    "\n",
    "proj = 'EPSG:5070'\n",
    "\n",
    "maindir = '/Users/max/Library/CloudStorage/OneDrive-Personal/mcook/'\n",
    "projdir = os.path.join(maindir, 'aspen-fire/Aim2/')\n",
    "\n",
    "print(\"Ready to go !\")"
   ]
  },
  {
   "cell_type": "code",
   "execution_count": 55,
   "id": "6c49dc55-bb2a-4669-a6c7-71a29a08ff19",
   "metadata": {},
   "outputs": [
    {
     "data": {
      "text/plain": [
       "Index(['LATITUDE', 'LONGITUDE', 'BRIGHTNESS', 'SCAN', 'TRACK', 'ACQ_DATE',\n",
       "       'ACQ_TIME', 'SATELLITE', 'INSTRUMENT', 'CONFIDENCE', 'VERSION',\n",
       "       'BRIGHT_T31', 'FRP', 'DAYNIGHT', 'TYPE', 'VID', 'NIFC_ID', 'NIFC_NAME',\n",
       "       'START_YEAR', 'DISCOVERY_DATE', 'WF_CESSATION_DATE', 'na_l3name',\n",
       "       'ACQ_MONTH', 'ACQ_YEAR', 'ACQ_DATETIME', 'afdID', 'geometry'],\n",
       "      dtype='object')"
      ]
     },
     "execution_count": 55,
     "metadata": {},
     "output_type": "execute_result"
    }
   ],
   "source": [
    "# Load the combined MODIS and VIIRS AFDs (buffered)\n",
    "fp = os.path.join(projdir,f'data/spatial/mod/AFD/combined-afd_aspen-fires_2018_to_2023_buffer.gpkg')\n",
    "afds = gpd.read_file(fp)\n",
    "afds.columns"
   ]
  },
  {
   "cell_type": "code",
   "execution_count": 56,
   "id": "b7e2897a-5019-44ce-a26a-cf7cf46bccd8",
   "metadata": {},
   "outputs": [
    {
     "name": "stdout",
     "output_type": "stream",
     "text": [
      "There are [61/173] fire events in the Southern Rockies (2018-2023).\n"
     ]
    }
   ],
   "source": [
    "# Subset to the Southern Rockies (for now)\n",
    "afds_srm = afds[afds['na_l3name'] == 'Southern Rockies'] # subset to SRM\n",
    "print(f\"There are [{len(afds_srm['NIFC_ID'].unique())}/{len(afds['NIFC_ID'].unique())}] fire events in the Southern Rockies (2018-2023).\")"
   ]
  },
  {
   "cell_type": "code",
   "execution_count": 6,
   "id": "ad705a8a-5dfe-4287-b8f0-b8b28f1a6acb",
   "metadata": {},
   "outputs": [
    {
     "name": "stdout",
     "output_type": "stream",
     "text": [
      "  NIFC_ID INSTRUMENT  counts\n",
      "0   13356      MODIS    3397\n",
      "1   13356      VIIRS   12563\n",
      "2   13363      MODIS      28\n",
      "3   13363      VIIRS      88\n",
      "4   13378      VIIRS       2\n",
      "5   13494      MODIS       3\n",
      "6   13494      VIIRS      16\n",
      "7   13652      MODIS     928\n",
      "8   13652      VIIRS    3956\n",
      "9      14      MODIS     557\n",
      "Minimum obs./fire: 1; \n",
      "Maximum obs./fire: 12563\n"
     ]
    }
   ],
   "source": [
    "# Check the number of observations per fire\n",
    "afd_counts = afds_srm.groupby(['NIFC_ID','INSTRUMENT']).size().reset_index(name='counts')\n",
    "print(afd_counts.head(10))\n",
    "print(f\"Minimum obs./fire: {afd_counts['counts'].min()}; \\nMaximum obs./fire: {afd_counts['counts'].max()}\")"
   ]
  },
  {
   "cell_type": "code",
   "execution_count": 7,
   "id": "c50262dc-14c5-4ea4-8564-ce249f0d5a94",
   "metadata": {},
   "outputs": [
    {
     "data": {
      "text/plain": [
       "49"
      ]
     },
     "execution_count": 7,
     "metadata": {},
     "output_type": "execute_result"
    }
   ],
   "source": [
    "len(afd_counts[afd_counts['counts'] > 10]['NIFC_ID'].unique())"
   ]
  },
  {
   "cell_type": "code",
   "execution_count": 8,
   "id": "3cfc236c-4465-4663-b7d3-82ee47f68a7e",
   "metadata": {},
   "outputs": [
    {
     "data": {
      "text/html": [
       "<div>\n",
       "<style scoped>\n",
       "    .dataframe tbody tr th:only-of-type {\n",
       "        vertical-align: middle;\n",
       "    }\n",
       "\n",
       "    .dataframe tbody tr th {\n",
       "        vertical-align: top;\n",
       "    }\n",
       "\n",
       "    .dataframe thead th {\n",
       "        text-align: right;\n",
       "    }\n",
       "</style>\n",
       "<table border=\"1\" class=\"dataframe\">\n",
       "  <thead>\n",
       "    <tr style=\"text-align: right;\">\n",
       "      <th></th>\n",
       "      <th>afdID</th>\n",
       "      <th>geometry</th>\n",
       "    </tr>\n",
       "  </thead>\n",
       "  <tbody>\n",
       "    <tr>\n",
       "      <th>0</th>\n",
       "      <td>MODIS7298</td>\n",
       "      <td>POLYGON ((-1334259.255 1940525.281, -1334259.2...</td>\n",
       "    </tr>\n",
       "    <tr>\n",
       "      <th>1</th>\n",
       "      <td>MODIS7301</td>\n",
       "      <td>POLYGON ((-1335247.149 1940508.597, -1335247.1...</td>\n",
       "    </tr>\n",
       "    <tr>\n",
       "      <th>2</th>\n",
       "      <td>MODIS7989</td>\n",
       "      <td>POLYGON ((-1149036.475 2035501.025, -1149036.4...</td>\n",
       "    </tr>\n",
       "    <tr>\n",
       "      <th>3</th>\n",
       "      <td>MODIS7990</td>\n",
       "      <td>POLYGON ((-1148030.494 2035535.701, -1148030.4...</td>\n",
       "    </tr>\n",
       "    <tr>\n",
       "      <th>4</th>\n",
       "      <td>MODIS7991</td>\n",
       "      <td>POLYGON ((-1148997.363 2034487.930, -1148997.3...</td>\n",
       "    </tr>\n",
       "  </tbody>\n",
       "</table>\n",
       "</div>"
      ],
      "text/plain": [
       "       afdID                                           geometry\n",
       "0  MODIS7298  POLYGON ((-1334259.255 1940525.281, -1334259.2...\n",
       "1  MODIS7301  POLYGON ((-1335247.149 1940508.597, -1335247.1...\n",
       "2  MODIS7989  POLYGON ((-1149036.475 2035501.025, -1149036.4...\n",
       "3  MODIS7990  POLYGON ((-1148030.494 2035535.701, -1148030.4...\n",
       "4  MODIS7991  POLYGON ((-1148997.363 2034487.930, -1148997.3..."
      ]
     },
     "execution_count": 8,
     "metadata": {},
     "output_type": "execute_result"
    }
   ],
   "source": [
    "# Tidy columns for simplicity.\n",
    "afds_ = afds_srm[['afdID','geometry']]\n",
    "afds_.head()"
   ]
  },
  {
   "cell_type": "code",
   "execution_count": 9,
   "id": "81dd3bf0-8fe9-495e-8b04-7d4498e171a1",
   "metadata": {},
   "outputs": [],
   "source": [
    "bounds = afds_.total_bounds # for cropping"
   ]
  },
  {
   "cell_type": "code",
   "execution_count": 10,
   "id": "387fdb54-b436-46e9-a6ca-3674f5cb233d",
   "metadata": {},
   "outputs": [
    {
     "name": "stdout",
     "output_type": "stream",
     "text": [
      "Buffered AFD observations by 30 meters.\n"
     ]
    }
   ],
   "source": [
    "# Add a small buffer to the AFD observations (edge effects)\n",
    "buffer_dist = 30  # meters\n",
    "afds_b = afds_.copy() # make a copy of the original data\n",
    "afds_b['geometry'] = afds_b['geometry'].buffer(buffer_dist)\n",
    "print(f\"Buffered AFD observations by {buffer_dist} meters.\")"
   ]
  },
  {
   "cell_type": "code",
   "execution_count": 76,
   "id": "76f78a8c-d980-4cec-9402-b55efa64fe33",
   "metadata": {},
   "outputs": [],
   "source": [
    "# out_fp = os.path.join(projdir,'data/earth-engine/imports/afd_aspen-fires_2018_to_2023_bounds30.shp')\n",
    "# afds_b.to_file(out_fp)"
   ]
  },
  {
   "cell_type": "code",
   "execution_count": null,
   "id": "c8386c65-a459-4828-affc-762e09a98797",
   "metadata": {},
   "outputs": [],
   "source": []
  },
  {
   "cell_type": "markdown",
   "id": "997a84d4-4abf-4149-92ad-7080a83097df",
   "metadata": {},
   "source": [
    "## USFS TreeMap c.a. 2016"
   ]
  },
  {
   "cell_type": "code",
   "execution_count": 67,
   "id": "0da5cf35-c5f5-4c03-b7c2-198dd1d4eea1",
   "metadata": {},
   "outputs": [
    {
     "name": "stdout",
     "output_type": "stream",
     "text": [
      "Shape: (97383, 154221); \n",
      "GeoTransform: -2362845.0 30.0 0.0 3180555.0 0.0 -30.0; \n",
      "WKT: EPSG:5070; \n",
      "NoData Value: nan; \n",
      "Data Type: float32\n"
     ]
    },
    {
     "data": {
      "text/plain": [
       "9742"
      ]
     },
     "execution_count": 67,
     "metadata": {},
     "output_type": "execute_result"
    }
   ],
   "source": [
    "fp = os.path.join(maindir,'data/landcover/USFS/RDS_TreeMap/TreeMap2016_FORTYPCD/TreeMap2016_FORTYPCD.tif')\n",
    "tmap_da = rxr.open_rasterio(fp, masked=True, cache=False, chunks='auto').squeeze()\n",
    "shp, gt, wkt, nd = tmap_da.shape, tmap_da.spatial_ref.GeoTransform, tmap_da.rio.crs, tmap_da.rio.nodata\n",
    "print(\n",
    "    f\"Shape: {shp}; \\n\"\n",
    "    f\"GeoTransform: {gt}; \\n\"\n",
    "    f\"WKT: {wkt}; \\n\"\n",
    "    f\"NoData Value: {nd}; \\n\"\n",
    "    f\"Data Type: {tmap_da[0].dtype}\")\n",
    "gc.collect()"
   ]
  },
  {
   "cell_type": "code",
   "execution_count": 68,
   "id": "29fcdc4b-c34a-420e-9d2a-7c32b6f109cd",
   "metadata": {},
   "outputs": [
    {
     "data": {
      "text/plain": [
       "85139"
      ]
     },
     "execution_count": 68,
     "metadata": {},
     "output_type": "execute_result"
    }
   ],
   "source": [
    "# Crop to AFD total bounds\n",
    "tmap_da_crop = tmap_da.rio.clip_box(\n",
    "    minx=bounds[0]+1000, # +1000 meters for a small buffer\n",
    "    miny=bounds[1]+1000, \n",
    "    maxx=bounds[2]+1000, \n",
    "    maxy=bounds[3]+1000\n",
    ")\n",
    "del tmap_da\n",
    "gc.collect()"
   ]
  },
  {
   "cell_type": "code",
   "execution_count": 69,
   "id": "6b985cd0-5a1a-4f08-8357-e1fb82adfcdf",
   "metadata": {},
   "outputs": [
    {
     "name": "stdout",
     "output_type": "stream",
     "text": [
      "Total elapsed time: 1.81 minutes.\n",
      "\n",
      "~~~~~~~~~~\n",
      "\n"
     ]
    }
   ],
   "source": [
    "t0 = time.time()\n",
    "\n",
    "# Get the proportional landcover\n",
    "afds_tmap = compute_band_stats(\n",
    "    geoms=afds_, \n",
    "    image_da=tmap_da_crop, \n",
    "    id_col='afdID',\n",
    "    attr='treemap'\n",
    ")\n",
    "\n",
    "t1 = (time.time() - t0) / 60\n",
    "print(f\"Total elapsed time: {t1:.2f} minutes.\")\n",
    "print(\"\\n~~~~~~~~~~\\n\")"
   ]
  },
  {
   "cell_type": "code",
   "execution_count": 70,
   "id": "79f4f1c4-c1a4-40c9-b027-7cac5e3a0ad3",
   "metadata": {},
   "outputs": [
    {
     "data": {
      "text/html": [
       "<div>\n",
       "<style scoped>\n",
       "    .dataframe tbody tr th:only-of-type {\n",
       "        vertical-align: middle;\n",
       "    }\n",
       "\n",
       "    .dataframe tbody tr th {\n",
       "        vertical-align: top;\n",
       "    }\n",
       "\n",
       "    .dataframe thead th {\n",
       "        text-align: right;\n",
       "    }\n",
       "</style>\n",
       "<table border=\"1\" class=\"dataframe\">\n",
       "  <thead>\n",
       "    <tr style=\"text-align: right;\">\n",
       "      <th></th>\n",
       "      <th>afdID</th>\n",
       "      <th>treemap</th>\n",
       "      <th>count</th>\n",
       "      <th>total_pixels</th>\n",
       "      <th>pct_cover</th>\n",
       "    </tr>\n",
       "  </thead>\n",
       "  <tbody>\n",
       "    <tr>\n",
       "      <th>0</th>\n",
       "      <td>MODIS7298</td>\n",
       "      <td>182</td>\n",
       "      <td>2.0</td>\n",
       "      <td>994.0</td>\n",
       "      <td>0.201207</td>\n",
       "    </tr>\n",
       "    <tr>\n",
       "      <th>1</th>\n",
       "      <td>MODIS7298</td>\n",
       "      <td>185</td>\n",
       "      <td>75.0</td>\n",
       "      <td>994.0</td>\n",
       "      <td>7.545272</td>\n",
       "    </tr>\n",
       "    <tr>\n",
       "      <th>2</th>\n",
       "      <td>MODIS7298</td>\n",
       "      <td>201</td>\n",
       "      <td>88.0</td>\n",
       "      <td>994.0</td>\n",
       "      <td>8.853119</td>\n",
       "    </tr>\n",
       "    <tr>\n",
       "      <th>3</th>\n",
       "      <td>MODIS7298</td>\n",
       "      <td>221</td>\n",
       "      <td>208.0</td>\n",
       "      <td>994.0</td>\n",
       "      <td>20.925553</td>\n",
       "    </tr>\n",
       "    <tr>\n",
       "      <th>4</th>\n",
       "      <td>MODIS7298</td>\n",
       "      <td>261</td>\n",
       "      <td>87.0</td>\n",
       "      <td>994.0</td>\n",
       "      <td>8.752515</td>\n",
       "    </tr>\n",
       "  </tbody>\n",
       "</table>\n",
       "</div>"
      ],
      "text/plain": [
       "       afdID  treemap  count  total_pixels  pct_cover\n",
       "0  MODIS7298      182    2.0         994.0   0.201207\n",
       "1  MODIS7298      185   75.0         994.0   7.545272\n",
       "2  MODIS7298      201   88.0         994.0   8.853119\n",
       "3  MODIS7298      221  208.0         994.0  20.925553\n",
       "4  MODIS7298      261   87.0         994.0   8.752515"
      ]
     },
     "execution_count": 70,
     "metadata": {},
     "output_type": "execute_result"
    }
   ],
   "source": [
    "afds_tmap.head()"
   ]
  },
  {
   "cell_type": "code",
   "execution_count": null,
   "id": "c1c9b697-8ac4-4230-becd-48307fbf216e",
   "metadata": {},
   "outputs": [],
   "source": []
  },
  {
   "cell_type": "code",
   "execution_count": null,
   "id": "8a6fc942-2506-449f-ad54-b3c23f7b3972",
   "metadata": {},
   "outputs": [],
   "source": []
  },
  {
   "cell_type": "markdown",
   "id": "03d72f03-2289-44db-8e59-c68741913e4d",
   "metadata": {},
   "source": [
    "## LANDFIRE Existing Vegetation Type (EVT) c.a. 2016"
   ]
  },
  {
   "cell_type": "code",
   "execution_count": 11,
   "id": "96056a4e-e9f7-4af5-b7cf-a2b5aea24e0b",
   "metadata": {},
   "outputs": [
    {
     "name": "stdout",
     "output_type": "stream",
     "text": [
      "Shape: (97283, 154207); \n",
      "GeoTransform: -2362425.0 30.0 0.0 3177435.0 0.0 -30.0; \n",
      "WKT: EPSG:5070; \n",
      "NoData Value: nan; \n",
      "Data Type: float32\n"
     ]
    },
    {
     "data": {
      "text/plain": [
       "556"
      ]
     },
     "execution_count": 11,
     "metadata": {},
     "output_type": "execute_result"
    }
   ],
   "source": [
    "fp = os.path.join(maindir,'data/landcover/LANDFIRE/LF2016_EVT_200_CONUS/Tif/LC16_EVT_200.tif')\n",
    "evt_da = rxr.open_rasterio(fp, masked=True, cache=False, chunks='auto').squeeze()\n",
    "shp, gt, wkt, nd = evt_da.shape, evt_da.spatial_ref.GeoTransform, evt_da.rio.crs, evt_da.rio.nodata\n",
    "print(\n",
    "    f\"Shape: {shp}; \\n\"\n",
    "    f\"GeoTransform: {gt}; \\n\"\n",
    "    f\"WKT: {wkt}; \\n\"\n",
    "    f\"NoData Value: {nd}; \\n\"\n",
    "    f\"Data Type: {evt_da[0].dtype}\")\n",
    "gc.collect()"
   ]
  },
  {
   "cell_type": "code",
   "execution_count": 12,
   "id": "29e40e01-088e-4c61-9041-36bc31d2ab6c",
   "metadata": {},
   "outputs": [
    {
     "data": {
      "text/plain": [
       "66"
      ]
     },
     "execution_count": 12,
     "metadata": {},
     "output_type": "execute_result"
    }
   ],
   "source": [
    "evt_da_crop = evt_da.rio.clip_box(\n",
    "    minx=bounds[0]+1000, # +1000 meters for a small buffer\n",
    "    miny=bounds[1]+1000, \n",
    "    maxx=bounds[2]+1000, \n",
    "    maxy=bounds[3]+1000\n",
    ")\n",
    "del evt_da\n",
    "gc.collect()"
   ]
  },
  {
   "cell_type": "code",
   "execution_count": 44,
   "id": "bbfff329-c537-4b0d-bbc4-4cf286c3bccc",
   "metadata": {},
   "outputs": [
    {
     "name": "stdout",
     "output_type": "stream",
     "text": [
      "Total elapsed time: 1.88 minutes.\n",
      "\n",
      "~~~~~~~~~~\n",
      "\n"
     ]
    }
   ],
   "source": [
    "t0 = time.time()\n",
    "\n",
    "# Get the proportional landcover\n",
    "afds_evt = compute_band_stats(\n",
    "    geoms=afds_b, \n",
    "    image_da=evt_da_crop, \n",
    "    id_col='afdID'\n",
    ")\n",
    "\n",
    "t1 = (time.time() - t0) / 60\n",
    "print(f\"Total elapsed time: {t1:.2f} minutes.\")\n",
    "print(\"\\n~~~~~~~~~~\\n\")"
   ]
  },
  {
   "cell_type": "code",
   "execution_count": 45,
   "id": "4ff92d78-79f9-425e-a7b9-990c0c1682dc",
   "metadata": {},
   "outputs": [
    {
     "data": {
      "text/html": [
       "<div>\n",
       "<style scoped>\n",
       "    .dataframe tbody tr th:only-of-type {\n",
       "        vertical-align: middle;\n",
       "    }\n",
       "\n",
       "    .dataframe tbody tr th {\n",
       "        vertical-align: top;\n",
       "    }\n",
       "\n",
       "    .dataframe thead th {\n",
       "        text-align: right;\n",
       "    }\n",
       "</style>\n",
       "<table border=\"1\" class=\"dataframe\">\n",
       "  <thead>\n",
       "    <tr style=\"text-align: right;\">\n",
       "      <th></th>\n",
       "      <th>afdID</th>\n",
       "      <th>evt</th>\n",
       "      <th>count</th>\n",
       "      <th>total_pixels</th>\n",
       "      <th>pct_cover</th>\n",
       "    </tr>\n",
       "  </thead>\n",
       "  <tbody>\n",
       "    <tr>\n",
       "      <th>0</th>\n",
       "      <td>MODIS7298</td>\n",
       "      <td>7011</td>\n",
       "      <td>103.0</td>\n",
       "      <td>1190.0</td>\n",
       "      <td>8.655462</td>\n",
       "    </tr>\n",
       "    <tr>\n",
       "      <th>1</th>\n",
       "      <td>MODIS7298</td>\n",
       "      <td>7012</td>\n",
       "      <td>306.0</td>\n",
       "      <td>1190.0</td>\n",
       "      <td>25.714286</td>\n",
       "    </tr>\n",
       "    <tr>\n",
       "      <th>2</th>\n",
       "      <td>MODIS7298</td>\n",
       "      <td>7016</td>\n",
       "      <td>306.0</td>\n",
       "      <td>1190.0</td>\n",
       "      <td>25.714286</td>\n",
       "    </tr>\n",
       "    <tr>\n",
       "      <th>3</th>\n",
       "      <td>MODIS7298</td>\n",
       "      <td>7051</td>\n",
       "      <td>82.0</td>\n",
       "      <td>1190.0</td>\n",
       "      <td>6.890756</td>\n",
       "    </tr>\n",
       "    <tr>\n",
       "      <th>4</th>\n",
       "      <td>MODIS7298</td>\n",
       "      <td>7052</td>\n",
       "      <td>171.0</td>\n",
       "      <td>1190.0</td>\n",
       "      <td>14.369748</td>\n",
       "    </tr>\n",
       "  </tbody>\n",
       "</table>\n",
       "</div>"
      ],
      "text/plain": [
       "       afdID   evt  count  total_pixels  pct_cover\n",
       "0  MODIS7298  7011  103.0        1190.0   8.655462\n",
       "1  MODIS7298  7012  306.0        1190.0  25.714286\n",
       "2  MODIS7298  7016  306.0        1190.0  25.714286\n",
       "3  MODIS7298  7051   82.0        1190.0   6.890756\n",
       "4  MODIS7298  7052  171.0        1190.0  14.369748"
      ]
     },
     "execution_count": 45,
     "metadata": {},
     "output_type": "execute_result"
    }
   ],
   "source": [
    "afds_evt.head()"
   ]
  },
  {
   "cell_type": "code",
   "execution_count": 46,
   "id": "e1c6b1dc-e9b9-401a-873c-0525a4ff3fad",
   "metadata": {},
   "outputs": [
    {
     "name": "stdout",
     "output_type": "stream",
     "text": [
      "Index(['VALUE', 'EVT_NAME', 'LFRDB', 'EVT_FUEL', 'EVT_FUEL_N', 'EVT_LF',\n",
      "       'EVT_PHYS', 'EVT_GP', 'EVT_GP_N', 'SAF_SRM', 'EVT_ORDER', 'EVT_CLASS',\n",
      "       'EVT_SBCLS', 'R', 'G', 'B', 'RED', 'GREEN', 'BLUE'],\n",
      "      dtype='object')\n"
     ]
    }
   ],
   "source": [
    "# Read in the lookup table for the EVT codes\n",
    "lookup = os.path.join(maindir,'data/landcover/LANDFIRE/LF2016_EVT_200_CONUS/CSV_Data/LF16_EVT_200.csv')\n",
    "lookup = pd.read_csv(lookup)\n",
    "print(lookup.columns)"
   ]
  },
  {
   "cell_type": "code",
   "execution_count": 47,
   "id": "4ebd9201-39be-49dc-bcaf-433c4d8c9963",
   "metadata": {},
   "outputs": [
    {
     "data": {
      "text/html": [
       "<div>\n",
       "<style scoped>\n",
       "    .dataframe tbody tr th:only-of-type {\n",
       "        vertical-align: middle;\n",
       "    }\n",
       "\n",
       "    .dataframe tbody tr th {\n",
       "        vertical-align: top;\n",
       "    }\n",
       "\n",
       "    .dataframe thead th {\n",
       "        text-align: right;\n",
       "    }\n",
       "</style>\n",
       "<table border=\"1\" class=\"dataframe\">\n",
       "  <thead>\n",
       "    <tr style=\"text-align: right;\">\n",
       "      <th></th>\n",
       "      <th>afdID</th>\n",
       "      <th>evt</th>\n",
       "      <th>count</th>\n",
       "      <th>total_pixels</th>\n",
       "      <th>pct_cover</th>\n",
       "      <th>EVT_NAME</th>\n",
       "      <th>EVT_PHYS</th>\n",
       "      <th>EVT_GP_N</th>\n",
       "      <th>EVT_CLASS</th>\n",
       "      <th>EVT_SBCLS</th>\n",
       "    </tr>\n",
       "  </thead>\n",
       "  <tbody>\n",
       "    <tr>\n",
       "      <th>0</th>\n",
       "      <td>MODIS7298</td>\n",
       "      <td>7011</td>\n",
       "      <td>103.0</td>\n",
       "      <td>1190.0</td>\n",
       "      <td>8.655462</td>\n",
       "      <td>Rocky Mountain Aspen Forest and Woodland</td>\n",
       "      <td>Hardwood</td>\n",
       "      <td>Aspen Forest, Woodland, and Parkland</td>\n",
       "      <td>Open tree canopy</td>\n",
       "      <td>Deciduous open tree canopy</td>\n",
       "    </tr>\n",
       "    <tr>\n",
       "      <th>1</th>\n",
       "      <td>MODIS7298</td>\n",
       "      <td>7012</td>\n",
       "      <td>306.0</td>\n",
       "      <td>1190.0</td>\n",
       "      <td>25.714286</td>\n",
       "      <td>Rocky Mountain Bigtooth Maple Ravine Woodland</td>\n",
       "      <td>Hardwood</td>\n",
       "      <td>Bigtooth Maple Woodland</td>\n",
       "      <td>Open tree canopy</td>\n",
       "      <td>Deciduous open tree canopy</td>\n",
       "    </tr>\n",
       "    <tr>\n",
       "      <th>2</th>\n",
       "      <td>MODIS7298</td>\n",
       "      <td>7016</td>\n",
       "      <td>306.0</td>\n",
       "      <td>1190.0</td>\n",
       "      <td>25.714286</td>\n",
       "      <td>Colorado Plateau Pinyon-Juniper Woodland</td>\n",
       "      <td>Conifer</td>\n",
       "      <td>Pinyon-Juniper Woodland</td>\n",
       "      <td>Open tree canopy</td>\n",
       "      <td>Evergreen open tree canopy</td>\n",
       "    </tr>\n",
       "    <tr>\n",
       "      <th>3</th>\n",
       "      <td>MODIS7298</td>\n",
       "      <td>7051</td>\n",
       "      <td>82.0</td>\n",
       "      <td>1190.0</td>\n",
       "      <td>6.890756</td>\n",
       "      <td>Southern Rocky Mountain Dry-Mesic Montane Mixe...</td>\n",
       "      <td>Conifer</td>\n",
       "      <td>Douglas-fir-Ponderosa Pine-Lodgepole Pine Fore...</td>\n",
       "      <td>Closed tree canopy</td>\n",
       "      <td>Evergreen closed tree canopy</td>\n",
       "    </tr>\n",
       "    <tr>\n",
       "      <th>4</th>\n",
       "      <td>MODIS7298</td>\n",
       "      <td>7052</td>\n",
       "      <td>171.0</td>\n",
       "      <td>1190.0</td>\n",
       "      <td>14.369748</td>\n",
       "      <td>Southern Rocky Mountain Mesic Montane Mixed Co...</td>\n",
       "      <td>Conifer</td>\n",
       "      <td>Douglas-fir-Grand Fir-White Fir Forest and Woo...</td>\n",
       "      <td>Closed tree canopy</td>\n",
       "      <td>Evergreen closed tree canopy</td>\n",
       "    </tr>\n",
       "  </tbody>\n",
       "</table>\n",
       "</div>"
      ],
      "text/plain": [
       "       afdID   evt  count  total_pixels  pct_cover  \\\n",
       "0  MODIS7298  7011  103.0        1190.0   8.655462   \n",
       "1  MODIS7298  7012  306.0        1190.0  25.714286   \n",
       "2  MODIS7298  7016  306.0        1190.0  25.714286   \n",
       "3  MODIS7298  7051   82.0        1190.0   6.890756   \n",
       "4  MODIS7298  7052  171.0        1190.0  14.369748   \n",
       "\n",
       "                                            EVT_NAME  EVT_PHYS  \\\n",
       "0           Rocky Mountain Aspen Forest and Woodland  Hardwood   \n",
       "1      Rocky Mountain Bigtooth Maple Ravine Woodland  Hardwood   \n",
       "2           Colorado Plateau Pinyon-Juniper Woodland   Conifer   \n",
       "3  Southern Rocky Mountain Dry-Mesic Montane Mixe...   Conifer   \n",
       "4  Southern Rocky Mountain Mesic Montane Mixed Co...   Conifer   \n",
       "\n",
       "                                            EVT_GP_N           EVT_CLASS  \\\n",
       "0               Aspen Forest, Woodland, and Parkland    Open tree canopy   \n",
       "1                            Bigtooth Maple Woodland    Open tree canopy   \n",
       "2                            Pinyon-Juniper Woodland    Open tree canopy   \n",
       "3  Douglas-fir-Ponderosa Pine-Lodgepole Pine Fore...  Closed tree canopy   \n",
       "4  Douglas-fir-Grand Fir-White Fir Forest and Woo...  Closed tree canopy   \n",
       "\n",
       "                      EVT_SBCLS  \n",
       "0    Deciduous open tree canopy  \n",
       "1    Deciduous open tree canopy  \n",
       "2    Evergreen open tree canopy  \n",
       "3  Evergreen closed tree canopy  \n",
       "4  Evergreen closed tree canopy  "
      ]
     },
     "execution_count": 47,
     "metadata": {},
     "output_type": "execute_result"
    }
   ],
   "source": [
    "# Subset the codes we want to join, join back to the dataframe\n",
    "lookup = lookup[['VALUE','EVT_NAME','EVT_PHYS','EVT_GP_N','EVT_CLASS','EVT_SBCLS']]\n",
    "afds_evt_ = afds_evt.merge(lookup, left_on='evt', right_on='VALUE', how='left')\n",
    "afds_evt_.drop('VALUE', axis=1, inplace=True)\n",
    "afds_evt_.head()"
   ]
  },
  {
   "cell_type": "code",
   "execution_count": 51,
   "id": "8fd7b62d-7932-4552-83f9-8ae75a4310ae",
   "metadata": {},
   "outputs": [
    {
     "data": {
      "text/html": [
       "<div>\n",
       "<style scoped>\n",
       "    .dataframe tbody tr th:only-of-type {\n",
       "        vertical-align: middle;\n",
       "    }\n",
       "\n",
       "    .dataframe tbody tr th {\n",
       "        vertical-align: top;\n",
       "    }\n",
       "\n",
       "    .dataframe thead th {\n",
       "        text-align: right;\n",
       "    }\n",
       "</style>\n",
       "<table border=\"1\" class=\"dataframe\">\n",
       "  <thead>\n",
       "    <tr style=\"text-align: right;\">\n",
       "      <th></th>\n",
       "      <th>evt</th>\n",
       "      <th>EVT_GP_N</th>\n",
       "      <th>counts</th>\n",
       "    </tr>\n",
       "  </thead>\n",
       "  <tbody>\n",
       "    <tr>\n",
       "      <th>2</th>\n",
       "      <td>7011</td>\n",
       "      <td>Aspen Forest, Woodland, and Parkland</td>\n",
       "      <td>81839</td>\n",
       "    </tr>\n",
       "    <tr>\n",
       "      <th>25</th>\n",
       "      <td>7051</td>\n",
       "      <td>Douglas-fir-Ponderosa Pine-Lodgepole Pine Fore...</td>\n",
       "      <td>74776</td>\n",
       "    </tr>\n",
       "    <tr>\n",
       "      <th>29</th>\n",
       "      <td>7055</td>\n",
       "      <td>Spruce-Fir Forest and Woodland</td>\n",
       "      <td>74139</td>\n",
       "    </tr>\n",
       "    <tr>\n",
       "      <th>28</th>\n",
       "      <td>7054</td>\n",
       "      <td>Ponderosa Pine Forest, Woodland and Savanna</td>\n",
       "      <td>57110</td>\n",
       "    </tr>\n",
       "    <tr>\n",
       "      <th>66</th>\n",
       "      <td>7126</td>\n",
       "      <td>Big Sagebrush Shrubland and Steppe</td>\n",
       "      <td>55411</td>\n",
       "    </tr>\n",
       "    <tr>\n",
       "      <th>24</th>\n",
       "      <td>7050</td>\n",
       "      <td>Lodgepole Pine Forest and Woodland</td>\n",
       "      <td>54783</td>\n",
       "    </tr>\n",
       "    <tr>\n",
       "      <th>26</th>\n",
       "      <td>7052</td>\n",
       "      <td>Douglas-fir-Grand Fir-White Fir Forest and Woo...</td>\n",
       "      <td>45311</td>\n",
       "    </tr>\n",
       "    <tr>\n",
       "      <th>57</th>\n",
       "      <td>7107</td>\n",
       "      <td>Deciduous Shrubland</td>\n",
       "      <td>43672</td>\n",
       "    </tr>\n",
       "    <tr>\n",
       "      <th>78</th>\n",
       "      <td>7146</td>\n",
       "      <td>Grassland</td>\n",
       "      <td>40197</td>\n",
       "    </tr>\n",
       "    <tr>\n",
       "      <th>77</th>\n",
       "      <td>7145</td>\n",
       "      <td>Alpine Dwarf-Shrubland, Fell-field and Meadow</td>\n",
       "      <td>34957</td>\n",
       "    </tr>\n",
       "  </tbody>\n",
       "</table>\n",
       "</div>"
      ],
      "text/plain": [
       "     evt                                           EVT_GP_N  counts\n",
       "2   7011               Aspen Forest, Woodland, and Parkland   81839\n",
       "25  7051  Douglas-fir-Ponderosa Pine-Lodgepole Pine Fore...   74776\n",
       "29  7055                     Spruce-Fir Forest and Woodland   74139\n",
       "28  7054        Ponderosa Pine Forest, Woodland and Savanna   57110\n",
       "66  7126                 Big Sagebrush Shrubland and Steppe   55411\n",
       "24  7050                 Lodgepole Pine Forest and Woodland   54783\n",
       "26  7052  Douglas-fir-Grand Fir-White Fir Forest and Woo...   45311\n",
       "57  7107                                Deciduous Shrubland   43672\n",
       "78  7146                                          Grassland   40197\n",
       "77  7145      Alpine Dwarf-Shrubland, Fell-field and Meadow   34957"
      ]
     },
     "execution_count": 51,
     "metadata": {},
     "output_type": "execute_result"
    }
   ],
   "source": [
    "evt_counts = afds_evt_.groupby(['evt','EVT_GP_N']).size().reset_index(name='counts')\n",
    "evt_counts.sort_values('counts', ascending=False, inplace=True)\n",
    "evt_counts.head(10)"
   ]
  },
  {
   "cell_type": "code",
   "execution_count": 52,
   "id": "51541962-1880-4304-a003-58eb1f5530c5",
   "metadata": {},
   "outputs": [
    {
     "name": "stdout",
     "output_type": "stream",
     "text": [
      "Saved to: /Users/max/Library/CloudStorage/OneDrive-Personal/mcook/aspen-fire/Aim2/data/tabular/mod/EVT/afd_evt_codes-SRM.csv\n"
     ]
    }
   ],
   "source": [
    "# Export a table of the EVT values found in AFD observations\n",
    "lookup_ = lookup[lookup['VALUE'].isin(afds_evt['evt'].unique())]\n",
    "out_fp = os.path.join(projdir,'data/tabular/mod/EVT/afd_evt_codes-SRM.csv')\n",
    "lookup_.to_csv(out_fp)\n",
    "print(f\"Saved to: {out_fp}\")"
   ]
  },
  {
   "cell_type": "code",
   "execution_count": 58,
   "id": "d9ce1beb-91b6-4c2d-ab06-c6bc01d6c7b7",
   "metadata": {},
   "outputs": [
    {
     "data": {
      "text/html": [
       "<div>\n",
       "<style scoped>\n",
       "    .dataframe tbody tr th:only-of-type {\n",
       "        vertical-align: middle;\n",
       "    }\n",
       "\n",
       "    .dataframe tbody tr th {\n",
       "        vertical-align: top;\n",
       "    }\n",
       "\n",
       "    .dataframe thead th {\n",
       "        text-align: right;\n",
       "    }\n",
       "</style>\n",
       "<table border=\"1\" class=\"dataframe\">\n",
       "  <thead>\n",
       "    <tr style=\"text-align: right;\">\n",
       "      <th></th>\n",
       "      <th>afdID</th>\n",
       "      <th>evt</th>\n",
       "      <th>count</th>\n",
       "      <th>total_pixels</th>\n",
       "      <th>pct_cover</th>\n",
       "      <th>EVT_NAME</th>\n",
       "      <th>EVT_PHYS</th>\n",
       "      <th>EVT_GP_N</th>\n",
       "      <th>EVT_CLASS</th>\n",
       "      <th>EVT_SBCLS</th>\n",
       "    </tr>\n",
       "  </thead>\n",
       "  <tbody>\n",
       "    <tr>\n",
       "      <th>5404</th>\n",
       "      <td>MODIS10000</td>\n",
       "      <td>7051</td>\n",
       "      <td>543.0</td>\n",
       "      <td>1190.0</td>\n",
       "      <td>45.630252</td>\n",
       "      <td>Southern Rocky Mountain Dry-Mesic Montane Mixe...</td>\n",
       "      <td>Conifer</td>\n",
       "      <td>Douglas-fir-Ponderosa Pine-Lodgepole Pine Fore...</td>\n",
       "      <td>Closed tree canopy</td>\n",
       "      <td>Evergreen closed tree canopy</td>\n",
       "    </tr>\n",
       "    <tr>\n",
       "      <th>5414</th>\n",
       "      <td>MODIS10003</td>\n",
       "      <td>7051</td>\n",
       "      <td>804.0</td>\n",
       "      <td>1225.0</td>\n",
       "      <td>65.632653</td>\n",
       "      <td>Southern Rocky Mountain Dry-Mesic Montane Mixe...</td>\n",
       "      <td>Conifer</td>\n",
       "      <td>Douglas-fir-Ponderosa Pine-Lodgepole Pine Fore...</td>\n",
       "      <td>Closed tree canopy</td>\n",
       "      <td>Evergreen closed tree canopy</td>\n",
       "    </tr>\n",
       "    <tr>\n",
       "      <th>5423</th>\n",
       "      <td>MODIS10004</td>\n",
       "      <td>7051</td>\n",
       "      <td>489.0</td>\n",
       "      <td>1190.0</td>\n",
       "      <td>41.092437</td>\n",
       "      <td>Southern Rocky Mountain Dry-Mesic Montane Mixe...</td>\n",
       "      <td>Conifer</td>\n",
       "      <td>Douglas-fir-Ponderosa Pine-Lodgepole Pine Fore...</td>\n",
       "      <td>Closed tree canopy</td>\n",
       "      <td>Evergreen closed tree canopy</td>\n",
       "    </tr>\n",
       "    <tr>\n",
       "      <th>5431</th>\n",
       "      <td>MODIS10027</td>\n",
       "      <td>7016</td>\n",
       "      <td>534.0</td>\n",
       "      <td>1225.0</td>\n",
       "      <td>43.591837</td>\n",
       "      <td>Colorado Plateau Pinyon-Juniper Woodland</td>\n",
       "      <td>Conifer</td>\n",
       "      <td>Pinyon-Juniper Woodland</td>\n",
       "      <td>Open tree canopy</td>\n",
       "      <td>Evergreen open tree canopy</td>\n",
       "    </tr>\n",
       "    <tr>\n",
       "      <th>5447</th>\n",
       "      <td>MODIS10028</td>\n",
       "      <td>7016</td>\n",
       "      <td>704.0</td>\n",
       "      <td>1190.0</td>\n",
       "      <td>59.159664</td>\n",
       "      <td>Colorado Plateau Pinyon-Juniper Woodland</td>\n",
       "      <td>Conifer</td>\n",
       "      <td>Pinyon-Juniper Woodland</td>\n",
       "      <td>Open tree canopy</td>\n",
       "      <td>Evergreen open tree canopy</td>\n",
       "    </tr>\n",
       "  </tbody>\n",
       "</table>\n",
       "</div>"
      ],
      "text/plain": [
       "           afdID   evt  count  total_pixels  pct_cover  \\\n",
       "5404  MODIS10000  7051  543.0        1190.0  45.630252   \n",
       "5414  MODIS10003  7051  804.0        1225.0  65.632653   \n",
       "5423  MODIS10004  7051  489.0        1190.0  41.092437   \n",
       "5431  MODIS10027  7016  534.0        1225.0  43.591837   \n",
       "5447  MODIS10028  7016  704.0        1190.0  59.159664   \n",
       "\n",
       "                                               EVT_NAME EVT_PHYS  \\\n",
       "5404  Southern Rocky Mountain Dry-Mesic Montane Mixe...  Conifer   \n",
       "5414  Southern Rocky Mountain Dry-Mesic Montane Mixe...  Conifer   \n",
       "5423  Southern Rocky Mountain Dry-Mesic Montane Mixe...  Conifer   \n",
       "5431           Colorado Plateau Pinyon-Juniper Woodland  Conifer   \n",
       "5447           Colorado Plateau Pinyon-Juniper Woodland  Conifer   \n",
       "\n",
       "                                               EVT_GP_N           EVT_CLASS  \\\n",
       "5404  Douglas-fir-Ponderosa Pine-Lodgepole Pine Fore...  Closed tree canopy   \n",
       "5414  Douglas-fir-Ponderosa Pine-Lodgepole Pine Fore...  Closed tree canopy   \n",
       "5423  Douglas-fir-Ponderosa Pine-Lodgepole Pine Fore...  Closed tree canopy   \n",
       "5431                            Pinyon-Juniper Woodland    Open tree canopy   \n",
       "5447                            Pinyon-Juniper Woodland    Open tree canopy   \n",
       "\n",
       "                         EVT_SBCLS  \n",
       "5404  Evergreen closed tree canopy  \n",
       "5414  Evergreen closed tree canopy  \n",
       "5423  Evergreen closed tree canopy  \n",
       "5431    Evergreen open tree canopy  \n",
       "5447    Evergreen open tree canopy  "
      ]
     },
     "execution_count": 58,
     "metadata": {},
     "output_type": "execute_result"
    }
   ],
   "source": [
    "# Identify the dominant EVT class for each observation\n",
    "dominant_evt = afds_evt_.loc[afds_evt.groupby('afdID')['pct_cover'].idxmax()]\n",
    "dominant_evt.head()"
   ]
  },
  {
   "cell_type": "code",
   "execution_count": null,
   "id": "23674498-85b8-44d4-8a9f-39711492fcad",
   "metadata": {},
   "outputs": [],
   "source": []
  },
  {
   "cell_type": "code",
   "execution_count": null,
   "id": "de53de8a-cd48-49cd-a732-7b94699f2462",
   "metadata": {},
   "outputs": [],
   "source": [
    "# Join to the FRP"
   ]
  },
  {
   "cell_type": "code",
   "execution_count": 59,
   "id": "ba9d8959-c35e-4386-b004-3f162afb9643",
   "metadata": {},
   "outputs": [
    {
     "data": {
      "text/html": [
       "<div>\n",
       "<style scoped>\n",
       "    .dataframe tbody tr th:only-of-type {\n",
       "        vertical-align: middle;\n",
       "    }\n",
       "\n",
       "    .dataframe tbody tr th {\n",
       "        vertical-align: top;\n",
       "    }\n",
       "\n",
       "    .dataframe thead th {\n",
       "        text-align: right;\n",
       "    }\n",
       "</style>\n",
       "<table border=\"1\" class=\"dataframe\">\n",
       "  <thead>\n",
       "    <tr style=\"text-align: right;\">\n",
       "      <th></th>\n",
       "      <th>afdID</th>\n",
       "      <th>INSTRUMENT</th>\n",
       "      <th>ACQ_DATETIME</th>\n",
       "      <th>DAYNIGHT</th>\n",
       "      <th>FRP</th>\n",
       "      <th>na_l3name</th>\n",
       "      <th>evt</th>\n",
       "      <th>count</th>\n",
       "      <th>total_pixels</th>\n",
       "      <th>pct_cover</th>\n",
       "      <th>EVT_NAME</th>\n",
       "      <th>EVT_PHYS</th>\n",
       "      <th>EVT_GP_N</th>\n",
       "      <th>EVT_CLASS</th>\n",
       "      <th>EVT_SBCLS</th>\n",
       "    </tr>\n",
       "  </thead>\n",
       "  <tbody>\n",
       "    <tr>\n",
       "      <th>0</th>\n",
       "      <td>MODIS8479</td>\n",
       "      <td>MODIS</td>\n",
       "      <td>2018-06-01 18:15:00+00:00</td>\n",
       "      <td>D</td>\n",
       "      <td>17.3</td>\n",
       "      <td>Southern Rockies</td>\n",
       "      <td>7054</td>\n",
       "      <td>422.0</td>\n",
       "      <td>1156.0</td>\n",
       "      <td>36.505190</td>\n",
       "      <td>Southern Rocky Mountain Ponderosa Pine Woodland</td>\n",
       "      <td>Conifer</td>\n",
       "      <td>Ponderosa Pine Forest, Woodland and Savanna</td>\n",
       "      <td>Open tree canopy</td>\n",
       "      <td>Evergreen open tree canopy</td>\n",
       "    </tr>\n",
       "    <tr>\n",
       "      <th>1</th>\n",
       "      <td>MODIS8480</td>\n",
       "      <td>MODIS</td>\n",
       "      <td>2018-06-01 18:15:00+00:00</td>\n",
       "      <td>D</td>\n",
       "      <td>87.1</td>\n",
       "      <td>Southern Rockies</td>\n",
       "      <td>7107</td>\n",
       "      <td>419.0</td>\n",
       "      <td>1156.0</td>\n",
       "      <td>36.245675</td>\n",
       "      <td>Rocky Mountain Gambel Oak-Mixed Montane Shrubland</td>\n",
       "      <td>Shrubland</td>\n",
       "      <td>Deciduous Shrubland</td>\n",
       "      <td>Shrubland</td>\n",
       "      <td>Mixed evergreen-deciduous shrubland</td>\n",
       "    </tr>\n",
       "    <tr>\n",
       "      <th>2</th>\n",
       "      <td>MODIS8481</td>\n",
       "      <td>MODIS</td>\n",
       "      <td>2018-06-01 18:15:00+00:00</td>\n",
       "      <td>D</td>\n",
       "      <td>174.5</td>\n",
       "      <td>Southern Rockies</td>\n",
       "      <td>7054</td>\n",
       "      <td>639.0</td>\n",
       "      <td>1190.0</td>\n",
       "      <td>53.697479</td>\n",
       "      <td>Southern Rocky Mountain Ponderosa Pine Woodland</td>\n",
       "      <td>Conifer</td>\n",
       "      <td>Ponderosa Pine Forest, Woodland and Savanna</td>\n",
       "      <td>Open tree canopy</td>\n",
       "      <td>Evergreen open tree canopy</td>\n",
       "    </tr>\n",
       "    <tr>\n",
       "      <th>3</th>\n",
       "      <td>MODIS8482</td>\n",
       "      <td>MODIS</td>\n",
       "      <td>2018-06-01 18:15:00+00:00</td>\n",
       "      <td>D</td>\n",
       "      <td>92.2</td>\n",
       "      <td>Southern Rockies</td>\n",
       "      <td>7051</td>\n",
       "      <td>372.0</td>\n",
       "      <td>1156.0</td>\n",
       "      <td>32.179931</td>\n",
       "      <td>Southern Rocky Mountain Dry-Mesic Montane Mixe...</td>\n",
       "      <td>Conifer</td>\n",
       "      <td>Douglas-fir-Ponderosa Pine-Lodgepole Pine Fore...</td>\n",
       "      <td>Closed tree canopy</td>\n",
       "      <td>Evergreen closed tree canopy</td>\n",
       "    </tr>\n",
       "    <tr>\n",
       "      <th>4</th>\n",
       "      <td>MODIS8483</td>\n",
       "      <td>MODIS</td>\n",
       "      <td>2018-06-01 18:15:00+00:00</td>\n",
       "      <td>D</td>\n",
       "      <td>235.6</td>\n",
       "      <td>Southern Rockies</td>\n",
       "      <td>7054</td>\n",
       "      <td>587.0</td>\n",
       "      <td>1190.0</td>\n",
       "      <td>49.327731</td>\n",
       "      <td>Southern Rocky Mountain Ponderosa Pine Woodland</td>\n",
       "      <td>Conifer</td>\n",
       "      <td>Ponderosa Pine Forest, Woodland and Savanna</td>\n",
       "      <td>Open tree canopy</td>\n",
       "      <td>Evergreen open tree canopy</td>\n",
       "    </tr>\n",
       "  </tbody>\n",
       "</table>\n",
       "</div>"
      ],
      "text/plain": [
       "       afdID INSTRUMENT              ACQ_DATETIME DAYNIGHT    FRP  \\\n",
       "0  MODIS8479      MODIS 2018-06-01 18:15:00+00:00        D   17.3   \n",
       "1  MODIS8480      MODIS 2018-06-01 18:15:00+00:00        D   87.1   \n",
       "2  MODIS8481      MODIS 2018-06-01 18:15:00+00:00        D  174.5   \n",
       "3  MODIS8482      MODIS 2018-06-01 18:15:00+00:00        D   92.2   \n",
       "4  MODIS8483      MODIS 2018-06-01 18:15:00+00:00        D  235.6   \n",
       "\n",
       "          na_l3name   evt  count  total_pixels  pct_cover  \\\n",
       "0  Southern Rockies  7054  422.0        1156.0  36.505190   \n",
       "1  Southern Rockies  7107  419.0        1156.0  36.245675   \n",
       "2  Southern Rockies  7054  639.0        1190.0  53.697479   \n",
       "3  Southern Rockies  7051  372.0        1156.0  32.179931   \n",
       "4  Southern Rockies  7054  587.0        1190.0  49.327731   \n",
       "\n",
       "                                            EVT_NAME   EVT_PHYS  \\\n",
       "0    Southern Rocky Mountain Ponderosa Pine Woodland    Conifer   \n",
       "1  Rocky Mountain Gambel Oak-Mixed Montane Shrubland  Shrubland   \n",
       "2    Southern Rocky Mountain Ponderosa Pine Woodland    Conifer   \n",
       "3  Southern Rocky Mountain Dry-Mesic Montane Mixe...    Conifer   \n",
       "4    Southern Rocky Mountain Ponderosa Pine Woodland    Conifer   \n",
       "\n",
       "                                            EVT_GP_N           EVT_CLASS  \\\n",
       "0        Ponderosa Pine Forest, Woodland and Savanna    Open tree canopy   \n",
       "1                                Deciduous Shrubland           Shrubland   \n",
       "2        Ponderosa Pine Forest, Woodland and Savanna    Open tree canopy   \n",
       "3  Douglas-fir-Ponderosa Pine-Lodgepole Pine Fore...  Closed tree canopy   \n",
       "4        Ponderosa Pine Forest, Woodland and Savanna    Open tree canopy   \n",
       "\n",
       "                             EVT_SBCLS  \n",
       "0           Evergreen open tree canopy  \n",
       "1  Mixed evergreen-deciduous shrubland  \n",
       "2           Evergreen open tree canopy  \n",
       "3         Evergreen closed tree canopy  \n",
       "4           Evergreen open tree canopy  "
      ]
     },
     "execution_count": 59,
     "metadata": {},
     "output_type": "execute_result"
    }
   ],
   "source": [
    "frp = afds_srm[['afdID','INSTRUMENT','ACQ_DATETIME','DAYNIGHT','FRP','na_l3name']]\n",
    "evt = dominant_evt[['afdID','EVT_NAME','EVT_PHYS','EVT_GP_N','pct_cover']]\n",
    "frp_evt_srm = pd.merge(frp, dominant_evt, on='afdID', how='left')\n",
    "frp_evt_srm.head()"
   ]
  },
  {
   "cell_type": "code",
   "execution_count": 64,
   "id": "a442bcea-e9e4-40cf-bdb4-76aef7358f48",
   "metadata": {},
   "outputs": [
    {
     "data": {
      "image/png": "[encoded data removed]",
      "text/plain": [
       "<Figure size 1000x1000 with 1 Axes>"
      ]
     },
     "metadata": {},
     "output_type": "display_data"
    }
   ],
   "source": [
    "# Plot FRP by EVT group name\n",
    "df = frp_evt_srm[frp_evt_srm['INSTRUMENT'] == 'MODIS']\n",
    "# Get the 10 most common classes\n",
    "top10 = evt_counts\n",
    "# Find the median and sort the evt classes\n",
    "med_frp = df.groupby('EVT_GP_N')['FRP'].median().sort_values(ascending=False)\n",
    "sorted = med_frp.index.tolist()\n",
    "\n",
    "plt.figure(figsize=(10, 10)) \n",
    "\n",
    "sns.boxplot(\n",
    "    data=df,\n",
    "    x='FRP', \n",
    "    y='EVT_GP_N', \n",
    "    hue='DAYNIGHT',\n",
    "    order=sorted,  \n",
    "    palette='coolwarm', \n",
    "    dodge=True\n",
    ")\n",
    "\n",
    "plt.xscale('log')\n",
    "\n",
    "plt.xlabel('Fire Radiative Power (FRP)')\n",
    "plt.ylabel('Dominant Vegetation Type')\n",
    "\n",
    "plt.tight_layout()\n",
    "plt.show()"
   ]
  },
  {
   "cell_type": "code",
   "execution_count": null,
   "id": "9caa0f7d-3493-48c8-8826-3df6d9eeb125",
   "metadata": {},
   "outputs": [],
   "source": []
  },
  {
   "cell_type": "code",
   "execution_count": null,
   "id": "ddd42060-d947-4a97-98d3-09733437bd1c",
   "metadata": {},
   "outputs": [],
   "source": []
  },
  {
   "cell_type": "code",
   "execution_count": null,
   "id": "765deb8a-fa03-49ae-ab58-29d747ae2ca6",
   "metadata": {},
   "outputs": [],
   "source": []
  },
  {
   "cell_type": "markdown",
   "id": "33579afc-c3de-4869-9c09-de96816696d5",
   "metadata": {},
   "source": [
    "### Calculate the percent aspen cover"
   ]
  },
  {
   "cell_type": "code",
   "execution_count": 54,
   "id": "7af81ec3-9baa-4ec4-9573-182464a57b3c",
   "metadata": {},
   "outputs": [
    {
     "name": "stdout",
     "output_type": "stream",
     "text": [
      "Aspen EVT classes in the Southern Rockies:\n",
      "['Rocky Mountain Aspen Forest and Woodland'\n",
      " 'Inter-Mountain Basins Aspen-Mixed Conifer Forest and Woodland'\n",
      " 'Northwestern Great Plains Aspen Forest and Parkland']\n",
      "\n"
     ]
    }
   ],
   "source": [
    "# Identify aspen classes\n",
    "aspen_classes = afds_evt_[afds_evt_['EVT_NAME'].str.contains('aspen', case=False, na=False)]['EVT_NAME'].unique()\n",
    "print(f\"Aspen EVT classes in the Southern Rockies:\\n{aspen_classes}\\n\")"
   ]
  },
  {
   "cell_type": "code",
   "execution_count": null,
   "id": "122db178-051c-450c-8d7d-e784ae42554d",
   "metadata": {},
   "outputs": [],
   "source": []
  },
  {
   "cell_type": "code",
   "execution_count": null,
   "id": "8f8e5a39-22af-4084-9c94-9db2e5f7bc8b",
   "metadata": {},
   "outputs": [],
   "source": []
  },
  {
   "cell_type": "markdown",
   "id": "17c0e830-d530-4a87-970a-9787616e5770",
   "metadata": {},
   "source": [
    "## Sentinel-based Aspen Cover"
   ]
  },
  {
   "cell_type": "code",
   "execution_count": null,
   "id": "bc3c93af-d8cf-4560-99dd-d4bda7319af9",
   "metadata": {},
   "outputs": [],
   "source": [
    "fp = os.path.join(maindir,'aspen-fire/Aim1/data/spatial/mod/results/classification/s2aspen_distribution_10m_y2019_CookEtAl.tif')\n",
    "s2aspen_da = rxr.open_rasterio(fp, masked=True, cache=False, chunks='auto').squeeze()\n",
    "shp, gt, wkt, nd = s2aspen_da.shape, s2aspen_da.spatial_ref.GeoTransform, s2aspen_da.rio.crs, s2aspen_da.rio.nodata\n",
    "print(\n",
    "    f\"Shape: {shp}; \\n\"\n",
    "    f\"GeoTransform: {gt}; \\n\"\n",
    "    f\"WKT: {wkt}; \\n\"\n",
    "    f\"NoData Value: {nd}; \\n\"\n",
    "    f\"Data Type: {s2aspen_da[0].dtype}\")\n",
    "gc.collect()"
   ]
  },
  {
   "cell_type": "code",
   "execution_count": null,
   "id": "5099cd90-a144-40ff-bc12-fdd68f3f3d93",
   "metadata": {},
   "outputs": [],
   "source": [
    "t0 = time.time()\n",
    "\n",
    "# Get the proportional landcover\n",
    "afds_s2aspen = compute_band_stats(\n",
    "    geoms=afds_, \n",
    "    image_da=s2aspen_da, \n",
    "    id_col='afdID',\n",
    "    attr='s2aspen'\n",
    ")\n",
    "\n",
    "t1 = (time.time() - t0) / 60\n",
    "print(f\"Total elapsed time: {t1:.2f} minutes.\")\n",
    "print(\"\\n~~~~~~~~~~\\n\")"
   ]
  },
  {
   "cell_type": "code",
   "execution_count": null,
   "id": "c062045f-386c-4034-8637-c19ab60b66ed",
   "metadata": {},
   "outputs": [],
   "source": [
    "afds_s2aspen = afds_s2aspen[afds_s2aspen['s2aspen'] == 1]\n",
    "afds_s2aspen.head()"
   ]
  },
  {
   "cell_type": "code",
   "execution_count": null,
   "id": "c531c711-84eb-4402-83b0-04f70dbc9afe",
   "metadata": {},
   "outputs": [],
   "source": [
    "# Merge back to FRP"
   ]
  },
  {
   "cell_type": "code",
   "execution_count": null,
   "id": "81e4f4e4-e71d-411e-9818-0154ea55a59c",
   "metadata": {},
   "outputs": [],
   "source": []
  },
  {
   "cell_type": "code",
   "execution_count": null,
   "id": "e48accdb-e9f6-4c1d-a931-3750028cb743",
   "metadata": {},
   "outputs": [],
   "source": []
  },
  {
   "cell_type": "code",
   "execution_count": null,
   "id": "a1ef89c4-96cb-4952-88f1-651f3e513488",
   "metadata": {},
   "outputs": [],
   "source": []
  },
  {
   "cell_type": "code",
   "execution_count": null,
   "id": "e631105a-71fc-465f-b559-ad754653c084",
   "metadata": {},
   "outputs": [],
   "source": []
  },
  {
   "cell_type": "code",
   "execution_count": null,
   "id": "9bf12d80-0269-44ac-8adf-f6df9c11b602",
   "metadata": {},
   "outputs": [],
   "source": [
    "# Make some plots. Just for the SRM."
   ]
  },
  {
   "cell_type": "code",
   "execution_count": null,
   "id": "4932c33d-144c-4d7e-b344-5d6071992b26",
   "metadata": {},
   "outputs": [],
   "source": [
    "# Join back to FRP\n",
    "frp = afds[['afdID','INSTRUMENT','ACQ_DATETIME','DAYNIGHT','FRP','na_l3name']]\n",
    "frp = frp[frp['na_l3name'] == 'Southern Rockies']\n",
    "\n",
    "evt = afds_evt[['afdID','EVT_NAME','EVT_PHYS','EVT_GP_N','pct_cover']]\n",
    "\n",
    "frp_evt_srm = pd.merge(frp, evt, on='afdID', how='left')\n",
    "frp_evt_srm.head()"
   ]
  },
  {
   "cell_type": "code",
   "execution_count": null,
   "id": "0a5799e7-35aa-4c06-bcef-c73192272d2b",
   "metadata": {},
   "outputs": [],
   "source": [
    "# Create a \"pct_forest\" class\n",
    "forest_classes = ['Hardwood', 'Conifer', 'Conifer-Hardwood']\n",
    "frp_plots_forest = frp_evt_srm[frp_evt_srm['EVT_NAME'].isin(forest_classes)]\n",
    "# Pivot table and calculate the percent forest\n",
    "forest_cover = (\n",
    "    frp_evt_srm[['afdID', 'EVT_PHYS', 'pct_cover']]\n",
    "    .pivot_table(index='afdID', columns='EVT_PHYS', values='pct_cover', aggfunc='sum', fill_value=0)\n",
    ")\n",
    "forest_cover['pct_forest'] = forest_cover[forest_classes].sum(axis=1)\n",
    "# Merge back to the main data frame\n",
    "frp_evt_srm = frp_evt_srm.merge(forest_cover[['pct_forest']], on='afdID')\n",
    "frp_evt_srm['pct_forest'].describe()"
   ]
  },
  {
   "cell_type": "code",
   "execution_count": null,
   "id": "3b366e07-5632-4499-b224-a1ae24f9ff11",
   "metadata": {},
   "outputs": [],
   "source": []
  },
  {
   "cell_type": "code",
   "execution_count": null,
   "id": "581bedf6-7106-4ada-8192-7d8cf73fa068",
   "metadata": {},
   "outputs": [],
   "source": [
    "# Now filter to retain just the aspen composition in FRP observations\n",
    "frp_evt_srm_aspen = frp_evt_srm[frp_evt_srm['EVT_NAME'].isin(aspen_classes)]\n",
    "# What percent of FRP observations have an aspen component?\n",
    "aspenpct = len(frp_evt_srm_aspen['afdID'].unique()) / len(frp_evt_srm['afdID'].unique()) * 100\n",
    "print(f\"In the Southern Rockies, {aspenpct:.2f} of MODIS/VIIRS AFD have an aspen component.\")"
   ]
  },
  {
   "cell_type": "code",
   "execution_count": null,
   "id": "94c2a83f-a2ba-4620-aa65-dd8217d761e0",
   "metadata": {},
   "outputs": [],
   "source": [
    "plt.figure(figsize=(6, 4))\n",
    "\n",
    "frp_plots_aspen_d = frp_evt_srm_aspen[frp_evt_srm_aspen['DAYNIGHT'] == 'D']\n",
    "frp_plots_aspen_n = frp_evt_srm_aspen[frp_evt_srm_aspen['DAYNIGHT'] == 'N']\n",
    "\n",
    "# Apply log transformation to FRP values; add 1 to avoid taking log of zero\n",
    "sns.kdeplot(np.log1p(frp_plots_aspen_d['FRP']), fill=True, label=\"Daytime Obs.\")\n",
    "sns.kdeplot(np.log1p(frp_plots_aspen_n['FRP']), fill=True, label=\"Nighttime Obs.\")\n",
    "\n",
    "# Set plot title and axis labels\n",
    "plt.title('Log density of FRP for any aspen (Southern Rockies)')\n",
    "plt.xlabel('Log of Fire Radiative Power (FRP)')\n",
    "plt.ylabel('Density')\n",
    "plt.legend()\n",
    "plt.tight_layout()  # Adjust layout to prevent clipping of ylabel\n",
    "\n",
    "# plt.savefig(os.path.join(maindir,'aspen-fire/Aim2/figures/FigX_frp_density_aspen-any_day-night.png'), dpi=300, bbox_inches='tight')\n",
    "\n",
    "plt.show()"
   ]
  },
  {
   "cell_type": "code",
   "execution_count": null,
   "id": "d78896ad-5b69-445d-8fbe-020ab334829d",
   "metadata": {},
   "outputs": [],
   "source": [
    "plt.figure(figsize=(12, 4))\n",
    "\n",
    "frp_plots_aspen_ = frp_evt_srm_aspen[frp_evt_srm_aspen['FRP'] > 0]\n",
    "\n",
    "for aspen_class in aspen_classes:\n",
    "    subset = frp_plots_aspen_[frp_plots_aspen_['EVT_NAME'] == aspen_class]\n",
    "    sns.scatterplot(x='pct_cover', y='FRP', data=subset, label=aspen_class)\n",
    "\n",
    "plt.yscale('log')\n",
    "\n",
    "plt.title('FRP vs Percent Cover of Aspen Classes')\n",
    "plt.xlabel('Percent Cover of Aspen')\n",
    "plt.ylabel('Fire Radiative Power (FRP)')\n",
    "plt.legend(title='Aspen Class')\n",
    "\n",
    "# plt.savefig(os.path.join(maindir,'aspen-fire/Aim2/figures/FigX_aspen_frp_scatterplot.png'), dpi=300, bbox_inches='tight')\n",
    "\n",
    "plt.show()\n",
    "\n",
    "del frp_plots_aspen_"
   ]
  },
  {
   "cell_type": "code",
   "execution_count": null,
   "id": "21284cb6-3300-46fa-abac-aa73495bee16",
   "metadata": {},
   "outputs": [],
   "source": []
  },
  {
   "cell_type": "code",
   "execution_count": null,
   "id": "8f0c19e3-006f-4078-92ac-1c3a3800dddb",
   "metadata": {},
   "outputs": [],
   "source": [
    "# Identify the dominant EVT types."
   ]
  },
  {
   "cell_type": "code",
   "execution_count": null,
   "id": "91448b40-0bac-4fda-8ed9-4b5a281cab26",
   "metadata": {},
   "outputs": [],
   "source": []
  },
  {
   "cell_type": "code",
   "execution_count": null,
   "id": "de9972e6-0b6e-429e-acd8-92a29602be22",
   "metadata": {},
   "outputs": [],
   "source": [
    "# Identify the dominant EVT class for each observation\n",
    "dominant_evt = afds_evt.loc[afds_evt.groupby('afdID')['pct_cover'].idxmax()]\n",
    "dominant_evt.head()"
   ]
  },
  {
   "cell_type": "code",
   "execution_count": null,
   "id": "7e2b8287-509d-4e1e-89a3-6e4c6b2af325",
   "metadata": {},
   "outputs": [],
   "source": [
    "print(f\"There are {len(dominant_evt['EVT_GP_N'].unique())} EVT_GP_N categories.\\n\")\n",
    "print(dominant_evt['EVT_GP_N'].unique())"
   ]
  },
  {
   "cell_type": "code",
   "execution_count": null,
   "id": "2ee90890-de63-4323-b8c1-5db9e743906a",
   "metadata": {},
   "outputs": [],
   "source": [
    "# Save this file out as well.\n",
    "out_fp = os.path.join(projdir,'data/tabular/mod/EVT/afd_aspen-fires_2018_to_2023_buffer-EVT-dominant.csv')\n",
    "dominant_evt.to_csv(out_fp)\n",
    "print(f\"Saved zonal statistics to: {out_fp}\")"
   ]
  },
  {
   "cell_type": "code",
   "execution_count": null,
   "id": "d4da4b6a-4431-43d9-9677-484fb384465b",
   "metadata": {},
   "outputs": [],
   "source": [
    "# Join back to FRP\n",
    "frp = afds[['afdID','INSTRUMENT','ACQ_DATETIME','DAYNIGHT','FRP','na_l3name']]\n",
    "frp = frp[frp['na_l3name'] == 'Southern Rockies']\n",
    "evt = dominant_evt[['afdID','EVT_NAME','EVT_PHYS','EVT_GP_N','pct_cover']]\n",
    "frp_evt = pd.merge(frp, evt, on='afdID', how='left')\n",
    "frp_evt.head()"
   ]
  },
  {
   "cell_type": "code",
   "execution_count": 60,
   "id": "887f4c8f-4157-44c4-9fbd-de4f0fcf7946",
   "metadata": {},
   "outputs": [
    {
     "ename": "NameError",
     "evalue": "name 'frp_evt' is not defined",
     "output_type": "error",
     "traceback": [
      "\u001b[0;31m---------------------------------------------------------------------------\u001b[0m",
      "\u001b[0;31mNameError\u001b[0m                                 Traceback (most recent call last)",
      "Cell \u001b[0;32mIn[60], line 3\u001b[0m\n\u001b[1;32m      1\u001b[0m \u001b[38;5;66;03m# Plot FRP by EVT group name\u001b[39;00m\n\u001b[0;32m----> 3\u001b[0m df \u001b[38;5;241m=\u001b[39m \u001b[43mfrp_evt\u001b[49m[frp_evt[\u001b[38;5;124m'\u001b[39m\u001b[38;5;124mINSTRUMENT\u001b[39m\u001b[38;5;124m'\u001b[39m] \u001b[38;5;241m==\u001b[39m \u001b[38;5;124m'\u001b[39m\u001b[38;5;124mVIIRS\u001b[39m\u001b[38;5;124m'\u001b[39m]\n\u001b[1;32m      5\u001b[0m med_frp \u001b[38;5;241m=\u001b[39m df\u001b[38;5;241m.\u001b[39mgroupby(\u001b[38;5;124m'\u001b[39m\u001b[38;5;124mEVT_GP_N\u001b[39m\u001b[38;5;124m'\u001b[39m)[\u001b[38;5;124m'\u001b[39m\u001b[38;5;124mFRP\u001b[39m\u001b[38;5;124m'\u001b[39m]\u001b[38;5;241m.\u001b[39mmedian()\u001b[38;5;241m.\u001b[39msort_values(ascending\u001b[38;5;241m=\u001b[39m\u001b[38;5;28;01mFalse\u001b[39;00m)\n\u001b[1;32m      6\u001b[0m \u001b[38;5;28msorted\u001b[39m \u001b[38;5;241m=\u001b[39m med_frp\u001b[38;5;241m.\u001b[39mindex\u001b[38;5;241m.\u001b[39mtolist()\n",
      "\u001b[0;31mNameError\u001b[0m: name 'frp_evt' is not defined"
     ]
    }
   ],
   "source": [
    "# Plot FRP by EVT group name\n",
    "\n",
    "df = frp_evt[frp_evt['INSTRUMENT'] == 'VIIRS']\n",
    "\n",
    "med_frp = df.groupby('EVT_GP_N')['FRP'].median().sort_values(ascending=False)\n",
    "sorted = med_frp.index.tolist()\n",
    "\n",
    "plt.figure(figsize=(10, 10)) \n",
    "\n",
    "sns.boxplot(\n",
    "    data=df,\n",
    "    x='FRP', \n",
    "    y='EVT_GP_N', \n",
    "    hue='DAYNIGHT',\n",
    "    order=sorted,  \n",
    "    palette='coolwarm', \n",
    "    dodge=True\n",
    ")\n",
    "\n",
    "plt.xscale('log')\n",
    "\n",
    "plt.xlabel('Fire Radiative Power (FRP)')\n",
    "plt.ylabel('Dominant Vegetation Type')\n",
    "\n",
    "plt.tight_layout()\n",
    "plt.show()"
   ]
  },
  {
   "cell_type": "code",
   "execution_count": null,
   "id": "6d05b1f9-5ff3-4fc2-ad00-a31dafe8c74a",
   "metadata": {},
   "outputs": [],
   "source": []
  },
  {
   "cell_type": "code",
   "execution_count": null,
   "id": "6b1c90df-820c-40ec-8d81-fb584cefbf6e",
   "metadata": {},
   "outputs": [],
   "source": []
  },
  {
   "cell_type": "markdown",
   "id": "3f5f4e38-a329-467a-a3c1-4f423a46fb8d",
   "metadata": {},
   "source": [
    "### Calculate the CBD, CBH, and CC from LANDFIRE\n",
    "\n",
    "Now we calculate zonal statistics for these continuous attributes from LANDFIRE (e.g., mean within the AFD buffer zone)."
   ]
  },
  {
   "cell_type": "code",
   "execution_count": null,
   "id": "ed744edf-4476-4e38-a046-a93a28d3d34d",
   "metadata": {},
   "outputs": [],
   "source": []
  },
  {
   "cell_type": "code",
   "execution_count": null,
   "id": "e832c900-84dc-42d6-aff2-db8c596eb5ff",
   "metadata": {},
   "outputs": [],
   "source": [
    "start = time.time()    \n",
    "\n",
    "# Read in the LANDFIRE layers\n",
    "cbd_path = os.path.join(maindir,'data/landcover/LANDFIRE/LF2020_CBD_200_CONUS/Tif/LC20_CBD_200.tif')\n",
    "cbh_path = os.path.join(maindir,'data/landcover/LANDFIRE/LF2020_CBH_200_CONUS/Tif/LC20_CBH_200.tif')\n",
    "tcc_path = os.path.join(maindir,'data/landcover/LANDFIRE/LF2020_CC_200_CONUS/Tif/LC20_CC_200.tif')\n",
    "\n",
    "lf_paths = [cbd_path, cbh_path, tcc_path]\n",
    "attrs = ['cbd','cbh','tcc']\n",
    "\n",
    "results = []\n",
    "for i in range(len(lf_paths)):\n",
    "    lf = lf_paths[i]\n",
    "    attr = attrs[i]\n",
    "    print(f'Processing {os.path.basename(lf)}')\n",
    "\n",
    "    # Open the raster data and crop to bounds as before\n",
    "    lf_da = rxr.open_rasterio(lf, masked=True, cache=False).squeeze()\n",
    "    lf_da_crop = lf_da.rio.clip_box(\n",
    "        minx=bounds[0]+1000, # +1000 meters for a small buffer\n",
    "        miny=bounds[1]+1000, \n",
    "        maxx=bounds[2]+1000, \n",
    "        maxy=bounds[3]+1000\n",
    "    )\n",
    "\n",
    "    if not lf_da_crop.rio.crs == afds.crs:\n",
    "        print(\"CRS mismatch, fixing !\")\n",
    "        lf_da_crop = lf_da_crop.rio.reproject(afds.crs)\n",
    "\n",
    "    del lf_da # clean up\n",
    "    \n",
    "    # Calculate the zonal statistics\n",
    "    zsdf = compute_band_stats(\n",
    "        geoms=afds, \n",
    "        image_da=lf_da_crop, \n",
    "        id_col='afdID',\n",
    "        attr=attr,\n",
    "        stats=['mean'],\n",
    "        ztype='continuous'\n",
    "    )\n",
    "    \n",
    "    results.append(zsdf)\n",
    "    del zsdf\n",
    "\n",
    "print(f\"\\nTotal elapsed time: {round((time.time() - start)/60)} minutes\")"
   ]
  },
  {
   "cell_type": "code",
   "execution_count": null,
   "id": "04a5565c-306b-4959-b462-040c89f15a1e",
   "metadata": {},
   "outputs": [],
   "source": [
    "from functools import reduce\n",
    "afd_lf_ = reduce(lambda left, right: pd.merge(left, right, on='afdID', how='inner'), results)\n",
    "afd_lf_.head()"
   ]
  },
  {
   "cell_type": "code",
   "execution_count": null,
   "id": "f502ab23-a362-41d5-8221-6f1d7c198d31",
   "metadata": {},
   "outputs": [],
   "source": [
    "# Join to the percent cover data\n"
   ]
  }
 ],
 "metadata": {
  "kernelspec": {
   "display_name": "aspen-fire",
   "language": "python",
   "name": "aspen-fire"
  },
  "language_info": {
   "codemirror_mode": {
    "name": "ipython",
    "version": 3
   },
   "file_extension": ".py",
   "mimetype": "text/x-python",
   "name": "python",
   "nbconvert_exporter": "python",
   "pygments_lexer": "ipython3",
   "version": "3.10.12"
  }
 },
 "nbformat": 4,
 "nbformat_minor": 5
}
