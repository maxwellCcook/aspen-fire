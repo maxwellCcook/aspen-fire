{
 "cells": [
  {
   "cell_type": "code",
   "execution_count": 1,
   "id": "ba44202a-9fdb-4249-9cb3-039c1d0744f5",
   "metadata": {},
   "outputs": [
    {
     "name": "stdout",
     "output_type": "stream",
     "text": [
      "Ready to go !\n"
     ]
    }
   ],
   "source": [
    "\"\"\"\n",
    "LANDFIRE assessments for MODIS and VIIRS AFDs western U.S.\n",
    "\n",
    "Data sources:\n",
    "    - LANDFIRE Existing Vegetation Type (EVT) proportional cover\n",
    "    - LANDFIRE Canopy Bulk Density (CBD) mean\n",
    "    - LANDIFRE Canopy Base Height (CBH) mean\n",
    "    - LANDFIRE Canopy Cover (CC) percentage\n",
    "    \n",
    "Author: maxwell.cook@colorado.edu\n",
    "\"\"\"\n",
    "\n",
    "import os, sys, gc, time\n",
    "import geopandas as gpd\n",
    "import rioxarray as rxr\n",
    "\n",
    "# Custom functions\n",
    "sys.path.append(os.path.join(os.getcwd(),'code/'))\n",
    "from __functions import *\n",
    "\n",
    "proj = 'EPSG:5070'\n",
    "\n",
    "maindir = '/Users/max/Library/CloudStorage/OneDrive-Personal/mcook/'\n",
    "projdir = os.path.join(maindir, 'aspen-fire/Aim2/')\n",
    "\n",
    "print(\"Ready to go !\")"
   ]
  },
  {
   "cell_type": "code",
   "execution_count": 2,
   "id": "6c49dc55-bb2a-4669-a6c7-71a29a08ff19",
   "metadata": {},
   "outputs": [
    {
     "data": {
      "text/plain": [
       "Index(['LATITUDE', 'LONGITUDE', 'BRIGHTNESS', 'SCAN', 'TRACK', 'ACQ_DATE',\n",
       "       'ACQ_TIME', 'SATELLITE', 'INSTRUMENT', 'CONFIDENCE', 'VERSION',\n",
       "       'BRIGHT_T31', 'FRP', 'DAYNIGHT', 'TYPE', 'VID', 'NIFC_ID', 'NIFC_NAME',\n",
       "       'START_YEAR', 'DISCOVERY_DATE', 'WF_CESSATION_DATE', 'na_l3name',\n",
       "       'ACQ_MONTH', 'ACQ_YEAR', 'ACQ_DATETIME', 'afdID', 'geometry'],\n",
       "      dtype='object')"
      ]
     },
     "execution_count": 2,
     "metadata": {},
     "output_type": "execute_result"
    }
   ],
   "source": [
    "# Load the combined MODIS and VIIRS AFDs (buffered)\n",
    "fp = os.path.join(projdir,f'data/spatial/mod/AFD/combined-afd_aspen-fires_2018_to_2023_buffer.gpkg')\n",
    "afds = gpd.read_file(fp)\n",
    "afds.columns"
   ]
  },
  {
   "cell_type": "code",
   "execution_count": 3,
   "id": "3cfc236c-4465-4663-b7d3-82ee47f68a7e",
   "metadata": {},
   "outputs": [
    {
     "data": {
      "text/html": [
       "<div>\n",
       "<style scoped>\n",
       "    .dataframe tbody tr th:only-of-type {\n",
       "        vertical-align: middle;\n",
       "    }\n",
       "\n",
       "    .dataframe tbody tr th {\n",
       "        vertical-align: top;\n",
       "    }\n",
       "\n",
       "    .dataframe thead th {\n",
       "        text-align: right;\n",
       "    }\n",
       "</style>\n",
       "<table border=\"1\" class=\"dataframe\">\n",
       "  <thead>\n",
       "    <tr style=\"text-align: right;\">\n",
       "      <th></th>\n",
       "      <th>afdID</th>\n",
       "      <th>START_YEAR</th>\n",
       "      <th>geometry</th>\n",
       "    </tr>\n",
       "  </thead>\n",
       "  <tbody>\n",
       "    <tr>\n",
       "      <th>0</th>\n",
       "      <td>MODIS7298</td>\n",
       "      <td>2018</td>\n",
       "      <td>POLYGON ((-1334259.255 1940525.281, -1334259.2...</td>\n",
       "    </tr>\n",
       "    <tr>\n",
       "      <th>1</th>\n",
       "      <td>MODIS7301</td>\n",
       "      <td>2018</td>\n",
       "      <td>POLYGON ((-1335247.149 1940508.597, -1335247.1...</td>\n",
       "    </tr>\n",
       "    <tr>\n",
       "      <th>2</th>\n",
       "      <td>MODIS7989</td>\n",
       "      <td>2018</td>\n",
       "      <td>POLYGON ((-1149036.475 2035501.025, -1149036.4...</td>\n",
       "    </tr>\n",
       "    <tr>\n",
       "      <th>3</th>\n",
       "      <td>MODIS7990</td>\n",
       "      <td>2018</td>\n",
       "      <td>POLYGON ((-1148030.494 2035535.701, -1148030.4...</td>\n",
       "    </tr>\n",
       "    <tr>\n",
       "      <th>4</th>\n",
       "      <td>MODIS7991</td>\n",
       "      <td>2018</td>\n",
       "      <td>POLYGON ((-1148997.363 2034487.930, -1148997.3...</td>\n",
       "    </tr>\n",
       "  </tbody>\n",
       "</table>\n",
       "</div>"
      ],
      "text/plain": [
       "       afdID  START_YEAR                                           geometry\n",
       "0  MODIS7298        2018  POLYGON ((-1334259.255 1940525.281, -1334259.2...\n",
       "1  MODIS7301        2018  POLYGON ((-1335247.149 1940508.597, -1335247.1...\n",
       "2  MODIS7989        2018  POLYGON ((-1149036.475 2035501.025, -1149036.4...\n",
       "3  MODIS7990        2018  POLYGON ((-1148030.494 2035535.701, -1148030.4...\n",
       "4  MODIS7991        2018  POLYGON ((-1148997.363 2034487.930, -1148997.3..."
      ]
     },
     "execution_count": 3,
     "metadata": {},
     "output_type": "execute_result"
    }
   ],
   "source": [
    "# Tidy columns for simplicity.\n",
    "afds = afds[['afdID','START_YEAR','geometry']]\n",
    "afds.head()"
   ]
  },
  {
   "cell_type": "markdown",
   "id": "03d72f03-2289-44db-8e59-c68741913e4d",
   "metadata": {},
   "source": [
    "### Calculate the Proportional EVT in AFD Observations\n",
    "\n",
    "From LANDFIRE EVT (ca. 2016) calculate the proportional cover within AFD observations (buffers). "
   ]
  },
  {
   "cell_type": "code",
   "execution_count": 4,
   "id": "a1f17721-749c-485e-9b8b-97f284acd0a1",
   "metadata": {},
   "outputs": [],
   "source": [
    "# Load the EVT raster"
   ]
  },
  {
   "cell_type": "code",
   "execution_count": 5,
   "id": "a3bb5f44-14d3-460f-aa09-1848d5a381bd",
   "metadata": {},
   "outputs": [
    {
     "name": "stdout",
     "output_type": "stream",
     "text": [
      "Shape: (97283, 154207); \n",
      "GeoTransform: -2362425.0 30.0 0.0 3177435.0 0.0 -30.0; \n",
      "WKT: EPSG:5070; \n",
      "NoData Value: nan; \n",
      "Data Type: float32\n"
     ]
    },
    {
     "data": {
      "text/plain": [
       "81"
      ]
     },
     "execution_count": 5,
     "metadata": {},
     "output_type": "execute_result"
    }
   ],
   "source": [
    "evt_fp = os.path.join(maindir,'data/landcover/LANDFIRE/LF2016_EVT_200_CONUS/Tif/LC16_EVT_200.tif')\n",
    "evt_da = rxr.open_rasterio(evt_fp, masked=True, cache=False, chunks='auto').squeeze()\n",
    "shp, gt, wkt, nd = evt_da.shape, evt_da.spatial_ref.GeoTransform, evt_da.rio.crs, evt_da.rio.nodata\n",
    "print(\n",
    "    f\"Shape: {shp}; \\n\"\n",
    "    f\"GeoTransform: {gt}; \\n\"\n",
    "    f\"WKT: {wkt}; \\n\"\n",
    "    f\"NoData Value: {nd}; \\n\"\n",
    "    f\"Data Type: {evt_da[0].dtype}\")\n",
    "gc.collect()"
   ]
  },
  {
   "cell_type": "code",
   "execution_count": 6,
   "id": "29e40e01-088e-4c61-9041-36bc31d2ab6c",
   "metadata": {},
   "outputs": [
    {
     "data": {
      "text/plain": [
       "66"
      ]
     },
     "execution_count": 6,
     "metadata": {},
     "output_type": "execute_result"
    }
   ],
   "source": [
    "# Crop to fire bounds.\n",
    "bounds = afds.total_bounds\n",
    "evt_da_crop = evt_da.rio.clip_box(\n",
    "    minx=bounds[0]+1000, # +1000 meters for a small buffer\n",
    "    miny=bounds[1]+1000, \n",
    "    maxx=bounds[2]+1000, \n",
    "    maxy=bounds[3]+1000\n",
    ")\n",
    "del evt_da\n",
    "gc.collect()"
   ]
  },
  {
   "cell_type": "code",
   "execution_count": 7,
   "id": "bbfff329-c537-4b0d-bbc4-4cf286c3bccc",
   "metadata": {},
   "outputs": [
    {
     "name": "stdout",
     "output_type": "stream",
     "text": [
      "Total elapsed time: 1.42 minutes.\n",
      "\n",
      "~~~~~~~~~~\n",
      "\n"
     ]
    }
   ],
   "source": [
    "t0 = time.time()\n",
    "\n",
    "# Get the proportional landcover\n",
    "afds_evt = compute_band_stats(\n",
    "    geoms=afds, \n",
    "    image_da=evt_da_crop, \n",
    "    id_col='afdID'\n",
    ")\n",
    "\n",
    "t1 = (time.time() - t0) / 60\n",
    "print(f\"Total elapsed time: {t1:.2f} minutes.\")\n",
    "print(\"\\n~~~~~~~~~~\\n\")"
   ]
  },
  {
   "cell_type": "code",
   "execution_count": 8,
   "id": "4ff92d78-79f9-425e-a7b9-990c0c1682dc",
   "metadata": {},
   "outputs": [
    {
     "data": {
      "text/html": [
       "<div>\n",
       "<style scoped>\n",
       "    .dataframe tbody tr th:only-of-type {\n",
       "        vertical-align: middle;\n",
       "    }\n",
       "\n",
       "    .dataframe tbody tr th {\n",
       "        vertical-align: top;\n",
       "    }\n",
       "\n",
       "    .dataframe thead th {\n",
       "        text-align: right;\n",
       "    }\n",
       "</style>\n",
       "<table border=\"1\" class=\"dataframe\">\n",
       "  <thead>\n",
       "    <tr style=\"text-align: right;\">\n",
       "      <th></th>\n",
       "      <th>afdID</th>\n",
       "      <th>evt</th>\n",
       "      <th>count</th>\n",
       "      <th>total_pixels</th>\n",
       "      <th>pct_cover</th>\n",
       "    </tr>\n",
       "  </thead>\n",
       "  <tbody>\n",
       "    <tr>\n",
       "      <th>0</th>\n",
       "      <td>MODIS7298</td>\n",
       "      <td>7011</td>\n",
       "      <td>103.0</td>\n",
       "      <td>1190.0</td>\n",
       "      <td>8.655462</td>\n",
       "    </tr>\n",
       "    <tr>\n",
       "      <th>1</th>\n",
       "      <td>MODIS7298</td>\n",
       "      <td>7012</td>\n",
       "      <td>306.0</td>\n",
       "      <td>1190.0</td>\n",
       "      <td>25.714286</td>\n",
       "    </tr>\n",
       "    <tr>\n",
       "      <th>2</th>\n",
       "      <td>MODIS7298</td>\n",
       "      <td>7016</td>\n",
       "      <td>306.0</td>\n",
       "      <td>1190.0</td>\n",
       "      <td>25.714286</td>\n",
       "    </tr>\n",
       "    <tr>\n",
       "      <th>3</th>\n",
       "      <td>MODIS7298</td>\n",
       "      <td>7051</td>\n",
       "      <td>82.0</td>\n",
       "      <td>1190.0</td>\n",
       "      <td>6.890756</td>\n",
       "    </tr>\n",
       "    <tr>\n",
       "      <th>4</th>\n",
       "      <td>MODIS7298</td>\n",
       "      <td>7052</td>\n",
       "      <td>171.0</td>\n",
       "      <td>1190.0</td>\n",
       "      <td>14.369748</td>\n",
       "    </tr>\n",
       "  </tbody>\n",
       "</table>\n",
       "</div>"
      ],
      "text/plain": [
       "       afdID   evt  count  total_pixels  pct_cover\n",
       "0  MODIS7298  7011  103.0        1190.0   8.655462\n",
       "1  MODIS7298  7012  306.0        1190.0  25.714286\n",
       "2  MODIS7298  7016  306.0        1190.0  25.714286\n",
       "3  MODIS7298  7051   82.0        1190.0   6.890756\n",
       "4  MODIS7298  7052  171.0        1190.0  14.369748"
      ]
     },
     "execution_count": 8,
     "metadata": {},
     "output_type": "execute_result"
    }
   ],
   "source": [
    "afds_evt.head()"
   ]
  },
  {
   "cell_type": "code",
   "execution_count": 9,
   "id": "e1c6b1dc-e9b9-401a-873c-0525a4ff3fad",
   "metadata": {},
   "outputs": [
    {
     "name": "stdout",
     "output_type": "stream",
     "text": [
      "Index(['VALUE', 'EVT_NAME', 'LFRDB', 'EVT_FUEL', 'EVT_FUEL_N', 'EVT_LF',\n",
      "       'EVT_PHYS', 'EVT_GP', 'EVT_GP_N', 'SAF_SRM', 'EVT_ORDER', 'EVT_CLASS',\n",
      "       'EVT_SBCLS', 'R', 'G', 'B', 'RED', 'GREEN', 'BLUE'],\n",
      "      dtype='object')\n"
     ]
    }
   ],
   "source": [
    "# Read in the lookup table for the EVT codes\n",
    "lookup = os.path.join(maindir,'data/landcover/LANDFIRE/LF2016_EVT_200_CONUS/CSV_Data/LF16_EVT_200.csv')\n",
    "lookup = pd.read_csv(lookup)\n",
    "print(lookup.columns)"
   ]
  },
  {
   "cell_type": "code",
   "execution_count": 10,
   "id": "4ebd9201-39be-49dc-bcaf-433c4d8c9963",
   "metadata": {},
   "outputs": [
    {
     "data": {
      "text/html": [
       "<div>\n",
       "<style scoped>\n",
       "    .dataframe tbody tr th:only-of-type {\n",
       "        vertical-align: middle;\n",
       "    }\n",
       "\n",
       "    .dataframe tbody tr th {\n",
       "        vertical-align: top;\n",
       "    }\n",
       "\n",
       "    .dataframe thead th {\n",
       "        text-align: right;\n",
       "    }\n",
       "</style>\n",
       "<table border=\"1\" class=\"dataframe\">\n",
       "  <thead>\n",
       "    <tr style=\"text-align: right;\">\n",
       "      <th></th>\n",
       "      <th>afdID</th>\n",
       "      <th>evt</th>\n",
       "      <th>count</th>\n",
       "      <th>total_pixels</th>\n",
       "      <th>pct_cover</th>\n",
       "      <th>EVT_NAME</th>\n",
       "      <th>EVT_PHYS</th>\n",
       "      <th>EVT_GP_N</th>\n",
       "      <th>EVT_CLASS</th>\n",
       "    </tr>\n",
       "  </thead>\n",
       "  <tbody>\n",
       "    <tr>\n",
       "      <th>0</th>\n",
       "      <td>MODIS7298</td>\n",
       "      <td>7011</td>\n",
       "      <td>103.0</td>\n",
       "      <td>1190.0</td>\n",
       "      <td>8.655462</td>\n",
       "      <td>Rocky Mountain Aspen Forest and Woodland</td>\n",
       "      <td>Hardwood</td>\n",
       "      <td>Aspen Forest, Woodland, and Parkland</td>\n",
       "      <td>Open tree canopy</td>\n",
       "    </tr>\n",
       "    <tr>\n",
       "      <th>1</th>\n",
       "      <td>MODIS7298</td>\n",
       "      <td>7012</td>\n",
       "      <td>306.0</td>\n",
       "      <td>1190.0</td>\n",
       "      <td>25.714286</td>\n",
       "      <td>Rocky Mountain Bigtooth Maple Ravine Woodland</td>\n",
       "      <td>Hardwood</td>\n",
       "      <td>Bigtooth Maple Woodland</td>\n",
       "      <td>Open tree canopy</td>\n",
       "    </tr>\n",
       "    <tr>\n",
       "      <th>2</th>\n",
       "      <td>MODIS7298</td>\n",
       "      <td>7016</td>\n",
       "      <td>306.0</td>\n",
       "      <td>1190.0</td>\n",
       "      <td>25.714286</td>\n",
       "      <td>Colorado Plateau Pinyon-Juniper Woodland</td>\n",
       "      <td>Conifer</td>\n",
       "      <td>Pinyon-Juniper Woodland</td>\n",
       "      <td>Open tree canopy</td>\n",
       "    </tr>\n",
       "    <tr>\n",
       "      <th>3</th>\n",
       "      <td>MODIS7298</td>\n",
       "      <td>7051</td>\n",
       "      <td>82.0</td>\n",
       "      <td>1190.0</td>\n",
       "      <td>6.890756</td>\n",
       "      <td>Southern Rocky Mountain Dry-Mesic Montane Mixe...</td>\n",
       "      <td>Conifer</td>\n",
       "      <td>Douglas-fir-Ponderosa Pine-Lodgepole Pine Fore...</td>\n",
       "      <td>Closed tree canopy</td>\n",
       "    </tr>\n",
       "    <tr>\n",
       "      <th>4</th>\n",
       "      <td>MODIS7298</td>\n",
       "      <td>7052</td>\n",
       "      <td>171.0</td>\n",
       "      <td>1190.0</td>\n",
       "      <td>14.369748</td>\n",
       "      <td>Southern Rocky Mountain Mesic Montane Mixed Co...</td>\n",
       "      <td>Conifer</td>\n",
       "      <td>Douglas-fir-Grand Fir-White Fir Forest and Woo...</td>\n",
       "      <td>Closed tree canopy</td>\n",
       "    </tr>\n",
       "  </tbody>\n",
       "</table>\n",
       "</div>"
      ],
      "text/plain": [
       "       afdID   evt  count  total_pixels  pct_cover  \\\n",
       "0  MODIS7298  7011  103.0        1190.0   8.655462   \n",
       "1  MODIS7298  7012  306.0        1190.0  25.714286   \n",
       "2  MODIS7298  7016  306.0        1190.0  25.714286   \n",
       "3  MODIS7298  7051   82.0        1190.0   6.890756   \n",
       "4  MODIS7298  7052  171.0        1190.0  14.369748   \n",
       "\n",
       "                                            EVT_NAME  EVT_PHYS  \\\n",
       "0           Rocky Mountain Aspen Forest and Woodland  Hardwood   \n",
       "1      Rocky Mountain Bigtooth Maple Ravine Woodland  Hardwood   \n",
       "2           Colorado Plateau Pinyon-Juniper Woodland   Conifer   \n",
       "3  Southern Rocky Mountain Dry-Mesic Montane Mixe...   Conifer   \n",
       "4  Southern Rocky Mountain Mesic Montane Mixed Co...   Conifer   \n",
       "\n",
       "                                            EVT_GP_N           EVT_CLASS  \n",
       "0               Aspen Forest, Woodland, and Parkland    Open tree canopy  \n",
       "1                            Bigtooth Maple Woodland    Open tree canopy  \n",
       "2                            Pinyon-Juniper Woodland    Open tree canopy  \n",
       "3  Douglas-fir-Ponderosa Pine-Lodgepole Pine Fore...  Closed tree canopy  \n",
       "4  Douglas-fir-Grand Fir-White Fir Forest and Woo...  Closed tree canopy  "
      ]
     },
     "execution_count": 10,
     "metadata": {},
     "output_type": "execute_result"
    }
   ],
   "source": [
    "# Subset the codes we want to join, join back to the dataframe\n",
    "lookup = lookup[['VALUE','EVT_NAME','EVT_PHYS','EVT_GP_N','EVT_CLASS']]\n",
    "afds_evt = afds_evt.merge(lookup, left_on='evt', right_on='VALUE', how='left')\n",
    "afds_evt.drop('VALUE', axis=1, inplace=True)\n",
    "afds_evt.head()"
   ]
  },
  {
   "cell_type": "code",
   "execution_count": 11,
   "id": "70931ab9-31a9-4b29-bba9-8c9337fcf6d9",
   "metadata": {},
   "outputs": [],
   "source": [
    "# Export a table of the values found in AFD observations\n",
    "lookup_ = lookup[lookup['VALUE'].isin(afds_evt['evt'].unique())]\n",
    "lookup_.to_csv(os.path.join(projdir,'data/tabular/mod/EVT/afd_evt_codes.csv'))"
   ]
  },
  {
   "cell_type": "code",
   "execution_count": 12,
   "id": "3a5fc158-df57-46f4-a08f-a3edb29e1938",
   "metadata": {},
   "outputs": [
    {
     "name": "stdout",
     "output_type": "stream",
     "text": [
      "There are 18 EVT_PHYS categories.\n",
      "\n",
      "['Hardwood' 'Conifer' 'Conifer-Hardwood' 'Shrubland' 'Grassland'\n",
      " 'Exotic Herbaceous' 'Developed-Roads' 'Sparsely Vegetated' 'Riparian'\n",
      " 'Exotic Tree-Shrub' 'Developed-Low Intensity' 'Agricultural' 'Open Water'\n",
      " 'Developed' 'Developed-Medium Intensity' 'Developed-High Intensity'\n",
      " 'Quarries-Strip Mines-Gravel Pits-Well and Wind Pads' 'Snow-Ice']\n"
     ]
    }
   ],
   "source": [
    "print(f\"There are {len(afds_evt['EVT_PHYS'].unique())} EVT_PHYS categories.\\n\")\n",
    "print(afds_evt['EVT_PHYS'].unique())"
   ]
  },
  {
   "cell_type": "code",
   "execution_count": null,
   "id": "de9972e6-0b6e-429e-acd8-92a29602be22",
   "metadata": {},
   "outputs": [],
   "source": [
    "# Reclassify the EVT_PHYS\n",
    "reclass = {}"
   ]
  },
  {
   "cell_type": "code",
   "execution_count": null,
   "id": "d4da4b6a-4431-43d9-9677-484fb384465b",
   "metadata": {},
   "outputs": [],
   "source": [
    "# Pivot table longer.\n",
    "afds_evt_long = (\n",
    "    afds_evt[['afdID', 'EVT_PHYS', 'pct_cover']]\n",
    "    .pivot_table(index='VID', columns='EVT_PHYS', values='pct_cover', aggfunc='sum', fill_value=0)\n",
    ")"
   ]
  },
  {
   "cell_type": "code",
   "execution_count": null,
   "id": "887f4c8f-4157-44c4-9fbd-de4f0fcf7946",
   "metadata": {},
   "outputs": [],
   "source": []
  },
  {
   "cell_type": "code",
   "execution_count": null,
   "id": "6d05b1f9-5ff3-4fc2-ad00-a31dafe8c74a",
   "metadata": {},
   "outputs": [],
   "source": []
  },
  {
   "cell_type": "code",
   "execution_count": null,
   "id": "6b1c90df-820c-40ec-8d81-fb584cefbf6e",
   "metadata": {},
   "outputs": [],
   "source": []
  },
  {
   "cell_type": "markdown",
   "id": "3f5f4e38-a329-467a-a3c1-4f423a46fb8d",
   "metadata": {},
   "source": [
    "### Calculate the CBD, CBH, and CC from LANDFIRE\n",
    "\n",
    "Now we calculate zonal statistics for these continuous attributes from LANDFIRE (e.g., mean within the AFD buffer zone)."
   ]
  },
  {
   "cell_type": "code",
   "execution_count": null,
   "id": "ed744edf-4476-4e38-a046-a93a28d3d34d",
   "metadata": {},
   "outputs": [],
   "source": []
  },
  {
   "cell_type": "code",
   "execution_count": 16,
   "id": "e832c900-84dc-42d6-aff2-db8c596eb5ff",
   "metadata": {},
   "outputs": [
    {
     "name": "stdout",
     "output_type": "stream",
     "text": [
      "Processing LC20_CBD_200.tif\n",
      "Processing LC20_CBH_200.tif\n",
      "Processing LC20_CC_200.tif\n",
      "Index(['afdID', 'cbd_mean', 'cbh_mean', 'tcc_mean'], dtype='object')\n",
      "\n",
      "Total elapsed time: 4 minutes\n"
     ]
    }
   ],
   "source": [
    "start = time.time()    \n",
    "\n",
    "# Read in the LANDFIRE layers\n",
    "cbd_path = os.path.join(maindir,'data/landcover/LANDFIRE/LF2020_CBD_200_CONUS/Tif/LC20_CBD_200.tif')\n",
    "cbh_path = os.path.join(maindir,'data/landcover/LANDFIRE/LF2020_CBH_200_CONUS/Tif/LC20_CBH_200.tif')\n",
    "tcc_path = os.path.join(maindir,'data/landcover/LANDFIRE/LF2020_CC_200_CONUS/Tif/LC20_CC_200.tif')\n",
    "\n",
    "lf_paths = [cbd_path, cbh_path, tcc_path]\n",
    "attrs = ['cbd','cbh','tcc']\n",
    "\n",
    "results = []\n",
    "for i in range(len(lf_paths)):\n",
    "    lf = lf_paths[i]\n",
    "    attr = attrs[i]\n",
    "    print(f'Processing {os.path.basename(lf)}')\n",
    "\n",
    "    # Open the raster data and crop to bounds as before\n",
    "    lf_da = rxr.open_rasterio(lf, masked=True, cache=False).squeeze()\n",
    "    lf_da_crop = lf_da.rio.clip_box(\n",
    "        minx=bounds[0]+1000, # +1000 meters for a small buffer\n",
    "        miny=bounds[1]+1000, \n",
    "        maxx=bounds[2]+1000, \n",
    "        maxy=bounds[3]+1000\n",
    "    )\n",
    "\n",
    "    if not lf_da_crop.rio.crs == afds.crs:\n",
    "        print(\"CRS mismatch, fixing !\")\n",
    "        lf_da_crop = lf_da_crop.rio.reproject(afds.crs)\n",
    "\n",
    "    del lf_da # clean up\n",
    "    \n",
    "    # Calculate the zonal statistics\n",
    "    zsdf = compute_band_stats(\n",
    "        geoms=afds, \n",
    "        image_da=lf_da_crop, \n",
    "        id_col='afdID',\n",
    "        attr=attr,\n",
    "        stats=['mean'],\n",
    "        ztype='continuous'\n",
    "    )\n",
    "    \n",
    "    results.append(zsdf)\n",
    "    del zsdf\n",
    "\n",
    "print(f\"\\nTotal elapsed time: {round((time.time() - start)/60)} minutes\")"
   ]
  },
  {
   "cell_type": "code",
   "execution_count": 19,
   "id": "04a5565c-306b-4959-b462-040c89f15a1e",
   "metadata": {},
   "outputs": [
    {
     "data": {
      "text/html": [
       "<div>\n",
       "<style scoped>\n",
       "    .dataframe tbody tr th:only-of-type {\n",
       "        vertical-align: middle;\n",
       "    }\n",
       "\n",
       "    .dataframe tbody tr th {\n",
       "        vertical-align: top;\n",
       "    }\n",
       "\n",
       "    .dataframe thead th {\n",
       "        text-align: right;\n",
       "    }\n",
       "</style>\n",
       "<table border=\"1\" class=\"dataframe\">\n",
       "  <thead>\n",
       "    <tr style=\"text-align: right;\">\n",
       "      <th></th>\n",
       "      <th>afdID</th>\n",
       "      <th>cbd_mean</th>\n",
       "      <th>cbh_mean</th>\n",
       "      <th>tcc_mean</th>\n",
       "    </tr>\n",
       "  </thead>\n",
       "  <tbody>\n",
       "    <tr>\n",
       "      <th>0</th>\n",
       "      <td>MODIS7298</td>\n",
       "      <td>5.794958</td>\n",
       "      <td>37.375630</td>\n",
       "      <td>27.504202</td>\n",
       "    </tr>\n",
       "    <tr>\n",
       "      <th>1</th>\n",
       "      <td>MODIS7301</td>\n",
       "      <td>1.006531</td>\n",
       "      <td>23.059592</td>\n",
       "      <td>11.493878</td>\n",
       "    </tr>\n",
       "    <tr>\n",
       "      <th>2</th>\n",
       "      <td>MODIS7989</td>\n",
       "      <td>13.527731</td>\n",
       "      <td>3.990756</td>\n",
       "      <td>22.840336</td>\n",
       "    </tr>\n",
       "    <tr>\n",
       "      <th>3</th>\n",
       "      <td>MODIS7990</td>\n",
       "      <td>7.782007</td>\n",
       "      <td>5.308824</td>\n",
       "      <td>15.160035</td>\n",
       "    </tr>\n",
       "    <tr>\n",
       "      <th>4</th>\n",
       "      <td>MODIS7991</td>\n",
       "      <td>12.992215</td>\n",
       "      <td>2.792388</td>\n",
       "      <td>20.337370</td>\n",
       "    </tr>\n",
       "  </tbody>\n",
       "</table>\n",
       "</div>"
      ],
      "text/plain": [
       "       afdID   cbd_mean   cbh_mean   tcc_mean\n",
       "0  MODIS7298   5.794958  37.375630  27.504202\n",
       "1  MODIS7301   1.006531  23.059592  11.493878\n",
       "2  MODIS7989  13.527731   3.990756  22.840336\n",
       "3  MODIS7990   7.782007   5.308824  15.160035\n",
       "4  MODIS7991  12.992215   2.792388  20.337370"
      ]
     },
     "execution_count": 19,
     "metadata": {},
     "output_type": "execute_result"
    }
   ],
   "source": [
    "from functools import reduce\n",
    "afd_lf_ = reduce(lambda left, right: pd.merge(left, right, on='afdID', how='inner'), results)\n",
    "afd_lf_.head()"
   ]
  },
  {
   "cell_type": "code",
   "execution_count": null,
   "id": "f502ab23-a362-41d5-8221-6f1d7c198d31",
   "metadata": {},
   "outputs": [],
   "source": [
    "# Join to the percent cover data\n"
   ]
  }
 ],
 "metadata": {
  "kernelspec": {
   "display_name": "aspen-fire",
   "language": "python",
   "name": "aspen-fire"
  },
  "language_info": {
   "codemirror_mode": {
    "name": "ipython",
    "version": 3
   },
   "file_extension": ".py",
   "mimetype": "text/x-python",
   "name": "python",
   "nbconvert_exporter": "python",
   "pygments_lexer": "ipython3",
   "version": "3.10.12"
  }
 },
 "nbformat": 4,
 "nbformat_minor": 5
}
