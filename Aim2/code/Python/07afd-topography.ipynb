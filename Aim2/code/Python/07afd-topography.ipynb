{
 "cells": [
  {
   "cell_type": "code",
   "execution_count": 1,
   "id": "daae7fdb-bdd2-42da-ba4b-debcde332356",
   "metadata": {},
   "outputs": [
    {
     "name": "stdout",
     "output_type": "stream",
     "text": [
      "GEE Authenticated !\n"
     ]
    }
   ],
   "source": [
    "\"\"\"\n",
    "Extract topography variables\n",
    "Google Earth Engine (GEE) Python API\n",
    "Author: maxwell.cook@colorado.edu\n",
    "\"\"\"\n",
    "\n",
    "import ee\n",
    "import geemap\n",
    "import time\n",
    "\n",
    "ee.Authenticate()\n",
    "ee.Initialize(project='jfsp-aspen')\n",
    "print(\"GEE Authenticated !\")"
   ]
  },
  {
   "cell_type": "code",
   "execution_count": 2,
   "id": "27efa285-c021-4c14-a421-7e470cfa030a",
   "metadata": {},
   "outputs": [
    {
     "data": {
      "text/html": [
       "\n",
       "            <style>\n",
       "                .geemap-dark {\n",
       "                    --jp-widgets-color: white;\n",
       "                    --jp-widgets-label-color: white;\n",
       "                    --jp-ui-font-color1: white;\n",
       "                    --jp-layout-color2: #454545;\n",
       "                    background-color: #383838;\n",
       "                }\n",
       "\n",
       "                .geemap-dark .jupyter-button {\n",
       "                    --jp-layout-color3: #383838;\n",
       "                }\n",
       "\n",
       "                .geemap-colab {\n",
       "                    background-color: var(--colab-primary-surface-color, white);\n",
       "                }\n",
       "\n",
       "                .geemap-colab .jupyter-button {\n",
       "                    --jp-layout-color3: var(--colab-primary-surface-color, white);\n",
       "                }\n",
       "            </style>\n",
       "            "
      ],
      "text/plain": [
       "<IPython.core.display.HTML object>"
      ]
     },
     "metadata": {},
     "output_type": "display_data"
    },
    {
     "name": "stdout",
     "output_type": "stream",
     "text": [
      "['fid', 'FRP', 'NIFC_NAME', 'LONGITUDE', 'ACQ_YEAR', 'ACQ_TIME', 'SCAN', 'BRIGHTNESS', 'CONFIDENCE', 'TYPE', 'SATELLITE', 'na_l3name', 'DAYNIGHT', 'TRACK', 'INSTRUMENT', 'VID', 'NIFC_ID', 'START_YEAR', 'ACQ_DATETI', 'ACQ_MONTH', 'WF_CESSATI', 'VERSION', 'BRIGHT_T31', 'DISCOVERY_', 'afdID', 'LATITUDE', 'system:index', 'ACQ_DATE']\n"
     ]
    }
   ],
   "source": [
    "# Load the FRP observations\n",
    "afd = ee.FeatureCollection('projects/jfsp-aspen/assets/AFD/combined-afd_aspen-fires_2018_to_2023')\n",
    "print(afd.first().propertyNames().getInfo())"
   ]
  },
  {
   "cell_type": "code",
   "execution_count": null,
   "id": "0d006fba-d4ad-4bb7-a215-c37dc745ff66",
   "metadata": {},
   "outputs": [],
   "source": [
    "# Tidy columns for export.\n",
    "afd = afd.select(['afdID'])"
   ]
  },
  {
   "cell_type": "code",
   "execution_count": null,
   "id": "d05d397f-1668-42e8-a7bf-7192f64c3168",
   "metadata": {},
   "outputs": [],
   "source": []
  },
  {
   "cell_type": "code",
   "execution_count": null,
   "id": "9968d0f6-6e75-4355-82bc-36c786511bec",
   "metadata": {},
   "outputs": [],
   "source": [
    "# Load topography data."
   ]
  },
  {
   "cell_type": "code",
   "execution_count": null,
   "id": "8d24ca19-8bcf-4d72-aa3d-38609b999868",
   "metadata": {},
   "outputs": [],
   "source": [
    "dem = "
   ]
  },
  {
   "cell_type": "code",
   "execution_count": null,
   "id": "ed44400c-d4ee-4a4f-9329-70071a27d3d8",
   "metadata": {},
   "outputs": [],
   "source": []
  },
  {
   "cell_type": "code",
   "execution_count": null,
   "id": "ec631baf-4aa7-4d82-a33e-942c3e143e32",
   "metadata": {},
   "outputs": [],
   "source": []
  }
 ],
 "metadata": {
  "kernelspec": {
   "display_name": "aspen-fire",
   "language": "python",
   "name": "aspen-fire"
  },
  "language_info": {
   "codemirror_mode": {
    "name": "ipython",
    "version": 3
   },
   "file_extension": ".py",
   "mimetype": "text/x-python",
   "name": "python",
   "nbconvert_exporter": "python",
   "pygments_lexer": "ipython3",
   "version": "3.10.12"
  }
 },
 "nbformat": 4,
 "nbformat_minor": 5
}
