{
 "cells": [
  {
   "cell_type": "code",
   "execution_count": 1,
   "id": "c4cf7de4-79ad-4518-b1c7-3f70fe6ffb1b",
   "metadata": {},
   "outputs": [
    {
     "name": "stdout",
     "output_type": "stream",
     "text": [
      "Success\n"
     ]
    }
   ],
   "source": [
    "\"\"\"\n",
    "MODIS Leaf Area Index\n",
    "\"\"\"\n",
    "\n",
    "import ee, geemap\n",
    "import os, sys, time\n",
    "import pandas as pd\n",
    "\n",
    "# Custom functions\n",
    "sys.path.append(os.path.join(os.getcwd(),'code/'))\n",
    "from __functions import *\n",
    "\n",
    "ee.Authenticate()\n",
    "ee.Initialize(project='jfsp-aspen')\n",
    "\n",
    "maindir = '/Users/max/Library/CloudStorage/OneDrive-Personal/mcook/'\n",
    "projdir = os.path.join(maindir, 'aspen-fire/Aim2/')\n",
    "\n",
    "print(\"Success\")"
   ]
  },
  {
   "cell_type": "code",
   "execution_count": 2,
   "id": "adce3611-b158-49d2-b892-dd61747b0c19",
   "metadata": {},
   "outputs": [
    {
     "data": {
      "text/html": [
       "\n",
       "            <style>\n",
       "                .geemap-dark {\n",
       "                    --jp-widgets-color: white;\n",
       "                    --jp-widgets-label-color: white;\n",
       "                    --jp-ui-font-color1: white;\n",
       "                    --jp-layout-color2: #454545;\n",
       "                    background-color: #383838;\n",
       "                }\n",
       "\n",
       "                .geemap-dark .jupyter-button {\n",
       "                    --jp-layout-color3: #383838;\n",
       "                }\n",
       "\n",
       "                .geemap-colab {\n",
       "                    background-color: var(--colab-primary-surface-color, white);\n",
       "                }\n",
       "\n",
       "                .geemap-colab .jupyter-button {\n",
       "                    --jp-layout-color3: var(--colab-primary-surface-color, white);\n",
       "                }\n",
       "            </style>\n",
       "            "
      ],
      "text/plain": [
       "<IPython.core.display.HTML object>"
      ]
     },
     "metadata": {},
     "output_type": "display_data"
    },
    {
     "data": {
      "text/html": [
       "<div><style>:root {\n",
       "  --font-color-primary: var(--jp-content-font-color0, rgba(0, 0, 0, 1));\n",
       "  --font-color-secondary: var(--jp-content-font-color2, rgba(0, 0, 0, 0.6));\n",
       "  --font-color-accent: rgba(123, 31, 162, 1);\n",
       "  --border-color: var(--jp-border-color2, #e0e0e0);\n",
       "  --background-color: var(--jp-layout-color0, white);\n",
       "  --background-color-row-even: var(--jp-layout-color1, white);\n",
       "  --background-color-row-odd: var(--jp-layout-color2, #eeeeee);\n",
       "}\n",
       "\n",
       "html[theme=\"dark\"],\n",
       "body[data-theme=\"dark\"],\n",
       "body.vscode-dark {\n",
       "  --font-color-primary: rgba(255, 255, 255, 1);\n",
       "  --font-color-secondary: rgba(255, 255, 255, 0.6);\n",
       "  --font-color-accent: rgb(173, 132, 190);\n",
       "  --border-color: #2e2e2e;\n",
       "  --background-color: #111111;\n",
       "  --background-color-row-even: #111111;\n",
       "  --background-color-row-odd: #313131;\n",
       "}\n",
       "\n",
       ".ee {\n",
       "  padding: 1em;\n",
       "  line-height: 1.5em;\n",
       "  min-width: 300px;\n",
       "  max-width: 1200px;\n",
       "  overflow-y: scroll;\n",
       "  max-height: 600px;\n",
       "  border: 1px solid var(--border-color);\n",
       "  font-family: monospace;\n",
       "}\n",
       "\n",
       ".ee li {\n",
       "  list-style-type: none;\n",
       "}\n",
       "\n",
       ".ee ul {\n",
       "  padding-left: 1.5em !important;\n",
       "  margin: 0;\n",
       "}\n",
       "\n",
       ".ee > ul {\n",
       "  padding-left: 0 !important;\n",
       "}\n",
       "\n",
       ".ee-open,\n",
       ".ee-shut {\n",
       "  color: var(--font-color-secondary);\n",
       "  cursor: pointer;\n",
       "  margin: 0;\n",
       "}\n",
       "\n",
       ".ee-open:hover,\n",
       ".ee-shut:hover {\n",
       "  color: var(--font-color-primary);\n",
       "}\n",
       "\n",
       ".ee-k {\n",
       "  color: var(--font-color-accent);\n",
       "  margin-right: 6px;\n",
       "}\n",
       "\n",
       ".ee-v {\n",
       "  color: var(--font-color-primary);\n",
       "}\n",
       "\n",
       ".ee-toggle {\n",
       "  display: none;\n",
       "}\n",
       "\n",
       ".ee-shut + ul {\n",
       "  display: none;\n",
       "}\n",
       "\n",
       ".ee-open + ul {\n",
       "  display: block;\n",
       "}\n",
       "\n",
       ".ee-shut::before {\n",
       "  display: inline-block;\n",
       "  content: \"▼\";\n",
       "  margin-right: 6px;\n",
       "  transform: rotate(-90deg);\n",
       "  transition: transform 0.2s;\n",
       "}\n",
       "\n",
       ".ee-open::before {\n",
       "  transform: rotate(0deg);\n",
       "  display: inline-block;\n",
       "  content: \"▼\";\n",
       "  margin-right: 6px;\n",
       "  transition: transform 0.2s;\n",
       "}\n",
       "</style><div class='ee'><ul><li><label class='ee-shut'>ImageCollection MODIS/061/MOD15A2H  (1 element)<input type='checkbox' class='ee-toggle'></label><ul><li><span class='ee-k'>type:</span><span class='ee-v'>ImageCollection</span></li><li><span class='ee-k'>id:</span><span class='ee-v'>MODIS/061/MOD15A2H</span></li><li><span class='ee-k'>version:</span><span class='ee-v'>1733252438143098</span></li><li><label class='ee-shut'>bands: []<input type='checkbox' class='ee-toggle'></label><ul></ul></li><li><label class='ee-shut'>properties: Object (1 property)<input type='checkbox' class='ee-toggle'></label><ul><li><span class='ee-k'>system:is_global:</span><span class='ee-v'>1</span></li></ul></li><li><label class='ee-shut'>features: List (1 element)<input type='checkbox' class='ee-toggle'></label><ul><li><label class='ee-shut'>0: Image MODIS/061/MOD15A2H/2000_02_18 (6 bands)<input type='checkbox' class='ee-toggle'></label><ul><li><span class='ee-k'>type:</span><span class='ee-v'>Image</span></li><li><span class='ee-k'>id:</span><span class='ee-v'>MODIS/061/MOD15A2H/2000_02_18</span></li><li><span class='ee-k'>version:</span><span class='ee-v'>1646520867297074</span></li><li><label class='ee-shut'>bands: List (6 elements)<input type='checkbox' class='ee-toggle'></label><ul><li><label class='ee-shut'>0: \"Fpar_500m\", unsigned int8, SR-ORG:6974, 86400x36000 px<input type='checkbox' class='ee-toggle'></label><ul><li><span class='ee-k'>id:</span><span class='ee-v'>Fpar_500m</span></li><li><span class='ee-k'>crs:</span><span class='ee-v'>SR-ORG:6974</span></li><li><label class='ee-shut'>crs_transform: List (6 elements)<input type='checkbox' class='ee-toggle'></label><ul><li><span class='ee-k'>0:</span><span class='ee-v'>463.3127165279165</span></li><li><span class='ee-k'>1:</span><span class='ee-v'>0</span></li><li><span class='ee-k'>2:</span><span class='ee-v'>-20015109.354</span></li><li><span class='ee-k'>3:</span><span class='ee-v'>0</span></li><li><span class='ee-k'>4:</span><span class='ee-v'>-463.3127165279167</span></li><li><span class='ee-k'>5:</span><span class='ee-v'>10007554.677003</span></li></ul></li><li><label class='ee-shut'>data_type: unsigned int8<input type='checkbox' class='ee-toggle'></label><ul><li><span class='ee-k'>type:</span><span class='ee-v'>PixelType</span></li><li><span class='ee-k'>max:</span><span class='ee-v'>255</span></li><li><span class='ee-k'>min:</span><span class='ee-v'>0</span></li><li><span class='ee-k'>precision:</span><span class='ee-v'>int</span></li></ul></li><li><label class='ee-shut'>dimensions: [86400, 36000]<input type='checkbox' class='ee-toggle'></label><ul><li><span class='ee-k'>0:</span><span class='ee-v'>86400</span></li><li><span class='ee-k'>1:</span><span class='ee-v'>36000</span></li></ul></li></ul></li><li><label class='ee-shut'>1: \"Lai_500m\", unsigned int8, SR-ORG:6974, 86400x36000 px<input type='checkbox' class='ee-toggle'></label><ul><li><span class='ee-k'>id:</span><span class='ee-v'>Lai_500m</span></li><li><span class='ee-k'>crs:</span><span class='ee-v'>SR-ORG:6974</span></li><li><label class='ee-shut'>crs_transform: List (6 elements)<input type='checkbox' class='ee-toggle'></label><ul><li><span class='ee-k'>0:</span><span class='ee-v'>463.3127165279165</span></li><li><span class='ee-k'>1:</span><span class='ee-v'>0</span></li><li><span class='ee-k'>2:</span><span class='ee-v'>-20015109.354</span></li><li><span class='ee-k'>3:</span><span class='ee-v'>0</span></li><li><span class='ee-k'>4:</span><span class='ee-v'>-463.3127165279167</span></li><li><span class='ee-k'>5:</span><span class='ee-v'>10007554.677003</span></li></ul></li><li><label class='ee-shut'>data_type: unsigned int8<input type='checkbox' class='ee-toggle'></label><ul><li><span class='ee-k'>type:</span><span class='ee-v'>PixelType</span></li><li><span class='ee-k'>max:</span><span class='ee-v'>255</span></li><li><span class='ee-k'>min:</span><span class='ee-v'>0</span></li><li><span class='ee-k'>precision:</span><span class='ee-v'>int</span></li></ul></li><li><label class='ee-shut'>dimensions: [86400, 36000]<input type='checkbox' class='ee-toggle'></label><ul><li><span class='ee-k'>0:</span><span class='ee-v'>86400</span></li><li><span class='ee-k'>1:</span><span class='ee-v'>36000</span></li></ul></li></ul></li><li><label class='ee-shut'>2: \"FparLai_QC\", unsigned int8, SR-ORG:6974, 86400x36000 px<input type='checkbox' class='ee-toggle'></label><ul><li><span class='ee-k'>id:</span><span class='ee-v'>FparLai_QC</span></li><li><span class='ee-k'>crs:</span><span class='ee-v'>SR-ORG:6974</span></li><li><label class='ee-shut'>crs_transform: List (6 elements)<input type='checkbox' class='ee-toggle'></label><ul><li><span class='ee-k'>0:</span><span class='ee-v'>463.3127165279165</span></li><li><span class='ee-k'>1:</span><span class='ee-v'>0</span></li><li><span class='ee-k'>2:</span><span class='ee-v'>-20015109.354</span></li><li><span class='ee-k'>3:</span><span class='ee-v'>0</span></li><li><span class='ee-k'>4:</span><span class='ee-v'>-463.3127165279167</span></li><li><span class='ee-k'>5:</span><span class='ee-v'>10007554.677003</span></li></ul></li><li><label class='ee-shut'>data_type: unsigned int8<input type='checkbox' class='ee-toggle'></label><ul><li><span class='ee-k'>type:</span><span class='ee-v'>PixelType</span></li><li><span class='ee-k'>max:</span><span class='ee-v'>255</span></li><li><span class='ee-k'>min:</span><span class='ee-v'>0</span></li><li><span class='ee-k'>precision:</span><span class='ee-v'>int</span></li></ul></li><li><label class='ee-shut'>dimensions: [86400, 36000]<input type='checkbox' class='ee-toggle'></label><ul><li><span class='ee-k'>0:</span><span class='ee-v'>86400</span></li><li><span class='ee-k'>1:</span><span class='ee-v'>36000</span></li></ul></li></ul></li><li><label class='ee-shut'>3: \"FparExtra_QC\", unsigned int8, SR-ORG:6974, 86400x36000 px<input type='checkbox' class='ee-toggle'></label><ul><li><span class='ee-k'>id:</span><span class='ee-v'>FparExtra_QC</span></li><li><span class='ee-k'>crs:</span><span class='ee-v'>SR-ORG:6974</span></li><li><label class='ee-shut'>crs_transform: List (6 elements)<input type='checkbox' class='ee-toggle'></label><ul><li><span class='ee-k'>0:</span><span class='ee-v'>463.3127165279165</span></li><li><span class='ee-k'>1:</span><span class='ee-v'>0</span></li><li><span class='ee-k'>2:</span><span class='ee-v'>-20015109.354</span></li><li><span class='ee-k'>3:</span><span class='ee-v'>0</span></li><li><span class='ee-k'>4:</span><span class='ee-v'>-463.3127165279167</span></li><li><span class='ee-k'>5:</span><span class='ee-v'>10007554.677003</span></li></ul></li><li><label class='ee-shut'>data_type: unsigned int8<input type='checkbox' class='ee-toggle'></label><ul><li><span class='ee-k'>type:</span><span class='ee-v'>PixelType</span></li><li><span class='ee-k'>max:</span><span class='ee-v'>255</span></li><li><span class='ee-k'>min:</span><span class='ee-v'>0</span></li><li><span class='ee-k'>precision:</span><span class='ee-v'>int</span></li></ul></li><li><label class='ee-shut'>dimensions: [86400, 36000]<input type='checkbox' class='ee-toggle'></label><ul><li><span class='ee-k'>0:</span><span class='ee-v'>86400</span></li><li><span class='ee-k'>1:</span><span class='ee-v'>36000</span></li></ul></li></ul></li><li><label class='ee-shut'>4: \"FparStdDev_500m\", unsigned int8, SR-ORG:6974, 86400x36000 px<input type='checkbox' class='ee-toggle'></label><ul><li><span class='ee-k'>id:</span><span class='ee-v'>FparStdDev_500m</span></li><li><span class='ee-k'>crs:</span><span class='ee-v'>SR-ORG:6974</span></li><li><label class='ee-shut'>crs_transform: List (6 elements)<input type='checkbox' class='ee-toggle'></label><ul><li><span class='ee-k'>0:</span><span class='ee-v'>463.3127165279165</span></li><li><span class='ee-k'>1:</span><span class='ee-v'>0</span></li><li><span class='ee-k'>2:</span><span class='ee-v'>-20015109.354</span></li><li><span class='ee-k'>3:</span><span class='ee-v'>0</span></li><li><span class='ee-k'>4:</span><span class='ee-v'>-463.3127165279167</span></li><li><span class='ee-k'>5:</span><span class='ee-v'>10007554.677003</span></li></ul></li><li><label class='ee-shut'>data_type: unsigned int8<input type='checkbox' class='ee-toggle'></label><ul><li><span class='ee-k'>type:</span><span class='ee-v'>PixelType</span></li><li><span class='ee-k'>max:</span><span class='ee-v'>255</span></li><li><span class='ee-k'>min:</span><span class='ee-v'>0</span></li><li><span class='ee-k'>precision:</span><span class='ee-v'>int</span></li></ul></li><li><label class='ee-shut'>dimensions: [86400, 36000]<input type='checkbox' class='ee-toggle'></label><ul><li><span class='ee-k'>0:</span><span class='ee-v'>86400</span></li><li><span class='ee-k'>1:</span><span class='ee-v'>36000</span></li></ul></li></ul></li><li><label class='ee-shut'>5: \"LaiStdDev_500m\", unsigned int8, SR-ORG:6974, 86400x36000 px<input type='checkbox' class='ee-toggle'></label><ul><li><span class='ee-k'>id:</span><span class='ee-v'>LaiStdDev_500m</span></li><li><span class='ee-k'>crs:</span><span class='ee-v'>SR-ORG:6974</span></li><li><label class='ee-shut'>crs_transform: List (6 elements)<input type='checkbox' class='ee-toggle'></label><ul><li><span class='ee-k'>0:</span><span class='ee-v'>463.3127165279165</span></li><li><span class='ee-k'>1:</span><span class='ee-v'>0</span></li><li><span class='ee-k'>2:</span><span class='ee-v'>-20015109.354</span></li><li><span class='ee-k'>3:</span><span class='ee-v'>0</span></li><li><span class='ee-k'>4:</span><span class='ee-v'>-463.3127165279167</span></li><li><span class='ee-k'>5:</span><span class='ee-v'>10007554.677003</span></li></ul></li><li><label class='ee-shut'>data_type: unsigned int8<input type='checkbox' class='ee-toggle'></label><ul><li><span class='ee-k'>type:</span><span class='ee-v'>PixelType</span></li><li><span class='ee-k'>max:</span><span class='ee-v'>255</span></li><li><span class='ee-k'>min:</span><span class='ee-v'>0</span></li><li><span class='ee-k'>precision:</span><span class='ee-v'>int</span></li></ul></li><li><label class='ee-shut'>dimensions: [86400, 36000]<input type='checkbox' class='ee-toggle'></label><ul><li><span class='ee-k'>0:</span><span class='ee-v'>86400</span></li><li><span class='ee-k'>1:</span><span class='ee-v'>36000</span></li></ul></li></ul></li></ul></li><li><label class='ee-shut'>properties: Object (6 properties)<input type='checkbox' class='ee-toggle'></label><ul><li><span class='ee-k'>google:max_source_file_timestamp:</span><span class='ee-v'>1627510099000</span></li><li><span class='ee-k'>system:asset_size:</span><span class='ee-v'>502256208</span></li><li><label class='ee-shut'>system:footprint: LinearRing (5 vertices)<input type='checkbox' class='ee-toggle'></label><ul><li><span class='ee-k'>type:</span><span class='ee-v'>LinearRing</span></li><li><label class='ee-shut'>coordinates: List (5 elements)<input type='checkbox' class='ee-toggle'></label><ul><li><label class='ee-shut'>0: [-180, -90]<input type='checkbox' class='ee-toggle'></label><ul><li><span class='ee-k'>0:</span><span class='ee-v'>-180</span></li><li><span class='ee-k'>1:</span><span class='ee-v'>-90</span></li></ul></li><li><label class='ee-shut'>1: [180, -90]<input type='checkbox' class='ee-toggle'></label><ul><li><span class='ee-k'>0:</span><span class='ee-v'>180</span></li><li><span class='ee-k'>1:</span><span class='ee-v'>-90</span></li></ul></li><li><label class='ee-shut'>2: [180, 90]<input type='checkbox' class='ee-toggle'></label><ul><li><span class='ee-k'>0:</span><span class='ee-v'>180</span></li><li><span class='ee-k'>1:</span><span class='ee-v'>90</span></li></ul></li><li><label class='ee-shut'>3: [-180, 90]<input type='checkbox' class='ee-toggle'></label><ul><li><span class='ee-k'>0:</span><span class='ee-v'>-180</span></li><li><span class='ee-k'>1:</span><span class='ee-v'>90</span></li></ul></li><li><label class='ee-shut'>4: [-180, -90]<input type='checkbox' class='ee-toggle'></label><ul><li><span class='ee-k'>0:</span><span class='ee-v'>-180</span></li><li><span class='ee-k'>1:</span><span class='ee-v'>-90</span></li></ul></li></ul></li></ul></li><li><span class='ee-k'>system:index:</span><span class='ee-v'>2000_02_18</span></li><li><span class='ee-k'>system:time_end:</span><span class='ee-v'>951523200000</span></li><li><span class='ee-k'>system:time_start:</span><span class='ee-v'>950832000000</span></li></ul></li></ul></li></ul></li></ul></li></ul></div><script>function toggleHeader() {\n",
       "    const parent = this.parentElement;\n",
       "    parent.className = parent.className === \"ee-open\" ? \"ee-shut\" : \"ee-open\";\n",
       "}\n",
       "\n",
       "for (let c of document.getElementsByClassName(\"ee-toggle\")) {\n",
       "    c.onclick = toggleHeader;\n",
       "}</script></div>"
      ],
      "text/plain": [
       "<ee.imagecollection.ImageCollection at 0x107fe83d0>"
      ]
     },
     "execution_count": 2,
     "metadata": {},
     "output_type": "execute_result"
    }
   ],
   "source": [
    "mod15 = ee.ImageCollection(\"MODIS/061/MOD15A2H\")\n",
    "mod15.limit(1)"
   ]
  },
  {
   "cell_type": "code",
   "execution_count": 75,
   "id": "2d4585d3-489d-4df4-b581-e61ad6cdd559",
   "metadata": {},
   "outputs": [
    {
     "data": {
      "text/html": [
       "\n",
       "            <style>\n",
       "                .geemap-dark {\n",
       "                    --jp-widgets-color: white;\n",
       "                    --jp-widgets-label-color: white;\n",
       "                    --jp-ui-font-color1: white;\n",
       "                    --jp-layout-color2: #454545;\n",
       "                    background-color: #383838;\n",
       "                }\n",
       "\n",
       "                .geemap-dark .jupyter-button {\n",
       "                    --jp-layout-color3: #383838;\n",
       "                }\n",
       "\n",
       "                .geemap-colab {\n",
       "                    background-color: var(--colab-primary-surface-color, white);\n",
       "                }\n",
       "\n",
       "                .geemap-colab .jupyter-button {\n",
       "                    --jp-layout-color3: var(--colab-primary-surface-color, white);\n",
       "                }\n",
       "            </style>\n",
       "            "
      ],
      "text/plain": [
       "<IPython.core.display.HTML object>"
      ]
     },
     "metadata": {},
     "output_type": "display_data"
    },
    {
     "name": "stdout",
     "output_type": "stream",
     "text": [
      "49047 total gridcells.\n",
      "['Fire_Year', 'grid_index', 'Fire_ID', 'max_date', 'afd_count', 'Ig_Date', 'first_date', 'last_date', 'Last_Dat_1', 'system:index']\n"
     ]
    }
   ],
   "source": [
    "# load the frp grid\n",
    "grid = ee.FeatureCollection('projects/jfsp-aspen/assets/viirs_snpp_jpss1_afd_latlon_aspenfires_pixar_gridstats')\n",
    "print(f\"{grid.size().getInfo()} total gridcells.\")\n",
    "print(grid.first().propertyNames().getInfo())"
   ]
  },
  {
   "cell_type": "code",
   "execution_count": 78,
   "id": "077ed6cd-331d-46ab-8598-25126a1fe397",
   "metadata": {},
   "outputs": [
    {
     "data": {
      "text/html": [
       "\n",
       "            <style>\n",
       "                .geemap-dark {\n",
       "                    --jp-widgets-color: white;\n",
       "                    --jp-widgets-label-color: white;\n",
       "                    --jp-ui-font-color1: white;\n",
       "                    --jp-layout-color2: #454545;\n",
       "                    background-color: #383838;\n",
       "                }\n",
       "\n",
       "                .geemap-dark .jupyter-button {\n",
       "                    --jp-layout-color3: #383838;\n",
       "                }\n",
       "\n",
       "                .geemap-colab {\n",
       "                    background-color: var(--colab-primary-surface-color, white);\n",
       "                }\n",
       "\n",
       "                .geemap-colab .jupyter-button {\n",
       "                    --jp-layout-color3: var(--colab-primary-surface-color, white);\n",
       "                }\n",
       "            </style>\n",
       "            "
      ],
      "text/plain": [
       "<IPython.core.display.HTML object>"
      ]
     },
     "metadata": {},
     "output_type": "display_data"
    },
    {
     "name": "stdout",
     "output_type": "stream",
     "text": [
      "Processing: 58 fires.\n",
      "Number of features in LAI/FPAR stats: 49047\n"
     ]
    }
   ],
   "source": [
    "# function to extract lai/fpar from MOD15 within gridcells\n",
    "def lai_fpar_stats(fire_id):\n",
    "    \"\"\" calculate the LAI/FPAR for fire gridcells \"\"\"\n",
    "    \n",
    "    grid_fire = grid.filter(ee.Filter.eq('Fire_ID',fire_id)) # get the gridcells for the current fire\n",
    "    \n",
    "    end_date = ee.Date(grid_fire.first().get('Ig_Date')).advance(-1,'days') # day before discovery day\n",
    "    start_date = end_date.advance(-18,'days') # 16-days pre-fire\n",
    "\n",
    "    # filter the modis collection\n",
    "    mod15_ = mod15.filterDate(start_date, end_date).mean()\n",
    "    \n",
    "    # do the reduction\n",
    "    mod15_stats = mod15_.select(['Lai_500m','Fpar_500m']).reduceRegions(\n",
    "        collection=grid_fire,\n",
    "        reducer=ee.Reducer.mean(),\n",
    "        scale=375 # gridcell 'scale'\n",
    "    ).select(['grid_index','Lai_500m','Fpar_500m'])\n",
    "\n",
    "    return mod15_stats\n",
    "    \n",
    "# map the function over all fire ids\n",
    "fire_ids = grid.aggregate_array('Fire_ID').distinct()\n",
    "print(f\"Processing: {fire_ids.size().getInfo()} fires.\")\n",
    "\n",
    "results = fire_ids.map(lai_fpar_stats)\n",
    "results_fc = ee.FeatureCollection(results).flatten()\n",
    "\n",
    "print(\"Number of features in LAI/FPAR stats:\", results_fc.size().getInfo())"
   ]
  },
  {
   "cell_type": "code",
   "execution_count": 79,
   "id": "f31822f7-5faf-4fc5-bb13-aedbf5b852c4",
   "metadata": {},
   "outputs": [
    {
     "data": {
      "text/html": [
       "\n",
       "            <style>\n",
       "                .geemap-dark {\n",
       "                    --jp-widgets-color: white;\n",
       "                    --jp-widgets-label-color: white;\n",
       "                    --jp-ui-font-color1: white;\n",
       "                    --jp-layout-color2: #454545;\n",
       "                    background-color: #383838;\n",
       "                }\n",
       "\n",
       "                .geemap-dark .jupyter-button {\n",
       "                    --jp-layout-color3: #383838;\n",
       "                }\n",
       "\n",
       "                .geemap-colab {\n",
       "                    background-color: var(--colab-primary-surface-color, white);\n",
       "                }\n",
       "\n",
       "                .geemap-colab .jupyter-button {\n",
       "                    --jp-layout-color3: var(--colab-primary-surface-color, white);\n",
       "                }\n",
       "            </style>\n",
       "            "
      ],
      "text/plain": [
       "<IPython.core.display.HTML object>"
      ]
     },
     "metadata": {},
     "output_type": "display_data"
    },
    {
     "data": {
      "text/html": [
       "<div><style>:root {\n",
       "  --font-color-primary: var(--jp-content-font-color0, rgba(0, 0, 0, 1));\n",
       "  --font-color-secondary: var(--jp-content-font-color2, rgba(0, 0, 0, 0.6));\n",
       "  --font-color-accent: rgba(123, 31, 162, 1);\n",
       "  --border-color: var(--jp-border-color2, #e0e0e0);\n",
       "  --background-color: var(--jp-layout-color0, white);\n",
       "  --background-color-row-even: var(--jp-layout-color1, white);\n",
       "  --background-color-row-odd: var(--jp-layout-color2, #eeeeee);\n",
       "}\n",
       "\n",
       "html[theme=\"dark\"],\n",
       "body[data-theme=\"dark\"],\n",
       "body.vscode-dark {\n",
       "  --font-color-primary: rgba(255, 255, 255, 1);\n",
       "  --font-color-secondary: rgba(255, 255, 255, 0.6);\n",
       "  --font-color-accent: rgb(173, 132, 190);\n",
       "  --border-color: #2e2e2e;\n",
       "  --background-color: #111111;\n",
       "  --background-color-row-even: #111111;\n",
       "  --background-color-row-odd: #313131;\n",
       "}\n",
       "\n",
       ".ee {\n",
       "  padding: 1em;\n",
       "  line-height: 1.5em;\n",
       "  min-width: 300px;\n",
       "  max-width: 1200px;\n",
       "  overflow-y: scroll;\n",
       "  max-height: 600px;\n",
       "  border: 1px solid var(--border-color);\n",
       "  font-family: monospace;\n",
       "}\n",
       "\n",
       ".ee li {\n",
       "  list-style-type: none;\n",
       "}\n",
       "\n",
       ".ee ul {\n",
       "  padding-left: 1.5em !important;\n",
       "  margin: 0;\n",
       "}\n",
       "\n",
       ".ee > ul {\n",
       "  padding-left: 0 !important;\n",
       "}\n",
       "\n",
       ".ee-open,\n",
       ".ee-shut {\n",
       "  color: var(--font-color-secondary);\n",
       "  cursor: pointer;\n",
       "  margin: 0;\n",
       "}\n",
       "\n",
       ".ee-open:hover,\n",
       ".ee-shut:hover {\n",
       "  color: var(--font-color-primary);\n",
       "}\n",
       "\n",
       ".ee-k {\n",
       "  color: var(--font-color-accent);\n",
       "  margin-right: 6px;\n",
       "}\n",
       "\n",
       ".ee-v {\n",
       "  color: var(--font-color-primary);\n",
       "}\n",
       "\n",
       ".ee-toggle {\n",
       "  display: none;\n",
       "}\n",
       "\n",
       ".ee-shut + ul {\n",
       "  display: none;\n",
       "}\n",
       "\n",
       ".ee-open + ul {\n",
       "  display: block;\n",
       "}\n",
       "\n",
       ".ee-shut::before {\n",
       "  display: inline-block;\n",
       "  content: \"▼\";\n",
       "  margin-right: 6px;\n",
       "  transform: rotate(-90deg);\n",
       "  transition: transform 0.2s;\n",
       "}\n",
       "\n",
       ".ee-open::before {\n",
       "  transform: rotate(0deg);\n",
       "  display: inline-block;\n",
       "  content: \"▼\";\n",
       "  margin-right: 6px;\n",
       "  transition: transform 0.2s;\n",
       "}\n",
       "</style><div class='ee'><ul><li><label class='ee-shut'>FeatureCollection (10 elements, 0 columns)<input type='checkbox' class='ee-toggle'></label><ul><li><span class='ee-k'>type:</span><span class='ee-v'>FeatureCollection</span></li><li><label class='ee-shut'>columns: Object (0 properties)<input type='checkbox' class='ee-toggle'></label><ul></ul></li><li><label class='ee-shut'>features: List (10 elements)<input type='checkbox' class='ee-toggle'></label><ul><li><label class='ee-shut'>0: Feature (Polygon, 3 properties)<input type='checkbox' class='ee-toggle'></label><ul><li><span class='ee-k'>type:</span><span class='ee-v'>Feature</span></li><li><span class='ee-k'>id:</span><span class='ee-v'>0_00000000000000008d8a</span></li><li><label class='ee-shut'>geometry: Polygon (5 vertices)<input type='checkbox' class='ee-toggle'></label><ul><li><span class='ee-k'>type:</span><span class='ee-v'>Polygon</span></li><li><label class='ee-shut'>coordinates: List (1 element)<input type='checkbox' class='ee-toggle'></label><ul><li><label class='ee-shut'>0: List (5 elements)<input type='checkbox' class='ee-toggle'></label><ul><li><label class='ee-shut'>0: [-107.81339887162747, 37.47225030658195]<input type='checkbox' class='ee-toggle'></label><ul><li><span class='ee-k'>0:</span><span class='ee-v'>-107.81339887162747</span></li><li><span class='ee-k'>1:</span><span class='ee-v'>37.47225030658195</span></li></ul></li><li><label class='ee-shut'>1: [-107.80915382899823, 37.47266486259341]<input type='checkbox' class='ee-toggle'></label><ul><li><span class='ee-k'>0:</span><span class='ee-v'>-107.80915382899823</span></li><li><span class='ee-k'>1:</span><span class='ee-v'>37.47266486259341</span></li></ul></li><li><label class='ee-shut'>2: [-107.80968406049293, 37.475983168542456]<input type='checkbox' class='ee-toggle'></label><ul><li><span class='ee-k'>0:</span><span class='ee-v'>-107.80968406049293</span></li><li><span class='ee-k'>1:</span><span class='ee-v'>37.475983168542456</span></li></ul></li><li><label class='ee-shut'>3: [-107.81392929173528, 37.47556860888998]<input type='checkbox' class='ee-toggle'></label><ul><li><span class='ee-k'>0:</span><span class='ee-v'>-107.81392929173528</span></li><li><span class='ee-k'>1:</span><span class='ee-v'>37.47556860888998</span></li></ul></li><li><label class='ee-shut'>4: [-107.81339887162747, 37.47225030658195]<input type='checkbox' class='ee-toggle'></label><ul><li><span class='ee-k'>0:</span><span class='ee-v'>-107.81339887162747</span></li><li><span class='ee-k'>1:</span><span class='ee-v'>37.47225030658195</span></li></ul></li></ul></li></ul></li></ul></li><li><label class='ee-shut'>properties: Object (3 properties)<input type='checkbox' class='ee-toggle'></label><ul><li><span class='ee-k'>Fpar_500m:</span><span class='ee-v'>50.3411214953271</span></li><li><span class='ee-k'>Lai_500m:</span><span class='ee-v'>13.336448598130842</span></li><li><span class='ee-k'>grid_index:</span><span class='ee-v'>919906</span></li></ul></li></ul></li><li><label class='ee-shut'>1: Feature (Polygon, 3 properties)<input type='checkbox' class='ee-toggle'></label><ul><li><span class='ee-k'>type:</span><span class='ee-v'>Feature</span></li><li><span class='ee-k'>id:</span><span class='ee-v'>0_00000000000000008d8b</span></li><li><label class='ee-shut'>geometry: Polygon (5 vertices)<input type='checkbox' class='ee-toggle'></label><ul><li><span class='ee-k'>type:</span><span class='ee-v'>Polygon</span></li><li><label class='ee-shut'>coordinates: List (1 element)<input type='checkbox' class='ee-toggle'></label><ul><li><label class='ee-shut'>0: List (5 elements)<input type='checkbox' class='ee-toggle'></label><ul><li><label class='ee-shut'>0: [-107.81392929173528, 37.47556860888998]<input type='checkbox' class='ee-toggle'></label><ul><li><span class='ee-k'>0:</span><span class='ee-v'>-107.81392929173528</span></li><li><span class='ee-k'>1:</span><span class='ee-v'>37.47556860888998</span></li></ul></li><li><label class='ee-shut'>1: [-107.80968406049293, 37.475983168542456]<input type='checkbox' class='ee-toggle'></label><ul><li><span class='ee-k'>0:</span><span class='ee-v'>-107.80968406049293</span></li><li><span class='ee-k'>1:</span><span class='ee-v'>37.475983168542456</span></li></ul></li><li><label class='ee-shut'>2: [-107.81021510634919, 37.479305830509375]<input type='checkbox' class='ee-toggle'></label><ul><li><span class='ee-k'>0:</span><span class='ee-v'>-107.81021510634919</span></li><li><span class='ee-k'>1:</span><span class='ee-v'>37.479305830509375</span></li></ul></li><li><label class='ee-shut'>3: [-107.81446052621632, 37.47889126713356]<input type='checkbox' class='ee-toggle'></label><ul><li><span class='ee-k'>0:</span><span class='ee-v'>-107.81446052621632</span></li><li><span class='ee-k'>1:</span><span class='ee-v'>37.47889126713356</span></li></ul></li><li><label class='ee-shut'>4: [-107.81392929173528, 37.47556860888998]<input type='checkbox' class='ee-toggle'></label><ul><li><span class='ee-k'>0:</span><span class='ee-v'>-107.81392929173528</span></li><li><span class='ee-k'>1:</span><span class='ee-v'>37.47556860888998</span></li></ul></li></ul></li></ul></li></ul></li><li><label class='ee-shut'>properties: Object (3 properties)<input type='checkbox' class='ee-toggle'></label><ul><li><span class='ee-k'>Fpar_500m:</span><span class='ee-v'>48.66925465838509</span></li><li><span class='ee-k'>Lai_500m:</span><span class='ee-v'>13.319875776397517</span></li><li><span class='ee-k'>grid_index:</span><span class='ee-v'>919907</span></li></ul></li></ul></li><li><label class='ee-shut'>2: Feature (Polygon, 3 properties)<input type='checkbox' class='ee-toggle'></label><ul><li><span class='ee-k'>type:</span><span class='ee-v'>Feature</span></li><li><span class='ee-k'>id:</span><span class='ee-v'>0_00000000000000008d8c</span></li><li><label class='ee-shut'>geometry: Polygon (5 vertices)<input type='checkbox' class='ee-toggle'></label><ul><li><span class='ee-k'>type:</span><span class='ee-v'>Polygon</span></li><li><label class='ee-shut'>coordinates: List (1 element)<input type='checkbox' class='ee-toggle'></label><ul><li><label class='ee-shut'>0: List (5 elements)<input type='checkbox' class='ee-toggle'></label><ul><li><label class='ee-shut'>0: [-107.81446052621632, 37.47889126713356]<input type='checkbox' class='ee-toggle'></label><ul><li><span class='ee-k'>0:</span><span class='ee-v'>-107.81446052621632</span></li><li><span class='ee-k'>1:</span><span class='ee-v'>37.47889126713356</span></li></ul></li><li><label class='ee-shut'>1: [-107.81021510634919, 37.479305830509375]<input type='checkbox' class='ee-toggle'></label><ul><li><span class='ee-k'>0:</span><span class='ee-v'>-107.81021510634919</span></li><li><span class='ee-k'>1:</span><span class='ee-v'>37.479305830509375</span></li></ul></li><li><label class='ee-shut'>2: [-107.81074543018535, 37.482624177186075]<input type='checkbox' class='ee-toggle'></label><ul><li><span class='ee-k'>0:</span><span class='ee-v'>-107.81074543018535</span></li><li><span class='ee-k'>1:</span><span class='ee-v'>37.482624177186075</span></li></ul></li><li><label class='ee-shut'>3: [-107.81499103866611, 37.48220953131387]<input type='checkbox' class='ee-toggle'></label><ul><li><span class='ee-k'>0:</span><span class='ee-v'>-107.81499103866611</span></li><li><span class='ee-k'>1:</span><span class='ee-v'>37.48220953131387</span></li></ul></li><li><label class='ee-shut'>4: [-107.81446052621632, 37.47889126713356]<input type='checkbox' class='ee-toggle'></label><ul><li><span class='ee-k'>0:</span><span class='ee-v'>-107.81446052621632</span></li><li><span class='ee-k'>1:</span><span class='ee-v'>37.47889126713356</span></li></ul></li></ul></li></ul></li></ul></li><li><label class='ee-shut'>properties: Object (3 properties)<input type='checkbox' class='ee-toggle'></label><ul><li><span class='ee-k'>Fpar_500m:</span><span class='ee-v'>49.86760124610593</span></li><li><span class='ee-k'>Lai_500m:</span><span class='ee-v'>13.25545171339564</span></li><li><span class='ee-k'>grid_index:</span><span class='ee-v'>919908</span></li></ul></li></ul></li><li><label class='ee-shut'>3: Feature (Polygon, 3 properties)<input type='checkbox' class='ee-toggle'></label><ul><li><span class='ee-k'>type:</span><span class='ee-v'>Feature</span></li><li><span class='ee-k'>id:</span><span class='ee-v'>0_00000000000000008da7</span></li><li><label class='ee-shut'>geometry: Polygon (5 vertices)<input type='checkbox' class='ee-toggle'></label><ul><li><span class='ee-k'>type:</span><span class='ee-v'>Polygon</span></li><li><label class='ee-shut'>coordinates: List (1 element)<input type='checkbox' class='ee-toggle'></label><ul><li><label class='ee-shut'>0: List (5 elements)<input type='checkbox' class='ee-toggle'></label><ul><li><label class='ee-shut'>0: [-107.80703182835067, 37.45938269784985]<input type='checkbox' class='ee-toggle'></label><ul><li><span class='ee-k'>0:</span><span class='ee-v'>-107.80703182835067</span></li><li><span class='ee-k'>1:</span><span class='ee-v'>37.45938269784985</span></li></ul></li><li><label class='ee-shut'>1: [-107.80278190966504, 37.45979762943415]<input type='checkbox' class='ee-toggle'></label><ul><li><span class='ee-k'>0:</span><span class='ee-v'>-107.80278190966504</span></li><li><span class='ee-k'>1:</span><span class='ee-v'>37.45979762943415</span></li></ul></li><li><label class='ee-shut'>2: [-107.8033117678521, 37.4631159358911]<input type='checkbox' class='ee-toggle'></label><ul><li><span class='ee-k'>0:</span><span class='ee-v'>-107.8033117678521</span></li><li><span class='ee-k'>1:</span><span class='ee-v'>37.4631159358911</span></li></ul></li><li><label class='ee-shut'>3: [-107.80756187516381, 37.462701079510154]<input type='checkbox' class='ee-toggle'></label><ul><li><span class='ee-k'>0:</span><span class='ee-v'>-107.80756187516381</span></li><li><span class='ee-k'>1:</span><span class='ee-v'>37.462701079510154</span></li></ul></li><li><label class='ee-shut'>4: [-107.80703182835067, 37.45938269784985]<input type='checkbox' class='ee-toggle'></label><ul><li><span class='ee-k'>0:</span><span class='ee-v'>-107.80703182835067</span></li><li><span class='ee-k'>1:</span><span class='ee-v'>37.45938269784985</span></li></ul></li></ul></li></ul></li></ul></li><li><label class='ee-shut'>properties: Object (3 properties)<input type='checkbox' class='ee-toggle'></label><ul><li><span class='ee-k'>Fpar_500m:</span><span class='ee-v'>39.83229813664596</span></li><li><span class='ee-k'>Lai_500m:</span><span class='ee-v'>9.686335403726709</span></li><li><span class='ee-k'>grid_index:</span><span class='ee-v'>922166</span></li></ul></li></ul></li><li><label class='ee-shut'>4: Feature (Polygon, 3 properties)<input type='checkbox' class='ee-toggle'></label><ul><li><span class='ee-k'>type:</span><span class='ee-v'>Feature</span></li><li><span class='ee-k'>id:</span><span class='ee-v'>0_00000000000000008dab</span></li><li><label class='ee-shut'>geometry: Polygon (5 vertices)<input type='checkbox' class='ee-toggle'></label><ul><li><span class='ee-k'>type:</span><span class='ee-v'>Polygon</span></li><li><label class='ee-shut'>coordinates: List (1 element)<input type='checkbox' class='ee-toggle'></label><ul><li><label class='ee-shut'>0: List (5 elements)<input type='checkbox' class='ee-toggle'></label><ul><li><label class='ee-shut'>0: [-107.80968406049293, 37.475983168542456]<input type='checkbox' class='ee-toggle'></label><ul><li><span class='ee-k'>0:</span><span class='ee-v'>-107.80968406049293</span></li><li><span class='ee-k'>1:</span><span class='ee-v'>37.475983168542456</span></li></ul></li><li><label class='ee-shut'>1: [-107.80543319865156, 37.47639811865465]<input type='checkbox' class='ee-toggle'></label><ul><li><span class='ee-k'>0:</span><span class='ee-v'>-107.80543319865156</span></li><li><span class='ee-k'>1:</span><span class='ee-v'>37.47639811865465</span></li></ul></li><li><label class='ee-shut'>2: [-107.8059640558691, 37.47972086323956]<input type='checkbox' class='ee-toggle'></label><ul><li><span class='ee-k'>0:</span><span class='ee-v'>-107.8059640558691</span></li><li><span class='ee-k'>1:</span><span class='ee-v'>37.47972086323956</span></li></ul></li><li><label class='ee-shut'>3: [-107.81021510634919, 37.479305830509375]<input type='checkbox' class='ee-toggle'></label><ul><li><span class='ee-k'>0:</span><span class='ee-v'>-107.81021510634919</span></li><li><span class='ee-k'>1:</span><span class='ee-v'>37.479305830509375</span></li></ul></li><li><label class='ee-shut'>4: [-107.80968406049293, 37.475983168542456]<input type='checkbox' class='ee-toggle'></label><ul><li><span class='ee-k'>0:</span><span class='ee-v'>-107.80968406049293</span></li><li><span class='ee-k'>1:</span><span class='ee-v'>37.475983168542456</span></li></ul></li></ul></li></ul></li></ul></li><li><label class='ee-shut'>properties: Object (3 properties)<input type='checkbox' class='ee-toggle'></label><ul><li><span class='ee-k'>Fpar_500m:</span><span class='ee-v'>43.829192546583855</span></li><li><span class='ee-k'>Lai_500m:</span><span class='ee-v'>12.459627329192548</span></li><li><span class='ee-k'>grid_index:</span><span class='ee-v'>922171</span></li></ul></li></ul></li><li><label class='ee-shut'>5: Feature (Polygon, 3 properties)<input type='checkbox' class='ee-toggle'></label><ul><li><span class='ee-k'>type:</span><span class='ee-v'>Feature</span></li><li><span class='ee-k'>id:</span><span class='ee-v'>0_00000000000000008dac</span></li><li><label class='ee-shut'>geometry: Polygon (5 vertices)<input type='checkbox' class='ee-toggle'></label><ul><li><span class='ee-k'>type:</span><span class='ee-v'>Polygon</span></li><li><label class='ee-shut'>coordinates: List (1 element)<input type='checkbox' class='ee-toggle'></label><ul><li><label class='ee-shut'>0: List (5 elements)<input type='checkbox' class='ee-toggle'></label><ul><li><label class='ee-shut'>0: [-107.81021510634919, 37.479305830509375]<input type='checkbox' class='ee-toggle'></label><ul><li><span class='ee-k'>0:</span><span class='ee-v'>-107.81021510634919</span></li><li><span class='ee-k'>1:</span><span class='ee-v'>37.479305830509375</span></li></ul></li><li><label class='ee-shut'>1: [-107.8059640558691, 37.47972086323956]<input type='checkbox' class='ee-toggle'></label><ul><li><span class='ee-k'>0:</span><span class='ee-v'>-107.8059640558691</span></li><li><span class='ee-k'>1:</span><span class='ee-v'>37.47972086323956</span></li></ul></li><li><label class='ee-shut'>2: [-107.80649419107768, 37.48303913477829]<input type='checkbox' class='ee-toggle'></label><ul><li><span class='ee-k'>0:</span><span class='ee-v'>-107.80649419107768</span></li><li><span class='ee-k'>1:</span><span class='ee-v'>37.48303913477829</span></li></ul></li><li><label class='ee-shut'>3: [-107.81074543018535, 37.482624177186075]<input type='checkbox' class='ee-toggle'></label><ul><li><span class='ee-k'>0:</span><span class='ee-v'>-107.81074543018535</span></li><li><span class='ee-k'>1:</span><span class='ee-v'>37.482624177186075</span></li></ul></li><li><label class='ee-shut'>4: [-107.81021510634919, 37.479305830509375]<input type='checkbox' class='ee-toggle'></label><ul><li><span class='ee-k'>0:</span><span class='ee-v'>-107.81021510634919</span></li><li><span class='ee-k'>1:</span><span class='ee-v'>37.479305830509375</span></li></ul></li></ul></li></ul></li></ul></li><li><label class='ee-shut'>properties: Object (3 properties)<input type='checkbox' class='ee-toggle'></label><ul><li><span class='ee-k'>Fpar_500m:</span><span class='ee-v'>44.303125</span></li><li><span class='ee-k'>Lai_500m:</span><span class='ee-v'>11.028125000000001</span></li><li><span class='ee-k'>grid_index:</span><span class='ee-v'>922172</span></li></ul></li></ul></li><li><label class='ee-shut'>6: Feature (Polygon, 3 properties)<input type='checkbox' class='ee-toggle'></label><ul><li><span class='ee-k'>type:</span><span class='ee-v'>Feature</span></li><li><span class='ee-k'>id:</span><span class='ee-v'>0_00000000000000008cff</span></li><li><label class='ee-shut'>geometry: Polygon (5 vertices)<input type='checkbox' class='ee-toggle'></label><ul><li><span class='ee-k'>type:</span><span class='ee-v'>Polygon</span></li><li><label class='ee-shut'>coordinates: List (1 element)<input type='checkbox' class='ee-toggle'></label><ul><li><label class='ee-shut'>0: List (5 elements)<input type='checkbox' class='ee-toggle'></label><ul><li><label class='ee-shut'>0: [-107.83145286628512, 37.47723031486666]<input type='checkbox' class='ee-toggle'></label><ul><li><span class='ee-k'>0:</span><span class='ee-v'>-107.83145286628512</span></li><li><span class='ee-k'>1:</span><span class='ee-v'>37.47723031486666</span></li></ul></li><li><label class='ee-shut'>1: [-107.82720764704244, 37.47764551698612]<input type='checkbox' class='ee-toggle'></label><ul><li><span class='ee-k'>0:</span><span class='ee-v'>-107.82720764704244</span></li><li><span class='ee-k'>1:</span><span class='ee-v'>37.47764551698612</span></li></ul></li><li><label class='ee-shut'>2: [-107.82773881571303, 37.48096375589077]<input type='checkbox' class='ee-toggle'></label><ul><li><span class='ee-k'>0:</span><span class='ee-v'>-107.82773881571303</span></li><li><span class='ee-k'>1:</span><span class='ee-v'>37.48096375589077</span></li></ul></li><li><label class='ee-shut'>3: [-107.83198422355616, 37.4805485500255]<input type='checkbox' class='ee-toggle'></label><ul><li><span class='ee-k'>0:</span><span class='ee-v'>-107.83198422355616</span></li><li><span class='ee-k'>1:</span><span class='ee-v'>37.4805485500255</span></li></ul></li><li><label class='ee-shut'>4: [-107.83145286628512, 37.47723031486666]<input type='checkbox' class='ee-toggle'></label><ul><li><span class='ee-k'>0:</span><span class='ee-v'>-107.83145286628512</span></li><li><span class='ee-k'>1:</span><span class='ee-v'>37.47723031486666</span></li></ul></li></ul></li></ul></li></ul></li><li><label class='ee-shut'>properties: Object (3 properties)<input type='checkbox' class='ee-toggle'></label><ul><li><span class='ee-k'>Fpar_500m:</span><span class='ee-v'>63.13862928348909</span></li><li><span class='ee-k'>Lai_500m:</span><span class='ee-v'>21.10436137071651</span></li><li><span class='ee-k'>grid_index:</span><span class='ee-v'>910852</span></li></ul></li></ul></li><li><label class='ee-shut'>7: Feature (Polygon, 3 properties)<input type='checkbox' class='ee-toggle'></label><ul><li><span class='ee-k'>type:</span><span class='ee-v'>Feature</span></li><li><span class='ee-k'>id:</span><span class='ee-v'>0_00000000000000008d1e</span></li><li><label class='ee-shut'>geometry: Polygon (5 vertices)<input type='checkbox' class='ee-toggle'></label><ul><li><span class='ee-k'>type:</span><span class='ee-v'>Polygon</span></li><li><label class='ee-shut'>coordinates: List (1 element)<input type='checkbox' class='ee-toggle'></label><ul><li><label class='ee-shut'>0: List (5 elements)<input type='checkbox' class='ee-toggle'></label><ul><li><label class='ee-shut'>0: [-107.82508234951078, 37.46436370829758]<input type='checkbox' class='ee-toggle'></label><ul><li><span class='ee-k'>0:</span><span class='ee-v'>-107.82508234951078</span></li><li><span class='ee-k'>1:</span><span class='ee-v'>37.46436370829758</span></li></ul></li><li><label class='ee-shut'>1: [-107.82083216311631, 37.46477922183846]<input type='checkbox' class='ee-toggle'></label><ul><li><span class='ee-k'>0:</span><span class='ee-v'>-107.82083216311631</span></li><li><span class='ee-k'>1:</span><span class='ee-v'>37.46477922183846</span></li></ul></li><li><label class='ee-shut'>2: [-107.82136295848642, 37.468097540683594]<input type='checkbox' class='ee-toggle'></label><ul><li><span class='ee-k'>0:</span><span class='ee-v'>-107.82136295848642</span></li><li><span class='ee-k'>1:</span><span class='ee-v'>37.468097540683594</span></li></ul></li><li><label class='ee-shut'>3: [-107.82561324311418, 37.46768195855211]<input type='checkbox' class='ee-toggle'></label><ul><li><span class='ee-k'>0:</span><span class='ee-v'>-107.82561324311418</span></li><li><span class='ee-k'>1:</span><span class='ee-v'>37.46768195855211</span></li></ul></li><li><label class='ee-shut'>4: [-107.82508234951078, 37.46436370829758]<input type='checkbox' class='ee-toggle'></label><ul><li><span class='ee-k'>0:</span><span class='ee-v'>-107.82508234951078</span></li><li><span class='ee-k'>1:</span><span class='ee-v'>37.46436370829758</span></li></ul></li></ul></li></ul></li></ul></li><li><label class='ee-shut'>properties: Object (3 properties)<input type='checkbox' class='ee-toggle'></label><ul><li><span class='ee-k'>Fpar_500m:</span><span class='ee-v'>54.10815047021945</span></li><li><span class='ee-k'>Lai_500m:</span><span class='ee-v'>15.208463949843258</span></li><li><span class='ee-k'>grid_index:</span><span class='ee-v'>913112</span></li></ul></li></ul></li><li><label class='ee-shut'>8: Feature (Polygon, 3 properties)<input type='checkbox' class='ee-toggle'></label><ul><li><span class='ee-k'>type:</span><span class='ee-v'>Feature</span></li><li><span class='ee-k'>id:</span><span class='ee-v'>0_00000000000000008d1f</span></li><li><label class='ee-shut'>geometry: Polygon (5 vertices)<input type='checkbox' class='ee-toggle'></label><ul><li><span class='ee-k'>type:</span><span class='ee-v'>Polygon</span></li><li><label class='ee-shut'>coordinates: List (1 element)<input type='checkbox' class='ee-toggle'></label><ul><li><label class='ee-shut'>0: List (5 elements)<input type='checkbox' class='ee-toggle'></label><ul><li><label class='ee-shut'>0: [-107.82561324311418, 37.46768195855211]<input type='checkbox' class='ee-toggle'></label><ul><li><span class='ee-k'>0:</span><span class='ee-v'>-107.82561324311418</span></li><li><span class='ee-k'>1:</span><span class='ee-v'>37.46768195855211</span></li></ul></li><li><label class='ee-shut'>1: [-107.82136295848642, 37.468097540683594]<input type='checkbox' class='ee-toggle'></label><ul><li><span class='ee-k'>0:</span><span class='ee-v'>-107.82136295848642</span></li><li><span class='ee-k'>1:</span><span class='ee-v'>37.468097540683594</span></li></ul></li><li><label class='ee-shut'>2: [-107.82189438749191, 37.471420165042]<input type='checkbox' class='ee-toggle'></label><ul><li><span class='ee-k'>0:</span><span class='ee-v'>-107.82189438749191</span></li><li><span class='ee-k'>1:</span><span class='ee-v'>37.471420165042</span></li></ul></li><li><label class='ee-shut'>3: [-107.82614495112254, 37.47100464388673]<input type='checkbox' class='ee-toggle'></label><ul><li><span class='ee-k'>0:</span><span class='ee-v'>-107.82614495112254</span></li><li><span class='ee-k'>1:</span><span class='ee-v'>37.47100464388673</span></li></ul></li><li><label class='ee-shut'>4: [-107.82561324311418, 37.46768195855211]<input type='checkbox' class='ee-toggle'></label><ul><li><span class='ee-k'>0:</span><span class='ee-v'>-107.82561324311418</span></li><li><span class='ee-k'>1:</span><span class='ee-v'>37.46768195855211</span></li></ul></li></ul></li></ul></li></ul></li><li><label class='ee-shut'>properties: Object (3 properties)<input type='checkbox' class='ee-toggle'></label><ul><li><span class='ee-k'>Fpar_500m:</span><span class='ee-v'>60.77725856697819</span></li><li><span class='ee-k'>Lai_500m:</span><span class='ee-v'>19.781931464174455</span></li><li><span class='ee-k'>grid_index:</span><span class='ee-v'>913113</span></li></ul></li></ul></li><li><label class='ee-shut'>9: Feature (Polygon, 3 properties)<input type='checkbox' class='ee-toggle'></label><ul><li><span class='ee-k'>type:</span><span class='ee-v'>Feature</span></li><li><span class='ee-k'>id:</span><span class='ee-v'>0_00000000000000008d20</span></li><li><label class='ee-shut'>geometry: Polygon (5 vertices)<input type='checkbox' class='ee-toggle'></label><ul><li><span class='ee-k'>type:</span><span class='ee-v'>Polygon</span></li><li><label class='ee-shut'>coordinates: List (1 element)<input type='checkbox' class='ee-toggle'></label><ul><li><label class='ee-shut'>0: List (5 elements)<input type='checkbox' class='ee-toggle'></label><ul><li><label class='ee-shut'>0: [-107.82614495112254, 37.47100464388673]<input type='checkbox' class='ee-toggle'></label><ul><li><span class='ee-k'>0:</span><span class='ee-v'>-107.82614495112254</span></li><li><span class='ee-k'>1:</span><span class='ee-v'>37.47100464388673</span></li></ul></li><li><label class='ee-shut'>1: [-107.82189438749191, 37.471420165042]<input type='checkbox' class='ee-toggle'></label><ul><li><span class='ee-k'>0:</span><span class='ee-v'>-107.82189438749191</span></li><li><span class='ee-k'>1:</span><span class='ee-v'>37.471420165042</span></li></ul></li><li><label class='ee-shut'>2: [-107.82242518482549, 37.47473845993225]<input type='checkbox' class='ee-toggle'></label><ul><li><span class='ee-k'>0:</span><span class='ee-v'>-107.82242518482549</span></li><li><span class='ee-k'>1:</span><span class='ee-v'>37.47473845993225</span></li></ul></li><li><label class='ee-shut'>3: [-107.8266759370689, 37.47432285615066]<input type='checkbox' class='ee-toggle'></label><ul><li><span class='ee-k'>0:</span><span class='ee-v'>-107.8266759370689</span></li><li><span class='ee-k'>1:</span><span class='ee-v'>37.47432285615066</span></li></ul></li><li><label class='ee-shut'>4: [-107.82614495112254, 37.47100464388673]<input type='checkbox' class='ee-toggle'></label><ul><li><span class='ee-k'>0:</span><span class='ee-v'>-107.82614495112254</span></li><li><span class='ee-k'>1:</span><span class='ee-v'>37.47100464388673</span></li></ul></li></ul></li></ul></li></ul></li><li><label class='ee-shut'>properties: Object (3 properties)<input type='checkbox' class='ee-toggle'></label><ul><li><span class='ee-k'>Fpar_500m:</span><span class='ee-v'>64.75700934579439</span></li><li><span class='ee-k'>Lai_500m:</span><span class='ee-v'>21.79595015576324</span></li><li><span class='ee-k'>grid_index:</span><span class='ee-v'>913114</span></li></ul></li></ul></li></ul></li></ul></li></ul></div><script>function toggleHeader() {\n",
       "    const parent = this.parentElement;\n",
       "    parent.className = parent.className === \"ee-open\" ? \"ee-shut\" : \"ee-open\";\n",
       "}\n",
       "\n",
       "for (let c of document.getElementsByClassName(\"ee-toggle\")) {\n",
       "    c.onclick = toggleHeader;\n",
       "}</script></div>"
      ],
      "text/plain": [
       "<ee.featurecollection.FeatureCollection at 0x13f274070>"
      ]
     },
     "execution_count": 79,
     "metadata": {},
     "output_type": "execute_result"
    }
   ],
   "source": [
    "sample = results_fc.limit(10)\n",
    "sample"
   ]
  },
  {
   "cell_type": "code",
   "execution_count": 80,
   "id": "fecbc5e1-5e21-4192-baf1-a7feda3e46bb",
   "metadata": {},
   "outputs": [
    {
     "data": {
      "text/html": [
       "\n",
       "            <style>\n",
       "                .geemap-dark {\n",
       "                    --jp-widgets-color: white;\n",
       "                    --jp-widgets-label-color: white;\n",
       "                    --jp-ui-font-color1: white;\n",
       "                    --jp-layout-color2: #454545;\n",
       "                    background-color: #383838;\n",
       "                }\n",
       "\n",
       "                .geemap-dark .jupyter-button {\n",
       "                    --jp-layout-color3: #383838;\n",
       "                }\n",
       "\n",
       "                .geemap-colab {\n",
       "                    background-color: var(--colab-primary-surface-color, white);\n",
       "                }\n",
       "\n",
       "                .geemap-colab .jupyter-button {\n",
       "                    --jp-layout-color3: var(--colab-primary-surface-color, white);\n",
       "                }\n",
       "            </style>\n",
       "            "
      ],
      "text/plain": [
       "<IPython.core.display.HTML object>"
      ]
     },
     "metadata": {},
     "output_type": "display_data"
    },
    {
     "name": "stdout",
     "output_type": "stream",
     "text": [
      "Export to Earth Engine Asset started!\n",
      "Waiting for export to finish..\n",
      "\tPatience young padawan.\n",
      "Export completed successfully !!!!\n"
     ]
    }
   ],
   "source": [
    "# Export the table. \n",
    "export_task = ee.batch.Export.table.toDrive(\n",
    "    collection=results_fc,\n",
    "    description='gridstats_mod15_lai_fpar',\n",
    "    fileNamePrefix='gridstats_mod15_lai_fpar',\n",
    "    fileFormat='CSV', \n",
    "    folder='LAI'\n",
    ")\n",
    "\n",
    "export_task.start() # Start the export task\n",
    "print(\"Export to Earth Engine Asset started!\")\n",
    "# Monitor the task until it's finished\n",
    "monitor_export(export_task, 60)"
   ]
  },
  {
   "cell_type": "code",
   "execution_count": null,
   "id": "e9a90c3a-ba44-4b20-a022-57d944094737",
   "metadata": {},
   "outputs": [],
   "source": []
  },
  {
   "cell_type": "code",
   "execution_count": null,
   "id": "92a5b7aa-733b-4581-917e-95809ad7cfea",
   "metadata": {},
   "outputs": [],
   "source": []
  },
  {
   "cell_type": "code",
   "execution_count": null,
   "id": "e4cc5362-e7d7-4260-9afe-cffab177a22a",
   "metadata": {},
   "outputs": [],
   "source": [
    "# create a training dataset for LAI over TreeMap species"
   ]
  }
 ],
 "metadata": {
  "kernelspec": {
   "display_name": "aspen-fire",
   "language": "python",
   "name": "aspen-fire"
  },
  "language_info": {
   "codemirror_mode": {
    "name": "ipython",
    "version": 3
   },
   "file_extension": ".py",
   "mimetype": "text/x-python",
   "name": "python",
   "nbconvert_exporter": "python",
   "pygments_lexer": "ipython3",
   "version": "3.10.12"
  }
 },
 "nbformat": 4,
 "nbformat_minor": 5
}
