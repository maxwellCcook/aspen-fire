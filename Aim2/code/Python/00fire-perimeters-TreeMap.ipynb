{
 "cells": [
  {
   "cell_type": "code",
   "execution_count": 1,
   "id": "b0687419-4278-4604-8efa-b9c34a68d9fe",
   "metadata": {},
   "outputs": [
    {
     "name": "stdout",
     "output_type": "stream",
     "text": [
      "Ready to go !\n"
     ]
    }
   ],
   "source": [
    "\"\"\"\n",
    "Data preparation for wildfire events (2017-2023)\n",
    "\n",
    "Fire data sources:\n",
    "    - NIFC Interagency Final Wildfire Perimeters\n",
    "    - FIRED events\n",
    "    - MTBS perimeters\n",
    "\n",
    "Extract the % forested for fire event polygons\n",
    "\n",
    "Forest data source:\n",
    "    - USFS TreeMap\n",
    "  \n",
    "Author: maxwell.cook@colorado.edu\n",
    "\"\"\"\n",
    "\n",
    "import os, sys, time, gc\n",
    "import geopandas as gpd\n",
    "import rioxarray as rxr\n",
    "import matplotlib\n",
    "import matplotlib.pyplot as plt\n",
    "import seaborn as sns\n",
    "\n",
    "# Custom functions\n",
    "sys.path.append(os.path.join(os.getcwd(),'code/'))\n",
    "from __functions import *\n",
    "\n",
    "proj = 'EPSG:5070'\n",
    "\n",
    "maindir = '/Users/max/Library/CloudStorage/OneDrive-Personal/mcook/'\n",
    "projdir = os.path.join(maindir, 'aspen-fire/Aim2/')\n",
    "\n",
    "print(\"Ready to go !\")"
   ]
  },
  {
   "cell_type": "code",
   "execution_count": 2,
   "id": "adea286a-fddb-437b-b8b0-9486464e8ac9",
   "metadata": {},
   "outputs": [
    {
     "data": {
      "text/plain": [
       "Index(['na_l3name', 'na_l3code', 'geometry'], dtype='object')"
      ]
     },
     "execution_count": 2,
     "metadata": {},
     "output_type": "execute_result"
    }
   ],
   "source": [
    "# Load western US ecoregions\n",
    "fp = os.path.join(projdir,'data/spatial/raw/boundaries/na_cec_eco_l3_west.gpkg')\n",
    "ecol3 = gpd.read_file(fp)\n",
    "ecol3 = ecol3[['NA_L3NAME','NA_L3CODE','geometry']].rename(\n",
    "    columns={'NA_L3NAME': 'na_l3name', 'NA_L3CODE': 'na_l3code'}\n",
    ")\n",
    "ecol3.columns"
   ]
  },
  {
   "cell_type": "markdown",
   "id": "6ad66fb9-4027-4dd1-ba58-c893b9c3eab7",
   "metadata": {},
   "source": [
    "### National Interagency Fire Center (NIFC)"
   ]
  },
  {
   "cell_type": "code",
   "execution_count": 4,
   "id": "25843395-76d2-471d-83d9-dbd3b0f86867",
   "metadata": {},
   "outputs": [
    {
     "name": "stdout",
     "output_type": "stream",
     "text": [
      "There are [22147] NIFC perimeters in CONUS.\n",
      "Index(['OBJECTID', 'MAP_METHOD', 'DATE_CUR', 'COMMENTS', 'GEO_ID', 'IRWINID',\n",
      "       'UNQE_FIRE_', 'FIRE_YEAR', 'LOCAL_NUM', 'INCIDENT', 'UNIT_ID',\n",
      "       'POO_RESP_I', 'FEATURE_CA', 'GIS_ACRES', 'USER_NAME', 'SOURCE',\n",
      "       'AGENCY', 'FIRE_YEAR_', 'Shape__Are', 'Shape__Len', 'FORID', 'OTHERID',\n",
      "       'geometry'],\n",
      "      dtype='object')\n",
      "\n",
      "\tFire years: 2017-2023\n",
      "\n",
      "\tFixed [0] geometries.\n"
     ]
    }
   ],
   "source": [
    "# Load the NIFC perimeters\n",
    "fp = os.path.join(maindir,'data/nifc/mod/NIFC_AllPerimeters_to2023.gpkg')\n",
    "nifc = gpd.read_file(fp)\n",
    "# subset to fires 2017 onward\n",
    "nifc['FIRE_YEAR'] = nifc['FIRE_YEAR'].astype(int) # force to integer\n",
    "nifc = nifc[(nifc['FIRE_YEAR'] >= 2017) & (nifc['FIRE_YEAR'] != 9999)]\n",
    "print(f\"There are [{len(nifc)}] NIFC perimeters in CONUS.\\n{nifc.columns}\\n\")\n",
    "print(f\"\\tFire years: {nifc['FIRE_YEAR'].min()}-{nifc['FIRE_YEAR'].max()}\")\n",
    "# fix the geometries if needed\n",
    "if (~nifc.geometry.is_valid).sum() > 0:\n",
    "    nifc['geometry'] = nifc.geometry.buffer(0)\n",
    "    print(f\"\\n\\tFixed [{(~nifc.geometry.is_valid).sum()}] geometries.\")"
   ]
  },
  {
   "cell_type": "code",
   "execution_count": 5,
   "id": "3dcab74c-d7b8-40ba-ab72-7c04672ddefe",
   "metadata": {},
   "outputs": [
    {
     "name": "stdout",
     "output_type": "stream",
     "text": [
      "[14483] fires >= 10 acres.\n"
     ]
    }
   ],
   "source": [
    "# Keep fires greater than at least 10 acres\n",
    "nifc = nifc[nifc['GIS_ACRES'] >= 10]\n",
    "print(f\"[{len(nifc)}] fires >= 10 acres.\")"
   ]
  },
  {
   "cell_type": "code",
   "execution_count": 6,
   "id": "eead1d2d-8ff7-43e1-8044-2cc2aca9aeee",
   "metadata": {},
   "outputs": [
    {
     "name": "stdout",
     "output_type": "stream",
     "text": [
      "4590 [31.69%] events have a duplicated IRWINID.\n"
     ]
    }
   ],
   "source": [
    "# Check for duplicates (different mapping methods, most likely)\n",
    "n_duplicates = nifc.duplicated(subset='IRWINID').sum()\n",
    "print(f\"{n_duplicates} [{round(n_duplicates/len(nifc)*100, 2)}%] events have a duplicated IRWINID.\")"
   ]
  },
  {
   "cell_type": "code",
   "execution_count": 7,
   "id": "0b7454a4-196c-4b6b-bb23-0730c065e4ee",
   "metadata": {},
   "outputs": [
    {
     "name": "stdout",
     "output_type": "stream",
     "text": [
      "['Wildfire Final Fire Perimeter' 'Wildfire'\n",
      " 'Wildfire Daily Fire Perimeter' 'Prescribed Fire'\n",
      " 'Wildfire for Resource Benefit' 'RX']\n",
      "\n",
      "\n",
      "['Digitized-Other' 'GPS - Differentially Corrected Data'\n",
      " 'GPS - Uncorrected Data' 'Infrared Interpretation' 'Other' 'Unknown'\n",
      " 'Other Agency Digital' 'Digitized From Hardcopy Orthophoto quad'\n",
      " 'Photogrammetric Compilation' 'Remote Sensing Data - Base Level'\n",
      " 'Digital Base Map' 'Digitized From Hardcopy PBS/SEQ'\n",
      " 'Geographic Coordinate Database (GCDB)'\n",
      " 'Remote Sensing Data - Broad Level' nan\n",
      " 'Remote Sensing Data - National Level' 'GPS Survey Grade and Sub-meter'\n",
      " 'Remote Sensing Data - Mid Level' 'Hand Sketch' 'GPS-Flight' 'GPS-Walked'\n",
      " 'GPS-Driven' 'Infrared Image' 'Digitized-Topo' 'GPS-Unknown'\n",
      " 'GPS-Walked and Driven' 'Mixed Methods' 'Remote Sensing Derived'\n",
      " 'Image Interpretation' 'Mixed Method' 'Phone/Tablet' 'Not Recorded'\n",
      " 'Satellite' 'GPS' 'GPS Flight' 'GPS-Unknown Travel Method'\n",
      " 'Digitized-Image' 'Auto-generated' 'GPS Walked' 'IR Image Interpretation'\n",
      " 'Modeled' 'GPS walked' 'Autonomous GPS' 'Differential GPS'\n",
      " 'Heads-up Digitized' 'Digitized' 'GPS-Walked/Driven' 'Vector'\n",
      " 'GPS / Ground' 'Infrared' 'Drawn / Air' 'GPS / Air' 'Drawn / Ground']\n"
     ]
    }
   ],
   "source": [
    "print(nifc['FEATURE_CA'].unique())\n",
    "print(\"\\n\")\n",
    "print(nifc['MAP_METHOD'].unique())"
   ]
  },
  {
   "cell_type": "code",
   "execution_count": 8,
   "id": "deffeb8b-2fa1-440d-9a77-1e31b9b23a9c",
   "metadata": {},
   "outputs": [
    {
     "name": "stdout",
     "output_type": "stream",
     "text": [
      "Number of unique duplicates: 363/4953\n",
      "Number of remaining fires after removing duplicates: 362\n",
      "\n",
      "There are 9892 unique fire perimeters after resolving duplicates.\n"
     ]
    },
    {
     "data": {
      "text/plain": [
       "0"
      ]
     },
     "execution_count": 8,
     "metadata": {},
     "output_type": "execute_result"
    }
   ],
   "source": [
    "# Resolve duplicate fire perimeters\n",
    "# Attempt to keep only the 'Final Wildfire Perimeter'\n",
    "def handle_duplicate_fires(group):\n",
    "    \"\"\" \n",
    "    If there are duplicate IRWIN IDs, \n",
    "        1) Keep the 'Feature Category' == 'Final Wildfire Perimeter'. \n",
    "        2) If no such record exists, keep one of the records (first occurrence). \n",
    "    \"\"\"\n",
    "    if 'Wildfire Final Fire Perimeter' in group['FEATURE_CA'].values:\n",
    "        return group[group['FEATURE_CA'] == 'Wildfire Final Fire Perimeter'].iloc[0]  # Keep 'Final' perimeter\n",
    "    else:\n",
    "        return group.iloc[0]  # If no 'Final' perimeter, keep the first record\n",
    "\n",
    "# isolate the duplicate records\n",
    "duplicates = nifc[nifc['IRWINID'].duplicated(keep=False)]  # Keep all duplicates\n",
    "# apply our function to the duplicate records\n",
    "resolved = duplicates.groupby('IRWINID').apply(handle_duplicate_fires).reset_index(drop=True)\n",
    "# combine the resolved duplicates with the non-duplicates\n",
    "non_duplicates = nifc[~nifc['IRWINID'].duplicated(keep=False)]  # keep only non-duplicates\n",
    "nifc = pd.concat([non_duplicates, resolved], ignore_index=True) # merge back (clean data)\n",
    "\n",
    "# check on the results\n",
    "print(f\"Number of unique duplicates: {len(duplicates['IRWINID'].unique())}/{len(duplicates)}\")\n",
    "print(f\"Number of remaining fires after removing duplicates: {len(resolved)}\")\n",
    "print(f\"\\nThere are {len(nifc)} unique fire perimeters after resolving duplicates.\")\n",
    "\n",
    "del duplicates, resolved, non_duplicates\n",
    "gc.collect() # clean up"
   ]
  },
  {
   "cell_type": "code",
   "execution_count": 9,
   "id": "1059a21f-5055-4ed7-87dc-89bb7f302f7b",
   "metadata": {},
   "outputs": [
    {
     "name": "stdout",
     "output_type": "stream",
     "text": [
      "\n",
      "There are 6947 fire events across western U.S. ecoregions in CONUS (2017-2023).\n",
      "\n"
     ]
    }
   ],
   "source": [
    "# Join to western U.S. ecoregions by fire centroid\n",
    "# Identify the US EPA Level III ecoregion based on centroid of fire perimeter\n",
    "centroids = nifc.copy() # make a copy of the fire data\n",
    "centroids.geometry = centroids.geometry.centroid # use the centroid for joining to ecoregions\n",
    "if not centroids.crs == ecol3.crs:\n",
    "    print(\"CRS mismatch, fixing it !\")\n",
    "    centroids = centroids.to_crs(proj)\n",
    "    ecol3 = ecol3.to_crs(proj)\n",
    "# Perform the overlay analysis\n",
    "nifc_west = gpd.overlay(centroids, ecol3, how='intersection') # find overlaps\n",
    "print(f\"\\nThere are {len(nifc_west)} fire events across western U.S. ecoregions in CONUS (2017-2023).\\n\")"
   ]
  },
  {
   "cell_type": "code",
   "execution_count": 10,
   "id": "a9a73c1d-c3ca-4136-90d1-6ac01223c6b4",
   "metadata": {},
   "outputs": [
    {
     "name": "stdout",
     "output_type": "stream",
     "text": [
      "Geometry set to fire perimeters: ['Polygon' 'MultiPolygon']\n",
      "Data columns:\n",
      "Index(['NIFC_Fire_ID', 'na_l3name', 'MAP_METHOD', 'DATE_CUR', 'COMMENTS',\n",
      "       'GEO_ID', 'IRWINID', 'UNQE_FIRE_', 'FIRE_YEAR', 'LOCAL_NUM', 'INCIDENT',\n",
      "       'UNIT_ID', 'POO_RESP_I', 'FEATURE_CA', 'GIS_ACRES', 'USER_NAME',\n",
      "       'SOURCE', 'AGENCY', 'FIRE_YEAR_', 'Shape__Are', 'Shape__Len', 'FORID',\n",
      "       'OTHERID', 'geometry'],\n",
      "      dtype='object')\n"
     ]
    }
   ],
   "source": [
    "# Replace the centroid geometry with the fire perimeter\n",
    "# This ensure our fire data are in polygon format\n",
    "nifc_west = gpd.GeoDataFrame(\n",
    "    pd.merge(nifc_west[['OBJECTID','na_l3name']], nifc, left_on='OBJECTID', right_on='OBJECTID', how=\"left\")\n",
    ").rename(columns={'OBJECTID': 'NIFC_Fire_ID'})\n",
    "print(f\"Geometry set to fire perimeters: {nifc_west.geom_type.unique()}\")\n",
    "print(f\"Data columns:\\n{nifc_west.columns}\")"
   ]
  },
  {
   "cell_type": "code",
   "execution_count": 11,
   "id": "38b80c02-5092-46a4-8203-88c71da79b12",
   "metadata": {},
   "outputs": [
    {
     "name": "stdout",
     "output_type": "stream",
     "text": [
      "Saved file to: /Users/max/Library/CloudStorage/OneDrive-Personal/mcook/aspen-fire/Aim2/data/spatial/mod/NIFC/nifc-interagency_2017_to_2023_west.gpkg\n"
     ]
    }
   ],
   "source": [
    "# save this file out.\n",
    "out_fp = os.path.join(projdir,'data/spatial/mod/NIFC/nifc-interagency_2017_to_2023_west.gpkg')\n",
    "nifc_west.to_file(out_fp)\n",
    "print(f\"Saved file to: {out_fp}\")"
   ]
  },
  {
   "cell_type": "code",
   "execution_count": null,
   "id": "5d22e9bb-851d-4d30-be1e-2ecf04900665",
   "metadata": {},
   "outputs": [],
   "source": []
  },
  {
   "cell_type": "code",
   "execution_count": null,
   "id": "1db48d32-71a4-41b7-a45a-1ff0cbb9276c",
   "metadata": {},
   "outputs": [],
   "source": []
  },
  {
   "cell_type": "markdown",
   "id": "612b9e36-6449-4ee7-b938-6dc41b336029",
   "metadata": {},
   "source": [
    "### Fire Events Delineation (FIRED)"
   ]
  },
  {
   "cell_type": "code",
   "execution_count": 12,
   "id": "ad6dcc12-5433-469f-b645-11d18e3b831e",
   "metadata": {},
   "outputs": [
    {
     "name": "stdout",
     "output_type": "stream",
     "text": [
      "There are [102273] FIRED perimeters in CONUS (2017-2023).\n",
      "Index(['id', 'ig_date', 'ig_day', 'ig_month', 'ig_year', 'last_date',\n",
      "       'event_dur', 'tot_pix', 'tot_ar_km2', 'fsr_px_dy', 'fsr_km2_dy',\n",
      "       'mx_grw_px', 'mn_grw_px', 'mu_grw_px', 'mx_grw_km2', 'mn_grw_km2',\n",
      "       'mu_grw_km2', 'mx_grw_dte', 'x', 'y', 'ig_utm_x', 'ig_utm_y', 'lc_code',\n",
      "       'lc_mode', 'lc_name', 'lc_desc', 'lc_type', 'eco_mode', 'eco_name',\n",
      "       'eco_type', 'tot_perim', 'geometry'],\n",
      "      dtype='object')\n",
      "\n"
     ]
    }
   ],
   "source": [
    "fp = os.path.join(maindir,'FIRED/data/spatial/raw/events/conus_ak/fired_conus_ak_2000_to_2024_events.gpkg')\n",
    "fired = gpd.read_file(fp)\n",
    "fired = fired[(fired['ig_year'] >= 2017) & (fired['ig_year'] <= 2023)]\n",
    "print(f\"There are [{len(fired)}] FIRED perimeters in CONUS (2017-2023).\\n{fired.columns}\\n\")"
   ]
  },
  {
   "cell_type": "code",
   "execution_count": 13,
   "id": "32daf8ec-c49a-409a-842c-639cbbdd92c9",
   "metadata": {},
   "outputs": [
    {
     "name": "stdout",
     "output_type": "stream",
     "text": [
      "There are [102273] FIRED perimeters >=100 acres.\n"
     ]
    }
   ],
   "source": [
    "# filter to retain fires >= 100 acres (same as NIFC)\n",
    "fired['tot_ar_acres'] = fired['tot_ar_km2'] * 247.105381\n",
    "fired = fired[fired['tot_ar_acres'] >= 10]\n",
    "print(f\"There are [{len(fired)}] FIRED perimeters >=100 acres.\")"
   ]
  },
  {
   "cell_type": "code",
   "execution_count": 14,
   "id": "a9c8c7bd-c44a-445d-8a27-6d5f270779bc",
   "metadata": {},
   "outputs": [
    {
     "name": "stdout",
     "output_type": "stream",
     "text": [
      "CRS mismatch, fixing it !\n",
      "\n",
      "There are 25193 FIRED events across western U.S. ecoregions in CONUS (2017-2023).\n",
      "\n"
     ]
    }
   ],
   "source": [
    "# Join to western U.S. ecoregions by fire centroid\n",
    "# Identify the US EPA Level III ecoregion based on centroid of fire perimeter\n",
    "centroids = fired.copy() # make a copy of the fire data\n",
    "centroids.geometry = centroids.geometry.centroid # use the centroid for joining to ecoregions\n",
    "if not centroids.crs == ecol3.crs:\n",
    "    print(\"CRS mismatch, fixing it !\")\n",
    "    centroids = centroids.to_crs(proj)\n",
    "    ecol3 = ecol3.to_crs(proj)\n",
    "\n",
    "# Perform the overlay analysis\n",
    "fired_west = gpd.overlay(centroids, ecol3, how='intersection') # find overlaps\n",
    "print(f\"\\nThere are {len(fired_west)} FIRED events across western U.S. ecoregions in CONUS (2017-2023).\\n\")"
   ]
  },
  {
   "cell_type": "code",
   "execution_count": 15,
   "id": "1adb6f47-b77b-46bf-b6f1-743f9393a12b",
   "metadata": {},
   "outputs": [
    {
     "name": "stdout",
     "output_type": "stream",
     "text": [
      "Geometry set to fire perimeters: ['MultiPolygon']\n",
      "Data columns:\n",
      "Index(['FIRED_Fire_ID', 'na_l3name', 'ig_date', 'ig_day', 'ig_month',\n",
      "       'ig_year', 'last_date', 'event_dur', 'tot_pix', 'tot_ar_km2',\n",
      "       'fsr_px_dy', 'fsr_km2_dy', 'mx_grw_px', 'mn_grw_px', 'mu_grw_px',\n",
      "       'mx_grw_km2', 'mn_grw_km2', 'mu_grw_km2', 'mx_grw_dte', 'x', 'y',\n",
      "       'ig_utm_x', 'ig_utm_y', 'lc_code', 'lc_mode', 'lc_name', 'lc_desc',\n",
      "       'lc_type', 'eco_mode', 'eco_name', 'eco_type', 'tot_perim', 'geometry',\n",
      "       'tot_ar_acres'],\n",
      "      dtype='object')\n"
     ]
    },
    {
     "data": {
      "text/plain": [
       "0"
      ]
     },
     "execution_count": 15,
     "metadata": {},
     "output_type": "execute_result"
    }
   ],
   "source": [
    "# Replace the centroid geometry with the fire perimeter\n",
    "# This ensure our fire data are in polygon format\n",
    "fired_west = gpd.GeoDataFrame(\n",
    "    pd.merge(fired_west[['id','na_l3name']], fired, left_on='id', right_on='id', how=\"left\")\n",
    ").rename(columns={'id': 'FIRED_Fire_ID'})\n",
    "print(f\"Geometry set to fire perimeters: {fired_west.geom_type.unique()}\")\n",
    "print(f\"Data columns:\\n{fired_west.columns}\")\n",
    "del fired\n",
    "gc.collect()"
   ]
  },
  {
   "cell_type": "code",
   "execution_count": 16,
   "id": "cb895bd6-f26c-4c67-b0ca-99c87e6330aa",
   "metadata": {},
   "outputs": [
    {
     "name": "stdout",
     "output_type": "stream",
     "text": [
      "Saved file to: /Users/max/Library/CloudStorage/OneDrive-Personal/mcook/aspen-fire/Aim2/data/spatial/mod/FIRED/fired_events_2017_to_2023_west.gpkg\n"
     ]
    }
   ],
   "source": [
    "# save this file out.\n",
    "out_fp = os.path.join(projdir,'data/spatial/mod/FIRED/fired_events_2017_to_2023_west.gpkg')\n",
    "fired_west.to_file(out_fp)\n",
    "print(f\"Saved file to: {out_fp}\")"
   ]
  },
  {
   "cell_type": "code",
   "execution_count": null,
   "id": "8988ab2d-8ad4-44dc-8a89-0f10ab6b8aba",
   "metadata": {},
   "outputs": [],
   "source": []
  },
  {
   "cell_type": "code",
   "execution_count": null,
   "id": "b260e72a-acd6-40da-8491-75c283783106",
   "metadata": {},
   "outputs": [],
   "source": []
  },
  {
   "cell_type": "markdown",
   "id": "a5076f23-c5cc-4e3b-a153-448e6c5915ed",
   "metadata": {},
   "source": [
    "### Monitoring Trends in Burn Severity (MTBS)"
   ]
  },
  {
   "cell_type": "code",
   "execution_count": 17,
   "id": "396d6b01-5109-43c2-8f66-78941a0e7d98",
   "metadata": {},
   "outputs": [
    {
     "data": {
      "text/plain": [
       "Index(['Event_ID', 'irwinID', 'Incid_Name', 'Incid_Type', 'Map_ID', 'Map_Prog',\n",
       "       'Asmnt_Type', 'BurnBndAc', 'BurnBndLat', 'BurnBndLon', 'Ig_Date',\n",
       "       'Pre_ID', 'Post_ID', 'Perim_ID', 'dNBR_offst', 'dNBR_stdDv', 'NoData_T',\n",
       "       'IncGreen_T', 'Low_T', 'Mod_T', 'High_T', 'Comment', 'geometry'],\n",
       "      dtype='object')"
      ]
     },
     "execution_count": 17,
     "metadata": {},
     "output_type": "execute_result"
    }
   ],
   "source": [
    "fp = os.path.join(maindir,'data/mtbs/mtbs_perimeter_data/mtbs_perims_DD.shp')\n",
    "mtbs = gpd.read_file(fp)\n",
    "mtbs.columns"
   ]
  },
  {
   "cell_type": "code",
   "execution_count": 18,
   "id": "0db2ecea-c4a3-4d2c-b070-4b8bcecb6aea",
   "metadata": {},
   "outputs": [
    {
     "name": "stdout",
     "output_type": "stream",
     "text": [
      "There are [6249] MTBS perimeters in CONUS (2017-2023).\n",
      "Index(['Event_ID', 'irwinID', 'Incid_Name', 'Incid_Type', 'Map_ID', 'Map_Prog',\n",
      "       'Asmnt_Type', 'BurnBndAc', 'BurnBndLat', 'BurnBndLon', 'Ig_Date',\n",
      "       'Pre_ID', 'Post_ID', 'Perim_ID', 'dNBR_offst', 'dNBR_stdDv', 'NoData_T',\n",
      "       'IncGreen_T', 'Low_T', 'Mod_T', 'High_T', 'Comment', 'geometry',\n",
      "       'Ig_Year'],\n",
      "      dtype='object')\n",
      "\n"
     ]
    }
   ],
   "source": [
    "# subset to 2017-2023\n",
    "mtbs['Ig_Date'] = pd.to_datetime(mtbs['Ig_Date'], errors='coerce')\n",
    "mtbs['Ig_Year'] = mtbs['Ig_Date'].dt.year\n",
    "mtbs = mtbs[mtbs['Ig_Year'] >= 2017]\n",
    "print(f\"There are [{len(mtbs)}] MTBS perimeters in CONUS (2017-2023).\\n{mtbs.columns}\\n\")"
   ]
  },
  {
   "cell_type": "code",
   "execution_count": 19,
   "id": "d9485dac-89a1-44ff-ba04-2a14bc89065c",
   "metadata": {},
   "outputs": [
    {
     "name": "stdout",
     "output_type": "stream",
     "text": [
      "CRS mismatch, fixing it !\n",
      "\n",
      "There are 2259 MTBS events across western U.S. ecoregions (2017-2023).\n",
      "\n"
     ]
    }
   ],
   "source": [
    "# Join to western U.S. ecoregions by fire centroid\n",
    "# Identify the US EPA Level III ecoregion based on centroid of fire perimeter\n",
    "centroids = mtbs.copy() # make a copy of the fire data\n",
    "centroids.geometry = centroids.geometry.centroid # use the centroid for joining to ecoregions\n",
    "if not centroids.crs == ecol3.crs:\n",
    "    print(\"CRS mismatch, fixing it !\")\n",
    "    centroids = centroids.to_crs(proj)\n",
    "    ecol3 = ecol3.to_crs(proj)\n",
    "\n",
    "# Perform the overlay analysis\n",
    "mtbs_west = gpd.overlay(centroids, ecol3, how='intersection') # find overlaps\n",
    "print(f\"\\nThere are {len(mtbs_west)} MTBS events across western U.S. ecoregions (2017-2023).\\n\")"
   ]
  },
  {
   "cell_type": "code",
   "execution_count": 20,
   "id": "c50a4b44-7658-456a-baf9-d68e1393ec6b",
   "metadata": {},
   "outputs": [
    {
     "name": "stdout",
     "output_type": "stream",
     "text": [
      "Geometry set to fire perimeters: ['Polygon' 'MultiPolygon']\n",
      "Data columns:\n",
      "Index(['MTBS_Fire_ID', 'na_l3name', 'irwinID', 'Incid_Name', 'Incid_Type',\n",
      "       'Map_ID', 'Map_Prog', 'Asmnt_Type', 'BurnBndAc', 'BurnBndLat',\n",
      "       'BurnBndLon', 'Ig_Date', 'Pre_ID', 'Post_ID', 'Perim_ID', 'dNBR_offst',\n",
      "       'dNBR_stdDv', 'NoData_T', 'IncGreen_T', 'Low_T', 'Mod_T', 'High_T',\n",
      "       'Comment', 'geometry', 'Ig_Year'],\n",
      "      dtype='object')\n"
     ]
    },
    {
     "data": {
      "text/plain": [
       "0"
      ]
     },
     "execution_count": 20,
     "metadata": {},
     "output_type": "execute_result"
    }
   ],
   "source": [
    "# Replace the centroid geometry with the fire perimeter\n",
    "# This ensure our fire data are in polygon format\n",
    "mtbs_west = gpd.GeoDataFrame(\n",
    "    pd.merge(mtbs_west[['Event_ID','na_l3name']], mtbs, left_on='Event_ID', right_on='Event_ID', how=\"left\")\n",
    ").rename(columns={'Event_ID': 'MTBS_Fire_ID'})\n",
    "print(f\"Geometry set to fire perimeters: {mtbs_west.geom_type.unique()}\")\n",
    "print(f\"Data columns:\\n{mtbs_west.columns}\")\n",
    "# del mtbs\n",
    "gc.collect()"
   ]
  },
  {
   "cell_type": "code",
   "execution_count": 21,
   "id": "4166fa2b-0299-4148-817a-29ec3dc50cec",
   "metadata": {},
   "outputs": [
    {
     "name": "stdout",
     "output_type": "stream",
     "text": [
      "['Extended' 'Initial' 'Extended (SS)' 'Initial (SS)']\n",
      "['Wildfire' 'Prescribed Fire' 'Unknown']\n"
     ]
    }
   ],
   "source": [
    "print(mtbs_west['Asmnt_Type'].unique())\n",
    "print(mtbs_west['Incid_Type'].unique())"
   ]
  },
  {
   "cell_type": "code",
   "execution_count": 22,
   "id": "c31da51f-02ff-4351-b772-95eb77cbc4a8",
   "metadata": {},
   "outputs": [
    {
     "name": "stdout",
     "output_type": "stream",
     "text": [
      "Saved file to: /Users/max/Library/CloudStorage/OneDrive-Personal/mcook/aspen-fire/Aim2/data/spatial/mod/MTBS/mtbs_perims_2017_to_2023_west.gpkg\n"
     ]
    }
   ],
   "source": [
    "# save this file out.\n",
    "out_fp = os.path.join(projdir,'data/spatial/mod/MTBS/mtbs_perims_2017_to_2023_west.gpkg')\n",
    "mtbs_west.to_file(out_fp)\n",
    "print(f\"Saved file to: {out_fp}\")"
   ]
  },
  {
   "cell_type": "code",
   "execution_count": null,
   "id": "49b73c58-1194-4a75-9ab4-6cba7875417c",
   "metadata": {},
   "outputs": [],
   "source": []
  },
  {
   "cell_type": "code",
   "execution_count": null,
   "id": "cec9b791-3f0f-4c4f-bd69-89740457f1a0",
   "metadata": {},
   "outputs": [],
   "source": []
  },
  {
   "cell_type": "code",
   "execution_count": 23,
   "id": "55ca6948-f8bc-4f09-ab82-cf02ac0e01c5",
   "metadata": {},
   "outputs": [
    {
     "name": "stdout",
     "output_type": "stream",
     "text": [
      "\n",
      "[226] NIFC events.\n",
      "\n",
      "\t55 fires [83%] MTBS agreement\n",
      "\n",
      "\t974/1546 unique FIRED events.\n",
      "\n",
      "\t952 unique FIRED events (not overlapping MTBS).\n"
     ]
    }
   ],
   "source": [
    "# Create a census of fire events for the Southern Rockies\n",
    "# Use the three data sources to find all possible fire events\n",
    "nifc = nifc_west[nifc_west['na_l3name'] == 'Southern Rockies']\n",
    "mtbs = mtbs_west[mtbs_west['na_l3name'] == 'Southern Rockies'].to_crs(nifc.crs)\n",
    "fired = fired_west[fired_west['na_l3name'] == 'Southern Rockies'].to_crs(nifc.crs)\n",
    "\n",
    "# function to calculate spatial overlap\n",
    "def fire_overlap(row, source):\n",
    "    \"\"\"Calculate the maximum overlap percentage with comparison_gdf.\"\"\"\n",
    "    overlap = source[source.intersects(row.geometry)]\n",
    "\n",
    "    if overlap.empty:\n",
    "        return 0\n",
    "    # Calculate intersection areas\n",
    "    overlap_ar = overlap.geometry.intersection(row.geometry).area\n",
    "    overlap_pct = (overlap_ar / row.geometry.area).max()\n",
    "    \n",
    "    return overlap_pct\n",
    "\n",
    "print(f\"\\n[{len(nifc)}] NIFC events.\")\n",
    "# apply the function to the MTBS perimeters\n",
    "mtbs['nifc_overlap'] = mtbs.apply(fire_overlap, axis=1, args=(nifc,))\n",
    "mtbs_ = mtbs[mtbs['nifc_overlap'] < 0.30]\n",
    "print(f\"\\n\\t{len(mtbs)-len(mtbs_)} fires [{round(len(mtbs)-len(mtbs_)/len(mtbs))}%] MTBS agreement\")\n",
    "\n",
    "# apply to FIRED events\n",
    "fired['nifc_overlap'] = fired.apply(fire_overlap, axis=1, args=(nifc,))\n",
    "fired_ = fired[fired['nifc_overlap'] < 0.30]\n",
    "print(f\"\\n\\t{len(fired_)}/{len(fired)} unique FIRED events.\")\n",
    "\n",
    "# FIRED, not overlapping MTBS\n",
    "fired_['mtbs_overlap'] = fired_.apply(fire_overlap, axis=1, args=(mtbs_,))\n",
    "fired_unq = fired_[fired_['mtbs_overlap'] < 0.30]\n",
    "print(f\"\\n\\t{len(fired_unq)} unique FIRED events (not overlapping MTBS).\")"
   ]
  },
  {
   "cell_type": "code",
   "execution_count": 24,
   "id": "d48cc74c-e5a8-41f2-86e9-e505793b6b5c",
   "metadata": {},
   "outputs": [
    {
     "name": "stdout",
     "output_type": "stream",
     "text": [
      "Fire census: 1206 events.\n",
      "\n",
      "Saved file to: /Users/max/Library/CloudStorage/OneDrive-Personal/mcook/aspen-fire/Aim2/data/tabular/mod/srm_fire_census_2017_to_2023_lookup.csv\n"
     ]
    }
   ],
   "source": [
    "# merge to create the fire \"census\"\n",
    "# adopt a standard naming convention for dates and IDs, where possible\n",
    "census = gpd.GeoDataFrame(\n",
    "    pd.concat([nifc, mtbs_, fired_unq], ignore_index=True)\n",
    ")\n",
    "\n",
    "print(f\"Fire census: {len(census)} events.\\n\")\n",
    "census.columns\n",
    "\n",
    "# save this out as a lookup table.\n",
    "out_fp = os.path.join(projdir,'data/tabular/mod/srm_fire_census_2017_to_2023_lookup.csv')\n",
    "census.to_csv(out_fp)\n",
    "print(f\"Saved file to: {out_fp}\")"
   ]
  },
  {
   "cell_type": "code",
   "execution_count": 25,
   "id": "335725f5-fbf9-44bd-ad0a-b1285eb14f98",
   "metadata": {},
   "outputs": [
    {
     "data": {
      "text/html": [
       "<div>\n",
       "<style scoped>\n",
       "    .dataframe tbody tr th:only-of-type {\n",
       "        vertical-align: middle;\n",
       "    }\n",
       "\n",
       "    .dataframe tbody tr th {\n",
       "        vertical-align: top;\n",
       "    }\n",
       "\n",
       "    .dataframe thead th {\n",
       "        text-align: right;\n",
       "    }\n",
       "</style>\n",
       "<table border=\"1\" class=\"dataframe\">\n",
       "  <thead>\n",
       "    <tr style=\"text-align: right;\">\n",
       "      <th></th>\n",
       "      <th>Fire_ID</th>\n",
       "      <th>Source</th>\n",
       "      <th>Fire_Name</th>\n",
       "      <th>Fire_Year</th>\n",
       "      <th>Start_Date</th>\n",
       "      <th>Final_Acres</th>\n",
       "      <th>Fire_Type</th>\n",
       "      <th>na_l3name</th>\n",
       "      <th>geometry</th>\n",
       "    </tr>\n",
       "  </thead>\n",
       "  <tbody>\n",
       "    <tr>\n",
       "      <th>0</th>\n",
       "      <td>0</td>\n",
       "      <td>NIFC</td>\n",
       "      <td>DEVIL CREEK</td>\n",
       "      <td>2018</td>\n",
       "      <td>NaN</td>\n",
       "      <td>20.46</td>\n",
       "      <td>Wildfire Final Fire Perimeter</td>\n",
       "      <td>Southern Rockies</td>\n",
       "      <td>POLYGON ((-981734.624 1646309.303, -981689.924...</td>\n",
       "    </tr>\n",
       "    <tr>\n",
       "      <th>1</th>\n",
       "      <td>1</td>\n",
       "      <td>NIFC</td>\n",
       "      <td>COLT</td>\n",
       "      <td>2021</td>\n",
       "      <td>NaN</td>\n",
       "      <td>30.42</td>\n",
       "      <td>Wildfire Final Fire Perimeter</td>\n",
       "      <td>Southern Rockies</td>\n",
       "      <td>POLYGON ((-1085995.637 1681954.845, -1085994.9...</td>\n",
       "    </tr>\n",
       "    <tr>\n",
       "      <th>2</th>\n",
       "      <td>2</td>\n",
       "      <td>NIFC</td>\n",
       "      <td>577</td>\n",
       "      <td>2019</td>\n",
       "      <td>NaN</td>\n",
       "      <td>89.31</td>\n",
       "      <td>Wildfire Final Fire Perimeter</td>\n",
       "      <td>Southern Rockies</td>\n",
       "      <td>POLYGON ((-1003963.720 1628464.675, -1004004.8...</td>\n",
       "    </tr>\n",
       "    <tr>\n",
       "      <th>3</th>\n",
       "      <td>3</td>\n",
       "      <td>NIFC</td>\n",
       "      <td>SERVICEBERRY</td>\n",
       "      <td>2018</td>\n",
       "      <td>NaN</td>\n",
       "      <td>41.51</td>\n",
       "      <td>Wildfire Final Fire Perimeter</td>\n",
       "      <td>Southern Rockies</td>\n",
       "      <td>MULTIPOLYGON (((-956104.449 1624552.505, -9560...</td>\n",
       "    </tr>\n",
       "    <tr>\n",
       "      <th>4</th>\n",
       "      <td>4</td>\n",
       "      <td>NIFC</td>\n",
       "      <td>416</td>\n",
       "      <td>2018</td>\n",
       "      <td>NaN</td>\n",
       "      <td>54130.98</td>\n",
       "      <td>Wildfire Final Fire Perimeter</td>\n",
       "      <td>Southern Rockies</td>\n",
       "      <td>MULTIPOLYGON (((-1041147.376 1662998.312, -104...</td>\n",
       "    </tr>\n",
       "  </tbody>\n",
       "</table>\n",
       "</div>"
      ],
      "text/plain": [
       "   Fire_ID Source     Fire_Name  Fire_Year Start_Date  Final_Acres  \\\n",
       "0        0   NIFC   DEVIL CREEK       2018        NaN        20.46   \n",
       "1        1   NIFC          COLT       2021        NaN        30.42   \n",
       "2        2   NIFC           577       2019        NaN        89.31   \n",
       "3        3   NIFC  SERVICEBERRY       2018        NaN        41.51   \n",
       "4        4   NIFC           416       2018        NaN     54130.98   \n",
       "\n",
       "                       Fire_Type         na_l3name  \\\n",
       "0  Wildfire Final Fire Perimeter  Southern Rockies   \n",
       "1  Wildfire Final Fire Perimeter  Southern Rockies   \n",
       "2  Wildfire Final Fire Perimeter  Southern Rockies   \n",
       "3  Wildfire Final Fire Perimeter  Southern Rockies   \n",
       "4  Wildfire Final Fire Perimeter  Southern Rockies   \n",
       "\n",
       "                                            geometry  \n",
       "0  POLYGON ((-981734.624 1646309.303, -981689.924...  \n",
       "1  POLYGON ((-1085995.637 1681954.845, -1085994.9...  \n",
       "2  POLYGON ((-1003963.720 1628464.675, -1004004.8...  \n",
       "3  MULTIPOLYGON (((-956104.449 1624552.505, -9560...  \n",
       "4  MULTIPOLYGON (((-1041147.376 1662998.312, -104...  "
      ]
     },
     "execution_count": 25,
     "metadata": {},
     "output_type": "execute_result"
    }
   ],
   "source": [
    "# handle the fire ID and names\n",
    "census.rename(columns={\n",
    "    'Event_ID': 'MTBS_Fire_ID',\n",
    "}, inplace=True)\n",
    "\n",
    "# create a column for the data source\n",
    "census['Source'] = census[['NIFC_Fire_ID', 'MTBS_Fire_ID', 'FIRED_Fire_ID']].apply(\n",
    "    lambda row: 'NIFC' if pd.notnull(row['NIFC_Fire_ID']) else\n",
    "                'MTBS' if pd.notnull(row['MTBS_Fire_ID']) else\n",
    "                'FIRED' if pd.notnull(row['FIRED_Fire_ID']) else None,\n",
    "    axis=1\n",
    ")\n",
    "\n",
    "# create a new Fire ID\n",
    "census['Fire_ID'] = census.index.astype(int)\n",
    "# Combine the Fire_ID columns into a single column\n",
    "census['Final_Acres'] = census[['GIS_ACRES', 'BurnBndAc', 'tot_ar_acres']].bfill(axis=1).iloc[:, 0]\n",
    "census['Start_Date'] = census[['Ig_Date', 'ig_date']].bfill(axis=1).iloc[:, 0]\n",
    "census['Start_Date'] = pd.to_datetime(census['Start_Date'], errors='coerce')\n",
    "census['Start_Date'] = census['Start_Date'].dt.strftime('%Y-%m-%d')\n",
    "census['Fire_Year'] = census[['FIRE_YEAR', 'Ig_Year', 'ig_year']].bfill(axis=1).iloc[:, 0]\n",
    "census['Fire_Year'] = census['Fire_Year'].astype(int)\n",
    "census['Fire_Name'] = census[['INCIDENT', 'Incid_Name']].bfill(axis=1).iloc[:, 0]\n",
    "census['Fire_Type'] = census[['FEATURE_CA', 'Incid_Type']].bfill(axis=1).iloc[:, 0]\n",
    "census['Fire_Type'] = census['Fire_Type'].fillna('Unknown')\n",
    "\n",
    "# standardize the fire names\n",
    "census['Fire_Name'] = census['Fire_Name'].str.upper()\n",
    "# Drop the original Fire_ID columns (optional)\n",
    "census_srm = census[['Fire_ID','Source','Fire_Name','Fire_Year','Start_Date',\n",
    "                     'Final_Acres','Fire_Type','na_l3name','geometry']]\n",
    "census_srm.head()"
   ]
  },
  {
   "cell_type": "code",
   "execution_count": 26,
   "id": "f01e5be6-eef9-428f-bd4b-38562cfda2fc",
   "metadata": {},
   "outputs": [
    {
     "data": {
      "text/plain": [
       "array(['Wildfire Final Fire Perimeter', 'Wildfire',\n",
       "       'Wildfire Daily Fire Perimeter', 'Prescribed Fire', 'Unknown'],\n",
       "      dtype=object)"
      ]
     },
     "execution_count": 26,
     "metadata": {},
     "output_type": "execute_result"
    }
   ],
   "source": [
    "census_srm['Fire_Type'].unique()"
   ]
  },
  {
   "cell_type": "code",
   "execution_count": 27,
   "id": "cd613cd3-4847-4afc-a624-438bfaef98dc",
   "metadata": {},
   "outputs": [
    {
     "data": {
      "text/html": [
       "<div>\n",
       "<style scoped>\n",
       "    .dataframe tbody tr th:only-of-type {\n",
       "        vertical-align: middle;\n",
       "    }\n",
       "\n",
       "    .dataframe tbody tr th {\n",
       "        vertical-align: top;\n",
       "    }\n",
       "\n",
       "    .dataframe thead th {\n",
       "        text-align: right;\n",
       "    }\n",
       "</style>\n",
       "<table border=\"1\" class=\"dataframe\">\n",
       "  <thead>\n",
       "    <tr style=\"text-align: right;\">\n",
       "      <th></th>\n",
       "      <th>Fire_Year</th>\n",
       "      <th>geometry</th>\n",
       "      <th>Fire_ID</th>\n",
       "      <th>Source</th>\n",
       "      <th>Fire_Name</th>\n",
       "      <th>Start_Date</th>\n",
       "      <th>Final_Acres</th>\n",
       "      <th>Fire_Type</th>\n",
       "      <th>na_l3name</th>\n",
       "    </tr>\n",
       "  </thead>\n",
       "  <tbody>\n",
       "    <tr>\n",
       "      <th>0</th>\n",
       "      <td>2022</td>\n",
       "      <td>MULTIPOLYGON (((-855983.921 1432560.909, -8559...</td>\n",
       "      <td>31</td>\n",
       "      <td>NIFC</td>\n",
       "      <td>CALF CANYON-HERMITS PEAK</td>\n",
       "      <td>None</td>\n",
       "      <td>346871.216392</td>\n",
       "      <td>Wildfire Final Fire Perimeter</td>\n",
       "      <td>Southern Rockies</td>\n",
       "    </tr>\n",
       "  </tbody>\n",
       "</table>\n",
       "</div>"
      ],
      "text/plain": [
       "   Fire_Year                                           geometry  Fire_ID  \\\n",
       "0       2022  MULTIPOLYGON (((-855983.921 1432560.909, -8559...       31   \n",
       "\n",
       "  Source                 Fire_Name Start_Date    Final_Acres  \\\n",
       "0   NIFC  CALF CANYON-HERMITS PEAK       None  346871.216392   \n",
       "\n",
       "                       Fire_Type         na_l3name  \n",
       "0  Wildfire Final Fire Perimeter  Southern Rockies  "
      ]
     },
     "execution_count": 27,
     "metadata": {},
     "output_type": "execute_result"
    }
   ],
   "source": [
    "# merge the calf canyon/hermit's peak polygons.\n",
    "calf_hermit = census_srm[census_srm['Fire_Name'].isin(['CALF CANYON', 'HERMITS PEAK'])]\n",
    "calf_hermit.sort_values(by=['Final_Acres'], ascending=False)\n",
    "calf_hermit = calf_hermit.dissolve(by='Fire_Year', as_index=False)  # Use 'Fire_Year' or another common column\n",
    "calf_hermit['Fire_Name'] = 'CALF CANYON-HERMITS PEAK'\n",
    "calf_hermit['Final_Acres'] = calf_hermit.geometry.area * 0.000247105\n",
    "\n",
    "# merge back in\n",
    "census_srm = census_srm[~census_srm['Fire_Name'].isin(['CALF CANYON', 'HERMITS PEAK'])]\n",
    "census_srm = pd.concat([census_srm, calf_hermit], ignore_index=True)\n",
    "\n",
    "calf_hermit"
   ]
  },
  {
   "cell_type": "code",
   "execution_count": 28,
   "id": "201003f3-330b-47f8-8ace-51c4c78506df",
   "metadata": {},
   "outputs": [
    {
     "data": {
      "text/plain": [
       "1205"
      ]
     },
     "execution_count": 28,
     "metadata": {},
     "output_type": "execute_result"
    }
   ],
   "source": [
    "len(census_srm)"
   ]
  },
  {
   "cell_type": "code",
   "execution_count": 29,
   "id": "f7fc47f8-916f-49b0-91d8-93fd8890bac6",
   "metadata": {},
   "outputs": [
    {
     "name": "stdout",
     "output_type": "stream",
     "text": [
      "Saved file to: /Users/max/Library/CloudStorage/OneDrive-Personal/mcook/aspen-fire/Aim2/data/spatial/mod/srm_fire_census_2017_to_2023.gpkg\n"
     ]
    }
   ],
   "source": [
    "# save this file out.\n",
    "out_fp = os.path.join(projdir,'data/spatial/mod/srm_fire_census_2017_to_2023.gpkg')\n",
    "census_srm.to_file(out_fp)\n",
    "print(f\"Saved file to: {out_fp}\")"
   ]
  },
  {
   "cell_type": "code",
   "execution_count": null,
   "id": "90843f7b-de19-4d7c-b996-0a1f414d1ded",
   "metadata": {},
   "outputs": [],
   "source": []
  },
  {
   "cell_type": "code",
   "execution_count": null,
   "id": "5f4e1de4-0db2-421c-a2fb-7f6e4983e8af",
   "metadata": {},
   "outputs": [],
   "source": []
  },
  {
   "cell_type": "code",
   "execution_count": null,
   "id": "99258b36-cddd-4eb7-839b-e58221e97d0c",
   "metadata": {},
   "outputs": [],
   "source": []
  },
  {
   "cell_type": "markdown",
   "id": "b2784214-d25c-44ef-9a69-278426ba049b",
   "metadata": {},
   "source": [
    "### Calculate the percent forested from the USFS TreeMap (ca. 2016)"
   ]
  },
  {
   "cell_type": "code",
   "execution_count": 30,
   "id": "292c6ad1-a899-4d6c-bba7-34e1aa7841a6",
   "metadata": {},
   "outputs": [
    {
     "name": "stdout",
     "output_type": "stream",
     "text": [
      "Shape: (97383, 154221); \n",
      "GeoTransform: -2362845.0 30.0 0.0 3180555.0 0.0 -30.0; \n",
      "WKT: EPSG:5070; \n",
      "NoData Value: nan; \n",
      "Data Type: float32\n"
     ]
    },
    {
     "data": {
      "text/plain": [
       "54"
      ]
     },
     "execution_count": 30,
     "metadata": {},
     "output_type": "execute_result"
    }
   ],
   "source": [
    "# Load the TreeMap (ca. 2016)\n",
    "fp = os.path.join(maindir,'data/landcover/USFS/RDS_TreeMap/TreeMap2016_FORTYPCD/TreeMap2016_FORTYPCD.tif')\n",
    "treemap_da = rxr.open_rasterio(fp, masked=True, cache=False, chunks='auto').squeeze()\n",
    "# Grab some raster metadata\n",
    "shp, gt, wkt, nd = treemap_da.shape, treemap_da.spatial_ref.GeoTransform, treemap_da.rio.crs, treemap_da.rio.nodata\n",
    "print(\n",
    "    f\"Shape: {shp}; \\n\"\n",
    "    f\"GeoTransform: {gt}; \\n\"\n",
    "    f\"WKT: {wkt}; \\n\"\n",
    "    f\"NoData Value: {nd}; \\n\"\n",
    "    f\"Data Type: {treemap_da[0].dtype}\")\n",
    "gc.collect() # clean up"
   ]
  },
  {
   "cell_type": "code",
   "execution_count": 31,
   "id": "34e8c970-0857-4f05-b776-741f7126e2b4",
   "metadata": {},
   "outputs": [
    {
     "data": {
      "text/plain": [
       "47"
      ]
     },
     "execution_count": 31,
     "metadata": {},
     "output_type": "execute_result"
    }
   ],
   "source": [
    "# Crop the raster by the fire bounds (with small buffer)\n",
    "bounds = census_srm.total_bounds\n",
    "treemap_da_crop = treemap_da.rio.clip_box(\n",
    "    minx=bounds[0]+1000, # +1000 meters for a small buffer\n",
    "    miny=bounds[1]+1000, \n",
    "    maxx=bounds[2]+1000, \n",
    "    maxy=bounds[3]+1000\n",
    ")\n",
    "del treemap_da, bounds\n",
    "gc.collect()"
   ]
  },
  {
   "cell_type": "code",
   "execution_count": 32,
   "id": "5ecd87d4-8d37-404f-97ce-34420560171c",
   "metadata": {},
   "outputs": [
    {
     "name": "stdout",
     "output_type": "stream",
     "text": [
      "Buffered fire perimeters by 90 meters.\n"
     ]
    }
   ],
   "source": [
    "# Add a small buffer to wildfire perimeters\n",
    "# Accounting for edge effects\n",
    "buffer = 90  # meters\n",
    "census_srm_ = census_srm.copy() # make a copy of the original data\n",
    "census_srm_['geometry'] = census_srm_['geometry'].buffer(buffer)\n",
    "print(f\"Buffered fire perimeters by {buffer} meters.\")"
   ]
  },
  {
   "cell_type": "code",
   "execution_count": 33,
   "id": "9a6a2666-e014-481e-9f25-341882e70f62",
   "metadata": {},
   "outputs": [
    {
     "data": {
      "text/plain": [
       "Index(['Fire_ID', 'Source', 'Fire_Name', 'Fire_Year', 'Start_Date',\n",
       "       'Final_Acres', 'Fire_Type', 'na_l3name', 'geometry'],\n",
       "      dtype='object')"
      ]
     },
     "execution_count": 33,
     "metadata": {},
     "output_type": "execute_result"
    }
   ],
   "source": [
    "census_srm_.columns"
   ]
  },
  {
   "cell_type": "code",
   "execution_count": 34,
   "id": "24f98d08-b914-4db9-8cdd-1aff41a76cd4",
   "metadata": {},
   "outputs": [
    {
     "name": "stdout",
     "output_type": "stream",
     "text": [
      "Total elapsed time: 0.11 minutes.\n",
      "\n",
      "~~~~~~~~~~\n",
      "\n"
     ]
    }
   ],
   "source": [
    "# Calculate zonal stats for the wildfire perimeters.\n",
    "t0 = time.time()\n",
    "\n",
    "# see __functions.py\n",
    "sampled = compute_band_stats(census_srm_, treemap_da_crop, 'Fire_ID', attr='FORTYPCD')\n",
    "\n",
    "t1 = (time.time() - t0) / 60\n",
    "print(f\"Total elapsed time: {t1:.2f} minutes.\")\n",
    "print(\"\\n~~~~~~~~~~\\n\")"
   ]
  },
  {
   "cell_type": "code",
   "execution_count": 35,
   "id": "a9e6ddb5-5ab0-4766-af9d-2d73f46ff1d3",
   "metadata": {},
   "outputs": [
    {
     "data": {
      "text/html": [
       "<div>\n",
       "<style scoped>\n",
       "    .dataframe tbody tr th:only-of-type {\n",
       "        vertical-align: middle;\n",
       "    }\n",
       "\n",
       "    .dataframe tbody tr th {\n",
       "        vertical-align: top;\n",
       "    }\n",
       "\n",
       "    .dataframe thead th {\n",
       "        text-align: right;\n",
       "    }\n",
       "</style>\n",
       "<table border=\"1\" class=\"dataframe\">\n",
       "  <thead>\n",
       "    <tr style=\"text-align: right;\">\n",
       "      <th></th>\n",
       "      <th>Fire_ID</th>\n",
       "      <th>FORTYPCD</th>\n",
       "      <th>count</th>\n",
       "      <th>total_pixels</th>\n",
       "      <th>pct_cover</th>\n",
       "    </tr>\n",
       "  </thead>\n",
       "  <tbody>\n",
       "    <tr>\n",
       "      <th>0</th>\n",
       "      <td>0</td>\n",
       "      <td>182</td>\n",
       "      <td>6.0</td>\n",
       "      <td>281.0</td>\n",
       "      <td>2.135231</td>\n",
       "    </tr>\n",
       "    <tr>\n",
       "      <th>1</th>\n",
       "      <td>0</td>\n",
       "      <td>185</td>\n",
       "      <td>2.0</td>\n",
       "      <td>281.0</td>\n",
       "      <td>0.711744</td>\n",
       "    </tr>\n",
       "    <tr>\n",
       "      <th>2</th>\n",
       "      <td>0</td>\n",
       "      <td>201</td>\n",
       "      <td>3.0</td>\n",
       "      <td>281.0</td>\n",
       "      <td>1.067616</td>\n",
       "    </tr>\n",
       "  </tbody>\n",
       "</table>\n",
       "</div>"
      ],
      "text/plain": [
       "   Fire_ID  FORTYPCD  count  total_pixels  pct_cover\n",
       "0        0       182    6.0         281.0   2.135231\n",
       "1        0       185    2.0         281.0   0.711744\n",
       "2        0       201    3.0         281.0   1.067616"
      ]
     },
     "execution_count": 35,
     "metadata": {},
     "output_type": "execute_result"
    }
   ],
   "source": [
    "sampled.head(3)"
   ]
  },
  {
   "cell_type": "code",
   "execution_count": 36,
   "id": "1d659cea-cd9d-4487-96a2-2eb9b6b325c9",
   "metadata": {},
   "outputs": [
    {
     "data": {
      "text/plain": [
       "564"
      ]
     },
     "execution_count": 36,
     "metadata": {},
     "output_type": "execute_result"
    }
   ],
   "source": [
    "del treemap_da_crop\n",
    "gc.collect()  # clean up"
   ]
  },
  {
   "cell_type": "code",
   "execution_count": 37,
   "id": "10b8e4a1-76a7-4c1a-83ff-44a1b9fdaf04",
   "metadata": {},
   "outputs": [
    {
     "name": "stdout",
     "output_type": "stream",
     "text": [
      "Index(['FORTYPCD', 'SpeciesName'], dtype='object')\n"
     ]
    },
    {
     "data": {
      "text/html": [
       "<div>\n",
       "<style scoped>\n",
       "    .dataframe tbody tr th:only-of-type {\n",
       "        vertical-align: middle;\n",
       "    }\n",
       "\n",
       "    .dataframe tbody tr th {\n",
       "        vertical-align: top;\n",
       "    }\n",
       "\n",
       "    .dataframe thead th {\n",
       "        text-align: right;\n",
       "    }\n",
       "</style>\n",
       "<table border=\"1\" class=\"dataframe\">\n",
       "  <thead>\n",
       "    <tr style=\"text-align: right;\">\n",
       "      <th></th>\n",
       "      <th>Fire_ID</th>\n",
       "      <th>FORTYPCD</th>\n",
       "      <th>count</th>\n",
       "      <th>total_pixels</th>\n",
       "      <th>pct_cover</th>\n",
       "      <th>SpeciesName</th>\n",
       "      <th>Source</th>\n",
       "      <th>Fire_Name</th>\n",
       "      <th>Fire_Year</th>\n",
       "      <th>Start_Date</th>\n",
       "      <th>Final_Acres</th>\n",
       "      <th>Fire_Type</th>\n",
       "      <th>na_l3name</th>\n",
       "      <th>geometry</th>\n",
       "    </tr>\n",
       "  </thead>\n",
       "  <tbody>\n",
       "    <tr>\n",
       "      <th>0</th>\n",
       "      <td>0</td>\n",
       "      <td>182</td>\n",
       "      <td>6.0</td>\n",
       "      <td>281.0</td>\n",
       "      <td>2.135231</td>\n",
       "      <td>Rocky Mountain juniper</td>\n",
       "      <td>NIFC</td>\n",
       "      <td>DEVIL CREEK</td>\n",
       "      <td>2018</td>\n",
       "      <td>NaN</td>\n",
       "      <td>20.46</td>\n",
       "      <td>Wildfire Final Fire Perimeter</td>\n",
       "      <td>Southern Rockies</td>\n",
       "      <td>POLYGON ((-981843.637 1646044.004, -981847.953...</td>\n",
       "    </tr>\n",
       "    <tr>\n",
       "      <th>1</th>\n",
       "      <td>0</td>\n",
       "      <td>185</td>\n",
       "      <td>2.0</td>\n",
       "      <td>281.0</td>\n",
       "      <td>0.711744</td>\n",
       "      <td>Pinyon / juniper woodland</td>\n",
       "      <td>NIFC</td>\n",
       "      <td>DEVIL CREEK</td>\n",
       "      <td>2018</td>\n",
       "      <td>NaN</td>\n",
       "      <td>20.46</td>\n",
       "      <td>Wildfire Final Fire Perimeter</td>\n",
       "      <td>Southern Rockies</td>\n",
       "      <td>POLYGON ((-981843.637 1646044.004, -981847.953...</td>\n",
       "    </tr>\n",
       "    <tr>\n",
       "      <th>2</th>\n",
       "      <td>0</td>\n",
       "      <td>201</td>\n",
       "      <td>3.0</td>\n",
       "      <td>281.0</td>\n",
       "      <td>1.067616</td>\n",
       "      <td>Douglas-fir</td>\n",
       "      <td>NIFC</td>\n",
       "      <td>DEVIL CREEK</td>\n",
       "      <td>2018</td>\n",
       "      <td>NaN</td>\n",
       "      <td>20.46</td>\n",
       "      <td>Wildfire Final Fire Perimeter</td>\n",
       "      <td>Southern Rockies</td>\n",
       "      <td>POLYGON ((-981843.637 1646044.004, -981847.953...</td>\n",
       "    </tr>\n",
       "    <tr>\n",
       "      <th>3</th>\n",
       "      <td>0</td>\n",
       "      <td>221</td>\n",
       "      <td>150.0</td>\n",
       "      <td>281.0</td>\n",
       "      <td>53.380783</td>\n",
       "      <td>Ponderosa pine</td>\n",
       "      <td>NIFC</td>\n",
       "      <td>DEVIL CREEK</td>\n",
       "      <td>2018</td>\n",
       "      <td>NaN</td>\n",
       "      <td>20.46</td>\n",
       "      <td>Wildfire Final Fire Perimeter</td>\n",
       "      <td>Southern Rockies</td>\n",
       "      <td>POLYGON ((-981843.637 1646044.004, -981847.953...</td>\n",
       "    </tr>\n",
       "    <tr>\n",
       "      <th>4</th>\n",
       "      <td>0</td>\n",
       "      <td>225</td>\n",
       "      <td>1.0</td>\n",
       "      <td>281.0</td>\n",
       "      <td>0.355872</td>\n",
       "      <td>Jeffrey pine</td>\n",
       "      <td>NIFC</td>\n",
       "      <td>DEVIL CREEK</td>\n",
       "      <td>2018</td>\n",
       "      <td>NaN</td>\n",
       "      <td>20.46</td>\n",
       "      <td>Wildfire Final Fire Perimeter</td>\n",
       "      <td>Southern Rockies</td>\n",
       "      <td>POLYGON ((-981843.637 1646044.004, -981847.953...</td>\n",
       "    </tr>\n",
       "  </tbody>\n",
       "</table>\n",
       "</div>"
      ],
      "text/plain": [
       "   Fire_ID  FORTYPCD  count  total_pixels  pct_cover  \\\n",
       "0        0       182    6.0         281.0   2.135231   \n",
       "1        0       185    2.0         281.0   0.711744   \n",
       "2        0       201    3.0         281.0   1.067616   \n",
       "3        0       221  150.0         281.0  53.380783   \n",
       "4        0       225    1.0         281.0   0.355872   \n",
       "\n",
       "                 SpeciesName Source    Fire_Name  Fire_Year Start_Date  \\\n",
       "0     Rocky Mountain juniper   NIFC  DEVIL CREEK       2018        NaN   \n",
       "1  Pinyon / juniper woodland   NIFC  DEVIL CREEK       2018        NaN   \n",
       "2                Douglas-fir   NIFC  DEVIL CREEK       2018        NaN   \n",
       "3             Ponderosa pine   NIFC  DEVIL CREEK       2018        NaN   \n",
       "4               Jeffrey pine   NIFC  DEVIL CREEK       2018        NaN   \n",
       "\n",
       "   Final_Acres                      Fire_Type         na_l3name  \\\n",
       "0        20.46  Wildfire Final Fire Perimeter  Southern Rockies   \n",
       "1        20.46  Wildfire Final Fire Perimeter  Southern Rockies   \n",
       "2        20.46  Wildfire Final Fire Perimeter  Southern Rockies   \n",
       "3        20.46  Wildfire Final Fire Perimeter  Southern Rockies   \n",
       "4        20.46  Wildfire Final Fire Perimeter  Southern Rockies   \n",
       "\n",
       "                                            geometry  \n",
       "0  POLYGON ((-981843.637 1646044.004, -981847.953...  \n",
       "1  POLYGON ((-981843.637 1646044.004, -981847.953...  \n",
       "2  POLYGON ((-981843.637 1646044.004, -981847.953...  \n",
       "3  POLYGON ((-981843.637 1646044.004, -981847.953...  \n",
       "4  POLYGON ((-981843.637 1646044.004, -981847.953...  "
      ]
     },
     "execution_count": 37,
     "metadata": {},
     "output_type": "execute_result"
    }
   ],
   "source": [
    "# Load the lookup table and gather LC info\n",
    "# load the species lookup table\n",
    "fp = os.path.join(projdir,'data/tabular/mod/treemap_fortypcd_species_mapping.csv')\n",
    "species_df = pd.read_csv(fp)[['FORTYPCD','SpeciesName']]\n",
    "species_df = species_df[species_df['FORTYPCD'].isin(sampled['FORTYPCD'].unique())]\n",
    "print(species_df.columns)\n",
    "\n",
    "# merge with fire summary to get forest species name\n",
    "fortypcd = sampled.merge(species_df, on='FORTYPCD', how='left')\n",
    "\n",
    "# merge with the spatial data\n",
    "fortypcd = pd.merge(fortypcd, census_srm_, on='Fire_ID', how='left')\n",
    "fortypcd = gpd.GeoDataFrame(fortypcd)\n",
    "fortypcd.head()"
   ]
  },
  {
   "cell_type": "code",
   "execution_count": 40,
   "id": "54b7fbb3-7460-4915-af23-0565fb2b483a",
   "metadata": {},
   "outputs": [
    {
     "name": "stdout",
     "output_type": "stream",
     "text": [
      "There are 952 fires with some aspen component.\n"
     ]
    }
   ],
   "source": [
    "# Identify fires with >= 1% aspen forest cover\n",
    "aspen_fires = fortypcd[fortypcd['SpeciesName'] == 'Aspen']\n",
    "aspen_fires = aspen_fires[['Fire_ID','pct_cover','total_pixels']].rename(\n",
    "    columns={'pct_cover': 'pct_aspen'}\n",
    ")\n",
    "print(f\"There are {len(aspen_fires)} fires with some aspen component.\")"
   ]
  },
  {
   "cell_type": "code",
   "execution_count": 41,
   "id": "d0db2741-7268-4520-a4a9-04cfa139fabe",
   "metadata": {},
   "outputs": [
    {
     "data": {
      "text/plain": [
       "Index(['Fire_ID', 'pct_aspen', 'total_pixels'], dtype='object')"
      ]
     },
     "execution_count": 41,
     "metadata": {},
     "output_type": "execute_result"
    }
   ],
   "source": [
    "aspen_fires.columns"
   ]
  },
  {
   "cell_type": "code",
   "execution_count": 132,
   "id": "d09c7e79-663d-479a-89e4-adab2b442da3",
   "metadata": {},
   "outputs": [
    {
     "data": {
      "text/plain": [
       "Index(['Fire_ID', 'Source', 'Fire_Name', 'Fire_Year', 'Start_Date',\n",
       "       'Final_Acres', 'Fire_Type', 'na_l3name', 'geometry', 'pct_aspen'],\n",
       "      dtype='object')"
      ]
     },
     "execution_count": 132,
     "metadata": {},
     "output_type": "execute_result"
    }
   ],
   "source": [
    "# Join aspen percent to the spatial data.\n",
    "census_srm_p = pd.merge(census_srm_, aspen_fires, on='Fire_ID', how='left')\n",
    "census_srm_p['pct_aspen'] = census_srm_p['pct_aspen'].fillna(0)\n",
    "census_srm_p = census_srm_p.to_crs(proj)  # ensure the correct projection before exporting\n",
    "census_srm_p.columns"
   ]
  },
  {
   "cell_type": "code",
   "execution_count": 133,
   "id": "68b4f2e0-ba35-4d1d-8be4-55657cc0a6a1",
   "metadata": {},
   "outputs": [
    {
     "data": {
      "text/plain": [
       "621"
      ]
     },
     "execution_count": 133,
     "metadata": {},
     "output_type": "execute_result"
    }
   ],
   "source": [
    "len(census_srm_p)"
   ]
  },
  {
   "cell_type": "code",
   "execution_count": 134,
   "id": "db695c60-cc31-439d-8fe1-2f1e4e843b21",
   "metadata": {},
   "outputs": [
    {
     "name": "stdout",
     "output_type": "stream",
     "text": [
      "Saved file to: /Users/max/Library/CloudStorage/OneDrive-Personal/mcook/aspen-fire/Aim2/data/spatial/mod/srm_fire_census_2017_to_2023.gpkg\n"
     ]
    }
   ],
   "source": [
    "# save this file out.\n",
    "out_fp = os.path.join(projdir,'data/spatial/mod/srm_fire_census_2017_to_2023.gpkg')\n",
    "census_srm_p.to_file(out_fp)\n",
    "print(f\"Saved file to: {out_fp}\")"
   ]
  },
  {
   "cell_type": "code",
   "execution_count": null,
   "id": "d277eee6-0e51-4ef5-aeea-296955ce8985",
   "metadata": {},
   "outputs": [],
   "source": []
  },
  {
   "cell_type": "code",
   "execution_count": null,
   "id": "f08c481d-c225-4577-b024-2167fd5ffb26",
   "metadata": {},
   "outputs": [],
   "source": []
  },
  {
   "cell_type": "code",
   "execution_count": null,
   "id": "de2fdb08-d9b0-42f4-b373-0af663563999",
   "metadata": {},
   "outputs": [],
   "source": []
  },
  {
   "cell_type": "code",
   "execution_count": null,
   "id": "bc3fa43b-e5ec-4646-8845-181bca269a2e",
   "metadata": {},
   "outputs": [],
   "source": [
    "# Map of aspen fires"
   ]
  },
  {
   "cell_type": "code",
   "execution_count": 135,
   "id": "9ede37ab-80e3-4e1a-b712-23d12b5624b4",
   "metadata": {},
   "outputs": [
    {
     "data": {
      "image/png": "[encoded data removed]",
      "text/plain": [
       "<Figure size 600x600 with 2 Axes>"
      ]
     },
     "metadata": {},
     "output_type": "display_data"
    }
   ],
   "source": [
    "### Load the state boundaries\n",
    "states = gpd.read_file(os.path.join(maindir,'data/boundaries/political/TIGER/tl19_us_states_west_nad83.gpkg'))\n",
    "states = states.to_crs(4326)\n",
    "\n",
    "ecol3 = ecol3.to_crs(4326)\n",
    "srm = ecol3[ecol3['na_l3name'] == 'Southern Rockies']\n",
    "\n",
    "# Generate centroids\n",
    "centroid = census_srm_p.copy()\n",
    "centroid = centroid.to_crs(4326)\n",
    "centroid['geometry'] = centroid.geometry.centroid\n",
    "centroid['size'] = centroid['pct_aspen'] * 10  # Adjust the scaling factor as necessary\n",
    "\n",
    "# Make a spatial map of the centroids now\n",
    "fig, ax = plt.subplots(figsize=(6, 6))\n",
    "\n",
    "srm.plot(ax=ax, edgecolor='black', linewidth=0.4, color='none')\n",
    "centroid.plot(\n",
    "    ax=ax, markersize=centroid['pct_aspen'], \n",
    "    column='pct_aspen', cmap='viridis', \n",
    "    legend=False, alpha=0.6)\n",
    "\n",
    "# Manually add colorbar\n",
    "norm = matplotlib.colors.Normalize(vmin=centroid['pct_aspen'].min(), vmax=centroid['pct_aspen'].max())\n",
    "sm = plt.cm.ScalarMappable(cmap='viridis', norm=norm)\n",
    "sm.set_array([])  # Only needed for ScalarMappable\n",
    "\n",
    "# Adjust the size of the colorbar using the `shrink` parameter\n",
    "cbar = fig.colorbar(sm, ax=ax, shrink=0.7)\n",
    "cbar.set_label('Aspen Percent')\n",
    "\n",
    "plt.xlabel('Longitude')\n",
    "plt.ylabel('Latitude')\n",
    "plt.tight_layout()\n",
    "\n",
    "# Save the map as a PNG\n",
    "plt.savefig(os.path.join(projdir, 'figures/Figure1_Aspen-Fires_NIFC_2012to2023.png'), dpi=300, bbox_inches='tight')\n",
    "\n",
    "plt.show()"
   ]
  },
  {
   "cell_type": "code",
   "execution_count": 136,
   "id": "0911677e-ded2-46fb-a062-29d19cd84d29",
   "metadata": {},
   "outputs": [
    {
     "data": {
      "text/html": [
       "<div>\n",
       "<style scoped>\n",
       "    .dataframe tbody tr th:only-of-type {\n",
       "        vertical-align: middle;\n",
       "    }\n",
       "\n",
       "    .dataframe tbody tr th {\n",
       "        vertical-align: top;\n",
       "    }\n",
       "\n",
       "    .dataframe thead th {\n",
       "        text-align: right;\n",
       "    }\n",
       "</style>\n",
       "<table border=\"1\" class=\"dataframe\">\n",
       "  <thead>\n",
       "    <tr style=\"text-align: right;\">\n",
       "      <th></th>\n",
       "      <th>na_l3name</th>\n",
       "      <th>pct_cover_mean</th>\n",
       "      <th>fire_count</th>\n",
       "    </tr>\n",
       "  </thead>\n",
       "  <tbody>\n",
       "    <tr>\n",
       "      <th>0</th>\n",
       "      <td>Southern Rockies</td>\n",
       "      <td>8.466694</td>\n",
       "      <td>7311</td>\n",
       "    </tr>\n",
       "  </tbody>\n",
       "</table>\n",
       "</div>"
      ],
      "text/plain": [
       "          na_l3name  pct_cover_mean  fire_count\n",
       "0  Southern Rockies        8.466694        7311"
      ]
     },
     "execution_count": 136,
     "metadata": {},
     "output_type": "execute_result"
    }
   ],
   "source": [
    "# Plot the count of fires across US EPA Level III ecoregions\n",
    "df = fortypcd.groupby('na_l3name').agg(\n",
    "    pct_cover_mean=('pct_cover', 'mean'),  # Mean percent cover\n",
    "    fire_count=('pct_cover', 'count')      # Count of fires\n",
    ").reset_index()\n",
    "df"
   ]
  },
  {
   "cell_type": "code",
   "execution_count": null,
   "id": "c2a8cce4-e9dc-4e8d-9535-808d2cba5bbb",
   "metadata": {},
   "outputs": [],
   "source": [
    "import matplotlib.pyplot as plt\n",
    "import matplotlib.cm as cm\n",
    "\n",
    "df = df.sort_values('fire_count', ascending=False)\n",
    "\n",
    "norm = plt.Normalize(df['pct_cover_mean'].min(), df['pct_cover_mean'].max())\n",
    "cmap = cm.viridis  # Choose a colormap\n",
    "\n",
    "# Create the bar chart\n",
    "fig, ax = plt.subplots(figsize=(10, 5))\n",
    "bars = ax.bar(\n",
    "    df['na_l3name'], \n",
    "    df['fire_count'], \n",
    "    color=cmap(norm(df['pct_cover_mean']))\n",
    ")\n",
    "\n",
    "# Add colorbar for mean percent cover\n",
    "sm = plt.cm.ScalarMappable(cmap=cmap, norm=norm)\n",
    "sm.set_array([])\n",
    "cbar = plt.colorbar(sm, ax=ax)\n",
    "cbar.set_label('Mean Percent Cover (%)', rotation=270, labelpad=15)\n",
    "\n",
    "# Add labels and title\n",
    "ax.set_xlabel('Ecoregion')\n",
    "ax.set_ylabel('Fire Count')\n",
    "ax.set_title('Fire Count and Mean Percent Cover by Ecoregion')\n",
    "ax.set_xticks(range(len(df['na_l3name'])))\n",
    "ax.set_xticklabels(df['na_l3name'], rotation=45, ha='right')\n",
    "\n",
    "# Show the plot\n",
    "plt.tight_layout()\n",
    "plt.show()"
   ]
  },
  {
   "cell_type": "code",
   "execution_count": null,
   "id": "ba264322-b7a2-43f0-81d9-c9e70c5e4dbe",
   "metadata": {},
   "outputs": [],
   "source": []
  },
  {
   "cell_type": "code",
   "execution_count": null,
   "id": "9e50e7f4-a8c3-4651-8a07-0fcdb86e9cb5",
   "metadata": {},
   "outputs": [],
   "source": [
    "ecol3.columns"
   ]
  },
  {
   "cell_type": "code",
   "execution_count": null,
   "id": "ecb5992c-8ef7-4a8d-ba2b-0d3ddb516c99",
   "metadata": {},
   "outputs": [],
   "source": [
    "# Southern Rockies\n",
    "\n",
    "centroid_srm = centroid[centroid['na_l3name'] == 'Southern Rockies']\n",
    "ecol3_srm = ecol3[ecol3['na_l3name'] == 'Southern Rockies']\n",
    "\n",
    "# plot it\n",
    "fig, ax = plt.subplots(figsize=(6, 6))\n",
    "\n",
    "ecol3_srm.plot(ax=ax, edgecolor='black', linewidth=0.8, color='none')\n",
    "centroid_srm.plot(\n",
    "    ax=ax, markersize=centroid_srm['pct_cover'], \n",
    "    column='pct_cover', cmap='viridis', \n",
    "    legend=False, alpha=0.6)\n",
    "\n",
    "# Manually add colorbar\n",
    "norm = matplotlib.colors.Normalize(vmin=centroid_srm['pct_cover'].min(), vmax=centroid_srm['pct_cover'].max())\n",
    "sm = plt.cm.ScalarMappable(cmap='viridis', norm=norm)\n",
    "sm.set_array([])  # Only needed for ScalarMappable\n",
    "\n",
    "# Adjust the size of the colorbar using the `shrink` parameter\n",
    "cbar = fig.colorbar(sm, ax=ax, shrink=0.7)\n",
    "cbar.set_label('Aspen Percent')\n",
    "\n",
    "plt.xlabel('Longitude')\n",
    "plt.ylabel('Latitude')\n",
    "\n",
    "\n",
    "# Save the map as a PNG\n",
    "plt.savefig(os.path.join(projdir, 'figures/Figure1_Aspen-Fires_NIFC-SRM.png'), dpi=300, bbox_inches='tight')\n",
    "\n",
    "plt.show()"
   ]
  },
  {
   "cell_type": "code",
   "execution_count": null,
   "id": "970776c4-e85d-4e79-bac4-20ad99d5b57a",
   "metadata": {},
   "outputs": [],
   "source": []
  },
  {
   "cell_type": "code",
   "execution_count": null,
   "id": "72a473e8-a06a-4bb1-b560-d45a1914a126",
   "metadata": {},
   "outputs": [],
   "source": [
    "gc.collect()"
   ]
  },
  {
   "cell_type": "code",
   "execution_count": null,
   "id": "e2b5e0ec-93a0-4fec-b601-d8072e85db8d",
   "metadata": {},
   "outputs": [],
   "source": []
  }
 ],
 "metadata": {
  "kernelspec": {
   "display_name": "aspen-fire",
   "language": "python",
   "name": "aspen-fire"
  },
  "language_info": {
   "codemirror_mode": {
    "name": "ipython",
    "version": 3
   },
   "file_extension": ".py",
   "mimetype": "text/x-python",
   "name": "python",
   "nbconvert_exporter": "python",
   "pygments_lexer": "ipython3",
   "version": "3.10.12"
  }
 },
 "nbformat": 4,
 "nbformat_minor": 5
}
