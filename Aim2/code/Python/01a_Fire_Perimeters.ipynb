{
 "cells": [
  {
   "cell_type": "code",
   "id": "b0687419-4278-4604-8efa-b9c34a68d9fe",
   "metadata": {},
   "source": [
    "\"\"\"\n",
    "Data preparation for wildfire events (2016-2024)\n",
    "Author: maxwell.cook@colorado.edu\n",
    "\"\"\"\n",
    "\n",
    "import os, sys\n",
    "\n",
    "# Custom functions\n",
    "sys.path.append(os.path.join(os.getcwd(),'code/'))\n",
    "from __functions import *\n",
    "\n",
    "proj = 'EPSG:5070'\n",
    "\n",
    "maindir = '/Users/max/Library/CloudStorage/OneDrive-Personal/mcook/'\n",
    "projdir = os.path.join(maindir, 'aspen-fire/Aim2/')\n",
    "\n",
    "print(\"Ready to go !\")"
   ],
   "outputs": [],
   "execution_count": null
  },
  {
   "cell_type": "code",
   "id": "adea286a-fddb-437b-b8b0-9486464e8ac9",
   "metadata": {},
   "source": [
    "# Load western US ecoregions\n",
    "fp = os.path.join(projdir,'data/spatial/raw/boundaries/na_cec_eco_l3_west.gpkg')\n",
    "ecol3 = gpd.read_file(fp)\n",
    "ecol3 = ecol3[['NA_L3NAME','NA_L3CODE','geometry']].rename(\n",
    "    columns={'NA_L3NAME': 'na_l3name', 'NA_L3CODE': 'na_l3code'}\n",
    ")\n",
    "# filter to the Southern Rocky Mountains\n",
    "srm = ecol3[ecol3['na_l3name'] == 'Southern Rockies']\n",
    "del ecol3\n",
    "srm"
   ],
   "outputs": [],
   "execution_count": null
  },
  {
   "cell_type": "markdown",
   "id": "6ad66fb9-4027-4dd1-ba58-c893b9c3eab7",
   "metadata": {},
   "source": [
    "### National Interagency Fire Center (NIFC) Interagency Fire Perimeters\n",
    "\n",
    "Initially, we will use the NIFC fire perimeters to gather events in the Southern Rockies from 2016-2024."
   ]
  },
  {
   "cell_type": "code",
   "id": "25843395-76d2-471d-83d9-dbd3b0f86867",
   "metadata": {},
   "source": [
    "# Load the NIFC perimeters, subset to SRM\n",
    "fp = os.path.join(maindir,'data/nifc/mod/NIFC_AllPerimeters_to2023.gpkg')\n",
    "nifc = gpd.read_file(fp)\n",
    "nifc = gpd.overlay(nifc, srm, how='intersection')\n",
    "\n",
    "# Filter for fires since 2016\n",
    "nifc['FIRE_YEAR'] = nifc['FIRE_YEAR'].astype(int) # force to integer\n",
    "nifc = nifc[(nifc['FIRE_YEAR'] >= 2017) & (nifc['FIRE_YEAR'] != 9999)]\n",
    "print(f\"There are [{len(nifc)}] NIFC perimeters in the SRM.\\n{nifc.columns}\\n\")\n",
    "print(f\"\\tFire years: {nifc['FIRE_YEAR'].min()}-{nifc['FIRE_YEAR'].max()}\")\n",
    "\n",
    "# fix the geometries if needed\n",
    "if (~nifc.geometry.is_valid).sum() > 0:\n",
    "    nifc['geometry'] = nifc.geometry.buffer(0)\n",
    "    print(f\"\\n\\tFixed [{(~nifc.geometry.is_valid).sum()}] geometries.\")"
   ],
   "outputs": [],
   "execution_count": null
  },
  {
   "cell_type": "code",
   "id": "3dcab74c-d7b8-40ba-ab72-7c04672ddefe",
   "metadata": {},
   "source": [
    "# Keep fires greater than at least 10 acres\n",
    "nifc = nifc[nifc['GIS_ACRES'] >= 10]\n",
    "print(f\"[{len(nifc)}] fires >= 10 acres.\")"
   ],
   "outputs": [],
   "execution_count": null
  },
  {
   "cell_type": "code",
   "id": "eead1d2d-8ff7-43e1-8044-2cc2aca9aeee",
   "metadata": {},
   "source": [
    "# Check for duplicates (different mapping methods, most likely)\n",
    "n_duplicates = nifc.duplicated(subset='IRWINID').sum()\n",
    "print(f\"{n_duplicates} [{round(n_duplicates/len(nifc)*100, 2)}%] events have a duplicated IRWINID.\")"
   ],
   "outputs": [],
   "execution_count": null
  },
  {
   "cell_type": "code",
   "id": "0b7454a4-196c-4b6b-bb23-0730c065e4ee",
   "metadata": {},
   "source": [
    "print(nifc['FEATURE_CA'].unique())\n",
    "print(\"\\n\")\n",
    "print(nifc['MAP_METHOD'].unique())"
   ],
   "outputs": [],
   "execution_count": null
  },
  {
   "cell_type": "code",
   "id": "deffeb8b-2fa1-440d-9a77-1e31b9b23a9c",
   "metadata": {},
   "source": [
    "# Resolve duplicate fire perimeters\n",
    "# Attempt to keep only the 'Final Wildfire Perimeter'\n",
    "def handle_duplicate_fires(group):\n",
    "    \"\"\" \n",
    "    If there are duplicate IRWIN IDs, \n",
    "        1) Keep the 'Feature Category' == 'Final Wildfire Perimeter'. \n",
    "        2) If no such record exists, keep one of the records (first occurrence). \n",
    "    \"\"\"\n",
    "    if 'Wildfire Final Fire Perimeter' in group['FEATURE_CA'].values:\n",
    "        return group[group['FEATURE_CA'] == 'Wildfire Final Fire Perimeter'].iloc[0]  # Keep 'Final' perimeter\n",
    "    else:\n",
    "        return group.iloc[0]  # If no 'Final' perimeter, keep the first record\n",
    "\n",
    "# isolate the duplicate records\n",
    "duplicates = nifc[nifc['IRWINID'].duplicated(keep=False)]  # Keep all duplicates\n",
    "# apply our function to the duplicate records\n",
    "resolved = duplicates.groupby('IRWINID').apply(handle_duplicate_fires).reset_index(drop=True)\n",
    "# combine the resolved duplicates with the non-duplicates\n",
    "non_duplicates = nifc[~nifc['IRWINID'].duplicated(keep=False)]  # keep only non-duplicates\n",
    "nifc = pd.concat([non_duplicates, resolved], ignore_index=True) # merge back (clean data)\n",
    "\n",
    "# check on the results\n",
    "print(f\"Number of unique duplicates: {len(duplicates['IRWINID'].unique())}/{len(duplicates)}\")\n",
    "print(f\"Number of remaining fires after removing duplicates: {len(resolved)}\")\n",
    "print(f\"\\nThere are {len(nifc)} unique fire perimeters after resolving duplicates.\")\n",
    "\n",
    "del duplicates, resolved, non_duplicates\n",
    "gc.collect() # clean up"
   ],
   "outputs": [],
   "execution_count": null
  },
  {
   "cell_type": "code",
   "id": "1059a21f-5055-4ed7-87dc-89bb7f302f7b",
   "metadata": {},
   "source": [
    "# Join to western U.S. ecoregions by fire centroid\n",
    "# Identify the US EPA Level III ecoregion based on centroid of fire perimeter\n",
    "centroids = nifc.copy() # make a copy of the fire data\n",
    "centroids.geometry = centroids.geometry.centroid # use the centroid for joining to ecoregions\n",
    "if not centroids.crs == ecol3.crs:\n",
    "    print(\"CRS mismatch, fixing it !\")\n",
    "    centroids = centroids.to_crs(proj)\n",
    "    ecol3 = ecol3.to_crs(proj)\n",
    "# Perform the overlay analysis\n",
    "nifc_west = gpd.overlay(centroids, ecol3, how='intersection') # find overlaps\n",
    "print(f\"\\nThere are {len(nifc_west)} fire events across western U.S. ecoregions in CONUS (2017-2023).\\n\")"
   ],
   "outputs": [],
   "execution_count": null
  },
  {
   "cell_type": "code",
   "id": "a9a73c1d-c3ca-4136-90d1-6ac01223c6b4",
   "metadata": {},
   "source": [
    "# Replace the centroid geometry with the fire perimeter\n",
    "# This ensure our fire data are in polygon format\n",
    "nifc_west = gpd.GeoDataFrame(\n",
    "    pd.merge(nifc_west[['OBJECTID','na_l3name']], nifc, left_on='OBJECTID', right_on='OBJECTID', how=\"left\")\n",
    ").rename(columns={'OBJECTID': 'NIFC_Fire_ID'})\n",
    "print(f\"Geometry set to fire perimeters: {nifc_west.geom_type.unique()}\")\n",
    "print(f\"Data columns:\\n{nifc_west.columns}\")"
   ],
   "outputs": [],
   "execution_count": null
  },
  {
   "cell_type": "code",
   "id": "38b80c02-5092-46a4-8203-88c71da79b12",
   "metadata": {},
   "source": [
    "# save this file out.\n",
    "out_fp = os.path.join(projdir,'data/spatial/mod/NIFC/nifc-interagency_2017_to_2023_west.gpkg')\n",
    "nifc_west.to_file(out_fp)\n",
    "print(f\"Saved file to: {out_fp}\")"
   ],
   "outputs": [],
   "execution_count": null
  },
  {
   "cell_type": "code",
   "id": "5d22e9bb-851d-4d30-be1e-2ecf04900665",
   "metadata": {},
   "source": [],
   "outputs": [],
   "execution_count": null
  },
  {
   "cell_type": "code",
   "id": "1db48d32-71a4-41b7-a45a-1ff0cbb9276c",
   "metadata": {},
   "source": [],
   "outputs": [],
   "execution_count": null
  },
  {
   "cell_type": "markdown",
   "id": "612b9e36-6449-4ee7-b938-6dc41b336029",
   "metadata": {},
   "source": [
    "### Fire Events Delineation (FIRED)"
   ]
  },
  {
   "cell_type": "code",
   "id": "ad6dcc12-5433-469f-b645-11d18e3b831e",
   "metadata": {},
   "source": [
    "fp = os.path.join(maindir,'FIRED/data/spatial/raw/events/conus_ak/fired_conus_ak_2000_to_2024_events.gpkg')\n",
    "fired = gpd.read_file(fp)\n",
    "fired = fired[(fired['ig_year'] >= 2017) & (fired['ig_year'] <= 2023)]\n",
    "print(f\"There are [{len(fired)}] FIRED perimeters in CONUS (2017-2023).\\n{fired.columns}\\n\")"
   ],
   "outputs": [],
   "execution_count": null
  },
  {
   "cell_type": "code",
   "id": "32daf8ec-c49a-409a-842c-639cbbdd92c9",
   "metadata": {},
   "source": [
    "# filter to retain fires >= 100 acres (same as NIFC)\n",
    "fired['tot_ar_acres'] = fired['tot_ar_km2'] * 247.105381\n",
    "fired = fired[fired['tot_ar_acres'] >= 10]\n",
    "print(f\"There are [{len(fired)}] FIRED perimeters >=100 acres.\")"
   ],
   "outputs": [],
   "execution_count": null
  },
  {
   "cell_type": "code",
   "id": "a9c8c7bd-c44a-445d-8a27-6d5f270779bc",
   "metadata": {},
   "source": [
    "# Join to western U.S. ecoregions by fire centroid\n",
    "# Identify the US EPA Level III ecoregion based on centroid of fire perimeter\n",
    "centroids = fired.copy() # make a copy of the fire data\n",
    "centroids.geometry = centroids.geometry.centroid # use the centroid for joining to ecoregions\n",
    "if not centroids.crs == ecol3.crs:\n",
    "    print(\"CRS mismatch, fixing it !\")\n",
    "    centroids = centroids.to_crs(proj)\n",
    "    ecol3 = ecol3.to_crs(proj)\n",
    "\n",
    "# Perform the overlay analysis\n",
    "fired_west = gpd.overlay(centroids, ecol3, how='intersection') # find overlaps\n",
    "print(f\"\\nThere are {len(fired_west)} FIRED events across western U.S. ecoregions in CONUS (2017-2023).\\n\")"
   ],
   "outputs": [],
   "execution_count": null
  },
  {
   "cell_type": "code",
   "id": "1adb6f47-b77b-46bf-b6f1-743f9393a12b",
   "metadata": {},
   "source": [
    "# Replace the centroid geometry with the fire perimeter\n",
    "# This ensure our fire data are in polygon format\n",
    "fired_west = gpd.GeoDataFrame(\n",
    "    pd.merge(fired_west[['id','na_l3name']], fired, left_on='id', right_on='id', how=\"left\")\n",
    ").rename(columns={'id': 'FIRED_Fire_ID'})\n",
    "print(f\"Geometry set to fire perimeters: {fired_west.geom_type.unique()}\")\n",
    "print(f\"Data columns:\\n{fired_west.columns}\")\n",
    "del fired\n",
    "gc.collect()"
   ],
   "outputs": [],
   "execution_count": null
  },
  {
   "cell_type": "code",
   "id": "cb895bd6-f26c-4c67-b0ca-99c87e6330aa",
   "metadata": {},
   "source": [
    "# save this file out.\n",
    "out_fp = os.path.join(projdir,'data/spatial/mod/FIRED/fired_events_2017_to_2023_west.gpkg')\n",
    "fired_west.to_file(out_fp)\n",
    "print(f\"Saved file to: {out_fp}\")"
   ],
   "outputs": [],
   "execution_count": null
  },
  {
   "cell_type": "code",
   "id": "8988ab2d-8ad4-44dc-8a89-0f10ab6b8aba",
   "metadata": {},
   "source": [],
   "outputs": [],
   "execution_count": null
  },
  {
   "cell_type": "code",
   "id": "b260e72a-acd6-40da-8491-75c283783106",
   "metadata": {},
   "source": [],
   "outputs": [],
   "execution_count": null
  },
  {
   "cell_type": "markdown",
   "id": "a5076f23-c5cc-4e3b-a153-448e6c5915ed",
   "metadata": {},
   "source": [
    "### Monitoring Trends in Burn Severity (MTBS)"
   ]
  },
  {
   "cell_type": "code",
   "id": "396d6b01-5109-43c2-8f66-78941a0e7d98",
   "metadata": {},
   "source": [
    "fp = os.path.join(maindir,'data/mtbs/mtbs_perimeter_data/mtbs_perims_DD.shp')\n",
    "mtbs = gpd.read_file(fp)\n",
    "mtbs.columns"
   ],
   "outputs": [],
   "execution_count": null
  },
  {
   "cell_type": "code",
   "id": "0db2ecea-c4a3-4d2c-b070-4b8bcecb6aea",
   "metadata": {},
   "source": [
    "# subset to 2017-2023\n",
    "mtbs['Ig_Date'] = pd.to_datetime(mtbs['Ig_Date'], errors='coerce')\n",
    "mtbs['Ig_Year'] = mtbs['Ig_Date'].dt.year\n",
    "mtbs = mtbs[mtbs['Ig_Year'] >= 2017]\n",
    "print(f\"There are [{len(mtbs)}] MTBS perimeters in CONUS (2017-2023).\\n{mtbs.columns}\\n\")"
   ],
   "outputs": [],
   "execution_count": null
  },
  {
   "cell_type": "code",
   "id": "d9485dac-89a1-44ff-ba04-2a14bc89065c",
   "metadata": {},
   "source": [
    "# Join to western U.S. ecoregions by fire centroid\n",
    "# Identify the US EPA Level III ecoregion based on centroid of fire perimeter\n",
    "centroids = mtbs.copy() # make a copy of the fire data\n",
    "centroids.geometry = centroids.geometry.centroid # use the centroid for joining to ecoregions\n",
    "if not centroids.crs == ecol3.crs:\n",
    "    print(\"CRS mismatch, fixing it !\")\n",
    "    centroids = centroids.to_crs(proj)\n",
    "    ecol3 = ecol3.to_crs(proj)\n",
    "\n",
    "# Perform the overlay analysis\n",
    "mtbs_west = gpd.overlay(centroids, ecol3, how='intersection') # find overlaps\n",
    "print(f\"\\nThere are {len(mtbs_west)} MTBS events across western U.S. ecoregions (2017-2023).\\n\")"
   ],
   "outputs": [],
   "execution_count": null
  },
  {
   "cell_type": "code",
   "id": "c50a4b44-7658-456a-baf9-d68e1393ec6b",
   "metadata": {},
   "source": [
    "# Replace the centroid geometry with the fire perimeter\n",
    "# This ensure our fire data are in polygon format\n",
    "mtbs_west = gpd.GeoDataFrame(\n",
    "    pd.merge(mtbs_west[['Event_ID','na_l3name']], mtbs, left_on='Event_ID', right_on='Event_ID', how=\"left\")\n",
    ").rename(columns={'Event_ID': 'MTBS_Fire_ID'})\n",
    "print(f\"Geometry set to fire perimeters: {mtbs_west.geom_type.unique()}\")\n",
    "print(f\"Data columns:\\n{mtbs_west.columns}\")\n",
    "# del mtbs\n",
    "gc.collect()"
   ],
   "outputs": [],
   "execution_count": null
  },
  {
   "cell_type": "code",
   "id": "4166fa2b-0299-4148-817a-29ec3dc50cec",
   "metadata": {},
   "source": [
    "print(mtbs_west['Asmnt_Type'].unique())\n",
    "print(mtbs_west['Incid_Type'].unique())"
   ],
   "outputs": [],
   "execution_count": null
  },
  {
   "cell_type": "code",
   "id": "c31da51f-02ff-4351-b772-95eb77cbc4a8",
   "metadata": {},
   "source": [
    "# save this file out.\n",
    "out_fp = os.path.join(projdir,'data/spatial/mod/MTBS/mtbs_perims_2017_to_2023_west.gpkg')\n",
    "mtbs_west.to_file(out_fp)\n",
    "print(f\"Saved file to: {out_fp}\")"
   ],
   "outputs": [],
   "execution_count": null
  },
  {
   "cell_type": "code",
   "id": "49b73c58-1194-4a75-9ab4-6cba7875417c",
   "metadata": {},
   "source": [],
   "outputs": [],
   "execution_count": null
  },
  {
   "cell_type": "code",
   "id": "cec9b791-3f0f-4c4f-bd69-89740457f1a0",
   "metadata": {},
   "source": [],
   "outputs": [],
   "execution_count": null
  },
  {
   "cell_type": "code",
   "id": "55ca6948-f8bc-4f09-ab82-cf02ac0e01c5",
   "metadata": {},
   "source": [
    "# Create a census of fire events for the Southern Rockies\n",
    "# Use the three data sources to find all possible fire events\n",
    "nifc = nifc_west[nifc_west['na_l3name'] == 'Southern Rockies']\n",
    "mtbs = mtbs_west[mtbs_west['na_l3name'] == 'Southern Rockies'].to_crs(nifc.crs)\n",
    "fired = fired_west[fired_west['na_l3name'] == 'Southern Rockies'].to_crs(nifc.crs)\n",
    "\n",
    "# function to calculate spatial overlap\n",
    "def fire_overlap(row, source):\n",
    "    \"\"\"Calculate the maximum overlap percentage with comparison_gdf.\"\"\"\n",
    "    overlap = source[source.intersects(row.geometry)]\n",
    "\n",
    "    if overlap.empty:\n",
    "        return 0\n",
    "    # Calculate intersection areas\n",
    "    overlap_ar = overlap.geometry.intersection(row.geometry).area\n",
    "    overlap_pct = (overlap_ar / row.geometry.area).max()\n",
    "    \n",
    "    return overlap_pct\n",
    "\n",
    "print(f\"\\n[{len(nifc)}] NIFC events.\")\n",
    "# apply the function to the MTBS perimeters\n",
    "mtbs['nifc_overlap'] = mtbs.apply(fire_overlap, axis=1, args=(nifc,))\n",
    "mtbs_ = mtbs[mtbs['nifc_overlap'] < 0.30]\n",
    "print(f\"\\n\\t{len(mtbs)-len(mtbs_)} fires [{round(len(mtbs)-len(mtbs_)/len(mtbs))}%] MTBS agreement\")\n",
    "\n",
    "# apply to FIRED events\n",
    "fired['nifc_overlap'] = fired.apply(fire_overlap, axis=1, args=(nifc,))\n",
    "fired_ = fired[fired['nifc_overlap'] < 0.30]\n",
    "print(f\"\\n\\t{len(fired_)}/{len(fired)} unique FIRED events.\")\n",
    "\n",
    "# FIRED, not overlapping MTBS\n",
    "fired_['mtbs_overlap'] = fired_.apply(fire_overlap, axis=1, args=(mtbs_,))\n",
    "fired_unq = fired_[fired_['mtbs_overlap'] < 0.30]\n",
    "print(f\"\\n\\t{len(fired_unq)} unique FIRED events (not overlapping MTBS).\")"
   ],
   "outputs": [],
   "execution_count": null
  },
  {
   "cell_type": "code",
   "id": "d48cc74c-e5a8-41f2-86e9-e505793b6b5c",
   "metadata": {},
   "source": [
    "# merge to create the fire \"census\"\n",
    "# adopt a standard naming convention for dates and IDs, where possible\n",
    "census = gpd.GeoDataFrame(\n",
    "    pd.concat([nifc, mtbs_, fired_unq], ignore_index=True)\n",
    ")\n",
    "\n",
    "print(f\"Fire census: {len(census)} events.\\n\")\n",
    "census.columns\n",
    "\n",
    "# save this out as a lookup table.\n",
    "out_fp = os.path.join(projdir,'data/tabular/mod/srm_fire_census_2017_to_2023_lookup.csv')\n",
    "census.to_csv(out_fp)\n",
    "print(f\"Saved file to: {out_fp}\")"
   ],
   "outputs": [],
   "execution_count": null
  },
  {
   "cell_type": "code",
   "id": "335725f5-fbf9-44bd-ad0a-b1285eb14f98",
   "metadata": {},
   "source": [
    "# handle the fire ID and names\n",
    "census.rename(columns={\n",
    "    'Event_ID': 'MTBS_Fire_ID',\n",
    "}, inplace=True)\n",
    "\n",
    "# create a column for the data source\n",
    "census['Source'] = census[['NIFC_Fire_ID', 'MTBS_Fire_ID', 'FIRED_Fire_ID']].apply(\n",
    "    lambda row: 'NIFC' if pd.notnull(row['NIFC_Fire_ID']) else\n",
    "                'MTBS' if pd.notnull(row['MTBS_Fire_ID']) else\n",
    "                'FIRED' if pd.notnull(row['FIRED_Fire_ID']) else None,\n",
    "    axis=1\n",
    ")\n",
    "\n",
    "# create a new Fire ID\n",
    "census['Fire_ID'] = census.index.astype(int)\n",
    "# Combine the Fire_ID columns into a single column\n",
    "census['Final_Acres'] = census[['GIS_ACRES', 'BurnBndAc', 'tot_ar_acres']].bfill(axis=1).iloc[:, 0]\n",
    "census['Start_Date'] = census[['Ig_Date', 'ig_date']].bfill(axis=1).iloc[:, 0]\n",
    "census['Start_Date'] = pd.to_datetime(census['Start_Date'], errors='coerce')\n",
    "census['Start_Date'] = census['Start_Date'].dt.strftime('%Y-%m-%d')\n",
    "census['Fire_Year'] = census[['FIRE_YEAR', 'Ig_Year', 'ig_year']].bfill(axis=1).iloc[:, 0]\n",
    "census['Fire_Year'] = census['Fire_Year'].astype(int)\n",
    "census['Fire_Name'] = census[['INCIDENT', 'Incid_Name']].bfill(axis=1).iloc[:, 0]\n",
    "census['Fire_Type'] = census[['FEATURE_CA', 'Incid_Type']].bfill(axis=1).iloc[:, 0]\n",
    "census['Fire_Type'] = census['Fire_Type'].fillna('Unknown')\n",
    "\n",
    "# standardize the fire names\n",
    "census['Fire_Name'] = census['Fire_Name'].str.upper()\n",
    "# Drop the original Fire_ID columns (optional)\n",
    "census_srm = census[['Fire_ID','Source','Fire_Name','Fire_Year','Start_Date',\n",
    "                     'Final_Acres','Fire_Type','na_l3name','geometry']]\n",
    "census_srm.head()"
   ],
   "outputs": [],
   "execution_count": null
  },
  {
   "cell_type": "code",
   "id": "f01e5be6-eef9-428f-bd4b-38562cfda2fc",
   "metadata": {},
   "source": [
    "census_srm['Fire_Type'].unique()"
   ],
   "outputs": [],
   "execution_count": null
  },
  {
   "cell_type": "code",
   "id": "cd613cd3-4847-4afc-a624-438bfaef98dc",
   "metadata": {},
   "source": [
    "# merge the calf canyon/hermit's peak polygons.\n",
    "calf_hermit = census_srm[census_srm['Fire_Name'].isin(['CALF CANYON', 'HERMITS PEAK'])]\n",
    "calf_hermit.sort_values(by=['Final_Acres'], ascending=False)\n",
    "calf_hermit = calf_hermit.dissolve(by='Fire_Year', as_index=False)  # Use 'Fire_Year' or another common column\n",
    "calf_hermit['Fire_Name'] = 'CALF CANYON-HERMITS PEAK'\n",
    "calf_hermit['Final_Acres'] = calf_hermit.geometry.area * 0.000247105\n",
    "\n",
    "# merge back in\n",
    "census_srm = census_srm[~census_srm['Fire_Name'].isin(['CALF CANYON', 'HERMITS PEAK'])]\n",
    "census_srm = pd.concat([census_srm, calf_hermit], ignore_index=True)\n",
    "\n",
    "calf_hermit"
   ],
   "outputs": [],
   "execution_count": null
  },
  {
   "cell_type": "code",
   "id": "201003f3-330b-47f8-8ace-51c4c78506df",
   "metadata": {},
   "source": [
    "len(census_srm)"
   ],
   "outputs": [],
   "execution_count": null
  },
  {
   "cell_type": "code",
   "id": "f7fc47f8-916f-49b0-91d8-93fd8890bac6",
   "metadata": {},
   "source": [
    "# save this file out.\n",
    "out_fp = os.path.join(projdir,'data/spatial/mod/srm_fire_census_2017_to_2023.gpkg')\n",
    "census_srm.to_file(out_fp)\n",
    "print(f\"Saved file to: {out_fp}\")"
   ],
   "outputs": [],
   "execution_count": null
  },
  {
   "cell_type": "code",
   "id": "90843f7b-de19-4d7c-b996-0a1f414d1ded",
   "metadata": {},
   "source": [],
   "outputs": [],
   "execution_count": null
  },
  {
   "cell_type": "code",
   "id": "5f4e1de4-0db2-421c-a2fb-7f6e4983e8af",
   "metadata": {},
   "source": [],
   "outputs": [],
   "execution_count": null
  },
  {
   "cell_type": "code",
   "id": "99258b36-cddd-4eb7-839b-e58221e97d0c",
   "metadata": {},
   "source": [],
   "outputs": [],
   "execution_count": null
  },
  {
   "cell_type": "markdown",
   "id": "b2784214-d25c-44ef-9a69-278426ba049b",
   "metadata": {},
   "source": [
    "### Calculate the percent forested from the USFS TreeMap (ca. 2016)"
   ]
  },
  {
   "cell_type": "code",
   "id": "292c6ad1-a899-4d6c-bba7-34e1aa7841a6",
   "metadata": {},
   "source": [
    "# Load the TreeMap (ca. 2016)\n",
    "fp = os.path.join(maindir,'data/landcover/USFS/RDS_TreeMap/TreeMap2016_FORTYPCD/TreeMap2016_FORTYPCD.tif')\n",
    "treemap_da = rxr.open_rasterio(fp, masked=True, cache=False, chunks='auto').squeeze()\n",
    "# Grab some raster metadata\n",
    "shp, gt, wkt, nd = treemap_da.shape, treemap_da.spatial_ref.GeoTransform, treemap_da.rio.crs, treemap_da.rio.nodata\n",
    "print(\n",
    "    f\"Shape: {shp}; \\n\"\n",
    "    f\"GeoTransform: {gt}; \\n\"\n",
    "    f\"WKT: {wkt}; \\n\"\n",
    "    f\"NoData Value: {nd}; \\n\"\n",
    "    f\"Data Type: {treemap_da[0].dtype}\")\n",
    "gc.collect() # clean up"
   ],
   "outputs": [],
   "execution_count": null
  },
  {
   "cell_type": "code",
   "id": "34e8c970-0857-4f05-b776-741f7126e2b4",
   "metadata": {},
   "source": [
    "# Crop the raster by the fire bounds (with small buffer)\n",
    "bounds = census_srm.total_bounds\n",
    "treemap_da_crop = treemap_da.rio.clip_box(\n",
    "    minx=bounds[0]+1000, # +1000 meters for a small buffer\n",
    "    miny=bounds[1]+1000, \n",
    "    maxx=bounds[2]+1000, \n",
    "    maxy=bounds[3]+1000\n",
    ")\n",
    "del treemap_da, bounds\n",
    "gc.collect()"
   ],
   "outputs": [],
   "execution_count": null
  },
  {
   "cell_type": "code",
   "id": "5ecd87d4-8d37-404f-97ce-34420560171c",
   "metadata": {},
   "source": [
    "# Add a small buffer to wildfire perimeters\n",
    "# Accounting for edge effects\n",
    "buffer = 90  # meters\n",
    "census_srm_ = census_srm.copy() # make a copy of the original data\n",
    "census_srm_['geometry'] = census_srm_['geometry'].buffer(buffer)\n",
    "print(f\"Buffered fire perimeters by {buffer} meters.\")"
   ],
   "outputs": [],
   "execution_count": null
  },
  {
   "cell_type": "code",
   "id": "9a6a2666-e014-481e-9f25-341882e70f62",
   "metadata": {},
   "source": [
    "census_srm_.columns"
   ],
   "outputs": [],
   "execution_count": null
  },
  {
   "cell_type": "code",
   "id": "24f98d08-b914-4db9-8cdd-1aff41a76cd4",
   "metadata": {},
   "source": [
    "# Calculate zonal stats for the wildfire perimeters.\n",
    "t0 = time.time()\n",
    "\n",
    "# see __functions.py\n",
    "sampled = compute_band_stats(census_srm_, treemap_da_crop, 'Fire_ID', attr='FORTYPCD')\n",
    "\n",
    "t1 = (time.time() - t0) / 60\n",
    "print(f\"Total elapsed time: {t1:.2f} minutes.\")\n",
    "print(\"\\n~~~~~~~~~~\\n\")"
   ],
   "outputs": [],
   "execution_count": null
  },
  {
   "cell_type": "code",
   "id": "a9e6ddb5-5ab0-4766-af9d-2d73f46ff1d3",
   "metadata": {},
   "source": [
    "sampled.head(3)"
   ],
   "outputs": [],
   "execution_count": null
  },
  {
   "cell_type": "code",
   "id": "1d659cea-cd9d-4487-96a2-2eb9b6b325c9",
   "metadata": {},
   "source": [
    "del treemap_da_crop\n",
    "gc.collect()  # clean up"
   ],
   "outputs": [],
   "execution_count": null
  },
  {
   "cell_type": "code",
   "id": "10b8e4a1-76a7-4c1a-83ff-44a1b9fdaf04",
   "metadata": {},
   "source": [
    "# Load the lookup table and gather LC info\n",
    "# load the species lookup table\n",
    "fp = os.path.join(projdir,'data/tabular/mod/treemap_fortypcd_species_mapping.csv')\n",
    "species_df = pd.read_csv(fp)[['FORTYPCD','SpeciesName']]\n",
    "species_df = species_df[species_df['FORTYPCD'].isin(sampled['FORTYPCD'].unique())]\n",
    "print(species_df.columns)\n",
    "\n",
    "# merge with fire summary to get forest species name\n",
    "fortypcd = sampled.merge(species_df, on='FORTYPCD', how='left')\n",
    "\n",
    "# merge with the spatial data\n",
    "fortypcd = pd.merge(fortypcd, census_srm_, on='Fire_ID', how='left')\n",
    "fortypcd = gpd.GeoDataFrame(fortypcd)\n",
    "fortypcd.head()"
   ],
   "outputs": [],
   "execution_count": null
  },
  {
   "cell_type": "code",
   "id": "54b7fbb3-7460-4915-af23-0565fb2b483a",
   "metadata": {},
   "source": [
    "# Identify fires with >= 1% aspen forest cover\n",
    "aspen_fires = fortypcd[fortypcd['SpeciesName'] == 'Aspen']\n",
    "aspen_fires = aspen_fires[['Fire_ID','pct_cover','total_pixels']].rename(\n",
    "    columns={'pct_cover': 'pct_aspen'}\n",
    ")\n",
    "print(f\"There are {len(aspen_fires)} fires with some aspen component.\")"
   ],
   "outputs": [],
   "execution_count": null
  },
  {
   "cell_type": "code",
   "id": "d0db2741-7268-4520-a4a9-04cfa139fabe",
   "metadata": {},
   "source": [
    "aspen_fires.columns"
   ],
   "outputs": [],
   "execution_count": null
  },
  {
   "cell_type": "code",
   "id": "d09c7e79-663d-479a-89e4-adab2b442da3",
   "metadata": {},
   "source": [
    "# Join aspen percent to the spatial data.\n",
    "census_srm_p = pd.merge(census_srm_, aspen_fires, on='Fire_ID', how='left')\n",
    "census_srm_p['pct_aspen'] = census_srm_p['pct_aspen'].fillna(0)\n",
    "census_srm_p = census_srm_p.to_crs(proj)  # ensure the correct projection before exporting\n",
    "census_srm_p.columns"
   ],
   "outputs": [],
   "execution_count": null
  },
  {
   "cell_type": "code",
   "id": "68b4f2e0-ba35-4d1d-8be4-55657cc0a6a1",
   "metadata": {},
   "source": [
    "len(census_srm_p)"
   ],
   "outputs": [],
   "execution_count": null
  },
  {
   "cell_type": "code",
   "id": "db695c60-cc31-439d-8fe1-2f1e4e843b21",
   "metadata": {},
   "source": [
    "# save this file out.\n",
    "out_fp = os.path.join(projdir,'data/spatial/mod/srm_fire_census_2017_to_2023.gpkg')\n",
    "census_srm_p.to_file(out_fp)\n",
    "print(f\"Saved file to: {out_fp}\")"
   ],
   "outputs": [],
   "execution_count": null
  },
  {
   "cell_type": "code",
   "id": "d277eee6-0e51-4ef5-aeea-296955ce8985",
   "metadata": {},
   "source": [],
   "outputs": [],
   "execution_count": null
  },
  {
   "cell_type": "code",
   "id": "f08c481d-c225-4577-b024-2167fd5ffb26",
   "metadata": {},
   "source": [],
   "outputs": [],
   "execution_count": null
  },
  {
   "cell_type": "code",
   "id": "de2fdb08-d9b0-42f4-b373-0af663563999",
   "metadata": {},
   "source": [],
   "outputs": [],
   "execution_count": null
  },
  {
   "cell_type": "code",
   "id": "bc3fa43b-e5ec-4646-8845-181bca269a2e",
   "metadata": {},
   "source": [
    "# Map of aspen fires"
   ],
   "outputs": [],
   "execution_count": null
  },
  {
   "cell_type": "code",
   "id": "9ede37ab-80e3-4e1a-b712-23d12b5624b4",
   "metadata": {},
   "source": [
    "### Load the state boundaries\n",
    "states = gpd.read_file(os.path.join(maindir,'data/boundaries/political/TIGER/tl19_us_states_west_nad83.gpkg'))\n",
    "states = states.to_crs(4326)\n",
    "\n",
    "ecol3 = ecol3.to_crs(4326)\n",
    "srm = ecol3[ecol3['na_l3name'] == 'Southern Rockies']\n",
    "\n",
    "# Generate centroids\n",
    "centroid = census_srm_p.copy()\n",
    "centroid = centroid.to_crs(4326)\n",
    "centroid['geometry'] = centroid.geometry.centroid\n",
    "centroid['size'] = centroid['pct_aspen'] * 10  # Adjust the scaling factor as necessary\n",
    "\n",
    "# Make a spatial map of the centroids now\n",
    "fig, ax = plt.subplots(figsize=(6, 6))\n",
    "\n",
    "srm.plot(ax=ax, edgecolor='black', linewidth=0.4, color='none')\n",
    "centroid.plot(\n",
    "    ax=ax, markersize=centroid['pct_aspen'], \n",
    "    column='pct_aspen', cmap='viridis', \n",
    "    legend=False, alpha=0.6)\n",
    "\n",
    "# Manually add colorbar\n",
    "norm = matplotlib.colors.Normalize(vmin=centroid['pct_aspen'].min(), vmax=centroid['pct_aspen'].max())\n",
    "sm = plt.cm.ScalarMappable(cmap='viridis', norm=norm)\n",
    "sm.set_array([])  # Only needed for ScalarMappable\n",
    "\n",
    "# Adjust the size of the colorbar using the `shrink` parameter\n",
    "cbar = fig.colorbar(sm, ax=ax, shrink=0.7)\n",
    "cbar.set_label('Aspen Percent')\n",
    "\n",
    "plt.xlabel('Longitude')\n",
    "plt.ylabel('Latitude')\n",
    "plt.tight_layout()\n",
    "\n",
    "# Save the map as a PNG\n",
    "plt.savefig(os.path.join(projdir, 'figures/Figure1_Aspen-Fires_NIFC_2012to2023.png'), dpi=300, bbox_inches='tight')\n",
    "\n",
    "plt.show()"
   ],
   "outputs": [],
   "execution_count": null
  },
  {
   "cell_type": "code",
   "id": "0911677e-ded2-46fb-a062-29d19cd84d29",
   "metadata": {},
   "source": [
    "# Plot the count of fires across US EPA Level III ecoregions\n",
    "df = fortypcd.groupby('na_l3name').agg(\n",
    "    pct_cover_mean=('pct_cover', 'mean'),  # Mean percent cover\n",
    "    fire_count=('pct_cover', 'count')      # Count of fires\n",
    ").reset_index()\n",
    "df"
   ],
   "outputs": [],
   "execution_count": null
  },
  {
   "cell_type": "code",
   "id": "c2a8cce4-e9dc-4e8d-9535-808d2cba5bbb",
   "metadata": {},
   "source": [
    "import matplotlib.pyplot as plt\n",
    "import matplotlib.cm as cm\n",
    "\n",
    "df = df.sort_values('fire_count', ascending=False)\n",
    "\n",
    "norm = plt.Normalize(df['pct_cover_mean'].min(), df['pct_cover_mean'].max())\n",
    "cmap = cm.viridis  # Choose a colormap\n",
    "\n",
    "# Create the bar chart\n",
    "fig, ax = plt.subplots(figsize=(10, 5))\n",
    "bars = ax.bar(\n",
    "    df['na_l3name'], \n",
    "    df['fire_count'], \n",
    "    color=cmap(norm(df['pct_cover_mean']))\n",
    ")\n",
    "\n",
    "# Add colorbar for mean percent cover\n",
    "sm = plt.cm.ScalarMappable(cmap=cmap, norm=norm)\n",
    "sm.set_array([])\n",
    "cbar = plt.colorbar(sm, ax=ax)\n",
    "cbar.set_label('Mean Percent Cover (%)', rotation=270, labelpad=15)\n",
    "\n",
    "# Add labels and title\n",
    "ax.set_xlabel('Ecoregion')\n",
    "ax.set_ylabel('Fire Count')\n",
    "ax.set_title('Fire Count and Mean Percent Cover by Ecoregion')\n",
    "ax.set_xticks(range(len(df['na_l3name'])))\n",
    "ax.set_xticklabels(df['na_l3name'], rotation=45, ha='right')\n",
    "\n",
    "# Show the plot\n",
    "plt.tight_layout()\n",
    "plt.show()"
   ],
   "outputs": [],
   "execution_count": null
  },
  {
   "cell_type": "code",
   "id": "ba264322-b7a2-43f0-81d9-c9e70c5e4dbe",
   "metadata": {},
   "source": [],
   "outputs": [],
   "execution_count": null
  },
  {
   "cell_type": "code",
   "id": "9e50e7f4-a8c3-4651-8a07-0fcdb86e9cb5",
   "metadata": {},
   "source": [
    "ecol3.columns"
   ],
   "outputs": [],
   "execution_count": null
  },
  {
   "cell_type": "code",
   "id": "ecb5992c-8ef7-4a8d-ba2b-0d3ddb516c99",
   "metadata": {},
   "source": [
    "# Southern Rockies\n",
    "\n",
    "centroid_srm = centroid[centroid['na_l3name'] == 'Southern Rockies']\n",
    "ecol3_srm = ecol3[ecol3['na_l3name'] == 'Southern Rockies']\n",
    "\n",
    "# plot it\n",
    "fig, ax = plt.subplots(figsize=(6, 6))\n",
    "\n",
    "ecol3_srm.plot(ax=ax, edgecolor='black', linewidth=0.8, color='none')\n",
    "centroid_srm.plot(\n",
    "    ax=ax, markersize=centroid_srm['pct_cover'], \n",
    "    column='pct_cover', cmap='viridis', \n",
    "    legend=False, alpha=0.6)\n",
    "\n",
    "# Manually add colorbar\n",
    "norm = matplotlib.colors.Normalize(vmin=centroid_srm['pct_cover'].min(), vmax=centroid_srm['pct_cover'].max())\n",
    "sm = plt.cm.ScalarMappable(cmap='viridis', norm=norm)\n",
    "sm.set_array([])  # Only needed for ScalarMappable\n",
    "\n",
    "# Adjust the size of the colorbar using the `shrink` parameter\n",
    "cbar = fig.colorbar(sm, ax=ax, shrink=0.7)\n",
    "cbar.set_label('Aspen Percent')\n",
    "\n",
    "plt.xlabel('Longitude')\n",
    "plt.ylabel('Latitude')\n",
    "\n",
    "\n",
    "# Save the map as a PNG\n",
    "plt.savefig(os.path.join(projdir, 'figures/Figure1_Aspen-Fires_NIFC-SRM.png'), dpi=300, bbox_inches='tight')\n",
    "\n",
    "plt.show()"
   ],
   "outputs": [],
   "execution_count": null
  },
  {
   "cell_type": "code",
   "id": "970776c4-e85d-4e79-bac4-20ad99d5b57a",
   "metadata": {},
   "source": [],
   "outputs": [],
   "execution_count": null
  },
  {
   "cell_type": "code",
   "id": "72a473e8-a06a-4bb1-b560-d45a1914a126",
   "metadata": {},
   "source": [
    "gc.collect()"
   ],
   "outputs": [],
   "execution_count": null
  },
  {
   "cell_type": "code",
   "id": "e2b5e0ec-93a0-4fec-b601-d8072e85db8d",
   "metadata": {},
   "source": [],
   "outputs": [],
   "execution_count": null
  }
 ],
 "metadata": {
  "kernelspec": {
   "display_name": "aspen-fire",
   "language": "python",
   "name": "aspen-fire"
  },
  "language_info": {
   "codemirror_mode": {
    "name": "ipython",
    "version": 3
   },
   "file_extension": ".py",
   "mimetype": "text/x-python",
   "name": "python",
   "nbconvert_exporter": "python",
   "pygments_lexer": "ipython3",
   "version": "3.10.12"
  }
 },
 "nbformat": 4,
 "nbformat_minor": 5
}
