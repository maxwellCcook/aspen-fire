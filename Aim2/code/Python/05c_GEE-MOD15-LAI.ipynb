{
 "cells": [
  {
   "cell_type": "code",
   "execution_count": 1,
   "id": "c4cf7de4-79ad-4518-b1c7-3f70fe6ffb1b",
   "metadata": {},
   "outputs": [
    {
     "name": "stdout",
     "output_type": "stream",
     "text": [
      "Success\n"
     ]
    }
   ],
   "source": [
    "\"\"\"\n",
    "MODIS Leaf Area Index\n",
    "\"\"\"\n",
    "\n",
    "import ee, geemap\n",
    "import os, sys, time\n",
    "\n",
    "# Custom functions\n",
    "sys.path.append(os.path.join(os.getcwd(),'code/'))\n",
    "from __functions import *\n",
    "\n",
    "ee.Authenticate()\n",
    "ee.Initialize(project='jfsp-aspen')\n",
    "\n",
    "maindir = '/Users/max/Library/CloudStorage/OneDrive-Personal/mcook/'\n",
    "projdir = os.path.join(maindir, 'aspen-fire/Aim2/')\n",
    "\n",
    "print(\"Success\")"
   ]
  },
  {
   "cell_type": "code",
   "execution_count": 2,
   "id": "adce3611-b158-49d2-b892-dd61747b0c19",
   "metadata": {},
   "outputs": [
    {
     "data": {
      "text/html": [
       "\n",
       "            <style>\n",
       "                .geemap-dark {\n",
       "                    --jp-widgets-color: white;\n",
       "                    --jp-widgets-label-color: white;\n",
       "                    --jp-ui-font-color1: white;\n",
       "                    --jp-layout-color2: #454545;\n",
       "                    background-color: #383838;\n",
       "                }\n",
       "\n",
       "                .geemap-dark .jupyter-button {\n",
       "                    --jp-layout-color3: #383838;\n",
       "                }\n",
       "\n",
       "                .geemap-colab {\n",
       "                    background-color: var(--colab-primary-surface-color, white);\n",
       "                }\n",
       "\n",
       "                .geemap-colab .jupyter-button {\n",
       "                    --jp-layout-color3: var(--colab-primary-surface-color, white);\n",
       "                }\n",
       "            </style>\n",
       "            "
      ],
      "text/plain": [
       "<IPython.core.display.HTML object>"
      ]
     },
     "metadata": {},
     "output_type": "display_data"
    },
    {
     "data": {
      "text/html": [
       "<div><style>:root {\n",
       "  --font-color-primary: var(--jp-content-font-color0, rgba(0, 0, 0, 1));\n",
       "  --font-color-secondary: var(--jp-content-font-color2, rgba(0, 0, 0, 0.6));\n",
       "  --font-color-accent: rgba(123, 31, 162, 1);\n",
       "  --border-color: var(--jp-border-color2, #e0e0e0);\n",
       "  --background-color: var(--jp-layout-color0, white);\n",
       "  --background-color-row-even: var(--jp-layout-color1, white);\n",
       "  --background-color-row-odd: var(--jp-layout-color2, #eeeeee);\n",
       "}\n",
       "\n",
       "html[theme=\"dark\"],\n",
       "body[data-theme=\"dark\"],\n",
       "body.vscode-dark {\n",
       "  --font-color-primary: rgba(255, 255, 255, 1);\n",
       "  --font-color-secondary: rgba(255, 255, 255, 0.6);\n",
       "  --font-color-accent: rgb(173, 132, 190);\n",
       "  --border-color: #2e2e2e;\n",
       "  --background-color: #111111;\n",
       "  --background-color-row-even: #111111;\n",
       "  --background-color-row-odd: #313131;\n",
       "}\n",
       "\n",
       ".ee {\n",
       "  padding: 1em;\n",
       "  line-height: 1.5em;\n",
       "  min-width: 300px;\n",
       "  max-width: 1200px;\n",
       "  overflow-y: scroll;\n",
       "  max-height: 600px;\n",
       "  border: 1px solid var(--border-color);\n",
       "  font-family: monospace;\n",
       "}\n",
       "\n",
       ".ee li {\n",
       "  list-style-type: none;\n",
       "}\n",
       "\n",
       ".ee ul {\n",
       "  padding-left: 1.5em !important;\n",
       "  margin: 0;\n",
       "}\n",
       "\n",
       ".ee > ul {\n",
       "  padding-left: 0 !important;\n",
       "}\n",
       "\n",
       ".ee-open,\n",
       ".ee-shut {\n",
       "  color: var(--font-color-secondary);\n",
       "  cursor: pointer;\n",
       "  margin: 0;\n",
       "}\n",
       "\n",
       ".ee-open:hover,\n",
       ".ee-shut:hover {\n",
       "  color: var(--font-color-primary);\n",
       "}\n",
       "\n",
       ".ee-k {\n",
       "  color: var(--font-color-accent);\n",
       "  margin-right: 6px;\n",
       "}\n",
       "\n",
       ".ee-v {\n",
       "  color: var(--font-color-primary);\n",
       "}\n",
       "\n",
       ".ee-toggle {\n",
       "  display: none;\n",
       "}\n",
       "\n",
       ".ee-shut + ul {\n",
       "  display: none;\n",
       "}\n",
       "\n",
       ".ee-open + ul {\n",
       "  display: block;\n",
       "}\n",
       "\n",
       ".ee-shut::before {\n",
       "  display: inline-block;\n",
       "  content: \"▼\";\n",
       "  margin-right: 6px;\n",
       "  transform: rotate(-90deg);\n",
       "  transition: transform 0.2s;\n",
       "}\n",
       "\n",
       ".ee-open::before {\n",
       "  transform: rotate(0deg);\n",
       "  display: inline-block;\n",
       "  content: \"▼\";\n",
       "  margin-right: 6px;\n",
       "  transition: transform 0.2s;\n",
       "}\n",
       "</style><div class='ee'><ul><li><label class='ee-shut'>ImageCollection MODIS/061/MOD15A2H  (1 element)<input type='checkbox' class='ee-toggle'></label><ul><li><span class='ee-k'>type:</span><span class='ee-v'>ImageCollection</span></li><li><span class='ee-k'>id:</span><span class='ee-v'>MODIS/061/MOD15A2H</span></li><li><span class='ee-k'>version:</span><span class='ee-v'>1735066702511604</span></li><li><label class='ee-shut'>bands: []<input type='checkbox' class='ee-toggle'></label><ul></ul></li><li><label class='ee-shut'>properties: Object (1 property)<input type='checkbox' class='ee-toggle'></label><ul><li><span class='ee-k'>system:is_global:</span><span class='ee-v'>1</span></li></ul></li><li><label class='ee-shut'>features: List (1 element)<input type='checkbox' class='ee-toggle'></label><ul><li><label class='ee-shut'>0: Image MODIS/061/MOD15A2H/2000_02_18 (6 bands)<input type='checkbox' class='ee-toggle'></label><ul><li><span class='ee-k'>type:</span><span class='ee-v'>Image</span></li><li><span class='ee-k'>id:</span><span class='ee-v'>MODIS/061/MOD15A2H/2000_02_18</span></li><li><span class='ee-k'>version:</span><span class='ee-v'>1646520867297074</span></li><li><label class='ee-shut'>bands: List (6 elements)<input type='checkbox' class='ee-toggle'></label><ul><li><label class='ee-shut'>0: \"Fpar_500m\", unsigned int8, SR-ORG:6974, 86400x36000 px<input type='checkbox' class='ee-toggle'></label><ul><li><span class='ee-k'>id:</span><span class='ee-v'>Fpar_500m</span></li><li><span class='ee-k'>crs:</span><span class='ee-v'>SR-ORG:6974</span></li><li><label class='ee-shut'>crs_transform: List (6 elements)<input type='checkbox' class='ee-toggle'></label><ul><li><span class='ee-k'>0:</span><span class='ee-v'>463.3127165279165</span></li><li><span class='ee-k'>1:</span><span class='ee-v'>0</span></li><li><span class='ee-k'>2:</span><span class='ee-v'>-20015109.354</span></li><li><span class='ee-k'>3:</span><span class='ee-v'>0</span></li><li><span class='ee-k'>4:</span><span class='ee-v'>-463.3127165279167</span></li><li><span class='ee-k'>5:</span><span class='ee-v'>10007554.677003</span></li></ul></li><li><label class='ee-shut'>data_type: unsigned int8<input type='checkbox' class='ee-toggle'></label><ul><li><span class='ee-k'>type:</span><span class='ee-v'>PixelType</span></li><li><span class='ee-k'>max:</span><span class='ee-v'>255</span></li><li><span class='ee-k'>min:</span><span class='ee-v'>0</span></li><li><span class='ee-k'>precision:</span><span class='ee-v'>int</span></li></ul></li><li><label class='ee-shut'>dimensions: [86400, 36000]<input type='checkbox' class='ee-toggle'></label><ul><li><span class='ee-k'>0:</span><span class='ee-v'>86400</span></li><li><span class='ee-k'>1:</span><span class='ee-v'>36000</span></li></ul></li></ul></li><li><label class='ee-shut'>1: \"Lai_500m\", unsigned int8, SR-ORG:6974, 86400x36000 px<input type='checkbox' class='ee-toggle'></label><ul><li><span class='ee-k'>id:</span><span class='ee-v'>Lai_500m</span></li><li><span class='ee-k'>crs:</span><span class='ee-v'>SR-ORG:6974</span></li><li><label class='ee-shut'>crs_transform: List (6 elements)<input type='checkbox' class='ee-toggle'></label><ul><li><span class='ee-k'>0:</span><span class='ee-v'>463.3127165279165</span></li><li><span class='ee-k'>1:</span><span class='ee-v'>0</span></li><li><span class='ee-k'>2:</span><span class='ee-v'>-20015109.354</span></li><li><span class='ee-k'>3:</span><span class='ee-v'>0</span></li><li><span class='ee-k'>4:</span><span class='ee-v'>-463.3127165279167</span></li><li><span class='ee-k'>5:</span><span class='ee-v'>10007554.677003</span></li></ul></li><li><label class='ee-shut'>data_type: unsigned int8<input type='checkbox' class='ee-toggle'></label><ul><li><span class='ee-k'>type:</span><span class='ee-v'>PixelType</span></li><li><span class='ee-k'>max:</span><span class='ee-v'>255</span></li><li><span class='ee-k'>min:</span><span class='ee-v'>0</span></li><li><span class='ee-k'>precision:</span><span class='ee-v'>int</span></li></ul></li><li><label class='ee-shut'>dimensions: [86400, 36000]<input type='checkbox' class='ee-toggle'></label><ul><li><span class='ee-k'>0:</span><span class='ee-v'>86400</span></li><li><span class='ee-k'>1:</span><span class='ee-v'>36000</span></li></ul></li></ul></li><li><label class='ee-shut'>2: \"FparLai_QC\", unsigned int8, SR-ORG:6974, 86400x36000 px<input type='checkbox' class='ee-toggle'></label><ul><li><span class='ee-k'>id:</span><span class='ee-v'>FparLai_QC</span></li><li><span class='ee-k'>crs:</span><span class='ee-v'>SR-ORG:6974</span></li><li><label class='ee-shut'>crs_transform: List (6 elements)<input type='checkbox' class='ee-toggle'></label><ul><li><span class='ee-k'>0:</span><span class='ee-v'>463.3127165279165</span></li><li><span class='ee-k'>1:</span><span class='ee-v'>0</span></li><li><span class='ee-k'>2:</span><span class='ee-v'>-20015109.354</span></li><li><span class='ee-k'>3:</span><span class='ee-v'>0</span></li><li><span class='ee-k'>4:</span><span class='ee-v'>-463.3127165279167</span></li><li><span class='ee-k'>5:</span><span class='ee-v'>10007554.677003</span></li></ul></li><li><label class='ee-shut'>data_type: unsigned int8<input type='checkbox' class='ee-toggle'></label><ul><li><span class='ee-k'>type:</span><span class='ee-v'>PixelType</span></li><li><span class='ee-k'>max:</span><span class='ee-v'>255</span></li><li><span class='ee-k'>min:</span><span class='ee-v'>0</span></li><li><span class='ee-k'>precision:</span><span class='ee-v'>int</span></li></ul></li><li><label class='ee-shut'>dimensions: [86400, 36000]<input type='checkbox' class='ee-toggle'></label><ul><li><span class='ee-k'>0:</span><span class='ee-v'>86400</span></li><li><span class='ee-k'>1:</span><span class='ee-v'>36000</span></li></ul></li></ul></li><li><label class='ee-shut'>3: \"FparExtra_QC\", unsigned int8, SR-ORG:6974, 86400x36000 px<input type='checkbox' class='ee-toggle'></label><ul><li><span class='ee-k'>id:</span><span class='ee-v'>FparExtra_QC</span></li><li><span class='ee-k'>crs:</span><span class='ee-v'>SR-ORG:6974</span></li><li><label class='ee-shut'>crs_transform: List (6 elements)<input type='checkbox' class='ee-toggle'></label><ul><li><span class='ee-k'>0:</span><span class='ee-v'>463.3127165279165</span></li><li><span class='ee-k'>1:</span><span class='ee-v'>0</span></li><li><span class='ee-k'>2:</span><span class='ee-v'>-20015109.354</span></li><li><span class='ee-k'>3:</span><span class='ee-v'>0</span></li><li><span class='ee-k'>4:</span><span class='ee-v'>-463.3127165279167</span></li><li><span class='ee-k'>5:</span><span class='ee-v'>10007554.677003</span></li></ul></li><li><label class='ee-shut'>data_type: unsigned int8<input type='checkbox' class='ee-toggle'></label><ul><li><span class='ee-k'>type:</span><span class='ee-v'>PixelType</span></li><li><span class='ee-k'>max:</span><span class='ee-v'>255</span></li><li><span class='ee-k'>min:</span><span class='ee-v'>0</span></li><li><span class='ee-k'>precision:</span><span class='ee-v'>int</span></li></ul></li><li><label class='ee-shut'>dimensions: [86400, 36000]<input type='checkbox' class='ee-toggle'></label><ul><li><span class='ee-k'>0:</span><span class='ee-v'>86400</span></li><li><span class='ee-k'>1:</span><span class='ee-v'>36000</span></li></ul></li></ul></li><li><label class='ee-shut'>4: \"FparStdDev_500m\", unsigned int8, SR-ORG:6974, 86400x36000 px<input type='checkbox' class='ee-toggle'></label><ul><li><span class='ee-k'>id:</span><span class='ee-v'>FparStdDev_500m</span></li><li><span class='ee-k'>crs:</span><span class='ee-v'>SR-ORG:6974</span></li><li><label class='ee-shut'>crs_transform: List (6 elements)<input type='checkbox' class='ee-toggle'></label><ul><li><span class='ee-k'>0:</span><span class='ee-v'>463.3127165279165</span></li><li><span class='ee-k'>1:</span><span class='ee-v'>0</span></li><li><span class='ee-k'>2:</span><span class='ee-v'>-20015109.354</span></li><li><span class='ee-k'>3:</span><span class='ee-v'>0</span></li><li><span class='ee-k'>4:</span><span class='ee-v'>-463.3127165279167</span></li><li><span class='ee-k'>5:</span><span class='ee-v'>10007554.677003</span></li></ul></li><li><label class='ee-shut'>data_type: unsigned int8<input type='checkbox' class='ee-toggle'></label><ul><li><span class='ee-k'>type:</span><span class='ee-v'>PixelType</span></li><li><span class='ee-k'>max:</span><span class='ee-v'>255</span></li><li><span class='ee-k'>min:</span><span class='ee-v'>0</span></li><li><span class='ee-k'>precision:</span><span class='ee-v'>int</span></li></ul></li><li><label class='ee-shut'>dimensions: [86400, 36000]<input type='checkbox' class='ee-toggle'></label><ul><li><span class='ee-k'>0:</span><span class='ee-v'>86400</span></li><li><span class='ee-k'>1:</span><span class='ee-v'>36000</span></li></ul></li></ul></li><li><label class='ee-shut'>5: \"LaiStdDev_500m\", unsigned int8, SR-ORG:6974, 86400x36000 px<input type='checkbox' class='ee-toggle'></label><ul><li><span class='ee-k'>id:</span><span class='ee-v'>LaiStdDev_500m</span></li><li><span class='ee-k'>crs:</span><span class='ee-v'>SR-ORG:6974</span></li><li><label class='ee-shut'>crs_transform: List (6 elements)<input type='checkbox' class='ee-toggle'></label><ul><li><span class='ee-k'>0:</span><span class='ee-v'>463.3127165279165</span></li><li><span class='ee-k'>1:</span><span class='ee-v'>0</span></li><li><span class='ee-k'>2:</span><span class='ee-v'>-20015109.354</span></li><li><span class='ee-k'>3:</span><span class='ee-v'>0</span></li><li><span class='ee-k'>4:</span><span class='ee-v'>-463.3127165279167</span></li><li><span class='ee-k'>5:</span><span class='ee-v'>10007554.677003</span></li></ul></li><li><label class='ee-shut'>data_type: unsigned int8<input type='checkbox' class='ee-toggle'></label><ul><li><span class='ee-k'>type:</span><span class='ee-v'>PixelType</span></li><li><span class='ee-k'>max:</span><span class='ee-v'>255</span></li><li><span class='ee-k'>min:</span><span class='ee-v'>0</span></li><li><span class='ee-k'>precision:</span><span class='ee-v'>int</span></li></ul></li><li><label class='ee-shut'>dimensions: [86400, 36000]<input type='checkbox' class='ee-toggle'></label><ul><li><span class='ee-k'>0:</span><span class='ee-v'>86400</span></li><li><span class='ee-k'>1:</span><span class='ee-v'>36000</span></li></ul></li></ul></li></ul></li><li><label class='ee-shut'>properties: Object (6 properties)<input type='checkbox' class='ee-toggle'></label><ul><li><span class='ee-k'>google:max_source_file_timestamp:</span><span class='ee-v'>1627510099000</span></li><li><span class='ee-k'>system:asset_size:</span><span class='ee-v'>502256208</span></li><li><label class='ee-shut'>system:footprint: LinearRing (5 vertices)<input type='checkbox' class='ee-toggle'></label><ul><li><span class='ee-k'>type:</span><span class='ee-v'>LinearRing</span></li><li><label class='ee-shut'>coordinates: List (5 elements)<input type='checkbox' class='ee-toggle'></label><ul><li><label class='ee-shut'>0: [-180, -90]<input type='checkbox' class='ee-toggle'></label><ul><li><span class='ee-k'>0:</span><span class='ee-v'>-180</span></li><li><span class='ee-k'>1:</span><span class='ee-v'>-90</span></li></ul></li><li><label class='ee-shut'>1: [180, -90]<input type='checkbox' class='ee-toggle'></label><ul><li><span class='ee-k'>0:</span><span class='ee-v'>180</span></li><li><span class='ee-k'>1:</span><span class='ee-v'>-90</span></li></ul></li><li><label class='ee-shut'>2: [180, 90]<input type='checkbox' class='ee-toggle'></label><ul><li><span class='ee-k'>0:</span><span class='ee-v'>180</span></li><li><span class='ee-k'>1:</span><span class='ee-v'>90</span></li></ul></li><li><label class='ee-shut'>3: [-180, 90]<input type='checkbox' class='ee-toggle'></label><ul><li><span class='ee-k'>0:</span><span class='ee-v'>-180</span></li><li><span class='ee-k'>1:</span><span class='ee-v'>90</span></li></ul></li><li><label class='ee-shut'>4: [-180, -90]<input type='checkbox' class='ee-toggle'></label><ul><li><span class='ee-k'>0:</span><span class='ee-v'>-180</span></li><li><span class='ee-k'>1:</span><span class='ee-v'>-90</span></li></ul></li></ul></li></ul></li><li><span class='ee-k'>system:index:</span><span class='ee-v'>2000_02_18</span></li><li><span class='ee-k'>system:time_end:</span><span class='ee-v'>951523200000</span></li><li><span class='ee-k'>system:time_start:</span><span class='ee-v'>950832000000</span></li></ul></li></ul></li></ul></li></ul></li></ul></div><script>function toggleHeader() {\n",
       "    const parent = this.parentElement;\n",
       "    parent.className = parent.className === \"ee-open\" ? \"ee-shut\" : \"ee-open\";\n",
       "}\n",
       "\n",
       "for (let c of document.getElementsByClassName(\"ee-toggle\")) {\n",
       "    c.onclick = toggleHeader;\n",
       "}</script></div>"
      ],
      "text/plain": [
       "<ee.imagecollection.ImageCollection at 0x1043b73a0>"
      ]
     },
     "execution_count": 2,
     "metadata": {},
     "output_type": "execute_result"
    }
   ],
   "source": [
    "mod15 = ee.ImageCollection(\"MODIS/061/MOD15A2H\")\n",
    "mod15.limit(1)"
   ]
  },
  {
   "cell_type": "code",
   "execution_count": 3,
   "id": "2d4585d3-489d-4df4-b581-e61ad6cdd559",
   "metadata": {},
   "outputs": [
    {
     "data": {
      "text/html": [
       "\n",
       "            <style>\n",
       "                .geemap-dark {\n",
       "                    --jp-widgets-color: white;\n",
       "                    --jp-widgets-label-color: white;\n",
       "                    --jp-ui-font-color1: white;\n",
       "                    --jp-layout-color2: #454545;\n",
       "                    background-color: #383838;\n",
       "                }\n",
       "\n",
       "                .geemap-dark .jupyter-button {\n",
       "                    --jp-layout-color3: #383838;\n",
       "                }\n",
       "\n",
       "                .geemap-colab {\n",
       "                    background-color: var(--colab-primary-surface-color, white);\n",
       "                }\n",
       "\n",
       "                .geemap-colab .jupyter-button {\n",
       "                    --jp-layout-color3: var(--colab-primary-surface-color, white);\n",
       "                }\n",
       "            </style>\n",
       "            "
      ],
      "text/plain": [
       "<IPython.core.display.HTML object>"
      ]
     },
     "metadata": {},
     "output_type": "display_data"
    },
    {
     "name": "stdout",
     "output_type": "stream",
     "text": [
      "57232 total gridcells.\n",
      "['Fire_Year', 'grid_index', 'Fire_ID', 'max_date', 'first_obs', 'afd_count', 'Ig_Date', 'Last_Date', 'system:index', 'last_obs']\n"
     ]
    }
   ],
   "source": [
    "# load the frp grid\n",
    "grid = ee.FeatureCollection('projects/jfsp-aspen/assets/viirs_snpp_jpss1_afd_gridstats')\n",
    "print(f\"{grid.size().getInfo()} total gridcells.\")\n",
    "print(grid.first().propertyNames().getInfo())"
   ]
  },
  {
   "cell_type": "code",
   "execution_count": 5,
   "id": "077ed6cd-331d-46ab-8598-25126a1fe397",
   "metadata": {},
   "outputs": [
    {
     "data": {
      "text/html": [
       "\n",
       "            <style>\n",
       "                .geemap-dark {\n",
       "                    --jp-widgets-color: white;\n",
       "                    --jp-widgets-label-color: white;\n",
       "                    --jp-ui-font-color1: white;\n",
       "                    --jp-layout-color2: #454545;\n",
       "                    background-color: #383838;\n",
       "                }\n",
       "\n",
       "                .geemap-dark .jupyter-button {\n",
       "                    --jp-layout-color3: #383838;\n",
       "                }\n",
       "\n",
       "                .geemap-colab {\n",
       "                    background-color: var(--colab-primary-surface-color, white);\n",
       "                }\n",
       "\n",
       "                .geemap-colab .jupyter-button {\n",
       "                    --jp-layout-color3: var(--colab-primary-surface-color, white);\n",
       "                }\n",
       "            </style>\n",
       "            "
      ],
      "text/plain": [
       "<IPython.core.display.HTML object>"
      ]
     },
     "metadata": {},
     "output_type": "display_data"
    },
    {
     "name": "stdout",
     "output_type": "stream",
     "text": [
      "Processing: 100 fires.\n",
      "Number of features in LAI/FPAR stats: 57232\n"
     ]
    }
   ],
   "source": [
    "# function to extract lai/fpar from MOD15 within gridcells\n",
    "def lai_fpar_stats(fire_id):\n",
    "    \"\"\" calculate the LAI/FPAR for fire gridcells \"\"\"\n",
    "    \n",
    "    grid_fire = grid.filter(ee.Filter.eq('Fire_ID',fire_id)) # get the gridcells for the current fire\n",
    "    \n",
    "    end_date = ee.Date(grid_fire.first().get('Ig_Date')).advance(-1,'days') # day before discovery day\n",
    "    start_date = end_date.advance(-18,'days') # 16-days pre-fire\n",
    "\n",
    "    # filter the modis collection\n",
    "    mod15_ = mod15.filterDate(start_date, end_date).mean()\n",
    "    \n",
    "    # do the reduction\n",
    "    mod15_stats = mod15_.select(['Lai_500m','Fpar_500m']).reduceRegions(\n",
    "        collection=grid_fire,\n",
    "        reducer=ee.Reducer.mean(),\n",
    "        tileScale=16\n",
    "    ).select(['grid_index','Lai_500m','Fpar_500m'])\n",
    "\n",
    "    return mod15_stats\n",
    "    \n",
    "# map the function over all fire ids\n",
    "fire_ids = grid.aggregate_array('Fire_ID').distinct()\n",
    "print(f\"Processing: {fire_ids.size().getInfo()} fires.\")\n",
    "\n",
    "results = fire_ids.map(lai_fpar_stats)\n",
    "results_fc = ee.FeatureCollection(results).flatten()\n",
    "\n",
    "print(\"Number of features in LAI/FPAR stats:\", results_fc.size().getInfo())"
   ]
  },
  {
   "cell_type": "code",
   "execution_count": 6,
   "id": "f31822f7-5faf-4fc5-bb13-aedbf5b852c4",
   "metadata": {},
   "outputs": [
    {
     "data": {
      "text/html": [
       "\n",
       "            <style>\n",
       "                .geemap-dark {\n",
       "                    --jp-widgets-color: white;\n",
       "                    --jp-widgets-label-color: white;\n",
       "                    --jp-ui-font-color1: white;\n",
       "                    --jp-layout-color2: #454545;\n",
       "                    background-color: #383838;\n",
       "                }\n",
       "\n",
       "                .geemap-dark .jupyter-button {\n",
       "                    --jp-layout-color3: #383838;\n",
       "                }\n",
       "\n",
       "                .geemap-colab {\n",
       "                    background-color: var(--colab-primary-surface-color, white);\n",
       "                }\n",
       "\n",
       "                .geemap-colab .jupyter-button {\n",
       "                    --jp-layout-color3: var(--colab-primary-surface-color, white);\n",
       "                }\n",
       "            </style>\n",
       "            "
      ],
      "text/plain": [
       "<IPython.core.display.HTML object>"
      ]
     },
     "metadata": {},
     "output_type": "display_data"
    },
    {
     "data": {
      "text/html": [
       "<div><style>:root {\n",
       "  --font-color-primary: var(--jp-content-font-color0, rgba(0, 0, 0, 1));\n",
       "  --font-color-secondary: var(--jp-content-font-color2, rgba(0, 0, 0, 0.6));\n",
       "  --font-color-accent: rgba(123, 31, 162, 1);\n",
       "  --border-color: var(--jp-border-color2, #e0e0e0);\n",
       "  --background-color: var(--jp-layout-color0, white);\n",
       "  --background-color-row-even: var(--jp-layout-color1, white);\n",
       "  --background-color-row-odd: var(--jp-layout-color2, #eeeeee);\n",
       "}\n",
       "\n",
       "html[theme=\"dark\"],\n",
       "body[data-theme=\"dark\"],\n",
       "body.vscode-dark {\n",
       "  --font-color-primary: rgba(255, 255, 255, 1);\n",
       "  --font-color-secondary: rgba(255, 255, 255, 0.6);\n",
       "  --font-color-accent: rgb(173, 132, 190);\n",
       "  --border-color: #2e2e2e;\n",
       "  --background-color: #111111;\n",
       "  --background-color-row-even: #111111;\n",
       "  --background-color-row-odd: #313131;\n",
       "}\n",
       "\n",
       ".ee {\n",
       "  padding: 1em;\n",
       "  line-height: 1.5em;\n",
       "  min-width: 300px;\n",
       "  max-width: 1200px;\n",
       "  overflow-y: scroll;\n",
       "  max-height: 600px;\n",
       "  border: 1px solid var(--border-color);\n",
       "  font-family: monospace;\n",
       "}\n",
       "\n",
       ".ee li {\n",
       "  list-style-type: none;\n",
       "}\n",
       "\n",
       ".ee ul {\n",
       "  padding-left: 1.5em !important;\n",
       "  margin: 0;\n",
       "}\n",
       "\n",
       ".ee > ul {\n",
       "  padding-left: 0 !important;\n",
       "}\n",
       "\n",
       ".ee-open,\n",
       ".ee-shut {\n",
       "  color: var(--font-color-secondary);\n",
       "  cursor: pointer;\n",
       "  margin: 0;\n",
       "}\n",
       "\n",
       ".ee-open:hover,\n",
       ".ee-shut:hover {\n",
       "  color: var(--font-color-primary);\n",
       "}\n",
       "\n",
       ".ee-k {\n",
       "  color: var(--font-color-accent);\n",
       "  margin-right: 6px;\n",
       "}\n",
       "\n",
       ".ee-v {\n",
       "  color: var(--font-color-primary);\n",
       "}\n",
       "\n",
       ".ee-toggle {\n",
       "  display: none;\n",
       "}\n",
       "\n",
       ".ee-shut + ul {\n",
       "  display: none;\n",
       "}\n",
       "\n",
       ".ee-open + ul {\n",
       "  display: block;\n",
       "}\n",
       "\n",
       ".ee-shut::before {\n",
       "  display: inline-block;\n",
       "  content: \"▼\";\n",
       "  margin-right: 6px;\n",
       "  transform: rotate(-90deg);\n",
       "  transition: transform 0.2s;\n",
       "}\n",
       "\n",
       ".ee-open::before {\n",
       "  transform: rotate(0deg);\n",
       "  display: inline-block;\n",
       "  content: \"▼\";\n",
       "  margin-right: 6px;\n",
       "  transition: transform 0.2s;\n",
       "}\n",
       "</style><div class='ee'><ul><li><label class='ee-shut'>FeatureCollection (10 elements, 0 columns)<input type='checkbox' class='ee-toggle'></label><ul><li><span class='ee-k'>type:</span><span class='ee-v'>FeatureCollection</span></li><li><label class='ee-shut'>columns: Object (0 properties)<input type='checkbox' class='ee-toggle'></label><ul></ul></li><li><label class='ee-shut'>features: List (10 elements)<input type='checkbox' class='ee-toggle'></label><ul><li><label class='ee-shut'>0: Feature (Polygon, 1 property)<input type='checkbox' class='ee-toggle'></label><ul><li><span class='ee-k'>type:</span><span class='ee-v'>Feature</span></li><li><span class='ee-k'>id:</span><span class='ee-v'>0_000000000000000010c3</span></li><li><label class='ee-shut'>geometry: Polygon (5 vertices)<input type='checkbox' class='ee-toggle'></label><ul><li><span class='ee-k'>type:</span><span class='ee-v'>Polygon</span></li><li><label class='ee-shut'>coordinates: List (1 element)<input type='checkbox' class='ee-toggle'></label><ul><li><label class='ee-shut'>0: List (5 elements)<input type='checkbox' class='ee-toggle'></label><ul><li><label class='ee-shut'>0: [-106.06092344293033, 36.61137499975308]<input type='checkbox' class='ee-toggle'></label><ul><li><span class='ee-k'>0:</span><span class='ee-v'>-106.06092344293033</span></li><li><span class='ee-k'>1:</span><span class='ee-v'>36.61137499975308</span></li></ul></li><li><label class='ee-shut'>1: [-106.0567125077608, 36.611728936257116]<input type='checkbox' class='ee-toggle'></label><ul><li><span class='ee-k'>0:</span><span class='ee-v'>-106.0567125077608</span></li><li><span class='ee-k'>1:</span><span class='ee-v'>36.611728936257116</span></li></ul></li><li><label class='ee-shut'>2: [-106.05715926724355, 36.615055587226124]<input type='checkbox' class='ee-toggle'></label><ul><li><span class='ee-k'>0:</span><span class='ee-v'>-106.05715926724355</span></li><li><span class='ee-k'>1:</span><span class='ee-v'>36.615055587226124</span></li></ul></li><li><label class='ee-shut'>3: [-106.0613703915177, 36.61470165731582]<input type='checkbox' class='ee-toggle'></label><ul><li><span class='ee-k'>0:</span><span class='ee-v'>-106.0613703915177</span></li><li><span class='ee-k'>1:</span><span class='ee-v'>36.61470165731582</span></li></ul></li><li><label class='ee-shut'>4: [-106.06092344293033, 36.61137499975308]<input type='checkbox' class='ee-toggle'></label><ul><li><span class='ee-k'>0:</span><span class='ee-v'>-106.06092344293033</span></li><li><span class='ee-k'>1:</span><span class='ee-v'>36.61137499975308</span></li></ul></li></ul></li></ul></li></ul></li><li><label class='ee-shut'>properties: Object (1 property)<input type='checkbox' class='ee-toggle'></label><ul><li><span class='ee-k'>grid_index:</span><span class='ee-v'>1766660</span></li></ul></li></ul></li><li><label class='ee-shut'>1: Feature (Polygon, 1 property)<input type='checkbox' class='ee-toggle'></label><ul><li><span class='ee-k'>type:</span><span class='ee-v'>Feature</span></li><li><span class='ee-k'>id:</span><span class='ee-v'>0_000000000000000010c4</span></li><li><label class='ee-shut'>geometry: Polygon (5 vertices)<input type='checkbox' class='ee-toggle'></label><ul><li><span class='ee-k'>type:</span><span class='ee-v'>Polygon</span></li><li><label class='ee-shut'>coordinates: List (1 element)<input type='checkbox' class='ee-toggle'></label><ul><li><label class='ee-shut'>0: List (5 elements)<input type='checkbox' class='ee-toggle'></label><ul><li><label class='ee-shut'>0: [-106.05715926724355, 36.615055587226124]<input type='checkbox' class='ee-toggle'></label><ul><li><span class='ee-k'>0:</span><span class='ee-v'>-106.05715926724355</span></li><li><span class='ee-k'>1:</span><span class='ee-v'>36.615055587226124</span></li></ul></li><li><label class='ee-shut'>1: [-106.05760656591558, 36.618386580757914]<input type='checkbox' class='ee-toggle'></label><ul><li><span class='ee-k'>0:</span><span class='ee-v'>-106.05760656591558</span></li><li><span class='ee-k'>1:</span><span class='ee-v'>36.618386580757914</span></li></ul></li><li><label class='ee-shut'>2: [-106.06181787930613, 36.61803265737334]<input type='checkbox' class='ee-toggle'></label><ul><li><span class='ee-k'>0:</span><span class='ee-v'>-106.06181787930613</span></li><li><span class='ee-k'>1:</span><span class='ee-v'>36.61803265737334</span></li></ul></li><li><label class='ee-shut'>3: [-106.0613703915177, 36.61470165731582]<input type='checkbox' class='ee-toggle'></label><ul><li><span class='ee-k'>0:</span><span class='ee-v'>-106.0613703915177</span></li><li><span class='ee-k'>1:</span><span class='ee-v'>36.61470165731582</span></li></ul></li><li><label class='ee-shut'>4: [-106.05715926724355, 36.615055587226124]<input type='checkbox' class='ee-toggle'></label><ul><li><span class='ee-k'>0:</span><span class='ee-v'>-106.05715926724355</span></li><li><span class='ee-k'>1:</span><span class='ee-v'>36.615055587226124</span></li></ul></li></ul></li></ul></li></ul></li><li><label class='ee-shut'>properties: Object (1 property)<input type='checkbox' class='ee-toggle'></label><ul><li><span class='ee-k'>grid_index:</span><span class='ee-v'>1766661</span></li></ul></li></ul></li><li><label class='ee-shut'>2: Feature (Polygon, 1 property)<input type='checkbox' class='ee-toggle'></label><ul><li><span class='ee-k'>type:</span><span class='ee-v'>Feature</span></li><li><span class='ee-k'>id:</span><span class='ee-v'>0_000000000000000010c5</span></li><li><label class='ee-shut'>geometry: Polygon (5 vertices)<input type='checkbox' class='ee-toggle'></label><ul><li><span class='ee-k'>type:</span><span class='ee-v'>Polygon</span></li><li><label class='ee-shut'>coordinates: List (1 element)<input type='checkbox' class='ee-toggle'></label><ul><li><label class='ee-shut'>0: List (5 elements)<input type='checkbox' class='ee-toggle'></label><ul><li><label class='ee-shut'>0: [-106.05760656591558, 36.618386580757914]<input type='checkbox' class='ee-toggle'></label><ul><li><span class='ee-k'>0:</span><span class='ee-v'>-106.05760656591558</span></li><li><span class='ee-k'>1:</span><span class='ee-v'>36.618386580757914</span></li></ul></li><li><label class='ee-shut'>1: [-106.05805341715488, 36.62171322447694]<input type='checkbox' class='ee-toggle'></label><ul><li><span class='ee-k'>0:</span><span class='ee-v'>-106.05805341715488</span></li><li><span class='ee-k'>1:</span><span class='ee-v'>36.62171322447694</span></li></ul></li><li><label class='ee-shut'>2: [-106.06226491965212, 36.62135930767039]<input type='checkbox' class='ee-toggle'></label><ul><li><span class='ee-k'>0:</span><span class='ee-v'>-106.06226491965212</span></li><li><span class='ee-k'>1:</span><span class='ee-v'>36.62135930767039</span></li></ul></li><li><label class='ee-shut'>3: [-106.06181787930613, 36.61803265737334]<input type='checkbox' class='ee-toggle'></label><ul><li><span class='ee-k'>0:</span><span class='ee-v'>-106.06181787930613</span></li><li><span class='ee-k'>1:</span><span class='ee-v'>36.61803265737334</span></li></ul></li><li><label class='ee-shut'>4: [-106.05760656591558, 36.618386580757914]<input type='checkbox' class='ee-toggle'></label><ul><li><span class='ee-k'>0:</span><span class='ee-v'>-106.05760656591558</span></li><li><span class='ee-k'>1:</span><span class='ee-v'>36.618386580757914</span></li></ul></li></ul></li></ul></li></ul></li><li><label class='ee-shut'>properties: Object (1 property)<input type='checkbox' class='ee-toggle'></label><ul><li><span class='ee-k'>grid_index:</span><span class='ee-v'>1766662</span></li></ul></li></ul></li><li><label class='ee-shut'>3: Feature (Polygon, 1 property)<input type='checkbox' class='ee-toggle'></label><ul><li><span class='ee-k'>type:</span><span class='ee-v'>Feature</span></li><li><span class='ee-k'>id:</span><span class='ee-v'>0_000000000000000010c6</span></li><li><label class='ee-shut'>geometry: Polygon (5 vertices)<input type='checkbox' class='ee-toggle'></label><ul><li><span class='ee-k'>type:</span><span class='ee-v'>Polygon</span></li><li><label class='ee-shut'>coordinates: List (1 element)<input type='checkbox' class='ee-toggle'></label><ul><li><label class='ee-shut'>0: List (5 elements)<input type='checkbox' class='ee-toggle'></label><ul><li><label class='ee-shut'>0: [-106.05805341715488, 36.62171322447694]<input type='checkbox' class='ee-toggle'></label><ul><li><span class='ee-k'>0:</span><span class='ee-v'>-106.05805341715488</span></li><li><span class='ee-k'>1:</span><span class='ee-v'>36.62171322447694</span></li></ul></li><li><label class='ee-shut'>1: [-106.05850080758621, 36.62504421026174]<input type='checkbox' class='ee-toggle'></label><ul><li><span class='ee-k'>0:</span><span class='ee-v'>-106.05850080758621</span></li><li><span class='ee-k'>1:</span><span class='ee-v'>36.62504421026174</span></li></ul></li><li><label class='ee-shut'>2: [-106.0627124992019, 36.6246902999652]<input type='checkbox' class='ee-toggle'></label><ul><li><span class='ee-k'>0:</span><span class='ee-v'>-106.0627124992019</span></li><li><span class='ee-k'>1:</span><span class='ee-v'>36.6246902999652</span></li></ul></li><li><label class='ee-shut'>3: [-106.06226491965212, 36.62135930767039]<input type='checkbox' class='ee-toggle'></label><ul><li><span class='ee-k'>0:</span><span class='ee-v'>-106.06226491965212</span></li><li><span class='ee-k'>1:</span><span class='ee-v'>36.62135930767039</span></li></ul></li><li><label class='ee-shut'>4: [-106.05805341715488, 36.62171322447694]<input type='checkbox' class='ee-toggle'></label><ul><li><span class='ee-k'>0:</span><span class='ee-v'>-106.05805341715488</span></li><li><span class='ee-k'>1:</span><span class='ee-v'>36.62171322447694</span></li></ul></li></ul></li></ul></li></ul></li><li><label class='ee-shut'>properties: Object (1 property)<input type='checkbox' class='ee-toggle'></label><ul><li><span class='ee-k'>grid_index:</span><span class='ee-v'>1766663</span></li></ul></li></ul></li><li><label class='ee-shut'>4: Feature (Polygon, 1 property)<input type='checkbox' class='ee-toggle'></label><ul><li><span class='ee-k'>type:</span><span class='ee-v'>Feature</span></li><li><span class='ee-k'>id:</span><span class='ee-v'>0_000000000000000010c7</span></li><li><label class='ee-shut'>geometry: Polygon (5 vertices)<input type='checkbox' class='ee-toggle'></label><ul><li><span class='ee-k'>type:</span><span class='ee-v'>Polygon</span></li><li><label class='ee-shut'>coordinates: List (1 element)<input type='checkbox' class='ee-toggle'></label><ul><li><label class='ee-shut'>0: List (5 elements)<input type='checkbox' class='ee-toggle'></label><ul><li><label class='ee-shut'>0: [-106.0567125077608, 36.611728936257116]<input type='checkbox' class='ee-toggle'></label><ul><li><span class='ee-k'>0:</span><span class='ee-v'>-106.0567125077608</span></li><li><span class='ee-k'>1:</span><span class='ee-v'>36.611728936257116</span></li></ul></li><li><label class='ee-shut'>1: [-106.05626530084713, 36.60839785488621]<input type='checkbox' class='ee-toggle'></label><ul><li><span class='ee-k'>0:</span><span class='ee-v'>-106.05626530084713</span></li><li><span class='ee-k'>1:</span><span class='ee-v'>36.60839785488621</span></li></ul></li><li><label class='ee-shut'>2: [-106.05206002782579, 36.608751124589936]<input type='checkbox' class='ee-toggle'></label><ul><li><span class='ee-k'>0:</span><span class='ee-v'>-106.05206002782579</span></li><li><span class='ee-k'>1:</span><span class='ee-v'>36.608751124589936</span></li></ul></li><li><label class='ee-shut'>3: [-106.05250713532878, 36.61208218698229]<input type='checkbox' class='ee-toggle'></label><ul><li><span class='ee-k'>0:</span><span class='ee-v'>-106.05250713532878</span></li><li><span class='ee-k'>1:</span><span class='ee-v'>36.61208218698229</span></li></ul></li><li><label class='ee-shut'>4: [-106.0567125077608, 36.611728936257116]<input type='checkbox' class='ee-toggle'></label><ul><li><span class='ee-k'>0:</span><span class='ee-v'>-106.0567125077608</span></li><li><span class='ee-k'>1:</span><span class='ee-v'>36.611728936257116</span></li></ul></li></ul></li></ul></li></ul></li><li><label class='ee-shut'>properties: Object (1 property)<input type='checkbox' class='ee-toggle'></label><ul><li><span class='ee-k'>grid_index:</span><span class='ee-v'>1768909</span></li></ul></li></ul></li><li><label class='ee-shut'>5: Feature (Polygon, 1 property)<input type='checkbox' class='ee-toggle'></label><ul><li><span class='ee-k'>type:</span><span class='ee-v'>Feature</span></li><li><span class='ee-k'>id:</span><span class='ee-v'>0_000000000000000010c8</span></li><li><label class='ee-shut'>geometry: Polygon (5 vertices)<input type='checkbox' class='ee-toggle'></label><ul><li><span class='ee-k'>type:</span><span class='ee-v'>Polygon</span></li><li><label class='ee-shut'>coordinates: List (1 element)<input type='checkbox' class='ee-toggle'></label><ul><li><label class='ee-shut'>0: List (5 elements)<input type='checkbox' class='ee-toggle'></label><ul><li><label class='ee-shut'>0: [-106.0567125077608, 36.611728936257116]<input type='checkbox' class='ee-toggle'></label><ul><li><span class='ee-k'>0:</span><span class='ee-v'>-106.0567125077608</span></li><li><span class='ee-k'>1:</span><span class='ee-v'>36.611728936257116</span></li></ul></li><li><label class='ee-shut'>1: [-106.05250713532878, 36.61208218698229]<input type='checkbox' class='ee-toggle'></label><ul><li><span class='ee-k'>0:</span><span class='ee-v'>-106.05250713532878</span></li><li><span class='ee-k'>1:</span><span class='ee-v'>36.61208218698229</span></li></ul></li><li><label class='ee-shut'>2: [-106.05295370572007, 36.61540883127349]<input type='checkbox' class='ee-toggle'></label><ul><li><span class='ee-k'>0:</span><span class='ee-v'>-106.05295370572007</span></li><li><span class='ee-k'>1:</span><span class='ee-v'>36.61540883127349</span></li></ul></li><li><label class='ee-shut'>3: [-106.05715926724355, 36.615055587226124]<input type='checkbox' class='ee-toggle'></label><ul><li><span class='ee-k'>0:</span><span class='ee-v'>-106.05715926724355</span></li><li><span class='ee-k'>1:</span><span class='ee-v'>36.615055587226124</span></li></ul></li><li><label class='ee-shut'>4: [-106.0567125077608, 36.611728936257116]<input type='checkbox' class='ee-toggle'></label><ul><li><span class='ee-k'>0:</span><span class='ee-v'>-106.0567125077608</span></li><li><span class='ee-k'>1:</span><span class='ee-v'>36.611728936257116</span></li></ul></li></ul></li></ul></li></ul></li><li><label class='ee-shut'>properties: Object (1 property)<input type='checkbox' class='ee-toggle'></label><ul><li><span class='ee-k'>grid_index:</span><span class='ee-v'>1768910</span></li></ul></li></ul></li><li><label class='ee-shut'>6: Feature (Polygon, 1 property)<input type='checkbox' class='ee-toggle'></label><ul><li><span class='ee-k'>type:</span><span class='ee-v'>Feature</span></li><li><span class='ee-k'>id:</span><span class='ee-v'>0_000000000000000010cb</span></li><li><label class='ee-shut'>geometry: Polygon (5 vertices)<input type='checkbox' class='ee-toggle'></label><ul><li><span class='ee-k'>type:</span><span class='ee-v'>Polygon</span></li><li><label class='ee-shut'>coordinates: List (1 element)<input type='checkbox' class='ee-toggle'></label><ul><li><label class='ee-shut'>0: List (5 elements)<input type='checkbox' class='ee-toggle'></label><ul><li><label class='ee-shut'>0: [-106.05805341715488, 36.62171322447694]<input type='checkbox' class='ee-toggle'></label><ul><li><span class='ee-k'>0:</span><span class='ee-v'>-106.05805341715488</span></li><li><span class='ee-k'>1:</span><span class='ee-v'>36.62171322447694</span></li></ul></li><li><label class='ee-shut'>1: [-106.05384747743469, 36.62206653550475]<input type='checkbox' class='ee-toggle'></label><ul><li><span class='ee-k'>0:</span><span class='ee-v'>-106.05384747743469</span></li><li><span class='ee-k'>1:</span><span class='ee-v'>36.62206653550475</span></li></ul></li><li><label class='ee-shut'>2: [-106.05429467876074, 36.625397594940516]<input type='checkbox' class='ee-toggle'></label><ul><li><span class='ee-k'>0:</span><span class='ee-v'>-106.05429467876074</span></li><li><span class='ee-k'>1:</span><span class='ee-v'>36.625397594940516</span></li></ul></li><li><label class='ee-shut'>3: [-106.05850080758621, 36.62504421026174]<input type='checkbox' class='ee-toggle'></label><ul><li><span class='ee-k'>0:</span><span class='ee-v'>-106.05850080758621</span></li><li><span class='ee-k'>1:</span><span class='ee-v'>36.62504421026174</span></li></ul></li><li><label class='ee-shut'>4: [-106.05805341715488, 36.62171322447694]<input type='checkbox' class='ee-toggle'></label><ul><li><span class='ee-k'>0:</span><span class='ee-v'>-106.05805341715488</span></li><li><span class='ee-k'>1:</span><span class='ee-v'>36.62171322447694</span></li></ul></li></ul></li></ul></li></ul></li><li><label class='ee-shut'>properties: Object (1 property)<input type='checkbox' class='ee-toggle'></label><ul><li><span class='ee-k'>grid_index:</span><span class='ee-v'>1768913</span></li></ul></li></ul></li><li><label class='ee-shut'>7: Feature (Polygon, 1 property)<input type='checkbox' class='ee-toggle'></label><ul><li><span class='ee-k'>type:</span><span class='ee-v'>Feature</span></li><li><span class='ee-k'>id:</span><span class='ee-v'>0_000000000000000010cc</span></li><li><label class='ee-shut'>geometry: Polygon (5 vertices)<input type='checkbox' class='ee-toggle'></label><ul><li><span class='ee-k'>type:</span><span class='ee-v'>Polygon</span></li><li><label class='ee-shut'>coordinates: List (1 element)<input type='checkbox' class='ee-toggle'></label><ul><li><label class='ee-shut'>0: List (5 elements)<input type='checkbox' class='ee-toggle'></label><ul><li><label class='ee-shut'>0: [-106.05206002782579, 36.608751124589936]<input type='checkbox' class='ee-toggle'></label><ul><li><span class='ee-k'>0:</span><span class='ee-v'>-106.05206002782579</span></li><li><span class='ee-k'>1:</span><span class='ee-v'>36.608751124589936</span></li></ul></li><li><label class='ee-shut'>1: [-106.04784919586787, 36.60910475907025]<input type='checkbox' class='ee-toggle'></label><ul><li><span class='ee-k'>0:</span><span class='ee-v'>-106.04784919586787</span></li><li><span class='ee-k'>1:</span><span class='ee-v'>36.60910475907025</span></li></ul></li><li><label class='ee-shut'>2: [-106.04829611425507, 36.61243581488217]<input type='checkbox' class='ee-toggle'></label><ul><li><span class='ee-k'>0:</span><span class='ee-v'>-106.04829611425507</span></li><li><span class='ee-k'>1:</span><span class='ee-v'>36.61243581488217</span></li></ul></li><li><label class='ee-shut'>3: [-106.05250713532878, 36.61208218698229]<input type='checkbox' class='ee-toggle'></label><ul><li><span class='ee-k'>0:</span><span class='ee-v'>-106.05250713532878</span></li><li><span class='ee-k'>1:</span><span class='ee-v'>36.61208218698229</span></li></ul></li><li><label class='ee-shut'>4: [-106.05206002782579, 36.608751124589936]<input type='checkbox' class='ee-toggle'></label><ul><li><span class='ee-k'>0:</span><span class='ee-v'>-106.05206002782579</span></li><li><span class='ee-k'>1:</span><span class='ee-v'>36.608751124589936</span></li></ul></li></ul></li></ul></li></ul></li><li><label class='ee-shut'>properties: Object (1 property)<input type='checkbox' class='ee-toggle'></label><ul><li><span class='ee-k'>grid_index:</span><span class='ee-v'>1771159</span></li></ul></li></ul></li><li><label class='ee-shut'>8: Feature (Polygon, 1 property)<input type='checkbox' class='ee-toggle'></label><ul><li><span class='ee-k'>type:</span><span class='ee-v'>Feature</span></li><li><span class='ee-k'>id:</span><span class='ee-v'>0_000000000000000010cd</span></li><li><label class='ee-shut'>geometry: Polygon (5 vertices)<input type='checkbox' class='ee-toggle'></label><ul><li><span class='ee-k'>type:</span><span class='ee-v'>Polygon</span></li><li><label class='ee-shut'>coordinates: List (1 element)<input type='checkbox' class='ee-toggle'></label><ul><li><label class='ee-shut'>0: List (5 elements)<input type='checkbox' class='ee-toggle'></label><ul><li><label class='ee-shut'>0: [-106.05250713532878, 36.61208218698229]<input type='checkbox' class='ee-toggle'></label><ul><li><span class='ee-k'>0:</span><span class='ee-v'>-106.05250713532878</span></li><li><span class='ee-k'>1:</span><span class='ee-v'>36.61208218698229</span></li></ul></li><li><label class='ee-shut'>1: [-106.04829611425507, 36.61243581488217]<input type='checkbox' class='ee-toggle'></label><ul><li><span class='ee-k'>0:</span><span class='ee-v'>-106.04829611425507</span></li><li><span class='ee-k'>1:</span><span class='ee-v'>36.61243581488217</span></li></ul></li><li><label class='ee-shut'>2: [-106.0487424955422, 36.61576245253628]<input type='checkbox' class='ee-toggle'></label><ul><li><span class='ee-k'>0:</span><span class='ee-v'>-106.0487424955422</span></li><li><span class='ee-k'>1:</span><span class='ee-v'>36.61576245253628</span></li></ul></li><li><label class='ee-shut'>3: [-106.05295370572007, 36.61540883127349]<input type='checkbox' class='ee-toggle'></label><ul><li><span class='ee-k'>0:</span><span class='ee-v'>-106.05295370572007</span></li><li><span class='ee-k'>1:</span><span class='ee-v'>36.61540883127349</span></li></ul></li><li><label class='ee-shut'>4: [-106.05250713532878, 36.61208218698229]<input type='checkbox' class='ee-toggle'></label><ul><li><span class='ee-k'>0:</span><span class='ee-v'>-106.05250713532878</span></li><li><span class='ee-k'>1:</span><span class='ee-v'>36.61208218698229</span></li></ul></li></ul></li></ul></li></ul></li><li><label class='ee-shut'>properties: Object (1 property)<input type='checkbox' class='ee-toggle'></label><ul><li><span class='ee-k'>grid_index:</span><span class='ee-v'>1771160</span></li></ul></li></ul></li><li><label class='ee-shut'>9: Feature (Polygon, 1 property)<input type='checkbox' class='ee-toggle'></label><ul><li><span class='ee-k'>type:</span><span class='ee-v'>Feature</span></li><li><span class='ee-k'>id:</span><span class='ee-v'>0_000000000000000010d0</span></li><li><label class='ee-shut'>geometry: Polygon (5 vertices)<input type='checkbox' class='ee-toggle'></label><ul><li><span class='ee-k'>type:</span><span class='ee-v'>Polygon</span></li><li><label class='ee-shut'>coordinates: List (1 element)<input type='checkbox' class='ee-toggle'></label><ul><li><label class='ee-shut'>0: List (5 elements)<input type='checkbox' class='ee-toggle'></label><ul><li><label class='ee-shut'>0: [-106.05384747743469, 36.62206653550475]<input type='checkbox' class='ee-toggle'></label><ul><li><span class='ee-k'>0:</span><span class='ee-v'>-106.05384747743469</span></li><li><span class='ee-k'>1:</span><span class='ee-v'>36.62206653550475</span></li></ul></li><li><label class='ee-shut'>1: [-106.04963588903466, 36.62242022383095]<input type='checkbox' class='ee-toggle'></label><ul><li><span class='ee-k'>0:</span><span class='ee-v'>-106.04963588903466</span></li><li><span class='ee-k'>1:</span><span class='ee-v'>36.62242022383095</span></li></ul></li><li><label class='ee-shut'>2: [-106.05008290124273, 36.625751276710425]<input type='checkbox' class='ee-toggle'></label><ul><li><span class='ee-k'>0:</span><span class='ee-v'>-106.05008290124273</span></li><li><span class='ee-k'>1:</span><span class='ee-v'>36.625751276710425</span></li></ul></li><li><label class='ee-shut'>3: [-106.05429467876074, 36.625397594940516]<input type='checkbox' class='ee-toggle'></label><ul><li><span class='ee-k'>0:</span><span class='ee-v'>-106.05429467876074</span></li><li><span class='ee-k'>1:</span><span class='ee-v'>36.625397594940516</span></li></ul></li><li><label class='ee-shut'>4: [-106.05384747743469, 36.62206653550475]<input type='checkbox' class='ee-toggle'></label><ul><li><span class='ee-k'>0:</span><span class='ee-v'>-106.05384747743469</span></li><li><span class='ee-k'>1:</span><span class='ee-v'>36.62206653550475</span></li></ul></li></ul></li></ul></li></ul></li><li><label class='ee-shut'>properties: Object (1 property)<input type='checkbox' class='ee-toggle'></label><ul><li><span class='ee-k'>grid_index:</span><span class='ee-v'>1771163</span></li></ul></li></ul></li></ul></li></ul></li></ul></div><script>function toggleHeader() {\n",
       "    const parent = this.parentElement;\n",
       "    parent.className = parent.className === \"ee-open\" ? \"ee-shut\" : \"ee-open\";\n",
       "}\n",
       "\n",
       "for (let c of document.getElementsByClassName(\"ee-toggle\")) {\n",
       "    c.onclick = toggleHeader;\n",
       "}</script></div>"
      ],
      "text/plain": [
       "<ee.featurecollection.FeatureCollection at 0x13fef3070>"
      ]
     },
     "execution_count": 6,
     "metadata": {},
     "output_type": "execute_result"
    }
   ],
   "source": [
    "sample = results_fc.limit(10)\n",
    "sample"
   ]
  },
  {
   "cell_type": "code",
   "execution_count": 6,
   "id": "fecbc5e1-5e21-4192-baf1-a7feda3e46bb",
   "metadata": {},
   "outputs": [
    {
     "data": {
      "text/html": [
       "\n",
       "            <style>\n",
       "                .geemap-dark {\n",
       "                    --jp-widgets-color: white;\n",
       "                    --jp-widgets-label-color: white;\n",
       "                    --jp-ui-font-color1: white;\n",
       "                    --jp-layout-color2: #454545;\n",
       "                    background-color: #383838;\n",
       "                }\n",
       "\n",
       "                .geemap-dark .jupyter-button {\n",
       "                    --jp-layout-color3: #383838;\n",
       "                }\n",
       "\n",
       "                .geemap-colab {\n",
       "                    background-color: var(--colab-primary-surface-color, white);\n",
       "                }\n",
       "\n",
       "                .geemap-colab .jupyter-button {\n",
       "                    --jp-layout-color3: var(--colab-primary-surface-color, white);\n",
       "                }\n",
       "            </style>\n",
       "            "
      ],
      "text/plain": [
       "<IPython.core.display.HTML object>"
      ]
     },
     "metadata": {},
     "output_type": "display_data"
    },
    {
     "name": "stdout",
     "output_type": "stream",
     "text": [
      "Export to Earth Engine Asset started!\n",
      "Waiting for export to finish..\n",
      "\tPatience young padawan.\n",
      "Export completed successfully !!!!\n"
     ]
    }
   ],
   "source": [
    "# Remove geometry\n",
    "def remove_geometry(ftr):\n",
    "    return ftr.setGeometry(None)\n",
    "results_fc = results_fc.map(remove_geometry)\n",
    "\n",
    "# Export the table. \n",
    "export_task = ee.batch.Export.table.toDrive(\n",
    "    collection=results_fc,\n",
    "    description='gridstats_mod15_lai_fpar',\n",
    "    fileNamePrefix='gridstats_mod15_lai_fpar',\n",
    "    fileFormat='CSV', \n",
    "    folder='LAI'\n",
    ")\n",
    "\n",
    "export_task.start() # Start the export task\n",
    "print(\"Export to Earth Engine Asset started!\")\n",
    "# Monitor the task until it's finished\n",
    "monitor_export(export_task, 30)"
   ]
  },
  {
   "cell_type": "code",
   "execution_count": null,
   "id": "e9a90c3a-ba44-4b20-a022-57d944094737",
   "metadata": {},
   "outputs": [],
   "source": []
  },
  {
   "cell_type": "code",
   "execution_count": null,
   "id": "92a5b7aa-733b-4581-917e-95809ad7cfea",
   "metadata": {},
   "outputs": [],
   "source": []
  },
  {
   "cell_type": "code",
   "execution_count": null,
   "id": "e4cc5362-e7d7-4260-9afe-cffab177a22a",
   "metadata": {},
   "outputs": [],
   "source": [
    "# create a training dataset for LAI over TreeMap species"
   ]
  }
 ],
 "metadata": {
  "kernelspec": {
   "display_name": "aspen-fire",
   "language": "python",
   "name": "aspen-fire"
  },
  "language_info": {
   "codemirror_mode": {
    "name": "ipython",
    "version": 3
   },
   "file_extension": ".py",
   "mimetype": "text/x-python",
   "name": "python",
   "nbconvert_exporter": "python",
   "pygments_lexer": "ipython3",
   "version": "3.10.12"
  }
 },
 "nbformat": 4,
 "nbformat_minor": 5
}
