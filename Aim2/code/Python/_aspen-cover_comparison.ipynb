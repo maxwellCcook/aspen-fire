{
 "cells": [
  {
   "cell_type": "code",
   "execution_count": 1,
   "id": "9a13eb16-d35b-4c11-a9c9-8eee1903c61c",
   "metadata": {},
   "outputs": [],
   "source": [
    "\"\"\"\n",
    "Comparison of USFS TreeMap (ca. 2016) and Sentinel-based aspen cover within VIIRS AFD.\n",
    "Author: maxwell.cook@colorado.edu\n",
    "\"\"\"\n",
    "\n",
    "import os, sys, time\n",
    "import pandas as pd\n",
    "import geopandas as gpd\n",
    "\n",
    "# Projection information\n",
    "geog = 'EPSG:4326'  # Geographic projection\n",
    "prj = 'EPSG:5070'  # Projected coordinate system- WGS 84 NAD83 UTM Zone 13N\n",
    "\n",
    "# File path information\n",
    "maindir = '/Users/max/Library/CloudStorage/OneDrive-Personal/mcook/'\n",
    "projdir = os.path.join(maindir, 'aspen-fire/Aim2/')"
   ]
  },
  {
   "cell_type": "code",
   "execution_count": null,
   "id": "9e3b3118-a106-4897-90e3-1b06130ace13",
   "metadata": {},
   "outputs": [],
   "source": []
  },
  {
   "cell_type": "code",
   "execution_count": null,
   "id": "08e396ba-47bd-4dcf-90df-7a76c0e80fba",
   "metadata": {},
   "outputs": [],
   "source": []
  },
  {
   "cell_type": "code",
   "execution_count": null,
   "id": "3aea6769-a087-497a-b163-83abfa4a772c",
   "metadata": {},
   "outputs": [],
   "source": [
    "# load the 10m aspen map, calculate the percent cover"
   ]
  },
  {
   "cell_type": "code",
   "execution_count": null,
   "id": "4dbfb03b-d3fc-4afa-ab70-52fc554f2fc5",
   "metadata": {},
   "outputs": [],
   "source": []
  },
  {
   "cell_type": "code",
   "execution_count": null,
   "id": "6251f39f-5ff3-4156-9260-cc72cd509df7",
   "metadata": {},
   "outputs": [],
   "source": []
  },
  {
   "cell_type": "code",
   "execution_count": null,
   "id": "27261689-0425-44e4-9264-59aff85ffb0e",
   "metadata": {},
   "outputs": [],
   "source": []
  },
  {
   "cell_type": "code",
   "execution_count": null,
   "id": "8143a31f-b444-4549-945c-3172af2ad27f",
   "metadata": {},
   "outputs": [],
   "source": [
    "# load the USFS treemap summaries"
   ]
  },
  {
   "cell_type": "code",
   "execution_count": null,
   "id": "f50a72ce-6e49-4a47-a8e7-535b856a6047",
   "metadata": {},
   "outputs": [],
   "source": []
  },
  {
   "cell_type": "code",
   "execution_count": null,
   "id": "11c4c2da-f22d-4c40-b429-447c059afca3",
   "metadata": {},
   "outputs": [],
   "source": []
  },
  {
   "cell_type": "code",
   "execution_count": null,
   "id": "224c72fd-603a-42d8-893b-56d165130244",
   "metadata": {},
   "outputs": [],
   "source": []
  },
  {
   "cell_type": "code",
   "execution_count": null,
   "id": "a9e18015-d16d-477e-bb60-e58ffb92dc3d",
   "metadata": {},
   "outputs": [],
   "source": [
    "# linear model between s2 aspen cover and USFS"
   ]
  }
 ],
 "metadata": {
  "kernelspec": {
   "display_name": "aspen-fire",
   "language": "python",
   "name": "aspen-fire"
  },
  "language_info": {
   "codemirror_mode": {
    "name": "ipython",
    "version": 3
   },
   "file_extension": ".py",
   "mimetype": "text/x-python",
   "name": "python",
   "nbconvert_exporter": "python",
   "pygments_lexer": "ipython3",
   "version": "3.10.12"
  }
 },
 "nbformat": 4,
 "nbformat_minor": 5
}
