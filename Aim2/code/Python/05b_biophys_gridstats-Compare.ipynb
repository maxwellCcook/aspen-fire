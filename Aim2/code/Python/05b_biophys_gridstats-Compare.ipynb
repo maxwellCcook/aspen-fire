{
 "cells": [
  {
   "cell_type": "code",
   "execution_count": 1,
   "id": "ba44202a-9fdb-4249-9cb3-039c1d0744f5",
   "metadata": {},
   "outputs": [
    {
     "name": "stdout",
     "output_type": "stream",
     "text": [
      "Ready to go !\n"
     ]
    }
   ],
   "source": [
    "\"\"\" \n",
    "Author: maxwell.cook@colorado.edu\n",
    "\"\"\"\n",
    "\n",
    "import os, sys, gc, time\n",
    "import geopandas as gpd\n",
    "import rasterio as rio\n",
    "import rioxarray as rxr\n",
    "import seaborn as sns\n",
    "import matplotlib.pyplot as plt\n",
    "\n",
    "# Custom functions\n",
    "sys.path.append(os.path.join(os.getcwd(),'code/'))\n",
    "from __functions import *\n",
    "\n",
    "proj = 'EPSG:5070'\n",
    "\n",
    "maindir = '/Users/max/Library/CloudStorage/OneDrive-Personal/mcook/'\n",
    "projdir = os.path.join(maindir, 'aspen-fire/Aim2/data/')\n",
    "\n",
    "print(\"Ready to go !\")"
   ]
  },
  {
   "cell_type": "code",
   "execution_count": null,
   "id": "483fd294-58ce-4132-8696-5863b67d13ef",
   "metadata": {},
   "outputs": [],
   "source": []
  },
  {
   "cell_type": "code",
   "execution_count": null,
   "id": "4109cee8-c8b5-4827-966d-1e10bec4a7e6",
   "metadata": {},
   "outputs": [],
   "source": []
  },
  {
   "cell_type": "code",
   "execution_count": null,
   "id": "6d0733bb-365e-4f8a-8a8b-308cec8eb580",
   "metadata": {},
   "outputs": [],
   "source": [
    "# Load the VIIRS active fire detections gridded data"
   ]
  },
  {
   "cell_type": "code",
   "execution_count": 2,
   "id": "6c49dc55-bb2a-4669-a6c7-71a29a08ff19",
   "metadata": {},
   "outputs": [
    {
     "data": {
      "text/plain": [
       "Index(['grid_index', 'grid_area', 'afd_count', 'unique_days', 'frp_csum',\n",
       "       'frp_max', 'frp_min', 'frp_p90', 'frp_first', 'day_max_frp',\n",
       "       'dt_max_frp', 'first_obs_date', 'last_obs_date', 'day_count',\n",
       "       'night_count', 'frp_max_day', 'frp_max_night', 'frp_p90_day',\n",
       "       'frp_p90_night', 'frp_first_day', 'frp_first_night', 'Fire_ID',\n",
       "       'Fire_Name', 'geometry'],\n",
       "      dtype='object')"
      ]
     },
     "execution_count": 2,
     "metadata": {},
     "output_type": "execute_result"
    }
   ],
   "source": [
    "fp = os.path.join(projdir,f'spatial/mod/VIIRS/viirs_snpp_jpss1_afd_latlon_aspenfires_pixar_gridstats.gpkg')\n",
    "grid = gpd.read_file(fp)\n",
    "grid.columns"
   ]
  },
  {
   "cell_type": "code",
   "execution_count": 3,
   "id": "b7e2897a-5019-44ce-a26a-cf7cf46bccd8",
   "metadata": {},
   "outputs": [
    {
     "name": "stdout",
     "output_type": "stream",
     "text": [
      "There are [58] fire events in the Southern Rockies (2018-2023)\n",
      "\tWith 49047 gridcells.\n"
     ]
    }
   ],
   "source": [
    "print(f\"There are [{len(grid['Fire_ID'].unique())}] fire events in the Southern Rockies (2018-2023)\")\n",
    "print(f\"\\tWith {len(grid)} gridcells.\")"
   ]
  },
  {
   "cell_type": "code",
   "execution_count": 4,
   "id": "81dd3bf0-8fe9-495e-8b04-7d4498e171a1",
   "metadata": {},
   "outputs": [],
   "source": [
    "bounds = grid.total_bounds # for cropping the raster data"
   ]
  },
  {
   "cell_type": "code",
   "execution_count": null,
   "id": "ca3946b2-91d8-4b86-ae67-daa4faeb0209",
   "metadata": {},
   "outputs": [],
   "source": []
  },
  {
   "cell_type": "code",
   "execution_count": null,
   "id": "c8386c65-a459-4828-affc-762e09a98797",
   "metadata": {},
   "outputs": [],
   "source": []
  },
  {
   "cell_type": "markdown",
   "id": "997a84d4-4abf-4149-92ad-7080a83097df",
   "metadata": {},
   "source": [
    "# USFS TreeMap (2016) Summaries\n",
    "\n",
    "From Earth Engine, the forest type percent cover for each gridcell was calculated. From this, we also gathered the \"all forest\" percent. Then, within a mask for each species, the TreeMap metrics (e.g., BALIVE) were summarized. Finally, within each species mask the Sentinel-2 LAI and MNDWI averages were gathered."
   ]
  },
  {
   "cell_type": "code",
   "execution_count": 10,
   "id": "0da5cf35-c5f5-4c03-b7c2-198dd1d4eea1",
   "metadata": {},
   "outputs": [
    {
     "data": {
      "text/html": [
       "<div>\n",
       "<style scoped>\n",
       "    .dataframe tbody tr th:only-of-type {\n",
       "        vertical-align: middle;\n",
       "    }\n",
       "\n",
       "    .dataframe tbody tr th {\n",
       "        vertical-align: top;\n",
       "    }\n",
       "\n",
       "    .dataframe thead th {\n",
       "        text-align: right;\n",
       "    }\n",
       "</style>\n",
       "<table border=\"1\" class=\"dataframe\">\n",
       "  <thead>\n",
       "    <tr style=\"text-align: right;\">\n",
       "      <th></th>\n",
       "      <th>grid_index</th>\n",
       "      <th>species_histogram</th>\n",
       "      <th>total_pixels</th>\n",
       "    </tr>\n",
       "  </thead>\n",
       "  <tbody>\n",
       "    <tr>\n",
       "      <th>0</th>\n",
       "      <td>919906</td>\n",
       "      <td>182:3.0941176470588236, 185:7.0, 221:41.768627...</td>\n",
       "      <td>196.949020</td>\n",
       "    </tr>\n",
       "    <tr>\n",
       "      <th>1</th>\n",
       "      <td>919907</td>\n",
       "      <td>182:9.227450980392156, 221:75.02745098039216, ...</td>\n",
       "      <td>197.176471</td>\n",
       "    </tr>\n",
       "    <tr>\n",
       "      <th>2</th>\n",
       "      <td>919908</td>\n",
       "      <td>182:15.611764705882354, 185:10.996078431372549...</td>\n",
       "      <td>196.960784</td>\n",
       "    </tr>\n",
       "    <tr>\n",
       "      <th>3</th>\n",
       "      <td>922166</td>\n",
       "      <td>182:8.36078431372549, 184:16.83137254901961, 1...</td>\n",
       "      <td>197.176471</td>\n",
       "    </tr>\n",
       "    <tr>\n",
       "      <th>4</th>\n",
       "      <td>922171</td>\n",
       "      <td>182:9.768627450980393, 184:2.0, 185:4.05098039...</td>\n",
       "      <td>197.466667</td>\n",
       "    </tr>\n",
       "  </tbody>\n",
       "</table>\n",
       "</div>"
      ],
      "text/plain": [
       "   grid_index                                  species_histogram  total_pixels\n",
       "0      919906  182:3.0941176470588236, 185:7.0, 221:41.768627...    196.949020\n",
       "1      919907  182:9.227450980392156, 221:75.02745098039216, ...    197.176471\n",
       "2      919908  182:15.611764705882354, 185:10.996078431372549...    196.960784\n",
       "3      922166  182:8.36078431372549, 184:16.83137254901961, 1...    197.176471\n",
       "4      922171  182:9.768627450980393, 184:2.0, 185:4.05098039...    197.466667"
      ]
     },
     "execution_count": 10,
     "metadata": {},
     "output_type": "execute_result"
    }
   ],
   "source": [
    "# Load the summary table (from GEE reductions)\n",
    "fp = os.path.join(projdir,'earth-engine/exports/treemap/gridstats_fortypcd.csv')\n",
    "fortypcd = pd.read_csv(fp)\n",
    "fortypcd.drop(columns=['system:index','.geo'], inplace=True) # drop the GEE id and .geo columns\n",
    "fortypcd.head()"
   ]
  },
  {
   "cell_type": "code",
   "execution_count": 11,
   "id": "3c5e35db-d66a-4852-8d8a-139f32cdcc1d",
   "metadata": {},
   "outputs": [
    {
     "name": "stdout",
     "output_type": "stream",
     "text": [
      "0    182:3.0941176470588236, 185:7.0, 221:41.768627...\n",
      "1    182:9.227450980392156, 221:75.02745098039216, ...\n",
      "2    182:15.611764705882354, 185:10.996078431372549...\n",
      "3    182:8.36078431372549, 184:16.83137254901961, 1...\n",
      "4    182:9.768627450980393, 184:2.0, 185:4.05098039...\n",
      "Name: species_histogram, dtype: object\n",
      "species_histogram\n",
      "<class 'str'>      48777\n",
      "<class 'float'>      270\n",
      "Name: count, dtype: int64\n"
     ]
    }
   ],
   "source": [
    "print(fortypcd['species_histogram'].head())\n",
    "print(fortypcd['species_histogram'].map(type).value_counts())"
   ]
  },
  {
   "cell_type": "code",
   "execution_count": 12,
   "id": "163526ed-82a8-4bcc-b320-32ee151af0e1",
   "metadata": {},
   "outputs": [
    {
     "name": "stdout",
     "output_type": "stream",
     "text": [
      "Adjusted DataFrame:\n"
     ]
    },
    {
     "data": {
      "text/html": [
       "<div>\n",
       "<style scoped>\n",
       "    .dataframe tbody tr th:only-of-type {\n",
       "        vertical-align: middle;\n",
       "    }\n",
       "\n",
       "    .dataframe tbody tr th {\n",
       "        vertical-align: top;\n",
       "    }\n",
       "\n",
       "    .dataframe thead th {\n",
       "        text-align: right;\n",
       "    }\n",
       "</style>\n",
       "<table border=\"1\" class=\"dataframe\">\n",
       "  <thead>\n",
       "    <tr style=\"text-align: right;\">\n",
       "      <th></th>\n",
       "      <th>grid_index</th>\n",
       "      <th>total_pixels</th>\n",
       "      <th>182</th>\n",
       "      <th>185</th>\n",
       "      <th>221</th>\n",
       "      <th>225</th>\n",
       "      <th>369</th>\n",
       "      <th>371</th>\n",
       "      <th>901</th>\n",
       "      <th>971</th>\n",
       "      <th>...</th>\n",
       "      <th>367</th>\n",
       "      <th>801</th>\n",
       "      <th>995</th>\n",
       "      <th>171</th>\n",
       "      <th>923</th>\n",
       "      <th>263</th>\n",
       "      <th>805</th>\n",
       "      <th>976</th>\n",
       "      <th>507</th>\n",
       "      <th>924</th>\n",
       "    </tr>\n",
       "  </thead>\n",
       "  <tbody>\n",
       "    <tr>\n",
       "      <th>0</th>\n",
       "      <td>919906</td>\n",
       "      <td>196.949020</td>\n",
       "      <td>3.094118</td>\n",
       "      <td>7.000000</td>\n",
       "      <td>41.768627</td>\n",
       "      <td>36.423529</td>\n",
       "      <td>2.674510</td>\n",
       "      <td>11.607843</td>\n",
       "      <td>0.494118</td>\n",
       "      <td>4.000000</td>\n",
       "      <td>...</td>\n",
       "      <td>NaN</td>\n",
       "      <td>NaN</td>\n",
       "      <td>NaN</td>\n",
       "      <td>NaN</td>\n",
       "      <td>NaN</td>\n",
       "      <td>NaN</td>\n",
       "      <td>NaN</td>\n",
       "      <td>NaN</td>\n",
       "      <td>NaN</td>\n",
       "      <td>NaN</td>\n",
       "    </tr>\n",
       "    <tr>\n",
       "      <th>1</th>\n",
       "      <td>919907</td>\n",
       "      <td>197.176471</td>\n",
       "      <td>9.227451</td>\n",
       "      <td>NaN</td>\n",
       "      <td>75.027451</td>\n",
       "      <td>32.870588</td>\n",
       "      <td>12.109804</td>\n",
       "      <td>6.827451</td>\n",
       "      <td>NaN</td>\n",
       "      <td>1.000000</td>\n",
       "      <td>...</td>\n",
       "      <td>NaN</td>\n",
       "      <td>NaN</td>\n",
       "      <td>NaN</td>\n",
       "      <td>NaN</td>\n",
       "      <td>NaN</td>\n",
       "      <td>NaN</td>\n",
       "      <td>NaN</td>\n",
       "      <td>NaN</td>\n",
       "      <td>NaN</td>\n",
       "      <td>NaN</td>\n",
       "    </tr>\n",
       "    <tr>\n",
       "      <th>2</th>\n",
       "      <td>919908</td>\n",
       "      <td>196.960784</td>\n",
       "      <td>15.611765</td>\n",
       "      <td>10.996078</td>\n",
       "      <td>37.329412</td>\n",
       "      <td>15.466667</td>\n",
       "      <td>12.000000</td>\n",
       "      <td>2.000000</td>\n",
       "      <td>NaN</td>\n",
       "      <td>NaN</td>\n",
       "      <td>...</td>\n",
       "      <td>NaN</td>\n",
       "      <td>NaN</td>\n",
       "      <td>NaN</td>\n",
       "      <td>NaN</td>\n",
       "      <td>NaN</td>\n",
       "      <td>NaN</td>\n",
       "      <td>NaN</td>\n",
       "      <td>NaN</td>\n",
       "      <td>NaN</td>\n",
       "      <td>NaN</td>\n",
       "    </tr>\n",
       "    <tr>\n",
       "      <th>3</th>\n",
       "      <td>922166</td>\n",
       "      <td>197.176471</td>\n",
       "      <td>8.360784</td>\n",
       "      <td>46.721569</td>\n",
       "      <td>44.247059</td>\n",
       "      <td>9.231373</td>\n",
       "      <td>20.058824</td>\n",
       "      <td>NaN</td>\n",
       "      <td>NaN</td>\n",
       "      <td>12.411765</td>\n",
       "      <td>...</td>\n",
       "      <td>NaN</td>\n",
       "      <td>NaN</td>\n",
       "      <td>NaN</td>\n",
       "      <td>NaN</td>\n",
       "      <td>NaN</td>\n",
       "      <td>NaN</td>\n",
       "      <td>NaN</td>\n",
       "      <td>NaN</td>\n",
       "      <td>NaN</td>\n",
       "      <td>NaN</td>\n",
       "    </tr>\n",
       "    <tr>\n",
       "      <th>4</th>\n",
       "      <td>922171</td>\n",
       "      <td>197.466667</td>\n",
       "      <td>9.768627</td>\n",
       "      <td>4.050980</td>\n",
       "      <td>72.717647</td>\n",
       "      <td>34.400000</td>\n",
       "      <td>8.690196</td>\n",
       "      <td>9.603922</td>\n",
       "      <td>1.000000</td>\n",
       "      <td>1.996078</td>\n",
       "      <td>...</td>\n",
       "      <td>NaN</td>\n",
       "      <td>NaN</td>\n",
       "      <td>NaN</td>\n",
       "      <td>NaN</td>\n",
       "      <td>NaN</td>\n",
       "      <td>NaN</td>\n",
       "      <td>NaN</td>\n",
       "      <td>NaN</td>\n",
       "      <td>NaN</td>\n",
       "      <td>NaN</td>\n",
       "    </tr>\n",
       "  </tbody>\n",
       "</table>\n",
       "<p>5 rows × 59 columns</p>\n",
       "</div>"
      ],
      "text/plain": [
       "   grid_index  total_pixels        182        185        221        225  \\\n",
       "0      919906    196.949020   3.094118   7.000000  41.768627  36.423529   \n",
       "1      919907    197.176471   9.227451        NaN  75.027451  32.870588   \n",
       "2      919908    196.960784  15.611765  10.996078  37.329412  15.466667   \n",
       "3      922166    197.176471   8.360784  46.721569  44.247059   9.231373   \n",
       "4      922171    197.466667   9.768627   4.050980  72.717647  34.400000   \n",
       "\n",
       "         369        371       901        971  ...  367  801  995  171  923  \\\n",
       "0   2.674510  11.607843  0.494118   4.000000  ...  NaN  NaN  NaN  NaN  NaN   \n",
       "1  12.109804   6.827451       NaN   1.000000  ...  NaN  NaN  NaN  NaN  NaN   \n",
       "2  12.000000   2.000000       NaN        NaN  ...  NaN  NaN  NaN  NaN  NaN   \n",
       "3  20.058824        NaN       NaN  12.411765  ...  NaN  NaN  NaN  NaN  NaN   \n",
       "4   8.690196   9.603922  1.000000   1.996078  ...  NaN  NaN  NaN  NaN  NaN   \n",
       "\n",
       "   263  805  976  507  924  \n",
       "0  NaN  NaN  NaN  NaN  NaN  \n",
       "1  NaN  NaN  NaN  NaN  NaN  \n",
       "2  NaN  NaN  NaN  NaN  NaN  \n",
       "3  NaN  NaN  NaN  NaN  NaN  \n",
       "4  NaN  NaN  NaN  NaN  NaN  \n",
       "\n",
       "[5 rows x 59 columns]"
      ]
     },
     "execution_count": 12,
     "metadata": {},
     "output_type": "execute_result"
    }
   ],
   "source": [
    "# unpack histogram dictionary into columns\n",
    "def parse_histogram(hist_str):\n",
    "    # Convert float or NaN to string, then parse\n",
    "    if isinstance(hist_str, float) or pd.isna(hist_str):\n",
    "        hist_str = str(int(hist_str)) if not pd.isna(hist_str) else \"\"\n",
    "    kv_pairs = hist_str.split(', ')  # Split the key-value pairs\n",
    "    # Convert key-value pairs to a dictionary\n",
    "    return {int(kv.split(':')[0]): float(kv.split(':')[1]) for kv in kv_pairs if ':' in kv}\n",
    "\n",
    "# parse the dictionary\n",
    "fortypcd['species_histogram'] = fortypcd['species_histogram'].apply(parse_histogram)\n",
    "\n",
    "hist_df = fortypcd['species_histogram'].apply(pd.Series)\n",
    "fortypcd = pd.concat([fortypcd.drop(columns=['species_histogram']), hist_df], axis=1).reset_index(drop=True)\n",
    "print(\"Adjusted DataFrame:\")\n",
    "fortypcd.head()"
   ]
  },
  {
   "cell_type": "code",
   "execution_count": 14,
   "id": "893c2a20-bfc4-41a8-bd56-5051cfa046c7",
   "metadata": {},
   "outputs": [
    {
     "name": "stdout",
     "output_type": "stream",
     "text": [
      "Dropped NA values.\n",
      "Index(['grid_index', 'total_pixels', 'FORTYPCD', 'count'], dtype='object')\n"
     ]
    },
    {
     "data": {
      "text/html": [
       "<div>\n",
       "<style scoped>\n",
       "    .dataframe tbody tr th:only-of-type {\n",
       "        vertical-align: middle;\n",
       "    }\n",
       "\n",
       "    .dataframe tbody tr th {\n",
       "        vertical-align: top;\n",
       "    }\n",
       "\n",
       "    .dataframe thead th {\n",
       "        text-align: right;\n",
       "    }\n",
       "</style>\n",
       "<table border=\"1\" class=\"dataframe\">\n",
       "  <thead>\n",
       "    <tr style=\"text-align: right;\">\n",
       "      <th></th>\n",
       "      <th>grid_index</th>\n",
       "      <th>total_pixels</th>\n",
       "      <th>FORTYPCD</th>\n",
       "      <th>count</th>\n",
       "    </tr>\n",
       "  </thead>\n",
       "  <tbody>\n",
       "    <tr>\n",
       "      <th>83805</th>\n",
       "      <td>184440</td>\n",
       "      <td>199.756863</td>\n",
       "      <td>185</td>\n",
       "      <td>123.662745</td>\n",
       "    </tr>\n",
       "    <tr>\n",
       "      <th>476181</th>\n",
       "      <td>184440</td>\n",
       "      <td>199.756863</td>\n",
       "      <td>184</td>\n",
       "      <td>15.968627</td>\n",
       "    </tr>\n",
       "    <tr>\n",
       "      <th>83806</th>\n",
       "      <td>184441</td>\n",
       "      <td>199.482353</td>\n",
       "      <td>185</td>\n",
       "      <td>114.670588</td>\n",
       "    </tr>\n",
       "  </tbody>\n",
       "</table>\n",
       "</div>"
      ],
      "text/plain": [
       "        grid_index  total_pixels  FORTYPCD       count\n",
       "83805       184440    199.756863       185  123.662745\n",
       "476181      184440    199.756863       184   15.968627\n",
       "83806       184441    199.482353       185  114.670588"
      ]
     },
     "execution_count": 14,
     "metadata": {},
     "output_type": "execute_result"
    }
   ],
   "source": [
    "# Pivot longer and join to get species name\n",
    "fortypcd_l = fortypcd.melt(id_vars=['grid_index','total_pixels'], var_name='FORTYPCD', value_name='count')\n",
    "fortypcd_l['FORTYPCD'] = fortypcd_l['FORTYPCD'].astype(int)\n",
    "\n",
    "# Drop 'NaN' counts (species not present in the AFD)\n",
    "fortypcd_l.dropna(subset=['count'], inplace=True)\n",
    "fortypcd_l.sort_values(by=['grid_index'], inplace=True)\n",
    "print(\"Dropped NA values.\")\n",
    "print(fortypcd_l.columns)\n",
    "fortypcd_l.head(3)"
   ]
  },
  {
   "cell_type": "code",
   "execution_count": 15,
   "id": "b91921b9-7f43-4887-8a2a-eea5fd5977ac",
   "metadata": {},
   "outputs": [
    {
     "name": "stdout",
     "output_type": "stream",
     "text": [
      "Index(['FORTYPCD', 'SpeciesName'], dtype='object')\n"
     ]
    },
    {
     "data": {
      "text/html": [
       "<div>\n",
       "<style scoped>\n",
       "    .dataframe tbody tr th:only-of-type {\n",
       "        vertical-align: middle;\n",
       "    }\n",
       "\n",
       "    .dataframe tbody tr th {\n",
       "        vertical-align: top;\n",
       "    }\n",
       "\n",
       "    .dataframe thead th {\n",
       "        text-align: right;\n",
       "    }\n",
       "</style>\n",
       "<table border=\"1\" class=\"dataframe\">\n",
       "  <thead>\n",
       "    <tr style=\"text-align: right;\">\n",
       "      <th></th>\n",
       "      <th>grid_index</th>\n",
       "      <th>total_pixels</th>\n",
       "      <th>FORTYPCD</th>\n",
       "      <th>count</th>\n",
       "      <th>SpeciesName</th>\n",
       "    </tr>\n",
       "  </thead>\n",
       "  <tbody>\n",
       "    <tr>\n",
       "      <th>0</th>\n",
       "      <td>184440</td>\n",
       "      <td>199.756863</td>\n",
       "      <td>185</td>\n",
       "      <td>123.662745</td>\n",
       "      <td>Pinyon / juniper woodland</td>\n",
       "    </tr>\n",
       "    <tr>\n",
       "      <th>1</th>\n",
       "      <td>184440</td>\n",
       "      <td>199.756863</td>\n",
       "      <td>184</td>\n",
       "      <td>15.968627</td>\n",
       "      <td>Juniper woodland</td>\n",
       "    </tr>\n",
       "    <tr>\n",
       "      <th>2</th>\n",
       "      <td>184441</td>\n",
       "      <td>199.482353</td>\n",
       "      <td>185</td>\n",
       "      <td>114.670588</td>\n",
       "      <td>Pinyon / juniper woodland</td>\n",
       "    </tr>\n",
       "  </tbody>\n",
       "</table>\n",
       "</div>"
      ],
      "text/plain": [
       "   grid_index  total_pixels  FORTYPCD       count                SpeciesName\n",
       "0      184440    199.756863       185  123.662745  Pinyon / juniper woodland\n",
       "1      184440    199.756863       184   15.968627           Juniper woodland\n",
       "2      184441    199.482353       185  114.670588  Pinyon / juniper woodland"
      ]
     },
     "execution_count": 15,
     "metadata": {},
     "output_type": "execute_result"
    }
   ],
   "source": [
    "# load the species lookup table\n",
    "fp = os.path.join(projdir,'tabular/mod/treemap_fortypcd_species_mapping.csv')\n",
    "species_df = pd.read_csv(fp)\n",
    "species_df = species_df[['FORTYPCD','SpeciesName']]\n",
    "species_df = species_df[species_df['FORTYPCD'].isin(fortypcd_l['FORTYPCD'].unique())]\n",
    "print(species_df.columns)\n",
    "\n",
    "# merge with grid summary to get forest species name\n",
    "fortypcd_l_ = fortypcd_l.merge(species_df, on='FORTYPCD', how='left')\n",
    "fortypcd_l_.head(3)"
   ]
  },
  {
   "cell_type": "code",
   "execution_count": 16,
   "id": "ea35d728-1c2b-403a-8306-3a03a9a9e2b1",
   "metadata": {},
   "outputs": [
    {
     "data": {
      "text/plain": [
       "array(['Pinyon / juniper woodland', 'Juniper woodland',\n",
       "       'Mesquite woodland', 'Other exotic hardwoods', 'Cottonwood',\n",
       "       'Deciduous oak woodland', 'Rocky Mountain juniper',\n",
       "       'Ponderosa pine', 'Western juniper', 'Other hardwoods',\n",
       "       'Sugarberry / hackberry / elm / green ash', 'Nonstocked',\n",
       "       'Douglas-fir', 'Cottonwood / willow', 'Bur oak',\n",
       "       'Western redcedar', 'Grand fir', 'Aspen', 'White fir',\n",
       "       'Cercocarpus (mountain brush) woodland', 'Lodgepole pine',\n",
       "       'Engelmann spruce', 'Western larch',\n",
       "       'Intermountain maple woodland', 'Engelmann spruce / subalpine fir',\n",
       "       'Subalpine fir', 'Blue spruce', 'Limber pine',\n",
       "       'Foxtail pine / bristlecone pine', 'Balsam fir', 'Paper birch',\n",
       "       'Miscellaneous western softwoods', 'Noble fir',\n",
       "       'Sugar maple / beech / yellow birch', 'Hard maple / basswood',\n",
       "       'California mixed conifer', 'Jeffrey pine',\n",
       "       'Evergreen oak woodland', 'Eastern redcedar / hardwood',\n",
       "       'Elm / ash / black locust', 'Willow', 'Red alder',\n",
       "       'Southwestern white pine', 'California black oak', 'White spruce',\n",
       "       'Sugar pine', 'Mountain hemlock', 'Canyon live oak',\n",
       "       'California white oak (valley oak)', 'Pin cherry',\n",
       "       'Whitebark pine', 'Eastern redcedar', 'Oregon white oak',\n",
       "       'Red maple / upland', 'Blue oak',\n",
       "       'Miscellaneous woodland hardwoods', 'Sassafras / persimmon'],\n",
       "      dtype=object)"
      ]
     },
     "execution_count": 16,
     "metadata": {},
     "output_type": "execute_result"
    }
   ],
   "source": [
    "# print a unqiue list of tree species\n",
    "fortypcd_l_['SpeciesName'].unique()"
   ]
  },
  {
   "cell_type": "code",
   "execution_count": 17,
   "id": "c88c2cb3-a328-4034-b47e-766603f52526",
   "metadata": {},
   "outputs": [
    {
     "name": "stdout",
     "output_type": "stream",
     "text": [
      "Index(['grid_index', 'FORTYPCD', 'SpeciesName', 'count', 'forest_pix',\n",
      "       'total_pixels', 'spp_pct', 'forest_pct'],\n",
      "      dtype='object')\n"
     ]
    },
    {
     "data": {
      "text/html": [
       "<div>\n",
       "<style scoped>\n",
       "    .dataframe tbody tr th:only-of-type {\n",
       "        vertical-align: middle;\n",
       "    }\n",
       "\n",
       "    .dataframe tbody tr th {\n",
       "        vertical-align: top;\n",
       "    }\n",
       "\n",
       "    .dataframe thead th {\n",
       "        text-align: right;\n",
       "    }\n",
       "</style>\n",
       "<table border=\"1\" class=\"dataframe\">\n",
       "  <thead>\n",
       "    <tr style=\"text-align: right;\">\n",
       "      <th></th>\n",
       "      <th>grid_index</th>\n",
       "      <th>FORTYPCD</th>\n",
       "      <th>SpeciesName</th>\n",
       "      <th>count</th>\n",
       "      <th>forest_pix</th>\n",
       "      <th>total_pixels</th>\n",
       "      <th>spp_pct</th>\n",
       "      <th>forest_pct</th>\n",
       "    </tr>\n",
       "  </thead>\n",
       "  <tbody>\n",
       "    <tr>\n",
       "      <th>0</th>\n",
       "      <td>184440</td>\n",
       "      <td>185</td>\n",
       "      <td>Pinyon / juniper woodland</td>\n",
       "      <td>123.662745</td>\n",
       "      <td>139.631373</td>\n",
       "      <td>199.756863</td>\n",
       "      <td>88.563725</td>\n",
       "      <td>69.900664</td>\n",
       "    </tr>\n",
       "    <tr>\n",
       "      <th>1</th>\n",
       "      <td>184440</td>\n",
       "      <td>184</td>\n",
       "      <td>Juniper woodland</td>\n",
       "      <td>15.968627</td>\n",
       "      <td>139.631373</td>\n",
       "      <td>199.756863</td>\n",
       "      <td>11.436275</td>\n",
       "      <td>69.900664</td>\n",
       "    </tr>\n",
       "    <tr>\n",
       "      <th>2</th>\n",
       "      <td>184441</td>\n",
       "      <td>185</td>\n",
       "      <td>Pinyon / juniper woodland</td>\n",
       "      <td>114.670588</td>\n",
       "      <td>118.909804</td>\n",
       "      <td>199.482353</td>\n",
       "      <td>96.434932</td>\n",
       "      <td>59.609185</td>\n",
       "    </tr>\n",
       "  </tbody>\n",
       "</table>\n",
       "</div>"
      ],
      "text/plain": [
       "   grid_index  FORTYPCD                SpeciesName       count  forest_pix  \\\n",
       "0      184440       185  Pinyon / juniper woodland  123.662745  139.631373   \n",
       "1      184440       184           Juniper woodland   15.968627  139.631373   \n",
       "2      184441       185  Pinyon / juniper woodland  114.670588  118.909804   \n",
       "\n",
       "   total_pixels    spp_pct  forest_pct  \n",
       "0    199.756863  88.563725   69.900664  \n",
       "1    199.756863  11.436275   69.900664  \n",
       "2    199.482353  96.434932   59.609185  "
      ]
     },
     "execution_count": 17,
     "metadata": {},
     "output_type": "execute_result"
    }
   ],
   "source": [
    "# calculate the total forest count and percent cover for each species\n",
    "forest_count = fortypcd_l_.groupby('grid_index')['count'].sum().reset_index()\n",
    "forest_count = forest_count.rename(columns={'count': 'forest_pix'})\n",
    "\n",
    "# Join back to the data frame, calculate percent cover\n",
    "fortypcd_l_pct = fortypcd_l_.merge(forest_count, on='grid_index', how='left')\n",
    "\n",
    "fortypcd_l_pct['spp_pct'] = (fortypcd_l_pct['count'] / fortypcd_l_pct['forest_pix']) * 100\n",
    "fortypcd_l_pct['forest_pct'] = (fortypcd_l_pct['forest_pix'] / fortypcd_l_pct['total_pixels']) * 100\n",
    "\n",
    "# reshape the columns\n",
    "cols = ['grid_index', 'FORTYPCD', 'SpeciesName', 'count', 'forest_pix', 'total_pixels', 'spp_pct', 'forest_pct']\n",
    "fortypcd_l_pct = fortypcd_l_pct[cols]\n",
    "\n",
    "# check the results\n",
    "fortypcd_l_pct = fortypcd_l_pct.sort_values(by=['grid_index'])\n",
    "print(fortypcd_l_pct.columns)\n",
    "fortypcd_l_pct.head(3)"
   ]
  },
  {
   "cell_type": "code",
   "execution_count": null,
   "id": "71dcc4b3-e6c2-498f-8ac4-8eb483223cc0",
   "metadata": {},
   "outputs": [],
   "source": []
  },
  {
   "cell_type": "code",
   "execution_count": null,
   "id": "9376551a-8158-4976-9b6b-3a3aee2ffaa0",
   "metadata": {},
   "outputs": [],
   "source": []
  },
  {
   "cell_type": "code",
   "execution_count": null,
   "id": "1773e40b-4516-4618-895e-2125251f86a8",
   "metadata": {},
   "outputs": [],
   "source": [
    "# Create a histogram of the forest species (prevalence)"
   ]
  },
  {
   "cell_type": "code",
   "execution_count": 18,
   "id": "0d845fd8-b2d5-4f19-8b28-69a49825a8ea",
   "metadata": {},
   "outputs": [
    {
     "name": "stdout",
     "output_type": "stream",
     "text": [
      "\n",
      "\n",
      "Species making up 97% of the total: \n",
      "\n",
      "                         SpeciesName         count  fraction  c_fraction\n",
      "27                    Lodgepole pine  2.408028e+06  0.294627    0.294627\n",
      "40                    Ponderosa pine  1.613215e+06  0.197380    0.492007\n",
      "0                              Aspen  9.797278e+05  0.119872    0.611878\n",
      "18  Engelmann spruce / subalpine fir  9.040129e+05  0.110608    0.722486\n",
      "13                       Douglas-fir  4.746550e+05  0.058075    0.780561\n",
      "39         Pinyon / juniper woodland  3.094141e+05  0.037857    0.818418\n",
      "17                  Engelmann spruce  3.032830e+05  0.037107    0.855526\n",
      "46                     Subalpine fir  2.284919e+05  0.027956    0.883482\n",
      "21                         Grand fir  1.917080e+05  0.023456    0.906938\n",
      "53                         White fir  1.721483e+05  0.021063    0.928001\n",
      "12            Deciduous oak woodland  1.257371e+05  0.015384    0.943385\n",
      "43            Rocky Mountain juniper  1.201248e+05  0.014697    0.958082\n",
      "6           California mixed conifer  5.630795e+04  0.006889    0.964972\n",
      "\n",
      "\n"
     ]
    },
    {
     "data": {
      "image/png": "[encoded data removed]",
      "text/plain": [
       "<Figure size 600x400 with 1 Axes>"
      ]
     },
     "metadata": {},
     "output_type": "display_data"
    }
   ],
   "source": [
    "fortyp_df = fortypcd_l_pct.copy() # make a copy to work with\n",
    "fortyp_df = fortyp_df[fortyp_df['count'] > 0] # make sure there are some pixels\n",
    "\n",
    "# calculate the landscape fraction (prevalence)\n",
    "spp_prevalence = fortyp_df.groupby('SpeciesName')['count'].sum().reset_index()\n",
    "spp_prevalence['fraction'] = spp_prevalence['count'] / spp_prevalence['count'].sum()\n",
    "spp_prevalence = spp_prevalence.sort_values(by='fraction', ascending=False)\n",
    "\n",
    "# which species make up 97% of observations?\n",
    "spp_prevalence['c_fraction'] = spp_prevalence['fraction'].cumsum()\n",
    "top_species = spp_prevalence[spp_prevalence['c_fraction'] <= 0.97]\n",
    "print(f\"\\n\\nSpecies making up 97% of the total: \\n\\n{top_species}\\n\\n\")\n",
    "\n",
    "# plot it\n",
    "plt.figure(figsize=(6, 4))\n",
    "sns.barplot(data=top_species, x='SpeciesName', y='fraction', palette='viridis')\n",
    "plt.xlabel('Species')\n",
    "plt.ylabel('Fractional cover')\n",
    "plt.xticks(rotation=45, ha='right')\n",
    "plt.tight_layout()\n",
    "plt.show()"
   ]
  },
  {
   "cell_type": "code",
   "execution_count": null,
   "id": "f32a054d-599e-4460-aacd-cd47f8664753",
   "metadata": {},
   "outputs": [],
   "source": [
    "# perform a remap for some forest types\n",
    "# create a 'Spruce-fir' category\n",
    "# 'Pinon-juniper woodland' category"
   ]
  },
  {
   "cell_type": "code",
   "execution_count": 19,
   "id": "904f25d9-3399-42eb-b8bf-8ce202a906e1",
   "metadata": {},
   "outputs": [
    {
     "data": {
      "text/plain": [
       "array(['Pinon-juniper woodland', 'Cottonwood', 'Other exotic hardwoods',\n",
       "       'Mesquite woodland', 'Deciduous oak woodland', 'Ponderosa pine',\n",
       "       'Sugarberry / hackberry / elm / green ash', 'Other hardwoods',\n",
       "       'Nonstocked', 'Douglas-fir', 'Cottonwood / willow', 'Bur oak',\n",
       "       'Western redcedar', 'Spruce-fir', 'Aspen',\n",
       "       'Cercocarpus (mountain brush) woodland', 'Lodgepole pine',\n",
       "       'Western larch', 'Intermountain maple woodland', 'Blue spruce',\n",
       "       'Limber pine', 'Paper birch', 'Balsam fir',\n",
       "       'Foxtail pine / bristlecone pine',\n",
       "       'Miscellaneous western softwoods', 'Noble fir',\n",
       "       'Sugar maple / beech / yellow birch', 'Hard maple / basswood',\n",
       "       'California mixed conifer', 'Jeffrey pine',\n",
       "       'Evergreen oak woodland', 'Eastern redcedar / hardwood',\n",
       "       'Elm / ash / black locust', 'Willow', 'Red alder',\n",
       "       'Southwestern white pine', 'California black oak', 'White spruce',\n",
       "       'Sugar pine', 'Mountain hemlock', 'Canyon live oak',\n",
       "       'California white oak (valley oak)', 'Pin cherry',\n",
       "       'Whitebark pine', 'Eastern redcedar', 'Oregon white oak',\n",
       "       'Red maple / upland', 'Blue oak',\n",
       "       'Miscellaneous woodland hardwoods', 'Sassafras / persimmon'],\n",
       "      dtype=object)"
      ]
     },
     "execution_count": 19,
     "metadata": {},
     "output_type": "execute_result"
    }
   ],
   "source": [
    "spp_remap = {\n",
    "    'Engelmann spruce': 'Spruce-fir',\n",
    "    'Subalpine fir': 'Spruce-fir',\n",
    "    'White fir': 'Spruce-fir',\n",
    "    'Grand fir': 'Spruce-fir',\n",
    "    'Engelmann spruce / subalpine fir': 'Spruce-fir',\n",
    "    'Western juniper': 'Pinon-juniper woodland',\n",
    "    'Rocky Mountain juniper': 'Pinon-juniper woodland',\n",
    "    'Pinyon / juniper woodland': 'Pinon-juniper woodland',\n",
    "    'Juniper woodland': 'Pinon-juniper woodland'\n",
    "}\n",
    "\n",
    "# Add a new column for the merged categories\n",
    "fortyp_df['SpeciesName'] = fortyp_df['SpeciesName'].map(spp_remap).fillna(fortyp_df['SpeciesName'])\n",
    "fortyp_df['SpeciesName'].unique()"
   ]
  },
  {
   "cell_type": "code",
   "execution_count": 20,
   "id": "2c7b5d1d-acf7-4891-b45b-097c7f34d970",
   "metadata": {},
   "outputs": [
    {
     "name": "stdout",
     "output_type": "stream",
     "text": [
      "\n",
      "\n",
      "Species making up 97% of the total: \n",
      "\n",
      "               SpeciesName         count  fraction  c_fraction\n",
      "23          Lodgepole pine  2.408028e+06  0.294627    0.294627\n",
      "41              Spruce-fir  1.799644e+06  0.220190    0.514817\n",
      "36          Ponderosa pine  1.613215e+06  0.197380    0.712197\n",
      "0                    Aspen  9.797278e+05  0.119872    0.832068\n",
      "35  Pinon-juniper woodland  5.301839e+05  0.064869    0.896937\n",
      "13             Douglas-fir  4.746550e+05  0.058075    0.955012\n",
      "\n",
      "\n"
     ]
    },
    {
     "data": {
      "image/png": "[encoded data removed]",
      "text/plain": [
       "<Figure size 600x400 with 1 Axes>"
      ]
     },
     "metadata": {},
     "output_type": "display_data"
    }
   ],
   "source": [
    "# re-plot the dataframe\n",
    "# Calculate the total percent cover (prevalence)\n",
    "spp_prevalence = fortyp_df.groupby('SpeciesName')['count'].sum().reset_index()\n",
    "spp_prevalence['fraction'] = spp_prevalence['count'] / spp_prevalence['count'].sum()\n",
    "spp_prevalence = spp_prevalence.sort_values(by='fraction', ascending=False)\n",
    "\n",
    "# which species make up 97% of observations?\n",
    "spp_prevalence['c_fraction'] = spp_prevalence['fraction'].cumsum()\n",
    "top_species = spp_prevalence[spp_prevalence['c_fraction'] <= 0.97]\n",
    "print(f\"\\n\\nSpecies making up 97% of the total: \\n\\n{top_species}\\n\\n\")\n",
    "\n",
    "# plot it\n",
    "plt.figure(figsize=(6, 4))\n",
    "sns.barplot(data=top_species, x='SpeciesName', y='fraction', palette='viridis')\n",
    "plt.title('Burned area forest type fraction')\n",
    "plt.xlabel('Species')\n",
    "plt.ylabel('Fractional cover')\n",
    "plt.xticks(rotation=45, ha='right')\n",
    "plt.tight_layout()\n",
    "plt.show()"
   ]
  },
  {
   "cell_type": "code",
   "execution_count": null,
   "id": "edadf2dc-f8c9-4038-804e-393cbdc5913d",
   "metadata": {},
   "outputs": [],
   "source": []
  },
  {
   "cell_type": "code",
   "execution_count": null,
   "id": "2d9028ad-ee96-4a35-aa01-82ab9763d5aa",
   "metadata": {},
   "outputs": [],
   "source": []
  },
  {
   "cell_type": "code",
   "execution_count": null,
   "id": "a432dc1c-d06c-433d-98f0-edd0f2f21b02",
   "metadata": {},
   "outputs": [],
   "source": [
    "# join the forest type dataframe to our FRP gridcells"
   ]
  },
  {
   "cell_type": "code",
   "execution_count": 21,
   "id": "31f41b16-94ac-45cc-871d-8131ce3cd435",
   "metadata": {},
   "outputs": [
    {
     "data": {
      "text/plain": [
       "Index(['grid_index', 'grid_area', 'afd_count', 'unique_days', 'frp_csum',\n",
       "       'frp_max', 'frp_min', 'frp_p90', 'frp_first', 'day_max_frp',\n",
       "       'dt_max_frp', 'first_obs_date', 'last_obs_date', 'day_count',\n",
       "       'night_count', 'frp_max_day', 'frp_max_night', 'frp_p90_day',\n",
       "       'frp_p90_night', 'frp_first_day', 'frp_first_night', 'Fire_ID',\n",
       "       'Fire_Name', 'geometry', 'FORTYPCD', 'SpeciesName', 'count',\n",
       "       'forest_pix', 'total_pixels', 'spp_pct', 'forest_pct'],\n",
       "      dtype='object')"
      ]
     },
     "execution_count": 21,
     "metadata": {},
     "output_type": "execute_result"
    }
   ],
   "source": [
    "grid_ = grid.merge(fortyp_df, on='grid_index', how='left')\n",
    "grid_.columns"
   ]
  },
  {
   "cell_type": "code",
   "execution_count": 22,
   "id": "ca16e525-83aa-4890-90ae-4d872951f40d",
   "metadata": {},
   "outputs": [
    {
     "name": "stdout",
     "output_type": "stream",
     "text": [
      "41955/49047 [85.5%] gridcells are forested.\n"
     ]
    }
   ],
   "source": [
    "# subset the grids to predominantly forested plots (>50% forested)\n",
    "grid_forest = grid_[grid_['forest_pct'] > 50]\n",
    "print(f\"{len(grid_forest['grid_index'].unique())}/{len(grid)} [{round(len(grid_forest['grid_index'].unique())/len(grid)*100,1)}%] gridcells are forested.\")"
   ]
  },
  {
   "cell_type": "code",
   "execution_count": 23,
   "id": "6b3e4055-2253-4f1a-ab2b-7a0ef580b7c4",
   "metadata": {},
   "outputs": [
    {
     "name": "stdout",
     "output_type": "stream",
     "text": [
      "['Lodgepole pine' 'Spruce-fir' 'Ponderosa pine' 'Aspen'\n",
      " 'Pinon-juniper woodland' 'Douglas-fir']\n"
     ]
    },
    {
     "data": {
      "text/plain": [
       "41955"
      ]
     },
     "execution_count": 23,
     "metadata": {},
     "output_type": "execute_result"
    }
   ],
   "source": [
    "print(top_species['SpeciesName'].unique()) # check on our top species\n",
    "# subset columns in our forested gridcells to retain just our top species\n",
    "grid_forest = grid_forest[grid_forest['SpeciesName'].isin(top_species['SpeciesName'].unique())]\n",
    "len(grid_forest['grid_index'].unique())"
   ]
  },
  {
   "cell_type": "code",
   "execution_count": null,
   "id": "c5d0b54f-8e1a-48c8-83c5-47c91e3564e8",
   "metadata": {},
   "outputs": [],
   "source": []
  },
  {
   "cell_type": "code",
   "execution_count": null,
   "id": "d6807fcf-6732-4997-b0c1-0930695f5acd",
   "metadata": {},
   "outputs": [],
   "source": []
  },
  {
   "cell_type": "code",
   "execution_count": null,
   "id": "eac41b06-5d67-4aea-a047-f7c161c857f8",
   "metadata": {},
   "outputs": [],
   "source": []
  },
  {
   "cell_type": "code",
   "execution_count": null,
   "id": "38fbafed-c235-481d-8cb9-276ebdee70ba",
   "metadata": {},
   "outputs": [],
   "source": [
    "# Load the treemap metrics, apply the same remapping"
   ]
  },
  {
   "cell_type": "code",
   "execution_count": 24,
   "id": "1a9dc0bd-1f54-41c8-b527-ad9bdd0538b5",
   "metadata": {},
   "outputs": [
    {
     "data": {
      "text/plain": [
       "Index(['grid_index', 'species_metrics'], dtype='object')"
      ]
     },
     "execution_count": 24,
     "metadata": {},
     "output_type": "execute_result"
    }
   ],
   "source": [
    "ftyp_met = os.path.join(projdir,'earth-engine/exports/treemap/gridstats_fortypcd_metrics.csv')\n",
    "tm_stats = pd.read_csv(ftyp_met)\n",
    "tm_stats.drop(columns=['system:index','.geo'], inplace=True)\n",
    "tm_stats.columns"
   ]
  },
  {
   "cell_type": "code",
   "execution_count": 25,
   "id": "1018c100-7e4d-499d-9211-6257aa000d6c",
   "metadata": {},
   "outputs": [
    {
     "name": "stdout",
     "output_type": "stream",
     "text": [
      "Adjusted DataFrame:\n"
     ]
    },
    {
     "data": {
      "text/html": [
       "<div>\n",
       "<style scoped>\n",
       "    .dataframe tbody tr th:only-of-type {\n",
       "        vertical-align: middle;\n",
       "    }\n",
       "\n",
       "    .dataframe tbody tr th {\n",
       "        vertical-align: top;\n",
       "    }\n",
       "\n",
       "    .dataframe thead th {\n",
       "        text-align: right;\n",
       "    }\n",
       "</style>\n",
       "<table border=\"1\" class=\"dataframe\">\n",
       "  <thead>\n",
       "    <tr style=\"text-align: right;\">\n",
       "      <th></th>\n",
       "      <th>grid_index</th>\n",
       "      <th>182_BALIVE_mn</th>\n",
       "      <th>182_SDIPCT_RMRS_mn</th>\n",
       "      <th>182_STANDHT_mn</th>\n",
       "      <th>182_TPA_DEAD_mn</th>\n",
       "      <th>182_TPA_LIVE_mn</th>\n",
       "      <th>185_BALIVE_mn</th>\n",
       "      <th>185_SDIPCT_RMRS_mn</th>\n",
       "      <th>185_STANDHT_mn</th>\n",
       "      <th>185_TPA_DEAD_mn</th>\n",
       "      <th>...</th>\n",
       "      <th>976_BALIVE_mn</th>\n",
       "      <th>976_STANDHT_mn</th>\n",
       "      <th>976_TPA_DEAD_mn</th>\n",
       "      <th>976_TPA_LIVE_mn</th>\n",
       "      <th>507_BALIVE_mn</th>\n",
       "      <th>507_STANDHT_mn</th>\n",
       "      <th>507_TPA_LIVE_mn</th>\n",
       "      <th>924_BALIVE_mn</th>\n",
       "      <th>924_STANDHT_mn</th>\n",
       "      <th>924_TPA_LIVE_mn</th>\n",
       "    </tr>\n",
       "  </thead>\n",
       "  <tbody>\n",
       "    <tr>\n",
       "      <th>0</th>\n",
       "      <td>919906</td>\n",
       "      <td>113.513901</td>\n",
       "      <td>65.199997</td>\n",
       "      <td>29.0</td>\n",
       "      <td>12.036092</td>\n",
       "      <td>396.670441</td>\n",
       "      <td>44.991299</td>\n",
       "      <td>26.083333</td>\n",
       "      <td>20.285714</td>\n",
       "      <td>9.027069</td>\n",
       "      <td>...</td>\n",
       "      <td>NaN</td>\n",
       "      <td>NaN</td>\n",
       "      <td>NaN</td>\n",
       "      <td>NaN</td>\n",
       "      <td>NaN</td>\n",
       "      <td>NaN</td>\n",
       "      <td>NaN</td>\n",
       "      <td>NaN</td>\n",
       "      <td>NaN</td>\n",
       "      <td>NaN</td>\n",
       "    </tr>\n",
       "    <tr>\n",
       "      <th>1</th>\n",
       "      <td>919907</td>\n",
       "      <td>113.513901</td>\n",
       "      <td>65.199997</td>\n",
       "      <td>29.0</td>\n",
       "      <td>12.036092</td>\n",
       "      <td>396.670441</td>\n",
       "      <td>NaN</td>\n",
       "      <td>NaN</td>\n",
       "      <td>NaN</td>\n",
       "      <td>NaN</td>\n",
       "      <td>...</td>\n",
       "      <td>NaN</td>\n",
       "      <td>NaN</td>\n",
       "      <td>NaN</td>\n",
       "      <td>NaN</td>\n",
       "      <td>NaN</td>\n",
       "      <td>NaN</td>\n",
       "      <td>NaN</td>\n",
       "      <td>NaN</td>\n",
       "      <td>NaN</td>\n",
       "      <td>NaN</td>\n",
       "    </tr>\n",
       "    <tr>\n",
       "      <th>2</th>\n",
       "      <td>919908</td>\n",
       "      <td>63.252056</td>\n",
       "      <td>33.140844</td>\n",
       "      <td>29.0</td>\n",
       "      <td>12.036092</td>\n",
       "      <td>146.540987</td>\n",
       "      <td>52.111698</td>\n",
       "      <td>25.000000</td>\n",
       "      <td>30.000000</td>\n",
       "      <td>NaN</td>\n",
       "      <td>...</td>\n",
       "      <td>NaN</td>\n",
       "      <td>NaN</td>\n",
       "      <td>NaN</td>\n",
       "      <td>NaN</td>\n",
       "      <td>NaN</td>\n",
       "      <td>NaN</td>\n",
       "      <td>NaN</td>\n",
       "      <td>NaN</td>\n",
       "      <td>NaN</td>\n",
       "      <td>NaN</td>\n",
       "    </tr>\n",
       "  </tbody>\n",
       "</table>\n",
       "<p>3 rows × 258 columns</p>\n",
       "</div>"
      ],
      "text/plain": [
       "   grid_index  182_BALIVE_mn  182_SDIPCT_RMRS_mn  182_STANDHT_mn  \\\n",
       "0      919906     113.513901           65.199997            29.0   \n",
       "1      919907     113.513901           65.199997            29.0   \n",
       "2      919908      63.252056           33.140844            29.0   \n",
       "\n",
       "   182_TPA_DEAD_mn  182_TPA_LIVE_mn  185_BALIVE_mn  185_SDIPCT_RMRS_mn  \\\n",
       "0        12.036092       396.670441      44.991299           26.083333   \n",
       "1        12.036092       396.670441            NaN                 NaN   \n",
       "2        12.036092       146.540987      52.111698           25.000000   \n",
       "\n",
       "   185_STANDHT_mn  185_TPA_DEAD_mn  ...  976_BALIVE_mn  976_STANDHT_mn  \\\n",
       "0       20.285714         9.027069  ...            NaN             NaN   \n",
       "1             NaN              NaN  ...            NaN             NaN   \n",
       "2       30.000000              NaN  ...            NaN             NaN   \n",
       "\n",
       "   976_TPA_DEAD_mn  976_TPA_LIVE_mn  507_BALIVE_mn  507_STANDHT_mn  \\\n",
       "0              NaN              NaN            NaN             NaN   \n",
       "1              NaN              NaN            NaN             NaN   \n",
       "2              NaN              NaN            NaN             NaN   \n",
       "\n",
       "   507_TPA_LIVE_mn  924_BALIVE_mn  924_STANDHT_mn  924_TPA_LIVE_mn  \n",
       "0              NaN            NaN             NaN              NaN  \n",
       "1              NaN            NaN             NaN              NaN  \n",
       "2              NaN            NaN             NaN              NaN  \n",
       "\n",
       "[3 rows x 258 columns]"
      ]
     },
     "execution_count": 25,
     "metadata": {},
     "output_type": "execute_result"
    }
   ],
   "source": [
    "# unpack histogram dictionary into columns\n",
    "def parse_histogram(hist_str):\n",
    "    # Convert float or NaN to string, then parse\n",
    "    if isinstance(hist_str, float) or pd.isna(hist_str):\n",
    "        hist_str = str(int(hist_str)) if not pd.isna(hist_str) else \"\"\n",
    "    kv_pairs = hist_str.split(', ')  # Split the key-value pairs\n",
    "    # Convert key-value pairs to a dictionary\n",
    "    return {kv.split(':')[0]: float(kv.split(':')[1]) for kv in kv_pairs if ':' in kv}\n",
    "\n",
    "# parse the dictionary\n",
    "tm_stats['species_metrics'] = tm_stats['species_metrics'].apply(parse_histogram)\n",
    "hist_df = tm_stats['species_metrics'].apply(pd.Series)\n",
    "tm_stats = pd.concat([tm_stats.drop(columns=['species_metrics']), hist_df], axis=1).reset_index(drop=True)\n",
    "print(\"Adjusted DataFrame:\")\n",
    "tm_stats.head(3)"
   ]
  },
  {
   "cell_type": "code",
   "execution_count": null,
   "id": "cab61e79-847a-439b-899f-1ddcaa3d8b0d",
   "metadata": {},
   "outputs": [],
   "source": []
  },
  {
   "cell_type": "code",
   "execution_count": 26,
   "id": "2ffcc204-7752-4d71-bb43-996d39513f57",
   "metadata": {},
   "outputs": [
    {
     "name": "stdout",
     "output_type": "stream",
     "text": [
      "[257] total metrics columns selected for melting:\n",
      "\n"
     ]
    },
    {
     "data": {
      "text/html": [
       "<div>\n",
       "<style scoped>\n",
       "    .dataframe tbody tr th:only-of-type {\n",
       "        vertical-align: middle;\n",
       "    }\n",
       "\n",
       "    .dataframe tbody tr th {\n",
       "        vertical-align: top;\n",
       "    }\n",
       "\n",
       "    .dataframe thead th {\n",
       "        text-align: right;\n",
       "    }\n",
       "</style>\n",
       "<table border=\"1\" class=\"dataframe\">\n",
       "  <thead>\n",
       "    <tr style=\"text-align: right;\">\n",
       "      <th></th>\n",
       "      <th>grid_index</th>\n",
       "      <th>metric</th>\n",
       "      <th>value</th>\n",
       "    </tr>\n",
       "  </thead>\n",
       "  <tbody>\n",
       "    <tr>\n",
       "      <th>0</th>\n",
       "      <td>919906</td>\n",
       "      <td>182_BALIVE_mn</td>\n",
       "      <td>113.513901</td>\n",
       "    </tr>\n",
       "    <tr>\n",
       "      <th>1</th>\n",
       "      <td>919907</td>\n",
       "      <td>182_BALIVE_mn</td>\n",
       "      <td>113.513901</td>\n",
       "    </tr>\n",
       "    <tr>\n",
       "      <th>2</th>\n",
       "      <td>919908</td>\n",
       "      <td>182_BALIVE_mn</td>\n",
       "      <td>63.252056</td>\n",
       "    </tr>\n",
       "  </tbody>\n",
       "</table>\n",
       "</div>"
      ],
      "text/plain": [
       "   grid_index         metric       value\n",
       "0      919906  182_BALIVE_mn  113.513901\n",
       "1      919907  182_BALIVE_mn  113.513901\n",
       "2      919908  182_BALIVE_mn   63.252056"
      ]
     },
     "execution_count": 26,
     "metadata": {},
     "output_type": "execute_result"
    }
   ],
   "source": [
    "# isolate melt bands/columns\n",
    "band_names = ['BALIVE', 'SDIPCT_RMRS', 'STANDHT', 'TPA_DEAD', 'TPA_LIVE']\n",
    "regex_p = '|'.join(band_names) # regex pattern for melting columns\n",
    "metrics_cols = [col for col in tm_stats.columns if '_mn' in col]\n",
    "print(f\"[{len(metrics_cols)}] total metrics columns selected for melting:\\n\")\n",
    "\n",
    "# do the melt\n",
    "tm_stats_l = tm_stats.melt(\n",
    "    id_vars=['grid_index'], \n",
    "    value_vars=metrics_cols, \n",
    "    var_name='metric', \n",
    "    value_name='value'\n",
    ")\n",
    "tm_stats_l.head(3)"
   ]
  },
  {
   "cell_type": "code",
   "execution_count": 27,
   "id": "97880279-12c8-4ff7-b4b6-a69261b1219b",
   "metadata": {},
   "outputs": [
    {
     "data": {
      "text/plain": [
       "array(['BALIVE', 'SDIPCT_RMRS', 'STANDHT', 'TPA_DEAD', 'TPA_LIVE'],\n",
       "      dtype=object)"
      ]
     },
     "execution_count": 27,
     "metadata": {},
     "output_type": "execute_result"
    }
   ],
   "source": [
    "# gather the forest type code from the band name\n",
    "tm_stats_l['FORTYPCD'] = tm_stats_l['metric'].str.extract(r'^(\\d+)_')[0].astype(int)\n",
    "tm_stats_l['metric'] = tm_stats_l['metric'].str.extract(f'({regex_p})')[0]\n",
    "tm_stats_l = tm_stats_l[['grid_index','FORTYPCD','metric','value']]\n",
    "tm_stats_l.dropna(subset=['value'], inplace=True) # drop NaNs\n",
    "tm_stats_l['metric'].unique()"
   ]
  },
  {
   "cell_type": "code",
   "execution_count": 28,
   "id": "e6b495ba-b6bf-49fd-808e-ed775830d8c7",
   "metadata": {},
   "outputs": [
    {
     "data": {
      "text/html": [
       "<div>\n",
       "<style scoped>\n",
       "    .dataframe tbody tr th:only-of-type {\n",
       "        vertical-align: middle;\n",
       "    }\n",
       "\n",
       "    .dataframe tbody tr th {\n",
       "        vertical-align: top;\n",
       "    }\n",
       "\n",
       "    .dataframe thead th {\n",
       "        text-align: right;\n",
       "    }\n",
       "</style>\n",
       "<table border=\"1\" class=\"dataframe\">\n",
       "  <thead>\n",
       "    <tr style=\"text-align: right;\">\n",
       "      <th>metric</th>\n",
       "      <th>grid_index</th>\n",
       "      <th>FORTYPCD</th>\n",
       "      <th>BALIVE</th>\n",
       "      <th>SDIPCT</th>\n",
       "      <th>STANDHT</th>\n",
       "      <th>TPA_DEAD</th>\n",
       "      <th>TPA_LIVE</th>\n",
       "    </tr>\n",
       "  </thead>\n",
       "  <tbody>\n",
       "    <tr>\n",
       "      <th>0</th>\n",
       "      <td>184440</td>\n",
       "      <td>184</td>\n",
       "      <td>28.642924</td>\n",
       "      <td>12.543885</td>\n",
       "      <td>12.183448</td>\n",
       "      <td>6.018046</td>\n",
       "      <td>36.084544</td>\n",
       "    </tr>\n",
       "    <tr>\n",
       "      <th>1</th>\n",
       "      <td>184440</td>\n",
       "      <td>185</td>\n",
       "      <td>46.993341</td>\n",
       "      <td>18.682264</td>\n",
       "      <td>15.118729</td>\n",
       "      <td>12.178753</td>\n",
       "      <td>141.248148</td>\n",
       "    </tr>\n",
       "    <tr>\n",
       "      <th>2</th>\n",
       "      <td>184441</td>\n",
       "      <td>184</td>\n",
       "      <td>72.685503</td>\n",
       "      <td>32.056522</td>\n",
       "      <td>14.415356</td>\n",
       "      <td>9.027069</td>\n",
       "      <td>78.017484</td>\n",
       "    </tr>\n",
       "  </tbody>\n",
       "</table>\n",
       "</div>"
      ],
      "text/plain": [
       "metric  grid_index  FORTYPCD     BALIVE     SDIPCT    STANDHT   TPA_DEAD  \\\n",
       "0           184440       184  28.642924  12.543885  12.183448   6.018046   \n",
       "1           184440       185  46.993341  18.682264  15.118729  12.178753   \n",
       "2           184441       184  72.685503  32.056522  14.415356   9.027069   \n",
       "\n",
       "metric    TPA_LIVE  \n",
       "0        36.084544  \n",
       "1       141.248148  \n",
       "2        78.017484  "
      ]
     },
     "execution_count": 28,
     "metadata": {},
     "output_type": "execute_result"
    }
   ],
   "source": [
    "# pivot longer to get metrics as columns\n",
    "tm_stats_lp = tm_stats_l.pivot_table(index=['grid_index', 'FORTYPCD'], columns='metric', values='value')\n",
    "tm_stats_lp = tm_stats_lp.reset_index() # collapse the index\n",
    "tm_stats_lp = tm_stats_lp[['grid_index','FORTYPCD']+band_names]\n",
    "tm_stats_lp.rename(columns={'SDIPCT_RMRS': 'SDIPCT'}, inplace=True)\n",
    "tm_stats_lp.head(3)"
   ]
  },
  {
   "cell_type": "code",
   "execution_count": null,
   "id": "ec8a5e76-719b-4580-af6b-527fd2f17b60",
   "metadata": {},
   "outputs": [],
   "source": []
  },
  {
   "cell_type": "code",
   "execution_count": null,
   "id": "d3784233-fc13-49c7-a10e-682371d7ad08",
   "metadata": {},
   "outputs": [],
   "source": []
  },
  {
   "cell_type": "code",
   "execution_count": null,
   "id": "aa99d812-bbf6-4bd5-9729-b28c7c8f0a57",
   "metadata": {},
   "outputs": [],
   "source": [
    "# load the Sentinel-2 metrics"
   ]
  },
  {
   "cell_type": "code",
   "execution_count": null,
   "id": "6dc04a27-725e-4e40-90dd-be3309d3e7c0",
   "metadata": {},
   "outputs": [],
   "source": [
    "fp = os.path.join(projdir,'earth-engine/exports/treemap/gridstats_fortypcd_s2.csv')\n",
    "s2_stats = pd.read_csv(fp)\n",
    "s2_stats.drop(columns=['system:index','.geo'], inplace=True)\n",
    "s2_stats.columns"
   ]
  },
  {
   "cell_type": "code",
   "execution_count": null,
   "id": "c03a24e3-2ab5-4cb7-a12f-4a2b3f524ffd",
   "metadata": {},
   "outputs": [],
   "source": [
    "# unpack histogram dictionary into columns\n",
    "def parse_histogram(hist_str):\n",
    "    # Convert float or NaN to string, then parse\n",
    "    if isinstance(hist_str, float) or pd.isna(hist_str):\n",
    "        hist_str = str(int(hist_str)) if not pd.isna(hist_str) else \"\"\n",
    "    kv_pairs = hist_str.split(', ')  # Split the key-value pairs\n",
    "    # Convert key-value pairs to a dictionary\n",
    "    return {kv.split(':')[0]: float(kv.split(':')[1]) for kv in kv_pairs if ':' in kv}\n",
    "# parse the dictionary\n",
    "s2_stats['species_s2'] = s2_stats['species_s2'].apply(parse_histogram)\n",
    "s2_stats.head(3)"
   ]
  },
  {
   "cell_type": "code",
   "execution_count": null,
   "id": "5e3726f6-0e07-41a6-98b4-3a5756d3629a",
   "metadata": {},
   "outputs": [],
   "source": [
    "hist_df = s2_stats['species_s2'].apply(pd.Series)\n",
    "s2_stats = pd.concat([s2_stats.drop(columns=['species_s2']), hist_df], axis=1).reset_index(drop=True)\n",
    "print(\"Adjusted DataFrame:\")\n",
    "s2_stats.head(3)"
   ]
  },
  {
   "cell_type": "code",
   "execution_count": null,
   "id": "5bb632d0-cdca-4ba2-9b97-18b56a203780",
   "metadata": {},
   "outputs": [],
   "source": [
    "# extract the correct band names / columns\n",
    "band_names = ['LAI', 'MNDWI']\n",
    "regex_p = '|'.join(band_names) # regex pattern for melting columns\n",
    "metrics_cols = [col for col in s2_stats.columns if 'LAI' or 'MNDWI' in col]\n",
    "print(f\"[{len(metrics_cols)}] total metrics columns selected for melting:\\n\")\n",
    "# do the melt\n",
    "s2_stats_l = s2_stats.melt(\n",
    "    id_vars=['grid_index'], \n",
    "    value_vars=metrics_cols, \n",
    "    var_name='metric', \n",
    "    value_name='value'\n",
    ")\n",
    "s2_stats_l.head(3)"
   ]
  },
  {
   "cell_type": "code",
   "execution_count": null,
   "id": "f081ce5e-afe0-4f3a-a40d-69690e6c5b9f",
   "metadata": {},
   "outputs": [],
   "source": [
    "# gather the forest type code\n",
    "s2_stats_l['FORTYPCD'] = s2_stats_l['metric'].str.extract(r'^(\\d+)_')[0].astype(int)\n",
    "s2_stats_l['metric'] = s2_stats_l['metric'].str.extract(f'({regex_p})')[0]\n",
    "s2_stats_l = s2_stats_l[['grid_index','FORTYPCD','metric','value']]\n",
    "s2_stats_l.dropna(subset=['value'], inplace=True) # drop NaNs\n",
    "s2_stats_l['metric'].unique()"
   ]
  },
  {
   "cell_type": "code",
   "execution_count": null,
   "id": "0fdf2d67-e688-41f0-8a2b-fd4fc81e212c",
   "metadata": {},
   "outputs": [],
   "source": [
    "# pivot longer the get metrics as columns\n",
    "s2_stats_lp = s2_stats_l.pivot_table(index=['grid_index', 'FORTYPCD'], columns='metric', values='value')\n",
    "s2_stats_lp = s2_stats_lp.reset_index() # collapse the index\n",
    "s2_stats_lp = s2_stats_lp[['grid_index','FORTYPCD','LAI','MNDWI']]\n",
    "s2_stats_lp.head(3)"
   ]
  },
  {
   "cell_type": "code",
   "execution_count": null,
   "id": "3f07ec40-b33b-47d1-b268-faf859d8de42",
   "metadata": {},
   "outputs": [],
   "source": []
  },
  {
   "cell_type": "code",
   "execution_count": null,
   "id": "fda48842-d721-4ba1-ae90-73ec55ecafd9",
   "metadata": {},
   "outputs": [],
   "source": []
  },
  {
   "cell_type": "code",
   "execution_count": null,
   "id": "65da8a76-f04e-4627-98a2-4bb6fd3147c5",
   "metadata": {},
   "outputs": [],
   "source": [
    "# Merge the TreeMap metrics with the Sentinel-2 metrics\n",
    "# Merge to the FRP grid"
   ]
  },
  {
   "cell_type": "code",
   "execution_count": null,
   "id": "a972739f-e69c-4e04-98a9-bbd66ebad0ac",
   "metadata": {},
   "outputs": [],
   "source": [
    "# Join to the FORTYPCD dataframe by grid index and FORTYPCD\n",
    "treemap_df = fortyp_df.merge(tm_stats_lp, on=['grid_index','FORTYPCD'], how='left')\n",
    "treemap_df = treemap_df.merge(s2_stats_lp, on=['grid_index','FORTYPCD'], how='left')\n",
    "\n",
    "# Make sure we're just keeping our 97% landscape fraction forest types\n",
    "treemap_df = treemap_df[treemap_df['SpeciesName'].isin(top_species['SpeciesName'].unique())]\n",
    "\n",
    "print(treemap_df.columns)\n",
    "treemap_df['SpeciesName'].unique()"
   ]
  },
  {
   "cell_type": "code",
   "execution_count": null,
   "id": "1fea8936-7fda-4cc1-b16b-b1149dd6ffdf",
   "metadata": {},
   "outputs": [],
   "source": [
    "treemap_df.head(3)"
   ]
  },
  {
   "cell_type": "code",
   "execution_count": null,
   "id": "bd0c8e80-d603-4e53-b4f6-b183b1d69065",
   "metadata": {},
   "outputs": [],
   "source": [
    "# save the TreeMap table out.\n",
    "out_fp = os.path.join(projdir,'tabular/mod/viirs_snpp_jpss1_gridstats_treemap-s2.csv')\n",
    "treemap_df.to_csv(out_fp)\n",
    "print(f\"Saved file to: {out_fp}\")"
   ]
  },
  {
   "cell_type": "code",
   "execution_count": null,
   "id": "a3f12201-943b-4a14-b766-f83c32047346",
   "metadata": {},
   "outputs": [],
   "source": []
  },
  {
   "cell_type": "code",
   "execution_count": null,
   "id": "4e002cab-46dd-497f-bc2b-53c287072850",
   "metadata": {},
   "outputs": [],
   "source": []
  },
  {
   "cell_type": "code",
   "execution_count": null,
   "id": "9b6df274-be47-4053-812d-fad460358536",
   "metadata": {},
   "outputs": [],
   "source": []
  },
  {
   "cell_type": "code",
   "execution_count": null,
   "id": "cc2d0d4f-9547-49b7-a2b9-8e8b23300e02",
   "metadata": {},
   "outputs": [],
   "source": [
    "# Identify the dominant forest type for each gridcell\n",
    "# Subset to forested gridcells (>50%)"
   ]
  },
  {
   "cell_type": "code",
   "execution_count": null,
   "id": "29fcdc4b-c34a-420e-9d2a-7c32b6f109cd",
   "metadata": {},
   "outputs": [],
   "source": [
    "dtree = treemap_df.loc[treemap_df.groupby('grid_index')['spp_pct'].idxmax()]\n",
    "dtree = dtree[dtree['forest_pct'] > 50] # greater than 50% forested\n",
    "print(dtree['SpeciesName'].unique())"
   ]
  },
  {
   "cell_type": "code",
   "execution_count": null,
   "id": "7a717679-ba54-4f0a-83c7-030fdd712bc5",
   "metadata": {},
   "outputs": [],
   "source": [
    "# merge to the FRP gridcells\n",
    "grid_dtree = grid.merge(dtree, on='grid_index', how='inner')\n",
    "print(grid_dtree.columns)"
   ]
  },
  {
   "cell_type": "code",
   "execution_count": null,
   "id": "34731e3f-6d32-4f8d-8a1a-44b733400592",
   "metadata": {},
   "outputs": [],
   "source": [
    "# plot the distribution of FRP max and cumulative\n",
    "print(f\"Maximum FRP distribution:\\n {grid_dtree['frp_max'].describe()}\\n\")\n",
    "print(f\"Cumulative FRP distribution:\\n {grid_dtree['frp_csum'].describe()}\\n\")"
   ]
  },
  {
   "cell_type": "code",
   "execution_count": null,
   "id": "adf7c504-2605-439b-b9eb-10eefb2e3d55",
   "metadata": {},
   "outputs": [],
   "source": [
    "# drop any 0 FRP gridcells\n",
    "print(f\"Dropping [{len(grid_dtree[grid_dtree['frp_max'] == 0])}] gridcells w/ 0 FRP.\")\n",
    "grid_dtree = grid_dtree[grid_dtree['frp_max'] > 0]"
   ]
  },
  {
   "cell_type": "code",
   "execution_count": null,
   "id": "6b985cd0-5a1a-4f08-8357-e1fb82adfcdf",
   "metadata": {},
   "outputs": [],
   "source": [
    "# Plot FRP by EVT group name\n",
    "# Find the median and sort the evt classes\n",
    "med = grid_dtree.groupby('SpeciesName')['frp_csum'].median().sort_values(ascending=False)\n",
    "sorted = med.index.tolist()\n",
    "\n",
    "grid_dtree['frp_max_adj'] = grid_dtree['frp_max'] + 1\n",
    "grid_dtree['frp_csum_adj'] = grid_dtree['frp_csum'] + 1\n",
    "\n",
    "# create a dataframe with dominance (>90% of the same species)\n",
    "dom = grid_dtree[grid_dtree['spp_pct'] > 75]\n",
    "\n",
    "# plot it\n",
    "plt.figure(figsize=(8, 6)) \n",
    "\n",
    "sns.boxplot(\n",
    "    data=grid_dtree, \n",
    "    x='frp_csum_adj', \n",
    "    y='SpeciesName', \n",
    "    order=sorted, \n",
    "    palette='coolwarm_r', \n",
    "    dodge=False)\n",
    "\n",
    "plt.xscale('log')\n",
    "\n",
    "plt.xlabel('Fire Radiative Power (FRP)')\n",
    "plt.ylabel('Forest Type')\n",
    "\n",
    "plt.tight_layout()\n",
    "plt.show()"
   ]
  },
  {
   "cell_type": "code",
   "execution_count": null,
   "id": "1f4a6c46-f06c-4ea5-899f-6636f50e758f",
   "metadata": {},
   "outputs": [],
   "source": [
    "# plot total detections by forest type"
   ]
  },
  {
   "cell_type": "code",
   "execution_count": null,
   "id": "fa202113-9d8a-4961-a4f4-b13917ea8a39",
   "metadata": {},
   "outputs": [],
   "source": [
    "total_afd = grid_dtree['afd_count'].sum() # total afd counts\n",
    "# proportional counts\n",
    "afd_props = (\n",
    "    grid_dtree.groupby('SpeciesName')['afd_count']\n",
    "    .sum()\n",
    "    .reset_index(name='afd_count')\n",
    ")\n",
    "afd_props['afd_prop'] = afd_props['afd_count'] / total_afd\n",
    "# merge with the species prevalence\n",
    "afd_props_spp = pd.merge(afd_props, spp_prevalence, on='SpeciesName', how='inner')\n",
    "afd_props_spp.head(7)"
   ]
  },
  {
   "cell_type": "code",
   "execution_count": null,
   "id": "4401ba82-63f7-4fc6-970f-88d1160db11e",
   "metadata": {},
   "outputs": [],
   "source": [
    "# plot the difference between landscape fraction and afd\n",
    "plt.figure(figsize=(8, 5))\n",
    "sns.barplot(\n",
    "    data=afd_props_spp.melt(\n",
    "        id_vars='SpeciesName',\n",
    "        value_vars=['afd_prop', 'fraction'],\n",
    "        var_name='Proportion Type',\n",
    "        value_name='Proportion'\n",
    "    ),\n",
    "    x='SpeciesName',\n",
    "    y='Proportion',\n",
    "    hue='Proportion Type',\n",
    "    palette='viridis'\n",
    ")\n",
    "\n",
    "plt.title('Proportion of Fire Detections vs. Landscape Proportion by Species')\n",
    "plt.xlabel('Dominant Tree Species')\n",
    "plt.ylabel('Proportion')\n",
    "plt.xticks(rotation=45, ha='right')\n",
    "plt.legend(title='Proportion Type')\n",
    "plt.tight_layout()\n",
    "plt.show()"
   ]
  },
  {
   "cell_type": "code",
   "execution_count": null,
   "id": "2dd94b6e-f370-40bb-a953-4cacdbfe149f",
   "metadata": {},
   "outputs": [],
   "source": []
  },
  {
   "cell_type": "code",
   "execution_count": null,
   "id": "3b584eb8-b017-4f27-82c0-b5e5228ee16a",
   "metadata": {},
   "outputs": [],
   "source": []
  },
  {
   "cell_type": "code",
   "execution_count": null,
   "id": "543e85a7-aea3-4e15-acc6-17b42e302580",
   "metadata": {},
   "outputs": [],
   "source": []
  },
  {
   "cell_type": "markdown",
   "id": "03d72f03-2289-44db-8e59-c68741913e4d",
   "metadata": {},
   "source": [
    "## LANDFIRE Existing Vegetation Type (EVT) c.a. 2016"
   ]
  },
  {
   "cell_type": "code",
   "execution_count": null,
   "id": "96056a4e-e9f7-4af5-b7cf-a2b5aea24e0b",
   "metadata": {},
   "outputs": [],
   "source": [
    "fp = os.path.join(maindir,'data/landcover/LANDFIRE/LF2016_EVT_200_CONUS/Tif/LC16_EVT_200.tif')\n",
    "evt_da = rxr.open_rasterio(fp, masked=True, cache=False, chunks='auto').squeeze()\n",
    "shp, gt, wkt, nd = evt_da.shape, evt_da.spatial_ref.GeoTransform, evt_da.rio.crs, evt_da.rio.nodata\n",
    "print(\n",
    "    f\"Shape: {shp}; \\n\"\n",
    "    f\"GeoTransform: {gt}; \\n\"\n",
    "    f\"WKT: {wkt}; \\n\"\n",
    "    f\"NoData Value: {nd}; \\n\"\n",
    "    f\"Data Type: {evt_da[0].dtype}\")\n",
    "gc.collect()"
   ]
  },
  {
   "cell_type": "code",
   "execution_count": null,
   "id": "29e40e01-088e-4c61-9041-36bc31d2ab6c",
   "metadata": {},
   "outputs": [],
   "source": [
    "evt_da_crop = evt_da.rio.clip_box(\n",
    "    minx=bounds[0]+1000, # +1000 meters for a small buffer\n",
    "    miny=bounds[1]+1000, \n",
    "    maxx=bounds[2]+1000, \n",
    "    maxy=bounds[3]+1000\n",
    ")\n",
    "del evt_da\n",
    "gc.collect()"
   ]
  },
  {
   "cell_type": "code",
   "execution_count": null,
   "id": "bbfff329-c537-4b0d-bbc4-4cf286c3bccc",
   "metadata": {},
   "outputs": [],
   "source": [
    "t0 = time.time()\n",
    "\n",
    "# Get the proportional landcover\n",
    "grid_evt = compute_band_stats(\n",
    "    geoms=grid[['grid_index','geometry']], \n",
    "    image_da=evt_da_crop, \n",
    "    id_col='grid_index'\n",
    ")\n",
    "\n",
    "t1 = (time.time() - t0) / 60\n",
    "print(f\"Total elapsed time: {t1:.2f} minutes.\")\n",
    "print(\"\\n~~~~~~~~~~\\n\")"
   ]
  },
  {
   "cell_type": "code",
   "execution_count": null,
   "id": "4ff92d78-79f9-425e-a7b9-990c0c1682dc",
   "metadata": {},
   "outputs": [],
   "source": [
    "grid_evt.head()"
   ]
  },
  {
   "cell_type": "code",
   "execution_count": null,
   "id": "e1c6b1dc-e9b9-401a-873c-0525a4ff3fad",
   "metadata": {},
   "outputs": [],
   "source": [
    "# Read in the lookup table for the EVT codes\n",
    "lookup = os.path.join(maindir,'data/landcover/LANDFIRE/LF2016_EVT_200_CONUS/CSV_Data/LF16_EVT_200.csv')\n",
    "lookup = pd.read_csv(lookup)\n",
    "print(lookup.columns)"
   ]
  },
  {
   "cell_type": "code",
   "execution_count": null,
   "id": "4ebd9201-39be-49dc-bcaf-433c4d8c9963",
   "metadata": {},
   "outputs": [],
   "source": [
    "# Subset the codes we want to join, join back to the dataframe\n",
    "lookup = lookup[['VALUE','EVT_NAME','EVT_PHYS','EVT_GP_N','EVT_CLASS','EVT_SBCLS','SAF_SRM']]\n",
    "grid_evt_ = grid_evt.merge(lookup, left_on='evt', right_on='VALUE', how='left')\n",
    "grid_evt_.drop('VALUE', axis=1, inplace=True)\n",
    "grid_evt_.head()"
   ]
  },
  {
   "cell_type": "code",
   "execution_count": null,
   "id": "8fd7b62d-7932-4552-83f9-8ae75a4310ae",
   "metadata": {},
   "outputs": [],
   "source": [
    "evt_counts = grid_evt_.groupby(['evt','EVT_NAME','EVT_GP_N','SAF_SRM']).size().reset_index(name='counts')\n",
    "evt_counts.sort_values('counts', ascending=False, inplace=True)\n",
    "evt_counts.head(10)"
   ]
  },
  {
   "cell_type": "code",
   "execution_count": null,
   "id": "d1a87caa-9e24-4393-8ee9-84c4239e3570",
   "metadata": {},
   "outputs": [],
   "source": [
    "df = grid_evt_.copy() # make a copy to work with\n",
    "df = df[df['count'] > 0]\n",
    "\n",
    "col = 'SAF_SRM'\n",
    "\n",
    "# Calculate the total percent cover (prevalence)\n",
    "spp_prevalence_evt = df.groupby(col)['count'].sum().reset_index()\n",
    "spp_prevalence_evt['fraction'] = spp_prevalence_evt['count'] / spp_prevalence_evt['count'].sum()\n",
    "spp_prevalence_evt = spp_prevalence_evt.sort_values(by='fraction', ascending=False)\n",
    "\n",
    "# which species make up 97% of observations?\n",
    "spp_prevalence_evt['c_fraction'] = spp_prevalence_evt['fraction'].cumsum()\n",
    "top_species_evt = spp_prevalence_evt[spp_prevalence_evt['c_fraction'] <= 0.97]\n",
    "print(f\"\\n\\nSpecies making up 97% of the total: \\n\\n{top_species_evt}\\n\\n\")\n",
    "\n",
    "# plot it\n",
    "plt.figure(figsize=(8, 6))\n",
    "sns.barplot(data=top_species_evt, x=col, y='fraction', palette='viridis')\n",
    "\n",
    "plt.xlabel(f'Existing Vegetation Type ()')\n",
    "plt.ylabel('Fractional cover')\n",
    "plt.xticks(rotation=45, ha='right')\n",
    "plt.tight_layout()\n",
    "plt.show()"
   ]
  },
  {
   "cell_type": "code",
   "execution_count": null,
   "id": "073dd52e-3bfc-4388-93f6-2c2ca697a4a6",
   "metadata": {},
   "outputs": [],
   "source": [
    "# save the EVT summary table out.\n",
    "out_fp = os.path.join(projdir, 'tabular/mod/viirs_snpp_jpss1_gridstats_lf-evt.csv')\n",
    "grid_evt_.to_csv(out_fp)\n",
    "print(f\"Saved to: {out_fp}\")"
   ]
  },
  {
   "cell_type": "code",
   "execution_count": null,
   "id": "aa5e7d93-0c49-41da-adc2-d0df1f258b6c",
   "metadata": {},
   "outputs": [],
   "source": []
  },
  {
   "cell_type": "code",
   "execution_count": null,
   "id": "47be43bb-09f8-44b4-a0ee-3fe93eafdcfe",
   "metadata": {},
   "outputs": [],
   "source": []
  },
  {
   "cell_type": "code",
   "execution_count": null,
   "id": "d9ce1beb-91b6-4c2d-ab06-c6bc01d6c7b7",
   "metadata": {},
   "outputs": [],
   "source": [
    "# Identify the dominant EVT class for each observation\n",
    "dominant_evt = grid_evt_.loc[grid_evt_.groupby('grid_index')['pct_cover'].idxmax()]\n",
    "dominant_evt.head()"
   ]
  },
  {
   "cell_type": "code",
   "execution_count": null,
   "id": "b77b04a1-fd80-4371-9811-aeaf50f9152c",
   "metadata": {},
   "outputs": [],
   "source": [
    "grid_evt_d = pd.merge(grid, dominant_evt, on='grid_index', how='inner')\n",
    "grid_evt_d.columns"
   ]
  },
  {
   "cell_type": "code",
   "execution_count": null,
   "id": "8a076a1c-2308-4583-83c4-5ec31d971651",
   "metadata": {},
   "outputs": [],
   "source": [
    "# Plot FRP by EVT group name\n",
    "# Find the median and sort the evt classes\n",
    "\n",
    "col = 'SAF_SRM'\n",
    "\n",
    "df = grid_evt_d.copy()\n",
    "df = df[df['SAF_SRM'].isin(top_species_evt['SAF_SRM'].unique())]\n",
    "\n",
    "med = df.groupby(col)['frp_max'].median().sort_values(ascending=False)\n",
    "sorted = med.index.tolist()\n",
    "\n",
    "df['frp_max_adj'] = df['frp_max'] + 1\n",
    "df['frp_csum_adj'] = df['frp_csum'] + 1\n",
    "\n",
    "# create a dataframe with dominance (>90% of the same species)\n",
    "dom = df[df['pct_cover'] > 75]\n",
    "\n",
    "plt.figure(figsize=(8, 6)) \n",
    "\n",
    "sns.boxplot(\n",
    "    data=df, \n",
    "    x='frp_max_adj', \n",
    "    y=col, \n",
    "    order=sorted, \n",
    "    palette='coolwarm_r', \n",
    "    dodge=False)\n",
    "\n",
    "plt.xscale('log')\n",
    "\n",
    "plt.xlabel('Maximum Fire Radiative Power (FRP)')\n",
    "plt.ylabel(col)\n",
    "\n",
    "plt.tight_layout()\n",
    "plt.show()"
   ]
  },
  {
   "cell_type": "code",
   "execution_count": null,
   "id": "716a4e5a-b750-4ed1-98ac-22731e83651a",
   "metadata": {},
   "outputs": [],
   "source": []
  },
  {
   "cell_type": "code",
   "execution_count": null,
   "id": "cbcedb86-4702-4ae0-88c6-6f1fef6b15f7",
   "metadata": {},
   "outputs": [],
   "source": []
  },
  {
   "cell_type": "code",
   "execution_count": null,
   "id": "1890948c-83b6-40cd-a66f-cf23392a5cbf",
   "metadata": {},
   "outputs": [],
   "source": []
  },
  {
   "cell_type": "code",
   "execution_count": null,
   "id": "51541962-1880-4304-a003-58eb1f5530c5",
   "metadata": {},
   "outputs": [],
   "source": [
    "# Export a table of the EVT values found in AFD observations\n",
    "lookup_ = lookup[lookup['VALUE'].isin(grid_evt_['evt'].unique())]\n",
    "out_fp = os.path.join(projdir,'tabular/mod/EVT/afd_evt_codes-SRM.csv')\n",
    "lookup_.to_csv(out_fp)\n",
    "print(f\"Saved to: {out_fp}\")"
   ]
  },
  {
   "cell_type": "code",
   "execution_count": null,
   "id": "34786bfc-e82f-44c8-bb4e-d74d1f0024a4",
   "metadata": {},
   "outputs": [],
   "source": [
    "'Aspen Forest, Woodland, and Parkland',\n",
    "'Douglas-fir-Ponderosa Pine-Lodgepole Pine Forest and Woodland',\n",
    "'Spruce-Fir Forest and Woodland',\n",
    "'Ponderosa Pine Forest, Woodland and Savanna',\n",
    "'Big Sagebrush Shrubland and Steppe',\n",
    "'Lodgepole Pine Forest and Woodland',\n",
    "'Douglas-fir-Grand Fir-White Fir Forest and Woodland',\n",
    "'Deciduous Shrubland', \n",
    "'Grassland',\n",
    "'Aspen-Mixed Conifer Forest and Woodland',\n",
    "'Pinyon-Juniper Woodland',\n",
    "'Western Riparian Woodland and Shrubland',\n",
    "'Mountain Mahogany Woodland and Shrubland',\n",
    "'Douglas-fir Forest and Woodland',"
   ]
  },
  {
   "cell_type": "code",
   "execution_count": null,
   "id": "9caa0f7d-3493-48c8-8826-3df6d9eeb125",
   "metadata": {},
   "outputs": [],
   "source": []
  },
  {
   "cell_type": "code",
   "execution_count": null,
   "id": "ddd42060-d947-4a97-98d3-09733437bd1c",
   "metadata": {},
   "outputs": [],
   "source": []
  },
  {
   "cell_type": "code",
   "execution_count": null,
   "id": "765deb8a-fa03-49ae-ab58-29d747ae2ca6",
   "metadata": {},
   "outputs": [],
   "source": []
  },
  {
   "cell_type": "markdown",
   "id": "17c0e830-d530-4a87-970a-9787616e5770",
   "metadata": {},
   "source": [
    "## Sentinel-based Aspen Cover"
   ]
  },
  {
   "cell_type": "code",
   "execution_count": null,
   "id": "bc3c93af-d8cf-4560-99dd-d4bda7319af9",
   "metadata": {},
   "outputs": [],
   "source": [
    "fp = os.path.join(maindir,'aspen-fire/Aim1/data/spatial/mod/results/classification/s2aspen_distribution_10m_y2019_CookEtAl.tif')\n",
    "s2aspen_da = rxr.open_rasterio(fp, masked=True, cache=False, chunks='auto').squeeze()\n",
    "shp, gt, wkt, nd = s2aspen_da.shape, s2aspen_da.spatial_ref.GeoTransform, s2aspen_da.rio.crs, s2aspen_da.rio.nodata\n",
    "print(\n",
    "    f\"Shape: {shp}; \\n\"\n",
    "    f\"GeoTransform: {gt}; \\n\"\n",
    "    f\"WKT: {wkt}; \\n\"\n",
    "    f\"NoData Value: {nd}; \\n\"\n",
    "    f\"Data Type: {s2aspen_da[0].dtype}\")\n",
    "gc.collect()"
   ]
  },
  {
   "cell_type": "code",
   "execution_count": null,
   "id": "43e4e8b1-10c4-4859-9d59-442edd2da407",
   "metadata": {},
   "outputs": [],
   "source": [
    "grid.dtypes"
   ]
  },
  {
   "cell_type": "code",
   "execution_count": null,
   "id": "e103a5fe-32fd-4b11-b7f4-b59b44a55c4c",
   "metadata": {},
   "outputs": [],
   "source": [
    "# filter the grid to fires 2019-2023\n",
    "grid['Fire_Year'] = grid['year'] = grid['dt_max_frp'].dt.year\n",
    "grid_ = grid[grid['Fire_Year'] >= 2019]\n",
    "print(f\"There are {len(grid_['Fire_ID'].unique())} fires 2019-2023\")"
   ]
  },
  {
   "cell_type": "code",
   "execution_count": null,
   "id": "5099cd90-a144-40ff-bc12-fdd68f3f3d93",
   "metadata": {},
   "outputs": [],
   "source": [
    "t0 = time.time()\n",
    "\n",
    "# Get the proportional landcover\n",
    "grid_s2aspen = compute_band_stats(\n",
    "    geoms=grid_[['grid_index','geometry']], \n",
    "    image_da=s2aspen_da, \n",
    "    id_col='grid_index',\n",
    "    attr='s2aspen'\n",
    ")\n",
    "\n",
    "t1 = (time.time() - t0) / 60\n",
    "print(f\"Total elapsed time: {t1:.2f} minutes.\")\n",
    "print(\"\\n~~~~~~~~~~\\n\")"
   ]
  },
  {
   "cell_type": "code",
   "execution_count": null,
   "id": "c062045f-386c-4034-8637-c19ab60b66ed",
   "metadata": {},
   "outputs": [],
   "source": [
    "grid_s2aspen = grid_s2aspen[grid_s2aspen['s2aspen'] == 1]\n",
    "grid_s2aspen.head()"
   ]
  },
  {
   "cell_type": "code",
   "execution_count": null,
   "id": "b5b8a802-664c-4893-89d9-0372e1f4f0e3",
   "metadata": {},
   "outputs": [],
   "source": []
  },
  {
   "cell_type": "code",
   "execution_count": null,
   "id": "d3bdd3fc-66b3-4cfb-bb7a-24756203f6eb",
   "metadata": {},
   "outputs": [],
   "source": []
  },
  {
   "cell_type": "code",
   "execution_count": null,
   "id": "47f1e3e1-02d9-44c5-b0c3-c369afefff53",
   "metadata": {},
   "outputs": [],
   "source": []
  },
  {
   "cell_type": "code",
   "execution_count": null,
   "id": "81e4f4e4-e71d-411e-9818-0154ea55a59c",
   "metadata": {},
   "outputs": [],
   "source": [
    "# combine aspen percent cover from TreeMap, EVT, and Sentinel"
   ]
  },
  {
   "cell_type": "code",
   "execution_count": null,
   "id": "e48accdb-e9f6-4c1d-a931-3750028cb743",
   "metadata": {},
   "outputs": [],
   "source": [
    "# Identify aspen classes from the EVT data\n",
    "aspen_classes = grid_evt_[grid_evt_['EVT_NAME'].str.contains('aspen', case=False, na=False)]['EVT_NAME'].unique()\n",
    "print(f\"Aspen EVT classes in the Southern Rockies:\\n{aspen_classes}\\n\")\n",
    "evt_aspen = grid_evt_[grid_evt_['EVT_NAME'].isin(aspen_classes)]\n",
    "evt_aspen.head(3)"
   ]
  },
  {
   "cell_type": "code",
   "execution_count": null,
   "id": "a1ef89c4-96cb-4952-88f1-651f3e513488",
   "metadata": {},
   "outputs": [],
   "source": [
    "# and from treemap\n",
    "treemap_aspen = treemap_df[treemap_df['SpeciesName'] == 'Aspen']\n",
    "treemap_aspen.head(3)"
   ]
  },
  {
   "cell_type": "code",
   "execution_count": null,
   "id": "e631105a-71fc-465f-b559-ad754653c084",
   "metadata": {},
   "outputs": [],
   "source": [
    "# merge the dataframes on matching grid_index\n",
    "\n",
    "# TreeMap\n",
    "treemap_aspen_ = treemap_aspen[['grid_index','spp_pct','count','forest_pct']]\n",
    "treemap_aspen_.rename(columns={'spp_pct': 'treemap_pct', 'count': 'treemap_count'}, inplace=True)\n",
    "print(f\"TreeMap: {len(treemap_aspen_)} aspen grids\")\n",
    "\n",
    "# landfire evt\n",
    "evt_aspen_ = evt_aspen[['grid_index','EVT_NAME','pct_cover','count']]\n",
    "evt_aspen_.rename(columns={'pct_cover': 'lfevt_pct', 'count': 'lfevt_count'}, inplace=True)\n",
    "print(f\"LANDFIRE EVT: {len(evt_aspen_)} aspen grids\")\n",
    "\n",
    "# sentinel\n",
    "grid_s2aspen_ = grid_s2aspen[['grid_index','pct_cover','count']]\n",
    "grid_s2aspen_.rename(columns={'pct_cover': 'sentinel_pct', 'count': 'sentinel_count'}, inplace=True)\n",
    "print(f\"Sentinel: {len(grid_s2aspen_)} aspen grids\")\n",
    "\n",
    "# combine them\n",
    "aspen_df = treemap_aspen_.merge(evt_aspen_, on='grid_index', how='outer')\n",
    "aspen_df = aspen_df.merge(grid_s2aspen_, on='grid_index', how='outer')\n",
    "# aspen_df = aspen_df[['grid_index','treemap_pct','treemap_count',\n",
    "#                      'lfevt_pct','lfevt_count','sentinel_pct','sentinel_count',\n",
    "#                      'EVT_NAME','forest_pct']]\n",
    "aspen_df = aspen_df.fillna(0) # set NaN to 0 (no aspen cover)\n",
    "print(f\"\\n\\tCombined: {len(aspen_df)} aspen grids.\")\n",
    "print(\"\\n\")\n",
    "aspen_df.head(3)"
   ]
  },
  {
   "cell_type": "code",
   "execution_count": null,
   "id": "c9f67c56-3b9c-4f21-8146-8982c1112df8",
   "metadata": {},
   "outputs": [],
   "source": [
    "aspen_df_m = aspen_df.melt(\n",
    "    id_vars=['grid_index', 'forest_pct'],\n",
    "    value_vars=['treemap_pct', 'lfevt_pct', 'sentinel_pct'],\n",
    "    var_name='source',\n",
    "    value_name='pct_cover'\n",
    ")\n",
    "\n",
    "# Distribution plot\n",
    "plt.figure(figsize=(6, 4))\n",
    "sns.histplot(\n",
    "    data=aspen_df_m,\n",
    "    x='pct_cover',\n",
    "    hue='source',\n",
    "    kde=True,\n",
    "    palette='viridis',\n",
    "    binwidth=5,\n",
    "    common_norm=False\n",
    ")\n",
    "plt.title('Distribution of Aspen Cover Percent by Data Source')\n",
    "plt.xlabel('Aspen Cover Percent (%)')\n",
    "plt.ylabel('Frequency')\n",
    "plt.tight_layout()\n",
    "plt.show()"
   ]
  },
  {
   "cell_type": "code",
   "execution_count": null,
   "id": "8f4b3425-4ecf-4e86-beb2-2cca41cd9e2b",
   "metadata": {},
   "outputs": [],
   "source": [
    "aspen_df['evt_ha'] = aspen_df['lfevt_count'] * 900 / 10000  # EVT: 30m resolution\n",
    "aspen_df['treemap_ha'] = aspen_df['treemap_count'] * 900 / 10000  # TreeMap: 30m resolution\n",
    "aspen_df['sentinel_ha'] = aspen_df['sentinel_count'] * 100 / 10000  # Sentinel: 10m resolution\n",
    "\n",
    "aspen_df[['grid_index', 'evt_ha', 'treemap_ha', 'sentinel_ha']].head()"
   ]
  },
  {
   "cell_type": "code",
   "execution_count": null,
   "id": "6281bb80-d7bb-4522-b8cf-0b693de517f7",
   "metadata": {},
   "outputs": [],
   "source": [
    "area_df = aspen_df.melt(\n",
    "    id_vars=['grid_index'],\n",
    "    value_vars=['evt_ha', 'treemap_ha', 'sentinel_ha'],\n",
    "    var_name='source',\n",
    "    value_name='area_ha'\n",
    ")\n",
    "\n",
    "# Plot the distributions\n",
    "plt.figure(figsize=(6,3))\n",
    "sns.histplot(\n",
    "    data=area_df,\n",
    "    x='area_ha',\n",
    "    hue='source',\n",
    "    kde=True,\n",
    "    palette='viridis',\n",
    "    binwidth=0.1,\n",
    "    common_norm=False\n",
    ")\n",
    "plt.title('Distribution of Aspen Area (ha) by Data Source')\n",
    "plt.xlabel('Aspen Area (ha)')\n",
    "plt.ylabel('Frequency')\n",
    "plt.tight_layout()\n",
    "plt.show()"
   ]
  },
  {
   "cell_type": "code",
   "execution_count": null,
   "id": "a59b79aa-9ce1-41c9-8103-19a8b3b103b9",
   "metadata": {},
   "outputs": [],
   "source": [
    "# Summarize total aspen area for each source\n",
    "total_areas = area_df.groupby('source')['area_ha'].sum().reset_index()\n",
    "\n",
    "# Bar plot of total areas\n",
    "plt.figure(figsize=(6, 3))\n",
    "sns.barplot(data=total_areas, x='source', y='area_ha', palette='viridis')\n",
    "\n",
    "plt.title('Total Aspen Area by Data Source')\n",
    "plt.xlabel('Data Source')\n",
    "plt.ylabel('Total Area (ha)')\n",
    "plt.tight_layout()\n",
    "plt.show()"
   ]
  },
  {
   "cell_type": "code",
   "execution_count": null,
   "id": "6ec3705e-19bf-48a2-bfdb-89dec5f5bfc7",
   "metadata": {},
   "outputs": [],
   "source": [
    "correlation_df = aspen_df[['evt_ha', 'treemap_ha', 'sentinel_ha']]\n",
    "correlation_matrix = correlation_df.corr()\n",
    "\n",
    "# Heatmap of correlations\n",
    "plt.figure(figsize=(6, 4.75))\n",
    "sns.heatmap(\n",
    "    correlation_matrix,\n",
    "    annot=True,\n",
    "    cmap='viridis',\n",
    "    cbar_kws={'label': 'Correlation Coefficient'}\n",
    ")\n",
    "plt.tight_layout()\n",
    "plt.show()"
   ]
  },
  {
   "cell_type": "code",
   "execution_count": null,
   "id": "6c4c572c-3d05-4ae3-9b88-eb70cf7588b0",
   "metadata": {},
   "outputs": [],
   "source": [
    "grid_aspen = pd.merge(grid, aspen_df, on='grid_index', how='inner')\n",
    "grid_aspen.columns"
   ]
  },
  {
   "cell_type": "code",
   "execution_count": null,
   "id": "05334892-8772-4311-a0cd-f1c420244059",
   "metadata": {},
   "outputs": [],
   "source": [
    "grid_aspen['treemap_dom'] = grid_aspen['treemap_pct'] > 50\n",
    "grid_aspen['lfevt_dom'] = grid_aspen['lfevt_pct'] > 50\n",
    "grid_aspen['sentinel_dom'] = grid_aspen['sentinel_pct'] > 50\n",
    "\n",
    "# Count the number of dominant grids for each data source\n",
    "dom_counts = grid_aspen[['treemap_dom', 'lfevt_dom', 'sentinel_dom']].sum()\n",
    "\n",
    "print(\"Number of Aspen-Dominant Grids (>50%):\")\n",
    "print(dom_counts)"
   ]
  },
  {
   "cell_type": "code",
   "execution_count": null,
   "id": "0e067fd0-673e-45e8-9abd-499bc9aa2f4f",
   "metadata": {},
   "outputs": [],
   "source": [
    "aspen_dominant = grid_aspen.melt(\n",
    "    id_vars=['grid_index', 'frp_max', 'frp_csum'],\n",
    "    value_vars=['treemap_dom', 'lfevt_dom', 'sentinel_dom'],\n",
    "    var_name='source',\n",
    "    value_name='dominant'\n",
    ")\n",
    "print(aspen_dominant.head(3))\n",
    "\n",
    "# Filter for dominant grids\n",
    "aspen_dominant = aspen_dominant[aspen_dominant['dominant']]\n",
    "aspen_dominant['frp_max_adj'] = aspen_dominant['frp_max'] + 1\n",
    "aspen_dominant['frp_csum_adj'] = aspen_dominant['frp_csum'] + 1\n",
    "\n",
    "# dom = aspen_dominant[aspen_dominant['pct_cover'] > 75]\n",
    "\n",
    "# Plot boxplot\n",
    "plt.figure(figsize=(6, 4))\n",
    "\n",
    "sns.boxplot(\n",
    "    data=aspen_dominant, \n",
    "    x='frp_max_adj', \n",
    "    y='source', \n",
    "    palette='coolwarm_r', \n",
    "    dodge=False)\n",
    "\n",
    "plt.xscale('log')\n",
    "\n",
    "plt.xlabel('Maximum Fire Radiative Power (FRP)')\n",
    "\n",
    "plt.tight_layout()\n",
    "plt.show()"
   ]
  },
  {
   "cell_type": "code",
   "execution_count": null,
   "id": "340d0323-f6e0-4615-809e-bcfe8b5472d8",
   "metadata": {},
   "outputs": [],
   "source": [
    "from scipy.stats import kruskal\n",
    "\n",
    "# Prepare data for statistical testing\n",
    "treemap_frp = grid_aspen.loc[grid_aspen['treemap_dom'], 'frp_max']\n",
    "lfevt_frp = grid_aspen.loc[grid_aspen['lfevt_dom'], 'frp_max']\n",
    "sentinel_frp = grid_aspen.loc[grid_aspen['sentinel_dom'], 'frp_max']\n",
    "\n",
    "# Perform Kruskal-Wallis test\n",
    "stat, p = kruskal(treemap_frp, lfevt_frp, sentinel_frp)\n",
    "print(f\"Kruskal-Wallis Test: H-statistic={stat:.3f}, p-value={p:.3g}\")\n",
    "\n",
    "if p < 0.05:\n",
    "    print(\"Significant differences in FRP distributions between data sources.\")\n",
    "else:\n",
    "    print(\"No significant differences in FRP distributions between data sources.\")"
   ]
  },
  {
   "cell_type": "code",
   "execution_count": null,
   "id": "2719808b-38dd-4a85-b60c-3bcad7f57aec",
   "metadata": {},
   "outputs": [],
   "source": []
  },
  {
   "cell_type": "code",
   "execution_count": null,
   "id": "14cc9739-5b62-4c70-a4e0-a7e1ac1ea40e",
   "metadata": {},
   "outputs": [],
   "source": []
  },
  {
   "cell_type": "code",
   "execution_count": null,
   "id": "704539b0-6816-4f2a-ad43-39de325be536",
   "metadata": {},
   "outputs": [],
   "source": []
  },
  {
   "cell_type": "code",
   "execution_count": null,
   "id": "9bf12d80-0269-44ac-8adf-f6df9c11b602",
   "metadata": {},
   "outputs": [],
   "source": [
    "# Make some plots. Just for the SRM."
   ]
  },
  {
   "cell_type": "code",
   "execution_count": null,
   "id": "4932c33d-144c-4d7e-b344-5d6071992b26",
   "metadata": {},
   "outputs": [],
   "source": [
    "# Join back to FRP\n",
    "frp = afds[['afdID','INSTRUMENT','ACQ_DATETIME','DAYNIGHT','FRP','na_l3name']]\n",
    "frp = frp[frp['na_l3name'] == 'Southern Rockies']\n",
    "\n",
    "evt = afds_evt[['afdID','EVT_NAME','EVT_PHYS','EVT_GP_N','pct_cover']]\n",
    "\n",
    "frp_evt_srm = pd.merge(frp, evt, on='afdID', how='left')\n",
    "frp_evt_srm.head()"
   ]
  },
  {
   "cell_type": "code",
   "execution_count": null,
   "id": "0a5799e7-35aa-4c06-bcef-c73192272d2b",
   "metadata": {},
   "outputs": [],
   "source": [
    "# Create a \"pct_forest\" class\n",
    "forest_classes = ['Hardwood', 'Conifer', 'Conifer-Hardwood']\n",
    "frp_plots_forest = frp_evt_srm[frp_evt_srm['EVT_NAME'].isin(forest_classes)]\n",
    "# Pivot table and calculate the percent forest\n",
    "forest_cover = (\n",
    "    frp_evt_srm[['afdID', 'EVT_PHYS', 'pct_cover']]\n",
    "    .pivot_table(index='afdID', columns='EVT_PHYS', values='pct_cover', aggfunc='sum', fill_value=0)\n",
    ")\n",
    "forest_cover['pct_forest'] = forest_cover[forest_classes].sum(axis=1)\n",
    "# Merge back to the main data frame\n",
    "frp_evt_srm = frp_evt_srm.merge(forest_cover[['pct_forest']], on='afdID')\n",
    "frp_evt_srm['pct_forest'].describe()"
   ]
  },
  {
   "cell_type": "code",
   "execution_count": null,
   "id": "3b366e07-5632-4499-b224-a1ae24f9ff11",
   "metadata": {},
   "outputs": [],
   "source": []
  },
  {
   "cell_type": "code",
   "execution_count": null,
   "id": "581bedf6-7106-4ada-8192-7d8cf73fa068",
   "metadata": {},
   "outputs": [],
   "source": [
    "# Now filter to retain just the aspen composition in FRP observations\n",
    "frp_evt_srm_aspen = frp_evt_srm[frp_evt_srm['EVT_NAME'].isin(aspen_classes)]\n",
    "# What percent of FRP observations have an aspen component?\n",
    "aspenpct = len(frp_evt_srm_aspen['afdID'].unique()) / len(frp_evt_srm['afdID'].unique()) * 100\n",
    "print(f\"In the Southern Rockies, {aspenpct:.2f} of MODIS/VIIRS AFD have an aspen component.\")"
   ]
  },
  {
   "cell_type": "code",
   "execution_count": null,
   "id": "94c2a83f-a2ba-4620-aa65-dd8217d761e0",
   "metadata": {},
   "outputs": [],
   "source": [
    "plt.figure(figsize=(6, 4))\n",
    "\n",
    "frp_plots_aspen_d = frp_evt_srm_aspen[frp_evt_srm_aspen['DAYNIGHT'] == 'D']\n",
    "frp_plots_aspen_n = frp_evt_srm_aspen[frp_evt_srm_aspen['DAYNIGHT'] == 'N']\n",
    "\n",
    "# Apply log transformation to FRP values; add 1 to avoid taking log of zero\n",
    "sns.kdeplot(np.log1p(frp_plots_aspen_d['FRP']), fill=True, label=\"Daytime Obs.\")\n",
    "sns.kdeplot(np.log1p(frp_plots_aspen_n['FRP']), fill=True, label=\"Nighttime Obs.\")\n",
    "\n",
    "# Set plot title and axis labels\n",
    "plt.title('Log density of FRP for any aspen (Southern Rockies)')\n",
    "plt.xlabel('Log of Fire Radiative Power (FRP)')\n",
    "plt.ylabel('Density')\n",
    "plt.legend()\n",
    "plt.tight_layout()  # Adjust layout to prevent clipping of ylabel\n",
    "\n",
    "# plt.savefig(os.path.join(maindir,'aspen-fire/Aim2/figures/FigX_frp_density_aspen-any_day-night.png'), dpi=300, bbox_inches='tight')\n",
    "\n",
    "plt.show()"
   ]
  },
  {
   "cell_type": "code",
   "execution_count": null,
   "id": "d78896ad-5b69-445d-8fbe-020ab334829d",
   "metadata": {},
   "outputs": [],
   "source": [
    "plt.figure(figsize=(12, 4))\n",
    "\n",
    "frp_plots_aspen_ = frp_evt_srm_aspen[frp_evt_srm_aspen['FRP'] > 0]\n",
    "\n",
    "for aspen_class in aspen_classes:\n",
    "    subset = frp_plots_aspen_[frp_plots_aspen_['EVT_NAME'] == aspen_class]\n",
    "    sns.scatterplot(x='pct_cover', y='FRP', data=subset, label=aspen_class)\n",
    "\n",
    "plt.yscale('log')\n",
    "\n",
    "plt.title('FRP vs Percent Cover of Aspen Classes')\n",
    "plt.xlabel('Percent Cover of Aspen')\n",
    "plt.ylabel('Fire Radiative Power (FRP)')\n",
    "plt.legend(title='Aspen Class')\n",
    "\n",
    "# plt.savefig(os.path.join(maindir,'aspen-fire/Aim2/figures/FigX_aspen_frp_scatterplot.png'), dpi=300, bbox_inches='tight')\n",
    "\n",
    "plt.show()\n",
    "\n",
    "del frp_plots_aspen_"
   ]
  },
  {
   "cell_type": "code",
   "execution_count": null,
   "id": "21284cb6-3300-46fa-abac-aa73495bee16",
   "metadata": {},
   "outputs": [],
   "source": []
  },
  {
   "cell_type": "code",
   "execution_count": null,
   "id": "8f0c19e3-006f-4078-92ac-1c3a3800dddb",
   "metadata": {},
   "outputs": [],
   "source": [
    "# Identify the dominant EVT types."
   ]
  },
  {
   "cell_type": "code",
   "execution_count": null,
   "id": "91448b40-0bac-4fda-8ed9-4b5a281cab26",
   "metadata": {},
   "outputs": [],
   "source": []
  },
  {
   "cell_type": "code",
   "execution_count": null,
   "id": "de9972e6-0b6e-429e-acd8-92a29602be22",
   "metadata": {},
   "outputs": [],
   "source": [
    "# Identify the dominant EVT class for each observation\n",
    "dominant_evt = afds_evt.loc[afds_evt.groupby('afdID')['pct_cover'].idxmax()]\n",
    "dominant_evt.head()"
   ]
  },
  {
   "cell_type": "code",
   "execution_count": null,
   "id": "7e2b8287-509d-4e1e-89a3-6e4c6b2af325",
   "metadata": {},
   "outputs": [],
   "source": [
    "print(f\"There are {len(dominant_evt['EVT_GP_N'].unique())} EVT_GP_N categories.\\n\")\n",
    "print(dominant_evt['EVT_GP_N'].unique())"
   ]
  },
  {
   "cell_type": "code",
   "execution_count": null,
   "id": "2ee90890-de63-4323-b8c1-5db9e743906a",
   "metadata": {},
   "outputs": [],
   "source": [
    "# Save this file out as well.\n",
    "out_fp = os.path.join(projdir,'data/tabular/mod/EVT/afd_aspen-fires_2018_to_2023_buffer-EVT-dominant.csv')\n",
    "dominant_evt.to_csv(out_fp)\n",
    "print(f\"Saved zonal statistics to: {out_fp}\")"
   ]
  },
  {
   "cell_type": "code",
   "execution_count": null,
   "id": "d4da4b6a-4431-43d9-9677-484fb384465b",
   "metadata": {},
   "outputs": [],
   "source": [
    "# Join back to FRP\n",
    "frp = afds[['afdID','INSTRUMENT','ACQ_DATETIME','DAYNIGHT','FRP','na_l3name']]\n",
    "frp = frp[frp['na_l3name'] == 'Southern Rockies']\n",
    "evt = dominant_evt[['afdID','EVT_NAME','EVT_PHYS','EVT_GP_N','pct_cover']]\n",
    "frp_evt = pd.merge(frp, evt, on='afdID', how='left')\n",
    "frp_evt.head()"
   ]
  },
  {
   "cell_type": "code",
   "execution_count": null,
   "id": "887f4c8f-4157-44c4-9fbd-de4f0fcf7946",
   "metadata": {},
   "outputs": [],
   "source": [
    "# Plot FRP by EVT group name\n",
    "\n",
    "df = frp_evt[frp_evt['INSTRUMENT'] == 'VIIRS']\n",
    "\n",
    "med_frp = df.groupby('EVT_GP_N')['FRP'].median().sort_values(ascending=False)\n",
    "sorted = med_frp.index.tolist()\n",
    "\n",
    "plt.figure(figsize=(10, 10)) \n",
    "\n",
    "sns.boxplot(\n",
    "    data=df,\n",
    "    x='FRP', \n",
    "    y='EVT_GP_N', \n",
    "    hue='DAYNIGHT',\n",
    "    order=sorted,  \n",
    "    palette='coolwarm', \n",
    "    dodge=True\n",
    ")\n",
    "\n",
    "plt.xscale('log')\n",
    "\n",
    "plt.xlabel('Fire Radiative Power (FRP)')\n",
    "plt.ylabel('Dominant Vegetation Type')\n",
    "\n",
    "plt.tight_layout()\n",
    "plt.show()"
   ]
  },
  {
   "cell_type": "code",
   "execution_count": null,
   "id": "6d05b1f9-5ff3-4fc2-ad00-a31dafe8c74a",
   "metadata": {},
   "outputs": [],
   "source": []
  },
  {
   "cell_type": "code",
   "execution_count": null,
   "id": "6b1c90df-820c-40ec-8d81-fb584cefbf6e",
   "metadata": {},
   "outputs": [],
   "source": []
  },
  {
   "cell_type": "markdown",
   "id": "3f5f4e38-a329-467a-a3c1-4f423a46fb8d",
   "metadata": {},
   "source": [
    "### Calculate the CBD, CBH, and CC from LANDFIRE\n",
    "\n",
    "Now we calculate zonal statistics for these continuous attributes from LANDFIRE (e.g., mean within the AFD buffer zone)."
   ]
  },
  {
   "cell_type": "code",
   "execution_count": null,
   "id": "ed744edf-4476-4e38-a046-a93a28d3d34d",
   "metadata": {},
   "outputs": [],
   "source": []
  },
  {
   "cell_type": "code",
   "execution_count": null,
   "id": "e832c900-84dc-42d6-aff2-db8c596eb5ff",
   "metadata": {},
   "outputs": [],
   "source": [
    "start = time.time()    \n",
    "\n",
    "# Read in the LANDFIRE layers\n",
    "cbd_path = os.path.join(maindir,'data/landcover/LANDFIRE/LF2020_CBD_200_CONUS/Tif/LC20_CBD_200.tif')\n",
    "cbh_path = os.path.join(maindir,'data/landcover/LANDFIRE/LF2020_CBH_200_CONUS/Tif/LC20_CBH_200.tif')\n",
    "tcc_path = os.path.join(maindir,'data/landcover/LANDFIRE/LF2020_CC_200_CONUS/Tif/LC20_CC_200.tif')\n",
    "\n",
    "lf_paths = [cbd_path, cbh_path, tcc_path]\n",
    "attrs = ['cbd','cbh','tcc']\n",
    "\n",
    "results = []\n",
    "for i in range(len(lf_paths)):\n",
    "    lf = lf_paths[i]\n",
    "    attr = attrs[i]\n",
    "    print(f'Processing {os.path.basename(lf)}')\n",
    "\n",
    "    # Open the raster data and crop to bounds as before\n",
    "    lf_da = rxr.open_rasterio(lf, masked=True, cache=False).squeeze()\n",
    "    lf_da_crop = lf_da.rio.clip_box(\n",
    "        minx=bounds[0]+1000, # +1000 meters for a small buffer\n",
    "        miny=bounds[1]+1000, \n",
    "        maxx=bounds[2]+1000, \n",
    "        maxy=bounds[3]+1000\n",
    "    )\n",
    "\n",
    "    if not lf_da_crop.rio.crs == afds.crs:\n",
    "        print(\"CRS mismatch, fixing !\")\n",
    "        lf_da_crop = lf_da_crop.rio.reproject(afds.crs)\n",
    "\n",
    "    del lf_da # clean up\n",
    "    \n",
    "    # Calculate the zonal statistics\n",
    "    zsdf = compute_band_stats(\n",
    "        geoms=afds, \n",
    "        image_da=lf_da_crop, \n",
    "        id_col='afdID',\n",
    "        attr=attr,\n",
    "        stats=['mean'],\n",
    "        ztype='continuous'\n",
    "    )\n",
    "    \n",
    "    results.append(zsdf)\n",
    "    del zsdf\n",
    "\n",
    "print(f\"\\nTotal elapsed time: {round((time.time() - start)/60)} minutes\")"
   ]
  },
  {
   "cell_type": "code",
   "execution_count": null,
   "id": "04a5565c-306b-4959-b462-040c89f15a1e",
   "metadata": {},
   "outputs": [],
   "source": [
    "from functools import reduce\n",
    "afd_lf_ = reduce(lambda left, right: pd.merge(left, right, on='afdID', how='inner'), results)\n",
    "afd_lf_.head()"
   ]
  },
  {
   "cell_type": "code",
   "execution_count": null,
   "id": "f502ab23-a362-41d5-8221-6f1d7c198d31",
   "metadata": {},
   "outputs": [],
   "source": [
    "# Join to the percent cover data\n"
   ]
  }
 ],
 "metadata": {
  "kernelspec": {
   "display_name": "aspen-fire",
   "language": "python",
   "name": "aspen-fire"
  },
  "language_info": {
   "codemirror_mode": {
    "name": "ipython",
    "version": 3
   },
   "file_extension": ".py",
   "mimetype": "text/x-python",
   "name": "python",
   "nbconvert_exporter": "python",
   "pygments_lexer": "ipython3",
   "version": "3.10.12"
  }
 },
 "nbformat": 4,
 "nbformat_minor": 5
}
