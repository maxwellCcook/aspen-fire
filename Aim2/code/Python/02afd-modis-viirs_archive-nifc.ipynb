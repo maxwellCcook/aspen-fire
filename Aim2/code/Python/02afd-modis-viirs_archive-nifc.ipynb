{
 "cells": [
  {
   "cell_type": "code",
   "execution_count": 1,
   "id": "49947ce4-1f30-4924-896d-542778ac24a6",
   "metadata": {},
   "outputs": [
    {
     "name": "stdout",
     "output_type": "stream",
     "text": [
      "Ready to go !\n"
     ]
    }
   ],
   "source": [
    "\"\"\"\n",
    "Extract Active Fire Detections (AFDs) from MODIS and VIIRS within \"aspen fires\"\n",
    "\n",
    "Author: maxwell.cook@colorado.edu\n",
    "\"\"\"\n",
    "\n",
    "import os, time, glob, sys\n",
    "import geopandas as gpd\n",
    "import matplotlib as mpl\n",
    "import matplotlib.pyplot as plt\n",
    "import seaborn as sns\n",
    "\n",
    "import warnings\n",
    "warnings.filterwarnings(\"ignore\") # suppresses annoying geopandas warning\n",
    "\n",
    "# Custom functions\n",
    "sys.path.append(os.path.join(os.getcwd(),'code/'))\n",
    "from __functions import *\n",
    "\n",
    "proj = 'EPSG:5070'\n",
    "\n",
    "maindir = '/Users/max/Library/CloudStorage/OneDrive-Personal/mcook/'\n",
    "projdir = os.path.join(maindir, 'aspen-fire/Aim2/')\n",
    "\n",
    "print(\"Ready to go !\")"
   ]
  },
  {
   "cell_type": "code",
   "execution_count": null,
   "id": "c62a76f5-3360-443f-b2fd-2d75546f1d79",
   "metadata": {},
   "outputs": [],
   "source": []
  },
  {
   "cell_type": "code",
   "execution_count": 2,
   "id": "92f3265a-348b-4093-a1b5-ef0bc30f989d",
   "metadata": {},
   "outputs": [],
   "source": [
    "# Load the fire data."
   ]
  },
  {
   "cell_type": "code",
   "execution_count": null,
   "id": "e8b70e87-83d7-416f-a886-fc6db0031161",
   "metadata": {},
   "outputs": [],
   "source": []
  },
  {
   "cell_type": "code",
   "execution_count": 3,
   "id": "444d750f-ac02-471b-a570-8f26385cf39c",
   "metadata": {},
   "outputs": [
    {
     "data": {
      "text/plain": [
       "Index(['NIFC_ID', 'NIFC_NAME', 'NIFC_ACRES', 'FINAL_ACRES', 'pct_aspen',\n",
       "       'INCIDENT_ID', 'INCIDENT_NAME', 'START_YEAR', 'CAUSE', 'DISCOVERY_DATE',\n",
       "       'DISCOVERY_DOY', 'WF_CESSATION_DATE', 'WF_CESSATION_DOY',\n",
       "       'STR_DESTROYED_TOTAL', 'STR_DAMAGED_TOTAL', 'STR_THREATENED_MAX',\n",
       "       'EVACUATION_REPORTED', 'PEAK_EVACUATIONS', 'WF_PEAK_AERIAL',\n",
       "       'WF_PEAK_PERSONNEL', 'na_l3name', 'geometry'],\n",
       "      dtype='object')"
      ]
     },
     "execution_count": 3,
     "metadata": {},
     "output_type": "execute_result"
    }
   ],
   "source": [
    "aspen_events_fp = os.path.join(projdir,'data/spatial/mod/NIFC/nifc-ics_2018_to_2023-aspen.gpkg')\n",
    "aspen_events = gpd.read_file(aspen_events_fp)\n",
    "aspen_events.columns"
   ]
  },
  {
   "cell_type": "code",
   "execution_count": 4,
   "id": "258aba23-d897-44c6-828b-a657e3e323ce",
   "metadata": {},
   "outputs": [
    {
     "data": {
      "text/html": [
       "<div>\n",
       "<style scoped>\n",
       "    .dataframe tbody tr th:only-of-type {\n",
       "        vertical-align: middle;\n",
       "    }\n",
       "\n",
       "    .dataframe tbody tr th {\n",
       "        vertical-align: top;\n",
       "    }\n",
       "\n",
       "    .dataframe thead th {\n",
       "        text-align: right;\n",
       "    }\n",
       "</style>\n",
       "<table border=\"1\" class=\"dataframe\">\n",
       "  <thead>\n",
       "    <tr style=\"text-align: right;\">\n",
       "      <th></th>\n",
       "      <th>NIFC_ID</th>\n",
       "      <th>NIFC_NAME</th>\n",
       "      <th>START_YEAR</th>\n",
       "      <th>DISCOVERY_DATE</th>\n",
       "      <th>WF_CESSATION_DATE</th>\n",
       "      <th>na_l3name</th>\n",
       "      <th>geometry</th>\n",
       "    </tr>\n",
       "  </thead>\n",
       "  <tbody>\n",
       "    <tr>\n",
       "      <th>0</th>\n",
       "      <td>6</td>\n",
       "      <td>DEVIL CREEK</td>\n",
       "      <td>2018</td>\n",
       "      <td>2018-07-19 15:46:00</td>\n",
       "      <td>2018-07-21 15:00:00</td>\n",
       "      <td>Southern Rockies</td>\n",
       "      <td>POLYGON ((-981652.207 1644806.151, -981706.081...</td>\n",
       "    </tr>\n",
       "    <tr>\n",
       "      <th>1</th>\n",
       "      <td>8</td>\n",
       "      <td>577</td>\n",
       "      <td>2019</td>\n",
       "      <td>2019-07-28 14:22:00</td>\n",
       "      <td>2019-08-18 16:00:00</td>\n",
       "      <td>Southern Rockies</td>\n",
       "      <td>POLYGON ((-1003686.183 1627306.363, -1003781.1...</td>\n",
       "    </tr>\n",
       "    <tr>\n",
       "      <th>2</th>\n",
       "      <td>14</td>\n",
       "      <td>416</td>\n",
       "      <td>2018</td>\n",
       "      <td>2018-06-01 11:02:00</td>\n",
       "      <td>2018-07-03 18:00:00</td>\n",
       "      <td>Southern Rockies</td>\n",
       "      <td>POLYGON ((-1038873.972 1658050.554, -1038972.9...</td>\n",
       "    </tr>\n",
       "    <tr>\n",
       "      <th>3</th>\n",
       "      <td>23</td>\n",
       "      <td>LOADING PEN</td>\n",
       "      <td>2020</td>\n",
       "      <td>2020-06-13 21:42:00</td>\n",
       "      <td>2020-06-18 17:45:00</td>\n",
       "      <td>Southern Rockies</td>\n",
       "      <td>POLYGON ((-1071536.445 1681756.498, -1071604.3...</td>\n",
       "    </tr>\n",
       "    <tr>\n",
       "      <th>4</th>\n",
       "      <td>24</td>\n",
       "      <td>PLATEAU</td>\n",
       "      <td>2018</td>\n",
       "      <td>2018-07-22 16:18:00</td>\n",
       "      <td>2018-08-17 18:45:00</td>\n",
       "      <td>Southern Rockies</td>\n",
       "      <td>POLYGON ((-1092835.850 1682570.218, -1092883.9...</td>\n",
       "    </tr>\n",
       "  </tbody>\n",
       "</table>\n",
       "</div>"
      ],
      "text/plain": [
       "  NIFC_ID    NIFC_NAME  START_YEAR      DISCOVERY_DATE   WF_CESSATION_DATE  \\\n",
       "0       6  DEVIL CREEK        2018 2018-07-19 15:46:00 2018-07-21 15:00:00   \n",
       "1       8          577        2019 2019-07-28 14:22:00 2019-08-18 16:00:00   \n",
       "2      14          416        2018 2018-06-01 11:02:00 2018-07-03 18:00:00   \n",
       "3      23  LOADING PEN        2020 2020-06-13 21:42:00 2020-06-18 17:45:00   \n",
       "4      24      PLATEAU        2018 2018-07-22 16:18:00 2018-08-17 18:45:00   \n",
       "\n",
       "          na_l3name                                           geometry  \n",
       "0  Southern Rockies  POLYGON ((-981652.207 1644806.151, -981706.081...  \n",
       "1  Southern Rockies  POLYGON ((-1003686.183 1627306.363, -1003781.1...  \n",
       "2  Southern Rockies  POLYGON ((-1038873.972 1658050.554, -1038972.9...  \n",
       "3  Southern Rockies  POLYGON ((-1071536.445 1681756.498, -1071604.3...  \n",
       "4  Southern Rockies  POLYGON ((-1092835.850 1682570.218, -1092883.9...  "
      ]
     },
     "execution_count": 4,
     "metadata": {},
     "output_type": "execute_result"
    }
   ],
   "source": [
    "# Create a fire perimeter buffer to extract FRP observations within 1km of bounds.\n",
    "bounds = create_bounds(aspen_events, buffer=1000, method='convex_hull')\n",
    "bounds = bounds.set_crs(proj, allow_override=True) # ensure correct crs\n",
    "bounds = bounds[['NIFC_ID','NIFC_NAME','START_YEAR','DISCOVERY_DATE','WF_CESSATION_DATE','na_l3name','geometry']] \n",
    "bounds['START_YEAR'] = bounds['START_YEAR'].astype(int)\n",
    "date_cols = ['DISCOVERY_DATE', 'WF_CESSATION_DATE']\n",
    "for col in date_cols:\n",
    "    bounds[col] = pd.to_datetime(bounds[col], errors='coerce')\n",
    "bounds.head()"
   ]
  },
  {
   "cell_type": "code",
   "execution_count": 5,
   "id": "9572203e-1079-421d-845e-94e3ff7fe2d4",
   "metadata": {},
   "outputs": [
    {
     "data": {
      "text/plain": [
       "<Projected CRS: EPSG:5070>\n",
       "Name: NAD83 / Conus Albers\n",
       "Axis Info [cartesian]:\n",
       "- X[east]: Easting (metre)\n",
       "- Y[north]: Northing (metre)\n",
       "Area of Use:\n",
       "- name: United States (USA) - CONUS onshore - Alabama; Arizona; Arkansas; California; Colorado; Connecticut; Delaware; Florida; Georgia; Idaho; Illinois; Indiana; Iowa; Kansas; Kentucky; Louisiana; Maine; Maryland; Massachusetts; Michigan; Minnesota; Mississippi; Missouri; Montana; Nebraska; Nevada; New Hampshire; New Jersey; New Mexico; New York; North Carolina; North Dakota; Ohio; Oklahoma; Oregon; Pennsylvania; Rhode Island; South Carolina; South Dakota; Tennessee; Texas; Utah; Vermont; Virginia; Washington; West Virginia; Wisconsin; Wyoming.\n",
       "- bounds: (-124.79, 24.41, -66.91, 49.38)\n",
       "Coordinate Operation:\n",
       "- name: Conus Albers\n",
       "- method: Albers Equal Area\n",
       "Datum: North American Datum 1983\n",
       "- Ellipsoid: GRS 1980\n",
       "- Prime Meridian: Greenwich"
      ]
     },
     "execution_count": 5,
     "metadata": {},
     "output_type": "execute_result"
    }
   ],
   "source": [
    "bounds.crs"
   ]
  },
  {
   "cell_type": "code",
   "execution_count": null,
   "id": "6c1b8d8d-9a4b-4f9a-9d65-310a5fd5615e",
   "metadata": {},
   "outputs": [],
   "source": []
  },
  {
   "cell_type": "code",
   "execution_count": null,
   "id": "3665ea14-4e11-4d09-980c-3ad2b125f2ed",
   "metadata": {},
   "outputs": [],
   "source": []
  },
  {
   "cell_type": "markdown",
   "id": "195ef7dd-bc30-4b9e-b9b9-57a4cd1356f7",
   "metadata": {},
   "source": [
    "### Load the Active Fire Detections (AFD) [2018-2023]\n",
    "AFDs from MODIS Collection 6.1 (1km) and the Suomi National Polar-Orbiting Partnership (VIIRS S-NPP 375m) were obtained from the NASA FIRMS (https://firms.modaps.eosdis.nasa.gov/download/) between 2018-2023 in the western US. The S-NPP AFDs include an archive shapefile and a NRT shapefile for Sept 2022-->"
   ]
  },
  {
   "cell_type": "code",
   "execution_count": 6,
   "id": "3eae4f3f-685b-4a9c-9557-b9ba89b94bd7",
   "metadata": {},
   "outputs": [
    {
     "name": "stdout",
     "output_type": "stream",
     "text": [
      "['fire_nrt_SV-C2_476784.shp', 'fire_archive_SV-C2_476784.shp']\n"
     ]
    }
   ],
   "source": [
    "# Gather the archive and NRT S-NPP AFDs.\n",
    "snpp_fp = os.path.join(projdir,'data/spatial/raw/NASA-FIRMS/y2018_to_2023/DL_FIRE_SV-C2_476784/')\n",
    "vects = glob.glob(snpp_fp+\"*.shp\")\n",
    "print([os.path.basename(v) for v in vects])"
   ]
  },
  {
   "cell_type": "code",
   "execution_count": 7,
   "id": "ab8eb693-f076-457b-bd7d-4ee7aac2c66a",
   "metadata": {},
   "outputs": [
    {
     "data": {
      "text/html": [
       "<div>\n",
       "<style scoped>\n",
       "    .dataframe tbody tr th:only-of-type {\n",
       "        vertical-align: middle;\n",
       "    }\n",
       "\n",
       "    .dataframe tbody tr th {\n",
       "        vertical-align: top;\n",
       "    }\n",
       "\n",
       "    .dataframe thead th {\n",
       "        text-align: right;\n",
       "    }\n",
       "</style>\n",
       "<table border=\"1\" class=\"dataframe\">\n",
       "  <thead>\n",
       "    <tr style=\"text-align: right;\">\n",
       "      <th></th>\n",
       "      <th>LATITUDE</th>\n",
       "      <th>LONGITUDE</th>\n",
       "      <th>BRIGHTNESS</th>\n",
       "      <th>SCAN</th>\n",
       "      <th>TRACK</th>\n",
       "      <th>ACQ_DATE</th>\n",
       "      <th>ACQ_TIME</th>\n",
       "      <th>SATELLITE</th>\n",
       "      <th>INSTRUMENT</th>\n",
       "      <th>CONFIDENCE</th>\n",
       "      <th>VERSION</th>\n",
       "      <th>BRIGHT_T31</th>\n",
       "      <th>FRP</th>\n",
       "      <th>DAYNIGHT</th>\n",
       "      <th>TYPE</th>\n",
       "      <th>geometry</th>\n",
       "    </tr>\n",
       "  </thead>\n",
       "  <tbody>\n",
       "    <tr>\n",
       "      <th>0</th>\n",
       "      <td>36.622398</td>\n",
       "      <td>-119.958420</td>\n",
       "      <td>319.25</td>\n",
       "      <td>0.45</td>\n",
       "      <td>0.63</td>\n",
       "      <td>2018-01-01</td>\n",
       "      <td>0854</td>\n",
       "      <td>N</td>\n",
       "      <td>VIIRS</td>\n",
       "      <td>n</td>\n",
       "      <td>1</td>\n",
       "      <td>276.46</td>\n",
       "      <td>1.93</td>\n",
       "      <td>N</td>\n",
       "      <td>0.0</td>\n",
       "      <td>POINT (-2100437.814 1774627.392)</td>\n",
       "    </tr>\n",
       "    <tr>\n",
       "      <th>1</th>\n",
       "      <td>48.166241</td>\n",
       "      <td>-102.698212</td>\n",
       "      <td>323.92</td>\n",
       "      <td>0.38</td>\n",
       "      <td>0.36</td>\n",
       "      <td>2018-01-01</td>\n",
       "      <td>0854</td>\n",
       "      <td>N</td>\n",
       "      <td>VIIRS</td>\n",
       "      <td>n</td>\n",
       "      <td>1</td>\n",
       "      <td>244.01</td>\n",
       "      <td>3.01</td>\n",
       "      <td>N</td>\n",
       "      <td>0.0</td>\n",
       "      <td>POINT (-502299.189 2814197.682)</td>\n",
       "    </tr>\n",
       "    <tr>\n",
       "      <th>2</th>\n",
       "      <td>48.152390</td>\n",
       "      <td>-102.697792</td>\n",
       "      <td>325.34</td>\n",
       "      <td>0.38</td>\n",
       "      <td>0.36</td>\n",
       "      <td>2018-01-01</td>\n",
       "      <td>0854</td>\n",
       "      <td>N</td>\n",
       "      <td>VIIRS</td>\n",
       "      <td>n</td>\n",
       "      <td>1</td>\n",
       "      <td>247.16</td>\n",
       "      <td>2.07</td>\n",
       "      <td>N</td>\n",
       "      <td>0.0</td>\n",
       "      <td>POINT (-502375.241 2812672.753)</td>\n",
       "    </tr>\n",
       "    <tr>\n",
       "      <th>3</th>\n",
       "      <td>47.879730</td>\n",
       "      <td>-102.706543</td>\n",
       "      <td>320.74</td>\n",
       "      <td>0.38</td>\n",
       "      <td>0.36</td>\n",
       "      <td>2018-01-01</td>\n",
       "      <td>0854</td>\n",
       "      <td>N</td>\n",
       "      <td>VIIRS</td>\n",
       "      <td>n</td>\n",
       "      <td>1</td>\n",
       "      <td>245.34</td>\n",
       "      <td>3.00</td>\n",
       "      <td>N</td>\n",
       "      <td>0.0</td>\n",
       "      <td>POINT (-505150.481 2782728.231)</td>\n",
       "    </tr>\n",
       "    <tr>\n",
       "      <th>4</th>\n",
       "      <td>44.249660</td>\n",
       "      <td>-104.516678</td>\n",
       "      <td>327.49</td>\n",
       "      <td>0.38</td>\n",
       "      <td>0.36</td>\n",
       "      <td>2018-01-01</td>\n",
       "      <td>0854</td>\n",
       "      <td>N</td>\n",
       "      <td>VIIRS</td>\n",
       "      <td>n</td>\n",
       "      <td>1</td>\n",
       "      <td>251.79</td>\n",
       "      <td>5.84</td>\n",
       "      <td>N</td>\n",
       "      <td>0.0</td>\n",
       "      <td>POINT (-677212.174 2392519.636)</td>\n",
       "    </tr>\n",
       "  </tbody>\n",
       "</table>\n",
       "</div>"
      ],
      "text/plain": [
       "    LATITUDE   LONGITUDE  BRIGHTNESS  SCAN  TRACK    ACQ_DATE ACQ_TIME  \\\n",
       "0  36.622398 -119.958420      319.25  0.45   0.63  2018-01-01     0854   \n",
       "1  48.166241 -102.698212      323.92  0.38   0.36  2018-01-01     0854   \n",
       "2  48.152390 -102.697792      325.34  0.38   0.36  2018-01-01     0854   \n",
       "3  47.879730 -102.706543      320.74  0.38   0.36  2018-01-01     0854   \n",
       "4  44.249660 -104.516678      327.49  0.38   0.36  2018-01-01     0854   \n",
       "\n",
       "  SATELLITE INSTRUMENT CONFIDENCE VERSION  BRIGHT_T31   FRP DAYNIGHT  TYPE  \\\n",
       "0         N      VIIRS          n       1      276.46  1.93        N   0.0   \n",
       "1         N      VIIRS          n       1      244.01  3.01        N   0.0   \n",
       "2         N      VIIRS          n       1      247.16  2.07        N   0.0   \n",
       "3         N      VIIRS          n       1      245.34  3.00        N   0.0   \n",
       "4         N      VIIRS          n       1      251.79  5.84        N   0.0   \n",
       "\n",
       "                           geometry  \n",
       "0  POINT (-2100437.814 1774627.392)  \n",
       "1   POINT (-502299.189 2814197.682)  \n",
       "2   POINT (-502375.241 2812672.753)  \n",
       "3   POINT (-505150.481 2782728.231)  \n",
       "4   POINT (-677212.174 2392519.636)  "
      ]
     },
     "execution_count": 7,
     "metadata": {},
     "output_type": "execute_result"
    }
   ],
   "source": [
    "# Merge the NRT and archive vintages\n",
    "archive = gpd.read_file([v for v in vects if \"archive\" in v][0]).to_crs(proj)\n",
    "nrt = gpd.read_file([v for v in vects if \"nrt\" in v][0]).to_crs(proj)\n",
    "snpp = pd.concat([archive, nrt], ignore_index=True)\n",
    "snpp.head()"
   ]
  },
  {
   "cell_type": "code",
   "execution_count": 8,
   "id": "126f1a3f-ed29-4066-9e8e-6ddb84ba2a8f",
   "metadata": {},
   "outputs": [
    {
     "data": {
      "text/html": [
       "<div>\n",
       "<style scoped>\n",
       "    .dataframe tbody tr th:only-of-type {\n",
       "        vertical-align: middle;\n",
       "    }\n",
       "\n",
       "    .dataframe tbody tr th {\n",
       "        vertical-align: top;\n",
       "    }\n",
       "\n",
       "    .dataframe thead th {\n",
       "        text-align: right;\n",
       "    }\n",
       "</style>\n",
       "<table border=\"1\" class=\"dataframe\">\n",
       "  <thead>\n",
       "    <tr style=\"text-align: right;\">\n",
       "      <th></th>\n",
       "      <th>LATITUDE</th>\n",
       "      <th>LONGITUDE</th>\n",
       "      <th>BRIGHTNESS</th>\n",
       "      <th>SCAN</th>\n",
       "      <th>TRACK</th>\n",
       "      <th>ACQ_DATE</th>\n",
       "      <th>ACQ_TIME</th>\n",
       "      <th>SATELLITE</th>\n",
       "      <th>INSTRUMENT</th>\n",
       "      <th>CONFIDENCE</th>\n",
       "      <th>VERSION</th>\n",
       "      <th>BRIGHT_T31</th>\n",
       "      <th>FRP</th>\n",
       "      <th>DAYNIGHT</th>\n",
       "      <th>TYPE</th>\n",
       "      <th>geometry</th>\n",
       "    </tr>\n",
       "  </thead>\n",
       "  <tbody>\n",
       "    <tr>\n",
       "      <th>0</th>\n",
       "      <td>44.3762</td>\n",
       "      <td>-119.1190</td>\n",
       "      <td>312.5</td>\n",
       "      <td>1.2</td>\n",
       "      <td>1.1</td>\n",
       "      <td>2018-01-01</td>\n",
       "      <td>0608</td>\n",
       "      <td>Terra</td>\n",
       "      <td>MODIS</td>\n",
       "      <td>85</td>\n",
       "      <td>6.03</td>\n",
       "      <td>269.1</td>\n",
       "      <td>21.9</td>\n",
       "      <td>N</td>\n",
       "      <td>0</td>\n",
       "      <td>POINT (-1819292.701 2598646.798)</td>\n",
       "    </tr>\n",
       "    <tr>\n",
       "      <th>1</th>\n",
       "      <td>32.1679</td>\n",
       "      <td>-107.7655</td>\n",
       "      <td>322.3</td>\n",
       "      <td>1.1</td>\n",
       "      <td>1.0</td>\n",
       "      <td>2018-01-01</td>\n",
       "      <td>1809</td>\n",
       "      <td>Terra</td>\n",
       "      <td>MODIS</td>\n",
       "      <td>77</td>\n",
       "      <td>6.03</td>\n",
       "      <td>289.1</td>\n",
       "      <td>19.0</td>\n",
       "      <td>D</td>\n",
       "      <td>0</td>\n",
       "      <td>POINT (-1101321.656 1078752.715)</td>\n",
       "    </tr>\n",
       "    <tr>\n",
       "      <th>2</th>\n",
       "      <td>32.1643</td>\n",
       "      <td>-107.7433</td>\n",
       "      <td>318.4</td>\n",
       "      <td>1.1</td>\n",
       "      <td>1.0</td>\n",
       "      <td>2018-01-01</td>\n",
       "      <td>1809</td>\n",
       "      <td>Terra</td>\n",
       "      <td>MODIS</td>\n",
       "      <td>74</td>\n",
       "      <td>6.03</td>\n",
       "      <td>287.9</td>\n",
       "      <td>14.9</td>\n",
       "      <td>D</td>\n",
       "      <td>0</td>\n",
       "      <td>POINT (-1099303.652 1078097.526)</td>\n",
       "    </tr>\n",
       "    <tr>\n",
       "      <th>3</th>\n",
       "      <td>31.7188</td>\n",
       "      <td>-102.0085</td>\n",
       "      <td>303.8</td>\n",
       "      <td>1.4</td>\n",
       "      <td>1.2</td>\n",
       "      <td>2018-01-01</td>\n",
       "      <td>1944</td>\n",
       "      <td>Aqua</td>\n",
       "      <td>MODIS</td>\n",
       "      <td>57</td>\n",
       "      <td>6.03</td>\n",
       "      <td>279.4</td>\n",
       "      <td>12.6</td>\n",
       "      <td>D</td>\n",
       "      <td>0</td>\n",
       "      <td>POINT (-566656.554 978378.293)</td>\n",
       "    </tr>\n",
       "    <tr>\n",
       "      <th>4</th>\n",
       "      <td>38.8238</td>\n",
       "      <td>-122.6829</td>\n",
       "      <td>302.0</td>\n",
       "      <td>2.7</td>\n",
       "      <td>1.6</td>\n",
       "      <td>2018-01-01</td>\n",
       "      <td>1946</td>\n",
       "      <td>Terra</td>\n",
       "      <td>MODIS</td>\n",
       "      <td>50</td>\n",
       "      <td>6.03</td>\n",
       "      <td>280.2</td>\n",
       "      <td>26.9</td>\n",
       "      <td>D</td>\n",
       "      <td>0</td>\n",
       "      <td>POINT (-2264952.497 2075236.763)</td>\n",
       "    </tr>\n",
       "  </tbody>\n",
       "</table>\n",
       "</div>"
      ],
      "text/plain": [
       "   LATITUDE  LONGITUDE  BRIGHTNESS  SCAN  TRACK    ACQ_DATE ACQ_TIME  \\\n",
       "0   44.3762  -119.1190       312.5   1.2    1.1  2018-01-01     0608   \n",
       "1   32.1679  -107.7655       322.3   1.1    1.0  2018-01-01     1809   \n",
       "2   32.1643  -107.7433       318.4   1.1    1.0  2018-01-01     1809   \n",
       "3   31.7188  -102.0085       303.8   1.4    1.2  2018-01-01     1944   \n",
       "4   38.8238  -122.6829       302.0   2.7    1.6  2018-01-01     1946   \n",
       "\n",
       "  SATELLITE INSTRUMENT  CONFIDENCE VERSION  BRIGHT_T31   FRP DAYNIGHT  TYPE  \\\n",
       "0     Terra      MODIS          85    6.03       269.1  21.9        N     0   \n",
       "1     Terra      MODIS          77    6.03       289.1  19.0        D     0   \n",
       "2     Terra      MODIS          74    6.03       287.9  14.9        D     0   \n",
       "3      Aqua      MODIS          57    6.03       279.4  12.6        D     0   \n",
       "4     Terra      MODIS          50    6.03       280.2  26.9        D     0   \n",
       "\n",
       "                           geometry  \n",
       "0  POINT (-1819292.701 2598646.798)  \n",
       "1  POINT (-1101321.656 1078752.715)  \n",
       "2  POINT (-1099303.652 1078097.526)  \n",
       "3    POINT (-566656.554 978378.293)  \n",
       "4  POINT (-2264952.497 2075236.763)  "
      ]
     },
     "execution_count": 8,
     "metadata": {},
     "output_type": "execute_result"
    }
   ],
   "source": [
    "# Set up a dictionary to store both MODIS and VIIRS AFDs\n",
    "modis_fp = os.path.join(projdir,'data/spatial/raw/NASA-FIRMS/y2018_to_2023/DL_FIRE_M-C61_476781/')\n",
    "\n",
    "# Store these in a dictionary\n",
    "afds = {\n",
    "    \"MOD61\": gpd.read_file(modis_fp).to_crs(proj),\n",
    "    \"SNPP\": snpp\n",
    "}\n",
    "\n",
    "afds['MOD61'].head()"
   ]
  },
  {
   "cell_type": "code",
   "execution_count": 9,
   "id": "7003f152-6e2c-461d-b616-15a023ff3fc4",
   "metadata": {},
   "outputs": [
    {
     "data": {
      "text/plain": [
       "<Projected CRS: EPSG:5070>\n",
       "Name: NAD83 / Conus Albers\n",
       "Axis Info [cartesian]:\n",
       "- X[east]: Easting (metre)\n",
       "- Y[north]: Northing (metre)\n",
       "Area of Use:\n",
       "- name: United States (USA) - CONUS onshore - Alabama; Arizona; Arkansas; California; Colorado; Connecticut; Delaware; Florida; Georgia; Idaho; Illinois; Indiana; Iowa; Kansas; Kentucky; Louisiana; Maine; Maryland; Massachusetts; Michigan; Minnesota; Mississippi; Missouri; Montana; Nebraska; Nevada; New Hampshire; New Jersey; New Mexico; New York; North Carolina; North Dakota; Ohio; Oklahoma; Oregon; Pennsylvania; Rhode Island; South Carolina; South Dakota; Tennessee; Texas; Utah; Vermont; Virginia; Washington; West Virginia; Wisconsin; Wyoming.\n",
       "- bounds: (-124.79, 24.41, -66.91, 49.38)\n",
       "Coordinate Operation:\n",
       "- name: Conus Albers\n",
       "- method: Albers Equal Area\n",
       "Datum: North American Datum 1983\n",
       "- Ellipsoid: GRS 1980\n",
       "- Prime Meridian: Greenwich"
      ]
     },
     "execution_count": 9,
     "metadata": {},
     "output_type": "execute_result"
    }
   ],
   "source": [
    "afds['MOD61'].crs"
   ]
  },
  {
   "cell_type": "code",
   "execution_count": null,
   "id": "d39b3c37-8fea-4d0b-af2c-831787c50134",
   "metadata": {},
   "outputs": [],
   "source": []
  },
  {
   "cell_type": "code",
   "execution_count": 10,
   "id": "57af249d-0e08-408e-93f3-41274070218c",
   "metadata": {},
   "outputs": [],
   "source": [
    "# Extract the AFDs within fire bounds."
   ]
  },
  {
   "cell_type": "code",
   "execution_count": null,
   "id": "f3de4609-2c93-4dbc-8e34-6464d66b07e6",
   "metadata": {},
   "outputs": [],
   "source": []
  },
  {
   "cell_type": "code",
   "execution_count": 11,
   "id": "143cf807-00ce-48fd-8ba0-7ab2adde47c7",
   "metadata": {},
   "outputs": [
    {
     "name": "stdout",
     "output_type": "stream",
     "text": [
      "Processing: MOD61\n",
      "Be aware ! Duplicates found ! 348 to be exact ...\n",
      "\tThere are [27978] high or nominal confidence detections within fire bounds.\n",
      "Saved to /Users/max/Library/CloudStorage/OneDrive-Personal/mcook/aspen-fire/Aim2/data/spatial/mod/AFD/MOD61/MOD61-afd_aspen-fires_2018_to_2023.gpkg\n",
      "\n",
      "Processing: SNPP\n",
      "Be aware ! Duplicates found ! 1250 to be exact ...\n",
      "\tThere are [116986] high or nominal confidence detections within fire bounds.\n",
      "Saved to /Users/max/Library/CloudStorage/OneDrive-Personal/mcook/aspen-fire/Aim2/data/spatial/mod/AFD/SNPP/SNPP-afd_aspen-fires_2018_to_2023.gpkg\n",
      "\n",
      "Saved duplicates to /Users/max/Library/CloudStorage/OneDrive-Personal/mcook/aspen-fire/Aim2/data/spatial/mod/AFD/afd_duplicates.gpkg\n",
      "\n",
      "Processing complete !\n"
     ]
    }
   ],
   "source": [
    "afd_events = {} # to store the filtered data\n",
    "duplicate_list = [] # to store duplicate obs.\n",
    "# Loop through sensors (MODIS and VIIRS)\n",
    "for satellite, afd in afds.items():\n",
    "    print(f\"Processing: {satellite}\")\n",
    "    \n",
    "    afd['VID'] = afd.index # add a unique ID\n",
    "\n",
    "    # ####################################\n",
    "    # # Remove low confidence observations\n",
    "    # try:\n",
    "    #     afd = afd[afd['CONFIDENCE'] != 'l']\n",
    "    # except KeyError as e:\n",
    "    #     print(f\"KeyError: {e}\")\n",
    "\n",
    "    ############################\n",
    "    # Extract within fire bounds\n",
    "    if afd.crs != bounds.crs:\n",
    "        afd = afd.to_crs(bounds.crs)  # ensure the crs matches\n",
    "\n",
    "    afd_ = gpd.sjoin(afd, bounds, how='inner', predicate='within')\n",
    "    afd_.drop(columns=['index_right'], inplace=True)\n",
    "\n",
    "    ####################################\n",
    "    # Tidy the date columns for matching\n",
    "    afd_['ACQ_DATE'] = pd.to_datetime(afd_['ACQ_DATE'])\n",
    "    afd_['ACQ_MONTH'] = afd_['ACQ_DATE'].dt.month.astype(int)\n",
    "    afd_['ACQ_YEAR'] = afd_['ACQ_DATE'].dt.year.astype(int)\n",
    "    \n",
    "    # Create a datetime object\n",
    "    afd_.loc[:, 'ACQ_DATETIME'] = afd_.apply(lambda row: convert_datetime(row['ACQ_DATE'], row['ACQ_TIME']), axis=1)\n",
    "    \n",
    "    # Filter for matching dates\n",
    "    afd_f = afd_[\n",
    "        (afd_['ACQ_YEAR'] >= afd_['DISCOVERY_DATE'].dt.year.astype(int)) & \n",
    "        (afd_['ACQ_MONTH'] >= afd_['DISCOVERY_DATE'].dt.month.astype(int)) &\n",
    "        (afd_['ACQ_YEAR'] <= afd_['WF_CESSATION_DATE'].dt.year.astype(int)) &\n",
    "        (afd_['ACQ_MONTH'] <= afd_['WF_CESSATION_DATE'].dt.month.astype(int))\n",
    "    ]\n",
    "\n",
    "    #####################\n",
    "    # Drop any duplicates\n",
    "    duplicates = afd_f[afd_f.duplicated(subset='VID', keep=False)]\n",
    "    if len(duplicates) > 0:\n",
    "        print(f\"Be aware ! Duplicates found ! {len(duplicates)} to be exact ...\")\n",
    "        duplicate_list.append(duplicates)\n",
    "        afd_f = afd_f.drop_duplicates(subset='VID', keep='first')\n",
    "\n",
    "    ######################\n",
    "    \n",
    "    print(f\"\\tThere are [{len(afd_f)}] high or nominal confidence detections within fire bounds.\")\n",
    "\n",
    "    # Overwrite the dictionary items\n",
    "    afd_events[satellite] = afd_f\n",
    "\n",
    "    # Save the AFD observation in fire bounds\n",
    "    out_fp = os.path.join(projdir,f'data/spatial/mod/AFD/{satellite}/{satellite}-afd_aspen-fires_2018_to_2023.gpkg')\n",
    "    afd_f.to_file(out_fp)\n",
    "    print(f'Saved to {out_fp}\\n')\n",
    "    \n",
    "    del afd, afd_, afd_f, duplicates\n",
    "    gc.collect()\n",
    "\n",
    "# Export duplicates if they exist\n",
    "if duplicate_list:\n",
    "    duplicates_gdf = pd.concat(duplicate_list, ignore_index=True)\n",
    "    out_fp = os.path.join(projdir, 'data/spatial/mod/AFD/afd_duplicates.gpkg')\n",
    "    duplicates_gdf.to_file(out_fp)\n",
    "    print(f\"Saved duplicates to {out_fp}\")\n",
    "    \n",
    "print(\"\\nProcessing complete !\")"
   ]
  },
  {
   "cell_type": "code",
   "execution_count": 12,
   "id": "14921074-c6fc-42c5-87ff-29b5339cb29e",
   "metadata": {},
   "outputs": [
    {
     "data": {
      "text/plain": [
       "Index(['LATITUDE', 'LONGITUDE', 'BRIGHTNESS', 'SCAN', 'TRACK', 'ACQ_DATE',\n",
       "       'ACQ_TIME', 'SATELLITE', 'INSTRUMENT', 'CONFIDENCE', 'VERSION',\n",
       "       'BRIGHT_T31', 'FRP', 'DAYNIGHT', 'TYPE', 'geometry', 'VID', 'NIFC_ID',\n",
       "       'NIFC_NAME', 'START_YEAR', 'DISCOVERY_DATE', 'WF_CESSATION_DATE',\n",
       "       'na_l3name', 'ACQ_MONTH', 'ACQ_YEAR', 'ACQ_DATETIME'],\n",
       "      dtype='object')"
      ]
     },
     "execution_count": 12,
     "metadata": {},
     "output_type": "execute_result"
    }
   ],
   "source": [
    "afd_events['MOD61'].columns"
   ]
  },
  {
   "cell_type": "code",
   "execution_count": null,
   "id": "509f870f-462d-458b-acc0-9588bbb58a20",
   "metadata": {},
   "outputs": [],
   "source": []
  },
  {
   "cell_type": "code",
   "execution_count": 13,
   "id": "e8c0d755-6bcd-4dde-bf26-9cbf2eb5c450",
   "metadata": {},
   "outputs": [],
   "source": [
    "# Create the AFD \"detection buffer\" for both MODIS and VIIRS"
   ]
  },
  {
   "cell_type": "code",
   "execution_count": null,
   "id": "a6c8f53d-414f-4ced-a4b0-a24381533aad",
   "metadata": {},
   "outputs": [],
   "source": []
  },
  {
   "cell_type": "code",
   "execution_count": 14,
   "id": "e31b646c-d3ff-48e8-9c04-52750cdca3ed",
   "metadata": {},
   "outputs": [
    {
     "name": "stdout",
     "output_type": "stream",
     "text": [
      "Creating buffer for MOD61 observations.\n",
      "Saved to /Users/max/Library/CloudStorage/OneDrive-Personal/mcook/aspen-fire/Aim2/data/spatial/mod/AFD/MOD61-afd_aspen-fires_2018_to_2023_buffer.gpkg\n",
      "\n",
      "Creating buffer for SNPP observations.\n",
      "Saved to /Users/max/Library/CloudStorage/OneDrive-Personal/mcook/aspen-fire/Aim2/data/spatial/mod/AFD/SNPP-afd_aspen-fires_2018_to_2023_buffer.gpkg\n",
      "\n"
     ]
    }
   ],
   "source": [
    "afd_events_plots = {} # to store the buffered observations\n",
    "for satellite, afd in afd_events.items():\n",
    "    print(f\"Creating buffer for {satellite} observations.\")\n",
    "\n",
    "    afd_ = afd.copy()\n",
    "    if satellite == 'MOD61':\n",
    "        afd_.geometry = afd_.geometry.buffer(500, cap_style=3) # square buffer half of pixel size\n",
    "    elif satellite == 'SNPP':\n",
    "        afd_.geometry = afd_.geometry.buffer(187.5, cap_style=3) # square buffer half of pixel size\n",
    "\n",
    "    afd_events_plots[satellite] = afd_ # add to the new dictionary\n",
    "\n",
    "    # Save out\n",
    "    out_fp = os.path.join(projdir,f'data/spatial/mod/AFD/{satellite}-afd_aspen-fires_2018_to_2023_buffer.gpkg')\n",
    "    afd_.to_file(out_fp)\n",
    "    print(f'Saved to {out_fp}\\n')\n",
    "\n",
    "    del afd_\n",
    "    gc.collect()"
   ]
  },
  {
   "cell_type": "code",
   "execution_count": 15,
   "id": "0f0677e2-bd14-4f1a-8a83-1aa88f4c68e5",
   "metadata": {},
   "outputs": [
    {
     "name": "stdout",
     "output_type": "stream",
     "text": [
      "Index(['LATITUDE', 'LONGITUDE', 'BRIGHTNESS', 'SCAN', 'TRACK', 'ACQ_DATE',\n",
      "       'ACQ_TIME', 'SATELLITE', 'INSTRUMENT', 'CONFIDENCE', 'VERSION',\n",
      "       'BRIGHT_T31', 'FRP', 'DAYNIGHT', 'TYPE', 'geometry', 'VID', 'NIFC_ID',\n",
      "       'NIFC_NAME', 'START_YEAR', 'DISCOVERY_DATE', 'WF_CESSATION_DATE',\n",
      "       'na_l3name', 'ACQ_MONTH', 'ACQ_YEAR', 'ACQ_DATETIME'],\n",
      "      dtype='object')\n",
      "\n",
      "~~~~~~~~~\n",
      "\n",
      "Index(['LATITUDE', 'LONGITUDE', 'BRIGHTNESS', 'SCAN', 'TRACK', 'ACQ_DATE',\n",
      "       'ACQ_TIME', 'SATELLITE', 'INSTRUMENT', 'CONFIDENCE', 'VERSION',\n",
      "       'BRIGHT_T31', 'FRP', 'DAYNIGHT', 'TYPE', 'geometry', 'VID', 'NIFC_ID',\n",
      "       'NIFC_NAME', 'START_YEAR', 'DISCOVERY_DATE', 'WF_CESSATION_DATE',\n",
      "       'na_l3name', 'ACQ_MONTH', 'ACQ_YEAR', 'ACQ_DATETIME'],\n",
      "      dtype='object')\n"
     ]
    }
   ],
   "source": [
    "print(afd_events_plots['MOD61'].columns)\n",
    "print(\"\\n~~~~~~~~~\\n\")\n",
    "print(afd_events_plots['SNPP'].columns)"
   ]
  },
  {
   "cell_type": "code",
   "execution_count": 16,
   "id": "8c2e7c86-6667-4cbb-9445-36db3ecce78e",
   "metadata": {},
   "outputs": [
    {
     "data": {
      "text/html": [
       "<div>\n",
       "<style scoped>\n",
       "    .dataframe tbody tr th:only-of-type {\n",
       "        vertical-align: middle;\n",
       "    }\n",
       "\n",
       "    .dataframe tbody tr th {\n",
       "        vertical-align: top;\n",
       "    }\n",
       "\n",
       "    .dataframe thead th {\n",
       "        text-align: right;\n",
       "    }\n",
       "</style>\n",
       "<table border=\"1\" class=\"dataframe\">\n",
       "  <thead>\n",
       "    <tr style=\"text-align: right;\">\n",
       "      <th></th>\n",
       "      <th>NIFC_ID</th>\n",
       "      <th>NIFC_NAME</th>\n",
       "      <th>afdID</th>\n",
       "    </tr>\n",
       "  </thead>\n",
       "  <tbody>\n",
       "    <tr>\n",
       "      <th>0</th>\n",
       "      <td>9582</td>\n",
       "      <td>SAULS</td>\n",
       "      <td>MODIS7298</td>\n",
       "    </tr>\n",
       "    <tr>\n",
       "      <th>1</th>\n",
       "      <td>9582</td>\n",
       "      <td>SAULS</td>\n",
       "      <td>MODIS7301</td>\n",
       "    </tr>\n",
       "    <tr>\n",
       "      <th>2</th>\n",
       "      <td>69318</td>\n",
       "      <td>PINE RIDGE</td>\n",
       "      <td>MODIS7989</td>\n",
       "    </tr>\n",
       "    <tr>\n",
       "      <th>3</th>\n",
       "      <td>69318</td>\n",
       "      <td>PINE RIDGE</td>\n",
       "      <td>MODIS7990</td>\n",
       "    </tr>\n",
       "    <tr>\n",
       "      <th>4</th>\n",
       "      <td>69318</td>\n",
       "      <td>PINE RIDGE</td>\n",
       "      <td>MODIS7991</td>\n",
       "    </tr>\n",
       "  </tbody>\n",
       "</table>\n",
       "</div>"
      ],
      "text/plain": [
       "  NIFC_ID   NIFC_NAME      afdID\n",
       "0    9582       SAULS  MODIS7298\n",
       "1    9582       SAULS  MODIS7301\n",
       "2   69318  PINE RIDGE  MODIS7989\n",
       "3   69318  PINE RIDGE  MODIS7990\n",
       "4   69318  PINE RIDGE  MODIS7991"
      ]
     },
     "execution_count": 16,
     "metadata": {},
     "output_type": "execute_result"
    }
   ],
   "source": [
    "# Combine the MODIS and VIIRS buffers into a single GeoDataFrame\n",
    "afd_events_plots_c = pd.concat([afd_events_plots['MOD61'], afd_events_plots['SNPP']], ignore_index=True)\n",
    "# Create a new identifier\n",
    "afd_events_plots_c['afdID'] = afd_events_plots_c['INSTRUMENT'].astype(str) + afd_events_plots_c['VID'].astype(str)\n",
    "afd_events_plots_c[['NIFC_ID','NIFC_NAME','afdID']].head()"
   ]
  },
  {
   "cell_type": "code",
   "execution_count": 17,
   "id": "8d3af239-bf7c-4bb8-a520-71a4c3098895",
   "metadata": {},
   "outputs": [
    {
     "name": "stdout",
     "output_type": "stream",
     "text": [
      "  NIFC_ID INSTRUMENT  counts\n",
      "0  100763      MODIS       4\n",
      "1  100763      VIIRS      16\n",
      "2    1055      MODIS      16\n",
      "3    1055      VIIRS      52\n",
      "4    1070      MODIS    1227\n",
      "5    1070      VIIRS    4997\n",
      "6   12229      MODIS      24\n",
      "7   12229      VIIRS     152\n",
      "8   13137      MODIS       4\n",
      "9   13137      VIIRS       3\n",
      "Minimum obs./fire: 1; \n",
      "Maximum obs./fire: 12563\n"
     ]
    }
   ],
   "source": [
    "# Check on the number of observations per fire/sensor\n",
    "afd_counts = afd_events_plots_c.groupby(['NIFC_ID','INSTRUMENT']).size().reset_index(name='counts')\n",
    "print(afd_counts.head(10))\n",
    "print(f\"Minimum obs./fire: {afd_counts['counts'].min()}; \\nMaximum obs./fire: {afd_counts['counts'].max()}\")"
   ]
  },
  {
   "cell_type": "code",
   "execution_count": 18,
   "id": "14875a2e-1373-4e1a-808e-96935ef3477a",
   "metadata": {},
   "outputs": [
    {
     "name": "stdout",
     "output_type": "stream",
     "text": [
      "Number of AFDs before filtering: 144964\n",
      "Number of AFDs after filtering: 144954\n"
     ]
    }
   ],
   "source": [
    "# Only keep events with > X observations from either instrument\n",
    "\n",
    "print(f\"Number of AFDs before filtering: {len(afd_events_plots_c)}\")\n",
    "\n",
    "# Get a list of IDs of fires with > 1 obs.\n",
    "ids = afd_counts[afd_counts[\"counts\"] > 1]\n",
    "# Grab the new list of unique FIRED ids\n",
    "ids = ids['NIFC_ID'].unique().tolist()\n",
    "\n",
    "# Keep only fires with greater than 1 obs.\n",
    "afd_events_plots_c = afd_events_plots_c[afd_events_plots_c['NIFC_ID'].isin(ids)]\n",
    "\n",
    "print(f\"Number of AFDs after filtering: {len(afd_events_plots_c)}\")"
   ]
  },
  {
   "cell_type": "code",
   "execution_count": 19,
   "id": "c22ce608-72f3-4e1f-aeb8-09b8d3863bea",
   "metadata": {},
   "outputs": [
    {
     "name": "stdout",
     "output_type": "stream",
     "text": [
      "Saved to /Users/max/Library/CloudStorage/OneDrive-Personal/mcook/aspen-fire/Aim2/data/spatial/mod/AFD/combined-afd_aspen-fires_2018_to_2023_buffer.gpkg\n",
      "\n"
     ]
    }
   ],
   "source": [
    "# Export to file.\n",
    "out_fp = os.path.join(projdir,f'data/spatial/mod/AFD/combined-afd_aspen-fires_2018_to_2023_buffer.gpkg')\n",
    "afd_events_plots_c.to_file(out_fp)\n",
    "print(f'Saved to {out_fp}\\n')"
   ]
  },
  {
   "cell_type": "code",
   "execution_count": 20,
   "id": "2431be7f-8592-4ce7-966d-4ef04d80dcc4",
   "metadata": {},
   "outputs": [
    {
     "name": "stdout",
     "output_type": "stream",
     "text": [
      "173\n"
     ]
    }
   ],
   "source": [
    "print(len(afd_events_plots_c['NIFC_ID'].unique()))"
   ]
  },
  {
   "cell_type": "code",
   "execution_count": 22,
   "id": "94cd2320-bd4f-467d-abe8-3e9c1af45ea8",
   "metadata": {},
   "outputs": [
    {
     "data": {
      "text/html": [
       "<div>\n",
       "<style scoped>\n",
       "    .dataframe tbody tr th:only-of-type {\n",
       "        vertical-align: middle;\n",
       "    }\n",
       "\n",
       "    .dataframe tbody tr th {\n",
       "        vertical-align: top;\n",
       "    }\n",
       "\n",
       "    .dataframe thead th {\n",
       "        text-align: right;\n",
       "    }\n",
       "</style>\n",
       "<table border=\"1\" class=\"dataframe\">\n",
       "  <thead>\n",
       "    <tr style=\"text-align: right;\">\n",
       "      <th></th>\n",
       "      <th>NIFC_ID</th>\n",
       "      <th>NIFC_NAME</th>\n",
       "      <th>NIFC_ACRES</th>\n",
       "      <th>FINAL_ACRES</th>\n",
       "      <th>pct_aspen</th>\n",
       "      <th>INCIDENT_ID</th>\n",
       "      <th>INCIDENT_NAME</th>\n",
       "      <th>START_YEAR</th>\n",
       "      <th>CAUSE</th>\n",
       "      <th>DISCOVERY_DATE</th>\n",
       "      <th>...</th>\n",
       "      <th>WF_CESSATION_DOY</th>\n",
       "      <th>STR_DESTROYED_TOTAL</th>\n",
       "      <th>STR_DAMAGED_TOTAL</th>\n",
       "      <th>STR_THREATENED_MAX</th>\n",
       "      <th>EVACUATION_REPORTED</th>\n",
       "      <th>PEAK_EVACUATIONS</th>\n",
       "      <th>WF_PEAK_AERIAL</th>\n",
       "      <th>WF_PEAK_PERSONNEL</th>\n",
       "      <th>na_l3name</th>\n",
       "      <th>geometry</th>\n",
       "    </tr>\n",
       "  </thead>\n",
       "  <tbody>\n",
       "    <tr>\n",
       "      <th>2</th>\n",
       "      <td>14</td>\n",
       "      <td>416</td>\n",
       "      <td>54130.98</td>\n",
       "      <td>54129</td>\n",
       "      <td>38.614463</td>\n",
       "      <td>2018_9091030_416</td>\n",
       "      <td>416</td>\n",
       "      <td>2018</td>\n",
       "      <td>U</td>\n",
       "      <td>2018-06-01 11:02:00</td>\n",
       "      <td>...</td>\n",
       "      <td>184</td>\n",
       "      <td>0</td>\n",
       "      <td>0</td>\n",
       "      <td>3386</td>\n",
       "      <td>1</td>\n",
       "      <td>2182</td>\n",
       "      <td>15</td>\n",
       "      <td>429.125</td>\n",
       "      <td>Southern Rockies</td>\n",
       "      <td>MULTIPOLYGON (((-1047907.942 1672642.863, -104...</td>\n",
       "    </tr>\n",
       "    <tr>\n",
       "      <th>4</th>\n",
       "      <td>24</td>\n",
       "      <td>PLATEAU</td>\n",
       "      <td>19677.32</td>\n",
       "      <td>19634</td>\n",
       "      <td>1.305924</td>\n",
       "      <td>2018_9223810_PLATEAU</td>\n",
       "      <td>PLATEAU</td>\n",
       "      <td>2018</td>\n",
       "      <td>L</td>\n",
       "      <td>2018-07-22 16:18:00</td>\n",
       "      <td>...</td>\n",
       "      <td>229</td>\n",
       "      <td>0</td>\n",
       "      <td>0</td>\n",
       "      <td>NaN</td>\n",
       "      <td>NaN</td>\n",
       "      <td>NaN</td>\n",
       "      <td>4</td>\n",
       "      <td>143.6</td>\n",
       "      <td>Southern Rockies</td>\n",
       "      <td>POLYGON ((-1094448.086 1686999.388, -1094448.7...</td>\n",
       "    </tr>\n",
       "    <tr>\n",
       "      <th>5</th>\n",
       "      <td>26</td>\n",
       "      <td>PLUMTAW</td>\n",
       "      <td>721.4</td>\n",
       "      <td>721</td>\n",
       "      <td>70.241348</td>\n",
       "      <td>2022_14542839_PLUMTAW</td>\n",
       "      <td>PLUMTAW</td>\n",
       "      <td>2022</td>\n",
       "      <td>U</td>\n",
       "      <td>2022-05-17 13:49:00</td>\n",
       "      <td>...</td>\n",
       "      <td>138</td>\n",
       "      <td>0</td>\n",
       "      <td>0</td>\n",
       "      <td>75</td>\n",
       "      <td>1</td>\n",
       "      <td>200</td>\n",
       "      <td>4.5</td>\n",
       "      <td>242.6666666666666</td>\n",
       "      <td>Southern Rockies</td>\n",
       "      <td>POLYGON ((-969787.326 1648469.699, -969792.261...</td>\n",
       "    </tr>\n",
       "    <tr>\n",
       "      <th>6</th>\n",
       "      <td>33</td>\n",
       "      <td>DOE CANYON</td>\n",
       "      <td>2559.52</td>\n",
       "      <td>2560</td>\n",
       "      <td>8.358058</td>\n",
       "      <td>2019_10738675_DOE CANYON</td>\n",
       "      <td>DOE CANYON</td>\n",
       "      <td>2019</td>\n",
       "      <td>L</td>\n",
       "      <td>2019-06-20 14:41:00</td>\n",
       "      <td>...</td>\n",
       "      <td>184</td>\n",
       "      <td>0</td>\n",
       "      <td>0</td>\n",
       "      <td>NaN</td>\n",
       "      <td>NaN</td>\n",
       "      <td>NaN</td>\n",
       "      <td>NaN</td>\n",
       "      <td>44</td>\n",
       "      <td>Southern Rockies</td>\n",
       "      <td>POLYGON ((-1104275.303 1705190.773, -1104275.0...</td>\n",
       "    </tr>\n",
       "    <tr>\n",
       "      <th>7</th>\n",
       "      <td>43</td>\n",
       "      <td>CHRIS MOUNTAIN</td>\n",
       "      <td>510.51</td>\n",
       "      <td>511</td>\n",
       "      <td>1.574569</td>\n",
       "      <td>2023_15990891_CHRIS MOUNTAIN</td>\n",
       "      <td>CHRIS MOUNTAIN</td>\n",
       "      <td>2023</td>\n",
       "      <td>L</td>\n",
       "      <td>2023-06-28 15:57:00</td>\n",
       "      <td>...</td>\n",
       "      <td>185</td>\n",
       "      <td>0</td>\n",
       "      <td>0</td>\n",
       "      <td>7</td>\n",
       "      <td>1</td>\n",
       "      <td>2</td>\n",
       "      <td>7</td>\n",
       "      <td>293.1785714285714</td>\n",
       "      <td>Southern Rockies</td>\n",
       "      <td>POLYGON ((-984454.113 1641237.622, -984454.991...</td>\n",
       "    </tr>\n",
       "  </tbody>\n",
       "</table>\n",
       "<p>5 rows × 22 columns</p>\n",
       "</div>"
      ],
      "text/plain": [
       "  NIFC_ID       NIFC_NAME NIFC_ACRES FINAL_ACRES  pct_aspen  \\\n",
       "2      14             416   54130.98       54129  38.614463   \n",
       "4      24         PLATEAU   19677.32       19634   1.305924   \n",
       "5      26         PLUMTAW      721.4         721  70.241348   \n",
       "6      33      DOE CANYON    2559.52        2560   8.358058   \n",
       "7      43  CHRIS MOUNTAIN     510.51         511   1.574569   \n",
       "\n",
       "                    INCIDENT_ID   INCIDENT_NAME START_YEAR CAUSE  \\\n",
       "2              2018_9091030_416             416       2018     U   \n",
       "4          2018_9223810_PLATEAU         PLATEAU       2018     L   \n",
       "5         2022_14542839_PLUMTAW         PLUMTAW       2022     U   \n",
       "6      2019_10738675_DOE CANYON      DOE CANYON       2019     L   \n",
       "7  2023_15990891_CHRIS MOUNTAIN  CHRIS MOUNTAIN       2023     L   \n",
       "\n",
       "       DISCOVERY_DATE  ... WF_CESSATION_DOY STR_DESTROYED_TOTAL  \\\n",
       "2 2018-06-01 11:02:00  ...              184                   0   \n",
       "4 2018-07-22 16:18:00  ...              229                   0   \n",
       "5 2022-05-17 13:49:00  ...              138                   0   \n",
       "6 2019-06-20 14:41:00  ...              184                   0   \n",
       "7 2023-06-28 15:57:00  ...              185                   0   \n",
       "\n",
       "  STR_DAMAGED_TOTAL STR_THREATENED_MAX EVACUATION_REPORTED PEAK_EVACUATIONS  \\\n",
       "2                 0               3386                   1             2182   \n",
       "4                 0                NaN                 NaN              NaN   \n",
       "5                 0                 75                   1              200   \n",
       "6                 0                NaN                 NaN              NaN   \n",
       "7                 0                  7                   1                2   \n",
       "\n",
       "  WF_PEAK_AERIAL  WF_PEAK_PERSONNEL         na_l3name  \\\n",
       "2             15            429.125  Southern Rockies   \n",
       "4              4              143.6  Southern Rockies   \n",
       "5            4.5  242.6666666666666  Southern Rockies   \n",
       "6            NaN                 44  Southern Rockies   \n",
       "7              7  293.1785714285714  Southern Rockies   \n",
       "\n",
       "                                            geometry  \n",
       "2  MULTIPOLYGON (((-1047907.942 1672642.863, -104...  \n",
       "4  POLYGON ((-1094448.086 1686999.388, -1094448.7...  \n",
       "5  POLYGON ((-969787.326 1648469.699, -969792.261...  \n",
       "6  POLYGON ((-1104275.303 1705190.773, -1104275.0...  \n",
       "7  POLYGON ((-984454.113 1641237.622, -984454.991...  \n",
       "\n",
       "[5 rows x 22 columns]"
      ]
     },
     "execution_count": 22,
     "metadata": {},
     "output_type": "execute_result"
    }
   ],
   "source": [
    "# Save out the fires in southern rockies with > 10 AFD\n",
    "fires = afd_counts[afd_counts['counts'] > 10]\n",
    "aspen_events_srm = aspen_events[aspen_events['na_l3name'] == 'Southern Rockies']\n",
    "aspen_events_srm = aspen_events_srm[aspen_events_srm['NIFC_ID'].isin(fires['NIFC_ID'].unique())]\n",
    "aspen_events_srm.head()"
   ]
  },
  {
   "cell_type": "code",
   "execution_count": 23,
   "id": "81b1e111-cb93-455d-b8dd-98df0c0e000d",
   "metadata": {},
   "outputs": [
    {
     "data": {
      "text/plain": [
       "49"
      ]
     },
     "execution_count": 23,
     "metadata": {},
     "output_type": "execute_result"
    }
   ],
   "source": [
    "len(aspen_events_srm)"
   ]
  },
  {
   "cell_type": "code",
   "execution_count": 24,
   "id": "e6a91eac-6e8b-4191-852a-73444eb20693",
   "metadata": {},
   "outputs": [
    {
     "name": "stdout",
     "output_type": "stream",
     "text": [
      "Saved to: /Users/max/Library/CloudStorage/OneDrive-Personal/mcook/aspen-fire/Aim2/data/spatial/mod/NIFC/nifc-ics_2018_to_2023-aspen_SRM.gpkg\n"
     ]
    }
   ],
   "source": [
    "out_fp = os.path.join(projdir,'data/spatial/mod/NIFC/nifc-ics_2018_to_2023-aspen_SRM.gpkg')\n",
    "aspen_events_srm.to_file(out_fp)\n",
    "print(f\"Saved to: {out_fp}\")"
   ]
  },
  {
   "cell_type": "code",
   "execution_count": null,
   "id": "8df39209-96d7-4d93-a2ea-7e8d6f838aee",
   "metadata": {},
   "outputs": [],
   "source": []
  },
  {
   "cell_type": "code",
   "execution_count": null,
   "id": "328d3281-eebe-4b3e-b0ba-b5a9cde7e323",
   "metadata": {},
   "outputs": [],
   "source": []
  },
  {
   "cell_type": "code",
   "execution_count": 21,
   "id": "1c5c41f5-d9d6-4ddc-b1f6-9cde4b9e4ba0",
   "metadata": {},
   "outputs": [],
   "source": [
    "# Gather bounds for individual fires/AFDs for both instruments."
   ]
  },
  {
   "cell_type": "code",
   "execution_count": 22,
   "id": "a6eb9190-bdda-41d3-8784-9b0216fe5ad0",
   "metadata": {},
   "outputs": [
    {
     "name": "stdout",
     "output_type": "stream",
     "text": [
      "173\n",
      "Index(['NIFC_ID', 'geometry', 'NIFC_NAME', 'NIFC_ACRES', 'FINAL_ACRES',\n",
      "       'pct_aspen', 'INCIDENT_ID', 'INCIDENT_NAME', 'START_YEAR', 'CAUSE',\n",
      "       'DISCOVERY_DATE', 'DISCOVERY_DOY', 'WF_CESSATION_DATE',\n",
      "       'WF_CESSATION_DOY', 'STR_DESTROYED_TOTAL', 'STR_DAMAGED_TOTAL',\n",
      "       'STR_THREATENED_MAX', 'EVACUATION_REPORTED', 'PEAK_EVACUATIONS',\n",
      "       'WF_PEAK_AERIAL', 'WF_PEAK_PERSONNEL', 'na_l3name'],\n",
      "      dtype='object')\n"
     ]
    }
   ],
   "source": [
    "buffer = 1000 # meters\n",
    "# Group by fire ID\n",
    "grouped = afd_events_plots_c.groupby('NIFC_ID')\n",
    "bounds_gdf = gpd.GeoDataFrame(columns=['NIFC_ID', 'geometry'], crs=afd.crs)\n",
    "# Iterate over each fire group\n",
    "for fire_id, group in grouped:\n",
    "    # Calculate the total bounds (minx, miny, maxx, maxy) for all geometries in the group\n",
    "    bounds = box(*group.total_bounds)\n",
    "    # Apply buffer if specified\n",
    "    if buffer is not None:\n",
    "        bounds = bounds.buffer(buffer)\n",
    "    # Create a GeoDataFrame for this fire with the bounding box, id, and ig_year\n",
    "    fire_gdf = gpd.GeoDataFrame({'NIFC_ID': [fire_id], 'geometry': [bounds]}, crs=afd.crs)\n",
    "    # Append the result to the GeoDataFrame\n",
    "    bounds_gdf = pd.concat([bounds_gdf, fire_gdf], ignore_index=True)\n",
    "\n",
    "# Dissolve by NIFC_ID\n",
    "afd_fire_bounds = bounds_gdf.dissolve(by='NIFC_ID')\n",
    "afd_fire_bounds = pd.merge(afd_fire_bounds, aspen_events.drop(columns=['geometry']), left_on='NIFC_ID', right_on='NIFC_ID', how='left')\n",
    "print(len(afd_fire_bounds['NIFC_ID'].unique()))\n",
    "print(afd_fire_bounds.columns)"
   ]
  },
  {
   "cell_type": "code",
   "execution_count": null,
   "id": "9bedc758-e1a1-47a1-89b1-dcae57e9c13a",
   "metadata": {},
   "outputs": [],
   "source": []
  },
  {
   "cell_type": "code",
   "execution_count": 23,
   "id": "1e9db5b8-9f2d-4614-b704-46bda016329f",
   "metadata": {},
   "outputs": [],
   "source": [
    "# Make some plots."
   ]
  },
  {
   "cell_type": "code",
   "execution_count": 24,
   "id": "afaccd08-4fb4-4c2a-91dd-1fd55e94e9fd",
   "metadata": {},
   "outputs": [
    {
     "data": {
      "text/plain": [
       "array(['MODIS', 'VIIRS'], dtype=object)"
      ]
     },
     "execution_count": 24,
     "metadata": {},
     "output_type": "execute_result"
    }
   ],
   "source": [
    "afd_events_plots_c['INSTRUMENT'].unique()"
   ]
  },
  {
   "cell_type": "code",
   "execution_count": 25,
   "id": "af64dbed-18ca-4b28-a8a7-5f432d002e6c",
   "metadata": {},
   "outputs": [
    {
     "data": {
      "text/plain": [
       "<Figure size 800x600 with 0 Axes>"
      ]
     },
     "metadata": {},
     "output_type": "display_data"
    },
    {
     "data": {
      "image/png": "[encoded data removed]",
      "text/plain": [
       "<Figure size 600x400 with 1 Axes>"
      ]
     },
     "metadata": {},
     "output_type": "display_data"
    }
   ],
   "source": [
    "# Day/Night FRP\n",
    "\n",
    "plt.figure(figsize=(8, 6))\n",
    "\n",
    "df = afd_events_plots_c.copy() # make a copy for plotting\n",
    "\n",
    "# Filter day and night observations for MODIS and VIIRS\n",
    "modis_day = df[(df['DAYNIGHT'] == 'D') & (df['INSTRUMENT'] == 'MODIS')]['FRP']\n",
    "modis_night = df[(df['DAYNIGHT'] == 'N') & (df['INSTRUMENT'] == 'MODIS')]['FRP']\n",
    "viirs_day = df[(df['DAYNIGHT'] == 'D') & (df['INSTRUMENT'] == 'VIIRS')]['FRP']\n",
    "viirs_night = df[(df['DAYNIGHT'] == 'N') & (df['INSTRUMENT'] == 'VIIRS')]['FRP']\n",
    "\n",
    "# Log scale for each subset\n",
    "modis_day_log = np.log(modis_day[modis_day > 0])\n",
    "modis_night_log = np.log(modis_night[modis_night > 0])\n",
    "viirs_day_log = np.log(viirs_day[viirs_day > 0])\n",
    "viirs_night_log = np.log(viirs_night[viirs_night > 0])\n",
    "\n",
    "# Show the distribution of FRP values for day and night observations\n",
    "plt.figure(figsize=(6, 4))\n",
    "\n",
    "# Plotting the KDE\n",
    "sns.kdeplot(modis_day_log, fill=True, color=\"orange\", label=\"MODIS Day\", alpha=0.6)\n",
    "sns.kdeplot(modis_night_log, fill=True, color=\"orange\", linestyle='--', label=\"MODIS Night\", alpha=0.6)\n",
    "sns.kdeplot(viirs_day_log, fill=True, color=\"blue\", label=\"VIIRS Day\", alpha=0.6)\n",
    "sns.kdeplot(viirs_night_log, fill=True, color=\"blue\", linestyle='--', label=\"VIIRS Night\", alpha=0.6)\n",
    "\n",
    "# Adding labels and title\n",
    "plt.xlabel('Fire Radiative Power (FRP)')\n",
    "plt.ylabel('Density')\n",
    "plt.legend()\n",
    "\n",
    "plt.savefig(os.path.join(maindir,'aspen-fire/Aim2/figures/FigX_frp_density_day-night.png'), dpi=300, bbox_inches='tight')\n",
    "\n",
    "plt.show()"
   ]
  },
  {
   "cell_type": "code",
   "execution_count": null,
   "id": "baf71cc4-16e7-4594-af2c-181a290806e8",
   "metadata": {},
   "outputs": [],
   "source": []
  },
  {
   "cell_type": "code",
   "execution_count": 26,
   "id": "6d23526a-6549-496b-b0c7-09cdbceae91c",
   "metadata": {},
   "outputs": [],
   "source": [
    "# Join to state boundaries, assign \"Start_Day\" and \"End_Day\" from Parks et al. (2019)"
   ]
  },
  {
   "cell_type": "code",
   "execution_count": null,
   "id": "45141339-a1c2-4ae0-a8e0-51cba075bf93",
   "metadata": {},
   "outputs": [],
   "source": []
  },
  {
   "cell_type": "code",
   "execution_count": 27,
   "id": "521409fc-0a43-4354-9f21-88190f22cecb",
   "metadata": {},
   "outputs": [
    {
     "data": {
      "text/plain": [
       "Index(['REGION', 'DIVISION', 'STATEFP', 'STATENS', 'GEOID', 'STUSPS', 'NAME',\n",
       "       'LSAD', 'MTFCC', 'FUNCSTAT', 'ALAND', 'AWATER', 'INTPTLAT', 'INTPTLON',\n",
       "       'geometry'],\n",
       "      dtype='object')"
      ]
     },
     "execution_count": 27,
     "metadata": {},
     "output_type": "execute_result"
    }
   ],
   "source": [
    "states = os.path.join(maindir, 'data/boundaries/political/TIGER/tl19_us_states_w_ak_lambert.gpkg')\n",
    "states = gpd.read_file(states)\n",
    "states = states.to_crs(proj)\n",
    "states.columns"
   ]
  },
  {
   "cell_type": "code",
   "execution_count": 28,
   "id": "c36f20a2-edf6-42cb-8fc5-32dbf2c091a8",
   "metadata": {},
   "outputs": [
    {
     "data": {
      "text/plain": [
       "Index(['NIFC_ID', 'geometry', 'NIFC_NAME', 'NIFC_ACRES', 'FINAL_ACRES',\n",
       "       'pct_aspen', 'INCIDENT_ID', 'INCIDENT_NAME', 'START_YEAR', 'CAUSE',\n",
       "       'DISCOVERY_DATE', 'DISCOVERY_DOY', 'WF_CESSATION_DATE',\n",
       "       'WF_CESSATION_DOY', 'STR_DESTROYED_TOTAL', 'STR_DAMAGED_TOTAL',\n",
       "       'STR_THREATENED_MAX', 'EVACUATION_REPORTED', 'PEAK_EVACUATIONS',\n",
       "       'WF_PEAK_AERIAL', 'WF_PEAK_PERSONNEL', 'na_l3name', 'STUSPS'],\n",
       "      dtype='object')"
      ]
     },
     "execution_count": 28,
     "metadata": {},
     "output_type": "execute_result"
    }
   ],
   "source": [
    "centroid = afd_fire_bounds.copy()\n",
    "centroid['geometry'] = centroid.geometry.centroid\n",
    "fire_state = gpd.overlay(centroid[['NIFC_ID','geometry']], states[['STUSPS','geometry']], how='intersection')\n",
    "fire_state = fire_state[['NIFC_ID','STUSPS']]\n",
    "afd_fire_bounds_ = pd.merge(afd_fire_bounds, fire_state, on='NIFC_ID', how='left')\n",
    "afd_fire_bounds_.columns"
   ]
  },
  {
   "cell_type": "code",
   "execution_count": 29,
   "id": "8127bf0a-3ce3-4c9f-a4a0-5d21004113a5",
   "metadata": {},
   "outputs": [
    {
     "data": {
      "text/plain": [
       "61"
      ]
     },
     "execution_count": 29,
     "metadata": {},
     "output_type": "execute_result"
    }
   ],
   "source": [
    "len(afd_fire_bounds_[afd_fire_bounds_['na_l3name'] == 'Southern Rockies'])"
   ]
  },
  {
   "cell_type": "code",
   "execution_count": 30,
   "id": "39c1446f-17a2-4e1f-a8af-69209b1d97ea",
   "metadata": {},
   "outputs": [
    {
     "data": {
      "text/html": [
       "<div>\n",
       "<style scoped>\n",
       "    .dataframe tbody tr th:only-of-type {\n",
       "        vertical-align: middle;\n",
       "    }\n",
       "\n",
       "    .dataframe tbody tr th {\n",
       "        vertical-align: top;\n",
       "    }\n",
       "\n",
       "    .dataframe thead th {\n",
       "        text-align: right;\n",
       "    }\n",
       "</style>\n",
       "<table border=\"1\" class=\"dataframe\">\n",
       "  <thead>\n",
       "    <tr style=\"text-align: right;\">\n",
       "      <th></th>\n",
       "      <th>Fire_ID</th>\n",
       "      <th>Fire_Name</th>\n",
       "      <th>DISCOVERY_DOY</th>\n",
       "      <th>WF_CESSATION_DOY</th>\n",
       "      <th>Fire_Year</th>\n",
       "      <th>Start_Day</th>\n",
       "      <th>End_Day</th>\n",
       "      <th>geometry</th>\n",
       "    </tr>\n",
       "  </thead>\n",
       "  <tbody>\n",
       "    <tr>\n",
       "      <th>0</th>\n",
       "      <td>100763</td>\n",
       "      <td>PARK CREEK</td>\n",
       "      <td>272</td>\n",
       "      <td>286</td>\n",
       "      <td>2022</td>\n",
       "      <td>152</td>\n",
       "      <td>258</td>\n",
       "      <td>POLYGON ((-1302777.051 2935597.721, -1304470.8...</td>\n",
       "    </tr>\n",
       "    <tr>\n",
       "      <th>1</th>\n",
       "      <td>1055</td>\n",
       "      <td>RATTLESNAKE</td>\n",
       "      <td>232</td>\n",
       "      <td>236</td>\n",
       "      <td>2020</td>\n",
       "      <td>152</td>\n",
       "      <td>258</td>\n",
       "      <td>POLYGON ((-1662672.883 2765896.178, -1665553.8...</td>\n",
       "    </tr>\n",
       "    <tr>\n",
       "      <th>2</th>\n",
       "      <td>1070</td>\n",
       "      <td>GREEN RIDGE</td>\n",
       "      <td>188</td>\n",
       "      <td>250</td>\n",
       "      <td>2021</td>\n",
       "      <td>152</td>\n",
       "      <td>258</td>\n",
       "      <td>POLYGON ((-1648322.560 2755617.377, -1673173.6...</td>\n",
       "    </tr>\n",
       "    <tr>\n",
       "      <th>3</th>\n",
       "      <td>12229</td>\n",
       "      <td>SCHAEFFER</td>\n",
       "      <td>251</td>\n",
       "      <td>272</td>\n",
       "      <td>2019</td>\n",
       "      <td>152</td>\n",
       "      <td>258</td>\n",
       "      <td>POLYGON ((-1978906.428 1675019.040, -1982045.2...</td>\n",
       "    </tr>\n",
       "    <tr>\n",
       "      <th>4</th>\n",
       "      <td>13137</td>\n",
       "      <td>COUGAR</td>\n",
       "      <td>305</td>\n",
       "      <td>315</td>\n",
       "      <td>2020</td>\n",
       "      <td>152</td>\n",
       "      <td>258</td>\n",
       "      <td>POLYGON ((-1587662.179 2645713.160, -1590213.9...</td>\n",
       "    </tr>\n",
       "  </tbody>\n",
       "</table>\n",
       "</div>"
      ],
      "text/plain": [
       "  Fire_ID    Fire_Name DISCOVERY_DOY WF_CESSATION_DOY Fire_Year Start_Day  \\\n",
       "0  100763   PARK CREEK           272              286      2022       152   \n",
       "1    1055  RATTLESNAKE           232              236      2020       152   \n",
       "2    1070  GREEN RIDGE           188              250      2021       152   \n",
       "3   12229    SCHAEFFER           251              272      2019       152   \n",
       "4   13137       COUGAR           305              315      2020       152   \n",
       "\n",
       "  End_Day                                           geometry  \n",
       "0     258  POLYGON ((-1302777.051 2935597.721, -1304470.8...  \n",
       "1     258  POLYGON ((-1662672.883 2765896.178, -1665553.8...  \n",
       "2     258  POLYGON ((-1648322.560 2755617.377, -1673173.6...  \n",
       "3     258  POLYGON ((-1978906.428 1675019.040, -1982045.2...  \n",
       "4     258  POLYGON ((-1587662.179 2645713.160, -1590213.9...  "
      ]
     },
     "execution_count": 30,
     "metadata": {},
     "output_type": "execute_result"
    }
   ],
   "source": [
    "# Assign the Parks et al. (2019) start and end days\n",
    "special_case = ['Arizona', 'New Mexico']\n",
    "afd_fire_bounds_['Start_Day'] = None\n",
    "afd_fire_bounds_['End_Day'] = None    \n",
    "\n",
    "afd_fire_bounds_.loc[afd_fire_bounds_['STUSPS'].isin(special_case), ['Start_Day', 'End_Day']] = (91, 181)\n",
    "afd_fire_bounds_.loc[~afd_fire_bounds_['STUSPS'].isin(special_case), ['Start_Day', 'End_Day']] = (152, 258)\n",
    "\n",
    "afd_fire_bounds_ = afd_fire_bounds_[['NIFC_ID','NIFC_NAME','DISCOVERY_DOY','WF_CESSATION_DOY','START_YEAR','Start_Day','End_Day','geometry']]\n",
    "afd_fire_bounds_ = afd_fire_bounds_.rename(columns={\n",
    "    'NIFC_ID': 'Fire_ID', \n",
    "    'NIFC_NAME': 'Fire_Name',\n",
    "    'START_YEAR': 'Fire_Year'\n",
    "})\n",
    "afd_fire_bounds_.head()"
   ]
  },
  {
   "cell_type": "code",
   "execution_count": 31,
   "id": "836a2bed-534f-4b19-a6b9-e08be792fbda",
   "metadata": {},
   "outputs": [
    {
     "name": "stdout",
     "output_type": "stream",
     "text": [
      "Saved to /Users/max/Library/CloudStorage/OneDrive-Personal/mcook/aspen-fire/Aim2/data/earth-engine/imports/afd_aspen-fires_2018_to_2023_bounds.shp\n",
      "\n"
     ]
    }
   ],
   "source": [
    "# Save out the bounds to a file for GEE.\n",
    "out_fp = os.path.join(projdir, f'data/earth-engine/imports/afd_aspen-fires_2018_to_2023_bounds.shp')\n",
    "afd_fire_bounds_.to_file(out_fp)\n",
    "print(f\"Saved to {out_fp}\\n\")"
   ]
  },
  {
   "cell_type": "code",
   "execution_count": 32,
   "id": "e124db6e-c51a-46c2-8783-879bac319421",
   "metadata": {},
   "outputs": [
    {
     "data": {
      "text/plain": [
       "0"
      ]
     },
     "execution_count": 32,
     "metadata": {},
     "output_type": "execute_result"
    }
   ],
   "source": [
    "gc.collect()"
   ]
  },
  {
   "cell_type": "code",
   "execution_count": null,
   "id": "80b25316-9590-4c91-b7bb-3666446ba95a",
   "metadata": {},
   "outputs": [],
   "source": []
  },
  {
   "cell_type": "markdown",
   "id": "839fb66f-e5db-4beb-8a86-8327579e7894",
   "metadata": {},
   "source": [
    "### Create a time-series product for GRIDMET\n",
    "\n",
    "This needs to be a daily polygon that can be used to summarize gridmet variables for each observation. For now, taking the union of each daily FRP observation should do the trick."
   ]
  },
  {
   "cell_type": "code",
   "execution_count": 43,
   "id": "53cf674d-4bad-4a00-8f14-b27beab589ff",
   "metadata": {},
   "outputs": [
    {
     "name": "stdout",
     "output_type": "stream",
     "text": [
      "Saved daily polygons to /Users/max/Library/CloudStorage/OneDrive-Personal/mcook/aspen-fire/Aim2/data/earth-engine/imports/afd_aspen-fires_2018_to_2023_bounds_daily.shp\n"
     ]
    }
   ],
   "source": [
    "# Create an acquisition Day of Year\n",
    "afd_events_plots_c['ACQ_DOY'] = afd_events_plots_c['ACQ_DATETIME'].dt.dayofyear\n",
    "\n",
    "# Group the AFDs by fire ID and acquisition date\n",
    "daily_polygons = [] # to store the daily polygons\n",
    "for (fire_id, year, doy), group in afd_events_plots_c.groupby(['NIFC_ID', 'START_YEAR', 'ACQ_DOY']):\n",
    "    # Get the geometry of the group (polygons)\n",
    "    polygons = group.geometry\n",
    "    # Create a union of the polygons for the day\n",
    "    if len(polygons) > 1:\n",
    "        union_polygon = polygons.unary_union  # Union of all polygons\n",
    "    else:\n",
    "        union_polygon = polygons.iloc[0]  # If only one polygon, just use it\n",
    "    \n",
    "    # Create a GeoDataFrame row for the union polygon\n",
    "    daily_polygons.append({\n",
    "        'NIFC_ID': fire_id,\n",
    "        'FIRE_YEAR': year,\n",
    "        'ACQ_DOY': doy,\n",
    "        'geometry': union_polygon\n",
    "    })\n",
    "\n",
    "# Convert the list of dictionaries to a GeoDataFrame\n",
    "daily_polygons_gdf = gpd.GeoDataFrame(daily_polygons, crs=afd_events_plots_c.crs)\n",
    "\n",
    "out_fp = os.path.join(projdir, f'data/earth-engine/imports/afd_aspen-fires_2018_to_2023_bounds_daily.shp')\n",
    "daily_polygons_gdf.to_file(out_fp)\n",
    "print(f\"Saved daily polygons to {out_fp}\")"
   ]
  },
  {
   "cell_type": "code",
   "execution_count": 44,
   "id": "72d072f1-20d2-4f0f-be52-cfcd8a916f10",
   "metadata": {},
   "outputs": [
    {
     "data": {
      "text/html": [
       "<div>\n",
       "<style scoped>\n",
       "    .dataframe tbody tr th:only-of-type {\n",
       "        vertical-align: middle;\n",
       "    }\n",
       "\n",
       "    .dataframe tbody tr th {\n",
       "        vertical-align: top;\n",
       "    }\n",
       "\n",
       "    .dataframe thead th {\n",
       "        text-align: right;\n",
       "    }\n",
       "</style>\n",
       "<table border=\"1\" class=\"dataframe\">\n",
       "  <thead>\n",
       "    <tr style=\"text-align: right;\">\n",
       "      <th></th>\n",
       "      <th>NIFC_ID</th>\n",
       "      <th>FIRE_YEAR</th>\n",
       "      <th>ACQ_DOY</th>\n",
       "      <th>geometry</th>\n",
       "    </tr>\n",
       "  </thead>\n",
       "  <tbody>\n",
       "    <tr>\n",
       "      <th>0</th>\n",
       "      <td>100763</td>\n",
       "      <td>2022</td>\n",
       "      <td>278</td>\n",
       "      <td>POLYGON ((-1302924.731 2938127.779, -1302924.7...</td>\n",
       "    </tr>\n",
       "    <tr>\n",
       "      <th>1</th>\n",
       "      <td>100763</td>\n",
       "      <td>2022</td>\n",
       "      <td>279</td>\n",
       "      <td>POLYGON ((-1304119.767 2936849.317, -1304119.7...</td>\n",
       "    </tr>\n",
       "    <tr>\n",
       "      <th>2</th>\n",
       "      <td>100763</td>\n",
       "      <td>2022</td>\n",
       "      <td>280</td>\n",
       "      <td>POLYGON ((-1303310.031 2937490.782, -1303685.0...</td>\n",
       "    </tr>\n",
       "    <tr>\n",
       "      <th>3</th>\n",
       "      <td>100763</td>\n",
       "      <td>2022</td>\n",
       "      <td>281</td>\n",
       "      <td>POLYGON ((-1303467.796 2938138.289, -1303467.7...</td>\n",
       "    </tr>\n",
       "    <tr>\n",
       "      <th>4</th>\n",
       "      <td>100763</td>\n",
       "      <td>2022</td>\n",
       "      <td>282</td>\n",
       "      <td>POLYGON ((-1303703.880 2937442.765, -1303703.8...</td>\n",
       "    </tr>\n",
       "  </tbody>\n",
       "</table>\n",
       "</div>"
      ],
      "text/plain": [
       "  NIFC_ID  FIRE_YEAR  ACQ_DOY  \\\n",
       "0  100763       2022      278   \n",
       "1  100763       2022      279   \n",
       "2  100763       2022      280   \n",
       "3  100763       2022      281   \n",
       "4  100763       2022      282   \n",
       "\n",
       "                                            geometry  \n",
       "0  POLYGON ((-1302924.731 2938127.779, -1302924.7...  \n",
       "1  POLYGON ((-1304119.767 2936849.317, -1304119.7...  \n",
       "2  POLYGON ((-1303310.031 2937490.782, -1303685.0...  \n",
       "3  POLYGON ((-1303467.796 2938138.289, -1303467.7...  \n",
       "4  POLYGON ((-1303703.880 2937442.765, -1303703.8...  "
      ]
     },
     "execution_count": 44,
     "metadata": {},
     "output_type": "execute_result"
    }
   ],
   "source": [
    "daily_polygons_gdf.head()"
   ]
  },
  {
   "cell_type": "code",
   "execution_count": null,
   "id": "7ac6532a-65e1-4684-8f21-11f93cf14eaa",
   "metadata": {},
   "outputs": [],
   "source": []
  }
 ],
 "metadata": {
  "kernelspec": {
   "display_name": "aspen-fire",
   "language": "python",
   "name": "aspen-fire"
  },
  "language_info": {
   "codemirror_mode": {
    "name": "ipython",
    "version": 3
   },
   "file_extension": ".py",
   "mimetype": "text/x-python",
   "name": "python",
   "nbconvert_exporter": "python",
   "pygments_lexer": "ipython3",
   "version": "3.10.12"
  }
 },
 "nbformat": 4,
 "nbformat_minor": 5
}
