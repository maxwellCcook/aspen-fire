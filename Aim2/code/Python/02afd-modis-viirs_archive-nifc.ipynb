{
 "cells": [
  {
   "cell_type": "code",
   "execution_count": 1,
   "id": "49947ce4-1f30-4924-896d-542778ac24a6",
   "metadata": {},
   "outputs": [
    {
     "name": "stdout",
     "output_type": "stream",
     "text": [
      "Ready to go !\n"
     ]
    }
   ],
   "source": [
    "\"\"\"\n",
    "Extract Active Fire Detections (AFDs) from MODIS and VIIRS within \"aspen fires\"\n",
    "\n",
    "Author: maxwell.cook@colorado.edu\n",
    "\"\"\"\n",
    "\n",
    "import os, time, glob, sys\n",
    "import geopandas as gpd\n",
    "import matplotlib as mpl\n",
    "import matplotlib.pyplot as plt\n",
    "import seaborn as sns\n",
    "\n",
    "import warnings\n",
    "warnings.filterwarnings(\"ignore\") # suppresses annoying geopandas warning\n",
    "\n",
    "# Custom functions\n",
    "sys.path.append(os.path.join(os.getcwd(),'code/'))\n",
    "from __functions import *\n",
    "\n",
    "proj = 'EPSG:5070'\n",
    "\n",
    "maindir = '/Users/max/Library/CloudStorage/OneDrive-Personal/mcook/'\n",
    "projdir = os.path.join(maindir, 'aspen-fire/Aim2/')\n",
    "\n",
    "print(\"Ready to go !\")"
   ]
  },
  {
   "cell_type": "code",
   "execution_count": null,
   "id": "c62a76f5-3360-443f-b2fd-2d75546f1d79",
   "metadata": {},
   "outputs": [],
   "source": []
  },
  {
   "cell_type": "code",
   "execution_count": 2,
   "id": "92f3265a-348b-4093-a1b5-ef0bc30f989d",
   "metadata": {},
   "outputs": [],
   "source": [
    "# Load the fire data."
   ]
  },
  {
   "cell_type": "code",
   "execution_count": null,
   "id": "e8b70e87-83d7-416f-a886-fc6db0031161",
   "metadata": {},
   "outputs": [],
   "source": []
  },
  {
   "cell_type": "code",
   "execution_count": 3,
   "id": "444d750f-ac02-471b-a570-8f26385cf39c",
   "metadata": {},
   "outputs": [
    {
     "data": {
      "text/plain": [
       "Index(['NIFC_ID', 'NIFC_NAME', 'NIFC_ACRES', 'FINAL_ACRES', 'pct_aspen',\n",
       "       'INCIDENT_ID', 'INCIDENT_NAME', 'START_YEAR', 'CAUSE', 'DISCOVERY_DATE',\n",
       "       'DISCOVERY_DOY', 'WF_CESSATION_DATE', 'WF_CESSATION_DOY',\n",
       "       'STR_DESTROYED_TOTAL', 'STR_DAMAGED_TOTAL', 'STR_THREATENED_MAX',\n",
       "       'EVACUATION_REPORTED', 'PEAK_EVACUATIONS', 'WF_PEAK_AERIAL',\n",
       "       'WF_PEAK_PERSONNEL', 'na_l3name', 'geometry'],\n",
       "      dtype='object')"
      ]
     },
     "execution_count": 3,
     "metadata": {},
     "output_type": "execute_result"
    }
   ],
   "source": [
    "aspen_events_fp = os.path.join(projdir,'data/spatial/mod/NIFC/nifc-ics_2018_to_2023-aspen.gpkg')\n",
    "aspen_events = gpd.read_file(aspen_events_fp)\n",
    "aspen_events.columns"
   ]
  },
  {
   "cell_type": "code",
   "execution_count": 4,
   "id": "258aba23-d897-44c6-828b-a657e3e323ce",
   "metadata": {},
   "outputs": [
    {
     "data": {
      "text/html": [
       "<div>\n",
       "<style scoped>\n",
       "    .dataframe tbody tr th:only-of-type {\n",
       "        vertical-align: middle;\n",
       "    }\n",
       "\n",
       "    .dataframe tbody tr th {\n",
       "        vertical-align: top;\n",
       "    }\n",
       "\n",
       "    .dataframe thead th {\n",
       "        text-align: right;\n",
       "    }\n",
       "</style>\n",
       "<table border=\"1\" class=\"dataframe\">\n",
       "  <thead>\n",
       "    <tr style=\"text-align: right;\">\n",
       "      <th></th>\n",
       "      <th>NIFC_ID</th>\n",
       "      <th>NIFC_NAME</th>\n",
       "      <th>START_YEAR</th>\n",
       "      <th>DISCOVERY_DATE</th>\n",
       "      <th>WF_CESSATION_DATE</th>\n",
       "      <th>na_l3name</th>\n",
       "      <th>geometry</th>\n",
       "    </tr>\n",
       "  </thead>\n",
       "  <tbody>\n",
       "    <tr>\n",
       "      <th>0</th>\n",
       "      <td>6</td>\n",
       "      <td>DEVIL CREEK</td>\n",
       "      <td>2018</td>\n",
       "      <td>2018-07-19 15:46:00</td>\n",
       "      <td>2018-07-21 15:00:00</td>\n",
       "      <td>Southern Rockies</td>\n",
       "      <td>POLYGON ((-981360.461 1644805.834, -981864.344...</td>\n",
       "    </tr>\n",
       "    <tr>\n",
       "      <th>1</th>\n",
       "      <td>8</td>\n",
       "      <td>577</td>\n",
       "      <td>2019</td>\n",
       "      <td>2019-07-28 14:22:00</td>\n",
       "      <td>2019-08-18 16:00:00</td>\n",
       "      <td>Southern Rockies</td>\n",
       "      <td>POLYGON ((-1003641.705 1627304.106, -1004580.3...</td>\n",
       "    </tr>\n",
       "    <tr>\n",
       "      <th>2</th>\n",
       "      <td>14</td>\n",
       "      <td>416</td>\n",
       "      <td>2018</td>\n",
       "      <td>2018-06-01 11:02:00</td>\n",
       "      <td>2018-07-03 18:00:00</td>\n",
       "      <td>Southern Rockies</td>\n",
       "      <td>POLYGON ((-1031771.042 1658048.676, -1047969.7...</td>\n",
       "    </tr>\n",
       "    <tr>\n",
       "      <th>3</th>\n",
       "      <td>23</td>\n",
       "      <td>LOADING PEN</td>\n",
       "      <td>2020</td>\n",
       "      <td>2020-06-13 21:42:00</td>\n",
       "      <td>2020-06-18 17:45:00</td>\n",
       "      <td>Southern Rockies</td>\n",
       "      <td>POLYGON ((-1071014.573 1681756.433, -1071765.1...</td>\n",
       "    </tr>\n",
       "    <tr>\n",
       "      <th>4</th>\n",
       "      <td>24</td>\n",
       "      <td>PLATEAU</td>\n",
       "      <td>2018</td>\n",
       "      <td>2018-07-22 16:18:00</td>\n",
       "      <td>2018-08-17 18:45:00</td>\n",
       "      <td>Southern Rockies</td>\n",
       "      <td>POLYGON ((-1080396.374 1682569.954, -1094464.3...</td>\n",
       "    </tr>\n",
       "  </tbody>\n",
       "</table>\n",
       "</div>"
      ],
      "text/plain": [
       "  NIFC_ID    NIFC_NAME  START_YEAR      DISCOVERY_DATE   WF_CESSATION_DATE  \\\n",
       "0       6  DEVIL CREEK        2018 2018-07-19 15:46:00 2018-07-21 15:00:00   \n",
       "1       8          577        2019 2019-07-28 14:22:00 2019-08-18 16:00:00   \n",
       "2      14          416        2018 2018-06-01 11:02:00 2018-07-03 18:00:00   \n",
       "3      23  LOADING PEN        2020 2020-06-13 21:42:00 2020-06-18 17:45:00   \n",
       "4      24      PLATEAU        2018 2018-07-22 16:18:00 2018-08-17 18:45:00   \n",
       "\n",
       "          na_l3name                                           geometry  \n",
       "0  Southern Rockies  POLYGON ((-981360.461 1644805.834, -981864.344...  \n",
       "1  Southern Rockies  POLYGON ((-1003641.705 1627304.106, -1004580.3...  \n",
       "2  Southern Rockies  POLYGON ((-1031771.042 1658048.676, -1047969.7...  \n",
       "3  Southern Rockies  POLYGON ((-1071014.573 1681756.433, -1071765.1...  \n",
       "4  Southern Rockies  POLYGON ((-1080396.374 1682569.954, -1094464.3...  "
      ]
     },
     "execution_count": 4,
     "metadata": {},
     "output_type": "execute_result"
    }
   ],
   "source": [
    "# Create a fire perimeter buffer to extract FRP observations within 1km of bounds.\n",
    "bounds = create_bounds(aspen_events, by_bounds=True, buffer=1000)\n",
    "bounds = bounds.set_crs(proj, allow_override=True) # ensure correct crs\n",
    "bounds = bounds[['NIFC_ID','NIFC_NAME','START_YEAR','DISCOVERY_DATE','WF_CESSATION_DATE','na_l3name','geometry']] \n",
    "bounds['START_YEAR'] = bounds['START_YEAR'].astype(int)\n",
    "date_cols = ['DISCOVERY_DATE', 'WF_CESSATION_DATE']\n",
    "for col in date_cols:\n",
    "    bounds[col] = pd.to_datetime(bounds[col], errors='coerce')\n",
    "bounds.head()"
   ]
  },
  {
   "cell_type": "code",
   "execution_count": 5,
   "id": "9572203e-1079-421d-845e-94e3ff7fe2d4",
   "metadata": {},
   "outputs": [
    {
     "data": {
      "text/plain": [
       "<Projected CRS: EPSG:5070>\n",
       "Name: NAD83 / Conus Albers\n",
       "Axis Info [cartesian]:\n",
       "- X[east]: Easting (metre)\n",
       "- Y[north]: Northing (metre)\n",
       "Area of Use:\n",
       "- name: United States (USA) - CONUS onshore - Alabama; Arizona; Arkansas; California; Colorado; Connecticut; Delaware; Florida; Georgia; Idaho; Illinois; Indiana; Iowa; Kansas; Kentucky; Louisiana; Maine; Maryland; Massachusetts; Michigan; Minnesota; Mississippi; Missouri; Montana; Nebraska; Nevada; New Hampshire; New Jersey; New Mexico; New York; North Carolina; North Dakota; Ohio; Oklahoma; Oregon; Pennsylvania; Rhode Island; South Carolina; South Dakota; Tennessee; Texas; Utah; Vermont; Virginia; Washington; West Virginia; Wisconsin; Wyoming.\n",
       "- bounds: (-124.79, 24.41, -66.91, 49.38)\n",
       "Coordinate Operation:\n",
       "- name: Conus Albers\n",
       "- method: Albers Equal Area\n",
       "Datum: North American Datum 1983\n",
       "- Ellipsoid: GRS 1980\n",
       "- Prime Meridian: Greenwich"
      ]
     },
     "execution_count": 5,
     "metadata": {},
     "output_type": "execute_result"
    }
   ],
   "source": [
    "bounds.crs"
   ]
  },
  {
   "cell_type": "code",
   "execution_count": null,
   "id": "6c1b8d8d-9a4b-4f9a-9d65-310a5fd5615e",
   "metadata": {},
   "outputs": [],
   "source": []
  },
  {
   "cell_type": "code",
   "execution_count": null,
   "id": "3665ea14-4e11-4d09-980c-3ad2b125f2ed",
   "metadata": {},
   "outputs": [],
   "source": []
  },
  {
   "cell_type": "code",
   "execution_count": 6,
   "id": "9280561c-b025-4e3e-98fe-115f78f37ac7",
   "metadata": {},
   "outputs": [],
   "source": [
    "# Load the Active Fire Detection (AFD) data"
   ]
  },
  {
   "cell_type": "markdown",
   "id": "7ad1174f-72bd-4e7f-8716-a96ee53ac573",
   "metadata": {},
   "source": [
    "AFDs from MODIS Collection 6.1 (1km) and the Suomi National Polar-Orbiting Partnership (VIIRS S-NPP 375m) were obtained from the NASA FIRMS (https://firms.modaps.eosdis.nasa.gov/download/) between 2018-2023 in the western US. The S-NPP AFDs include an archive shapefile and a NRT shapefile for Sept 2022-->"
   ]
  },
  {
   "cell_type": "code",
   "execution_count": 7,
   "id": "3eae4f3f-685b-4a9c-9557-b9ba89b94bd7",
   "metadata": {},
   "outputs": [
    {
     "name": "stdout",
     "output_type": "stream",
     "text": [
      "['fire_nrt_SV-C2_476784.shp', 'fire_archive_SV-C2_476784.shp']\n"
     ]
    }
   ],
   "source": [
    "# Gather the archive and NRT S-NPP AFDs.\n",
    "snpp_fp = os.path.join(projdir,'data/spatial/raw/NASA-FIRMS/DL_FIRE_SV-C2_476784/')\n",
    "vects = glob.glob(snpp_fp+\"*.shp\")\n",
    "print([os.path.basename(v) for v in vects])"
   ]
  },
  {
   "cell_type": "code",
   "execution_count": 8,
   "id": "ab8eb693-f076-457b-bd7d-4ee7aac2c66a",
   "metadata": {},
   "outputs": [
    {
     "data": {
      "text/html": [
       "<div>\n",
       "<style scoped>\n",
       "    .dataframe tbody tr th:only-of-type {\n",
       "        vertical-align: middle;\n",
       "    }\n",
       "\n",
       "    .dataframe tbody tr th {\n",
       "        vertical-align: top;\n",
       "    }\n",
       "\n",
       "    .dataframe thead th {\n",
       "        text-align: right;\n",
       "    }\n",
       "</style>\n",
       "<table border=\"1\" class=\"dataframe\">\n",
       "  <thead>\n",
       "    <tr style=\"text-align: right;\">\n",
       "      <th></th>\n",
       "      <th>LATITUDE</th>\n",
       "      <th>LONGITUDE</th>\n",
       "      <th>BRIGHTNESS</th>\n",
       "      <th>SCAN</th>\n",
       "      <th>TRACK</th>\n",
       "      <th>ACQ_DATE</th>\n",
       "      <th>ACQ_TIME</th>\n",
       "      <th>SATELLITE</th>\n",
       "      <th>INSTRUMENT</th>\n",
       "      <th>CONFIDENCE</th>\n",
       "      <th>VERSION</th>\n",
       "      <th>BRIGHT_T31</th>\n",
       "      <th>FRP</th>\n",
       "      <th>DAYNIGHT</th>\n",
       "      <th>TYPE</th>\n",
       "      <th>geometry</th>\n",
       "    </tr>\n",
       "  </thead>\n",
       "  <tbody>\n",
       "    <tr>\n",
       "      <th>0</th>\n",
       "      <td>36.622398</td>\n",
       "      <td>-119.958420</td>\n",
       "      <td>319.25</td>\n",
       "      <td>0.45</td>\n",
       "      <td>0.63</td>\n",
       "      <td>2018-01-01</td>\n",
       "      <td>0854</td>\n",
       "      <td>N</td>\n",
       "      <td>VIIRS</td>\n",
       "      <td>n</td>\n",
       "      <td>1</td>\n",
       "      <td>276.46</td>\n",
       "      <td>1.93</td>\n",
       "      <td>N</td>\n",
       "      <td>0.0</td>\n",
       "      <td>POINT (-2100437.814 1774627.392)</td>\n",
       "    </tr>\n",
       "    <tr>\n",
       "      <th>1</th>\n",
       "      <td>48.166241</td>\n",
       "      <td>-102.698212</td>\n",
       "      <td>323.92</td>\n",
       "      <td>0.38</td>\n",
       "      <td>0.36</td>\n",
       "      <td>2018-01-01</td>\n",
       "      <td>0854</td>\n",
       "      <td>N</td>\n",
       "      <td>VIIRS</td>\n",
       "      <td>n</td>\n",
       "      <td>1</td>\n",
       "      <td>244.01</td>\n",
       "      <td>3.01</td>\n",
       "      <td>N</td>\n",
       "      <td>0.0</td>\n",
       "      <td>POINT (-502299.189 2814197.682)</td>\n",
       "    </tr>\n",
       "    <tr>\n",
       "      <th>2</th>\n",
       "      <td>48.152390</td>\n",
       "      <td>-102.697792</td>\n",
       "      <td>325.34</td>\n",
       "      <td>0.38</td>\n",
       "      <td>0.36</td>\n",
       "      <td>2018-01-01</td>\n",
       "      <td>0854</td>\n",
       "      <td>N</td>\n",
       "      <td>VIIRS</td>\n",
       "      <td>n</td>\n",
       "      <td>1</td>\n",
       "      <td>247.16</td>\n",
       "      <td>2.07</td>\n",
       "      <td>N</td>\n",
       "      <td>0.0</td>\n",
       "      <td>POINT (-502375.241 2812672.753)</td>\n",
       "    </tr>\n",
       "    <tr>\n",
       "      <th>3</th>\n",
       "      <td>47.879730</td>\n",
       "      <td>-102.706543</td>\n",
       "      <td>320.74</td>\n",
       "      <td>0.38</td>\n",
       "      <td>0.36</td>\n",
       "      <td>2018-01-01</td>\n",
       "      <td>0854</td>\n",
       "      <td>N</td>\n",
       "      <td>VIIRS</td>\n",
       "      <td>n</td>\n",
       "      <td>1</td>\n",
       "      <td>245.34</td>\n",
       "      <td>3.00</td>\n",
       "      <td>N</td>\n",
       "      <td>0.0</td>\n",
       "      <td>POINT (-505150.481 2782728.231)</td>\n",
       "    </tr>\n",
       "    <tr>\n",
       "      <th>4</th>\n",
       "      <td>44.249660</td>\n",
       "      <td>-104.516678</td>\n",
       "      <td>327.49</td>\n",
       "      <td>0.38</td>\n",
       "      <td>0.36</td>\n",
       "      <td>2018-01-01</td>\n",
       "      <td>0854</td>\n",
       "      <td>N</td>\n",
       "      <td>VIIRS</td>\n",
       "      <td>n</td>\n",
       "      <td>1</td>\n",
       "      <td>251.79</td>\n",
       "      <td>5.84</td>\n",
       "      <td>N</td>\n",
       "      <td>0.0</td>\n",
       "      <td>POINT (-677212.174 2392519.636)</td>\n",
       "    </tr>\n",
       "  </tbody>\n",
       "</table>\n",
       "</div>"
      ],
      "text/plain": [
       "    LATITUDE   LONGITUDE  BRIGHTNESS  SCAN  TRACK    ACQ_DATE ACQ_TIME  \\\n",
       "0  36.622398 -119.958420      319.25  0.45   0.63  2018-01-01     0854   \n",
       "1  48.166241 -102.698212      323.92  0.38   0.36  2018-01-01     0854   \n",
       "2  48.152390 -102.697792      325.34  0.38   0.36  2018-01-01     0854   \n",
       "3  47.879730 -102.706543      320.74  0.38   0.36  2018-01-01     0854   \n",
       "4  44.249660 -104.516678      327.49  0.38   0.36  2018-01-01     0854   \n",
       "\n",
       "  SATELLITE INSTRUMENT CONFIDENCE VERSION  BRIGHT_T31   FRP DAYNIGHT  TYPE  \\\n",
       "0         N      VIIRS          n       1      276.46  1.93        N   0.0   \n",
       "1         N      VIIRS          n       1      244.01  3.01        N   0.0   \n",
       "2         N      VIIRS          n       1      247.16  2.07        N   0.0   \n",
       "3         N      VIIRS          n       1      245.34  3.00        N   0.0   \n",
       "4         N      VIIRS          n       1      251.79  5.84        N   0.0   \n",
       "\n",
       "                           geometry  \n",
       "0  POINT (-2100437.814 1774627.392)  \n",
       "1   POINT (-502299.189 2814197.682)  \n",
       "2   POINT (-502375.241 2812672.753)  \n",
       "3   POINT (-505150.481 2782728.231)  \n",
       "4   POINT (-677212.174 2392519.636)  "
      ]
     },
     "execution_count": 8,
     "metadata": {},
     "output_type": "execute_result"
    }
   ],
   "source": [
    "# Merge the NRT and archive vintages\n",
    "archive = gpd.read_file([v for v in vects if \"archive\" in v][0]).to_crs(proj)\n",
    "nrt = gpd.read_file([v for v in vects if \"nrt\" in v][0]).to_crs(proj)\n",
    "snpp = pd.concat([archive, nrt], ignore_index=True)\n",
    "snpp.head()"
   ]
  },
  {
   "cell_type": "code",
   "execution_count": 9,
   "id": "126f1a3f-ed29-4066-9e8e-6ddb84ba2a8f",
   "metadata": {},
   "outputs": [
    {
     "data": {
      "text/html": [
       "<div>\n",
       "<style scoped>\n",
       "    .dataframe tbody tr th:only-of-type {\n",
       "        vertical-align: middle;\n",
       "    }\n",
       "\n",
       "    .dataframe tbody tr th {\n",
       "        vertical-align: top;\n",
       "    }\n",
       "\n",
       "    .dataframe thead th {\n",
       "        text-align: right;\n",
       "    }\n",
       "</style>\n",
       "<table border=\"1\" class=\"dataframe\">\n",
       "  <thead>\n",
       "    <tr style=\"text-align: right;\">\n",
       "      <th></th>\n",
       "      <th>LATITUDE</th>\n",
       "      <th>LONGITUDE</th>\n",
       "      <th>BRIGHTNESS</th>\n",
       "      <th>SCAN</th>\n",
       "      <th>TRACK</th>\n",
       "      <th>ACQ_DATE</th>\n",
       "      <th>ACQ_TIME</th>\n",
       "      <th>SATELLITE</th>\n",
       "      <th>INSTRUMENT</th>\n",
       "      <th>CONFIDENCE</th>\n",
       "      <th>VERSION</th>\n",
       "      <th>BRIGHT_T31</th>\n",
       "      <th>FRP</th>\n",
       "      <th>DAYNIGHT</th>\n",
       "      <th>TYPE</th>\n",
       "      <th>geometry</th>\n",
       "    </tr>\n",
       "  </thead>\n",
       "  <tbody>\n",
       "    <tr>\n",
       "      <th>0</th>\n",
       "      <td>44.3762</td>\n",
       "      <td>-119.1190</td>\n",
       "      <td>312.5</td>\n",
       "      <td>1.2</td>\n",
       "      <td>1.1</td>\n",
       "      <td>2018-01-01</td>\n",
       "      <td>0608</td>\n",
       "      <td>Terra</td>\n",
       "      <td>MODIS</td>\n",
       "      <td>85</td>\n",
       "      <td>6.03</td>\n",
       "      <td>269.1</td>\n",
       "      <td>21.9</td>\n",
       "      <td>N</td>\n",
       "      <td>0</td>\n",
       "      <td>POINT (-1819292.701 2598646.798)</td>\n",
       "    </tr>\n",
       "    <tr>\n",
       "      <th>1</th>\n",
       "      <td>32.1679</td>\n",
       "      <td>-107.7655</td>\n",
       "      <td>322.3</td>\n",
       "      <td>1.1</td>\n",
       "      <td>1.0</td>\n",
       "      <td>2018-01-01</td>\n",
       "      <td>1809</td>\n",
       "      <td>Terra</td>\n",
       "      <td>MODIS</td>\n",
       "      <td>77</td>\n",
       "      <td>6.03</td>\n",
       "      <td>289.1</td>\n",
       "      <td>19.0</td>\n",
       "      <td>D</td>\n",
       "      <td>0</td>\n",
       "      <td>POINT (-1101321.656 1078752.715)</td>\n",
       "    </tr>\n",
       "    <tr>\n",
       "      <th>2</th>\n",
       "      <td>32.1643</td>\n",
       "      <td>-107.7433</td>\n",
       "      <td>318.4</td>\n",
       "      <td>1.1</td>\n",
       "      <td>1.0</td>\n",
       "      <td>2018-01-01</td>\n",
       "      <td>1809</td>\n",
       "      <td>Terra</td>\n",
       "      <td>MODIS</td>\n",
       "      <td>74</td>\n",
       "      <td>6.03</td>\n",
       "      <td>287.9</td>\n",
       "      <td>14.9</td>\n",
       "      <td>D</td>\n",
       "      <td>0</td>\n",
       "      <td>POINT (-1099303.652 1078097.526)</td>\n",
       "    </tr>\n",
       "    <tr>\n",
       "      <th>3</th>\n",
       "      <td>31.7188</td>\n",
       "      <td>-102.0085</td>\n",
       "      <td>303.8</td>\n",
       "      <td>1.4</td>\n",
       "      <td>1.2</td>\n",
       "      <td>2018-01-01</td>\n",
       "      <td>1944</td>\n",
       "      <td>Aqua</td>\n",
       "      <td>MODIS</td>\n",
       "      <td>57</td>\n",
       "      <td>6.03</td>\n",
       "      <td>279.4</td>\n",
       "      <td>12.6</td>\n",
       "      <td>D</td>\n",
       "      <td>0</td>\n",
       "      <td>POINT (-566656.554 978378.293)</td>\n",
       "    </tr>\n",
       "    <tr>\n",
       "      <th>4</th>\n",
       "      <td>38.8238</td>\n",
       "      <td>-122.6829</td>\n",
       "      <td>302.0</td>\n",
       "      <td>2.7</td>\n",
       "      <td>1.6</td>\n",
       "      <td>2018-01-01</td>\n",
       "      <td>1946</td>\n",
       "      <td>Terra</td>\n",
       "      <td>MODIS</td>\n",
       "      <td>50</td>\n",
       "      <td>6.03</td>\n",
       "      <td>280.2</td>\n",
       "      <td>26.9</td>\n",
       "      <td>D</td>\n",
       "      <td>0</td>\n",
       "      <td>POINT (-2264952.497 2075236.763)</td>\n",
       "    </tr>\n",
       "  </tbody>\n",
       "</table>\n",
       "</div>"
      ],
      "text/plain": [
       "   LATITUDE  LONGITUDE  BRIGHTNESS  SCAN  TRACK    ACQ_DATE ACQ_TIME  \\\n",
       "0   44.3762  -119.1190       312.5   1.2    1.1  2018-01-01     0608   \n",
       "1   32.1679  -107.7655       322.3   1.1    1.0  2018-01-01     1809   \n",
       "2   32.1643  -107.7433       318.4   1.1    1.0  2018-01-01     1809   \n",
       "3   31.7188  -102.0085       303.8   1.4    1.2  2018-01-01     1944   \n",
       "4   38.8238  -122.6829       302.0   2.7    1.6  2018-01-01     1946   \n",
       "\n",
       "  SATELLITE INSTRUMENT  CONFIDENCE VERSION  BRIGHT_T31   FRP DAYNIGHT  TYPE  \\\n",
       "0     Terra      MODIS          85    6.03       269.1  21.9        N     0   \n",
       "1     Terra      MODIS          77    6.03       289.1  19.0        D     0   \n",
       "2     Terra      MODIS          74    6.03       287.9  14.9        D     0   \n",
       "3      Aqua      MODIS          57    6.03       279.4  12.6        D     0   \n",
       "4     Terra      MODIS          50    6.03       280.2  26.9        D     0   \n",
       "\n",
       "                           geometry  \n",
       "0  POINT (-1819292.701 2598646.798)  \n",
       "1  POINT (-1101321.656 1078752.715)  \n",
       "2  POINT (-1099303.652 1078097.526)  \n",
       "3    POINT (-566656.554 978378.293)  \n",
       "4  POINT (-2264952.497 2075236.763)  "
      ]
     },
     "execution_count": 9,
     "metadata": {},
     "output_type": "execute_result"
    }
   ],
   "source": [
    "# Set up a dictionary to store both MODIS and VIIRS AFDs\n",
    "modis_fp = os.path.join(projdir,'data/spatial/raw/NASA-FIRMS/DL_FIRE_M-C61_476781/')\n",
    "\n",
    "# Store these in a dictionary\n",
    "afds = {\n",
    "    \"MOD61\": gpd.read_file(modis_fp).to_crs(proj),\n",
    "    \"SNPP\": snpp\n",
    "}\n",
    "\n",
    "afds['MOD61'].head()"
   ]
  },
  {
   "cell_type": "code",
   "execution_count": 10,
   "id": "7003f152-6e2c-461d-b616-15a023ff3fc4",
   "metadata": {},
   "outputs": [
    {
     "data": {
      "text/plain": [
       "<Projected CRS: EPSG:5070>\n",
       "Name: NAD83 / Conus Albers\n",
       "Axis Info [cartesian]:\n",
       "- X[east]: Easting (metre)\n",
       "- Y[north]: Northing (metre)\n",
       "Area of Use:\n",
       "- name: United States (USA) - CONUS onshore - Alabama; Arizona; Arkansas; California; Colorado; Connecticut; Delaware; Florida; Georgia; Idaho; Illinois; Indiana; Iowa; Kansas; Kentucky; Louisiana; Maine; Maryland; Massachusetts; Michigan; Minnesota; Mississippi; Missouri; Montana; Nebraska; Nevada; New Hampshire; New Jersey; New Mexico; New York; North Carolina; North Dakota; Ohio; Oklahoma; Oregon; Pennsylvania; Rhode Island; South Carolina; South Dakota; Tennessee; Texas; Utah; Vermont; Virginia; Washington; West Virginia; Wisconsin; Wyoming.\n",
       "- bounds: (-124.79, 24.41, -66.91, 49.38)\n",
       "Coordinate Operation:\n",
       "- name: Conus Albers\n",
       "- method: Albers Equal Area\n",
       "Datum: North American Datum 1983\n",
       "- Ellipsoid: GRS 1980\n",
       "- Prime Meridian: Greenwich"
      ]
     },
     "execution_count": 10,
     "metadata": {},
     "output_type": "execute_result"
    }
   ],
   "source": [
    "afds['MOD61'].crs"
   ]
  },
  {
   "cell_type": "code",
   "execution_count": null,
   "id": "d39b3c37-8fea-4d0b-af2c-831787c50134",
   "metadata": {},
   "outputs": [],
   "source": []
  },
  {
   "cell_type": "code",
   "execution_count": 11,
   "id": "57af249d-0e08-408e-93f3-41274070218c",
   "metadata": {},
   "outputs": [],
   "source": [
    "# Extract the AFDs within fire bounds."
   ]
  },
  {
   "cell_type": "code",
   "execution_count": null,
   "id": "f3de4609-2c93-4dbc-8e34-6464d66b07e6",
   "metadata": {},
   "outputs": [],
   "source": []
  },
  {
   "cell_type": "code",
   "execution_count": 12,
   "id": "143cf807-00ce-48fd-8ba0-7ab2adde47c7",
   "metadata": {},
   "outputs": [
    {
     "name": "stdout",
     "output_type": "stream",
     "text": [
      "Processing: MOD61\n",
      "Be aware ! Duplicates found ! 904 to be exact ...\n",
      "\tThere are [29084] high or nominal confidence detections within fire bounds.\n",
      "Saved to /Users/max/Library/CloudStorage/OneDrive-Personal/mcook/aspen-fire/Aim2/data/spatial/mod/AFD/MOD61-afd_aspen-fires_2018_to_2023.gpkg\n",
      "\n",
      "Processing: SNPP\n",
      "Be aware ! Duplicates found ! 3070 to be exact ...\n",
      "\tThere are [120842] high or nominal confidence detections within fire bounds.\n",
      "Saved to /Users/max/Library/CloudStorage/OneDrive-Personal/mcook/aspen-fire/Aim2/data/spatial/mod/AFD/SNPP-afd_aspen-fires_2018_to_2023.gpkg\n",
      "\n",
      "\n",
      "Processing complete !\n"
     ]
    }
   ],
   "source": [
    "afd_events = {} # to store the filtered data\n",
    "# Loop through sensors (MODIS and VIIRS)\n",
    "for satellite, afd in afds.items():\n",
    "    print(f\"Processing: {satellite}\")\n",
    "    \n",
    "    afd['VID'] = afd.index # add a unique ID\n",
    "    \n",
    "    # Remove low confidence observations\n",
    "    try:\n",
    "        afd = afd[afd['CONFIDENCE'] != 'l']\n",
    "    except KeyError as e:\n",
    "        print(f\"KeyError: {e}\")\n",
    "\n",
    "    if afd.crs != bounds.crs:\n",
    "        afd = afd.to_crs(bounds.crs)  # ensure the crs matches\n",
    "\n",
    "    # Extract within fire bounds\n",
    "    afd_ = gpd.sjoin(afd, bounds, how='inner', predicate='within')\n",
    "    afd_.drop(columns=['index_right'], inplace=True)\n",
    "    \n",
    "    # Tidy the date columns for matching\n",
    "    afd_['ACQ_DATE'] = pd.to_datetime(afd_['ACQ_DATE'])\n",
    "    afd_['ACQ_MONTH'] = afd_['ACQ_DATE'].dt.month.astype(int)\n",
    "    afd_['ACQ_YEAR'] = afd_['ACQ_DATE'].dt.year.astype(int)\n",
    "    \n",
    "    # Create a datetime object\n",
    "    afd_.loc[:, 'ACQ_DATETIME'] = afd_.apply(lambda row: convert_datetime(row['ACQ_DATE'], row['ACQ_TIME']), axis=1)\n",
    "    \n",
    "    # Filter for matching dates\n",
    "    afd_f = afd_[\n",
    "        (afd_['ACQ_YEAR'] >= afd_['DISCOVERY_DATE'].dt.year.astype(int)) & \n",
    "        (afd_['ACQ_MONTH'] >= afd_['DISCOVERY_DATE'].dt.month.astype(int)) &\n",
    "        (afd_['ACQ_YEAR'] <= afd_['WF_CESSATION_DATE'].dt.year.astype(int)) &\n",
    "        (afd_['ACQ_MONTH'] <= afd_['WF_CESSATION_DATE'].dt.month.astype(int))\n",
    "    ]\n",
    "\n",
    "    # Drop any duplicates\n",
    "    dups = afd_f.duplicated(subset='VID').sum()\n",
    "    if dups > 0:\n",
    "        print(f\"Be aware ! Duplicates found ! {dups} to be exact ...\")\n",
    "        # afd_f = afd_f.drop_duplicates(subset='VID', keep='first')\n",
    "    \n",
    "    print(f\"\\tThere are [{len(afd_f)}] high or nominal confidence detections within fire bounds.\")\n",
    "\n",
    "    # Overwrite the dictionary items\n",
    "    afd_events[satellite] = afd_f\n",
    "\n",
    "    # Save the AFD observation in fire bounds\n",
    "    out_fp = os.path.join(projdir,f'data/spatial/mod/AFD/{satellite}-afd_aspen-fires_2018_to_2023.gpkg')\n",
    "    afd_f.to_file(out_fp)\n",
    "    print(f'Saved to {out_fp}\\n')\n",
    "    \n",
    "    del afd, afd_, afd_f\n",
    "    gc.collect()\n",
    "\n",
    "print(\"\\nProcessing complete !\")"
   ]
  },
  {
   "cell_type": "code",
   "execution_count": 13,
   "id": "668c4c18-90d2-47dd-b79f-4d92259f83a3",
   "metadata": {},
   "outputs": [],
   "source": [
    "# Handle duplicates seperately"
   ]
  },
  {
   "cell_type": "code",
   "execution_count": 14,
   "id": "14921074-c6fc-42c5-87ff-29b5339cb29e",
   "metadata": {},
   "outputs": [
    {
     "data": {
      "text/plain": [
       "Index(['LATITUDE', 'LONGITUDE', 'BRIGHTNESS', 'SCAN', 'TRACK', 'ACQ_DATE',\n",
       "       'ACQ_TIME', 'SATELLITE', 'INSTRUMENT', 'CONFIDENCE', 'VERSION',\n",
       "       'BRIGHT_T31', 'FRP', 'DAYNIGHT', 'TYPE', 'geometry', 'VID', 'NIFC_ID',\n",
       "       'NIFC_NAME', 'START_YEAR', 'DISCOVERY_DATE', 'WF_CESSATION_DATE',\n",
       "       'na_l3name', 'ACQ_MONTH', 'ACQ_YEAR', 'ACQ_DATETIME'],\n",
       "      dtype='object')"
      ]
     },
     "execution_count": 14,
     "metadata": {},
     "output_type": "execute_result"
    }
   ],
   "source": [
    "afd_events['MOD61'].columns"
   ]
  },
  {
   "cell_type": "code",
   "execution_count": null,
   "id": "509f870f-462d-458b-acc0-9588bbb58a20",
   "metadata": {},
   "outputs": [],
   "source": []
  },
  {
   "cell_type": "code",
   "execution_count": 15,
   "id": "e8c0d755-6bcd-4dde-bf26-9cbf2eb5c450",
   "metadata": {},
   "outputs": [],
   "source": [
    "# Create the AFD \"detection buffer\" for both MODIS and VIIRS"
   ]
  },
  {
   "cell_type": "code",
   "execution_count": null,
   "id": "a6c8f53d-414f-4ced-a4b0-a24381533aad",
   "metadata": {},
   "outputs": [],
   "source": []
  },
  {
   "cell_type": "code",
   "execution_count": 16,
   "id": "e31b646c-d3ff-48e8-9c04-52750cdca3ed",
   "metadata": {},
   "outputs": [
    {
     "name": "stdout",
     "output_type": "stream",
     "text": [
      "Creating buffer for MOD61 observations.\n",
      "Saved to /Users/max/Library/CloudStorage/OneDrive-Personal/mcook/aspen-fire/Aim2/data/spatial/mod/AFD/MOD61-afd_aspen-fires_2018_to_2023_buffer.gpkg\n",
      "\n",
      "Creating buffer for SNPP observations.\n",
      "Saved to /Users/max/Library/CloudStorage/OneDrive-Personal/mcook/aspen-fire/Aim2/data/spatial/mod/AFD/SNPP-afd_aspen-fires_2018_to_2023_buffer.gpkg\n",
      "\n"
     ]
    }
   ],
   "source": [
    "afd_events_plots = {} # to store the buffered observations\n",
    "for satellite, afd in afd_events.items():\n",
    "    print(f\"Creating buffer for {satellite} observations.\")\n",
    "\n",
    "    afd_ = afd.copy()\n",
    "    if satellite == 'MOD61':\n",
    "        afd_.geometry = afd_.geometry.buffer(500, cap_style=3) # square buffer half of pixel size\n",
    "    elif satellite == 'SNPP':\n",
    "        afd_.geometry = afd_.geometry.buffer(187.5, cap_style=3) # square buffer half of pixel size\n",
    "\n",
    "    afd_events_plots[satellite] = afd_ # add to the new dictionary\n",
    "\n",
    "    # Save out\n",
    "    out_fp = os.path.join(projdir,f'data/spatial/mod/AFD/{satellite}-afd_aspen-fires_2018_to_2023_buffer.gpkg')\n",
    "    afd_.to_file(out_fp)\n",
    "    print(f'Saved to {out_fp}\\n')\n",
    "\n",
    "    del afd_\n",
    "    gc.collect()"
   ]
  },
  {
   "cell_type": "code",
   "execution_count": 17,
   "id": "0f0677e2-bd14-4f1a-8a83-1aa88f4c68e5",
   "metadata": {},
   "outputs": [
    {
     "data": {
      "text/plain": [
       "Index(['LATITUDE', 'LONGITUDE', 'BRIGHTNESS', 'SCAN', 'TRACK', 'ACQ_DATE',\n",
       "       'ACQ_TIME', 'SATELLITE', 'INSTRUMENT', 'CONFIDENCE', 'VERSION',\n",
       "       'BRIGHT_T31', 'FRP', 'DAYNIGHT', 'TYPE', 'geometry', 'VID', 'NIFC_ID',\n",
       "       'NIFC_NAME', 'START_YEAR', 'DISCOVERY_DATE', 'WF_CESSATION_DATE',\n",
       "       'na_l3name', 'ACQ_MONTH', 'ACQ_YEAR', 'ACQ_DATETIME'],\n",
       "      dtype='object')"
      ]
     },
     "execution_count": 17,
     "metadata": {},
     "output_type": "execute_result"
    }
   ],
   "source": [
    "afd_events_plots['MOD61'].columns"
   ]
  },
  {
   "cell_type": "code",
   "execution_count": null,
   "id": "c22ce608-72f3-4e1f-aeb8-09b8d3863bea",
   "metadata": {},
   "outputs": [],
   "source": []
  },
  {
   "cell_type": "code",
   "execution_count": 18,
   "id": "1c5c41f5-d9d6-4ddc-b1f6-9cde4b9e4ba0",
   "metadata": {},
   "outputs": [],
   "source": [
    "# Gather bounds for individual fires/AFDs"
   ]
  },
  {
   "cell_type": "code",
   "execution_count": null,
   "id": "a6eb9190-bdda-41d3-8784-9b0216fe5ad0",
   "metadata": {},
   "outputs": [],
   "source": []
  },
  {
   "cell_type": "code",
   "execution_count": 19,
   "id": "25df97c5-ba2d-4f08-a03f-b569b97f3482",
   "metadata": {},
   "outputs": [
    {
     "name": "stdout",
     "output_type": "stream",
     "text": [
      "Creating bounds for MOD61 observations.\n",
      "Saved to /Users/max/Library/CloudStorage/OneDrive-Personal/mcook/aspen-fire/Aim2/data/spatial/mod/AFD/MOD61-afd_aspen-fires_2018_to_2023_bounds.gpkg\n",
      "\n",
      "Creating bounds for SNPP observations.\n",
      "Saved to /Users/max/Library/CloudStorage/OneDrive-Personal/mcook/aspen-fire/Aim2/data/spatial/mod/AFD/SNPP-afd_aspen-fires_2018_to_2023_bounds.gpkg\n",
      "\n"
     ]
    }
   ],
   "source": [
    "buffer = 1000 # meters\n",
    "afd_fire_bounds = {}\n",
    "for satellite, afd in afd_events_plots.items():\n",
    "    print(f\"Creating bounds for {satellite} observations.\")\n",
    "    \n",
    "    # Group by fire ID\n",
    "    grouped = afd.groupby('NIFC_ID')\n",
    "    bounds_gdf = gpd.GeoDataFrame(columns=['NIFC_ID', 'geometry'], crs=afd.crs)\n",
    "    # Iterate over each fire group\n",
    "    for fire_id, group in grouped:\n",
    "        # Calculate the total bounds (minx, miny, maxx, maxy) for all geometries in the group\n",
    "        bounds = box(*group.total_bounds)\n",
    "        # Apply buffer if specified\n",
    "        if buffer is not None:\n",
    "            bounds = bounds.buffer(buffer)\n",
    "        # Create a GeoDataFrame for this fire with the bounding box, id, and ig_year\n",
    "        fire_gdf = gpd.GeoDataFrame({'NIFC_ID': [fire_id], 'geometry': [bounds]}, crs=afd.crs)\n",
    "        # Append the result to the GeoDataFrame\n",
    "        bounds_gdf = pd.concat([bounds_gdf, fire_gdf], ignore_index=True)\n",
    "\n",
    "    # Store the result\n",
    "    afd_fire_bounds[satellite] = bounds_gdf\n",
    "\n",
    "    # Save out the bounds to a file\n",
    "    out_fp = os.path.join(projdir, f'data/spatial/mod/AFD/{satellite}-afd_aspen-fires_2018_to_2023_bounds.gpkg')\n",
    "    bounds_gdf.to_file(out_fp)\n",
    "    print(f\"Saved to {out_fp}\\n\")\n",
    "\n",
    "    gc.collect()"
   ]
  },
  {
   "cell_type": "code",
   "execution_count": 20,
   "id": "3b538f62-393c-4020-b3f1-b51fffd9e786",
   "metadata": {},
   "outputs": [
    {
     "data": {
      "text/html": [
       "<div>\n",
       "<style scoped>\n",
       "    .dataframe tbody tr th:only-of-type {\n",
       "        vertical-align: middle;\n",
       "    }\n",
       "\n",
       "    .dataframe tbody tr th {\n",
       "        vertical-align: top;\n",
       "    }\n",
       "\n",
       "    .dataframe thead th {\n",
       "        text-align: right;\n",
       "    }\n",
       "</style>\n",
       "<table border=\"1\" class=\"dataframe\">\n",
       "  <thead>\n",
       "    <tr style=\"text-align: right;\">\n",
       "      <th></th>\n",
       "      <th>NIFC_ID</th>\n",
       "      <th>geometry</th>\n",
       "    </tr>\n",
       "  </thead>\n",
       "  <tbody>\n",
       "    <tr>\n",
       "      <th>0</th>\n",
       "      <td>100763</td>\n",
       "      <td>POLYGON ((-1302777.051 2935597.721, -1304470.8...</td>\n",
       "    </tr>\n",
       "    <tr>\n",
       "      <th>1</th>\n",
       "      <td>1055</td>\n",
       "      <td>POLYGON ((-1662672.883 2765372.027, -1665727.3...</td>\n",
       "    </tr>\n",
       "    <tr>\n",
       "      <th>2</th>\n",
       "      <td>1070</td>\n",
       "      <td>POLYGON ((-1648256.013 2755617.377, -1673173.6...</td>\n",
       "    </tr>\n",
       "    <tr>\n",
       "      <th>3</th>\n",
       "      <td>12229</td>\n",
       "      <td>POLYGON ((-1978966.285 1675019.040, -1982045.2...</td>\n",
       "    </tr>\n",
       "    <tr>\n",
       "      <th>4</th>\n",
       "      <td>13137</td>\n",
       "      <td>POLYGON ((-1587662.179 2645713.160, -1590498.6...</td>\n",
       "    </tr>\n",
       "  </tbody>\n",
       "</table>\n",
       "</div>"
      ],
      "text/plain": [
       "  NIFC_ID                                           geometry\n",
       "0  100763  POLYGON ((-1302777.051 2935597.721, -1304470.8...\n",
       "1    1055  POLYGON ((-1662672.883 2765372.027, -1665727.3...\n",
       "2    1070  POLYGON ((-1648256.013 2755617.377, -1673173.6...\n",
       "3   12229  POLYGON ((-1978966.285 1675019.040, -1982045.2...\n",
       "4   13137  POLYGON ((-1587662.179 2645713.160, -1590498.6..."
      ]
     },
     "execution_count": 20,
     "metadata": {},
     "output_type": "execute_result"
    }
   ],
   "source": [
    "afd_fire_bounds['MOD61'].head()"
   ]
  },
  {
   "cell_type": "code",
   "execution_count": 21,
   "id": "c4499c1a-5945-4522-889b-5c542a09f92a",
   "metadata": {},
   "outputs": [
    {
     "data": {
      "text/plain": [
       "Index(['NIFC_ID', 'geometry', 'NIFC_NAME', 'NIFC_ACRES', 'FINAL_ACRES',\n",
       "       'pct_aspen', 'INCIDENT_ID', 'INCIDENT_NAME', 'START_YEAR', 'CAUSE',\n",
       "       'DISCOVERY_DATE', 'DISCOVERY_DOY', 'WF_CESSATION_DATE',\n",
       "       'WF_CESSATION_DOY', 'STR_DESTROYED_TOTAL', 'STR_DAMAGED_TOTAL',\n",
       "       'STR_THREATENED_MAX', 'EVACUATION_REPORTED', 'PEAK_EVACUATIONS',\n",
       "       'WF_PEAK_AERIAL', 'WF_PEAK_PERSONNEL', 'na_l3name'],\n",
       "      dtype='object')"
      ]
     },
     "execution_count": 21,
     "metadata": {},
     "output_type": "execute_result"
    }
   ],
   "source": [
    "# Combine the MODIS and VIIRS bounds into a single GeoDataFrame\n",
    "combined = pd.concat([afd_fire_bounds['MOD61'], afd_fire_bounds['SNPP']], ignore_index=True)\n",
    "# Dissolve the geometries by fire ID ('OBJECTID') to combine geometries for each fire\n",
    "combined = combined.dissolve(by='NIFC_ID')\n",
    "combined = pd.merge(combined, aspen_events.drop(columns=['geometry']), left_on='NIFC_ID', right_on='NIFC_ID', how='left')\n",
    "combined.columns"
   ]
  },
  {
   "cell_type": "code",
   "execution_count": 22,
   "id": "bd054900-b670-4e42-9f95-087f9b125479",
   "metadata": {},
   "outputs": [
    {
     "data": {
      "text/plain": [
       "184"
      ]
     },
     "execution_count": 22,
     "metadata": {},
     "output_type": "execute_result"
    }
   ],
   "source": [
    "len(combined)"
   ]
  },
  {
   "cell_type": "code",
   "execution_count": null,
   "id": "af64dbed-18ca-4b28-a8a7-5f432d002e6c",
   "metadata": {},
   "outputs": [],
   "source": []
  },
  {
   "cell_type": "code",
   "execution_count": null,
   "id": "6d23526a-6549-496b-b0c7-09cdbceae91c",
   "metadata": {},
   "outputs": [],
   "source": [
    "# Join to state boundaries, assign \"Start_Day\" and \"End_Day\" from Parks et al. (2019)"
   ]
  },
  {
   "cell_type": "code",
   "execution_count": 23,
   "id": "521409fc-0a43-4354-9f21-88190f22cecb",
   "metadata": {},
   "outputs": [
    {
     "data": {
      "text/plain": [
       "Index(['REGION', 'DIVISION', 'STATEFP', 'STATENS', 'GEOID', 'STUSPS', 'NAME',\n",
       "       'LSAD', 'MTFCC', 'FUNCSTAT', 'ALAND', 'AWATER', 'INTPTLAT', 'INTPTLON',\n",
       "       'geometry'],\n",
       "      dtype='object')"
      ]
     },
     "execution_count": 23,
     "metadata": {},
     "output_type": "execute_result"
    }
   ],
   "source": [
    "states = os.path.join(maindir, 'data/boundaries/political/TIGER/tl19_us_states_w_ak_lambert.gpkg')\n",
    "states = gpd.read_file(states)\n",
    "states = states.to_crs(proj)\n",
    "states.columns"
   ]
  },
  {
   "cell_type": "code",
   "execution_count": 34,
   "id": "c36f20a2-edf6-42cb-8fc5-32dbf2c091a8",
   "metadata": {},
   "outputs": [
    {
     "data": {
      "text/plain": [
       "Index(['NIFC_ID', 'geometry', 'NIFC_NAME', 'NIFC_ACRES', 'FINAL_ACRES',\n",
       "       'pct_aspen', 'INCIDENT_ID', 'INCIDENT_NAME', 'START_YEAR', 'CAUSE',\n",
       "       'DISCOVERY_DATE', 'DISCOVERY_DOY', 'WF_CESSATION_DATE',\n",
       "       'WF_CESSATION_DOY', 'STR_DESTROYED_TOTAL', 'STR_DAMAGED_TOTAL',\n",
       "       'STR_THREATENED_MAX', 'EVACUATION_REPORTED', 'PEAK_EVACUATIONS',\n",
       "       'WF_PEAK_AERIAL', 'WF_PEAK_PERSONNEL', 'na_l3name', 'STUSPS'],\n",
       "      dtype='object')"
      ]
     },
     "execution_count": 34,
     "metadata": {},
     "output_type": "execute_result"
    }
   ],
   "source": [
    "centroid = combined.copy()\n",
    "centroid['geometry'] = centroid.geometry.centroid\n",
    "fire_state = gpd.overlay(centroid[['NIFC_ID','geometry']], states[['STUSPS','geometry']], how='intersection')\n",
    "fire_state = fire_state[['NIFC_ID','STUSPS']]\n",
    "combined_ = pd.merge(combined, fire_state, on='NIFC_ID', how='left')\n",
    "combined_.columns"
   ]
  },
  {
   "cell_type": "code",
   "execution_count": 35,
   "id": "39c1446f-17a2-4e1f-a8af-69209b1d97ea",
   "metadata": {},
   "outputs": [
    {
     "data": {
      "text/html": [
       "<div>\n",
       "<style scoped>\n",
       "    .dataframe tbody tr th:only-of-type {\n",
       "        vertical-align: middle;\n",
       "    }\n",
       "\n",
       "    .dataframe tbody tr th {\n",
       "        vertical-align: top;\n",
       "    }\n",
       "\n",
       "    .dataframe thead th {\n",
       "        text-align: right;\n",
       "    }\n",
       "</style>\n",
       "<table border=\"1\" class=\"dataframe\">\n",
       "  <thead>\n",
       "    <tr style=\"text-align: right;\">\n",
       "      <th></th>\n",
       "      <th>Fire_ID</th>\n",
       "      <th>Fire_Name</th>\n",
       "      <th>Fire_Year</th>\n",
       "      <th>Start_Day</th>\n",
       "      <th>End_Day</th>\n",
       "      <th>geometry</th>\n",
       "    </tr>\n",
       "  </thead>\n",
       "  <tbody>\n",
       "    <tr>\n",
       "      <th>0</th>\n",
       "      <td>100763</td>\n",
       "      <td>PARK CREEK</td>\n",
       "      <td>2022</td>\n",
       "      <td>152</td>\n",
       "      <td>258</td>\n",
       "      <td>POLYGON ((-1304470.897 2935597.721, -1304568.9...</td>\n",
       "    </tr>\n",
       "    <tr>\n",
       "      <th>1</th>\n",
       "      <td>1055</td>\n",
       "      <td>RATTLESNAKE</td>\n",
       "      <td>2020</td>\n",
       "      <td>152</td>\n",
       "      <td>258</td>\n",
       "      <td>POLYGON ((-1665727.343 2765372.027, -1665825.3...</td>\n",
       "    </tr>\n",
       "    <tr>\n",
       "      <th>2</th>\n",
       "      <td>1070</td>\n",
       "      <td>GREEN RIDGE</td>\n",
       "      <td>2021</td>\n",
       "      <td>152</td>\n",
       "      <td>258</td>\n",
       "      <td>POLYGON ((-1673173.683 2755617.377, -1673271.7...</td>\n",
       "    </tr>\n",
       "    <tr>\n",
       "      <th>3</th>\n",
       "      <td>12229</td>\n",
       "      <td>SCHAEFFER</td>\n",
       "      <td>2019</td>\n",
       "      <td>152</td>\n",
       "      <td>258</td>\n",
       "      <td>POLYGON ((-1977949.487 1678806.442, -1977925.6...</td>\n",
       "    </tr>\n",
       "    <tr>\n",
       "      <th>4</th>\n",
       "      <td>13137</td>\n",
       "      <td>COUGAR</td>\n",
       "      <td>2020</td>\n",
       "      <td>152</td>\n",
       "      <td>258</td>\n",
       "      <td>POLYGON ((-1590498.604 2645713.160, -1590596.6...</td>\n",
       "    </tr>\n",
       "  </tbody>\n",
       "</table>\n",
       "</div>"
      ],
      "text/plain": [
       "  Fire_ID    Fire_Name Fire_Year Start_Day End_Day  \\\n",
       "0  100763   PARK CREEK      2022       152     258   \n",
       "1    1055  RATTLESNAKE      2020       152     258   \n",
       "2    1070  GREEN RIDGE      2021       152     258   \n",
       "3   12229    SCHAEFFER      2019       152     258   \n",
       "4   13137       COUGAR      2020       152     258   \n",
       "\n",
       "                                            geometry  \n",
       "0  POLYGON ((-1304470.897 2935597.721, -1304568.9...  \n",
       "1  POLYGON ((-1665727.343 2765372.027, -1665825.3...  \n",
       "2  POLYGON ((-1673173.683 2755617.377, -1673271.7...  \n",
       "3  POLYGON ((-1977949.487 1678806.442, -1977925.6...  \n",
       "4  POLYGON ((-1590498.604 2645713.160, -1590596.6...  "
      ]
     },
     "execution_count": 35,
     "metadata": {},
     "output_type": "execute_result"
    }
   ],
   "source": [
    "# Assign the Parks et al. (2019) start and end days\n",
    "special_case = ['Arizona', 'New Mexico']\n",
    "combined_['Start_Day'] = None\n",
    "combined_['End_Day'] = None    \n",
    "\n",
    "combined_.loc[combined_['STUSPS'].isin(special_case), ['Start_Day', 'End_Day']] = (91, 181)\n",
    "combined_.loc[~combined_['STUSPS'].isin(special_case), ['Start_Day', 'End_Day']] = (152, 258)\n",
    "\n",
    "combined_ = combined_[['NIFC_ID','NIFC_NAME','START_YEAR','Start_Day','End_Day','geometry']]\n",
    "combined_ = combined_.rename(columns={\n",
    "    'NIFC_ID': 'Fire_ID', \n",
    "    'NIFC_NAME': 'Fire_Name',\n",
    "    'START_YEAR': 'Fire_Year'\n",
    "})\n",
    "combined_.head()"
   ]
  },
  {
   "cell_type": "code",
   "execution_count": 36,
   "id": "836a2bed-534f-4b19-a6b9-e08be792fbda",
   "metadata": {},
   "outputs": [
    {
     "name": "stdout",
     "output_type": "stream",
     "text": [
      "Saved to /Users/max/Library/CloudStorage/OneDrive-Personal/mcook/aspen-fire/Aim2/data/earth-engine/imports/afd_aspen-fires_2018_to_2023_bounds.shp\n",
      "\n"
     ]
    }
   ],
   "source": [
    "# Save out the bounds to a file for GEE.\n",
    "out_fp = os.path.join(projdir, f'data/earth-engine/imports/afd_aspen-fires_2018_to_2023_bounds.shp')\n",
    "combined_.to_file(out_fp)\n",
    "print(f\"Saved to {out_fp}\\n\")"
   ]
  },
  {
   "cell_type": "code",
   "execution_count": 37,
   "id": "e124db6e-c51a-46c2-8783-879bac319421",
   "metadata": {},
   "outputs": [
    {
     "data": {
      "text/plain": [
       "1056"
      ]
     },
     "execution_count": 37,
     "metadata": {},
     "output_type": "execute_result"
    }
   ],
   "source": [
    "gc.collect()"
   ]
  }
 ],
 "metadata": {
  "kernelspec": {
   "display_name": "aspen-fire",
   "language": "python",
   "name": "aspen-fire"
  },
  "language_info": {
   "codemirror_mode": {
    "name": "ipython",
    "version": 3
   },
   "file_extension": ".py",
   "mimetype": "text/x-python",
   "name": "python",
   "nbconvert_exporter": "python",
   "pygments_lexer": "ipython3",
   "version": "3.10.12"
  }
 },
 "nbformat": 4,
 "nbformat_minor": 5
}
