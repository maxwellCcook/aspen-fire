{
 "cells": [
  {
   "cell_type": "code",
   "execution_count": 1,
   "id": "c681f7fc-3b4e-48fb-a7e3-ea1cb9f91b69",
   "metadata": {},
   "outputs": [
    {
     "name": "stdout",
     "output_type": "stream",
     "text": [
      "Success\n"
     ]
    }
   ],
   "source": [
    "\"\"\"\n",
    "Extract attributes from Google Earth Engine (GEE)\n",
    "\n",
    "maxwell.cook@colorado.edu\n",
    "\"\"\"\n",
    "\n",
    "import ee\n",
    "import geemap\n",
    "\n",
    "ee.Authenticate()\n",
    "\n",
    "ee.Initialize(project='jfsp-aspen')\n",
    "\n",
    "print(\"Success\")"
   ]
  },
  {
   "cell_type": "markdown",
   "id": "ccab0b07-9762-4bd9-a174-819c3c38237e",
   "metadata": {},
   "source": [
    "# Calculate Sentinel-based MNDWI, EVI, and LAI for fire boundaries\n",
    "\n",
    "Bring in the FIRED perimeters with at least 5% aspen cover and sufficient FRP observations. Load the Sentinel-2 MSI collection and calculate prefire LAI and MNDWI."
   ]
  },
  {
   "cell_type": "code",
   "execution_count": 2,
   "id": "ded96248-0865-46d5-a158-81b223a8a694",
   "metadata": {},
   "outputs": [
    {
     "data": {
      "text/html": [
       "\n",
       "            <style>\n",
       "                .geemap-dark {\n",
       "                    --jp-widgets-color: white;\n",
       "                    --jp-widgets-label-color: white;\n",
       "                    --jp-ui-font-color1: white;\n",
       "                    --jp-layout-color2: #454545;\n",
       "                    background-color: #383838;\n",
       "                }\n",
       "\n",
       "                .geemap-dark .jupyter-button {\n",
       "                    --jp-layout-color3: #383838;\n",
       "                }\n",
       "\n",
       "                .geemap-colab {\n",
       "                    background-color: var(--colab-primary-surface-color, white);\n",
       "                }\n",
       "\n",
       "                .geemap-colab .jupyter-button {\n",
       "                    --jp-layout-color3: var(--colab-primary-surface-color, white);\n",
       "                }\n",
       "            </style>\n",
       "            "
      ],
      "text/plain": [
       "<IPython.core.display.HTML object>"
      ]
     },
     "metadata": {},
     "output_type": "display_data"
    },
    {
     "name": "stdout",
     "output_type": "stream",
     "text": [
      "ee.FeatureCollection({\n",
      "  \"functionInvocationValue\": {\n",
      "    \"functionName\": \"Collection.loadTable\",\n",
      "    \"arguments\": {\n",
      "      \"tableId\": {\n",
      "        \"constantValue\": \"projects/jfsp-aspen/assets/viirs_plots_fired_events_west_aspen\"\n",
      "      }\n",
      "    }\n",
      "  }\n",
      "})\n",
      "['189859', '189869', '189371', '42306', '43192', '70094', '42761', '68490', '69873', '42895']\n",
      "9299\n"
     ]
    }
   ],
   "source": [
    "# Load the FRP observations\n",
    "frp = ee.FeatureCollection('projects/jfsp-aspen/assets/viirs_plots_fired_events_west_aspen')\n",
    "print(frp)\n",
    "# Grab a list of fire IDs\n",
    "fire_ids = frp.aggregate_array('fired_id').distinct()\n",
    "print(fire_ids.slice(0,10).getInfo())\n",
    "# Check on the first\n",
    "print(frp.filter(ee.Filter.eq('fired_id','189859')).size().getInfo())"
   ]
  },
  {
   "cell_type": "code",
   "execution_count": 3,
   "id": "979596da-daa3-41f9-b001-61ee855fe439",
   "metadata": {},
   "outputs": [
    {
     "data": {
      "text/html": [
       "\n",
       "            <style>\n",
       "                .geemap-dark {\n",
       "                    --jp-widgets-color: white;\n",
       "                    --jp-widgets-label-color: white;\n",
       "                    --jp-ui-font-color1: white;\n",
       "                    --jp-layout-color2: #454545;\n",
       "                    background-color: #383838;\n",
       "                }\n",
       "\n",
       "                .geemap-dark .jupyter-button {\n",
       "                    --jp-layout-color3: #383838;\n",
       "                }\n",
       "\n",
       "                .geemap-colab {\n",
       "                    background-color: var(--colab-primary-surface-color, white);\n",
       "                }\n",
       "\n",
       "                .geemap-colab .jupyter-button {\n",
       "                    --jp-layout-color3: var(--colab-primary-surface-color, white);\n",
       "                }\n",
       "            </style>\n",
       "            "
      ],
      "text/plain": [
       "<IPython.core.display.HTML object>"
      ]
     },
     "metadata": {},
     "output_type": "display_data"
    },
    {
     "name": "stdout",
     "output_type": "stream",
     "text": [
      "ee.FeatureCollection({\n",
      "  \"functionInvocationValue\": {\n",
      "    \"functionName\": \"Collection.loadTable\",\n",
      "    \"arguments\": {\n",
      "      \"tableId\": {\n",
      "        \"constantValue\": \"projects/jfsp-aspen/assets/fired_events_west_aspen\"\n",
      "      }\n",
      "    }\n",
      "  }\n",
      "})\n",
      "2017\n",
      "2018-01-22 00:00:00\n",
      "Properties: ['fired_id', 'ig_year', 'mx_grw_dte', 'ig_date', 'last_date', 'system:index']\n"
     ]
    }
   ],
   "source": [
    "fires = ee.FeatureCollection('projects/jfsp-aspen/assets/fired_events_west_aspen')\n",
    "print(fires)\n",
    "print(ee.Number(fires.first().get('ig_year').getInfo()).subtract(1).getInfo())\n",
    "print((fires.first().get('ig_date').getInfo()))\n",
    "print(\"Properties:\", fires.first().propertyNames().getInfo())"
   ]
  },
  {
   "cell_type": "code",
   "execution_count": 4,
   "id": "b3be0471-9fac-45b1-850b-25649b82336d",
   "metadata": {},
   "outputs": [
    {
     "data": {
      "text/html": [
       "\n",
       "            <style>\n",
       "                .geemap-dark {\n",
       "                    --jp-widgets-color: white;\n",
       "                    --jp-widgets-label-color: white;\n",
       "                    --jp-ui-font-color1: white;\n",
       "                    --jp-layout-color2: #454545;\n",
       "                    background-color: #383838;\n",
       "                }\n",
       "\n",
       "                .geemap-dark .jupyter-button {\n",
       "                    --jp-layout-color3: #383838;\n",
       "                }\n",
       "\n",
       "                .geemap-colab {\n",
       "                    background-color: var(--colab-primary-surface-color, white);\n",
       "                }\n",
       "\n",
       "                .geemap-colab .jupyter-button {\n",
       "                    --jp-layout-color3: var(--colab-primary-surface-color, white);\n",
       "                }\n",
       "            </style>\n",
       "            "
      ],
      "text/plain": [
       "<IPython.core.display.HTML object>"
      ]
     },
     "metadata": {},
     "output_type": "display_data"
    },
    {
     "name": "stdout",
     "output_type": "stream",
     "text": [
      "Success!\n"
     ]
    }
   ],
   "source": [
    "# Function to calculate the indices\n",
    "def calc_indices(image):\n",
    "\n",
    "    # Modified Normalized Difference Water Index (MNDWI)\n",
    "    # https://www.mdpi.com/2072-4292/8/4/354\n",
    "    mndwi = image.normalizedDifference(['B3', 'B11']).rename('MNDWI')\n",
    "\n",
    "    # Enhanced Vegetation Index (EVI)\n",
    "    evi = image.expression(\n",
    "        \"2.5 * ((NIR - RED) / (NIR + 6 * RED - 7.5 * BLUE + 1))\", {\n",
    "            'NIR': image.select('B8'),\n",
    "            'RED': image.select('B4'),\n",
    "            'BLUE': image.select('B3')\n",
    "        }).rename('EVI')\n",
    "\n",
    "    image = image.addBands([mndwi, evi])\n",
    "\n",
    "    # Leaf Area Index (LAI)\n",
    "    lai = image.expression(\n",
    "        '(3.618 * EVI - 0.118)', {\n",
    "            'EVI': image.select('EVI')\n",
    "        }).rename('LAI')\n",
    "\n",
    "    return image.addBands(lai)\n",
    "\n",
    "# Function to concatenate strings (rename bands)\n",
    "def string_cat(item, y):\n",
    "    return ee.String(item).cat(y)\n",
    "\n",
    "def apply_string_cat(x, y):\n",
    "    return x.map(lambda item: string_cat(item, y))\n",
    "\n",
    "# Function to join collections\n",
    "def join_collections(col1, col2):\n",
    "    joined = ee.ImageCollection(ee.Join.saveFirst('cs').apply(\n",
    "        primary=col1,\n",
    "        secondary=col2,\n",
    "        condition=ee.Filter.equals(\n",
    "            leftField='system:index',\n",
    "            rightField='system:index'\n",
    "        )\n",
    "    ))\n",
    "    return joined.map(lambda image: image.addBands(image.get('cs')))\n",
    "\n",
    "print(\"Success!\")"
   ]
  },
  {
   "cell_type": "code",
   "execution_count": 7,
   "id": "90b60eab-9bf7-442d-9346-99ba6bf25d3d",
   "metadata": {},
   "outputs": [
    {
     "data": {
      "text/html": [
       "\n",
       "            <style>\n",
       "                .geemap-dark {\n",
       "                    --jp-widgets-color: white;\n",
       "                    --jp-widgets-label-color: white;\n",
       "                    --jp-ui-font-color1: white;\n",
       "                    --jp-layout-color2: #454545;\n",
       "                    background-color: #383838;\n",
       "                }\n",
       "\n",
       "                .geemap-dark .jupyter-button {\n",
       "                    --jp-layout-color3: #383838;\n",
       "                }\n",
       "\n",
       "                .geemap-colab {\n",
       "                    background-color: var(--colab-primary-surface-color, white);\n",
       "                }\n",
       "\n",
       "                .geemap-colab .jupyter-button {\n",
       "                    --jp-layout-color3: var(--colab-primary-surface-color, white);\n",
       "                }\n",
       "            </style>\n",
       "            "
      ],
      "text/plain": [
       "<IPython.core.display.HTML object>"
      ]
     },
     "metadata": {},
     "output_type": "display_data"
    },
    {
     "name": "stdout",
     "output_type": "stream",
     "text": [
      "Done!\n"
     ]
    }
   ],
   "source": [
    "# Load the S2-MSI Level 1C\n",
    "s2l1c = ee.ImageCollection(\"COPERNICUS/S2_HARMONIZED\")\n",
    "# Load the Cloud Score Plus\n",
    "csPlus = ee.ImageCollection(\"GOOGLE/CLOUD_SCORE_PLUS/V1/S2_HARMONIZED\")\n",
    "\n",
    "# Sentinel-2 MSI Bands and Vegetation Indices\n",
    "s2_bands = ['B2', 'B3', 'B4', 'B5', 'B6', 'B7', 'B8', 'B8A', 'B11', 'B12']\n",
    "\n",
    "# Define some constants\n",
    "QA_BAND = 'cs'\n",
    "CLEAR_THRESHOLD = 0.60\n",
    "\n",
    "# Function to create an image composite in the fire bounds\n",
    "def generate_composites(fire_id):\n",
    "    \n",
    "    # Get the fire perimeter and bounding geometry\n",
    "    fire = fires.filter(ee.Filter.eq('fired_id', fire_id)).first()\n",
    "    bounds = fire.geometry().buffer(1000).bounds()\n",
    "\n",
    "    # Get the VIIRS FRP observations\n",
    "    frp_fire = frp.filter(ee.Filter.eq('fired_id', fire_id))\n",
    "    \n",
    "    # Grab the ignition date information\n",
    "    ig_year = ee.Number(fire.get('ig_year')).subtract(1)\n",
    "    \n",
    "    # Filter the S2-MSI collection\n",
    "    s2_filter = ee.Filter.And(\n",
    "      ee.Filter.bounds(bounds),\n",
    "      ee.Filter.calendarRange(ig_year, ig_year, 'year'),\n",
    "      ee.Filter.calendarRange(6, 8, 'month'),\n",
    "      ee.Filter.lt('CLOUDY_PIXEL_PERCENTAGE', 80)\n",
    "    )\n",
    "    \n",
    "    # Image Collection\n",
    "    s2 = s2l1c.filter(s2_filter).select(s2_bands)\n",
    "    \n",
    "    # Grab some statistics from the collection\n",
    "    n = s2.size();\n",
    "    start_date = ee.Date(s2.first().get('system:time_start'));\n",
    "    end_date = ee.Date(\n",
    "      s2.limit(1,'system:time_start',False)\n",
    "        .first().get('system:time_start'));\n",
    "    \n",
    "    # Join the Cloud Score Plus\n",
    "    csPlus_s = csPlus.filter(\n",
    "    ee.Filter.And(\n",
    "      ee.Filter.bounds(bounds),\n",
    "      ee.Filter.calendarRange(ig_year, ig_year, 'year'),\n",
    "      ee.Filter.calendarRange(5, 9, 'month'),\n",
    "    )\n",
    "    ).select([QA_BAND])\n",
    "    \n",
    "    # Mask out occluded pixels\n",
    "    s2 = join_collections(s2,csPlus_s)\n",
    "    s2 = s2.map(\n",
    "      lambda img: img.updateMask(img.select(QA_BAND).gte(CLEAR_THRESHOLD))\n",
    "    ).select(s2_bands)\n",
    "    \n",
    "    # Calculate the spectral indices\n",
    "    s2 = s2.map(calc_indices).median().clip(bounds).set('fired_id',fire_id)\n",
    "\n",
    "    # Extract the reduction for spectral indices\n",
    "    s2_reduc = s2.select(['MNDWI','EVI','LAI']).reduceRegions(\n",
    "        collection = frp_fire,\n",
    "        reducer = ee.Reducer.mean(),\n",
    "        scale = 10,\n",
    "        tileScale = 16\n",
    "    )\n",
    "    \n",
    "    return ee.List([s2, s2_reduc])\n",
    "\n",
    "\n",
    "# Apply the function to generate composites\n",
    "\n",
    "# Get the fire IDs\n",
    "fire_ids = frp.aggregate_array('fired_id').distinct()\n",
    "fire_ids = fire_ids.slice(0,10)\n",
    "# print(fire_ids.getInfo())\n",
    "\n",
    "# Run the function\n",
    "results_list = fire_ids.map(lambda x: generate_composites(x))\n",
    "\n",
    "# Extract sample and reference data for training and testing\n",
    "images = results_list.map(lambda result: ee.Image(ee.List(result).get(0)))\n",
    "reductions = results_list.map(lambda result: ee.FeatureCollection(ee.List(result).get(1)))\n",
    "\n",
    "# Create the image collection\n",
    "img_col = ee.ImageCollection.fromImages(images)\n",
    "reduc = ee.FeatureCollection(reductions).flatten()\n",
    "# print(f\"Number of features: {reduc.size().getInfo()}\")\n",
    "# print(f\"Band names: {img_col.first().bandNames().getInfo()}\")\n",
    "\n",
    "# Check that it worked\n",
    "# print(reduc.first().getInfo())\n",
    "\n",
    "print(\"Done!\")"
   ]
  },
  {
   "cell_type": "code",
   "execution_count": 8,
   "id": "d2baf978-a77d-46f7-a059-b146206811f3",
   "metadata": {},
   "outputs": [
    {
     "data": {
      "text/html": [
       "\n",
       "            <style>\n",
       "                .geemap-dark {\n",
       "                    --jp-widgets-color: white;\n",
       "                    --jp-widgets-label-color: white;\n",
       "                    --jp-ui-font-color1: white;\n",
       "                    --jp-layout-color2: #454545;\n",
       "                    background-color: #383838;\n",
       "                }\n",
       "\n",
       "                .geemap-dark .jupyter-button {\n",
       "                    --jp-layout-color3: #383838;\n",
       "                }\n",
       "\n",
       "                .geemap-colab {\n",
       "                    background-color: var(--colab-primary-surface-color, white);\n",
       "                }\n",
       "\n",
       "                .geemap-colab .jupyter-button {\n",
       "                    --jp-layout-color3: var(--colab-primary-surface-color, white);\n",
       "                }\n",
       "            </style>\n",
       "            "
      ],
      "text/plain": [
       "<IPython.core.display.HTML object>"
      ]
     },
     "metadata": {},
     "output_type": "display_data"
    },
    {
     "name": "stdout",
     "output_type": "stream",
     "text": [
      "Fire ID: 189859\n"
     ]
    },
    {
     "data": {
      "application/vnd.jupyter.widget-view+json": {
       "model_id": "b7f4fe9db53e4d1da5a2caf50d255f8f",
       "version_major": 2,
       "version_minor": 0
      },
      "text/plain": [
       "Map(center=[0, 0], controls=(WidgetControl(options=['position', 'transparent_bg'], widget=SearchDataGUI(childr…"
      ]
     },
     "execution_count": 8,
     "metadata": {},
     "output_type": "execute_result"
    }
   ],
   "source": [
    "# Initialize a map\n",
    "Map = geemap.Map()\n",
    "Map.addLayerControl()\n",
    "\n",
    "f = img_col.first()\n",
    "id = f.get('fired_id').getInfo()\n",
    "print(\"Fire ID:\", id)\n",
    "\n",
    "# Grab the fire perimeter\n",
    "fire = ee.FeatureCollection(fires.filter(ee.Filter.eq('fired_id', id)))\n",
    "plots = frp.filter(ee.Filter.eq('fired_id', id))\n",
    "\n",
    "Map.centerObject(plots)\n",
    "\n",
    "# Visualize for one fire\n",
    "vis_params_lai = {\n",
    "    'bands': ['LAI'],\n",
    "    'min': -50,\n",
    "    'max': 100,\n",
    "}\n",
    "vis_params_mndwi = {\n",
    "    'bands': ['MNDWI'],\n",
    "    'min': -1,\n",
    "    'max': 1,\n",
    "}\n",
    "vis_params_rgb = {\n",
    "    'bands': ['B4', 'B3', 'B2'],\n",
    "    'min': 0,\n",
    "    'max': 3000,\n",
    "}\n",
    "\n",
    "# Add the layers to the map\n",
    "Map.addLayer(f, vis_params_lai, \"LAI\")\n",
    "Map.addLayer(f, vis_params_mndwi, \"MNDWI\")\n",
    "Map.addLayer(f, vis_params_rgb, \"RGB\")\n",
    "Map.addLayer(fire.style(**{'color': 'orange', 'fillColor': '00000000'}), {}, 'Fire perimeter')\n",
    "Map.addLayer(plots, {}, 'FRP Obs.')\n",
    "\n",
    "Map"
   ]
  },
  {
   "cell_type": "code",
   "execution_count": 24,
   "id": "889d4584-374c-442f-812e-19637e56fbf2",
   "metadata": {},
   "outputs": [
    {
     "data": {
      "text/html": [
       "\n",
       "            <style>\n",
       "                .geemap-dark {\n",
       "                    --jp-widgets-color: white;\n",
       "                    --jp-widgets-label-color: white;\n",
       "                    --jp-ui-font-color1: white;\n",
       "                    --jp-layout-color2: #454545;\n",
       "                    background-color: #383838;\n",
       "                }\n",
       "\n",
       "                .geemap-dark .jupyter-button {\n",
       "                    --jp-layout-color3: #383838;\n",
       "                }\n",
       "\n",
       "                .geemap-colab {\n",
       "                    background-color: var(--colab-primary-surface-color, white);\n",
       "                }\n",
       "\n",
       "                .geemap-colab .jupyter-button {\n",
       "                    --jp-layout-color3: var(--colab-primary-surface-color, white);\n",
       "                }\n",
       "            </style>\n",
       "            "
      ],
      "text/plain": [
       "<IPython.core.display.HTML object>"
      ]
     },
     "metadata": {},
     "output_type": "display_data"
    },
    {
     "name": "stdout",
     "output_type": "stream",
     "text": [
      "Success\n"
     ]
    }
   ],
   "source": [
    "# Export the reduction\n",
    "task = ee.batch.Export.table.toDrive(\n",
    "    collection=reduc,  # FeatureCollection to be exported\n",
    "    description='frp_reduc_evi_lai_mndwi',  # Description of the task\n",
    "    folder='Aim2',  # Google Drive folder to export to\n",
    "    fileFormat='CSV'  # File format for the export\n",
    ")\n",
    "task.start()\n",
    "print(\"Success\")"
   ]
  },
  {
   "cell_type": "markdown",
   "id": "3515cc35-b930-488c-b8ea-01c7c75cbd8f",
   "metadata": {},
   "source": [
    "## Extract fire-weather variables from gridMET"
   ]
  },
  {
   "cell_type": "code",
   "execution_count": null,
   "id": "f86cfea2-1a9b-4ec5-a684-2e00445ebc90",
   "metadata": {},
   "outputs": [],
   "source": [
    "# Load the gridMET datasets\n",
    "gridmet = ee.ImageCollection('IDAHO_EPSCOR/GRIDMET')\n",
    "\n",
    "# Extract the required attributes\n",
    "attrs = ['vs','erc','vpd','bi','fm1000']\n",
    "\n",
    "# Loop fire events and calculate 90th, 95th, and 99th percentiles for each variable\n",
    "percentiles = [90, 95, 99]\n",
    "\n",
    "def calc_gridmet(fire_id):\n",
    "    # Get the fire perimeter and bounding geometry\n",
    "    fire = fires.filter(ee.Filter.eq('fired_id', fire_id)).first()\n",
    "    bounds = fire.geometry().buffer(1000).bounds()\n",
    "    \n",
    "results = fires.map(\n"
   ]
  }
 ],
 "metadata": {
  "kernelspec": {
   "display_name": "aspen-fire",
   "language": "python",
   "name": "aspen-fire"
  },
  "language_info": {
   "codemirror_mode": {
    "name": "ipython",
    "version": 3
   },
   "file_extension": ".py",
   "mimetype": "text/x-python",
   "name": "python",
   "nbconvert_exporter": "python",
   "pygments_lexer": "ipython3",
   "version": "3.10.12"
  }
 },
 "nbformat": 4,
 "nbformat_minor": 5
}
