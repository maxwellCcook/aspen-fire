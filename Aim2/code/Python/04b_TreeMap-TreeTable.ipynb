{
 "cells": [
  {
   "cell_type": "code",
   "execution_count": null,
   "id": "initial_id",
   "metadata": {
    "collapsed": true
   },
   "outputs": [],
   "source": [
    ""
   ]
  },
  {
   "metadata": {},
   "cell_type": "markdown",
   "source": [
    "# Calculate tree-level summaries from the Tree Table\n",
    "\n",
    "The Tree Table forms the basis for much of the analysis. Here we link the tree table to the summary of TM_IDs (FIA plot identifier) by grid cell in the Southern Rockies. We assess FIA data with species that are likely to occur in the Southern Rockies to remove spurious FIA imputed plots. Then we look at the species co-occurrence, create some species groupings, and subset to the forest species that make up 97% of live basal area on the landscape."
   ],
   "id": "af5dbd7d7e02d538"
  },
  {
   "metadata": {},
   "cell_type": "code",
   "outputs": [],
   "execution_count": null,
   "source": [
    "# load the TreeMap Tree Table\n",
    "fp = os.path.join(maindir, 'data/landcover/USFS/RDS_TreeMap/TreeMap2016/TreeMap2016_tree_table.csv')\n",
    "tree_tbl = pd.read_csv(fp)\n",
    "print(tree_tbl.columns)"
   ],
   "id": "a3f42fec132f6095"
  },
  {
   "metadata": {},
   "cell_type": "code",
   "outputs": [],
   "execution_count": null,
   "source": "",
   "id": "dc99f2e5f0c7c184"
  }
 ],
 "metadata": {
  "kernelspec": {
   "display_name": "Python 3",
   "language": "python",
   "name": "python3"
  },
  "language_info": {
   "codemirror_mode": {
    "name": "ipython",
    "version": 2
   },
   "file_extension": ".py",
   "mimetype": "text/x-python",
   "name": "python",
   "nbconvert_exporter": "python",
   "pygments_lexer": "ipython2",
   "version": "2.7.6"
  }
 },
 "nbformat": 4,
 "nbformat_minor": 5
}
