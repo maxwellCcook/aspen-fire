{
 "cells": [
  {
   "cell_type": "code",
   "execution_count": 2,
   "id": "f84adba8-bf12-4410-a498-86d8df45bb98",
   "metadata": {},
   "outputs": [
    {
     "name": "stdout",
     "output_type": "stream",
     "text": [
      "Ready to go !\n"
     ]
    }
   ],
   "source": [
    "\"\"\"\n",
    "Linking aggregated FRP to climate and topography\n",
    "Author: maxwell.cook@colorado.edu\n",
    "\"\"\"\n",
    "\n",
    "import os, sys, gc, time\n",
    "import geopandas as gpd\n",
    "import rasterio as rio\n",
    "import rioxarray as rxr\n",
    "import seaborn as sns\n",
    "import matplotlib.pyplot as plt\n",
    "import matplotlib.colors as mcolors\n",
    "\n",
    "from scipy.stats import pearsonr\n",
    "\n",
    "# Custom functions\n",
    "sys.path.append(os.path.join(os.getcwd(),'code/'))\n",
    "from __functions import *\n",
    "\n",
    "proj = 'EPSG:5070'\n",
    "\n",
    "maindir = '/Users/max/Library/CloudStorage/OneDrive-Personal/mcook/'\n",
    "projdir = os.path.join(maindir, 'aspen-fire/Aim2/')\n",
    "\n",
    "print(\"Ready to go !\")"
   ]
  },
  {
   "cell_type": "code",
   "execution_count": 3,
   "id": "150fe051-ad3c-4933-a24b-9fb434c23683",
   "metadata": {},
   "outputs": [
    {
     "data": {
      "text/plain": [
       "Index(['grid_index', 'grid_area', 'afd_count', 'unique_days', 'overlap',\n",
       "       'frp_csum', 'frp_max', 'frp_min', 'frp_mean', 'frp_p90', 'frp_first',\n",
       "       'day_max_frp', 'dt_max_frp', 'first_obs_date', 'last_obs_date',\n",
       "       't4_max', 't4_mean', 't5_max', 't5_mean', 'day_count', 'night_count',\n",
       "       'frp_max_day', 'frp_max_night', 'frp_mean_day', 'frp_mean_night',\n",
       "       'frp_p90_day', 'frp_p90_night', 'frp_first_day', 'frp_first_night',\n",
       "       'Fire_ID', 'Fire_Name', 'geometry', 'grid_x', 'grid_y', 'SpeciesName',\n",
       "       'spp_pct', 'forest_pct', 'count', 'total_pixels'],\n",
       "      dtype='object')"
      ]
     },
     "execution_count": 3,
     "metadata": {},
     "output_type": "execute_result"
    }
   ],
   "source": [
    "fp = os.path.join(projdir,'data/tabular/mod/viirs_snpp_jpss1_gridstats_fortypcd.csv')\n",
    "tm = pd.read_csv(fp)\n",
    "tm.drop(columns=['Unnamed: 0'], inplace=True)\n",
    "tm.columns"
   ]
  },
  {
   "cell_type": "code",
   "execution_count": 4,
   "id": "be95c5f5-a7ce-4171-9f30-1c96c070aa0f",
   "metadata": {},
   "outputs": [
    {
     "data": {
      "text/plain": [
       "Index(['system:index', 'chili', 'elev', 'grid_index', 'slope', 'tpi', '.geo'], dtype='object')"
      ]
     },
     "execution_count": 4,
     "metadata": {},
     "output_type": "execute_result"
    }
   ],
   "source": [
    "# Load the topo summary\n",
    "fp = os.path.join(projdir,'data/earth-engine/exports/topo/gridstats_topo.csv')\n",
    "topo = pd.read_csv(fp)\n",
    "topo.columns"
   ]
  },
  {
   "cell_type": "code",
   "execution_count": 18,
   "id": "7c156929-7a5e-4986-a551-463cc3095fbb",
   "metadata": {},
   "outputs": [
    {
     "data": {
      "text/plain": [
       "Index(['system:index', 'Fire_ID', 'erc', 'erc_dv', 'first_obs', 'vpd',\n",
       "       'vpd_dv', '.geo'],\n",
       "      dtype='object')"
      ]
     },
     "execution_count": 18,
     "metadata": {},
     "output_type": "execute_result"
    }
   ],
   "source": [
    "# Load the gridmet summary\n",
    "fp = os.path.join(projdir,'data/earth-engine/exports/gridmet/gridstats_gridmet.csv')\n",
    "climate = pd.read_csv(fp)\n",
    "climate.columns"
   ]
  },
  {
   "cell_type": "code",
   "execution_count": 19,
   "id": "f8fea1f5-7d12-4768-96a7-5a4371c5dd7f",
   "metadata": {},
   "outputs": [
    {
     "name": "stdout",
     "output_type": "stream",
     "text": [
      "153375\n",
      "153375\n"
     ]
    },
    {
     "data": {
      "text/html": [
       "<div>\n",
       "<style scoped>\n",
       "    .dataframe tbody tr th:only-of-type {\n",
       "        vertical-align: middle;\n",
       "    }\n",
       "\n",
       "    .dataframe tbody tr th {\n",
       "        vertical-align: top;\n",
       "    }\n",
       "\n",
       "    .dataframe thead th {\n",
       "        text-align: right;\n",
       "    }\n",
       "</style>\n",
       "<table border=\"1\" class=\"dataframe\">\n",
       "  <thead>\n",
       "    <tr style=\"text-align: right;\">\n",
       "      <th></th>\n",
       "      <th>Fire_ID</th>\n",
       "      <th>grid_index</th>\n",
       "      <th>SpeciesName</th>\n",
       "      <th>first_obs_date</th>\n",
       "      <th>erc</th>\n",
       "      <th>erc_dv</th>\n",
       "      <th>vpd</th>\n",
       "      <th>vpd_dv</th>\n",
       "    </tr>\n",
       "  </thead>\n",
       "  <tbody>\n",
       "    <tr>\n",
       "      <th>0</th>\n",
       "      <td>14</td>\n",
       "      <td>824824</td>\n",
       "      <td>Aspen</td>\n",
       "      <td>2018-07-05</td>\n",
       "      <td>64.997051</td>\n",
       "      <td>3.103695</td>\n",
       "      <td>1.547844</td>\n",
       "      <td>0.34404</td>\n",
       "    </tr>\n",
       "    <tr>\n",
       "      <th>1</th>\n",
       "      <td>14</td>\n",
       "      <td>824824</td>\n",
       "      <td>Douglas-fir</td>\n",
       "      <td>2018-07-05</td>\n",
       "      <td>64.997051</td>\n",
       "      <td>3.103695</td>\n",
       "      <td>1.547844</td>\n",
       "      <td>0.34404</td>\n",
       "    </tr>\n",
       "    <tr>\n",
       "      <th>2</th>\n",
       "      <td>14</td>\n",
       "      <td>824824</td>\n",
       "      <td>Piñon-juniper</td>\n",
       "      <td>2018-07-05</td>\n",
       "      <td>64.997051</td>\n",
       "      <td>3.103695</td>\n",
       "      <td>1.547844</td>\n",
       "      <td>0.34404</td>\n",
       "    </tr>\n",
       "    <tr>\n",
       "      <th>3</th>\n",
       "      <td>14</td>\n",
       "      <td>824824</td>\n",
       "      <td>Ponderosa</td>\n",
       "      <td>2018-07-05</td>\n",
       "      <td>64.997051</td>\n",
       "      <td>3.103695</td>\n",
       "      <td>1.547844</td>\n",
       "      <td>0.34404</td>\n",
       "    </tr>\n",
       "    <tr>\n",
       "      <th>4</th>\n",
       "      <td>14</td>\n",
       "      <td>824824</td>\n",
       "      <td>Spruce-fir</td>\n",
       "      <td>2018-07-05</td>\n",
       "      <td>64.997051</td>\n",
       "      <td>3.103695</td>\n",
       "      <td>1.547844</td>\n",
       "      <td>0.34404</td>\n",
       "    </tr>\n",
       "  </tbody>\n",
       "</table>\n",
       "</div>"
      ],
      "text/plain": [
       "   Fire_ID  grid_index    SpeciesName first_obs_date        erc    erc_dv  \\\n",
       "0       14      824824          Aspen     2018-07-05  64.997051  3.103695   \n",
       "1       14      824824    Douglas-fir     2018-07-05  64.997051  3.103695   \n",
       "2       14      824824  Piñon-juniper     2018-07-05  64.997051  3.103695   \n",
       "3       14      824824      Ponderosa     2018-07-05  64.997051  3.103695   \n",
       "4       14      824824     Spruce-fir     2018-07-05  64.997051  3.103695   \n",
       "\n",
       "        vpd   vpd_dv  \n",
       "0  1.547844  0.34404  \n",
       "1  1.547844  0.34404  \n",
       "2  1.547844  0.34404  \n",
       "3  1.547844  0.34404  \n",
       "4  1.547844  0.34404  "
      ]
     },
     "execution_count": 19,
     "metadata": {},
     "output_type": "execute_result"
    }
   ],
   "source": [
    "# Join to the grid by Fire_ID and first_obs\n",
    "print(len(tm))\n",
    "# tidy the columns\n",
    "climate = climate[['Fire_ID', 'first_obs', 'erc', 'erc_dv', 'vpd', 'vpd_dv']]\n",
    "climate.rename(columns={'first_obs': 'first_obs_date'}, inplace=True)\n",
    "tm['first_obs_date'] = tm['first_obs_date'].astype(str) # to match gee output\n",
    "# do the join\n",
    "grid_clim = tm.merge(climate, on=['Fire_ID', 'first_obs_date'], how='left')\n",
    "print(len(grid_clim))\n",
    "\n",
    "grid_clim[['Fire_ID', 'grid_index', 'SpeciesName', 'first_obs_date', 'erc', 'erc_dv', 'vpd', 'vpd_dv']].head()"
   ]
  },
  {
   "cell_type": "code",
   "execution_count": 22,
   "id": "67e7eaaa-9932-4092-a12c-e7a9bc003f15",
   "metadata": {},
   "outputs": [
    {
     "data": {
      "text/html": [
       "<div>\n",
       "<style scoped>\n",
       "    .dataframe tbody tr th:only-of-type {\n",
       "        vertical-align: middle;\n",
       "    }\n",
       "\n",
       "    .dataframe tbody tr th {\n",
       "        vertical-align: top;\n",
       "    }\n",
       "\n",
       "    .dataframe thead th {\n",
       "        text-align: right;\n",
       "    }\n",
       "</style>\n",
       "<table border=\"1\" class=\"dataframe\">\n",
       "  <thead>\n",
       "    <tr style=\"text-align: right;\">\n",
       "      <th></th>\n",
       "      <th>grid_index</th>\n",
       "      <th>SpeciesName</th>\n",
       "      <th>elev</th>\n",
       "      <th>slope</th>\n",
       "      <th>chili</th>\n",
       "      <th>tpi</th>\n",
       "      <th>erc</th>\n",
       "    </tr>\n",
       "  </thead>\n",
       "  <tbody>\n",
       "    <tr>\n",
       "      <th>0</th>\n",
       "      <td>824824</td>\n",
       "      <td>Aspen</td>\n",
       "      <td>2862.870738</td>\n",
       "      <td>26.369393</td>\n",
       "      <td>217.572440</td>\n",
       "      <td>-56.769463</td>\n",
       "      <td>64.997051</td>\n",
       "    </tr>\n",
       "    <tr>\n",
       "      <th>1</th>\n",
       "      <td>824824</td>\n",
       "      <td>Douglas-fir</td>\n",
       "      <td>2862.870738</td>\n",
       "      <td>26.369393</td>\n",
       "      <td>217.572440</td>\n",
       "      <td>-56.769463</td>\n",
       "      <td>64.997051</td>\n",
       "    </tr>\n",
       "    <tr>\n",
       "      <th>2</th>\n",
       "      <td>824824</td>\n",
       "      <td>Piñon-juniper</td>\n",
       "      <td>2862.870738</td>\n",
       "      <td>26.369393</td>\n",
       "      <td>217.572440</td>\n",
       "      <td>-56.769463</td>\n",
       "      <td>64.997051</td>\n",
       "    </tr>\n",
       "    <tr>\n",
       "      <th>3</th>\n",
       "      <td>824824</td>\n",
       "      <td>Ponderosa</td>\n",
       "      <td>2862.870738</td>\n",
       "      <td>26.369393</td>\n",
       "      <td>217.572440</td>\n",
       "      <td>-56.769463</td>\n",
       "      <td>64.997051</td>\n",
       "    </tr>\n",
       "    <tr>\n",
       "      <th>4</th>\n",
       "      <td>824824</td>\n",
       "      <td>Spruce-fir</td>\n",
       "      <td>2862.870738</td>\n",
       "      <td>26.369393</td>\n",
       "      <td>217.572440</td>\n",
       "      <td>-56.769463</td>\n",
       "      <td>64.997051</td>\n",
       "    </tr>\n",
       "    <tr>\n",
       "      <th>5</th>\n",
       "      <td>824825</td>\n",
       "      <td>Aspen</td>\n",
       "      <td>2963.771770</td>\n",
       "      <td>18.614423</td>\n",
       "      <td>211.276919</td>\n",
       "      <td>22.066350</td>\n",
       "      <td>64.997051</td>\n",
       "    </tr>\n",
       "    <tr>\n",
       "      <th>6</th>\n",
       "      <td>824825</td>\n",
       "      <td>Lodgepole</td>\n",
       "      <td>2963.771770</td>\n",
       "      <td>18.614423</td>\n",
       "      <td>211.276919</td>\n",
       "      <td>22.066350</td>\n",
       "      <td>64.997051</td>\n",
       "    </tr>\n",
       "    <tr>\n",
       "      <th>7</th>\n",
       "      <td>824825</td>\n",
       "      <td>Spruce-fir</td>\n",
       "      <td>2963.771770</td>\n",
       "      <td>18.614423</td>\n",
       "      <td>211.276919</td>\n",
       "      <td>22.066350</td>\n",
       "      <td>64.997051</td>\n",
       "    </tr>\n",
       "    <tr>\n",
       "      <th>8</th>\n",
       "      <td>824826</td>\n",
       "      <td>Aspen</td>\n",
       "      <td>3020.403483</td>\n",
       "      <td>24.212345</td>\n",
       "      <td>177.530698</td>\n",
       "      <td>59.080197</td>\n",
       "      <td>64.997051</td>\n",
       "    </tr>\n",
       "    <tr>\n",
       "      <th>9</th>\n",
       "      <td>824826</td>\n",
       "      <td>Douglas-fir</td>\n",
       "      <td>3020.403483</td>\n",
       "      <td>24.212345</td>\n",
       "      <td>177.530698</td>\n",
       "      <td>59.080197</td>\n",
       "      <td>64.997051</td>\n",
       "    </tr>\n",
       "  </tbody>\n",
       "</table>\n",
       "</div>"
      ],
      "text/plain": [
       "   grid_index    SpeciesName         elev      slope       chili        tpi  \\\n",
       "0      824824          Aspen  2862.870738  26.369393  217.572440 -56.769463   \n",
       "1      824824    Douglas-fir  2862.870738  26.369393  217.572440 -56.769463   \n",
       "2      824824  Piñon-juniper  2862.870738  26.369393  217.572440 -56.769463   \n",
       "3      824824      Ponderosa  2862.870738  26.369393  217.572440 -56.769463   \n",
       "4      824824     Spruce-fir  2862.870738  26.369393  217.572440 -56.769463   \n",
       "5      824825          Aspen  2963.771770  18.614423  211.276919  22.066350   \n",
       "6      824825      Lodgepole  2963.771770  18.614423  211.276919  22.066350   \n",
       "7      824825     Spruce-fir  2963.771770  18.614423  211.276919  22.066350   \n",
       "8      824826          Aspen  3020.403483  24.212345  177.530698  59.080197   \n",
       "9      824826    Douglas-fir  3020.403483  24.212345  177.530698  59.080197   \n",
       "\n",
       "         erc  \n",
       "0  64.997051  \n",
       "1  64.997051  \n",
       "2  64.997051  \n",
       "3  64.997051  \n",
       "4  64.997051  \n",
       "5  64.997051  \n",
       "6  64.997051  \n",
       "7  64.997051  \n",
       "8  64.997051  \n",
       "9  64.997051  "
      ]
     },
     "execution_count": 22,
     "metadata": {},
     "output_type": "execute_result"
    }
   ],
   "source": [
    "# Merge the topo and climate with the frp/forest grid\n",
    "topo = topo[['grid_index', 'elev', 'slope', 'chili', 'tpi']]\n",
    "grid_clim_topo = grid_clim.merge(topo, on='grid_index', how='left')\n",
    "grid_clim_topo[['grid_index', 'SpeciesName', 'elev', 'slope', 'chili', 'tpi', 'erc']].head(10)"
   ]
  },
  {
   "cell_type": "code",
   "execution_count": 23,
   "id": "1d9d7fe0-373b-483f-8630-4cfb85bc181f",
   "metadata": {},
   "outputs": [
    {
     "name": "stdout",
     "output_type": "stream",
     "text": [
      "Saved file to: /Users/max/Library/CloudStorage/OneDrive-Personal/mcook/aspen-fire/Aim2/data/tabular/mod/viirs_snpp_jpss1_gridstats_fortypcd_climtopo.csv\n"
     ]
    }
   ],
   "source": [
    "# save this file out.\n",
    "out_fp = os.path.join(projdir,'data/tabular/mod/viirs_snpp_jpss1_gridstats_fortypcd_climtopo.csv')\n",
    "grid_clim_topo.to_csv(out_fp)\n",
    "print(f\"Saved file to: {out_fp}\")"
   ]
  },
  {
   "cell_type": "code",
   "execution_count": null,
   "id": "50dd4a98-a954-4454-b41b-1025057c6afe",
   "metadata": {},
   "outputs": [],
   "source": []
  },
  {
   "cell_type": "code",
   "execution_count": null,
   "id": "d2542da4-ca7a-4db8-8c6d-1a6029da7745",
   "metadata": {},
   "outputs": [],
   "source": []
  },
  {
   "cell_type": "code",
   "execution_count": null,
   "id": "fe94e057-6b90-48e5-aeaa-a3183eec9b4d",
   "metadata": {},
   "outputs": [],
   "source": [
    "# plot relationships to FRP"
   ]
  },
  {
   "cell_type": "code",
   "execution_count": null,
   "id": "232855a9-55a5-446d-90a4-9cc5dd9159c3",
   "metadata": {},
   "outputs": [],
   "source": [
    "# topography\n",
    "\n",
    "cols = ['elev', 'slope', 'chili', 'tpi']\n",
    "\n",
    "# melt the df to facet plot variables\n"
   ]
  },
  {
   "cell_type": "code",
   "execution_count": null,
   "id": "3be85563-d43d-4719-9617-853e82cb55b7",
   "metadata": {},
   "outputs": [],
   "source": [
    "# climate / fuel moisture\n",
    "\n",
    "cols = ['erc', 'erc_dv', 'vpd', 'vpd_dv']\n",
    "\n",
    "# melt the df to facet plot variables"
   ]
  }
 ],
 "metadata": {
  "kernelspec": {
   "display_name": "aspen-fire",
   "language": "python",
   "name": "aspen-fire"
  },
  "language_info": {
   "codemirror_mode": {
    "name": "ipython",
    "version": 3
   },
   "file_extension": ".py",
   "mimetype": "text/x-python",
   "name": "python",
   "nbconvert_exporter": "python",
   "pygments_lexer": "ipython3",
   "version": "3.10.12"
  }
 },
 "nbformat": 4,
 "nbformat_minor": 5
}
