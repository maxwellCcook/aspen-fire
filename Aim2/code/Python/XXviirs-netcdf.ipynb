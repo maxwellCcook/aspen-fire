{
 "cells": [
  {
   "cell_type": "code",
   "execution_count": 1,
   "id": "5ecd0bef-fee5-428a-a587-cacab707d965",
   "metadata": {},
   "outputs": [
    {
     "name": "stdout",
     "output_type": "stream",
     "text": [
      "Ready !\n"
     ]
    }
   ],
   "source": [
    "\"\"\"\n",
    "Read VIIRS active fire geolocation data (VNP03IMG)\n",
    "Author: maxwell.cook@colorado.edu\n",
    "\"\"\"\n",
    "\n",
    "# Import packages\n",
    "import sys, os\n",
    "import xarray as xr\n",
    "import pyproj\n",
    "import geopandas as gpd\n",
    "import datetime as dt\n",
    "import matplotlib.pyplot as plt\n",
    "import seaborn as sns\n",
    "\n",
    "from netCDF4 import Dataset # to open NetCDF\n",
    "from datetime import datetime\n",
    "from datetime import timedelta\n",
    "from matplotlib import pyplot as plt\n",
    "from affine import Affine\n",
    "from osgeo import gdal, gdal_array, gdalconst, osr\n",
    "from rasterio.transform import from_bounds\n",
    "from scipy.spatial import cKDTree\n",
    "\n",
    "# Custom functions\n",
    "sys.path.append(os.path.join(os.getcwd(),'code/'))\n",
    "from __functions import *\n",
    "\n",
    "# Projection information\n",
    "geog = 'EPSG:4326'  # Geographic projection\n",
    "prj = 'EPSG:5070'  # Projected coordinate system- WGS 84 NAD83 UTM Zone 13N\n",
    "\n",
    "# File path information\n",
    "maindir = '/Users/max/Library/CloudStorage/OneDrive-Personal/mcook/'\n",
    "projdir = os.path.join(maindir, 'aspen-fire/Aim2/')\n",
    "# Output directories\n",
    "dataraw = os.path.join(projdir,'data/spatial/raw/VIIRS/')\n",
    "datamod = os.path.join(projdir,'data/spatial/mod/VIIRS/')\n",
    "\n",
    "# File path information\n",
    "print(\"Ready !\")"
   ]
  },
  {
   "cell_type": "code",
   "execution_count": 2,
   "id": "f10083b8-374e-4de9-99ec-0acda1babc9e",
   "metadata": {},
   "outputs": [
    {
     "name": "stdout",
     "output_type": "stream",
     "text": [
      "Index(['Fire_ID', 'NIFC_NAME', 'NIFC_ACRES', 'FINAL_ACRES', 'pct_aspen',\n",
      "       'INCIDENT_ID', 'INCIDENT_NAME', 'START_YEAR', 'CAUSE', 'DISCOVERY_DATE',\n",
      "       'DISCOVERY_DOY', 'WF_CESSATION_DATE', 'WF_CESSATION_DOY',\n",
      "       'STR_DESTROYED_TOTAL', 'STR_DAMAGED_TOTAL', 'STR_THREATENED_MAX',\n",
      "       'EVACUATION_REPORTED', 'PEAK_EVACUATIONS', 'WF_PEAK_AERIAL',\n",
      "       'WF_PEAK_PERSONNEL', 'na_l3name', 'geometry'],\n",
      "      dtype='object')\n",
      "  Fire_ID NIFC_NAME NIFC_ACRES FINAL_ACRES  pct_aspen       INCIDENT_ID  \\\n",
      "0      14       416   54130.98       54129  38.614463  2018_9091030_416   \n",
      "\n",
      "  INCIDENT_NAME START_YEAR CAUSE      DISCOVERY_DATE  ... WF_CESSATION_DOY  \\\n",
      "0           416       2018     U 2018-06-01 11:02:00  ...              184   \n",
      "\n",
      "  STR_DESTROYED_TOTAL STR_DAMAGED_TOTAL STR_THREATENED_MAX  \\\n",
      "0                   0                 0               3386   \n",
      "\n",
      "  EVACUATION_REPORTED PEAK_EVACUATIONS WF_PEAK_AERIAL WF_PEAK_PERSONNEL  \\\n",
      "0                   1             2182             15           429.125   \n",
      "\n",
      "          na_l3name                                           geometry  \n",
      "0  Southern Rockies  MULTIPOLYGON (((-1047907.942 1672642.863, -104...  \n",
      "\n",
      "[1 rows x 22 columns]\n"
     ]
    }
   ],
   "source": [
    "# Load fire data, extract the example fire (416)\n",
    "fp = os.path.join(projdir,'data/spatial/mod/NIFC/nifc-ics_2018_to_2023-aspen_SRM.gpkg')\n",
    "fires = gpd.read_file(fp)\n",
    "fires.rename(columns={'NIFC_ID': 'Fire_ID'}, inplace=True)\n",
    "perim = fires[fires['Fire_ID'] == '14'] # corresponds to the 416 fire\n",
    "print(perim.columns)\n",
    "print(perim.head())"
   ]
  },
  {
   "cell_type": "code",
   "execution_count": 3,
   "id": "b431f89d-0fdd-40d7-978c-04ad5cbfbed2",
   "metadata": {},
   "outputs": [
    {
     "name": "stdout",
     "output_type": "stream",
     "text": [
      "Bounding Coordinates: \n",
      "[(-108.0104287321153, 37.37737010107216), (-107.79428582032635, 37.37737010107216), (-107.79428582032635, 37.60899484292132), (-108.0104287321153, 37.60899484292132), (-108.0104287321153, 37.37737010107216)]\n",
      "Bounding Extent: \n",
      "[-108.0104287321153, -107.79428582032635, 37.37737010107216, 37.60899484292132]\n"
     ]
    }
   ],
   "source": [
    "# Grab an extent for cropping netcdf files\n",
    "buffer = 1000 \n",
    "coords, extent = get_coords(perim, buffer)\n",
    "# Print the coordinates to verify\n",
    "print(f\"Bounding Coordinates: \\n{coords}\")\n",
    "print(f\"Bounding Extent: \\n{extent}\")"
   ]
  },
  {
   "cell_type": "code",
   "execution_count": null,
   "id": "9f211c1e-48e9-4ebe-bf85-c92237fc5e90",
   "metadata": {},
   "outputs": [],
   "source": []
  },
  {
   "cell_type": "code",
   "execution_count": null,
   "id": "5ef66fdf-c678-472c-82e4-86bdb91ef0fe",
   "metadata": {},
   "outputs": [],
   "source": [
    "# Load the NetCDF files ..."
   ]
  },
  {
   "cell_type": "code",
   "execution_count": null,
   "id": "076e1946-c1a7-4ed2-8f8a-bea67c8aad0c",
   "metadata": {},
   "outputs": [],
   "source": []
  },
  {
   "cell_type": "code",
   "execution_count": 4,
   "id": "768e33a8-7c3d-436d-be3d-446eca0d93cc",
   "metadata": {},
   "outputs": [
    {
     "name": "stdout",
     "output_type": "stream",
     "text": [
      "VNP14IMG: 94 granules\n",
      "VNP03IMG: 94 granules\n"
     ]
    }
   ],
   "source": [
    "# Get a list of .nc files\n",
    "nc_files = list_files(os.path.join(projdir, f'data/spatial/raw/VIIRS/'), \"*.nc\", recursive=True)\n",
    "# Seperate into VNP14 & VNP03\n",
    "vnp = [f for f in nc_files if 'VNP14' in os.path.basename(f)] # VNP14IMG (active fire)\n",
    "vnp03 = [f for f in nc_files if 'VNP03' in os.path.basename(f)] # VNP03IMG (geolocation)\n",
    "\n",
    "print(f'VNP14IMG: {len(vnp)} granules')\n",
    "print(f'VNP03IMG: {len(vnp03)} granules')"
   ]
  },
  {
   "cell_type": "code",
   "execution_count": null,
   "id": "2f26d882-4947-42c0-819d-879723b0a5f4",
   "metadata": {},
   "outputs": [],
   "source": []
  },
  {
   "cell_type": "code",
   "execution_count": null,
   "id": "2b29d4a7-c5df-4f57-9245-1caa7c2043a1",
   "metadata": {},
   "outputs": [],
   "source": [
    "# Now operate on the entire fire ..."
   ]
  },
  {
   "cell_type": "code",
   "execution_count": 5,
   "id": "629faf07-d3bb-4a25-818b-0af3b21928f2",
   "metadata": {},
   "outputs": [
    {
     "name": "stdout",
     "output_type": "stream",
     "text": [
      "   sample  along_scan  along_track  scan_angle  pix_area\n",
      "0       0    0.795616     0.783234     56.0600  0.623154\n",
      "1       1    0.794690     0.782908     56.0511  0.622169\n",
      "2       2    0.793765     0.782583     56.0422  0.621187\n",
      "3       3    0.792842     0.782258     56.0333  0.620207\n",
      "4       4    0.791921     0.781933     56.0244  0.619229\n"
     ]
    }
   ],
   "source": [
    "# Load the lookup table for pixel sizes\n",
    "fp = os.path.join(projdir,'data/tabular/raw/pix_size_lut.csv')\n",
    "lookup = pd.read_csv(fp)\n",
    "print(lookup.head())"
   ]
  },
  {
   "cell_type": "code",
   "execution_count": 7,
   "id": "6f9da5e5-e0a0-4570-af0e-874fa1d1039c",
   "metadata": {},
   "outputs": [
    {
     "name": "stdout",
     "output_type": "stream",
     "text": [
      "Processed 1 observations out of 94\n",
      "Processed 48 observations out of 94\n"
     ]
    }
   ],
   "source": [
    "t0 = time.time()\n",
    "\n",
    "N = round(len(vnp) / 5)\n",
    "\n",
    "out_dfs = [] \n",
    "for idx, fp in enumerate(sorted(vnp)):\n",
    "    \n",
    "    # Gather some metadata information from the file name\n",
    "    timestamp = fp.split('.')[1:3]\n",
    "    year = timestamp[0][1:5]\n",
    "    day = timestamp[0][5:8]\n",
    "    time = timestamp[1]\n",
    "    date = dt.datetime.strptime(year+day, '%Y%j').strftime('%b %d') \n",
    "    acq_date = dt.datetime.strptime(year+day, '%Y%j').strftime('%-m/%-d/%y') #match FIRMS\n",
    "    daytime = int(time) > 1500 #timestamps in the 1900h-2200h UTC range are afternoon for Western US\n",
    "    \n",
    "    # print(f\"Acquisition date: {acq_date}\")\n",
    "    # print(f\"Acquisition datetime afternoon?: {daytime}\")\n",
    "\n",
    "    # Find matching geolocation data file for one record\n",
    "    identifier = os.path.basename(fp)[:-3]\n",
    "    parts = identifier.split('.') # split by '.'\n",
    "    date_time_part = '.'.join(parts[1:4])  # Extract date-time parts for the VNP Version 002    \n",
    "    geo_id = 'VNP03IMG' + '.' + date_time_part\n",
    "    geo_da_fp = [geo_link for geo_link in vnp03 if geo_id in os.path.basename(geo_link)][0] \n",
    "\n",
    "    if geo_da_fp is None:\n",
    "        print(f\"!!! No geolocation file found for: {identifier}\")\n",
    "        continue\n",
    "    \n",
    "    # Read the geolocation data\n",
    "    geo = xr.open_dataset(geo_da_fp, engine='netcdf4', group='geolocation_data')\n",
    "    i, j = np.indices(geo.longitude.shape) #line and sample\n",
    "    # Crop to fire bounding extent\n",
    "    scene = ((geo.longitude > extent[0]) & (geo.longitude < extent[1]) & (geo.latitude > extent[2]) & (geo.latitude < extent[3])).values\n",
    "    \n",
    "    # Get the VNP14IMG fire mask, etc\n",
    "    vnp14 = xr.open_dataset(fp, engine='netcdf4')\n",
    "\n",
    "    qa = vnp14['algorithm QA']\n",
    "    fire = vnp14['fire mask']\n",
    "    daynight = vnp14.DayNightFlag #string Day or Night\n",
    "    \n",
    "    lonfp = vnp14.variables['FP_longitude'][:] # fire pixel longitude\n",
    "    latfp = vnp14.variables['FP_latitude'][:]\n",
    "    frp = vnp14.variables['FP_power'][:] # fire radiative power\n",
    "\n",
    "    tree = cKDTree(np.array([lonfp, latfp]).T) #search tree for finding nearest FRP\n",
    "\n",
    "    # Set up a pandas dataframe for the swath\n",
    "    df = pd.DataFrame()\n",
    "    df['longitude'] = list(geo.longitude.values[scene])\n",
    "    df['latitude'] = list(geo.latitude.values[scene])\n",
    "    df['fire_mask'] = list(fire.values[scene])\n",
    "    df['daynight'] = daynight[0]\n",
    "    df['confidence'] = df.fire_mask\n",
    "    df.confidence = df.confidence.replace({0:'x', 1:'x', 2:'x', 3:'x', 4:'x', 5:'x', 6:'x', 7:'l', 8:'n', 9:'h'})\n",
    "    df['acq_date'] = acq_date\n",
    "    df['acq_time'] = time\n",
    "    df['j'] = list(j[scene]) #sample number for pixel size lookup\n",
    "    # df['height'] = list(geo.height.values[scene])\n",
    "    # df['range'] = list(geo.range.values[scene])\n",
    "    # df['sensor_azimuth'] = list(geo.sensor_azimuth.values[scene])\n",
    "    # df['sensor_zenith'] = list(geo.sensor_zenith.values[scene])\n",
    "    # df['solar_azimuth'] = list(geo.solar_azimuth.values[scene])\n",
    "    # df['solar_zenith'] = list(geo.solar_zenith.values[scene])\n",
    "    \n",
    "    # Retain only low-high confidence fire points\n",
    "    df = df[df['fire_mask'] > 6]\n",
    "    df['fire_mask'] = pd.Categorical(df['fire_mask'])\n",
    "    known = df[df.confidence!='x'] # keep only low-high confidence fire pixels\n",
    "\n",
    "    #gather frp\n",
    "    for k in known.index:\n",
    "        dist, nearest = tree.query([ known.loc[k, 'longitude'], known.loc[k, 'latitude'] ])\n",
    "        df.loc[k, 'frp'] = frp[nearest].item()\n",
    "\n",
    "    # Join to pixel size info\n",
    "    df = pd.merge(df, lookup, left_on='j', right_on='sample', how='left')\n",
    "    df.drop(columns=['j'], inplace=True)\n",
    "    out_dfs.append(df)\n",
    "\n",
    "    if idx % N == 0:\n",
    "        print(f\"Processed {idx+1} observations out of {len(vnp)}\")\n",
    "    \n",
    "# Concat the output dfs\n",
    "afds = pd.concat(out_dfs)\n",
    "\n",
    "t1 = (time.time() - t0) / 60\n",
    "print(f\"Total elapsed time: {t1:.2f} minutes.\")\n",
    "print(\"\\n~~~~~~~~~~\\n\")"
   ]
  },
  {
   "cell_type": "code",
   "execution_count": 9,
   "id": "74389740-606f-4fdd-8562-ec77f95f939c",
   "metadata": {},
   "outputs": [
    {
     "name": "stdout",
     "output_type": "stream",
     "text": [
      "3054\n"
     ]
    },
    {
     "data": {
      "text/html": [
       "<div>\n",
       "<style scoped>\n",
       "    .dataframe tbody tr th:only-of-type {\n",
       "        vertical-align: middle;\n",
       "    }\n",
       "\n",
       "    .dataframe tbody tr th {\n",
       "        vertical-align: top;\n",
       "    }\n",
       "\n",
       "    .dataframe thead th {\n",
       "        text-align: right;\n",
       "    }\n",
       "</style>\n",
       "<table border=\"1\" class=\"dataframe\">\n",
       "  <thead>\n",
       "    <tr style=\"text-align: right;\">\n",
       "      <th></th>\n",
       "      <th>longitude</th>\n",
       "      <th>latitude</th>\n",
       "      <th>fire_mask</th>\n",
       "      <th>daynight</th>\n",
       "      <th>confidence</th>\n",
       "      <th>acq_date</th>\n",
       "      <th>acq_time</th>\n",
       "      <th>frp</th>\n",
       "      <th>sample</th>\n",
       "      <th>along_scan</th>\n",
       "      <th>along_track</th>\n",
       "      <th>scan_angle</th>\n",
       "      <th>pix_area</th>\n",
       "    </tr>\n",
       "  </thead>\n",
       "  <tbody>\n",
       "    <tr>\n",
       "      <th>0</th>\n",
       "      <td>-107.809898</td>\n",
       "      <td>37.458965</td>\n",
       "      <td>8</td>\n",
       "      <td>D</td>\n",
       "      <td>n</td>\n",
       "      <td>6/1/18</td>\n",
       "      <td>1948</td>\n",
       "      <td>7.603679</td>\n",
       "      <td>4244</td>\n",
       "      <td>0.521187</td>\n",
       "      <td>0.415504</td>\n",
       "      <td>27.8788</td>\n",
       "      <td>0.216555</td>\n",
       "    </tr>\n",
       "    <tr>\n",
       "      <th>1</th>\n",
       "      <td>-107.810944</td>\n",
       "      <td>37.462734</td>\n",
       "      <td>9</td>\n",
       "      <td>D</td>\n",
       "      <td>h</td>\n",
       "      <td>6/1/18</td>\n",
       "      <td>1948</td>\n",
       "      <td>48.685238</td>\n",
       "      <td>4244</td>\n",
       "      <td>0.521187</td>\n",
       "      <td>0.415504</td>\n",
       "      <td>27.8788</td>\n",
       "      <td>0.216555</td>\n",
       "    </tr>\n",
       "    <tr>\n",
       "      <th>2</th>\n",
       "      <td>-107.815796</td>\n",
       "      <td>37.461769</td>\n",
       "      <td>7</td>\n",
       "      <td>D</td>\n",
       "      <td>l</td>\n",
       "      <td>6/1/18</td>\n",
       "      <td>1948</td>\n",
       "      <td>48.685238</td>\n",
       "      <td>4245</td>\n",
       "      <td>0.521516</td>\n",
       "      <td>0.415624</td>\n",
       "      <td>27.9055</td>\n",
       "      <td>0.216755</td>\n",
       "    </tr>\n",
       "    <tr>\n",
       "      <th>3</th>\n",
       "      <td>-107.820671</td>\n",
       "      <td>37.460793</td>\n",
       "      <td>8</td>\n",
       "      <td>D</td>\n",
       "      <td>n</td>\n",
       "      <td>6/1/18</td>\n",
       "      <td>1948</td>\n",
       "      <td>25.084015</td>\n",
       "      <td>4246</td>\n",
       "      <td>0.521845</td>\n",
       "      <td>0.415745</td>\n",
       "      <td>27.9322</td>\n",
       "      <td>0.216954</td>\n",
       "    </tr>\n",
       "    <tr>\n",
       "      <th>4</th>\n",
       "      <td>-107.816841</td>\n",
       "      <td>37.465534</td>\n",
       "      <td>9</td>\n",
       "      <td>D</td>\n",
       "      <td>h</td>\n",
       "      <td>6/1/18</td>\n",
       "      <td>1948</td>\n",
       "      <td>48.685238</td>\n",
       "      <td>4245</td>\n",
       "      <td>0.521516</td>\n",
       "      <td>0.415624</td>\n",
       "      <td>27.9055</td>\n",
       "      <td>0.216755</td>\n",
       "    </tr>\n",
       "  </tbody>\n",
       "</table>\n",
       "</div>"
      ],
      "text/plain": [
       "    longitude   latitude  fire_mask daynight confidence acq_date acq_time  \\\n",
       "0 -107.809898  37.458965          8        D          n   6/1/18     1948   \n",
       "1 -107.810944  37.462734          9        D          h   6/1/18     1948   \n",
       "2 -107.815796  37.461769          7        D          l   6/1/18     1948   \n",
       "3 -107.820671  37.460793          8        D          n   6/1/18     1948   \n",
       "4 -107.816841  37.465534          9        D          h   6/1/18     1948   \n",
       "\n",
       "         frp  sample  along_scan  along_track  scan_angle  pix_area  \n",
       "0   7.603679    4244    0.521187     0.415504     27.8788  0.216555  \n",
       "1  48.685238    4244    0.521187     0.415504     27.8788  0.216555  \n",
       "2  48.685238    4245    0.521516     0.415624     27.9055  0.216755  \n",
       "3  25.084015    4246    0.521845     0.415745     27.9322  0.216954  \n",
       "4  48.685238    4245    0.521516     0.415624     27.9055  0.216755  "
      ]
     },
     "execution_count": 9,
     "metadata": {},
     "output_type": "execute_result"
    }
   ],
   "source": [
    "print(len(afds))\n",
    "afds.head()"
   ]
  },
  {
   "cell_type": "code",
   "execution_count": 10,
   "id": "ac9c20dc-f7e9-421b-bcdd-d374c96d61a4",
   "metadata": {},
   "outputs": [
    {
     "data": {
      "text/html": [
       "<div>\n",
       "<style scoped>\n",
       "    .dataframe tbody tr th:only-of-type {\n",
       "        vertical-align: middle;\n",
       "    }\n",
       "\n",
       "    .dataframe tbody tr th {\n",
       "        vertical-align: top;\n",
       "    }\n",
       "\n",
       "    .dataframe thead th {\n",
       "        text-align: right;\n",
       "    }\n",
       "</style>\n",
       "<table border=\"1\" class=\"dataframe\">\n",
       "  <thead>\n",
       "    <tr style=\"text-align: right;\">\n",
       "      <th></th>\n",
       "      <th>longitude</th>\n",
       "      <th>latitude</th>\n",
       "      <th>fire_mask</th>\n",
       "      <th>daynight</th>\n",
       "      <th>confidence</th>\n",
       "      <th>acq_date</th>\n",
       "      <th>acq_time</th>\n",
       "      <th>frp</th>\n",
       "      <th>sample</th>\n",
       "      <th>along_scan</th>\n",
       "      <th>along_track</th>\n",
       "      <th>scan_angle</th>\n",
       "      <th>pix_area</th>\n",
       "      <th>geometry</th>\n",
       "      <th>obs_id</th>\n",
       "      <th>acq_datetime</th>\n",
       "    </tr>\n",
       "  </thead>\n",
       "  <tbody>\n",
       "    <tr>\n",
       "      <th>0</th>\n",
       "      <td>-107.809898</td>\n",
       "      <td>37.458965</td>\n",
       "      <td>8</td>\n",
       "      <td>D</td>\n",
       "      <td>n</td>\n",
       "      <td>6/1/18</td>\n",
       "      <td>1948</td>\n",
       "      <td>7.603679</td>\n",
       "      <td>4244</td>\n",
       "      <td>0.521187</td>\n",
       "      <td>0.415504</td>\n",
       "      <td>27.8788</td>\n",
       "      <td>0.216555</td>\n",
       "      <td>POLYGON ((-1031854.110 1666193.640, -1031854.1...</td>\n",
       "      <td>0</td>\n",
       "      <td>2018-06-01 19:48:00+00:00</td>\n",
       "    </tr>\n",
       "    <tr>\n",
       "      <th>1</th>\n",
       "      <td>-107.810944</td>\n",
       "      <td>37.462734</td>\n",
       "      <td>9</td>\n",
       "      <td>D</td>\n",
       "      <td>h</td>\n",
       "      <td>6/1/18</td>\n",
       "      <td>1948</td>\n",
       "      <td>48.685238</td>\n",
       "      <td>4244</td>\n",
       "      <td>0.521187</td>\n",
       "      <td>0.415504</td>\n",
       "      <td>27.8788</td>\n",
       "      <td>0.216555</td>\n",
       "      <td>POLYGON ((-1031892.626 1666624.116, -1031892.6...</td>\n",
       "      <td>1</td>\n",
       "      <td>2018-06-01 19:48:00+00:00</td>\n",
       "    </tr>\n",
       "    <tr>\n",
       "      <th>2</th>\n",
       "      <td>-107.815796</td>\n",
       "      <td>37.461769</td>\n",
       "      <td>7</td>\n",
       "      <td>D</td>\n",
       "      <td>l</td>\n",
       "      <td>6/1/18</td>\n",
       "      <td>1948</td>\n",
       "      <td>48.685238</td>\n",
       "      <td>4245</td>\n",
       "      <td>0.521516</td>\n",
       "      <td>0.415624</td>\n",
       "      <td>27.9055</td>\n",
       "      <td>0.216755</td>\n",
       "      <td>POLYGON ((-1032327.725 1666569.442, -1032327.7...</td>\n",
       "      <td>2</td>\n",
       "      <td>2018-06-01 19:48:00+00:00</td>\n",
       "    </tr>\n",
       "    <tr>\n",
       "      <th>3</th>\n",
       "      <td>-107.820671</td>\n",
       "      <td>37.460793</td>\n",
       "      <td>8</td>\n",
       "      <td>D</td>\n",
       "      <td>n</td>\n",
       "      <td>6/1/18</td>\n",
       "      <td>1948</td>\n",
       "      <td>25.084015</td>\n",
       "      <td>4246</td>\n",
       "      <td>0.521845</td>\n",
       "      <td>0.415745</td>\n",
       "      <td>27.9322</td>\n",
       "      <td>0.216954</td>\n",
       "      <td>POLYGON ((-1032764.981 1666513.768, -1032764.9...</td>\n",
       "      <td>3</td>\n",
       "      <td>2018-06-01 19:48:00+00:00</td>\n",
       "    </tr>\n",
       "    <tr>\n",
       "      <th>4</th>\n",
       "      <td>-107.816841</td>\n",
       "      <td>37.465534</td>\n",
       "      <td>9</td>\n",
       "      <td>D</td>\n",
       "      <td>h</td>\n",
       "      <td>6/1/18</td>\n",
       "      <td>1948</td>\n",
       "      <td>48.685238</td>\n",
       "      <td>4245</td>\n",
       "      <td>0.521516</td>\n",
       "      <td>0.415624</td>\n",
       "      <td>27.9055</td>\n",
       "      <td>0.216755</td>\n",
       "      <td>POLYGON ((-1032366.264 1666999.496, -1032366.2...</td>\n",
       "      <td>4</td>\n",
       "      <td>2018-06-01 19:48:00+00:00</td>\n",
       "    </tr>\n",
       "  </tbody>\n",
       "</table>\n",
       "</div>"
      ],
      "text/plain": [
       "    longitude   latitude  fire_mask daynight confidence acq_date acq_time  \\\n",
       "0 -107.809898  37.458965          8        D          n   6/1/18     1948   \n",
       "1 -107.810944  37.462734          9        D          h   6/1/18     1948   \n",
       "2 -107.815796  37.461769          7        D          l   6/1/18     1948   \n",
       "3 -107.820671  37.460793          8        D          n   6/1/18     1948   \n",
       "4 -107.816841  37.465534          9        D          h   6/1/18     1948   \n",
       "\n",
       "         frp  sample  along_scan  along_track  scan_angle  pix_area  \\\n",
       "0   7.603679    4244    0.521187     0.415504     27.8788  0.216555   \n",
       "1  48.685238    4244    0.521187     0.415504     27.8788  0.216555   \n",
       "2  48.685238    4245    0.521516     0.415624     27.9055  0.216755   \n",
       "3  25.084015    4246    0.521845     0.415745     27.9322  0.216954   \n",
       "4  48.685238    4245    0.521516     0.415624     27.9055  0.216755   \n",
       "\n",
       "                                            geometry  obs_id  \\\n",
       "0  POLYGON ((-1031854.110 1666193.640, -1031854.1...       0   \n",
       "1  POLYGON ((-1031892.626 1666624.116, -1031892.6...       1   \n",
       "2  POLYGON ((-1032327.725 1666569.442, -1032327.7...       2   \n",
       "3  POLYGON ((-1032764.981 1666513.768, -1032764.9...       3   \n",
       "4  POLYGON ((-1032366.264 1666999.496, -1032366.2...       4   \n",
       "\n",
       "               acq_datetime  \n",
       "0 2018-06-01 19:48:00+00:00  \n",
       "1 2018-06-01 19:48:00+00:00  \n",
       "2 2018-06-01 19:48:00+00:00  \n",
       "3 2018-06-01 19:48:00+00:00  \n",
       "4 2018-06-01 19:48:00+00:00  "
      ]
     },
     "execution_count": 10,
     "metadata": {},
     "output_type": "execute_result"
    }
   ],
   "source": [
    "# Set up swath_gdf with original points\n",
    "from shapely.geometry import Point\n",
    "afds['geometry'] = [Point(xy) for xy in zip(afds.longitude, afds.latitude)]\n",
    "swath_gdf = gpd.GeoDataFrame(afds, geometry='geometry', crs=\"EPSG:4326\")\n",
    "\n",
    "# Reproject to a projected CRS for accurate buffering\n",
    "swath_gdf = swath_gdf.to_crs(\"EPSG:5070\")\n",
    "\n",
    "# Define the pixel buffer function for the given width and height\n",
    "def pixel_buffer(point, width, height):\n",
    "    half_width = width / 2\n",
    "    half_height = height / 2\n",
    "    return box(\n",
    "        point.x - half_width, point.y - half_height,\n",
    "        point.x + half_width, point.y + half_height\n",
    "    )\n",
    "\n",
    "# Apply the buffer function with along_scan and along_track values converted to meters\n",
    "swath_gdf[\"geometry\"] = swath_gdf.apply(\n",
    "    lambda row: pixel_buffer(row[\"geometry\"], row[\"along_scan\"] * 1000, row[\"along_track\"] * 1000),\n",
    "    axis=1\n",
    ")\n",
    "\n",
    "swath_gdf = swath_gdf.reset_index(drop=True)\n",
    "swath_gdf['obs_id'] = swath_gdf.index # unique ID column\n",
    "swath_gdf.loc[:, 'acq_datetime'] = swath_gdf.apply(lambda row: convert_datetime(row['acq_date'], row['acq_time']), axis=1)\n",
    "\n",
    "# swath_gdf is now a GeoDataFrame with buffered polygons in EPSG:5070\n",
    "swath_gdf.head()"
   ]
  },
  {
   "cell_type": "code",
   "execution_count": 11,
   "id": "5e80b796-95f3-4fcb-bee4-5703f13996d2",
   "metadata": {},
   "outputs": [],
   "source": [
    "out_fp = os.path.join(projdir,'data/spatial/mod/VIIRS/afd_416Fire_raw.gpkg')\n",
    "swath_gdf.to_file(out_fp)"
   ]
  },
  {
   "cell_type": "code",
   "execution_count": null,
   "id": "4e33d47a-9869-4793-8e65-bc59967145d2",
   "metadata": {},
   "outputs": [],
   "source": []
  },
  {
   "cell_type": "code",
   "execution_count": null,
   "id": "98620edf-032d-41ce-a97b-af780c065e24",
   "metadata": {},
   "outputs": [],
   "source": []
  },
  {
   "cell_type": "code",
   "execution_count": null,
   "id": "a990b716-51b8-4d18-b160-5ec4c7745f0a",
   "metadata": {},
   "outputs": [],
   "source": [
    "# Handle duplicate observations"
   ]
  },
  {
   "cell_type": "code",
   "execution_count": null,
   "id": "fa31b218-1790-417b-a290-791bb3d9efa6",
   "metadata": {},
   "outputs": [],
   "source": [
    "# Case 1. Spatial overlap > 90% and the same acquisition time"
   ]
  },
  {
   "cell_type": "code",
   "execution_count": 23,
   "id": "58f43add-4937-4cc8-bc13-dd23dbc0f33e",
   "metadata": {},
   "outputs": [
    {
     "name": "stdout",
     "output_type": "stream",
     "text": [
      "Identified a total of [183/3054] duplicate observations.\n",
      "Saved to: /Users/max/Library/CloudStorage/OneDrive-Personal/mcook/aspen-fire/Aim2/data/spatial/mod/VIIRS/afd_416Fire_Case1.gpkg\n"
     ]
    }
   ],
   "source": [
    "# Find duplicates in space and time\n",
    "drop_obs = set() # to store the observations we want to drop\n",
    "for idx, obs in swath_gdf.iterrows():\n",
    "    date_matches = swath_gdf[\n",
    "        (swath_gdf['acq_datetime'] == obs['acq_datetime']) &\n",
    "        (swath_gdf.obs_id != idx)\n",
    "    ]\n",
    "    if len(date_matches) > 0:\n",
    "        for match_idx, match_obs in date_matches.iterrows():\n",
    "            # Calculate overlap\n",
    "            overlap_area = obs.geometry.intersection(match_obs.geometry).area\n",
    "            ratio = overlap_area / obs.geometry.area\n",
    "            # Check for >50% overlap\n",
    "            if ratio > 0.50:\n",
    "                # Keep the one with higher FRP, mark lower FRP for removal\n",
    "                if match_obs['frp'] < obs['frp']:\n",
    "                    drop_obs.add(match_idx)\n",
    "\n",
    "swath_gdf_c1 = swath_gdf[~swath_gdf['obs_id'].isin(drop_obs)]\n",
    "print(f\"Identified a total of [{len(drop_obs)}/{len(swath_gdf)}] duplicate observations.\")\n",
    "\n",
    "out_fp = os.path.join(projdir,'data/spatial/mod/VIIRS/afd_416Fire_Case1.gpkg')\n",
    "swath_gdf_c1.to_file(out_fp)\n",
    "print(f\"Saved to: {out_fp}\")"
   ]
  },
  {
   "cell_type": "code",
   "execution_count": null,
   "id": "23e66792-7f63-4d19-a1d1-5bf9e88958d2",
   "metadata": {},
   "outputs": [],
   "source": []
  },
  {
   "cell_type": "code",
   "execution_count": null,
   "id": "13e759bc-0085-42ab-bd51-b126c7ac2662",
   "metadata": {},
   "outputs": [],
   "source": [
    "# Case 2: Greater than 50% overlap, same day, different time."
   ]
  },
  {
   "cell_type": "code",
   "execution_count": 25,
   "id": "07a920f5-0afc-4de4-ba74-83534039746d",
   "metadata": {},
   "outputs": [
    {
     "name": "stdout",
     "output_type": "stream",
     "text": [
      "Identified a total of [95/2871] overlapping observations within 5 hours, separated by day/night.\n",
      "Saved to: /Users/max/Library/CloudStorage/OneDrive-Personal/mcook/aspen-fire/Aim2/data/spatial/mod/VIIRS/afd_416Fire_Case2.gpkg\n"
     ]
    }
   ],
   "source": [
    "time_threshold = timedelta(hours=3) # search for time within 5 hours\n",
    "\n",
    "drop_obs = set()\n",
    "for acq_date, group in swath_gdf_c1.groupby('acq_date'):\n",
    "    for dn in ['D','N']:\n",
    "        dn_group = group[group['daynight'] == dn].sort_values('acq_datetime')\n",
    "        for idx, obs in dn_group.iterrows():\n",
    "            time_matches = dn_group[\n",
    "                (dn_group['acq_datetime'] > obs['acq_datetime']) &\n",
    "                (dn_group['acq_datetime'] <= obs['acq_datetime'] + time_threshold) &\n",
    "                (dn_group.index != idx)  # Exclude itself\n",
    "            ]\n",
    "            for match_idx, match_obs in time_matches.iterrows():\n",
    "                # Calculate spatial overlap ratio\n",
    "                overlap_area = obs.geometry.intersection(match_obs.geometry).area\n",
    "                overlap_ratio = overlap_area / obs.geometry.area\n",
    "                \n",
    "                # Check for >50% spatial overlap\n",
    "                if overlap_ratio > 0.50:\n",
    "                    # Retain the highest FRP observation\n",
    "                    if match_obs['frp'] < obs['frp']:\n",
    "                        drop_obs.add(match_idx)\n",
    "\n",
    "swath_gdf_c2 = swath_gdf_c1.drop(index=list(drop_obs)).reset_index(drop=True)\n",
    "print(f\"Identified a total of [{len(drop_obs)}/{len(swath_gdf_c1)}] overlapping observations within 5 hours, separated by day/night.\")\n",
    "\n",
    "out_fp = os.path.join(projdir, 'data/spatial/mod/VIIRS/afd_416Fire_Case2.gpkg')\n",
    "swath_gdf_c2.to_file(out_fp)\n",
    "print(f\"Saved to: {out_fp}\")"
   ]
  },
  {
   "cell_type": "code",
   "execution_count": null,
   "id": "c0bf5473-16c7-4c71-aa33-5002abe41dba",
   "metadata": {},
   "outputs": [],
   "source": []
  },
  {
   "cell_type": "code",
   "execution_count": null,
   "id": "c6d8b576-56e6-4e62-9ee7-deb79d0bfc08",
   "metadata": {},
   "outputs": [],
   "source": [
    "# Case 3: Classify first day of burn (\"fire front\" per se) and reburns"
   ]
  },
  {
   "cell_type": "code",
   "execution_count": 29,
   "id": "1c73f740-649e-486d-8137-0b6127d25e8b",
   "metadata": {},
   "outputs": [
    {
     "name": "stdout",
     "output_type": "stream",
     "text": [
      "Saved to: /Users/max/Library/CloudStorage/OneDrive-Personal/mcook/aspen-fire/Aim2/data/spatial/mod/VIIRS/afd_416Fire_Case3.gpkg\n"
     ]
    }
   ],
   "source": [
    "swath_gdf_c2['burn_class'] = 'front' # set the first day of burn / maximum FRP\n",
    "\n",
    "# Sort by date and time to process chronologically\n",
    "swath_gdf_c3 = swath_gdf_c2.sort_values(['acq_datetime']).reset_index(drop=True)\n",
    "for idx, obs in swath_gdf_c3.iterrows():\n",
    "    \n",
    "    prev_obs = swath_gdf_c3.loc[:idx - 1]\n",
    "    \n",
    "    # prev_obs = prev_obs[prev_obs['daynight'] == obs['daynight']]\n",
    "    \n",
    "    for prev_idx, _obs in prev_obs.iterrows():\n",
    "        overlap = obs.geometry.intersection(_obs.geometry).area\n",
    "        ratio = overlap / obs.geometry.area\n",
    "        \n",
    "        # If significant overlap is found, label based on FRP\n",
    "        if ratio > 0.50:\n",
    "            if obs['frp'] < _obs['frp']:\n",
    "                swath_gdf_c3.at[idx, 'burn_class'] = 're-burn'\n",
    "            elif obs['frp'] > _obs['frp']:\n",
    "                swath_gdf_c3.at[idx, 'burn_class'] = 'flare-up'\n",
    "\n",
    "out_fp = os.path.join(projdir, 'data/spatial/mod/VIIRS/afd_416Fire_Case3.gpkg')\n",
    "swath_gdf_c3.to_file(out_fp)\n",
    "print(f\"Saved to: {out_fp}\")"
   ]
  },
  {
   "cell_type": "code",
   "execution_count": 30,
   "id": "99d8ac0a-0294-4a1c-8972-a222c14d7452",
   "metadata": {},
   "outputs": [
    {
     "data": {
      "text/plain": [
       "array(['front', 're-burn', 'flare-up'], dtype=object)"
      ]
     },
     "execution_count": 30,
     "metadata": {},
     "output_type": "execute_result"
    }
   ],
   "source": [
    "swath_gdf_c3['burn_class'].unique()"
   ]
  },
  {
   "cell_type": "code",
   "execution_count": 31,
   "id": "fc9994dd-0613-43b9-877e-f7188ddefb8e",
   "metadata": {},
   "outputs": [
    {
     "data": {
      "image/png": "[encoded data removed]",
      "text/plain": [
       "<Figure size 500x300 with 1 Axes>"
      ]
     },
     "metadata": {},
     "output_type": "display_data"
    }
   ],
   "source": [
    "# Plot the distribution of \"front\" and \"re-burn\"\n",
    "burn_class_counts = swath_gdf_c3['burn_class'].value_counts()\n",
    "\n",
    "# Plot a bar chart\n",
    "plt.figure(figsize=(5, 3))\n",
    "sns.barplot(x=burn_class_counts.index, y=burn_class_counts.values, palette=\"inferno\")\n",
    "plt.title(\"Primary vs. Re-burn Observations\")\n",
    "plt.xlabel(\"Burn Class\")\n",
    "plt.ylabel(\"Count\")\n",
    "plt.show()"
   ]
  },
  {
   "cell_type": "code",
   "execution_count": 32,
   "id": "d912dd99-9f61-4473-8d37-60cb73ecbf45",
   "metadata": {},
   "outputs": [
    {
     "data": {
      "text/plain": [
       "2776"
      ]
     },
     "execution_count": 32,
     "metadata": {},
     "output_type": "execute_result"
    }
   ],
   "source": [
    "len(swath_gdf_c3)"
   ]
  },
  {
   "cell_type": "code",
   "execution_count": null,
   "id": "f0ff01e4-dc39-4142-a539-74ab15bb2e08",
   "metadata": {},
   "outputs": [],
   "source": []
  },
  {
   "cell_type": "code",
   "execution_count": null,
   "id": "b60ec984-04a6-4ffe-a50d-b845af8bd959",
   "metadata": {},
   "outputs": [],
   "source": []
  }
 ],
 "metadata": {
  "kernelspec": {
   "display_name": "aspen-fire",
   "language": "python",
   "name": "aspen-fire"
  },
  "language_info": {
   "codemirror_mode": {
    "name": "ipython",
    "version": 3
   },
   "file_extension": ".py",
   "mimetype": "text/x-python",
   "name": "python",
   "nbconvert_exporter": "python",
   "pygments_lexer": "ipython3",
   "version": "3.10.12"
  }
 },
 "nbformat": 4,
 "nbformat_minor": 5
}
