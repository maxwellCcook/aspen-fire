{
 "cells": [
  {
   "cell_type": "code",
   "execution_count": 42,
   "id": "5ecd0bef-fee5-428a-a587-cacab707d965",
   "metadata": {},
   "outputs": [
    {
     "name": "stdout",
     "output_type": "stream",
     "text": [
      "Ready !\n"
     ]
    }
   ],
   "source": [
    "\"\"\"\n",
    "Read VIIRS active fire geolocation data (VNP03IMG)\n",
    "Author: maxwell.cook@colorado.edu\n",
    "\"\"\"\n",
    "\n",
    "# Import packages\n",
    "import sys, os\n",
    "import xarray as xr\n",
    "import pyproj\n",
    "import geopandas as gpd\n",
    "import datetime as dt\n",
    "import matplotlib.pyplot as plt\n",
    "import seaborn as sns\n",
    "\n",
    "from netCDF4 import Dataset # to open NetCDF\n",
    "from datetime import datetime\n",
    "from datetime import timedelta\n",
    "from matplotlib import pyplot as plt\n",
    "from affine import Affine\n",
    "from osgeo import gdal, gdal_array, gdalconst, osr\n",
    "from rasterio.transform import from_bounds\n",
    "from scipy.spatial import cKDTree\n",
    "\n",
    "# Custom functions\n",
    "sys.path.append(os.path.join(os.getcwd(),'code/'))\n",
    "from __functions import *\n",
    "\n",
    "# Projection information\n",
    "geog = 'EPSG:4326'  # Geographic projection\n",
    "prj = 'EPSG:5070'  # Projected coordinate system- WGS 84 NAD83 UTM Zone 13N\n",
    "\n",
    "# File path information\n",
    "maindir = '/Users/max/Library/CloudStorage/OneDrive-Personal/mcook/'\n",
    "projdir = os.path.join(maindir, 'aspen-fire/Aim2/')\n",
    "# Output directories\n",
    "dataraw = os.path.join(projdir,'data/spatial/raw/VIIRS/')\n",
    "datamod = os.path.join(projdir,'data/spatial/mod/VIIRS/')\n",
    "\n",
    "# File path information\n",
    "print(\"Ready !\")"
   ]
  },
  {
   "cell_type": "code",
   "execution_count": 2,
   "id": "f10083b8-374e-4de9-99ec-0acda1babc9e",
   "metadata": {},
   "outputs": [
    {
     "name": "stdout",
     "output_type": "stream",
     "text": [
      "Index(['Fire_ID', 'NIFC_NAME', 'NIFC_ACRES', 'FINAL_ACRES', 'pct_aspen',\n",
      "       'INCIDENT_ID', 'INCIDENT_NAME', 'START_YEAR', 'CAUSE', 'DISCOVERY_DATE',\n",
      "       'DISCOVERY_DOY', 'WF_CESSATION_DATE', 'WF_CESSATION_DOY',\n",
      "       'STR_DESTROYED_TOTAL', 'STR_DAMAGED_TOTAL', 'STR_THREATENED_MAX',\n",
      "       'EVACUATION_REPORTED', 'PEAK_EVACUATIONS', 'WF_PEAK_AERIAL',\n",
      "       'WF_PEAK_PERSONNEL', 'na_l3name', 'geometry'],\n",
      "      dtype='object')\n",
      "  Fire_ID NIFC_NAME NIFC_ACRES FINAL_ACRES  pct_aspen       INCIDENT_ID  \\\n",
      "0      14       416   54130.98       54129  38.614463  2018_9091030_416   \n",
      "\n",
      "  INCIDENT_NAME START_YEAR CAUSE      DISCOVERY_DATE  ... WF_CESSATION_DOY  \\\n",
      "0           416       2018     U 2018-06-01 11:02:00  ...              184   \n",
      "\n",
      "  STR_DESTROYED_TOTAL STR_DAMAGED_TOTAL STR_THREATENED_MAX  \\\n",
      "0                   0                 0               3386   \n",
      "\n",
      "  EVACUATION_REPORTED PEAK_EVACUATIONS WF_PEAK_AERIAL WF_PEAK_PERSONNEL  \\\n",
      "0                   1             2182             15           429.125   \n",
      "\n",
      "          na_l3name                                           geometry  \n",
      "0  Southern Rockies  MULTIPOLYGON (((-1047907.942 1672642.863, -104...  \n",
      "\n",
      "[1 rows x 22 columns]\n"
     ]
    }
   ],
   "source": [
    "# Load fire data, extract the example fire (416)\n",
    "fp = os.path.join(projdir,'data/spatial/mod/NIFC/nifc-ics_2018_to_2023-aspen_SRM.gpkg')\n",
    "fires = gpd.read_file(fp)\n",
    "fires.rename(columns={'NIFC_ID': 'Fire_ID'}, inplace=True)\n",
    "perim = fires[fires['Fire_ID'] == '14'] # corresponds to the 416 fire\n",
    "print(perim.columns)\n",
    "print(perim.head())"
   ]
  },
  {
   "cell_type": "code",
   "execution_count": 3,
   "id": "b431f89d-0fdd-40d7-978c-04ad5cbfbed2",
   "metadata": {},
   "outputs": [
    {
     "name": "stdout",
     "output_type": "stream",
     "text": [
      "Bounding Coordinates: \n",
      "[(-108.0104287321153, 37.37737010107216), (-107.79428582032635, 37.37737010107216), (-107.79428582032635, 37.60899484292132), (-108.0104287321153, 37.60899484292132), (-108.0104287321153, 37.37737010107216)]\n",
      "Bounding Extent: \n",
      "[-108.0104287321153, -107.79428582032635, 37.37737010107216, 37.60899484292132]\n"
     ]
    }
   ],
   "source": [
    "# Grab an extent for cropping netcdf files\n",
    "buffer = 1000 \n",
    "coords, extent = get_coords(perim, buffer)\n",
    "# Print the coordinates to verify\n",
    "print(f\"Bounding Coordinates: \\n{coords}\")\n",
    "print(f\"Bounding Extent: \\n{extent}\")"
   ]
  },
  {
   "cell_type": "code",
   "execution_count": null,
   "id": "9f211c1e-48e9-4ebe-bf85-c92237fc5e90",
   "metadata": {},
   "outputs": [],
   "source": []
  },
  {
   "cell_type": "code",
   "execution_count": 4,
   "id": "5ef66fdf-c678-472c-82e4-86bdb91ef0fe",
   "metadata": {},
   "outputs": [],
   "source": [
    "# Load the NetCDF files ..."
   ]
  },
  {
   "cell_type": "code",
   "execution_count": null,
   "id": "076e1946-c1a7-4ed2-8f8a-bea67c8aad0c",
   "metadata": {},
   "outputs": [],
   "source": []
  },
  {
   "cell_type": "code",
   "execution_count": 5,
   "id": "768e33a8-7c3d-436d-be3d-446eca0d93cc",
   "metadata": {},
   "outputs": [
    {
     "name": "stdout",
     "output_type": "stream",
     "text": [
      "VNP14IMG: 94 granules\n",
      "VNP03IMG: 94 granules\n"
     ]
    }
   ],
   "source": [
    "# Get a list of .nc files\n",
    "nc_files = list_files(os.path.join(projdir, f'data/spatial/raw/VIIRS/'), \"*.nc\", recursive=True)\n",
    "# Seperate into VNP14 & VNP03\n",
    "vnp = [f for f in nc_files if 'VNP14' in os.path.basename(f)] # VNP14IMG (active fire)\n",
    "vnp03 = [f for f in nc_files if 'VNP03' in os.path.basename(f)] # VNP03IMG (geolocation)\n",
    "\n",
    "print(f'VNP14IMG: {len(vnp)} granules')\n",
    "print(f'VNP03IMG: {len(vnp03)} granules')"
   ]
  },
  {
   "cell_type": "code",
   "execution_count": null,
   "id": "2f26d882-4947-42c0-819d-879723b0a5f4",
   "metadata": {},
   "outputs": [],
   "source": []
  },
  {
   "cell_type": "code",
   "execution_count": 6,
   "id": "2b29d4a7-c5df-4f57-9245-1caa7c2043a1",
   "metadata": {},
   "outputs": [],
   "source": [
    "# Now operate on the entire fire ..."
   ]
  },
  {
   "cell_type": "code",
   "execution_count": 7,
   "id": "629faf07-d3bb-4a25-818b-0af3b21928f2",
   "metadata": {},
   "outputs": [
    {
     "name": "stdout",
     "output_type": "stream",
     "text": [
      "   sample  along_scan  along_track  scan_angle  pix_area\n",
      "0       0    0.795616     0.783234     56.0600  0.623154\n",
      "1       1    0.794690     0.782908     56.0511  0.622169\n",
      "2       2    0.793765     0.782583     56.0422  0.621187\n",
      "3       3    0.792842     0.782258     56.0333  0.620207\n",
      "4       4    0.791921     0.781933     56.0244  0.619229\n"
     ]
    }
   ],
   "source": [
    "# Load the lookup table for pixel sizes\n",
    "fp = os.path.join(projdir,'data/tabular/raw/pix_size_lut.csv')\n",
    "lookup = pd.read_csv(fp)\n",
    "print(lookup.head())"
   ]
  },
  {
   "cell_type": "code",
   "execution_count": 8,
   "id": "6f9da5e5-e0a0-4570-af0e-874fa1d1039c",
   "metadata": {},
   "outputs": [
    {
     "name": "stdout",
     "output_type": "stream",
     "text": [
      "['A2018152', '1948']\n",
      "Acquisition date: 6/1/18\n",
      "Acquisition datetime afternoon?: True\n",
      "['A2018153', '0806']\n",
      "Acquisition date: 6/2/18\n",
      "Acquisition datetime afternoon?: False\n",
      "['A2018153', '0948']\n",
      "Acquisition date: 6/2/18\n",
      "Acquisition datetime afternoon?: False\n",
      "['A2018153', '1924']\n",
      "Acquisition date: 6/2/18\n",
      "Acquisition datetime afternoon?: True\n",
      "['A2018153', '2106']\n",
      "Acquisition date: 6/2/18\n",
      "Acquisition datetime afternoon?: True\n"
     ]
    }
   ],
   "source": [
    "out_dfs = [] \n",
    "for fp in sorted(vnp)[0:5]:\n",
    "    \n",
    "    # Gather some metadata information from the file name\n",
    "    timestamp = fp.split('.')[1:3]\n",
    "    print(timestamp)\n",
    "    year = timestamp[0][1:5]\n",
    "    day = timestamp[0][5:8]\n",
    "    time = timestamp[1]\n",
    "    date = dt.datetime.strptime(year+day, '%Y%j').strftime('%b %d') \n",
    "    acq_date = dt.datetime.strptime(year+day, '%Y%j').strftime('%-m/%-d/%y') #match FIRMS\n",
    "    daytime = int(time) > 1500 #timestamps in the 1900h-2200h UTC range are afternoon for Western US\n",
    "    print(f\"Acquisition date: {acq_date}\")\n",
    "    print(f\"Acquisition datetime afternoon?: {daytime}\")\n",
    "\n",
    "    # Find matching geolocation data file for one record\n",
    "    identifier = os.path.basename(fp)[:-3]\n",
    "    parts = identifier.split('.') # split by '.'\n",
    "    date_time_part = '.'.join(parts[1:4])  # Extract date-time parts for the VNP Version 002    \n",
    "    geo_id = 'VNP03IMG' + '.' + date_time_part\n",
    "    geo_da_fp = [geo_link for geo_link in vnp03 if geo_id in os.path.basename(geo_link)][0] \n",
    "\n",
    "    if geo_da_fp is None:\n",
    "        print(f\"!!! No geolocation file found for: {identifier}\")\n",
    "        continue\n",
    "    \n",
    "    # Read the geolocation data\n",
    "    geo = xr.open_dataset(geo_da_fp, engine='netcdf4', group='geolocation_data')\n",
    "    i, j = np.indices(geo.longitude.shape) #line and sample\n",
    "    # Crop to fire bounding extent\n",
    "    scene = ((geo.longitude > extent[0]) & (geo.longitude < extent[1]) & (geo.latitude > extent[2]) & (geo.latitude < extent[3])).values\n",
    "    \n",
    "    # Get the VNP14IMG fire mask, etc\n",
    "    vnp14 = xr.open_dataset(fp, engine='netcdf4')\n",
    "\n",
    "    qa = vnp14['algorithm QA']\n",
    "    fire = vnp14['fire mask']\n",
    "    daynight = vnp14.DayNightFlag #string Day or Night\n",
    "    \n",
    "    lonfp = vnp14.variables['FP_longitude'][:] # fire pixel longitude\n",
    "    latfp = vnp14.variables['FP_latitude'][:]\n",
    "    frp = vnp14.variables['FP_power'][:] # fire radiative power\n",
    "\n",
    "    tree = cKDTree(np.array([lonfp, latfp]).T) #search tree for finding nearest FRP\n",
    "\n",
    "    # Set up a pandas dataframe for the swath\n",
    "    df = pd.DataFrame()\n",
    "    df['longitude'] = list(geo.longitude.values[scene])\n",
    "    df['latitude'] = list(geo.latitude.values[scene])\n",
    "    df['fire_mask'] = list(fire.values[scene])\n",
    "    df['daynight'] = daynight[0]\n",
    "    df['confidence'] = df.fire_mask\n",
    "    df.confidence = df.confidence.replace({0:'x', 1:'x', 2:'x', 3:'x', 4:'x', 5:'x', 6:'x', 7:'l', 8:'n', 9:'h'})\n",
    "    df['acq_date'] = acq_date\n",
    "    df['acq_time'] = time\n",
    "    df['j'] = list(j[scene]) #sample number for pixel size lookup\n",
    "    # df['height'] = list(geo.height.values[scene])\n",
    "    # df['range'] = list(geo.range.values[scene])\n",
    "    # df['sensor_azimuth'] = list(geo.sensor_azimuth.values[scene])\n",
    "    # df['sensor_zenith'] = list(geo.sensor_zenith.values[scene])\n",
    "    # df['solar_azimuth'] = list(geo.solar_azimuth.values[scene])\n",
    "    # df['solar_zenith'] = list(geo.solar_zenith.values[scene])\n",
    "    \n",
    "    # Retain only low-high confidence fire points\n",
    "    df = df[df['fire_mask'] > 6]\n",
    "    df['fire_mask'] = pd.Categorical(df['fire_mask'])\n",
    "\n",
    "    #gather frp\n",
    "    known = df[df.confidence!='x']\n",
    "    for k in known.index:\n",
    "        dist, nearest = tree.query([ known.loc[k, 'longitude'], known.loc[k, 'latitude'] ])\n",
    "        df.loc[k, 'frp'] = frp[nearest].item()\n",
    "\n",
    "    # Join to pixel size info\n",
    "    df = pd.merge(df, lookup, left_on='j', right_on='sample', how='left')\n",
    "    df.drop(columns=['j'], inplace=True)\n",
    "    out_dfs.append(df)\n",
    "    \n",
    "# Concat the output dfs\n",
    "afds = pd.concat(out_dfs)"
   ]
  },
  {
   "cell_type": "code",
   "execution_count": 9,
   "id": "74389740-606f-4fdd-8562-ec77f95f939c",
   "metadata": {},
   "outputs": [
    {
     "data": {
      "text/html": [
       "<div>\n",
       "<style scoped>\n",
       "    .dataframe tbody tr th:only-of-type {\n",
       "        vertical-align: middle;\n",
       "    }\n",
       "\n",
       "    .dataframe tbody tr th {\n",
       "        vertical-align: top;\n",
       "    }\n",
       "\n",
       "    .dataframe thead th {\n",
       "        text-align: right;\n",
       "    }\n",
       "</style>\n",
       "<table border=\"1\" class=\"dataframe\">\n",
       "  <thead>\n",
       "    <tr style=\"text-align: right;\">\n",
       "      <th></th>\n",
       "      <th>longitude</th>\n",
       "      <th>latitude</th>\n",
       "      <th>fire_mask</th>\n",
       "      <th>daynight</th>\n",
       "      <th>confidence</th>\n",
       "      <th>acq_date</th>\n",
       "      <th>acq_time</th>\n",
       "      <th>frp</th>\n",
       "      <th>sample</th>\n",
       "      <th>along_scan</th>\n",
       "      <th>along_track</th>\n",
       "      <th>scan_angle</th>\n",
       "      <th>pix_area</th>\n",
       "    </tr>\n",
       "  </thead>\n",
       "  <tbody>\n",
       "    <tr>\n",
       "      <th>0</th>\n",
       "      <td>-107.809898</td>\n",
       "      <td>37.458965</td>\n",
       "      <td>8</td>\n",
       "      <td>D</td>\n",
       "      <td>n</td>\n",
       "      <td>6/1/18</td>\n",
       "      <td>1948</td>\n",
       "      <td>7.603679</td>\n",
       "      <td>4244</td>\n",
       "      <td>0.521187</td>\n",
       "      <td>0.415504</td>\n",
       "      <td>27.8788</td>\n",
       "      <td>0.216555</td>\n",
       "    </tr>\n",
       "    <tr>\n",
       "      <th>1</th>\n",
       "      <td>-107.810944</td>\n",
       "      <td>37.462734</td>\n",
       "      <td>9</td>\n",
       "      <td>D</td>\n",
       "      <td>h</td>\n",
       "      <td>6/1/18</td>\n",
       "      <td>1948</td>\n",
       "      <td>48.685238</td>\n",
       "      <td>4244</td>\n",
       "      <td>0.521187</td>\n",
       "      <td>0.415504</td>\n",
       "      <td>27.8788</td>\n",
       "      <td>0.216555</td>\n",
       "    </tr>\n",
       "    <tr>\n",
       "      <th>2</th>\n",
       "      <td>-107.815796</td>\n",
       "      <td>37.461769</td>\n",
       "      <td>7</td>\n",
       "      <td>D</td>\n",
       "      <td>l</td>\n",
       "      <td>6/1/18</td>\n",
       "      <td>1948</td>\n",
       "      <td>48.685238</td>\n",
       "      <td>4245</td>\n",
       "      <td>0.521516</td>\n",
       "      <td>0.415624</td>\n",
       "      <td>27.9055</td>\n",
       "      <td>0.216755</td>\n",
       "    </tr>\n",
       "    <tr>\n",
       "      <th>3</th>\n",
       "      <td>-107.820671</td>\n",
       "      <td>37.460793</td>\n",
       "      <td>8</td>\n",
       "      <td>D</td>\n",
       "      <td>n</td>\n",
       "      <td>6/1/18</td>\n",
       "      <td>1948</td>\n",
       "      <td>25.084015</td>\n",
       "      <td>4246</td>\n",
       "      <td>0.521845</td>\n",
       "      <td>0.415745</td>\n",
       "      <td>27.9322</td>\n",
       "      <td>0.216954</td>\n",
       "    </tr>\n",
       "    <tr>\n",
       "      <th>4</th>\n",
       "      <td>-107.816841</td>\n",
       "      <td>37.465534</td>\n",
       "      <td>9</td>\n",
       "      <td>D</td>\n",
       "      <td>h</td>\n",
       "      <td>6/1/18</td>\n",
       "      <td>1948</td>\n",
       "      <td>48.685238</td>\n",
       "      <td>4245</td>\n",
       "      <td>0.521516</td>\n",
       "      <td>0.415624</td>\n",
       "      <td>27.9055</td>\n",
       "      <td>0.216755</td>\n",
       "    </tr>\n",
       "  </tbody>\n",
       "</table>\n",
       "</div>"
      ],
      "text/plain": [
       "    longitude   latitude  fire_mask daynight confidence acq_date acq_time  \\\n",
       "0 -107.809898  37.458965          8        D          n   6/1/18     1948   \n",
       "1 -107.810944  37.462734          9        D          h   6/1/18     1948   \n",
       "2 -107.815796  37.461769          7        D          l   6/1/18     1948   \n",
       "3 -107.820671  37.460793          8        D          n   6/1/18     1948   \n",
       "4 -107.816841  37.465534          9        D          h   6/1/18     1948   \n",
       "\n",
       "         frp  sample  along_scan  along_track  scan_angle  pix_area  \n",
       "0   7.603679    4244    0.521187     0.415504     27.8788  0.216555  \n",
       "1  48.685238    4244    0.521187     0.415504     27.8788  0.216555  \n",
       "2  48.685238    4245    0.521516     0.415624     27.9055  0.216755  \n",
       "3  25.084015    4246    0.521845     0.415745     27.9322  0.216954  \n",
       "4  48.685238    4245    0.521516     0.415624     27.9055  0.216755  "
      ]
     },
     "execution_count": 9,
     "metadata": {},
     "output_type": "execute_result"
    }
   ],
   "source": [
    "afds.head()"
   ]
  },
  {
   "cell_type": "code",
   "execution_count": 32,
   "id": "ac9c20dc-f7e9-421b-bcdd-d374c96d61a4",
   "metadata": {},
   "outputs": [
    {
     "data": {
      "text/html": [
       "<div>\n",
       "<style scoped>\n",
       "    .dataframe tbody tr th:only-of-type {\n",
       "        vertical-align: middle;\n",
       "    }\n",
       "\n",
       "    .dataframe tbody tr th {\n",
       "        vertical-align: top;\n",
       "    }\n",
       "\n",
       "    .dataframe thead th {\n",
       "        text-align: right;\n",
       "    }\n",
       "</style>\n",
       "<table border=\"1\" class=\"dataframe\">\n",
       "  <thead>\n",
       "    <tr style=\"text-align: right;\">\n",
       "      <th></th>\n",
       "      <th>longitude</th>\n",
       "      <th>latitude</th>\n",
       "      <th>fire_mask</th>\n",
       "      <th>daynight</th>\n",
       "      <th>confidence</th>\n",
       "      <th>acq_date</th>\n",
       "      <th>acq_time</th>\n",
       "      <th>frp</th>\n",
       "      <th>sample</th>\n",
       "      <th>along_scan</th>\n",
       "      <th>along_track</th>\n",
       "      <th>scan_angle</th>\n",
       "      <th>pix_area</th>\n",
       "      <th>geometry</th>\n",
       "      <th>obs_id</th>\n",
       "      <th>acq_datetime</th>\n",
       "    </tr>\n",
       "  </thead>\n",
       "  <tbody>\n",
       "    <tr>\n",
       "      <th>0</th>\n",
       "      <td>-107.809898</td>\n",
       "      <td>37.458965</td>\n",
       "      <td>8</td>\n",
       "      <td>D</td>\n",
       "      <td>n</td>\n",
       "      <td>6/1/18</td>\n",
       "      <td>1948</td>\n",
       "      <td>7.603679</td>\n",
       "      <td>4244</td>\n",
       "      <td>0.521187</td>\n",
       "      <td>0.415504</td>\n",
       "      <td>27.8788</td>\n",
       "      <td>0.216555</td>\n",
       "      <td>POLYGON ((-1031854.110 1666193.640, -1031854.1...</td>\n",
       "      <td>0</td>\n",
       "      <td>2018-06-01 19:48:00+00:00</td>\n",
       "    </tr>\n",
       "    <tr>\n",
       "      <th>1</th>\n",
       "      <td>-107.810944</td>\n",
       "      <td>37.462734</td>\n",
       "      <td>9</td>\n",
       "      <td>D</td>\n",
       "      <td>h</td>\n",
       "      <td>6/1/18</td>\n",
       "      <td>1948</td>\n",
       "      <td>48.685238</td>\n",
       "      <td>4244</td>\n",
       "      <td>0.521187</td>\n",
       "      <td>0.415504</td>\n",
       "      <td>27.8788</td>\n",
       "      <td>0.216555</td>\n",
       "      <td>POLYGON ((-1031892.626 1666624.116, -1031892.6...</td>\n",
       "      <td>1</td>\n",
       "      <td>2018-06-01 19:48:00+00:00</td>\n",
       "    </tr>\n",
       "    <tr>\n",
       "      <th>2</th>\n",
       "      <td>-107.815796</td>\n",
       "      <td>37.461769</td>\n",
       "      <td>7</td>\n",
       "      <td>D</td>\n",
       "      <td>l</td>\n",
       "      <td>6/1/18</td>\n",
       "      <td>1948</td>\n",
       "      <td>48.685238</td>\n",
       "      <td>4245</td>\n",
       "      <td>0.521516</td>\n",
       "      <td>0.415624</td>\n",
       "      <td>27.9055</td>\n",
       "      <td>0.216755</td>\n",
       "      <td>POLYGON ((-1032327.725 1666569.442, -1032327.7...</td>\n",
       "      <td>2</td>\n",
       "      <td>2018-06-01 19:48:00+00:00</td>\n",
       "    </tr>\n",
       "    <tr>\n",
       "      <th>3</th>\n",
       "      <td>-107.820671</td>\n",
       "      <td>37.460793</td>\n",
       "      <td>8</td>\n",
       "      <td>D</td>\n",
       "      <td>n</td>\n",
       "      <td>6/1/18</td>\n",
       "      <td>1948</td>\n",
       "      <td>25.084015</td>\n",
       "      <td>4246</td>\n",
       "      <td>0.521845</td>\n",
       "      <td>0.415745</td>\n",
       "      <td>27.9322</td>\n",
       "      <td>0.216954</td>\n",
       "      <td>POLYGON ((-1032764.981 1666513.768, -1032764.9...</td>\n",
       "      <td>3</td>\n",
       "      <td>2018-06-01 19:48:00+00:00</td>\n",
       "    </tr>\n",
       "    <tr>\n",
       "      <th>4</th>\n",
       "      <td>-107.816841</td>\n",
       "      <td>37.465534</td>\n",
       "      <td>9</td>\n",
       "      <td>D</td>\n",
       "      <td>h</td>\n",
       "      <td>6/1/18</td>\n",
       "      <td>1948</td>\n",
       "      <td>48.685238</td>\n",
       "      <td>4245</td>\n",
       "      <td>0.521516</td>\n",
       "      <td>0.415624</td>\n",
       "      <td>27.9055</td>\n",
       "      <td>0.216755</td>\n",
       "      <td>POLYGON ((-1032366.264 1666999.496, -1032366.2...</td>\n",
       "      <td>4</td>\n",
       "      <td>2018-06-01 19:48:00+00:00</td>\n",
       "    </tr>\n",
       "  </tbody>\n",
       "</table>\n",
       "</div>"
      ],
      "text/plain": [
       "    longitude   latitude  fire_mask daynight confidence acq_date acq_time  \\\n",
       "0 -107.809898  37.458965          8        D          n   6/1/18     1948   \n",
       "1 -107.810944  37.462734          9        D          h   6/1/18     1948   \n",
       "2 -107.815796  37.461769          7        D          l   6/1/18     1948   \n",
       "3 -107.820671  37.460793          8        D          n   6/1/18     1948   \n",
       "4 -107.816841  37.465534          9        D          h   6/1/18     1948   \n",
       "\n",
       "         frp  sample  along_scan  along_track  scan_angle  pix_area  \\\n",
       "0   7.603679    4244    0.521187     0.415504     27.8788  0.216555   \n",
       "1  48.685238    4244    0.521187     0.415504     27.8788  0.216555   \n",
       "2  48.685238    4245    0.521516     0.415624     27.9055  0.216755   \n",
       "3  25.084015    4246    0.521845     0.415745     27.9322  0.216954   \n",
       "4  48.685238    4245    0.521516     0.415624     27.9055  0.216755   \n",
       "\n",
       "                                            geometry  obs_id  \\\n",
       "0  POLYGON ((-1031854.110 1666193.640, -1031854.1...       0   \n",
       "1  POLYGON ((-1031892.626 1666624.116, -1031892.6...       1   \n",
       "2  POLYGON ((-1032327.725 1666569.442, -1032327.7...       2   \n",
       "3  POLYGON ((-1032764.981 1666513.768, -1032764.9...       3   \n",
       "4  POLYGON ((-1032366.264 1666999.496, -1032366.2...       4   \n",
       "\n",
       "               acq_datetime  \n",
       "0 2018-06-01 19:48:00+00:00  \n",
       "1 2018-06-01 19:48:00+00:00  \n",
       "2 2018-06-01 19:48:00+00:00  \n",
       "3 2018-06-01 19:48:00+00:00  \n",
       "4 2018-06-01 19:48:00+00:00  "
      ]
     },
     "execution_count": 32,
     "metadata": {},
     "output_type": "execute_result"
    }
   ],
   "source": [
    "# Set up swath_gdf with original points\n",
    "from shapely.geometry import Point\n",
    "afds['geometry'] = [Point(xy) for xy in zip(afds.longitude, afds.latitude)]\n",
    "swath_gdf = gpd.GeoDataFrame(afds, geometry='geometry', crs=\"EPSG:4326\")\n",
    "\n",
    "# Reproject to a projected CRS for accurate buffering\n",
    "swath_gdf = swath_gdf.to_crs(\"EPSG:5070\")\n",
    "\n",
    "# Define the pixel buffer function for the given width and height\n",
    "def pixel_buffer(point, width, height):\n",
    "    half_width = width / 2\n",
    "    half_height = height / 2\n",
    "    return box(\n",
    "        point.x - half_width, point.y - half_height,\n",
    "        point.x + half_width, point.y + half_height\n",
    "    )\n",
    "\n",
    "# Apply the buffer function with along_scan and along_track values converted to meters\n",
    "swath_gdf[\"geometry\"] = swath_gdf.apply(\n",
    "    lambda row: pixel_buffer(row[\"geometry\"], row[\"along_scan\"] * 1000, row[\"along_track\"] * 1000),\n",
    "    axis=1\n",
    ")\n",
    "\n",
    "swath_gdf = swath_gdf.reset_index(drop=True)\n",
    "swath_gdf['obs_id'] = swath_gdf.index # unique ID column\n",
    "swath_gdf.loc[:, 'acq_datetime'] = swath_gdf.apply(lambda row: convert_datetime(row['acq_date'], row['acq_time']), axis=1)\n",
    "\n",
    "# swath_gdf is now a GeoDataFrame with buffered polygons in EPSG:5070\n",
    "swath_gdf.head()"
   ]
  },
  {
   "cell_type": "code",
   "execution_count": 33,
   "id": "5e80b796-95f3-4fcb-bee4-5703f13996d2",
   "metadata": {},
   "outputs": [],
   "source": [
    "out_fp = os.path.join(projdir,'data/spatial/mod/VIIRS/pix_area.gpkg')\n",
    "swath_gdf.to_file(out_fp)"
   ]
  },
  {
   "cell_type": "code",
   "execution_count": null,
   "id": "4e33d47a-9869-4793-8e65-bc59967145d2",
   "metadata": {},
   "outputs": [],
   "source": []
  },
  {
   "cell_type": "code",
   "execution_count": null,
   "id": "98620edf-032d-41ce-a97b-af780c065e24",
   "metadata": {},
   "outputs": [],
   "source": []
  },
  {
   "cell_type": "code",
   "execution_count": 12,
   "id": "a990b716-51b8-4d18-b160-5ec4c7745f0a",
   "metadata": {},
   "outputs": [],
   "source": [
    "# Handle duplicate observations"
   ]
  },
  {
   "cell_type": "code",
   "execution_count": 13,
   "id": "fa31b218-1790-417b-a290-791bb3d9efa6",
   "metadata": {},
   "outputs": [],
   "source": [
    "# Case 1. Spatial overlap > 90% and the same acquisition time"
   ]
  },
  {
   "cell_type": "code",
   "execution_count": 35,
   "id": "58f43add-4937-4cc8-bc13-dd23dbc0f33e",
   "metadata": {},
   "outputs": [
    {
     "name": "stdout",
     "output_type": "stream",
     "text": [
      "Identified a total of [32/122] duplicate observations.\n",
      "Saved to: /Users/max/Library/CloudStorage/OneDrive-Personal/mcook/aspen-fire/Aim2/data/spatial/mod/VIIRS/pix_area_case1.gpkg\n"
     ]
    }
   ],
   "source": [
    "\n",
    "# Find duplicates in space and time\n",
    "drop_obs = set() # to store the observations we want to drop\n",
    "for idx, obs in swath_gdf.iterrows():\n",
    "    date_matches = swath_gdf[\n",
    "        (swath_gdf['acq_datetime'] == obs['acq_datetime']) &\n",
    "        (swath_gdf.obs_id != idx)\n",
    "    ]\n",
    "    if len(date_matches) > 0:\n",
    "        for match_idx, match_obs in date_matches.iterrows():\n",
    "            # Calculate overlap\n",
    "            overlap_area = obs.geometry.intersection(match_obs.geometry).area\n",
    "            ratio = overlap_area / obs.geometry.area\n",
    "            # Check for >50% overlap\n",
    "            if ratio > 0.50:\n",
    "                # Keep the one with higher FRP, mark lower FRP for removal\n",
    "                if match_obs['frp'] < obs['frp']:\n",
    "                    drop_obs.add(match_idx)\n",
    "                    break\n",
    "\n",
    "swath_gdf_c1 = swath_gdf[~swath_gdf['obs_id'].isin(drop_obs)]\n",
    "print(f\"Identified a total of [{len(drop_obs)}/{len(swath_gdf)}] duplicate observations.\")\n",
    "\n",
    "out_fp = os.path.join(projdir,'data/spatial/mod/VIIRS/pix_area_case1.gpkg')\n",
    "swath_gdf_c1.to_file(out_fp)\n",
    "print(f\"Saved to: {out_fp}\")"
   ]
  },
  {
   "cell_type": "code",
   "execution_count": null,
   "id": "23e66792-7f63-4d19-a1d1-5bf9e88958d2",
   "metadata": {},
   "outputs": [],
   "source": []
  },
  {
   "cell_type": "code",
   "execution_count": 15,
   "id": "13e759bc-0085-42ab-bd51-b126c7ac2662",
   "metadata": {},
   "outputs": [],
   "source": [
    "# Case 2: Greater than 50% overlap, same day, different time."
   ]
  },
  {
   "cell_type": "code",
   "execution_count": 36,
   "id": "07a920f5-0afc-4de4-ba74-83534039746d",
   "metadata": {},
   "outputs": [
    {
     "name": "stdout",
     "output_type": "stream",
     "text": [
      "Identified a total of [11/90] overlapping observations within 5 hours, separated by day/night.\n",
      "Saved to: /Users/max/Library/CloudStorage/OneDrive-Personal/mcook/aspen-fire/Aim2/data/spatial/mod/VIIRS/pix_area_case2.gpkg\n"
     ]
    }
   ],
   "source": [
    "time_threshold = timedelta(hours=5) # search for time within 5 hours\n",
    "\n",
    "drop_obs = set()\n",
    "for acq_date, group in swath_gdf_c1.groupby('acq_date'):\n",
    "    for dn in ['D','N']:\n",
    "        dn_group = group[group['daynight'] == dn].sort_values('acq_datetime')\n",
    "        for idx, obs in dn_group.iterrows():\n",
    "            time_matches = dn_group[\n",
    "                (dn_group['acq_datetime'] > obs['acq_datetime']) &\n",
    "                (dn_group['acq_datetime'] <= obs['acq_datetime'] + time_threshold) &\n",
    "                (dn_group.index != idx)  # Exclude itself\n",
    "            ]\n",
    "            for match_idx, match_obs in time_matches.iterrows():\n",
    "                # Calculate spatial overlap ratio\n",
    "                overlap_area = obs.geometry.intersection(match_obs.geometry).area\n",
    "                overlap_ratio = overlap_area / obs.geometry.area\n",
    "                \n",
    "                # Check for >50% spatial overlap\n",
    "                if overlap_ratio > 0.50:\n",
    "                    # Retain the highest FRP observation\n",
    "                    if match_obs['frp'] < obs['frp']:\n",
    "                        drop_obs.add(match_idx)\n",
    "                        break\n",
    "\n",
    "swath_gdf_c2 = swath_gdf_c1.drop(index=list(drop_obs)).reset_index(drop=True)\n",
    "print(f\"Identified a total of [{len(drop_obs)}/{len(swath_gdf_c1)}] overlapping observations within 5 hours, separated by day/night.\")\n",
    "\n",
    "out_fp = os.path.join(projdir, 'data/spatial/mod/VIIRS/pix_area_case2.gpkg')\n",
    "swath_gdf_c2.to_file(out_fp)\n",
    "print(f\"Saved to: {out_fp}\")"
   ]
  },
  {
   "cell_type": "code",
   "execution_count": null,
   "id": "c0bf5473-16c7-4c71-aa33-5002abe41dba",
   "metadata": {},
   "outputs": [],
   "source": []
  },
  {
   "cell_type": "code",
   "execution_count": null,
   "id": "c6d8b576-56e6-4e62-9ee7-deb79d0bfc08",
   "metadata": {},
   "outputs": [],
   "source": [
    "# Case 3: Classify first day of burn (\"fire front\" per se) and reburns"
   ]
  },
  {
   "cell_type": "code",
   "execution_count": 46,
   "id": "1c73f740-649e-486d-8137-0b6127d25e8b",
   "metadata": {},
   "outputs": [
    {
     "name": "stdout",
     "output_type": "stream",
     "text": [
      "Saved to: /Users/max/Library/CloudStorage/OneDrive-Personal/mcook/aspen-fire/Aim2/data/spatial/mod/VIIRS/pix_area_case3.gpkg\n"
     ]
    }
   ],
   "source": [
    "swath_gdf_c2['burn_class'] = 'front' # set the first day of burn / maximum FRP\n",
    "\n",
    "# Sort by date and time to process chronologically\n",
    "swath_gdf_c3 = swath_gdf_c2.sort_values(['acq_datetime']).reset_index(drop=True)\n",
    "for idx, obs in swath_gdf_c3.iterrows():\n",
    "    \n",
    "    prev_obs = swath_gdf_c3.loc[:idx - 1]\n",
    "    \n",
    "    prev_obs = prev_obs[prev_obs['daynight'] == obs['daynight']]\n",
    "    \n",
    "    for prev_idx, _obs in prev_obs.iterrows():\n",
    "        overlap = obs.geometry.intersection(_obs.geometry).area\n",
    "        ratio = overlap / obs.geometry.area\n",
    "        \n",
    "        # If significant overlap is found, label based on FRP\n",
    "        if ratio > 0.50:\n",
    "            if obs['frp'] < _obs['frp']:\n",
    "                swath_gdf_c3.at[idx, 'burn_class'] = 're-burn'\n",
    "            else:\n",
    "                swath_gdf_c3.at[prev_idx, 'burn_class'] = 'flare-up'\n",
    "\n",
    "out_fp = os.path.join(projdir, 'data/spatial/mod/VIIRS/pix_area_case3.gpkg')\n",
    "swath_gdf_c3.to_file(out_fp)\n",
    "print(f\"Saved to: {out_fp}\")"
   ]
  },
  {
   "cell_type": "code",
   "execution_count": 47,
   "id": "99d8ac0a-0294-4a1c-8972-a222c14d7452",
   "metadata": {},
   "outputs": [
    {
     "data": {
      "text/plain": [
       "array(['front', 're-burn'], dtype=object)"
      ]
     },
     "execution_count": 47,
     "metadata": {},
     "output_type": "execute_result"
    }
   ],
   "source": [
    "swath_gdf_c3['burn_class'].unique()"
   ]
  },
  {
   "cell_type": "code",
   "execution_count": 50,
   "id": "fc9994dd-0613-43b9-877e-f7188ddefb8e",
   "metadata": {},
   "outputs": [
    {
     "data": {
      "image/png": "[encoded data removed]",
      "text/plain": [
       "<Figure size 500x300 with 1 Axes>"
      ]
     },
     "metadata": {},
     "output_type": "display_data"
    }
   ],
   "source": [
    "# Plot the distribution of \"front\" and \"re-burn\"\n",
    "burn_class_counts = swath_gdf_c3['burn_class'].value_counts()\n",
    "\n",
    "# Plot a bar chart\n",
    "plt.figure(figsize=(5, 3))\n",
    "sns.barplot(x=burn_class_counts.index, y=burn_class_counts.values, palette=\"viridis\")\n",
    "plt.title(\"Primary vs. Re-burn Observations\")\n",
    "plt.xlabel(\"Burn Class\")\n",
    "plt.ylabel(\"Count\")\n",
    "plt.show()"
   ]
  },
  {
   "cell_type": "code",
   "execution_count": 24,
   "id": "d912dd99-9f61-4473-8d37-60cb73ecbf45",
   "metadata": {},
   "outputs": [],
   "source": []
  },
  {
   "cell_type": "code",
   "execution_count": null,
   "id": "f0ff01e4-dc39-4142-a539-74ab15bb2e08",
   "metadata": {},
   "outputs": [],
   "source": []
  },
  {
   "cell_type": "code",
   "execution_count": null,
   "id": "b60ec984-04a6-4ffe-a50d-b845af8bd959",
   "metadata": {},
   "outputs": [],
   "source": []
  },
  {
   "cell_type": "code",
   "execution_count": null,
   "id": "e798f38d-5b56-467a-85c5-8f133440323e",
   "metadata": {},
   "outputs": [],
   "source": []
  },
  {
   "cell_type": "code",
   "execution_count": null,
   "id": "1aabff27-d242-436b-a8db-79b916152d69",
   "metadata": {},
   "outputs": [],
   "source": []
  },
  {
   "cell_type": "code",
   "execution_count": null,
   "id": "b51a303c-49c3-4601-80dc-1fc8c7797622",
   "metadata": {},
   "outputs": [],
   "source": []
  },
  {
   "cell_type": "code",
   "execution_count": null,
   "id": "69f081f6-c171-477b-90e3-bd312325a6eb",
   "metadata": {},
   "outputs": [],
   "source": []
  },
  {
   "cell_type": "code",
   "execution_count": null,
   "id": "c960eaa2-4a49-4687-9306-210c16c8362f",
   "metadata": {},
   "outputs": [],
   "source": []
  },
  {
   "cell_type": "code",
   "execution_count": null,
   "id": "7c6fe81e-d30e-4130-9745-c0fd7c8c36f4",
   "metadata": {},
   "outputs": [],
   "source": []
  },
  {
   "cell_type": "code",
   "execution_count": null,
   "id": "369748e6-b1f0-4eaf-b756-4227918bf3e5",
   "metadata": {},
   "outputs": [],
   "source": []
  },
  {
   "cell_type": "code",
   "execution_count": null,
   "id": "ed37fe46-2b1e-4fe8-9fca-787b9d2b831e",
   "metadata": {},
   "outputs": [],
   "source": []
  },
  {
   "cell_type": "code",
   "execution_count": null,
   "id": "1928a876-d45b-463d-8a6e-a3aaa0e6490e",
   "metadata": {},
   "outputs": [],
   "source": []
  },
  {
   "cell_type": "code",
   "execution_count": null,
   "id": "df4d03a9-9968-4a33-8b2b-f02522f50f67",
   "metadata": {},
   "outputs": [],
   "source": [
    "# Open a .nc file (\"file_name\") to explore the contents\n",
    "ds = Dataset(vnp[0], 'r', format = 'NETCDF4')\n",
    "ds03 = Dataset(vnp03[0], 'r', format = 'NETCDF4')\n",
    "\n",
    "print(f\"VNP14IMG AFD granule:\\n{ds}\")\n",
    "print(\"\\n~~~~~~~~~~~~~~~~~~~~~~~~~~~~~~~~~~~~~~~~~~~~~~~~~~~~~~~\\n\")\n",
    "print(f\"VNP03IMG AFD granule:\\n{ds03}\")"
   ]
  },
  {
   "cell_type": "code",
   "execution_count": null,
   "id": "de2a39bb-735c-4fa7-b916-c6e486ab13fd",
   "metadata": {},
   "outputs": [],
   "source": [
    "scan_line_attr = ds03.groups['scan_line_attributes']\n",
    "geoloc_da = ds03.groups['geolocation_data'] # where the geolocation data is stored\n",
    "\n",
    "print(list(scan_line_attr.variables))\n",
    "print(list(geoloc_da.variables))"
   ]
  },
  {
   "cell_type": "code",
   "execution_count": null,
   "id": "09999288-5387-46a0-8f34-cb8e5f9bf643",
   "metadata": {},
   "outputs": [],
   "source": [
    "# Retrieve the bounding coordinates from the geolocation file\n",
    "latMin = ds03.getncattr('geospatial_lat_min')\n",
    "latMax = ds03.getncattr('geospatial_lat_max')\n",
    "lonMin = ds03.getncattr('geospatial_lon_min')\n",
    "lonMax = ds03.getncattr('geospatial_lon_max')\n",
    "print(f\"Geospatial Lat/Lon Bounds:\\n{[latMin, latMax, lonMin, lonMax]}\")"
   ]
  },
  {
   "cell_type": "code",
   "execution_count": null,
   "id": "dff46be5-d8ed-464d-b1e8-1af40e060f31",
   "metadata": {},
   "outputs": [],
   "source": [
    "# Read the geolocation datasets (lat/lon)\n",
    "geoloc_da = ds03.groups['geolocation_data'] # where the geolocation data is stored\n",
    "\n",
    "# Retrieve the coordinates and land/water mask SDS from geolocation_data\n",
    "var_da = geoloc_da.variables['land_water_mask'][:]  # a data array for land/water mask   \n",
    "latitudes = geoloc_da.variables['latitude'][:]\n",
    "longitudes = geoloc_da.variables['longitude'][:]\n",
    "\n",
    "print(f\"land/water mask: {var_da.shape}\\nlatGEO shape: {lat.shape}\\nlonGEO shape: {lon.shape}\\nData Type: {type(lat)}\")"
   ]
  },
  {
   "cell_type": "code",
   "execution_count": null,
   "id": "d119e63c-2052-4313-8318-51c770b0bc2b",
   "metadata": {},
   "outputs": [],
   "source": [
    "pixel_size_lat = (latMax - latMin) / latitudes.shape[0]\n",
    "pixel_size_lon = (lonMax - lonMin) / longitudes.shape[1]"
   ]
  },
  {
   "cell_type": "code",
   "execution_count": null,
   "id": "e53018ca-5ebd-4014-873c-fe9b3cefbd48",
   "metadata": {},
   "outputs": [],
   "source": [
    "from rasterio.transform import from_origin\n",
    "transform = from_origin(lonMin, latMax, pixel_size_lon, pixel_size_lat)"
   ]
  },
  {
   "cell_type": "code",
   "execution_count": null,
   "id": "23c6a9e4-0b82-40ef-8781-cc866257160a",
   "metadata": {},
   "outputs": [],
   "source": [
    "var_da_ = var_da.filled(np.nan)"
   ]
  },
  {
   "cell_type": "code",
   "execution_count": null,
   "id": "7e59d07e-21e2-4c82-8e41-8018a5d15264",
   "metadata": {},
   "outputs": [],
   "source": [
    "out_fp = os.path.join(datamod,'VNP03IMG_geolocation_grid.tif')\n",
    "with rio.open(\n",
    "    out_fp,\n",
    "    \"w\",\n",
    "    driver=\"GTiff\",\n",
    "    height=latitudes.shape[0],\n",
    "    width=longitudes.shape[1],\n",
    "    count=1,\n",
    "    dtype='float32',\n",
    "    crs=\"EPSG:4326\",\n",
    "    transform=transform,\n",
    ") as dst:\n",
    "    dst.write(var_da_, 1)"
   ]
  },
  {
   "cell_type": "code",
   "execution_count": null,
   "id": "79e0dd31-edcc-40e5-8d1d-e5de7db47700",
   "metadata": {},
   "outputs": [],
   "source": []
  },
  {
   "cell_type": "code",
   "execution_count": null,
   "id": "aa93d1a6-7fd9-4d75-9e43-ab4194a9faa3",
   "metadata": {},
   "outputs": [],
   "source": []
  },
  {
   "cell_type": "code",
   "execution_count": null,
   "id": "3268c433-693e-4c42-8956-e2dfcc3c6669",
   "metadata": {},
   "outputs": [],
   "source": []
  },
  {
   "cell_type": "code",
   "execution_count": null,
   "id": "7bc5f56d-f6b0-43cd-9dcd-8fcb23a4f32f",
   "metadata": {},
   "outputs": [],
   "source": []
  },
  {
   "cell_type": "code",
   "execution_count": null,
   "id": "b98115ae-dc94-4d06-85b3-8e4e6975b42d",
   "metadata": {},
   "outputs": [],
   "source": []
  },
  {
   "cell_type": "code",
   "execution_count": null,
   "id": "7fb6aa51-f433-4a12-b9d1-0a94e39ba61f",
   "metadata": {},
   "outputs": [],
   "source": []
  },
  {
   "cell_type": "code",
   "execution_count": null,
   "id": "fe95c03e-fa25-475f-90c0-3902959ead3d",
   "metadata": {},
   "outputs": [],
   "source": []
  },
  {
   "cell_type": "code",
   "execution_count": null,
   "id": "05f4d238-03af-4d63-8b5e-6d9582567e67",
   "metadata": {},
   "outputs": [],
   "source": []
  },
  {
   "cell_type": "code",
   "execution_count": null,
   "id": "42a42f51-2210-444f-9035-db6dde7ec8b7",
   "metadata": {},
   "outputs": [],
   "source": []
  },
  {
   "cell_type": "code",
   "execution_count": null,
   "id": "f0bb997d-a982-4860-9f41-ebc095070f54",
   "metadata": {},
   "outputs": [],
   "source": []
  },
  {
   "cell_type": "code",
   "execution_count": null,
   "id": "ff3046ee-892f-4417-b11f-20b66cef61c6",
   "metadata": {},
   "outputs": [],
   "source": [
    "from pyresample import geometry as geom\n",
    "\n",
    "# Store the dimensions for later\n",
    "dims = lat.shape # shape of the swath coordinate array\n",
    "# Get the middle swath latlon\n",
    "midLat, midLon = np.mean(lat), np.mean(lon) \n",
    "\n",
    "# Swath Definition from latlon arrays\n",
    "swathDef = geom.SwathDefinition(lons=lon, lats=lat) # from 'pyresample' geom\n",
    "\n",
    "# Create area definition using coordinate arrays and projection information\n",
    "# Use info from aeqd bbox to calculate output cols/rows/pixel size\n",
    "epsgConvert = pyproj.Proj(\"+proj=aeqd +lat_0={} +lon_0={}\".format(midLat, midLon))\n",
    "llLon, llLat = epsgConvert(np.min(lon), np.min(lat), inverse=False)\n",
    "urLon, urLat = epsgConvert(np.max(lon), np.max(lat), inverse=False)\n",
    "areaExtent = (llLon, llLat, urLon, urLat)\n",
    "cols = int(round((areaExtent[2] - areaExtent[0])/375))  # 375 m pixel size\n",
    "rows = int(round((areaExtent[3] - areaExtent[1])/375))\n",
    "'''Use no. rows and columns generated above from the aeqd projection\n",
    "            to set a representative number of rows and columns, which will then be translated\n",
    "            to degrees below, then take the smaller of the two pixel dims to determine output size'''\n",
    "epsg, proj, pName = '4326', 'longlat', 'Geographic'\n",
    "llLon, llLat, urLon, urLat = np.min(lon), np.min(lat), np.max(lon), np.max(lat)\n",
    "areaExtent = (llLon, llLat, urLon, urLat)\n",
    "projDict = pyproj.CRS(\"epsg:4326\") # geographic coordinate projection\n",
    "areaDef = geom.AreaDefinition(epsg, pName, proj, projDict, cols, rows, areaExtent)\n",
    "ps = np.min([areaDef.pixel_size_x, areaDef.pixel_size_y])  # Square pixels\n",
    "\n",
    "# Now, recalculate the cols, rows, and area definition based on the pixel dimensions in degrees\n",
    "cols = int(round((areaExtent[2] - areaExtent[0])/ps))  # Calculate the output cols\n",
    "rows = int(round((areaExtent[3] - areaExtent[1])/ps))  # Calculate the output rows\n",
    "areaDef = geom.AreaDefinition(epsg, pName, proj, projDict, cols, rows, areaExtent)\n",
    "print(f\"Pixel Dims: {ps};\\nNumber of columns: {cols};\\nNumber of rows: {rows}\\nArea definition shape: {areaDef.shape}\")\n",
    "\n",
    "# Gather the geotransform definition\n",
    "gt = [areaDef.area_extent[0], ps, 0, areaDef.area_extent[3], 0, -ps]\n",
    "print(f\"Geotransform: {gt}\")"
   ]
  },
  {
   "cell_type": "code",
   "execution_count": null,
   "id": "de9edfff-e3a6-4c89-a6a1-30410a011df5",
   "metadata": {},
   "outputs": [],
   "source": [
    "out_fp = os.path.join(projdir,'data/spatial/mod/VIIRS/test_v2.tif')\n",
    "with rio.open(\n",
    "    out_fp,\n",
    "    \"w\",\n",
    "    driver=\"GTiff\",\n",
    "    height=rows,\n",
    "    width=cols,\n",
    "    count=1,\n",
    "    dtype=var_da.dtype,\n",
    "    crs=\"EPSG:4326\",\n",
    "    transform=Affine.from_gdal(*gt),\n",
    ") as dst:\n",
    "    dst.write(var_da, 1)\n",
    "    print(f\"Saved to: {out_fp}\")"
   ]
  },
  {
   "cell_type": "code",
   "execution_count": null,
   "id": "f26787c4-6970-4c91-b0bf-2df150b5398c",
   "metadata": {},
   "outputs": [],
   "source": []
  },
  {
   "cell_type": "code",
   "execution_count": null,
   "id": "2add8d1e-dcb2-4ff0-8c09-c9f058d98936",
   "metadata": {},
   "outputs": [],
   "source": [
    "lat_min, lat_max = 32.360493, 58.472694\n",
    "lon_min, lon_max = -127.53604, -80.160385\n",
    "n_rows, n_cols = latitude.shape\n",
    "pixel_width = (lon_max - lon_min) / n_cols\n",
    "pixel_height = (lat_max - lat_min) / n_rows\n",
    "transform = Affine.translation(lon_min + pixel_width / 2, lat_max - pixel_height / 2) * Affine.scale(pixel_width, -pixel_height)"
   ]
  },
  {
   "cell_type": "code",
   "execution_count": null,
   "id": "9f59afa4-df33-4918-8daf-e39dc60df9ea",
   "metadata": {},
   "outputs": [],
   "source": [
    "n_rows, n_cols = latitude.shape\n",
    "pixel_width = (longitude.max() - longitude.min()) / (n_cols - 1)\n",
    "pixel_height = (latitude.max() - latitude.min()) / (n_rows - 1)\n",
    "print(f\"Pixel width: {pixel_width}\\nPixel height: {pixel_height}\")"
   ]
  },
  {
   "cell_type": "code",
   "execution_count": null,
   "id": "ec70b03a-73bb-4bc7-9ea5-3b38585db75d",
   "metadata": {},
   "outputs": [],
   "source": [
    "# transform = Affine.translation(longitude.min() - pixel_width / 2, latitude.max() + pixel_height / 2) * Affine.scale(pixel_width, -pixel_height)\n",
    "# print(f\"Geotransform:{transform}\")"
   ]
  },
  {
   "cell_type": "code",
   "execution_count": null,
   "id": "77174b0c-63b3-42b3-848c-9773f31ef539",
   "metadata": {},
   "outputs": [],
   "source": []
  },
  {
   "cell_type": "code",
   "execution_count": null,
   "id": "ea61ef14-c593-465b-b057-e1417b454ddb",
   "metadata": {},
   "outputs": [],
   "source": []
  },
  {
   "cell_type": "code",
   "execution_count": null,
   "id": "1d60d05a-d638-405f-8d72-086d714fb4fa",
   "metadata": {},
   "outputs": [],
   "source": []
  },
  {
   "cell_type": "code",
   "execution_count": null,
   "id": "2fa69198-76c9-4402-9a7d-deea2c856e21",
   "metadata": {},
   "outputs": [],
   "source": [
    "day_night_flag = ds.getncattr('DayNightFlag')\n",
    "print(day_night_flag)"
   ]
  },
  {
   "cell_type": "code",
   "execution_count": null,
   "id": "f4ff07c7-5ded-4dde-8ea3-a8e326399148",
   "metadata": {},
   "outputs": [],
   "source": [
    "# Print a list of variables in file\n",
    "print(list(ds.variables))\n",
    "print(\"\\n~~~~~~~~~~~~~~~~~~~~~~~~~~~~~~~~~~~~~~~~~~~~~~~~~~~~~~~\\n\")\n",
    "print(list(ds03.variables))"
   ]
  },
  {
   "cell_type": "code",
   "execution_count": null,
   "id": "442c7adc-2c76-4f38-aa63-a081ba4c395b",
   "metadata": {},
   "outputs": [],
   "source": []
  },
  {
   "cell_type": "code",
   "execution_count": null,
   "id": "df50b959-5981-4760-9159-0ff0847cce21",
   "metadata": {},
   "outputs": [],
   "source": [
    "ds.getncattr('PlatformShortName')"
   ]
  },
  {
   "cell_type": "code",
   "execution_count": null,
   "id": "2039c1f0-a2b3-4224-aa7d-4d6b29017e46",
   "metadata": {},
   "outputs": [],
   "source": [
    "print(ds.variables[''])"
   ]
  },
  {
   "cell_type": "code",
   "execution_count": null,
   "id": "ad9d015f-1d87-4e50-b928-43232fb9850f",
   "metadata": {},
   "outputs": [],
   "source": [
    "print(ds.variables['FP_confidence'][:])"
   ]
  },
  {
   "cell_type": "code",
   "execution_count": null,
   "id": "3827bb77-28bc-4b73-893d-488be66739d5",
   "metadata": {},
   "outputs": [],
   "source": [
    "# Extract the acquisition date and time from the NetCDF file\n",
    "start_time_str = ds.getncattr('PGE_StartTime')\n",
    "acq_datetime = datetime.strptime(start_time_str, '%Y-%m-%d %H:%M:%S.%f')\n",
    "# Calculate Julian Day\n",
    "julian_day = acq_datetime.timetuple().tm_yday\n",
    "\n",
    "print(f'Acquisition date/time: {acq_datetime}')\n",
    "print(f'Acquisition Julian Day: {julian_day}')"
   ]
  },
  {
   "cell_type": "code",
   "execution_count": null,
   "id": "70397ade-63e4-4e44-a90e-5661382f75dc",
   "metadata": {},
   "outputs": [],
   "source": [
    "# Extract fire pixel information\n",
    "latitudes = ds.variables['FP_latitude'][:]\n",
    "longitudes = ds.variables['FP_longitude'][:]\n",
    "fire_radiative_power = ds.variables['FP_power'][:]\n",
    "fire_confidence = ds.variables['FP_confidence'][:]\n",
    "day_night = ds.variables['FP_day'][:]\n",
    "\n",
    "# Create a DataFrame with the fire pixel data\n",
    "fire_data = pd.DataFrame({\n",
    "    'latitude': latitudes,\n",
    "    'longitude': longitudes,\n",
    "    'fire_radiative_power': fire_radiative_power,\n",
    "    'fire_confidence': fire_confidence,\n",
    "    'day_night': day_night,\n",
    "    'acq_datetime': acq_datetime,\n",
    "    'acq_julian_day': julian_day\n",
    "})\n",
    "\n",
    "fire_data.head()"
   ]
  },
  {
   "cell_type": "code",
   "execution_count": null,
   "id": "1a077c2e-0e5b-4470-b3cf-4326af579942",
   "metadata": {},
   "outputs": [],
   "source": [
    "print(len(fire_data))"
   ]
  },
  {
   "cell_type": "code",
   "execution_count": null,
   "id": "4ebad434-f1c0-4448-b83b-cf284f520e9a",
   "metadata": {},
   "outputs": [],
   "source": [
    "import folium\n",
    "from folium.plugins import MarkerCluster\n",
    "\n",
    "# Create a Folium map centered around the mean latitude and longitude\n",
    "m = folium.Map(location=[fire_data['latitude'].mean(), fire_data['longitude'].mean()], zoom_start=6)\n",
    "\n",
    "# Add a marker cluster to the map\n",
    "marker_cluster = MarkerCluster().add_to(m)\n",
    "\n",
    "# Add markers to the map\n",
    "for idx, row in fire_data.iterrows():\n",
    "    folium.Marker(\n",
    "        location=[row['latitude'], row['longitude']],\n",
    "        popup=f'FRP: {row[\"fire_radiative_power\"]}',\n",
    "        icon=folium.Icon(color='red')\n",
    "    ).add_to(marker_cluster)\n",
    "\n",
    "# Display the map\n",
    "m.save('fire_radiative_power_map.html')\n",
    "m"
   ]
  }
 ],
 "metadata": {
  "kernelspec": {
   "display_name": "aspen-fire",
   "language": "python",
   "name": "aspen-fire"
  },
  "language_info": {
   "codemirror_mode": {
    "name": "ipython",
    "version": 3
   },
   "file_extension": ".py",
   "mimetype": "text/x-python",
   "name": "python",
   "nbconvert_exporter": "python",
   "pygments_lexer": "ipython3",
   "version": "3.10.12"
  }
 },
 "nbformat": 4,
 "nbformat_minor": 5
}
