{
 "cells": [
  {
   "cell_type": "markdown",
   "id": "0ce966a4-8d04-4c48-b714-cbbc9d534856",
   "metadata": {},
   "source": [
    "## Preparation of FRP Observations for Wildfire Perimeters (2018-2023)\n",
    "\n",
    "In this notebook, we gather and process fire radiative power (FRP) observations from both VIIRS and MODIS for wildfire events with at least 5% pre-fire quaking aspen forest cover in the western US. "
   ]
  },
  {
   "cell_type": "code",
   "execution_count": 19,
   "id": "4d797da2-4f14-4307-bafa-ef51add6105c",
   "metadata": {},
   "outputs": [
    {
     "name": "stdout",
     "output_type": "stream",
     "text": [
      "Complete\n"
     ]
    }
   ],
   "source": [
    "\"\"\"\n",
    "Wildfire perimeters:\n",
    "- Gather wildfire perimeters from FIRED (2018-2023) for the western US\n",
    "- Calculate the LANDFIRE EVT (ca. 2016) categorical percentages\n",
    "- Filter for wildfires where aspen cover >= 5%\n",
    "\n",
    "Fire Radiative Power (FRP):\n",
    "Read in the archived FRP data from the SUOMI VIIRS C2 (375m Obs.) as shapefile for the western U.S. (2018-2023)\n",
    "Downloaded for western US from the LAADS archive: https://firms.modaps.eosdis.nasa.gov/download/\n",
    "- Extract VIIRS observations within aspen wildfires\n",
    "- Filter out low confidence observations\n",
    "- Create the VIIRS \"plot\" using a square 375m buffer\n",
    "\n",
    "Save these files out for further analysis and to ingest into Google Earth Engine\n",
    "\n",
    "maxwell.cook@colorado.edu\n",
    "\"\"\"\n",
    "\n",
    "import os, time, glob\n",
    "import numpy as np\n",
    "\n",
    "import pandas as pd\n",
    "import geopandas as gpd\n",
    "import rioxarray as rxr\n",
    "import rasterio as rio\n",
    "import matplotlib\n",
    "import matplotlib.pyplot as plt\n",
    "import seaborn as sns\n",
    "\n",
    "from rasterstats import zonal_stats\n",
    "\n",
    "proj = 'EPSG:5070'\n",
    "\n",
    "maindir = '/Users/max/Library/CloudStorage/OneDrive-Personal/mcook/'\n",
    "projdir = os.path.join(maindir, 'aspen-fire/Aim2/')\n",
    "\n",
    "print(\"Complete\")"
   ]
  },
  {
   "cell_type": "markdown",
   "id": "d4e9a7b5-ce88-4e9c-af46-a0cc048d75c1",
   "metadata": {},
   "source": [
    "## Wrangle the Fire Data\n",
    "\n",
    "First, we need to identify wildfire events across the western U.S. which had at least 5% pre-fire aspen cover. We start with a database of FIRED events extracted to western US states. We then calculate the zonal histogram from the LANDFIRE EVT (ca. 2016 remap). From there, we can identify wildfires with >5% aspen cover.\n",
    "\n",
    "#### Step 1. Calculate LANDFIRE EVT cover type (%) for each fire\n",
    "\n",
    "To start with, we will calculate the % cover for different land cover types within fire perimeters using FIRED and LANDFIRE EVT (ca. 2016 remap)."
   ]
  },
  {
   "cell_type": "code",
   "execution_count": 2,
   "id": "8e8d3aa6-c59b-4cb0-a4c5-a8146b306f19",
   "metadata": {},
   "outputs": [
    {
     "name": "stdout",
     "output_type": "stream",
     "text": [
      "2018, 2023\n",
      "There are 8867 unique fire events.\n"
     ]
    }
   ],
   "source": [
    "# Load the FIRED perimeters (2018-2022)\n",
    "fired_path = os.path.join(maindir,'aspen-fire/Aim2/data/spatial/mod/FIRED/fired_events_west.gpkg')\n",
    "fired = gpd.read_file(fired_path).to_crs(proj)\n",
    "fired['ig_year'] = fired['ig_year'].astype(int)\n",
    "fired = fired[(fired['ig_year'] >= 2018) & (fired['ig_year'] <= 2023)]\n",
    "\n",
    "# Tidy some of the columns\n",
    "fired = fired.rename(columns={'id': 'fired_id'})\n",
    "fired['fired_id'] = fired['fired_id'].astype(str)\n",
    "fired['ig_year'] = fired['ig_year'].astype(int)\n",
    "\n",
    "print(f\"Start year: {fired['ig_year'].min()}, end year:{fired['ig_year'].max()}\")\n",
    "print(f\"There are {len(fired['fired_id'].unique())} unique fire events.\")"
   ]
  },
  {
   "cell_type": "code",
   "execution_count": 3,
   "id": "9f86efef-a859-4ff6-abfb-a2758c4c02e9",
   "metadata": {},
   "outputs": [
    {
     "name": "stdout",
     "output_type": "stream",
     "text": [
      "Shape: (97283, 154207); \n",
      "GeoTransform: -2362425.0 30.0 0.0 3177435.0 0.0 -30.0; \n",
      "WKT: EPSG:5070; \n",
      "NoData Value: nan; \n",
      "Data Type: float32\n"
     ]
    }
   ],
   "source": [
    "# Load the LANDFIRE EVT (ca. 2016)\n",
    "evt_path = os.path.join(maindir,'data/landcover/LANDFIRE/LF2016_EVT_200_CONUS/Tif/LC16_EVT_200.tif')\n",
    "evt = rxr.open_rasterio(evt_path, masked=True).squeeze()\n",
    "shp, gt, wkt, nd = evt.shape, evt.spatial_ref.GeoTransform, evt.rio.crs, evt.rio.nodata\n",
    "print(\n",
    "    f\"Shape: {shp}; \\n\"\n",
    "    f\"GeoTransform: {gt}; \\n\"\n",
    "    f\"WKT: {wkt}; \\n\"\n",
    "    f\"NoData Value: {nd}; \\n\"\n",
    "    f\"Data Type: {evt[0].dtype}\")"
   ]
  },
  {
   "cell_type": "code",
   "execution_count": 4,
   "id": "cdcf556b-a298-4834-b203-86cedad952f7",
   "metadata": {},
   "outputs": [
    {
     "name": "stdout",
     "output_type": "stream",
     "text": [
      "Total elapsed time: 81 seconds.\n"
     ]
    }
   ],
   "source": [
    "# Calculate the percent cover from the LANDFIRE EVT\n",
    "\n",
    "t0 = time.time()\n",
    "\n",
    "# Run the zonal statistics function (categorical raster data)\n",
    "zs = zonal_stats(vectors=fired[['fired_id','geometry']], raster=evt_path, categorical=True, geojson_out=True)\n",
    "\n",
    "# Extract the results as a geodataframe\n",
    "stats = gpd.GeoDataFrame(zs).fillna(0) #One column per raster category, and pixel count as value\n",
    "\n",
    "print(stats.head())\n",
    "print(len(stats['id'].unique()))\n",
    "\n",
    "del zs, evt, shp, gt, wkt, nd\n",
    "\n",
    "print(f\"Total elapsed time: {round((time.time() - t0))} seconds.\")"
   ]
  },
  {
   "cell_type": "code",
   "execution_count": 6,
   "id": "5bdd67f2-4d3b-4d53-a400-e147d16ce591",
   "metadata": {},
   "outputs": [
    {
     "name": "stdout",
     "output_type": "stream",
     "text": [
      "  fired_id   EVT  pixel_count  total_pixels  pct_cover\n",
      "0       10  7035            1           242   0.413223\n",
      "1       10  7037           99           242  40.909091\n",
      "2       10  7039           81           242  33.471074\n",
      "3       10  7043           54           242  22.314050\n",
      "4       10  7063            2           242   0.826446\n",
      "Index(['fired_id', 'EVT', 'pixel_count', 'total_pixels', 'pct_cover'], dtype='object')\n",
      "8867\n"
     ]
    }
   ],
   "source": [
    "# Explore the properties json\n",
    "\n",
    "# First get the fired_id\n",
    "stats['fired_id'] = stats['properties'].apply(lambda x: x.get('fired_id'))\n",
    "# Retrieve the other properties (EVT codes)\n",
    "stats['properties'] = stats['properties'].apply(lambda x: {key: val for key, val in x.items() if key != 'fired_id'})\n",
    "stats['properties_list'] = stats['properties'].apply(lambda x: list(x.items()))\n",
    "\n",
    "# Explode the json object\n",
    "props = stats.explode('properties_list').reset_index(drop=True)\n",
    "# retrieve the list items as new columns\n",
    "props[['EVT', 'pixel_count']] = pd.DataFrame(props['properties_list'].tolist(), index=props.index)\n",
    "props = props[['fired_id','EVT','pixel_count']].reset_index(drop=True)\n",
    "\n",
    "# Calculate the percent of each class\n",
    "total_pixels = props.groupby(props['fired_id'])['pixel_count'].transform('sum')\n",
    "props['total_pixels'] = total_pixels\n",
    "props['pct_cover'] = (props['pixel_count'] / props['total_pixels']) * 100\n",
    "\n",
    "print(props.head())\n",
    "print(props.columns)\n",
    "print(len(props['fired_id'].unique()))\n",
    "\n",
    "del stats, total_pixels"
   ]
  },
  {
   "cell_type": "code",
   "execution_count": 8,
   "id": "b983c164-e6cd-4a07-8f47-01cc801e5aa1",
   "metadata": {},
   "outputs": [
    {
     "name": "stdout",
     "output_type": "stream",
     "text": [
      "Index(['VALUE', 'EVT_NAME', 'LFRDB', 'EVT_FUEL', 'EVT_FUEL_N', 'EVT_LF',\n",
      "       'EVT_PHYS', 'EVT_GP', 'EVT_GP_N', 'SAF_SRM', 'EVT_ORDER', 'EVT_CLASS',\n",
      "       'EVT_SBCLS', 'R', 'G', 'B', 'RED', 'GREEN', 'BLUE'],\n",
      "      dtype='object')\n"
     ]
    }
   ],
   "source": [
    "# Read in the lookup table for the EVT codes\n",
    "lookup = os.path.join(maindir,'data/landcover/LANDFIRE/LF2016_EVT_200_CONUS/CSV_Data/LF16_EVT_200.csv')\n",
    "lookup = pd.read_csv(lookup)\n",
    "print(lookup.columns)"
   ]
  },
  {
   "cell_type": "code",
   "execution_count": 9,
   "id": "d457a4ca-8f8b-45ec-ad43-a4b13fec6e17",
   "metadata": {},
   "outputs": [
    {
     "name": "stdout",
     "output_type": "stream",
     "text": [
      "  fired_id   EVT  pixel_count  total_pixels  pct_cover  VALUE  \\\n",
      "0       10  7035            1           242   0.413223   7035   \n",
      "1       10  7037           99           242  40.909091   7037   \n",
      "2       10  7039           81           242  33.471074   7039   \n",
      "3       10  7043           54           242  22.314050   7043   \n",
      "4       10  7063            2           242   0.826446   7063   \n",
      "\n",
      "                                            EVT_NAME  EVT_PHYS  \\\n",
      "0  North Pacific Dry Douglas-fir-(Madrone) Forest...   Conifer   \n",
      "1  North Pacific Maritime Dry-Mesic Douglas-fir-W...   Conifer   \n",
      "2  North Pacific Maritime Mesic-Wet Douglas-fir-W...   Conifer   \n",
      "3    Mediterranean California Mixed Evergreen Forest   Conifer   \n",
      "4           North Pacific Broadleaf Landslide Forest  Hardwood   \n",
      "\n",
      "                                          EVT_GP_N           EVT_CLASS  \n",
      "0                  Douglas-fir Forest and Woodland  Closed tree canopy  \n",
      "1  Douglas-fir-Western Hemlock Forest and Woodland  Closed tree canopy  \n",
      "2  Douglas-fir-Western Hemlock Forest and Woodland  Closed tree canopy  \n",
      "3   California Mixed Evergreen Forest and Woodland  Closed tree canopy  \n",
      "4                    Red Alder Forest and Woodland  Closed tree canopy  \n",
      "8867\n"
     ]
    }
   ],
   "source": [
    "# Subset the codes we want to join, join back to the dataframe\n",
    "lookup = lookup[['VALUE','EVT_NAME','EVT_PHYS','EVT_GP_N','EVT_CLASS']]\n",
    "# Merge back to the data\n",
    "props_df = props.merge(lookup, left_on='EVT', right_on='VALUE', how='left')\n",
    "\n",
    "print(props_df.head())\n",
    "print(len(props_df['fired_id'].unique()))\n",
    "\n",
    "del lookup"
   ]
  },
  {
   "cell_type": "markdown",
   "id": "e10b35a3-30e9-442f-9349-1d46b1867d29",
   "metadata": {},
   "source": [
    "### Step 2. Identify fires with at least 5% aspen forest cover\n",
    "\n",
    "Now that we have a data frame of landcover types for each wildfire, we can isolate the quaking aspen cover types and identify wildfires which had at least 5% pre-fire aspen forest cover."
   ]
  },
  {
   "cell_type": "code",
   "execution_count": 10,
   "id": "12fc99ea-1324-48c7-b6ae-86d08ab0efb5",
   "metadata": {},
   "outputs": [
    {
     "name": "stdout",
     "output_type": "stream",
     "text": [
      "['Rocky Mountain Aspen Forest and Woodland'\n",
      " 'Inter-Mountain Basins Aspen-Mixed Conifer Forest and Woodland'\n",
      " 'Northwestern Great Plains Aspen Forest and Parkland']\n"
     ]
    }
   ],
   "source": [
    "# Identify classes with 'aspen' in the EVT_NAME\n",
    "aspen_evt = props_df[props_df['EVT_NAME'].str.contains('aspen', case=False, na=False)]['EVT_NAME'].unique()\n",
    "print(aspen_evt)"
   ]
  },
  {
   "cell_type": "code",
   "execution_count": 11,
   "id": "bf72cb6e-5d33-4718-b74e-a464714e70dc",
   "metadata": {},
   "outputs": [
    {
     "name": "stdout",
     "output_type": "stream",
     "text": [
      "     fired_id  pct_aspen\n",
      "7      189371  11.475541\n",
      "14     189505  13.211368\n",
      "15     189508  58.033241\n",
      "16     189514  61.787865\n",
      "17     189516  10.328717\n",
      "...       ...        ...\n",
      "1291    81343  24.608150\n",
      "1292    81348   7.935393\n",
      "1293    81355  10.354413\n",
      "1297    82007   7.802875\n",
      "1298    82031   6.261520\n",
      "\n",
      "[420 rows x 2 columns]\n"
     ]
    }
   ],
   "source": [
    "# Now filter to retain wildfire events with at least 5% aspen forest cover\n",
    "props_filtered = props_df[props_df['EVT_NAME'].isin(aspen_evt)]\n",
    "aspen_sum = props_filtered.groupby('fired_id')['pct_cover'].sum().reset_index() # get the sum of aspen classes\n",
    "aspen_sum['pct_aspen'] = aspen_sum['pct_cover']  # rename the column to retain aspen percent\n",
    "aspen_fires = aspen_sum[aspen_sum['pct_aspen'] >= 5] # retain fires with >= 5% \n",
    "aspen_fires = aspen_fires[['fired_id','pct_aspen']] # subset columns\n",
    "print(aspen_fires)"
   ]
  },
  {
   "cell_type": "code",
   "execution_count": 13,
   "id": "7724fc10-3542-450b-af07-484ecc16f906",
   "metadata": {},
   "outputs": [
    {
     "name": "stdout",
     "output_type": "stream",
     "text": [
      "Number of common IDs: 420\n",
      "Index(['fired_id', 'ig_date', 'ig_day', 'ig_month', 'ig_year', 'last_date',\n",
      "       'event_dur', 'tot_pix', 'tot_ar_km2', 'fsr_px_dy', 'fsr_km2_dy',\n",
      "       'mx_grw_px', 'mn_grw_px', 'mu_grw_px', 'mx_grw_km2', 'mn_grw_km2',\n",
      "       'mu_grw_km2', 'mx_grw_dte', 'x', 'y', 'ig_utm_x', 'ig_utm_y', 'lc_code',\n",
      "       'lc_mode', 'lc_name', 'lc_desc', 'lc_type', 'eco_mode', 'eco_name',\n",
      "       'eco_type', 'tot_perim', 'geometry', 'pct_aspen'],\n",
      "      dtype='object')\n"
     ]
    }
   ],
   "source": [
    "# Join back to the FIRED data\n",
    "# Check for matching fired_id set\n",
    "common_ids = set(fired['fired_id']).intersection(set(aspen_fires['fired_id'])) # Find intersection\n",
    "print(f\"Number of common IDs: {len(common_ids)}\")\n",
    "\n",
    "# Join the attribute data to FIRED polygons\n",
    "fired['fired_id'] = fired['fired_id'].astype(str)\n",
    "aspen_fires['fired_id'] = aspen_fires['fired_id'].astype(str)\n",
    "\n",
    "# Join aspen percent to the FIRED data\n",
    "fired_aspen = pd.merge(fired, aspen_fires, on='fired_id', how='inner')\n",
    "print(fired_aspen.columns)\n",
    "\n",
    "# Save this file out\n",
    "fired_aspen = fired_aspen.to_crs(proj)  # ensure the correct projection before exporting\n",
    "fired_aspen.to_file(os.path.join(maindir,'aspen-fire/Aim2/data/spatial/mod/FIRED/fired_events_west_aspen_all_gt5pct.gpkg'))"
   ]
  },
  {
   "cell_type": "code",
   "execution_count": 16,
   "id": "99305123-b1c3-4a01-8430-f5e6c0fce738",
   "metadata": {},
   "outputs": [
    {
     "data": {
      "image/png": "[encoded data removed]",
      "text/plain": [
       "<Figure size 600x600 with 2 Axes>"
      ]
     },
     "metadata": {},
     "output_type": "display_data"
    }
   ],
   "source": [
    "# Spatial map of aspen wildfires (centroid)\n",
    "\n",
    "# Load the state boundaries\n",
    "states = gpd.read_file(os.path.join(maindir,'data/boundaries/political/TIGER/tl19_us_states_west_nad83.gpkg'))\n",
    "\n",
    "# Generate centroids\n",
    "centroid = fired_aspen.copy()\n",
    "centroid['geometry'] = centroid.geometry.centroid\n",
    "\n",
    "# Make a spatial map of the centroids now\n",
    "fig, ax = plt.subplots(figsize=(6, 6))\n",
    "\n",
    "states.plot(ax=ax, edgecolor='black', linewidth=1, color='none')\n",
    "\n",
    "# Plot centroids\n",
    "centroid['size'] = centroid['pct_aspen'] * 10  # Adjust the scaling factor as necessary\n",
    "centroid.plot(\n",
    "    ax=ax, markersize=centroid['pct_aspen'], \n",
    "    column='pct_aspen', cmap='viridis', \n",
    "    legend=True, alpha=0.6, \n",
    "    legend_kwds={'label': \"Aspen Percent\"})\n",
    "\n",
    "# Optional: Plot the original fire perimeters for context\n",
    "fired_aspen.plot(ax=ax, color='none', edgecolor='gray', linewidth=0.5)\n",
    "\n",
    "plt.xlabel('Longitude')\n",
    "plt.ylabel('Latitude')\n",
    "plt.grid(True)\n",
    "\n",
    "del centroid\n",
    "\n",
    "# Save the map as a PNG\n",
    "plt.savefig(os.path.join(projdir, 'figures/Fig1_all_aspen_fires.png'), dpi=300, bbox_inches='tight')\n",
    "\n",
    "plt.show()"
   ]
  },
  {
   "cell_type": "markdown",
   "id": "fa95a47c-1c54-488c-8e56-9524bcf30666",
   "metadata": {},
   "source": [
    "#### Extract the daily fire perimeters for the aspen wildfire subset\n",
    "\n",
    "We need to also extract the daily fire perimeters from FIRED so we can perform further analysis on the temporal patterns of fire growth as it relates to aspen cover, etc."
   ]
  },
  {
   "cell_type": "code",
   "execution_count": 17,
   "id": "4b2f8523-d1f4-466e-9b20-068f6cfc8f4d",
   "metadata": {},
   "outputs": [
    {
     "name": "stdout",
     "output_type": "stream",
     "text": [
      "420\n"
     ]
    }
   ],
   "source": [
    "# Get the list of IDs\n",
    "ids = aspen_fires['fired_id'].unique()\n",
    "\n",
    "# Load the daily polygons, subset to aspen fires\n",
    "daily_path = os.path.join(maindir,'FIRED/data/spatial/raw/events/events_040324/shapefiles/fired_conus_ak_2000_to_2024_daily.gpkg')\n",
    "daily = gpd.read_file(daily_path)\n",
    "daily['id'] = daily['id'].astype(str)\n",
    "daily = daily[daily['id'].isin(ids)]\n",
    "print(len(daily['id'].unique()))\n",
    "\n",
    "# Save out\n",
    "daily = daily.to_crs(proj)  # ensure the correct projection before exporting\n",
    "daily.to_file(os.path.join(projdir,'data/spatial/mod/FIRED/fired_daily_west_aspen_all_gt5pct.gpkg'))"
   ]
  },
  {
   "cell_type": "markdown",
   "id": "09ed7417-3d84-41b8-96b7-2378b645f9e8",
   "metadata": {},
   "source": [
    "## Step 3. Wrangle the MODIS 1km and VIIRS 375m Active Fire Detections (AFD)\n",
    "\n",
    "We downloaded the archive AFD for MODIS Collection 6.1 (1km), the Suomi National Polar-Orbiting Partnership (VIIRS S-NPP 375m) and NOAA-20 (VIIRS NOAA-20 375m) data products from the NASA FIRMS (https://firms.modaps.eosdis.nasa.gov/download/) between 2018-2023 in the western US. \n",
    "\n",
    "The VIIRS observations are split into archive (2018-2022) and \"NRT\" (2022-2023). These files need to be merged prior to performing the tidying.\n",
    "\n",
    "To start with, we will create a tidy database of VIIRS observations for both the S-NPP and NOAA-20 vintages. Then, we will look at creating a combined dataset."
   ]
  },
  {
   "cell_type": "code",
   "execution_count": null,
   "id": "09c6fade-c645-48c0-a9ff-b3d132d0149f",
   "metadata": {},
   "outputs": [
    {
     "name": "stdout",
     "output_type": "stream",
     "text": [
      "Processing: MOD61\n",
      "['fire_archive_M-C61_476781.shp']\n"
     ]
    }
   ],
   "source": [
    "t0 = time.time()\n",
    "\n",
    "# Set up the file paths\n",
    "\n",
    "modis = os.path.join(projdir,'data/spatial/raw/NASA-FIRMS/DL_FIRE_M-C61_476781/')\n",
    "snpp = os.path.join(projdir,'data/spatial/raw/NASA-FIRMS/DL_FIRE_SV-C2_476784/')\n",
    "noaa = os.path.join(projdir,'data/spatial/raw/NASA-FIRMS/DL_FIRE_J1V-C2_476782/')\n",
    "\n",
    "# Store these in a dictionary\n",
    "dict = {\n",
    "    \"MOD61\": modis,\n",
    "    \"SNPP\": snpp,\n",
    "    \"NOAA-20\": noaa\n",
    "}\n",
    "\n",
    "# Process each of the archive data products\n",
    "gdfs = {} # dictionary to store the geo data frames\n",
    "for key, path in dict.items():\n",
    "    print(f'Processing: {key}')\n",
    "    # Read in the archive vector data\n",
    "    vect = glob.glob(path+\"*.shp\")\n",
    "    print([os.path.basename(v) for v in vect])\n",
    "    if len(vect) > 1:\n",
    "        print(\"~Merging archive and NRT data.\")\n",
    "        archive = gpd.read_file([v for v in vect if \"archive\" in v][0]).to_crs(proj)\n",
    "        nrt = gpd.read_file([v for v in vect if \"nrt\" in v][0]).to_crs(proj)\n",
    "        # Concatenate the archive and NRT\n",
    "        afd = pd.concat([archive, nrt], ignore_index=True)\n",
    "        del archive, nrt\n",
    "    else:\n",
    "        afd = gpd.read_file(vect[0]).to_crs(proj)\n",
    "\n",
    "    # Add some attribute information\n",
    "    afd['VID'] = afd.index # unique ID column\n",
    "\n",
    "    # Remove low-confidence observations\n",
    "    try:\n",
    "        afd = afd[afd['CONFIDENCE'] != 'l']\n",
    "    except KeyError as e:\n",
    "        print(f\"KeyError: {e}\")\n",
    "\n",
    "    del vect\n",
    "\n",
    "    #################################################\n",
    "    # Extract AFDs within wildfire data (aspen fires)\n",
    "    # Buffer fire perimeters by 1km\n",
    "    fire_buffer = fired_aspen.copy()\n",
    "    fire_buffer['geometry'] = fire_buffer.geometry.buffer(1000)\n",
    "    fire_buffer = fire_buffer[['fired_id','ig_date','last_date','geometry']] \n",
    "    # Extract AFDs\n",
    "    afd_aspen = gpd.sjoin(afd, fire_buffer, how='inner', predicate='within')\n",
    "\n",
    "    del fire_buffer\n",
    "    \n",
    "    ####################################################\n",
    "    # Perform temporal filtering to remove false matches\n",
    "\n",
    "    # First, create date columns\n",
    "    afd_aspen['ACQ_DATE'] = pd.to_datetime(afd_aspen['ACQ_DATE'])\n",
    "    afd_aspen['ACQ_MONTH'] = afd_aspen['ACQ_DATE'].dt.month.astype(int)\n",
    "    afd_aspen['ACQ_YEAR'] = afd_aspen['ACQ_DATE'].dt.year.astype(int)\n",
    "    afd_aspen['ig_date'] = pd.to_datetime(afd_aspen['ig_date'])\n",
    "    afd_aspen['last_date'] = pd.to_datetime(afd_aspen['last_date'])\n",
    "\n",
    "    # Filter based on ignition month and year\n",
    "    afd_aspen_f = afd_aspen[\n",
    "        (afd_aspen['ACQ_YEAR'] >= afd_aspen['ig_year']) & \n",
    "        (afd_aspen['ACQ_MONTH'] >= afd_aspen['ig_month']) &\n",
    "        (afd_aspen['ACQ_YEAR'] <= afd_aspen['last_date'].dt.year) &\n",
    "        (afd_aspen['ACQ_MONTH'] <= afd_aspen['last_date'].dt.month)\n",
    "    ]\n",
    "    \n",
    "    # Keep unique rows\n",
    "    afd_aspen_f = afd_aspen_f.drop_duplicates(subset='VID', keep='first')    \n",
    "    print(f\"Number of observations after filtering: {afd_aspen_f['VID'].nunique()}\")\n",
    "    print(f\"Columns: \\n {afd_aspen_f.columns()}\")\n",
    "\n",
    "    # Get a count per fire\n",
    "    afd_counts = afd_aspen_f.groupby('fired_id').size().reset_index(name='counts')\n",
    "    print(f\"Minimum obs./fire: {afd_counts['counts'].min()}; \\n Maximum obs./fire: {afd_counts['counts'].max()}\")\n",
    "\n",
    "    del afd_aspen\n",
    "    \n",
    "    #############################################\n",
    "    # Remove fires with less than 10 observations\n",
    "\n",
    "    # Get a list of IDs of fires with > 10 obs.\n",
    "    ids = afd_counts[afd_counts[\"counts\"] >= 10]\n",
    "    # Grab the new list of unique FIRED ids\n",
    "    ids = ids['fired_id'].unique().tolist()\n",
    "    # Filter the datasets based on these FIRED ids\n",
    "    afd_aspen_f = afd_aspen_f[afd_aspen_f['fired_id'].isin(ids)]\n",
    "    fired_aspen_f = fired_aspen[fired_aspen['fired_id'].isin(ids)]\n",
    "    \n",
    "    print(f\"Number of fires after filtering: {len(fired_aspen_f)}\")\n",
    "    print(f\"Number of obs. after filtering: {len(afd_aspen_f)}\")\n",
    "\n",
    "    del afd_counts, ids\n",
    "    \n",
    "    #################################################\n",
    "    # Plot the distribution of observations over time\n",
    "    plt.figure(figsize=(6, 4))\n",
    "    afd_aspen_f['ACQ_DATE'].hist(bins=100)\n",
    "    plt.title(f'Number of Active Fire Detections Over Time ({key})')\n",
    "    plt.xlabel('Date')\n",
    "    plt.ylabel('Number of Observations')\n",
    "    plt.tight_layout()\n",
    "    plt.show()\n",
    "    \n",
    "    ##############################\n",
    "    # Append to the new dictionary\n",
    "    gdfs[key] = afd_aspen_f\n",
    "\n",
    "print(f\"Total elapsed time: {round((time.time() - t0))} seconds.\")"
   ]
  },
  {
   "cell_type": "code",
   "execution_count": null,
   "id": "0eda0b45-e6f6-4674-a4d8-4cabfcf74f63",
   "metadata": {},
   "outputs": [],
   "source": [
    "# Load the VIIRS archive shapefile\n",
    "frp_archive = os.path.join(maindir,'aspen-fire/Aim2/data/spatial/raw/VIIRS/DL_FIRE_SV-C2_438955/fire_archive_SV-C2_438955.shp')\n",
    "frp_archive = gpd.read_file(frp_archive).to_crs(proj)\n",
    "print(frp_archive.head())\n",
    "print(frp_archive.columns)\n",
    "len(frp_archive)"
   ]
  },
  {
   "cell_type": "code",
   "execution_count": null,
   "id": "f48ec339-0373-41df-a45f-cf8da8d6039a",
   "metadata": {},
   "outputs": [],
   "source": [
    "# Load the VIIRS archive shapefile\n",
    "frp_nrt = os.path.join(maindir,'aspen-fire/Aim2/data/spatial/raw/VIIRS/DL_FIRE_SV-C2_438955/fire_nrt_SV-C2_438955.shp')\n",
    "frp_nrt = gpd.read_file(frp_nrt).to_crs(proj)\n",
    "print(frp_nrt.columns)\n",
    "len(frp_nrt)"
   ]
  },
  {
   "cell_type": "code",
   "execution_count": null,
   "id": "b64d55a4-dc0e-4cc5-b497-517446eac6aa",
   "metadata": {},
   "outputs": [],
   "source": [
    "# Merge the archive and NRT data\n",
    "frp = pd.concat([frp_archive, frp_nrt], ignore_index=True)\n",
    "\n",
    "# Add a unique ID column\n",
    "frp['VID'] = frp.index\n",
    "print(frp['VID'].nunique())\n",
    "\n",
    "# Check the lastg date of observation\n",
    "print(frp['ACQ_DATE'].max())\n",
    "\n",
    "del frp_archive, frp_nrt  # clean up"
   ]
  },
  {
   "cell_type": "code",
   "execution_count": null,
   "id": "34154682-4759-4519-84ed-fcbf4b43bd96",
   "metadata": {},
   "outputs": [],
   "source": [
    "# Extract VIIRS obs. within aspen fires (1km buffer)\n",
    "      \n",
    "# Buffer the fires by 1km\n",
    "fired_aspen_1km = fired_aspen.copy()\n",
    "fired_aspen_1km['geometry'] = fired_aspen_1km.geometry.buffer(1000)\n",
    "\n",
    "# Extract VIIRS obs.\n",
    "frp_aspen = gpd.sjoin(frp, fired_aspen_1km, how='inner', predicate='within')\n",
    "\n",
    "frp_aspen = frp_aspen[[\n",
    "    'VID','LATITUDE', 'LONGITUDE', 'ACQ_DATE', 'ACQ_TIME', 'CONFIDENCE', \n",
    "    'FRP', 'DAYNIGHT', 'fired_id', 'ig_date', 'ig_day', 'ig_month', \n",
    "    'ig_year', 'last_date', 'event_dur', 'tot_ar_km2', 'fsr_km2_dy',\n",
    "    'mx_grw_km2', 'mn_grw_km2','mu_grw_km2', 'mx_grw_dte', 'ig_utm_x', 'ig_utm_y',\n",
    "    'tot_perim', 'pct_aspen', 'geometry']]\n",
    "\n",
    "print(frp_aspen.head())\n",
    "print(len(frp_aspen))\n",
    "print(frp_aspen['VID'].nunique())\n",
    "print(frp_aspen['fired_id'].nunique())"
   ]
  },
  {
   "cell_type": "code",
   "execution_count": null,
   "id": "456376d3-5e15-4ced-9de2-f036783af494",
   "metadata": {},
   "outputs": [],
   "source": [
    "# Only keep nominal and high confidence observations\n",
    "print(frp['CONFIDENCE'].unique())\n",
    "\n",
    "# Filter out low confidence observations\n",
    "frp_aspen = frp_aspen[frp_aspen['CONFIDENCE'] != 'l']\n",
    "\n",
    "print(f\"Number of observations of nominal to high confidence: {len(frp_aspen)}\")"
   ]
  },
  {
   "cell_type": "code",
   "execution_count": null,
   "id": "09aec63e-2e9b-4cb2-890d-e137e185dbd3",
   "metadata": {},
   "outputs": [],
   "source": [
    "# Get a count of observations per 'fired_id'\n",
    "viirs_counts = frp_aspen.groupby('fired_id').size().reset_index(name='counts')\n",
    "print(viirs_counts['counts'].min())\n",
    "print(viirs_counts['counts'].max())\n",
    "\n",
    "# Plot the histogram\n",
    "plt.figure(figsize=(6, 3))\n",
    "plt.hist(viirs_counts['counts'], bins=30, color='skyblue', edgecolor='black')\n",
    "plt.title('Distribution of VIIRS Observations per Fire')\n",
    "plt.xlabel('Number of VIIRS Observations')\n",
    "plt.ylabel('Frequency')\n",
    "plt.grid(True)\n",
    "plt.show()"
   ]
  },
  {
   "cell_type": "markdown",
   "id": "5aceb58b-e1dd-40e3-9bb7-0fe102274ade",
   "metadata": {},
   "source": [
    "## Tidy the FRP data: remove null values, check on the obs./fire, and check on date matches\n",
    "\n",
    "Some observations may not be joined correctly (i.e., spatial overlap but wrong ignition year, etc). We may also have some fires with too few observations. "
   ]
  },
  {
   "cell_type": "code",
   "execution_count": null,
   "id": "b0ab1a48-b7b6-46a8-b66e-5d5d46d8f552",
   "metadata": {},
   "outputs": [],
   "source": [
    "# Check on date matches (by year and/or month)\n",
    "# Filter any observations that dont match the fire year\n",
    "\n",
    "# First create a year/month column from the VIIRS acquisition date\n",
    "frp_aspen['ACQ_DATE'] = pd.to_datetime(frp_aspen['ACQ_DATE'])\n",
    "frp_aspen['ACQ_MONTH'] = frp_aspen['ACQ_DATE'].dt.month.astype(int)\n",
    "frp_aspen['ACQ_YEAR'] = frp_aspen['ACQ_DATE'].dt.year.astype(int)\n",
    "frp_aspen['last_date'] = pd.to_datetime(frp_aspen['last_date'])\n",
    "\n",
    "print(frp_aspen['ACQ_YEAR'].min())\n",
    "print(frp_aspen['ACQ_YEAR'].max())\n",
    "\n",
    "# Count the number of VIIRS observations that do not match the ignition year\n",
    "print(f\"Number of VIIRS obs. that do not match the ignition year: {(frp_aspen['ACQ_YEAR'] != frp_aspen['ig_year']).sum()}\")\n",
    "\n",
    "# Filter based on ignition month and year\n",
    "frp_aspen_f = frp_aspen[\n",
    "    (frp_aspen['ACQ_YEAR'] >= frp_aspen['ig_year']) & \n",
    "    (frp_aspen['ACQ_MONTH'] >= frp_aspen['ig_month']) &\n",
    "    (frp_aspen['ACQ_YEAR'] <= frp_aspen['last_date'].dt.year) &\n",
    "    (frp_aspen['ACQ_MONTH'] <= frp_aspen['last_date'].dt.month)\n",
    "]\n",
    "\n",
    "# Keep unique rows\n",
    "frp_aspen_f = frp_aspen_f.drop_duplicates(subset='VID', keep='first')\n",
    "print(frp_aspen_f.columns)\n",
    "\n",
    "# Filter out the VIIRS observations with different ignition years\n",
    "# frp_aspen_f = frp_aspen[frp_aspen['ACQ_YEAR'] == frp_aspen['ig_year']]\n",
    "print(len(frp_aspen_f))\n",
    "\n",
    "print(frp_aspen_f['VID'].nunique())\n",
    "\n",
    "viirs_counts = frp_aspen_f.groupby('fired_id').size().reset_index(name='counts')\n",
    "print(viirs_counts['counts'].min())\n",
    "print(viirs_counts['counts'].max())"
   ]
  },
  {
   "cell_type": "code",
   "execution_count": null,
   "id": "18259810-4e4c-4065-b955-c6a59ecdf7f3",
   "metadata": {},
   "outputs": [],
   "source": [
    "# Check on fires with < N observations\n",
    "N = 10\n",
    "\n",
    "# Get a count of observations per 'fired_id'\n",
    "print(f'Number of fires with >= {str(N)} observations: {len(viirs_counts[viirs_counts[\"counts\"] >= N])}')\n",
    "print(f'Percent of events: {round(len(viirs_counts[viirs_counts[\"counts\"] >= N]) / len(viirs_counts) * 100, 3)}')\n",
    "\n",
    "# Filter out fires with less than 10 observations\n",
    "ids = viirs_counts[viirs_counts[\"counts\"] >= N]\n",
    "\n",
    "# Grab the new list of unique FIRED ids\n",
    "ids = ids['fired_id'].unique().tolist()\n",
    "\n",
    "# Filter the datasets based on the FIRED ids\n",
    "frp_aspen_f = frp_aspen_f[frp_aspen_f['fired_id'].isin(ids)]\n",
    "fired_aspen = fired_aspen[fired_aspen['fired_id'].isin(ids)]\n",
    "\n",
    "print(len(frp_aspen_f))\n",
    "print(frp_aspen_f.columns)\n",
    "\n",
    "viirs_counts_ = frp_aspen_f.groupby('fired_id').size().reset_index(name='counts')\n",
    "print(f\"Min obs: {viirs_counts_['counts'].min()}\")\n",
    "print(f\"Max obs: {viirs_counts_['counts'].max()}\")\n",
    "print(frp_aspen_f.head())"
   ]
  },
  {
   "cell_type": "code",
   "execution_count": null,
   "id": "f4e9c877-e71a-4894-9eee-0d33313752ad",
   "metadata": {},
   "outputs": [],
   "source": [
    "# Make a map of the fire with the most observations\n",
    "\n",
    "# Sort the VIIRS counts\n",
    "viirs_counts = viirs_counts.sort_values('counts', ascending=False).reset_index(drop=True)\n",
    "\n",
    "# Take the first row (the maximum)\n",
    "max_obs = viirs_counts.iloc[0]['fired_id']\n",
    "print(max_obs)\n",
    "\n",
    "# Filter the fire perimeter and VIIRS obs.\n",
    "perim = fired_aspen[fired_aspen['fired_id'] == max_obs]\n",
    "obs = frp_aspen_f[frp_aspen_f['fired_id'] == max_obs]\n",
    "obs = obs.copy()\n",
    "obs['FRP_log'] = np.log1p(obs['FRP'])\n",
    "obs = obs[obs['DAYNIGHT'] == 'D']\n",
    "print(len(obs))\n",
    "\n",
    "# Create the map\n",
    "fig, ax = plt.subplots(figsize=(4, 5.5))\n",
    "# Plot VIIRS points\n",
    "obs.plot(column='FRP_log', ax=ax, legend=True,\n",
    "         legend_kwds={'label': \"Fire Radiative Power (FRP)\", 'orientation': \"horizontal\"},\n",
    "         cmap='magma', markersize=1, alpha=0.7)\n",
    "# Plot the fire perimeter\n",
    "perim.plot(ax=ax, color='none', edgecolor='black', linewidth=1, label='Fire Perimeter')\n",
    "plt.tight_layout()\n",
    "plt.grid(True)\n",
    "\n",
    "# Save the map as a PNG\n",
    "plt.savefig(os.path.join(maindir,'aspen-fire/Aim2/figures/FigX_MullenFire_FRP.png'), dpi=300, bbox_inches='tight')\n",
    "\n",
    "plt.show()"
   ]
  },
  {
   "cell_type": "code",
   "execution_count": null,
   "id": "f327045b-d443-41f9-ad51-ca789ebd4bec",
   "metadata": {},
   "outputs": [],
   "source": [
    "print(len(frp_aspen_f['pct_aspen']))\n",
    "print(len(frp_aspen_f['FRP']))\n",
    "      \n",
    "# Scatterplot of FRP and aspen_pct (fire perimeter)\n",
    "plt.figure(figsize=(6, 4))  # Set the figure size\n",
    "plt.scatter(frp_aspen_f['pct_aspen'], frp_aspen_f['FRP'], alpha=0.5)  # Plot with some transparency\n",
    "\n",
    "# Add titles and labels\n",
    "plt.ylabel('Fire Radiative Power (FRP)')\n",
    "plt.xlabel('Aspen %')\n",
    "\n",
    "plt.show()"
   ]
  },
  {
   "cell_type": "markdown",
   "id": "b812d666-ca41-46f6-9cfc-c9f7daf2d0df",
   "metadata": {},
   "source": [
    "## Join VIIRS observations to daily FIRED perimeters\n",
    "\n",
    "We want to summarize VIIRS observations on a daily basis and then associate them with the correct daily polygon from FIRED. The initial step is to group observations by day.\n",
    "\n"
   ]
  },
  {
   "cell_type": "code",
   "execution_count": null,
   "id": "bdec32dc-5938-4419-8477-d757f4c84ce0",
   "metadata": {},
   "outputs": [],
   "source": [
    "# Create the daily summary of FRP for each wildfire event"
   ]
  },
  {
   "cell_type": "markdown",
   "id": "1f2658bb-7a19-4582-878b-f102e188f5fe",
   "metadata": {},
   "source": [
    "## Create the VIIRS observation buffer (375m2)\n",
    "\n",
    "The archive VIIRS data is distributed as shapefiles with centroids representing the pixel center of a VIIRS observation. In order to assess characteristics within the VIIRS observations, we want to create a 375m2 buffer around the centroid locations to approximate the VIIRS pixel size."
   ]
  },
  {
   "cell_type": "code",
   "execution_count": null,
   "id": "9cdc88d3-d1dc-4f62-afe2-bef5c98f6ae0",
   "metadata": {},
   "outputs": [],
   "source": [
    "# Create the buffered VIIRS obs.\n",
    "frp_aspen_plot = frp_aspen_f.copy()\n",
    "frp_aspen_plot['geometry'] = frp_aspen_plot.geometry.buffer(375, cap_style=3)  # square buffer 375m\n",
    "\n",
    "print(len(fired_aspen))\n",
    "\n",
    "# Let's plot one fire using the FRP column to color the \"plots\"\n",
    "\n",
    "# Filter the fire perimeter and VIIRS obs.\n",
    "perim = fired_aspen[fired_aspen['fired_id'] == \"42306\"]  # Williams Fork Fire \"45811.0\"\n",
    "obs = frp_aspen_plot[frp_aspen_plot['fired_id'] == \"42306\"]\n",
    "obs = obs.copy()\n",
    "obs['FRP_log'] = np.log1p(obs['FRP'])\n",
    "obs = obs[obs['DAYNIGHT'] == 'D']  # plot only daytime observations\n",
    "print(len(obs))\n",
    "\n",
    "# Create the map\n",
    "fig, ax = plt.subplots(figsize=(4, 5.5))\n",
    "# Plot VIIRS points\n",
    "obs.plot(column='FRP_log', ax=ax, legend=True,\n",
    "         legend_kwds={'label': \"Fire Radiative Power (FRP)\"},\n",
    "         cmap='magma', markersize=1, alpha=0.7)\n",
    "# Plot the fire perimeter\n",
    "perim.plot(ax=ax, color='none', edgecolor='black', linewidth=1, label='Fire Perimeter')\n",
    "plt.tight_layout()\n",
    "plt.grid(True)\n",
    "plt.show()"
   ]
  },
  {
   "cell_type": "code",
   "execution_count": null,
   "id": "b7c5ab75-9702-49e2-abb5-e92b3339605e",
   "metadata": {},
   "outputs": [],
   "source": [
    "centroid = fired_aspen.copy()\n",
    "centroid['geometry'] = centroid.geometry.centroid\n",
    "\n",
    "# Make a spatial map of the centroids now\n",
    "fig, ax = plt.subplots(figsize=(6, 6))\n",
    "\n",
    "states.plot(ax=ax, edgecolor='black', linewidth=1, color='none')\n",
    "\n",
    "# Plot centroids\n",
    "centroid['size'] = centroid['pct_aspen'] * 10  # Adjust the scaling factor as necessary\n",
    "centroid.plot(\n",
    "    ax=ax, markersize=centroid['pct_aspen'], \n",
    "    column='pct_aspen', cmap='viridis', \n",
    "    legend=True, alpha=0.6, \n",
    "    legend_kwds={'label': \"Aspen Percent\"})\n",
    "\n",
    "# Optional: Plot the original fire perimeters for context\n",
    "fired_aspen.plot(ax=ax, color='none', edgecolor='gray', linewidth=0.5)\n",
    "\n",
    "plt.xlabel('Longitude')\n",
    "plt.ylabel('Latitude')\n",
    "plt.grid(True)\n",
    "\n",
    "del centroid\n",
    "\n",
    "# Save the map as a PNG\n",
    "plt.savefig(os.path.join(maindir,'aspen-fire/Aim2/figures/Fig1_aspen_fires.png'), dpi=300, bbox_inches='tight')\n",
    "\n",
    "plt.show()"
   ]
  },
  {
   "cell_type": "markdown",
   "id": "ad8bc2d2-ad96-45ad-ba17-cde5fdbf4db8",
   "metadata": {},
   "source": [
    "## Tidy and save out the necessary files\n",
    "\n",
    "Now that we have a tidy dataframe for both wildfires with >=5% pre-fire aspen cover and their associated nominal or high confidence VIIRS observations, we can save these files out for further processing. \n",
    "\n",
    "Some of the processing will occur in GEE, so for these files we want to save a simplified SHP with only the required attribute information (they will be joined back to the full data after processing)."
   ]
  },
  {
   "cell_type": "code",
   "execution_count": null,
   "id": "96011e35-054b-4e03-b57d-d729af6828a9",
   "metadata": {},
   "outputs": [],
   "source": [
    "# Check on the observation counts again\n",
    "viirs_counts = frp_aspen_plot.groupby('fired_id').size().reset_index(name='counts')\n",
    "print(viirs_counts['counts'].min())\n",
    "print(viirs_counts['counts'].max())"
   ]
  },
  {
   "cell_type": "code",
   "execution_count": null,
   "id": "8c71248f-2f9c-4e16-8d22-e0f81c299d7d",
   "metadata": {},
   "outputs": [],
   "source": [
    "# Filter the daily files\n",
    "# Get the list of IDs\n",
    "ids = fired_aspen['fired_id'].unique()\n",
    "\n",
    "# Load the daily polygons, subset to aspen fires\n",
    "daily['id'] = daily['id'].astype(str)\n",
    "daily = daily[daily['id'].isin(ids)]\n",
    "print(len(daily['id'].unique()))\n",
    "\n",
    "# Save the daily wildfire perimeters\n",
    "daily = daily.to_crs(proj)  # ensure the correct projection before exporting\n",
    "daily.to_file(os.path.join(maindir,'aspen-fire/Aim2/data/spatial/mod/FIRED/fired_daily_west_aspen.gpkg'))"
   ]
  },
  {
   "cell_type": "code",
   "execution_count": null,
   "id": "41b85319-68dc-4899-b7ed-977424bd8ee1",
   "metadata": {},
   "outputs": [],
   "source": [
    "# Save the wildfire perimeters\n",
    "fired_aspen = fired_aspen.to_crs(proj)  # ensure the correct projection before exporting\n",
    "fired_aspen.to_file(os.path.join(maindir,'aspen-fire/Aim2/data/spatial/mod/FIRED/fired_events_west_aspen.gpkg'))\n",
    "\n",
    "# Save the VIIRS observations (points)\n",
    "frp_aspen_f = frp_aspen_f.to_crs(proj)\n",
    "frp_aspen_f.to_file(os.path.join(maindir,'aspen-fire/Aim2/data/spatial/mod/VIIRS/viirs_obs_fired_events_west_aspen.gpkg'))\n",
    "\n",
    "# Save the VIIRS observations (plots)\n",
    "frp_aspen_plot = frp_aspen_plot.to_crs(proj)\n",
    "frp_aspen_plot.to_file(os.path.join(maindir,'aspen-fire/Aim2/data/spatial/mod/VIIRS/viirs_plots_fired_events_west_aspen.gpkg'))\n",
    "\n",
    "# Tidy the files for GEE imports\n",
    "\n",
    "# FIRED perimeters (1km buffer)\n",
    "print(fired_aspen_1km.columns)\n",
    "fired_aspen_gee = fired_aspen_1km[['fired_id','ig_date','ig_year','last_date','mx_grw_dte','geometry']]\n",
    "fired_aspen_gee['ig_date'] = fired_aspen_gee['ig_date'].astype(str)\n",
    "fired_aspen_gee['last_date'] = fired_aspen_gee['ig_date'].astype(str)\n",
    "fired_aspen_gee.to_file(os.path.join(maindir,'aspen-fire/Aim2/data/spatial/mod/GEE/fired_events_west_aspen.shp'))\n",
    "\n",
    "# VIIRS \"plots\"\n",
    "print(frp_aspen_plot.columns)\n",
    "frp_aspen_gee = frp_aspen_plot[['fired_id','VID','ACQ_DATE','DAYNIGHT','geometry']]\n",
    "frp_aspen_gee['ACQ_DATE'] = frp_aspen_gee['ACQ_DATE'].astype(str)\n",
    "frp_aspen_gee.to_file(os.path.join(maindir,'aspen-fire/Aim2/data/spatial/mod/GEE/viirs_plots_fired_events_west_aspen.shp'))\n",
    "\n",
    "print(\"Success!\")"
   ]
  }
 ],
 "metadata": {
  "kernelspec": {
   "display_name": "aspen-fire",
   "language": "python",
   "name": "aspen-fire"
  },
  "language_info": {
   "codemirror_mode": {
    "name": "ipython",
    "version": 3
   },
   "file_extension": ".py",
   "mimetype": "text/x-python",
   "name": "python",
   "nbconvert_exporter": "python",
   "pygments_lexer": "ipython3",
   "version": "3.10.12"
  }
 },
 "nbformat": 4,
 "nbformat_minor": 5
}
