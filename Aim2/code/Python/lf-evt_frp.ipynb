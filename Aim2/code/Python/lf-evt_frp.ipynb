{
 "cells": [
  {
   "cell_type": "code",
   "execution_count": null,
   "id": "48e58a29-e130-4e7e-a1e2-0d7ba2a528ea",
   "metadata": {},
   "outputs": [],
   "source": [
    "\"\"\"\n",
    "Assessment of LANDFIRE EVT (ca. 2016) composition on FRP\n",
    "\n",
    "This provides an initial assessment of the effects of forest type on FRP in our wildfire database\n",
    "\n",
    "maxwell.cook@colorado.edu\n",
    "\"\"\"\n",
    "\n"
   ]
  },
  {
   "cell_type": "markdown",
   "id": "c907629c-2e72-4699-b904-dc4ea30c242b",
   "metadata": {},
   "source": [
    "## Calculate the forest composition from LANDFIRE (ca. 2016) within VIIRS plots\n",
    "\n",
    "As an initial assessment, we can calculate the forest composition from LANDFIRE and look at the distribution of aspen + FRP. "
   ]
  },
  {
   "cell_type": "code",
   "execution_count": null,
   "id": "b233df18-52e2-4fc6-b2f9-3f9a4a88bdb9",
   "metadata": {},
   "outputs": [],
   "source": [
    "# Load the VIIRS 375m2 \"plot\"\n"
   ]
  },
  {
   "cell_type": "code",
   "execution_count": null,
   "id": "3ab39741-c980-4098-bb82-475f83992da1",
   "metadata": {},
   "outputs": [],
   "source": [
    "# Calculate the percent cover of forest types from the LANDFIRE EVT\n",
    "\n",
    "begin = time.time()\n",
    "\n",
    "evt_path = os.path.join(maindir,'data/landcover/LANDFIRE/LF2016_EVT_200_CONUS/Tif/LC16_EVT_200.tif')\n",
    "\n",
    "zs = zonal_stats(vectors=frp_aspen_plot[['VID','geometry']], raster=evt_path, categorical=True, geojson_out=True)\n",
    "\n",
    "print(f\"Total elapsed time: {round((time.time() - begin))} seconds.\")"
   ]
  }
 ],
 "metadata": {
  "kernelspec": {
   "display_name": "aspen-fire",
   "language": "python",
   "name": "aspen-fire"
  },
  "language_info": {
   "codemirror_mode": {
    "name": "ipython",
    "version": 3
   },
   "file_extension": ".py",
   "mimetype": "text/x-python",
   "name": "python",
   "nbconvert_exporter": "python",
   "pygments_lexer": "ipython3",
   "version": "3.10.12"
  }
 },
 "nbformat": 4,
 "nbformat_minor": 5
}
