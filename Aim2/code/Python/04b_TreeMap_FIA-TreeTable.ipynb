{
 "cells": [
  {
   "cell_type": "code",
   "execution_count": 1,
   "id": "c3d482be-361d-4286-b949-6680bf24babb",
   "metadata": {},
   "outputs": [
    {
     "name": "stdout",
     "output_type": "stream",
     "text": [
      "Ready to go !\n"
     ]
    }
   ],
   "source": [
    "\"\"\"\n",
    "Summaries of USFS TreeMap linked to FIA plot data\n",
    "Emphasis on \n",
    "    - Metrics of forest composition\n",
    "    - Ecological gradients of species dominance\n",
    "    - Forest structure (abundance, dominance, diversity, stand height)\n",
    "\n",
    "Aggregate these statistics to FRP gridcells.\n",
    "\n",
    "Author: maxwell.cook@colorado.edu\n",
    "\"\"\"\n",
    "\n",
    "import os, sys\n",
    "\n",
    "# Custom functions\n",
    "sys.path.append(os.path.join(os.getcwd(),'code/'))\n",
    "from __functions import *\n",
    "\n",
    "albers = 'EPSG:5070' # albers CONUS\n",
    "utm = 'EPSG:32613' # UTM Zone 13N\n",
    "\n",
    "maindir = '/Users/max/Library/CloudStorage/OneDrive-Personal/mcook/'\n",
    "projdir = os.path.join(maindir, 'aspen-fire/Aim2/')\n",
    "\n",
    "print(\"Ready to go !\")"
   ]
  },
  {
   "cell_type": "code",
   "execution_count": 2,
   "id": "af7d2100-d318-41ce-970d-7686f0359b88",
   "metadata": {},
   "outputs": [
    {
     "name": "stdout",
     "output_type": "stream",
     "text": [
      "\n",
      "There are [57232] grids across [100] fires.\n",
      "\n",
      "\n",
      "Index(['grid_index', 'grid_area', 'afd_count', 'unique_days', 'overlap',\n",
      "       'frp_csum', 'frp_max', 'frp_min', 'frp_mean', 'frp_p90', 'frp_p95',\n",
      "       'frp_p97', 'frp_p99', 'frp_first', 'day_max_frp', 'dt_max_frp',\n",
      "       'first_obs_date', 'last_obs_date', 't4_max', 't4_mean', 't5_max',\n",
      "       't5_mean', 'day_count', 'night_count', 'frp_max_day', 'frp_max_night',\n",
      "       'frp_csum_day', 'frp_csum_night', 'frp_mean_day', 'frp_mean_night',\n",
      "       'frp_p90_day', 'frp_p90_night', 'frp_p95_day', 'frp_p95_night',\n",
      "       'frp_p97_day', 'frp_p97_night', 'frp_p99_day', 'frp_p99_night',\n",
      "       'frp_first_day', 'frp_first_night', 'Fire_ID', 'Fire_Name', 'geometry',\n",
      "       'x', 'y'],\n",
      "      dtype='object')\n",
      "\n",
      "Dropping [1395] duplicate grids.\n",
      "\n",
      "Fractional overlap:\n",
      "count    56767.000000\n",
      "mean         2.029756\n",
      "std          2.004417\n",
      "min          0.000003\n",
      "25%          0.591083\n",
      "50%          1.498852\n",
      "75%          2.779104\n",
      "max         24.470760\n",
      "Name: overlap, dtype: float64\n",
      "\n",
      "Dropping [2433 (4.29%)] grids with < 5% fractional overlap.\n"
     ]
    }
   ],
   "source": [
    "# load the aggregated FRP grids (regular 375m2 grids summarizing FRP from VIIRS)\n",
    "fp = os.path.join(projdir,'data/spatial/mod/VIIRS/viirs_snpp_jpss1_afd_latlon_fires_pixar_gridstats.gpkg')\n",
    "grid = gpd.read_file(fp)\n",
    "print(f\"\\nThere are [{len(grid)}] grids across [{len(grid['Fire_ID'].unique())}] fires.\\n\")\n",
    "\n",
    "# add the centroid lat/lon to the grid data\n",
    "df = grid.to_crs(4326) # WGS coords for lat/lon\n",
    "df['x'] = df.geometry.centroid.x  # Longitude (x-coordinate)\n",
    "df['y'] = df.geometry.centroid.y\n",
    "grid = grid.merge(df[['grid_index','x','y']], on='grid_index', how='left')\n",
    "del df\n",
    "print(f\"\\n{grid.columns}\\n\")\n",
    "\n",
    "# Drop any dupicate grids ...\n",
    "print(f\"Dropping [{grid.duplicated(subset=['grid_index']).sum()}] duplicate grids.\\n\")\n",
    "grid = grid.drop_duplicates(subset=['grid_index'], keep='first')\n",
    "\n",
    "# check on fractional overlap distribution\n",
    "print(f\"Fractional overlap:\\n{grid['overlap'].describe()}\\n\")\n",
    "n_small = grid[grid['overlap'] < 0.05]['grid_index'].count() # less than 5% spatial overlap\n",
    "print(f\"Dropping [{n_small} ({round(n_small/len(grid)*100,2)}%)] grids with < 5% fractional overlap.\")\n",
    "grid = grid[grid['overlap'] >= 0.05] # remove these observations"
   ]
  },
  {
   "cell_type": "code",
   "execution_count": 3,
   "id": "8ab27165-81d1-4bb0-892a-168bc8353a89",
   "metadata": {},
   "outputs": [
    {
     "name": "stdout",
     "output_type": "stream",
     "text": [
      "Shape: (28724, 17006); \n",
      "GeoTransform: -1193295.0 30.0 0.0 2253345.0 0.0 -30.0; \n",
      "WKT: EPSG:5070; \n",
      "NoData Value: nan; \n",
      "Data Type: float32\n"
     ]
    },
    {
     "data": {
      "text/plain": [
       "28"
      ]
     },
     "execution_count": 3,
     "metadata": {},
     "output_type": "execute_result"
    }
   ],
   "source": [
    "# Load the TreeMap (ca. 2016)\n",
    "# Pixel values here denote the FIA plot ID (\"tm_id\")\n",
    "# see '04a_TreeMap_FIA-Prep.ipynb'\n",
    "# fp = os.path.join(maindir,'data/landcover/USFS/RDS_TreeMap/TreeMap2016.tif') # tm_id band\n",
    "fp = os.path.join(projdir, \"data/spatial/mod/USFS/TreeMap_2016_TMID_FORTYPCD.tif\") # multi-band\n",
    "treemap_da = rxr.open_rasterio(fp, masked=True, cache=False).squeeze()\n",
    "tmid_da = treemap_da.sel(band=1) # the \"tm_id\" band\n",
    "\n",
    "# Grab some raster metadata from one of the layers\n",
    "shp, gt, wkt, nd = tmid_da.shape, tmid_da.spatial_ref.GeoTransform, tmid_da.rio.crs, tmid_da.rio.nodata\n",
    "print(\n",
    "    f\"Shape: {shp}; \\n\"\n",
    "    f\"GeoTransform: {gt}; \\n\"\n",
    "    f\"WKT: {wkt}; \\n\"\n",
    "    f\"NoData Value: {nd}; \\n\"\n",
    "    f\"Data Type: {tmid_da[0].dtype}\")\n",
    "\n",
    "del treemap_da\n",
    "gc.collect()"
   ]
  },
  {
   "cell_type": "code",
   "execution_count": 4,
   "id": "8536a925-ffa9-48f5-b879-6c55d80ca431",
   "metadata": {},
   "outputs": [
    {
     "name": "stdout",
     "output_type": "stream",
     "text": [
      "\n",
      "[86.59%] predominantly forest grids.\n",
      "\n",
      "   grid_index  forest_pixels  forest_pct\n",
      "0     1955419            169       100.0\n",
      "1     1955420            182       100.0\n",
      "2     1955421            169       100.0\n",
      "\n",
      "Saved multi-band raster to: /Users/max/Library/CloudStorage/OneDrive-Personal/mcook/aspen-fire/Aim2/data/spatial/mod/USFS/TreeMap_2016_forestmask.tif\n",
      "\n",
      "Index(['grid_index', 'grid_area', 'afd_count', 'unique_days', 'overlap',\n",
      "       'frp_csum', 'frp_max', 'frp_min', 'frp_mean', 'frp_p90', 'frp_p95',\n",
      "       'frp_p97', 'frp_p99', 'frp_first', 'day_max_frp', 'dt_max_frp',\n",
      "       'first_obs_date', 'last_obs_date', 't4_max', 't4_mean', 't5_max',\n",
      "       't5_mean', 'day_count', 'night_count', 'frp_max_day', 'frp_max_night',\n",
      "       'frp_csum_day', 'frp_csum_night', 'frp_mean_day', 'frp_mean_night',\n",
      "       'frp_p90_day', 'frp_p90_night', 'frp_p95_day', 'frp_p95_night',\n",
      "       'frp_p97_day', 'frp_p97_night', 'frp_p99_day', 'frp_p99_night',\n",
      "       'frp_first_day', 'frp_first_night', 'Fire_ID', 'Fire_Name', 'geometry',\n",
      "       'x', 'y', 'forest_pixels', 'forest_pct'],\n",
      "      dtype='object')\n",
      "\n",
      "~~~~~~~~~~~~~~~\n",
      "\n"
     ]
    },
    {
     "data": {
      "text/plain": [
       "16"
      ]
     },
     "execution_count": 4,
     "metadata": {},
     "output_type": "execute_result"
    }
   ],
   "source": [
    "# create a forest/non-forest grid\n",
    "forest_mask = xr.where(~np.isnan(tmid_da), 1, 0)\n",
    "# calculate the total forested pixels\n",
    "# see __functions.py 'compute_band_stats'\n",
    "forest_pct = compute_band_stats(grid, forest_mask, 'grid_index', attr='constant')\n",
    "forest_pct.rename(columns={\n",
    "    'pct_cover': 'forest_pct',\n",
    "    'total_pixels': 'forest_pixels'\n",
    "}, inplace=True)\n",
    "forest_pct = forest_pct[forest_pct['constant'] == 1] # just forest pixels\n",
    "forest_pct = forest_pct[['grid_index','forest_pixels','forest_pct']]\n",
    "\n",
    "# how many forested grids are there? (>50%)\n",
    "n_forest = len(forest_pct[forest_pct['forest_pct'] > 50])\n",
    "print(f\"\\n[{round(n_forest/len(grid)*100,2)}%] predominantly forest grids.\")\n",
    "print(f\"\\n{forest_pct.head(3)}\")\n",
    "\n",
    "# Save as a GeoTIFF\n",
    "out_fp = os.path.join(projdir, \"data/spatial/mod/USFS/TreeMap_2016_forestmask.tif\")\n",
    "forest_mask.rio.to_raster(out_fp, compress='zstd', zstd_level=9, dtype='uint16', driver='GTiff')\n",
    "print(f\"\\nSaved multi-band raster to: {out_fp}\")\n",
    "\n",
    "# Join to the grid data\n",
    "grid = grid.merge(forest_pct, on='grid_index', how='left')\n",
    "print(f\"\\n{grid.columns}\")\n",
    "\n",
    "print(\"\\n~~~~~~~~~~~~~~~\\n\")\n",
    "del forest_mask, forest_pct\n",
    "gc.collect() # clean up"
   ]
  },
  {
   "cell_type": "markdown",
   "id": "4fdd8b97-50ef-406d-bb9e-d01e3eb06f56",
   "metadata": {},
   "source": [
    "## TreeMap Tree Table\n",
    "\n",
    "Summary of the the TreeMap Tree Table information within forested grids identified above. Specifically, we can retrieve an estimate of aspen abundance that goes beyond the algorithmic forest type code assigned to a pixel. In this, we can infer understory/overstory compositions potential to that area."
   ]
  },
  {
   "cell_type": "code",
   "execution_count": 17,
   "id": "133ff9f1-a8eb-4918-ab14-3daf2ce599a5",
   "metadata": {},
   "outputs": [
    {
     "ename": "NameError",
     "evalue": "name 'tmid_da' is not defined",
     "output_type": "error",
     "traceback": [
      "\u001b[0;31m---------------------------------------------------------------------------\u001b[0m",
      "\u001b[0;31mNameError\u001b[0m                                 Traceback (most recent call last)",
      "Cell \u001b[0;32mIn[17], line 5\u001b[0m\n\u001b[1;32m      2\u001b[0m t0 \u001b[38;5;241m=\u001b[39m time\u001b[38;5;241m.\u001b[39mtime()\n\u001b[1;32m      4\u001b[0m \u001b[38;5;66;03m# see __functions.py\u001b[39;00m\n\u001b[0;32m----> 5\u001b[0m grid_trees \u001b[38;5;241m=\u001b[39m compute_band_stats(grid, \u001b[43mtmid_da\u001b[49m, \u001b[38;5;124m'\u001b[39m\u001b[38;5;124mgrid_index\u001b[39m\u001b[38;5;124m'\u001b[39m, attr\u001b[38;5;241m=\u001b[39m\u001b[38;5;124m'\u001b[39m\u001b[38;5;124mtm_id\u001b[39m\u001b[38;5;124m'\u001b[39m)\n\u001b[1;32m      7\u001b[0m \u001b[38;5;66;03m# tidy columns in the summary table\u001b[39;00m\n\u001b[1;32m      8\u001b[0m grid_trees[\u001b[38;5;124m'\u001b[39m\u001b[38;5;124mcount\u001b[39m\u001b[38;5;124m'\u001b[39m] \u001b[38;5;241m=\u001b[39m grid_trees[\u001b[38;5;124m'\u001b[39m\u001b[38;5;124mcount\u001b[39m\u001b[38;5;124m'\u001b[39m]\u001b[38;5;241m.\u001b[39mastype(\u001b[38;5;28mint\u001b[39m)\n",
      "\u001b[0;31mNameError\u001b[0m: name 'tmid_da' is not defined"
     ]
    }
   ],
   "source": [
    "# get the count/proportion of unique \"tm_id\" from TreeMap in grids\n",
    "t0 = time.time()\n",
    "\n",
    "# see __functions.py\n",
    "grid_trees = compute_band_stats(grid, tmid_da, 'grid_index', attr='tm_id')\n",
    "\n",
    "# tidy columns in the summary table\n",
    "grid_trees['count'] = grid_trees['count'].astype(int)\n",
    "grid_trees['total_pixels'] = grid_trees['total_pixels'].astype(int)\n",
    "grid_trees.rename(columns={\n",
    "    'count': 'tmid_count',\n",
    "    'pct_cover': 'tmid_pct'\n",
    "}, inplace=True)\n",
    "\n",
    "# load the TreeMap Tree Table\n",
    "fp = os.path.join(maindir,'data/landcover/USFS/RDS_TreeMap/TreeMap2016_tree_table.csv')\n",
    "tree_tbl = pd.read_csv(fp)\n",
    "print(tree_tbl.columns)\n",
    "\n",
    "# join the Tree Table to the grid data\n",
    "grid_trees = grid_trees.merge(tree_tbl, on='tm_id', how='left')\n",
    "print(f\"\\n{grid_trees.head(12)}\")\n",
    "\n",
    "t1 = (time.time() - t0) / 60\n",
    "print(f\"\\nTotal elapsed time: {t1:.2f} minutes.\")\n",
    "print(\"\\n~~~~~~~~~~\\n\")\n",
    "\n",
    "del tmid_da, tree_tbl # clean up \n",
    "gc.collect()"
   ]
  },
  {
   "cell_type": "code",
   "execution_count": 6,
   "id": "3739f114-d55d-47af-81fd-a8572393af93",
   "metadata": {},
   "outputs": [
    {
     "name": "stdout",
     "output_type": "stream",
     "text": [
      "\n",
      "    grid_index  tm_id  tmid_pixels  tmid_pct                      species  \\\n",
      "0        34602   3897          8.0  4.419890                   gambel oak   \n",
      "1        34602   3897          8.0  4.419890               ponderosa pine   \n",
      "2        34602   3897          8.0  4.419890                quaking aspen   \n",
      "3        34602   4118          1.0  0.552486  common or two-needle pinyon   \n",
      "4        34602   4118          1.0  0.552486                   gambel oak   \n",
      "7        34602   4121          7.0  3.867403              oneseed juniper   \n",
      "8        34602   4870          5.0  2.762431  common or two-needle pinyon   \n",
      "9        34602   4870          5.0  2.762431                 utah juniper   \n",
      "10       34602   4876          4.0  2.209945                 utah juniper   \n",
      "11       34602   9611          3.0  1.657459                 jeffrey pine   \n",
      "12       34602   9611          3.0  1.657459            singleleaf pinyon   \n",
      "13       34602   9937          1.0  0.552486         california black oak   \n",
      "\n",
      "        ba_live     ba_dead   tpp_live  tpp_dead  tree_ht_live  tree_ht_dead  \\\n",
      "0    447.690670    0.000000  18.737367  0.000000     24.142857      0.000000   \n",
      "1   2094.023440    0.000000  10.707067  0.000000     60.875000      0.000000   \n",
      "2     40.406737    0.000000   1.338383  0.000000     33.000000      0.000000   \n",
      "3   2226.130693  206.028108  40.762804  1.338383     26.052632     27.000000   \n",
      "4     36.591012    0.000000   1.338383  0.000000     30.000000      0.000000   \n",
      "7   2076.574121    0.000000  12.045450  0.000000      9.555556      0.000000   \n",
      "8   1441.271733  115.649043  24.090900  2.676767     15.555556      9.500000   \n",
      "9   3514.545200  255.958390  12.045450  4.015150     16.111111      8.666667   \n",
      "10  1406.257466    0.000000  13.383833  0.000000     10.500000      0.000000   \n",
      "11   546.436999    0.000000   1.338383  0.000000     44.000000      0.000000   \n",
      "12   577.223154    0.000000   1.782812  0.000000     27.333333      0.000000   \n",
      "13   188.652370    0.000000   6.691917  0.000000     23.400000      0.000000   \n",
      "\n",
      "      qmd_live    qmd_dead     tpp_ld        ba_ld      qmd_ld  forest_pixels  \\\n",
      "0    66.187683    0.000000  18.737367   447.690670   66.187683          182.0   \n",
      "1   189.364231    0.000000  10.707067  2094.023440  189.364231          182.0   \n",
      "2    74.401050    0.000000   1.338383    40.406737   74.401050          182.0   \n",
      "3   100.065815  168.002370  42.101187  2432.158801  268.068186          182.0   \n",
      "4    70.800999    0.000000   1.338383    36.591012   70.800999          182.0   \n",
      "7   177.788897    0.000000  12.045450  2076.574121  177.788897          182.0   \n",
      "8   104.734281   89.003728  26.767667  1556.920776  193.738008          182.0   \n",
      "9   231.294595  108.112579  16.060600  3770.503589  339.407174          182.0   \n",
      "10  138.798443    0.000000  13.383833  1406.257466  138.798443          182.0   \n",
      "11  273.603860    0.000000   1.338383   546.436999  273.603860          182.0   \n",
      "12  243.647248    0.000000   1.782812   577.223154  243.647248          182.0   \n",
      "13   71.894936    0.000000   6.691917   188.652370   71.894936          182.0   \n",
      "\n",
      "    forest_pct  \n",
      "0    99.450549  \n",
      "1    99.450549  \n",
      "2    99.450549  \n",
      "3    99.450549  \n",
      "4    99.450549  \n",
      "7    99.450549  \n",
      "8    99.450549  \n",
      "9    99.450549  \n",
      "10   99.450549  \n",
      "11   99.450549  \n",
      "12   99.450549  \n",
      "13   99.450549  \n",
      "\n"
     ]
    },
    {
     "data": {
      "text/plain": [
       "0"
      ]
     },
     "execution_count": 6,
     "metadata": {},
     "output_type": "execute_result"
    }
   ],
   "source": [
    "# Calculate the Tree Table statistics across tm_id/grid_index combinations\n",
    "#### Abundance (trees/acre, scaled to per-pixel)\n",
    "#### Dominance (live basal area, scaled to per-pixel)\n",
    "#### Tree height (average/species)\n",
    "\n",
    "# force species name to lower case\n",
    "grid_trees.rename(columns={'COMMON_NAME': 'species'}, inplace=True)\n",
    "grid_trees['species'] = grid_trees['species'].str.lower()\n",
    "# tidy the live/dead column\n",
    "grid_trees['live_dead'] = (grid_trees['STATUSCD'] == 1).astype(int)\n",
    "# add a tree/pixel based on scaling factor\n",
    "grid_trees['tpp_unadj'] = grid_trees['TPA_UNADJ'] * 0.222395\n",
    "# calculate live basal area (balive) scaled by TPA\n",
    "grid_trees['BA'] = np.pi * (grid_trees['DIA'] / 2) ** 2  # Basal area in square feet\n",
    "grid_trees['BA_TPAsc'] = grid_trees['BA'] * grid_trees['tpp_unadj']  # adjust based on tree abundance\n",
    "\n",
    "# group by grid_index and plot identifier (tm_id)\n",
    "# calculate statistics for live/dead seperately\n",
    "# merge into a single dataframe\n",
    "\n",
    "# live trees\n",
    "live_metrics = (\n",
    "    grid_trees[grid_trees['live_dead'] == 1]\n",
    "    .groupby(['grid_index', 'tm_id', 'species'], as_index=False)\n",
    "    .agg(\n",
    "        # grid-level attributes\n",
    "        tmid_pixels=('tmid_count','max'), # retains the tm_id pixel count\n",
    "        tmid_pct=('tmid_pct','max'), # retain the percent of forested area\n",
    "        # shannon_h=('shannon_h','max'), # retains the tm_id shannon index\n",
    "        # calculate species-level attributes\n",
    "        tpp_live=('tpp_unadj','sum'), # sum of the trees/pixel\n",
    "        ba_live=('BA_TPAsc', 'sum'),    # total BALIVE\n",
    "        tree_ht_live=('ACTUALHT','mean') # average tree height\n",
    "    )\n",
    ")\n",
    "\n",
    "# dead trees\n",
    "dead_metrics = (\n",
    "    grid_trees[grid_trees['live_dead'] == 0]\n",
    "    .groupby(['grid_index', 'tm_id', 'species'], as_index=False)\n",
    "    .agg(\n",
    "        tpp_dead=('tpp_unadj','sum'), # sum of the trees/pixel\n",
    "        ba_dead=('BA_TPAsc', 'sum'),    # Live basal area\n",
    "        tree_ht_dead=('ACTUALHT','mean') # average tree height\n",
    "    )\n",
    ")\n",
    "\n",
    "# combine live/dead balive\n",
    "tree_metrics = live_metrics.merge(\n",
    "    dead_metrics, \n",
    "    on=['grid_index', 'tm_id', 'species'], \n",
    "    how='outer'\n",
    ").fillna(0)\n",
    "\n",
    "# subset to the tree metric columns\n",
    "tree_metrics = tree_metrics[['grid_index','tm_id','tmid_pixels','tmid_pct','species',\n",
    "                             'ba_live','ba_dead', # basal area\n",
    "                             'tpp_live','tpp_dead', # trees/pixel\n",
    "                             'tree_ht_live','tree_ht_dead']] # tree height\n",
    "\n",
    "# Add Quadratic Mean Diameter (QMD) for live and dead trees\n",
    "tree_metrics['qmd_live'] = np.where(\n",
    "    tree_metrics['tpp_live'] > 0, \n",
    "    np.sqrt(tree_metrics['ba_live'] / (tree_metrics['tpp_live'] * 0.005454)), \n",
    "    0\n",
    ")\n",
    "tree_metrics['qmd_dead'] = np.where(\n",
    "    tree_metrics['tpp_dead'] > 0, \n",
    "    np.sqrt(tree_metrics['ba_dead'] / (tree_metrics['tpp_dead'] * 0.005454)), \n",
    "    0\n",
    ")\n",
    "\n",
    "# Add combined (live + dead)\n",
    "tree_metrics['tpp_ld'] = tree_metrics['tpp_live'] + tree_metrics['tpp_dead']\n",
    "tree_metrics['ba_ld'] = tree_metrics['ba_live'] + tree_metrics['ba_dead']\n",
    "tree_metrics['qmd_ld'] = tree_metrics['qmd_live'] + tree_metrics['qmd_dead']\n",
    "\n",
    "# add in forest percent by grid\n",
    "tree_metrics = tree_metrics.merge(\n",
    "    grid[['grid_index','forest_pixels','forest_pct']], \n",
    "    on='grid_index', \n",
    "    how='left'\n",
    ")\n",
    "\n",
    "# filter out any rows with missing information\n",
    "tree_metrics = tree_metrics[tree_metrics['tmid_pixels'] > 0]\n",
    "print(f\"\\n{tree_metrics.head(12)}\\n\")\n",
    "del live_metrics, dead_metrics, grid_trees\n",
    "gc.collect()"
   ]
  },
  {
   "cell_type": "code",
   "execution_count": 7,
   "id": "e4d2c733-4373-47c4-9d36-985a21f47e7c",
   "metadata": {},
   "outputs": [
    {
     "data": {
      "text/plain": [
       "array(['gambel oak', 'ponderosa pine', 'quaking aspen',\n",
       "       'common or two-needle pinyon', 'oneseed juniper', 'utah juniper',\n",
       "       'jeffrey pine', 'singleleaf pinyon', 'california black oak',\n",
       "       'canyon live oak', 'douglas-fir', 'incense-cedar', 'white fir',\n",
       "       'western juniper', 'alligator juniper', 'rocky mountain juniper',\n",
       "       'sugar pine', 'loblolly pine', 'loblolly-bay', 'longleaf pine',\n",
       "       'redbay', 'slash pine', 'swamp tupelo', 'sweetbay', 'water oak',\n",
       "       'arizona white oak', 'emory oak', 'california live oak',\n",
       "       'lodgepole pine', 'chokecherry', 'western larch',\n",
       "       'california red fir', 'western white pine', 'engelmann spruce',\n",
       "       'subalpine fir', 'narrowleaf cottonwood', 'plains cottonwood',\n",
       "       'pondcypress', 'eastern redcedar', 'green ash',\n",
       "       'eastern cottonwood', 'bur oak', 'other or unknown live tree',\n",
       "       'peachleaf willow', 'willow spp.', 'black cottonwood',\n",
       "       'arizona pinyon pine', 'pacific dogwood',\n",
       "       'curlleaf mountain-mahogany', 'american elm', 'american plum',\n",
       "       'boxelder', 'honeylocust', 'knobcone pine', 'pacific madrone',\n",
       "       'tanoak', 'blue spruce', 'velvet mesquite', 'honey mesquite',\n",
       "       'siberian elm', 'cherrybark oak', 'common persimmon',\n",
       "       'eastern hophornbeam', 'shagbark hickory', 'sugarberry',\n",
       "       'swamp chestnut oak', 'sweetgum', 'mexican pinyon pine',\n",
       "       'american hornbeam, musclewood', 'red maple', 'river birch',\n",
       "       'water tupelo', 'fremont cottonwood', 'southwestern white pine',\n",
       "       'post oak', 'southern red oak', 'white oak', 'redberry juniper',\n",
       "       'ashe juniper', 'silverleaf oak', 'interior live oak',\n",
       "       'arizona pine', 'grand fir', 'california torreya (nutmeg)',\n",
       "       'oregon white oak', 'washoe pine', 'paper birch', 'blue oak',\n",
       "       'california juniper', 'whitebark pine', 'corkbark fir',\n",
       "       'laurel oak', 'balsam poplar', 'black ash', 'white spruce',\n",
       "       'gray or california foothill pine', 'border pinyon', 'limber pine',\n",
       "       'mountain hemlock', 'shasta red fir', 'hawthorn spp.',\n",
       "       'serviceberry spp.', 'great basin bristlecone pine',\n",
       "       'bitter cherry', 'bigtooth maple',\n",
       "       'giant chinkapin, golden chinkapin', 'bigleaf maple', 'live oak',\n",
       "       'rocky mountain bristlecone pine', 'balsam fir', 'black spruce',\n",
       "       'mountain maple', 'pin cherry', 'eastern white pine',\n",
       "       'northern pin oak', 'pacific yew', 'black cherry',\n",
       "       'western hemlock', 'northern white-cedar', 'sugar maple',\n",
       "       'yellow birch', 'noble fir', 'jack pine', 'western redcedar',\n",
       "       'redwood', 'red alder', 'sitka spruce', 'dwarf post oak',\n",
       "       'sand pine', 'turkey oak', 'american basswood', 'american holly',\n",
       "       'blackgum', 'flowering dogwood', 'shortleaf pine', 'yellow-poplar',\n",
       "       'gray oak', 'chihuahuan pine', 'black walnut', 'chestnut oak',\n",
       "       'pignut hickory', 'arizona alder', 'arizona walnut', 'velvet ash',\n",
       "       'american beech', 'bitternut hickory', 'florida maple',\n",
       "       'mockernut hickory', 'northern red oak', 'sassafras', 'sourwood',\n",
       "       'blackjack oak', 'scarlet oak', 'virginia pine', 'winged elm',\n",
       "       'bluejack oak', 'black oak', 'chinaberry', 'arizona madrone',\n",
       "       'netleaf oak', 'black willow', 'chinese tallowtree', 'overcup oak',\n",
       "       'eastern redbud', 'baker or modoc cypress', 'red mulberry',\n",
       "       'silver maple', 'western soapberry', 'california white oak',\n",
       "       'netleaf hackberry', 'willow oak', 'baldcypress', 'spruce pine',\n",
       "       'water birch', 'ogeechee tupelo', 'engelmann oak',\n",
       "       'southern magnolia', 'water-elm, planertree', 'pinchot juniper',\n",
       "       'screwbean mesquite', 'desert ironwood', 'bigtooth aspen',\n",
       "       'red hickory', 'russian-olive', 'oregon ash', 'bebb willow',\n",
       "       'california buckeye', 'mimosa, silktree', 'texas walnut',\n",
       "       'unknown dead hardwood', 'american mountain-ash', 'pond pine',\n",
       "       'cabbage palmetto', 'carolina ash', 'hackberry',\n",
       "       'american sycamore', 'dwarf live oak', 'mountain-ash spp.',\n",
       "       'sand hickory', 'chinkapin oak', 'slippery elm',\n",
       "       'arizona sycamore', 'pumpkin ash', 'red pine', 'mexican blue oak',\n",
       "       'tamarack', 'texas persimmon', 'southern redcedar',\n",
       "       'southern crab apple'], dtype=object)"
      ]
     },
     "execution_count": 7,
     "metadata": {},
     "output_type": "execute_result"
    }
   ],
   "source": [
    "unique_spp = tree_metrics['species'].unique()\n",
    "unique_spp"
   ]
  },
  {
   "cell_type": "code",
   "execution_count": 8,
   "id": "eff6f13a-d0c4-4ccc-8bb3-ac1a895b0eff",
   "metadata": {},
   "outputs": [
    {
     "name": "stdout",
     "output_type": "stream",
     "text": [
      "\n",
      "Species making up 97% of *ba_ld_f_csum*: \n",
      "\n",
      "                         species         ba_ld        tpa_ld\n",
      "132               ponderosa pine  9.280578e+08  1.817605e+07\n",
      "99                lodgepole pine  7.417424e+08  3.495027e+07\n",
      "135                quaking aspen  3.710201e+08  1.463421e+07\n",
      "64                   douglas-fir  3.437189e+08  7.765455e+06\n",
      "74              engelmann spruce  2.820013e+08  7.915656e+06\n",
      "171                subalpine fir  2.509914e+08  1.321682e+07\n",
      "185                 utah juniper  1.838364e+08  2.561595e+06\n",
      "200                    white fir  1.707061e+08  4.326372e+06\n",
      "80                     grand fir  1.209687e+08  2.654976e+06\n",
      "59   common or two-needle pinyon  1.075057e+08  4.105588e+06\n",
      "78                    gambel oak  1.049221e+08  1.960630e+07\n",
      "146       rocky mountain juniper  6.328005e+07  1.770644e+06\n",
      "92                  jeffrey pine  5.203668e+07  6.906781e+05\n",
      "116              oneseed juniper  4.933456e+07  5.707319e+05\n",
      "61                  corkbark fir  3.648148e+07  1.010136e+06\n",
      "95                   limber pine  3.498747e+07  1.034398e+06\n",
      "0              alligator juniper  3.201293e+07  4.204952e+05\n",
      "195              western juniper  2.861295e+07  4.810397e+05\n",
      "97                 loblolly pine  2.381843e+07  6.565770e+05\n",
      "45            california juniper  2.113669e+07  6.450242e+04\n",
      "196                western larch  1.873522e+07  5.171163e+05\n",
      "160            singleleaf pinyon  1.656126e+07  2.333503e+05\n",
      "37                   blue spruce  1.643369e+07  4.359130e+05\n",
      "89                 incense-cedar  1.642367e+07  2.937484e+05\n",
      "176                 swamp tupelo  1.615038e+07  4.864145e+05\n",
      "162                   slash pine  1.509357e+07  4.190737e+05\n",
      "131                  pondcypress  8.865823e+06  1.747995e+05\n",
      "62    curlleaf mountain-mahogany  7.917248e+06  1.806611e+05\n",
      "178                     sweetgum  7.757167e+06  5.488989e+05\n",
      "\n",
      "\n"
     ]
    },
    {
     "data": {
      "text/plain": [
       "0"
      ]
     },
     "execution_count": 8,
     "metadata": {},
     "output_type": "execute_result"
    }
   ],
   "source": [
    "# Identify the primary species from the Tree Table\n",
    "# identify the species which make up 97% of landscape\n",
    "spp_pr = (\n",
    "    tree_metrics.groupby('species', as_index=False)\n",
    "    .agg(\n",
    "        balive=('ba_live', 'sum'),\n",
    "        ba_ld=('ba_ld', 'sum'),\n",
    "        tpa_live=('tpp_live', 'sum'),\n",
    "        tpa_ld=('tpp_ld', 'sum') # live+dead\n",
    "    )\n",
    ")\n",
    "# calculate the fractions for both BALIVE and TPA\n",
    "spp_pr['balive_f'] = spp_pr['balive'] / spp_pr['balive'].sum()\n",
    "spp_pr['ba_ld_f'] = spp_pr['ba_ld'] / spp_pr['ba_ld'].sum() # live+dead\n",
    "spp_pr['tpa_live_f'] = spp_pr['tpa_live'] / spp_pr['tpa_live'].sum()\n",
    "spp_pr['tpa_ld_f'] = spp_pr['tpa_ld'] / spp_pr['tpa_ld'].sum() # live+dead\n",
    "# sort values and gather the primary species\n",
    "spp_pr = spp_pr.sort_values(by='ba_ld_f', ascending=False)\n",
    "# which species make up 97% of observations?\n",
    "spp_pr['balive_f_csum'] = spp_pr['balive_f'].cumsum()\n",
    "spp_pr['ba_ld_f_csum'] = spp_pr['ba_ld_f'].cumsum() # live+dead\n",
    "spp_pr['tpa_live_f_csum'] = spp_pr['tpa_live_f'].cumsum()\n",
    "spp_pr['tpa_ld_f_csum'] = spp_pr['tpa_ld_f'].cumsum() # live+dead\n",
    "\n",
    "metric = 'ba_ld_f_csum'\n",
    "top_species = spp_pr[spp_pr[metric] <= 0.97]\n",
    "print(f\"\\nSpecies making up 97% of *{metric}*: \\n\\n{top_species[['species','ba_ld','tpa_ld']]}\\n\\n\")\n",
    "\n",
    "del spp_pr\n",
    "gc.collect()"
   ]
  },
  {
   "cell_type": "code",
   "execution_count": 9,
   "id": "4c040682-cbbe-4886-89a1-b6ce9cbcbe78",
   "metadata": {},
   "outputs": [
    {
     "name": "stdout",
     "output_type": "stream",
     "text": [
      "\n",
      "                        species_pair  coo_count    coo_pct\n",
      "4  (engelmann spruce, subalpine fir)        609  22.105263\n",
      "6           (douglas-fir, grand fir)        314  11.397459\n",
      "1           (douglas-fir, white fir)        299  10.852995\n",
      "0    (douglas-fir, engelmann spruce)        297  10.780399\n",
      "3       (douglas-fir, subalpine fir)        223   8.094374\n",
      "2      (engelmann spruce, white fir)         60   2.177858\n",
      "8      (engelmann spruce, grand fir)         58   2.105263\n",
      "7         (grand fir, subalpine fir)         29   1.052632\n",
      "9             (grand fir, white fir)         16   0.580762\n",
      "5         (subalpine fir, white fir)         11   0.399274\n"
     ]
    },
    {
     "data": {
      "text/plain": [
       "822"
      ]
     },
     "execution_count": 9,
     "metadata": {},
     "output_type": "execute_result"
    }
   ],
   "source": [
    "# Assess the species co-occurrence matrix to look for natural groupings\n",
    "# Tests the \"commonness\" of species pairings\n",
    "# Particularly, what to do with the \"mixed conifers\"\n",
    "from itertools import combinations\n",
    "from collections import Counter\n",
    "\n",
    "# 1. Filter Tree Table to relevant species (most common)\n",
    "spp_filter = ['white fir', 'grand fir', 'douglas-fir', 'engelmann spruce', 'subalpine fir']\n",
    "top_spp_df = tree_metrics[tree_metrics['species'].str.lower().isin(spp_filter)]\n",
    "# 2. Group species by tm_id\n",
    "spp_tmid = (\n",
    "    top_spp_df.groupby('tm_id')['species']\n",
    "    .apply(lambda x: list(x.str.lower().unique()))  # Get unique species per tm_id\n",
    "    .reset_index()\n",
    ")\n",
    "# 3. Generate all pairwise species combinations per tm_id\n",
    "species_pairs = spp_tmid['species'].apply(\n",
    "    lambda species_list: list(combinations(sorted(species_list), 2))\n",
    ")\n",
    "# Flatten list of all pairs\n",
    "all_pairs = [pair for sublist in species_pairs for pair in sublist]\n",
    "# 4. Count co-occurrences of each pair\n",
    "pair_counts = Counter(all_pairs)\n",
    "# Convert to DataFrame\n",
    "pair_counts_df = (\n",
    "    pd.DataFrame(pair_counts.items(), columns=['species_pair', 'coo_count'])\n",
    "    .sort_values(by='coo_count', ascending=False)\n",
    ")\n",
    "# 5. Calculate co-occurrence percentage\n",
    "total_tmid = len(spp_tmid)\n",
    "pair_counts_df['coo_pct'] = pair_counts_df['coo_count'] / total_tmid * 100\n",
    "\n",
    "# Inspect results\n",
    "print(f\"\\n{pair_counts_df.head(30)}\")\n",
    "\n",
    "del spp_tmid, top_spp_df, species_pairs, pair_counts, pair_counts_df\n",
    "gc.collect()"
   ]
  },
  {
   "cell_type": "code",
   "execution_count": 10,
   "id": "52f17ffb-dc8f-4a7d-aa14-e110d8ca1bb7",
   "metadata": {},
   "outputs": [
    {
     "name": "stdout",
     "output_type": "stream",
     "text": [
      "                        species   species_gp_n\n",
      "0                    gambel oak   Oak-woodland\n",
      "1                ponderosa pine      Ponderosa\n",
      "2                 quaking aspen          Aspen\n",
      "3   common or two-needle pinyon  Piñon-juniper\n",
      "7               oneseed juniper  Piñon-juniper\n",
      "9                  utah juniper  Piñon-juniper\n",
      "11                 jeffrey pine      Ponderosa\n",
      "12            singleleaf pinyon  Piñon-juniper\n",
      "13         california black oak   Oak-woodland\n",
      "14              canyon live oak   Oak-woodland\n",
      "\n",
      "Index(['grid_index', 'tm_id', 'tmid_pixels', 'tmid_pct', 'species', 'ba_live',\n",
      "       'ba_dead', 'tpp_live', 'tpp_dead', 'tree_ht_live', 'tree_ht_dead',\n",
      "       'qmd_live', 'qmd_dead', 'tpp_ld', 'ba_ld', 'qmd_ld', 'forest_pixels',\n",
      "       'forest_pct', 'species_gp_n'],\n",
      "      dtype='object')\n"
     ]
    }
   ],
   "source": [
    "# Aggregate species into forest groups\n",
    "# These groups represent common pairings for the Southern Rockies\n",
    "spp_grouping = {\n",
    "    'pinyon|juniper': 'Piñon-juniper',\n",
    "    'engelmann spruce|subalpine fir': 'Spruce-fir',\n",
    "    'ponderosa pine|jeffrey': 'Ponderosa', \n",
    "    'lodgepole pine': 'Lodgepole',\n",
    "    'aspen': 'Aspen',\n",
    "    'douglas-fir|grand fir|white fir': 'Mixed-conifer',\n",
    "    'oak': 'Oak-woodland',\n",
    "}\n",
    "\n",
    "spp_remap = {} # dictionary to store the remap values\n",
    "# Iterate over groups to create the species remap dictionary\n",
    "for keywords, spp_group in spp_grouping.items():\n",
    "    # Find species matching the keywords\n",
    "    spp = tree_metrics[tree_metrics['species'].str.contains(keywords, case=False, na=False)]\n",
    "    # Add matching species to the remap dictionary\n",
    "    spp_remap.update({name: spp_group for name in spp['species'].unique()})\n",
    "\n",
    "# Apply the remap to create a new grouped species column\n",
    "tree_metrics['species_gp_n'] = tree_metrics['species'].map(spp_remap).fillna(tree_metrics['species'])\n",
    "# Verify the updated species groups\n",
    "print(tree_metrics[['species', 'species_gp_n']].drop_duplicates().head(10))\n",
    "print(f\"\\n{tree_metrics.columns}\")"
   ]
  },
  {
   "cell_type": "code",
   "execution_count": 11,
   "id": "f5554c05-53bf-4c68-bdf7-6f0e80ee075b",
   "metadata": {},
   "outputs": [
    {
     "name": "stdout",
     "output_type": "stream",
     "text": [
      "\n",
      "   grid_index   species_gp_n  tmid_n  forest_pct       ba_live      ba_dead  \\\n",
      "0       34602          Aspen       1   99.450549     40.406737     0.000000   \n",
      "1       34602  Mixed-conifer       1   99.450549   1757.987391   131.985888   \n",
      "2       34602   Oak-woodland       5   99.450549   1217.515990    36.591012   \n",
      "3       34602  Piñon-juniper      12   99.450549  26396.282102  3234.725392   \n",
      "4       34602      Ponderosa       5   99.450549   4299.610955   149.829507   \n",
      "5       34602  incense-cedar       1   99.450549    252.550742     0.000000   \n",
      "6       34603          Aspen       1   98.816568     40.406737     0.000000   \n",
      "7       34603  Mixed-conifer       4   98.816568   3991.778414   195.938694   \n",
      "8       34603   Oak-woodland       7   98.816568   2640.239054   167.040442   \n",
      "9       34603  Piñon-juniper      12   98.816568  18450.682771  2226.039104   \n",
      "\n",
      "          ba_ld    tpp_live   tpp_dead      tpp_ld    qmd_live    qmd_dead  \\\n",
      "0     40.406737    1.338383   0.000000    1.338383   74.401050    0.000000   \n",
      "1   1889.973279   26.767667   0.222214   26.989881   89.943854  165.002328   \n",
      "2   1254.107003  114.142334   1.338383  115.480717   56.350450   11.800166   \n",
      "3  29631.007494  411.476311  52.196950  463.673261  128.283676   43.513533   \n",
      "4   4449.440462   28.328265   0.222214   28.550479  214.887015   70.320992   \n",
      "5    252.550742    0.444429   0.000000    0.444429  322.786710    0.000000   \n",
      "6     40.406737    1.338383   0.000000    1.338383   74.401050    0.000000   \n",
      "7   4187.717108   71.929612   1.560598   73.490210  127.342893   70.600996   \n",
      "8   2807.279496  324.300939   6.691917  330.992855   58.127203   17.205256   \n",
      "9  20676.721875  424.628591  48.181800  472.810392  106.971880   19.982267   \n",
      "\n",
      "       qmd_ld  tree_ht_live  tree_ht_dead  \n",
      "0   74.401050     33.000000      0.000000  \n",
      "1  254.946182     37.736842     52.500000  \n",
      "2   68.150617     20.034921      2.000000  \n",
      "3  171.797209     17.595287      7.834046  \n",
      "4  285.208008     58.284091      1.000000  \n",
      "5  322.786710     72.500000      0.000000  \n",
      "6   74.401050     33.000000      0.000000  \n",
      "7  197.943890     52.275917     22.666667  \n",
      "8   75.332459     22.088690      4.125000  \n",
      "9  126.954147     15.405094      3.739219  \n",
      "\n"
     ]
    },
    {
     "data": {
      "text/plain": [
       "33"
      ]
     },
     "execution_count": 11,
     "metadata": {},
     "output_type": "execute_result"
    }
   ],
   "source": [
    "# re-aggregate the TreeMap characteristics by FRP grid/species combinations\n",
    "# summarizes forest metrics by individual species present in the grid cell\n",
    "# now, summarizes against the new forest groups made above\n",
    "grid_tm = (\n",
    "    tree_metrics.groupby(\n",
    "        ['grid_index', 'species_gp_n'], as_index=False\n",
    "    ).agg(\n",
    "        tmid_n=('tm_id', 'nunique'), # number of unique tm_id contributing\n",
    "        forest_pct=('forest_pct','max'), # retains the forest pixel count for the grid\n",
    "        ba_live=('ba_live', 'sum'),\n",
    "        ba_dead=('ba_dead', 'sum'), \n",
    "        ba_ld=('ba_ld', 'sum'),\n",
    "        tpp_live=('tpp_live', 'sum'),  \n",
    "        tpp_dead=('tpp_dead', 'sum'),\n",
    "        tpp_ld=('tpp_ld', 'sum'),\n",
    "        qmd_live=('qmd_live', 'mean'),\n",
    "        qmd_dead=('qmd_dead', 'mean'),\n",
    "        qmd_ld=('qmd_ld', 'mean'),\n",
    "        tree_ht_live=('tree_ht_live', 'mean'),\n",
    "        tree_ht_dead=('tree_ht_dead', 'mean')\n",
    "    )\n",
    ")\n",
    "\n",
    "# Check results\n",
    "print(f\"\\n{grid_tm.head(10)}\\n\")\n",
    "\n",
    "del tree_metrics\n",
    "gc.collect()"
   ]
  },
  {
   "cell_type": "code",
   "execution_count": 12,
   "id": "b99e0ef3-9891-4180-9a21-7fc722a7b88f",
   "metadata": {},
   "outputs": [
    {
     "name": "stdout",
     "output_type": "stream",
     "text": [
      "\n",
      "Species making up 97% of the total *tpa_live_f_csum*: \n",
      "\n",
      "       species_gp_n  balive_f  tpa_live_f\n",
      "5        Ponderosa  0.233136    0.129541\n",
      "1        Lodgepole  0.176439    0.239973\n",
      "2    Mixed-conifer  0.151141    0.101253\n",
      "6       Spruce-fir  0.126783    0.145098\n",
      "4    Piñon-juniper  0.121302    0.071350\n",
      "0            Aspen  0.088290    0.100496\n",
      "3     Oak-woodland  0.034027    0.142139\n",
      "48    corkbark fir  0.008678    0.006936\n",
      "70     limber pine  0.008322    0.007102\n",
      "71   loblolly pine  0.005666    0.004508\n",
      "144  western larch  0.004457    0.003551\n",
      "36     blue spruce  0.003909    0.002993\n",
      "67   incense-cedar  0.003907    0.002017\n",
      "129   swamp tupelo  0.003842    0.003340\n",
      "\n",
      "\n"
     ]
    },
    {
     "data": {
      "text/plain": [
       "0"
      ]
     },
     "execution_count": 12,
     "metadata": {},
     "output_type": "execute_result"
    }
   ],
   "source": [
    "# Re-assess the primary species after the regrouping\n",
    "spp_pr = (\n",
    "    grid_tm.groupby('species_gp_n', as_index=False)\n",
    "    .agg(\n",
    "        ba_ld=('ba_ld','sum'),\n",
    "        tpp_ld=('tpp_ld', 'sum')\n",
    "    )\n",
    ")\n",
    "\n",
    "# calculate the fraction\n",
    "spp_pr['balive_f'] = spp_pr['ba_ld'] / spp_pr['ba_ld'].sum()\n",
    "spp_pr['tpa_live_f'] = spp_pr['tpp_ld'] / spp_pr['tpp_ld'].sum()\n",
    "# sort values and gather the primary species\n",
    "spp_pr = spp_pr.sort_values(by='balive_f', ascending=False)\n",
    "# which species make up 97% of observations?\n",
    "spp_pr['balive_f_csum'] = spp_pr['balive_f'].cumsum()\n",
    "spp_pr['tpa_live_f_csum'] = spp_pr['tpa_live_f'].cumsum()\n",
    "top_species = spp_pr[spp_pr['balive_f_csum'] <= 0.97]\n",
    "print(\n",
    "    f\"\\nSpecies making up 97% of the total *tpa_live_f_csum*: \\n\\n\",\n",
    "    f\"{top_species[['species_gp_n','balive_f','tpa_live_f']]}\\n\\n\")\n",
    "\n",
    "del spp_pr\n",
    "gc.collect()"
   ]
  },
  {
   "cell_type": "code",
   "execution_count": 13,
   "id": "626e1040-4e44-46ba-9a5b-748311263df4",
   "metadata": {},
   "outputs": [
    {
     "name": "stdout",
     "output_type": "stream",
     "text": [
      "262253 / 588308 with our predominant species.\n"
     ]
    },
    {
     "data": {
      "text/plain": [
       "0"
      ]
     },
     "execution_count": 13,
     "metadata": {},
     "output_type": "execute_result"
    }
   ],
   "source": [
    "# Subset the tree table metrics to retain those which match our FORTYPCD\n",
    "spps = ['Ponderosa','Lodgepole','Spruce-fir','Aspen','Mixed-conifer','Piñon-juniper']\n",
    "grid_tm_spp = grid_tm[grid_tm['species_gp_n'].isin(spps)]\n",
    "print(f\"{len(grid_tm_spp)} / {len(grid_tm)} with our predominant species.\")\n",
    "del grid_tm\n",
    "gc.collect()"
   ]
  },
  {
   "cell_type": "code",
   "execution_count": 14,
   "id": "929d6b12-1742-4750-b51e-70c6958013c9",
   "metadata": {},
   "outputs": [
    {
     "name": "stdout",
     "output_type": "stream",
     "text": [
      "39450 [73.1%] grids w/ any aspen\n"
     ]
    }
   ],
   "source": [
    "# check on the aspen composition\n",
    "# how many grids have at least some aspen component?\n",
    "spp_idx = grid_tm_spp[grid_tm_spp['species_gp_n'] == 'Aspen']['grid_index'].unique() # list of grid indices\n",
    "grid_aspen = grid_tm_spp[grid_tm_spp['grid_index'].isin(spp_idx)]\n",
    "# check how many aspen gridcells there are\n",
    "n_spp_grids = len(grid_aspen['grid_index'].unique())\n",
    "print(f\"{n_spp_grids} [{round(n_spp_grids/len(grid_tm_spp['grid_index'].unique())*100,1)}%] grids w/ any aspen\")"
   ]
  },
  {
   "cell_type": "code",
   "execution_count": 15,
   "id": "00c865ca-c8bd-4bd7-b779-6d91313dcbad",
   "metadata": {},
   "outputs": [
    {
     "name": "stdout",
     "output_type": "stream",
     "text": [
      "\n",
      "Dominance based on *tpp_ld*\n",
      "\n",
      "\t~ Ponderosa: 13938 grids (25.8%)\n",
      "\t~ Lodgepole: 16635 grids (30.8%)\n",
      "\t~ Spruce-fir: 8424 grids (15.6%)\n",
      "\t~ Aspen: 5335 grids (9.9%)\n",
      "\t~ Mixed-conifer: 5099 grids (9.4%)\n",
      "\t~ Piñon-juniper: 4527 grids (8.4%)\n",
      "\n",
      "Dominance based on *ba_ld*\n",
      "\n",
      "\t~ Ponderosa: 18410 grids (34.1%)\n",
      "\t~ Lodgepole: 14228 grids (26.4%)\n",
      "\t~ Spruce-fir: 6977 grids (12.9%)\n",
      "\t~ Aspen: 3692 grids (6.8%)\n",
      "\t~ Mixed-conifer: 6110 grids (11.3%)\n",
      "\t~ Piñon-juniper: 4541 grids (8.4%)\n",
      "\n",
      "Dominance based on *qmd_ld*\n",
      "\n",
      "\t~ Ponderosa: 24305 grids (45.0%)\n",
      "\t~ Lodgepole: 4899 grids (9.1%)\n",
      "\t~ Spruce-fir: 3029 grids (5.6%)\n",
      "\t~ Aspen: 3187 grids (5.9%)\n",
      "\t~ Mixed-conifer: 10668 grids (19.8%)\n",
      "\t~ Piñon-juniper: 7870 grids (14.6%)\n",
      "\n",
      "\n"
     ]
    },
    {
     "data": {
      "text/plain": [
       "0"
      ]
     },
     "execution_count": 15,
     "metadata": {},
     "output_type": "execute_result"
    }
   ],
   "source": [
    "# Identify dominant species for each grid cell by 'balive' or 'tpa_live'\n",
    "# print these summaries for all species\n",
    "# percent of grids in which that species is dominant\n",
    "metrics = ['tpp_ld', 'ba_ld', 'qmd_ld']  # metrics to assess\n",
    "for metric in metrics:\n",
    "    print(f\"\\nDominance based on *{metric}*\\n\")\n",
    "    dom_spp = (\n",
    "        grid_tm_spp.groupby('grid_index', as_index=False)\n",
    "        .apply(lambda df: df.loc[df[metric].idxmax()])\n",
    "        .reset_index(drop=True))\n",
    "    # print the dominance for each major forest type\n",
    "    for spp in spps:\n",
    "        # Filter for grid cells where species is dominant\n",
    "        spp_dominant = dom_spp[dom_spp['species_gp_n'] == spp]\n",
    "        # Count the number of grid cells with aspen dominance\n",
    "        n_dom = len(spp_dominant['grid_index'].unique())\n",
    "        # Print the results\n",
    "        total_grids = len(grid_tm_spp['grid_index'].unique())\n",
    "        spp_pct = round(n_dom / total_grids * 100, 1)\n",
    "        print(f\"\\t~ {spp}: {n_dom} grids ({spp_pct}%)\")\n",
    "print(\"\\n\")\n",
    "del dom_spp, spp_dominant\n",
    "gc.collect()"
   ]
  },
  {
   "cell_type": "code",
   "execution_count": 18,
   "id": "cfde08ff-da3c-44bc-96bd-cd4cd5895ae1",
   "metadata": {},
   "outputs": [
    {
     "data": {
      "text/plain": [
       "Index(['grid_index', 'species_gp_n', 'tmid_n', 'forest_pct', 'ba_live',\n",
       "       'ba_dead', 'ba_ld', 'tpp_live', 'tpp_dead', 'tpp_ld', 'qmd_live',\n",
       "       'qmd_dead', 'qmd_ld', 'tree_ht_live', 'tree_ht_dead'],\n",
       "      dtype='object')"
      ]
     },
     "execution_count": 18,
     "metadata": {},
     "output_type": "execute_result"
    }
   ],
   "source": [
    "grid_tm_spp.columns"
   ]
  },
  {
   "cell_type": "code",
   "execution_count": 36,
   "id": "1bd180ac-7fac-483b-9608-d7d4920804e5",
   "metadata": {},
   "outputs": [
    {
     "name": "stdout",
     "output_type": "stream",
     "text": [
      "[89.6%] predominantly forested grids.\n",
      "\n"
     ]
    },
    {
     "data": {
      "text/html": [
       "<div>\n",
       "<style scoped>\n",
       "    .dataframe tbody tr th:only-of-type {\n",
       "        vertical-align: middle;\n",
       "    }\n",
       "\n",
       "    .dataframe tbody tr th {\n",
       "        vertical-align: top;\n",
       "    }\n",
       "\n",
       "    .dataframe thead th {\n",
       "        text-align: right;\n",
       "    }\n",
       "</style>\n",
       "<table border=\"1\" class=\"dataframe\">\n",
       "  <thead>\n",
       "    <tr style=\"text-align: right;\">\n",
       "      <th></th>\n",
       "      <th>grid_index</th>\n",
       "      <th>species_gp_n</th>\n",
       "      <th>ba_live_pr</th>\n",
       "      <th>ba_dead_pr</th>\n",
       "      <th>ba_ld_pr</th>\n",
       "      <th>tpp_live_pr</th>\n",
       "      <th>tpp_dead_pr</th>\n",
       "      <th>tpp_ld_pr</th>\n",
       "      <th>qmd_live_pr</th>\n",
       "      <th>qmd_dead_pr</th>\n",
       "      <th>qmd_ld_pr</th>\n",
       "    </tr>\n",
       "  </thead>\n",
       "  <tbody>\n",
       "    <tr>\n",
       "      <th>0</th>\n",
       "      <td>34602</td>\n",
       "      <td>Aspen</td>\n",
       "      <td>0.001244</td>\n",
       "      <td>0.000000</td>\n",
       "      <td>0.001122</td>\n",
       "      <td>0.002860</td>\n",
       "      <td>0.000000</td>\n",
       "      <td>0.002860</td>\n",
       "      <td>0.146599</td>\n",
       "      <td>0.000000</td>\n",
       "      <td>0.146599</td>\n",
       "    </tr>\n",
       "    <tr>\n",
       "      <th>1</th>\n",
       "      <td>34602</td>\n",
       "      <td>Mixed-conifer</td>\n",
       "      <td>0.054101</td>\n",
       "      <td>0.037533</td>\n",
       "      <td>0.052483</td>\n",
       "      <td>0.057207</td>\n",
       "      <td>0.004221</td>\n",
       "      <td>0.057207</td>\n",
       "      <td>0.177224</td>\n",
       "      <td>0.591752</td>\n",
       "      <td>0.177224</td>\n",
       "    </tr>\n",
       "    <tr>\n",
       "      <th>2</th>\n",
       "      <td>34602</td>\n",
       "      <td>Piñon-juniper</td>\n",
       "      <td>0.812336</td>\n",
       "      <td>0.919860</td>\n",
       "      <td>0.822836</td>\n",
       "      <td>0.879391</td>\n",
       "      <td>0.991557</td>\n",
       "      <td>0.879391</td>\n",
       "      <td>0.252768</td>\n",
       "      <td>0.156054</td>\n",
       "      <td>0.252768</td>\n",
       "    </tr>\n",
       "    <tr>\n",
       "      <th>3</th>\n",
       "      <td>34602</td>\n",
       "      <td>Ponderosa</td>\n",
       "      <td>0.132319</td>\n",
       "      <td>0.042607</td>\n",
       "      <td>0.123558</td>\n",
       "      <td>0.060542</td>\n",
       "      <td>0.004221</td>\n",
       "      <td>0.060542</td>\n",
       "      <td>0.423410</td>\n",
       "      <td>0.252194</td>\n",
       "      <td>0.423410</td>\n",
       "    </tr>\n",
       "    <tr>\n",
       "      <th>4</th>\n",
       "      <td>34603</td>\n",
       "      <td>Aspen</td>\n",
       "      <td>0.001173</td>\n",
       "      <td>0.000000</td>\n",
       "      <td>0.001063</td>\n",
       "      <td>0.002102</td>\n",
       "      <td>0.000000</td>\n",
       "      <td>0.002102</td>\n",
       "      <td>0.155251</td>\n",
       "      <td>0.000000</td>\n",
       "      <td>0.155251</td>\n",
       "    </tr>\n",
       "  </tbody>\n",
       "</table>\n",
       "</div>"
      ],
      "text/plain": [
       "   grid_index   species_gp_n  ba_live_pr  ba_dead_pr  ba_ld_pr  tpp_live_pr  \\\n",
       "0       34602          Aspen    0.001244    0.000000  0.001122     0.002860   \n",
       "1       34602  Mixed-conifer    0.054101    0.037533  0.052483     0.057207   \n",
       "2       34602  Piñon-juniper    0.812336    0.919860  0.822836     0.879391   \n",
       "3       34602      Ponderosa    0.132319    0.042607  0.123558     0.060542   \n",
       "4       34603          Aspen    0.001173    0.000000  0.001063     0.002102   \n",
       "\n",
       "   tpp_dead_pr  tpp_ld_pr  qmd_live_pr  qmd_dead_pr  qmd_ld_pr  \n",
       "0     0.000000   0.002860     0.146599     0.000000   0.146599  \n",
       "1     0.004221   0.057207     0.177224     0.591752   0.177224  \n",
       "2     0.991557   0.879391     0.252768     0.156054   0.252768  \n",
       "3     0.004221   0.060542     0.423410     0.252194   0.423410  \n",
       "4     0.000000   0.002102     0.155251     0.000000   0.155251  "
      ]
     },
     "execution_count": 36,
     "metadata": {},
     "output_type": "execute_result"
    }
   ],
   "source": [
    "# filter to keep grids with our top/dominant species\n",
    "# species groups making up 97% of gridcell area\n",
    "# calculate how many grids are predominantly forested\n",
    "n_forest = len(grid_tm_spp[grid_tm_spp['forest_pct'] > 50])\n",
    "print(f\"[{round(n_forest/len(grid_tm_spp)*100,2)}%] predominantly forested grids.\\n\")\n",
    "\n",
    "# Get the grid-level dominance and abundance proportions by species\n",
    "# calculate the total balive and tpa for the grids\n",
    "grid_totals = (\n",
    "    grid_tm_spp.groupby('grid_index', as_index=False)\n",
    "    .agg(\n",
    "        balive_total=('ba_live', 'sum'),\n",
    "        badead_total=('ba_dead', 'sum'),\n",
    "        ba_ld_total=('ba_ld', 'sum'),\n",
    "        tpp_live_total=('tpp_live', 'sum'),\n",
    "        tpp_dead_total=('tpp_dead', 'sum'),\n",
    "        tpp_ld_total=('tpp_ld', 'sum'),\n",
    "        qmd_live_total=('qmd_live', 'sum'),\n",
    "        qmd_dead_total=('qmd_dead', 'sum'),\n",
    "        qmd_ld_total=('qmd_ld', 'sum')\n",
    "    )\n",
    ")\n",
    "# subset columns\n",
    "grid_totals = grid_totals[['grid_index','balive_total','badead_total','ba_ld_total',\n",
    "                           'tpp_live_total','tpp_dead_total','tpp_ld_total',\n",
    "                           'qmd_live_total','qmd_dead_total','qmd_ld_total'\n",
    "                          ]]\n",
    "\n",
    "# merge back to the grid data\n",
    "grid_tm_spp_pr = grid_tm_spp.merge(grid_totals, on='grid_index', how='left')\n",
    "\n",
    "# ensure 'balive' and 'tpa' columns exist  and are not null or zero\n",
    "grid_tm_spp_pr = grid_tm_spp_pr.dropna(subset=['ba_ld', 'tpp_ld', 'qmd_ld'])  # Drop rows with missing values\n",
    "\n",
    "# calculate the species proportions (for live/dead)\n",
    "\n",
    "# dominance (live/dead basal area)\n",
    "grid_tm_spp_pr['ba_live_pr'] = grid_tm_spp_pr['ba_live'] / grid_tm_spp_pr['balive_total']\n",
    "grid_tm_spp_pr['ba_dead_pr'] = grid_tm_spp_pr['ba_dead'] / grid_tm_spp_pr['badead_total']\n",
    "grid_tm_spp_pr['ba_ld_pr'] = grid_tm_spp_pr['ba_ld'] / grid_tm_spp_pr['ba_ld_total']\n",
    "\n",
    "# abundance (live/dead TPA)\n",
    "grid_tm_spp_pr['tpp_live_pr'] = grid_tm_spp_pr['tpp_live'] / grid_tm_spp_pr['tpp_live_total']\n",
    "grid_tm_spp_pr['tpp_dead_pr'] = grid_tm_spp_pr['tpp_dead'] / grid_tm_spp_pr['tpp_dead_total']\n",
    "grid_tm_spp_pr['tpp_ld_pr'] = grid_tm_spp_pr['tpp_live'] / grid_tm_spp_pr['tpp_live_total']\n",
    "\n",
    "# quadratic mean diameter (live/dead QMD)\n",
    "grid_tm_spp_pr['qmd_live_pr'] = grid_tm_spp_pr['qmd_live'] / grid_tm_spp_pr['qmd_live_total']\n",
    "grid_tm_spp_pr['qmd_dead_pr'] = grid_tm_spp_pr['qmd_dead'] / grid_tm_spp_pr['qmd_dead_total']\n",
    "grid_tm_spp_pr['qmd_ld_pr'] = grid_tm_spp_pr['qmd_live'] / grid_tm_spp_pr['qmd_live_total']\n",
    "\n",
    "\n",
    "del grid_totals\n",
    "\n",
    "# cheack on the results\n",
    "grid_tm_spp_pr[['grid_index','species_gp_n',\n",
    "             'ba_live_pr','ba_dead_pr','ba_ld_pr',\n",
    "             'tpp_live_pr','tpp_dead_pr','tpp_ld_pr',\n",
    "             'qmd_live_pr','qmd_dead_pr','qmd_ld_pr'\n",
    "            ]].head()"
   ]
  },
  {
   "cell_type": "code",
   "execution_count": 37,
   "id": "0affd094-6b05-408d-9f12-40c0cbe6e44a",
   "metadata": {},
   "outputs": [
    {
     "data": {
      "image/png": "[encoded data removed]",
      "text/plain": [
       "<Figure size 600x400 with 1 Axes>"
      ]
     },
     "metadata": {},
     "output_type": "display_data"
    },
    {
     "data": {
      "text/plain": [
       "13060"
      ]
     },
     "execution_count": 37,
     "metadata": {},
     "output_type": "execute_result"
    }
   ],
   "source": [
    "# Plot the distribution of dominance and abundance across forest species groups\n",
    "# Sort species by mean dominance\n",
    "sp_order = (\n",
    "    grid_tm_spp_pr.groupby('species_gp_n')['ba_ld_pr']\n",
    "    .mean().sort_values(ascending=False).index\n",
    ")\n",
    "# Reshape the data to long format for easier plotting\n",
    "df_l = pd.melt(\n",
    "    grid_tm_spp_pr,\n",
    "    id_vars=['species_gp_n'],\n",
    "    value_vars=['ba_ld_pr', 'tpp_ld_pr', 'qmd_ld_pr'],\n",
    "    var_name='metric',\n",
    "    value_name='value'\n",
    ")\n",
    "\n",
    "# Set up the plot\n",
    "plt.figure(figsize=(6, 4))\n",
    "sns.boxplot(\n",
    "    data=df_l,\n",
    "    x='species_gp_n',\n",
    "    y='value',\n",
    "    hue='metric',\n",
    "    order=sp_order,\n",
    "    palette='viridis',\n",
    "    flierprops=dict(marker='o', markersize=1.2)\n",
    ")\n",
    "\n",
    "# Customize the plot\n",
    "plt.xlabel('Species')\n",
    "plt.ylabel('Metric Value')\n",
    "plt.xticks(rotation=45, ha='right')\n",
    "\n",
    "# Customize legend labels\n",
    "handles, labels = plt.gca().get_legend_handles_labels()\n",
    "new_labels = ['BA', 'TPP', 'QMD']  # New labels\n",
    "plt.legend(\n",
    "    handles=handles, \n",
    "    labels=new_labels,  # Replace default labels\n",
    "    title='Metric', \n",
    "    loc='upper right', \n",
    "    bbox_to_anchor=(1, 1)\n",
    ")\n",
    "\n",
    "# Finalize and show the plot\n",
    "plt.tight_layout()\n",
    "\n",
    "# Save the plot\n",
    "out_png = os.path.join(projdir, 'figures/FigureSX_TopSpecies_TreeMetrics_Proportions.png')\n",
    "plt.savefig(out_png, dpi=300, bbox_inches='tight')\n",
    "\n",
    "plt.show()\n",
    "\n",
    "del df_l\n",
    "gc.collect()"
   ]
  },
  {
   "cell_type": "code",
   "execution_count": 38,
   "id": "7f995f09-ed85-4097-aab1-da1cb7b4dbb3",
   "metadata": {},
   "outputs": [
    {
     "name": "stdout",
     "output_type": "stream",
     "text": [
      "Saved file to: /Users/max/Library/CloudStorage/OneDrive-Personal/mcook/aspen-fire/Aim2/data/tabular/mod/gridstats_treetable.csv\n"
     ]
    }
   ],
   "source": [
    "# save the file.\n",
    "out_fp = os.path.join(projdir,'data/tabular/mod/gridstats_treetable.csv')\n",
    "grid_tm_spp_pr.to_csv(out_fp)\n",
    "print(f\"Saved file to: {out_fp}\")"
   ]
  },
  {
   "cell_type": "code",
   "execution_count": null,
   "id": "ed5f99d0-29a2-471f-9289-0af8e5be6d33",
   "metadata": {},
   "outputs": [],
   "source": []
  },
  {
   "cell_type": "code",
   "execution_count": null,
   "id": "1e7053cb-a618-4102-b9ad-ae9ed8de595c",
   "metadata": {},
   "outputs": [],
   "source": []
  },
  {
   "cell_type": "code",
   "execution_count": 39,
   "id": "448c6e9f-67bf-45bb-b8b4-798623e77d0f",
   "metadata": {},
   "outputs": [
    {
     "data": {
      "text/plain": [
       "Index(['grid_index', 'grid_area', 'afd_count', 'unique_days', 'overlap',\n",
       "       'frp_csum', 'frp_max', 'frp_min', 'frp_mean', 'frp_p90', 'frp_p95',\n",
       "       'frp_p97', 'frp_p99', 'frp_first', 'day_max_frp', 'dt_max_frp',\n",
       "       'first_obs_date', 'last_obs_date', 't4_max', 't4_mean', 't5_max',\n",
       "       't5_mean', 'day_count', 'night_count', 'frp_max_day', 'frp_max_night',\n",
       "       'frp_csum_day', 'frp_csum_night', 'frp_mean_day', 'frp_mean_night',\n",
       "       'frp_p90_day', 'frp_p90_night', 'frp_p95_day', 'frp_p95_night',\n",
       "       'frp_p97_day', 'frp_p97_night', 'frp_p99_day', 'frp_p99_night',\n",
       "       'frp_first_day', 'frp_first_night', 'Fire_ID', 'Fire_Name', 'geometry',\n",
       "       'x', 'y', 'species_gp_n', 'tmid_n', 'forest_pct', 'ba_live', 'ba_dead',\n",
       "       'ba_ld', 'tpp_live', 'tpp_dead', 'tpp_ld', 'qmd_live', 'qmd_dead',\n",
       "       'qmd_ld', 'tree_ht_live', 'tree_ht_dead', 'balive_total',\n",
       "       'badead_total', 'ba_ld_total', 'tpp_live_total', 'tpp_dead_total',\n",
       "       'tpp_ld_total', 'qmd_live_total', 'qmd_dead_total', 'qmd_ld_total',\n",
       "       'ba_live_pr', 'ba_dead_pr', 'ba_ld_pr', 'tpp_live_pr', 'tpp_dead_pr',\n",
       "       'tpp_ld_pr', 'qmd_live_pr', 'qmd_dead_pr', 'qmd_ld_pr'],\n",
       "      dtype='object')"
      ]
     },
     "execution_count": 39,
     "metadata": {},
     "output_type": "execute_result"
    }
   ],
   "source": [
    "# merge back to the frp data\n",
    "grid.drop(columns=['forest_pixels','forest_pct'], inplace=True)\n",
    "grid_tm_frp = grid.merge(grid_tm_spp_pr, on='grid_index', how='inner')\n",
    "grid_tm_frp.columns"
   ]
  },
  {
   "cell_type": "code",
   "execution_count": 43,
   "id": "70749b6a-0318-4fcc-a62b-16b5ddbdab84",
   "metadata": {},
   "outputs": [
    {
     "data": {
      "text/plain": [
       "0"
      ]
     },
     "execution_count": 43,
     "metadata": {},
     "output_type": "execute_result"
    }
   ],
   "source": [
    "del grid_tm_spp, grid_tm_spp_pr\n",
    "gc.collect()"
   ]
  },
  {
   "cell_type": "code",
   "execution_count": 40,
   "id": "97e86490-1b72-4d06-828f-d3d8ee71a100",
   "metadata": {},
   "outputs": [
    {
     "data": {
      "text/plain": [
       "array(['Aspen', 'Lodgepole', 'Mixed-conifer', 'Piñon-juniper',\n",
       "       'Ponderosa', 'Spruce-fir'], dtype=object)"
      ]
     },
     "execution_count": 40,
     "metadata": {},
     "output_type": "execute_result"
    }
   ],
   "source": [
    "grid_tm_frp['species_gp_n'].unique()"
   ]
  },
  {
   "cell_type": "code",
   "execution_count": null,
   "id": "5487e137-cb1b-4bf7-8997-074c64cb9263",
   "metadata": {},
   "outputs": [],
   "source": []
  },
  {
   "cell_type": "code",
   "execution_count": 42,
   "id": "41f9f0ea-e0e5-4d1a-aadf-97a91ca7c188",
   "metadata": {},
   "outputs": [
    {
     "name": "stdout",
     "output_type": "stream",
     "text": [
      "Saved file to: /Users/max/Library/CloudStorage/OneDrive-Personal/mcook/aspen-fire/Aim2/data/tabular/mod/gridstats_treetable_frp.csv\n"
     ]
    },
    {
     "data": {
      "text/plain": [
       "0"
      ]
     },
     "execution_count": 42,
     "metadata": {},
     "output_type": "execute_result"
    }
   ],
   "source": [
    "# Save this table out.\n",
    "# First, extract centroid coords\n",
    "df = grid_tm_frp.copy()\n",
    "df = df.to_crs(4326) # WGS coords for lat/lon\n",
    "df['x'] = df.geometry.centroid.x  # Longitude (x-coordinate)\n",
    "df['y'] = df.geometry.centroid.y \n",
    "# remove the geomtry field before exporting\n",
    "df.drop(columns=['geometry'], inplace=True)\n",
    "\n",
    "# save the file.\n",
    "out_fp = os.path.join(projdir,'data/tabular/mod/gridstats_treetable_frp.csv')\n",
    "df.to_csv(out_fp)\n",
    "print(f\"Saved file to: {out_fp}\")\n",
    "\n",
    "del df\n",
    "gc.collect()"
   ]
  },
  {
   "cell_type": "code",
   "execution_count": null,
   "id": "976cf8bd-9c40-4c16-bd18-66c7d3e4d4cf",
   "metadata": {},
   "outputs": [],
   "source": [
    "# Explore the data ..."
   ]
  },
  {
   "cell_type": "code",
   "execution_count": 48,
   "id": "7911d88d-04d2-4837-b2ee-04fc59af1086",
   "metadata": {},
   "outputs": [
    {
     "data": {
      "image/png": "[encoded data removed]",
      "text/plain": [
       "<Figure size 600x400 with 6 Axes>"
      ]
     },
     "metadata": {},
     "output_type": "display_data"
    }
   ],
   "source": [
    "# plot the distribution of percent cover by forest types\n",
    "grid_tm_frp['species_gp_n'] = grid_tm_frp['species_gp_n'].astype('category')\n",
    "\n",
    "spp_order = top_species[top_species['species_gp_n'].isin(grid_tm_frp['species_gp_n'].unique())]\n",
    "spp_order = spp_order['species_gp_n'].tolist()\n",
    "grid_tm_frp['species_gp_n'] = pd.Categorical(\n",
    "    grid_tm_frp['species_gp_n'],\n",
    "    categories=spp_order,\n",
    "    ordered=True\n",
    ")\n",
    "\n",
    "# Create a FacetGrid with the specified order\n",
    "g = sns.FacetGrid(\n",
    "    data=grid_tm_frp,\n",
    "    col='species_gp_n',      \n",
    "    col_wrap=3,             \n",
    "    sharex=False,            \n",
    "    sharey=False,            \n",
    "    height=2,               \n",
    "    aspect=1.2              \n",
    ")\n",
    "\n",
    "# Map a KDE plot to each facet\n",
    "g.map(sns.kdeplot, 'ba_ld_pr', fill=True, alpha=0.6)\n",
    "\n",
    "# Customize the plot\n",
    "g.set_titles(\"{col_name}\")  # Use species names as titles\n",
    "g.set_axis_labels(\"Dominance (basal area)\", \"Density\", size=9)  # Axis labels\n",
    "g.fig.set_size_inches(6,4)  # Set figure dimensions\n",
    "plt.subplots_adjust(top=0.9)  # Adjust subplot spacing\n",
    "\n",
    "# Show the plot\n",
    "plt.show()"
   ]
  },
  {
   "cell_type": "code",
   "execution_count": 57,
   "id": "851db21e-2297-418e-a9b4-3325b5995b4e",
   "metadata": {},
   "outputs": [
    {
     "data": {
      "image/png": "[encoded data removed]",
      "text/plain": [
       "<Figure size 600x400 with 1 Axes>"
      ]
     },
     "metadata": {},
     "output_type": "display_data"
    }
   ],
   "source": [
    "df_long = pd.melt(\n",
    "    grid_tm_frp,\n",
    "    id_vars=['species_gp_n'],\n",
    "    value_vars=['ba_ld_pr', 'tpp_ld_pr', 'qmd_ld_pr'],\n",
    "    var_name='metric',\n",
    "    value_name='value'\n",
    ")\n",
    "\n",
    "# Set the order of species\n",
    "spp_order = top_species[top_species['species_gp_n'].isin(grid_tm_frp['species_gp_n'].unique())]\n",
    "spp_order = spp_order['species_gp_n'].tolist()\n",
    "df_long['species_gp_n'] = pd.Categorical(\n",
    "    df_long['species_gp_n'],\n",
    "    categories=spp_order,\n",
    "    ordered=True\n",
    ")\n",
    "\n",
    "# Just plot one species\n",
    "df_long = df_long[df_long['species_gp_n'] == 'Aspen']\n",
    "\n",
    "# Create the plot with stacked densities\n",
    "plt.figure(figsize=(6,4))\n",
    "\n",
    "# Use seaborn's KDE plot for each metric, with species as rows (stacked)\n",
    "sns.kdeplot(\n",
    "    data=df_long,\n",
    "    x='value',\n",
    "    hue='metric',  # Separate densities by metric\n",
    "    multiple='stack',  # Stack densities\n",
    "    fill=True,         # Fill densities for stacking effect\n",
    "    palette='viridis',\n",
    "    alpha=0.6\n",
    ")\n",
    "\n",
    "# Customize the plot\n",
    "plt.xlabel(\"Proportion Value (Dominance/Abundance)\", fontsize=10)\n",
    "plt.ylabel(\"Density\", fontsize=10)\n",
    "plt.legend(title=\"Metric\", labels=[\"BA\", \"TPP\", \"QMD\"], fontsize=9)\n",
    "plt.tight_layout()\n",
    "\n",
    "# Show the plot\n",
    "plt.show()"
   ]
  },
  {
   "cell_type": "code",
   "execution_count": 58,
   "id": "027a9024-d8fa-48dc-b37d-d2a404e157c1",
   "metadata": {},
   "outputs": [
    {
     "data": {
      "image/png": "[encoded data removed]",
      "text/plain": [
       "<Figure size 600x500 with 2 Axes>"
      ]
     },
     "metadata": {},
     "output_type": "display_data"
    }
   ],
   "source": [
    "# Species co-occurrence plot\n",
    "# Threshold species presence where dominance/abundance > 1% of total\n",
    "dt = 0.01\n",
    "# Create a binary presence-absence matrix\n",
    "pres_abs = (\n",
    "    grid_tm_frp\n",
    "    .pivot_table(index='grid_index', columns='species_gp_n', values='ba_ld_pr', aggfunc='first')\n",
    "    .fillna(0)\n",
    "    .applymap(lambda x: 1 if x >= dt else 0)  # Convert to binary\n",
    ")\n",
    "\n",
    "# get the species names and matrix\n",
    "species = pres_abs.columns\n",
    "coo_mat = pd.DataFrame(0, index=species, columns=species)\n",
    "# map across species combinations\n",
    "for sp1, sp2 in combinations(species, 2):\n",
    "    # Count co-occurrence (grids where both species are present)\n",
    "    coo = np.sum(pres_abs[sp1] & pres_abs[sp2])\n",
    "    coo_mat.loc[sp1, sp2] = coo\n",
    "    coo_mat.loc[sp2, sp1] = coo  # Symmetry\n",
    "\n",
    "# Optional: Normalize by the total number of grids for each species\n",
    "species_totals = pres_abs.sum(axis=0)\n",
    "norm_mat = coo_mat.div(species_totals, axis=0)\n",
    "\n",
    "# Create a heatmap\n",
    "plt.figure(figsize=(6, 5))\n",
    "sns.heatmap(\n",
    "    norm_mat, \n",
    "    annot=True, \n",
    "    fmt=\".2f\", \n",
    "    cmap=\"YlGnBu\", \n",
    "    cbar_kws={'label': 'Co-Occurrence Frequency'}\n",
    ")\n",
    "plt.xlabel(\"Species\")\n",
    "plt.ylabel(\"Species\")\n",
    "plt.tight_layout()\n",
    "\n",
    "out_png = os.path.join(projdir, 'figures/FigureX_Species_CoOccurrence.png')\n",
    "plt.savefig(out_png, dpi=300, bbox_inches='tight')\n",
    "\n",
    "plt.show()"
   ]
  }
 ],
 "metadata": {
  "kernelspec": {
   "display_name": "aspen-fire",
   "language": "python",
   "name": "aspen-fire"
  },
  "language_info": {
   "codemirror_mode": {
    "name": "ipython",
    "version": 3
   },
   "file_extension": ".py",
   "mimetype": "text/x-python",
   "name": "python",
   "nbconvert_exporter": "python",
   "pygments_lexer": "ipython3",
   "version": "3.10.12"
  }
 },
 "nbformat": 4,
 "nbformat_minor": 5
}
