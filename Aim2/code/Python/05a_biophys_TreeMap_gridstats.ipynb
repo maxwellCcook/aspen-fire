{
 "cells": [
  {
   "cell_type": "code",
   "execution_count": 1,
   "id": "ba44202a-9fdb-4249-9cb3-039c1d0744f5",
   "metadata": {},
   "outputs": [
    {
     "name": "stdout",
     "output_type": "stream",
     "text": [
      "Ready to go !\n"
     ]
    }
   ],
   "source": [
    "\"\"\" \n",
    "Author: maxwell.cook@colorado.edu\n",
    "\"\"\"\n",
    "\n",
    "import os, sys, gc, time\n",
    "import geopandas as gpd\n",
    "import rasterio as rio\n",
    "import rioxarray as rxr\n",
    "import seaborn as sns\n",
    "import matplotlib.pyplot as plt\n",
    "\n",
    "# Custom functions\n",
    "sys.path.append(os.path.join(os.getcwd(),'code/'))\n",
    "from __functions import *\n",
    "\n",
    "proj = 'EPSG:5070'\n",
    "\n",
    "maindir = '/Users/max/Library/CloudStorage/OneDrive-Personal/mcook/'\n",
    "projdir = os.path.join(maindir, 'aspen-fire/Aim2/')\n",
    "\n",
    "print(\"Ready to go !\")"
   ]
  },
  {
   "cell_type": "code",
   "execution_count": 2,
   "id": "6d0733bb-365e-4f8a-8a8b-308cec8eb580",
   "metadata": {},
   "outputs": [],
   "source": [
    "# Load the VIIRS active fire detections gridded data"
   ]
  },
  {
   "cell_type": "code",
   "execution_count": 3,
   "id": "6c49dc55-bb2a-4669-a6c7-71a29a08ff19",
   "metadata": {},
   "outputs": [
    {
     "data": {
      "text/plain": [
       "Index(['grid_index', 'grid_area', 'afd_count', 'unique_days', 'frp_csum',\n",
       "       'frp_max', 'frp_min', 'frp_p90', 'frp_first', 'day_max_frp',\n",
       "       'dt_max_frp', 'first_obs_date', 'last_obs_date', 'day_count',\n",
       "       'night_count', 'frp_max_day', 'frp_max_night', 'frp_p90_day',\n",
       "       'frp_p90_night', 'frp_first_day', 'frp_first_night', 'Fire_ID',\n",
       "       'Fire_Name', 'geometry'],\n",
       "      dtype='object')"
      ]
     },
     "execution_count": 3,
     "metadata": {},
     "output_type": "execute_result"
    }
   ],
   "source": [
    "fp = os.path.join(projdir,f'data/spatial/mod/VIIRS/viirs_snpp_jpss1_afd_latlon_aspenfires_pixar_gridstats.gpkg')\n",
    "grid = gpd.read_file(fp)\n",
    "grid.columns"
   ]
  },
  {
   "cell_type": "code",
   "execution_count": 4,
   "id": "b7e2897a-5019-44ce-a26a-cf7cf46bccd8",
   "metadata": {},
   "outputs": [
    {
     "name": "stdout",
     "output_type": "stream",
     "text": [
      "There are [58] fire events in the Southern Rockies (2018-2023)\n",
      "\tWith 49047 gridcells.\n"
     ]
    }
   ],
   "source": [
    "print(f\"There are [{len(grid['Fire_ID'].unique())}] fire events in the Southern Rockies (2018-2023)\")\n",
    "print(f\"\\tWith {len(grid)} gridcells.\")"
   ]
  },
  {
   "cell_type": "code",
   "execution_count": 5,
   "id": "81dd3bf0-8fe9-495e-8b04-7d4498e171a1",
   "metadata": {},
   "outputs": [],
   "source": [
    "bounds = grid.total_bounds # for cropping the raster data"
   ]
  },
  {
   "cell_type": "markdown",
   "id": "997a84d4-4abf-4149-92ad-7080a83097df",
   "metadata": {},
   "source": [
    "# USFS TreeMap (2016) Summaries\n",
    "\n",
    "From Earth Engine, the forest type percent cover for each gridcell was calculated. From this, we also gathered the \"all forest\" percent. Then, within a mask for each species, the TreeMap metrics (e.g., BALIVE) were summarized. Finally, within each species mask the Sentinel-2 LAI and MNDWI averages were gathered."
   ]
  },
  {
   "cell_type": "code",
   "execution_count": 6,
   "id": "0da5cf35-c5f5-4c03-b7c2-198dd1d4eea1",
   "metadata": {},
   "outputs": [
    {
     "name": "stdout",
     "output_type": "stream",
     "text": [
      "Adjusted DataFrame:\n"
     ]
    },
    {
     "data": {
      "text/html": [
       "<div>\n",
       "<style scoped>\n",
       "    .dataframe tbody tr th:only-of-type {\n",
       "        vertical-align: middle;\n",
       "    }\n",
       "\n",
       "    .dataframe tbody tr th {\n",
       "        vertical-align: top;\n",
       "    }\n",
       "\n",
       "    .dataframe thead th {\n",
       "        text-align: right;\n",
       "    }\n",
       "</style>\n",
       "<table border=\"1\" class=\"dataframe\">\n",
       "  <thead>\n",
       "    <tr style=\"text-align: right;\">\n",
       "      <th></th>\n",
       "      <th>grid_index</th>\n",
       "      <th>total_pixels</th>\n",
       "      <th>182</th>\n",
       "      <th>185</th>\n",
       "      <th>221</th>\n",
       "      <th>225</th>\n",
       "      <th>369</th>\n",
       "      <th>371</th>\n",
       "      <th>901</th>\n",
       "      <th>971</th>\n",
       "      <th>...</th>\n",
       "      <th>367</th>\n",
       "      <th>801</th>\n",
       "      <th>995</th>\n",
       "      <th>171</th>\n",
       "      <th>923</th>\n",
       "      <th>263</th>\n",
       "      <th>805</th>\n",
       "      <th>976</th>\n",
       "      <th>507</th>\n",
       "      <th>924</th>\n",
       "    </tr>\n",
       "  </thead>\n",
       "  <tbody>\n",
       "    <tr>\n",
       "      <th>0</th>\n",
       "      <td>919906</td>\n",
       "      <td>196.949020</td>\n",
       "      <td>3.094118</td>\n",
       "      <td>7.000000</td>\n",
       "      <td>41.768627</td>\n",
       "      <td>36.423529</td>\n",
       "      <td>2.674510</td>\n",
       "      <td>11.607843</td>\n",
       "      <td>0.494118</td>\n",
       "      <td>4.0</td>\n",
       "      <td>...</td>\n",
       "      <td>NaN</td>\n",
       "      <td>NaN</td>\n",
       "      <td>NaN</td>\n",
       "      <td>NaN</td>\n",
       "      <td>NaN</td>\n",
       "      <td>NaN</td>\n",
       "      <td>NaN</td>\n",
       "      <td>NaN</td>\n",
       "      <td>NaN</td>\n",
       "      <td>NaN</td>\n",
       "    </tr>\n",
       "    <tr>\n",
       "      <th>1</th>\n",
       "      <td>919907</td>\n",
       "      <td>197.176471</td>\n",
       "      <td>9.227451</td>\n",
       "      <td>NaN</td>\n",
       "      <td>75.027451</td>\n",
       "      <td>32.870588</td>\n",
       "      <td>12.109804</td>\n",
       "      <td>6.827451</td>\n",
       "      <td>NaN</td>\n",
       "      <td>1.0</td>\n",
       "      <td>...</td>\n",
       "      <td>NaN</td>\n",
       "      <td>NaN</td>\n",
       "      <td>NaN</td>\n",
       "      <td>NaN</td>\n",
       "      <td>NaN</td>\n",
       "      <td>NaN</td>\n",
       "      <td>NaN</td>\n",
       "      <td>NaN</td>\n",
       "      <td>NaN</td>\n",
       "      <td>NaN</td>\n",
       "    </tr>\n",
       "    <tr>\n",
       "      <th>2</th>\n",
       "      <td>919908</td>\n",
       "      <td>196.960784</td>\n",
       "      <td>15.611765</td>\n",
       "      <td>10.996078</td>\n",
       "      <td>37.329412</td>\n",
       "      <td>15.466667</td>\n",
       "      <td>12.000000</td>\n",
       "      <td>2.000000</td>\n",
       "      <td>NaN</td>\n",
       "      <td>NaN</td>\n",
       "      <td>...</td>\n",
       "      <td>NaN</td>\n",
       "      <td>NaN</td>\n",
       "      <td>NaN</td>\n",
       "      <td>NaN</td>\n",
       "      <td>NaN</td>\n",
       "      <td>NaN</td>\n",
       "      <td>NaN</td>\n",
       "      <td>NaN</td>\n",
       "      <td>NaN</td>\n",
       "      <td>NaN</td>\n",
       "    </tr>\n",
       "  </tbody>\n",
       "</table>\n",
       "<p>3 rows × 59 columns</p>\n",
       "</div>"
      ],
      "text/plain": [
       "   grid_index  total_pixels        182        185        221        225  \\\n",
       "0      919906    196.949020   3.094118   7.000000  41.768627  36.423529   \n",
       "1      919907    197.176471   9.227451        NaN  75.027451  32.870588   \n",
       "2      919908    196.960784  15.611765  10.996078  37.329412  15.466667   \n",
       "\n",
       "         369        371       901  971  ...  367  801  995  171  923  263  \\\n",
       "0   2.674510  11.607843  0.494118  4.0  ...  NaN  NaN  NaN  NaN  NaN  NaN   \n",
       "1  12.109804   6.827451       NaN  1.0  ...  NaN  NaN  NaN  NaN  NaN  NaN   \n",
       "2  12.000000   2.000000       NaN  NaN  ...  NaN  NaN  NaN  NaN  NaN  NaN   \n",
       "\n",
       "   805  976  507  924  \n",
       "0  NaN  NaN  NaN  NaN  \n",
       "1  NaN  NaN  NaN  NaN  \n",
       "2  NaN  NaN  NaN  NaN  \n",
       "\n",
       "[3 rows x 59 columns]"
      ]
     },
     "execution_count": 6,
     "metadata": {},
     "output_type": "execute_result"
    }
   ],
   "source": [
    "# Load the summary table (from GEE reductions)\n",
    "fp = os.path.join(projdir,'data/earth-engine/exports/treemap/gridstats_fortypcd.csv')\n",
    "fortypcd = pd.read_csv(fp)\n",
    "fortypcd.drop(columns=['system:index','.geo'], inplace=True) # drop the GEE id and .geo columns\n",
    "\n",
    "# unpack histogram dictionary into columns\n",
    "def parse_histogram(hist_str):\n",
    "    # Convert float or NaN to string, then parse\n",
    "    if isinstance(hist_str, float) or pd.isna(hist_str):\n",
    "        hist_str = str(int(hist_str)) if not pd.isna(hist_str) else \"\"\n",
    "    kv_pairs = hist_str.split(', ')  # Split the key-value pairs\n",
    "    # Convert key-value pairs to a dictionary\n",
    "    return {int(kv.split(':')[0]): float(kv.split(':')[1]) for kv in kv_pairs if ':' in kv}\n",
    "\n",
    "# parse the dictionary\n",
    "fortypcd['species_histogram'] = fortypcd['species_histogram'].apply(parse_histogram)\n",
    "\n",
    "hist_df = fortypcd['species_histogram'].apply(pd.Series)\n",
    "fortypcd = pd.concat([fortypcd.drop(columns=['species_histogram']), hist_df], axis=1).reset_index(drop=True)\n",
    "\n",
    "del hist_df\n",
    "\n",
    "print(\"Adjusted DataFrame:\")\n",
    "fortypcd.head(3)"
   ]
  },
  {
   "cell_type": "code",
   "execution_count": 7,
   "id": "893c2a20-bfc4-41a8-bd56-5051cfa046c7",
   "metadata": {},
   "outputs": [
    {
     "name": "stdout",
     "output_type": "stream",
     "text": [
      "Dropped NA values.\n",
      "Index(['grid_index', 'total_pixels', 'FORTYPCD', 'count'], dtype='object')\n",
      "Index(['FORTYPCD', 'SpeciesName'], dtype='object')\n"
     ]
    },
    {
     "data": {
      "text/html": [
       "<div>\n",
       "<style scoped>\n",
       "    .dataframe tbody tr th:only-of-type {\n",
       "        vertical-align: middle;\n",
       "    }\n",
       "\n",
       "    .dataframe tbody tr th {\n",
       "        vertical-align: top;\n",
       "    }\n",
       "\n",
       "    .dataframe thead th {\n",
       "        text-align: right;\n",
       "    }\n",
       "</style>\n",
       "<table border=\"1\" class=\"dataframe\">\n",
       "  <thead>\n",
       "    <tr style=\"text-align: right;\">\n",
       "      <th></th>\n",
       "      <th>grid_index</th>\n",
       "      <th>total_pixels</th>\n",
       "      <th>FORTYPCD</th>\n",
       "      <th>count</th>\n",
       "      <th>SpeciesName</th>\n",
       "    </tr>\n",
       "  </thead>\n",
       "  <tbody>\n",
       "    <tr>\n",
       "      <th>0</th>\n",
       "      <td>184440</td>\n",
       "      <td>199.756863</td>\n",
       "      <td>185</td>\n",
       "      <td>123.662745</td>\n",
       "      <td>Pinyon / juniper woodland</td>\n",
       "    </tr>\n",
       "    <tr>\n",
       "      <th>1</th>\n",
       "      <td>184440</td>\n",
       "      <td>199.756863</td>\n",
       "      <td>184</td>\n",
       "      <td>15.968627</td>\n",
       "      <td>Juniper woodland</td>\n",
       "    </tr>\n",
       "    <tr>\n",
       "      <th>2</th>\n",
       "      <td>184441</td>\n",
       "      <td>199.482353</td>\n",
       "      <td>185</td>\n",
       "      <td>114.670588</td>\n",
       "      <td>Pinyon / juniper woodland</td>\n",
       "    </tr>\n",
       "  </tbody>\n",
       "</table>\n",
       "</div>"
      ],
      "text/plain": [
       "   grid_index  total_pixels  FORTYPCD       count                SpeciesName\n",
       "0      184440    199.756863       185  123.662745  Pinyon / juniper woodland\n",
       "1      184440    199.756863       184   15.968627           Juniper woodland\n",
       "2      184441    199.482353       185  114.670588  Pinyon / juniper woodland"
      ]
     },
     "execution_count": 7,
     "metadata": {},
     "output_type": "execute_result"
    }
   ],
   "source": [
    "# Pivot longer and join to get species name\n",
    "fortypcd_l = fortypcd.melt(id_vars=['grid_index','total_pixels'], var_name='FORTYPCD', value_name='count')\n",
    "fortypcd_l['FORTYPCD'] = fortypcd_l['FORTYPCD'].astype(int)\n",
    "\n",
    "# Drop 'NaN' counts (species not present in the AFD)\n",
    "fortypcd_l.dropna(subset=['count'], inplace=True)\n",
    "fortypcd_l.sort_values(by=['grid_index'], inplace=True)\n",
    "print(\"Dropped NA values.\")\n",
    "print(fortypcd_l.columns)\n",
    "\n",
    "# load the species lookup table\n",
    "fp = os.path.join(projdir,'data/tabular/mod/treemap_fortypcd_species_mapping.csv')\n",
    "species_df = pd.read_csv(fp)\n",
    "species_df = species_df[['FORTYPCD','SpeciesName']]\n",
    "species_df = species_df[species_df['FORTYPCD'].isin(fortypcd_l['FORTYPCD'].unique())]\n",
    "print(species_df.columns)\n",
    "\n",
    "# merge with grid summary to get forest species name\n",
    "fortypcd_l_ = fortypcd_l.merge(species_df, on='FORTYPCD', how='left')\n",
    "\n",
    "del fortypcd_l\n",
    "\n",
    "fortypcd_l_.head(3)"
   ]
  },
  {
   "cell_type": "code",
   "execution_count": 8,
   "id": "ea35d728-1c2b-403a-8306-3a03a9a9e2b1",
   "metadata": {},
   "outputs": [
    {
     "data": {
      "text/plain": [
       "array(['Pinyon / juniper woodland', 'Juniper woodland',\n",
       "       'Mesquite woodland', 'Other exotic hardwoods', 'Cottonwood',\n",
       "       'Deciduous oak woodland', 'Rocky Mountain juniper',\n",
       "       'Ponderosa pine', 'Western juniper', 'Other hardwoods',\n",
       "       'Sugarberry / hackberry / elm / green ash', 'Nonstocked',\n",
       "       'Douglas-fir', 'Cottonwood / willow', 'Bur oak',\n",
       "       'Western redcedar', 'Grand fir', 'Aspen', 'White fir',\n",
       "       'Cercocarpus (mountain brush) woodland', 'Lodgepole pine',\n",
       "       'Engelmann spruce', 'Western larch',\n",
       "       'Intermountain maple woodland', 'Engelmann spruce / subalpine fir',\n",
       "       'Subalpine fir', 'Blue spruce', 'Limber pine',\n",
       "       'Foxtail pine / bristlecone pine', 'Balsam fir', 'Paper birch',\n",
       "       'Miscellaneous western softwoods', 'Noble fir',\n",
       "       'Sugar maple / beech / yellow birch', 'Hard maple / basswood',\n",
       "       'California mixed conifer', 'Jeffrey pine',\n",
       "       'Evergreen oak woodland', 'Eastern redcedar / hardwood',\n",
       "       'Elm / ash / black locust', 'Willow', 'Red alder',\n",
       "       'Southwestern white pine', 'California black oak', 'White spruce',\n",
       "       'Sugar pine', 'Mountain hemlock', 'Canyon live oak',\n",
       "       'California white oak (valley oak)', 'Pin cherry',\n",
       "       'Whitebark pine', 'Eastern redcedar', 'Oregon white oak',\n",
       "       'Red maple / upland', 'Blue oak',\n",
       "       'Miscellaneous woodland hardwoods', 'Sassafras / persimmon'],\n",
       "      dtype=object)"
      ]
     },
     "execution_count": 8,
     "metadata": {},
     "output_type": "execute_result"
    }
   ],
   "source": [
    "# print a unqiue list of tree species\n",
    "fortypcd_l_['SpeciesName'].unique()"
   ]
  },
  {
   "cell_type": "code",
   "execution_count": 9,
   "id": "c88c2cb3-a328-4034-b47e-766603f52526",
   "metadata": {},
   "outputs": [
    {
     "name": "stdout",
     "output_type": "stream",
     "text": [
      "Index(['grid_index', 'FORTYPCD', 'SpeciesName', 'count', 'forest_pix',\n",
      "       'total_pixels', 'spp_pct', 'forest_pct'],\n",
      "      dtype='object')\n"
     ]
    },
    {
     "data": {
      "text/html": [
       "<div>\n",
       "<style scoped>\n",
       "    .dataframe tbody tr th:only-of-type {\n",
       "        vertical-align: middle;\n",
       "    }\n",
       "\n",
       "    .dataframe tbody tr th {\n",
       "        vertical-align: top;\n",
       "    }\n",
       "\n",
       "    .dataframe thead th {\n",
       "        text-align: right;\n",
       "    }\n",
       "</style>\n",
       "<table border=\"1\" class=\"dataframe\">\n",
       "  <thead>\n",
       "    <tr style=\"text-align: right;\">\n",
       "      <th></th>\n",
       "      <th>grid_index</th>\n",
       "      <th>FORTYPCD</th>\n",
       "      <th>SpeciesName</th>\n",
       "      <th>count</th>\n",
       "      <th>forest_pix</th>\n",
       "      <th>total_pixels</th>\n",
       "      <th>spp_pct</th>\n",
       "      <th>forest_pct</th>\n",
       "    </tr>\n",
       "  </thead>\n",
       "  <tbody>\n",
       "    <tr>\n",
       "      <th>0</th>\n",
       "      <td>184440</td>\n",
       "      <td>185</td>\n",
       "      <td>Pinyon / juniper woodland</td>\n",
       "      <td>123.662745</td>\n",
       "      <td>139.631373</td>\n",
       "      <td>199.756863</td>\n",
       "      <td>88.563725</td>\n",
       "      <td>69.900664</td>\n",
       "    </tr>\n",
       "    <tr>\n",
       "      <th>1</th>\n",
       "      <td>184440</td>\n",
       "      <td>184</td>\n",
       "      <td>Juniper woodland</td>\n",
       "      <td>15.968627</td>\n",
       "      <td>139.631373</td>\n",
       "      <td>199.756863</td>\n",
       "      <td>11.436275</td>\n",
       "      <td>69.900664</td>\n",
       "    </tr>\n",
       "    <tr>\n",
       "      <th>2</th>\n",
       "      <td>184441</td>\n",
       "      <td>185</td>\n",
       "      <td>Pinyon / juniper woodland</td>\n",
       "      <td>114.670588</td>\n",
       "      <td>118.909804</td>\n",
       "      <td>199.482353</td>\n",
       "      <td>96.434932</td>\n",
       "      <td>59.609185</td>\n",
       "    </tr>\n",
       "  </tbody>\n",
       "</table>\n",
       "</div>"
      ],
      "text/plain": [
       "   grid_index  FORTYPCD                SpeciesName       count  forest_pix  \\\n",
       "0      184440       185  Pinyon / juniper woodland  123.662745  139.631373   \n",
       "1      184440       184           Juniper woodland   15.968627  139.631373   \n",
       "2      184441       185  Pinyon / juniper woodland  114.670588  118.909804   \n",
       "\n",
       "   total_pixels    spp_pct  forest_pct  \n",
       "0    199.756863  88.563725   69.900664  \n",
       "1    199.756863  11.436275   69.900664  \n",
       "2    199.482353  96.434932   59.609185  "
      ]
     },
     "execution_count": 9,
     "metadata": {},
     "output_type": "execute_result"
    }
   ],
   "source": [
    "# calculate the total forest count and percent cover for each species\n",
    "forest_count = fortypcd_l_.groupby('grid_index')['count'].sum().reset_index()\n",
    "forest_count = forest_count.rename(columns={'count': 'forest_pix'})\n",
    "\n",
    "# Join back to the data frame, calculate percent cover\n",
    "fortypcd_l_pct = fortypcd_l_.merge(forest_count, on='grid_index', how='left')\n",
    "fortypcd_l_pct['spp_pct'] = (fortypcd_l_pct['count'] / fortypcd_l_pct['forest_pix']) * 100\n",
    "fortypcd_l_pct['forest_pct'] = (fortypcd_l_pct['forest_pix'] / fortypcd_l_pct['total_pixels']) * 100\n",
    "\n",
    "# reshape the columns\n",
    "cols = ['grid_index', 'FORTYPCD', 'SpeciesName', 'count', 'forest_pix', 'total_pixels', 'spp_pct', 'forest_pct']\n",
    "fortypcd_l_pct = fortypcd_l_pct[cols]\n",
    "\n",
    "# check the results\n",
    "fortypcd_l_pct = fortypcd_l_pct.sort_values(by=['grid_index'])\n",
    "print(fortypcd_l_pct.columns)\n",
    "\n",
    "del fortypcd_l_\n",
    "\n",
    "fortypcd_l_pct.head(3)"
   ]
  },
  {
   "cell_type": "code",
   "execution_count": null,
   "id": "71dcc4b3-e6c2-498f-8ac4-8eb483223cc0",
   "metadata": {},
   "outputs": [],
   "source": []
  },
  {
   "cell_type": "code",
   "execution_count": null,
   "id": "9376551a-8158-4976-9b6b-3a3aee2ffaa0",
   "metadata": {},
   "outputs": [],
   "source": []
  },
  {
   "cell_type": "code",
   "execution_count": 10,
   "id": "1773e40b-4516-4618-895e-2125251f86a8",
   "metadata": {},
   "outputs": [],
   "source": [
    "# Create a histogram of the forest species (prevalence)"
   ]
  },
  {
   "cell_type": "code",
   "execution_count": 27,
   "id": "0d845fd8-b2d5-4f19-8b28-69a49825a8ea",
   "metadata": {},
   "outputs": [
    {
     "name": "stdout",
     "output_type": "stream",
     "text": [
      "\n",
      "\n",
      "Species making up 97% of the total: \n",
      "\n",
      "                         SpeciesName         count  fraction  c_fraction\n",
      "27                    Lodgepole pine  2.408028e+06  0.294627    0.294627\n",
      "40                    Ponderosa pine  1.613215e+06  0.197380    0.492007\n",
      "0                              Aspen  9.797278e+05  0.119872    0.611878\n",
      "18  Engelmann spruce / subalpine fir  9.040129e+05  0.110608    0.722486\n",
      "13                       Douglas-fir  4.746550e+05  0.058075    0.780561\n",
      "39         Pinyon / juniper woodland  3.094141e+05  0.037857    0.818418\n",
      "17                  Engelmann spruce  3.032830e+05  0.037107    0.855526\n",
      "46                     Subalpine fir  2.284919e+05  0.027956    0.883482\n",
      "21                         Grand fir  1.917080e+05  0.023456    0.906938\n",
      "53                         White fir  1.721483e+05  0.021063    0.928001\n",
      "12            Deciduous oak woodland  1.257371e+05  0.015384    0.943385\n",
      "43            Rocky Mountain juniper  1.201248e+05  0.014697    0.958082\n",
      "6           California mixed conifer  5.630795e+04  0.006889    0.964972\n",
      "\n",
      "\n"
     ]
    },
    {
     "data": {
      "image/png": "[encoded data removed]",
      "text/plain": [
       "<Figure size 600x400 with 1 Axes>"
      ]
     },
     "metadata": {},
     "output_type": "display_data"
    }
   ],
   "source": [
    "fortyp = fortypcd_l_pct.copy() # make a copy to work with\n",
    "fortyp = fortyp[fortyp['count'] > 0] # make sure there are some pixels\n",
    "\n",
    "# calculate the landscape fraction (prevalence)\n",
    "spp_pr = fortyp.groupby('SpeciesName')['count'].sum().reset_index()\n",
    "spp_pr['fraction'] = spp_pr['count'] / spp_pr['count'].sum()\n",
    "spp_pr = spp_pr.sort_values(by='fraction', ascending=False)\n",
    "\n",
    "# which species make up 97% of observations?\n",
    "spp_pr['c_fraction'] = spp_pr['fraction'].cumsum()\n",
    "top_species = spp_pr[spp_pr['c_fraction'] <= 0.97]\n",
    "print(f\"\\n\\nSpecies making up 97% of the total: \\n\\n{top_species}\\n\\n\")\n",
    "\n",
    "# plot it\n",
    "plt.figure(figsize=(6, 4))\n",
    "sns.barplot(data=top_species, x='SpeciesName', y='fraction', palette='viridis')\n",
    "plt.xlabel('Species')\n",
    "plt.ylabel('Fractional cover')\n",
    "plt.xticks(rotation=45, ha='right')\n",
    "plt.tight_layout()\n",
    "plt.show()"
   ]
  },
  {
   "cell_type": "code",
   "execution_count": 28,
   "id": "543d5293-df43-4af2-a88f-fdf9e5dd61e1",
   "metadata": {},
   "outputs": [
    {
     "data": {
      "text/plain": [
       "Index(['grid_index', 'FORTYPCD', 'SpeciesName', 'count', 'forest_pix',\n",
       "       'total_pixels', 'spp_pct', 'forest_pct'],\n",
       "      dtype='object')"
      ]
     },
     "execution_count": 28,
     "metadata": {},
     "output_type": "execute_result"
    }
   ],
   "source": [
    "fortyp.columns"
   ]
  },
  {
   "cell_type": "code",
   "execution_count": 29,
   "id": "904f25d9-3399-42eb-b8bf-8ce202a906e1",
   "metadata": {},
   "outputs": [
    {
     "name": "stdout",
     "output_type": "stream",
     "text": [
      "\n",
      "\n",
      "Species making up 97% of the total: \n",
      "\n",
      "               SpeciesName         count  fraction  c_fraction\n",
      "23          Lodgepole pine  2.408028e+06  0.294627    0.294627\n",
      "41              Spruce-fir  1.799644e+06  0.220190    0.514817\n",
      "36          Ponderosa pine  1.613215e+06  0.197380    0.712197\n",
      "0                    Aspen  9.797278e+05  0.119872    0.832068\n",
      "35  Pinon-juniper woodland  5.301839e+05  0.064869    0.896937\n",
      "13             Douglas-fir  4.746550e+05  0.058075    0.955012\n",
      "\n",
      "\n"
     ]
    },
    {
     "data": {
      "image/png": "[encoded data removed]",
      "text/plain": [
       "<Figure size 600x400 with 1 Axes>"
      ]
     },
     "metadata": {},
     "output_type": "display_data"
    }
   ],
   "source": [
    "# perform a remap for some forest types\n",
    "# create a 'Spruce-fir' category\n",
    "# 'Pinon-juniper woodland' category\n",
    "spp_remap = {\n",
    "    'Engelmann spruce': 'Spruce-fir',\n",
    "    'Subalpine fir': 'Spruce-fir',\n",
    "    'White fir': 'Spruce-fir',\n",
    "    'Grand fir': 'Spruce-fir',\n",
    "    'Engelmann spruce / subalpine fir': 'Spruce-fir',\n",
    "    'Western juniper': 'Pinon-juniper woodland',\n",
    "    'Rocky Mountain juniper': 'Pinon-juniper woodland',\n",
    "    'Pinyon / juniper woodland': 'Pinon-juniper woodland',\n",
    "    'Juniper woodland': 'Pinon-juniper woodland'\n",
    "}\n",
    "\n",
    "# Add a new column for the merged categories\n",
    "fortyp['SpeciesName'] = fortyp['SpeciesName'].map(spp_remap).fillna(fortyp['SpeciesName'])\n",
    "# Now handle the new columns (groupby and summarise)\n",
    "fortyp = fortyp.groupby(['grid_index', 'SpeciesName'], as_index=False).agg({\n",
    "    'spp_pct': 'sum',\n",
    "    'forest_pct': 'max',\n",
    "    'count': 'sum',\n",
    "    'total_pixels': 'max'\n",
    "})\n",
    "\n",
    "# re-plot the dataframe\n",
    "# Calculate the total percent cover (prevalence)\n",
    "spp_pr = fortyp.groupby('SpeciesName')['count'].sum().reset_index()\n",
    "spp_pr['fraction'] = spp_pr['count'] / spp_pr['count'].sum()\n",
    "spp_pr = spp_pr.sort_values(by='fraction', ascending=False)\n",
    "\n",
    "# which species make up 97% of observations?\n",
    "spp_pr['c_fraction'] = spp_pr['fraction'].cumsum()\n",
    "top_species = spp_pr[spp_pr['c_fraction'] <= 0.97]\n",
    "print(f\"\\n\\nSpecies making up 97% of the total: \\n\\n{top_species}\\n\\n\")\n",
    "\n",
    "# plot it\n",
    "plt.figure(figsize=(6, 4))\n",
    "sns.barplot(data=top_species, x='SpeciesName', y='fraction', palette='viridis')\n",
    "plt.title('Burned area forest type fraction')\n",
    "plt.xlabel('Species')\n",
    "plt.ylabel('Fractional cover')\n",
    "plt.xticks(rotation=45, ha='right')\n",
    "plt.tight_layout()\n",
    "\n",
    "plt.savefig(os.path.join(projdir, 'figures/FigureX_FORTYPCD_FractionalCover.png'), dpi=300, bbox_inches='tight')\n",
    "\n",
    "plt.show()"
   ]
  },
  {
   "cell_type": "code",
   "execution_count": 14,
   "id": "a432dc1c-d06c-433d-98f0-edd0f2f21b02",
   "metadata": {},
   "outputs": [],
   "source": [
    "# join the forest type dataframe to our FRP gridcells"
   ]
  },
  {
   "cell_type": "code",
   "execution_count": 30,
   "id": "31f41b16-94ac-45cc-871d-8131ce3cd435",
   "metadata": {},
   "outputs": [
    {
     "data": {
      "text/plain": [
       "Index(['grid_index', 'grid_area', 'afd_count', 'unique_days', 'frp_csum',\n",
       "       'frp_max', 'frp_min', 'frp_p90', 'frp_first', 'day_max_frp',\n",
       "       'dt_max_frp', 'first_obs_date', 'last_obs_date', 'day_count',\n",
       "       'night_count', 'frp_max_day', 'frp_max_night', 'frp_p90_day',\n",
       "       'frp_p90_night', 'frp_first_day', 'frp_first_night', 'Fire_ID',\n",
       "       'Fire_Name', 'geometry', 'SpeciesName', 'spp_pct', 'forest_pct',\n",
       "       'count', 'total_pixels'],\n",
       "      dtype='object')"
      ]
     },
     "execution_count": 30,
     "metadata": {},
     "output_type": "execute_result"
    }
   ],
   "source": [
    "grid_fortyp = grid.merge(fortyp, on='grid_index', how='left')\n",
    "grid_fortyp.columns"
   ]
  },
  {
   "cell_type": "code",
   "execution_count": 37,
   "id": "c1761a4c-7982-4284-9953-1bb1127b30c8",
   "metadata": {},
   "outputs": [
    {
     "name": "stdout",
     "output_type": "stream",
     "text": [
      "Number of duplicate rows: 1184\n"
     ]
    }
   ],
   "source": [
    "# check for duplicates\n",
    "print(f\"Number of duplicate rows: {grid_fortyp.duplicated(subset=['grid_index', 'SpeciesName', 'spp_pct']).sum()}\")\n",
    "grid_fortyp = grid_fortyp.drop_duplicates(subset=['grid_index', 'SpeciesName', 'spp_pct'])"
   ]
  },
  {
   "cell_type": "code",
   "execution_count": 38,
   "id": "ca16e525-83aa-4890-90ae-4d872951f40d",
   "metadata": {},
   "outputs": [
    {
     "name": "stdout",
     "output_type": "stream",
     "text": [
      "41955/49047 [85.5%] gridcells are forested.\n"
     ]
    }
   ],
   "source": [
    "# subset the grids to predominantly forested plots (>50% forested)\n",
    "grid_forest = grid_fortyp[grid_fortyp['forest_pct'] > 50]\n",
    "n_forest = len(grid_forest['grid_index'].unique())\n",
    "print(f\"{n_forest}/{len(grid)} [{round(n_forest/len(grid)*100,1)}%] gridcells are forested.\")"
   ]
  },
  {
   "cell_type": "code",
   "execution_count": 39,
   "id": "6b3e4055-2253-4f1a-ab2b-7a0ef580b7c4",
   "metadata": {},
   "outputs": [
    {
     "name": "stdout",
     "output_type": "stream",
     "text": [
      "['Lodgepole pine' 'Spruce-fir' 'Ponderosa pine' 'Aspen'\n",
      " 'Pinon-juniper woodland' 'Douglas-fir']\n"
     ]
    },
    {
     "data": {
      "text/plain": [
       "41955"
      ]
     },
     "execution_count": 39,
     "metadata": {},
     "output_type": "execute_result"
    }
   ],
   "source": [
    "print(top_species['SpeciesName'].unique()) # check on our top species\n",
    "# subset columns in our forested gridcells to retain just our top species\n",
    "grid_forest = grid_forest[grid_forest['SpeciesName'].isin(top_species['SpeciesName'].unique())]\n",
    "len(grid_forest['grid_index'].unique())"
   ]
  },
  {
   "cell_type": "code",
   "execution_count": 40,
   "id": "c5d0b54f-8e1a-48c8-83c5-47c91e3564e8",
   "metadata": {},
   "outputs": [
    {
     "name": "stdout",
     "output_type": "stream",
     "text": [
      "Saved file to: /Users/max/Library/CloudStorage/OneDrive-Personal/mcook/aspen-fire/Aim2/data/tabular/mod/viirs_snpp_jpss1_gridstats_fortypcd.csv\n"
     ]
    }
   ],
   "source": [
    "# save the TreeMap table out.\n",
    "out_fp = os.path.join(projdir,'data/tabular/mod/viirs_snpp_jpss1_gridstats_fortypcd.csv')\n",
    "grid_forest.to_csv(out_fp)\n",
    "print(f\"Saved file to: {out_fp}\")"
   ]
  },
  {
   "cell_type": "code",
   "execution_count": null,
   "id": "d6807fcf-6732-4997-b0c1-0930695f5acd",
   "metadata": {},
   "outputs": [],
   "source": []
  },
  {
   "cell_type": "code",
   "execution_count": null,
   "id": "216b67b2-7044-421b-98d1-a20c66cb7075",
   "metadata": {},
   "outputs": [],
   "source": []
  },
  {
   "cell_type": "code",
   "execution_count": 19,
   "id": "b80e43d7-fe65-4205-b0d8-7e5786def772",
   "metadata": {},
   "outputs": [],
   "source": [
    "# make some plots showing the distribution of FRP across forest types"
   ]
  },
  {
   "cell_type": "code",
   "execution_count": 41,
   "id": "3e731f65-054c-41bc-8805-fb6162372508",
   "metadata": {},
   "outputs": [
    {
     "name": "stdout",
     "output_type": "stream",
     "text": [
      "['Pinon-juniper woodland' 'Ponderosa pine' 'Aspen' 'Douglas-fir'\n",
      " 'Lodgepole pine' 'Spruce-fir']\n",
      "\n",
      "\n",
      "Dropping 1597 [3.8%] gridcells w/ <1 cumulative FRP.\n"
     ]
    }
   ],
   "source": [
    "# first, gather the dominant forest type\n",
    "dfortyp = grid_forest.loc[grid_forest.groupby('grid_index')['spp_pct'].idxmax()]\n",
    "print(dfortyp['SpeciesName'].unique())\n",
    "print(\"\\n\")\n",
    "\n",
    "# drop any 0 FRP gridcells\n",
    "n_small = len(dfortyp[dfortyp['frp_csum'] < 1]) # very small FRP values (cumulative)\n",
    "print(f\"Dropping {n_small} [{round(n_small/len(dfortyp)*100,1)}%] gridcells w/ <1 cumulative FRP.\")\n",
    "dfortyp = dfortyp[dfortyp['frp_csum'] > 1]"
   ]
  },
  {
   "cell_type": "code",
   "execution_count": 44,
   "id": "205b980e-a4c9-49c1-9886-403cc576b208",
   "metadata": {},
   "outputs": [
    {
     "data": {
      "image/png": "[encoded data removed]",
      "text/plain": [
       "<Figure size 600x400 with 1 Axes>"
      ]
     },
     "metadata": {},
     "output_type": "display_data"
    },
    {
     "name": "stdout",
     "output_type": "stream",
     "text": [
      "\n",
      "Saved to: /Users/max/Library/CloudStorage/OneDrive-Personal/mcook/aspen-fire/Aim2/figures/FigureX_FORTYPCD_DominantSpecies_FRPmax.png\n",
      "\n"
     ]
    }
   ],
   "source": [
    "# Plot FRP by dominant forest type\n",
    "# Find the median and sort the forest types by FRP\n",
    "med = dfortyp.groupby('SpeciesName')['frp_max'].median().sort_values(ascending=False)\n",
    "sorted = med.index.tolist()\n",
    "\n",
    "# create a dataframe with dominance (>90% of the same species)\n",
    "dom = dfortyp[dfortyp['spp_pct'] > 80]\n",
    "\n",
    "# plot it\n",
    "plt.figure(figsize=(6, 4)) \n",
    "\n",
    "sns.boxplot(\n",
    "    data=dom, \n",
    "    x='frp_max', \n",
    "    y='SpeciesName', \n",
    "    order=sorted, \n",
    "    palette='coolwarm_r', \n",
    "    dodge=False)\n",
    "\n",
    "plt.xscale('log') # log-scale FRP\n",
    "plt.xlabel('Fire Radiative Power (FRP)')\n",
    "plt.ylabel('Forest Type')\n",
    "plt.tight_layout()\n",
    "\n",
    "out_plot = os.path.join(projdir, 'figures/FigureX_FORTYPCD_DominantSpecies_FRPmax.png')\n",
    "plt.savefig(out_plot, dpi=300, bbox_inches='tight')\n",
    "\n",
    "plt.show()\n",
    "print(f\"\\nSaved to: {out_plot}\\n\")"
   ]
  },
  {
   "cell_type": "code",
   "execution_count": 22,
   "id": "eb1eeeb4-886a-428e-b104-fee5b35be8b5",
   "metadata": {},
   "outputs": [],
   "source": [
    "# forest type composition effects on FRP"
   ]
  },
  {
   "cell_type": "code",
   "execution_count": 45,
   "id": "46bb47a8-108d-481b-880b-24b91ce9b6ee",
   "metadata": {},
   "outputs": [
    {
     "name": "stdout",
     "output_type": "stream",
     "text": [
      "There are a total of 26992 [64.3%] gridcells with some aspen component.\n"
     ]
    }
   ],
   "source": [
    "# get aspen grids (any aspen component)\n",
    "# get gridcells with at least some aspen\n",
    "aspen_idx = grid_forest[grid_forest['SpeciesName'] == 'Aspen']['grid_index'].unique() # list of grid indices\n",
    "grid_aspen = grid_forest[grid_forest['grid_index'].isin(aspen_idx)]\n",
    "\n",
    "# check how many aspen gridcells there are\n",
    "n_aspen = len(grid_aspen['grid_index'].unique())\n",
    "print(f\"There are a total of {n_aspen} [{round(n_aspen/len(grid_forest['grid_index'].unique())*100,1)}%] gridcells with some aspen component.\")"
   ]
  },
  {
   "cell_type": "code",
   "execution_count": 46,
   "id": "d4184f12-f5a8-4ca2-967d-9ffbfc4a91e8",
   "metadata": {},
   "outputs": [
    {
     "name": "stdout",
     "output_type": "stream",
     "text": [
      "Number of duplicate rows: 0\n"
     ]
    }
   ],
   "source": [
    "print(f\"Number of duplicate rows: {grid_aspen.duplicated(subset=['grid_index', 'SpeciesName']).sum()}\")"
   ]
  },
  {
   "cell_type": "code",
   "execution_count": 47,
   "id": "e39fb281-2426-4fc5-98e7-519380b3a41b",
   "metadata": {},
   "outputs": [
    {
     "name": "stdout",
     "output_type": "stream",
     "text": [
      "Dropped 4491 [3.8%] gridcells w/ <1 cumulative FRP.\n"
     ]
    },
    {
     "data": {
      "text/html": [
       "<div>\n",
       "<style scoped>\n",
       "    .dataframe tbody tr th:only-of-type {\n",
       "        vertical-align: middle;\n",
       "    }\n",
       "\n",
       "    .dataframe tbody tr th {\n",
       "        vertical-align: top;\n",
       "    }\n",
       "\n",
       "    .dataframe thead th {\n",
       "        text-align: right;\n",
       "    }\n",
       "</style>\n",
       "<table border=\"1\" class=\"dataframe\">\n",
       "  <thead>\n",
       "    <tr style=\"text-align: right;\">\n",
       "      <th></th>\n",
       "      <th>grid_index</th>\n",
       "      <th>SpeciesName</th>\n",
       "      <th>spp_pct</th>\n",
       "      <th>forest_pct</th>\n",
       "      <th>frp_csum</th>\n",
       "      <th>frp_max</th>\n",
       "      <th>afd_count</th>\n",
       "    </tr>\n",
       "  </thead>\n",
       "  <tbody>\n",
       "    <tr>\n",
       "      <th>19</th>\n",
       "      <td>824824</td>\n",
       "      <td>Aspen</td>\n",
       "      <td>79.522855</td>\n",
       "      <td>96.065697</td>\n",
       "      <td>8.942974</td>\n",
       "      <td>8.942974</td>\n",
       "      <td>1</td>\n",
       "    </tr>\n",
       "    <tr>\n",
       "      <th>20</th>\n",
       "      <td>824824</td>\n",
       "      <td>Douglas-fir</td>\n",
       "      <td>0.527175</td>\n",
       "      <td>96.065697</td>\n",
       "      <td>8.942974</td>\n",
       "      <td>8.942974</td>\n",
       "      <td>1</td>\n",
       "    </tr>\n",
       "    <tr>\n",
       "      <th>22</th>\n",
       "      <td>824824</td>\n",
       "      <td>Pinon-juniper woodland</td>\n",
       "      <td>0.525108</td>\n",
       "      <td>96.065697</td>\n",
       "      <td>8.942974</td>\n",
       "      <td>8.942974</td>\n",
       "      <td>1</td>\n",
       "    </tr>\n",
       "    <tr>\n",
       "      <th>23</th>\n",
       "      <td>824824</td>\n",
       "      <td>Ponderosa pine</td>\n",
       "      <td>2.172789</td>\n",
       "      <td>96.065697</td>\n",
       "      <td>8.942974</td>\n",
       "      <td>8.942974</td>\n",
       "      <td>1</td>\n",
       "    </tr>\n",
       "    <tr>\n",
       "      <th>24</th>\n",
       "      <td>824824</td>\n",
       "      <td>Spruce-fir</td>\n",
       "      <td>16.387918</td>\n",
       "      <td>96.065697</td>\n",
       "      <td>8.942974</td>\n",
       "      <td>8.942974</td>\n",
       "      <td>1</td>\n",
       "    </tr>\n",
       "  </tbody>\n",
       "</table>\n",
       "</div>"
      ],
      "text/plain": [
       "    grid_index             SpeciesName    spp_pct  forest_pct  frp_csum  \\\n",
       "19      824824                   Aspen  79.522855   96.065697  8.942974   \n",
       "20      824824             Douglas-fir   0.527175   96.065697  8.942974   \n",
       "22      824824  Pinon-juniper woodland   0.525108   96.065697  8.942974   \n",
       "23      824824          Ponderosa pine   2.172789   96.065697  8.942974   \n",
       "24      824824              Spruce-fir  16.387918   96.065697  8.942974   \n",
       "\n",
       "     frp_max  afd_count  \n",
       "19  8.942974          1  \n",
       "20  8.942974          1  \n",
       "22  8.942974          1  \n",
       "23  8.942974          1  \n",
       "24  8.942974          1  "
      ]
     },
     "execution_count": 47,
     "metadata": {},
     "output_type": "execute_result"
    }
   ],
   "source": [
    "# drop any 0 FRP gridcells\n",
    "n_small = len(grid_aspen[grid_aspen['frp_csum'] < 1]) # very small FRP values (cumulative)\n",
    "grid_aspen = grid_aspen[grid_aspen['frp_csum'] > 1]\n",
    "print(f\"Dropped {n_small} [{round(n_small/len(grid_aspen)*100,1)}%] gridcells w/ <1 cumulative FRP.\")\n",
    "grid_aspen[['grid_index','SpeciesName','spp_pct','forest_pct','frp_csum','frp_max','afd_count']].head()"
   ]
  },
  {
   "cell_type": "code",
   "execution_count": 143,
   "id": "3bc7ef06-b1ac-4ce8-ab3c-ece5e4dfe1df",
   "metadata": {},
   "outputs": [
    {
     "name": "stdout",
     "output_type": "stream",
     "text": [
      "Associate forest type: ['Douglas-fir', 'Pinon-juniper woodland', 'Ponderosa pine', 'Spruce-fir', 'Lodgepole pine']\n",
      "\n"
     ]
    },
    {
     "data": {
      "image/png": "[encoded data removed]",
      "text/plain": [
       "<Figure size 900x480 with 10 Axes>"
      ]
     },
     "metadata": {},
     "output_type": "display_data"
    }
   ],
   "source": [
    "# create bins for species composition\n",
    "bins = np.linspace(0, 100, 6) # 10% intervals\n",
    "spps = [s for s in grid_aspen['SpeciesName'].unique() if s != 'Aspen'] # exclude aspen from species list\n",
    "print(f\"Associate forest type: {spps}\\n\")\n",
    "\n",
    "df = grid_aspen.copy() # work with a copy\n",
    "\n",
    "heatmap_das = [] # to store the plotting data\n",
    "for sp in spps:\n",
    "    df_sp = df[df['SpeciesName'].isin(['Aspen', sp])]\n",
    "\n",
    "    # recalculate forest percent based on just these species\n",
    "    df_sp = df_sp.merge(forest, on='grid_index', how='left')\n",
    "    # df_sp = df_sp[df_sp['forest_pct_c'] > 10]\n",
    "    \n",
    "    # Pivot table to create columns for Aspen and the species\n",
    "    cover_df = (\n",
    "        df_sp.pivot_table(index='grid_index', columns='SpeciesName', values='spp_pct', fill_value=0)\n",
    "        .reset_index()\n",
    "        .rename(columns={'Aspen': 'aspen_pct', sp: f'{sp}_pct'})\n",
    "    )\n",
    "    \n",
    "    # Merge with FRP data\n",
    "    frp_df = grid_aspen[['grid_index', 'frp_max', 'frp_csum', 'frp_p90']].drop_duplicates()\n",
    "    cover_df = cover_df.merge(frp_df, on='grid_index', how='left')\n",
    "\n",
    "    # Bin the Aspen and species percent cover\n",
    "    cover_df['aspen_bin'] = pd.cut(cover_df['aspen_pct'], bins, labels=bins[:-1])\n",
    "    cover_df[f'{sp}_bin'] = pd.cut(cover_df[f'{sp}_pct'], bins, labels=bins[:-1])\n",
    "\n",
    "    # Group by bins and calculate mean FRP\n",
    "    heatmap_da = cover_df.groupby(['aspen_bin', f'{sp}_bin'])['frp_max'].mean().unstack()\n",
    "    heatmap_da = heatmap_da.replace(0, np.nan)\n",
    "    heatmap_das.append((sp, heatmap_da))\n",
    "\n",
    "# create the plot\n",
    "sp_size = 3\n",
    "n_cols = 3  # Number of columns in the facet grid\n",
    "n_rows = int(np.ceil(len(heatmap_das) / n_cols))\n",
    "\n",
    "fig_w = sp_size * n_cols\n",
    "fig_h = sp_size * 1.6\n",
    "\n",
    "fig, axes = plt.subplots(n_rows, n_cols, figsize=(fig_w, fig_h), constrained_layout=True)\n",
    "axes = axes.flatten()\n",
    "\n",
    "# get the global min/max\n",
    "vmin = min(hm_da.min().min() for _, hm_da in heatmap_das)\n",
    "vmax = max(hm_da.max().max() for _, hm_da in heatmap_das)\n",
    "\n",
    "for i, (sp, hm_da) in enumerate(heatmap_das):\n",
    "    ax = axes[i]\n",
    "    sns.heatmap(\n",
    "        hm_da, cmap='coolwarm', annot=False, fmt=\".1f\", \n",
    "        cbar_kws={'label': 'Cumulative FRP'}, ax=ax,\n",
    "        square=False\n",
    "    )\n",
    "    ax.set_title(f'{sp}')\n",
    "    ax.set_xlabel('')\n",
    "    ax.set_ylabel('Aspen')\n",
    "\n",
    "# Remove unused subplots if species < n_rows * n_cols\n",
    "for j in range(i + 1, len(axes)):\n",
    "    fig.delaxes(axes[j])\n",
    "\n",
    "del df\n",
    "\n",
    "plt.show()"
   ]
  },
  {
   "cell_type": "code",
   "execution_count": 120,
   "id": "554a8cc7-0b34-4a27-ac6c-60d7c5532279",
   "metadata": {},
   "outputs": [
    {
     "data": {
      "text/plain": [
       "count    119036.000000\n",
       "mean         92.269656\n",
       "std          14.349799\n",
       "min          50.014171\n",
       "25%          88.090645\n",
       "50%          98.293672\n",
       "75%         100.000000\n",
       "max         200.000000\n",
       "Name: forest_pct, dtype: float64"
      ]
     },
     "execution_count": 120,
     "metadata": {},
     "output_type": "execute_result"
    }
   ],
   "source": [
    "grid_aspen['forest_pct'].describe()"
   ]
  },
  {
   "cell_type": "code",
   "execution_count": 123,
   "id": "67094a10-9ffe-4fe5-9545-04da1bd0a891",
   "metadata": {},
   "outputs": [
    {
     "data": {
      "image/png": "[encoded data removed]",
      "text/plain": [
       "<Figure size 900x600 with 5 Axes>"
      ]
     },
     "metadata": {},
     "output_type": "display_data"
    }
   ],
   "source": [
    "df = grid_aspen.copy() # work with a copy\n",
    "\n",
    "kde_data = []\n",
    "\n",
    "# Unique species excluding Aspen\n",
    "spps = [s for s in df['SpeciesName'].unique() if s != 'Aspen']\n",
    "\n",
    "# Filter for co-occurrence and prepare data for each species\n",
    "for sp in spps:\n",
    "    df_sp = df[df['SpeciesName'].isin(['Aspen', sp])]\n",
    "\n",
    "    # Pivot table to create columns for Aspen and the species\n",
    "    cover_df = (\n",
    "        df_sp.pivot_table(index='grid_index', columns='SpeciesName', values='spp_pct', fill_value=0)\n",
    "        .reset_index()\n",
    "        .rename(columns={'Aspen': 'aspen_pct', sp: f'{sp}_pct'})\n",
    "    )\n",
    "\n",
    "    # Filter for co-occurrence (both Aspen and the species must have >0 cover)\n",
    "    cover_df = cover_df[(cover_df['aspen_pct'] > 0) & (cover_df[f'{sp}_pct'] > 0)]\n",
    "\n",
    "    # Melt data for Seaborn FacetGrid\n",
    "    melted = cover_df.melt(id_vars='grid_index', value_vars=['aspen_pct', f'{sp}_pct'], \n",
    "                           var_name='species', value_name='pct_cover')\n",
    "    melted['other_spp'] = sp  # Add metadata for faceting\n",
    "    kde_data.append(melted)\n",
    "\n",
    "# Combine data for all species\n",
    "kde_data_df = pd.concat(kde_data, ignore_index=True)\n",
    "\n",
    "# KDE Facet Plot\n",
    "g = sns.FacetGrid(kde_data_df, col=\"other_spp\", col_wrap=3, height=3, sharex=True, sharey=True)\n",
    "g.map_dataframe(sns.kdeplot, x=\"pct_cover\", hue=\"species\", fill=True, alpha=0.6, common_norm=False)\n",
    "\n",
    "# Adjust labels and titles\n",
    "g.set_titles(\"{col_name}\")\n",
    "g.set_axis_labels(\"Percent Cover (%)\", \"Density\")\n",
    "plt.suptitle(\"KDE Plots: Aspen vs Associated Species (Co-occurrence Only)\", y=1.05)\n",
    "plt.tight_layout()\n",
    "plt.show()"
   ]
  },
  {
   "cell_type": "code",
   "execution_count": 56,
   "id": "0e0f1730-6ca0-4e6b-b1c8-4c86e62f77a9",
   "metadata": {},
   "outputs": [],
   "source": [
    "del df, cover_df"
   ]
  },
  {
   "cell_type": "code",
   "execution_count": 84,
   "id": "261f8dab-bbe1-4390-9194-b7eca20adf58",
   "metadata": {},
   "outputs": [
    {
     "data": {
      "text/plain": [
       "count    162043.000000\n",
       "mean         92.811113\n",
       "std          14.077852\n",
       "min          50.000000\n",
       "25%          89.427278\n",
       "50%          99.022258\n",
       "75%         100.000000\n",
       "max         200.000000\n",
       "Name: forest_pct, dtype: float64"
      ]
     },
     "execution_count": 84,
     "metadata": {},
     "output_type": "execute_result"
    }
   ],
   "source": [
    "grid_forest['forest_pct'].describe()"
   ]
  },
  {
   "cell_type": "code",
   "execution_count": 99,
   "id": "efdcd25b-b5f4-49e5-b3d9-6582525327f6",
   "metadata": {},
   "outputs": [
    {
     "data": {
      "text/plain": [
       "array(['Aspen', 'Douglas-fir', 'Lodgepole pine', 'Ponderosa pine',\n",
       "       'Spruce-fir', 'Pinon-juniper woodland'], dtype=object)"
      ]
     },
     "execution_count": 99,
     "metadata": {},
     "output_type": "execute_result"
    }
   ],
   "source": [
    "grid_forest['SpeciesName'].unique()"
   ]
  },
  {
   "cell_type": "code",
   "execution_count": 112,
   "id": "30bcfca1-f260-429c-8edf-d7c876dbfe39",
   "metadata": {},
   "outputs": [
    {
     "name": "stdout",
     "output_type": "stream",
     "text": [
      " Forest classes: ['Aspen' 'Conifer']\n",
      "\n",
      "count    27080.000000\n",
      "mean        96.225421\n",
      "std          7.213427\n",
      "min          8.678983\n",
      "25%         95.635301\n",
      "50%         98.965255\n",
      "75%        100.000000\n",
      "max        100.000000\n",
      "Name: forest_pct, dtype: float64\n",
      "\n",
      "\n",
      "   grid_index  aspen_pct  conifer_pct     frp_max    frp_csum     frp_p90  \\\n",
      "0      220668   0.508982    90.261477  196.318499  224.195357  179.474335   \n",
      "1      222930   0.512676    95.586964   24.510062   68.622302   23.296374   \n",
      "2      222934   0.160396    98.804134  161.180230  243.610102  145.106944   \n",
      "3      225193   1.548086    84.210318    6.050987   14.319055    3.666826   \n",
      "4      225194  10.911404    86.862407   16.787122   23.045018   11.167936   \n",
      "\n",
      "   forest_pct  \n",
      "0   90.770459  \n",
      "1   96.099640  \n",
      "2   98.964530  \n",
      "3   85.758404  \n",
      "4   97.773811  \n",
      "\n",
      "\n"
     ]
    },
    {
     "data": {
      "image/png": "[encoded data removed]",
      "text/plain": [
       "<Figure size 800x600 with 2 Axes>"
      ]
     },
     "metadata": {},
     "output_type": "display_data"
    }
   ],
   "source": [
    "# conifer/aspen\n",
    "df = grid_forest.copy() # work with a copy\n",
    "\n",
    "# label conifer/aspen, summarize percent cover\n",
    "df['ForestPhys'] = df['SpeciesName'].apply(lambda x: 'Conifer' if x != 'Aspen' else x)\n",
    "print(f\" Forest classes: {df['ForestPhys'].unique()}\\n\")\n",
    "\n",
    "# Recalculate percent cover\n",
    "cover_df = (\n",
    "    df.groupby(['grid_index', 'ForestPhys'])['spp_pct']\n",
    "    .sum()\n",
    "    .unstack(fill_value=0)\n",
    "    .reset_index()\n",
    "    .rename(columns={'Aspen': 'aspen_pct', 'Conifer': 'conifer_pct'})\n",
    ")\n",
    "\n",
    "# make sure there is some aspen \n",
    "cover_df = cover_df[(cover_df['aspen_pct'] > 0) & (cover_df['conifer_pct'] > 0)] # make sure is some aspen\n",
    "\n",
    "# merge back to FRP\n",
    "cover_df = cover_df.merge(grid[['grid_index','frp_max','frp_csum','frp_p90']], on='grid_index', how='left')\n",
    "\n",
    "# Calculate the total percent cover\n",
    "cover_df['forest_pct'] = cover_df['aspen_pct'] + cover_df['conifer_pct']\n",
    "print(cover_df['forest_pct'].describe()) # make sure none exceed 100\n",
    "print(\"\\n\")\n",
    "print(cover_df.head())\n",
    "print(\"\\n\")\n",
    "\n",
    "# # filter based on the 'forest_pct'\n",
    "# cover_df = cover_df[cover_df['forest_pct'] > 50]\n",
    "# print(f\">50 % combined forested plots: {len(cover_df_)} of {len(cover_df)}\\n\")\n",
    "\n",
    "# bin the data and plot the heatmap\n",
    "bins = np.linspace(0, 100, 11)  # 10% intervals\n",
    "cover_df['aspen_bin'] = pd.cut(cover_df['aspen_pct'], bins, labels=bins[:-1])\n",
    "cover_df['conifer_bin'] = pd.cut(cover_df['conifer_pct'], bins, labels=bins[:-1])\n",
    "\n",
    "# create the summarized data by bins (heatmap)\n",
    "heatmap_da = cover_df.groupby(['aspen_bin', 'conifer_bin']).frp_max.mean().unstack()\n",
    "heatmap_da = heatmap_da.replace(0, np.nan)\n",
    "\n",
    "# heatmap_da_log = np.log10(heatmap_da + 1e-6)\n",
    "\n",
    "# plot it\n",
    "plt.figure(figsize=(8, 6))\n",
    "\n",
    "sns.heatmap(\n",
    "    heatmap_da, \n",
    "    cmap='coolwarm', \n",
    "    annot=True, \n",
    "    fmt=\".1f\", \n",
    "    cbar_kws={'label': 'Maximum FRP'}\n",
    ")\n",
    "\n",
    "plt.xlabel('Conifer (%)')\n",
    "plt.ylabel('Aspen (%)')\n",
    "plt.show()"
   ]
  },
  {
   "cell_type": "code",
   "execution_count": null,
   "id": "339438ed-35f3-4755-9716-e7b655045d41",
   "metadata": {},
   "outputs": [],
   "source": []
  },
  {
   "cell_type": "code",
   "execution_count": null,
   "id": "ef3cd65d-fad5-4f9b-8e08-458b5113486f",
   "metadata": {},
   "outputs": [],
   "source": [
    "# confer/aspen\n",
    "df = aspen_grids.copy()\n",
    "\n",
    "conifers = ['Spruce-fir', 'Lodgepole pine', 'Ponderosa pine', 'Douglas-fir', 'Pinon-juniper woodland']  # Define conifer species\n",
    "df['ForestPhys'] = df['SpeciesName'].apply(lambda x: 'Conifer' if x in conifers else x)\n",
    "print(df['ForestPhys'].unique())\n",
    "\n",
    "# seperate the aspen/conifer dataframes\n",
    "conifer_df = df[df['ForestPhys'] == 'Conifer'].groupby('grid_index')['spp_pct'].sum().reset_index()\n",
    "conifer_df = conifer_df.rename(columns={'spp_pct': 'conifer_pct'})\n",
    "aspen_df = df[df['ForestPhys'] == 'Aspen'][['grid_index', 'spp_pct']].rename(columns={'spp_pct': 'aspen_pct'})\n",
    "\n",
    "comp = pd.merge(aspen_df, conifer_df, on='grid_index')\n",
    "comp = pd.merge(comp, grid[['grid_index','frp_csum','frp_max']], on='grid_index', how='left')\n",
    "comp = comp[(comp['aspen_pct'] > 0) & (comp['conifer_pct'] > 0)] # ensure some percentage of each\n",
    "\n",
    "# bin the data and plot\n",
    "bins = np.linspace(0, 100, 11)  # 10% intervals\n",
    "comp['Aspen_bin'] = pd.cut(comp['aspen_pct'], bins, labels=bins[:-1])\n",
    "comp['Conifer_bin'] = pd.cut(comp['conifer_pct'], bins, labels=bins[:-1])\n",
    "\n",
    "# calculate the average FRP max\n",
    "heatmap_da = comp.groupby(['Aspen_bin', 'Conifer_bin']).frp_max.mean().unstack()\n",
    "\n",
    "plt.figure(figsize=(8, 6))\n",
    "\n",
    "sns.heatmap(\n",
    "    heatmap_data, \n",
    "    cmap='coolwarm', \n",
    "    annot=True, \n",
    "    fmt=\".1f\", \n",
    "    cbar_kws={'label': 'Mean Cumulative FRP'}\n",
    ")\n",
    "\n",
    "plt.xlabel('Conifer Fractional Cover (Binned)')\n",
    "plt.ylabel('Aspen Fractional Cover (Binned)')\n",
    "plt.show()"
   ]
  },
  {
   "cell_type": "code",
   "execution_count": null,
   "id": "ce446b84-c141-4554-a745-2b66f338e8c4",
   "metadata": {},
   "outputs": [],
   "source": []
  },
  {
   "cell_type": "code",
   "execution_count": null,
   "id": "9e343793-d789-4b8d-baed-8c2f5d1ea8a6",
   "metadata": {},
   "outputs": [],
   "source": []
  },
  {
   "cell_type": "code",
   "execution_count": null,
   "id": "46d4378d-c1dd-41ee-be4f-229639d8a962",
   "metadata": {},
   "outputs": [],
   "source": []
  },
  {
   "cell_type": "code",
   "execution_count": null,
   "id": "cce3f011-c494-406e-b72e-a5d87bc48c0d",
   "metadata": {},
   "outputs": [],
   "source": []
  },
  {
   "cell_type": "code",
   "execution_count": null,
   "id": "845ab617-3359-4fa3-80bd-6218eb175538",
   "metadata": {},
   "outputs": [],
   "source": [
    "# merge back with FRP data\n",
    "df = pd.merge(grid, df, on='grid_index')\n",
    "df.columns"
   ]
  },
  {
   "cell_type": "code",
   "execution_count": null,
   "id": "eac41b06-5d67-4aea-a047-f7c161c857f8",
   "metadata": {},
   "outputs": [],
   "source": [
    "\n",
    "# Step 2: Define bins and prepare species list\n",
    "bins = np.linspace(0, 100, 11)  # Binning from 0 to 100 in 10% intervals\n",
    "species_list = [s for s in filtered_data['SpeciesName'].unique() if s != 'Aspen']  # Exclude Aspen\n",
    "\n",
    "# Step 3: Prepare data for facet plotting\n",
    "heatmap_data_list = []\n",
    "\n",
    "for species in species_list:\n",
    "    # Extract Aspen and the current species for the same grid cells\n",
    "    aspen_data = filtered_data[filtered_data['SpeciesName'] == 'Aspen'][['grid_index', 'spp_pct']]\n",
    "    species_data = filtered_data[filtered_data['SpeciesName'] == species][['grid_index', 'spp_pct', 'frp_csum']]\n",
    "    \n",
    "    # Merge the two datasets on grid_index\n",
    "    merged = pd.merge(aspen_data, species_data, on='grid_index', suffixes=('_Aspen', f'_{species}'))\n",
    "    \n",
    "    # Bin Aspen and the current species\n",
    "    merged['Aspen_bin'] = pd.cut(merged['spp_pct_Aspen'], bins, labels=bins[:-1])\n",
    "    merged[f'{species}_bin'] = pd.cut(merged[f'spp_pct_{species}'], bins, labels=bins[:-1])\n",
    "    \n",
    "    # Aggregate to calculate mean FRP for each bin combination\n",
    "    heatmap_data = merged.groupby(['Aspen_bin', f'{species}_bin']).frp_csum.mean().unstack()\n",
    "    \n",
    "    # Store the heatmap data for plotting\n",
    "    heatmap_data_list.append((species, heatmap_data))\n",
    "\n",
    "# Step 4: Create facet plot\n",
    "n_species = len(species_list)\n",
    "n_cols = 3  # Number of columns in the facet grid\n",
    "n_rows = int(np.ceil(n_species / n_cols))\n",
    "\n",
    "fig, axes = plt.subplots(n_rows, n_cols, figsize=(15, 5 * n_rows), constrained_layout=True)\n",
    "\n",
    "# Flatten axes for easy indexing\n",
    "axes = axes.flatten()\n",
    "\n",
    "for i, (species, heatmap_data) in enumerate(heatmap_data_list):\n",
    "    ax = axes[i]\n",
    "    sns.heatmap(\n",
    "        heatmap_data, \n",
    "        cmap='viridis', \n",
    "        annot=False, \n",
    "        fmt=\".1f\", \n",
    "        cbar_kws={'label': 'Mean Cumulative FRP'}, \n",
    "        ax=ax\n",
    "    )\n",
    "    ax.set_title(f'{species} vs Aspen')\n",
    "    ax.set_xlabel(f'{species} Fractional Cover (Binned)')\n",
    "    ax.set_ylabel('Aspen Fractional Cover (Binned)')\n",
    "\n",
    "# Remove unused subplots if species < n_rows * n_cols\n",
    "for j in range(i + 1, len(axes)):\n",
    "    fig.delaxes(axes[j])\n",
    "\n",
    "plt.suptitle('Heatmaps of Aspen and Other Species Fractional Covers vs FRP', fontsize=16, y=1.02)\n",
    "plt.show()"
   ]
  },
  {
   "cell_type": "code",
   "execution_count": null,
   "id": "d1d319b9-a9dd-4c0a-ada4-1721d6d7471b",
   "metadata": {},
   "outputs": [],
   "source": []
  },
  {
   "cell_type": "code",
   "execution_count": null,
   "id": "530c166e-3e1d-443e-bf1b-4d320ae3bea7",
   "metadata": {},
   "outputs": [],
   "source": []
  },
  {
   "cell_type": "code",
   "execution_count": null,
   "id": "a990a5db-86d4-4556-ba48-3063f0d956cd",
   "metadata": {},
   "outputs": [],
   "source": []
  },
  {
   "cell_type": "code",
   "execution_count": null,
   "id": "068a603a-e966-4480-9fd7-278f2c105672",
   "metadata": {},
   "outputs": [],
   "source": []
  },
  {
   "cell_type": "code",
   "execution_count": null,
   "id": "38fbafed-c235-481d-8cb9-276ebdee70ba",
   "metadata": {},
   "outputs": [],
   "source": [
    "# Load the treemap metrics, apply the same remapping"
   ]
  },
  {
   "cell_type": "code",
   "execution_count": null,
   "id": "1a9dc0bd-1f54-41c8-b527-ad9bdd0538b5",
   "metadata": {},
   "outputs": [],
   "source": [
    "ftyp_met = os.path.join(projdir,'earth-engine/exports/treemap/gridstats_fortypcd_metrics.csv')\n",
    "tm_stats = pd.read_csv(ftyp_met)\n",
    "tm_stats.drop(columns=['system:index','.geo'], inplace=True)\n",
    "tm_stats.columns"
   ]
  },
  {
   "cell_type": "code",
   "execution_count": null,
   "id": "1018c100-7e4d-499d-9211-6257aa000d6c",
   "metadata": {},
   "outputs": [],
   "source": [
    "# unpack histogram dictionary into columns\n",
    "def parse_histogram(hist_str):\n",
    "    # Convert float or NaN to string, then parse\n",
    "    if isinstance(hist_str, float) or pd.isna(hist_str):\n",
    "        hist_str = str(int(hist_str)) if not pd.isna(hist_str) else \"\"\n",
    "    kv_pairs = hist_str.split(', ')  # Split the key-value pairs\n",
    "    # Convert key-value pairs to a dictionary\n",
    "    return {kv.split(':')[0]: float(kv.split(':')[1]) for kv in kv_pairs if ':' in kv}\n",
    "\n",
    "# parse the dictionary\n",
    "tm_stats['species_metrics'] = tm_stats['species_metrics'].apply(parse_histogram)\n",
    "hist_df = tm_stats['species_metrics'].apply(pd.Series)\n",
    "tm_stats = pd.concat([tm_stats.drop(columns=['species_metrics']), hist_df], axis=1).reset_index(drop=True)\n",
    "print(\"Adjusted DataFrame:\")\n",
    "tm_stats.head(3)"
   ]
  },
  {
   "cell_type": "code",
   "execution_count": null,
   "id": "cab61e79-847a-439b-899f-1ddcaa3d8b0d",
   "metadata": {},
   "outputs": [],
   "source": []
  },
  {
   "cell_type": "code",
   "execution_count": null,
   "id": "2ffcc204-7752-4d71-bb43-996d39513f57",
   "metadata": {},
   "outputs": [],
   "source": [
    "# isolate melt bands/columns\n",
    "band_names = ['BALIVE', 'SDIPCT_RMRS', 'STANDHT', 'TPA_DEAD', 'TPA_LIVE']\n",
    "regex_p = '|'.join(band_names) # regex pattern for melting columns\n",
    "metrics_cols = [col for col in tm_stats.columns if '_mn' in col]\n",
    "print(f\"[{len(metrics_cols)}] total metrics columns selected for melting:\\n\")\n",
    "\n",
    "# do the melt\n",
    "tm_stats_l = tm_stats.melt(\n",
    "    id_vars=['grid_index'], \n",
    "    value_vars=metrics_cols, \n",
    "    var_name='metric', \n",
    "    value_name='value'\n",
    ")\n",
    "tm_stats_l.head(3)"
   ]
  },
  {
   "cell_type": "code",
   "execution_count": null,
   "id": "97880279-12c8-4ff7-b4b6-a69261b1219b",
   "metadata": {},
   "outputs": [],
   "source": [
    "# gather the forest type code from the band name\n",
    "tm_stats_l['FORTYPCD'] = tm_stats_l['metric'].str.extract(r'^(\\d+)_')[0].astype(int)\n",
    "tm_stats_l['metric'] = tm_stats_l['metric'].str.extract(f'({regex_p})')[0]\n",
    "tm_stats_l = tm_stats_l[['grid_index','FORTYPCD','metric','value']]\n",
    "tm_stats_l.dropna(subset=['value'], inplace=True) # drop NaNs\n",
    "tm_stats_l['metric'].unique()"
   ]
  },
  {
   "cell_type": "code",
   "execution_count": null,
   "id": "e6b495ba-b6bf-49fd-808e-ed775830d8c7",
   "metadata": {},
   "outputs": [],
   "source": [
    "# pivot longer to get metrics as columns\n",
    "tm_stats_lp = tm_stats_l.pivot_table(index=['grid_index', 'FORTYPCD'], columns='metric', values='value')\n",
    "tm_stats_lp = tm_stats_lp.reset_index() # collapse the index\n",
    "tm_stats_lp = tm_stats_lp[['grid_index','FORTYPCD']+band_names]\n",
    "tm_stats_lp.rename(columns={'SDIPCT_RMRS': 'SDIPCT'}, inplace=True)\n",
    "tm_stats_lp.head(3)"
   ]
  },
  {
   "cell_type": "code",
   "execution_count": null,
   "id": "ec8a5e76-719b-4580-af6b-527fd2f17b60",
   "metadata": {},
   "outputs": [],
   "source": []
  },
  {
   "cell_type": "code",
   "execution_count": null,
   "id": "d3784233-fc13-49c7-a10e-682371d7ad08",
   "metadata": {},
   "outputs": [],
   "source": []
  },
  {
   "cell_type": "code",
   "execution_count": null,
   "id": "aa99d812-bbf6-4bd5-9729-b28c7c8f0a57",
   "metadata": {},
   "outputs": [],
   "source": [
    "# load the Sentinel-2 metrics"
   ]
  },
  {
   "cell_type": "code",
   "execution_count": null,
   "id": "6dc04a27-725e-4e40-90dd-be3309d3e7c0",
   "metadata": {},
   "outputs": [],
   "source": [
    "fp = os.path.join(projdir,'earth-engine/exports/treemap/gridstats_fortypcd_s2.csv')\n",
    "s2_stats = pd.read_csv(fp)\n",
    "s2_stats.drop(columns=['system:index','.geo'], inplace=True)\n",
    "s2_stats.columns"
   ]
  },
  {
   "cell_type": "code",
   "execution_count": null,
   "id": "c03a24e3-2ab5-4cb7-a12f-4a2b3f524ffd",
   "metadata": {},
   "outputs": [],
   "source": [
    "# unpack histogram dictionary into columns\n",
    "def parse_histogram(hist_str):\n",
    "    # Convert float or NaN to string, then parse\n",
    "    if isinstance(hist_str, float) or pd.isna(hist_str):\n",
    "        hist_str = str(int(hist_str)) if not pd.isna(hist_str) else \"\"\n",
    "    kv_pairs = hist_str.split(', ')  # Split the key-value pairs\n",
    "    # Convert key-value pairs to a dictionary\n",
    "    return {kv.split(':')[0]: float(kv.split(':')[1]) for kv in kv_pairs if ':' in kv}\n",
    "# parse the dictionary\n",
    "s2_stats['species_s2'] = s2_stats['species_s2'].apply(parse_histogram)\n",
    "s2_stats.head(3)"
   ]
  },
  {
   "cell_type": "code",
   "execution_count": null,
   "id": "5e3726f6-0e07-41a6-98b4-3a5756d3629a",
   "metadata": {},
   "outputs": [],
   "source": [
    "hist_df = s2_stats['species_s2'].apply(pd.Series)\n",
    "s2_stats = pd.concat([s2_stats.drop(columns=['species_s2']), hist_df], axis=1).reset_index(drop=True)\n",
    "print(\"Adjusted DataFrame:\")\n",
    "s2_stats.head(3)"
   ]
  },
  {
   "cell_type": "code",
   "execution_count": null,
   "id": "5bb632d0-cdca-4ba2-9b97-18b56a203780",
   "metadata": {},
   "outputs": [],
   "source": [
    "# extract the correct band names / columns\n",
    "band_names = ['LAI', 'MNDWI']\n",
    "regex_p = '|'.join(band_names) # regex pattern for melting columns\n",
    "metrics_cols = [col for col in s2_stats.columns if 'LAI' or 'MNDWI' in col]\n",
    "print(f\"[{len(metrics_cols)}] total metrics columns selected for melting:\\n\")\n",
    "# do the melt\n",
    "s2_stats_l = s2_stats.melt(\n",
    "    id_vars=['grid_index'], \n",
    "    value_vars=metrics_cols, \n",
    "    var_name='metric', \n",
    "    value_name='value'\n",
    ")\n",
    "s2_stats_l.head(3)"
   ]
  },
  {
   "cell_type": "code",
   "execution_count": null,
   "id": "f081ce5e-afe0-4f3a-a40d-69690e6c5b9f",
   "metadata": {},
   "outputs": [],
   "source": [
    "# gather the forest type code\n",
    "s2_stats_l['FORTYPCD'] = s2_stats_l['metric'].str.extract(r'^(\\d+)_')[0].astype(int)\n",
    "s2_stats_l['metric'] = s2_stats_l['metric'].str.extract(f'({regex_p})')[0]\n",
    "s2_stats_l = s2_stats_l[['grid_index','FORTYPCD','metric','value']]\n",
    "s2_stats_l.dropna(subset=['value'], inplace=True) # drop NaNs\n",
    "s2_stats_l['metric'].unique()"
   ]
  },
  {
   "cell_type": "code",
   "execution_count": null,
   "id": "0fdf2d67-e688-41f0-8a2b-fd4fc81e212c",
   "metadata": {},
   "outputs": [],
   "source": [
    "# pivot longer the get metrics as columns\n",
    "s2_stats_lp = s2_stats_l.pivot_table(index=['grid_index', 'FORTYPCD'], columns='metric', values='value')\n",
    "s2_stats_lp = s2_stats_lp.reset_index() # collapse the index\n",
    "s2_stats_lp = s2_stats_lp[['grid_index','FORTYPCD','LAI','MNDWI']]\n",
    "s2_stats_lp.head(3)"
   ]
  },
  {
   "cell_type": "code",
   "execution_count": null,
   "id": "3f07ec40-b33b-47d1-b268-faf859d8de42",
   "metadata": {},
   "outputs": [],
   "source": []
  },
  {
   "cell_type": "code",
   "execution_count": null,
   "id": "fda48842-d721-4ba1-ae90-73ec55ecafd9",
   "metadata": {},
   "outputs": [],
   "source": []
  },
  {
   "cell_type": "code",
   "execution_count": null,
   "id": "65da8a76-f04e-4627-98a2-4bb6fd3147c5",
   "metadata": {},
   "outputs": [],
   "source": [
    "# Merge the TreeMap metrics with the Sentinel-2 metrics\n",
    "# Merge to the FRP grid"
   ]
  },
  {
   "cell_type": "code",
   "execution_count": null,
   "id": "a972739f-e69c-4e04-98a9-bbd66ebad0ac",
   "metadata": {},
   "outputs": [],
   "source": [
    "# Join to the FORTYPCD dataframe by grid index and FORTYPCD\n",
    "treemap_df = fortyp_df.merge(tm_stats_lp, on=['grid_index','FORTYPCD'], how='left')\n",
    "treemap_df = treemap_df.merge(s2_stats_lp, on=['grid_index','FORTYPCD'], how='left')\n",
    "\n",
    "# Make sure we're just keeping our 97% landscape fraction forest types\n",
    "treemap_df = treemap_df[treemap_df['SpeciesName'].isin(top_species['SpeciesName'].unique())]\n",
    "\n",
    "print(treemap_df.columns)\n",
    "treemap_df['SpeciesName'].unique()"
   ]
  },
  {
   "cell_type": "code",
   "execution_count": null,
   "id": "1fea8936-7fda-4cc1-b16b-b1149dd6ffdf",
   "metadata": {},
   "outputs": [],
   "source": [
    "treemap_df.head(3)"
   ]
  },
  {
   "cell_type": "code",
   "execution_count": null,
   "id": "bd0c8e80-d603-4e53-b4f6-b183b1d69065",
   "metadata": {},
   "outputs": [],
   "source": [
    "# save the TreeMap table out.\n",
    "out_fp = os.path.join(projdir,'tabular/mod/viirs_snpp_jpss1_gridstats_treemap-s2.csv')\n",
    "treemap_df.to_csv(out_fp)\n",
    "print(f\"Saved file to: {out_fp}\")"
   ]
  },
  {
   "cell_type": "code",
   "execution_count": null,
   "id": "a3f12201-943b-4a14-b766-f83c32047346",
   "metadata": {},
   "outputs": [],
   "source": []
  },
  {
   "cell_type": "code",
   "execution_count": null,
   "id": "4e002cab-46dd-497f-bc2b-53c287072850",
   "metadata": {},
   "outputs": [],
   "source": []
  },
  {
   "cell_type": "code",
   "execution_count": null,
   "id": "9b6df274-be47-4053-812d-fad460358536",
   "metadata": {},
   "outputs": [],
   "source": []
  },
  {
   "cell_type": "code",
   "execution_count": null,
   "id": "cc2d0d4f-9547-49b7-a2b9-8e8b23300e02",
   "metadata": {},
   "outputs": [],
   "source": [
    "# Identify the dominant forest type for each gridcell\n",
    "# Subset to forested gridcells (>50%)"
   ]
  },
  {
   "cell_type": "code",
   "execution_count": null,
   "id": "29fcdc4b-c34a-420e-9d2a-7c32b6f109cd",
   "metadata": {},
   "outputs": [],
   "source": [
    "grid_dtree = grid_forest.loc[grid_forest.groupby('grid_index')['spp_pct'].idxmax()]\n",
    "print(grid_dtree['SpeciesName'].unique())"
   ]
  },
  {
   "cell_type": "code",
   "execution_count": null,
   "id": "34731e3f-6d32-4f8d-8a1a-44b733400592",
   "metadata": {},
   "outputs": [],
   "source": [
    "# plot the distribution of FRP max and cumulative\n",
    "print(f\"Maximum FRP distribution:\\n {grid_dtree['frp_max'].describe()}\\n\")\n",
    "print(f\"Cumulative FRP distribution:\\n {grid_dtree['frp_csum'].describe()}\\n\")"
   ]
  },
  {
   "cell_type": "code",
   "execution_count": null,
   "id": "adf7c504-2605-439b-b9eb-10eefb2e3d55",
   "metadata": {},
   "outputs": [],
   "source": []
  },
  {
   "cell_type": "code",
   "execution_count": null,
   "id": "6b985cd0-5a1a-4f08-8357-e1fb82adfcdf",
   "metadata": {},
   "outputs": [],
   "source": [
    "# Plot FRP by EVT group name\n",
    "# Find the median and sort the evt classes\n",
    "med = grid_dtree.groupby('SpeciesName')['frp_csum'].median().sort_values(ascending=False)\n",
    "sorted = med.index.tolist()\n",
    "\n",
    "grid_dtree['frp_max_adj'] = grid_dtree['frp_max'] + 1\n",
    "grid_dtree['frp_csum_adj'] = grid_dtree['frp_csum'] + 1\n",
    "\n",
    "# create a dataframe with dominance (>90% of the same species)\n",
    "dom = grid_dtree[grid_dtree['spp_pct'] > 80]\n",
    "\n",
    "# plot it\n",
    "plt.figure(figsize=(6, 4)) \n",
    "\n",
    "sns.boxplot(\n",
    "    data=dom, \n",
    "    x='frp_max_adj', \n",
    "    y='SpeciesName', \n",
    "    order=sorted, \n",
    "    palette='coolwarm_r', \n",
    "    dodge=False)\n",
    "\n",
    "plt.xscale('log')\n",
    "\n",
    "plt.xlabel('Fire Radiative Power (FRP)')\n",
    "plt.ylabel('Forest Type')\n",
    "\n",
    "plt.tight_layout()\n",
    "\n",
    "plt.savefig(os.path.join(projdir, 'figures/FigureX_FORTYPCD_DominantSpecies_FRPcsum.png'), dpi=300, bbox_inches='tight')\n",
    "\n",
    "plt.show()"
   ]
  },
  {
   "cell_type": "code",
   "execution_count": null,
   "id": "40573a23-da09-428d-a27c-9e04b401bb96",
   "metadata": {},
   "outputs": [],
   "source": []
  },
  {
   "cell_type": "code",
   "execution_count": null,
   "id": "6c776904-5ba1-4335-b0a7-8ad5c26c6144",
   "metadata": {},
   "outputs": [],
   "source": []
  },
  {
   "cell_type": "code",
   "execution_count": null,
   "id": "62751547-9dd6-4d5f-8aa2-141ceda2deb6",
   "metadata": {},
   "outputs": [],
   "source": []
  },
  {
   "cell_type": "code",
   "execution_count": null,
   "id": "4cc8364e-ade6-4c63-8448-b5c940707ce7",
   "metadata": {},
   "outputs": [],
   "source": []
  },
  {
   "cell_type": "code",
   "execution_count": null,
   "id": "ce25ab28-8533-4d80-8ea1-d8f11553117c",
   "metadata": {},
   "outputs": [],
   "source": []
  },
  {
   "cell_type": "code",
   "execution_count": null,
   "id": "968c7425-10e5-4a0e-b4cd-5aa75ea87f89",
   "metadata": {},
   "outputs": [],
   "source": []
  },
  {
   "cell_type": "code",
   "execution_count": null,
   "id": "fc8048d6-2911-4c0d-af60-121fb63f6a47",
   "metadata": {},
   "outputs": [],
   "source": []
  },
  {
   "cell_type": "code",
   "execution_count": null,
   "id": "1f4a6c46-f06c-4ea5-899f-6636f50e758f",
   "metadata": {},
   "outputs": [],
   "source": [
    "# plot total detections by forest type"
   ]
  },
  {
   "cell_type": "code",
   "execution_count": null,
   "id": "fa202113-9d8a-4961-a4f4-b13917ea8a39",
   "metadata": {},
   "outputs": [],
   "source": [
    "total_afd = grid_dtree['afd_count'].sum() # total afd counts\n",
    "# proportional counts\n",
    "afd_props = (\n",
    "    grid_dtree.groupby('SpeciesName')['afd_count']\n",
    "    .sum()\n",
    "    .reset_index(name='afd_count')\n",
    ")\n",
    "afd_props['afd_prop'] = afd_props['afd_count'] / total_afd\n",
    "# merge with the species prevalence\n",
    "afd_props_spp = pd.merge(afd_props, spp_prevalence, on='SpeciesName', how='inner')\n",
    "afd_props_spp.head(7)"
   ]
  },
  {
   "cell_type": "code",
   "execution_count": null,
   "id": "4401ba82-63f7-4fc6-970f-88d1160db11e",
   "metadata": {},
   "outputs": [],
   "source": [
    "# plot the difference between landscape fraction and afd\n",
    "plt.figure(figsize=(6, 4.25))\n",
    "sns.barplot(\n",
    "    data=afd_props_spp.melt(\n",
    "        id_vars='SpeciesName',\n",
    "        value_vars=['afd_prop', 'fraction'],\n",
    "        var_name='Proportion Type',\n",
    "        value_name='Proportion'\n",
    "    ),\n",
    "    x='SpeciesName',\n",
    "    y='Proportion',\n",
    "    hue='Proportion Type',\n",
    "    palette='viridis'\n",
    ")\n",
    "\n",
    "plt.title('Proportion of Fire Detections vs. Landscape Proportion by Species')\n",
    "plt.xlabel('Dominant Tree Species')\n",
    "plt.ylabel('Proportion')\n",
    "plt.xticks(rotation=45, ha='right')\n",
    "plt.legend(title='Proportion Type')\n",
    "plt.tight_layout()\n",
    "\n",
    "plt.savefig(os.path.join(projdir, 'figures/FigureX_FORTYPCD_FractionalCover_Detections.png'), dpi=300, bbox_inches='tight')\n",
    "\n",
    "plt.show()"
   ]
  },
  {
   "cell_type": "code",
   "execution_count": null,
   "id": "2dd94b6e-f370-40bb-a953-4cacdbfe149f",
   "metadata": {},
   "outputs": [],
   "source": [
    "grid_dtree.columns"
   ]
  },
  {
   "cell_type": "code",
   "execution_count": null,
   "id": "cbfa519d-8ad6-4f35-9776-9dd4a44f02ce",
   "metadata": {},
   "outputs": [],
   "source": [
    "grid_dtree_ = grid_dtree.merge(tm_stats_lp, on='grid_index', how='inner')\n",
    "grid_dtree_.columns"
   ]
  },
  {
   "cell_type": "code",
   "execution_count": null,
   "id": "3b584eb8-b017-4f27-82c0-b5e5228ee16a",
   "metadata": {},
   "outputs": [],
   "source": [
    "# plot the relationship between BALIVE and FRP by species\n",
    "g = sns.lmplot(\n",
    "    data=grid_dtree_, x='frp_max', y='BALIVE', hue='SpeciesName', col='SpeciesName', \n",
    "    col_wrap=3, height=2, aspect=1.2, scatter_kws={'alpha':0.4}, line_kws={'color':'black'}, \n",
    "    sharey=True, palette='viridis'\n",
    ")\n",
    "\n",
    "for ax in g.axes.flat:\n",
    "    ax.set_ylim(0, grid_dtree_['BALIVE'].max()+0.2)  # Set the y-axis limit from 0 to 4\n",
    "    ax.set_title(ax.get_title().replace('SpeciesName = ', ''))\n",
    "\n",
    "plt.savefig(os.path.join(projdir,'figures/FigureX_FORTYPCD_FRP_BALIVE.png'), dpi=300, bbox_inches='tight')\n",
    "\n",
    "plt.show()"
   ]
  },
  {
   "cell_type": "code",
   "execution_count": null,
   "id": "543e85a7-aea3-4e15-acc6-17b42e302580",
   "metadata": {},
   "outputs": [],
   "source": []
  },
  {
   "cell_type": "code",
   "execution_count": null,
   "id": "716a4e5a-b750-4ed1-98ac-22731e83651a",
   "metadata": {},
   "outputs": [],
   "source": [
    "import matplotlib.colors as mcolors\n",
    "import matplotlib.cm as cm"
   ]
  },
  {
   "cell_type": "code",
   "execution_count": null,
   "id": "cbcedb86-4702-4ae0-88c6-6f1fef6b15f7",
   "metadata": {},
   "outputs": [],
   "source": [
    "# plot FRP by species quantiles\n",
    "\n",
    "grid_forest['frp_max_adj'] = grid_forest['frp_max'] + 1\n",
    "\n",
    "quantiles = 5\n",
    "grid_forest['spp_pct_qt'] = grid_forest.groupby('SpeciesName')['spp_pct'].transform(\n",
    "    lambda x: pd.qcut(x, q=quantiles, labels=False) + 1\n",
    ")\n",
    "unique_species = grid_forest['SpeciesName'].unique()\n",
    "species_colors = sns.color_palette('tab20', len(unique_species))  # Assign unique color per species\n",
    "quantile_shades = {\n",
    "    species: [mcolors.to_hex(cm.viridis(i / (quantiles - 1))) for i in range(quantiles)]\n",
    "    for species in unique_species\n",
    "}\n",
    "grid_forest['quantile_color'] = grid_forest.apply(\n",
    "    lambda row: quantile_shades[row['SpeciesName']][row['spp_pct_qt'] - 1],\n",
    "    axis=1\n",
    ")\n",
    "\n",
    "plt.figure(figsize=(12, 6))\n",
    "\n",
    "# Sort species by median FRP for better organization\n",
    "med_frp = grid_forest.groupby('SpeciesName')['frp_max_adj'].median().sort_values(ascending=False)\n",
    "sorted_species = med_frp.index.tolist()\n",
    "\n",
    "sns.boxplot(\n",
    "    data=grid_forest,\n",
    "    x='SpeciesName',\n",
    "    y='frp_max_adj',\n",
    "    hue='spp_pct_qt',\n",
    "    order=sorted_species,\n",
    "    palette='viridis',\n",
    "    dodge=True\n",
    ")\n",
    "\n",
    "# Customize legend\n",
    "handles, labels = plt.gca().get_legend_handles_labels()\n",
    "plt.legend(handles, [f\"Quantile {int(label)+1}\" for label in labels], title=\"Species % Cover Quantile\", bbox_to_anchor=(1.05, 1), loc='upper left')\n",
    "\n",
    "# Set log scale for FRP\n",
    "plt.yscale('log')\n",
    "\n",
    "# Add labels and title\n",
    "plt.xlabel('Forest Type', fontsize=12)\n",
    "plt.ylabel('Fire Radiative Power (FRP)', fontsize=12)\n",
    "plt.title('Distribution of FRP by Species % Cover Quantiles', fontsize=14)\n",
    "\n",
    "plt.tight_layout()\n",
    "plt.savefig(os.path.join(projdir, 'figures/FigureX_FRP_Species_Quantiles.png'), dpi=300, bbox_inches='tight')\n",
    "plt.show()"
   ]
  },
  {
   "cell_type": "code",
   "execution_count": null,
   "id": "1890948c-83b6-40cd-a66f-cf23392a5cbf",
   "metadata": {},
   "outputs": [],
   "source": []
  }
 ],
 "metadata": {
  "kernelspec": {
   "display_name": "aspen-fire",
   "language": "python",
   "name": "aspen-fire"
  },
  "language_info": {
   "codemirror_mode": {
    "name": "ipython",
    "version": 3
   },
   "file_extension": ".py",
   "mimetype": "text/x-python",
   "name": "python",
   "nbconvert_exporter": "python",
   "pygments_lexer": "ipython3",
   "version": "3.10.12"
  }
 },
 "nbformat": 4,
 "nbformat_minor": 5
}
