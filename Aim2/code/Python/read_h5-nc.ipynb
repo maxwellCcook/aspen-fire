{
 "cells": [
  {
   "cell_type": "code",
   "execution_count": 5,
   "id": "4567a702-8078-4e51-8255-0f0541fd534b",
   "metadata": {},
   "outputs": [],
   "source": [
    "\"\"\"\n",
    "\"\"\"\n",
    "\n",
    "import os, glob\n",
    "import h5py\n",
    "\n",
    "# File path information\n",
    "maindir = '/Users/max/Library/CloudStorage/OneDrive-Personal/mcook/aspen-fire'\n",
    "datadir = os.path.join(maindir,'Aim2/data/spatial/raw/VIIRS/')\n"
   ]
  },
  {
   "cell_type": "code",
   "execution_count": 9,
   "id": "6b77ddbe-aadf-49db-bc95-3859567f24c1",
   "metadata": {},
   "outputs": [],
   "source": [
    "def list_files(path, ext, recursive):\n",
    "    \"\"\"\n",
    "    List files of a specific type in a directory or subdirectories\n",
    "    \"\"\"\n",
    "    if recursive is True:\n",
    "        return glob.glob(os.path.join(path, '**', '*{}'.format(ext)), recursive=True)\n",
    "    else:\n",
    "        return glob.glob(os.path.join(path, '*{}'.format(ext)), recursive=False)\n",
    "\n",
    "\n",
    "def read_h5_file(fp):\n",
    "    geo_objs = []\n",
    "    def print_attrs(name, obj):\n",
    "        print(name)\n",
    "        for key, val in obj.attrs.items():\n",
    "            print(f\"    {key}: {val}\")     \n",
    "    with h5py.File(fp, 'r') as f:\n",
    "        print(f'Contents of {fp}')\n",
    "        f.visititems(print_attrs)\n",
    "        f.visit(geo_objs.append) # stores the SDS objects\n",
    "    return geo_objs"
   ]
  },
  {
   "cell_type": "code",
   "execution_count": 7,
   "id": "c0670b6c-b1db-4e14-aee8-e5d1632f1212",
   "metadata": {},
   "outputs": [
    {
     "name": "stdout",
     "output_type": "stream",
     "text": [
      "/Users/max/Library/CloudStorage/OneDrive-Personal/mcook/aspen-fire/Aim2/data/spatial/raw/VIIRS/FIRED_3518/VJ103MODLL/VJ103MODLL.A2021243.1000.021.2021243163653.h5\n"
     ]
    }
   ],
   "source": [
    "# Testing for one fire\n",
    "testDir = os.path.join(datadir,'FIRED_3518')\n",
    "# Get a list of geo files\n",
    "geo_files = list_files(testDir,\"*.h5\",recursive=True)\n",
    "print(geo_files[0])"
   ]
  },
  {
   "cell_type": "code",
   "execution_count": 10,
   "id": "2e8fdbb1-917a-4986-863e-b85bca7452bb",
   "metadata": {},
   "outputs": [
    {
     "name": "stdout",
     "output_type": "stream",
     "text": [
      "Contents of /Users/max/Library/CloudStorage/OneDrive-Personal/mcook/aspen-fire/Aim2/data/spatial/raw/VIIRS/FIRED_3518/VJ103MODLL/VJ103MODLL.A2021243.1000.021.2021243163653.h5\n",
      "HDFEOS\n",
      "    Conventions: b'CF-1.6'\n",
      "    EndTime: b'2021-08-31 10:06:00.000'\n",
      "    GRingPointSequenceNo: [[1 2 3 4]]\n",
      "    TAI93_leapseconds: 10\n",
      "    _NCProperties: b'version=1|netcdflibversion=4.4.1.1|hdf5libversion=1.8.17'\n",
      "    date_created: b'2021-08-31T12:20:50Z'\n",
      "    endDirection: b'Descending'\n",
      "    format_version: 2\n",
      "    geospatial_lat_max: 48.82603454589844\n",
      "    geospatial_lat_min: 23.335987091064453\n",
      "    geospatial_lat_units: b'degrees_north'\n",
      "    geospatial_lon_max: -101.1566162109375\n",
      "    geospatial_lon_min: -141.2718048095703\n",
      "    geospatial_lon_units: b'degrees_east'\n",
      "    history: b'geolocate_viirs.exe PGE501.1.AS5201.JP1VIIRS.2021-243T10:00.NA.2021-243T16:14:49.48370767.pcf'\n",
      "    identifier_product_doi: b'10.5067/VIIRS/VJ103MOD.021'\n",
      "    identifier_product_doi_authority: b'https://doi.org'\n",
      "    instrument: b'VIIRS'\n",
      "    instrument_number: 3\n",
      "    keywords_vocabulary: b'NASA Global Change Master Directory (GCMD) Science Keywords'\n",
      "    number_of_filled_scans: 202\n",
      "    platform: b'JPSS-1'\n",
      "    processing_version: b'v3.0.0'\n",
      "    product_name: b'VJ103MOD.A2021243.1000.021.2021243161449.nc'\n",
      "    project: b'VIIRS L1 Project'\n",
      "    source: b'VJ101.A2021243.1000.021.2021243161327.nc,VIIRS_J1_CMN_LUT_v3.1.0.5_20210810_vcst.nc,VIIRS_J1_GEO_LUT_v3.1.0.0_20210628_vcst.nc,off_USNO-PolarWander-UT1-ANC_Ser7_USNO_000f_20210827_202108270000Z_20210827000101Z_ee20210903120000Z_np.ascii'\n",
      "    standard_name_vocabulary: b''\n",
      "    startDirection: b'Descending'\n",
      "    time_coverage_end: b'2021-08-31T10:06:00.000Z'\n",
      "    time_coverage_start: b'2021-08-31T10:00:00.000Z'\n",
      "    title: b'VIIRS M-band Geolocation Data'\n",
      "HDFEOS/ADDITIONAL\n",
      "HDFEOS/ADDITIONAL/FILE_ATTRIBUTES\n",
      "HDFEOS/SWATHS\n",
      "HDFEOS/SWATHS/VNP_750M_GEOLOCATION\n",
      "HDFEOS/SWATHS/VNP_750M_GEOLOCATION/Data Fields\n",
      "HDFEOS/SWATHS/VNP_750M_GEOLOCATION/Data Fields/Height\n",
      "    _FillValue: [-32768]\n",
      "    long_name: b'Terrain height at pixel locations'\n",
      "    units: b'meters'\n",
      "HDFEOS/SWATHS/VNP_750M_GEOLOCATION/Geolocation Fields\n",
      "HDFEOS/SWATHS/VNP_750M_GEOLOCATION/Geolocation Fields/Latitude\n",
      "    _FillValue: [-999.9]\n",
      "    long_name: b'Latitudes of pixel locations'\n",
      "    units: b'degrees'\n",
      "HDFEOS/SWATHS/VNP_750M_GEOLOCATION/Geolocation Fields/Longitude\n",
      "    _FillValue: [-999.9]\n",
      "    long_name: b'Longitudes of pixel locations'\n",
      "    units: b'degrees'\n",
      "HDFEOS INFORMATION\n",
      "    HDFEOSVersion: b'HDFEOS_5.1.15'\n",
      "HDFEOS INFORMATION/StructMetadata.0\n"
     ]
    }
   ],
   "source": [
    "geo_objects = read_h5_file(geo_files[0])"
   ]
  },
  {
   "cell_type": "code",
   "execution_count": 11,
   "id": "cf7960ac-d8d1-48b7-9924-c62c572d4884",
   "metadata": {},
   "outputs": [
    {
     "data": {
      "text/plain": [
       "['HDFEOS',\n",
       " 'HDFEOS/ADDITIONAL',\n",
       " 'HDFEOS/ADDITIONAL/FILE_ATTRIBUTES',\n",
       " 'HDFEOS/SWATHS',\n",
       " 'HDFEOS/SWATHS/VNP_750M_GEOLOCATION',\n",
       " 'HDFEOS/SWATHS/VNP_750M_GEOLOCATION/Data Fields',\n",
       " 'HDFEOS/SWATHS/VNP_750M_GEOLOCATION/Data Fields/Height',\n",
       " 'HDFEOS/SWATHS/VNP_750M_GEOLOCATION/Geolocation Fields',\n",
       " 'HDFEOS/SWATHS/VNP_750M_GEOLOCATION/Geolocation Fields/Latitude',\n",
       " 'HDFEOS/SWATHS/VNP_750M_GEOLOCATION/Geolocation Fields/Longitude',\n",
       " 'HDFEOS INFORMATION',\n",
       " 'HDFEOS INFORMATION/StructMetadata.0']"
      ]
     },
     "execution_count": 11,
     "metadata": {},
     "output_type": "execute_result"
    }
   ],
   "source": [
    "(geo_objects)"
   ]
  },
  {
   "cell_type": "code",
   "execution_count": 13,
   "id": "b2d14b79-ac30-46ad-b65a-5605021535b8",
   "metadata": {},
   "outputs": [
    {
     "name": "stdout",
     "output_type": "stream",
     "text": [
      "313\n",
      "VNP14IMG: 158\n",
      "VJI14IMG: 155\n"
     ]
    }
   ],
   "source": [
    "# Get a list of .nc files\n",
    "nc_files = list_files(os.path.join(maindir, 'Aim2/data/spatial/raw/VIIRS'), \"*.nc\", recursive=True)\n",
    "# Seperate into VNP14 and VJ114, VNP03\n",
    "print(len(nc_files))\n",
    "\n",
    "vnp = [f for f in nc_files if 'VNP14' in os.path.basename(f)] # VNP14IMG\n",
    "vji = [f for f in nc_files if 'VJ114' in os.path.basename(f)] # VJI14IMG\n",
    "\n",
    "print(f'VNP14IMG: {len(vnp)}')\n",
    "print(f'VJI14IMG: {len(vji)}')"
   ]
  },
  {
   "cell_type": "code",
   "execution_count": 14,
   "id": "6c9861c0-eeb1-4a03-92ab-98a0ce903ce6",
   "metadata": {},
   "outputs": [
    {
     "name": "stdout",
     "output_type": "stream",
     "text": [
      "<class 'netCDF4._netCDF4.Dataset'>\n",
      "root group (NETCDF4 data model, file format HDF5):\n",
      "    VNP02IMG: VNP02CCIMG.A2019225.1936.002.2022333062425.nc\n",
      "    VNP03IMG: VNP03IMG.A2019225.1936.002.2021110215728.nc\n",
      "    VNP02MOD: VNP02CCMOD.A2019225.1936.002.2022333062425.nc\n",
      "    VNP02GDC: VNP02GDC.A2019225.1936.002.2021111141115.nc\n",
      "    ProcessVersionNumber: 3.1.9\n",
      "    ExecutableCreationDate: Oct 31 2023\n",
      "    ExecutableCreationTime: 17:46:00\n",
      "    SystemID: Linux minion20367 5.4.0-1093-fips #103-Ubuntu SMP Thu Feb 8 14:02:37 UTC 2024 x86_64\n",
      "    Unagg_GRingLatitude: 51.740856,59.026741,38.287682,33.210144\n",
      "    Unagg_GRingLongitude: -129.983383,-81.693024,-81.958115,-115.527855\n",
      "    NorthBoundingCoordinate: 59.20688\n",
      "    SouthBoundingCoordinate: 33.210144\n",
      "    EastBoundingCoordinate: -81.69302\n",
      "    WestBoundingCoordinate: -129.98338\n",
      "    Day/Night/Both: Day\n",
      "    FirePix: 63\n",
      "    DayPix: 41369600\n",
      "    LandPix: 39874606\n",
      "    Satellite: NPP\n",
      "    NightPix: 0\n",
      "    DayNightFlag: Day\n",
      "    WaterPix: 1494994\n",
      "    MissingPix: 92\n",
      "    GlintPix: 1429982\n",
      "    CloudPix: 12731557\n",
      "    LongName: VIIRS/NPP Active Fires 6-Min L2 Swath 375m\n",
      "    PlatformShortName: SUOMI-NPP\n",
      "    StartTime: 2019-08-13 19:36:00.000\n",
      "    RangeBeginningTime: 19:36:00.00000\n",
      "    AlgorithmVersion: NPP_PR14IMG 3.1.6\n",
      "    RangeEndingDate: 2019-08-13\n",
      "    publisher_url: https://ladsweb.modaps.eosdis.nasa.gov\n",
      "    creator_name: VIIRS Land SIPS Processing Group\n",
      "    SatelliteInstrument: NPP_OPS\n",
      "    VersionID: 002\n",
      "    PGE_StartTime: 2019-08-13 19:36:00.000\n",
      "    ShortName: VNP14IMG\n",
      "    Conventions: CF-1.6\n",
      "    PGE_EndTime: 2019-08-13 19:42:00.000\n",
      "    creator_email: modis-ops@lists.nasa.gov\n",
      "    processing_level: Level 2\n",
      "    ProductionTime: 2024-04-04 01:41:43.000\n",
      "    LocalGranuleID: VNP14IMG.A2019225.1936.002.2024095014143.nc\n",
      "    GRingPointSequenceNo: [1 2 3 4]\n",
      "    project: VIIRS Land SIPS Active Fire\n",
      "    EndTime: 2019-08-13 19:42:00.000\n",
      "    creator_url: https://ladsweb.modaps.eosdis.nasa.gov\n",
      "    title: VIIRS 375m Active Fire Data\n",
      "    ProcessingEnvironment: Linux minion20367 5.4.0-1093-fips #103-Ubuntu SMP Thu Feb 8 14:02:37 UTC 2024 x86_64 x86_64 x86_64 GNU/Linux\n",
      "    cdm_data_type: swath\n",
      "    stdname_vocabulary: NetCDF Climate and Forecast (CF) Metadata Convention\n",
      "    GRingPointLongitude: [-129.983   -81.693   -81.9581 -115.528 ]\n",
      "    PGENumber: 510\n",
      "    publisher_email: modis-ops@lists.nasa.gov\n",
      "    AlgorithmType: OPS\n",
      "    PGEVersion: 2.0.13\n",
      "    institution: NASA Goddard Space Flight Center\n",
      "    RangeBeginningDate: 2019-08-13\n",
      "    identifier_product_doi_authority: https://doi.org\n",
      "    RangeEndingTime: 19:42:00.00000\n",
      "    ProcessingCenter: MODAPS-NASA\n",
      "    GRingPointLatitude: [51.7409 59.0267 38.2877 33.2101]\n",
      "    license: http://science.nasa.gov/earth-science/earth-science-data/data-information-policy/\n",
      "    SensorShortname: VIIRS\n",
      "    PGE_Name: PGE510\n",
      "    publisher_name: LAADS\n",
      "    identifier_product_doi: 10.5067/VIIRS/VNP14IMG.002\n",
      "    InputPointer: /MODAPSops4/archive/f20367/running/VNP_L1bglu/60572898/VNP02CCIMG.A2019225.1936.002.2022333062425.nc, /MODAPSops4/archive/f20367/running/VNP_L1bglu/60572898/VNP03IMG.A2019225.1936.002.2021110215728.nc, /MODAPSops4/archive/f20367/running/VNP_L1bglu/60572898/VNP02CCMOD.A2019225.1936.002.2022333062425.nc, /MODAPSops4/archive/f20367/running/VNP_L1bglu/60572898/VNP02GDC.A2019225.1936.002.2021111141115.nc\n",
      "    naming_authority: gov.nasa.gsfc.VIIRSland\n",
      "    keywords_vocabulary: NASA Global Change Master Directory (GCMD) Science Keywords\n",
      "    dimensions(sizes): phony_dim_0(63), phony_dim_1(6464), phony_dim_2(6400)\n",
      "    variables(dimensions): uint16 FP_AdjCloud(phony_dim_0), uint16 FP_AdjWater(phony_dim_0), float32 FP_MAD_DT(phony_dim_0), float32 FP_MAD_T4(phony_dim_0), float32 FP_MAD_T5(phony_dim_0), float32 FP_MeanDT(phony_dim_0), float32 FP_MeanRad13(phony_dim_0), float32 FP_MeanT4(phony_dim_0), float32 FP_MeanT5(phony_dim_0), float32 FP_Rad13(phony_dim_0), float32 FP_SolAzAng(phony_dim_0), float32 FP_SolZenAng(phony_dim_0), float32 FP_T4(phony_dim_0), float32 FP_T5(phony_dim_0), float32 FP_ViewAzAng(phony_dim_0), float32 FP_ViewZenAng(phony_dim_0), uint16 FP_WinSize(phony_dim_0), uint8 FP_confidence(phony_dim_0), uint8 FP_day(phony_dim_0), float32 FP_latitude(phony_dim_0), uint16 FP_line(phony_dim_0), float32 FP_longitude(phony_dim_0), float32 FP_power(phony_dim_0), uint16 FP_sample(phony_dim_0), uint32 algorithm QA(phony_dim_1, phony_dim_2), uint8 fire mask(phony_dim_1, phony_dim_2)\n",
      "    groups: \n"
     ]
    }
   ],
   "source": [
    "# Library to work with netCDF files\n",
    "from netCDF4 import Dataset\n",
    "\n",
    "# Open a .nc file (\"file_name\")\n",
    "ds = Dataset(vnp[0], 'r', format = 'NETCDF4')\n",
    "\n",
    "print(ds)"
   ]
  },
  {
   "cell_type": "code",
   "execution_count": 15,
   "id": "99c25269-334f-4187-9623-7927200cd2fe",
   "metadata": {},
   "outputs": [
    {
     "data": {
      "text/plain": [
       "['FP_AdjCloud',\n",
       " 'FP_AdjWater',\n",
       " 'FP_MAD_DT',\n",
       " 'FP_MAD_T4',\n",
       " 'FP_MAD_T5',\n",
       " 'FP_MeanDT',\n",
       " 'FP_MeanRad13',\n",
       " 'FP_MeanT4',\n",
       " 'FP_MeanT5',\n",
       " 'FP_Rad13',\n",
       " 'FP_SolAzAng',\n",
       " 'FP_SolZenAng',\n",
       " 'FP_T4',\n",
       " 'FP_T5',\n",
       " 'FP_ViewAzAng',\n",
       " 'FP_ViewZenAng',\n",
       " 'FP_WinSize',\n",
       " 'FP_confidence',\n",
       " 'FP_day',\n",
       " 'FP_latitude',\n",
       " 'FP_line',\n",
       " 'FP_longitude',\n",
       " 'FP_power',\n",
       " 'FP_sample',\n",
       " 'algorithm QA',\n",
       " 'fire mask']"
      ]
     },
     "execution_count": 15,
     "metadata": {},
     "output_type": "execute_result"
    }
   ],
   "source": [
    "# Print a list of variables in file\n",
    "list(ds.variables)"
   ]
  },
  {
   "cell_type": "code",
   "execution_count": 21,
   "id": "42f9a86f-a32f-4424-83c3-aef939853449",
   "metadata": {},
   "outputs": [
    {
     "data": {
      "text/plain": [
       "masked_array(\n",
       "  data=[[1, 1, 1, ..., 1, 1, 1],\n",
       "        [1, 1, 1, ..., 1, 1, 1],\n",
       "        [1, 1, 1, ..., 1, 1, 1],\n",
       "        ...,\n",
       "        [1, 1, 1, ..., 1, 1, 1],\n",
       "        [1, 1, 1, ..., 1, 1, 1],\n",
       "        [1, 1, 1, ..., 1, 1, 1]],\n",
       "  mask=False,\n",
       "  fill_value=999999,\n",
       "  dtype=uint8)"
      ]
     },
     "execution_count": 21,
     "metadata": {},
     "output_type": "execute_result"
    }
   ],
   "source": [
    "ds.variables['fire mask'][:]"
   ]
  },
  {
   "cell_type": "code",
   "execution_count": 18,
   "id": "a415ce2b-a8b0-4663-996c-2ebfeef3bd7b",
   "metadata": {},
   "outputs": [
    {
     "data": {
      "text/plain": [
       "(6464, 6400)"
      ]
     },
     "execution_count": 18,
     "metadata": {},
     "output_type": "execute_result"
    }
   ],
   "source": [
    "# Grab variable and variable metadata\n",
    "fire_mask = ds.variables['fire mask'][:]\n",
    "fire_mask.shape"
   ]
  },
  {
   "cell_type": "code",
   "execution_count": 19,
   "id": "73197af3-ab92-40d9-b8e3-b9a38d4ab194",
   "metadata": {},
   "outputs": [
    {
     "data": {
      "text/plain": [
       "numpy.ma.core.MaskedArray"
      ]
     },
     "execution_count": 19,
     "metadata": {},
     "output_type": "execute_result"
    }
   ],
   "source": [
    "type(fire_mask)"
   ]
  },
  {
   "cell_type": "code",
   "execution_count": 20,
   "id": "5c458299-7c60-49cf-b7fd-c0093dc6acef",
   "metadata": {},
   "outputs": [
    {
     "data": {
      "text/plain": [
       "masked_array(\n",
       "  data=[[1, 1, 1, ..., 1, 1, 1],\n",
       "        [1, 1, 1, ..., 1, 1, 1],\n",
       "        [1, 1, 1, ..., 1, 1, 1],\n",
       "        ...,\n",
       "        [1, 1, 1, ..., 1, 1, 1],\n",
       "        [1, 1, 1, ..., 1, 1, 1],\n",
       "        [1, 1, 1, ..., 1, 1, 1]],\n",
       "  mask=False,\n",
       "  fill_value=999999,\n",
       "  dtype=uint8)"
      ]
     },
     "execution_count": 20,
     "metadata": {},
     "output_type": "execute_result"
    }
   ],
   "source": [
    "fire_mask"
   ]
  }
 ],
 "metadata": {
  "kernelspec": {
   "display_name": "aspen-fire",
   "language": "python",
   "name": "aspen-fire"
  },
  "language_info": {
   "codemirror_mode": {
    "name": "ipython",
    "version": 3
   },
   "file_extension": ".py",
   "mimetype": "text/x-python",
   "name": "python",
   "nbconvert_exporter": "python",
   "pygments_lexer": "ipython3",
   "version": "3.10.12"
  }
 },
 "nbformat": 4,
 "nbformat_minor": 5
}
