{
 "cells": [
  {
   "cell_type": "code",
   "execution_count": 1,
   "id": "c681f7fc-3b4e-48fb-a7e3-ea1cb9f91b69",
   "metadata": {},
   "outputs": [
    {
     "name": "stdout",
     "output_type": "stream",
     "text": [
      "Success\n"
     ]
    }
   ],
   "source": [
    "\"\"\"\n",
    "Extract attributes from Google Earth Engine (GEE)\n",
    "\n",
    "maxwell.cook@colorado.edu\n",
    "\"\"\"\n",
    "\n",
    "import ee\n",
    "import geemap\n",
    "\n",
    "ee.Authenticate()\n",
    "\n",
    "ee.Initialize(project='jfsp-aspen')\n",
    "\n",
    "print(\"Success\")"
   ]
  },
  {
   "cell_type": "markdown",
   "id": "ccab0b07-9762-4bd9-a174-819c3c38237e",
   "metadata": {},
   "source": [
    "# Calculate Sentinel-based MNDWI, LAI for fire boundaries\n",
    "\n",
    "Bring in the FIRED perimeters with at least 5% aspen cover and sufficient FRP observations. Load the Sentinel-2 MSI collection and calculate prefire LAI and MNDWI."
   ]
  },
  {
   "cell_type": "code",
   "execution_count": 30,
   "id": "979596da-daa3-41f9-b001-61ee855fe439",
   "metadata": {},
   "outputs": [
    {
     "data": {
      "text/html": [
       "\n",
       "            <style>\n",
       "                .geemap-dark {\n",
       "                    --jp-widgets-color: white;\n",
       "                    --jp-widgets-label-color: white;\n",
       "                    --jp-ui-font-color1: white;\n",
       "                    --jp-layout-color2: #454545;\n",
       "                    background-color: #383838;\n",
       "                }\n",
       "\n",
       "                .geemap-dark .jupyter-button {\n",
       "                    --jp-layout-color3: #383838;\n",
       "                }\n",
       "\n",
       "                .geemap-colab {\n",
       "                    background-color: var(--colab-primary-surface-color, white);\n",
       "                }\n",
       "\n",
       "                .geemap-colab .jupyter-button {\n",
       "                    --jp-layout-color3: var(--colab-primary-surface-color, white);\n",
       "                }\n",
       "            </style>\n",
       "            "
      ],
      "text/plain": [
       "<IPython.core.display.HTML object>"
      ]
     },
     "metadata": {},
     "output_type": "display_data"
    },
    {
     "name": "stdout",
     "output_type": "stream",
     "text": [
      "ee.FeatureCollection({\n",
      "  \"functionInvocationValue\": {\n",
      "    \"functionName\": \"Collection.loadTable\",\n",
      "    \"arguments\": {\n",
      "      \"tableId\": {\n",
      "        \"constantValue\": \"projects/jfsp-aspen/assets/fired_events_west_aspen\"\n",
      "      }\n",
      "    }\n",
      "  }\n",
      "})\n",
      "2017\n"
     ]
    }
   ],
   "source": [
    "fires = ee.FeatureCollection('projects/jfsp-aspen/assets/fired_events_west_aspen')\n",
    "print(fires)\n",
    "\n",
    "fires = fires.limit(10)\n",
    "\n",
    "print(ee.Number(fires.first().get('ig_year').getInfo()).subtract(1).getInfo())"
   ]
  },
  {
   "cell_type": "code",
   "execution_count": 52,
   "id": "ded96248-0865-46d5-a158-81b223a8a694",
   "metadata": {},
   "outputs": [
    {
     "data": {
      "text/html": [
       "\n",
       "            <style>\n",
       "                .geemap-dark {\n",
       "                    --jp-widgets-color: white;\n",
       "                    --jp-widgets-label-color: white;\n",
       "                    --jp-ui-font-color1: white;\n",
       "                    --jp-layout-color2: #454545;\n",
       "                    background-color: #383838;\n",
       "                }\n",
       "\n",
       "                .geemap-dark .jupyter-button {\n",
       "                    --jp-layout-color3: #383838;\n",
       "                }\n",
       "\n",
       "                .geemap-colab {\n",
       "                    background-color: var(--colab-primary-surface-color, white);\n",
       "                }\n",
       "\n",
       "                .geemap-colab .jupyter-button {\n",
       "                    --jp-layout-color3: var(--colab-primary-surface-color, white);\n",
       "                }\n",
       "            </style>\n",
       "            "
      ],
      "text/plain": [
       "<IPython.core.display.HTML object>"
      ]
     },
     "metadata": {},
     "output_type": "display_data"
    },
    {
     "name": "stdout",
     "output_type": "stream",
     "text": [
      "ee.FeatureCollection({\n",
      "  \"functionInvocationValue\": {\n",
      "    \"functionName\": \"Collection.loadTable\",\n",
      "    \"arguments\": {\n",
      "      \"tableId\": {\n",
      "        \"constantValue\": \"projects/jfsp-aspen/assets/viirs_plots_fired_events_west_aspen\"\n",
      "      }\n",
      "    }\n",
      "  }\n",
      "})\n"
     ]
    }
   ],
   "source": [
    "# Load the FRP observations\n",
    "frp = ee.FeatureCollection('projects/jfsp-aspen/assets/viirs_plots_fired_events_west_aspen')\n",
    "print(frp)"
   ]
  },
  {
   "cell_type": "code",
   "execution_count": 53,
   "id": "b3be0471-9fac-45b1-850b-25649b82336d",
   "metadata": {},
   "outputs": [
    {
     "data": {
      "text/html": [
       "\n",
       "            <style>\n",
       "                .geemap-dark {\n",
       "                    --jp-widgets-color: white;\n",
       "                    --jp-widgets-label-color: white;\n",
       "                    --jp-ui-font-color1: white;\n",
       "                    --jp-layout-color2: #454545;\n",
       "                    background-color: #383838;\n",
       "                }\n",
       "\n",
       "                .geemap-dark .jupyter-button {\n",
       "                    --jp-layout-color3: #383838;\n",
       "                }\n",
       "\n",
       "                .geemap-colab {\n",
       "                    background-color: var(--colab-primary-surface-color, white);\n",
       "                }\n",
       "\n",
       "                .geemap-colab .jupyter-button {\n",
       "                    --jp-layout-color3: var(--colab-primary-surface-color, white);\n",
       "                }\n",
       "            </style>\n",
       "            "
      ],
      "text/plain": [
       "<IPython.core.display.HTML object>"
      ]
     },
     "metadata": {},
     "output_type": "display_data"
    }
   ],
   "source": [
    "# Function to calculate the indices\n",
    "def calc_indices(image):\n",
    "\n",
    "    # Modified Normalized Difference Water Index (MNDWI)\n",
    "    # https://www.mdpi.com/2072-4292/8/4/354\n",
    "    mndwi = image.normalizedDifference(['B3', 'B11']).rename('MNDWI')\n",
    "\n",
    "    # Enhanced Vegetation Index (EVI)\n",
    "    evi = image.expression(\n",
    "        \"2.5 * ((NIR - RED) / (NIR + 6 * RED - 7.5 * BLUE + 1))\", {\n",
    "            'NIR': image.select('B8'),\n",
    "            'RED': image.select('B4'),\n",
    "            'BLUE': image.select('B3')\n",
    "        }).rename('EVI')\n",
    "\n",
    "    image = image.addBands([mndwi, evi])\n",
    "\n",
    "    # Leaf Area Index (LAI)\n",
    "    lai = image.expression(\n",
    "        '(3.618 * EVI - 0.118)', {\n",
    "            'EVI': image.select('EVI')\n",
    "        }).rename('LAI')\n",
    "\n",
    "    return image.addBands(lai)\n",
    "\n",
    "# Function to concatenate strings (rename bands)\n",
    "def string_cat(item, y):\n",
    "    return ee.String(item).cat(y)\n",
    "\n",
    "def apply_string_cat(x, y):\n",
    "    return x.map(lambda item: string_cat(item, y))\n",
    "\n",
    "# Function to join collections\n",
    "def join_collections(col1, col2):\n",
    "    joined = ee.ImageCollection(ee.Join.saveFirst('cs').apply(\n",
    "        primary=col1,\n",
    "        secondary=col2,\n",
    "        condition=ee.Filter.equals(\n",
    "            leftField='system:index',\n",
    "            rightField='system:index'\n",
    "        )\n",
    "    ))\n",
    "    return joined.map(lambda image: image.addBands(image.get('cs')))\n"
   ]
  },
  {
   "cell_type": "code",
   "execution_count": 41,
   "id": "bfe25def-b116-47e4-bb64-1501800cd2b1",
   "metadata": {},
   "outputs": [
    {
     "data": {
      "text/html": [
       "\n",
       "            <style>\n",
       "                .geemap-dark {\n",
       "                    --jp-widgets-color: white;\n",
       "                    --jp-widgets-label-color: white;\n",
       "                    --jp-ui-font-color1: white;\n",
       "                    --jp-layout-color2: #454545;\n",
       "                    background-color: #383838;\n",
       "                }\n",
       "\n",
       "                .geemap-dark .jupyter-button {\n",
       "                    --jp-layout-color3: #383838;\n",
       "                }\n",
       "\n",
       "                .geemap-colab {\n",
       "                    background-color: var(--colab-primary-surface-color, white);\n",
       "                }\n",
       "\n",
       "                .geemap-colab .jupyter-button {\n",
       "                    --jp-layout-color3: var(--colab-primary-surface-color, white);\n",
       "                }\n",
       "            </style>\n",
       "            "
      ],
      "text/plain": [
       "<IPython.core.display.HTML object>"
      ]
     },
     "metadata": {},
     "output_type": "display_data"
    },
    {
     "name": "stdout",
     "output_type": "stream",
     "text": [
      "ee.List({\n",
      "  \"functionInvocationValue\": {\n",
      "    \"functionName\": \"AggregateFeatureCollection.array\",\n",
      "    \"arguments\": {\n",
      "      \"collection\": {\n",
      "        \"functionInvocationValue\": {\n",
      "          \"functionName\": \"Collection.limit\",\n",
      "          \"arguments\": {\n",
      "            \"collection\": {\n",
      "              \"functionInvocationValue\": {\n",
      "                \"functionName\": \"Collection.loadTable\",\n",
      "                \"arguments\": {\n",
      "                  \"tableId\": {\n",
      "                    \"constantValue\": \"projects/jfsp-aspen/assets/fired_events_west_aspen\"\n",
      "                  }\n",
      "                }\n",
      "              }\n",
      "            },\n",
      "            \"limit\": {\n",
      "              \"constantValue\": 10\n",
      "            }\n",
      "          }\n",
      "        }\n",
      "      },\n",
      "      \"property\": {\n",
      "        \"constantValue\": \"fired_id\"\n",
      "      }\n",
      "    }\n",
      "  }\n",
      "})\n",
      "Done!\n"
     ]
    }
   ],
   "source": [
    "# Load the S2-MSI Level 1C\n",
    "s2l1c = ee.ImageCollection(\"COPERNICUS/S2_HARMONIZED\")\n",
    "# Load the Cloud Score Plus\n",
    "csPlus = ee.ImageCollection(\"GOOGLE/CLOUD_SCORE_PLUS/V1/S2_HARMONIZED\")\n",
    "\n",
    "# Sentinel-2 MSI Bands and Vegetation Indices\n",
    "s2_bands = ['B2', 'B3', 'B4', 'B5', 'B6', 'B7', 'B8', 'B8A', 'B11', 'B12']\n",
    "\n",
    "# Define some constants\n",
    "QA_BAND = 'cs'\n",
    "CLEAR_THRESHOLD = 0.60\n",
    "\n",
    "# Function to create an image composite in the fire bounds\n",
    "def generate_composites(fire_id):\n",
    "    \n",
    "    # Get the fire perimeter and bounding geometry\n",
    "    fire = fires.filter(ee.Filter.eq('fired_id', fire_id)).first()\n",
    "    bounds = fire.geometry().buffer(1000).bounds()\n",
    "    \n",
    "    # Grab the ignition date information\n",
    "    ig_year = ee.Number(fire.get('ig_year')).subtract(1)\n",
    "    \n",
    "    # Filter the S2-MSI collection\n",
    "    s2_filter = ee.Filter.And(\n",
    "      ee.Filter.bounds(bounds),\n",
    "      ee.Filter.calendarRange(ig_year, ig_year, 'year'),\n",
    "      ee.Filter.calendarRange(6, 8, 'month'),\n",
    "      ee.Filter.lt('CLOUDY_PIXEL_PERCENTAGE', 80)\n",
    "    )\n",
    "    \n",
    "    # Image Collection\n",
    "    s2 = s2l1c.filter(s2_filter).select(s2_bands)\n",
    "    \n",
    "    # Grab some statistics from the collection\n",
    "    n = s2.size();\n",
    "    start_date = ee.Date(s2.first().get('system:time_start'));\n",
    "    end_date = ee.Date(\n",
    "      s2.limit(1,'system:time_start',False)\n",
    "        .first().get('system:time_start'));\n",
    "    \n",
    "    # Join the Cloud Score Plus\n",
    "    csPlus_s = csPlus.filter(\n",
    "    ee.Filter.And(\n",
    "      ee.Filter.bounds(bounds),\n",
    "      ee.Filter.calendarRange(ig_year, ig_year, 'year'),\n",
    "      ee.Filter.calendarRange(5, 9, 'month'),\n",
    "    )\n",
    "    ).select([QA_BAND])\n",
    "    \n",
    "    # Mask out occluded pixels\n",
    "    s2 = join_collections(s2,csPlus_s)\n",
    "    s2 = s2.map(\n",
    "      lambda img: img.updateMask(img.select(QA_BAND).gte(CLEAR_THRESHOLD))\n",
    "    ).select(s2_bands)\n",
    "    \n",
    "    # Calculate the spectral indices\n",
    "    s2 = s2.map(calc_indices).median().clip(bounds)\n",
    "    \n",
    "    return s2\n",
    "\n",
    "# Apply the function to generate composites\n",
    "\n",
    "# Get the fire IDs\n",
    "fire_ids = fires.aggregate_array('fired_id')\n",
    "print(fire_ids)\n",
    "\n",
    "# Create the image collection\n",
    "img_cols = fire_ids.map(lambda x: generate_composites(x))\n",
    "\n",
    "# Create the image collection\n",
    "result = ee.ImageCollection.fromImages(img_cols)\n",
    "\n",
    "print(\"Done!\")"
   ]
  },
  {
   "cell_type": "code",
   "execution_count": 51,
   "id": "d2baf978-a77d-46f7-a059-b146206811f3",
   "metadata": {},
   "outputs": [
    {
     "data": {
      "text/html": [
       "\n",
       "            <style>\n",
       "                .geemap-dark {\n",
       "                    --jp-widgets-color: white;\n",
       "                    --jp-widgets-label-color: white;\n",
       "                    --jp-ui-font-color1: white;\n",
       "                    --jp-layout-color2: #454545;\n",
       "                    background-color: #383838;\n",
       "                }\n",
       "\n",
       "                .geemap-dark .jupyter-button {\n",
       "                    --jp-layout-color3: #383838;\n",
       "                }\n",
       "\n",
       "                .geemap-colab {\n",
       "                    background-color: var(--colab-primary-surface-color, white);\n",
       "                }\n",
       "\n",
       "                .geemap-colab .jupyter-button {\n",
       "                    --jp-layout-color3: var(--colab-primary-surface-color, white);\n",
       "                }\n",
       "            </style>\n",
       "            "
      ],
      "text/plain": [
       "<IPython.core.display.HTML object>"
      ]
     },
     "metadata": {},
     "output_type": "display_data"
    },
    {
     "data": {
      "application/vnd.jupyter.widget-view+json": {
       "model_id": "d9181426b81d40179e9be377443b4688",
       "version_major": 2,
       "version_minor": 0
      },
      "text/plain": [
       "Map(center=[0, 0], controls=(WidgetControl(options=['position', 'transparent_bg'], widget=SearchDataGUI(childr…"
      ]
     },
     "execution_count": 51,
     "metadata": {},
     "output_type": "execute_result"
    }
   ],
   "source": [
    "# Initialize a map\n",
    "Map = geemap.Map()\n",
    "Map.addLayerControl()\n",
    "\n",
    "f = result.first()\n",
    "Map.centerObject(f)\n",
    "\n",
    "# Visualize for one fire\n",
    "vis_params_lai = {\n",
    "    'bands': ['LAI'],\n",
    "    'min': 0,\n",
    "    'max': 100,\n",
    "}\n",
    "vis_params_mndwi = {\n",
    "    'bands': ['MNDWI'],\n",
    "    'min': -1,\n",
    "    'max': 1,\n",
    "}\n",
    "vis_params_rgb = {\n",
    "    'bands': ['B4', 'B3', 'B2'],\n",
    "    'min': 0,\n",
    "    'max': 3000,\n",
    "}\n",
    "\n",
    "Map.addLayer(f, vis_params_lai, \"LAI\")\n",
    "Map.addLayer(f, vis_params_mndwi, \"MNDWI\")\n",
    "Map.addLayer(f, vis_params_rgb, \"RGB\")\n",
    "\n",
    "Map"
   ]
  },
  {
   "cell_type": "code",
   "execution_count": null,
   "id": "889d4584-374c-442f-812e-19637e56fbf2",
   "metadata": {},
   "outputs": [],
   "source": []
  }
 ],
 "metadata": {
  "kernelspec": {
   "display_name": "aspen-fire",
   "language": "python",
   "name": "aspen-fire"
  },
  "language_info": {
   "codemirror_mode": {
    "name": "ipython",
    "version": 3
   },
   "file_extension": ".py",
   "mimetype": "text/x-python",
   "name": "python",
   "nbconvert_exporter": "python",
   "pygments_lexer": "ipython3",
   "version": "3.10.12"
  }
 },
 "nbformat": 4,
 "nbformat_minor": 5
}
