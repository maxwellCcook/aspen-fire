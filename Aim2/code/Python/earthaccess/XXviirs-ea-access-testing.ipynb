{
 "cells": [
  {
   "cell_type": "code",
   "execution_count": 1,
   "id": "860cfb56-6520-41c9-8e7e-ea17b878000c",
   "metadata": {},
   "outputs": [
    {
     "name": "stdout",
     "output_type": "stream",
     "text": [
      "Ready !\n"
     ]
    }
   ],
   "source": [
    "\"\"\"\n",
    "Testing remote access to VIIRS active fire data\n",
    "\"\"\"\n",
    "\n",
    "import os, sys, time\n",
    "import earthaccess as ea\n",
    "import geopandas as gpd\n",
    "import xarray as xr\n",
    "import datetime as dt\n",
    "\n",
    "from tqdm.notebook import tqdm\n",
    "from urllib.parse import urlparse\n",
    "\n",
    "# Custom functions\n",
    "sys.path.append(os.path.join(os.getcwd(),'code/'))\n",
    "from __functions import *\n",
    "        \n",
    "# Directories\n",
    "maindir = '/Users/max/Library/CloudStorage/OneDrive-Personal/mcook/'\n",
    "projdir = os.path.join(maindir, 'aspen-fire/Aim2/')\n",
    "\n",
    "# Output directories\n",
    "dataraw = os.path.join(projdir,'data/spatial/raw/VIIRS/')\n",
    "datamod = os.path.join(projdir,'data/spatial/mod/VIIRS/')\n",
    "\n",
    "print(\"Ready !\")"
   ]
  },
  {
   "cell_type": "code",
   "execution_count": 2,
   "id": "3eab1cdf-802d-4de3-ae46-b68e99cfca12",
   "metadata": {},
   "outputs": [
    {
     "name": "stdout",
     "output_type": "stream",
     "text": [
      "Available attributes: \n",
      "Index(['Fire_ID', 'Fire_Name', 'NIFC_ACRES', 'FINAL_ACRES', 'pct_aspen',\n",
      "       'INCIDENT_ID', 'INCIDENT_NAME', 'START_YEAR', 'CAUSE', 'DISCOVERY_DATE',\n",
      "       'DISCOVERY_DOY', 'WF_CESSATION_DATE', 'WF_CESSATION_DOY',\n",
      "       'STR_DESTROYED_TOTAL', 'STR_DAMAGED_TOTAL', 'STR_THREATENED_MAX',\n",
      "       'EVACUATION_REPORTED', 'PEAK_EVACUATIONS', 'WF_PEAK_AERIAL',\n",
      "       'WF_PEAK_PERSONNEL', 'na_l3name', 'first_obs_date', 'last_obs_date',\n",
      "       'obs_count', 'geometry'],\n",
      "      dtype='object')\n",
      "\n",
      "There are [50] fires.\n"
     ]
    }
   ],
   "source": [
    "# Load the fire dataset for the Southern Rockies\n",
    "fires = gpd.read_file(os.path.join(projdir,'data/spatial/mod/NIFC/nifc-ics_2018_to_2023-aspen-obs.gpkg'))\n",
    "fires = fires[fires['na_l3name'] == 'Southern Rockies']\n",
    "\n",
    "# tidy the fire id and name columns\n",
    "fires.rename(columns={'NIFC_ID': 'Fire_ID', 'NIFC_NAME': 'Fire_Name'}, inplace=True)\n",
    "fires['obs_count'] = fires['obs_count'].fillna(0).astype(int) # fill NaN as 0 obs.\n",
    "fires = fires[fires['obs_count'] >= 10]\n",
    "\n",
    "# tidy the date columns\n",
    "fires['DISCOVERY_DATE'] = pd.to_datetime(fires['DISCOVERY_DATE']).dt.date\n",
    "fires['WF_CESSATION_DATE'] = pd.to_datetime(fires['WF_CESSATION_DATE']).dt.date\n",
    "\n",
    "print(f\"Available attributes: \\n{fires.columns}\")\n",
    "print(f\"\\nThere are [{len(fires)}] fires.\")"
   ]
  },
  {
   "cell_type": "code",
   "execution_count": 4,
   "id": "dff9c103-7857-4ac0-b432-84489e80cd7e",
   "metadata": {},
   "outputs": [
    {
     "name": "stdout",
     "output_type": "stream",
     "text": [
      "Bounding coordinates: [(-108.0104287321153, 37.37737010107216), (-107.79428582032635, 37.37737010107216), (-107.79428582032635, 37.60899484292132), (-108.0104287321153, 37.60899484292132), (-108.0104287321153, 37.37737010107216)]\n",
      "Date range for EA search request: (Timestamp('2018-06-01 00:00:00'), Timestamp('2018-07-06 00:00:00'))\n"
     ]
    }
   ],
   "source": [
    "# Grab a test fire (Cameron Peak)\n",
    "\n",
    "fire = fires[fires['Fire_Name'] == '416']\n",
    "\n",
    "buffer=1000\n",
    "coords, extent = get_coords(fire, buffer)\n",
    "print(f\"Bounding coordinates: {coords}\")\n",
    "\n",
    "start_date = fire['first_obs_date'].iloc[0]\n",
    "last_date = fire['last_obs_date'].iloc[0]\n",
    "date_range = (start_date, last_date)\n",
    "print(f\"Date range for EA search request: {date_range}\")"
   ]
  },
  {
   "cell_type": "code",
   "execution_count": 8,
   "id": "65931b59-d490-477e-8500-36b668db1b48",
   "metadata": {},
   "outputs": [],
   "source": [
    "date_range = ('2018-06-01', '2018-06-04')"
   ]
  },
  {
   "cell_type": "code",
   "execution_count": null,
   "id": "1ceaf0c3-74ba-42b1-ac0a-01f18086eb9c",
   "metadata": {},
   "outputs": [],
   "source": []
  },
  {
   "cell_type": "code",
   "execution_count": null,
   "id": "1a2ec4aa-7ec3-4916-a4de-a0c9d2ba5423",
   "metadata": {},
   "outputs": [],
   "source": [
    "# Search query with earthaccess"
   ]
  },
  {
   "cell_type": "code",
   "execution_count": 9,
   "id": "947d7679-31c3-452b-b559-54cc47640bab",
   "metadata": {},
   "outputs": [
    {
     "name": "stdout",
     "output_type": "stream",
     "text": [
      "Granules found: 17\n"
     ]
    }
   ],
   "source": [
    "query = ea.search_data(\n",
    "    short_name=['VJ114IMG', 'VNP14IMG'], \n",
    "    polygon=coords,\n",
    "    temporal=date_range, \n",
    "    cloud_hosted=True,\n",
    "    count=-1\n",
    ")"
   ]
  },
  {
   "cell_type": "code",
   "execution_count": 10,
   "id": "ff31e877-77ce-4c3c-818c-6b9d1ceb07a3",
   "metadata": {},
   "outputs": [
    {
     "name": "stdout",
     "output_type": "stream",
     "text": [
      "Opening 17 granules, approx size: 0.04 GB\n"
     ]
    },
    {
     "data": {
      "application/vnd.jupyter.widget-view+json": {
       "model_id": "a197c3b0214c4300958b4f06eaf725e5",
       "version_major": 2,
       "version_minor": 0
      },
      "text/plain": [
       "QUEUEING TASKS | :   0%|          | 0/17 [00:00<?, ?it/s]"
      ]
     },
     "metadata": {},
     "output_type": "display_data"
    },
    {
     "data": {
      "application/vnd.jupyter.widget-view+json": {
       "model_id": "2b7793c646f145e6b6655199a5b74aac",
       "version_major": 2,
       "version_minor": 0
      },
      "text/plain": [
       "PROCESSING TASKS | :   0%|          | 0/17 [00:00<?, ?it/s]"
      ]
     },
     "metadata": {},
     "output_type": "display_data"
    },
    {
     "data": {
      "application/vnd.jupyter.widget-view+json": {
       "model_id": "4c42e38ba4c64bad8c2ff3f83a984fbc",
       "version_major": 2,
       "version_minor": 0
      },
      "text/plain": [
       "COLLECTING RESULTS | :   0%|          | 0/17 [00:00<?, ?it/s]"
      ]
     },
     "metadata": {},
     "output_type": "display_data"
    }
   ],
   "source": [
    "# open the fileset remotely\n",
    "fileset = ea.open(query)"
   ]
  },
  {
   "cell_type": "code",
   "execution_count": 11,
   "id": "bea9073b-eca9-4ae1-bea6-1837efb666e3",
   "metadata": {},
   "outputs": [
    {
     "name": "stdout",
     "output_type": "stream",
     "text": [
      "<File-like object HTTPFileSystem, https://data.lpdaac.earthdatacloud.nasa.gov/lp-prod-protected/VNP14IMG.002/VNP14IMG.A2018152.0824.002.2024080110710/VNP14IMG.A2018152.0824.002.2024080110710.nc>\n"
     ]
    }
   ],
   "source": [
    "print(fileset[0])"
   ]
  },
  {
   "cell_type": "code",
   "execution_count": null,
   "id": "5a97d020-af08-4d2e-8767-f797933fc5ec",
   "metadata": {},
   "outputs": [],
   "source": [
    "# # isolate the fire swaths from the geolocation swaths\n",
    "# vj114_files = [f for f in fileset if 'VJ114IMG' in str(f)]\n",
    "# print(f\"Processing a total of {len(vj114_files)} fire swaths.\")"
   ]
  },
  {
   "cell_type": "code",
   "execution_count": 12,
   "id": "885f47fd-3719-49ae-8685-c162fbc7364c",
   "metadata": {},
   "outputs": [],
   "source": [
    "# load the lookup table for pixel sizes\n",
    "lut = pd.read_csv(os.path.join(projdir,'data/tabular/raw/pix_size_lut.csv'))"
   ]
  },
  {
   "cell_type": "code",
   "execution_count": 14,
   "id": "747c2214-3643-44e0-955b-e4c6227b7f15",
   "metadata": {},
   "outputs": [
    {
     "data": {
      "application/vnd.jupyter.widget-view+json": {
       "model_id": "7eef5731fa634eecae7a7fc5b787fa54",
       "version_major": 2,
       "version_minor": 0
      },
      "text/plain": [
       "Processing granules:   0%|          | 0/1 [00:00<?, ?it/s]"
      ]
     },
     "metadata": {},
     "output_type": "display_data"
    },
    {
     "name": "stdout",
     "output_type": "stream",
     "text": [
      "{'AlgorithmType': 'OPS', 'AlgorithmVersion': 'NPP_PR14IMG 3.1.6', 'CloudPix': 7508017, 'Conventions': 'CF-1.6', 'Day/Night/Both': 'Night', 'DayNightFlag': 'Night', 'DayPix': 0, 'EastBoundingCoordinate': -75.882835, 'EndTime': '2018-06-01 08:30:00.000', 'ExecutableCreationDate': 'Oct 31 2023', 'ExecutableCreationTime': '17:46:00', 'FirePix': 836, 'GRingPointLatitude': array([24.5584, 29.2576, 50.0588, 43.9237]), 'GRingPointLongitude': array([ -86.7116, -117.219 , -115.892 ,  -75.8828]), 'GRingPointSequenceNo': array([1, 2, 3, 4], dtype=int32), 'GlintPix': 0, 'InputPointer': '/MODAPSops4/archive/f20247/running/VNP_L1bglu/59465911/VNP02CCIMG.A2018152.0824.002.2022280024843.nc, /MODAPSops4/archive/f20247/running/VNP_L1bglu/59465911/VNP03IMG.A2018152.0824.002.2021082143054.nc, /MODAPSops4/archive/f20247/running/VNP_L1bglu/59465911/VNP02CCMOD.A2018152.0824.002.2022280024843.nc, /MODAPSops4/archive/f20247/running/VNP_L1bglu/59465911/VNP02GDC.A2018152.0824.002.2021082160332.nc', 'LandPix': 0, 'LocalGranuleID': 'VNP14IMG.A2018152.0824.002.2024080110710.nc', 'LongName': 'VIIRS/NPP Active Fires 6-Min L2 Swath 375m', 'MissingPix': 55501, 'NightPix': 41369600, 'NorthBoundingCoordinate': 50.10348, 'PGENumber': '510', 'PGEVersion': '2.0.13', 'PGE_EndTime': '2018-06-01 08:30:00.000', 'PGE_Name': 'PGE510', 'PGE_StartTime': '2018-06-01 08:24:00.000', 'PlatformShortName': 'SUOMI-NPP', 'ProcessVersionNumber': '3.1.9', 'ProcessingCenter': 'MODAPS-NASA', 'ProcessingEnvironment': 'Linux minion20247 5.4.0-1093-fips #103-Ubuntu SMP Thu Feb 8 14:02:37 UTC 2024 x86_64 x86_64 x86_64 GNU/Linux', 'ProductionTime': '2024-03-20 11:07:10.000', 'RangeBeginningDate': '2018-06-01', 'RangeBeginningTime': '08:24:00.00000', 'RangeEndingDate': '2018-06-01', 'RangeEndingTime': '08:30:00.00000', 'Satellite': 'NPP', 'SatelliteInstrument': 'NPP_OPS', 'SensorShortname': 'VIIRS', 'ShortName': 'VNP14IMG', 'SouthBoundingCoordinate': 24.558372, 'StartTime': '2018-06-01 08:24:00.000', 'SystemID': 'Linux minion20247 5.4.0-1093-fips #103-Ubuntu SMP Thu Feb 8 14:02:37 UTC 2024 x86_64', 'Unagg_GRingLatitude': '24.558372,29.257641,50.058765,43.923710', 'Unagg_GRingLongitude': '-86.711617,-117.218849,-115.891670,-75.882835', 'VNP02GDC': 'VNP02GDC.A2018152.0824.002.2021082160332.nc', 'VNP02IMG': 'VNP02CCIMG.A2018152.0824.002.2022280024843.nc', 'VNP02MOD': 'VNP02CCMOD.A2018152.0824.002.2022280024843.nc', 'VNP03IMG': 'VNP03IMG.A2018152.0824.002.2021082143054.nc', 'VersionID': '002', 'WaterPix': 0, 'WestBoundingCoordinate': -117.21885, 'cdm_data_type': 'swath', 'creator_email': 'modis-ops@lists.nasa.gov', 'creator_name': 'VIIRS Land SIPS Processing Group', 'creator_url': 'https://ladsweb.modaps.eosdis.nasa.gov', 'identifier_product_doi': '10.5067/VIIRS/VNP14IMG.002', 'identifier_product_doi_authority': 'https://doi.org', 'institution': 'NASA Goddard Space Flight Center', 'keywords_vocabulary': 'NASA Global Change Master Directory (GCMD) Science Keywords', 'license': 'http://science.nasa.gov/earth-science/earth-science-data/data-information-policy/', 'naming_authority': 'gov.nasa.gsfc.VIIRSland', 'processing_level': 'Level 2', 'project': 'VIIRS Land SIPS Active Fire', 'publisher_email': 'modis-ops@lists.nasa.gov', 'publisher_name': 'LAADS', 'publisher_url': 'https://ladsweb.modaps.eosdis.nasa.gov', 'stdname_vocabulary': 'NetCDF Climate and Forecast (CF) Metadata Convention', 'title': 'VIIRS 375m Active Fire Data'}\n",
      "Frozen({'FP_AdjCloud': <xarray.Variable (phony_dim_0: 836)> Size: 2kB\n",
      "[836 values with dtype=uint16]\n",
      "Attributes:\n",
      "    long_name:  number of adjacent cloud pixels, 'FP_AdjWater': <xarray.Variable (phony_dim_0: 836)> Size: 2kB\n",
      "[836 values with dtype=uint16]\n",
      "Attributes:\n",
      "    long_name:  number of adjacent water pixels, 'FP_MAD_DT': <xarray.Variable (phony_dim_0: 836)> Size: 3kB\n",
      "[836 values with dtype=float32]\n",
      "Attributes:\n",
      "    long_name:  background brightness temperature difference mean absolute de...\n",
      "    units:      kelvins, 'FP_MAD_T4': <xarray.Variable (phony_dim_0: 836)> Size: 3kB\n",
      "[836 values with dtype=float32]\n",
      "Attributes:\n",
      "    long_name:  background I04 brightness temperature mean absolute deviation\n",
      "    units:      kelvins, 'FP_MAD_T5': <xarray.Variable (phony_dim_0: 836)> Size: 3kB\n",
      "[836 values with dtype=float32]\n",
      "Attributes:\n",
      "    long_name:  background I05 brightness temperature mean absolute deviation\n",
      "    units:      kelvins, 'FP_MeanDT': <xarray.Variable (phony_dim_0: 836)> Size: 3kB\n",
      "[836 values with dtype=float32]\n",
      "Attributes:\n",
      "    long_name:  mean background brightness temperature difference\n",
      "    units:      kelvins, 'FP_MeanRad13': <xarray.Variable (phony_dim_0: 836)> Size: 3kB\n",
      "[836 values with dtype=float32]\n",
      "Attributes:\n",
      "    long_name:  M13 background radiance of background\n",
      "    units:      W/(m^2*sr*μm), 'FP_MeanT4': <xarray.Variable (phony_dim_0: 836)> Size: 3kB\n",
      "[836 values with dtype=float32]\n",
      "Attributes:\n",
      "    long_name:  I04 brightness temperature of background\n",
      "    units:      kelvins, 'FP_MeanT5': <xarray.Variable (phony_dim_0: 836)> Size: 3kB\n",
      "[836 values with dtype=float32]\n",
      "Attributes:\n",
      "    long_name:  I05 brightness temperature of background\n",
      "    units:      kelvins, 'FP_Rad13': <xarray.Variable (phony_dim_0: 836)> Size: 3kB\n",
      "[836 values with dtype=float32]\n",
      "Attributes:\n",
      "    long_name:  M13 radiance of fire pixel\n",
      "    units:      W/(m^2*sr*μm), 'FP_SolAzAng': <xarray.Variable (phony_dim_0: 836)> Size: 3kB\n",
      "[836 values with dtype=float32]\n",
      "Attributes:\n",
      "    long_name:  solar azimuth angle of fire pixel\n",
      "    units:      degrees, 'FP_SolZenAng': <xarray.Variable (phony_dim_0: 836)> Size: 3kB\n",
      "[836 values with dtype=float32]\n",
      "Attributes:\n",
      "    long_name:  solar zenith angle of fire pixel\n",
      "    units:      degrees, 'FP_T4': <xarray.Variable (phony_dim_0: 836)> Size: 3kB\n",
      "[836 values with dtype=float32]\n",
      "Attributes:\n",
      "    long_name:  I04 brightness temperature of fire pixel\n",
      "    units:      kelvins, 'FP_T5': <xarray.Variable (phony_dim_0: 836)> Size: 3kB\n",
      "[836 values with dtype=float32]\n",
      "Attributes:\n",
      "    long_name:  I05 brightness temperature of fire pixel\n",
      "    units:      kelvins, 'FP_ViewAzAng': <xarray.Variable (phony_dim_0: 836)> Size: 3kB\n",
      "[836 values with dtype=float32]\n",
      "Attributes:\n",
      "    long_name:  granule line of fire pixel\n",
      "    units:      degrees, 'FP_ViewZenAng': <xarray.Variable (phony_dim_0: 836)> Size: 3kB\n",
      "[836 values with dtype=float32]\n",
      "Attributes:\n",
      "    long_name:  view zenith angle of fire pixel\n",
      "    units:      degrees, 'FP_WinSize': <xarray.Variable (phony_dim_0: 836)> Size: 2kB\n",
      "[836 values with dtype=uint16]\n",
      "Attributes:\n",
      "    long_name:  background window size, 'FP_confidence': <xarray.Variable (phony_dim_0: 836)> Size: 836B\n",
      "[836 values with dtype=uint8]\n",
      "Attributes:\n",
      "    long_name:  detection confidence, 'FP_day': <xarray.Variable (phony_dim_0: 836)> Size: 836B\n",
      "[836 values with dtype=uint8]\n",
      "Attributes:\n",
      "    long_name:  day flag for fire pixel, 'FP_latitude': <xarray.Variable (phony_dim_0: 836)> Size: 3kB\n",
      "[836 values with dtype=float32]\n",
      "Attributes:\n",
      "    long_name:  latitude of fire pixel, 'FP_line': <xarray.Variable (phony_dim_0: 836)> Size: 2kB\n",
      "[836 values with dtype=uint16]\n",
      "Attributes:\n",
      "    long_name:  granule line of fire pixel, 'FP_longitude': <xarray.Variable (phony_dim_0: 836)> Size: 3kB\n",
      "[836 values with dtype=float32]\n",
      "Attributes:\n",
      "    long_name:  longitude of fire pixel, 'FP_power': <xarray.Variable (phony_dim_0: 836)> Size: 3kB\n",
      "[836 values with dtype=float32]\n",
      "Attributes:\n",
      "    long_name:  fire radiative power\n",
      "    units:      MW, 'FP_sample': <xarray.Variable (phony_dim_0: 836)> Size: 2kB\n",
      "[836 values with dtype=uint16]\n",
      "Attributes:\n",
      "    long_name:  granule sample of fire pixel, 'algorithm QA': <xarray.Variable (phony_dim_1: 6464, phony_dim_2: 6400)> Size: 165MB\n",
      "[41369600 values with dtype=uint32]\n",
      "Attributes:\n",
      "    units:    bit field, 'fire mask': <xarray.Variable (phony_dim_1: 6464, phony_dim_2: 6400)> Size: 41MB\n",
      "[41369600 values with dtype=uint8]\n",
      "Attributes:\n",
      "    legend:   0 not-processed (non-zero QF)\\n1 bowtie\\n2 glint\\n3 water\\n4 cl...})\n"
     ]
    },
    {
     "ename": "ValueError",
     "evalue": "No objects to concatenate",
     "output_type": "error",
     "traceback": [
      "\u001b[0;31m---------------------------------------------------------------------------\u001b[0m",
      "\u001b[0;31mValueError\u001b[0m                                Traceback (most recent call last)",
      "Cell \u001b[0;32mIn[14], line 66\u001b[0m\n\u001b[1;32m     62\u001b[0m     df\u001b[38;5;241m.\u001b[39mdrop(columns\u001b[38;5;241m=\u001b[39m[\u001b[38;5;124m'\u001b[39m\u001b[38;5;124mj\u001b[39m\u001b[38;5;124m'\u001b[39m], inplace\u001b[38;5;241m=\u001b[39m\u001b[38;5;28;01mTrue\u001b[39;00m)\n\u001b[1;32m     64\u001b[0m     granule_dfs\u001b[38;5;241m.\u001b[39mappend(df)\n\u001b[0;32m---> 66\u001b[0m afds \u001b[38;5;241m=\u001b[39m \u001b[43mpd\u001b[49m\u001b[38;5;241;43m.\u001b[39;49m\u001b[43mconcat\u001b[49m\u001b[43m(\u001b[49m\u001b[43mgranule_dfs\u001b[49m\u001b[43m,\u001b[49m\u001b[43m \u001b[49m\u001b[43mignore_index\u001b[49m\u001b[38;5;241;43m=\u001b[39;49m\u001b[38;5;28;43;01mTrue\u001b[39;49;00m\u001b[43m)\u001b[49m\n\u001b[1;32m     67\u001b[0m \u001b[38;5;28mprint\u001b[39m(\u001b[38;5;28mlen\u001b[39m(afds))\n\u001b[1;32m     69\u001b[0m t2 \u001b[38;5;241m=\u001b[39m (time\u001b[38;5;241m.\u001b[39mtime() \u001b[38;5;241m-\u001b[39m t0) \u001b[38;5;241m/\u001b[39m \u001b[38;5;241m60\u001b[39m\n",
      "File \u001b[0;32m/opt/miniconda3/envs/aspen-fire/lib/python3.10/site-packages/pandas/core/reshape/concat.py:382\u001b[0m, in \u001b[0;36mconcat\u001b[0;34m(objs, axis, join, ignore_index, keys, levels, names, verify_integrity, sort, copy)\u001b[0m\n\u001b[1;32m    379\u001b[0m \u001b[38;5;28;01melif\u001b[39;00m copy \u001b[38;5;129;01mand\u001b[39;00m using_copy_on_write():\n\u001b[1;32m    380\u001b[0m     copy \u001b[38;5;241m=\u001b[39m \u001b[38;5;28;01mFalse\u001b[39;00m\n\u001b[0;32m--> 382\u001b[0m op \u001b[38;5;241m=\u001b[39m \u001b[43m_Concatenator\u001b[49m\u001b[43m(\u001b[49m\n\u001b[1;32m    383\u001b[0m \u001b[43m    \u001b[49m\u001b[43mobjs\u001b[49m\u001b[43m,\u001b[49m\n\u001b[1;32m    384\u001b[0m \u001b[43m    \u001b[49m\u001b[43maxis\u001b[49m\u001b[38;5;241;43m=\u001b[39;49m\u001b[43maxis\u001b[49m\u001b[43m,\u001b[49m\n\u001b[1;32m    385\u001b[0m \u001b[43m    \u001b[49m\u001b[43mignore_index\u001b[49m\u001b[38;5;241;43m=\u001b[39;49m\u001b[43mignore_index\u001b[49m\u001b[43m,\u001b[49m\n\u001b[1;32m    386\u001b[0m \u001b[43m    \u001b[49m\u001b[43mjoin\u001b[49m\u001b[38;5;241;43m=\u001b[39;49m\u001b[43mjoin\u001b[49m\u001b[43m,\u001b[49m\n\u001b[1;32m    387\u001b[0m \u001b[43m    \u001b[49m\u001b[43mkeys\u001b[49m\u001b[38;5;241;43m=\u001b[39;49m\u001b[43mkeys\u001b[49m\u001b[43m,\u001b[49m\n\u001b[1;32m    388\u001b[0m \u001b[43m    \u001b[49m\u001b[43mlevels\u001b[49m\u001b[38;5;241;43m=\u001b[39;49m\u001b[43mlevels\u001b[49m\u001b[43m,\u001b[49m\n\u001b[1;32m    389\u001b[0m \u001b[43m    \u001b[49m\u001b[43mnames\u001b[49m\u001b[38;5;241;43m=\u001b[39;49m\u001b[43mnames\u001b[49m\u001b[43m,\u001b[49m\n\u001b[1;32m    390\u001b[0m \u001b[43m    \u001b[49m\u001b[43mverify_integrity\u001b[49m\u001b[38;5;241;43m=\u001b[39;49m\u001b[43mverify_integrity\u001b[49m\u001b[43m,\u001b[49m\n\u001b[1;32m    391\u001b[0m \u001b[43m    \u001b[49m\u001b[43mcopy\u001b[49m\u001b[38;5;241;43m=\u001b[39;49m\u001b[43mcopy\u001b[49m\u001b[43m,\u001b[49m\n\u001b[1;32m    392\u001b[0m \u001b[43m    \u001b[49m\u001b[43msort\u001b[49m\u001b[38;5;241;43m=\u001b[39;49m\u001b[43msort\u001b[49m\u001b[43m,\u001b[49m\n\u001b[1;32m    393\u001b[0m \u001b[43m\u001b[49m\u001b[43m)\u001b[49m\n\u001b[1;32m    395\u001b[0m \u001b[38;5;28;01mreturn\u001b[39;00m op\u001b[38;5;241m.\u001b[39mget_result()\n",
      "File \u001b[0;32m/opt/miniconda3/envs/aspen-fire/lib/python3.10/site-packages/pandas/core/reshape/concat.py:445\u001b[0m, in \u001b[0;36m_Concatenator.__init__\u001b[0;34m(self, objs, axis, join, keys, levels, names, ignore_index, verify_integrity, copy, sort)\u001b[0m\n\u001b[1;32m    442\u001b[0m \u001b[38;5;28mself\u001b[39m\u001b[38;5;241m.\u001b[39mverify_integrity \u001b[38;5;241m=\u001b[39m verify_integrity\n\u001b[1;32m    443\u001b[0m \u001b[38;5;28mself\u001b[39m\u001b[38;5;241m.\u001b[39mcopy \u001b[38;5;241m=\u001b[39m copy\n\u001b[0;32m--> 445\u001b[0m objs, keys \u001b[38;5;241m=\u001b[39m \u001b[38;5;28;43mself\u001b[39;49m\u001b[38;5;241;43m.\u001b[39;49m\u001b[43m_clean_keys_and_objs\u001b[49m\u001b[43m(\u001b[49m\u001b[43mobjs\u001b[49m\u001b[43m,\u001b[49m\u001b[43m \u001b[49m\u001b[43mkeys\u001b[49m\u001b[43m)\u001b[49m\n\u001b[1;32m    447\u001b[0m \u001b[38;5;66;03m# figure out what our result ndim is going to be\u001b[39;00m\n\u001b[1;32m    448\u001b[0m ndims \u001b[38;5;241m=\u001b[39m \u001b[38;5;28mself\u001b[39m\u001b[38;5;241m.\u001b[39m_get_ndims(objs)\n",
      "File \u001b[0;32m/opt/miniconda3/envs/aspen-fire/lib/python3.10/site-packages/pandas/core/reshape/concat.py:507\u001b[0m, in \u001b[0;36m_Concatenator._clean_keys_and_objs\u001b[0;34m(self, objs, keys)\u001b[0m\n\u001b[1;32m    504\u001b[0m     objs_list \u001b[38;5;241m=\u001b[39m \u001b[38;5;28mlist\u001b[39m(objs)\n\u001b[1;32m    506\u001b[0m \u001b[38;5;28;01mif\u001b[39;00m \u001b[38;5;28mlen\u001b[39m(objs_list) \u001b[38;5;241m==\u001b[39m \u001b[38;5;241m0\u001b[39m:\n\u001b[0;32m--> 507\u001b[0m     \u001b[38;5;28;01mraise\u001b[39;00m \u001b[38;5;167;01mValueError\u001b[39;00m(\u001b[38;5;124m\"\u001b[39m\u001b[38;5;124mNo objects to concatenate\u001b[39m\u001b[38;5;124m\"\u001b[39m)\n\u001b[1;32m    509\u001b[0m \u001b[38;5;28;01mif\u001b[39;00m keys \u001b[38;5;129;01mis\u001b[39;00m \u001b[38;5;28;01mNone\u001b[39;00m:\n\u001b[1;32m    510\u001b[0m     objs_list \u001b[38;5;241m=\u001b[39m \u001b[38;5;28mlist\u001b[39m(com\u001b[38;5;241m.\u001b[39mnot_none(\u001b[38;5;241m*\u001b[39mobjs_list))\n",
      "\u001b[0;31mValueError\u001b[0m: No objects to concatenate"
     ]
    }
   ],
   "source": [
    "t0 = time.time()\n",
    "\n",
    "granule_dfs = []\n",
    "for fp in tqdm(fileset[0:1], desc=\"Processing granules\"):\n",
    "    t1 = time.time()\n",
    "    df = pd.DataFrame() # to store the active fire data\n",
    "    with xr.open_dataset(fp, phony_dims='access') as swath:\n",
    "        print(swath.attrs)\n",
    "        print(swath.variables)\n",
    "        # get the granule ID and associated geolocation swath\n",
    "        granule_id = swath.LocalGranuleID\n",
    "        geo_id = swath.VNP03IMG\n",
    "        \n",
    "        # Check for fire pixels in the specified region\n",
    "        lonfp = swath.variables['FP_longitude'][:] # fire pixel longitude\n",
    "        latfp = swath.variables['FP_latitude'][:] # fire pixel latitude\n",
    "        fire_scene = ((lonfp > extent[0]) & (lonfp < extent[1]) & \n",
    "                      (latfp > extent[2]) & (latfp < extent[3]))\n",
    "        \n",
    "        if not fire_scene.any():  # Check for any fire pixels in region\n",
    "            continue # skip if no fire pixels in region\n",
    "\n",
    "        del fire_scene\n",
    "        \n",
    "        # granule attributes\n",
    "        daynight = swath.DayNightFlag #string Day or Night\n",
    "\n",
    "        # variables\n",
    "        fire = swath['fire mask'] # the fire mask\n",
    "        frp = swath.variables['FP_power'][:] # fire radiative power\n",
    "        t4 = swath.variables['FP_T4'][:] # I04 brightness temp (kelvins)\n",
    "        t5 = swath.variables['FP_T5'][:] # I05 brightness temp (kelvins)\n",
    "        sample = swath.variables['FP_sample'][:]\n",
    "        line = swath.variables['FP_line'][:]\n",
    "\n",
    "        fire_mask = swath['fire mask'][line, sample].values\n",
    "        \n",
    "    # gather information from file name\n",
    "    timestamp = granule_id.split('.')[1:3]\n",
    "    year = timestamp[0][1:5]\n",
    "    day = timestamp[0][5:8]\n",
    "    acqtime = timestamp[1]\n",
    "    acqdate = dt.datetime.strptime(year+day, '%Y%j').strftime('%-m/%-d/%Y')\n",
    "    \n",
    "    df['longitude'] = lonfp\n",
    "    df['latitude'] = latfp\n",
    "    df['j'] = sample #sample number for pixel size lookup\n",
    "    df['fire_mask'] = fire_mask\n",
    "    df['confidence'] = pd.Categorical( df.fire_mask)\n",
    "    df.confidence = df.confidence.replace(\n",
    "        {0:'x', 1:'x', 2:'x', 3:'x', 4:'x', 5:'x', 6:'x', 7:'l', 8:'n', 9:'h'})\n",
    "    df['frp'] = frp\n",
    "    df['acq_date'] = acqdate\n",
    "    df['acq_time'] = acqtime\n",
    "    df['daynight'] = swath.DayNightFlag\n",
    "    df['satellite'] = swath.PlatformShortName\n",
    "    df['short_name'] = swath.ShortName\n",
    "    df['granule_id'] = granule_id\n",
    "    df['geo_id'] = geo_id\n",
    "\n",
    "    df = pd.merge(df, lut, left_on='j', right_on='sample', how='left')\n",
    "    df.drop(columns=['j'], inplace=True)\n",
    "\n",
    "    granule_dfs.append(df)\n",
    "\n",
    "afds = pd.concat(granule_dfs, ignore_index=True)\n",
    "print(len(afds))\n",
    "\n",
    "t2 = (time.time() - t0) / 60\n",
    "print(f\"\\nTotal elapsed time: {t2:.2f} minutes.\\n\")\n",
    "print(\"\\n~~~~~~~~~~\\n\")\n",
    "print(\"Done!\")"
   ]
  },
  {
   "cell_type": "code",
   "execution_count": null,
   "id": "02dc4d9e-b578-4f8d-87ff-25bfb519889c",
   "metadata": {},
   "outputs": [],
   "source": [
    "afds.head()"
   ]
  },
  {
   "cell_type": "code",
   "execution_count": null,
   "id": "de504339-323b-4e3a-b37f-6e2db8fdfd71",
   "metadata": {},
   "outputs": [],
   "source": [
    "afds.to_csv(os.path.join(datamod,'afds_testing_416.csv'))"
   ]
  },
  {
   "cell_type": "code",
   "execution_count": null,
   "id": "866193a0-a296-44ae-af98-be671e84982b",
   "metadata": {},
   "outputs": [],
   "source": []
  },
  {
   "cell_type": "code",
   "execution_count": null,
   "id": "b04076fc-a58d-46b3-94b4-94b43f408603",
   "metadata": {},
   "outputs": [],
   "source": []
  },
  {
   "cell_type": "code",
   "execution_count": null,
   "id": "a9ccde85-88f1-40ad-ad4d-97a6b86f6886",
   "metadata": {},
   "outputs": [],
   "source": []
  }
 ],
 "metadata": {
  "kernelspec": {
   "display_name": "aspen-fire",
   "language": "python",
   "name": "aspen-fire"
  },
  "language_info": {
   "codemirror_mode": {
    "name": "ipython",
    "version": 3
   },
   "file_extension": ".py",
   "mimetype": "text/x-python",
   "name": "python",
   "nbconvert_exporter": "python",
   "pygments_lexer": "ipython3",
   "version": "3.10.12"
  }
 },
 "nbformat": 4,
 "nbformat_minor": 5
}
