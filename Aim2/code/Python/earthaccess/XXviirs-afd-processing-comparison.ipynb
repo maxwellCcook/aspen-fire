{
 "cells": [
  {
   "cell_type": "code",
   "execution_count": 1,
   "id": "5ecd0bef-fee5-428a-a587-cacab707d965",
   "metadata": {},
   "outputs": [
    {
     "name": "stdout",
     "output_type": "stream",
     "text": [
      "Ready !\n"
     ]
    }
   ],
   "source": [
    "\"\"\"\n",
    "Read VIIRS active fire geolocated fire pixels output from XXviirs_access-swath.ipynb\n",
    "Author: maxwell.cook@colorado.edu\n",
    "\"\"\"\n",
    "\n",
    "# Import packages\n",
    "import sys, os\n",
    "import xarray as xr\n",
    "import pyproj\n",
    "import geopandas as gpd\n",
    "import datetime as dt\n",
    "import matplotlib.pyplot as plt\n",
    "import seaborn as sns\n",
    "import rasterio as rio\n",
    "\n",
    "from netCDF4 import Dataset # to open NetCDF\n",
    "from datetime import datetime\n",
    "from datetime import timedelta\n",
    "from matplotlib import pyplot as plt\n",
    "from affine import Affine\n",
    "from osgeo import gdal, gdal_array, gdalconst, osr\n",
    "from rasterio.transform import from_bounds\n",
    "from scipy.spatial import cKDTree\n",
    "from rasterio.features import rasterize\n",
    "from tqdm import tqdm\n",
    "\n",
    "# Custom functions\n",
    "sys.path.append(os.path.join(os.getcwd(),'code/'))\n",
    "from __functions import *\n",
    "\n",
    "# Projection information\n",
    "geog = 'EPSG:4326'  # Geographic projection\n",
    "prj = 'EPSG:5070'  # Projected coordinate system- WGS 84 NAD83 UTM Zone 13N\n",
    "\n",
    "# File path information\n",
    "maindir = '/Users/max/Library/CloudStorage/OneDrive-Personal/mcook/'\n",
    "projdir = os.path.join(maindir, 'aspen-fire/Aim2/')\n",
    "# Output directories\n",
    "dataraw = os.path.join(projdir,'data/spatial/raw/VIIRS/')\n",
    "datamod = os.path.join(projdir,'data/spatial/mod/VIIRS/')\n",
    "\n",
    "# File path information\n",
    "print(\"Ready !\")"
   ]
  },
  {
   "cell_type": "code",
   "execution_count": null,
   "id": "0f5ab249-21c2-4bb7-a77e-13cc89a7fe82",
   "metadata": {},
   "outputs": [],
   "source": []
  },
  {
   "cell_type": "code",
   "execution_count": null,
   "id": "96a3fa5d-12eb-448c-bf49-7c11edb00a95",
   "metadata": {},
   "outputs": [],
   "source": []
  },
  {
   "cell_type": "code",
   "execution_count": null,
   "id": "da7b4fda-d275-4ea0-b081-c788c4e35e83",
   "metadata": {},
   "outputs": [],
   "source": [
    "# Load and tidy the fire perimeter data"
   ]
  },
  {
   "cell_type": "code",
   "execution_count": 2,
   "id": "4f8f2932-339b-4586-a109-5692e46704e9",
   "metadata": {},
   "outputs": [
    {
     "name": "stdout",
     "output_type": "stream",
     "text": [
      "There are 67 with > 1% aspen cover in the Southern Rockies (2018-2023)\n"
     ]
    }
   ],
   "source": [
    "fp = os.path.join(projdir,'data/spatial/mod/NIFC/nifc-ics_2018_to_2023-aspen.gpkg')\n",
    "fires = gpd.read_file(fp)\n",
    "\n",
    "# subset to Southern Rockies\n",
    "fires = fires[fires['na_l3name'] == 'Southern Rockies']\n",
    "\n",
    "# tidy the fire id and name columns\n",
    "fires.rename(columns={'NIFC_ID': 'Fire_ID', 'NIFC_NAME': 'Fire_Name'}, inplace=True)\n",
    "\n",
    "# tidy the date columns\n",
    "fires['DISCOVERY_DATE'] = pd.to_datetime(fires['DISCOVERY_DATE'])\n",
    "fires['WF_CESSATION_DATE'] = pd.to_datetime(fires['WF_CESSATION_DATE'])\n",
    "fires['NIFC_ACRES'] = fires['NIFC_ACRES'].astype(float)\n",
    "\n",
    "print(f\"There are {len(fires)} with > 1% aspen cover in the Southern Rockies (2018-2023)\")"
   ]
  },
  {
   "cell_type": "code",
   "execution_count": 3,
   "id": "ceb92465-7cd9-4311-87e7-72b5ae6a38ee",
   "metadata": {},
   "outputs": [
    {
     "name": "stdout",
     "output_type": "stream",
     "text": [
      "Buffered fire perimeters by 3000 meters.\n"
     ]
    }
   ],
   "source": [
    "# Add a 3km buffer to wildfire perimeters\n",
    "buffer_dist = 3000  # meters\n",
    "fires = fires.copy() # make a copy of the original data\n",
    "fires['geometry'] = fires['geometry'].buffer(buffer_dist)\n",
    "print(f\"Buffered fire perimeters by {buffer_dist} meters.\")"
   ]
  },
  {
   "cell_type": "code",
   "execution_count": null,
   "id": "a1b4ee3b-b1d4-4382-8c7e-7522d0e94424",
   "metadata": {},
   "outputs": [],
   "source": []
  },
  {
   "cell_type": "code",
   "execution_count": null,
   "id": "83ca67e4-8d8b-45fa-b24f-b133ecff63e3",
   "metadata": {},
   "outputs": [],
   "source": []
  },
  {
   "cell_type": "code",
   "execution_count": null,
   "id": "bfe7d196-5c94-423c-b184-c0810b08f648",
   "metadata": {},
   "outputs": [],
   "source": [
    "# Create spatial points from lat/lon"
   ]
  },
  {
   "cell_type": "code",
   "execution_count": 4,
   "id": "0a9789df-2f68-4e51-9d89-53cef724d850",
   "metadata": {},
   "outputs": [
    {
     "name": "stdout",
     "output_type": "stream",
     "text": [
      "81574\n"
     ]
    },
    {
     "data": {
      "text/plain": [
       "longitude      float64\n",
       "latitude       float64\n",
       "fire_mask        int64\n",
       "confidence      object\n",
       "daynight        object\n",
       "acq_date        object\n",
       "acq_time         int64\n",
       "granule_id      object\n",
       "geo_id          object\n",
       "frp            float64\n",
       "iot4           float64\n",
       "iot5           float64\n",
       "sample           int64\n",
       "along_scan     float64\n",
       "along_track    float64\n",
       "scan_angle     float64\n",
       "pix_area       float64\n",
       "dtype: object"
      ]
     },
     "execution_count": 4,
     "metadata": {},
     "output_type": "execute_result"
    }
   ],
   "source": [
    "fp = os.path.join(datamod,'vnp14img_geo_aspen-fires-srm_2018to2023.csv')\n",
    "afds = pd.read_csv(fp).reset_index(drop=True)\n",
    "afds = afds.loc[:, ~afds.columns.str.startswith('Unnamed:')]\n",
    "print(len(afds))\n",
    "afds.dtypes"
   ]
  },
  {
   "cell_type": "code",
   "execution_count": 5,
   "id": "653f8389-70d6-4849-bd17-3fe9446396f6",
   "metadata": {},
   "outputs": [
    {
     "data": {
      "text/plain": [
       "0   2018-06-01\n",
       "1   2018-06-01\n",
       "2   2018-06-01\n",
       "Name: acq_date, dtype: datetime64[ns]"
      ]
     },
     "execution_count": 5,
     "metadata": {},
     "output_type": "execute_result"
    }
   ],
   "source": [
    "afds['acq_date'] = pd.to_datetime(afds['acq_date']) # convert to simple date format\n",
    "afds['acq_date'].head(3)"
   ]
  },
  {
   "cell_type": "code",
   "execution_count": 6,
   "id": "970c512c-b095-40ff-b971-fb4beb7968b9",
   "metadata": {},
   "outputs": [
    {
     "data": {
      "text/plain": [
       "confidence\n",
       "n    67638\n",
       "h     8219\n",
       "l     5717\n",
       "Name: count, dtype: int64"
      ]
     },
     "execution_count": 6,
     "metadata": {},
     "output_type": "execute_result"
    }
   ],
   "source": [
    "# get a summary of fire detection confidence\n",
    "afds['confidence'].value_counts()"
   ]
  },
  {
   "cell_type": "code",
   "execution_count": 7,
   "id": "73de4225-ac37-468b-93ee-384ed4f8fed7",
   "metadata": {},
   "outputs": [
    {
     "name": "stdout",
     "output_type": "stream",
     "text": [
      "Dropped [5717] low-confidence obs.\n"
     ]
    }
   ],
   "source": [
    "# drop low confidence detections\n",
    "N= len(afds)\n",
    "afds = afds[afds['confidence'] != 'l']\n",
    "print(f\"Dropped [{N-len(afds)}] low-confidence obs.\")"
   ]
  },
  {
   "cell_type": "code",
   "execution_count": 8,
   "id": "74507701-7088-4739-91c8-39be8ca04834",
   "metadata": {},
   "outputs": [
    {
     "name": "stdout",
     "output_type": "stream",
     "text": [
      "   longitude   latitude  fire_mask confidence daynight   acq_date  acq_time  \\\n",
      "0 -104.60649  38.234726          8          n    Night 2018-06-01       824   \n",
      "1 -104.60698  38.232952          8          n    Night 2018-06-01       824   \n",
      "2 -104.95000  36.581818          8          n    Night 2018-06-01       824   \n",
      "3 -104.94370  36.581154          8          n    Night 2018-06-01       824   \n",
      "4 -104.99421  36.582436          8          n    Night 2018-06-01       824   \n",
      "\n",
      "                                    granule_id                  geo_id  \\\n",
      "0  VNP14IMG.A2018152.0824.002.2024080110710.nc  VNP03IMG.A2018152.0824   \n",
      "1  VNP14IMG.A2018152.0824.002.2024080110710.nc  VNP03IMG.A2018152.0824   \n",
      "2  VNP14IMG.A2018152.0824.002.2024080110710.nc  VNP03IMG.A2018152.0824   \n",
      "3  VNP14IMG.A2018152.0824.002.2024080110710.nc  VNP03IMG.A2018152.0824   \n",
      "4  VNP14IMG.A2018152.0824.002.2024080110710.nc  VNP03IMG.A2018152.0824   \n",
      "\n",
      "        frp        iot4        iot5  sample  along_scan  along_track  \\\n",
      "0  1.722382  304.330841  289.700226    2034    0.565906     0.431471   \n",
      "1  2.177278  301.303925  288.965240    2035    0.565492     0.431327   \n",
      "2  1.447277  296.990814  286.114716    2040    0.563433     0.430609   \n",
      "3  1.447277  298.897369  287.142731    2041    0.563024     0.430467   \n",
      "4  4.948321  323.709015  290.587463    2033    0.566321     0.431616   \n",
      "\n",
      "   scan_angle  pix_area                         geometry  afdID  \n",
      "0     31.1069  0.244172  POINT (-745201.501 1722900.355)      0  \n",
      "1     31.0802  0.243912  POINT (-745261.795 1722706.172)      1  \n",
      "2     30.9468  0.242619  POINT (-792277.134 1541239.267)      2  \n",
      "3     30.9202  0.242363  POINT (-791728.079 1541112.707)      3  \n",
      "4     31.1336  0.244433  POINT (-796172.516 1541677.669)      4  \n",
      "\n",
      "Saved spatial points to: /Users/max/Library/CloudStorage/OneDrive-Personal/mcook/aspen-fire/Aim2/data/spatial/mod/VIIRS/vnp14img_geo_srm_pix_latlon.gpkg\n"
     ]
    }
   ],
   "source": [
    "from shapely.geometry import Point\n",
    "\n",
    "# convert to spatial points using pixel centroid\n",
    "afds['geometry'] = [Point(xy) for xy in zip(afds.longitude, afds.latitude)]\n",
    "afds_ll = gpd.GeoDataFrame(afds, geometry='geometry', crs=\"EPSG:4326\")\n",
    "afds_ll = afds_ll.to_crs(\"EPSG:5070\")\n",
    "afds_ll = afds_ll.reset_index(drop=True)\n",
    "afds_ll['afdID'] = afds_ll.index # add a unique ID\n",
    "print(afds_ll.head())\n",
    "\n",
    "# save this file out.\n",
    "out_fp = os.path.join(datamod,'vnp14img_geo_srm_pix_latlon.gpkg')\n",
    "afds_ll.to_file(out_fp)\n",
    "print(f\"\\nSaved spatial points to: {out_fp}\")"
   ]
  },
  {
   "cell_type": "code",
   "execution_count": 9,
   "id": "5d39b7ce-792b-456a-a0d1-2a4f197b8997",
   "metadata": {},
   "outputs": [
    {
     "name": "stdout",
     "output_type": "stream",
     "text": [
      "[4466/75857 duplicate obs.\n"
     ]
    },
    {
     "data": {
      "text/plain": [
       "0"
      ]
     },
     "execution_count": 9,
     "metadata": {},
     "output_type": "execute_result"
    }
   ],
   "source": [
    "# join to the fire perimeters\n",
    "fires_ = fires[['Fire_ID','Fire_Name','START_YEAR','DISCOVERY_DATE','WF_CESSATION_DATE','geometry']]\n",
    "afds_ll_ = gpd.sjoin(afds_ll, fires_, how='inner', predicate='within')\n",
    "afds_ll_.drop(columns=['index_right'], inplace=True)\n",
    "\n",
    "# check for duplicates\n",
    "dups = afds_ll_[afds_ll_.duplicated(subset='afdID', keep=False)]\n",
    "print(f\"[{len(dups)}/{len(afds_ll)} duplicate obs.\")\n",
    "\n",
    "dups[['afdID','Fire_Name','START_YEAR','acq_date']].head()\n",
    "\n",
    "del afds_ll\n",
    "gc.collect()"
   ]
  },
  {
   "cell_type": "code",
   "execution_count": 10,
   "id": "92572a92-f78c-4b0b-b4fd-e4ca80ca50e6",
   "metadata": {},
   "outputs": [
    {
     "name": "stdout",
     "output_type": "stream",
     "text": [
      "[0/59631 duplicate obs.\n"
     ]
    },
    {
     "data": {
      "text/plain": [
       "41"
      ]
     },
     "execution_count": 10,
     "metadata": {},
     "output_type": "execute_result"
    }
   ],
   "source": [
    "# temporal filters to handle duplicates between fires\n",
    "afds_ll_f = afds_ll_.copy()\n",
    "\n",
    "afds_ll_f['acq_date'] = pd.to_datetime(afds_ll_f['acq_date'])\n",
    "afds_ll_f['acq_month'] = afds_ll_f['acq_date'].dt.month.astype(int)\n",
    "afds_ll_f['acq_year'] = afds_ll_f['acq_date'].dt.year.astype(int)\n",
    "\n",
    "afds_ll_f = afds_ll_f[\n",
    "    (afds_ll_f['acq_date'] >= afds_ll_f['DISCOVERY_DATE'] - timedelta(days=14)) &\n",
    "    (afds_ll_f['acq_date'] <= afds_ll_f['WF_CESSATION_DATE'] + timedelta(days=14))\n",
    "]\n",
    "\n",
    "dups = afds_ll_f[afds_ll_f.duplicated(subset='afdID', keep=False)]\n",
    "print(f\"[{len(dups)}/{len(afds_ll_f)} duplicate obs.\")\n",
    "\n",
    "del afds_ll_\n",
    "gc.collect()"
   ]
  },
  {
   "cell_type": "code",
   "execution_count": 11,
   "id": "b987d274-1224-467b-9aa8-955a944e417c",
   "metadata": {},
   "outputs": [
    {
     "data": {
      "text/plain": [
       "Index(['longitude', 'latitude', 'fire_mask', 'confidence', 'daynight',\n",
       "       'acq_date', 'acq_time', 'granule_id', 'geo_id', 'frp', 'iot4', 'iot5',\n",
       "       'sample', 'along_scan', 'along_track', 'scan_angle', 'pix_area',\n",
       "       'geometry', 'afdID', 'Fire_ID', 'Fire_Name', 'START_YEAR',\n",
       "       'DISCOVERY_DATE', 'WF_CESSATION_DATE', 'acq_month', 'acq_year'],\n",
       "      dtype='object')"
      ]
     },
     "execution_count": 11,
     "metadata": {},
     "output_type": "execute_result"
    }
   ],
   "source": [
    "afds_ll_f.columns"
   ]
  },
  {
   "cell_type": "code",
   "execution_count": 12,
   "id": "8a225da1-763c-45a3-98f8-67257c44fa83",
   "metadata": {},
   "outputs": [
    {
     "data": {
      "text/plain": [
       "count    59631.000000\n",
       "mean      6161.850296\n",
       "std       4287.809334\n",
       "min          1.000000\n",
       "25%       2116.000000\n",
       "50%       8734.000000\n",
       "75%       9370.000000\n",
       "max      11916.000000\n",
       "Name: obs_count, dtype: float64"
      ]
     },
     "execution_count": 12,
     "metadata": {},
     "output_type": "execute_result"
    }
   ],
   "source": [
    "# grab a count of observations for each fire\n",
    "counts = afds_ll_f.groupby(['Fire_ID']).size().reset_index(name='obs_count')\n",
    "afds_ll_f = pd.merge(afds_ll_f, counts, left_on='Fire_ID', right_on='Fire_ID', how='left')\n",
    "afds_ll_f['obs_count'].describe()"
   ]
  },
  {
   "cell_type": "code",
   "execution_count": 13,
   "id": "ebd27e24-0c46-4105-9033-8e7ecf74191d",
   "metadata": {},
   "outputs": [
    {
     "name": "stdout",
     "output_type": "stream",
     "text": [
      "There are 50 fires with >= 10 obs.\n"
     ]
    }
   ],
   "source": [
    "# filter to retain fires with at least N observations\n",
    "n_obs = 10\n",
    "afds_ll_f = afds_ll_f[afds_ll_f['obs_count'] >= n_obs]\n",
    "print(f\"There are {len(afds_ll_f['Fire_ID'].unique())} fires with >= {n_obs} obs.\")"
   ]
  },
  {
   "cell_type": "code",
   "execution_count": 14,
   "id": "00c7dbb2-da94-4e8b-befc-cc21021f84a9",
   "metadata": {},
   "outputs": [
    {
     "data": {
      "text/plain": [
       "50"
      ]
     },
     "execution_count": 14,
     "metadata": {},
     "output_type": "execute_result"
    }
   ],
   "source": [
    "fires_ = fires[fires['Fire_ID'].isin(afds_ll_f['Fire_ID'].unique())]\n",
    "len(fires_)"
   ]
  },
  {
   "cell_type": "code",
   "execution_count": 15,
   "id": "bf4ac45e-4416-4247-81d8-d499d70acce6",
   "metadata": {},
   "outputs": [
    {
     "name": "stdout",
     "output_type": "stream",
     "text": [
      "Saved spatial points to: /Users/max/Library/CloudStorage/OneDrive-Personal/mcook/aspen-fire/Aim2/data/spatial/mod/VIIRS/vnp14img_geo_srm_pix_latlon_aspenfires.gpkg\n"
     ]
    }
   ],
   "source": [
    "# save this file out.\n",
    "out_fp = os.path.join(datamod,'vnp14img_geo_srm_pix_latlon_aspenfires.gpkg')\n",
    "afds_ll_f.to_file(out_fp)\n",
    "print(f\"Saved spatial points to: {out_fp}\")"
   ]
  },
  {
   "cell_type": "code",
   "execution_count": null,
   "id": "a77f1fe0-bfb6-4e98-8efb-ea2f55e08568",
   "metadata": {},
   "outputs": [],
   "source": []
  },
  {
   "cell_type": "code",
   "execution_count": null,
   "id": "87c61699-8160-4cf4-af75-6199004b407b",
   "metadata": {},
   "outputs": [],
   "source": [
    "# Create the ground area of pixels"
   ]
  },
  {
   "cell_type": "code",
   "execution_count": 16,
   "id": "28fb5f44-037e-4433-b44c-906f8e745a98",
   "metadata": {},
   "outputs": [
    {
     "data": {
      "text/html": [
       "<div>\n",
       "<style scoped>\n",
       "    .dataframe tbody tr th:only-of-type {\n",
       "        vertical-align: middle;\n",
       "    }\n",
       "\n",
       "    .dataframe tbody tr th {\n",
       "        vertical-align: top;\n",
       "    }\n",
       "\n",
       "    .dataframe thead th {\n",
       "        text-align: right;\n",
       "    }\n",
       "</style>\n",
       "<table border=\"1\" class=\"dataframe\">\n",
       "  <thead>\n",
       "    <tr style=\"text-align: right;\">\n",
       "      <th></th>\n",
       "      <th>longitude</th>\n",
       "      <th>latitude</th>\n",
       "      <th>fire_mask</th>\n",
       "      <th>confidence</th>\n",
       "      <th>daynight</th>\n",
       "      <th>acq_date</th>\n",
       "      <th>acq_time</th>\n",
       "      <th>granule_id</th>\n",
       "      <th>geo_id</th>\n",
       "      <th>frp</th>\n",
       "      <th>...</th>\n",
       "      <th>afdID</th>\n",
       "      <th>Fire_ID</th>\n",
       "      <th>Fire_Name</th>\n",
       "      <th>START_YEAR</th>\n",
       "      <th>DISCOVERY_DATE</th>\n",
       "      <th>WF_CESSATION_DATE</th>\n",
       "      <th>acq_month</th>\n",
       "      <th>acq_year</th>\n",
       "      <th>obs_count</th>\n",
       "      <th>obs_id</th>\n",
       "    </tr>\n",
       "  </thead>\n",
       "  <tbody>\n",
       "    <tr>\n",
       "      <th>0</th>\n",
       "      <td>-107.809900</td>\n",
       "      <td>37.458965</td>\n",
       "      <td>8</td>\n",
       "      <td>n</td>\n",
       "      <td>Day</td>\n",
       "      <td>2018-06-01</td>\n",
       "      <td>1948</td>\n",
       "      <td>VNP14IMG.A2018152.1948.002.2024080110709.nc</td>\n",
       "      <td>VNP03IMG.A2018152.1948</td>\n",
       "      <td>7.603679</td>\n",
       "      <td>...</td>\n",
       "      <td>404</td>\n",
       "      <td>14</td>\n",
       "      <td>416</td>\n",
       "      <td>2018</td>\n",
       "      <td>2018-06-01 11:02:00</td>\n",
       "      <td>2018-07-03 18:00:00</td>\n",
       "      <td>6</td>\n",
       "      <td>2018</td>\n",
       "      <td>2906</td>\n",
       "      <td>0</td>\n",
       "    </tr>\n",
       "    <tr>\n",
       "      <th>1</th>\n",
       "      <td>-107.810940</td>\n",
       "      <td>37.462734</td>\n",
       "      <td>9</td>\n",
       "      <td>h</td>\n",
       "      <td>Day</td>\n",
       "      <td>2018-06-01</td>\n",
       "      <td>1948</td>\n",
       "      <td>VNP14IMG.A2018152.1948.002.2024080110709.nc</td>\n",
       "      <td>VNP03IMG.A2018152.1948</td>\n",
       "      <td>48.685238</td>\n",
       "      <td>...</td>\n",
       "      <td>405</td>\n",
       "      <td>14</td>\n",
       "      <td>416</td>\n",
       "      <td>2018</td>\n",
       "      <td>2018-06-01 11:02:00</td>\n",
       "      <td>2018-07-03 18:00:00</td>\n",
       "      <td>6</td>\n",
       "      <td>2018</td>\n",
       "      <td>2906</td>\n",
       "      <td>1</td>\n",
       "    </tr>\n",
       "    <tr>\n",
       "      <th>2</th>\n",
       "      <td>-107.820670</td>\n",
       "      <td>37.460793</td>\n",
       "      <td>8</td>\n",
       "      <td>n</td>\n",
       "      <td>Day</td>\n",
       "      <td>2018-06-01</td>\n",
       "      <td>1948</td>\n",
       "      <td>VNP14IMG.A2018152.1948.002.2024080110709.nc</td>\n",
       "      <td>VNP03IMG.A2018152.1948</td>\n",
       "      <td>25.084015</td>\n",
       "      <td>...</td>\n",
       "      <td>406</td>\n",
       "      <td>14</td>\n",
       "      <td>416</td>\n",
       "      <td>2018</td>\n",
       "      <td>2018-06-01 11:02:00</td>\n",
       "      <td>2018-07-03 18:00:00</td>\n",
       "      <td>6</td>\n",
       "      <td>2018</td>\n",
       "      <td>2906</td>\n",
       "      <td>2</td>\n",
       "    </tr>\n",
       "    <tr>\n",
       "      <th>3</th>\n",
       "      <td>-107.816840</td>\n",
       "      <td>37.465534</td>\n",
       "      <td>9</td>\n",
       "      <td>h</td>\n",
       "      <td>Day</td>\n",
       "      <td>2018-06-01</td>\n",
       "      <td>1948</td>\n",
       "      <td>VNP14IMG.A2018152.1948.002.2024080110709.nc</td>\n",
       "      <td>VNP03IMG.A2018152.1948</td>\n",
       "      <td>48.685238</td>\n",
       "      <td>...</td>\n",
       "      <td>407</td>\n",
       "      <td>14</td>\n",
       "      <td>416</td>\n",
       "      <td>2018</td>\n",
       "      <td>2018-06-01 11:02:00</td>\n",
       "      <td>2018-07-03 18:00:00</td>\n",
       "      <td>6</td>\n",
       "      <td>2018</td>\n",
       "      <td>2906</td>\n",
       "      <td>3</td>\n",
       "    </tr>\n",
       "    <tr>\n",
       "      <th>4</th>\n",
       "      <td>-107.821754</td>\n",
       "      <td>37.464558</td>\n",
       "      <td>8</td>\n",
       "      <td>n</td>\n",
       "      <td>Day</td>\n",
       "      <td>2018-06-01</td>\n",
       "      <td>1948</td>\n",
       "      <td>VNP14IMG.A2018152.1948.002.2024080110709.nc</td>\n",
       "      <td>VNP03IMG.A2018152.1948</td>\n",
       "      <td>25.084015</td>\n",
       "      <td>...</td>\n",
       "      <td>408</td>\n",
       "      <td>14</td>\n",
       "      <td>416</td>\n",
       "      <td>2018</td>\n",
       "      <td>2018-06-01 11:02:00</td>\n",
       "      <td>2018-07-03 18:00:00</td>\n",
       "      <td>6</td>\n",
       "      <td>2018</td>\n",
       "      <td>2906</td>\n",
       "      <td>4</td>\n",
       "    </tr>\n",
       "  </tbody>\n",
       "</table>\n",
       "<p>5 rows × 28 columns</p>\n",
       "</div>"
      ],
      "text/plain": [
       "    longitude   latitude  fire_mask confidence daynight   acq_date  acq_time  \\\n",
       "0 -107.809900  37.458965          8          n      Day 2018-06-01      1948   \n",
       "1 -107.810940  37.462734          9          h      Day 2018-06-01      1948   \n",
       "2 -107.820670  37.460793          8          n      Day 2018-06-01      1948   \n",
       "3 -107.816840  37.465534          9          h      Day 2018-06-01      1948   \n",
       "4 -107.821754  37.464558          8          n      Day 2018-06-01      1948   \n",
       "\n",
       "                                    granule_id                  geo_id  \\\n",
       "0  VNP14IMG.A2018152.1948.002.2024080110709.nc  VNP03IMG.A2018152.1948   \n",
       "1  VNP14IMG.A2018152.1948.002.2024080110709.nc  VNP03IMG.A2018152.1948   \n",
       "2  VNP14IMG.A2018152.1948.002.2024080110709.nc  VNP03IMG.A2018152.1948   \n",
       "3  VNP14IMG.A2018152.1948.002.2024080110709.nc  VNP03IMG.A2018152.1948   \n",
       "4  VNP14IMG.A2018152.1948.002.2024080110709.nc  VNP03IMG.A2018152.1948   \n",
       "\n",
       "         frp  ...  afdID  Fire_ID  Fire_Name  START_YEAR      DISCOVERY_DATE  \\\n",
       "0   7.603679  ...    404       14        416        2018 2018-06-01 11:02:00   \n",
       "1  48.685238  ...    405       14        416        2018 2018-06-01 11:02:00   \n",
       "2  25.084015  ...    406       14        416        2018 2018-06-01 11:02:00   \n",
       "3  48.685238  ...    407       14        416        2018 2018-06-01 11:02:00   \n",
       "4  25.084015  ...    408       14        416        2018 2018-06-01 11:02:00   \n",
       "\n",
       "    WF_CESSATION_DATE  acq_month acq_year  obs_count obs_id  \n",
       "0 2018-07-03 18:00:00          6     2018       2906      0  \n",
       "1 2018-07-03 18:00:00          6     2018       2906      1  \n",
       "2 2018-07-03 18:00:00          6     2018       2906      2  \n",
       "3 2018-07-03 18:00:00          6     2018       2906      3  \n",
       "4 2018-07-03 18:00:00          6     2018       2906      4  \n",
       "\n",
       "[5 rows x 28 columns]"
      ]
     },
     "execution_count": 16,
     "metadata": {},
     "output_type": "execute_result"
    }
   ],
   "source": [
    "# Define the pixel buffer function for the given width and height\n",
    "def pixel_area(point, width, height):\n",
    "    half_width = width / 2\n",
    "    half_height = height / 2\n",
    "    return box(\n",
    "        point.x - half_width, point.y - half_height,\n",
    "        point.x + half_width, point.y + half_height\n",
    "    )\n",
    "\n",
    "afds_ll_pix = afds_ll_f.copy()\n",
    "\n",
    "# Apply the buffer function with along_scan and along_track values converted to meters (*1000)\n",
    "afds_ll_pix[\"geometry\"] = afds_ll_pix.apply(\n",
    "    lambda row: pixel_area(row[\"geometry\"], row[\"along_scan\"] * 1000, row[\"along_track\"] * 1000), axis=1\n",
    ")\n",
    "\n",
    "afds_ll_pix = afds_ll_pix.reset_index(drop=True)\n",
    "afds_ll_pix['obs_id'] = afds_ll_pix.index # unique ID column\n",
    "\n",
    "afds_ll_pix.head() # check the results"
   ]
  },
  {
   "cell_type": "code",
   "execution_count": 17,
   "id": "4b7522a5-77cc-408d-9d54-bf51660d36ec",
   "metadata": {},
   "outputs": [
    {
     "name": "stdout",
     "output_type": "stream",
     "text": [
      "Saved to /Users/max/Library/CloudStorage/OneDrive-Personal/mcook/aspen-fire/Aim2/data/spatial/mod/VIIRS/vnp14img_geo_srm_pix_area_aspenfires.gpkg\n",
      "\n"
     ]
    }
   ],
   "source": [
    "# save this file out.\n",
    "out_fp = os.path.join(datamod,'vnp14img_geo_srm_pix_area_aspenfires.gpkg')\n",
    "afds_ll_pix.to_file(out_fp)\n",
    "print(f\"Saved to {out_fp}\\n\")"
   ]
  },
  {
   "cell_type": "code",
   "execution_count": 18,
   "id": "dca44746-57c1-4122-8046-ca2b58c4565b",
   "metadata": {},
   "outputs": [
    {
     "data": {
      "text/plain": [
       "59582"
      ]
     },
     "execution_count": 18,
     "metadata": {},
     "output_type": "execute_result"
    }
   ],
   "source": [
    "len(afds_ll_pix)"
   ]
  },
  {
   "cell_type": "code",
   "execution_count": 19,
   "id": "8daab39e-f3b8-485f-a617-3ae0409b4572",
   "metadata": {},
   "outputs": [
    {
     "data": {
      "text/plain": [
       "Index(['longitude', 'latitude', 'fire_mask', 'confidence', 'daynight',\n",
       "       'acq_date', 'acq_time', 'granule_id', 'geo_id', 'frp', 'iot4', 'iot5',\n",
       "       'sample', 'along_scan', 'along_track', 'scan_angle', 'pix_area',\n",
       "       'geometry', 'afdID', 'Fire_ID', 'Fire_Name', 'START_YEAR',\n",
       "       'DISCOVERY_DATE', 'WF_CESSATION_DATE', 'acq_month', 'acq_year',\n",
       "       'obs_count', 'obs_id'],\n",
       "      dtype='object')"
      ]
     },
     "execution_count": 19,
     "metadata": {},
     "output_type": "execute_result"
    }
   ],
   "source": [
    "afds_ll_pix.columns"
   ]
  },
  {
   "cell_type": "code",
   "execution_count": 20,
   "id": "a940b3cb-7702-48c3-bbf8-397847489dba",
   "metadata": {},
   "outputs": [
    {
     "data": {
      "text/html": [
       "<div>\n",
       "<style scoped>\n",
       "    .dataframe tbody tr th:only-of-type {\n",
       "        vertical-align: middle;\n",
       "    }\n",
       "\n",
       "    .dataframe tbody tr th {\n",
       "        vertical-align: top;\n",
       "    }\n",
       "\n",
       "    .dataframe thead th {\n",
       "        text-align: right;\n",
       "    }\n",
       "</style>\n",
       "<table border=\"1\" class=\"dataframe\">\n",
       "  <thead>\n",
       "    <tr style=\"text-align: right;\">\n",
       "      <th></th>\n",
       "      <th>acq_date</th>\n",
       "      <th>acq_time</th>\n",
       "      <th>acq_datetime</th>\n",
       "      <th>daynight</th>\n",
       "    </tr>\n",
       "  </thead>\n",
       "  <tbody>\n",
       "    <tr>\n",
       "      <th>0</th>\n",
       "      <td>2018-06-01</td>\n",
       "      <td>1948</td>\n",
       "      <td>2018-06-01 13:48:00-06:00</td>\n",
       "      <td>Day</td>\n",
       "    </tr>\n",
       "    <tr>\n",
       "      <th>1</th>\n",
       "      <td>2018-06-01</td>\n",
       "      <td>1948</td>\n",
       "      <td>2018-06-01 13:48:00-06:00</td>\n",
       "      <td>Day</td>\n",
       "    </tr>\n",
       "    <tr>\n",
       "      <th>2</th>\n",
       "      <td>2018-06-01</td>\n",
       "      <td>1948</td>\n",
       "      <td>2018-06-01 13:48:00-06:00</td>\n",
       "      <td>Day</td>\n",
       "    </tr>\n",
       "    <tr>\n",
       "      <th>3</th>\n",
       "      <td>2018-06-01</td>\n",
       "      <td>1948</td>\n",
       "      <td>2018-06-01 13:48:00-06:00</td>\n",
       "      <td>Day</td>\n",
       "    </tr>\n",
       "    <tr>\n",
       "      <th>4</th>\n",
       "      <td>2018-06-01</td>\n",
       "      <td>1948</td>\n",
       "      <td>2018-06-01 13:48:00-06:00</td>\n",
       "      <td>Day</td>\n",
       "    </tr>\n",
       "  </tbody>\n",
       "</table>\n",
       "</div>"
      ],
      "text/plain": [
       "    acq_date  acq_time              acq_datetime daynight\n",
       "0 2018-06-01      1948 2018-06-01 13:48:00-06:00      Day\n",
       "1 2018-06-01      1948 2018-06-01 13:48:00-06:00      Day\n",
       "2 2018-06-01      1948 2018-06-01 13:48:00-06:00      Day\n",
       "3 2018-06-01      1948 2018-06-01 13:48:00-06:00      Day\n",
       "4 2018-06-01      1948 2018-06-01 13:48:00-06:00      Day"
      ]
     },
     "execution_count": 20,
     "metadata": {},
     "output_type": "execute_result"
    }
   ],
   "source": [
    "afds_ll_pix['acq_datetime'] = afds_ll_pix.apply(\n",
    "    lambda row: convert_datetime(row['acq_date'], row['acq_time'], zone='America/Denver'), \n",
    "    axis=1\n",
    ")\n",
    "afds_ll_pix[['acq_date','acq_time','acq_datetime','daynight']].head()"
   ]
  },
  {
   "cell_type": "code",
   "execution_count": 21,
   "id": "b1ae7f7c-be2f-4179-ab96-9145dbc458ba",
   "metadata": {},
   "outputs": [
    {
     "name": "stdout",
     "output_type": "stream",
     "text": [
      "Minimum MST datetime for 'Day': 12:42:00\n",
      "Maximum MST datetime for 'Day': 15:12:00\n"
     ]
    }
   ],
   "source": [
    "# check on nighttime datetimes\n",
    "day_obs = afds_ll_pix[afds_ll_pix['daynight'] == 'Day']\n",
    "day_obs['acq_time_mst'] = day_obs['acq_datetime'].dt.time\n",
    "\n",
    "print(f\"Minimum MST datetime for 'Day': {day_obs['acq_time_mst'].min()}\")\n",
    "print(f\"Maximum MST datetime for 'Day': {day_obs['acq_time_mst'].max()}\")\n",
    "del day_obs"
   ]
  },
  {
   "cell_type": "code",
   "execution_count": 22,
   "id": "3c154fab-3ab9-4d3d-856b-34c2a1fc018d",
   "metadata": {},
   "outputs": [
    {
     "name": "stdout",
     "output_type": "stream",
     "text": [
      "Minimum MST datetime for 'Night': 01:06:00\n",
      "Maximum MST datetime for 'Night': 04:18:00\n"
     ]
    }
   ],
   "source": [
    "# check on nighttime datetimes\n",
    "night_obs = afds_ll_pix[afds_ll_pix['daynight'] == 'Night']\n",
    "night_obs['acq_time_mst'] = night_obs['acq_datetime'].dt.time\n",
    "\n",
    "print(f\"Minimum MST datetime for 'Night': {night_obs['acq_time_mst'].min()}\")\n",
    "print(f\"Maximum MST datetime for 'Night': {night_obs['acq_time_mst'].max()}\")\n",
    "del night_obs"
   ]
  },
  {
   "cell_type": "code",
   "execution_count": null,
   "id": "56f92851-a958-4881-b620-fb98d11a43e9",
   "metadata": {},
   "outputs": [],
   "source": []
  },
  {
   "cell_type": "code",
   "execution_count": null,
   "id": "41e3b924-804a-4b44-b2af-8ff6f756419d",
   "metadata": {},
   "outputs": [],
   "source": []
  },
  {
   "cell_type": "code",
   "execution_count": null,
   "id": "a990b716-51b8-4d18-b160-5ec4c7745f0a",
   "metadata": {},
   "outputs": [],
   "source": [
    "# Handle duplicate observations for AFDs"
   ]
  },
  {
   "cell_type": "code",
   "execution_count": 23,
   "id": "0425f330-757c-471d-b396-a686015083dd",
   "metadata": {},
   "outputs": [
    {
     "name": "stdout",
     "output_type": "stream",
     "text": [
      "Number of unique (Fire_ID, acq_datetime) groups: 1682\n",
      "Identified a total of [7545/59582] duplicate observations.\n"
     ]
    },
    {
     "data": {
      "text/plain": [
       "0"
      ]
     },
     "execution_count": 23,
     "metadata": {},
     "output_type": "execute_result"
    }
   ],
   "source": [
    "# Spatial overlap > 30% and the same acquisition date and time\n",
    "\n",
    "# Find duplicates in space and time\n",
    "drop_obs = set() # to store the observations we want to drop\n",
    "overlap_threshold = 0.30 # spatial overlap (percent)\n",
    "\n",
    "# group the observations by datetime\n",
    "dt_groups = afds_ll_pix.groupby(['Fire_ID','acq_datetime'])\n",
    "print(f\"Number of unique (Fire_ID, acq_datetime) groups: {len(dt_groups)}\")\n",
    "\n",
    "def process_group(group):\n",
    "    drop_obs = set()\n",
    "\n",
    "    # spatial index\n",
    "    sidx = group.sindex\n",
    "\n",
    "    for idx, obs in group.iterrows():\n",
    "        if obs['afdID'] in drop_obs:\n",
    "            continue  # Skip if already marked\n",
    "\n",
    "        # Find overlapping geometries within the group\n",
    "        overlap_idxs = list(sidx.intersection(obs.geometry.bounds))\n",
    "        overlap_obs = group.iloc[overlap_idxs]\n",
    "\n",
    "        for match_idx, match_obs in overlap_obs.iterrows():\n",
    "            if match_obs['afdID'] == obs['afdID'] or match_obs['afdID'] in drop_obs:\n",
    "                continue  # Skip self-comparisons or already processed\n",
    "\n",
    "            # Calculate intersection and overlap ratio\n",
    "            area = obs.geometry.intersection(match_obs.geometry).area\n",
    "            ratio = area / obs.geometry.area\n",
    "\n",
    "            # Check for spatial overlap > threshold\n",
    "            if ratio > overlap_threshold:\n",
    "                if match_obs['frp'] < obs['frp']:\n",
    "                    drop_obs.add(match_obs['afdID'])\n",
    "                else:\n",
    "                    drop_obs.add(obs['afdID'])\n",
    "                    break  # No need to check further for this observation\n",
    "\n",
    "    return drop_obs\n",
    "\n",
    "# Process observations grouped by Fire_ID and acq_datetime\n",
    "for (fire_id, datetime), group in dt_groups:\n",
    "    if len(group) > 1:  # Only process groups with potential duplicates\n",
    "        drop_obs.update(process_group(group))\n",
    "\n",
    "# apply to the AFD ground area data\n",
    "print(f\"Identified a total of [{len(drop_obs)}/{len(afds_ll_pix)}] duplicate observations.\")\n",
    "afds_ll_pix_ = afds_ll_pix[~afds_ll_pix['afdID'].isin(drop_obs)] # drop the duplicate obs.\n",
    "\n",
    "del afds_ll_pix\n",
    "gc.collect()"
   ]
  },
  {
   "cell_type": "code",
   "execution_count": 24,
   "id": "6a01fbb0-4a2e-4164-a0f6-bee2e5e01a4c",
   "metadata": {},
   "outputs": [
    {
     "name": "stdout",
     "output_type": "stream",
     "text": [
      "Saved to:/Users/max/Library/CloudStorage/OneDrive-Personal/mcook/aspen-fire/Aim2/data/spatial/mod/VIIRS/vnp14img_geo_srm_pix_area_aspenfires_.gpkg\n"
     ]
    }
   ],
   "source": [
    "# save this file out.\n",
    "out_fp = os.path.join(datamod, 'vnp14img_geo_srm_pix_area_aspenfires_.gpkg')\n",
    "afds_ll_pix_.to_file(out_fp)\n",
    "print(f\"Saved to:{out_fp}\")"
   ]
  },
  {
   "cell_type": "code",
   "execution_count": 25,
   "id": "b4ea4049-ffa7-48cc-b4e5-834b9ba030e4",
   "metadata": {},
   "outputs": [
    {
     "name": "stdout",
     "output_type": "stream",
     "text": [
      "afdID           int64\n",
      "acq_date       object\n",
      "daynight       object\n",
      "Fire_ID        object\n",
      "Ig_Date        object\n",
      "Last_Date      object\n",
      "geometry     geometry\n",
      "dtype: object\n",
      "Saved to:/Users/max/Library/CloudStorage/OneDrive-Personal/mcook/aspen-fire/Aim2/data/earth-engine/imports/vnp14img_geo_srm_pix_area_aspenfires.shp\n"
     ]
    }
   ],
   "source": [
    "# save a version for GEE\n",
    "afds_ll_pix_gee = afds_ll_pix_.copy()\n",
    "\n",
    "afds_ll_pix_gee.rename(columns={'DISCOVERY_DATE': 'Ig_Date', 'WF_CESSATION_DATE': 'Last_Date'}, inplace=True)\n",
    "afds_ll_pix_gee = afds_ll_pix_gee[['afdID','acq_date','daynight','Fire_ID','Ig_Date','Last_Date','geometry']]\n",
    "afds_ll_pix_gee['acq_date'] = afds_ll_pix_gee['acq_date'].dt.date.astype(str)\n",
    "afds_ll_pix_gee['Ig_Date'] = afds_ll_pix_gee['Ig_Date'].dt.date.astype(str)\n",
    "afds_ll_pix_gee['Last_Date'] = afds_ll_pix_gee['Last_Date'].dt.date.astype(str)\n",
    "\n",
    "print(afds_ll_pix_gee.dtypes)\n",
    "\n",
    "out_fp = os.path.join(projdir, 'data/earth-engine/imports/vnp14img_geo_srm_pix_area_aspenfires.shp')\n",
    "afds_ll_pix_gee.to_file(out_fp)\n",
    "print(f\"Saved to:{out_fp}\")\n",
    "\n",
    "del afds_ll_pix_gee"
   ]
  },
  {
   "cell_type": "code",
   "execution_count": 26,
   "id": "83e84d72-4f43-4510-845d-ea8a8d205296",
   "metadata": {},
   "outputs": [
    {
     "name": "stdout",
     "output_type": "stream",
     "text": [
      "  Fire_ID       Fire_Name Fire_Year     Ig_Date   Last_Date  \\\n",
      "2      14             416      2018  2018-06-01  2018-07-03   \n",
      "4      24         PLATEAU      2018  2018-07-22  2018-08-17   \n",
      "5      26         PLUMTAW      2022  2022-05-17  2022-05-18   \n",
      "6      33      DOE CANYON      2019  2019-06-20  2019-07-03   \n",
      "7      43  CHRIS MOUNTAIN      2023  2023-06-28  2023-07-04   \n",
      "\n",
      "                                            geometry  \n",
      "2  POLYGON ((-1049979.478 1675062.140, -1049943.6...  \n",
      "4  POLYGON ((-1097425.258 1687412.458, -1097411.7...  \n",
      "5  POLYGON ((-972808.959 1648515.784, -972812.086...  \n",
      "6  POLYGON ((-1107281.763 1705185.622, -1107310.1...  \n",
      "7  POLYGON ((-987311.103 1642200.746, -987297.034...  \n",
      "\n",
      "Saved to:/Users/max/Library/CloudStorage/OneDrive-Personal/mcook/aspen-fire/Aim2/data/earth-engine/imports/nifc_aspenfires_2018to2023.shp\n"
     ]
    }
   ],
   "source": [
    "# also save a fire perimeter dataset for GEE\n",
    "fires_ = fires[fires['Fire_ID'].isin(afds_ll_pix_['Fire_ID'])]\n",
    "fires_ = fires_[['Fire_ID','Fire_Name','START_YEAR','DISCOVERY_DATE','WF_CESSATION_DATE','geometry']]\n",
    "fires_.rename(columns={'START_YEAR': 'Fire_Year', 'DISCOVERY_DATE': 'Ig_Date', 'WF_CESSATION_DATE': 'Last_Date'}, inplace=True)\n",
    "fires_['Ig_Date'] = fires_['Ig_Date'].dt.date.astype(str)\n",
    "fires_['Last_Date'] = fires_['Last_Date'].dt.date.astype(str)\n",
    "\n",
    "out_fp = os.path.join(projdir, 'data/earth-engine/imports/nifc_aspenfires_2018to2023.shp')\n",
    "fires_.to_file(out_fp)\n",
    "\n",
    "print(fires_.head())\n",
    "\n",
    "print(f\"\\nSaved to:{out_fp}\")"
   ]
  },
  {
   "cell_type": "code",
   "execution_count": null,
   "id": "7af5e741-e711-492a-93ab-99a8eadf767e",
   "metadata": {},
   "outputs": [],
   "source": []
  },
  {
   "cell_type": "code",
   "execution_count": null,
   "id": "c59d43ec-bfd8-4b67-b304-6de0856f1c9f",
   "metadata": {},
   "outputs": [],
   "source": []
  },
  {
   "cell_type": "code",
   "execution_count": 27,
   "id": "65ec1fe2-21b3-4a45-9928-3d4d047cac03",
   "metadata": {},
   "outputs": [
    {
     "name": "stdout",
     "output_type": "stream",
     "text": [
      "Bounding extent for the SRM: [-1184484.4171543047, -689479.4244799014, 1397166.4988387332, 2246127.1529145916]\n",
      "Grid saved to: /Users/max/Library/CloudStorage/OneDrive-Personal/mcook/aspen-fire/Aim2/data/spatial/mod/srm_fires_grid_375m.gpkg\n"
     ]
    }
   ],
   "source": [
    "# create a regular grid extracted to fire perimeters\n",
    "def regular_grid(extent, res=0.0035, crs_out='EPSG:5070', regions=None):\n",
    "    \"\"\"\n",
    "    Creates a regular-spaced grid\n",
    "    \"\"\"\n",
    "    # retrieve bounding coordinates\n",
    "    min_lon, max_lon, min_lat, max_lat = extent\n",
    "    \n",
    "    # create the grid lines in degrees\n",
    "    x_coords = np.arange(min_lon, max_lon, res)\n",
    "    y_coords = np.arange(min_lat, max_lat, res)\n",
    "\n",
    "    # generate the grid cells\n",
    "    cells = [\n",
    "        Polygon([(x, y), (x + res, y), (x + res, y + res), (x, y + res)])\n",
    "        for x in x_coords for y in y_coords\n",
    "    ]\n",
    "\n",
    "    # create a geodataframe in WGS, reprojected if needed\n",
    "    grid = gpd.GeoDataFrame({'geometry': cells}, crs=crs_out)\n",
    "\n",
    "    if regions is not None:\n",
    "        if regions.crs != grid.crs:\n",
    "            regions = regions.to_crs(grid.crs)\n",
    "        # Perform spatial intersection to keep only grid cells overlapping the polygon\n",
    "        grid = grid[grid.intersects(regions.unary_union)].copy()\n",
    "\n",
    "    return grid\n",
    "    \n",
    "\n",
    "# generate the grid\n",
    "fp = os.path.join(projdir,'data/spatial/raw/boundaries/na_cec_eco_l3_west.gpkg')\n",
    "ecol3 = gpd.read_file(fp)\n",
    "srm = ecol3[ecol3['NA_L3NAME'] == 'Southern Rockies']\n",
    "\n",
    "# get the SRM extent in lat/lon (WGS)\n",
    "coords, extent = get_coords(srm, buffer=3000, crs='EPSG:5070')\n",
    "print(f\"Bounding extent for the SRM: {extent}\")\n",
    "\n",
    "# generate the grid (0.0039 degrees or 375m)\n",
    "grid = regular_grid(extent, res=375, crs_out='EPSG:5070', regions=fires_)\n",
    "\n",
    "# save this out.\n",
    "out_fp = os.path.join(projdir, 'data/spatial/mod/srm_fires_grid_375m.gpkg')\n",
    "grid.to_file(out_fp, driver=\"GPKG\")\n",
    "print(f\"Grid saved to: {out_fp}\")"
   ]
  },
  {
   "cell_type": "code",
   "execution_count": null,
   "id": "0f38cfbb-1c90-49f0-a93e-dc31df24556a",
   "metadata": {},
   "outputs": [],
   "source": []
  },
  {
   "cell_type": "code",
   "execution_count": null,
   "id": "f06f8df4-f905-4492-9a66-1a4c1ff2abed",
   "metadata": {},
   "outputs": [],
   "source": []
  },
  {
   "cell_type": "code",
   "execution_count": null,
   "id": "ded06076-9a24-4e93-8178-4c6847bdd70b",
   "metadata": {},
   "outputs": [],
   "source": []
  },
  {
   "cell_type": "code",
   "execution_count": null,
   "id": "56f2a665-2f17-4bde-919a-3093574a0557",
   "metadata": {},
   "outputs": [],
   "source": [
    "# calculate a gridded cumulative FRP and maximum FRP"
   ]
  },
  {
   "cell_type": "code",
   "execution_count": 28,
   "id": "8e0faeab-f539-4a47-ac93-3933649cc719",
   "metadata": {},
   "outputs": [
    {
     "name": "stdout",
     "output_type": "stream",
     "text": [
      "Aggregating 2492 detections.\n",
      "Number of matches: 13157\n",
      "   grid_index  obs_id        frp  fraction     frp_sc\n",
      "0      917637       0   7.603679  0.145140   1.103599\n",
      "1      917638       0   7.603679  0.125444   0.953838\n",
      "2      919901       0   7.603679  0.385942   2.934582\n",
      "3      919902       0   7.603679  0.333569   2.536352\n",
      "4      922165       0   7.603679  0.005313   0.040395\n",
      "5      922166       0   7.603679  0.004592   0.034913\n",
      "6      917638       1  48.685238  0.138474   6.741657\n",
      "7      917639       1  48.685238  0.205137   9.987130\n",
      "8      919902       1  48.685238  0.264523  12.878366\n",
      "9      919903       1  48.685238  0.391866  19.078086\n",
      "Number of grid cells with aggregated data: 1889\n",
      "   grid_index  frp_cumsum   frp_max doy_max_frp\n",
      "0      822559    0.013384  0.013384  2018-07-05\n",
      "1      822560    0.301194  0.301194  2018-07-05\n",
      "2      822561    0.230308  0.230308  2018-07-05\n",
      "3      824823    0.146238  0.146238  2018-07-05\n",
      "4      824824    3.290989  3.290989  2018-07-05\n",
      "\tTime to complete fire 416: 0.01 minutes.\n",
      "\n",
      "\n",
      "Total elapsed time: 0.01 minutes.\n",
      "\n",
      "\n",
      "~~~~~~~~~~\n",
      "\n",
      "Done!\n"
     ]
    }
   ],
   "source": [
    "# process the fire data\n",
    "t0 = time.time()\n",
    "\n",
    "def aggregate_frp(detections, grid):\n",
    "    \"\"\"\n",
    "    Aggregate fire pixel data into a regular grid using vector overlay.\n",
    "    \"\"\"\n",
    "    grid = grid.reset_index(drop=False).rename(columns={'index': 'grid_index'})\n",
    "    grid['grid_area'] = grid.geometry.area  # precompute grid cell areas\n",
    "    \n",
    "    print(f\"Aggregating {len(detections)} detections.\")\n",
    "    if detections.crs != grid.crs:\n",
    "        detections = detections.to_crs(grid.crs)\n",
    "\n",
    "    detections['pix_area_m2'] = detections['pix_area'] * 1e6\n",
    "    \n",
    "    # identify the overlaps\n",
    "    overlay = gpd.overlay(detections, grid, how='intersection')\n",
    "    print(f\"Number of matches: {len(overlay)}\")\n",
    "\n",
    "    # compute fractional overlap area\n",
    "    overlay['overlap_area'] = overlay.geometry.area\n",
    "    overlay['fraction'] = overlay['overlap_area'] / overlay['pix_area_m2']\n",
    "\n",
    "    # scale FRP by area\n",
    "    overlay['frp_sc'] = overlay['frp'] * overlay['fraction']\n",
    "    print(overlay[['grid_index','obs_id','frp','fraction','frp_sc']].head(10))\n",
    "    \n",
    "    # Aggregate by grid cell\n",
    "    aggregated = overlay.groupby('grid_index').agg(\n",
    "        frp_cumsum=('frp_sc', 'sum'),\n",
    "        frp_max=('frp_sc', 'max'),\n",
    "        doy_max_frp=('acq_date', lambda x: x.iloc[np.argmax(x)]),\n",
    "    ).reset_index()\n",
    "    print(f\"Number of grid cells with aggregated data: {len(aggregated)}\")\n",
    "    print(aggregated.head())\n",
    "\n",
    "    # Join results back to grid\n",
    "    grid = grid.merge(aggregated, on='grid_index', how='right')\n",
    "\n",
    "    # Fill NaN values with 0 for the aggregated columns\n",
    "    grid[['frp_cumsum', 'frp_max', 'doy_max_frp']] = grid[\n",
    "        ['frp_cumsum', 'frp_max', 'doy_max_frp']\n",
    "    ].fillna(0)\n",
    "\n",
    "    return grid\n",
    "\n",
    "\n",
    "# Initialize results list\n",
    "fire_grids = []\n",
    "for _, fire in fires_[0:1].iterrows():\n",
    "    t1 = time.time()\n",
    "    \n",
    "    fire_gdf = gpd.GeoDataFrame([fire], crs=fires_.crs)  # Ensure GeoDataFrame\n",
    "    \n",
    "    # aggregate fire pixels to the grid\n",
    "    fire_grid = aggregate_frp(afds_ll_pix_[afds_ll_pix_['Fire_ID'] == fire['Fire_ID']], grid)\n",
    "    fire_grids.append(fire_grid)\n",
    "\n",
    "    t2 = (time.time() - t1) / 60\n",
    "    print(f\"\\tTime to complete fire {fire['Fire_Name']}: {t2:.2f} minutes.\\n\")\n",
    "\n",
    "# Combine all grids into one\n",
    "fire_data = pd.concat(fire_grids)\n",
    "\n",
    "t3 = (time.time() - t0) / 60\n",
    "print(f\"\\nTotal elapsed time: {t3:.2f} minutes.\\n\")\n",
    "print(\"\\n~~~~~~~~~~\\n\")\n",
    "print(\"Done!\")"
   ]
  },
  {
   "cell_type": "code",
   "execution_count": 29,
   "id": "0f812842-1172-42a4-a4ee-4142f86749a9",
   "metadata": {},
   "outputs": [
    {
     "data": {
      "text/html": [
       "<div>\n",
       "<style scoped>\n",
       "    .dataframe tbody tr th:only-of-type {\n",
       "        vertical-align: middle;\n",
       "    }\n",
       "\n",
       "    .dataframe tbody tr th {\n",
       "        vertical-align: top;\n",
       "    }\n",
       "\n",
       "    .dataframe thead th {\n",
       "        text-align: right;\n",
       "    }\n",
       "</style>\n",
       "<table border=\"1\" class=\"dataframe\">\n",
       "  <thead>\n",
       "    <tr style=\"text-align: right;\">\n",
       "      <th></th>\n",
       "      <th>grid_index</th>\n",
       "      <th>geometry</th>\n",
       "      <th>grid_area</th>\n",
       "      <th>frp_cumsum</th>\n",
       "      <th>frp_max</th>\n",
       "      <th>doy_max_frp</th>\n",
       "    </tr>\n",
       "  </thead>\n",
       "  <tbody>\n",
       "    <tr>\n",
       "      <th>0</th>\n",
       "      <td>822559</td>\n",
       "      <td>POLYGON ((-1048359.417 1669791.499, -1047984.4...</td>\n",
       "      <td>140625.0</td>\n",
       "      <td>0.013384</td>\n",
       "      <td>0.013384</td>\n",
       "      <td>2018-07-05</td>\n",
       "    </tr>\n",
       "    <tr>\n",
       "      <th>1</th>\n",
       "      <td>822560</td>\n",
       "      <td>POLYGON ((-1048359.417 1670166.499, -1047984.4...</td>\n",
       "      <td>140625.0</td>\n",
       "      <td>0.301194</td>\n",
       "      <td>0.301194</td>\n",
       "      <td>2018-07-05</td>\n",
       "    </tr>\n",
       "    <tr>\n",
       "      <th>2</th>\n",
       "      <td>822561</td>\n",
       "      <td>POLYGON ((-1048359.417 1670541.499, -1047984.4...</td>\n",
       "      <td>140625.0</td>\n",
       "      <td>0.230308</td>\n",
       "      <td>0.230308</td>\n",
       "      <td>2018-07-05</td>\n",
       "    </tr>\n",
       "    <tr>\n",
       "      <th>3</th>\n",
       "      <td>824823</td>\n",
       "      <td>POLYGON ((-1047984.417 1669791.499, -1047609.4...</td>\n",
       "      <td>140625.0</td>\n",
       "      <td>0.146238</td>\n",
       "      <td>0.146238</td>\n",
       "      <td>2018-07-05</td>\n",
       "    </tr>\n",
       "    <tr>\n",
       "      <th>4</th>\n",
       "      <td>824824</td>\n",
       "      <td>POLYGON ((-1047984.417 1670166.499, -1047609.4...</td>\n",
       "      <td>140625.0</td>\n",
       "      <td>3.290989</td>\n",
       "      <td>3.290989</td>\n",
       "      <td>2018-07-05</td>\n",
       "    </tr>\n",
       "  </tbody>\n",
       "</table>\n",
       "</div>"
      ],
      "text/plain": [
       "   grid_index                                           geometry  grid_area  \\\n",
       "0      822559  POLYGON ((-1048359.417 1669791.499, -1047984.4...   140625.0   \n",
       "1      822560  POLYGON ((-1048359.417 1670166.499, -1047984.4...   140625.0   \n",
       "2      822561  POLYGON ((-1048359.417 1670541.499, -1047984.4...   140625.0   \n",
       "3      824823  POLYGON ((-1047984.417 1669791.499, -1047609.4...   140625.0   \n",
       "4      824824  POLYGON ((-1047984.417 1670166.499, -1047609.4...   140625.0   \n",
       "\n",
       "   frp_cumsum   frp_max doy_max_frp  \n",
       "0    0.013384  0.013384  2018-07-05  \n",
       "1    0.301194  0.301194  2018-07-05  \n",
       "2    0.230308  0.230308  2018-07-05  \n",
       "3    0.146238  0.146238  2018-07-05  \n",
       "4    3.290989  3.290989  2018-07-05  "
      ]
     },
     "execution_count": 29,
     "metadata": {},
     "output_type": "execute_result"
    }
   ],
   "source": [
    "fire_data.head()"
   ]
  },
  {
   "cell_type": "code",
   "execution_count": 30,
   "id": "2480230a-e8e9-4ef7-b0d3-20a554aa2532",
   "metadata": {},
   "outputs": [
    {
     "data": {
      "text/plain": [
       "grid_index     0\n",
       "geometry       0\n",
       "grid_area      0\n",
       "frp_cumsum     0\n",
       "frp_max        0\n",
       "doy_max_frp    0\n",
       "dtype: int64"
      ]
     },
     "execution_count": 30,
     "metadata": {},
     "output_type": "execute_result"
    }
   ],
   "source": [
    "fire_data.isna().sum()"
   ]
  },
  {
   "cell_type": "code",
   "execution_count": 31,
   "id": "89505499-17b7-417b-a1c1-d032c97cfe1c",
   "metadata": {},
   "outputs": [
    {
     "data": {
      "text/plain": [
       "377.39685275659673"
      ]
     },
     "execution_count": 31,
     "metadata": {},
     "output_type": "execute_result"
    }
   ],
   "source": [
    "fire_data['frp_cumsum'].max()"
   ]
  },
  {
   "cell_type": "code",
   "execution_count": 32,
   "id": "10bf0efa-590c-4b09-824f-1e489991e71d",
   "metadata": {},
   "outputs": [],
   "source": [
    "fire_data['doy_max_frp'] = fire_data['doy_max_frp'].astype(str)\n",
    "fire_data.to_file(os.path.join(datamod,'testing_grid_aggregation.gpkg'))"
   ]
  },
  {
   "cell_type": "code",
   "execution_count": null,
   "id": "aaf0ff37-82e6-440f-bc3b-0ff8df09616d",
   "metadata": {},
   "outputs": [],
   "source": []
  },
  {
   "cell_type": "code",
   "execution_count": null,
   "id": "4c1b196c-ba33-4c01-9f8f-396674d31daf",
   "metadata": {},
   "outputs": [],
   "source": []
  },
  {
   "cell_type": "code",
   "execution_count": null,
   "id": "9a1c269d-3674-40a9-b3c5-431769c4e71c",
   "metadata": {},
   "outputs": [],
   "source": []
  },
  {
   "cell_type": "code",
   "execution_count": null,
   "id": "8e511d72-ff3f-4a20-8a99-69619bc60973",
   "metadata": {},
   "outputs": [],
   "source": []
  },
  {
   "cell_type": "code",
   "execution_count": null,
   "id": "cd32cc0f-ab78-42d6-9282-5eccc1d09f3f",
   "metadata": {},
   "outputs": [],
   "source": [
    "# Compare with non-geolocated data"
   ]
  },
  {
   "cell_type": "code",
   "execution_count": 44,
   "id": "1568849b-98c5-473b-b1e3-d8ab879cb727",
   "metadata": {},
   "outputs": [
    {
     "data": {
      "text/plain": [
       "1"
      ]
     },
     "execution_count": 44,
     "metadata": {},
     "output_type": "execute_result"
    }
   ],
   "source": [
    "fire416 = fires_[fires_['Fire_Name'] == '416']\n",
    "len(fire416)"
   ]
  },
  {
   "cell_type": "code",
   "execution_count": 45,
   "id": "e5f6830f-2058-4293-8e83-195502641fe4",
   "metadata": {},
   "outputs": [
    {
     "name": "stdout",
     "output_type": "stream",
     "text": [
      "61124\n"
     ]
    },
    {
     "data": {
      "text/html": [
       "<div>\n",
       "<style scoped>\n",
       "    .dataframe tbody tr th:only-of-type {\n",
       "        vertical-align: middle;\n",
       "    }\n",
       "\n",
       "    .dataframe tbody tr th {\n",
       "        vertical-align: top;\n",
       "    }\n",
       "\n",
       "    .dataframe thead th {\n",
       "        text-align: right;\n",
       "    }\n",
       "</style>\n",
       "<table border=\"1\" class=\"dataframe\">\n",
       "  <thead>\n",
       "    <tr style=\"text-align: right;\">\n",
       "      <th></th>\n",
       "      <th>Unnamed: 0</th>\n",
       "      <th>longitude</th>\n",
       "      <th>latitude</th>\n",
       "      <th>fire_mask</th>\n",
       "      <th>confidence</th>\n",
       "      <th>frp</th>\n",
       "      <th>acq_date</th>\n",
       "      <th>acq_time</th>\n",
       "      <th>daynight</th>\n",
       "      <th>satellite</th>\n",
       "      <th>short_name</th>\n",
       "      <th>granule_id</th>\n",
       "      <th>geo_id</th>\n",
       "      <th>sample</th>\n",
       "      <th>along_scan</th>\n",
       "      <th>along_track</th>\n",
       "      <th>scan_angle</th>\n",
       "      <th>pix_area</th>\n",
       "    </tr>\n",
       "  </thead>\n",
       "  <tbody>\n",
       "    <tr>\n",
       "      <th>0</th>\n",
       "      <td>0</td>\n",
       "      <td>-81.789650</td>\n",
       "      <td>29.157127</td>\n",
       "      <td>7</td>\n",
       "      <td>l</td>\n",
       "      <td>8.717953</td>\n",
       "      <td>6/1/2018</td>\n",
       "      <td>1854</td>\n",
       "      <td>Day</td>\n",
       "      <td>JPSS-1</td>\n",
       "      <td>VJ114IMG</td>\n",
       "      <td>VJ114IMG.A2018152.1854.002.2024007123441.nc</td>\n",
       "      <td>VJ103IMG.A2018152.1854.021.2021041034844.nc</td>\n",
       "      <td>1992</td>\n",
       "      <td>0.386993</td>\n",
       "      <td>0.436507</td>\n",
       "      <td>32.0140</td>\n",
       "      <td>0.168925</td>\n",
       "    </tr>\n",
       "    <tr>\n",
       "      <th>1</th>\n",
       "      <td>1</td>\n",
       "      <td>-92.443000</td>\n",
       "      <td>27.546436</td>\n",
       "      <td>8</td>\n",
       "      <td>n</td>\n",
       "      <td>4.332225</td>\n",
       "      <td>6/1/2018</td>\n",
       "      <td>1854</td>\n",
       "      <td>Day</td>\n",
       "      <td>JPSS-1</td>\n",
       "      <td>VJ114IMG</td>\n",
       "      <td>VJ114IMG.A2018152.1854.002.2024007123441.nc</td>\n",
       "      <td>VJ103IMG.A2018152.1854.021.2021041034844.nc</td>\n",
       "      <td>4388</td>\n",
       "      <td>0.383294</td>\n",
       "      <td>0.434600</td>\n",
       "      <td>31.6760</td>\n",
       "      <td>0.166580</td>\n",
       "    </tr>\n",
       "    <tr>\n",
       "      <th>2</th>\n",
       "      <td>2</td>\n",
       "      <td>-82.821520</td>\n",
       "      <td>29.951992</td>\n",
       "      <td>8</td>\n",
       "      <td>n</td>\n",
       "      <td>4.513534</td>\n",
       "      <td>6/1/2018</td>\n",
       "      <td>1854</td>\n",
       "      <td>Day</td>\n",
       "      <td>JPSS-1</td>\n",
       "      <td>VJ114IMG</td>\n",
       "      <td>VJ114IMG.A2018152.1854.002.2024007123441.nc</td>\n",
       "      <td>VJ103IMG.A2018152.1854.021.2021041034844.nc</td>\n",
       "      <td>2146</td>\n",
       "      <td>0.524168</td>\n",
       "      <td>0.416594</td>\n",
       "      <td>28.1189</td>\n",
       "      <td>0.218365</td>\n",
       "    </tr>\n",
       "    <tr>\n",
       "      <th>3</th>\n",
       "      <td>3</td>\n",
       "      <td>-82.972664</td>\n",
       "      <td>30.057590</td>\n",
       "      <td>8</td>\n",
       "      <td>n</td>\n",
       "      <td>5.128933</td>\n",
       "      <td>6/1/2018</td>\n",
       "      <td>1854</td>\n",
       "      <td>Day</td>\n",
       "      <td>JPSS-1</td>\n",
       "      <td>VJ114IMG</td>\n",
       "      <td>VJ114IMG.A2018152.1854.002.2024007123441.nc</td>\n",
       "      <td>VJ103IMG.A2018152.1854.021.2021041034844.nc</td>\n",
       "      <td>2169</td>\n",
       "      <td>0.516652</td>\n",
       "      <td>0.413837</td>\n",
       "      <td>27.5053</td>\n",
       "      <td>0.213810</td>\n",
       "    </tr>\n",
       "    <tr>\n",
       "      <th>4</th>\n",
       "      <td>4</td>\n",
       "      <td>-82.973250</td>\n",
       "      <td>30.061384</td>\n",
       "      <td>8</td>\n",
       "      <td>n</td>\n",
       "      <td>12.627224</td>\n",
       "      <td>6/1/2018</td>\n",
       "      <td>1854</td>\n",
       "      <td>Day</td>\n",
       "      <td>JPSS-1</td>\n",
       "      <td>VJ114IMG</td>\n",
       "      <td>VJ114IMG.A2018152.1854.002.2024007123441.nc</td>\n",
       "      <td>VJ103IMG.A2018152.1854.021.2021041034844.nc</td>\n",
       "      <td>2169</td>\n",
       "      <td>0.516652</td>\n",
       "      <td>0.413837</td>\n",
       "      <td>27.5053</td>\n",
       "      <td>0.213810</td>\n",
       "    </tr>\n",
       "  </tbody>\n",
       "</table>\n",
       "</div>"
      ],
      "text/plain": [
       "   Unnamed: 0  longitude   latitude  fire_mask confidence        frp  \\\n",
       "0           0 -81.789650  29.157127          7          l   8.717953   \n",
       "1           1 -92.443000  27.546436          8          n   4.332225   \n",
       "2           2 -82.821520  29.951992          8          n   4.513534   \n",
       "3           3 -82.972664  30.057590          8          n   5.128933   \n",
       "4           4 -82.973250  30.061384          8          n  12.627224   \n",
       "\n",
       "   acq_date  acq_time daynight satellite short_name  \\\n",
       "0  6/1/2018      1854      Day    JPSS-1   VJ114IMG   \n",
       "1  6/1/2018      1854      Day    JPSS-1   VJ114IMG   \n",
       "2  6/1/2018      1854      Day    JPSS-1   VJ114IMG   \n",
       "3  6/1/2018      1854      Day    JPSS-1   VJ114IMG   \n",
       "4  6/1/2018      1854      Day    JPSS-1   VJ114IMG   \n",
       "\n",
       "                                    granule_id  \\\n",
       "0  VJ114IMG.A2018152.1854.002.2024007123441.nc   \n",
       "1  VJ114IMG.A2018152.1854.002.2024007123441.nc   \n",
       "2  VJ114IMG.A2018152.1854.002.2024007123441.nc   \n",
       "3  VJ114IMG.A2018152.1854.002.2024007123441.nc   \n",
       "4  VJ114IMG.A2018152.1854.002.2024007123441.nc   \n",
       "\n",
       "                                        geo_id  sample  along_scan  \\\n",
       "0  VJ103IMG.A2018152.1854.021.2021041034844.nc    1992    0.386993   \n",
       "1  VJ103IMG.A2018152.1854.021.2021041034844.nc    4388    0.383294   \n",
       "2  VJ103IMG.A2018152.1854.021.2021041034844.nc    2146    0.524168   \n",
       "3  VJ103IMG.A2018152.1854.021.2021041034844.nc    2169    0.516652   \n",
       "4  VJ103IMG.A2018152.1854.021.2021041034844.nc    2169    0.516652   \n",
       "\n",
       "   along_track  scan_angle  pix_area  \n",
       "0     0.436507     32.0140  0.168925  \n",
       "1     0.434600     31.6760  0.166580  \n",
       "2     0.416594     28.1189  0.218365  \n",
       "3     0.413837     27.5053  0.213810  \n",
       "4     0.413837     27.5053  0.213810  "
      ]
     },
     "execution_count": 45,
     "metadata": {},
     "output_type": "execute_result"
    }
   ],
   "source": [
    "afds416 = os.path.join(datamod,'afds_testing_416.csv')\n",
    "afds416 = pd.read_csv(afds416)\n",
    "print(len(afds416))\n",
    "afds416.head()"
   ]
  },
  {
   "cell_type": "code",
   "execution_count": 46,
   "id": "5404f15c-b512-451d-b5a8-622c3848aa5a",
   "metadata": {},
   "outputs": [
    {
     "data": {
      "text/plain": [
       "30942"
      ]
     },
     "execution_count": 46,
     "metadata": {},
     "output_type": "execute_result"
    }
   ],
   "source": [
    "afds416 = afds416[afds416['short_name'] == 'VNP14IMG']\n",
    "len(afds416)"
   ]
  },
  {
   "cell_type": "code",
   "execution_count": 47,
   "id": "3998f919-241e-4b34-b633-90c1f30d9de8",
   "metadata": {},
   "outputs": [
    {
     "name": "stdout",
     "output_type": "stream",
     "text": [
      "Dropped [2305] low-confidence obs.\n"
     ]
    }
   ],
   "source": [
    "# drop low confidence detections\n",
    "N= len(afds416)\n",
    "afds416 = afds416[afds416['confidence'] != 'l']\n",
    "print(f\"Dropped [{N-len(afds416)}] low-confidence obs.\")"
   ]
  },
  {
   "cell_type": "code",
   "execution_count": 48,
   "id": "e4514317-c6a2-484a-977d-65139928a773",
   "metadata": {},
   "outputs": [
    {
     "name": "stdout",
     "output_type": "stream",
     "text": [
      "   Unnamed: 0  longitude   latitude  fire_mask confidence         frp  \\\n",
      "0         332  -92.08672  37.668890          8          n    2.578065   \n",
      "1         333 -108.65426  35.555725          8          n    5.624754   \n",
      "2         335 -104.98010  36.500410          9          h   79.036330   \n",
      "3         337 -104.96744  36.506233          9          h  140.050020   \n",
      "4         338 -104.97194  36.505440          9          h   73.050160   \n",
      "\n",
      "   acq_date  acq_time daynight  satellite short_name  \\\n",
      "0  6/1/2018      1948      Day  SUOMI-NPP   VNP14IMG   \n",
      "1  6/1/2018      1948      Day  SUOMI-NPP   VNP14IMG   \n",
      "2  6/1/2018      1948      Day  SUOMI-NPP   VNP14IMG   \n",
      "3  6/1/2018      1948      Day  SUOMI-NPP   VNP14IMG   \n",
      "4  6/1/2018      1948      Day  SUOMI-NPP   VNP14IMG   \n",
      "\n",
      "                                    granule_id  \\\n",
      "0  VNP14IMG.A2018152.1948.002.2024080110709.nc   \n",
      "1  VNP14IMG.A2018152.1948.002.2024080110709.nc   \n",
      "2  VNP14IMG.A2018152.1948.002.2024080110709.nc   \n",
      "3  VNP14IMG.A2018152.1948.002.2024080110709.nc   \n",
      "4  VNP14IMG.A2018152.1948.002.2024080110709.nc   \n",
      "\n",
      "                                        geo_id  sample  along_scan  \\\n",
      "0  VNP03IMG.A2018152.1948.002.2021082142031.nc    1220    0.327044   \n",
      "1  VNP03IMG.A2018152.1948.002.2021082142031.nc    4530    0.413363   \n",
      "2  VNP03IMG.A2018152.1948.002.2021082142031.nc    3792    0.421696   \n",
      "3  VNP03IMG.A2018152.1948.002.2021082142031.nc    3789    0.421289   \n",
      "4  VNP03IMG.A2018152.1948.002.2021082142031.nc    3790    0.421424   \n",
      "\n",
      "   along_track  scan_angle  pix_area                          geometry  afdID  \n",
      "0     0.550814     45.2108  0.180140    POINT (341813.774 1632753.217)      0  \n",
      "1     0.449770     34.2016  0.185918  POINT (-1133788.896 1464592.190)      1  \n",
      "2     0.376659     15.8202  0.158836   POINT (-795794.208 1532411.774)      2  \n",
      "3     0.376489     15.7402  0.158611   POINT (-794614.183 1532955.226)      3  \n",
      "4     0.376546     15.7669  0.158686   POINT (-795020.122 1532904.426)      4  \n",
      "2900\n"
     ]
    }
   ],
   "source": [
    "from shapely.geometry import Point\n",
    "\n",
    "# convert to spatial points using pixel centroid\n",
    "afds416['geometry'] = [Point(xy) for xy in zip(afds416.longitude, afds416.latitude)]\n",
    "afds_ll416 = gpd.GeoDataFrame(afds416, geometry='geometry', crs=\"EPSG:4326\")\n",
    "afds_ll416 = afds_ll416.to_crs(\"EPSG:5070\")\n",
    "afds_ll416 = afds_ll416.reset_index(drop=True)\n",
    "afds_ll416['afdID'] = afds_ll416.index # add a unique ID\n",
    "print(afds_ll416.head())\n",
    "\n",
    "afds_ll416 = gpd.sjoin(afds_ll416, fire416, how='inner', predicate='within')\n",
    "afds_ll416.drop(columns=['index_right'], inplace=True)\n",
    "print(len(afds_ll416))"
   ]
  },
  {
   "cell_type": "code",
   "execution_count": 39,
   "id": "a81309f9-c0c1-4fd6-b969-b80808d763a5",
   "metadata": {},
   "outputs": [],
   "source": [
    "afds_ll416.to_file(os.path.join(datamod,'afds_testing_416.gpkg'))"
   ]
  },
  {
   "cell_type": "code",
   "execution_count": 49,
   "id": "2640eb0d-7c2d-472b-b0cf-afef172b3b38",
   "metadata": {},
   "outputs": [
    {
     "data": {
      "text/html": [
       "<div>\n",
       "<style scoped>\n",
       "    .dataframe tbody tr th:only-of-type {\n",
       "        vertical-align: middle;\n",
       "    }\n",
       "\n",
       "    .dataframe tbody tr th {\n",
       "        vertical-align: top;\n",
       "    }\n",
       "\n",
       "    .dataframe thead th {\n",
       "        text-align: right;\n",
       "    }\n",
       "</style>\n",
       "<table border=\"1\" class=\"dataframe\">\n",
       "  <thead>\n",
       "    <tr style=\"text-align: right;\">\n",
       "      <th></th>\n",
       "      <th>Unnamed: 0</th>\n",
       "      <th>longitude</th>\n",
       "      <th>latitude</th>\n",
       "      <th>fire_mask</th>\n",
       "      <th>confidence</th>\n",
       "      <th>frp</th>\n",
       "      <th>acq_date</th>\n",
       "      <th>acq_time</th>\n",
       "      <th>daynight</th>\n",
       "      <th>satellite</th>\n",
       "      <th>...</th>\n",
       "      <th>scan_angle</th>\n",
       "      <th>pix_area</th>\n",
       "      <th>geometry</th>\n",
       "      <th>afdID</th>\n",
       "      <th>Fire_ID</th>\n",
       "      <th>Fire_Name</th>\n",
       "      <th>Fire_Year</th>\n",
       "      <th>Ig_Date</th>\n",
       "      <th>Last_Date</th>\n",
       "      <th>obs_id</th>\n",
       "    </tr>\n",
       "  </thead>\n",
       "  <tbody>\n",
       "    <tr>\n",
       "      <th>0</th>\n",
       "      <td>478</td>\n",
       "      <td>-107.809900</td>\n",
       "      <td>37.458965</td>\n",
       "      <td>8</td>\n",
       "      <td>n</td>\n",
       "      <td>7.603679</td>\n",
       "      <td>6/1/2018</td>\n",
       "      <td>1948</td>\n",
       "      <td>Day</td>\n",
       "      <td>SUOMI-NPP</td>\n",
       "      <td>...</td>\n",
       "      <td>27.8788</td>\n",
       "      <td>0.216555</td>\n",
       "      <td>POLYGON ((-1031854.255 1666193.625, -1031854.2...</td>\n",
       "      <td>81</td>\n",
       "      <td>14</td>\n",
       "      <td>416</td>\n",
       "      <td>2018</td>\n",
       "      <td>2018-06-01</td>\n",
       "      <td>2018-07-03</td>\n",
       "      <td>0</td>\n",
       "    </tr>\n",
       "    <tr>\n",
       "      <th>1</th>\n",
       "      <td>479</td>\n",
       "      <td>-107.810940</td>\n",
       "      <td>37.462734</td>\n",
       "      <td>9</td>\n",
       "      <td>h</td>\n",
       "      <td>48.685238</td>\n",
       "      <td>6/1/2018</td>\n",
       "      <td>1948</td>\n",
       "      <td>Day</td>\n",
       "      <td>SUOMI-NPP</td>\n",
       "      <td>...</td>\n",
       "      <td>27.8788</td>\n",
       "      <td>0.216555</td>\n",
       "      <td>POLYGON ((-1031892.316 1666624.052, -1031892.3...</td>\n",
       "      <td>82</td>\n",
       "      <td>14</td>\n",
       "      <td>416</td>\n",
       "      <td>2018</td>\n",
       "      <td>2018-06-01</td>\n",
       "      <td>2018-07-03</td>\n",
       "      <td>1</td>\n",
       "    </tr>\n",
       "    <tr>\n",
       "      <th>2</th>\n",
       "      <td>480</td>\n",
       "      <td>-107.820670</td>\n",
       "      <td>37.460793</td>\n",
       "      <td>8</td>\n",
       "      <td>n</td>\n",
       "      <td>25.084015</td>\n",
       "      <td>6/1/2018</td>\n",
       "      <td>1948</td>\n",
       "      <td>Day</td>\n",
       "      <td>SUOMI-NPP</td>\n",
       "      <td>...</td>\n",
       "      <td>27.9322</td>\n",
       "      <td>0.216954</td>\n",
       "      <td>POLYGON ((-1032764.880 1666513.807, -1032764.8...</td>\n",
       "      <td>83</td>\n",
       "      <td>14</td>\n",
       "      <td>416</td>\n",
       "      <td>2018</td>\n",
       "      <td>2018-06-01</td>\n",
       "      <td>2018-07-03</td>\n",
       "      <td>2</td>\n",
       "    </tr>\n",
       "    <tr>\n",
       "      <th>3</th>\n",
       "      <td>482</td>\n",
       "      <td>-107.816840</td>\n",
       "      <td>37.465534</td>\n",
       "      <td>9</td>\n",
       "      <td>h</td>\n",
       "      <td>48.685238</td>\n",
       "      <td>6/1/2018</td>\n",
       "      <td>1948</td>\n",
       "      <td>Day</td>\n",
       "      <td>SUOMI-NPP</td>\n",
       "      <td>...</td>\n",
       "      <td>27.9055</td>\n",
       "      <td>0.216755</td>\n",
       "      <td>POLYGON ((-1032366.169 1666999.460, -1032366.1...</td>\n",
       "      <td>84</td>\n",
       "      <td>14</td>\n",
       "      <td>416</td>\n",
       "      <td>2018</td>\n",
       "      <td>2018-06-01</td>\n",
       "      <td>2018-07-03</td>\n",
       "      <td>3</td>\n",
       "    </tr>\n",
       "    <tr>\n",
       "      <th>4</th>\n",
       "      <td>483</td>\n",
       "      <td>-107.821754</td>\n",
       "      <td>37.464558</td>\n",
       "      <td>8</td>\n",
       "      <td>n</td>\n",
       "      <td>25.084015</td>\n",
       "      <td>6/1/2018</td>\n",
       "      <td>1948</td>\n",
       "      <td>Day</td>\n",
       "      <td>SUOMI-NPP</td>\n",
       "      <td>...</td>\n",
       "      <td>27.9322</td>\n",
       "      <td>0.216954</td>\n",
       "      <td>POLYGON ((-1032806.771 1666944.272, -1032806.7...</td>\n",
       "      <td>85</td>\n",
       "      <td>14</td>\n",
       "      <td>416</td>\n",
       "      <td>2018</td>\n",
       "      <td>2018-06-01</td>\n",
       "      <td>2018-07-03</td>\n",
       "      <td>4</td>\n",
       "    </tr>\n",
       "  </tbody>\n",
       "</table>\n",
       "<p>5 rows × 26 columns</p>\n",
       "</div>"
      ],
      "text/plain": [
       "   Unnamed: 0   longitude   latitude  fire_mask confidence        frp  \\\n",
       "0         478 -107.809900  37.458965          8          n   7.603679   \n",
       "1         479 -107.810940  37.462734          9          h  48.685238   \n",
       "2         480 -107.820670  37.460793          8          n  25.084015   \n",
       "3         482 -107.816840  37.465534          9          h  48.685238   \n",
       "4         483 -107.821754  37.464558          8          n  25.084015   \n",
       "\n",
       "   acq_date  acq_time daynight  satellite  ... scan_angle  pix_area  \\\n",
       "0  6/1/2018      1948      Day  SUOMI-NPP  ...    27.8788  0.216555   \n",
       "1  6/1/2018      1948      Day  SUOMI-NPP  ...    27.8788  0.216555   \n",
       "2  6/1/2018      1948      Day  SUOMI-NPP  ...    27.9322  0.216954   \n",
       "3  6/1/2018      1948      Day  SUOMI-NPP  ...    27.9055  0.216755   \n",
       "4  6/1/2018      1948      Day  SUOMI-NPP  ...    27.9322  0.216954   \n",
       "\n",
       "                                            geometry  afdID  Fire_ID  \\\n",
       "0  POLYGON ((-1031854.255 1666193.625, -1031854.2...     81       14   \n",
       "1  POLYGON ((-1031892.316 1666624.052, -1031892.3...     82       14   \n",
       "2  POLYGON ((-1032764.880 1666513.807, -1032764.8...     83       14   \n",
       "3  POLYGON ((-1032366.169 1666999.460, -1032366.1...     84       14   \n",
       "4  POLYGON ((-1032806.771 1666944.272, -1032806.7...     85       14   \n",
       "\n",
       "   Fire_Name  Fire_Year     Ig_Date   Last_Date  obs_id  \n",
       "0        416       2018  2018-06-01  2018-07-03       0  \n",
       "1        416       2018  2018-06-01  2018-07-03       1  \n",
       "2        416       2018  2018-06-01  2018-07-03       2  \n",
       "3        416       2018  2018-06-01  2018-07-03       3  \n",
       "4        416       2018  2018-06-01  2018-07-03       4  \n",
       "\n",
       "[5 rows x 26 columns]"
      ]
     },
     "execution_count": 49,
     "metadata": {},
     "output_type": "execute_result"
    }
   ],
   "source": [
    "# Define the pixel buffer function for the given width and height\n",
    "def pixel_area(point, width, height):\n",
    "    half_width = width / 2\n",
    "    half_height = height / 2\n",
    "    return box(\n",
    "        point.x - half_width, point.y - half_height,\n",
    "        point.x + half_width, point.y + half_height\n",
    "    )\n",
    "\n",
    "afds_ll_pix416 = afds_ll416.copy()\n",
    "\n",
    "# Apply the buffer function with along_scan and along_track values converted to meters (*1000)\n",
    "afds_ll_pix416[\"geometry\"] = afds_ll_pix416.apply(\n",
    "    lambda row: pixel_area(row[\"geometry\"], row[\"along_scan\"] * 1000, row[\"along_track\"] * 1000), axis=1\n",
    ")\n",
    "\n",
    "afds_ll_pix416 = afds_ll_pix416.reset_index(drop=True)\n",
    "afds_ll_pix416['obs_id'] = afds_ll_pix416.index # unique ID column\n",
    "\n",
    "afds_ll_pix416.head() # check the results"
   ]
  },
  {
   "cell_type": "code",
   "execution_count": 50,
   "id": "493ab53d-b6f2-4330-ac53-05a582d6b32f",
   "metadata": {},
   "outputs": [
    {
     "data": {
      "text/html": [
       "<div>\n",
       "<style scoped>\n",
       "    .dataframe tbody tr th:only-of-type {\n",
       "        vertical-align: middle;\n",
       "    }\n",
       "\n",
       "    .dataframe tbody tr th {\n",
       "        vertical-align: top;\n",
       "    }\n",
       "\n",
       "    .dataframe thead th {\n",
       "        text-align: right;\n",
       "    }\n",
       "</style>\n",
       "<table border=\"1\" class=\"dataframe\">\n",
       "  <thead>\n",
       "    <tr style=\"text-align: right;\">\n",
       "      <th></th>\n",
       "      <th>acq_date</th>\n",
       "      <th>acq_time</th>\n",
       "      <th>acq_datetime</th>\n",
       "      <th>daynight</th>\n",
       "    </tr>\n",
       "  </thead>\n",
       "  <tbody>\n",
       "    <tr>\n",
       "      <th>0</th>\n",
       "      <td>6/1/2018</td>\n",
       "      <td>1948</td>\n",
       "      <td>2018-06-01 13:48:00-06:00</td>\n",
       "      <td>Day</td>\n",
       "    </tr>\n",
       "    <tr>\n",
       "      <th>1</th>\n",
       "      <td>6/1/2018</td>\n",
       "      <td>1948</td>\n",
       "      <td>2018-06-01 13:48:00-06:00</td>\n",
       "      <td>Day</td>\n",
       "    </tr>\n",
       "    <tr>\n",
       "      <th>2</th>\n",
       "      <td>6/1/2018</td>\n",
       "      <td>1948</td>\n",
       "      <td>2018-06-01 13:48:00-06:00</td>\n",
       "      <td>Day</td>\n",
       "    </tr>\n",
       "    <tr>\n",
       "      <th>3</th>\n",
       "      <td>6/1/2018</td>\n",
       "      <td>1948</td>\n",
       "      <td>2018-06-01 13:48:00-06:00</td>\n",
       "      <td>Day</td>\n",
       "    </tr>\n",
       "    <tr>\n",
       "      <th>4</th>\n",
       "      <td>6/1/2018</td>\n",
       "      <td>1948</td>\n",
       "      <td>2018-06-01 13:48:00-06:00</td>\n",
       "      <td>Day</td>\n",
       "    </tr>\n",
       "  </tbody>\n",
       "</table>\n",
       "</div>"
      ],
      "text/plain": [
       "   acq_date  acq_time              acq_datetime daynight\n",
       "0  6/1/2018      1948 2018-06-01 13:48:00-06:00      Day\n",
       "1  6/1/2018      1948 2018-06-01 13:48:00-06:00      Day\n",
       "2  6/1/2018      1948 2018-06-01 13:48:00-06:00      Day\n",
       "3  6/1/2018      1948 2018-06-01 13:48:00-06:00      Day\n",
       "4  6/1/2018      1948 2018-06-01 13:48:00-06:00      Day"
      ]
     },
     "execution_count": 50,
     "metadata": {},
     "output_type": "execute_result"
    }
   ],
   "source": [
    "afds_ll_pix416['acq_datetime'] = afds_ll_pix416.apply(\n",
    "    lambda row: convert_datetime(row['acq_date'], row['acq_time'], zone='America/Denver'), \n",
    "    axis=1\n",
    ")\n",
    "afds_ll_pix416[['acq_date','acq_time','acq_datetime','daynight']].head()"
   ]
  },
  {
   "cell_type": "code",
   "execution_count": 51,
   "id": "5178a67e-6969-4d58-9774-774431f2d7f1",
   "metadata": {},
   "outputs": [
    {
     "data": {
      "text/plain": [
       "Index(['Unnamed: 0', 'longitude', 'latitude', 'fire_mask', 'confidence', 'frp',\n",
       "       'acq_date', 'acq_time', 'daynight', 'satellite', 'short_name',\n",
       "       'granule_id', 'geo_id', 'sample', 'along_scan', 'along_track',\n",
       "       'scan_angle', 'pix_area', 'geometry', 'afdID', 'Fire_ID', 'Fire_Name',\n",
       "       'Fire_Year', 'Ig_Date', 'Last_Date', 'obs_id', 'acq_datetime'],\n",
       "      dtype='object')"
      ]
     },
     "execution_count": 51,
     "metadata": {},
     "output_type": "execute_result"
    }
   ],
   "source": [
    "afds_ll_pix416.columns"
   ]
  },
  {
   "cell_type": "code",
   "execution_count": 52,
   "id": "93e98a76-52eb-4fb1-964c-d251ce19c1fc",
   "metadata": {},
   "outputs": [
    {
     "name": "stdout",
     "output_type": "stream",
     "text": [
      "Number of unique (Fire_ID, acq_datetime) groups: 71\n",
      "Identified a total of [412/2900] duplicate observations.\n"
     ]
    },
    {
     "data": {
      "text/plain": [
       "0"
      ]
     },
     "execution_count": 52,
     "metadata": {},
     "output_type": "execute_result"
    }
   ],
   "source": [
    "# Spatial overlap > 30% and the same acquisition date and time\n",
    "\n",
    "# Find duplicates in space and time\n",
    "drop_obs = set() # to store the observations we want to drop\n",
    "overlap_threshold = 0.30 # spatial overlap (percent)\n",
    "\n",
    "# group the observations by datetime\n",
    "dt_groups = afds_ll_pix416.groupby(['Fire_ID','acq_datetime'])\n",
    "print(f\"Number of unique (Fire_ID, acq_datetime) groups: {len(dt_groups)}\")\n",
    "\n",
    "def process_group(group):\n",
    "    drop_obs = set()\n",
    "\n",
    "    # spatial index\n",
    "    sidx = group.sindex\n",
    "\n",
    "    for idx, obs in group.iterrows():\n",
    "        if obs['afdID'] in drop_obs:\n",
    "            continue  # Skip if already marked\n",
    "\n",
    "        # Find overlapping geometries within the group\n",
    "        overlap_idxs = list(sidx.intersection(obs.geometry.bounds))\n",
    "        overlap_obs = group.iloc[overlap_idxs]\n",
    "\n",
    "        for match_idx, match_obs in overlap_obs.iterrows():\n",
    "            if match_obs['afdID'] == obs['afdID'] or match_obs['afdID'] in drop_obs:\n",
    "                continue  # Skip self-comparisons or already processed\n",
    "\n",
    "            # Calculate intersection and overlap ratio\n",
    "            area = obs.geometry.intersection(match_obs.geometry).area\n",
    "            ratio = area / obs.geometry.area\n",
    "\n",
    "            # Check for spatial overlap > threshold\n",
    "            if ratio > overlap_threshold:\n",
    "                if match_obs['frp'] < obs['frp']:\n",
    "                    drop_obs.add(match_obs['afdID'])\n",
    "                else:\n",
    "                    drop_obs.add(obs['afdID'])\n",
    "                    break  # No need to check further for this observation\n",
    "\n",
    "    return drop_obs\n",
    "\n",
    "# Process observations grouped by Fire_ID and acq_datetime\n",
    "for (fire_id, datetime), group in dt_groups:\n",
    "    if len(group) > 1:  # Only process groups with potential duplicates\n",
    "        drop_obs.update(process_group(group))\n",
    "\n",
    "# apply to the AFD ground area data\n",
    "print(f\"Identified a total of [{len(drop_obs)}/{len(afds_ll_pix416)}] duplicate observations.\")\n",
    "afds_ll_pix416_ = afds_ll_pix416[~afds_ll_pix416['afdID'].isin(drop_obs)] # drop the duplicate obs.\n",
    "\n",
    "del afds_ll_pix416\n",
    "gc.collect()"
   ]
  },
  {
   "cell_type": "code",
   "execution_count": 53,
   "id": "ac487aca-6e6c-4e96-96c7-970a13529483",
   "metadata": {},
   "outputs": [
    {
     "name": "stdout",
     "output_type": "stream",
     "text": [
      "Aggregating 2488 detections.\n",
      "Number of matches: 13141\n",
      "   grid_index  obs_id        frp  fraction     frp_sc\n",
      "0      917637       0   7.603679  0.145140   1.103599\n",
      "1      917638       0   7.603679  0.125444   0.953838\n",
      "2      919901       0   7.603679  0.385942   2.934582\n",
      "3      919902       0   7.603679  0.333569   2.536352\n",
      "4      922165       0   7.603679  0.005313   0.040395\n",
      "5      922166       0   7.603679  0.004592   0.034913\n",
      "6      917638       1  48.685238  0.138474   6.741657\n",
      "7      917639       1  48.685238  0.205137   9.987130\n",
      "8      919902       1  48.685238  0.264523  12.878366\n",
      "9      919903       1  48.685238  0.391866  19.078086\n",
      "Number of grid cells with aggregated data: 1885\n",
      "   grid_index  frp_cumsum   frp_max doy_max_frp\n",
      "0      822559    0.013384  0.013384    7/5/2018\n",
      "1      822560    0.301194  0.301194    7/5/2018\n",
      "2      822561    0.230308  0.230308    7/5/2018\n",
      "3      824823    0.146238  0.146238    7/5/2018\n",
      "4      824824    3.290989  3.290989    7/5/2018\n",
      "\tTime to complete fire 416: 0.01 minutes.\n",
      "\n",
      "\n",
      "Total elapsed time: 0.01 minutes.\n",
      "\n",
      "\n",
      "~~~~~~~~~~\n",
      "\n",
      "Done!\n"
     ]
    }
   ],
   "source": [
    "# process the fire data\n",
    "t0 = time.time()\n",
    "\n",
    "def aggregate_frp(detections, grid):\n",
    "    \"\"\"\n",
    "    Aggregate fire pixel data into a regular grid using vector overlay.\n",
    "    \"\"\"\n",
    "    grid = grid.reset_index(drop=False).rename(columns={'index': 'grid_index'})\n",
    "    grid['grid_area'] = grid.geometry.area  # precompute grid cell areas\n",
    "    \n",
    "    print(f\"Aggregating {len(detections)} detections.\")\n",
    "    if detections.crs != grid.crs:\n",
    "        detections = detections.to_crs(grid.crs)\n",
    "\n",
    "    detections['pix_area_m2'] = detections['pix_area'] * 1e6\n",
    "    \n",
    "    # identify the overlaps\n",
    "    overlay = gpd.overlay(detections, grid, how='intersection')\n",
    "    print(f\"Number of matches: {len(overlay)}\")\n",
    "\n",
    "    # compute fractional overlap area\n",
    "    overlay['overlap_area'] = overlay.geometry.area\n",
    "    overlay['fraction'] = overlay['overlap_area'] / overlay['pix_area_m2']\n",
    "\n",
    "    # scale FRP by area\n",
    "    overlay['frp_sc'] = overlay['frp'] * overlay['fraction']\n",
    "    print(overlay[['grid_index','obs_id','frp','fraction','frp_sc']].head(10))\n",
    "    \n",
    "    # Aggregate by grid cell\n",
    "    aggregated = overlay.groupby('grid_index').agg(\n",
    "        frp_cumsum=('frp_sc', 'sum'),\n",
    "        frp_max=('frp_sc', 'max'),\n",
    "        doy_max_frp=('acq_date', lambda x: x.iloc[np.argmax(x)]),\n",
    "    ).reset_index()\n",
    "    print(f\"Number of grid cells with aggregated data: {len(aggregated)}\")\n",
    "    print(aggregated.head())\n",
    "\n",
    "    # Join results back to grid\n",
    "    grid = grid.merge(aggregated, on='grid_index', how='right')\n",
    "\n",
    "    # Fill NaN values with 0 for the aggregated columns\n",
    "    grid[['frp_cumsum', 'frp_max', 'doy_max_frp']] = grid[\n",
    "        ['frp_cumsum', 'frp_max', 'doy_max_frp']\n",
    "    ].fillna(0)\n",
    "\n",
    "    return grid\n",
    "\n",
    "\n",
    "# Initialize results list\n",
    "t1 = time.time()\n",
    "\n",
    "# aggregate fire pixels to the grid\n",
    "fire_grid = aggregate_frp(afds_ll_pix416_, grid)\n",
    "\n",
    "t2 = (time.time() - t1) / 60\n",
    "print(f\"\\tTime to complete fire {fire['Fire_Name']}: {t2:.2f} minutes.\\n\")\n",
    "\n",
    "t3 = (time.time() - t0) / 60\n",
    "print(f\"\\nTotal elapsed time: {t3:.2f} minutes.\\n\")\n",
    "print(\"\\n~~~~~~~~~~\\n\")\n",
    "print(\"Done!\")"
   ]
  },
  {
   "cell_type": "code",
   "execution_count": 54,
   "id": "f8114abf-9159-4824-9a28-fada4ef9c5ec",
   "metadata": {},
   "outputs": [
    {
     "data": {
      "text/plain": [
       "377.39685097970147"
      ]
     },
     "execution_count": 54,
     "metadata": {},
     "output_type": "execute_result"
    }
   ],
   "source": [
    "fire_grid['frp_cumsum'].max()"
   ]
  },
  {
   "cell_type": "code",
   "execution_count": 55,
   "id": "0385042b-89ab-42a2-914c-53f1ee4b8f4e",
   "metadata": {},
   "outputs": [],
   "source": [
    "fire_grid['doy_max_frp'] = fire_grid['doy_max_frp'].astype(str)\n",
    "fire_grid.to_file(os.path.join(datamod,'testing_grid_aggregation_416fire.gpkg'))"
   ]
  },
  {
   "cell_type": "code",
   "execution_count": null,
   "id": "82369f35-e966-417d-834b-24fefae31071",
   "metadata": {},
   "outputs": [],
   "source": []
  },
  {
   "cell_type": "code",
   "execution_count": 56,
   "id": "d61fdc08-225b-4d77-92a8-9114f5245a89",
   "metadata": {},
   "outputs": [],
   "source": [
    "grid416_ngeo = gpd.read_file(os.path.join(datamod,'testing_grid_aggregation_416fire.gpkg'))\n",
    "grid416_geo = gpd.read_file(os.path.join(datamod,'testing_grid_aggregation.gpkg'))"
   ]
  },
  {
   "cell_type": "code",
   "execution_count": 57,
   "id": "78075067-330e-4e69-b3b1-5c237297e6fa",
   "metadata": {},
   "outputs": [
    {
     "name": "stdout",
     "output_type": "stream",
     "text": [
      "1885\n",
      "1889\n"
     ]
    }
   ],
   "source": [
    "print(len(grid416_ngeo))\n",
    "print(len(grid416_geo))"
   ]
  },
  {
   "cell_type": "code",
   "execution_count": 63,
   "id": "e3410b88-ec45-4575-ac15-f7837808d856",
   "metadata": {},
   "outputs": [
    {
     "data": {
      "text/html": [
       "<div>\n",
       "<style scoped>\n",
       "    .dataframe tbody tr th:only-of-type {\n",
       "        vertical-align: middle;\n",
       "    }\n",
       "\n",
       "    .dataframe tbody tr th {\n",
       "        vertical-align: top;\n",
       "    }\n",
       "\n",
       "    .dataframe thead th {\n",
       "        text-align: right;\n",
       "    }\n",
       "</style>\n",
       "<table border=\"1\" class=\"dataframe\">\n",
       "  <thead>\n",
       "    <tr style=\"text-align: right;\">\n",
       "      <th></th>\n",
       "      <th>grid_index</th>\n",
       "      <th>grid_area</th>\n",
       "      <th>frp_cumsum_geo</th>\n",
       "      <th>frp_max_geo</th>\n",
       "      <th>doy_max_frp</th>\n",
       "      <th>geometry</th>\n",
       "      <th>frp_cumsum_ngeo</th>\n",
       "      <th>frp_max_ngeo</th>\n",
       "    </tr>\n",
       "  </thead>\n",
       "  <tbody>\n",
       "    <tr>\n",
       "      <th>0</th>\n",
       "      <td>822559</td>\n",
       "      <td>140625.0</td>\n",
       "      <td>0.013384</td>\n",
       "      <td>0.013384</td>\n",
       "      <td>2018-07-05</td>\n",
       "      <td>POLYGON ((-1048359.417 1669791.499, -1047984.4...</td>\n",
       "      <td>0.013384</td>\n",
       "      <td>0.013384</td>\n",
       "    </tr>\n",
       "    <tr>\n",
       "      <th>1</th>\n",
       "      <td>822560</td>\n",
       "      <td>140625.0</td>\n",
       "      <td>0.301194</td>\n",
       "      <td>0.301194</td>\n",
       "      <td>2018-07-05</td>\n",
       "      <td>POLYGON ((-1048359.417 1670166.499, -1047984.4...</td>\n",
       "      <td>0.301194</td>\n",
       "      <td>0.301194</td>\n",
       "    </tr>\n",
       "    <tr>\n",
       "      <th>2</th>\n",
       "      <td>822561</td>\n",
       "      <td>140625.0</td>\n",
       "      <td>0.230308</td>\n",
       "      <td>0.230308</td>\n",
       "      <td>2018-07-05</td>\n",
       "      <td>POLYGON ((-1048359.417 1670541.499, -1047984.4...</td>\n",
       "      <td>0.230308</td>\n",
       "      <td>0.230308</td>\n",
       "    </tr>\n",
       "    <tr>\n",
       "      <th>3</th>\n",
       "      <td>824823</td>\n",
       "      <td>140625.0</td>\n",
       "      <td>0.146238</td>\n",
       "      <td>0.146238</td>\n",
       "      <td>2018-07-05</td>\n",
       "      <td>POLYGON ((-1047984.417 1669791.499, -1047609.4...</td>\n",
       "      <td>0.146238</td>\n",
       "      <td>0.146238</td>\n",
       "    </tr>\n",
       "    <tr>\n",
       "      <th>4</th>\n",
       "      <td>824824</td>\n",
       "      <td>140625.0</td>\n",
       "      <td>3.290989</td>\n",
       "      <td>3.290989</td>\n",
       "      <td>2018-07-05</td>\n",
       "      <td>POLYGON ((-1047984.417 1670166.499, -1047609.4...</td>\n",
       "      <td>3.290989</td>\n",
       "      <td>3.290989</td>\n",
       "    </tr>\n",
       "  </tbody>\n",
       "</table>\n",
       "</div>"
      ],
      "text/plain": [
       "   grid_index  grid_area  frp_cumsum_geo  frp_max_geo doy_max_frp  \\\n",
       "0      822559   140625.0        0.013384     0.013384  2018-07-05   \n",
       "1      822560   140625.0        0.301194     0.301194  2018-07-05   \n",
       "2      822561   140625.0        0.230308     0.230308  2018-07-05   \n",
       "3      824823   140625.0        0.146238     0.146238  2018-07-05   \n",
       "4      824824   140625.0        3.290989     3.290989  2018-07-05   \n",
       "\n",
       "                                            geometry  frp_cumsum_ngeo  \\\n",
       "0  POLYGON ((-1048359.417 1669791.499, -1047984.4...         0.013384   \n",
       "1  POLYGON ((-1048359.417 1670166.499, -1047984.4...         0.301194   \n",
       "2  POLYGON ((-1048359.417 1670541.499, -1047984.4...         0.230308   \n",
       "3  POLYGON ((-1047984.417 1669791.499, -1047609.4...         0.146238   \n",
       "4  POLYGON ((-1047984.417 1670166.499, -1047609.4...         3.290989   \n",
       "\n",
       "   frp_max_ngeo  \n",
       "0      0.013384  \n",
       "1      0.301194  \n",
       "2      0.230308  \n",
       "3      0.146238  \n",
       "4      3.290989  "
      ]
     },
     "execution_count": 63,
     "metadata": {},
     "output_type": "execute_result"
    }
   ],
   "source": [
    "comparison = grid416_geo.merge(\n",
    "    grid416_ngeo[['grid_index', 'frp_cumsum', 'frp_max']],\n",
    "    on='grid_index',\n",
    "    suffixes=('_geo', '_ngeo')\n",
    ")\n",
    "comparison.head()"
   ]
  },
  {
   "cell_type": "code",
   "execution_count": 65,
   "id": "0251e4d2-279b-4d5a-97f4-d614f7caa2b8",
   "metadata": {},
   "outputs": [
    {
     "data": {
      "text/plain": [
       "1885"
      ]
     },
     "execution_count": 65,
     "metadata": {},
     "output_type": "execute_result"
    }
   ],
   "source": [
    "len(comparison)"
   ]
  },
  {
   "cell_type": "code",
   "execution_count": 66,
   "id": "485a083d-0154-458f-bda0-083b8cdefc3b",
   "metadata": {},
   "outputs": [
    {
     "data": {
      "image/png": "[encoded data removed]",
      "text/plain": [
       "<Figure size 640x480 with 1 Axes>"
      ]
     },
     "metadata": {},
     "output_type": "display_data"
    }
   ],
   "source": [
    "import seaborn as sns\n",
    "import matplotlib.pyplot as plt\n",
    "from sklearn.linear_model import LinearRegression\n",
    "from sklearn.metrics import r2_score\n",
    "\n",
    "# Extract variables\n",
    "x = comparison['frp_cumsum_geo']\n",
    "y = comparison['frp_cumsum_ngeo']\n",
    "\n",
    "# Scatter plot\n",
    "sns.scatterplot(x=x, y=y)\n",
    "plt.xlabel('Geolocated FRP (Cumulative)')\n",
    "plt.ylabel('Non-Geolocated FRP (Cumulative)')\n",
    "plt.title('Comparison of FRP')\n",
    "\n",
    "# Add linear regression line\n",
    "model = LinearRegression()\n",
    "x_reshaped = x.values.reshape(-1, 1)\n",
    "model.fit(x_reshaped, y)\n",
    "plt.plot(x, model.predict(x_reshaped), color='red', label=f'R2 = {r2_score(y, model.predict(x_reshaped)):.2f}')\n",
    "plt.legend()\n",
    "plt.show()"
   ]
  },
  {
   "cell_type": "code",
   "execution_count": null,
   "id": "bb9cd425-43a4-44e1-bfdd-9128220919f7",
   "metadata": {},
   "outputs": [],
   "source": []
  },
  {
   "cell_type": "code",
   "execution_count": null,
   "id": "e82b058b-d7d4-4b3b-adc6-3eb87139be97",
   "metadata": {},
   "outputs": [],
   "source": []
  },
  {
   "cell_type": "code",
   "execution_count": null,
   "id": "fad3332b-6086-45c3-9657-058c305ed3e8",
   "metadata": {},
   "outputs": [],
   "source": []
  },
  {
   "cell_type": "code",
   "execution_count": null,
   "id": "27dd7697-31e6-48ba-b5d5-37fc3b3406bb",
   "metadata": {},
   "outputs": [],
   "source": []
  },
  {
   "cell_type": "code",
   "execution_count": null,
   "id": "82116c41-51d5-400d-882b-02349956d13a",
   "metadata": {},
   "outputs": [],
   "source": []
  },
  {
   "cell_type": "code",
   "execution_count": null,
   "id": "297660c1-c68a-49fe-95e3-9e038ae4dbe0",
   "metadata": {},
   "outputs": [],
   "source": []
  },
  {
   "cell_type": "code",
   "execution_count": null,
   "id": "3a1c983f-59c1-4dcb-9fe2-126a56ff8719",
   "metadata": {},
   "outputs": [],
   "source": []
  },
  {
   "cell_type": "code",
   "execution_count": null,
   "id": "3adbb84f-260e-4a87-8d96-e602df8a17d0",
   "metadata": {},
   "outputs": [],
   "source": []
  },
  {
   "cell_type": "code",
   "execution_count": null,
   "id": "9aaeccde-9f5d-4be3-8e1c-7bd7e18ca135",
   "metadata": {},
   "outputs": [],
   "source": []
  },
  {
   "cell_type": "code",
   "execution_count": null,
   "id": "575c1961-a044-4860-9af7-c328ec3b3bf0",
   "metadata": {},
   "outputs": [],
   "source": []
  },
  {
   "cell_type": "code",
   "execution_count": null,
   "id": "064ececa-bcb1-49d3-b020-6a42cd863b70",
   "metadata": {},
   "outputs": [],
   "source": []
  },
  {
   "cell_type": "code",
   "execution_count": null,
   "id": "13e759bc-0085-42ab-bd51-b126c7ac2662",
   "metadata": {},
   "outputs": [],
   "source": [
    "# Case 2: Greater than 50% overlap, same day, different time."
   ]
  },
  {
   "cell_type": "code",
   "execution_count": null,
   "id": "07a920f5-0afc-4de4-ba74-83534039746d",
   "metadata": {},
   "outputs": [],
   "source": [
    "time_threshold = timedelta(hours=2) # search for time within 3 hours\n",
    "\n",
    "afds_ll_pix_c1 = afds_ll_pix_c1.reset_index()\n",
    "\n",
    "drop_obs = set()\n",
    "for acq_date, group in afds_ll_pix_c1.groupby('ACQ_DATE'):\n",
    "    for dn in ['D','N']:\n",
    "        dn_group = group[group['DAYNIGHT'] == dn].sort_values('ACQ_DATETIME')\n",
    "        for idx, obs in dn_group.iterrows():\n",
    "            time_matches = dn_group[\n",
    "                (dn_group['ACQ_DATETIME'] > obs['ACQ_DATETIME']) &\n",
    "                (dn_group['ACQ_DATETIME'] <= obs['ACQ_DATETIME'] + time_threshold) &\n",
    "                (dn_group.index != idx)  # Exclude itself\n",
    "            ]\n",
    "            for match_idx, match_obs in time_matches.iterrows():\n",
    "                # Calculate spatial overlap ratio\n",
    "                overlap_area = obs.geometry.intersection(match_obs.geometry).area\n",
    "                overlap_ratio = overlap_area / obs.geometry.area\n",
    "                \n",
    "                # Check for >50% spatial overlap\n",
    "                if overlap_ratio > 0.50:\n",
    "                    # Retain the highest FRP observation\n",
    "                    if match_obs['FRP'] < obs['FRP']:\n",
    "                        drop_obs.add(match_idx)\n",
    "\n",
    "afds_ll_pix_c2 = afds_ll_pix_c2.drop(index=list(drop_obs)).reset_index(drop=True)\n",
    "print(f\"Identified a total of [{len(drop_obs)}/{len(afds_ll_pix_c1)}] overlapping observations within 2 hours, separated by day/night.\")"
   ]
  },
  {
   "cell_type": "code",
   "execution_count": null,
   "id": "fa989d1c-f6c2-44ad-b273-2f707d23824f",
   "metadata": {},
   "outputs": [],
   "source": [
    "print(afds_srm_c2['FRP'].isna().sum())"
   ]
  },
  {
   "cell_type": "code",
   "execution_count": null,
   "id": "3233afbd-8467-460b-b33d-8d7d8705e4f9",
   "metadata": {},
   "outputs": [],
   "source": []
  },
  {
   "cell_type": "code",
   "execution_count": null,
   "id": "c6d8b576-56e6-4e62-9ee7-deb79d0bfc08",
   "metadata": {},
   "outputs": [],
   "source": [
    "# Case 3: Classify first day of burn and secondary"
   ]
  },
  {
   "cell_type": "code",
   "execution_count": null,
   "id": "1c73f740-649e-486d-8137-0b6127d25e8b",
   "metadata": {},
   "outputs": [],
   "source": [
    "afds_srm_c2['detection'] = 'primary' # set the first day of burn / maximum FRP\n",
    "afds_srm_c3 = afds_srm_c2.sort_values(['ACQ_DATETIME']).reset_index(drop=True)\n",
    "afds_srm_c3 = afds_srm_c3.reset_index(drop=True)\n",
    "afds_srm_c3.drop(columns=['index'], inplace=True)\n",
    "\n",
    "overlap_gdf = gpd.sjoin(\n",
    "    afds_srm_c3, \n",
    "    afds_srm_c3, \n",
    "    how=\"inner\", \n",
    "    predicate=\"intersects\", \n",
    "    lsuffix=\"left\", \n",
    "    rsuffix=\"right\")\n",
    "\n",
    "# Iterate over each observation in swath_gdf_c3\n",
    "for idx, obs in afds_srm_c3.iterrows():\n",
    "    # Filter to previous overlapping observations only\n",
    "    overlapping_obs = overlap_gdf[\n",
    "        (overlap_gdf['afdID_left'] == obs['afdID']) &  # Current observation\n",
    "        (overlap_gdf['afdID_right'] < obs['afdID']) &  # Previous observations only\n",
    "        (overlap_gdf['DAYNIGHT_right'] == obs['DAYNIGHT'])  # Same day/night cycle\n",
    "    ].copy()\n",
    "\n",
    "    # Calculate overlap ratio for each overlapping observation\n",
    "    overlap_ratios = [\n",
    "        obs.geometry.intersection(afds_srm_c3.loc[afds_srm_c3['afdID'] == row['afdID_right']].geometry.iloc[0]).area\n",
    "        / obs.geometry.area\n",
    "        for _, row in overlapping_obs.iterrows()\n",
    "    ]\n",
    "\n",
    "    # Filter to those with significant overlap (e.g., >50%)\n",
    "    overlapping_obs['overlap_ratio'] = overlap_ratios\n",
    "    overlapping_obs = overlapping_obs[overlapping_obs['overlap_ratio'] > 0.5]\n",
    "\n",
    "    # If there are overlapping observations, proceed to classify\n",
    "    if not overlapping_obs.empty:\n",
    "        max_frp = overlapping_obs['FRP_right'].max()  # Max FRP from overlapping observations\n",
    "\n",
    "        # Classify based on FRP comparison\n",
    "        if obs['FRP'] > max_frp:\n",
    "            afds_srm_c3.at[idx, 'detection'] = 'flare-up'\n",
    "        else:\n",
    "            afds_srm_c3.at[idx, 'detection'] = 'secondary'\n",
    "\n",
    "out_fp = os.path.join(projdir, 'data/spatial/mod/VIIRS/afd_aspen-fires_Case3.gpkg')\n",
    "afds_srm_c3.to_file(out_fp)\n",
    "print(f\"Saved to: {out_fp}\")"
   ]
  },
  {
   "cell_type": "code",
   "execution_count": null,
   "id": "8c91511a-a071-4ea0-8064-53ee34ffd784",
   "metadata": {},
   "outputs": [],
   "source": [
    "print(afds_srm_c3['FRP'].isna().sum())"
   ]
  },
  {
   "cell_type": "code",
   "execution_count": null,
   "id": "7d65f0a6-7e94-45d0-afc9-2ccb4375fd02",
   "metadata": {},
   "outputs": [],
   "source": []
  },
  {
   "cell_type": "code",
   "execution_count": null,
   "id": "99d8ac0a-0294-4a1c-8972-a222c14d7452",
   "metadata": {},
   "outputs": [],
   "source": [
    "afds_srm_c3['detection'].unique()"
   ]
  },
  {
   "cell_type": "code",
   "execution_count": null,
   "id": "d912dd99-9f61-4473-8d37-60cb73ecbf45",
   "metadata": {},
   "outputs": [],
   "source": [
    "# Plot FRP for each detection label\n",
    "plt.figure(figsize=(5.5, 3))\n",
    "\n",
    "sns.boxplot(data=afds_srm_c3, x='detection', y='log_FRP', palette=\"inferno\")\n",
    "plt.title(\"Distribution of log(FRP) by Detection Type\")\n",
    "plt.xlabel(\"Detection Type\")\n",
    "plt.ylabel(\"log(FRP)\")\n",
    "\n",
    "plt.savefig(os.path.join(projdir,'figures/FigureX_Primary_Secondary-FRP.png'), dpi=150, bbox_inches='tight')\n",
    "\n",
    "plt.show()"
   ]
  },
  {
   "cell_type": "code",
   "execution_count": null,
   "id": "fc9994dd-0613-43b9-877e-f7188ddefb8e",
   "metadata": {},
   "outputs": [],
   "source": [
    "# Plot the distribution of \"front\" and \"re-burn\"\n",
    "burn_class_counts = afds_srm_c3['detection'].value_counts()\n",
    "\n",
    "# Plot a bar chart\n",
    "plt.figure(figsize=(5, 3))\n",
    "sns.barplot(x=burn_class_counts.index, y=burn_class_counts.values, palette=\"inferno\")\n",
    "plt.title(\"Primary, Secondary, and Flare-up Obs.\")\n",
    "plt.xlabel(\"Burn Class\")\n",
    "plt.ylabel(\"Count\")\n",
    "\n",
    "plt.savefig(os.path.join(projdir,'figures/FigureX_Primary_Secondary-Counts.png'), dpi=150, bbox_inches='tight')\n",
    "\n",
    "plt.show()"
   ]
  },
  {
   "cell_type": "code",
   "execution_count": null,
   "id": "f0ff01e4-dc39-4142-a539-74ab15bb2e08",
   "metadata": {},
   "outputs": [],
   "source": [
    "len(afds_srm_c3)"
   ]
  },
  {
   "cell_type": "code",
   "execution_count": null,
   "id": "4b95a939-1375-4658-8c02-66d8bd5a38fb",
   "metadata": {},
   "outputs": [],
   "source": []
  },
  {
   "cell_type": "code",
   "execution_count": null,
   "id": "b60ec984-04a6-4ffe-a50d-b845af8bd959",
   "metadata": {},
   "outputs": [],
   "source": [
    "# Join to CBI, TreeMap, etc"
   ]
  },
  {
   "cell_type": "code",
   "execution_count": null,
   "id": "db6ef1a5-1ce0-43c7-b39f-b890aaad0b39",
   "metadata": {},
   "outputs": [],
   "source": [
    "# Load the summary table (from GEE reductions)\n",
    "fp = os.path.join(projdir,'data/tabular/mod/AFD/combined-afd_aspen-fires_TreeMap.csv')\n",
    "treemap = pd.read_csv(fp)\n",
    "treemap.drop(columns=[\"Unnamed: 0\"], inplace=True)\n",
    "print(len(treemap['afdID'].unique()))\n",
    "treemap.head()"
   ]
  },
  {
   "cell_type": "code",
   "execution_count": null,
   "id": "fb4c4070-86da-4420-87f5-fd5ab26e269c",
   "metadata": {},
   "outputs": [],
   "source": [
    "# Identify \"forested\" VIIRS observations\n",
    "# Calculate the total forest cover percent\n",
    "pct_cover_sum = treemap.groupby('afdID')['pct_cover'].sum()\n",
    "# Filter afdIDs with a sum of pct_cover greater than 50%\n",
    "afdIDs_gt50 = pct_cover_sum[pct_cover_sum > 50].index\n",
    "\n",
    "# Filter the original dataframe to keep only rows with these afdIDs\n",
    "treemap_ = treemap[treemap['afdID'].isin(afdIDs_gt50)]\n",
    "print(f\"Number of afdIDs with pct_cover > 50%: {len(afdIDs_gt50)}\")"
   ]
  },
  {
   "cell_type": "code",
   "execution_count": null,
   "id": "b5a0cd65-e10c-4761-a3fc-2aef5f648e2c",
   "metadata": {},
   "outputs": [],
   "source": [
    "# Identify the dominant forest type\n",
    "dtree = treemap_.loc[treemap_.groupby('afdID')['pct_cover'].idxmax()]\n",
    "print(len(dtree))\n",
    "dtree.head()"
   ]
  },
  {
   "cell_type": "code",
   "execution_count": null,
   "id": "3069e23f-7cad-449d-94fa-56f96e47551d",
   "metadata": {},
   "outputs": [],
   "source": [
    "dtree_frp = dtree.merge(afds_srm_c3, on='afdID', how='inner')\n",
    "print(dtree_frp.columns)\n",
    "len(dtree_frp)"
   ]
  },
  {
   "cell_type": "code",
   "execution_count": null,
   "id": "61b71af3-1485-403f-939b-d8e948fcb149",
   "metadata": {},
   "outputs": [],
   "source": [
    "print(dtree_frp['FRP'].isna().sum())"
   ]
  },
  {
   "cell_type": "code",
   "execution_count": null,
   "id": "a26ff6c1-fe60-4e3f-bc0a-80eb391bbbbd",
   "metadata": {},
   "outputs": [],
   "source": []
  },
  {
   "cell_type": "code",
   "execution_count": null,
   "id": "faf0dc80-f683-4e21-8428-f49f0d37a5b7",
   "metadata": {},
   "outputs": [],
   "source": [
    "### Plot FRP by EVT group name\n",
    "df = dtree_frp[dtree_frp['DAYNIGHT'] == 'D'] # primary obs.\n",
    "df = dtree_frp\n",
    "\n",
    "# Find the median and sort the evt classes\n",
    "med = df.groupby('species_name')['FRP'].median().sort_values(ascending=False)\n",
    "sorted = med.index.tolist()\n",
    "\n",
    "plt.figure(figsize=(8, 8)) \n",
    "\n",
    "sns.boxplot(\n",
    "    data=df,\n",
    "    x='FRP', \n",
    "    y='species_name', \n",
    "    hue='detection',\n",
    "    order=sorted,  \n",
    "    palette='coolwarm', \n",
    "    dodge=True\n",
    ")\n",
    "\n",
    "plt.xscale('log')\n",
    "\n",
    "plt.title('Daytime FRP by Detection Class and Species')\n",
    "plt.xlabel('Fire Radiative Power (FRP)')\n",
    "plt.ylabel('Dominant Tree Species')\n",
    "\n",
    "plt.tight_layout()\n",
    "\n",
    "plt.savefig(os.path.join(projdir,'figures/FigureX_DTree-FRP-Detections.png'), dpi=300, bbox_inches='tight')\n",
    "\n",
    "plt.show()"
   ]
  },
  {
   "cell_type": "code",
   "execution_count": null,
   "id": "ca67374c-3646-42ee-a7f0-7a17d695bfca",
   "metadata": {},
   "outputs": [],
   "source": [
    "aspen_df = dtree_frp[dtree_frp['species_name'] == 'Aspen']\n",
    "aspen_df = aspen_df[aspen_df['DAYNIGHT'] == 'D']\n",
    "\n",
    "# Create the scatter plot\n",
    "plt.figure(figsize=(6, 4))\n",
    "sns.scatterplot(data=aspen_df, x='FRP', y='BALIVE', hue='detection', style='detection', s=50, palette=\"viridis\")\n",
    "plt.xlabel('Aspen Live Basal Area')\n",
    "plt.ylabel('FRP')\n",
    "plt.legend(title='Detection Type')\n",
    "\n",
    "plt.savefig(os.path.join(projdir,'figures/FigureX_DTree-Aspen-FRP_scatter.png'), dpi=300, bbox_inches='tight')\n",
    "\n",
    "plt.show()"
   ]
  },
  {
   "cell_type": "code",
   "execution_count": null,
   "id": "675ed26b-fb1e-4ec4-b9e8-b87c4708b081",
   "metadata": {},
   "outputs": [],
   "source": []
  },
  {
   "cell_type": "code",
   "execution_count": null,
   "id": "708f1e5a-8c7f-43b4-b4da-4e22e4986fe2",
   "metadata": {},
   "outputs": [],
   "source": [
    "# Join in the CBI\n",
    "cbi = os.path.join(projdir,'data/tabular/mod/AFD/combined-afd_aspen-fires_cbi.csv')\n",
    "cbi = pd.read_csv(cbi)\n",
    "cbi.columns"
   ]
  },
  {
   "cell_type": "code",
   "execution_count": null,
   "id": "5caa8fc5-4835-40ec-ae72-ad4eb86cabd4",
   "metadata": {},
   "outputs": [],
   "source": [
    "cbi = cbi[['afdID','CBI_mean', 'CBI_bc_mean', 'rbr_mean']]\n",
    "cbi.head()"
   ]
  },
  {
   "cell_type": "code",
   "execution_count": null,
   "id": "4af1b38f-bef2-4b1d-9f60-a65046f622d2",
   "metadata": {},
   "outputs": [],
   "source": [
    "dtree_frp_cbi = dtree_frp.merge(cbi, on='afdID', how='inner')\n",
    "print(len(dtree_frp_cbi))\n",
    "dtree_frp_cbi.head()"
   ]
  },
  {
   "cell_type": "code",
   "execution_count": null,
   "id": "4e6f2787-5996-4e2a-a7d4-b38758b6e98b",
   "metadata": {},
   "outputs": [],
   "source": [
    "dtree_frp_cbi = dtree_frp_cbi.drop_duplicates(subset='afdID', keep='first')\n",
    "len(dtree_frp_cbi)"
   ]
  },
  {
   "cell_type": "code",
   "execution_count": null,
   "id": "d1302eee-195b-4dc5-9443-529d4a8c6e25",
   "metadata": {},
   "outputs": [],
   "source": [
    "print(dtree_frp_cbi['afdID'].isna().sum())\n",
    "print(dtree_frp_cbi['CBI_mean'].isna().sum())\n",
    "print(dtree_frp_cbi['species_name'].isna().sum())\n",
    "print(dtree_frp_cbi['FRP'].isna().sum())"
   ]
  },
  {
   "cell_type": "code",
   "execution_count": null,
   "id": "9b44c35b-0ca4-4fe9-9613-1241a5169d00",
   "metadata": {},
   "outputs": [],
   "source": []
  },
  {
   "cell_type": "code",
   "execution_count": null,
   "id": "37902a86-2fe6-497b-9ce8-a6a91f1ba9cc",
   "metadata": {},
   "outputs": [],
   "source": []
  },
  {
   "cell_type": "code",
   "execution_count": null,
   "id": "90178ddc-cebf-4e2f-85b3-c25e895479df",
   "metadata": {},
   "outputs": [],
   "source": [
    "# Calculate the Pearson correlation by forest type"
   ]
  },
  {
   "cell_type": "code",
   "execution_count": null,
   "id": "139e0680-e289-421b-afe7-0977d043a5ec",
   "metadata": {},
   "outputs": [],
   "source": [
    "df = dtree_frp_cbi[dtree_frp_cbi['detection'] == 'primary'] #primary obs.\n",
    "df = dtree_frp_cbi[dtree_frp_cbi['DAYNIGHT'] == 'D'] #daytime"
   ]
  },
  {
   "cell_type": "code",
   "execution_count": null,
   "id": "c492de7f-ca52-4573-92be-b93f03324b5d",
   "metadata": {},
   "outputs": [],
   "source": [
    "from scipy.stats import pearsonr\n",
    "\n",
    "correlations = {}\n",
    "for tree_type, group in df.groupby('species_name'):\n",
    "    corr, p_value = pearsonr(group['FRP'], group['CBI_bc_mean'])\n",
    "    correlations[tree_type] = (corr, p_value)\n",
    "    print(f\"Tree Type: {tree_type} - Pearson correlation: {corr:.2f}, p-value: {p_value:.4f}\")"
   ]
  },
  {
   "cell_type": "code",
   "execution_count": null,
   "id": "b098a39a-1e46-4bd1-a91e-2614ea6df0f0",
   "metadata": {},
   "outputs": [],
   "source": [
    "correlation_df = pd.DataFrame(correlations, index=['correlation', 'p_value']).T\n",
    "print(\"\\nCorrelation by Tree Type:\\n\")\n",
    "correlation_df = correlation_df.sort_values('correlation')\n",
    "correlation_df.to_csv(os.path.join(projdir, 'data/tabular/mod/afds_aspen-fires_frp-cbi_pearson.csv'))\n",
    "correlation_df.head(15)"
   ]
  },
  {
   "cell_type": "code",
   "execution_count": null,
   "id": "84b6c460-5fee-4645-b150-6ec749c9ea2a",
   "metadata": {},
   "outputs": [],
   "source": [
    "g = sns.lmplot(data=df, x='FRP', y='CBI_bc_mean', hue='species_name', col='species_name', \n",
    "           col_wrap=3, height=2, aspect=1.5, scatter_kws={'alpha':0.4}, line_kws={'color':'black'}, sharey=True\n",
    "          )\n",
    "\n",
    "# Adjust the titles to remove the \"species_name = \" prefix\n",
    "for ax in g.axes.flat:\n",
    "    ax.set_ylim(0, 4)  # Set the y-axis limit from 0 to 4\n",
    "    ax.set_title(ax.get_title().replace('species_name = ', ''))\n",
    "\n",
    "plt.savefig(os.path.join(projdir,'figures/FigureX_DTree-FRP-CBI_bc.png'), dpi=300, bbox_inches='tight')\n",
    "\n",
    "plt.show()"
   ]
  },
  {
   "cell_type": "code",
   "execution_count": null,
   "id": "71c64f8f-2121-4574-ad3f-f36b43f3cfd4",
   "metadata": {},
   "outputs": [],
   "source": []
  },
  {
   "cell_type": "code",
   "execution_count": null,
   "id": "ada8b0d8-09b6-45ec-9198-987be922c702",
   "metadata": {},
   "outputs": [],
   "source": []
  },
  {
   "cell_type": "code",
   "execution_count": null,
   "id": "1d980edd-c07e-466d-ab0b-7bf2c94b52b3",
   "metadata": {},
   "outputs": [],
   "source": []
  }
 ],
 "metadata": {
  "kernelspec": {
   "display_name": "aspen-fire",
   "language": "python",
   "name": "aspen-fire"
  },
  "language_info": {
   "codemirror_mode": {
    "name": "ipython",
    "version": 3
   },
   "file_extension": ".py",
   "mimetype": "text/x-python",
   "name": "python",
   "nbconvert_exporter": "python",
   "pygments_lexer": "ipython3",
   "version": "3.10.12"
  }
 },
 "nbformat": 4,
 "nbformat_minor": 5
}
