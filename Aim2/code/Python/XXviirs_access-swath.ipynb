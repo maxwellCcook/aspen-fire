{
 "cells": [
  {
   "cell_type": "code",
   "execution_count": 1,
   "id": "d1ec03ae-2946-4baf-a5f7-f722a615f19e",
   "metadata": {},
   "outputs": [
    {
     "name": "stdout",
     "output_type": "stream",
     "text": [
      "Ready !\n"
     ]
    }
   ],
   "source": [
    "\"\"\"\n",
    "Downloading VIIRS Active Fire Detections (AFD) with 'earthaccess' python API\n",
    "\n",
    "Searches and accesses VIIRS AFD for fire perimeters.\n",
    "\n",
    "VIIRS/NPP Active Fires 6-Min L2 Swath 375m V002 (VNP14IMG)\n",
    "VIIRS/JPSS1 Active Fires 6-Min L2 Swath 375m V002 (VJ114IMG)\n",
    "\n",
    "Return: \n",
    "    - Downloaded/cloud access NetCDF granules for the above products\n",
    "    - GeoDataFrame representing active fire pixel locations and attributes (before geolocation)\n",
    "    - Geolocation grid representing pixel locations and overlap of adjacent orbits\n",
    "\n",
    "Author: maxwell.cook@colorado.edu\n",
    "\"\"\"\n",
    "\n",
    "import sys, os\n",
    "import earthaccess as ea\n",
    "import geopandas as gpd\n",
    "import pandas as pd\n",
    "import rioxarray as rxr\n",
    "import rasterio as rio\n",
    "import datetime as dt\n",
    "import xarray as xr\n",
    "import datetime\n",
    "import traceback\n",
    "\n",
    "from tqdm.notebook import tqdm\n",
    "from datetime import datetime\n",
    "from datetime import timedelta\n",
    "from rasterio.transform import from_bounds\n",
    "from urllib.parse import urlparse\n",
    "\n",
    "import warnings\n",
    "warnings.simplefilter('ignore')\n",
    "\n",
    "# Custom functions\n",
    "sys.path.append(os.path.join(os.getcwd(),'code/'))\n",
    "from __functions import *\n",
    "        \n",
    "# Directories\n",
    "maindir = '/Users/max/Library/CloudStorage/OneDrive-Personal/mcook/'\n",
    "projdir = os.path.join(maindir, 'aspen-fire/Aim2/')\n",
    "\n",
    "# Output directories\n",
    "dataraw = os.path.join(projdir,'data/spatial/raw/VIIRS/')\n",
    "datamod = os.path.join(projdir,'data/spatial/mod/VIIRS/')\n",
    "\n",
    "print(\"Ready !\")"
   ]
  },
  {
   "cell_type": "code",
   "execution_count": 2,
   "id": "73b7ebd1-d1ba-400d-8b65-d3b993c033ee",
   "metadata": {},
   "outputs": [
    {
     "name": "stdout",
     "output_type": "stream",
     "text": [
      "Class and functions ready !\n"
     ]
    }
   ],
   "source": [
    "class Access_VIIRS_AFD:\n",
    "    \"\"\" \n",
    "    Accesses VIIRS Active Fire Data (AFD) within a region for given date range\n",
    "    \"\"\"\n",
    "    def __init__(self, start_date, last_date, geom = gpd.GeoDataFrame(),\n",
    "                 id_col='Fire_ID', name_col='Fire_Name',\n",
    "                 geog_crs = 'EPSG:4326', proj_crs = 'EPSG:5070',\n",
    "                 short_names = ['VNP14IMG', 'VJ114IMG'],\n",
    "                 buffer = None, out_directory=None, \n",
    "                 processed_granules=None, \n",
    "                 region=None\n",
    "                ):\n",
    "        \"\"\"\n",
    "        Args:\n",
    "            - start_date: the intial date for the granule search\n",
    "            - last_date: the final date for the granule search\n",
    "            - geom: GeoDataFrame for search request (fire perimeter)\n",
    "            - geog_crs: Geographic projection (to retrieve coordinate pairs in lat/lon)\n",
    "            - proj_crs: Projected coordinate system\n",
    "            - short_names: the granules to be downloaded\n",
    "            - buffer: Optional buffer for input geometry\n",
    "            - out_directory: output directory to store results\n",
    "            - download: If 'True', downloads the netcdf, otherwise processes in cloud\n",
    "        Returns:\n",
    "            - Downloaded files (VIIRS Active Fire Data NetCDF and Geolocation information)\n",
    "            - GeoDataFrame with non-geolocated (raw) fire detections\n",
    "        \"\"\"\n",
    "        # Extract coordinate bounds\n",
    "        if region is None:\n",
    "            # use the fire perimeter\n",
    "            self.coords, self.extent = get_coords(geom, buffer)\n",
    "            # print(f\"Bounding extent for data search: \\n{self.extent}\\n\")\n",
    "        elif region is not None and isinstance(region, gpd.GeoDataFrame):\n",
    "            # use the region boundary for FP and fire for search\n",
    "            _, self.extent = get_coords(region, buffer) # for extracting FP\n",
    "            self.coords, _ = get_coords(geom, buffer) # for data search\n",
    "            # print(f\"Bounding extent for data search: \\n{self.extent}\\n\")\n",
    "        else:\n",
    "            print(\"Input region is not a GeoDataFrame !!!\")\n",
    "            \n",
    "        # Extract class attributes\n",
    "        self.fire_id = geom[id_col].iloc[0]\n",
    "        self.fire_name = geom[name_col].iloc[0]\n",
    "        self.date_range = (str(start_date), str(last_date))\n",
    "        self.geog_crs = geog_crs\n",
    "        self.proj_crs = proj_crs\n",
    "        self.short_names = short_names\n",
    "        self.out_dir = out_directory\n",
    "        self.granule_log = os.path.join(dataraw, 'logs/vnp_vji_processed_granules.txt')\n",
    "        self.processed_granules = processed_granules\n",
    "        self.lut = pd.read_csv(os.path.join(projdir, 'data/tabular/raw/pix_size_lut.csv'))\n",
    "      \n",
    "    def ea_search_request(self):\n",
    "        \"\"\" Generate an earthaccess search request with the given parameters \"\"\"\n",
    "        query = ea.search_data(\n",
    "            short_name=self.short_names, \n",
    "            polygon=self.coords,\n",
    "            temporal=self.date_range, \n",
    "            cloud_hosted=True,\n",
    "            count=-1\n",
    "        )\n",
    "        \n",
    "        # Grab a list of granules from the search query\n",
    "        granules = [g['umm']['DataGranule']['Identifiers'][0]['Identifier'] for g in query]\n",
    "        N = len(granules)\n",
    "    \n",
    "        # Filter the query to only work with the \"new\" granules\n",
    "        # Skip if no new granules are required\n",
    "        if self.processed_granules is not None:\n",
    "            processed = [g.replace('.nc', '') for g in self.processed_granules]\n",
    "            new_granules = [g for g in granules if g not in processed]\n",
    "            if len(new_granules) == 0:\n",
    "                print(f\"\\t! All granules already processed, skipping ... !\")\n",
    "                return None, None\n",
    "            elif len(new_granules) > 0 and len(new_granules) < N:\n",
    "                print(f\"\\n\\t! Some granules already processed [{N - len(new_granules)}] !\")\n",
    "                query = [item for item in query if item['umm']['DataGranule']['Identifiers'][0]['Identifier'] in new_granules]\n",
    "                granules = [g['umm']['DataGranule']['Identifiers'][0]['Identifier'] for g in query]\n",
    "            else:\n",
    "                print(f\"\\n\\t! Starting processing for [{len(granules)}] granules !\")\n",
    "                query = query\n",
    "                granules = granules\n",
    "\n",
    "        # open the fileset\n",
    "        fileset = ea.open(query)\n",
    "\n",
    "        # return query results and list of granules\n",
    "        return fileset, granules\n",
    "             \n",
    "\n",
    "    def create_fire_gdf(self, fileset):\n",
    "        \"\"\" Creates a geodataframe with active fire detections from a directory with NetCDF files \"\"\"\n",
    "\n",
    "        granule_dfs = [] # to store the geolocated AFDs\n",
    "        \n",
    "        nprint = 10 # print counter\n",
    "        for fp in tqdm(fileset, desc=\"Processing granules\"):\n",
    "            df = pd.DataFrame() # to store the active fire data\n",
    "            with xr.open_dataset(fp, phony_dims='access') as swath:\n",
    "                # make sure there are fire pixels\n",
    "                if swath.FirePix == 0:\n",
    "                    continue\n",
    "                \n",
    "                # get the granule ID and associated geolocation swath\n",
    "                granule_id = swath.LocalGranuleID\n",
    "                geo_id = swath.VNP03IMG\n",
    "                \n",
    "                # get the data variables\n",
    "                lonfp = swath.variables['FP_longitude'][:] # fire pixel longitude\n",
    "                latfp = swath.variables['FP_latitude'][:] # fire pixel latitude\n",
    "                frp = swath.variables['FP_power'][:] # fire radiative power\n",
    "                t4 = swath.variables['FP_T4'][:] # I04 brightness temp (kelvins)\n",
    "                t5 = swath.variables['FP_T5'][:] # I05 brightness temp (kelvins)\n",
    "                m13 = swath.variables['FP_Rad13'][:] # M13 radiance (kelvin)\n",
    "                sample = swath.variables['FP_sample'][:]\n",
    "                line = swath.variables['FP_line'][:]\n",
    "                # get the fire mask for fire pixels\n",
    "                fire_mask = swath['fire mask'][line, sample].values\n",
    "\n",
    "            # gather information from file name\n",
    "            timestamp = granule_id.split('.')[1:3]\n",
    "            year = timestamp[0][1:5]\n",
    "            day = timestamp[0][5:8]\n",
    "            acqtime = timestamp[1]\n",
    "            acqdate = dt.datetime.strptime(year+day, '%Y%j').strftime('%-m/%-d/%Y')\n",
    "            \n",
    "            df['longitude'] = lonfp\n",
    "            df['latitude'] = latfp\n",
    "            df['j'] = sample #sample number for pixel size lookup\n",
    "            df['fire_mask'] = fire_mask\n",
    "            df['confidence'] = pd.Categorical(df.fire_mask)\n",
    "            df.confidence = df.confidence.replace(\n",
    "                {0:'x', 1:'x', 2:'x', 3:'x', 4:'x', 5:'x', 6:'x', 7:'l', 8:'n', 9:'h'})\n",
    "            df['frp'] = frp\n",
    "            df['t4'] = t4\n",
    "            df['t5'] = t5\n",
    "            df['m13'] = m13\n",
    "            df['acq_date'] = acqdate\n",
    "            df['acq_time'] = acqtime\n",
    "            df['daynight'] = swath.DayNightFlag\n",
    "            df['satellite'] = swath.PlatformShortName\n",
    "            df['short_name'] = swath.ShortName\n",
    "            df['granule_id'] = granule_id\n",
    "            df['geo_id'] = geo_id\n",
    "        \n",
    "            df = pd.merge(df, self.lut, left_on='j', right_on='sample', how='left')\n",
    "            df.drop(columns=['j'], inplace=True)\n",
    "            \n",
    "            granule_dfs.append(df) # append the granule dataframe\n",
    "\n",
    "            # write the granule id to the log file\n",
    "            with open(self.granule_log, 'a') as log_file:\n",
    "                log_file.write(f\"{granule_id}\\n\")\n",
    "\n",
    "            # save a csv file\n",
    "            out_dir = os.path.join(dataraw,\"granules/\")\n",
    "            if not os.path.exists(out_dir):\n",
    "                os.makedirs(out_dir)\n",
    "            df.to_csv(os.path.join(out_dir,f\"{granule_id[:-3]}.csv\"))\n",
    "\n",
    "        gc.collect() # clear out garbage\n",
    "        \n",
    "        # concatenate the out dfs\n",
    "        if len(granule_dfs) > 0:\n",
    "            fire_data = pd.concat(granule_dfs) # for the entire list of granules\n",
    "            return fire_data\n",
    "        else:\n",
    "            return None\n",
    "\n",
    "print(\"Class and functions ready !\")"
   ]
  },
  {
   "cell_type": "code",
   "execution_count": null,
   "id": "b01fda4e-77aa-449d-a1f6-a2539419007a",
   "metadata": {},
   "outputs": [],
   "source": []
  },
  {
   "cell_type": "code",
   "execution_count": 3,
   "id": "0a1ed65d-83b6-4892-8253-e4b4158beab2",
   "metadata": {},
   "outputs": [],
   "source": [
    "# Load the fire data"
   ]
  },
  {
   "cell_type": "code",
   "execution_count": 4,
   "id": "5d1db138-d9da-4606-a1fe-7154b40c17aa",
   "metadata": {},
   "outputs": [
    {
     "name": "stdout",
     "output_type": "stream",
     "text": [
      "Available attributes: \n",
      "Index(['Fire_ID', 'Fire_Name', 'NIFC_ACRES', 'FINAL_ACRES', 'pct_aspen',\n",
      "       'INCIDENT_ID', 'INCIDENT_NAME', 'START_YEAR', 'CAUSE', 'DISCOVERY_DATE',\n",
      "       'DISCOVERY_DOY', 'WF_CESSATION_DATE', 'WF_CESSATION_DOY',\n",
      "       'STR_DESTROYED_TOTAL', 'STR_DAMAGED_TOTAL', 'STR_THREATENED_MAX',\n",
      "       'EVACUATION_REPORTED', 'PEAK_EVACUATIONS', 'WF_PEAK_AERIAL',\n",
      "       'WF_PEAK_PERSONNEL', 'na_l3name', 'first_obs_date', 'last_obs_date',\n",
      "       'obs_count', 'geometry'],\n",
      "      dtype='object')\n",
      "\n",
      "There are [62] fires.\n"
     ]
    },
    {
     "data": {
      "text/html": [
       "<div>\n",
       "<style scoped>\n",
       "    .dataframe tbody tr th:only-of-type {\n",
       "        vertical-align: middle;\n",
       "    }\n",
       "\n",
       "    .dataframe tbody tr th {\n",
       "        vertical-align: top;\n",
       "    }\n",
       "\n",
       "    .dataframe thead th {\n",
       "        text-align: right;\n",
       "    }\n",
       "</style>\n",
       "<table border=\"1\" class=\"dataframe\">\n",
       "  <thead>\n",
       "    <tr style=\"text-align: right;\">\n",
       "      <th></th>\n",
       "      <th>Fire_Name</th>\n",
       "      <th>DISCOVERY_DATE</th>\n",
       "      <th>first_obs_date</th>\n",
       "      <th>WF_CESSATION_DATE</th>\n",
       "      <th>last_obs_date</th>\n",
       "      <th>obs_count</th>\n",
       "    </tr>\n",
       "  </thead>\n",
       "  <tbody>\n",
       "    <tr>\n",
       "      <th>1</th>\n",
       "      <td>577</td>\n",
       "      <td>2019-07-28</td>\n",
       "      <td>2019-07-30</td>\n",
       "      <td>2019-08-18</td>\n",
       "      <td>2019-08-14</td>\n",
       "      <td>2</td>\n",
       "    </tr>\n",
       "    <tr>\n",
       "      <th>2</th>\n",
       "      <td>416</td>\n",
       "      <td>2018-06-01</td>\n",
       "      <td>2018-06-01</td>\n",
       "      <td>2018-07-03</td>\n",
       "      <td>2018-07-06</td>\n",
       "      <td>3113</td>\n",
       "    </tr>\n",
       "    <tr>\n",
       "      <th>3</th>\n",
       "      <td>LOADING PEN</td>\n",
       "      <td>2020-06-13</td>\n",
       "      <td>2020-06-14</td>\n",
       "      <td>2020-06-18</td>\n",
       "      <td>2020-06-18</td>\n",
       "      <td>6</td>\n",
       "    </tr>\n",
       "    <tr>\n",
       "      <th>4</th>\n",
       "      <td>PLATEAU</td>\n",
       "      <td>2018-07-22</td>\n",
       "      <td>2018-07-24</td>\n",
       "      <td>2018-08-17</td>\n",
       "      <td>2018-08-19</td>\n",
       "      <td>899</td>\n",
       "    </tr>\n",
       "    <tr>\n",
       "      <th>5</th>\n",
       "      <td>PLUMTAW</td>\n",
       "      <td>2022-05-17</td>\n",
       "      <td>2022-05-17</td>\n",
       "      <td>2022-05-18</td>\n",
       "      <td>2022-05-19</td>\n",
       "      <td>41</td>\n",
       "    </tr>\n",
       "  </tbody>\n",
       "</table>\n",
       "</div>"
      ],
      "text/plain": [
       "     Fire_Name DISCOVERY_DATE first_obs_date WF_CESSATION_DATE last_obs_date  \\\n",
       "1          577     2019-07-28     2019-07-30        2019-08-18    2019-08-14   \n",
       "2          416     2018-06-01     2018-06-01        2018-07-03    2018-07-06   \n",
       "3  LOADING PEN     2020-06-13     2020-06-14        2020-06-18    2020-06-18   \n",
       "4      PLATEAU     2018-07-22     2018-07-24        2018-08-17    2018-08-19   \n",
       "5      PLUMTAW     2022-05-17     2022-05-17        2022-05-18    2022-05-19   \n",
       "\n",
       "   obs_count  \n",
       "1          2  \n",
       "2       3113  \n",
       "3          6  \n",
       "4        899  \n",
       "5         41  "
      ]
     },
     "execution_count": 4,
     "metadata": {},
     "output_type": "execute_result"
    }
   ],
   "source": [
    "# Load the fire dataset for the Southern Rockies\n",
    "fires = gpd.read_file(os.path.join(projdir,'data/spatial/mod/NIFC/nifc-ics_2018_to_2023-aspen-obs.gpkg'))\n",
    "fires = fires[fires['na_l3name'] == 'Southern Rockies']\n",
    "\n",
    "# tidy the fire id and name columns\n",
    "fires.rename(columns={'NIFC_ID': 'Fire_ID', 'NIFC_NAME': 'Fire_Name'}, inplace=True)\n",
    "fires['obs_count'] = fires['obs_count'].fillna(0).astype(int) # fill NaN as 0 obs.\n",
    "fires = fires[fires['obs_count'] != 0]\n",
    "# tidy the date columns\n",
    "fires['DISCOVERY_DATE'] = pd.to_datetime(fires['DISCOVERY_DATE']).dt.date\n",
    "fires['WF_CESSATION_DATE'] = pd.to_datetime(fires['WF_CESSATION_DATE']).dt.date\n",
    "\n",
    "print(f\"Available attributes: \\n{fires.columns}\")\n",
    "print(f\"\\nThere are [{len(fires)}] fires.\")\n",
    "fires[['Fire_Name','DISCOVERY_DATE','first_obs_date','WF_CESSATION_DATE','last_obs_date','obs_count']].head()"
   ]
  },
  {
   "cell_type": "code",
   "execution_count": 5,
   "id": "9351c3e9-2129-4c63-85f3-5293a6fb2890",
   "metadata": {},
   "outputs": [
    {
     "name": "stdout",
     "output_type": "stream",
     "text": [
      "count       62.000000\n",
      "mean      1048.629032\n",
      "std       2490.751597\n",
      "min          1.000000\n",
      "25%         21.000000\n",
      "50%         96.000000\n",
      "75%        795.000000\n",
      "max      13428.000000\n",
      "Name: obs_count, dtype: float64\n",
      "\n",
      "There are [50] fires with > 10 VIIRS obs.\n"
     ]
    }
   ],
   "source": [
    "print(fires['obs_count'].describe())\n",
    "fires = fires[fires['obs_count'] >= 10]\n",
    "print(f\"\\nThere are [{len(fires)}] fires with > 10 VIIRS obs.\")"
   ]
  },
  {
   "cell_type": "code",
   "execution_count": 6,
   "id": "a8af0edb-153d-45e8-9d84-35086aa3215c",
   "metadata": {},
   "outputs": [
    {
     "name": "stdout",
     "output_type": "stream",
     "text": [
      "Date\n",
      "2018-08-08    6\n",
      "2018-08-07    6\n",
      "2018-07-29    6\n",
      "2018-07-30    6\n",
      "2018-07-31    6\n",
      "Name: count, dtype: int64\n"
     ]
    }
   ],
   "source": [
    "# Create a DataFrame with individual dates for each fire\n",
    "date_counts = pd.DataFrame(\n",
    "    [(fire['Fire_ID'], single_date)\n",
    "     for _, fire in fires.iterrows()\n",
    "     for single_date in pd.date_range(fire['DISCOVERY_DATE'], fire['WF_CESSATION_DATE'])],\n",
    "    columns=['Fire_ID', 'Date']\n",
    ")['Date'].value_counts()\n",
    "print(date_counts.head())"
   ]
  },
  {
   "cell_type": "code",
   "execution_count": 7,
   "id": "1cc3c956-82e0-4fe5-803c-138d4b5a2e8f",
   "metadata": {},
   "outputs": [
    {
     "name": "stdout",
     "output_type": "stream",
     "text": [
      "Start and end dates adjusted by 1 day ...\n"
     ]
    }
   ],
   "source": [
    "# Adjust the first and last date by one for the earthaccess search\n",
    "fires['first_obs_date'] = fires['first_obs_date'] - pd.Timedelta(days=1)\n",
    "fires['last_obs_date'] = fires['last_obs_date'] + pd.Timedelta(days=1)\n",
    "print(\"Start and end dates adjusted by 1 day ...\")"
   ]
  },
  {
   "cell_type": "code",
   "execution_count": null,
   "id": "141b5cad-1f98-44bd-852e-abe5129f8a4b",
   "metadata": {},
   "outputs": [],
   "source": []
  },
  {
   "cell_type": "code",
   "execution_count": null,
   "id": "014fb18e-1db4-4def-aedd-8b833b51e26b",
   "metadata": {},
   "outputs": [],
   "source": []
  },
  {
   "cell_type": "code",
   "execution_count": 8,
   "id": "8c92ac8f-4196-4e9f-a815-b7e45965d18e",
   "metadata": {},
   "outputs": [],
   "source": [
    "# Run for fire perimeters"
   ]
  },
  {
   "cell_type": "code",
   "execution_count": 11,
   "id": "070823f2-cc03-4408-8b58-3467a1d4e45f",
   "metadata": {},
   "outputs": [
    {
     "name": "stdout",
     "output_type": "stream",
     "text": [
      "Already processed [3241] granules.\n",
      "\n"
     ]
    }
   ],
   "source": [
    "# Check for already processed granules\n",
    "granule_log = os.path.join(dataraw, 'logs/vnp_vji_processed_granules.txt')\n",
    "if os.path.exists(granule_log):\n",
    "    with open(granule_log, 'r') as log_file:\n",
    "        granules_p = set([line.strip() for line in log_file.readlines()])\n",
    "else:\n",
    "    granules_p = set()\n",
    "\n",
    "print(f\"Already processed [{len(granules_p)}] granules.\\n\")"
   ]
  },
  {
   "cell_type": "code",
   "execution_count": 10,
   "id": "c72c3128-d09b-4523-a0e9-bf90a63b5bcb",
   "metadata": {},
   "outputs": [
    {
     "name": "stdout",
     "output_type": "stream",
     "text": [
      "Processing for 416 fire:\n",
      "Granules found: 215\n",
      "\t! All granules already processed, skipping ... !\n",
      "Processing for BURRO fire:\n",
      "Granules found: 162\n",
      "\t! All granules already processed, skipping ... !\n",
      "Processing for BADGER_CREEK fire:\n",
      "Granules found: 148\n",
      "\t! All granules already processed, skipping ... !\n",
      "Processing for SARDINAS_CANYON fire:\n",
      "Granules found: 46\n",
      "\t! All granules already processed, skipping ... !\n",
      "Processing for SPRING_CREEK fire:\n",
      "Granules found: 91\n",
      "\t! All granules already processed, skipping ... !\n",
      "Processing for WESTON_PASS fire:\n",
      "Granules found: 47\n",
      "\t! All granules already processed, skipping ... !\n",
      "Processing for LAKE_CHRISTINE fire:\n",
      "Granules found: 181\n",
      "\t! All granules already processed, skipping ... !\n",
      "Processing for SILVER_CREEK fire:\n",
      "Granules found: 456\n",
      "\t! All granules already processed, skipping ... !\n",
      "Processing for SARCA fire:\n",
      "Granules found: 107\n",
      "\t! All granules already processed, skipping ... !\n",
      "Processing for WEST_GUARD fire:\n",
      "Granules found: 91\n",
      "\t! All granules already processed, skipping ... !\n",
      "Processing for PLATEAU fire:\n",
      "Granules found: 166\n",
      "\t! All granules already processed, skipping ... !\n",
      "Processing for CACHE_CREEK fire:\n",
      "Granules found: 129\n",
      "\t! All granules already processed, skipping ... !\n",
      "Processing for CABIN_LAKE fire:\n",
      "Granules found: 132\n",
      "\t! All granules already processed, skipping ... !\n",
      "Processing for BULL_DRAW fire:\n",
      "Granules found: 380\n",
      "\t! All granules already processed, skipping ... !\n",
      "Processing for HORSE fire:\n",
      "Granules found: 192\n",
      "\t! All granules already processed, skipping ... !\n",
      "Processing for RYAN fire:\n",
      "Granules found: 118\n",
      "\t! All granules already processed, skipping ... !\n",
      "Processing for DOE_CANYON fire:\n",
      "Granules found: 69\n",
      "\t! All granules already processed, skipping ... !\n",
      "Processing for 441 fire:\n",
      "Granules found: 46\n",
      "\t! All granules already processed, skipping ... !\n",
      "Processing for MIDDLE_MAMM fire:\n",
      "Granules found: 350\n",
      "\t! All granules already processed, skipping ... !\n",
      "Processing for AMOLE fire:\n",
      "Granules found: 98\n",
      "\t! All granules already processed, skipping ... !\n",
      "Processing for DECKER fire:\n",
      "Granules found: 255\n",
      "\t! All granules already processed, skipping ... !\n",
      "Processing for BRUSH_CREEK fire:\n",
      "Granules found: 18\n",
      "\t! All granules already processed, skipping ... !\n",
      "Processing for COW_CREEK fire:\n",
      "Granules found: 53\n",
      "\t! All granules already processed, skipping ... !\n",
      "Processing for SAND_CREEK fire:\n",
      "Granules found: 108\n",
      "\t! All granules already processed, skipping ... !\n",
      "Processing for GRIZZLY_CREEK fire:\n",
      "Granules found: 113\n",
      "\t! All granules already processed, skipping ... !\n",
      "Processing for CAMERON_PEAK fire:\n",
      "Granules found: 469\n",
      "\n",
      "\t! Some granules already processed [97] !\n",
      "Opening 372 granules, approx size: 0.73 GB\n"
     ]
    },
    {
     "data": {
      "application/vnd.jupyter.widget-view+json": {
       "model_id": "ad2f4932eb69468ba621e04f0265532e",
       "version_major": 2,
       "version_minor": 0
      },
      "text/plain": [
       "QUEUEING TASKS | :   0%|          | 0/372 [00:00<?, ?it/s]"
      ]
     },
     "metadata": {},
     "output_type": "display_data"
    },
    {
     "data": {
      "application/vnd.jupyter.widget-view+json": {
       "model_id": "c75a38c7d6ac419db88f2bd397eb7ba5",
       "version_major": 2,
       "version_minor": 0
      },
      "text/plain": [
       "PROCESSING TASKS | :   0%|          | 0/372 [00:00<?, ?it/s]"
      ]
     },
     "metadata": {},
     "output_type": "display_data"
    },
    {
     "data": {
      "application/vnd.jupyter.widget-view+json": {
       "model_id": "3bbd1a854f02441ab7fe7a589b87b589",
       "version_major": 2,
       "version_minor": 0
      },
      "text/plain": [
       "COLLECTING RESULTS | :   0%|          | 0/372 [00:00<?, ?it/s]"
      ]
     },
     "metadata": {},
     "output_type": "display_data"
    },
    {
     "name": "stdout",
     "output_type": "stream",
     "text": [
      "\n",
      "\tExtracting active fires ...\n",
      "\n"
     ]
    },
    {
     "data": {
      "application/vnd.jupyter.widget-view+json": {
       "model_id": "fe44a22cfd264b1fa30f7b39501aa495",
       "version_major": 2,
       "version_minor": 0
      },
      "text/plain": [
       "Processing granules:   0%|          | 0/372 [00:00<?, ?it/s]"
      ]
     },
     "metadata": {},
     "output_type": "display_data"
    },
    {
     "name": "stdout",
     "output_type": "stream",
     "text": [
      "\n",
      "Total elapsed time for 70    CAMERON PEAK\n",
      "Name: Fire_Name, dtype: object: 8.61 minutes.\n",
      "\n",
      "~~~~~~~~~~\n",
      "\n",
      "Processing for WILLIAMS_FORK fire:\n",
      "Granules found: 443\n",
      "\n",
      "\t! Some granules already processed [430] !\n",
      "Opening 13 granules, approx size: 0.02 GB\n"
     ]
    },
    {
     "data": {
      "application/vnd.jupyter.widget-view+json": {
       "model_id": "e56a02d79f6d4e48914a8039473d2740",
       "version_major": 2,
       "version_minor": 0
      },
      "text/plain": [
       "QUEUEING TASKS | :   0%|          | 0/13 [00:00<?, ?it/s]"
      ]
     },
     "metadata": {},
     "output_type": "display_data"
    },
    {
     "data": {
      "application/vnd.jupyter.widget-view+json": {
       "model_id": "a220cf98d0d349d8a987ef98bd20b54e",
       "version_major": 2,
       "version_minor": 0
      },
      "text/plain": [
       "PROCESSING TASKS | :   0%|          | 0/13 [00:00<?, ?it/s]"
      ]
     },
     "metadata": {},
     "output_type": "display_data"
    },
    {
     "data": {
      "application/vnd.jupyter.widget-view+json": {
       "model_id": "7f55073a482d4186a1863feaa4a44448",
       "version_major": 2,
       "version_minor": 0
      },
      "text/plain": [
       "COLLECTING RESULTS | :   0%|          | 0/13 [00:00<?, ?it/s]"
      ]
     },
     "metadata": {},
     "output_type": "display_data"
    },
    {
     "name": "stdout",
     "output_type": "stream",
     "text": [
      "\n",
      "\tExtracting active fires ...\n",
      "\n"
     ]
    },
    {
     "data": {
      "application/vnd.jupyter.widget-view+json": {
       "model_id": "580897566510404e86bc13744724fe8c",
       "version_major": 2,
       "version_minor": 0
      },
      "text/plain": [
       "Processing granules:   0%|          | 0/13 [00:00<?, ?it/s]"
      ]
     },
     "metadata": {},
     "output_type": "display_data"
    },
    {
     "name": "stdout",
     "output_type": "stream",
     "text": [
      "\n",
      "Total elapsed time for 76    WILLIAMS FORK\n",
      "Name: Fire_Name, dtype: object: 0.47 minutes.\n",
      "\n",
      "~~~~~~~~~~\n",
      "\n",
      "Processing for MIDDLE_FORK fire:\n",
      "Granules found: 296\n",
      "\n",
      "\t! Some granules already processed [292] !\n",
      "Opening 4 granules, approx size: 0.01 GB\n"
     ]
    },
    {
     "data": {
      "application/vnd.jupyter.widget-view+json": {
       "model_id": "c1f6facf055c49e794cb95e8e8c94bc3",
       "version_major": 2,
       "version_minor": 0
      },
      "text/plain": [
       "QUEUEING TASKS | :   0%|          | 0/4 [00:00<?, ?it/s]"
      ]
     },
     "metadata": {},
     "output_type": "display_data"
    },
    {
     "data": {
      "application/vnd.jupyter.widget-view+json": {
       "model_id": "fc3f2bd348c8479caba23b6a5c1290f3",
       "version_major": 2,
       "version_minor": 0
      },
      "text/plain": [
       "PROCESSING TASKS | :   0%|          | 0/4 [00:00<?, ?it/s]"
      ]
     },
     "metadata": {},
     "output_type": "display_data"
    },
    {
     "data": {
      "application/vnd.jupyter.widget-view+json": {
       "model_id": "7b1411603e244ea48299275696b23f03",
       "version_major": 2,
       "version_minor": 0
      },
      "text/plain": [
       "COLLECTING RESULTS | :   0%|          | 0/4 [00:00<?, ?it/s]"
      ]
     },
     "metadata": {},
     "output_type": "display_data"
    },
    {
     "name": "stdout",
     "output_type": "stream",
     "text": [
      "\n",
      "\tExtracting active fires ...\n",
      "\n"
     ]
    },
    {
     "data": {
      "application/vnd.jupyter.widget-view+json": {
       "model_id": "09789cde33794fd397fc57c34d869145",
       "version_major": 2,
       "version_minor": 0
      },
      "text/plain": [
       "Processing granules:   0%|          | 0/4 [00:00<?, ?it/s]"
      ]
     },
     "metadata": {},
     "output_type": "display_data"
    },
    {
     "name": "stdout",
     "output_type": "stream",
     "text": [
      "\n",
      "Total elapsed time for 116    MIDDLE FORK\n",
      "Name: Fire_Name, dtype: object: 0.13 minutes.\n",
      "\n",
      "~~~~~~~~~~\n",
      "\n",
      "Processing for MULLEN fire:\n",
      "Granules found: 203\n",
      "\n",
      "\t! Some granules already processed [198] !\n",
      "Opening 5 granules, approx size: 0.01 GB\n"
     ]
    },
    {
     "data": {
      "application/vnd.jupyter.widget-view+json": {
       "model_id": "66efdf211aff4c139465508721fe603f",
       "version_major": 2,
       "version_minor": 0
      },
      "text/plain": [
       "QUEUEING TASKS | :   0%|          | 0/5 [00:00<?, ?it/s]"
      ]
     },
     "metadata": {},
     "output_type": "display_data"
    },
    {
     "data": {
      "application/vnd.jupyter.widget-view+json": {
       "model_id": "20e89624e15f4f3da6a68272b878660d",
       "version_major": 2,
       "version_minor": 0
      },
      "text/plain": [
       "PROCESSING TASKS | :   0%|          | 0/5 [00:00<?, ?it/s]"
      ]
     },
     "metadata": {},
     "output_type": "display_data"
    },
    {
     "data": {
      "application/vnd.jupyter.widget-view+json": {
       "model_id": "a9bcca44a1cf48eea5e1d8c59dcdc6d5",
       "version_major": 2,
       "version_minor": 0
      },
      "text/plain": [
       "COLLECTING RESULTS | :   0%|          | 0/5 [00:00<?, ?it/s]"
      ]
     },
     "metadata": {},
     "output_type": "display_data"
    },
    {
     "name": "stdout",
     "output_type": "stream",
     "text": [
      "\n",
      "\tExtracting active fires ...\n",
      "\n"
     ]
    },
    {
     "data": {
      "application/vnd.jupyter.widget-view+json": {
       "model_id": "e296aa8624af4c07852c38fbe237edfa",
       "version_major": 2,
       "version_minor": 0
      },
      "text/plain": [
       "Processing granules:   0%|          | 0/5 [00:00<?, ?it/s]"
      ]
     },
     "metadata": {},
     "output_type": "display_data"
    },
    {
     "name": "stdout",
     "output_type": "stream",
     "text": [
      "\n",
      "Total elapsed time for 115    MULLEN\n",
      "Name: Fire_Name, dtype: object: 0.14 minutes.\n",
      "\n",
      "~~~~~~~~~~\n",
      "\n",
      "Processing for EAST_TROUBLESOME fire:\n",
      "Granules found: 75\n",
      "\t! All granules already processed, skipping ... !\n",
      "Processing for LUNA fire:\n",
      "Granules found: 54\n",
      "\n",
      "\t! Some granules already processed [39] !\n",
      "Opening 15 granules, approx size: 0.02 GB\n"
     ]
    },
    {
     "data": {
      "application/vnd.jupyter.widget-view+json": {
       "model_id": "dbf34a80aa43459b8a82f6e56a43ba7f",
       "version_major": 2,
       "version_minor": 0
      },
      "text/plain": [
       "QUEUEING TASKS | :   0%|          | 0/15 [00:00<?, ?it/s]"
      ]
     },
     "metadata": {},
     "output_type": "display_data"
    },
    {
     "data": {
      "application/vnd.jupyter.widget-view+json": {
       "model_id": "bf4b8c064eb544d49fa1e5774ff5118f",
       "version_major": 2,
       "version_minor": 0
      },
      "text/plain": [
       "PROCESSING TASKS | :   0%|          | 0/15 [00:00<?, ?it/s]"
      ]
     },
     "metadata": {},
     "output_type": "display_data"
    },
    {
     "data": {
      "application/vnd.jupyter.widget-view+json": {
       "model_id": "b52f47681a1248d0bc72e92093a3a3b2",
       "version_major": 2,
       "version_minor": 0
      },
      "text/plain": [
       "COLLECTING RESULTS | :   0%|          | 0/15 [00:00<?, ?it/s]"
      ]
     },
     "metadata": {},
     "output_type": "display_data"
    },
    {
     "name": "stdout",
     "output_type": "stream",
     "text": [
      "\n",
      "\tExtracting active fires ...\n",
      "\n"
     ]
    },
    {
     "data": {
      "application/vnd.jupyter.widget-view+json": {
       "model_id": "00029988a9d4404ab09d0e02ee71873a",
       "version_major": 2,
       "version_minor": 0
      },
      "text/plain": [
       "Processing granules:   0%|          | 0/15 [00:00<?, ?it/s]"
      ]
     },
     "metadata": {},
     "output_type": "display_data"
    },
    {
     "name": "stdout",
     "output_type": "stream",
     "text": [
      "\n",
      "Total elapsed time for 90    LUNA\n",
      "Name: Fire_Name, dtype: object: 0.36 minutes.\n",
      "\n",
      "~~~~~~~~~~\n",
      "\n",
      "Processing for LEFTHAND fire:\n",
      "Granules found: 18\n",
      "\t! All granules already processed, skipping ... !\n",
      "Processing for ICE fire:\n",
      "Granules found: 29\n",
      "\n",
      "\t! Some granules already processed [28] !\n",
      "Opening 1 granules, approx size: 0.0 GB\n"
     ]
    },
    {
     "data": {
      "application/vnd.jupyter.widget-view+json": {
       "model_id": "47f0355850424529be5a128b3e71daee",
       "version_major": 2,
       "version_minor": 0
      },
      "text/plain": [
       "QUEUEING TASKS | :   0%|          | 0/1 [00:00<?, ?it/s]"
      ]
     },
     "metadata": {},
     "output_type": "display_data"
    },
    {
     "data": {
      "application/vnd.jupyter.widget-view+json": {
       "model_id": "f97de3a485a14258891fbdf56e624189",
       "version_major": 2,
       "version_minor": 0
      },
      "text/plain": [
       "PROCESSING TASKS | :   0%|          | 0/1 [00:00<?, ?it/s]"
      ]
     },
     "metadata": {},
     "output_type": "display_data"
    },
    {
     "data": {
      "application/vnd.jupyter.widget-view+json": {
       "model_id": "0bbbbffb9c9d49fe9d6f4252158a00fd",
       "version_major": 2,
       "version_minor": 0
      },
      "text/plain": [
       "COLLECTING RESULTS | :   0%|          | 0/1 [00:00<?, ?it/s]"
      ]
     },
     "metadata": {},
     "output_type": "display_data"
    },
    {
     "name": "stdout",
     "output_type": "stream",
     "text": [
      "\n",
      "\tExtracting active fires ...\n",
      "\n"
     ]
    },
    {
     "data": {
      "application/vnd.jupyter.widget-view+json": {
       "model_id": "cebd97d713d849c19cb8cd3e67f3db38",
       "version_major": 2,
       "version_minor": 0
      },
      "text/plain": [
       "Processing granules:   0%|          | 0/1 [00:00<?, ?it/s]"
      ]
     },
     "metadata": {},
     "output_type": "display_data"
    },
    {
     "name": "stdout",
     "output_type": "stream",
     "text": [
      "\n",
      "Total elapsed time for 109    ICE\n",
      "Name: Fire_Name, dtype: object: 0.08 minutes.\n",
      "\n",
      "~~~~~~~~~~\n",
      "\n",
      "Processing for PACK_CREEK fire:\n",
      "Granules found: 88\n",
      "\n",
      "\t! Starting processing for [88] granules !\n",
      "Opening 88 granules, approx size: 0.18 GB\n"
     ]
    },
    {
     "data": {
      "application/vnd.jupyter.widget-view+json": {
       "model_id": "ec93c135025546f893ee5a76ce42016d",
       "version_major": 2,
       "version_minor": 0
      },
      "text/plain": [
       "QUEUEING TASKS | :   0%|          | 0/88 [00:00<?, ?it/s]"
      ]
     },
     "metadata": {},
     "output_type": "display_data"
    },
    {
     "data": {
      "application/vnd.jupyter.widget-view+json": {
       "model_id": "89fda456f7ec44df868b6c399a392a4e",
       "version_major": 2,
       "version_minor": 0
      },
      "text/plain": [
       "PROCESSING TASKS | :   0%|          | 0/88 [00:00<?, ?it/s]"
      ]
     },
     "metadata": {},
     "output_type": "display_data"
    },
    {
     "data": {
      "application/vnd.jupyter.widget-view+json": {
       "model_id": "58cca0f1e4284be895693acd91f34563",
       "version_major": 2,
       "version_minor": 0
      },
      "text/plain": [
       "COLLECTING RESULTS | :   0%|          | 0/88 [00:00<?, ?it/s]"
      ]
     },
     "metadata": {},
     "output_type": "display_data"
    },
    {
     "name": "stdout",
     "output_type": "stream",
     "text": [
      "\n",
      "\tExtracting active fires ...\n",
      "\n"
     ]
    },
    {
     "data": {
      "application/vnd.jupyter.widget-view+json": {
       "model_id": "dfea259e647f4d56a3140571d88be342",
       "version_major": 2,
       "version_minor": 0
      },
      "text/plain": [
       "Processing granules:   0%|          | 0/88 [00:00<?, ?it/s]"
      ]
     },
     "metadata": {},
     "output_type": "display_data"
    },
    {
     "name": "stdout",
     "output_type": "stream",
     "text": [
      "\n",
      "Total elapsed time for 38    PACK CREEK\n",
      "Name: Fire_Name, dtype: object: 2.04 minutes.\n",
      "\n",
      "~~~~~~~~~~\n",
      "\n",
      "Processing for SYLVAN fire:\n",
      "Granules found: 23\n",
      "\n",
      "\t! Some granules already processed [21] !\n",
      "Opening 2 granules, approx size: 0.01 GB\n"
     ]
    },
    {
     "data": {
      "application/vnd.jupyter.widget-view+json": {
       "model_id": "c843869ae1344fee95ec73132820ecb4",
       "version_major": 2,
       "version_minor": 0
      },
      "text/plain": [
       "QUEUEING TASKS | :   0%|          | 0/2 [00:00<?, ?it/s]"
      ]
     },
     "metadata": {},
     "output_type": "display_data"
    },
    {
     "data": {
      "application/vnd.jupyter.widget-view+json": {
       "model_id": "8d569855b22141228b4907cb42088f31",
       "version_major": 2,
       "version_minor": 0
      },
      "text/plain": [
       "PROCESSING TASKS | :   0%|          | 0/2 [00:00<?, ?it/s]"
      ]
     },
     "metadata": {},
     "output_type": "display_data"
    },
    {
     "data": {
      "application/vnd.jupyter.widget-view+json": {
       "model_id": "489f2f1dd67441368ddcfe971bb33cc5",
       "version_major": 2,
       "version_minor": 0
      },
      "text/plain": [
       "COLLECTING RESULTS | :   0%|          | 0/2 [00:00<?, ?it/s]"
      ]
     },
     "metadata": {},
     "output_type": "display_data"
    },
    {
     "name": "stdout",
     "output_type": "stream",
     "text": [
      "\n",
      "\tExtracting active fires ...\n",
      "\n"
     ]
    },
    {
     "data": {
      "application/vnd.jupyter.widget-view+json": {
       "model_id": "ec49ae5d96de4949ad21f73a3397c1e9",
       "version_major": 2,
       "version_minor": 0
      },
      "text/plain": [
       "Processing granules:   0%|          | 0/2 [00:00<?, ?it/s]"
      ]
     },
     "metadata": {},
     "output_type": "display_data"
    },
    {
     "name": "stdout",
     "output_type": "stream",
     "text": [
      "\n",
      "Total elapsed time for 26    SYLVAN\n",
      "Name: Fire_Name, dtype: object: 0.10 minutes.\n",
      "\n",
      "~~~~~~~~~~\n",
      "\n",
      "Processing for MUDDY_SLIDE fire:\n",
      "Granules found: 25\n",
      "\n",
      "\t! Some granules already processed [23] !\n",
      "Opening 2 granules, approx size: 0.0 GB\n"
     ]
    },
    {
     "data": {
      "application/vnd.jupyter.widget-view+json": {
       "model_id": "b7596160d2404976855687927a1b62b1",
       "version_major": 2,
       "version_minor": 0
      },
      "text/plain": [
       "QUEUEING TASKS | :   0%|          | 0/2 [00:00<?, ?it/s]"
      ]
     },
     "metadata": {},
     "output_type": "display_data"
    },
    {
     "data": {
      "application/vnd.jupyter.widget-view+json": {
       "model_id": "fcf133193b45476b8aefcc4442e85841",
       "version_major": 2,
       "version_minor": 0
      },
      "text/plain": [
       "PROCESSING TASKS | :   0%|          | 0/2 [00:00<?, ?it/s]"
      ]
     },
     "metadata": {},
     "output_type": "display_data"
    },
    {
     "data": {
      "application/vnd.jupyter.widget-view+json": {
       "model_id": "f5a24ece3d414987985b0aa6f056f3b0",
       "version_major": 2,
       "version_minor": 0
      },
      "text/plain": [
       "COLLECTING RESULTS | :   0%|          | 0/2 [00:00<?, ?it/s]"
      ]
     },
     "metadata": {},
     "output_type": "display_data"
    },
    {
     "name": "stdout",
     "output_type": "stream",
     "text": [
      "\n",
      "\tExtracting active fires ...\n",
      "\n"
     ]
    },
    {
     "data": {
      "application/vnd.jupyter.widget-view+json": {
       "model_id": "ad73ba476bfa4b73962228975c784884",
       "version_major": 2,
       "version_minor": 0
      },
      "text/plain": [
       "Processing granules:   0%|          | 0/2 [00:00<?, ?it/s]"
      ]
     },
     "metadata": {},
     "output_type": "display_data"
    },
    {
     "name": "stdout",
     "output_type": "stream",
     "text": [
      "\n",
      "Total elapsed time for 117    MUDDY SLIDE\n",
      "Name: Fire_Name, dtype: object: 0.07 minutes.\n",
      "\n",
      "~~~~~~~~~~\n",
      "\n",
      "Processing for MORGAN_CREEK fire:\n",
      "Granules found: 129\n",
      "\n",
      "\t! Starting processing for [129] granules !\n",
      "Opening 129 granules, approx size: 0.29 GB\n"
     ]
    },
    {
     "data": {
      "application/vnd.jupyter.widget-view+json": {
       "model_id": "495b9ecfd0aa498ba1bf428412712f52",
       "version_major": 2,
       "version_minor": 0
      },
      "text/plain": [
       "QUEUEING TASKS | :   0%|          | 0/129 [00:00<?, ?it/s]"
      ]
     },
     "metadata": {},
     "output_type": "display_data"
    },
    {
     "data": {
      "application/vnd.jupyter.widget-view+json": {
       "model_id": "0d8d556f511a4a1c9e30bfd29d571921",
       "version_major": 2,
       "version_minor": 0
      },
      "text/plain": [
       "PROCESSING TASKS | :   0%|          | 0/129 [00:00<?, ?it/s]"
      ]
     },
     "metadata": {},
     "output_type": "display_data"
    },
    {
     "data": {
      "application/vnd.jupyter.widget-view+json": {
       "model_id": "d9b0ca8242a742df874b167a63dde4bb",
       "version_major": 2,
       "version_minor": 0
      },
      "text/plain": [
       "COLLECTING RESULTS | :   0%|          | 0/129 [00:00<?, ?it/s]"
      ]
     },
     "metadata": {},
     "output_type": "display_data"
    },
    {
     "name": "stdout",
     "output_type": "stream",
     "text": [
      "\n",
      "\tExtracting active fires ...\n",
      "\n"
     ]
    },
    {
     "data": {
      "application/vnd.jupyter.widget-view+json": {
       "model_id": "2dab99a15dee46b595fa81b0575be70e",
       "version_major": 2,
       "version_minor": 0
      },
      "text/plain": [
       "Processing granules:   0%|          | 0/129 [00:00<?, ?it/s]"
      ]
     },
     "metadata": {},
     "output_type": "display_data"
    },
    {
     "name": "stdout",
     "output_type": "stream",
     "text": [
      "\n",
      "Total elapsed time for 119    MORGAN CREEK\n",
      "Name: Fire_Name, dtype: object: 3.10 minutes.\n",
      "\n",
      "~~~~~~~~~~\n",
      "\n",
      "Processing for BLACK_MOUNTAIN fire:\n",
      "Granules found: 24\n",
      "\n",
      "\t! Starting processing for [24] granules !\n",
      "Opening 24 granules, approx size: 0.05 GB\n"
     ]
    },
    {
     "data": {
      "application/vnd.jupyter.widget-view+json": {
       "model_id": "6ab2f17972ab4ddca5869fa98fcb334f",
       "version_major": 2,
       "version_minor": 0
      },
      "text/plain": [
       "QUEUEING TASKS | :   0%|          | 0/24 [00:00<?, ?it/s]"
      ]
     },
     "metadata": {},
     "output_type": "display_data"
    },
    {
     "data": {
      "application/vnd.jupyter.widget-view+json": {
       "model_id": "599580275e664a37844471c23d874034",
       "version_major": 2,
       "version_minor": 0
      },
      "text/plain": [
       "PROCESSING TASKS | :   0%|          | 0/24 [00:00<?, ?it/s]"
      ]
     },
     "metadata": {},
     "output_type": "display_data"
    },
    {
     "data": {
      "application/vnd.jupyter.widget-view+json": {
       "model_id": "27af30107cc0460eb2e266f8e1d8c8ac",
       "version_major": 2,
       "version_minor": 0
      },
      "text/plain": [
       "COLLECTING RESULTS | :   0%|          | 0/24 [00:00<?, ?it/s]"
      ]
     },
     "metadata": {},
     "output_type": "display_data"
    },
    {
     "name": "stdout",
     "output_type": "stream",
     "text": [
      "\n",
      "\tExtracting active fires ...\n",
      "\n"
     ]
    },
    {
     "data": {
      "application/vnd.jupyter.widget-view+json": {
       "model_id": "8ccfab4b1c0f4f64a3dee58dd974371b",
       "version_major": 2,
       "version_minor": 0
      },
      "text/plain": [
       "Processing granules:   0%|          | 0/24 [00:00<?, ?it/s]"
      ]
     },
     "metadata": {},
     "output_type": "display_data"
    },
    {
     "name": "stdout",
     "output_type": "stream",
     "text": [
      "\n",
      "Total elapsed time for 120    BLACK MOUNTAIN\n",
      "Name: Fire_Name, dtype: object: 0.55 minutes.\n",
      "\n",
      "~~~~~~~~~~\n",
      "\n",
      "Processing for CALF_CANYON fire:\n",
      "Granules found: 447\n",
      "\n",
      "\t! Starting processing for [447] granules !\n",
      "Opening 447 granules, approx size: 0.89 GB\n"
     ]
    },
    {
     "data": {
      "application/vnd.jupyter.widget-view+json": {
       "model_id": "684531b30e4a465d9b0bcee2b36b759a",
       "version_major": 2,
       "version_minor": 0
      },
      "text/plain": [
       "QUEUEING TASKS | :   0%|          | 0/447 [00:00<?, ?it/s]"
      ]
     },
     "metadata": {},
     "output_type": "display_data"
    },
    {
     "data": {
      "application/vnd.jupyter.widget-view+json": {
       "model_id": "32a465ad9b9141e4a302ee7ea1641b1c",
       "version_major": 2,
       "version_minor": 0
      },
      "text/plain": [
       "PROCESSING TASKS | :   0%|          | 0/447 [00:00<?, ?it/s]"
      ]
     },
     "metadata": {},
     "output_type": "display_data"
    },
    {
     "data": {
      "application/vnd.jupyter.widget-view+json": {
       "model_id": "016d470e55ba4bdaa8d6f67c7fac8aae",
       "version_major": 2,
       "version_minor": 0
      },
      "text/plain": [
       "COLLECTING RESULTS | :   0%|          | 0/447 [00:00<?, ?it/s]"
      ]
     },
     "metadata": {},
     "output_type": "display_data"
    },
    {
     "name": "stdout",
     "output_type": "stream",
     "text": [
      "\n",
      "\tExtracting active fires ...\n",
      "\n"
     ]
    },
    {
     "data": {
      "application/vnd.jupyter.widget-view+json": {
       "model_id": "e0b319cc196443778fe577bf01911176",
       "version_major": 2,
       "version_minor": 0
      },
      "text/plain": [
       "Processing granules:   0%|          | 0/447 [00:00<?, ?it/s]"
      ]
     },
     "metadata": {},
     "output_type": "display_data"
    },
    {
     "name": "stdout",
     "output_type": "stream",
     "text": [
      "\n",
      "Total elapsed time for 49    CALF CANYON\n",
      "Name: Fire_Name, dtype: object: 10.35 minutes.\n",
      "\n",
      "~~~~~~~~~~\n",
      "\n",
      "Processing for CERRO_PELADO fire:\n",
      "Granules found: 171\n",
      "\n",
      "\t! Some granules already processed [169] !\n",
      "Opening 2 granules, approx size: 0.0 GB\n"
     ]
    },
    {
     "data": {
      "application/vnd.jupyter.widget-view+json": {
       "model_id": "f91a38afe6ae426da59379e12a040c68",
       "version_major": 2,
       "version_minor": 0
      },
      "text/plain": [
       "QUEUEING TASKS | :   0%|          | 0/2 [00:00<?, ?it/s]"
      ]
     },
     "metadata": {},
     "output_type": "display_data"
    },
    {
     "data": {
      "application/vnd.jupyter.widget-view+json": {
       "model_id": "9c40425a943c419cbb601402af1e3820",
       "version_major": 2,
       "version_minor": 0
      },
      "text/plain": [
       "PROCESSING TASKS | :   0%|          | 0/2 [00:00<?, ?it/s]"
      ]
     },
     "metadata": {},
     "output_type": "display_data"
    },
    {
     "data": {
      "application/vnd.jupyter.widget-view+json": {
       "model_id": "f1acfe9a46b44ca89b503891153e6979",
       "version_major": 2,
       "version_minor": 0
      },
      "text/plain": [
       "COLLECTING RESULTS | :   0%|          | 0/2 [00:00<?, ?it/s]"
      ]
     },
     "metadata": {},
     "output_type": "display_data"
    },
    {
     "name": "stdout",
     "output_type": "stream",
     "text": [
      "\n",
      "\tExtracting active fires ...\n",
      "\n"
     ]
    },
    {
     "data": {
      "application/vnd.jupyter.widget-view+json": {
       "model_id": "08967a7e93d44cb9aaea6b94cb387f4e",
       "version_major": 2,
       "version_minor": 0
      },
      "text/plain": [
       "Processing granules:   0%|          | 0/2 [00:00<?, ?it/s]"
      ]
     },
     "metadata": {},
     "output_type": "display_data"
    },
    {
     "name": "stdout",
     "output_type": "stream",
     "text": [
      "\n",
      "Total elapsed time for 53    CERRO PELADO\n",
      "Name: Fire_Name, dtype: object: 0.08 minutes.\n",
      "\n",
      "~~~~~~~~~~\n",
      "\n",
      "Processing for PLUMTAW fire:\n",
      "Granules found: 23\n",
      "\n",
      "\t! Some granules already processed [20] !\n",
      "Opening 3 granules, approx size: 0.01 GB\n"
     ]
    },
    {
     "data": {
      "application/vnd.jupyter.widget-view+json": {
       "model_id": "74c5a5d99d5c4e82b7239485d8741484",
       "version_major": 2,
       "version_minor": 0
      },
      "text/plain": [
       "QUEUEING TASKS | :   0%|          | 0/3 [00:00<?, ?it/s]"
      ]
     },
     "metadata": {},
     "output_type": "display_data"
    },
    {
     "data": {
      "application/vnd.jupyter.widget-view+json": {
       "model_id": "af59f002af4c42ea92a59d78cb789836",
       "version_major": 2,
       "version_minor": 0
      },
      "text/plain": [
       "PROCESSING TASKS | :   0%|          | 0/3 [00:00<?, ?it/s]"
      ]
     },
     "metadata": {},
     "output_type": "display_data"
    },
    {
     "data": {
      "application/vnd.jupyter.widget-view+json": {
       "model_id": "55c4df54c577466eb539ec2363386995",
       "version_major": 2,
       "version_minor": 0
      },
      "text/plain": [
       "COLLECTING RESULTS | :   0%|          | 0/3 [00:00<?, ?it/s]"
      ]
     },
     "metadata": {},
     "output_type": "display_data"
    },
    {
     "name": "stdout",
     "output_type": "stream",
     "text": [
      "\n",
      "\tExtracting active fires ...\n",
      "\n"
     ]
    },
    {
     "data": {
      "application/vnd.jupyter.widget-view+json": {
       "model_id": "877b19b3cd40474dbf1302cb49221ab0",
       "version_major": 2,
       "version_minor": 0
      },
      "text/plain": [
       "Processing granules:   0%|          | 0/3 [00:00<?, ?it/s]"
      ]
     },
     "metadata": {},
     "output_type": "display_data"
    },
    {
     "name": "stdout",
     "output_type": "stream",
     "text": [
      "\n",
      "Total elapsed time for 5    PLUMTAW\n",
      "Name: Fire_Name, dtype: object: 0.09 minutes.\n",
      "\n",
      "~~~~~~~~~~\n",
      "\n",
      "Processing for SUGARLOAF fire:\n",
      "Granules found: 39\n",
      "\n",
      "\t! Starting processing for [39] granules !\n",
      "Opening 39 granules, approx size: 0.08 GB\n"
     ]
    },
    {
     "data": {
      "application/vnd.jupyter.widget-view+json": {
       "model_id": "284a2b9f6a634b0db7d74b932952e0ea",
       "version_major": 2,
       "version_minor": 0
      },
      "text/plain": [
       "QUEUEING TASKS | :   0%|          | 0/39 [00:00<?, ?it/s]"
      ]
     },
     "metadata": {},
     "output_type": "display_data"
    },
    {
     "data": {
      "application/vnd.jupyter.widget-view+json": {
       "model_id": "0d21df61e7cf4e518a543ae3c53f2bba",
       "version_major": 2,
       "version_minor": 0
      },
      "text/plain": [
       "PROCESSING TASKS | :   0%|          | 0/39 [00:00<?, ?it/s]"
      ]
     },
     "metadata": {},
     "output_type": "display_data"
    },
    {
     "data": {
      "application/vnd.jupyter.widget-view+json": {
       "model_id": "0afcc3fd32e84bb4b0a5d685af1142d9",
       "version_major": 2,
       "version_minor": 0
      },
      "text/plain": [
       "COLLECTING RESULTS | :   0%|          | 0/39 [00:00<?, ?it/s]"
      ]
     },
     "metadata": {},
     "output_type": "display_data"
    },
    {
     "name": "stdout",
     "output_type": "stream",
     "text": [
      "\n",
      "\tExtracting active fires ...\n",
      "\n"
     ]
    },
    {
     "data": {
      "application/vnd.jupyter.widget-view+json": {
       "model_id": "8988fec652914cd996b81bfb5d01453c",
       "version_major": 2,
       "version_minor": 0
      },
      "text/plain": [
       "Processing granules:   0%|          | 0/39 [00:00<?, ?it/s]"
      ]
     },
     "metadata": {},
     "output_type": "display_data"
    },
    {
     "name": "stdout",
     "output_type": "stream",
     "text": [
      "\n",
      "Total elapsed time for 118    SUGARLOAF\n",
      "Name: Fire_Name, dtype: object: 0.81 minutes.\n",
      "\n",
      "~~~~~~~~~~\n",
      "\n",
      "Processing for 403 fire:\n",
      "Granules found: 24\n",
      "\n",
      "\t! Starting processing for [24] granules !\n",
      "Opening 24 granules, approx size: 0.04 GB\n"
     ]
    },
    {
     "data": {
      "application/vnd.jupyter.widget-view+json": {
       "model_id": "1c8eded47b7743af81cce84bac7d0b54",
       "version_major": 2,
       "version_minor": 0
      },
      "text/plain": [
       "QUEUEING TASKS | :   0%|          | 0/24 [00:00<?, ?it/s]"
      ]
     },
     "metadata": {},
     "output_type": "display_data"
    },
    {
     "data": {
      "application/vnd.jupyter.widget-view+json": {
       "model_id": "8ebe397f161d44dbab971de5b10952c3",
       "version_major": 2,
       "version_minor": 0
      },
      "text/plain": [
       "PROCESSING TASKS | :   0%|          | 0/24 [00:00<?, ?it/s]"
      ]
     },
     "metadata": {},
     "output_type": "display_data"
    },
    {
     "data": {
      "application/vnd.jupyter.widget-view+json": {
       "model_id": "1034a1b5c8c24c41bbd0dc3d1467568b",
       "version_major": 2,
       "version_minor": 0
      },
      "text/plain": [
       "COLLECTING RESULTS | :   0%|          | 0/24 [00:00<?, ?it/s]"
      ]
     },
     "metadata": {},
     "output_type": "display_data"
    },
    {
     "name": "stdout",
     "output_type": "stream",
     "text": [
      "\n",
      "\tExtracting active fires ...\n",
      "\n"
     ]
    },
    {
     "data": {
      "application/vnd.jupyter.widget-view+json": {
       "model_id": "0929742dda8643f8aa6dea8196b9f35d",
       "version_major": 2,
       "version_minor": 0
      },
      "text/plain": [
       "Processing granules:   0%|          | 0/24 [00:00<?, ?it/s]"
      ]
     },
     "metadata": {},
     "output_type": "display_data"
    },
    {
     "name": "stdout",
     "output_type": "stream",
     "text": [
      "\n",
      "Total elapsed time for 86    403\n",
      "Name: Fire_Name, dtype: object: 0.52 minutes.\n",
      "\n",
      "~~~~~~~~~~\n",
      "\n",
      "Processing for CHRIS_MOUNTAIN fire:\n",
      "Granules found: 28\n",
      "\n",
      "\t! Starting processing for [28] granules !\n",
      "Opening 28 granules, approx size: 0.06 GB\n"
     ]
    },
    {
     "data": {
      "application/vnd.jupyter.widget-view+json": {
       "model_id": "ecaf8c8df9f1409b981477dfadfca95b",
       "version_major": 2,
       "version_minor": 0
      },
      "text/plain": [
       "QUEUEING TASKS | :   0%|          | 0/28 [00:00<?, ?it/s]"
      ]
     },
     "metadata": {},
     "output_type": "display_data"
    },
    {
     "data": {
      "application/vnd.jupyter.widget-view+json": {
       "model_id": "b4b38b0af7c944428b75e78ea353157c",
       "version_major": 2,
       "version_minor": 0
      },
      "text/plain": [
       "PROCESSING TASKS | :   0%|          | 0/28 [00:00<?, ?it/s]"
      ]
     },
     "metadata": {},
     "output_type": "display_data"
    },
    {
     "data": {
      "application/vnd.jupyter.widget-view+json": {
       "model_id": "8b1b116606a9488387876edd135c1dad",
       "version_major": 2,
       "version_minor": 0
      },
      "text/plain": [
       "COLLECTING RESULTS | :   0%|          | 0/28 [00:00<?, ?it/s]"
      ]
     },
     "metadata": {},
     "output_type": "display_data"
    },
    {
     "name": "stdout",
     "output_type": "stream",
     "text": [
      "\n",
      "\tExtracting active fires ...\n",
      "\n"
     ]
    },
    {
     "data": {
      "application/vnd.jupyter.widget-view+json": {
       "model_id": "77bbe719708d4da9ac69083bf4f8bb42",
       "version_major": 2,
       "version_minor": 0
      },
      "text/plain": [
       "Processing granules:   0%|          | 0/28 [00:00<?, ?it/s]"
      ]
     },
     "metadata": {},
     "output_type": "display_data"
    },
    {
     "name": "stdout",
     "output_type": "stream",
     "text": [
      "\n",
      "Total elapsed time for 7    CHRIS MOUNTAIN\n",
      "Name: Fire_Name, dtype: object: 0.61 minutes.\n",
      "\n",
      "~~~~~~~~~~\n",
      "\n",
      "Processing for DRY_LAKE fire:\n",
      "Granules found: 22\n",
      "\n",
      "\t! Starting processing for [22] granules !\n",
      "Opening 22 granules, approx size: 0.05 GB\n"
     ]
    },
    {
     "data": {
      "application/vnd.jupyter.widget-view+json": {
       "model_id": "f98b4a690b5247e3b4b8711cd9ca740c",
       "version_major": 2,
       "version_minor": 0
      },
      "text/plain": [
       "QUEUEING TASKS | :   0%|          | 0/22 [00:00<?, ?it/s]"
      ]
     },
     "metadata": {},
     "output_type": "display_data"
    },
    {
     "data": {
      "application/vnd.jupyter.widget-view+json": {
       "model_id": "d29500ee0e53474ab07ebdef8e34e5e6",
       "version_major": 2,
       "version_minor": 0
      },
      "text/plain": [
       "PROCESSING TASKS | :   0%|          | 0/22 [00:00<?, ?it/s]"
      ]
     },
     "metadata": {},
     "output_type": "display_data"
    },
    {
     "data": {
      "application/vnd.jupyter.widget-view+json": {
       "model_id": "7cdec86d28e94dcfa31e556beea95a4d",
       "version_major": 2,
       "version_minor": 0
      },
      "text/plain": [
       "COLLECTING RESULTS | :   0%|          | 0/22 [00:00<?, ?it/s]"
      ]
     },
     "metadata": {},
     "output_type": "display_data"
    },
    {
     "name": "stdout",
     "output_type": "stream",
     "text": [
      "\n",
      "\tExtracting active fires ...\n",
      "\n"
     ]
    },
    {
     "data": {
      "application/vnd.jupyter.widget-view+json": {
       "model_id": "3a0f25f3e7d24451b7054a219f3deb6f",
       "version_major": 2,
       "version_minor": 0
      },
      "text/plain": [
       "Processing granules:   0%|          | 0/22 [00:00<?, ?it/s]"
      ]
     },
     "metadata": {},
     "output_type": "display_data"
    },
    {
     "name": "stdout",
     "output_type": "stream",
     "text": [
      "\n",
      "Total elapsed time for 8    DRY LAKE\n",
      "Name: Fire_Name, dtype: object: 0.51 minutes.\n",
      "\n",
      "~~~~~~~~~~\n",
      "\n",
      "Processing for QUARTZ_RIDGE fire:\n",
      "Granules found: 215\n",
      "\n",
      "\t! Some granules already processed [21] !\n",
      "Opening 194 granules, approx size: 0.39 GB\n"
     ]
    },
    {
     "data": {
      "application/vnd.jupyter.widget-view+json": {
       "model_id": "db1e7f4f2f6745139edd8d8d6a91a83e",
       "version_major": 2,
       "version_minor": 0
      },
      "text/plain": [
       "QUEUEING TASKS | :   0%|          | 0/194 [00:00<?, ?it/s]"
      ]
     },
     "metadata": {},
     "output_type": "display_data"
    },
    {
     "data": {
      "application/vnd.jupyter.widget-view+json": {
       "model_id": "151dd2518dd0479eb0c5fe6b36c12d87",
       "version_major": 2,
       "version_minor": 0
      },
      "text/plain": [
       "PROCESSING TASKS | :   0%|          | 0/194 [00:00<?, ?it/s]"
      ]
     },
     "metadata": {},
     "output_type": "display_data"
    },
    {
     "data": {
      "application/vnd.jupyter.widget-view+json": {
       "model_id": "3fc28eba445c48e0b57a1bf278bb2b7a",
       "version_major": 2,
       "version_minor": 0
      },
      "text/plain": [
       "COLLECTING RESULTS | :   0%|          | 0/194 [00:00<?, ?it/s]"
      ]
     },
     "metadata": {},
     "output_type": "display_data"
    },
    {
     "name": "stdout",
     "output_type": "stream",
     "text": [
      "\n",
      "\tExtracting active fires ...\n",
      "\n"
     ]
    },
    {
     "data": {
      "application/vnd.jupyter.widget-view+json": {
       "model_id": "1bccc24583a3491e9bbc10d9baddd3a3",
       "version_major": 2,
       "version_minor": 0
      },
      "text/plain": [
       "Processing granules:   0%|          | 0/194 [00:00<?, ?it/s]"
      ]
     },
     "metadata": {},
     "output_type": "display_data"
    },
    {
     "name": "stdout",
     "output_type": "stream",
     "text": [
      "\n",
      "Total elapsed time for 10    QUARTZ RIDGE\n",
      "Name: Fire_Name, dtype: object: 4.23 minutes.\n",
      "\n",
      "~~~~~~~~~~\n",
      "\n",
      "Processing for BEAR_CREEK fire:\n",
      "Granules found: 213\n",
      "\n",
      "\t! Some granules already processed [208] !\n",
      "Opening 5 granules, approx size: 0.01 GB\n"
     ]
    },
    {
     "data": {
      "application/vnd.jupyter.widget-view+json": {
       "model_id": "63b99550e07d4ac99d16e711d59b4f71",
       "version_major": 2,
       "version_minor": 0
      },
      "text/plain": [
       "QUEUEING TASKS | :   0%|          | 0/5 [00:00<?, ?it/s]"
      ]
     },
     "metadata": {},
     "output_type": "display_data"
    },
    {
     "data": {
      "application/vnd.jupyter.widget-view+json": {
       "model_id": "f47ce8a8a5024e8ba8a5fff0fb0d9a16",
       "version_major": 2,
       "version_minor": 0
      },
      "text/plain": [
       "PROCESSING TASKS | :   0%|          | 0/5 [00:00<?, ?it/s]"
      ]
     },
     "metadata": {},
     "output_type": "display_data"
    },
    {
     "data": {
      "application/vnd.jupyter.widget-view+json": {
       "model_id": "6c4b51926e48462a862ceb73ea55818c",
       "version_major": 2,
       "version_minor": 0
      },
      "text/plain": [
       "COLLECTING RESULTS | :   0%|          | 0/5 [00:00<?, ?it/s]"
      ]
     },
     "metadata": {},
     "output_type": "display_data"
    },
    {
     "name": "stdout",
     "output_type": "stream",
     "text": [
      "\n",
      "\tExtracting active fires ...\n",
      "\n"
     ]
    },
    {
     "data": {
      "application/vnd.jupyter.widget-view+json": {
       "model_id": "9a94fb6d9cea482dbe498c9f583ff601",
       "version_major": 2,
       "version_minor": 0
      },
      "text/plain": [
       "Processing granules:   0%|          | 0/5 [00:00<?, ?it/s]"
      ]
     },
     "metadata": {},
     "output_type": "display_data"
    },
    {
     "name": "stdout",
     "output_type": "stream",
     "text": [
      "\n",
      "Total elapsed time for 9    BEAR CREEK\n",
      "Name: Fire_Name, dtype: object: 0.17 minutes.\n",
      "\n",
      "~~~~~~~~~~\n",
      "\n",
      "Processing for BLACK_FEATHER fire:\n",
      "Granules found: 21\n",
      "\n",
      "\t! Some granules already processed [20] !\n",
      "Opening 1 granules, approx size: 0.0 GB\n"
     ]
    },
    {
     "data": {
      "application/vnd.jupyter.widget-view+json": {
       "model_id": "aca96be6e9fb419497d0940bfb24ab60",
       "version_major": 2,
       "version_minor": 0
      },
      "text/plain": [
       "QUEUEING TASKS | :   0%|          | 0/1 [00:00<?, ?it/s]"
      ]
     },
     "metadata": {},
     "output_type": "display_data"
    },
    {
     "data": {
      "application/vnd.jupyter.widget-view+json": {
       "model_id": "8a6c7d3b9a93434cb3ed3271a33595ac",
       "version_major": 2,
       "version_minor": 0
      },
      "text/plain": [
       "PROCESSING TASKS | :   0%|          | 0/1 [00:00<?, ?it/s]"
      ]
     },
     "metadata": {},
     "output_type": "display_data"
    },
    {
     "data": {
      "application/vnd.jupyter.widget-view+json": {
       "model_id": "ed78f03b45724964b3a26f5aa6113df9",
       "version_major": 2,
       "version_minor": 0
      },
      "text/plain": [
       "COLLECTING RESULTS | :   0%|          | 0/1 [00:00<?, ?it/s]"
      ]
     },
     "metadata": {},
     "output_type": "display_data"
    },
    {
     "name": "stdout",
     "output_type": "stream",
     "text": [
      "\n",
      "\tExtracting active fires ...\n",
      "\n"
     ]
    },
    {
     "data": {
      "application/vnd.jupyter.widget-view+json": {
       "model_id": "f7f8b475830f467eacfc3ae60eb5bc05",
       "version_major": 2,
       "version_minor": 0
      },
      "text/plain": [
       "Processing granules:   0%|          | 0/1 [00:00<?, ?it/s]"
      ]
     },
     "metadata": {},
     "output_type": "display_data"
    },
    {
     "name": "stdout",
     "output_type": "stream",
     "text": [
      "\n",
      "Total elapsed time for 50    BLACK FEATHER\n",
      "Name: Fire_Name, dtype: object: 0.06 minutes.\n",
      "\n",
      "~~~~~~~~~~\n",
      "\n",
      "Processing for TRAIL_SPRINGS fire:\n",
      "Granules found: 160\n",
      "\n",
      "\t! Starting processing for [160] granules !\n",
      "Opening 160 granules, approx size: 0.29 GB\n"
     ]
    },
    {
     "data": {
      "application/vnd.jupyter.widget-view+json": {
       "model_id": "92411bd6408d4951a9c787d6a29128c7",
       "version_major": 2,
       "version_minor": 0
      },
      "text/plain": [
       "QUEUEING TASKS | :   0%|          | 0/160 [00:00<?, ?it/s]"
      ]
     },
     "metadata": {},
     "output_type": "display_data"
    },
    {
     "data": {
      "application/vnd.jupyter.widget-view+json": {
       "model_id": "9129e92c6f9c4b9d9208989b0d15b054",
       "version_major": 2,
       "version_minor": 0
      },
      "text/plain": [
       "PROCESSING TASKS | :   0%|          | 0/160 [00:00<?, ?it/s]"
      ]
     },
     "metadata": {},
     "output_type": "display_data"
    },
    {
     "data": {
      "application/vnd.jupyter.widget-view+json": {
       "model_id": "32d9d29064304eb8933d7f545811b2ea",
       "version_major": 2,
       "version_minor": 0
      },
      "text/plain": [
       "COLLECTING RESULTS | :   0%|          | 0/160 [00:00<?, ?it/s]"
      ]
     },
     "metadata": {},
     "output_type": "display_data"
    },
    {
     "name": "stdout",
     "output_type": "stream",
     "text": [
      "\n",
      "\tExtracting active fires ...\n",
      "\n"
     ]
    },
    {
     "data": {
      "application/vnd.jupyter.widget-view+json": {
       "model_id": "3c5cdbf72d014064ba2ea396a901002a",
       "version_major": 2,
       "version_minor": 0
      },
      "text/plain": [
       "Processing granules:   0%|          | 0/160 [00:00<?, ?it/s]"
      ]
     },
     "metadata": {},
     "output_type": "display_data"
    },
    {
     "name": "stdout",
     "output_type": "stream",
     "text": [
      "\n",
      "Total elapsed time for 11    TRAIL SPRINGS\n",
      "Name: Fire_Name, dtype: object: 3.50 minutes.\n",
      "\n",
      "~~~~~~~~~~\n",
      "\n",
      "Processing for MILL_CREEK_2 fire:\n",
      "Granules found: 112\n",
      "\n",
      "\t! Some granules already processed [110] !\n",
      "Opening 2 granules, approx size: 0.0 GB\n"
     ]
    },
    {
     "data": {
      "application/vnd.jupyter.widget-view+json": {
       "model_id": "c427163169654bd5a1ed45a1c54f73a3",
       "version_major": 2,
       "version_minor": 0
      },
      "text/plain": [
       "QUEUEING TASKS | :   0%|          | 0/2 [00:00<?, ?it/s]"
      ]
     },
     "metadata": {},
     "output_type": "display_data"
    },
    {
     "data": {
      "application/vnd.jupyter.widget-view+json": {
       "model_id": "23cb12cf61a54ef3a054326a5bb414d7",
       "version_major": 2,
       "version_minor": 0
      },
      "text/plain": [
       "PROCESSING TASKS | :   0%|          | 0/2 [00:00<?, ?it/s]"
      ]
     },
     "metadata": {},
     "output_type": "display_data"
    },
    {
     "data": {
      "application/vnd.jupyter.widget-view+json": {
       "model_id": "1bbb3b0d30c84e66a7ecad472e568cdf",
       "version_major": 2,
       "version_minor": 0
      },
      "text/plain": [
       "COLLECTING RESULTS | :   0%|          | 0/2 [00:00<?, ?it/s]"
      ]
     },
     "metadata": {},
     "output_type": "display_data"
    },
    {
     "name": "stdout",
     "output_type": "stream",
     "text": [
      "\n",
      "\tExtracting active fires ...\n",
      "\n"
     ]
    },
    {
     "data": {
      "application/vnd.jupyter.widget-view+json": {
       "model_id": "f444b216641d4afc8e990a2f298450bd",
       "version_major": 2,
       "version_minor": 0
      },
      "text/plain": [
       "Processing granules:   0%|          | 0/2 [00:00<?, ?it/s]"
      ]
     },
     "metadata": {},
     "output_type": "display_data"
    },
    {
     "name": "stdout",
     "output_type": "stream",
     "text": [
      "\n",
      "Total elapsed time for 12    MILL CREEK 2\n",
      "Name: Fire_Name, dtype: object: 0.09 minutes.\n",
      "\n",
      "~~~~~~~~~~\n",
      "\n",
      "\n",
      "Total elapsed time: 37.70 minutes.\n",
      "\n",
      "\n",
      "~~~~~~~~~~\n",
      "\n",
      "Done!\n"
     ]
    }
   ],
   "source": [
    "t0 = time.time()   \n",
    "\n",
    "# Get a list of fire IDs sorted by ignition date\n",
    "fires = fires.sort_values(by=['START_YEAR','first_obs_date'])\n",
    "fire_ids = fires['Fire_ID'].unique()\n",
    "\n",
    "afd_dfs = [] # to store the output geodataframes\n",
    "\n",
    "# Loop fire ids\n",
    "for fire_id in fire_ids:\n",
    "    t00 = time.time()\n",
    "\n",
    "    fire = fires[fires['Fire_ID'] == fire_id]\n",
    "    fire_name = fire['Fire_Name'].iloc[0]\n",
    "    fire_name = fire_name.replace(\" \", \"_\")\n",
    "    print(f\"Processing for {fire_name} fire:\")\n",
    "    \n",
    "    da_access = Access_VIIRS_AFD(\n",
    "        start_date=fire['first_obs_date'].iloc[0],\n",
    "        last_date=fire['last_obs_date'].iloc[0],\n",
    "        geom=fire,\n",
    "        buffer=1000,\n",
    "        short_names=['VNP14IMG','VJ114IMG'],\n",
    "        out_directory=dataraw,\n",
    "        processed_granules=granules_p\n",
    "    )\n",
    "\n",
    "    try:\n",
    "        fileset, granules = da_access.ea_search_request()\n",
    "\n",
    "        if granules is None:\n",
    "            continue\n",
    "            \n",
    "        print(f\"\\n\\tExtracting active fires ...\\n\")\n",
    "        afd_fire = da_access.create_fire_gdf(fileset)\n",
    "\n",
    "        # save the progress so far\n",
    "        if afd_fire is not None:\n",
    "            afd_dfs.append(afd_fire)\n",
    "            granules_p.update(granules) # running list\n",
    "        else:\n",
    "            continue\n",
    "        \n",
    "    except Exception as e:\n",
    "        print(f\"\\nSkipping fire {fire['Fire_Name']}\\n{e}\\n\")\n",
    "        traceback.print_exc()  # This will print the full traceback\n",
    "        continue # continue to the next fire id\n",
    "\n",
    "    t1 = (time.time() - t00) / 60\n",
    "    print(f\"\\nTotal elapsed time for {fire['Fire_Name']}: {t1:.2f} minutes.\")\n",
    "    print(\"\\n~~~~~~~~~~\\n\")\n",
    "\n",
    "t2 = (time.time() - t0) / 60\n",
    "print(f\"\\nTotal elapsed time: {t2:.2f} minutes.\\n\")\n",
    "print(\"\\n~~~~~~~~~~\\n\")\n",
    "print(\"Done!\")"
   ]
  },
  {
   "cell_type": "code",
   "execution_count": 13,
   "id": "16049c96-23fe-411a-ae8e-ee111842b311",
   "metadata": {},
   "outputs": [
    {
     "name": "stdout",
     "output_type": "stream",
     "text": [
      "3241\n"
     ]
    }
   ],
   "source": [
    "granules_ = glob.glob(os.path.join(dataraw,'granules/*.csv'))\n",
    "print(len(granules_))"
   ]
  },
  {
   "cell_type": "code",
   "execution_count": 14,
   "id": "9ecdf797-cd61-4cd6-91d1-a355a4eb4956",
   "metadata": {},
   "outputs": [
    {
     "data": {
      "text/html": [
       "<div>\n",
       "<style scoped>\n",
       "    .dataframe tbody tr th:only-of-type {\n",
       "        vertical-align: middle;\n",
       "    }\n",
       "\n",
       "    .dataframe tbody tr th {\n",
       "        vertical-align: top;\n",
       "    }\n",
       "\n",
       "    .dataframe thead th {\n",
       "        text-align: right;\n",
       "    }\n",
       "</style>\n",
       "<table border=\"1\" class=\"dataframe\">\n",
       "  <thead>\n",
       "    <tr style=\"text-align: right;\">\n",
       "      <th></th>\n",
       "      <th>Unnamed: 0</th>\n",
       "      <th>longitude</th>\n",
       "      <th>latitude</th>\n",
       "      <th>fire_mask</th>\n",
       "      <th>confidence</th>\n",
       "      <th>frp</th>\n",
       "      <th>t4</th>\n",
       "      <th>t5</th>\n",
       "      <th>m13</th>\n",
       "      <th>acq_date</th>\n",
       "      <th>...</th>\n",
       "      <th>daynight</th>\n",
       "      <th>satellite</th>\n",
       "      <th>short_name</th>\n",
       "      <th>granule_id</th>\n",
       "      <th>geo_id</th>\n",
       "      <th>sample</th>\n",
       "      <th>along_scan</th>\n",
       "      <th>along_track</th>\n",
       "      <th>scan_angle</th>\n",
       "      <th>pix_area</th>\n",
       "    </tr>\n",
       "  </thead>\n",
       "  <tbody>\n",
       "    <tr>\n",
       "      <th>0</th>\n",
       "      <td>0</td>\n",
       "      <td>-95.160160</td>\n",
       "      <td>34.074640</td>\n",
       "      <td>9</td>\n",
       "      <td>h</td>\n",
       "      <td>14.550305</td>\n",
       "      <td>367.00000</td>\n",
       "      <td>295.69968</td>\n",
       "      <td>2.373925</td>\n",
       "      <td>6/27/2019</td>\n",
       "      <td>...</td>\n",
       "      <td>Day</td>\n",
       "      <td>JPSS-1</td>\n",
       "      <td>VJ114IMG</td>\n",
       "      <td>VJ114IMG.A2019178.2006.002.2024029081304.nc</td>\n",
       "      <td>VJ103IMG.A2019178.2006.021.2021049184623.nc</td>\n",
       "      <td>924</td>\n",
       "      <td>0.381910</td>\n",
       "      <td>0.588271</td>\n",
       "      <td>47.8431</td>\n",
       "      <td>0.224667</td>\n",
       "    </tr>\n",
       "    <tr>\n",
       "      <th>1</th>\n",
       "      <td>1</td>\n",
       "      <td>-95.164330</td>\n",
       "      <td>34.074383</td>\n",
       "      <td>8</td>\n",
       "      <td>n</td>\n",
       "      <td>14.550305</td>\n",
       "      <td>350.57697</td>\n",
       "      <td>296.18445</td>\n",
       "      <td>2.373925</td>\n",
       "      <td>6/27/2019</td>\n",
       "      <td>...</td>\n",
       "      <td>Day</td>\n",
       "      <td>JPSS-1</td>\n",
       "      <td>VJ114IMG</td>\n",
       "      <td>VJ114IMG.A2019178.2006.002.2024029081304.nc</td>\n",
       "      <td>VJ103IMG.A2019178.2006.021.2021049184623.nc</td>\n",
       "      <td>925</td>\n",
       "      <td>0.381694</td>\n",
       "      <td>0.588131</td>\n",
       "      <td>47.8342</td>\n",
       "      <td>0.224486</td>\n",
       "    </tr>\n",
       "    <tr>\n",
       "      <th>2</th>\n",
       "      <td>2</td>\n",
       "      <td>-95.160630</td>\n",
       "      <td>34.080082</td>\n",
       "      <td>8</td>\n",
       "      <td>n</td>\n",
       "      <td>6.089355</td>\n",
       "      <td>343.91302</td>\n",
       "      <td>296.12167</td>\n",
       "      <td>1.406672</td>\n",
       "      <td>6/27/2019</td>\n",
       "      <td>...</td>\n",
       "      <td>Day</td>\n",
       "      <td>JPSS-1</td>\n",
       "      <td>VJ114IMG</td>\n",
       "      <td>VJ114IMG.A2019178.2006.002.2024029081304.nc</td>\n",
       "      <td>VJ103IMG.A2019178.2006.021.2021049184623.nc</td>\n",
       "      <td>924</td>\n",
       "      <td>0.381910</td>\n",
       "      <td>0.588271</td>\n",
       "      <td>47.8431</td>\n",
       "      <td>0.224667</td>\n",
       "    </tr>\n",
       "    <tr>\n",
       "      <th>3</th>\n",
       "      <td>3</td>\n",
       "      <td>-95.164825</td>\n",
       "      <td>34.079823</td>\n",
       "      <td>8</td>\n",
       "      <td>n</td>\n",
       "      <td>6.089355</td>\n",
       "      <td>345.46840</td>\n",
       "      <td>296.05000</td>\n",
       "      <td>1.406672</td>\n",
       "      <td>6/27/2019</td>\n",
       "      <td>...</td>\n",
       "      <td>Day</td>\n",
       "      <td>JPSS-1</td>\n",
       "      <td>VJ114IMG</td>\n",
       "      <td>VJ114IMG.A2019178.2006.002.2024029081304.nc</td>\n",
       "      <td>VJ103IMG.A2019178.2006.021.2021049184623.nc</td>\n",
       "      <td>925</td>\n",
       "      <td>0.381694</td>\n",
       "      <td>0.588131</td>\n",
       "      <td>47.8342</td>\n",
       "      <td>0.224486</td>\n",
       "    </tr>\n",
       "    <tr>\n",
       "      <th>4</th>\n",
       "      <td>4</td>\n",
       "      <td>-95.906006</td>\n",
       "      <td>34.813230</td>\n",
       "      <td>8</td>\n",
       "      <td>n</td>\n",
       "      <td>4.297072</td>\n",
       "      <td>340.28574</td>\n",
       "      <td>296.18735</td>\n",
       "      <td>1.041121</td>\n",
       "      <td>6/27/2019</td>\n",
       "      <td>...</td>\n",
       "      <td>Day</td>\n",
       "      <td>JPSS-1</td>\n",
       "      <td>VJ114IMG</td>\n",
       "      <td>VJ114IMG.A2019178.2006.002.2024029081304.nc</td>\n",
       "      <td>VJ103IMG.A2019178.2006.021.2021049184623.nc</td>\n",
       "      <td>1078</td>\n",
       "      <td>0.351243</td>\n",
       "      <td>0.567857</td>\n",
       "      <td>46.4736</td>\n",
       "      <td>0.199456</td>\n",
       "    </tr>\n",
       "  </tbody>\n",
       "</table>\n",
       "<p>5 rows × 21 columns</p>\n",
       "</div>"
      ],
      "text/plain": [
       "   Unnamed: 0  longitude   latitude  fire_mask confidence        frp  \\\n",
       "0           0 -95.160160  34.074640          9          h  14.550305   \n",
       "1           1 -95.164330  34.074383          8          n  14.550305   \n",
       "2           2 -95.160630  34.080082          8          n   6.089355   \n",
       "3           3 -95.164825  34.079823          8          n   6.089355   \n",
       "4           4 -95.906006  34.813230          8          n   4.297072   \n",
       "\n",
       "          t4         t5       m13   acq_date  ...  daynight satellite  \\\n",
       "0  367.00000  295.69968  2.373925  6/27/2019  ...       Day    JPSS-1   \n",
       "1  350.57697  296.18445  2.373925  6/27/2019  ...       Day    JPSS-1   \n",
       "2  343.91302  296.12167  1.406672  6/27/2019  ...       Day    JPSS-1   \n",
       "3  345.46840  296.05000  1.406672  6/27/2019  ...       Day    JPSS-1   \n",
       "4  340.28574  296.18735  1.041121  6/27/2019  ...       Day    JPSS-1   \n",
       "\n",
       "  short_name                                   granule_id  \\\n",
       "0   VJ114IMG  VJ114IMG.A2019178.2006.002.2024029081304.nc   \n",
       "1   VJ114IMG  VJ114IMG.A2019178.2006.002.2024029081304.nc   \n",
       "2   VJ114IMG  VJ114IMG.A2019178.2006.002.2024029081304.nc   \n",
       "3   VJ114IMG  VJ114IMG.A2019178.2006.002.2024029081304.nc   \n",
       "4   VJ114IMG  VJ114IMG.A2019178.2006.002.2024029081304.nc   \n",
       "\n",
       "                                        geo_id sample  along_scan  \\\n",
       "0  VJ103IMG.A2019178.2006.021.2021049184623.nc    924    0.381910   \n",
       "1  VJ103IMG.A2019178.2006.021.2021049184623.nc    925    0.381694   \n",
       "2  VJ103IMG.A2019178.2006.021.2021049184623.nc    924    0.381910   \n",
       "3  VJ103IMG.A2019178.2006.021.2021049184623.nc    925    0.381694   \n",
       "4  VJ103IMG.A2019178.2006.021.2021049184623.nc   1078    0.351243   \n",
       "\n",
       "   along_track  scan_angle  pix_area  \n",
       "0     0.588271     47.8431  0.224667  \n",
       "1     0.588131     47.8342  0.224486  \n",
       "2     0.588271     47.8431  0.224667  \n",
       "3     0.588131     47.8342  0.224486  \n",
       "4     0.567857     46.4736  0.199456  \n",
       "\n",
       "[5 rows x 21 columns]"
      ]
     },
     "execution_count": 14,
     "metadata": {},
     "output_type": "execute_result"
    }
   ],
   "source": [
    "afds = pd.concat((pd.read_csv(f) for f in granules_), ignore_index=True)\n",
    "afds.head()"
   ]
  },
  {
   "cell_type": "code",
   "execution_count": 15,
   "id": "06afe920-2320-4c4b-bb9d-08ade3c03ac1",
   "metadata": {},
   "outputs": [
    {
     "data": {
      "text/plain": [
       "1784627"
      ]
     },
     "execution_count": 15,
     "metadata": {},
     "output_type": "execute_result"
    }
   ],
   "source": [
    "len(afds)"
   ]
  },
  {
   "cell_type": "code",
   "execution_count": 16,
   "id": "8b83e6b4-89c7-43d7-b56a-336ce457f339",
   "metadata": {},
   "outputs": [
    {
     "data": {
      "text/plain": [
       "array(['JPSS-1', 'SUOMI-NPP'], dtype=object)"
      ]
     },
     "execution_count": 16,
     "metadata": {},
     "output_type": "execute_result"
    }
   ],
   "source": [
    "afds['satellite'].unique()"
   ]
  },
  {
   "cell_type": "code",
   "execution_count": 18,
   "id": "84fc788b-23eb-4c01-81f0-6efbc4091b61",
   "metadata": {},
   "outputs": [
    {
     "name": "stdout",
     "output_type": "stream",
     "text": [
      "Saved to: /Users/max/Library/CloudStorage/OneDrive-Personal/mcook/aspen-fire/Aim2/data/spatial/raw/VIIRS/viirs_snpp_jpss1_afd_.csv\n"
     ]
    }
   ],
   "source": [
    "# save the file.\n",
    "out_fp = os.path.join(dataraw, f'viirs_snpp_jpss1_afd_.csv')\n",
    "afds.to_csv(out_fp)\n",
    "print(f\"Saved to: {out_fp}\")"
   ]
  }
 ],
 "metadata": {
  "kernelspec": {
   "display_name": "aspen-fire",
   "language": "python",
   "name": "aspen-fire"
  },
  "language_info": {
   "codemirror_mode": {
    "name": "ipython",
    "version": 3
   },
   "file_extension": ".py",
   "mimetype": "text/x-python",
   "name": "python",
   "nbconvert_exporter": "python",
   "pygments_lexer": "ipython3",
   "version": "3.10.12"
  }
 },
 "nbformat": 4,
 "nbformat_minor": 5
}
