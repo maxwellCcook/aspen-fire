{
 "cells": [
  {
   "cell_type": "code",
   "id": "c3d482be-361d-4286-b949-6680bf24babb",
   "metadata": {
    "ExecuteTime": {
     "end_time": "2025-07-24T19:22:22.995100Z",
     "start_time": "2025-07-24T19:22:18.924561Z"
    }
   },
   "source": [
    "\"\"\"\n",
    "Summaries of USFS TreeMap linked to FIA plot data\n",
    "Emphasis on \n",
    "    - Metrics of forest composition\n",
    "    - Ecological gradients of species dominance\n",
    "    - Forest structure (abundance, dominance, diversity, stand height)\n",
    "\n",
    "Aggregate these statistics to FRP gridcells.\n",
    "\n",
    "Author: maxwell.cook@colorado.edu\n",
    "\"\"\"\n",
    "\n",
    "import os, sys\n",
    "import geopandas as gpd\n",
    "import seaborn as sns\n",
    "import xarray as xr\n",
    "\n",
    "# Custom functions\n",
    "sys.path.append(os.path.join(os.getcwd(),'code/'))\n",
    "from __functions import *\n",
    "\n",
    "albers = 'EPSG:5070' # albers CONUS\n",
    "utm = 'EPSG:32613' # UTM Zone 13N\n",
    "\n",
    "maindir = '/Users/max/Library/CloudStorage/OneDrive-Personal/mcook/'\n",
    "projdir = os.path.join(maindir, 'aspen-fire/Aim2/')\n",
    "\n",
    "print(\"Ready to go !\")"
   ],
   "outputs": [
    {
     "name": "stdout",
     "output_type": "stream",
     "text": [
      "Ready to go !\n"
     ]
    }
   ],
   "execution_count": 1
  },
  {
   "cell_type": "code",
   "id": "af7d2100-d318-41ce-970d-7686f0359b88",
   "metadata": {
    "ExecuteTime": {
     "end_time": "2025-07-24T19:22:58.092649Z",
     "start_time": "2025-07-24T19:22:38.648087Z"
    }
   },
   "source": [
    "# load the aggregated FRP grids (regular 375m2 grids summarizing FRP from VIIRS)\n",
    "fp = os.path.join(projdir,'data/spatial/mod/VIIRS/viirs_snpp_jpss1_afd_latlon_fires_pixar_gridstats.gpkg')\n",
    "grid = gpd.read_file(fp)\n",
    "print(f\"\\nThere are [{len(grid)}] grids across [{len(grid['Fire_ID'].unique())}] fires.\\n\")\n",
    "\n",
    "# create a unique ID\n",
    "grid['grid_idx'] = grid['Fire_ID'].astype(str) + grid['grid_index'].astype(str)\n",
    "\n",
    "# add the centroid lat/lon to the grid data\n",
    "df = grid.to_crs(4326) # WGS coords for lat/lon\n",
    "df['x'] = df.geometry.centroid.x  # Longitude (x-coordinate)\n",
    "df['y'] = df.geometry.centroid.y  # Latitude\n",
    "grid = grid.merge(df[['grid_idx','x','y']], on='grid_idx', how='left')\n",
    "del df\n",
    "print(f\"\\n{grid.columns}\\n\")\n",
    "\n",
    "# Drop any duplicate grids ...\n",
    "print(f\"Dropping [{grid.duplicated(subset=['grid_idx','Fire_ID']).sum()}] duplicate grids.\\n\")\n",
    "grid = grid.drop_duplicates(subset=['grid_idx','Fire_ID'], keep='first')"
   ],
   "outputs": [
    {
     "name": "stdout",
     "output_type": "stream",
     "text": [
      "\n",
      "There are [57232] grids across [100] fires.\n",
      "\n",
      "\n",
      "Index(['grid_index', 'grid_area', 'afd_count', 'unique_days', 'overlap',\n",
      "       'frp_csum', 'frp_max', 'frp_min', 'frp_mean', 'frp_p90', 'frp_p95',\n",
      "       'frp_p97', 'frp_p99', 'frp_first', 'day_max_frp', 'dt_max_frp',\n",
      "       'first_obs_date', 'last_obs_date', 't4_max', 't4_mean', 't5_max',\n",
      "       't5_mean', 'day_count', 'night_count', 'frp_max_day', 'frp_max_night',\n",
      "       'frp_csum_day', 'frp_csum_night', 'frp_mean_day', 'frp_mean_night',\n",
      "       'frp_p90_day', 'frp_p90_night', 'frp_p95_day', 'frp_p95_night',\n",
      "       'frp_p97_day', 'frp_p97_night', 'frp_p99_day', 'frp_p99_night',\n",
      "       'frp_first_day', 'frp_first_night', 'Fire_ID', 'Fire_Name', 'geometry',\n",
      "       'grid_idx', 'x', 'y'],\n",
      "      dtype='object')\n",
      "\n",
      "Dropping [0] duplicate grids.\n",
      "\n"
     ]
    }
   ],
   "execution_count": 2
  },
  {
   "cell_type": "code",
   "id": "2a764d47-cb80-444c-90cb-1afbd44746b0",
   "metadata": {
    "ExecuteTime": {
     "end_time": "2025-07-24T19:23:58.942248Z",
     "start_time": "2025-07-24T19:23:58.600753Z"
    }
   },
   "source": [
    "# Check out the distribution of grid overlap with FRP observations\n",
    "thresh = 0.50\n",
    "print(f\"Fractional overlap:\\n{grid['overlap'].describe()}\\n\")\n",
    "n_small = grid[grid['overlap'] < thresh]['grid_idx'].count() \n",
    "\n",
    "# Plot the distribution of the fractional overlap\n",
    "plt.figure(figsize=(6,3))\n",
    "sns.histplot(grid['overlap'], kde=True, bins=50, color='dodgerblue', alpha=0.7)\n",
    "\n",
    "# Add vertical line for the threshold and for 100%\n",
    "plt.axvline(x=thresh, color='red', linestyle='--', label=f'{thresh*100}% Threshold')\n",
    "plt.axvline(x=1, color='grey', linestyle='--', label='100% Overlap')\n",
    "\n",
    "# Customize the plot\n",
    "plt.xlabel('Cumulative Fractional Overlap')\n",
    "plt.ylabel('Frequency')\n",
    "plt.legend()\n",
    "plt.grid(True, linestyle='--', alpha=0.5)\n",
    "plt.text(16.5, plt.ylim()[1] * 0.7, \n",
    "         f'N = {n_small} [{round(n_small/len(grid)*100,2)}%]', \n",
    "         fontsize=10, color='black')\n",
    "\n",
    "# Save the plot\n",
    "out_path = os.path.join(projdir, 'figures/grid_overlap_distribution.png')\n",
    "plt.savefig(out_path, dpi=300, bbox_inches='tight')\n",
    "\n",
    "plt.show()\n",
    "print(f\"Plot saved to: {out_path}\")\n",
    "\n",
    "# filter out grids below the overlap threshold\n",
    "print(f\"\\nDropping [{n_small} ({round(n_small/len(grid)*100,2)}%)] grids with <{thresh*100}% fractional overlap.\")\n",
    "grid = grid[grid['overlap'] >= thresh] # remove these observations\n",
    "print(len(grid))"
   ],
   "outputs": [
    {
     "name": "stdout",
     "output_type": "stream",
     "text": [
      "Fractional overlap:\n",
      "count    57232.000000\n",
      "mean         2.023404\n",
      "std          2.001402\n",
      "min          0.000003\n",
      "25%          0.587511\n",
      "50%          1.493563\n",
      "75%          2.771206\n",
      "max         24.470760\n",
      "Name: overlap, dtype: float64\n",
      "\n"
     ]
    },
    {
     "data": {
      "text/plain": [
       "<Figure size 600x300 with 1 Axes>"
      ],
      "image/png": "[encoded data removed]"
     },
     "metadata": {},
     "output_type": "display_data"
    },
    {
     "name": "stdout",
     "output_type": "stream",
     "text": [
      "Plot saved to: /Users/max/Library/CloudStorage/OneDrive-Personal/mcook/aspen-fire/Aim2/figures/grid_overlap_distribution.png\n",
      "Dropping [12639 (22.08%)] grids with <50.0% fractional overlap.\n",
      "44593\n"
     ]
    }
   ],
   "execution_count": 4
  },
  {
   "metadata": {},
   "cell_type": "markdown",
   "source": [
    "## Gather LANDFIRE variables for the study region\n",
    "\n",
    "LANDFIRE ca. 2016; [EVT, CC, CH, CBD, CBH, ]"
   ],
   "id": "1ddae7e0d617d259"
  },
  {
   "metadata": {},
   "cell_type": "code",
   "outputs": [],
   "execution_count": null,
   "source": [
    "lf_vars = {\n",
    "    'EVT': '',\n",
    "    'CC': '',\n",
    "    'CH': '',\n",
    "    'CBD': '',\n",
    "    'CBH': '',\n",
    "\n",
    "}"
   ],
   "id": "9ef707ae46a4ba05"
  },
  {
   "metadata": {},
   "cell_type": "code",
   "outputs": [],
   "execution_count": null,
   "source": "",
   "id": "ae6eb70be6ae981a"
  },
  {
   "metadata": {},
   "cell_type": "code",
   "outputs": [],
   "execution_count": null,
   "source": "",
   "id": "e37e00d799587abd"
  },
  {
   "cell_type": "code",
   "execution_count": 5,
   "id": "8ab27165-81d1-4bb0-892a-168bc8353a89",
   "metadata": {},
   "outputs": [
    {
     "name": "stdout",
     "output_type": "stream",
     "text": [
      "Shape: (28724, 17006); \n",
      "GeoTransform: -1193295.0 30.0 0.0 2253345.0 0.0 -30.0; \n",
      "WKT: EPSG:5070; \n",
      "NoData Value: nan; \n",
      "Data Type: float32\n"
     ]
    },
    {
     "data": {
      "text/plain": [
       "141"
      ]
     },
     "execution_count": 5,
     "metadata": {},
     "output_type": "execute_result"
    }
   ],
   "source": [
    "# Load the TreeMap (ca. 2016)\n",
    "# Pixel values here denote the FIA plot ID (\"tm_id\")\n",
    "# see '04a_TreeMap_FIA-Prep.ipynb'\n",
    "# fp = os.path.join(maindir,'data/landcover/USFS/RDS_TreeMap/TreeMap2016.tif') # tm_id band\n",
    "fp = os.path.join(projdir, \"data/spatial/mod/USFS/TreeMap_2016_TMID_FORTYPCD.tif\") # multi-band\n",
    "treemap_da = rxr.open_rasterio(fp, masked=True, cache=False).squeeze()\n",
    "fortyp_da = treemap_da.sel(band=2) # the fortypcd band\n",
    "# Grab some raster metadata from one of the layers\n",
    "shp, gt, wkt, nd = fortyp_da.shape, fortyp_da.spatial_ref.GeoTransform, fortyp_da.rio.crs, fortyp_da.rio.nodata\n",
    "print(\n",
    "    f\"Shape: {shp}; \\n\"\n",
    "    f\"GeoTransform: {gt}; \\n\"\n",
    "    f\"WKT: {wkt}; \\n\"\n",
    "    f\"NoData Value: {nd}; \\n\"\n",
    "    f\"Data Type: {fortyp_da[0].dtype}\")\n",
    "del treemap_da # clean up\n",
    "gc.collect()"
   ]
  },
  {
   "cell_type": "code",
   "execution_count": 6,
   "id": "b9e7ed0e-5ea3-4422-a702-d2400ed8eee4",
   "metadata": {},
   "outputs": [
    {
     "name": "stdout",
     "output_type": "stream",
     "text": [
      "    grid_idx  forest  count  forest_pixels  forest_pct\n",
      "0  161955422       0     15            182    8.241758\n",
      "1  161955422       1    167            182   91.758242\n",
      "2  161957669       1    182            182  100.000000\n",
      "3  161957670       1    196            196  100.000000\n",
      "4  161957671       1    182            182  100.000000\n",
      "\n",
      "[89.01%] predominantly forest grids.\n",
      "\n",
      "    grid_idx  forest_pixels  forest_pct\n",
      "1  161955422            182   91.758242\n",
      "2  161957669            182  100.000000\n",
      "3  161957670            196  100.000000\n",
      "Saved multi-band raster to: /Users/max/Library/CloudStorage/OneDrive-Personal/mcook/aspen-fire/Aim2/data/spatial/mod/USFS/TreeMap_2016_forestmask.tif\n",
      "Saved grid to: /Users/max/Library/CloudStorage/OneDrive-Personal/mcook/aspen-fire/Aim2/data/spatial/mod/USFS/grid_forestmask.gpkg\n"
     ]
    },
    {
     "data": {
      "text/plain": [
       "16"
      ]
     },
     "execution_count": 6,
     "metadata": {},
     "output_type": "execute_result"
    }
   ],
   "source": [
    "# create a forest/non-forest grid\n",
    "forest_mask = xr.where(~np.isnan(fortyp_da), 1, 0)\n",
    "# calculate the grid-level forest percent\n",
    "forest_pct = compute_band_stats(grid, forest_mask, 'grid_idx', attr='forest')\n",
    "forest_pct.rename(columns={\n",
    "    'pct_cover': 'forest_pct',\n",
    "    'total_pixels': 'forest_pixels'\n",
    "}, inplace=True)\n",
    "print(forest_pct.head())\n",
    "# retain just forest pixels\n",
    "forest_pct = forest_pct[forest_pct['forest'] == 1] # just forest pixels\n",
    "forest_pct = forest_pct[['grid_idx','forest_pixels','forest_pct']]\n",
    "\n",
    "# how many forested grids are there? (>50%)\n",
    "n_forest = len(forest_pct[forest_pct['forest_pct'] > 50])\n",
    "print(f\"\\n[{round(n_forest/len(grid)*100,2)}%] predominantly forest grids.\")\n",
    "print(f\"\\n{forest_pct.head(3)}\")\n",
    "\n",
    "# Save as a GeoTIFF\n",
    "out_fp = os.path.join(projdir, \"data/spatial/mod/USFS/TreeMap_2016_forestmask.tif\")\n",
    "forest_mask.rio.to_raster(out_fp, compress='zstd', zstd_level=9, dtype='uint16', driver='GTiff')\n",
    "print(f\"Saved multi-band raster to: {out_fp}\")\n",
    "\n",
    "# save the grid\n",
    "out_fp = os.path.join(projdir, \"data/spatial/mod/USFS/grid_forestmask.gpkg\")\n",
    "grid_forest_pct = grid.merge(forest_pct, on=\"grid_idx\", how=\"left\")\n",
    "grid_forest_pct.to_file(out_fp)\n",
    "print(f\"Saved grid to: {out_fp}\")\n",
    "\n",
    "del forest_mask\n",
    "gc.collect() # clean up"
   ]
  },
  {
   "cell_type": "markdown",
   "id": "34b4b35a-9c5e-4291-802c-3542043abc31",
   "metadata": {},
   "source": [
    "## Algorithmic Forest Type Code\n",
    "\n",
    "Summary of the TreeMap Algorithmic Forest Type Code (FORTYPCD) within FRP grids. "
   ]
  },
  {
   "cell_type": "code",
   "execution_count": 7,
   "id": "7b927a14-a2d6-47b7-b244-df4d94137ba9",
   "metadata": {},
   "outputs": [
    {
     "name": "stdout",
     "output_type": "stream",
     "text": [
      "\n",
      "    grid_idx  fortypcd  fortyp_pixels  total_pixels  pct_cover  \\\n",
      "0  161955422       182             17           167  10.179641   \n",
      "1  161955422       201             38           167  22.754491   \n",
      "2  161955422       221             26           167  15.568862   \n",
      "\n",
      "                 fortypnm  \n",
      "0  Rocky Mountain juniper  \n",
      "1             Douglas-fir  \n",
      "2          Ponderosa pine  \n",
      "\n",
      "Total elapsed time: 0.54 minutes.\n",
      "\n",
      "~~~~~~~~~~\n",
      "\n"
     ]
    },
    {
     "data": {
      "text/plain": [
       "44"
      ]
     },
     "execution_count": 7,
     "metadata": {},
     "output_type": "execute_result"
    }
   ],
   "source": [
    "# also calculate the FORTYPCD\n",
    "t0 = time.time()\n",
    "\n",
    "# see __functions.py\n",
    "grid_fortypcd = compute_band_stats(grid, fortyp_da, 'grid_idx', attr='fortypcd')\n",
    "\n",
    "# tidy columns in the summary table\n",
    "grid_fortypcd['count'] = grid_fortypcd['count'].astype(int)\n",
    "grid_fortypcd['total_pixels'] = grid_fortypcd['total_pixels'].astype(int)\n",
    "grid_fortypcd.rename(columns = {'count': 'fortyp_pixels'}, inplace=True)\n",
    "\n",
    "# load the species lookup table\n",
    "fp = os.path.join(projdir,'data/tabular/mod/treemap_fortypcd_species_mapping.csv')\n",
    "species_df = pd.read_csv(fp)\n",
    "species_df = species_df[['FORTYPCD','SpeciesName']]\n",
    "species_df.rename(columns={\n",
    "    'FORTYPCD': 'fortypcd',\n",
    "    'SpeciesName': 'fortypnm'\n",
    "}, inplace=True)\n",
    "\n",
    "# join the forest name\n",
    "grid_fortypcd = grid_fortypcd.merge(species_df, on='fortypcd', how='left')\n",
    "print(f\"\\n{grid_fortypcd.head(3)}\")\n",
    "\n",
    "t1 = (time.time() - t0) / 60\n",
    "print(f\"\\nTotal elapsed time: {t1:.2f} minutes.\")\n",
    "print(\"\\n~~~~~~~~~~\\n\")\n",
    "\n",
    "del fortyp_da, species_df # clean up \n",
    "gc.collect()"
   ]
  },
  {
   "cell_type": "code",
   "execution_count": 8,
   "id": "cfd2fdea-36be-4e0a-b156-598e1b56ef3c",
   "metadata": {},
   "outputs": [
    {
     "data": {
      "text/plain": [
       "array(['Rocky Mountain juniper', 'Douglas-fir', 'Ponderosa pine',\n",
       "       'White fir', 'Grand fir', 'Blue spruce', 'Lodgepole pine',\n",
       "       'Western juniper', 'California mixed conifer', 'Aspen',\n",
       "       'Deciduous oak woodland', 'Nonstocked', 'Engelmann spruce',\n",
       "       'Western larch', 'Pinyon / juniper woodland', 'Subalpine fir',\n",
       "       'Engelmann spruce / subalpine fir', 'Limber pine', 'Jeffrey pine',\n",
       "       'Other hardwoods', 'Juniper woodland',\n",
       "       'Intermountain maple woodland', 'Pin cherry', 'Bur oak',\n",
       "       'Cercocarpus (mountain brush) woodland',\n",
       "       'Foxtail pine / bristlecone pine', 'Southwestern white pine',\n",
       "       'California black oak', 'Cottonwood', 'Cottonwood / willow',\n",
       "       'Sugar maple / beech / yellow birch',\n",
       "       'Eastern redcedar / hardwood',\n",
       "       'Sugarberry / hackberry / elm / green ash', 'Mesquite woodland',\n",
       "       'Miscellaneous woodland hardwoods', 'Elm / ash / black locust',\n",
       "       'Other exotic hardwoods', 'Evergreen oak woodland', 'Willow',\n",
       "       'Sassafras / persimmon', 'Paper birch', 'Balsam fir',\n",
       "       'Mountain hemlock', 'Whitebark pine', 'White spruce',\n",
       "       'Western redcedar', 'Red maple / upland', 'Red alder',\n",
       "       'Canyon live oak', 'Sugar pine', 'Miscellaneous western softwoods',\n",
       "       'California white oak (valley oak)', 'Eastern redcedar',\n",
       "       'Oregon white oak', 'Noble fir', 'Hard maple / basswood'],\n",
       "      dtype=object)"
      ]
     },
     "execution_count": 8,
     "metadata": {},
     "output_type": "execute_result"
    }
   ],
   "source": [
    "grid_fortypcd['fortypnm'].unique()"
   ]
  },
  {
   "cell_type": "code",
   "execution_count": 9,
   "id": "3f3c6765-0559-4fa2-92e5-40f544c1de00",
   "metadata": {},
   "outputs": [
    {
     "name": "stdout",
     "output_type": "stream",
     "text": [
      "['rocky mountain juniper' 'douglas-fir' 'ponderosa pine' 'white fir'\n",
      " 'blue spruce' 'lodgepole pine' 'aspen' 'deciduous oak woodland'\n",
      " 'engelmann spruce' 'pinyon / juniper woodland' 'subalpine fir'\n",
      " 'engelmann spruce / subalpine fir' 'limber pine' 'juniper woodland'\n",
      " 'foxtail pine / bristlecone pine']\n"
     ]
    }
   ],
   "source": [
    "# list the Southern Rockies species\n",
    "srm_spps = [\n",
    "    'ponderosa pine', 'douglas-fir', 'white fir',\n",
    "    'limber pine', 'blue spruce', 'foxtail pine / bristlecone pine',\n",
    "    'engelmann spruce / subalpine fir', 'engelmann spruce', 'subalpine fir',\n",
    "    'lodgepole pine', 'aspen', 'rocky mountain juniper', 'pinyon / juniper woodland', \n",
    "    'juniper woodland', 'deciduous oak woodland'\n",
    "]\n",
    "\n",
    "# filter to retain Southern Rockies species\n",
    "grid_fortypcd['fortypnm'] = grid_fortypcd['fortypnm'].str.lower()  # force to lower case\n",
    "grid_fortypcd = grid_fortypcd[grid_fortypcd['fortypnm'].isin(srm_spps)].copy()\n",
    "print(grid_fortypcd['fortypnm'].unique())"
   ]
  },
  {
   "cell_type": "code",
   "execution_count": 10,
   "id": "253b1f96-7272-463b-9e91-4caa474833a1",
   "metadata": {},
   "outputs": [
    {
     "data": {
      "text/plain": [
       "Index(['grid_idx', 'fortypcd', 'fortyp_pixels', 'total_pixels', 'pct_cover',\n",
       "       'fortypnm'],\n",
       "      dtype='object')"
      ]
     },
     "execution_count": 10,
     "metadata": {},
     "output_type": "execute_result"
    }
   ],
   "source": [
    "grid_fortypcd.columns"
   ]
  },
  {
   "cell_type": "code",
   "execution_count": 11,
   "id": "5068b777-00b4-412e-8110-03b06e96ce33",
   "metadata": {},
   "outputs": [
    {
     "data": {
      "text/plain": [
       "count    229854.000000\n",
       "mean         18.160672\n",
       "std          25.145113\n",
       "min           0.510204\n",
       "25%           1.666667\n",
       "50%           6.043956\n",
       "75%          23.469388\n",
       "max         100.000000\n",
       "Name: pct_cover, dtype: float64"
      ]
     },
     "execution_count": 11,
     "metadata": {},
     "output_type": "execute_result"
    }
   ],
   "source": [
    "grid_fortypcd['pct_cover'].describe()"
   ]
  },
  {
   "cell_type": "code",
   "execution_count": 12,
   "id": "2d161dd1-aa11-4af5-a54a-04705c4e2311",
   "metadata": {},
   "outputs": [
    {
     "name": "stdout",
     "output_type": "stream",
     "text": [
      "\n",
      "     grid_idx                fortypnm  pct_cover\n",
      "0   161955422  rocky mountain juniper  10.179641\n",
      "1   161955422             douglas-fir  22.754491\n",
      "2   161955422          ponderosa pine  15.568862\n",
      "3   161955422               white fir  13.173653\n",
      "4   161955422             blue spruce   5.389222\n",
      "5   161955422          lodgepole pine   4.191617\n",
      "6   161955422                   aspen   5.988024\n",
      "7   161955422  deciduous oak woodland   1.197605\n",
      "8   161957669             douglas-fir  29.670330\n",
      "9   161957669          ponderosa pine  31.318681\n",
      "10  161957669                   aspen   6.043956\n",
      "11  161957670  rocky mountain juniper   5.612245\n",
      "12  161957670             douglas-fir   9.183673\n",
      "13  161957670          ponderosa pine  34.183673\n",
      "14  161957670        engelmann spruce   1.020408\n",
      "\n"
     ]
    }
   ],
   "source": [
    "# filter out very small percent covers (<1%)\n",
    "grid_fortypcd = grid_fortypcd[(grid_fortypcd['pct_cover'] > 1)]\n",
    "grid_fortypcd.reset_index(inplace=True)\n",
    "# Check results\n",
    "print(f\"\\n{grid_fortypcd[['grid_idx','fortypnm','pct_cover']].head(15)}\\n\")"
   ]
  },
  {
   "cell_type": "code",
   "execution_count": 13,
   "id": "39a06c30-b108-44b2-a9c4-5e633cfb615e",
   "metadata": {},
   "outputs": [
    {
     "name": "stdout",
     "output_type": "stream",
     "text": [
      "\n",
      "Species occurrence counts:\n",
      "fortypnm\n",
      "ponderosa pine                      28793\n",
      "lodgepole pine                      27565\n",
      "aspen                               23580\n",
      "douglas-fir                         20219\n",
      "engelmann spruce / subalpine fir    16480\n",
      "rocky mountain juniper              14035\n",
      "deciduous oak woodland              13414\n",
      "engelmann spruce                    12122\n",
      "pinyon / juniper woodland           11590\n",
      "subalpine fir                       11210\n",
      "white fir                           10732\n",
      "juniper woodland                     3470\n",
      "limber pine                          2849\n",
      "blue spruce                          1600\n",
      "foxtail pine / bristlecone pine       614\n",
      "Name: count, dtype: int64\n",
      "\n"
     ]
    }
   ],
   "source": [
    "# calculate the species co-occurrence matrix\n",
    "# see __functions.py\n",
    "coo_mat, coo_pct = get_spp_coo(\n",
    "    grid_fortypcd, \n",
    "    grid_col='grid_idx', \n",
    "    sp_col='fortypnm', \n",
    ")"
   ]
  },
  {
   "cell_type": "code",
   "execution_count": 14,
   "id": "a1d57e2d-f601-4740-a7ba-b3490f3d074d",
   "metadata": {},
   "outputs": [
    {
     "data": {
      "image/png": "[encoded data removed]",
      "text/plain": [
       "<Figure size 900x600 with 2 Axes>"
      ]
     },
     "metadata": {},
     "output_type": "display_data"
    }
   ],
   "source": [
    "# Mask diagonal values (optional)\n",
    "mask = np.triu(np.ones_like(coo_pct, dtype=bool))\n",
    "# Plot heatmap\n",
    "plt.figure(figsize=(9, 6))\n",
    "sns.heatmap(coo_pct, cmap='coolwarm', annot=True, fmt=\".2f\", linewidths=0.5, mask=mask, annot_kws={\"size\": 8})\n",
    "# Improve readability\n",
    "plt.xticks(rotation=45, ha='right', fontsize=9)\n",
    "plt.yticks(fontsize=9)\n",
    "plt.title(\"Species Co-Occurrence Heatmap (%)\", fontsize=12)\n",
    "plt.xlabel(\"Species\", fontsize=10)\n",
    "plt.ylabel(\"Species\", fontsize=10)\n",
    "plt.show()\n",
    "\n",
    "del coo_pct, coo_mat, mask"
   ]
  },
  {
   "cell_type": "code",
   "execution_count": 15,
   "id": "08ef1a27-1665-431a-a4a1-2a8f90c88764",
   "metadata": {},
   "outputs": [
    {
     "name": "stdout",
     "output_type": "stream",
     "text": [
      "\n",
      "\n",
      "Species making up 99% of the total: \n",
      "\n",
      "                            fortypnm  fortyp_pixels  fraction  c_fraction\n",
      "9                     lodgepole pine        1801682  0.277404    0.277404\n",
      "11                    ponderosa pine        1716157  0.264236    0.541640\n",
      "0                              aspen         736847  0.113452    0.655092\n",
      "5   engelmann spruce / subalpine fir         677046  0.104245    0.759337\n",
      "3                        douglas-fir         410428  0.063193    0.822530\n",
      "10         pinyon / juniper woodland         292862  0.045092    0.867622\n",
      "4                   engelmann spruce         222780  0.034301    0.901924\n",
      "13                     subalpine fir         164865  0.025384    0.927308\n",
      "14                         white fir         144225  0.022206    0.949514\n",
      "12            rocky mountain juniper         133341  0.020530    0.970045\n",
      "2             deciduous oak woodland         128643  0.019807    0.989852\n",
      "\n",
      "\n"
     ]
    },
    {
     "data": {
      "image/png": "[encoded data removed]",
      "text/plain": [
       "<Figure size 600x400 with 1 Axes>"
      ]
     },
     "metadata": {},
     "output_type": "display_data"
    },
    {
     "data": {
      "text/plain": [
       "13941"
      ]
     },
     "execution_count": 15,
     "metadata": {},
     "output_type": "execute_result"
    }
   ],
   "source": [
    "# Create a histogram of the forest species (prevalence)\n",
    "fortyp = grid_fortypcd.copy() # make a copy to work with\n",
    "# calculate the landscape fraction (prevalence)\n",
    "spp_pr = fortyp.groupby('fortypnm')['fortyp_pixels'].sum().reset_index()\n",
    "spp_pr['fraction'] = spp_pr['fortyp_pixels'] / spp_pr['fortyp_pixels'].sum()\n",
    "spp_pr = spp_pr.sort_values(by='fraction', ascending=False)\n",
    "# which species make up 97% of observations?\n",
    "spp_pr['c_fraction'] = spp_pr['fraction'].cumsum()\n",
    "top_species = spp_pr[spp_pr['c_fraction'] <= 0.99]\n",
    "print(f\"\\n\\nSpecies making up 99% of the total: \\n\\n{top_species}\\n\\n\")\n",
    "\n",
    "# plot it\n",
    "plt.figure(figsize=(6, 4))\n",
    "sns.barplot(data=top_species, x='fortypnm', y='fraction', palette='viridis')\n",
    "plt.xlabel('Species')\n",
    "plt.ylabel('Fractional cover')\n",
    "plt.xticks(rotation=45, ha='right')\n",
    "plt.tight_layout()\n",
    "plt.show()\n",
    "\n",
    "# clean up\n",
    "del fortyp, spp_pr\n",
    "gc.collect()"
   ]
  },
  {
   "cell_type": "code",
   "execution_count": 16,
   "id": "3b2db60f-c23a-4552-8e58-259d32a4c4a9",
   "metadata": {},
   "outputs": [
    {
     "name": "stdout",
     "output_type": "stream",
     "text": [
      "    grid_idx                fortypnm     fortypnm_gp  pct_cover\n",
      "0  161955422  rocky mountain juniper   Piñon-juniper  10.179641\n",
      "1  161955422             douglas-fir     Douglas-fir  22.754491\n",
      "2  161955422          ponderosa pine  Ponderosa pine  15.568862\n",
      "3  161955422               white fir       White fir  13.173653\n",
      "5  161955422          lodgepole pine  Lodgepole pine   4.191617\n",
      "6  161955422                   aspen   Quaking aspen   5.988024\n",
      "7  161955422  deciduous oak woodland      Gambel oak   1.197605\n",
      "8  161957669             douglas-fir     Douglas-fir  29.670330\n",
      "\n",
      "Index(['index', 'grid_idx', 'fortypcd', 'fortyp_pixels', 'total_pixels',\n",
      "       'pct_cover', 'fortypnm', 'fortypnm_gp'],\n",
      "      dtype='object')\n"
     ]
    }
   ],
   "source": [
    "# Retain only the top species\n",
    "grid_fortypcd = grid_fortypcd[grid_fortypcd['fortypnm'].isin(top_species['fortypnm'].unique())]\n",
    "# Aggregate species into forest groups\n",
    "# These groups represent common pairings for the Southern Rockies\n",
    "spp_grouping = {\n",
    "    'pinyon|juniper': 'Piñon-juniper',\n",
    "    'engelmann|subalpine': 'Spruce-fir',\n",
    "    'ponderosa pine': 'Ponderosa pine', \n",
    "    'lodgepole pine': 'Lodgepole pine',\n",
    "    'aspen': 'Quaking aspen',\n",
    "    'douglas-fir': 'Douglas-fir',\n",
    "    'white fir': 'White fir',\n",
    "    'deciduous oak woodland': 'Gambel oak',\n",
    "}\n",
    "\n",
    "# create the remap table\n",
    "spp_remap = {} # dictionary to store the remap values\n",
    "# Iterate over groups to create the species remap dictionary\n",
    "for keywords, spp_group in spp_grouping.items():\n",
    "    # Find species matching the keywords\n",
    "    spp = grid_fortypcd[grid_fortypcd['fortypnm'].str.contains(keywords, case=False, na=False)]\n",
    "    # Add matching species to the remap dictionary\n",
    "    spp_remap.update(\n",
    "        {name: spp_group for name in spp['fortypnm'].unique()}\n",
    "    )\n",
    "    del spp\n",
    "    \n",
    "# Apply the remap to create a new grouped species column\n",
    "grid_fortypcd['fortypnm_gp'] = grid_fortypcd['fortypnm'].map(spp_remap).fillna(grid_fortypcd['fortypnm'])\n",
    "# Verify the updated species groups\n",
    "print(grid_fortypcd[['grid_idx', 'fortypnm', 'fortypnm_gp', 'pct_cover']].drop_duplicates().head(8))\n",
    "print(f\"\\n{grid_fortypcd.columns}\")"
   ]
  },
  {
   "cell_type": "code",
   "execution_count": 17,
   "id": "446c5a68-650d-47db-b54d-04f11aff5ef9",
   "metadata": {},
   "outputs": [
    {
     "name": "stdout",
     "output_type": "stream",
     "text": [
      "\n",
      "NaNs in FORTYP group name: 0\n",
      "\n",
      "Forest percent:\n",
      "count    162652.000000\n",
      "mean         85.994587\n",
      "std          22.592656\n",
      "min           0.510204\n",
      "25%          81.868132\n",
      "50%          97.633136\n",
      "75%         100.000000\n",
      "max         100.000000\n",
      "Name: forest_pct, dtype: float64\n",
      "\n",
      "\n",
      "  grid_idx     fortypnm_gp  fortyp_pixels  total_pixels  fortyp_pct  \\\n",
      "0  0819725     Douglas-fir              1            73    0.005495   \n",
      "1  0819725   Piñon-juniper              1            73    0.005495   \n",
      "2  0819725   Quaking aspen             55            73    0.302198   \n",
      "3  0819725      Spruce-fir              7            73    0.038462   \n",
      "4  0819725       White fir              2            73    0.010989   \n",
      "5  0821970   Quaking aspen            119           158    0.653846   \n",
      "6  0821970      Spruce-fir             34           158    0.186813   \n",
      "7  0821974     Douglas-fir             15           164    0.082418   \n",
      "8  0821974      Gambel oak              2           164    0.010989   \n",
      "9  0821974  Ponderosa pine              5           164    0.027473   \n",
      "\n",
      "   forest_pixels  forest_pct  \n",
      "0            182   40.109890  \n",
      "1            182   40.109890  \n",
      "2            182   40.109890  \n",
      "3            182   40.109890  \n",
      "4            182   40.109890  \n",
      "5            182   86.813187  \n",
      "6            182   86.813187  \n",
      "7            182   90.109890  \n",
      "8            182   90.109890  \n",
      "9            182   90.109890  \n",
      "\n",
      "\n",
      "~~~~~~~~~~~~~~~~~~\n",
      "\n"
     ]
    },
    {
     "data": {
      "text/plain": [
       "5004"
      ]
     },
     "execution_count": 17,
     "metadata": {},
     "output_type": "execute_result"
    }
   ],
   "source": [
    "# Aggregate with the new species groupings\n",
    "# Reacalculate the percent cover for each species group\n",
    "grid_fortypgp = (\n",
    "    grid_fortypcd.groupby(['grid_idx','fortypnm_gp'], as_index=False)\n",
    "    .agg(\n",
    "        fortyp_pixels=('fortyp_pixels','sum'),\n",
    "        total_pixels=('total_pixels','max'),\n",
    "        fortyp_pct=('pct_cover','sum'),\n",
    "    )\n",
    ")\n",
    "\n",
    "# Merge in the forest percent\n",
    "grid_fortypgp = grid_fortypgp.merge(forest_pct, on='grid_idx', how='inner')\n",
    "# Reclaculate the fortyp_pct as the percent of forested pixels\n",
    "grid_fortypgp['fortyp_pct'] = grid_fortypgp['fortyp_pixels'] / grid_fortypgp['forest_pixels']\n",
    "\n",
    "# Check on nulls introduced\n",
    "print(f\"\\nNaNs in FORTYP group name: {grid_fortypgp['fortypnm_gp'].isna().sum()}\\n\")\n",
    "print(f\"Forest percent:\\n{grid_fortypgp['forest_pct'].describe()}\\n\")\n",
    "print(f\"\\n{grid_fortypgp.head(10)}\\n\")\n",
    "print(\"\\n~~~~~~~~~~~~~~~~~~\\n\")\n",
    "\n",
    "del grid_fortypcd, forest_pct\n",
    "gc.collect()"
   ]
  },
  {
   "cell_type": "code",
   "execution_count": 18,
   "id": "bfdbdd1f-c7d2-4f65-9fd6-f4633435c01e",
   "metadata": {},
   "outputs": [
    {
     "name": "stdout",
     "output_type": "stream",
     "text": [
      "Before filtering: 162652\n",
      "\n",
      "After filtering: 159165\n",
      "\n"
     ]
    }
   ],
   "source": [
    "# Filter out very small percentages again:\n",
    "# This is needed because we re-calculated the percent cover using the forested pixels\n",
    "print(f\"Before filtering: {len(grid_fortypgp)}\\n\")\n",
    "grid_fortypgp = grid_fortypgp[grid_fortypgp['fortyp_pct'] > 0.01]\n",
    "print(f\"After filtering: {len(grid_fortypgp)}\\n\")"
   ]
  },
  {
   "cell_type": "code",
   "execution_count": 20,
   "id": "ef51d8a5-2622-49d5-81e6-fe25eee2ab31",
   "metadata": {},
   "outputs": [
    {
     "name": "stdout",
     "output_type": "stream",
     "text": [
      "\n",
      "No duplicates at this stage.\n",
      "\n"
     ]
    }
   ],
   "source": [
    "# check for duplicates, remove them\n",
    "n = grid_fortypgp.duplicated(subset=['grid_idx','fortypnm_gp','fortyp_pct']).sum()\n",
    "if n > 0:\n",
    "    print(f\"\\nDropping [{n}] duplicate rows.\\n\")\n",
    "    grid_fortypgp = grid_fortypgp.drop_duplicates(subset=['grid_idx','fortypnm_gp','fortyp_pct'])\n",
    "else:\n",
    "    print(\"\\nNo duplicates at this stage.\\n\")"
   ]
  },
  {
   "cell_type": "code",
   "execution_count": 64,
   "id": "ea0040c7-9f3a-46b0-a3eb-2c9350891a0a",
   "metadata": {},
   "outputs": [
    {
     "name": "stdout",
     "output_type": "stream",
     "text": [
      "\n",
      "\n",
      "Species making up 97% of the total: \n",
      "\n",
      "      fortypnm_gp  fortyp_pixels  fraction  dom_count  dom_fraction  \\\n",
      "2  Lodgepole pine        1801129  0.280314      11957      0.269837   \n",
      "4  Ponderosa pine        1715827  0.267039      14545      0.328241   \n",
      "6      Spruce-fir        1064387  0.165653       6514      0.147003   \n",
      "5   Quaking aspen         736503  0.114624       5074      0.114506   \n",
      "3   Piñon-juniper         425632  0.066242       3052      0.068875   \n",
      "0     Douglas-fir         409958  0.063803       2281      0.051476   \n",
      "7       White fir         143937  0.022401        464      0.010471   \n",
      "1      Gambel oak         128016  0.019923        425      0.009591   \n",
      "\n",
      "   c_fraction  \n",
      "2    0.280314  \n",
      "4    0.547353  \n",
      "6    0.713006  \n",
      "5    0.827630  \n",
      "3    0.893872  \n",
      "0    0.957675  \n",
      "7    0.980077  \n",
      "1    1.000000  \n",
      "\n",
      "\n"
     ]
    },
    {
     "data": {
      "image/png": "[encoded data removed]",
      "text/plain": [
       "<Figure size 400x300 with 1 Axes>"
      ]
     },
     "metadata": {},
     "output_type": "display_data"
    }
   ],
   "source": [
    "# Re-create the histogram of forest species (prevalence)\n",
    "df = grid_fortypgp.copy() # make a copy to work with\n",
    "\n",
    "# calculate the landscape fraction (prevalence)\n",
    "spp_pr = df.groupby('fortypnm_gp')['fortyp_pixels'].sum().reset_index()\n",
    "spp_pr['fraction'] = spp_pr['fortyp_pixels'] / spp_pr['fortyp_pixels'].sum()\n",
    "\n",
    "# calculate the fraction of gridcells for each primary type\n",
    "primary = (\n",
    "    df.loc[df.groupby('grid_idx')['fortyp_pct'].idxmax()]\n",
    "    .copy()\n",
    ")\n",
    "\n",
    "# Count how many times each forest type is primary\n",
    "primary_n = (\n",
    "    primary.groupby('fortypnm_gp')['grid_idx']\n",
    "    .nunique()\n",
    "    .reset_index(name='dom_count')\n",
    ")\n",
    "\n",
    "# Step 3: Normalize to get the fraction of all grid cells\n",
    "total_grids = df['grid_idx'].nunique()\n",
    "primary_n['dom_fraction'] = primary_n['dom_count'] / total_grids\n",
    "\n",
    "# Merge the dominance fraction into the species prevalence table\n",
    "spp_pr = spp_pr.merge(primary_n, on='fortypnm_gp', how='left').fillna(0)\n",
    "spp_pr = spp_pr.sort_values(by='fraction', ascending=False)\n",
    "# which species make up 97% of observations?\n",
    "spp_pr['c_fraction'] = spp_pr['fraction'].cumsum()\n",
    "top_species = spp_pr[(spp_pr['c_fraction'] <= 0.97) | (spp_pr['fraction'] > 0.01)]\n",
    "print(f\"\\n\\nSpecies making up 97% of the total: \\n\\n{top_species}\\n\\n\")\n",
    "\n",
    "# Plot the landscape fraction as bars\n",
    "\n",
    "plt.figure(figsize=(4, 3))\n",
    "\n",
    "# function to truncate a color palette\n",
    "def truncate_cmap(cmap_name, min_val=0.2, max_val=0.8, n_colors=10):\n",
    "    cmap = cm.get_cmap(cmap_name)\n",
    "    truncated = cmap(np.linspace(min_val, max_val, n_colors))\n",
    "    return [tuple(rgb[:3]) for rgb in truncated]\n",
    "\n",
    "# apply this to the greens palette\n",
    "palette = truncate_cmap(\"Greens_r\", 0.3, 0.8)\n",
    "\n",
    "bar_width = 0.8\n",
    "sns.barplot(\n",
    "    data=top_species, \n",
    "    x='fortypnm_gp', \n",
    "    y='fraction', \n",
    "    palette=palette, \n",
    "    # color='#41ab5d',\n",
    "    alpha=0.98)\n",
    "\n",
    "# Add labels and formatting\n",
    "plt.xlabel('Forest Type', size=10)\n",
    "plt.ylabel('Burned Area Fraction', size=9.5)\n",
    "plt.xticks(ticks=range(len(top_species)), \n",
    "           labels=top_species['fortypnm_gp'], \n",
    "           rotation=45, ha='right',\n",
    "           size=9)\n",
    "# plt.legend(loc='upper right')\n",
    "plt.tight_layout()\n",
    "\n",
    "# Save the map\n",
    "out_png = os.path.join(projdir, 'figures/FigureS1_TopSpecies.png')\n",
    "plt.savefig(out_png, dpi=300, bbox_inches='tight')\n",
    "\n",
    "plt.show()\n",
    "\n",
    "# del df, spp_pr\n",
    "# gc.collect()"
   ]
  },
  {
   "cell_type": "code",
   "execution_count": null,
   "id": "07dfaf8a-490e-4067-9f79-9a7dfbb2c8d8",
   "metadata": {},
   "outputs": [],
   "source": [
    "# check on all the species remaining\n",
    "spps = top_species['fortypnm_gp'].unique()\n",
    "spps"
   ]
  },
  {
   "cell_type": "markdown",
   "id": "91a49c05-9ed7-42cb-8954-c66d85122132",
   "metadata": {},
   "source": [
    "## TreeMap Gridcell-level Canopy % and BALIVE"
   ]
  },
  {
   "cell_type": "code",
   "execution_count": null,
   "id": "61620f46-7675-40b4-bfb7-6f90c3aafb9d",
   "metadata": {},
   "outputs": [],
   "source": [
    "# Subset the spatial data\n",
    "grid_ = grid[grid['grid_idx'].isin(grid_fortypgp['grid_idx'].unique())]\n",
    "print(f\"Number of grids in the filtered subset: {len(grid_)}\")\n",
    "del grid"
   ]
  },
  {
   "cell_type": "code",
   "execution_count": null,
   "id": "4a7fe657-bc15-4f01-9738-153e6a0c074e",
   "metadata": {},
   "outputs": [],
   "source": [
    "# Load the TreeMap Canopy % \n",
    "canopypct = os.path.join(projdir, \"data/spatial/raw/USFS/TreeMap/treemap_west_canopypct.tif\") \n",
    "canopypct = rxr.open_rasterio(canopypct, cache=False).squeeze()\n",
    "# Grab some raster metadata from one of the layers\n",
    "shp, gt, wkt, nd = canopypct.shape, canopypct.spatial_ref.GeoTransform, canopypct.rio.crs, canopypct.rio.nodata\n",
    "print(\n",
    "    f\"\\nShape: {shp}; \\n\"\n",
    "    f\"GeoTransform: {gt}; \\n\"\n",
    "    f\"WKT: {wkt}; \\n\"\n",
    "    f\"NoData Value: {nd}; \\n\"\n",
    "    f\"Data Type: {canopypct[0].dtype}\\n\")\n",
    "\n",
    "# Calculate the mean grid-level canopy percent\n",
    "canopypct_mn = compute_band_stats(\n",
    "    geoms=grid_, \n",
    "    image_da=canopypct, \n",
    "    id_col='grid_idx', \n",
    "    attr='canopypct', \n",
    "    stats=['mean'], # calculate the mean canopy pct\n",
    "    ztype='continuous'\n",
    ")\n",
    "del canopypct\n",
    "\n",
    "print(canopypct_mn.head())"
   ]
  },
  {
   "cell_type": "code",
   "execution_count": null,
   "id": "23a56c32-ca79-41d6-97f4-13841f2846bf",
   "metadata": {},
   "outputs": [],
   "source": [
    "# Load the TreeMap BALIVE\n",
    "balive = os.path.join(projdir, \"data/spatial/raw/USFS/TreeMap/treemap_west_balive.tif\") \n",
    "balive = rxr.open_rasterio(balive, masked=True, cache=False).squeeze()\n",
    "# Grab some raster metadata from one of the layers\n",
    "shp, gt, wkt, nd = balive.shape, balive.spatial_ref.GeoTransform, balive.rio.crs, balive.rio.nodata\n",
    "print(\n",
    "    f\"\\nShape: {shp}; \\n\"\n",
    "    f\"GeoTransform: {gt}; \\n\"\n",
    "    f\"WKT: {wkt}; \\n\"\n",
    "    f\"NoData Value: {nd}; \\n\"\n",
    "    f\"Data Type: {balive[0].dtype}\\n\")\n",
    "\n",
    "# Calculate the mean grid-level canopy percent\n",
    "balive_sum = compute_band_stats(\n",
    "    geoms=grid_, \n",
    "    image_da=balive, \n",
    "    id_col='grid_idx', \n",
    "    attr='balive', \n",
    "    stats=['sum'],\n",
    "    ztype='continuous'\n",
    ")\n",
    "\n",
    "del balive\n",
    "\n",
    "# Merge the canopy percent and BALIVE\n",
    "grid_metrics = pd.merge(canopypct_mn, balive_sum, on=\"grid_idx\", how=\"inner\")\n",
    "print(grid_metrics.head())\n",
    "\n",
    "del canopypct_mn, balive_sum\n",
    "\n",
    "# Merge to the forest type dataframe\n",
    "grid_fortypgp_f = pd.merge(grid_fortypgp, grid_metrics, on=\"grid_idx\", how=\"left\")\n",
    "print(f\"\\n{grid_fortypgp_f.columns}\\n\")"
   ]
  },
  {
   "cell_type": "code",
   "execution_count": null,
   "id": "0e0f6c93-635a-462a-87e8-f9543e5cedb3",
   "metadata": {},
   "outputs": [],
   "source": [
    "grid_fortypgp_f[['grid_idx','fortypnm_gp','fortyp_pct','canopypct_mean','balive_sum']].head()"
   ]
  },
  {
   "cell_type": "code",
   "execution_count": null,
   "id": "2856fcd9-5ab9-4a26-8778-3af887b2e8d9",
   "metadata": {},
   "outputs": [],
   "source": [
    "len(grid_fortypgp_f)"
   ]
  },
  {
   "cell_type": "code",
   "execution_count": null,
   "id": "1b5f1866-e9e4-4a29-b53d-18c7722cb5f9",
   "metadata": {},
   "outputs": [],
   "source": []
  },
  {
   "cell_type": "code",
   "execution_count": null,
   "id": "a186147a-36b8-4157-a762-0460701a1e57",
   "metadata": {},
   "outputs": [],
   "source": []
  },
  {
   "cell_type": "code",
   "execution_count": null,
   "id": "49593a65-9ea5-47ca-8446-33d27626627e",
   "metadata": {},
   "outputs": [],
   "source": []
  },
  {
   "cell_type": "markdown",
   "id": "e955e7f3-c3cc-4319-99ad-793c1acf06a4",
   "metadata": {},
   "source": [
    "## LANDFIRE Forest Canopy Cover and Height"
   ]
  },
  {
   "cell_type": "code",
   "execution_count": null,
   "id": "07a7d13d-9447-4d02-95e9-5a618998d6d8",
   "metadata": {},
   "outputs": [],
   "source": [
    "# list out the landfire GeoTIFFs\n",
    "# veg Type, Height, and Cover\n",
    "lf_dir = os.path.join(projdir,'data/spatial/mod/LANDFIRE/')\n",
    "lf_tiffs = list_files(lf_dir, '*.tif', recursive=True)\n",
    "lf_tiffs = [f for f in lf_tiffs if any(sub in f for sub in ['cc', 'ch'])]\n",
    "print([os.path.basename(f) for f in lf_tiffs])"
   ]
  },
  {
   "cell_type": "code",
   "execution_count": null,
   "id": "e2add721-ed75-451e-b8fe-7ee89f36a576",
   "metadata": {},
   "outputs": [],
   "source": [
    "# calculate the continuous summaries (forest canopy percent and height)\n",
    "ccs = {\n",
    "    'lf_forest_cc': lf_tiffs[0],\n",
    "    'lf_forest_ch': lf_tiffs[1]\n",
    "}\n",
    "results = [] # store results\n",
    "for key, fp in ccs.items():\n",
    "    print(f\"Processing: {os.path.basename(fp)}\")\n",
    "    da = rxr.open_rasterio(fp, masked=True, cache=False).squeeze()\n",
    "    # calculate zonal statistics\n",
    "    zs = compute_band_stats(\n",
    "        geoms=grid_, \n",
    "        image_da=da, \n",
    "        id_col='grid_idx', \n",
    "        stats=['mean'], \n",
    "        attr=key,\n",
    "        ztype='continuous'\n",
    "    )\n",
    "    results.append(zs)\n",
    "    del da, zs\n",
    "\n",
    "# concatenate the results\n",
    "fc_summary = pd.concat([df.set_index(\"grid_idx\") for df in results], axis=1).reset_index()\n",
    "fc_summary.head()"
   ]
  },
  {
   "cell_type": "code",
   "execution_count": null,
   "id": "69d60f3f-6120-44d6-ab1e-6f4810021f3e",
   "metadata": {},
   "outputs": [],
   "source": [
    "# save the TreeMap FORTYPCD table out.\n",
    "# merge in the LANDFIRE canopy cover and height\n",
    "grid_fortypgp_fc = pd.merge(grid_fortypgp_f, fc_summary, on='grid_idx', how='left')\n",
    "# save the file out\n",
    "out_fp = os.path.join(projdir,'data/tabular/mod/gridstats_fortypnm_gp_fc.csv')\n",
    "grid_fortypgp_fc[[\n",
    "    'grid_idx', 'fortypnm_gp', 'fortyp_pct', \n",
    "    'canopypct_mean', 'balive_sum', 'forest_pct',\n",
    "    'lf_forest_cc_mean', 'lf_forest_ch_mean'\n",
    "]]\n",
    "grid_fortypgp_fc.to_csv(out_fp)\n",
    "print(f\"Saved file to: {out_fp}\")\n",
    "\n",
    "gc.collect()"
   ]
  },
  {
   "cell_type": "code",
   "execution_count": null,
   "id": "187651fc-ccf8-44e3-9828-a345365d541b",
   "metadata": {},
   "outputs": [],
   "source": []
  },
  {
   "cell_type": "code",
   "execution_count": null,
   "id": "f17ea664-3477-4707-ae55-2c110df4e871",
   "metadata": {},
   "outputs": [],
   "source": []
  },
  {
   "cell_type": "code",
   "execution_count": null,
   "id": "2525db17-1f79-48d0-880f-bc4906c8e73a",
   "metadata": {},
   "outputs": [],
   "source": []
  },
  {
   "cell_type": "code",
   "execution_count": null,
   "id": "063fcd56-e78f-4043-a01c-4b63beead90b",
   "metadata": {},
   "outputs": [],
   "source": []
  },
  {
   "cell_type": "code",
   "execution_count": null,
   "id": "ede36f1b-df64-4590-8611-6bcaa464dab5",
   "metadata": {},
   "outputs": [],
   "source": []
  },
  {
   "cell_type": "code",
   "execution_count": null,
   "id": "af093130-2cac-45f3-9d86-6486c9128a69",
   "metadata": {},
   "outputs": [],
   "source": []
  },
  {
   "cell_type": "markdown",
   "id": "a85d0be9-0266-430d-9c92-0d8152011e77",
   "metadata": {},
   "source": [
    "## Plots of forest type"
   ]
  },
  {
   "cell_type": "code",
   "execution_count": null,
   "id": "7aea6fc0-6dcb-4f3a-8862-fd3ae1dc1ac6",
   "metadata": {},
   "outputs": [],
   "source": [
    "# subset the grids to predominantly forested plots (>50% forested)\n",
    "# Just work with forested grids from here on out:\n",
    "grid_forest = grid_fortypgp[grid_fortypgp['forest_pct'] > 50]\n",
    "n_forest = len(grid_forest['grid_index'].unique())\n",
    "print(f\"{n_forest}/{len(grid)} [{round(n_forest/len(grid)*100,1)}%] gridcells are >50% forested.\")"
   ]
  },
  {
   "cell_type": "code",
   "execution_count": null,
   "id": "ade4eb0b-8b68-44f9-94d5-f60726e61f82",
   "metadata": {},
   "outputs": [],
   "source": [
    "# plot the distribution of percent cover by forest types\n",
    "df = grid_fortypgp.copy()\n",
    "df['fortypnm_gp'] = df['fortypnm_gp'].astype('category')\n",
    "species_order = top_species['fortypnm_gp'].tolist()\n",
    "df['fortypnm_gp'] = pd.Categorical(\n",
    "    df['fortypnm_gp'],\n",
    "    categories=species_order,\n",
    "    ordered=True\n",
    ")\n",
    "\n",
    "# Create a FacetGrid with the specified order\n",
    "g = sns.FacetGrid(\n",
    "    data=df,\n",
    "    col='fortypnm_gp',      \n",
    "    col_wrap=3,             \n",
    "    sharex=False,            \n",
    "    sharey=False,            \n",
    "    height=2,               \n",
    "    aspect=1.2              \n",
    ")\n",
    "\n",
    "# Map a KDE plot to each facet\n",
    "g.map(sns.kdeplot, 'pct_cover', fill=True, alpha=0.6)\n",
    "# Customize the plot\n",
    "g.set_titles(\"{col_name}\")  # Use species names as titles\n",
    "g.set_axis_labels(\"Percent Cover (%)\", \"Density\", size=8)  # Axis labels\n",
    "g.fig.set_size_inches(6,4)  # Set figure dimensions\n",
    "plt.subplots_adjust(top=0.9)  # Adjust subplot spacing\n",
    "\n",
    "del df\n",
    "gc.collect()\n",
    "\n",
    "plt.show()"
   ]
  },
  {
   "cell_type": "code",
   "execution_count": null,
   "id": "3e881579-46af-47c9-96dd-c05722235ad3",
   "metadata": {},
   "outputs": [],
   "source": [
    "grid_fortypgp.columns"
   ]
  },
  {
   "cell_type": "code",
   "execution_count": null,
   "id": "ffb610ed-5eff-4ce8-879b-d47dce9bf3f9",
   "metadata": {},
   "outputs": [],
   "source": [
    "grid_fortypgp['fortypnm_gp'].isna().sum()"
   ]
  },
  {
   "cell_type": "code",
   "execution_count": null,
   "id": "b47fbaf2-7a5b-4d62-b9d3-d6107cd1e179",
   "metadata": {},
   "outputs": [],
   "source": [
    "print(len(grid_fortypgp))\n",
    "print(len(grid))"
   ]
  },
  {
   "cell_type": "code",
   "execution_count": null,
   "id": "39f969a8-ba36-465a-ac71-7c7f2c28d5f2",
   "metadata": {},
   "outputs": [],
   "source": [
    "# join the forest type dataframe to our FRP gridcells\n",
    "grid_frp = grid.merge(grid_fortypgp, on='grid_index', how='inner')\n",
    "print(grid_frp.columns)\n",
    "print(len(grid_frp))\n",
    "\n",
    "# tidy up\n",
    "del grid_forest\n",
    "gc.collect()"
   ]
  },
  {
   "cell_type": "code",
   "execution_count": null,
   "id": "4e75dc7c-f86d-4fd9-ab7a-5c25f9ca8f60",
   "metadata": {},
   "outputs": [],
   "source": [
    "print(f\"\\nDropping [{grid_frp['fortypnm_gp'].isna().sum()}] NaN rows.\\n\")\n",
    "grid_frp = grid_frp[~grid_frp['fortypnm_gp'].isna()]\n",
    "print(len(grid_frp))"
   ]
  },
  {
   "cell_type": "code",
   "execution_count": null,
   "id": "af23d14a-faad-4051-8e1b-2d7bc75df250",
   "metadata": {},
   "outputs": [],
   "source": [
    "print(f\"\\nSubsetting to top species groups:\\n{top_species['fortypnm_gp'].unique()}\")\n",
    "grid_frp = grid_frp[grid_frp['fortypnm_gp'].isin(top_species['fortypnm_gp'].unique())]\n",
    "print(f\"\\n{len(grid_frp['grid_index'].unique())}/{len(grid['grid_index'].unique())}\")"
   ]
  },
  {
   "cell_type": "code",
   "execution_count": null,
   "id": "91179fa7-654e-4f41-bea4-c8db1cb9e47d",
   "metadata": {},
   "outputs": [],
   "source": [
    "# make some plots showing the distribution of FRP across forest types\n",
    "# gather the dominant forest type\n",
    "dfortyp = grid_frp.loc[grid_frp.groupby('grid_index')['pct_cover'].idxmax()]\n",
    "print(dfortyp['fortypnm_gp'].unique())\n",
    "print(\"\\n\")\n",
    "\n",
    "# Retain only the daytime FRP measurements\n",
    "n_small = len(dfortyp[dfortyp['frp_max_day'] == 0]) \n",
    "print(f\"Dropping {n_small} [{round(n_small/len(dfortyp)*100,1)}%] gridcells w/ >0 max daytime FRP.\")\n",
    "dfortyp = dfortyp[(dfortyp['frp_max_day'] > 0)]\n",
    "\n",
    "# create a dataframe with dominance (>90% of the same species)\n",
    "dom = dfortyp[dfortyp['pct_cover'] > 50]\n",
    "# Plot FRP by dominant forest type\n",
    "# Find the median and sort the forest types by FRP\n",
    "med = dom.groupby('fortypnm_gp')['frp_max_day'].median().sort_values(ascending=False)\n",
    "sorted = med.index.tolist()\n",
    "\n",
    "# setup the plot\n",
    "plt.figure(figsize=(6, 4)) \n",
    "\n",
    "# boxplot\n",
    "sns.boxplot(\n",
    "    data=dom, \n",
    "    x='frp_max_day', \n",
    "    y='fortypnm_gp', \n",
    "    order=sorted, \n",
    "    palette='coolwarm_r', \n",
    "    fliersize=4,\n",
    "    dodge=False)\n",
    "\n",
    "# adjust plot elements\n",
    "plt.xscale('log') # log-scale FRP\n",
    "plt.xlabel('Daytime Fire Radiative Power (FRP)')\n",
    "plt.ylabel('Forest Type')\n",
    "plt.tight_layout()\n",
    "# save it out.\n",
    "out_plot = os.path.join(projdir, 'figures/FigureX_FORTYPCD_DominantSpecies_FRPmax_gp.png')\n",
    "plt.savefig(out_plot, dpi=300, bbox_inches='tight')\n",
    "\n",
    "plt.show()\n",
    "print(f\"\\nSaved to: {out_plot}\\n\")"
   ]
  },
  {
   "cell_type": "code",
   "execution_count": null,
   "id": "cfc07502-b792-4a25-adb2-8fda6ee4af69",
   "metadata": {},
   "outputs": [],
   "source": [
    "# Run a statistical test between these groups\n",
    "from scipy.stats import kruskal\n",
    "import scikit_posthocs as sp\n",
    "\n",
    "# Group FRP by forest type\n",
    "grouped_frp = [dom[dom['fortypnm_gp'] == f]['frp_max_day'].values for f in sorted]\n",
    "# Perform Kruskal-Wallis test\n",
    "stat, p = kruskal(*grouped_frp)\n",
    "print(f\"\\nKruskal-Wallis Test: H={stat:.3f}, p={p:.3e}\\n\")\n",
    "\n",
    "# Dunn's test for pairwise comparisons\n",
    "dunn = sp.posthoc_dunn(\n",
    "    dom, val_col='frp_max_day', group_col='fortypnm_gp', p_adjust='bonferroni'\n",
    ")\n",
    "print(f\"Dunn's test:\\n{dunn}\")\n",
    "print(\"\\n~~~~~~~~~~~~~~~~~\\n\")\n",
    "\n",
    "del grouped_frp, stat, p, dunn\n",
    "gc.collect()"
   ]
  },
  {
   "cell_type": "code",
   "execution_count": null,
   "id": "a8343f7a-6c96-435f-9860-7fa3ef5623b4",
   "metadata": {},
   "outputs": [],
   "source": [
    "# Plot the Day vs. Night max FRP for dominant types\n",
    "dom = dom[dom['frp_max_day'] > 0]\n",
    "dom = dom[dom['frp_max_night'] > 0]\n",
    "\n",
    "# Reshape the data to long format for both day and night FRP\n",
    "dom_l = pd.melt(\n",
    "    dom, \n",
    "    id_vars=['fortypnm_gp'], \n",
    "    value_vars=['frp_max_day', 'frp_max_night'], \n",
    "    var_name='DayNight', \n",
    "    value_name='FRP'\n",
    ")\n",
    "\n",
    "# Map `Time` values for clearer labels\n",
    "dom_l['DayNight'] = dom_l['DayNight'].map({\n",
    "    'frp_max_day': 'Day', \n",
    "    'frp_max_night': 'Night'\n",
    "})\n",
    "\n",
    "# Create the plot\n",
    "plt.figure(figsize=(6, 4))\n",
    "\n",
    "sns.boxplot(\n",
    "    data=dom_l,\n",
    "    x=\"FRP\",\n",
    "    y=\"fortypnm_gp\",\n",
    "    hue=\"DayNight\",\n",
    "    order=sorted,\n",
    "    palette='magma_r',\n",
    "    fliersize=3,\n",
    ")\n",
    "\n",
    "plt.xscale('log')  # Log-scale FRP\n",
    "plt.xlabel('Fire Radiative Power (FRP)', fontsize=11)\n",
    "plt.ylabel('Forest Type', fontsize=11)\n",
    "plt.legend(title='', loc='lower right', fontsize=9)\n",
    "plt.tight_layout()\n",
    "\n",
    "# Save and show the plot\n",
    "out_plot = os.path.join(projdir, 'figures/FigureX_FORTYPCD_DominantSpecies_FRPmax_DayNight_gp.png')\n",
    "plt.savefig(out_plot, dpi=300, bbox_inches='tight')\n",
    "plt.show()\n",
    "\n",
    "print(f\"\\nSaved to: {out_plot}\\n\")"
   ]
  },
  {
   "cell_type": "code",
   "execution_count": null,
   "id": "21817090-0629-48c2-ae07-6ce1529e61a4",
   "metadata": {},
   "outputs": [],
   "source": [
    "# save the table out.\n",
    "out_fp = os.path.join(projdir,'data/tabular/mod/gridstats_fortypnm_gp_forest_frp.csv')\n",
    "grid_frp.to_csv(out_fp)\n",
    "print(f\"Saved file to: {out_fp}\")"
   ]
  },
  {
   "cell_type": "code",
   "execution_count": null,
   "id": "f6f27420-b5e8-4ba2-85f6-d2a562b9679b",
   "metadata": {},
   "outputs": [],
   "source": []
  },
  {
   "cell_type": "code",
   "execution_count": null,
   "id": "baccfe61-8793-494d-acc6-881f6c34ac4e",
   "metadata": {},
   "outputs": [],
   "source": []
  },
  {
   "cell_type": "code",
   "execution_count": null,
   "id": "e612a005-3595-4f2b-8850-439a7c547b43",
   "metadata": {},
   "outputs": [],
   "source": []
  },
  {
   "cell_type": "code",
   "execution_count": null,
   "id": "38e1a139-1fb8-4082-b649-31e78a517a60",
   "metadata": {},
   "outputs": [],
   "source": [
    "# Identify gridcells with some aspen component\n",
    "aspen_idx = grid_frp[grid_frp['fortypnm_gp'] == 'Quaking aspen']['grid_index'].unique() # list of grid indices\n",
    "grid_aspen = grid_frp[grid_frp['grid_index'].isin(aspen_idx)]\n",
    "# check how many aspen gridcells there are\n",
    "n_aspen = len(grid_aspen['grid_index'].unique())\n",
    "print(f\"{n_aspen} [{round(n_aspen/len(grid_frp['grid_index'].unique())*100,1)}%] gridcells with some aspen component.\")"
   ]
  },
  {
   "cell_type": "code",
   "execution_count": null,
   "id": "75c01e53-41d6-42b2-b21b-dc53536179cf",
   "metadata": {},
   "outputs": [],
   "source": [
    "# waffle chart version\n",
    "# create bins for species composition\n",
    "bins = np.linspace(0, 100, 6) # 20% intervals\n",
    "spps = [s for s in grid_aspen['fortypnm_gp'].unique() if s != 'Quaking aspen'] # exclude aspen from species list\n",
    "print(f\"Associate forest type: {spps}\\n\")\n",
    "\n",
    "# create grid data\n",
    "df = grid_aspen.copy() # work from a copy\n",
    "tiles = []  # Store tile data\n",
    "for sp in spps:\n",
    "    # Filter for co-occurrence\n",
    "    df_sp = df[df['fortypnm_gp'].isin(['Quaking aspen', sp])]\n",
    "    # Pivot to create columns for Aspen and the species\n",
    "    cover_df = (\n",
    "        df_sp.pivot_table(\n",
    "            index='grid_index', \n",
    "            columns='fortypnm_gp', \n",
    "            values='pct_cover', \n",
    "            fill_value=0\n",
    "        ).reset_index()\n",
    "         .rename(columns={'Quaking aspen': 'aspen_cover', sp: f'{sp}_cover'})\n",
    "    )\n",
    "    # Make sure there are some of each species (aspen and other)\n",
    "    cover_df['combined_cover'] = cover_df['aspen_cover'] + cover_df[f'{sp}_cover']\n",
    "    cover_df = cover_df[cover_df['combined_cover'] >= 50] # where one or both make up the majority\n",
    "    # Merge back with FRP data\n",
    "    cover_df = cover_df.merge(\n",
    "        grid_aspen[['grid_index','frp_max_day', 'frp_max_night']].drop_duplicates(), \n",
    "        on='grid_index', how='left')\n",
    "\n",
    "    # Bin Aspen and species percent cover\n",
    "    cover_df['aspen_bin'] = pd.cut(cover_df['aspen_cover'], bins, labels=range(len(bins) - 1))\n",
    "    cover_df[f'{sp}_bin'] = pd.cut(cover_df[f'{sp}_cover'], bins, labels=range(len(bins) - 1))\n",
    "    # Group by bins and calculate statistics\n",
    "    grouped = cover_df.groupby(['aspen_bin', f'{sp}_bin'])\n",
    "    counts = grouped.size().reset_index(name='freq')  # Frequency for tile size\n",
    "    mean_frp = grouped['frp_max_day'].mean().reset_index(name='frp')  # Mean FRP for color\n",
    "\n",
    "    # Merge statistics into a single DataFrame\n",
    "    tiled_data = pd.merge(counts, mean_frp, on=['aspen_bin', f'{sp}_bin'])\n",
    "    tiled_data['species'] = sp\n",
    "    tiles.append(tiled_data)\n",
    "\n",
    "    # Tidy up\n",
    "    del df_sp, cover_df, grouped, counts, mean_frp, tiled_data\n",
    "    gc.collect()\n",
    "\n",
    "# Combine tile data\n",
    "tiles_df = pd.concat(tiles, ignore_index=True)\n",
    "tiles_df['log_frp'] = np.log10(tiles_df['frp'] + 1e-6) # add a small value to help with log-scaling\n",
    "\n",
    "# Normalize tile sizes (scale frequency)\n",
    "tiles_df['tile_size'] = (tiles_df['freq'] / tiles_df['freq'].max()) ** 0.2  # Square root scaling for better size balance\n",
    "\n",
    "# Plotting the tile-scaled heatmap\n",
    "n_cols = 3  # Number of columns in the facet grid\n",
    "n_rows = int(np.ceil(len(spps) / n_cols))\n",
    "fig, axes = plt.subplots(n_rows, n_cols, figsize=(10,6), constrained_layout=True)\n",
    "axes = axes.flatten()\n",
    "\n",
    "# handle the normalization\n",
    "vmin = tiles_df['log_frp'].min()\n",
    "vmax = tiles_df['log_frp'].quantile()\n",
    "norm = mcolors.Normalize(vmin=vmin, vmax=vmax)  # Define color normalization based on raw FRP range\n",
    "\n",
    "# log_frp_min = np.percentile(tiles_df['log_frp'], 10)\n",
    "# log_frp_max = np.percentile(tiles_df['log_frp'], 90)\n",
    "\n",
    "# make the grids\n",
    "for i, sp in enumerate(spps):\n",
    "    sp_data = tiles_df[tiles_df['species'] == sp]\n",
    "    ax = axes[i]\n",
    "\n",
    "    vmin = sp_data['frp'].min()\n",
    "    vmax = sp_data['frp'].max()\n",
    "\n",
    "    for _, row in sp_data.iterrows():\n",
    "        x = int(row[f'{sp}_bin'])  \n",
    "        y = int(row['aspen_bin'])  \n",
    "        size = row['tile_size'] * 0.9\n",
    "        \n",
    "        norm = mcolors.Normalize(vmin=vmin, vmax=vmax)\n",
    "        color = plt.cm.coolwarm(norm(row['frp']))\n",
    "        \n",
    "        ax.add_patch(\n",
    "            plt.Rectangle(\n",
    "                (x - size / 2, y - size / 2), size, size, color=color, ec='black', lw=0.5\n",
    "            )\n",
    "        )\n",
    "\n",
    "    # Formatting the axes\n",
    "    # ax.set_title(sp, size=10)\n",
    "    ax.text(\n",
    "        0.95, 0.95, sp,  # x, y position in axis coordinates (top-right corner)\n",
    "        transform=ax.transAxes,  # Use axis coordinates (0,0 is bottom-left, 1,1 is top-right)\n",
    "        ha='right', va='top',  # Align the text to the top-right\n",
    "        fontsize=10, color='black', bbox=dict(facecolor='white', edgecolor='none', boxstyle='round,pad=0.2')\n",
    "    )\n",
    "    ax.set_xlabel(f'')\n",
    "    ax.set_ylabel('Aspen Cover (%)', size=9)\n",
    "    ax.set_xticks(range(len(bins) - 1))\n",
    "    ax.set_yticks(range(len(bins) - 1))\n",
    "    ax.set_xticklabels([f'{int(b)}%' for b in bins[:-1]], size=8)\n",
    "    ax.set_yticklabels([f'{int(b)}%' for b in bins[:-1]], size=8)\n",
    "    ax.set_xlim(-0.5, len(bins) - 1.5)\n",
    "    ax.set_ylim(-0.5, len(bins) - 1.5)\n",
    "\n",
    "sm = plt.cm.ScalarMappable(cmap=plt.cm.coolwarm, norm=norm)\n",
    "cbar = fig.colorbar(sm, ax=axes, orientation='vertical', fraction=0.05, pad=0.02)\n",
    "cbar.set_label('Maximum FRP')\n",
    "# cbar.set_label('Cumulative FRP', fontsize=10)\n",
    "cbar.ax.tick_params(labelsize=8)\n",
    "\n",
    "# Remove unused axes\n",
    "for j in range(i + 1, len(axes)):\n",
    "    fig.delaxes(axes[j])\n",
    "\n",
    "del df\n",
    "\n",
    "out_plot = os.path.join(projdir, 'figures/FigureX_CoOccurring_Heatmap_FRPmax_Scaled_gp.png')\n",
    "plt.savefig(out_plot, dpi=300, bbox_inches='tight')\n",
    "\n",
    "plt.show()"
   ]
  },
  {
   "cell_type": "code",
   "execution_count": null,
   "id": "23c914f0-a9a7-4ed4-bef1-efd05f1d5c8f",
   "metadata": {},
   "outputs": [],
   "source": [
    "gc.collect()"
   ]
  },
  {
   "cell_type": "code",
   "execution_count": null,
   "id": "71d30530-b632-466f-8739-57ee8eff151c",
   "metadata": {},
   "outputs": [],
   "source": []
  },
  {
   "cell_type": "code",
   "execution_count": null,
   "id": "175370d8-b5a1-4306-815b-6b99e410da21",
   "metadata": {},
   "outputs": [],
   "source": []
  }
 ],
 "metadata": {
  "kernelspec": {
   "display_name": "aspen-fire",
   "language": "python",
   "name": "aspen-fire"
  },
  "language_info": {
   "codemirror_mode": {
    "name": "ipython",
    "version": 3
   },
   "file_extension": ".py",
   "mimetype": "text/x-python",
   "name": "python",
   "nbconvert_exporter": "python",
   "pygments_lexer": "ipython3",
   "version": "3.10.12"
  }
 },
 "nbformat": 4,
 "nbformat_minor": 5
}
