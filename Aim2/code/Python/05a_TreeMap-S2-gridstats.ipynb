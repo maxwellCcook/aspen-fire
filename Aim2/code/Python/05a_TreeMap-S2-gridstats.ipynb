{
 "cells": [
  {
   "cell_type": "code",
   "execution_count": 1,
   "id": "ba44202a-9fdb-4249-9cb3-039c1d0744f5",
   "metadata": {},
   "outputs": [
    {
     "name": "stdout",
     "output_type": "stream",
     "text": [
      "Ready to go !\n"
     ]
    }
   ],
   "source": [
    "\"\"\"\n",
    "Land cover assessments for MODIS and VIIRS AFDs for the Southern Rockies\n",
    "\n",
    "Data sources:\n",
    "    - United States Forest Service (USFS) TreeMap c.a. 2016\n",
    "    - Sentinel-based aspen cover (Cook et al.)\n",
    "    - LANDFIRE Existing Vegetation Type (EVT) proportional cover\n",
    "    - LANDFIRE Canopy Bulk Density (CBD) mean\n",
    "    - LANDIFRE Canopy Base Height (CBH) mean\n",
    "    - LANDFIRE Canopy Cover (CC) percentage\n",
    "    \n",
    "Author: maxwell.cook@colorado.edu\n",
    "\"\"\"\n",
    "\n",
    "import os, sys, gc, time\n",
    "import geopandas as gpd\n",
    "import rasterio as rio\n",
    "import rioxarray as rxr\n",
    "import seaborn as sns\n",
    "import matplotlib.pyplot as plt\n",
    "\n",
    "# Custom functions\n",
    "sys.path.append(os.path.join(os.getcwd(),'code/'))\n",
    "from __functions import *\n",
    "\n",
    "proj = 'EPSG:5070'\n",
    "\n",
    "maindir = '/Users/max/Library/CloudStorage/OneDrive-Personal/mcook/'\n",
    "projdir = os.path.join(maindir, 'aspen-fire/Aim2/data/')\n",
    "\n",
    "print(\"Ready to go !\")"
   ]
  },
  {
   "cell_type": "code",
   "execution_count": null,
   "id": "483fd294-58ce-4132-8696-5863b67d13ef",
   "metadata": {},
   "outputs": [],
   "source": []
  },
  {
   "cell_type": "code",
   "execution_count": null,
   "id": "4109cee8-c8b5-4827-966d-1e10bec4a7e6",
   "metadata": {},
   "outputs": [],
   "source": []
  },
  {
   "cell_type": "code",
   "execution_count": 2,
   "id": "6d0733bb-365e-4f8a-8a8b-308cec8eb580",
   "metadata": {},
   "outputs": [],
   "source": [
    "# Load the VIIRS active fire detections gridded data"
   ]
  },
  {
   "cell_type": "code",
   "execution_count": 28,
   "id": "6c49dc55-bb2a-4669-a6c7-71a29a08ff19",
   "metadata": {},
   "outputs": [
    {
     "data": {
      "text/plain": [
       "Index(['grid_index', 'grid_area', 'afd_count', 'frp_csum', 'frp_max',\n",
       "       'frp_min', 'day_max_frp', 'dt_max_frp', 'first_obs_date',\n",
       "       'last_obs_date', 'frp_max_day', 'frp_max_night', 'Fire_ID', 'Fire_Name',\n",
       "       'geometry'],\n",
       "      dtype='object')"
      ]
     },
     "execution_count": 28,
     "metadata": {},
     "output_type": "execute_result"
    }
   ],
   "source": [
    "fp = os.path.join(projdir,f'spatial/mod/VIIRS/viirs_snpp_jpss1_afd_latlon_aspenfires_pixar_gridstats.gpkg')\n",
    "grid = gpd.read_file(fp)\n",
    "grid.columns"
   ]
  },
  {
   "cell_type": "code",
   "execution_count": 29,
   "id": "b7e2897a-5019-44ce-a26a-cf7cf46bccd8",
   "metadata": {},
   "outputs": [
    {
     "name": "stdout",
     "output_type": "stream",
     "text": [
      "There are [54] fire events in the Southern Rockies (2018-2023)\n",
      "\tWith 49343 gridcells.\n"
     ]
    }
   ],
   "source": [
    "print(f\"There are [{len(grid['Fire_ID'].unique())}] fire events in the Southern Rockies (2018-2023)\")\n",
    "print(f\"\\tWith {len(grid)} gridcells.\")"
   ]
  },
  {
   "cell_type": "code",
   "execution_count": 30,
   "id": "81dd3bf0-8fe9-495e-8b04-7d4498e171a1",
   "metadata": {},
   "outputs": [],
   "source": [
    "bounds = grid.total_bounds # for cropping the raster data"
   ]
  },
  {
   "cell_type": "code",
   "execution_count": null,
   "id": "ca3946b2-91d8-4b86-ae67-daa4faeb0209",
   "metadata": {},
   "outputs": [],
   "source": []
  },
  {
   "cell_type": "code",
   "execution_count": null,
   "id": "c8386c65-a459-4828-affc-762e09a98797",
   "metadata": {},
   "outputs": [],
   "source": []
  },
  {
   "cell_type": "markdown",
   "id": "997a84d4-4abf-4149-92ad-7080a83097df",
   "metadata": {},
   "source": [
    "# USFS TreeMap (2016) Summaries\n",
    "\n",
    "From Earth Engine, the forest type percent cover for each gridcell was calculated. From this, we also gathered the \"all forest\" percent. Then, within a mask for each species, the TreeMap metrics (e.g., BALIVE) were summarized. Finally, within each species mask the Sentinel-2 LAI and MNDWI averages were gathered."
   ]
  },
  {
   "cell_type": "code",
   "execution_count": 2,
   "id": "0da5cf35-c5f5-4c03-b7c2-198dd1d4eea1",
   "metadata": {},
   "outputs": [
    {
     "data": {
      "text/html": [
       "<div>\n",
       "<style scoped>\n",
       "    .dataframe tbody tr th:only-of-type {\n",
       "        vertical-align: middle;\n",
       "    }\n",
       "\n",
       "    .dataframe tbody tr th {\n",
       "        vertical-align: top;\n",
       "    }\n",
       "\n",
       "    .dataframe thead th {\n",
       "        text-align: right;\n",
       "    }\n",
       "</style>\n",
       "<table border=\"1\" class=\"dataframe\">\n",
       "  <thead>\n",
       "    <tr style=\"text-align: right;\">\n",
       "      <th></th>\n",
       "      <th>grid_index</th>\n",
       "      <th>species_histogram</th>\n",
       "      <th>total_pixels</th>\n",
       "    </tr>\n",
       "  </thead>\n",
       "  <tbody>\n",
       "    <tr>\n",
       "      <th>0</th>\n",
       "      <td>919906</td>\n",
       "      <td>182:3.0941176470588236, 185:7.0, 221:41.768627...</td>\n",
       "      <td>196.949020</td>\n",
       "    </tr>\n",
       "    <tr>\n",
       "      <th>1</th>\n",
       "      <td>919907</td>\n",
       "      <td>182:9.227450980392156, 221:75.02745098039216, ...</td>\n",
       "      <td>197.176471</td>\n",
       "    </tr>\n",
       "    <tr>\n",
       "      <th>2</th>\n",
       "      <td>919908</td>\n",
       "      <td>182:15.611764705882354, 185:10.996078431372549...</td>\n",
       "      <td>196.960784</td>\n",
       "    </tr>\n",
       "    <tr>\n",
       "      <th>3</th>\n",
       "      <td>922166</td>\n",
       "      <td>182:8.36078431372549, 184:16.83137254901961, 1...</td>\n",
       "      <td>197.176471</td>\n",
       "    </tr>\n",
       "    <tr>\n",
       "      <th>4</th>\n",
       "      <td>922171</td>\n",
       "      <td>182:9.768627450980393, 184:2.0, 185:4.05098039...</td>\n",
       "      <td>197.466667</td>\n",
       "    </tr>\n",
       "  </tbody>\n",
       "</table>\n",
       "</div>"
      ],
      "text/plain": [
       "   grid_index                                  species_histogram  total_pixels\n",
       "0      919906  182:3.0941176470588236, 185:7.0, 221:41.768627...    196.949020\n",
       "1      919907  182:9.227450980392156, 221:75.02745098039216, ...    197.176471\n",
       "2      919908  182:15.611764705882354, 185:10.996078431372549...    196.960784\n",
       "3      922166  182:8.36078431372549, 184:16.83137254901961, 1...    197.176471\n",
       "4      922171  182:9.768627450980393, 184:2.0, 185:4.05098039...    197.466667"
      ]
     },
     "execution_count": 2,
     "metadata": {},
     "output_type": "execute_result"
    }
   ],
   "source": [
    "# Load the summary table (from GEE reductions)\n",
    "fp = os.path.join(projdir,'earth-engine/exports/treemap/gridstats_fortypcd.csv')\n",
    "fortypcd = pd.read_csv(fp)\n",
    "fortypcd.drop(columns=['system:index','.geo'], inplace=True) # drop the GEE id and .geo columns\n",
    "fortypcd.head()"
   ]
  },
  {
   "cell_type": "code",
   "execution_count": 3,
   "id": "3c5e35db-d66a-4852-8d8a-139f32cdcc1d",
   "metadata": {},
   "outputs": [
    {
     "name": "stdout",
     "output_type": "stream",
     "text": [
      "0    182:3.0941176470588236, 185:7.0, 221:41.768627...\n",
      "1    182:9.227450980392156, 221:75.02745098039216, ...\n",
      "2    182:15.611764705882354, 185:10.996078431372549...\n",
      "3    182:8.36078431372549, 184:16.83137254901961, 1...\n",
      "4    182:9.768627450980393, 184:2.0, 185:4.05098039...\n",
      "Name: species_histogram, dtype: object\n",
      "species_histogram\n",
      "<class 'str'>      49070\n",
      "<class 'float'>      273\n",
      "Name: count, dtype: int64\n"
     ]
    }
   ],
   "source": [
    "print(fortypcd['species_histogram'].head())\n",
    "print(fortypcd['species_histogram'].map(type).value_counts())"
   ]
  },
  {
   "cell_type": "code",
   "execution_count": 4,
   "id": "163526ed-82a8-4bcc-b320-32ee151af0e1",
   "metadata": {},
   "outputs": [
    {
     "data": {
      "text/html": [
       "<div>\n",
       "<style scoped>\n",
       "    .dataframe tbody tr th:only-of-type {\n",
       "        vertical-align: middle;\n",
       "    }\n",
       "\n",
       "    .dataframe tbody tr th {\n",
       "        vertical-align: top;\n",
       "    }\n",
       "\n",
       "    .dataframe thead th {\n",
       "        text-align: right;\n",
       "    }\n",
       "</style>\n",
       "<table border=\"1\" class=\"dataframe\">\n",
       "  <thead>\n",
       "    <tr style=\"text-align: right;\">\n",
       "      <th></th>\n",
       "      <th>grid_index</th>\n",
       "      <th>species_histogram</th>\n",
       "      <th>total_pixels</th>\n",
       "    </tr>\n",
       "  </thead>\n",
       "  <tbody>\n",
       "    <tr>\n",
       "      <th>0</th>\n",
       "      <td>919906</td>\n",
       "      <td>{182: 3.0941176470588236, 185: 7.0, 221: 41.76...</td>\n",
       "      <td>196.949020</td>\n",
       "    </tr>\n",
       "    <tr>\n",
       "      <th>1</th>\n",
       "      <td>919907</td>\n",
       "      <td>{182: 9.227450980392156, 221: 75.0274509803921...</td>\n",
       "      <td>197.176471</td>\n",
       "    </tr>\n",
       "    <tr>\n",
       "      <th>2</th>\n",
       "      <td>919908</td>\n",
       "      <td>{182: 15.611764705882354, 185: 10.996078431372...</td>\n",
       "      <td>196.960784</td>\n",
       "    </tr>\n",
       "    <tr>\n",
       "      <th>3</th>\n",
       "      <td>922166</td>\n",
       "      <td>{182: 8.36078431372549, 184: 16.83137254901961...</td>\n",
       "      <td>197.176471</td>\n",
       "    </tr>\n",
       "    <tr>\n",
       "      <th>4</th>\n",
       "      <td>922171</td>\n",
       "      <td>{182: 9.768627450980393, 184: 2.0, 185: 4.0509...</td>\n",
       "      <td>197.466667</td>\n",
       "    </tr>\n",
       "  </tbody>\n",
       "</table>\n",
       "</div>"
      ],
      "text/plain": [
       "   grid_index                                  species_histogram  total_pixels\n",
       "0      919906  {182: 3.0941176470588236, 185: 7.0, 221: 41.76...    196.949020\n",
       "1      919907  {182: 9.227450980392156, 221: 75.0274509803921...    197.176471\n",
       "2      919908  {182: 15.611764705882354, 185: 10.996078431372...    196.960784\n",
       "3      922166  {182: 8.36078431372549, 184: 16.83137254901961...    197.176471\n",
       "4      922171  {182: 9.768627450980393, 184: 2.0, 185: 4.0509...    197.466667"
      ]
     },
     "execution_count": 4,
     "metadata": {},
     "output_type": "execute_result"
    }
   ],
   "source": [
    "# unpack histogram dictionary into columns\n",
    "def parse_histogram(hist_str):\n",
    "    # Convert float or NaN to string, then parse\n",
    "    if isinstance(hist_str, float) or pd.isna(hist_str):\n",
    "        hist_str = str(int(hist_str)) if not pd.isna(hist_str) else \"\"\n",
    "    kv_pairs = hist_str.split(', ')  # Split the key-value pairs\n",
    "    # Convert key-value pairs to a dictionary\n",
    "    return {int(kv.split(':')[0]): float(kv.split(':')[1]) for kv in kv_pairs if ':' in kv}\n",
    "\n",
    "# parse the dictionary\n",
    "fortypcd['species_histogram'] = fortypcd['species_histogram'].apply(parse_histogram)\n",
    "fortypcd.head()"
   ]
  },
  {
   "cell_type": "code",
   "execution_count": 6,
   "id": "fa17ed25-a908-4aa8-88e7-8b00350b508e",
   "metadata": {},
   "outputs": [
    {
     "name": "stdout",
     "output_type": "stream",
     "text": [
      "Adjusted DataFrame:\n"
     ]
    },
    {
     "data": {
      "text/html": [
       "<div>\n",
       "<style scoped>\n",
       "    .dataframe tbody tr th:only-of-type {\n",
       "        vertical-align: middle;\n",
       "    }\n",
       "\n",
       "    .dataframe tbody tr th {\n",
       "        vertical-align: top;\n",
       "    }\n",
       "\n",
       "    .dataframe thead th {\n",
       "        text-align: right;\n",
       "    }\n",
       "</style>\n",
       "<table border=\"1\" class=\"dataframe\">\n",
       "  <thead>\n",
       "    <tr style=\"text-align: right;\">\n",
       "      <th></th>\n",
       "      <th>grid_index</th>\n",
       "      <th>total_pixels</th>\n",
       "      <th>182</th>\n",
       "      <th>185</th>\n",
       "      <th>221</th>\n",
       "      <th>225</th>\n",
       "      <th>369</th>\n",
       "      <th>371</th>\n",
       "      <th>901</th>\n",
       "      <th>971</th>\n",
       "      <th>...</th>\n",
       "      <th>367</th>\n",
       "      <th>801</th>\n",
       "      <th>995</th>\n",
       "      <th>171</th>\n",
       "      <th>923</th>\n",
       "      <th>263</th>\n",
       "      <th>805</th>\n",
       "      <th>976</th>\n",
       "      <th>507</th>\n",
       "      <th>924</th>\n",
       "    </tr>\n",
       "  </thead>\n",
       "  <tbody>\n",
       "    <tr>\n",
       "      <th>0</th>\n",
       "      <td>919906</td>\n",
       "      <td>196.949020</td>\n",
       "      <td>3.094118</td>\n",
       "      <td>7.000000</td>\n",
       "      <td>41.768627</td>\n",
       "      <td>36.423529</td>\n",
       "      <td>2.674510</td>\n",
       "      <td>11.607843</td>\n",
       "      <td>0.494118</td>\n",
       "      <td>4.000000</td>\n",
       "      <td>...</td>\n",
       "      <td>NaN</td>\n",
       "      <td>NaN</td>\n",
       "      <td>NaN</td>\n",
       "      <td>NaN</td>\n",
       "      <td>NaN</td>\n",
       "      <td>NaN</td>\n",
       "      <td>NaN</td>\n",
       "      <td>NaN</td>\n",
       "      <td>NaN</td>\n",
       "      <td>NaN</td>\n",
       "    </tr>\n",
       "    <tr>\n",
       "      <th>1</th>\n",
       "      <td>919907</td>\n",
       "      <td>197.176471</td>\n",
       "      <td>9.227451</td>\n",
       "      <td>NaN</td>\n",
       "      <td>75.027451</td>\n",
       "      <td>32.870588</td>\n",
       "      <td>12.109804</td>\n",
       "      <td>6.827451</td>\n",
       "      <td>NaN</td>\n",
       "      <td>1.000000</td>\n",
       "      <td>...</td>\n",
       "      <td>NaN</td>\n",
       "      <td>NaN</td>\n",
       "      <td>NaN</td>\n",
       "      <td>NaN</td>\n",
       "      <td>NaN</td>\n",
       "      <td>NaN</td>\n",
       "      <td>NaN</td>\n",
       "      <td>NaN</td>\n",
       "      <td>NaN</td>\n",
       "      <td>NaN</td>\n",
       "    </tr>\n",
       "    <tr>\n",
       "      <th>2</th>\n",
       "      <td>919908</td>\n",
       "      <td>196.960784</td>\n",
       "      <td>15.611765</td>\n",
       "      <td>10.996078</td>\n",
       "      <td>37.329412</td>\n",
       "      <td>15.466667</td>\n",
       "      <td>12.000000</td>\n",
       "      <td>2.000000</td>\n",
       "      <td>NaN</td>\n",
       "      <td>NaN</td>\n",
       "      <td>...</td>\n",
       "      <td>NaN</td>\n",
       "      <td>NaN</td>\n",
       "      <td>NaN</td>\n",
       "      <td>NaN</td>\n",
       "      <td>NaN</td>\n",
       "      <td>NaN</td>\n",
       "      <td>NaN</td>\n",
       "      <td>NaN</td>\n",
       "      <td>NaN</td>\n",
       "      <td>NaN</td>\n",
       "    </tr>\n",
       "    <tr>\n",
       "      <th>3</th>\n",
       "      <td>922166</td>\n",
       "      <td>197.176471</td>\n",
       "      <td>8.360784</td>\n",
       "      <td>46.721569</td>\n",
       "      <td>44.247059</td>\n",
       "      <td>9.231373</td>\n",
       "      <td>20.058824</td>\n",
       "      <td>NaN</td>\n",
       "      <td>NaN</td>\n",
       "      <td>12.411765</td>\n",
       "      <td>...</td>\n",
       "      <td>NaN</td>\n",
       "      <td>NaN</td>\n",
       "      <td>NaN</td>\n",
       "      <td>NaN</td>\n",
       "      <td>NaN</td>\n",
       "      <td>NaN</td>\n",
       "      <td>NaN</td>\n",
       "      <td>NaN</td>\n",
       "      <td>NaN</td>\n",
       "      <td>NaN</td>\n",
       "    </tr>\n",
       "    <tr>\n",
       "      <th>4</th>\n",
       "      <td>922171</td>\n",
       "      <td>197.466667</td>\n",
       "      <td>9.768627</td>\n",
       "      <td>4.050980</td>\n",
       "      <td>72.717647</td>\n",
       "      <td>34.400000</td>\n",
       "      <td>8.690196</td>\n",
       "      <td>9.603922</td>\n",
       "      <td>1.000000</td>\n",
       "      <td>1.996078</td>\n",
       "      <td>...</td>\n",
       "      <td>NaN</td>\n",
       "      <td>NaN</td>\n",
       "      <td>NaN</td>\n",
       "      <td>NaN</td>\n",
       "      <td>NaN</td>\n",
       "      <td>NaN</td>\n",
       "      <td>NaN</td>\n",
       "      <td>NaN</td>\n",
       "      <td>NaN</td>\n",
       "      <td>NaN</td>\n",
       "    </tr>\n",
       "  </tbody>\n",
       "</table>\n",
       "<p>5 rows × 59 columns</p>\n",
       "</div>"
      ],
      "text/plain": [
       "   grid_index  total_pixels        182        185        221        225  \\\n",
       "0      919906    196.949020   3.094118   7.000000  41.768627  36.423529   \n",
       "1      919907    197.176471   9.227451        NaN  75.027451  32.870588   \n",
       "2      919908    196.960784  15.611765  10.996078  37.329412  15.466667   \n",
       "3      922166    197.176471   8.360784  46.721569  44.247059   9.231373   \n",
       "4      922171    197.466667   9.768627   4.050980  72.717647  34.400000   \n",
       "\n",
       "         369        371       901        971  ...  367  801  995  171  923  \\\n",
       "0   2.674510  11.607843  0.494118   4.000000  ...  NaN  NaN  NaN  NaN  NaN   \n",
       "1  12.109804   6.827451       NaN   1.000000  ...  NaN  NaN  NaN  NaN  NaN   \n",
       "2  12.000000   2.000000       NaN        NaN  ...  NaN  NaN  NaN  NaN  NaN   \n",
       "3  20.058824        NaN       NaN  12.411765  ...  NaN  NaN  NaN  NaN  NaN   \n",
       "4   8.690196   9.603922  1.000000   1.996078  ...  NaN  NaN  NaN  NaN  NaN   \n",
       "\n",
       "   263  805  976  507  924  \n",
       "0  NaN  NaN  NaN  NaN  NaN  \n",
       "1  NaN  NaN  NaN  NaN  NaN  \n",
       "2  NaN  NaN  NaN  NaN  NaN  \n",
       "3  NaN  NaN  NaN  NaN  NaN  \n",
       "4  NaN  NaN  NaN  NaN  NaN  \n",
       "\n",
       "[5 rows x 59 columns]"
      ]
     },
     "execution_count": 6,
     "metadata": {},
     "output_type": "execute_result"
    }
   ],
   "source": [
    "hist_df = fortypcd['species_histogram'].apply(pd.Series)\n",
    "fortypcd_ = pd.concat([fortypcd.drop(columns=['species_histogram']), hist_df], axis=1).reset_index(drop=True)\n",
    "print(\"Adjusted DataFrame:\")\n",
    "fortypcd_.head()"
   ]
  },
  {
   "cell_type": "code",
   "execution_count": 7,
   "id": "ac2424c8-59bb-4954-8d4b-0e86a5b1ed5a",
   "metadata": {},
   "outputs": [],
   "source": [
    "# Pivot the tree species table and tidy"
   ]
  },
  {
   "cell_type": "code",
   "execution_count": 9,
   "id": "893c2a20-bfc4-41a8-bd56-5051cfa046c7",
   "metadata": {},
   "outputs": [
    {
     "name": "stdout",
     "output_type": "stream",
     "text": [
      "Dropped NA values.\n",
      "Index(['grid_index', 'total_pixels', 'FORTYPCD', 'count'], dtype='object')\n"
     ]
    },
    {
     "data": {
      "text/html": [
       "<div>\n",
       "<style scoped>\n",
       "    .dataframe tbody tr th:only-of-type {\n",
       "        vertical-align: middle;\n",
       "    }\n",
       "\n",
       "    .dataframe tbody tr th {\n",
       "        vertical-align: top;\n",
       "    }\n",
       "\n",
       "    .dataframe thead th {\n",
       "        text-align: right;\n",
       "    }\n",
       "</style>\n",
       "<table border=\"1\" class=\"dataframe\">\n",
       "  <thead>\n",
       "    <tr style=\"text-align: right;\">\n",
       "      <th></th>\n",
       "      <th>grid_index</th>\n",
       "      <th>total_pixels</th>\n",
       "      <th>FORTYPCD</th>\n",
       "      <th>count</th>\n",
       "    </tr>\n",
       "  </thead>\n",
       "  <tbody>\n",
       "    <tr>\n",
       "      <th>479295</th>\n",
       "      <td>184440</td>\n",
       "      <td>199.756863</td>\n",
       "      <td>184</td>\n",
       "      <td>15.968627</td>\n",
       "    </tr>\n",
       "    <tr>\n",
       "      <th>84551</th>\n",
       "      <td>184440</td>\n",
       "      <td>199.756863</td>\n",
       "      <td>185</td>\n",
       "      <td>123.662745</td>\n",
       "    </tr>\n",
       "    <tr>\n",
       "      <th>84552</th>\n",
       "      <td>184441</td>\n",
       "      <td>199.482353</td>\n",
       "      <td>185</td>\n",
       "      <td>114.670588</td>\n",
       "    </tr>\n",
       "  </tbody>\n",
       "</table>\n",
       "</div>"
      ],
      "text/plain": [
       "        grid_index  total_pixels  FORTYPCD       count\n",
       "479295      184440    199.756863       184   15.968627\n",
       "84551       184440    199.756863       185  123.662745\n",
       "84552       184441    199.482353       185  114.670588"
      ]
     },
     "execution_count": 9,
     "metadata": {},
     "output_type": "execute_result"
    }
   ],
   "source": [
    "# Pivot longer and join to get species name\n",
    "fortypcd_l = fortypcd_.melt(id_vars=['grid_index','total_pixels'], var_name='FORTYPCD', value_name='count')\n",
    "fortypcd_l['FORTYPCD'] = fortypcd_l['FORTYPCD'].astype(int)\n",
    "\n",
    "# Drop 'NaN' counts (species not present in the AFD)\n",
    "fortypcd_l.dropna(subset=['count'], inplace=True)\n",
    "fortypcd_l.sort_values(by=['grid_index'], inplace=True)\n",
    "print(\"Dropped NA values.\")\n",
    "print(fortypcd_l.columns)\n",
    "fortypcd_l.head(3)"
   ]
  },
  {
   "cell_type": "code",
   "execution_count": 12,
   "id": "b91921b9-7f43-4887-8a2a-eea5fd5977ac",
   "metadata": {},
   "outputs": [
    {
     "name": "stdout",
     "output_type": "stream",
     "text": [
      "Index(['FORTYPCD', 'SpeciesName'], dtype='object')\n"
     ]
    },
    {
     "data": {
      "text/html": [
       "<div>\n",
       "<style scoped>\n",
       "    .dataframe tbody tr th:only-of-type {\n",
       "        vertical-align: middle;\n",
       "    }\n",
       "\n",
       "    .dataframe tbody tr th {\n",
       "        vertical-align: top;\n",
       "    }\n",
       "\n",
       "    .dataframe thead th {\n",
       "        text-align: right;\n",
       "    }\n",
       "</style>\n",
       "<table border=\"1\" class=\"dataframe\">\n",
       "  <thead>\n",
       "    <tr style=\"text-align: right;\">\n",
       "      <th></th>\n",
       "      <th>grid_index</th>\n",
       "      <th>total_pixels</th>\n",
       "      <th>FORTYPCD</th>\n",
       "      <th>count</th>\n",
       "      <th>SpeciesName</th>\n",
       "    </tr>\n",
       "  </thead>\n",
       "  <tbody>\n",
       "    <tr>\n",
       "      <th>0</th>\n",
       "      <td>184440</td>\n",
       "      <td>199.756863</td>\n",
       "      <td>184</td>\n",
       "      <td>15.968627</td>\n",
       "      <td>Juniper woodland</td>\n",
       "    </tr>\n",
       "    <tr>\n",
       "      <th>1</th>\n",
       "      <td>184440</td>\n",
       "      <td>199.756863</td>\n",
       "      <td>185</td>\n",
       "      <td>123.662745</td>\n",
       "      <td>Pinyon / juniper woodland</td>\n",
       "    </tr>\n",
       "    <tr>\n",
       "      <th>2</th>\n",
       "      <td>184441</td>\n",
       "      <td>199.482353</td>\n",
       "      <td>185</td>\n",
       "      <td>114.670588</td>\n",
       "      <td>Pinyon / juniper woodland</td>\n",
       "    </tr>\n",
       "  </tbody>\n",
       "</table>\n",
       "</div>"
      ],
      "text/plain": [
       "   grid_index  total_pixels  FORTYPCD       count                SpeciesName\n",
       "0      184440    199.756863       184   15.968627           Juniper woodland\n",
       "1      184440    199.756863       185  123.662745  Pinyon / juniper woodland\n",
       "2      184441    199.482353       185  114.670588  Pinyon / juniper woodland"
      ]
     },
     "execution_count": 12,
     "metadata": {},
     "output_type": "execute_result"
    }
   ],
   "source": [
    "# load the species lookup table\n",
    "fp = os.path.join(projdir,'tabular/mod/treemap_fortypcd_species_mapping.csv')\n",
    "species_df = pd.read_csv(fp)\n",
    "species_df = species_df[['FORTYPCD','SpeciesName']]\n",
    "species_df = species_df[species_df['FORTYPCD'].isin(fortypcd_l['FORTYPCD'].unique())]\n",
    "print(species_df.columns)\n",
    "\n",
    "# merge with grid summary to get forest species name\n",
    "fortypcd_l_ = fortypcd_l.merge(species_df, on='FORTYPCD', how='left')\n",
    "fortypcd_l_.head(3)"
   ]
  },
  {
   "cell_type": "code",
   "execution_count": 13,
   "id": "ea35d728-1c2b-403a-8306-3a03a9a9e2b1",
   "metadata": {},
   "outputs": [
    {
     "data": {
      "text/plain": [
       "array(['Juniper woodland', 'Pinyon / juniper woodland', 'Cottonwood',\n",
       "       'Mesquite woodland', 'Other exotic hardwoods',\n",
       "       'Deciduous oak woodland', 'Rocky Mountain juniper',\n",
       "       'Ponderosa pine', 'Western juniper',\n",
       "       'Sugarberry / hackberry / elm / green ash', 'Other hardwoods',\n",
       "       'Nonstocked', 'Douglas-fir', 'Cottonwood / willow', 'Bur oak',\n",
       "       'Western redcedar', 'Grand fir', 'Aspen', 'White fir',\n",
       "       'Cercocarpus (mountain brush) woodland', 'Lodgepole pine',\n",
       "       'Engelmann spruce', 'Western larch',\n",
       "       'Intermountain maple woodland', 'Engelmann spruce / subalpine fir',\n",
       "       'Subalpine fir', 'Blue spruce', 'Limber pine', 'Balsam fir',\n",
       "       'Paper birch', 'Foxtail pine / bristlecone pine',\n",
       "       'Miscellaneous western softwoods', 'Noble fir',\n",
       "       'Sugar maple / beech / yellow birch', 'Hard maple / basswood',\n",
       "       'California mixed conifer', 'Jeffrey pine',\n",
       "       'Evergreen oak woodland', 'Eastern redcedar / hardwood',\n",
       "       'Elm / ash / black locust', 'Willow', 'Southwestern white pine',\n",
       "       'Red alder', 'California black oak', 'White spruce', 'Sugar pine',\n",
       "       'Mountain hemlock', 'Canyon live oak',\n",
       "       'California white oak (valley oak)', 'Pin cherry',\n",
       "       'Whitebark pine', 'Eastern redcedar', 'Oregon white oak',\n",
       "       'Red maple / upland', 'Blue oak',\n",
       "       'Miscellaneous woodland hardwoods', 'Sassafras / persimmon'],\n",
       "      dtype=object)"
      ]
     },
     "execution_count": 13,
     "metadata": {},
     "output_type": "execute_result"
    }
   ],
   "source": [
    "# print a unqiue list of tree species\n",
    "fortypcd_l_['SpeciesName'].unique()"
   ]
  },
  {
   "cell_type": "code",
   "execution_count": 18,
   "id": "c88c2cb3-a328-4034-b47e-766603f52526",
   "metadata": {},
   "outputs": [
    {
     "name": "stdout",
     "output_type": "stream",
     "text": [
      "Index(['grid_index', 'FORTYPCD', 'SpeciesName', 'count', 'forest_pix',\n",
      "       'total_pixels', 'spp_pct', 'forest_pct'],\n",
      "      dtype='object')\n"
     ]
    },
    {
     "data": {
      "text/html": [
       "<div>\n",
       "<style scoped>\n",
       "    .dataframe tbody tr th:only-of-type {\n",
       "        vertical-align: middle;\n",
       "    }\n",
       "\n",
       "    .dataframe tbody tr th {\n",
       "        vertical-align: top;\n",
       "    }\n",
       "\n",
       "    .dataframe thead th {\n",
       "        text-align: right;\n",
       "    }\n",
       "</style>\n",
       "<table border=\"1\" class=\"dataframe\">\n",
       "  <thead>\n",
       "    <tr style=\"text-align: right;\">\n",
       "      <th></th>\n",
       "      <th>grid_index</th>\n",
       "      <th>FORTYPCD</th>\n",
       "      <th>SpeciesName</th>\n",
       "      <th>count</th>\n",
       "      <th>forest_pix</th>\n",
       "      <th>total_pixels</th>\n",
       "      <th>spp_pct</th>\n",
       "      <th>forest_pct</th>\n",
       "    </tr>\n",
       "  </thead>\n",
       "  <tbody>\n",
       "    <tr>\n",
       "      <th>0</th>\n",
       "      <td>184440</td>\n",
       "      <td>184</td>\n",
       "      <td>Juniper woodland</td>\n",
       "      <td>15.968627</td>\n",
       "      <td>139.631373</td>\n",
       "      <td>199.756863</td>\n",
       "      <td>11.436275</td>\n",
       "      <td>69.900664</td>\n",
       "    </tr>\n",
       "    <tr>\n",
       "      <th>1</th>\n",
       "      <td>184440</td>\n",
       "      <td>185</td>\n",
       "      <td>Pinyon / juniper woodland</td>\n",
       "      <td>123.662745</td>\n",
       "      <td>139.631373</td>\n",
       "      <td>199.756863</td>\n",
       "      <td>88.563725</td>\n",
       "      <td>69.900664</td>\n",
       "    </tr>\n",
       "    <tr>\n",
       "      <th>2</th>\n",
       "      <td>184441</td>\n",
       "      <td>185</td>\n",
       "      <td>Pinyon / juniper woodland</td>\n",
       "      <td>114.670588</td>\n",
       "      <td>118.909804</td>\n",
       "      <td>199.482353</td>\n",
       "      <td>96.434932</td>\n",
       "      <td>59.609185</td>\n",
       "    </tr>\n",
       "  </tbody>\n",
       "</table>\n",
       "</div>"
      ],
      "text/plain": [
       "   grid_index  FORTYPCD                SpeciesName       count  forest_pix  \\\n",
       "0      184440       184           Juniper woodland   15.968627  139.631373   \n",
       "1      184440       185  Pinyon / juniper woodland  123.662745  139.631373   \n",
       "2      184441       185  Pinyon / juniper woodland  114.670588  118.909804   \n",
       "\n",
       "   total_pixels    spp_pct  forest_pct  \n",
       "0    199.756863  11.436275   69.900664  \n",
       "1    199.756863  88.563725   69.900664  \n",
       "2    199.482353  96.434932   59.609185  "
      ]
     },
     "execution_count": 18,
     "metadata": {},
     "output_type": "execute_result"
    }
   ],
   "source": [
    "# calculate the total forest count and percent cover for each species\n",
    "forest_count = fortypcd_l_.groupby('grid_index')['count'].sum().reset_index()\n",
    "forest_count = forest_count.rename(columns={'count': 'forest_pix'})\n",
    "\n",
    "# Join back to the data frame, calculate percent cover\n",
    "fortypcd_l_pct = fortypcd_l_.merge(forest_count, on='grid_index', how='left')\n",
    "\n",
    "fortypcd_l_pct['spp_pct'] = (fortypcd_l_pct['count'] / fortypcd_l_pct['forest_pix']) * 100\n",
    "fortypcd_l_pct['forest_pct'] = (fortypcd_l_pct['forest_pix'] / fortypcd_l_pct['total_pixels']) * 100\n",
    "\n",
    "# reshape the columns\n",
    "cols = ['grid_index', 'FORTYPCD', 'SpeciesName', 'count', 'forest_pix', 'total_pixels', 'spp_pct', 'forest_pct']\n",
    "fortypcd_l_pct = fortypcd_l_pct[cols]\n",
    "\n",
    "# check the results\n",
    "fortypcd_l_pct = fortypcd_l_pct.sort_values(by=['grid_index'])\n",
    "print(fortypcd_l_pct.columns)\n",
    "fortypcd_l_pct.head(3)"
   ]
  },
  {
   "cell_type": "code",
   "execution_count": null,
   "id": "71dcc4b3-e6c2-498f-8ac4-8eb483223cc0",
   "metadata": {},
   "outputs": [],
   "source": []
  },
  {
   "cell_type": "code",
   "execution_count": null,
   "id": "9376551a-8158-4976-9b6b-3a3aee2ffaa0",
   "metadata": {},
   "outputs": [],
   "source": []
  },
  {
   "cell_type": "code",
   "execution_count": null,
   "id": "1773e40b-4516-4618-895e-2125251f86a8",
   "metadata": {},
   "outputs": [],
   "source": [
    "# Create a histogram of the forest species (prevalence)"
   ]
  },
  {
   "cell_type": "code",
   "execution_count": 23,
   "id": "0d845fd8-b2d5-4f19-8b28-69a49825a8ea",
   "metadata": {},
   "outputs": [
    {
     "name": "stdout",
     "output_type": "stream",
     "text": [
      "\n",
      "\n",
      "Species making up 97% of the total: \n",
      "\n",
      "                         SpeciesName         count  fraction  c_fraction\n",
      "27                    Lodgepole pine  2.404623e+06  0.292883    0.292883\n",
      "40                    Ponderosa pine  1.653589e+06  0.201407    0.494290\n",
      "0                              Aspen  9.761961e+05  0.118901    0.613191\n",
      "18  Engelmann spruce / subalpine fir  9.008989e+05  0.109729    0.722920\n",
      "13                       Douglas-fir  4.726318e+05  0.057567    0.780487\n",
      "39         Pinyon / juniper woodland  3.124301e+05  0.038054    0.818541\n",
      "17                  Engelmann spruce  3.018477e+05  0.036765    0.855306\n",
      "46                     Subalpine fir  2.283450e+05  0.027812    0.883118\n",
      "21                         Grand fir  1.899971e+05  0.023142    0.906260\n",
      "53                         White fir  1.701611e+05  0.020726    0.926986\n",
      "12            Deciduous oak woodland  1.293590e+05  0.015756    0.942741\n",
      "43            Rocky Mountain juniper  1.197338e+05  0.014584    0.957325\n",
      "6           California mixed conifer  5.774207e+04  0.007033    0.964358\n",
      "\n",
      "\n"
     ]
    },
    {
     "data": {
      "image/png": "[encoded data removed]",
      "text/plain": [
       "<Figure size 600x400 with 1 Axes>"
      ]
     },
     "metadata": {},
     "output_type": "display_data"
    }
   ],
   "source": [
    "fortyp_df = fortypcd_l_pct.copy() # make a copy to work with\n",
    "fortyp_df = fortyp_df[fortyp_df['count'] > 0] # make sure there are some pixels\n",
    "\n",
    "# calculate the landscape fraction (prevalence)\n",
    "spp_prevalence = fortyp_df.groupby('SpeciesName')['count'].sum().reset_index()\n",
    "spp_prevalence['fraction'] = spp_prevalence['count'] / spp_prevalence['count'].sum()\n",
    "spp_prevalence = spp_prevalence.sort_values(by='fraction', ascending=False)\n",
    "\n",
    "# which species make up 97% of observations?\n",
    "spp_prevalence['c_fraction'] = spp_prevalence['fraction'].cumsum()\n",
    "top_species = spp_prevalence[spp_prevalence['c_fraction'] <= 0.97]\n",
    "print(f\"\\n\\nSpecies making up 97% of the total: \\n\\n{top_species}\\n\\n\")\n",
    "\n",
    "# plot it\n",
    "plt.figure(figsize=(6, 4))\n",
    "sns.barplot(data=top_species, x='SpeciesName', y='fraction', palette='viridis')\n",
    "plt.xlabel('Species')\n",
    "plt.ylabel('Fractional cover')\n",
    "plt.xticks(rotation=45, ha='right')\n",
    "plt.tight_layout()\n",
    "plt.show()"
   ]
  },
  {
   "cell_type": "code",
   "execution_count": null,
   "id": "f32a054d-599e-4460-aacd-cd47f8664753",
   "metadata": {},
   "outputs": [],
   "source": [
    "# perform a remap for some forest types\n",
    "# create a 'Spruce-fir' category\n",
    "# 'Pinon-juniper woodland' category"
   ]
  },
  {
   "cell_type": "code",
   "execution_count": 24,
   "id": "904f25d9-3399-42eb-b8bf-8ce202a906e1",
   "metadata": {},
   "outputs": [
    {
     "data": {
      "text/plain": [
       "array(['Pinon-juniper woodland', 'Other exotic hardwoods',\n",
       "       'Mesquite woodland', 'Cottonwood', 'Deciduous oak woodland',\n",
       "       'Ponderosa pine', 'Other hardwoods',\n",
       "       'Sugarberry / hackberry / elm / green ash', 'Nonstocked',\n",
       "       'Douglas-fir', 'Cottonwood / willow', 'Bur oak',\n",
       "       'Western redcedar', 'Spruce-fir', 'Aspen',\n",
       "       'Cercocarpus (mountain brush) woodland', 'Lodgepole pine',\n",
       "       'Western larch', 'Intermountain maple woodland', 'Blue spruce',\n",
       "       'Limber pine', 'Balsam fir', 'Foxtail pine / bristlecone pine',\n",
       "       'Paper birch', 'Miscellaneous western softwoods', 'Noble fir',\n",
       "       'Sugar maple / beech / yellow birch', 'Hard maple / basswood',\n",
       "       'California mixed conifer', 'Jeffrey pine',\n",
       "       'Evergreen oak woodland', 'Eastern redcedar / hardwood',\n",
       "       'Elm / ash / black locust', 'Willow', 'Southwestern white pine',\n",
       "       'Red alder', 'California black oak', 'White spruce', 'Sugar pine',\n",
       "       'Mountain hemlock', 'Canyon live oak',\n",
       "       'California white oak (valley oak)', 'Pin cherry',\n",
       "       'Whitebark pine', 'Eastern redcedar', 'Oregon white oak',\n",
       "       'Red maple / upland', 'Blue oak',\n",
       "       'Miscellaneous woodland hardwoods', 'Sassafras / persimmon'],\n",
       "      dtype=object)"
      ]
     },
     "execution_count": 24,
     "metadata": {},
     "output_type": "execute_result"
    }
   ],
   "source": [
    "spp_remap = {\n",
    "    'Engelmann spruce': 'Spruce-fir',\n",
    "    'Subalpine fir': 'Spruce-fir',\n",
    "    'White fir': 'Spruce-fir',\n",
    "    'Grand fir': 'Spruce-fir',\n",
    "    'Engelmann spruce / subalpine fir': 'Spruce-fir',\n",
    "    'Western juniper': 'Pinon-juniper woodland',\n",
    "    'Rocky Mountain juniper': 'Pinon-juniper woodland',\n",
    "    'Pinyon / juniper woodland': 'Pinon-juniper woodland',\n",
    "    'Juniper woodland': 'Pinon-juniper woodland'\n",
    "}\n",
    "\n",
    "# Add a new column for the merged categories\n",
    "fortyp_df['SpeciesName'] = fortyp_df['SpeciesName'].map(spp_remap).fillna(fortyp_df['SpeciesName'])\n",
    "fortyp_df['SpeciesName'].unique()"
   ]
  },
  {
   "cell_type": "code",
   "execution_count": 38,
   "id": "2c7b5d1d-acf7-4891-b45b-097c7f34d970",
   "metadata": {},
   "outputs": [
    {
     "name": "stdout",
     "output_type": "stream",
     "text": [
      "\n",
      "\n",
      "Species making up 97% of the total: \n",
      "\n",
      "               SpeciesName         count  fraction  c_fraction\n",
      "23          Lodgepole pine  2.404623e+06  0.292883    0.292883\n",
      "41              Spruce-fir  1.791250e+06  0.218174    0.511057\n",
      "36          Ponderosa pine  1.653589e+06  0.201407    0.712464\n",
      "0                    Aspen  9.761961e+05  0.118901    0.831365\n",
      "35  Pinon-juniper woodland  5.353721e+05  0.065208    0.896573\n",
      "13             Douglas-fir  4.726318e+05  0.057567    0.954140\n",
      "12  Deciduous oak woodland  1.293590e+05  0.015756    0.969896\n",
      "\n",
      "\n"
     ]
    },
    {
     "data": {
      "image/png": "[encoded data removed]",
      "text/plain": [
       "<Figure size 600x400 with 1 Axes>"
      ]
     },
     "metadata": {},
     "output_type": "display_data"
    }
   ],
   "source": [
    "# re-plot the dataframe\n",
    "# Calculate the total percent cover (prevalence)\n",
    "spp_prevalence = fortyp_df.groupby('SpeciesName')['count'].sum().reset_index()\n",
    "spp_prevalence['fraction'] = spp_prevalence['count'] / spp_prevalence['count'].sum()\n",
    "spp_prevalence = spp_prevalence.sort_values(by='fraction', ascending=False)\n",
    "\n",
    "# which species make up 97% of observations?\n",
    "spp_prevalence['c_fraction'] = spp_prevalence['fraction'].cumsum()\n",
    "top_species = spp_prevalence[spp_prevalence['c_fraction'] <= 0.97]\n",
    "print(f\"\\n\\nSpecies making up 97% of the total: \\n\\n{top_species}\\n\\n\")\n",
    "\n",
    "# plot it\n",
    "plt.figure(figsize=(6, 4))\n",
    "sns.barplot(data=top_species, x='SpeciesName', y='fraction', palette='viridis')\n",
    "plt.title('Burned area forest type fraction')\n",
    "plt.xlabel('Species')\n",
    "plt.ylabel('Fractional cover')\n",
    "plt.xticks(rotation=45, ha='right')\n",
    "plt.tight_layout()\n",
    "plt.show()"
   ]
  },
  {
   "cell_type": "code",
   "execution_count": null,
   "id": "edadf2dc-f8c9-4038-804e-393cbdc5913d",
   "metadata": {},
   "outputs": [],
   "source": []
  },
  {
   "cell_type": "code",
   "execution_count": null,
   "id": "2d9028ad-ee96-4a35-aa01-82ab9763d5aa",
   "metadata": {},
   "outputs": [],
   "source": []
  },
  {
   "cell_type": "code",
   "execution_count": null,
   "id": "a432dc1c-d06c-433d-98f0-edd0f2f21b02",
   "metadata": {},
   "outputs": [],
   "source": [
    "# join the forest type dataframe to our FRP gridcells"
   ]
  },
  {
   "cell_type": "code",
   "execution_count": 32,
   "id": "31f41b16-94ac-45cc-871d-8131ce3cd435",
   "metadata": {},
   "outputs": [
    {
     "data": {
      "text/plain": [
       "Index(['grid_index', 'grid_area', 'afd_count', 'frp_csum', 'frp_max',\n",
       "       'frp_min', 'day_max_frp', 'dt_max_frp', 'first_obs_date',\n",
       "       'last_obs_date', 'frp_max_day', 'frp_max_night', 'Fire_ID', 'Fire_Name',\n",
       "       'geometry', 'FORTYPCD', 'SpeciesName', 'count', 'forest_pix',\n",
       "       'total_pixels', 'spp_pct', 'forest_pct'],\n",
       "      dtype='object')"
      ]
     },
     "execution_count": 32,
     "metadata": {},
     "output_type": "execute_result"
    }
   ],
   "source": [
    "grid_ = grid.merge(fortyp_df, on='grid_index', how='left')\n",
    "grid_.columns"
   ]
  },
  {
   "cell_type": "code",
   "execution_count": 35,
   "id": "ca16e525-83aa-4890-90ae-4d872951f40d",
   "metadata": {},
   "outputs": [
    {
     "name": "stdout",
     "output_type": "stream",
     "text": [
      "42214/49343 [85.6%] gridcells are forested.\n"
     ]
    }
   ],
   "source": [
    "# subset the grids to predominantly forested plots (>50% forested)\n",
    "grid_forest = grid_[grid_['forest_pct'] > 50]\n",
    "print(f\"{len(grid_forest['grid_index'].unique())}/{len(grid)} [{round(len(grid_forest['grid_index'].unique())/len(grid)*100,1)}%] gridcells are forested.\")"
   ]
  },
  {
   "cell_type": "code",
   "execution_count": 37,
   "id": "6b3e4055-2253-4f1a-ab2b-7a0ef580b7c4",
   "metadata": {},
   "outputs": [
    {
     "name": "stdout",
     "output_type": "stream",
     "text": [
      "['Lodgepole pine' 'Spruce-fir' 'Ponderosa pine' 'Aspen'\n",
      " 'Pinon-juniper woodland' 'Douglas-fir' 'Deciduous oak woodland']\n"
     ]
    },
    {
     "data": {
      "text/plain": [
       "42214"
      ]
     },
     "execution_count": 37,
     "metadata": {},
     "output_type": "execute_result"
    }
   ],
   "source": [
    "print(top_species['SpeciesName'].unique()) # check on our top species\n",
    "# subset columns in our forested gridcells to retain just our top species\n",
    "grid_forest = grid_forest[grid_forest['SpeciesName'].isin(top_species['SpeciesName'].unique())]\n",
    "len(grid_forest['grid_index'].unique())"
   ]
  },
  {
   "cell_type": "code",
   "execution_count": null,
   "id": "c5d0b54f-8e1a-48c8-83c5-47c91e3564e8",
   "metadata": {},
   "outputs": [],
   "source": []
  },
  {
   "cell_type": "code",
   "execution_count": null,
   "id": "d6807fcf-6732-4997-b0c1-0930695f5acd",
   "metadata": {},
   "outputs": [],
   "source": []
  },
  {
   "cell_type": "code",
   "execution_count": null,
   "id": "eac41b06-5d67-4aea-a047-f7c161c857f8",
   "metadata": {},
   "outputs": [],
   "source": []
  },
  {
   "cell_type": "code",
   "execution_count": null,
   "id": "38fbafed-c235-481d-8cb9-276ebdee70ba",
   "metadata": {},
   "outputs": [],
   "source": [
    "# Load the treemap metrics, apply the same remapping"
   ]
  },
  {
   "cell_type": "code",
   "execution_count": 40,
   "id": "1a9dc0bd-1f54-41c8-b527-ad9bdd0538b5",
   "metadata": {},
   "outputs": [
    {
     "data": {
      "text/plain": [
       "Index(['grid_index', 'species_metrics'], dtype='object')"
      ]
     },
     "execution_count": 40,
     "metadata": {},
     "output_type": "execute_result"
    }
   ],
   "source": [
    "ftyp_met = os.path.join(projdir,'earth-engine/exports/treemap/gridstats_fortypcd_metrics.csv')\n",
    "tm_stats = pd.read_csv(ftyp_met)\n",
    "tm_stats.drop(columns=['system:index','.geo'], inplace=True)\n",
    "tm_stats.columns"
   ]
  },
  {
   "cell_type": "code",
   "execution_count": 41,
   "id": "1018c100-7e4d-499d-9211-6257aa000d6c",
   "metadata": {},
   "outputs": [
    {
     "data": {
      "text/html": [
       "<div>\n",
       "<style scoped>\n",
       "    .dataframe tbody tr th:only-of-type {\n",
       "        vertical-align: middle;\n",
       "    }\n",
       "\n",
       "    .dataframe tbody tr th {\n",
       "        vertical-align: top;\n",
       "    }\n",
       "\n",
       "    .dataframe thead th {\n",
       "        text-align: right;\n",
       "    }\n",
       "</style>\n",
       "<table border=\"1\" class=\"dataframe\">\n",
       "  <thead>\n",
       "    <tr style=\"text-align: right;\">\n",
       "      <th></th>\n",
       "      <th>grid_index</th>\n",
       "      <th>species_metrics</th>\n",
       "    </tr>\n",
       "  </thead>\n",
       "  <tbody>\n",
       "    <tr>\n",
       "      <th>0</th>\n",
       "      <td>919906</td>\n",
       "      <td>{'182_BALIVE_mn': 113.51390075683594, '182_SDI...</td>\n",
       "    </tr>\n",
       "    <tr>\n",
       "      <th>1</th>\n",
       "      <td>919907</td>\n",
       "      <td>{'182_BALIVE_mn': 113.51390075683594, '182_SDI...</td>\n",
       "    </tr>\n",
       "    <tr>\n",
       "      <th>2</th>\n",
       "      <td>919908</td>\n",
       "      <td>{'182_BALIVE_mn': 63.25205624256263, '182_SDIP...</td>\n",
       "    </tr>\n",
       "    <tr>\n",
       "      <th>3</th>\n",
       "      <td>922166</td>\n",
       "      <td>{'182_BALIVE_mn': 103.75088572904717, '182_SDI...</td>\n",
       "    </tr>\n",
       "    <tr>\n",
       "      <th>4</th>\n",
       "      <td>922171</td>\n",
       "      <td>{'182_BALIVE_mn': 103.60663347462486, '182_SDI...</td>\n",
       "    </tr>\n",
       "  </tbody>\n",
       "</table>\n",
       "</div>"
      ],
      "text/plain": [
       "   grid_index                                    species_metrics\n",
       "0      919906  {'182_BALIVE_mn': 113.51390075683594, '182_SDI...\n",
       "1      919907  {'182_BALIVE_mn': 113.51390075683594, '182_SDI...\n",
       "2      919908  {'182_BALIVE_mn': 63.25205624256263, '182_SDIP...\n",
       "3      922166  {'182_BALIVE_mn': 103.75088572904717, '182_SDI...\n",
       "4      922171  {'182_BALIVE_mn': 103.60663347462486, '182_SDI..."
      ]
     },
     "execution_count": 41,
     "metadata": {},
     "output_type": "execute_result"
    }
   ],
   "source": [
    "# unpack histogram dictionary into columns\n",
    "def parse_histogram(hist_str):\n",
    "    # Convert float or NaN to string, then parse\n",
    "    if isinstance(hist_str, float) or pd.isna(hist_str):\n",
    "        hist_str = str(int(hist_str)) if not pd.isna(hist_str) else \"\"\n",
    "    kv_pairs = hist_str.split(', ')  # Split the key-value pairs\n",
    "    # Convert key-value pairs to a dictionary\n",
    "    return {kv.split(':')[0]: float(kv.split(':')[1]) for kv in kv_pairs if ':' in kv}\n",
    "\n",
    "# parse the dictionary\n",
    "tm_stats['species_metrics'] = tm_stats['species_metrics'].apply(parse_histogram)\n",
    "tm_stats.head()"
   ]
  },
  {
   "cell_type": "code",
   "execution_count": 43,
   "id": "cab61e79-847a-439b-899f-1ddcaa3d8b0d",
   "metadata": {},
   "outputs": [
    {
     "name": "stdout",
     "output_type": "stream",
     "text": [
      "Adjusted DataFrame:\n"
     ]
    },
    {
     "data": {
      "text/html": [
       "<div>\n",
       "<style scoped>\n",
       "    .dataframe tbody tr th:only-of-type {\n",
       "        vertical-align: middle;\n",
       "    }\n",
       "\n",
       "    .dataframe tbody tr th {\n",
       "        vertical-align: top;\n",
       "    }\n",
       "\n",
       "    .dataframe thead th {\n",
       "        text-align: right;\n",
       "    }\n",
       "</style>\n",
       "<table border=\"1\" class=\"dataframe\">\n",
       "  <thead>\n",
       "    <tr style=\"text-align: right;\">\n",
       "      <th></th>\n",
       "      <th>grid_index</th>\n",
       "      <th>182_BALIVE_mn</th>\n",
       "      <th>182_SDIPCT_RMRS_mn</th>\n",
       "      <th>182_STANDHT_mn</th>\n",
       "      <th>182_TPA_DEAD_mn</th>\n",
       "      <th>182_TPA_LIVE_mn</th>\n",
       "      <th>185_BALIVE_mn</th>\n",
       "      <th>185_SDIPCT_RMRS_mn</th>\n",
       "      <th>185_STANDHT_mn</th>\n",
       "      <th>185_TPA_DEAD_mn</th>\n",
       "      <th>...</th>\n",
       "      <th>976_BALIVE_mn</th>\n",
       "      <th>976_STANDHT_mn</th>\n",
       "      <th>976_TPA_DEAD_mn</th>\n",
       "      <th>976_TPA_LIVE_mn</th>\n",
       "      <th>507_BALIVE_mn</th>\n",
       "      <th>507_STANDHT_mn</th>\n",
       "      <th>507_TPA_LIVE_mn</th>\n",
       "      <th>924_BALIVE_mn</th>\n",
       "      <th>924_STANDHT_mn</th>\n",
       "      <th>924_TPA_LIVE_mn</th>\n",
       "    </tr>\n",
       "  </thead>\n",
       "  <tbody>\n",
       "    <tr>\n",
       "      <th>0</th>\n",
       "      <td>919906</td>\n",
       "      <td>113.513901</td>\n",
       "      <td>65.199997</td>\n",
       "      <td>29.0</td>\n",
       "      <td>12.036092</td>\n",
       "      <td>396.670441</td>\n",
       "      <td>44.991299</td>\n",
       "      <td>26.083333</td>\n",
       "      <td>20.285714</td>\n",
       "      <td>9.027069</td>\n",
       "      <td>...</td>\n",
       "      <td>NaN</td>\n",
       "      <td>NaN</td>\n",
       "      <td>NaN</td>\n",
       "      <td>NaN</td>\n",
       "      <td>NaN</td>\n",
       "      <td>NaN</td>\n",
       "      <td>NaN</td>\n",
       "      <td>NaN</td>\n",
       "      <td>NaN</td>\n",
       "      <td>NaN</td>\n",
       "    </tr>\n",
       "    <tr>\n",
       "      <th>1</th>\n",
       "      <td>919907</td>\n",
       "      <td>113.513901</td>\n",
       "      <td>65.199997</td>\n",
       "      <td>29.0</td>\n",
       "      <td>12.036092</td>\n",
       "      <td>396.670441</td>\n",
       "      <td>NaN</td>\n",
       "      <td>NaN</td>\n",
       "      <td>NaN</td>\n",
       "      <td>NaN</td>\n",
       "      <td>...</td>\n",
       "      <td>NaN</td>\n",
       "      <td>NaN</td>\n",
       "      <td>NaN</td>\n",
       "      <td>NaN</td>\n",
       "      <td>NaN</td>\n",
       "      <td>NaN</td>\n",
       "      <td>NaN</td>\n",
       "      <td>NaN</td>\n",
       "      <td>NaN</td>\n",
       "      <td>NaN</td>\n",
       "    </tr>\n",
       "    <tr>\n",
       "      <th>2</th>\n",
       "      <td>919908</td>\n",
       "      <td>63.252056</td>\n",
       "      <td>33.140844</td>\n",
       "      <td>29.0</td>\n",
       "      <td>12.036092</td>\n",
       "      <td>146.540987</td>\n",
       "      <td>52.111698</td>\n",
       "      <td>25.000000</td>\n",
       "      <td>30.000000</td>\n",
       "      <td>NaN</td>\n",
       "      <td>...</td>\n",
       "      <td>NaN</td>\n",
       "      <td>NaN</td>\n",
       "      <td>NaN</td>\n",
       "      <td>NaN</td>\n",
       "      <td>NaN</td>\n",
       "      <td>NaN</td>\n",
       "      <td>NaN</td>\n",
       "      <td>NaN</td>\n",
       "      <td>NaN</td>\n",
       "      <td>NaN</td>\n",
       "    </tr>\n",
       "  </tbody>\n",
       "</table>\n",
       "<p>3 rows × 258 columns</p>\n",
       "</div>"
      ],
      "text/plain": [
       "   grid_index  182_BALIVE_mn  182_SDIPCT_RMRS_mn  182_STANDHT_mn  \\\n",
       "0      919906     113.513901           65.199997            29.0   \n",
       "1      919907     113.513901           65.199997            29.0   \n",
       "2      919908      63.252056           33.140844            29.0   \n",
       "\n",
       "   182_TPA_DEAD_mn  182_TPA_LIVE_mn  185_BALIVE_mn  185_SDIPCT_RMRS_mn  \\\n",
       "0        12.036092       396.670441      44.991299           26.083333   \n",
       "1        12.036092       396.670441            NaN                 NaN   \n",
       "2        12.036092       146.540987      52.111698           25.000000   \n",
       "\n",
       "   185_STANDHT_mn  185_TPA_DEAD_mn  ...  976_BALIVE_mn  976_STANDHT_mn  \\\n",
       "0       20.285714         9.027069  ...            NaN             NaN   \n",
       "1             NaN              NaN  ...            NaN             NaN   \n",
       "2       30.000000              NaN  ...            NaN             NaN   \n",
       "\n",
       "   976_TPA_DEAD_mn  976_TPA_LIVE_mn  507_BALIVE_mn  507_STANDHT_mn  \\\n",
       "0              NaN              NaN            NaN             NaN   \n",
       "1              NaN              NaN            NaN             NaN   \n",
       "2              NaN              NaN            NaN             NaN   \n",
       "\n",
       "   507_TPA_LIVE_mn  924_BALIVE_mn  924_STANDHT_mn  924_TPA_LIVE_mn  \n",
       "0              NaN            NaN             NaN              NaN  \n",
       "1              NaN            NaN             NaN              NaN  \n",
       "2              NaN            NaN             NaN              NaN  \n",
       "\n",
       "[3 rows x 258 columns]"
      ]
     },
     "execution_count": 43,
     "metadata": {},
     "output_type": "execute_result"
    }
   ],
   "source": [
    "hist_df = tm_stats['species_metrics'].apply(pd.Series)\n",
    "tm_stats = pd.concat([tm_stats.drop(columns=['species_metrics']), hist_df], axis=1).reset_index(drop=True)\n",
    "print(\"Adjusted DataFrame:\")\n",
    "tm_stats.head(3)"
   ]
  },
  {
   "cell_type": "code",
   "execution_count": 49,
   "id": "2ffcc204-7752-4d71-bb43-996d39513f57",
   "metadata": {},
   "outputs": [
    {
     "name": "stdout",
     "output_type": "stream",
     "text": [
      "[257] total metrics columns selected for melting:\n",
      "\n"
     ]
    },
    {
     "data": {
      "text/html": [
       "<div>\n",
       "<style scoped>\n",
       "    .dataframe tbody tr th:only-of-type {\n",
       "        vertical-align: middle;\n",
       "    }\n",
       "\n",
       "    .dataframe tbody tr th {\n",
       "        vertical-align: top;\n",
       "    }\n",
       "\n",
       "    .dataframe thead th {\n",
       "        text-align: right;\n",
       "    }\n",
       "</style>\n",
       "<table border=\"1\" class=\"dataframe\">\n",
       "  <thead>\n",
       "    <tr style=\"text-align: right;\">\n",
       "      <th></th>\n",
       "      <th>grid_index</th>\n",
       "      <th>metric</th>\n",
       "      <th>value</th>\n",
       "    </tr>\n",
       "  </thead>\n",
       "  <tbody>\n",
       "    <tr>\n",
       "      <th>0</th>\n",
       "      <td>919906</td>\n",
       "      <td>182_BALIVE_mn</td>\n",
       "      <td>113.513901</td>\n",
       "    </tr>\n",
       "    <tr>\n",
       "      <th>1</th>\n",
       "      <td>919907</td>\n",
       "      <td>182_BALIVE_mn</td>\n",
       "      <td>113.513901</td>\n",
       "    </tr>\n",
       "    <tr>\n",
       "      <th>2</th>\n",
       "      <td>919908</td>\n",
       "      <td>182_BALIVE_mn</td>\n",
       "      <td>63.252056</td>\n",
       "    </tr>\n",
       "    <tr>\n",
       "      <th>3</th>\n",
       "      <td>922166</td>\n",
       "      <td>182_BALIVE_mn</td>\n",
       "      <td>103.750886</td>\n",
       "    </tr>\n",
       "    <tr>\n",
       "      <th>4</th>\n",
       "      <td>922171</td>\n",
       "      <td>182_BALIVE_mn</td>\n",
       "      <td>103.606633</td>\n",
       "    </tr>\n",
       "  </tbody>\n",
       "</table>\n",
       "</div>"
      ],
      "text/plain": [
       "   grid_index         metric       value\n",
       "0      919906  182_BALIVE_mn  113.513901\n",
       "1      919907  182_BALIVE_mn  113.513901\n",
       "2      919908  182_BALIVE_mn   63.252056\n",
       "3      922166  182_BALIVE_mn  103.750886\n",
       "4      922171  182_BALIVE_mn  103.606633"
      ]
     },
     "execution_count": 49,
     "metadata": {},
     "output_type": "execute_result"
    }
   ],
   "source": [
    "# isolate melt bands/columns\n",
    "band_names = ['BALIVE', 'SDIPCT_RMRS', 'STANDHT', 'TPA_DEAD', 'TPA_LIVE']\n",
    "regex_p = '|'.join(band_names) # regex pattern for melting columns\n",
    "metrics_cols = [col for col in tm_stats_.columns if '_mn' in col]\n",
    "print(f\"[{len(metrics_cols)}] total metrics columns selected for melting:\\n\")\n",
    "\n",
    "# do the melt\n",
    "tm_stats_l = tm_stats.melt(\n",
    "    id_vars=['grid_index'], \n",
    "    value_vars=metrics_cols, \n",
    "    var_name='metric', \n",
    "    value_name='value'\n",
    ")\n",
    "tm_stats_l.head(3)"
   ]
  },
  {
   "cell_type": "code",
   "execution_count": 51,
   "id": "97880279-12c8-4ff7-b4b6-a69261b1219b",
   "metadata": {},
   "outputs": [
    {
     "data": {
      "text/plain": [
       "array(['BALIVE', 'SDIPCT_RMRS', 'STANDHT', 'TPA_DEAD', 'TPA_LIVE'],\n",
       "      dtype=object)"
      ]
     },
     "execution_count": 51,
     "metadata": {},
     "output_type": "execute_result"
    }
   ],
   "source": [
    "# gather the forest type code from the band name\n",
    "tm_stats_l['FORTYPCD'] = tm_stats_l['metric'].str.extract(r'^(\\d+)_')[0].astype(int)\n",
    "tm_stats_l['metric'] = tm_stats_l['metric'].str.extract(f'({regex_p})')[0]\n",
    "tm_stats_l = tm_stats_l[['grid_index','FORTYPCD','metric','value']]\n",
    "tm_stats_l.dropna(subset=['value'], inplace=True) # drop NaNs\n",
    "tm_stats_l['metric'].unique()"
   ]
  },
  {
   "cell_type": "code",
   "execution_count": 52,
   "id": "e6b495ba-b6bf-49fd-808e-ed775830d8c7",
   "metadata": {},
   "outputs": [
    {
     "data": {
      "text/html": [
       "<div>\n",
       "<style scoped>\n",
       "    .dataframe tbody tr th:only-of-type {\n",
       "        vertical-align: middle;\n",
       "    }\n",
       "\n",
       "    .dataframe tbody tr th {\n",
       "        vertical-align: top;\n",
       "    }\n",
       "\n",
       "    .dataframe thead th {\n",
       "        text-align: right;\n",
       "    }\n",
       "</style>\n",
       "<table border=\"1\" class=\"dataframe\">\n",
       "  <thead>\n",
       "    <tr style=\"text-align: right;\">\n",
       "      <th>metric</th>\n",
       "      <th>grid_index</th>\n",
       "      <th>FORTYPCD</th>\n",
       "      <th>BALIVE</th>\n",
       "      <th>SDIPCT</th>\n",
       "      <th>STANDHT</th>\n",
       "      <th>TPA_DEAD</th>\n",
       "      <th>TPA_LIVE</th>\n",
       "    </tr>\n",
       "  </thead>\n",
       "  <tbody>\n",
       "    <tr>\n",
       "      <th>0</th>\n",
       "      <td>184440</td>\n",
       "      <td>184</td>\n",
       "      <td>28.642924</td>\n",
       "      <td>12.543885</td>\n",
       "      <td>12.183448</td>\n",
       "      <td>6.018046</td>\n",
       "      <td>36.084544</td>\n",
       "    </tr>\n",
       "    <tr>\n",
       "      <th>1</th>\n",
       "      <td>184440</td>\n",
       "      <td>185</td>\n",
       "      <td>46.993341</td>\n",
       "      <td>18.682264</td>\n",
       "      <td>15.118729</td>\n",
       "      <td>12.178753</td>\n",
       "      <td>141.248148</td>\n",
       "    </tr>\n",
       "    <tr>\n",
       "      <th>2</th>\n",
       "      <td>184441</td>\n",
       "      <td>184</td>\n",
       "      <td>72.685503</td>\n",
       "      <td>32.056522</td>\n",
       "      <td>14.415356</td>\n",
       "      <td>9.027069</td>\n",
       "      <td>78.017484</td>\n",
       "    </tr>\n",
       "  </tbody>\n",
       "</table>\n",
       "</div>"
      ],
      "text/plain": [
       "metric  grid_index  FORTYPCD     BALIVE     SDIPCT    STANDHT   TPA_DEAD  \\\n",
       "0           184440       184  28.642924  12.543885  12.183448   6.018046   \n",
       "1           184440       185  46.993341  18.682264  15.118729  12.178753   \n",
       "2           184441       184  72.685503  32.056522  14.415356   9.027069   \n",
       "\n",
       "metric    TPA_LIVE  \n",
       "0        36.084544  \n",
       "1       141.248148  \n",
       "2        78.017484  "
      ]
     },
     "execution_count": 52,
     "metadata": {},
     "output_type": "execute_result"
    }
   ],
   "source": [
    "# pivot longer to get metrics as columns\n",
    "tm_stats_lp = tm_stats_l.pivot_table(index=['grid_index', 'FORTYPCD'], columns='metric', values='value')\n",
    "tm_stats_lp = tm_stats_lp.reset_index() # collapse the index\n",
    "tm_stats_lp = tm_stats_lp[['grid_index','FORTYPCD']+band_names]\n",
    "tm_stats_lp.rename(columns={'SDIPCT_RMRS': 'SDIPCT'}, inplace=True)\n",
    "tm_stats_lp.head(3)"
   ]
  },
  {
   "cell_type": "code",
   "execution_count": null,
   "id": "ec8a5e76-719b-4580-af6b-527fd2f17b60",
   "metadata": {},
   "outputs": [],
   "source": []
  },
  {
   "cell_type": "code",
   "execution_count": null,
   "id": "d3784233-fc13-49c7-a10e-682371d7ad08",
   "metadata": {},
   "outputs": [],
   "source": []
  },
  {
   "cell_type": "code",
   "execution_count": null,
   "id": "aa99d812-bbf6-4bd5-9729-b28c7c8f0a57",
   "metadata": {},
   "outputs": [],
   "source": [
    "# load the Sentinel-2 metrics"
   ]
  },
  {
   "cell_type": "code",
   "execution_count": 53,
   "id": "6dc04a27-725e-4e40-90dd-be3309d3e7c0",
   "metadata": {},
   "outputs": [
    {
     "data": {
      "text/plain": [
       "Index(['grid_index', 'species_s2'], dtype='object')"
      ]
     },
     "execution_count": 53,
     "metadata": {},
     "output_type": "execute_result"
    }
   ],
   "source": [
    "fp = os.path.join(projdir,'earth-engine/exports/treemap/gridstats_fortypcd_s2.csv')\n",
    "s2_stats = pd.read_csv(fp)\n",
    "s2_stats.drop(columns=['system:index','.geo'], inplace=True)\n",
    "s2_stats.columns"
   ]
  },
  {
   "cell_type": "code",
   "execution_count": 54,
   "id": "c03a24e3-2ab5-4cb7-a12f-4a2b3f524ffd",
   "metadata": {},
   "outputs": [
    {
     "data": {
      "text/html": [
       "<div>\n",
       "<style scoped>\n",
       "    .dataframe tbody tr th:only-of-type {\n",
       "        vertical-align: middle;\n",
       "    }\n",
       "\n",
       "    .dataframe tbody tr th {\n",
       "        vertical-align: top;\n",
       "    }\n",
       "\n",
       "    .dataframe thead th {\n",
       "        text-align: right;\n",
       "    }\n",
       "</style>\n",
       "<table border=\"1\" class=\"dataframe\">\n",
       "  <thead>\n",
       "    <tr style=\"text-align: right;\">\n",
       "      <th></th>\n",
       "      <th>grid_index</th>\n",
       "      <th>species_s2</th>\n",
       "    </tr>\n",
       "  </thead>\n",
       "  <tbody>\n",
       "    <tr>\n",
       "      <th>0</th>\n",
       "      <td>919906</td>\n",
       "      <td>{'182_LAI': 11.627391922253718, '182_MNDWI': -...</td>\n",
       "    </tr>\n",
       "    <tr>\n",
       "      <th>1</th>\n",
       "      <td>919907</td>\n",
       "      <td>{'182_LAI': 23.17172737629722, '182_MNDWI': -0...</td>\n",
       "    </tr>\n",
       "    <tr>\n",
       "      <th>2</th>\n",
       "      <td>919908</td>\n",
       "      <td>{'182_LAI': 14.705967795670029, '182_MNDWI': -...</td>\n",
       "    </tr>\n",
       "    <tr>\n",
       "      <th>3</th>\n",
       "      <td>922166</td>\n",
       "      <td>{'182_LAI': 14.255902033790331, '182_MNDWI': -...</td>\n",
       "    </tr>\n",
       "    <tr>\n",
       "      <th>4</th>\n",
       "      <td>922171</td>\n",
       "      <td>{'182_LAI': 26.745972142977642, '182_MNDWI': -...</td>\n",
       "    </tr>\n",
       "  </tbody>\n",
       "</table>\n",
       "</div>"
      ],
      "text/plain": [
       "   grid_index                                         species_s2\n",
       "0      919906  {'182_LAI': 11.627391922253718, '182_MNDWI': -...\n",
       "1      919907  {'182_LAI': 23.17172737629722, '182_MNDWI': -0...\n",
       "2      919908  {'182_LAI': 14.705967795670029, '182_MNDWI': -...\n",
       "3      922166  {'182_LAI': 14.255902033790331, '182_MNDWI': -...\n",
       "4      922171  {'182_LAI': 26.745972142977642, '182_MNDWI': -..."
      ]
     },
     "execution_count": 54,
     "metadata": {},
     "output_type": "execute_result"
    }
   ],
   "source": [
    "# unpack histogram dictionary into columns\n",
    "def parse_histogram(hist_str):\n",
    "    # Convert float or NaN to string, then parse\n",
    "    if isinstance(hist_str, float) or pd.isna(hist_str):\n",
    "        hist_str = str(int(hist_str)) if not pd.isna(hist_str) else \"\"\n",
    "    kv_pairs = hist_str.split(', ')  # Split the key-value pairs\n",
    "    # Convert key-value pairs to a dictionary\n",
    "    return {kv.split(':')[0]: float(kv.split(':')[1]) for kv in kv_pairs if ':' in kv}\n",
    "# parse the dictionary\n",
    "s2_stats['species_s2'] = s2_stats['species_s2'].apply(parse_histogram)\n",
    "s2_stats.head()"
   ]
  },
  {
   "cell_type": "code",
   "execution_count": 55,
   "id": "5e3726f6-0e07-41a6-98b4-3a5756d3629a",
   "metadata": {},
   "outputs": [
    {
     "name": "stdout",
     "output_type": "stream",
     "text": [
      "Adjusted DataFrame:\n"
     ]
    },
    {
     "data": {
      "text/html": [
       "<div>\n",
       "<style scoped>\n",
       "    .dataframe tbody tr th:only-of-type {\n",
       "        vertical-align: middle;\n",
       "    }\n",
       "\n",
       "    .dataframe tbody tr th {\n",
       "        vertical-align: top;\n",
       "    }\n",
       "\n",
       "    .dataframe thead th {\n",
       "        text-align: right;\n",
       "    }\n",
       "</style>\n",
       "<table border=\"1\" class=\"dataframe\">\n",
       "  <thead>\n",
       "    <tr style=\"text-align: right;\">\n",
       "      <th></th>\n",
       "      <th>grid_index</th>\n",
       "      <th>182_LAI</th>\n",
       "      <th>182_MNDWI</th>\n",
       "      <th>185_LAI</th>\n",
       "      <th>185_MNDWI</th>\n",
       "      <th>221_LAI</th>\n",
       "      <th>221_MNDWI</th>\n",
       "      <th>225_LAI</th>\n",
       "      <th>225_MNDWI</th>\n",
       "      <th>369_LAI</th>\n",
       "      <th>...</th>\n",
       "      <th>263_LAI</th>\n",
       "      <th>263_MNDWI</th>\n",
       "      <th>805_LAI</th>\n",
       "      <th>805_MNDWI</th>\n",
       "      <th>976_LAI</th>\n",
       "      <th>976_MNDWI</th>\n",
       "      <th>507_LAI</th>\n",
       "      <th>507_MNDWI</th>\n",
       "      <th>924_LAI</th>\n",
       "      <th>924_MNDWI</th>\n",
       "    </tr>\n",
       "  </thead>\n",
       "  <tbody>\n",
       "    <tr>\n",
       "      <th>0</th>\n",
       "      <td>919906</td>\n",
       "      <td>11.627392</td>\n",
       "      <td>-0.399911</td>\n",
       "      <td>9.906740</td>\n",
       "      <td>-0.31104</td>\n",
       "      <td>18.538522</td>\n",
       "      <td>-0.434224</td>\n",
       "      <td>36.766407</td>\n",
       "      <td>-0.422201</td>\n",
       "      <td>23.294157</td>\n",
       "      <td>...</td>\n",
       "      <td>NaN</td>\n",
       "      <td>NaN</td>\n",
       "      <td>NaN</td>\n",
       "      <td>NaN</td>\n",
       "      <td>NaN</td>\n",
       "      <td>NaN</td>\n",
       "      <td>NaN</td>\n",
       "      <td>NaN</td>\n",
       "      <td>NaN</td>\n",
       "      <td>NaN</td>\n",
       "    </tr>\n",
       "    <tr>\n",
       "      <th>1</th>\n",
       "      <td>919907</td>\n",
       "      <td>23.171727</td>\n",
       "      <td>-0.404371</td>\n",
       "      <td>NaN</td>\n",
       "      <td>NaN</td>\n",
       "      <td>21.471747</td>\n",
       "      <td>-0.393822</td>\n",
       "      <td>34.007244</td>\n",
       "      <td>-0.378910</td>\n",
       "      <td>27.137842</td>\n",
       "      <td>...</td>\n",
       "      <td>NaN</td>\n",
       "      <td>NaN</td>\n",
       "      <td>NaN</td>\n",
       "      <td>NaN</td>\n",
       "      <td>NaN</td>\n",
       "      <td>NaN</td>\n",
       "      <td>NaN</td>\n",
       "      <td>NaN</td>\n",
       "      <td>NaN</td>\n",
       "      <td>NaN</td>\n",
       "    </tr>\n",
       "    <tr>\n",
       "      <th>2</th>\n",
       "      <td>919908</td>\n",
       "      <td>14.705968</td>\n",
       "      <td>-0.450701</td>\n",
       "      <td>14.079876</td>\n",
       "      <td>-0.45335</td>\n",
       "      <td>25.198463</td>\n",
       "      <td>-0.464673</td>\n",
       "      <td>31.912957</td>\n",
       "      <td>-0.438006</td>\n",
       "      <td>15.322607</td>\n",
       "      <td>...</td>\n",
       "      <td>NaN</td>\n",
       "      <td>NaN</td>\n",
       "      <td>NaN</td>\n",
       "      <td>NaN</td>\n",
       "      <td>NaN</td>\n",
       "      <td>NaN</td>\n",
       "      <td>NaN</td>\n",
       "      <td>NaN</td>\n",
       "      <td>NaN</td>\n",
       "      <td>NaN</td>\n",
       "    </tr>\n",
       "  </tbody>\n",
       "</table>\n",
       "<p>3 rows × 115 columns</p>\n",
       "</div>"
      ],
      "text/plain": [
       "   grid_index    182_LAI  182_MNDWI    185_LAI  185_MNDWI    221_LAI  \\\n",
       "0      919906  11.627392  -0.399911   9.906740   -0.31104  18.538522   \n",
       "1      919907  23.171727  -0.404371        NaN        NaN  21.471747   \n",
       "2      919908  14.705968  -0.450701  14.079876   -0.45335  25.198463   \n",
       "\n",
       "   221_MNDWI    225_LAI  225_MNDWI    369_LAI  ...  263_LAI  263_MNDWI  \\\n",
       "0  -0.434224  36.766407  -0.422201  23.294157  ...      NaN        NaN   \n",
       "1  -0.393822  34.007244  -0.378910  27.137842  ...      NaN        NaN   \n",
       "2  -0.464673  31.912957  -0.438006  15.322607  ...      NaN        NaN   \n",
       "\n",
       "   805_LAI  805_MNDWI  976_LAI  976_MNDWI  507_LAI  507_MNDWI  924_LAI  \\\n",
       "0      NaN        NaN      NaN        NaN      NaN        NaN      NaN   \n",
       "1      NaN        NaN      NaN        NaN      NaN        NaN      NaN   \n",
       "2      NaN        NaN      NaN        NaN      NaN        NaN      NaN   \n",
       "\n",
       "   924_MNDWI  \n",
       "0        NaN  \n",
       "1        NaN  \n",
       "2        NaN  \n",
       "\n",
       "[3 rows x 115 columns]"
      ]
     },
     "execution_count": 55,
     "metadata": {},
     "output_type": "execute_result"
    }
   ],
   "source": [
    "hist_df = s2_stats['species_s2'].apply(pd.Series)\n",
    "s2_stats = pd.concat([s2_stats.drop(columns=['species_s2']), hist_df], axis=1).reset_index(drop=True)\n",
    "print(\"Adjusted DataFrame:\")\n",
    "s2_stats.head(3)"
   ]
  },
  {
   "cell_type": "code",
   "execution_count": 59,
   "id": "5bb632d0-cdca-4ba2-9b97-18b56a203780",
   "metadata": {},
   "outputs": [
    {
     "name": "stdout",
     "output_type": "stream",
     "text": [
      "[115] total metrics columns selected for melting:\n",
      "\n"
     ]
    },
    {
     "data": {
      "text/html": [
       "<div>\n",
       "<style scoped>\n",
       "    .dataframe tbody tr th:only-of-type {\n",
       "        vertical-align: middle;\n",
       "    }\n",
       "\n",
       "    .dataframe tbody tr th {\n",
       "        vertical-align: top;\n",
       "    }\n",
       "\n",
       "    .dataframe thead th {\n",
       "        text-align: right;\n",
       "    }\n",
       "</style>\n",
       "<table border=\"1\" class=\"dataframe\">\n",
       "  <thead>\n",
       "    <tr style=\"text-align: right;\">\n",
       "      <th></th>\n",
       "      <th>grid_index</th>\n",
       "      <th>metric</th>\n",
       "      <th>value</th>\n",
       "    </tr>\n",
       "  </thead>\n",
       "  <tbody>\n",
       "    <tr>\n",
       "      <th>0</th>\n",
       "      <td>919906</td>\n",
       "      <td>182_LAI</td>\n",
       "      <td>11.627392</td>\n",
       "    </tr>\n",
       "    <tr>\n",
       "      <th>1</th>\n",
       "      <td>919907</td>\n",
       "      <td>182_LAI</td>\n",
       "      <td>23.171727</td>\n",
       "    </tr>\n",
       "    <tr>\n",
       "      <th>2</th>\n",
       "      <td>919908</td>\n",
       "      <td>182_LAI</td>\n",
       "      <td>14.705968</td>\n",
       "    </tr>\n",
       "  </tbody>\n",
       "</table>\n",
       "</div>"
      ],
      "text/plain": [
       "   grid_index   metric      value\n",
       "0      919906  182_LAI  11.627392\n",
       "1      919907  182_LAI  23.171727\n",
       "2      919908  182_LAI  14.705968"
      ]
     },
     "execution_count": 59,
     "metadata": {},
     "output_type": "execute_result"
    }
   ],
   "source": [
    "# extract the correct band names / columns\n",
    "band_names = ['LAI', 'MNDWI']\n",
    "regex_p = '|'.join(band_names) # regex pattern for melting columns\n",
    "metrics_cols = [col for col in s2_stats.columns if 'LAI' or 'MNDWI' in col]\n",
    "print(f\"[{len(metrics_cols)}] total metrics columns selected for melting:\\n\")\n",
    "# do the melt\n",
    "s2_stats_l = s2_stats.melt(\n",
    "    id_vars=['grid_index'], \n",
    "    value_vars=metrics_cols, \n",
    "    var_name='metric', \n",
    "    value_name='value'\n",
    ")\n",
    "s2_stats_l.head(3)"
   ]
  },
  {
   "cell_type": "code",
   "execution_count": 60,
   "id": "f081ce5e-afe0-4f3a-a40d-69690e6c5b9f",
   "metadata": {},
   "outputs": [
    {
     "data": {
      "text/plain": [
       "array(['LAI', 'MNDWI'], dtype=object)"
      ]
     },
     "execution_count": 60,
     "metadata": {},
     "output_type": "execute_result"
    }
   ],
   "source": [
    "# gather the forest type code\n",
    "s2_stats_l['FORTYPCD'] = s2_stats_l['metric'].str.extract(r'^(\\d+)_')[0].astype(int)\n",
    "s2_stats_l['metric'] = s2_stats_l['metric'].str.extract(f'({regex_p})')[0]\n",
    "s2_stats_l = s2_stats_l[['grid_index','FORTYPCD','metric','value']]\n",
    "s2_stats_l.dropna(subset=['value'], inplace=True) # drop NaNs\n",
    "s2_stats_l['metric'].unique()"
   ]
  },
  {
   "cell_type": "code",
   "execution_count": 61,
   "id": "0fdf2d67-e688-41f0-8a2b-fd4fc81e212c",
   "metadata": {},
   "outputs": [
    {
     "data": {
      "text/html": [
       "<div>\n",
       "<style scoped>\n",
       "    .dataframe tbody tr th:only-of-type {\n",
       "        vertical-align: middle;\n",
       "    }\n",
       "\n",
       "    .dataframe tbody tr th {\n",
       "        vertical-align: top;\n",
       "    }\n",
       "\n",
       "    .dataframe thead th {\n",
       "        text-align: right;\n",
       "    }\n",
       "</style>\n",
       "<table border=\"1\" class=\"dataframe\">\n",
       "  <thead>\n",
       "    <tr style=\"text-align: right;\">\n",
       "      <th>metric</th>\n",
       "      <th>grid_index</th>\n",
       "      <th>FORTYPCD</th>\n",
       "      <th>LAI</th>\n",
       "      <th>MNDWI</th>\n",
       "    </tr>\n",
       "  </thead>\n",
       "  <tbody>\n",
       "    <tr>\n",
       "      <th>0</th>\n",
       "      <td>184440</td>\n",
       "      <td>184</td>\n",
       "      <td>4.160584</td>\n",
       "      <td>-0.337317</td>\n",
       "    </tr>\n",
       "    <tr>\n",
       "      <th>1</th>\n",
       "      <td>184440</td>\n",
       "      <td>185</td>\n",
       "      <td>3.877289</td>\n",
       "      <td>-0.330565</td>\n",
       "    </tr>\n",
       "    <tr>\n",
       "      <th>2</th>\n",
       "      <td>184441</td>\n",
       "      <td>184</td>\n",
       "      <td>4.178842</td>\n",
       "      <td>-0.347588</td>\n",
       "    </tr>\n",
       "    <tr>\n",
       "      <th>3</th>\n",
       "      <td>184441</td>\n",
       "      <td>185</td>\n",
       "      <td>2.806872</td>\n",
       "      <td>-0.319999</td>\n",
       "    </tr>\n",
       "    <tr>\n",
       "      <th>4</th>\n",
       "      <td>184442</td>\n",
       "      <td>184</td>\n",
       "      <td>4.941823</td>\n",
       "      <td>-0.429279</td>\n",
       "    </tr>\n",
       "  </tbody>\n",
       "</table>\n",
       "</div>"
      ],
      "text/plain": [
       "metric  grid_index  FORTYPCD       LAI     MNDWI\n",
       "0           184440       184  4.160584 -0.337317\n",
       "1           184440       185  3.877289 -0.330565\n",
       "2           184441       184  4.178842 -0.347588\n",
       "3           184441       185  2.806872 -0.319999\n",
       "4           184442       184  4.941823 -0.429279"
      ]
     },
     "execution_count": 61,
     "metadata": {},
     "output_type": "execute_result"
    }
   ],
   "source": [
    "# pivot longer the get metrics as columns\n",
    "s2_stats_lp = s2_stats_l.pivot_table(index=['grid_index', 'FORTYPCD'], columns='metric', values='value')\n",
    "s2_stats_lp = s2_stats_lp.reset_index() # collapse the index\n",
    "s2_stats_lp = s2_stats_lp[['grid_index','FORTYPCD','LAI','MNDWI']]\n",
    "s2_stats_lp.head()"
   ]
  },
  {
   "cell_type": "code",
   "execution_count": null,
   "id": "3f07ec40-b33b-47d1-b268-faf859d8de42",
   "metadata": {},
   "outputs": [],
   "source": []
  },
  {
   "cell_type": "code",
   "execution_count": null,
   "id": "fda48842-d721-4ba1-ae90-73ec55ecafd9",
   "metadata": {},
   "outputs": [],
   "source": []
  },
  {
   "cell_type": "code",
   "execution_count": null,
   "id": "65da8a76-f04e-4627-98a2-4bb6fd3147c5",
   "metadata": {},
   "outputs": [],
   "source": [
    "# Merge the TreeMap metrics with the Sentinel-2 metrics\n",
    "# Merge to the FRP grid"
   ]
  },
  {
   "cell_type": "code",
   "execution_count": 65,
   "id": "a972739f-e69c-4e04-98a9-bbd66ebad0ac",
   "metadata": {},
   "outputs": [
    {
     "name": "stdout",
     "output_type": "stream",
     "text": [
      "Index(['grid_index', 'FORTYPCD', 'SpeciesName', 'count', 'forest_pix',\n",
      "       'total_pixels', 'spp_pct', 'forest_pct', 'BALIVE', 'SDIPCT', 'STANDHT',\n",
      "       'TPA_DEAD', 'TPA_LIVE', 'LAI', 'MNDWI'],\n",
      "      dtype='object')\n"
     ]
    },
    {
     "data": {
      "text/plain": [
       "array(['Pinon-juniper woodland', 'Deciduous oak woodland',\n",
       "       'Ponderosa pine', 'Douglas-fir', 'Spruce-fir', 'Aspen',\n",
       "       'Lodgepole pine'], dtype=object)"
      ]
     },
     "execution_count": 65,
     "metadata": {},
     "output_type": "execute_result"
    }
   ],
   "source": [
    "# Join to the FORTYPCD dataframe by grid index and FORTYPCD\n",
    "treemap_df = fortyp_df.merge(tm_stats_lp, on=['grid_index','FORTYPCD'], how='left')\n",
    "treemap_df = treemap_df.merge(s2_stats_lp, on=['grid_index','FORTYPCD'], how='left')\n",
    "\n",
    "# Make sure we're just keeping our 97% landscape fraction forest types\n",
    "treemap_df = treemap_df[treemap_df['SpeciesName'].isin(top_species['SpeciesName'].unique())]\n",
    "\n",
    "print(treemap_df.columns)\n",
    "treemap_df['SpeciesName'].unique()"
   ]
  },
  {
   "cell_type": "code",
   "execution_count": 67,
   "id": "1fea8936-7fda-4cc1-b16b-b1149dd6ffdf",
   "metadata": {},
   "outputs": [
    {
     "data": {
      "text/html": [
       "<div>\n",
       "<style scoped>\n",
       "    .dataframe tbody tr th:only-of-type {\n",
       "        vertical-align: middle;\n",
       "    }\n",
       "\n",
       "    .dataframe tbody tr th {\n",
       "        vertical-align: top;\n",
       "    }\n",
       "\n",
       "    .dataframe thead th {\n",
       "        text-align: right;\n",
       "    }\n",
       "</style>\n",
       "<table border=\"1\" class=\"dataframe\">\n",
       "  <thead>\n",
       "    <tr style=\"text-align: right;\">\n",
       "      <th></th>\n",
       "      <th>grid_index</th>\n",
       "      <th>FORTYPCD</th>\n",
       "      <th>SpeciesName</th>\n",
       "      <th>count</th>\n",
       "      <th>forest_pix</th>\n",
       "      <th>total_pixels</th>\n",
       "      <th>spp_pct</th>\n",
       "      <th>forest_pct</th>\n",
       "      <th>BALIVE</th>\n",
       "      <th>SDIPCT</th>\n",
       "      <th>STANDHT</th>\n",
       "      <th>TPA_DEAD</th>\n",
       "      <th>TPA_LIVE</th>\n",
       "      <th>LAI</th>\n",
       "      <th>MNDWI</th>\n",
       "    </tr>\n",
       "  </thead>\n",
       "  <tbody>\n",
       "    <tr>\n",
       "      <th>0</th>\n",
       "      <td>184440</td>\n",
       "      <td>184</td>\n",
       "      <td>Pinon-juniper woodland</td>\n",
       "      <td>15.968627</td>\n",
       "      <td>139.631373</td>\n",
       "      <td>199.756863</td>\n",
       "      <td>11.436275</td>\n",
       "      <td>69.900664</td>\n",
       "      <td>28.642924</td>\n",
       "      <td>12.543885</td>\n",
       "      <td>12.183448</td>\n",
       "      <td>6.018046</td>\n",
       "      <td>36.084544</td>\n",
       "      <td>4.160584</td>\n",
       "      <td>-0.337317</td>\n",
       "    </tr>\n",
       "    <tr>\n",
       "      <th>1</th>\n",
       "      <td>184440</td>\n",
       "      <td>185</td>\n",
       "      <td>Pinon-juniper woodland</td>\n",
       "      <td>123.662745</td>\n",
       "      <td>139.631373</td>\n",
       "      <td>199.756863</td>\n",
       "      <td>88.563725</td>\n",
       "      <td>69.900664</td>\n",
       "      <td>46.993341</td>\n",
       "      <td>18.682264</td>\n",
       "      <td>15.118729</td>\n",
       "      <td>12.178753</td>\n",
       "      <td>141.248148</td>\n",
       "      <td>3.877289</td>\n",
       "      <td>-0.330565</td>\n",
       "    </tr>\n",
       "    <tr>\n",
       "      <th>2</th>\n",
       "      <td>184441</td>\n",
       "      <td>185</td>\n",
       "      <td>Pinon-juniper woodland</td>\n",
       "      <td>114.670588</td>\n",
       "      <td>118.909804</td>\n",
       "      <td>199.482353</td>\n",
       "      <td>96.434932</td>\n",
       "      <td>59.609185</td>\n",
       "      <td>42.539495</td>\n",
       "      <td>13.172204</td>\n",
       "      <td>14.513560</td>\n",
       "      <td>20.458040</td>\n",
       "      <td>36.200890</td>\n",
       "      <td>2.806872</td>\n",
       "      <td>-0.319999</td>\n",
       "    </tr>\n",
       "  </tbody>\n",
       "</table>\n",
       "</div>"
      ],
      "text/plain": [
       "   grid_index  FORTYPCD             SpeciesName       count  forest_pix  \\\n",
       "0      184440       184  Pinon-juniper woodland   15.968627  139.631373   \n",
       "1      184440       185  Pinon-juniper woodland  123.662745  139.631373   \n",
       "2      184441       185  Pinon-juniper woodland  114.670588  118.909804   \n",
       "\n",
       "   total_pixels    spp_pct  forest_pct     BALIVE     SDIPCT    STANDHT  \\\n",
       "0    199.756863  11.436275   69.900664  28.642924  12.543885  12.183448   \n",
       "1    199.756863  88.563725   69.900664  46.993341  18.682264  15.118729   \n",
       "2    199.482353  96.434932   59.609185  42.539495  13.172204  14.513560   \n",
       "\n",
       "    TPA_DEAD    TPA_LIVE       LAI     MNDWI  \n",
       "0   6.018046   36.084544  4.160584 -0.337317  \n",
       "1  12.178753  141.248148  3.877289 -0.330565  \n",
       "2  20.458040   36.200890  2.806872 -0.319999  "
      ]
     },
     "execution_count": 67,
     "metadata": {},
     "output_type": "execute_result"
    }
   ],
   "source": [
    "treemap_df.head(3)"
   ]
  },
  {
   "cell_type": "code",
   "execution_count": 69,
   "id": "bd0c8e80-d603-4e53-b4f6-b183b1d69065",
   "metadata": {},
   "outputs": [
    {
     "name": "stdout",
     "output_type": "stream",
     "text": [
      "Saved file to: /Users/max/Library/CloudStorage/OneDrive-Personal/mcook/aspen-fire/Aim2/data/tabular/mod/viirs_snpp_jpss1_gridstats_treemap-s2.csv\n"
     ]
    }
   ],
   "source": [
    "# save the TreeMap table out.\n",
    "out_fp = os.path.join(projdir,'tabular/mod/viirs_snpp_jpss1_gridstats_treemap-s2.csv')\n",
    "treemap_df.to_csv(out_fp)\n",
    "print(f\"Saved file to: {out_fp}\")"
   ]
  },
  {
   "cell_type": "code",
   "execution_count": null,
   "id": "a3f12201-943b-4a14-b766-f83c32047346",
   "metadata": {},
   "outputs": [],
   "source": []
  },
  {
   "cell_type": "code",
   "execution_count": null,
   "id": "4e002cab-46dd-497f-bc2b-53c287072850",
   "metadata": {},
   "outputs": [],
   "source": []
  },
  {
   "cell_type": "code",
   "execution_count": null,
   "id": "9b6df274-be47-4053-812d-fad460358536",
   "metadata": {},
   "outputs": [],
   "source": []
  },
  {
   "cell_type": "code",
   "execution_count": null,
   "id": "cc2d0d4f-9547-49b7-a2b9-8e8b23300e02",
   "metadata": {},
   "outputs": [],
   "source": [
    "# Identify the dominant forest type for each gridcell\n",
    "# Subset to forested gridcells (>50%)"
   ]
  },
  {
   "cell_type": "code",
   "execution_count": 77,
   "id": "29fcdc4b-c34a-420e-9d2a-7c32b6f109cd",
   "metadata": {},
   "outputs": [
    {
     "name": "stdout",
     "output_type": "stream",
     "text": [
      "['Aspen' 'Spruce-fir' 'Douglas-fir' 'Ponderosa pine' 'Lodgepole pine'\n",
      " 'Deciduous oak woodland' 'Pinon-juniper woodland']\n"
     ]
    },
    {
     "data": {
      "text/html": [
       "<div>\n",
       "<style scoped>\n",
       "    .dataframe tbody tr th:only-of-type {\n",
       "        vertical-align: middle;\n",
       "    }\n",
       "\n",
       "    .dataframe tbody tr th {\n",
       "        vertical-align: top;\n",
       "    }\n",
       "\n",
       "    .dataframe thead th {\n",
       "        text-align: right;\n",
       "    }\n",
       "</style>\n",
       "<table border=\"1\" class=\"dataframe\">\n",
       "  <thead>\n",
       "    <tr style=\"text-align: right;\">\n",
       "      <th></th>\n",
       "      <th>grid_index</th>\n",
       "      <th>FORTYPCD</th>\n",
       "      <th>SpeciesName</th>\n",
       "      <th>count</th>\n",
       "      <th>forest_pix</th>\n",
       "      <th>total_pixels</th>\n",
       "      <th>spp_pct</th>\n",
       "      <th>forest_pct</th>\n",
       "      <th>BALIVE</th>\n",
       "      <th>SDIPCT</th>\n",
       "      <th>STANDHT</th>\n",
       "      <th>TPA_DEAD</th>\n",
       "      <th>TPA_LIVE</th>\n",
       "      <th>LAI</th>\n",
       "      <th>MNDWI</th>\n",
       "    </tr>\n",
       "  </thead>\n",
       "  <tbody>\n",
       "    <tr>\n",
       "      <th>1</th>\n",
       "      <td>184440</td>\n",
       "      <td>185</td>\n",
       "      <td>Pinon-juniper woodland</td>\n",
       "      <td>123.662745</td>\n",
       "      <td>139.631373</td>\n",
       "      <td>199.756863</td>\n",
       "      <td>88.563725</td>\n",
       "      <td>69.900664</td>\n",
       "      <td>46.993341</td>\n",
       "      <td>18.682264</td>\n",
       "      <td>15.118729</td>\n",
       "      <td>12.178753</td>\n",
       "      <td>141.248148</td>\n",
       "      <td>3.877289</td>\n",
       "      <td>-0.330565</td>\n",
       "    </tr>\n",
       "    <tr>\n",
       "      <th>2</th>\n",
       "      <td>184441</td>\n",
       "      <td>185</td>\n",
       "      <td>Pinon-juniper woodland</td>\n",
       "      <td>114.670588</td>\n",
       "      <td>118.909804</td>\n",
       "      <td>199.482353</td>\n",
       "      <td>96.434932</td>\n",
       "      <td>59.609185</td>\n",
       "      <td>42.539495</td>\n",
       "      <td>13.172204</td>\n",
       "      <td>14.513560</td>\n",
       "      <td>20.458040</td>\n",
       "      <td>36.200890</td>\n",
       "      <td>2.806872</td>\n",
       "      <td>-0.319999</td>\n",
       "    </tr>\n",
       "    <tr>\n",
       "      <th>7</th>\n",
       "      <td>186704</td>\n",
       "      <td>185</td>\n",
       "      <td>Pinon-juniper woodland</td>\n",
       "      <td>141.380392</td>\n",
       "      <td>186.160784</td>\n",
       "      <td>199.756863</td>\n",
       "      <td>75.945314</td>\n",
       "      <td>93.193686</td>\n",
       "      <td>45.904605</td>\n",
       "      <td>16.259281</td>\n",
       "      <td>15.216299</td>\n",
       "      <td>14.952306</td>\n",
       "      <td>85.357366</td>\n",
       "      <td>4.402145</td>\n",
       "      <td>-0.349371</td>\n",
       "    </tr>\n",
       "    <tr>\n",
       "      <th>8</th>\n",
       "      <td>186705</td>\n",
       "      <td>185</td>\n",
       "      <td>Pinon-juniper woodland</td>\n",
       "      <td>106.592157</td>\n",
       "      <td>106.592157</td>\n",
       "      <td>199.486275</td>\n",
       "      <td>100.000000</td>\n",
       "      <td>53.433329</td>\n",
       "      <td>41.706946</td>\n",
       "      <td>12.896862</td>\n",
       "      <td>14.031382</td>\n",
       "      <td>24.072184</td>\n",
       "      <td>30.090231</td>\n",
       "      <td>2.851846</td>\n",
       "      <td>-0.368354</td>\n",
       "    </tr>\n",
       "    <tr>\n",
       "      <th>14</th>\n",
       "      <td>188968</td>\n",
       "      <td>185</td>\n",
       "      <td>Pinon-juniper woodland</td>\n",
       "      <td>103.623529</td>\n",
       "      <td>106.094118</td>\n",
       "      <td>200.027451</td>\n",
       "      <td>97.671324</td>\n",
       "      <td>53.039779</td>\n",
       "      <td>43.367618</td>\n",
       "      <td>15.829246</td>\n",
       "      <td>14.177604</td>\n",
       "      <td>15.501565</td>\n",
       "      <td>89.237499</td>\n",
       "      <td>3.209386</td>\n",
       "      <td>-0.369916</td>\n",
       "    </tr>\n",
       "  </tbody>\n",
       "</table>\n",
       "</div>"
      ],
      "text/plain": [
       "    grid_index  FORTYPCD             SpeciesName       count  forest_pix  \\\n",
       "1       184440       185  Pinon-juniper woodland  123.662745  139.631373   \n",
       "2       184441       185  Pinon-juniper woodland  114.670588  118.909804   \n",
       "7       186704       185  Pinon-juniper woodland  141.380392  186.160784   \n",
       "8       186705       185  Pinon-juniper woodland  106.592157  106.592157   \n",
       "14      188968       185  Pinon-juniper woodland  103.623529  106.094118   \n",
       "\n",
       "    total_pixels     spp_pct  forest_pct     BALIVE     SDIPCT    STANDHT  \\\n",
       "1     199.756863   88.563725   69.900664  46.993341  18.682264  15.118729   \n",
       "2     199.482353   96.434932   59.609185  42.539495  13.172204  14.513560   \n",
       "7     199.756863   75.945314   93.193686  45.904605  16.259281  15.216299   \n",
       "8     199.486275  100.000000   53.433329  41.706946  12.896862  14.031382   \n",
       "14    200.027451   97.671324   53.039779  43.367618  15.829246  14.177604   \n",
       "\n",
       "     TPA_DEAD    TPA_LIVE       LAI     MNDWI  \n",
       "1   12.178753  141.248148  3.877289 -0.330565  \n",
       "2   20.458040   36.200890  2.806872 -0.319999  \n",
       "7   14.952306   85.357366  4.402145 -0.349371  \n",
       "8   24.072184   30.090231  2.851846 -0.368354  \n",
       "14  15.501565   89.237499  3.209386 -0.369916  "
      ]
     },
     "execution_count": 77,
     "metadata": {},
     "output_type": "execute_result"
    }
   ],
   "source": [
    "dtree = treemap_df.loc[treemap_df.groupby('grid_index')['spp_pct'].idxmax()]\n",
    "dtree = dtree[dtree['SpeciesName'].isin(top_species['SpeciesName'].unique())]\n",
    "dtree = dtree[dtree['forest_pct'] > 50] # greater than 50% forested\n",
    "print(grid_dtree['SpeciesName'].unique())\n",
    "dtree.head()"
   ]
  },
  {
   "cell_type": "code",
   "execution_count": 78,
   "id": "7a717679-ba54-4f0a-83c7-030fdd712bc5",
   "metadata": {},
   "outputs": [
    {
     "name": "stdout",
     "output_type": "stream",
     "text": [
      "Index(['grid_index', 'grid_area', 'afd_count', 'frp_csum', 'frp_max',\n",
      "       'frp_min', 'day_max_frp', 'dt_max_frp', 'first_obs_date',\n",
      "       'last_obs_date', 'frp_max_day', 'frp_max_night', 'Fire_ID', 'Fire_Name',\n",
      "       'geometry', 'FORTYPCD', 'SpeciesName', 'count', 'forest_pix',\n",
      "       'total_pixels', 'spp_pct', 'forest_pct', 'BALIVE', 'SDIPCT', 'STANDHT',\n",
      "       'TPA_DEAD', 'TPA_LIVE', 'LAI', 'MNDWI'],\n",
      "      dtype='object')\n"
     ]
    }
   ],
   "source": [
    "# merge to the FRP gridcells\n",
    "grid_dtree = grid.merge(dtree, on='grid_index', how='inner')\n",
    "print(grid_dtree.columns)"
   ]
  },
  {
   "cell_type": "code",
   "execution_count": 81,
   "id": "34731e3f-6d32-4f8d-8a1a-44b733400592",
   "metadata": {},
   "outputs": [
    {
     "name": "stdout",
     "output_type": "stream",
     "text": [
      "Maximum FRP distribution:\n",
      " count    42407.000000\n",
      "mean        25.266882\n",
      "std         39.355467\n",
      "min          0.000000\n",
      "25%          2.662166\n",
      "50%         10.346074\n",
      "75%         31.572427\n",
      "max        867.966106\n",
      "Name: frp_max, dtype: float64\n",
      "\n",
      "Cumulative FRP distribution:\n",
      " count    42407.000000\n",
      "mean        52.936068\n",
      "std         70.173100\n",
      "min          0.000000\n",
      "25%          5.834859\n",
      "50%         25.048577\n",
      "75%         73.103317\n",
      "max        870.865290\n",
      "Name: frp_csum, dtype: float64\n",
      "\n"
     ]
    }
   ],
   "source": [
    "# plot the distribution of FRP max and cumulative\n",
    "print(f\"Maximum FRP distribution:\\n {grid_dtree['frp_max'].describe()}\\n\")\n",
    "print(f\"Cumulative FRP distribution:\\n {grid_dtree['frp_csum'].describe()}\\n\")"
   ]
  },
  {
   "cell_type": "code",
   "execution_count": 84,
   "id": "adf7c504-2605-439b-b9eb-10eefb2e3d55",
   "metadata": {},
   "outputs": [
    {
     "name": "stdout",
     "output_type": "stream",
     "text": [
      "Dropping [23] gridcells w/ 0 FRP.\n"
     ]
    }
   ],
   "source": [
    "# drop any 0 FRP gridcells\n",
    "print(f\"Dropping [{len(grid_dtree[grid_dtree['frp_max'] == 0])}] gridcells w/ 0 FRP.\")\n",
    "grid_dtree = grid_dtree[grid_dtree['frp_max'] > 0]"
   ]
  },
  {
   "cell_type": "code",
   "execution_count": 113,
   "id": "6b985cd0-5a1a-4f08-8357-e1fb82adfcdf",
   "metadata": {},
   "outputs": [
    {
     "data": {
      "image/png": "[encoded data removed]",
      "text/plain": [
       "<Figure size 800x600 with 1 Axes>"
      ]
     },
     "metadata": {},
     "output_type": "display_data"
    }
   ],
   "source": [
    "# Plot FRP by EVT group name\n",
    "# Find the median and sort the evt classes\n",
    "med = grid_dtree.groupby('SpeciesName')['frp_max'].median().sort_values(ascending=False)\n",
    "sorted = med.index.tolist()\n",
    "\n",
    "grid_dtree['frp_max_adj'] = grid_dtree['frp_max'] + 1\n",
    "grid_dtree['frp_csum_adj'] = grid_dtree['frp_csum'] + 1\n",
    "\n",
    "plt.figure(figsize=(8, 6)) \n",
    "\n",
    "sns.boxplot(\n",
    "    data=grid_dtree, \n",
    "    x='frp_max_adj', \n",
    "    y='SpeciesName', \n",
    "    order=sorted, \n",
    "    palette='coolwarm_r', \n",
    "    dodge=False)\n",
    "\n",
    "plt.xscale('log')\n",
    "\n",
    "plt.xlabel('Fire Radiative Power (FRP)')\n",
    "plt.ylabel('Dominant Tree Species')\n",
    "\n",
    "plt.tight_layout()\n",
    "plt.show()"
   ]
  },
  {
   "cell_type": "code",
   "execution_count": null,
   "id": "1f4a6c46-f06c-4ea5-899f-6636f50e758f",
   "metadata": {},
   "outputs": [],
   "source": [
    "# plot total detections by forest type"
   ]
  },
  {
   "cell_type": "code",
   "execution_count": 87,
   "id": "fa202113-9d8a-4961-a4f4-b13917ea8a39",
   "metadata": {},
   "outputs": [
    {
     "data": {
      "text/html": [
       "<div>\n",
       "<style scoped>\n",
       "    .dataframe tbody tr th:only-of-type {\n",
       "        vertical-align: middle;\n",
       "    }\n",
       "\n",
       "    .dataframe tbody tr th {\n",
       "        vertical-align: top;\n",
       "    }\n",
       "\n",
       "    .dataframe thead th {\n",
       "        text-align: right;\n",
       "    }\n",
       "</style>\n",
       "<table border=\"1\" class=\"dataframe\">\n",
       "  <thead>\n",
       "    <tr style=\"text-align: right;\">\n",
       "      <th></th>\n",
       "      <th>SpeciesName</th>\n",
       "      <th>afd_count</th>\n",
       "      <th>afd_prop</th>\n",
       "      <th>count</th>\n",
       "      <th>fraction</th>\n",
       "      <th>c_fraction</th>\n",
       "    </tr>\n",
       "  </thead>\n",
       "  <tbody>\n",
       "    <tr>\n",
       "      <th>0</th>\n",
       "      <td>Aspen</td>\n",
       "      <td>59927</td>\n",
       "      <td>0.127500</td>\n",
       "      <td>9.761961e+05</td>\n",
       "      <td>0.118901</td>\n",
       "      <td>0.831365</td>\n",
       "    </tr>\n",
       "    <tr>\n",
       "      <th>1</th>\n",
       "      <td>Deciduous oak woodland</td>\n",
       "      <td>2113</td>\n",
       "      <td>0.004496</td>\n",
       "      <td>1.293590e+05</td>\n",
       "      <td>0.015756</td>\n",
       "      <td>0.969896</td>\n",
       "    </tr>\n",
       "    <tr>\n",
       "      <th>2</th>\n",
       "      <td>Douglas-fir</td>\n",
       "      <td>25587</td>\n",
       "      <td>0.054438</td>\n",
       "      <td>4.726318e+05</td>\n",
       "      <td>0.057567</td>\n",
       "      <td>0.954140</td>\n",
       "    </tr>\n",
       "    <tr>\n",
       "      <th>3</th>\n",
       "      <td>Lodgepole pine</td>\n",
       "      <td>167984</td>\n",
       "      <td>0.357400</td>\n",
       "      <td>2.404623e+06</td>\n",
       "      <td>0.292883</td>\n",
       "      <td>0.292883</td>\n",
       "    </tr>\n",
       "    <tr>\n",
       "      <th>4</th>\n",
       "      <td>Pinon-juniper woodland</td>\n",
       "      <td>16932</td>\n",
       "      <td>0.036024</td>\n",
       "      <td>5.353721e+05</td>\n",
       "      <td>0.065208</td>\n",
       "      <td>0.896573</td>\n",
       "    </tr>\n",
       "    <tr>\n",
       "      <th>5</th>\n",
       "      <td>Ponderosa pine</td>\n",
       "      <td>102888</td>\n",
       "      <td>0.218903</td>\n",
       "      <td>1.653589e+06</td>\n",
       "      <td>0.201407</td>\n",
       "      <td>0.712464</td>\n",
       "    </tr>\n",
       "    <tr>\n",
       "      <th>6</th>\n",
       "      <td>Spruce-fir</td>\n",
       "      <td>94586</td>\n",
       "      <td>0.201240</td>\n",
       "      <td>1.791250e+06</td>\n",
       "      <td>0.218174</td>\n",
       "      <td>0.511057</td>\n",
       "    </tr>\n",
       "  </tbody>\n",
       "</table>\n",
       "</div>"
      ],
      "text/plain": [
       "              SpeciesName  afd_count  afd_prop         count  fraction  \\\n",
       "0                   Aspen      59927  0.127500  9.761961e+05  0.118901   \n",
       "1  Deciduous oak woodland       2113  0.004496  1.293590e+05  0.015756   \n",
       "2             Douglas-fir      25587  0.054438  4.726318e+05  0.057567   \n",
       "3          Lodgepole pine     167984  0.357400  2.404623e+06  0.292883   \n",
       "4  Pinon-juniper woodland      16932  0.036024  5.353721e+05  0.065208   \n",
       "5          Ponderosa pine     102888  0.218903  1.653589e+06  0.201407   \n",
       "6              Spruce-fir      94586  0.201240  1.791250e+06  0.218174   \n",
       "\n",
       "   c_fraction  \n",
       "0    0.831365  \n",
       "1    0.969896  \n",
       "2    0.954140  \n",
       "3    0.292883  \n",
       "4    0.896573  \n",
       "5    0.712464  \n",
       "6    0.511057  "
      ]
     },
     "execution_count": 87,
     "metadata": {},
     "output_type": "execute_result"
    }
   ],
   "source": [
    "total_afd = grid_dtree['afd_count'].sum() # total afd counts\n",
    "# proportional counts\n",
    "afd_props = (\n",
    "    grid_dtree.groupby('SpeciesName')['afd_count']\n",
    "    .sum()\n",
    "    .reset_index(name='afd_count')\n",
    ")\n",
    "afd_props['afd_prop'] = afd_props['afd_count'] / total_afd\n",
    "# merge with the species prevalence\n",
    "afd_props_spp = pd.merge(afd_props, spp_prevalence, on='SpeciesName', how='inner')\n",
    "afd_props_spp.head(7)"
   ]
  },
  {
   "cell_type": "code",
   "execution_count": 92,
   "id": "4401ba82-63f7-4fc6-970f-88d1160db11e",
   "metadata": {},
   "outputs": [
    {
     "data": {
      "image/png": "[encoded data removed]",
      "text/plain": [
       "<Figure size 800x500 with 1 Axes>"
      ]
     },
     "metadata": {},
     "output_type": "display_data"
    }
   ],
   "source": [
    "# plot the difference between landscape fraction and afd\n",
    "plt.figure(figsize=(8, 5))\n",
    "sns.barplot(\n",
    "    data=afd_props_spp.melt(\n",
    "        id_vars='SpeciesName',\n",
    "        value_vars=['afd_prop', 'fraction'],\n",
    "        var_name='Proportion Type',\n",
    "        value_name='Proportion'\n",
    "    ),\n",
    "    x='SpeciesName',\n",
    "    y='Proportion',\n",
    "    hue='Proportion Type',\n",
    "    palette='viridis'\n",
    ")\n",
    "\n",
    "plt.title('Proportion of Fire Detections vs. Landscape Proportion by Species')\n",
    "plt.xlabel('Dominant Tree Species')\n",
    "plt.ylabel('Proportion')\n",
    "plt.xticks(rotation=45, ha='right')\n",
    "plt.legend(title='Proportion Type')\n",
    "plt.tight_layout()\n",
    "plt.show()"
   ]
  },
  {
   "cell_type": "code",
   "execution_count": null,
   "id": "2dd94b6e-f370-40bb-a953-4cacdbfe149f",
   "metadata": {},
   "outputs": [],
   "source": []
  },
  {
   "cell_type": "code",
   "execution_count": null,
   "id": "3b584eb8-b017-4f27-82c0-b5e5228ee16a",
   "metadata": {},
   "outputs": [],
   "source": []
  },
  {
   "cell_type": "code",
   "execution_count": null,
   "id": "543e85a7-aea3-4e15-acc6-17b42e302580",
   "metadata": {},
   "outputs": [],
   "source": []
  },
  {
   "cell_type": "markdown",
   "id": "03d72f03-2289-44db-8e59-c68741913e4d",
   "metadata": {},
   "source": [
    "## LANDFIRE Existing Vegetation Type (EVT) c.a. 2016"
   ]
  },
  {
   "cell_type": "code",
   "execution_count": 93,
   "id": "96056a4e-e9f7-4af5-b7cf-a2b5aea24e0b",
   "metadata": {},
   "outputs": [
    {
     "name": "stdout",
     "output_type": "stream",
     "text": [
      "Shape: (97283, 154207); \n",
      "GeoTransform: -2362425.0 30.0 0.0 3177435.0 0.0 -30.0; \n",
      "WKT: EPSG:5070; \n",
      "NoData Value: nan; \n",
      "Data Type: float32\n"
     ]
    },
    {
     "data": {
      "text/plain": [
       "38311"
      ]
     },
     "execution_count": 93,
     "metadata": {},
     "output_type": "execute_result"
    }
   ],
   "source": [
    "fp = os.path.join(maindir,'data/landcover/LANDFIRE/LF2016_EVT_200_CONUS/Tif/LC16_EVT_200.tif')\n",
    "evt_da = rxr.open_rasterio(fp, masked=True, cache=False, chunks='auto').squeeze()\n",
    "shp, gt, wkt, nd = evt_da.shape, evt_da.spatial_ref.GeoTransform, evt_da.rio.crs, evt_da.rio.nodata\n",
    "print(\n",
    "    f\"Shape: {shp}; \\n\"\n",
    "    f\"GeoTransform: {gt}; \\n\"\n",
    "    f\"WKT: {wkt}; \\n\"\n",
    "    f\"NoData Value: {nd}; \\n\"\n",
    "    f\"Data Type: {evt_da[0].dtype}\")\n",
    "gc.collect()"
   ]
  },
  {
   "cell_type": "code",
   "execution_count": 94,
   "id": "29e40e01-088e-4c61-9041-36bc31d2ab6c",
   "metadata": {},
   "outputs": [
    {
     "data": {
      "text/plain": [
       "5527"
      ]
     },
     "execution_count": 94,
     "metadata": {},
     "output_type": "execute_result"
    }
   ],
   "source": [
    "evt_da_crop = evt_da.rio.clip_box(\n",
    "    minx=bounds[0]+1000, # +1000 meters for a small buffer\n",
    "    miny=bounds[1]+1000, \n",
    "    maxx=bounds[2]+1000, \n",
    "    maxy=bounds[3]+1000\n",
    ")\n",
    "del evt_da\n",
    "gc.collect()"
   ]
  },
  {
   "cell_type": "code",
   "execution_count": 95,
   "id": "bbfff329-c537-4b0d-bbc4-4cf286c3bccc",
   "metadata": {},
   "outputs": [
    {
     "name": "stdout",
     "output_type": "stream",
     "text": [
      "Total elapsed time: 0.39 minutes.\n",
      "\n",
      "~~~~~~~~~~\n",
      "\n"
     ]
    }
   ],
   "source": [
    "t0 = time.time()\n",
    "\n",
    "# Get the proportional landcover\n",
    "grid_evt = compute_band_stats(\n",
    "    geoms=grid[['grid_index','geometry']], \n",
    "    image_da=evt_da_crop, \n",
    "    id_col='grid_index'\n",
    ")\n",
    "\n",
    "t1 = (time.time() - t0) / 60\n",
    "print(f\"Total elapsed time: {t1:.2f} minutes.\")\n",
    "print(\"\\n~~~~~~~~~~\\n\")"
   ]
  },
  {
   "cell_type": "code",
   "execution_count": 96,
   "id": "4ff92d78-79f9-425e-a7b9-990c0c1682dc",
   "metadata": {},
   "outputs": [
    {
     "data": {
      "text/html": [
       "<div>\n",
       "<style scoped>\n",
       "    .dataframe tbody tr th:only-of-type {\n",
       "        vertical-align: middle;\n",
       "    }\n",
       "\n",
       "    .dataframe tbody tr th {\n",
       "        vertical-align: top;\n",
       "    }\n",
       "\n",
       "    .dataframe thead th {\n",
       "        text-align: right;\n",
       "    }\n",
       "</style>\n",
       "<table border=\"1\" class=\"dataframe\">\n",
       "  <thead>\n",
       "    <tr style=\"text-align: right;\">\n",
       "      <th></th>\n",
       "      <th>grid_index</th>\n",
       "      <th>evt</th>\n",
       "      <th>count</th>\n",
       "      <th>total_pixels</th>\n",
       "      <th>pct_cover</th>\n",
       "    </tr>\n",
       "  </thead>\n",
       "  <tbody>\n",
       "    <tr>\n",
       "      <th>0</th>\n",
       "      <td>822559</td>\n",
       "      <td>7011</td>\n",
       "      <td>67.0</td>\n",
       "      <td>169.0</td>\n",
       "      <td>39.644970</td>\n",
       "    </tr>\n",
       "    <tr>\n",
       "      <th>1</th>\n",
       "      <td>822559</td>\n",
       "      <td>7051</td>\n",
       "      <td>4.0</td>\n",
       "      <td>169.0</td>\n",
       "      <td>2.366864</td>\n",
       "    </tr>\n",
       "    <tr>\n",
       "      <th>2</th>\n",
       "      <td>822559</td>\n",
       "      <td>7052</td>\n",
       "      <td>2.0</td>\n",
       "      <td>169.0</td>\n",
       "      <td>1.183432</td>\n",
       "    </tr>\n",
       "    <tr>\n",
       "      <th>3</th>\n",
       "      <td>822559</td>\n",
       "      <td>7055</td>\n",
       "      <td>28.0</td>\n",
       "      <td>169.0</td>\n",
       "      <td>16.568047</td>\n",
       "    </tr>\n",
       "    <tr>\n",
       "      <th>4</th>\n",
       "      <td>822559</td>\n",
       "      <td>7056</td>\n",
       "      <td>10.0</td>\n",
       "      <td>169.0</td>\n",
       "      <td>5.917160</td>\n",
       "    </tr>\n",
       "  </tbody>\n",
       "</table>\n",
       "</div>"
      ],
      "text/plain": [
       "   grid_index   evt  count  total_pixels  pct_cover\n",
       "0      822559  7011   67.0         169.0  39.644970\n",
       "1      822559  7051    4.0         169.0   2.366864\n",
       "2      822559  7052    2.0         169.0   1.183432\n",
       "3      822559  7055   28.0         169.0  16.568047\n",
       "4      822559  7056   10.0         169.0   5.917160"
      ]
     },
     "execution_count": 96,
     "metadata": {},
     "output_type": "execute_result"
    }
   ],
   "source": [
    "grid_evt.head()"
   ]
  },
  {
   "cell_type": "code",
   "execution_count": 97,
   "id": "e1c6b1dc-e9b9-401a-873c-0525a4ff3fad",
   "metadata": {},
   "outputs": [
    {
     "name": "stdout",
     "output_type": "stream",
     "text": [
      "Index(['VALUE', 'EVT_NAME', 'LFRDB', 'EVT_FUEL', 'EVT_FUEL_N', 'EVT_LF',\n",
      "       'EVT_PHYS', 'EVT_GP', 'EVT_GP_N', 'SAF_SRM', 'EVT_ORDER', 'EVT_CLASS',\n",
      "       'EVT_SBCLS', 'R', 'G', 'B', 'RED', 'GREEN', 'BLUE'],\n",
      "      dtype='object')\n"
     ]
    }
   ],
   "source": [
    "# Read in the lookup table for the EVT codes\n",
    "lookup = os.path.join(maindir,'data/landcover/LANDFIRE/LF2016_EVT_200_CONUS/CSV_Data/LF16_EVT_200.csv')\n",
    "lookup = pd.read_csv(lookup)\n",
    "print(lookup.columns)"
   ]
  },
  {
   "cell_type": "code",
   "execution_count": 98,
   "id": "4ebd9201-39be-49dc-bcaf-433c4d8c9963",
   "metadata": {},
   "outputs": [
    {
     "data": {
      "text/html": [
       "<div>\n",
       "<style scoped>\n",
       "    .dataframe tbody tr th:only-of-type {\n",
       "        vertical-align: middle;\n",
       "    }\n",
       "\n",
       "    .dataframe tbody tr th {\n",
       "        vertical-align: top;\n",
       "    }\n",
       "\n",
       "    .dataframe thead th {\n",
       "        text-align: right;\n",
       "    }\n",
       "</style>\n",
       "<table border=\"1\" class=\"dataframe\">\n",
       "  <thead>\n",
       "    <tr style=\"text-align: right;\">\n",
       "      <th></th>\n",
       "      <th>grid_index</th>\n",
       "      <th>evt</th>\n",
       "      <th>count</th>\n",
       "      <th>total_pixels</th>\n",
       "      <th>pct_cover</th>\n",
       "      <th>EVT_NAME</th>\n",
       "      <th>EVT_PHYS</th>\n",
       "      <th>EVT_GP_N</th>\n",
       "      <th>EVT_CLASS</th>\n",
       "      <th>EVT_SBCLS</th>\n",
       "    </tr>\n",
       "  </thead>\n",
       "  <tbody>\n",
       "    <tr>\n",
       "      <th>0</th>\n",
       "      <td>822559</td>\n",
       "      <td>7011</td>\n",
       "      <td>67.0</td>\n",
       "      <td>169.0</td>\n",
       "      <td>39.644970</td>\n",
       "      <td>Rocky Mountain Aspen Forest and Woodland</td>\n",
       "      <td>Hardwood</td>\n",
       "      <td>Aspen Forest, Woodland, and Parkland</td>\n",
       "      <td>Open tree canopy</td>\n",
       "      <td>Deciduous open tree canopy</td>\n",
       "    </tr>\n",
       "    <tr>\n",
       "      <th>1</th>\n",
       "      <td>822559</td>\n",
       "      <td>7051</td>\n",
       "      <td>4.0</td>\n",
       "      <td>169.0</td>\n",
       "      <td>2.366864</td>\n",
       "      <td>Southern Rocky Mountain Dry-Mesic Montane Mixe...</td>\n",
       "      <td>Conifer</td>\n",
       "      <td>Douglas-fir-Ponderosa Pine-Lodgepole Pine Fore...</td>\n",
       "      <td>Closed tree canopy</td>\n",
       "      <td>Evergreen closed tree canopy</td>\n",
       "    </tr>\n",
       "    <tr>\n",
       "      <th>2</th>\n",
       "      <td>822559</td>\n",
       "      <td>7052</td>\n",
       "      <td>2.0</td>\n",
       "      <td>169.0</td>\n",
       "      <td>1.183432</td>\n",
       "      <td>Southern Rocky Mountain Mesic Montane Mixed Co...</td>\n",
       "      <td>Conifer</td>\n",
       "      <td>Douglas-fir-Grand Fir-White Fir Forest and Woo...</td>\n",
       "      <td>Closed tree canopy</td>\n",
       "      <td>Evergreen closed tree canopy</td>\n",
       "    </tr>\n",
       "    <tr>\n",
       "      <th>3</th>\n",
       "      <td>822559</td>\n",
       "      <td>7055</td>\n",
       "      <td>28.0</td>\n",
       "      <td>169.0</td>\n",
       "      <td>16.568047</td>\n",
       "      <td>Rocky Mountain Subalpine Dry-Mesic Spruce-Fir ...</td>\n",
       "      <td>Conifer</td>\n",
       "      <td>Spruce-Fir Forest and Woodland</td>\n",
       "      <td>Closed tree canopy</td>\n",
       "      <td>Evergreen closed tree canopy</td>\n",
       "    </tr>\n",
       "    <tr>\n",
       "      <th>4</th>\n",
       "      <td>822559</td>\n",
       "      <td>7056</td>\n",
       "      <td>10.0</td>\n",
       "      <td>169.0</td>\n",
       "      <td>5.917160</td>\n",
       "      <td>Rocky Mountain Subalpine Mesic-Wet Spruce-Fir ...</td>\n",
       "      <td>Conifer</td>\n",
       "      <td>Spruce-Fir Forest and Woodland</td>\n",
       "      <td>Closed tree canopy</td>\n",
       "      <td>Evergreen closed tree canopy</td>\n",
       "    </tr>\n",
       "  </tbody>\n",
       "</table>\n",
       "</div>"
      ],
      "text/plain": [
       "   grid_index   evt  count  total_pixels  pct_cover  \\\n",
       "0      822559  7011   67.0         169.0  39.644970   \n",
       "1      822559  7051    4.0         169.0   2.366864   \n",
       "2      822559  7052    2.0         169.0   1.183432   \n",
       "3      822559  7055   28.0         169.0  16.568047   \n",
       "4      822559  7056   10.0         169.0   5.917160   \n",
       "\n",
       "                                            EVT_NAME  EVT_PHYS  \\\n",
       "0           Rocky Mountain Aspen Forest and Woodland  Hardwood   \n",
       "1  Southern Rocky Mountain Dry-Mesic Montane Mixe...   Conifer   \n",
       "2  Southern Rocky Mountain Mesic Montane Mixed Co...   Conifer   \n",
       "3  Rocky Mountain Subalpine Dry-Mesic Spruce-Fir ...   Conifer   \n",
       "4  Rocky Mountain Subalpine Mesic-Wet Spruce-Fir ...   Conifer   \n",
       "\n",
       "                                            EVT_GP_N           EVT_CLASS  \\\n",
       "0               Aspen Forest, Woodland, and Parkland    Open tree canopy   \n",
       "1  Douglas-fir-Ponderosa Pine-Lodgepole Pine Fore...  Closed tree canopy   \n",
       "2  Douglas-fir-Grand Fir-White Fir Forest and Woo...  Closed tree canopy   \n",
       "3                     Spruce-Fir Forest and Woodland  Closed tree canopy   \n",
       "4                     Spruce-Fir Forest and Woodland  Closed tree canopy   \n",
       "\n",
       "                      EVT_SBCLS  \n",
       "0    Deciduous open tree canopy  \n",
       "1  Evergreen closed tree canopy  \n",
       "2  Evergreen closed tree canopy  \n",
       "3  Evergreen closed tree canopy  \n",
       "4  Evergreen closed tree canopy  "
      ]
     },
     "execution_count": 98,
     "metadata": {},
     "output_type": "execute_result"
    }
   ],
   "source": [
    "# Subset the codes we want to join, join back to the dataframe\n",
    "lookup = lookup[['VALUE','EVT_NAME','EVT_PHYS','EVT_GP_N','EVT_CLASS','EVT_SBCLS']]\n",
    "grid_evt_ = grid_evt.merge(lookup, left_on='evt', right_on='VALUE', how='left')\n",
    "grid_evt_.drop('VALUE', axis=1, inplace=True)\n",
    "grid_evt_.head()"
   ]
  },
  {
   "cell_type": "code",
   "execution_count": 99,
   "id": "8fd7b62d-7932-4552-83f9-8ae75a4310ae",
   "metadata": {},
   "outputs": [
    {
     "data": {
      "text/html": [
       "<div>\n",
       "<style scoped>\n",
       "    .dataframe tbody tr th:only-of-type {\n",
       "        vertical-align: middle;\n",
       "    }\n",
       "\n",
       "    .dataframe tbody tr th {\n",
       "        vertical-align: top;\n",
       "    }\n",
       "\n",
       "    .dataframe thead th {\n",
       "        text-align: right;\n",
       "    }\n",
       "</style>\n",
       "<table border=\"1\" class=\"dataframe\">\n",
       "  <thead>\n",
       "    <tr style=\"text-align: right;\">\n",
       "      <th></th>\n",
       "      <th>evt</th>\n",
       "      <th>EVT_NAME</th>\n",
       "      <th>EVT_GP_N</th>\n",
       "      <th>counts</th>\n",
       "    </tr>\n",
       "  </thead>\n",
       "  <tbody>\n",
       "    <tr>\n",
       "      <th>4</th>\n",
       "      <td>7051</td>\n",
       "      <td>Southern Rocky Mountain Dry-Mesic Montane Mixe...</td>\n",
       "      <td>Douglas-fir-Ponderosa Pine-Lodgepole Pine Fore...</td>\n",
       "      <td>27863</td>\n",
       "    </tr>\n",
       "    <tr>\n",
       "      <th>6</th>\n",
       "      <td>7054</td>\n",
       "      <td>Southern Rocky Mountain Ponderosa Pine Woodland</td>\n",
       "      <td>Ponderosa Pine Forest, Woodland and Savanna</td>\n",
       "      <td>27446</td>\n",
       "    </tr>\n",
       "    <tr>\n",
       "      <th>0</th>\n",
       "      <td>7011</td>\n",
       "      <td>Rocky Mountain Aspen Forest and Woodland</td>\n",
       "      <td>Aspen Forest, Woodland, and Parkland</td>\n",
       "      <td>26011</td>\n",
       "    </tr>\n",
       "    <tr>\n",
       "      <th>7</th>\n",
       "      <td>7055</td>\n",
       "      <td>Rocky Mountain Subalpine Dry-Mesic Spruce-Fir ...</td>\n",
       "      <td>Spruce-Fir Forest and Woodland</td>\n",
       "      <td>24535</td>\n",
       "    </tr>\n",
       "    <tr>\n",
       "      <th>3</th>\n",
       "      <td>7050</td>\n",
       "      <td>Rocky Mountain Lodgepole Pine Forest</td>\n",
       "      <td>Lodgepole Pine Forest and Woodland</td>\n",
       "      <td>22275</td>\n",
       "    </tr>\n",
       "    <tr>\n",
       "      <th>32</th>\n",
       "      <td>7146</td>\n",
       "      <td>Southern Rocky Mountain Montane-Subalpine Gras...</td>\n",
       "      <td>Grassland</td>\n",
       "      <td>15917</td>\n",
       "    </tr>\n",
       "    <tr>\n",
       "      <th>22</th>\n",
       "      <td>7107</td>\n",
       "      <td>Rocky Mountain Gambel Oak-Mixed Montane Shrubland</td>\n",
       "      <td>Deciduous Shrubland</td>\n",
       "      <td>15004</td>\n",
       "    </tr>\n",
       "    <tr>\n",
       "      <th>5</th>\n",
       "      <td>7052</td>\n",
       "      <td>Southern Rocky Mountain Mesic Montane Mixed Co...</td>\n",
       "      <td>Douglas-fir-Grand Fir-White Fir Forest and Woo...</td>\n",
       "      <td>14736</td>\n",
       "    </tr>\n",
       "    <tr>\n",
       "      <th>26</th>\n",
       "      <td>7126</td>\n",
       "      <td>Inter-Mountain Basins Montane Sagebrush Steppe</td>\n",
       "      <td>Big Sagebrush Shrubland and Steppe</td>\n",
       "      <td>12265</td>\n",
       "    </tr>\n",
       "    <tr>\n",
       "      <th>31</th>\n",
       "      <td>7145</td>\n",
       "      <td>Rocky Mountain Subalpine-Montane Mesic Meadow</td>\n",
       "      <td>Alpine Dwarf-Shrubland, Fell-field and Meadow</td>\n",
       "      <td>9609</td>\n",
       "    </tr>\n",
       "  </tbody>\n",
       "</table>\n",
       "</div>"
      ],
      "text/plain": [
       "     evt                                           EVT_NAME  \\\n",
       "4   7051  Southern Rocky Mountain Dry-Mesic Montane Mixe...   \n",
       "6   7054    Southern Rocky Mountain Ponderosa Pine Woodland   \n",
       "0   7011           Rocky Mountain Aspen Forest and Woodland   \n",
       "7   7055  Rocky Mountain Subalpine Dry-Mesic Spruce-Fir ...   \n",
       "3   7050               Rocky Mountain Lodgepole Pine Forest   \n",
       "32  7146  Southern Rocky Mountain Montane-Subalpine Gras...   \n",
       "22  7107  Rocky Mountain Gambel Oak-Mixed Montane Shrubland   \n",
       "5   7052  Southern Rocky Mountain Mesic Montane Mixed Co...   \n",
       "26  7126     Inter-Mountain Basins Montane Sagebrush Steppe   \n",
       "31  7145      Rocky Mountain Subalpine-Montane Mesic Meadow   \n",
       "\n",
       "                                             EVT_GP_N  counts  \n",
       "4   Douglas-fir-Ponderosa Pine-Lodgepole Pine Fore...   27863  \n",
       "6         Ponderosa Pine Forest, Woodland and Savanna   27446  \n",
       "0                Aspen Forest, Woodland, and Parkland   26011  \n",
       "7                      Spruce-Fir Forest and Woodland   24535  \n",
       "3                  Lodgepole Pine Forest and Woodland   22275  \n",
       "32                                          Grassland   15917  \n",
       "22                                Deciduous Shrubland   15004  \n",
       "5   Douglas-fir-Grand Fir-White Fir Forest and Woo...   14736  \n",
       "26                 Big Sagebrush Shrubland and Steppe   12265  \n",
       "31      Alpine Dwarf-Shrubland, Fell-field and Meadow    9609  "
      ]
     },
     "execution_count": 99,
     "metadata": {},
     "output_type": "execute_result"
    }
   ],
   "source": [
    "evt_counts = grid_evt_.groupby(['evt','EVT_NAME','EVT_GP_N']).size().reset_index(name='counts')\n",
    "evt_counts.sort_values('counts', ascending=False, inplace=True)\n",
    "evt_counts.head(10)"
   ]
  },
  {
   "cell_type": "code",
   "execution_count": 108,
   "id": "d1a87caa-9e24-4393-8ee9-84c4239e3570",
   "metadata": {},
   "outputs": [
    {
     "name": "stdout",
     "output_type": "stream",
     "text": [
      "\n",
      "\n",
      "Species making up 97% of the total: \n",
      "\n",
      "                                             EVT_GP_N      count  fraction  \\\n",
      "40                 Lodgepole Pine Forest and Woodland  1845771.0  0.205398   \n",
      "47        Ponderosa Pine Forest, Woodland and Savanna  1586704.0  0.176569   \n",
      "54                     Spruce-Fir Forest and Woodland  1545479.0  0.171981   \n",
      "6                Aspen Forest, Woodland, and Parkland   756738.0  0.084210   \n",
      "26  Douglas-fir-Ponderosa Pine-Lodgepole Pine Fore...   712263.0  0.079261   \n",
      "25  Douglas-fir-Grand Fir-White Fir Forest and Woo...   489030.0  0.054419   \n",
      "10                                Deciduous Shrubland   353406.0  0.039327   \n",
      "46                            Pinyon-Juniper Woodland   267359.0  0.029752   \n",
      "29                                          Grassland   263093.0  0.029277   \n",
      "8                  Big Sagebrush Shrubland and Steppe   260800.0  0.029022   \n",
      "59            Western Riparian Woodland and Shrubland   181295.0  0.020175   \n",
      "55                     Transitional Forest Vegetation    76213.0  0.008481   \n",
      "7             Aspen-Mixed Conifer Forest and Woodland    67131.0  0.007470   \n",
      "53                                  Sparse Vegetation    65895.0  0.007333   \n",
      "34        Introduced Perennial Grassland and Forbland    63350.0  0.007050   \n",
      "5       Alpine Dwarf-Shrubland, Fell-field and Meadow    61398.0  0.006832   \n",
      "2                    Agricultural-Pasture and Hayland    48038.0  0.005346   \n",
      "58                         Western Herbaceous Wetland    45771.0  0.005093   \n",
      "\n",
      "    c_fraction  \n",
      "40    0.205398  \n",
      "47    0.381966  \n",
      "54    0.553947  \n",
      "6     0.638157  \n",
      "26    0.717418  \n",
      "25    0.771837  \n",
      "10    0.811164  \n",
      "46    0.840916  \n",
      "29    0.870193  \n",
      "8     0.899215  \n",
      "59    0.919390  \n",
      "55    0.927871  \n",
      "7     0.935341  \n",
      "53    0.942674  \n",
      "34    0.949723  \n",
      "5     0.956556  \n",
      "2     0.961901  \n",
      "58    0.966995  \n",
      "\n",
      "\n"
     ]
    },
    {
     "data": {
      "image/png": "[encoded data removed]",
      "text/plain": [
       "<Figure size 800x600 with 1 Axes>"
      ]
     },
     "metadata": {},
     "output_type": "display_data"
    }
   ],
   "source": [
    "df = grid_evt_.copy() # make a copy to work with\n",
    "df = df[df['count'] > 0] \n",
    "\n",
    "# Calculate the total percent cover (prevalence)\n",
    "spp_prevalence_evt = df.groupby('EVT_GP_N')['count'].sum().reset_index()\n",
    "spp_prevalence_evt['fraction'] = spp_prevalence_evt['count'] / spp_prevalence_evt['count'].sum()\n",
    "spp_prevalence_evt = spp_prevalence_evt.sort_values(by='fraction', ascending=False)\n",
    "\n",
    "# which species make up 97% of observations?\n",
    "spp_prevalence_evt['c_fraction'] = spp_prevalence_evt['fraction'].cumsum()\n",
    "top_species_evt = spp_prevalence_evt[spp_prevalence_evt['c_fraction'] <= 0.97]\n",
    "print(f\"\\n\\nSpecies making up 97% of the total: \\n\\n{top_species_evt}\\n\\n\")\n",
    "\n",
    "# plot it\n",
    "plt.figure(figsize=(8, 6))\n",
    "sns.barplot(data=top_species_evt, x='EVT_GP_N', y='fraction', palette='viridis')\n",
    "\n",
    "plt.xlabel('Existing Vegetation Type')\n",
    "plt.ylabel('Fractional cover')\n",
    "plt.xticks(rotation=45, ha='right')\n",
    "plt.tight_layout()\n",
    "plt.show()"
   ]
  },
  {
   "cell_type": "code",
   "execution_count": 114,
   "id": "073dd52e-3bfc-4388-93f6-2c2ca697a4a6",
   "metadata": {},
   "outputs": [
    {
     "name": "stdout",
     "output_type": "stream",
     "text": [
      "Saved to: /Users/max/Library/CloudStorage/OneDrive-Personal/mcook/aspen-fire/Aim2/data/tabular/mod/viirs_snpp_jpss1_gridstats_lf-evt.csv\n"
     ]
    }
   ],
   "source": [
    "# save the EVT summary table out.\n",
    "out_fp = os.path.join(projdir, 'tabular/mod/viirs_snpp_jpss1_gridstats_lf-evt.csv')\n",
    "grid_evt_.to_csv(out_fp)\n",
    "print(f\"Saved to: {out_fp}\")"
   ]
  },
  {
   "cell_type": "code",
   "execution_count": null,
   "id": "aa5e7d93-0c49-41da-adc2-d0df1f258b6c",
   "metadata": {},
   "outputs": [],
   "source": []
  },
  {
   "cell_type": "code",
   "execution_count": null,
   "id": "47be43bb-09f8-44b4-a0ee-3fe93eafdcfe",
   "metadata": {},
   "outputs": [],
   "source": []
  },
  {
   "cell_type": "code",
   "execution_count": 106,
   "id": "d9ce1beb-91b6-4c2d-ab06-c6bc01d6c7b7",
   "metadata": {},
   "outputs": [
    {
     "data": {
      "text/html": [
       "<div>\n",
       "<style scoped>\n",
       "    .dataframe tbody tr th:only-of-type {\n",
       "        vertical-align: middle;\n",
       "    }\n",
       "\n",
       "    .dataframe tbody tr th {\n",
       "        vertical-align: top;\n",
       "    }\n",
       "\n",
       "    .dataframe thead th {\n",
       "        text-align: right;\n",
       "    }\n",
       "</style>\n",
       "<table border=\"1\" class=\"dataframe\">\n",
       "  <thead>\n",
       "    <tr style=\"text-align: right;\">\n",
       "      <th></th>\n",
       "      <th>grid_index</th>\n",
       "      <th>evt</th>\n",
       "      <th>count</th>\n",
       "      <th>total_pixels</th>\n",
       "      <th>pct_cover</th>\n",
       "      <th>EVT_NAME</th>\n",
       "      <th>EVT_PHYS</th>\n",
       "      <th>EVT_GP_N</th>\n",
       "      <th>EVT_CLASS</th>\n",
       "      <th>EVT_SBCLS</th>\n",
       "    </tr>\n",
       "  </thead>\n",
       "  <tbody>\n",
       "    <tr>\n",
       "      <th>36592</th>\n",
       "      <td>188968</td>\n",
       "      <td>7016</td>\n",
       "      <td>39.0</td>\n",
       "      <td>70.0</td>\n",
       "      <td>55.714286</td>\n",
       "      <td>Colorado Plateau Pinyon-Juniper Woodland</td>\n",
       "      <td>Conifer</td>\n",
       "      <td>Pinyon-Juniper Woodland</td>\n",
       "      <td>Open tree canopy</td>\n",
       "      <td>Evergreen open tree canopy</td>\n",
       "    </tr>\n",
       "    <tr>\n",
       "      <th>36598</th>\n",
       "      <td>188969</td>\n",
       "      <td>7016</td>\n",
       "      <td>55.0</td>\n",
       "      <td>65.0</td>\n",
       "      <td>84.615385</td>\n",
       "      <td>Colorado Plateau Pinyon-Juniper Woodland</td>\n",
       "      <td>Conifer</td>\n",
       "      <td>Pinyon-Juniper Woodland</td>\n",
       "      <td>Open tree canopy</td>\n",
       "      <td>Evergreen open tree canopy</td>\n",
       "    </tr>\n",
       "    <tr>\n",
       "      <th>36603</th>\n",
       "      <td>188970</td>\n",
       "      <td>7016</td>\n",
       "      <td>55.0</td>\n",
       "      <td>70.0</td>\n",
       "      <td>78.571429</td>\n",
       "      <td>Colorado Plateau Pinyon-Juniper Woodland</td>\n",
       "      <td>Conifer</td>\n",
       "      <td>Pinyon-Juniper Woodland</td>\n",
       "      <td>Open tree canopy</td>\n",
       "      <td>Evergreen open tree canopy</td>\n",
       "    </tr>\n",
       "    <tr>\n",
       "      <th>36609</th>\n",
       "      <td>188971</td>\n",
       "      <td>7016</td>\n",
       "      <td>52.0</td>\n",
       "      <td>65.0</td>\n",
       "      <td>80.000000</td>\n",
       "      <td>Colorado Plateau Pinyon-Juniper Woodland</td>\n",
       "      <td>Conifer</td>\n",
       "      <td>Pinyon-Juniper Woodland</td>\n",
       "      <td>Open tree canopy</td>\n",
       "      <td>Evergreen open tree canopy</td>\n",
       "    </tr>\n",
       "    <tr>\n",
       "      <th>36613</th>\n",
       "      <td>188972</td>\n",
       "      <td>7102</td>\n",
       "      <td>59.0</td>\n",
       "      <td>70.0</td>\n",
       "      <td>84.285714</td>\n",
       "      <td>Colorado Plateau Pinyon-Juniper Shrubland</td>\n",
       "      <td>Shrubland</td>\n",
       "      <td>Pinyon-Juniper Shrubland</td>\n",
       "      <td>Shrubland</td>\n",
       "      <td>Evergreen shrubland</td>\n",
       "    </tr>\n",
       "  </tbody>\n",
       "</table>\n",
       "</div>"
      ],
      "text/plain": [
       "       grid_index   evt  count  total_pixels  pct_cover  \\\n",
       "36592      188968  7016   39.0          70.0  55.714286   \n",
       "36598      188969  7016   55.0          65.0  84.615385   \n",
       "36603      188970  7016   55.0          70.0  78.571429   \n",
       "36609      188971  7016   52.0          65.0  80.000000   \n",
       "36613      188972  7102   59.0          70.0  84.285714   \n",
       "\n",
       "                                        EVT_NAME   EVT_PHYS  \\\n",
       "36592   Colorado Plateau Pinyon-Juniper Woodland    Conifer   \n",
       "36598   Colorado Plateau Pinyon-Juniper Woodland    Conifer   \n",
       "36603   Colorado Plateau Pinyon-Juniper Woodland    Conifer   \n",
       "36609   Colorado Plateau Pinyon-Juniper Woodland    Conifer   \n",
       "36613  Colorado Plateau Pinyon-Juniper Shrubland  Shrubland   \n",
       "\n",
       "                       EVT_GP_N         EVT_CLASS                   EVT_SBCLS  \n",
       "36592   Pinyon-Juniper Woodland  Open tree canopy  Evergreen open tree canopy  \n",
       "36598   Pinyon-Juniper Woodland  Open tree canopy  Evergreen open tree canopy  \n",
       "36603   Pinyon-Juniper Woodland  Open tree canopy  Evergreen open tree canopy  \n",
       "36609   Pinyon-Juniper Woodland  Open tree canopy  Evergreen open tree canopy  \n",
       "36613  Pinyon-Juniper Shrubland         Shrubland         Evergreen shrubland  "
      ]
     },
     "execution_count": 106,
     "metadata": {},
     "output_type": "execute_result"
    }
   ],
   "source": [
    "# Identify the dominant EVT class for each observation\n",
    "dominant_evt = grid_evt_.loc[grid_evt_.groupby('grid_index')['pct_cover'].idxmax()]\n",
    "dominant_evt.head()"
   ]
  },
  {
   "cell_type": "code",
   "execution_count": 107,
   "id": "b77b04a1-fd80-4371-9811-aeaf50f9152c",
   "metadata": {},
   "outputs": [
    {
     "data": {
      "text/plain": [
       "Index(['grid_index', 'grid_area', 'afd_count', 'frp_csum', 'frp_max',\n",
       "       'frp_min', 'day_max_frp', 'dt_max_frp', 'first_obs_date',\n",
       "       'last_obs_date', 'frp_max_day', 'frp_max_night', 'Fire_ID', 'Fire_Name',\n",
       "       'geometry', 'evt', 'count', 'total_pixels', 'pct_cover', 'EVT_NAME',\n",
       "       'EVT_PHYS', 'EVT_GP_N', 'EVT_CLASS', 'EVT_SBCLS'],\n",
       "      dtype='object')"
      ]
     },
     "execution_count": 107,
     "metadata": {},
     "output_type": "execute_result"
    }
   ],
   "source": [
    "grid_evt_d = pd.merge(grid, dominant_evt, on='grid_index', how='inner')\n",
    "grid_evt_d.columns"
   ]
  },
  {
   "cell_type": "code",
   "execution_count": 111,
   "id": "8a076a1c-2308-4583-83c4-5ec31d971651",
   "metadata": {},
   "outputs": [
    {
     "data": {
      "image/png": "[encoded data removed]",
      "text/plain": [
       "<Figure size 800x600 with 1 Axes>"
      ]
     },
     "metadata": {},
     "output_type": "display_data"
    }
   ],
   "source": [
    "# Plot FRP by EVT group name\n",
    "# Find the median and sort the evt classes\n",
    "\n",
    "df = grid_evt_d.copy()\n",
    "df = df[df['EVT_GP_N'].isin(top_species_evt['EVT_GP_N'].unique())]\n",
    "\n",
    "med = df.groupby('EVT_GP_N')['frp_max'].median().sort_values(ascending=False)\n",
    "sorted = med.index.tolist()\n",
    "\n",
    "df['frp_max_adj'] = df['frp_max'] + 1\n",
    "\n",
    "plt.figure(figsize=(8, 6)) \n",
    "\n",
    "sns.boxplot(\n",
    "    data=df, \n",
    "    x='frp_max_adj', \n",
    "    y='EVT_GP_N', \n",
    "    order=sorted, \n",
    "    palette='coolwarm_r', \n",
    "    dodge=False)\n",
    "\n",
    "plt.xscale('log')\n",
    "\n",
    "plt.xlabel('Maximum Fire Radiative Power (FRP)')\n",
    "plt.ylabel('Dominant EVT')\n",
    "\n",
    "plt.tight_layout()\n",
    "plt.show()"
   ]
  },
  {
   "cell_type": "code",
   "execution_count": null,
   "id": "716a4e5a-b750-4ed1-98ac-22731e83651a",
   "metadata": {},
   "outputs": [],
   "source": []
  },
  {
   "cell_type": "code",
   "execution_count": null,
   "id": "cbcedb86-4702-4ae0-88c6-6f1fef6b15f7",
   "metadata": {},
   "outputs": [],
   "source": []
  },
  {
   "cell_type": "code",
   "execution_count": null,
   "id": "1890948c-83b6-40cd-a66f-cf23392a5cbf",
   "metadata": {},
   "outputs": [],
   "source": []
  },
  {
   "cell_type": "code",
   "execution_count": null,
   "id": "51541962-1880-4304-a003-58eb1f5530c5",
   "metadata": {},
   "outputs": [],
   "source": [
    "# Export a table of the EVT values found in AFD observations\n",
    "lookup_ = lookup[lookup['VALUE'].isin(afds_evt['evt'].unique())]\n",
    "out_fp = os.path.join(projdir,'data/tabular/mod/EVT/afd_evt_codes-SRM.csv')\n",
    "lookup_.to_csv(out_fp)\n",
    "print(f\"Saved to: {out_fp}\")"
   ]
  },
  {
   "cell_type": "code",
   "execution_count": null,
   "id": "34786bfc-e82f-44c8-bb4e-d74d1f0024a4",
   "metadata": {},
   "outputs": [],
   "source": [
    "'Aspen Forest, Woodland, and Parkland',\n",
    "'Douglas-fir-Ponderosa Pine-Lodgepole Pine Forest and Woodland',\n",
    "'Spruce-Fir Forest and Woodland',\n",
    "'Ponderosa Pine Forest, Woodland and Savanna',\n",
    "'Big Sagebrush Shrubland and Steppe',\n",
    "'Lodgepole Pine Forest and Woodland',\n",
    "'Douglas-fir-Grand Fir-White Fir Forest and Woodland',\n",
    "'Deciduous Shrubland', \n",
    "'Grassland',\n",
    "'Aspen-Mixed Conifer Forest and Woodland',\n",
    "'Pinyon-Juniper Woodland',\n",
    "'Western Riparian Woodland and Shrubland',\n",
    "'Mountain Mahogany Woodland and Shrubland',\n",
    "'Douglas-fir Forest and Woodland',"
   ]
  },
  {
   "cell_type": "code",
   "execution_count": null,
   "id": "9caa0f7d-3493-48c8-8826-3df6d9eeb125",
   "metadata": {},
   "outputs": [],
   "source": []
  },
  {
   "cell_type": "code",
   "execution_count": null,
   "id": "ddd42060-d947-4a97-98d3-09733437bd1c",
   "metadata": {},
   "outputs": [],
   "source": []
  },
  {
   "cell_type": "code",
   "execution_count": null,
   "id": "765deb8a-fa03-49ae-ab58-29d747ae2ca6",
   "metadata": {},
   "outputs": [],
   "source": []
  },
  {
   "cell_type": "markdown",
   "id": "33579afc-c3de-4869-9c09-de96816696d5",
   "metadata": {},
   "source": [
    "### Calculate the percent aspen cover"
   ]
  },
  {
   "cell_type": "code",
   "execution_count": null,
   "id": "7af81ec3-9baa-4ec4-9573-182464a57b3c",
   "metadata": {},
   "outputs": [],
   "source": [
    "# Identify aspen classes\n",
    "aspen_classes = afds_evt_[afds_evt_['EVT_NAME'].str.contains('aspen', case=False, na=False)]['EVT_NAME'].unique()\n",
    "print(f\"Aspen EVT classes in the Southern Rockies:\\n{aspen_classes}\\n\")"
   ]
  },
  {
   "cell_type": "code",
   "execution_count": null,
   "id": "122db178-051c-450c-8d7d-e784ae42554d",
   "metadata": {},
   "outputs": [],
   "source": []
  },
  {
   "cell_type": "code",
   "execution_count": null,
   "id": "8f8e5a39-22af-4084-9c94-9db2e5f7bc8b",
   "metadata": {},
   "outputs": [],
   "source": []
  },
  {
   "cell_type": "markdown",
   "id": "17c0e830-d530-4a87-970a-9787616e5770",
   "metadata": {},
   "source": [
    "## Sentinel-based Aspen Cover"
   ]
  },
  {
   "cell_type": "code",
   "execution_count": 115,
   "id": "bc3c93af-d8cf-4560-99dd-d4bda7319af9",
   "metadata": {},
   "outputs": [
    {
     "name": "stdout",
     "output_type": "stream",
     "text": [
      "Shape: (95433, 64151); \n",
      "GeoTransform: -1217478.0082659717 10.0 0.0 2309207.3309742874 0.0 -10.0; \n",
      "WKT: EPSG:5070; \n",
      "NoData Value: nan; \n",
      "Data Type: float32\n"
     ]
    },
    {
     "data": {
      "text/plain": [
       "117200"
      ]
     },
     "execution_count": 115,
     "metadata": {},
     "output_type": "execute_result"
    }
   ],
   "source": [
    "fp = os.path.join(maindir,'aspen-fire/Aim1/data/spatial/mod/results/classification/s2aspen_distribution_10m_y2019_CookEtAl.tif')\n",
    "s2aspen_da = rxr.open_rasterio(fp, masked=True, cache=False, chunks='auto').squeeze()\n",
    "shp, gt, wkt, nd = s2aspen_da.shape, s2aspen_da.spatial_ref.GeoTransform, s2aspen_da.rio.crs, s2aspen_da.rio.nodata\n",
    "print(\n",
    "    f\"Shape: {shp}; \\n\"\n",
    "    f\"GeoTransform: {gt}; \\n\"\n",
    "    f\"WKT: {wkt}; \\n\"\n",
    "    f\"NoData Value: {nd}; \\n\"\n",
    "    f\"Data Type: {s2aspen_da[0].dtype}\")\n",
    "gc.collect()"
   ]
  },
  {
   "cell_type": "code",
   "execution_count": 119,
   "id": "43e4e8b1-10c4-4859-9d59-442edd2da407",
   "metadata": {},
   "outputs": [
    {
     "data": {
      "text/plain": [
       "grid_index                      int64\n",
       "grid_area                     float64\n",
       "afd_count                       int64\n",
       "frp_csum                      float64\n",
       "frp_max                       float64\n",
       "frp_min                       float64\n",
       "day_max_frp            datetime64[ns]\n",
       "dt_max_frp        datetime64[ns, UTC]\n",
       "first_obs_date         datetime64[ns]\n",
       "last_obs_date          datetime64[ns]\n",
       "frp_max_day                   float64\n",
       "frp_max_night                 float64\n",
       "Fire_ID                        object\n",
       "Fire_Name                      object\n",
       "geometry                     geometry\n",
       "dtype: object"
      ]
     },
     "execution_count": 119,
     "metadata": {},
     "output_type": "execute_result"
    }
   ],
   "source": [
    "grid.dtypes"
   ]
  },
  {
   "cell_type": "code",
   "execution_count": 120,
   "id": "e103a5fe-32fd-4b11-b7f4-b59b44a55c4c",
   "metadata": {},
   "outputs": [
    {
     "name": "stdout",
     "output_type": "stream",
     "text": [
      "There are 37 fires 2019-2023\n"
     ]
    }
   ],
   "source": [
    "# filter the grid to fires 2019-2023\n",
    "grid['Fire_Year'] = grid['year'] = grid['dt_max_frp'].dt.year\n",
    "grid_ = grid[grid['Fire_Year'] >= 2019]\n",
    "print(f\"There are {len(grid_['Fire_ID'].unique())} fires 2019-2023\")"
   ]
  },
  {
   "cell_type": "code",
   "execution_count": 121,
   "id": "5099cd90-a144-40ff-bc12-fdd68f3f3d93",
   "metadata": {},
   "outputs": [
    {
     "name": "stdout",
     "output_type": "stream",
     "text": [
      "Total elapsed time: 0.60 minutes.\n",
      "\n",
      "~~~~~~~~~~\n",
      "\n"
     ]
    }
   ],
   "source": [
    "t0 = time.time()\n",
    "\n",
    "# Get the proportional landcover\n",
    "grid_s2aspen = compute_band_stats(\n",
    "    geoms=grid_[['grid_index','geometry']], \n",
    "    image_da=s2aspen_da, \n",
    "    id_col='grid_index',\n",
    "    attr='s2aspen'\n",
    ")\n",
    "\n",
    "t1 = (time.time() - t0) / 60\n",
    "print(f\"Total elapsed time: {t1:.2f} minutes.\")\n",
    "print(\"\\n~~~~~~~~~~\\n\")"
   ]
  },
  {
   "cell_type": "code",
   "execution_count": 122,
   "id": "c062045f-386c-4034-8637-c19ab60b66ed",
   "metadata": {},
   "outputs": [
    {
     "data": {
      "text/html": [
       "<div>\n",
       "<style scoped>\n",
       "    .dataframe tbody tr th:only-of-type {\n",
       "        vertical-align: middle;\n",
       "    }\n",
       "\n",
       "    .dataframe tbody tr th {\n",
       "        vertical-align: top;\n",
       "    }\n",
       "\n",
       "    .dataframe thead th {\n",
       "        text-align: right;\n",
       "    }\n",
       "</style>\n",
       "<table border=\"1\" class=\"dataframe\">\n",
       "  <thead>\n",
       "    <tr style=\"text-align: right;\">\n",
       "      <th></th>\n",
       "      <th>grid_index</th>\n",
       "      <th>s2aspen</th>\n",
       "      <th>count</th>\n",
       "      <th>total_pixels</th>\n",
       "      <th>pct_cover</th>\n",
       "    </tr>\n",
       "  </thead>\n",
       "  <tbody>\n",
       "    <tr>\n",
       "      <th>1</th>\n",
       "      <td>677698</td>\n",
       "      <td>1</td>\n",
       "      <td>1018</td>\n",
       "      <td>1521</td>\n",
       "      <td>66.929652</td>\n",
       "    </tr>\n",
       "    <tr>\n",
       "      <th>3</th>\n",
       "      <td>677699</td>\n",
       "      <td>1</td>\n",
       "      <td>951</td>\n",
       "      <td>1482</td>\n",
       "      <td>64.170040</td>\n",
       "    </tr>\n",
       "    <tr>\n",
       "      <th>5</th>\n",
       "      <td>679960</td>\n",
       "      <td>1</td>\n",
       "      <td>1021</td>\n",
       "      <td>1482</td>\n",
       "      <td>68.893387</td>\n",
       "    </tr>\n",
       "    <tr>\n",
       "      <th>7</th>\n",
       "      <td>679961</td>\n",
       "      <td>1</td>\n",
       "      <td>1070</td>\n",
       "      <td>1444</td>\n",
       "      <td>74.099723</td>\n",
       "    </tr>\n",
       "    <tr>\n",
       "      <th>9</th>\n",
       "      <td>679962</td>\n",
       "      <td>1</td>\n",
       "      <td>742</td>\n",
       "      <td>1482</td>\n",
       "      <td>50.067476</td>\n",
       "    </tr>\n",
       "  </tbody>\n",
       "</table>\n",
       "</div>"
      ],
      "text/plain": [
       "   grid_index  s2aspen  count  total_pixels  pct_cover\n",
       "1      677698        1   1018          1521  66.929652\n",
       "3      677699        1    951          1482  64.170040\n",
       "5      679960        1   1021          1482  68.893387\n",
       "7      679961        1   1070          1444  74.099723\n",
       "9      679962        1    742          1482  50.067476"
      ]
     },
     "execution_count": 122,
     "metadata": {},
     "output_type": "execute_result"
    }
   ],
   "source": [
    "grid_s2aspen = grid_s2aspen[grid_s2aspen['s2aspen'] == 1]\n",
    "grid_s2aspen.head()"
   ]
  },
  {
   "cell_type": "code",
   "execution_count": null,
   "id": "81e4f4e4-e71d-411e-9818-0154ea55a59c",
   "metadata": {},
   "outputs": [],
   "source": []
  },
  {
   "cell_type": "code",
   "execution_count": null,
   "id": "e48accdb-e9f6-4c1d-a931-3750028cb743",
   "metadata": {},
   "outputs": [],
   "source": []
  },
  {
   "cell_type": "code",
   "execution_count": null,
   "id": "a1ef89c4-96cb-4952-88f1-651f3e513488",
   "metadata": {},
   "outputs": [],
   "source": []
  },
  {
   "cell_type": "code",
   "execution_count": null,
   "id": "e631105a-71fc-465f-b559-ad754653c084",
   "metadata": {},
   "outputs": [],
   "source": []
  },
  {
   "cell_type": "code",
   "execution_count": null,
   "id": "9bf12d80-0269-44ac-8adf-f6df9c11b602",
   "metadata": {},
   "outputs": [],
   "source": [
    "# Make some plots. Just for the SRM."
   ]
  },
  {
   "cell_type": "code",
   "execution_count": null,
   "id": "4932c33d-144c-4d7e-b344-5d6071992b26",
   "metadata": {},
   "outputs": [],
   "source": [
    "# Join back to FRP\n",
    "frp = afds[['afdID','INSTRUMENT','ACQ_DATETIME','DAYNIGHT','FRP','na_l3name']]\n",
    "frp = frp[frp['na_l3name'] == 'Southern Rockies']\n",
    "\n",
    "evt = afds_evt[['afdID','EVT_NAME','EVT_PHYS','EVT_GP_N','pct_cover']]\n",
    "\n",
    "frp_evt_srm = pd.merge(frp, evt, on='afdID', how='left')\n",
    "frp_evt_srm.head()"
   ]
  },
  {
   "cell_type": "code",
   "execution_count": null,
   "id": "0a5799e7-35aa-4c06-bcef-c73192272d2b",
   "metadata": {},
   "outputs": [],
   "source": [
    "# Create a \"pct_forest\" class\n",
    "forest_classes = ['Hardwood', 'Conifer', 'Conifer-Hardwood']\n",
    "frp_plots_forest = frp_evt_srm[frp_evt_srm['EVT_NAME'].isin(forest_classes)]\n",
    "# Pivot table and calculate the percent forest\n",
    "forest_cover = (\n",
    "    frp_evt_srm[['afdID', 'EVT_PHYS', 'pct_cover']]\n",
    "    .pivot_table(index='afdID', columns='EVT_PHYS', values='pct_cover', aggfunc='sum', fill_value=0)\n",
    ")\n",
    "forest_cover['pct_forest'] = forest_cover[forest_classes].sum(axis=1)\n",
    "# Merge back to the main data frame\n",
    "frp_evt_srm = frp_evt_srm.merge(forest_cover[['pct_forest']], on='afdID')\n",
    "frp_evt_srm['pct_forest'].describe()"
   ]
  },
  {
   "cell_type": "code",
   "execution_count": null,
   "id": "3b366e07-5632-4499-b224-a1ae24f9ff11",
   "metadata": {},
   "outputs": [],
   "source": []
  },
  {
   "cell_type": "code",
   "execution_count": null,
   "id": "581bedf6-7106-4ada-8192-7d8cf73fa068",
   "metadata": {},
   "outputs": [],
   "source": [
    "# Now filter to retain just the aspen composition in FRP observations\n",
    "frp_evt_srm_aspen = frp_evt_srm[frp_evt_srm['EVT_NAME'].isin(aspen_classes)]\n",
    "# What percent of FRP observations have an aspen component?\n",
    "aspenpct = len(frp_evt_srm_aspen['afdID'].unique()) / len(frp_evt_srm['afdID'].unique()) * 100\n",
    "print(f\"In the Southern Rockies, {aspenpct:.2f} of MODIS/VIIRS AFD have an aspen component.\")"
   ]
  },
  {
   "cell_type": "code",
   "execution_count": null,
   "id": "94c2a83f-a2ba-4620-aa65-dd8217d761e0",
   "metadata": {},
   "outputs": [],
   "source": [
    "plt.figure(figsize=(6, 4))\n",
    "\n",
    "frp_plots_aspen_d = frp_evt_srm_aspen[frp_evt_srm_aspen['DAYNIGHT'] == 'D']\n",
    "frp_plots_aspen_n = frp_evt_srm_aspen[frp_evt_srm_aspen['DAYNIGHT'] == 'N']\n",
    "\n",
    "# Apply log transformation to FRP values; add 1 to avoid taking log of zero\n",
    "sns.kdeplot(np.log1p(frp_plots_aspen_d['FRP']), fill=True, label=\"Daytime Obs.\")\n",
    "sns.kdeplot(np.log1p(frp_plots_aspen_n['FRP']), fill=True, label=\"Nighttime Obs.\")\n",
    "\n",
    "# Set plot title and axis labels\n",
    "plt.title('Log density of FRP for any aspen (Southern Rockies)')\n",
    "plt.xlabel('Log of Fire Radiative Power (FRP)')\n",
    "plt.ylabel('Density')\n",
    "plt.legend()\n",
    "plt.tight_layout()  # Adjust layout to prevent clipping of ylabel\n",
    "\n",
    "# plt.savefig(os.path.join(maindir,'aspen-fire/Aim2/figures/FigX_frp_density_aspen-any_day-night.png'), dpi=300, bbox_inches='tight')\n",
    "\n",
    "plt.show()"
   ]
  },
  {
   "cell_type": "code",
   "execution_count": null,
   "id": "d78896ad-5b69-445d-8fbe-020ab334829d",
   "metadata": {},
   "outputs": [],
   "source": [
    "plt.figure(figsize=(12, 4))\n",
    "\n",
    "frp_plots_aspen_ = frp_evt_srm_aspen[frp_evt_srm_aspen['FRP'] > 0]\n",
    "\n",
    "for aspen_class in aspen_classes:\n",
    "    subset = frp_plots_aspen_[frp_plots_aspen_['EVT_NAME'] == aspen_class]\n",
    "    sns.scatterplot(x='pct_cover', y='FRP', data=subset, label=aspen_class)\n",
    "\n",
    "plt.yscale('log')\n",
    "\n",
    "plt.title('FRP vs Percent Cover of Aspen Classes')\n",
    "plt.xlabel('Percent Cover of Aspen')\n",
    "plt.ylabel('Fire Radiative Power (FRP)')\n",
    "plt.legend(title='Aspen Class')\n",
    "\n",
    "# plt.savefig(os.path.join(maindir,'aspen-fire/Aim2/figures/FigX_aspen_frp_scatterplot.png'), dpi=300, bbox_inches='tight')\n",
    "\n",
    "plt.show()\n",
    "\n",
    "del frp_plots_aspen_"
   ]
  },
  {
   "cell_type": "code",
   "execution_count": null,
   "id": "21284cb6-3300-46fa-abac-aa73495bee16",
   "metadata": {},
   "outputs": [],
   "source": []
  },
  {
   "cell_type": "code",
   "execution_count": null,
   "id": "8f0c19e3-006f-4078-92ac-1c3a3800dddb",
   "metadata": {},
   "outputs": [],
   "source": [
    "# Identify the dominant EVT types."
   ]
  },
  {
   "cell_type": "code",
   "execution_count": null,
   "id": "91448b40-0bac-4fda-8ed9-4b5a281cab26",
   "metadata": {},
   "outputs": [],
   "source": []
  },
  {
   "cell_type": "code",
   "execution_count": null,
   "id": "de9972e6-0b6e-429e-acd8-92a29602be22",
   "metadata": {},
   "outputs": [],
   "source": [
    "# Identify the dominant EVT class for each observation\n",
    "dominant_evt = afds_evt.loc[afds_evt.groupby('afdID')['pct_cover'].idxmax()]\n",
    "dominant_evt.head()"
   ]
  },
  {
   "cell_type": "code",
   "execution_count": null,
   "id": "7e2b8287-509d-4e1e-89a3-6e4c6b2af325",
   "metadata": {},
   "outputs": [],
   "source": [
    "print(f\"There are {len(dominant_evt['EVT_GP_N'].unique())} EVT_GP_N categories.\\n\")\n",
    "print(dominant_evt['EVT_GP_N'].unique())"
   ]
  },
  {
   "cell_type": "code",
   "execution_count": null,
   "id": "2ee90890-de63-4323-b8c1-5db9e743906a",
   "metadata": {},
   "outputs": [],
   "source": [
    "# Save this file out as well.\n",
    "out_fp = os.path.join(projdir,'data/tabular/mod/EVT/afd_aspen-fires_2018_to_2023_buffer-EVT-dominant.csv')\n",
    "dominant_evt.to_csv(out_fp)\n",
    "print(f\"Saved zonal statistics to: {out_fp}\")"
   ]
  },
  {
   "cell_type": "code",
   "execution_count": null,
   "id": "d4da4b6a-4431-43d9-9677-484fb384465b",
   "metadata": {},
   "outputs": [],
   "source": [
    "# Join back to FRP\n",
    "frp = afds[['afdID','INSTRUMENT','ACQ_DATETIME','DAYNIGHT','FRP','na_l3name']]\n",
    "frp = frp[frp['na_l3name'] == 'Southern Rockies']\n",
    "evt = dominant_evt[['afdID','EVT_NAME','EVT_PHYS','EVT_GP_N','pct_cover']]\n",
    "frp_evt = pd.merge(frp, evt, on='afdID', how='left')\n",
    "frp_evt.head()"
   ]
  },
  {
   "cell_type": "code",
   "execution_count": null,
   "id": "887f4c8f-4157-44c4-9fbd-de4f0fcf7946",
   "metadata": {},
   "outputs": [],
   "source": [
    "# Plot FRP by EVT group name\n",
    "\n",
    "df = frp_evt[frp_evt['INSTRUMENT'] == 'VIIRS']\n",
    "\n",
    "med_frp = df.groupby('EVT_GP_N')['FRP'].median().sort_values(ascending=False)\n",
    "sorted = med_frp.index.tolist()\n",
    "\n",
    "plt.figure(figsize=(10, 10)) \n",
    "\n",
    "sns.boxplot(\n",
    "    data=df,\n",
    "    x='FRP', \n",
    "    y='EVT_GP_N', \n",
    "    hue='DAYNIGHT',\n",
    "    order=sorted,  \n",
    "    palette='coolwarm', \n",
    "    dodge=True\n",
    ")\n",
    "\n",
    "plt.xscale('log')\n",
    "\n",
    "plt.xlabel('Fire Radiative Power (FRP)')\n",
    "plt.ylabel('Dominant Vegetation Type')\n",
    "\n",
    "plt.tight_layout()\n",
    "plt.show()"
   ]
  },
  {
   "cell_type": "code",
   "execution_count": null,
   "id": "6d05b1f9-5ff3-4fc2-ad00-a31dafe8c74a",
   "metadata": {},
   "outputs": [],
   "source": []
  },
  {
   "cell_type": "code",
   "execution_count": null,
   "id": "6b1c90df-820c-40ec-8d81-fb584cefbf6e",
   "metadata": {},
   "outputs": [],
   "source": []
  },
  {
   "cell_type": "markdown",
   "id": "3f5f4e38-a329-467a-a3c1-4f423a46fb8d",
   "metadata": {},
   "source": [
    "### Calculate the CBD, CBH, and CC from LANDFIRE\n",
    "\n",
    "Now we calculate zonal statistics for these continuous attributes from LANDFIRE (e.g., mean within the AFD buffer zone)."
   ]
  },
  {
   "cell_type": "code",
   "execution_count": null,
   "id": "ed744edf-4476-4e38-a046-a93a28d3d34d",
   "metadata": {},
   "outputs": [],
   "source": []
  },
  {
   "cell_type": "code",
   "execution_count": null,
   "id": "e832c900-84dc-42d6-aff2-db8c596eb5ff",
   "metadata": {},
   "outputs": [],
   "source": [
    "start = time.time()    \n",
    "\n",
    "# Read in the LANDFIRE layers\n",
    "cbd_path = os.path.join(maindir,'data/landcover/LANDFIRE/LF2020_CBD_200_CONUS/Tif/LC20_CBD_200.tif')\n",
    "cbh_path = os.path.join(maindir,'data/landcover/LANDFIRE/LF2020_CBH_200_CONUS/Tif/LC20_CBH_200.tif')\n",
    "tcc_path = os.path.join(maindir,'data/landcover/LANDFIRE/LF2020_CC_200_CONUS/Tif/LC20_CC_200.tif')\n",
    "\n",
    "lf_paths = [cbd_path, cbh_path, tcc_path]\n",
    "attrs = ['cbd','cbh','tcc']\n",
    "\n",
    "results = []\n",
    "for i in range(len(lf_paths)):\n",
    "    lf = lf_paths[i]\n",
    "    attr = attrs[i]\n",
    "    print(f'Processing {os.path.basename(lf)}')\n",
    "\n",
    "    # Open the raster data and crop to bounds as before\n",
    "    lf_da = rxr.open_rasterio(lf, masked=True, cache=False).squeeze()\n",
    "    lf_da_crop = lf_da.rio.clip_box(\n",
    "        minx=bounds[0]+1000, # +1000 meters for a small buffer\n",
    "        miny=bounds[1]+1000, \n",
    "        maxx=bounds[2]+1000, \n",
    "        maxy=bounds[3]+1000\n",
    "    )\n",
    "\n",
    "    if not lf_da_crop.rio.crs == afds.crs:\n",
    "        print(\"CRS mismatch, fixing !\")\n",
    "        lf_da_crop = lf_da_crop.rio.reproject(afds.crs)\n",
    "\n",
    "    del lf_da # clean up\n",
    "    \n",
    "    # Calculate the zonal statistics\n",
    "    zsdf = compute_band_stats(\n",
    "        geoms=afds, \n",
    "        image_da=lf_da_crop, \n",
    "        id_col='afdID',\n",
    "        attr=attr,\n",
    "        stats=['mean'],\n",
    "        ztype='continuous'\n",
    "    )\n",
    "    \n",
    "    results.append(zsdf)\n",
    "    del zsdf\n",
    "\n",
    "print(f\"\\nTotal elapsed time: {round((time.time() - start)/60)} minutes\")"
   ]
  },
  {
   "cell_type": "code",
   "execution_count": null,
   "id": "04a5565c-306b-4959-b462-040c89f15a1e",
   "metadata": {},
   "outputs": [],
   "source": [
    "from functools import reduce\n",
    "afd_lf_ = reduce(lambda left, right: pd.merge(left, right, on='afdID', how='inner'), results)\n",
    "afd_lf_.head()"
   ]
  },
  {
   "cell_type": "code",
   "execution_count": null,
   "id": "f502ab23-a362-41d5-8221-6f1d7c198d31",
   "metadata": {},
   "outputs": [],
   "source": [
    "# Join to the percent cover data\n"
   ]
  }
 ],
 "metadata": {
  "kernelspec": {
   "display_name": "aspen-fire",
   "language": "python",
   "name": "aspen-fire"
  },
  "language_info": {
   "codemirror_mode": {
    "name": "ipython",
    "version": 3
   },
   "file_extension": ".py",
   "mimetype": "text/x-python",
   "name": "python",
   "nbconvert_exporter": "python",
   "pygments_lexer": "ipython3",
   "version": "3.10.12"
  }
 },
 "nbformat": 4,
 "nbformat_minor": 5
}
