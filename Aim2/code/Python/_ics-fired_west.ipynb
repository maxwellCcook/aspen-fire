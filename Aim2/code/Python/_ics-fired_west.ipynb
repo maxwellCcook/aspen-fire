{
 "cells": [
  {
   "cell_type": "code",
   "execution_count": null,
   "id": "0594afb8-f926-4ae8-ae13-f7f7fd4453c6",
   "metadata": {},
   "outputs": [],
   "source": []
  }
 ],
 "metadata": {
  "kernelspec": {
   "display_name": "aspen-fire",
   "language": "python",
   "name": "aspen-fire"
  },
  "language_info": {
   "codemirror_mode": {
    "name": "ipython",
    "version": 3
   },
   "file_extension": ".py",
   "mimetype": "text/x-python",
   "name": "python",
   "nbconvert_exporter": "python",
   "pygments_lexer": "ipython3",
   "version": "3.10.12"
  }
 },
 "nbformat": 4,
 "nbformat_minor": 5
}
