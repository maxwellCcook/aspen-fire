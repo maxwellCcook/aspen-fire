{
 "cells": [
  {
   "cell_type": "code",
   "execution_count": 2,
   "id": "dffe86dd-7027-4ade-8373-8db99c66261f",
   "metadata": {},
   "outputs": [
    {
     "name": "stdout",
     "output_type": "stream",
     "text": [
      "Ready !\n"
     ]
    }
   ],
   "source": [
    "\"\"\"\n",
    "Gather daily FIRED polygons in the SRM and calculate weather metrics\n",
    "\"\"\"\n",
    "\n",
    "import os, time, glob\n",
    "import numpy as np\n",
    "import pandas as pd\n",
    "import geopandas as gpd\n",
    "import rioxarray as rxr\n",
    "import rasterio as rio\n",
    "import matplotlib\n",
    "import matplotlib.pyplot as plt\n",
    "import seaborn as sns\n",
    "import gc\n",
    "\n",
    "from shapely.geometry import box\n",
    "from datetime import datetime\n",
    "from rasterstats import zonal_stats\n",
    "\n",
    "proj = 'EPSG:5070'\n",
    "\n",
    "maindir = '/Users/max/Library/CloudStorage/OneDrive-Personal/mcook/'\n",
    "projdir = os.path.join(maindir, 'aspen-fire/Aim2/')\n",
    "\n",
    "print(\"Ready !\")"
   ]
  },
  {
   "cell_type": "code",
   "execution_count": null,
   "id": "16675e8b-642a-4257-8bea-140f9e47c917",
   "metadata": {},
   "outputs": [],
   "source": [
    "# Load the SRM boundary\n",
    "srm_fp = os.path.join(maindir,'')"
   ]
  },
  {
   "cell_type": "code",
   "execution_count": null,
   "id": "ace3c564-3d7f-4539-93ae-aabd99a0c13a",
   "metadata": {},
   "outputs": [],
   "source": [
    "# Load the FIRED perimeters (2018-2022)\n",
    "fired_fp = os.path.join(maindir,'aspen-fire/Aim2/data/spatial/mod/FIRED/fired_daily_west.gpkg')\n",
    "fired = gpd.read_file(fired_fp).to_crs(proj)\n",
    "fired.columns"
   ]
  }
 ],
 "metadata": {
  "kernelspec": {
   "display_name": "aspen-fire",
   "language": "python",
   "name": "aspen-fire"
  },
  "language_info": {
   "codemirror_mode": {
    "name": "ipython",
    "version": 3
   },
   "file_extension": ".py",
   "mimetype": "text/x-python",
   "name": "python",
   "nbconvert_exporter": "python",
   "pygments_lexer": "ipython3",
   "version": "3.10.12"
  }
 },
 "nbformat": 4,
 "nbformat_minor": 5
}
