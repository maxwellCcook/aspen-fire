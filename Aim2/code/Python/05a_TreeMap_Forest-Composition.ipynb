{
 "cells": [
  {
   "cell_type": "code",
   "execution_count": 1,
   "id": "c3d482be-361d-4286-b949-6680bf24babb",
   "metadata": {},
   "outputs": [
    {
     "name": "stdout",
     "output_type": "stream",
     "text": [
      "Ready to go !\n"
     ]
    }
   ],
   "source": [
    "\"\"\"\n",
    "Summaries of USFS TreeMap linked to FIA plot data\n",
    "Emphasis on \n",
    "    - Metrics of forest composition\n",
    "    - Ecological gradients of species dominance\n",
    "    - Forest structure (abundance, dominance, diversity, stand height)\n",
    "\n",
    "Aggregate these statistics to FRP gridcells.\n",
    "\n",
    "Author: maxwell.cook@colorado.edu\n",
    "\"\"\"\n",
    "\n",
    "import os, sys, time\n",
    "import pandas as pd\n",
    "import rioxarray as rxr\n",
    "import xarray as xr\n",
    "import geopandas as gpd\n",
    "import seaborn as sns\n",
    "import matplotlib.pyplot as plt\n",
    "import matplotlib.colors as mcolors\n",
    "from matplotlib.colors import to_rgba\n",
    "\n",
    "# Custom functions\n",
    "sys.path.append(os.path.join(os.getcwd(),'code/'))\n",
    "from __functions import *\n",
    "\n",
    "albers = 'EPSG:5070' # albers CONUS\n",
    "utm = 'EPSG:32613' # UTM Zone 13N\n",
    "\n",
    "maindir = '/Users/max/Library/CloudStorage/OneDrive-Personal/mcook/'\n",
    "projdir = os.path.join(maindir, 'aspen-fire/Aim2/')\n",
    "\n",
    "print(\"Ready to go !\")"
   ]
  },
  {
   "cell_type": "code",
   "execution_count": 19,
   "id": "af7d2100-d318-41ce-970d-7686f0359b88",
   "metadata": {},
   "outputs": [
    {
     "name": "stdout",
     "output_type": "stream",
     "text": [
      "\n",
      "There are [57232] grids across [100] fires.\n",
      "\n",
      "\n",
      "Index(['grid_index', 'grid_area', 'afd_count', 'unique_days', 'overlap',\n",
      "       'frp_csum', 'frp_max', 'frp_min', 'frp_mean', 'frp_p90', 'frp_p95',\n",
      "       'frp_p97', 'frp_p99', 'frp_first', 'day_max_frp', 'dt_max_frp',\n",
      "       'first_obs_date', 'last_obs_date', 't4_max', 't4_mean', 't5_max',\n",
      "       't5_mean', 'day_count', 'night_count', 'frp_max_day', 'frp_max_night',\n",
      "       'frp_csum_day', 'frp_csum_night', 'frp_mean_day', 'frp_mean_night',\n",
      "       'frp_p90_day', 'frp_p90_night', 'frp_p95_day', 'frp_p95_night',\n",
      "       'frp_p97_day', 'frp_p97_night', 'frp_p99_day', 'frp_p99_night',\n",
      "       'frp_first_day', 'frp_first_night', 'Fire_ID', 'Fire_Name', 'geometry',\n",
      "       'x', 'y'],\n",
      "      dtype='object')\n",
      "\n",
      "Dropping [1395] duplicate grids.\n",
      "\n",
      "Fractional overlap:\n",
      "count    56767.000000\n",
      "mean         2.029756\n",
      "std          2.004417\n",
      "min          0.000003\n",
      "25%          0.591083\n",
      "50%          1.498852\n",
      "75%          2.779104\n",
      "max         24.470760\n",
      "Name: overlap, dtype: float64\n",
      "\n",
      "Dropping [3899 (6.87%)] grids with < 10% fractional overlap.\n"
     ]
    }
   ],
   "source": [
    "# load the aggregated FRP grids (regular 375m2 grids summarizing FRP from VIIRS)\n",
    "fp = os.path.join(projdir,'data/spatial/mod/VIIRS/viirs_snpp_jpss1_afd_latlon_fires_pixar_gridstats.gpkg')\n",
    "grid = gpd.read_file(fp)\n",
    "print(f\"\\nThere are [{len(grid)}] grids across [{len(grid['Fire_ID'].unique())}] fires.\\n\")\n",
    "\n",
    "# add the centroid lat/lon to the grid data\n",
    "df = grid.to_crs(4326) # WGS coords for lat/lon\n",
    "df['x'] = df.geometry.centroid.x  # Longitude (x-coordinate)\n",
    "df['y'] = df.geometry.centroid.y\n",
    "grid = grid.merge(df[['grid_index','x','y']], on='grid_index', how='left')\n",
    "del df\n",
    "print(f\"\\n{grid.columns}\\n\")\n",
    "\n",
    "# Drop any dupicate grids ...\n",
    "print(f\"Dropping [{grid.duplicated(subset=['grid_index']).sum()}] duplicate grids.\\n\")\n",
    "grid = grid.drop_duplicates(subset=['grid_index'], keep='first')\n",
    "\n",
    "# check on fractional overlap distribution\n",
    "print(f\"Fractional overlap:\\n{grid['overlap'].describe()}\\n\")\n",
    "n_small = grid[grid['overlap'] < 0.10]['grid_index'].count() # less than 10% spatial overlap\n",
    "print(f\"Dropping [{n_small} ({round(n_small/len(grid)*100,2)}%)] grids with < 10% fractional overlap.\")\n",
    "grid = grid[grid['overlap'] >= 0.10] # remove these observations"
   ]
  },
  {
   "cell_type": "code",
   "execution_count": 20,
   "id": "3c44fa3a-9cfe-4430-8c28-043abd68b8e6",
   "metadata": {},
   "outputs": [
    {
     "name": "stdout",
     "output_type": "stream",
     "text": [
      "FORTYPCD columns:\n",
      "Index(['Unnamed: 0', 'grid_index', 'fortypnm_gp', 'count', 'total_pixels',\n",
      "       'pct_cover', 'forest_pixels', 'forest_pct'],\n",
      "      dtype='object')\n",
      "\n",
      "Tree Table columns:\n",
      "Index(['grid_index', 'species_gp_n', 'tmid_n', 'ba_live', 'ba_dead', 'ba_ld',\n",
      "       'tpp_live', 'tpp_dead', 'tpp_ld', 'qmd_live', 'qmd_dead', 'qmd_ld',\n",
      "       'tree_ht_live', 'tree_ht_dead', 'balive_total', 'badead_total',\n",
      "       'ba_ld_total', 'tpp_live_total', 'tpp_dead_total', 'tpp_ld_total',\n",
      "       'qmd_live_total', 'qmd_dead_total', 'qmd_ld_total', 'ba_live_pr',\n",
      "       'ba_dead_pr', 'ba_ld_pr', 'tpp_live_pr', 'tpp_dead_pr', 'tpp_ld_pr',\n",
      "       'qmd_live_pr', 'qmd_dead_pr', 'qmd_ld_pr'],\n",
      "      dtype='object')\n",
      "\n",
      "\tFORTYP unique grids: 53941\n",
      "\t\t total rows: 185629\n",
      "\tTree Table unique grids: 53947\n",
      "\t\t total rows: 259997\n"
     ]
    }
   ],
   "source": [
    "# Load the FORTYPCD and the Tree Table summaries\n",
    "\n",
    "# FORTYPCD\n",
    "fp = os.path.join(projdir,'data/tabular/mod/viirs_snpp_jpss1_gridstats_fortypnm_gp.csv')\n",
    "fortyp = pd.read_csv(fp)\n",
    "print(f\"FORTYPCD columns:\\n{fortyp.columns}\\n\")\n",
    "\n",
    "# Tree Table\n",
    "fp = os.path.join(projdir,'data/tabular/mod/gridstats_treetable.csv')\n",
    "trees = pd.read_csv(fp)\n",
    "trees.drop(columns=['Unnamed: 0','forest_pct'], inplace=True)\n",
    "print(f\"Tree Table columns:\\n{trees.columns}\\n\")\n",
    "\n",
    "# Check on how many grids match\n",
    "print(f\"\\tFORTYP unique grids: {len(fortyp['grid_index'].unique())}\")\n",
    "print(f\"\\t\\t total rows: {len(fortyp)}\")\n",
    "print(f\"\\tTree Table unique grids: {len(trees['grid_index'].unique())}\")\n",
    "print(f\"\\t\\t total rows: {len(trees)}\")"
   ]
  },
  {
   "cell_type": "code",
   "execution_count": 21,
   "id": "1e7053cb-a618-4102-b9ad-ae9ed8de595c",
   "metadata": {},
   "outputs": [
    {
     "name": "stdout",
     "output_type": "stream",
     "text": [
      "\tFORTYP unique grids: 53886\n",
      "\t\t total rows: 185494\n",
      "\tTree Table unique grids: 53947\n",
      "\t\t total rows: 259997\n"
     ]
    },
    {
     "data": {
      "text/plain": [
       "0"
      ]
     },
     "execution_count": 21,
     "metadata": {},
     "output_type": "execute_result"
    }
   ],
   "source": [
    "# check how many matching grids\n",
    "match = fortyp[fortyp['grid_index'].isin(trees['grid_index'].unique())]\n",
    "# Check on how many grids match\n",
    "print(f\"\\tFORTYP unique grids: {len(match['grid_index'].unique())}\")\n",
    "print(f\"\\t\\t total rows: {len(match)}\")\n",
    "print(f\"\\tTree Table unique grids: {len(trees['grid_index'].unique())}\")\n",
    "print(f\"\\t\\t total rows: {len(trees)}\")\n",
    "del match\n",
    "gc.collect()"
   ]
  },
  {
   "cell_type": "code",
   "execution_count": 22,
   "id": "ede54433-3f46-438e-aa92-497af57e75e3",
   "metadata": {},
   "outputs": [
    {
     "data": {
      "text/plain": [
       "Index(['grid_index', 'fortypnm_gp', 'fortyp_pct', 'forest_pixels',\n",
       "       'forest_pct'],\n",
       "      dtype='object')"
      ]
     },
     "execution_count": 22,
     "metadata": {},
     "output_type": "execute_result"
    }
   ],
   "source": [
    "# calculate the dominant forest type using the FORTYPCD\n",
    "dfortyp = fortyp.loc[fortyp.groupby('grid_index')['pct_cover'].idxmax()]\n",
    "dfortyp = dfortyp[['grid_index','fortypnm_gp','pct_cover','forest_pixels','forest_pct']]\n",
    "dfortyp = dfortyp[dfortyp['grid_index'].isin(trees['grid_index'].unique())] # retain matching grids\n",
    "dfortyp.rename(columns={'pct_cover': 'fortyp_pct'}, inplace=True)\n",
    "dfortyp.columns"
   ]
  },
  {
   "cell_type": "code",
   "execution_count": 23,
   "id": "d26c7827-d6ea-47f6-a492-bfe119a77f23",
   "metadata": {},
   "outputs": [
    {
     "data": {
      "text/plain": [
       "array(['Piñon-juniper', 'Ponderosa', 'Quaking aspen', 'Mixed-conifer',\n",
       "       'Lodgepole', 'Spruce-fir'], dtype=object)"
      ]
     },
     "execution_count": 23,
     "metadata": {},
     "output_type": "execute_result"
    }
   ],
   "source": [
    "dfortyp['fortypnm_gp'].unique()"
   ]
  },
  {
   "cell_type": "code",
   "execution_count": 24,
   "id": "e4cabb87-fcda-4b31-ac4e-e4adeb607dc0",
   "metadata": {},
   "outputs": [
    {
     "name": "stdout",
     "output_type": "stream",
     "text": [
      "53886 / 53886 with our predominant species.\n"
     ]
    }
   ],
   "source": [
    "# Subset the FORTYP metrics to retain those which match our FORTYPCDthe top species\n",
    "spps = ['Ponderosa', 'Lodgepole', 'Spruce-fir', 'Quaking aspen', 'Mixed-conifer', 'Piñon-juniper']\n",
    "dfortyp_sp = dfortyp[dfortyp['fortypnm_gp'].isin(spps)]\n",
    "print(f\"{len(dfortyp_sp)} / {len(dfortyp)} with our predominant species.\")\n",
    "# del dfortyp\n",
    "# gc.collect()"
   ]
  },
  {
   "cell_type": "code",
   "execution_count": 25,
   "id": "079fcc55-20ea-4871-852e-cc22cedd32c7",
   "metadata": {},
   "outputs": [
    {
     "name": "stdout",
     "output_type": "stream",
     "text": [
      "\n",
      "Total grids: 53886\n",
      "\n",
      "53886 (100.00%)\n",
      "\n"
     ]
    },
    {
     "data": {
      "text/plain": [
       "0"
      ]
     },
     "execution_count": 25,
     "metadata": {},
     "output_type": "execute_result"
    }
   ],
   "source": [
    "# Check on how many matches there are between the dominant type and the Tree Table\n",
    "matches = (dfortyp_sp['grid_index'].isin(trees[trees['species_gp_n'].isin(dfortyp_sp['fortypnm_gp'])]['grid_index'])).sum()\n",
    "# Print the results\n",
    "total_grids = dfortyp_sp['grid_index'].nunique()\n",
    "print(f\"\\nTotal grids: {total_grids}\\n\")\n",
    "print(f\"{matches} ({(matches / total_grids) * 100:.2f}%)\\n\")\n",
    "del matches, total_grids\n",
    "gc.collect()"
   ]
  },
  {
   "cell_type": "code",
   "execution_count": 26,
   "id": "dcb01003-7b31-46ee-9e51-09c9d7a93661",
   "metadata": {},
   "outputs": [
    {
     "data": {
      "text/html": [
       "<div>\n",
       "<style scoped>\n",
       "    .dataframe tbody tr th:only-of-type {\n",
       "        vertical-align: middle;\n",
       "    }\n",
       "\n",
       "    .dataframe tbody tr th {\n",
       "        vertical-align: top;\n",
       "    }\n",
       "\n",
       "    .dataframe thead th {\n",
       "        text-align: right;\n",
       "    }\n",
       "</style>\n",
       "<table border=\"1\" class=\"dataframe\">\n",
       "  <thead>\n",
       "    <tr style=\"text-align: right;\">\n",
       "      <th></th>\n",
       "      <th>grid_index</th>\n",
       "      <th>fortypnm_gp</th>\n",
       "      <th>fortyp_pct</th>\n",
       "      <th>forest_pixels</th>\n",
       "      <th>forest_pct</th>\n",
       "      <th>species_gp_n</th>\n",
       "      <th>tmid_n</th>\n",
       "      <th>ba_live</th>\n",
       "      <th>ba_dead</th>\n",
       "      <th>ba_ld</th>\n",
       "      <th>...</th>\n",
       "      <th>qmd_ld_total</th>\n",
       "      <th>ba_live_pr</th>\n",
       "      <th>ba_dead_pr</th>\n",
       "      <th>ba_ld_pr</th>\n",
       "      <th>tpp_live_pr</th>\n",
       "      <th>tpp_dead_pr</th>\n",
       "      <th>tpp_ld_pr</th>\n",
       "      <th>qmd_live_pr</th>\n",
       "      <th>qmd_dead_pr</th>\n",
       "      <th>qmd_ld_pr</th>\n",
       "    </tr>\n",
       "  </thead>\n",
       "  <tbody>\n",
       "    <tr>\n",
       "      <th>0</th>\n",
       "      <td>34602</td>\n",
       "      <td>Piñon-juniper</td>\n",
       "      <td>81.767956</td>\n",
       "      <td>182</td>\n",
       "      <td>99.450549</td>\n",
       "      <td>Mixed-conifer</td>\n",
       "      <td>1</td>\n",
       "      <td>1757.987391</td>\n",
       "      <td>131.985888</td>\n",
       "      <td>1889.973279</td>\n",
       "      <td>...</td>\n",
       "      <td>792.238607</td>\n",
       "      <td>0.057034</td>\n",
       "      <td>0.037533</td>\n",
       "      <td>0.055037</td>\n",
       "      <td>0.058037</td>\n",
       "      <td>0.004221</td>\n",
       "      <td>0.058037</td>\n",
       "      <td>0.183416</td>\n",
       "      <td>0.546625</td>\n",
       "      <td>0.183416</td>\n",
       "    </tr>\n",
       "    <tr>\n",
       "      <th>1</th>\n",
       "      <td>34602</td>\n",
       "      <td>Piñon-juniper</td>\n",
       "      <td>81.767956</td>\n",
       "      <td>182</td>\n",
       "      <td>99.450549</td>\n",
       "      <td>Piñon-juniper</td>\n",
       "      <td>12</td>\n",
       "      <td>25271.768073</td>\n",
       "      <td>3234.725392</td>\n",
       "      <td>28506.493465</td>\n",
       "      <td>...</td>\n",
       "      <td>792.238607</td>\n",
       "      <td>0.819891</td>\n",
       "      <td>0.919860</td>\n",
       "      <td>0.830128</td>\n",
       "      <td>0.880543</td>\n",
       "      <td>0.991557</td>\n",
       "      <td>0.880543</td>\n",
       "      <td>0.256595</td>\n",
       "      <td>0.162172</td>\n",
       "      <td>0.256595</td>\n",
       "    </tr>\n",
       "    <tr>\n",
       "      <th>2</th>\n",
       "      <td>34602</td>\n",
       "      <td>Piñon-juniper</td>\n",
       "      <td>81.767956</td>\n",
       "      <td>182</td>\n",
       "      <td>99.450549</td>\n",
       "      <td>Ponderosa</td>\n",
       "      <td>4</td>\n",
       "      <td>3753.173956</td>\n",
       "      <td>149.829507</td>\n",
       "      <td>3903.003463</td>\n",
       "      <td>...</td>\n",
       "      <td>792.238607</td>\n",
       "      <td>0.121764</td>\n",
       "      <td>0.042607</td>\n",
       "      <td>0.113658</td>\n",
       "      <td>0.058519</td>\n",
       "      <td>0.004221</td>\n",
       "      <td>0.058519</td>\n",
       "      <td>0.408269</td>\n",
       "      <td>0.291202</td>\n",
       "      <td>0.408269</td>\n",
       "    </tr>\n",
       "    <tr>\n",
       "      <th>3</th>\n",
       "      <td>34602</td>\n",
       "      <td>Piñon-juniper</td>\n",
       "      <td>81.767956</td>\n",
       "      <td>182</td>\n",
       "      <td>99.450549</td>\n",
       "      <td>Quaking aspen</td>\n",
       "      <td>1</td>\n",
       "      <td>40.406737</td>\n",
       "      <td>0.000000</td>\n",
       "      <td>40.406737</td>\n",
       "      <td>...</td>\n",
       "      <td>792.238607</td>\n",
       "      <td>0.001311</td>\n",
       "      <td>0.000000</td>\n",
       "      <td>0.001177</td>\n",
       "      <td>0.002902</td>\n",
       "      <td>0.000000</td>\n",
       "      <td>0.002902</td>\n",
       "      <td>0.151720</td>\n",
       "      <td>0.000000</td>\n",
       "      <td>0.151720</td>\n",
       "    </tr>\n",
       "    <tr>\n",
       "      <th>4</th>\n",
       "      <td>34603</td>\n",
       "      <td>Piñon-juniper</td>\n",
       "      <td>56.886228</td>\n",
       "      <td>169</td>\n",
       "      <td>98.816568</td>\n",
       "      <td>Mixed-conifer</td>\n",
       "      <td>4</td>\n",
       "      <td>3991.778414</td>\n",
       "      <td>195.938694</td>\n",
       "      <td>4187.717108</td>\n",
       "      <td>...</td>\n",
       "      <td>612.193167</td>\n",
       "      <td>0.121807</td>\n",
       "      <td>0.054726</td>\n",
       "      <td>0.115200</td>\n",
       "      <td>0.114194</td>\n",
       "      <td>0.026909</td>\n",
       "      <td>0.114194</td>\n",
       "      <td>0.274633</td>\n",
       "      <td>0.475397</td>\n",
       "      <td>0.274633</td>\n",
       "    </tr>\n",
       "  </tbody>\n",
       "</table>\n",
       "<p>5 rows × 36 columns</p>\n",
       "</div>"
      ],
      "text/plain": [
       "   grid_index    fortypnm_gp  fortyp_pct  forest_pixels  forest_pct  \\\n",
       "0       34602  Piñon-juniper   81.767956            182   99.450549   \n",
       "1       34602  Piñon-juniper   81.767956            182   99.450549   \n",
       "2       34602  Piñon-juniper   81.767956            182   99.450549   \n",
       "3       34602  Piñon-juniper   81.767956            182   99.450549   \n",
       "4       34603  Piñon-juniper   56.886228            169   98.816568   \n",
       "\n",
       "    species_gp_n  tmid_n       ba_live      ba_dead         ba_ld  ...  \\\n",
       "0  Mixed-conifer       1   1757.987391   131.985888   1889.973279  ...   \n",
       "1  Piñon-juniper      12  25271.768073  3234.725392  28506.493465  ...   \n",
       "2      Ponderosa       4   3753.173956   149.829507   3903.003463  ...   \n",
       "3  Quaking aspen       1     40.406737     0.000000     40.406737  ...   \n",
       "4  Mixed-conifer       4   3991.778414   195.938694   4187.717108  ...   \n",
       "\n",
       "   qmd_ld_total  ba_live_pr  ba_dead_pr  ba_ld_pr  tpp_live_pr  tpp_dead_pr  \\\n",
       "0    792.238607    0.057034    0.037533  0.055037     0.058037     0.004221   \n",
       "1    792.238607    0.819891    0.919860  0.830128     0.880543     0.991557   \n",
       "2    792.238607    0.121764    0.042607  0.113658     0.058519     0.004221   \n",
       "3    792.238607    0.001311    0.000000  0.001177     0.002902     0.000000   \n",
       "4    612.193167    0.121807    0.054726  0.115200     0.114194     0.026909   \n",
       "\n",
       "   tpp_ld_pr  qmd_live_pr  qmd_dead_pr  qmd_ld_pr  \n",
       "0   0.058037     0.183416     0.546625   0.183416  \n",
       "1   0.880543     0.256595     0.162172   0.256595  \n",
       "2   0.058519     0.408269     0.291202   0.408269  \n",
       "3   0.002902     0.151720     0.000000   0.151720  \n",
       "4   0.114194     0.274633     0.475397   0.274633  \n",
       "\n",
       "[5 rows x 36 columns]"
      ]
     },
     "execution_count": 26,
     "metadata": {},
     "output_type": "execute_result"
    }
   ],
   "source": [
    "# merge to the tree table metrics\n",
    "tree_metrics = dfortyp_sp.merge(trees, on='grid_index', how='left')\n",
    "tree_metrics.head()"
   ]
  },
  {
   "cell_type": "code",
   "execution_count": 27,
   "id": "9a7cfa77-d287-4f0a-af5e-60bbc6800473",
   "metadata": {},
   "outputs": [
    {
     "name": "stdout",
     "output_type": "stream",
     "text": [
      "259909\n"
     ]
    }
   ],
   "source": [
    "print(len(tree_metrics))"
   ]
  },
  {
   "cell_type": "code",
   "execution_count": 28,
   "id": "74065898-697d-4971-8065-2b5ae41b80ca",
   "metadata": {},
   "outputs": [
    {
     "data": {
      "text/plain": [
       "Index(['grid_index', 'fortypnm_gp', 'fortyp_pct', 'forest_pixels',\n",
       "       'forest_pct', 'species_gp_n', 'tmid_n', 'ba_live', 'ba_dead', 'ba_ld',\n",
       "       'tpp_live', 'tpp_dead', 'tpp_ld', 'qmd_live', 'qmd_dead', 'qmd_ld',\n",
       "       'tree_ht_live', 'tree_ht_dead', 'balive_total', 'badead_total',\n",
       "       'ba_ld_total', 'tpp_live_total', 'tpp_dead_total', 'tpp_ld_total',\n",
       "       'qmd_live_total', 'qmd_dead_total', 'qmd_ld_total', 'ba_live_pr',\n",
       "       'ba_dead_pr', 'ba_ld_pr', 'tpp_live_pr', 'tpp_dead_pr', 'tpp_ld_pr',\n",
       "       'qmd_live_pr', 'qmd_dead_pr', 'qmd_ld_pr'],\n",
       "      dtype='object')"
      ]
     },
     "execution_count": 28,
     "metadata": {},
     "output_type": "execute_result"
    }
   ],
   "source": [
    "tree_metrics.columns"
   ]
  },
  {
   "cell_type": "code",
   "execution_count": 29,
   "id": "68a54fdd-e63f-4827-bb3a-050a49c0f35d",
   "metadata": {},
   "outputs": [
    {
     "data": {
      "text/html": [
       "<div>\n",
       "<style scoped>\n",
       "    .dataframe tbody tr th:only-of-type {\n",
       "        vertical-align: middle;\n",
       "    }\n",
       "\n",
       "    .dataframe tbody tr th {\n",
       "        vertical-align: top;\n",
       "    }\n",
       "\n",
       "    .dataframe thead th {\n",
       "        text-align: right;\n",
       "    }\n",
       "</style>\n",
       "<table border=\"1\" class=\"dataframe\">\n",
       "  <thead>\n",
       "    <tr style=\"text-align: right;\">\n",
       "      <th></th>\n",
       "      <th>grid_index</th>\n",
       "      <th>fortypnm_gp</th>\n",
       "      <th>fortyp_pct</th>\n",
       "      <th>species_gp_n</th>\n",
       "      <th>tpp_ld_pr</th>\n",
       "      <th>ba_ld_pr</th>\n",
       "      <th>qmd_ld_pr</th>\n",
       "    </tr>\n",
       "  </thead>\n",
       "  <tbody>\n",
       "    <tr>\n",
       "      <th>0</th>\n",
       "      <td>34602</td>\n",
       "      <td>Piñon-juniper</td>\n",
       "      <td>81.767956</td>\n",
       "      <td>Mixed-conifer</td>\n",
       "      <td>0.058037</td>\n",
       "      <td>0.055037</td>\n",
       "      <td>0.183416</td>\n",
       "    </tr>\n",
       "    <tr>\n",
       "      <th>1</th>\n",
       "      <td>34602</td>\n",
       "      <td>Piñon-juniper</td>\n",
       "      <td>81.767956</td>\n",
       "      <td>Piñon-juniper</td>\n",
       "      <td>0.880543</td>\n",
       "      <td>0.830128</td>\n",
       "      <td>0.256595</td>\n",
       "    </tr>\n",
       "    <tr>\n",
       "      <th>2</th>\n",
       "      <td>34602</td>\n",
       "      <td>Piñon-juniper</td>\n",
       "      <td>81.767956</td>\n",
       "      <td>Ponderosa</td>\n",
       "      <td>0.058519</td>\n",
       "      <td>0.113658</td>\n",
       "      <td>0.408269</td>\n",
       "    </tr>\n",
       "    <tr>\n",
       "      <th>3</th>\n",
       "      <td>34602</td>\n",
       "      <td>Piñon-juniper</td>\n",
       "      <td>81.767956</td>\n",
       "      <td>Quaking aspen</td>\n",
       "      <td>0.002902</td>\n",
       "      <td>0.001177</td>\n",
       "      <td>0.151720</td>\n",
       "    </tr>\n",
       "    <tr>\n",
       "      <th>4</th>\n",
       "      <td>34603</td>\n",
       "      <td>Piñon-juniper</td>\n",
       "      <td>56.886228</td>\n",
       "      <td>Mixed-conifer</td>\n",
       "      <td>0.114194</td>\n",
       "      <td>0.115200</td>\n",
       "      <td>0.274633</td>\n",
       "    </tr>\n",
       "    <tr>\n",
       "      <th>5</th>\n",
       "      <td>34603</td>\n",
       "      <td>Piñon-juniper</td>\n",
       "      <td>56.886228</td>\n",
       "      <td>Piñon-juniper</td>\n",
       "      <td>0.665630</td>\n",
       "      <td>0.537862</td>\n",
       "      <td>0.221870</td>\n",
       "    </tr>\n",
       "    <tr>\n",
       "      <th>6</th>\n",
       "      <td>34603</td>\n",
       "      <td>Piñon-juniper</td>\n",
       "      <td>56.886228</td>\n",
       "      <td>Ponderosa</td>\n",
       "      <td>0.218051</td>\n",
       "      <td>0.345827</td>\n",
       "      <td>0.343040</td>\n",
       "    </tr>\n",
       "    <tr>\n",
       "      <th>7</th>\n",
       "      <td>34603</td>\n",
       "      <td>Piñon-juniper</td>\n",
       "      <td>56.886228</td>\n",
       "      <td>Quaking aspen</td>\n",
       "      <td>0.002125</td>\n",
       "      <td>0.001112</td>\n",
       "      <td>0.160457</td>\n",
       "    </tr>\n",
       "    <tr>\n",
       "      <th>8</th>\n",
       "      <td>34604</td>\n",
       "      <td>Piñon-juniper</td>\n",
       "      <td>52.095808</td>\n",
       "      <td>Mixed-conifer</td>\n",
       "      <td>0.068728</td>\n",
       "      <td>0.046173</td>\n",
       "      <td>0.172977</td>\n",
       "    </tr>\n",
       "    <tr>\n",
       "      <th>9</th>\n",
       "      <td>34604</td>\n",
       "      <td>Piñon-juniper</td>\n",
       "      <td>52.095808</td>\n",
       "      <td>Piñon-juniper</td>\n",
       "      <td>0.724584</td>\n",
       "      <td>0.666044</td>\n",
       "      <td>0.262333</td>\n",
       "    </tr>\n",
       "    <tr>\n",
       "      <th>10</th>\n",
       "      <td>34604</td>\n",
       "      <td>Piñon-juniper</td>\n",
       "      <td>52.095808</td>\n",
       "      <td>Ponderosa</td>\n",
       "      <td>0.204693</td>\n",
       "      <td>0.286861</td>\n",
       "      <td>0.384733</td>\n",
       "    </tr>\n",
       "    <tr>\n",
       "      <th>11</th>\n",
       "      <td>34604</td>\n",
       "      <td>Piñon-juniper</td>\n",
       "      <td>52.095808</td>\n",
       "      <td>Quaking aspen</td>\n",
       "      <td>0.001995</td>\n",
       "      <td>0.000922</td>\n",
       "      <td>0.179958</td>\n",
       "    </tr>\n",
       "  </tbody>\n",
       "</table>\n",
       "</div>"
      ],
      "text/plain": [
       "    grid_index    fortypnm_gp  fortyp_pct   species_gp_n  tpp_ld_pr  ba_ld_pr  \\\n",
       "0        34602  Piñon-juniper   81.767956  Mixed-conifer   0.058037  0.055037   \n",
       "1        34602  Piñon-juniper   81.767956  Piñon-juniper   0.880543  0.830128   \n",
       "2        34602  Piñon-juniper   81.767956      Ponderosa   0.058519  0.113658   \n",
       "3        34602  Piñon-juniper   81.767956  Quaking aspen   0.002902  0.001177   \n",
       "4        34603  Piñon-juniper   56.886228  Mixed-conifer   0.114194  0.115200   \n",
       "5        34603  Piñon-juniper   56.886228  Piñon-juniper   0.665630  0.537862   \n",
       "6        34603  Piñon-juniper   56.886228      Ponderosa   0.218051  0.345827   \n",
       "7        34603  Piñon-juniper   56.886228  Quaking aspen   0.002125  0.001112   \n",
       "8        34604  Piñon-juniper   52.095808  Mixed-conifer   0.068728  0.046173   \n",
       "9        34604  Piñon-juniper   52.095808  Piñon-juniper   0.724584  0.666044   \n",
       "10       34604  Piñon-juniper   52.095808      Ponderosa   0.204693  0.286861   \n",
       "11       34604  Piñon-juniper   52.095808  Quaking aspen   0.001995  0.000922   \n",
       "\n",
       "    qmd_ld_pr  \n",
       "0    0.183416  \n",
       "1    0.256595  \n",
       "2    0.408269  \n",
       "3    0.151720  \n",
       "4    0.274633  \n",
       "5    0.221870  \n",
       "6    0.343040  \n",
       "7    0.160457  \n",
       "8    0.172977  \n",
       "9    0.262333  \n",
       "10   0.384733  \n",
       "11   0.179958  "
      ]
     },
     "execution_count": 29,
     "metadata": {},
     "output_type": "execute_result"
    }
   ],
   "source": [
    "tree_metrics[['grid_index','fortypnm_gp','fortyp_pct','species_gp_n',\n",
    "              'tpp_ld_pr','ba_ld_pr','qmd_ld_pr']].head(12)"
   ]
  },
  {
   "cell_type": "code",
   "execution_count": 30,
   "id": "eb30783a-04c5-4e48-9dc6-ba260a0c911d",
   "metadata": {},
   "outputs": [
    {
     "name": "stdout",
     "output_type": "stream",
     "text": [
      "\n",
      "Index(['system:index', 'chili', 'elev', 'grid_index', 'slope', 'tpi', '.geo'], dtype='object')\n",
      "\n",
      "\n",
      "Index(['system:index', 'Fire_ID', 'erc', 'erc_dv', 'first_obs', 'vpd',\n",
      "       'vpd_dv', '.geo'],\n",
      "      dtype='object')\n",
      "\n"
     ]
    }
   ],
   "source": [
    "# Load the climate and topography information\n",
    "\n",
    "# topography\n",
    "fp = os.path.join(projdir,'data/earth-engine/exports/gridstats_topo.csv')\n",
    "topo = pd.read_csv(fp)\n",
    "print(f\"\\n{topo.columns}\\n\")\n",
    "\n",
    "# climate (gridmet)\n",
    "fp = os.path.join(projdir,'data/earth-engine/exports/gridstats_gridmet.csv')\n",
    "climate = pd.read_csv(fp)\n",
    "print(f\"\\n{climate.columns}\\n\")"
   ]
  },
  {
   "cell_type": "code",
   "execution_count": 31,
   "id": "eef4ae66-860f-440c-9d51-ea654c02a662",
   "metadata": {},
   "outputs": [
    {
     "name": "stdout",
     "output_type": "stream",
     "text": [
      "\n",
      "Index(['grid_index', 'grid_area', 'afd_count', 'unique_days', 'overlap',\n",
      "       'frp_csum', 'frp_max', 'frp_min', 'frp_mean', 'frp_p90', 'frp_p95',\n",
      "       'frp_p97', 'frp_p99', 'frp_first', 'day_max_frp', 'dt_max_frp',\n",
      "       'first_obs_date', 'last_obs_date', 't4_max', 't4_mean', 't5_max',\n",
      "       't5_mean', 'day_count', 'night_count', 'frp_max_day', 'frp_max_night',\n",
      "       'frp_csum_day', 'frp_csum_night', 'frp_mean_day', 'frp_mean_night',\n",
      "       'frp_p90_day', 'frp_p90_night', 'frp_p95_day', 'frp_p95_night',\n",
      "       'frp_p97_day', 'frp_p97_night', 'frp_p99_day', 'frp_p99_night',\n",
      "       'frp_first_day', 'frp_first_night', 'Fire_ID', 'Fire_Name', 'geometry',\n",
      "       'x', 'y', 'erc', 'erc_dv', 'vpd', 'vpd_dv'],\n",
      "      dtype='object')\n",
      "\n"
     ]
    }
   ],
   "source": [
    "# tidy and merge the climate/topo\n",
    "climate.rename(columns={'first_obs': 'first_obs_date'}, inplace=True) # for joining to the grid data\n",
    "climate = climate[['Fire_ID', 'first_obs_date', 'erc', 'erc_dv', 'vpd', 'vpd_dv']] # keep needed columns\n",
    "climate['Fire_ID'] = climate['Fire_ID'].astype(str) # to match the grid column\n",
    "grid['first_obs_date'] = grid['first_obs_date'].astype(str) # to match gee output\n",
    "# merge climate to the grid by fire id and first acquisition day\n",
    "grid_clim = grid.merge(climate, on=['Fire_ID','first_obs_date'], how='left')\n",
    "print(f\"\\n{grid_clim.columns}\\n\")"
   ]
  },
  {
   "cell_type": "code",
   "execution_count": 32,
   "id": "a94b8e59-2255-4e59-ad23-08b8bf13eeb3",
   "metadata": {},
   "outputs": [
    {
     "data": {
      "text/plain": [
       "Index(['grid_index', 'grid_area', 'afd_count', 'unique_days', 'overlap',\n",
       "       'frp_csum', 'frp_max', 'frp_min', 'frp_mean', 'frp_p90', 'frp_p95',\n",
       "       'frp_p97', 'frp_p99', 'frp_first', 'day_max_frp', 'dt_max_frp',\n",
       "       'first_obs_date', 'last_obs_date', 't4_max', 't4_mean', 't5_max',\n",
       "       't5_mean', 'day_count', 'night_count', 'frp_max_day', 'frp_max_night',\n",
       "       'frp_csum_day', 'frp_csum_night', 'frp_mean_day', 'frp_mean_night',\n",
       "       'frp_p90_day', 'frp_p90_night', 'frp_p95_day', 'frp_p95_night',\n",
       "       'frp_p97_day', 'frp_p97_night', 'frp_p99_day', 'frp_p99_night',\n",
       "       'frp_first_day', 'frp_first_night', 'Fire_ID', 'Fire_Name', 'geometry',\n",
       "       'x', 'y', 'erc', 'erc_dv', 'vpd', 'vpd_dv', 'elev', 'slope', 'chili',\n",
       "       'tpi'],\n",
       "      dtype='object')"
      ]
     },
     "execution_count": 32,
     "metadata": {},
     "output_type": "execute_result"
    }
   ],
   "source": [
    "# merge the topography to the grid\n",
    "topo = topo[['grid_index', 'elev', 'slope', 'chili', 'tpi']]\n",
    "grid_clim_topo = grid_clim.merge(topo, on='grid_index', how='left')\n",
    "grid_clim_topo.columns"
   ]
  },
  {
   "cell_type": "code",
   "execution_count": 33,
   "id": "8be34775-a3e3-49cb-857f-04283eda9d25",
   "metadata": {},
   "outputs": [
    {
     "name": "stdout",
     "output_type": "stream",
     "text": [
      "   grid_index    fortypnm_gp  fortyp_pct  forest_pct   species_gp_n  \\\n",
      "0       34602  Piñon-juniper   81.767956   99.450549  Mixed-conifer   \n",
      "1       34602  Piñon-juniper   81.767956   99.450549  Piñon-juniper   \n",
      "2       34602  Piñon-juniper   81.767956   99.450549      Ponderosa   \n",
      "\n",
      "        ba_live      ba_dead         ba_ld    tpp_live   tpp_dead  ...  \\\n",
      "0   1757.987391   131.985888   1889.973279   26.767667   0.222214  ...   \n",
      "1  25271.768073  3234.725392  28506.493465  406.122778  52.196950  ...   \n",
      "2   3753.173956   149.829507   3903.003463   26.989881   0.222214  ...   \n",
      "\n",
      "         erc     erc_dv       vpd    vpd_dv         elev     slope  \\\n",
      "0  67.272727  14.479287  1.125455  0.352746  2330.355876  8.706296   \n",
      "1  67.272727  14.479287  1.125455  0.352746  2330.355876  8.706296   \n",
      "2  67.272727  14.479287  1.125455  0.352746  2330.355876  8.706296   \n",
      "\n",
      "        chili        tpi          x          y  \n",
      "0  204.949908  22.736575 -109.55098  37.761913  \n",
      "1  204.949908  22.736575 -109.55098  37.761913  \n",
      "2  204.949908  22.736575 -109.55098  37.761913  \n",
      "\n",
      "[3 rows x 46 columns]\n"
     ]
    }
   ],
   "source": [
    "# subset columns to keep for modeling\n",
    "grid_clim_topo = grid_clim_topo[['grid_index','Fire_ID','first_obs_date','frp_csum','frp_max','frp_max_day',\n",
    "                                 'frp_max_night','frp_csum_day','frp_csum_night','afd_count','day_count','night_count',\n",
    "                                 'erc','erc_dv','vpd','vpd_dv','elev','slope','chili','tpi','x','y']]\n",
    "tree_metrics = tree_metrics[['grid_index','fortypnm_gp','fortyp_pct','forest_pct','species_gp_n',\n",
    "                             'ba_live','ba_dead','ba_ld',\n",
    "                             'tpp_live','tpp_dead','tpp_ld',\n",
    "                             'qmd_live','qmd_dead','qmd_ld',\n",
    "                             'ba_live_pr','ba_dead_pr','ba_ld_pr',\n",
    "                             'tpp_live_pr','tpp_dead_pr','tpp_ld_pr',\n",
    "                             'qmd_live_pr','qmd_dead_pr','qmd_ld_pr',\n",
    "                             'tree_ht_live','tree_ht_dead']]\n",
    "# merge the FRP, climate, and topogrpahy to the forest metrics table\n",
    "grid_tm = tree_metrics.merge(grid_clim_topo, on='grid_index', how='inner')\n",
    "print(grid_tm.head(3))"
   ]
  },
  {
   "cell_type": "code",
   "execution_count": 34,
   "id": "8b900f17-c082-4c38-9133-2bc4f828ab5d",
   "metadata": {},
   "outputs": [
    {
     "data": {
      "text/plain": [
       "255706"
      ]
     },
     "execution_count": 34,
     "metadata": {},
     "output_type": "execute_result"
    }
   ],
   "source": [
    "len(grid_tm)"
   ]
  },
  {
   "cell_type": "code",
   "execution_count": 35,
   "id": "a75ad8c6-0b64-45f9-aa89-9a22079d97ad",
   "metadata": {},
   "outputs": [
    {
     "name": "stdout",
     "output_type": "stream",
     "text": [
      "Saved file to: /Users/max/Library/CloudStorage/OneDrive-Personal/mcook/aspen-fire/Aim2/data/tabular/mod/gridstats_fortypnm_gp_tm_ct.csv\n"
     ]
    }
   ],
   "source": [
    "# save this file out.\n",
    "out_fp = os.path.join(projdir,'data/tabular/mod/gridstats_fortypnm_gp_tm_ct.csv')\n",
    "grid_tm.to_csv(out_fp)\n",
    "print(f\"Saved file to: {out_fp}\")"
   ]
  }
 ],
 "metadata": {
  "kernelspec": {
   "display_name": "aspen-fire",
   "language": "python",
   "name": "aspen-fire"
  },
  "language_info": {
   "codemirror_mode": {
    "name": "ipython",
    "version": 3
   },
   "file_extension": ".py",
   "mimetype": "text/x-python",
   "name": "python",
   "nbconvert_exporter": "python",
   "pygments_lexer": "ipython3",
   "version": "3.10.12"
  }
 },
 "nbformat": 4,
 "nbformat_minor": 5
}
