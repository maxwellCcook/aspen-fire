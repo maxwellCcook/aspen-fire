{
 "cells": [
  {
   "cell_type": "code",
   "execution_count": null,
   "id": "c3d482be-361d-4286-b949-6680bf24babb",
   "metadata": {},
   "outputs": [],
   "source": [
    "\"\"\"\n",
    "Summaries of USFS TreeMap linked to FIA plot data\n",
    "Emphasis on \n",
    "    - Metrics of forest composition\n",
    "    - Ecological gradients of species dominance\n",
    "    - Forest structure (abundance, dominance, diversity, stand height)\n",
    "\n",
    "Aggregate these statistics to FRP gridcells.\n",
    "\n",
    "Author: maxwell.cook@colorado.edu\n",
    "\"\"\"\n",
    "\n",
    "import os, sys, time\n",
    "import pandas as pd\n",
    "import rioxarray as rxr\n",
    "import xarray as xr\n",
    "import geopandas as gpd\n",
    "import seaborn as sns\n",
    "import matplotlib.pyplot as plt\n",
    "import matplotlib.colors as mcolors\n",
    "from matplotlib.colors import to_rgba\n",
    "\n",
    "# Custom functions\n",
    "sys.path.append(os.path.join(os.getcwd(),'code/'))\n",
    "from __functions import *\n",
    "\n",
    "albers = 'EPSG:5070' # albers CONUS\n",
    "utm = 'EPSG:32613' # UTM Zone 13N\n",
    "\n",
    "maindir = '/Users/max/Library/CloudStorage/OneDrive-Personal/mcook/'\n",
    "projdir = os.path.join(maindir, 'aspen-fire/Aim2/')\n",
    "\n",
    "print(\"Ready to go !\")"
   ]
  },
  {
   "cell_type": "code",
   "execution_count": null,
   "id": "af7d2100-d318-41ce-970d-7686f0359b88",
   "metadata": {},
   "outputs": [],
   "source": [
    "# load the aggregated FRP grids (regular 375m2 grids summarizing FRP from VIIRS)\n",
    "fp = os.path.join(projdir,'data/spatial/mod/VIIRS/viirs_snpp_jpss1_afd_latlon_fires_pixar_gridstats.gpkg')\n",
    "grid = gpd.read_file(fp)\n",
    "print(f\"\\nThere are [{len(grid)}] grids across [{len(grid['Fire_ID'].unique())}] fires.\\n\")\n",
    "\n",
    "# create a unique ID\n",
    "grid['grid_idx'] = grid['Fire_ID'].astype(str) + grid['grid_index'].astype(str)\n",
    "\n",
    "# add the centroid lat/lon to the grid data\n",
    "df = grid.to_crs(4326) # WGS coords for lat/lon\n",
    "df['x'] = df.geometry.centroid.x  # Longitude (x-coordinate)\n",
    "df['y'] = df.geometry.centroid.y\n",
    "grid = grid.merge(df[['grid_idx','x','y']], on='grid_idx', how='left')\n",
    "del df\n",
    "print(f\"\\n{grid.columns}\\n\")\n",
    "\n",
    "# Drop any dupicate grids ...\n",
    "print(f\"Dropping [{grid.duplicated(subset=['grid_idx']).sum()}] duplicate grids.\\n\")\n",
    "grid = grid.drop_duplicates(subset=['grid_idx'], keep='first')"
   ]
  },
  {
   "cell_type": "code",
   "execution_count": null,
   "id": "462f3abd-e007-4ede-941e-d761c08de786",
   "metadata": {},
   "outputs": [],
   "source": [
    "# Check out the distribution of grid overlap with FRP observations\n",
    "thresh = 0.10\n",
    "print(f\"Fractional overlap:\\n{grid['overlap'].describe()}\\n\")\n",
    "n_small = grid[grid['overlap'] < thresh]['grid_idx'].count() # less than 5% spatial overlap\n",
    "\n",
    "# Plot the distribution of the fractional overlap\n",
    "plt.figure(figsize=(6,3))\n",
    "sns.histplot(grid['overlap'], kde=True, bins=50, color='dodgerblue', alpha=0.7)\n",
    "\n",
    "# Add vertical line for the threshold and for 100%\n",
    "plt.axvline(x=thresh, color='red', linestyle='--', label=f'{thresh*100}% Threshold')\n",
    "plt.axvline(x=1, color='grey', linestyle='--', label='100% Overlap')\n",
    "\n",
    "# Customize the plot\n",
    "plt.title('Distribution of Grid Overlap Fraction')\n",
    "plt.xlabel('Fractional Overlap')\n",
    "plt.ylabel('Frequency')\n",
    "plt.legend()\n",
    "plt.grid(True, linestyle='--', alpha=0.5)\n",
    "plt.text(16.5, plt.ylim()[1] * 0.7, \n",
    "         f'N = {n_small} [{round(n_small/len(grid)*100,2)}%]', \n",
    "         fontsize=10, color='black')\n",
    "\n",
    "# Save the plot\n",
    "out_path = os.path.join(projdir, 'figures/grid_overlap_distribution.png')\n",
    "plt.savefig(out_path, dpi=300, bbox_inches='tight')\n",
    "\n",
    "plt.show()\n",
    "print(f\"Plot saved to: {out_path}\")"
   ]
  },
  {
   "cell_type": "code",
   "execution_count": null,
   "id": "7504761e-9699-4646-9d17-18de87134fc0",
   "metadata": {},
   "outputs": [],
   "source": [
    "# filter out grids below the overlap threshold\n",
    "print(f\"Dropping [{n_small} ({round(n_small/len(grid)*100,2)}%)] grids with <{thresh*100}% fractional overlap.\")\n",
    "grid = grid[grid['overlap'] >= thresh] # remove these observations\n",
    "print(len(grid))"
   ]
  },
  {
   "cell_type": "code",
   "execution_count": null,
   "id": "3c44fa3a-9cfe-4430-8c28-043abd68b8e6",
   "metadata": {},
   "outputs": [],
   "source": [
    "# Load the FORTYPCD and the Tree Table summaries\n",
    "\n",
    "# FORTYPCD\n",
    "fp = os.path.join(projdir,'data/tabular/mod/viirs_snpp_jpss1_gridstats_fortypnm_gp.csv')\n",
    "fortyp = pd.read_csv(fp)\n",
    "print(f\"FORTYPCD columns:\\n{fortyp.columns}\\n\")\n",
    "\n",
    "# Tree Table\n",
    "fp = os.path.join(projdir,'data/tabular/mod/gridstats_treetable.csv')\n",
    "trees = pd.read_csv(fp)\n",
    "trees.drop(columns=['Unnamed: 0','forest_pct'], inplace=True)\n",
    "print(f\"Tree Table columns:\\n{trees.columns}\\n\")\n",
    "\n",
    "# Check on how many grids match\n",
    "print(f\"\\tFORTYP unique grids: {len(fortyp['grid_idx'].unique())}\")\n",
    "print(f\"\\t\\t total rows: {len(fortyp)}\")\n",
    "print(f\"\\tTree Table unique grids: {len(trees['grid_idx'].unique())}\")\n",
    "print(f\"\\t\\t total rows: {len(trees)}\")"
   ]
  },
  {
   "cell_type": "code",
   "execution_count": null,
   "id": "1e7053cb-a618-4102-b9ad-ae9ed8de595c",
   "metadata": {},
   "outputs": [],
   "source": [
    "# check how many matching grids\n",
    "match = fortyp[fortyp['grid_idx'].isin(trees['grid_idx'].unique())]\n",
    "# Check on how many grids match\n",
    "print(f\"\\tFORTYP unique grids: {len(match['grid_idx'].unique())}\")\n",
    "print(f\"\\t\\t total rows: {len(match)}\")\n",
    "print(f\"\\tTree Table unique grids: {len(trees['grid_idx'].unique())}\")\n",
    "print(f\"\\t\\t total rows: {len(trees)}\")\n",
    "del match\n",
    "gc.collect()"
   ]
  },
  {
   "cell_type": "code",
   "execution_count": null,
   "id": "ede54433-3f46-438e-aa92-497af57e75e3",
   "metadata": {},
   "outputs": [],
   "source": [
    "# calculate the dominant forest type using the FORTYPCD\n",
    "dfortyp = fortyp.loc[fortyp.groupby('grid_idx')['fortyp_pct'].idxmax()]\n",
    "dfortyp = dfortyp[[\n",
    "    'grid_idx','fortypnm_gp','fortyp_pct',\n",
    "    'forest_pct','canopypct_mean','balive_sum'\n",
    "]]\n",
    "dfortyp = dfortyp[dfortyp['grid_idx'].isin(trees['grid_idx'].unique())] # retain matching grids\n",
    "dfortyp.columns"
   ]
  },
  {
   "cell_type": "code",
   "execution_count": null,
   "id": "d26c7827-d6ea-47f6-a492-bfe119a77f23",
   "metadata": {},
   "outputs": [],
   "source": [
    "dfortyp['fortypnm_gp'].unique()"
   ]
  },
  {
   "cell_type": "code",
   "execution_count": null,
   "id": "079fcc55-20ea-4871-852e-cc22cedd32c7",
   "metadata": {},
   "outputs": [],
   "source": [
    "# Check on how many matches there are between the dominant type and the Tree Table\n",
    "matches = (dfortyp['grid_idx'].isin(trees[trees['species_gp_n'].isin(dfortyp['fortypnm_gp'])]['grid_idx'])).sum()\n",
    "# Print the results\n",
    "total_grids = dfortyp['grid_idx'].nunique()\n",
    "print(f\"\\nTotal grids: {total_grids}\\n\")\n",
    "print(f\"{matches} ({(matches / total_grids) * 100:.2f}%)\\n\")\n",
    "del matches, total_grids\n",
    "gc.collect()"
   ]
  },
  {
   "cell_type": "code",
   "execution_count": null,
   "id": "dcb01003-7b31-46ee-9e51-09c9d7a93661",
   "metadata": {},
   "outputs": [],
   "source": [
    "# merge to the tree table metrics\n",
    "tree_metrics = dfortyp.merge(trees, on='grid_idx', how='left')\n",
    "tree_metrics.head()"
   ]
  },
  {
   "cell_type": "code",
   "execution_count": null,
   "id": "9a7cfa77-d287-4f0a-af5e-60bbc6800473",
   "metadata": {},
   "outputs": [],
   "source": [
    "print(len(tree_metrics))"
   ]
  },
  {
   "cell_type": "code",
   "execution_count": null,
   "id": "74065898-697d-4971-8065-2b5ae41b80ca",
   "metadata": {},
   "outputs": [],
   "source": [
    "tree_metrics.columns"
   ]
  },
  {
   "cell_type": "code",
   "execution_count": null,
   "id": "68a54fdd-e63f-4827-bb3a-050a49c0f35d",
   "metadata": {},
   "outputs": [],
   "source": [
    "tree_metrics[['grid_idx','fortypnm_gp','species_gp_n',\n",
    "              'fortyp_pct','canopypct_mean','balive_sum',\n",
    "              'tpp_ld_pr','ba_ld_pr','qmd_ld_pr']].head(12)"
   ]
  },
  {
   "cell_type": "code",
   "execution_count": null,
   "id": "eb30783a-04c5-4e48-9dc6-ba260a0c911d",
   "metadata": {},
   "outputs": [],
   "source": [
    "# Load the climate and topography information\n",
    "\n",
    "# topography\n",
    "fp = os.path.join(projdir,'data/earth-engine/exports/gridstats_topo.csv')\n",
    "topo = pd.read_csv(fp)\n",
    "# create a unique ID\n",
    "topo['grid_idx'] = topo['Fire_ID'].astype(str) + topo['grid_index'].astype(str)\n",
    "print(f\"\\n{topo.columns}\\n\")\n",
    "\n",
    "# climate (gridmet)\n",
    "fp = os.path.join(projdir,'data/earth-engine/exports/gridstats_gridmet_full.csv')\n",
    "climate = pd.read_csv(fp)\n",
    "print(f\"\\n{climate.columns}\\n\")"
   ]
  },
  {
   "cell_type": "code",
   "execution_count": null,
   "id": "eef4ae66-860f-440c-9d51-ea654c02a662",
   "metadata": {},
   "outputs": [],
   "source": [
    "# tidy and merge the climate/topo\n",
    "climate.rename(columns={'first_obs': 'first_obs_date'}, inplace=True) # for joining to the grid data\n",
    "climate = climate[[\n",
    "    'Fire_ID', 'first_obs_date', 'erc', 'erc_dv', \n",
    "    'fm1000', 'fm1000_dv', 'rmin', 'rmin_dv', 'tmmx', 'tmmx_dv', \n",
    "    'vpd', 'vpd_dv', 'vs', 'vs_dv'\n",
    "]] # keep needed columns\n",
    "climate['Fire_ID'] = climate['Fire_ID'].astype(str) # to match the grid column\n",
    "grid['first_obs_date'] = grid['first_obs_date'].astype(str) # to match gee output\n",
    "# merge climate to the grid by fire id and first acquisition day\n",
    "grid_clim = grid.merge(climate, on=['Fire_ID','first_obs_date'], how='left')\n",
    "print(f\"\\n{grid_clim.columns}\\n\")"
   ]
  },
  {
   "cell_type": "code",
   "execution_count": null,
   "id": "a94b8e59-2255-4e59-ad23-08b8bf13eeb3",
   "metadata": {},
   "outputs": [],
   "source": [
    "# merge the topography to the grid\n",
    "topo = topo[['grid_idx', 'elev', 'slope', 'chili', 'tpi']]\n",
    "grid_clim_topo = grid_clim.merge(topo, on='grid_idx', how='left')\n",
    "grid_clim_topo.columns"
   ]
  },
  {
   "cell_type": "code",
   "execution_count": null,
   "id": "20c1b7fd-0346-4302-aa26-5c540cd9f2a0",
   "metadata": {},
   "outputs": [],
   "source": [
    "tree_metrics.columns"
   ]
  },
  {
   "cell_type": "code",
   "execution_count": null,
   "id": "8be34775-a3e3-49cb-857f-04283eda9d25",
   "metadata": {},
   "outputs": [],
   "source": [
    "# merge the FRP, climate, and topogrpahy to the forest metrics table\n",
    "grid_clim_topo['grid_idx'] = grid_clim_topo['grid_idx'].astype(int)\n",
    "grid_tm = tree_metrics.merge(grid_clim_topo, on=['grid_idx'], how='inner')\n",
    "print(grid_tm.head(3))"
   ]
  },
  {
   "cell_type": "code",
   "execution_count": null,
   "id": "8b900f17-c082-4c38-9133-2bc4f828ab5d",
   "metadata": {},
   "outputs": [],
   "source": [
    "len(grid_tm)"
   ]
  },
  {
   "cell_type": "code",
   "execution_count": null,
   "id": "a75ad8c6-0b64-45f9-aa89-9a22079d97ad",
   "metadata": {},
   "outputs": [],
   "source": [
    "# save this file out.\n",
    "out_fp = os.path.join(projdir,'data/tabular/mod/gridstats_fortypnm_gp_tm_ct.csv')\n",
    "grid_tm.to_csv(out_fp)\n",
    "print(f\"Saved file to: {out_fp}\")"
   ]
  }
 ],
 "metadata": {
  "kernelspec": {
   "display_name": "aspen-fire",
   "language": "python",
   "name": "aspen-fire"
  },
  "language_info": {
   "codemirror_mode": {
    "name": "ipython",
    "version": 3
   },
   "file_extension": ".py",
   "mimetype": "text/x-python",
   "name": "python",
   "nbconvert_exporter": "python",
   "pygments_lexer": "ipython3",
   "version": "3.10.12"
  }
 },
 "nbformat": 4,
 "nbformat_minor": 5
}
