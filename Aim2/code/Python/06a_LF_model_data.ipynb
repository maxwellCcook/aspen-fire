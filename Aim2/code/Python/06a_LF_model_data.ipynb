{
 "cells": [
  {
   "cell_type": "code",
   "id": "c3d482be-361d-4286-b949-6680bf24babb",
   "metadata": {
    "ExecuteTime": {
     "end_time": "2025-07-31T03:18:24.538910Z",
     "start_time": "2025-07-31T03:18:24.196231Z"
    }
   },
   "source": [
    "\"\"\"\n",
    "This notebook collates the LF summaries with the geographic setting (weather + topography) and burn severity summaries\n",
    "Author: maxwell.cook@colorado.edu\n",
    "\"\"\"\n",
    "\n",
    "import os, sys\n",
    "\n",
    "# import custom functions\n",
    "sys.path.append(os.path.join(os.getcwd(),'code/'))\n",
    "from __functions import *\n",
    "\n",
    "# projection information\n",
    "albers = 'EPSG:5070' # albers CONUS\n",
    "utm = 'EPSG:32613' # UTM Zone 13N\n",
    "\n",
    "# directories\n",
    "cwd = Path(os.getcwd())\n",
    "projdir = cwd.parents[1] # project home directory\n",
    "maindir = cwd.parents[3] # main directory structure\n",
    "\n",
    "print(\"Ready to go !\")"
   ],
   "outputs": [
    {
     "name": "stdout",
     "output_type": "stream",
     "text": [
      "Ready to go !\n"
     ]
    }
   ],
   "execution_count": 1
  },
  {
   "cell_type": "code",
   "id": "af7d2100-d318-41ce-970d-7686f0359b88",
   "metadata": {
    "ExecuteTime": {
     "end_time": "2025-07-31T03:18:35.661054Z",
     "start_time": "2025-07-31T03:18:34.168229Z"
    }
   },
   "source": [
    "# load the aggregated FRP grids (regular 375m2 grids summarizing FRP from VIIRS)\n",
    "fp = os.path.join(projdir,'data/spatial/mod/VIIRS/viirs_snpp_jpss1_afd_latlon_fires_pixar_gridstats.gpkg')\n",
    "grid = gpd.read_file(fp)\n",
    "print(f\"\\nThere are [{len(grid)}] grids across [{len(grid['Fire_ID'].unique())}] fires.\\n\")\n",
    "\n",
    "# create a unique ID\n",
    "grid['grid_idx'] = grid['Fire_ID'].astype(str) + grid['grid_index'].astype(str)\n",
    "\n",
    "# add the centroid lat/lon to the grid data\n",
    "df = grid.to_crs(4326) # WGS coords for lat/lon\n",
    "df['x'] = df.geometry.centroid.x  # Longitude (x-coordinate)\n",
    "df['y'] = df.geometry.centroid.y  # Latitude (y-coordinate)\n",
    "grid = grid.merge(df[['grid_idx','x','y']], on='grid_idx', how='left')\n",
    "del df\n",
    "print(f\"\\n{grid.columns}\\n\")\n",
    "\n",
    "# Drop any dupicate grids ...\n",
    "print(f\"Dropping [{grid.duplicated(subset=['grid_idx']).sum()}] duplicate grids.\\n\")\n",
    "grid = grid.drop_duplicates(subset=['grid_idx'], keep='first')"
   ],
   "outputs": [
    {
     "name": "stderr",
     "output_type": "stream",
     "text": [
      "ERROR 1: PROJ: proj_create_from_database: Cannot find proj.db\n"
     ]
    },
    {
     "name": "stdout",
     "output_type": "stream",
     "text": [
      "\n",
      "There are [57232] grids across [100] fires.\n",
      "\n",
      "\n",
      "Index(['grid_index', 'grid_area', 'afd_count', 'unique_days', 'overlap',\n",
      "       'frp_csum', 'frp_max', 'frp_min', 'frp_mean', 'frp_p90', 'frp_p95',\n",
      "       'frp_p97', 'frp_p99', 'frp_first', 'day_max_frp', 'dt_max_frp',\n",
      "       'first_obs_date', 'last_obs_date', 't4_max', 't4_mean', 't5_max',\n",
      "       't5_mean', 'day_count', 'night_count', 'frp_max_day', 'frp_max_night',\n",
      "       'frp_csum_day', 'frp_csum_night', 'frp_mean_day', 'frp_mean_night',\n",
      "       'frp_p90_day', 'frp_p90_night', 'frp_p95_day', 'frp_p95_night',\n",
      "       'frp_p97_day', 'frp_p97_night', 'frp_p99_day', 'frp_p99_night',\n",
      "       'frp_first_day', 'frp_first_night', 'Fire_ID', 'Fire_Name', 'geometry',\n",
      "       'grid_idx', 'x', 'y'],\n",
      "      dtype='object')\n",
      "\n",
      "Dropping [0] duplicate grids.\n",
      "\n"
     ]
    }
   ],
   "execution_count": 2
  },
  {
   "cell_type": "code",
   "id": "462f3abd-e007-4ede-941e-d761c08de786",
   "metadata": {
    "ExecuteTime": {
     "end_time": "2025-07-31T03:20:00.100819Z",
     "start_time": "2025-07-31T03:19:59.822226Z"
    }
   },
   "source": [
    "# Check out the distribution of grid overlap with FRP observations\n",
    "thresh = 0.50\n",
    "print(f\"Fractional overlap:\\n{grid['overlap'].describe()}\\n\")\n",
    "n_small = grid[grid['overlap'] < thresh]['grid_idx'].count() # less than 5% spatial overlap\n",
    "\n",
    "# Plot the distribution of the fractional overlap\n",
    "plt.figure(figsize=(6,3))\n",
    "sns.histplot(grid['overlap'], kde=True, bins=50, color='dodgerblue', alpha=0.7)\n",
    "\n",
    "# Add vertical line for the threshold and for 100%\n",
    "plt.axvline(x=thresh, color='red', linestyle='--', label=f'{thresh*100}% Threshold')\n",
    "plt.axvline(x=1, color='grey', linestyle='--', label='100% Overlap')\n",
    "\n",
    "# Customize the plot\n",
    "# plt.title('Distribution of Grid Overlap Fraction')\n",
    "plt.xlabel('Cumulative Fractional Overlap')\n",
    "plt.ylabel('Frequency')\n",
    "plt.legend()\n",
    "plt.grid(True, linestyle='--', alpha=0.5)\n",
    "plt.text(16.5, plt.ylim()[1] * 0.7, \n",
    "         f'N = {n_small} [{round(n_small/len(grid)*100,2)}%]', \n",
    "         fontsize=10, color='black')\n",
    "\n",
    "# Save the plot\n",
    "out_path = os.path.join(projdir, 'figures/grid_overlap_distribution.png')\n",
    "plt.savefig(out_path, dpi=300, bbox_inches='tight')\n",
    "\n",
    "plt.show()\n",
    "print(f\"Plot saved to: {out_path}\")\n",
    "\n",
    "# filter out grids below the overlap threshold\n",
    "print(f\"\\nDropping [{n_small} ({round(n_small/len(grid)*100,2)}%)] grids with <{thresh*100}% fractional overlap.\")\n",
    "grid = grid[grid['overlap'] >= thresh] # remove these observations\n",
    "print(len(grid))"
   ],
   "outputs": [
    {
     "name": "stdout",
     "output_type": "stream",
     "text": [
      "Fractional overlap:\n",
      "count    57232.000000\n",
      "mean         2.023404\n",
      "std          2.001402\n",
      "min          0.000003\n",
      "25%          0.587511\n",
      "50%          1.493563\n",
      "75%          2.771206\n",
      "max         24.470760\n",
      "Name: overlap, dtype: float64\n",
      "\n"
     ]
    },
    {
     "data": {
      "text/plain": [
       "<Figure size 600x300 with 1 Axes>"
      ],
      "image/png": "[encoded data removed]"
     },
     "metadata": {},
     "output_type": "display_data"
    },
    {
     "name": "stdout",
     "output_type": "stream",
     "text": [
      "Plot saved to: /Users/max/Library/CloudStorage/OneDrive-Personal/mcook/aspen-fire/Aim2/figures/grid_overlap_distribution.png\n",
      "\n",
      "Dropping [12639 (22.08%)] grids with <50.0% fractional overlap.\n",
      "44593\n"
     ]
    }
   ],
   "execution_count": 3
  },
  {
   "cell_type": "code",
   "id": "3c44fa3a-9cfe-4430-8c28-043abd68b8e6",
   "metadata": {
    "ExecuteTime": {
     "end_time": "2025-07-31T03:20:06.079865Z",
     "start_time": "2025-07-31T03:20:05.979188Z"
    }
   },
   "source": [
    "# Load the LANDFIRE and TreeMap summaries\n",
    "fp = os.path.join(projdir,'data/tabular/mod/gridstats_lf.csv')\n",
    "lf_df = pd.read_csv(fp)\n",
    "lf_df.drop(columns=['Unnamed: 0'], inplace=True)\n",
    "# Check on it\n",
    "print(f\"LF Attributes:\\n{lf_df.columns}\\n\")\n",
    "print(f\"\\tunique grids: {len(lf_df['grid_idx'].unique())}\")\n",
    "print(f\"\\t\\t total rows: {len(lf_df)}\")"
   ],
   "outputs": [
    {
     "name": "stdout",
     "output_type": "stream",
     "text": [
      "LF Attributes:\n",
      "Index(['grid_idx', 'fortypnm_gp', 'proportion', 'CC', 'CH', 'CBH', 'CBD',\n",
      "       'BALIVE', 'SDI', 'QMD'],\n",
      "      dtype='object')\n",
      "\n",
      "\tunique grids: 44193\n",
      "\t\t total rows: 138853\n"
     ]
    }
   ],
   "execution_count": 4
  },
  {
   "cell_type": "code",
   "id": "ede54433-3f46-438e-aa92-497af57e75e3",
   "metadata": {
    "ExecuteTime": {
     "end_time": "2025-07-31T03:20:10.149314Z",
     "start_time": "2025-07-31T03:20:10.118687Z"
    }
   },
   "source": [
    "# calculate the proportion of the gridcell that is forested\n",
    "prop_forest = lf_df.groupby(['grid_idx'])['proportion'].sum().reset_index(name='prop_forest')\n",
    "print(prop_forest.head())\n",
    "# calculate the gridcell dominant forest types\n",
    "dom_evt = lf_df.loc[lf_df.groupby('grid_idx')['proportion'].idxmax()]\n",
    "dom_evt.rename(columns={'fortypnm_gp':'dom_fortyp'}, inplace=True)\n",
    "# merge in the forest proportion\n",
    "dom_evt = pd.merge(dom_evt, prop_forest, on='grid_idx', how='left')\n",
    "print(dom_evt.head())"
   ],
   "outputs": [
    {
     "name": "stdout",
     "output_type": "stream",
     "text": [
      "   grid_idx  prop_forest\n",
      "0    819725    39.411765\n",
      "1    821970    84.615385\n",
      "2    821974    84.023669\n",
      "3    821975    36.094675\n",
      "4    821992    95.857988\n",
      "   grid_idx   dom_fortyp  proportion         CC         CH         CBH  \\\n",
      "0    819725        Aspen   24.117647  35.000000  144.00000   93.925000   \n",
      "1    821970        Aspen   39.644970  47.950820  151.31148  100.000000   \n",
      "2    821974  Aspen–Mixed   29.585799  50.128204  176.66667    3.000000   \n",
      "3    821975        Aspen   14.201183  30.714285  130.95238   89.714290   \n",
      "4    821992   Spruce-fir   38.461538  54.661020  146.61017    5.169491   \n",
      "\n",
      "         CBD      BALIVE        SDI       QMD  prop_forest  \n",
      "0   1.000000   47.054203  16.542500  6.035000    39.411765  \n",
      "1   1.000000   78.202250  23.178688  6.440983    84.615385  \n",
      "2  10.820513  131.510330  32.630768  9.415385    84.023669  \n",
      "3   1.000000   43.088160  13.214286  5.552381    36.094675  \n",
      "4  13.203390  168.625370        NaN       NaN    95.857988  \n"
     ]
    }
   ],
   "execution_count": 5
  },
  {
   "cell_type": "code",
   "id": "d26c7827-d6ea-47f6-a492-bfe119a77f23",
   "metadata": {
    "ExecuteTime": {
     "end_time": "2025-07-31T03:20:12.440473Z",
     "start_time": "2025-07-31T03:20:12.431798Z"
    }
   },
   "source": "dom_evt['dom_fortyp'].value_counts()",
   "outputs": [
    {
     "data": {
      "text/plain": [
       "dom_fortyp\n",
       "Ponderosa pine    14178\n",
       "Lodgepole pine    10413\n",
       "Spruce-fir         7748\n",
       "Aspen              4294\n",
       "Douglas-fir        3093\n",
       "White fir          2720\n",
       "Pinon-juniper      1548\n",
       "Aspen–Mixed         199\n",
       "Name: count, dtype: int64"
      ]
     },
     "execution_count": 6,
     "metadata": {},
     "output_type": "execute_result"
    }
   ],
   "execution_count": 6
  },
  {
   "metadata": {
    "ExecuteTime": {
     "end_time": "2025-07-31T03:20:21.683618Z",
     "start_time": "2025-07-31T03:20:21.659860Z"
    }
   },
   "cell_type": "code",
   "source": [
    "# merge back the gridcell summaries\n",
    "dom_evt = dom_evt[['grid_idx','dom_fortyp','prop_forest']]\n",
    "lf_df = pd.merge(lf_df, dom_evt, on='grid_idx', how='left')\n",
    "lf_df.head()"
   ],
   "id": "865b93d1137c7e05",
   "outputs": [
    {
     "data": {
      "text/plain": [
       "   grid_idx  fortypnm_gp  proportion        CC         CH      CBH    CBD  \\\n",
       "0    819725        Aspen   24.117647  35.00000  144.00000   93.925   1.00   \n",
       "1    819725  Douglas-fir    1.176471  35.00000  110.00000    3.000   8.00   \n",
       "2    819725   Spruce-fir    2.352941  52.50000  150.00000    5.500  11.75   \n",
       "3    819725  Aspen–Mixed   11.764706  45.50000  176.00000    3.000   9.20   \n",
       "4    821970        Aspen   39.644970  47.95082  151.31148  100.000   1.00   \n",
       "\n",
       "       BALIVE        SDI       QMD dom_fortyp  prop_forest  \n",
       "0   47.054203  16.542500  6.035000      Aspen    39.411765  \n",
       "1   61.333350        inf       inf      Aspen    39.411765  \n",
       "2  141.676600  41.950000  5.275000      Aspen    39.411765  \n",
       "3   98.226616  34.850000  6.800000      Aspen    39.411765  \n",
       "4   78.202250  23.178688  6.440983      Aspen    84.615385  "
      ],
      "text/html": [
       "<div>\n",
       "<style scoped>\n",
       "    .dataframe tbody tr th:only-of-type {\n",
       "        vertical-align: middle;\n",
       "    }\n",
       "\n",
       "    .dataframe tbody tr th {\n",
       "        vertical-align: top;\n",
       "    }\n",
       "\n",
       "    .dataframe thead th {\n",
       "        text-align: right;\n",
       "    }\n",
       "</style>\n",
       "<table border=\"1\" class=\"dataframe\">\n",
       "  <thead>\n",
       "    <tr style=\"text-align: right;\">\n",
       "      <th></th>\n",
       "      <th>grid_idx</th>\n",
       "      <th>fortypnm_gp</th>\n",
       "      <th>proportion</th>\n",
       "      <th>CC</th>\n",
       "      <th>CH</th>\n",
       "      <th>CBH</th>\n",
       "      <th>CBD</th>\n",
       "      <th>BALIVE</th>\n",
       "      <th>SDI</th>\n",
       "      <th>QMD</th>\n",
       "      <th>dom_fortyp</th>\n",
       "      <th>prop_forest</th>\n",
       "    </tr>\n",
       "  </thead>\n",
       "  <tbody>\n",
       "    <tr>\n",
       "      <th>0</th>\n",
       "      <td>819725</td>\n",
       "      <td>Aspen</td>\n",
       "      <td>24.117647</td>\n",
       "      <td>35.00000</td>\n",
       "      <td>144.00000</td>\n",
       "      <td>93.925</td>\n",
       "      <td>1.00</td>\n",
       "      <td>47.054203</td>\n",
       "      <td>16.542500</td>\n",
       "      <td>6.035000</td>\n",
       "      <td>Aspen</td>\n",
       "      <td>39.411765</td>\n",
       "    </tr>\n",
       "    <tr>\n",
       "      <th>1</th>\n",
       "      <td>819725</td>\n",
       "      <td>Douglas-fir</td>\n",
       "      <td>1.176471</td>\n",
       "      <td>35.00000</td>\n",
       "      <td>110.00000</td>\n",
       "      <td>3.000</td>\n",
       "      <td>8.00</td>\n",
       "      <td>61.333350</td>\n",
       "      <td>inf</td>\n",
       "      <td>inf</td>\n",
       "      <td>Aspen</td>\n",
       "      <td>39.411765</td>\n",
       "    </tr>\n",
       "    <tr>\n",
       "      <th>2</th>\n",
       "      <td>819725</td>\n",
       "      <td>Spruce-fir</td>\n",
       "      <td>2.352941</td>\n",
       "      <td>52.50000</td>\n",
       "      <td>150.00000</td>\n",
       "      <td>5.500</td>\n",
       "      <td>11.75</td>\n",
       "      <td>141.676600</td>\n",
       "      <td>41.950000</td>\n",
       "      <td>5.275000</td>\n",
       "      <td>Aspen</td>\n",
       "      <td>39.411765</td>\n",
       "    </tr>\n",
       "    <tr>\n",
       "      <th>3</th>\n",
       "      <td>819725</td>\n",
       "      <td>Aspen–Mixed</td>\n",
       "      <td>11.764706</td>\n",
       "      <td>45.50000</td>\n",
       "      <td>176.00000</td>\n",
       "      <td>3.000</td>\n",
       "      <td>9.20</td>\n",
       "      <td>98.226616</td>\n",
       "      <td>34.850000</td>\n",
       "      <td>6.800000</td>\n",
       "      <td>Aspen</td>\n",
       "      <td>39.411765</td>\n",
       "    </tr>\n",
       "    <tr>\n",
       "      <th>4</th>\n",
       "      <td>821970</td>\n",
       "      <td>Aspen</td>\n",
       "      <td>39.644970</td>\n",
       "      <td>47.95082</td>\n",
       "      <td>151.31148</td>\n",
       "      <td>100.000</td>\n",
       "      <td>1.00</td>\n",
       "      <td>78.202250</td>\n",
       "      <td>23.178688</td>\n",
       "      <td>6.440983</td>\n",
       "      <td>Aspen</td>\n",
       "      <td>84.615385</td>\n",
       "    </tr>\n",
       "  </tbody>\n",
       "</table>\n",
       "</div>"
      ]
     },
     "execution_count": 7,
     "metadata": {},
     "output_type": "execute_result"
    }
   ],
   "execution_count": 7
  },
  {
   "metadata": {},
   "cell_type": "markdown",
   "source": "## Load the topography and climate summaries",
   "id": "604b6d396ae740e4"
  },
  {
   "cell_type": "code",
   "id": "eef4ae66-860f-440c-9d51-ea654c02a662",
   "metadata": {
    "ExecuteTime": {
     "end_time": "2025-07-31T03:21:06.040409Z",
     "start_time": "2025-07-31T03:21:06.009567Z"
    }
   },
   "source": [
    "########################\n",
    "# fire weather (gridmet)\n",
    "fp = os.path.join(projdir,'data/earth-engine/exports/gridstats_gridmet_full.csv')\n",
    "climate = pd.read_csv(fp)\n",
    "print(f\"Climate variables:\\n{climate.columns}\\n\")\n",
    "\n",
    "# tidy and merge the climate/topo\n",
    "climate.rename(columns={\n",
    "    'first_obs': 'first_obs_date',\n",
    "    'last_obs': 'last_obs_date',\n",
    "}, inplace=True) # for joining to the grid data\n",
    "\n",
    "climate = climate[[\n",
    "    'Fire_ID', 'first_obs_date', 'erc', 'erc_dv',\n",
    "    'fm1000', 'fm1000_dv', 'rmin', 'rmin_dv', 'tmmx', 'tmmx_dv',\n",
    "    'vpd', 'vpd_dv', 'vs', 'vs_dv'\n",
    "]] # keep needed columns\n",
    "\n",
    "climate['Fire_ID'] = climate['Fire_ID'].astype(str) # to match the grid column\n",
    "grid['first_obs_date'] = grid['first_obs_date'].astype(str) # to match gee output\n",
    "grid['last_obs_date'] = grid['last_obs_date'].astype(str) # to match gee output\n",
    "\n",
    "# merge climate to the grid by fire id and first acquisition day\n",
    "grid_clim = grid.merge(climate, on=['Fire_ID','first_obs_date'], how='left')\n",
    "print(f\"\\n{grid_clim.columns}\\n\")"
   ],
   "outputs": [
    {
     "name": "stdout",
     "output_type": "stream",
     "text": [
      "Climate variables:\n",
      "Index(['system:index', 'Fire_ID', 'erc', 'erc_dv', 'first_obs', 'fm1000',\n",
      "       'fm1000_dv', 'rmin', 'rmin_dv', 'tmmx', 'tmmx_dv', 'vpd', 'vpd_dv',\n",
      "       'vs', 'vs_dv', '.geo'],\n",
      "      dtype='object')\n",
      "\n",
      "\n",
      "Index(['grid_index', 'grid_area', 'afd_count', 'unique_days', 'overlap',\n",
      "       'frp_csum', 'frp_max', 'frp_min', 'frp_mean', 'frp_p90', 'frp_p95',\n",
      "       'frp_p97', 'frp_p99', 'frp_first', 'day_max_frp', 'dt_max_frp',\n",
      "       'first_obs_date', 'last_obs_date', 't4_max', 't4_mean', 't5_max',\n",
      "       't5_mean', 'day_count', 'night_count', 'frp_max_day', 'frp_max_night',\n",
      "       'frp_csum_day', 'frp_csum_night', 'frp_mean_day', 'frp_mean_night',\n",
      "       'frp_p90_day', 'frp_p90_night', 'frp_p95_day', 'frp_p95_night',\n",
      "       'frp_p97_day', 'frp_p97_night', 'frp_p99_day', 'frp_p99_night',\n",
      "       'frp_first_day', 'frp_first_night', 'Fire_ID', 'Fire_Name', 'geometry',\n",
      "       'grid_idx', 'x', 'y', 'erc', 'erc_dv', 'fm1000', 'fm1000_dv', 'rmin',\n",
      "       'rmin_dv', 'tmmx', 'tmmx_dv', 'vpd', 'vpd_dv', 'vs', 'vs_dv'],\n",
      "      dtype='object')\n",
      "\n"
     ]
    }
   ],
   "execution_count": 10
  },
  {
   "cell_type": "code",
   "id": "a94b8e59-2255-4e59-ad23-08b8bf13eeb3",
   "metadata": {
    "ExecuteTime": {
     "end_time": "2025-07-31T03:21:32.379496Z",
     "start_time": "2025-07-31T03:21:32.266520Z"
    }
   },
   "source": [
    "############\n",
    "# topography\n",
    "fp = os.path.join(projdir,'data/earth-engine/exports/gridstats_topo.csv')\n",
    "topo = pd.read_csv(fp)\n",
    "# create a unique ID\n",
    "topo['grid_idx'] = topo['Fire_ID'].astype(str) + topo['grid_index'].astype(str)\n",
    "print(f\"\\n{topo.columns}\\n\")\n",
    "\n",
    "# merge the topography to the grid\n",
    "topo = topo[['grid_idx', 'elev', 'slope', 'aspect', 'chili', 'tpi']]\n",
    "grid_clim_topo = grid_clim.merge(topo, on='grid_idx', how='left')\n",
    "grid_clim_topo.columns"
   ],
   "outputs": [
    {
     "name": "stdout",
     "output_type": "stream",
     "text": [
      "\n",
      "Index(['system:index', 'Fire_ID', 'aspect', 'chili', 'elev', 'grid_index',\n",
      "       'slope', 'tpi', '.geo', 'grid_idx'],\n",
      "      dtype='object')\n",
      "\n"
     ]
    },
    {
     "data": {
      "text/plain": [
       "Index(['grid_index', 'grid_area', 'afd_count', 'unique_days', 'overlap',\n",
       "       'frp_csum', 'frp_max', 'frp_min', 'frp_mean', 'frp_p90', 'frp_p95',\n",
       "       'frp_p97', 'frp_p99', 'frp_first', 'day_max_frp', 'dt_max_frp',\n",
       "       'first_obs_date', 'last_obs_date', 't4_max', 't4_mean', 't5_max',\n",
       "       't5_mean', 'day_count', 'night_count', 'frp_max_day', 'frp_max_night',\n",
       "       'frp_csum_day', 'frp_csum_night', 'frp_mean_day', 'frp_mean_night',\n",
       "       'frp_p90_day', 'frp_p90_night', 'frp_p95_day', 'frp_p95_night',\n",
       "       'frp_p97_day', 'frp_p97_night', 'frp_p99_day', 'frp_p99_night',\n",
       "       'frp_first_day', 'frp_first_night', 'Fire_ID', 'Fire_Name', 'geometry',\n",
       "       'grid_idx', 'x', 'y', 'erc', 'erc_dv', 'fm1000', 'fm1000_dv', 'rmin',\n",
       "       'rmin_dv', 'tmmx', 'tmmx_dv', 'vpd', 'vpd_dv', 'vs', 'vs_dv', 'elev',\n",
       "       'slope', 'aspect', 'chili', 'tpi'],\n",
       "      dtype='object')"
      ]
     },
     "execution_count": 12,
     "metadata": {},
     "output_type": "execute_result"
    }
   ],
   "execution_count": 12
  },
  {
   "cell_type": "code",
   "id": "8be34775-a3e3-49cb-857f-04283eda9d25",
   "metadata": {
    "ExecuteTime": {
     "end_time": "2025-07-31T03:21:36.854394Z",
     "start_time": "2025-07-31T03:21:36.761375Z"
    }
   },
   "source": [
    "# merge the FRP, climate, and topogrpahy to the forest metrics table\n",
    "grid_clim_topo['grid_idx'] = grid_clim_topo['grid_idx'].astype(int)\n",
    "grid_tm = lf_df.merge(grid_clim_topo, on=['grid_idx'], how='inner')\n",
    "print(grid_tm.head(3))"
   ],
   "outputs": [
    {
     "name": "stdout",
     "output_type": "stream",
     "text": [
      "   grid_idx  fortypnm_gp  proportion    CC     CH     CBH    CBD      BALIVE  \\\n",
      "0    819725        Aspen   24.117647  35.0  144.0  93.925   1.00   47.054203   \n",
      "1    819725  Douglas-fir    1.176471  35.0  110.0   3.000   8.00   61.333350   \n",
      "2    819725   Spruce-fir    2.352941  52.5  150.0   5.500  11.75  141.676600   \n",
      "\n",
      "       SDI    QMD  ...   tmmx_dv       vpd    vpd_dv        vs     vs_dv  \\\n",
      "0  16.5425  6.035  ...  3.825737  1.632481  0.434491  3.350589 -0.701609   \n",
      "1      inf    inf  ...  3.825737  1.632481  0.434491  3.350589 -0.701609   \n",
      "2  41.9500  5.275  ...  3.825737  1.632481  0.434491  3.350589 -0.701609   \n",
      "\n",
      "          elev      slope      aspect       chili        tpi  \n",
      "0  2907.785585  27.233212  143.266123  189.301124  27.759364  \n",
      "1  2907.785585  27.233212  143.266123  189.301124  27.759364  \n",
      "2  2907.785585  27.233212  143.266123  189.301124  27.759364  \n",
      "\n",
      "[3 rows x 74 columns]\n"
     ]
    }
   ],
   "execution_count": 13
  },
  {
   "cell_type": "code",
   "id": "8b900f17-c082-4c38-9133-2bc4f828ab5d",
   "metadata": {
    "ExecuteTime": {
     "end_time": "2025-07-31T03:21:39.795726Z",
     "start_time": "2025-07-31T03:21:39.790205Z"
    }
   },
   "source": [
    "len(grid_tm)"
   ],
   "outputs": [
    {
     "data": {
      "text/plain": [
       "138853"
      ]
     },
     "execution_count": 14,
     "metadata": {},
     "output_type": "execute_result"
    }
   ],
   "execution_count": 14
  },
  {
   "cell_type": "code",
   "id": "f743c481-7181-4909-87aa-809ddcbc54fc",
   "metadata": {
    "ExecuteTime": {
     "end_time": "2025-07-31T03:21:41.089669Z",
     "start_time": "2025-07-31T03:21:41.084625Z"
    }
   },
   "source": [
    "grid_tm.columns"
   ],
   "outputs": [
    {
     "data": {
      "text/plain": [
       "Index(['grid_idx', 'fortypnm_gp', 'proportion', 'CC', 'CH', 'CBH', 'CBD',\n",
       "       'BALIVE', 'SDI', 'QMD', 'dom_fortyp', 'prop_forest', 'grid_index',\n",
       "       'grid_area', 'afd_count', 'unique_days', 'overlap', 'frp_csum',\n",
       "       'frp_max', 'frp_min', 'frp_mean', 'frp_p90', 'frp_p95', 'frp_p97',\n",
       "       'frp_p99', 'frp_first', 'day_max_frp', 'dt_max_frp', 'first_obs_date',\n",
       "       'last_obs_date', 't4_max', 't4_mean', 't5_max', 't5_mean', 'day_count',\n",
       "       'night_count', 'frp_max_day', 'frp_max_night', 'frp_csum_day',\n",
       "       'frp_csum_night', 'frp_mean_day', 'frp_mean_night', 'frp_p90_day',\n",
       "       'frp_p90_night', 'frp_p95_day', 'frp_p95_night', 'frp_p97_day',\n",
       "       'frp_p97_night', 'frp_p99_day', 'frp_p99_night', 'frp_first_day',\n",
       "       'frp_first_night', 'Fire_ID', 'Fire_Name', 'geometry', 'x', 'y', 'erc',\n",
       "       'erc_dv', 'fm1000', 'fm1000_dv', 'rmin', 'rmin_dv', 'tmmx', 'tmmx_dv',\n",
       "       'vpd', 'vpd_dv', 'vs', 'vs_dv', 'elev', 'slope', 'aspect', 'chili',\n",
       "       'tpi'],\n",
       "      dtype='object')"
      ]
     },
     "execution_count": 15,
     "metadata": {},
     "output_type": "execute_result"
    }
   ],
   "execution_count": 15
  },
  {
   "metadata": {
    "ExecuteTime": {
     "end_time": "2025-07-31T03:24:46.269823Z",
     "start_time": "2025-07-31T03:24:41.742781Z"
    }
   },
   "cell_type": "code",
   "source": [
    "# create a subset of columns\n",
    "grid_tm = grid_tm[[\n",
    "    'Fire_ID', 'Fire_Name', 'grid_idx', 'fortypnm_gp', 'proportion',\n",
    "    'CC', 'CH', 'CBH', 'CBD', 'BALIVE', 'SDI', 'QMD',\n",
    "    'dom_fortyp', 'prop_forest', 'grid_index', 'grid_area',\n",
    "    'afd_count', 'day_count', 'night_count', 'unique_days', 'overlap', 'frp_csum',\n",
    "    'frp_max', 'frp_min', 'day_max_frp', 'dt_max_frp', 'first_obs_date', 'last_obs_date',\n",
    "    'erc', 'erc_dv', 'fm1000', 'fm1000_dv', 'rmin', 'rmin_dv', 'tmmx', 'tmmx_dv',\n",
    "    'vpd', 'vpd_dv', 'vs', 'vs_dv', 'elev', 'slope', 'aspect', 'chili', 'tpi',\n",
    "    'x', 'y', 'geometry'\n",
    "]]\n",
    "\n",
    "# save this file out.\n",
    "out_fp = os.path.join(projdir,'data/tabular/mod/gridstats_lf_gs.csv')\n",
    "grid_tm.to_csv(out_fp)\n",
    "print(f\"Saved file to: {out_fp}\")"
   ],
   "id": "db2558996d11105e",
   "outputs": [
    {
     "name": "stdout",
     "output_type": "stream",
     "text": [
      "Saved file to: /Users/max/Library/CloudStorage/OneDrive-Personal/mcook/aspen-fire/Aim2/data/tabular/mod/gridstats_lf_gs.csv\n"
     ]
    }
   ],
   "execution_count": 16
  },
  {
   "cell_type": "code",
   "id": "a75ad8c6-0b64-45f9-aa89-9a22079d97ad",
   "metadata": {},
   "source": "",
   "outputs": [],
   "execution_count": null
  }
 ],
 "metadata": {
  "kernelspec": {
   "display_name": "aspen-fire",
   "language": "python",
   "name": "aspen-fire"
  },
  "language_info": {
   "codemirror_mode": {
    "name": "ipython",
    "version": 3
   },
   "file_extension": ".py",
   "mimetype": "text/x-python",
   "name": "python",
   "nbconvert_exporter": "python",
   "pygments_lexer": "ipython3",
   "version": "3.10.12"
  }
 },
 "nbformat": 4,
 "nbformat_minor": 5
}
