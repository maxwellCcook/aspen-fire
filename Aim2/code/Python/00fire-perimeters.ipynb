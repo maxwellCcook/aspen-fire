{
 "cells": [
  {
   "cell_type": "code",
   "execution_count": 1,
   "id": "b0687419-4278-4604-8efa-b9c34a68d9fe",
   "metadata": {},
   "outputs": [
    {
     "name": "stdout",
     "output_type": "stream",
     "text": [
      "Ready to go !\n"
     ]
    }
   ],
   "source": [
    "\"\"\"\n",
    "Identify wildfire events with >= 1% pre-fire aspen forest cover across western U.S. ecoregions\n",
    "\n",
    "Data sources\n",
    "    - Wildfire perimeters: NIFC Interagency Final Wildfire Perimeters\n",
    "    - Landcover: LANDFIRE Existing Vegetation Type (EVT) ca. 2016\n",
    "    \n",
    "Author: maxwell.cook@colorado.edu\n",
    "\"\"\"\n",
    "\n",
    "import os, sys, time, gc\n",
    "import geopandas as gpd\n",
    "import rioxarray as rxr\n",
    "import matplotlib\n",
    "import matplotlib.pyplot as plt\n",
    "import seaborn as sns\n",
    "\n",
    "# Custom functions\n",
    "sys.path.append(os.path.join(os.getcwd(),'code/'))\n",
    "from __functions import *\n",
    "\n",
    "proj = 'EPSG:5070'\n",
    "\n",
    "maindir = '/Users/max/Library/CloudStorage/OneDrive-Personal/mcook/'\n",
    "projdir = os.path.join(maindir, 'aspen-fire/Aim2/')\n",
    "\n",
    "print(\"Ready to go !\")"
   ]
  },
  {
   "cell_type": "code",
   "execution_count": null,
   "id": "49a1598d-3900-4641-acde-f2e58465d6fd",
   "metadata": {},
   "outputs": [],
   "source": [
    "# load the fire data (NIFC) and handle duplicate entries"
   ]
  },
  {
   "cell_type": "code",
   "execution_count": 2,
   "id": "25843395-76d2-471d-83d9-dbd3b0f86867",
   "metadata": {},
   "outputs": [
    {
     "name": "stdout",
     "output_type": "stream",
     "text": [
      "There are [34595] NIFC perimeters.\n",
      "Index(['OBJECTID', 'MAP_METHOD', 'DATE_CUR', 'COMMENTS', 'GEO_ID', 'IRWINID',\n",
      "       'UNQE_FIRE_', 'FIRE_YEAR', 'LOCAL_NUM', 'INCIDENT', 'UNIT_ID',\n",
      "       'POO_RESP_I', 'FEATURE_CA', 'GIS_ACRES', 'USER_NAME', 'SOURCE',\n",
      "       'AGENCY', 'FIRE_YEAR_', 'Shape__Are', 'Shape__Len', 'FORID', 'OTHERID',\n",
      "       'geometry'],\n",
      "      dtype='object')\n"
     ]
    }
   ],
   "source": [
    "# Load the NIFC perimeters\n",
    "fp = os.path.join(projdir,'data/spatial/raw/NIFC/nifc-interagency_2012_to_2023.gpkg')\n",
    "events = gpd.read_file(fp)\n",
    "print(f\"There are [{len(events)}] NIFC perimeters.\\n{events.columns}\")"
   ]
  },
  {
   "cell_type": "code",
   "execution_count": 3,
   "id": "a7b7ca4c-53d4-44a7-9209-34c77322f7c8",
   "metadata": {},
   "outputs": [
    {
     "data": {
      "text/html": [
       "<div>\n",
       "<style scoped>\n",
       "    .dataframe tbody tr th:only-of-type {\n",
       "        vertical-align: middle;\n",
       "    }\n",
       "\n",
       "    .dataframe tbody tr th {\n",
       "        vertical-align: top;\n",
       "    }\n",
       "\n",
       "    .dataframe thead th {\n",
       "        text-align: right;\n",
       "    }\n",
       "</style>\n",
       "<table border=\"1\" class=\"dataframe\">\n",
       "  <thead>\n",
       "    <tr style=\"text-align: right;\">\n",
       "      <th></th>\n",
       "      <th>INCIDENT</th>\n",
       "      <th>FIRE_YEAR</th>\n",
       "      <th>GIS_ACRES</th>\n",
       "    </tr>\n",
       "  </thead>\n",
       "  <tbody>\n",
       "    <tr>\n",
       "      <th>0</th>\n",
       "      <td>COAL CREEK</td>\n",
       "      <td>2012</td>\n",
       "      <td>97.68</td>\n",
       "    </tr>\n",
       "    <tr>\n",
       "      <th>1</th>\n",
       "      <td>LONG DRAW</td>\n",
       "      <td>2016</td>\n",
       "      <td>2142.83</td>\n",
       "    </tr>\n",
       "    <tr>\n",
       "      <th>2</th>\n",
       "      <td>DEVIL CREEK</td>\n",
       "      <td>2018</td>\n",
       "      <td>20.46</td>\n",
       "    </tr>\n",
       "    <tr>\n",
       "      <th>3</th>\n",
       "      <td>COLT</td>\n",
       "      <td>2021</td>\n",
       "      <td>30.42</td>\n",
       "    </tr>\n",
       "    <tr>\n",
       "      <th>4</th>\n",
       "      <td>577</td>\n",
       "      <td>2019</td>\n",
       "      <td>89.31</td>\n",
       "    </tr>\n",
       "  </tbody>\n",
       "</table>\n",
       "</div>"
      ],
      "text/plain": [
       "      INCIDENT FIRE_YEAR  GIS_ACRES\n",
       "0   COAL CREEK      2012      97.68\n",
       "1    LONG DRAW      2016    2142.83\n",
       "2  DEVIL CREEK      2018      20.46\n",
       "3         COLT      2021      30.42\n",
       "4          577      2019      89.31"
      ]
     },
     "execution_count": 3,
     "metadata": {},
     "output_type": "execute_result"
    }
   ],
   "source": [
    "# tidy the columns.\n",
    "events = events[['OBJECTID','MAP_METHOD','GEO_ID','IRWINID','FIRE_YEAR',\n",
    "                 'INCIDENT','FEATURE_CA','GIS_ACRES','geometry']]\n",
    "events[['INCIDENT','FIRE_YEAR','GIS_ACRES']].head()"
   ]
  },
  {
   "cell_type": "code",
   "execution_count": 4,
   "id": "1b75538e-1cbe-4c24-99bb-566f82d24785",
   "metadata": {},
   "outputs": [
    {
     "data": {
      "text/plain": [
       "count    3.459500e+04\n",
       "mean     5.686211e+04\n",
       "std      9.776046e+05\n",
       "min      0.000000e+00\n",
       "25%      4.720000e+00\n",
       "50%      3.301000e+01\n",
       "75%      2.833400e+02\n",
       "max      1.314430e+08\n",
       "Name: GIS_ACRES, dtype: float64"
      ]
     },
     "execution_count": 4,
     "metadata": {},
     "output_type": "execute_result"
    }
   ],
   "source": [
    "# Check on the burned area distribution\n",
    "events['GIS_ACRES'].describe()"
   ]
  },
  {
   "cell_type": "code",
   "execution_count": 5,
   "id": "3dcab74c-d7b8-40ba-ab72-7c04672ddefe",
   "metadata": {},
   "outputs": [
    {
     "name": "stdout",
     "output_type": "stream",
     "text": [
      "There are [23737] fires >= 1 acres.\n",
      "There are 11333 [47.74 %] duplicate IRWINIDs.\n"
     ]
    }
   ],
   "source": [
    "# Keep fires greater than at least 1 acres (excludes potential map errors)\n",
    "events = events[events['GIS_ACRES'] >= 10]\n",
    "print(f\"There are [{len(events)}] fires >= 1 acres.\")\n",
    "\n",
    "# Check for duplicates (different mapping methods)\n",
    "n_dup = events.duplicated(subset='IRWINID').sum()\n",
    "print(f\"There are {n_dup} [{round(n_dup/len(events)*100, 2)} %] duplicate IRWINIDs.\")"
   ]
  },
  {
   "cell_type": "code",
   "execution_count": 6,
   "id": "deffeb8b-2fa1-440d-9a77-1e31b9b23a9c",
   "metadata": {},
   "outputs": [
    {
     "name": "stdout",
     "output_type": "stream",
     "text": [
      "Number of unique duplicates: 416/11749\n",
      "Number of remaining fires after removing duplicates: 415\n",
      "\n",
      "There are 12403 unique fire perimeters after resolving duplicates.\n"
     ]
    },
    {
     "data": {
      "text/plain": [
       "0"
      ]
     },
     "execution_count": 6,
     "metadata": {},
     "output_type": "execute_result"
    }
   ],
   "source": [
    "# Resolve duplicate fire perimeters\n",
    "def resolve_duplicates(group):\n",
    "    \"\"\" If there are duplicates, keep the record labeled 'Final Wildfire Perimeter'. \n",
    "    If no such record exists, keep one of the records (first occurrence). \"\"\"\n",
    "    if 'Wildfire Final Fire Perimeter' in group['FEATURE_CA'].values:\n",
    "        return group[group['FEATURE_CA'] == 'Wildfire Final Fire Perimeter'].iloc[0]  # Keep 'Final' perimeter\n",
    "    else:\n",
    "        return group.iloc[0]  # If no 'Final' perimeter, keep the first record\n",
    "\n",
    "# Isolate duplicate records\n",
    "dups = events[events['IRWINID'].duplicated(keep=False)]  # Keep all duplicates\n",
    "print(f\"Number of unique duplicates: {len(dups['IRWINID'].unique())}/{len(dups)}\")\n",
    "\n",
    "# Apply the function to groups of duplicates\n",
    "resolved_df = dups.groupby('IRWINID').apply(resolve_duplicates).reset_index(drop=True)\n",
    "print(f\"Number of remaining fires after removing duplicates: {len(resolved_df)}\")\n",
    "\n",
    "# Combine the resolved duplicates with the non-duplicates\n",
    "non_dups = events[~events['IRWINID'].duplicated(keep=False)]  # keep only non-duplicates\n",
    "events_c = pd.concat([non_dups, resolved_df], ignore_index=True) # merge back (clean data)\n",
    "\n",
    "print(f\"\\nThere are {len(events_c)} unique fire perimeters after resolving duplicates.\")\n",
    "\n",
    "del dups, resolved_df, non_dups, events\n",
    "gc.collect() # clean up"
   ]
  },
  {
   "cell_type": "code",
   "execution_count": null,
   "id": "bea0c14d-26f9-4967-98d4-4d8d2dbb9018",
   "metadata": {},
   "outputs": [],
   "source": []
  },
  {
   "cell_type": "code",
   "execution_count": null,
   "id": "75810b4b-89b5-4eed-b023-cafbac3ed82c",
   "metadata": {},
   "outputs": [],
   "source": [
    "# Join to western U.S. ecoregions"
   ]
  },
  {
   "cell_type": "code",
   "execution_count": 7,
   "id": "1059a21f-5055-4ed7-87dc-89bb7f302f7b",
   "metadata": {},
   "outputs": [
    {
     "data": {
      "text/plain": [
       "Index(['na_l3name', 'na_l3code', 'geometry'], dtype='object')"
      ]
     },
     "execution_count": 7,
     "metadata": {},
     "output_type": "execute_result"
    }
   ],
   "source": [
    "fp = os.path.join(projdir,'data/spatial/raw/boundaries/na_cec_eco_l3_west.gpkg')\n",
    "ecol3 = gpd.read_file(fp)\n",
    "ecol3 = ecol3[['NA_L3NAME','NA_L3CODE','geometry']].rename(columns={'NA_L3NAME': 'na_l3name', 'NA_L3CODE': 'na_l3code'})\n",
    "ecol3.columns"
   ]
  },
  {
   "cell_type": "code",
   "execution_count": 8,
   "id": "99aa7830-60fd-4670-be8f-4baf0c4d527d",
   "metadata": {},
   "outputs": [
    {
     "name": "stdout",
     "output_type": "stream",
     "text": [
      "There are 8538 fire events across western U.S. ecoregions in CONUS (2012-2023).\n",
      "Data columns:\n",
      "Index(['OBJECTID', 'MAP_METHOD', 'GEO_ID', 'IRWINID', 'FIRE_YEAR', 'INCIDENT',\n",
      "       'FEATURE_CA', 'GIS_ACRES', 'na_l3name', 'na_l3code', 'geometry'],\n",
      "      dtype='object')\n"
     ]
    }
   ],
   "source": [
    "# Identify the US EPA Level III ecoregion based on centroid of fire perimeter\n",
    "centroids = events_c.copy() # make a copy of the fire data\n",
    "centroids.geometry = centroids.geometry.centroid # use the centroid for joining to ecoregions\n",
    "if not centroids.crs == ecol3.crs:\n",
    "    print(\"CRS mismatch, fixing it !\")\n",
    "    centroids = centroids.to_crs(proj)\n",
    "    ecol3 = ecol3.to_crs(proj)\n",
    "\n",
    "# Perform the overlay analysis\n",
    "events_west = gpd.overlay(centroids, ecol3, how='intersection') # find overlaps\n",
    "\n",
    "print(f\"There are {len(events_west)} fire events across western U.S. ecoregions in CONUS (2012-2023).\")\n",
    "print(f\"Data columns:\\n{events_west.columns}\")"
   ]
  },
  {
   "cell_type": "code",
   "execution_count": 10,
   "id": "a9a73c1d-c3ca-4136-90d1-6ac01223c6b4",
   "metadata": {},
   "outputs": [
    {
     "name": "stdout",
     "output_type": "stream",
     "text": [
      "Geometry set to fire perimeters: ['MultiPolygon']\n"
     ]
    }
   ],
   "source": [
    "# Replace the centroid geometry with the fire perimeter\n",
    "events_west = gpd.GeoDataFrame(\n",
    "    pd.merge(events_west[['OBJECTID','na_l3name']], events_c, left_on='OBJECTID', right_on='OBJECTID', how=\"left\")\n",
    ")\n",
    "print(f\"Geometry set to fire perimeters: {events_west.geom_type.unique()}\")"
   ]
  },
  {
   "cell_type": "code",
   "execution_count": 11,
   "id": "38b80c02-5092-46a4-8203-88c71da79b12",
   "metadata": {},
   "outputs": [
    {
     "name": "stdout",
     "output_type": "stream",
     "text": [
      "Saved file to: /Users/max/Library/CloudStorage/OneDrive-Personal/mcook/aspen-fire/Aim2/data/spatial/mod/NIFC/nifc-interagency_2012_to_2023_west.gpkg\n"
     ]
    }
   ],
   "source": [
    "# save this file out.\n",
    "out_fp = os.path.join(projdir,'data/spatial/mod/NIFC/nifc-interagency_2012_to_2023_west.gpkg')\n",
    "events_west.to_file(out_fp)\n",
    "print(f\"Saved file to: {out_fp}\")"
   ]
  },
  {
   "cell_type": "code",
   "execution_count": 12,
   "id": "f88b0d59-5bf1-4cfe-8367-0e0eb9e39eb2",
   "metadata": {},
   "outputs": [
    {
     "data": {
      "text/plain": [
       "Index(['OBJECTID', 'na_l3name', 'MAP_METHOD', 'GEO_ID', 'IRWINID', 'FIRE_YEAR',\n",
       "       'INCIDENT', 'FEATURE_CA', 'GIS_ACRES', 'geometry'],\n",
       "      dtype='object')"
      ]
     },
     "execution_count": 12,
     "metadata": {},
     "output_type": "execute_result"
    }
   ],
   "source": [
    "events_west.columns"
   ]
  },
  {
   "cell_type": "code",
   "execution_count": null,
   "id": "5d22e9bb-851d-4d30-be1e-2ecf04900665",
   "metadata": {},
   "outputs": [],
   "source": []
  },
  {
   "cell_type": "code",
   "execution_count": null,
   "id": "b5f8d55a-2fe2-4204-83fd-16479fb6d2ce",
   "metadata": {},
   "outputs": [],
   "source": [
    "# Calculate zonal statistics from the LANDFIRE EVT"
   ]
  },
  {
   "cell_type": "code",
   "execution_count": 13,
   "id": "292c6ad1-a899-4d6c-bba7-34e1aa7841a6",
   "metadata": {},
   "outputs": [
    {
     "name": "stdout",
     "output_type": "stream",
     "text": [
      "Shape: (97383, 154221); \n",
      "GeoTransform: -2362845.0 30.0 0.0 3180555.0 0.0 -30.0; \n",
      "WKT: EPSG:5070; \n",
      "NoData Value: nan; \n",
      "Data Type: float32\n"
     ]
    },
    {
     "data": {
      "text/plain": [
       "208"
      ]
     },
     "execution_count": 13,
     "metadata": {},
     "output_type": "execute_result"
    }
   ],
   "source": [
    "# Load the TreeMap (ca. 2016)\n",
    "fp = os.path.join(maindir,'data/landcover/USFS/RDS_TreeMap/TreeMap2016_FORTYPCD/TreeMap2016_FORTYPCD.tif')\n",
    "treemap_da = rxr.open_rasterio(fp, masked=True, cache=False, chunks='auto').squeeze()\n",
    "# Grab some raster metadata\n",
    "shp, gt, wkt, nd = treemap_da.shape, treemap_da.spatial_ref.GeoTransform, treemap_da.rio.crs, treemap_da.rio.nodata\n",
    "print(\n",
    "    f\"Shape: {shp}; \\n\"\n",
    "    f\"GeoTransform: {gt}; \\n\"\n",
    "    f\"WKT: {wkt}; \\n\"\n",
    "    f\"NoData Value: {nd}; \\n\"\n",
    "    f\"Data Type: {treemap_da[0].dtype}\")\n",
    "gc.collect() # clean up"
   ]
  },
  {
   "cell_type": "code",
   "execution_count": 14,
   "id": "34e8c970-0857-4f05-b776-741f7126e2b4",
   "metadata": {},
   "outputs": [
    {
     "data": {
      "text/plain": [
       "54"
      ]
     },
     "execution_count": 14,
     "metadata": {},
     "output_type": "execute_result"
    }
   ],
   "source": [
    "# Crop the raster by the fire bounds (with small buffer)\n",
    "bounds = events_west.total_bounds\n",
    "treemap_da_crop = treemap_da.rio.clip_box(\n",
    "    minx=bounds[0]+1000, # +1000 meters for a small buffer\n",
    "    miny=bounds[1]+1000, \n",
    "    maxx=bounds[2]+1000, \n",
    "    maxy=bounds[3]+1000\n",
    ")\n",
    "del treemap_da, bounds\n",
    "gc.collect()"
   ]
  },
  {
   "cell_type": "code",
   "execution_count": 15,
   "id": "5ecd87d4-8d37-404f-97ce-34420560171c",
   "metadata": {},
   "outputs": [
    {
     "name": "stdout",
     "output_type": "stream",
     "text": [
      "Buffered fire perimeters by 90 meters.\n"
     ]
    }
   ],
   "source": [
    "# Add a small buffer to wildfire perimeters\n",
    "# Accounting for edge effects\n",
    "buffer = 90  # meters\n",
    "events_west = events_west.copy() # make a copy of the original data\n",
    "events_west['geometry'] = events_west['geometry'].buffer(buffer)\n",
    "print(f\"Buffered fire perimeters by {buffer} meters.\")"
   ]
  },
  {
   "cell_type": "code",
   "execution_count": 16,
   "id": "9a6a2666-e014-481e-9f25-341882e70f62",
   "metadata": {},
   "outputs": [
    {
     "data": {
      "text/plain": [
       "Index(['OBJECTID', 'na_l3name', 'MAP_METHOD', 'GEO_ID', 'IRWINID', 'FIRE_YEAR',\n",
       "       'INCIDENT', 'FEATURE_CA', 'GIS_ACRES', 'geometry'],\n",
       "      dtype='object')"
      ]
     },
     "execution_count": 16,
     "metadata": {},
     "output_type": "execute_result"
    }
   ],
   "source": [
    "events_west.columns"
   ]
  },
  {
   "cell_type": "code",
   "execution_count": null,
   "id": "f81672f2-6e5f-47b6-80fc-65a23d00d813",
   "metadata": {},
   "outputs": [],
   "source": []
  },
  {
   "cell_type": "code",
   "execution_count": null,
   "id": "230b606f-68b6-4432-8534-f8d8888ab530",
   "metadata": {},
   "outputs": [],
   "source": [
    "# Calculate zonal stats for the wildfire perimeters."
   ]
  },
  {
   "cell_type": "code",
   "execution_count": 17,
   "id": "24f98d08-b914-4db9-8cdd-1aff41a76cd4",
   "metadata": {},
   "outputs": [
    {
     "name": "stdout",
     "output_type": "stream",
     "text": [
      "Total elapsed time: 1.52 minutes.\n",
      "\n",
      "~~~~~~~~~~\n",
      "\n"
     ]
    }
   ],
   "source": [
    "t0 = time.time()\n",
    "\n",
    "# see __functions.py\n",
    "sampled = compute_band_stats(events_west, treemap_da_crop, 'OBJECTID', attr='FORTYPCD')\n",
    "\n",
    "t1 = (time.time() - t0) / 60\n",
    "print(f\"Total elapsed time: {t1:.2f} minutes.\")\n",
    "print(\"\\n~~~~~~~~~~\\n\")"
   ]
  },
  {
   "cell_type": "code",
   "execution_count": 19,
   "id": "a9e6ddb5-5ab0-4766-af9d-2d73f46ff1d3",
   "metadata": {},
   "outputs": [
    {
     "data": {
      "text/html": [
       "<div>\n",
       "<style scoped>\n",
       "    .dataframe tbody tr th:only-of-type {\n",
       "        vertical-align: middle;\n",
       "    }\n",
       "\n",
       "    .dataframe tbody tr th {\n",
       "        vertical-align: top;\n",
       "    }\n",
       "\n",
       "    .dataframe thead th {\n",
       "        text-align: right;\n",
       "    }\n",
       "</style>\n",
       "<table border=\"1\" class=\"dataframe\">\n",
       "  <thead>\n",
       "    <tr style=\"text-align: right;\">\n",
       "      <th></th>\n",
       "      <th>OBJECTID</th>\n",
       "      <th>FORTYPCD</th>\n",
       "      <th>count</th>\n",
       "      <th>total_pixels</th>\n",
       "      <th>pct_cover</th>\n",
       "    </tr>\n",
       "  </thead>\n",
       "  <tbody>\n",
       "    <tr>\n",
       "      <th>0</th>\n",
       "      <td>5</td>\n",
       "      <td>182</td>\n",
       "      <td>22.0</td>\n",
       "      <td>6874.0</td>\n",
       "      <td>0.320047</td>\n",
       "    </tr>\n",
       "    <tr>\n",
       "      <th>1</th>\n",
       "      <td>5</td>\n",
       "      <td>184</td>\n",
       "      <td>2.0</td>\n",
       "      <td>6874.0</td>\n",
       "      <td>0.029095</td>\n",
       "    </tr>\n",
       "    <tr>\n",
       "      <th>2</th>\n",
       "      <td>5</td>\n",
       "      <td>185</td>\n",
       "      <td>8.0</td>\n",
       "      <td>6874.0</td>\n",
       "      <td>0.116381</td>\n",
       "    </tr>\n",
       "  </tbody>\n",
       "</table>\n",
       "</div>"
      ],
      "text/plain": [
       "   OBJECTID  FORTYPCD  count  total_pixels  pct_cover\n",
       "0         5       182   22.0        6874.0   0.320047\n",
       "1         5       184    2.0        6874.0   0.029095\n",
       "2         5       185    8.0        6874.0   0.116381"
      ]
     },
     "execution_count": 19,
     "metadata": {},
     "output_type": "execute_result"
    }
   ],
   "source": [
    "sampled.head(3)"
   ]
  },
  {
   "cell_type": "code",
   "execution_count": 20,
   "id": "1d659cea-cd9d-4487-96a2-2eb9b6b325c9",
   "metadata": {},
   "outputs": [
    {
     "data": {
      "text/plain": [
       "750"
      ]
     },
     "execution_count": 20,
     "metadata": {},
     "output_type": "execute_result"
    }
   ],
   "source": [
    "del treemap_da_crop\n",
    "gc.collect()  # clean up"
   ]
  },
  {
   "cell_type": "code",
   "execution_count": null,
   "id": "47c34884-94b8-48bc-bdd0-20ab40bdb565",
   "metadata": {},
   "outputs": [],
   "source": []
  },
  {
   "cell_type": "code",
   "execution_count": null,
   "id": "559df152-6b70-4f35-b1f4-e00dd4fa650a",
   "metadata": {},
   "outputs": [],
   "source": [
    "# Load the lookup table and gather LC info"
   ]
  },
  {
   "cell_type": "code",
   "execution_count": 21,
   "id": "10b8e4a1-76a7-4c1a-83ff-44a1b9fdaf04",
   "metadata": {},
   "outputs": [
    {
     "name": "stdout",
     "output_type": "stream",
     "text": [
      "Index(['FORTYPCD', 'SpeciesName'], dtype='object')\n"
     ]
    },
    {
     "data": {
      "text/html": [
       "<div>\n",
       "<style scoped>\n",
       "    .dataframe tbody tr th:only-of-type {\n",
       "        vertical-align: middle;\n",
       "    }\n",
       "\n",
       "    .dataframe tbody tr th {\n",
       "        vertical-align: top;\n",
       "    }\n",
       "\n",
       "    .dataframe thead th {\n",
       "        text-align: right;\n",
       "    }\n",
       "</style>\n",
       "<table border=\"1\" class=\"dataframe\">\n",
       "  <thead>\n",
       "    <tr style=\"text-align: right;\">\n",
       "      <th></th>\n",
       "      <th>OBJECTID</th>\n",
       "      <th>FORTYPCD</th>\n",
       "      <th>count</th>\n",
       "      <th>total_pixels</th>\n",
       "      <th>pct_cover</th>\n",
       "      <th>SpeciesName</th>\n",
       "    </tr>\n",
       "  </thead>\n",
       "  <tbody>\n",
       "    <tr>\n",
       "      <th>0</th>\n",
       "      <td>5</td>\n",
       "      <td>182</td>\n",
       "      <td>22.0</td>\n",
       "      <td>6874.0</td>\n",
       "      <td>0.320047</td>\n",
       "      <td>Rocky Mountain juniper</td>\n",
       "    </tr>\n",
       "    <tr>\n",
       "      <th>1</th>\n",
       "      <td>5</td>\n",
       "      <td>184</td>\n",
       "      <td>2.0</td>\n",
       "      <td>6874.0</td>\n",
       "      <td>0.029095</td>\n",
       "      <td>Juniper woodland</td>\n",
       "    </tr>\n",
       "    <tr>\n",
       "      <th>2</th>\n",
       "      <td>5</td>\n",
       "      <td>185</td>\n",
       "      <td>8.0</td>\n",
       "      <td>6874.0</td>\n",
       "      <td>0.116381</td>\n",
       "      <td>Pinyon / juniper woodland</td>\n",
       "    </tr>\n",
       "  </tbody>\n",
       "</table>\n",
       "</div>"
      ],
      "text/plain": [
       "   OBJECTID  FORTYPCD  count  total_pixels  pct_cover  \\\n",
       "0         5       182   22.0        6874.0   0.320047   \n",
       "1         5       184    2.0        6874.0   0.029095   \n",
       "2         5       185    8.0        6874.0   0.116381   \n",
       "\n",
       "                 SpeciesName  \n",
       "0     Rocky Mountain juniper  \n",
       "1           Juniper woodland  \n",
       "2  Pinyon / juniper woodland  "
      ]
     },
     "execution_count": 21,
     "metadata": {},
     "output_type": "execute_result"
    }
   ],
   "source": [
    "# load the species lookup table\n",
    "fp = os.path.join(projdir,'data/tabular/mod/treemap_fortypcd_species_mapping.csv')\n",
    "species_df = pd.read_csv(fp)[['FORTYPCD','SpeciesName']]\n",
    "species_df = species_df[species_df['FORTYPCD'].isin(sampled['FORTYPCD'].unique())]\n",
    "print(species_df.columns)\n",
    "\n",
    "# merge with fire summary to get forest species name\n",
    "fortypcd = sampled.merge(species_df, on='FORTYPCD', how='left')\n",
    "fortypcd.head(3)"
   ]
  },
  {
   "cell_type": "code",
   "execution_count": null,
   "id": "48b2e852-da5e-4229-ac15-75f8015f8ce4",
   "metadata": {},
   "outputs": [],
   "source": []
  },
  {
   "cell_type": "code",
   "execution_count": null,
   "id": "23a5b1da-9e59-498e-a51a-3cbae2c75e3f",
   "metadata": {},
   "outputs": [],
   "source": [
    "# Identify fires with >= 1% aspen forest cover"
   ]
  },
  {
   "cell_type": "code",
   "execution_count": 22,
   "id": "54b7fbb3-7460-4915-af23-0565fb2b483a",
   "metadata": {},
   "outputs": [
    {
     "name": "stdout",
     "output_type": "stream",
     "text": [
      "There are 1707 fires with some aspen component.\n",
      "\n",
      "There are [1061] fire events with > 1% aspen cover across western U.S. ecoregions (2012-2023).\n",
      "\n"
     ]
    }
   ],
   "source": [
    "aspen_fires = fortypcd[fortypcd['SpeciesName'] == 'Aspen']\n",
    "print(f\"There are {len(aspen_fires)} fires with some aspen component.\")\n",
    "\n",
    "# filter fires where \"pct_aspen\" >= 1%\n",
    "aspen_fires = aspen_fires[aspen_fires['pct_cover'] >= 1] # retain fires with >= X %\n",
    "aspen_fires = aspen_fires[['OBJECTID','pct_cover']] # subset columns\n",
    "print(f\"\\nThere are [{len(aspen_fires)}] fire events with > 1% aspen cover across western U.S. ecoregions (2012-2023).\\n\")"
   ]
  },
  {
   "cell_type": "code",
   "execution_count": 23,
   "id": "d09c7e79-663d-479a-89e4-adab2b442da3",
   "metadata": {},
   "outputs": [
    {
     "data": {
      "text/plain": [
       "Index(['OBJECTID', 'na_l3name', 'MAP_METHOD', 'GEO_ID', 'IRWINID', 'FIRE_YEAR',\n",
       "       'INCIDENT', 'FEATURE_CA', 'GIS_ACRES', 'geometry', 'aspen_pct'],\n",
       "      dtype='object')"
      ]
     },
     "execution_count": 23,
     "metadata": {},
     "output_type": "execute_result"
    }
   ],
   "source": [
    "# Join aspen percent to the spatial data.\n",
    "props_gdf = pd.merge(events_west, aspen_fires, on='OBJECTID', how='inner').rename(columns={'pct_cover': 'aspen_pct'})\n",
    "props_gdf = props_gdf.to_crs(proj)  # ensure the correct projection before exporting\n",
    "props_gdf.columns"
   ]
  },
  {
   "cell_type": "code",
   "execution_count": 24,
   "id": "d00a4d7d-3f04-42e4-ab88-faad370c1d64",
   "metadata": {},
   "outputs": [
    {
     "name": "stdout",
     "output_type": "stream",
     "text": [
      "There are 0 duplicate IRWINIDs.\n"
     ]
    }
   ],
   "source": [
    "# Check for remaining duplicates\n",
    "print(f\"There are {props_gdf.duplicated(subset='IRWINID').sum()} duplicate IRWINIDs.\")"
   ]
  },
  {
   "cell_type": "code",
   "execution_count": 29,
   "id": "791d2bd5-3637-4398-b363-1f2e176497d1",
   "metadata": {},
   "outputs": [
    {
     "name": "stdout",
     "output_type": "stream",
     "text": [
      "There are 5 duplicate Fire Year/Fire Name combinations.\n"
     ]
    }
   ],
   "source": [
    "# Check for remaining duplicates on year+fire name\n",
    "props_gdf['YEAR_NAME'] = props_gdf['FIRE_YEAR'].astype(str) + props_gdf['INCIDENT'].astype(str) + props_gdf['na_l3name'].astype(str)\n",
    "print(f\"There are {props_gdf.duplicated(subset='YEAR_NAME').sum()} duplicate Fire Year/Fire Name combinations.\")"
   ]
  },
  {
   "cell_type": "code",
   "execution_count": 30,
   "id": "3a959c27-e72d-41eb-91a4-43a372e29447",
   "metadata": {},
   "outputs": [
    {
     "data": {
      "text/html": [
       "<div>\n",
       "<style scoped>\n",
       "    .dataframe tbody tr th:only-of-type {\n",
       "        vertical-align: middle;\n",
       "    }\n",
       "\n",
       "    .dataframe tbody tr th {\n",
       "        vertical-align: top;\n",
       "    }\n",
       "\n",
       "    .dataframe thead th {\n",
       "        text-align: right;\n",
       "    }\n",
       "</style>\n",
       "<table border=\"1\" class=\"dataframe\">\n",
       "  <thead>\n",
       "    <tr style=\"text-align: right;\">\n",
       "      <th></th>\n",
       "      <th>OBJECTID</th>\n",
       "      <th>FIRE_YEAR</th>\n",
       "      <th>INCIDENT</th>\n",
       "      <th>YEAR_NAME</th>\n",
       "      <th>GIS_ACRES</th>\n",
       "      <th>MAP_METHOD</th>\n",
       "      <th>aspen_pct</th>\n",
       "    </tr>\n",
       "  </thead>\n",
       "  <tbody>\n",
       "    <tr>\n",
       "      <th>123</th>\n",
       "      <td>7753</td>\n",
       "      <td>2016</td>\n",
       "      <td>Berry</td>\n",
       "      <td>2016BerryMiddle Rockies</td>\n",
       "      <td>20824.79</td>\n",
       "      <td>Infrared Interpretation</td>\n",
       "      <td>3.108192</td>\n",
       "    </tr>\n",
       "    <tr>\n",
       "      <th>948</th>\n",
       "      <td>97825</td>\n",
       "      <td>2016</td>\n",
       "      <td>Berry</td>\n",
       "      <td>2016BerryMiddle Rockies</td>\n",
       "      <td>20841.12</td>\n",
       "      <td>Autonomous GPS</td>\n",
       "      <td>3.108192</td>\n",
       "    </tr>\n",
       "    <tr>\n",
       "      <th>622</th>\n",
       "      <td>25950</td>\n",
       "      <td>2017</td>\n",
       "      <td>Boundary</td>\n",
       "      <td>2017BoundaryArizona/New Mexico Mountains</td>\n",
       "      <td>17817.96</td>\n",
       "      <td>Infrared Interpretation</td>\n",
       "      <td>3.581105</td>\n",
       "    </tr>\n",
       "    <tr>\n",
       "      <th>677</th>\n",
       "      <td>29666</td>\n",
       "      <td>2017</td>\n",
       "      <td>Boundary</td>\n",
       "      <td>2017BoundaryArizona/New Mexico Mountains</td>\n",
       "      <td>17804.88</td>\n",
       "      <td>Other Agency Digital</td>\n",
       "      <td>3.584981</td>\n",
       "    </tr>\n",
       "    <tr>\n",
       "      <th>522</th>\n",
       "      <td>24555</td>\n",
       "      <td>2019</td>\n",
       "      <td>Crib</td>\n",
       "      <td>2019CribNorthwestern Great Plains</td>\n",
       "      <td>32.96</td>\n",
       "      <td>Unknown</td>\n",
       "      <td>12.500000</td>\n",
       "    </tr>\n",
       "    <tr>\n",
       "      <th>882</th>\n",
       "      <td>72938</td>\n",
       "      <td>2019</td>\n",
       "      <td>Crib</td>\n",
       "      <td>2019CribNorthwestern Great Plains</td>\n",
       "      <td>32.96</td>\n",
       "      <td>GPS-Unknown</td>\n",
       "      <td>12.500000</td>\n",
       "    </tr>\n",
       "    <tr>\n",
       "      <th>857</th>\n",
       "      <td>70102</td>\n",
       "      <td>2018</td>\n",
       "      <td>Ryan</td>\n",
       "      <td>2018RyanSouthern Rockies</td>\n",
       "      <td>28585.43</td>\n",
       "      <td>Mixed Methods</td>\n",
       "      <td>14.976820</td>\n",
       "    </tr>\n",
       "    <tr>\n",
       "      <th>1021</th>\n",
       "      <td>41932</td>\n",
       "      <td>2018</td>\n",
       "      <td>Ryan</td>\n",
       "      <td>2018RyanSouthern Rockies</td>\n",
       "      <td>28243.65</td>\n",
       "      <td>Infrared Interpretation</td>\n",
       "      <td>14.855188</td>\n",
       "    </tr>\n",
       "    <tr>\n",
       "      <th>444</th>\n",
       "      <td>22817</td>\n",
       "      <td>2022</td>\n",
       "      <td>Snyelmn</td>\n",
       "      <td>2022SnyelmnCanadian Rockies</td>\n",
       "      <td>345.00</td>\n",
       "      <td>Other</td>\n",
       "      <td>2.669633</td>\n",
       "    </tr>\n",
       "    <tr>\n",
       "      <th>900</th>\n",
       "      <td>79577</td>\n",
       "      <td>2022</td>\n",
       "      <td>Snyelmn</td>\n",
       "      <td>2022SnyelmnCanadian Rockies</td>\n",
       "      <td>245.91</td>\n",
       "      <td>Other</td>\n",
       "      <td>2.669633</td>\n",
       "    </tr>\n",
       "  </tbody>\n",
       "</table>\n",
       "</div>"
      ],
      "text/plain": [
       "      OBJECTID FIRE_YEAR  INCIDENT                                 YEAR_NAME  \\\n",
       "123       7753      2016     Berry                   2016BerryMiddle Rockies   \n",
       "948      97825      2016     Berry                   2016BerryMiddle Rockies   \n",
       "622      25950      2017  Boundary  2017BoundaryArizona/New Mexico Mountains   \n",
       "677      29666      2017  Boundary  2017BoundaryArizona/New Mexico Mountains   \n",
       "522      24555      2019      Crib         2019CribNorthwestern Great Plains   \n",
       "882      72938      2019      Crib         2019CribNorthwestern Great Plains   \n",
       "857      70102      2018      Ryan                  2018RyanSouthern Rockies   \n",
       "1021     41932      2018      Ryan                  2018RyanSouthern Rockies   \n",
       "444      22817      2022   Snyelmn               2022SnyelmnCanadian Rockies   \n",
       "900      79577      2022   Snyelmn               2022SnyelmnCanadian Rockies   \n",
       "\n",
       "      GIS_ACRES               MAP_METHOD  aspen_pct  \n",
       "123    20824.79  Infrared Interpretation   3.108192  \n",
       "948    20841.12           Autonomous GPS   3.108192  \n",
       "622    17817.96  Infrared Interpretation   3.581105  \n",
       "677    17804.88     Other Agency Digital   3.584981  \n",
       "522       32.96                  Unknown  12.500000  \n",
       "882       32.96              GPS-Unknown  12.500000  \n",
       "857    28585.43            Mixed Methods  14.976820  \n",
       "1021   28243.65  Infrared Interpretation  14.855188  \n",
       "444      345.00                    Other   2.669633  \n",
       "900      245.91                    Other   2.669633  "
      ]
     },
     "execution_count": 30,
     "metadata": {},
     "output_type": "execute_result"
    }
   ],
   "source": [
    "duplicates = props_gdf[props_gdf['YEAR_NAME'].duplicated(keep=False)]  # Keep all duplicates\n",
    "duplicates = duplicates.sort_values(by=['INCIDENT'])\n",
    "duplicates[['OBJECTID','FIRE_YEAR','INCIDENT','YEAR_NAME','GIS_ACRES','MAP_METHOD','aspen_pct']].head(len(duplicates))"
   ]
  },
  {
   "cell_type": "code",
   "execution_count": 37,
   "id": "9303c890-f528-4631-906f-44e70a535351",
   "metadata": {},
   "outputs": [
    {
     "data": {
      "text/html": [
       "<div>\n",
       "<style scoped>\n",
       "    .dataframe tbody tr th:only-of-type {\n",
       "        vertical-align: middle;\n",
       "    }\n",
       "\n",
       "    .dataframe tbody tr th {\n",
       "        vertical-align: top;\n",
       "    }\n",
       "\n",
       "    .dataframe thead th {\n",
       "        text-align: right;\n",
       "    }\n",
       "</style>\n",
       "<table border=\"1\" class=\"dataframe\">\n",
       "  <thead>\n",
       "    <tr style=\"text-align: right;\">\n",
       "      <th></th>\n",
       "      <th>OBJECTID</th>\n",
       "      <th>FIRE_YEAR</th>\n",
       "      <th>INCIDENT</th>\n",
       "      <th>GIS_ACRES</th>\n",
       "    </tr>\n",
       "  </thead>\n",
       "  <tbody>\n",
       "    <tr>\n",
       "      <th>857</th>\n",
       "      <td>70102</td>\n",
       "      <td>2018</td>\n",
       "      <td>Ryan</td>\n",
       "      <td>28585.43</td>\n",
       "    </tr>\n",
       "    <tr>\n",
       "      <th>1021</th>\n",
       "      <td>41932</td>\n",
       "      <td>2018</td>\n",
       "      <td>Ryan</td>\n",
       "      <td>28243.65</td>\n",
       "    </tr>\n",
       "    <tr>\n",
       "      <th>948</th>\n",
       "      <td>97825</td>\n",
       "      <td>2016</td>\n",
       "      <td>Berry</td>\n",
       "      <td>20841.12</td>\n",
       "    </tr>\n",
       "    <tr>\n",
       "      <th>123</th>\n",
       "      <td>7753</td>\n",
       "      <td>2016</td>\n",
       "      <td>Berry</td>\n",
       "      <td>20824.79</td>\n",
       "    </tr>\n",
       "    <tr>\n",
       "      <th>622</th>\n",
       "      <td>25950</td>\n",
       "      <td>2017</td>\n",
       "      <td>Boundary</td>\n",
       "      <td>17817.96</td>\n",
       "    </tr>\n",
       "    <tr>\n",
       "      <th>677</th>\n",
       "      <td>29666</td>\n",
       "      <td>2017</td>\n",
       "      <td>Boundary</td>\n",
       "      <td>17804.88</td>\n",
       "    </tr>\n",
       "    <tr>\n",
       "      <th>444</th>\n",
       "      <td>22817</td>\n",
       "      <td>2022</td>\n",
       "      <td>Snyelmn</td>\n",
       "      <td>345.00</td>\n",
       "    </tr>\n",
       "    <tr>\n",
       "      <th>900</th>\n",
       "      <td>79577</td>\n",
       "      <td>2022</td>\n",
       "      <td>Snyelmn</td>\n",
       "      <td>245.91</td>\n",
       "    </tr>\n",
       "    <tr>\n",
       "      <th>522</th>\n",
       "      <td>24555</td>\n",
       "      <td>2019</td>\n",
       "      <td>Crib</td>\n",
       "      <td>32.96</td>\n",
       "    </tr>\n",
       "    <tr>\n",
       "      <th>882</th>\n",
       "      <td>72938</td>\n",
       "      <td>2019</td>\n",
       "      <td>Crib</td>\n",
       "      <td>32.96</td>\n",
       "    </tr>\n",
       "  </tbody>\n",
       "</table>\n",
       "</div>"
      ],
      "text/plain": [
       "      OBJECTID FIRE_YEAR  INCIDENT  GIS_ACRES\n",
       "857      70102      2018      Ryan   28585.43\n",
       "1021     41932      2018      Ryan   28243.65\n",
       "948      97825      2016     Berry   20841.12\n",
       "123       7753      2016     Berry   20824.79\n",
       "622      25950      2017  Boundary   17817.96\n",
       "677      29666      2017  Boundary   17804.88\n",
       "444      22817      2022   Snyelmn     345.00\n",
       "900      79577      2022   Snyelmn     245.91\n",
       "522      24555      2019      Crib      32.96\n",
       "882      72938      2019      Crib      32.96"
      ]
     },
     "execution_count": 37,
     "metadata": {},
     "output_type": "execute_result"
    }
   ],
   "source": [
    "# Handle remaining duplicate fire boundaries (keep the largest)\n",
    "# 'Lost Spring' above is not actually a duplicate\n",
    "duplicates = duplicates.sort_values(by=['GIS_ACRES'], ascending=False)\n",
    "duplicates[['OBJECTID','FIRE_YEAR','INCIDENT','GIS_ACRES']].head(len(duplicates))\n",
    "\n",
    "resolved_df = duplicates.drop_duplicates(subset='INCIDENT', keep='first')\n",
    "print(resolved_df[['OBJECTID','FIRE_YEAR','INCIDENT','GIS_ACRES','aspen_pct']].head())\n",
    "\n",
    "# Merge back with the original dataframe\n",
    "non_dups = props_gdf[~props_gdf['YEAR_NAME'].duplicated(keep=False)]  # keep only non-duplicates\n",
    "props_gdf_ = pd.concat([non_dups, resolved_df], ignore_index=True) # merge back\n",
    "print(f\"There are {len(props_gdf_)} after resolving the last duplicates.\")"
   ]
  },
  {
   "cell_type": "code",
   "execution_count": null,
   "id": "54f216d5-c1f4-4028-9e67-b217b5a8c9c5",
   "metadata": {},
   "outputs": [],
   "source": [
    "# Save this file out\n",
    "out_fp = os.path.join(projdir,'data/spatial/mod/NIFC/nifc-interagency_2012_to_2023-TreeMap_aspen.gpkg')\n",
    "props_gdf_.to_file(out_fp)\n",
    "print(f\"Saved file to {out_fp}\")"
   ]
  },
  {
   "cell_type": "code",
   "execution_count": null,
   "id": "db695c60-cc31-439d-8fe1-2f1e4e843b21",
   "metadata": {},
   "outputs": [],
   "source": []
  },
  {
   "cell_type": "code",
   "execution_count": null,
   "id": "bc3fa43b-e5ec-4646-8845-181bca269a2e",
   "metadata": {},
   "outputs": [],
   "source": [
    "# Map of aspen fires"
   ]
  },
  {
   "cell_type": "code",
   "execution_count": null,
   "id": "9ede37ab-80e3-4e1a-b712-23d12b5624b4",
   "metadata": {},
   "outputs": [],
   "source": [
    "### Load the state boundaries\n",
    "states = gpd.read_file(os.path.join(maindir,'data/boundaries/political/TIGER/tl19_us_states_west_nad83.gpkg'))\n",
    "states = states.to_crs(4326)\n",
    "\n",
    "ecol3 = ecol3.to_crs(4326)\n",
    "\n",
    "# Generate centroids\n",
    "centroid = props_gdf.copy()\n",
    "centroid = centroid.to_crs(4326)\n",
    "centroid['geometry'] = centroid.geometry.centroid\n",
    "centroid['size'] = centroid['aspen_pct'] * 10  # Adjust the scaling factor as necessary\n",
    "\n",
    "# Make a spatial map of the centroids now\n",
    "fig, ax = plt.subplots(figsize=(6, 6))\n",
    "\n",
    "ecol3.plot(ax=ax, edgecolor='black', linewidth=0.4, color='none')\n",
    "centroid.plot(\n",
    "    ax=ax, markersize=centroid['aspen_pct'], \n",
    "    column='aspen_pct', cmap='viridis', \n",
    "    legend=False, alpha=0.6)\n",
    "\n",
    "# Manually add colorbar\n",
    "norm = matplotlib.colors.Normalize(vmin=centroid['aspen_pct'].min(), vmax=centroid['aspen_pct'].max())\n",
    "sm = plt.cm.ScalarMappable(cmap='viridis', norm=norm)\n",
    "sm.set_array([])  # Only needed for ScalarMappable\n",
    "\n",
    "# Adjust the size of the colorbar using the `shrink` parameter\n",
    "cbar = fig.colorbar(sm, ax=ax, shrink=0.7)\n",
    "cbar.set_label('Aspen Percent')\n",
    "\n",
    "plt.xlabel('Longitude')\n",
    "plt.ylabel('Latitude')\n",
    "plt.tight_layout()\n",
    "\n",
    "# Save the map as a PNG\n",
    "plt.savefig(os.path.join(projdir, 'figures/Figure1_Aspen-Fires_NIFC_2012to2023.png'), dpi=300, bbox_inches='tight')\n",
    "\n",
    "plt.show()"
   ]
  },
  {
   "cell_type": "code",
   "execution_count": null,
   "id": "7114ebbc-1df9-437f-960e-30cde62673b4",
   "metadata": {},
   "outputs": [],
   "source": [
    "props_gdf_.columns"
   ]
  },
  {
   "cell_type": "code",
   "execution_count": null,
   "id": "0911677e-ded2-46fb-a062-29d19cd84d29",
   "metadata": {},
   "outputs": [],
   "source": [
    "# Plot the count of fires across US EPA Level III ecoregions\n",
    "df = props_gdf_.groupby('na_l3name').agg(\n",
    "    pct_cover_mean=('pct_cover', 'mean'),  # Mean percent cover\n",
    "    fire_count=('pct_cover', 'count')      # Count of fires\n",
    ").reset_index()\n",
    "df"
   ]
  },
  {
   "cell_type": "code",
   "execution_count": null,
   "id": "c2a8cce4-e9dc-4e8d-9535-808d2cba5bbb",
   "metadata": {},
   "outputs": [],
   "source": [
    "import matplotlib.pyplot as plt\n",
    "import matplotlib.cm as cm\n",
    "\n",
    "df = df.sort_values('fire_count', ascending=False)\n",
    "\n",
    "norm = plt.Normalize(df['pct_cover_mean'].min(), df['pct_cover_mean'].max())\n",
    "cmap = cm.viridis  # Choose a colormap\n",
    "\n",
    "# Create the bar chart\n",
    "fig, ax = plt.subplots(figsize=(10, 5))\n",
    "bars = ax.bar(\n",
    "    df['na_l3name'], \n",
    "    df['fire_count'], \n",
    "    color=cmap(norm(df['pct_cover_mean']))\n",
    ")\n",
    "\n",
    "# Add colorbar for mean percent cover\n",
    "sm = plt.cm.ScalarMappable(cmap=cmap, norm=norm)\n",
    "sm.set_array([])\n",
    "cbar = plt.colorbar(sm, ax=ax)\n",
    "cbar.set_label('Mean Percent Cover (%)', rotation=270, labelpad=15)\n",
    "\n",
    "# Add labels and title\n",
    "ax.set_xlabel('Ecoregion')\n",
    "ax.set_ylabel('Fire Count')\n",
    "ax.set_title('Fire Count and Mean Percent Cover by Ecoregion')\n",
    "ax.set_xticks(range(len(df['na_l3name'])))\n",
    "ax.set_xticklabels(df['na_l3name'], rotation=45, ha='right')\n",
    "\n",
    "# Show the plot\n",
    "plt.tight_layout()\n",
    "plt.show()"
   ]
  },
  {
   "cell_type": "code",
   "execution_count": null,
   "id": "ba264322-b7a2-43f0-81d9-c9e70c5e4dbe",
   "metadata": {},
   "outputs": [],
   "source": []
  },
  {
   "cell_type": "code",
   "execution_count": null,
   "id": "9e50e7f4-a8c3-4651-8a07-0fcdb86e9cb5",
   "metadata": {},
   "outputs": [],
   "source": [
    "ecol3.columns"
   ]
  },
  {
   "cell_type": "code",
   "execution_count": null,
   "id": "ecb5992c-8ef7-4a8d-ba2b-0d3ddb516c99",
   "metadata": {},
   "outputs": [],
   "source": [
    "# Southern Rockies\n",
    "\n",
    "centroid_srm = centroid[centroid['na_l3name'] == 'Southern Rockies']\n",
    "ecol3_srm = ecol3[ecol3['na_l3name'] == 'Southern Rockies']\n",
    "\n",
    "# plot it\n",
    "fig, ax = plt.subplots(figsize=(6, 6))\n",
    "\n",
    "ecol3_srm.plot(ax=ax, edgecolor='black', linewidth=0.8, color='none')\n",
    "centroid_srm.plot(\n",
    "    ax=ax, markersize=centroid_srm['pct_cover'], \n",
    "    column='pct_cover', cmap='viridis', \n",
    "    legend=False, alpha=0.6)\n",
    "\n",
    "# Manually add colorbar\n",
    "norm = matplotlib.colors.Normalize(vmin=centroid_srm['pct_cover'].min(), vmax=centroid_srm['pct_cover'].max())\n",
    "sm = plt.cm.ScalarMappable(cmap='viridis', norm=norm)\n",
    "sm.set_array([])  # Only needed for ScalarMappable\n",
    "\n",
    "# Adjust the size of the colorbar using the `shrink` parameter\n",
    "cbar = fig.colorbar(sm, ax=ax, shrink=0.7)\n",
    "cbar.set_label('Aspen Percent')\n",
    "\n",
    "plt.xlabel('Longitude')\n",
    "plt.ylabel('Latitude')\n",
    "\n",
    "\n",
    "# Save the map as a PNG\n",
    "plt.savefig(os.path.join(projdir, 'figures/Figure1_Aspen-Fires_NIFC-SRM.png'), dpi=300, bbox_inches='tight')\n",
    "\n",
    "plt.show()"
   ]
  },
  {
   "cell_type": "code",
   "execution_count": null,
   "id": "970776c4-e85d-4e79-bac4-20ad99d5b57a",
   "metadata": {},
   "outputs": [],
   "source": []
  },
  {
   "cell_type": "code",
   "execution_count": null,
   "id": "72a473e8-a06a-4bb1-b560-d45a1914a126",
   "metadata": {},
   "outputs": [],
   "source": [
    "gc.collect()"
   ]
  },
  {
   "cell_type": "code",
   "execution_count": null,
   "id": "e2b5e0ec-93a0-4fec-b601-d8072e85db8d",
   "metadata": {},
   "outputs": [],
   "source": []
  }
 ],
 "metadata": {
  "kernelspec": {
   "display_name": "aspen-fire",
   "language": "python",
   "name": "aspen-fire"
  },
  "language_info": {
   "codemirror_mode": {
    "name": "ipython",
    "version": 3
   },
   "file_extension": ".py",
   "mimetype": "text/x-python",
   "name": "python",
   "nbconvert_exporter": "python",
   "pygments_lexer": "ipython3",
   "version": "3.10.12"
  }
 },
 "nbformat": 4,
 "nbformat_minor": 5
}
