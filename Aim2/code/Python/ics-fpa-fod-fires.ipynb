{
 "cells": [
  {
   "cell_type": "code",
   "execution_count": null,
   "id": "c74d170e-fc22-417c-a680-786cf57da794",
   "metadata": {},
   "outputs": [],
   "source": [
    "\"\"\"\n",
    "Identifying wildfires which burned >=5% total aspen forest cover AND required incident response\n",
    "\n",
    "Data Sources:\n",
    "    -FIRED\n",
    "    -ICS-209-PLUS\n",
    "    -FPA-FOD\n",
    "\n",
    "Author: maxwell.cook@colorado.edu\n",
    "\"\"\"\n",
    "\n",
    "import os\n",
    "import geopandas as gpd\n",
    "import pandas as pd\n",
    "\n",
    "maindir = '/Users/max/Library/CloudStorage/OneDrive-Personal/mcook/'\n",
    "projdir = os.path.join(maindir, 'aspen-fire/Aim2/')\n",
    "\n",
    "prinT(\"Ready !\")"
   ]
  },
  {
   "cell_type": "code",
   "execution_count": null,
   "id": "74145925-deaa-4b76-af67-3594e5556aaf",
   "metadata": {},
   "outputs": [],
   "source": [
    "# Functions !\n",
    "\n"
   ]
  },
  {
   "cell_type": "code",
   "execution_count": null,
   "id": "ebd99031-2c07-4b89-a9c8-a6d8d75fc18a",
   "metadata": {},
   "outputs": [],
   "source": [
    "# Load the wildfire dataset"
   ]
  }
 ],
 "metadata": {
  "kernelspec": {
   "display_name": "aspen-fire",
   "language": "python",
   "name": "aspen-fire"
  },
  "language_info": {
   "codemirror_mode": {
    "name": "ipython",
    "version": 3
   },
   "file_extension": ".py",
   "mimetype": "text/x-python",
   "name": "python",
   "nbconvert_exporter": "python",
   "pygments_lexer": "ipython3",
   "version": "3.10.12"
  }
 },
 "nbformat": 4,
 "nbformat_minor": 5
}
