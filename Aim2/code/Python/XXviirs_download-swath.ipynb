{
 "cells": [
  {
   "cell_type": "code",
   "execution_count": 1,
   "id": "d1ec03ae-2946-4baf-a5f7-f722a615f19e",
   "metadata": {},
   "outputs": [
    {
     "name": "stdout",
     "output_type": "stream",
     "text": [
      "Ready !\n"
     ]
    }
   ],
   "source": [
    "\"\"\"\n",
    "Downloading VIIRS Active Fire Detections (AFD) with 'earthaccess' python API\n",
    "\n",
    "For a given geometry (in this case, fire perimeters), download data granules for:\n",
    "\n",
    "VIIRS/NPP Active Fires 6-Min L2 Swath 375m V002 (VNP14IMG)\n",
    "VIIRS/NPP Imagery Resolution Terrain Corrected Geolocation 6-Min L1 Swath 375 m (VNP03IMG)\n",
    "\n",
    "Return: \n",
    "    - Downloaded NetCDF granules for the above products\n",
    "    - GeoDataFrame representing active fire pixel locations and attributes (before geolocation)\n",
    "    - Geolocation grid representing pixel locations and overlap of adjacent orbits\n",
    "\n",
    "Author: maxwell.cook@colorado.edu\n",
    "\"\"\"\n",
    "\n",
    "import sys, os\n",
    "import earthaccess\n",
    "import geopandas as gpd\n",
    "import rioxarray as rxr\n",
    "import rasterio as rio\n",
    "import math\n",
    "import contextlib\n",
    "import traceback\n",
    "import datetime as dt\n",
    "import xarray as xr\n",
    "import pyproj\n",
    "\n",
    "from netCDF4 import Dataset \n",
    "from datetime import datetime\n",
    "from datetime import timedelta\n",
    "from matplotlib import pyplot as plt\n",
    "from affine import Affine\n",
    "from osgeo import gdal, gdal_array, gdalconst, osr\n",
    "from rasterio.transform import from_bounds\n",
    "from scipy.spatial import cKDTree\n",
    "\n",
    "# Custom functions\n",
    "sys.path.append(os.path.join(os.getcwd(),'code/'))\n",
    "from __functions import *\n",
    "\n",
    "import warnings\n",
    "warnings.filterwarnings('ignore')\n",
    "warnings.simplefilter('ignore')\n",
    "\n",
    "# Directories\n",
    "maindir = '/Users/max/Library/CloudStorage/OneDrive-Personal/mcook/'\n",
    "projdir = os.path.join(maindir, 'aspen-fire/Aim2/')\n",
    "\n",
    "# Output directories\n",
    "dataraw = os.path.join(projdir,'data/spatial/raw/VIIRS/')\n",
    "datamod = os.path.join(projdir,'data/spatial/mod/VIIRS/')\n",
    "\n",
    "print(\"Ready !\")"
   ]
  },
  {
   "cell_type": "code",
   "execution_count": 2,
   "id": "3bc73e6e-f469-4785-91a3-a8b9660875b8",
   "metadata": {},
   "outputs": [],
   "source": [
    "# Load the lookup table for pixel sizes\n",
    "fp = os.path.join(projdir,'data/tabular/raw/pix_size_lut.csv')\n",
    "lut = pd.read_csv(fp)"
   ]
  },
  {
   "cell_type": "code",
   "execution_count": 3,
   "id": "73b7ebd1-d1ba-400d-8b65-d3b993c033ee",
   "metadata": {},
   "outputs": [
    {
     "name": "stdout",
     "output_type": "stream",
     "text": [
      "Class and functions ready !\n"
     ]
    }
   ],
   "source": [
    "class Download_VIIRS_AFD:\n",
    "    \"\"\" Downloads VIIRS Active Fire Data (AFD) within a region for given date range \"\"\"\n",
    "    def __init__(self, start_date, last_date, geom = gpd.GeoDataFrame(),\n",
    "                 fire_id_col = 'Fire_ID', fire_name_col = 'Fire_Name',\n",
    "                 region_extent = None, # broader region to process granules\n",
    "                 geog_crs = 'EPSG:4326', proj_crs = 'EPSG:5070',\n",
    "                 short_names = ['VNP14IMG', 'VNP03IMG'], # active fire data and associated geolocation\n",
    "                 buffer = None, out_directory=None, processed_granules=None\n",
    "                ):\n",
    "        \"\"\"\n",
    "        Args:\n",
    "            - start_date: the intial date for the granule search\n",
    "            - last_date: the final date for the granule search\n",
    "            - gdf: GeoDataFrame for search request\n",
    "            - geog_crs: Geographic projection (to retrieve coordinate pairs in lat/lon)\n",
    "            - proj_crs: Projected coordinate system\n",
    "            - short_names: the granules to be downloaded\n",
    "            - buffer: Optional buffer for input geometry\n",
    "        Returns:\n",
    "            - Downloaded files (VIIRS Active Fire Data NetCDF and Geolocation information)\n",
    "            - GeoDataFrame with non-geolocated (raw) fire detections\n",
    "        \"\"\"\n",
    "        # Extract coordinate bounds\n",
    "        self.coords, self.extent = get_coords(geom, buffer)\n",
    "        print(f\"Bounding extent for data search: \\n{self.extent}\\n\")\n",
    "\n",
    "        self.region = region_extent\n",
    "\n",
    "        self.fire_id = geom[fire_id_col].iloc[0]\n",
    "        self.fire_name = geom[fire_name_col].iloc[0]\n",
    "        \n",
    "        # Extract class attributes\n",
    "        self.date_range = (str(start_date), str(last_date))\n",
    "        self.geog_crs = geog_crs\n",
    "        self.proj_crs = proj_crs\n",
    "        self.short_names = short_names\n",
    "        self.out_dir = out_directory\n",
    "\n",
    "        self.processed_granules = processed_granules\n",
    "\n",
    "    \n",
    "    def ea_search_request(self):\n",
    "        \"\"\" Generate an earthaccess search request with the given parameters \"\"\"\n",
    "\n",
    "        query = earthaccess.search_data(\n",
    "            short_name=self.short_names, \n",
    "            polygon=self.coords,\n",
    "            temporal=self.date_range, \n",
    "        )\n",
    "\n",
    "        # Extract the query dataframe\n",
    "        df = pd.json_normalize(query)\n",
    "        # Grab a list of granule IDs\n",
    "        granules = list(df['meta.native-id'].unique())\n",
    "\n",
    "        # Filter the query to only download the \"new\" granules\n",
    "        new = [g for g in granules if g not in self.processed_granules]\n",
    "        query_ = [item for item in query if item['meta']['native-id'] in new]\n",
    "\n",
    "        # Download the \"new\" granules\n",
    "        earthaccess.download(query_, self.out_dir)\n",
    "        \n",
    "        # return fileset\n",
    "        return df, granules\n",
    "             \n",
    "\n",
    "    def create_fire_gdf(self):\n",
    "        \"\"\" Creates a geodataframe with active fire detections from a directory with NetCDF files \"\"\"\n",
    "\n",
    "        extent = self.region\n",
    "        \n",
    "        # Identify VNP14 vs. VNP03\n",
    "        vnp14_files = list_files(self.out_dir, \"VNP14IMG*.nc\", recursive=True)\n",
    "        vnp03_files = list_files(self.out_dir, \"VNP03IMG*.nc\", recursive=True)\n",
    "        \n",
    "        out_fire_dfs = []\n",
    "        \n",
    "        nprint = round(len(vnp14_files) / 4)\n",
    "        \n",
    "        for idx, fp in enumerate(sorted(vnp14_files)):\n",
    "            \n",
    "            # Gather some metadata information from the file name\n",
    "            timestamp = fp.split('.')[1:3]\n",
    "            year = timestamp[0][1:5]\n",
    "            day = timestamp[0][5:8]\n",
    "            time = timestamp[1]\n",
    "            date = dt.datetime.strptime(year+day, '%Y%j').strftime('%b %d') \n",
    "            acq_date = dt.datetime.strptime(year+day, '%Y%j').strftime('%-m/%-d/%y') #match FIRMS\n",
    "            daytime = int(time) > 1500 #timestamps in the 1900h-2200h UTC range are afternoon for Western US\n",
    "\n",
    "            # Find matching geolocation data file for one record\n",
    "            identifier = os.path.basename(fp)[:-3]\n",
    "            parts = identifier.split('.') # split by '.'\n",
    "            date_time_part = '.'.join(parts[1:4])  # Extract date-time parts for the VNP Version 002    \n",
    "            geo_id = 'VNP03IMG' + '.' + date_time_part\n",
    "            geo_da_fp = [geo_link for geo_link in vnp03_files if geo_id in os.path.basename(geo_link)][0] \n",
    "            \n",
    "            if geo_da_fp is None:\n",
    "                print(f\"!!! No geolocation file found for: {identifier}\")\n",
    "                continue\n",
    "            \n",
    "            # Read the geolocation data\n",
    "            with xr.open_dataset(geo_da_fp, engine='netcdf4', group='geolocation_data') as geo:\n",
    "                i, j = np.indices(geo.longitude.shape) #line and sample\n",
    "                # Crop to fire bounding extent\n",
    "                scene = ((geo.longitude > extent[0]) & (geo.longitude < extent[1]) & \n",
    "                         (geo.latitude > extent[2]) & (geo.latitude < extent[3])).values\n",
    "\n",
    "            # Get the VNP14IMG fire mask, etc\n",
    "            with xr.open_dataset(fp, engine='netcdf4') as vnp14:\n",
    "        \n",
    "                qa = vnp14['algorithm QA']\n",
    "                fire = vnp14['fire mask']\n",
    "                daynight = vnp14.DayNightFlag #string Day or Night\n",
    "                \n",
    "                lonfp = vnp14.variables['FP_longitude'][:] # fire pixel longitude\n",
    "                latfp = vnp14.variables['FP_latitude'][:]\n",
    "                frp = vnp14.variables['FP_power'][:] # fire radiative power\n",
    "\n",
    "                tree = cKDTree(np.array([lonfp, latfp]).T) #search tree for finding nearest FRP\n",
    "\n",
    "            # Set up a pandas dataframe for the swath\n",
    "            df = pd.DataFrame()\n",
    "            df['longitude'] = list(geo.longitude.values[scene])\n",
    "            df['latitude'] = list(geo.latitude.values[scene])\n",
    "            df['fire_mask'] = list(fire.values[scene])\n",
    "            df['daynight'] = daynight[0]\n",
    "            df['confidence'] = df.fire_mask\n",
    "            df.confidence = df.confidence.replace(\n",
    "                {0:'x', 1:'x', 2:'x', 3:'x', 4:'x', 5:'x', 6:'x', 7:'l', 8:'n', 9:'h'})\n",
    "            df['acq_date'] = acq_date\n",
    "            df['acq_time'] = time\n",
    "            df['j'] = list(j[scene]) #sample number for pixel size lookup\n",
    "            \n",
    "            # Retain only low-high confidence fire points\n",
    "            df = df[df['fire_mask'] > 6]\n",
    "            df['fire_mask'] = pd.Categorical(df['fire_mask'])\n",
    "            known = df[df.confidence!='x'] # keep only low-high confidence fire pixels\n",
    "            \n",
    "            # gather frp\n",
    "            for k in known.index:\n",
    "                dist, nearest = tree.query([ known.loc[k, 'longitude'], known.loc[k, 'latitude'] ])\n",
    "                df.loc[k, 'frp'] = frp[nearest].item()\n",
    "        \n",
    "            # Join to pixel size info\n",
    "            df = pd.merge(df, lut, left_on='j', right_on='sample', how='left')\n",
    "            df.drop(columns=['j'], inplace=True)\n",
    "            out_fire_dfs.append(df)\n",
    "\n",
    "            df['granule'] = identifier # add the identifier as the granule\n",
    "        \n",
    "            if idx % nprint == 0:\n",
    "                print(f\"Processed {idx+1} observations.\")\n",
    "\n",
    "            # Remove the netcdf files from the system and clear space\n",
    "\n",
    "            del geo, vnp14\n",
    "            # os.remove(geo_da_fp)\n",
    "            # os.remove(fp)\n",
    "        \n",
    "        # Concatenate the out dfs\n",
    "        fire_data = pd.concat(out_fire_dfs) # for the entire list of granules\n",
    "        fire_data.to_csv(os.path.join(datamod,f'vnp14img_F{str(idx)}_{self.fire_id}_geo.csv'))\n",
    "        \n",
    "        return fire_data\n",
    "\n",
    "print(\"Class and functions ready !\")"
   ]
  },
  {
   "cell_type": "code",
   "execution_count": null,
   "id": "e1e59e97-5dfa-4974-a474-60f7eb88a896",
   "metadata": {},
   "outputs": [],
   "source": []
  },
  {
   "cell_type": "code",
   "execution_count": null,
   "id": "b01fda4e-77aa-449d-a1f6-a2539419007a",
   "metadata": {},
   "outputs": [],
   "source": []
  },
  {
   "cell_type": "code",
   "execution_count": 4,
   "id": "c15c184f-ae2d-4c6e-8d1f-1fdad2122e7f",
   "metadata": {},
   "outputs": [
    {
     "name": "stdout",
     "output_type": "stream",
     "text": [
      "Index(['NA_L3CODE', 'NA_L3NAME', 'NA_L2CODE', 'NA_L2NAME', 'NA_L1CODE',\n",
      "       'NA_L1NAME', 'NA_L3KEY', 'NA_L2KEY', 'NA_L1KEY', 'Shape_Leng',\n",
      "       'Shape_Area', 'geometry'],\n",
      "      dtype='object')\n",
      "Bounding Extent: \n",
      "[-109.71256442441098, -103.74104767380967, 35.186116191032376, 42.87216825857125]\n"
     ]
    },
    {
     "data": {
      "image/png": "[encoded data removed]",
      "text/plain": [
       "<Figure size 600x600 with 1 Axes>"
      ]
     },
     "metadata": {},
     "output_type": "display_data"
    },
    {
     "name": "stdout",
     "output_type": "stream",
     "text": [
      "Bounding box saved to: /Users/max/Library/CloudStorage/OneDrive-Personal/mcook/aspen-fire/Aim2/data/spatial/mod/SRM_bounding_box.shp\n"
     ]
    }
   ],
   "source": [
    "# Create an extent around the Southern Rockies\n",
    "fp = os.path.join(projdir,'data/spatial/raw/boundaries/na_cec_eco_l3_west.gpkg')\n",
    "ecol3 = gpd.read_file(fp)\n",
    "srm = ecol3[ecol3['NA_L3NAME'] == 'Southern Rockies']\n",
    "print(srm.columns)\n",
    "\n",
    "buffer = 10000\n",
    "srm_coords, srm_extent = get_coords(srm, buffer)\n",
    "print(f\"Bounding Extent: \\n{srm_extent}\")\n",
    "\n",
    "# Unpack extent and create bounding box\n",
    "minx, maxx, miny, maxy = srm_extent\n",
    "bounding_box = box(minx, miny, maxx, maxy)\n",
    "bbox_gdf = gpd.GeoDataFrame(geometry=[bounding_box], crs=\"EPSG:4326\")  # Assuming WGS84 geographic coordinates\n",
    "\n",
    "# Plot the bounding box and SRM boundary\n",
    "fig, ax = plt.subplots(figsize=(6, 6))\n",
    "\n",
    "# Ensure SRM is in the correct CRS\n",
    "srm_ = srm.to_crs('EPSG:4326')\n",
    "srm_.plot(ax=ax, color=\"lightblue\", edgecolor=\"blue\", linewidth=1, label=\"SRM Boundary\")\n",
    "bbox_gdf.plot(ax=ax, color=\"none\", edgecolor=\"red\", linewidth=1.5, linestyle=\"--\", label=\"Bounding Box\")\n",
    "\n",
    "# Customize the plot\n",
    "ax.set_xlabel(\"Longitude\")\n",
    "ax.set_ylabel(\"Latitude\")\n",
    "plt.show()\n",
    "\n",
    "# Export bounding box to shapefile\n",
    "out_fp = os.path.join(projdir, \"data/spatial/mod/SRM_bounding_box.shp\")\n",
    "bbox_gdf.to_file(out_fp)\n",
    "print(f\"Bounding box saved to: {out_fp}\")"
   ]
  },
  {
   "cell_type": "code",
   "execution_count": 5,
   "id": "0a1ed65d-83b6-4892-8253-e4b4158beab2",
   "metadata": {},
   "outputs": [],
   "source": [
    "# Load the fire data"
   ]
  },
  {
   "cell_type": "code",
   "execution_count": null,
   "id": "9217be10-a50b-472b-ac0d-98a2ebc9069a",
   "metadata": {},
   "outputs": [],
   "source": []
  },
  {
   "cell_type": "code",
   "execution_count": 6,
   "id": "5d1db138-d9da-4606-a1fe-7154b40c17aa",
   "metadata": {},
   "outputs": [
    {
     "name": "stdout",
     "output_type": "stream",
     "text": [
      "Index(['Fire_ID', 'Fire_Name', 'NIFC_ACRES', 'FINAL_ACRES', 'pct_aspen',\n",
      "       'INCIDENT_ID', 'INCIDENT_NAME', 'START_YEAR', 'CAUSE', 'DISCOVERY_DATE',\n",
      "       'DISCOVERY_DOY', 'WF_CESSATION_DATE', 'WF_CESSATION_DOY',\n",
      "       'STR_DESTROYED_TOTAL', 'STR_DAMAGED_TOTAL', 'STR_THREATENED_MAX',\n",
      "       'EVACUATION_REPORTED', 'PEAK_EVACUATIONS', 'WF_PEAK_AERIAL',\n",
      "       'WF_PEAK_PERSONNEL', 'na_l3name', 'geometry'],\n",
      "      dtype='object')\n"
     ]
    },
    {
     "data": {
      "text/plain": [
       "31"
      ]
     },
     "execution_count": 6,
     "metadata": {},
     "output_type": "execute_result"
    }
   ],
   "source": [
    "# Load the fire dataset for the Southern Rockies\n",
    "fires_path = os.path.join(projdir,'data/spatial/mod/NIFC/nifc-ics_2018_to_2023-aspen_SRM.gpkg')\n",
    "fires = gpd.read_file(fires_path)\n",
    "fires.rename(columns={'NIFC_ID': 'Fire_ID', 'NIFC_NAME': 'Fire_Name'}, inplace=True)\n",
    "fires['DISCOVERY_DATE'] = fires['DISCOVERY_DATE'].dt.date\n",
    "fires['WF_CESSATION_DATE'] = fires['WF_CESSATION_DATE'].dt.date\n",
    "print(fires.columns)\n",
    "len(fires)"
   ]
  },
  {
   "cell_type": "code",
   "execution_count": 7,
   "id": "2a413c62-4f7f-4396-a1e2-e45d83b943cc",
   "metadata": {},
   "outputs": [
    {
     "data": {
      "text/plain": [
       "count        31.000000\n",
       "mean      44233.748065\n",
       "std       73962.450028\n",
       "min        1102.970000\n",
       "25%        4343.480000\n",
       "50%       13034.950000\n",
       "75%       34491.665000\n",
       "max      299792.600000\n",
       "Name: NIFC_ACRES, dtype: float64"
      ]
     },
     "execution_count": 7,
     "metadata": {},
     "output_type": "execute_result"
    }
   ],
   "source": [
    "# Testing with \"large\" fires\n",
    "fires['NIFC_ACRES'] = fires['NIFC_ACRES'].astype(float)\n",
    "fires['NIFC_ACRES'].describe()"
   ]
  },
  {
   "cell_type": "code",
   "execution_count": 8,
   "id": "a66cc83b-232f-430b-a0b3-5f2a70de71d2",
   "metadata": {},
   "outputs": [
    {
     "data": {
      "text/plain": [
       "28"
      ]
     },
     "execution_count": 8,
     "metadata": {},
     "output_type": "execute_result"
    }
   ],
   "source": [
    "fires = fires[fires['NIFC_ACRES'] > 1500]\n",
    "len(fires)"
   ]
  },
  {
   "cell_type": "code",
   "execution_count": null,
   "id": "3fd27dcc-811b-4a02-a569-cbf7bb053d26",
   "metadata": {},
   "outputs": [],
   "source": []
  },
  {
   "cell_type": "code",
   "execution_count": null,
   "id": "5bb8949b-5ad5-4c30-9da8-b096f854e90c",
   "metadata": {},
   "outputs": [],
   "source": []
  },
  {
   "cell_type": "code",
   "execution_count": null,
   "id": "458c5c78-9481-497f-b583-f3d8ddf243f7",
   "metadata": {},
   "outputs": [],
   "source": []
  },
  {
   "cell_type": "code",
   "execution_count": 9,
   "id": "cc72cfb9-1d17-423c-aa9a-46e310541a0d",
   "metadata": {},
   "outputs": [
    {
     "name": "stdout",
     "output_type": "stream",
     "text": [
      "Bounding Extent: \n",
      "[-109.71256442441098, -103.74104767380967, 35.186116191032376, 42.87216825857125]\n"
     ]
    }
   ],
   "source": [
    "buffer = 10000 \n",
    "srm_coords, srm_extent = get_coords(srm, buffer)\n",
    "print(f\"Bounding Extent: \\n{srm_extent}\")"
   ]
  },
  {
   "cell_type": "code",
   "execution_count": 10,
   "id": "c72c3128-d09b-4523-a0e9-bf90a63b5bcb",
   "metadata": {},
   "outputs": [
    {
     "name": "stdout",
     "output_type": "stream",
     "text": [
      "14\n",
      "Processing for 416 Fire ...\n",
      "\n",
      "Bounding extent for data search: \n",
      "[-108.0104287321153, -107.79428582032635, 37.37737010107216, 37.60899484292132]\n",
      "\n",
      "Granules found: 188\n",
      " Getting 188 granules, approx download size: 15.17 GB\n"
     ]
    },
    {
     "data": {
      "application/vnd.jupyter.widget-view+json": {
       "model_id": "16cc1819942b4d07bd006346b2680170",
       "version_major": 2,
       "version_minor": 0
      },
      "text/plain": [
       "QUEUEING TASKS | :   0%|          | 0/188 [00:00<?, ?it/s]"
      ]
     },
     "metadata": {},
     "output_type": "display_data"
    },
    {
     "name": "stdout",
     "output_type": "stream",
     "text": [
      "File VNP03IMG.A2018152.0824.002.2021082143054.nc already downloaded\n",
      "File VNP03IMG.A2018154.1906.002.2021082144544.nc already downloaded\n",
      "File VNP03IMG.A2018154.2048.002.2021082144555.nc already downloaded\n",
      "File VNP03IMG.A2018155.0906.002.2021082151024.nc already downloaded\n",
      "File VNP03IMG.A2018155.2030.002.2021082150026.nc already downloaded\n",
      "File VNP03IMG.A2018156.0848.002.2021082152013.nc already downloaded\n"
     ]
    },
    {
     "data": {
      "application/vnd.jupyter.widget-view+json": {
       "model_id": "a9b947c8bed24761b27693f77c607b4d",
       "version_major": 2,
       "version_minor": 0
      },
      "text/plain": [
       "PROCESSING TASKS | :   0%|          | 0/188 [00:00<?, ?it/s]"
      ]
     },
     "metadata": {},
     "output_type": "display_data"
    },
    {
     "name": "stdout",
     "output_type": "stream",
     "text": [
      "File VNP03IMG.A2018157.0830.002.2021082151852.nc already downloaded\n",
      "File VNP03IMG.A2018157.1012.002.2021082151950.nc already downloaded\n",
      "File VNP03IMG.A2018157.1954.002.2021082152531.nc already downloaded\n",
      "File VNP03IMG.A2018158.0812.002.2021082152623.nc already downloaded\n",
      "File VNP03IMG.A2018158.0954.002.2021082152645.nc already downloaded\n",
      "File VNP03IMG.A2018158.1936.002.2021082153551.nc already downloaded\n",
      "File VNP03IMG.A2018158.2112.002.2021082153557.nc already downloaded\n",
      "File VNP03IMG.A2018159.0754.002.2021082154508.nc already downloaded\n",
      "File VNP03IMG.A2018159.0936.002.2021082155020.nc already downloaded\n",
      "File VNP03IMG.A2018159.1912.002.2021082154300.nc already downloaded\n",
      "File VNP03IMG.A2018159.2054.002.2021082154852.nc already downloaded\n",
      "File VNP03IMG.A2018160.0912.002.2021082155038.nc already downloaded\n",
      "File VNP03IMG.A2018160.1854.002.2021082154829.nc already downloaded\n",
      "File VNP03IMG.A2018160.2036.002.2021082155059.nc already downloaded\n",
      "File VNP03IMG.A2018161.0854.002.2021082161041.nc already downloaded\n",
      "File VNP03IMG.A2018161.2018.002.2021082160617.nc already downloaded\n",
      "File VNP03IMG.A2018162.0836.002.2021082162718.nc already downloaded\n",
      "File VNP03IMG.A2018162.2000.002.2021082162715.nc already downloaded\n",
      "File VNP03IMG.A2018163.0818.002.2021082170812.nc already downloaded\n",
      "File VNP03IMG.A2018163.1000.002.2021082170811.nc already downloaded\n",
      "File VNP03IMG.A2018163.1942.002.2021082170812.nc already downloaded\n",
      "File VNP03IMG.A2018164.0800.002.2021082175242.nc already downloaded\n",
      "File VNP03IMG.A2018164.0942.002.2021082175248.nc already downloaded\n",
      "File VNP03IMG.A2018164.1918.002.2021082175244.nc already downloaded\n",
      "File VNP03IMG.A2018164.2100.002.2021082175245.nc already downloaded\n",
      "File VNP03IMG.A2018165.0918.002.2021082184007.nc already downloaded\n",
      "File VNP03IMG.A2018165.0924.002.2021082184017.nc already downloaded\n",
      "File VNP03IMG.A2018165.1900.002.2021082184007.nc already downloaded\n",
      "File VNP03IMG.A2018165.2042.002.2021082184011.nc already downloaded\n",
      "File VNP03IMG.A2018166.0900.002.2021082193312.nc already downloaded\n",
      "File VNP03IMG.A2018166.2024.002.2021082193314.nc already downloaded\n",
      "File VNP03IMG.A2018167.0842.002.2021082201942.nc already downloaded\n",
      "File VNP03IMG.A2018167.2006.002.2021082201943.nc already downloaded\n",
      "File VNP03IMG.A2018168.0824.002.2021082210015.nc already downloaded\n",
      "File VNP03IMG.A2018168.1006.002.2021082210016.nc already downloaded\n",
      "File VNP03IMG.A2018168.1948.002.2021082210015.nc already downloaded\n",
      "File VNP03IMG.A2018169.0806.002.2021082214107.nc already downloaded\n",
      "File VNP03IMG.A2018169.0948.002.2021082214043.nc already downloaded\n",
      "File VNP03IMG.A2018169.1924.002.2021082214046.nc already downloaded\n",
      "File VNP03IMG.A2018169.2106.002.2021082214045.nc already downloaded\n",
      "File VNP03IMG.A2018170.0930.002.2021082222009.nc already downloaded\n",
      "File VNP03IMG.A2018170.1906.002.2021082222230.nc already downloaded\n",
      "File VNP03IMG.A2018170.2048.002.2021082222310.nc already downloaded\n",
      "File VNP03IMG.A2018171.0906.002.2021082231201.nc already downloaded\n",
      "File VNP03IMG.A2018171.2030.002.2021082235700.nc already downloaded\n",
      "File VNP03IMG.A2018172.0848.002.2021083033518.nc already downloaded\n",
      "File VNP03IMG.A2018172.2012.002.2021083034018.nc already downloaded\n",
      "File VNP03IMG.A2018173.0830.002.2021083045044.nc already downloaded\n",
      "File VNP03IMG.A2018173.1012.002.2021083045044.nc already downloaded\n",
      "File VNP03IMG.A2018173.1954.002.2021083045132.nc already downloaded\n",
      "File VNP03IMG.A2018174.0812.002.2021083051106.nc already downloaded\n",
      "File VNP03IMG.A2018174.0954.002.2021083051116.nc already downloaded\n",
      "File VNP03IMG.A2018174.1936.002.2021083051355.nc already downloaded\n",
      "File VNP03IMG.A2018174.2112.002.2021083051419.nc already downloaded\n",
      "File VNP03IMG.A2018175.0754.002.2021083052952.nc already downloaded\n",
      "File VNP03IMG.A2018175.0936.002.2021083052950.nc already downloaded\n",
      "File VNP03IMG.A2018175.1912.002.2021083053057.nc already downloaded\n",
      "File VNP03IMG.A2018175.2054.002.2021083053053.nc already downloaded\n",
      "File VNP03IMG.A2018176.0912.002.2021083055726.nc already downloaded\n",
      "File VNP03IMG.A2018176.1854.002.2021083060136.nc already downloaded\n",
      "File VNP03IMG.A2018176.2036.002.2021083060157.nc already downloaded\n",
      "File VNP03IMG.A2018177.0854.002.2021083062214.nc already downloaded\n",
      "File VNP03IMG.A2018177.2018.002.2021083062830.nc already downloaded\n",
      "File VNP03IMG.A2018178.0836.002.2021083065258.nc already downloaded\n",
      "File VNP03IMG.A2018178.2000.002.2021083070334.nc already downloaded\n",
      "File VNP03IMG.A2018179.0818.002.2021084153344.nc already downloaded\n",
      "File VNP03IMG.A2018179.1000.002.2021084153603.nc already downloaded\n",
      "File VNP03IMG.A2018179.1942.002.2021084152520.nc already downloaded\n",
      "File VNP03IMG.A2018180.0800.002.2021084153342.nc already downloaded\n",
      "File VNP03IMG.A2018180.0942.002.2021084152513.nc already downloaded\n",
      "File VNP03IMG.A2018180.1918.002.2021084153014.nc already downloaded\n",
      "File VNP03IMG.A2018180.2100.002.2021084153657.nc already downloaded\n",
      "File VNP03IMG.A2018181.0918.002.2021084155934.nc already downloaded\n",
      "File VNP03IMG.A2018181.0924.002.2021084155905.nc already downloaded\n",
      "File VNP03IMG.A2018181.1900.002.2021084155427.nc already downloaded\n",
      "File VNP03IMG.A2018181.2042.002.2021084155443.nc already downloaded\n",
      "File VNP03IMG.A2018182.0900.002.2021084161458.nc already downloaded\n",
      "File VNP03IMG.A2018182.2024.002.2021084161621.nc already downloaded\n",
      "File VNP03IMG.A2018183.0842.002.2021084164947.nc already downloaded\n",
      "File VNP03IMG.A2018183.2006.002.2021084164217.nc already downloaded\n"
     ]
    },
    {
     "data": {
      "application/vnd.jupyter.widget-view+json": {
       "model_id": "263a6d127c1b4006a0102c06bd874521",
       "version_major": 2,
       "version_minor": 0
      },
      "text/plain": [
       "COLLECTING RESULTS | :   0%|          | 0/188 [00:00<?, ?it/s]"
      ]
     },
     "metadata": {},
     "output_type": "display_data"
    },
    {
     "name": "stdout",
     "output_type": "stream",
     "text": [
      "\n",
      "\tGeolocating active fires ...\n",
      "\n",
      "Processed 1 observations.\n",
      "Skipping fire 14\n",
      "[Errno -101] NetCDF: HDF error: '/Users/max/Library/CloudStorage/OneDrive-Personal/mcook/aspen-fire/Aim2/data/spatial/raw/VIIRS/VNP03IMG.A2018156.0848.002.2021082152013.nc'\n",
      "24\n",
      "Processing for PLATEAU Fire ...\n",
      "\n",
      "Bounding extent for data search: \n",
      "[-108.55759415978193, -108.38820426174999, 37.53276375842187, 37.68301700269862]\n",
      "\n"
     ]
    },
    {
     "name": "stderr",
     "output_type": "stream",
     "text": [
      "Traceback (most recent call last):\n",
      "  File \"/opt/miniconda3/envs/aspen-fire/lib/python3.10/site-packages/xarray/backends/file_manager.py\", line 211, in _acquire_with_cache_info\n",
      "    file = self._cache[self._key]\n",
      "  File \"/opt/miniconda3/envs/aspen-fire/lib/python3.10/site-packages/xarray/backends/lru_cache.py\", line 56, in __getitem__\n",
      "    value = self._cache[key]\n",
      "KeyError: [<class 'netCDF4._netCDF4.Dataset'>, ('/Users/max/Library/CloudStorage/OneDrive-Personal/mcook/aspen-fire/Aim2/data/spatial/raw/VIIRS/VNP03IMG.A2018156.0848.002.2021082152013.nc',), 'r', (('clobber', True), ('diskless', False), ('format', 'NETCDF4'), ('persist', False)), '19580ed7-c863-4c66-bd6d-a86c9eb35967']\n",
      "\n",
      "During handling of the above exception, another exception occurred:\n",
      "\n",
      "Traceback (most recent call last):\n",
      "  File \"/var/folders/lm/1zg27k9x385csjv9gkj8jqm80000gp/T/ipykernel_3698/2620012170.py\", line 40, in <module>\n",
      "    afd_fire = downloader.create_fire_gdf()\n",
      "  File \"/var/folders/lm/1zg27k9x385csjv9gkj8jqm80000gp/T/ipykernel_3698/2808473929.py\", line 103, in create_fire_gdf\n",
      "    with xr.open_dataset(geo_da_fp, engine='netcdf4', group='geolocation_data') as geo:\n",
      "  File \"/opt/miniconda3/envs/aspen-fire/lib/python3.10/site-packages/xarray/backends/api.py\", line 671, in open_dataset\n",
      "    backend_ds = backend.open_dataset(\n",
      "  File \"/opt/miniconda3/envs/aspen-fire/lib/python3.10/site-packages/xarray/backends/netCDF4_.py\", line 666, in open_dataset\n",
      "    store = NetCDF4DataStore.open(\n",
      "  File \"/opt/miniconda3/envs/aspen-fire/lib/python3.10/site-packages/xarray/backends/netCDF4_.py\", line 453, in open\n",
      "    return cls(manager, group=group, mode=mode, lock=lock, autoclose=autoclose)\n",
      "  File \"/opt/miniconda3/envs/aspen-fire/lib/python3.10/site-packages/xarray/backends/netCDF4_.py\", line 394, in __init__\n",
      "    self.format = self.ds.data_model\n",
      "  File \"/opt/miniconda3/envs/aspen-fire/lib/python3.10/site-packages/xarray/backends/netCDF4_.py\", line 462, in ds\n",
      "    return self._acquire()\n",
      "  File \"/opt/miniconda3/envs/aspen-fire/lib/python3.10/site-packages/xarray/backends/netCDF4_.py\", line 456, in _acquire\n",
      "    with self._manager.acquire_context(needs_lock) as root:\n",
      "  File \"/opt/miniconda3/envs/aspen-fire/lib/python3.10/contextlib.py\", line 135, in __enter__\n",
      "    return next(self.gen)\n",
      "  File \"/opt/miniconda3/envs/aspen-fire/lib/python3.10/site-packages/xarray/backends/file_manager.py\", line 199, in acquire_context\n",
      "    file, cached = self._acquire_with_cache_info(needs_lock)\n",
      "  File \"/opt/miniconda3/envs/aspen-fire/lib/python3.10/site-packages/xarray/backends/file_manager.py\", line 217, in _acquire_with_cache_info\n",
      "    file = self._opener(*self._args, **kwargs)\n",
      "  File \"src/netCDF4/_netCDF4.pyx\", line 2469, in netCDF4._netCDF4.Dataset.__init__\n",
      "  File \"src/netCDF4/_netCDF4.pyx\", line 2028, in netCDF4._netCDF4._ensure_nc_success\n",
      "OSError: [Errno -101] NetCDF: HDF error: '/Users/max/Library/CloudStorage/OneDrive-Personal/mcook/aspen-fire/Aim2/data/spatial/raw/VIIRS/VNP03IMG.A2018156.0848.002.2021082152013.nc'\n"
     ]
    },
    {
     "name": "stdout",
     "output_type": "stream",
     "text": [
      "Granules found: 158\n",
      " Getting 158 granules, approx download size: 12.72 GB\n"
     ]
    },
    {
     "data": {
      "application/vnd.jupyter.widget-view+json": {
       "model_id": "3dbe9fdd2aa2464cacca3ebbc193d3fe",
       "version_major": 2,
       "version_minor": 0
      },
      "text/plain": [
       "QUEUEING TASKS | :   0%|          | 0/158 [00:00<?, ?it/s]"
      ]
     },
     "metadata": {},
     "output_type": "display_data"
    },
    {
     "name": "stdout",
     "output_type": "stream",
     "text": [
      "File VNP03IMG.A2018203.0906.002.2021090015245.nc already downloadedFile VNP03IMG.A2018205.0830.002.2021090030245.nc already downloaded\n",
      "File VNP03IMG.A2018204.0848.002.2021090024900.nc already downloaded\n",
      "File VNP03IMG.A2018203.2030.002.2021090023717.nc already downloaded\n",
      "File VNP03IMG.A2018204.2012.002.2021090030016.nc already downloaded\n",
      "File VNP03IMG.A2018205.1012.002.2021090032336.nc already downloaded\n",
      "File VNP03IMG.A2018205.1954.002.2021090032252.nc already downloaded\n",
      "\n",
      "File VNP03IMG.A2018206.0812.002.2021090033010.nc already downloaded\n",
      "File VNP03IMG.A2018206.0954.002.2021090032907.nc already downloaded\n",
      "File VNP03IMG.A2018207.0754.002.2021090035557.nc already downloaded\n",
      "File VNP03IMG.A2018206.1936.002.2021090032931.nc already downloaded\n",
      "File VNP03IMG.A2018206.2112.002.2021090042517.nc already downloaded\n",
      "File VNP03IMG.A2018207.0936.002.2021090033407.nc already downloaded\n",
      "File VNP03IMG.A2018208.2036.002.2022024130833.nc already downloaded\n",
      "File VNP03IMG.A2018207.2054.002.2021090035116.nc already downloaded\n",
      "File VNP03IMG.A2018209.0854.002.2021090043440.nc already downloaded\n",
      "File VNP03IMG.A2018208.0912.002.2022024130731.nc already downloaded\n",
      "File VNP03IMG.A2018207.1912.002.2021090035537.nc already downloaded\n",
      "File VNP03IMG.A2018208.1854.002.2022024130825.nc already downloaded\n",
      "File VNP03IMG.A2018209.2018.002.2021090043024.nc already downloaded\n",
      "File VNP03IMG.A2018210.0836.002.2021090050749.nc already downloaded\n",
      "File VNP03IMG.A2018211.1000.002.2021090055456.nc already downloaded\n",
      "File VNP03IMG.A2018211.1942.002.2021090053322.nc already downloaded\n",
      "File VNP03IMG.A2018211.0818.002.2021090055828.nc already downloaded\n",
      "File VNP03IMG.A2018212.0800.002.2021090055240.nc already downloaded\n",
      "File VNP03IMG.A2018212.1918.002.2021090061542.nc already downloaded\n",
      "File VNP03IMG.A2018213.1900.002.2021090064506.nc already downloaded\n",
      "File VNP03IMG.A2018212.0942.002.2021090055315.nc already downloaded\n",
      "File VNP03IMG.A2018210.2000.002.2021090055139.nc already downloaded\n",
      "File VNP03IMG.A2018213.2042.002.2021090064616.nc already downloaded\n",
      "File VNP03IMG.A2018212.2100.002.2021090061336.nc already downloaded\n",
      "File VNP03IMG.A2018213.0924.002.2021090062514.nc already downloaded\n",
      "File VNP03IMG.A2018210.1018.002.2021090051253.nc already downloaded\n",
      "File VNP03IMG.A2018214.0900.002.2021090064403.nc already downloaded\n",
      "File VNP03IMG.A2018217.0948.002.2021090203807.nc already downloaded\n",
      "File VNP03IMG.A2018216.1006.002.2021090073549.nc already downloaded\n",
      "File VNP03IMG.A2018216.1948.002.2021090203623.nc already downloaded\n",
      "File VNP03IMG.A2018216.0824.002.2021090073535.nc already downloaded\n",
      "File VNP03IMG.A2018215.2006.002.2021090071842.nc already downloaded\n",
      "File VNP03IMG.A2018215.0842.002.2021090065242.nc already downloaded\n",
      "File VNP03IMG.A2018214.2024.002.2021090065558.nc already downloaded\n",
      "File VNP03IMG.A2018217.1930.002.2021090205243.nc already downloaded\n",
      "File VNP03IMG.A2018217.2106.002.2021090205458.nc already downloaded\n",
      "File VNP03IMG.A2018217.1924.002.2021090205036.nc already downloaded\n",
      "File VNP03IMG.A2018217.0806.002.2021090203801.nc already downloaded\n",
      "File VNP03IMG.A2018218.2048.002.2021090210140.nc already downloaded\n",
      "File VNP03IMG.A2018219.0906.002.2021090210918.nc already downloaded\n",
      "File VNP03IMG.A2018218.1906.002.2021090205508.nc already downloaded\n",
      "File VNP03IMG.A2018221.1012.002.2021090215303.nc already downloaded\n",
      "File VNP03IMG.A2018220.2012.002.2021090213242.nc already downloaded\n",
      "File VNP03IMG.A2018221.1954.002.2021090214222.nc already downloaded\n",
      "File VNP03IMG.A2018220.0848.002.2021090213816.nc already downloaded\n",
      "File VNP03IMG.A2018218.0930.002.2021090205749.nc already downloaded\n",
      "File VNP03IMG.A2018219.2030.002.2021090211112.nc already downloaded\n",
      "File VNP03IMG.A2018222.0812.002.2021090220148.nc already downloaded\n",
      "File VNP03IMG.A2018222.0954.002.2021090220139.nc already downloaded\n",
      "File VNP03IMG.A2018221.0830.002.2021090214847.nc already downloaded\n",
      "File VNP03IMG.A2018223.0754.002.2022024141026.nc already downloaded\n",
      "File VNP03IMG.A2018223.1912.002.2022024141328.nc already downloaded\n",
      "File VNP03IMG.A2018223.2054.002.2022024141205.nc already downloaded\n",
      "File VNP03IMG.A2018224.0912.002.2021090221920.nc already downloaded\n",
      "File VNP03IMG.A2018223.0936.002.2022024141038.nc already downloaded\n",
      "File VNP03IMG.A2018225.0854.002.2021095143633.nc already downloaded\n",
      "File VNP03IMG.A2018226.1018.002.2021095143056.nc already downloaded\n",
      "File VNP03IMG.A2018224.0918.002.2021090222055.nc already downloaded\n",
      "File VNP03IMG.A2018224.1854.002.2021090222643.nc already downloaded\n",
      "File VNP03IMG.A2018224.2036.002.2021090222823.nc already downloaded\n"
     ]
    },
    {
     "data": {
      "application/vnd.jupyter.widget-view+json": {
       "model_id": "c293e04ab25749a3bc302514620942d3",
       "version_major": 2,
       "version_minor": 0
      },
      "text/plain": [
       "PROCESSING TASKS | :   0%|          | 0/158 [00:00<?, ?it/s]"
      ]
     },
     "metadata": {},
     "output_type": "display_data"
    },
    {
     "name": "stdout",
     "output_type": "stream",
     "text": [
      "File VNP03IMG.A2018226.2000.002.2021095144659.nc already downloadedFile VNP03IMG.A2018226.0836.002.2021095143917.nc already downloaded\n",
      "File VNP03IMG.A2018225.2018.002.2021095143738.nc already downloaded\n",
      "File VNP03IMG.A2018227.0818.002.2021095173834.nc already downloaded\n",
      "File VNP03IMG.A2018222.1936.002.2021090220027.nc already downloaded\n",
      "File VNP03IMG.A2018227.1000.002.2021095174822.nc already downloaded\n",
      "File VNP03IMG.A2018227.1942.002.2021095175046.nc already downloaded\n",
      "\n",
      "File VNP03IMG.A2018228.0800.002.2021095175303.nc already downloaded\n",
      "File VNP03IMG.A2018222.2112.002.2021090220429.nc already downloaded\n",
      "File VNP03IMG.A2018228.0942.002.2021095175327.nc already downloaded\n",
      "File VNP03IMG.A2018228.1918.002.2021095175527.nc already downloaded\n",
      "File VNP03IMG.A2018228.2100.002.2021095175549.nc already downloaded\n"
     ]
    },
    {
     "data": {
      "application/vnd.jupyter.widget-view+json": {
       "model_id": "b2aa33039cc94719b859ca4e8ed2284e",
       "version_major": 2,
       "version_minor": 0
      },
      "text/plain": [
       "COLLECTING RESULTS | :   0%|          | 0/158 [00:00<?, ?it/s]"
      ]
     },
     "metadata": {},
     "output_type": "display_data"
    },
    {
     "name": "stdout",
     "output_type": "stream",
     "text": [
      "\n",
      "\tGeolocating active fires ...\n",
      "\n",
      "Processed 1 observations.\n",
      "Skipping fire 24\n",
      "[Errno -101] NetCDF: HDF error: '/Users/max/Library/CloudStorage/OneDrive-Personal/mcook/aspen-fire/Aim2/data/spatial/raw/VIIRS/VNP03IMG.A2018156.0848.002.2021082152013.nc'\n",
      "46\n",
      "Processing for QUARTZ RIDGE Fire ...\n",
      "\n",
      "Bounding extent for data search: \n",
      "[-106.81670606370315, -106.69345936333454, 37.34216342133075, 37.39515273227939]\n",
      "\n"
     ]
    },
    {
     "name": "stderr",
     "output_type": "stream",
     "text": [
      "Traceback (most recent call last):\n",
      "  File \"/opt/miniconda3/envs/aspen-fire/lib/python3.10/site-packages/xarray/backends/file_manager.py\", line 211, in _acquire_with_cache_info\n",
      "    file = self._cache[self._key]\n",
      "  File \"/opt/miniconda3/envs/aspen-fire/lib/python3.10/site-packages/xarray/backends/lru_cache.py\", line 56, in __getitem__\n",
      "    value = self._cache[key]\n",
      "KeyError: [<class 'netCDF4._netCDF4.Dataset'>, ('/Users/max/Library/CloudStorage/OneDrive-Personal/mcook/aspen-fire/Aim2/data/spatial/raw/VIIRS/VNP03IMG.A2018156.0848.002.2021082152013.nc',), 'r', (('clobber', True), ('diskless', False), ('format', 'NETCDF4'), ('persist', False)), 'e8a972be-a5d9-44c4-8a14-4471812ccc65']\n",
      "\n",
      "During handling of the above exception, another exception occurred:\n",
      "\n",
      "Traceback (most recent call last):\n",
      "  File \"/var/folders/lm/1zg27k9x385csjv9gkj8jqm80000gp/T/ipykernel_3698/2620012170.py\", line 40, in <module>\n",
      "    afd_fire = downloader.create_fire_gdf()\n",
      "  File \"/var/folders/lm/1zg27k9x385csjv9gkj8jqm80000gp/T/ipykernel_3698/2808473929.py\", line 103, in create_fire_gdf\n",
      "    with xr.open_dataset(geo_da_fp, engine='netcdf4', group='geolocation_data') as geo:\n",
      "  File \"/opt/miniconda3/envs/aspen-fire/lib/python3.10/site-packages/xarray/backends/api.py\", line 671, in open_dataset\n",
      "    backend_ds = backend.open_dataset(\n",
      "  File \"/opt/miniconda3/envs/aspen-fire/lib/python3.10/site-packages/xarray/backends/netCDF4_.py\", line 666, in open_dataset\n",
      "    store = NetCDF4DataStore.open(\n",
      "  File \"/opt/miniconda3/envs/aspen-fire/lib/python3.10/site-packages/xarray/backends/netCDF4_.py\", line 453, in open\n",
      "    return cls(manager, group=group, mode=mode, lock=lock, autoclose=autoclose)\n",
      "  File \"/opt/miniconda3/envs/aspen-fire/lib/python3.10/site-packages/xarray/backends/netCDF4_.py\", line 394, in __init__\n",
      "    self.format = self.ds.data_model\n",
      "  File \"/opt/miniconda3/envs/aspen-fire/lib/python3.10/site-packages/xarray/backends/netCDF4_.py\", line 462, in ds\n",
      "    return self._acquire()\n",
      "  File \"/opt/miniconda3/envs/aspen-fire/lib/python3.10/site-packages/xarray/backends/netCDF4_.py\", line 456, in _acquire\n",
      "    with self._manager.acquire_context(needs_lock) as root:\n",
      "  File \"/opt/miniconda3/envs/aspen-fire/lib/python3.10/contextlib.py\", line 135, in __enter__\n",
      "    return next(self.gen)\n",
      "  File \"/opt/miniconda3/envs/aspen-fire/lib/python3.10/site-packages/xarray/backends/file_manager.py\", line 199, in acquire_context\n",
      "    file, cached = self._acquire_with_cache_info(needs_lock)\n",
      "  File \"/opt/miniconda3/envs/aspen-fire/lib/python3.10/site-packages/xarray/backends/file_manager.py\", line 217, in _acquire_with_cache_info\n",
      "    file = self._opener(*self._args, **kwargs)\n",
      "  File \"src/netCDF4/_netCDF4.pyx\", line 2469, in netCDF4._netCDF4.Dataset.__init__\n",
      "  File \"src/netCDF4/_netCDF4.pyx\", line 2028, in netCDF4._netCDF4._ensure_nc_success\n",
      "OSError: [Errno -101] NetCDF: HDF error: '/Users/max/Library/CloudStorage/OneDrive-Personal/mcook/aspen-fire/Aim2/data/spatial/raw/VIIRS/VNP03IMG.A2018156.0848.002.2021082152013.nc'\n"
     ]
    },
    {
     "name": "stdout",
     "output_type": "stream",
     "text": [
      "Granules found: 200\n",
      " Getting 200 granules, approx download size: 16.25 GB\n"
     ]
    },
    {
     "data": {
      "application/vnd.jupyter.widget-view+json": {
       "model_id": "85ab3a4794df484cacf52b1d698502b6",
       "version_major": 2,
       "version_minor": 0
      },
      "text/plain": [
       "QUEUEING TASKS | :   0%|          | 0/200 [00:00<?, ?it/s]"
      ]
     },
     "metadata": {},
     "output_type": "display_data"
    },
    {
     "name": "stdout",
     "output_type": "stream",
     "text": [
      "File VNP03IMG.A2023217.0912.002.2023223192200.nc already downloaded\n",
      "File VNP03IMG.A2023217.2030.002.2023223194833.nc already downloaded\n",
      "File VNP03IMG.A2023218.0854.002.2023223201702.nc already downloaded\n",
      "File VNP03IMG.A2023218.2012.002.2023223205040.nc already downloaded\n",
      "File VNP03IMG.A2023219.1954.002.2023223215705.nc already downloaded\n",
      "File VNP03IMG.A2023220.0812.002.2023226155402.nc already downloaded\n",
      "File VNP03IMG.A2023220.0954.002.2023226155350.nc already downloaded\n",
      "File VNP03IMG.A2023220.1936.002.2023226155736.nc already downloaded\n",
      "File VNP03IMG.A2023221.0754.002.2023221162005.nc already downloaded\n",
      "File VNP03IMG.A2023221.0936.002.2023221162219.nc already downloaded\n",
      "File VNP03IMG.A2023219.0830.002.2023223211923.nc already downloaded\n",
      "File VNP03IMG.A2023221.1918.002.2023222021801.nc already downloaded\n",
      "File VNP03IMG.A2023221.2054.002.2023222035458.nc already downloaded\n",
      "File VNP03IMG.A2023222.0918.002.2023222155630.nc already downloaded\n",
      "File VNP03IMG.A2023222.1900.002.2023223015432.nc already downloaded\n",
      "File VNP03IMG.A2023222.2036.002.2023223033952.nc already downloaded\n",
      "File VNP03IMG.A2023223.0900.002.2023224014237.nc already downloaded\n",
      "File VNP03IMG.A2023223.2018.002.2023224051745.nc already downloaded\n",
      "File VNP03IMG.A2023224.2000.002.2023227153910.nc already downloaded\n",
      "File VNP03IMG.A2023224.0836.002.2023227151430.nc already downloaded\n",
      "File VNP03IMG.A2023225.1942.002.2023226024511.nc already downloaded\n",
      "File VNP03IMG.A2023225.0818.002.2023225164447.nc already downloaded\n",
      "File VNP03IMG.A2023226.0942.002.2023226162645.nc already downloaded\n",
      "File VNP03IMG.A2023226.1924.002.2023227020642.nc already downloaded\n",
      "File VNP03IMG.A2023226.2100.002.2023227042317.nc already downloaded\n",
      "File VNP03IMG.A2023225.1000.002.2023225182039.nc already downloaded\n",
      "File VNP03IMG.A2023227.1906.002.2023228015005.nc already downloaded\n",
      "File VNP03IMG.A2023227.2042.002.2023228040347.nc already downloaded\n",
      "File VNP03IMG.A2023228.0906.002.2023228161051.nc already downloaded\n",
      "File VNP03IMG.A2023228.2024.002.2023229031421.nc already downloaded\n",
      "File VNP03IMG.A2023229.0842.002.2023229170706.nc already downloaded\n",
      "File VNP03IMG.A2023229.2006.002.2023230043351.nc already downloaded\n",
      "File VNP03IMG.A2023230.0824.002.2023230164222.nc already downloaded\n",
      "File VNP03IMG.A2023230.1006.002.2023230182126.nc already downloaded\n",
      "File VNP03IMG.A2023230.1948.002.2023231024309.nc already downloaded\n",
      "File VNP03IMG.A2023231.0806.002.2023231162455.nc already downloaded\n",
      "File VNP03IMG.A2023231.0948.002.2023231162458.nc already downloaded\n",
      "File VNP03IMG.A2023231.1930.002.2023232022723.nc already downloaded\n",
      "File VNP03IMG.A2023227.0924.002.2023227161401.nc already downloaded\n",
      "File VNP03IMG.A2023232.0748.002.2023232143142.nc already downloaded\n",
      "File VNP03IMG.A2023232.0930.002.2023232160630.nc already downloaded\n",
      "File VNP03IMG.A2023232.1912.002.2023233021109.nc already downloaded\n",
      "File VNP03IMG.A2023226.0800.002.2023226162250.nc already downloaded\n",
      "File VNP03IMG.A2023233.0912.002.2023233155438.nc already downloaded\n",
      "File VNP03IMG.A2023231.2106.002.2023232040133.nc already downloaded\n",
      "File VNP03IMG.A2023232.2048.002.2023233034556.nc already downloaded\n"
     ]
    },
    {
     "data": {
      "application/vnd.jupyter.widget-view+json": {
       "model_id": "ea3e0b91c7274312bba54bc4dcc809c9",
       "version_major": 2,
       "version_minor": 0
      },
      "text/plain": [
       "PROCESSING TASKS | :   0%|          | 0/200 [00:00<?, ?it/s]"
      ]
     },
     "metadata": {},
     "output_type": "display_data"
    },
    {
     "data": {
      "application/vnd.jupyter.widget-view+json": {
       "model_id": "524abac8d24e49afa73f3cc6349c1307",
       "version_major": 2,
       "version_minor": 0
      },
      "text/plain": [
       "COLLECTING RESULTS | :   0%|          | 0/200 [00:00<?, ?it/s]"
      ]
     },
     "metadata": {},
     "output_type": "display_data"
    },
    {
     "name": "stdout",
     "output_type": "stream",
     "text": [
      "\n",
      "\tGeolocating active fires ...\n",
      "\n",
      "Processed 1 observations.\n",
      "Skipping fire 46\n",
      "[Errno -101] NetCDF: HDF error: '/Users/max/Library/CloudStorage/OneDrive-Personal/mcook/aspen-fire/Aim2/data/spatial/raw/VIIRS/VNP03IMG.A2018156.0848.002.2021082152013.nc'\n"
     ]
    },
    {
     "name": "stderr",
     "output_type": "stream",
     "text": [
      "Traceback (most recent call last):\n",
      "  File \"/opt/miniconda3/envs/aspen-fire/lib/python3.10/site-packages/xarray/backends/file_manager.py\", line 211, in _acquire_with_cache_info\n",
      "    file = self._cache[self._key]\n",
      "  File \"/opt/miniconda3/envs/aspen-fire/lib/python3.10/site-packages/xarray/backends/lru_cache.py\", line 56, in __getitem__\n",
      "    value = self._cache[key]\n",
      "KeyError: [<class 'netCDF4._netCDF4.Dataset'>, ('/Users/max/Library/CloudStorage/OneDrive-Personal/mcook/aspen-fire/Aim2/data/spatial/raw/VIIRS/VNP03IMG.A2018156.0848.002.2021082152013.nc',), 'r', (('clobber', True), ('diskless', False), ('format', 'NETCDF4'), ('persist', False)), 'b02571d4-f400-4c6d-a234-02f2ba7f0d20']\n",
      "\n",
      "During handling of the above exception, another exception occurred:\n",
      "\n",
      "Traceback (most recent call last):\n",
      "  File \"/var/folders/lm/1zg27k9x385csjv9gkj8jqm80000gp/T/ipykernel_3698/2620012170.py\", line 40, in <module>\n",
      "    afd_fire = downloader.create_fire_gdf()\n",
      "  File \"/var/folders/lm/1zg27k9x385csjv9gkj8jqm80000gp/T/ipykernel_3698/2808473929.py\", line 103, in create_fire_gdf\n",
      "    with xr.open_dataset(geo_da_fp, engine='netcdf4', group='geolocation_data') as geo:\n",
      "  File \"/opt/miniconda3/envs/aspen-fire/lib/python3.10/site-packages/xarray/backends/api.py\", line 671, in open_dataset\n",
      "    backend_ds = backend.open_dataset(\n",
      "  File \"/opt/miniconda3/envs/aspen-fire/lib/python3.10/site-packages/xarray/backends/netCDF4_.py\", line 666, in open_dataset\n",
      "    store = NetCDF4DataStore.open(\n",
      "  File \"/opt/miniconda3/envs/aspen-fire/lib/python3.10/site-packages/xarray/backends/netCDF4_.py\", line 453, in open\n",
      "    return cls(manager, group=group, mode=mode, lock=lock, autoclose=autoclose)\n",
      "  File \"/opt/miniconda3/envs/aspen-fire/lib/python3.10/site-packages/xarray/backends/netCDF4_.py\", line 394, in __init__\n",
      "    self.format = self.ds.data_model\n",
      "  File \"/opt/miniconda3/envs/aspen-fire/lib/python3.10/site-packages/xarray/backends/netCDF4_.py\", line 462, in ds\n",
      "    return self._acquire()\n",
      "  File \"/opt/miniconda3/envs/aspen-fire/lib/python3.10/site-packages/xarray/backends/netCDF4_.py\", line 456, in _acquire\n",
      "    with self._manager.acquire_context(needs_lock) as root:\n",
      "  File \"/opt/miniconda3/envs/aspen-fire/lib/python3.10/contextlib.py\", line 135, in __enter__\n",
      "    return next(self.gen)\n",
      "  File \"/opt/miniconda3/envs/aspen-fire/lib/python3.10/site-packages/xarray/backends/file_manager.py\", line 199, in acquire_context\n",
      "    file, cached = self._acquire_with_cache_info(needs_lock)\n",
      "  File \"/opt/miniconda3/envs/aspen-fire/lib/python3.10/site-packages/xarray/backends/file_manager.py\", line 217, in _acquire_with_cache_info\n",
      "    file = self._opener(*self._args, **kwargs)\n",
      "  File \"src/netCDF4/_netCDF4.pyx\", line 2469, in netCDF4._netCDF4.Dataset.__init__\n",
      "  File \"src/netCDF4/_netCDF4.pyx\", line 2028, in netCDF4._netCDF4._ensure_nc_success\n",
      "OSError: [Errno -101] NetCDF: HDF error: '/Users/max/Library/CloudStorage/OneDrive-Personal/mcook/aspen-fire/Aim2/data/spatial/raw/VIIRS/VNP03IMG.A2018156.0848.002.2021082152013.nc'\n"
     ]
    },
    {
     "ename": "ValueError",
     "evalue": "No objects to concatenate",
     "output_type": "error",
     "traceback": [
      "\u001b[0;31m---------------------------------------------------------------------------\u001b[0m",
      "\u001b[0;31mValueError\u001b[0m                                Traceback (most recent call last)",
      "Cell \u001b[0;32mIn[10], line 55\u001b[0m\n\u001b[1;32m     52\u001b[0m     \u001b[38;5;28mprint\u001b[39m(\u001b[38;5;124m\"\u001b[39m\u001b[38;5;130;01m\\n\u001b[39;00m\u001b[38;5;124m~~~~~~~~~~\u001b[39m\u001b[38;5;130;01m\\n\u001b[39;00m\u001b[38;5;124m\"\u001b[39m)\n\u001b[1;32m     54\u001b[0m \u001b[38;5;66;03m# Concatenate the results and save out the geodataframe of latlon fire pixels (non-geolocated)\u001b[39;00m\n\u001b[0;32m---> 55\u001b[0m afds \u001b[38;5;241m=\u001b[39m \u001b[43mpd\u001b[49m\u001b[38;5;241;43m.\u001b[39;49m\u001b[43mconcat\u001b[49m\u001b[43m(\u001b[49m\u001b[43mafd_dfs\u001b[49m\u001b[43m,\u001b[49m\u001b[43m \u001b[49m\u001b[43mignore_index\u001b[49m\u001b[38;5;241;43m=\u001b[39;49m\u001b[38;5;28;43;01mTrue\u001b[39;49;00m\u001b[43m)\u001b[49m\n\u001b[1;32m     56\u001b[0m afds\u001b[38;5;241m.\u001b[39mto_file(os\u001b[38;5;241m.\u001b[39mpath\u001b[38;5;241m.\u001b[39mjoin(datamod,\u001b[38;5;124m'\u001b[39m\u001b[38;5;124mvnp14img_SRM_aspen-fires_2018_to_2023_geo.gpkg\u001b[39m\u001b[38;5;124m'\u001b[39m))\n\u001b[1;32m     58\u001b[0m t2 \u001b[38;5;241m=\u001b[39m (time\u001b[38;5;241m.\u001b[39mtime() \u001b[38;5;241m-\u001b[39m t0) \u001b[38;5;241m/\u001b[39m \u001b[38;5;241m60\u001b[39m\n",
      "File \u001b[0;32m/opt/miniconda3/envs/aspen-fire/lib/python3.10/site-packages/pandas/core/reshape/concat.py:382\u001b[0m, in \u001b[0;36mconcat\u001b[0;34m(objs, axis, join, ignore_index, keys, levels, names, verify_integrity, sort, copy)\u001b[0m\n\u001b[1;32m    379\u001b[0m \u001b[38;5;28;01melif\u001b[39;00m copy \u001b[38;5;129;01mand\u001b[39;00m using_copy_on_write():\n\u001b[1;32m    380\u001b[0m     copy \u001b[38;5;241m=\u001b[39m \u001b[38;5;28;01mFalse\u001b[39;00m\n\u001b[0;32m--> 382\u001b[0m op \u001b[38;5;241m=\u001b[39m \u001b[43m_Concatenator\u001b[49m\u001b[43m(\u001b[49m\n\u001b[1;32m    383\u001b[0m \u001b[43m    \u001b[49m\u001b[43mobjs\u001b[49m\u001b[43m,\u001b[49m\n\u001b[1;32m    384\u001b[0m \u001b[43m    \u001b[49m\u001b[43maxis\u001b[49m\u001b[38;5;241;43m=\u001b[39;49m\u001b[43maxis\u001b[49m\u001b[43m,\u001b[49m\n\u001b[1;32m    385\u001b[0m \u001b[43m    \u001b[49m\u001b[43mignore_index\u001b[49m\u001b[38;5;241;43m=\u001b[39;49m\u001b[43mignore_index\u001b[49m\u001b[43m,\u001b[49m\n\u001b[1;32m    386\u001b[0m \u001b[43m    \u001b[49m\u001b[43mjoin\u001b[49m\u001b[38;5;241;43m=\u001b[39;49m\u001b[43mjoin\u001b[49m\u001b[43m,\u001b[49m\n\u001b[1;32m    387\u001b[0m \u001b[43m    \u001b[49m\u001b[43mkeys\u001b[49m\u001b[38;5;241;43m=\u001b[39;49m\u001b[43mkeys\u001b[49m\u001b[43m,\u001b[49m\n\u001b[1;32m    388\u001b[0m \u001b[43m    \u001b[49m\u001b[43mlevels\u001b[49m\u001b[38;5;241;43m=\u001b[39;49m\u001b[43mlevels\u001b[49m\u001b[43m,\u001b[49m\n\u001b[1;32m    389\u001b[0m \u001b[43m    \u001b[49m\u001b[43mnames\u001b[49m\u001b[38;5;241;43m=\u001b[39;49m\u001b[43mnames\u001b[49m\u001b[43m,\u001b[49m\n\u001b[1;32m    390\u001b[0m \u001b[43m    \u001b[49m\u001b[43mverify_integrity\u001b[49m\u001b[38;5;241;43m=\u001b[39;49m\u001b[43mverify_integrity\u001b[49m\u001b[43m,\u001b[49m\n\u001b[1;32m    391\u001b[0m \u001b[43m    \u001b[49m\u001b[43mcopy\u001b[49m\u001b[38;5;241;43m=\u001b[39;49m\u001b[43mcopy\u001b[49m\u001b[43m,\u001b[49m\n\u001b[1;32m    392\u001b[0m \u001b[43m    \u001b[49m\u001b[43msort\u001b[49m\u001b[38;5;241;43m=\u001b[39;49m\u001b[43msort\u001b[49m\u001b[43m,\u001b[49m\n\u001b[1;32m    393\u001b[0m \u001b[43m\u001b[49m\u001b[43m)\u001b[49m\n\u001b[1;32m    395\u001b[0m \u001b[38;5;28;01mreturn\u001b[39;00m op\u001b[38;5;241m.\u001b[39mget_result()\n",
      "File \u001b[0;32m/opt/miniconda3/envs/aspen-fire/lib/python3.10/site-packages/pandas/core/reshape/concat.py:445\u001b[0m, in \u001b[0;36m_Concatenator.__init__\u001b[0;34m(self, objs, axis, join, keys, levels, names, ignore_index, verify_integrity, copy, sort)\u001b[0m\n\u001b[1;32m    442\u001b[0m \u001b[38;5;28mself\u001b[39m\u001b[38;5;241m.\u001b[39mverify_integrity \u001b[38;5;241m=\u001b[39m verify_integrity\n\u001b[1;32m    443\u001b[0m \u001b[38;5;28mself\u001b[39m\u001b[38;5;241m.\u001b[39mcopy \u001b[38;5;241m=\u001b[39m copy\n\u001b[0;32m--> 445\u001b[0m objs, keys \u001b[38;5;241m=\u001b[39m \u001b[38;5;28;43mself\u001b[39;49m\u001b[38;5;241;43m.\u001b[39;49m\u001b[43m_clean_keys_and_objs\u001b[49m\u001b[43m(\u001b[49m\u001b[43mobjs\u001b[49m\u001b[43m,\u001b[49m\u001b[43m \u001b[49m\u001b[43mkeys\u001b[49m\u001b[43m)\u001b[49m\n\u001b[1;32m    447\u001b[0m \u001b[38;5;66;03m# figure out what our result ndim is going to be\u001b[39;00m\n\u001b[1;32m    448\u001b[0m ndims \u001b[38;5;241m=\u001b[39m \u001b[38;5;28mself\u001b[39m\u001b[38;5;241m.\u001b[39m_get_ndims(objs)\n",
      "File \u001b[0;32m/opt/miniconda3/envs/aspen-fire/lib/python3.10/site-packages/pandas/core/reshape/concat.py:507\u001b[0m, in \u001b[0;36m_Concatenator._clean_keys_and_objs\u001b[0;34m(self, objs, keys)\u001b[0m\n\u001b[1;32m    504\u001b[0m     objs_list \u001b[38;5;241m=\u001b[39m \u001b[38;5;28mlist\u001b[39m(objs)\n\u001b[1;32m    506\u001b[0m \u001b[38;5;28;01mif\u001b[39;00m \u001b[38;5;28mlen\u001b[39m(objs_list) \u001b[38;5;241m==\u001b[39m \u001b[38;5;241m0\u001b[39m:\n\u001b[0;32m--> 507\u001b[0m     \u001b[38;5;28;01mraise\u001b[39;00m \u001b[38;5;167;01mValueError\u001b[39;00m(\u001b[38;5;124m\"\u001b[39m\u001b[38;5;124mNo objects to concatenate\u001b[39m\u001b[38;5;124m\"\u001b[39m)\n\u001b[1;32m    509\u001b[0m \u001b[38;5;28;01mif\u001b[39;00m keys \u001b[38;5;129;01mis\u001b[39;00m \u001b[38;5;28;01mNone\u001b[39;00m:\n\u001b[1;32m    510\u001b[0m     objs_list \u001b[38;5;241m=\u001b[39m \u001b[38;5;28mlist\u001b[39m(com\u001b[38;5;241m.\u001b[39mnot_none(\u001b[38;5;241m*\u001b[39mobjs_list))\n",
      "\u001b[0;31mValueError\u001b[0m: No objects to concatenate"
     ]
    }
   ],
   "source": [
    "t0 = time.time()\n",
    "\n",
    "# Get a list of fire IDs\n",
    "fire_ids = list(fires['Fire_ID'].unique())\n",
    "\n",
    "\n",
    "afd_dfs = [] # to store the output geodataframes\n",
    "granules_p = [] # to store processed granules\n",
    "for fire_id in fire_ids[0:3]:\n",
    "    t00 = time.time()\n",
    "\n",
    "    print(fire_id)\n",
    "\n",
    "    fire = fires[fires['Fire_ID'] == fire_id]\n",
    "    start_dte = fire['DISCOVERY_DATE'].iloc[0]\n",
    "    end_dte = fire['WF_CESSATION_DATE'].iloc[0]\n",
    "\n",
    "    print(f\"Processing for {fire['Fire_Name'].iloc[0]} Fire ...\\n\")\n",
    "    \n",
    "    # Initiate the download and extract class\n",
    "    downloader = Download_VIIRS_AFD(\n",
    "        start_date=start_dte,\n",
    "        last_date=end_dte,\n",
    "        geom=fire,\n",
    "        region_extent=srm_extent,\n",
    "        buffer=1000,\n",
    "        short_names=['VNP14IMG','VNP03IMG'],\n",
    "        out_directory=dataraw,\n",
    "        processed_granules=granules_p # already processed\n",
    "    )\n",
    "    \n",
    "    # Retrieve the search results\n",
    "    try:\n",
    "        # Download unique query\n",
    "        query_df, granules = downloader.ea_search_request()\n",
    "        granules_p.append(granules)\n",
    "        \n",
    "        # Create the active fire detection geodataframe\n",
    "        print(f\"\\n\\tGeolocating active fires ...\\n\")\n",
    "        afd_fire = downloader.create_fire_gdf()\n",
    "        afd_dfs.append(afd_fire_year)\n",
    "        \n",
    "        del afd_fire\n",
    "        \n",
    "    except Exception as e:\n",
    "        print(f\"Skipping fire {fire_id}\\n{e}\")\n",
    "        traceback.print_exc()  # This will print the full traceback\n",
    "        continue # continue to the next fire id\n",
    "\n",
    "    t1 = (time.time() - t00) / 60\n",
    "    print(f\"Total elapsed time for {fire_year}: {t1:.2f} minutes.\")\n",
    "    print(\"\\n~~~~~~~~~~\\n\")\n",
    "\n",
    "# Concatenate the results and save out the geodataframe of latlon fire pixels (non-geolocated)\n",
    "afds = pd.concat(afd_dfs, ignore_index=True)\n",
    "afds.to_file(os.path.join(datamod,'vnp14img_SRM_aspen-fires_2018_to_2023_geo.gpkg'))\n",
    "\n",
    "t2 = (time.time() - t0) / 60\n",
    "print(f\"Total elapsed time: {t2:.2f} minutes.\")\n",
    "print(\"\\n~~~~~~~~~~\\n\")\n",
    "print(\"Done!\")"
   ]
  },
  {
   "cell_type": "code",
   "execution_count": null,
   "id": "6d1a7a51-6f33-42d0-93b7-a1dac0f7405e",
   "metadata": {},
   "outputs": [],
   "source": []
  }
 ],
 "metadata": {
  "kernelspec": {
   "display_name": "aspen-fire",
   "language": "python",
   "name": "aspen-fire"
  },
  "language_info": {
   "codemirror_mode": {
    "name": "ipython",
    "version": 3
   },
   "file_extension": ".py",
   "mimetype": "text/x-python",
   "name": "python",
   "nbconvert_exporter": "python",
   "pygments_lexer": "ipython3",
   "version": "3.10.12"
  }
 },
 "nbformat": 4,
 "nbformat_minor": 5
}
