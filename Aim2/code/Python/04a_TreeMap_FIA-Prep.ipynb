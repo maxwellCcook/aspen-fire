{
 "cells": [
  {
   "cell_type": "code",
   "execution_count": 1,
   "id": "c3d482be-361d-4286-b949-6680bf24babb",
   "metadata": {},
   "outputs": [
    {
     "name": "stdout",
     "output_type": "stream",
     "text": [
      "Ready to go !\n"
     ]
    }
   ],
   "source": [
    "\"\"\"\n",
    "Stack the tm_id and FORTYPCD rasters for the study region\n",
    "Extract a tm_id lookup table to link to FORTYPCD\n",
    "\n",
    "Author: maxwell.cook@colorado.edu\n",
    "\"\"\"\n",
    "\n",
    "import os, sys, time\n",
    "import pandas as pd\n",
    "import rioxarray as rxr\n",
    "import geopandas as gpd\n",
    "import seaborn as sns\n",
    "import matplotlib.pyplot as plt\n",
    "import matplotlib.colors as mcolors\n",
    "from matplotlib.colors import to_rgba\n",
    "\n",
    "# Custom functions\n",
    "sys.path.append(os.path.join(os.getcwd(),'code/'))\n",
    "from __functions import *\n",
    "\n",
    "proj = 'EPSG:5070'\n",
    "\n",
    "maindir = '/Users/max/Library/CloudStorage/OneDrive-Personal/mcook/'\n",
    "projdir = os.path.join(maindir, 'aspen-fire/Aim2/')\n",
    "\n",
    "print(\"Ready to go !\")"
   ]
  },
  {
   "cell_type": "code",
   "execution_count": 2,
   "id": "e6141e96-2713-438c-a396-e783040ad38b",
   "metadata": {},
   "outputs": [
    {
     "data": {
      "text/plain": [
       "array([-1193290.29502988,  1391628.00599962,  -683136.18714099,\n",
       "        2253336.36986925])"
      ]
     },
     "execution_count": 2,
     "metadata": {},
     "output_type": "execute_result"
    }
   ],
   "source": [
    "# load and prepare our study region for cropping TreeMap\n",
    "# Southern Rockies ecoregion bounds (buffered)\n",
    "fp = os.path.join(projdir,'data/spatial/raw/boundaries/na_cec_eco_l3_srme.gpkg')\n",
    "srm = gpd.read_file(fp)\n",
    "# Crop the raster by the SRM bounds\n",
    "srm['geometry'] = srm.geometry.buffer(10000)\n",
    "bounds = srm.total_bounds # total bounds of ecoregion\n",
    "bounds"
   ]
  },
  {
   "cell_type": "code",
   "execution_count": 3,
   "id": "56817b46-8e0c-4959-a626-23a519c120e5",
   "metadata": {},
   "outputs": [
    {
     "name": "stdout",
     "output_type": "stream",
     "text": [
      "Shape: (97383, 154221); \n",
      "GeoTransform: -2362845.0 30.0 0.0 3180555.0 0.0 -30.0; \n",
      "WKT: EPSG:5070; \n",
      "NoData Value: nan; \n",
      "Data Type: float64\n",
      "\n",
      "Cropped TreeMap data to SRM bounds w/ 10km buffer.\n",
      "\n",
      "\tCreated the band stack.\n"
     ]
    },
    {
     "data": {
      "text/plain": [
       "247"
      ]
     },
     "execution_count": 3,
     "metadata": {},
     "output_type": "execute_result"
    }
   ],
   "source": [
    "# Load the TreeMap (ca. 2016)\n",
    "# Pixel values here denote the FIA plot ID (\"tm_id\")\n",
    "fp = os.path.join(maindir,'data/landcover/USFS/RDS_TreeMap/TreeMap2016.tif')\n",
    "treemap_da = rxr.open_rasterio(fp, masked=True, cache=False, chunks='auto').squeeze()\n",
    "# Load the FORTYPCD raster grid\n",
    "# Pixel values here represent the FORTYPCD\n",
    "fp = os.path.join(maindir, 'data/landcover/USFS/RDS_TreeMap/TreeMap2016_FORTYPCD/TreeMap2016_FORTYPCD.tif')\n",
    "fortypcd_da = rxr.open_rasterio(fp, masked=True, cache=False, chunks='auto').squeeze()\n",
    "\n",
    "# Grab some raster metadata from one of the layers\n",
    "shp, gt, wkt, nd = treemap_da.shape, treemap_da.spatial_ref.GeoTransform, treemap_da.rio.crs, treemap_da.rio.nodata\n",
    "print(\n",
    "    f\"Shape: {shp}; \\n\"\n",
    "    f\"GeoTransform: {gt}; \\n\"\n",
    "    f\"WKT: {wkt}; \\n\"\n",
    "    f\"NoData Value: {nd}; \\n\"\n",
    "    f\"Data Type: {treemap_da[0].dtype}\")\n",
    "\n",
    "# crop to handle a subset of the data before aligning and stacking\n",
    "# tm_id raster\n",
    "treemap_da_c = treemap_da.rio.clip_box(\n",
    "    minx=bounds[0],\n",
    "    miny=bounds[1],\n",
    "    maxx=bounds[2],\n",
    "    maxy=bounds[3]\n",
    ")\n",
    "# FORTYPCD raster\n",
    "fortypcd_da_c = fortypcd_da.rio.clip_box(\n",
    "    minx=bounds[0],\n",
    "    miny=bounds[1],\n",
    "    maxx=bounds[2],\n",
    "    maxy=bounds[3]\n",
    ")\n",
    "\n",
    "print(f\"\\nCropped TreeMap data to SRM bounds w/ 10km buffer.\")\n",
    "\n",
    "del treemap_da, fortypcd_da # tidy the CONUS rasters\n",
    "\n",
    "# Create a data stack with the plot identifier and FORTYPCD\n",
    "stack_da = xr.Dataset({\n",
    "    'tm_id': treemap_da_c,\n",
    "    'fortypcd': fortypcd_da_c\n",
    "}) # create the data stack\n",
    "print(f\"\\n\\tCreated the band stack.\")\n",
    "del treemap_da_c, fortypcd_da_c, bounds\n",
    "gc.collect() # clean up"
   ]
  },
  {
   "cell_type": "code",
   "execution_count": 4,
   "id": "ac557dff-6413-4369-987b-925872276054",
   "metadata": {},
   "outputs": [
    {
     "name": "stdout",
     "output_type": "stream",
     "text": [
      "Saved multi-band raster to: /Users/max/Library/CloudStorage/OneDrive-Personal/mcook/aspen-fire/Aim2/data/spatial/mod/USFS/TreeMap_2016_TMID_FORTYPCD.tif\n"
     ]
    },
    {
     "data": {
      "text/plain": [
       "3048"
      ]
     },
     "execution_count": 4,
     "metadata": {},
     "output_type": "execute_result"
    }
   ],
   "source": [
    "# save the raster stack.\n",
    "stack_da.rio.write_crs(\"EPSG:5070\", inplace=True)\n",
    "for band in stack_da.data_vars:\n",
    "    stack_da[band] = stack_da[band].fillna(-9999)  # Replace NaN with NoData\n",
    "    stack_da[band].rio.write_nodata(-9999, inplace=True)  # Set NoData value\n",
    "# Save as a GeoTIFF\n",
    "out_fp = os.path.join(projdir, \"data/spatial/mod/USFS/TreeMap_2016_TMID_FORTYPCD.tif\")\n",
    "stack_da.rio.to_raster(out_fp, compress='zstd', zstd_level=9, dtype='uint16', driver='GTiff')\n",
    "print(f\"Saved multi-band raster to: {out_fp}\")\n",
    "del stack_da\n",
    "gc.collect()"
   ]
  },
  {
   "cell_type": "code",
   "execution_count": null,
   "id": "73a880c0-217b-48e6-86c9-b0ce3387e5af",
   "metadata": {},
   "outputs": [],
   "source": [
    "# Load the TreeMap (ca. 2016)\n",
    "# Pixel values here denote the FIA plot ID (\"tm_id\")\n",
    "# see '04a_TreeMap_FIA-Prep.ipynb'\n",
    "# fp = os.path.join(maindir,'data/landcover/USFS/RDS_TreeMap/TreeMap2016.tif') # tm_id band\n",
    "fp = os.path.join(projdir, \"data/spatial/mod/USFS/TreeMap_2016_TMID_FORTYPCD.tif\") # multi-band\n",
    "treemap_da = rxr.open_rasterio(fp, masked=True, cache=False, chunks='auto').squeeze()\n",
    "\n",
    "# Grab some raster metadata from one of the layers\n",
    "shp, gt, wkt, nd = treemap_da.shape, treemap_da.spatial_ref.GeoTransform, treemap_da.rio.crs, treemap_da.rio.nodata\n",
    "print(\n",
    "    f\"Shape: {shp}; \\n\"\n",
    "    f\"GeoTransform: {gt}; \\n\"\n",
    "    f\"WKT: {wkt}; \\n\"\n",
    "    f\"NoData Value: {nd}; \\n\"\n",
    "    f\"Data Type: {treemap_da[0].dtype}\")\n",
    "\n",
    "# create a mapping linking FIA plot to FORTYPCD (algorithm forest type code)\n",
    "tmid_vals = treemap_da.sel(band=1).values.flatten()  # tm_id band\n",
    "fortypcd_vals = treemap_da.sel(band=2).values.flatten()  # FORTYPCD band\n",
    "pixel_mapping = pd.DataFrame({\n",
    "    'tm_id': tmid_vals,\n",
    "    'fortypcd': fortypcd_vals\n",
    "}).dropna(subset=['tm_id', 'fortypcd'])\n",
    "pixel_mapping = pixel_mapping.drop_duplicates()\n",
    "pixel_mapping['tm_id'] = pixel_mapping['tm_id'].astype(int)\n",
    "pixel_mapping['fortypcd'] = pixel_mapping['fortypcd'].astype(int)\n",
    "del tmid_vals, fortypcd_vals\n",
    "gc.collect()\n",
    "print(pixel_mapping.head(3))\n",
    "\n",
    "# save this file out.\n",
    "out_fp = os.path.join(projdir,'data/spatial/mod/USFS/treemap_tmid_fortypcd_lookup.csv')\n",
    "pixel_mapping.to_csv(out_fp)\n",
    "print(f\"Saved file to: {out_fp}\")"
   ]
  },
  {
   "cell_type": "code",
   "execution_count": 12,
   "id": "0ebe6a9c-9fe2-42cd-87b6-25108989cbae",
   "metadata": {},
   "outputs": [],
   "source": [
    "# # create the tm_id / FORTYPCD mapping\n",
    "# t0 = time.time()\n",
    "\n",
    "# # Reload the stack\n",
    "# out_fp = os.path.join(projdir, \"data/spatial/mod/USFS/TreeMap_2016_TMID_FORTYPCD.tif\")\n",
    "# stack_da = rxr.open_rasterio(out_fp, masked=True, cache=False).squeeze()\n",
    "# print(f\"Stack shape: {stack_da.shape}\")\n",
    "# print(type(stack_da))\n",
    "# print(stack_da.sel(band=1).rio.nodata)\n",
    "\n",
    "# # Create a DataFrame for pixel-level mapping\n",
    "# tmid_vals = stack_da.sel(band=1).values.flatten()\n",
    "# fortypcd_vals = stack_da.sel(band=2).values.flatten()\n",
    "# pixel_mapping = pd.DataFrame({\n",
    "#     'tm_id': tmid_vals,\n",
    "#     'fortypcd': fortypcd_vals\n",
    "# })\n",
    "# print(len(pixel_mapping[pixel_mapping['tm_id'] == 69728.0]))\n",
    "\n",
    "# pixel_mapping = pixel_mapping.drop_duplicates() # keep the lookup values\n",
    "# pixel_mapping['tm_id'] = pixel_mapping['tm_id'].astype(int)\n",
    "# pixel_mapping['fortypcd'] = pixel_mapping['fortypcd'].astype(int)\n",
    "# print(f\"\\nPixel mapping:\\n{pixel_mapping.head()}\")\n",
    "\n",
    "# # save this file out.\n",
    "# out_fp = os.path.join(projdir,'data/spatial/mod/USFS/treemap_tmid_fortypcd_lookup.csv')\n",
    "# pixel_mapping.to_csv(out_fp)\n",
    "# print(f\"Saved file to: {out_fp}\")"
   ]
  },
  {
   "cell_type": "code",
   "execution_count": 6,
   "id": "a8a322b4-a028-4024-ba22-812346a524d5",
   "metadata": {},
   "outputs": [
    {
     "data": {
      "text/plain": [
       "0"
      ]
     },
     "execution_count": 6,
     "metadata": {},
     "output_type": "execute_result"
    }
   ],
   "source": [
    "# del stack_da, tmid_vals, fortypcd_vals, pixel_mapping\n",
    "# gc.collect()"
   ]
  }
 ],
 "metadata": {
  "kernelspec": {
   "display_name": "aspen-fire",
   "language": "python",
   "name": "aspen-fire"
  },
  "language_info": {
   "codemirror_mode": {
    "name": "ipython",
    "version": 3
   },
   "file_extension": ".py",
   "mimetype": "text/x-python",
   "name": "python",
   "nbconvert_exporter": "python",
   "pygments_lexer": "ipython3",
   "version": "3.10.12"
  }
 },
 "nbformat": 4,
 "nbformat_minor": 5
}
