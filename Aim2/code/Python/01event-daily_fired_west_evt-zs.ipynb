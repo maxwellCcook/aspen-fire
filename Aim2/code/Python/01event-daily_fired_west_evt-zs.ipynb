{
 "cells": [
  {
   "cell_type": "code",
   "execution_count": 1,
   "id": "4d797da2-4f14-4307-bafa-ef51add6105c",
   "metadata": {},
   "outputs": [
    {
     "name": "stdout",
     "output_type": "stream",
     "text": [
      "Ready to go !\n"
     ]
    }
   ],
   "source": [
    "\"\"\"\n",
    "Identify wildfire events with >= 1% pre-fire aspen forest cover across western U.S. ecoregions\n",
    "Landcover data: LANDFIRE Existing Vegetation Type (EVT) ca. 2016\n",
    "Author: maxwell.cook@colorado.edu\n",
    "\"\"\"\n",
    "\n",
    "import os, time, glob, gc\n",
    "import numpy as np\n",
    "import pandas as pd\n",
    "import geopandas as gpd\n",
    "import rioxarray as rxr\n",
    "import rasterio as rio\n",
    "import matplotlib\n",
    "import matplotlib.pyplot as plt\n",
    "import seaborn as sns\n",
    "import multiprocessing as mp\n",
    "import dask\n",
    "\n",
    "from shapely.geometry import box\n",
    "from shapely.geometry import Polygon, MultiPolygon\n",
    "from datetime import datetime\n",
    "from rasterstats import zonal_stats\n",
    "\n",
    "import warnings\n",
    "warnings.filterwarnings(\"ignore\") # suppresses annoying geopandas warning\n",
    "\n",
    "proj = 'EPSG:5070'\n",
    "\n",
    "maindir = '/Users/max/Library/CloudStorage/OneDrive-Personal/mcook/'\n",
    "projdir = os.path.join(maindir, 'aspen-fire/Aim2/')\n",
    "\n",
    "# maindir = '/home/jovyan/' # cyverse\n",
    "# projdir = os.path.join(maindir,'data-store/data/iplant/home/maco4303/data/JFSP')\n",
    "\n",
    "print(\"Ready to go !\")"
   ]
  },
  {
   "cell_type": "code",
   "execution_count": 2,
   "id": "0e065e30-9156-4b8b-b79d-81f385c3677a",
   "metadata": {},
   "outputs": [
    {
     "name": "stdout",
     "output_type": "stream",
     "text": [
      "Saving EVT summary tables to /Users/max/Library/CloudStorage/OneDrive-Personal/mcook/aspen-fire/Aim2/data/tabular/mod/EVT/\n"
     ]
    }
   ],
   "source": [
    "results_dir = os.path.join(projdir,'data/tabular/mod/EVT/')\n",
    "# results_dir = os.path.join(projdir,'results/') # cyverse\n",
    "if not os.path.exists(results_dir):\n",
    "    os.makedirs(results_dir)\n",
    "print(f\"Saving EVT summary tables to {results_dir}\")"
   ]
  },
  {
   "cell_type": "code",
   "execution_count": 3,
   "id": "0a364ddd-b270-4978-b306-7c4d79cb2b0d",
   "metadata": {},
   "outputs": [
    {
     "name": "stdout",
     "output_type": "stream",
     "text": [
      "Functions loaded !\n"
     ]
    }
   ],
   "source": [
    "def compute_band_stats(geoms, image_da, id_col):\n",
    "    \"\"\"\n",
    "    Function to compute band statistics for a chunk of geometries and a raster band.\n",
    "    This function is passed to the multiprocessing workers.\n",
    "    \"\"\"\n",
    "    affine = image_da.rio.transform()\n",
    "    nodataval = image_da.rio.nodata\n",
    "    arr = image_da.values\n",
    "    \n",
    "    stats = zonal_stats(\n",
    "        vectors=geoms[[id_col, 'geometry']],\n",
    "        raster=arr,\n",
    "        affine=affine,\n",
    "        nodata=nodataval,\n",
    "        categorical=True,\n",
    "        all_touched=True,\n",
    "        geojson_out=True\n",
    "    )\n",
    "\n",
    "    # Extract the results (properties)\n",
    "    stats_df = pd.DataFrame(stats)\n",
    "    stats_df[id_col] = stats_df['properties'].apply(lambda x: x.get(id_col))\n",
    "    stats_df['properties'] = stats_df['properties'].apply(lambda x: {key: val for key, val in x.items() if key != id_col})\n",
    "    stats_df['props_list'] = stats_df['properties'].apply(lambda x: list(x.items()))\n",
    "\n",
    "    # Explode the properties to column\n",
    "    props = stats_df.explode('props_list').reset_index(drop=True)\n",
    "    props[['evt', 'count']] = pd.DataFrame(props['props_list'].tolist(), index=props.index)\n",
    "    props['evt'] = props['evt'].astype(int)\n",
    "    props = props[[id_col, 'evt', 'count']].reset_index(drop=True)\n",
    "\n",
    "    # Calculate the total pixels and percent cover\n",
    "    total_pixels = props.groupby(props[id_col])['count'].transform('sum')\n",
    "    props['total_pixels'] = total_pixels\n",
    "    props['pct_cover'] = (props['count'] / props['total_pixels']) * 100\n",
    "\n",
    "    del arr, stats, stats_df # clean up\n",
    "    gc.collect()\n",
    "    \n",
    "    return props\n",
    "\n",
    "\n",
    "def create_bounds(gdf, buffer=None):\n",
    "    \"\"\" Calculate a bounding rectangle for a given geometry and buffer \"\"\"\n",
    "    bounds = gdf.geometry.apply(lambda geom: box(*geom.bounds))\n",
    "    if buffer is not None:\n",
    "        bounds = bounds.buffer(buffer)\n",
    "    # Assign the geometry to the geodataframe\n",
    "    gdf_ = gdf.copy()\n",
    "    gdf_.geometry = bounds.geometry.apply(\n",
    "        lambda geom: Polygon(geom) if geom.geom_type == 'Polygon' else MultiPolygon([geom])\n",
    "    )\n",
    "    return gdf_\n",
    "    \n",
    "\n",
    "print(\"Functions loaded !\")"
   ]
  },
  {
   "cell_type": "code",
   "execution_count": 4,
   "id": "5e351ad3-74c5-4602-8ab5-f8523c71bc20",
   "metadata": {},
   "outputs": [],
   "source": [
    "# \"\"\"\n",
    "# Copy the data-store to 'local' directory\n",
    "# This enables quick access to data files in CyVerse\n",
    "# \"\"\"\n",
    "# import shutil\n",
    "\n",
    "# # Set a destination path (this is a 'local' and temporary path)\n",
    "# dest = '/home/jovyan/data-store/aspen-fire/data' \n",
    "# if not os.path.exists(dest):\n",
    "#     os.mkdir(dest) # create the directory for the copied data, if needed\n",
    "    \n",
    "# # Using 'shutil' package, copy all the files over\n",
    "# shutil.copytree(projdir, dest, dirs_exist_ok=True)"
   ]
  },
  {
   "cell_type": "code",
   "execution_count": null,
   "id": "91b02c4c-ef7e-4b47-8dd1-1aad328f5fb5",
   "metadata": {},
   "outputs": [],
   "source": []
  },
  {
   "cell_type": "code",
   "execution_count": 5,
   "id": "5467af0e-7f57-45dc-b750-89b962c788c0",
   "metadata": {},
   "outputs": [],
   "source": [
    "# Load the land cover data"
   ]
  },
  {
   "cell_type": "code",
   "execution_count": null,
   "id": "a779f9bb-0ef0-4e62-be17-d0f844b30f8b",
   "metadata": {},
   "outputs": [],
   "source": []
  },
  {
   "cell_type": "code",
   "execution_count": 6,
   "id": "35b60e93-b5b4-4c2a-9ecb-5480e03889ab",
   "metadata": {},
   "outputs": [
    {
     "name": "stdout",
     "output_type": "stream",
     "text": [
      "Shape: (97283, 154207); \n",
      "GeoTransform: -2362425.0 30.0 0.0 3177435.0 0.0 -30.0; \n",
      "WKT: EPSG:5070; \n",
      "NoData Value: nan; \n",
      "Data Type: float32\n"
     ]
    },
    {
     "data": {
      "text/plain": [
       "60"
      ]
     },
     "execution_count": 6,
     "metadata": {},
     "output_type": "execute_result"
    }
   ],
   "source": [
    "# Load the LANDFIRE EVT (ca. 2016)\n",
    "evt_fp = os.path.join(maindir,'data/landcover/LANDFIRE/LF2016_EVT_200_CONUS/Tif/LC16_EVT_200.tif')\n",
    "# evt_fp = os.path.join(dest,'LC16_EVT_200.tif') # cyverse\n",
    "\n",
    "evt_da = rxr.open_rasterio(evt_fp, masked=True, cache=False, chunks='auto').squeeze()\n",
    "\n",
    "shp, gt, wkt, nd = evt_da.shape, evt_da.spatial_ref.GeoTransform, evt_da.rio.crs, evt_da.rio.nodata\n",
    "print(\n",
    "    f\"Shape: {shp}; \\n\"\n",
    "    f\"GeoTransform: {gt}; \\n\"\n",
    "    f\"WKT: {wkt}; \\n\"\n",
    "    f\"NoData Value: {nd}; \\n\"\n",
    "    f\"Data Type: {evt_da[0].dtype}\")\n",
    "gc.collect()"
   ]
  },
  {
   "cell_type": "code",
   "execution_count": null,
   "id": "8132327c-dfba-49fb-b5d2-28d9372cdd14",
   "metadata": {},
   "outputs": [],
   "source": []
  },
  {
   "cell_type": "code",
   "execution_count": 7,
   "id": "9c8edeb6-699f-4e55-8ea3-e334c172787a",
   "metadata": {},
   "outputs": [],
   "source": [
    "# Load FIRED perimeters"
   ]
  },
  {
   "cell_type": "code",
   "execution_count": null,
   "id": "27eb5b1a-c60d-44ac-96be-6b39f78160df",
   "metadata": {},
   "outputs": [],
   "source": []
  },
  {
   "cell_type": "code",
   "execution_count": 8,
   "id": "0d9bcab2-f7ef-4284-ac4f-acef2d28a0f2",
   "metadata": {},
   "outputs": [
    {
     "data": {
      "text/plain": [
       "Index(['did', 'id', 'ig_date', 'ig_day', 'ig_month', 'ig_year', 'last_date',\n",
       "       'event_dur', 'tot_pix', 'tot_ar_km2', 'fsr_px_dy', 'fsr_km2_dy',\n",
       "       'mx_grw_px', 'mx_grw_km2', 'mx_grw_dte', 'ig_utm_x', 'ig_utm_y',\n",
       "       'na_l3name', 'geometry'],\n",
       "      dtype='object')"
      ]
     },
     "execution_count": 8,
     "metadata": {},
     "output_type": "execute_result"
    }
   ],
   "source": [
    "# Load the FIRED perimeters (2012-2023)\n",
    "daily_fp = os.path.join(maindir,'aspen-fire/Aim2/data/spatial/raw/FIRED/fired-daily_west_2012_to_2023.gpkg')\n",
    "# daily_fp = os.path.join(dest,'fired-daily_west_2012_to_2023.gpkg') # cyverse\n",
    "daily = gpd.read_file(daily_fp)\n",
    "daily = daily[daily['ig_year'] >= 2018] # Work with 2018-> (for Sentinel)\n",
    "daily = daily.to_crs(proj) # ensure albers projection\n",
    "daily.columns"
   ]
  },
  {
   "cell_type": "code",
   "execution_count": 9,
   "id": "07336bc0-bd00-47c0-9f8f-0345f18bad68",
   "metadata": {},
   "outputs": [
    {
     "name": "stdout",
     "output_type": "stream",
     "text": [
      "Buffered by 1.0 pixel(s).\n"
     ]
    }
   ],
   "source": [
    "# Add a one pixel buffer to the daily perimeters ()\n",
    "n_pixels = 500  # meters\n",
    "daily_ = daily.copy() # make a copy of the original data\n",
    "daily_['geometry'] = daily_['geometry'].buffer(n_pixels)\n",
    "print(f\"Buffered by {n_pixels/500} pixel(s).\")"
   ]
  },
  {
   "cell_type": "code",
   "execution_count": null,
   "id": "1aafce3a-a7da-47fd-8422-9f65557eef9e",
   "metadata": {},
   "outputs": [],
   "source": []
  },
  {
   "cell_type": "code",
   "execution_count": 10,
   "id": "0572d135-6b90-4397-b9bb-958b92636fba",
   "metadata": {},
   "outputs": [],
   "source": [
    "# Crop the image data to the fire bounds"
   ]
  },
  {
   "cell_type": "code",
   "execution_count": 11,
   "id": "dbcb32f8-51f9-4e80-93c0-87dce64c09e3",
   "metadata": {},
   "outputs": [
    {
     "data": {
      "text/plain": [
       "66"
      ]
     },
     "execution_count": 11,
     "metadata": {},
     "output_type": "execute_result"
    }
   ],
   "source": [
    "# Crop the raster by the fire bounds (with small buffer)\n",
    "bounds = daily_.total_bounds\n",
    "evt_da_crop = evt_da.rio.clip_box(\n",
    "    minx=bounds[0]+1000, \n",
    "    miny=bounds[1]+1000, \n",
    "    maxx=bounds[2]+1000, \n",
    "    maxy=bounds[3]+1000\n",
    ")\n",
    "del evt_da, bounds\n",
    "gc.collect()"
   ]
  },
  {
   "cell_type": "code",
   "execution_count": null,
   "id": "66b45676-c266-4da0-bff9-5d6e9a7de9db",
   "metadata": {},
   "outputs": [],
   "source": []
  },
  {
   "cell_type": "code",
   "execution_count": 12,
   "id": "6881aeeb-3b03-41a0-b691-70d5ace3d87c",
   "metadata": {},
   "outputs": [],
   "source": [
    "# Calculate the daily land cover (EVT) proportions for daily perimeters"
   ]
  },
  {
   "cell_type": "code",
   "execution_count": 13,
   "id": "f5b5b89b-8db6-46ba-a2a1-750f390fe0cc",
   "metadata": {},
   "outputs": [
    {
     "name": "stdout",
     "output_type": "stream",
     "text": [
      "Total elapsed time: 1.82 minutes.\n",
      "\n",
      "~~~~~~~~~~\n",
      "\n"
     ]
    }
   ],
   "source": [
    "t0 = time.time()\n",
    "\n",
    "sampled = compute_band_stats(daily_, evt_da_crop, 'did')\n",
    "\n",
    "t1 = (time.time() - t0) / 60\n",
    "print(f\"Total elapsed time: {t1:.2f} minutes.\")\n",
    "print(\"\\n~~~~~~~~~~\\n\")"
   ]
  },
  {
   "cell_type": "code",
   "execution_count": 14,
   "id": "8ad74002-273a-4471-b784-5b55427ab9d1",
   "metadata": {},
   "outputs": [
    {
     "data": {
      "text/html": [
       "<div>\n",
       "<style scoped>\n",
       "    .dataframe tbody tr th:only-of-type {\n",
       "        vertical-align: middle;\n",
       "    }\n",
       "\n",
       "    .dataframe tbody tr th {\n",
       "        vertical-align: top;\n",
       "    }\n",
       "\n",
       "    .dataframe thead th {\n",
       "        text-align: right;\n",
       "    }\n",
       "</style>\n",
       "<table border=\"1\" class=\"dataframe\">\n",
       "  <thead>\n",
       "    <tr style=\"text-align: right;\">\n",
       "      <th></th>\n",
       "      <th>did</th>\n",
       "      <th>evt</th>\n",
       "      <th>count</th>\n",
       "      <th>total_pixels</th>\n",
       "      <th>pct_cover</th>\n",
       "    </tr>\n",
       "  </thead>\n",
       "  <tbody>\n",
       "    <tr>\n",
       "      <th>0</th>\n",
       "      <td>0003d89c00208d55887fec4a95f58ac8</td>\n",
       "      <td>7017</td>\n",
       "      <td>2</td>\n",
       "      <td>5026</td>\n",
       "      <td>0.039793</td>\n",
       "    </tr>\n",
       "    <tr>\n",
       "      <th>1</th>\n",
       "      <td>0003d89c00208d55887fec4a95f58ac8</td>\n",
       "      <td>7080</td>\n",
       "      <td>4</td>\n",
       "      <td>5026</td>\n",
       "      <td>0.079586</td>\n",
       "    </tr>\n",
       "    <tr>\n",
       "      <th>2</th>\n",
       "      <td>0003d89c00208d55887fec4a95f58ac8</td>\n",
       "      <td>7123</td>\n",
       "      <td>5</td>\n",
       "      <td>5026</td>\n",
       "      <td>0.099483</td>\n",
       "    </tr>\n",
       "    <tr>\n",
       "      <th>3</th>\n",
       "      <td>0003d89c00208d55887fec4a95f58ac8</td>\n",
       "      <td>7127</td>\n",
       "      <td>5</td>\n",
       "      <td>5026</td>\n",
       "      <td>0.099483</td>\n",
       "    </tr>\n",
       "    <tr>\n",
       "      <th>4</th>\n",
       "      <td>0003d89c00208d55887fec4a95f58ac8</td>\n",
       "      <td>7296</td>\n",
       "      <td>36</td>\n",
       "      <td>5026</td>\n",
       "      <td>0.716275</td>\n",
       "    </tr>\n",
       "  </tbody>\n",
       "</table>\n",
       "</div>"
      ],
      "text/plain": [
       "                                did   evt  count  total_pixels  pct_cover\n",
       "0  0003d89c00208d55887fec4a95f58ac8  7017      2          5026   0.039793\n",
       "1  0003d89c00208d55887fec4a95f58ac8  7080      4          5026   0.079586\n",
       "2  0003d89c00208d55887fec4a95f58ac8  7123      5          5026   0.099483\n",
       "3  0003d89c00208d55887fec4a95f58ac8  7127      5          5026   0.099483\n",
       "4  0003d89c00208d55887fec4a95f58ac8  7296     36          5026   0.716275"
      ]
     },
     "execution_count": 14,
     "metadata": {},
     "output_type": "execute_result"
    }
   ],
   "source": [
    "sampled.head()"
   ]
  },
  {
   "cell_type": "code",
   "execution_count": 15,
   "id": "9a8f9647-77e3-48c8-9dbb-8841d8b53a62",
   "metadata": {},
   "outputs": [
    {
     "data": {
      "text/plain": [
       "0"
      ]
     },
     "execution_count": 15,
     "metadata": {},
     "output_type": "execute_result"
    }
   ],
   "source": [
    "gc.collect() # clear any unused memory"
   ]
  },
  {
   "cell_type": "code",
   "execution_count": null,
   "id": "bbd0c584-460f-49ea-9ec4-eefc79517321",
   "metadata": {},
   "outputs": [],
   "source": []
  },
  {
   "cell_type": "code",
   "execution_count": 16,
   "id": "8070b647-7256-4778-b04d-bcf570b5fa42",
   "metadata": {},
   "outputs": [],
   "source": [
    "# Load the lookup info to get landcover type"
   ]
  },
  {
   "cell_type": "code",
   "execution_count": 17,
   "id": "37ec535d-2b55-4d43-a7e3-4f081830d26a",
   "metadata": {},
   "outputs": [
    {
     "data": {
      "text/plain": [
       "Index(['VALUE', 'EVT_NAME', 'LFRDB', 'EVT_FUEL', 'EVT_FUEL_N', 'EVT_LF',\n",
       "       'EVT_PHYS', 'EVT_GP', 'EVT_GP_N', 'SAF_SRM', 'EVT_ORDER', 'EVT_CLASS',\n",
       "       'EVT_SBCLS', 'R', 'G', 'B', 'RED', 'GREEN', 'BLUE'],\n",
       "      dtype='object')"
      ]
     },
     "execution_count": 17,
     "metadata": {},
     "output_type": "execute_result"
    }
   ],
   "source": [
    "lookup_fp = os.path.join(maindir,'data/landcover/LANDFIRE/LF2016_EVT_200_CONUS/CSV_Data/LF16_EVT_200.csv')\n",
    "# lookup = os.path.join(dest, 'LF16_EVT_200.csv') # cyverse\n",
    "lookup = pd.read_csv(lookup_fp)\n",
    "lookup.columns"
   ]
  },
  {
   "cell_type": "code",
   "execution_count": 18,
   "id": "aa7b1aad-3eab-4e0f-b53f-d3f6d5dd89fa",
   "metadata": {},
   "outputs": [
    {
     "data": {
      "text/html": [
       "<div>\n",
       "<style scoped>\n",
       "    .dataframe tbody tr th:only-of-type {\n",
       "        vertical-align: middle;\n",
       "    }\n",
       "\n",
       "    .dataframe tbody tr th {\n",
       "        vertical-align: top;\n",
       "    }\n",
       "\n",
       "    .dataframe thead th {\n",
       "        text-align: right;\n",
       "    }\n",
       "</style>\n",
       "<table border=\"1\" class=\"dataframe\">\n",
       "  <thead>\n",
       "    <tr style=\"text-align: right;\">\n",
       "      <th></th>\n",
       "      <th>did</th>\n",
       "      <th>evt</th>\n",
       "      <th>count</th>\n",
       "      <th>total_pixels</th>\n",
       "      <th>pct_cover</th>\n",
       "      <th>VALUE</th>\n",
       "      <th>EVT_NAME</th>\n",
       "      <th>EVT_PHYS</th>\n",
       "      <th>EVT_GP_N</th>\n",
       "      <th>EVT_CLASS</th>\n",
       "    </tr>\n",
       "  </thead>\n",
       "  <tbody>\n",
       "    <tr>\n",
       "      <th>0</th>\n",
       "      <td>0003d89c00208d55887fec4a95f58ac8</td>\n",
       "      <td>7017</td>\n",
       "      <td>2</td>\n",
       "      <td>5026</td>\n",
       "      <td>0.039793</td>\n",
       "      <td>7017</td>\n",
       "      <td>Columbia Plateau Western Juniper Woodland and ...</td>\n",
       "      <td>Conifer</td>\n",
       "      <td>Juniper Woodland and Savanna</td>\n",
       "      <td>Open tree canopy</td>\n",
       "    </tr>\n",
       "    <tr>\n",
       "      <th>1</th>\n",
       "      <td>0003d89c00208d55887fec4a95f58ac8</td>\n",
       "      <td>7080</td>\n",
       "      <td>4</td>\n",
       "      <td>5026</td>\n",
       "      <td>0.079586</td>\n",
       "      <td>7080</td>\n",
       "      <td>Inter-Mountain Basins Big Sagebrush Shrubland</td>\n",
       "      <td>Shrubland</td>\n",
       "      <td>Big Sagebrush Shrubland and Steppe</td>\n",
       "      <td>Shrubland</td>\n",
       "    </tr>\n",
       "    <tr>\n",
       "      <th>2</th>\n",
       "      <td>0003d89c00208d55887fec4a95f58ac8</td>\n",
       "      <td>7123</td>\n",
       "      <td>5</td>\n",
       "      <td>5026</td>\n",
       "      <td>0.099483</td>\n",
       "      <td>7123</td>\n",
       "      <td>Columbia Plateau Steppe and Grassland</td>\n",
       "      <td>Grassland</td>\n",
       "      <td>Grassland and Steppe</td>\n",
       "      <td>Herbaceous-shrub-steppe</td>\n",
       "    </tr>\n",
       "    <tr>\n",
       "      <th>3</th>\n",
       "      <td>0003d89c00208d55887fec4a95f58ac8</td>\n",
       "      <td>7127</td>\n",
       "      <td>5</td>\n",
       "      <td>5026</td>\n",
       "      <td>0.099483</td>\n",
       "      <td>7127</td>\n",
       "      <td>Inter-Mountain Basins Semi-Desert Shrub-Steppe</td>\n",
       "      <td>Shrubland</td>\n",
       "      <td>Desert Scrub</td>\n",
       "      <td>Shrubland</td>\n",
       "    </tr>\n",
       "    <tr>\n",
       "      <th>4</th>\n",
       "      <td>0003d89c00208d55887fec4a95f58ac8</td>\n",
       "      <td>7296</td>\n",
       "      <td>36</td>\n",
       "      <td>5026</td>\n",
       "      <td>0.716275</td>\n",
       "      <td>7296</td>\n",
       "      <td>Developed-Low Intensity</td>\n",
       "      <td>Developed-Low Intensity</td>\n",
       "      <td>Developed-Low Intensity</td>\n",
       "      <td>No Dominant Lifeform</td>\n",
       "    </tr>\n",
       "  </tbody>\n",
       "</table>\n",
       "</div>"
      ],
      "text/plain": [
       "                                did   evt  count  total_pixels  pct_cover  \\\n",
       "0  0003d89c00208d55887fec4a95f58ac8  7017      2          5026   0.039793   \n",
       "1  0003d89c00208d55887fec4a95f58ac8  7080      4          5026   0.079586   \n",
       "2  0003d89c00208d55887fec4a95f58ac8  7123      5          5026   0.099483   \n",
       "3  0003d89c00208d55887fec4a95f58ac8  7127      5          5026   0.099483   \n",
       "4  0003d89c00208d55887fec4a95f58ac8  7296     36          5026   0.716275   \n",
       "\n",
       "   VALUE                                           EVT_NAME  \\\n",
       "0   7017  Columbia Plateau Western Juniper Woodland and ...   \n",
       "1   7080      Inter-Mountain Basins Big Sagebrush Shrubland   \n",
       "2   7123              Columbia Plateau Steppe and Grassland   \n",
       "3   7127     Inter-Mountain Basins Semi-Desert Shrub-Steppe   \n",
       "4   7296                            Developed-Low Intensity   \n",
       "\n",
       "                  EVT_PHYS                            EVT_GP_N  \\\n",
       "0                  Conifer        Juniper Woodland and Savanna   \n",
       "1                Shrubland  Big Sagebrush Shrubland and Steppe   \n",
       "2                Grassland                Grassland and Steppe   \n",
       "3                Shrubland                        Desert Scrub   \n",
       "4  Developed-Low Intensity             Developed-Low Intensity   \n",
       "\n",
       "                 EVT_CLASS  \n",
       "0         Open tree canopy  \n",
       "1                Shrubland  \n",
       "2  Herbaceous-shrub-steppe  \n",
       "3                Shrubland  \n",
       "4     No Dominant Lifeform  "
      ]
     },
     "execution_count": 18,
     "metadata": {},
     "output_type": "execute_result"
    }
   ],
   "source": [
    "# Subset the codes we want to join, join back to the dataframe\n",
    "lookup = lookup[['VALUE','EVT_NAME','EVT_PHYS','EVT_GP_N','EVT_CLASS']]\n",
    "# Merge back to the data\n",
    "props_df = sampled.merge(lookup, left_on='evt', right_on='VALUE', how='left')\n",
    "props_df.head()"
   ]
  },
  {
   "cell_type": "code",
   "execution_count": 19,
   "id": "5fcaa4f9-6b31-4b11-804a-a6a0543a3821",
   "metadata": {},
   "outputs": [
    {
     "name": "stdout",
     "output_type": "stream",
     "text": [
      "There are [10430] unique fires in the sampled data.\n",
      "\t[36790] individual daily perimeters.\n"
     ]
    }
   ],
   "source": [
    "# retrieve the FIRED_ID from the original dataframe\n",
    "props_df = props_df.merge(daily[['id','did']], left_on='did', right_on='did', how='left')\n",
    "print(f\"There are [{len(props_df['id'].unique())}] unique fires in the sampled data.\\n\\t[{len(props_df['did'].unique())}] individual daily perimeters.\")"
   ]
  },
  {
   "cell_type": "code",
   "execution_count": 20,
   "id": "debf5cae-6ad4-4bf1-bb40-3359c1af54a3",
   "metadata": {},
   "outputs": [
    {
     "data": {
      "text/plain": [
       "Index(['did', 'evt', 'count', 'total_pixels', 'pct_cover', 'VALUE', 'EVT_NAME',\n",
       "       'EVT_PHYS', 'EVT_GP_N', 'EVT_CLASS', 'id'],\n",
       "      dtype='object')"
      ]
     },
     "execution_count": 20,
     "metadata": {},
     "output_type": "execute_result"
    }
   ],
   "source": [
    "props_df.columns"
   ]
  },
  {
   "cell_type": "code",
   "execution_count": 21,
   "id": "671af52b-9e0c-43e1-8cfa-822987dc26b9",
   "metadata": {},
   "outputs": [],
   "source": [
    "props_df = props_df[['id', 'did', 'evt', 'count', 'total_pixels', 'pct_cover', \n",
    "                     'EVT_NAME', 'EVT_PHYS', 'EVT_GP_N', 'EVT_CLASS']]"
   ]
  },
  {
   "cell_type": "code",
   "execution_count": 22,
   "id": "f9473057-b4b3-4152-a297-28d864c0646e",
   "metadata": {},
   "outputs": [
    {
     "name": "stdout",
     "output_type": "stream",
     "text": [
      "Saved to /Users/max/Library/CloudStorage/OneDrive-Personal/mcook/aspen-fire/Aim2/data/tabular/mod/EVT/fired-daily_west_2018_to_2023-EVT.csv\n"
     ]
    }
   ],
   "source": [
    "# Save the file out.\n",
    "out_fp = os.path.join(results_dir, 'fired-daily_west_2018_to_2023-EVT.csv')\n",
    "props_df.to_csv(out_fp)\n",
    "print(f\"Saved to {out_fp}\")"
   ]
  },
  {
   "cell_type": "code",
   "execution_count": 23,
   "id": "172ad7de-58ff-422e-83d4-ede5cc36c4de",
   "metadata": {},
   "outputs": [
    {
     "data": {
      "text/plain": [
       "0"
      ]
     },
     "execution_count": 23,
     "metadata": {},
     "output_type": "execute_result"
    }
   ],
   "source": [
    "del sampled, props_df, daily\n",
    "gc.collect()"
   ]
  },
  {
   "cell_type": "code",
   "execution_count": null,
   "id": "e9864048-3328-4ed0-ac8d-dd341f5fb865",
   "metadata": {},
   "outputs": [],
   "source": []
  },
  {
   "cell_type": "code",
   "execution_count": 24,
   "id": "bc6e6ab3-c9fc-4076-ab4d-60febfdf9c35",
   "metadata": {},
   "outputs": [],
   "source": [
    "# Calculate event-level EVT proportions"
   ]
  },
  {
   "cell_type": "code",
   "execution_count": null,
   "id": "16c74814-89db-49b8-a0a7-b560fbc9657d",
   "metadata": {},
   "outputs": [],
   "source": []
  },
  {
   "cell_type": "code",
   "execution_count": 25,
   "id": "a67a9169-2357-43bb-b08d-fd5052f31dbe",
   "metadata": {},
   "outputs": [
    {
     "data": {
      "text/plain": [
       "Index(['id', 'ig_date', 'ig_day', 'ig_month', 'ig_year', 'last_date',\n",
       "       'event_dur', 'tot_pix', 'tot_ar_km2', 'fsr_px_dy', 'fsr_km2_dy',\n",
       "       'mx_grw_px', 'mx_grw_km2', 'mx_grw_dte', 'ig_utm_x', 'ig_utm_y',\n",
       "       'na_l3name', 'geometry'],\n",
       "      dtype='object')"
      ]
     },
     "execution_count": 25,
     "metadata": {},
     "output_type": "execute_result"
    }
   ],
   "source": [
    "# Load the FIRED perimeters (2012-2023)\n",
    "events_fp = os.path.join(projdir,'data/spatial/raw/FIRED/fired-events_west_2012_to_2023.gpkg')\n",
    "# events_fp = os.path.join(dest, 'fired-events_west_2012_to_2023.gpkg') # cyverse\n",
    "events = gpd.read_file(events_fp)\n",
    "events = events[events['ig_year'] >= 2018] # Work with 2018-> (for Sentinel)\n",
    "events = events.to_crs(proj) # ensure albers projection\n",
    "events.columns"
   ]
  },
  {
   "cell_type": "code",
   "execution_count": 26,
   "id": "72ae841c-17c5-4ef3-bd01-5a319f275758",
   "metadata": {},
   "outputs": [
    {
     "name": "stdout",
     "output_type": "stream",
     "text": [
      "Buffered by 1.0 pixel(s).\n"
     ]
    }
   ],
   "source": [
    "# Add a one pixel buffer to the daily perimeters ()\n",
    "n_pixels = 500  # meters\n",
    "events_ = events.copy() # make a copy of the original data\n",
    "events_['geometry'] = events_['geometry'].buffer(n_pixels)\n",
    "print(f\"Buffered by {n_pixels/500} pixel(s).\")"
   ]
  },
  {
   "cell_type": "code",
   "execution_count": 27,
   "id": "5810b254-90fc-40de-a27d-2db738cd7506",
   "metadata": {},
   "outputs": [
    {
     "name": "stdout",
     "output_type": "stream",
     "text": [
      "Total elapsed time: 1.07 minutes.\n",
      "\n",
      "~~~~~~~~~~\n",
      "\n"
     ]
    }
   ],
   "source": [
    "t0 = time.time()\n",
    "\n",
    "sampled = compute_band_stats(events_, evt_da_crop, 'id')\n",
    "\n",
    "t1 = (time.time() - t0) / 60\n",
    "print(f\"Total elapsed time: {t1:.2f} minutes.\")\n",
    "print(\"\\n~~~~~~~~~~\\n\")"
   ]
  },
  {
   "cell_type": "code",
   "execution_count": 28,
   "id": "0c9d7e79-48ff-4267-9589-54c1b1b27c99",
   "metadata": {},
   "outputs": [
    {
     "data": {
      "text/html": [
       "<div>\n",
       "<style scoped>\n",
       "    .dataframe tbody tr th:only-of-type {\n",
       "        vertical-align: middle;\n",
       "    }\n",
       "\n",
       "    .dataframe tbody tr th {\n",
       "        vertical-align: top;\n",
       "    }\n",
       "\n",
       "    .dataframe thead th {\n",
       "        text-align: right;\n",
       "    }\n",
       "</style>\n",
       "<table border=\"1\" class=\"dataframe\">\n",
       "  <thead>\n",
       "    <tr style=\"text-align: right;\">\n",
       "      <th></th>\n",
       "      <th>id</th>\n",
       "      <th>evt</th>\n",
       "      <th>count</th>\n",
       "      <th>total_pixels</th>\n",
       "      <th>pct_cover</th>\n",
       "      <th>VALUE</th>\n",
       "      <th>EVT_NAME</th>\n",
       "      <th>EVT_PHYS</th>\n",
       "      <th>EVT_GP_N</th>\n",
       "      <th>EVT_CLASS</th>\n",
       "    </tr>\n",
       "  </thead>\n",
       "  <tbody>\n",
       "    <tr>\n",
       "      <th>0</th>\n",
       "      <td>10</td>\n",
       "      <td>7035</td>\n",
       "      <td>14</td>\n",
       "      <td>2678</td>\n",
       "      <td>0.522778</td>\n",
       "      <td>7035</td>\n",
       "      <td>North Pacific Dry Douglas-fir-(Madrone) Forest...</td>\n",
       "      <td>Conifer</td>\n",
       "      <td>Douglas-fir Forest and Woodland</td>\n",
       "      <td>Closed tree canopy</td>\n",
       "    </tr>\n",
       "    <tr>\n",
       "      <th>1</th>\n",
       "      <td>10</td>\n",
       "      <td>7037</td>\n",
       "      <td>1263</td>\n",
       "      <td>2678</td>\n",
       "      <td>47.162061</td>\n",
       "      <td>7037</td>\n",
       "      <td>North Pacific Maritime Dry-Mesic Douglas-fir-W...</td>\n",
       "      <td>Conifer</td>\n",
       "      <td>Douglas-fir-Western Hemlock Forest and Woodland</td>\n",
       "      <td>Closed tree canopy</td>\n",
       "    </tr>\n",
       "    <tr>\n",
       "      <th>2</th>\n",
       "      <td>10</td>\n",
       "      <td>7039</td>\n",
       "      <td>690</td>\n",
       "      <td>2678</td>\n",
       "      <td>25.765497</td>\n",
       "      <td>7039</td>\n",
       "      <td>North Pacific Maritime Mesic-Wet Douglas-fir-W...</td>\n",
       "      <td>Conifer</td>\n",
       "      <td>Douglas-fir-Western Hemlock Forest and Woodland</td>\n",
       "      <td>Closed tree canopy</td>\n",
       "    </tr>\n",
       "    <tr>\n",
       "      <th>3</th>\n",
       "      <td>10</td>\n",
       "      <td>7043</td>\n",
       "      <td>562</td>\n",
       "      <td>2678</td>\n",
       "      <td>20.985810</td>\n",
       "      <td>7043</td>\n",
       "      <td>Mediterranean California Mixed Evergreen Forest</td>\n",
       "      <td>Conifer</td>\n",
       "      <td>California Mixed Evergreen Forest and Woodland</td>\n",
       "      <td>Closed tree canopy</td>\n",
       "    </tr>\n",
       "    <tr>\n",
       "      <th>4</th>\n",
       "      <td>10</td>\n",
       "      <td>7063</td>\n",
       "      <td>36</td>\n",
       "      <td>2678</td>\n",
       "      <td>1.344287</td>\n",
       "      <td>7063</td>\n",
       "      <td>North Pacific Broadleaf Landslide Forest</td>\n",
       "      <td>Hardwood</td>\n",
       "      <td>Red Alder Forest and Woodland</td>\n",
       "      <td>Closed tree canopy</td>\n",
       "    </tr>\n",
       "  </tbody>\n",
       "</table>\n",
       "</div>"
      ],
      "text/plain": [
       "   id   evt  count  total_pixels  pct_cover  VALUE  \\\n",
       "0  10  7035     14          2678   0.522778   7035   \n",
       "1  10  7037   1263          2678  47.162061   7037   \n",
       "2  10  7039    690          2678  25.765497   7039   \n",
       "3  10  7043    562          2678  20.985810   7043   \n",
       "4  10  7063     36          2678   1.344287   7063   \n",
       "\n",
       "                                            EVT_NAME  EVT_PHYS  \\\n",
       "0  North Pacific Dry Douglas-fir-(Madrone) Forest...   Conifer   \n",
       "1  North Pacific Maritime Dry-Mesic Douglas-fir-W...   Conifer   \n",
       "2  North Pacific Maritime Mesic-Wet Douglas-fir-W...   Conifer   \n",
       "3    Mediterranean California Mixed Evergreen Forest   Conifer   \n",
       "4           North Pacific Broadleaf Landslide Forest  Hardwood   \n",
       "\n",
       "                                          EVT_GP_N           EVT_CLASS  \n",
       "0                  Douglas-fir Forest and Woodland  Closed tree canopy  \n",
       "1  Douglas-fir-Western Hemlock Forest and Woodland  Closed tree canopy  \n",
       "2  Douglas-fir-Western Hemlock Forest and Woodland  Closed tree canopy  \n",
       "3   California Mixed Evergreen Forest and Woodland  Closed tree canopy  \n",
       "4                    Red Alder Forest and Woodland  Closed tree canopy  "
      ]
     },
     "execution_count": 28,
     "metadata": {},
     "output_type": "execute_result"
    }
   ],
   "source": [
    "props_df = sampled.merge(lookup, left_on='evt', right_on='VALUE', how='left')\n",
    "props_df.head()"
   ]
  },
  {
   "cell_type": "code",
   "execution_count": 29,
   "id": "75874e0d-3f3c-462b-9222-ae56d169e3b1",
   "metadata": {},
   "outputs": [
    {
     "data": {
      "text/plain": [
       "Index(['id', 'evt', 'count', 'total_pixels', 'pct_cover', 'VALUE', 'EVT_NAME',\n",
       "       'EVT_PHYS', 'EVT_GP_N', 'EVT_CLASS'],\n",
       "      dtype='object')"
      ]
     },
     "execution_count": 29,
     "metadata": {},
     "output_type": "execute_result"
    }
   ],
   "source": [
    "props_df.columns"
   ]
  },
  {
   "cell_type": "code",
   "execution_count": 30,
   "id": "92bcd41a-bcff-481b-9100-9125855a7bfd",
   "metadata": {},
   "outputs": [],
   "source": [
    "props_df = props_df[['id', 'evt', 'count', 'total_pixels', 'pct_cover', \n",
    "                     'EVT_NAME', 'EVT_PHYS', 'EVT_GP_N', 'EVT_CLASS']]"
   ]
  },
  {
   "cell_type": "code",
   "execution_count": 31,
   "id": "c65957a7-b6c6-4471-a160-1e20a1f4d8de",
   "metadata": {},
   "outputs": [
    {
     "name": "stdout",
     "output_type": "stream",
     "text": [
      "Saved to /Users/max/Library/CloudStorage/OneDrive-Personal/mcook/aspen-fire/Aim2/data/tabular/mod/EVT/fired-events_west_2018_to_2023-EVT.csv\n"
     ]
    }
   ],
   "source": [
    "# Save the files out.\n",
    "out_fp = os.path.join(results_dir, 'fired-events_west_2018_to_2023-EVT.csv')\n",
    "props_df.to_csv(out_fp)\n",
    "print(f\"Saved to {out_fp}\")"
   ]
  },
  {
   "cell_type": "code",
   "execution_count": 32,
   "id": "c814c672-0c95-40b8-b593-efe6ba291879",
   "metadata": {},
   "outputs": [
    {
     "data": {
      "text/plain": [
       "0"
      ]
     },
     "execution_count": 32,
     "metadata": {},
     "output_type": "execute_result"
    }
   ],
   "source": [
    "del sampled, props_df # clean up\n",
    "gc.collect()"
   ]
  },
  {
   "cell_type": "code",
   "execution_count": null,
   "id": "8e8d3aa6-c59b-4cb0-a4c5-a8146b306f19",
   "metadata": {},
   "outputs": [],
   "source": []
  },
  {
   "cell_type": "code",
   "execution_count": null,
   "id": "0c751caa-2d4b-4daf-be00-a50267e2ab23",
   "metadata": {},
   "outputs": [],
   "source": []
  },
  {
   "cell_type": "code",
   "execution_count": 33,
   "id": "9fc86040-336c-4866-b286-269c5162b625",
   "metadata": {},
   "outputs": [],
   "source": [
    "# Compare with a more broad scale approach (event summary within 3km bounds)"
   ]
  },
  {
   "cell_type": "code",
   "execution_count": null,
   "id": "96b7f17d-6502-48d6-bcd1-d28ca1d09cfd",
   "metadata": {},
   "outputs": [],
   "source": []
  },
  {
   "cell_type": "code",
   "execution_count": 36,
   "id": "4e3d4f8e-98d5-4367-a64a-54d8042225c7",
   "metadata": {},
   "outputs": [
    {
     "name": "stdout",
     "output_type": "stream",
     "text": [
      "Saved bounds to /Users/max/Library/CloudStorage/OneDrive-Personal/mcook/aspen-fire/Aim2/data/spatial/mod/FIRED/fired-events_west_2018_to_2023.gpkg\n"
     ]
    }
   ],
   "source": [
    "# Create new geometry (bounds) with 1km buffer\n",
    "bounds = create_bounds(events, buffer=3000)\n",
    "bounds = bounds[['id','geometry']] # keep it simple\n",
    "bounds = bounds.set_crs(proj, allow_override=True) # ensure correct crs\n",
    "out_fp = os.path.join(projdir,'data/spatial/mod/FIRED/fired-events_west_2018_to_2023.gpkg')\n",
    "bounds.to_file(out_fp)\n",
    "print(f\"Saved bounds to {out_fp}\")"
   ]
  },
  {
   "cell_type": "code",
   "execution_count": 37,
   "id": "d74e5951-27bc-4b10-a21f-341dee042208",
   "metadata": {},
   "outputs": [
    {
     "name": "stdout",
     "output_type": "stream",
     "text": [
      "Total elapsed time: 1.49 minutes.\n",
      "\n",
      "~~~~~~~~~~\n",
      "\n"
     ]
    }
   ],
   "source": [
    "t0 = time.time()\n",
    "\n",
    "sampled = compute_band_stats(bounds, evt_da_crop, 'id')\n",
    "\n",
    "t1 = (time.time() - t0) / 60\n",
    "print(f\"Total elapsed time: {t1:.2f} minutes.\")\n",
    "print(\"\\n~~~~~~~~~~\\n\")"
   ]
  },
  {
   "cell_type": "code",
   "execution_count": 38,
   "id": "c651ed88-7c99-4a01-a1ec-fd402cbe4b96",
   "metadata": {},
   "outputs": [
    {
     "data": {
      "text/html": [
       "<div>\n",
       "<style scoped>\n",
       "    .dataframe tbody tr th:only-of-type {\n",
       "        vertical-align: middle;\n",
       "    }\n",
       "\n",
       "    .dataframe tbody tr th {\n",
       "        vertical-align: top;\n",
       "    }\n",
       "\n",
       "    .dataframe thead th {\n",
       "        text-align: right;\n",
       "    }\n",
       "</style>\n",
       "<table border=\"1\" class=\"dataframe\">\n",
       "  <thead>\n",
       "    <tr style=\"text-align: right;\">\n",
       "      <th></th>\n",
       "      <th>id</th>\n",
       "      <th>evt</th>\n",
       "      <th>count</th>\n",
       "      <th>total_pixels</th>\n",
       "      <th>pct_cover</th>\n",
       "    </tr>\n",
       "  </thead>\n",
       "  <tbody>\n",
       "    <tr>\n",
       "      <th>0</th>\n",
       "      <td>10</td>\n",
       "      <td>7008</td>\n",
       "      <td>21</td>\n",
       "      <td>44300</td>\n",
       "      <td>0.047404</td>\n",
       "    </tr>\n",
       "    <tr>\n",
       "      <th>1</th>\n",
       "      <td>10</td>\n",
       "      <td>7035</td>\n",
       "      <td>710</td>\n",
       "      <td>44300</td>\n",
       "      <td>1.602709</td>\n",
       "    </tr>\n",
       "    <tr>\n",
       "      <th>2</th>\n",
       "      <td>10</td>\n",
       "      <td>7037</td>\n",
       "      <td>20936</td>\n",
       "      <td>44300</td>\n",
       "      <td>47.259594</td>\n",
       "    </tr>\n",
       "    <tr>\n",
       "      <th>3</th>\n",
       "      <td>10</td>\n",
       "      <td>7039</td>\n",
       "      <td>12813</td>\n",
       "      <td>44300</td>\n",
       "      <td>28.923251</td>\n",
       "    </tr>\n",
       "    <tr>\n",
       "      <th>4</th>\n",
       "      <td>10</td>\n",
       "      <td>7043</td>\n",
       "      <td>7282</td>\n",
       "      <td>44300</td>\n",
       "      <td>16.437923</td>\n",
       "    </tr>\n",
       "  </tbody>\n",
       "</table>\n",
       "</div>"
      ],
      "text/plain": [
       "   id   evt  count  total_pixels  pct_cover\n",
       "0  10  7008     21         44300   0.047404\n",
       "1  10  7035    710         44300   1.602709\n",
       "2  10  7037  20936         44300  47.259594\n",
       "3  10  7039  12813         44300  28.923251\n",
       "4  10  7043   7282         44300  16.437923"
      ]
     },
     "execution_count": 38,
     "metadata": {},
     "output_type": "execute_result"
    }
   ],
   "source": [
    "sampled.head()"
   ]
  },
  {
   "cell_type": "code",
   "execution_count": 39,
   "id": "cef1608f-a575-4308-81f2-c8ac5c37efcd",
   "metadata": {},
   "outputs": [
    {
     "data": {
      "text/html": [
       "<div>\n",
       "<style scoped>\n",
       "    .dataframe tbody tr th:only-of-type {\n",
       "        vertical-align: middle;\n",
       "    }\n",
       "\n",
       "    .dataframe tbody tr th {\n",
       "        vertical-align: top;\n",
       "    }\n",
       "\n",
       "    .dataframe thead th {\n",
       "        text-align: right;\n",
       "    }\n",
       "</style>\n",
       "<table border=\"1\" class=\"dataframe\">\n",
       "  <thead>\n",
       "    <tr style=\"text-align: right;\">\n",
       "      <th></th>\n",
       "      <th>id</th>\n",
       "      <th>evt</th>\n",
       "      <th>count</th>\n",
       "      <th>total_pixels</th>\n",
       "      <th>pct_cover</th>\n",
       "      <th>VALUE</th>\n",
       "      <th>EVT_NAME</th>\n",
       "      <th>EVT_PHYS</th>\n",
       "      <th>EVT_GP_N</th>\n",
       "      <th>EVT_CLASS</th>\n",
       "    </tr>\n",
       "  </thead>\n",
       "  <tbody>\n",
       "    <tr>\n",
       "      <th>0</th>\n",
       "      <td>10</td>\n",
       "      <td>7008</td>\n",
       "      <td>21</td>\n",
       "      <td>44300</td>\n",
       "      <td>0.047404</td>\n",
       "      <td>7008</td>\n",
       "      <td>North Pacific Oak Woodland</td>\n",
       "      <td>Hardwood</td>\n",
       "      <td>Western Oak Woodland and Savanna</td>\n",
       "      <td>Open tree canopy</td>\n",
       "    </tr>\n",
       "    <tr>\n",
       "      <th>1</th>\n",
       "      <td>10</td>\n",
       "      <td>7035</td>\n",
       "      <td>710</td>\n",
       "      <td>44300</td>\n",
       "      <td>1.602709</td>\n",
       "      <td>7035</td>\n",
       "      <td>North Pacific Dry Douglas-fir-(Madrone) Forest...</td>\n",
       "      <td>Conifer</td>\n",
       "      <td>Douglas-fir Forest and Woodland</td>\n",
       "      <td>Closed tree canopy</td>\n",
       "    </tr>\n",
       "    <tr>\n",
       "      <th>2</th>\n",
       "      <td>10</td>\n",
       "      <td>7037</td>\n",
       "      <td>20936</td>\n",
       "      <td>44300</td>\n",
       "      <td>47.259594</td>\n",
       "      <td>7037</td>\n",
       "      <td>North Pacific Maritime Dry-Mesic Douglas-fir-W...</td>\n",
       "      <td>Conifer</td>\n",
       "      <td>Douglas-fir-Western Hemlock Forest and Woodland</td>\n",
       "      <td>Closed tree canopy</td>\n",
       "    </tr>\n",
       "    <tr>\n",
       "      <th>3</th>\n",
       "      <td>10</td>\n",
       "      <td>7039</td>\n",
       "      <td>12813</td>\n",
       "      <td>44300</td>\n",
       "      <td>28.923251</td>\n",
       "      <td>7039</td>\n",
       "      <td>North Pacific Maritime Mesic-Wet Douglas-fir-W...</td>\n",
       "      <td>Conifer</td>\n",
       "      <td>Douglas-fir-Western Hemlock Forest and Woodland</td>\n",
       "      <td>Closed tree canopy</td>\n",
       "    </tr>\n",
       "    <tr>\n",
       "      <th>4</th>\n",
       "      <td>10</td>\n",
       "      <td>7043</td>\n",
       "      <td>7282</td>\n",
       "      <td>44300</td>\n",
       "      <td>16.437923</td>\n",
       "      <td>7043</td>\n",
       "      <td>Mediterranean California Mixed Evergreen Forest</td>\n",
       "      <td>Conifer</td>\n",
       "      <td>California Mixed Evergreen Forest and Woodland</td>\n",
       "      <td>Closed tree canopy</td>\n",
       "    </tr>\n",
       "  </tbody>\n",
       "</table>\n",
       "</div>"
      ],
      "text/plain": [
       "   id   evt  count  total_pixels  pct_cover  VALUE  \\\n",
       "0  10  7008     21         44300   0.047404   7008   \n",
       "1  10  7035    710         44300   1.602709   7035   \n",
       "2  10  7037  20936         44300  47.259594   7037   \n",
       "3  10  7039  12813         44300  28.923251   7039   \n",
       "4  10  7043   7282         44300  16.437923   7043   \n",
       "\n",
       "                                            EVT_NAME  EVT_PHYS  \\\n",
       "0                         North Pacific Oak Woodland  Hardwood   \n",
       "1  North Pacific Dry Douglas-fir-(Madrone) Forest...   Conifer   \n",
       "2  North Pacific Maritime Dry-Mesic Douglas-fir-W...   Conifer   \n",
       "3  North Pacific Maritime Mesic-Wet Douglas-fir-W...   Conifer   \n",
       "4    Mediterranean California Mixed Evergreen Forest   Conifer   \n",
       "\n",
       "                                          EVT_GP_N           EVT_CLASS  \n",
       "0                 Western Oak Woodland and Savanna    Open tree canopy  \n",
       "1                  Douglas-fir Forest and Woodland  Closed tree canopy  \n",
       "2  Douglas-fir-Western Hemlock Forest and Woodland  Closed tree canopy  \n",
       "3  Douglas-fir-Western Hemlock Forest and Woodland  Closed tree canopy  \n",
       "4   California Mixed Evergreen Forest and Woodland  Closed tree canopy  "
      ]
     },
     "execution_count": 39,
     "metadata": {},
     "output_type": "execute_result"
    }
   ],
   "source": [
    "props_df_3k = sampled.merge(lookup, left_on='evt', right_on='VALUE', how='left')\n",
    "props_df_3k.head()"
   ]
  },
  {
   "cell_type": "code",
   "execution_count": 40,
   "id": "645cb0a0-3188-45ea-89bc-fc28371b3179",
   "metadata": {},
   "outputs": [
    {
     "name": "stdout",
     "output_type": "stream",
     "text": [
      "Saved to /Users/max/Library/CloudStorage/OneDrive-Personal/mcook/aspen-fire/Aim2/data/tabular/mod/EVT/fired-events_west_2012_to_2023-EVT-3km.csv\n"
     ]
    }
   ],
   "source": [
    "# Save the file.\n",
    "out_fp = os.path.join(results_dir, 'fired-events_west_2012_to_2023-EVT-3km.csv')\n",
    "props_df_3k.to_csv(out_fp)\n",
    "print(f\"Saved to {out_fp}\")"
   ]
  },
  {
   "cell_type": "code",
   "execution_count": null,
   "id": "67273615-2151-4d12-ab8f-a47f13cebc58",
   "metadata": {},
   "outputs": [],
   "source": []
  },
  {
   "cell_type": "code",
   "execution_count": 41,
   "id": "e96180f4-18df-4a36-874a-2a599c466d46",
   "metadata": {},
   "outputs": [
    {
     "data": {
      "text/plain": [
       "0"
      ]
     },
     "execution_count": 41,
     "metadata": {},
     "output_type": "execute_result"
    }
   ],
   "source": [
    "del lookup, sampled, props_df_3k\n",
    "gc.collect()"
   ]
  },
  {
   "cell_type": "code",
   "execution_count": null,
   "id": "41b85319-68dc-4899-b7ed-977424bd8ee1",
   "metadata": {},
   "outputs": [],
   "source": []
  },
  {
   "cell_type": "code",
   "execution_count": null,
   "id": "fa00b9e0-7a8f-4c9a-b63e-6814133ac286",
   "metadata": {},
   "outputs": [],
   "source": []
  },
  {
   "cell_type": "code",
   "execution_count": null,
   "id": "6c0803c3-8423-4f67-bdd0-10047c74e90c",
   "metadata": {},
   "outputs": [],
   "source": [
    "# Make some plots!"
   ]
  },
  {
   "cell_type": "code",
   "execution_count": null,
   "id": "7823843d-51db-46db-9df4-4bfaec11f967",
   "metadata": {},
   "outputs": [],
   "source": []
  },
  {
   "cell_type": "code",
   "execution_count": 45,
   "id": "a04d6b54-dfd0-4e0a-83bd-2f2eb0a393c9",
   "metadata": {},
   "outputs": [
    {
     "data": {
      "text/plain": [
       "Index(['Unnamed: 0', 'id', 'evt', 'count', 'total_pixels', 'pct_cover',\n",
       "       'EVT_NAME', 'EVT_PHYS', 'EVT_GP_N', 'EVT_CLASS'],\n",
       "      dtype='object')"
      ]
     },
     "execution_count": 45,
     "metadata": {},
     "output_type": "execute_result"
    }
   ],
   "source": [
    "event_evt_fp = os.path.join(results_dir, 'fired-events_west_2018_to_2023-EVT.csv')\n",
    "event_evt = pd.read_csv(event_evt_fp)\n",
    "event_evt.columns"
   ]
  },
  {
   "cell_type": "code",
   "execution_count": 46,
   "id": "583a5ea2-daec-448e-b6b7-1a5201c9f86b",
   "metadata": {},
   "outputs": [
    {
     "data": {
      "text/html": [
       "<div>\n",
       "<style scoped>\n",
       "    .dataframe tbody tr th:only-of-type {\n",
       "        vertical-align: middle;\n",
       "    }\n",
       "\n",
       "    .dataframe tbody tr th {\n",
       "        vertical-align: top;\n",
       "    }\n",
       "\n",
       "    .dataframe thead th {\n",
       "        text-align: right;\n",
       "    }\n",
       "</style>\n",
       "<table border=\"1\" class=\"dataframe\">\n",
       "  <thead>\n",
       "    <tr style=\"text-align: right;\">\n",
       "      <th></th>\n",
       "      <th>id</th>\n",
       "      <th>ig_date</th>\n",
       "      <th>ig_day</th>\n",
       "      <th>ig_month</th>\n",
       "      <th>ig_year</th>\n",
       "      <th>last_date</th>\n",
       "      <th>event_dur</th>\n",
       "      <th>tot_pix</th>\n",
       "      <th>tot_ar_km2</th>\n",
       "      <th>fsr_px_dy</th>\n",
       "      <th>...</th>\n",
       "      <th>na_l3name</th>\n",
       "      <th>geometry</th>\n",
       "      <th>evt</th>\n",
       "      <th>count</th>\n",
       "      <th>total_pixels</th>\n",
       "      <th>pct_cover</th>\n",
       "      <th>EVT_NAME</th>\n",
       "      <th>EVT_PHYS</th>\n",
       "      <th>EVT_GP_N</th>\n",
       "      <th>EVT_CLASS</th>\n",
       "    </tr>\n",
       "  </thead>\n",
       "  <tbody>\n",
       "    <tr>\n",
       "      <th>0</th>\n",
       "      <td>10</td>\n",
       "      <td>2018-10-22</td>\n",
       "      <td>295</td>\n",
       "      <td>10</td>\n",
       "      <td>2018</td>\n",
       "      <td>2018-10-22</td>\n",
       "      <td>1</td>\n",
       "      <td>1</td>\n",
       "      <td>0.214659</td>\n",
       "      <td>1.0</td>\n",
       "      <td>...</td>\n",
       "      <td>Coast Range</td>\n",
       "      <td>MULTIPOLYGON (((-2203843.968 2576124.568, -220...</td>\n",
       "      <td>7035</td>\n",
       "      <td>14</td>\n",
       "      <td>2678</td>\n",
       "      <td>0.522778</td>\n",
       "      <td>North Pacific Dry Douglas-fir-(Madrone) Forest...</td>\n",
       "      <td>Conifer</td>\n",
       "      <td>Douglas-fir Forest and Woodland</td>\n",
       "      <td>Closed tree canopy</td>\n",
       "    </tr>\n",
       "    <tr>\n",
       "      <th>1</th>\n",
       "      <td>10</td>\n",
       "      <td>2018-10-22</td>\n",
       "      <td>295</td>\n",
       "      <td>10</td>\n",
       "      <td>2018</td>\n",
       "      <td>2018-10-22</td>\n",
       "      <td>1</td>\n",
       "      <td>1</td>\n",
       "      <td>0.214659</td>\n",
       "      <td>1.0</td>\n",
       "      <td>...</td>\n",
       "      <td>Coast Range</td>\n",
       "      <td>MULTIPOLYGON (((-2203843.968 2576124.568, -220...</td>\n",
       "      <td>7037</td>\n",
       "      <td>1263</td>\n",
       "      <td>2678</td>\n",
       "      <td>47.162061</td>\n",
       "      <td>North Pacific Maritime Dry-Mesic Douglas-fir-W...</td>\n",
       "      <td>Conifer</td>\n",
       "      <td>Douglas-fir-Western Hemlock Forest and Woodland</td>\n",
       "      <td>Closed tree canopy</td>\n",
       "    </tr>\n",
       "    <tr>\n",
       "      <th>2</th>\n",
       "      <td>10</td>\n",
       "      <td>2018-10-22</td>\n",
       "      <td>295</td>\n",
       "      <td>10</td>\n",
       "      <td>2018</td>\n",
       "      <td>2018-10-22</td>\n",
       "      <td>1</td>\n",
       "      <td>1</td>\n",
       "      <td>0.214659</td>\n",
       "      <td>1.0</td>\n",
       "      <td>...</td>\n",
       "      <td>Coast Range</td>\n",
       "      <td>MULTIPOLYGON (((-2203843.968 2576124.568, -220...</td>\n",
       "      <td>7039</td>\n",
       "      <td>690</td>\n",
       "      <td>2678</td>\n",
       "      <td>25.765497</td>\n",
       "      <td>North Pacific Maritime Mesic-Wet Douglas-fir-W...</td>\n",
       "      <td>Conifer</td>\n",
       "      <td>Douglas-fir-Western Hemlock Forest and Woodland</td>\n",
       "      <td>Closed tree canopy</td>\n",
       "    </tr>\n",
       "    <tr>\n",
       "      <th>3</th>\n",
       "      <td>10</td>\n",
       "      <td>2018-10-22</td>\n",
       "      <td>295</td>\n",
       "      <td>10</td>\n",
       "      <td>2018</td>\n",
       "      <td>2018-10-22</td>\n",
       "      <td>1</td>\n",
       "      <td>1</td>\n",
       "      <td>0.214659</td>\n",
       "      <td>1.0</td>\n",
       "      <td>...</td>\n",
       "      <td>Coast Range</td>\n",
       "      <td>MULTIPOLYGON (((-2203843.968 2576124.568, -220...</td>\n",
       "      <td>7043</td>\n",
       "      <td>562</td>\n",
       "      <td>2678</td>\n",
       "      <td>20.985810</td>\n",
       "      <td>Mediterranean California Mixed Evergreen Forest</td>\n",
       "      <td>Conifer</td>\n",
       "      <td>California Mixed Evergreen Forest and Woodland</td>\n",
       "      <td>Closed tree canopy</td>\n",
       "    </tr>\n",
       "    <tr>\n",
       "      <th>4</th>\n",
       "      <td>10</td>\n",
       "      <td>2018-10-22</td>\n",
       "      <td>295</td>\n",
       "      <td>10</td>\n",
       "      <td>2018</td>\n",
       "      <td>2018-10-22</td>\n",
       "      <td>1</td>\n",
       "      <td>1</td>\n",
       "      <td>0.214659</td>\n",
       "      <td>1.0</td>\n",
       "      <td>...</td>\n",
       "      <td>Coast Range</td>\n",
       "      <td>MULTIPOLYGON (((-2203843.968 2576124.568, -220...</td>\n",
       "      <td>7063</td>\n",
       "      <td>36</td>\n",
       "      <td>2678</td>\n",
       "      <td>1.344287</td>\n",
       "      <td>North Pacific Broadleaf Landslide Forest</td>\n",
       "      <td>Hardwood</td>\n",
       "      <td>Red Alder Forest and Woodland</td>\n",
       "      <td>Closed tree canopy</td>\n",
       "    </tr>\n",
       "  </tbody>\n",
       "</table>\n",
       "<p>5 rows × 26 columns</p>\n",
       "</div>"
      ],
      "text/plain": [
       "   id    ig_date ig_day  ig_month  ig_year  last_date  event_dur  tot_pix  \\\n",
       "0  10 2018-10-22    295        10     2018 2018-10-22          1        1   \n",
       "1  10 2018-10-22    295        10     2018 2018-10-22          1        1   \n",
       "2  10 2018-10-22    295        10     2018 2018-10-22          1        1   \n",
       "3  10 2018-10-22    295        10     2018 2018-10-22          1        1   \n",
       "4  10 2018-10-22    295        10     2018 2018-10-22          1        1   \n",
       "\n",
       "   tot_ar_km2  fsr_px_dy  ...    na_l3name  \\\n",
       "0    0.214659        1.0  ...  Coast Range   \n",
       "1    0.214659        1.0  ...  Coast Range   \n",
       "2    0.214659        1.0  ...  Coast Range   \n",
       "3    0.214659        1.0  ...  Coast Range   \n",
       "4    0.214659        1.0  ...  Coast Range   \n",
       "\n",
       "                                            geometry   evt count  \\\n",
       "0  MULTIPOLYGON (((-2203843.968 2576124.568, -220...  7035    14   \n",
       "1  MULTIPOLYGON (((-2203843.968 2576124.568, -220...  7037  1263   \n",
       "2  MULTIPOLYGON (((-2203843.968 2576124.568, -220...  7039   690   \n",
       "3  MULTIPOLYGON (((-2203843.968 2576124.568, -220...  7043   562   \n",
       "4  MULTIPOLYGON (((-2203843.968 2576124.568, -220...  7063    36   \n",
       "\n",
       "   total_pixels  pct_cover                                           EVT_NAME  \\\n",
       "0          2678   0.522778  North Pacific Dry Douglas-fir-(Madrone) Forest...   \n",
       "1          2678  47.162061  North Pacific Maritime Dry-Mesic Douglas-fir-W...   \n",
       "2          2678  25.765497  North Pacific Maritime Mesic-Wet Douglas-fir-W...   \n",
       "3          2678  20.985810    Mediterranean California Mixed Evergreen Forest   \n",
       "4          2678   1.344287           North Pacific Broadleaf Landslide Forest   \n",
       "\n",
       "   EVT_PHYS                                         EVT_GP_N  \\\n",
       "0   Conifer                  Douglas-fir Forest and Woodland   \n",
       "1   Conifer  Douglas-fir-Western Hemlock Forest and Woodland   \n",
       "2   Conifer  Douglas-fir-Western Hemlock Forest and Woodland   \n",
       "3   Conifer   California Mixed Evergreen Forest and Woodland   \n",
       "4  Hardwood                    Red Alder Forest and Woodland   \n",
       "\n",
       "            EVT_CLASS  \n",
       "0  Closed tree canopy  \n",
       "1  Closed tree canopy  \n",
       "2  Closed tree canopy  \n",
       "3  Closed tree canopy  \n",
       "4  Closed tree canopy  \n",
       "\n",
       "[5 rows x 26 columns]"
      ]
     },
     "execution_count": 46,
     "metadata": {},
     "output_type": "execute_result"
    }
   ],
   "source": [
    "cols = ['id', 'evt', 'count', 'total_pixels', 'pct_cover',\n",
    "        'EVT_NAME', 'EVT_PHYS', 'EVT_GP_N', 'EVT_CLASS']\n",
    "event_evt = event_evt[cols]\n",
    "event_evt = pd.merge(events, event_evt, left_on='id', right_on='id', how='right')\n",
    "event_evt.head()"
   ]
  },
  {
   "cell_type": "code",
   "execution_count": 53,
   "id": "e0a24b5a-5e4c-4e1a-ba82-fee80ddefc2e",
   "metadata": {},
   "outputs": [
    {
     "data": {
      "image/png": "[encoded data removed]",
      "text/plain": [
       "<Figure size 800x600 with 1 Axes>"
      ]
     },
     "metadata": {},
     "output_type": "display_data"
    }
   ],
   "source": [
    "# Aggregate total burned area by ecoregion\n",
    "lc_burned_area = event_evt.groupby('EVT_CLASS')['tot_ar_km2'].sum().reset_index()\n",
    "# Sort the data by total burned area in descending order\n",
    "lc_burned_area = lc_burned_area.sort_values(by='tot_ar_km2', ascending=False)\n",
    "\n",
    "# Plot the bar chart\n",
    "plt.figure(figsize=(8, 6))\n",
    "sns.barplot(x='tot_ar_km2', y='EVT_CLASS', data=lc_burned_area)\n",
    "plt.title('Area Burned by EVT Class (2018-2023)', fontsize=12)\n",
    "plt.xlabel('Area Burned (km²)', fontsize=10)\n",
    "plt.ylabel('EVT Class', fontsize=10)\n",
    "plt.grid(True, axis='x')\n",
    "plt.tight_layout()\n",
    "\n",
    "plt.xscale('log')\n",
    "\n",
    "# Show the plot\n",
    "plt.show()"
   ]
  }
 ],
 "metadata": {
  "kernelspec": {
   "display_name": "aspen-fire",
   "language": "python",
   "name": "aspen-fire"
  },
  "language_info": {
   "codemirror_mode": {
    "name": "ipython",
    "version": 3
   },
   "file_extension": ".py",
   "mimetype": "text/x-python",
   "name": "python",
   "nbconvert_exporter": "python",
   "pygments_lexer": "ipython3",
   "version": "3.10.12"
  }
 },
 "nbformat": 4,
 "nbformat_minor": 5
}
