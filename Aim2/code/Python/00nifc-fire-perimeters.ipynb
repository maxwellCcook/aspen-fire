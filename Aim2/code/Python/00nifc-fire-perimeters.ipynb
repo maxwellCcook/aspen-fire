{
 "cells": [
  {
   "cell_type": "code",
   "execution_count": 1,
   "id": "b0687419-4278-4604-8efa-b9c34a68d9fe",
   "metadata": {},
   "outputs": [
    {
     "name": "stdout",
     "output_type": "stream",
     "text": [
      "Ready to go !\n"
     ]
    }
   ],
   "source": [
    "\"\"\"\n",
    "Identify wildfire events with >= 1% pre-fire aspen forest cover across western U.S. ecoregions\n",
    "\n",
    "Data sources\n",
    "    - Wildfire perimeters: NIFC Interagency Final Wildfire Perimeters\n",
    "    - Landcover: LANDFIRE Existing Vegetation Type (EVT) ca. 2016\n",
    "    \n",
    "Author: maxwell.cook@colorado.edu\n",
    "\"\"\"\n",
    "\n",
    "import os, sys, time, gc\n",
    "import matplotlib\n",
    "import matplotlib.pyplot as plt\n",
    "import seaborn as sns\n",
    "\n",
    "# Custom functions\n",
    "sys.path.append(os.path.join(os.getcwd(),'code/'))\n",
    "from __functions import *\n",
    "\n",
    "proj = 'EPSG:5070'\n",
    "\n",
    "maindir = '/Users/max/Library/CloudStorage/OneDrive-Personal/mcook/'\n",
    "projdir = os.path.join(maindir, 'aspen-fire/Aim2/')\n",
    "\n",
    "# maindir = '/home/jovyan/' # cyverse\n",
    "# projdir = os.path.join(maindir,'data-store/data/iplant/home/maco4303/data/JFSP')\n",
    "\n",
    "print(\"Ready to go !\")"
   ]
  },
  {
   "cell_type": "code",
   "execution_count": 2,
   "id": "6c4906dc-8f22-4c5b-8305-2731fe8e43db",
   "metadata": {},
   "outputs": [
    {
     "name": "stdout",
     "output_type": "stream",
     "text": [
      "Saving EVT summary tables to /Users/max/Library/CloudStorage/OneDrive-Personal/mcook/aspen-fire/Aim2/data/tabular/mod/EVT/\n"
     ]
    }
   ],
   "source": [
    "results_dir = os.path.join(projdir,'data/tabular/mod/EVT/')\n",
    "# results_dir = os.path.join(projdir,'results/') # cyverse\n",
    "if not os.path.exists(results_dir):\n",
    "    os.makedirs(results_dir)\n",
    "print(f\"Saving EVT summary tables to {results_dir}\")"
   ]
  },
  {
   "cell_type": "code",
   "execution_count": null,
   "id": "49a1598d-3900-4641-acde-f2e58465d6fd",
   "metadata": {},
   "outputs": [],
   "source": []
  },
  {
   "cell_type": "code",
   "execution_count": null,
   "id": "75810b4b-89b5-4eed-b023-cafbac3ed82c",
   "metadata": {},
   "outputs": [],
   "source": [
    "# Join to western U.S. ecoregions"
   ]
  },
  {
   "cell_type": "code",
   "execution_count": null,
   "id": "eafd73f0-aa8d-420d-be03-7b93cc87c52f",
   "metadata": {},
   "outputs": [],
   "source": []
  },
  {
   "cell_type": "code",
   "execution_count": 3,
   "id": "1059a21f-5055-4ed7-87dc-89bb7f302f7b",
   "metadata": {},
   "outputs": [
    {
     "data": {
      "text/plain": [
       "Index(['na_l3name', 'geometry'], dtype='object')"
      ]
     },
     "execution_count": 3,
     "metadata": {},
     "output_type": "execute_result"
    }
   ],
   "source": [
    "# Load western U.S. ecoregions\n",
    "fp = os.path.join(projdir,'data/spatial/mod/boundaries/na_cec_eco_l3_west.gpkg')\n",
    "ecol3 = gpd.read_file(fp)\n",
    "ecol3 = ecol3[['NA_L3NAME','geometry']]\n",
    "ecol3 = ecol3.rename(columns={'NA_L3NAME': 'na_l3name'})\n",
    "ecol3.columns"
   ]
  },
  {
   "cell_type": "code",
   "execution_count": 4,
   "id": "25843395-76d2-471d-83d9-dbd3b0f86867",
   "metadata": {},
   "outputs": [
    {
     "name": "stdout",
     "output_type": "stream",
     "text": [
      "There are [18294] NIFC perimeters.\n",
      "Index(['OBJECTID', 'MAP_METHOD', 'DATE_CUR', 'COMMENTS', 'GEO_ID', 'IRWINID',\n",
      "       'UNQE_FIRE_', 'FIRE_YEAR', 'LOCAL_NUM', 'INCIDENT', 'UNIT_ID',\n",
      "       'POO_RESP_I', 'FEATURE_CA', 'GIS_ACRES', 'USER_NAME', 'SOURCE',\n",
      "       'AGENCY', 'FIRE_YEAR_', 'Shape__Are', 'Shape__Len', 'FORID', 'OTHERID',\n",
      "       'geometry'],\n",
      "      dtype='object')\n"
     ]
    }
   ],
   "source": [
    "# Load the NIFC perimeters (2018 to 2023)\n",
    "fp = os.path.join(projdir,'data/spatial/raw/NIFC/nifc-interagency_2018_to_2023.gpkg')\n",
    "events = gpd.read_file(fp)\n",
    "print(f\"There are [{len(events)}] NIFC perimeters.\\n{events.columns}\")"
   ]
  },
  {
   "cell_type": "code",
   "execution_count": 5,
   "id": "a7b7ca4c-53d4-44a7-9209-34c77322f7c8",
   "metadata": {},
   "outputs": [
    {
     "data": {
      "text/html": [
       "<div>\n",
       "<style scoped>\n",
       "    .dataframe tbody tr th:only-of-type {\n",
       "        vertical-align: middle;\n",
       "    }\n",
       "\n",
       "    .dataframe tbody tr th {\n",
       "        vertical-align: top;\n",
       "    }\n",
       "\n",
       "    .dataframe thead th {\n",
       "        text-align: right;\n",
       "    }\n",
       "</style>\n",
       "<table border=\"1\" class=\"dataframe\">\n",
       "  <thead>\n",
       "    <tr style=\"text-align: right;\">\n",
       "      <th></th>\n",
       "      <th>OBJECTID</th>\n",
       "      <th>MAP_METHOD</th>\n",
       "      <th>GEO_ID</th>\n",
       "      <th>IRWINID</th>\n",
       "      <th>FIRE_YEAR</th>\n",
       "      <th>INCIDENT</th>\n",
       "      <th>FEATURE_CA</th>\n",
       "      <th>GIS_ACRES</th>\n",
       "      <th>geometry</th>\n",
       "    </tr>\n",
       "  </thead>\n",
       "  <tbody>\n",
       "    <tr>\n",
       "      <th>0</th>\n",
       "      <td>6</td>\n",
       "      <td>Digitized-Other</td>\n",
       "      <td>{FA48870F-92E7-4828-8F17-048DEFEFFE55}</td>\n",
       "      <td>{49CC991F-B18D-4DD9-9B4B-864926555272}</td>\n",
       "      <td>2018</td>\n",
       "      <td>DEVIL CREEK</td>\n",
       "      <td>Wildfire Final Fire Perimeter</td>\n",
       "      <td>20.46</td>\n",
       "      <td>MULTIPOLYGON (((-981734.624 1646309.303, -9816...</td>\n",
       "    </tr>\n",
       "    <tr>\n",
       "      <th>1</th>\n",
       "      <td>7</td>\n",
       "      <td>GPS - Differentially Corrected Data</td>\n",
       "      <td>{EDE06BB7-1887-4BED-854B-7574B4F50014}</td>\n",
       "      <td>{88801A69-B042-40CA-9011-FAA3C4A12B56}</td>\n",
       "      <td>2021</td>\n",
       "      <td>COLT</td>\n",
       "      <td>Wildfire Final Fire Perimeter</td>\n",
       "      <td>30.42</td>\n",
       "      <td>MULTIPOLYGON (((-1085995.637 1681954.845, -108...</td>\n",
       "    </tr>\n",
       "    <tr>\n",
       "      <th>2</th>\n",
       "      <td>8</td>\n",
       "      <td>Digitized-Other</td>\n",
       "      <td>{F20E18C7-90A3-41DD-99EA-C1F56FA21FEC}</td>\n",
       "      <td>{5918038B-F5F3-4C9F-8616-EE1F92817EB5}</td>\n",
       "      <td>2019</td>\n",
       "      <td>577</td>\n",
       "      <td>Wildfire Final Fire Perimeter</td>\n",
       "      <td>89.31</td>\n",
       "      <td>MULTIPOLYGON (((-1003963.720 1628464.675, -100...</td>\n",
       "    </tr>\n",
       "    <tr>\n",
       "      <th>3</th>\n",
       "      <td>12</td>\n",
       "      <td>GPS - Uncorrected Data</td>\n",
       "      <td>{1B76EFA6-D600-45AF-B38B-F1DDD01BB34A}</td>\n",
       "      <td>{5169A015-72E1-4FAB-8C9D-C3F70B9E568B}</td>\n",
       "      <td>2018</td>\n",
       "      <td>SERVICEBERRY</td>\n",
       "      <td>Wildfire Final Fire Perimeter</td>\n",
       "      <td>41.51</td>\n",
       "      <td>MULTIPOLYGON (((-956104.449 1624552.505, -9560...</td>\n",
       "    </tr>\n",
       "    <tr>\n",
       "      <th>4</th>\n",
       "      <td>14</td>\n",
       "      <td>Infrared Interpretation</td>\n",
       "      <td>{EBF4910E-B7AB-43E8-ACC2-FB33CE5DB020}</td>\n",
       "      <td>{74A8D389-EF55-4C4E-A0A9-49C2495CF697}</td>\n",
       "      <td>2018</td>\n",
       "      <td>416</td>\n",
       "      <td>Wildfire Final Fire Perimeter</td>\n",
       "      <td>54130.98</td>\n",
       "      <td>MULTIPOLYGON (((-1032962.010 1673014.612, -103...</td>\n",
       "    </tr>\n",
       "  </tbody>\n",
       "</table>\n",
       "</div>"
      ],
      "text/plain": [
       "   OBJECTID                           MAP_METHOD  \\\n",
       "0         6                      Digitized-Other   \n",
       "1         7  GPS - Differentially Corrected Data   \n",
       "2         8                      Digitized-Other   \n",
       "3        12               GPS - Uncorrected Data   \n",
       "4        14              Infrared Interpretation   \n",
       "\n",
       "                                   GEO_ID  \\\n",
       "0  {FA48870F-92E7-4828-8F17-048DEFEFFE55}   \n",
       "1  {EDE06BB7-1887-4BED-854B-7574B4F50014}   \n",
       "2  {F20E18C7-90A3-41DD-99EA-C1F56FA21FEC}   \n",
       "3  {1B76EFA6-D600-45AF-B38B-F1DDD01BB34A}   \n",
       "4  {EBF4910E-B7AB-43E8-ACC2-FB33CE5DB020}   \n",
       "\n",
       "                                  IRWINID FIRE_YEAR      INCIDENT  \\\n",
       "0  {49CC991F-B18D-4DD9-9B4B-864926555272}      2018   DEVIL CREEK   \n",
       "1  {88801A69-B042-40CA-9011-FAA3C4A12B56}      2021          COLT   \n",
       "2  {5918038B-F5F3-4C9F-8616-EE1F92817EB5}      2019           577   \n",
       "3  {5169A015-72E1-4FAB-8C9D-C3F70B9E568B}      2018  SERVICEBERRY   \n",
       "4  {74A8D389-EF55-4C4E-A0A9-49C2495CF697}      2018           416   \n",
       "\n",
       "                      FEATURE_CA  GIS_ACRES  \\\n",
       "0  Wildfire Final Fire Perimeter      20.46   \n",
       "1  Wildfire Final Fire Perimeter      30.42   \n",
       "2  Wildfire Final Fire Perimeter      89.31   \n",
       "3  Wildfire Final Fire Perimeter      41.51   \n",
       "4  Wildfire Final Fire Perimeter   54130.98   \n",
       "\n",
       "                                            geometry  \n",
       "0  MULTIPOLYGON (((-981734.624 1646309.303, -9816...  \n",
       "1  MULTIPOLYGON (((-1085995.637 1681954.845, -108...  \n",
       "2  MULTIPOLYGON (((-1003963.720 1628464.675, -100...  \n",
       "3  MULTIPOLYGON (((-956104.449 1624552.505, -9560...  \n",
       "4  MULTIPOLYGON (((-1032962.010 1673014.612, -103...  "
      ]
     },
     "execution_count": 5,
     "metadata": {},
     "output_type": "execute_result"
    }
   ],
   "source": [
    "# Tidy the columns\n",
    "events = events[['OBJECTID','MAP_METHOD','GEO_ID','IRWINID','FIRE_YEAR',\n",
    "                 'INCIDENT','FEATURE_CA','GIS_ACRES','geometry']]\n",
    "events.head()"
   ]
  },
  {
   "cell_type": "code",
   "execution_count": 6,
   "id": "99aa7830-60fd-4670-be8f-4baf0c4d527d",
   "metadata": {},
   "outputs": [],
   "source": [
    "# Extract within western U.S. ecoregions (CONUS)\n",
    "centroids = events.copy()\n",
    "centroids.geometry = centroids.geometry.centroid # use the centroid for joining to ecoregions\n",
    "assert centroids.crs == ecol3.crs, \"CRS mismatch, fix it !\""
   ]
  },
  {
   "cell_type": "code",
   "execution_count": 7,
   "id": "fc7b35bc-0a76-4078-a963-609d98b808eb",
   "metadata": {},
   "outputs": [
    {
     "name": "stdout",
     "output_type": "stream",
     "text": [
      "There are 12263 unique fire events across western U.S. ecoregions in CONUS (2018-2023).\n",
      "Data columns:\n",
      "Index(['OBJECTID', 'MAP_METHOD', 'GEO_ID', 'IRWINID', 'FIRE_YEAR', 'INCIDENT',\n",
      "       'FEATURE_CA', 'GIS_ACRES', 'na_l3name', 'geometry'],\n",
      "      dtype='object')\n"
     ]
    }
   ],
   "source": [
    "# identify the ecoregion using overlay\n",
    "events_west = gpd.overlay(centroids, ecol3, how='intersection') # find overlaps\n",
    "print(f\"There are {len(events_west)} unique fire events across western U.S. ecoregions in CONUS (2018-2023).\")\n",
    "print(f\"Data columns:\\n{events_west.columns}\")"
   ]
  },
  {
   "cell_type": "code",
   "execution_count": 30,
   "id": "a9a73c1d-c3ca-4136-90d1-6ac01223c6b4",
   "metadata": {},
   "outputs": [
    {
     "name": "stdout",
     "output_type": "stream",
     "text": [
      "Geometry set to fire perimeters: ['MultiPolygon']\n"
     ]
    }
   ],
   "source": [
    "# Replace the centroid geometry with the fire perimeter\n",
    "events_west = gpd.GeoDataFrame(\n",
    "    pd.merge(events_west[['OBJECTID','na_l3name']], events, left_on='OBJECTID', right_on='OBJECTID', how=\"left\")\n",
    ")\n",
    "print(f\"Geometry set to fire perimeters: {events_west.geom_type.unique()}\")"
   ]
  },
  {
   "cell_type": "code",
   "execution_count": null,
   "id": "b5f8d55a-2fe2-4204-83fd-16479fb6d2ce",
   "metadata": {},
   "outputs": [],
   "source": [
    "# Calculate zonal statistics from the LANDFIRE EVT"
   ]
  },
  {
   "cell_type": "code",
   "execution_count": null,
   "id": "09410887-e57e-4060-941e-58d8aa4f0881",
   "metadata": {},
   "outputs": [],
   "source": []
  },
  {
   "cell_type": "code",
   "execution_count": 31,
   "id": "292c6ad1-a899-4d6c-bba7-34e1aa7841a6",
   "metadata": {},
   "outputs": [
    {
     "name": "stdout",
     "output_type": "stream",
     "text": [
      "Shape: (97283, 154207); \n",
      "GeoTransform: -2362425.0 30.0 0.0 3177435.0 0.0 -30.0; \n",
      "WKT: EPSG:5070; \n",
      "NoData Value: nan; \n",
      "Data Type: float32\n"
     ]
    },
    {
     "data": {
      "text/plain": [
       "660"
      ]
     },
     "execution_count": 31,
     "metadata": {},
     "output_type": "execute_result"
    }
   ],
   "source": [
    "# Load the LANDFIRE EVT (ca. 2016)\n",
    "evt_fp = os.path.join(maindir,'data/landcover/LANDFIRE/LF2016_EVT_200_CONUS/Tif/LC16_EVT_200.tif')\n",
    "# evt_fp = os.path.join(dest,'LC16_EVT_200.tif') # cyverse\n",
    "\n",
    "evt_da = rxr.open_rasterio(evt_fp, masked=True, cache=False, chunks='auto').squeeze()\n",
    "\n",
    "shp, gt, wkt, nd = evt_da.shape, evt_da.spatial_ref.GeoTransform, evt_da.rio.crs, evt_da.rio.nodata\n",
    "print(\n",
    "    f\"Shape: {shp}; \\n\"\n",
    "    f\"GeoTransform: {gt}; \\n\"\n",
    "    f\"WKT: {wkt}; \\n\"\n",
    "    f\"NoData Value: {nd}; \\n\"\n",
    "    f\"Data Type: {evt_da[0].dtype}\")\n",
    "gc.collect()"
   ]
  },
  {
   "cell_type": "code",
   "execution_count": 32,
   "id": "5ecd87d4-8d37-404f-97ce-34420560171c",
   "metadata": {},
   "outputs": [
    {
     "name": "stdout",
     "output_type": "stream",
     "text": [
      "Buffered fire perimeters by 90 meters.\n"
     ]
    }
   ],
   "source": [
    "# Add a small buffer to wildfire perimeters\n",
    "buffer_dist = 90  # meters\n",
    "events_west_ = events_west.copy() # make a copy of the original data\n",
    "events_west_['geometry'] = events_west_['geometry'].buffer(buffer_dist)\n",
    "print(f\"Buffered fire perimeters by {buffer_dist} meters.\")"
   ]
  },
  {
   "cell_type": "code",
   "execution_count": null,
   "id": "90734ee4-48f8-4aa1-9234-7802a6507e03",
   "metadata": {},
   "outputs": [],
   "source": []
  },
  {
   "cell_type": "code",
   "execution_count": 33,
   "id": "34e8c970-0857-4f05-b776-741f7126e2b4",
   "metadata": {},
   "outputs": [
    {
     "data": {
      "text/plain": [
       "66"
      ]
     },
     "execution_count": 33,
     "metadata": {},
     "output_type": "execute_result"
    }
   ],
   "source": [
    "# Crop the raster by the fire bounds (with small buffer)\n",
    "bounds = events_west_.total_bounds\n",
    "evt_da_crop = evt_da.rio.clip_box(\n",
    "    minx=bounds[0]+1000, \n",
    "    miny=bounds[1]+1000, \n",
    "    maxx=bounds[2]+1000, \n",
    "    maxy=bounds[3]+1000\n",
    ")\n",
    "del evt_da, bounds\n",
    "gc.collect()"
   ]
  },
  {
   "cell_type": "code",
   "execution_count": null,
   "id": "9a6a2666-e014-481e-9f25-341882e70f62",
   "metadata": {},
   "outputs": [],
   "source": []
  },
  {
   "cell_type": "code",
   "execution_count": null,
   "id": "230b606f-68b6-4432-8534-f8d8888ab530",
   "metadata": {},
   "outputs": [],
   "source": [
    "# Calculate zonal stats for the wildfire perimeters"
   ]
  },
  {
   "cell_type": "code",
   "execution_count": 34,
   "id": "24f98d08-b914-4db9-8cdd-1aff41a76cd4",
   "metadata": {},
   "outputs": [
    {
     "name": "stdout",
     "output_type": "stream",
     "text": [
      "Total elapsed time: 1.78 minutes.\n",
      "\n",
      "~~~~~~~~~~\n",
      "\n"
     ]
    }
   ],
   "source": [
    "t0 = time.time()\n",
    "\n",
    "sampled = compute_band_stats(events_west_, evt_da_crop, 'OBJECTID')\n",
    "\n",
    "t1 = (time.time() - t0) / 60\n",
    "print(f\"Total elapsed time: {t1:.2f} minutes.\")\n",
    "print(\"\\n~~~~~~~~~~\\n\")"
   ]
  },
  {
   "cell_type": "code",
   "execution_count": 35,
   "id": "a9e6ddb5-5ab0-4766-af9d-2d73f46ff1d3",
   "metadata": {},
   "outputs": [
    {
     "data": {
      "text/html": [
       "<div>\n",
       "<style scoped>\n",
       "    .dataframe tbody tr th:only-of-type {\n",
       "        vertical-align: middle;\n",
       "    }\n",
       "\n",
       "    .dataframe tbody tr th {\n",
       "        vertical-align: top;\n",
       "    }\n",
       "\n",
       "    .dataframe thead th {\n",
       "        text-align: right;\n",
       "    }\n",
       "</style>\n",
       "<table border=\"1\" class=\"dataframe\">\n",
       "  <thead>\n",
       "    <tr style=\"text-align: right;\">\n",
       "      <th></th>\n",
       "      <th>OBJECTID</th>\n",
       "      <th>evt</th>\n",
       "      <th>count</th>\n",
       "      <th>total_pixels</th>\n",
       "      <th>pct_cover</th>\n",
       "    </tr>\n",
       "  </thead>\n",
       "  <tbody>\n",
       "    <tr>\n",
       "      <th>0</th>\n",
       "      <td>6</td>\n",
       "      <td>7011</td>\n",
       "      <td>44.0</td>\n",
       "      <td>281.0</td>\n",
       "      <td>15.658363</td>\n",
       "    </tr>\n",
       "    <tr>\n",
       "      <th>1</th>\n",
       "      <td>6</td>\n",
       "      <td>7051</td>\n",
       "      <td>47.0</td>\n",
       "      <td>281.0</td>\n",
       "      <td>16.725979</td>\n",
       "    </tr>\n",
       "    <tr>\n",
       "      <th>2</th>\n",
       "      <td>6</td>\n",
       "      <td>7052</td>\n",
       "      <td>4.0</td>\n",
       "      <td>281.0</td>\n",
       "      <td>1.423488</td>\n",
       "    </tr>\n",
       "    <tr>\n",
       "      <th>3</th>\n",
       "      <td>6</td>\n",
       "      <td>7054</td>\n",
       "      <td>147.0</td>\n",
       "      <td>281.0</td>\n",
       "      <td>52.313167</td>\n",
       "    </tr>\n",
       "    <tr>\n",
       "      <th>4</th>\n",
       "      <td>6</td>\n",
       "      <td>7055</td>\n",
       "      <td>1.0</td>\n",
       "      <td>281.0</td>\n",
       "      <td>0.355872</td>\n",
       "    </tr>\n",
       "  </tbody>\n",
       "</table>\n",
       "</div>"
      ],
      "text/plain": [
       "   OBJECTID   evt  count  total_pixels  pct_cover\n",
       "0         6  7011   44.0         281.0  15.658363\n",
       "1         6  7051   47.0         281.0  16.725979\n",
       "2         6  7052    4.0         281.0   1.423488\n",
       "3         6  7054  147.0         281.0  52.313167\n",
       "4         6  7055    1.0         281.0   0.355872"
      ]
     },
     "execution_count": 35,
     "metadata": {},
     "output_type": "execute_result"
    }
   ],
   "source": [
    "sampled.head()"
   ]
  },
  {
   "cell_type": "code",
   "execution_count": null,
   "id": "0e48f0c8-9cae-4a85-8db1-0a2e77ba6327",
   "metadata": {},
   "outputs": [],
   "source": []
  },
  {
   "cell_type": "code",
   "execution_count": 36,
   "id": "1d659cea-cd9d-4487-96a2-2eb9b6b325c9",
   "metadata": {},
   "outputs": [
    {
     "data": {
      "text/plain": [
       "758"
      ]
     },
     "execution_count": 36,
     "metadata": {},
     "output_type": "execute_result"
    }
   ],
   "source": [
    "del evt_da_crop\n",
    "gc.collect()  # clean up"
   ]
  },
  {
   "cell_type": "code",
   "execution_count": null,
   "id": "47c34884-94b8-48bc-bdd0-20ab40bdb565",
   "metadata": {},
   "outputs": [],
   "source": []
  },
  {
   "cell_type": "code",
   "execution_count": null,
   "id": "559df152-6b70-4f35-b1f4-e00dd4fa650a",
   "metadata": {},
   "outputs": [],
   "source": [
    "# Load the lookup table and gather LC info"
   ]
  },
  {
   "cell_type": "code",
   "execution_count": 37,
   "id": "ddf3a7e2-7037-4bdc-b0e3-05a6bee8523f",
   "metadata": {},
   "outputs": [
    {
     "data": {
      "text/plain": [
       "Index(['VALUE', 'EVT_NAME', 'LFRDB', 'EVT_FUEL', 'EVT_FUEL_N', 'EVT_LF',\n",
       "       'EVT_PHYS', 'EVT_GP', 'EVT_GP_N', 'SAF_SRM', 'EVT_ORDER', 'EVT_CLASS',\n",
       "       'EVT_SBCLS', 'R', 'G', 'B', 'RED', 'GREEN', 'BLUE'],\n",
       "      dtype='object')"
      ]
     },
     "execution_count": 37,
     "metadata": {},
     "output_type": "execute_result"
    }
   ],
   "source": [
    "lookup_fp = os.path.join(maindir,'data/landcover/LANDFIRE/LF2016_EVT_200_CONUS/CSV_Data/LF16_EVT_200.csv')\n",
    "lookup = pd.read_csv(lookup_fp)\n",
    "lookup.columns"
   ]
  },
  {
   "cell_type": "code",
   "execution_count": 38,
   "id": "acc9ed08-4fce-4066-b691-317e245d3683",
   "metadata": {},
   "outputs": [
    {
     "data": {
      "text/html": [
       "<div>\n",
       "<style scoped>\n",
       "    .dataframe tbody tr th:only-of-type {\n",
       "        vertical-align: middle;\n",
       "    }\n",
       "\n",
       "    .dataframe tbody tr th {\n",
       "        vertical-align: top;\n",
       "    }\n",
       "\n",
       "    .dataframe thead th {\n",
       "        text-align: right;\n",
       "    }\n",
       "</style>\n",
       "<table border=\"1\" class=\"dataframe\">\n",
       "  <thead>\n",
       "    <tr style=\"text-align: right;\">\n",
       "      <th></th>\n",
       "      <th>OBJECTID</th>\n",
       "      <th>evt</th>\n",
       "      <th>count</th>\n",
       "      <th>total_pixels</th>\n",
       "      <th>pct_cover</th>\n",
       "      <th>VALUE</th>\n",
       "      <th>EVT_NAME</th>\n",
       "      <th>EVT_PHYS</th>\n",
       "      <th>EVT_GP_N</th>\n",
       "      <th>EVT_CLASS</th>\n",
       "    </tr>\n",
       "  </thead>\n",
       "  <tbody>\n",
       "    <tr>\n",
       "      <th>0</th>\n",
       "      <td>6</td>\n",
       "      <td>7011</td>\n",
       "      <td>44.0</td>\n",
       "      <td>281.0</td>\n",
       "      <td>15.658363</td>\n",
       "      <td>7011</td>\n",
       "      <td>Rocky Mountain Aspen Forest and Woodland</td>\n",
       "      <td>Hardwood</td>\n",
       "      <td>Aspen Forest, Woodland, and Parkland</td>\n",
       "      <td>Open tree canopy</td>\n",
       "    </tr>\n",
       "    <tr>\n",
       "      <th>1</th>\n",
       "      <td>6</td>\n",
       "      <td>7051</td>\n",
       "      <td>47.0</td>\n",
       "      <td>281.0</td>\n",
       "      <td>16.725979</td>\n",
       "      <td>7051</td>\n",
       "      <td>Southern Rocky Mountain Dry-Mesic Montane Mixe...</td>\n",
       "      <td>Conifer</td>\n",
       "      <td>Douglas-fir-Ponderosa Pine-Lodgepole Pine Fore...</td>\n",
       "      <td>Closed tree canopy</td>\n",
       "    </tr>\n",
       "    <tr>\n",
       "      <th>2</th>\n",
       "      <td>6</td>\n",
       "      <td>7052</td>\n",
       "      <td>4.0</td>\n",
       "      <td>281.0</td>\n",
       "      <td>1.423488</td>\n",
       "      <td>7052</td>\n",
       "      <td>Southern Rocky Mountain Mesic Montane Mixed Co...</td>\n",
       "      <td>Conifer</td>\n",
       "      <td>Douglas-fir-Grand Fir-White Fir Forest and Woo...</td>\n",
       "      <td>Closed tree canopy</td>\n",
       "    </tr>\n",
       "    <tr>\n",
       "      <th>3</th>\n",
       "      <td>6</td>\n",
       "      <td>7054</td>\n",
       "      <td>147.0</td>\n",
       "      <td>281.0</td>\n",
       "      <td>52.313167</td>\n",
       "      <td>7054</td>\n",
       "      <td>Southern Rocky Mountain Ponderosa Pine Woodland</td>\n",
       "      <td>Conifer</td>\n",
       "      <td>Ponderosa Pine Forest, Woodland and Savanna</td>\n",
       "      <td>Open tree canopy</td>\n",
       "    </tr>\n",
       "    <tr>\n",
       "      <th>4</th>\n",
       "      <td>6</td>\n",
       "      <td>7055</td>\n",
       "      <td>1.0</td>\n",
       "      <td>281.0</td>\n",
       "      <td>0.355872</td>\n",
       "      <td>7055</td>\n",
       "      <td>Rocky Mountain Subalpine Dry-Mesic Spruce-Fir ...</td>\n",
       "      <td>Conifer</td>\n",
       "      <td>Spruce-Fir Forest and Woodland</td>\n",
       "      <td>Closed tree canopy</td>\n",
       "    </tr>\n",
       "  </tbody>\n",
       "</table>\n",
       "</div>"
      ],
      "text/plain": [
       "   OBJECTID   evt  count  total_pixels  pct_cover  VALUE  \\\n",
       "0         6  7011   44.0         281.0  15.658363   7011   \n",
       "1         6  7051   47.0         281.0  16.725979   7051   \n",
       "2         6  7052    4.0         281.0   1.423488   7052   \n",
       "3         6  7054  147.0         281.0  52.313167   7054   \n",
       "4         6  7055    1.0         281.0   0.355872   7055   \n",
       "\n",
       "                                            EVT_NAME  EVT_PHYS  \\\n",
       "0           Rocky Mountain Aspen Forest and Woodland  Hardwood   \n",
       "1  Southern Rocky Mountain Dry-Mesic Montane Mixe...   Conifer   \n",
       "2  Southern Rocky Mountain Mesic Montane Mixed Co...   Conifer   \n",
       "3    Southern Rocky Mountain Ponderosa Pine Woodland   Conifer   \n",
       "4  Rocky Mountain Subalpine Dry-Mesic Spruce-Fir ...   Conifer   \n",
       "\n",
       "                                            EVT_GP_N           EVT_CLASS  \n",
       "0               Aspen Forest, Woodland, and Parkland    Open tree canopy  \n",
       "1  Douglas-fir-Ponderosa Pine-Lodgepole Pine Fore...  Closed tree canopy  \n",
       "2  Douglas-fir-Grand Fir-White Fir Forest and Woo...  Closed tree canopy  \n",
       "3        Ponderosa Pine Forest, Woodland and Savanna    Open tree canopy  \n",
       "4                     Spruce-Fir Forest and Woodland  Closed tree canopy  "
      ]
     },
     "execution_count": 38,
     "metadata": {},
     "output_type": "execute_result"
    }
   ],
   "source": [
    "# Subset the codes we want to join, join back to the dataframe\n",
    "lookup = lookup[['VALUE','EVT_NAME','EVT_PHYS','EVT_GP_N','EVT_CLASS']]\n",
    "props_df = sampled.merge(lookup, left_on='evt', right_on='VALUE', how='left')\n",
    "props_df.head()"
   ]
  },
  {
   "cell_type": "code",
   "execution_count": 39,
   "id": "2976134e-eb8f-4156-b797-5f131f7194eb",
   "metadata": {},
   "outputs": [
    {
     "name": "stdout",
     "output_type": "stream",
     "text": [
      "There are [12261] unique fires in the sampled data.\n"
     ]
    }
   ],
   "source": [
    "print(f\"There are [{len(props_df['OBJECTID'].unique())}] unique fires in the sampled data.\")"
   ]
  },
  {
   "cell_type": "code",
   "execution_count": null,
   "id": "72db9b4b-d5d8-4491-ae82-8e701e1c34db",
   "metadata": {},
   "outputs": [],
   "source": []
  },
  {
   "cell_type": "code",
   "execution_count": 40,
   "id": "3c22c557-02e5-43c4-b0b1-ce13754023c8",
   "metadata": {},
   "outputs": [
    {
     "name": "stdout",
     "output_type": "stream",
     "text": [
      "Saved to /Users/max/Library/CloudStorage/OneDrive-Personal/mcook/aspen-fire/Aim2/data/tabular/mod/EVT/nifc-interagency_2018_to_2023-EVT.csv\n"
     ]
    }
   ],
   "source": [
    "# Save the file out.\n",
    "out_fp = os.path.join(results_dir, 'nifc-interagency_2018_to_2023-EVT.csv')\n",
    "props_df.to_csv(out_fp)\n",
    "print(f\"Saved to {out_fp}\")"
   ]
  },
  {
   "cell_type": "code",
   "execution_count": null,
   "id": "4368f986-dfa2-452d-bd07-45f9e136b579",
   "metadata": {},
   "outputs": [],
   "source": []
  },
  {
   "cell_type": "code",
   "execution_count": null,
   "id": "48b2e852-da5e-4229-ac15-75f8015f8ce4",
   "metadata": {},
   "outputs": [],
   "source": []
  },
  {
   "cell_type": "code",
   "execution_count": null,
   "id": "23a5b1da-9e59-498e-a51a-3cbae2c75e3f",
   "metadata": {},
   "outputs": [],
   "source": [
    "# Identify fires with >= 1% aspen forest cover"
   ]
  },
  {
   "cell_type": "code",
   "execution_count": null,
   "id": "bbc3940c-ae45-41d3-a916-7fdf91cda061",
   "metadata": {},
   "outputs": [],
   "source": []
  },
  {
   "cell_type": "code",
   "execution_count": 41,
   "id": "32a9f333-ff5e-40ce-9710-9b7eabf561a3",
   "metadata": {},
   "outputs": [
    {
     "name": "stdout",
     "output_type": "stream",
     "text": [
      "LANDFIRE EVT Aspen Classes:\n",
      "\n",
      "['Rocky Mountain Aspen Forest and Woodland'\n",
      " 'Inter-Mountain Basins Aspen-Mixed Conifer Forest and Woodland'\n",
      " 'Northwestern Great Plains Aspen Forest and Parkland']\n"
     ]
    }
   ],
   "source": [
    "aspen_evt_classes = props_df[props_df['EVT_NAME'].str.contains('aspen', case=False, na=False)]['EVT_NAME'].unique()\n",
    "print(f\"LANDFIRE EVT Aspen Classes:\\n\\n{aspen_evt_classes}\")"
   ]
  },
  {
   "cell_type": "code",
   "execution_count": 42,
   "id": "4d96e31c-d675-423a-8575-04c06c9317b3",
   "metadata": {},
   "outputs": [
    {
     "data": {
      "text/plain": [
       "20"
      ]
     },
     "execution_count": 42,
     "metadata": {},
     "output_type": "execute_result"
    }
   ],
   "source": [
    "# Calculate the percent aspen forest cover\n",
    "df = props_df[props_df['EVT_NAME'].isin(aspen_evt_classes)] # grab aspen EVT classes\n",
    "\n",
    "aspen_sum = df.groupby('OBJECTID')['pct_cover'].sum().reset_index() # get the sum of pct_cover\n",
    "aspen_sum['pct_aspen'] = aspen_sum['pct_cover']  # rename the column to retain aspen percent\n",
    "\n",
    "del df # clean up\n",
    "gc.collect()"
   ]
  },
  {
   "cell_type": "code",
   "execution_count": 43,
   "id": "5c68bc96-d38d-46d7-a148-544a1600446b",
   "metadata": {},
   "outputs": [
    {
     "name": "stdout",
     "output_type": "stream",
     "text": [
      "There are [479] fire events with > 1% aspen cover across western U.S. ecoregions (2018-2023).\n"
     ]
    }
   ],
   "source": [
    "# Now filter fires where \"pct_aspen\" >= 1%\n",
    "aspen_events = aspen_sum[aspen_sum['pct_aspen'] >= 1] # retain fires with >= X %\n",
    "aspen_events = aspen_events[['OBJECTID','pct_aspen']] # subset columns\n",
    "print(f\"There are [{len(aspen_events)}] fire events with > 1% aspen cover across western U.S. ecoregions (2018-2023).\")"
   ]
  },
  {
   "cell_type": "code",
   "execution_count": 62,
   "id": "d09c7e79-663d-479a-89e4-adab2b442da3",
   "metadata": {},
   "outputs": [
    {
     "data": {
      "text/plain": [
       "Index(['OBJECTID', 'na_l3name', 'MAP_METHOD', 'GEO_ID', 'IRWINID', 'FIRE_YEAR',\n",
       "       'INCIDENT', 'FEATURE_CA', 'GIS_ACRES', 'geometry', 'pct_aspen'],\n",
       "      dtype='object')"
      ]
     },
     "execution_count": 62,
     "metadata": {},
     "output_type": "execute_result"
    }
   ],
   "source": [
    "# Join aspen percent to the spatial data.\n",
    "props_gdf = pd.merge(events_west_, aspen_events, on='OBJECTID', how='inner')\n",
    "props_gdf = props_gdf.to_crs(proj)  # ensure the correct projection before exporting\n",
    "props_gdf.columns"
   ]
  },
  {
   "cell_type": "code",
   "execution_count": 70,
   "id": "d00a4d7d-3f04-42e4-ab88-faad370c1d64",
   "metadata": {},
   "outputs": [
    {
     "name": "stdout",
     "output_type": "stream",
     "text": [
      "There are 74 duplicate IRWINIDs.\n"
     ]
    }
   ],
   "source": [
    "# Check for duplicates\n",
    "print(f\"There are {props_gdf.duplicated(subset='IRWINID').sum()} duplicate IRWINIDs.\")"
   ]
  },
  {
   "cell_type": "code",
   "execution_count": 76,
   "id": "26219c5c-ed0f-452e-8ed9-eb5dfe6474ad",
   "metadata": {},
   "outputs": [
    {
     "name": "stdout",
     "output_type": "stream",
     "text": [
      "There are [405] fire events with > 1% aspen cover across western U.S. ecoregions (2018-2023).\n"
     ]
    }
   ],
   "source": [
    "# Drop duplicates, keep one (different map methods)\n",
    "props_gdf_ = props_gdf.drop_duplicates(subset='IRWINID', keep='first')\n",
    "print(f\"There are [{len(props_gdf_)}] fire events with > 1% aspen cover across western U.S. ecoregions (2018-2023).\")"
   ]
  },
  {
   "cell_type": "code",
   "execution_count": 77,
   "id": "54f216d5-c1f4-4028-9e67-b217b5a8c9c5",
   "metadata": {},
   "outputs": [
    {
     "name": "stdout",
     "output_type": "stream",
     "text": [
      "Saved file to /Users/max/Library/CloudStorage/OneDrive-Personal/mcook/aspen-fire/Aim2/data/spatial/mod/nifc-interagency_2018_to_2023-EVT-aspen.gpkg\n"
     ]
    },
    {
     "data": {
      "text/plain": [
       "117"
      ]
     },
     "execution_count": 77,
     "metadata": {},
     "output_type": "execute_result"
    }
   ],
   "source": [
    "# Save this file out\n",
    "out_fp = os.path.join(projdir,'data/spatial/mod/NIFC/nifc-interagency_2018_to_2023-EVT-aspen.gpkg')\n",
    "props_gdf_.to_file(out_fp)\n",
    "print(f\"Saved file to {out_fp}\")\n",
    "del props_gdf\n",
    "gc.collect() # clean up"
   ]
  },
  {
   "cell_type": "code",
   "execution_count": 78,
   "id": "0121b4b6-ddc5-4eef-b1ab-1a4139f84e1c",
   "metadata": {},
   "outputs": [
    {
     "data": {
      "text/plain": [
       "count       405.000000\n",
       "mean       7159.500050\n",
       "std       28839.182101\n",
       "min           0.000000\n",
       "25%           8.460000\n",
       "50%          62.650000\n",
       "75%        1358.230000\n",
       "max      299792.600000\n",
       "Name: GIS_ACRES, dtype: float64"
      ]
     },
     "execution_count": 78,
     "metadata": {},
     "output_type": "execute_result"
    }
   ],
   "source": [
    "# Look at the fire size distribution\n",
    "props_gdf_['GIS_ACRES'].describe()"
   ]
  },
  {
   "cell_type": "code",
   "execution_count": null,
   "id": "e9b3f305-c109-4717-a9ec-1c579902301c",
   "metadata": {},
   "outputs": [],
   "source": [
    "# Join to the fire season length (ecoregion)\n",
    "fp = os.path.join(projdir,'data/tabular/mod/')\n"
   ]
  },
  {
   "cell_type": "code",
   "execution_count": null,
   "id": "bc3fa43b-e5ec-4646-8845-181bca269a2e",
   "metadata": {},
   "outputs": [],
   "source": [
    "# Map"
   ]
  },
  {
   "cell_type": "code",
   "execution_count": null,
   "id": "36495fd8-3158-4521-aaa4-bc35d36ac71e",
   "metadata": {},
   "outputs": [],
   "source": []
  },
  {
   "cell_type": "code",
   "execution_count": 79,
   "id": "c8cc0e06-2b6e-48d7-bdc9-1eaba7042674",
   "metadata": {},
   "outputs": [
    {
     "data": {
      "image/png": "[encoded data removed]",
      "text/plain": [
       "<Figure size 600x600 with 2 Axes>"
      ]
     },
     "metadata": {},
     "output_type": "display_data"
    }
   ],
   "source": [
    "# Load the state boundaries\n",
    "states = gpd.read_file(os.path.join(maindir,'data/boundaries/political/TIGER/tl19_us_states_west_nad83.gpkg'))\n",
    "states = states.to_crs(4326)\n",
    "\n",
    "# Generate centroids\n",
    "centroid = props_gdf_.copy()\n",
    "centroid = centroid.to_crs(4326)\n",
    "centroid['geometry'] = centroid.geometry.centroid\n",
    "centroid['size'] = centroid['pct_aspen'] * 10  # Adjust the scaling factor as necessary\n",
    "\n",
    "# Make a spatial map of the centroids now\n",
    "fig, ax = plt.subplots(figsize=(6, 6))\n",
    "\n",
    "states.plot(ax=ax, edgecolor='black', linewidth=1, color='none')\n",
    "centroid.plot(\n",
    "    ax=ax, markersize=centroid['pct_aspen'], \n",
    "    column='pct_aspen', cmap='viridis', \n",
    "    legend=False, alpha=0.6)\n",
    "\n",
    "# Manually add colorbar\n",
    "norm = matplotlib.colors.Normalize(vmin=centroid['pct_aspen'].min(), vmax=centroid['pct_aspen'].max())\n",
    "sm = plt.cm.ScalarMappable(cmap='viridis', norm=norm)\n",
    "sm.set_array([])  # Only needed for ScalarMappable\n",
    "\n",
    "# Adjust the size of the colorbar using the `shrink` parameter\n",
    "cbar = fig.colorbar(sm, ax=ax, shrink=0.7)\n",
    "cbar.set_label('Aspen Percent')\n",
    "\n",
    "plt.xlabel('Longitude')\n",
    "plt.ylabel('Latitude')\n",
    "plt.tight_layout()\n",
    "\n",
    "# Save the map as a PNG\n",
    "plt.savefig(os.path.join(projdir, 'figures/Fig1_all_aspen_fires-NIFC.png'), dpi=300, bbox_inches='tight')\n",
    "\n",
    "plt.show()"
   ]
  },
  {
   "cell_type": "code",
   "execution_count": null,
   "id": "ecb5992c-8ef7-4a8d-ba2b-0d3ddb516c99",
   "metadata": {},
   "outputs": [],
   "source": []
  },
  {
   "cell_type": "code",
   "execution_count": null,
   "id": "970776c4-e85d-4e79-bac4-20ad99d5b57a",
   "metadata": {},
   "outputs": [],
   "source": []
  },
  {
   "cell_type": "code",
   "execution_count": null,
   "id": "e4bb38e7-bf5a-4b68-95fb-e3258a4397fa",
   "metadata": {},
   "outputs": [],
   "source": [
    "# Try to identify ICS-209-PLUS joins"
   ]
  },
  {
   "cell_type": "code",
   "execution_count": null,
   "id": "6d0275cd-9a4b-4e87-b9a3-d312fcdb66c1",
   "metadata": {},
   "outputs": [],
   "source": []
  },
  {
   "cell_type": "code",
   "execution_count": null,
   "id": "72a473e8-a06a-4bb1-b560-d45a1914a126",
   "metadata": {},
   "outputs": [],
   "source": []
  }
 ],
 "metadata": {
  "kernelspec": {
   "display_name": "aspen-fire",
   "language": "python",
   "name": "aspen-fire"
  },
  "language_info": {
   "codemirror_mode": {
    "name": "ipython",
    "version": 3
   },
   "file_extension": ".py",
   "mimetype": "text/x-python",
   "name": "python",
   "nbconvert_exporter": "python",
   "pygments_lexer": "ipython3",
   "version": "3.10.12"
  }
 },
 "nbformat": 4,
 "nbformat_minor": 5
}
