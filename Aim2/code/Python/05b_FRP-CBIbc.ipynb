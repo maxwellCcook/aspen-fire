{
 "cells": [
  {
   "cell_type": "code",
   "execution_count": 1,
   "id": "51bbe5b1-c643-4939-8ef4-31e2dfd5df5a",
   "metadata": {},
   "outputs": [
    {
     "name": "stdout",
     "output_type": "stream",
     "text": [
      "Ready to go !\n"
     ]
    }
   ],
   "source": [
    "\"\"\" \n",
    "Author: maxwell.cook@colorado.edu\n",
    "\"\"\"\n",
    "\n",
    "import os, sys, gc, time\n",
    "import geopandas as gpd\n",
    "import rasterio as rio\n",
    "import rioxarray as rxr\n",
    "import seaborn as sns\n",
    "import matplotlib.pyplot as plt\n",
    "import matplotlib.colors as mcolors\n",
    "\n",
    "from scipy.stats import pearsonr\n",
    "\n",
    "# Custom functions\n",
    "sys.path.append(os.path.join(os.getcwd(),'code/'))\n",
    "from __functions import *\n",
    "\n",
    "proj = 'EPSG:5070'\n",
    "\n",
    "maindir = '/Users/max/Library/CloudStorage/OneDrive-Personal/mcook/'\n",
    "projdir = os.path.join(maindir, 'aspen-fire/Aim2/')\n",
    "\n",
    "print(\"Ready to go !\")"
   ]
  },
  {
   "cell_type": "code",
   "execution_count": 2,
   "id": "5ee26be9-0694-4e34-98ad-4b738bcd56c2",
   "metadata": {},
   "outputs": [
    {
     "data": {
      "text/plain": [
       "Index(['grid_index', 'fortypnm_gp', 'fortyp_pct', 'forest_pixels',\n",
       "       'forest_pct', 'species_gp_n', 'tmid_n', 'ba_live', 'ba_dead', 'ba_ld',\n",
       "       'tpp_live', 'tpp_dead', 'tpp_ld', 'qmd_live', 'qmd_dead', 'qmd_ld',\n",
       "       'tree_ht_live', 'tree_ht_dead', 'balive_total', 'badead_total',\n",
       "       'ba_ld_total', 'tpp_live_total', 'tpp_dead_total', 'tpp_ld_total',\n",
       "       'qmd_live_total', 'qmd_dead_total', 'qmd_ld_total', 'ba_live_pr',\n",
       "       'ba_dead_pr', 'ba_ld_pr', 'tpp_live_pr', 'tpp_dead_pr', 'tpp_ld_pr',\n",
       "       'qmd_live_pr', 'qmd_dead_pr', 'qmd_ld_pr', 'grid_area', 'afd_count',\n",
       "       'unique_days', 'overlap', 'frp_csum', 'frp_max', 'frp_min', 'frp_mean',\n",
       "       'frp_p90', 'frp_p95', 'frp_p97', 'frp_p99', 'frp_first', 'day_max_frp',\n",
       "       'dt_max_frp', 'first_obs_date', 'last_obs_date', 't4_max', 't4_mean',\n",
       "       't5_max', 't5_mean', 'day_count', 'night_count', 'frp_max_day',\n",
       "       'frp_max_night', 'frp_csum_day', 'frp_csum_night', 'frp_mean_day',\n",
       "       'frp_mean_night', 'frp_p90_day', 'frp_p90_night', 'frp_p95_day',\n",
       "       'frp_p95_night', 'frp_p97_day', 'frp_p97_night', 'frp_p99_day',\n",
       "       'frp_p99_night', 'frp_first_day', 'frp_first_night', 'Fire_ID',\n",
       "       'Fire_Name', 'geometry', 'x', 'y', 'erc', 'erc_dv', 'vpd', 'vpd_dv',\n",
       "       'elev', 'slope', 'chili', 'tpi'],\n",
       "      dtype='object')"
      ]
     },
     "execution_count": 2,
     "metadata": {},
     "output_type": "execute_result"
    }
   ],
   "source": [
    "fp = os.path.join(projdir,'data/tabular/mod/gridstats_fortypnm_gp_tm_ct.csv')\n",
    "tm = pd.read_csv(fp)\n",
    "tm.drop(columns=['Unnamed: 0'], inplace=True)\n",
    "tm.columns"
   ]
  },
  {
   "cell_type": "code",
   "execution_count": 15,
   "id": "7fe13138-eeed-4d01-8b8a-499d1f4dda5c",
   "metadata": {},
   "outputs": [
    {
     "data": {
      "text/plain": [
       "319734"
      ]
     },
     "execution_count": 15,
     "metadata": {},
     "output_type": "execute_result"
    }
   ],
   "source": [
    "len(tm)"
   ]
  },
  {
   "cell_type": "code",
   "execution_count": 16,
   "id": "c4d07d54-a95d-4db0-9717-ca9e3dd04c9a",
   "metadata": {},
   "outputs": [
    {
     "data": {
      "text/plain": [
       "Index(['Fire_ID', 'grid_index', 'mean', 'p90', 'p95', 'p99', 'stdDev'], dtype='object')"
      ]
     },
     "execution_count": 16,
     "metadata": {},
     "output_type": "execute_result"
    }
   ],
   "source": [
    "# load the CBI data\n",
    "fp = os.path.join(projdir,'data/earth-engine/exports/gridstats_cbibc_forest.csv')\n",
    "sev = pd.read_csv(fp)\n",
    "sev.drop(columns=['system:index','.geo'], inplace=True)\n",
    "sev.columns"
   ]
  },
  {
   "cell_type": "code",
   "execution_count": 17,
   "id": "38f3c83a-fb31-4c11-8f6c-e9befc22ea4b",
   "metadata": {},
   "outputs": [
    {
     "data": {
      "text/html": [
       "<div>\n",
       "<style scoped>\n",
       "    .dataframe tbody tr th:only-of-type {\n",
       "        vertical-align: middle;\n",
       "    }\n",
       "\n",
       "    .dataframe tbody tr th {\n",
       "        vertical-align: top;\n",
       "    }\n",
       "\n",
       "    .dataframe thead th {\n",
       "        text-align: right;\n",
       "    }\n",
       "</style>\n",
       "<table border=\"1\" class=\"dataframe\">\n",
       "  <thead>\n",
       "    <tr style=\"text-align: right;\">\n",
       "      <th></th>\n",
       "      <th>grid_index</th>\n",
       "      <th>fortypnm_gp</th>\n",
       "      <th>species_gp_n</th>\n",
       "      <th>frp_max_day</th>\n",
       "      <th>CBIbc_mean</th>\n",
       "      <th>CBIbc_p95</th>\n",
       "      <th>tpp_ld_pr</th>\n",
       "      <th>ba_ld_pr</th>\n",
       "      <th>qmd_ld_pr</th>\n",
       "    </tr>\n",
       "  </thead>\n",
       "  <tbody>\n",
       "    <tr>\n",
       "      <th>0</th>\n",
       "      <td>34602</td>\n",
       "      <td>Piñon-juniper</td>\n",
       "      <td>Gambel oak</td>\n",
       "      <td>29.232522</td>\n",
       "      <td>0.796373</td>\n",
       "      <td>1.79</td>\n",
       "      <td>0.187037</td>\n",
       "      <td>0.028837</td>\n",
       "      <td>0.074845</td>\n",
       "    </tr>\n",
       "    <tr>\n",
       "      <th>1</th>\n",
       "      <td>34602</td>\n",
       "      <td>Piñon-juniper</td>\n",
       "      <td>Mixed-conifer</td>\n",
       "      <td>29.232522</td>\n",
       "      <td>0.796373</td>\n",
       "      <td>1.79</td>\n",
       "      <td>0.047182</td>\n",
       "      <td>0.053450</td>\n",
       "      <td>0.143992</td>\n",
       "    </tr>\n",
       "    <tr>\n",
       "      <th>2</th>\n",
       "      <td>34602</td>\n",
       "      <td>Piñon-juniper</td>\n",
       "      <td>Piñon-juniper</td>\n",
       "      <td>29.232522</td>\n",
       "      <td>0.796373</td>\n",
       "      <td>1.79</td>\n",
       "      <td>0.711130</td>\n",
       "      <td>0.803222</td>\n",
       "      <td>0.205824</td>\n",
       "    </tr>\n",
       "    <tr>\n",
       "      <th>3</th>\n",
       "      <td>34602</td>\n",
       "      <td>Piñon-juniper</td>\n",
       "      <td>Ponderosa</td>\n",
       "      <td>29.232522</td>\n",
       "      <td>0.796373</td>\n",
       "      <td>1.79</td>\n",
       "      <td>0.047573</td>\n",
       "      <td>0.110380</td>\n",
       "      <td>0.320515</td>\n",
       "    </tr>\n",
       "    <tr>\n",
       "      <th>4</th>\n",
       "      <td>34602</td>\n",
       "      <td>Piñon-juniper</td>\n",
       "      <td>Quaking aspen</td>\n",
       "      <td>29.232522</td>\n",
       "      <td>0.796373</td>\n",
       "      <td>1.79</td>\n",
       "      <td>0.002359</td>\n",
       "      <td>0.001143</td>\n",
       "      <td>0.119109</td>\n",
       "    </tr>\n",
       "  </tbody>\n",
       "</table>\n",
       "</div>"
      ],
      "text/plain": [
       "   grid_index    fortypnm_gp   species_gp_n  frp_max_day  CBIbc_mean  \\\n",
       "0       34602  Piñon-juniper     Gambel oak    29.232522    0.796373   \n",
       "1       34602  Piñon-juniper  Mixed-conifer    29.232522    0.796373   \n",
       "2       34602  Piñon-juniper  Piñon-juniper    29.232522    0.796373   \n",
       "3       34602  Piñon-juniper      Ponderosa    29.232522    0.796373   \n",
       "4       34602  Piñon-juniper  Quaking aspen    29.232522    0.796373   \n",
       "\n",
       "   CBIbc_p95  tpp_ld_pr  ba_ld_pr  qmd_ld_pr  \n",
       "0       1.79   0.187037  0.028837   0.074845  \n",
       "1       1.79   0.047182  0.053450   0.143992  \n",
       "2       1.79   0.711130  0.803222   0.205824  \n",
       "3       1.79   0.047573  0.110380   0.320515  \n",
       "4       1.79   0.002359  0.001143   0.119109  "
      ]
     },
     "execution_count": 17,
     "metadata": {},
     "output_type": "execute_result"
    }
   ],
   "source": [
    "# Rename the columns for clarity\n",
    "cols = ['mean', 'p90', 'p95', 'p99', 'stdDev']\n",
    "for col in cols:\n",
    "    new_name = 'CBIbc_' + col\n",
    "    sev.rename(columns={col: new_name}, inplace=True)\n",
    "sev.drop(columns=['Fire_ID'], inplace=True)\n",
    "# merge the dataframes\n",
    "tm_sev = tm.merge(sev, on='grid_index', how='left')\n",
    "tm_sev[['grid_index','fortypnm_gp','species_gp_n','frp_max_day','CBIbc_mean',\n",
    "        'CBIbc_p95','tpp_ld_pr','ba_ld_pr','qmd_ld_pr']].head()"
   ]
  },
  {
   "cell_type": "code",
   "execution_count": 18,
   "id": "03f43406-2bb7-42b3-a01d-fdf0bc3e7929",
   "metadata": {},
   "outputs": [
    {
     "data": {
      "image/png": "[encoded data removed]",
      "text/plain": [
       "<Figure size 600x400 with 1 Axes>"
      ]
     },
     "metadata": {},
     "output_type": "display_data"
    },
    {
     "name": "stdout",
     "output_type": "stream",
     "text": [
      "\n",
      "Saved to: /Users/max/Library/CloudStorage/OneDrive-Personal/mcook/aspen-fire/Aim2/figures/FigureX_FORTYPCD_DominantSpecies_CBIbc_p90.png\n",
      "\n"
     ]
    }
   ],
   "source": [
    "# Plot FRP by dominant forest type\n",
    "# create a dataframe with dominance (>80% of the same species)\n",
    "dom = tm_sev[tm_sev['fortyp_pct'] > 50]\n",
    "# Find the median and sort the forest types by FRP\n",
    "med = dom.groupby('fortypnm_gp')['CBIbc_p90'].median().sort_values(ascending=False)\n",
    "ordered = med.index.tolist()\n",
    "\n",
    "# plot it\n",
    "plt.figure(figsize=(6, 4)) \n",
    "\n",
    "sns.boxplot(\n",
    "    data=dom, \n",
    "    x='CBIbc_p90', \n",
    "    y='fortypnm_gp', \n",
    "    order=ordered, \n",
    "    palette='inferno', \n",
    "    dodge=False)\n",
    "\n",
    "# plt.xscale('log') # log-scale FRP\n",
    "plt.xlabel('Composite Burn Index')\n",
    "plt.ylabel('Forest Type')\n",
    "plt.tight_layout()\n",
    "\n",
    "out_plot = os.path.join(projdir, 'figures/FigureX_FORTYPCD_DominantSpecies_CBIbc_p90.png')\n",
    "plt.savefig(out_plot, dpi=300, bbox_inches='tight')\n",
    "\n",
    "plt.show()\n",
    "print(f\"\\nSaved to: {out_plot}\\n\")"
   ]
  },
  {
   "cell_type": "code",
   "execution_count": 19,
   "id": "19a118d4-a57d-4846-9a4c-f61db1846539",
   "metadata": {},
   "outputs": [
    {
     "data": {
      "text/plain": [
       "Index(['grid_index', 'fortypnm_gp', 'fortyp_pct', 'forest_pixels',\n",
       "       'forest_pct', 'species_gp_n', 'tmid_n', 'ba_live', 'ba_dead', 'ba_ld',\n",
       "       'tpp_live', 'tpp_dead', 'tpp_ld', 'qmd_live', 'qmd_dead', 'qmd_ld',\n",
       "       'tree_ht_live', 'tree_ht_dead', 'balive_total', 'badead_total',\n",
       "       'ba_ld_total', 'tpp_live_total', 'tpp_dead_total', 'tpp_ld_total',\n",
       "       'qmd_live_total', 'qmd_dead_total', 'qmd_ld_total', 'ba_live_pr',\n",
       "       'ba_dead_pr', 'ba_ld_pr', 'tpp_live_pr', 'tpp_dead_pr', 'tpp_ld_pr',\n",
       "       'qmd_live_pr', 'qmd_dead_pr', 'qmd_ld_pr', 'grid_area', 'afd_count',\n",
       "       'unique_days', 'overlap', 'frp_csum', 'frp_max', 'frp_min', 'frp_mean',\n",
       "       'frp_p90', 'frp_p95', 'frp_p97', 'frp_p99', 'frp_first', 'day_max_frp',\n",
       "       'dt_max_frp', 'first_obs_date', 'last_obs_date', 't4_max', 't4_mean',\n",
       "       't5_max', 't5_mean', 'day_count', 'night_count', 'frp_max_day',\n",
       "       'frp_max_night', 'frp_csum_day', 'frp_csum_night', 'frp_mean_day',\n",
       "       'frp_mean_night', 'frp_p90_day', 'frp_p90_night', 'frp_p95_day',\n",
       "       'frp_p95_night', 'frp_p97_day', 'frp_p97_night', 'frp_p99_day',\n",
       "       'frp_p99_night', 'frp_first_day', 'frp_first_night', 'Fire_ID',\n",
       "       'Fire_Name', 'geometry', 'x', 'y', 'erc', 'erc_dv', 'vpd', 'vpd_dv',\n",
       "       'elev', 'slope', 'chili', 'tpi', 'CBIbc_mean', 'CBIbc_p90', 'CBIbc_p95',\n",
       "       'CBIbc_p99', 'CBIbc_stdDev'],\n",
       "      dtype='object')"
      ]
     },
     "execution_count": 19,
     "metadata": {},
     "output_type": "execute_result"
    }
   ],
   "source": [
    "tm_sev.columns"
   ]
  },
  {
   "cell_type": "code",
   "execution_count": 20,
   "id": "6fe6ef3d-3548-4734-9cff-885b0ae81ef1",
   "metadata": {},
   "outputs": [
    {
     "name": "stdout",
     "output_type": "stream",
     "text": [
      "319734\n",
      "57232\n",
      "329506\n"
     ]
    }
   ],
   "source": [
    "print(len(tm))\n",
    "print(len(sev))\n",
    "print(len(tm_sev))"
   ]
  },
  {
   "cell_type": "code",
   "execution_count": 21,
   "id": "4187495a-ff0a-46b3-bc00-ad96eac73b42",
   "metadata": {},
   "outputs": [
    {
     "name": "stdout",
     "output_type": "stream",
     "text": [
      "\n",
      "NaNs in CBI: 17\n",
      "\n",
      "NaNs in FRP: 0\n",
      "\n",
      "NaNs in FORTYP: 0\n",
      "\n"
     ]
    }
   ],
   "source": [
    "print(f\"\\nNaNs in CBI: {tm_sev['CBIbc_p90'].isna().sum()}\\n\")\n",
    "print(f\"NaNs in FRP: {tm_sev['frp_max_day'].isna().sum()}\\n\")\n",
    "print(f\"NaNs in FORTYP: {tm_sev['fortypnm_gp'].isna().sum()}\\n\")"
   ]
  },
  {
   "cell_type": "code",
   "execution_count": 22,
   "id": "f0a6df8f-3484-431f-8670-8d52a8a45ea8",
   "metadata": {},
   "outputs": [
    {
     "name": "stdout",
     "output_type": "stream",
     "text": [
      "329489\n"
     ]
    }
   ],
   "source": [
    "tm_sev = tm_sev[~tm_sev['CBIbc_p90'].isna()]\n",
    "print(len(tm_sev))"
   ]
  },
  {
   "cell_type": "code",
   "execution_count": 23,
   "id": "7bf8964b-d45e-41ae-b6ed-2937336d5cc8",
   "metadata": {},
   "outputs": [
    {
     "data": {
      "text/plain": [
       "Index(['grid_index', 'fortypnm_gp', 'fortyp_pct', 'forest_pixels',\n",
       "       'forest_pct', 'species_gp_n', 'tmid_n', 'ba_live', 'ba_dead', 'ba_ld',\n",
       "       'tpp_live', 'tpp_dead', 'tpp_ld', 'qmd_live', 'qmd_dead', 'qmd_ld',\n",
       "       'tree_ht_live', 'tree_ht_dead', 'balive_total', 'badead_total',\n",
       "       'ba_ld_total', 'tpp_live_total', 'tpp_dead_total', 'tpp_ld_total',\n",
       "       'qmd_live_total', 'qmd_dead_total', 'qmd_ld_total', 'ba_live_pr',\n",
       "       'ba_dead_pr', 'ba_ld_pr', 'tpp_live_pr', 'tpp_dead_pr', 'tpp_ld_pr',\n",
       "       'qmd_live_pr', 'qmd_dead_pr', 'qmd_ld_pr', 'grid_area', 'afd_count',\n",
       "       'unique_days', 'overlap', 'frp_csum', 'frp_max', 'frp_min', 'frp_mean',\n",
       "       'frp_p90', 'frp_p95', 'frp_p97', 'frp_p99', 'frp_first', 'day_max_frp',\n",
       "       'dt_max_frp', 'first_obs_date', 'last_obs_date', 't4_max', 't4_mean',\n",
       "       't5_max', 't5_mean', 'day_count', 'night_count', 'frp_max_day',\n",
       "       'frp_max_night', 'frp_csum_day', 'frp_csum_night', 'frp_mean_day',\n",
       "       'frp_mean_night', 'frp_p90_day', 'frp_p90_night', 'frp_p95_day',\n",
       "       'frp_p95_night', 'frp_p97_day', 'frp_p97_night', 'frp_p99_day',\n",
       "       'frp_p99_night', 'frp_first_day', 'frp_first_night', 'Fire_ID',\n",
       "       'Fire_Name', 'geometry', 'x', 'y', 'erc', 'erc_dv', 'vpd', 'vpd_dv',\n",
       "       'elev', 'slope', 'chili', 'tpi', 'CBIbc_mean', 'CBIbc_p90', 'CBIbc_p95',\n",
       "       'CBIbc_p99', 'CBIbc_stdDev'],\n",
       "      dtype='object')"
      ]
     },
     "execution_count": 23,
     "metadata": {},
     "output_type": "execute_result"
    }
   ],
   "source": [
    "tm_sev.columns"
   ]
  },
  {
   "cell_type": "code",
   "execution_count": 24,
   "id": "3e873edf-1a76-49c1-92ec-1cdf5ad07ce3",
   "metadata": {},
   "outputs": [
    {
     "name": "stdout",
     "output_type": "stream",
     "text": [
      "Saved to: /Users/max/Library/CloudStorage/OneDrive-Personal/mcook/aspen-fire/Aim2/data/tabular/mod/gridstats_fortypnm_gp_tm_ct_frp-cbi.csv\n"
     ]
    }
   ],
   "source": [
    "# save the table out\n",
    "out_fp = os.path.join(projdir,'data/tabular/mod/gridstats_fortypnm_gp_tm_ct_frp-cbi.csv')\n",
    "tm_sev.to_csv(out_fp)\n",
    "print(f\"Saved to: {out_fp}\")"
   ]
  },
  {
   "cell_type": "code",
   "execution_count": 13,
   "id": "c2e1278f-bb9a-4ff9-9065-97c3dc40eccb",
   "metadata": {},
   "outputs": [
    {
     "data": {
      "text/plain": [
       "array(['Gambel oak', 'Mixed-conifer', 'Piñon-juniper', 'Ponderosa',\n",
       "       'Quaking aspen', 'Rocky mountain juniper', 'Lodgepole',\n",
       "       'Spruce-fir'], dtype=object)"
      ]
     },
     "execution_count": 13,
     "metadata": {},
     "output_type": "execute_result"
    }
   ],
   "source": [
    "tm_sev['species_gp_n'].unique()"
   ]
  },
  {
   "cell_type": "code",
   "execution_count": null,
   "id": "9577d6d5-53da-4a18-bc1a-267bdbee7bf8",
   "metadata": {},
   "outputs": [],
   "source": []
  },
  {
   "cell_type": "code",
   "execution_count": null,
   "id": "385e9e90-583b-42af-9900-7308283c91c5",
   "metadata": {},
   "outputs": [],
   "source": [
    "# plots."
   ]
  },
  {
   "cell_type": "code",
   "execution_count": 14,
   "id": "93e7f4e5-ffaa-4c3f-abaa-40f83162b171",
   "metadata": {},
   "outputs": [
    {
     "name": "stdout",
     "output_type": "stream",
     "text": [
      "Tree Type: Lodgepole - Pearson correlation: 0.19, p-value: 0.0000\n",
      "Tree Type: Mixed-conifer - Pearson correlation: 0.12, p-value: 0.0000\n",
      "Tree Type: Oak-woodland - Pearson correlation: -0.00, p-value: 0.8955\n",
      "Tree Type: Piñon-juniper - Pearson correlation: 0.21, p-value: 0.0000\n",
      "Tree Type: Ponderosa - Pearson correlation: 0.19, p-value: 0.0000\n",
      "Tree Type: Quaking aspen - Pearson correlation: 0.33, p-value: 0.0000\n",
      "Tree Type: Rocky mountain juniper - Pearson correlation: 0.35, p-value: 0.0000\n",
      "Tree Type: Spruce-fir - Pearson correlation: 0.26, p-value: 0.0000\n",
      "\n",
      "\n",
      "\n",
      "Correlation by Tree Type:\n",
      "\n"
     ]
    },
    {
     "data": {
      "text/html": [
       "<div>\n",
       "<style scoped>\n",
       "    .dataframe tbody tr th:only-of-type {\n",
       "        vertical-align: middle;\n",
       "    }\n",
       "\n",
       "    .dataframe tbody tr th {\n",
       "        vertical-align: top;\n",
       "    }\n",
       "\n",
       "    .dataframe thead th {\n",
       "        text-align: right;\n",
       "    }\n",
       "</style>\n",
       "<table border=\"1\" class=\"dataframe\">\n",
       "  <thead>\n",
       "    <tr style=\"text-align: right;\">\n",
       "      <th></th>\n",
       "      <th>correlation</th>\n",
       "      <th>p_value</th>\n",
       "    </tr>\n",
       "  </thead>\n",
       "  <tbody>\n",
       "    <tr>\n",
       "      <th>Rocky mountain juniper</th>\n",
       "      <td>0.353360</td>\n",
       "      <td>3.074318e-16</td>\n",
       "    </tr>\n",
       "    <tr>\n",
       "      <th>Quaking aspen</th>\n",
       "      <td>0.332411</td>\n",
       "      <td>0.000000e+00</td>\n",
       "    </tr>\n",
       "    <tr>\n",
       "      <th>Spruce-fir</th>\n",
       "      <td>0.257327</td>\n",
       "      <td>0.000000e+00</td>\n",
       "    </tr>\n",
       "    <tr>\n",
       "      <th>Piñon-juniper</th>\n",
       "      <td>0.207062</td>\n",
       "      <td>1.862836e-69</td>\n",
       "    </tr>\n",
       "    <tr>\n",
       "      <th>Ponderosa</th>\n",
       "      <td>0.186958</td>\n",
       "      <td>0.000000e+00</td>\n",
       "    </tr>\n",
       "    <tr>\n",
       "      <th>Lodgepole</th>\n",
       "      <td>0.186562</td>\n",
       "      <td>0.000000e+00</td>\n",
       "    </tr>\n",
       "  </tbody>\n",
       "</table>\n",
       "</div>"
      ],
      "text/plain": [
       "                        correlation       p_value\n",
       "Rocky mountain juniper     0.353360  3.074318e-16\n",
       "Quaking aspen              0.332411  0.000000e+00\n",
       "Spruce-fir                 0.257327  0.000000e+00\n",
       "Piñon-juniper              0.207062  1.862836e-69\n",
       "Ponderosa                  0.186958  0.000000e+00\n",
       "Lodgepole                  0.186562  0.000000e+00"
      ]
     },
     "execution_count": 14,
     "metadata": {},
     "output_type": "execute_result"
    }
   ],
   "source": [
    "# Correlations between FRP and CBIbc for dominant species\n",
    "df = dom.copy() # work with a copy\n",
    "df = df[df['frp_csum'] > 0]\n",
    "df = df[df['CBIbc_p90'] > 0]\n",
    "\n",
    "# by forest type (grouped)\n",
    "cors = {}\n",
    "for tree_type, group in df.groupby('fortypnm_gp'):\n",
    "    corr, p_value = pearsonr(group['frp_csum'], group['CBIbc_p90'])\n",
    "    cors[tree_type] = (corr, p_value)\n",
    "    print(f\"Tree Type: {tree_type} - Pearson correlation: {corr:.2f}, p-value: {p_value:.4f}\")\n",
    "\n",
    "print(f\"\\n\")\n",
    "cor_df = pd.DataFrame(cors, index=['correlation', 'p_value']).T\n",
    "print(\"\\nCorrelation by Tree Type:\\n\")\n",
    "cor_df = cor_df.sort_values('correlation', ascending=False)\n",
    "cor_df.head(6)"
   ]
  },
  {
   "cell_type": "code",
   "execution_count": null,
   "id": "6cb89913-67aa-4c8d-8b66-ad1010bca14a",
   "metadata": {},
   "outputs": [],
   "source": [
    "df = tm_sev.copy()\n",
    "df = df[df['frp_csum'] > 0]\n",
    "df = df[df['CBIbc_p90'] > 0]\n",
    "\n",
    "# keep only one row per\n",
    "df = df.drop_duplicates(subset=['grid_index','fortypnm_gp'])\n",
    "print(len(df))\n",
    "\n",
    "sorted_species = sorted(cors.keys(), key=lambda x: abs(cors[x][0]), reverse=True)\n",
    "\n",
    "g = sns.lmplot(\n",
    "    data=df, x='frp_csum', y='CBIbc_p90', hue='fortypnm_gp', col='fortypnm_gp', \n",
    "    col_wrap=3, height=2, aspect=1.2, scatter_kws={'alpha':0.4,'s': 15}, line_kws={'color':'black'}, \n",
    "    sharey=True, sharex=False, col_order=sorted_species, palette='viridis' \n",
    ")\n",
    "\n",
    "# Adjust the titles to remove the \"species_name = \" prefix\n",
    "for ax in g.axes.flat:\n",
    "    ax.set_ylim(0, df['CBIbc_p90'].max()+0.1)  # Set the y-axis limit from 0 to 4\n",
    "    \n",
    "    species_name = ax.get_title().replace('fortypnm_gp = ', '')\n",
    "    corr, p_value = cors.get(species_name, (None, None))\n",
    "    \n",
    "    # Set title with correlation coefficient\n",
    "    ax.set_title(f\"{species_name}\\n$r={corr:.2f}$, $p={p_value:.2f}$\", fontsize=10)\n",
    "\n",
    "g.set_axis_labels('', '')\n",
    "g.fig.text(0.5, -0.015, 'Fire Radiative Power (cumulative)', ha='center', va='center', fontsize=12)\n",
    "g.fig.text(0.015, 0.85, 'Composite Burn Index (mean)', ha='center', va='center', rotation='vertical', fontsize=12)\n",
    "g.fig.set_size_inches(7.5, 3)  # Set figure dimensions\n",
    "plt.subplots_adjust(top=1.5)  # Adjust subplot spacing\n",
    "\n",
    "plt.savefig(os.path.join(projdir,'figures/FigureX_FORTYPNMGP-FRP-CBIbc.png'), dpi=150, bbox_inches='tight')\n",
    "\n",
    "plt.show()"
   ]
  },
  {
   "cell_type": "code",
   "execution_count": null,
   "id": "fd58325a-cfd2-4d2d-b2d5-b00d9fe5fc16",
   "metadata": {},
   "outputs": [],
   "source": [
    "out_fp = os.path.join(projdir, 'data/tabular/mod/gridstats_frp-cbi_pearson.csv')\n",
    "cor_df.to_csv(out_fp)\n",
    "print(f\"Saved to: {out_fp}\")"
   ]
  },
  {
   "cell_type": "code",
   "execution_count": null,
   "id": "4a8a9db5-7a9a-40af-8a10-f0c526d71d5c",
   "metadata": {},
   "outputs": [],
   "source": []
  },
  {
   "cell_type": "code",
   "execution_count": null,
   "id": "98498065-760d-42c6-8a17-1a156d253475",
   "metadata": {},
   "outputs": [],
   "source": []
  },
  {
   "cell_type": "code",
   "execution_count": null,
   "id": "8328a3fe-1b12-497b-93b7-e384d6c4804f",
   "metadata": {},
   "outputs": [],
   "source": []
  },
  {
   "cell_type": "code",
   "execution_count": null,
   "id": "9cc34692-8d86-457d-aeaa-4cba3f7ce0ed",
   "metadata": {},
   "outputs": [],
   "source": [
    "# get aspen grids (any aspen component)\n",
    "# get gridcells with at least some aspen\n",
    "aspen_idx = tm_sev[tm_sev['fortypnm_gp'] == 'Aspen']['grid_index'].unique() # list of grid indices\n",
    "grid_aspen = tm_sev[tm_sev['grid_index'].isin(aspen_idx)]\n",
    "# check how many aspen gridcells there are\n",
    "n_aspen = len(grid_aspen['grid_index'].unique())\n",
    "print(f\"There are a total of {n_aspen} [{round(n_aspen/len(tm_sev['grid_index'].unique())*100,1)}%] gridcells with aspen dominance.\")"
   ]
  },
  {
   "cell_type": "code",
   "execution_count": null,
   "id": "e984f1a5-6c0c-4bf4-86c6-7d40169ecbc0",
   "metadata": {},
   "outputs": [],
   "source": [
    "# create bins for species composition\n",
    "bins = np.linspace(0, 100, 6) # 20% intervals\n",
    "spps = [s for s in tm_sev['fortypnm_gp'].unique() if s != 'Aspen'] # exclude aspen from species list\n",
    "print(f\"Associate forest type: {spps}\\n\")\n",
    "\n",
    "# plot the associateions with aspen\n",
    "# waffle chart version\n",
    "df = grid_aspen.copy()\n",
    "\n",
    "# create grid data\n",
    "tiles = []  # Store tile data\n",
    "for sp in spps:\n",
    "    # Filter for co-occurrence\n",
    "    df_sp = df[df['fortypnm_gp'].isin(['Aspen', sp])]\n",
    "\n",
    "    # Pivot to create columns for Aspen and the species\n",
    "    cover_df = (\n",
    "        df_sp.pivot_table(index='grid_index', columns='fortypnm_gp', values='fortyp_pct', fill_value=0)\n",
    "        .reset_index()\n",
    "        .rename(columns={'Aspen': 'aspen_pct', sp: f'{sp}_pct'})\n",
    "    )\n",
    "\n",
    "    # make sure there is some of each kind\n",
    "    cover_df['combined_pct'] = cover_df['aspen_pct'] + cover_df[f'{sp}_pct']\n",
    "    cover_df = cover_df[cover_df['combined_pct'] > 50]\n",
    "\n",
    "    # Merge with FRP data\n",
    "    frp_df = grid_aspen[['grid_index','CBIbc_mean','CBIbc_p95','frp_max_day','frp_csum']].drop_duplicates()\n",
    "    cover_df = cover_df.merge(frp_df, on='grid_index', how='left')\n",
    "\n",
    "    # Bin Aspen and species percent cover\n",
    "    cover_df['aspen_bin'] = pd.cut(cover_df['aspen_pct'], bins, labels=range(len(bins) - 1))\n",
    "    cover_df[f'{sp}_bin'] = pd.cut(cover_df[f'{sp}_pct'], bins, labels=range(len(bins) - 1))\n",
    "\n",
    "    # Group by bins and calculate statistics\n",
    "    grouped = cover_df.groupby(['aspen_bin', f'{sp}_bin'])\n",
    "    counts = grouped.size().reset_index(name='freq')  # Frequency for tile size\n",
    "    mean_cbi = grouped['CBIbc_p95'].mean().reset_index(name='CBIbc')  # Mean FRP for color\n",
    "    mean_frp = grouped['frp_max_day'].mean().reset_index(name='frp')  # Mean FRP for color\n",
    "\n",
    "    # Merge statistics into a single DataFrame\n",
    "    tiled_data = pd.merge(counts, mean_frp, on=['aspen_bin', f'{sp}_bin'])\n",
    "    tiled_data = pd.merge(tiled_data, mean_cbi, on=['aspen_bin', f'{sp}_bin'])\n",
    "    tiled_data['species'] = sp\n",
    "    tiles.append(tiled_data)\n",
    "\n",
    "# Combine tile data\n",
    "tiles_df = pd.concat(tiles, ignore_index=True)\n",
    "\n",
    "# Normalize tile sizes (scale frequency)\n",
    "tiles_df['tile_size'] = (tiles_df['freq'] / tiles_df['freq'].max()) ** 0.2  # Square root scaling for better size balance\n",
    "\n",
    "# Plotting the tile-scaled heatmap\n",
    "n_cols = 3 # Number of columns in the facet grid\n",
    "n_rows = int(np.ceil(len(spps) / n_cols))\n",
    "fig, axes = plt.subplots(n_rows, n_cols, figsize=(9,3.5), constrained_layout=True)\n",
    "axes = axes.flatten()\n",
    "\n",
    "vmin = tiles_df['CBIbc'].min()\n",
    "vmax = tiles_df['CBIbc'].max()\n",
    "norm = mcolors.Normalize(vmin=vmin, vmax=vmax)  # Define color normalization based on raw FRP range\n",
    "\n",
    "# make the grids\n",
    "for i, sp in enumerate(spps):\n",
    "    sp_data = tiles_df[tiles_df['species'] == sp]\n",
    "    ax = axes[i]\n",
    "\n",
    "    sp_vmin = sp_data['CBIbc'].min()\n",
    "    sp_vmax = sp_data['CBIbc'].max()\n",
    "\n",
    "    for _, row in sp_data.iterrows():\n",
    "        x = int(row[f'{sp}_bin'])  \n",
    "        y = int(row['aspen_bin'])  \n",
    "        size = row['tile_size'] * 0.9\n",
    "        \n",
    "        norm = mcolors.Normalize(vmin=sp_vmin, vmax=sp_vmax)\n",
    "        color = plt.cm.coolwarm(norm(row['CBIbc']))\n",
    "        \n",
    "        ax.add_patch(\n",
    "            plt.Rectangle(\n",
    "                (x - size / 2, y - size / 2), size, size, color=color, ec='black', lw=0.5\n",
    "            )\n",
    "        )\n",
    "\n",
    "    # Formatting the axes\n",
    "    # ax.set_title(sp, size=10)\n",
    "    ax.text(\n",
    "        0.95, 0.95, sp,  # x, y position in axis coordinates (top-right corner)\n",
    "        transform=ax.transAxes,  # Use axis coordinates (0,0 is bottom-left, 1,1 is top-right)\n",
    "        ha='right', va='top',  # Align the text to the top-right\n",
    "        fontsize=10, color='black', bbox=dict(facecolor='white', edgecolor='none', boxstyle='round,pad=0.2')\n",
    "    )\n",
    "    ax.set_xlabel(f'')\n",
    "    ax.set_ylabel('Aspen Cover (%)', size=9)\n",
    "    ax.set_xticks(range(len(bins) - 1))\n",
    "    ax.set_yticks(range(len(bins) - 1))\n",
    "    ax.set_xticklabels([f'{int(b)}%' for b in bins[:-1]], size=8)\n",
    "    ax.set_yticklabels([f'{int(b)}%' for b in bins[:-1]], size=8)\n",
    "    ax.set_xlim(-0.5, len(bins) - 1.5)\n",
    "    ax.set_ylim(-0.5, len(bins) - 1.5)\n",
    "\n",
    "    sm = plt.cm.ScalarMappable(cmap=plt.cm.coolwarm, norm=norm)\n",
    "    cbar = fig.colorbar(sm, ax=ax, orientation='vertical', fraction=0.50, pad=0.1)\n",
    "    cbar.set_label('CBI')\n",
    "\n",
    "# Remove unused axes\n",
    "for j in range(i + 1, len(axes)):\n",
    "    fig.delaxes(axes[j])\n",
    "\n",
    "del df\n",
    "\n",
    "out_plot = os.path.join(projdir, 'figures/FigureX_CoOccurring_Heatmap_CBIbc_Scaled.png')\n",
    "plt.savefig(out_plot, dpi=300, bbox_inches='tight')\n",
    "\n",
    "plt.show()"
   ]
  },
  {
   "cell_type": "code",
   "execution_count": null,
   "id": "fe0aac63-cd4f-4f0b-b99c-f21db565c2e2",
   "metadata": {},
   "outputs": [],
   "source": [
    "# plot the distribution of percent cover\n",
    "df = grid_aspen.copy() # work with a copy\n",
    "\n",
    "kde_data = []\n",
    "for sp in spps:\n",
    "    df_sp = df[df['fortypnm_gp'].isin(['Aspen', sp])]\n",
    "\n",
    "    # Pivot table to create columns for Aspen and the species\n",
    "    cover_df = (\n",
    "        df_sp.pivot_table(index='grid_index', columns='fortypnm_gp', values='fortyp_pct', fill_value=0)\n",
    "        .reset_index()\n",
    "        .rename(columns={'Aspen': 'Aspen', sp: sp})\n",
    "    )\n",
    "\n",
    "    # Filter for co-occurrence\n",
    "    cover_df['combined_pct'] = cover_df['Aspen'] + cover_df[sp]\n",
    "    cover_df = cover_df[cover_df['combined_pct'] > 60]\n",
    "\n",
    "    # Melt data for Seaborn FacetGrid\n",
    "    melted = cover_df.melt(\n",
    "        id_vars='grid_index', \n",
    "        value_vars=['Aspen', sp], \n",
    "        var_name='species', \n",
    "        value_name='pct_cover'\n",
    "    )\n",
    "    melted['other_spp'] = sp  # Add metadata for faceting\n",
    "    kde_data.append(melted)\n",
    "\n",
    "# Combine data for all species\n",
    "kde_data_df = pd.concat(kde_data, ignore_index=True)\n",
    "\n",
    "# FacetGrid with the fixed palette\n",
    "g = sns.FacetGrid(kde_data_df, col=\"other_spp\", col_wrap=3, height=2, sharex=True, sharey=False)\n",
    "\n",
    "# Map kdeplot with consistent colors\n",
    "g.map_dataframe(\n",
    "    sns.kdeplot, \n",
    "    x=\"pct_cover\", \n",
    "    hue=\"species\", \n",
    "    fill=True, \n",
    "    alpha=0.6, \n",
    "    common_norm=False, \n",
    ")\n",
    "    \n",
    "# Adjust labels and titles\n",
    "g.set_titles(\"{col_name}\")\n",
    "g.set_axis_labels(\"Percent Cover (%)\", \"Density\")\n",
    "g.tight_layout()\n",
    "\n",
    "out_plot = os.path.join(projdir, 'figures/FigureX_CoOccurring_CoverDistribution.png')\n",
    "plt.savefig(out_plot, dpi=300, bbox_inches='tight')\n",
    "\n",
    "plt.show()"
   ]
  },
  {
   "cell_type": "code",
   "execution_count": null,
   "id": "4ca310cd-383e-4d00-ad79-b93bee41fc93",
   "metadata": {},
   "outputs": [],
   "source": [
    "# create bins for species composition\n",
    "bins = np.linspace(0, 100, 6) # 20% intervals\n",
    "spps = [s for s in grid_aspen['fortypnm_gp'].unique() if s != 'Aspen'] # exclude aspen from species list\n",
    "spps = ['Mixed-conifer', 'Piñon-juniper', 'Ponderosa', 'Spruce-fir', 'Lodgepole']\n",
    "print(f\"Associate forest type: {spps}\\n\")\n",
    "\n",
    "# Number of rows based on species\n",
    "n_rows = len(spps)  # One row per species\n",
    "fig, axes = plt.subplots(n_rows, 3, figsize=(8, 9), constrained_layout=True)\n",
    "\n",
    "for i, sp in enumerate(spps):\n",
    "    # ===== TILE PLOT =====\n",
    "    sp_data = tiles_df[tiles_df['species'] == sp]\n",
    "    ax_tile = axes[i, 0]\n",
    "\n",
    "    # Tile Plot Data\n",
    "    sp_vmin = sp_data['frp'].min()\n",
    "    sp_vmax = sp_data['frp'].max()\n",
    "    norm = mcolors.Normalize(vmin=sp_vmin, vmax=sp_vmax)\n",
    "\n",
    "    for _, row in sp_data.iterrows():\n",
    "        x = int(row[f'{sp}_bin'])\n",
    "        y = int(row['aspen_bin'])\n",
    "        size = row['tile_size'] * 0.9\n",
    "        color = plt.cm.coolwarm(norm(row['frp']))\n",
    "\n",
    "        ax_tile.add_patch(\n",
    "            plt.Rectangle(\n",
    "                (x - size / 2, y - size / 2), size, size, color=color, ec='black', lw=0.5\n",
    "            )\n",
    "        )\n",
    "\n",
    "    # Formatting Tile Plot\n",
    "    ax_tile.text(\n",
    "        0.95, 0.95, sp,  # Top-right corner\n",
    "        transform=ax_tile.transAxes,\n",
    "        ha='right', va='top',\n",
    "        fontsize=10, color='black', bbox=dict(facecolor='white', edgecolor='none', boxstyle='round,pad=0.2')\n",
    "    )\n",
    "    ax_tile.set_xlabel(f'{sp} Cover (%)', size=9)\n",
    "    ax_tile.set_ylabel('Aspen Cover (%)', size=9)\n",
    "    ax_tile.set_xticks(range(len(bins) - 1))\n",
    "    ax_tile.set_yticks(range(len(bins) - 1))\n",
    "    ax_tile.set_xticklabels([f'{int(b)}%' for b in bins[:-1]], size=8)\n",
    "    ax_tile.set_yticklabels([f'{int(b)}%' for b in bins[:-1]], size=8)\n",
    "    ax_tile.set_xlim(-0.5, len(bins) - 1.5)\n",
    "    ax_tile.set_ylim(-0.5, len(bins) - 1.5)\n",
    "\n",
    "    # Add colorbar to tile plot\n",
    "    sm = plt.cm.ScalarMappable(cmap=plt.cm.coolwarm, norm=norm)\n",
    "    cbar = fig.colorbar(sm, ax=ax_tile, orientation='vertical', fraction=0.05, pad=0.1)\n",
    "    cbar.set_label('Maximum FRP')\n",
    "    \n",
    "    # ===== TILE PLOT =====\n",
    "    ax_tile = axes[i, 1]\n",
    "\n",
    "    # Tile Plot Data\n",
    "    sp_vmin = sp_data['CBIbc'].min()\n",
    "    sp_vmax = sp_data['CBIbc'].max()\n",
    "    norm = mcolors.Normalize(vmin=sp_vmin, vmax=sp_vmax)\n",
    "\n",
    "    for _, row in sp_data.iterrows():\n",
    "        x = int(row[f'{sp}_bin'])\n",
    "        y = int(row['aspen_bin'])\n",
    "        size = row['tile_size'] * 0.9\n",
    "        color = plt.cm.coolwarm(norm(row['CBIbc']))\n",
    "\n",
    "        ax_tile.add_patch(\n",
    "            plt.Rectangle(\n",
    "                (x - size / 2, y - size / 2), size, size, color=color, ec='black', lw=0.5\n",
    "            )\n",
    "        )\n",
    "\n",
    "    # Formatting Tile Plot\n",
    "    ax_tile.text(\n",
    "        0.95, 0.95, sp,  # Top-right corner\n",
    "        transform=ax_tile.transAxes,\n",
    "        ha='right', va='top',\n",
    "        fontsize=10, color='black', bbox=dict(facecolor='white', edgecolor='none', boxstyle='round,pad=0.2')\n",
    "    )\n",
    "    ax_tile.set_xlabel(f'{sp} Cover (%)', size=9)\n",
    "    ax_tile.set_ylabel('Aspen Cover (%)', size=9)\n",
    "    ax_tile.set_xticks(range(len(bins) - 1))\n",
    "    ax_tile.set_yticks(range(len(bins) - 1))\n",
    "    ax_tile.set_xticklabels([f'{int(b)}%' for b in bins[:-1]], size=8)\n",
    "    ax_tile.set_yticklabels([f'{int(b)}%' for b in bins[:-1]], size=8)\n",
    "    ax_tile.set_xlim(-0.5, len(bins) - 1.5)\n",
    "    ax_tile.set_ylim(-0.5, len(bins) - 1.5)\n",
    "\n",
    "    # Add colorbar to tile plot\n",
    "    sm = plt.cm.ScalarMappable(cmap=plt.cm.coolwarm, norm=norm)\n",
    "    cbar = fig.colorbar(sm, ax=ax_tile, orientation='vertical', fraction=0.05, pad=0.1)\n",
    "    cbar.set_label('95th CBIbc')\n",
    "\n",
    "    # ===== KDE PLOT =====\n",
    "    sp_kde_data = kde_data_df[kde_data_df[\"other_spp\"] == sp]\n",
    "    ax_kde = axes[i, 2]\n",
    "\n",
    "    # cp = {\n",
    "    #     \"Aspen\": \"#7fbf7b\",  \n",
    "    #     sp: \"#af8dc3\"         \n",
    "    # }\n",
    "   \n",
    "    sns.kdeplot(data=sp_kde_data, \n",
    "        x=\"pct_cover\", \n",
    "        hue=\"species\", \n",
    "        fill=True, \n",
    "        alpha=0.6, \n",
    "        common_norm=False,\n",
    "        # palette=cp,\n",
    "        ax=ax_kde,\n",
    "    )\n",
    "\n",
    "    # Formatting KDE Plot\n",
    "    # ax_kde.set_title(f'{sp}', size=10)\n",
    "    ax_kde.set_xlabel('Percent Cover (%)', size=9)\n",
    "    ax_kde.set_ylabel('Density', size=9)\n",
    "\n",
    "    legend = ax_kde.legend_  # Get the legend object for the KDE plot\n",
    "    if legend:\n",
    "        legend.set_title(\"\")  # Remove the legend title\n",
    "        for text in legend.get_texts():  # Adjust the size of legend text\n",
    "            text.set_fontsize(8)\n",
    "            \n",
    "# Adjust layout and show plot\n",
    "# plt.tight_layout()\n",
    "\n",
    "out_plot = os.path.join(projdir, 'figures/Figure5_CoOccurring_Heatmap_CoverDistribution_FRP_CBIbc.png')\n",
    "plt.savefig(out_plot, dpi=300, bbox_inches='tight')\n",
    "\n",
    "plt.show()"
   ]
  }
 ],
 "metadata": {
  "kernelspec": {
   "display_name": "aspen-fire",
   "language": "python",
   "name": "aspen-fire"
  },
  "language_info": {
   "codemirror_mode": {
    "name": "ipython",
    "version": 3
   },
   "file_extension": ".py",
   "mimetype": "text/x-python",
   "name": "python",
   "nbconvert_exporter": "python",
   "pygments_lexer": "ipython3",
   "version": "3.10.12"
  }
 },
 "nbformat": 4,
 "nbformat_minor": 5
}
