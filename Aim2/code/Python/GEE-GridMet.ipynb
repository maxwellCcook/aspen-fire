{
 "cells": [
  {
   "cell_type": "code",
   "execution_count": null,
   "id": "2ec5f74e-ef2e-4ec3-9066-c21a7c15ee34",
   "metadata": {},
   "outputs": [],
   "source": [
    "\"\"\"\n",
    "Extract gridMET variables \n",
    "Google Earth Engine (GEE) Python API\n",
    "Author: maxwell.cook@colorado.edu\n",
    "\"\"\"\n",
    "\n",
    "import os, sys\n",
    "import ee\n",
    "import geemap\n",
    "import time\n",
    "\n",
    "# Custom functions\n",
    "sys.path.append(os.path.join(os.getcwd(),'code/'))\n",
    "from __functions import *\n",
    "\n",
    "ee.Authenticate()\n",
    "ee.Initialize(project='jfsp-aspen')\n",
    "\n",
    "print(\"Success !\")"
   ]
  },
  {
   "cell_type": "code",
   "execution_count": null,
   "id": "695dbe4b-5fe6-48c9-9ce3-7c2ed21f2a83",
   "metadata": {},
   "outputs": [],
   "source": [
    "# Load fire perimeters\n",
    "fires = ee.FeatureCollection('projects/jfsp-aspen/assets/nifc_aspenfires_2018to2023')\n",
    "print(f\"Number of aspen fires: {fires.size().getInfo()}\")\n",
    "print(fires.first().propertyNames().getInfo())"
   ]
  },
  {
   "cell_type": "code",
   "execution_count": null,
   "id": "53e44dd9-2b5f-4751-ad04-269bccd92461",
   "metadata": {},
   "outputs": [],
   "source": []
  },
  {
   "cell_type": "code",
   "execution_count": null,
   "id": "34d76eb3-82ed-43ac-b8bf-3b44cbc0cc8d",
   "metadata": {},
   "outputs": [],
   "source": [
    "# Load the gridmet image collection"
   ]
  },
  {
   "cell_type": "code",
   "execution_count": null,
   "id": "929988fa-2c96-43a5-aaa0-48e51720842e",
   "metadata": {},
   "outputs": [],
   "source": [
    "gridmet = ee.ImageCollection('IDAHO_EPSCOR/GRIDMET')\n",
    "print(f\"gridMET bands available for analysis:\\n\\n{gridmet.first().bandNames().getInfo()}\")"
   ]
  },
  {
   "cell_type": "code",
   "execution_count": null,
   "id": "1ea1f429-786b-4534-8bd6-8eeb06702db5",
   "metadata": {},
   "outputs": [],
   "source": [
    "# calculate the 15 year average\n",
    "mean15 = gridmet.filter(ee.Filter.calendarRange(2008,2024,'year')).mean() \n",
    "gridmet.first().bandNames().getInfo()"
   ]
  },
  {
   "cell_type": "code",
   "execution_count": null,
   "id": "b813d31c-780c-4eb8-a1a2-e459c072dc09",
   "metadata": {},
   "outputs": [],
   "source": []
  },
  {
   "cell_type": "code",
   "execution_count": null,
   "id": "4be4414c-ae77-487c-9662-1998983c1887",
   "metadata": {},
   "outputs": [],
   "source": [
    "# Load the AFD "
   ]
  },
  {
   "cell_type": "code",
   "execution_count": null,
   "id": "9a33e6d7-4806-458e-b419-bbda4b695178",
   "metadata": {},
   "outputs": [],
   "source": [
    "grid = ee.FeatureCollection('projects/jfsp-aspen/assets/viirs_snpp_jpss1_afd_aspenfires_gridstats')\n",
    "print(f\"Number of gridcells: {grid.size().getInfo()}\")\n",
    "print(grid.first().propertyNames().getInfo())"
   ]
  },
  {
   "cell_type": "code",
   "execution_count": null,
   "id": "493a5cd8-b589-4b17-9edf-45f5d04141f1",
   "metadata": {},
   "outputs": [],
   "source": [
    "# get a list of unique active fire days\n",
    "fire_days = grid.aggregate_array('max_date').getInfo()\n",
    "fire_days = set(fire_days)\n",
    "print(f\"Number of 'fire days': {len(fire_days)}\")"
   ]
  },
  {
   "cell_type": "code",
   "execution_count": null,
   "id": "2625bbc8-59c1-4383-b23f-d617ec889bff",
   "metadata": {},
   "outputs": [],
   "source": [
    "# map over the list of unique dates\n",
    "def gridmet_summary(fireID):\n",
    "    \"\"\" calculate the daily gridmet for active fire detections \"\"\"\n",
    "    # grab the fire id\n",
    "    # filter obs. to the day of burning\n",
    "    # get the unique dates of max FRP\n",
    "    fire_grid = grid.filter(ee.Filter.eq('Fire_ID', fireID))\n",
    "    fire_days = ee.List(fire_grid.aggregate_array('max_date')).distinct()\n",
    "    \n",
    "    def get_daily(day):\n",
    "        \"\"\" calculate the daily gridmet summary\"\"\"\n",
    "        # filter to this day's detections\n",
    "        # retrieve the date information for filtering\n",
    "        # get bounds for all grids in the same day\n",
    "        grids_day = fire_grid.filter(ee.Filter.eq('max_date', day))\n",
    "        bounds = grids_day.geometry().bounds() # gather the bounds for this days detections\n",
    "        max_frp_day = ee.Date(day) # the day of maximum FRP\n",
    "        prev_day = max_frp_day.advance(-1,'days') # previous day for calculating the mean\n",
    "        \n",
    "        # calculate the gridmet mean\n",
    "        # calculation the deviation from the 15-year average\n",
    "        gridmet_ = gridmet.filterDate(prev_day, max_frp_day).select(attrs).mean()\n",
    "        anomaly = gridmet_.subtract(mean15.select(attrs)).rename([atr+\"_dv\" for atr in attrs])\n",
    "        combined = gridmet_.addBands(anomaly) # combine the bands\n",
    "        \n",
    "        # run the reduction\n",
    "        stats = combined.reduceRegion(\n",
    "            reducer=ee.Reducer.mean(),\n",
    "            geometry=bounds,\n",
    "            scale=4000,\n",
    "            bestEffort=True\n",
    "        )\n",
    "\n",
    "        return ee.Feature(None, stats.set(\"max_date\", day))\n",
    "\n",
    "    results = fire_days.map(get_daily)\n",
    "    return ee.FeatureCollection(results).set('Fire_ID', fireID)\n",
    "\n",
    "print(\"Function ready !\")"
   ]
  },
  {
   "cell_type": "code",
   "execution_count": null,
   "id": "39fa4364-82f3-4c22-b6ff-4f51f44e89d3",
   "metadata": {},
   "outputs": [],
   "source": [
    "# list of gridmet attributes\n",
    "attrs = ['fm1000', 'vpd', 'erc', 'vs']\n",
    "\n",
    "# get a list of fire names\n",
    "fire_ids = grid.aggregate_array('Fire_ID').distinct()\n",
    "print(f\"Processing {fire_ids.size().getInfo()} fires.\")\n",
    "\n",
    "# run the gridmet summary for fires\n",
    "def map_fires(fireID):\n",
    "    return gridmet_summary(fireID)\n",
    "\n",
    "grid_stats = ee.FeatureCollection(\n",
    "    fire_ids.map(map_fires).flatten()\n",
    ")\n",
    "\n",
    "print(\"Number of features:\", grid_stats.first().getInfo())\n",
    "print(\"Submitted !\")"
   ]
  },
  {
   "cell_type": "code",
   "execution_count": null,
   "id": "132271bc-1a08-40af-a8f5-916d68bdbc27",
   "metadata": {},
   "outputs": [],
   "source": [
    "grid_stats.first().getInfo()"
   ]
  },
  {
   "cell_type": "code",
   "execution_count": null,
   "id": "32d22d10-d1b2-424f-80c5-47caf6bc80f8",
   "metadata": {},
   "outputs": [],
   "source": [
    "# Export the table. \n",
    "fire_stats = fire_stats.map(lambda ftr: ftr.setGeometry(None)) # drop geometry column\n",
    "\n",
    "export_task = ee.batch.Export.table.toDrive(\n",
    "    collection=fire_stats,\n",
    "    description='vn14img_gridmet',\n",
    "    fileFormat='CSV', \n",
    "    fileNamePrefix='vn14img_gridmet',\n",
    "    folder='GRIDMET'\n",
    ")\n",
    "\n",
    "# Start the export task\n",
    "export_task.start()\n",
    "print(\"Export to Earth Engine Asset started!\")\n",
    "# Monitor the task until it's finished\n",
    "monitor_export(export_task, 240) "
   ]
  }
 ],
 "metadata": {
  "kernelspec": {
   "display_name": "aspen-fire",
   "language": "python",
   "name": "aspen-fire"
  },
  "language_info": {
   "codemirror_mode": {
    "name": "ipython",
    "version": 3
   },
   "file_extension": ".py",
   "mimetype": "text/x-python",
   "name": "python",
   "nbconvert_exporter": "python",
   "pygments_lexer": "ipython3",
   "version": "3.10.12"
  }
 },
 "nbformat": 4,
 "nbformat_minor": 5
}
