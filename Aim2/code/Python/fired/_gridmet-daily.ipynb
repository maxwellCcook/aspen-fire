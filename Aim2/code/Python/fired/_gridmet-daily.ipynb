{
 "cells": [
  {
   "cell_type": "code",
   "execution_count": 1,
   "id": "28852ad0-84f8-4740-82dc-7eeeac631b4c",
   "metadata": {},
   "outputs": [
    {
     "name": "stdout",
     "output_type": "stream",
     "text": [
      "GEE Authenticated !\n"
     ]
    }
   ],
   "source": [
    "\"\"\"\n",
    "Extract gridMET variables for daily burn perimeters, western U.S.\n",
    "Google Earth Engine (GEE) Python API\n",
    "Author: maxwell.cook@colorado.edu\n",
    "\"\"\"\n",
    "\n",
    "import ee\n",
    "import geemap\n",
    "import time\n",
    "\n",
    "ee.Authenticate()\n",
    "ee.Initialize(project='jfsp-aspen')\n",
    "print(\"GEE Authenticated !\")"
   ]
  },
  {
   "cell_type": "code",
   "execution_count": 42,
   "id": "2bd57a67-ad12-433f-91d9-7ec7fbf1d2c0",
   "metadata": {},
   "outputs": [
    {
     "data": {
      "text/html": [
       "\n",
       "            <style>\n",
       "                .geemap-dark {\n",
       "                    --jp-widgets-color: white;\n",
       "                    --jp-widgets-label-color: white;\n",
       "                    --jp-ui-font-color1: white;\n",
       "                    --jp-layout-color2: #454545;\n",
       "                    background-color: #383838;\n",
       "                }\n",
       "\n",
       "                .geemap-dark .jupyter-button {\n",
       "                    --jp-layout-color3: #383838;\n",
       "                }\n",
       "\n",
       "                .geemap-colab {\n",
       "                    background-color: var(--colab-primary-surface-color, white);\n",
       "                }\n",
       "\n",
       "                .geemap-colab .jupyter-button {\n",
       "                    --jp-layout-color3: var(--colab-primary-surface-color, white);\n",
       "                }\n",
       "            </style>\n",
       "            "
      ],
      "text/plain": [
       "<IPython.core.display.HTML object>"
      ]
     },
     "metadata": {},
     "output_type": "display_data"
    },
    {
     "name": "stdout",
     "output_type": "stream",
     "text": [
      "Functions loaded !\n"
     ]
    }
   ],
   "source": [
    "# Function to calculate gridmet for daily perimeters\n",
    "def gridmet_summary(fires, reducer, attrs, buffer=None):\n",
    "    \"\"\" Calculates the gridMET variables for a given daily perimeter by daily ID \n",
    "    Args:\n",
    "        - fires: fire perimeters (with daily polygons)\n",
    "        - reducer: the reduction to use for the gridmet variables\n",
    "        - attrs: the gridmet variables\n",
    "        - buffer: (optional) apply a buffer to the daily polygon\n",
    "    \"\"\"\n",
    "    # Set a function to calculate the variables for each daily perimeter\n",
    "    def get_daily_gridmet(perim):\n",
    "        # Buffer if requested\n",
    "        if buffer is not None:\n",
    "            geom = perim.geometry().bounds().buffer(buffer)\n",
    "        else:\n",
    "            geom = perim.geometry().bounds()\n",
    "        did = perim.get('did') # get the daily burn ID\n",
    "        # Get the burn date for extracting gridMET variables\n",
    "        burn_date = ee.Date(perim.get('date')) \n",
    "        gridmet_ = gridmet.filterDate(burn_date, burn_date.advance(1, 'day')).select(attrs)\n",
    "        gridmet_mn = gridmet_.mean() # take the mean of the imageCollection (daily gridmets)\n",
    "        # Set up the feature reduction\n",
    "        stats = gridmet_mn.reduceRegion(\n",
    "            reducer=reducer,\n",
    "            geometry=geom,\n",
    "            scale=4000,  # Match gridMET resolution\n",
    "            bestEffort=True)\n",
    "        return perim.set(stats)\n",
    "    results = fires.map(get_daily_gridmet)\n",
    "    return results\n",
    "\n",
    "def parse_date(ftr, date_col):\n",
    "    \"\"\" Function to safely parse a date column and raise error if the date is invalid \"\"\"\n",
    "    try:\n",
    "        date_str = ee.String(ftr.get(date_col)).split(' ').get(0) # removes the time stamp\n",
    "        # Try to parse the date using the provided format\n",
    "        date = ee.Date.parse('YYYY/MM/dd', date_str)\n",
    "        return ftr.set('date', date)\n",
    "    except ee.EEException as e:\n",
    "        # Raise an error or skip the feature if the date is invalid\n",
    "        print(f\"Error parsing date for feature with ID {ftr.get('did').getInfo()}: {str(e)}\")\n",
    "        return None  # Skip features with invalid dates\n",
    "\n",
    "def check_dates(fc, date_col):\n",
    "    \"\"\" Filters out features with invalid dates \"\"\"\n",
    "    valid_dates = fc.map(lambda ftr: parse_date(ftr, date_col)).filter(ee.Filter.notNull(['date']))\n",
    "    return valid_dates\n",
    "\n",
    "def monitor_export(task):\n",
    "    \"\"\" Monitors EE export task \"\"\"\n",
    "    while task.active():\n",
    "        print('Waiting for export to finish..\\n\\tPatience young padawan.')\n",
    "        time.sleep(30)  # Check every 30 seconds\n",
    "    \n",
    "    # Get the status of the task\n",
    "    status = task.status()\n",
    "    \n",
    "    # Check if the task failed or succeeded\n",
    "    if status['state'] == 'COMPLETED':\n",
    "        print(\"Export completed successfully !!!!\")\n",
    "    elif status['state'] == 'FAILED':\n",
    "        print(f\"Export failed! Bummer. Reason: {status.get('error_message', 'Unknown error')}\")\n",
    "    else:\n",
    "        print(f\"Export ended with state: {status['state']}\")\n",
    "\n",
    "print(\"Functions loaded !\")"
   ]
  },
  {
   "cell_type": "code",
   "execution_count": 14,
   "id": "c3179a4e-50e1-41b0-88db-88622efcd014",
   "metadata": {},
   "outputs": [
    {
     "data": {
      "text/html": [
       "\n",
       "            <style>\n",
       "                .geemap-dark {\n",
       "                    --jp-widgets-color: white;\n",
       "                    --jp-widgets-label-color: white;\n",
       "                    --jp-ui-font-color1: white;\n",
       "                    --jp-layout-color2: #454545;\n",
       "                    background-color: #383838;\n",
       "                }\n",
       "\n",
       "                .geemap-dark .jupyter-button {\n",
       "                    --jp-layout-color3: #383838;\n",
       "                }\n",
       "\n",
       "                .geemap-colab {\n",
       "                    background-color: var(--colab-primary-surface-color, white);\n",
       "                }\n",
       "\n",
       "                .geemap-colab .jupyter-button {\n",
       "                    --jp-layout-color3: var(--colab-primary-surface-color, white);\n",
       "                }\n",
       "            </style>\n",
       "            "
      ],
      "text/plain": [
       "<IPython.core.display.HTML object>"
      ]
     },
     "metadata": {},
     "output_type": "display_data"
    },
    {
     "name": "stdout",
     "output_type": "stream",
     "text": [
      "gridMET bands available for analysis:\n",
      "\n",
      "['pr', 'rmax', 'rmin', 'sph', 'srad', 'th', 'tmmn', 'tmmx', 'vs', 'erc', 'eto', 'bi', 'fm100', 'fm1000', 'etr', 'vpd']\n"
     ]
    }
   ],
   "source": [
    "# Load the gridMET datasets\n",
    "gridmet = ee.ImageCollection('IDAHO_EPSCOR/GRIDMET')\n",
    "print(f\"gridMET bands available for analysis:\\n\\n{gridmet.first().bandNames().getInfo()}\")"
   ]
  },
  {
   "cell_type": "code",
   "execution_count": null,
   "id": "55ad824b-a376-4e4f-8a11-0fd839ad5fde",
   "metadata": {},
   "outputs": [],
   "source": [
    "# Implement the function"
   ]
  },
  {
   "cell_type": "code",
   "execution_count": 31,
   "id": "d0b55b31-4069-427e-af42-241f600f5da0",
   "metadata": {},
   "outputs": [
    {
     "data": {
      "text/html": [
       "\n",
       "            <style>\n",
       "                .geemap-dark {\n",
       "                    --jp-widgets-color: white;\n",
       "                    --jp-widgets-label-color: white;\n",
       "                    --jp-ui-font-color1: white;\n",
       "                    --jp-layout-color2: #454545;\n",
       "                    background-color: #383838;\n",
       "                }\n",
       "\n",
       "                .geemap-dark .jupyter-button {\n",
       "                    --jp-layout-color3: #383838;\n",
       "                }\n",
       "\n",
       "                .geemap-colab {\n",
       "                    background-color: var(--colab-primary-surface-color, white);\n",
       "                }\n",
       "\n",
       "                .geemap-colab .jupyter-button {\n",
       "                    --jp-layout-color3: var(--colab-primary-surface-color, white);\n",
       "                }\n",
       "            </style>\n",
       "            "
      ],
      "text/plain": [
       "<IPython.core.display.HTML object>"
      ]
     },
     "metadata": {},
     "output_type": "display_data"
    },
    {
     "name": "stdout",
     "output_type": "stream",
     "text": [
      "There are [32493] daily fire perimeters.\n",
      "Successfully parsed dates for [32493] daily perimeters.\n",
      "Example date: {'type': 'Date', 'value': 1582934400000}\n"
     ]
    }
   ],
   "source": [
    "fires = ee.FeatureCollection('projects/jfsp-aspen/assets/fired-daily_west_2018_to_2024')\n",
    "print(f\"There are [{fires.size().getInfo()}] daily fire perimeters.\")\n",
    "\n",
    "# Parse the date column:\n",
    "fires = check_dates(fires, 'date')\n",
    "print(f\"Successfully parsed dates for [{fires.size().getInfo()}] daily perimeters.\")\n",
    "print(f\"Example date: {fires.first().get('date').getInfo()}\")"
   ]
  },
  {
   "cell_type": "code",
   "execution_count": 32,
   "id": "4bd4f2a2-c235-43c3-adcf-b29030c056c1",
   "metadata": {},
   "outputs": [
    {
     "data": {
      "text/html": [
       "\n",
       "            <style>\n",
       "                .geemap-dark {\n",
       "                    --jp-widgets-color: white;\n",
       "                    --jp-widgets-label-color: white;\n",
       "                    --jp-ui-font-color1: white;\n",
       "                    --jp-layout-color2: #454545;\n",
       "                    background-color: #383838;\n",
       "                }\n",
       "\n",
       "                .geemap-dark .jupyter-button {\n",
       "                    --jp-layout-color3: #383838;\n",
       "                }\n",
       "\n",
       "                .geemap-colab {\n",
       "                    background-color: var(--colab-primary-surface-color, white);\n",
       "                }\n",
       "\n",
       "                .geemap-colab .jupyter-button {\n",
       "                    --jp-layout-color3: var(--colab-primary-surface-color, white);\n",
       "                }\n",
       "            </style>\n",
       "            "
      ],
      "text/plain": [
       "<IPython.core.display.HTML object>"
      ]
     },
     "metadata": {},
     "output_type": "display_data"
    },
    {
     "name": "stdout",
     "output_type": "stream",
     "text": [
      "Success !\n"
     ]
    }
   ],
   "source": [
    "# Define the function parameters\n",
    "reduction = ee.Reducer.percentile([95]) # 95th percentile\n",
    "attrs = ['fm1000', 'vpd', 'erc', 'bi', 'tmmx', 'rmin', 'vs'] # the gridmet attributes to use\n",
    "# Retrieve gridmet summaries for daily perimeters\n",
    "results_fc = gridmet_summary(fires, reduction, attrs)\n",
    "print(\"Success !\")"
   ]
  },
  {
   "cell_type": "code",
   "execution_count": 33,
   "id": "551d010b-9bbf-4a9d-8853-370d5d33d201",
   "metadata": {},
   "outputs": [
    {
     "data": {
      "text/html": [
       "\n",
       "            <style>\n",
       "                .geemap-dark {\n",
       "                    --jp-widgets-color: white;\n",
       "                    --jp-widgets-label-color: white;\n",
       "                    --jp-ui-font-color1: white;\n",
       "                    --jp-layout-color2: #454545;\n",
       "                    background-color: #383838;\n",
       "                }\n",
       "\n",
       "                .geemap-dark .jupyter-button {\n",
       "                    --jp-layout-color3: #383838;\n",
       "                }\n",
       "\n",
       "                .geemap-colab {\n",
       "                    background-color: var(--colab-primary-surface-color, white);\n",
       "                }\n",
       "\n",
       "                .geemap-colab .jupyter-button {\n",
       "                    --jp-layout-color3: var(--colab-primary-surface-color, white);\n",
       "                }\n",
       "            </style>\n",
       "            "
      ],
      "text/plain": [
       "<IPython.core.display.HTML object>"
      ]
     },
     "metadata": {},
     "output_type": "display_data"
    },
    {
     "data": {
      "text/plain": [
       "{'type': 'Feature',\n",
       " 'geometry': {'type': 'Polygon',\n",
       "  'coordinates': [[[-118.99755710339323, 35.05417427658838],\n",
       "    [-118.99145840860311, 35.04999004807538],\n",
       "    [-118.98634903602644, 35.04999023890428],\n",
       "    [-118.9924474889566, 35.054174741246676],\n",
       "    [-118.99755710339323, 35.05417427658838]]]},\n",
       " 'id': '00000000000000004264',\n",
       " 'properties': {'bi': 45,\n",
       "  'date': {'type': 'Date', 'value': 1582934400000},\n",
       "  'did': '0b908840d20743a1554d1ca3e1d42df8',\n",
       "  'dy_ar_km2': 0.214658673296478,\n",
       "  'eco_mode': 1,\n",
       "  'eco_name': 'California Central Valley grasslands',\n",
       "  'eco_type': 'WWF Terrestrial Ecoregions of the World',\n",
       "  'erc': 52,\n",
       "  'event_day': 1,\n",
       "  'event_dur': 1,\n",
       "  'fid': 1441,\n",
       "  'fm1000': 12.899999618530273,\n",
       "  'fsr_km2_dy': 0.214658673296478,\n",
       "  'fsr_px_dy': 1,\n",
       "  'id': 5247,\n",
       "  'ig_date': '2020/02/29 00:00:00.000',\n",
       "  'ig_day': '060',\n",
       "  'ig_month': 2,\n",
       "  'ig_utm_x': 3897618.156358264,\n",
       "  'ig_utm_y': -10831556.656358264,\n",
       "  'ig_year': 2020,\n",
       "  'last_date': '2020/02/29 00:00:00.000',\n",
       "  'lc_code': 13,\n",
       "  'lc_desc': 'At least 30% impervious surface area includingbuilding materials, asphalt, and vehicles.',\n",
       "  'lc_mode': 13,\n",
       "  'lc_name': 'Urban and Built-up Lands',\n",
       "  'lc_type': 'IGBP global vegetation classification scheme',\n",
       "  'mn_grw_km2': 0.214658673296478,\n",
       "  'mn_grw_px': 1,\n",
       "  'mu_grw_km2': 0.214658673296478,\n",
       "  'mu_grw_px': 1,\n",
       "  'mx_grw_dte': '2020/02/29 00:00:00.000',\n",
       "  'mx_grw_km2': 0.214658673296478,\n",
       "  'mx_grw_px': 1,\n",
       "  'pixels': 1,\n",
       "  'rmin': 13,\n",
       "  'tmmx': 299.6000061035156,\n",
       "  'tot_ar_km2': 0.214658673296478,\n",
       "  'tot_pix': 1,\n",
       "  'vpd': 1.6799999475479126,\n",
       "  'vs': 3.5999999046325684,\n",
       "  'x': 3897618.156358264,\n",
       "  'y': -10831556.656358264}}"
      ]
     },
     "execution_count": 33,
     "metadata": {},
     "output_type": "execute_result"
    }
   ],
   "source": [
    "# Check the results\n",
    "results_fc.first().getInfo()"
   ]
  },
  {
   "cell_type": "code",
   "execution_count": 39,
   "id": "16c22d98-6f3d-4f98-aac5-5091bb6096df",
   "metadata": {},
   "outputs": [
    {
     "data": {
      "text/html": [
       "\n",
       "            <style>\n",
       "                .geemap-dark {\n",
       "                    --jp-widgets-color: white;\n",
       "                    --jp-widgets-label-color: white;\n",
       "                    --jp-ui-font-color1: white;\n",
       "                    --jp-layout-color2: #454545;\n",
       "                    background-color: #383838;\n",
       "                }\n",
       "\n",
       "                .geemap-dark .jupyter-button {\n",
       "                    --jp-layout-color3: #383838;\n",
       "                }\n",
       "\n",
       "                .geemap-colab {\n",
       "                    background-color: var(--colab-primary-surface-color, white);\n",
       "                }\n",
       "\n",
       "                .geemap-colab .jupyter-button {\n",
       "                    --jp-layout-color3: var(--colab-primary-surface-color, white);\n",
       "                }\n",
       "            </style>\n",
       "            "
      ],
      "text/plain": [
       "<IPython.core.display.HTML object>"
      ]
     },
     "metadata": {},
     "output_type": "display_data"
    },
    {
     "name": "stdout",
     "output_type": "stream",
     "text": [
      "Export columns: ['did', 'fm1000', 'vpd', 'erc', 'bi', 'tmmx', 'rmin', 'vs']\n"
     ]
    }
   ],
   "source": [
    "# Subset and export (gridmet attributes and DID)\n",
    "print(f\"Export columns: {['did'] + attrs}\")\n",
    "results_fc_ = results_fc.select(attrs + ['did'])"
   ]
  },
  {
   "cell_type": "code",
   "execution_count": 40,
   "id": "e3dfe058-af05-42fc-8a97-17b7c56a9155",
   "metadata": {},
   "outputs": [
    {
     "data": {
      "text/html": [
       "\n",
       "            <style>\n",
       "                .geemap-dark {\n",
       "                    --jp-widgets-color: white;\n",
       "                    --jp-widgets-label-color: white;\n",
       "                    --jp-ui-font-color1: white;\n",
       "                    --jp-layout-color2: #454545;\n",
       "                    background-color: #383838;\n",
       "                }\n",
       "\n",
       "                .geemap-dark .jupyter-button {\n",
       "                    --jp-layout-color3: #383838;\n",
       "                }\n",
       "\n",
       "                .geemap-colab {\n",
       "                    background-color: var(--colab-primary-surface-color, white);\n",
       "                }\n",
       "\n",
       "                .geemap-colab .jupyter-button {\n",
       "                    --jp-layout-color3: var(--colab-primary-surface-color, white);\n",
       "                }\n",
       "            </style>\n",
       "            "
      ],
      "text/plain": [
       "<IPython.core.display.HTML object>"
      ]
     },
     "metadata": {},
     "output_type": "display_data"
    },
    {
     "name": "stdout",
     "output_type": "stream",
     "text": [
      "Export to Earth Engine Asset started!\n"
     ]
    }
   ],
   "source": [
    "# Export the table to an asset\n",
    "export_task = ee.batch.Export.table.toAsset(\n",
    "    collection=results_fc_,\n",
    "    description='fired-daily_west_2018_to_2024_gridmet',\n",
    "    assetId='projects/jfsp-aspen/assets/fired-daily_west_2018_to_2024_gridmet' \n",
    ")\n",
    "# Start the export task\n",
    "export_task.start()\n",
    "print(\"Export to Earth Engine Asset started!\")\n",
    "# Monitor the task until it's finished\n",
    "monitor_export(export_task)"
   ]
  },
  {
   "cell_type": "code",
   "execution_count": 43,
   "id": "9cafdd44-a861-4c28-a1b9-e42303b804f1",
   "metadata": {},
   "outputs": [
    {
     "data": {
      "text/html": [
       "\n",
       "            <style>\n",
       "                .geemap-dark {\n",
       "                    --jp-widgets-color: white;\n",
       "                    --jp-widgets-label-color: white;\n",
       "                    --jp-ui-font-color1: white;\n",
       "                    --jp-layout-color2: #454545;\n",
       "                    background-color: #383838;\n",
       "                }\n",
       "\n",
       "                .geemap-dark .jupyter-button {\n",
       "                    --jp-layout-color3: #383838;\n",
       "                }\n",
       "\n",
       "                .geemap-colab {\n",
       "                    background-color: var(--colab-primary-surface-color, white);\n",
       "                }\n",
       "\n",
       "                .geemap-colab .jupyter-button {\n",
       "                    --jp-layout-color3: var(--colab-primary-surface-color, white);\n",
       "                }\n",
       "            </style>\n",
       "            "
      ],
      "text/plain": [
       "<IPython.core.display.HTML object>"
      ]
     },
     "metadata": {},
     "output_type": "display_data"
    },
    {
     "name": "stdout",
     "output_type": "stream",
     "text": [
      "Export to Google Drive started!\n",
      "Waiting for export to finish...\n",
      "Waiting for export to finish...\n",
      "Waiting for export to finish...\n",
      "Waiting for export to finish...\n",
      "Export completed successfully!\n"
     ]
    }
   ],
   "source": [
    "# Export the FeatureCollection to Google Drive\n",
    "export_task = ee.batch.Export.table.toDrive(\n",
    "    collection=results_fc_,\n",
    "    description='fired-daily_west_2018_to_2024_gridmet',\n",
    "    fileFormat='CSV'\n",
    ")\n",
    "# Start the export task\n",
    "export_task.start()\n",
    "print(\"Export to Google Drive started!\")\n",
    "# Monitor the task until it's finished\n",
    "monitor_export(export_task)"
   ]
  },
  {
   "cell_type": "code",
   "execution_count": null,
   "id": "426d8ad1-0902-42b1-8631-d087d6ab226a",
   "metadata": {},
   "outputs": [],
   "source": []
  },
  {
   "cell_type": "code",
   "execution_count": null,
   "id": "01df7b4f-1ffb-4ce4-837d-a51700e9d9d0",
   "metadata": {},
   "outputs": [],
   "source": [
    "# Load the newly created gridMET summary"
   ]
  },
  {
   "cell_type": "code",
   "execution_count": null,
   "id": "695aa374-d710-4bff-8d23-370e6c7d1eea",
   "metadata": {},
   "outputs": [],
   "source": []
  },
  {
   "cell_type": "code",
   "execution_count": 47,
   "id": "a6d91a7b-c06d-409e-8c0a-43b7829e6a10",
   "metadata": {},
   "outputs": [
    {
     "data": {
      "text/html": [
       "\n",
       "            <style>\n",
       "                .geemap-dark {\n",
       "                    --jp-widgets-color: white;\n",
       "                    --jp-widgets-label-color: white;\n",
       "                    --jp-ui-font-color1: white;\n",
       "                    --jp-layout-color2: #454545;\n",
       "                    background-color: #383838;\n",
       "                }\n",
       "\n",
       "                .geemap-dark .jupyter-button {\n",
       "                    --jp-layout-color3: #383838;\n",
       "                }\n",
       "\n",
       "                .geemap-colab {\n",
       "                    background-color: var(--colab-primary-surface-color, white);\n",
       "                }\n",
       "\n",
       "                .geemap-colab .jupyter-button {\n",
       "                    --jp-layout-color3: var(--colab-primary-surface-color, white);\n",
       "                }\n",
       "            </style>\n",
       "            "
      ],
      "text/plain": [
       "<IPython.core.display.HTML object>"
      ]
     },
     "metadata": {},
     "output_type": "display_data"
    }
   ],
   "source": [
    "import os\n",
    "import pandas as pd\n",
    "import geopandas as gpd\n",
    "\n",
    "maindir = '/Users/max/Library/CloudStorage/OneDrive-Personal/mcook/'\n",
    "projdir = os.path.join(maindir, 'aspen-fire/Aim2/')\n",
    "ee_fp = os.path.join(projdir,'data/earth-engine/exports/')"
   ]
  },
  {
   "cell_type": "code",
   "execution_count": 53,
   "id": "69808dad-5ba8-4f20-966b-83320d4c5e97",
   "metadata": {},
   "outputs": [
    {
     "data": {
      "text/html": [
       "\n",
       "            <style>\n",
       "                .geemap-dark {\n",
       "                    --jp-widgets-color: white;\n",
       "                    --jp-widgets-label-color: white;\n",
       "                    --jp-ui-font-color1: white;\n",
       "                    --jp-layout-color2: #454545;\n",
       "                    background-color: #383838;\n",
       "                }\n",
       "\n",
       "                .geemap-dark .jupyter-button {\n",
       "                    --jp-layout-color3: #383838;\n",
       "                }\n",
       "\n",
       "                .geemap-colab {\n",
       "                    background-color: var(--colab-primary-surface-color, white);\n",
       "                }\n",
       "\n",
       "                .geemap-colab .jupyter-button {\n",
       "                    --jp-layout-color3: var(--colab-primary-surface-color, white);\n",
       "                }\n",
       "            </style>\n",
       "            "
      ],
      "text/plain": [
       "<IPython.core.display.HTML object>"
      ]
     },
     "metadata": {},
     "output_type": "display_data"
    },
    {
     "data": {
      "text/plain": [
       "Index(['system:index', 'bi', 'did', 'erc', 'fm1000', 'rmin', 'tmmx', 'vpd',\n",
       "       'vs', '.geo'],\n",
       "      dtype='object')"
      ]
     },
     "execution_count": 53,
     "metadata": {},
     "output_type": "execute_result"
    }
   ],
   "source": [
    "fp = os.path.join(ee_fp, 'gridmet/fired-daily_west_2018_to_2024_gridmet.csv')\n",
    "gridmet = pd.read_csv(fp)\n",
    "gridmet.columns"
   ]
  },
  {
   "cell_type": "code",
   "execution_count": 56,
   "id": "a8a0b0dd-1fd4-44ca-860c-4dc9de505e10",
   "metadata": {},
   "outputs": [
    {
     "data": {
      "text/html": [
       "\n",
       "            <style>\n",
       "                .geemap-dark {\n",
       "                    --jp-widgets-color: white;\n",
       "                    --jp-widgets-label-color: white;\n",
       "                    --jp-ui-font-color1: white;\n",
       "                    --jp-layout-color2: #454545;\n",
       "                    background-color: #383838;\n",
       "                }\n",
       "\n",
       "                .geemap-dark .jupyter-button {\n",
       "                    --jp-layout-color3: #383838;\n",
       "                }\n",
       "\n",
       "                .geemap-colab {\n",
       "                    background-color: var(--colab-primary-surface-color, white);\n",
       "                }\n",
       "\n",
       "                .geemap-colab .jupyter-button {\n",
       "                    --jp-layout-color3: var(--colab-primary-surface-color, white);\n",
       "                }\n",
       "            </style>\n",
       "            "
      ],
      "text/plain": [
       "<IPython.core.display.HTML object>"
      ]
     },
     "metadata": {},
     "output_type": "display_data"
    },
    {
     "data": {
      "text/html": [
       "<div>\n",
       "<style scoped>\n",
       "    .dataframe tbody tr th:only-of-type {\n",
       "        vertical-align: middle;\n",
       "    }\n",
       "\n",
       "    .dataframe tbody tr th {\n",
       "        vertical-align: top;\n",
       "    }\n",
       "\n",
       "    .dataframe thead th {\n",
       "        text-align: right;\n",
       "    }\n",
       "</style>\n",
       "<table border=\"1\" class=\"dataframe\">\n",
       "  <thead>\n",
       "    <tr style=\"text-align: right;\">\n",
       "      <th></th>\n",
       "      <th>did</th>\n",
       "      <th>fm1000</th>\n",
       "      <th>vpd</th>\n",
       "      <th>erc</th>\n",
       "      <th>bi</th>\n",
       "      <th>tmmx</th>\n",
       "      <th>rmin</th>\n",
       "      <th>vs</th>\n",
       "    </tr>\n",
       "  </thead>\n",
       "  <tbody>\n",
       "    <tr>\n",
       "      <th>0</th>\n",
       "      <td>0b908840d20743a1554d1ca3e1d42df8</td>\n",
       "      <td>12.9</td>\n",
       "      <td>1.68</td>\n",
       "      <td>52.0</td>\n",
       "      <td>45.0</td>\n",
       "      <td>299.600006</td>\n",
       "      <td>13.000000</td>\n",
       "      <td>3.6</td>\n",
       "    </tr>\n",
       "    <tr>\n",
       "      <th>1</th>\n",
       "      <td>69f8268bcd91b189bd105e19d077ff87</td>\n",
       "      <td>11.0</td>\n",
       "      <td>2.06</td>\n",
       "      <td>64.0</td>\n",
       "      <td>53.0</td>\n",
       "      <td>301.600006</td>\n",
       "      <td>7.000000</td>\n",
       "      <td>3.1</td>\n",
       "    </tr>\n",
       "    <tr>\n",
       "      <th>2</th>\n",
       "      <td>cd47945f2f92f94008851c6cff040dbe</td>\n",
       "      <td>5.2</td>\n",
       "      <td>1.09</td>\n",
       "      <td>87.0</td>\n",
       "      <td>50.0</td>\n",
       "      <td>291.600006</td>\n",
       "      <td>16.799999</td>\n",
       "      <td>1.3</td>\n",
       "    </tr>\n",
       "    <tr>\n",
       "      <th>3</th>\n",
       "      <td>73e34be581364f01f6094ff1fe7997ac</td>\n",
       "      <td>4.2</td>\n",
       "      <td>4.34</td>\n",
       "      <td>105.0</td>\n",
       "      <td>70.0</td>\n",
       "      <td>312.799988</td>\n",
       "      <td>3.100000</td>\n",
       "      <td>2.0</td>\n",
       "    </tr>\n",
       "    <tr>\n",
       "      <th>4</th>\n",
       "      <td>91725118b4a7318271f4fc3daba67e36</td>\n",
       "      <td>3.9</td>\n",
       "      <td>4.96</td>\n",
       "      <td>104.0</td>\n",
       "      <td>81.0</td>\n",
       "      <td>315.899994</td>\n",
       "      <td>8.600000</td>\n",
       "      <td>3.2</td>\n",
       "    </tr>\n",
       "  </tbody>\n",
       "</table>\n",
       "</div>"
      ],
      "text/plain": [
       "                                did  fm1000   vpd    erc    bi        tmmx  \\\n",
       "0  0b908840d20743a1554d1ca3e1d42df8    12.9  1.68   52.0  45.0  299.600006   \n",
       "1  69f8268bcd91b189bd105e19d077ff87    11.0  2.06   64.0  53.0  301.600006   \n",
       "2  cd47945f2f92f94008851c6cff040dbe     5.2  1.09   87.0  50.0  291.600006   \n",
       "3  73e34be581364f01f6094ff1fe7997ac     4.2  4.34  105.0  70.0  312.799988   \n",
       "4  91725118b4a7318271f4fc3daba67e36     3.9  4.96  104.0  81.0  315.899994   \n",
       "\n",
       "        rmin   vs  \n",
       "0  13.000000  3.6  \n",
       "1   7.000000  3.1  \n",
       "2  16.799999  1.3  \n",
       "3   3.100000  2.0  \n",
       "4   8.600000  3.2  "
      ]
     },
     "execution_count": 56,
     "metadata": {},
     "output_type": "execute_result"
    }
   ],
   "source": [
    "gridmet = gridmet[['did']+attrs]\n",
    "gridmet.head()"
   ]
  },
  {
   "cell_type": "code",
   "execution_count": 57,
   "id": "a1035f2d-111c-4895-8ddf-27da8aa71870",
   "metadata": {},
   "outputs": [
    {
     "data": {
      "text/html": [
       "\n",
       "            <style>\n",
       "                .geemap-dark {\n",
       "                    --jp-widgets-color: white;\n",
       "                    --jp-widgets-label-color: white;\n",
       "                    --jp-ui-font-color1: white;\n",
       "                    --jp-layout-color2: #454545;\n",
       "                    background-color: #383838;\n",
       "                }\n",
       "\n",
       "                .geemap-dark .jupyter-button {\n",
       "                    --jp-layout-color3: #383838;\n",
       "                }\n",
       "\n",
       "                .geemap-colab {\n",
       "                    background-color: var(--colab-primary-surface-color, white);\n",
       "                }\n",
       "\n",
       "                .geemap-colab .jupyter-button {\n",
       "                    --jp-layout-color3: var(--colab-primary-surface-color, white);\n",
       "                }\n",
       "            </style>\n",
       "            "
      ],
      "text/plain": [
       "<IPython.core.display.HTML object>"
      ]
     },
     "metadata": {},
     "output_type": "display_data"
    },
    {
     "name": "stdout",
     "output_type": "stream",
     "text": [
      "Successfully overwrote the table.\n"
     ]
    }
   ],
   "source": [
    "# Overwrite the file with this clean version\n",
    "gridmet.to_csv(os.path.join(ee_fp, 'gridmet/fired-daily_west_2018_to_2024_gridmet.csv'))\n",
    "print(\"Successfully overwrote the table.\")"
   ]
  },
  {
   "cell_type": "code",
   "execution_count": 58,
   "id": "f358d849-07ee-4d3e-91f5-22b34bef1c62",
   "metadata": {},
   "outputs": [
    {
     "data": {
      "text/html": [
       "\n",
       "            <style>\n",
       "                .geemap-dark {\n",
       "                    --jp-widgets-color: white;\n",
       "                    --jp-widgets-label-color: white;\n",
       "                    --jp-ui-font-color1: white;\n",
       "                    --jp-layout-color2: #454545;\n",
       "                    background-color: #383838;\n",
       "                }\n",
       "\n",
       "                .geemap-dark .jupyter-button {\n",
       "                    --jp-layout-color3: #383838;\n",
       "                }\n",
       "\n",
       "                .geemap-colab {\n",
       "                    background-color: var(--colab-primary-surface-color, white);\n",
       "                }\n",
       "\n",
       "                .geemap-colab .jupyter-button {\n",
       "                    --jp-layout-color3: var(--colab-primary-surface-color, white);\n",
       "                }\n",
       "            </style>\n",
       "            "
      ],
      "text/plain": [
       "<IPython.core.display.HTML object>"
      ]
     },
     "metadata": {},
     "output_type": "display_data"
    },
    {
     "data": {
      "text/plain": [
       "Index(['did', 'id', 'date', 'ig_date', 'ig_day', 'ig_month', 'ig_year',\n",
       "       'last_date', 'event_day', 'event_dur', 'pixels', 'tot_pix', 'dy_ar_km2',\n",
       "       'tot_ar_km2', 'fsr_px_dy', 'fsr_km2_dy', 'mx_grw_px', 'mn_grw_px',\n",
       "       'mu_grw_px', 'mx_grw_km2', 'mn_grw_km2', 'mu_grw_km2', 'mx_grw_dte',\n",
       "       'x', 'y', 'ig_utm_x', 'ig_utm_y', 'lc_code', 'lc_mode', 'lc_name',\n",
       "       'lc_desc', 'lc_type', 'eco_mode', 'eco_name', 'eco_type', 'geometry'],\n",
       "      dtype='object')"
      ]
     },
     "execution_count": 58,
     "metadata": {},
     "output_type": "execute_result"
    }
   ],
   "source": [
    "# Load the spatial polygons\n",
    "fp = os.path.join(projdir, 'data/spatial/raw/FIRED/fired-daily_west_2018_to_2024.gpkg')\n",
    "fired_daily = gpd.read_file(fp)\n",
    "fired_daily.columns"
   ]
  },
  {
   "cell_type": "code",
   "execution_count": null,
   "id": "441e247c-801a-435f-bc3d-da89edd65888",
   "metadata": {},
   "outputs": [],
   "source": []
  },
  {
   "cell_type": "code",
   "execution_count": null,
   "id": "2eb1a993-79e3-48ab-927e-90d12f50f8c5",
   "metadata": {},
   "outputs": [],
   "source": [
    "gc.collect()"
   ]
  },
  {
   "cell_type": "code",
   "execution_count": null,
   "id": "8dc580e0-6057-4723-85f0-b9c6af5d6acf",
   "metadata": {},
   "outputs": [],
   "source": []
  },
  {
   "cell_type": "code",
   "execution_count": null,
   "id": "8b6eb8e2-fb8e-4ea2-aa3f-fb54d19b62b3",
   "metadata": {},
   "outputs": [],
   "source": [
    "# Export a subset for the SRM"
   ]
  },
  {
   "cell_type": "code",
   "execution_count": null,
   "id": "49492e8a-2295-44ad-92b9-9e0c5cfc31fc",
   "metadata": {},
   "outputs": [],
   "source": []
  },
  {
   "cell_type": "code",
   "execution_count": 59,
   "id": "5ca291d0-8a5a-4b88-b45d-fbbd9545d5d5",
   "metadata": {},
   "outputs": [
    {
     "data": {
      "text/html": [
       "\n",
       "            <style>\n",
       "                .geemap-dark {\n",
       "                    --jp-widgets-color: white;\n",
       "                    --jp-widgets-label-color: white;\n",
       "                    --jp-ui-font-color1: white;\n",
       "                    --jp-layout-color2: #454545;\n",
       "                    background-color: #383838;\n",
       "                }\n",
       "\n",
       "                .geemap-dark .jupyter-button {\n",
       "                    --jp-layout-color3: #383838;\n",
       "                }\n",
       "\n",
       "                .geemap-colab {\n",
       "                    background-color: var(--colab-primary-surface-color, white);\n",
       "                }\n",
       "\n",
       "                .geemap-colab .jupyter-button {\n",
       "                    --jp-layout-color3: var(--colab-primary-surface-color, white);\n",
       "                }\n",
       "            </style>\n",
       "            "
      ],
      "text/plain": [
       "<IPython.core.display.HTML object>"
      ]
     },
     "metadata": {},
     "output_type": "display_data"
    },
    {
     "data": {
      "text/plain": [
       "<Axes: >"
      ]
     },
     "execution_count": 59,
     "metadata": {},
     "output_type": "execute_result"
    },
    {
     "data": {
      "image/png": "[encoded data removed]",
      "text/plain": [
       "<Figure size 640x480 with 1 Axes>"
      ]
     },
     "metadata": {},
     "output_type": "display_data"
    }
   ],
   "source": [
    "# Load the western U.S. ecoregions\n",
    "fp = os.path.join(projdir,'data/spatial/mod/boundaries/na_cec_eco_l3_west.gpkg')\n",
    "ecol3 = gpd.read_file(fp)\n",
    "ecol3 = ecol3[['NA_L3NAME','geometry']]\n",
    "ecol3 = ecol3.rename(columns={'NA_L3NAME': 'na_l3name'})\n",
    "srm = ecol3[ecol3['na_l3name'] == 'Southern Rockies']\n",
    "srm.plot()"
   ]
  },
  {
   "cell_type": "code",
   "execution_count": 64,
   "id": "895c46a2-51ea-45bd-89f5-27fd48e3cf0a",
   "metadata": {},
   "outputs": [
    {
     "data": {
      "text/html": [
       "\n",
       "            <style>\n",
       "                .geemap-dark {\n",
       "                    --jp-widgets-color: white;\n",
       "                    --jp-widgets-label-color: white;\n",
       "                    --jp-ui-font-color1: white;\n",
       "                    --jp-layout-color2: #454545;\n",
       "                    background-color: #383838;\n",
       "                }\n",
       "\n",
       "                .geemap-dark .jupyter-button {\n",
       "                    --jp-layout-color3: #383838;\n",
       "                }\n",
       "\n",
       "                .geemap-colab {\n",
       "                    background-color: var(--colab-primary-surface-color, white);\n",
       "                }\n",
       "\n",
       "                .geemap-colab .jupyter-button {\n",
       "                    --jp-layout-color3: var(--colab-primary-surface-color, white);\n",
       "                }\n",
       "            </style>\n",
       "            "
      ],
      "text/plain": [
       "<IPython.core.display.HTML object>"
      ]
     },
     "metadata": {},
     "output_type": "display_data"
    },
    {
     "name": "stdout",
     "output_type": "stream",
     "text": [
      "There are [1828] unique daily perimeters in the SRM (2018-2024).\n"
     ]
    }
   ],
   "source": [
    "if srm.crs != fired_daily.crs:\n",
    "    srm = srm.to_crs(fired_daily.crs)\n",
    "fired_daily_srm = gpd.sjoin(fired_daily, srm, how='inner', predicate='within')\n",
    "fired_daily_srm.drop('index_right', axis=1, inplace=True)\n",
    "print(f\"There are [{len(fired_daily_srm)}] unique daily perimeters in the SRM (2018-2024).\")"
   ]
  },
  {
   "cell_type": "code",
   "execution_count": 65,
   "id": "befc31fb-7035-4367-b5ae-14fde60e5a24",
   "metadata": {},
   "outputs": [
    {
     "data": {
      "text/html": [
       "\n",
       "            <style>\n",
       "                .geemap-dark {\n",
       "                    --jp-widgets-color: white;\n",
       "                    --jp-widgets-label-color: white;\n",
       "                    --jp-ui-font-color1: white;\n",
       "                    --jp-layout-color2: #454545;\n",
       "                    background-color: #383838;\n",
       "                }\n",
       "\n",
       "                .geemap-dark .jupyter-button {\n",
       "                    --jp-layout-color3: #383838;\n",
       "                }\n",
       "\n",
       "                .geemap-colab {\n",
       "                    background-color: var(--colab-primary-surface-color, white);\n",
       "                }\n",
       "\n",
       "                .geemap-colab .jupyter-button {\n",
       "                    --jp-layout-color3: var(--colab-primary-surface-color, white);\n",
       "                }\n",
       "            </style>\n",
       "            "
      ],
      "text/plain": [
       "<IPython.core.display.HTML object>"
      ]
     },
     "metadata": {},
     "output_type": "display_data"
    },
    {
     "name": "stdout",
     "output_type": "stream",
     "text": [
      "There are [1828] associated gridmet records.\n"
     ]
    }
   ],
   "source": [
    "# Filter the gridmet results\n",
    "gridmet_srm = gridmet[gridmet['did'].isin(fired_daily_srm['did'])]\n",
    "print(f\"There are [{len(gridmet_srm)}] associated gridmet records.\")"
   ]
  },
  {
   "cell_type": "code",
   "execution_count": 66,
   "id": "128b8447-8f4a-4a63-b110-e979a82fca6c",
   "metadata": {},
   "outputs": [
    {
     "data": {
      "text/html": [
       "\n",
       "            <style>\n",
       "                .geemap-dark {\n",
       "                    --jp-widgets-color: white;\n",
       "                    --jp-widgets-label-color: white;\n",
       "                    --jp-ui-font-color1: white;\n",
       "                    --jp-layout-color2: #454545;\n",
       "                    background-color: #383838;\n",
       "                }\n",
       "\n",
       "                .geemap-dark .jupyter-button {\n",
       "                    --jp-layout-color3: #383838;\n",
       "                }\n",
       "\n",
       "                .geemap-colab {\n",
       "                    background-color: var(--colab-primary-surface-color, white);\n",
       "                }\n",
       "\n",
       "                .geemap-colab .jupyter-button {\n",
       "                    --jp-layout-color3: var(--colab-primary-surface-color, white);\n",
       "                }\n",
       "            </style>\n",
       "            "
      ],
      "text/plain": [
       "<IPython.core.display.HTML object>"
      ]
     },
     "metadata": {},
     "output_type": "display_data"
    },
    {
     "name": "stdout",
     "output_type": "stream",
     "text": [
      "Successfully exported data and tables !\n"
     ]
    }
   ],
   "source": [
    "# Save these files out.\n",
    "out_dir = os.path.join(projdir,'data/spatial/mod/SRME/')\n",
    "if not os.path.exists(out_dir):\n",
    "    os.makedirs(out_dir)\n",
    "fired_daily_srm.to_file(os.path.join(out_dir,'fired-daily_SRME_2018_to_2024.gpkg'))\n",
    "gridmet_srm.to_csv(os.path.join(out_dir,'fired-daily_SRME_2018_to_2024_GRIDMET.csv'))\n",
    "print(\"Successfully exported data and tables !\")"
   ]
  }
 ],
 "metadata": {
  "kernelspec": {
   "display_name": "aspen-fire",
   "language": "python",
   "name": "aspen-fire"
  },
  "language_info": {
   "codemirror_mode": {
    "name": "ipython",
    "version": 3
   },
   "file_extension": ".py",
   "mimetype": "text/x-python",
   "name": "python",
   "nbconvert_exporter": "python",
   "pygments_lexer": "ipython3",
   "version": "3.10.12"
  }
 },
 "nbformat": 4,
 "nbformat_minor": 5
}
