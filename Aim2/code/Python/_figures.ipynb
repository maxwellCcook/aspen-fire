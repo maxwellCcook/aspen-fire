{
 "cells": [
  {
   "cell_type": "code",
   "execution_count": 1,
   "id": "ebbcf5c5-8dc8-4d52-aa3e-c89ffc3363f9",
   "metadata": {},
   "outputs": [
    {
     "name": "stdout",
     "output_type": "stream",
     "text": [
      "Ready !\n"
     ]
    }
   ],
   "source": [
    "\"\"\"\n",
    "Manuscript figures\n",
    "\"\"\"\n",
    "\n",
    "import os, sys\n",
    "import geopandas as gpd\n",
    "import seaborn as sns\n",
    "import matplotlib\n",
    "import matplotlib.pyplot as plt\n",
    "import matplotlib as mpl\n",
    "import matplotlib.cm as cm\n",
    "import matplotlib.colors as colors\n",
    "import matplotlib.colors as mcolors\n",
    "from matplotlib.cm import ScalarMappable\n",
    "import matplotlib.patches as mpatches\n",
    "\n",
    "from matplotlib.ticker import FuncFormatter\n",
    "from matplotlib.colors import Normalize\n",
    "from sklearn.preprocessing import MinMaxScaler\n",
    "from mapclassify import Quantiles\n",
    "\n",
    "# Custom functions\n",
    "sys.path.append(os.path.join(os.getcwd(),'code/'))\n",
    "from __functions import *\n",
    "\n",
    "proj = 'EPSG:5070'\n",
    "\n",
    "maindir = '/Users/max/Library/CloudStorage/OneDrive-Personal/mcook/'\n",
    "projdir = os.path.join(maindir, 'aspen-fire/Aim2/')\n",
    "icsdir = os.path.join(maindir, 'ics209-plus-fired/data/')\n",
    "\n",
    "print(\"Ready !\")"
   ]
  },
  {
   "cell_type": "code",
   "execution_count": 2,
   "id": "f57cfce0-1871-4d5c-8c9c-026d2b4a1930",
   "metadata": {},
   "outputs": [
    {
     "data": {
      "text/plain": [
       "Index(['Fire_ID', 'Fire_Name', 'Final_Acres', 'INCIDENT_ID', 'START_YEAR',\n",
       "       'DISCOVERY_DATE', 'WF_CESSATION_DATE', 'ICS_ACRES', 'geometry'],\n",
       "      dtype='object')"
      ]
     },
     "execution_count": 2,
     "metadata": {},
     "output_type": "execute_result"
    }
   ],
   "source": [
    "# load fire perimeter data\n",
    "fp = os.path.join(projdir,'data/spatial/mod/srm_fire_census_2017_to_2023_subset.gpkg')\n",
    "fires = gpd.read_file(fp)\n",
    "fires.columns"
   ]
  },
  {
   "cell_type": "code",
   "execution_count": 3,
   "id": "80b216d3-a375-4b2f-981a-c6b95012ea16",
   "metadata": {},
   "outputs": [
    {
     "data": {
      "text/plain": [
       "Index(['grid_index', 'grid_area', 'afd_count', 'unique_days', 'overlap',\n",
       "       'frp_csum', 'frp_max', 'frp_min', 'frp_mean', 'frp_p90', 'frp_p95',\n",
       "       'frp_p97', 'frp_p99', 'frp_first', 'day_max_frp', 'dt_max_frp',\n",
       "       'first_obs_date', 'last_obs_date', 't4_max', 't4_mean', 't5_max',\n",
       "       't5_mean', 'day_count', 'night_count', 'frp_max_day', 'frp_max_night',\n",
       "       'frp_csum_day', 'frp_csum_night', 'frp_mean_day', 'frp_mean_night',\n",
       "       'frp_p90_day', 'frp_p90_night', 'frp_p95_day', 'frp_p95_night',\n",
       "       'frp_p97_day', 'frp_p97_night', 'frp_p99_day', 'frp_p99_night',\n",
       "       'frp_first_day', 'frp_first_night', 'Fire_ID', 'Fire_Name', 'geometry'],\n",
       "      dtype='object')"
      ]
     },
     "execution_count": 3,
     "metadata": {},
     "output_type": "execute_result"
    }
   ],
   "source": [
    "# load the frp grid\n",
    "fp = os.path.join(projdir,'data/spatial/mod/VIIRS/viirs_snpp_jpss1_afd_latlon_fires_pixar_gridstats.gpkg')\n",
    "grid = gpd.read_file(fp)\n",
    "grid.columns"
   ]
  },
  {
   "cell_type": "code",
   "execution_count": 4,
   "id": "38f8fcdc-d3fa-4e8c-867b-3f3a120f00ab",
   "metadata": {},
   "outputs": [
    {
     "data": {
      "text/plain": [
       "Index(['na_l3name', 'na_l3code', 'geometry'], dtype='object')"
      ]
     },
     "execution_count": 4,
     "metadata": {},
     "output_type": "execute_result"
    }
   ],
   "source": [
    "fp = os.path.join(projdir,'data/spatial/raw/boundaries/na_cec_eco_l3_west.gpkg')\n",
    "ecol3 = gpd.read_file(fp)\n",
    "ecol3 = ecol3[['NA_L3NAME','NA_L3CODE','geometry']].rename(columns={'NA_L3NAME': 'na_l3name', 'NA_L3CODE': 'na_l3code'})\n",
    "ecol3.columns"
   ]
  },
  {
   "cell_type": "markdown",
   "id": "0fca3225-c562-4101-b722-ea4cc1518ba9",
   "metadata": {},
   "source": [
    "## Figure 1A. Map of the Southern Rockies\n",
    "\n",
    "Figure 1. Study region and wildfire events. (A) Map of the SRM showing the locations of wildfire events with >1% pre-fire aspen cover. Point size represents the burned area (ha), color scale represents the percentage of aspen forest cover; (B) annual burned area (ha); (C) distribution of fire size (or other statistics ??)."
   ]
  },
  {
   "cell_type": "code",
   "execution_count": 7,
   "id": "09b5ac31-617b-441e-a94a-47d820bc6783",
   "metadata": {},
   "outputs": [
    {
     "name": "stdout",
     "output_type": "stream",
     "text": [
      "count       100.000000\n",
      "mean       6662.475118\n",
      "std       19547.772302\n",
      "min          40.468600\n",
      "25%         290.564548\n",
      "50%         666.113156\n",
      "75%        3042.328176\n",
      "max      138295.370210\n",
      "Name: FINAL_HA, dtype: float64\n"
     ]
    },
    {
     "ename": "KeyError",
     "evalue": "'pct_cover'",
     "output_type": "error",
     "traceback": [
      "\u001b[0;31m---------------------------------------------------------------------------\u001b[0m",
      "\u001b[0;31mKeyError\u001b[0m                                  Traceback (most recent call last)",
      "File \u001b[0;32m/opt/miniconda3/envs/aspen-fire/lib/python3.10/site-packages/pandas/core/indexes/base.py:3805\u001b[0m, in \u001b[0;36mIndex.get_loc\u001b[0;34m(self, key)\u001b[0m\n\u001b[1;32m   3804\u001b[0m \u001b[38;5;28;01mtry\u001b[39;00m:\n\u001b[0;32m-> 3805\u001b[0m     \u001b[38;5;28;01mreturn\u001b[39;00m \u001b[38;5;28;43mself\u001b[39;49m\u001b[38;5;241;43m.\u001b[39;49m\u001b[43m_engine\u001b[49m\u001b[38;5;241;43m.\u001b[39;49m\u001b[43mget_loc\u001b[49m\u001b[43m(\u001b[49m\u001b[43mcasted_key\u001b[49m\u001b[43m)\u001b[49m\n\u001b[1;32m   3806\u001b[0m \u001b[38;5;28;01mexcept\u001b[39;00m \u001b[38;5;167;01mKeyError\u001b[39;00m \u001b[38;5;28;01mas\u001b[39;00m err:\n",
      "File \u001b[0;32mindex.pyx:167\u001b[0m, in \u001b[0;36mpandas._libs.index.IndexEngine.get_loc\u001b[0;34m()\u001b[0m\n",
      "File \u001b[0;32mindex.pyx:196\u001b[0m, in \u001b[0;36mpandas._libs.index.IndexEngine.get_loc\u001b[0;34m()\u001b[0m\n",
      "File \u001b[0;32mpandas/_libs/hashtable_class_helper.pxi:7081\u001b[0m, in \u001b[0;36mpandas._libs.hashtable.PyObjectHashTable.get_item\u001b[0;34m()\u001b[0m\n",
      "File \u001b[0;32mpandas/_libs/hashtable_class_helper.pxi:7089\u001b[0m, in \u001b[0;36mpandas._libs.hashtable.PyObjectHashTable.get_item\u001b[0;34m()\u001b[0m\n",
      "\u001b[0;31mKeyError\u001b[0m: 'pct_cover'",
      "\nThe above exception was the direct cause of the following exception:\n",
      "\u001b[0;31mKeyError\u001b[0m                                  Traceback (most recent call last)",
      "Cell \u001b[0;32mIn[7], line 11\u001b[0m\n\u001b[1;32m      9\u001b[0m centroid \u001b[38;5;241m=\u001b[39m fires_\u001b[38;5;241m.\u001b[39mcopy()\n\u001b[1;32m     10\u001b[0m centroid[\u001b[38;5;124m'\u001b[39m\u001b[38;5;124mgeometry\u001b[39m\u001b[38;5;124m'\u001b[39m] \u001b[38;5;241m=\u001b[39m centroid\u001b[38;5;241m.\u001b[39mgeometry\u001b[38;5;241m.\u001b[39mcentroid\n\u001b[0;32m---> 11\u001b[0m centroid[\u001b[38;5;124m'\u001b[39m\u001b[38;5;124maspen_size\u001b[39m\u001b[38;5;124m'\u001b[39m] \u001b[38;5;241m=\u001b[39m \u001b[43mcentroid\u001b[49m\u001b[43m[\u001b[49m\u001b[38;5;124;43m'\u001b[39;49m\u001b[38;5;124;43mpct_cover\u001b[39;49m\u001b[38;5;124;43m'\u001b[39;49m\u001b[43m]\u001b[49m \u001b[38;5;241m*\u001b[39m \u001b[38;5;241m5\u001b[39m  \n\u001b[1;32m     13\u001b[0m \u001b[38;5;66;03m# # do some scaling (area weighted aspen cover)\u001b[39;00m\n\u001b[1;32m     14\u001b[0m \u001b[38;5;66;03m# scaler = MinMaxScaler(feature_range=(0, 100))  # Normalize to 0–100\u001b[39;00m\n\u001b[1;32m     15\u001b[0m \u001b[38;5;66;03m# centroid['pct_cover_wt'] = centroid['pct_cover'] * centroid['FINAL_HA']  # Weighted by fire size\u001b[39;00m\n\u001b[1;32m     16\u001b[0m \u001b[38;5;66;03m# centroid['pct_cover_wt_nm'] = scaler.fit_transform(centroid[['pct_cover_wt']])\u001b[39;00m\n\u001b[1;32m     18\u001b[0m scaler \u001b[38;5;241m=\u001b[39m MinMaxScaler(feature_range\u001b[38;5;241m=\u001b[39m(\u001b[38;5;241m10\u001b[39m, \u001b[38;5;241m100\u001b[39m))  \u001b[38;5;66;03m# Marker sizes between 10 and 200\u001b[39;00m\n",
      "File \u001b[0;32m/opt/miniconda3/envs/aspen-fire/lib/python3.10/site-packages/geopandas/geodataframe.py:1474\u001b[0m, in \u001b[0;36mGeoDataFrame.__getitem__\u001b[0;34m(self, key)\u001b[0m\n\u001b[1;32m   1468\u001b[0m \u001b[38;5;28;01mdef\u001b[39;00m \u001b[38;5;21m__getitem__\u001b[39m(\u001b[38;5;28mself\u001b[39m, key):\n\u001b[1;32m   1469\u001b[0m \u001b[38;5;250m    \u001b[39m\u001b[38;5;124;03m\"\"\"\u001b[39;00m\n\u001b[1;32m   1470\u001b[0m \u001b[38;5;124;03m    If the result is a column containing only 'geometry', return a\u001b[39;00m\n\u001b[1;32m   1471\u001b[0m \u001b[38;5;124;03m    GeoSeries. If it's a DataFrame with any columns of GeometryDtype,\u001b[39;00m\n\u001b[1;32m   1472\u001b[0m \u001b[38;5;124;03m    return a GeoDataFrame.\u001b[39;00m\n\u001b[1;32m   1473\u001b[0m \u001b[38;5;124;03m    \"\"\"\u001b[39;00m\n\u001b[0;32m-> 1474\u001b[0m     result \u001b[38;5;241m=\u001b[39m \u001b[38;5;28;43msuper\u001b[39;49m\u001b[43m(\u001b[49m\u001b[43m)\u001b[49m\u001b[38;5;241;43m.\u001b[39;49m\u001b[38;5;21;43m__getitem__\u001b[39;49m\u001b[43m(\u001b[49m\u001b[43mkey\u001b[49m\u001b[43m)\u001b[49m\n\u001b[1;32m   1475\u001b[0m     \u001b[38;5;66;03m# Custom logic to avoid waiting for pandas GH51895\u001b[39;00m\n\u001b[1;32m   1476\u001b[0m     \u001b[38;5;66;03m# result is not geometry dtype for multi-indexes\u001b[39;00m\n\u001b[1;32m   1477\u001b[0m     \u001b[38;5;28;01mif\u001b[39;00m (\n\u001b[1;32m   1478\u001b[0m         pd\u001b[38;5;241m.\u001b[39mapi\u001b[38;5;241m.\u001b[39mtypes\u001b[38;5;241m.\u001b[39mis_scalar(key)\n\u001b[1;32m   1479\u001b[0m         \u001b[38;5;129;01mand\u001b[39;00m key \u001b[38;5;241m==\u001b[39m \u001b[38;5;124m\"\u001b[39m\u001b[38;5;124m\"\u001b[39m\n\u001b[0;32m   (...)\u001b[0m\n\u001b[1;32m   1482\u001b[0m         \u001b[38;5;129;01mand\u001b[39;00m \u001b[38;5;129;01mnot\u001b[39;00m is_geometry_type(result)\n\u001b[1;32m   1483\u001b[0m     ):\n",
      "File \u001b[0;32m/opt/miniconda3/envs/aspen-fire/lib/python3.10/site-packages/pandas/core/frame.py:4102\u001b[0m, in \u001b[0;36mDataFrame.__getitem__\u001b[0;34m(self, key)\u001b[0m\n\u001b[1;32m   4100\u001b[0m \u001b[38;5;28;01mif\u001b[39;00m \u001b[38;5;28mself\u001b[39m\u001b[38;5;241m.\u001b[39mcolumns\u001b[38;5;241m.\u001b[39mnlevels \u001b[38;5;241m>\u001b[39m \u001b[38;5;241m1\u001b[39m:\n\u001b[1;32m   4101\u001b[0m     \u001b[38;5;28;01mreturn\u001b[39;00m \u001b[38;5;28mself\u001b[39m\u001b[38;5;241m.\u001b[39m_getitem_multilevel(key)\n\u001b[0;32m-> 4102\u001b[0m indexer \u001b[38;5;241m=\u001b[39m \u001b[38;5;28;43mself\u001b[39;49m\u001b[38;5;241;43m.\u001b[39;49m\u001b[43mcolumns\u001b[49m\u001b[38;5;241;43m.\u001b[39;49m\u001b[43mget_loc\u001b[49m\u001b[43m(\u001b[49m\u001b[43mkey\u001b[49m\u001b[43m)\u001b[49m\n\u001b[1;32m   4103\u001b[0m \u001b[38;5;28;01mif\u001b[39;00m is_integer(indexer):\n\u001b[1;32m   4104\u001b[0m     indexer \u001b[38;5;241m=\u001b[39m [indexer]\n",
      "File \u001b[0;32m/opt/miniconda3/envs/aspen-fire/lib/python3.10/site-packages/pandas/core/indexes/base.py:3812\u001b[0m, in \u001b[0;36mIndex.get_loc\u001b[0;34m(self, key)\u001b[0m\n\u001b[1;32m   3807\u001b[0m     \u001b[38;5;28;01mif\u001b[39;00m \u001b[38;5;28misinstance\u001b[39m(casted_key, \u001b[38;5;28mslice\u001b[39m) \u001b[38;5;129;01mor\u001b[39;00m (\n\u001b[1;32m   3808\u001b[0m         \u001b[38;5;28misinstance\u001b[39m(casted_key, abc\u001b[38;5;241m.\u001b[39mIterable)\n\u001b[1;32m   3809\u001b[0m         \u001b[38;5;129;01mand\u001b[39;00m \u001b[38;5;28many\u001b[39m(\u001b[38;5;28misinstance\u001b[39m(x, \u001b[38;5;28mslice\u001b[39m) \u001b[38;5;28;01mfor\u001b[39;00m x \u001b[38;5;129;01min\u001b[39;00m casted_key)\n\u001b[1;32m   3810\u001b[0m     ):\n\u001b[1;32m   3811\u001b[0m         \u001b[38;5;28;01mraise\u001b[39;00m InvalidIndexError(key)\n\u001b[0;32m-> 3812\u001b[0m     \u001b[38;5;28;01mraise\u001b[39;00m \u001b[38;5;167;01mKeyError\u001b[39;00m(key) \u001b[38;5;28;01mfrom\u001b[39;00m \u001b[38;5;21;01merr\u001b[39;00m\n\u001b[1;32m   3813\u001b[0m \u001b[38;5;28;01mexcept\u001b[39;00m \u001b[38;5;167;01mTypeError\u001b[39;00m:\n\u001b[1;32m   3814\u001b[0m     \u001b[38;5;66;03m# If we have a listlike key, _check_indexing_error will raise\u001b[39;00m\n\u001b[1;32m   3815\u001b[0m     \u001b[38;5;66;03m#  InvalidIndexError. Otherwise we fall through and re-raise\u001b[39;00m\n\u001b[1;32m   3816\u001b[0m     \u001b[38;5;66;03m#  the TypeError.\u001b[39;00m\n\u001b[1;32m   3817\u001b[0m     \u001b[38;5;28mself\u001b[39m\u001b[38;5;241m.\u001b[39m_check_indexing_error(key)\n",
      "\u001b[0;31mKeyError\u001b[0m: 'pct_cover'"
     ]
    }
   ],
   "source": [
    "# Generate centroids\n",
    "fires = fires[fires['Fire_ID'].isin(grid['Fire_ID'].unique())]\n",
    "fires['ICS_ACRES'] = pd.to_numeric(fires_['ICS_ACRES'], errors='coerce')\n",
    "fires['FINAL_KM2'] = fires['ICS_ACRES'] * 0.00404686\n",
    "fires['FINAL_HA'] = fires['ICS_ACRES']* 0.404686\n",
    "print(fires['FINAL_HA'].describe())\n",
    "\n",
    "# Get the centroid of fires\n",
    "centroid = fires.copy()\n",
    "centroid['geometry'] = centroid.geometry.centroid\n",
    "\n",
    "# scale fire size attribute for display\n",
    "scaler = MinMaxScaler(feature_range=(10, 100))  # Marker sizes between 10 and 200\n",
    "centroid['fire_size'] = scaler.fit_transform(centroid[['FINAL_HA']]) * 3\n",
    "\n",
    "# subset to SRM\n",
    "srm = ecol3[ecol3['na_l3name'] == 'Southern Rockies']\n",
    "\n",
    "# Ensure the same projection\n",
    "centroid = centroid_srm.to_crs(4326)\n",
    "srm = srm.to_crs(4326)\n",
    "\n",
    "# plot it\n",
    "fig, ax = plt.subplots(figsize=(6, 6))\n",
    "\n",
    "srm.plot(ax=ax, edgecolor='black', linewidth=0.8, color='none')\n",
    "centroid.plot(\n",
    "    ax=ax, \n",
    "    markersize=centroid['fire_size'],  # Use normalized marker size\n",
    "    column='pct_cover', cmap='viridis', \n",
    "    legend=False, alpha=0.6)\n",
    "\n",
    "# Add colorbar for aspen percent cover\n",
    "norm = mcolors.Normalize(vmin=centroid[''].min(), vmax=centroid[''].max())\n",
    "sm = ScalarMappable(cmap='viridis', norm=norm)\n",
    "sm.set_array([])\n",
    "cbar = fig.colorbar(sm, ax=ax, shrink=0.7)\n",
    "cbar.set_label('Aspen proportion (%)')\n",
    "\n",
    "# Create a custom legend for fire size\n",
    "# Create legend sizes for fire size (in hectares)\n",
    "legend_sizes_ha = [1000, 50000, 100000]  # Example fire sizes in hectares\n",
    "legend_scaled_sizes = scaler.transform([[size] for size in legend_sizes_ha]).flatten() * 3\n",
    "legend_labels = [f'-={int(size / 1000)}k' for size in legend_sizes_ha]\n",
    "\n",
    "# Create legend handles using the correctly scaled sizes\n",
    "legend_handles = [\n",
    "    plt.scatter([], [], s=size, color='gray', alpha=0.6, label=label)\n",
    "    for size, label in zip(legend_scaled_sizes, legend_labels)\n",
    "]\n",
    "\n",
    "# Add the legend to the map\n",
    "ax.legend(\n",
    "    handles=legend_handles, loc='upper left', \n",
    "    title='Fire Size (ha)', frameon=False, fontsize=8, title_fontsize=9, \n",
    "    handletextpad=0.8,  # Space between markers and labels\n",
    "    labelspacing=1.2    # Vertical space between legend items\n",
    ")\n",
    "\n",
    "# Labels and saving\n",
    "plt.xlabel('Longitude', size=10)\n",
    "plt.ylabel('Latitude', size=10)\n",
    "\n",
    "# Save the map\n",
    "plt.savefig(os.path.join(projdir, 'figures/Figure1_Fires-SRM.png'), dpi=300, bbox_inches='tight')\n",
    "\n",
    "plt.show()"
   ]
  },
  {
   "cell_type": "code",
   "execution_count": null,
   "id": "d5ecf1cd-8bb8-43c1-b0b6-ec783d4bd01b",
   "metadata": {},
   "outputs": [],
   "source": [
    "# plot the annual area burned\n",
    "burned_area = fires_.groupby('START_YEAR')['FINAL_HA'].sum().reset_index()\n",
    "\n",
    "# set up the axis formatter\n",
    "def format_thousands(x, pos):\n",
    "    \"\"\"Format y-axis labels to display values in 'k' for thousands.\"\"\"\n",
    "    return f'{int(x / 1000)}k'\n",
    "\n",
    "formatter = FuncFormatter(format_thousands)\n",
    "\n",
    "# Plot the results\n",
    "plt.figure(figsize=(4, 2.5))\n",
    "plt.bar(burned_area['START_YEAR'], burned_area['FINAL_HA'], color='grey', edgecolor='black')\n",
    "plt.title('Annual Area Burned (2018-2023)', fontsize=11)\n",
    "plt.xlabel('Year', fontsize=10)\n",
    "plt.ylabel('Area Burned (ha)', fontsize=9)\n",
    "plt.xticks(burned_area['START_YEAR'], rotation=45, size=8)\n",
    "\n",
    "# Apply custom formatting to y-axis\n",
    "plt.gca().yaxis.set_major_formatter(formatter)\n",
    "# plt.ylim(10000, None)\n",
    "\n",
    "plt.grid(axis='y', linestyle='--', alpha=0.7)\n",
    "plt.tight_layout()\n",
    "\n",
    "plt.savefig(os.path.join(projdir, 'figures/Figure1b_Aspen-Fires_NIFC-SRM_annualBurnedArea.png'), dpi=300, bbox_inches='tight')\n",
    "\n",
    "plt.show()"
   ]
  },
  {
   "cell_type": "code",
   "execution_count": null,
   "id": "53d43ac5-832b-45cb-b9ad-5ef674e52873",
   "metadata": {},
   "outputs": [],
   "source": [
    "# plot the density distribution of fire size\n",
    "plt.figure(figsize=(4, 2.5))\n",
    "sns.kdeplot(fires_['FINAL_HA'], fill=True, color='grey', alpha=1)\n",
    "plt.title('Distribution of Fire Sizes', fontsize=11)\n",
    "plt.xlabel('Fire Size (ha)', fontsize=9)\n",
    "plt.ylabel('Density', fontsize=9)\n",
    "\n",
    "plt.gca().xaxis.set_major_formatter(formatter)\n",
    "\n",
    "plt.grid(alpha=0.3)\n",
    "plt.tight_layout()\n",
    "\n",
    "plt.savefig(os.path.join(projdir, 'figures/Figure1b_Aspen-Fires_NIFC-SRM_fireSize.png'), dpi=300, bbox_inches='tight')\n",
    "\n",
    "plt.show()"
   ]
  },
  {
   "cell_type": "code",
   "execution_count": null,
   "id": "d67f3812-ae66-4a89-928f-14f2eaba4a3e",
   "metadata": {},
   "outputs": [],
   "source": []
  },
  {
   "cell_type": "code",
   "execution_count": null,
   "id": "2a95fbdf-f705-4a4d-9aa5-5199e3595c3d",
   "metadata": {},
   "outputs": [],
   "source": []
  },
  {
   "cell_type": "code",
   "execution_count": null,
   "id": "b1b5d422-d313-459a-ac2f-20ad4a2dda9b",
   "metadata": {},
   "outputs": [],
   "source": [
    "# Figure 2. Conceptual workflow for VIIRS AFD."
   ]
  },
  {
   "cell_type": "code",
   "execution_count": null,
   "id": "d0ebbf1b-540c-4781-ad41-3e2e919e8b30",
   "metadata": {},
   "outputs": [],
   "source": [
    "# Fire 2A. FRP detections by censor\n",
    "# load the AFD points\n",
    "afd = os.path.join(projdir,f'data/spatial/mod/VIIRS/viirs_snpp_jpss1_afd_latlon_aspenfires.gpkg')\n",
    "afd = gpd.read_file(afd)\n",
    "\n",
    "# Figure 2B. Pixel ground area\n",
    "pix = os.path.join(projdir,f'data/spatial/mod/VIIRS/viirs_snpp_jpss1_afd_latlon_aspenfires_pixar_nd.gpkg')\n",
    "pix = gpd.read_file(pix)\n",
    "\n",
    "pix.columns"
   ]
  },
  {
   "cell_type": "code",
   "execution_count": null,
   "id": "8ab415b3-7298-4395-ab65-96b4a7d81e0f",
   "metadata": {},
   "outputs": [],
   "source": [
    "# subset data to example fire:\n",
    "afd_fire = afd[afd['Fire_Name'] == 'WILLIAMS FORK']\n",
    "pix_fire = pix[pix['Fire_Name'] == 'WILLIAMS FORK']\n",
    "fire = grid[grid['Fire_Name'] == 'WILLIAMS FORK']\n",
    "\n",
    "afd_fire = afd_fire.to_crs(4326)\n",
    "pix_fire = pix_fire.to_crs(4326)\n",
    "fire = fire.to_crs(4326)\n",
    "\n",
    "# plot them\n",
    "fig, axes = plt.subplots(1, 3, figsize=(10, 7), constrained_layout=True)\n",
    "\n",
    "# Panel 1: Active fire detection points\n",
    "afd_fire.plot(\n",
    "    markersize=8,\n",
    "    column='satellite', \n",
    "    legend=True,\n",
    "    alpha=0.6,\n",
    "    ax=axes[0]\n",
    ")\n",
    "# axes[0].set_title('Active Fire Detections', fontsize=11)\n",
    "axes[0].axis('off')\n",
    "\n",
    "# Panel 2: Pixel ground areas\n",
    "pix_fire.plot(\n",
    "    column='satellite', \n",
    "    legend=False, \n",
    "    alpha=0.6,\n",
    "    ax=axes[1]\n",
    ")\n",
    "# axes[1].set_title('Pixel Ground Areas', fontsize=11)\n",
    "axes[1].axis('off')  # Remove borders and axes for a clean look\n",
    "\n",
    "# Panel 3: Aggregated FRP\n",
    "n_bins = 21\n",
    "quantiles = Quantiles(fire['frp_max'], k=n_bins)\n",
    "fire['frp_max_bins'] = quantiles.yb\n",
    "\n",
    "fire.plot(\n",
    "    column='frp_max_bins',\n",
    "    cmap='inferno',\n",
    "    linewidth=0,\n",
    "    alpha=0.6,\n",
    "    ax=axes[2]\n",
    ")\n",
    "# axes[2].set_title('Aggregated FRP', fontsize=11)\n",
    "axes[2].axis('off')  # Remove borders and axes for a clean look\n",
    "\n",
    "# Add a continuous colorbar to the third panel\n",
    "norm = Normalize(vmin=fire['frp_max'].min(), vmax=fire['frp_max'].max())\n",
    "sm = plt.cm.ScalarMappable(cmap='inferno', norm=norm)\n",
    "sm._A = []  # Dummy array for ScalarMappable\n",
    "cbar = fig.colorbar(sm, ax=axes[2], orientation='vertical', fraction=0.04, pad=0.05)\n",
    "cbar.set_label(\"Maximum FRP\", fontsize=12)\n",
    "\n",
    "axes[0].text(0.05, 0.95, '(A)', transform=axes[0].transAxes, \n",
    "             fontsize=12, fontweight='bold', va='top', ha='right')\n",
    "axes[1].text(0.05, 0.95, '(B)', transform=axes[1].transAxes, \n",
    "             fontsize=12, fontweight='bold', va='top', ha='right')\n",
    "axes[2].text(0.05, 0.95, '(C)', transform=axes[2].transAxes, \n",
    "             fontsize=12, fontweight='bold', va='top', ha='right')\n",
    "\n",
    "# Save the combined plot\n",
    "plt.savefig(os.path.join(projdir, 'figures/Figure2_FRP_GriddingScheme.png'), dpi=300, bbox_inches='tight')\n",
    "\n",
    "plt.show()"
   ]
  },
  {
   "cell_type": "code",
   "execution_count": null,
   "id": "b5158935-ba73-409d-871c-9b897fd7abce",
   "metadata": {},
   "outputs": [],
   "source": []
  },
  {
   "cell_type": "code",
   "execution_count": null,
   "id": "50a6b4d3-6b29-4c0c-beb0-8aa8d8e6a5aa",
   "metadata": {},
   "outputs": [],
   "source": []
  },
  {
   "cell_type": "code",
   "execution_count": null,
   "id": "850fa6a6-234e-4e0a-8545-89f2bb42fb75",
   "metadata": {},
   "outputs": [],
   "source": [
    "# Figure S2. Distribution of pixel ground area based on swath position."
   ]
  },
  {
   "cell_type": "code",
   "execution_count": null,
   "id": "65562ec8-6ff0-4902-adb1-c6357d9bd4a6",
   "metadata": {},
   "outputs": [],
   "source": [
    "# Bin the sample positions into intervals\n",
    "bin_edges = np.linspace(pix_area['sample'].min(), pix_area['sample'].max(), 20)  # Create 20 bins\n",
    "pix_area['sample_bin'] = pd.cut(pix_area['sample'], bins=bin_edges, labels=bin_edges[:-1])\n",
    "\n",
    "# Calculate mean pixel area for each bin\n",
    "sample_summary = pix_area.groupby('sample_bin')['pix_area'].mean().reset_index()\n",
    "sample_summary['sample_bin'] = sample_summary['sample_bin'].astype(float)  # Convert bin labels to float\n",
    "\n",
    "# Create the figure with subplots\n",
    "fig, axes = plt.subplots(1, 2, figsize=(7.5, 2.5), constrained_layout=False)\n",
    "fig.subplots_adjust(hspace=0.1, wspace=0.4)  \n",
    "\n",
    "# ======= Left Plot: Histogram =======\n",
    "sns.histplot(\n",
    "    data=pix_area, \n",
    "    x=\"pix_area\", \n",
    "    bins=50,  # Fine-grained bins for clarity\n",
    "    color=\"#1f77b4\", \n",
    "    kde=False, \n",
    "    ax=axes[0]\n",
    ")\n",
    "\n",
    "axes[0].set_xlabel(\"Pixel Area ($km^2$)\", fontsize=9)\n",
    "axes[0].set_ylabel(\"Frequency\", fontsize=9)\n",
    "\n",
    "# ======= Right Plot: Line Plot =======\n",
    "axes[1].plot(\n",
    "    sample_summary['sample_bin'], \n",
    "    sample_summary['pix_area'], \n",
    "    marker='o', color='orange', label=\"Mean Pixel Area\"\n",
    ")\n",
    "axes[1].set_xlabel(\"Sample Position\", fontsize=9)\n",
    "axes[1].set_ylabel(\"Mean Pixel Area ($km^2$)\", fontsize=9)\n",
    "axes[0].tick_params(axis='both', which='major', labelsize=8)  # Change 10 to desired font size\n",
    "axes[1].tick_params(axis='both', which='major', labelsize=8)\n",
    "\n",
    "axes[1].grid(True, linestyle='--', alpha=0.6)\n",
    "\n",
    "axes[0].text(-0.1, 1.1, \"(A)\", transform=axes[0].transAxes, fontsize=10, fontweight=\"bold\", va=\"top\", ha=\"right\")\n",
    "axes[1].text(-0.1, 1.1, \"(B)\", transform=axes[1].transAxes, fontsize=10, fontweight=\"bold\", va=\"top\", ha=\"right\")\n",
    "\n",
    "# Save the plot\n",
    "out_plot = os.path.join(projdir, 'figures/FigureS1_PixelGroundArea_Distribution.png')\n",
    "plt.savefig(out_plot, dpi=300, bbox_inches='tight')\n",
    "\n",
    "# Show the plots\n",
    "plt.show()"
   ]
  }
 ],
 "metadata": {
  "kernelspec": {
   "display_name": "aspen-fire",
   "language": "python",
   "name": "aspen-fire"
  },
  "language_info": {
   "codemirror_mode": {
    "name": "ipython",
    "version": 3
   },
   "file_extension": ".py",
   "mimetype": "text/x-python",
   "name": "python",
   "nbconvert_exporter": "python",
   "pygments_lexer": "ipython3",
   "version": "3.10.12"
  }
 },
 "nbformat": 4,
 "nbformat_minor": 5
}
