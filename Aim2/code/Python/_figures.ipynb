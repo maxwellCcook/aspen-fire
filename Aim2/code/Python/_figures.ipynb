{
 "cells": [
  {
   "cell_type": "code",
   "execution_count": 1,
   "id": "ebbcf5c5-8dc8-4d52-aa3e-c89ffc3363f9",
   "metadata": {},
   "outputs": [
    {
     "name": "stdout",
     "output_type": "stream",
     "text": [
      "Ready !\n"
     ]
    }
   ],
   "source": [
    "\"\"\"\n",
    "Manuscript figures\n",
    "\"\"\"\n",
    "\n",
    "import os, sys\n",
    "import geopandas as gpd\n",
    "import matplotlib.pyplot as plt\n",
    "import matplotlib as mpl\n",
    "import matplotlib.cm as cm\n",
    "import matplotlib.colors as colors\n",
    "\n",
    "# Custom functions\n",
    "sys.path.append(os.path.join(os.getcwd(),'code/'))\n",
    "from __functions import *\n",
    "\n",
    "proj = 'EPSG:5070'\n",
    "\n",
    "maindir = '/Users/max/Library/CloudStorage/OneDrive-Personal/mcook/'\n",
    "projdir = os.path.join(maindir, 'aspen-fire/Aim2/')\n",
    "icsdir = os.path.join(maindir, 'ics209-plus-fired/data/')\n",
    "\n",
    "print(\"Ready !\")"
   ]
  },
  {
   "cell_type": "code",
   "execution_count": 2,
   "id": "f57cfce0-1871-4d5c-8c9c-026d2b4a1930",
   "metadata": {},
   "outputs": [
    {
     "data": {
      "text/plain": [
       "Index(['NIFC_ID', 'NIFC_NAME', 'NIFC_ACRES', 'FINAL_ACRES', 'pct_cover',\n",
       "       'INCIDENT_ID', 'INCIDENT_NAME', 'START_YEAR', 'CAUSE', 'DISCOVERY_DATE',\n",
       "       'DISCOVERY_DOY', 'WF_CESSATION_DATE', 'WF_CESSATION_DOY',\n",
       "       'STR_DESTROYED_TOTAL', 'STR_DAMAGED_TOTAL', 'STR_THREATENED_MAX',\n",
       "       'EVACUATION_REPORTED', 'PEAK_EVACUATIONS', 'WF_PEAK_AERIAL',\n",
       "       'WF_PEAK_PERSONNEL', 'na_l3name', 'geometry'],\n",
       "      dtype='object')"
      ]
     },
     "execution_count": 2,
     "metadata": {},
     "output_type": "execute_result"
    }
   ],
   "source": [
    "# load fire perimeter data\n",
    "fp = os.path.join(projdir,'data/spatial/mod/NIFC/nifc-ics_2018_to_2023-aspen.gpkg')\n",
    "fires = gpd.read_file(fp)\n",
    "fires.columns"
   ]
  },
  {
   "cell_type": "code",
   "execution_count": null,
   "id": "f8166de3-782a-4574-bba8-6fcb87c872ff",
   "metadata": {},
   "outputs": [],
   "source": []
  },
  {
   "cell_type": "code",
   "execution_count": null,
   "id": "60888835-4a45-469b-8817-2a54f35adf5d",
   "metadata": {},
   "outputs": [],
   "source": [
    "# Figure 1A. Map of the Southern Rockies"
   ]
  },
  {
   "cell_type": "code",
   "execution_count": null,
   "id": "09b5ac31-617b-441e-a94a-47d820bc6783",
   "metadata": {},
   "outputs": [],
   "source": [
    "# get the fire centroids\n",
    "centroid_srm = centroid[centroid['na_l3name'] == 'Southern Rockies']\n",
    "ecol3_srm = ecol3[ecol3['na_l3name'] == 'Southern Rockies']\n",
    "\n",
    "# plot it\n",
    "fig, ax = plt.subplots(figsize=(6, 6))\n",
    "\n",
    "ecol3_srm.plot(ax=ax, edgecolor='black', linewidth=0.8, color='none')\n",
    "centroid_srm.plot(\n",
    "    ax=ax, markersize=centroid_srm['pct_cover'], \n",
    "    column='pct_cover', cmap='viridis', \n",
    "    legend=False, alpha=0.6)\n",
    "\n",
    "# Manually add colorbar\n",
    "norm = matplotlib.colors.Normalize(vmin=centroid_srm['pct_cover'].min(), vmax=centroid_srm['pct_cover'].max())\n",
    "sm = plt.cm.ScalarMappable(cmap='viridis', norm=norm)\n",
    "sm.set_array([])  # Only needed for ScalarMappable\n",
    "\n",
    "# Adjust the size of the colorbar using the `shrink` parameter\n",
    "cbar = fig.colorbar(sm, ax=ax, shrink=0.7)\n",
    "cbar.set_label('Aspen Percent')\n",
    "\n",
    "plt.xlabel('Longitude')\n",
    "plt.ylabel('Latitude')\n",
    "\n",
    "\n",
    "# Save the map as a PNG\n",
    "plt.savefig(os.path.join(projdir, 'figures/Figure1_Aspen-Fires_NIFC-SRM.png'), dpi=300, bbox_inches='tight')\n",
    "\n",
    "plt.show()"
   ]
  }
 ],
 "metadata": {
  "kernelspec": {
   "display_name": "aspen-fire",
   "language": "python",
   "name": "aspen-fire"
  },
  "language_info": {
   "codemirror_mode": {
    "name": "ipython",
    "version": 3
   },
   "file_extension": ".py",
   "mimetype": "text/x-python",
   "name": "python",
   "nbconvert_exporter": "python",
   "pygments_lexer": "ipython3",
   "version": "3.10.12"
  }
 },
 "nbformat": 4,
 "nbformat_minor": 5
}
