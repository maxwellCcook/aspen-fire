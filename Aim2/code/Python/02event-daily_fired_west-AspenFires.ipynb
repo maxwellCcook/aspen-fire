{
 "cells": [
  {
   "cell_type": "code",
   "execution_count": null,
   "id": "d88175ef-f3e5-44c8-b329-f958227a21ff",
   "metadata": {},
   "outputs": [],
   "source": []
  },
  {
   "cell_type": "code",
   "execution_count": null,
   "id": "96c6877b-cef8-491e-9169-5edd823177fc",
   "metadata": {},
   "outputs": [],
   "source": []
  },
  {
   "cell_type": "code",
   "execution_count": null,
   "id": "8bf809c6-a2f8-4f32-8e4d-d96b70262f98",
   "metadata": {},
   "outputs": [],
   "source": [
    "# Extract fires between 2018-2022\n",
    "daily_ = daily[(daily['ig_year'] >= 2018) & (daily['ig_year'] <= 2022)]\n",
    "print(f\"There are {len(daily_['id'].unique())} unique fires.\\n\\t[{len(daily_)}] individual daily perimeters.\")"
   ]
  },
  {
   "cell_type": "code",
   "execution_count": null,
   "id": "e9897758-bd39-47ec-b186-9ae7cb16bc99",
   "metadata": {},
   "outputs": [],
   "source": [
    "# Identify classes with 'aspen' in the EVT_NAME\n",
    "aspen_evt = props_df_event[props_df_event['EVT_NAME'].str.contains('aspen', case=False, na=False)]['EVT_NAME'].unique()\n",
    "print(aspen_evt)"
   ]
  },
  {
   "cell_type": "code",
   "execution_count": null,
   "id": "35a945db-965b-4ff3-a859-c8f5ea1c9900",
   "metadata": {},
   "outputs": [],
   "source": [
    "# Now filter to retain wildfire events with at least 5% aspen forest cover\n",
    "props_filtered = props_df[props_df['EVT_NAME'].isin(aspen_evt)]\n",
    "aspen_sum = props_filtered.groupby('fired_id')['pct_cover'].sum().reset_index() # get the sum of aspen classes\n",
    "aspen_sum['pct_aspen'] = aspen_sum['pct_cover']  # rename the column to retain aspen percent\n",
    "\n",
    "# Filter out fires with less than 5% aspen cover\n",
    "aspen_fires = aspen_sum[aspen_sum['pct_aspen'] >= 5] # retain fires with >= 5% \n",
    "aspen_fires = aspen_fires[['fired_id','pct_aspen']] # subset columns\n",
    "print(aspen_fires)"
   ]
  },
  {
   "cell_type": "code",
   "execution_count": null,
   "id": "75254968-7ebf-44cf-9c4a-02f96e9ea86c",
   "metadata": {},
   "outputs": [],
   "source": [
    "# Join back to the FIRED data\n",
    "# Check for matching fired_id set\n",
    "common_ids = set(fired['fired_id']).intersection(set(aspen_fires['fired_id'])) # Find intersection\n",
    "print(f\"Number of common IDs: {len(common_ids)}\")\n",
    "\n",
    "# Join the attribute data to FIRED polygons\n",
    "fired['fired_id'] = fired['fired_id'].astype(str)\n",
    "aspen_fires['fired_id'] = aspen_fires['fired_id'].astype(str)\n",
    "\n",
    "# Join aspen percent to the FIRED data\n",
    "fired_aspen = pd.merge(fired, aspen_fires, on='fired_id', how='inner')\n",
    "print(fired_aspen.columns)"
   ]
  },
  {
   "cell_type": "code",
   "execution_count": null,
   "id": "8c0ed9c9-95bc-4a98-b1d3-76839b70a58d",
   "metadata": {},
   "outputs": [],
   "source": [
    "# Filter fires that are only one MODIS pixel\n",
    "fired_aspen = fired_aspen[fired_aspen['tot_pix'] > 1]\n",
    "print(fired_aspen['tot_pix'].describe())\n",
    "# Filter out any \"cropland\" fires\n",
    "fired_aspen = fired_aspen[fired_aspen['lc_name'] != 'Croplands']\n",
    "print(fired_aspen['lc_name'].unique())\n",
    "\n",
    "print(f'There are {len(fired_aspen)} fire events meeting our criteria so far.')"
   ]
  },
  {
   "cell_type": "code",
   "execution_count": null,
   "id": "4062bcb2-8550-4918-a7c0-73c61dbe8c94",
   "metadata": {},
   "outputs": [],
   "source": [
    "# Save this file out\n",
    "fired_aspen = fired_aspen.to_crs(proj)  # ensure the correct projection before exporting\n",
    "fired_aspen.to_file(os.path.join(maindir,'aspen-fire/Aim2/data/spatial/mod/FIRED/fired_events_west_aspen_all_gt5pct.gpkg'))"
   ]
  },
  {
   "cell_type": "code",
   "execution_count": null,
   "id": "5da4c67a-ddce-40c1-aee4-500e5dd9af98",
   "metadata": {},
   "outputs": [],
   "source": []
  },
  {
   "cell_type": "code",
   "execution_count": null,
   "id": "cf948011-d579-44ce-8bc4-433c86bad5e0",
   "metadata": {},
   "outputs": [],
   "source": [
    "# Map of aspen fires"
   ]
  },
  {
   "cell_type": "code",
   "execution_count": null,
   "id": "92a87670-c96b-4ea5-8990-11d42ef8c481",
   "metadata": {},
   "outputs": [],
   "source": []
  },
  {
   "cell_type": "code",
   "execution_count": null,
   "id": "27daceb1-4b8e-4486-a48d-6264b01d4f89",
   "metadata": {},
   "outputs": [],
   "source": [
    "# Spatial map of aspen wildfires (centroid)\n",
    "\n",
    "# Load the state boundaries\n",
    "states = gpd.read_file(os.path.join(maindir,'data/boundaries/political/TIGER/tl19_us_states_west_nad83.gpkg'))\n",
    "\n",
    "# Generate centroids\n",
    "centroid = fired_aspen.copy()\n",
    "centroid['geometry'] = centroid.geometry.centroid\n",
    "\n",
    "# Make a spatial map of the centroids now\n",
    "fig, ax = plt.subplots(figsize=(6, 6))\n",
    "\n",
    "states.plot(ax=ax, edgecolor='black', linewidth=1, color='none')\n",
    "\n",
    "# Plot centroids\n",
    "centroid['size'] = centroid['pct_aspen'] * 10  # Adjust the scaling factor as necessary\n",
    "centroid.plot(\n",
    "    ax=ax, markersize=centroid['pct_aspen'], \n",
    "    column='pct_aspen', cmap='viridis', \n",
    "    legend=True, alpha=0.6, \n",
    "    legend_kwds={'label': \"Aspen Percent\"})\n",
    "\n",
    "plt.xlabel('Longitude')\n",
    "plt.ylabel('Latitude')\n",
    "plt.grid(True)\n",
    "\n",
    "del centroid\n",
    "\n",
    "# Save the map as a PNG\n",
    "plt.savefig(os.path.join(projdir, 'figures/Fig1_all_aspen_fires.png'), dpi=300, bbox_inches='tight')\n",
    "\n",
    "plt.show()"
   ]
  }
 ],
 "metadata": {
  "kernelspec": {
   "display_name": "aspen-fire",
   "language": "python",
   "name": "aspen-fire"
  },
  "language_info": {
   "codemirror_mode": {
    "name": "ipython",
    "version": 3
   },
   "file_extension": ".py",
   "mimetype": "text/x-python",
   "name": "python",
   "nbconvert_exporter": "python",
   "pygments_lexer": "ipython3",
   "version": "3.10.12"
  }
 },
 "nbformat": 4,
 "nbformat_minor": 5
}
