{
 "cells": [
  {
   "cell_type": "code",
   "id": "e8875da6-de28-494e-8590-5deff24c959f",
   "metadata": {
    "ExecuteTime": {
     "end_time": "2025-10-03T20:46:37.780492Z",
     "start_time": "2025-10-03T20:46:36.310055Z"
    }
   },
   "source": [
    "\"\"\"\n",
    "Calculate fire severity statistics within AFD observations from MODIS and VIIRS.\n",
    "Severity index: Composite Burn Severity (CBI), calculated in GEE via Parks (2018)\n",
    "\n",
    "Author: maxwell.cook@colorado.edu\n",
    "\"\"\"\n",
    "\n",
    "import os, sys\n",
    "import ee\n",
    "import geemap\n",
    "\n",
    "# Custom functions\n",
    "sys.path.append(os.path.join(os.getcwd(),'code/'))\n",
    "from __functions import *\n",
    "\n",
    "ee.Authenticate()\n",
    "ee.Initialize(project='jfsp-aspen')\n",
    "\n",
    "print(\"Success !\")"
   ],
   "outputs": [
    {
     "name": "stdout",
     "output_type": "stream",
     "text": [
      "Success !\n"
     ]
    }
   ],
   "execution_count": 1
  },
  {
   "cell_type": "code",
   "id": "630cba3c-2a17-432d-83aa-db242a71dcbe",
   "metadata": {
    "ExecuteTime": {
     "end_time": "2025-10-03T20:46:47.582207Z",
     "start_time": "2025-10-03T20:46:46.331055Z"
    }
   },
   "source": [
    "# Load the gridded FRP data\n",
    "grid = ee.FeatureCollection('projects/jfsp-aspen/assets/AFD/viirs_snpp_jpss1_afd_gridstats')\n",
    "print(f\"Number of grid cells: {grid.size().getInfo()}\")\n",
    "grid = grid.select(['grid_index','Fire_ID'])\n",
    "print(grid.first().propertyNames().getInfo())"
   ],
   "outputs": [
    {
     "data": {
      "text/plain": [
       "<IPython.core.display.HTML object>"
      ],
      "text/html": [
       "\n",
       "            <style>\n",
       "                .geemap-dark {\n",
       "                    --jp-widgets-color: white;\n",
       "                    --jp-widgets-label-color: white;\n",
       "                    --jp-ui-font-color1: white;\n",
       "                    --jp-layout-color2: #454545;\n",
       "                    background-color: #383838;\n",
       "                }\n",
       "\n",
       "                .geemap-dark .jupyter-button {\n",
       "                    --jp-layout-color3: #383838;\n",
       "                }\n",
       "\n",
       "                .geemap-colab {\n",
       "                    background-color: var(--colab-primary-surface-color, white);\n",
       "                }\n",
       "\n",
       "                .geemap-colab .jupyter-button {\n",
       "                    --jp-layout-color3: var(--colab-primary-surface-color, white);\n",
       "                }\n",
       "            </style>\n",
       "            "
      ]
     },
     "metadata": {},
     "output_type": "display_data"
    },
    {
     "name": "stdout",
     "output_type": "stream",
     "text": [
      "Number of grid cells: 56974\n",
      "['system:index', 'grid_index', 'Fire_ID']\n"
     ]
    }
   ],
   "execution_count": 3
  },
  {
   "cell_type": "code",
   "id": "fbfaa245-9531-4093-9164-cad232b809d7",
   "metadata": {
    "ExecuteTime": {
     "end_time": "2025-10-03T20:47:56.238069Z",
     "start_time": "2025-10-03T20:47:55.300951Z"
    }
   },
   "source": [
    "# folder containing the individual CBI rasters for each fire\n",
    "cbidir = 'projects/jfsp-aspen/assets/CBI_V2/'\n",
    "# list out all the images\n",
    "cbi_images = ee.data.listAssets({'parent': cbidir})['assets']\n",
    "cbi_image_list = [\n",
    "    ee.Image(f['id']) for f in cbi_images if f['id'].endswith('CBI_bc')\n",
    "]\n",
    "print(f\"There are [{len(cbi_image_list)}] CBI images\")\n",
    "print(cbi_image_list[0].projection().getInfo())\n",
    "print(grid.first().geometry().projection().getInfo())"
   ],
   "outputs": [
    {
     "data": {
      "text/plain": [
       "<IPython.core.display.HTML object>"
      ],
      "text/html": [
       "\n",
       "            <style>\n",
       "                .geemap-dark {\n",
       "                    --jp-widgets-color: white;\n",
       "                    --jp-widgets-label-color: white;\n",
       "                    --jp-ui-font-color1: white;\n",
       "                    --jp-layout-color2: #454545;\n",
       "                    background-color: #383838;\n",
       "                }\n",
       "\n",
       "                .geemap-dark .jupyter-button {\n",
       "                    --jp-layout-color3: #383838;\n",
       "                }\n",
       "\n",
       "                .geemap-colab {\n",
       "                    background-color: var(--colab-primary-surface-color, white);\n",
       "                }\n",
       "\n",
       "                .geemap-colab .jupyter-button {\n",
       "                    --jp-layout-color3: var(--colab-primary-surface-color, white);\n",
       "                }\n",
       "            </style>\n",
       "            "
      ]
     },
     "metadata": {},
     "output_type": "display_data"
    },
    {
     "name": "stdout",
     "output_type": "stream",
     "text": [
      "There are [76] CBI images\n",
      "{'type': 'Projection', 'crs': 'EPSG:4326', 'transform': [0.00026949458523585647, 0, -108.03337236183873, 0, -0.00026949458523585647, 37.627103485215514]}\n",
      "{'type': 'Projection', 'crs': 'EPSG:4326', 'transform': [1, 0, 0, 0, 1, 0]}\n"
     ]
    }
   ],
   "execution_count": 6
  },
  {
   "cell_type": "code",
   "id": "9f4ebf7f-6768-46a2-a80b-69e6cf19851d",
   "metadata": {
    "ExecuteTime": {
     "end_time": "2025-10-03T20:48:07.277613Z",
     "start_time": "2025-10-03T20:48:07.088587Z"
    }
   },
   "source": [
    "# create a 'forest mask' from the TreeMap data\n",
    "treemap = ee.ImageCollection(\"USFS/GTAC/TreeMap/v2016\")\n",
    "print(f\"TreeMap bands available for analysis:\\n\\n{treemap.first().bandNames().getInfo()}\")"
   ],
   "outputs": [
    {
     "data": {
      "text/plain": [
       "<IPython.core.display.HTML object>"
      ],
      "text/html": [
       "\n",
       "            <style>\n",
       "                .geemap-dark {\n",
       "                    --jp-widgets-color: white;\n",
       "                    --jp-widgets-label-color: white;\n",
       "                    --jp-ui-font-color1: white;\n",
       "                    --jp-layout-color2: #454545;\n",
       "                    background-color: #383838;\n",
       "                }\n",
       "\n",
       "                .geemap-dark .jupyter-button {\n",
       "                    --jp-layout-color3: #383838;\n",
       "                }\n",
       "\n",
       "                .geemap-colab {\n",
       "                    background-color: var(--colab-primary-surface-color, white);\n",
       "                }\n",
       "\n",
       "                .geemap-colab .jupyter-button {\n",
       "                    --jp-layout-color3: var(--colab-primary-surface-color, white);\n",
       "                }\n",
       "            </style>\n",
       "            "
      ]
     },
     "metadata": {},
     "output_type": "display_data"
    },
    {
     "name": "stdout",
     "output_type": "stream",
     "text": [
      "TreeMap bands available for analysis:\n",
      "\n",
      "['ALSTK', 'BALIVE', 'CANOPYPCT', 'CARBON_D', 'CARBON_DWN', 'CARBON_L', 'DRYBIO_D', 'DRYBIO_L', 'FLDSZCD', 'FLDTYPCD', 'FORTYPCD', 'GSSTK', 'QMD_RMRS', 'SDIPCT_RMRS', 'STANDHT', 'STDSZCD', 'TPA_DEAD', 'TPA_LIVE', 'Value', 'VOLBFNET_L', 'VOLCFNET_D', 'VOLCFNET_L']\n"
     ]
    }
   ],
   "execution_count": 7
  },
  {
   "cell_type": "code",
   "id": "cd1c6684-5c3a-4de6-9b70-fc707e34a38f",
   "metadata": {
    "ExecuteTime": {
     "end_time": "2025-10-03T20:53:51.976355Z",
     "start_time": "2025-10-03T20:53:47.928053Z"
    }
   },
   "source": [
    "# create a forest mask and check on it\n",
    "forest = treemap.select('FORTYPCD').mosaic().gt(0)\n",
    "# grab a CBI image and update the mask to check\n",
    "test = ee.ImageCollection.fromImages(cbi_image_list)\n",
    "\n",
    "# mask the CBI images\n",
    "def mask_forest(img):\n",
    "    return img.updateMask(forest)\n",
    "test_masked = test.map(mask_forest)\n",
    "\n",
    "# Initialize a map\n",
    "Map = geemap.Map()\n",
    "Map.addLayerControl()\n",
    "\n",
    "Map.centerObject(grid, zoom=8)\n",
    "\n",
    "Map.addLayer(forest)\n",
    "Map.addLayer(test)\n",
    "Map.addLayer(test_masked)\n",
    "Map.addLayer(grid)\n",
    "\n",
    "Map"
   ],
   "outputs": [
    {
     "data": {
      "text/plain": [
       "<IPython.core.display.HTML object>"
      ],
      "text/html": [
       "\n",
       "            <style>\n",
       "                .geemap-dark {\n",
       "                    --jp-widgets-color: white;\n",
       "                    --jp-widgets-label-color: white;\n",
       "                    --jp-ui-font-color1: white;\n",
       "                    --jp-layout-color2: #454545;\n",
       "                    background-color: #383838;\n",
       "                }\n",
       "\n",
       "                .geemap-dark .jupyter-button {\n",
       "                    --jp-layout-color3: #383838;\n",
       "                }\n",
       "\n",
       "                .geemap-colab {\n",
       "                    background-color: var(--colab-primary-surface-color, white);\n",
       "                }\n",
       "\n",
       "                .geemap-colab .jupyter-button {\n",
       "                    --jp-layout-color3: var(--colab-primary-surface-color, white);\n",
       "                }\n",
       "            </style>\n",
       "            "
      ]
     },
     "metadata": {},
     "output_type": "display_data"
    },
    {
     "data": {
      "text/plain": [
       "Map(center=[38.60112970313928, -106.09596143712085], controls=(WidgetControl(options=['position', 'transparent…"
      ],
      "application/vnd.jupyter.widget-view+json": {
       "version_major": 2,
       "version_minor": 0,
       "model_id": "4ec75da9c89042e28e72e85ef67420d8"
      }
     },
     "execution_count": 10,
     "metadata": {},
     "output_type": "execute_result"
    }
   ],
   "execution_count": 10
  },
  {
   "cell_type": "code",
   "id": "f2a5b281-f627-4ab0-bfe8-297594f8567e",
   "metadata": {
    "ExecuteTime": {
     "end_time": "2025-10-03T20:56:09.993256Z",
     "start_time": "2025-10-03T20:56:09.984395Z"
    }
   },
   "source": [
    "# Setup seperate functions for average/stdev and extremes (percentiles)\n",
    "def calculate_average(cbi_image, grid_fc, fire_id):\n",
    "    \"\"\"Calculate mean and standard deviation of CBI within each grid cell.\"\"\"\n",
    "    # mask the CBI to forest pixels\n",
    "    cbi_image = cbi_image.updateMask(forest)\n",
    "    # perform the reduction\n",
    "    return cbi_image.reduceRegions(\n",
    "        collection=grid_fc,\n",
    "        reducer=ee.Reducer.mean().combine(\n",
    "            reducer2=ee.Reducer.stdDev(), sharedInputs=True\n",
    "        ),\n",
    "        scale=30\n",
    "    ).map(lambda f: f.set(\"Fire_ID\", fire_id))\n",
    "\n",
    "def calculate_extremes(cbi_image, grid_fc, fire_id):\n",
    "    \"\"\"Calculate percentiles (90th, 95th, 99th) of CBI within each grid cell.\"\"\"\n",
    "    # mask the CBI to forest pixels\n",
    "    cbi_image = cbi_image.updateMask(forest)\n",
    "    # perform the reduction\n",
    "    return cbi_image.reduceRegions(\n",
    "        collection=grid_fc,\n",
    "        reducer=ee.Reducer.percentile([90, 95, 97, 99]),\n",
    "        scale=30\n",
    "    ).map(lambda f: f.set(\"Fire_ID\", fire_id))\n",
    "\n",
    "def merge_collections(primary, secondary, join_field=\"grid_index\"):\n",
    "    \"\"\"Join two FeatureCollections and merge their properties.\"\"\"\n",
    "    join = ee.Join.inner()\n",
    "    filter_condition = ee.Filter.equals(\n",
    "        leftField=join_field, \n",
    "        rightField=join_field\n",
    "    )\n",
    "    joined = join.apply(primary, secondary, filter_condition)\n",
    "\n",
    "    # Flatten joined results\n",
    "    def merge_features(f):\n",
    "        primary_props = ee.Feature(f.get(\"primary\")).toDictionary()\n",
    "        secondary_props = ee.Feature(f.get(\"secondary\")).toDictionary()\n",
    "        combined_props = primary_props.combine(secondary_props)\n",
    "        return ee.Feature(None, combined_props)\n",
    "\n",
    "    return joined.map(merge_features)\n",
    "\n",
    "print(\"Functions ready !\")"
   ],
   "outputs": [
    {
     "data": {
      "text/plain": [
       "<IPython.core.display.HTML object>"
      ],
      "text/html": [
       "\n",
       "            <style>\n",
       "                .geemap-dark {\n",
       "                    --jp-widgets-color: white;\n",
       "                    --jp-widgets-label-color: white;\n",
       "                    --jp-ui-font-color1: white;\n",
       "                    --jp-layout-color2: #454545;\n",
       "                    background-color: #383838;\n",
       "                }\n",
       "\n",
       "                .geemap-dark .jupyter-button {\n",
       "                    --jp-layout-color3: #383838;\n",
       "                }\n",
       "\n",
       "                .geemap-colab {\n",
       "                    background-color: var(--colab-primary-surface-color, white);\n",
       "                }\n",
       "\n",
       "                .geemap-colab .jupyter-button {\n",
       "                    --jp-layout-color3: var(--colab-primary-surface-color, white);\n",
       "                }\n",
       "            </style>\n",
       "            "
      ]
     },
     "metadata": {},
     "output_type": "display_data"
    },
    {
     "name": "stdout",
     "output_type": "stream",
     "text": [
      "Functions ready !\n"
     ]
    }
   ],
   "execution_count": 11
  },
  {
   "cell_type": "code",
   "id": "47374b7b-c74c-4327-a8fc-4ec9d8b94ae2",
   "metadata": {
    "ExecuteTime": {
     "end_time": "2025-10-03T20:56:17.915067Z",
     "start_time": "2025-10-03T20:56:17.775122Z"
    }
   },
   "source": "print(cbi_image_list[2].get('fireID').getInfo())",
   "outputs": [
    {
     "data": {
      "text/plain": [
       "<IPython.core.display.HTML object>"
      ],
      "text/html": [
       "\n",
       "            <style>\n",
       "                .geemap-dark {\n",
       "                    --jp-widgets-color: white;\n",
       "                    --jp-widgets-label-color: white;\n",
       "                    --jp-ui-font-color1: white;\n",
       "                    --jp-layout-color2: #454545;\n",
       "                    background-color: #383838;\n",
       "                }\n",
       "\n",
       "                .geemap-dark .jupyter-button {\n",
       "                    --jp-layout-color3: #383838;\n",
       "                }\n",
       "\n",
       "                .geemap-colab {\n",
       "                    background-color: var(--colab-primary-surface-color, white);\n",
       "                }\n",
       "\n",
       "                .geemap-colab .jupyter-button {\n",
       "                    --jp-layout-color3: var(--colab-primary-surface-color, white);\n",
       "                }\n",
       "            </style>\n",
       "            "
      ]
     },
     "metadata": {},
     "output_type": "display_data"
    },
    {
     "name": "stdout",
     "output_type": "stream",
     "text": [
      "103\n"
     ]
    }
   ],
   "execution_count": 13
  },
  {
   "cell_type": "code",
   "id": "100e139a-2097-40ff-ba93-f652e6a81beb",
   "metadata": {
    "ExecuteTime": {
     "end_time": "2025-10-03T20:56:22.185147Z",
     "start_time": "2025-10-03T20:56:22.051351Z"
    }
   },
   "source": [
    "cbi_image_list[0]"
   ],
   "outputs": [
    {
     "data": {
      "text/plain": [
       "<IPython.core.display.HTML object>"
      ],
      "text/html": [
       "\n",
       "            <style>\n",
       "                .geemap-dark {\n",
       "                    --jp-widgets-color: white;\n",
       "                    --jp-widgets-label-color: white;\n",
       "                    --jp-ui-font-color1: white;\n",
       "                    --jp-layout-color2: #454545;\n",
       "                    background-color: #383838;\n",
       "                }\n",
       "\n",
       "                .geemap-dark .jupyter-button {\n",
       "                    --jp-layout-color3: #383838;\n",
       "                }\n",
       "\n",
       "                .geemap-colab {\n",
       "                    background-color: var(--colab-primary-surface-color, white);\n",
       "                }\n",
       "\n",
       "                .geemap-colab .jupyter-button {\n",
       "                    --jp-layout-color3: var(--colab-primary-surface-color, white);\n",
       "                }\n",
       "            </style>\n",
       "            "
      ]
     },
     "metadata": {},
     "output_type": "display_data"
    },
    {
     "data": {
      "text/plain": [
       "<ee.image.Image at 0x169fe6d50>"
      ],
      "text/html": [
       "<div><style>:root {\n",
       "  --font-color-primary: var(--jp-content-font-color0, rgba(0, 0, 0, 1));\n",
       "  --font-color-secondary: var(--jp-content-font-color2, rgba(0, 0, 0, 0.7));\n",
       "  --font-color-accent: rgba(123, 31, 162, 1);\n",
       "  --border-color: var(--jp-border-color2, #e0e0e0);\n",
       "  --background-color: var(--jp-layout-color0, white);\n",
       "  --background-color-row-even: var(--jp-layout-color1, white);\n",
       "  --background-color-row-odd: var(--jp-layout-color2, #eeeeee);\n",
       "}\n",
       "\n",
       "html[theme=\"dark\"],\n",
       "body[data-theme=\"dark\"],\n",
       "body.vscode-dark {\n",
       "  --font-color-primary: rgba(255, 255, 255, 1);\n",
       "  --font-color-secondary: rgba(255, 255, 255, 0.7);\n",
       "  --font-color-accent: rgb(173, 132, 190);\n",
       "  --border-color: #2e2e2e;\n",
       "  --background-color: #111111;\n",
       "  --background-color-row-even: #111111;\n",
       "  --background-color-row-odd: #313131;\n",
       "}\n",
       "\n",
       ".eerepr {\n",
       "  padding: 1em;\n",
       "  line-height: 1.5em;\n",
       "  min-width: 300px;\n",
       "  max-width: 1200px;\n",
       "  overflow-y: scroll;\n",
       "  max-height: 600px;\n",
       "  border: 1px solid var(--border-color);\n",
       "  font-family: monospace;\n",
       "  font-size: 14px;\n",
       "}\n",
       "\n",
       ".eerepr li {\n",
       "  list-style-type: none;\n",
       "  margin: 0;\n",
       "}\n",
       "\n",
       ".eerepr ul {\n",
       "  padding-left: 1.5em !important;\n",
       "  margin: 0;\n",
       "}\n",
       "\n",
       ".eerepr > ul {\n",
       "  padding-left: 0 !important;\n",
       "}\n",
       "\n",
       ".eerepr summary {\n",
       "  color: var(--font-color-secondary);\n",
       "  cursor: pointer;\n",
       "  margin: 0;\n",
       "}\n",
       "\n",
       ".eerepr summary:hover {\n",
       "  color: var(--font-color-primary);\n",
       "  background-color: var(--background-color-row-odd)\n",
       "}\n",
       "\n",
       ".ee-k {\n",
       "  color: var(--font-color-accent);\n",
       "  margin-right: 6px;\n",
       "}\n",
       "\n",
       ".ee-v {\n",
       "  color: var(--font-color-primary);\n",
       "}\n",
       "\n",
       ".eerepr details > summary::before {\n",
       "  content: '▼';\n",
       "  display: inline-block;\n",
       "  margin-right: 6px;\n",
       "  transition: transform 0.2s;\n",
       "  transform: rotate(-90deg);\n",
       "}\n",
       "\n",
       ".eerepr details[open] > summary::before {\n",
       "  transform: rotate(0deg);\n",
       "}\n",
       "\n",
       ".eerepr details summary::-webkit-details-marker {\n",
       "  display:none;\n",
       "}\n",
       "\n",
       ".eerepr details summary {\n",
       "  list-style-type: none;\n",
       "}\n",
       "</style><div class='eerepr'><ul><li><details><summary>Image projects/jfsp-aspen/assets/CBI_V2/0_CBI_bc (1 band)</summary><ul><li><span class='ee-k'>type:</span><span class='ee-v'>Image</span></li><li><span class='ee-k'>id:</span><span class='ee-v'>projects/jfsp-aspen/assets/CBI_V2/0_CBI_bc</span></li><li><span class='ee-k'>version:</span><span class='ee-v'>1759466671053795</span></li><li><details><summary>bands: List (1 element)</summary><ul><li><details><summary>0: \"CBI_bc\", float, EPSG:4326, 972x993 px</summary><ul><li><span class='ee-k'>id:</span><span class='ee-v'>CBI_bc</span></li><li><span class='ee-k'>crs:</span><span class='ee-v'>EPSG:4326</span></li><li><details><summary>crs_transform: List (6 elements)</summary><ul><li><span class='ee-k'>0:</span><span class='ee-v'>0.00026949458523585647</span></li><li><span class='ee-k'>1:</span><span class='ee-v'>0</span></li><li><span class='ee-k'>2:</span><span class='ee-v'>-108.03337236183873</span></li><li><span class='ee-k'>3:</span><span class='ee-v'>0</span></li><li><span class='ee-k'>4:</span><span class='ee-v'>-0.00026949458523585647</span></li><li><span class='ee-k'>5:</span><span class='ee-v'>37.627103485215514</span></li></ul></details></li><li><details><summary>data_type: float</summary><ul><li><span class='ee-k'>type:</span><span class='ee-v'>PixelType</span></li><li><span class='ee-k'>precision:</span><span class='ee-v'>float</span></li></ul></details></li><li><details><summary>dimensions: [972, 993]</summary><ul><li><span class='ee-k'>0:</span><span class='ee-v'>972</span></li><li><span class='ee-k'>1:</span><span class='ee-v'>993</span></li></ul></details></li></ul></details></li></ul></details></li><li><details><summary>properties: Object (4 properties)</summary><ul><li><span class='ee-k'>fireID:</span><span class='ee-v'>0</span></li><li><span class='ee-k'>fireYear:</span><span class='ee-v'>2018</span></li><li><span class='ee-k'>system:asset_size:</span><span class='ee-v'>1169383</span></li><li><details><summary>system:footprint: LinearRing (20 vertices)</summary><ul><li><span class='ee-k'>type:</span><span class='ee-v'>LinearRing</span></li><li><details><summary>coordinates: List (20 elements)</summary><ul><li><details><summary>0: [-108.03328007239188, 37.35936226818601]</summary><ul><li><span class='ee-k'>0:</span><span class='ee-v'>-108.03328007239188</span></li><li><span class='ee-k'>1:</span><span class='ee-v'>37.35936226818601</span></li></ul></details></li><li><details><summary>1: [-108.03323738291161, 37.35936013343055]</summary><ul><li><span class='ee-k'>0:</span><span class='ee-v'>-108.03323738291161</span></li><li><span class='ee-k'>1:</span><span class='ee-v'>37.35936013343055</span></li></ul></details></li><li><details><summary>2: [-107.90239799689392, 37.35936017171361]</summary><ul><li><span class='ee-k'>0:</span><span class='ee-v'>-107.90239799689392</span></li><li><span class='ee-k'>1:</span><span class='ee-v'>37.35936017171361</span></li></ul></details></li><li><details><summary>3: [-107.77155861769528, 37.35936012875588]</summary><ul><li><span class='ee-k'>0:</span><span class='ee-v'>-107.77155861769528</span></li><li><span class='ee-k'>1:</span><span class='ee-v'>37.35936012875588</span></li></ul></details></li><li><details><summary>4: [-107.77140192791764, 37.35946981546425]</summary><ul><li><span class='ee-k'>0:</span><span class='ee-v'>-107.77140192791764</span></li><li><span class='ee-k'>1:</span><span class='ee-v'>37.35946981546425</span></li></ul></details></li><li><details><summary>5: [-107.77122933431824, 37.35956316161861]</summary><ul><li><span class='ee-k'>0:</span><span class='ee-v'>-107.77122933431824</span></li><li><span class='ee-k'>1:</span><span class='ee-v'>37.35956316161861</span></li></ul></details></li><li><details><summary>6: [-107.77121876183415, 37.3596073698522]</summary><ul><li><span class='ee-k'>0:</span><span class='ee-v'>-107.77121876183415</span></li><li><span class='ee-k'>1:</span><span class='ee-v'>37.3596073698522</span></li></ul></details></li><li><details><summary>7: [-107.77121749675061, 37.62696871577107]</summary><ul><li><span class='ee-k'>0:</span><span class='ee-v'>-107.77121749675061</span></li><li><span class='ee-k'>1:</span><span class='ee-v'>37.62696871577107</span></li></ul></details></li><li><details><summary>8: [-107.77135593306856, 37.627093076670626]</summary><ul><li><span class='ee-k'>0:</span><span class='ee-v'>-107.77135593306856</span></li><li><span class='ee-k'>1:</span><span class='ee-v'>37.627093076670626</span></li></ul></details></li><li><details><summary>9: [-107.77147358591938, 37.62723025839767]</summary><ul><li><span class='ee-k'>0:</span><span class='ee-v'>-107.77147358591938</span></li><li><span class='ee-k'>1:</span><span class='ee-v'>37.62723025839767</span></li></ul></details></li><li><details><summary>10: [-107.7715297014668, 37.6272387162985]</summary><ul><li><span class='ee-k'>0:</span><span class='ee-v'>-107.7715297014668</span></li><li><span class='ee-k'>1:</span><span class='ee-v'>37.6272387162985</span></li></ul></details></li><li><details><summary>11: [-107.90239799689392, 37.6272386844515]</summary><ul><li><span class='ee-k'>0:</span><span class='ee-v'>-107.90239799689392</span></li><li><span class='ee-k'>1:</span><span class='ee-v'>37.6272386844515</span></li></ul></details></li><li><details><summary>12: [-108.03323783513065, 37.62723871413679]</summary><ul><li><span class='ee-k'>0:</span><span class='ee-v'>-108.03323783513065</span></li><li><span class='ee-k'>1:</span><span class='ee-v'>37.62723871413679</span></li></ul></details></li><li><details><summary>13: [-108.0333947551778, 37.62712894885369]</summary><ul><li><span class='ee-k'>0:</span><span class='ee-v'>-108.0333947551778</span></li><li><span class='ee-k'>1:</span><span class='ee-v'>37.62712894885369</span></li></ul></details></li><li><details><summary>14: [-108.03356786476454, 37.6270356598727]</summary><ul><li><span class='ee-k'>0:</span><span class='ee-v'>-108.03356786476454</span></li><li><span class='ee-k'>1:</span><span class='ee-v'>37.6270356598727</span></li></ul></details></li><li><details><summary>15: [-108.03357844670172, 37.626991305294844]</summary><ul><li><span class='ee-k'>0:</span><span class='ee-v'>-108.03357844670172</span></li><li><span class='ee-k'>1:</span><span class='ee-v'>37.626991305294844</span></li></ul></details></li><li><details><summary>16: [-108.0335772709309, 37.35963014044879]</summary><ul><li><span class='ee-k'>0:</span><span class='ee-v'>-108.0335772709309</span></li><li><span class='ee-k'>1:</span><span class='ee-v'>37.35963014044879</span></li></ul></details></li><li><details><summary>17: [-108.03343916311361, 37.35950568367512]</summary><ul><li><span class='ee-k'>0:</span><span class='ee-v'>-108.03343916311361</span></li><li><span class='ee-k'>1:</span><span class='ee-v'>37.35950568367512</span></li></ul></details></li><li><details><summary>18: [-108.03332167655212, 37.35936851892091]</summary><ul><li><span class='ee-k'>0:</span><span class='ee-v'>-108.03332167655212</span></li><li><span class='ee-k'>1:</span><span class='ee-v'>37.35936851892091</span></li></ul></details></li><li><details><summary>19: [-108.03328007239188, 37.35936226818601]</summary><ul><li><span class='ee-k'>0:</span><span class='ee-v'>-108.03328007239188</span></li><li><span class='ee-k'>1:</span><span class='ee-v'>37.35936226818601</span></li></ul></details></li></ul></details></li></ul></details></li></ul></details></li></ul></details></li></ul></div></div>"
      ]
     },
     "execution_count": 14,
     "metadata": {},
     "output_type": "execute_result"
    }
   ],
   "execution_count": 14
  },
  {
   "cell_type": "code",
   "id": "65fa740f-64e9-476f-8ef4-07e2a0418f32",
   "metadata": {
    "ExecuteTime": {
     "end_time": "2025-10-03T22:09:37.826411Z",
     "start_time": "2025-10-03T20:57:24.446295Z"
    }
   },
   "source": [
    "# Initialize export tasks for all fires\n",
    "# Initialize an empty collection to hold all results\n",
    "all_fires_stats = ee.FeatureCollection([])\n",
    "for cbi_image in tqdm(cbi_image_list, desc=\"Processing Fires\"):\n",
    "    \n",
    "    # Extract Fire ID from the image file name\n",
    "    fire_id = cbi_image.get('fireID').getInfo()\n",
    "    # Filter grid cells for this fire\n",
    "    fire_grid = grid.filter(ee.Filter.eq(\"Fire_ID\", fire_id))\n",
    "\n",
    "    # Calculate mean/stdDev and percentiles\n",
    "    average_stats = calculate_average(cbi_image, fire_grid, fire_id)\n",
    "    extremes_stats = calculate_extremes(cbi_image, fire_grid, fire_id)\n",
    "\n",
    "    # Merge results\n",
    "    stats = merge_collections(average_stats, extremes_stats)\n",
    "\n",
    "    # Add to the global collection\n",
    "    all_fires_stats = all_fires_stats.merge(stats)\n",
    "\n",
    "# export table to Drive.\n",
    "export_task = ee.batch.Export.table.toDrive(\n",
    "    collection=all_fires_stats,\n",
    "    description='gridstats_cbibc_forest_v2',\n",
    "    fileNamePrefix='gridstats_cbibc_forest_v2',\n",
    "    fileFormat='CSV', \n",
    "    folder='CBI'\n",
    ")\n",
    "\n",
    "export_task.start()\n",
    "print(\"Export to Earth Engine Asset started!\")\n",
    "monitor_export(export_task, 360) # 360=every 5 min"
   ],
   "outputs": [
    {
     "data": {
      "text/plain": [
       "<IPython.core.display.HTML object>"
      ],
      "text/html": [
       "\n",
       "            <style>\n",
       "                .geemap-dark {\n",
       "                    --jp-widgets-color: white;\n",
       "                    --jp-widgets-label-color: white;\n",
       "                    --jp-ui-font-color1: white;\n",
       "                    --jp-layout-color2: #454545;\n",
       "                    background-color: #383838;\n",
       "                }\n",
       "\n",
       "                .geemap-dark .jupyter-button {\n",
       "                    --jp-layout-color3: #383838;\n",
       "                }\n",
       "\n",
       "                .geemap-colab {\n",
       "                    background-color: var(--colab-primary-surface-color, white);\n",
       "                }\n",
       "\n",
       "                .geemap-colab .jupyter-button {\n",
       "                    --jp-layout-color3: var(--colab-primary-surface-color, white);\n",
       "                }\n",
       "            </style>\n",
       "            "
      ]
     },
     "metadata": {},
     "output_type": "display_data"
    },
    {
     "data": {
      "text/plain": [
       "Processing Fires:   0%|          | 0/76 [00:00<?, ?it/s]"
      ],
      "application/vnd.jupyter.widget-view+json": {
       "version_major": 2,
       "version_minor": 0,
       "model_id": "29264c24613e4fdea693723feed4ebac"
      }
     },
     "metadata": {},
     "output_type": "display_data"
    },
    {
     "name": "stdout",
     "output_type": "stream",
     "text": [
      "Export to Earth Engine Asset started!\n",
      "Waiting for export to finish..\n",
      "\tPatience young padawan.\n",
      "Waiting for export to finish..\n",
      "\tPatience young padawan.\n",
      "Waiting for export to finish..\n",
      "\tPatience young padawan.\n",
      "Waiting for export to finish..\n",
      "\tPatience young padawan.\n",
      "Waiting for export to finish..\n",
      "\tPatience young padawan.\n",
      "Waiting for export to finish..\n",
      "\tPatience young padawan.\n",
      "Waiting for export to finish..\n",
      "\tPatience young padawan.\n",
      "Waiting for export to finish..\n",
      "\tPatience young padawan.\n",
      "Waiting for export to finish..\n",
      "\tPatience young padawan.\n",
      "Waiting for export to finish..\n",
      "\tPatience young padawan.\n",
      "Waiting for export to finish..\n",
      "\tPatience young padawan.\n",
      "Waiting for export to finish..\n",
      "\tPatience young padawan.\n",
      "Export completed successfully !!!!\n"
     ]
    }
   ],
   "execution_count": 15
  }
 ],
 "metadata": {
  "kernelspec": {
   "display_name": "aspen-fire",
   "language": "python",
   "name": "aspen-fire"
  },
  "language_info": {
   "codemirror_mode": {
    "name": "ipython",
    "version": 3
   },
   "file_extension": ".py",
   "mimetype": "text/x-python",
   "name": "python",
   "nbconvert_exporter": "python",
   "pygments_lexer": "ipython3",
   "version": "3.10.12"
  }
 },
 "nbformat": 4,
 "nbformat_minor": 5
}
