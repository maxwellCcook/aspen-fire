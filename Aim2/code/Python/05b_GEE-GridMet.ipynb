{
 "cells": [
  {
   "cell_type": "code",
   "id": "2ec5f74e-ef2e-4ec3-9066-c21a7c15ee34",
   "metadata": {
    "ExecuteTime": {
     "end_time": "2025-10-04T21:39:20.582104Z",
     "start_time": "2025-10-04T21:39:19.120775Z"
    }
   },
   "source": [
    "\"\"\"\n",
    "Extract gridMET variables \n",
    "Google Earth Engine (GEE) Python API\n",
    "Author: maxwell.cook@colorado.edu\n",
    "\"\"\"\n",
    "\n",
    "import os, sys\n",
    "import ee\n",
    "\n",
    "# Custom functions\n",
    "sys.path.append(os.path.join(os.getcwd(),'code/'))\n",
    "from __functions import *\n",
    "\n",
    "ee.Authenticate()\n",
    "ee.Initialize(project='jfsp-aspen')\n",
    "\n",
    "print(\"Success !\")"
   ],
   "outputs": [
    {
     "name": "stdout",
     "output_type": "stream",
     "text": [
      "Success !\n"
     ]
    }
   ],
   "execution_count": 1
  },
  {
   "cell_type": "code",
   "id": "695dbe4b-5fe6-48c9-9ce3-7c2ed21f2a83",
   "metadata": {
    "ExecuteTime": {
     "end_time": "2025-10-04T21:39:21.127471Z",
     "start_time": "2025-10-04T21:39:20.586197Z"
    }
   },
   "source": [
    "# Load gridded FRP data aggregated to first observation day\n",
    "grid = ee.FeatureCollection('projects/jfsp-aspen/assets/AFD/viirs_snpp_jpss1_afd_gridstats_days')\n",
    "print(f\"Number of unique grid days (dissolved gridcells): {grid.size().getInfo()}\")\n",
    "grid = grid.select(['grid_index', 'Fire_ID', 'Ig_Date', 'Last_Date', 'max_date', 'first_obs', 'last_obs'])\n",
    "# Align the grid geometries with the GridMET projection\n",
    "grid = grid.map(lambda f: f.setGeometry(\n",
    "    f.geometry().transform(ee.ImageCollection('IDAHO_EPSCOR/GRIDMET')\n",
    "                           .first().projection())\n",
    "))\n",
    "print(grid.first().propertyNames().getInfo())"
   ],
   "outputs": [
    {
     "name": "stdout",
     "output_type": "stream",
     "text": [
      "Number of unique grid days (dissolved gridcells): 4364\n",
      "['system:index', 'grid_index', 'Fire_ID', 'max_date', 'first_obs', 'Ig_Date', 'Last_Date', 'last_obs']\n"
     ]
    }
   ],
   "execution_count": 2
  },
  {
   "cell_type": "code",
   "id": "493a5cd8-b589-4b17-9edf-45f5d04141f1",
   "metadata": {
    "ExecuteTime": {
     "end_time": "2025-10-04T21:39:21.663883Z",
     "start_time": "2025-10-04T21:39:21.133737Z"
    }
   },
   "source": [
    "# get a list of unique active fire days\n",
    "fire_days = grid.aggregate_array('first_obs').getInfo()\n",
    "fire_days = set(fire_days)\n",
    "print(f\"Number of unique 'first fire days': {len(fire_days)}\")\n",
    "\n",
    "# get the min and max DOY\n",
    "fire_days_doy = [datetime.strptime(day, \"%Y-%m-%d\").timetuple().tm_yday for day in fire_days]\n",
    "doy_min = min(fire_days_doy)\n",
    "doy_max = max(fire_days_doy)\n",
    "print(f\"Fire DOY range: {doy_min} to {doy_max}\")"
   ],
   "outputs": [
    {
     "name": "stdout",
     "output_type": "stream",
     "text": [
      "Number of unique 'first fire days': 466\n",
      "Fire DOY range: 96 to 317\n"
     ]
    }
   ],
   "execution_count": 3
  },
  {
   "cell_type": "code",
   "id": "929988fa-2c96-43a5-aaa0-48e51720842e",
   "metadata": {
    "ExecuteTime": {
     "end_time": "2025-10-04T21:39:21.851719Z",
     "start_time": "2025-10-04T21:39:21.672011Z"
    }
   },
   "source": [
    "# Load the gridmet image collection\n",
    "gridmet = ee.ImageCollection('IDAHO_EPSCOR/GRIDMET')\n",
    "print(f\"\\ngridMET bands available for analysis:\\n\\n{gridmet.first().bandNames().getInfo()}\\n\")"
   ],
   "outputs": [
    {
     "name": "stdout",
     "output_type": "stream",
     "text": [
      "\n",
      "gridMET bands available for analysis:\n",
      "\n",
      "['pr', 'rmax', 'rmin', 'sph', 'srad', 'th', 'tmmn', 'tmmx', 'vs', 'erc', 'eto', 'bi', 'fm100', 'fm1000', 'etr', 'vpd']\n",
      "\n"
     ]
    }
   ],
   "execution_count": 4
  },
  {
   "cell_type": "code",
   "id": "1ea1f429-786b-4534-8bd6-8eeb06702db5",
   "metadata": {
    "ExecuteTime": {
     "end_time": "2025-10-04T21:39:21.960937Z",
     "start_time": "2025-10-04T21:39:21.860263Z"
    }
   },
   "source": [
    "# select our variables of interest:\n",
    "# Vapor Pressure Deficit (vpd), Energy Release Component (erc), wind speed (vs)\n",
    "gridmet = gridmet.select(['vpd', 'erc', 'vs'])\n",
    "print(gridmet.first().bandNames().getInfo())"
   ],
   "outputs": [
    {
     "name": "stdout",
     "output_type": "stream",
     "text": [
      "['vpd', 'erc', 'vs']\n"
     ]
    }
   ],
   "execution_count": 5
  },
  {
   "metadata": {
    "ExecuteTime": {
     "end_time": "2025-10-04T21:39:47.268286Z",
     "start_time": "2025-10-04T21:39:21.969517Z"
    }
   },
   "cell_type": "code",
   "source": [
    "# Long-term baseline for climatology\n",
    "gridmet_l = gridmet.filterDate('2008-12-31', '2023-12-31')\n",
    "\n",
    "# load the fire bounds\n",
    "fires = ee.FeatureCollection('projects/jfsp-aspen/assets/srm_fire_census_2017_to_2023_bounds')\n",
    "\n",
    "# pre-compute the long-term climatology for each fire footprint\n",
    "fire_ids = ee.List(fires.aggregate_array('Fire_ID'))\n",
    "\n",
    "def fire_climatology(fid):\n",
    "    fid = ee.String(fid)\n",
    "    fire_fc = fires.filter(ee.Filter.eq('Fire_ID', fid)).first()\n",
    "\n",
    "    # get ignition/last across all cells\n",
    "    # use 14 days pre-ignition as start date\n",
    "    ig_doy = ee.Date(fire_fc.get('Ig_Date')).advance(-14,'days').getRelative('day', 'year')\n",
    "    ls_doy = ee.Date(fire_fc.get('Last_Date')).getRelative('day', 'year')\n",
    "    subcol_fil = ee.Filter.calendarRange(ig_doy, ls_doy, 'day_of_year')\n",
    "    # 15-yr mean ERC over that window\n",
    "    erc_clim = gridmet_l.filter(subcol_fil).select('erc').mean()\n",
    "\n",
    "    # mean ERC across the fire footprint\n",
    "    erc_clim_fire = erc_clim.reduceRegion(\n",
    "        reducer=ee.Reducer.mean(),\n",
    "        geometry=fire_fc.geometry(),\n",
    "        scale=4000,\n",
    "        tileScale=2,\n",
    "        maxPixels=1e13\n",
    "    ).get('erc')\n",
    "\n",
    "    return ee.Feature(None, {\n",
    "        'Fire_ID': fid,\n",
    "        'erc_clim_fire': erc_clim_fire\n",
    "    })\n",
    "\n",
    "# get the results\n",
    "fire_clim_fc = ee.FeatureCollection(fire_ids.map(fire_climatology))\n",
    "print(\"Calculated the per-fire ERC 15-year average\")\n",
    "\n",
    "# Export the fire climatology table.\n",
    "export_task = ee.batch.Export.table.toDrive(\n",
    "    collection=fire_clim_fc,\n",
    "    description='fire_clim_fc',\n",
    "    fileNamePrefix='fire_clim_fc',\n",
    "    fileFormat='CSV',\n",
    "    folder='GRIDMET'\n",
    ")\n",
    "\n",
    "export_task.start() # Start the export task\n",
    "print(\"\\tExport to Earth Engine Asset started!\")\n",
    "\n",
    "# Pull a few features into Python to inspect\n",
    "sample = fire_clim_fc.limit(10).getInfo()\n",
    "props = [f['properties'] for f in sample['features']]\n",
    "df = pd.DataFrame(props)\n",
    "df"
   ],
   "id": "69482fdd3dcac590",
   "outputs": [
    {
     "name": "stdout",
     "output_type": "stream",
     "text": [
      "Calculated the per-fire ERC 15-year average\n",
      "\tExport to Earth Engine Asset started!\n"
     ]
    },
    {
     "data": {
      "text/plain": [
       "  Fire_ID  erc_clim_fire\n",
       "0      71      64.351206\n",
       "1      33      72.394820\n",
       "2      70      68.463011\n",
       "3      17      61.911716\n",
       "4     100      63.397724\n",
       "5      87      58.801511\n",
       "6      98      61.040806\n",
       "7     113      55.427149\n",
       "8      32      53.432004\n",
       "9     131      59.264428"
      ],
      "text/html": [
       "<div>\n",
       "<style scoped>\n",
       "    .dataframe tbody tr th:only-of-type {\n",
       "        vertical-align: middle;\n",
       "    }\n",
       "\n",
       "    .dataframe tbody tr th {\n",
       "        vertical-align: top;\n",
       "    }\n",
       "\n",
       "    .dataframe thead th {\n",
       "        text-align: right;\n",
       "    }\n",
       "</style>\n",
       "<table border=\"1\" class=\"dataframe\">\n",
       "  <thead>\n",
       "    <tr style=\"text-align: right;\">\n",
       "      <th></th>\n",
       "      <th>Fire_ID</th>\n",
       "      <th>erc_clim_fire</th>\n",
       "    </tr>\n",
       "  </thead>\n",
       "  <tbody>\n",
       "    <tr>\n",
       "      <th>0</th>\n",
       "      <td>71</td>\n",
       "      <td>64.351206</td>\n",
       "    </tr>\n",
       "    <tr>\n",
       "      <th>1</th>\n",
       "      <td>33</td>\n",
       "      <td>72.394820</td>\n",
       "    </tr>\n",
       "    <tr>\n",
       "      <th>2</th>\n",
       "      <td>70</td>\n",
       "      <td>68.463011</td>\n",
       "    </tr>\n",
       "    <tr>\n",
       "      <th>3</th>\n",
       "      <td>17</td>\n",
       "      <td>61.911716</td>\n",
       "    </tr>\n",
       "    <tr>\n",
       "      <th>4</th>\n",
       "      <td>100</td>\n",
       "      <td>63.397724</td>\n",
       "    </tr>\n",
       "    <tr>\n",
       "      <th>5</th>\n",
       "      <td>87</td>\n",
       "      <td>58.801511</td>\n",
       "    </tr>\n",
       "    <tr>\n",
       "      <th>6</th>\n",
       "      <td>98</td>\n",
       "      <td>61.040806</td>\n",
       "    </tr>\n",
       "    <tr>\n",
       "      <th>7</th>\n",
       "      <td>113</td>\n",
       "      <td>55.427149</td>\n",
       "    </tr>\n",
       "    <tr>\n",
       "      <th>8</th>\n",
       "      <td>32</td>\n",
       "      <td>53.432004</td>\n",
       "    </tr>\n",
       "    <tr>\n",
       "      <th>9</th>\n",
       "      <td>131</td>\n",
       "      <td>59.264428</td>\n",
       "    </tr>\n",
       "  </tbody>\n",
       "</table>\n",
       "</div>"
      ]
     },
     "execution_count": 6,
     "metadata": {},
     "output_type": "execute_result"
    }
   ],
   "execution_count": 6
  },
  {
   "metadata": {
    "ExecuteTime": {
     "end_time": "2025-10-04T21:39:47.785073Z",
     "start_time": "2025-10-04T21:39:47.277837Z"
    }
   },
   "cell_type": "code",
   "source": [
    "# generate the date pair gridmet images\n",
    "def process_date_pair(pair):\n",
    "    pair = ee.List(pair)\n",
    "    first = ee.Date(pair.get(0))\n",
    "    last  = ee.Date(pair.get(1))\n",
    "\n",
    "    first_s = first.format('YYYY-MM-dd')\n",
    "    last_s  = last.format('YYYY-MM-dd')\n",
    "\n",
    "    # --- Compute weather summaries for the active window ---\n",
    "    subcol = gridmet.filterDate(\n",
    "        first.advance(-1, 'days'),\n",
    "        last.advance(1, 'days')\n",
    "    )\n",
    "    # select the bands and calculate the statistics\n",
    "    vpd_97 = subcol.select('vpd').reduce(ee.Reducer.percentile([97])).rename('vpd_97')\n",
    "    erc_mean = subcol.select('erc').mean().rename('erc_mn')\n",
    "    vs_max = subcol.select('vs').max().rename('vs_mx')\n",
    "\n",
    "    # --- Combine into one image ---\n",
    "    img = vpd_97.addBands([erc_mean, vs_max])\n",
    "\n",
    "    # --- Cells for this date pair ---\n",
    "    cells = grid.filter(\n",
    "        ee.Filter.And(\n",
    "            ee.Filter.eq('first_obs', first_s),\n",
    "            ee.Filter.eq('last_obs',  last_s)\n",
    "        )\n",
    "    )\n",
    "\n",
    "    # --- Reduce across all geometries in one go ---\n",
    "    reduced = img.reduceRegions(\n",
    "        collection=cells,\n",
    "        reducer=ee.Reducer.mean(),\n",
    "        scale=375,\n",
    "        tileScale=6\n",
    "    ).map(lambda f: f.set({\n",
    "        'first_obs': first_s,\n",
    "        'last_obs':  last_s\n",
    "    }))\n",
    "\n",
    "    return ee.FeatureCollection(reduced)\n",
    "\n",
    "# --- Get unique date pairs ---\n",
    "# Distinct combinations of first_obs and last_obs\n",
    "unique_pairs = grid.distinct(['first_obs','last_obs'])\n",
    "# Build a list of [first_obs, last_obs] pairs\n",
    "date_pairs = unique_pairs.toList(unique_pairs.size()).map(\n",
    "    lambda f: ee.List([\n",
    "        ee.Feature(f).get('first_obs'),\n",
    "        ee.Feature(f).get('last_obs')\n",
    "    ])\n",
    ")\n",
    "print(f\"Unique date pairs: {unique_pairs.size().getInfo()}\")\n",
    "\n",
    "# --- Map over them ---\n",
    "results = ee.FeatureCollection(date_pairs.map(process_date_pair)).flatten()\n",
    "print(\"Success !\")"
   ],
   "id": "6fe4ee8824cacbee",
   "outputs": [
    {
     "name": "stdout",
     "output_type": "stream",
     "text": [
      "Unique date pairs: 3123\n",
      "Success !\n"
     ]
    }
   ],
   "execution_count": 7
  },
  {
   "metadata": {
    "ExecuteTime": {
     "end_time": "2025-10-04T21:40:43.775879Z",
     "start_time": "2025-10-04T21:39:47.789670Z"
    }
   },
   "cell_type": "code",
   "source": [
    "# extract a sample of the results and inspect\n",
    "sample = results.limit(10).getInfo()\n",
    "props = [f['properties'] for f in sample['features']]\n",
    "df = pd.DataFrame(props)\n",
    "df = df[['Fire_ID', 'first_obs', 'last_obs', 'erc_mn', 'vpd_97', 'vs_mx']]\n",
    "df.head(10)"
   ],
   "id": "8cb1a5c436b45a80",
   "outputs": [
    {
     "data": {
      "text/plain": [
       "  Fire_ID   first_obs    last_obs     erc_mn    vpd_97     vs_mx\n",
       "0      71  2017-05-21  2017-05-21  54.345534  0.894641  2.576301\n",
       "1      71  2017-05-21  2017-05-22  56.333332  0.930000  3.200000\n",
       "2      71  2017-05-21  2017-05-24  54.447571  1.161098  4.098170\n",
       "3      71  2017-05-22  2017-05-22  55.500000  0.920000  3.300000\n",
       "4      71  2017-05-22  2017-05-26  59.500000  1.320000  6.300000\n",
       "5      71  2017-05-22  2017-05-28  60.625000  1.320000  6.300000\n",
       "6      71  2017-05-24  2017-05-24  60.091356  1.237813  3.962946\n",
       "7      71  2017-05-24  2017-05-26  62.713043  1.372933  6.255889\n",
       "8      71  2017-05-24  2017-05-27  64.331864  1.419937  6.216719\n",
       "9      71  2017-05-24  2017-05-28  62.333332  1.320000  6.300000"
      ],
      "text/html": [
       "<div>\n",
       "<style scoped>\n",
       "    .dataframe tbody tr th:only-of-type {\n",
       "        vertical-align: middle;\n",
       "    }\n",
       "\n",
       "    .dataframe tbody tr th {\n",
       "        vertical-align: top;\n",
       "    }\n",
       "\n",
       "    .dataframe thead th {\n",
       "        text-align: right;\n",
       "    }\n",
       "</style>\n",
       "<table border=\"1\" class=\"dataframe\">\n",
       "  <thead>\n",
       "    <tr style=\"text-align: right;\">\n",
       "      <th></th>\n",
       "      <th>Fire_ID</th>\n",
       "      <th>first_obs</th>\n",
       "      <th>last_obs</th>\n",
       "      <th>erc_mn</th>\n",
       "      <th>vpd_97</th>\n",
       "      <th>vs_mx</th>\n",
       "    </tr>\n",
       "  </thead>\n",
       "  <tbody>\n",
       "    <tr>\n",
       "      <th>0</th>\n",
       "      <td>71</td>\n",
       "      <td>2017-05-21</td>\n",
       "      <td>2017-05-21</td>\n",
       "      <td>54.345534</td>\n",
       "      <td>0.894641</td>\n",
       "      <td>2.576301</td>\n",
       "    </tr>\n",
       "    <tr>\n",
       "      <th>1</th>\n",
       "      <td>71</td>\n",
       "      <td>2017-05-21</td>\n",
       "      <td>2017-05-22</td>\n",
       "      <td>56.333332</td>\n",
       "      <td>0.930000</td>\n",
       "      <td>3.200000</td>\n",
       "    </tr>\n",
       "    <tr>\n",
       "      <th>2</th>\n",
       "      <td>71</td>\n",
       "      <td>2017-05-21</td>\n",
       "      <td>2017-05-24</td>\n",
       "      <td>54.447571</td>\n",
       "      <td>1.161098</td>\n",
       "      <td>4.098170</td>\n",
       "    </tr>\n",
       "    <tr>\n",
       "      <th>3</th>\n",
       "      <td>71</td>\n",
       "      <td>2017-05-22</td>\n",
       "      <td>2017-05-22</td>\n",
       "      <td>55.500000</td>\n",
       "      <td>0.920000</td>\n",
       "      <td>3.300000</td>\n",
       "    </tr>\n",
       "    <tr>\n",
       "      <th>4</th>\n",
       "      <td>71</td>\n",
       "      <td>2017-05-22</td>\n",
       "      <td>2017-05-26</td>\n",
       "      <td>59.500000</td>\n",
       "      <td>1.320000</td>\n",
       "      <td>6.300000</td>\n",
       "    </tr>\n",
       "    <tr>\n",
       "      <th>5</th>\n",
       "      <td>71</td>\n",
       "      <td>2017-05-22</td>\n",
       "      <td>2017-05-28</td>\n",
       "      <td>60.625000</td>\n",
       "      <td>1.320000</td>\n",
       "      <td>6.300000</td>\n",
       "    </tr>\n",
       "    <tr>\n",
       "      <th>6</th>\n",
       "      <td>71</td>\n",
       "      <td>2017-05-24</td>\n",
       "      <td>2017-05-24</td>\n",
       "      <td>60.091356</td>\n",
       "      <td>1.237813</td>\n",
       "      <td>3.962946</td>\n",
       "    </tr>\n",
       "    <tr>\n",
       "      <th>7</th>\n",
       "      <td>71</td>\n",
       "      <td>2017-05-24</td>\n",
       "      <td>2017-05-26</td>\n",
       "      <td>62.713043</td>\n",
       "      <td>1.372933</td>\n",
       "      <td>6.255889</td>\n",
       "    </tr>\n",
       "    <tr>\n",
       "      <th>8</th>\n",
       "      <td>71</td>\n",
       "      <td>2017-05-24</td>\n",
       "      <td>2017-05-27</td>\n",
       "      <td>64.331864</td>\n",
       "      <td>1.419937</td>\n",
       "      <td>6.216719</td>\n",
       "    </tr>\n",
       "    <tr>\n",
       "      <th>9</th>\n",
       "      <td>71</td>\n",
       "      <td>2017-05-24</td>\n",
       "      <td>2017-05-28</td>\n",
       "      <td>62.333332</td>\n",
       "      <td>1.320000</td>\n",
       "      <td>6.300000</td>\n",
       "    </tr>\n",
       "  </tbody>\n",
       "</table>\n",
       "</div>"
      ]
     },
     "execution_count": 8,
     "metadata": {},
     "output_type": "execute_result"
    }
   ],
   "execution_count": 8
  },
  {
   "cell_type": "code",
   "id": "c9a3132f-9c2a-45d8-b85f-6ef42dc263a3",
   "metadata": {
    "ExecuteTime": {
     "end_time": "2025-10-04T22:10:45.374176Z",
     "start_time": "2025-10-04T21:40:43.784498Z"
    }
   },
   "source": [
    "# Remove geometry\n",
    "def remove_geometry(ftr):\n",
    "    return ftr.setGeometry(None)\n",
    "results = results.map(remove_geometry)\n",
    "results = results.select([\n",
    "    'Fire_ID','first_obs','last_obs','erc_mn','vpd_97','vs_mx',\n",
    "])\n",
    "\n",
    "# Export the table.\n",
    "export_task = ee.batch.Export.table.toDrive(\n",
    "    collection=results,\n",
    "    description='gridstats_gridmet_full_v2',\n",
    "    fileNamePrefix='gridstats_gridmet_full_v2',\n",
    "    fileFormat='CSV',\n",
    "    folder='GRIDMET_V2'\n",
    ")\n",
    "\n",
    "export_task.start() # Start the export task\n",
    "print(\"Export to Earth Engine Asset started!\")\n",
    "# Monitor the task until it's finished\n",
    "monitor_export(export_task, 360)"
   ],
   "outputs": [
    {
     "name": "stdout",
     "output_type": "stream",
     "text": [
      "Export to Earth Engine Asset started!\n",
      "Waiting for export to finish..\n",
      "\tPatience young padawan.\n",
      "Waiting for export to finish..\n",
      "\tPatience young padawan.\n",
      "Waiting for export to finish..\n",
      "\tPatience young padawan.\n",
      "Waiting for export to finish..\n",
      "\tPatience young padawan.\n",
      "Waiting for export to finish..\n",
      "\tPatience young padawan.\n",
      "Export completed successfully !!!!\n"
     ]
    }
   ],
   "execution_count": 9
  },
  {
   "cell_type": "code",
   "id": "acf228a5-2ca3-4279-bc7f-0756e586d98c",
   "metadata": {
    "ExecuteTime": {
     "end_time": "2025-10-04T22:10:45.396652Z",
     "start_time": "2025-10-04T22:10:45.393876Z"
    }
   },
   "source": [],
   "outputs": [],
   "execution_count": null
  }
 ],
 "metadata": {
  "kernelspec": {
   "display_name": "aspen-fire",
   "language": "python",
   "name": "aspen-fire"
  },
  "language_info": {
   "codemirror_mode": {
    "name": "ipython",
    "version": 3
   },
   "file_extension": ".py",
   "mimetype": "text/x-python",
   "name": "python",
   "nbconvert_exporter": "python",
   "pygments_lexer": "ipython3",
   "version": "3.10.12"
  }
 },
 "nbformat": 4,
 "nbformat_minor": 5
}
