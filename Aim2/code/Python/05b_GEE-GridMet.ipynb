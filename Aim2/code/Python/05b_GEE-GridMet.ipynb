{
 "cells": [
  {
   "cell_type": "code",
   "id": "2ec5f74e-ef2e-4ec3-9066-c21a7c15ee34",
   "metadata": {
    "ExecuteTime": {
     "end_time": "2025-07-25T18:10:26.711759Z",
     "start_time": "2025-07-25T18:10:24.289559Z"
    }
   },
   "source": [
    "\"\"\"\n",
    "Extract gridMET variables \n",
    "Google Earth Engine (GEE) Python API\n",
    "Author: maxwell.cook@colorado.edu\n",
    "\"\"\"\n",
    "\n",
    "import os, sys\n",
    "import ee\n",
    "\n",
    "# Custom functions\n",
    "sys.path.append(os.path.join(os.getcwd(),'code/'))\n",
    "from __functions import *\n",
    "\n",
    "ee.Authenticate()\n",
    "ee.Initialize(project='jfsp-aspen')\n",
    "\n",
    "print(\"Success !\")"
   ],
   "outputs": [
    {
     "name": "stdout",
     "output_type": "stream",
     "text": [
      "Success !\n"
     ]
    }
   ],
   "execution_count": 1
  },
  {
   "cell_type": "code",
   "id": "695dbe4b-5fe6-48c9-9ce3-7c2ed21f2a83",
   "metadata": {
    "ExecuteTime": {
     "end_time": "2025-07-25T18:10:30.065668Z",
     "start_time": "2025-07-25T18:10:29.286562Z"
    }
   },
   "source": [
    "# Load gridded FRP data aggregated to first observation day\n",
    "grid = ee.FeatureCollection('projects/jfsp-aspen/assets/viirs_snpp_jpss1_afd_gridstats_days')\n",
    "print(f\"Number of unique grid days (dissolved): {grid.size().getInfo()}\")\n",
    "grid = grid.select(['grid_index', 'Fire_ID', 'Ig_Date', 'Last_Date', 'max_date', 'first_obs', 'last_obs'])\n",
    "print(grid.first().propertyNames().getInfo())"
   ],
   "outputs": [
    {
     "name": "stdout",
     "output_type": "stream",
     "text": [
      "Number of unique grid days (dissolved): 986\n",
      "['system:index', 'grid_index', 'Fire_ID', 'max_date', 'first_obs', 'Ig_Date', 'Last_Date', 'last_obs']\n"
     ]
    }
   ],
   "execution_count": 2
  },
  {
   "cell_type": "code",
   "id": "493a5cd8-b589-4b17-9edf-45f5d04141f1",
   "metadata": {
    "ExecuteTime": {
     "end_time": "2025-07-25T18:10:34.991438Z",
     "start_time": "2025-07-25T18:10:34.636969Z"
    }
   },
   "source": [
    "# get a list of unique active fire days\n",
    "fire_days = grid.aggregate_array('first_obs').getInfo()\n",
    "fire_days = set(fire_days)\n",
    "print(f\"Number of unique 'fire days': {len(fire_days)}\")\n",
    "\n",
    "# get the min and max DOY\n",
    "fire_days_doy = [datetime.strptime(day, \"%Y-%m-%d\").timetuple().tm_yday for day in fire_days]\n",
    "doy_min = min(fire_days_doy)\n",
    "doy_max = max(fire_days_doy)\n",
    "print(f\"Fire DOY range: {doy_min} to {doy_max}\")"
   ],
   "outputs": [
    {
     "name": "stdout",
     "output_type": "stream",
     "text": [
      "Number of unique 'fire days': 520\n",
      "Fire DOY range: 89 to 317\n"
     ]
    }
   ],
   "execution_count": 3
  },
  {
   "cell_type": "code",
   "id": "929988fa-2c96-43a5-aaa0-48e51720842e",
   "metadata": {
    "ExecuteTime": {
     "end_time": "2025-07-25T18:10:36.769574Z",
     "start_time": "2025-07-25T18:10:36.636364Z"
    }
   },
   "source": [
    "# Load the gridmet image collection\n",
    "gridmet = ee.ImageCollection('IDAHO_EPSCOR/GRIDMET')\n",
    "print(f\"\\ngridMET bands available for analysis:\\n\\n{gridmet.first().bandNames().getInfo()}\\n\")"
   ],
   "outputs": [
    {
     "name": "stdout",
     "output_type": "stream",
     "text": [
      "\n",
      "gridMET bands available for analysis:\n",
      "\n",
      "['pr', 'rmax', 'rmin', 'sph', 'srad', 'th', 'tmmn', 'tmmx', 'vs', 'erc', 'eto', 'bi', 'fm100', 'fm1000', 'etr', 'vpd']\n",
      "\n"
     ]
    }
   ],
   "execution_count": 4
  },
  {
   "cell_type": "code",
   "id": "1ea1f429-786b-4534-8bd6-8eeb06702db5",
   "metadata": {
    "ExecuteTime": {
     "end_time": "2025-07-25T18:10:38.908242Z",
     "start_time": "2025-07-25T18:10:38.776074Z"
    }
   },
   "source": [
    "# select our variables of interest:\n",
    "# 1. Vapor Pressure Deficit, Energy Release Component\n",
    "gridmet = gridmet.select(['vpd','erc','tmmx','vs','rmin','fm1000'])\n",
    "print(gridmet.first().bandNames().getInfo())"
   ],
   "outputs": [
    {
     "name": "stdout",
     "output_type": "stream",
     "text": [
      "['vpd', 'erc', 'tmmx', 'vs', 'rmin', 'fm1000']\n"
     ]
    }
   ],
   "execution_count": 5
  },
  {
   "cell_type": "code",
   "id": "3a7cf4fe-a673-42b7-bb49-3b04f049ebab",
   "metadata": {
    "ExecuteTime": {
     "end_time": "2025-07-25T18:12:41.977189Z",
     "start_time": "2025-07-25T18:12:41.962237Z"
    }
   },
   "source": [
    "def process_fire_day(ftr):\n",
    "    \"\"\" \n",
    "    Calculates gridmet statistics for daily grids (dissolved)\n",
    "    Including the deviation from long-term average for time-of-year\n",
    "    \"\"\"\n",
    "\n",
    "    ######################################################\n",
    "    # calculate the long-term average for the time-of-year\n",
    "    # get the fire days (ignition, cessation)\n",
    "    ig_doy = ee.Date(ftr.get('Ig_Date')).advance(-14,'days').getRelative('day', 'year')\n",
    "    ls_doy = ee.Date(ftr.get('Last_Date')).advance(14,'days').getRelative('day', 'year')\n",
    "\n",
    "    # define the 'deviation' band names\n",
    "    attrs = ee.List(gridmet.first().bandNames()) # grab the band names for renaming\n",
    "    attrs = attrs.map(lambda atr: ee.String(atr).cat('_dv'))\n",
    "    \n",
    "    # average for time-of-year of fire\n",
    "    lta = gridmet.filter(\n",
    "        ee.Filter.calendarRange(ig_doy, ls_doy, 'day_of_year')\n",
    "    ).mean().rename(attrs)      \n",
    "\n",
    "    ##################################\n",
    "    # get daily fire dates valid range\n",
    "    first_date = ee.Date(ftr.get('first_obs')) # day of first observation\n",
    "    end_date = ee.Date(ftr.get('last_obs')).advance(1, 'days') # advance at least one day just in case they are the same\n",
    "    \n",
    "    # filter the gridmet to day of first observation\n",
    "    gridmet_day = gridmet.filterDate(first_date, end_date).first()\n",
    "    gridmet_anom = gridmet_day.subtract(lta).rename(attrs) # get the deviation\n",
    "    image = gridmet_day.addBands(gridmet_anom)\n",
    "    \n",
    "    # run the reduction\n",
    "    stats = image.reduceRegion(\n",
    "        reducer=ee.Reducer.mean(),\n",
    "        geometry=ftr.geometry().bounds().buffer(100),\n",
    "        scale=4000\n",
    "    )\n",
    "\n",
    "    return ee.Feature(None, stats).set({\n",
    "        'Fire_ID': ftr.get('Fire_ID'),\n",
    "        'first_obs': ftr.get('first_obs'),\n",
    "        'last_obs': ftr.get('last_obs')\n",
    "    })\n",
    "\n",
    "# map the function across gridcells\n",
    "results = ee.FeatureCollection(grid.map(process_fire_day))\n",
    "results.limit(10)"
   ],
   "outputs": [
    {
     "data": {
      "text/plain": [
       "<ee.featurecollection.FeatureCollection at 0x168072470>"
      ]
     },
     "execution_count": 8,
     "metadata": {},
     "output_type": "execute_result"
    }
   ],
   "execution_count": 8
  },
  {
   "cell_type": "code",
   "id": "924f4cd9-465d-4048-b896-80e5e533d321",
   "metadata": {
    "ExecuteTime": {
     "end_time": "2025-07-25T18:12:54.671602Z",
     "start_time": "2025-07-25T18:12:53.559578Z"
    }
   },
   "source": [
    "sample = results.limit(10).getInfo()\n",
    "props = [f['properties'] for f in sample['features']]\n",
    "df = pd.DataFrame(props)\n",
    "df = df[['Fire_ID', 'first_obs', 'last_obs', 'erc', 'erc_dv', 'vpd', 'vpd_dv', 'fm1000', 'fm1000_dv',\n",
    "         'rmin', 'rmin_dv', 'tmmx', 'tmmx_dv', 'vs', 'vs_dv'\n",
    "        ]]\n",
    "df.head(10)"
   ],
   "outputs": [
    {
     "data": {
      "text/plain": [
       "  Fire_ID   first_obs    last_obs        erc     erc_dv       vpd    vpd_dv  \\\n",
       "0      71  2017-05-21  2017-05-21  54.807692  -3.885888  0.900769 -0.077104   \n",
       "1      71  2017-05-22  2017-05-28  56.000000  -3.733707  0.880000 -0.112899   \n",
       "2      71  2017-05-24  2017-05-24  62.294430   1.974189  1.252520  0.234063   \n",
       "3      71  2017-05-26  2017-05-26  65.000000   4.657209  1.220000  0.203369   \n",
       "4      71  2017-05-27  2017-05-27  64.323529   4.706889  1.059706  0.065765   \n",
       "5      71  2017-05-28  2017-05-28  64.000000   4.266293  0.980000 -0.012899   \n",
       "6      33  2017-06-15  2017-06-15  84.816327  17.516736  2.209796  0.677961   \n",
       "7      33  2017-06-16  2017-06-16  86.164894  19.460624  2.241755  0.778281   \n",
       "8      33  2017-06-17  2017-06-18  87.000000  20.800201  2.300000  0.910609   \n",
       "9      33  2017-06-18  2017-06-18  84.000000  17.800201  1.970000  0.580609   \n",
       "\n",
       "      fm1000  fm1000_dv       rmin    rmin_dv        tmmx   tmmx_dv        vs  \\\n",
       "0  12.088462   1.262081  20.242308  -0.082974  291.488460  0.143907  2.592308   \n",
       "1  12.000000   1.398518  22.700001   2.552782  290.700012 -0.607025  3.300000   \n",
       "2  10.941114   0.459652  15.804244  -4.056106  295.654648  3.879818  3.923077   \n",
       "3  10.533333   0.056103  16.300000  -3.558869  294.066671  2.352997  4.766667   \n",
       "4  10.567647  -0.058743  17.638235  -2.485484  292.561759  1.146648  3.867647   \n",
       "5  10.600000  -0.001482  19.400000  -0.747219  292.200012  0.892975  2.300000   \n",
       "6   8.018368  -1.238856   4.195918 -12.665888  301.175502  3.545579  3.200000   \n",
       "7   7.883511  -1.471472   5.517553 -11.800843  300.851597  3.940556  4.767021   \n",
       "8   7.600000  -1.838265   7.900000  -9.763855  301.600006  5.682922  5.100000   \n",
       "9   7.600000  -1.838265  15.500000  -2.163855  301.200012  5.282928  3.800000   \n",
       "\n",
       "      vs_dv  \n",
       "0 -1.114161  \n",
       "1 -0.472120  \n",
       "2  0.204069  \n",
       "3  1.011170  \n",
       "4  0.145134  \n",
       "5 -1.472120  \n",
       "6 -1.252799  \n",
       "7  0.341797  \n",
       "8  0.822212  \n",
       "9 -0.477788  "
      ],
      "text/html": [
       "<div>\n",
       "<style scoped>\n",
       "    .dataframe tbody tr th:only-of-type {\n",
       "        vertical-align: middle;\n",
       "    }\n",
       "\n",
       "    .dataframe tbody tr th {\n",
       "        vertical-align: top;\n",
       "    }\n",
       "\n",
       "    .dataframe thead th {\n",
       "        text-align: right;\n",
       "    }\n",
       "</style>\n",
       "<table border=\"1\" class=\"dataframe\">\n",
       "  <thead>\n",
       "    <tr style=\"text-align: right;\">\n",
       "      <th></th>\n",
       "      <th>Fire_ID</th>\n",
       "      <th>first_obs</th>\n",
       "      <th>last_obs</th>\n",
       "      <th>erc</th>\n",
       "      <th>erc_dv</th>\n",
       "      <th>vpd</th>\n",
       "      <th>vpd_dv</th>\n",
       "      <th>fm1000</th>\n",
       "      <th>fm1000_dv</th>\n",
       "      <th>rmin</th>\n",
       "      <th>rmin_dv</th>\n",
       "      <th>tmmx</th>\n",
       "      <th>tmmx_dv</th>\n",
       "      <th>vs</th>\n",
       "      <th>vs_dv</th>\n",
       "    </tr>\n",
       "  </thead>\n",
       "  <tbody>\n",
       "    <tr>\n",
       "      <th>0</th>\n",
       "      <td>71</td>\n",
       "      <td>2017-05-21</td>\n",
       "      <td>2017-05-21</td>\n",
       "      <td>54.807692</td>\n",
       "      <td>-3.885888</td>\n",
       "      <td>0.900769</td>\n",
       "      <td>-0.077104</td>\n",
       "      <td>12.088462</td>\n",
       "      <td>1.262081</td>\n",
       "      <td>20.242308</td>\n",
       "      <td>-0.082974</td>\n",
       "      <td>291.488460</td>\n",
       "      <td>0.143907</td>\n",
       "      <td>2.592308</td>\n",
       "      <td>-1.114161</td>\n",
       "    </tr>\n",
       "    <tr>\n",
       "      <th>1</th>\n",
       "      <td>71</td>\n",
       "      <td>2017-05-22</td>\n",
       "      <td>2017-05-28</td>\n",
       "      <td>56.000000</td>\n",
       "      <td>-3.733707</td>\n",
       "      <td>0.880000</td>\n",
       "      <td>-0.112899</td>\n",
       "      <td>12.000000</td>\n",
       "      <td>1.398518</td>\n",
       "      <td>22.700001</td>\n",
       "      <td>2.552782</td>\n",
       "      <td>290.700012</td>\n",
       "      <td>-0.607025</td>\n",
       "      <td>3.300000</td>\n",
       "      <td>-0.472120</td>\n",
       "    </tr>\n",
       "    <tr>\n",
       "      <th>2</th>\n",
       "      <td>71</td>\n",
       "      <td>2017-05-24</td>\n",
       "      <td>2017-05-24</td>\n",
       "      <td>62.294430</td>\n",
       "      <td>1.974189</td>\n",
       "      <td>1.252520</td>\n",
       "      <td>0.234063</td>\n",
       "      <td>10.941114</td>\n",
       "      <td>0.459652</td>\n",
       "      <td>15.804244</td>\n",
       "      <td>-4.056106</td>\n",
       "      <td>295.654648</td>\n",
       "      <td>3.879818</td>\n",
       "      <td>3.923077</td>\n",
       "      <td>0.204069</td>\n",
       "    </tr>\n",
       "    <tr>\n",
       "      <th>3</th>\n",
       "      <td>71</td>\n",
       "      <td>2017-05-26</td>\n",
       "      <td>2017-05-26</td>\n",
       "      <td>65.000000</td>\n",
       "      <td>4.657209</td>\n",
       "      <td>1.220000</td>\n",
       "      <td>0.203369</td>\n",
       "      <td>10.533333</td>\n",
       "      <td>0.056103</td>\n",
       "      <td>16.300000</td>\n",
       "      <td>-3.558869</td>\n",
       "      <td>294.066671</td>\n",
       "      <td>2.352997</td>\n",
       "      <td>4.766667</td>\n",
       "      <td>1.011170</td>\n",
       "    </tr>\n",
       "    <tr>\n",
       "      <th>4</th>\n",
       "      <td>71</td>\n",
       "      <td>2017-05-27</td>\n",
       "      <td>2017-05-27</td>\n",
       "      <td>64.323529</td>\n",
       "      <td>4.706889</td>\n",
       "      <td>1.059706</td>\n",
       "      <td>0.065765</td>\n",
       "      <td>10.567647</td>\n",
       "      <td>-0.058743</td>\n",
       "      <td>17.638235</td>\n",
       "      <td>-2.485484</td>\n",
       "      <td>292.561759</td>\n",
       "      <td>1.146648</td>\n",
       "      <td>3.867647</td>\n",
       "      <td>0.145134</td>\n",
       "    </tr>\n",
       "    <tr>\n",
       "      <th>5</th>\n",
       "      <td>71</td>\n",
       "      <td>2017-05-28</td>\n",
       "      <td>2017-05-28</td>\n",
       "      <td>64.000000</td>\n",
       "      <td>4.266293</td>\n",
       "      <td>0.980000</td>\n",
       "      <td>-0.012899</td>\n",
       "      <td>10.600000</td>\n",
       "      <td>-0.001482</td>\n",
       "      <td>19.400000</td>\n",
       "      <td>-0.747219</td>\n",
       "      <td>292.200012</td>\n",
       "      <td>0.892975</td>\n",
       "      <td>2.300000</td>\n",
       "      <td>-1.472120</td>\n",
       "    </tr>\n",
       "    <tr>\n",
       "      <th>6</th>\n",
       "      <td>33</td>\n",
       "      <td>2017-06-15</td>\n",
       "      <td>2017-06-15</td>\n",
       "      <td>84.816327</td>\n",
       "      <td>17.516736</td>\n",
       "      <td>2.209796</td>\n",
       "      <td>0.677961</td>\n",
       "      <td>8.018368</td>\n",
       "      <td>-1.238856</td>\n",
       "      <td>4.195918</td>\n",
       "      <td>-12.665888</td>\n",
       "      <td>301.175502</td>\n",
       "      <td>3.545579</td>\n",
       "      <td>3.200000</td>\n",
       "      <td>-1.252799</td>\n",
       "    </tr>\n",
       "    <tr>\n",
       "      <th>7</th>\n",
       "      <td>33</td>\n",
       "      <td>2017-06-16</td>\n",
       "      <td>2017-06-16</td>\n",
       "      <td>86.164894</td>\n",
       "      <td>19.460624</td>\n",
       "      <td>2.241755</td>\n",
       "      <td>0.778281</td>\n",
       "      <td>7.883511</td>\n",
       "      <td>-1.471472</td>\n",
       "      <td>5.517553</td>\n",
       "      <td>-11.800843</td>\n",
       "      <td>300.851597</td>\n",
       "      <td>3.940556</td>\n",
       "      <td>4.767021</td>\n",
       "      <td>0.341797</td>\n",
       "    </tr>\n",
       "    <tr>\n",
       "      <th>8</th>\n",
       "      <td>33</td>\n",
       "      <td>2017-06-17</td>\n",
       "      <td>2017-06-18</td>\n",
       "      <td>87.000000</td>\n",
       "      <td>20.800201</td>\n",
       "      <td>2.300000</td>\n",
       "      <td>0.910609</td>\n",
       "      <td>7.600000</td>\n",
       "      <td>-1.838265</td>\n",
       "      <td>7.900000</td>\n",
       "      <td>-9.763855</td>\n",
       "      <td>301.600006</td>\n",
       "      <td>5.682922</td>\n",
       "      <td>5.100000</td>\n",
       "      <td>0.822212</td>\n",
       "    </tr>\n",
       "    <tr>\n",
       "      <th>9</th>\n",
       "      <td>33</td>\n",
       "      <td>2017-06-18</td>\n",
       "      <td>2017-06-18</td>\n",
       "      <td>84.000000</td>\n",
       "      <td>17.800201</td>\n",
       "      <td>1.970000</td>\n",
       "      <td>0.580609</td>\n",
       "      <td>7.600000</td>\n",
       "      <td>-1.838265</td>\n",
       "      <td>15.500000</td>\n",
       "      <td>-2.163855</td>\n",
       "      <td>301.200012</td>\n",
       "      <td>5.282928</td>\n",
       "      <td>3.800000</td>\n",
       "      <td>-0.477788</td>\n",
       "    </tr>\n",
       "  </tbody>\n",
       "</table>\n",
       "</div>"
      ]
     },
     "execution_count": 10,
     "metadata": {},
     "output_type": "execute_result"
    }
   ],
   "execution_count": 10
  },
  {
   "cell_type": "code",
   "id": "c9a3132f-9c2a-45d8-b85f-6ef42dc263a3",
   "metadata": {
    "ExecuteTime": {
     "end_time": "2025-07-25T18:13:14.534133Z",
     "start_time": "2025-07-25T18:13:14.129224Z"
    }
   },
   "source": [
    "# Remove geometry\n",
    "def remove_geometry(ftr):\n",
    "    return ftr.setGeometry(None)\n",
    "results = results.map(remove_geometry)\n",
    "results = results.select([\n",
    "    'Fire_ID','first_obs','last_obs','erc','vpd','erc_dv','vpd_dv', 'vs', 'vs_dv',\n",
    "    'fm1000', 'fm1000_dv','rmin', 'rmin_dv', 'tmmx', 'tmmx_dv'\n",
    "])\n",
    "\n",
    "# Export the table. \n",
    "export_task = ee.batch.Export.table.toDrive(\n",
    "    collection=results,\n",
    "    description='gridstats_gridmet_full_v',\n",
    "    fileNamePrefix='gridstats_gridmet_full_v',\n",
    "    fileFormat='CSV', \n",
    "    folder='GRIDMET'\n",
    ")\n",
    "\n",
    "export_task.start() # Start the export task\n",
    "print(\"Export to Earth Engine Asset started!\")\n",
    "# # Monitor the task until it's finished\n",
    "# monitor_export(export_task, 300) "
   ],
   "outputs": [
    {
     "name": "stdout",
     "output_type": "stream",
     "text": [
      "Export to Earth Engine Asset started!\n"
     ]
    }
   ],
   "execution_count": 11
  },
  {
   "cell_type": "code",
   "id": "fc940470-671f-455f-8f43-765b25e8c3b3",
   "metadata": {},
   "source": [],
   "outputs": [],
   "execution_count": null
  },
  {
   "cell_type": "code",
   "id": "acf228a5-2ca3-4279-bc7f-0756e586d98c",
   "metadata": {},
   "source": [],
   "outputs": [],
   "execution_count": null
  }
 ],
 "metadata": {
  "kernelspec": {
   "display_name": "aspen-fire",
   "language": "python",
   "name": "aspen-fire"
  },
  "language_info": {
   "codemirror_mode": {
    "name": "ipython",
    "version": 3
   },
   "file_extension": ".py",
   "mimetype": "text/x-python",
   "name": "python",
   "nbconvert_exporter": "python",
   "pygments_lexer": "ipython3",
   "version": "3.10.12"
  }
 },
 "nbformat": 4,
 "nbformat_minor": 5
}
