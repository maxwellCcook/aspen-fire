{
 "cells": [
  {
   "cell_type": "code",
   "id": "51bbe5b1-c643-4939-8ef4-31e2dfd5df5a",
   "metadata": {
    "ExecuteTime": {
     "end_time": "2025-07-31T03:24:54.186401Z",
     "start_time": "2025-07-31T03:24:53.821497Z"
    }
   },
   "source": [
    "\"\"\" \n",
    "Author: maxwell.cook@colorado.edu\n",
    "\"\"\"\n",
    "\n",
    "import os, sys, gc, time\n",
    "import geopandas as gpd\n",
    "import rasterio as rio\n",
    "import rioxarray as rxr\n",
    "import seaborn as sns\n",
    "import matplotlib.pyplot as plt\n",
    "import matplotlib.colors as mcolors\n",
    "\n",
    "from scipy.stats import pearsonr\n",
    "\n",
    "# Custom functions\n",
    "sys.path.append(os.path.join(os.getcwd(),'code/'))\n",
    "from __functions import *\n",
    "\n",
    "proj = 'EPSG:5070'\n",
    "\n",
    "maindir = '/Users/max/Library/CloudStorage/OneDrive-Personal/mcook/'\n",
    "projdir = os.path.join(maindir, 'aspen-fire/Aim2/')\n",
    "\n",
    "print(\"Ready to go !\")"
   ],
   "outputs": [
    {
     "name": "stdout",
     "output_type": "stream",
     "text": [
      "Ready to go !\n"
     ]
    }
   ],
   "execution_count": 1
  },
  {
   "cell_type": "code",
   "id": "5ee26be9-0694-4e34-98ad-4b738bcd56c2",
   "metadata": {
    "ExecuteTime": {
     "end_time": "2025-07-31T03:24:56.892433Z",
     "start_time": "2025-07-31T03:24:56.133779Z"
    }
   },
   "source": [
    "fp = os.path.join(projdir,'data/tabular/mod/gridstats_lf_gs.csv')\n",
    "tm = pd.read_csv(fp)\n",
    "tm.drop(columns=['Unnamed: 0'], inplace=True)\n",
    "tm.columns"
   ],
   "outputs": [
    {
     "data": {
      "text/plain": [
       "Index(['Fire_ID', 'Fire_Name', 'grid_idx', 'fortypnm_gp', 'proportion', 'CC',\n",
       "       'CH', 'CBH', 'CBD', 'BALIVE', 'SDI', 'QMD', 'dom_fortyp', 'prop_forest',\n",
       "       'grid_index', 'grid_area', 'afd_count', 'day_count', 'night_count',\n",
       "       'unique_days', 'overlap', 'frp_csum', 'frp_max', 'frp_min',\n",
       "       'day_max_frp', 'dt_max_frp', 'first_obs_date', 'last_obs_date', 'erc',\n",
       "       'erc_dv', 'fm1000', 'fm1000_dv', 'rmin', 'rmin_dv', 'tmmx', 'tmmx_dv',\n",
       "       'vpd', 'vpd_dv', 'vs', 'vs_dv', 'elev', 'slope', 'aspect', 'chili',\n",
       "       'tpi', 'x', 'y', 'geometry'],\n",
       "      dtype='object')"
      ]
     },
     "execution_count": 2,
     "metadata": {},
     "output_type": "execute_result"
    }
   ],
   "execution_count": 2
  },
  {
   "cell_type": "code",
   "id": "7fe13138-eeed-4d01-8b8a-499d1f4dda5c",
   "metadata": {
    "ExecuteTime": {
     "end_time": "2025-07-31T03:24:59.344730Z",
     "start_time": "2025-07-31T03:24:59.339714Z"
    }
   },
   "source": [
    "len(tm)"
   ],
   "outputs": [
    {
     "data": {
      "text/plain": [
       "138853"
      ]
     },
     "execution_count": 3,
     "metadata": {},
     "output_type": "execute_result"
    }
   ],
   "execution_count": 3
  },
  {
   "cell_type": "code",
   "id": "38f3c83a-fb31-4c11-8f6c-e9befc22ea4b",
   "metadata": {
    "ExecuteTime": {
     "end_time": "2025-07-31T03:25:07.169609Z",
     "start_time": "2025-07-31T03:25:06.955306Z"
    }
   },
   "source": [
    "# load the CBI data\n",
    "fp = os.path.join(projdir,'data/earth-engine/exports/gridstats_cbibc_forest.csv')\n",
    "sev = pd.read_csv(fp)\n",
    "sev.drop(columns=['system:index','.geo'], inplace=True)\n",
    "# create a unique ID\n",
    "sev['grid_idx'] = sev['Fire_ID'].astype(str) + sev['grid_index'].astype(str)\n",
    "print(sev.columns)\n",
    "\n",
    "# Rename the columns for clarity\n",
    "cols = ['mean', 'stdDev', 'p90', 'p95', 'p97', 'p99']\n",
    "for col in cols:\n",
    "    new_name = 'CBIbc_' + col\n",
    "    sev.rename(columns={col: new_name}, inplace=True)\n",
    "sev.drop(columns=['Fire_ID','grid_index'], inplace=True)\n",
    "sev['grid_idx'] = sev['grid_idx'].astype(int)\n",
    "# merge the dataframes\n",
    "tm_sev = tm.merge(sev, on='grid_idx', how='left')\n",
    "tm_sev[['grid_idx','fortypnm_gp','proportion','frp_max','frp_csum',\n",
    "        'CBIbc_mean','CBIbc_p90','CBIbc_p95','CBIbc_p97']].head(10)"
   ],
   "outputs": [
    {
     "name": "stdout",
     "output_type": "stream",
     "text": [
      "Index(['Fire_ID', 'grid_index', 'mean', 'p90', 'p95', 'p97', 'p99', 'stdDev',\n",
      "       'grid_idx'],\n",
      "      dtype='object')\n"
     ]
    },
    {
     "data": {
      "text/plain": [
       "   grid_idx  fortypnm_gp  proportion    frp_max   frp_csum  CBIbc_mean  \\\n",
       "0    819725        Aspen   24.117647  14.692515  26.010226    1.140510   \n",
       "1    819725  Douglas-fir    1.176471  14.692515  26.010226    1.140510   \n",
       "2    819725   Spruce-fir    2.352941  14.692515  26.010226    1.140510   \n",
       "3    819725  Aspen–Mixed   11.764706  14.692515  26.010226    1.140510   \n",
       "4    821970        Aspen   39.644970   9.779182  17.566190    0.390073   \n",
       "5    821970  Douglas-fir    1.775148   9.779182  17.566190    0.390073   \n",
       "6    821970   Spruce-fir    4.142012   9.779182  17.566190    0.390073   \n",
       "7    821970   Spruce-fir   14.201183   9.779182  17.566190    0.390073   \n",
       "8    821970  Aspen–Mixed   24.852071   9.779182  17.566190    0.390073   \n",
       "9    821974        Aspen   11.242604  21.670228  35.828136    0.324670   \n",
       "\n",
       "   CBIbc_p90  CBIbc_p95  CBIbc_p97  \n",
       "0       1.68       1.92       1.92  \n",
       "1       1.68       1.92       1.92  \n",
       "2       1.68       1.92       1.92  \n",
       "3       1.68       1.92       1.92  \n",
       "4       1.39       1.53       1.60  \n",
       "5       1.39       1.53       1.60  \n",
       "6       1.39       1.53       1.60  \n",
       "7       1.39       1.53       1.60  \n",
       "8       1.39       1.53       1.60  \n",
       "9       0.64       0.94       1.04  "
      ],
      "text/html": [
       "<div>\n",
       "<style scoped>\n",
       "    .dataframe tbody tr th:only-of-type {\n",
       "        vertical-align: middle;\n",
       "    }\n",
       "\n",
       "    .dataframe tbody tr th {\n",
       "        vertical-align: top;\n",
       "    }\n",
       "\n",
       "    .dataframe thead th {\n",
       "        text-align: right;\n",
       "    }\n",
       "</style>\n",
       "<table border=\"1\" class=\"dataframe\">\n",
       "  <thead>\n",
       "    <tr style=\"text-align: right;\">\n",
       "      <th></th>\n",
       "      <th>grid_idx</th>\n",
       "      <th>fortypnm_gp</th>\n",
       "      <th>proportion</th>\n",
       "      <th>frp_max</th>\n",
       "      <th>frp_csum</th>\n",
       "      <th>CBIbc_mean</th>\n",
       "      <th>CBIbc_p90</th>\n",
       "      <th>CBIbc_p95</th>\n",
       "      <th>CBIbc_p97</th>\n",
       "    </tr>\n",
       "  </thead>\n",
       "  <tbody>\n",
       "    <tr>\n",
       "      <th>0</th>\n",
       "      <td>819725</td>\n",
       "      <td>Aspen</td>\n",
       "      <td>24.117647</td>\n",
       "      <td>14.692515</td>\n",
       "      <td>26.010226</td>\n",
       "      <td>1.140510</td>\n",
       "      <td>1.68</td>\n",
       "      <td>1.92</td>\n",
       "      <td>1.92</td>\n",
       "    </tr>\n",
       "    <tr>\n",
       "      <th>1</th>\n",
       "      <td>819725</td>\n",
       "      <td>Douglas-fir</td>\n",
       "      <td>1.176471</td>\n",
       "      <td>14.692515</td>\n",
       "      <td>26.010226</td>\n",
       "      <td>1.140510</td>\n",
       "      <td>1.68</td>\n",
       "      <td>1.92</td>\n",
       "      <td>1.92</td>\n",
       "    </tr>\n",
       "    <tr>\n",
       "      <th>2</th>\n",
       "      <td>819725</td>\n",
       "      <td>Spruce-fir</td>\n",
       "      <td>2.352941</td>\n",
       "      <td>14.692515</td>\n",
       "      <td>26.010226</td>\n",
       "      <td>1.140510</td>\n",
       "      <td>1.68</td>\n",
       "      <td>1.92</td>\n",
       "      <td>1.92</td>\n",
       "    </tr>\n",
       "    <tr>\n",
       "      <th>3</th>\n",
       "      <td>819725</td>\n",
       "      <td>Aspen–Mixed</td>\n",
       "      <td>11.764706</td>\n",
       "      <td>14.692515</td>\n",
       "      <td>26.010226</td>\n",
       "      <td>1.140510</td>\n",
       "      <td>1.68</td>\n",
       "      <td>1.92</td>\n",
       "      <td>1.92</td>\n",
       "    </tr>\n",
       "    <tr>\n",
       "      <th>4</th>\n",
       "      <td>821970</td>\n",
       "      <td>Aspen</td>\n",
       "      <td>39.644970</td>\n",
       "      <td>9.779182</td>\n",
       "      <td>17.566190</td>\n",
       "      <td>0.390073</td>\n",
       "      <td>1.39</td>\n",
       "      <td>1.53</td>\n",
       "      <td>1.60</td>\n",
       "    </tr>\n",
       "    <tr>\n",
       "      <th>5</th>\n",
       "      <td>821970</td>\n",
       "      <td>Douglas-fir</td>\n",
       "      <td>1.775148</td>\n",
       "      <td>9.779182</td>\n",
       "      <td>17.566190</td>\n",
       "      <td>0.390073</td>\n",
       "      <td>1.39</td>\n",
       "      <td>1.53</td>\n",
       "      <td>1.60</td>\n",
       "    </tr>\n",
       "    <tr>\n",
       "      <th>6</th>\n",
       "      <td>821970</td>\n",
       "      <td>Spruce-fir</td>\n",
       "      <td>4.142012</td>\n",
       "      <td>9.779182</td>\n",
       "      <td>17.566190</td>\n",
       "      <td>0.390073</td>\n",
       "      <td>1.39</td>\n",
       "      <td>1.53</td>\n",
       "      <td>1.60</td>\n",
       "    </tr>\n",
       "    <tr>\n",
       "      <th>7</th>\n",
       "      <td>821970</td>\n",
       "      <td>Spruce-fir</td>\n",
       "      <td>14.201183</td>\n",
       "      <td>9.779182</td>\n",
       "      <td>17.566190</td>\n",
       "      <td>0.390073</td>\n",
       "      <td>1.39</td>\n",
       "      <td>1.53</td>\n",
       "      <td>1.60</td>\n",
       "    </tr>\n",
       "    <tr>\n",
       "      <th>8</th>\n",
       "      <td>821970</td>\n",
       "      <td>Aspen–Mixed</td>\n",
       "      <td>24.852071</td>\n",
       "      <td>9.779182</td>\n",
       "      <td>17.566190</td>\n",
       "      <td>0.390073</td>\n",
       "      <td>1.39</td>\n",
       "      <td>1.53</td>\n",
       "      <td>1.60</td>\n",
       "    </tr>\n",
       "    <tr>\n",
       "      <th>9</th>\n",
       "      <td>821974</td>\n",
       "      <td>Aspen</td>\n",
       "      <td>11.242604</td>\n",
       "      <td>21.670228</td>\n",
       "      <td>35.828136</td>\n",
       "      <td>0.324670</td>\n",
       "      <td>0.64</td>\n",
       "      <td>0.94</td>\n",
       "      <td>1.04</td>\n",
       "    </tr>\n",
       "  </tbody>\n",
       "</table>\n",
       "</div>"
      ]
     },
     "execution_count": 4,
     "metadata": {},
     "output_type": "execute_result"
    }
   ],
   "execution_count": 4
  },
  {
   "cell_type": "code",
   "id": "03f43406-2bb7-42b3-a01d-fdf0bc3e7929",
   "metadata": {
    "ExecuteTime": {
     "end_time": "2025-07-31T03:25:41.945875Z",
     "start_time": "2025-07-31T03:25:41.661303Z"
    }
   },
   "source": [
    "# Plot FRP by dominant forest type\n",
    "# # create a dataframe with dominance (>50% of the same species)\n",
    "# dom = tm_sev[tm_sev['fortyp_pct'] > 0.50]\n",
    "# Find the median and sort the forest types by FRP\n",
    "med = tm_sev.groupby('dom_fortyp')['CBIbc_p90'].median().sort_values(ascending=False)\n",
    "ordered = med.index.tolist()\n",
    "\n",
    "# plot it\n",
    "plt.figure(figsize=(6, 4)) \n",
    "\n",
    "sns.boxplot(\n",
    "    data=tm_sev, \n",
    "    x='CBIbc_p90', \n",
    "    y='fortypnm_gp', \n",
    "    order=ordered, \n",
    "    palette='inferno', \n",
    "    dodge=False)\n",
    "\n",
    "# plt.xscale('log') # log-scale FRP\n",
    "plt.xlabel('Composite Burn Index')\n",
    "plt.ylabel('Forest Type')\n",
    "plt.tight_layout()\n",
    "\n",
    "out_plot = os.path.join(projdir, 'figures/Figure_LF_Dom_CBIbc90.png')\n",
    "plt.savefig(out_plot, dpi=300, bbox_inches='tight')\n",
    "\n",
    "plt.show()\n",
    "print(f\"\\nSaved to: {out_plot}\\n\")"
   ],
   "outputs": [
    {
     "data": {
      "text/plain": [
       "<Figure size 600x400 with 1 Axes>"
      ],
      "image/png": "[encoded data removed]"
     },
     "metadata": {},
     "output_type": "display_data"
    },
    {
     "name": "stdout",
     "output_type": "stream",
     "text": [
      "\n",
      "Saved to: /Users/max/Library/CloudStorage/OneDrive-Personal/mcook/aspen-fire/Aim2/figures/Figure_LF_Dom_CBIbc90.png\n",
      "\n"
     ]
    }
   ],
   "execution_count": 6
  },
  {
   "cell_type": "code",
   "id": "19a118d4-a57d-4846-9a4c-f61db1846539",
   "metadata": {
    "ExecuteTime": {
     "end_time": "2025-07-31T03:25:51.504018Z",
     "start_time": "2025-07-31T03:25:51.498657Z"
    }
   },
   "source": [
    "tm_sev.columns"
   ],
   "outputs": [
    {
     "data": {
      "text/plain": [
       "Index(['Fire_ID', 'Fire_Name', 'grid_idx', 'fortypnm_gp', 'proportion', 'CC',\n",
       "       'CH', 'CBH', 'CBD', 'BALIVE', 'SDI', 'QMD', 'dom_fortyp', 'prop_forest',\n",
       "       'grid_index', 'grid_area', 'afd_count', 'day_count', 'night_count',\n",
       "       'unique_days', 'overlap', 'frp_csum', 'frp_max', 'frp_min',\n",
       "       'day_max_frp', 'dt_max_frp', 'first_obs_date', 'last_obs_date', 'erc',\n",
       "       'erc_dv', 'fm1000', 'fm1000_dv', 'rmin', 'rmin_dv', 'tmmx', 'tmmx_dv',\n",
       "       'vpd', 'vpd_dv', 'vs', 'vs_dv', 'elev', 'slope', 'aspect', 'chili',\n",
       "       'tpi', 'x', 'y', 'geometry', 'CBIbc_mean', 'CBIbc_p90', 'CBIbc_p95',\n",
       "       'CBIbc_p97', 'CBIbc_p99', 'CBIbc_stdDev'],\n",
       "      dtype='object')"
      ]
     },
     "execution_count": 7,
     "metadata": {},
     "output_type": "execute_result"
    }
   ],
   "execution_count": 7
  },
  {
   "cell_type": "code",
   "id": "6fe6ef3d-3548-4734-9cff-885b0ae81ef1",
   "metadata": {
    "ExecuteTime": {
     "end_time": "2025-07-31T03:25:53.242057Z",
     "start_time": "2025-07-31T03:25:53.237817Z"
    }
   },
   "source": [
    "print(len(tm))\n",
    "print(len(sev))\n",
    "print(len(tm_sev))"
   ],
   "outputs": [
    {
     "name": "stdout",
     "output_type": "stream",
     "text": [
      "138853\n",
      "57232\n",
      "138853\n"
     ]
    }
   ],
   "execution_count": 8
  },
  {
   "cell_type": "code",
   "id": "4187495a-ff0a-46b3-bc00-ad96eac73b42",
   "metadata": {
    "ExecuteTime": {
     "end_time": "2025-07-31T03:26:08.152159Z",
     "start_time": "2025-07-31T03:26:08.146273Z"
    }
   },
   "source": [
    "print(f\"\\nNaNs in CBI: {tm_sev['CBIbc_p90'].isna().sum()}\\n\")\n",
    "print(f\"NaNs in FRP: {tm_sev['frp_csum'].isna().sum()}\\n\")\n",
    "print(f\"NaNs in FORTYP: {tm_sev['fortypnm_gp'].isna().sum()}\\n\")"
   ],
   "outputs": [
    {
     "name": "stdout",
     "output_type": "stream",
     "text": [
      "\n",
      "NaNs in CBI: 0\n",
      "\n",
      "NaNs in FRP: 0\n",
      "\n",
      "NaNs in FORTYP: 0\n",
      "\n"
     ]
    }
   ],
   "execution_count": 10
  },
  {
   "cell_type": "code",
   "id": "f0a6df8f-3484-431f-8670-8d52a8a45ea8",
   "metadata": {
    "ExecuteTime": {
     "end_time": "2025-07-31T03:26:11.113142Z",
     "start_time": "2025-07-31T03:26:11.068694Z"
    }
   },
   "source": [
    "tm_sev = tm_sev[~tm_sev['CBIbc_p90'].isna()]\n",
    "print(len(tm_sev))"
   ],
   "outputs": [
    {
     "name": "stdout",
     "output_type": "stream",
     "text": [
      "138853\n"
     ]
    }
   ],
   "execution_count": 11
  },
  {
   "cell_type": "code",
   "id": "7bf8964b-d45e-41ae-b6ed-2937336d5cc8",
   "metadata": {
    "ExecuteTime": {
     "end_time": "2025-07-31T03:26:14.162860Z",
     "start_time": "2025-07-31T03:26:14.158963Z"
    }
   },
   "source": [
    "print(tm_sev.columns)"
   ],
   "outputs": [
    {
     "name": "stdout",
     "output_type": "stream",
     "text": [
      "Index(['Fire_ID', 'Fire_Name', 'grid_idx', 'fortypnm_gp', 'proportion', 'CC',\n",
      "       'CH', 'CBH', 'CBD', 'BALIVE', 'SDI', 'QMD', 'dom_fortyp', 'prop_forest',\n",
      "       'grid_index', 'grid_area', 'afd_count', 'day_count', 'night_count',\n",
      "       'unique_days', 'overlap', 'frp_csum', 'frp_max', 'frp_min',\n",
      "       'day_max_frp', 'dt_max_frp', 'first_obs_date', 'last_obs_date', 'erc',\n",
      "       'erc_dv', 'fm1000', 'fm1000_dv', 'rmin', 'rmin_dv', 'tmmx', 'tmmx_dv',\n",
      "       'vpd', 'vpd_dv', 'vs', 'vs_dv', 'elev', 'slope', 'aspect', 'chili',\n",
      "       'tpi', 'x', 'y', 'geometry', 'CBIbc_mean', 'CBIbc_p90', 'CBIbc_p95',\n",
      "       'CBIbc_p97', 'CBIbc_p99', 'CBIbc_stdDev'],\n",
      "      dtype='object')\n"
     ]
    }
   ],
   "execution_count": 12
  },
  {
   "cell_type": "code",
   "id": "c2e1278f-bb9a-4ff9-9065-97c3dc40eccb",
   "metadata": {
    "ExecuteTime": {
     "end_time": "2025-07-31T03:26:16.863093Z",
     "start_time": "2025-07-31T03:26:16.849302Z"
    }
   },
   "source": "tm_sev['fortypnm_gp'].unique()",
   "outputs": [
    {
     "data": {
      "text/plain": [
       "array(['Aspen', 'Douglas-fir', 'Spruce-fir', 'Aspen–Mixed', 'White fir',\n",
       "       'Ponderosa pine', 'Pinon-juniper', 'Lodgepole pine'], dtype=object)"
      ]
     },
     "execution_count": 13,
     "metadata": {},
     "output_type": "execute_result"
    }
   ],
   "execution_count": 13
  },
  {
   "cell_type": "code",
   "id": "3e873edf-1a76-49c1-92ec-1cdf5ad07ce3",
   "metadata": {
    "ExecuteTime": {
     "end_time": "2025-07-31T03:26:23.101271Z",
     "start_time": "2025-07-31T03:26:19.103230Z"
    }
   },
   "source": [
    "# save the table out\n",
    "out_fp = os.path.join(projdir,'data/tabular/mod/gridstats_lf_gs_frp-cbi.csv')\n",
    "tm_sev.to_csv(out_fp)\n",
    "print(f\"Saved to: {out_fp}\")"
   ],
   "outputs": [
    {
     "name": "stdout",
     "output_type": "stream",
     "text": [
      "Saved to: /Users/max/Library/CloudStorage/OneDrive-Personal/mcook/aspen-fire/Aim2/data/tabular/mod/gridstats_lf_gs_frp-cbi.csv\n"
     ]
    }
   ],
   "execution_count": 14
  },
  {
   "cell_type": "code",
   "id": "4a8a9db5-7a9a-40af-8a10-f0c526d71d5c",
   "metadata": {},
   "source": [],
   "outputs": [],
   "execution_count": null
  },
  {
   "cell_type": "code",
   "id": "98498065-760d-42c6-8a17-1a156d253475",
   "metadata": {},
   "source": [],
   "outputs": [],
   "execution_count": null
  }
 ],
 "metadata": {
  "kernelspec": {
   "display_name": "aspen-fire",
   "language": "python",
   "name": "aspen-fire"
  },
  "language_info": {
   "codemirror_mode": {
    "name": "ipython",
    "version": 3
   },
   "file_extension": ".py",
   "mimetype": "text/x-python",
   "name": "python",
   "nbconvert_exporter": "python",
   "pygments_lexer": "ipython3",
   "version": "3.10.12"
  }
 },
 "nbformat": 4,
 "nbformat_minor": 5
}
