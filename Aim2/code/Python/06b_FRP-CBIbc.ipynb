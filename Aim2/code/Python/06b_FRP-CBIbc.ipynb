{
 "cells": [
  {
   "cell_type": "code",
   "id": "51bbe5b1-c643-4939-8ef4-31e2dfd5df5a",
   "metadata": {},
   "source": [
    "\"\"\" \n",
    "Author: maxwell.cook@colorado.edu\n",
    "\"\"\"\n",
    "\n",
    "import os, sys, gc, time\n",
    "import geopandas as gpd\n",
    "import rasterio as rio\n",
    "import rioxarray as rxr\n",
    "import seaborn as sns\n",
    "import matplotlib.pyplot as plt\n",
    "import matplotlib.colors as mcolors\n",
    "\n",
    "from scipy.stats import pearsonr\n",
    "\n",
    "# Custom functions\n",
    "sys.path.append(os.path.join(os.getcwd(),'code/'))\n",
    "from __functions import *\n",
    "\n",
    "proj = 'EPSG:5070'\n",
    "\n",
    "maindir = '/Users/max/Library/CloudStorage/OneDrive-Personal/mcook/'\n",
    "projdir = os.path.join(maindir, 'aspen-fire/Aim2/')\n",
    "\n",
    "print(\"Ready to go !\")"
   ],
   "outputs": [],
   "execution_count": null
  },
  {
   "cell_type": "code",
   "id": "5ee26be9-0694-4e34-98ad-4b738bcd56c2",
   "metadata": {},
   "source": [
    "fp = os.path.join(projdir,'data/tabular/mod/gridstats_lf_gs.csv')\n",
    "tm = pd.read_csv(fp)\n",
    "tm.drop(columns=['Unnamed: 0'], inplace=True)\n",
    "tm.columns"
   ],
   "outputs": [],
   "execution_count": null
  },
  {
   "cell_type": "code",
   "id": "7fe13138-eeed-4d01-8b8a-499d1f4dda5c",
   "metadata": {},
   "source": [
    "len(tm)"
   ],
   "outputs": [],
   "execution_count": null
  },
  {
   "cell_type": "code",
   "id": "38f3c83a-fb31-4c11-8f6c-e9befc22ea4b",
   "metadata": {},
   "source": [
    "# load the CBI data\n",
    "fp = os.path.join(projdir,'data/earth-engine/exports/gridstats_cbibc_forest.csv')\n",
    "sev = pd.read_csv(fp)\n",
    "sev.drop(columns=['system:index','.geo'], inplace=True)\n",
    "# create a unique ID\n",
    "sev['grid_idx'] = sev['Fire_ID'].astype(str) + sev['grid_index'].astype(str)\n",
    "print(sev.columns)\n",
    "\n",
    "# Rename the columns for clarity\n",
    "cols = ['mean', 'stdDev', 'p90', 'p95', 'p97', 'p99']\n",
    "for col in cols:\n",
    "    new_name = 'CBIbc_' + col\n",
    "    sev.rename(columns={col: new_name}, inplace=True)\n",
    "sev.drop(columns=['Fire_ID','grid_index'], inplace=True)\n",
    "sev['grid_idx'] = sev['grid_idx'].astype(int)\n",
    "# merge the dataframes\n",
    "tm_sev = tm.merge(sev, on='grid_idx', how='left')\n",
    "tm_sev[['grid_idx','fortypnm_gp','proportion','frp_max','frp_csum',\n",
    "        'CBIbc_mean','CBIbc_p90','CBIbc_p95']].head(10)"
   ],
   "outputs": [],
   "execution_count": null
  },
  {
   "cell_type": "code",
   "id": "03f43406-2bb7-42b3-a01d-fdf0bc3e7929",
   "metadata": {},
   "source": [
    "# Plot FRP by dominant forest type\n",
    "# # create a dataframe with dominance (>50% of the same species)\n",
    "# dom = tm_sev[tm_sev['fortyp_pct'] > 0.50]\n",
    "# Find the median and sort the forest types by FRP\n",
    "med = tm_sev.groupby('fortypnm_gp')['CBIbc_p90'].median().sort_values(ascending=False)\n",
    "ordered = med.index.tolist()\n",
    "\n",
    "# plot it\n",
    "plt.figure(figsize=(6, 4)) \n",
    "\n",
    "sns.boxplot(\n",
    "    data=tm_sev, \n",
    "    x='CBIbc_p90', \n",
    "    y='fortypnm_gp', \n",
    "    order=ordered, \n",
    "    palette='inferno', \n",
    "    dodge=False)\n",
    "\n",
    "# plt.xscale('log') # log-scale FRP\n",
    "plt.xlabel('Composite Burn Index')\n",
    "plt.ylabel('Forest Type')\n",
    "plt.tight_layout()\n",
    "\n",
    "out_plot = os.path.join(projdir, 'figures/Figure_LF_Dom_CBIbc90.png')\n",
    "plt.savefig(out_plot, dpi=300, bbox_inches='tight')\n",
    "\n",
    "plt.show()\n",
    "print(f\"\\nSaved to: {out_plot}\\n\")"
   ],
   "outputs": [],
   "execution_count": null
  },
  {
   "cell_type": "code",
   "id": "19a118d4-a57d-4846-9a4c-f61db1846539",
   "metadata": {},
   "source": [
    "tm_sev.columns"
   ],
   "outputs": [],
   "execution_count": null
  },
  {
   "cell_type": "code",
   "id": "6fe6ef3d-3548-4734-9cff-885b0ae81ef1",
   "metadata": {},
   "source": [
    "print(len(tm))\n",
    "print(len(sev))\n",
    "print(len(tm_sev))"
   ],
   "outputs": [],
   "execution_count": null
  },
  {
   "cell_type": "code",
   "id": "4187495a-ff0a-46b3-bc00-ad96eac73b42",
   "metadata": {},
   "source": [
    "print(f\"\\nNaNs in CBI: {tm_sev['CBIbc_p90'].isna().sum()}\\n\")\n",
    "print(f\"NaNs in FRP: {tm_sev['frp_max_day'].isna().sum()}\\n\")\n",
    "print(f\"NaNs in FORTYP: {tm_sev['fortypnm_gp'].isna().sum()}\\n\")"
   ],
   "outputs": [],
   "execution_count": null
  },
  {
   "cell_type": "code",
   "id": "f0a6df8f-3484-431f-8670-8d52a8a45ea8",
   "metadata": {},
   "source": [
    "tm_sev = tm_sev[~tm_sev['CBIbc_p90'].isna()]\n",
    "print(len(tm_sev))"
   ],
   "outputs": [],
   "execution_count": null
  },
  {
   "cell_type": "code",
   "id": "7bf8964b-d45e-41ae-b6ed-2937336d5cc8",
   "metadata": {},
   "source": [
    "print(tm_sev.columns)"
   ],
   "outputs": [],
   "execution_count": null
  },
  {
   "cell_type": "code",
   "id": "c2e1278f-bb9a-4ff9-9065-97c3dc40eccb",
   "metadata": {},
   "source": "tm_sev['fortypnm_gp'].unique()",
   "outputs": [],
   "execution_count": null
  },
  {
   "cell_type": "code",
   "id": "3e873edf-1a76-49c1-92ec-1cdf5ad07ce3",
   "metadata": {},
   "source": [
    "# save the table out\n",
    "out_fp = os.path.join(projdir,'data/tabular/mod/gridstats_lf_gs_frp-cbi.csv')\n",
    "tm_sev.to_csv(out_fp)\n",
    "print(f\"Saved to: {out_fp}\")"
   ],
   "outputs": [],
   "execution_count": null
  },
  {
   "cell_type": "code",
   "id": "9577d6d5-53da-4a18-bc1a-267bdbee7bf8",
   "metadata": {},
   "source": [
    "gc.collect()"
   ],
   "outputs": [],
   "execution_count": null
  },
  {
   "cell_type": "code",
   "id": "4a8a9db5-7a9a-40af-8a10-f0c526d71d5c",
   "metadata": {},
   "source": [],
   "outputs": [],
   "execution_count": null
  },
  {
   "cell_type": "code",
   "id": "98498065-760d-42c6-8a17-1a156d253475",
   "metadata": {},
   "source": [],
   "outputs": [],
   "execution_count": null
  }
 ],
 "metadata": {
  "kernelspec": {
   "display_name": "aspen-fire",
   "language": "python",
   "name": "aspen-fire"
  },
  "language_info": {
   "codemirror_mode": {
    "name": "ipython",
    "version": 3
   },
   "file_extension": ".py",
   "mimetype": "text/x-python",
   "name": "python",
   "nbconvert_exporter": "python",
   "pygments_lexer": "ipython3",
   "version": "3.10.12"
  }
 },
 "nbformat": 4,
 "nbformat_minor": 5
}
