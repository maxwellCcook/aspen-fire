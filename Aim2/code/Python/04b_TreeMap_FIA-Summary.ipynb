{
 "cells": [
  {
   "cell_type": "code",
   "execution_count": 1,
   "id": "c3d482be-361d-4286-b949-6680bf24babb",
   "metadata": {},
   "outputs": [
    {
     "name": "stdout",
     "output_type": "stream",
     "text": [
      "Ready to go !\n"
     ]
    }
   ],
   "source": [
    "\"\"\"\n",
    "Summaries of USFS TreeMap linked to FIA plot data\n",
    "Emphasis on \n",
    "    - Metrics of forest composition\n",
    "    - Ecological gradients of species dominance\n",
    "    - Forest structure (abundance, dominance, diversity, stand height)\n",
    "\n",
    "Aggregate these statistics to FRP gridcells.\n",
    "\n",
    "Author: maxwell.cook@colorado.edu\n",
    "\"\"\"\n",
    "\n",
    "import os, sys, time\n",
    "import pandas as pd\n",
    "import rioxarray as rxr\n",
    "import xarray as xr\n",
    "import geopandas as gpd\n",
    "import seaborn as sns\n",
    "import matplotlib.pyplot as plt\n",
    "import matplotlib.colors as mcolors\n",
    "from matplotlib.colors import to_rgba\n",
    "\n",
    "# Custom functions\n",
    "sys.path.append(os.path.join(os.getcwd(),'code/'))\n",
    "from __functions import *\n",
    "\n",
    "albers = 'EPSG:5070' # albers CONUS\n",
    "utm = 'EPSG:32613' # UTM Zone 13N\n",
    "\n",
    "maindir = '/Users/max/Library/CloudStorage/OneDrive-Personal/mcook/'\n",
    "projdir = os.path.join(maindir, 'aspen-fire/Aim2/')\n",
    "\n",
    "print(\"Ready to go !\")"
   ]
  },
  {
   "cell_type": "code",
   "execution_count": 2,
   "id": "af7d2100-d318-41ce-970d-7686f0359b88",
   "metadata": {},
   "outputs": [
    {
     "name": "stdout",
     "output_type": "stream",
     "text": [
      "\n",
      "There are [57232] grids across [100] fires.\n",
      "\n",
      "\n",
      "Index(['grid_index', 'grid_area', 'afd_count', 'unique_days', 'overlap',\n",
      "       'frp_csum', 'frp_max', 'frp_min', 'frp_mean', 'frp_p90', 'frp_p95',\n",
      "       'frp_p97', 'frp_p99', 'frp_first', 'day_max_frp', 'dt_max_frp',\n",
      "       'first_obs_date', 'last_obs_date', 't4_max', 't4_mean', 't5_max',\n",
      "       't5_mean', 'day_count', 'night_count', 'frp_max_day', 'frp_max_night',\n",
      "       'frp_csum_day', 'frp_csum_night', 'frp_mean_day', 'frp_mean_night',\n",
      "       'frp_p90_day', 'frp_p90_night', 'frp_p95_day', 'frp_p95_night',\n",
      "       'frp_p97_day', 'frp_p97_night', 'frp_p99_day', 'frp_p99_night',\n",
      "       'frp_first_day', 'frp_first_night', 'Fire_ID', 'Fire_Name', 'geometry'],\n",
      "      dtype='object')\n",
      "\n",
      "Dropping [465] duplicate grids.\n",
      "\n",
      "Fractional overlap:\n",
      "count    56767.000000\n",
      "mean         2.029756\n",
      "std          2.004417\n",
      "min          0.000003\n",
      "25%          0.591083\n",
      "50%          1.498852\n",
      "75%          2.779104\n",
      "max         24.470760\n",
      "Name: overlap, dtype: float64\n",
      "\n",
      "Dropping [2433 (4.29%)] grids with < 5% fractional overlap.\n"
     ]
    }
   ],
   "source": [
    "# load the aggregated FRP grids (regular 375m2 grids summarizing FRP from VIIRS)\n",
    "fp = os.path.join(projdir,'data/spatial/mod/VIIRS/viirs_snpp_jpss1_afd_latlon_fires_pixar_gridstats.gpkg')\n",
    "grid = gpd.read_file(fp)\n",
    "print(f\"\\nThere are [{len(grid)}] grids across [{len(grid['Fire_ID'].unique())}] fires.\\n\")\n",
    "print(f\"\\n{grid.columns}\\n\")\n",
    "\n",
    "# Drop any dupicate grids ...\n",
    "print(f\"Dropping [{grid.duplicated(subset=['grid_index']).sum()}] duplicate grids.\\n\")\n",
    "grid = grid.drop_duplicates(subset=['grid_index'], keep='first')\n",
    "\n",
    "# check on fractional overlap distribution\n",
    "print(f\"Fractional overlap:\\n{grid['overlap'].describe()}\\n\")\n",
    "n_small = grid[grid['overlap'] < 0.05]['grid_index'].count() # less than 5% spatial overlap\n",
    "print(f\"Dropping [{n_small} ({round(n_small/len(grid)*100,2)}%)] grids with < 5% fractional overlap.\")\n",
    "grid = grid[grid['overlap'] >= 0.05] # remove these observations"
   ]
  },
  {
   "cell_type": "code",
   "execution_count": 3,
   "id": "8ab27165-81d1-4bb0-892a-168bc8353a89",
   "metadata": {},
   "outputs": [
    {
     "name": "stdout",
     "output_type": "stream",
     "text": [
      "Shape: (2, 28724, 17006); \n",
      "GeoTransform: -1193295.0 30.0 0.0 2253345.0 0.0 -30.0; \n",
      "WKT: EPSG:5070; \n",
      "NoData Value: nan; \n",
      "Data Type: float32\n"
     ]
    },
    {
     "data": {
      "text/plain": [
       "67"
      ]
     },
     "execution_count": 3,
     "metadata": {},
     "output_type": "execute_result"
    }
   ],
   "source": [
    "# Load the TreeMap (ca. 2016)\n",
    "# Pixel values here denote the FIA plot ID (\"tm_id\")\n",
    "# see '04a_TreeMap_FIA-Prep.ipynb'\n",
    "# fp = os.path.join(maindir,'data/landcover/USFS/RDS_TreeMap/TreeMap2016.tif') # tm_id band\n",
    "fp = os.path.join(projdir, \"data/spatial/mod/USFS/TreeMap_2016_TMID_FORTYPCD.tif\") # multi-band\n",
    "treemap_da = rxr.open_rasterio(fp, masked=True, cache=False).squeeze()\n",
    "tmid_da = treemap_da.sel(band=1) # the \"tm_id\" band\n",
    "fortyp_da = treemap_da.sel(band=2) # the fortypcd band\n",
    "\n",
    "# Grab some raster metadata from one of the layers\n",
    "shp, gt, wkt, nd = treemap_da.shape, treemap_da.spatial_ref.GeoTransform, treemap_da.rio.crs, treemap_da.rio.nodata\n",
    "print(\n",
    "    f\"Shape: {shp}; \\n\"\n",
    "    f\"GeoTransform: {gt}; \\n\"\n",
    "    f\"WKT: {wkt}; \\n\"\n",
    "    f\"NoData Value: {nd}; \\n\"\n",
    "    f\"Data Type: {treemap_da[0].dtype}\")\n",
    "\n",
    "del treemap_da\n",
    "gc.collect()"
   ]
  },
  {
   "cell_type": "code",
   "execution_count": 4,
   "id": "8536a925-ffa9-48f5-b879-6c55d80ca431",
   "metadata": {},
   "outputs": [
    {
     "name": "stdout",
     "output_type": "stream",
     "text": [
      "\n",
      "[86.59%] predominantly forest grids.\n",
      "\n",
      "   grid_index  forest_pixels  forest_pct\n",
      "0     1955419            169       100.0\n",
      "1     1955420            182       100.0\n",
      "2     1955421            169       100.0\n",
      "Saved multi-band raster to: /Users/max/Library/CloudStorage/OneDrive-Personal/mcook/aspen-fire/Aim2/data/spatial/mod/USFS/TreeMap_2016_forestmask.tif\n"
     ]
    },
    {
     "data": {
      "text/plain": [
       "16"
      ]
     },
     "execution_count": 4,
     "metadata": {},
     "output_type": "execute_result"
    }
   ],
   "source": [
    "# create a forest/non-forest grid\n",
    "forest_mask = xr.where(~np.isnan(tmid_da), 1, 0)\n",
    "# calculate the total forested pixels\n",
    "# see __functions.py 'compute_band_stats'\n",
    "forest_pct = compute_band_stats(grid, forest_mask, 'grid_index', attr='constant')\n",
    "forest_pct.rename(columns={\n",
    "    'pct_cover': 'forest_pct',\n",
    "    'total_pixels': 'forest_pixels'\n",
    "}, inplace=True)\n",
    "forest_pct = forest_pct[forest_pct['constant'] == 1] # just forest pixels\n",
    "forest_pct = forest_pct[['grid_index','forest_pixels','forest_pct']]\n",
    "\n",
    "# how many forested grids are there? (>50%)\n",
    "n_forest = len(forest_pct[forest_pct['forest_pct'] > 50])\n",
    "print(f\"\\n[{round(n_forest/len(grid)*100,2)}%] predominantly forest grids.\")\n",
    "print(f\"\\n{forest_pct.head(3)}\")\n",
    "\n",
    "# Save as a GeoTIFF\n",
    "out_fp = os.path.join(projdir, \"data/spatial/mod/USFS/TreeMap_2016_forestmask.tif\")\n",
    "forest_mask.rio.to_raster(out_fp, compress='zstd', zstd_level=9, dtype='uint16', driver='GTiff')\n",
    "print(f\"Saved multi-band raster to: {out_fp}\")\n",
    "\n",
    "del forest_mask\n",
    "gc.collect() # clean up"
   ]
  },
  {
   "cell_type": "markdown",
   "id": "34b4b35a-9c5e-4291-802c-3542043abc31",
   "metadata": {},
   "source": [
    "## Algorithmic Forest Type Code\n",
    "\n",
    "Summary of the TreeMap Algorithmic Forest Type Code (FORTYPCD) within FRP grids. "
   ]
  },
  {
   "cell_type": "code",
   "execution_count": 5,
   "id": "7b927a14-a2d6-47b7-b244-df4d94137ba9",
   "metadata": {},
   "outputs": [
    {
     "name": "stdout",
     "output_type": "stream",
     "text": [
      "\n",
      "   grid_index  fortypcd  count  total_pixels  pct_cover  \\\n",
      "0     1955419       182     46           169  27.218935   \n",
      "1     1955419       201     38           169  22.485207   \n",
      "2     1955419       221     12           169   7.100592   \n",
      "\n",
      "                 fortypnm  \n",
      "0  Rocky Mountain juniper  \n",
      "1             Douglas-fir  \n",
      "2          Ponderosa pine  \n",
      "\n",
      "Total elapsed time: 0.48 minutes.\n",
      "\n",
      "~~~~~~~~~~\n",
      "\n"
     ]
    },
    {
     "data": {
      "text/plain": [
       "15"
      ]
     },
     "execution_count": 5,
     "metadata": {},
     "output_type": "execute_result"
    }
   ],
   "source": [
    "# also calculate the FORTYPCD\n",
    "t0 = time.time()\n",
    "\n",
    "# see __functions.py\n",
    "grid_fortypcd = compute_band_stats(grid, fortyp_da, 'grid_index', attr='fortypcd')\n",
    "\n",
    "# tidy columns in the summary table\n",
    "grid_fortypcd['count'] = grid_fortypcd['count'].astype(int)\n",
    "grid_fortypcd['total_pixels'] = grid_fortypcd['total_pixels'].astype(int)\n",
    "\n",
    "# load the species lookup table\n",
    "fp = os.path.join(projdir,'data/tabular/mod/treemap_fortypcd_species_mapping.csv')\n",
    "species_df = pd.read_csv(fp)\n",
    "species_df = species_df[['FORTYPCD','SpeciesName']]\n",
    "species_df.rename(columns={\n",
    "    'FORTYPCD': 'fortypcd',\n",
    "    'SpeciesName': 'fortypnm'\n",
    "}, inplace=True)\n",
    "\n",
    "# join the forest name\n",
    "grid_fortypcd = grid_fortypcd.merge(species_df, on='fortypcd', how='left')\n",
    "print(f\"\\n{grid_fortypcd.head(3)}\")\n",
    "\n",
    "t1 = (time.time() - t0) / 60\n",
    "print(f\"\\nTotal elapsed time: {t1:.2f} minutes.\")\n",
    "print(\"\\n~~~~~~~~~~\\n\")\n",
    "\n",
    "del fortyp_da # clean up \n",
    "gc.collect()"
   ]
  },
  {
   "cell_type": "code",
   "execution_count": 6,
   "id": "08ef1a27-1665-431a-a4a1-2a8f90c88764",
   "metadata": {},
   "outputs": [
    {
     "name": "stdout",
     "output_type": "stream",
     "text": [
      "\n",
      "\n",
      "Species making up 97% of the total: \n",
      "\n",
      "                            fortypnm    count  fraction  c_fraction\n",
      "27                    Lodgepole pine  2070538  0.251100    0.251100\n",
      "40                    Ponderosa pine  2051669  0.248812    0.499911\n",
      "0                              Aspen   885627  0.107402    0.607314\n",
      "18  Engelmann spruce / subalpine fir   807791  0.097963    0.705277\n",
      "13                       Douglas-fir   479907  0.058200    0.763477\n",
      "39         Pinyon / juniper woodland   394872  0.047887    0.811364\n",
      "17                  Engelmann spruce   272331  0.033026    0.844390\n",
      "46                     Subalpine fir   202642  0.024575    0.868965\n",
      "21                         Grand fir   179312  0.021746    0.890711\n",
      "53                         White fir   169961  0.020612    0.911322\n",
      "43            Rocky Mountain juniper   167102  0.020265    0.931587\n",
      "12            Deciduous oak woodland   163460  0.019823    0.951411\n",
      "24                      Jeffrey pine    83154  0.010084    0.961495\n",
      "6           California mixed conifer    57726  0.007001    0.968496\n",
      "\n",
      "\n"
     ]
    },
    {
     "data": {
      "image/png": "[encoded data removed]",
      "text/plain": [
       "<Figure size 600x400 with 1 Axes>"
      ]
     },
     "metadata": {},
     "output_type": "display_data"
    }
   ],
   "source": [
    "# Create a histogram of the forest species (prevalence)\n",
    "fortyp = grid_fortypcd.copy() # make a copy to work with\n",
    "fortyp = fortyp[fortyp['count'] > 0] # make sure there are some pixels\n",
    "# calculate the landscape fraction (prevalence)\n",
    "spp_pr = fortyp.groupby('fortypnm')['count'].sum().reset_index()\n",
    "spp_pr['fraction'] = spp_pr['count'] / spp_pr['count'].sum()\n",
    "spp_pr = spp_pr.sort_values(by='fraction', ascending=False)\n",
    "# which species make up 97% of observations?\n",
    "spp_pr['c_fraction'] = spp_pr['fraction'].cumsum()\n",
    "top_species = spp_pr[spp_pr['c_fraction'] <= 0.97]\n",
    "print(f\"\\n\\nSpecies making up 97% of the total: \\n\\n{top_species}\\n\\n\")\n",
    "\n",
    "del fortyp, spp_pr\n",
    "gc.collect()\n",
    "\n",
    "# plot it\n",
    "plt.figure(figsize=(6, 4))\n",
    "sns.barplot(data=top_species, x='fortypnm', y='fraction', palette='viridis')\n",
    "plt.xlabel('Species')\n",
    "plt.ylabel('Fractional cover')\n",
    "plt.xticks(rotation=45, ha='right')\n",
    "plt.tight_layout()\n",
    "plt.show()"
   ]
  },
  {
   "cell_type": "code",
   "execution_count": 7,
   "id": "3b2db60f-c23a-4552-8e58-259d32a4c4a9",
   "metadata": {},
   "outputs": [
    {
     "name": "stdout",
     "output_type": "stream",
     "text": [
      "                 fortypnm    fortypnm_gp\n",
      "0  Rocky Mountain juniper  Piñon-juniper\n",
      "1             Douglas-fir  Mixed-conifer\n",
      "2          Ponderosa pine      Ponderosa\n",
      "\n",
      "Index(['grid_index', 'fortypcd', 'count', 'total_pixels', 'pct_cover',\n",
      "       'fortypnm', 'fortypnm_gp'],\n",
      "      dtype='object')\n"
     ]
    }
   ],
   "source": [
    "# Aggregate species into forest groups\n",
    "# These groups represent common pairings for the Southern Rockies\n",
    "spp_grouping = {\n",
    "    'pinyon|juniper': 'Piñon-juniper',\n",
    "    'engelmann spruce|subalpine fir': 'Spruce-fir',\n",
    "    'ponderosa pine|jeffrey': 'Ponderosa', \n",
    "    'lodgepole pine': 'Lodgepole',\n",
    "    'aspen': 'Aspen',\n",
    "    'douglas-fir|grand fir|white fir': 'Mixed-conifer',\n",
    "    'oak': 'Oak-woodland',\n",
    "}\n",
    "\n",
    "# create the remap table\n",
    "spp_remap = {} # dictionary to store the remap values\n",
    "# Iterate over groups to create the species remap dictionary\n",
    "for keywords, spp_group in spp_grouping.items():\n",
    "    # Find species matching the keywords\n",
    "    spp = grid_fortypcd[grid_fortypcd['fortypnm'].str.contains(keywords, case=False, na=False)]\n",
    "    # Add matching species to the remap dictionary\n",
    "    spp_remap.update(\n",
    "        {name: spp_group for name in spp['fortypnm'].unique()}\n",
    "    )\n",
    "    \n",
    "# Apply the remap to create a new grouped species column\n",
    "grid_fortypcd['fortypnm_gp'] = grid_fortypcd['fortypnm'].map(spp_remap).fillna(grid_fortypcd['fortypnm'])\n",
    "# Verify the updated species groups\n",
    "print(grid_fortypcd[['fortypnm', 'fortypnm_gp']].drop_duplicates().head(3))\n",
    "print(f\"\\n{grid_fortypcd.columns}\")"
   ]
  },
  {
   "cell_type": "code",
   "execution_count": 8,
   "id": "446c5a68-650d-47db-b54d-04f11aff5ef9",
   "metadata": {},
   "outputs": [
    {
     "name": "stdout",
     "output_type": "stream",
     "text": [
      "\n",
      "NaNs: 0\n",
      "\n",
      "Forest percent:\n",
      "count    252407.000000\n",
      "mean         84.875965\n",
      "std          23.445322\n",
      "min           0.510204\n",
      "25%          79.591837\n",
      "50%          97.041420\n",
      "75%         100.000000\n",
      "max         100.000000\n",
      "Name: forest_pct, dtype: float64\n",
      "\n",
      "\n",
      "   grid_index      fortypnm_gp  count  total_pixels  pct_cover  forest_pixels  \\\n",
      "0       34602  Other hardwoods      1           181   0.552486            182   \n",
      "1       34602    Piñon-juniper    148           181  81.767956            182   \n",
      "2       34602        Ponderosa     32           181  17.679558            182   \n",
      "3       34603            Aspen      1           167   0.598802            169   \n",
      "4       34603     Oak-woodland      4           167   2.395210            169   \n",
      "5       34603  Other hardwoods      3           167   1.796407            169   \n",
      "6       34603    Piñon-juniper     95           167  56.886228            169   \n",
      "7       34603        Ponderosa     64           167  38.323353            169   \n",
      "8       34604     Oak-woodland      5           167   2.994012            182   \n",
      "9       34604  Other hardwoods      5           167   2.994012            182   \n",
      "\n",
      "   forest_pct  \n",
      "0   99.450549  \n",
      "1   99.450549  \n",
      "2   99.450549  \n",
      "3   98.816568  \n",
      "4   98.816568  \n",
      "5   98.816568  \n",
      "6   98.816568  \n",
      "7   98.816568  \n",
      "8   91.758242  \n",
      "9   91.758242  \n",
      "\n"
     ]
    },
    {
     "data": {
      "text/plain": [
       "221"
      ]
     },
     "execution_count": 8,
     "metadata": {},
     "output_type": "execute_result"
    }
   ],
   "source": [
    "# Aggregate with the new species groupings\n",
    "# Reacalculate the percent cover for each species group\n",
    "grid_fortypgp = (\n",
    "    grid_fortypcd.groupby(['grid_index','fortypnm_gp'], as_index=False)\n",
    "    .agg(\n",
    "        count=('count','sum'),\n",
    "        total_pixels=('total_pixels','max'),\n",
    "        pct_cover=('pct_cover','sum'),\n",
    "    )\n",
    ")\n",
    "# Check on nulls introduced\n",
    "print(f\"\\nNaNs: {grid_fortypgp['fortypnm_gp'].isna().sum()}\\n\")\n",
    "\n",
    "# merge the forest percent\n",
    "grid_fortypgp = grid_fortypgp.merge(forest_pct, on='grid_index', how='left')\n",
    "\n",
    "print(f\"Forest percent:\\n{grid_fortypgp['forest_pct'].describe()}\\n\")\n",
    "print(f\"\\n{grid_fortypgp.head(10)}\\n\")\n",
    "\n",
    "del forest_pct, grid_fortypcd\n",
    "gc.collect()"
   ]
  },
  {
   "cell_type": "code",
   "execution_count": 9,
   "id": "b5977615-615a-4cbf-afc4-8b79ffe9a43e",
   "metadata": {},
   "outputs": [
    {
     "name": "stdout",
     "output_type": "stream",
     "text": [
      "\n",
      "\n",
      "Species making up 97% of the total: \n",
      "\n",
      "      fortypnm_gp    count  fraction  c_fraction\n",
      "28      Ponderosa  2134823  0.258896    0.258896\n",
      "14      Lodgepole  2070538  0.251100    0.509996\n",
      "33     Spruce-fir  1282764  0.155564    0.665560\n",
      "0           Aspen   885627  0.107402    0.772963\n",
      "18  Mixed-conifer   829180  0.100557    0.873520\n",
      "27  Piñon-juniper   675125  0.081874    0.955394\n",
      "\n",
      "\n"
     ]
    },
    {
     "data": {
      "image/png": "[encoded data removed]",
      "text/plain": [
       "<Figure size 600x400 with 1 Axes>"
      ]
     },
     "metadata": {},
     "output_type": "display_data"
    }
   ],
   "source": [
    "# Re-create the histogram of forest species (prevalence)\n",
    "df = grid_fortypgp.copy() # make a copy to work with\n",
    "# calculate the landscape fraction (prevalence)\n",
    "spp_pr = df.groupby('fortypnm_gp')['count'].sum().reset_index()\n",
    "spp_pr['fraction'] = spp_pr['count'] / spp_pr['count'].sum()\n",
    "spp_pr = spp_pr.sort_values(by='fraction', ascending=False)\n",
    "# which species make up 97% of observations?\n",
    "spp_pr['c_fraction'] = spp_pr['fraction'].cumsum()\n",
    "top_species = spp_pr[spp_pr['c_fraction'] <= 0.97]\n",
    "print(f\"\\n\\nSpecies making up 97% of the total: \\n\\n{top_species}\\n\\n\")\n",
    "\n",
    "del df, spp_pr # tidy up\n",
    "gc.collect()\n",
    "\n",
    "# plot it\n",
    "plt.figure(figsize=(6, 4))\n",
    "sns.barplot(data=top_species, x='fortypnm_gp', y='fraction', palette='viridis')\n",
    "plt.xlabel('Forest Type')\n",
    "plt.ylabel('Fractional cover')\n",
    "plt.xticks(rotation=45, ha='right')\n",
    "plt.tight_layout()\n",
    "plt.show()"
   ]
  },
  {
   "cell_type": "code",
   "execution_count": 10,
   "id": "1b5f1866-e9e4-4a29-b53d-18c7722cb5f9",
   "metadata": {},
   "outputs": [
    {
     "name": "stdout",
     "output_type": "stream",
     "text": [
      "Dropping [0] duplicate rows.\n"
     ]
    }
   ],
   "source": [
    "# check for duplicates, remove them\n",
    "n = grid_fortypgp.duplicated(subset=['grid_index','fortypnm_gp','pct_cover']).sum()\n",
    "print(f\"Dropping [{n}] duplicate rows.\")\n",
    "grid_fortypgp = grid_fortypgp.drop_duplicates(subset=['grid_index','fortypnm_gp','pct_cover'])"
   ]
  },
  {
   "cell_type": "code",
   "execution_count": 11,
   "id": "d2cf4ff7-9579-45ab-83e4-48080a141859",
   "metadata": {},
   "outputs": [
    {
     "name": "stdout",
     "output_type": "stream",
     "text": [
      "Saved file to: /Users/max/Library/CloudStorage/OneDrive-Personal/mcook/aspen-fire/Aim2/data/tabular/mod/viirs_snpp_jpss1_gridstats_fortypnm_gp.csv\n"
     ]
    }
   ],
   "source": [
    "# save the TreeMap FORTYPCD table out.\n",
    "out_fp = os.path.join(projdir,'data/tabular/mod/viirs_snpp_jpss1_gridstats_fortypnm_gp.csv')\n",
    "grid_fortypgp.to_csv(out_fp)\n",
    "print(f\"Saved file to: {out_fp}\")"
   ]
  },
  {
   "cell_type": "code",
   "execution_count": null,
   "id": "0e0f6c93-635a-462a-87e8-f9543e5cedb3",
   "metadata": {},
   "outputs": [],
   "source": []
  },
  {
   "cell_type": "code",
   "execution_count": null,
   "id": "a186147a-36b8-4157-a762-0460701a1e57",
   "metadata": {},
   "outputs": [],
   "source": []
  },
  {
   "cell_type": "code",
   "execution_count": 12,
   "id": "7aea6fc0-6dcb-4f3a-8862-fd3ae1dc1ac6",
   "metadata": {},
   "outputs": [
    {
     "name": "stdout",
     "output_type": "stream",
     "text": [
      "47047/54334 [86.6%] gridcells are >50% forested.\n"
     ]
    },
    {
     "data": {
      "text/plain": [
       "194"
      ]
     },
     "execution_count": 12,
     "metadata": {},
     "output_type": "execute_result"
    }
   ],
   "source": [
    "# subset the grids to predominantly forested plots (>50% forested)\n",
    "grid_forest = grid_fortypgp[grid_fortypgp['forest_pct'] > 50]\n",
    "n_forest = len(grid_forest['grid_index'].unique())\n",
    "print(f\"{n_forest}/{len(grid)} [{round(n_forest/len(grid)*100,1)}%] gridcells are >50% forested.\")\n",
    "# Just work with forested grids from here on out:\n",
    "del grid_fortypgp\n",
    "gc.collect()"
   ]
  },
  {
   "cell_type": "code",
   "execution_count": 13,
   "id": "ade4eb0b-8b68-44f9-94d5-f60726e61f82",
   "metadata": {},
   "outputs": [
    {
     "data": {
      "image/png": "[encoded data removed]",
      "text/plain": [
       "<Figure size 600x400 with 6 Axes>"
      ]
     },
     "metadata": {},
     "output_type": "display_data"
    }
   ],
   "source": [
    "# plot the distribution of percent cover by forest types\n",
    "df = grid_forest.copy()\n",
    "df['fortypnm_gp'] = df['fortypnm_gp'].astype('category')\n",
    "species_order = top_species['fortypnm_gp'].tolist()\n",
    "df['fortypnm_gp'] = pd.Categorical(\n",
    "    df['fortypnm_gp'],\n",
    "    categories=species_order,\n",
    "    ordered=True\n",
    ")\n",
    "\n",
    "# Create a FacetGrid with the specified order\n",
    "g = sns.FacetGrid(\n",
    "    data=df,\n",
    "    col='fortypnm_gp',      \n",
    "    col_wrap=3,             \n",
    "    sharex=False,            \n",
    "    sharey=False,            \n",
    "    height=2,               \n",
    "    aspect=1.2              \n",
    ")\n",
    "\n",
    "# Map a KDE plot to each facet\n",
    "g.map(sns.kdeplot, 'pct_cover', fill=True, alpha=0.6)\n",
    "# Customize the plot\n",
    "g.set_titles(\"{col_name}\")  # Use species names as titles\n",
    "g.set_axis_labels(\"Percent Cover (%)\", \"Density\", size=8)  # Axis labels\n",
    "g.fig.set_size_inches(6,4)  # Set figure dimensions\n",
    "plt.subplots_adjust(top=0.9)  # Adjust subplot spacing\n",
    "\n",
    "del df\n",
    "gc.collect()\n",
    "\n",
    "plt.show()"
   ]
  },
  {
   "cell_type": "code",
   "execution_count": 14,
   "id": "3e881579-46af-47c9-96dd-c05722235ad3",
   "metadata": {},
   "outputs": [
    {
     "data": {
      "text/plain": [
       "Index(['grid_index', 'fortypnm_gp', 'count', 'total_pixels', 'pct_cover',\n",
       "       'forest_pixels', 'forest_pct'],\n",
       "      dtype='object')"
      ]
     },
     "execution_count": 14,
     "metadata": {},
     "output_type": "execute_result"
    }
   ],
   "source": [
    "grid_forest.columns"
   ]
  },
  {
   "cell_type": "code",
   "execution_count": 15,
   "id": "ffb610ed-5eff-4ce8-879b-d47dce9bf3f9",
   "metadata": {},
   "outputs": [
    {
     "data": {
      "text/plain": [
       "0"
      ]
     },
     "execution_count": 15,
     "metadata": {},
     "output_type": "execute_result"
    }
   ],
   "source": [
    "grid_forest['fortypnm_gp'].isna().sum()"
   ]
  },
  {
   "cell_type": "code",
   "execution_count": 16,
   "id": "b47fbaf2-7a5b-4d62-b9d3-d6107cd1e179",
   "metadata": {},
   "outputs": [
    {
     "name": "stdout",
     "output_type": "stream",
     "text": [
      "225005\n",
      "54334\n"
     ]
    }
   ],
   "source": [
    "print(len(grid_forest))\n",
    "print(len(grid))"
   ]
  },
  {
   "cell_type": "code",
   "execution_count": 18,
   "id": "39f969a8-ba36-465a-ac71-7c7f2c28d5f2",
   "metadata": {},
   "outputs": [
    {
     "name": "stdout",
     "output_type": "stream",
     "text": [
      "Index(['grid_index', 'grid_area', 'afd_count', 'unique_days', 'overlap',\n",
      "       'frp_csum', 'frp_max', 'frp_min', 'frp_mean', 'frp_p90', 'frp_p95',\n",
      "       'frp_p97', 'frp_p99', 'frp_first', 'day_max_frp', 'dt_max_frp',\n",
      "       'first_obs_date', 'last_obs_date', 't4_max', 't4_mean', 't5_max',\n",
      "       't5_mean', 'day_count', 'night_count', 'frp_max_day', 'frp_max_night',\n",
      "       'frp_csum_day', 'frp_csum_night', 'frp_mean_day', 'frp_mean_night',\n",
      "       'frp_p90_day', 'frp_p90_night', 'frp_p95_day', 'frp_p95_night',\n",
      "       'frp_p97_day', 'frp_p97_night', 'frp_p99_day', 'frp_p99_night',\n",
      "       'frp_first_day', 'frp_first_night', 'Fire_ID', 'Fire_Name', 'geometry',\n",
      "       'fortypnm_gp', 'count', 'total_pixels', 'pct_cover', 'forest_pixels',\n",
      "       'forest_pct'],\n",
      "      dtype='object')\n",
      "232292\n"
     ]
    }
   ],
   "source": [
    "# join the forest type dataframe to our FRP gridcells\n",
    "grid_forest_frp = grid.merge(grid_forest, on='grid_index', how='inner')\n",
    "print(grid_forest_frp.columns)\n",
    "print(len(grid_forest_frp))"
   ]
  },
  {
   "cell_type": "code",
   "execution_count": 19,
   "id": "4e75dc7c-f86d-4fd9-ab7a-5c25f9ca8f60",
   "metadata": {},
   "outputs": [
    {
     "name": "stdout",
     "output_type": "stream",
     "text": [
      "\n",
      "Dropping [7287] NaN rows.\n",
      "\n",
      "225005\n"
     ]
    }
   ],
   "source": [
    "print(f\"\\nDropping [{grid_forest_frp['fortypnm_gp'].isna().sum()}] NaN rows.\\n\")\n",
    "grid_forest_frp = grid_forest_frp[~grid_forest_frp['fortypnm_gp'].isna()]\n",
    "print(len(grid_forest_frp))"
   ]
  },
  {
   "cell_type": "code",
   "execution_count": 20,
   "id": "af23d14a-faad-4051-8e1b-2d7bc75df250",
   "metadata": {},
   "outputs": [
    {
     "name": "stdout",
     "output_type": "stream",
     "text": [
      "\n",
      "Subsetting to top species groups:\n",
      "['Ponderosa' 'Lodgepole' 'Spruce-fir' 'Aspen' 'Mixed-conifer'\n",
      " 'Piñon-juniper']\n",
      "\n",
      "47047/54334\n"
     ]
    }
   ],
   "source": [
    "print(f\"\\nSubsetting to top species groups:\\n{top_species['fortypnm_gp'].unique()}\")\n",
    "grid_forest_frp = grid_forest_frp[grid_forest_frp['fortypnm_gp'].isin(top_species['fortypnm_gp'].unique())]\n",
    "print(f\"\\n{len(grid_forest_frp['grid_index'].unique())}/{len(grid['grid_index'].unique())}\")"
   ]
  },
  {
   "cell_type": "code",
   "execution_count": 21,
   "id": "91179fa7-654e-4f41-bea4-c8db1cb9e47d",
   "metadata": {},
   "outputs": [
    {
     "name": "stdout",
     "output_type": "stream",
     "text": [
      "['Piñon-juniper' 'Ponderosa' 'Aspen' 'Mixed-conifer' 'Lodgepole'\n",
      " 'Spruce-fir']\n",
      "\n",
      "\n",
      "Dropping 9395 [20.0%] gridcells w/ >0 max daytime FRP.\n"
     ]
    },
    {
     "data": {
      "image/png": "[encoded data removed]",
      "text/plain": [
       "<Figure size 600x400 with 1 Axes>"
      ]
     },
     "metadata": {},
     "output_type": "display_data"
    },
    {
     "name": "stdout",
     "output_type": "stream",
     "text": [
      "\n",
      "Saved to: /Users/max/Library/CloudStorage/OneDrive-Personal/mcook/aspen-fire/Aim2/figures/FigureX_FORTYPCD_DominantSpecies_FRPmax_gp.png\n",
      "\n"
     ]
    }
   ],
   "source": [
    "# make some plots showing the distribution of FRP across forest types\n",
    "# gather the dominant forest type\n",
    "dfortyp = grid_forest_frp.loc[grid_forest_frp.groupby('grid_index')['pct_cover'].idxmax()]\n",
    "print(dfortyp['fortypnm_gp'].unique())\n",
    "print(\"\\n\")\n",
    "\n",
    "# Retain only the daytime FRP measurements\n",
    "n_small = len(dfortyp[dfortyp['frp_max_day'] == 0]) \n",
    "print(f\"Dropping {n_small} [{round(n_small/len(dfortyp)*100,1)}%] gridcells w/ >0 max daytime FRP.\")\n",
    "dfortyp = dfortyp[(dfortyp['frp_max_day'] > 0)]\n",
    "\n",
    "# create a dataframe with dominance (>90% of the same species)\n",
    "dom = dfortyp[dfortyp['pct_cover'] > 90]\n",
    "\n",
    "# Plot FRP by dominant forest type\n",
    "# Find the median and sort the forest types by FRP\n",
    "med = dom.groupby('fortypnm_gp')['frp_max_day'].median().sort_values(ascending=False)\n",
    "sorted = med.index.tolist()\n",
    "\n",
    "# setup the plot\n",
    "plt.figure(figsize=(6, 4)) \n",
    "\n",
    "# boxplot\n",
    "sns.boxplot(\n",
    "    data=dom, \n",
    "    x='frp_max_day', \n",
    "    y='fortypnm_gp', \n",
    "    order=sorted, \n",
    "    palette='coolwarm_r', \n",
    "    fliersize=4,\n",
    "    dodge=False)\n",
    "plt.xscale('log') # log-scale FRP\n",
    "plt.xlabel('Daytime Fire Radiative Power (FRP)')\n",
    "plt.ylabel('Forest Type')\n",
    "plt.tight_layout()\n",
    "# save it out.\n",
    "out_plot = os.path.join(projdir, 'figures/FigureX_FORTYPCD_DominantSpecies_FRPmax_gp.png')\n",
    "plt.savefig(out_plot, dpi=300, bbox_inches='tight')\n",
    "\n",
    "plt.show()\n",
    "print(f\"\\nSaved to: {out_plot}\\n\")"
   ]
  },
  {
   "cell_type": "code",
   "execution_count": 22,
   "id": "cfc07502-b792-4a25-adb2-8fda6ee4af69",
   "metadata": {},
   "outputs": [
    {
     "name": "stdout",
     "output_type": "stream",
     "text": [
      "\n",
      "Kruskal-Wallis Test: H=485.525, p=1.062e-102\n",
      "\n",
      "Dunn's test:\n",
      "                      Aspen     Lodgepole  Mixed-conifer  Piñon-juniper  \\\n",
      "Aspen          1.000000e+00  1.188273e-45       0.716008   1.000000e+00   \n",
      "Lodgepole      1.188273e-45  1.000000e+00       1.000000   4.333992e-55   \n",
      "Mixed-conifer  7.160081e-01  1.000000e+00       1.000000   4.536668e-01   \n",
      "Piñon-juniper  1.000000e+00  4.333992e-55       0.453667   1.000000e+00   \n",
      "Ponderosa      3.999605e-06  1.506554e-54       1.000000   1.362850e-08   \n",
      "Spruce-fir     1.394198e-08  2.652417e-31       1.000000   2.143032e-11   \n",
      "\n",
      "                  Ponderosa    Spruce-fir  \n",
      "Aspen          3.999605e-06  1.394198e-08  \n",
      "Lodgepole      1.506554e-54  2.652417e-31  \n",
      "Mixed-conifer  1.000000e+00  1.000000e+00  \n",
      "Piñon-juniper  1.362850e-08  2.143032e-11  \n",
      "Ponderosa      1.000000e+00  8.914875e-01  \n",
      "Spruce-fir     8.914875e-01  1.000000e+00  \n"
     ]
    }
   ],
   "source": [
    "# Run a statistical test between these groups\n",
    "from scipy.stats import kruskal\n",
    "import scikit_posthocs as sp\n",
    "\n",
    "# Group FRP by forest type\n",
    "grouped_frp = [dom[dom['fortypnm_gp'] == f]['frp_max_day'].values for f in sorted]\n",
    "# Perform Kruskal-Wallis test\n",
    "stat, p = kruskal(*grouped_frp)\n",
    "print(f\"\\nKruskal-Wallis Test: H={stat:.3f}, p={p:.3e}\\n\")\n",
    "\n",
    "# Dunn's test for pairwise comparisons\n",
    "dunn = sp.posthoc_dunn(\n",
    "    dom, val_col='frp_max_day', group_col='fortypnm_gp', p_adjust='bonferroni'\n",
    ")\n",
    "print(f\"Dunn's test:\\n{dunn}\")"
   ]
  },
  {
   "cell_type": "code",
   "execution_count": 23,
   "id": "a8343f7a-6c96-435f-9860-7fa3ef5623b4",
   "metadata": {},
   "outputs": [
    {
     "data": {
      "image/png": "[encoded data removed]",
      "text/plain": [
       "<Figure size 600x400 with 1 Axes>"
      ]
     },
     "metadata": {},
     "output_type": "display_data"
    },
    {
     "name": "stdout",
     "output_type": "stream",
     "text": [
      "\n",
      "Saved to: /Users/max/Library/CloudStorage/OneDrive-Personal/mcook/aspen-fire/Aim2/figures/FigureX_FORTYPCD_DominantSpecies_FRPmax_DayNight_gp.png\n",
      "\n"
     ]
    }
   ],
   "source": [
    "# Plot the Day vs. Night max FRP for dominant types\n",
    "dom['frp_max_day'] = dom['frp_max_day'] + 1\n",
    "dom['frp_max_night'] = dom['frp_max_night'] + 1\n",
    "\n",
    "# Find the median and sort the forest types by FRP\n",
    "med = dom.groupby('fortypnm_gp')['frp_max_day'].median().sort_values(ascending=False)\n",
    "sorted = med.index.tolist()\n",
    "\n",
    "# Reshape the data to long format for both day and night FRP\n",
    "dom_l = pd.melt(\n",
    "    dom, \n",
    "    id_vars=['fortypnm_gp'], \n",
    "    value_vars=['frp_max_day', 'frp_max_night'], \n",
    "    var_name='DayNight', \n",
    "    value_name='FRP'\n",
    ")\n",
    "\n",
    "# Map `Time` values for clearer labels\n",
    "dom_l['DayNight'] = dom_l['DayNight'].map({'frp_max_day': 'Day', 'frp_max_night': 'Night'})\n",
    "\n",
    "# Create the plot\n",
    "plt.figure(figsize=(6, 4))\n",
    "\n",
    "sns.boxplot(\n",
    "    data=dom_l,\n",
    "    x=\"FRP\",\n",
    "    y=\"fortypnm_gp\",\n",
    "    hue=\"DayNight\",\n",
    "    order=sorted,\n",
    "    palette='magma_r',\n",
    "    fliersize=3,\n",
    ")\n",
    "\n",
    "plt.xscale('log')  # Log-scale FRP\n",
    "plt.xlabel('Fire Radiative Power (FRP)', fontsize=11)\n",
    "plt.ylabel('Forest Type', fontsize=11)\n",
    "plt.legend(title='', loc='lower right', fontsize=9)\n",
    "plt.tight_layout()\n",
    "\n",
    "# Save and show the plot\n",
    "out_plot = os.path.join(projdir, 'figures/FigureX_FORTYPCD_DominantSpecies_FRPmax_DayNight_gp.png')\n",
    "plt.savefig(out_plot, dpi=300, bbox_inches='tight')\n",
    "plt.show()\n",
    "\n",
    "print(f\"\\nSaved to: {out_plot}\\n\")"
   ]
  },
  {
   "cell_type": "code",
   "execution_count": 24,
   "id": "38e1a139-1fb8-4082-b649-31e78a517a60",
   "metadata": {},
   "outputs": [
    {
     "name": "stdout",
     "output_type": "stream",
     "text": [
      "27335 [58.1%] gridcells with some aspen component.\n"
     ]
    }
   ],
   "source": [
    "# Identify gridcells with some aspen component\n",
    "aspen_idx = grid_forest_frp[grid_forest_frp['fortypnm_gp'] == 'Aspen']['grid_index'].unique() # list of grid indices\n",
    "grid_aspen = grid_forest_frp[grid_forest_frp['grid_index'].isin(aspen_idx)]\n",
    "# check how many aspen gridcells there are\n",
    "n_aspen = len(grid_aspen['grid_index'].unique())\n",
    "print(f\"{n_aspen} [{round(n_aspen/len(grid_forest_frp['grid_index'].unique())*100,1)}%] gridcells with some aspen component.\")"
   ]
  },
  {
   "cell_type": "code",
   "execution_count": 26,
   "id": "75c01e53-41d6-42b2-b21b-dc53536179cf",
   "metadata": {},
   "outputs": [
    {
     "name": "stdout",
     "output_type": "stream",
     "text": [
      "Associate forest type: ['Lodgepole', 'Mixed-conifer', 'Piñon-juniper', 'Ponderosa', 'Spruce-fir']\n",
      "\n"
     ]
    },
    {
     "data": {
      "image/png": "[encoded data removed]",
      "text/plain": [
       "<Figure size 900x350 with 6 Axes>"
      ]
     },
     "metadata": {},
     "output_type": "display_data"
    }
   ],
   "source": [
    "# waffle chart version\n",
    "# create bins for species composition\n",
    "bins = np.linspace(0, 100, 6) # 20% intervals\n",
    "spps = [s for s in grid_aspen['fortypnm_gp'].unique() if s != 'Aspen'] # exclude aspen from species list\n",
    "print(f\"Associate forest type: {spps}\\n\")\n",
    "\n",
    "# create grid data\n",
    "df = grid_aspen.copy() # work from a copy\n",
    "tiles = []  # Store tile data\n",
    "for sp in spps:\n",
    "    # Filter for co-occurrence\n",
    "    df_sp = df[df['fortypnm_gp'].isin(['Aspen', sp])]\n",
    "    # Pivot to create columns for Aspen and the species\n",
    "    cover_df = (\n",
    "        df_sp.pivot_table(\n",
    "            index='grid_index', \n",
    "            columns='fortypnm_gp', \n",
    "            values='pct_cover', \n",
    "            fill_value=0\n",
    "        ).reset_index()\n",
    "         .rename(columns={'Aspen': 'aspen_cover', sp: f'{sp}_cover'})\n",
    "    )\n",
    "    # Make sure there are some of each species (aspen and other)\n",
    "    cover_df['combined_cover'] = cover_df['aspen_cover'] + cover_df[f'{sp}_cover']\n",
    "    cover_df = cover_df[cover_df['combined_cover'] > 50] # where one or both are dominant\n",
    "    # Merge back with FRP data\n",
    "    cover_df = cover_df.merge(\n",
    "        grid_aspen[['grid_index','frp_max_day', 'frp_max_night']].drop_duplicates(), \n",
    "        on='grid_index', how='left')\n",
    "\n",
    "    # Bin Aspen and species percent cover\n",
    "    cover_df['aspen_bin'] = pd.cut(cover_df['aspen_cover'], bins, labels=range(len(bins) - 1))\n",
    "    cover_df[f'{sp}_bin'] = pd.cut(cover_df[f'{sp}_cover'], bins, labels=range(len(bins) - 1))\n",
    "    # Group by bins and calculate statistics\n",
    "    grouped = cover_df.groupby(['aspen_bin', f'{sp}_bin'])\n",
    "    counts = grouped.size().reset_index(name='freq')  # Frequency for tile size\n",
    "    mean_frp = grouped['frp_max_day'].mean().reset_index(name='frp')  # Mean FRP for color\n",
    "\n",
    "    # Merge statistics into a single DataFrame\n",
    "    tiled_data = pd.merge(counts, mean_frp, on=['aspen_bin', f'{sp}_bin'])\n",
    "    tiled_data['species'] = sp\n",
    "    tiles.append(tiled_data)\n",
    "\n",
    "    # Tidy up\n",
    "    del df_sp, cover_df, grouped, counts, mean_frp, tiled_data\n",
    "    gc.collect()\n",
    "\n",
    "# Combine tile data\n",
    "tiles_df = pd.concat(tiles, ignore_index=True)\n",
    "tiles_df['log_frp'] = np.log10(tiles_df['frp'] + 1e-6) # add a small value to help with log-scaling\n",
    "\n",
    "# Normalize tile sizes (scale frequency)\n",
    "tiles_df['tile_size'] = (tiles_df['freq'] / tiles_df['freq'].max()) ** 0.2  # Square root scaling for better size balance\n",
    "\n",
    "# Plotting the tile-scaled heatmap\n",
    "n_cols = 3  # Number of columns in the facet grid\n",
    "n_rows = int(np.ceil(len(spps) / n_cols))\n",
    "fig, axes = plt.subplots(n_rows, n_cols, figsize=(9,3.5), constrained_layout=True)\n",
    "axes = axes.flatten()\n",
    "\n",
    "# handle the normalization\n",
    "vmin = tiles_df['log_frp'].min()\n",
    "vmax = tiles_df['log_frp'].quantile()\n",
    "norm = mcolors.Normalize(vmin=vmin, vmax=vmax)  # Define color normalization based on raw FRP range\n",
    "\n",
    "# log_frp_min = np.percentile(tiles_df['log_frp'], 10)\n",
    "# log_frp_max = np.percentile(tiles_df['log_frp'], 90)\n",
    "\n",
    "# make the grids\n",
    "for i, sp in enumerate(spps):\n",
    "    sp_data = tiles_df[tiles_df['species'] == sp]\n",
    "    ax = axes[i]\n",
    "\n",
    "    vmin = sp_data['frp'].min()\n",
    "    vmax = sp_data['frp'].max()\n",
    "\n",
    "    for _, row in sp_data.iterrows():\n",
    "        x = int(row[f'{sp}_bin'])  \n",
    "        y = int(row['aspen_bin'])  \n",
    "        size = row['tile_size'] * 0.9\n",
    "        \n",
    "        norm = mcolors.Normalize(vmin=vmin, vmax=vmax)\n",
    "        color = plt.cm.coolwarm(norm(row['frp']))\n",
    "        \n",
    "        ax.add_patch(\n",
    "            plt.Rectangle(\n",
    "                (x - size / 2, y - size / 2), size, size, color=color, ec='black', lw=0.5\n",
    "            )\n",
    "        )\n",
    "\n",
    "    # Formatting the axes\n",
    "    # ax.set_title(sp, size=10)\n",
    "    ax.text(\n",
    "        0.95, 0.95, sp,  # x, y position in axis coordinates (top-right corner)\n",
    "        transform=ax.transAxes,  # Use axis coordinates (0,0 is bottom-left, 1,1 is top-right)\n",
    "        ha='right', va='top',  # Align the text to the top-right\n",
    "        fontsize=10, color='black', bbox=dict(facecolor='white', edgecolor='none', boxstyle='round,pad=0.2')\n",
    "    )\n",
    "    ax.set_xlabel(f'')\n",
    "    ax.set_ylabel('Aspen Cover (%)', size=9)\n",
    "    ax.set_xticks(range(len(bins) - 1))\n",
    "    ax.set_yticks(range(len(bins) - 1))\n",
    "    ax.set_xticklabels([f'{int(b)}%' for b in bins[:-1]], size=8)\n",
    "    ax.set_yticklabels([f'{int(b)}%' for b in bins[:-1]], size=8)\n",
    "    ax.set_xlim(-0.5, len(bins) - 1.5)\n",
    "    ax.set_ylim(-0.5, len(bins) - 1.5)\n",
    "\n",
    "sm = plt.cm.ScalarMappable(cmap=plt.cm.coolwarm, norm=norm)\n",
    "cbar = fig.colorbar(sm, ax=axes, orientation='vertical', fraction=0.05, pad=0.02)\n",
    "cbar.set_label('Maximum FRP')\n",
    "# cbar.set_label('Cumulative FRP', fontsize=10)\n",
    "cbar.ax.tick_params(labelsize=8)\n",
    "\n",
    "# Remove unused axes\n",
    "for j in range(i + 1, len(axes)):\n",
    "    fig.delaxes(axes[j])\n",
    "\n",
    "del df\n",
    "\n",
    "out_plot = os.path.join(projdir, 'figures/FigureX_CoOccurring_Heatmap_FRPmax_Scaled_gp.png')\n",
    "plt.savefig(out_plot, dpi=300, bbox_inches='tight')\n",
    "\n",
    "plt.show()"
   ]
  },
  {
   "cell_type": "code",
   "execution_count": null,
   "id": "23c914f0-a9a7-4ed4-bef1-efd05f1d5c8f",
   "metadata": {},
   "outputs": [],
   "source": []
  },
  {
   "cell_type": "code",
   "execution_count": null,
   "id": "71d30530-b632-466f-8739-57ee8eff151c",
   "metadata": {},
   "outputs": [],
   "source": []
  },
  {
   "cell_type": "code",
   "execution_count": null,
   "id": "175370d8-b5a1-4306-815b-6b99e410da21",
   "metadata": {},
   "outputs": [],
   "source": []
  },
  {
   "cell_type": "markdown",
   "id": "4fdd8b97-50ef-406d-bb9e-d01e3eb06f56",
   "metadata": {},
   "source": [
    "## TreeMap Tree Table\n",
    "\n",
    "Summary of the the TreeMap Tree Table information within forested grids identified above."
   ]
  },
  {
   "cell_type": "code",
   "execution_count": 29,
   "id": "339cf9c4-6feb-4bd3-b696-e9a7d54c0f20",
   "metadata": {},
   "outputs": [
    {
     "data": {
      "text/plain": [
       "Index(['grid_index', 'grid_area', 'afd_count', 'unique_days', 'overlap',\n",
       "       'frp_csum', 'frp_max', 'frp_min', 'frp_mean', 'frp_p90', 'frp_p95',\n",
       "       'frp_p97', 'frp_p99', 'frp_first', 'day_max_frp', 'dt_max_frp',\n",
       "       'first_obs_date', 'last_obs_date', 't4_max', 't4_mean', 't5_max',\n",
       "       't5_mean', 'day_count', 'night_count', 'frp_max_day', 'frp_max_night',\n",
       "       'frp_csum_day', 'frp_csum_night', 'frp_mean_day', 'frp_mean_night',\n",
       "       'frp_p90_day', 'frp_p90_night', 'frp_p95_day', 'frp_p95_night',\n",
       "       'frp_p97_day', 'frp_p97_night', 'frp_p99_day', 'frp_p99_night',\n",
       "       'frp_first_day', 'frp_first_night', 'Fire_ID', 'Fire_Name', 'geometry',\n",
       "       'forest_pixels', 'forest_pct'],\n",
       "      dtype='object')"
      ]
     },
     "execution_count": 29,
     "metadata": {},
     "output_type": "execute_result"
    }
   ],
   "source": [
    "# Subset to forested grids before calculating the Tree Table stats\n",
    "grid_ = grid[grid['grid_index'].isin(grid_forest['grid_index'].unique())]\n",
    "grid_ = grid_.merge(grid_forest[['grid_index','forest_pixels','forest_pct']], on='grid_index', how='left')\n",
    "grid_.columns"
   ]
  },
  {
   "cell_type": "code",
   "execution_count": null,
   "id": "133ff9f1-a8eb-4918-ab14-3daf2ce599a5",
   "metadata": {},
   "outputs": [
    {
     "name": "stdout",
     "output_type": "stream",
     "text": [
      "Index(['tm_id', 'CN', 'STATUSCD', 'TPA_UNADJ', 'SPCD', 'COMMON_NAME',\n",
      "       'SCIENTIFIC_NAME', 'SPECIES_SYMBOL', 'DIA', 'HT', 'ACTUALHT', 'CR',\n",
      "       'SUBP', 'TREE', 'AGENTCD'],\n",
      "      dtype='object')\n"
     ]
    }
   ],
   "source": [
    "# get the count/proportion of unique \"tm_id\" from TreeMap in grids\n",
    "t0 = time.time()\n",
    "\n",
    "# see __functions.py\n",
    "grid_trees = compute_band_stats(grid_, tmid_da, 'grid_index', attr='tm_id')\n",
    "\n",
    "# tidy columns in the summary table\n",
    "grid_trees['count'] = grid_trees['count'].astype(int)\n",
    "grid_trees['total_pixels'] = grid_trees['total_pixels'].astype(int)\n",
    "grid_trees.rename(columns={\n",
    "    'count': 'tmid_count',\n",
    "    'pct_cover': 'tmid_pct'\n",
    "}, inplace=True)\n",
    "\n",
    "# load the TreeMap Tree Table\n",
    "fp = os.path.join(maindir,'data/landcover/USFS/RDS_TreeMap/TreeMap2016_tree_table.csv')\n",
    "tree_tbl = pd.read_csv(fp)\n",
    "print(tree_tbl.columns)\n",
    "\n",
    "# join the Tree Table to the grid data\n",
    "grid_trees = grid_trees.merge(tree_tbl, on='tm_id', how='left')\n",
    "print(f\"\\n{grid_trees.head(12)}\")\n",
    "\n",
    "t1 = (time.time() - t0) / 60\n",
    "print(f\"\\nTotal elapsed time: {t1:.2f} minutes.\")\n",
    "print(\"\\n~~~~~~~~~~\\n\")\n",
    "\n",
    "del tmid_da, tree_tbl # clean up \n",
    "gc.collect()"
   ]
  },
  {
   "cell_type": "code",
   "execution_count": 49,
   "id": "10a6d389-2d45-4fe8-a5a0-70fc813b29d5",
   "metadata": {},
   "outputs": [
    {
     "name": "stdout",
     "output_type": "stream",
     "text": [
      "   tm_id  shannon_h\n",
      "0     32   4.608039\n",
      "1   1207   5.484286\n",
      "2   1294   5.191912\n",
      "\n",
      "Index(['grid_index', 'tm_id', 'tmid_count', 'total_pixels', 'tmid_pct', 'CN',\n",
      "       'STATUSCD', 'TPA_UNADJ', 'SPCD', 'COMMON_NAME', 'SCIENTIFIC_NAME',\n",
      "       'SPECIES_SYMBOL', 'DIA', 'HT', 'ACTUALHT', 'CR', 'SUBP', 'TREE',\n",
      "       'AGENTCD', 'shannon_h'],\n",
      "      dtype='object')\n"
     ]
    },
    {
     "data": {
      "text/plain": [
       "0"
      ]
     },
     "execution_count": 49,
     "metadata": {},
     "output_type": "execute_result"
    }
   ],
   "source": [
    "# Calculate the Shannon diversity index for each tm_id\n",
    "# Using the full list of trees in the Tree Table\n",
    "# Based on total trees per tm_id and proportion\n",
    "df = grid_trees.copy()\n",
    "df['total_trees'] = df.groupby('tm_id')['TREE'].transform('sum')\n",
    "df['p_species'] = df['TREE'] / df['total_trees'] # proportion\n",
    "# Calculate Shannon diversity (H') for each tree row\n",
    "df['shannon_h'] = -df['p_species'] * np.log(df['p_species'])\n",
    "\n",
    "# Aggregate to calculate H' at the tm_id level\n",
    "shannon_tmid = (\n",
    "    df.groupby('tm_id', as_index=False)\n",
    "    .agg(shannon_h=('shannon_h', 'sum')))\n",
    "# subset columns\n",
    "shannon_tmid = shannon_tmid[['tm_id','shannon_h']]\n",
    "print(shannon_tmid.head(3))\n",
    "\n",
    "# merge back to the grid data\n",
    "grid_trees = grid_trees.merge(shannon_tmid, on='tm_id', how='left')\n",
    "print(f\"\\n{grid_trees.columns}\")\n",
    "\n",
    "del shannon_tmid, df\n",
    "gc.collect()"
   ]
  },
  {
   "cell_type": "code",
   "execution_count": 50,
   "id": "3739f114-d55d-47af-81fd-a8572393af93",
   "metadata": {},
   "outputs": [
    {
     "ename": "KeyError",
     "evalue": "\"Column(s) ['forest_pct', 'forest_pixels'] do not exist\"",
     "output_type": "error",
     "traceback": [
      "\u001b[0;31m---------------------------------------------------------------------------\u001b[0m",
      "\u001b[0;31mKeyError\u001b[0m                                  Traceback (most recent call last)",
      "Cell \u001b[0;32mIn[50], line 23\u001b[0m\n\u001b[1;32m     15\u001b[0m grid_trees[\u001b[38;5;124m'\u001b[39m\u001b[38;5;124mBA_TPAsc\u001b[39m\u001b[38;5;124m'\u001b[39m] \u001b[38;5;241m=\u001b[39m grid_trees[\u001b[38;5;124m'\u001b[39m\u001b[38;5;124mBA\u001b[39m\u001b[38;5;124m'\u001b[39m] \u001b[38;5;241m*\u001b[39m grid_trees[\u001b[38;5;124m'\u001b[39m\u001b[38;5;124mtree_tpa\u001b[39m\u001b[38;5;124m'\u001b[39m]  \u001b[38;5;66;03m# adjust based on tree abundance\u001b[39;00m\n\u001b[1;32m     17\u001b[0m \u001b[38;5;66;03m# group by grid_index and plot identifier (tm_id)\u001b[39;00m\n\u001b[1;32m     18\u001b[0m \u001b[38;5;66;03m# calculate statistics for live/dead seperately\u001b[39;00m\n\u001b[1;32m     19\u001b[0m \u001b[38;5;66;03m# merge into a single dataframe\u001b[39;00m\n\u001b[1;32m     20\u001b[0m \n\u001b[1;32m     21\u001b[0m \u001b[38;5;66;03m# live trees\u001b[39;00m\n\u001b[1;32m     22\u001b[0m live_metrics \u001b[38;5;241m=\u001b[39m (\n\u001b[0;32m---> 23\u001b[0m     \u001b[43mgrid_trees\u001b[49m\u001b[43m[\u001b[49m\u001b[43mgrid_trees\u001b[49m\u001b[43m[\u001b[49m\u001b[38;5;124;43m'\u001b[39;49m\u001b[38;5;124;43mlive_dead\u001b[39;49m\u001b[38;5;124;43m'\u001b[39;49m\u001b[43m]\u001b[49m\u001b[43m \u001b[49m\u001b[38;5;241;43m==\u001b[39;49m\u001b[43m \u001b[49m\u001b[38;5;241;43m1\u001b[39;49m\u001b[43m]\u001b[49m\n\u001b[1;32m     24\u001b[0m \u001b[43m    \u001b[49m\u001b[38;5;241;43m.\u001b[39;49m\u001b[43mgroupby\u001b[49m\u001b[43m(\u001b[49m\u001b[43m[\u001b[49m\u001b[38;5;124;43m'\u001b[39;49m\u001b[38;5;124;43mgrid_index\u001b[39;49m\u001b[38;5;124;43m'\u001b[39;49m\u001b[43m,\u001b[49m\u001b[43m \u001b[49m\u001b[38;5;124;43m'\u001b[39;49m\u001b[38;5;124;43mtm_id\u001b[39;49m\u001b[38;5;124;43m'\u001b[39;49m\u001b[43m,\u001b[49m\u001b[43m \u001b[49m\u001b[38;5;124;43m'\u001b[39;49m\u001b[38;5;124;43mspecies\u001b[39;49m\u001b[38;5;124;43m'\u001b[39;49m\u001b[43m]\u001b[49m\u001b[43m,\u001b[49m\u001b[43m \u001b[49m\u001b[43mas_index\u001b[49m\u001b[38;5;241;43m=\u001b[39;49m\u001b[38;5;28;43;01mFalse\u001b[39;49;00m\u001b[43m)\u001b[49m\n\u001b[1;32m     25\u001b[0m \u001b[43m    \u001b[49m\u001b[38;5;241;43m.\u001b[39;49m\u001b[43magg\u001b[49m\u001b[43m(\u001b[49m\n\u001b[1;32m     26\u001b[0m \u001b[43m        \u001b[49m\u001b[43mtmid_pixels\u001b[49m\u001b[38;5;241;43m=\u001b[39;49m\u001b[43m(\u001b[49m\u001b[38;5;124;43m'\u001b[39;49m\u001b[38;5;124;43mtmid_count\u001b[39;49m\u001b[38;5;124;43m'\u001b[39;49m\u001b[43m,\u001b[49m\u001b[38;5;124;43m'\u001b[39;49m\u001b[38;5;124;43mmax\u001b[39;49m\u001b[38;5;124;43m'\u001b[39;49m\u001b[43m)\u001b[49m\u001b[43m,\u001b[49m\u001b[43m \u001b[49m\u001b[38;5;66;43;03m# retains the tm_id pixel count\u001b[39;49;00m\n\u001b[1;32m     27\u001b[0m \u001b[43m        \u001b[49m\u001b[43mtmid_pct\u001b[49m\u001b[38;5;241;43m=\u001b[39;49m\u001b[43m(\u001b[49m\u001b[38;5;124;43m'\u001b[39;49m\u001b[38;5;124;43mtmid_pct\u001b[39;49m\u001b[38;5;124;43m'\u001b[39;49m\u001b[43m,\u001b[49m\u001b[38;5;124;43m'\u001b[39;49m\u001b[38;5;124;43mmax\u001b[39;49m\u001b[38;5;124;43m'\u001b[39;49m\u001b[43m)\u001b[49m\u001b[43m,\u001b[49m\u001b[43m \u001b[49m\u001b[38;5;66;43;03m# retain the percent of forested area\u001b[39;49;00m\n\u001b[1;32m     28\u001b[0m \u001b[43m        \u001b[49m\u001b[43mforest_pixels\u001b[49m\u001b[38;5;241;43m=\u001b[39;49m\u001b[43m(\u001b[49m\u001b[38;5;124;43m'\u001b[39;49m\u001b[38;5;124;43mforest_pixels\u001b[39;49m\u001b[38;5;124;43m'\u001b[39;49m\u001b[43m,\u001b[49m\u001b[38;5;124;43m'\u001b[39;49m\u001b[38;5;124;43mmax\u001b[39;49m\u001b[38;5;124;43m'\u001b[39;49m\u001b[43m)\u001b[49m\u001b[43m,\u001b[49m\u001b[43m \u001b[49m\u001b[38;5;66;43;03m# retain forest pixel count\u001b[39;49;00m\n\u001b[1;32m     29\u001b[0m \u001b[43m        \u001b[49m\u001b[43mforest_pct\u001b[49m\u001b[38;5;241;43m=\u001b[39;49m\u001b[43m(\u001b[49m\u001b[38;5;124;43m'\u001b[39;49m\u001b[38;5;124;43mforest_pct\u001b[39;49m\u001b[38;5;124;43m'\u001b[39;49m\u001b[43m,\u001b[49m\u001b[38;5;124;43m'\u001b[39;49m\u001b[38;5;124;43mmax\u001b[39;49m\u001b[38;5;124;43m'\u001b[39;49m\u001b[43m)\u001b[49m\u001b[43m,\u001b[49m\u001b[43m \u001b[49m\u001b[38;5;66;43;03m# retain forest percent for the grid\u001b[39;49;00m\n\u001b[1;32m     30\u001b[0m \u001b[43m        \u001b[49m\u001b[43mshannon_h\u001b[49m\u001b[38;5;241;43m=\u001b[39;49m\u001b[43m(\u001b[49m\u001b[38;5;124;43m'\u001b[39;49m\u001b[38;5;124;43mshannon_h\u001b[39;49m\u001b[38;5;124;43m'\u001b[39;49m\u001b[43m,\u001b[49m\u001b[38;5;124;43m'\u001b[39;49m\u001b[38;5;124;43mmax\u001b[39;49m\u001b[38;5;124;43m'\u001b[39;49m\u001b[43m)\u001b[49m\u001b[43m,\u001b[49m\u001b[43m \u001b[49m\u001b[38;5;66;43;03m# retains the tm_id shannon index\u001b[39;49;00m\n\u001b[1;32m     31\u001b[0m \u001b[43m        \u001b[49m\u001b[43mbalive\u001b[49m\u001b[38;5;241;43m=\u001b[39;49m\u001b[43m(\u001b[49m\u001b[38;5;124;43m'\u001b[39;49m\u001b[38;5;124;43mBA_TPAsc\u001b[39;49m\u001b[38;5;124;43m'\u001b[39;49m\u001b[43m,\u001b[49m\u001b[43m \u001b[49m\u001b[38;5;124;43m'\u001b[39;49m\u001b[38;5;124;43msum\u001b[39;49m\u001b[38;5;124;43m'\u001b[39;49m\u001b[43m)\u001b[49m\u001b[43m,\u001b[49m\u001b[43m    \u001b[49m\u001b[38;5;66;43;03m# total BALIVE\u001b[39;49;00m\n\u001b[1;32m     32\u001b[0m \u001b[43m        \u001b[49m\u001b[43mtpa_live\u001b[49m\u001b[38;5;241;43m=\u001b[39;49m\u001b[43m(\u001b[49m\u001b[38;5;124;43m'\u001b[39;49m\u001b[38;5;124;43mtree_tpa\u001b[39;49m\u001b[38;5;124;43m'\u001b[39;49m\u001b[43m,\u001b[49m\u001b[43m \u001b[49m\u001b[38;5;124;43m'\u001b[39;49m\u001b[38;5;124;43msum\u001b[39;49m\u001b[38;5;124;43m'\u001b[39;49m\u001b[43m)\u001b[49m\u001b[43m,\u001b[49m\u001b[43m  \u001b[49m\u001b[38;5;66;43;03m# total live tree count (trees/acre)\u001b[39;49;00m\n\u001b[1;32m     33\u001b[0m \u001b[43m        \u001b[49m\u001b[43mtree_ht_live\u001b[49m\u001b[38;5;241;43m=\u001b[39;49m\u001b[43m(\u001b[49m\u001b[38;5;124;43m'\u001b[39;49m\u001b[38;5;124;43mACTUALHT\u001b[39;49m\u001b[38;5;124;43m'\u001b[39;49m\u001b[43m,\u001b[49m\u001b[38;5;124;43m'\u001b[39;49m\u001b[38;5;124;43mmean\u001b[39;49m\u001b[38;5;124;43m'\u001b[39;49m\u001b[43m)\u001b[49m\u001b[43m \u001b[49m\u001b[38;5;66;43;03m# average tree height\u001b[39;49;00m\n\u001b[1;32m     34\u001b[0m \u001b[43m    \u001b[49m\u001b[43m)\u001b[49m\n\u001b[1;32m     35\u001b[0m )\n\u001b[1;32m     37\u001b[0m \u001b[38;5;66;03m# dead trees\u001b[39;00m\n\u001b[1;32m     38\u001b[0m dead_metrics \u001b[38;5;241m=\u001b[39m (\n\u001b[1;32m     39\u001b[0m     grid_trees[grid_trees[\u001b[38;5;124m'\u001b[39m\u001b[38;5;124mlive_dead\u001b[39m\u001b[38;5;124m'\u001b[39m] \u001b[38;5;241m==\u001b[39m \u001b[38;5;241m0\u001b[39m]\n\u001b[1;32m     40\u001b[0m     \u001b[38;5;241m.\u001b[39mgroupby([\u001b[38;5;124m'\u001b[39m\u001b[38;5;124mgrid_index\u001b[39m\u001b[38;5;124m'\u001b[39m, \u001b[38;5;124m'\u001b[39m\u001b[38;5;124mtm_id\u001b[39m\u001b[38;5;124m'\u001b[39m, \u001b[38;5;124m'\u001b[39m\u001b[38;5;124mspecies\u001b[39m\u001b[38;5;124m'\u001b[39m], as_index\u001b[38;5;241m=\u001b[39m\u001b[38;5;28;01mFalse\u001b[39;00m)\n\u001b[0;32m   (...)\u001b[0m\n\u001b[1;32m     45\u001b[0m     )\n\u001b[1;32m     46\u001b[0m )\n",
      "File \u001b[0;32m/opt/miniconda3/envs/aspen-fire/lib/python3.10/site-packages/pandas/core/groupby/generic.py:1432\u001b[0m, in \u001b[0;36mDataFrameGroupBy.aggregate\u001b[0;34m(self, func, engine, engine_kwargs, *args, **kwargs)\u001b[0m\n\u001b[1;32m   1429\u001b[0m     kwargs[\u001b[38;5;124m\"\u001b[39m\u001b[38;5;124mengine_kwargs\u001b[39m\u001b[38;5;124m\"\u001b[39m] \u001b[38;5;241m=\u001b[39m engine_kwargs\n\u001b[1;32m   1431\u001b[0m op \u001b[38;5;241m=\u001b[39m GroupByApply(\u001b[38;5;28mself\u001b[39m, func, args\u001b[38;5;241m=\u001b[39margs, kwargs\u001b[38;5;241m=\u001b[39mkwargs)\n\u001b[0;32m-> 1432\u001b[0m result \u001b[38;5;241m=\u001b[39m \u001b[43mop\u001b[49m\u001b[38;5;241;43m.\u001b[39;49m\u001b[43magg\u001b[49m\u001b[43m(\u001b[49m\u001b[43m)\u001b[49m\n\u001b[1;32m   1433\u001b[0m \u001b[38;5;28;01mif\u001b[39;00m \u001b[38;5;129;01mnot\u001b[39;00m is_dict_like(func) \u001b[38;5;129;01mand\u001b[39;00m result \u001b[38;5;129;01mis\u001b[39;00m \u001b[38;5;129;01mnot\u001b[39;00m \u001b[38;5;28;01mNone\u001b[39;00m:\n\u001b[1;32m   1434\u001b[0m     \u001b[38;5;66;03m# GH #52849\u001b[39;00m\n\u001b[1;32m   1435\u001b[0m     \u001b[38;5;28;01mif\u001b[39;00m \u001b[38;5;129;01mnot\u001b[39;00m \u001b[38;5;28mself\u001b[39m\u001b[38;5;241m.\u001b[39mas_index \u001b[38;5;129;01mand\u001b[39;00m is_list_like(func):\n",
      "File \u001b[0;32m/opt/miniconda3/envs/aspen-fire/lib/python3.10/site-packages/pandas/core/apply.py:190\u001b[0m, in \u001b[0;36mApply.agg\u001b[0;34m(self)\u001b[0m\n\u001b[1;32m    187\u001b[0m     \u001b[38;5;28;01mreturn\u001b[39;00m \u001b[38;5;28mself\u001b[39m\u001b[38;5;241m.\u001b[39mapply_str()\n\u001b[1;32m    189\u001b[0m \u001b[38;5;28;01mif\u001b[39;00m is_dict_like(func):\n\u001b[0;32m--> 190\u001b[0m     \u001b[38;5;28;01mreturn\u001b[39;00m \u001b[38;5;28;43mself\u001b[39;49m\u001b[38;5;241;43m.\u001b[39;49m\u001b[43magg_dict_like\u001b[49m\u001b[43m(\u001b[49m\u001b[43m)\u001b[49m\n\u001b[1;32m    191\u001b[0m \u001b[38;5;28;01melif\u001b[39;00m is_list_like(func):\n\u001b[1;32m    192\u001b[0m     \u001b[38;5;66;03m# we require a list, but not a 'str'\u001b[39;00m\n\u001b[1;32m    193\u001b[0m     \u001b[38;5;28;01mreturn\u001b[39;00m \u001b[38;5;28mself\u001b[39m\u001b[38;5;241m.\u001b[39magg_list_like()\n",
      "File \u001b[0;32m/opt/miniconda3/envs/aspen-fire/lib/python3.10/site-packages/pandas/core/apply.py:423\u001b[0m, in \u001b[0;36mApply.agg_dict_like\u001b[0;34m(self)\u001b[0m\n\u001b[1;32m    415\u001b[0m \u001b[38;5;28;01mdef\u001b[39;00m \u001b[38;5;21magg_dict_like\u001b[39m(\u001b[38;5;28mself\u001b[39m) \u001b[38;5;241m-\u001b[39m\u001b[38;5;241m>\u001b[39m DataFrame \u001b[38;5;241m|\u001b[39m Series:\n\u001b[1;32m    416\u001b[0m \u001b[38;5;250m    \u001b[39m\u001b[38;5;124;03m\"\"\"\u001b[39;00m\n\u001b[1;32m    417\u001b[0m \u001b[38;5;124;03m    Compute aggregation in the case of a dict-like argument.\u001b[39;00m\n\u001b[1;32m    418\u001b[0m \n\u001b[0;32m   (...)\u001b[0m\n\u001b[1;32m    421\u001b[0m \u001b[38;5;124;03m    Result of aggregation.\u001b[39;00m\n\u001b[1;32m    422\u001b[0m \u001b[38;5;124;03m    \"\"\"\u001b[39;00m\n\u001b[0;32m--> 423\u001b[0m     \u001b[38;5;28;01mreturn\u001b[39;00m \u001b[38;5;28;43mself\u001b[39;49m\u001b[38;5;241;43m.\u001b[39;49m\u001b[43magg_or_apply_dict_like\u001b[49m\u001b[43m(\u001b[49m\u001b[43mop_name\u001b[49m\u001b[38;5;241;43m=\u001b[39;49m\u001b[38;5;124;43m\"\u001b[39;49m\u001b[38;5;124;43magg\u001b[39;49m\u001b[38;5;124;43m\"\u001b[39;49m\u001b[43m)\u001b[49m\n",
      "File \u001b[0;32m/opt/miniconda3/envs/aspen-fire/lib/python3.10/site-packages/pandas/core/apply.py:1608\u001b[0m, in \u001b[0;36mGroupByApply.agg_or_apply_dict_like\u001b[0;34m(self, op_name)\u001b[0m\n\u001b[1;32m   1603\u001b[0m     kwargs\u001b[38;5;241m.\u001b[39mupdate({\u001b[38;5;124m\"\u001b[39m\u001b[38;5;124mengine\u001b[39m\u001b[38;5;124m\"\u001b[39m: engine, \u001b[38;5;124m\"\u001b[39m\u001b[38;5;124mengine_kwargs\u001b[39m\u001b[38;5;124m\"\u001b[39m: engine_kwargs})\n\u001b[1;32m   1605\u001b[0m \u001b[38;5;28;01mwith\u001b[39;00m com\u001b[38;5;241m.\u001b[39mtemp_setattr(\n\u001b[1;32m   1606\u001b[0m     obj, \u001b[38;5;124m\"\u001b[39m\u001b[38;5;124mas_index\u001b[39m\u001b[38;5;124m\"\u001b[39m, \u001b[38;5;28;01mTrue\u001b[39;00m, condition\u001b[38;5;241m=\u001b[39m\u001b[38;5;28mhasattr\u001b[39m(obj, \u001b[38;5;124m\"\u001b[39m\u001b[38;5;124mas_index\u001b[39m\u001b[38;5;124m\"\u001b[39m)\n\u001b[1;32m   1607\u001b[0m ):\n\u001b[0;32m-> 1608\u001b[0m     result_index, result_data \u001b[38;5;241m=\u001b[39m \u001b[38;5;28;43mself\u001b[39;49m\u001b[38;5;241;43m.\u001b[39;49m\u001b[43mcompute_dict_like\u001b[49m\u001b[43m(\u001b[49m\n\u001b[1;32m   1609\u001b[0m \u001b[43m        \u001b[49m\u001b[43mop_name\u001b[49m\u001b[43m,\u001b[49m\u001b[43m \u001b[49m\u001b[43mselected_obj\u001b[49m\u001b[43m,\u001b[49m\u001b[43m \u001b[49m\u001b[43mselection\u001b[49m\u001b[43m,\u001b[49m\u001b[43m \u001b[49m\u001b[43mkwargs\u001b[49m\n\u001b[1;32m   1610\u001b[0m \u001b[43m    \u001b[49m\u001b[43m)\u001b[49m\n\u001b[1;32m   1611\u001b[0m result \u001b[38;5;241m=\u001b[39m \u001b[38;5;28mself\u001b[39m\u001b[38;5;241m.\u001b[39mwrap_results_dict_like(selected_obj, result_index, result_data)\n\u001b[1;32m   1612\u001b[0m \u001b[38;5;28;01mreturn\u001b[39;00m result\n",
      "File \u001b[0;32m/opt/miniconda3/envs/aspen-fire/lib/python3.10/site-packages/pandas/core/apply.py:462\u001b[0m, in \u001b[0;36mApply.compute_dict_like\u001b[0;34m(self, op_name, selected_obj, selection, kwargs)\u001b[0m\n\u001b[1;32m    460\u001b[0m is_groupby \u001b[38;5;241m=\u001b[39m \u001b[38;5;28misinstance\u001b[39m(obj, (DataFrameGroupBy, SeriesGroupBy))\n\u001b[1;32m    461\u001b[0m func \u001b[38;5;241m=\u001b[39m cast(AggFuncTypeDict, \u001b[38;5;28mself\u001b[39m\u001b[38;5;241m.\u001b[39mfunc)\n\u001b[0;32m--> 462\u001b[0m func \u001b[38;5;241m=\u001b[39m \u001b[38;5;28;43mself\u001b[39;49m\u001b[38;5;241;43m.\u001b[39;49m\u001b[43mnormalize_dictlike_arg\u001b[49m\u001b[43m(\u001b[49m\u001b[43mop_name\u001b[49m\u001b[43m,\u001b[49m\u001b[43m \u001b[49m\u001b[43mselected_obj\u001b[49m\u001b[43m,\u001b[49m\u001b[43m \u001b[49m\u001b[43mfunc\u001b[49m\u001b[43m)\u001b[49m\n\u001b[1;32m    464\u001b[0m is_non_unique_col \u001b[38;5;241m=\u001b[39m (\n\u001b[1;32m    465\u001b[0m     selected_obj\u001b[38;5;241m.\u001b[39mndim \u001b[38;5;241m==\u001b[39m \u001b[38;5;241m2\u001b[39m\n\u001b[1;32m    466\u001b[0m     \u001b[38;5;129;01mand\u001b[39;00m selected_obj\u001b[38;5;241m.\u001b[39mcolumns\u001b[38;5;241m.\u001b[39mnunique() \u001b[38;5;241m<\u001b[39m \u001b[38;5;28mlen\u001b[39m(selected_obj\u001b[38;5;241m.\u001b[39mcolumns)\n\u001b[1;32m    467\u001b[0m )\n\u001b[1;32m    469\u001b[0m \u001b[38;5;28;01mif\u001b[39;00m selected_obj\u001b[38;5;241m.\u001b[39mndim \u001b[38;5;241m==\u001b[39m \u001b[38;5;241m1\u001b[39m:\n\u001b[1;32m    470\u001b[0m     \u001b[38;5;66;03m# key only used for output\u001b[39;00m\n",
      "File \u001b[0;32m/opt/miniconda3/envs/aspen-fire/lib/python3.10/site-packages/pandas/core/apply.py:663\u001b[0m, in \u001b[0;36mApply.normalize_dictlike_arg\u001b[0;34m(self, how, obj, func)\u001b[0m\n\u001b[1;32m    661\u001b[0m     cols \u001b[38;5;241m=\u001b[39m Index(\u001b[38;5;28mlist\u001b[39m(func\u001b[38;5;241m.\u001b[39mkeys()))\u001b[38;5;241m.\u001b[39mdifference(obj\u001b[38;5;241m.\u001b[39mcolumns, sort\u001b[38;5;241m=\u001b[39m\u001b[38;5;28;01mTrue\u001b[39;00m)\n\u001b[1;32m    662\u001b[0m     \u001b[38;5;28;01mif\u001b[39;00m \u001b[38;5;28mlen\u001b[39m(cols) \u001b[38;5;241m>\u001b[39m \u001b[38;5;241m0\u001b[39m:\n\u001b[0;32m--> 663\u001b[0m         \u001b[38;5;28;01mraise\u001b[39;00m \u001b[38;5;167;01mKeyError\u001b[39;00m(\u001b[38;5;124mf\u001b[39m\u001b[38;5;124m\"\u001b[39m\u001b[38;5;124mColumn(s) \u001b[39m\u001b[38;5;132;01m{\u001b[39;00m\u001b[38;5;28mlist\u001b[39m(cols)\u001b[38;5;132;01m}\u001b[39;00m\u001b[38;5;124m do not exist\u001b[39m\u001b[38;5;124m\"\u001b[39m)\n\u001b[1;32m    665\u001b[0m aggregator_types \u001b[38;5;241m=\u001b[39m (\u001b[38;5;28mlist\u001b[39m, \u001b[38;5;28mtuple\u001b[39m, \u001b[38;5;28mdict\u001b[39m)\n\u001b[1;32m    667\u001b[0m \u001b[38;5;66;03m# if we have a dict of any non-scalars\u001b[39;00m\n\u001b[1;32m    668\u001b[0m \u001b[38;5;66;03m# eg. {'A' : ['mean']}, normalize all to\u001b[39;00m\n\u001b[1;32m    669\u001b[0m \u001b[38;5;66;03m# be list-likes\u001b[39;00m\n\u001b[1;32m    670\u001b[0m \u001b[38;5;66;03m# Cannot use func.values() because arg may be a Series\u001b[39;00m\n",
      "\u001b[0;31mKeyError\u001b[0m: \"Column(s) ['forest_pct', 'forest_pixels'] do not exist\""
     ]
    }
   ],
   "source": [
    "# Calculate the Tree Table statistics across tm_id/grid_index combinations\n",
    "#### Abundance (trees/acre, scaled to per-pixel)\n",
    "#### Dominance (live basal area, scaled to per-pixel)\n",
    "#### Tree height (average/species)\n",
    "\n",
    "# force species name to lower case\n",
    "grid_trees.rename(columns={'COMMON_NAME': 'species'}, inplace=True)\n",
    "grid_trees['species'] = grid_trees['species'].str.lower()\n",
    "# tidy the live/dead column\n",
    "grid_trees['live_dead'] = (grid_trees['STATUSCD'] == 1).astype(int)\n",
    "# calculate the trees per acre, scaling by the acre/pixel factor\n",
    "grid_trees['tree_tpa'] = (grid_trees['TREE'] * grid_trees['TPA_UNADJ']) * 0.222395 # trees/pixel\n",
    "# calculate live basal area (balive) scaled by TPA\n",
    "grid_trees['BA'] = np.pi * (grid_trees['DIA'] / 2) ** 2  # Basal area in square feet\n",
    "grid_trees['BA_TPAsc'] = grid_trees['BA'] * grid_trees['tree_tpa']  # adjust based on tree abundance\n",
    "\n",
    "# group by grid_index and plot identifier (tm_id)\n",
    "# calculate statistics for live/dead seperately\n",
    "# merge into a single dataframe\n",
    "\n",
    "# live trees\n",
    "live_metrics = (\n",
    "    grid_trees[grid_trees['live_dead'] == 1]\n",
    "    .groupby(['grid_index', 'tm_id', 'species'], as_index=False)\n",
    "    .agg(\n",
    "        tmid_pixels=('tmid_count','max'), # retains the tm_id pixel count\n",
    "        tmid_pct=('tmid_pct','max'), # retain the percent of forested area\n",
    "        forest_pixels=('forest_pixels','max'), # retain forest pixel count\n",
    "        forest_pct=('forest_pct','max'), # retain forest percent for the grid\n",
    "        shannon_h=('shannon_h','max'), # retains the tm_id shannon index\n",
    "        balive=('BA_TPAsc', 'sum'),    # total BALIVE\n",
    "        tpa_live=('tree_tpa', 'sum'),  # total live tree count (trees/acre)\n",
    "        tree_ht_live=('ACTUALHT','mean') # average tree height\n",
    "    )\n",
    ")\n",
    "\n",
    "# dead trees\n",
    "dead_metrics = (\n",
    "    grid_trees[grid_trees['live_dead'] == 0]\n",
    "    .groupby(['grid_index', 'tm_id', 'species'], as_index=False)\n",
    "    .agg(\n",
    "        badead=('BA_TPAsc', 'sum'),    # Live basal area\n",
    "        tpa_dead=('tree_tpa', 'sum'),  # Total live tree count (trees/acre)\n",
    "        tree_ht_dead=('ACTUALHT','mean') # average tree height\n",
    "    )\n",
    ")\n",
    "\n",
    "# combine live/dead balive\n",
    "tree_metrics = live_metrics.merge(\n",
    "    dead_metrics, \n",
    "    on=['grid_index', 'tm_id', 'species'], \n",
    "    how='outer'\n",
    ").fillna(0)\n",
    "# total acres for the tm_id (pixels * conversion factor)\n",
    "tree_metrics['tmid_acres'] =  tree_metrics['tmid_pixels'] * 0.222395 \n",
    "# subset to the tree metric columns\n",
    "tree_metrics = tree_metrics[['grid_index','tm_id','tmid_pixels','tmid_acres',\n",
    "                             'tmid_pct','forest_pct','species','shannon_h',\n",
    "                             'balive','badead','tpa_live','tpa_dead',\n",
    "                             'tree_ht_live','tree_ht_dead']]\n",
    "\n",
    "# Add a \"combined TPA\" (live + dead)\n",
    "# this may be important for lodgepole and spruce-fir in particular (beetle-kill)\n",
    "tree_metrics['tpa_ld'] = tree_metrics['tpa_live'] + tree_metrics['tpa_dead']\n",
    "tree_metrics['ba_ld'] = tree_metrics['balive'] + tree_metrics['badead']\n",
    "\n",
    "print(f\"\\n{tree_metrics.head(12)}\")\n",
    "del live_metrics, dead_metrics, grid_trees\n",
    "gc.collect()"
   ]
  },
  {
   "cell_type": "code",
   "execution_count": null,
   "id": "65f6f93a-a69d-4a9b-b98c-d4f1442fb504",
   "metadata": {},
   "outputs": [],
   "source": [
    "# drop rows with 0 tm_id\n",
    "tree_metrics = tree_metrics[tree_metrics['tmid_pixels'] != 0]"
   ]
  },
  {
   "cell_type": "code",
   "execution_count": null,
   "id": "e4d2c733-4373-47c4-9d36-985a21f47e7c",
   "metadata": {},
   "outputs": [],
   "source": [
    "unique_spp = tree_metrics['species'].unique()\n",
    "unique_spp"
   ]
  },
  {
   "cell_type": "code",
   "execution_count": null,
   "id": "b3b718c5-ad1c-44b6-9af9-0bba8e2cac69",
   "metadata": {},
   "outputs": [],
   "source": [
    "[s for s in unique_spp if 'pine' in str(s).lower()] # check pine species"
   ]
  },
  {
   "cell_type": "code",
   "execution_count": null,
   "id": "eff6f13a-d0c4-4ccc-8bb3-ac1a895b0eff",
   "metadata": {},
   "outputs": [],
   "source": [
    "# Identify the primary species from the Tree Table\n",
    "# identify the species which make up 97% of landscape\n",
    "spp_pr = (\n",
    "    tree_metrics.groupby('species', as_index=False)\n",
    "    .agg(\n",
    "        balive=('balive', 'sum'),\n",
    "        ba_ld=('ba_ld', 'sum'),\n",
    "        tpa_live=('tpa_live', 'sum'),\n",
    "        tpa_ld=('tpa_ld', 'sum') # live+dead\n",
    "    )\n",
    ")\n",
    "# calculate the fractions for both BALIVE and TPA\n",
    "spp_pr['balive_f'] = spp_pr['balive'] / spp_pr['balive'].sum()\n",
    "spp_pr['ba_ld_f'] = spp_pr['ba_ld'] / spp_pr['ba_ld'].sum() # live+dead\n",
    "spp_pr['tpa_live_f'] = spp_pr['tpa_live'] / spp_pr['tpa_live'].sum()\n",
    "spp_pr['tpa_ld_f'] = spp_pr['tpa_ld'] / spp_pr['tpa_ld'].sum() # live+dead\n",
    "# sort values and gather the primary species\n",
    "spp_pr = spp_pr.sort_values(by='ba_ld_f', ascending=False)\n",
    "# which species make up 97% of observations?\n",
    "spp_pr['balive_f_csum'] = spp_pr['balive_f'].cumsum()\n",
    "spp_pr['ba_ld_f_csum'] = spp_pr['ba_ld_f'].cumsum() # live+dead\n",
    "spp_pr['tpa_live_f_csum'] = spp_pr['tpa_live_f'].cumsum()\n",
    "spp_pr['tpa_ld_f_csum'] = spp_pr['tpa_ld_f'].cumsum() # live+dead\n",
    "\n",
    "metric = 'ba_ld_f_csum'\n",
    "top_species = spp_pr[spp_pr[metric] <= 0.99]\n",
    "print(f\"\\nSpecies making up 97% of *{metric}*: \\n\\n{top_species[['species','ba_ld','tpa_ld']]}\\n\\n\")\n",
    "\n",
    "del spp_pr\n",
    "gc.collect()"
   ]
  },
  {
   "cell_type": "code",
   "execution_count": null,
   "id": "4c040682-cbbe-4886-89a1-b6ce9cbcbe78",
   "metadata": {},
   "outputs": [],
   "source": [
    "# Assess the species co-occurrence matrix to look for natural groupings\n",
    "# Tests the \"commonness\" of species pairings\n",
    "# Particularly, what to do with the \"mixed conifers\"\n",
    "from itertools import combinations\n",
    "from collections import Counter\n",
    "\n",
    "# 1. Filter Tree Table to relevant species (most common)\n",
    "spp_filter = ['white fir', 'grand fir', 'douglas-fir', 'engelmann spruce', 'subalpine fir', 'western larch']\n",
    "top_spp_df = tree_metrics[tree_metrics['species'].str.lower().isin(spp_filter)]\n",
    "# 2. Group species by tm_id\n",
    "spp_tmid = (\n",
    "    top_spp_df.groupby('tm_id')['species']\n",
    "    .apply(lambda x: list(x.str.lower().unique()))  # Get unique species per tm_id\n",
    "    .reset_index()\n",
    ")\n",
    "# 3. Generate all pairwise species combinations per tm_id\n",
    "species_pairs = spp_tmid['species'].apply(\n",
    "    lambda species_list: list(combinations(sorted(species_list), 2))\n",
    ")\n",
    "# Flatten list of all pairs\n",
    "all_pairs = [pair for sublist in species_pairs for pair in sublist]\n",
    "# 4. Count co-occurrences of each pair\n",
    "pair_counts = Counter(all_pairs)\n",
    "# Convert to DataFrame\n",
    "pair_counts_df = (\n",
    "    pd.DataFrame(pair_counts.items(), columns=['species_pair', 'coo_count'])\n",
    "    .sort_values(by='coo_count', ascending=False)\n",
    ")\n",
    "# 5. Calculate co-occurrence percentage\n",
    "total_tmid = len(spp_tmid)\n",
    "pair_counts_df['coo_pct'] = pair_counts_df['coo_count'] / total_tmid * 100\n",
    "\n",
    "# Inspect results\n",
    "print(f\"\\n{pair_counts_df.head(30)}\")\n",
    "\n",
    "del spp_tmid, top_spp_df, species_pairs, pair_counts, pair_counts_df\n",
    "gc.collect()"
   ]
  },
  {
   "cell_type": "code",
   "execution_count": null,
   "id": "52f17ffb-dc8f-4a7d-aa14-e110d8ca1bb7",
   "metadata": {},
   "outputs": [],
   "source": [
    "# Aggregate species into forest groups\n",
    "# These groups represent common pairings for the Southern Rockies\n",
    "spp_grouping = {\n",
    "    'pinyon|juniper': 'pinon-juniper',\n",
    "    'engelmann spruce|subalpine fir|corkbark fir': 'spruce-fir',\n",
    "    'limber|bristlecone|whitebark': 'subalpine-pine',\n",
    "    'ponderosa pine|Jeffrey': 'ponderosa', \n",
    "    'lodgepole pine': 'lodgepole',\n",
    "    'aspen': 'quaking aspen',\n",
    "    'douglas-fir|grand fir|white fir|larch|cedar': 'mixed-conifer',\n",
    "    'oak': 'oak-woodland',\n",
    "    'cottonwood|willow': 'woody-riparian'\n",
    "}\n",
    "\n",
    "spp_remap = {} # dictionary to store the remap values\n",
    "# Iterate over groups to create the species remap dictionary\n",
    "for keywords, spp_group in spp_grouping.items():\n",
    "    # Find species matching the keywords\n",
    "    spp = tree_metrics[tree_metrics['species'].str.contains(keywords, case=False, na=False)]\n",
    "    # Add matching species to the remap dictionary\n",
    "    spp_remap.update({name: spp_group for name in spp['species'].unique()})\n",
    "\n",
    "# Apply the remap to create a new grouped species column\n",
    "tree_metrics['species_gp_n'] = tree_metrics['species'].map(spp_remap).fillna(tree_metrics['species'])\n",
    "# Verify the updated species groups\n",
    "print(tree_metrics[['species', 'species_gp_n']].drop_duplicates().head(10))\n",
    "print(f\"\\n{tree_metrics.columns}\")"
   ]
  },
  {
   "cell_type": "code",
   "execution_count": null,
   "id": "f5554c05-53bf-4c68-bdf7-6f0e80ee075b",
   "metadata": {},
   "outputs": [],
   "source": [
    "# re-aggregate the TreeMap characteristics by FRP grid/species combinations\n",
    "# summarizes forest metrics by individual species present in the grid cell\n",
    "# now, summarizes against the new forest groups made above\n",
    "grid_tm = (\n",
    "    tree_metrics.groupby(\n",
    "        ['grid_index', 'species_gp_n'], as_index=False\n",
    "    ).agg(\n",
    "        tmid_n=('tm_id', 'nunique'), # number of unique tm_id contributing\n",
    "        forest_pct=('forest_pct','max'), # retains the forest pixel count for the grid\n",
    "        shannon_h=('shannon_h','mean'),\n",
    "        balive=('balive', 'sum'),\n",
    "        badead=('badead', 'sum'), \n",
    "        ba_ld=('ba_ld', 'sum'),\n",
    "        tpa_live=('tpa_live', 'sum'),  \n",
    "        tpa_dead=('tpa_dead', 'sum'),\n",
    "        tpa_ld=('tpa_ld', 'sum'),\n",
    "        tree_ht_live=('tree_ht_live', 'mean'),\n",
    "        tree_ht_dead=('tree_ht_dead', 'mean')\n",
    "    )\n",
    ")\n",
    "\n",
    "# Check results\n",
    "print(f\"\\n{grid_tm.head(10)}\\n\")\n",
    "\n",
    "del tree_metrics\n",
    "gc.collect()"
   ]
  },
  {
   "cell_type": "code",
   "execution_count": null,
   "id": "b99e0ef3-9891-4180-9a21-7fc722a7b88f",
   "metadata": {},
   "outputs": [],
   "source": [
    "# Re-assess the primary species after the regrouping\n",
    "spp_pr = (\n",
    "    grid_tm.groupby('species_gp_n', as_index=False)\n",
    "    .agg(\n",
    "        balive=('ba_ld','sum'),\n",
    "        tpa_live=('tpa_ld', 'sum')\n",
    "    )\n",
    ")\n",
    "# calculate the fraction\n",
    "spp_pr['balive_f'] = spp_pr['balive'] / spp_pr['balive'].sum()\n",
    "spp_pr['tpa_live_f'] = spp_pr['tpa_live'] / spp_pr['tpa_live'].sum()\n",
    "# sort values and gather the primary species\n",
    "spp_pr = spp_pr.sort_values(by='balive_f', ascending=False)\n",
    "# which species make up 97% of observations?\n",
    "spp_pr['balive_f_csum'] = spp_pr['balive_f'].cumsum()\n",
    "spp_pr['tpa_live_f_csum'] = spp_pr['tpa_live_f'].cumsum()\n",
    "top_species = spp_pr[spp_pr['balive_f_csum'] <= 0.97]\n",
    "print(\n",
    "    f\"\\nSpecies making up 97% of the total *tpa_live_f_csum*: \\n\\n\",\n",
    "    f\"{top_species[['species_gp_n','balive_f','tpa_live_f']]}\\n\\n\")\n",
    "\n",
    "del spp_pr\n",
    "gc.collect()"
   ]
  },
  {
   "cell_type": "code",
   "execution_count": null,
   "id": "929d6b12-1742-4750-b51e-70c6958013c9",
   "metadata": {},
   "outputs": [],
   "source": [
    "# check on the aspen composition\n",
    "# how many grids have at least some aspen component?\n",
    "spp = 'quaking aspen'\n",
    "spp_idx = grid_tm[grid_tm['species_gp_n'] == spp]['grid_index'].unique() # list of grid indices\n",
    "grid_spp = grid_tm[grid_tm['grid_index'].isin(spp_idx)]\n",
    "# check how many aspen gridcells there are\n",
    "n_spp_grids = len(grid_spp['grid_index'].unique())\n",
    "print(f\"{n_spp_grids} [{round(n_spp_grids/len(grid_tm['grid_index'].unique())*100,1)}%] grids w/ any aspen\")\n",
    "del grid_spp\n",
    "gc.collect()"
   ]
  },
  {
   "cell_type": "code",
   "execution_count": null,
   "id": "00c865ca-c8bd-4bd7-b779-6d91313dcbad",
   "metadata": {},
   "outputs": [],
   "source": [
    "# Identify dominant species for each grid cell by 'balive' or 'tpa_live'\n",
    "# print these summaries for all species\n",
    "# percent of grids in which that species is dominant\n",
    "metrics = ['tpa_ld', 'ba_ld']  # metrics to assess\n",
    "for metric in metrics:\n",
    "    print(f\"\\nDominance based on *{metric}*\\n\")\n",
    "    dom_spp = (\n",
    "        grid_tm.groupby('grid_index', as_index=False)\n",
    "        .apply(lambda df: df.loc[df[metric].idxmax()])\n",
    "        .reset_index(drop=True))\n",
    "    # print the dominance for each major forest type\n",
    "    for spp in top_species['species_gp_n'].unique():\n",
    "        # Filter for grid cells where species is dominant\n",
    "        spp_dominant = dom_spp[dom_spp['species_gp_n'] == spp]\n",
    "        # Count the number of grid cells with aspen dominance\n",
    "        n_dom = len(spp_dominant['grid_index'].unique())\n",
    "        # Print the results\n",
    "        total_grids = len(grid_tm['grid_index'].unique())\n",
    "        spp_pct = round(n_dom / total_grids * 100, 1)\n",
    "        print(f\"\\t~ {spp}: {n_dom} grids ({spp_pct}%)\")\n",
    "print(\"\\n\")\n",
    "del dom_spp, spp_dominant\n",
    "gc.collect()"
   ]
  },
  {
   "cell_type": "code",
   "execution_count": null,
   "id": "cfde08ff-da3c-44bc-96bd-cd4cd5895ae1",
   "metadata": {},
   "outputs": [],
   "source": [
    "grid_tm.columns"
   ]
  },
  {
   "cell_type": "code",
   "execution_count": null,
   "id": "1bd180ac-7fac-483b-9608-d7d4920804e5",
   "metadata": {},
   "outputs": [],
   "source": [
    "# filter to keep grids with our top/dominant species\n",
    "# species groups making up 97% of gridcell area\n",
    "grid_tm_dsp = grid_tm[grid_tm['species_gp_n'].isin(top_species['species_gp_n'].unique())]\n",
    "\n",
    "# check how many this is compared to the total\n",
    "n_grids = len(grid_tm['grid_index'].unique())\n",
    "print(f\"\\n{round(len(grid_tm_dsp['grid_index'].unique()) / n_grids*100,3)}% grids w/ primary species\\n\")\n",
    "\n",
    "# calculate how many grids are predominantly forested\n",
    "n_forest = len(grid_tm_dsp[grid_tm_dsp['forest_pct'] > 50])\n",
    "print(f\"[{round(n_forest/len(grid_tm_dsp)*100,2)}%] predominantly forested grids.\\n\")\n",
    "\n",
    "# Get the grid-level dominance and abundance proportions by species\n",
    "# calculate the total balive and tpa for the grids\n",
    "grid_totals = (\n",
    "    grid_tm_dsp.groupby('grid_index', as_index=False)\n",
    "    .agg(\n",
    "        balive_total=('balive', 'sum'),\n",
    "        badead_total=('badead', 'sum'),\n",
    "        ba_ld_total=('ba_ld', 'sum'),\n",
    "        tpa_live_total=('tpa_live', 'sum'),\n",
    "        tpa_dead_total=('tpa_dead', 'sum'),\n",
    "        tpa_ld_total=('tpa_ld', 'sum')\n",
    "    )\n",
    ")\n",
    "# subset columns\n",
    "grid_totals = grid_totals[['grid_index',\n",
    "                           'balive_total','badead_total','ba_ld_total',\n",
    "                           'tpa_live_total','tpa_dead_total','tpa_ld_total']]\n",
    "# merge back to the grid data\n",
    "grid_tm_dsp = grid_tm_dsp.merge(grid_totals, on='grid_index', how='left')\n",
    "\n",
    "# calculate the species proportions (for live/dead)\n",
    "# dominance (live/dead basal area)\n",
    "grid_tm_dsp['sp_dominance_l'] = grid_tm_dsp['balive'] / grid_tm_dsp['balive_total']\n",
    "grid_tm_dsp['sp_dominance_d'] = grid_tm_dsp['badead'] / grid_tm_dsp['badead_total']\n",
    "grid_tm_dsp['sp_dominance_ld'] = grid_tm_dsp['ba_ld'] / grid_tm_dsp['ba_ld_total']\n",
    "\n",
    "# abundance (live/dead TPA)\n",
    "grid_tm_dsp['sp_abundance_l'] = grid_tm_dsp['tpa_live'] / grid_tm_dsp['tpa_live_total']\n",
    "grid_tm_dsp['sp_abundance_d'] = grid_tm_dsp['tpa_dead'] / grid_tm_dsp['tpa_dead_total']\n",
    "grid_tm_dsp['sp_abundance_ld'] = grid_tm_dsp['tpa_live'] / grid_tm_dsp['tpa_live_total']\n",
    "\n",
    "del grid_totals\n",
    "\n",
    "# cheack on the results\n",
    "grid_tm_dsp[['grid_index','species_gp_n',\n",
    "             'sp_dominance_l','sp_dominance_d','sp_dominance_ld',\n",
    "             'sp_abundance_l','sp_abundance_d','sp_abundance_ld'\n",
    "            ]].head(3)"
   ]
  },
  {
   "cell_type": "code",
   "execution_count": null,
   "id": "0affd094-6b05-408d-9f12-40c0cbe6e44a",
   "metadata": {},
   "outputs": [],
   "source": [
    "# Plot the distribution of dominance and abundance across forest species groups\n",
    "# Sort species by mean dominance\n",
    "sp_order = (\n",
    "    grid_tm_frp.groupby('species_gp_n')['sp_dominance_ld']\n",
    "    .mean().sort_values(ascending=False).index\n",
    ")\n",
    "# Reshape the data to long format for easier plotting\n",
    "df_long = pd.melt(\n",
    "    grid_tm_frp,\n",
    "    id_vars=['species_gp_n'],\n",
    "    value_vars=['sp_dominance_ld', 'sp_abundance_ld'],\n",
    "    var_name='metric',\n",
    "    value_name='value'\n",
    ")\n",
    "\n",
    "# Set up the plot\n",
    "plt.figure(figsize=(6,4))\n",
    "sns.boxplot(\n",
    "    data=df_long,\n",
    "    x='species_gp_n',\n",
    "    y='value',\n",
    "    hue='metric',\n",
    "    order=sp_order,\n",
    "    palette='muted',\n",
    "    flierprops=dict(marker='o', markersize=1.2)\n",
    ")\n",
    "\n",
    "# Customize the plot\n",
    "plt.title('Distribution of Dominance and Abundance by Species')\n",
    "plt.xlabel('Species')\n",
    "plt.ylabel('Metric Value')\n",
    "plt.xticks(rotation=45, ha='right')\n",
    "plt.legend(title='Metric', loc='upper right', bbox_to_anchor=(1, 1))\n",
    "plt.tight_layout()\n",
    "plt.show()"
   ]
  },
  {
   "cell_type": "code",
   "execution_count": null,
   "id": "448c6e9f-67bf-45bb-b8b4-798623e77d0f",
   "metadata": {},
   "outputs": [],
   "source": [
    "# merge back to the frp data\n",
    "grid_tm_frp = grid.merge(grid_tm_dsp, on='grid_index', how='right')\n",
    "grid_tm_frp.columns"
   ]
  },
  {
   "cell_type": "code",
   "execution_count": null,
   "id": "70749b6a-0318-4fcc-a62b-16b5ddbdab84",
   "metadata": {},
   "outputs": [],
   "source": [
    "del grid_tm_dsp, grid_tm\n",
    "gc.collect()"
   ]
  },
  {
   "cell_type": "code",
   "execution_count": null,
   "id": "97e86490-1b72-4d06-828f-d3d8ee71a100",
   "metadata": {},
   "outputs": [],
   "source": [
    "grid_tm_frp['species_gp_n'].unique()"
   ]
  },
  {
   "cell_type": "code",
   "execution_count": null,
   "id": "41f9f0ea-e0e5-4d1a-aadf-97a91ca7c188",
   "metadata": {},
   "outputs": [],
   "source": [
    "# Save this table out.\n",
    "# First, extract centroid coords\n",
    "df = grid_tm_frp.copy()\n",
    "df = df.to_crs(4326) # WGS coords for lat/lon\n",
    "df['grid_x'] = df.geometry.centroid.x  # Longitude (x-coordinate)\n",
    "df['grid_y'] = df.geometry.centroid.y \n",
    "# remove the geomtry field before exporting\n",
    "df.drop(columns=['geometry'], inplace=True)\n",
    "\n",
    "# save the file.\n",
    "out_fp = os.path.join(projdir,'data/tabular/mod/viirs_gridstats_treemap.csv')\n",
    "df.to_csv(out_fp)\n",
    "print(f\"Saved file to: {out_fp}\")\n",
    "\n",
    "del df\n",
    "gc.collect()"
   ]
  },
  {
   "cell_type": "code",
   "execution_count": null,
   "id": "0c6423e7-be53-4a7e-b227-69cf0016e0e1",
   "metadata": {},
   "outputs": [],
   "source": []
  },
  {
   "cell_type": "code",
   "execution_count": null,
   "id": "976cf8bd-9c40-4c16-bd18-66c7d3e4d4cf",
   "metadata": {},
   "outputs": [],
   "source": [
    "# Explore the data ..."
   ]
  },
  {
   "cell_type": "code",
   "execution_count": null,
   "id": "7911d88d-04d2-4837-b2ee-04fc59af1086",
   "metadata": {},
   "outputs": [],
   "source": [
    "# plot the distribution of percent cover by forest types\n",
    "grid_tm_frp['species_gp_n'] = grid_tm_frp['species_gp_n'].astype('category')\n",
    "\n",
    "species_order = top_species['species_gp_n'].tolist()\n",
    "grid_tm_frp['species_gp_n'] = pd.Categorical(\n",
    "    grid_tm_frp['species_gp_n'],\n",
    "    categories=species_order,\n",
    "    ordered=True\n",
    ")\n",
    "\n",
    "# Create a FacetGrid with the specified order\n",
    "g = sns.FacetGrid(\n",
    "    data=grid_tm_frp,\n",
    "    col='species_gp_n',      \n",
    "    col_wrap=3,             \n",
    "    sharex=False,            \n",
    "    sharey=False,            \n",
    "    height=2,               \n",
    "    aspect=1.2              \n",
    ")\n",
    "\n",
    "# Map a KDE plot to each facet\n",
    "g.map(sns.kdeplot, 'sp_dominance_ld', fill=True, alpha=0.6)\n",
    "\n",
    "# Customize the plot\n",
    "g.set_titles(\"{col_name}\")  # Use species names as titles\n",
    "g.set_axis_labels(\"Dominance (BALIVE)\", \"Density\", size=9)  # Axis labels\n",
    "g.fig.set_size_inches(6,4)  # Set figure dimensions\n",
    "plt.subplots_adjust(top=0.9)  # Adjust subplot spacing\n",
    "\n",
    "# Show the plot\n",
    "plt.show()"
   ]
  },
  {
   "cell_type": "code",
   "execution_count": null,
   "id": "027a9024-d8fa-48dc-b37d-d2a404e157c1",
   "metadata": {},
   "outputs": [],
   "source": [
    "# Species co-occurrence plot\n",
    "# Threshold species presence where dominance/abundance > 1% of total\n",
    "dt = 0.05\n",
    "# Create a binary presence-absence matrix\n",
    "pres_abs = (\n",
    "    grid_tm_frp\n",
    "    .pivot_table(index='grid_index', columns='species_gp_n', values='sp_dominance_ld', aggfunc='first')\n",
    "    .fillna(0)\n",
    "    .applymap(lambda x: 1 if x >= dt else 0)  # Convert to binary\n",
    ")\n",
    "\n",
    "# get the species names and matrix\n",
    "species = pres_abs.columns\n",
    "coo_mat = pd.DataFrame(0, index=species, columns=species)\n",
    "# map across species combinations\n",
    "for sp1, sp2 in combinations(species, 2):\n",
    "    # Count co-occurrence (grids where both species are present)\n",
    "    coo = np.sum(pres_abs[sp1] & pres_abs[sp2])\n",
    "    coo_mat.loc[sp1, sp2] = coo\n",
    "    coo_mat.loc[sp2, sp1] = coo  # Symmetry\n",
    "\n",
    "# Optional: Normalize by the total number of grids for each species\n",
    "species_totals = pres_abs.sum(axis=0)\n",
    "norm_mat = coo_mat.div(species_totals, axis=0)\n",
    "\n",
    "# Create a heatmap\n",
    "plt.figure(figsize=(6, 5))\n",
    "sns.heatmap(\n",
    "    norm_mat, \n",
    "    annot=True, \n",
    "    fmt=\".2f\", \n",
    "    cmap=\"YlGnBu\", \n",
    "    cbar_kws={'label': 'Co-Occurrence Frequency'}\n",
    ")\n",
    "plt.xlabel(\"Species\")\n",
    "plt.ylabel(\"Species\")\n",
    "plt.tight_layout()\n",
    "\n",
    "out_png = os.path.join(projdir, 'figures/FigureX_Species_CoOccurrence.png')\n",
    "plt.savefig(out_png, dpi=300, bbox_inches='tight')\n",
    "\n",
    "plt.show()"
   ]
  },
  {
   "cell_type": "code",
   "execution_count": null,
   "id": "30f6254c-9a01-421e-9c5c-77e4276bb1bd",
   "metadata": {},
   "outputs": [],
   "source": [
    "# Plot maximum daytime FRP across dominance and abundance\n",
    "\n"
   ]
  },
  {
   "cell_type": "code",
   "execution_count": null,
   "id": "c4f339bf-2235-46a9-8388-ebf200b36cb9",
   "metadata": {},
   "outputs": [],
   "source": [
    "# Group by Conifer/Aspen\n",
    "print(len(grid_tm_frp))\n",
    "df = grid_tm_frp.copy()\n",
    "df = df[df['species_gp_n'] != 'oak-woodland'] # remove the oak-woodland class\n",
    "df['forest_phys'] = grid_tm_frp['species_gp_n'].apply(\n",
    "    lambda x: 'conifer' if x != 'quaking aspen' else x)\n",
    "print(df['forest_phys'].unique())\n",
    "print(df['forest_phys'].value_counts())"
   ]
  },
  {
   "cell_type": "code",
   "execution_count": null,
   "id": "d82a1015-8a83-48d0-a206-9826c9da4bc5",
   "metadata": {},
   "outputs": [],
   "source": []
  },
  {
   "cell_type": "code",
   "execution_count": null,
   "id": "3534f41e-e89b-4df7-a8bf-c71bed1a9bc6",
   "metadata": {},
   "outputs": [],
   "source": [
    "# create a 'conifer' column\n",
    "df = grid_tm_frp.copy() # work with a copy\n",
    "df = df[df['frp_max_day'] > 1] # filter out small FRP values\n",
    "\n",
    "# label conifer/aspen, summarize percent cover\n",
    "df['forest_phys'] = df['species_gp_n'].apply(lambda x: 'conifer' if x != 'quaking aspen' else x)\n",
    "print(f\"Forest classes: {df['forest_phys'].unique()}\\n\")\n",
    "\n",
    "# aggregate statistics\n",
    "df = (\n",
    "    df.groupby(['grid_index', 'forest_phys'], as_index=False)\n",
    "    .agg(\n",
    "        ba_ld=('balive','sum'),\n",
    "        tpa_ld=('tpa_live','sum'),\n",
    "        abundance=('sp_abundance_ld','sum'),\n",
    "        dominance=('sp_dominance_ld','sum')\n",
    "    )\n",
    ")\n",
    "\n",
    "# filter to where there is some aspen or conifer\n",
    "df = df[(df['abundance'] > 0)]\n",
    "\n",
    "print(f\"{len(df[df['forest_phys'] == 'quaking aspen'])} grids w/ some aspen.\\n\")\n",
    "print(f\"{df.head(3)}\\n\")\n",
    "\n",
    "# Pivot to have one row per grid with aspen and conifer as columns\n",
    "df_p = (\n",
    "    df.pivot(index='grid_index', columns='forest_phys', values='dominance')\n",
    "    .fillna(0)  # Fill missing values with 0\n",
    "    .reset_index()\n",
    "    .rename(columns={'quaking aspen': 'aspen', 'conifer': 'conifer'})\n",
    ")\n",
    "\n",
    "df_p['combined'] = df_p['aspen'] + df_p['conifer']\n",
    "df_p = df_p[df_p['combined'] > 0.20] # greater than 50% combined dominance\n",
    "\n",
    "# Add FRP metrics back to the DataFrame\n",
    "df_p = df_p.merge(\n",
    "    grid_tm_frp[['grid_index', 'frp_max_day']], on='grid_index', how='left'\n",
    ")\n",
    "print(f\"{df_p.head(3)}\\n\")\n",
    "\n",
    "# bin the data and plot the heatmap\n",
    "bins = np.linspace(0, 1, 6)  # 10% intervals\n",
    "df_p['aspen_bin'] = pd.cut(df_p['aspen'], bins, labels=bins[:-1])\n",
    "df_p['conifer_bin'] = pd.cut(df_p['conifer'], bins, labels=bins[:-1])\n",
    "\n",
    "# create the summarized data by bins (heatmap)\n",
    "heatmap_da = df_p.groupby(['aspen_bin', 'conifer_bin']).frp_max_day.mean().unstack()\n",
    "heatmap_da = heatmap_da.replace(0, np.nan)\n",
    "\n",
    "# heatmap_da_log = np.log10(heatmap_da + 1e-6)\n",
    "\n",
    "# plot it\n",
    "plt.figure(figsize=(6, 4))\n",
    "\n",
    "sns.heatmap(\n",
    "    heatmap_da, \n",
    "    cmap='coolwarm', \n",
    "    annot=True, \n",
    "    fmt=\".0f\", \n",
    "    cbar_kws={'label': 'Maximum FRP'}\n",
    ")\n",
    "\n",
    "plt.title(\"Aspen/Conifer Co-occurrence\", size=12, loc='center')\n",
    "plt.xlabel('Conifer (%)')\n",
    "plt.ylabel('Aspen (%)')\n",
    "\n",
    "out_plot = os.path.join(projdir, 'figures/FigureX_ConiferAspen_Heatmap_FRPmax_Tree.png')\n",
    "plt.savefig(out_plot, dpi=300, bbox_inches='tight')\n",
    "\n",
    "plt.show()"
   ]
  },
  {
   "cell_type": "code",
   "execution_count": null,
   "id": "2e22dc18-a4ae-4c80-9b83-aa4e5d81282a",
   "metadata": {},
   "outputs": [],
   "source": [
    "# scaled tile version\n",
    "# conifer/aspen\n",
    "df = grid_forest.copy() # work with a copy\n",
    "\n",
    "# label conifer/aspen, summarize percent cover\n",
    "df['ForestPhys'] = df['SpeciesName'].apply(lambda x: 'Conifer' if x != 'Aspen' else x)\n",
    "print(f\" Forest classes: {df['ForestPhys'].unique()}\\n\")\n",
    "\n",
    "# Recalculate percent cover\n",
    "cover_df = (\n",
    "    df.groupby(['grid_index', 'ForestPhys'])['spp_pct']\n",
    "    .sum()\n",
    "    .unstack(fill_value=0)\n",
    "    .reset_index()\n",
    "    .rename(columns={'Aspen': 'aspen_pct', 'Conifer': 'conifer_pct'})\n",
    ")\n",
    "\n",
    "cover_df['combined_pct'] = cover_df['aspen_pct'] + cover_df['conifer_pct']\n",
    "# cover_df = cover_df[cover_df['combined_pct'] > 60]\n",
    "\n",
    "# Merge with FRP data\n",
    "frp_df = grid_aspen[['grid_index', 'frp_max', 'frp_max_day', \n",
    "                     'frp_max_night', 'frp_csum', 'frp_p90']].drop_duplicates()\n",
    "cover_df = cover_df.merge(frp_df, on='grid_index', how='left')\n",
    "\n",
    "# Bin Aspen and species percent cover\n",
    "bins = np.linspace(0, 100, 11)  # 10% intervals\n",
    "cover_df['aspen_bin'] = pd.cut(cover_df['aspen_pct'], bins, labels=bins[:-1])\n",
    "cover_df['conifer_bin'] = pd.cut(cover_df['conifer_pct'], bins, labels=bins[:-1])\n",
    "\n",
    "# Group by bins and calculate statistics\n",
    "grouped = cover_df.groupby(['aspen_bin', 'conifer_bin'])\n",
    "counts = grouped.size().reset_index(name='freq')  # Frequency for tile size\n",
    "mean_frp = grouped['frp_max_day'].mean().reset_index(name='frp')  # Mean FRP for color\n",
    "\n",
    "# Merge statistics into a single DataFrame\n",
    "tiles_df = pd.merge(counts, mean_frp, on=['aspen_bin', 'conifer_bin'])\n",
    "tiles_df['tile_size'] = (tiles_df['freq'] / tiles_df['freq'].max()) ** 0.2\n",
    "\n",
    "# create the plot\n",
    "tiles_df['aspen_bin_idx'] = tiles_df['aspen_bin'].cat.codes\n",
    "tiles_df['conifer_bin_idx'] = tiles_df['conifer_bin'].cat.codes\n",
    "\n",
    "# get the KDE plot for aspen/conifer\n",
    "kde_data = cover_df.melt(\n",
    "    id_vars='grid_index', \n",
    "    value_vars=['aspen_pct', 'conifer_pct'], \n",
    "    var_name='species', \n",
    "    value_name='pct_cover'\n",
    ")\n",
    "\n",
    "# Rename for consistent labeling\n",
    "kde_data['species'] = kde_data['species'].replace({\n",
    "    'aspen_pct': 'Aspen', \n",
    "    'conifer_pct': 'Conifer'\n",
    "})"
   ]
  },
  {
   "cell_type": "code",
   "execution_count": null,
   "id": "b5d6431b-f985-489c-8cc5-61c5ea98851e",
   "metadata": {},
   "outputs": [],
   "source": []
  },
  {
   "cell_type": "code",
   "execution_count": null,
   "id": "0d102e6e-0396-4971-8255-63e95f74cc10",
   "metadata": {},
   "outputs": [],
   "source": []
  },
  {
   "cell_type": "code",
   "execution_count": null,
   "id": "0b3d411f-59da-4755-bb5f-39315a879ebf",
   "metadata": {},
   "outputs": [],
   "source": []
  },
  {
   "cell_type": "code",
   "execution_count": null,
   "id": "08edabf5-cefe-4f89-8ac5-6b72db4b1b87",
   "metadata": {},
   "outputs": [],
   "source": [
    "# 1. Prepare the data\n",
    "# Filter data to remove non-forested or low-FRP grid cells\n",
    "grid_tm_frp_nonzero = grid_tm_frp[grid_tm_frp['frp_max_day'] > 0]\n",
    "\n",
    "# Compute the dominant species based on abundance and dominance\n",
    "dominant_abundance = (\n",
    "    grid_tm_frp_nonzero.loc[grid_tm_frp_nonzero.groupby('grid_index')['sp_abundance_ld'].idxmax()]\n",
    ")\n",
    "dominant_dominance = (\n",
    "    grid_tm_frp_nonzero.loc[grid_tm_frp_nonzero.groupby('grid_index')['sp_dominance_ld'].idxmax()]\n",
    ")\n",
    "\n",
    "# Subset only rows with a significant contribution (threshold adjustable)\n",
    "abundance_threshold = 0.5  # Example: At least 80% abundance\n",
    "dominance_threshold = 0.5  # Example: At least 80% dominance\n",
    "\n",
    "dom_abundance = dominant_abundance[dominant_abundance['sp_abundance_ld'] > abundance_threshold]\n",
    "dom_dominance = dominant_dominance[dominant_dominance['sp_dominance_ld'] > dominance_threshold]\n",
    "\n",
    "# Get sorted species order by FRP median\n",
    "abundance_median = dom_abundance.groupby('species_gp_n')['frp_max_day'].median().sort_values(ascending=False)\n",
    "dominance_median = dom_dominance.groupby('species_gp_n')['frp_max_day'].median().sort_values(ascending=False)\n",
    "\n",
    "# Sort species names by FRP medians\n",
    "abundance_sorted = abundance_median.index.tolist()\n",
    "dominance_sorted = dominance_median.index.tolist()\n",
    "\n",
    "# 2. Plot: Abundance-Based\n",
    "plt.figure(figsize=(6, 4))\n",
    "sns.boxplot(\n",
    "    data=dom_abundance,\n",
    "    x='frp_max_day',\n",
    "    y='species_gp_n',\n",
    "    order=abundance_sorted,\n",
    "    palette='coolwarm_r',\n",
    "    fliersize=4,\n",
    "    dodge=False\n",
    ")\n",
    "plt.xscale('log')  # Log-scale FRP\n",
    "plt.xlabel('Daytime Fire Radiative Power (FRP)')\n",
    "plt.ylabel('Forest Type (Abundance-Based)')\n",
    "plt.title('FRP by Dominant Species (Abundance)')\n",
    "plt.tight_layout()\n",
    "\n",
    "# out_plot_abundance = os.path.join(projdir, 'figures/FigureX_ForestAbundance_FRPmax.png')\n",
    "# plt.savefig(out_plot_abundance, dpi=300, bbox_inches='tight')\n",
    "# print(f\"\\nSaved to: {out_plot_abundance}\\n\")\n",
    "\n",
    "plt.show()\n",
    "\n",
    "# 3. Plot: Dominance-Based\n",
    "plt.figure(figsize=(6, 4))\n",
    "sns.boxplot(\n",
    "    data=dom_dominance,\n",
    "    x='frp_max_day',\n",
    "    y='species_gp_n',\n",
    "    order=dominance_sorted,\n",
    "    palette='coolwarm_r',\n",
    "    fliersize=4,\n",
    "    dodge=False\n",
    ")\n",
    "plt.xscale('log')  # Log-scale FRP\n",
    "plt.xlabel('Daytime Fire Radiative Power (FRP)')\n",
    "plt.ylabel('Forest Type (Dominance-Based)')\n",
    "plt.title('FRP by Dominant Species (Dominance)')\n",
    "plt.tight_layout()\n",
    "\n",
    "# out_plot_dominance = os.path.join(projdir, 'figures/FigureX_ForestDominance_FRPmax.png')\n",
    "# plt.savefig(out_plot_dominance, dpi=300, bbox_inches='tight')\n",
    "# print(f\"\\nSaved to: {out_plot_dominance}\\n\")\n",
    "\n",
    "plt.show()"
   ]
  },
  {
   "cell_type": "code",
   "execution_count": null,
   "id": "ede54433-3f46-438e-aa92-497af57e75e3",
   "metadata": {},
   "outputs": [],
   "source": []
  },
  {
   "cell_type": "code",
   "execution_count": null,
   "id": "ddf0c8ec-5238-4e24-b8da-d683728374c4",
   "metadata": {},
   "outputs": [],
   "source": []
  },
  {
   "cell_type": "code",
   "execution_count": null,
   "id": "45bf8f25-282a-486c-8aa6-25b3e960743d",
   "metadata": {},
   "outputs": [],
   "source": []
  },
  {
   "cell_type": "code",
   "execution_count": null,
   "id": "c1adfcd7-9a7b-4f36-a504-be05408a9905",
   "metadata": {},
   "outputs": [],
   "source": [
    "# # Plot the influence of aspen composition on FRP\n",
    "# # Conifer/Aspen dominance waffle chart\n",
    "\n",
    "# # create bins for species composition\n",
    "# bins = np.linspace(0, 100, 6) # 20% intervals\n",
    "# spps = [s for s in grid_tm_frp['species_gp_n'].unique() if s != 'quaking aspen'] # exclude aspen from species list\n",
    "# print(f\"Associate forest type: {spps}\\n\")\n",
    "\n",
    "# df = grid_tm_frp.copy() # work on a copy of the data\n",
    "\n",
    "# # create grid data\n",
    "# tiles = []  # Store tile data\n",
    "# for sp in spps:\n",
    "#     # Filter for co-occurrence\n",
    "#     df_sp = df[df['species_gp_n'].isin(['Aspen', sp])]\n",
    "\n",
    "#     # Pivot to create columns for Aspen and the species\n",
    "#     cover_df = (\n",
    "#         df_sp.pivot_table(index='grid_index', columns='species_gp_n', values='spp_pct', fill_value=0)\n",
    "#         .reset_index()\n",
    "#         .rename(columns={'Aspen': 'aspen_pct', sp: f'{sp}_pct'})\n",
    "#     )\n",
    "\n",
    "#     # make sure there is some of each kind\n",
    "#     cover_df['combined_pct'] = cover_df['aspen_pct'] + cover_df[f'{sp}_pct']\n",
    "#     cover_df = cover_df[cover_df['combined_pct'] > 50]\n",
    "\n",
    "#     # Merge with FRP data\n",
    "#     frp_df = grid_aspen[['grid_index', 'frp_max', 'frp_max_day', 'frp_max_night', 'frp_csum', 'frp_p90']].drop_duplicates()\n",
    "#     cover_df = cover_df.merge(frp_df, on='grid_index', how='left')\n",
    "\n",
    "#     # Bin Aspen and species percent cover\n",
    "#     cover_df['aspen_bin'] = pd.cut(cover_df['aspen_pct'], bins, labels=range(len(bins) - 1))\n",
    "#     cover_df[f'{sp}_bin'] = pd.cut(cover_df[f'{sp}_pct'], bins, labels=range(len(bins) - 1))\n",
    "\n",
    "#     # Group by bins and calculate statistics\n",
    "#     grouped = cover_df.groupby(['aspen_bin', f'{sp}_bin'])\n",
    "#     counts = grouped.size().reset_index(name='freq')  # Frequency for tile size\n",
    "#     mean_frp = grouped['frp_max_day'].mean().reset_index(name='frp')  # Mean FRP for color\n",
    "\n",
    "#     # Merge statistics into a single DataFrame\n",
    "#     tiled_data = pd.merge(counts, mean_frp, on=['aspen_bin', f'{sp}_bin'])\n",
    "#     tiled_data['species'] = sp\n",
    "#     tiles.append(tiled_data)\n",
    "\n",
    "# # Combine tile data\n",
    "# tiles_df = pd.concat(tiles, ignore_index=True)\n",
    "# tiles_df['log_frp'] = np.log10(tiles_df['frp'] + 1)\n",
    "\n",
    "# # Normalize tile sizes (scale frequency)\n",
    "# tiles_df['tile_size'] = (tiles_df['freq'] / tiles_df['freq'].max()) ** 0.2  # Square root scaling for better size balance\n",
    "\n",
    "# # Plotting the tile-scaled heatmap\n",
    "# n_cols = 3  # Number of columns in the facet grid\n",
    "# n_rows = int(np.ceil(len(spps) / n_cols))\n",
    "# fig, axes = plt.subplots(n_rows, n_cols, figsize=(9,3.5), constrained_layout=True)\n",
    "# axes = axes.flatten()\n",
    "\n",
    "# vmin = tiles_df['log_frp'].min()\n",
    "# vmax = tiles_df['log_frp'].quantile()\n",
    "# norm = mcolors.Normalize(vmin=vmin, vmax=vmax)  # Define color normalization based on raw FRP range\n",
    "\n",
    "# log_frp_min = np.percentile(tiles_df['log_frp'], 10)\n",
    "# log_frp_max = np.percentile(tiles_df['log_frp'], 90)\n",
    "\n",
    "# # make the grids\n",
    "# for i, sp in enumerate(spps):\n",
    "#     sp_data = tiles_df[tiles_df['species'] == sp]\n",
    "#     ax = axes[i]\n",
    "\n",
    "#     vmin = sp_data['frp'].min()\n",
    "#     vmax = sp_data['frp'].max()\n",
    "\n",
    "#     for _, row in sp_data.iterrows():\n",
    "#         x = int(row[f'{sp}_bin'])  \n",
    "#         y = int(row['aspen_bin'])  \n",
    "#         size = row['tile_size'] * 0.9\n",
    "        \n",
    "#         norm = mcolors.Normalize(vmin=vmin, vmax=vmax)\n",
    "#         color = plt.cm.coolwarm(norm(row['frp']))\n",
    "        \n",
    "#         ax.add_patch(\n",
    "#             plt.Rectangle(\n",
    "#                 (x - size / 2, y - size / 2), size, size, color=color, ec='black', lw=0.5\n",
    "#             )\n",
    "#         )\n",
    "\n",
    "#     # Formatting the axes\n",
    "#     # ax.set_title(sp, size=10)\n",
    "#     ax.text(\n",
    "#         0.95, 0.95, sp,  # x, y position in axis coordinates (top-right corner)\n",
    "#         transform=ax.transAxes,  # Use axis coordinates (0,0 is bottom-left, 1,1 is top-right)\n",
    "#         ha='right', va='top',  # Align the text to the top-right\n",
    "#         fontsize=10, color='black', bbox=dict(facecolor='white', edgecolor='none', boxstyle='round,pad=0.2')\n",
    "#     )\n",
    "#     ax.set_xlabel(f'')\n",
    "#     ax.set_ylabel('Aspen Cover (%)', size=9)\n",
    "#     ax.set_xticks(range(len(bins) - 1))\n",
    "#     ax.set_yticks(range(len(bins) - 1))\n",
    "#     ax.set_xticklabels([f'{int(b)}%' for b in bins[:-1]], size=8)\n",
    "#     ax.set_yticklabels([f'{int(b)}%' for b in bins[:-1]], size=8)\n",
    "#     ax.set_xlim(-0.5, len(bins) - 1.5)\n",
    "#     ax.set_ylim(-0.5, len(bins) - 1.5)\n",
    "\n",
    "#     # sm = plt.cm.ScalarMappable(cmap=plt.cm.coolwarm, norm=norm)\n",
    "#     # cbar = fig.colorbar(sm, ax=ax, orientation='vertical', fraction=0.50, pad=0.1)\n",
    "#     # cbar.set_label('Maximum FRP')\n",
    "\n",
    "# sm = plt.cm.ScalarMappable(cmap=plt.cm.coolwarm, norm=norm)\n",
    "# cbar = fig.colorbar(sm, ax=axes, orientation='vertical', fraction=0.05, pad=0.02)\n",
    "# cbar.set_label('Maximum FRP')\n",
    "# cbar.set_label('Cumulative FRP', fontsize=10)\n",
    "# cbar.ax.tick_params(labelsize=8)\n",
    "\n",
    "# # Remove unused axes\n",
    "# for j in range(i + 1, len(axes)):\n",
    "#     fig.delaxes(axes[j])\n",
    "\n",
    "# del df\n",
    "\n",
    "# out_plot = os.path.join(projdir, 'figures/FigureX_CoOccurring_Heatmap_FRPmax_Scaled.png')\n",
    "# plt.savefig(out_plot, dpi=300, bbox_inches='tight')\n",
    "\n",
    "# plt.show()"
   ]
  }
 ],
 "metadata": {
  "kernelspec": {
   "display_name": "aspen-fire",
   "language": "python",
   "name": "aspen-fire"
  },
  "language_info": {
   "codemirror_mode": {
    "name": "ipython",
    "version": 3
   },
   "file_extension": ".py",
   "mimetype": "text/x-python",
   "name": "python",
   "nbconvert_exporter": "python",
   "pygments_lexer": "ipython3",
   "version": "3.10.12"
  }
 },
 "nbformat": 4,
 "nbformat_minor": 5
}
