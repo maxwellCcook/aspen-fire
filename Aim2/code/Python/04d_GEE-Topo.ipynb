{
 "cells": [
  {
   "cell_type": "code",
   "execution_count": 1,
   "id": "e8875da6-de28-494e-8590-5deff24c959f",
   "metadata": {},
   "outputs": [
    {
     "name": "stdout",
     "output_type": "stream",
     "text": [
      "Success !\n"
     ]
    }
   ],
   "source": [
    "\"\"\"\n",
    "Calculate fire severity statistics within AFD observations from MODIS and VIIRS.\n",
    "Severity index: Composite Burn Severity (CBI), calculated in GEE via Parks (2018)\n",
    "\n",
    "Author: maxwell.cook@colorado.edu\n",
    "\"\"\"\n",
    "\n",
    "import os, sys\n",
    "import ee\n",
    "import geemap\n",
    "import time\n",
    "\n",
    "# Custom functions\n",
    "sys.path.append(os.path.join(os.getcwd(),'code/'))\n",
    "from __functions import *\n",
    "\n",
    "ee.Authenticate()\n",
    "ee.Initialize(project='jfsp-aspen')\n",
    "\n",
    "print(\"Success !\")"
   ]
  },
  {
   "cell_type": "code",
   "execution_count": 2,
   "id": "630cba3c-2a17-432d-83aa-db242a71dcbe",
   "metadata": {},
   "outputs": [
    {
     "data": {
      "text/html": [
       "\n",
       "            <style>\n",
       "                .geemap-dark {\n",
       "                    --jp-widgets-color: white;\n",
       "                    --jp-widgets-label-color: white;\n",
       "                    --jp-ui-font-color1: white;\n",
       "                    --jp-layout-color2: #454545;\n",
       "                    background-color: #383838;\n",
       "                }\n",
       "\n",
       "                .geemap-dark .jupyter-button {\n",
       "                    --jp-layout-color3: #383838;\n",
       "                }\n",
       "\n",
       "                .geemap-colab {\n",
       "                    background-color: var(--colab-primary-surface-color, white);\n",
       "                }\n",
       "\n",
       "                .geemap-colab .jupyter-button {\n",
       "                    --jp-layout-color3: var(--colab-primary-surface-color, white);\n",
       "                }\n",
       "            </style>\n",
       "            "
      ],
      "text/plain": [
       "<IPython.core.display.HTML object>"
      ]
     },
     "metadata": {},
     "output_type": "display_data"
    },
    {
     "name": "stdout",
     "output_type": "stream",
     "text": [
      "Number of grid cells: 57232\n",
      "['system:index', 'grid_index', 'Fire_ID']\n"
     ]
    }
   ],
   "source": [
    "# Load the gridded FRP data\n",
    "grid = ee.FeatureCollection('projects/jfsp-aspen/assets/viirs_snpp_jpss1_afd_gridstats')\n",
    "print(f\"Number of grid cells: {grid.size().getInfo()}\")\n",
    "grid = grid.select(['grid_index','Fire_ID'])\n",
    "print(grid.first().propertyNames().getInfo())"
   ]
  },
  {
   "cell_type": "code",
   "execution_count": 3,
   "id": "fbfaa245-9531-4093-9164-cad232b809d7",
   "metadata": {},
   "outputs": [
    {
     "data": {
      "text/html": [
       "\n",
       "            <style>\n",
       "                .geemap-dark {\n",
       "                    --jp-widgets-color: white;\n",
       "                    --jp-widgets-label-color: white;\n",
       "                    --jp-ui-font-color1: white;\n",
       "                    --jp-layout-color2: #454545;\n",
       "                    background-color: #383838;\n",
       "                }\n",
       "\n",
       "                .geemap-dark .jupyter-button {\n",
       "                    --jp-layout-color3: #383838;\n",
       "                }\n",
       "\n",
       "                .geemap-colab {\n",
       "                    background-color: var(--colab-primary-surface-color, white);\n",
       "                }\n",
       "\n",
       "                .geemap-colab .jupyter-button {\n",
       "                    --jp-layout-color3: var(--colab-primary-surface-color, white);\n",
       "                }\n",
       "            </style>\n",
       "            "
      ],
      "text/plain": [
       "<IPython.core.display.HTML object>"
      ]
     },
     "metadata": {},
     "output_type": "display_data"
    },
    {
     "name": "stdout",
     "output_type": "stream",
     "text": [
      "['elev', 'slope', 'tpi', 'chili']\n"
     ]
    }
   ],
   "source": [
    "# Load topographic collections\n",
    "\n",
    "# USGS NED 10-m DEM\n",
    "dem = ee.Image(\"USGS/3DEP/10m\")\n",
    "slope = ee.Terrain.slope(dem) # calculate slope from DEM\n",
    "dem = dem.rename('elev') # rename the elevation band\n",
    "\n",
    "# Topographic Position Index (TPI) (USGS NED 10m-based)\n",
    "tpi = ee.Image(\"CSP/ERGo/1_0/US/mTPI\").rename('tpi')\n",
    "\n",
    "# Continuous Heat-Insolation Load Index (CHILI)\n",
    "chili = ee.Image(\"CSP/ERGo/1_0/US/CHILI\").rename('chili')\n",
    "\n",
    "# combine topographic variables\n",
    "topo = dem.addBands([slope,tpi,chili])\n",
    "print(topo.bandNames().getInfo())"
   ]
  },
  {
   "cell_type": "code",
   "execution_count": 4,
   "id": "19d56c44-c07d-4af7-9494-c5ae7e7ed863",
   "metadata": {},
   "outputs": [
    {
     "data": {
      "text/html": [
       "\n",
       "            <style>\n",
       "                .geemap-dark {\n",
       "                    --jp-widgets-color: white;\n",
       "                    --jp-widgets-label-color: white;\n",
       "                    --jp-ui-font-color1: white;\n",
       "                    --jp-layout-color2: #454545;\n",
       "                    background-color: #383838;\n",
       "                }\n",
       "\n",
       "                .geemap-dark .jupyter-button {\n",
       "                    --jp-layout-color3: #383838;\n",
       "                }\n",
       "\n",
       "                .geemap-colab {\n",
       "                    background-color: var(--colab-primary-surface-color, white);\n",
       "                }\n",
       "\n",
       "                .geemap-colab .jupyter-button {\n",
       "                    --jp-layout-color3: var(--colab-primary-surface-color, white);\n",
       "                }\n",
       "            </style>\n",
       "            "
      ],
      "text/plain": [
       "<IPython.core.display.HTML object>"
      ]
     },
     "metadata": {},
     "output_type": "display_data"
    },
    {
     "data": {
      "text/html": [
       "<div><style>:root {\n",
       "  --font-color-primary: var(--jp-content-font-color0, rgba(0, 0, 0, 1));\n",
       "  --font-color-secondary: var(--jp-content-font-color2, rgba(0, 0, 0, 0.6));\n",
       "  --font-color-accent: rgba(123, 31, 162, 1);\n",
       "  --border-color: var(--jp-border-color2, #e0e0e0);\n",
       "  --background-color: var(--jp-layout-color0, white);\n",
       "  --background-color-row-even: var(--jp-layout-color1, white);\n",
       "  --background-color-row-odd: var(--jp-layout-color2, #eeeeee);\n",
       "}\n",
       "\n",
       "html[theme=\"dark\"],\n",
       "body[data-theme=\"dark\"],\n",
       "body.vscode-dark {\n",
       "  --font-color-primary: rgba(255, 255, 255, 1);\n",
       "  --font-color-secondary: rgba(255, 255, 255, 0.6);\n",
       "  --font-color-accent: rgb(173, 132, 190);\n",
       "  --border-color: #2e2e2e;\n",
       "  --background-color: #111111;\n",
       "  --background-color-row-even: #111111;\n",
       "  --background-color-row-odd: #313131;\n",
       "}\n",
       "\n",
       ".ee {\n",
       "  padding: 1em;\n",
       "  line-height: 1.5em;\n",
       "  min-width: 300px;\n",
       "  max-width: 1200px;\n",
       "  overflow-y: scroll;\n",
       "  max-height: 600px;\n",
       "  border: 1px solid var(--border-color);\n",
       "  font-family: monospace;\n",
       "}\n",
       "\n",
       ".ee li {\n",
       "  list-style-type: none;\n",
       "}\n",
       "\n",
       ".ee ul {\n",
       "  padding-left: 1.5em !important;\n",
       "  margin: 0;\n",
       "}\n",
       "\n",
       ".ee > ul {\n",
       "  padding-left: 0 !important;\n",
       "}\n",
       "\n",
       ".ee-open,\n",
       ".ee-shut {\n",
       "  color: var(--font-color-secondary);\n",
       "  cursor: pointer;\n",
       "  margin: 0;\n",
       "}\n",
       "\n",
       ".ee-open:hover,\n",
       ".ee-shut:hover {\n",
       "  color: var(--font-color-primary);\n",
       "}\n",
       "\n",
       ".ee-k {\n",
       "  color: var(--font-color-accent);\n",
       "  margin-right: 6px;\n",
       "}\n",
       "\n",
       ".ee-v {\n",
       "  color: var(--font-color-primary);\n",
       "}\n",
       "\n",
       ".ee-toggle {\n",
       "  display: none;\n",
       "}\n",
       "\n",
       ".ee-shut + ul {\n",
       "  display: none;\n",
       "}\n",
       "\n",
       ".ee-open + ul {\n",
       "  display: block;\n",
       "}\n",
       "\n",
       ".ee-shut::before {\n",
       "  display: inline-block;\n",
       "  content: \"▼\";\n",
       "  margin-right: 6px;\n",
       "  transform: rotate(-90deg);\n",
       "  transition: transform 0.2s;\n",
       "}\n",
       "\n",
       ".ee-open::before {\n",
       "  transform: rotate(0deg);\n",
       "  display: inline-block;\n",
       "  content: \"▼\";\n",
       "  margin-right: 6px;\n",
       "  transition: transform 0.2s;\n",
       "}\n",
       "</style><div class='ee'><ul><li><label class='ee-shut'>FeatureCollection (10 elements, 4 columns)<input type='checkbox' class='ee-toggle'></label><ul><li><span class='ee-k'>type:</span><span class='ee-v'>FeatureCollection</span></li><li><label class='ee-shut'>columns: Object (4 properties)<input type='checkbox' class='ee-toggle'></label><ul><li><span class='ee-k'>chili:</span><span class='ee-v'>Float<0.0, 255.0></span></li><li><span class='ee-k'>elev:</span><span class='ee-v'>Float</span></li><li><span class='ee-k'>slope:</span><span class='ee-v'>Float<0.0, 90.0></span></li><li><span class='ee-k'>tpi:</span><span class='ee-v'>Float<-2.147483648E9, 2.147483647E9></span></li></ul></li><li><label class='ee-shut'>features: List (10 elements)<input type='checkbox' class='ee-toggle'></label><ul><li><label class='ee-shut'>0: Feature (Polygon, 6 properties)<input type='checkbox' class='ee-toggle'></label><ul><li><span class='ee-k'>type:</span><span class='ee-v'>Feature</span></li><li><span class='ee-k'>id:</span><span class='ee-v'>000000000000000010c3</span></li><li><label class='ee-shut'>geometry: Polygon (5 vertices)<input type='checkbox' class='ee-toggle'></label><ul><li><span class='ee-k'>type:</span><span class='ee-v'>Polygon</span></li><li><label class='ee-shut'>coordinates: List (1 element)<input type='checkbox' class='ee-toggle'></label><ul><li><label class='ee-shut'>0: List (5 elements)<input type='checkbox' class='ee-toggle'></label><ul><li><label class='ee-shut'>0: [-106.06092344293033, 36.61137499975308]<input type='checkbox' class='ee-toggle'></label><ul><li><span class='ee-k'>0:</span><span class='ee-v'>-106.06092344293033</span></li><li><span class='ee-k'>1:</span><span class='ee-v'>36.61137499975308</span></li></ul></li><li><label class='ee-shut'>1: [-106.0567125077608, 36.611728936257116]<input type='checkbox' class='ee-toggle'></label><ul><li><span class='ee-k'>0:</span><span class='ee-v'>-106.0567125077608</span></li><li><span class='ee-k'>1:</span><span class='ee-v'>36.611728936257116</span></li></ul></li><li><label class='ee-shut'>2: [-106.05715926724355, 36.615055587226124]<input type='checkbox' class='ee-toggle'></label><ul><li><span class='ee-k'>0:</span><span class='ee-v'>-106.05715926724355</span></li><li><span class='ee-k'>1:</span><span class='ee-v'>36.615055587226124</span></li></ul></li><li><label class='ee-shut'>3: [-106.0613703915177, 36.61470165731582]<input type='checkbox' class='ee-toggle'></label><ul><li><span class='ee-k'>0:</span><span class='ee-v'>-106.0613703915177</span></li><li><span class='ee-k'>1:</span><span class='ee-v'>36.61470165731582</span></li></ul></li><li><label class='ee-shut'>4: [-106.06092344293033, 36.61137499975308]<input type='checkbox' class='ee-toggle'></label><ul><li><span class='ee-k'>0:</span><span class='ee-v'>-106.06092344293033</span></li><li><span class='ee-k'>1:</span><span class='ee-v'>36.61137499975308</span></li></ul></li></ul></li></ul></li></ul></li><li><label class='ee-shut'>properties: Object (6 properties)<input type='checkbox' class='ee-toggle'></label><ul><li><span class='ee-k'>Fire_ID:</span><span class='ee-v'>71</span></li><li><span class='ee-k'>chili:</span><span class='ee-v'>184.52191166976792</span></li><li><span class='ee-k'>elev:</span><span class='ee-v'>2615.5018491765663</span></li><li><span class='ee-k'>grid_index:</span><span class='ee-v'>1766660</span></li><li><span class='ee-k'>slope:</span><span class='ee-v'>8.728786667853026</span></li><li><span class='ee-k'>tpi:</span><span class='ee-v'>10.193281718755928</span></li></ul></li></ul></li><li><label class='ee-shut'>1: Feature (Polygon, 6 properties)<input type='checkbox' class='ee-toggle'></label><ul><li><span class='ee-k'>type:</span><span class='ee-v'>Feature</span></li><li><span class='ee-k'>id:</span><span class='ee-v'>000000000000000010c4</span></li><li><label class='ee-shut'>geometry: Polygon (5 vertices)<input type='checkbox' class='ee-toggle'></label><ul><li><span class='ee-k'>type:</span><span class='ee-v'>Polygon</span></li><li><label class='ee-shut'>coordinates: List (1 element)<input type='checkbox' class='ee-toggle'></label><ul><li><label class='ee-shut'>0: List (5 elements)<input type='checkbox' class='ee-toggle'></label><ul><li><label class='ee-shut'>0: [-106.05715926724355, 36.615055587226124]<input type='checkbox' class='ee-toggle'></label><ul><li><span class='ee-k'>0:</span><span class='ee-v'>-106.05715926724355</span></li><li><span class='ee-k'>1:</span><span class='ee-v'>36.615055587226124</span></li></ul></li><li><label class='ee-shut'>1: [-106.05760656591558, 36.618386580757914]<input type='checkbox' class='ee-toggle'></label><ul><li><span class='ee-k'>0:</span><span class='ee-v'>-106.05760656591558</span></li><li><span class='ee-k'>1:</span><span class='ee-v'>36.618386580757914</span></li></ul></li><li><label class='ee-shut'>2: [-106.06181787930613, 36.61803265737334]<input type='checkbox' class='ee-toggle'></label><ul><li><span class='ee-k'>0:</span><span class='ee-v'>-106.06181787930613</span></li><li><span class='ee-k'>1:</span><span class='ee-v'>36.61803265737334</span></li></ul></li><li><label class='ee-shut'>3: [-106.0613703915177, 36.61470165731582]<input type='checkbox' class='ee-toggle'></label><ul><li><span class='ee-k'>0:</span><span class='ee-v'>-106.0613703915177</span></li><li><span class='ee-k'>1:</span><span class='ee-v'>36.61470165731582</span></li></ul></li><li><label class='ee-shut'>4: [-106.05715926724355, 36.615055587226124]<input type='checkbox' class='ee-toggle'></label><ul><li><span class='ee-k'>0:</span><span class='ee-v'>-106.05715926724355</span></li><li><span class='ee-k'>1:</span><span class='ee-v'>36.615055587226124</span></li></ul></li></ul></li></ul></li></ul></li><li><label class='ee-shut'>properties: Object (6 properties)<input type='checkbox' class='ee-toggle'></label><ul><li><span class='ee-k'>Fire_ID:</span><span class='ee-v'>71</span></li><li><span class='ee-k'>chili:</span><span class='ee-v'>181.44927113702627</span></li><li><span class='ee-k'>elev:</span><span class='ee-v'>2580.2836793754277</span></li><li><span class='ee-k'>grid_index:</span><span class='ee-v'>1766661</span></li><li><span class='ee-k'>slope:</span><span class='ee-v'>10.474596567425984</span></li><li><span class='ee-k'>tpi:</span><span class='ee-v'>-5.619934106046601</span></li></ul></li></ul></li><li><label class='ee-shut'>2: Feature (Polygon, 6 properties)<input type='checkbox' class='ee-toggle'></label><ul><li><span class='ee-k'>type:</span><span class='ee-v'>Feature</span></li><li><span class='ee-k'>id:</span><span class='ee-v'>000000000000000010c5</span></li><li><label class='ee-shut'>geometry: Polygon (5 vertices)<input type='checkbox' class='ee-toggle'></label><ul><li><span class='ee-k'>type:</span><span class='ee-v'>Polygon</span></li><li><label class='ee-shut'>coordinates: List (1 element)<input type='checkbox' class='ee-toggle'></label><ul><li><label class='ee-shut'>0: List (5 elements)<input type='checkbox' class='ee-toggle'></label><ul><li><label class='ee-shut'>0: [-106.05760656591558, 36.618386580757914]<input type='checkbox' class='ee-toggle'></label><ul><li><span class='ee-k'>0:</span><span class='ee-v'>-106.05760656591558</span></li><li><span class='ee-k'>1:</span><span class='ee-v'>36.618386580757914</span></li></ul></li><li><label class='ee-shut'>1: [-106.05805341715488, 36.62171322447694]<input type='checkbox' class='ee-toggle'></label><ul><li><span class='ee-k'>0:</span><span class='ee-v'>-106.05805341715488</span></li><li><span class='ee-k'>1:</span><span class='ee-v'>36.62171322447694</span></li></ul></li><li><label class='ee-shut'>2: [-106.06226491965212, 36.62135930767039]<input type='checkbox' class='ee-toggle'></label><ul><li><span class='ee-k'>0:</span><span class='ee-v'>-106.06226491965212</span></li><li><span class='ee-k'>1:</span><span class='ee-v'>36.62135930767039</span></li></ul></li><li><label class='ee-shut'>3: [-106.06181787930613, 36.61803265737334]<input type='checkbox' class='ee-toggle'></label><ul><li><span class='ee-k'>0:</span><span class='ee-v'>-106.06181787930613</span></li><li><span class='ee-k'>1:</span><span class='ee-v'>36.61803265737334</span></li></ul></li><li><label class='ee-shut'>4: [-106.05760656591558, 36.618386580757914]<input type='checkbox' class='ee-toggle'></label><ul><li><span class='ee-k'>0:</span><span class='ee-v'>-106.05760656591558</span></li><li><span class='ee-k'>1:</span><span class='ee-v'>36.618386580757914</span></li></ul></li></ul></li></ul></li></ul></li><li><label class='ee-shut'>properties: Object (6 properties)<input type='checkbox' class='ee-toggle'></label><ul><li><span class='ee-k'>Fire_ID:</span><span class='ee-v'>71</span></li><li><span class='ee-k'>chili:</span><span class='ee-v'>197.54661072256656</span></li><li><span class='ee-k'>elev:</span><span class='ee-v'>2552.9703913031462</span></li><li><span class='ee-k'>grid_index:</span><span class='ee-v'>1766662</span></li><li><span class='ee-k'>slope:</span><span class='ee-v'>13.34224903930994</span></li><li><span class='ee-k'>tpi:</span><span class='ee-v'>-17.656005486825222</span></li></ul></li></ul></li><li><label class='ee-shut'>3: Feature (Polygon, 6 properties)<input type='checkbox' class='ee-toggle'></label><ul><li><span class='ee-k'>type:</span><span class='ee-v'>Feature</span></li><li><span class='ee-k'>id:</span><span class='ee-v'>000000000000000010c6</span></li><li><label class='ee-shut'>geometry: Polygon (5 vertices)<input type='checkbox' class='ee-toggle'></label><ul><li><span class='ee-k'>type:</span><span class='ee-v'>Polygon</span></li><li><label class='ee-shut'>coordinates: List (1 element)<input type='checkbox' class='ee-toggle'></label><ul><li><label class='ee-shut'>0: List (5 elements)<input type='checkbox' class='ee-toggle'></label><ul><li><label class='ee-shut'>0: [-106.05805341715488, 36.62171322447694]<input type='checkbox' class='ee-toggle'></label><ul><li><span class='ee-k'>0:</span><span class='ee-v'>-106.05805341715488</span></li><li><span class='ee-k'>1:</span><span class='ee-v'>36.62171322447694</span></li></ul></li><li><label class='ee-shut'>1: [-106.05850080758621, 36.62504421026174]<input type='checkbox' class='ee-toggle'></label><ul><li><span class='ee-k'>0:</span><span class='ee-v'>-106.05850080758621</span></li><li><span class='ee-k'>1:</span><span class='ee-v'>36.62504421026174</span></li></ul></li><li><label class='ee-shut'>2: [-106.0627124992019, 36.6246902999652]<input type='checkbox' class='ee-toggle'></label><ul><li><span class='ee-k'>0:</span><span class='ee-v'>-106.0627124992019</span></li><li><span class='ee-k'>1:</span><span class='ee-v'>36.6246902999652</span></li></ul></li><li><label class='ee-shut'>3: [-106.06226491965212, 36.62135930767039]<input type='checkbox' class='ee-toggle'></label><ul><li><span class='ee-k'>0:</span><span class='ee-v'>-106.06226491965212</span></li><li><span class='ee-k'>1:</span><span class='ee-v'>36.62135930767039</span></li></ul></li><li><label class='ee-shut'>4: [-106.05805341715488, 36.62171322447694]<input type='checkbox' class='ee-toggle'></label><ul><li><span class='ee-k'>0:</span><span class='ee-v'>-106.05805341715488</span></li><li><span class='ee-k'>1:</span><span class='ee-v'>36.62171322447694</span></li></ul></li></ul></li></ul></li></ul></li><li><label class='ee-shut'>properties: Object (6 properties)<input type='checkbox' class='ee-toggle'></label><ul><li><span class='ee-k'>Fire_ID:</span><span class='ee-v'>71</span></li><li><span class='ee-k'>chili:</span><span class='ee-v'>204.8376970423796</span></li><li><span class='ee-k'>elev:</span><span class='ee-v'>2535.6667522141884</span></li><li><span class='ee-k'>grid_index:</span><span class='ee-v'>1766663</span></li><li><span class='ee-k'>slope:</span><span class='ee-v'>12.566909897772797</span></li><li><span class='ee-k'>tpi:</span><span class='ee-v'>-28.713061738167987</span></li></ul></li></ul></li><li><label class='ee-shut'>4: Feature (Polygon, 6 properties)<input type='checkbox' class='ee-toggle'></label><ul><li><span class='ee-k'>type:</span><span class='ee-v'>Feature</span></li><li><span class='ee-k'>id:</span><span class='ee-v'>000000000000000010c7</span></li><li><label class='ee-shut'>geometry: Polygon (5 vertices)<input type='checkbox' class='ee-toggle'></label><ul><li><span class='ee-k'>type:</span><span class='ee-v'>Polygon</span></li><li><label class='ee-shut'>coordinates: List (1 element)<input type='checkbox' class='ee-toggle'></label><ul><li><label class='ee-shut'>0: List (5 elements)<input type='checkbox' class='ee-toggle'></label><ul><li><label class='ee-shut'>0: [-106.0567125077608, 36.611728936257116]<input type='checkbox' class='ee-toggle'></label><ul><li><span class='ee-k'>0:</span><span class='ee-v'>-106.0567125077608</span></li><li><span class='ee-k'>1:</span><span class='ee-v'>36.611728936257116</span></li></ul></li><li><label class='ee-shut'>1: [-106.05626530084713, 36.60839785488621]<input type='checkbox' class='ee-toggle'></label><ul><li><span class='ee-k'>0:</span><span class='ee-v'>-106.05626530084713</span></li><li><span class='ee-k'>1:</span><span class='ee-v'>36.60839785488621</span></li></ul></li><li><label class='ee-shut'>2: [-106.05206002782579, 36.608751124589936]<input type='checkbox' class='ee-toggle'></label><ul><li><span class='ee-k'>0:</span><span class='ee-v'>-106.05206002782579</span></li><li><span class='ee-k'>1:</span><span class='ee-v'>36.608751124589936</span></li></ul></li><li><label class='ee-shut'>3: [-106.05250713532878, 36.61208218698229]<input type='checkbox' class='ee-toggle'></label><ul><li><span class='ee-k'>0:</span><span class='ee-v'>-106.05250713532878</span></li><li><span class='ee-k'>1:</span><span class='ee-v'>36.61208218698229</span></li></ul></li><li><label class='ee-shut'>4: [-106.0567125077608, 36.611728936257116]<input type='checkbox' class='ee-toggle'></label><ul><li><span class='ee-k'>0:</span><span class='ee-v'>-106.0567125077608</span></li><li><span class='ee-k'>1:</span><span class='ee-v'>36.611728936257116</span></li></ul></li></ul></li></ul></li></ul></li><li><label class='ee-shut'>properties: Object (6 properties)<input type='checkbox' class='ee-toggle'></label><ul><li><span class='ee-k'>Fire_ID:</span><span class='ee-v'>71</span></li><li><span class='ee-k'>chili:</span><span class='ee-v'>196.099985758705</span></li><li><span class='ee-k'>elev:</span><span class='ee-v'>2610.1535413324627</span></li><li><span class='ee-k'>grid_index:</span><span class='ee-v'>1768909</span></li><li><span class='ee-k'>slope:</span><span class='ee-v'>9.066625922388376</span></li><li><span class='ee-k'>tpi:</span><span class='ee-v'>10.37332605444922</span></li></ul></li></ul></li><li><label class='ee-shut'>5: Feature (Polygon, 6 properties)<input type='checkbox' class='ee-toggle'></label><ul><li><span class='ee-k'>type:</span><span class='ee-v'>Feature</span></li><li><span class='ee-k'>id:</span><span class='ee-v'>000000000000000010c8</span></li><li><label class='ee-shut'>geometry: Polygon (5 vertices)<input type='checkbox' class='ee-toggle'></label><ul><li><span class='ee-k'>type:</span><span class='ee-v'>Polygon</span></li><li><label class='ee-shut'>coordinates: List (1 element)<input type='checkbox' class='ee-toggle'></label><ul><li><label class='ee-shut'>0: List (5 elements)<input type='checkbox' class='ee-toggle'></label><ul><li><label class='ee-shut'>0: [-106.0567125077608, 36.611728936257116]<input type='checkbox' class='ee-toggle'></label><ul><li><span class='ee-k'>0:</span><span class='ee-v'>-106.0567125077608</span></li><li><span class='ee-k'>1:</span><span class='ee-v'>36.611728936257116</span></li></ul></li><li><label class='ee-shut'>1: [-106.05250713532878, 36.61208218698229]<input type='checkbox' class='ee-toggle'></label><ul><li><span class='ee-k'>0:</span><span class='ee-v'>-106.05250713532878</span></li><li><span class='ee-k'>1:</span><span class='ee-v'>36.61208218698229</span></li></ul></li><li><label class='ee-shut'>2: [-106.05295370572007, 36.61540883127349]<input type='checkbox' class='ee-toggle'></label><ul><li><span class='ee-k'>0:</span><span class='ee-v'>-106.05295370572007</span></li><li><span class='ee-k'>1:</span><span class='ee-v'>36.61540883127349</span></li></ul></li><li><label class='ee-shut'>3: [-106.05715926724355, 36.615055587226124]<input type='checkbox' class='ee-toggle'></label><ul><li><span class='ee-k'>0:</span><span class='ee-v'>-106.05715926724355</span></li><li><span class='ee-k'>1:</span><span class='ee-v'>36.615055587226124</span></li></ul></li><li><label class='ee-shut'>4: [-106.0567125077608, 36.611728936257116]<input type='checkbox' class='ee-toggle'></label><ul><li><span class='ee-k'>0:</span><span class='ee-v'>-106.0567125077608</span></li><li><span class='ee-k'>1:</span><span class='ee-v'>36.611728936257116</span></li></ul></li></ul></li></ul></li></ul></li><li><label class='ee-shut'>properties: Object (6 properties)<input type='checkbox' class='ee-toggle'></label><ul><li><span class='ee-k'>Fire_ID:</span><span class='ee-v'>71</span></li><li><span class='ee-k'>chili:</span><span class='ee-v'>190.4143432638947</span></li><li><span class='ee-k'>elev:</span><span class='ee-v'>2606.406296623779</span></li><li><span class='ee-k'>grid_index:</span><span class='ee-v'>1768910</span></li><li><span class='ee-k'>slope:</span><span class='ee-v'>10.609594018529528</span></li><li><span class='ee-k'>tpi:</span><span class='ee-v'>-2.2137847440909773</span></li></ul></li></ul></li><li><label class='ee-shut'>6: Feature (Polygon, 6 properties)<input type='checkbox' class='ee-toggle'></label><ul><li><span class='ee-k'>type:</span><span class='ee-v'>Feature</span></li><li><span class='ee-k'>id:</span><span class='ee-v'>000000000000000010cb</span></li><li><label class='ee-shut'>geometry: Polygon (5 vertices)<input type='checkbox' class='ee-toggle'></label><ul><li><span class='ee-k'>type:</span><span class='ee-v'>Polygon</span></li><li><label class='ee-shut'>coordinates: List (1 element)<input type='checkbox' class='ee-toggle'></label><ul><li><label class='ee-shut'>0: List (5 elements)<input type='checkbox' class='ee-toggle'></label><ul><li><label class='ee-shut'>0: [-106.05805341715488, 36.62171322447694]<input type='checkbox' class='ee-toggle'></label><ul><li><span class='ee-k'>0:</span><span class='ee-v'>-106.05805341715488</span></li><li><span class='ee-k'>1:</span><span class='ee-v'>36.62171322447694</span></li></ul></li><li><label class='ee-shut'>1: [-106.05384747743469, 36.62206653550475]<input type='checkbox' class='ee-toggle'></label><ul><li><span class='ee-k'>0:</span><span class='ee-v'>-106.05384747743469</span></li><li><span class='ee-k'>1:</span><span class='ee-v'>36.62206653550475</span></li></ul></li><li><label class='ee-shut'>2: [-106.05429467876074, 36.625397594940516]<input type='checkbox' class='ee-toggle'></label><ul><li><span class='ee-k'>0:</span><span class='ee-v'>-106.05429467876074</span></li><li><span class='ee-k'>1:</span><span class='ee-v'>36.625397594940516</span></li></ul></li><li><label class='ee-shut'>3: [-106.05850080758621, 36.62504421026174]<input type='checkbox' class='ee-toggle'></label><ul><li><span class='ee-k'>0:</span><span class='ee-v'>-106.05850080758621</span></li><li><span class='ee-k'>1:</span><span class='ee-v'>36.62504421026174</span></li></ul></li><li><label class='ee-shut'>4: [-106.05805341715488, 36.62171322447694]<input type='checkbox' class='ee-toggle'></label><ul><li><span class='ee-k'>0:</span><span class='ee-v'>-106.05805341715488</span></li><li><span class='ee-k'>1:</span><span class='ee-v'>36.62171322447694</span></li></ul></li></ul></li></ul></li></ul></li><li><label class='ee-shut'>properties: Object (6 properties)<input type='checkbox' class='ee-toggle'></label><ul><li><span class='ee-k'>Fire_ID:</span><span class='ee-v'>71</span></li><li><span class='ee-k'>chili:</span><span class='ee-v'>198.16869534262838</span></li><li><span class='ee-k'>elev:</span><span class='ee-v'>2596.923271355752</span></li><li><span class='ee-k'>grid_index:</span><span class='ee-v'>1768913</span></li><li><span class='ee-k'>slope:</span><span class='ee-v'>19.518949272044832</span></li><li><span class='ee-k'>tpi:</span><span class='ee-v'>-4.94143458914269</span></li></ul></li></ul></li><li><label class='ee-shut'>7: Feature (Polygon, 6 properties)<input type='checkbox' class='ee-toggle'></label><ul><li><span class='ee-k'>type:</span><span class='ee-v'>Feature</span></li><li><span class='ee-k'>id:</span><span class='ee-v'>000000000000000010cc</span></li><li><label class='ee-shut'>geometry: Polygon (5 vertices)<input type='checkbox' class='ee-toggle'></label><ul><li><span class='ee-k'>type:</span><span class='ee-v'>Polygon</span></li><li><label class='ee-shut'>coordinates: List (1 element)<input type='checkbox' class='ee-toggle'></label><ul><li><label class='ee-shut'>0: List (5 elements)<input type='checkbox' class='ee-toggle'></label><ul><li><label class='ee-shut'>0: [-106.05206002782579, 36.608751124589936]<input type='checkbox' class='ee-toggle'></label><ul><li><span class='ee-k'>0:</span><span class='ee-v'>-106.05206002782579</span></li><li><span class='ee-k'>1:</span><span class='ee-v'>36.608751124589936</span></li></ul></li><li><label class='ee-shut'>1: [-106.04784919586787, 36.60910475907025]<input type='checkbox' class='ee-toggle'></label><ul><li><span class='ee-k'>0:</span><span class='ee-v'>-106.04784919586787</span></li><li><span class='ee-k'>1:</span><span class='ee-v'>36.60910475907025</span></li></ul></li><li><label class='ee-shut'>2: [-106.04829611425507, 36.61243581488217]<input type='checkbox' class='ee-toggle'></label><ul><li><span class='ee-k'>0:</span><span class='ee-v'>-106.04829611425507</span></li><li><span class='ee-k'>1:</span><span class='ee-v'>36.61243581488217</span></li></ul></li><li><label class='ee-shut'>3: [-106.05250713532878, 36.61208218698229]<input type='checkbox' class='ee-toggle'></label><ul><li><span class='ee-k'>0:</span><span class='ee-v'>-106.05250713532878</span></li><li><span class='ee-k'>1:</span><span class='ee-v'>36.61208218698229</span></li></ul></li><li><label class='ee-shut'>4: [-106.05206002782579, 36.608751124589936]<input type='checkbox' class='ee-toggle'></label><ul><li><span class='ee-k'>0:</span><span class='ee-v'>-106.05206002782579</span></li><li><span class='ee-k'>1:</span><span class='ee-v'>36.608751124589936</span></li></ul></li></ul></li></ul></li></ul></li><li><label class='ee-shut'>properties: Object (6 properties)<input type='checkbox' class='ee-toggle'></label><ul><li><span class='ee-k'>Fire_ID:</span><span class='ee-v'>71</span></li><li><span class='ee-k'>chili:</span><span class='ee-v'>215.6554450141397</span></li><li><span class='ee-k'>elev:</span><span class='ee-v'>2593.8945489374223</span></li><li><span class='ee-k'>grid_index:</span><span class='ee-v'>1771159</span></li><li><span class='ee-k'>slope:</span><span class='ee-v'>12.921564813838884</span></li><li><span class='ee-k'>tpi:</span><span class='ee-v'>-13.530546646660165</span></li></ul></li></ul></li><li><label class='ee-shut'>8: Feature (Polygon, 6 properties)<input type='checkbox' class='ee-toggle'></label><ul><li><span class='ee-k'>type:</span><span class='ee-v'>Feature</span></li><li><span class='ee-k'>id:</span><span class='ee-v'>000000000000000010cd</span></li><li><label class='ee-shut'>geometry: Polygon (5 vertices)<input type='checkbox' class='ee-toggle'></label><ul><li><span class='ee-k'>type:</span><span class='ee-v'>Polygon</span></li><li><label class='ee-shut'>coordinates: List (1 element)<input type='checkbox' class='ee-toggle'></label><ul><li><label class='ee-shut'>0: List (5 elements)<input type='checkbox' class='ee-toggle'></label><ul><li><label class='ee-shut'>0: [-106.05250713532878, 36.61208218698229]<input type='checkbox' class='ee-toggle'></label><ul><li><span class='ee-k'>0:</span><span class='ee-v'>-106.05250713532878</span></li><li><span class='ee-k'>1:</span><span class='ee-v'>36.61208218698229</span></li></ul></li><li><label class='ee-shut'>1: [-106.04829611425507, 36.61243581488217]<input type='checkbox' class='ee-toggle'></label><ul><li><span class='ee-k'>0:</span><span class='ee-v'>-106.04829611425507</span></li><li><span class='ee-k'>1:</span><span class='ee-v'>36.61243581488217</span></li></ul></li><li><label class='ee-shut'>2: [-106.0487424955422, 36.61576245253628]<input type='checkbox' class='ee-toggle'></label><ul><li><span class='ee-k'>0:</span><span class='ee-v'>-106.0487424955422</span></li><li><span class='ee-k'>1:</span><span class='ee-v'>36.61576245253628</span></li></ul></li><li><label class='ee-shut'>3: [-106.05295370572007, 36.61540883127349]<input type='checkbox' class='ee-toggle'></label><ul><li><span class='ee-k'>0:</span><span class='ee-v'>-106.05295370572007</span></li><li><span class='ee-k'>1:</span><span class='ee-v'>36.61540883127349</span></li></ul></li><li><label class='ee-shut'>4: [-106.05250713532878, 36.61208218698229]<input type='checkbox' class='ee-toggle'></label><ul><li><span class='ee-k'>0:</span><span class='ee-v'>-106.05250713532878</span></li><li><span class='ee-k'>1:</span><span class='ee-v'>36.61208218698229</span></li></ul></li></ul></li></ul></li></ul></li><li><label class='ee-shut'>properties: Object (6 properties)<input type='checkbox' class='ee-toggle'></label><ul><li><span class='ee-k'>Fire_ID:</span><span class='ee-v'>71</span></li><li><span class='ee-k'>chili:</span><span class='ee-v'>219.05656888829822</span></li><li><span class='ee-k'>elev:</span><span class='ee-v'>2634.21116227751</span></li><li><span class='ee-k'>grid_index:</span><span class='ee-v'>1771160</span></li><li><span class='ee-k'>slope:</span><span class='ee-v'>13.589717499450856</span></li><li><span class='ee-k'>tpi:</span><span class='ee-v'>16.740225525541934</span></li></ul></li></ul></li><li><label class='ee-shut'>9: Feature (Polygon, 6 properties)<input type='checkbox' class='ee-toggle'></label><ul><li><span class='ee-k'>type:</span><span class='ee-v'>Feature</span></li><li><span class='ee-k'>id:</span><span class='ee-v'>000000000000000010d0</span></li><li><label class='ee-shut'>geometry: Polygon (5 vertices)<input type='checkbox' class='ee-toggle'></label><ul><li><span class='ee-k'>type:</span><span class='ee-v'>Polygon</span></li><li><label class='ee-shut'>coordinates: List (1 element)<input type='checkbox' class='ee-toggle'></label><ul><li><label class='ee-shut'>0: List (5 elements)<input type='checkbox' class='ee-toggle'></label><ul><li><label class='ee-shut'>0: [-106.05384747743469, 36.62206653550475]<input type='checkbox' class='ee-toggle'></label><ul><li><span class='ee-k'>0:</span><span class='ee-v'>-106.05384747743469</span></li><li><span class='ee-k'>1:</span><span class='ee-v'>36.62206653550475</span></li></ul></li><li><label class='ee-shut'>1: [-106.04963588903466, 36.62242022383095]<input type='checkbox' class='ee-toggle'></label><ul><li><span class='ee-k'>0:</span><span class='ee-v'>-106.04963588903466</span></li><li><span class='ee-k'>1:</span><span class='ee-v'>36.62242022383095</span></li></ul></li><li><label class='ee-shut'>2: [-106.05008290124273, 36.625751276710425]<input type='checkbox' class='ee-toggle'></label><ul><li><span class='ee-k'>0:</span><span class='ee-v'>-106.05008290124273</span></li><li><span class='ee-k'>1:</span><span class='ee-v'>36.625751276710425</span></li></ul></li><li><label class='ee-shut'>3: [-106.05429467876074, 36.625397594940516]<input type='checkbox' class='ee-toggle'></label><ul><li><span class='ee-k'>0:</span><span class='ee-v'>-106.05429467876074</span></li><li><span class='ee-k'>1:</span><span class='ee-v'>36.625397594940516</span></li></ul></li><li><label class='ee-shut'>4: [-106.05384747743469, 36.62206653550475]<input type='checkbox' class='ee-toggle'></label><ul><li><span class='ee-k'>0:</span><span class='ee-v'>-106.05384747743469</span></li><li><span class='ee-k'>1:</span><span class='ee-v'>36.62206653550475</span></li></ul></li></ul></li></ul></li></ul></li><li><label class='ee-shut'>properties: Object (6 properties)<input type='checkbox' class='ee-toggle'></label><ul><li><span class='ee-k'>Fire_ID:</span><span class='ee-v'>71</span></li><li><span class='ee-k'>chili:</span><span class='ee-v'>205.67356655819916</span></li><li><span class='ee-k'>elev:</span><span class='ee-v'>2648.3130911632124</span></li><li><span class='ee-k'>grid_index:</span><span class='ee-v'>1771163</span></li><li><span class='ee-k'>slope:</span><span class='ee-v'>18.26612899642945</span></li><li><span class='ee-k'>tpi:</span><span class='ee-v'>13.021360907619345</span></li></ul></li></ul></li></ul></li></ul></li></ul></div><script>function toggleHeader() {\n",
       "    const parent = this.parentElement;\n",
       "    parent.className = parent.className === \"ee-open\" ? \"ee-shut\" : \"ee-open\";\n",
       "}\n",
       "\n",
       "for (let c of document.getElementsByClassName(\"ee-toggle\")) {\n",
       "    c.onclick = toggleHeader;\n",
       "}</script></div>"
      ],
      "text/plain": [
       "<ee.featurecollection.FeatureCollection at 0x166a436d0>"
      ]
     },
     "execution_count": 4,
     "metadata": {},
     "output_type": "execute_result"
    }
   ],
   "source": [
    "# Run the reduction on the grid\n",
    "stats = topo.reduceRegions(\n",
    "    collection=grid,\n",
    "    reducer=ee.Reducer.mean()\n",
    ")\n",
    "stats.limit(10)"
   ]
  },
  {
   "cell_type": "code",
   "execution_count": 5,
   "id": "4d25b420-ec86-419e-8a44-823853ecd985",
   "metadata": {},
   "outputs": [
    {
     "data": {
      "text/html": [
       "\n",
       "            <style>\n",
       "                .geemap-dark {\n",
       "                    --jp-widgets-color: white;\n",
       "                    --jp-widgets-label-color: white;\n",
       "                    --jp-ui-font-color1: white;\n",
       "                    --jp-layout-color2: #454545;\n",
       "                    background-color: #383838;\n",
       "                }\n",
       "\n",
       "                .geemap-dark .jupyter-button {\n",
       "                    --jp-layout-color3: #383838;\n",
       "                }\n",
       "\n",
       "                .geemap-colab {\n",
       "                    background-color: var(--colab-primary-surface-color, white);\n",
       "                }\n",
       "\n",
       "                .geemap-colab .jupyter-button {\n",
       "                    --jp-layout-color3: var(--colab-primary-surface-color, white);\n",
       "                }\n",
       "            </style>\n",
       "            "
      ],
      "text/plain": [
       "<IPython.core.display.HTML object>"
      ]
     },
     "metadata": {},
     "output_type": "display_data"
    },
    {
     "name": "stdout",
     "output_type": "stream",
     "text": [
      "Export to Earth Engine Asset started!\n",
      "Waiting for export to finish..\n",
      "\tPatience young padawan.\n",
      "Export completed successfully !!!!\n"
     ]
    }
   ],
   "source": [
    "# Remove geometry\n",
    "def remove_geometry(ftr):\n",
    "    return ftr.setGeometry(None)\n",
    "stats = stats.map(remove_geometry)\n",
    "\n",
    "# export to drive\n",
    "export_task = ee.batch.Export.table.toDrive(\n",
    "    collection=stats,\n",
    "    description='gridstats_topo',\n",
    "    fileNamePrefix='gridstats_topo',\n",
    "    fileFormat='CSV', \n",
    "    folder='Topo'\n",
    ")\n",
    "\n",
    "export_task.start() # Start the export task\n",
    "print(\"Export to Earth Engine Asset started!\")\n",
    "# Monitor the task until it's finished\n",
    "monitor_export(export_task, 30) "
   ]
  }
 ],
 "metadata": {
  "kernelspec": {
   "display_name": "aspen-fire",
   "language": "python",
   "name": "aspen-fire"
  },
  "language_info": {
   "codemirror_mode": {
    "name": "ipython",
    "version": 3
   },
   "file_extension": ".py",
   "mimetype": "text/x-python",
   "name": "python",
   "nbconvert_exporter": "python",
   "pygments_lexer": "ipython3",
   "version": "3.10.12"
  }
 },
 "nbformat": 4,
 "nbformat_minor": 5
}
