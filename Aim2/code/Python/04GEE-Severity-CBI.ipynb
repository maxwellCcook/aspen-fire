{
 "cells": [
  {
   "cell_type": "code",
   "execution_count": 1,
   "id": "e8875da6-de28-494e-8590-5deff24c959f",
   "metadata": {},
   "outputs": [
    {
     "name": "stdout",
     "output_type": "stream",
     "text": [
      "Success !\n"
     ]
    }
   ],
   "source": [
    "\"\"\"\n",
    "Calculate fire severity statistics within AFD observations from MODIS and VIIRS.\n",
    "Severity index: Composite Burn Severity (CBI), calculated in GEE via Parks (2018)\n",
    "\n",
    "Author: maxwell.cook@colorado.edu\n",
    "\"\"\"\n",
    "\n",
    "import os, sys\n",
    "import ee\n",
    "import geemap\n",
    "import time\n",
    "\n",
    "# Custom functions\n",
    "sys.path.append(os.path.join(os.getcwd(),'code/'))\n",
    "from __functions import *\n",
    "\n",
    "ee.Authenticate()\n",
    "ee.Initialize(project='jfsp-aspen')\n",
    "\n",
    "print(\"Success !\")"
   ]
  },
  {
   "cell_type": "code",
   "execution_count": null,
   "id": "e5f6b17e-1250-47dd-a030-f44df46da385",
   "metadata": {},
   "outputs": [],
   "source": []
  },
  {
   "cell_type": "code",
   "execution_count": 6,
   "id": "630cba3c-2a17-432d-83aa-db242a71dcbe",
   "metadata": {},
   "outputs": [
    {
     "data": {
      "text/html": [
       "\n",
       "            <style>\n",
       "                .geemap-dark {\n",
       "                    --jp-widgets-color: white;\n",
       "                    --jp-widgets-label-color: white;\n",
       "                    --jp-ui-font-color1: white;\n",
       "                    --jp-layout-color2: #454545;\n",
       "                    background-color: #383838;\n",
       "                }\n",
       "\n",
       "                .geemap-dark .jupyter-button {\n",
       "                    --jp-layout-color3: #383838;\n",
       "                }\n",
       "\n",
       "                .geemap-colab {\n",
       "                    background-color: var(--colab-primary-surface-color, white);\n",
       "                }\n",
       "\n",
       "                .geemap-colab .jupyter-button {\n",
       "                    --jp-layout-color3: var(--colab-primary-surface-color, white);\n",
       "                }\n",
       "            </style>\n",
       "            "
      ],
      "text/plain": [
       "<IPython.core.display.HTML object>"
      ]
     },
     "metadata": {},
     "output_type": "display_data"
    },
    {
     "name": "stdout",
     "output_type": "stream",
     "text": [
      "Number of aspen fires: 49047\n",
      "['system:index', 'grid_index']\n"
     ]
    }
   ],
   "source": [
    "# Load the gridded FRP data\n",
    "grid = ee.FeatureCollection('projects/jfsp-aspen/assets/viirs_snpp_jpss1_afd_latlon_aspenfires_pixar_gridstats')\n",
    "print(f\"Number of aspen fires: {grid.size().getInfo()}\")\n",
    "grid = grid.select(['grid_index'])\n",
    "print(grid.first().propertyNames().getInfo())"
   ]
  },
  {
   "cell_type": "code",
   "execution_count": 7,
   "id": "5353a9bb-29d8-4a92-9012-3cfe607cf35f",
   "metadata": {},
   "outputs": [
    {
     "data": {
      "text/html": [
       "\n",
       "            <style>\n",
       "                .geemap-dark {\n",
       "                    --jp-widgets-color: white;\n",
       "                    --jp-widgets-label-color: white;\n",
       "                    --jp-ui-font-color1: white;\n",
       "                    --jp-layout-color2: #454545;\n",
       "                    background-color: #383838;\n",
       "                }\n",
       "\n",
       "                .geemap-dark .jupyter-button {\n",
       "                    --jp-layout-color3: #383838;\n",
       "                }\n",
       "\n",
       "                .geemap-colab {\n",
       "                    background-color: var(--colab-primary-surface-color, white);\n",
       "                }\n",
       "\n",
       "                .geemap-colab .jupyter-button {\n",
       "                    --jp-layout-color3: var(--colab-primary-surface-color, white);\n",
       "                }\n",
       "            </style>\n",
       "            "
      ],
      "text/plain": [
       "<IPython.core.display.HTML object>"
      ]
     },
     "metadata": {},
     "output_type": "display_data"
    },
    {
     "name": "stdout",
     "output_type": "stream",
     "text": [
      "['CBIbc', 'RBR']\n"
     ]
    }
   ],
   "source": [
    "# Load the CBI mosaic\n",
    "cbi = ee.Image('projects/jfsp-aspen/assets/viirs_snpp_jpss1_aspenfires_srm_cbi_mosaic')\n",
    "cbi = cbi.select(['CBI_bc','rbr'], ['CBIbc','RBR']) # rename the bands\n",
    "print(cbi.bandNames().getInfo())"
   ]
  },
  {
   "cell_type": "code",
   "execution_count": 10,
   "id": "3e4d82be-3981-459b-a180-718d320a619a",
   "metadata": {},
   "outputs": [
    {
     "data": {
      "text/html": [
       "\n",
       "            <style>\n",
       "                .geemap-dark {\n",
       "                    --jp-widgets-color: white;\n",
       "                    --jp-widgets-label-color: white;\n",
       "                    --jp-ui-font-color1: white;\n",
       "                    --jp-layout-color2: #454545;\n",
       "                    background-color: #383838;\n",
       "                }\n",
       "\n",
       "                .geemap-dark .jupyter-button {\n",
       "                    --jp-layout-color3: #383838;\n",
       "                }\n",
       "\n",
       "                .geemap-colab {\n",
       "                    background-color: var(--colab-primary-surface-color, white);\n",
       "                }\n",
       "\n",
       "                .geemap-colab .jupyter-button {\n",
       "                    --jp-layout-color3: var(--colab-primary-surface-color, white);\n",
       "                }\n",
       "            </style>\n",
       "            "
      ],
      "text/plain": [
       "<IPython.core.display.HTML object>"
      ]
     },
     "metadata": {},
     "output_type": "display_data"
    },
    {
     "name": "stdout",
     "output_type": "stream",
     "text": [
      "TreeMap bands available for analysis:\n",
      "\n",
      "['FORTYPCD']\n"
     ]
    }
   ],
   "source": [
    "# Load the TreeMap data for forest type\n",
    "treemap = ee.ImageCollection(\"USFS/GTAC/TreeMap/v2016\")\n",
    "treemap = treemap.select(['FORTYPCD'])\n",
    "print(f\"TreeMap bands available for analysis:\\n\\n{treemap.first().bandNames().getInfo()}\")"
   ]
  },
  {
   "cell_type": "code",
   "execution_count": null,
   "id": "9daedb16-8d22-45fb-ac77-60455b009175",
   "metadata": {},
   "outputs": [],
   "source": []
  },
  {
   "cell_type": "code",
   "execution_count": null,
   "id": "e4db1dd2-0ce1-42b1-904b-209224a11ceb",
   "metadata": {},
   "outputs": [],
   "source": []
  },
  {
   "cell_type": "code",
   "execution_count": 7,
   "id": "23f19120-2364-4b06-a527-06797a67b9ea",
   "metadata": {},
   "outputs": [
    {
     "data": {
      "text/html": [
       "\n",
       "            <style>\n",
       "                .geemap-dark {\n",
       "                    --jp-widgets-color: white;\n",
       "                    --jp-widgets-label-color: white;\n",
       "                    --jp-ui-font-color1: white;\n",
       "                    --jp-layout-color2: #454545;\n",
       "                    background-color: #383838;\n",
       "                }\n",
       "\n",
       "                .geemap-dark .jupyter-button {\n",
       "                    --jp-layout-color3: #383838;\n",
       "                }\n",
       "\n",
       "                .geemap-colab {\n",
       "                    background-color: var(--colab-primary-surface-color, white);\n",
       "                }\n",
       "\n",
       "                .geemap-colab .jupyter-button {\n",
       "                    --jp-layout-color3: var(--colab-primary-surface-color, white);\n",
       "                }\n",
       "            </style>\n",
       "            "
      ],
      "text/plain": [
       "<IPython.core.display.HTML object>"
      ]
     },
     "metadata": {},
     "output_type": "display_data"
    }
   ],
   "source": [
    "# Set up the reductions for CBI statistics in AFD observations and export."
   ]
  },
  {
   "cell_type": "code",
   "execution_count": 11,
   "id": "c6a39923-8b86-4f0b-9667-c3cde87c6048",
   "metadata": {},
   "outputs": [
    {
     "data": {
      "text/html": [
       "\n",
       "            <style>\n",
       "                .geemap-dark {\n",
       "                    --jp-widgets-color: white;\n",
       "                    --jp-widgets-label-color: white;\n",
       "                    --jp-ui-font-color1: white;\n",
       "                    --jp-layout-color2: #454545;\n",
       "                    background-color: #383838;\n",
       "                }\n",
       "\n",
       "                .geemap-dark .jupyter-button {\n",
       "                    --jp-layout-color3: #383838;\n",
       "                }\n",
       "\n",
       "                .geemap-colab {\n",
       "                    background-color: var(--colab-primary-surface-color, white);\n",
       "                }\n",
       "\n",
       "                .geemap-colab .jupyter-button {\n",
       "                    --jp-layout-color3: var(--colab-primary-surface-color, white);\n",
       "                }\n",
       "            </style>\n",
       "            "
      ],
      "text/plain": [
       "<IPython.core.display.HTML object>"
      ]
     },
     "metadata": {},
     "output_type": "display_data"
    },
    {
     "name": "stdout",
     "output_type": "stream",
     "text": [
      "Submitted !\n"
     ]
    }
   ],
   "source": [
    "# 1. combined reducer (mean and standard deviation)\n",
    "average = ee.Reducer.mean().combine(\n",
    "    reducer2=ee.Reducer.stdDev(), sharedInputs=True)\n",
    "\n",
    "cbi_average = cbi.reduceRegions(\n",
    "    collection=grid,\n",
    "    reducer=average, \n",
    "    scale=30\n",
    ")\n",
    "\n",
    "# 2. combined reducer (percentiles)\n",
    "extremes = ee.Reducer.percentile([90,95,99])\n",
    "\n",
    "cbi_extremes = cbi.reduceRegions(\n",
    "    collection=grid,\n",
    "    reducer=extremes, \n",
    "    scale=30\n",
    ")\n",
    "\n",
    "print(\"Submitted !\")"
   ]
  },
  {
   "cell_type": "code",
   "execution_count": 12,
   "id": "25f3c32d-84fd-4ad9-98d7-bac84fe10ceb",
   "metadata": {},
   "outputs": [
    {
     "data": {
      "text/html": [
       "\n",
       "            <style>\n",
       "                .geemap-dark {\n",
       "                    --jp-widgets-color: white;\n",
       "                    --jp-widgets-label-color: white;\n",
       "                    --jp-ui-font-color1: white;\n",
       "                    --jp-layout-color2: #454545;\n",
       "                    background-color: #383838;\n",
       "                }\n",
       "\n",
       "                .geemap-dark .jupyter-button {\n",
       "                    --jp-layout-color3: #383838;\n",
       "                }\n",
       "\n",
       "                .geemap-colab {\n",
       "                    background-color: var(--colab-primary-surface-color, white);\n",
       "                }\n",
       "\n",
       "                .geemap-colab .jupyter-button {\n",
       "                    --jp-layout-color3: var(--colab-primary-surface-color, white);\n",
       "                }\n",
       "            </style>\n",
       "            "
      ],
      "text/plain": [
       "<IPython.core.display.HTML object>"
      ]
     },
     "metadata": {},
     "output_type": "display_data"
    },
    {
     "name": "stdout",
     "output_type": "stream",
     "text": [
      "['CBIbc_mean', 'CBIbc_stdDev', 'RBR_mean', 'RBR_stdDev', 'system:index', 'grid_index']\n",
      "['CBIbc_p90', 'CBIbc_p95', 'CBIbc_p99', 'RBR_p90', 'RBR_p95', 'RBR_p99', 'system:index', 'grid_index']\n"
     ]
    }
   ],
   "source": [
    "print(cbi_average.first().propertyNames().getInfo())\n",
    "print(cbi_extremes.first().propertyNames().getInfo())"
   ]
  },
  {
   "cell_type": "code",
   "execution_count": 13,
   "id": "96c2aa40-cf37-4df7-9396-f29c9150186e",
   "metadata": {},
   "outputs": [
    {
     "data": {
      "text/html": [
       "\n",
       "            <style>\n",
       "                .geemap-dark {\n",
       "                    --jp-widgets-color: white;\n",
       "                    --jp-widgets-label-color: white;\n",
       "                    --jp-ui-font-color1: white;\n",
       "                    --jp-layout-color2: #454545;\n",
       "                    background-color: #383838;\n",
       "                }\n",
       "\n",
       "                .geemap-dark .jupyter-button {\n",
       "                    --jp-layout-color3: #383838;\n",
       "                }\n",
       "\n",
       "                .geemap-colab {\n",
       "                    background-color: var(--colab-primary-surface-color, white);\n",
       "                }\n",
       "\n",
       "                .geemap-colab .jupyter-button {\n",
       "                    --jp-layout-color3: var(--colab-primary-surface-color, white);\n",
       "                }\n",
       "            </style>\n",
       "            "
      ],
      "text/plain": [
       "<IPython.core.display.HTML object>"
      ]
     },
     "metadata": {},
     "output_type": "display_data"
    },
    {
     "name": "stdout",
     "output_type": "stream",
     "text": [
      "['system:index', 'CBIbc_p95', 'RBR_p95', 'grid_index', 'RBR_mean', 'CBIbc_p99', 'RBR_p90', 'RBR_stdDev', 'CBIbc_mean', 'CBIbc_p90', 'CBIbc_stdDev', 'RBR_p99']\n"
     ]
    }
   ],
   "source": [
    "# convoluted ee join method ...\n",
    "join = ee.Join.inner()\n",
    "jf = ee.Filter.equals(\n",
    "    leftField='grid_index', \n",
    "    rightField='grid_index'\n",
    ")\n",
    "# join the results\n",
    "cbi_stats = join.apply(cbi_average, cbi_extremes, jf)\n",
    "\n",
    "# explode the dictionaries ...\n",
    "def merge_fc(ftr):\n",
    "    # extract feature properties from join\n",
    "    primary = ee.Feature(ftr.get('primary')).toDictionary()  # cbi_average\n",
    "    secondary = ee.Feature(ftr.get('secondary')).toDictionary()  # cbi_extremes\n",
    "    # combine properties\n",
    "    merged = primary.combine(secondary)\n",
    "    return ee.Feature(None, merged)\n",
    "    \n",
    "cbi_stats = cbi_stats.map(merge_fc) # expand the merged dictionaries\n",
    "\n",
    "print(cbi_stats.first().propertyNames().getInfo())\n",
    "\n",
    "# export table to Drive.\n",
    "export_task = ee.batch.Export.table.toDrive(\n",
    "    collection=cbi_stats,\n",
    "    description='gridstats_cbi_rbr',\n",
    "    fileNamePrefix='gridstats_cbi_rbr',\n",
    "    fileFormat='CSV', \n",
    "    folder='CBI'\n",
    ")\n",
    "\n",
    "export_task.start()\n",
    "print(\"Export to Earth Engine Asset started!\")\n",
    "monitor_export(export_task, 120)"
   ]
  },
  {
   "cell_type": "code",
   "execution_count": null,
   "id": "57dd03bb-7a02-432a-9bd8-7d4b86d87aa1",
   "metadata": {},
   "outputs": [],
   "source": []
  },
  {
   "cell_type": "code",
   "execution_count": null,
   "id": "b746ad32-3cba-43b1-9a3d-eecd5fe10590",
   "metadata": {},
   "outputs": [],
   "source": []
  },
  {
   "cell_type": "code",
   "execution_count": null,
   "id": "ca559e11-d212-4327-9f15-b0c3c850cfd4",
   "metadata": {},
   "outputs": [],
   "source": [
    "# Calculate CBIbc in forest pixels"
   ]
  },
  {
   "cell_type": "code",
   "execution_count": 33,
   "id": "2ca709d9-f24f-4bfb-ae0c-cd967e807796",
   "metadata": {},
   "outputs": [
    {
     "data": {
      "text/html": [
       "\n",
       "            <style>\n",
       "                .geemap-dark {\n",
       "                    --jp-widgets-color: white;\n",
       "                    --jp-widgets-label-color: white;\n",
       "                    --jp-ui-font-color1: white;\n",
       "                    --jp-layout-color2: #454545;\n",
       "                    background-color: #383838;\n",
       "                }\n",
       "\n",
       "                .geemap-dark .jupyter-button {\n",
       "                    --jp-layout-color3: #383838;\n",
       "                }\n",
       "\n",
       "                .geemap-colab {\n",
       "                    background-color: var(--colab-primary-surface-color, white);\n",
       "                }\n",
       "\n",
       "                .geemap-colab .jupyter-button {\n",
       "                    --jp-layout-color3: var(--colab-primary-surface-color, white);\n",
       "                }\n",
       "            </style>\n",
       "            "
      ],
      "text/plain": [
       "<IPython.core.display.HTML object>"
      ]
     },
     "metadata": {},
     "output_type": "display_data"
    },
    {
     "data": {
      "application/vnd.jupyter.widget-view+json": {
       "model_id": "18352584101c46fd9285a252cecad50c",
       "version_major": 2,
       "version_minor": 0
      },
      "text/plain": [
       "Map(center=[38.89676290452681, -107.19536288364709], controls=(WidgetControl(options=['position', 'transparent…"
      ]
     },
     "execution_count": 33,
     "metadata": {},
     "output_type": "execute_result"
    }
   ],
   "source": [
    "# Create a forest mask\n",
    "import geemap\n",
    "\n",
    "# Create a forest mask from TreeMap\n",
    "forest_mask = treemap.select('FORTYPCD').mosaic().gt(0)  # Assuming FORTYPCD > 0 represents forest pixels\n",
    "masked_cbi = cbi.select(['CBIbc']).updateMask(forest_mask) # mask CBIbc\n",
    "\n",
    "# Initialize the geemap map\n",
    "Map = geemap.Map()\n",
    "Map.add_basemap('SATELLITE')  # Add a satellite basemap for context\n",
    "\n",
    "# Add the forest mask layer to the map\n",
    "forest_mask_vis_params = {\n",
    "    'min': 0,\n",
    "    'max': 1,\n",
    "    'palette': ['white', 'green']  # Non-forest pixels in white, forest pixels in green\n",
    "}\n",
    "Map.addLayer(forest_mask, forest_mask_vis_params, 'Forest Mask')\n",
    "\n",
    "# Add the TreeMap layer for comparison (optional)\n",
    "treemap_vis_params = {\n",
    "    'min': 0,\n",
    "    'max': 100,\n",
    "    'palette': ['white', 'brown', 'darkgreen']  # Visualize the FORTYPCD range\n",
    "}\n",
    "Map.addLayer(treemap.select('FORTYPCD'), treemap_vis_params, 'TreeMap')\n",
    "\n",
    "# Add the masked CBI layer to the map\n",
    "masked_cbi_vis_params = {\n",
    "    'min': 0,\n",
    "    'max': 3,  # Assuming CBI values range from 0 to 3\n",
    "    'palette': ['blue', 'yellow', 'red']  # Blue for low severity, red for high severity\n",
    "}\n",
    "Map.addLayer(masked_cbi, masked_cbi_vis_params, 'Masked CBI')\n",
    "\n",
    "# Center the map over your area of interest\n",
    "aoi = grid.geometry().bounds()\n",
    "Map.centerObject(aoi, zoom=8)\n",
    "Map.addLayerControl()\n",
    "\n",
    "# Display the map\n",
    "Map"
   ]
  },
  {
   "cell_type": "code",
   "execution_count": 32,
   "id": "b5bc666d-fd99-4909-84d9-aca496017f48",
   "metadata": {},
   "outputs": [
    {
     "data": {
      "text/html": [
       "\n",
       "            <style>\n",
       "                .geemap-dark {\n",
       "                    --jp-widgets-color: white;\n",
       "                    --jp-widgets-label-color: white;\n",
       "                    --jp-ui-font-color1: white;\n",
       "                    --jp-layout-color2: #454545;\n",
       "                    background-color: #383838;\n",
       "                }\n",
       "\n",
       "                .geemap-dark .jupyter-button {\n",
       "                    --jp-layout-color3: #383838;\n",
       "                }\n",
       "\n",
       "                .geemap-colab {\n",
       "                    background-color: var(--colab-primary-surface-color, white);\n",
       "                }\n",
       "\n",
       "                .geemap-colab .jupyter-button {\n",
       "                    --jp-layout-color3: var(--colab-primary-surface-color, white);\n",
       "                }\n",
       "            </style>\n",
       "            "
      ],
      "text/plain": [
       "<IPython.core.display.HTML object>"
      ]
     },
     "metadata": {},
     "output_type": "display_data"
    },
    {
     "name": "stdout",
     "output_type": "stream",
     "text": [
      "Submitted !\n",
      "['system:index', 'CBIbc_p95', 'RBR_p95', 'grid_index', 'RBR_mean', 'CBIbc_p99', 'RBR_p90', 'RBR_stdDev', 'CBIbc_mean', 'CBIbc_p90', 'CBIbc_stdDev', 'RBR_p99']\n"
     ]
    }
   ],
   "source": [
    "# 1. combined reducer (mean and standard deviation)\n",
    "average = ee.Reducer.mean().combine(\n",
    "    reducer2=ee.Reducer.stdDev(), sharedInputs=True)\n",
    "\n",
    "cbi_average = masked_cbi.reduceRegions(\n",
    "    collection=grid,\n",
    "    reducer=average, \n",
    "    scale=30\n",
    ")\n",
    "\n",
    "# 2. combined reducer (percentiles)\n",
    "extremes = ee.Reducer.percentile([90,95,99])\n",
    "\n",
    "cbi_extremes = masked_cbi.reduceRegions(\n",
    "    collection=grid,\n",
    "    reducer=extremes, \n",
    "    scale=30\n",
    ")\n",
    "\n",
    "print(\"Submitted !\")\n",
    "\n",
    "# convoluted ee join method ...\n",
    "join = ee.Join.inner()\n",
    "jf = ee.Filter.equals(\n",
    "    leftField='grid_index', \n",
    "    rightField='grid_index'\n",
    ")\n",
    "# join the results\n",
    "cbi_stats = join.apply(cbi_average, cbi_extremes, jf)\n",
    "\n",
    "# explode the dictionaries ...\n",
    "def merge_fc(ftr):\n",
    "    # extract feature properties from join\n",
    "    primary = ee.Feature(ftr.get('primary')).toDictionary()  # cbi_average\n",
    "    secondary = ee.Feature(ftr.get('secondary')).toDictionary()  # cbi_extremes\n",
    "    # combine properties\n",
    "    merged = primary.combine(secondary)\n",
    "    return ee.Feature(None, merged)\n",
    "    \n",
    "cbi_stats = cbi_stats.map(merge_fc) # expand the merged dictionaries\n",
    "\n",
    "print(cbi_stats.first().propertyNames().getInfo())"
   ]
  },
  {
   "cell_type": "code",
   "execution_count": 28,
   "id": "6f3e3c74-95aa-4037-9f7f-b78d6a077953",
   "metadata": {},
   "outputs": [
    {
     "data": {
      "text/html": [
       "\n",
       "            <style>\n",
       "                .geemap-dark {\n",
       "                    --jp-widgets-color: white;\n",
       "                    --jp-widgets-label-color: white;\n",
       "                    --jp-ui-font-color1: white;\n",
       "                    --jp-layout-color2: #454545;\n",
       "                    background-color: #383838;\n",
       "                }\n",
       "\n",
       "                .geemap-dark .jupyter-button {\n",
       "                    --jp-layout-color3: #383838;\n",
       "                }\n",
       "\n",
       "                .geemap-colab {\n",
       "                    background-color: var(--colab-primary-surface-color, white);\n",
       "                }\n",
       "\n",
       "                .geemap-colab .jupyter-button {\n",
       "                    --jp-layout-color3: var(--colab-primary-surface-color, white);\n",
       "                }\n",
       "            </style>\n",
       "            "
      ],
      "text/plain": [
       "<IPython.core.display.HTML object>"
      ]
     },
     "metadata": {},
     "output_type": "display_data"
    },
    {
     "data": {
      "text/html": [
       "<div>\n",
       "<style scoped>\n",
       "    .dataframe tbody tr th:only-of-type {\n",
       "        vertical-align: middle;\n",
       "    }\n",
       "\n",
       "    .dataframe tbody tr th {\n",
       "        vertical-align: top;\n",
       "    }\n",
       "\n",
       "    .dataframe thead th {\n",
       "        text-align: right;\n",
       "    }\n",
       "</style>\n",
       "<table border=\"1\" class=\"dataframe\">\n",
       "  <thead>\n",
       "    <tr style=\"text-align: right;\">\n",
       "      <th></th>\n",
       "      <th>grid_index</th>\n",
       "      <th>mean</th>\n",
       "      <th>p90</th>\n",
       "      <th>p95</th>\n",
       "      <th>p99</th>\n",
       "      <th>stdDev</th>\n",
       "    </tr>\n",
       "  </thead>\n",
       "  <tbody>\n",
       "    <tr>\n",
       "      <th>0</th>\n",
       "      <td>919906</td>\n",
       "      <td>0.224541</td>\n",
       "      <td>0.90</td>\n",
       "      <td>1.18</td>\n",
       "      <td>1.57</td>\n",
       "      <td>0.392387</td>\n",
       "    </tr>\n",
       "    <tr>\n",
       "      <th>1</th>\n",
       "      <td>919907</td>\n",
       "      <td>0.024740</td>\n",
       "      <td>0.10</td>\n",
       "      <td>0.16</td>\n",
       "      <td>0.31</td>\n",
       "      <td>0.080745</td>\n",
       "    </tr>\n",
       "    <tr>\n",
       "      <th>2</th>\n",
       "      <td>919908</td>\n",
       "      <td>0.077247</td>\n",
       "      <td>0.22</td>\n",
       "      <td>0.34</td>\n",
       "      <td>0.49</td>\n",
       "      <td>0.113931</td>\n",
       "    </tr>\n",
       "    <tr>\n",
       "      <th>3</th>\n",
       "      <td>922166</td>\n",
       "      <td>0.037961</td>\n",
       "      <td>0.16</td>\n",
       "      <td>0.32</td>\n",
       "      <td>0.44</td>\n",
       "      <td>0.101934</td>\n",
       "    </tr>\n",
       "    <tr>\n",
       "      <th>4</th>\n",
       "      <td>922171</td>\n",
       "      <td>0.040760</td>\n",
       "      <td>0.17</td>\n",
       "      <td>0.21</td>\n",
       "      <td>0.35</td>\n",
       "      <td>0.085670</td>\n",
       "    </tr>\n",
       "  </tbody>\n",
       "</table>\n",
       "</div>"
      ],
      "text/plain": [
       "   grid_index      mean   p90   p95   p99    stdDev\n",
       "0      919906  0.224541  0.90  1.18  1.57  0.392387\n",
       "1      919907  0.024740  0.10  0.16  0.31  0.080745\n",
       "2      919908  0.077247  0.22  0.34  0.49  0.113931\n",
       "3      922166  0.037961  0.16  0.32  0.44  0.101934\n",
       "4      922171  0.040760  0.17  0.21  0.35  0.085670"
      ]
     },
     "execution_count": 28,
     "metadata": {},
     "output_type": "execute_result"
    }
   ],
   "source": [
    "sample = cbi_stats.limit(10).getInfo()\n",
    "props = [f['properties'] for f in sample['features']]\n",
    "df = pd.DataFrame(props)\n",
    "df.head()"
   ]
  },
  {
   "cell_type": "code",
   "execution_count": null,
   "id": "ead794b8-156c-403e-bf1f-066bdac9cd11",
   "metadata": {},
   "outputs": [],
   "source": [
    "# export table to Drive.\n",
    "export_task = ee.batch.Export.table.toDrive(\n",
    "    collection=cbi_stats,\n",
    "    description='gridstats_cbibc_forest',\n",
    "    fileNamePrefix='gridstats_cbibc_forest',\n",
    "    fileFormat='CSV', \n",
    "    folder='CBI'\n",
    ")\n",
    "\n",
    "export_task.start()\n",
    "print(\"Export to Earth Engine Asset started!\")\n",
    "monitor_export(export_task, 120)"
   ]
  }
 ],
 "metadata": {
  "kernelspec": {
   "display_name": "aspen-fire",
   "language": "python",
   "name": "aspen-fire"
  },
  "language_info": {
   "codemirror_mode": {
    "name": "ipython",
    "version": 3
   },
   "file_extension": ".py",
   "mimetype": "text/x-python",
   "name": "python",
   "nbconvert_exporter": "python",
   "pygments_lexer": "ipython3",
   "version": "3.10.12"
  }
 },
 "nbformat": 4,
 "nbformat_minor": 5
}
