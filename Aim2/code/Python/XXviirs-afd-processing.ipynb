{
 "cells": [
  {
   "cell_type": "code",
   "execution_count": 1,
   "id": "5ecd0bef-fee5-428a-a587-cacab707d965",
   "metadata": {},
   "outputs": [
    {
     "name": "stdout",
     "output_type": "stream",
     "text": [
      "Ready !\n"
     ]
    }
   ],
   "source": [
    "\"\"\"\n",
    "Read VIIRS active fire geolocated fire pixels from XXviirs_access-swath.ipynb\n",
    "Author: maxwell.cook@colorado.edu\n",
    "\"\"\"\n",
    "\n",
    "# Import packages\n",
    "import sys, os\n",
    "import xarray as xr\n",
    "import pyproj\n",
    "import geopandas as gpd\n",
    "import datetime as dt\n",
    "import matplotlib.pyplot as plt\n",
    "import seaborn as sns\n",
    "\n",
    "from netCDF4 import Dataset # to open NetCDF\n",
    "from datetime import datetime\n",
    "from datetime import timedelta\n",
    "from matplotlib import pyplot as plt\n",
    "from affine import Affine\n",
    "from osgeo import gdal, gdal_array, gdalconst, osr\n",
    "from rasterio.transform import from_bounds\n",
    "from scipy.spatial import cKDTree\n",
    "\n",
    "# Custom functions\n",
    "sys.path.append(os.path.join(os.getcwd(),'code/'))\n",
    "from __functions import *\n",
    "\n",
    "# Projection information\n",
    "geog = 'EPSG:4326'  # Geographic projection\n",
    "prj = 'EPSG:5070'  # Projected coordinate system- WGS 84 NAD83 UTM Zone 13N\n",
    "\n",
    "# File path information\n",
    "maindir = '/Users/max/Library/CloudStorage/OneDrive-Personal/mcook/'\n",
    "projdir = os.path.join(maindir, 'aspen-fire/Aim2/')\n",
    "# Output directories\n",
    "dataraw = os.path.join(projdir,'data/spatial/raw/VIIRS/')\n",
    "datamod = os.path.join(projdir,'data/spatial/mod/VIIRS/')\n",
    "\n",
    "# File path information\n",
    "print(\"Ready !\")"
   ]
  },
  {
   "cell_type": "code",
   "execution_count": null,
   "id": "0f5ab249-21c2-4bb7-a77e-13cc89a7fe82",
   "metadata": {},
   "outputs": [],
   "source": []
  },
  {
   "cell_type": "code",
   "execution_count": 22,
   "id": "0a9789df-2f68-4e51-9d89-53cef724d850",
   "metadata": {},
   "outputs": [
    {
     "data": {
      "text/plain": [
       "79920"
      ]
     },
     "execution_count": 22,
     "metadata": {},
     "output_type": "execute_result"
    }
   ],
   "source": [
    "# Load the combined MODIS and VIIRS AFDs (buffered)\n",
    "fp = os.path.join(datamod,'vnp14img_geo_aspen-fires-srm_2018to2023.csv')\n",
    "afds = pd.read_csv(fp).reset_index(drop=True)\n",
    "afds = afds.loc[:, ~afds.columns.str.startswith('Unnamed:')]\n",
    "len(afds)"
   ]
  },
  {
   "cell_type": "code",
   "execution_count": null,
   "id": "609297af-eba8-4994-b6ce-201486de60d8",
   "metadata": {},
   "outputs": [],
   "source": []
  },
  {
   "cell_type": "code",
   "execution_count": null,
   "id": "46d1356e-c699-4df6-977e-45b8eca641d2",
   "metadata": {},
   "outputs": [],
   "source": [
    "# Create the ground area of pixels"
   ]
  },
  {
   "cell_type": "code",
   "execution_count": 23,
   "id": "74507701-7088-4739-91c8-39be8ca04834",
   "metadata": {},
   "outputs": [
    {
     "data": {
      "text/html": [
       "<div>\n",
       "<style scoped>\n",
       "    .dataframe tbody tr th:only-of-type {\n",
       "        vertical-align: middle;\n",
       "    }\n",
       "\n",
       "    .dataframe tbody tr th {\n",
       "        vertical-align: top;\n",
       "    }\n",
       "\n",
       "    .dataframe thead th {\n",
       "        text-align: right;\n",
       "    }\n",
       "</style>\n",
       "<table border=\"1\" class=\"dataframe\">\n",
       "  <thead>\n",
       "    <tr style=\"text-align: right;\">\n",
       "      <th></th>\n",
       "      <th>longitude</th>\n",
       "      <th>latitude</th>\n",
       "      <th>fire_mask</th>\n",
       "      <th>confidence</th>\n",
       "      <th>daynight</th>\n",
       "      <th>acq_date</th>\n",
       "      <th>acq_time</th>\n",
       "      <th>granule_id</th>\n",
       "      <th>geo_id</th>\n",
       "      <th>frp</th>\n",
       "      <th>iot4</th>\n",
       "      <th>iot5</th>\n",
       "      <th>sample</th>\n",
       "      <th>along_scan</th>\n",
       "      <th>along_track</th>\n",
       "      <th>scan_angle</th>\n",
       "      <th>pix_area</th>\n",
       "      <th>geometry</th>\n",
       "      <th>obs_id</th>\n",
       "    </tr>\n",
       "  </thead>\n",
       "  <tbody>\n",
       "    <tr>\n",
       "      <th>0</th>\n",
       "      <td>-104.60649</td>\n",
       "      <td>38.234726</td>\n",
       "      <td>8</td>\n",
       "      <td>n</td>\n",
       "      <td>Night</td>\n",
       "      <td>6/1/2018</td>\n",
       "      <td>824</td>\n",
       "      <td>VNP14IMG.A2018152.0824.002.2024080110710.nc</td>\n",
       "      <td>VNP03IMG.A2018152.0824</td>\n",
       "      <td>1.722382</td>\n",
       "      <td>304.330841</td>\n",
       "      <td>289.700226</td>\n",
       "      <td>2034</td>\n",
       "      <td>0.565906</td>\n",
       "      <td>0.431471</td>\n",
       "      <td>31.1069</td>\n",
       "      <td>0.244172</td>\n",
       "      <td>POLYGON ((-744918.548 1722684.619, -744918.548...</td>\n",
       "      <td>0</td>\n",
       "    </tr>\n",
       "    <tr>\n",
       "      <th>1</th>\n",
       "      <td>-104.60698</td>\n",
       "      <td>38.232952</td>\n",
       "      <td>8</td>\n",
       "      <td>n</td>\n",
       "      <td>Night</td>\n",
       "      <td>6/1/2018</td>\n",
       "      <td>824</td>\n",
       "      <td>VNP14IMG.A2018152.0824.002.2024080110710.nc</td>\n",
       "      <td>VNP03IMG.A2018152.0824</td>\n",
       "      <td>2.177278</td>\n",
       "      <td>301.303925</td>\n",
       "      <td>288.965240</td>\n",
       "      <td>2035</td>\n",
       "      <td>0.565492</td>\n",
       "      <td>0.431327</td>\n",
       "      <td>31.0802</td>\n",
       "      <td>0.243912</td>\n",
       "      <td>POLYGON ((-744979.049 1722490.509, -744979.049...</td>\n",
       "      <td>1</td>\n",
       "    </tr>\n",
       "    <tr>\n",
       "      <th>2</th>\n",
       "      <td>-104.95000</td>\n",
       "      <td>36.581818</td>\n",
       "      <td>8</td>\n",
       "      <td>n</td>\n",
       "      <td>Night</td>\n",
       "      <td>6/1/2018</td>\n",
       "      <td>824</td>\n",
       "      <td>VNP14IMG.A2018152.0824.002.2024080110710.nc</td>\n",
       "      <td>VNP03IMG.A2018152.0824</td>\n",
       "      <td>1.447277</td>\n",
       "      <td>296.990814</td>\n",
       "      <td>286.114716</td>\n",
       "      <td>2040</td>\n",
       "      <td>0.563433</td>\n",
       "      <td>0.430609</td>\n",
       "      <td>30.9468</td>\n",
       "      <td>0.242619</td>\n",
       "      <td>POLYGON ((-791995.417 1541023.962, -791995.417...</td>\n",
       "      <td>2</td>\n",
       "    </tr>\n",
       "    <tr>\n",
       "      <th>3</th>\n",
       "      <td>-104.94370</td>\n",
       "      <td>36.581154</td>\n",
       "      <td>8</td>\n",
       "      <td>n</td>\n",
       "      <td>Night</td>\n",
       "      <td>6/1/2018</td>\n",
       "      <td>824</td>\n",
       "      <td>VNP14IMG.A2018152.0824.002.2024080110710.nc</td>\n",
       "      <td>VNP03IMG.A2018152.0824</td>\n",
       "      <td>1.447277</td>\n",
       "      <td>298.897369</td>\n",
       "      <td>287.142731</td>\n",
       "      <td>2041</td>\n",
       "      <td>0.563024</td>\n",
       "      <td>0.430467</td>\n",
       "      <td>30.9202</td>\n",
       "      <td>0.242363</td>\n",
       "      <td>POLYGON ((-791446.567 1540897.474, -791446.567...</td>\n",
       "      <td>3</td>\n",
       "    </tr>\n",
       "    <tr>\n",
       "      <th>4</th>\n",
       "      <td>-104.99421</td>\n",
       "      <td>36.582436</td>\n",
       "      <td>8</td>\n",
       "      <td>n</td>\n",
       "      <td>Night</td>\n",
       "      <td>6/1/2018</td>\n",
       "      <td>824</td>\n",
       "      <td>VNP14IMG.A2018152.0824.002.2024080110710.nc</td>\n",
       "      <td>VNP03IMG.A2018152.0824</td>\n",
       "      <td>4.948321</td>\n",
       "      <td>323.709015</td>\n",
       "      <td>290.587463</td>\n",
       "      <td>2033</td>\n",
       "      <td>0.566321</td>\n",
       "      <td>0.431616</td>\n",
       "      <td>31.1336</td>\n",
       "      <td>0.244433</td>\n",
       "      <td>POLYGON ((-795889.355 1541461.861, -795889.355...</td>\n",
       "      <td>4</td>\n",
       "    </tr>\n",
       "  </tbody>\n",
       "</table>\n",
       "</div>"
      ],
      "text/plain": [
       "   longitude   latitude  fire_mask confidence daynight  acq_date  acq_time  \\\n",
       "0 -104.60649  38.234726          8          n    Night  6/1/2018       824   \n",
       "1 -104.60698  38.232952          8          n    Night  6/1/2018       824   \n",
       "2 -104.95000  36.581818          8          n    Night  6/1/2018       824   \n",
       "3 -104.94370  36.581154          8          n    Night  6/1/2018       824   \n",
       "4 -104.99421  36.582436          8          n    Night  6/1/2018       824   \n",
       "\n",
       "                                    granule_id                  geo_id  \\\n",
       "0  VNP14IMG.A2018152.0824.002.2024080110710.nc  VNP03IMG.A2018152.0824   \n",
       "1  VNP14IMG.A2018152.0824.002.2024080110710.nc  VNP03IMG.A2018152.0824   \n",
       "2  VNP14IMG.A2018152.0824.002.2024080110710.nc  VNP03IMG.A2018152.0824   \n",
       "3  VNP14IMG.A2018152.0824.002.2024080110710.nc  VNP03IMG.A2018152.0824   \n",
       "4  VNP14IMG.A2018152.0824.002.2024080110710.nc  VNP03IMG.A2018152.0824   \n",
       "\n",
       "        frp        iot4        iot5  sample  along_scan  along_track  \\\n",
       "0  1.722382  304.330841  289.700226    2034    0.565906     0.431471   \n",
       "1  2.177278  301.303925  288.965240    2035    0.565492     0.431327   \n",
       "2  1.447277  296.990814  286.114716    2040    0.563433     0.430609   \n",
       "3  1.447277  298.897369  287.142731    2041    0.563024     0.430467   \n",
       "4  4.948321  323.709015  290.587463    2033    0.566321     0.431616   \n",
       "\n",
       "   scan_angle  pix_area                                           geometry  \\\n",
       "0     31.1069  0.244172  POLYGON ((-744918.548 1722684.619, -744918.548...   \n",
       "1     31.0802  0.243912  POLYGON ((-744979.049 1722490.509, -744979.049...   \n",
       "2     30.9468  0.242619  POLYGON ((-791995.417 1541023.962, -791995.417...   \n",
       "3     30.9202  0.242363  POLYGON ((-791446.567 1540897.474, -791446.567...   \n",
       "4     31.1336  0.244433  POLYGON ((-795889.355 1541461.861, -795889.355...   \n",
       "\n",
       "   obs_id  \n",
       "0       0  \n",
       "1       1  \n",
       "2       2  \n",
       "3       3  \n",
       "4       4  "
      ]
     },
     "execution_count": 23,
     "metadata": {},
     "output_type": "execute_result"
    }
   ],
   "source": [
    "from shapely.geometry import Point\n",
    "\n",
    "# convert to spatial points using pixel centroid\n",
    "afds['geometry'] = [Point(xy) for xy in zip(afds.longitude, afds.latitude)]\n",
    "pix_gdf = gpd.GeoDataFrame(afds, geometry='geometry', crs=\"EPSG:4326\")\n",
    "\n",
    "# save this file out.\n",
    "out_fp = os.path.join(datamod,'vnp14img_geo_aspen-fires-srm_pix_latlon.gpkg')\n",
    "pix_gdf.to_file(out_fp)\n",
    "\n",
    "# Reproject to a projected CRS for accurate buffering\n",
    "pix_gdf = pix_gdf.to_crs(\"EPSG:5070\")\n",
    "\n",
    "# Define the pixel buffer function for the given width and height\n",
    "def pixel_buffer(point, width, height):\n",
    "    half_width = width / 2\n",
    "    half_height = height / 2\n",
    "    return box(\n",
    "        point.x - half_width, point.y - half_height,\n",
    "        point.x + half_width, point.y + half_height\n",
    "    )\n",
    "\n",
    "# Apply the buffer function with along_scan and along_track values converted to meters (*1000)\n",
    "pix_gdf[\"geometry\"] = pix_gdf.apply(\n",
    "    lambda row: pixel_buffer(row[\"geometry\"], row[\"along_scan\"] * 1000, row[\"along_track\"] * 1000), axis=1\n",
    ")\n",
    "\n",
    "pix_gdf = pix_gdf.reset_index(drop=True)\n",
    "pix_gdf['obs_id'] = pix_gdf.index # unique ID column\n",
    "# swath_gdf.loc[:, 'acq_datetime'] = swath_gdf.apply(lambda row: convert_datetime(row['acq_date'], row['acq_time']), axis=1)\n",
    "\n",
    "# save this file out.\n",
    "out_fp = os.path.join(datamod,'vnp14img_geo_aspen-fires-srm_pix_area.gpkg')\n",
    "pix_gdf.to_file(out_fp)\n",
    "\n",
    "pix_gdf.head() # check the results"
   ]
  },
  {
   "cell_type": "code",
   "execution_count": 24,
   "id": "dca44746-57c1-4122-8046-ca2b58c4565b",
   "metadata": {},
   "outputs": [
    {
     "data": {
      "text/plain": [
       "79920"
      ]
     },
     "execution_count": 24,
     "metadata": {},
     "output_type": "execute_result"
    }
   ],
   "source": [
    "len(pix_gdf)"
   ]
  },
  {
   "cell_type": "code",
   "execution_count": null,
   "id": "4f8f2932-339b-4586-a109-5692e46704e9",
   "metadata": {},
   "outputs": [],
   "source": [
    "# Load and tidy the fire perimeter data\n",
    "fp = os.path.join(projdir,'data/spatial/mod/NIFC/nifc-ics_2018_to_2023-aspen.gpkg')\n",
    "fires = gpd.read_file(fp)\n",
    "\n",
    "# subset to Southern Rockies\n",
    "fires = fires[fires['na_l3name'] == 'Southern Rockies']\n",
    "\n",
    "# tidy the fire id and name columns\n",
    "fires.rename(columns={'NIFC_ID': 'Fire_ID', 'NIFC_NAME': 'Fire_Name'}, inplace=True)\n",
    "# tify the date columns\n",
    "fires['DISCOVERY_DATE'] = pd.to_datetime(fires['DISCOVERY_DATE']).dt.date\n",
    "fires['WF_CESSATION_DATE'] = pd.to_datetime(fires['WF_CESSATION_DATE']).dt.date\n",
    "\n",
    "fires['NIFC_ACRES'] = fires['NIFC_ACRES'].astype(float)\n",
    "fires = fires[fires['NIFC_ACRES'] > 34.749]\n",
    "print(len(fires))"
   ]
  },
  {
   "cell_type": "code",
   "execution_count": null,
   "id": "ceb92465-7cd9-4311-87e7-72b5ae6a38ee",
   "metadata": {},
   "outputs": [],
   "source": [
    "# Add a small buffer to wildfire perimeters\n",
    "buffer_dist = 1000  # meters\n",
    "fires_ = fires.copy() # make a copy of the original data\n",
    "fires_['geometry'] = fires_['geometry'].buffer(buffer_dist)\n",
    "print(f\"Buffered fire perimeters by {buffer_dist} meters.\")"
   ]
  },
  {
   "cell_type": "code",
   "execution_count": null,
   "id": "f34799a1-e2ff-456a-a778-d50d51730462",
   "metadata": {},
   "outputs": [],
   "source": [
    "# Perform spatial join with AFDs\n",
    "afds_ = gpd.sjoin(pix_gdf, fires_, how='inner', predicate='intersects')\n",
    "afds_.drop(columns=['index_right'], inplace=True)\n",
    "afds_.head()"
   ]
  },
  {
   "cell_type": "code",
   "execution_count": null,
   "id": "bdeb0039-3577-4cd0-80a2-67be68ce413a",
   "metadata": {},
   "outputs": [],
   "source": []
  },
  {
   "cell_type": "code",
   "execution_count": null,
   "id": "2f3302b0-20d3-43eb-80f1-644e528665cf",
   "metadata": {},
   "outputs": [],
   "source": []
  },
  {
   "cell_type": "code",
   "execution_count": null,
   "id": "98620edf-032d-41ce-a97b-af780c065e24",
   "metadata": {},
   "outputs": [],
   "source": [
    "# # Subset to the Southern Rockies (for now) and VIIRS\n",
    "# afds_srm = afds[afds['na_l3name'] == 'Southern Rockies'] # subset to SRM\n",
    "# afds_srm = afds_srm[afds_srm['INSTRUMENT'] == 'VIIRS'] # VIIRS detections\n",
    "# print(f\"There are [{len(afds_srm['NIFC_ID'].unique())}/{len(afds['NIFC_ID'].unique())}] fire events in the Southern Rockies (2018-2023).\")"
   ]
  },
  {
   "cell_type": "code",
   "execution_count": null,
   "id": "ce243ce4-b41e-478d-8327-5bd2e24baba4",
   "metadata": {},
   "outputs": [],
   "source": [
    "# print(afds_srm['FRP'].isna().sum())"
   ]
  },
  {
   "cell_type": "code",
   "execution_count": null,
   "id": "8daab39e-f3b8-485f-a617-3ae0409b4572",
   "metadata": {},
   "outputs": [],
   "source": []
  },
  {
   "cell_type": "code",
   "execution_count": null,
   "id": "a990b716-51b8-4d18-b160-5ec4c7745f0a",
   "metadata": {},
   "outputs": [],
   "source": [
    "# Handle duplicate observations"
   ]
  },
  {
   "cell_type": "code",
   "execution_count": null,
   "id": "fa31b218-1790-417b-a290-791bb3d9efa6",
   "metadata": {},
   "outputs": [],
   "source": [
    "# Case 1. Spatial overlap > 90% and the same acquisition time"
   ]
  },
  {
   "cell_type": "code",
   "execution_count": null,
   "id": "58f43add-4937-4cc8-bc13-dd23dbc0f33e",
   "metadata": {},
   "outputs": [],
   "source": [
    "# Find duplicates in space and time\n",
    "drop_obs = set() # to store the observations we want to drop\n",
    "for idx, obs in afds_srm.iterrows():\n",
    "    afdID_ = obs['afdID']\n",
    "    date_matches = afds_srm[\n",
    "        (afds_srm['ACQ_DATETIME'] == obs['ACQ_DATETIME']) &\n",
    "        (afds_srm.afdID != afdID_)\n",
    "    ]\n",
    "    if len(date_matches) > 0:\n",
    "        for match_idx, match_obs in date_matches.iterrows():\n",
    "            afdID_match = match_obs['afdID']\n",
    "            # Calculate overlap\n",
    "            overlap_area = obs.geometry.intersection(match_obs.geometry).area\n",
    "            ratio = overlap_area / obs.geometry.area\n",
    "            # Check for >50% overlap\n",
    "            if ratio > 0.50:\n",
    "                # Keep the one with higher FRP, mark lower FRP for removal\n",
    "                if match_obs['FRP'] < obs['FRP']:\n",
    "                    drop_obs.add(afdID_match)\n",
    "\n",
    "afds_srm_c1 = afds_srm[~afds_srm['afdID'].isin(drop_obs)]\n",
    "print(f\"Identified a total of [{len(drop_obs)}/{len(afds_srm)}] duplicate observations.\")\n",
    "\n",
    "out_fp = os.path.join(projdir,'data/spatial/mod/VIIRS/afd_aspen-fires_Case1.gpkg')\n",
    "afds_srm_c1.to_file(out_fp)\n",
    "print(f\"Saved to: {out_fp}\")"
   ]
  },
  {
   "cell_type": "code",
   "execution_count": null,
   "id": "23e66792-7f63-4d19-a1d1-5bf9e88958d2",
   "metadata": {},
   "outputs": [],
   "source": [
    "print(afds_srm_c1['FRP'].isna().sum())"
   ]
  },
  {
   "cell_type": "code",
   "execution_count": null,
   "id": "064ececa-bcb1-49d3-b020-6a42cd863b70",
   "metadata": {},
   "outputs": [],
   "source": []
  },
  {
   "cell_type": "code",
   "execution_count": null,
   "id": "13e759bc-0085-42ab-bd51-b126c7ac2662",
   "metadata": {},
   "outputs": [],
   "source": [
    "# Case 2: Greater than 50% overlap, same day, different time."
   ]
  },
  {
   "cell_type": "code",
   "execution_count": null,
   "id": "07a920f5-0afc-4de4-ba74-83534039746d",
   "metadata": {},
   "outputs": [],
   "source": [
    "time_threshold = timedelta(hours=3) # search for time within 3 hours\n",
    "\n",
    "afds_srm_c1 = afds_srm_c1.reset_index()\n",
    "\n",
    "drop_obs = set()\n",
    "for acq_date, group in afds_srm_c1.groupby('ACQ_DATE'):\n",
    "    for dn in ['D','N']:\n",
    "        dn_group = group[group['DAYNIGHT'] == dn].sort_values('ACQ_DATETIME')\n",
    "        for idx, obs in dn_group.iterrows():\n",
    "            time_matches = dn_group[\n",
    "                (dn_group['ACQ_DATETIME'] > obs['ACQ_DATETIME']) &\n",
    "                (dn_group['ACQ_DATETIME'] <= obs['ACQ_DATETIME'] + time_threshold) &\n",
    "                (dn_group.index != idx)  # Exclude itself\n",
    "            ]\n",
    "            for match_idx, match_obs in time_matches.iterrows():\n",
    "                # Calculate spatial overlap ratio\n",
    "                overlap_area = obs.geometry.intersection(match_obs.geometry).area\n",
    "                overlap_ratio = overlap_area / obs.geometry.area\n",
    "                \n",
    "                # Check for >50% spatial overlap\n",
    "                if overlap_ratio > 0.50:\n",
    "                    # Retain the highest FRP observation\n",
    "                    if match_obs['FRP'] < obs['FRP']:\n",
    "                        drop_obs.add(match_idx)\n",
    "\n",
    "afds_srm_c2 = afds_srm_c1.drop(index=list(drop_obs)).reset_index(drop=True)\n",
    "print(f\"Identified a total of [{len(drop_obs)}/{len(afds_srm_c1)}] overlapping observations within 2 hours, separated by day/night.\")\n",
    "\n",
    "out_fp = os.path.join(projdir, 'data/spatial/mod/VIIRS/afd_aspen-fires_Case2.gpkg')\n",
    "afds_srm_c2.to_file(out_fp)\n",
    "print(f\"Saved to: {out_fp}\")"
   ]
  },
  {
   "cell_type": "code",
   "execution_count": null,
   "id": "fa989d1c-f6c2-44ad-b273-2f707d23824f",
   "metadata": {},
   "outputs": [],
   "source": [
    "print(afds_srm_c2['FRP'].isna().sum())"
   ]
  },
  {
   "cell_type": "code",
   "execution_count": null,
   "id": "3233afbd-8467-460b-b33d-8d7d8705e4f9",
   "metadata": {},
   "outputs": [],
   "source": []
  },
  {
   "cell_type": "code",
   "execution_count": null,
   "id": "c6d8b576-56e6-4e62-9ee7-deb79d0bfc08",
   "metadata": {},
   "outputs": [],
   "source": [
    "# Case 3: Classify first day of burn and secondary"
   ]
  },
  {
   "cell_type": "code",
   "execution_count": null,
   "id": "1c73f740-649e-486d-8137-0b6127d25e8b",
   "metadata": {},
   "outputs": [],
   "source": [
    "afds_srm_c2['detection'] = 'primary' # set the first day of burn / maximum FRP\n",
    "afds_srm_c3 = afds_srm_c2.sort_values(['ACQ_DATETIME']).reset_index(drop=True)\n",
    "afds_srm_c3 = afds_srm_c3.reset_index(drop=True)\n",
    "afds_srm_c3.drop(columns=['index'], inplace=True)\n",
    "\n",
    "overlap_gdf = gpd.sjoin(\n",
    "    afds_srm_c3, \n",
    "    afds_srm_c3, \n",
    "    how=\"inner\", \n",
    "    predicate=\"intersects\", \n",
    "    lsuffix=\"left\", \n",
    "    rsuffix=\"right\")\n",
    "\n",
    "# Iterate over each observation in swath_gdf_c3\n",
    "for idx, obs in afds_srm_c3.iterrows():\n",
    "    # Filter to previous overlapping observations only\n",
    "    overlapping_obs = overlap_gdf[\n",
    "        (overlap_gdf['afdID_left'] == obs['afdID']) &  # Current observation\n",
    "        (overlap_gdf['afdID_right'] < obs['afdID']) &  # Previous observations only\n",
    "        (overlap_gdf['DAYNIGHT_right'] == obs['DAYNIGHT'])  # Same day/night cycle\n",
    "    ].copy()\n",
    "\n",
    "    # Calculate overlap ratio for each overlapping observation\n",
    "    overlap_ratios = [\n",
    "        obs.geometry.intersection(afds_srm_c3.loc[afds_srm_c3['afdID'] == row['afdID_right']].geometry.iloc[0]).area\n",
    "        / obs.geometry.area\n",
    "        for _, row in overlapping_obs.iterrows()\n",
    "    ]\n",
    "\n",
    "    # Filter to those with significant overlap (e.g., >50%)\n",
    "    overlapping_obs['overlap_ratio'] = overlap_ratios\n",
    "    overlapping_obs = overlapping_obs[overlapping_obs['overlap_ratio'] > 0.5]\n",
    "\n",
    "    # If there are overlapping observations, proceed to classify\n",
    "    if not overlapping_obs.empty:\n",
    "        max_frp = overlapping_obs['FRP_right'].max()  # Max FRP from overlapping observations\n",
    "\n",
    "        # Classify based on FRP comparison\n",
    "        if obs['FRP'] > max_frp:\n",
    "            afds_srm_c3.at[idx, 'detection'] = 'flare-up'\n",
    "        else:\n",
    "            afds_srm_c3.at[idx, 'detection'] = 'secondary'\n",
    "\n",
    "out_fp = os.path.join(projdir, 'data/spatial/mod/VIIRS/afd_aspen-fires_Case3.gpkg')\n",
    "afds_srm_c3.to_file(out_fp)\n",
    "print(f\"Saved to: {out_fp}\")"
   ]
  },
  {
   "cell_type": "code",
   "execution_count": null,
   "id": "8c91511a-a071-4ea0-8064-53ee34ffd784",
   "metadata": {},
   "outputs": [],
   "source": [
    "print(afds_srm_c3['FRP'].isna().sum())"
   ]
  },
  {
   "cell_type": "code",
   "execution_count": null,
   "id": "7d65f0a6-7e94-45d0-afc9-2ccb4375fd02",
   "metadata": {},
   "outputs": [],
   "source": []
  },
  {
   "cell_type": "code",
   "execution_count": null,
   "id": "99d8ac0a-0294-4a1c-8972-a222c14d7452",
   "metadata": {},
   "outputs": [],
   "source": [
    "afds_srm_c3['detection'].unique()"
   ]
  },
  {
   "cell_type": "code",
   "execution_count": null,
   "id": "d912dd99-9f61-4473-8d37-60cb73ecbf45",
   "metadata": {},
   "outputs": [],
   "source": [
    "# Plot FRP for each detection label\n",
    "plt.figure(figsize=(5.5, 3))\n",
    "\n",
    "sns.boxplot(data=afds_srm_c3, x='detection', y='log_FRP', palette=\"inferno\")\n",
    "plt.title(\"Distribution of log(FRP) by Detection Type\")\n",
    "plt.xlabel(\"Detection Type\")\n",
    "plt.ylabel(\"log(FRP)\")\n",
    "\n",
    "plt.savefig(os.path.join(projdir,'figures/FigureX_Primary_Secondary-FRP.png'), dpi=150, bbox_inches='tight')\n",
    "\n",
    "plt.show()"
   ]
  },
  {
   "cell_type": "code",
   "execution_count": null,
   "id": "fc9994dd-0613-43b9-877e-f7188ddefb8e",
   "metadata": {},
   "outputs": [],
   "source": [
    "# Plot the distribution of \"front\" and \"re-burn\"\n",
    "burn_class_counts = afds_srm_c3['detection'].value_counts()\n",
    "\n",
    "# Plot a bar chart\n",
    "plt.figure(figsize=(5, 3))\n",
    "sns.barplot(x=burn_class_counts.index, y=burn_class_counts.values, palette=\"inferno\")\n",
    "plt.title(\"Primary, Secondary, and Flare-up Obs.\")\n",
    "plt.xlabel(\"Burn Class\")\n",
    "plt.ylabel(\"Count\")\n",
    "\n",
    "plt.savefig(os.path.join(projdir,'figures/FigureX_Primary_Secondary-Counts.png'), dpi=150, bbox_inches='tight')\n",
    "\n",
    "plt.show()"
   ]
  },
  {
   "cell_type": "code",
   "execution_count": null,
   "id": "f0ff01e4-dc39-4142-a539-74ab15bb2e08",
   "metadata": {},
   "outputs": [],
   "source": [
    "len(afds_srm_c3)"
   ]
  },
  {
   "cell_type": "code",
   "execution_count": null,
   "id": "4b95a939-1375-4658-8c02-66d8bd5a38fb",
   "metadata": {},
   "outputs": [],
   "source": []
  },
  {
   "cell_type": "code",
   "execution_count": null,
   "id": "b60ec984-04a6-4ffe-a50d-b845af8bd959",
   "metadata": {},
   "outputs": [],
   "source": [
    "# Join to CBI, TreeMap, etc"
   ]
  },
  {
   "cell_type": "code",
   "execution_count": null,
   "id": "db6ef1a5-1ce0-43c7-b39f-b890aaad0b39",
   "metadata": {},
   "outputs": [],
   "source": [
    "# Load the summary table (from GEE reductions)\n",
    "fp = os.path.join(projdir,'data/tabular/mod/AFD/combined-afd_aspen-fires_TreeMap.csv')\n",
    "treemap = pd.read_csv(fp)\n",
    "treemap.drop(columns=[\"Unnamed: 0\"], inplace=True)\n",
    "print(len(treemap['afdID'].unique()))\n",
    "treemap.head()"
   ]
  },
  {
   "cell_type": "code",
   "execution_count": null,
   "id": "fb4c4070-86da-4420-87f5-fd5ab26e269c",
   "metadata": {},
   "outputs": [],
   "source": [
    "# Identify \"forested\" VIIRS observations\n",
    "# Calculate the total forest cover percent\n",
    "pct_cover_sum = treemap.groupby('afdID')['pct_cover'].sum()\n",
    "# Filter afdIDs with a sum of pct_cover greater than 50%\n",
    "afdIDs_gt50 = pct_cover_sum[pct_cover_sum > 50].index\n",
    "\n",
    "# Filter the original dataframe to keep only rows with these afdIDs\n",
    "treemap_ = treemap[treemap['afdID'].isin(afdIDs_gt50)]\n",
    "print(f\"Number of afdIDs with pct_cover > 50%: {len(afdIDs_gt50)}\")"
   ]
  },
  {
   "cell_type": "code",
   "execution_count": null,
   "id": "b5a0cd65-e10c-4761-a3fc-2aef5f648e2c",
   "metadata": {},
   "outputs": [],
   "source": [
    "# Identify the dominant forest type\n",
    "dtree = treemap_.loc[treemap_.groupby('afdID')['pct_cover'].idxmax()]\n",
    "print(len(dtree))\n",
    "dtree.head()"
   ]
  },
  {
   "cell_type": "code",
   "execution_count": null,
   "id": "3069e23f-7cad-449d-94fa-56f96e47551d",
   "metadata": {},
   "outputs": [],
   "source": [
    "dtree_frp = dtree.merge(afds_srm_c3, on='afdID', how='inner')\n",
    "print(dtree_frp.columns)\n",
    "len(dtree_frp)"
   ]
  },
  {
   "cell_type": "code",
   "execution_count": null,
   "id": "61b71af3-1485-403f-939b-d8e948fcb149",
   "metadata": {},
   "outputs": [],
   "source": [
    "print(dtree_frp['FRP'].isna().sum())"
   ]
  },
  {
   "cell_type": "code",
   "execution_count": null,
   "id": "a26ff6c1-fe60-4e3f-bc0a-80eb391bbbbd",
   "metadata": {},
   "outputs": [],
   "source": []
  },
  {
   "cell_type": "code",
   "execution_count": null,
   "id": "faf0dc80-f683-4e21-8428-f49f0d37a5b7",
   "metadata": {},
   "outputs": [],
   "source": [
    "### Plot FRP by EVT group name\n",
    "df = dtree_frp[dtree_frp['DAYNIGHT'] == 'D'] # primary obs.\n",
    "df = dtree_frp\n",
    "\n",
    "# Find the median and sort the evt classes\n",
    "med = df.groupby('species_name')['FRP'].median().sort_values(ascending=False)\n",
    "sorted = med.index.tolist()\n",
    "\n",
    "plt.figure(figsize=(8, 8)) \n",
    "\n",
    "sns.boxplot(\n",
    "    data=df,\n",
    "    x='FRP', \n",
    "    y='species_name', \n",
    "    hue='detection',\n",
    "    order=sorted,  \n",
    "    palette='coolwarm', \n",
    "    dodge=True\n",
    ")\n",
    "\n",
    "plt.xscale('log')\n",
    "\n",
    "plt.title('Daytime FRP by Detection Class and Species')\n",
    "plt.xlabel('Fire Radiative Power (FRP)')\n",
    "plt.ylabel('Dominant Tree Species')\n",
    "\n",
    "plt.tight_layout()\n",
    "\n",
    "plt.savefig(os.path.join(projdir,'figures/FigureX_DTree-FRP-Detections.png'), dpi=300, bbox_inches='tight')\n",
    "\n",
    "plt.show()"
   ]
  },
  {
   "cell_type": "code",
   "execution_count": null,
   "id": "ca67374c-3646-42ee-a7f0-7a17d695bfca",
   "metadata": {},
   "outputs": [],
   "source": [
    "aspen_df = dtree_frp[dtree_frp['species_name'] == 'Aspen']\n",
    "aspen_df = aspen_df[aspen_df['DAYNIGHT'] == 'D']\n",
    "\n",
    "# Create the scatter plot\n",
    "plt.figure(figsize=(6, 4))\n",
    "sns.scatterplot(data=aspen_df, x='FRP', y='BALIVE', hue='detection', style='detection', s=50, palette=\"viridis\")\n",
    "plt.xlabel('Aspen Live Basal Area')\n",
    "plt.ylabel('FRP')\n",
    "plt.legend(title='Detection Type')\n",
    "\n",
    "plt.savefig(os.path.join(projdir,'figures/FigureX_DTree-Aspen-FRP_scatter.png'), dpi=300, bbox_inches='tight')\n",
    "\n",
    "plt.show()"
   ]
  },
  {
   "cell_type": "code",
   "execution_count": null,
   "id": "675ed26b-fb1e-4ec4-b9e8-b87c4708b081",
   "metadata": {},
   "outputs": [],
   "source": []
  },
  {
   "cell_type": "code",
   "execution_count": null,
   "id": "708f1e5a-8c7f-43b4-b4da-4e22e4986fe2",
   "metadata": {},
   "outputs": [],
   "source": [
    "# Join in the CBI\n",
    "cbi = os.path.join(projdir,'data/tabular/mod/AFD/combined-afd_aspen-fires_cbi.csv')\n",
    "cbi = pd.read_csv(cbi)\n",
    "cbi.columns"
   ]
  },
  {
   "cell_type": "code",
   "execution_count": null,
   "id": "5caa8fc5-4835-40ec-ae72-ad4eb86cabd4",
   "metadata": {},
   "outputs": [],
   "source": [
    "cbi = cbi[['afdID','CBI_mean', 'CBI_bc_mean', 'rbr_mean']]\n",
    "cbi.head()"
   ]
  },
  {
   "cell_type": "code",
   "execution_count": null,
   "id": "4af1b38f-bef2-4b1d-9f60-a65046f622d2",
   "metadata": {},
   "outputs": [],
   "source": [
    "dtree_frp_cbi = dtree_frp.merge(cbi, on='afdID', how='inner')\n",
    "print(len(dtree_frp_cbi))\n",
    "dtree_frp_cbi.head()"
   ]
  },
  {
   "cell_type": "code",
   "execution_count": null,
   "id": "4e6f2787-5996-4e2a-a7d4-b38758b6e98b",
   "metadata": {},
   "outputs": [],
   "source": [
    "dtree_frp_cbi = dtree_frp_cbi.drop_duplicates(subset='afdID', keep='first')\n",
    "len(dtree_frp_cbi)"
   ]
  },
  {
   "cell_type": "code",
   "execution_count": null,
   "id": "d1302eee-195b-4dc5-9443-529d4a8c6e25",
   "metadata": {},
   "outputs": [],
   "source": [
    "print(dtree_frp_cbi['afdID'].isna().sum())\n",
    "print(dtree_frp_cbi['CBI_mean'].isna().sum())\n",
    "print(dtree_frp_cbi['species_name'].isna().sum())\n",
    "print(dtree_frp_cbi['FRP'].isna().sum())"
   ]
  },
  {
   "cell_type": "code",
   "execution_count": null,
   "id": "9b44c35b-0ca4-4fe9-9613-1241a5169d00",
   "metadata": {},
   "outputs": [],
   "source": []
  },
  {
   "cell_type": "code",
   "execution_count": null,
   "id": "37902a86-2fe6-497b-9ce8-a6a91f1ba9cc",
   "metadata": {},
   "outputs": [],
   "source": []
  },
  {
   "cell_type": "code",
   "execution_count": null,
   "id": "90178ddc-cebf-4e2f-85b3-c25e895479df",
   "metadata": {},
   "outputs": [],
   "source": [
    "# Calculate the Pearson correlation by forest type"
   ]
  },
  {
   "cell_type": "code",
   "execution_count": null,
   "id": "139e0680-e289-421b-afe7-0977d043a5ec",
   "metadata": {},
   "outputs": [],
   "source": [
    "df = dtree_frp_cbi[dtree_frp_cbi['detection'] == 'primary'] #primary obs.\n",
    "df = dtree_frp_cbi[dtree_frp_cbi['DAYNIGHT'] == 'D'] #daytime"
   ]
  },
  {
   "cell_type": "code",
   "execution_count": null,
   "id": "c492de7f-ca52-4573-92be-b93f03324b5d",
   "metadata": {},
   "outputs": [],
   "source": [
    "from scipy.stats import pearsonr\n",
    "\n",
    "correlations = {}\n",
    "for tree_type, group in df.groupby('species_name'):\n",
    "    corr, p_value = pearsonr(group['FRP'], group['CBI_bc_mean'])\n",
    "    correlations[tree_type] = (corr, p_value)\n",
    "    print(f\"Tree Type: {tree_type} - Pearson correlation: {corr:.2f}, p-value: {p_value:.4f}\")"
   ]
  },
  {
   "cell_type": "code",
   "execution_count": null,
   "id": "b098a39a-1e46-4bd1-a91e-2614ea6df0f0",
   "metadata": {},
   "outputs": [],
   "source": [
    "correlation_df = pd.DataFrame(correlations, index=['correlation', 'p_value']).T\n",
    "print(\"\\nCorrelation by Tree Type:\\n\")\n",
    "correlation_df = correlation_df.sort_values('correlation')\n",
    "correlation_df.to_csv(os.path.join(projdir, 'data/tabular/mod/afds_aspen-fires_frp-cbi_pearson.csv'))\n",
    "correlation_df.head(15)"
   ]
  },
  {
   "cell_type": "code",
   "execution_count": null,
   "id": "84b6c460-5fee-4645-b150-6ec749c9ea2a",
   "metadata": {},
   "outputs": [],
   "source": [
    "g = sns.lmplot(data=df, x='FRP', y='CBI_bc_mean', hue='species_name', col='species_name', \n",
    "           col_wrap=3, height=2, aspect=1.5, scatter_kws={'alpha':0.4}, line_kws={'color':'black'}, sharey=True\n",
    "          )\n",
    "\n",
    "# Adjust the titles to remove the \"species_name = \" prefix\n",
    "for ax in g.axes.flat:\n",
    "    ax.set_ylim(0, 4)  # Set the y-axis limit from 0 to 4\n",
    "    ax.set_title(ax.get_title().replace('species_name = ', ''))\n",
    "\n",
    "plt.savefig(os.path.join(projdir,'figures/FigureX_DTree-FRP-CBI_bc.png'), dpi=300, bbox_inches='tight')\n",
    "\n",
    "plt.show()"
   ]
  },
  {
   "cell_type": "code",
   "execution_count": null,
   "id": "71c64f8f-2121-4574-ad3f-f36b43f3cfd4",
   "metadata": {},
   "outputs": [],
   "source": []
  },
  {
   "cell_type": "code",
   "execution_count": null,
   "id": "ada8b0d8-09b6-45ec-9198-987be922c702",
   "metadata": {},
   "outputs": [],
   "source": []
  },
  {
   "cell_type": "code",
   "execution_count": null,
   "id": "1d980edd-c07e-466d-ab0b-7bf2c94b52b3",
   "metadata": {},
   "outputs": [],
   "source": []
  }
 ],
 "metadata": {
  "kernelspec": {
   "display_name": "aspen-fire",
   "language": "python",
   "name": "aspen-fire"
  },
  "language_info": {
   "codemirror_mode": {
    "name": "ipython",
    "version": 3
   },
   "file_extension": ".py",
   "mimetype": "text/x-python",
   "name": "python",
   "nbconvert_exporter": "python",
   "pygments_lexer": "ipython3",
   "version": "3.10.12"
  }
 },
 "nbformat": 4,
 "nbformat_minor": 5
}
