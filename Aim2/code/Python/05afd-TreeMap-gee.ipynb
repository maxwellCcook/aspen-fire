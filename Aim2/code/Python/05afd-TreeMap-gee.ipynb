{
 "cells": [
  {
   "cell_type": "code",
   "execution_count": 40,
   "id": "0aa0e7ec-5f44-499d-ba82-a2da23e0bbca",
   "metadata": {},
   "outputs": [
    {
     "data": {
      "text/html": [
       "\n",
       "            <style>\n",
       "                .geemap-dark {\n",
       "                    --jp-widgets-color: white;\n",
       "                    --jp-widgets-label-color: white;\n",
       "                    --jp-ui-font-color1: white;\n",
       "                    --jp-layout-color2: #454545;\n",
       "                    background-color: #383838;\n",
       "                }\n",
       "\n",
       "                .geemap-dark .jupyter-button {\n",
       "                    --jp-layout-color3: #383838;\n",
       "                }\n",
       "\n",
       "                .geemap-colab {\n",
       "                    background-color: var(--colab-primary-surface-color, white);\n",
       "                }\n",
       "\n",
       "                .geemap-colab .jupyter-button {\n",
       "                    --jp-layout-color3: var(--colab-primary-surface-color, white);\n",
       "                }\n",
       "            </style>\n",
       "            "
      ],
      "text/plain": [
       "<IPython.core.display.HTML object>"
      ]
     },
     "metadata": {},
     "output_type": "display_data"
    },
    {
     "name": "stdout",
     "output_type": "stream",
     "text": [
      "Success\n"
     ]
    }
   ],
   "source": [
    "\"\"\"\n",
    "Extract TreeMap (c.a. 2016) statistics in active fire detections\n",
    "\n",
    "\"\"\"\n",
    "\n",
    "import os, sys\n",
    "import ee\n",
    "import geemap\n",
    "import time\n",
    "import pandas as pd\n",
    "\n",
    "# Custom functions\n",
    "sys.path.append(os.path.join(os.getcwd(),'code/'))\n",
    "from __functions import *\n",
    "\n",
    "ee.Authenticate()\n",
    "\n",
    "ee.Initialize(project='jfsp-aspen')\n",
    "\n",
    "maindir = '/Users/max/Library/CloudStorage/OneDrive-Personal/mcook/'\n",
    "projdir = os.path.join(maindir, 'aspen-fire/Aim2/')\n",
    "\n",
    "print(\"Success\")"
   ]
  },
  {
   "cell_type": "code",
   "execution_count": 4,
   "id": "2bb6337a-2892-4b52-8ce5-6f763d39978c",
   "metadata": {},
   "outputs": [
    {
     "data": {
      "text/html": [
       "\n",
       "            <style>\n",
       "                .geemap-dark {\n",
       "                    --jp-widgets-color: white;\n",
       "                    --jp-widgets-label-color: white;\n",
       "                    --jp-ui-font-color1: white;\n",
       "                    --jp-layout-color2: #454545;\n",
       "                    background-color: #383838;\n",
       "                }\n",
       "\n",
       "                .geemap-dark .jupyter-button {\n",
       "                    --jp-layout-color3: #383838;\n",
       "                }\n",
       "\n",
       "                .geemap-colab {\n",
       "                    background-color: var(--colab-primary-surface-color, white);\n",
       "                }\n",
       "\n",
       "                .geemap-colab .jupyter-button {\n",
       "                    --jp-layout-color3: var(--colab-primary-surface-color, white);\n",
       "                }\n",
       "            </style>\n",
       "            "
      ],
      "text/plain": [
       "<IPython.core.display.HTML object>"
      ]
     },
     "metadata": {},
     "output_type": "display_data"
    },
    {
     "name": "stdout",
     "output_type": "stream",
     "text": [
      "TreeMap bands available for analysis:\n",
      "\n",
      "['ALSTK', 'BALIVE', 'CANOPYPCT', 'CARBON_D', 'CARBON_DWN', 'CARBON_L', 'DRYBIO_D', 'DRYBIO_L', 'FLDSZCD', 'FLDTYPCD', 'FORTYPCD', 'GSSTK', 'QMD_RMRS', 'SDIPCT_RMRS', 'STANDHT', 'STDSZCD', 'TPA_DEAD', 'TPA_LIVE', 'Value', 'VOLBFNET_L', 'VOLCFNET_D', 'VOLCFNET_L']\n"
     ]
    }
   ],
   "source": [
    "# Load the USFS TreeMap\n",
    "treemap = ee.ImageCollection(\"USFS/GTAC/TreeMap/v2016\")\n",
    "print(f\"TreeMap bands available for analysis:\\n\\n{treemap.first().bandNames().getInfo()}\")"
   ]
  },
  {
   "cell_type": "code",
   "execution_count": null,
   "id": "3ea47189-2d91-4132-b620-f3126e7953cd",
   "metadata": {},
   "outputs": [],
   "source": [
    "bands = ['FORTYPCD','BALIVE','CANOPYPCT']\n",
    "treemap = treemap.select(bands)"
   ]
  },
  {
   "cell_type": "code",
   "execution_count": 15,
   "id": "cee879a5-f053-496f-8148-ad1b57c23331",
   "metadata": {},
   "outputs": [
    {
     "data": {
      "text/html": [
       "\n",
       "            <style>\n",
       "                .geemap-dark {\n",
       "                    --jp-widgets-color: white;\n",
       "                    --jp-widgets-label-color: white;\n",
       "                    --jp-ui-font-color1: white;\n",
       "                    --jp-layout-color2: #454545;\n",
       "                    background-color: #383838;\n",
       "                }\n",
       "\n",
       "                .geemap-dark .jupyter-button {\n",
       "                    --jp-layout-color3: #383838;\n",
       "                }\n",
       "\n",
       "                .geemap-colab {\n",
       "                    background-color: var(--colab-primary-surface-color, white);\n",
       "                }\n",
       "\n",
       "                .geemap-colab .jupyter-button {\n",
       "                    --jp-layout-color3: var(--colab-primary-surface-color, white);\n",
       "                }\n",
       "            </style>\n",
       "            "
      ],
      "text/plain": [
       "<IPython.core.display.HTML object>"
      ]
     },
     "metadata": {},
     "output_type": "display_data"
    },
    {
     "name": "stdout",
     "output_type": "stream",
     "text": [
      "{101: 'Jack pine', 102: 'Red pine', 103: 'Eastern white pine', 104: 'Eastern white pine / eastern hemlock', 105: 'Eastern hemlock', 121: 'Balsam fir', 122: 'White spruce', 123: 'Red spruce', 124: 'Red spruce / balsam fir', 125: 'Black spruce', 126: 'Tamarack', 127: 'Northern white-cedar', 141: 'Longleaf pine', 142: 'Slash pine', 161: 'Loblolly pine', 162: 'Shortleaf pine', 163: 'Virginia pine', 164: 'Sand pine', 165: 'Table Mountain pine', 166: 'Pond pine', 167: 'Pitch pine', 171: 'Eastern redcedar', 182: 'Rocky Mountain juniper', 184: 'Juniper woodland', 185: 'Pinyon / juniper woodland', 201: 'Douglas-fir', 202: 'Port-Orford-cedar', 221: 'Ponderosa pine', 222: 'Incense-cedar', 224: 'Sugar pine', 225: 'Jeffrey pine', 226: 'Coulter pine', 241: 'Western white pine', 261: 'White fir', 262: 'Red fir', 263: 'Noble fir', 264: 'Pacific silver fir', 265: 'Engelmann spruce', 266: 'Engelmann spruce / subalpine fir', 267: 'Grand fir', 268: 'Subalpine fir', 269: 'Blue spruce', 270: 'Mountain hemlock', 271: 'Alaska-yellow-cedar', 281: 'Lodgepole pine', 301: 'Western hemlock', 304: 'Western redcedar', 305: 'Sitka spruce', 321: 'Western larch', 341: 'Redwood', 361: 'Knobcone pine', 362: 'Southwestern white pine', 365: 'Foxtail pine / bristlecone pine', 366: 'Limber pine', 367: 'Whitebark pine', 368: 'Miscellaneous western softwoods', 369: 'Western juniper', 371: 'California mixed conifer', 381: 'Scotch pine', 383: 'Other exotic softwoods', 384: 'Norway spruce', 385: 'Introduced larch', 401: 'Eastern white pine / northern red oak / white ash', 402: 'Eastern redcedar / hardwood', 403: 'Longleaf pine / oak', 404: 'Shortleaf pine / oak', 405: 'Virginia pine / southern red oak', 406: 'Loblolly pine / hardwood', 407: 'Slash pine / hardwood', 409: 'Other pine / hardwood', 501: 'Post oak / blackjack oak', 502: 'Chestnut oak', 503: 'White oak / red oak / hickory', 504: 'White oak', 505: 'Northern red oak', 506: 'Yellow-poplar / white oak / northern red oak', 507: 'Sassafras / persimmon', 508: 'Sweetgum / yellow-poplar', 509: 'Bur oak', 510: 'Scarlet oak', 511: 'Yellow-poplar', 512: 'Black walnut', 513: 'Black locust', 514: 'Southern scrub oak', 515: 'Chestnut oak / black oak / scarlet oak', 516: 'Cherry / white ash / yellow-poplar', 517: 'Elm / ash / black locust', 519: 'Red maple / oak', 520: 'Mixed upland hardwoods', 601: 'Swamp chestnut oak / cherrybark oak', 602: 'Sweetgum / Nuttall oak / willow oak', 605: 'Overcup oak / water hickory', 606: 'Atlantic white-cedar', 607: 'Baldcypress / water tupelo', 608: 'Sweetbay / swamp tupelo / red maple', 609: 'Baldcypress / pondcypress', 701: 'Black ash / American elm / red maple', 702: 'River birch / sycamore', 703: 'Cottonwood', 704: 'Willow', 705: 'Sycamore / pecan / American elm', 706: 'Sugarberry / hackberry / elm / green ash', 707: 'Silver maple / American elm', 708: 'Red maple / lowland', 709: 'Cottonwood / willow', 722: 'Oregon ash', 801: 'Sugar maple / beech / yellow birch', 802: 'Black cherry', 805: 'Hard maple / basswood', 809: 'Red maple / upland', 901: 'Aspen', 902: 'Paper birch', 903: 'Gray birch', 904: 'Balsam poplar', 905: 'Pin cherry', 911: 'Red alder', 912: 'Bigleaf maple', 921: 'Gray pine', 922: 'California black oak', 923: 'Oregon white oak', 924: 'Blue oak', 931: 'Coast live oak', 933: 'Canyon live oak', 934: 'Interior live oak', 935: 'California white oak (valley oak)', 941: 'Tanoak', 942: 'California laurel', 943: 'Giant chinkapin', 961: 'Pacific madrone', 962: 'Other hardwoods', 971: 'Deciduous oak woodland', 972: 'Evergreen oak woodland', 973: 'Mesquite woodland', 974: 'Cercocarpus (mountain brush) woodland', 975: 'Intermountain maple woodland', 976: 'Miscellaneous woodland hardwoods', 982: 'Mangrove', 983: 'Palms', 991: 'Paulownia', 992: 'Melaleuca', 995: 'Other exotic hardwoods', 999: 'Nonstocked'}\n"
     ]
    }
   ],
   "source": [
    "class_codes = treemap.first().get('FORTYPCD_class_values').getInfo()\n",
    "class_names = treemap.first().get('FORTYPCD_class_names').getInfo()\n",
    "code_to_name = dict(zip(class_codes, class_names))\n",
    "print(code_to_name)"
   ]
  },
  {
   "cell_type": "code",
   "execution_count": 20,
   "id": "fd254ec9-778e-4ca8-80d3-28cc487bb8da",
   "metadata": {},
   "outputs": [
    {
     "data": {
      "text/html": [
       "\n",
       "            <style>\n",
       "                .geemap-dark {\n",
       "                    --jp-widgets-color: white;\n",
       "                    --jp-widgets-label-color: white;\n",
       "                    --jp-ui-font-color1: white;\n",
       "                    --jp-layout-color2: #454545;\n",
       "                    background-color: #383838;\n",
       "                }\n",
       "\n",
       "                .geemap-dark .jupyter-button {\n",
       "                    --jp-layout-color3: #383838;\n",
       "                }\n",
       "\n",
       "                .geemap-colab {\n",
       "                    background-color: var(--colab-primary-surface-color, white);\n",
       "                }\n",
       "\n",
       "                .geemap-colab .jupyter-button {\n",
       "                    --jp-layout-color3: var(--colab-primary-surface-color, white);\n",
       "                }\n",
       "            </style>\n",
       "            "
      ],
      "text/plain": [
       "<IPython.core.display.HTML object>"
      ]
     },
     "metadata": {},
     "output_type": "display_data"
    },
    {
     "name": "stdout",
     "output_type": "stream",
     "text": [
      "Dictionary saved to /Users/max/Library/CloudStorage/OneDrive-Personal/mcook/aspen-fire/Aim2/data/tabular/mod/treemap_fortypcd_species_mapping.csv\n"
     ]
    }
   ],
   "source": [
    "# Save this file out.\n",
    "out_fp = os.path.join(projdir,'data/tabular/mod/treemap_fortypcd_species_mapping.csv')\n",
    "df = pd.DataFrame(list(code_to_name.items()), columns=['FORTYPCD', 'SpeciesName'])\n",
    "print(f\"Dictionary saved to {out_fp}\")"
   ]
  },
  {
   "cell_type": "code",
   "execution_count": null,
   "id": "538fa4c1-677b-4565-b886-0063ada00d8e",
   "metadata": {},
   "outputs": [],
   "source": []
  },
  {
   "cell_type": "code",
   "execution_count": null,
   "id": "57f03847-6394-48f3-9579-2d09cdc41149",
   "metadata": {},
   "outputs": [],
   "source": []
  },
  {
   "cell_type": "code",
   "execution_count": 41,
   "id": "52e2e54e-d691-4288-aa90-06f4ef8b4ec5",
   "metadata": {},
   "outputs": [
    {
     "data": {
      "text/html": [
       "\n",
       "            <style>\n",
       "                .geemap-dark {\n",
       "                    --jp-widgets-color: white;\n",
       "                    --jp-widgets-label-color: white;\n",
       "                    --jp-ui-font-color1: white;\n",
       "                    --jp-layout-color2: #454545;\n",
       "                    background-color: #383838;\n",
       "                }\n",
       "\n",
       "                .geemap-dark .jupyter-button {\n",
       "                    --jp-layout-color3: #383838;\n",
       "                }\n",
       "\n",
       "                .geemap-colab {\n",
       "                    background-color: var(--colab-primary-surface-color, white);\n",
       "                }\n",
       "\n",
       "                .geemap-colab .jupyter-button {\n",
       "                    --jp-layout-color3: var(--colab-primary-surface-color, white);\n",
       "                }\n",
       "            </style>\n",
       "            "
      ],
      "text/plain": [
       "<IPython.core.display.HTML object>"
      ]
     },
     "metadata": {},
     "output_type": "display_data"
    },
    {
     "name": "stdout",
     "output_type": "stream",
     "text": [
      "77339\n",
      "['fid', 'FRP', 'NIFC_NAME', 'LONGITUDE', 'ACQ_YEAR', 'ACQ_TIME', 'SCAN', 'BRIGHTNESS', 'CONFIDENCE', 'TYPE', 'SATELLITE', 'na_l3name', 'DAYNIGHT', 'TRACK', 'INSTRUMENT', 'VID', 'NIFC_ID', 'START_YEAR', 'ACQ_DATETI', 'ACQ_MONTH', 'WF_CESSATI', 'VERSION', 'BRIGHT_T31', 'DISCOVERY_', 'afdID', 'LATITUDE', 'system:index', 'ACQ_DATE']\n"
     ]
    }
   ],
   "source": [
    "# Load the Active Fire Detections (AFD)\n",
    "afds = ee.FeatureCollection('projects/jfsp-aspen/assets/AFD/combined-afd_aspen-fires_2018_to_2023')\n",
    "afds = afds.filter(ee.Filter.eq('na_l3name', 'Southern Rockies'))\n",
    "print(afds.size().getInfo())\n",
    "print(afds.first().propertyNames().getInfo())"
   ]
  },
  {
   "cell_type": "code",
   "execution_count": null,
   "id": "1e5cb7b9-aa37-4305-a1d9-7a25f191ac2c",
   "metadata": {},
   "outputs": [],
   "source": []
  },
  {
   "cell_type": "code",
   "execution_count": null,
   "id": "da4d744c-c77e-403c-be23-1fe793f7d101",
   "metadata": {},
   "outputs": [],
   "source": [
    "# Perform reductions for the various bands"
   ]
  },
  {
   "cell_type": "code",
   "execution_count": 42,
   "id": "e2b85b52-999e-42c6-b14e-1d74d00fdaa3",
   "metadata": {},
   "outputs": [
    {
     "data": {
      "text/html": [
       "\n",
       "            <style>\n",
       "                .geemap-dark {\n",
       "                    --jp-widgets-color: white;\n",
       "                    --jp-widgets-label-color: white;\n",
       "                    --jp-ui-font-color1: white;\n",
       "                    --jp-layout-color2: #454545;\n",
       "                    background-color: #383838;\n",
       "                }\n",
       "\n",
       "                .geemap-dark .jupyter-button {\n",
       "                    --jp-layout-color3: #383838;\n",
       "                }\n",
       "\n",
       "                .geemap-colab {\n",
       "                    background-color: var(--colab-primary-surface-color, white);\n",
       "                }\n",
       "\n",
       "                .geemap-colab .jupyter-button {\n",
       "                    --jp-layout-color3: var(--colab-primary-surface-color, white);\n",
       "                }\n",
       "            </style>\n",
       "            "
      ],
      "text/plain": [
       "<IPython.core.display.HTML object>"
      ]
     },
     "metadata": {},
     "output_type": "display_data"
    }
   ],
   "source": [
    "# Clean the property names before exporting reductions (just keep the ID)\n",
    "afds_ = afds.select(['afdID'])"
   ]
  },
  {
   "cell_type": "code",
   "execution_count": null,
   "id": "9bf6a803-49d4-40cf-a933-944ce97675d7",
   "metadata": {},
   "outputs": [],
   "source": [
    "# Histogram reducer for the tree code\n",
    "imageC = treemap.select(['FORTYPCD']).first() # select just the forest type code\n",
    "\n",
    "def species_histogram(ftr):\n",
    "    hist = imageC.reduceRegion(\n",
    "        reducer=ee.Reducer.frequencyHistogram(),\n",
    "        geometry=ftr.geometry(),\n",
    "        scale=30,\n",
    "        maxPixels=1e13\n",
    "    ).get('FORTYPCD')\n",
    "\n",
    "    hist_dict = ee.Dictionary(hist)\n",
    "    flat_ftr = hist_dict.keys().iterate(\n",
    "        lambda key, f: ee.Feature(f).set(ee.String(key), hist_dict.get(key)), ftr\n",
    "    )\n",
    "    return ee.Feature(flat_ftr)\n",
    "\n",
    "\n",
    "# Apply this to the AFDs\n",
    "fortypcd = afds_.map(species_histogram)\n",
    "\n",
    "# Print a sample\n",
    "sample = fortypcd.limit(1).getInfo()\n",
    "properties = sample['features'][0]['properties']\n",
    "df = pd.DataFrame([properties])\n",
    "print(\"Sample DataFrame:\")\n",
    "print(df.head())\n",
    "\n",
    "# Export to Drive\n",
    "fortypcd = fortypcd.map(lambda ftr: ftr.setGeometry(None)) # drop geometry column\n",
    "\n",
    "task = ee.batch.Export.table.toDrive(\n",
    "    collection=fortypcd,\n",
    "    description='afd_aspen-fires_treemap-fortypcd',\n",
    "    fileFormat='CSV',\n",
    "    folder='TreeMap'\n",
    ")\n",
    "# Start the export task\n",
    "task.start()\n",
    "print(\"Export to Google Drive started!\")\n",
    "# Monitor the task until it's finished\n",
    "monitor_export(task, timeout=120) # print every X seconds"
   ]
  },
  {
   "cell_type": "code",
   "execution_count": null,
   "id": "236ed870-340a-43cf-8e24-453b69324d0c",
   "metadata": {},
   "outputs": [],
   "source": []
  },
  {
   "cell_type": "code",
   "execution_count": null,
   "id": "e05ac2fb-efae-4d39-bda7-bc4c98fbd888",
   "metadata": {},
   "outputs": [
    {
     "data": {
      "text/html": [
       "\n",
       "            <style>\n",
       "                .geemap-dark {\n",
       "                    --jp-widgets-color: white;\n",
       "                    --jp-widgets-label-color: white;\n",
       "                    --jp-ui-font-color1: white;\n",
       "                    --jp-layout-color2: #454545;\n",
       "                    background-color: #383838;\n",
       "                }\n",
       "\n",
       "                .geemap-dark .jupyter-button {\n",
       "                    --jp-layout-color3: #383838;\n",
       "                }\n",
       "\n",
       "                .geemap-colab {\n",
       "                    background-color: var(--colab-primary-surface-color, white);\n",
       "                }\n",
       "\n",
       "                .geemap-colab .jupyter-button {\n",
       "                    --jp-layout-color3: var(--colab-primary-surface-color, white);\n",
       "                }\n",
       "            </style>\n",
       "            "
      ],
      "text/plain": [
       "<IPython.core.display.HTML object>"
      ]
     },
     "metadata": {},
     "output_type": "display_data"
    },
    {
     "name": "stdout",
     "output_type": "stream",
     "text": [
      "Export to Earth Engine Asset started!\n",
      "Waiting for export to finish..\n",
      "\tPatience young padawan.\n",
      "Waiting for export to finish..\n",
      "\tPatience young padawan.\n",
      "Waiting for export to finish..\n",
      "\tPatience young padawan.\n"
     ]
    }
   ],
   "source": [
    "# Reductions for the continuous bands (BALIVE and CANOPYPCT)\n",
    "imageC = treemap.select(['BALIVE','CANOPYPCT']).first()\n",
    "\n",
    "# Mean, standard deviation, and median\n",
    "reducer_ = ee.Reducer.mean().combine(\n",
    "    reducer2=ee.Reducer.stdDev(), sharedInputs=True).combine(\n",
    "    reducer2=ee.Reducer.median(), sharedInputs=True)\n",
    "\n",
    "# Run the reduction\n",
    "tmap_reduc = imageC.reduceRegions(\n",
    "    collection=afds_,\n",
    "    reducer=reducer_, \n",
    "    scale=30\n",
    ")\n",
    "\n",
    "# Export table to Drive.\n",
    "\n",
    "# Remove geometry column first\n",
    "tmap_reduc = tmap_reduc.map(lambda ftr: ftr.setGeometry(None)) # drop geometry column\n",
    "\n",
    "export_task = ee.batch.Export.table.toDrive(\n",
    "    collection=tmap_reduc,\n",
    "    description='afd_aspen-fires_treemap-balive_canopypct',\n",
    "    fileFormat='CSV', \n",
    "    fileNamePrefix='afd_aspen-fires_treemap-balive_canopypct',\n",
    "    folder='TreeMap'\n",
    ")\n",
    "\n",
    "# Start the export task\n",
    "export_task.start()\n",
    "print(\"Export to Earth Engine Asset started!\")\n",
    "# Monitor the task until it's finished\n",
    "monitor_export(export_task, 120) # print every 120 seconds"
   ]
  },
  {
   "cell_type": "code",
   "execution_count": null,
   "id": "e396ea70-05cc-48e2-a7ed-a02780940936",
   "metadata": {},
   "outputs": [],
   "source": []
  }
 ],
 "metadata": {
  "kernelspec": {
   "display_name": "aspen-fire",
   "language": "python",
   "name": "aspen-fire"
  },
  "language_info": {
   "codemirror_mode": {
    "name": "ipython",
    "version": 3
   },
   "file_extension": ".py",
   "mimetype": "text/x-python",
   "name": "python",
   "nbconvert_exporter": "python",
   "pygments_lexer": "ipython3",
   "version": "3.10.12"
  }
 },
 "nbformat": 4,
 "nbformat_minor": 5
}
