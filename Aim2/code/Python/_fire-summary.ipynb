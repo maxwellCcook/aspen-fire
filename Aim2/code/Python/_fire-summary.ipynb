{
 "cells": [
  {
   "cell_type": "code",
   "execution_count": 5,
   "id": "535fac98-4dd2-46f5-ba64-7c00f157c7f6",
   "metadata": {},
   "outputs": [
    {
     "name": "stdout",
     "output_type": "stream",
     "text": [
      "Ready !\n"
     ]
    }
   ],
   "source": [
    "\"\"\"\n",
    "\"\"\"\n",
    "\n",
    "import os, sys\n",
    "import geopandas as gpd\n",
    "\n",
    "# Custom functions\n",
    "sys.path.append(os.path.join(os.getcwd(),'code/'))\n",
    "from __functions import *\n",
    "\n",
    "proj = 'EPSG:5070'\n",
    "\n",
    "maindir = '/Users/max/Library/CloudStorage/OneDrive-Personal/mcook/'\n",
    "projdir = os.path.join(maindir, 'aspen-fire/Aim2/')\n",
    "icsdir = os.path.join(maindir, 'ics209-plus-fired/data/')\n",
    "\n",
    "print(\"Ready !\")"
   ]
  },
  {
   "cell_type": "code",
   "execution_count": 14,
   "id": "aa7d06b5-4dcd-440b-9dca-de5f9d814d28",
   "metadata": {},
   "outputs": [
    {
     "data": {
      "text/plain": [
       "Index(['Fire_ID', 'Fire_Name', 'Final_Acres', 'Source', 'INCIDENT_ID',\n",
       "       'INCIDENT_NAME', 'START_YEAR', 'ICS_ACRES', 'CAUSE', 'DISCOVERY_DATE',\n",
       "       'DISCOVERY_DOY', 'WF_CESSATION_DATE', 'WF_CESSATION_DOY',\n",
       "       'STR_DESTROYED_TOTAL', 'STR_DAMAGED_TOTAL', 'STR_THREATENED_MAX',\n",
       "       'EVACUATION_REPORTED', 'PEAK_EVACUATIONS', 'WF_PEAK_AERIAL',\n",
       "       'WF_PEAK_PERSONNEL', 'na_l3name', 'geometry'],\n",
       "      dtype='object')"
      ]
     },
     "execution_count": 14,
     "metadata": {},
     "output_type": "execute_result"
    }
   ],
   "source": [
    "# Load the Southern Rockies ICS-209-PLUS from the fire census\n",
    "fp = os.path.join(projdir, 'data/spatial/mod/ICS209PLUS/ics209plus_fire_census_2017to2023.gpkg')\n",
    "ics = gpd.read_file(fp)\n",
    "ics.columns"
   ]
  },
  {
   "cell_type": "code",
   "execution_count": 12,
   "id": "8432b1c7-196f-49c4-b08d-f3ade1c8b035",
   "metadata": {},
   "outputs": [
    {
     "name": "stdout",
     "output_type": "stream",
     "text": [
      "\n",
      "Dropping [1] duplicate rows.\n",
      "\n"
     ]
    }
   ],
   "source": [
    "# check for duplicates\n",
    "# check for duplicates, remove them\n",
    "n = ics.duplicated(subset=['INCIDENT_ID']).sum()\n",
    "if n > 0:\n",
    "    print(f\"\\nDropping [{n}] duplicate rows.\\n\")\n",
    "    ics = ics.drop_duplicates(subset=['INCIDENT_ID'], keep='first')\n",
    "else:\n",
    "    print(\"\\nNo duplicates at this stage.\\n\")"
   ]
  },
  {
   "cell_type": "code",
   "execution_count": 35,
   "id": "a29286ae-8caa-4405-8415-b3bed73339e9",
   "metadata": {},
   "outputs": [
    {
     "name": "stdout",
     "output_type": "stream",
     "text": [
      "Total acres burned: 1676679\n",
      "Distribution of fire sizes:\n",
      "count       113.000000\n",
      "mean      14837.867257\n",
      "std       45711.880739\n",
      "min         100.000000\n",
      "25%         460.000000\n",
      "50%        1423.000000\n",
      "75%        5975.000000\n",
      "max      341735.000000\n",
      "Name: ICS_ACRES, dtype: float64\n",
      "Number of large wildfires (> 100k acres): 5\n",
      "\tNames of those fires: \n",
      "0    CALF CANYON-HERMITS PEAK\n",
      "1                CAMERON PEAK\n",
      "2            EAST TROUBLESOME\n",
      "3                      MULLEN\n",
      "4                SPRING CREEK\n",
      "Name: Fire_Name, dtype: object\n"
     ]
    }
   ],
   "source": [
    "# tidy some columns\n",
    "ics.ICS_ACRES = ics.ICS_ACRES.astype(int)\n",
    "ics['ICS_HECTARES'] = ics['ICS_ACRES'] * 0.404686\n",
    "# grab summary stats\n",
    "print(f\"Total acres burned: {round(ics['ICS_ACRES'].sum())}\")\n",
    "print(f\"Distribution of fire sizes:\\n{ics['ICS_ACRES'].describe()}\")\n",
    "print(f\"Number of large wildfires (> 100k acres): {len(ics[ics['ICS_ACRES'] > 100000])}\")\n",
    "print(f\"\\tNames of those fires: \\n{ics[ics['ICS_ACRES'] > 100000]['Fire_Name']}\")"
   ]
  },
  {
   "cell_type": "code",
   "execution_count": null,
   "id": "131d17a1-87a2-4d4b-8b88-9ad79bd50b1c",
   "metadata": {},
   "outputs": [],
   "source": [
    "# load the forest mask\n",
    "# calculate the total forested area"
   ]
  },
  {
   "cell_type": "code",
   "execution_count": null,
   "id": "935e789f-8af3-4676-bcc2-48a5390f9b54",
   "metadata": {},
   "outputs": [],
   "source": []
  }
 ],
 "metadata": {
  "kernelspec": {
   "display_name": "aspen-fire",
   "language": "python",
   "name": "aspen-fire"
  },
  "language_info": {
   "codemirror_mode": {
    "name": "ipython",
    "version": 3
   },
   "file_extension": ".py",
   "mimetype": "text/x-python",
   "name": "python",
   "nbconvert_exporter": "python",
   "pygments_lexer": "ipython3",
   "version": "3.10.12"
  }
 },
 "nbformat": 4,
 "nbformat_minor": 5
}
