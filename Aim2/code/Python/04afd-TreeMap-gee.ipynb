{
 "cells": [
  {
   "cell_type": "code",
   "execution_count": 1,
   "id": "0aa0e7ec-5f44-499d-ba82-a2da23e0bbca",
   "metadata": {},
   "outputs": [
    {
     "name": "stdout",
     "output_type": "stream",
     "text": [
      "Success\n"
     ]
    },
    {
     "name": "stderr",
     "output_type": "stream",
     "text": [
      "*** Earth Engine *** Share your feedback by taking our Annual Developer Satisfaction Survey: https://google.qualtrics.com/jfe/form/SV_0JLhFqfSY1uiEaW?source=Init\n"
     ]
    }
   ],
   "source": [
    "\"\"\"\n",
    "Extract TreeMap (c.a. 2016) statistics in active fire detections\n",
    "\n",
    "\"\"\"\n",
    "\n",
    "import os, sys\n",
    "import ee\n",
    "import geemap\n",
    "import time\n",
    "import pandas as pd\n",
    "\n",
    "# Custom functions\n",
    "sys.path.append(os.path.join(os.getcwd(),'code/'))\n",
    "from __functions import *\n",
    "\n",
    "ee.Authenticate()\n",
    "\n",
    "ee.Initialize(project='jfsp-aspen')\n",
    "\n",
    "maindir = '/Users/max/Library/CloudStorage/OneDrive-Personal/mcook/'\n",
    "projdir = os.path.join(maindir, 'aspen-fire/Aim2/')\n",
    "\n",
    "print(\"Success\")"
   ]
  },
  {
   "cell_type": "code",
   "execution_count": 2,
   "id": "2bb6337a-2892-4b52-8ce5-6f763d39978c",
   "metadata": {},
   "outputs": [
    {
     "data": {
      "text/html": [
       "\n",
       "            <style>\n",
       "                .geemap-dark {\n",
       "                    --jp-widgets-color: white;\n",
       "                    --jp-widgets-label-color: white;\n",
       "                    --jp-ui-font-color1: white;\n",
       "                    --jp-layout-color2: #454545;\n",
       "                    background-color: #383838;\n",
       "                }\n",
       "\n",
       "                .geemap-dark .jupyter-button {\n",
       "                    --jp-layout-color3: #383838;\n",
       "                }\n",
       "\n",
       "                .geemap-colab {\n",
       "                    background-color: var(--colab-primary-surface-color, white);\n",
       "                }\n",
       "\n",
       "                .geemap-colab .jupyter-button {\n",
       "                    --jp-layout-color3: var(--colab-primary-surface-color, white);\n",
       "                }\n",
       "            </style>\n",
       "            "
      ],
      "text/plain": [
       "<IPython.core.display.HTML object>"
      ]
     },
     "metadata": {},
     "output_type": "display_data"
    },
    {
     "name": "stdout",
     "output_type": "stream",
     "text": [
      "TreeMap bands available for analysis:\n",
      "\n",
      "['ALSTK', 'BALIVE', 'CANOPYPCT', 'CARBON_D', 'CARBON_DWN', 'CARBON_L', 'DRYBIO_D', 'DRYBIO_L', 'FLDSZCD', 'FLDTYPCD', 'FORTYPCD', 'GSSTK', 'QMD_RMRS', 'SDIPCT_RMRS', 'STANDHT', 'STDSZCD', 'TPA_DEAD', 'TPA_LIVE', 'Value', 'VOLBFNET_L', 'VOLCFNET_D', 'VOLCFNET_L']\n"
     ]
    }
   ],
   "source": [
    "# Load the USFS TreeMap\n",
    "treemap = ee.ImageCollection(\"USFS/GTAC/TreeMap/v2016\")\n",
    "print(f\"TreeMap bands available for analysis:\\n\\n{treemap.first().bandNames().getInfo()}\")"
   ]
  },
  {
   "cell_type": "code",
   "execution_count": 10,
   "id": "cee879a5-f053-496f-8148-ad1b57c23331",
   "metadata": {},
   "outputs": [
    {
     "data": {
      "text/html": [
       "\n",
       "            <style>\n",
       "                .geemap-dark {\n",
       "                    --jp-widgets-color: white;\n",
       "                    --jp-widgets-label-color: white;\n",
       "                    --jp-ui-font-color1: white;\n",
       "                    --jp-layout-color2: #454545;\n",
       "                    background-color: #383838;\n",
       "                }\n",
       "\n",
       "                .geemap-dark .jupyter-button {\n",
       "                    --jp-layout-color3: #383838;\n",
       "                }\n",
       "\n",
       "                .geemap-colab {\n",
       "                    background-color: var(--colab-primary-surface-color, white);\n",
       "                }\n",
       "\n",
       "                .geemap-colab .jupyter-button {\n",
       "                    --jp-layout-color3: var(--colab-primary-surface-color, white);\n",
       "                }\n",
       "            </style>\n",
       "            "
      ],
      "text/plain": [
       "<IPython.core.display.HTML object>"
      ]
     },
     "metadata": {},
     "output_type": "display_data"
    },
    {
     "data": {
      "text/html": [
       "<div>\n",
       "<style scoped>\n",
       "    .dataframe tbody tr th:only-of-type {\n",
       "        vertical-align: middle;\n",
       "    }\n",
       "\n",
       "    .dataframe tbody tr th {\n",
       "        vertical-align: top;\n",
       "    }\n",
       "\n",
       "    .dataframe thead th {\n",
       "        text-align: right;\n",
       "    }\n",
       "</style>\n",
       "<table border=\"1\" class=\"dataframe\">\n",
       "  <thead>\n",
       "    <tr style=\"text-align: right;\">\n",
       "      <th></th>\n",
       "      <th>FORTYPCD</th>\n",
       "      <th>SpeciesName</th>\n",
       "    </tr>\n",
       "  </thead>\n",
       "  <tbody>\n",
       "    <tr>\n",
       "      <th>0</th>\n",
       "      <td>101</td>\n",
       "      <td>Jack pine</td>\n",
       "    </tr>\n",
       "    <tr>\n",
       "      <th>1</th>\n",
       "      <td>102</td>\n",
       "      <td>Red pine</td>\n",
       "    </tr>\n",
       "    <tr>\n",
       "      <th>2</th>\n",
       "      <td>103</td>\n",
       "      <td>Eastern white pine</td>\n",
       "    </tr>\n",
       "    <tr>\n",
       "      <th>3</th>\n",
       "      <td>104</td>\n",
       "      <td>Eastern white pine / eastern hemlock</td>\n",
       "    </tr>\n",
       "    <tr>\n",
       "      <th>4</th>\n",
       "      <td>105</td>\n",
       "      <td>Eastern hemlock</td>\n",
       "    </tr>\n",
       "  </tbody>\n",
       "</table>\n",
       "</div>"
      ],
      "text/plain": [
       "   FORTYPCD                           SpeciesName\n",
       "0       101                             Jack pine\n",
       "1       102                              Red pine\n",
       "2       103                    Eastern white pine\n",
       "3       104  Eastern white pine / eastern hemlock\n",
       "4       105                       Eastern hemlock"
      ]
     },
     "execution_count": 10,
     "metadata": {},
     "output_type": "execute_result"
    }
   ],
   "source": [
    "class_codes = treemap.first().get('FORTYPCD_class_values').getInfo()\n",
    "class_names = treemap.first().get('FORTYPCD_class_names').getInfo()\n",
    "code_to_name = dict(zip(class_codes, class_names))\n",
    "species_df = pd.DataFrame(list(code_to_name.items()), columns=['FORTYPCD', 'SpeciesName'])\n",
    "species_df['FORTYPCD'] = species_df['FORTYPCD'].astype(int)\n",
    "species_df = species_df.reset_index(drop=True)\n",
    "species_df.head()"
   ]
  },
  {
   "cell_type": "code",
   "execution_count": 11,
   "id": "fd254ec9-778e-4ca8-80d3-28cc487bb8da",
   "metadata": {},
   "outputs": [
    {
     "data": {
      "text/html": [
       "\n",
       "            <style>\n",
       "                .geemap-dark {\n",
       "                    --jp-widgets-color: white;\n",
       "                    --jp-widgets-label-color: white;\n",
       "                    --jp-ui-font-color1: white;\n",
       "                    --jp-layout-color2: #454545;\n",
       "                    background-color: #383838;\n",
       "                }\n",
       "\n",
       "                .geemap-dark .jupyter-button {\n",
       "                    --jp-layout-color3: #383838;\n",
       "                }\n",
       "\n",
       "                .geemap-colab {\n",
       "                    background-color: var(--colab-primary-surface-color, white);\n",
       "                }\n",
       "\n",
       "                .geemap-colab .jupyter-button {\n",
       "                    --jp-layout-color3: var(--colab-primary-surface-color, white);\n",
       "                }\n",
       "            </style>\n",
       "            "
      ],
      "text/plain": [
       "<IPython.core.display.HTML object>"
      ]
     },
     "metadata": {},
     "output_type": "display_data"
    },
    {
     "name": "stdout",
     "output_type": "stream",
     "text": [
      "Dictionary saved to /Users/max/Library/CloudStorage/OneDrive-Personal/mcook/aspen-fire/Aim2/data/tabular/mod/treemap_fortypcd_species_mapping.csv\n"
     ]
    }
   ],
   "source": [
    "# Save this file out.\n",
    "out_fp = os.path.join(projdir,'data/tabular/mod/treemap_fortypcd_species_mapping.csv')\n",
    "species_df.to_csv(out_fp)\n",
    "print(f\"Dictionary saved to {out_fp}\")"
   ]
  },
  {
   "cell_type": "code",
   "execution_count": null,
   "id": "538fa4c1-677b-4565-b886-0063ada00d8e",
   "metadata": {},
   "outputs": [],
   "source": []
  },
  {
   "cell_type": "code",
   "execution_count": null,
   "id": "57f03847-6394-48f3-9579-2d09cdc41149",
   "metadata": {},
   "outputs": [],
   "source": []
  },
  {
   "cell_type": "code",
   "execution_count": null,
   "id": "52e2e54e-d691-4288-aa90-06f4ef8b4ec5",
   "metadata": {},
   "outputs": [],
   "source": [
    "# Load the Active Fire Detections (AFD)\n",
    "afds = ee.FeatureCollection('projects/jfsp-aspen/assets/AFD/vnp14img_geo_srm_pix_area_aspenfires')\n",
    "print(afds.size().getInfo())\n",
    "print(afds.first().propertyNames().getInfo())"
   ]
  },
  {
   "cell_type": "code",
   "execution_count": null,
   "id": "1e5cb7b9-aa37-4305-a1d9-7a25f191ac2c",
   "metadata": {},
   "outputs": [],
   "source": [
    "# add a small buffer to the AFDs\n"
   ]
  },
  {
   "cell_type": "markdown",
   "id": "088e5f42-1da7-4f9a-ac48-9245546fffb6",
   "metadata": {},
   "source": [
    "## Calculate species-specific cover, live basal area (mean), and canopy percent (mean)"
   ]
  },
  {
   "cell_type": "code",
   "execution_count": null,
   "id": "e2b85b52-999e-42c6-b14e-1d74d00fdaa3",
   "metadata": {},
   "outputs": [],
   "source": [
    "# Clean the property names before exporting reductions (just keep the ID)\n",
    "afds_ = afds.select(['afdID'])"
   ]
  },
  {
   "cell_type": "code",
   "execution_count": null,
   "id": "9bf6a803-49d4-40cf-a933-944ce97675d7",
   "metadata": {},
   "outputs": [],
   "source": [
    "def species_histogram(ftr):\n",
    "    image = treemap.select('FORTYPCD').first()\n",
    "    hist = image.reduceRegion(\n",
    "        reducer=ee.Reducer.frequencyHistogram(),\n",
    "        geometry=ftr.geometry(),\n",
    "        scale=30,\n",
    "        maxPixels=1e13\n",
    "    ).get('FORTYPCD')\n",
    "\n",
    "    hist_dict = ee.Dictionary(hist)\n",
    "    flat_ftr = hist_dict.keys().iterate(\n",
    "        lambda key, f: ee.Feature(f).set(ee.String(key), hist_dict.get(key)), ftr\n",
    "    )\n",
    "    return ee.Feature(flat_ftr)\n",
    "\n",
    "\n",
    "# Apply this to the AFDs\n",
    "fortypcd = afds_.map(species_histogram)\n",
    "\n",
    "# Print a sample\n",
    "sample = fortypcd.limit(1).getInfo()\n",
    "properties = sample['features'][0]['properties']\n",
    "df = pd.DataFrame([properties])\n",
    "print(\"Sample DataFrame:\")\n",
    "print(df.head())\n",
    "\n",
    "# Export to Asset/Drive\n",
    "fortypcd = fortypcd.map(lambda ftr: ftr.setGeometry(None)) # drop geometry column\n",
    "\n",
    "task = ee.batch.Export.table.toDrive(\n",
    "    collection=fortypcd,\n",
    "    description='vnp14img_treemap-fortypcd',\n",
    "    fileFormat='CSV',\n",
    "    folder='TreeMap'\n",
    ")\n",
    "\n",
    "# Start the export task\n",
    "task.start()\n",
    "print(\"Export to Google Drive started!\")\n",
    "# Monitor the task until it's finished\n",
    "monitor_export(task, timeout=120) # print every X seconds"
   ]
  },
  {
   "cell_type": "code",
   "execution_count": null,
   "id": "236ed870-340a-43cf-8e24-453b69324d0c",
   "metadata": {},
   "outputs": [],
   "source": []
  },
  {
   "cell_type": "code",
   "execution_count": null,
   "id": "19b37954-90bf-43c4-80ea-ac61a29289b1",
   "metadata": {},
   "outputs": [],
   "source": [
    "# Species BALIVE and CANOPYPCT"
   ]
  },
  {
   "cell_type": "code",
   "execution_count": null,
   "id": "4f965e83-9707-4c3a-8caf-f4c71bb2c5ed",
   "metadata": {},
   "outputs": [],
   "source": [
    "def species_metrics(ftr):\n",
    "    image = treemap.mosaic()\n",
    "    # Get species histogram\n",
    "    hist = image.select('FORTYPCD').reduceRegion(\n",
    "        reducer=ee.Reducer.frequencyHistogram(),\n",
    "        geometry=ftr.geometry(),\n",
    "        scale=30,\n",
    "        maxPixels=1e13\n",
    "    ).get('FORTYPCD')\n",
    "\n",
    "    hist_dict = ee.Dictionary(hist)\n",
    "    \n",
    "    # Initialize feature with species histogram keys and calculate averages\n",
    "    def add_species_metrics(key, f):\n",
    "        key_str = ee.String(key)\n",
    "        # Mask the image by the species type\n",
    "        masked_image = image.updateMask(image.select('FORTYPCD').eq(ee.Number.parse(key).toInt()))\n",
    "        \n",
    "        # Calculate average BALIVE and CANOPYPCT for the masked image within the polygon\n",
    "        metrics = masked_image.select(['BALIVE', 'CANOPYPCT']).reduceRegion(\n",
    "            reducer=ee.Reducer.mean(),\n",
    "            geometry=ftr.geometry(),\n",
    "            scale=30,\n",
    "            maxPixels=1e13\n",
    "        )\n",
    "        \n",
    "        # Add the averages to the feature with species-specific prefix\n",
    "        f = ee.Feature(f).set(key_str.cat('_BALIVE_mean'), metrics.get('BALIVE'))\n",
    "        f = f.set(key_str.cat('_CANOPYPCT_mean'), metrics.get('CANOPYPCT'))\n",
    "        return f\n",
    "\n",
    "    # Apply species metrics calculation to each species type in histogram\n",
    "    flat_ftr = hist_dict.keys().iterate(add_species_metrics, ftr)\n",
    "    \n",
    "    return ee.Feature(flat_ftr)\n",
    "\n",
    "fortypcd_metrics = afds_.map(species_metrics)\n",
    "\n",
    "# Remove geometry column first\n",
    "fortypcd_metrics = fortypcd_metrics.map(lambda ftr: ftr.setGeometry(None)) # drop geometry column\n",
    "\n",
    "export_task = ee.batch.Export.table.toDrive(\n",
    "    collection=fortypcd_metrics,\n",
    "    description='vnp14img_treemap-balive_canopypct',\n",
    "    fileFormat='CSV', \n",
    "    fileNamePrefix='vnp14img_treemap-balive_canopypct',\n",
    "    folder='TreeMap'\n",
    ")\n",
    "\n",
    "# Start the export task\n",
    "export_task.start()\n",
    "print(\"Export to Earth Engine Asset started!\")\n",
    "# Monitor the task until it's finished\n",
    "monitor_export(export_task, 120) # print every 120 seconds"
   ]
  },
  {
   "cell_type": "code",
   "execution_count": null,
   "id": "1d1d4832-44d3-4692-96a8-a8ccbaf72d9d",
   "metadata": {},
   "outputs": [],
   "source": []
  }
 ],
 "metadata": {
  "kernelspec": {
   "display_name": "aspen-fire",
   "language": "python",
   "name": "aspen-fire"
  },
  "language_info": {
   "codemirror_mode": {
    "name": "ipython",
    "version": 3
   },
   "file_extension": ".py",
   "mimetype": "text/x-python",
   "name": "python",
   "nbconvert_exporter": "python",
   "pygments_lexer": "ipython3",
   "version": "3.10.12"
  }
 },
 "nbformat": 4,
 "nbformat_minor": 5
}
