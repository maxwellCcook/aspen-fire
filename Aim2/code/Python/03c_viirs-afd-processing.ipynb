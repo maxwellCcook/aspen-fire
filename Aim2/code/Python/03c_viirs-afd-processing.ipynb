{
 "cells": [
  {
   "cell_type": "code",
   "execution_count": 1,
   "id": "5ecd0bef-fee5-428a-a587-cacab707d965",
   "metadata": {},
   "outputs": [
    {
     "name": "stdout",
     "output_type": "stream",
     "text": [
      "Ready !\n"
     ]
    }
   ],
   "source": [
    "\"\"\"\n",
    "Read VIIRS active fire geolocated fire pixels output from XXviirs_access-swath.ipynb\n",
    "Author: maxwell.cook@colorado.edu\n",
    "\"\"\"\n",
    "\n",
    "# Import packages\n",
    "import sys, os, math\n",
    "import xarray as xr\n",
    "import geopandas as gpd\n",
    "import datetime as dt\n",
    "import matplotlib.pyplot as plt\n",
    "import seaborn as sns\n",
    "import rasterio as rio\n",
    "\n",
    "from datetime import datetime\n",
    "from datetime import timedelta\n",
    "from matplotlib import pyplot as plt\n",
    "from rasterio.features import rasterize\n",
    "from tqdm.notebook import tqdm\n",
    "\n",
    "# Custom functions\n",
    "sys.path.append(os.path.join(os.getcwd(),'code/'))\n",
    "from __functions import *\n",
    "\n",
    "# Projection information\n",
    "geog = 'EPSG:4326'  # Geographic projection\n",
    "prj = 'EPSG:5070'  # Projected coordinate system- WGS 84 NAD83 UTM Zone 13N\n",
    "\n",
    "# File path information\n",
    "maindir = '/Users/max/Library/CloudStorage/OneDrive-Personal/mcook/'\n",
    "projdir = os.path.join(maindir, 'aspen-fire/Aim2/')\n",
    "# Output directories\n",
    "dataraw = os.path.join(projdir,'data/spatial/raw/VIIRS/')\n",
    "datamod = os.path.join(projdir,'data/spatial/mod/VIIRS/')\n",
    "\n",
    "# File path information\n",
    "print(\"Ready !\")"
   ]
  },
  {
   "cell_type": "code",
   "execution_count": 2,
   "id": "4f8f2932-339b-4586-a109-5692e46704e9",
   "metadata": {},
   "outputs": [
    {
     "name": "stdout",
     "output_type": "stream",
     "text": [
      "There are 76 with > 1% aspen cover in the Southern Rockies (2018-2023)\n"
     ]
    }
   ],
   "source": [
    "# Load and tidy the fire perimeter data\n",
    "fp = os.path.join(projdir,'data/spatial/mod/NIFC/nifc-ics_2018_to_2023-aspen.gpkg')\n",
    "fires = gpd.read_file(fp)\n",
    "\n",
    "# subset to Southern Rockies\n",
    "fires = fires[fires['na_l3name'] == 'Southern Rockies']\n",
    "\n",
    "# tidy the fire id and name columns\n",
    "fires.rename(columns={'NIFC_ID': 'Fire_ID', 'NIFC_NAME': 'Fire_Name'}, inplace=True)\n",
    "\n",
    "# tidy the date columns\n",
    "fires['DISCOVERY_DATE'] = pd.to_datetime(fires['DISCOVERY_DATE'])\n",
    "fires['WF_CESSATION_DATE'] = pd.to_datetime(fires['WF_CESSATION_DATE'])\n",
    "fires['NIFC_ACRES'] = fires['NIFC_ACRES'].astype(float)\n",
    "\n",
    "print(f\"There are {len(fires)} with > 1% aspen cover in the Southern Rockies (2018-2023)\")"
   ]
  },
  {
   "cell_type": "code",
   "execution_count": 3,
   "id": "ceb92465-7cd9-4311-87e7-72b5ae6a38ee",
   "metadata": {},
   "outputs": [
    {
     "name": "stdout",
     "output_type": "stream",
     "text": [
      "Buffered fire perimeters by 3000 meters.\n"
     ]
    }
   ],
   "source": [
    "# Add a 3km buffer to wildfire perimeters\n",
    "buffer_dist = 3000  # meters\n",
    "fires = fires.copy() # make a copy of the original data\n",
    "fires['geometry'] = fires['geometry'].buffer(buffer_dist)\n",
    "print(f\"Buffered fire perimeters by {buffer_dist} meters.\")"
   ]
  },
  {
   "cell_type": "code",
   "execution_count": null,
   "id": "a1b4ee3b-b1d4-4382-8c7e-7522d0e94424",
   "metadata": {},
   "outputs": [],
   "source": []
  },
  {
   "cell_type": "code",
   "execution_count": null,
   "id": "83ca67e4-8d8b-45fa-b24f-b133ecff63e3",
   "metadata": {},
   "outputs": [],
   "source": []
  },
  {
   "cell_type": "code",
   "execution_count": 4,
   "id": "bfe7d196-5c94-423c-b184-c0810b08f648",
   "metadata": {},
   "outputs": [],
   "source": [
    "# Create spatial points from lat/lon"
   ]
  },
  {
   "cell_type": "code",
   "execution_count": 5,
   "id": "0a9789df-2f68-4e51-9d89-53cef724d850",
   "metadata": {},
   "outputs": [
    {
     "name": "stdout",
     "output_type": "stream",
     "text": [
      "Number of fire detections: 1849132\n"
     ]
    },
    {
     "data": {
      "text/plain": [
       "longitude      float64\n",
       "latitude       float64\n",
       "fire_mask        int64\n",
       "confidence      object\n",
       "frp            float64\n",
       "t4             float64\n",
       "t5             float64\n",
       "m13            float64\n",
       "acq_date        object\n",
       "acq_time         int64\n",
       "daynight        object\n",
       "satellite       object\n",
       "short_name      object\n",
       "granule_id      object\n",
       "geo_id          object\n",
       "sample           int64\n",
       "along_scan     float64\n",
       "along_track    float64\n",
       "scan_angle     float64\n",
       "pix_area       float64\n",
       "dtype: object"
      ]
     },
     "execution_count": 5,
     "metadata": {},
     "output_type": "execute_result"
    }
   ],
   "source": [
    "fp = os.path.join(dataraw, 'viirs_snpp_jpss1_afd_.csv')\n",
    "afds = pd.read_csv(fp).reset_index(drop=True)\n",
    "afds = afds.loc[:, ~afds.columns.str.startswith('Unnamed:')]\n",
    "print(f\"Number of fire detections: {len(afds)}\")\n",
    "afds.dtypes"
   ]
  },
  {
   "cell_type": "code",
   "execution_count": 6,
   "id": "653f8389-70d6-4849-bd17-3fe9446396f6",
   "metadata": {},
   "outputs": [
    {
     "data": {
      "text/plain": [
       "0   2019-06-27\n",
       "1   2019-06-27\n",
       "2   2019-06-27\n",
       "Name: acq_date, dtype: datetime64[ns]"
      ]
     },
     "execution_count": 6,
     "metadata": {},
     "output_type": "execute_result"
    }
   ],
   "source": [
    "afds['acq_date'] = pd.to_datetime(afds['acq_date']) # convert to simple date format\n",
    "afds['acq_date'].head(3)"
   ]
  },
  {
   "cell_type": "code",
   "execution_count": 7,
   "id": "970c512c-b095-40ff-b971-fb4beb7968b9",
   "metadata": {},
   "outputs": [
    {
     "data": {
      "text/plain": [
       "confidence\n",
       "n    1627281\n",
       "h     119336\n",
       "l     102515\n",
       "Name: count, dtype: int64"
      ]
     },
     "execution_count": 7,
     "metadata": {},
     "output_type": "execute_result"
    }
   ],
   "source": [
    "# get a summary of fire detection confidence\n",
    "afds['confidence'].value_counts()"
   ]
  },
  {
   "cell_type": "code",
   "execution_count": 8,
   "id": "73de4225-ac37-468b-93ee-384ed4f8fed7",
   "metadata": {},
   "outputs": [
    {
     "name": "stdout",
     "output_type": "stream",
     "text": [
      "Dropped [102515] low-confidence obs.\n"
     ]
    }
   ],
   "source": [
    "# drop low confidence detections\n",
    "N = len(afds)\n",
    "afds = afds[afds['confidence'] != 'l']\n",
    "print(f\"Dropped [{N-len(afds)}] low-confidence obs.\")"
   ]
  },
  {
   "cell_type": "code",
   "execution_count": 9,
   "id": "74507701-7088-4739-91c8-39be8ca04834",
   "metadata": {},
   "outputs": [
    {
     "name": "stdout",
     "output_type": "stream",
     "text": [
      "   longitude   latitude  fire_mask confidence        frp         t4  \\\n",
      "0 -95.160160  34.074640          9          h  14.550305  367.00000   \n",
      "1 -95.164330  34.074383          8          n  14.550305  350.57697   \n",
      "2 -95.160630  34.080082          8          n   6.089355  343.91302   \n",
      "3 -95.164825  34.079823          8          n   6.089355  345.46840   \n",
      "4 -95.906006  34.813230          8          n   4.297072  340.28574   \n",
      "\n",
      "          t5       m13   acq_date  acq_time  ... short_name  \\\n",
      "0  295.69968  2.373925 2019-06-27      2006  ...   VJ114IMG   \n",
      "1  296.18445  2.373925 2019-06-27      2006  ...   VJ114IMG   \n",
      "2  296.12167  1.406672 2019-06-27      2006  ...   VJ114IMG   \n",
      "3  296.05000  1.406672 2019-06-27      2006  ...   VJ114IMG   \n",
      "4  296.18735  1.041121 2019-06-27      2006  ...   VJ114IMG   \n",
      "\n",
      "                                    granule_id  \\\n",
      "0  VJ114IMG.A2019178.2006.002.2024029081304.nc   \n",
      "1  VJ114IMG.A2019178.2006.002.2024029081304.nc   \n",
      "2  VJ114IMG.A2019178.2006.002.2024029081304.nc   \n",
      "3  VJ114IMG.A2019178.2006.002.2024029081304.nc   \n",
      "4  VJ114IMG.A2019178.2006.002.2024029081304.nc   \n",
      "\n",
      "                                        geo_id sample along_scan  along_track  \\\n",
      "0  VJ103IMG.A2019178.2006.021.2021049184623.nc    924   0.381910     0.588271   \n",
      "1  VJ103IMG.A2019178.2006.021.2021049184623.nc    925   0.381694     0.588131   \n",
      "2  VJ103IMG.A2019178.2006.021.2021049184623.nc    924   0.381910     0.588271   \n",
      "3  VJ103IMG.A2019178.2006.021.2021049184623.nc    925   0.381694     0.588131   \n",
      "4  VJ103IMG.A2019178.2006.021.2021049184623.nc   1078   0.351243     0.567857   \n",
      "\n",
      "   scan_angle  pix_area                       geometry  afdID  \n",
      "0     47.8431  0.224667  POINT (76933.728 1223658.624)      0  \n",
      "1     47.8342  0.224486  POINT (76551.999 1223626.533)      1  \n",
      "2     47.8431  0.224667  POINT (76885.303 1224266.466)      2  \n",
      "3     47.8342  0.224486  POINT (76501.312 1224234.134)      3  \n",
      "4     46.4736  0.199456   POINT (8528.847 1305910.268)      4  \n",
      "\n",
      "[5 rows x 22 columns]\n",
      "\n",
      "Saved spatial points to: /Users/max/Library/CloudStorage/OneDrive-Personal/mcook/aspen-fire/Aim2/data/spatial/mod/VIIRS/viirs_snpp_jpss1_afd_latlon.gpkg\n"
     ]
    }
   ],
   "source": [
    "from shapely.geometry import Point\n",
    "\n",
    "# convert to spatial points using pixel centroid\n",
    "afds['geometry'] = [Point(xy) for xy in zip(afds.longitude, afds.latitude)]\n",
    "afds_ll = gpd.GeoDataFrame(afds, geometry='geometry', crs=\"EPSG:4326\")\n",
    "afds_ll = afds_ll.to_crs(\"EPSG:5070\")\n",
    "afds_ll = afds_ll.reset_index(drop=True)\n",
    "afds_ll['afdID'] = afds_ll.index # add a unique ID\n",
    "print(afds_ll.head())\n",
    "\n",
    "# save this file out.\n",
    "out_fp = os.path.join(datamod,'viirs_snpp_jpss1_afd_latlon.gpkg')\n",
    "afds_ll.to_file(out_fp)\n",
    "print(f\"\\nSaved spatial points to: {out_fp}\")"
   ]
  },
  {
   "cell_type": "code",
   "execution_count": 10,
   "id": "5d39b7ce-792b-456a-a0d1-2a4f197b8997",
   "metadata": {},
   "outputs": [
    {
     "name": "stdout",
     "output_type": "stream",
     "text": [
      "[13084/122395 duplicate obs.\n"
     ]
    },
    {
     "data": {
      "text/html": [
       "<div>\n",
       "<style scoped>\n",
       "    .dataframe tbody tr th:only-of-type {\n",
       "        vertical-align: middle;\n",
       "    }\n",
       "\n",
       "    .dataframe tbody tr th {\n",
       "        vertical-align: top;\n",
       "    }\n",
       "\n",
       "    .dataframe thead th {\n",
       "        text-align: right;\n",
       "    }\n",
       "</style>\n",
       "<table border=\"1\" class=\"dataframe\">\n",
       "  <thead>\n",
       "    <tr style=\"text-align: right;\">\n",
       "      <th></th>\n",
       "      <th>afdID</th>\n",
       "      <th>Fire_Name</th>\n",
       "      <th>START_YEAR</th>\n",
       "      <th>acq_date</th>\n",
       "    </tr>\n",
       "  </thead>\n",
       "  <tbody>\n",
       "    <tr>\n",
       "      <th>52</th>\n",
       "      <td>52</td>\n",
       "      <td>DOE CANYON</td>\n",
       "      <td>2019</td>\n",
       "      <td>2019-06-27</td>\n",
       "    </tr>\n",
       "    <tr>\n",
       "      <th>52</th>\n",
       "      <td>52</td>\n",
       "      <td>WEST GUARD</td>\n",
       "      <td>2018</td>\n",
       "      <td>2019-06-27</td>\n",
       "    </tr>\n",
       "    <tr>\n",
       "      <th>55</th>\n",
       "      <td>55</td>\n",
       "      <td>DOE CANYON</td>\n",
       "      <td>2019</td>\n",
       "      <td>2019-06-27</td>\n",
       "    </tr>\n",
       "    <tr>\n",
       "      <th>55</th>\n",
       "      <td>55</td>\n",
       "      <td>WEST GUARD</td>\n",
       "      <td>2018</td>\n",
       "      <td>2019-06-27</td>\n",
       "    </tr>\n",
       "    <tr>\n",
       "      <th>56</th>\n",
       "      <td>56</td>\n",
       "      <td>DOE CANYON</td>\n",
       "      <td>2019</td>\n",
       "      <td>2019-06-27</td>\n",
       "    </tr>\n",
       "  </tbody>\n",
       "</table>\n",
       "</div>"
      ],
      "text/plain": [
       "    afdID   Fire_Name START_YEAR   acq_date\n",
       "52     52  DOE CANYON       2019 2019-06-27\n",
       "52     52  WEST GUARD       2018 2019-06-27\n",
       "55     55  DOE CANYON       2019 2019-06-27\n",
       "55     55  WEST GUARD       2018 2019-06-27\n",
       "56     56  DOE CANYON       2019 2019-06-27"
      ]
     },
     "execution_count": 10,
     "metadata": {},
     "output_type": "execute_result"
    }
   ],
   "source": [
    "# join to the fire perimeters\n",
    "afds_ll_fire = gpd.sjoin(afds_ll, fires, how='inner', predicate='within')\n",
    "afds_ll_fire.drop(columns=['index_right'], inplace=True)\n",
    "\n",
    "# check for duplicates\n",
    "dups = afds_ll_fire[afds_ll_fire.duplicated(subset='afdID', keep=False)]\n",
    "print(f\"[{len(dups)}/{len(afds_ll_fire)} duplicate obs.\")\n",
    "dups[['afdID','Fire_Name','START_YEAR','acq_date']].head()"
   ]
  },
  {
   "cell_type": "code",
   "execution_count": 11,
   "id": "c7f4b666-2169-4a3c-9d24-8b5bbb4e3c34",
   "metadata": {},
   "outputs": [
    {
     "data": {
      "text/plain": [
       "0"
      ]
     },
     "execution_count": 11,
     "metadata": {},
     "output_type": "execute_result"
    }
   ],
   "source": [
    "afds_ll_fire['acq_date'].isna().sum() # check for bad dates"
   ]
  },
  {
   "cell_type": "code",
   "execution_count": 12,
   "id": "92572a92-f78c-4b0b-b4fd-e4ca80ca50e6",
   "metadata": {},
   "outputs": [
    {
     "name": "stdout",
     "output_type": "stream",
     "text": [
      "[0/115392 duplicate obs.\n"
     ]
    }
   ],
   "source": [
    "# temporal filters to handle duplicates between fires\n",
    "afds_ll_fire['acq_date'] = pd.to_datetime(afds_ll_fire['acq_date'])\n",
    "afds_ll_fire['acq_month'] = afds_ll_fire['acq_date'].dt.month.astype(int)\n",
    "afds_ll_fire['acq_year'] = afds_ll_fire['acq_date'].dt.year.astype(int)\n",
    "\n",
    "afds_ll_fire_ = afds_ll_fire[\n",
    "    (afds_ll_fire['acq_date'] >= afds_ll_fire['DISCOVERY_DATE'] - timedelta(days=14)) &\n",
    "    (afds_ll_fire['acq_date'] <= afds_ll_fire['WF_CESSATION_DATE'] + timedelta(days=14))\n",
    "]\n",
    "\n",
    "dups = afds_ll_fire_[afds_ll_fire_.duplicated(subset='afdID', keep=False)]\n",
    "print(f\"[{len(dups)}/{len(afds_ll_fire_)} duplicate obs.\")"
   ]
  },
  {
   "cell_type": "code",
   "execution_count": 13,
   "id": "b987d274-1224-467b-9aa8-955a944e417c",
   "metadata": {},
   "outputs": [
    {
     "data": {
      "text/plain": [
       "Index(['longitude', 'latitude', 'fire_mask', 'confidence', 'frp', 't4', 't5',\n",
       "       'm13', 'acq_date', 'acq_time', 'daynight', 'satellite', 'short_name',\n",
       "       'granule_id', 'geo_id', 'sample', 'along_scan', 'along_track',\n",
       "       'scan_angle', 'pix_area', 'geometry', 'afdID', 'Fire_ID', 'Fire_Name',\n",
       "       'NIFC_ACRES', 'FINAL_ACRES', 'pct_cover', 'INCIDENT_ID',\n",
       "       'INCIDENT_NAME', 'START_YEAR', 'CAUSE', 'DISCOVERY_DATE',\n",
       "       'DISCOVERY_DOY', 'WF_CESSATION_DATE', 'WF_CESSATION_DOY',\n",
       "       'STR_DESTROYED_TOTAL', 'STR_DAMAGED_TOTAL', 'STR_THREATENED_MAX',\n",
       "       'EVACUATION_REPORTED', 'PEAK_EVACUATIONS', 'WF_PEAK_AERIAL',\n",
       "       'WF_PEAK_PERSONNEL', 'na_l3name', 'acq_month', 'acq_year'],\n",
       "      dtype='object')"
      ]
     },
     "execution_count": 13,
     "metadata": {},
     "output_type": "execute_result"
    }
   ],
   "source": [
    "afds_ll_fire_.columns"
   ]
  },
  {
   "cell_type": "code",
   "execution_count": 14,
   "id": "8a225da1-763c-45a3-98f8-67257c44fa83",
   "metadata": {},
   "outputs": [
    {
     "data": {
      "text/plain": [
       "count    115392.00000\n",
       "mean      12028.56744\n",
       "std        8384.44043\n",
       "min           2.00000\n",
       "25%        4004.00000\n",
       "50%       15168.00000\n",
       "75%       19127.00000\n",
       "max       23422.00000\n",
       "Name: count, dtype: float64"
      ]
     },
     "execution_count": 14,
     "metadata": {},
     "output_type": "execute_result"
    }
   ],
   "source": [
    "# grab a count of observations for each fire\n",
    "counts = afds_ll_fire_.groupby(['Fire_ID']).size().reset_index(name='count')\n",
    "afds_ll_fire_ct = pd.merge(afds_ll_fire_, counts, left_on='Fire_ID', right_on='Fire_ID', how='left')\n",
    "afds_ll_fire_ct['count'].describe()"
   ]
  },
  {
   "cell_type": "code",
   "execution_count": 15,
   "id": "ebd27e24-0c46-4105-9033-8e7ecf74191d",
   "metadata": {},
   "outputs": [
    {
     "name": "stdout",
     "output_type": "stream",
     "text": [
      "There are 58 fires with >= 10 obs.\n"
     ]
    }
   ],
   "source": [
    "# filter to retain fires with at least N observations\n",
    "n_obs = 10\n",
    "afds_ll_fire_ct = afds_ll_fire_ct[afds_ll_fire_ct['count'] >= n_obs]\n",
    "print(f\"There are {len(afds_ll_fire_ct['Fire_ID'].unique())} fires with >= {n_obs} obs.\")"
   ]
  },
  {
   "cell_type": "code",
   "execution_count": 16,
   "id": "6eda8584-5d50-45be-a8ad-4c3985634adf",
   "metadata": {},
   "outputs": [
    {
     "data": {
      "text/plain": [
       "count    115352.000000\n",
       "mean         23.503351\n",
       "std          55.113332\n",
       "min           0.000000\n",
       "25%           2.277179\n",
       "50%           5.789765\n",
       "75%          19.002354\n",
       "max        1909.182000\n",
       "Name: frp, dtype: float64"
      ]
     },
     "execution_count": 16,
     "metadata": {},
     "output_type": "execute_result"
    }
   ],
   "source": [
    "afds_ll_fire_ct['frp'].describe()"
   ]
  },
  {
   "cell_type": "code",
   "execution_count": 17,
   "id": "5148381e-dc98-413e-8266-9077eb8d2785",
   "metadata": {},
   "outputs": [
    {
     "name": "stdout",
     "output_type": "stream",
     "text": [
      "Dropping [317] observations with FRP of 0\n"
     ]
    }
   ],
   "source": [
    "n_zero = afds_ll_fire_ct[afds_ll_fire_ct['frp'] == 0]['frp'].count()\n",
    "print(f\"Dropping [{n_zero}] observations with FRP of 0\")\n",
    "afds_ll_fire_ct = afds_ll_fire_ct[afds_ll_fire_ct['frp'] > 0]"
   ]
  },
  {
   "cell_type": "code",
   "execution_count": 18,
   "id": "00c7dbb2-da94-4e8b-befc-cc21021f84a9",
   "metadata": {},
   "outputs": [
    {
     "name": "stdout",
     "output_type": "stream",
     "text": [
      "58\n"
     ]
    }
   ],
   "source": [
    "# subset the fire perimeter data\n",
    "fires_ = fires[fires['Fire_ID'].isin(afds_ll_fire_ct['Fire_ID'].unique())]\n",
    "print(len(fires_))"
   ]
  },
  {
   "cell_type": "code",
   "execution_count": 19,
   "id": "bf4ac45e-4416-4247-81d8-d499d70acce6",
   "metadata": {},
   "outputs": [
    {
     "name": "stdout",
     "output_type": "stream",
     "text": [
      "Saved spatial points to: /Users/max/Library/CloudStorage/OneDrive-Personal/mcook/aspen-fire/Aim2/data/spatial/mod/VIIRS/viirs_snpp_jpss1_afd_latlon_aspenfires.gpkg\n"
     ]
    }
   ],
   "source": [
    "# save this file out.\n",
    "out_fp = os.path.join(datamod,'viirs_snpp_jpss1_afd_latlon_aspenfires.gpkg')\n",
    "afds_ll_fire_ct.to_file(out_fp)\n",
    "print(f\"Saved spatial points to: {out_fp}\")"
   ]
  },
  {
   "cell_type": "code",
   "execution_count": null,
   "id": "a77f1fe0-bfb6-4e98-8efb-ea2f55e08568",
   "metadata": {},
   "outputs": [],
   "source": []
  },
  {
   "cell_type": "code",
   "execution_count": 20,
   "id": "87c61699-8160-4cf4-af75-6199004b407b",
   "metadata": {},
   "outputs": [],
   "source": [
    "# Create the ground area of pixels based on swath position"
   ]
  },
  {
   "cell_type": "code",
   "execution_count": 21,
   "id": "28fb5f44-037e-4433-b44c-906f8e745a98",
   "metadata": {},
   "outputs": [
    {
     "data": {
      "text/html": [
       "<div>\n",
       "<style scoped>\n",
       "    .dataframe tbody tr th:only-of-type {\n",
       "        vertical-align: middle;\n",
       "    }\n",
       "\n",
       "    .dataframe tbody tr th {\n",
       "        vertical-align: top;\n",
       "    }\n",
       "\n",
       "    .dataframe thead th {\n",
       "        text-align: right;\n",
       "    }\n",
       "</style>\n",
       "<table border=\"1\" class=\"dataframe\">\n",
       "  <thead>\n",
       "    <tr style=\"text-align: right;\">\n",
       "      <th></th>\n",
       "      <th>longitude</th>\n",
       "      <th>latitude</th>\n",
       "      <th>fire_mask</th>\n",
       "      <th>confidence</th>\n",
       "      <th>frp</th>\n",
       "      <th>t4</th>\n",
       "      <th>t5</th>\n",
       "      <th>m13</th>\n",
       "      <th>acq_date</th>\n",
       "      <th>acq_time</th>\n",
       "      <th>...</th>\n",
       "      <th>STR_THREATENED_MAX</th>\n",
       "      <th>EVACUATION_REPORTED</th>\n",
       "      <th>PEAK_EVACUATIONS</th>\n",
       "      <th>WF_PEAK_AERIAL</th>\n",
       "      <th>WF_PEAK_PERSONNEL</th>\n",
       "      <th>na_l3name</th>\n",
       "      <th>acq_month</th>\n",
       "      <th>acq_year</th>\n",
       "      <th>count</th>\n",
       "      <th>obs_id</th>\n",
       "    </tr>\n",
       "  </thead>\n",
       "  <tbody>\n",
       "    <tr>\n",
       "      <th>0</th>\n",
       "      <td>-108.650955</td>\n",
       "      <td>37.724865</td>\n",
       "      <td>8</td>\n",
       "      <td>n</td>\n",
       "      <td>3.009492</td>\n",
       "      <td>338.37442</td>\n",
       "      <td>304.13184</td>\n",
       "      <td>1.290213</td>\n",
       "      <td>2019-06-27</td>\n",
       "      <td>2006</td>\n",
       "      <td>...</td>\n",
       "      <td>NaN</td>\n",
       "      <td>NaN</td>\n",
       "      <td>NaN</td>\n",
       "      <td>NaN</td>\n",
       "      <td>44</td>\n",
       "      <td>Southern Rockies</td>\n",
       "      <td>6</td>\n",
       "      <td>2019</td>\n",
       "      <td>63</td>\n",
       "      <td>0</td>\n",
       "    </tr>\n",
       "    <tr>\n",
       "      <th>1</th>\n",
       "      <td>-108.651790</td>\n",
       "      <td>37.728153</td>\n",
       "      <td>8</td>\n",
       "      <td>n</td>\n",
       "      <td>3.388039</td>\n",
       "      <td>335.77356</td>\n",
       "      <td>304.47110</td>\n",
       "      <td>1.634736</td>\n",
       "      <td>2019-06-27</td>\n",
       "      <td>2006</td>\n",
       "      <td>...</td>\n",
       "      <td>NaN</td>\n",
       "      <td>NaN</td>\n",
       "      <td>NaN</td>\n",
       "      <td>NaN</td>\n",
       "      <td>44</td>\n",
       "      <td>Southern Rockies</td>\n",
       "      <td>6</td>\n",
       "      <td>2019</td>\n",
       "      <td>63</td>\n",
       "      <td>1</td>\n",
       "    </tr>\n",
       "    <tr>\n",
       "      <th>2</th>\n",
       "      <td>-108.660560</td>\n",
       "      <td>37.726720</td>\n",
       "      <td>8</td>\n",
       "      <td>n</td>\n",
       "      <td>6.081448</td>\n",
       "      <td>351.61945</td>\n",
       "      <td>303.17370</td>\n",
       "      <td>1.582977</td>\n",
       "      <td>2019-06-27</td>\n",
       "      <td>2006</td>\n",
       "      <td>...</td>\n",
       "      <td>NaN</td>\n",
       "      <td>NaN</td>\n",
       "      <td>NaN</td>\n",
       "      <td>NaN</td>\n",
       "      <td>44</td>\n",
       "      <td>Southern Rockies</td>\n",
       "      <td>6</td>\n",
       "      <td>2019</td>\n",
       "      <td>63</td>\n",
       "      <td>2</td>\n",
       "    </tr>\n",
       "    <tr>\n",
       "      <th>3</th>\n",
       "      <td>-108.664955</td>\n",
       "      <td>37.726000</td>\n",
       "      <td>8</td>\n",
       "      <td>n</td>\n",
       "      <td>4.429165</td>\n",
       "      <td>341.46454</td>\n",
       "      <td>305.51712</td>\n",
       "      <td>1.840156</td>\n",
       "      <td>2019-06-27</td>\n",
       "      <td>2006</td>\n",
       "      <td>...</td>\n",
       "      <td>NaN</td>\n",
       "      <td>NaN</td>\n",
       "      <td>NaN</td>\n",
       "      <td>NaN</td>\n",
       "      <td>44</td>\n",
       "      <td>Southern Rockies</td>\n",
       "      <td>6</td>\n",
       "      <td>2019</td>\n",
       "      <td>63</td>\n",
       "      <td>3</td>\n",
       "    </tr>\n",
       "    <tr>\n",
       "      <th>4</th>\n",
       "      <td>-108.652620</td>\n",
       "      <td>37.731445</td>\n",
       "      <td>8</td>\n",
       "      <td>n</td>\n",
       "      <td>3.388039</td>\n",
       "      <td>335.03598</td>\n",
       "      <td>303.23315</td>\n",
       "      <td>1.634736</td>\n",
       "      <td>2019-06-27</td>\n",
       "      <td>2006</td>\n",
       "      <td>...</td>\n",
       "      <td>NaN</td>\n",
       "      <td>NaN</td>\n",
       "      <td>NaN</td>\n",
       "      <td>NaN</td>\n",
       "      <td>44</td>\n",
       "      <td>Southern Rockies</td>\n",
       "      <td>6</td>\n",
       "      <td>2019</td>\n",
       "      <td>63</td>\n",
       "      <td>4</td>\n",
       "    </tr>\n",
       "  </tbody>\n",
       "</table>\n",
       "<p>5 rows × 47 columns</p>\n",
       "</div>"
      ],
      "text/plain": [
       "    longitude   latitude  fire_mask confidence       frp         t4  \\\n",
       "0 -108.650955  37.724865          8          n  3.009492  338.37442   \n",
       "1 -108.651790  37.728153          8          n  3.388039  335.77356   \n",
       "2 -108.660560  37.726720          8          n  6.081448  351.61945   \n",
       "3 -108.664955  37.726000          8          n  4.429165  341.46454   \n",
       "4 -108.652620  37.731445          8          n  3.388039  335.03598   \n",
       "\n",
       "          t5       m13   acq_date  acq_time  ... STR_THREATENED_MAX  \\\n",
       "0  304.13184  1.290213 2019-06-27      2006  ...                NaN   \n",
       "1  304.47110  1.634736 2019-06-27      2006  ...                NaN   \n",
       "2  303.17370  1.582977 2019-06-27      2006  ...                NaN   \n",
       "3  305.51712  1.840156 2019-06-27      2006  ...                NaN   \n",
       "4  303.23315  1.634736 2019-06-27      2006  ...                NaN   \n",
       "\n",
       "  EVACUATION_REPORTED PEAK_EVACUATIONS WF_PEAK_AERIAL WF_PEAK_PERSONNEL  \\\n",
       "0                 NaN              NaN            NaN                44   \n",
       "1                 NaN              NaN            NaN                44   \n",
       "2                 NaN              NaN            NaN                44   \n",
       "3                 NaN              NaN            NaN                44   \n",
       "4                 NaN              NaN            NaN                44   \n",
       "\n",
       "          na_l3name  acq_month  acq_year  count  obs_id  \n",
       "0  Southern Rockies          6      2019     63       0  \n",
       "1  Southern Rockies          6      2019     63       1  \n",
       "2  Southern Rockies          6      2019     63       2  \n",
       "3  Southern Rockies          6      2019     63       3  \n",
       "4  Southern Rockies          6      2019     63       4  \n",
       "\n",
       "[5 rows x 47 columns]"
      ]
     },
     "execution_count": 21,
     "metadata": {},
     "output_type": "execute_result"
    }
   ],
   "source": [
    "# Define the pixel buffer function for the given width and height\n",
    "def pixel_area(point, width, height):\n",
    "    half_width = width / 2\n",
    "    half_height = height / 2\n",
    "    return box(\n",
    "        point.x - half_width, point.y - half_height,\n",
    "        point.x + half_width, point.y + half_height\n",
    "    )\n",
    "\n",
    "afds_pix = afds_ll_fire_ct.copy()\n",
    "\n",
    "# Apply the buffer function with along_scan and along_track values converted to meters (*1000)\n",
    "afds_pix[\"geometry\"] = afds_pix.apply(\n",
    "    lambda row: pixel_area(row[\"geometry\"], row[\"along_scan\"] * 1000, row[\"along_track\"] * 1000), axis=1\n",
    ")\n",
    "\n",
    "afds_pix = afds_pix.reset_index(drop=True)\n",
    "afds_pix['obs_id'] = afds_pix.index # unique ID column\n",
    "\n",
    "afds_pix.head() # check the results"
   ]
  },
  {
   "cell_type": "code",
   "execution_count": 22,
   "id": "4b7522a5-77cc-408d-9d54-bf51660d36ec",
   "metadata": {},
   "outputs": [
    {
     "name": "stdout",
     "output_type": "stream",
     "text": [
      "Saved to /Users/max/Library/CloudStorage/OneDrive-Personal/mcook/aspen-fire/Aim2/data/spatial/mod/VIIRS/viirs_snpp_jpss1_afd_latlon_aspenfires_pixar.gpkg\n",
      "\n"
     ]
    }
   ],
   "source": [
    "# save this file out.\n",
    "out_fp = os.path.join(datamod,'viirs_snpp_jpss1_afd_latlon_aspenfires_pixar.gpkg')\n",
    "afds_pix.to_file(out_fp)\n",
    "print(f\"Saved to {out_fp}\\n\")"
   ]
  },
  {
   "cell_type": "code",
   "execution_count": 23,
   "id": "dca44746-57c1-4122-8046-ca2b58c4565b",
   "metadata": {},
   "outputs": [
    {
     "data": {
      "text/plain": [
       "115035"
      ]
     },
     "execution_count": 23,
     "metadata": {},
     "output_type": "execute_result"
    }
   ],
   "source": [
    "len(afds_pix)"
   ]
  },
  {
   "cell_type": "code",
   "execution_count": 24,
   "id": "8daab39e-f3b8-485f-a617-3ae0409b4572",
   "metadata": {},
   "outputs": [
    {
     "data": {
      "text/plain": [
       "Index(['longitude', 'latitude', 'fire_mask', 'confidence', 'frp', 't4', 't5',\n",
       "       'm13', 'acq_date', 'acq_time', 'daynight', 'satellite', 'short_name',\n",
       "       'granule_id', 'geo_id', 'sample', 'along_scan', 'along_track',\n",
       "       'scan_angle', 'pix_area', 'geometry', 'afdID', 'Fire_ID', 'Fire_Name',\n",
       "       'NIFC_ACRES', 'FINAL_ACRES', 'pct_cover', 'INCIDENT_ID',\n",
       "       'INCIDENT_NAME', 'START_YEAR', 'CAUSE', 'DISCOVERY_DATE',\n",
       "       'DISCOVERY_DOY', 'WF_CESSATION_DATE', 'WF_CESSATION_DOY',\n",
       "       'STR_DESTROYED_TOTAL', 'STR_DAMAGED_TOTAL', 'STR_THREATENED_MAX',\n",
       "       'EVACUATION_REPORTED', 'PEAK_EVACUATIONS', 'WF_PEAK_AERIAL',\n",
       "       'WF_PEAK_PERSONNEL', 'na_l3name', 'acq_month', 'acq_year', 'count',\n",
       "       'obs_id'],\n",
       "      dtype='object')"
      ]
     },
     "execution_count": 24,
     "metadata": {},
     "output_type": "execute_result"
    }
   ],
   "source": [
    "afds_pix.columns"
   ]
  },
  {
   "cell_type": "code",
   "execution_count": 25,
   "id": "a940b3cb-7702-48c3-bbf8-397847489dba",
   "metadata": {},
   "outputs": [
    {
     "data": {
      "text/html": [
       "<div>\n",
       "<style scoped>\n",
       "    .dataframe tbody tr th:only-of-type {\n",
       "        vertical-align: middle;\n",
       "    }\n",
       "\n",
       "    .dataframe tbody tr th {\n",
       "        vertical-align: top;\n",
       "    }\n",
       "\n",
       "    .dataframe thead th {\n",
       "        text-align: right;\n",
       "    }\n",
       "</style>\n",
       "<table border=\"1\" class=\"dataframe\">\n",
       "  <thead>\n",
       "    <tr style=\"text-align: right;\">\n",
       "      <th></th>\n",
       "      <th>acq_date</th>\n",
       "      <th>acq_time</th>\n",
       "      <th>acq_datetime</th>\n",
       "      <th>daynight</th>\n",
       "    </tr>\n",
       "  </thead>\n",
       "  <tbody>\n",
       "    <tr>\n",
       "      <th>0</th>\n",
       "      <td>2019-06-27</td>\n",
       "      <td>2006</td>\n",
       "      <td>2019-06-27 14:06:00-06:00</td>\n",
       "      <td>Day</td>\n",
       "    </tr>\n",
       "    <tr>\n",
       "      <th>1</th>\n",
       "      <td>2019-06-27</td>\n",
       "      <td>2006</td>\n",
       "      <td>2019-06-27 14:06:00-06:00</td>\n",
       "      <td>Day</td>\n",
       "    </tr>\n",
       "    <tr>\n",
       "      <th>2</th>\n",
       "      <td>2019-06-27</td>\n",
       "      <td>2006</td>\n",
       "      <td>2019-06-27 14:06:00-06:00</td>\n",
       "      <td>Day</td>\n",
       "    </tr>\n",
       "    <tr>\n",
       "      <th>3</th>\n",
       "      <td>2019-06-27</td>\n",
       "      <td>2006</td>\n",
       "      <td>2019-06-27 14:06:00-06:00</td>\n",
       "      <td>Day</td>\n",
       "    </tr>\n",
       "    <tr>\n",
       "      <th>4</th>\n",
       "      <td>2019-06-27</td>\n",
       "      <td>2006</td>\n",
       "      <td>2019-06-27 14:06:00-06:00</td>\n",
       "      <td>Day</td>\n",
       "    </tr>\n",
       "  </tbody>\n",
       "</table>\n",
       "</div>"
      ],
      "text/plain": [
       "    acq_date  acq_time              acq_datetime daynight\n",
       "0 2019-06-27      2006 2019-06-27 14:06:00-06:00      Day\n",
       "1 2019-06-27      2006 2019-06-27 14:06:00-06:00      Day\n",
       "2 2019-06-27      2006 2019-06-27 14:06:00-06:00      Day\n",
       "3 2019-06-27      2006 2019-06-27 14:06:00-06:00      Day\n",
       "4 2019-06-27      2006 2019-06-27 14:06:00-06:00      Day"
      ]
     },
     "execution_count": 25,
     "metadata": {},
     "output_type": "execute_result"
    }
   ],
   "source": [
    "afds_pix['acq_datetime'] = afds_pix.apply(\n",
    "    lambda row: convert_datetime(row['acq_date'], row['acq_time'], zone='America/Denver'), \n",
    "    axis=1\n",
    ")\n",
    "afds_pix[['acq_date','acq_time','acq_datetime','daynight']].head()"
   ]
  },
  {
   "cell_type": "code",
   "execution_count": 26,
   "id": "b1ae7f7c-be2f-4179-ab96-9145dbc458ba",
   "metadata": {},
   "outputs": [
    {
     "name": "stdout",
     "output_type": "stream",
     "text": [
      "Minimum MST datetime for 'Day': 11:54:00\n",
      "Maximum MST datetime for 'Day': 15:18:00\n"
     ]
    }
   ],
   "source": [
    "# check on nighttime datetimes\n",
    "day_obs = afds_pix[afds_pix['daynight'] == 'Day']\n",
    "day_obs['acq_time_mst'] = day_obs['acq_datetime'].dt.time\n",
    "\n",
    "print(f\"Minimum MST datetime for 'Day': {day_obs['acq_time_mst'].min()}\")\n",
    "print(f\"Maximum MST datetime for 'Day': {day_obs['acq_time_mst'].max()}\")\n",
    "del day_obs"
   ]
  },
  {
   "cell_type": "code",
   "execution_count": 27,
   "id": "3c154fab-3ab9-4d3d-856b-34c2a1fc018d",
   "metadata": {},
   "outputs": [
    {
     "name": "stdout",
     "output_type": "stream",
     "text": [
      "Minimum MST datetime for 'Night': 01:06:00\n",
      "Maximum MST datetime for 'Night': 04:18:00\n"
     ]
    }
   ],
   "source": [
    "# check on nighttime datetimes\n",
    "night_obs = afds_pix[afds_pix['daynight'] == 'Night']\n",
    "night_obs['acq_time_mst'] = night_obs['acq_datetime'].dt.time\n",
    "\n",
    "print(f\"Minimum MST datetime for 'Night': {night_obs['acq_time_mst'].min()}\")\n",
    "print(f\"Maximum MST datetime for 'Night': {night_obs['acq_time_mst'].max()}\")\n",
    "del night_obs"
   ]
  },
  {
   "cell_type": "code",
   "execution_count": null,
   "id": "56f92851-a958-4881-b620-fb98d11a43e9",
   "metadata": {},
   "outputs": [],
   "source": []
  },
  {
   "cell_type": "code",
   "execution_count": null,
   "id": "41e3b924-804a-4b44-b2af-8ff6f756419d",
   "metadata": {},
   "outputs": [],
   "source": []
  },
  {
   "cell_type": "code",
   "execution_count": 28,
   "id": "a990b716-51b8-4d18-b160-5ec4c7745f0a",
   "metadata": {},
   "outputs": [],
   "source": [
    "# Handle duplicate observations for AFDs"
   ]
  },
  {
   "cell_type": "code",
   "execution_count": 29,
   "id": "0425f330-757c-471d-b396-a686015083dd",
   "metadata": {},
   "outputs": [
    {
     "name": "stdout",
     "output_type": "stream",
     "text": [
      "Number of unique (Fire_ID, acq_datetime) groups: 3413\n",
      "Identified a total of [13328(11.59)] duplicate observations.\n"
     ]
    },
    {
     "data": {
      "text/plain": [
       "0"
      ]
     },
     "execution_count": 29,
     "metadata": {},
     "output_type": "execute_result"
    }
   ],
   "source": [
    "# Spatial overlap > 30% and the same acquisition date and time\n",
    "\n",
    "# Find duplicates in space and time\n",
    "drop_obs = set() # to store the observations we want to drop\n",
    "overlap_threshold = 0.30 # spatial overlap (percent)\n",
    "\n",
    "# group the observations by datetime\n",
    "dt_groups = afds_pix.groupby(['Fire_ID','acq_datetime'])\n",
    "print(f\"Number of unique (Fire_ID, acq_datetime) groups: {len(dt_groups)}\")\n",
    "\n",
    "def process_group(group):\n",
    "    drop_obs = set()\n",
    "\n",
    "    # create a spatial index on the group\n",
    "    sidx = group.sindex\n",
    "\n",
    "    # loop obs. and identify spatial overlap\n",
    "    for idx, obs in group.iterrows():\n",
    "        if obs['afdID'] in drop_obs:\n",
    "            continue  # Skip if already marked\n",
    "\n",
    "        # Find overlapping geometries within the group\n",
    "        overlap_idxs = list(sidx.intersection(obs.geometry.bounds))\n",
    "        overlap_obs = group.iloc[overlap_idxs]\n",
    "\n",
    "        for match_idx, match_obs in overlap_obs.iterrows():\n",
    "            if match_obs['afdID'] == obs['afdID'] or match_obs['afdID'] in drop_obs:\n",
    "                continue  # Skip self-comparisons or already processed\n",
    "\n",
    "            # Calculate intersection and overlap ratio\n",
    "            area = obs.geometry.intersection(match_obs.geometry).area\n",
    "            ratio = area / obs.geometry.area\n",
    "\n",
    "            # Check for spatial overlap > threshold\n",
    "            if ratio > overlap_threshold:\n",
    "                if match_obs['frp'] < obs['frp']:\n",
    "                    drop_obs.add(match_obs['afdID'])\n",
    "                else:\n",
    "                    drop_obs.add(obs['afdID'])\n",
    "                    break  # No need to check further for this observation\n",
    "\n",
    "    return drop_obs\n",
    "\n",
    "# Process observations grouped by Fire_ID and acq_datetime\n",
    "for (fire_id, datetime), group in dt_groups:\n",
    "    if len(group) > 1:  # Only process groups with potential duplicates\n",
    "        drop_obs.update(process_group(group))\n",
    "\n",
    "# apply to the AFD ground area data\n",
    "print(f\"Identified a total of [{len(drop_obs)}({round(len(drop_obs) / len(afds_pix) * 100,2)})] duplicate observations.\")\n",
    "afds_pix_ = afds_pix[~afds_pix['afdID'].isin(drop_obs)] # drop the duplicate obs.\n",
    "\n",
    "del afds_pix\n",
    "gc.collect()"
   ]
  },
  {
   "cell_type": "code",
   "execution_count": 30,
   "id": "de86a71c-2ec9-49aa-acea-257fbd78ea8d",
   "metadata": {},
   "outputs": [
    {
     "data": {
      "text/html": [
       "<div>\n",
       "<style scoped>\n",
       "    .dataframe tbody tr th:only-of-type {\n",
       "        vertical-align: middle;\n",
       "    }\n",
       "\n",
       "    .dataframe tbody tr th {\n",
       "        vertical-align: top;\n",
       "    }\n",
       "\n",
       "    .dataframe thead th {\n",
       "        text-align: right;\n",
       "    }\n",
       "</style>\n",
       "<table border=\"1\" class=\"dataframe\">\n",
       "  <thead>\n",
       "    <tr style=\"text-align: right;\">\n",
       "      <th></th>\n",
       "      <th>frp</th>\n",
       "      <th>frp_wkm2</th>\n",
       "      <th>pix_area</th>\n",
       "    </tr>\n",
       "  </thead>\n",
       "  <tbody>\n",
       "    <tr>\n",
       "      <th>0</th>\n",
       "      <td>3.009492</td>\n",
       "      <td>21.129832</td>\n",
       "      <td>0.142429</td>\n",
       "    </tr>\n",
       "    <tr>\n",
       "      <th>1</th>\n",
       "      <td>3.388039</td>\n",
       "      <td>23.787636</td>\n",
       "      <td>0.142429</td>\n",
       "    </tr>\n",
       "    <tr>\n",
       "      <th>2</th>\n",
       "      <td>6.081448</td>\n",
       "      <td>42.680268</td>\n",
       "      <td>0.142489</td>\n",
       "    </tr>\n",
       "  </tbody>\n",
       "</table>\n",
       "</div>"
      ],
      "text/plain": [
       "        frp   frp_wkm2  pix_area\n",
       "0  3.009492  21.129832  0.142429\n",
       "1  3.388039  23.787636  0.142429\n",
       "2  6.081448  42.680268  0.142489"
      ]
     },
     "execution_count": 30,
     "metadata": {},
     "output_type": "execute_result"
    }
   ],
   "source": [
    "# calculate frp in Watts/km2\n",
    "afds_pix_['frp_wkm2'] = afds_pix_['frp'] / afds_pix_['pix_area']\n",
    "afds_pix_[['frp','frp_wkm2','pix_area']].head(3)"
   ]
  },
  {
   "cell_type": "code",
   "execution_count": 31,
   "id": "d9f82cb7-ea5d-4b8d-98ba-ea5431878334",
   "metadata": {},
   "outputs": [
    {
     "data": {
      "text/plain": [
       "count    101707.000000\n",
       "mean        111.542499\n",
       "std         258.540157\n",
       "min           0.911294\n",
       "25%          10.902550\n",
       "50%          27.431010\n",
       "75%          89.375420\n",
       "max        8913.220632\n",
       "Name: frp_wkm2, dtype: float64"
      ]
     },
     "execution_count": 31,
     "metadata": {},
     "output_type": "execute_result"
    }
   ],
   "source": [
    "afds_pix_['frp_wkm2'].describe()"
   ]
  },
  {
   "cell_type": "code",
   "execution_count": 32,
   "id": "6a01fbb0-4a2e-4164-a0f6-bee2e5e01a4c",
   "metadata": {},
   "outputs": [
    {
     "name": "stdout",
     "output_type": "stream",
     "text": [
      "Saved to:/Users/max/Library/CloudStorage/OneDrive-Personal/mcook/aspen-fire/Aim2/data/spatial/mod/VIIRS/viirs_snpp_jpss1_afd_latlon_aspenfires_pixar_nd.gpkg\n"
     ]
    }
   ],
   "source": [
    "# save this file out.\n",
    "out_fp = os.path.join(datamod, 'viirs_snpp_jpss1_afd_latlon_aspenfires_pixar_nd.gpkg')\n",
    "afds_pix_.to_file(out_fp)\n",
    "print(f\"Saved to:{out_fp}\")"
   ]
  },
  {
   "cell_type": "code",
   "execution_count": null,
   "id": "604af58e-fdaf-45a2-b4d3-71d142238ce5",
   "metadata": {},
   "outputs": [],
   "source": []
  },
  {
   "cell_type": "code",
   "execution_count": 33,
   "id": "b4ea4049-ffa7-48cc-b4e5-834b9ba030e4",
   "metadata": {},
   "outputs": [
    {
     "name": "stdout",
     "output_type": "stream",
     "text": [
      "Fire_ID        object\n",
      "afdID           int64\n",
      "acq_date       object\n",
      "daynight       object\n",
      "Ig_Date        object\n",
      "Last_Date      object\n",
      "geometry     geometry\n",
      "dtype: object\n",
      "Saved to:/Users/max/Library/CloudStorage/OneDrive-Personal/mcook/aspen-fire/Aim2/data/earth-engine/imports/viirs_snpp_jpss1_afd_latlon_aspenfires_pixar.shp\n"
     ]
    },
    {
     "data": {
      "text/plain": [
       "67"
      ]
     },
     "execution_count": 33,
     "metadata": {},
     "output_type": "execute_result"
    }
   ],
   "source": [
    "# save a version for GEE\n",
    "afds_pix_gee = afds_pix_.copy()\n",
    "\n",
    "# tidy the columns\n",
    "afds_pix_gee.rename(columns={'DISCOVERY_DATE': 'Ig_Date', 'WF_CESSATION_DATE': 'Last_Date'}, inplace=True)\n",
    "afds_pix_gee = afds_pix_gee[['Fire_ID','afdID','acq_date','daynight','Ig_Date','Last_Date','geometry']]\n",
    "date_cols = ['acq_date', 'Ig_Date', 'Last_Date']\n",
    "for col in date_cols:\n",
    "    afds_pix_gee[col] = afds_pix_gee[col].dt.date.astype(str)\n",
    "print(afds_pix_gee.dtypes)\n",
    "\n",
    "# export shapefile\n",
    "out_fp = os.path.join(projdir, 'data/earth-engine/imports/viirs_snpp_jpss1_afd_latlon_aspenfires_pixar.shp')\n",
    "afds_pix_gee.to_file(out_fp)\n",
    "print(f\"Saved to:{out_fp}\")\n",
    "\n",
    "del afds_pix_gee\n",
    "gc.collect()"
   ]
  },
  {
   "cell_type": "code",
   "execution_count": 34,
   "id": "83e84d72-4f43-4510-845d-ea8a8d205296",
   "metadata": {},
   "outputs": [
    {
     "name": "stdout",
     "output_type": "stream",
     "text": [
      "58\n",
      "\n",
      "Saved to:/Users/max/Library/CloudStorage/OneDrive-Personal/mcook/aspen-fire/Aim2/data/earth-engine/imports/nifc_aspenfires_2018to2023.shp\n"
     ]
    }
   ],
   "source": [
    "# also save a fire perimeter dataset for GEE\n",
    "fires_ = fires[fires['Fire_ID'].isin(afds_pix_['Fire_ID'])]\n",
    "fires_ = fires_[['Fire_ID','Fire_Name','START_YEAR','DISCOVERY_DATE','WF_CESSATION_DATE','geometry']]\n",
    "fires_.rename(columns={'START_YEAR': 'Fire_Year', 'DISCOVERY_DATE': 'Ig_Date', 'WF_CESSATION_DATE': 'Last_Date'}, inplace=True)\n",
    "fires_['Ig_Date'] = fires_['Ig_Date'].dt.date.astype(str)\n",
    "fires_['Last_Date'] = fires_['Last_Date'].dt.date.astype(str)\n",
    "\n",
    "out_fp = os.path.join(projdir, 'data/earth-engine/imports/nifc_aspenfires_2018to2023.shp')\n",
    "fires_.to_file(out_fp)\n",
    "\n",
    "print(len(fires_))\n",
    "\n",
    "print(f\"\\nSaved to:{out_fp}\")"
   ]
  },
  {
   "cell_type": "code",
   "execution_count": null,
   "id": "7af5e741-e711-492a-93ab-99a8eadf767e",
   "metadata": {},
   "outputs": [],
   "source": []
  },
  {
   "cell_type": "code",
   "execution_count": null,
   "id": "c59d43ec-bfd8-4b67-b304-6de0856f1c9f",
   "metadata": {},
   "outputs": [],
   "source": []
  },
  {
   "cell_type": "code",
   "execution_count": 35,
   "id": "0f70b637-93f4-40d5-9831-8bef00f56416",
   "metadata": {},
   "outputs": [],
   "source": [
    "# Aggregate FRP to a regular grid"
   ]
  },
  {
   "cell_type": "code",
   "execution_count": 36,
   "id": "65ec1fe2-21b3-4a45-9928-3d4d047cac03",
   "metadata": {},
   "outputs": [
    {
     "name": "stdout",
     "output_type": "stream",
     "text": [
      "Bounding extent for the SRM: [-1184484.4171543047, -689479.4244799014, 1397166.4988387332, 2246127.1529145916]\n",
      "Grid saved to: /Users/max/Library/CloudStorage/OneDrive-Personal/mcook/aspen-fire/Aim2/data/spatial/mod/VIIRS/aspenfires_rgrid_375m.gpkg\n",
      "\n",
      "Total elapsed time: 1.11 minutes.\n",
      "\n",
      "\n",
      "~~~~~~~~~~\n",
      "\n",
      "Done!\n"
     ]
    }
   ],
   "source": [
    "t0 = time.time()\n",
    "\n",
    "# create a regular grid extracted to fire perimeters\n",
    "def regular_grid(extent, res=0.0035, crs_out='EPSG:5070', regions=None):\n",
    "    \"\"\"\n",
    "    Creates a regular-spaced grid\n",
    "    \"\"\"\n",
    "    # retrieve bounding coordinates\n",
    "    min_lon, max_lon, min_lat, max_lat = extent\n",
    "    \n",
    "    # create the grid lines in degrees\n",
    "    x_coords = np.arange(min_lon, max_lon, res)\n",
    "    y_coords = np.arange(min_lat, max_lat, res)\n",
    "\n",
    "    # generate the grid cells\n",
    "    cells = [\n",
    "        Polygon([(x, y), (x + res, y), (x + res, y + res), (x, y + res)])\n",
    "        for x in x_coords for y in y_coords\n",
    "    ]\n",
    "\n",
    "    # create a geodataframe in WGS, reprojected if needed\n",
    "    grid = gpd.GeoDataFrame({'geometry': cells}, crs=crs_out)\n",
    "\n",
    "    if regions is not None:\n",
    "        if regions.crs != grid.crs:\n",
    "            regions = regions.to_crs(grid.crs)\n",
    "        # Perform spatial intersection to keep only grid cells overlapping the polygon\n",
    "        grid = grid[grid.intersects(regions.unary_union)].copy()\n",
    "\n",
    "    return grid\n",
    "    \n",
    "\n",
    "# load the srm epa level III\n",
    "fp = os.path.join(projdir,'data/spatial/raw/boundaries/na_cec_eco_l3_west.gpkg')\n",
    "ecol3 = gpd.read_file(fp)\n",
    "srm = ecol3[ecol3['NA_L3NAME'] == 'Southern Rockies']\n",
    "\n",
    "# get the SRM extent in lat/lon (WGS)\n",
    "coords, extent = get_coords(srm, buffer=3000, crs='EPSG:5070')\n",
    "print(f\"Bounding extent for the SRM: {extent}\")\n",
    "\n",
    "# generate the grid (0.0035 degrees or 375m)\n",
    "# extract grid intersecting fire perimeters\n",
    "grid = regular_grid(extent, res=375, crs_out='EPSG:5070', regions=fires_)\n",
    "\n",
    "# save this out.\n",
    "out_fp = os.path.join(datamod, 'aspenfires_rgrid_375m.gpkg')\n",
    "grid.to_file(out_fp, driver=\"GPKG\")\n",
    "print(f\"Grid saved to: {out_fp}\")\n",
    "\n",
    "t1 = (time.time() - t0) / 60\n",
    "print(f\"\\nTotal elapsed time: {t1:.2f} minutes.\\n\")\n",
    "print(\"\\n~~~~~~~~~~\\n\")\n",
    "print(\"Done!\")"
   ]
  },
  {
   "cell_type": "code",
   "execution_count": null,
   "id": "a93516dd-0d50-4fda-b7d5-e7afa0495c09",
   "metadata": {},
   "outputs": [],
   "source": []
  },
  {
   "cell_type": "code",
   "execution_count": null,
   "id": "029b7231-026e-4789-9aab-fad2c0a5a798",
   "metadata": {},
   "outputs": [],
   "source": []
  },
  {
   "cell_type": "code",
   "execution_count": 37,
   "id": "56f2a665-2f17-4bde-919a-3093574a0557",
   "metadata": {},
   "outputs": [],
   "source": [
    "# calculate a gridded cumulative FRP and maximum FRP"
   ]
  },
  {
   "cell_type": "code",
   "execution_count": 38,
   "id": "f5515078-7132-414e-bc36-50f876329144",
   "metadata": {},
   "outputs": [
    {
     "data": {
      "text/plain": [
       "Index(['longitude', 'latitude', 'fire_mask', 'confidence', 'frp', 't4', 't5',\n",
       "       'm13', 'acq_date', 'acq_time', 'daynight', 'satellite', 'short_name',\n",
       "       'granule_id', 'geo_id', 'sample', 'along_scan', 'along_track',\n",
       "       'scan_angle', 'pix_area', 'geometry', 'afdID', 'Fire_ID', 'Fire_Name',\n",
       "       'NIFC_ACRES', 'FINAL_ACRES', 'pct_cover', 'INCIDENT_ID',\n",
       "       'INCIDENT_NAME', 'START_YEAR', 'CAUSE', 'DISCOVERY_DATE',\n",
       "       'DISCOVERY_DOY', 'WF_CESSATION_DATE', 'WF_CESSATION_DOY',\n",
       "       'STR_DESTROYED_TOTAL', 'STR_DAMAGED_TOTAL', 'STR_THREATENED_MAX',\n",
       "       'EVACUATION_REPORTED', 'PEAK_EVACUATIONS', 'WF_PEAK_AERIAL',\n",
       "       'WF_PEAK_PERSONNEL', 'na_l3name', 'acq_month', 'acq_year', 'count',\n",
       "       'obs_id', 'acq_datetime', 'frp_wkm2'],\n",
       "      dtype='object')"
      ]
     },
     "execution_count": 38,
     "metadata": {},
     "output_type": "execute_result"
    }
   ],
   "source": [
    "afds_pix_.columns"
   ]
  },
  {
   "cell_type": "code",
   "execution_count": 39,
   "id": "8e0faeab-f539-4a47-ac93-3933649cc719",
   "metadata": {},
   "outputs": [
    {
     "data": {
      "application/vnd.jupyter.widget-view+json": {
       "model_id": "dc8cd844bf584c0ea4f36a0a784b03ec",
       "version_major": 2,
       "version_minor": 0
      },
      "text/plain": [
       "Processing fires:   0%|          | 0/58 [00:00<?, ?it/s]"
      ]
     },
     "metadata": {},
     "output_type": "display_data"
    },
    {
     "name": "stdout",
     "output_type": "stream",
     "text": [
      "\n",
      "Total elapsed time: 3.46 minutes.\n",
      "\n",
      "\n",
      "~~~~~~~~~~\n",
      "\n",
      "Done!\n"
     ]
    }
   ],
   "source": [
    "# process the fire data\n",
    "t0 = time.time()\n",
    "\n",
    "def aggregate_frp(detections, grid):\n",
    "    \"\"\"\n",
    "    Aggregate fire pixel frp data into a regular grid with fractional overlay\n",
    "    \"\"\"\n",
    "\n",
    "    # Make sure the projections match\n",
    "    if detections.crs != grid.crs:\n",
    "        detections = detections.to_crs(grid.crs)\n",
    "\n",
    "    # calculate the pixel area in m2\n",
    "    detections['pix_area_m2'] = detections['pix_area'] * 1e6\n",
    "\n",
    "    # tidy the grid and calculate the grid area\n",
    "    grid = grid.reset_index(drop=False).rename(columns={'index': 'grid_index'})\n",
    "    grid['grid_area'] = grid.geometry.area  # precompute grid cell areas\n",
    "\n",
    "    # overlay detections onto the grid\n",
    "    overlay = gpd.overlay(detections, grid, how='intersection')\n",
    "\n",
    "    # fractional overlap area\n",
    "    overlay['overlap_m2'] = overlay.geometry.area\n",
    "    overlay['fraction'] = overlay['overlap_m2'] / overlay['pix_area_m2']\n",
    "    \n",
    "    # multiply FRP by fractional area\n",
    "    overlay['frp_fr'] = overlay['frp_wkm2'] * overlay['fraction']\n",
    "    overlay['frp_fr'] = overlay['frp_fr'].fillna(0)\n",
    "    \n",
    "    # Aggregate by grid cell\n",
    "    aggregated = overlay.groupby('grid_index').agg(\n",
    "        afd_count=('frp_fr', 'count'), \n",
    "        unique_days=('acq_date', 'nunique'),\n",
    "        # overlap amount\n",
    "        overlap=('fraction', 'sum'),\n",
    "        # fire radiative power\n",
    "        frp_csum=('frp_fr', 'sum'),\n",
    "        frp_max=('frp_fr', 'max'),\n",
    "        frp_min=('frp_fr', 'min'),\n",
    "        frp_mean=('frp_fr', 'mean'),\n",
    "        frp_p90=('frp_fr', lambda x: x.quantile(0.9) if not x.empty else 0),\n",
    "        frp_first=('frp_fr', lambda x: overlay.loc[x.index, :].sort_values('acq_datetime').iloc[0]['frp_fr']),\n",
    "        day_max_frp=('frp_fr', lambda x: overlay.loc[x.idxmax(), 'acq_date'] if not x.empty else None),\n",
    "        dt_max_frp=('frp_fr', lambda x: overlay.loc[x.idxmax(), 'acq_datetime'] if not x.empty else None),\n",
    "        first_obs_date=('acq_date', 'min'),\n",
    "        last_obs_date=('acq_date', 'max'),\n",
    "        # brightness temps\n",
    "        t4_max=('t4', 'max'),\n",
    "        t4_mean=('t4', 'mean'),\n",
    "        t5_max=('t5', 'max'),\n",
    "        t5_mean=('t5', 'mean') \n",
    "    ).reset_index()\n",
    "\n",
    "    # add day and night FRP stats\n",
    "    daynight_stats = (\n",
    "        overlay.groupby(['grid_index', 'daynight'])['frp_fr']\n",
    "        .agg(\n",
    "            count='count',\n",
    "            max='max', \n",
    "            mean='mean',\n",
    "            sum='sum',\n",
    "            p90=lambda x: x.quantile(0.9) if not x.empty else 0,\n",
    "            first=lambda x: overlay.loc[x.index, :].sort_values('acq_datetime').iloc[0]['frp_fr']\n",
    "        )\n",
    "        .unstack(fill_value=0)  # Ensure missing values are filled with 0\n",
    "        .reset_index()\n",
    "    )\n",
    "\n",
    "    # Add day/night statistics\n",
    "    aggregated['day_count'] = daynight_stats['count'].get('Day', 0)\n",
    "    aggregated['night_count'] = daynight_stats['count'].get('Night', 0)\n",
    "    aggregated['frp_max_day'] = daynight_stats['max'].get('Day', 0)\n",
    "    aggregated['frp_max_night'] = daynight_stats['max'].get('Night', 0)\n",
    "    aggregated['frp_csum_day'] = daynight_stats['max'].get('Day', 0)\n",
    "    aggregated['frp_csum_night'] = daynight_stats['max'].get('Night', 0)\n",
    "    aggregated['frp_mean_day'] = daynight_stats['mean'].get('Day', 0)\n",
    "    aggregated['frp_mean_night'] = daynight_stats['mean'].get('Night', 0)\n",
    "    aggregated['frp_p90_day'] = daynight_stats['p90'].get('Day', 0)\n",
    "    aggregated['frp_p90_night'] = daynight_stats['p90'].get('Night', 0)\n",
    "    aggregated['frp_first_day'] = daynight_stats['first'].get('Day', 0)\n",
    "    aggregated['frp_first_night'] = daynight_stats['first'].get('Night', 0)\n",
    "    \n",
    "    # Join results back to grid\n",
    "    grid = grid.merge(aggregated, on='grid_index', how='right')\n",
    "        \n",
    "    return grid\n",
    "\n",
    "\n",
    "# Initialize results list\n",
    "fire_grids = []\n",
    "for _, fire in tqdm(fires_.iterrows(), total=len(fires_), desc=\"Processing fires\"):\n",
    "    # get the geodataframe of the fire\n",
    "    fire_gdf = gpd.GeoDataFrame([fire], crs=fires_.crs)  # Ensure GeoDataFrame\n",
    "    \n",
    "    # aggregate fire pixels to the grid\n",
    "    fire_grid = aggregate_frp(afds_pix_[afds_pix_['Fire_ID'] == fire['Fire_ID']], grid)\n",
    "    fire_grid['Fire_ID'] = fire['Fire_ID']\n",
    "    fire_grid['Fire_Name'] = fire['Fire_Name']\n",
    "    fire_grids.append(fire_grid)\n",
    "\n",
    "# Combine all grids into one\n",
    "fire_grids_ = pd.concat(fire_grids)\n",
    "\n",
    "t3 = (time.time() - t0) / 60\n",
    "print(f\"\\nTotal elapsed time: {t3:.2f} minutes.\\n\")\n",
    "print(\"\\n~~~~~~~~~~\\n\")\n",
    "print(\"Done!\")"
   ]
  },
  {
   "cell_type": "code",
   "execution_count": 40,
   "id": "c113c774-dd4e-4884-adf5-e97bcf20b98e",
   "metadata": {},
   "outputs": [
    {
     "name": "stdout",
     "output_type": "stream",
     "text": [
      "count    49022.000000\n",
      "mean        10.605483\n",
      "std          9.654499\n",
      "min          1.000000\n",
      "25%          4.000000\n",
      "50%          8.000000\n",
      "75%         15.000000\n",
      "max        116.000000\n",
      "Name: afd_count, dtype: float64\n",
      "/n\n",
      "count    49022.000000\n",
      "mean         2.730448\n",
      "std          2.236985\n",
      "min          1.000000\n",
      "25%          1.000000\n",
      "50%          2.000000\n",
      "75%          4.000000\n",
      "max         23.000000\n",
      "Name: unique_days, dtype: float64\n"
     ]
    }
   ],
   "source": [
    "print(fire_grids_['afd_count'].describe())\n",
    "print(\"/n\")\n",
    "print(fire_grids_['unique_days'].describe())"
   ]
  },
  {
   "cell_type": "code",
   "execution_count": 41,
   "id": "e6a787a8-4df9-4605-9e74-8a1fd63b1952",
   "metadata": {},
   "outputs": [
    {
     "data": {
      "text/html": [
       "<div>\n",
       "<style scoped>\n",
       "    .dataframe tbody tr th:only-of-type {\n",
       "        vertical-align: middle;\n",
       "    }\n",
       "\n",
       "    .dataframe tbody tr th {\n",
       "        vertical-align: top;\n",
       "    }\n",
       "\n",
       "    .dataframe thead th {\n",
       "        text-align: right;\n",
       "    }\n",
       "</style>\n",
       "<table border=\"1\" class=\"dataframe\">\n",
       "  <thead>\n",
       "    <tr style=\"text-align: right;\">\n",
       "      <th></th>\n",
       "      <th>grid_index</th>\n",
       "      <th>frp_csum</th>\n",
       "      <th>frp_max</th>\n",
       "      <th>frp_p90</th>\n",
       "      <th>frp_min</th>\n",
       "      <th>frp_first</th>\n",
       "      <th>frp_first_day</th>\n",
       "      <th>day_count</th>\n",
       "      <th>night_count</th>\n",
       "    </tr>\n",
       "  </thead>\n",
       "  <tbody>\n",
       "    <tr>\n",
       "      <th>7196</th>\n",
       "      <td>2096707</td>\n",
       "      <td>4548.993138</td>\n",
       "      <td>4224.420433</td>\n",
       "      <td>119.132532</td>\n",
       "      <td>0.189928</td>\n",
       "      <td>4224.420433</td>\n",
       "      <td>4224.420433</td>\n",
       "      <td>9</td>\n",
       "      <td>5</td>\n",
       "    </tr>\n",
       "    <tr>\n",
       "      <th>4276</th>\n",
       "      <td>2023510</td>\n",
       "      <td>4274.947504</td>\n",
       "      <td>4012.442360</td>\n",
       "      <td>114.159453</td>\n",
       "      <td>0.000891</td>\n",
       "      <td>0.068310</td>\n",
       "      <td>0.000000</td>\n",
       "      <td>0</td>\n",
       "      <td>11</td>\n",
       "    </tr>\n",
       "    <tr>\n",
       "      <th>562</th>\n",
       "      <td>1964399</td>\n",
       "      <td>4246.404602</td>\n",
       "      <td>4037.146777</td>\n",
       "      <td>68.071141</td>\n",
       "      <td>0.002523</td>\n",
       "      <td>0.548295</td>\n",
       "      <td>47.473654</td>\n",
       "      <td>7</td>\n",
       "      <td>7</td>\n",
       "    </tr>\n",
       "    <tr>\n",
       "      <th>2614</th>\n",
       "      <td>1978265</td>\n",
       "      <td>4060.563378</td>\n",
       "      <td>4052.192722</td>\n",
       "      <td>2027.548070</td>\n",
       "      <td>0.417959</td>\n",
       "      <td>4052.192722</td>\n",
       "      <td>4052.192722</td>\n",
       "      <td>2</td>\n",
       "      <td>4</td>\n",
       "    </tr>\n",
       "    <tr>\n",
       "      <th>8322</th>\n",
       "      <td>2116954</td>\n",
       "      <td>4015.561321</td>\n",
       "      <td>3763.384888</td>\n",
       "      <td>79.160660</td>\n",
       "      <td>0.035671</td>\n",
       "      <td>2.349716</td>\n",
       "      <td>2.709714</td>\n",
       "      <td>4</td>\n",
       "      <td>11</td>\n",
       "    </tr>\n",
       "    <tr>\n",
       "      <th>768</th>\n",
       "      <td>1973452</td>\n",
       "      <td>3674.015328</td>\n",
       "      <td>3008.200093</td>\n",
       "      <td>307.994498</td>\n",
       "      <td>1.500454</td>\n",
       "      <td>1.500454</td>\n",
       "      <td>8.207634</td>\n",
       "      <td>1</td>\n",
       "      <td>10</td>\n",
       "    </tr>\n",
       "    <tr>\n",
       "      <th>612</th>\n",
       "      <td>1966663</td>\n",
       "      <td>3577.580668</td>\n",
       "      <td>1981.212970</td>\n",
       "      <td>991.454124</td>\n",
       "      <td>0.291934</td>\n",
       "      <td>0.291934</td>\n",
       "      <td>49.433956</td>\n",
       "      <td>5</td>\n",
       "      <td>9</td>\n",
       "    </tr>\n",
       "    <tr>\n",
       "      <th>4977</th>\n",
       "      <td>2057471</td>\n",
       "      <td>3492.164858</td>\n",
       "      <td>3010.726475</td>\n",
       "      <td>82.937857</td>\n",
       "      <td>0.157297</td>\n",
       "      <td>78.712222</td>\n",
       "      <td>5.966158</td>\n",
       "      <td>10</td>\n",
       "      <td>18</td>\n",
       "    </tr>\n",
       "    <tr>\n",
       "      <th>467</th>\n",
       "      <td>1959868</td>\n",
       "      <td>3381.926835</td>\n",
       "      <td>2811.410211</td>\n",
       "      <td>1641.870830</td>\n",
       "      <td>5.690685</td>\n",
       "      <td>27.467809</td>\n",
       "      <td>0.000000</td>\n",
       "      <td>0</td>\n",
       "      <td>6</td>\n",
       "    </tr>\n",
       "    <tr>\n",
       "      <th>1295</th>\n",
       "      <td>883676</td>\n",
       "      <td>3152.890838</td>\n",
       "      <td>2147.369332</td>\n",
       "      <td>314.479304</td>\n",
       "      <td>0.132130</td>\n",
       "      <td>2147.369332</td>\n",
       "      <td>2147.369332</td>\n",
       "      <td>8</td>\n",
       "      <td>10</td>\n",
       "    </tr>\n",
       "  </tbody>\n",
       "</table>\n",
       "</div>"
      ],
      "text/plain": [
       "      grid_index     frp_csum      frp_max      frp_p90   frp_min  \\\n",
       "7196     2096707  4548.993138  4224.420433   119.132532  0.189928   \n",
       "4276     2023510  4274.947504  4012.442360   114.159453  0.000891   \n",
       "562      1964399  4246.404602  4037.146777    68.071141  0.002523   \n",
       "2614     1978265  4060.563378  4052.192722  2027.548070  0.417959   \n",
       "8322     2116954  4015.561321  3763.384888    79.160660  0.035671   \n",
       "768      1973452  3674.015328  3008.200093   307.994498  1.500454   \n",
       "612      1966663  3577.580668  1981.212970   991.454124  0.291934   \n",
       "4977     2057471  3492.164858  3010.726475    82.937857  0.157297   \n",
       "467      1959868  3381.926835  2811.410211  1641.870830  5.690685   \n",
       "1295      883676  3152.890838  2147.369332   314.479304  0.132130   \n",
       "\n",
       "        frp_first  frp_first_day  day_count  night_count  \n",
       "7196  4224.420433    4224.420433          9            5  \n",
       "4276     0.068310       0.000000          0           11  \n",
       "562      0.548295      47.473654          7            7  \n",
       "2614  4052.192722    4052.192722          2            4  \n",
       "8322     2.349716       2.709714          4           11  \n",
       "768      1.500454       8.207634          1           10  \n",
       "612      0.291934      49.433956          5            9  \n",
       "4977    78.712222       5.966158         10           18  \n",
       "467     27.467809       0.000000          0            6  \n",
       "1295  2147.369332    2147.369332          8           10  "
      ]
     },
     "execution_count": 41,
     "metadata": {},
     "output_type": "execute_result"
    }
   ],
   "source": [
    "fire_grids_.sort_values(by='frp_csum', ascending=False)[['grid_index','frp_csum','frp_max','frp_p90',\n",
    "                                                         'frp_min','frp_first','frp_first_day',\n",
    "                                                         'day_count','night_count'\n",
    "                                                        ]].head(10)"
   ]
  },
  {
   "cell_type": "code",
   "execution_count": 42,
   "id": "89505499-17b7-417b-a1c1-d032c97cfe1c",
   "metadata": {},
   "outputs": [
    {
     "name": "stdout",
     "output_type": "stream",
     "text": [
      "Cumulative W/km2 captured: 11344637.904.\n"
     ]
    }
   ],
   "source": [
    "print(f\"Cumulative W/km2 captured: {round(fire_grids_['frp_csum'].sum(), 3)}.\")"
   ]
  },
  {
   "cell_type": "code",
   "execution_count": 43,
   "id": "10bf0efa-590c-4b09-824f-1e489991e71d",
   "metadata": {},
   "outputs": [
    {
     "name": "stdout",
     "output_type": "stream",
     "text": [
      "Saved file to: /Users/max/Library/CloudStorage/OneDrive-Personal/mcook/aspen-fire/Aim2/data/spatial/mod/VIIRS/viirs_snpp_jpss1_afd_latlon_aspenfires_pixar_gridstats.gpkg\n"
     ]
    }
   ],
   "source": [
    "# save this file out.\n",
    "out_fp = os.path.join(datamod,'viirs_snpp_jpss1_afd_latlon_aspenfires_pixar_gridstats.gpkg')\n",
    "fire_grids_.to_file(out_fp)\n",
    "print(f\"Saved file to: {out_fp}\")"
   ]
  },
  {
   "cell_type": "code",
   "execution_count": null,
   "id": "aaf0ff37-82e6-440f-bc3b-0ff8df09616d",
   "metadata": {},
   "outputs": [],
   "source": []
  },
  {
   "cell_type": "code",
   "execution_count": null,
   "id": "f79585d3-4baf-4504-a567-617ba3146fdc",
   "metadata": {},
   "outputs": [],
   "source": []
  },
  {
   "cell_type": "code",
   "execution_count": 44,
   "id": "49fb4bf0-0811-4a9e-90c5-e6d82df24474",
   "metadata": {},
   "outputs": [],
   "source": [
    "# plot the distribution of frp between the two methods"
   ]
  },
  {
   "cell_type": "code",
   "execution_count": 45,
   "id": "9b5fde5b-c2bc-4ec8-9171-193abde24c17",
   "metadata": {},
   "outputs": [],
   "source": [
    "# save a file for GEE (cleaned columns)"
   ]
  },
  {
   "cell_type": "code",
   "execution_count": 46,
   "id": "c41ceab4-82ff-4aa8-a195-904b78411756",
   "metadata": {},
   "outputs": [
    {
     "data": {
      "text/plain": [
       "Index(['grid_index', 'geometry', 'grid_area', 'afd_count', 'unique_days',\n",
       "       'overlap', 'frp_csum', 'frp_max', 'frp_min', 'frp_mean', 'frp_p90',\n",
       "       'frp_first', 'day_max_frp', 'dt_max_frp', 'first_obs_date',\n",
       "       'last_obs_date', 't4_max', 't4_mean', 't5_max', 't5_mean', 'day_count',\n",
       "       'night_count', 'frp_max_day', 'frp_max_night', 'frp_csum_day',\n",
       "       'frp_csum_night', 'frp_mean_day', 'frp_mean_night', 'frp_p90_day',\n",
       "       'frp_p90_night', 'frp_first_day', 'frp_first_night', 'Fire_ID',\n",
       "       'Fire_Name'],\n",
       "      dtype='object')"
      ]
     },
     "execution_count": 46,
     "metadata": {},
     "output_type": "execute_result"
    }
   ],
   "source": [
    "fire_grids_.columns"
   ]
  },
  {
   "cell_type": "code",
   "execution_count": 47,
   "id": "e6f922a1-4dc6-4afd-a70d-ab43323c4682",
   "metadata": {},
   "outputs": [
    {
     "data": {
      "text/plain": [
       "Index(['Fire_ID', 'Fire_Name', 'Fire_Year', 'Ig_Date', 'Last_Date',\n",
       "       'geometry'],\n",
       "      dtype='object')"
      ]
     },
     "execution_count": 47,
     "metadata": {},
     "output_type": "execute_result"
    }
   ],
   "source": [
    "fires_.columns"
   ]
  },
  {
   "cell_type": "code",
   "execution_count": 48,
   "id": "1f30966d-ca06-4ef5-8e56-56c7cacf6185",
   "metadata": {},
   "outputs": [
    {
     "data": {
      "text/html": [
       "<div>\n",
       "<style scoped>\n",
       "    .dataframe tbody tr th:only-of-type {\n",
       "        vertical-align: middle;\n",
       "    }\n",
       "\n",
       "    .dataframe tbody tr th {\n",
       "        vertical-align: top;\n",
       "    }\n",
       "\n",
       "    .dataframe thead th {\n",
       "        text-align: right;\n",
       "    }\n",
       "</style>\n",
       "<table border=\"1\" class=\"dataframe\">\n",
       "  <thead>\n",
       "    <tr style=\"text-align: right;\">\n",
       "      <th></th>\n",
       "      <th>grid_index</th>\n",
       "      <th>Fire_ID</th>\n",
       "      <th>afd_count</th>\n",
       "      <th>max_date</th>\n",
       "      <th>first_obs</th>\n",
       "      <th>last_obs</th>\n",
       "      <th>geometry</th>\n",
       "      <th>Fire_Year</th>\n",
       "      <th>Ig_Date</th>\n",
       "      <th>Last_Date</th>\n",
       "    </tr>\n",
       "  </thead>\n",
       "  <tbody>\n",
       "    <tr>\n",
       "      <th>0</th>\n",
       "      <td>822559</td>\n",
       "      <td>14</td>\n",
       "      <td>1</td>\n",
       "      <td>2018-07-05</td>\n",
       "      <td>2018-07-05</td>\n",
       "      <td>2018-07-05</td>\n",
       "      <td>POLYGON ((-1048359.417 1669791.499, -1047984.4...</td>\n",
       "      <td>2018</td>\n",
       "      <td>2018-06-01</td>\n",
       "      <td>2018-07-03</td>\n",
       "    </tr>\n",
       "    <tr>\n",
       "      <th>1</th>\n",
       "      <td>822560</td>\n",
       "      <td>14</td>\n",
       "      <td>1</td>\n",
       "      <td>2018-07-05</td>\n",
       "      <td>2018-07-05</td>\n",
       "      <td>2018-07-05</td>\n",
       "      <td>POLYGON ((-1048359.417 1670166.499, -1047984.4...</td>\n",
       "      <td>2018</td>\n",
       "      <td>2018-06-01</td>\n",
       "      <td>2018-07-03</td>\n",
       "    </tr>\n",
       "    <tr>\n",
       "      <th>2</th>\n",
       "      <td>822561</td>\n",
       "      <td>14</td>\n",
       "      <td>1</td>\n",
       "      <td>2018-07-05</td>\n",
       "      <td>2018-07-05</td>\n",
       "      <td>2018-07-05</td>\n",
       "      <td>POLYGON ((-1048359.417 1670541.499, -1047984.4...</td>\n",
       "      <td>2018</td>\n",
       "      <td>2018-06-01</td>\n",
       "      <td>2018-07-03</td>\n",
       "    </tr>\n",
       "    <tr>\n",
       "      <th>3</th>\n",
       "      <td>824823</td>\n",
       "      <td>14</td>\n",
       "      <td>1</td>\n",
       "      <td>2018-07-05</td>\n",
       "      <td>2018-07-05</td>\n",
       "      <td>2018-07-05</td>\n",
       "      <td>POLYGON ((-1047984.417 1669791.499, -1047609.4...</td>\n",
       "      <td>2018</td>\n",
       "      <td>2018-06-01</td>\n",
       "      <td>2018-07-03</td>\n",
       "    </tr>\n",
       "    <tr>\n",
       "      <th>4</th>\n",
       "      <td>824824</td>\n",
       "      <td>14</td>\n",
       "      <td>1</td>\n",
       "      <td>2018-07-05</td>\n",
       "      <td>2018-07-05</td>\n",
       "      <td>2018-07-05</td>\n",
       "      <td>POLYGON ((-1047984.417 1670166.499, -1047609.4...</td>\n",
       "      <td>2018</td>\n",
       "      <td>2018-06-01</td>\n",
       "      <td>2018-07-03</td>\n",
       "    </tr>\n",
       "  </tbody>\n",
       "</table>\n",
       "</div>"
      ],
      "text/plain": [
       "   grid_index Fire_ID  afd_count    max_date   first_obs    last_obs  \\\n",
       "0      822559      14          1  2018-07-05  2018-07-05  2018-07-05   \n",
       "1      822560      14          1  2018-07-05  2018-07-05  2018-07-05   \n",
       "2      822561      14          1  2018-07-05  2018-07-05  2018-07-05   \n",
       "3      824823      14          1  2018-07-05  2018-07-05  2018-07-05   \n",
       "4      824824      14          1  2018-07-05  2018-07-05  2018-07-05   \n",
       "\n",
       "                                            geometry Fire_Year     Ig_Date  \\\n",
       "0  POLYGON ((-1048359.417 1669791.499, -1047984.4...      2018  2018-06-01   \n",
       "1  POLYGON ((-1048359.417 1670166.499, -1047984.4...      2018  2018-06-01   \n",
       "2  POLYGON ((-1048359.417 1670541.499, -1047984.4...      2018  2018-06-01   \n",
       "3  POLYGON ((-1047984.417 1669791.499, -1047609.4...      2018  2018-06-01   \n",
       "4  POLYGON ((-1047984.417 1670166.499, -1047609.4...      2018  2018-06-01   \n",
       "\n",
       "    Last_Date  \n",
       "0  2018-07-03  \n",
       "1  2018-07-03  \n",
       "2  2018-07-03  \n",
       "3  2018-07-03  \n",
       "4  2018-07-03  "
      ]
     },
     "execution_count": 48,
     "metadata": {},
     "output_type": "execute_result"
    }
   ],
   "source": [
    "fire_grids_gee = fire_grids_.copy()\n",
    "\n",
    "# tidy the columns\n",
    "fire_grids_gee = fire_grids_gee[['grid_index','Fire_ID','afd_count',\n",
    "                                 'day_max_frp','first_obs_date','last_obs_date',\n",
    "                                 'geometry']]\n",
    "fire_grids_gee.rename(columns={\n",
    "    'day_max_frp': 'max_date', \n",
    "    'first_obs_date': 'first_obs', \n",
    "    'last_obs_date': 'last_obs'}, inplace=True)\n",
    "    \n",
    "# join in the fire ignition dates\n",
    "fire_grids_gee = fire_grids_gee.merge(fires_[['Fire_ID', 'Fire_Year', 'Ig_Date', 'Last_Date']], on='Fire_ID', how='left')\n",
    "\n",
    "# handle date fields for GEE\n",
    "date_cols = ['max_date', 'first_obs', 'last_obs', 'Ig_Date', 'Last_Date']\n",
    "for col in date_cols:\n",
    "    fire_grids_gee[col] = fire_grids_gee[col].astype(str)\n",
    "    \n",
    "fire_grids_gee.head()"
   ]
  },
  {
   "cell_type": "code",
   "execution_count": 49,
   "id": "b8f1f9e5-9c28-4a42-a677-95008e9c0662",
   "metadata": {},
   "outputs": [
    {
     "data": {
      "text/plain": [
       "Index(['grid_index', 'Fire_ID', 'afd_count', 'max_date', 'first_obs',\n",
       "       'last_obs', 'geometry', 'Fire_Year', 'Ig_Date', 'Last_Date'],\n",
       "      dtype='object')"
      ]
     },
     "execution_count": 49,
     "metadata": {},
     "output_type": "execute_result"
    }
   ],
   "source": [
    "fire_grids_gee.columns"
   ]
  },
  {
   "cell_type": "code",
   "execution_count": 50,
   "id": "322c0b61-a0ff-4d57-a23f-e7c771dffcc1",
   "metadata": {},
   "outputs": [
    {
     "data": {
      "text/plain": [
       "grid_index       int64\n",
       "Fire_ID         object\n",
       "afd_count        int64\n",
       "max_date        object\n",
       "first_obs       object\n",
       "last_obs        object\n",
       "geometry      geometry\n",
       "Fire_Year       object\n",
       "Ig_Date         object\n",
       "Last_Date       object\n",
       "dtype: object"
      ]
     },
     "execution_count": 50,
     "metadata": {},
     "output_type": "execute_result"
    }
   ],
   "source": [
    "fire_grids_gee.dtypes"
   ]
  },
  {
   "cell_type": "code",
   "execution_count": 51,
   "id": "ada8b0d8-09b6-45ec-9198-987be922c702",
   "metadata": {},
   "outputs": [
    {
     "name": "stdout",
     "output_type": "stream",
     "text": [
      "Exported layer to: /Users/max/Library/CloudStorage/OneDrive-Personal/mcook/aspen-fire/Aim2/data/earth-engine/imports/viirs_snpp_jpss1_afd_latlon_aspenfires_pixar_gridstats.shp\n"
     ]
    }
   ],
   "source": [
    "out_fp = os.path.join(projdir,'data/earth-engine/imports/viirs_snpp_jpss1_afd_latlon_aspenfires_pixar_gridstats.shp')\n",
    "fire_grids_gee.to_file(out_fp)\n",
    "print(f\"Exported layer to: {out_fp}\")"
   ]
  },
  {
   "cell_type": "code",
   "execution_count": 52,
   "id": "1d980edd-c07e-466d-ab0b-7bf2c94b52b3",
   "metadata": {},
   "outputs": [
    {
     "data": {
      "text/plain": [
       "19"
      ]
     },
     "execution_count": 52,
     "metadata": {},
     "output_type": "execute_result"
    }
   ],
   "source": [
    "gc.collect()"
   ]
  },
  {
   "cell_type": "code",
   "execution_count": null,
   "id": "23a6c0a3-8f9f-436c-b59a-02082bab7df2",
   "metadata": {},
   "outputs": [],
   "source": []
  },
  {
   "cell_type": "code",
   "execution_count": null,
   "id": "2f501467-9cab-4930-baf2-ee01bb8402ec",
   "metadata": {},
   "outputs": [],
   "source": []
  },
  {
   "cell_type": "code",
   "execution_count": 53,
   "id": "6e8c1833-3140-4a3c-991c-3f13ad2e2b5a",
   "metadata": {},
   "outputs": [
    {
     "data": {
      "text/plain": [
       "Index(['grid_index', 'Fire_ID', 'afd_count', 'max_date', 'first_obs',\n",
       "       'last_obs', 'Fire_Year', 'Ig_Date', 'Last_Date', 'geometry'],\n",
       "      dtype='object')"
      ]
     },
     "execution_count": 53,
     "metadata": {},
     "output_type": "execute_result"
    }
   ],
   "source": [
    "# create a dissolved gridcell area for gridmet calculations\n",
    "fp = os.path.join(projdir,'data/earth-engine/imports/viirs_snpp_jpss1_afd_latlon_aspenfires_pixar_gridstats.shp')\n",
    "grid_gee = gpd.read_file(fp)\n",
    "grid_gee.columns"
   ]
  },
  {
   "cell_type": "code",
   "execution_count": 54,
   "id": "3ddb11dc-0a55-4168-ae67-049f1f6d14fc",
   "metadata": {},
   "outputs": [
    {
     "data": {
      "text/plain": [
       "Index(['Fire_ID', 'first_obs', 'geometry', 'grid_index', 'afd_count',\n",
       "       'max_date', 'last_obs', 'Fire_Year', 'Ig_Date', 'Last_Date'],\n",
       "      dtype='object')"
      ]
     },
     "execution_count": 54,
     "metadata": {},
     "output_type": "execute_result"
    }
   ],
   "source": [
    "# Dissolve by first_obs\n",
    "grid_gee_dis = grid_gee.dissolve(by=['Fire_ID','first_obs'])\n",
    "# Reset the index to make `first_obs` a regular column\n",
    "grid_gee_dis = grid_gee_dis.reset_index()\n",
    "grid_gee_dis.columns"
   ]
  },
  {
   "cell_type": "code",
   "execution_count": 55,
   "id": "d5a777b3-0eb3-424c-9efb-52431a89785e",
   "metadata": {},
   "outputs": [
    {
     "name": "stdout",
     "output_type": "stream",
     "text": [
      "Exported layer to: /Users/max/Library/CloudStorage/OneDrive-Personal/mcook/aspen-fire/Aim2/data/earth-engine/imports/viirs_snpp_jpss1_afd_latlon_aspenfires_pixar_gridstats_dis.shp\n"
     ]
    }
   ],
   "source": [
    "out_fp = os.path.join(projdir,'data/earth-engine/imports/viirs_snpp_jpss1_afd_latlon_aspenfires_pixar_gridstats_dis.shp')\n",
    "grid_gee_dis.to_file(out_fp)\n",
    "print(f\"Exported layer to: {out_fp}\")"
   ]
  }
 ],
 "metadata": {
  "kernelspec": {
   "display_name": "aspen-fire",
   "language": "python",
   "name": "aspen-fire"
  },
  "language_info": {
   "codemirror_mode": {
    "name": "ipython",
    "version": 3
   },
   "file_extension": ".py",
   "mimetype": "text/x-python",
   "name": "python",
   "nbconvert_exporter": "python",
   "pygments_lexer": "ipython3",
   "version": "3.10.12"
  }
 },
 "nbformat": 4,
 "nbformat_minor": 5
}
