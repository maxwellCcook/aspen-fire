{
 "cells": [
  {
   "cell_type": "code",
   "execution_count": null,
   "id": "5dddbe1e-7507-4dfa-8055-da79c6913a2a",
   "metadata": {},
   "outputs": [],
   "source": [
    "\"\"\"\n",
    "Performs matching using techniques in causal inference to identify similar obbservations from which to estimate the treatment effect\n",
    "\n",
    "maxwell.cook@colorado.edu\n",
    "\"\"\"\n",
    "\n"
   ]
  }
 ],
 "metadata": {
  "kernelspec": {
   "display_name": "aspen-fire",
   "language": "python",
   "name": "aspen-fire"
  },
  "language_info": {
   "codemirror_mode": {
    "name": "ipython",
    "version": 3
   },
   "file_extension": ".py",
   "mimetype": "text/x-python",
   "name": "python",
   "nbconvert_exporter": "python",
   "pygments_lexer": "ipython3",
   "version": "3.10.12"
  }
 },
 "nbformat": 4,
 "nbformat_minor": 5
}
