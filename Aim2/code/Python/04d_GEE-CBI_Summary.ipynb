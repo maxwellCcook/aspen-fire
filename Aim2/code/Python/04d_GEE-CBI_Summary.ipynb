{
 "cells": [
  {
   "cell_type": "code",
   "execution_count": 12,
   "id": "e8875da6-de28-494e-8590-5deff24c959f",
   "metadata": {},
   "outputs": [
    {
     "data": {
      "text/html": [
       "\n",
       "            <style>\n",
       "                .geemap-dark {\n",
       "                    --jp-widgets-color: white;\n",
       "                    --jp-widgets-label-color: white;\n",
       "                    --jp-ui-font-color1: white;\n",
       "                    --jp-layout-color2: #454545;\n",
       "                    background-color: #383838;\n",
       "                }\n",
       "\n",
       "                .geemap-dark .jupyter-button {\n",
       "                    --jp-layout-color3: #383838;\n",
       "                }\n",
       "\n",
       "                .geemap-colab {\n",
       "                    background-color: var(--colab-primary-surface-color, white);\n",
       "                }\n",
       "\n",
       "                .geemap-colab .jupyter-button {\n",
       "                    --jp-layout-color3: var(--colab-primary-surface-color, white);\n",
       "                }\n",
       "            </style>\n",
       "            "
      ],
      "text/plain": [
       "<IPython.core.display.HTML object>"
      ]
     },
     "metadata": {},
     "output_type": "display_data"
    },
    {
     "name": "stdout",
     "output_type": "stream",
     "text": [
      "Success !\n"
     ]
    }
   ],
   "source": [
    "\"\"\"\n",
    "Calculate fire severity statistics within AFD observations from MODIS and VIIRS.\n",
    "Severity index: Composite Burn Severity (CBI), calculated in GEE via Parks (2018)\n",
    "\n",
    "Author: maxwell.cook@colorado.edu\n",
    "\"\"\"\n",
    "\n",
    "import os, sys\n",
    "import ee\n",
    "import geemap\n",
    "import time\n",
    "from tqdm import tqdm\n",
    "\n",
    "# Custom functions\n",
    "sys.path.append(os.path.join(os.getcwd(),'code/'))\n",
    "from __functions import *\n",
    "\n",
    "ee.Authenticate()\n",
    "ee.Initialize(project='jfsp-aspen')\n",
    "\n",
    "print(\"Success !\")"
   ]
  },
  {
   "cell_type": "code",
   "execution_count": 2,
   "id": "630cba3c-2a17-432d-83aa-db242a71dcbe",
   "metadata": {},
   "outputs": [
    {
     "data": {
      "text/html": [
       "\n",
       "            <style>\n",
       "                .geemap-dark {\n",
       "                    --jp-widgets-color: white;\n",
       "                    --jp-widgets-label-color: white;\n",
       "                    --jp-ui-font-color1: white;\n",
       "                    --jp-layout-color2: #454545;\n",
       "                    background-color: #383838;\n",
       "                }\n",
       "\n",
       "                .geemap-dark .jupyter-button {\n",
       "                    --jp-layout-color3: #383838;\n",
       "                }\n",
       "\n",
       "                .geemap-colab {\n",
       "                    background-color: var(--colab-primary-surface-color, white);\n",
       "                }\n",
       "\n",
       "                .geemap-colab .jupyter-button {\n",
       "                    --jp-layout-color3: var(--colab-primary-surface-color, white);\n",
       "                }\n",
       "            </style>\n",
       "            "
      ],
      "text/plain": [
       "<IPython.core.display.HTML object>"
      ]
     },
     "metadata": {},
     "output_type": "display_data"
    },
    {
     "name": "stdout",
     "output_type": "stream",
     "text": [
      "Number of grid cells: 57232\n",
      "['system:index', 'grid_index', 'Fire_ID']\n"
     ]
    }
   ],
   "source": [
    "# Load the gridded FRP data\n",
    "grid = ee.FeatureCollection('projects/jfsp-aspen/assets/viirs_snpp_jpss1_afd_gridstats')\n",
    "print(f\"Number of grid cells: {grid.size().getInfo()}\")\n",
    "grid = grid.select(['grid_index','Fire_ID'])\n",
    "print(grid.first().propertyNames().getInfo())"
   ]
  },
  {
   "cell_type": "code",
   "execution_count": 3,
   "id": "fbfaa245-9531-4093-9164-cad232b809d7",
   "metadata": {},
   "outputs": [
    {
     "data": {
      "text/html": [
       "\n",
       "            <style>\n",
       "                .geemap-dark {\n",
       "                    --jp-widgets-color: white;\n",
       "                    --jp-widgets-label-color: white;\n",
       "                    --jp-ui-font-color1: white;\n",
       "                    --jp-layout-color2: #454545;\n",
       "                    background-color: #383838;\n",
       "                }\n",
       "\n",
       "                .geemap-dark .jupyter-button {\n",
       "                    --jp-layout-color3: #383838;\n",
       "                }\n",
       "\n",
       "                .geemap-colab {\n",
       "                    background-color: var(--colab-primary-surface-color, white);\n",
       "                }\n",
       "\n",
       "                .geemap-colab .jupyter-button {\n",
       "                    --jp-layout-color3: var(--colab-primary-surface-color, white);\n",
       "                }\n",
       "            </style>\n",
       "            "
      ],
      "text/plain": [
       "<IPython.core.display.HTML object>"
      ]
     },
     "metadata": {},
     "output_type": "display_data"
    },
    {
     "name": "stdout",
     "output_type": "stream",
     "text": [
      "100\n"
     ]
    }
   ],
   "source": [
    "# CBI Asset folder (replace with your asset path)\n",
    "cbidir = 'projects/jfsp-aspen/assets/CBI/'\n",
    "# List all CBI images in the folder\n",
    "cbi_images = ee.data.listAssets({'parent': cbidir})['assets']\n",
    "cbi_image_list = [\n",
    "    ee.Image(f['id']) for f in cbi_images if f['id'].endswith('CBI_bc')\n",
    "]\n",
    "print(len(cbi_image_list))"
   ]
  },
  {
   "cell_type": "code",
   "execution_count": 4,
   "id": "f2a5b281-f627-4ab0-bfe8-297594f8567e",
   "metadata": {},
   "outputs": [
    {
     "data": {
      "text/html": [
       "\n",
       "            <style>\n",
       "                .geemap-dark {\n",
       "                    --jp-widgets-color: white;\n",
       "                    --jp-widgets-label-color: white;\n",
       "                    --jp-ui-font-color1: white;\n",
       "                    --jp-layout-color2: #454545;\n",
       "                    background-color: #383838;\n",
       "                }\n",
       "\n",
       "                .geemap-dark .jupyter-button {\n",
       "                    --jp-layout-color3: #383838;\n",
       "                }\n",
       "\n",
       "                .geemap-colab {\n",
       "                    background-color: var(--colab-primary-surface-color, white);\n",
       "                }\n",
       "\n",
       "                .geemap-colab .jupyter-button {\n",
       "                    --jp-layout-color3: var(--colab-primary-surface-color, white);\n",
       "                }\n",
       "            </style>\n",
       "            "
      ],
      "text/plain": [
       "<IPython.core.display.HTML object>"
      ]
     },
     "metadata": {},
     "output_type": "display_data"
    },
    {
     "name": "stdout",
     "output_type": "stream",
     "text": [
      "Functions ready !\n"
     ]
    }
   ],
   "source": [
    "# Setup seperate functions for average/stdev and extremes (percentiles)\n",
    "def calculate_average(cbi_image, grid_fc, fire_id):\n",
    "    \"\"\"Calculate mean and standard deviation of CBI within each grid cell.\"\"\"\n",
    "    return cbi_image.reduceRegions(\n",
    "        collection=grid_fc,\n",
    "        reducer=ee.Reducer.mean().combine(\n",
    "            reducer2=ee.Reducer.stdDev(), sharedInputs=True\n",
    "        ),\n",
    "        scale=30\n",
    "    ).map(lambda f: f.set(\"Fire_ID\", fire_id))\n",
    "\n",
    "def calculate_extremes(cbi_image, grid_fc, fire_id):\n",
    "    \"\"\"Calculate percentiles (90th, 95th, 99th) of CBI within each grid cell.\"\"\"\n",
    "    return cbi_image.reduceRegions(\n",
    "        collection=grid_fc,\n",
    "        reducer=ee.Reducer.percentile([90, 95, 99]),\n",
    "        scale=30\n",
    "    ).map(lambda f: f.set(\"Fire_ID\", fire_id))\n",
    "\n",
    "def merge_collections(primary, secondary, join_field=\"grid_index\"):\n",
    "    \"\"\"Join two FeatureCollections and merge their properties.\"\"\"\n",
    "    join = ee.Join.inner()\n",
    "    filter_condition = ee.Filter.equals(\n",
    "        leftField=join_field, \n",
    "        rightField=join_field\n",
    "    )\n",
    "    joined = join.apply(primary, secondary, filter_condition)\n",
    "\n",
    "    # Flatten joined results\n",
    "    def merge_features(f):\n",
    "        primary_props = ee.Feature(f.get(\"primary\")).toDictionary()\n",
    "        secondary_props = ee.Feature(f.get(\"secondary\")).toDictionary()\n",
    "        combined_props = primary_props.combine(secondary_props)\n",
    "        return ee.Feature(None, combined_props)\n",
    "\n",
    "    return joined.map(merge_features)\n",
    "\n",
    "print(\"Functions ready !\")"
   ]
  },
  {
   "cell_type": "code",
   "execution_count": 7,
   "id": "47374b7b-c74c-4327-a8fc-4ec9d8b94ae2",
   "metadata": {},
   "outputs": [
    {
     "data": {
      "text/html": [
       "\n",
       "            <style>\n",
       "                .geemap-dark {\n",
       "                    --jp-widgets-color: white;\n",
       "                    --jp-widgets-label-color: white;\n",
       "                    --jp-ui-font-color1: white;\n",
       "                    --jp-layout-color2: #454545;\n",
       "                    background-color: #383838;\n",
       "                }\n",
       "\n",
       "                .geemap-dark .jupyter-button {\n",
       "                    --jp-layout-color3: #383838;\n",
       "                }\n",
       "\n",
       "                .geemap-colab {\n",
       "                    background-color: var(--colab-primary-surface-color, white);\n",
       "                }\n",
       "\n",
       "                .geemap-colab .jupyter-button {\n",
       "                    --jp-layout-color3: var(--colab-primary-surface-color, white);\n",
       "                }\n",
       "            </style>\n",
       "            "
      ],
      "text/plain": [
       "<IPython.core.display.HTML object>"
      ]
     },
     "metadata": {},
     "output_type": "display_data"
    },
    {
     "name": "stdout",
     "output_type": "stream",
     "text": [
      "None\n"
     ]
    }
   ],
   "source": [
    "print(cbi_image_list[0].get('system:index').getInfo())"
   ]
  },
  {
   "cell_type": "code",
   "execution_count": 9,
   "id": "100e139a-2097-40ff-ba93-f652e6a81beb",
   "metadata": {},
   "outputs": [
    {
     "data": {
      "text/html": [
       "\n",
       "            <style>\n",
       "                .geemap-dark {\n",
       "                    --jp-widgets-color: white;\n",
       "                    --jp-widgets-label-color: white;\n",
       "                    --jp-ui-font-color1: white;\n",
       "                    --jp-layout-color2: #454545;\n",
       "                    background-color: #383838;\n",
       "                }\n",
       "\n",
       "                .geemap-dark .jupyter-button {\n",
       "                    --jp-layout-color3: #383838;\n",
       "                }\n",
       "\n",
       "                .geemap-colab {\n",
       "                    background-color: var(--colab-primary-surface-color, white);\n",
       "                }\n",
       "\n",
       "                .geemap-colab .jupyter-button {\n",
       "                    --jp-layout-color3: var(--colab-primary-surface-color, white);\n",
       "                }\n",
       "            </style>\n",
       "            "
      ],
      "text/plain": [
       "<IPython.core.display.HTML object>"
      ]
     },
     "metadata": {},
     "output_type": "display_data"
    },
    {
     "data": {
      "text/html": [
       "<div><style>:root {\n",
       "  --font-color-primary: var(--jp-content-font-color0, rgba(0, 0, 0, 1));\n",
       "  --font-color-secondary: var(--jp-content-font-color2, rgba(0, 0, 0, 0.6));\n",
       "  --font-color-accent: rgba(123, 31, 162, 1);\n",
       "  --border-color: var(--jp-border-color2, #e0e0e0);\n",
       "  --background-color: var(--jp-layout-color0, white);\n",
       "  --background-color-row-even: var(--jp-layout-color1, white);\n",
       "  --background-color-row-odd: var(--jp-layout-color2, #eeeeee);\n",
       "}\n",
       "\n",
       "html[theme=\"dark\"],\n",
       "body[data-theme=\"dark\"],\n",
       "body.vscode-dark {\n",
       "  --font-color-primary: rgba(255, 255, 255, 1);\n",
       "  --font-color-secondary: rgba(255, 255, 255, 0.6);\n",
       "  --font-color-accent: rgb(173, 132, 190);\n",
       "  --border-color: #2e2e2e;\n",
       "  --background-color: #111111;\n",
       "  --background-color-row-even: #111111;\n",
       "  --background-color-row-odd: #313131;\n",
       "}\n",
       "\n",
       ".ee {\n",
       "  padding: 1em;\n",
       "  line-height: 1.5em;\n",
       "  min-width: 300px;\n",
       "  max-width: 1200px;\n",
       "  overflow-y: scroll;\n",
       "  max-height: 600px;\n",
       "  border: 1px solid var(--border-color);\n",
       "  font-family: monospace;\n",
       "}\n",
       "\n",
       ".ee li {\n",
       "  list-style-type: none;\n",
       "}\n",
       "\n",
       ".ee ul {\n",
       "  padding-left: 1.5em !important;\n",
       "  margin: 0;\n",
       "}\n",
       "\n",
       ".ee > ul {\n",
       "  padding-left: 0 !important;\n",
       "}\n",
       "\n",
       ".ee-open,\n",
       ".ee-shut {\n",
       "  color: var(--font-color-secondary);\n",
       "  cursor: pointer;\n",
       "  margin: 0;\n",
       "}\n",
       "\n",
       ".ee-open:hover,\n",
       ".ee-shut:hover {\n",
       "  color: var(--font-color-primary);\n",
       "}\n",
       "\n",
       ".ee-k {\n",
       "  color: var(--font-color-accent);\n",
       "  margin-right: 6px;\n",
       "}\n",
       "\n",
       ".ee-v {\n",
       "  color: var(--font-color-primary);\n",
       "}\n",
       "\n",
       ".ee-toggle {\n",
       "  display: none;\n",
       "}\n",
       "\n",
       ".ee-shut + ul {\n",
       "  display: none;\n",
       "}\n",
       "\n",
       ".ee-open + ul {\n",
       "  display: block;\n",
       "}\n",
       "\n",
       ".ee-shut::before {\n",
       "  display: inline-block;\n",
       "  content: \"▼\";\n",
       "  margin-right: 6px;\n",
       "  transform: rotate(-90deg);\n",
       "  transition: transform 0.2s;\n",
       "}\n",
       "\n",
       ".ee-open::before {\n",
       "  transform: rotate(0deg);\n",
       "  display: inline-block;\n",
       "  content: \"▼\";\n",
       "  margin-right: 6px;\n",
       "  transition: transform 0.2s;\n",
       "}\n",
       "</style><div class='ee'><ul><li><label class='ee-shut'>Image projects/jfsp-aspen/assets/CBI/100_CBI_bc (1 band)<input type='checkbox' class='ee-toggle'></label><ul><li><span class='ee-k'>type:</span><span class='ee-v'>Image</span></li><li><span class='ee-k'>id:</span><span class='ee-v'>projects/jfsp-aspen/assets/CBI/100_CBI_bc</span></li><li><span class='ee-k'>version:</span><span class='ee-v'>1736040636880884</span></li><li><label class='ee-shut'>bands: List (1 element)<input type='checkbox' class='ee-toggle'></label><ul><li><label class='ee-shut'>0: \"CBI_bc\", float, EPSG:4326, 643x508 px<input type='checkbox' class='ee-toggle'></label><ul><li><span class='ee-k'>id:</span><span class='ee-v'>CBI_bc</span></li><li><span class='ee-k'>crs:</span><span class='ee-v'>EPSG:4326</span></li><li><label class='ee-shut'>crs_transform: List (6 elements)<input type='checkbox' class='ee-toggle'></label><ul><li><span class='ee-k'>0:</span><span class='ee-v'>0.00026949458523585647</span></li><li><span class='ee-k'>1:</span><span class='ee-v'>0</span></li><li><span class='ee-k'>2:</span><span class='ee-v'>-107.21330033896602</span></li><li><span class='ee-k'>3:</span><span class='ee-v'>0</span></li><li><span class='ee-k'>4:</span><span class='ee-v'>-0.00026949458523585647</span></li><li><span class='ee-k'>5:</span><span class='ee-v'>40.73141161254735</span></li></ul></li><li><label class='ee-shut'>data_type: float<input type='checkbox' class='ee-toggle'></label><ul><li><span class='ee-k'>type:</span><span class='ee-v'>PixelType</span></li><li><span class='ee-k'>precision:</span><span class='ee-v'>float</span></li></ul></li><li><label class='ee-shut'>dimensions: [643, 508]<input type='checkbox' class='ee-toggle'></label><ul><li><span class='ee-k'>0:</span><span class='ee-v'>643</span></li><li><span class='ee-k'>1:</span><span class='ee-v'>508</span></li></ul></li></ul></li></ul></li><li><label class='ee-shut'>properties: Object (4 properties)<input type='checkbox' class='ee-toggle'></label><ul><li><span class='ee-k'>fireID:</span><span class='ee-v'>100</span></li><li><span class='ee-k'>fireYear:</span><span class='ee-v'>2017</span></li><li><span class='ee-k'>system:asset_size:</span><span class='ee-v'>413715</span></li><li><label class='ee-shut'>system:footprint: LinearRing (19 vertices)<input type='checkbox' class='ee-toggle'></label><ul><li><span class='ee-k'>type:</span><span class='ee-v'>LinearRing</span></li><li><label class='ee-shut'>coordinates: List (19 elements)<input type='checkbox' class='ee-toggle'></label><ul><li><label class='ee-shut'>0: [-107.03979732484787, 40.594609076717774]<input type='checkbox' class='ee-toggle'></label><ul><li><span class='ee-k'>0:</span><span class='ee-v'>-107.03979732484787</span></li><li><span class='ee-k'>1:</span><span class='ee-v'>40.594609076717774</span></li></ul></li><li><label class='ee-shut'>1: [-107.03979453151992, 40.59464309748227]<input type='checkbox' class='ee-toggle'></label><ul><li><span class='ee-k'>0:</span><span class='ee-v'>-107.03979453151992</span></li><li><span class='ee-k'>1:</span><span class='ee-v'>40.59464309748227</span></li></ul></li><li><label class='ee-shut'>2: [-107.0397938106611, 40.73127688959935]<input type='checkbox' class='ee-toggle'></label><ul><li><span class='ee-k'>0:</span><span class='ee-v'>-107.0397938106611</span></li><li><span class='ee-k'>1:</span><span class='ee-v'>40.73127688959935</span></li></ul></li><li><label class='ee-shut'>3: [-107.03993852311338, 40.731401210928254]<input type='checkbox' class='ee-toggle'></label><ul><li><span class='ee-k'>0:</span><span class='ee-v'>-107.03993852311338</span></li><li><span class='ee-k'>1:</span><span class='ee-v'>40.731401210928254</span></li></ul></li><li><label class='ee-shut'>4: [-107.04006133954168, 40.73153831952828]<input type='checkbox' class='ee-toggle'></label><ul><li><span class='ee-k'>0:</span><span class='ee-v'>-107.04006133954168</span></li><li><span class='ee-k'>1:</span><span class='ee-v'>40.73153831952828</span></li></ul></li><li><label class='ee-shut'>5: [-107.04011999950164, 40.731546790404195]<input type='checkbox' class='ee-toggle'></label><ul><li><span class='ee-k'>0:</span><span class='ee-v'>-107.04011999950164</span></li><li><span class='ee-k'>1:</span><span class='ee-v'>40.731546790404195</span></li></ul></li><li><label class='ee-shut'>6: [-107.21316592713751, 40.73154681803398]<input type='checkbox' class='ee-toggle'></label><ul><li><span class='ee-k'>0:</span><span class='ee-v'>-107.21316592713751</span></li><li><span class='ee-k'>1:</span><span class='ee-v'>40.73154681803398</span></li></ul></li><li><label class='ee-shut'>7: [-107.2133298599634, 40.73143705613687]<input type='checkbox' class='ee-toggle'></label><ul><li><span class='ee-k'>0:</span><span class='ee-v'>-107.2133298599634</span></li><li><span class='ee-k'>1:</span><span class='ee-v'>40.73143705613687</span></li></ul></li><li><label class='ee-shut'>8: [-107.21351074526522, 40.731343850199686]<input type='checkbox' class='ee-toggle'></label><ul><li><span class='ee-k'>0:</span><span class='ee-v'>-107.21351074526522</span></li><li><span class='ee-k'>1:</span><span class='ee-v'>40.731343850199686</span></li></ul></li><li><label class='ee-shut'>9: [-107.2135218364421, 40.73129933803194]<input type='checkbox' class='ee-toggle'></label><ul><li><span class='ee-k'>0:</span><span class='ee-v'>-107.2135218364421</span></li><li><span class='ee-k'>1:</span><span class='ee-v'>40.73129933803194</span></li></ul></li><li><label class='ee-shut'>10: [-107.21352111506471, 40.594643092618114]<input type='checkbox' class='ee-toggle'></label><ul><li><span class='ee-k'>0:</span><span class='ee-v'>-107.21352111506471</span></li><li><span class='ee-k'>1:</span><span class='ee-v'>40.594643092618114</span></li></ul></li><li><label class='ee-shut'>11: [-107.21337656911636, 40.59451863611405]<input type='checkbox' class='ee-toggle'></label><ul><li><span class='ee-k'>0:</span><span class='ee-v'>-107.21337656911636</span></li><li><span class='ee-k'>1:</span><span class='ee-v'>40.59451863611405</span></li></ul></li><li><label class='ee-shut'>12: [-107.21325339403325, 40.594381496813625]<input type='checkbox' class='ee-toggle'></label><ul><li><span class='ee-k'>0:</span><span class='ee-v'>-107.21325339403325</span></li><li><span class='ee-k'>1:</span><span class='ee-v'>40.594381496813625</span></li></ul></li><li><label class='ee-shut'>13: [-107.21321002126973, 40.594375261998735]<input type='checkbox' class='ee-toggle'></label><ul><li><span class='ee-k'>0:</span><span class='ee-v'>-107.21321002126973</span></li><li><span class='ee-k'>1:</span><span class='ee-v'>40.594375261998735</span></li></ul></li><li><label class='ee-shut'>14: [-107.21316520576119, 40.594373162932044]<input type='checkbox' class='ee-toggle'></label><ul><li><span class='ee-k'>0:</span><span class='ee-v'>-107.21316520576119</span></li><li><span class='ee-k'>1:</span><span class='ee-v'>40.594373162932044</span></li></ul></li><li><label class='ee-shut'>15: [-107.04015045583068, 40.59437314645535]<input type='checkbox' class='ee-toggle'></label><ul><li><span class='ee-k'>0:</span><span class='ee-v'>-107.04015045583068</span></li><li><span class='ee-k'>1:</span><span class='ee-v'>40.59437314645535</span></li></ul></li><li><label class='ee-shut'>16: [-107.03998637015161, 40.59448281869583]<input type='checkbox' class='ee-toggle'></label><ul><li><span class='ee-k'>0:</span><span class='ee-v'>-107.03998637015161</span></li><li><span class='ee-k'>1:</span><span class='ee-v'>40.59448281869583</span></li></ul></li><li><label class='ee-shut'>17: [-107.03980561472457, 40.59457618216907]<input type='checkbox' class='ee-toggle'></label><ul><li><span class='ee-k'>0:</span><span class='ee-v'>-107.03980561472457</span></li><li><span class='ee-k'>1:</span><span class='ee-v'>40.59457618216907</span></li></ul></li><li><label class='ee-shut'>18: [-107.03979732484787, 40.594609076717774]<input type='checkbox' class='ee-toggle'></label><ul><li><span class='ee-k'>0:</span><span class='ee-v'>-107.03979732484787</span></li><li><span class='ee-k'>1:</span><span class='ee-v'>40.594609076717774</span></li></ul></li></ul></li></ul></li></ul></li></ul></li></ul></div><script>function toggleHeader() {\n",
       "    const parent = this.parentElement;\n",
       "    parent.className = parent.className === \"ee-open\" ? \"ee-shut\" : \"ee-open\";\n",
       "}\n",
       "\n",
       "for (let c of document.getElementsByClassName(\"ee-toggle\")) {\n",
       "    c.onclick = toggleHeader;\n",
       "}</script></div>"
      ],
      "text/plain": [
       "<ee.image.Image at 0x14931a8c0>"
      ]
     },
     "execution_count": 9,
     "metadata": {},
     "output_type": "execute_result"
    }
   ],
   "source": [
    "cbi_image_list[1]"
   ]
  },
  {
   "cell_type": "code",
   "execution_count": 13,
   "id": "65fa740f-64e9-476f-8ef4-07e2a0418f32",
   "metadata": {},
   "outputs": [
    {
     "data": {
      "text/html": [
       "\n",
       "            <style>\n",
       "                .geemap-dark {\n",
       "                    --jp-widgets-color: white;\n",
       "                    --jp-widgets-label-color: white;\n",
       "                    --jp-ui-font-color1: white;\n",
       "                    --jp-layout-color2: #454545;\n",
       "                    background-color: #383838;\n",
       "                }\n",
       "\n",
       "                .geemap-dark .jupyter-button {\n",
       "                    --jp-layout-color3: #383838;\n",
       "                }\n",
       "\n",
       "                .geemap-colab {\n",
       "                    background-color: var(--colab-primary-surface-color, white);\n",
       "                }\n",
       "\n",
       "                .geemap-colab .jupyter-button {\n",
       "                    --jp-layout-color3: var(--colab-primary-surface-color, white);\n",
       "                }\n",
       "            </style>\n",
       "            "
      ],
      "text/plain": [
       "<IPython.core.display.HTML object>"
      ]
     },
     "metadata": {},
     "output_type": "display_data"
    },
    {
     "name": "stderr",
     "output_type": "stream",
     "text": [
      "Processing Fires: 100%|████████████████████████████████████████████████████████████████████████████████████████████████████████████| 100/100 [00:12<00:00,  8.16it/s]\n"
     ]
    },
    {
     "name": "stdout",
     "output_type": "stream",
     "text": [
      "Export to Earth Engine Asset started!\n",
      "Waiting for export to finish..\n",
      "\tPatience young padawan.\n",
      "Waiting for export to finish..\n",
      "\tPatience young padawan.\n",
      "Waiting for export to finish..\n",
      "\tPatience young padawan.\n",
      "Waiting for export to finish..\n",
      "\tPatience young padawan.\n",
      "Waiting for export to finish..\n",
      "\tPatience young padawan.\n",
      "Waiting for export to finish..\n",
      "\tPatience young padawan.\n",
      "Waiting for export to finish..\n",
      "\tPatience young padawan.\n",
      "Waiting for export to finish..\n",
      "\tPatience young padawan.\n",
      "Waiting for export to finish..\n",
      "\tPatience young padawan.\n",
      "Waiting for export to finish..\n",
      "\tPatience young padawan.\n",
      "Waiting for export to finish..\n",
      "\tPatience young padawan.\n",
      "Waiting for export to finish..\n",
      "\tPatience young padawan.\n",
      "Waiting for export to finish..\n",
      "\tPatience young padawan.\n",
      "Waiting for export to finish..\n",
      "\tPatience young padawan.\n",
      "Waiting for export to finish..\n",
      "\tPatience young padawan.\n",
      "Waiting for export to finish..\n",
      "\tPatience young padawan.\n",
      "Waiting for export to finish..\n",
      "\tPatience young padawan.\n",
      "Waiting for export to finish..\n",
      "\tPatience young padawan.\n",
      "Waiting for export to finish..\n",
      "\tPatience young padawan.\n",
      "Waiting for export to finish..\n",
      "\tPatience young padawan.\n",
      "Waiting for export to finish..\n",
      "\tPatience young padawan.\n",
      "Waiting for export to finish..\n",
      "\tPatience young padawan.\n",
      "Waiting for export to finish..\n",
      "\tPatience young padawan.\n",
      "Waiting for export to finish..\n",
      "\tPatience young padawan.\n",
      "Waiting for export to finish..\n",
      "\tPatience young padawan.\n",
      "Waiting for export to finish..\n",
      "\tPatience young padawan.\n",
      "Waiting for export to finish..\n",
      "\tPatience young padawan.\n",
      "Export completed successfully !!!!\n"
     ]
    }
   ],
   "source": [
    "# Initialize export tasks for all fires\n",
    "# Initialize an empty collection to hold all results\n",
    "all_fires_stats = ee.FeatureCollection([])\n",
    "for cbi_image in tqdm(cbi_image_list, desc=\"Processing Fires\"):\n",
    "    \n",
    "    # Extract Fire ID from the image file name\n",
    "    fire_id = cbi_image.get('fireID').getInfo()\n",
    "    # Filter grid cells for this fire\n",
    "    fire_grid = grid.filter(ee.Filter.eq(\"Fire_ID\", fire_id))\n",
    "\n",
    "    # Calculate mean/stdDev and percentiles\n",
    "    average_stats = calculate_average(cbi_image, fire_grid, fire_id)\n",
    "    extremes_stats = calculate_extremes(cbi_image, fire_grid, fire_id)\n",
    "\n",
    "    # Merge results\n",
    "    stats = merge_collections(average_stats, extremes_stats)\n",
    "\n",
    "    # Add to the global collection\n",
    "    all_fires_stats = all_fires_stats.merge(stats)\n",
    "\n",
    "# export table to Drive.\n",
    "export_task = ee.batch.Export.table.toDrive(\n",
    "    collection=all_fires_stats,\n",
    "    description='gridstats_cbibc',\n",
    "    fileNamePrefix='gridstats_cbibc',\n",
    "    fileFormat='CSV', \n",
    "    folder='CBI'\n",
    ")\n",
    "\n",
    "export_task.start()\n",
    "print(\"Export to Earth Engine Asset started!\")\n",
    "monitor_export(export_task, 120)"
   ]
  }
 ],
 "metadata": {
  "kernelspec": {
   "display_name": "aspen-fire",
   "language": "python",
   "name": "aspen-fire"
  },
  "language_info": {
   "codemirror_mode": {
    "name": "ipython",
    "version": 3
   },
   "file_extension": ".py",
   "mimetype": "text/x-python",
   "name": "python",
   "nbconvert_exporter": "python",
   "pygments_lexer": "ipython3",
   "version": "3.10.12"
  }
 },
 "nbformat": 4,
 "nbformat_minor": 5
}
