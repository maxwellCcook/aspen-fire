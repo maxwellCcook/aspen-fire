{
 "cells": [
  {
   "cell_type": "code",
   "execution_count": 1,
   "id": "e8875da6-de28-494e-8590-5deff24c959f",
   "metadata": {},
   "outputs": [
    {
     "name": "stdout",
     "output_type": "stream",
     "text": [
      "Success !\n"
     ]
    }
   ],
   "source": [
    "\"\"\"\n",
    "Calculate fire severity statistics within AFD observations from MODIS and VIIRS.\n",
    "Severity index: Composite Burn Severity (CBI), calculated in GEE via Parks (2018)\n",
    "\n",
    "Author: maxwell.cook@colorado.edu\n",
    "\"\"\"\n",
    "\n",
    "import os, sys\n",
    "import ee\n",
    "import geemap\n",
    "import time\n",
    "\n",
    "# Custom functions\n",
    "sys.path.append(os.path.join(os.getcwd(),'code/'))\n",
    "from __functions import *\n",
    "\n",
    "ee.Authenticate()\n",
    "ee.Initialize(project='jfsp-aspen')\n",
    "\n",
    "print(\"Success !\")"
   ]
  },
  {
   "cell_type": "code",
   "execution_count": 2,
   "id": "630cba3c-2a17-432d-83aa-db242a71dcbe",
   "metadata": {},
   "outputs": [
    {
     "data": {
      "text/html": [
       "\n",
       "            <style>\n",
       "                .geemap-dark {\n",
       "                    --jp-widgets-color: white;\n",
       "                    --jp-widgets-label-color: white;\n",
       "                    --jp-ui-font-color1: white;\n",
       "                    --jp-layout-color2: #454545;\n",
       "                    background-color: #383838;\n",
       "                }\n",
       "\n",
       "                .geemap-dark .jupyter-button {\n",
       "                    --jp-layout-color3: #383838;\n",
       "                }\n",
       "\n",
       "                .geemap-colab {\n",
       "                    background-color: var(--colab-primary-surface-color, white);\n",
       "                }\n",
       "\n",
       "                .geemap-colab .jupyter-button {\n",
       "                    --jp-layout-color3: var(--colab-primary-surface-color, white);\n",
       "                }\n",
       "            </style>\n",
       "            "
      ],
      "text/plain": [
       "<IPython.core.display.HTML object>"
      ]
     },
     "metadata": {},
     "output_type": "display_data"
    },
    {
     "name": "stdout",
     "output_type": "stream",
     "text": [
      "Number of grid cells: 55936\n",
      "['system:index', 'grid_index']\n"
     ]
    }
   ],
   "source": [
    "# Load the gridded FRP data\n",
    "grid = ee.FeatureCollection('projects/jfsp-aspen/assets/viirs_snpp_jpss1_afd_gridstats')\n",
    "print(f\"Number of grid cells: {grid.size().getInfo()}\")\n",
    "grid = grid.select(['grid_index'])\n",
    "print(grid.first().propertyNames().getInfo())"
   ]
  },
  {
   "cell_type": "code",
   "execution_count": 3,
   "id": "fbfaa245-9531-4093-9164-cad232b809d7",
   "metadata": {},
   "outputs": [
    {
     "data": {
      "text/html": [
       "\n",
       "            <style>\n",
       "                .geemap-dark {\n",
       "                    --jp-widgets-color: white;\n",
       "                    --jp-widgets-label-color: white;\n",
       "                    --jp-ui-font-color1: white;\n",
       "                    --jp-layout-color2: #454545;\n",
       "                    background-color: #383838;\n",
       "                }\n",
       "\n",
       "                .geemap-dark .jupyter-button {\n",
       "                    --jp-layout-color3: #383838;\n",
       "                }\n",
       "\n",
       "                .geemap-colab {\n",
       "                    background-color: var(--colab-primary-surface-color, white);\n",
       "                }\n",
       "\n",
       "                .geemap-colab .jupyter-button {\n",
       "                    --jp-layout-color3: var(--colab-primary-surface-color, white);\n",
       "                }\n",
       "            </style>\n",
       "            "
      ],
      "text/plain": [
       "<IPython.core.display.HTML object>"
      ]
     },
     "metadata": {},
     "output_type": "display_data"
    },
    {
     "name": "stdout",
     "output_type": "stream",
     "text": [
      "['elev', 'slope', 'tpi', 'chili']\n"
     ]
    }
   ],
   "source": [
    "# Load topographic collections\n",
    "\n",
    "# USGS NED 10-m DEM\n",
    "dem = ee.Image(\"USGS/3DEP/10m\")\n",
    "slope = ee.Terrain.slope(dem) # calculate slope from DEM\n",
    "dem = dem.rename('elev') # rename the elevation band\n",
    "\n",
    "# Topographic Position Index (TPI) (USGS NED 10m-based)\n",
    "tpi = ee.Image(\"CSP/ERGo/1_0/US/mTPI\").rename('tpi')\n",
    "\n",
    "# Continuous Heat-Insolation Load Index (CHILI)\n",
    "chili = ee.Image(\"CSP/ERGo/1_0/US/CHILI\").rename('chili')\n",
    "\n",
    "# combine topographic variables\n",
    "topo = dem.addBands([slope,tpi,chili])\n",
    "print(topo.bandNames().getInfo())"
   ]
  },
  {
   "cell_type": "code",
   "execution_count": 4,
   "id": "19d56c44-c07d-4af7-9494-c5ae7e7ed863",
   "metadata": {},
   "outputs": [
    {
     "data": {
      "text/html": [
       "\n",
       "            <style>\n",
       "                .geemap-dark {\n",
       "                    --jp-widgets-color: white;\n",
       "                    --jp-widgets-label-color: white;\n",
       "                    --jp-ui-font-color1: white;\n",
       "                    --jp-layout-color2: #454545;\n",
       "                    background-color: #383838;\n",
       "                }\n",
       "\n",
       "                .geemap-dark .jupyter-button {\n",
       "                    --jp-layout-color3: #383838;\n",
       "                }\n",
       "\n",
       "                .geemap-colab {\n",
       "                    background-color: var(--colab-primary-surface-color, white);\n",
       "                }\n",
       "\n",
       "                .geemap-colab .jupyter-button {\n",
       "                    --jp-layout-color3: var(--colab-primary-surface-color, white);\n",
       "                }\n",
       "            </style>\n",
       "            "
      ],
      "text/plain": [
       "<IPython.core.display.HTML object>"
      ]
     },
     "metadata": {},
     "output_type": "display_data"
    },
    {
     "data": {
      "text/html": [
       "<div><style>:root {\n",
       "  --font-color-primary: var(--jp-content-font-color0, rgba(0, 0, 0, 1));\n",
       "  --font-color-secondary: var(--jp-content-font-color2, rgba(0, 0, 0, 0.6));\n",
       "  --font-color-accent: rgba(123, 31, 162, 1);\n",
       "  --border-color: var(--jp-border-color2, #e0e0e0);\n",
       "  --background-color: var(--jp-layout-color0, white);\n",
       "  --background-color-row-even: var(--jp-layout-color1, white);\n",
       "  --background-color-row-odd: var(--jp-layout-color2, #eeeeee);\n",
       "}\n",
       "\n",
       "html[theme=\"dark\"],\n",
       "body[data-theme=\"dark\"],\n",
       "body.vscode-dark {\n",
       "  --font-color-primary: rgba(255, 255, 255, 1);\n",
       "  --font-color-secondary: rgba(255, 255, 255, 0.6);\n",
       "  --font-color-accent: rgb(173, 132, 190);\n",
       "  --border-color: #2e2e2e;\n",
       "  --background-color: #111111;\n",
       "  --background-color-row-even: #111111;\n",
       "  --background-color-row-odd: #313131;\n",
       "}\n",
       "\n",
       ".ee {\n",
       "  padding: 1em;\n",
       "  line-height: 1.5em;\n",
       "  min-width: 300px;\n",
       "  max-width: 1200px;\n",
       "  overflow-y: scroll;\n",
       "  max-height: 600px;\n",
       "  border: 1px solid var(--border-color);\n",
       "  font-family: monospace;\n",
       "}\n",
       "\n",
       ".ee li {\n",
       "  list-style-type: none;\n",
       "}\n",
       "\n",
       ".ee ul {\n",
       "  padding-left: 1.5em !important;\n",
       "  margin: 0;\n",
       "}\n",
       "\n",
       ".ee > ul {\n",
       "  padding-left: 0 !important;\n",
       "}\n",
       "\n",
       ".ee-open,\n",
       ".ee-shut {\n",
       "  color: var(--font-color-secondary);\n",
       "  cursor: pointer;\n",
       "  margin: 0;\n",
       "}\n",
       "\n",
       ".ee-open:hover,\n",
       ".ee-shut:hover {\n",
       "  color: var(--font-color-primary);\n",
       "}\n",
       "\n",
       ".ee-k {\n",
       "  color: var(--font-color-accent);\n",
       "  margin-right: 6px;\n",
       "}\n",
       "\n",
       ".ee-v {\n",
       "  color: var(--font-color-primary);\n",
       "}\n",
       "\n",
       ".ee-toggle {\n",
       "  display: none;\n",
       "}\n",
       "\n",
       ".ee-shut + ul {\n",
       "  display: none;\n",
       "}\n",
       "\n",
       ".ee-open + ul {\n",
       "  display: block;\n",
       "}\n",
       "\n",
       ".ee-shut::before {\n",
       "  display: inline-block;\n",
       "  content: \"▼\";\n",
       "  margin-right: 6px;\n",
       "  transform: rotate(-90deg);\n",
       "  transition: transform 0.2s;\n",
       "}\n",
       "\n",
       ".ee-open::before {\n",
       "  transform: rotate(0deg);\n",
       "  display: inline-block;\n",
       "  content: \"▼\";\n",
       "  margin-right: 6px;\n",
       "  transition: transform 0.2s;\n",
       "}\n",
       "</style><div class='ee'><ul><li><label class='ee-shut'>FeatureCollection (10 elements, 4 columns)<input type='checkbox' class='ee-toggle'></label><ul><li><span class='ee-k'>type:</span><span class='ee-v'>FeatureCollection</span></li><li><label class='ee-shut'>columns: Object (4 properties)<input type='checkbox' class='ee-toggle'></label><ul><li><span class='ee-k'>chili:</span><span class='ee-v'>Float<0.0, 255.0></span></li><li><span class='ee-k'>elev:</span><span class='ee-v'>Float</span></li><li><span class='ee-k'>slope:</span><span class='ee-v'>Float<0.0, 90.0></span></li><li><span class='ee-k'>tpi:</span><span class='ee-v'>Float<-2.147483648E9, 2.147483647E9></span></li></ul></li><li><label class='ee-shut'>features: List (10 elements)<input type='checkbox' class='ee-toggle'></label><ul><li><label class='ee-shut'>0: Feature (Polygon, 5 properties)<input type='checkbox' class='ee-toggle'></label><ul><li><span class='ee-k'>type:</span><span class='ee-v'>Feature</span></li><li><span class='ee-k'>id:</span><span class='ee-v'>00000000000000001beb</span></li><li><label class='ee-shut'>geometry: Polygon (5 vertices)<input type='checkbox' class='ee-toggle'></label><ul><li><span class='ee-k'>type:</span><span class='ee-v'>Polygon</span></li><li><label class='ee-shut'>coordinates: List (1 element)<input type='checkbox' class='ee-toggle'></label><ul><li><label class='ee-shut'>0: List (5 elements)<input type='checkbox' class='ee-toggle'></label><ul><li><label class='ee-shut'>0: [-106.20532592330929, 36.60924635919288]<input type='checkbox' class='ee-toggle'></label><ul><li><span class='ee-k'>0:</span><span class='ee-v'>-106.20532592330929</span></li><li><span class='ee-k'>1:</span><span class='ee-v'>36.60924635919288</span></li></ul></li><li><label class='ee-shut'>1: [-106.2011214037673, 36.60960483630097]<input type='checkbox' class='ee-toggle'></label><ul><li><span class='ee-k'>0:</span><span class='ee-v'>-106.2011214037673</span></li><li><span class='ee-k'>1:</span><span class='ee-v'>36.60960483630097</span></li></ul></li><li><label class='ee-shut'>2: [-106.2015750445493, 36.61293541546794]<input type='checkbox' class='ee-toggle'></label><ul><li><span class='ee-k'>0:</span><span class='ee-v'>-106.2015750445493</span></li><li><span class='ee-k'>1:</span><span class='ee-v'>36.61293541546794</span></li></ul></li><li><label class='ee-shut'>3: [-106.20577984295652, 36.61257685148951]<input type='checkbox' class='ee-toggle'></label><ul><li><span class='ee-k'>0:</span><span class='ee-v'>-106.20577984295652</span></li><li><span class='ee-k'>1:</span><span class='ee-v'>36.61257685148951</span></li></ul></li><li><label class='ee-shut'>4: [-106.20532592330929, 36.60924635919288]<input type='checkbox' class='ee-toggle'></label><ul><li><span class='ee-k'>0:</span><span class='ee-v'>-106.20532592330929</span></li><li><span class='ee-k'>1:</span><span class='ee-v'>36.60924635919288</span></li></ul></li></ul></li></ul></li></ul></li><li><label class='ee-shut'>properties: Object (5 properties)<input type='checkbox' class='ee-toggle'></label><ul><li><span class='ee-k'>chili:</span><span class='ee-v'>140.60909770599204</span></li><li><span class='ee-k'>elev:</span><span class='ee-v'>2582.5631391093525</span></li><li><span class='ee-k'>grid_index:</span><span class='ee-v'>1690163</span></li><li><span class='ee-k'>slope:</span><span class='ee-v'>23.083302842717483</span></li><li><span class='ee-k'>tpi:</span><span class='ee-v'>-26.44755349322954</span></li></ul></li></ul></li><li><label class='ee-shut'>1: Feature (Polygon, 5 properties)<input type='checkbox' class='ee-toggle'></label><ul><li><span class='ee-k'>type:</span><span class='ee-v'>Feature</span></li><li><span class='ee-k'>id:</span><span class='ee-v'>00000000000000001bec</span></li><li><label class='ee-shut'>geometry: Polygon (5 vertices)<input type='checkbox' class='ee-toggle'></label><ul><li><span class='ee-k'>type:</span><span class='ee-v'>Polygon</span></li><li><label class='ee-shut'>coordinates: List (1 element)<input type='checkbox' class='ee-toggle'></label><ul><li><label class='ee-shut'>0: List (5 elements)<input type='checkbox' class='ee-toggle'></label><ul><li><label class='ee-shut'>0: [-106.2015750445493, 36.61293541546794]<input type='checkbox' class='ee-toggle'></label><ul><li><span class='ee-k'>0:</span><span class='ee-v'>-106.2015750445493</span></li><li><span class='ee-k'>1:</span><span class='ee-v'>36.61293541546794</span></li></ul></li><li><label class='ee-shut'>1: [-106.20202823757026, 36.61626148654905]<input type='checkbox' class='ee-toggle'></label><ul><li><span class='ee-k'>0:</span><span class='ee-v'>-106.20202823757026</span></li><li><span class='ee-k'>1:</span><span class='ee-v'>36.61626148654905</span></li></ul></li><li><label class='ee-shut'>2: [-106.20623313531173, 36.61590294095791]<input type='checkbox' class='ee-toggle'></label><ul><li><span class='ee-k'>0:</span><span class='ee-v'>-106.20623313531173</span></li><li><span class='ee-k'>1:</span><span class='ee-v'>36.61590294095791</span></li></ul></li><li><label class='ee-shut'>3: [-106.20577984295652, 36.61257685148951]<input type='checkbox' class='ee-toggle'></label><ul><li><span class='ee-k'>0:</span><span class='ee-v'>-106.20577984295652</span></li><li><span class='ee-k'>1:</span><span class='ee-v'>36.61257685148951</span></li></ul></li><li><label class='ee-shut'>4: [-106.2015750445493, 36.61293541546794]<input type='checkbox' class='ee-toggle'></label><ul><li><span class='ee-k'>0:</span><span class='ee-v'>-106.2015750445493</span></li><li><span class='ee-k'>1:</span><span class='ee-v'>36.61293541546794</span></li></ul></li></ul></li></ul></li></ul></li><li><label class='ee-shut'>properties: Object (5 properties)<input type='checkbox' class='ee-toggle'></label><ul><li><span class='ee-k'>chili:</span><span class='ee-v'>203.58598620152057</span></li><li><span class='ee-k'>elev:</span><span class='ee-v'>2555.089161690241</span></li><li><span class='ee-k'>grid_index:</span><span class='ee-v'>1690164</span></li><li><span class='ee-k'>slope:</span><span class='ee-v'>14.256137157187759</span></li><li><span class='ee-k'>tpi:</span><span class='ee-v'>-54.599592177217524</span></li></ul></li></ul></li><li><label class='ee-shut'>2: Feature (Polygon, 5 properties)<input type='checkbox' class='ee-toggle'></label><ul><li><span class='ee-k'>type:</span><span class='ee-v'>Feature</span></li><li><span class='ee-k'>id:</span><span class='ee-v'>00000000000000001bf0</span></li><li><label class='ee-shut'>geometry: Polygon (5 vertices)<input type='checkbox' class='ee-toggle'></label><ul><li><span class='ee-k'>type:</span><span class='ee-v'>Polygon</span></li><li><label class='ee-shut'>coordinates: List (1 element)<input type='checkbox' class='ee-toggle'></label><ul><li><label class='ee-shut'>0: List (5 elements)<input type='checkbox' class='ee-toggle'></label><ul><li><label class='ee-shut'>0: [-106.2015750445493, 36.61293541546794]<input type='checkbox' class='ee-toggle'></label><ul><li><span class='ee-k'>0:</span><span class='ee-v'>-106.2015750445493</span></li><li><span class='ee-k'>1:</span><span class='ee-v'>36.61293541546794</span></li></ul></li><li><label class='ee-shut'>1: [-106.19736477006973, 36.61329417976501]<input type='checkbox' class='ee-toggle'></label><ul><li><span class='ee-k'>0:</span><span class='ee-v'>-106.19736477006973</span></li><li><span class='ee-k'>1:</span><span class='ee-v'>36.61329417976501</span></li></ul></li><li><label class='ee-shut'>2: [-106.19781768422587, 36.61662033769807]<input type='checkbox' class='ee-toggle'></label><ul><li><span class='ee-k'>0:</span><span class='ee-v'>-106.19781768422587</span></li><li><span class='ee-k'>1:</span><span class='ee-v'>36.61662033769807</span></li></ul></li><li><label class='ee-shut'>3: [-106.20202823757026, 36.61626148654905]<input type='checkbox' class='ee-toggle'></label><ul><li><span class='ee-k'>0:</span><span class='ee-v'>-106.20202823757026</span></li><li><span class='ee-k'>1:</span><span class='ee-v'>36.61626148654905</span></li></ul></li><li><label class='ee-shut'>4: [-106.2015750445493, 36.61293541546794]<input type='checkbox' class='ee-toggle'></label><ul><li><span class='ee-k'>0:</span><span class='ee-v'>-106.2015750445493</span></li><li><span class='ee-k'>1:</span><span class='ee-v'>36.61293541546794</span></li></ul></li></ul></li></ul></li></ul></li><li><label class='ee-shut'>properties: Object (5 properties)<input type='checkbox' class='ee-toggle'></label><ul><li><span class='ee-k'>chili:</span><span class='ee-v'>203.95143960449155</span></li><li><span class='ee-k'>elev:</span><span class='ee-v'>2569.047134297903</span></li><li><span class='ee-k'>grid_index:</span><span class='ee-v'>1692414</span></li><li><span class='ee-k'>slope:</span><span class='ee-v'>20.85728134041769</span></li><li><span class='ee-k'>tpi:</span><span class='ee-v'>-38.7805478353124</span></li></ul></li></ul></li><li><label class='ee-shut'>3: Feature (Polygon, 5 properties)<input type='checkbox' class='ee-toggle'></label><ul><li><span class='ee-k'>type:</span><span class='ee-v'>Feature</span></li><li><span class='ee-k'>id:</span><span class='ee-v'>00000000000000001bf9</span></li><li><label class='ee-shut'>geometry: Polygon (5 vertices)<input type='checkbox' class='ee-toggle'></label><ul><li><span class='ee-k'>type:</span><span class='ee-v'>Polygon</span></li><li><label class='ee-shut'>coordinates: List (1 element)<input type='checkbox' class='ee-toggle'></label><ul><li><label class='ee-shut'>0: List (5 elements)<input type='checkbox' class='ee-toggle'></label><ul><li><label class='ee-shut'>0: [-106.19736477006973, 36.61329417976501]<input type='checkbox' class='ee-toggle'></label><ul><li><span class='ee-k'>0:</span><span class='ee-v'>-106.19736477006973</span></li><li><span class='ee-k'>1:</span><span class='ee-v'>36.61329417976501</span></li></ul></li><li><label class='ee-shut'>1: [-106.19315988030216, 36.61365243612049]<input type='checkbox' class='ee-toggle'></label><ul><li><span class='ee-k'>0:</span><span class='ee-v'>-106.19315988030216</span></li><li><span class='ee-k'>1:</span><span class='ee-v'>36.61365243612049</span></li></ul></li><li><label class='ee-shut'>2: [-106.19361269512012, 36.61697849541002]<input type='checkbox' class='ee-toggle'></label><ul><li><span class='ee-k'>0:</span><span class='ee-v'>-106.19361269512012</span></li><li><span class='ee-k'>1:</span><span class='ee-v'>36.61697849541002</span></li></ul></li><li><label class='ee-shut'>3: [-106.19781768422587, 36.61662033769807]<input type='checkbox' class='ee-toggle'></label><ul><li><span class='ee-k'>0:</span><span class='ee-v'>-106.19781768422587</span></li><li><span class='ee-k'>1:</span><span class='ee-v'>36.61662033769807</span></li></ul></li><li><label class='ee-shut'>4: [-106.19736477006973, 36.61329417976501]<input type='checkbox' class='ee-toggle'></label><ul><li><span class='ee-k'>0:</span><span class='ee-v'>-106.19736477006973</span></li><li><span class='ee-k'>1:</span><span class='ee-v'>36.61329417976501</span></li></ul></li></ul></li></ul></li></ul></li><li><label class='ee-shut'>properties: Object (5 properties)<input type='checkbox' class='ee-toggle'></label><ul><li><span class='ee-k'>chili:</span><span class='ee-v'>200.49034757293083</span></li><li><span class='ee-k'>elev:</span><span class='ee-v'>2655.694351893456</span></li><li><span class='ee-k'>grid_index:</span><span class='ee-v'>1694664</span></li><li><span class='ee-k'>slope:</span><span class='ee-v'>20.699787966996542</span></li><li><span class='ee-k'>tpi:</span><span class='ee-v'>0.13800011882835223</span></li></ul></li></ul></li><li><label class='ee-shut'>4: Feature (Polygon, 5 properties)<input type='checkbox' class='ee-toggle'></label><ul><li><span class='ee-k'>type:</span><span class='ee-v'>Feature</span></li><li><span class='ee-k'>id:</span><span class='ee-v'>00000000000000001bee</span></li><li><label class='ee-shut'>geometry: Polygon (5 vertices)<input type='checkbox' class='ee-toggle'></label><ul><li><span class='ee-k'>type:</span><span class='ee-v'>Polygon</span></li><li><label class='ee-shut'>coordinates: List (1 element)<input type='checkbox' class='ee-toggle'></label><ul><li><label class='ee-shut'>0: List (5 elements)<input type='checkbox' class='ee-toggle'></label><ul><li><label class='ee-shut'>0: [-106.2011214037673, 36.60960483630097]<input type='checkbox' class='ee-toggle'></label><ul><li><span class='ee-k'>0:</span><span class='ee-v'>-106.2011214037673</span></li><li><span class='ee-k'>1:</span><span class='ee-v'>36.60960483630097</span></li></ul></li><li><label class='ee-shut'>1: [-106.2006683025704, 36.60627875740705]<input type='checkbox' class='ee-toggle'></label><ul><li><span class='ee-k'>0:</span><span class='ee-v'>-106.2006683025704</span></li><li><span class='ee-k'>1:</span><span class='ee-v'>36.60627875740705</span></li></ul></li><li><label class='ee-shut'>2: [-106.19645831655713, 36.60663754584692]<input type='checkbox' class='ee-toggle'></label><ul><li><span class='ee-k'>0:</span><span class='ee-v'>-106.19645831655713</span></li><li><span class='ee-k'>1:</span><span class='ee-v'>36.60663754584692</span></li></ul></li><li><label class='ee-shut'>3: [-106.1969112286481, 36.60996369910287]<input type='checkbox' class='ee-toggle'></label><ul><li><span class='ee-k'>0:</span><span class='ee-v'>-106.1969112286481</span></li><li><span class='ee-k'>1:</span><span class='ee-v'>36.60996369910287</span></li></ul></li><li><label class='ee-shut'>4: [-106.2011214037673, 36.60960483630097]<input type='checkbox' class='ee-toggle'></label><ul><li><span class='ee-k'>0:</span><span class='ee-v'>-106.2011214037673</span></li><li><span class='ee-k'>1:</span><span class='ee-v'>36.60960483630097</span></li></ul></li></ul></li></ul></li></ul></li><li><label class='ee-shut'>properties: Object (5 properties)<input type='checkbox' class='ee-toggle'></label><ul><li><span class='ee-k'>chili:</span><span class='ee-v'>166.78997851861516</span></li><li><span class='ee-k'>elev:</span><span class='ee-v'>2537.127994477384</span></li><li><span class='ee-k'>grid_index:</span><span class='ee-v'>1692412</span></li><li><span class='ee-k'>slope:</span><span class='ee-v'>24.2648474272362</span></li><li><span class='ee-k'>tpi:</span><span class='ee-v'>-53.77844265894449</span></li></ul></li></ul></li><li><label class='ee-shut'>5: Feature (Polygon, 5 properties)<input type='checkbox' class='ee-toggle'></label><ul><li><span class='ee-k'>type:</span><span class='ee-v'>Feature</span></li><li><span class='ee-k'>id:</span><span class='ee-v'>00000000000000001bef</span></li><li><label class='ee-shut'>geometry: Polygon (5 vertices)<input type='checkbox' class='ee-toggle'></label><ul><li><span class='ee-k'>type:</span><span class='ee-v'>Polygon</span></li><li><label class='ee-shut'>coordinates: List (1 element)<input type='checkbox' class='ee-toggle'></label><ul><li><label class='ee-shut'>0: List (5 elements)<input type='checkbox' class='ee-toggle'></label><ul><li><label class='ee-shut'>0: [-106.2011214037673, 36.60960483630097]<input type='checkbox' class='ee-toggle'></label><ul><li><span class='ee-k'>0:</span><span class='ee-v'>-106.2011214037673</span></li><li><span class='ee-k'>1:</span><span class='ee-v'>36.60960483630097</span></li></ul></li><li><label class='ee-shut'>1: [-106.1969112286481, 36.60996369910287]<input type='checkbox' class='ee-toggle'></label><ul><li><span class='ee-k'>0:</span><span class='ee-v'>-106.1969112286481</span></li><li><span class='ee-k'>1:</span><span class='ee-v'>36.60996369910287</span></li></ul></li><li><label class='ee-shut'>2: [-106.19736477006973, 36.61329417976501]<input type='checkbox' class='ee-toggle'></label><ul><li><span class='ee-k'>0:</span><span class='ee-v'>-106.19736477006973</span></li><li><span class='ee-k'>1:</span><span class='ee-v'>36.61329417976501</span></li></ul></li><li><label class='ee-shut'>3: [-106.2015750445493, 36.61293541546794]<input type='checkbox' class='ee-toggle'></label><ul><li><span class='ee-k'>0:</span><span class='ee-v'>-106.2015750445493</span></li><li><span class='ee-k'>1:</span><span class='ee-v'>36.61293541546794</span></li></ul></li><li><label class='ee-shut'>4: [-106.2011214037673, 36.60960483630097]<input type='checkbox' class='ee-toggle'></label><ul><li><span class='ee-k'>0:</span><span class='ee-v'>-106.2011214037673</span></li><li><span class='ee-k'>1:</span><span class='ee-v'>36.60960483630097</span></li></ul></li></ul></li></ul></li></ul></li><li><label class='ee-shut'>properties: Object (5 properties)<input type='checkbox' class='ee-toggle'></label><ul><li><span class='ee-k'>chili:</span><span class='ee-v'>210.50711480158452</span></li><li><span class='ee-k'>elev:</span><span class='ee-v'>2548.2750455582727</span></li><li><span class='ee-k'>grid_index:</span><span class='ee-v'>1692413</span></li><li><span class='ee-k'>slope:</span><span class='ee-v'>21.19449904630141</span></li><li><span class='ee-k'>tpi:</span><span class='ee-v'>-49.29005350027375</span></li></ul></li></ul></li><li><label class='ee-shut'>6: Feature (Polygon, 5 properties)<input type='checkbox' class='ee-toggle'></label><ul><li><span class='ee-k'>type:</span><span class='ee-v'>Feature</span></li><li><span class='ee-k'>id:</span><span class='ee-v'>00000000000000001bf8</span></li><li><label class='ee-shut'>geometry: Polygon (5 vertices)<input type='checkbox' class='ee-toggle'></label><ul><li><span class='ee-k'>type:</span><span class='ee-v'>Polygon</span></li><li><label class='ee-shut'>coordinates: List (1 element)<input type='checkbox' class='ee-toggle'></label><ul><li><label class='ee-shut'>0: List (5 elements)<input type='checkbox' class='ee-toggle'></label><ul><li><label class='ee-shut'>0: [-106.1969112286481, 36.60996369910287]<input type='checkbox' class='ee-toggle'></label><ul><li><span class='ee-k'>0:</span><span class='ee-v'>-106.1969112286481</span></li><li><span class='ee-k'>1:</span><span class='ee-v'>36.60996369910287</span></li></ul></li><li><label class='ee-shut'>1: [-106.19270661774212, 36.61032186863712]<input type='checkbox' class='ee-toggle'></label><ul><li><span class='ee-k'>0:</span><span class='ee-v'>-106.19270661774212</span></li><li><span class='ee-k'>1:</span><span class='ee-v'>36.61032186863712</span></li></ul></li><li><label class='ee-shut'>2: [-106.19315988030216, 36.61365243612049]<input type='checkbox' class='ee-toggle'></label><ul><li><span class='ee-k'>0:</span><span class='ee-v'>-106.19315988030216</span></li><li><span class='ee-k'>1:</span><span class='ee-v'>36.61365243612049</span></li></ul></li><li><label class='ee-shut'>3: [-106.19736477006973, 36.61329417976501]<input type='checkbox' class='ee-toggle'></label><ul><li><span class='ee-k'>0:</span><span class='ee-v'>-106.19736477006973</span></li><li><span class='ee-k'>1:</span><span class='ee-v'>36.61329417976501</span></li></ul></li><li><label class='ee-shut'>4: [-106.1969112286481, 36.60996369910287]<input type='checkbox' class='ee-toggle'></label><ul><li><span class='ee-k'>0:</span><span class='ee-v'>-106.1969112286481</span></li><li><span class='ee-k'>1:</span><span class='ee-v'>36.60996369910287</span></li></ul></li></ul></li></ul></li></ul></li><li><label class='ee-shut'>properties: Object (5 properties)<input type='checkbox' class='ee-toggle'></label><ul><li><span class='ee-k'>chili:</span><span class='ee-v'>208.75387478222905</span></li><li><span class='ee-k'>elev:</span><span class='ee-v'>2679.094278685094</span></li><li><span class='ee-k'>grid_index:</span><span class='ee-v'>1694663</span></li><li><span class='ee-k'>slope:</span><span class='ee-v'>20.896481373888527</span></li><li><span class='ee-k'>tpi:</span><span class='ee-v'>16.851224977095463</span></li></ul></li></ul></li><li><label class='ee-shut'>7: Feature (Polygon, 5 properties)<input type='checkbox' class='ee-toggle'></label><ul><li><span class='ee-k'>type:</span><span class='ee-v'>Feature</span></li><li><span class='ee-k'>id:</span><span class='ee-v'>00000000000000001c02</span></li><li><label class='ee-shut'>geometry: Polygon (5 vertices)<input type='checkbox' class='ee-toggle'></label><ul><li><span class='ee-k'>type:</span><span class='ee-v'>Polygon</span></li><li><label class='ee-shut'>coordinates: List (1 element)<input type='checkbox' class='ee-toggle'></label><ul><li><label class='ee-shut'>0: List (5 elements)<input type='checkbox' class='ee-toggle'></label><ul><li><label class='ee-shut'>0: [-106.19315988030216, 36.61365243612049]<input type='checkbox' class='ee-toggle'></label><ul><li><span class='ee-k'>0:</span><span class='ee-v'>-106.19315988030216</span></li><li><span class='ee-k'>1:</span><span class='ee-v'>36.61365243612049</span></li></ul></li><li><label class='ee-shut'>1: [-106.18894942509259, 36.61401098502484]<input type='checkbox' class='ee-toggle'></label><ul><li><span class='ee-k'>0:</span><span class='ee-v'>-106.18894942509259</span></li><li><span class='ee-k'>1:</span><span class='ee-v'>36.61401098502484</span></li></ul></li><li><label class='ee-shut'>2: [-106.18940205080257, 36.61733711863931]<input type='checkbox' class='ee-toggle'></label><ul><li><span class='ee-k'>0:</span><span class='ee-v'>-106.18940205080257</span></li><li><span class='ee-k'>1:</span><span class='ee-v'>36.61733711863931</span></li></ul></li><li><label class='ee-shut'>3: [-106.19361269512012, 36.61697849541002]<input type='checkbox' class='ee-toggle'></label><ul><li><span class='ee-k'>0:</span><span class='ee-v'>-106.19361269512012</span></li><li><span class='ee-k'>1:</span><span class='ee-v'>36.61697849541002</span></li></ul></li><li><label class='ee-shut'>4: [-106.19315988030216, 36.61365243612049]<input type='checkbox' class='ee-toggle'></label><ul><li><span class='ee-k'>0:</span><span class='ee-v'>-106.19315988030216</span></li><li><span class='ee-k'>1:</span><span class='ee-v'>36.61365243612049</span></li></ul></li></ul></li></ul></li></ul></li><li><label class='ee-shut'>properties: Object (5 properties)<input type='checkbox' class='ee-toggle'></label><ul><li><span class='ee-k'>chili:</span><span class='ee-v'>201.9572117883565</span></li><li><span class='ee-k'>elev:</span><span class='ee-v'>2734.6989031190433</span></li><li><span class='ee-k'>grid_index:</span><span class='ee-v'>1696914</span></li><li><span class='ee-k'>slope:</span><span class='ee-v'>9.150614498708991</span></li><li><span class='ee-k'>tpi:</span><span class='ee-v'>36.85657119936583</span></li></ul></li></ul></li><li><label class='ee-shut'>8: Feature (Polygon, 5 properties)<input type='checkbox' class='ee-toggle'></label><ul><li><span class='ee-k'>type:</span><span class='ee-v'>Feature</span></li><li><span class='ee-k'>id:</span><span class='ee-v'>00000000000000001c01</span></li><li><label class='ee-shut'>geometry: Polygon (5 vertices)<input type='checkbox' class='ee-toggle'></label><ul><li><span class='ee-k'>type:</span><span class='ee-v'>Polygon</span></li><li><label class='ee-shut'>coordinates: List (1 element)<input type='checkbox' class='ee-toggle'></label><ul><li><label class='ee-shut'>0: List (5 elements)<input type='checkbox' class='ee-toggle'></label><ul><li><label class='ee-shut'>0: [-106.19270661774212, 36.61032186863712]<input type='checkbox' class='ee-toggle'></label><ul><li><span class='ee-k'>0:</span><span class='ee-v'>-106.19270661774212</span></li><li><span class='ee-k'>1:</span><span class='ee-v'>36.61032186863712</span></li></ul></li><li><label class='ee-shut'>1: [-106.18849635165, 36.61068042338422]<input type='checkbox' class='ee-toggle'></label><ul><li><span class='ee-k'>0:</span><span class='ee-v'>-106.18849635165</span></li><li><span class='ee-k'>1:</span><span class='ee-v'>36.61068042338422</span></li></ul></li><li><label class='ee-shut'>2: [-106.18894942509259, 36.61401098502484]<input type='checkbox' class='ee-toggle'></label><ul><li><span class='ee-k'>0:</span><span class='ee-v'>-106.18894942509259</span></li><li><span class='ee-k'>1:</span><span class='ee-v'>36.61401098502484</span></li></ul></li><li><label class='ee-shut'>3: [-106.19315988030216, 36.61365243612049]<input type='checkbox' class='ee-toggle'></label><ul><li><span class='ee-k'>0:</span><span class='ee-v'>-106.19315988030216</span></li><li><span class='ee-k'>1:</span><span class='ee-v'>36.61365243612049</span></li></ul></li><li><label class='ee-shut'>4: [-106.19270661774212, 36.61032186863712]<input type='checkbox' class='ee-toggle'></label><ul><li><span class='ee-k'>0:</span><span class='ee-v'>-106.19270661774212</span></li><li><span class='ee-k'>1:</span><span class='ee-v'>36.61032186863712</span></li></ul></li></ul></li></ul></li></ul></li><li><label class='ee-shut'>properties: Object (5 properties)<input type='checkbox' class='ee-toggle'></label><ul><li><span class='ee-k'>chili:</span><span class='ee-v'>207.4814187107112</span></li><li><span class='ee-k'>elev:</span><span class='ee-v'>2714.0579752092212</span></li><li><span class='ee-k'>grid_index:</span><span class='ee-v'>1696913</span></li><li><span class='ee-k'>slope:</span><span class='ee-v'>15.95227938918281</span></li><li><span class='ee-k'>tpi:</span><span class='ee-v'>32.779667485232636</span></li></ul></li></ul></li><li><label class='ee-shut'>9: Feature (Polygon, 5 properties)<input type='checkbox' class='ee-toggle'></label><ul><li><span class='ee-k'>type:</span><span class='ee-v'>Feature</span></li><li><span class='ee-k'>id:</span><span class='ee-v'>00000000000000001bf7</span></li><li><label class='ee-shut'>geometry: Polygon (5 vertices)<input type='checkbox' class='ee-toggle'></label><ul><li><span class='ee-k'>type:</span><span class='ee-v'>Polygon</span></li><li><label class='ee-shut'>coordinates: List (1 element)<input type='checkbox' class='ee-toggle'></label><ul><li><label class='ee-shut'>0: List (5 elements)<input type='checkbox' class='ee-toggle'></label><ul><li><label class='ee-shut'>0: [-106.19645831655713, 36.60663754584692]<input type='checkbox' class='ee-toggle'></label><ul><li><span class='ee-k'>0:</span><span class='ee-v'>-106.19645831655713</span></li><li><span class='ee-k'>1:</span><span class='ee-v'>36.60663754584692</span></li></ul></li><li><label class='ee-shut'>1: [-106.19225389474434, 36.60699572133426]<input type='checkbox' class='ee-toggle'></label><ul><li><span class='ee-k'>0:</span><span class='ee-v'>-106.19225389474434</span></li><li><span class='ee-k'>1:</span><span class='ee-v'>36.60699572133426</span></li></ul></li><li><label class='ee-shut'>2: [-106.19270661774212, 36.61032186863712]<input type='checkbox' class='ee-toggle'></label><ul><li><span class='ee-k'>0:</span><span class='ee-v'>-106.19270661774212</span></li><li><span class='ee-k'>1:</span><span class='ee-v'>36.61032186863712</span></li></ul></li><li><label class='ee-shut'>3: [-106.1969112286481, 36.60996369910287]<input type='checkbox' class='ee-toggle'></label><ul><li><span class='ee-k'>0:</span><span class='ee-v'>-106.1969112286481</span></li><li><span class='ee-k'>1:</span><span class='ee-v'>36.60996369910287</span></li></ul></li><li><label class='ee-shut'>4: [-106.19645831655713, 36.60663754584692]<input type='checkbox' class='ee-toggle'></label><ul><li><span class='ee-k'>0:</span><span class='ee-v'>-106.19645831655713</span></li><li><span class='ee-k'>1:</span><span class='ee-v'>36.60663754584692</span></li></ul></li></ul></li></ul></li></ul></li><li><label class='ee-shut'>properties: Object (5 properties)<input type='checkbox' class='ee-toggle'></label><ul><li><span class='ee-k'>chili:</span><span class='ee-v'>235.52602231808626</span></li><li><span class='ee-k'>elev:</span><span class='ee-v'>2614.1925299322743</span></li><li><span class='ee-k'>grid_index:</span><span class='ee-v'>1694662</span></li><li><span class='ee-k'>slope:</span><span class='ee-v'>26.268684991928232</span></li><li><span class='ee-k'>tpi:</span><span class='ee-v'>-14.346082450948936</span></li></ul></li></ul></li></ul></li></ul></li></ul></div><script>function toggleHeader() {\n",
       "    const parent = this.parentElement;\n",
       "    parent.className = parent.className === \"ee-open\" ? \"ee-shut\" : \"ee-open\";\n",
       "}\n",
       "\n",
       "for (let c of document.getElementsByClassName(\"ee-toggle\")) {\n",
       "    c.onclick = toggleHeader;\n",
       "}</script></div>"
      ],
      "text/plain": [
       "<ee.featurecollection.FeatureCollection at 0x16b91ba00>"
      ]
     },
     "execution_count": 4,
     "metadata": {},
     "output_type": "execute_result"
    }
   ],
   "source": [
    "# Run the reduction on the grid\n",
    "stats = topo.reduceRegions(\n",
    "    collection=grid,\n",
    "    reducer=ee.Reducer.mean()\n",
    ")\n",
    "stats.limit(10)"
   ]
  },
  {
   "cell_type": "code",
   "execution_count": 5,
   "id": "4d25b420-ec86-419e-8a44-823853ecd985",
   "metadata": {},
   "outputs": [
    {
     "data": {
      "text/html": [
       "\n",
       "            <style>\n",
       "                .geemap-dark {\n",
       "                    --jp-widgets-color: white;\n",
       "                    --jp-widgets-label-color: white;\n",
       "                    --jp-ui-font-color1: white;\n",
       "                    --jp-layout-color2: #454545;\n",
       "                    background-color: #383838;\n",
       "                }\n",
       "\n",
       "                .geemap-dark .jupyter-button {\n",
       "                    --jp-layout-color3: #383838;\n",
       "                }\n",
       "\n",
       "                .geemap-colab {\n",
       "                    background-color: var(--colab-primary-surface-color, white);\n",
       "                }\n",
       "\n",
       "                .geemap-colab .jupyter-button {\n",
       "                    --jp-layout-color3: var(--colab-primary-surface-color, white);\n",
       "                }\n",
       "            </style>\n",
       "            "
      ],
      "text/plain": [
       "<IPython.core.display.HTML object>"
      ]
     },
     "metadata": {},
     "output_type": "display_data"
    },
    {
     "name": "stdout",
     "output_type": "stream",
     "text": [
      "Export to Earth Engine Asset started!\n",
      "Waiting for export to finish..\n",
      "\tPatience young padawan.\n",
      "Waiting for export to finish..\n",
      "\tPatience young padawan.\n",
      "Waiting for export to finish..\n",
      "\tPatience young padawan.\n",
      "Export completed successfully !!!!\n"
     ]
    }
   ],
   "source": [
    "# export to drive\n",
    "export_task = ee.batch.Export.table.toDrive(\n",
    "    collection=stats,\n",
    "    description='gridstats_topo',\n",
    "    fileNamePrefix='gridstats_topo',\n",
    "    fileFormat='CSV', \n",
    "    folder='Topo'\n",
    ")\n",
    "\n",
    "export_task.start() # Start the export task\n",
    "print(\"Export to Earth Engine Asset started!\")\n",
    "# Monitor the task until it's finished\n",
    "monitor_export(export_task, 30) "
   ]
  }
 ],
 "metadata": {
  "kernelspec": {
   "display_name": "aspen-fire",
   "language": "python",
   "name": "aspen-fire"
  },
  "language_info": {
   "codemirror_mode": {
    "name": "ipython",
    "version": 3
   },
   "file_extension": ".py",
   "mimetype": "text/x-python",
   "name": "python",
   "nbconvert_exporter": "python",
   "pygments_lexer": "ipython3",
   "version": "3.10.12"
  }
 },
 "nbformat": 4,
 "nbformat_minor": 5
}
