{
 "cells": [
  {
   "cell_type": "code",
   "execution_count": 2,
   "id": "e8875da6-de28-494e-8590-5deff24c959f",
   "metadata": {},
   "outputs": [
    {
     "name": "stdout",
     "output_type": "stream",
     "text": [
      "Success !\n"
     ]
    }
   ],
   "source": [
    "\"\"\"\n",
    "Calculate fire severity statistics within AFD observations from MODIS and VIIRS.\n",
    "Severity index: Composite Burn Severity (CBI), calculated in GEE via Parks (2018)\n",
    "\n",
    "Author: maxwell.cook@colorado.edu\n",
    "\"\"\"\n",
    "\n",
    "import os, sys\n",
    "import ee\n",
    "import geemap\n",
    "import time\n",
    "\n",
    "# Custom functions\n",
    "sys.path.append(os.path.join(os.getcwd(),'code/'))\n",
    "from __functions import *\n",
    "\n",
    "ee.Authenticate()\n",
    "ee.Initialize(project='jfsp-aspen')\n",
    "\n",
    "print(\"Success !\")"
   ]
  },
  {
   "cell_type": "code",
   "execution_count": null,
   "id": "e5f6b17e-1250-47dd-a030-f44df46da385",
   "metadata": {},
   "outputs": [],
   "source": []
  },
  {
   "cell_type": "code",
   "execution_count": 3,
   "id": "630cba3c-2a17-432d-83aa-db242a71dcbe",
   "metadata": {},
   "outputs": [
    {
     "data": {
      "text/html": [
       "\n",
       "            <style>\n",
       "                .geemap-dark {\n",
       "                    --jp-widgets-color: white;\n",
       "                    --jp-widgets-label-color: white;\n",
       "                    --jp-ui-font-color1: white;\n",
       "                    --jp-layout-color2: #454545;\n",
       "                    background-color: #383838;\n",
       "                }\n",
       "\n",
       "                .geemap-dark .jupyter-button {\n",
       "                    --jp-layout-color3: #383838;\n",
       "                }\n",
       "\n",
       "                .geemap-colab {\n",
       "                    background-color: var(--colab-primary-surface-color, white);\n",
       "                }\n",
       "\n",
       "                .geemap-colab .jupyter-button {\n",
       "                    --jp-layout-color3: var(--colab-primary-surface-color, white);\n",
       "                }\n",
       "            </style>\n",
       "            "
      ],
      "text/plain": [
       "<IPython.core.display.HTML object>"
      ]
     },
     "metadata": {},
     "output_type": "display_data"
    },
    {
     "name": "stdout",
     "output_type": "stream",
     "text": [
      "Number of grid cells: 49022\n",
      "['system:index', 'grid_index']\n"
     ]
    }
   ],
   "source": [
    "# Load the gridded FRP data\n",
    "grid = ee.FeatureCollection('projects/jfsp-aspen/assets/viirs_snpp_jpss1_afd_latlon_aspenfires_pixar_gridstats_')\n",
    "print(f\"Number of grid cells: {grid.size().getInfo()}\")\n",
    "grid = grid.select(['grid_index'])\n",
    "print(grid.first().propertyNames().getInfo())"
   ]
  },
  {
   "cell_type": "code",
   "execution_count": 9,
   "id": "fbfaa245-9531-4093-9164-cad232b809d7",
   "metadata": {},
   "outputs": [
    {
     "data": {
      "text/html": [
       "\n",
       "            <style>\n",
       "                .geemap-dark {\n",
       "                    --jp-widgets-color: white;\n",
       "                    --jp-widgets-label-color: white;\n",
       "                    --jp-ui-font-color1: white;\n",
       "                    --jp-layout-color2: #454545;\n",
       "                    background-color: #383838;\n",
       "                }\n",
       "\n",
       "                .geemap-dark .jupyter-button {\n",
       "                    --jp-layout-color3: #383838;\n",
       "                }\n",
       "\n",
       "                .geemap-colab {\n",
       "                    background-color: var(--colab-primary-surface-color, white);\n",
       "                }\n",
       "\n",
       "                .geemap-colab .jupyter-button {\n",
       "                    --jp-layout-color3: var(--colab-primary-surface-color, white);\n",
       "                }\n",
       "            </style>\n",
       "            "
      ],
      "text/plain": [
       "<IPython.core.display.HTML object>"
      ]
     },
     "metadata": {},
     "output_type": "display_data"
    },
    {
     "name": "stdout",
     "output_type": "stream",
     "text": [
      "['elev', 'slope', 'tpi', 'chili']\n"
     ]
    }
   ],
   "source": [
    "# Load topographic collections\n",
    "\n",
    "# USGS NED 10-m DEM\n",
    "dem = ee.Image(\"USGS/3DEP/10m\")\n",
    "slope = ee.Terrain.slope(dem) # calculate slope from DEM\n",
    "dem = dem.rename('elev') # rename the elevation band\n",
    "\n",
    "# Topographic Position Index (TPI) (USGS NED 10m-based)\n",
    "tpi = ee.Image(\"CSP/ERGo/1_0/US/mTPI\").rename('tpi')\n",
    "\n",
    "# Continuous Heat-Insolation Load Index (CHILI)\n",
    "chili = ee.Image(\"CSP/ERGo/1_0/US/CHILI\").rename('chili')\n",
    "\n",
    "# combine topographic variables\n",
    "topo = dem.addBands([slope,tpi,chili])\n",
    "print(topo.bandNames().getInfo())"
   ]
  },
  {
   "cell_type": "code",
   "execution_count": 10,
   "id": "19d56c44-c07d-4af7-9494-c5ae7e7ed863",
   "metadata": {},
   "outputs": [
    {
     "data": {
      "text/html": [
       "\n",
       "            <style>\n",
       "                .geemap-dark {\n",
       "                    --jp-widgets-color: white;\n",
       "                    --jp-widgets-label-color: white;\n",
       "                    --jp-ui-font-color1: white;\n",
       "                    --jp-layout-color2: #454545;\n",
       "                    background-color: #383838;\n",
       "                }\n",
       "\n",
       "                .geemap-dark .jupyter-button {\n",
       "                    --jp-layout-color3: #383838;\n",
       "                }\n",
       "\n",
       "                .geemap-colab {\n",
       "                    background-color: var(--colab-primary-surface-color, white);\n",
       "                }\n",
       "\n",
       "                .geemap-colab .jupyter-button {\n",
       "                    --jp-layout-color3: var(--colab-primary-surface-color, white);\n",
       "                }\n",
       "            </style>\n",
       "            "
      ],
      "text/plain": [
       "<IPython.core.display.HTML object>"
      ]
     },
     "metadata": {},
     "output_type": "display_data"
    },
    {
     "data": {
      "text/html": [
       "<div><style>:root {\n",
       "  --font-color-primary: var(--jp-content-font-color0, rgba(0, 0, 0, 1));\n",
       "  --font-color-secondary: var(--jp-content-font-color2, rgba(0, 0, 0, 0.6));\n",
       "  --font-color-accent: rgba(123, 31, 162, 1);\n",
       "  --border-color: var(--jp-border-color2, #e0e0e0);\n",
       "  --background-color: var(--jp-layout-color0, white);\n",
       "  --background-color-row-even: var(--jp-layout-color1, white);\n",
       "  --background-color-row-odd: var(--jp-layout-color2, #eeeeee);\n",
       "}\n",
       "\n",
       "html[theme=\"dark\"],\n",
       "body[data-theme=\"dark\"],\n",
       "body.vscode-dark {\n",
       "  --font-color-primary: rgba(255, 255, 255, 1);\n",
       "  --font-color-secondary: rgba(255, 255, 255, 0.6);\n",
       "  --font-color-accent: rgb(173, 132, 190);\n",
       "  --border-color: #2e2e2e;\n",
       "  --background-color: #111111;\n",
       "  --background-color-row-even: #111111;\n",
       "  --background-color-row-odd: #313131;\n",
       "}\n",
       "\n",
       ".ee {\n",
       "  padding: 1em;\n",
       "  line-height: 1.5em;\n",
       "  min-width: 300px;\n",
       "  max-width: 1200px;\n",
       "  overflow-y: scroll;\n",
       "  max-height: 600px;\n",
       "  border: 1px solid var(--border-color);\n",
       "  font-family: monospace;\n",
       "}\n",
       "\n",
       ".ee li {\n",
       "  list-style-type: none;\n",
       "}\n",
       "\n",
       ".ee ul {\n",
       "  padding-left: 1.5em !important;\n",
       "  margin: 0;\n",
       "}\n",
       "\n",
       ".ee > ul {\n",
       "  padding-left: 0 !important;\n",
       "}\n",
       "\n",
       ".ee-open,\n",
       ".ee-shut {\n",
       "  color: var(--font-color-secondary);\n",
       "  cursor: pointer;\n",
       "  margin: 0;\n",
       "}\n",
       "\n",
       ".ee-open:hover,\n",
       ".ee-shut:hover {\n",
       "  color: var(--font-color-primary);\n",
       "}\n",
       "\n",
       ".ee-k {\n",
       "  color: var(--font-color-accent);\n",
       "  margin-right: 6px;\n",
       "}\n",
       "\n",
       ".ee-v {\n",
       "  color: var(--font-color-primary);\n",
       "}\n",
       "\n",
       ".ee-toggle {\n",
       "  display: none;\n",
       "}\n",
       "\n",
       ".ee-shut + ul {\n",
       "  display: none;\n",
       "}\n",
       "\n",
       ".ee-open + ul {\n",
       "  display: block;\n",
       "}\n",
       "\n",
       ".ee-shut::before {\n",
       "  display: inline-block;\n",
       "  content: \"▼\";\n",
       "  margin-right: 6px;\n",
       "  transform: rotate(-90deg);\n",
       "  transition: transform 0.2s;\n",
       "}\n",
       "\n",
       ".ee-open::before {\n",
       "  transform: rotate(0deg);\n",
       "  display: inline-block;\n",
       "  content: \"▼\";\n",
       "  margin-right: 6px;\n",
       "  transition: transform 0.2s;\n",
       "}\n",
       "</style><div class='ee'><ul><li><label class='ee-shut'>FeatureCollection (10 elements, 4 columns)<input type='checkbox' class='ee-toggle'></label><ul><li><span class='ee-k'>type:</span><span class='ee-v'>FeatureCollection</span></li><li><label class='ee-shut'>columns: Object (4 properties)<input type='checkbox' class='ee-toggle'></label><ul><li><span class='ee-k'>chili:</span><span class='ee-v'>Float<0.0, 255.0></span></li><li><span class='ee-k'>elev:</span><span class='ee-v'>Float</span></li><li><span class='ee-k'>slope:</span><span class='ee-v'>Float<0.0, 90.0></span></li><li><span class='ee-k'>tpi:</span><span class='ee-v'>Float<-2.147483648E9, 2.147483647E9></span></li></ul></li><li><label class='ee-shut'>features: List (10 elements)<input type='checkbox' class='ee-toggle'></label><ul><li><label class='ee-shut'>0: Feature (Polygon, 5 properties)<input type='checkbox' class='ee-toggle'></label><ul><li><span class='ee-k'>type:</span><span class='ee-v'>Feature</span></li><li><span class='ee-k'>id:</span><span class='ee-v'>00000000000000000789</span></li><li><label class='ee-shut'>geometry: Polygon (5 vertices)<input type='checkbox' class='ee-toggle'></label><ul><li><span class='ee-k'>type:</span><span class='ee-v'>Polygon</span></li><li><label class='ee-shut'>coordinates: List (1 element)<input type='checkbox' class='ee-toggle'></label><ul><li><label class='ee-shut'>0: List (5 elements)<input type='checkbox' class='ee-toggle'></label><ul><li><label class='ee-shut'>0: [-107.81339887162747, 37.47225030658195]<input type='checkbox' class='ee-toggle'></label><ul><li><span class='ee-k'>0:</span><span class='ee-v'>-107.81339887162747</span></li><li><span class='ee-k'>1:</span><span class='ee-v'>37.47225030658195</span></li></ul></li><li><label class='ee-shut'>1: [-107.80915382899823, 37.47266486259341]<input type='checkbox' class='ee-toggle'></label><ul><li><span class='ee-k'>0:</span><span class='ee-v'>-107.80915382899823</span></li><li><span class='ee-k'>1:</span><span class='ee-v'>37.47266486259341</span></li></ul></li><li><label class='ee-shut'>2: [-107.80968406049293, 37.475983168542456]<input type='checkbox' class='ee-toggle'></label><ul><li><span class='ee-k'>0:</span><span class='ee-v'>-107.80968406049293</span></li><li><span class='ee-k'>1:</span><span class='ee-v'>37.475983168542456</span></li></ul></li><li><label class='ee-shut'>3: [-107.81392929173528, 37.47556860888998]<input type='checkbox' class='ee-toggle'></label><ul><li><span class='ee-k'>0:</span><span class='ee-v'>-107.81392929173528</span></li><li><span class='ee-k'>1:</span><span class='ee-v'>37.47556860888998</span></li></ul></li><li><label class='ee-shut'>4: [-107.81339887162747, 37.47225030658195]<input type='checkbox' class='ee-toggle'></label><ul><li><span class='ee-k'>0:</span><span class='ee-v'>-107.81339887162747</span></li><li><span class='ee-k'>1:</span><span class='ee-v'>37.47225030658195</span></li></ul></li></ul></li></ul></li></ul></li><li><label class='ee-shut'>properties: Object (5 properties)<input type='checkbox' class='ee-toggle'></label><ul><li><span class='ee-k'>chili:</span><span class='ee-v'>193.2084178463232</span></li><li><span class='ee-k'>elev:</span><span class='ee-v'>2241.322195137132</span></li><li><span class='ee-k'>grid_index:</span><span class='ee-v'>919906</span></li><li><span class='ee-k'>slope:</span><span class='ee-v'>7.178200371723398</span></li><li><span class='ee-k'>tpi:</span><span class='ee-v'>-40.75497147906936</span></li></ul></li></ul></li><li><label class='ee-shut'>1: Feature (Polygon, 5 properties)<input type='checkbox' class='ee-toggle'></label><ul><li><span class='ee-k'>type:</span><span class='ee-v'>Feature</span></li><li><span class='ee-k'>id:</span><span class='ee-v'>0000000000000000078a</span></li><li><label class='ee-shut'>geometry: Polygon (5 vertices)<input type='checkbox' class='ee-toggle'></label><ul><li><span class='ee-k'>type:</span><span class='ee-v'>Polygon</span></li><li><label class='ee-shut'>coordinates: List (1 element)<input type='checkbox' class='ee-toggle'></label><ul><li><label class='ee-shut'>0: List (5 elements)<input type='checkbox' class='ee-toggle'></label><ul><li><label class='ee-shut'>0: [-107.81392929173528, 37.47556860888998]<input type='checkbox' class='ee-toggle'></label><ul><li><span class='ee-k'>0:</span><span class='ee-v'>-107.81392929173528</span></li><li><span class='ee-k'>1:</span><span class='ee-v'>37.47556860888998</span></li></ul></li><li><label class='ee-shut'>1: [-107.80968406049293, 37.475983168542456]<input type='checkbox' class='ee-toggle'></label><ul><li><span class='ee-k'>0:</span><span class='ee-v'>-107.80968406049293</span></li><li><span class='ee-k'>1:</span><span class='ee-v'>37.475983168542456</span></li></ul></li><li><label class='ee-shut'>2: [-107.81021510634919, 37.479305830509375]<input type='checkbox' class='ee-toggle'></label><ul><li><span class='ee-k'>0:</span><span class='ee-v'>-107.81021510634919</span></li><li><span class='ee-k'>1:</span><span class='ee-v'>37.479305830509375</span></li></ul></li><li><label class='ee-shut'>3: [-107.81446052621632, 37.47889126713356]<input type='checkbox' class='ee-toggle'></label><ul><li><span class='ee-k'>0:</span><span class='ee-v'>-107.81446052621632</span></li><li><span class='ee-k'>1:</span><span class='ee-v'>37.47889126713356</span></li></ul></li><li><label class='ee-shut'>4: [-107.81392929173528, 37.47556860888998]<input type='checkbox' class='ee-toggle'></label><ul><li><span class='ee-k'>0:</span><span class='ee-v'>-107.81392929173528</span></li><li><span class='ee-k'>1:</span><span class='ee-v'>37.47556860888998</span></li></ul></li></ul></li></ul></li></ul></li><li><label class='ee-shut'>properties: Object (5 properties)<input type='checkbox' class='ee-toggle'></label><ul><li><span class='ee-k'>chili:</span><span class='ee-v'>194.9004809193093</span></li><li><span class='ee-k'>elev:</span><span class='ee-v'>2246.032657929615</span></li><li><span class='ee-k'>grid_index:</span><span class='ee-v'>919907</span></li><li><span class='ee-k'>slope:</span><span class='ee-v'>7.001824069231231</span></li><li><span class='ee-k'>tpi:</span><span class='ee-v'>-41.99893676697359</span></li></ul></li></ul></li><li><label class='ee-shut'>2: Feature (Polygon, 5 properties)<input type='checkbox' class='ee-toggle'></label><ul><li><span class='ee-k'>type:</span><span class='ee-v'>Feature</span></li><li><span class='ee-k'>id:</span><span class='ee-v'>0000000000000000078b</span></li><li><label class='ee-shut'>geometry: Polygon (5 vertices)<input type='checkbox' class='ee-toggle'></label><ul><li><span class='ee-k'>type:</span><span class='ee-v'>Polygon</span></li><li><label class='ee-shut'>coordinates: List (1 element)<input type='checkbox' class='ee-toggle'></label><ul><li><label class='ee-shut'>0: List (5 elements)<input type='checkbox' class='ee-toggle'></label><ul><li><label class='ee-shut'>0: [-107.81446052621632, 37.47889126713356]<input type='checkbox' class='ee-toggle'></label><ul><li><span class='ee-k'>0:</span><span class='ee-v'>-107.81446052621632</span></li><li><span class='ee-k'>1:</span><span class='ee-v'>37.47889126713356</span></li></ul></li><li><label class='ee-shut'>1: [-107.81021510634919, 37.479305830509375]<input type='checkbox' class='ee-toggle'></label><ul><li><span class='ee-k'>0:</span><span class='ee-v'>-107.81021510634919</span></li><li><span class='ee-k'>1:</span><span class='ee-v'>37.479305830509375</span></li></ul></li><li><label class='ee-shut'>2: [-107.81074543018535, 37.482624177186075]<input type='checkbox' class='ee-toggle'></label><ul><li><span class='ee-k'>0:</span><span class='ee-v'>-107.81074543018535</span></li><li><span class='ee-k'>1:</span><span class='ee-v'>37.482624177186075</span></li></ul></li><li><label class='ee-shut'>3: [-107.81499103866611, 37.48220953131387]<input type='checkbox' class='ee-toggle'></label><ul><li><span class='ee-k'>0:</span><span class='ee-v'>-107.81499103866611</span></li><li><span class='ee-k'>1:</span><span class='ee-v'>37.48220953131387</span></li></ul></li><li><label class='ee-shut'>4: [-107.81446052621632, 37.47889126713356]<input type='checkbox' class='ee-toggle'></label><ul><li><span class='ee-k'>0:</span><span class='ee-v'>-107.81446052621632</span></li><li><span class='ee-k'>1:</span><span class='ee-v'>37.47889126713356</span></li></ul></li></ul></li></ul></li></ul></li><li><label class='ee-shut'>properties: Object (5 properties)<input type='checkbox' class='ee-toggle'></label><ul><li><span class='ee-k'>chili:</span><span class='ee-v'>191.64740152002977</span></li><li><span class='ee-k'>elev:</span><span class='ee-v'>2243.378349830292</span></li><li><span class='ee-k'>grid_index:</span><span class='ee-v'>919908</span></li><li><span class='ee-k'>slope:</span><span class='ee-v'>7.830350678513888</span></li><li><span class='ee-k'>tpi:</span><span class='ee-v'>-48.73287851512744</span></li></ul></li></ul></li><li><label class='ee-shut'>3: Feature (Polygon, 5 properties)<input type='checkbox' class='ee-toggle'></label><ul><li><span class='ee-k'>type:</span><span class='ee-v'>Feature</span></li><li><span class='ee-k'>id:</span><span class='ee-v'>000000000000000007a6</span></li><li><label class='ee-shut'>geometry: Polygon (5 vertices)<input type='checkbox' class='ee-toggle'></label><ul><li><span class='ee-k'>type:</span><span class='ee-v'>Polygon</span></li><li><label class='ee-shut'>coordinates: List (1 element)<input type='checkbox' class='ee-toggle'></label><ul><li><label class='ee-shut'>0: List (5 elements)<input type='checkbox' class='ee-toggle'></label><ul><li><label class='ee-shut'>0: [-107.80703182835067, 37.45938269784985]<input type='checkbox' class='ee-toggle'></label><ul><li><span class='ee-k'>0:</span><span class='ee-v'>-107.80703182835067</span></li><li><span class='ee-k'>1:</span><span class='ee-v'>37.45938269784985</span></li></ul></li><li><label class='ee-shut'>1: [-107.80278190966504, 37.45979762943415]<input type='checkbox' class='ee-toggle'></label><ul><li><span class='ee-k'>0:</span><span class='ee-v'>-107.80278190966504</span></li><li><span class='ee-k'>1:</span><span class='ee-v'>37.45979762943415</span></li></ul></li><li><label class='ee-shut'>2: [-107.8033117678521, 37.4631159358911]<input type='checkbox' class='ee-toggle'></label><ul><li><span class='ee-k'>0:</span><span class='ee-v'>-107.8033117678521</span></li><li><span class='ee-k'>1:</span><span class='ee-v'>37.4631159358911</span></li></ul></li><li><label class='ee-shut'>3: [-107.80756187516381, 37.462701079510154]<input type='checkbox' class='ee-toggle'></label><ul><li><span class='ee-k'>0:</span><span class='ee-v'>-107.80756187516381</span></li><li><span class='ee-k'>1:</span><span class='ee-v'>37.462701079510154</span></li></ul></li><li><label class='ee-shut'>4: [-107.80703182835067, 37.45938269784985]<input type='checkbox' class='ee-toggle'></label><ul><li><span class='ee-k'>0:</span><span class='ee-v'>-107.80703182835067</span></li><li><span class='ee-k'>1:</span><span class='ee-v'>37.45938269784985</span></li></ul></li></ul></li></ul></li></ul></li><li><label class='ee-shut'>properties: Object (5 properties)<input type='checkbox' class='ee-toggle'></label><ul><li><span class='ee-k'>chili:</span><span class='ee-v'>196.09366790852945</span></li><li><span class='ee-k'>elev:</span><span class='ee-v'>2145.606306910381</span></li><li><span class='ee-k'>grid_index:</span><span class='ee-v'>922166</span></li><li><span class='ee-k'>slope:</span><span class='ee-v'>11.203908713139446</span></li><li><span class='ee-k'>tpi:</span><span class='ee-v'>-26.52769306974857</span></li></ul></li></ul></li><li><label class='ee-shut'>4: Feature (Polygon, 5 properties)<input type='checkbox' class='ee-toggle'></label><ul><li><span class='ee-k'>type:</span><span class='ee-v'>Feature</span></li><li><span class='ee-k'>id:</span><span class='ee-v'>000000000000000007aa</span></li><li><label class='ee-shut'>geometry: Polygon (5 vertices)<input type='checkbox' class='ee-toggle'></label><ul><li><span class='ee-k'>type:</span><span class='ee-v'>Polygon</span></li><li><label class='ee-shut'>coordinates: List (1 element)<input type='checkbox' class='ee-toggle'></label><ul><li><label class='ee-shut'>0: List (5 elements)<input type='checkbox' class='ee-toggle'></label><ul><li><label class='ee-shut'>0: [-107.80968406049293, 37.475983168542456]<input type='checkbox' class='ee-toggle'></label><ul><li><span class='ee-k'>0:</span><span class='ee-v'>-107.80968406049293</span></li><li><span class='ee-k'>1:</span><span class='ee-v'>37.475983168542456</span></li></ul></li><li><label class='ee-shut'>1: [-107.80543319865156, 37.47639811865465]<input type='checkbox' class='ee-toggle'></label><ul><li><span class='ee-k'>0:</span><span class='ee-v'>-107.80543319865156</span></li><li><span class='ee-k'>1:</span><span class='ee-v'>37.47639811865465</span></li></ul></li><li><label class='ee-shut'>2: [-107.8059640558691, 37.47972086323956]<input type='checkbox' class='ee-toggle'></label><ul><li><span class='ee-k'>0:</span><span class='ee-v'>-107.8059640558691</span></li><li><span class='ee-k'>1:</span><span class='ee-v'>37.47972086323956</span></li></ul></li><li><label class='ee-shut'>3: [-107.81021510634919, 37.479305830509375]<input type='checkbox' class='ee-toggle'></label><ul><li><span class='ee-k'>0:</span><span class='ee-v'>-107.81021510634919</span></li><li><span class='ee-k'>1:</span><span class='ee-v'>37.479305830509375</span></li></ul></li><li><label class='ee-shut'>4: [-107.80968406049293, 37.475983168542456]<input type='checkbox' class='ee-toggle'></label><ul><li><span class='ee-k'>0:</span><span class='ee-v'>-107.80968406049293</span></li><li><span class='ee-k'>1:</span><span class='ee-v'>37.475983168542456</span></li></ul></li></ul></li></ul></li></ul></li><li><label class='ee-shut'>properties: Object (5 properties)<input type='checkbox' class='ee-toggle'></label><ul><li><span class='ee-k'>chili:</span><span class='ee-v'>182.48938888211737</span></li><li><span class='ee-k'>elev:</span><span class='ee-v'>2202.4512384450213</span></li><li><span class='ee-k'>grid_index:</span><span class='ee-v'>922171</span></li><li><span class='ee-k'>slope:</span><span class='ee-v'>9.49525875701469</span></li><li><span class='ee-k'>tpi:</span><span class='ee-v'>-31.542083501317308</span></li></ul></li></ul></li><li><label class='ee-shut'>5: Feature (Polygon, 5 properties)<input type='checkbox' class='ee-toggle'></label><ul><li><span class='ee-k'>type:</span><span class='ee-v'>Feature</span></li><li><span class='ee-k'>id:</span><span class='ee-v'>000000000000000007ab</span></li><li><label class='ee-shut'>geometry: Polygon (5 vertices)<input type='checkbox' class='ee-toggle'></label><ul><li><span class='ee-k'>type:</span><span class='ee-v'>Polygon</span></li><li><label class='ee-shut'>coordinates: List (1 element)<input type='checkbox' class='ee-toggle'></label><ul><li><label class='ee-shut'>0: List (5 elements)<input type='checkbox' class='ee-toggle'></label><ul><li><label class='ee-shut'>0: [-107.81021510634919, 37.479305830509375]<input type='checkbox' class='ee-toggle'></label><ul><li><span class='ee-k'>0:</span><span class='ee-v'>-107.81021510634919</span></li><li><span class='ee-k'>1:</span><span class='ee-v'>37.479305830509375</span></li></ul></li><li><label class='ee-shut'>1: [-107.8059640558691, 37.47972086323956]<input type='checkbox' class='ee-toggle'></label><ul><li><span class='ee-k'>0:</span><span class='ee-v'>-107.8059640558691</span></li><li><span class='ee-k'>1:</span><span class='ee-v'>37.47972086323956</span></li></ul></li><li><label class='ee-shut'>2: [-107.80649419107768, 37.48303913477829]<input type='checkbox' class='ee-toggle'></label><ul><li><span class='ee-k'>0:</span><span class='ee-v'>-107.80649419107768</span></li><li><span class='ee-k'>1:</span><span class='ee-v'>37.48303913477829</span></li></ul></li><li><label class='ee-shut'>3: [-107.81074543018535, 37.482624177186075]<input type='checkbox' class='ee-toggle'></label><ul><li><span class='ee-k'>0:</span><span class='ee-v'>-107.81074543018535</span></li><li><span class='ee-k'>1:</span><span class='ee-v'>37.482624177186075</span></li></ul></li><li><label class='ee-shut'>4: [-107.81021510634919, 37.479305830509375]<input type='checkbox' class='ee-toggle'></label><ul><li><span class='ee-k'>0:</span><span class='ee-v'>-107.81021510634919</span></li><li><span class='ee-k'>1:</span><span class='ee-v'>37.479305830509375</span></li></ul></li></ul></li></ul></li></ul></li><li><label class='ee-shut'>properties: Object (5 properties)<input type='checkbox' class='ee-toggle'></label><ul><li><span class='ee-k'>chili:</span><span class='ee-v'>200.58813271717207</span></li><li><span class='ee-k'>elev:</span><span class='ee-v'>2204.030395748183</span></li><li><span class='ee-k'>grid_index:</span><span class='ee-v'>922172</span></li><li><span class='ee-k'>slope:</span><span class='ee-v'>5.7305251019390715</span></li><li><span class='ee-k'>tpi:</span><span class='ee-v'>-44.067825450209895</span></li></ul></li></ul></li><li><label class='ee-shut'>6: Feature (Polygon, 5 properties)<input type='checkbox' class='ee-toggle'></label><ul><li><span class='ee-k'>type:</span><span class='ee-v'>Feature</span></li><li><span class='ee-k'>id:</span><span class='ee-v'>000000000000000006fe</span></li><li><label class='ee-shut'>geometry: Polygon (5 vertices)<input type='checkbox' class='ee-toggle'></label><ul><li><span class='ee-k'>type:</span><span class='ee-v'>Polygon</span></li><li><label class='ee-shut'>coordinates: List (1 element)<input type='checkbox' class='ee-toggle'></label><ul><li><label class='ee-shut'>0: List (5 elements)<input type='checkbox' class='ee-toggle'></label><ul><li><label class='ee-shut'>0: [-107.83145286628512, 37.47723031486666]<input type='checkbox' class='ee-toggle'></label><ul><li><span class='ee-k'>0:</span><span class='ee-v'>-107.83145286628512</span></li><li><span class='ee-k'>1:</span><span class='ee-v'>37.47723031486666</span></li></ul></li><li><label class='ee-shut'>1: [-107.82720764704244, 37.47764551698612]<input type='checkbox' class='ee-toggle'></label><ul><li><span class='ee-k'>0:</span><span class='ee-v'>-107.82720764704244</span></li><li><span class='ee-k'>1:</span><span class='ee-v'>37.47764551698612</span></li></ul></li><li><label class='ee-shut'>2: [-107.82773881571303, 37.48096375589077]<input type='checkbox' class='ee-toggle'></label><ul><li><span class='ee-k'>0:</span><span class='ee-v'>-107.82773881571303</span></li><li><span class='ee-k'>1:</span><span class='ee-v'>37.48096375589077</span></li></ul></li><li><label class='ee-shut'>3: [-107.83198422355616, 37.4805485500255]<input type='checkbox' class='ee-toggle'></label><ul><li><span class='ee-k'>0:</span><span class='ee-v'>-107.83198422355616</span></li><li><span class='ee-k'>1:</span><span class='ee-v'>37.4805485500255</span></li></ul></li><li><label class='ee-shut'>4: [-107.83145286628512, 37.47723031486666]<input type='checkbox' class='ee-toggle'></label><ul><li><span class='ee-k'>0:</span><span class='ee-v'>-107.83145286628512</span></li><li><span class='ee-k'>1:</span><span class='ee-v'>37.47723031486666</span></li></ul></li></ul></li></ul></li></ul></li><li><label class='ee-shut'>properties: Object (5 properties)<input type='checkbox' class='ee-toggle'></label><ul><li><span class='ee-k'>chili:</span><span class='ee-v'>196.82478490871105</span></li><li><span class='ee-k'>elev:</span><span class='ee-v'>2719.3363897990557</span></li><li><span class='ee-k'>grid_index:</span><span class='ee-v'>910852</span></li><li><span class='ee-k'>slope:</span><span class='ee-v'>26.03205851405515</span></li><li><span class='ee-k'>tpi:</span><span class='ee-v'>23.060834232239856</span></li></ul></li></ul></li><li><label class='ee-shut'>7: Feature (Polygon, 5 properties)<input type='checkbox' class='ee-toggle'></label><ul><li><span class='ee-k'>type:</span><span class='ee-v'>Feature</span></li><li><span class='ee-k'>id:</span><span class='ee-v'>0000000000000000071d</span></li><li><label class='ee-shut'>geometry: Polygon (5 vertices)<input type='checkbox' class='ee-toggle'></label><ul><li><span class='ee-k'>type:</span><span class='ee-v'>Polygon</span></li><li><label class='ee-shut'>coordinates: List (1 element)<input type='checkbox' class='ee-toggle'></label><ul><li><label class='ee-shut'>0: List (5 elements)<input type='checkbox' class='ee-toggle'></label><ul><li><label class='ee-shut'>0: [-107.82508234951078, 37.46436370829758]<input type='checkbox' class='ee-toggle'></label><ul><li><span class='ee-k'>0:</span><span class='ee-v'>-107.82508234951078</span></li><li><span class='ee-k'>1:</span><span class='ee-v'>37.46436370829758</span></li></ul></li><li><label class='ee-shut'>1: [-107.82083216311631, 37.46477922183846]<input type='checkbox' class='ee-toggle'></label><ul><li><span class='ee-k'>0:</span><span class='ee-v'>-107.82083216311631</span></li><li><span class='ee-k'>1:</span><span class='ee-v'>37.46477922183846</span></li></ul></li><li><label class='ee-shut'>2: [-107.82136295848642, 37.468097540683594]<input type='checkbox' class='ee-toggle'></label><ul><li><span class='ee-k'>0:</span><span class='ee-v'>-107.82136295848642</span></li><li><span class='ee-k'>1:</span><span class='ee-v'>37.468097540683594</span></li></ul></li><li><label class='ee-shut'>3: [-107.82561324311418, 37.46768195855211]<input type='checkbox' class='ee-toggle'></label><ul><li><span class='ee-k'>0:</span><span class='ee-v'>-107.82561324311418</span></li><li><span class='ee-k'>1:</span><span class='ee-v'>37.46768195855211</span></li></ul></li><li><label class='ee-shut'>4: [-107.82508234951078, 37.46436370829758]<input type='checkbox' class='ee-toggle'></label><ul><li><span class='ee-k'>0:</span><span class='ee-v'>-107.82508234951078</span></li><li><span class='ee-k'>1:</span><span class='ee-v'>37.46436370829758</span></li></ul></li></ul></li></ul></li></ul></li><li><label class='ee-shut'>properties: Object (5 properties)<input type='checkbox' class='ee-toggle'></label><ul><li><span class='ee-k'>chili:</span><span class='ee-v'>181.75971718177087</span></li><li><span class='ee-k'>elev:</span><span class='ee-v'>2660.655723138048</span></li><li><span class='ee-k'>grid_index:</span><span class='ee-v'>913112</span></li><li><span class='ee-k'>slope:</span><span class='ee-v'>24.646027666938874</span></li><li><span class='ee-k'>tpi:</span><span class='ee-v'>80.6582777383932</span></li></ul></li></ul></li><li><label class='ee-shut'>8: Feature (Polygon, 5 properties)<input type='checkbox' class='ee-toggle'></label><ul><li><span class='ee-k'>type:</span><span class='ee-v'>Feature</span></li><li><span class='ee-k'>id:</span><span class='ee-v'>0000000000000000071e</span></li><li><label class='ee-shut'>geometry: Polygon (5 vertices)<input type='checkbox' class='ee-toggle'></label><ul><li><span class='ee-k'>type:</span><span class='ee-v'>Polygon</span></li><li><label class='ee-shut'>coordinates: List (1 element)<input type='checkbox' class='ee-toggle'></label><ul><li><label class='ee-shut'>0: List (5 elements)<input type='checkbox' class='ee-toggle'></label><ul><li><label class='ee-shut'>0: [-107.82561324311418, 37.46768195855211]<input type='checkbox' class='ee-toggle'></label><ul><li><span class='ee-k'>0:</span><span class='ee-v'>-107.82561324311418</span></li><li><span class='ee-k'>1:</span><span class='ee-v'>37.46768195855211</span></li></ul></li><li><label class='ee-shut'>1: [-107.82136295848642, 37.468097540683594]<input type='checkbox' class='ee-toggle'></label><ul><li><span class='ee-k'>0:</span><span class='ee-v'>-107.82136295848642</span></li><li><span class='ee-k'>1:</span><span class='ee-v'>37.468097540683594</span></li></ul></li><li><label class='ee-shut'>2: [-107.82189438749191, 37.471420165042]<input type='checkbox' class='ee-toggle'></label><ul><li><span class='ee-k'>0:</span><span class='ee-v'>-107.82189438749191</span></li><li><span class='ee-k'>1:</span><span class='ee-v'>37.471420165042</span></li></ul></li><li><label class='ee-shut'>3: [-107.82614495112254, 37.47100464388673]<input type='checkbox' class='ee-toggle'></label><ul><li><span class='ee-k'>0:</span><span class='ee-v'>-107.82614495112254</span></li><li><span class='ee-k'>1:</span><span class='ee-v'>37.47100464388673</span></li></ul></li><li><label class='ee-shut'>4: [-107.82561324311418, 37.46768195855211]<input type='checkbox' class='ee-toggle'></label><ul><li><span class='ee-k'>0:</span><span class='ee-v'>-107.82561324311418</span></li><li><span class='ee-k'>1:</span><span class='ee-v'>37.46768195855211</span></li></ul></li></ul></li></ul></li></ul></li><li><label class='ee-shut'>properties: Object (5 properties)<input type='checkbox' class='ee-toggle'></label><ul><li><span class='ee-k'>chili:</span><span class='ee-v'>108.55934766097509</span></li><li><span class='ee-k'>elev:</span><span class='ee-v'>2564.994665766455</span></li><li><span class='ee-k'>grid_index:</span><span class='ee-v'>913113</span></li><li><span class='ee-k'>slope:</span><span class='ee-v'>31.574772745944653</span></li><li><span class='ee-k'>tpi:</span><span class='ee-v'>29.787607715172484</span></li></ul></li></ul></li><li><label class='ee-shut'>9: Feature (Polygon, 5 properties)<input type='checkbox' class='ee-toggle'></label><ul><li><span class='ee-k'>type:</span><span class='ee-v'>Feature</span></li><li><span class='ee-k'>id:</span><span class='ee-v'>0000000000000000071f</span></li><li><label class='ee-shut'>geometry: Polygon (5 vertices)<input type='checkbox' class='ee-toggle'></label><ul><li><span class='ee-k'>type:</span><span class='ee-v'>Polygon</span></li><li><label class='ee-shut'>coordinates: List (1 element)<input type='checkbox' class='ee-toggle'></label><ul><li><label class='ee-shut'>0: List (5 elements)<input type='checkbox' class='ee-toggle'></label><ul><li><label class='ee-shut'>0: [-107.82614495112254, 37.47100464388673]<input type='checkbox' class='ee-toggle'></label><ul><li><span class='ee-k'>0:</span><span class='ee-v'>-107.82614495112254</span></li><li><span class='ee-k'>1:</span><span class='ee-v'>37.47100464388673</span></li></ul></li><li><label class='ee-shut'>1: [-107.82189438749191, 37.471420165042]<input type='checkbox' class='ee-toggle'></label><ul><li><span class='ee-k'>0:</span><span class='ee-v'>-107.82189438749191</span></li><li><span class='ee-k'>1:</span><span class='ee-v'>37.471420165042</span></li></ul></li><li><label class='ee-shut'>2: [-107.82242518482549, 37.47473845993225]<input type='checkbox' class='ee-toggle'></label><ul><li><span class='ee-k'>0:</span><span class='ee-v'>-107.82242518482549</span></li><li><span class='ee-k'>1:</span><span class='ee-v'>37.47473845993225</span></li></ul></li><li><label class='ee-shut'>3: [-107.8266759370689, 37.47432285615066]<input type='checkbox' class='ee-toggle'></label><ul><li><span class='ee-k'>0:</span><span class='ee-v'>-107.8266759370689</span></li><li><span class='ee-k'>1:</span><span class='ee-v'>37.47432285615066</span></li></ul></li><li><label class='ee-shut'>4: [-107.82614495112254, 37.47100464388673]<input type='checkbox' class='ee-toggle'></label><ul><li><span class='ee-k'>0:</span><span class='ee-v'>-107.82614495112254</span></li><li><span class='ee-k'>1:</span><span class='ee-v'>37.47100464388673</span></li></ul></li></ul></li></ul></li></ul></li><li><label class='ee-shut'>properties: Object (5 properties)<input type='checkbox' class='ee-toggle'></label><ul><li><span class='ee-k'>chili:</span><span class='ee-v'>188.43121570173847</span></li><li><span class='ee-k'>elev:</span><span class='ee-v'>2533.1448737334945</span></li><li><span class='ee-k'>grid_index:</span><span class='ee-v'>913114</span></li><li><span class='ee-k'>slope:</span><span class='ee-v'>28.14122878721005</span></li><li><span class='ee-k'>tpi:</span><span class='ee-v'>-29.020242135751882</span></li></ul></li></ul></li></ul></li></ul></li></ul></div><script>function toggleHeader() {\n",
       "    const parent = this.parentElement;\n",
       "    parent.className = parent.className === \"ee-open\" ? \"ee-shut\" : \"ee-open\";\n",
       "}\n",
       "\n",
       "for (let c of document.getElementsByClassName(\"ee-toggle\")) {\n",
       "    c.onclick = toggleHeader;\n",
       "}</script></div>"
      ],
      "text/plain": [
       "<ee.featurecollection.FeatureCollection at 0x167c93fd0>"
      ]
     },
     "execution_count": 10,
     "metadata": {},
     "output_type": "execute_result"
    }
   ],
   "source": [
    "# Run the reduction on the grid\n",
    "stats = topo.reduceRegions(\n",
    "    collection=grid,\n",
    "    reducer=ee.Reducer.mean()\n",
    ")\n",
    "\n",
    "stats.limit(10)"
   ]
  },
  {
   "cell_type": "code",
   "execution_count": 11,
   "id": "4d25b420-ec86-419e-8a44-823853ecd985",
   "metadata": {},
   "outputs": [
    {
     "data": {
      "text/html": [
       "\n",
       "            <style>\n",
       "                .geemap-dark {\n",
       "                    --jp-widgets-color: white;\n",
       "                    --jp-widgets-label-color: white;\n",
       "                    --jp-ui-font-color1: white;\n",
       "                    --jp-layout-color2: #454545;\n",
       "                    background-color: #383838;\n",
       "                }\n",
       "\n",
       "                .geemap-dark .jupyter-button {\n",
       "                    --jp-layout-color3: #383838;\n",
       "                }\n",
       "\n",
       "                .geemap-colab {\n",
       "                    background-color: var(--colab-primary-surface-color, white);\n",
       "                }\n",
       "\n",
       "                .geemap-colab .jupyter-button {\n",
       "                    --jp-layout-color3: var(--colab-primary-surface-color, white);\n",
       "                }\n",
       "            </style>\n",
       "            "
      ],
      "text/plain": [
       "<IPython.core.display.HTML object>"
      ]
     },
     "metadata": {},
     "output_type": "display_data"
    },
    {
     "name": "stdout",
     "output_type": "stream",
     "text": [
      "Export to Earth Engine Asset started!\n",
      "Waiting for export to finish..\n",
      "\tPatience young padawan.\n",
      "Export completed successfully !!!!\n"
     ]
    }
   ],
   "source": [
    "# export to drive\n",
    "export_task = ee.batch.Export.table.toDrive(\n",
    "    collection=stats,\n",
    "    description='gridstats_topo',\n",
    "    fileNamePrefix='gridstats_topo',\n",
    "    fileFormat='CSV', \n",
    "    folder='Topo'\n",
    ")\n",
    "\n",
    "export_task.start() # Start the export task\n",
    "print(\"Export to Earth Engine Asset started!\")\n",
    "# Monitor the task until it's finished\n",
    "monitor_export(export_task, 120) "
   ]
  }
 ],
 "metadata": {
  "kernelspec": {
   "display_name": "aspen-fire",
   "language": "python",
   "name": "aspen-fire"
  },
  "language_info": {
   "codemirror_mode": {
    "name": "ipython",
    "version": 3
   },
   "file_extension": ".py",
   "mimetype": "text/x-python",
   "name": "python",
   "nbconvert_exporter": "python",
   "pygments_lexer": "ipython3",
   "version": "3.10.12"
  }
 },
 "nbformat": 4,
 "nbformat_minor": 5
}
