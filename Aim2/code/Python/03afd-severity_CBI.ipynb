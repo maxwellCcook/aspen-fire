{
 "cells": [
  {
   "cell_type": "code",
   "execution_count": 2,
   "id": "e8875da6-de28-494e-8590-5deff24c959f",
   "metadata": {},
   "outputs": [
    {
     "name": "stdout",
     "output_type": "stream",
     "text": [
      "Success\n"
     ]
    }
   ],
   "source": [
    "\"\"\"\n",
    "Calculate fire severity statistics within AFD observations from MODIS and VIIRS.\n",
    "Severity index: Composite Burn Severity (CBI), calculated in GEE via Parks (2018)\n",
    "\n",
    "Author: maxwell.cook@colorado.edu\n",
    "\"\"\"\n",
    "\n",
    "import ee\n",
    "import geemap\n",
    "\n",
    "import os, time\n",
    "import pandas as pd\n",
    "import geopandas as gpd\n",
    "import seaborn as sns\n",
    "import matplotlib.pyplot as plt\n",
    "\n",
    "import warnings\n",
    "warnings.filterwarnings(\"ignore\") # suppresses annoying geopandas warning\n",
    "\n",
    "ee.Authenticate()\n",
    "\n",
    "ee.Initialize(project='jfsp-aspen')\n",
    "\n",
    "proj = 'EPSG:5070'\n",
    "\n",
    "maindir = '/Users/max/Library/CloudStorage/OneDrive-Personal/mcook/'\n",
    "projdir = os.path.join(maindir, 'aspen-fire/Aim2/')\n",
    "\n",
    "print(\"Success\")"
   ]
  },
  {
   "cell_type": "code",
   "execution_count": 2,
   "id": "7a817651-09da-497b-a173-a3cd898f3d48",
   "metadata": {},
   "outputs": [
    {
     "data": {
      "text/html": [
       "\n",
       "            <style>\n",
       "                .geemap-dark {\n",
       "                    --jp-widgets-color: white;\n",
       "                    --jp-widgets-label-color: white;\n",
       "                    --jp-ui-font-color1: white;\n",
       "                    --jp-layout-color2: #454545;\n",
       "                    background-color: #383838;\n",
       "                }\n",
       "\n",
       "                .geemap-dark .jupyter-button {\n",
       "                    --jp-layout-color3: #383838;\n",
       "                }\n",
       "\n",
       "                .geemap-colab {\n",
       "                    background-color: var(--colab-primary-surface-color, white);\n",
       "                }\n",
       "\n",
       "                .geemap-colab .jupyter-button {\n",
       "                    --jp-layout-color3: var(--colab-primary-surface-color, white);\n",
       "                }\n",
       "            </style>\n",
       "            "
      ],
      "text/plain": [
       "<IPython.core.display.HTML object>"
      ]
     },
     "metadata": {},
     "output_type": "display_data"
    },
    {
     "name": "stdout",
     "output_type": "stream",
     "text": [
      "Functions ready!\n"
     ]
    }
   ],
   "source": [
    "def monitor_gee_export(task, sleep=30):\n",
    "    \"\"\" Monitors EE export task \"\"\"\n",
    "    while task.active():\n",
    "        print('Waiting for export to finish..\\n\\tPatience young padawan.')\n",
    "        time.sleep(sleep)  # Check every 30 seconds\n",
    "    \n",
    "    # Get the status of the task\n",
    "    status = task.status()\n",
    "    \n",
    "    # Check if the task failed or succeeded\n",
    "    if status['state'] == 'COMPLETED':\n",
    "        print(\"Export completed successfully !!!!\")\n",
    "    elif status['state'] == 'FAILED':\n",
    "        print(f\"Export failed! Bummer. Reason: {status.get('error_message', 'Unknown error')}\")\n",
    "    else:\n",
    "        print(f\"Export ended with state: {status['state']}\")\n",
    "\n",
    "print(\"Functions ready!\")"
   ]
  },
  {
   "cell_type": "code",
   "execution_count": 3,
   "id": "630cba3c-2a17-432d-83aa-db242a71dcbe",
   "metadata": {},
   "outputs": [
    {
     "data": {
      "text/html": [
       "\n",
       "            <style>\n",
       "                .geemap-dark {\n",
       "                    --jp-widgets-color: white;\n",
       "                    --jp-widgets-label-color: white;\n",
       "                    --jp-ui-font-color1: white;\n",
       "                    --jp-layout-color2: #454545;\n",
       "                    background-color: #383838;\n",
       "                }\n",
       "\n",
       "                .geemap-dark .jupyter-button {\n",
       "                    --jp-layout-color3: #383838;\n",
       "                }\n",
       "\n",
       "                .geemap-colab {\n",
       "                    background-color: var(--colab-primary-surface-color, white);\n",
       "                }\n",
       "\n",
       "                .geemap-colab .jupyter-button {\n",
       "                    --jp-layout-color3: var(--colab-primary-surface-color, white);\n",
       "                }\n",
       "            </style>\n",
       "            "
      ],
      "text/plain": [
       "<IPython.core.display.HTML object>"
      ]
     },
     "metadata": {},
     "output_type": "display_data"
    },
    {
     "name": "stdout",
     "output_type": "stream",
     "text": [
      "['fid', 'FRP', 'NIFC_NAME', 'LONGITUDE', 'ACQ_YEAR', 'ACQ_TIME', 'SCAN', 'BRIGHTNESS', 'CONFIDENCE', 'TYPE', 'SATELLITE', 'na_l3name', 'DAYNIGHT', 'TRACK', 'INSTRUMENT', 'VID', 'NIFC_ID', 'START_YEAR', 'ACQ_DATETI', 'ACQ_MONTH', 'WF_CESSATI', 'VERSION', 'BRIGHT_T31', 'DISCOVERY_', 'afdID', 'LATITUDE', 'system:index', 'ACQ_DATE']\n"
     ]
    }
   ],
   "source": [
    "# Load the FRP observations\n",
    "afd = ee.FeatureCollection('projects/jfsp-aspen/assets/AFD/combined-afd_aspen-fires_2018_to_2023')\n",
    "print(afd.first().propertyNames().getInfo())"
   ]
  },
  {
   "cell_type": "code",
   "execution_count": 4,
   "id": "0fb708c8-2a03-4d97-877f-5d2d0b20b2dd",
   "metadata": {},
   "outputs": [
    {
     "data": {
      "text/html": [
       "\n",
       "            <style>\n",
       "                .geemap-dark {\n",
       "                    --jp-widgets-color: white;\n",
       "                    --jp-widgets-label-color: white;\n",
       "                    --jp-ui-font-color1: white;\n",
       "                    --jp-layout-color2: #454545;\n",
       "                    background-color: #383838;\n",
       "                }\n",
       "\n",
       "                .geemap-dark .jupyter-button {\n",
       "                    --jp-layout-color3: #383838;\n",
       "                }\n",
       "\n",
       "                .geemap-colab {\n",
       "                    background-color: var(--colab-primary-surface-color, white);\n",
       "                }\n",
       "\n",
       "                .geemap-colab .jupyter-button {\n",
       "                    --jp-layout-color3: var(--colab-primary-surface-color, white);\n",
       "                }\n",
       "            </style>\n",
       "            "
      ],
      "text/plain": [
       "<IPython.core.display.HTML object>"
      ]
     },
     "metadata": {},
     "output_type": "display_data"
    },
    {
     "name": "stdout",
     "output_type": "stream",
     "text": [
      "['system:index', 'afdID']\n"
     ]
    }
   ],
   "source": [
    "afd = afd.select(['afdID'])\n",
    "print(afd.first().propertyNames().getInfo())"
   ]
  },
  {
   "cell_type": "code",
   "execution_count": 5,
   "id": "5353a9bb-29d8-4a92-9012-3cfe607cf35f",
   "metadata": {},
   "outputs": [
    {
     "data": {
      "text/html": [
       "\n",
       "            <style>\n",
       "                .geemap-dark {\n",
       "                    --jp-widgets-color: white;\n",
       "                    --jp-widgets-label-color: white;\n",
       "                    --jp-ui-font-color1: white;\n",
       "                    --jp-layout-color2: #454545;\n",
       "                    background-color: #383838;\n",
       "                }\n",
       "\n",
       "                .geemap-dark .jupyter-button {\n",
       "                    --jp-layout-color3: #383838;\n",
       "                }\n",
       "\n",
       "                .geemap-colab {\n",
       "                    background-color: var(--colab-primary-surface-color, white);\n",
       "                }\n",
       "\n",
       "                .geemap-colab .jupyter-button {\n",
       "                    --jp-layout-color3: var(--colab-primary-surface-color, white);\n",
       "                }\n",
       "            </style>\n",
       "            "
      ],
      "text/plain": [
       "<IPython.core.display.HTML object>"
      ]
     },
     "metadata": {},
     "output_type": "display_data"
    },
    {
     "name": "stdout",
     "output_type": "stream",
     "text": [
      "['CBI', 'CBI_bc', 'rbr']\n"
     ]
    }
   ],
   "source": [
    "# Load the CBI mosaic\n",
    "cbi = ee.Image('projects/jfsp-aspen/assets/CBI/afd_aspen-fires_2018_to_2023_cbi-mosaic')\n",
    "print(cbi.bandNames().getInfo())"
   ]
  },
  {
   "cell_type": "code",
   "execution_count": null,
   "id": "aa999669-b262-4046-bbdf-f9dcdeb9f047",
   "metadata": {},
   "outputs": [],
   "source": []
  },
  {
   "cell_type": "code",
   "execution_count": 6,
   "id": "23f19120-2364-4b06-a527-06797a67b9ea",
   "metadata": {},
   "outputs": [
    {
     "data": {
      "text/html": [
       "\n",
       "            <style>\n",
       "                .geemap-dark {\n",
       "                    --jp-widgets-color: white;\n",
       "                    --jp-widgets-label-color: white;\n",
       "                    --jp-ui-font-color1: white;\n",
       "                    --jp-layout-color2: #454545;\n",
       "                    background-color: #383838;\n",
       "                }\n",
       "\n",
       "                .geemap-dark .jupyter-button {\n",
       "                    --jp-layout-color3: #383838;\n",
       "                }\n",
       "\n",
       "                .geemap-colab {\n",
       "                    background-color: var(--colab-primary-surface-color, white);\n",
       "                }\n",
       "\n",
       "                .geemap-colab .jupyter-button {\n",
       "                    --jp-layout-color3: var(--colab-primary-surface-color, white);\n",
       "                }\n",
       "            </style>\n",
       "            "
      ],
      "text/plain": [
       "<IPython.core.display.HTML object>"
      ]
     },
     "metadata": {},
     "output_type": "display_data"
    }
   ],
   "source": [
    "# Set up the reductions for CBI statistics in AFD observations and export."
   ]
  },
  {
   "cell_type": "code",
   "execution_count": 7,
   "id": "c6a39923-8b86-4f0b-9667-c3cde87c6048",
   "metadata": {},
   "outputs": [
    {
     "data": {
      "text/html": [
       "\n",
       "            <style>\n",
       "                .geemap-dark {\n",
       "                    --jp-widgets-color: white;\n",
       "                    --jp-widgets-label-color: white;\n",
       "                    --jp-ui-font-color1: white;\n",
       "                    --jp-layout-color2: #454545;\n",
       "                    background-color: #383838;\n",
       "                }\n",
       "\n",
       "                .geemap-dark .jupyter-button {\n",
       "                    --jp-layout-color3: #383838;\n",
       "                }\n",
       "\n",
       "                .geemap-colab {\n",
       "                    background-color: var(--colab-primary-surface-color, white);\n",
       "                }\n",
       "\n",
       "                .geemap-colab .jupyter-button {\n",
       "                    --jp-layout-color3: var(--colab-primary-surface-color, white);\n",
       "                }\n",
       "            </style>\n",
       "            "
      ],
      "text/plain": [
       "<IPython.core.display.HTML object>"
      ]
     },
     "metadata": {},
     "output_type": "display_data"
    },
    {
     "name": "stdout",
     "output_type": "stream",
     "text": [
      "Submitted !\n"
     ]
    }
   ],
   "source": [
    "# Multiple reducer\n",
    "mean_med_stdDev = ee.Reducer.mean().combine(\n",
    "    reducer2=ee.Reducer.stdDev(), sharedInputs=True).combine(\n",
    "    reducer2=ee.Reducer.median(), sharedInputs=True)\n",
    "\n",
    "# Perform the reduction by AFD observations\n",
    "cbi_stats = cbi.reduceRegions(\n",
    "    collection=afd,\n",
    "    reducer=mean_med_stdDev, # Mean and Standard Deviation CBI, CBI_bc, rbr\n",
    "    scale=30\n",
    ")\n",
    "\n",
    "print(\"Submitted !\")"
   ]
  },
  {
   "cell_type": "code",
   "execution_count": 8,
   "id": "57dd03bb-7a02-432a-9bd8-7d4b86d87aa1",
   "metadata": {},
   "outputs": [
    {
     "data": {
      "text/html": [
       "\n",
       "            <style>\n",
       "                .geemap-dark {\n",
       "                    --jp-widgets-color: white;\n",
       "                    --jp-widgets-label-color: white;\n",
       "                    --jp-ui-font-color1: white;\n",
       "                    --jp-layout-color2: #454545;\n",
       "                    background-color: #383838;\n",
       "                }\n",
       "\n",
       "                .geemap-dark .jupyter-button {\n",
       "                    --jp-layout-color3: #383838;\n",
       "                }\n",
       "\n",
       "                .geemap-colab {\n",
       "                    background-color: var(--colab-primary-surface-color, white);\n",
       "                }\n",
       "\n",
       "                .geemap-colab .jupyter-button {\n",
       "                    --jp-layout-color3: var(--colab-primary-surface-color, white);\n",
       "                }\n",
       "            </style>\n",
       "            "
      ],
      "text/plain": [
       "<IPython.core.display.HTML object>"
      ]
     },
     "metadata": {},
     "output_type": "display_data"
    },
    {
     "name": "stdout",
     "output_type": "stream",
     "text": [
      "Export to Earth Engine Asset started!\n",
      "Waiting for export to finish..\n",
      "\tPatience young padawan.\n",
      "Waiting for export to finish..\n",
      "\tPatience young padawan.\n",
      "Export completed successfully !!!!\n"
     ]
    }
   ],
   "source": [
    "# Export table to Drive.\n",
    "\n",
    "cbi_stats = cbi_stats.map(lambda feature: feature.setGeometry(None)) # drop geometry column\n",
    "\n",
    "export_task = ee.batch.Export.table.toDrive(\n",
    "    collection=cbi_stats,\n",
    "    description='afd_aspen-fires_cbi-stats',\n",
    "    fileFormat='CSV', \n",
    "    fileNamePrefix='afd_aspen-fires_cbi-stats',\n",
    "    folder='CBI'\n",
    ")\n",
    "\n",
    "# Start the export task\n",
    "export_task.start()\n",
    "print(\"Export to Earth Engine Asset started!\")\n",
    "# Monitor the task until it's finished\n",
    "monitor_gee_export(export_task, 120) # print every 2 min"
   ]
  },
  {
   "cell_type": "code",
   "execution_count": null,
   "id": "b746ad32-3cba-43b1-9a3d-eecd5fe10590",
   "metadata": {},
   "outputs": [],
   "source": []
  },
  {
   "cell_type": "code",
   "execution_count": null,
   "id": "ca559e11-d212-4327-9f15-b0c3c850cfd4",
   "metadata": {},
   "outputs": [],
   "source": []
  },
  {
   "cell_type": "code",
   "execution_count": null,
   "id": "b5bc666d-fd99-4909-84d9-aca496017f48",
   "metadata": {},
   "outputs": [],
   "source": []
  },
  {
   "cell_type": "code",
   "execution_count": null,
   "id": "da04348d-571d-454f-b40f-1dba34a8af53",
   "metadata": {},
   "outputs": [],
   "source": [
    "# Work with the exported data."
   ]
  },
  {
   "cell_type": "code",
   "execution_count": null,
   "id": "628a468e-d40f-4bb9-8930-dabb8d8194ff",
   "metadata": {},
   "outputs": [],
   "source": []
  },
  {
   "cell_type": "code",
   "execution_count": 3,
   "id": "3f5a8af4-f861-42ae-9369-e15c39c1701a",
   "metadata": {},
   "outputs": [
    {
     "data": {
      "text/html": [
       "\n",
       "            <style>\n",
       "                .geemap-dark {\n",
       "                    --jp-widgets-color: white;\n",
       "                    --jp-widgets-label-color: white;\n",
       "                    --jp-ui-font-color1: white;\n",
       "                    --jp-layout-color2: #454545;\n",
       "                    background-color: #383838;\n",
       "                }\n",
       "\n",
       "                .geemap-dark .jupyter-button {\n",
       "                    --jp-layout-color3: #383838;\n",
       "                }\n",
       "\n",
       "                .geemap-colab {\n",
       "                    background-color: var(--colab-primary-surface-color, white);\n",
       "                }\n",
       "\n",
       "                .geemap-colab .jupyter-button {\n",
       "                    --jp-layout-color3: var(--colab-primary-surface-color, white);\n",
       "                }\n",
       "            </style>\n",
       "            "
      ],
      "text/plain": [
       "<IPython.core.display.HTML object>"
      ]
     },
     "metadata": {},
     "output_type": "display_data"
    },
    {
     "data": {
      "text/plain": [
       "Index(['system:index', 'CBI_bc_mean', 'CBI_bc_median', 'CBI_bc_stdDev',\n",
       "       'CBI_mean', 'CBI_median', 'CBI_stdDev', 'afdID', 'rbr_mean',\n",
       "       'rbr_median', 'rbr_stdDev', '.geo'],\n",
       "      dtype='object')"
      ]
     },
     "execution_count": 3,
     "metadata": {},
     "output_type": "execute_result"
    }
   ],
   "source": [
    "# Load the exported table.\n",
    "fp = os.path.join(projdir,'data/earth-engine/exports/cbi/afd_aspen-fires_cbi-stats.csv')\n",
    "cbi = pd.read_csv(fp)\n",
    "cbi.columns"
   ]
  },
  {
   "cell_type": "code",
   "execution_count": 4,
   "id": "c41da35e-944c-4a00-a951-bd2a750063b3",
   "metadata": {},
   "outputs": [
    {
     "data": {
      "text/html": [
       "\n",
       "            <style>\n",
       "                .geemap-dark {\n",
       "                    --jp-widgets-color: white;\n",
       "                    --jp-widgets-label-color: white;\n",
       "                    --jp-ui-font-color1: white;\n",
       "                    --jp-layout-color2: #454545;\n",
       "                    background-color: #383838;\n",
       "                }\n",
       "\n",
       "                .geemap-dark .jupyter-button {\n",
       "                    --jp-layout-color3: #383838;\n",
       "                }\n",
       "\n",
       "                .geemap-colab {\n",
       "                    background-color: var(--colab-primary-surface-color, white);\n",
       "                }\n",
       "\n",
       "                .geemap-colab .jupyter-button {\n",
       "                    --jp-layout-color3: var(--colab-primary-surface-color, white);\n",
       "                }\n",
       "            </style>\n",
       "            "
      ],
      "text/plain": [
       "<IPython.core.display.HTML object>"
      ]
     },
     "metadata": {},
     "output_type": "display_data"
    },
    {
     "data": {
      "text/html": [
       "<div>\n",
       "<style scoped>\n",
       "    .dataframe tbody tr th:only-of-type {\n",
       "        vertical-align: middle;\n",
       "    }\n",
       "\n",
       "    .dataframe tbody tr th {\n",
       "        vertical-align: top;\n",
       "    }\n",
       "\n",
       "    .dataframe thead th {\n",
       "        text-align: right;\n",
       "    }\n",
       "</style>\n",
       "<table border=\"1\" class=\"dataframe\">\n",
       "  <thead>\n",
       "    <tr style=\"text-align: right;\">\n",
       "      <th></th>\n",
       "      <th>CBI_bc_mean</th>\n",
       "      <th>CBI_bc_median</th>\n",
       "      <th>CBI_bc_stdDev</th>\n",
       "      <th>CBI_mean</th>\n",
       "      <th>CBI_median</th>\n",
       "      <th>CBI_stdDev</th>\n",
       "      <th>afdID</th>\n",
       "      <th>rbr_mean</th>\n",
       "      <th>rbr_median</th>\n",
       "      <th>rbr_stdDev</th>\n",
       "    </tr>\n",
       "  </thead>\n",
       "  <tbody>\n",
       "    <tr>\n",
       "      <th>0</th>\n",
       "      <td>1.345921</td>\n",
       "      <td>1.16581</td>\n",
       "      <td>0.766035</td>\n",
       "      <td>1.405602</td>\n",
       "      <td>1.254632</td>\n",
       "      <td>0.621546</td>\n",
       "      <td>MODIS12004</td>\n",
       "      <td>176.382395</td>\n",
       "      <td>124.973379</td>\n",
       "      <td>135.908069</td>\n",
       "    </tr>\n",
       "    <tr>\n",
       "      <th>1</th>\n",
       "      <td>0.639773</td>\n",
       "      <td>0.12000</td>\n",
       "      <td>0.921366</td>\n",
       "      <td>0.811641</td>\n",
       "      <td>0.445554</td>\n",
       "      <td>0.770013</td>\n",
       "      <td>MODIS12037</td>\n",
       "      <td>87.950558</td>\n",
       "      <td>25.545880</td>\n",
       "      <td>136.633111</td>\n",
       "    </tr>\n",
       "    <tr>\n",
       "      <th>2</th>\n",
       "      <td>2.357810</td>\n",
       "      <td>2.69000</td>\n",
       "      <td>0.702763</td>\n",
       "      <td>2.240195</td>\n",
       "      <td>2.524546</td>\n",
       "      <td>0.587089</td>\n",
       "      <td>MODIS12038</td>\n",
       "      <td>385.084445</td>\n",
       "      <td>425.293223</td>\n",
       "      <td>169.026412</td>\n",
       "    </tr>\n",
       "    <tr>\n",
       "      <th>3</th>\n",
       "      <td>1.987865</td>\n",
       "      <td>2.21000</td>\n",
       "      <td>0.773277</td>\n",
       "      <td>1.931922</td>\n",
       "      <td>2.113200</td>\n",
       "      <td>0.633484</td>\n",
       "      <td>MODIS12039</td>\n",
       "      <td>293.339556</td>\n",
       "      <td>301.692308</td>\n",
       "      <td>145.768924</td>\n",
       "    </tr>\n",
       "    <tr>\n",
       "      <th>4</th>\n",
       "      <td>1.765142</td>\n",
       "      <td>1.74000</td>\n",
       "      <td>0.872010</td>\n",
       "      <td>1.751206</td>\n",
       "      <td>1.710000</td>\n",
       "      <td>0.715643</td>\n",
       "      <td>MODIS12040</td>\n",
       "      <td>246.728583</td>\n",
       "      <td>206.400000</td>\n",
       "      <td>156.294200</td>\n",
       "    </tr>\n",
       "  </tbody>\n",
       "</table>\n",
       "</div>"
      ],
      "text/plain": [
       "   CBI_bc_mean  CBI_bc_median  CBI_bc_stdDev  CBI_mean  CBI_median  \\\n",
       "0     1.345921        1.16581       0.766035  1.405602    1.254632   \n",
       "1     0.639773        0.12000       0.921366  0.811641    0.445554   \n",
       "2     2.357810        2.69000       0.702763  2.240195    2.524546   \n",
       "3     1.987865        2.21000       0.773277  1.931922    2.113200   \n",
       "4     1.765142        1.74000       0.872010  1.751206    1.710000   \n",
       "\n",
       "   CBI_stdDev       afdID    rbr_mean  rbr_median  rbr_stdDev  \n",
       "0    0.621546  MODIS12004  176.382395  124.973379  135.908069  \n",
       "1    0.770013  MODIS12037   87.950558   25.545880  136.633111  \n",
       "2    0.587089  MODIS12038  385.084445  425.293223  169.026412  \n",
       "3    0.633484  MODIS12039  293.339556  301.692308  145.768924  \n",
       "4    0.715643  MODIS12040  246.728583  206.400000  156.294200  "
      ]
     },
     "execution_count": 4,
     "metadata": {},
     "output_type": "execute_result"
    }
   ],
   "source": [
    "cbi.drop(columns=['system:index','.geo'], inplace=True)\n",
    "cbi.head()"
   ]
  },
  {
   "cell_type": "code",
   "execution_count": null,
   "id": "a63402dc-0ee5-406e-a484-2aea57871fcd",
   "metadata": {},
   "outputs": [],
   "source": []
  },
  {
   "cell_type": "code",
   "execution_count": null,
   "id": "274815de-2133-489a-87fc-81664200508d",
   "metadata": {},
   "outputs": [],
   "source": [
    "# Join back to the afd data."
   ]
  },
  {
   "cell_type": "code",
   "execution_count": null,
   "id": "7aeb84b5-86cb-47e1-b4b6-8759806d53a7",
   "metadata": {},
   "outputs": [],
   "source": []
  },
  {
   "cell_type": "code",
   "execution_count": 5,
   "id": "bd5c2098-b2d0-4711-ba2e-382ab5c21a4b",
   "metadata": {},
   "outputs": [
    {
     "data": {
      "text/html": [
       "\n",
       "            <style>\n",
       "                .geemap-dark {\n",
       "                    --jp-widgets-color: white;\n",
       "                    --jp-widgets-label-color: white;\n",
       "                    --jp-ui-font-color1: white;\n",
       "                    --jp-layout-color2: #454545;\n",
       "                    background-color: #383838;\n",
       "                }\n",
       "\n",
       "                .geemap-dark .jupyter-button {\n",
       "                    --jp-layout-color3: #383838;\n",
       "                }\n",
       "\n",
       "                .geemap-colab {\n",
       "                    background-color: var(--colab-primary-surface-color, white);\n",
       "                }\n",
       "\n",
       "                .geemap-colab .jupyter-button {\n",
       "                    --jp-layout-color3: var(--colab-primary-surface-color, white);\n",
       "                }\n",
       "            </style>\n",
       "            "
      ],
      "text/plain": [
       "<IPython.core.display.HTML object>"
      ]
     },
     "metadata": {},
     "output_type": "display_data"
    },
    {
     "data": {
      "text/plain": [
       "Index(['LATITUDE', 'LONGITUDE', 'BRIGHTNESS', 'SCAN', 'TRACK', 'ACQ_DATE',\n",
       "       'ACQ_TIME', 'SATELLITE', 'INSTRUMENT', 'CONFIDENCE', 'VERSION',\n",
       "       'BRIGHT_T31', 'FRP', 'DAYNIGHT', 'TYPE', 'VID', 'NIFC_ID', 'NIFC_NAME',\n",
       "       'START_YEAR', 'DISCOVERY_DATE', 'WF_CESSATION_DATE', 'na_l3name',\n",
       "       'ACQ_MONTH', 'ACQ_YEAR', 'ACQ_DATETIME', 'afdID', 'geometry'],\n",
       "      dtype='object')"
      ]
     },
     "execution_count": 5,
     "metadata": {},
     "output_type": "execute_result"
    }
   ],
   "source": [
    "fp = os.path.join(projdir,'data/spatial/mod/AFD/combined-afd_aspen-fires_2018_to_2023_buffer.gpkg')\n",
    "afd = gpd.read_file(fp)\n",
    "afd.columns"
   ]
  },
  {
   "cell_type": "code",
   "execution_count": 7,
   "id": "6d0af52e-91e1-439c-bc00-3c93ac217210",
   "metadata": {},
   "outputs": [
    {
     "data": {
      "text/html": [
       "\n",
       "            <style>\n",
       "                .geemap-dark {\n",
       "                    --jp-widgets-color: white;\n",
       "                    --jp-widgets-label-color: white;\n",
       "                    --jp-ui-font-color1: white;\n",
       "                    --jp-layout-color2: #454545;\n",
       "                    background-color: #383838;\n",
       "                }\n",
       "\n",
       "                .geemap-dark .jupyter-button {\n",
       "                    --jp-layout-color3: #383838;\n",
       "                }\n",
       "\n",
       "                .geemap-colab {\n",
       "                    background-color: var(--colab-primary-surface-color, white);\n",
       "                }\n",
       "\n",
       "                .geemap-colab .jupyter-button {\n",
       "                    --jp-layout-color3: var(--colab-primary-surface-color, white);\n",
       "                }\n",
       "            </style>\n",
       "            "
      ],
      "text/plain": [
       "<IPython.core.display.HTML object>"
      ]
     },
     "metadata": {},
     "output_type": "display_data"
    },
    {
     "data": {
      "text/html": [
       "<div>\n",
       "<style scoped>\n",
       "    .dataframe tbody tr th:only-of-type {\n",
       "        vertical-align: middle;\n",
       "    }\n",
       "\n",
       "    .dataframe tbody tr th {\n",
       "        vertical-align: top;\n",
       "    }\n",
       "\n",
       "    .dataframe thead th {\n",
       "        text-align: right;\n",
       "    }\n",
       "</style>\n",
       "<table border=\"1\" class=\"dataframe\">\n",
       "  <thead>\n",
       "    <tr style=\"text-align: right;\">\n",
       "      <th></th>\n",
       "      <th>afdID</th>\n",
       "      <th>NIFC_ID</th>\n",
       "      <th>NIFC_NAME</th>\n",
       "      <th>START_YEAR</th>\n",
       "      <th>DISCOVERY_DATE</th>\n",
       "      <th>WF_CESSATION_DATE</th>\n",
       "      <th>SATELLITE</th>\n",
       "      <th>INSTRUMENT</th>\n",
       "      <th>ACQ_MONTH</th>\n",
       "      <th>ACQ_YEAR</th>\n",
       "      <th>ACQ_DATETIME</th>\n",
       "      <th>DAYNIGHT</th>\n",
       "      <th>FRP</th>\n",
       "      <th>CBI_bc_mean</th>\n",
       "      <th>CBI_mean</th>\n",
       "      <th>rbr_mean</th>\n",
       "      <th>na_l3name</th>\n",
       "      <th>LATITUDE</th>\n",
       "      <th>LONGITUDE</th>\n",
       "    </tr>\n",
       "  </thead>\n",
       "  <tbody>\n",
       "    <tr>\n",
       "      <th>0</th>\n",
       "      <td>MODIS7298</td>\n",
       "      <td>9582</td>\n",
       "      <td>SAULS</td>\n",
       "      <td>2018</td>\n",
       "      <td>2018-05-15 21:06:00</td>\n",
       "      <td>2018-06-16 19:00:00</td>\n",
       "      <td>Aqua</td>\n",
       "      <td>MODIS</td>\n",
       "      <td>5</td>\n",
       "      <td>2018</td>\n",
       "      <td>2018-05-17 20:36:00+00:00</td>\n",
       "      <td>D</td>\n",
       "      <td>9.4</td>\n",
       "      <td>0.561870</td>\n",
       "      <td>0.782353</td>\n",
       "      <td>71.503814</td>\n",
       "      <td>Wasatch and Uinta Mountains</td>\n",
       "      <td>39.4852</td>\n",
       "      <td>-111.7325</td>\n",
       "    </tr>\n",
       "    <tr>\n",
       "      <th>1</th>\n",
       "      <td>MODIS7301</td>\n",
       "      <td>9582</td>\n",
       "      <td>SAULS</td>\n",
       "      <td>2018</td>\n",
       "      <td>2018-05-15 21:06:00</td>\n",
       "      <td>2018-06-16 19:00:00</td>\n",
       "      <td>Aqua</td>\n",
       "      <td>MODIS</td>\n",
       "      <td>5</td>\n",
       "      <td>2018</td>\n",
       "      <td>2018-05-17 20:36:00+00:00</td>\n",
       "      <td>D</td>\n",
       "      <td>72.8</td>\n",
       "      <td>0.131282</td>\n",
       "      <td>0.425406</td>\n",
       "      <td>9.243563</td>\n",
       "      <td>Wasatch and Uinta Mountains</td>\n",
       "      <td>39.4836</td>\n",
       "      <td>-111.7439</td>\n",
       "    </tr>\n",
       "    <tr>\n",
       "      <th>2</th>\n",
       "      <td>MODIS7989</td>\n",
       "      <td>69318</td>\n",
       "      <td>PINE RIDGE</td>\n",
       "      <td>2018</td>\n",
       "      <td>2018-05-26 14:03:00</td>\n",
       "      <td>2018-05-27 18:30:00</td>\n",
       "      <td>Aqua</td>\n",
       "      <td>MODIS</td>\n",
       "      <td>5</td>\n",
       "      <td>2018</td>\n",
       "      <td>2018-05-26 20:30:00+00:00</td>\n",
       "      <td>D</td>\n",
       "      <td>232.9</td>\n",
       "      <td>0.751896</td>\n",
       "      <td>0.937893</td>\n",
       "      <td>83.385192</td>\n",
       "      <td>Colorado Plateaus</td>\n",
       "      <td>40.5781</td>\n",
       "      <td>-109.7424</td>\n",
       "    </tr>\n",
       "    <tr>\n",
       "      <th>3</th>\n",
       "      <td>MODIS7990</td>\n",
       "      <td>69318</td>\n",
       "      <td>PINE RIDGE</td>\n",
       "      <td>2018</td>\n",
       "      <td>2018-05-26 14:03:00</td>\n",
       "      <td>2018-05-27 18:30:00</td>\n",
       "      <td>Aqua</td>\n",
       "      <td>MODIS</td>\n",
       "      <td>5</td>\n",
       "      <td>2018</td>\n",
       "      <td>2018-05-26 20:30:00+00:00</td>\n",
       "      <td>D</td>\n",
       "      <td>66.5</td>\n",
       "      <td>0.645225</td>\n",
       "      <td>0.828863</td>\n",
       "      <td>62.153224</td>\n",
       "      <td>Colorado Plateaus</td>\n",
       "      <td>40.5797</td>\n",
       "      <td>-109.7306</td>\n",
       "    </tr>\n",
       "    <tr>\n",
       "      <th>4</th>\n",
       "      <td>MODIS7991</td>\n",
       "      <td>69318</td>\n",
       "      <td>PINE RIDGE</td>\n",
       "      <td>2018</td>\n",
       "      <td>2018-05-26 14:03:00</td>\n",
       "      <td>2018-05-27 18:30:00</td>\n",
       "      <td>Aqua</td>\n",
       "      <td>MODIS</td>\n",
       "      <td>5</td>\n",
       "      <td>2018</td>\n",
       "      <td>2018-05-26 20:30:00+00:00</td>\n",
       "      <td>D</td>\n",
       "      <td>93.1</td>\n",
       "      <td>0.049575</td>\n",
       "      <td>0.349078</td>\n",
       "      <td>-2.606044</td>\n",
       "      <td>Colorado Plateaus</td>\n",
       "      <td>40.5692</td>\n",
       "      <td>-109.7402</td>\n",
       "    </tr>\n",
       "  </tbody>\n",
       "</table>\n",
       "</div>"
      ],
      "text/plain": [
       "       afdID NIFC_ID   NIFC_NAME  START_YEAR      DISCOVERY_DATE  \\\n",
       "0  MODIS7298    9582       SAULS        2018 2018-05-15 21:06:00   \n",
       "1  MODIS7301    9582       SAULS        2018 2018-05-15 21:06:00   \n",
       "2  MODIS7989   69318  PINE RIDGE        2018 2018-05-26 14:03:00   \n",
       "3  MODIS7990   69318  PINE RIDGE        2018 2018-05-26 14:03:00   \n",
       "4  MODIS7991   69318  PINE RIDGE        2018 2018-05-26 14:03:00   \n",
       "\n",
       "    WF_CESSATION_DATE SATELLITE INSTRUMENT  ACQ_MONTH  ACQ_YEAR  \\\n",
       "0 2018-06-16 19:00:00      Aqua      MODIS          5      2018   \n",
       "1 2018-06-16 19:00:00      Aqua      MODIS          5      2018   \n",
       "2 2018-05-27 18:30:00      Aqua      MODIS          5      2018   \n",
       "3 2018-05-27 18:30:00      Aqua      MODIS          5      2018   \n",
       "4 2018-05-27 18:30:00      Aqua      MODIS          5      2018   \n",
       "\n",
       "               ACQ_DATETIME DAYNIGHT    FRP  CBI_bc_mean  CBI_mean   rbr_mean  \\\n",
       "0 2018-05-17 20:36:00+00:00        D    9.4     0.561870  0.782353  71.503814   \n",
       "1 2018-05-17 20:36:00+00:00        D   72.8     0.131282  0.425406   9.243563   \n",
       "2 2018-05-26 20:30:00+00:00        D  232.9     0.751896  0.937893  83.385192   \n",
       "3 2018-05-26 20:30:00+00:00        D   66.5     0.645225  0.828863  62.153224   \n",
       "4 2018-05-26 20:30:00+00:00        D   93.1     0.049575  0.349078  -2.606044   \n",
       "\n",
       "                     na_l3name  LATITUDE  LONGITUDE  \n",
       "0  Wasatch and Uinta Mountains   39.4852  -111.7325  \n",
       "1  Wasatch and Uinta Mountains   39.4836  -111.7439  \n",
       "2            Colorado Plateaus   40.5781  -109.7424  \n",
       "3            Colorado Plateaus   40.5797  -109.7306  \n",
       "4            Colorado Plateaus   40.5692  -109.7402  "
      ]
     },
     "execution_count": 7,
     "metadata": {},
     "output_type": "execute_result"
    }
   ],
   "source": [
    "# Merge to AFDs\n",
    "cbi_ = cbi[['afdID','CBI_bc_mean','CBI_mean','rbr_mean']] # keep just the mean CBI (bias corrected)\n",
    "afd_ = pd.merge(afd, cbi_, right_on='afdID', left_on='afdID', how='left')\n",
    "\n",
    "# Tidy the columns for comparison of FRP and CBI.\n",
    "afd_cbi = afd_[['afdID','NIFC_ID','NIFC_NAME','START_YEAR','DISCOVERY_DATE','WF_CESSATION_DATE',\n",
    "                'SATELLITE','INSTRUMENT','ACQ_MONTH','ACQ_YEAR','ACQ_DATETIME','DAYNIGHT',\n",
    "                'FRP','CBI_bc_mean','CBI_mean','rbr_mean','na_l3name','LATITUDE','LONGITUDE']]\n",
    "afd_cbi.head()"
   ]
  },
  {
   "cell_type": "code",
   "execution_count": null,
   "id": "2187d07c-1779-4028-9791-f1d97dd25272",
   "metadata": {},
   "outputs": [],
   "source": []
  },
  {
   "cell_type": "code",
   "execution_count": 8,
   "id": "7d164e0f-9af4-4944-97dc-735585395ad6",
   "metadata": {},
   "outputs": [
    {
     "data": {
      "text/html": [
       "\n",
       "            <style>\n",
       "                .geemap-dark {\n",
       "                    --jp-widgets-color: white;\n",
       "                    --jp-widgets-label-color: white;\n",
       "                    --jp-ui-font-color1: white;\n",
       "                    --jp-layout-color2: #454545;\n",
       "                    background-color: #383838;\n",
       "                }\n",
       "\n",
       "                .geemap-dark .jupyter-button {\n",
       "                    --jp-layout-color3: #383838;\n",
       "                }\n",
       "\n",
       "                .geemap-colab {\n",
       "                    background-color: var(--colab-primary-surface-color, white);\n",
       "                }\n",
       "\n",
       "                .geemap-colab .jupyter-button {\n",
       "                    --jp-layout-color3: var(--colab-primary-surface-color, white);\n",
       "                }\n",
       "            </style>\n",
       "            "
      ],
      "text/plain": [
       "<IPython.core.display.HTML object>"
      ]
     },
     "metadata": {},
     "output_type": "display_data"
    },
    {
     "data": {
      "image/png": "[encoded data removed]",
      "text/plain": [
       "<Figure size 600x400 with 1 Axes>"
      ]
     },
     "metadata": {},
     "output_type": "display_data"
    }
   ],
   "source": [
    "plt.figure(figsize=(6, 4))\n",
    "\n",
    "sns.scatterplot(\n",
    "    x='CBI_bc_mean', y='FRP', \n",
    "    data=afd_cbi, \n",
    "    hue='DAYNIGHT', \n",
    "    alpha=0.5, \n",
    "    palette={'D': 'orange', 'N': 'blue'})\n",
    "\n",
    "plt.xlabel('CBI')\n",
    "plt.ylabel('FRP')\n",
    "plt.legend(title='Day/Night')\n",
    "plt.tight_layout()\n",
    "plt.show()"
   ]
  },
  {
   "cell_type": "code",
   "execution_count": 10,
   "id": "5830316d-e432-4738-bbff-9aa57c905ba6",
   "metadata": {},
   "outputs": [
    {
     "data": {
      "text/html": [
       "\n",
       "            <style>\n",
       "                .geemap-dark {\n",
       "                    --jp-widgets-color: white;\n",
       "                    --jp-widgets-label-color: white;\n",
       "                    --jp-ui-font-color1: white;\n",
       "                    --jp-layout-color2: #454545;\n",
       "                    background-color: #383838;\n",
       "                }\n",
       "\n",
       "                .geemap-dark .jupyter-button {\n",
       "                    --jp-layout-color3: #383838;\n",
       "                }\n",
       "\n",
       "                .geemap-colab {\n",
       "                    background-color: var(--colab-primary-surface-color, white);\n",
       "                }\n",
       "\n",
       "                .geemap-colab .jupyter-button {\n",
       "                    --jp-layout-color3: var(--colab-primary-surface-color, white);\n",
       "                }\n",
       "            </style>\n",
       "            "
      ],
      "text/plain": [
       "<IPython.core.display.HTML object>"
      ]
     },
     "metadata": {},
     "output_type": "display_data"
    },
    {
     "name": "stdout",
     "output_type": "stream",
     "text": [
      "Day: Pearson correlation = 0.109, p-value = 4.5319129521824646e-166\n",
      "Night: Pearson correlation = 0.059, p-value = 4.459790345302537e-67\n"
     ]
    }
   ],
   "source": [
    "from scipy.stats import pearsonr\n",
    "\n",
    "day_data = afd_cbi[afd_cbi['DAYNIGHT'] == 'D']\n",
    "night_data = afd_cbi[afd_cbi['DAYNIGHT'] == 'N']\n",
    "\n",
    "# Correlation for day\n",
    "corr_day, p_value_day = pearsonr(day_data['FRP'], day_data['CBI_bc_mean'])\n",
    "print(f'Day: Pearson correlation = {corr_day:.3f}, p-value = {p_value_day}')\n",
    "\n",
    "# Correlation for night\n",
    "corr_night, p_value_night = pearsonr(night_data['FRP'], night_data['CBI_bc_mean'])\n",
    "print(f'Night: Pearson correlation = {corr_night:.3f}, p-value = {p_value_night}')"
   ]
  },
  {
   "cell_type": "code",
   "execution_count": null,
   "id": "773c19d8-a49a-4b9a-9e58-25843dd2c89c",
   "metadata": {},
   "outputs": [],
   "source": []
  },
  {
   "cell_type": "code",
   "execution_count": null,
   "id": "91182354-e4c1-4f8b-8cd7-786be8590890",
   "metadata": {},
   "outputs": [],
   "source": [
    "# Export table"
   ]
  },
  {
   "cell_type": "code",
   "execution_count": 11,
   "id": "04a5fa56-be39-4e78-aa81-df7a8ebccea6",
   "metadata": {},
   "outputs": [
    {
     "data": {
      "text/html": [
       "\n",
       "            <style>\n",
       "                .geemap-dark {\n",
       "                    --jp-widgets-color: white;\n",
       "                    --jp-widgets-label-color: white;\n",
       "                    --jp-ui-font-color1: white;\n",
       "                    --jp-layout-color2: #454545;\n",
       "                    background-color: #383838;\n",
       "                }\n",
       "\n",
       "                .geemap-dark .jupyter-button {\n",
       "                    --jp-layout-color3: #383838;\n",
       "                }\n",
       "\n",
       "                .geemap-colab {\n",
       "                    background-color: var(--colab-primary-surface-color, white);\n",
       "                }\n",
       "\n",
       "                .geemap-colab .jupyter-button {\n",
       "                    --jp-layout-color3: var(--colab-primary-surface-color, white);\n",
       "                }\n",
       "            </style>\n",
       "            "
      ],
      "text/plain": [
       "<IPython.core.display.HTML object>"
      ]
     },
     "metadata": {},
     "output_type": "display_data"
    },
    {
     "name": "stdout",
     "output_type": "stream",
     "text": [
      "Saved to: /Users/max/Library/CloudStorage/OneDrive-Personal/mcook/aspen-fire/Aim2/data/tabular/mod/AFD/combined-afd_aspen-fires_cbi.csv\n"
     ]
    }
   ],
   "source": [
    "out_fp = os.path.join(projdir,'data/tabular/mod/AFD/combined-afd_aspen-fires_cbi.csv')\n",
    "afd_cbi.to_csv(out_fp)\n",
    "print(f\"Saved to: {out_fp}\")"
   ]
  }
 ],
 "metadata": {
  "kernelspec": {
   "display_name": "aspen-fire",
   "language": "python",
   "name": "aspen-fire"
  },
  "language_info": {
   "codemirror_mode": {
    "name": "ipython",
    "version": 3
   },
   "file_extension": ".py",
   "mimetype": "text/x-python",
   "name": "python",
   "nbconvert_exporter": "python",
   "pygments_lexer": "ipython3",
   "version": "3.10.12"
  }
 },
 "nbformat": 4,
 "nbformat_minor": 5
}
