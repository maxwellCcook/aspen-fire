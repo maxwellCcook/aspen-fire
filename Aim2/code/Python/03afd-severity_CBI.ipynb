{
 "cells": [
  {
   "cell_type": "code",
   "execution_count": 1,
   "id": "e8875da6-de28-494e-8590-5deff24c959f",
   "metadata": {},
   "outputs": [
    {
     "name": "stdout",
     "output_type": "stream",
     "text": [
      "Success\n"
     ]
    }
   ],
   "source": [
    "\"\"\"\n",
    "Calculate fire severity statistics within AFD observations from MODIS and VIIRS.\n",
    "Severity index: Composite Burn Severity (CBI), calculated in GEE via Parks (2018)\n",
    "\n",
    "Author: maxwell.cook@colorado.edu\n",
    "\"\"\"\n",
    "\n",
    "import ee\n",
    "import geemap\n",
    "\n",
    "ee.Authenticate()\n",
    "\n",
    "ee.Initialize(project='jfsp-aspen')\n",
    "\n",
    "print(\"Success\")"
   ]
  },
  {
   "cell_type": "code",
   "execution_count": 5,
   "id": "630cba3c-2a17-432d-83aa-db242a71dcbe",
   "metadata": {},
   "outputs": [
    {
     "data": {
      "text/html": [
       "\n",
       "            <style>\n",
       "                .geemap-dark {\n",
       "                    --jp-widgets-color: white;\n",
       "                    --jp-widgets-label-color: white;\n",
       "                    --jp-ui-font-color1: white;\n",
       "                    --jp-layout-color2: #454545;\n",
       "                    background-color: #383838;\n",
       "                }\n",
       "\n",
       "                .geemap-dark .jupyter-button {\n",
       "                    --jp-layout-color3: #383838;\n",
       "                }\n",
       "\n",
       "                .geemap-colab {\n",
       "                    background-color: var(--colab-primary-surface-color, white);\n",
       "                }\n",
       "\n",
       "                .geemap-colab .jupyter-button {\n",
       "                    --jp-layout-color3: var(--colab-primary-surface-color, white);\n",
       "                }\n",
       "            </style>\n",
       "            "
      ],
      "text/plain": [
       "<IPython.core.display.HTML object>"
      ]
     },
     "metadata": {},
     "output_type": "display_data"
    },
    {
     "name": "stdout",
     "output_type": "stream",
     "text": [
      "{'type': 'Feature', 'geometry': {'type': 'Polygon', 'coordinates': [[[-111.73731841616507, 39.48005872191875], [-111.72574402912765, 39.4815293785386], [-111.72767723384932, 39.490332419395216], [-111.73925298333046, 39.488861548276724], [-111.73731841616507, 39.48005872191875]]]}, 'id': '000000000000000020c7', 'properties': {'ACQ_DATE': '2018/05/17 00:00:00.000', 'ACQ_DATETI': '2018/05/17 00:00:00.000', 'ACQ_MONTH': 0, 'ACQ_TIME': '2036', 'ACQ_YEAR': 0, 'BRIGHTNESS': 319.7, 'BRIGHT_T31': 301.2, 'CONFIDENCE': 52, 'DAYNIGHT': 'D', 'FIRE_YEAR': 0, 'FRP': 9.4, 'INCIDENT': '2018', 'INSTRUMENT': 'MODIS', 'LATITUDE': 39.4852, 'LONGITUDE': -111.7325, 'OBJECTID': 9582, 'SATELLITE': 'Aqua', 'SCAN': 1, 'TRACK': 1, 'TYPE': 0, 'VERSION': '6.03', 'VID': 7298, 'fid': 1}}\n"
     ]
    }
   ],
   "source": [
    "# Load the FRP observations\n",
    "mod61 = ee.FeatureCollection('projects/jfsp-aspen/assets/MOD61-afd_aspen-fires_2018_to_2023')\n",
    "snpp = ee.FeatureCollection('projects/jfsp-aspen/assets/SNPP-afd_aspen-fires_2018_to_2023')\n",
    "print(mod61.first().getInfo())"
   ]
  },
  {
   "cell_type": "code",
   "execution_count": 9,
   "id": "5353a9bb-29d8-4a92-9012-3cfe607cf35f",
   "metadata": {},
   "outputs": [
    {
     "data": {
      "text/html": [
       "\n",
       "            <style>\n",
       "                .geemap-dark {\n",
       "                    --jp-widgets-color: white;\n",
       "                    --jp-widgets-label-color: white;\n",
       "                    --jp-ui-font-color1: white;\n",
       "                    --jp-layout-color2: #454545;\n",
       "                    background-color: #383838;\n",
       "                }\n",
       "\n",
       "                .geemap-dark .jupyter-button {\n",
       "                    --jp-layout-color3: #383838;\n",
       "                }\n",
       "\n",
       "                .geemap-colab {\n",
       "                    background-color: var(--colab-primary-surface-color, white);\n",
       "                }\n",
       "\n",
       "                .geemap-colab .jupyter-button {\n",
       "                    --jp-layout-color3: var(--colab-primary-surface-color, white);\n",
       "                }\n",
       "            </style>\n",
       "            "
      ],
      "text/plain": [
       "<IPython.core.display.HTML object>"
      ]
     },
     "metadata": {},
     "output_type": "display_data"
    },
    {
     "name": "stdout",
     "output_type": "stream",
     "text": [
      "{'type': 'Image', 'bands': [{'id': 'dnbr', 'data_type': {'type': 'PixelType', 'precision': 'int', 'min': -2147483648, 'max': 2147483647}, 'dimensions': [57374, 58043], 'crs': 'EPSG:4326', 'crs_transform': [0.00026949458523585647, 0, -120.32286443776425, 0, -0.00026949458523585647, 48.372391587739585]}, {'id': 'rbr', 'data_type': {'type': 'PixelType', 'precision': 'int', 'min': -2147483648, 'max': 2147483647}, 'dimensions': [57374, 58043], 'crs': 'EPSG:4326', 'crs_transform': [0.00026949458523585647, 0, -120.32286443776425, 0, -0.00026949458523585647, 48.372391587739585]}, {'id': 'rdnbr', 'data_type': {'type': 'PixelType', 'precision': 'int', 'min': -2147483648, 'max': 2147483647}, 'dimensions': [57374, 58043], 'crs': 'EPSG:4326', 'crs_transform': [0.00026949458523585647, 0, -120.32286443776425, 0, -0.00026949458523585647, 48.372391587739585]}, {'id': 'dndvi', 'data_type': {'type': 'PixelType', 'precision': 'int', 'min': -2147483648, 'max': 2147483647}, 'dimensions': [57374, 58043], 'crs': 'EPSG:4326', 'crs_transform': [0.00026949458523585647, 0, -120.32286443776425, 0, -0.00026949458523585647, 48.372391587739585]}, {'id': 'devi', 'data_type': {'type': 'PixelType', 'precision': 'int', 'min': -2147483648, 'max': 2147483647}, 'dimensions': [57374, 58043], 'crs': 'EPSG:4326', 'crs_transform': [0.00026949458523585647, 0, -120.32286443776425, 0, -0.00026949458523585647, 48.372391587739585]}, {'id': 'dndmi', 'data_type': {'type': 'PixelType', 'precision': 'int', 'min': -2147483648, 'max': 2147483647}, 'dimensions': [57374, 58043], 'crs': 'EPSG:4326', 'crs_transform': [0.00026949458523585647, 0, -120.32286443776425, 0, -0.00026949458523585647, 48.372391587739585]}, {'id': 'dmirbi', 'data_type': {'type': 'PixelType', 'precision': 'int', 'min': -2147483648, 'max': 2147483647}, 'dimensions': [57374, 58043], 'crs': 'EPSG:4326', 'crs_transform': [0.00026949458523585647, 0, -120.32286443776425, 0, -0.00026949458523585647, 48.372391587739585]}, {'id': 'post_nbr', 'data_type': {'type': 'PixelType', 'precision': 'float'}, 'dimensions': [57374, 58043], 'crs': 'EPSG:4326', 'crs_transform': [0.00026949458523585647, 0, -120.32286443776425, 0, -0.00026949458523585647, 48.372391587739585]}, {'id': 'post_mirbi', 'data_type': {'type': 'PixelType', 'precision': 'int', 'min': -2147483648, 'max': 2147483647}, 'dimensions': [57374, 58043], 'crs': 'EPSG:4326', 'crs_transform': [0.00026949458523585647, 0, -120.32286443776425, 0, -0.00026949458523585647, 48.372391587739585]}, {'id': 'CBI', 'data_type': {'type': 'PixelType', 'precision': 'double'}, 'dimensions': [57374, 58043], 'crs': 'EPSG:4326', 'crs_transform': [0.00026949458523585647, 0, -120.32286443776425, 0, -0.00026949458523585647, 48.372391587739585]}, {'id': 'CBI_bc', 'data_type': {'type': 'PixelType', 'precision': 'double'}, 'dimensions': [57374, 58043], 'crs': 'EPSG:4326', 'crs_transform': [0.00026949458523585647, 0, -120.32286443776425, 0, -0.00026949458523585647, 48.372391587739585]}], 'version': 1729307333198128, 'id': 'projects/jfsp-aspen/assets/afd_aspen-fires_cbi_mosaic_2018_to_2023', 'properties': {'system:footprint': {'type': 'LinearRing', 'coordinates': [[-114.16220345682079, 32.72911340804712], [-113.0750518209508, 32.72859218731351], [-111.5047216066462, 32.726333393611114], [-109.81359676131952, 32.72795510195404], [-108.60565047166223, 32.72911343848405], [-107.27690943993963, 32.72720216712963], [-105.9481685271473, 32.729113457587715], [-104.86069594389632, 32.728590599273744], [-104.86061044113615, 48.372526402835156], [-108.72644508935197, 48.37252676932965], [-111.14233769459534, 48.37252678360615], [-114.76617664284863, 48.37252681712636], [-118.1484263749276, 48.37252681447481], [-120.32313606901583, 48.3725264209062], [-120.32305064697553, 32.72951785972475], [-119.47716726516644, 32.72911344612626], [-118.26922099297568, 32.72795505912912], [-116.81968535748726, 32.72795505684969], [-115.37014978610961, 32.72795510497796], [-114.16220345682079, 32.72911340804712]]}, 'system:asset_size': 1092047008}}\n"
     ]
    }
   ],
   "source": [
    "# Load the CBI mosaic\n",
    "cbi = ee.Image('projects/jfsp-aspen/assets/afd_aspen-fires_cbi_mosaic_2018_to_2023')\n",
    "print(cbi.getInfo())"
   ]
  },
  {
   "cell_type": "code",
   "execution_count": null,
   "id": "aa999669-b262-4046-bbdf-f9dcdeb9f047",
   "metadata": {},
   "outputs": [],
   "source": []
  }
 ],
 "metadata": {
  "kernelspec": {
   "display_name": "aspen-fire",
   "language": "python",
   "name": "aspen-fire"
  },
  "language_info": {
   "codemirror_mode": {
    "name": "ipython",
    "version": 3
   },
   "file_extension": ".py",
   "mimetype": "text/x-python",
   "name": "python",
   "nbconvert_exporter": "python",
   "pygments_lexer": "ipython3",
   "version": "3.10.12"
  }
 },
 "nbformat": 4,
 "nbformat_minor": 5
}
