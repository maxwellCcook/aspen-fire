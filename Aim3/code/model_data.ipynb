{
 "cells": [
  {
   "cell_type": "code",
   "execution_count": null,
   "id": "e7393824-b719-401f-9e59-bbe9efcbe357",
   "metadata": {},
   "outputs": [],
   "source": [
    "\"\"\"\n",
    "Grid preparation for future aspen project:\n",
    "\n",
    "Author: maxwell.cook@colorado.edu\n",
    "\"\"\"\n",
    "\n",
    "import os, sys, time, re\n",
    "import pandas as pd\n",
    "import xarray as xr\n",
    "import geopandas as gpd\n",
    "import numpy as np\n",
    "import rasterio as rio\n",
    "import seaborn as sns\n",
    "import matplotlib.pyplot as plt\n",
    "import matplotlib.colors as mcolors\n",
    "import matplotlib.patches as mpatches\n",
    "\n",
    "from matplotlib.ticker import FuncFormatter\n",
    "from tqdm.notebook import tqdm\n",
    "from matplotlib.colors import to_rgba\n",
    "from matplotlib.patches import Patch\n",
    "from sklearn.preprocessing import MinMaxScaler\n",
    "from scipy.ndimage import distance_transform_edt\n",
    "\n",
    "maindir = '/Users/max/Library/CloudStorage/OneDrive-Personal/mcook/'\n",
    "projdir = os.path.join(maindir, 'aspen-fire/')\n",
    "\n",
    "# Custom functions\n",
    "sys.path.append(os.path.join(maindir,'aspen-fire/Aim2/code/Python'))\n",
    "from __functions import *\n",
    "\n",
    "proj = 'EPSG:5070' # albers\n",
    "\n",
    "print(\"Ready to go !\")"
   ]
  },
  {
   "cell_type": "markdown",
   "id": "e97ad4be-7c66-44be-b982-640c69ced7e7",
   "metadata": {},
   "source": [
    "## Future Fire\n",
    "\n",
    "From Stephens et al., In review, annual probability of area burned and fire occurrence. Trend to 2060 was calculated using a median-based linear model (MBLM) thielsen estimate. "
   ]
  },
  {
   "cell_type": "code",
   "execution_count": null,
   "id": "7d39e7f5-2ea1-421b-b77e-035645207a1d",
   "metadata": {},
   "outputs": [],
   "source": [
    "fp = os.path.join(projdir,'Aim3/data/spatial/mod/future_fire_grid_trend.gpkg')\n",
    "future_fire = gpd.read_file(fp)\n",
    "future_fire.head()"
   ]
  },
  {
   "cell_type": "code",
   "execution_count": null,
   "id": "62a6149a-2a15-4d65-a85a-bd62d1e28c25",
   "metadata": {},
   "outputs": [],
   "source": [
    "# check for duplicates, remove them\n",
    "n = future_fire.duplicated(subset=['grid_id']).sum()\n",
    "if n > 0:\n",
    "    print(f\"\\nThere are [{n}] duplicate rows.\\n\")\n",
    "else:\n",
    "    print(\"\\nNo duplicates at this stage.\\n\")"
   ]
  },
  {
   "cell_type": "code",
   "execution_count": null,
   "id": "bee94b58-6ae3-4a60-8418-433ae9df7f27",
   "metadata": {},
   "outputs": [],
   "source": []
  },
  {
   "cell_type": "code",
   "execution_count": null,
   "id": "6beb917a-7be2-4ab6-aad4-b204ad577fce",
   "metadata": {},
   "outputs": [],
   "source": []
  },
  {
   "cell_type": "code",
   "execution_count": null,
   "id": "bbd2aa17-e37c-4b32-aeea-2456413b7902",
   "metadata": {},
   "outputs": [],
   "source": []
  },
  {
   "cell_type": "markdown",
   "id": "edccbba0-db52-49de-8a6e-1cf4b19004b9",
   "metadata": {},
   "source": [
    "## Aspen habitat suitability \n",
    "\n",
    "From Hart et al. In Review- Calculate the change between past and future (2041-2070) aspen suitability to get the difference (future change in habitat suitability)."
   ]
  },
  {
   "cell_type": "code",
   "execution_count": null,
   "id": "47a6a604-55df-4403-8371-428a1f730be8",
   "metadata": {},
   "outputs": [],
   "source": [
    "# load the future aspen suitability predictions\n",
    "dir = os.path.join(projdir,'Aim3/data/spatial/raw/aspen_suitability/Predictions/')\n",
    "# historical suitability\n",
    "hist = os.path.join(dir,'predicted_historical_1981-2010_ensemble.tif')\n",
    "# future suitability (SSP245 2041-2070)\n",
    "ssp245 = os.path.join(dir,'predicted_SSP245_2041-2070_ensemble.tif')\n",
    "# future suitability (SSP585 2041-2070)\n",
    "ssp585 = os.path.join(dir,'predicted_SSP585_2041-2070_ensemble.tif')\n",
    "\n",
    "# load each raster\n",
    "hist_da = rxr.open_rasterio(hist, masked=True, cache=False).squeeze()\n",
    "ssp245_da = rxr.open_rasterio(ssp245, masked=True, cache=False).squeeze()\n",
    "ssp585_da = rxr.open_rasterio(ssp585, masked=True, cache=False).squeeze()\n",
    "\n",
    "# calculate the change in suitability under both scenarios\n",
    "change_SSP245 = ssp245_da - hist_da\n",
    "change_SSP585 = ssp585_da - hist_da\n",
    "\n",
    "# check the results\n",
    "out_png = os.path.join(projdir, 'Aim3/figures/srm_aspen_suitability_change_ssp585.png')\n",
    "plot_raster(change_SSP585, legend_lab = \"Aspen Suitability Change (SSP585)\", save_file=True, out_png=out_png)"
   ]
  },
  {
   "cell_type": "code",
   "execution_count": null,
   "id": "d33c4c68-ba29-4b8f-b879-88465903c2b2",
   "metadata": {},
   "outputs": [],
   "source": [
    "change_SSP245.rio.crs"
   ]
  },
  {
   "cell_type": "code",
   "execution_count": null,
   "id": "35fa43c5-1566-4886-88c6-006c49c82f42",
   "metadata": {},
   "outputs": [],
   "source": [
    "# calculate band statistics\n",
    "# mean, standard deviation, percentiles\n",
    "\n",
    "# create a list of rasters to calculate zonal stats\n",
    "das = {\n",
    "    'historic': hist_da, # historic (1981-2010) suitability\n",
    "    'ssp245': ssp245_da, # raw suitability SSP245 2041-2070\n",
    "    'ssp585': ssp585_da, # raw suitability SSP585 2041-2070\n",
    "    'delta245': change_SSP245, # change SSP245 2041-2070\n",
    "    'delta585': change_SSP585 # change SSP585 2041-2070\n",
    "}\n",
    "\n",
    "results = []\n",
    "for key, da in das.items():\n",
    "    print(f\"Processing: {key}\")\n",
    "    # ensure the correct projection\n",
    "    da_ = da.rio.reproject(proj) # matches grid\n",
    "    # calculate zonal statistics\n",
    "    zs = compute_band_stats(\n",
    "        geoms=future_fire, \n",
    "        image_da=da_, \n",
    "        id_col='grid_id', \n",
    "        stats=['mean'], # 'median','std','percentile_90'\n",
    "        attr=key,\n",
    "        ztype='continuous'\n",
    "    )\n",
    "    results.append(zs)\n",
    "\n",
    "# concatenate the results\n",
    "future_aspen = pd.concat([df.set_index(\"grid_id\") for df in results], axis=1).reset_index()\n",
    "future_aspen.head()"
   ]
  },
  {
   "cell_type": "code",
   "execution_count": null,
   "id": "3e479e97-1cd6-4af5-a592-843ed4d63df4",
   "metadata": {},
   "outputs": [],
   "source": [
    "# rename the columns\n",
    "future_aspen = future_aspen.rename(\n",
    "    columns={\n",
    "        'historic_mean': 'historic',\n",
    "        'ssp245_mean': 'ssp245',\n",
    "        'ssp585_mean': 'ssp585',\n",
    "        'delta245_mean': 'delta245',\n",
    "        'delta585_mean': 'delta585'\n",
    "    }\n",
    ")\n",
    "\n",
    "# join to the fire dataframe\n",
    "fire_fa = pd.merge(future_fire, future_aspen, on=\"grid_id\", how=\"left\")\n",
    "fire_fa.head()\n",
    "\n",
    "# save this file out\n",
    "out_fp = os.path.join(projdir, 'Aim3/data/spatial/mod/future_fire_grid_trend_aspen.gpkg')\n",
    "fire_fa.to_file(out_fp)\n",
    "print(f\"Saved to: \\n{out_fp}\")"
   ]
  },
  {
   "cell_type": "code",
   "execution_count": null,
   "id": "4eeb31cb-c96c-48ba-8822-8cf961ec5e61",
   "metadata": {},
   "outputs": [],
   "source": [
    "# tidy up\n",
    "del das, results, zs, hist_da, ssp245_da, ssp585_da, change_SSP245, change_SSP585, future_aspen\n",
    "gc.collect()"
   ]
  },
  {
   "cell_type": "code",
   "execution_count": null,
   "id": "7442b8ee-a42c-4743-9d73-c1a0a5acda03",
   "metadata": {},
   "outputs": [],
   "source": []
  },
  {
   "cell_type": "code",
   "execution_count": null,
   "id": "686830b0-9aae-4229-8e03-47090ff3495f",
   "metadata": {},
   "outputs": [],
   "source": []
  },
  {
   "cell_type": "code",
   "execution_count": null,
   "id": "86a29095-e26b-40c1-b105-557ddb1cf7d5",
   "metadata": {},
   "outputs": [],
   "source": []
  },
  {
   "cell_type": "markdown",
   "id": "cfd65dbb-afaa-437f-9df4-099855d27097",
   "metadata": {},
   "source": [
    "## Sentinel-based aspen cover (ca. 2019)\n",
    "\n",
    "From Cook et al. (2024), calculate the percent aspen canopy cover within gridcells. This should ideally be updated to 2023 ..."
   ]
  },
  {
   "cell_type": "code",
   "execution_count": null,
   "id": "847864b2-88a7-433b-a1ae-32cbda743729",
   "metadata": {},
   "outputs": [],
   "source": [
    "t0 = time.time()\n",
    "\n",
    "# load the 10-m aspen map (classification)\n",
    "aspen10_fp = os.path.join(projdir,'Aim1/data/spatial/mod/results/classification/s2aspen_distribution_10m_y2019_CookEtAl.tif')\n",
    "aspen10 = rxr.open_rasterio(aspen10_fp, cache=False, chunks='auto', mask=True).squeeze()\n",
    "print(f\"\\n{aspen10}\\n\")\n",
    "print(aspen10.rio.crs)\n",
    "\n",
    "# calculate zonal statistics\n",
    "aspen10_grids = compute_band_stats(\n",
    "    geoms=future_fire, \n",
    "    image_da=aspen10, \n",
    "    id_col='grid_id', \n",
    "    attr='aspen10',\n",
    "    ztype='categorical'\n",
    ")\n",
    "\n",
    "# only keep the count of aspen pixels\n",
    "aspen10_grids = aspen10_grids[aspen10_grids['aspen10'] == 1]\n",
    "# check the results\n",
    "print(aspen10_grids.head())\n",
    "\n",
    "t1 = (time.time() - t0) / 60\n",
    "print(f\"\\nTotal elapsed time: {t1:.2f} minutes.\\n\")\n",
    "print(\"\\n~~~~~~~~~~\\n\")"
   ]
  },
  {
   "cell_type": "code",
   "execution_count": null,
   "id": "7e85a50a-8847-4e6d-a840-095c7a11dc1f",
   "metadata": {},
   "outputs": [],
   "source": [
    "aspen10_grids['pct_cover'].describe()"
   ]
  },
  {
   "cell_type": "code",
   "execution_count": null,
   "id": "25b7a887-bab2-4d33-a335-2bce77dbaf88",
   "metadata": {},
   "outputs": [],
   "source": [
    "# rename for clarity\n",
    "aspen10_grids.rename(columns={\n",
    "    'pct_cover': 'aspen10_pct',\n",
    "    'count': 'aspen10_pixn'\n",
    "}, inplace=True)\n",
    "\n",
    "# merge back to the main grid data\n",
    "fire_fa_ = pd.merge(fire_fa, aspen10_grids[['grid_id','aspen10_pct','aspen10_pixn']], on='grid_id')\n",
    "fire_fa_.columns"
   ]
  },
  {
   "cell_type": "code",
   "execution_count": null,
   "id": "6b6d5c9c-4dd6-4bd7-a399-9cdb1992401d",
   "metadata": {},
   "outputs": [],
   "source": [
    "del aspen10, aspen10_grids, fire_fa\n",
    "gc.collect() # free memory"
   ]
  },
  {
   "cell_type": "code",
   "execution_count": null,
   "id": "72fb2d80-1922-462c-969e-1b5cf0a6134d",
   "metadata": {},
   "outputs": [],
   "source": []
  },
  {
   "cell_type": "code",
   "execution_count": null,
   "id": "50f047fd-83ec-4c92-b05a-826ad923e6cd",
   "metadata": {},
   "outputs": [],
   "source": []
  },
  {
   "cell_type": "code",
   "execution_count": null,
   "id": "cf846306-5cd8-432c-a863-66be82c8feaf",
   "metadata": {},
   "outputs": [],
   "source": []
  },
  {
   "cell_type": "markdown",
   "id": "f253c400-a855-48e3-b902-d81d3696791a",
   "metadata": {},
   "source": [
    "## Built Environment Summaries\n",
    "\n",
    "COMBUST, Microsoft Building Footprints, WorldPop population density/counts, and WUI classification (10-m)"
   ]
  },
  {
   "cell_type": "code",
   "execution_count": null,
   "id": "82fc9a14-597e-4bb0-a621-7f8d666327fa",
   "metadata": {},
   "outputs": [],
   "source": [
    "# Contemporary COMBUST grid (combustible mass of the built environment)\n",
    "combust_fp = os.path.join(projdir,'Aim3/data/spatial/raw/COMBUST/combustible_building_mass_t_2020_mean.tif')\n",
    "# Miscrosoft building footprint counts (same grid as COMBUST)\n",
    "msbf_fp = os.path.join(maindir,'earth-lab/opp-urban-fuels/data/spatial/mod/Microsoft/msbf_counts.tif')\n",
    "# WorldPop population density estimates\n",
    "wp_density_fp = os.path.join(projdir,'Aim3/data/spatial/raw/WorldPop/usa_pd_2020_1km.tif')\n",
    "wp_count_fp = os.path.join(projdir,'Aim3/data/spatial/raw/WorldPop/srm_ppp_2020_constrained.tif')\n",
    "\n",
    "# put the continuous rasters in a dictionary to calculate zonal stats\n",
    "das = {\n",
    "    'combust': combust_fp,\n",
    "    'msbf_count': msbf_fp,\n",
    "    'pop_density': wp_density_fp,\n",
    "    'pop_count': wp_count_fp,\n",
    "}\n",
    "\n",
    "results = []\n",
    "# map the dictionary, calculate zonal stats\n",
    "for key, fp in das.items():\n",
    "    print(f\"Processing: {key}\")\n",
    "    # process the raster grid\n",
    "    da = rxr.open_rasterio(fp, masked=True, cache=False).squeeze()\n",
    "    da = da.rio.reproject(proj) # ensure matching projection\n",
    "    if key == 'pop_density':\n",
    "        stat = ['mean']\n",
    "    else:\n",
    "        stat = ['sum']\n",
    "    # calculate zonal statistics\n",
    "    zs = compute_band_stats(\n",
    "        geoms=future_fire, \n",
    "        image_da=da, \n",
    "        id_col='grid_id', \n",
    "        stats=stat, \n",
    "        attr=key,\n",
    "        ztype='continuous'\n",
    "    )\n",
    "    results.append(zs)\n",
    "    del da, zs\n",
    "    \n",
    "# concatenate the results\n",
    "built_env_pop = pd.concat([df.set_index(\"grid_id\") for df in results], axis=1).reset_index()\n",
    "built_env_pop.head()"
   ]
  },
  {
   "cell_type": "markdown",
   "id": "2d82aafe-8922-46e2-9d21-b07db48eaad1",
   "metadata": {},
   "source": [
    "### Wildland Urban Interface/Intermix (SILVIS)"
   ]
  },
  {
   "cell_type": "code",
   "execution_count": 1,
   "id": "2fe64df9-07c4-44bf-8a28-2949e8a408a9",
   "metadata": {},
   "outputs": [
    {
     "ename": "NameError",
     "evalue": "name 'os' is not defined",
     "output_type": "error",
     "traceback": [
      "\u001b[0;31m---------------------------------------------------------------------------\u001b[0m",
      "\u001b[0;31mNameError\u001b[0m                                 Traceback (most recent call last)",
      "Cell \u001b[0;32mIn[1], line 2\u001b[0m\n\u001b[1;32m      1\u001b[0m \u001b[38;5;66;03m# load the results from \"wui.ipynb\"\u001b[39;00m\n\u001b[0;32m----> 2\u001b[0m fp \u001b[38;5;241m=\u001b[39m \u001b[43mos\u001b[49m\u001b[38;5;241m.\u001b[39mpath\u001b[38;5;241m.\u001b[39mjoin(projdir, \u001b[38;5;124m'\u001b[39m\u001b[38;5;124mAim3/data/tabular/srm_wui_grid_stats.csv\u001b[39m\u001b[38;5;124m'\u001b[39m)\n\u001b[1;32m      3\u001b[0m wui \u001b[38;5;241m=\u001b[39m pd\u001b[38;5;241m.\u001b[39mread_csv(fp)\n\u001b[1;32m      4\u001b[0m wui\u001b[38;5;241m.\u001b[39mhead()\n",
      "\u001b[0;31mNameError\u001b[0m: name 'os' is not defined"
     ]
    }
   ],
   "source": [
    "# load the results from \"wui.ipynb\"\n",
    "fp = os.path.join(projdir, 'Aim3/data/tabular/srm_wui_grid_stats.csv')\n",
    "wui = pd.read_csv(fp)\n",
    "wui.head()"
   ]
  },
  {
   "cell_type": "code",
   "execution_count": null,
   "id": "f8f11fee-79b2-4d59-9780-4ec2040ee86c",
   "metadata": {},
   "outputs": [],
   "source": [
    "# merge the built environment stats with the wui stats\n"
   ]
  },
  {
   "cell_type": "code",
   "execution_count": null,
   "id": "4e0aec8e-b5f9-4754-906b-155badfa943f",
   "metadata": {},
   "outputs": [],
   "source": []
  },
  {
   "cell_type": "code",
   "execution_count": null,
   "id": "24d48ca6-bf99-4300-b1b0-28853d3e2311",
   "metadata": {},
   "outputs": [],
   "source": []
  },
  {
   "cell_type": "markdown",
   "id": "37a6d2ea-3640-4b75-97cd-564bcc9b3b7b",
   "metadata": {},
   "source": [
    "## Contemporary Fire Activity and Fire Risk "
   ]
  },
  {
   "cell_type": "markdown",
   "id": "d251caee-23c9-4f86-a31d-7d3f13a9e194",
   "metadata": {},
   "source": [
    "### Ignition Causes"
   ]
  },
  {
   "cell_type": "code",
   "execution_count": null,
   "id": "52a13e8e-8d99-4e2a-aa6d-1868abf43d96",
   "metadata": {},
   "outputs": [],
   "source": [
    "# load the fpa-fod ignitions data and get the total count\n",
    "fpa_fp = os.path.join(projdir,'Aim3/data/spatial/mod/fire/srm_fpa_fod.gpkg')\n",
    "fpa = gpd.read_file(fpa_fp)\n",
    "fpa.columns"
   ]
  },
  {
   "cell_type": "code",
   "execution_count": null,
   "id": "0dea7fb8-6de4-4fba-ba3b-92adbb507d58",
   "metadata": {},
   "outputs": [],
   "source": [
    "print(fpa['FIRE_YEAR'].min())\n",
    "print(fpa['FIRE_YEAR'].max())"
   ]
  },
  {
   "cell_type": "code",
   "execution_count": null,
   "id": "d9740833-d705-44bf-88f7-22df966b007d",
   "metadata": {},
   "outputs": [],
   "source": [
    "# load the ICS (for 2021-2023)"
   ]
  },
  {
   "cell_type": "code",
   "execution_count": null,
   "id": "d4aa3eb7-06c8-4b7f-9c6f-907fd9474535",
   "metadata": {},
   "outputs": [],
   "source": [
    "fpa['NWCG_CAUSE_CLASSIFICATION'].unique()"
   ]
  },
  {
   "cell_type": "code",
   "execution_count": null,
   "id": "3cc839a2-ef31-4e7f-96f6-05f3f43b09ee",
   "metadata": {},
   "outputs": [],
   "source": [
    "# calculate the area burned by ignition cause\n",
    "cause_burned = (\n",
    "    fpa.groupby('NWCG_CAUSE_CLASSIFICATION', as_index=False)\n",
    "    .agg(\n",
    "        area_burned=('FIRE_SIZE','sum'),\n",
    "        fire_count=('OBJECTID', 'count')   \n",
    "    )\n",
    ")\n",
    "# rename the cause column\n",
    "cause_burned.rename(columns={'NWCG_CAUSE_CLASSIFICATION': 'cause'}, inplace=True)\n",
    "# replace the undetermined code\n",
    "cause_burned['cause'] = cause_burned['cause'].replace(\n",
    "    \"Missing data/not specified/undetermined\", \"Undetermined\"\n",
    ")\n",
    "# check the results\n",
    "cause_burned.head()"
   ]
  },
  {
   "cell_type": "code",
   "execution_count": null,
   "id": "1df03432-c7b6-4761-9b86-51a2d0e15699",
   "metadata": {},
   "outputs": [],
   "source": [
    "# Define labels and values for both metrics\n",
    "labels = cause_burned['cause']\n",
    "sizes_area = cause_burned['area_burned']\n",
    "sizes_count = cause_burned['fire_count']\n",
    "\n",
    "# define color mapping\n",
    "color_map = {\n",
    "    \"Human\": \"#B22222\",        \n",
    "    \"Natural\": \"#377EB8\",      \n",
    "    \"Undetermined\": \"#B3B3B3\"  \n",
    "}\n",
    "# map the colors\n",
    "colors = [color_map.get(cause, \"#CCCCCC\") for cause in cause_burned[\"cause\"]]\n",
    "\n",
    "# Create subplots for two pie charts\n",
    "fig, axes = plt.subplots(1, 2, figsize=(8, 4))\n",
    "\n",
    "axes[0].pie(sizes_area, labels=labels, autopct='%1.1f%%', startangle=140, colors=colors)\n",
    "axes[0].text(-1.3, 1.1, \"A\", fontsize=11, fontweight=\"bold\")  # Add subplot label \"A\"\n",
    "axes[1].pie(sizes_count, labels=labels, autopct='%1.1f%%', startangle=140, colors=colors)\n",
    "axes[1].text(-1.3, 1.1, \"B\", fontsize=11, fontweight=\"bold\")  # Add subplot label \"B\"\n",
    "\n",
    "# Show plot\n",
    "plt.tight_layout()\n",
    "\n",
    "plt.savefig(os.path.join(projdir, 'Aim3/figures/FPA-FOD_cause_pie.png'), dpi=300, bbox_inches='tight')\n",
    "\n",
    "plt.show()"
   ]
  },
  {
   "cell_type": "code",
   "execution_count": null,
   "id": "21ad5419-59f5-458f-98dd-d5f2e8c32ebf",
   "metadata": {},
   "outputs": [],
   "source": [
    "del fpa"
   ]
  },
  {
   "cell_type": "markdown",
   "id": "ce62bdff-f535-4654-af6d-2b9357093fb4",
   "metadata": {},
   "source": [
    "### Burned Area"
   ]
  },
  {
   "cell_type": "code",
   "execution_count": null,
   "id": "c94d31d6-144d-427f-85d3-9a914621e2b0",
   "metadata": {},
   "outputs": [],
   "source": [
    "# load burned area and calculate the cumulative area burned\n",
    "mtbs_fp = os.path.join(projdir,'Aim3/data/spatial/mod/fire/srm_mtbs_perims_dd.gpkg')\n",
    "mtbs = gpd.read_file(mtbs_fp)\n",
    "mtbs.columns"
   ]
  },
  {
   "cell_type": "code",
   "execution_count": null,
   "id": "1f0f9a6c-d523-4afd-b155-6432071cb91a",
   "metadata": {},
   "outputs": [],
   "source": [
    "mtbs['Ig_Date'] = pd.to_datetime(mtbs['Ig_Date'])\n",
    "mtbs['Fire_Year'] = mtbs['Ig_Date'].dt.year\n",
    "mtbs[['Ig_Date','Fire_Year']].head()"
   ]
  },
  {
   "cell_type": "code",
   "execution_count": null,
   "id": "5d3e258c-6bd8-48c6-a88a-3c3c8857f7fb",
   "metadata": {},
   "outputs": [],
   "source": [
    "print(mtbs['Fire_Year'].min())\n",
    "print(mtbs['Fire_Year'].max())"
   ]
  },
  {
   "cell_type": "code",
   "execution_count": null,
   "id": "88e6b6d7-814c-45e4-872e-f974df7f54d9",
   "metadata": {},
   "outputs": [],
   "source": [
    "# plot the annual area burned\n",
    "burned_area = mtbs.groupby('Fire_Year')['BurnBndAc'].sum().reset_index()\n",
    "\n",
    "# Function to format colorbar labels with 'k' notation\n",
    "def format_ticks(value, _):\n",
    "    return f'{int(value / 1000)}k'\n",
    "\n",
    "formatter = FuncFormatter(format_ticks)\n",
    "\n",
    "# Plot the results\n",
    "plt.figure(figsize=(7, 3))\n",
    "plt.bar(burned_area['Fire_Year'], burned_area['BurnBndAc'], color='grey', edgecolor='black')\n",
    "plt.xlabel('Year', fontsize=10)\n",
    "plt.ylabel('Area Burned (ha)', fontsize=9)\n",
    "plt.xticks(burned_area['Fire_Year'], rotation=45, size=8)\n",
    "\n",
    "# Apply custom formatting to y-axis\n",
    "plt.gca().yaxis.set_major_formatter(formatter)\n",
    "# plt.ylim(10000, None)\n",
    "\n",
    "plt.grid(axis='y', linestyle='--', alpha=0.7)\n",
    "plt.tight_layout()\n",
    "\n",
    "plt.savefig(os.path.join(projdir, 'Aim3/figures/MTBS_annualBurnedArea.png'), dpi=300, bbox_inches='tight')\n",
    "\n",
    "plt.show()"
   ]
  },
  {
   "cell_type": "code",
   "execution_count": null,
   "id": "8bd2acd9-1abf-4ca8-9494-11fad8944067",
   "metadata": {},
   "outputs": [],
   "source": [
    "# calculate the cumulative previous area burned\n",
    "mtbs = mtbs.to_crs(proj) # ensure the correct CRS\n",
    "mtbs_in_grid = gpd.overlay(mtbs, future_fire, how='intersection') # perform the overlay\n",
    "# get the cumulative burned area in each grid cell\n",
    "mtbs_in_grid['burned_area'] = mtbs_in_grid.geometry.area\n",
    "burned_area_c = mtbs_in_grid.groupby('grid_id', as_index=False)['burned_area'].sum()\n",
    "# calculate the cumulative percent burned\n",
    "# get the gridcell area\n",
    "future_fire['grid_area'] = future_fire.geometry.area\n",
    "\n",
    "# merge burned area summary back to grid cells\n",
    "future_fire_ = future_fire.merge(burned_area_c, on='grid_id', how='left')\n",
    "# fill NaN values (for grid cells with no fire) with 0\n",
    "future_fire_['burned_area'] = future_fire_['burned_area'].fillna(0)\n",
    "# Compute percentage of each grid cell burned\n",
    "future_fire_['burned_pct'] = (future_fire_['burned_area'] / future_fire_['grid_area']) * 100\n",
    "future_fire_ = future_fire_[['grid_id','burned_area','burned_pct']]\n",
    "print(future_fire_.head())\n",
    "\n",
    "# merge back to the main grid data\n",
    "fire_fa_blt_ba = pd.merge(fire_fa_blt, future_fire_, on='grid_id', how='left')\n",
    "fire_fa_blt_ba.columns"
   ]
  },
  {
   "cell_type": "code",
   "execution_count": null,
   "id": "46ce0e70-0f34-4ad2-9be6-c60c628d9f5a",
   "metadata": {},
   "outputs": [],
   "source": [
    "del mtbs"
   ]
  },
  {
   "cell_type": "markdown",
   "id": "d80bed2f-8276-4f87-87d8-d77989cd7afb",
   "metadata": {},
   "source": [
    "### Wildfire Hazard Potential (version 2023)"
   ]
  },
  {
   "cell_type": "code",
   "execution_count": null,
   "id": "8b6677d8-8347-4456-84be-d314d9818e5e",
   "metadata": {},
   "outputs": [],
   "source": [
    "# load the wildfire hazard potential\n",
    "fp = os.path.join(projdir,'Aim3/data/spatial/raw/fsim/Data/whp2023_GeoTIF/whp2023_cnt_conus.tif')\n",
    "whp = rxr.open_rasterio(fp, masked=True, chunks='auto').squeeze()\n",
    "whp = whp.rio.reproject(proj) # matches grid\n",
    "# calculate the zonal stats\n",
    "whp_zs = compute_band_stats(\n",
    "    geoms=future_fire, \n",
    "    image_da=whp, \n",
    "    id_col='grid_id', \n",
    "    stats=['percentile_90'], # 'median','std','percentile_90'\n",
    "    attr='whp',\n",
    "    ztype='continuous'\n",
    ")\n",
    "whp_zs.head()"
   ]
  },
  {
   "cell_type": "code",
   "execution_count": null,
   "id": "75e03b11-3330-4cf4-a5a1-58bbc0c55509",
   "metadata": {},
   "outputs": [],
   "source": [
    "# merge back to the main grid data\n",
    "whp_zs.rename(columns={'whp_percentile_90': 'whp_p90'}, inplace = True) # tidy columns name first\n",
    "fire_fa_blt_ba_ = pd.merge(fire_fa_blt_ba, whp_zs, on='grid_id', how='left')\n",
    "fire_fa_blt_ba_.columns"
   ]
  },
  {
   "cell_type": "code",
   "execution_count": null,
   "id": "5a5f531c-a373-4f72-b5ba-273b5e71c71f",
   "metadata": {},
   "outputs": [],
   "source": []
  },
  {
   "cell_type": "code",
   "execution_count": null,
   "id": "cce50f6d-2797-4ee2-b609-191fb6494810",
   "metadata": {},
   "outputs": [],
   "source": []
  },
  {
   "cell_type": "code",
   "execution_count": null,
   "id": "cb8e643d-bb4a-4680-a9c2-434ac28c3359",
   "metadata": {},
   "outputs": [],
   "source": []
  },
  {
   "cell_type": "markdown",
   "id": "205373a7-5462-40b8-b87e-6a502969b3c3",
   "metadata": {},
   "source": [
    "## LANDFIRE Existing Vegetation (ca. 2023)"
   ]
  },
  {
   "cell_type": "code",
   "execution_count": null,
   "id": "5a6faf2e-a3ce-406b-bd12-7dae8d49d86d",
   "metadata": {},
   "outputs": [],
   "source": [
    "# list out the landfire GeoTIFFs\n",
    "# veg Type, Height, and Cover\n",
    "lf_dir = os.path.join(maindir,'Aim3/data/spatial/mod/landfire/')\n",
    "lf_tiffs = list_files(lf_dir, '*.tif', recursive=True)\n",
    "print([os.path.basename(f) for f in lf_tiffs])"
   ]
  },
  {
   "cell_type": "code",
   "execution_count": null,
   "id": "f3e70049-e037-4f63-902f-374579b5d313",
   "metadata": {},
   "outputs": [],
   "source": [
    "# calculate the percent cover from EVT classes\n",
    "evt = rxr.open_rasterio(lf_tiffs[2], masked=True).squeeze()\n",
    "print(evt.rio.crs)\n",
    "\n",
    "# calculate the percent cover of WUI classes for each grid\n",
    "t0 = time.time()\n",
    "\n",
    "# see __functions.py\n",
    "evt_grid = compute_band_stats(future_fire, evt, 'grid_id', attr='evt')\n",
    "# tidy columns in the summary table\n",
    "evt_grid['count'] = evt_grid['count'].astype(int)\n",
    "evt_grid['total_pixels'] = evt_grid['total_pixels'].astype(int)\n",
    "evt_grid.rename(columns = {'count': 'evt_pixels'}, inplace=True)\n",
    "\n",
    "print(evt_grid.head())\n",
    "\n",
    "t1 = (time.time() - t0) / 60\n",
    "print(f\"\\nTotal elapsed time: {t1:.2f} minutes.\")\n",
    "print(\"\\n~~~~~~~~~~\\n\")\n",
    "\n",
    "del evt # clean up \n",
    "gc.collect()"
   ]
  },
  {
   "cell_type": "code",
   "execution_count": null,
   "id": "001e805b-97fe-41d3-aad7-442ac853a3e3",
   "metadata": {},
   "outputs": [],
   "source": [
    "# calculate the continuous summaries (EVC and EVH)"
   ]
  }
 ],
 "metadata": {
  "kernelspec": {
   "display_name": "aspen-fire",
   "language": "python",
   "name": "aspen-fire"
  },
  "language_info": {
   "codemirror_mode": {
    "name": "ipython",
    "version": 3
   },
   "file_extension": ".py",
   "mimetype": "text/x-python",
   "name": "python",
   "nbconvert_exporter": "python",
   "pygments_lexer": "ipython3",
   "version": "3.10.12"
  }
 },
 "nbformat": 4,
 "nbformat_minor": 5
}
