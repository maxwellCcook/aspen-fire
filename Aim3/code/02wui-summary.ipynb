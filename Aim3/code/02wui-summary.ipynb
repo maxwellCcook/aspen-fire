{
 "cells": [
  {
   "cell_type": "code",
   "execution_count": null,
   "id": "e7393824-b719-401f-9e59-bbe9efcbe357",
   "metadata": {},
   "outputs": [],
   "source": [
    "\"\"\"\n",
    "Grid preparation for future aspen project:\n",
    "\n",
    "Author: maxwell.cook@colorado.edu\n",
    "\"\"\"\n",
    "\n",
    "import os, sys, time, re\n",
    "import pandas as pd\n",
    "import geopandas as gpd\n",
    "import xarray as xr\n",
    "import rioxarray as rxr\n",
    "import rasterio as rio\n",
    "import numpy as np\n",
    "\n",
    "maindir = '/Users/max/Library/CloudStorage/OneDrive-Personal/mcook/'\n",
    "projdir = os.path.join(maindir, 'aspen-fire/')\n",
    "\n",
    "# Custom functions\n",
    "sys.path.append(os.path.join(maindir,'aspen-fire/Aim2/code/Python'))\n",
    "from __functions import *\n",
    "\n",
    "proj = 'EPSG:5070' # albers\n",
    "\n",
    "print(\"Ready to go !\")"
   ]
  },
  {
   "cell_type": "markdown",
   "id": "e97ad4be-7c66-44be-b982-640c69ced7e7",
   "metadata": {},
   "source": [
    "## Future Fire\n",
    "\n",
    "From Stephens et al., In review, annual probability of area burned and fire occurrence. Trend to 2060 was calculated using a median-based linear model (MBLM) thielsen estimate. "
   ]
  },
  {
   "cell_type": "code",
   "execution_count": null,
   "id": "7d39e7f5-2ea1-421b-b77e-035645207a1d",
   "metadata": {},
   "outputs": [],
   "source": [
    "# load the firesheds\n",
    "fp = os.path.join(projdir,'Aim3/data/spatial/raw/fsim/subfiresheds.gpkg')\n",
    "firesheds = gpd.read_file(fp)\n",
    "firesheds.columns"
   ]
  },
  {
   "cell_type": "code",
   "execution_count": null,
   "id": "f796596d-2bc2-4066-b37a-89318bac8fe9",
   "metadata": {},
   "outputs": [],
   "source": [
    "# tidy the dataframe\n",
    "firesheds.drop(\n",
    "    columns=[\n",
    "        'OBJECTID','Fireshed_State',\n",
    "        'Shape_Length','Shape_Area',\n",
    "        'Fireshed_Area_Ha','Fireshed_Code',\n",
    "        'Fireshed_MajRegion'\n",
    "    ], inplace=True\n",
    ")\n",
    "firesheds.rename(\n",
    "    columns={\n",
    "        'Fireshed_ID': 'fs_id',\n",
    "        'Fireshed_Name': 'fs_name',\n",
    "        'Subfireshed_ID': 'sfs_id',\n",
    "        'Subfireshed_Area_Ha': 'sfs_area_ha',\n",
    "        'AnnualExposure': 'sfs_exposure',\n",
    "        'PctRecentlyDisturbed': 'pct_disturbed'\n",
    "    }, inplace=True\n",
    ")\n",
    "# check the results\n",
    "firesheds.head()"
   ]
  },
  {
   "cell_type": "markdown",
   "id": "89aba01c-b841-4fb5-b5a2-8db0a1e4ed0b",
   "metadata": {},
   "source": [
    "### Wildland Urban Interface/Intermix (SILVIS)"
   ]
  },
  {
   "cell_type": "code",
   "execution_count": null,
   "id": "85f97a75-44d3-47a1-bb08-3049bdc4ad1b",
   "metadata": {},
   "outputs": [],
   "source": [
    "# calculate the zonal stats for the WUI classes\n",
    "# load the SILVIS Lab 10-m WUI classification\n",
    "wui_fp = os.path.join(projdir, 'Aim3/data/spatial/raw/silvis/srm_wui_silvis_10m.tif')\n",
    "wui = rxr.open_rasterio(wui_fp, masked=True, chunks='auto').squeeze()\n",
    "print(wui)"
   ]
  },
  {
   "cell_type": "code",
   "execution_count": null,
   "id": "cddb1fc8-9b34-4000-9f05-4f568c867851",
   "metadata": {},
   "outputs": [],
   "source": [
    "# calculate the percent cover of WUI classes for each grid\n",
    "t0 = time.time()\n",
    "\n",
    "# see __functions.py\n",
    "wui_grid = compute_band_stats(firesheds, wui, 'sfs_id', attr='wui')\n",
    "# tidy columns in the summary table\n",
    "wui_grid['count'] = wui_grid['count'].astype(int)\n",
    "wui_grid['total_pixels'] = wui_grid['total_pixels'].astype(int)\n",
    "wui_grid.rename(columns = {'count': 'wui_pixels'}, inplace=True)\n",
    "\n",
    "print(wui_grid.head()) # check the results\n",
    "\n",
    "t1 = (time.time() - t0) / 60\n",
    "print(f\"\\nTotal elapsed time: {t1:.2f} minutes.\")\n",
    "print(\"\\n~~~~~~~~~~\\n\")"
   ]
  },
  {
   "cell_type": "code",
   "execution_count": null,
   "id": "7fd86a89-9fd8-4765-a201-5e6e447b059c",
   "metadata": {},
   "outputs": [],
   "source": [
    "wui_grid['wui'].unique()"
   ]
  },
  {
   "cell_type": "code",
   "execution_count": null,
   "id": "6180cb54-3b0a-4747-8bc9-4c35a010f30e",
   "metadata": {},
   "outputs": [],
   "source": [
    "# join the WUI description\n",
    "# create the mappings\n",
    "wui_desc = {\n",
    "    0: 'No Data',\n",
    "    1: 'Forest/Shrubland/Wetland-dominated Intermix WU',\n",
    "    2: 'Forest/Shrubland/Wetland-dominated Interface WUI',\n",
    "    3: 'Grassland-dominated Intermix WUI',\n",
    "    4: 'Grassland -dominated Interface WUI',\n",
    "    5: 'Non-WUI: Forest/Shrub/Wetland-dominated',\n",
    "    6: 'Non-WUI: Grassland-dominated',\n",
    "    7: 'Non-WUI: Urban',\n",
    "    8: 'Non-WUI: Other'\n",
    "}\n",
    "\n",
    "# join back to the results\n",
    "wui_grid['wui_desc'] = wui_grid['wui'].map(wui_desc)\n",
    "wui_grid.head()"
   ]
  },
  {
   "cell_type": "code",
   "execution_count": null,
   "id": "61c2cded-b57c-4172-af06-a5f1e6f56fa1",
   "metadata": {},
   "outputs": [],
   "source": [
    "# save this file out\n",
    "out_fp = os.path.join(projdir,'Aim3/data/tabular/firesheds_wui_summary.csv')\n",
    "wui_grid.to_csv(out_fp)\n",
    "print(f\"File saved to: {out_fp}\")"
   ]
  },
  {
   "cell_type": "code",
   "execution_count": null,
   "id": "b447ae8f-49e6-48d2-854e-3a6780da6d7c",
   "metadata": {},
   "outputs": [],
   "source": [
    "# pivot the table to get WUI percent cover\n",
    "# retain columns for just the interface/intermix classes\n",
    "wui_w = wui_grid.pivot_table(index='sfs_id', columns='wui', values='pct_cover', fill_value=0)\n",
    "wui_w = wui_w[[1, 2, 3, 4]] # keep only WUI classes\n",
    "wui_w.columns = [f\"wui{int(col)}\" for col in wui_w.columns] # rename the columns\n",
    "wui_w = wui_w.reset_index()\n",
    "wui_w.head()"
   ]
  },
  {
   "cell_type": "code",
   "execution_count": null,
   "id": "f8f11fee-79b2-4d59-9780-4ec2040ee86c",
   "metadata": {},
   "outputs": [],
   "source": [
    "# reclassify into a binary raster (WUI / Non-WUI)\n",
    "wui_bin = xr.where(wui.isin([1,2,3,4]), 1, 0)\n",
    "wui_bin = wui_bin.assign_attrs(wui.attrs) # assign the array attributes\n",
    "# save this raster out\n",
    "out_path = os.path.join(projdir, 'Aim3/data/spatial/mod/silvis/srm_wui_silvis_10m_bin.tif')\n",
    "wui_bin.rio.to_raster(\n",
    "    out_path,\n",
    "    compress='zstd', zstd_level=9,\n",
    "    dtype=rio.uint8, driver='GTiff'\n",
    ")\n",
    "print(f\"Saved file to: {out_path}\")"
   ]
  },
  {
   "cell_type": "code",
   "execution_count": null,
   "id": "fec39d41-42a0-44a2-a699-f5107dc14c9f",
   "metadata": {},
   "outputs": [],
   "source": [
    "# resample to a coarser resolution to compute the euclidean distance\n",
    "\n",
    "import subprocess\n",
    "from osgeo import gdal\n",
    "\n",
    "# define a function for the gdal warp implementation\n",
    "def resample_grid_gdalwarp(in_file, out_file, extent=None, resample_method='max', res=90):\n",
    "    \"\"\"\n",
    "    Resample a raster file from 10-meter to 90-meter resolution using gdalwarp.\n",
    "\n",
    "    :param in_file: The input raster file path.\n",
    "    :param out_file: The output raster file path.\n",
    "    :param resampling_method: The resampling method to use ('sum', 'average', etc.).\n",
    "    :param target_resolution: The target resolution in meters (default is 250).\n",
    "    :return: None\n",
    "    \"\"\"\n",
    "    try:\n",
    "        # Construct the gdalwarp command\n",
    "        command = [\n",
    "            'gdalwarp',\n",
    "            '-tr', str(res), str(res),  # Target resolution\n",
    "            '-r', resample_method,  # Resampling method\n",
    "            '-of', 'GTiff',  # Output format\n",
    "            '-co', 'COMPRESS=LZW',  # Compression\n",
    "            '-ot', 'Int8', # ensure output data type\n",
    "            '-t_srs', 'EPSG:5070', # output CRS\n",
    "            in_file,\n",
    "            out_file\n",
    "        ]\n",
    "\n",
    "        # Run the command\n",
    "        subprocess.run(command, check=True)\n",
    "        print(f'Successfully resampled {in_file} to {out_file}')\n",
    "\n",
    "    except subprocess.CalledProcessError as e:\n",
    "        print(f\"Error resampling {in_file}: {e}\")\n",
    "\n",
    "# apply the function\n",
    "in_path = os.path.join(projdir, 'Aim3/data/spatial/mod/silvis/srm_wui_silvis_10m_bin.tif')\n",
    "out_file = os.path.join(projdir, 'Aim3/data/spatial/mod/silvis/srm_wui_silvis_10m_bin_90m.tif')\n",
    "resample_grid_gdalwarp(in_path, out_file) # run the process"
   ]
  },
  {
   "cell_type": "code",
   "execution_count": null,
   "id": "24d48ca6-bf99-4300-b1b0-28853d3e2311",
   "metadata": {},
   "outputs": [],
   "source": [
    "# calculate the euclidean distance array\n",
    "from scipy.ndimage import distance_transform_edt\n",
    "# load the 250m resampled grid created above\n",
    "wui_90 = rxr.open_rasterio(out_file, masked=True).squeeze()\n",
    "\n",
    "t0 = time.time()\n",
    "# run the euclidean distance\n",
    "distance_to_wui = distance_transform_edt(wui_90 == 0)\n",
    "# convert to an xarray data array\n",
    "distance_xr = xr.DataArray(distance_to_wui, coords=wui_90.coords, dims=wui_90.dims, attrs=wui_90.attrs)\n",
    "\n",
    "# export the result\n",
    "distance_fp = os.path.join(projdir, 'Aim3/data/spatial/mod/silvis/distance_to_wui.tif')\n",
    "distance_xr.rio.to_raster(\n",
    "    distance_fp,\n",
    "    compress=\"zstd\", zstd_level=9,  # Efficient compression\n",
    "    dtype=\"float32\", driver=\"GTiff\"\n",
    ")\n",
    "\n",
    "t1 = (time.time() - t0) / 60\n",
    "print(f\"\\nTotal elapsed time: {t1:.2f} minutes.\")\n",
    "print(\"\\n~~~~~~~~~~\\n\")"
   ]
  },
  {
   "cell_type": "code",
   "execution_count": null,
   "id": "0bec6255-7197-41a5-ba37-27a6f23a0605",
   "metadata": {},
   "outputs": [],
   "source": [
    "# calculate the average distance to WUI for gridcells\n",
    "\n",
    "t0 = time.time()\n",
    "\n",
    "# run the zonal stats\n",
    "zs = compute_band_stats(\n",
    "    geoms=firesheds, \n",
    "    image_da=distance_xr, \n",
    "    id_col='sfs_id', \n",
    "    stats=['mean'], # 'median','std','percentile_90'\n",
    "    attr='wui_dist',\n",
    "    ztype='continuous'\n",
    ")\n",
    "\n",
    "# check the results:\n",
    "print(zs.head())\n",
    "\n",
    "t1 = (time.time() - t0) / 60\n",
    "print(f\"\\nTotal elapsed time: {t1:.2f} minutes.\")\n",
    "print(\"\\n~~~~~~~~~~\\n\")"
   ]
  },
  {
   "cell_type": "code",
   "execution_count": null,
   "id": "9298066e-691d-42cd-8676-43007a298443",
   "metadata": {},
   "outputs": [],
   "source": [
    "# merge the WUI summary stats by gridcell\n",
    "wui_grid_stats = pd.merge(wui_w, zs, on='sfs_id', how='right')\n",
    "wui_grid_stats.head()"
   ]
  },
  {
   "cell_type": "code",
   "execution_count": null,
   "id": "9596f17c-d992-44b1-a677-1ba6e4ae4819",
   "metadata": {},
   "outputs": [],
   "source": [
    "print(len(firesheds))\n",
    "print(len(wui_grid_stats))"
   ]
  },
  {
   "cell_type": "code",
   "execution_count": null,
   "id": "dded5ad7-1536-4a9e-8337-62f7cb19bb3b",
   "metadata": {},
   "outputs": [],
   "source": [
    "wui_grid_stats.isna().sum()"
   ]
  },
  {
   "cell_type": "code",
   "execution_count": null,
   "id": "6c132794-89c0-40db-9310-6341cc1e8705",
   "metadata": {},
   "outputs": [],
   "source": [
    "# export the summary table\n",
    "out_fp = os.path.join(projdir, 'Aim3/data/tabular/fireshed_wuiSILVIS_stats.csv')\n",
    "wui_grid_stats.to_csv(out_fp)\n",
    "print(f\"Saved to: {out_fp}\")"
   ]
  }
 ],
 "metadata": {
  "kernelspec": {
   "display_name": "aspen-fire",
   "language": "python",
   "name": "aspen-fire"
  },
  "language_info": {
   "codemirror_mode": {
    "name": "ipython",
    "version": 3
   },
   "file_extension": ".py",
   "mimetype": "text/x-python",
   "name": "python",
   "nbconvert_exporter": "python",
   "pygments_lexer": "ipython3",
   "version": "3.10.12"
  }
 },
 "nbformat": 4,
 "nbformat_minor": 5
}
