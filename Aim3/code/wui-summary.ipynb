{
 "cells": [
  {
   "cell_type": "code",
   "execution_count": 1,
   "id": "e7393824-b719-401f-9e59-bbe9efcbe357",
   "metadata": {},
   "outputs": [
    {
     "name": "stdout",
     "output_type": "stream",
     "text": [
      "Ready to go !\n"
     ]
    }
   ],
   "source": [
    "\"\"\"\n",
    "Grid preparation for future aspen project:\n",
    "\n",
    "Author: maxwell.cook@colorado.edu\n",
    "\"\"\"\n",
    "\n",
    "import os, sys, time, re\n",
    "import pandas as pd\n",
    "import geopandas as gpd\n",
    "import xarray as xr\n",
    "import rioxarray as rxr\n",
    "import rasterio as rio\n",
    "import numpy as np\n",
    "\n",
    "maindir = '/Users/max/Library/CloudStorage/OneDrive-Personal/mcook/'\n",
    "projdir = os.path.join(maindir, 'aspen-fire/')\n",
    "\n",
    "# Custom functions\n",
    "sys.path.append(os.path.join(maindir,'aspen-fire/Aim2/code/Python'))\n",
    "from __functions import *\n",
    "\n",
    "proj = 'EPSG:5070' # albers\n",
    "\n",
    "print(\"Ready to go !\")"
   ]
  },
  {
   "cell_type": "markdown",
   "id": "e97ad4be-7c66-44be-b982-640c69ced7e7",
   "metadata": {},
   "source": [
    "## Future Fire\n",
    "\n",
    "From Stephens et al., In review, annual probability of area burned and fire occurrence. Trend to 2060 was calculated using a median-based linear model (MBLM) thielsen estimate. "
   ]
  },
  {
   "cell_type": "code",
   "execution_count": 2,
   "id": "7d39e7f5-2ea1-421b-b77e-035645207a1d",
   "metadata": {},
   "outputs": [
    {
     "data": {
      "text/html": [
       "<div>\n",
       "<style scoped>\n",
       "    .dataframe tbody tr th:only-of-type {\n",
       "        vertical-align: middle;\n",
       "    }\n",
       "\n",
       "    .dataframe tbody tr th {\n",
       "        vertical-align: top;\n",
       "    }\n",
       "\n",
       "    .dataframe thead th {\n",
       "        text-align: right;\n",
       "    }\n",
       "</style>\n",
       "<table border=\"1\" class=\"dataframe\">\n",
       "  <thead>\n",
       "    <tr style=\"text-align: right;\">\n",
       "      <th></th>\n",
       "      <th>grid_id</th>\n",
       "      <th>trend_area</th>\n",
       "      <th>trend_count</th>\n",
       "      <th>p_area</th>\n",
       "      <th>p_count</th>\n",
       "      <th>NA_L3NAME</th>\n",
       "      <th>US_L4NAME</th>\n",
       "      <th>US_L4CODE</th>\n",
       "      <th>geometry</th>\n",
       "    </tr>\n",
       "  </thead>\n",
       "  <tbody>\n",
       "    <tr>\n",
       "      <th>0</th>\n",
       "      <td>159230.0</td>\n",
       "      <td>190.629216</td>\n",
       "      <td>0.019221</td>\n",
       "      <td>3.590523e-11</td>\n",
       "      <td>1.436235e-13</td>\n",
       "      <td>Southern Rockies</td>\n",
       "      <td>Foothill Shrublands</td>\n",
       "      <td>21d</td>\n",
       "      <td>POLYGON ((-861518.632 2246765.246, -858285.087...</td>\n",
       "    </tr>\n",
       "    <tr>\n",
       "      <th>1</th>\n",
       "      <td>159231.0</td>\n",
       "      <td>190.629216</td>\n",
       "      <td>0.019221</td>\n",
       "      <td>3.590523e-11</td>\n",
       "      <td>1.436235e-13</td>\n",
       "      <td>Southern Rockies</td>\n",
       "      <td>Foothill Shrublands</td>\n",
       "      <td>21d</td>\n",
       "      <td>POLYGON ((-858285.087 2246403.307, -855051.389...</td>\n",
       "    </tr>\n",
       "    <tr>\n",
       "      <th>2</th>\n",
       "      <td>159232.0</td>\n",
       "      <td>190.629216</td>\n",
       "      <td>0.019221</td>\n",
       "      <td>3.590523e-11</td>\n",
       "      <td>1.436235e-13</td>\n",
       "      <td>Southern Rockies</td>\n",
       "      <td>Foothill Shrublands</td>\n",
       "      <td>21d</td>\n",
       "      <td>POLYGON ((-855051.389 2246042.730, -851817.539...</td>\n",
       "    </tr>\n",
       "    <tr>\n",
       "      <th>3</th>\n",
       "      <td>159233.0</td>\n",
       "      <td>301.282740</td>\n",
       "      <td>0.026862</td>\n",
       "      <td>1.926234e-07</td>\n",
       "      <td>1.677490e-09</td>\n",
       "      <td>Southern Rockies</td>\n",
       "      <td>Crystalline Mid-Elevation Forests</td>\n",
       "      <td>21c</td>\n",
       "      <td>POLYGON ((-851817.539 2245683.513, -848583.540...</td>\n",
       "    </tr>\n",
       "    <tr>\n",
       "      <th>4</th>\n",
       "      <td>159234.0</td>\n",
       "      <td>411.936265</td>\n",
       "      <td>0.034504</td>\n",
       "      <td>3.852110e-07</td>\n",
       "      <td>3.354837e-09</td>\n",
       "      <td>Southern Rockies</td>\n",
       "      <td>Crystalline Mid-Elevation Forests</td>\n",
       "      <td>21c</td>\n",
       "      <td>POLYGON ((-848583.540 2245325.656, -845349.389...</td>\n",
       "    </tr>\n",
       "  </tbody>\n",
       "</table>\n",
       "</div>"
      ],
      "text/plain": [
       "    grid_id  trend_area  trend_count        p_area       p_count  \\\n",
       "0  159230.0  190.629216     0.019221  3.590523e-11  1.436235e-13   \n",
       "1  159231.0  190.629216     0.019221  3.590523e-11  1.436235e-13   \n",
       "2  159232.0  190.629216     0.019221  3.590523e-11  1.436235e-13   \n",
       "3  159233.0  301.282740     0.026862  1.926234e-07  1.677490e-09   \n",
       "4  159234.0  411.936265     0.034504  3.852110e-07  3.354837e-09   \n",
       "\n",
       "          NA_L3NAME                          US_L4NAME US_L4CODE  \\\n",
       "0  Southern Rockies                Foothill Shrublands       21d   \n",
       "1  Southern Rockies                Foothill Shrublands       21d   \n",
       "2  Southern Rockies                Foothill Shrublands       21d   \n",
       "3  Southern Rockies  Crystalline Mid-Elevation Forests       21c   \n",
       "4  Southern Rockies  Crystalline Mid-Elevation Forests       21c   \n",
       "\n",
       "                                            geometry  \n",
       "0  POLYGON ((-861518.632 2246765.246, -858285.087...  \n",
       "1  POLYGON ((-858285.087 2246403.307, -855051.389...  \n",
       "2  POLYGON ((-855051.389 2246042.730, -851817.539...  \n",
       "3  POLYGON ((-851817.539 2245683.513, -848583.540...  \n",
       "4  POLYGON ((-848583.540 2245325.656, -845349.389...  "
      ]
     },
     "execution_count": 2,
     "metadata": {},
     "output_type": "execute_result"
    }
   ],
   "source": [
    "fp = os.path.join(projdir,'Aim3/data/spatial/mod/future_fire_grid_trend.gpkg')\n",
    "future_fire = gpd.read_file(fp)\n",
    "future_fire.head()"
   ]
  },
  {
   "cell_type": "code",
   "execution_count": 3,
   "id": "62a6149a-2a15-4d65-a85a-bd62d1e28c25",
   "metadata": {},
   "outputs": [
    {
     "name": "stdout",
     "output_type": "stream",
     "text": [
      "\n",
      "No duplicates at this stage.\n",
      "\n"
     ]
    }
   ],
   "source": [
    "# check for duplicates, remove them\n",
    "n = future_fire.duplicated(subset=['grid_id']).sum()\n",
    "if n > 0:\n",
    "    print(f\"\\nThere are [{n}] duplicate rows.\\n\")\n",
    "else:\n",
    "    print(\"\\nNo duplicates at this stage.\\n\")"
   ]
  },
  {
   "cell_type": "markdown",
   "id": "89aba01c-b841-4fb5-b5a2-8db0a1e4ed0b",
   "metadata": {},
   "source": [
    "### Wildland Urban Interface/Intermix (SILVIS)"
   ]
  },
  {
   "cell_type": "code",
   "execution_count": 4,
   "id": "85f97a75-44d3-47a1-bb08-3049bdc4ad1b",
   "metadata": {},
   "outputs": [
    {
     "name": "stdout",
     "output_type": "stream",
     "text": [
      "<xarray.DataArray (y: 84754, x: 51708)> Size: 18GB\n",
      "dask.array<getitem, shape=(84754, 51708), dtype=float32, chunksize=(2595, 51708), chunktype=numpy.ndarray>\n",
      "Coordinates:\n",
      "    band         int64 8B 1\n",
      "  * x            (x) float64 414kB -1.193e+06 -1.193e+06 ... -6.831e+05\n",
      "  * y            (y) float64 678kB 2.253e+06 2.253e+06 ... 1.392e+06 1.392e+06\n",
      "    spatial_ref  int64 8B 0\n",
      "Attributes:\n",
      "    AREA_OR_POINT:  Area\n",
      "    scale_factor:   1.0\n",
      "    add_offset:     0.0\n"
     ]
    }
   ],
   "source": [
    "# calculate the zonal stats for the WUI classes\n",
    "# load the SILVIS Lab 10-m WUI classification\n",
    "wui_fp = os.path.join(projdir, 'Aim3/data/spatial/raw/silvis/srm_wui_silvis_10m.tif')\n",
    "wui = rxr.open_rasterio(wui_fp, masked=True, chunks='auto').squeeze()\n",
    "print(wui)"
   ]
  },
  {
   "cell_type": "code",
   "execution_count": 5,
   "id": "cddb1fc8-9b34-4000-9f05-4f568c867851",
   "metadata": {},
   "outputs": [
    {
     "name": "stdout",
     "output_type": "stream",
     "text": [
      "    grid_id  wui  wui_pixels  total_pixels  pct_cover\n",
      "0  159230.0    0        2220        145909   1.521496\n",
      "1  159230.0    3        9532        145909   6.532839\n",
      "2  159230.0    4          43        145909   0.029470\n",
      "3  159230.0    6      131622        145909  90.208281\n",
      "4  159230.0    8        2492        145909   1.707914\n",
      "\n",
      "Total elapsed time: 1.49 minutes.\n",
      "\n",
      "~~~~~~~~~~\n",
      "\n"
     ]
    }
   ],
   "source": [
    "# calculate the percent cover of WUI classes for each grid\n",
    "t0 = time.time()\n",
    "\n",
    "# see __functions.py\n",
    "wui_grid = compute_band_stats(future_fire, wui, 'grid_id', attr='wui')\n",
    "# tidy columns in the summary table\n",
    "wui_grid['count'] = wui_grid['count'].astype(int)\n",
    "wui_grid['total_pixels'] = wui_grid['total_pixels'].astype(int)\n",
    "wui_grid.rename(columns = {'count': 'wui_pixels'}, inplace=True)\n",
    "\n",
    "print(wui_grid.head()) # check the results\n",
    "\n",
    "t1 = (time.time() - t0) / 60\n",
    "print(f\"\\nTotal elapsed time: {t1:.2f} minutes.\")\n",
    "print(\"\\n~~~~~~~~~~\\n\")"
   ]
  },
  {
   "cell_type": "code",
   "execution_count": 6,
   "id": "7fd86a89-9fd8-4765-a201-5e6e447b059c",
   "metadata": {},
   "outputs": [
    {
     "data": {
      "text/plain": [
       "array([0, 3, 4, 6, 8, 5, 1, 2, 7])"
      ]
     },
     "execution_count": 6,
     "metadata": {},
     "output_type": "execute_result"
    }
   ],
   "source": [
    "wui_grid['wui'].unique()"
   ]
  },
  {
   "cell_type": "code",
   "execution_count": 7,
   "id": "6180cb54-3b0a-4747-8bc9-4c35a010f30e",
   "metadata": {},
   "outputs": [
    {
     "data": {
      "text/html": [
       "<div>\n",
       "<style scoped>\n",
       "    .dataframe tbody tr th:only-of-type {\n",
       "        vertical-align: middle;\n",
       "    }\n",
       "\n",
       "    .dataframe tbody tr th {\n",
       "        vertical-align: top;\n",
       "    }\n",
       "\n",
       "    .dataframe thead th {\n",
       "        text-align: right;\n",
       "    }\n",
       "</style>\n",
       "<table border=\"1\" class=\"dataframe\">\n",
       "  <thead>\n",
       "    <tr style=\"text-align: right;\">\n",
       "      <th></th>\n",
       "      <th>grid_id</th>\n",
       "      <th>wui</th>\n",
       "      <th>wui_pixels</th>\n",
       "      <th>total_pixels</th>\n",
       "      <th>pct_cover</th>\n",
       "      <th>wui_desc</th>\n",
       "    </tr>\n",
       "  </thead>\n",
       "  <tbody>\n",
       "    <tr>\n",
       "      <th>0</th>\n",
       "      <td>159230.0</td>\n",
       "      <td>0</td>\n",
       "      <td>2220</td>\n",
       "      <td>145909</td>\n",
       "      <td>1.521496</td>\n",
       "      <td>No Data</td>\n",
       "    </tr>\n",
       "    <tr>\n",
       "      <th>1</th>\n",
       "      <td>159230.0</td>\n",
       "      <td>3</td>\n",
       "      <td>9532</td>\n",
       "      <td>145909</td>\n",
       "      <td>6.532839</td>\n",
       "      <td>Grassland-dominated Intermix WUI</td>\n",
       "    </tr>\n",
       "    <tr>\n",
       "      <th>2</th>\n",
       "      <td>159230.0</td>\n",
       "      <td>4</td>\n",
       "      <td>43</td>\n",
       "      <td>145909</td>\n",
       "      <td>0.029470</td>\n",
       "      <td>Grassland -dominated Interface WUI</td>\n",
       "    </tr>\n",
       "    <tr>\n",
       "      <th>3</th>\n",
       "      <td>159230.0</td>\n",
       "      <td>6</td>\n",
       "      <td>131622</td>\n",
       "      <td>145909</td>\n",
       "      <td>90.208281</td>\n",
       "      <td>Non-WUI: Grassland-dominated</td>\n",
       "    </tr>\n",
       "    <tr>\n",
       "      <th>4</th>\n",
       "      <td>159230.0</td>\n",
       "      <td>8</td>\n",
       "      <td>2492</td>\n",
       "      <td>145909</td>\n",
       "      <td>1.707914</td>\n",
       "      <td>Non-WUI: Other</td>\n",
       "    </tr>\n",
       "  </tbody>\n",
       "</table>\n",
       "</div>"
      ],
      "text/plain": [
       "    grid_id  wui  wui_pixels  total_pixels  pct_cover  \\\n",
       "0  159230.0    0        2220        145909   1.521496   \n",
       "1  159230.0    3        9532        145909   6.532839   \n",
       "2  159230.0    4          43        145909   0.029470   \n",
       "3  159230.0    6      131622        145909  90.208281   \n",
       "4  159230.0    8        2492        145909   1.707914   \n",
       "\n",
       "                             wui_desc  \n",
       "0                             No Data  \n",
       "1    Grassland-dominated Intermix WUI  \n",
       "2  Grassland -dominated Interface WUI  \n",
       "3        Non-WUI: Grassland-dominated  \n",
       "4                      Non-WUI: Other  "
      ]
     },
     "execution_count": 7,
     "metadata": {},
     "output_type": "execute_result"
    }
   ],
   "source": [
    "# join the WUI description\n",
    "# create the mappings\n",
    "wui_desc = {\n",
    "    0: 'No Data',\n",
    "    1: 'Forest/Shrubland/Wetland-dominated Intermix WU',\n",
    "    2: 'Forest/Shrubland/Wetland-dominated Interface WUI',\n",
    "    3: 'Grassland-dominated Intermix WUI',\n",
    "    4: 'Grassland -dominated Interface WUI',\n",
    "    5: 'Non-WUI: Forest/Shrub/Wetland-dominated',\n",
    "    6: 'Non-WUI: Grassland-dominated',\n",
    "    7: 'Non-WUI: Urban',\n",
    "    8: 'Non-WUI: Other'\n",
    "}\n",
    "\n",
    "# join back to the results\n",
    "wui_grid['wui_desc'] = wui_grid['wui'].map(wui_desc)\n",
    "wui_grid.head()"
   ]
  },
  {
   "cell_type": "code",
   "execution_count": 8,
   "id": "61c2cded-b57c-4172-af06-a5f1e6f56fa1",
   "metadata": {},
   "outputs": [
    {
     "name": "stdout",
     "output_type": "stream",
     "text": [
      "File saved to: /Users/max/Library/CloudStorage/OneDrive-Personal/mcook/aspen-fire/Aim3/data/tabular/srm_grid_wui_summary.csv\n"
     ]
    }
   ],
   "source": [
    "# save this file out\n",
    "out_fp = os.path.join(projdir,'Aim3/data/tabular/srm_grid_wui_summary.csv')\n",
    "wui_grid.to_csv(out_fp)\n",
    "print(f\"File saved to: {out_fp}\")"
   ]
  },
  {
   "cell_type": "code",
   "execution_count": 9,
   "id": "b447ae8f-49e6-48d2-854e-3a6780da6d7c",
   "metadata": {},
   "outputs": [
    {
     "data": {
      "text/html": [
       "<div>\n",
       "<style scoped>\n",
       "    .dataframe tbody tr th:only-of-type {\n",
       "        vertical-align: middle;\n",
       "    }\n",
       "\n",
       "    .dataframe tbody tr th {\n",
       "        vertical-align: top;\n",
       "    }\n",
       "\n",
       "    .dataframe thead th {\n",
       "        text-align: right;\n",
       "    }\n",
       "</style>\n",
       "<table border=\"1\" class=\"dataframe\">\n",
       "  <thead>\n",
       "    <tr style=\"text-align: right;\">\n",
       "      <th></th>\n",
       "      <th>grid_id</th>\n",
       "      <th>wui1</th>\n",
       "      <th>wui2</th>\n",
       "      <th>wui3</th>\n",
       "      <th>wui4</th>\n",
       "    </tr>\n",
       "  </thead>\n",
       "  <tbody>\n",
       "    <tr>\n",
       "      <th>0</th>\n",
       "      <td>159230.0</td>\n",
       "      <td>0.0</td>\n",
       "      <td>0.0</td>\n",
       "      <td>6.532839</td>\n",
       "      <td>0.029470</td>\n",
       "    </tr>\n",
       "    <tr>\n",
       "      <th>1</th>\n",
       "      <td>159231.0</td>\n",
       "      <td>0.0</td>\n",
       "      <td>0.0</td>\n",
       "      <td>15.458371</td>\n",
       "      <td>0.006854</td>\n",
       "    </tr>\n",
       "    <tr>\n",
       "      <th>2</th>\n",
       "      <td>159232.0</td>\n",
       "      <td>0.0</td>\n",
       "      <td>0.0</td>\n",
       "      <td>35.265412</td>\n",
       "      <td>0.000000</td>\n",
       "    </tr>\n",
       "    <tr>\n",
       "      <th>3</th>\n",
       "      <td>159233.0</td>\n",
       "      <td>0.0</td>\n",
       "      <td>0.0</td>\n",
       "      <td>11.896978</td>\n",
       "      <td>0.000000</td>\n",
       "    </tr>\n",
       "    <tr>\n",
       "      <th>4</th>\n",
       "      <td>159234.0</td>\n",
       "      <td>0.0</td>\n",
       "      <td>0.0</td>\n",
       "      <td>12.335940</td>\n",
       "      <td>0.000000</td>\n",
       "    </tr>\n",
       "  </tbody>\n",
       "</table>\n",
       "</div>"
      ],
      "text/plain": [
       "    grid_id  wui1  wui2       wui3      wui4\n",
       "0  159230.0   0.0   0.0   6.532839  0.029470\n",
       "1  159231.0   0.0   0.0  15.458371  0.006854\n",
       "2  159232.0   0.0   0.0  35.265412  0.000000\n",
       "3  159233.0   0.0   0.0  11.896978  0.000000\n",
       "4  159234.0   0.0   0.0  12.335940  0.000000"
      ]
     },
     "execution_count": 9,
     "metadata": {},
     "output_type": "execute_result"
    }
   ],
   "source": [
    "# pivot the table to get WUI percent cover\n",
    "# retain columns for just the interface/intermix classes\n",
    "wui_w = wui_grid.pivot_table(index='grid_id', columns='wui', values='pct_cover', fill_value=0)\n",
    "wui_w = wui_w[[1, 2, 3, 4]] # keep only WUI classes\n",
    "wui_w.columns = [f\"wui{int(col)}\" for col in wui_w.columns] # rename the columns\n",
    "wui_w = wui_w.reset_index()\n",
    "wui_w.head()"
   ]
  },
  {
   "cell_type": "code",
   "execution_count": 11,
   "id": "f8f11fee-79b2-4d59-9780-4ec2040ee86c",
   "metadata": {},
   "outputs": [
    {
     "name": "stdout",
     "output_type": "stream",
     "text": [
      "Saved file to: /Users/max/Library/CloudStorage/OneDrive-Personal/mcook/aspen-fire/Aim3/data/spatial/mod/silvis/srm_wui_silvis_10m_bin.tif\n"
     ]
    }
   ],
   "source": [
    "# reclassify into a binary raster (WUI / Non-WUI)\n",
    "wui_bin = xr.where(wui.isin([1,2,3,4]), 1, 0)\n",
    "wui_bin = wui_bin.assign_attrs(wui.attrs) # assign the array attributes\n",
    "# save this raster out\n",
    "out_path = os.path.join(projdir, 'Aim3/data/spatial/mod/silvis/srm_wui_silvis_10m_bin.tif')\n",
    "wui_bin.rio.to_raster(\n",
    "    out_path,\n",
    "    compress='zstd', zstd_level=9,\n",
    "    dtype=rio.uint8, driver='GTiff'\n",
    ")\n",
    "print(f\"Saved file to: {out_path}\")"
   ]
  },
  {
   "cell_type": "code",
   "execution_count": 13,
   "id": "fec39d41-42a0-44a2-a699-f5107dc14c9f",
   "metadata": {},
   "outputs": [
    {
     "name": "stdout",
     "output_type": "stream",
     "text": [
      "Creating output file that is 2040P x 3447L.\n",
      "Processing /Users/max/Library/CloudStorage/OneDrive-Personal/mcook/aspen-fire/Aim3/data/spatial/mod/silvis/srm_wui_silvis_10m_bin.tif [1/1] : 0...10...20...30...40...50...60...70...80...90...100 - done.\n",
      "Successfully resampled /Users/max/Library/CloudStorage/OneDrive-Personal/mcook/aspen-fire/Aim3/data/spatial/mod/silvis/srm_wui_silvis_10m_bin.tif to /Users/max/Library/CloudStorage/OneDrive-Personal/mcook/aspen-fire/Aim3/data/spatial/mod/silvis/srm_wui_silvis_10m_bin_250m.tif\n"
     ]
    }
   ],
   "source": [
    "# resample to a coarser resolution to compute the euclidean distance\n",
    "\n",
    "import subprocess\n",
    "from osgeo import gdal\n",
    "\n",
    "# define a function for the gdal warp implementation\n",
    "def resample_grid_gdalwarp(in_file, out_file, extent=None, resample_method='max', res=250):\n",
    "    \"\"\"\n",
    "    Resample a raster file from 10-meter to 250-meter resolution using gdalwarp.\n",
    "\n",
    "    :param in_file: The input raster file path.\n",
    "    :param out_file: The output raster file path.\n",
    "    :param resampling_method: The resampling method to use ('sum', 'average', etc.).\n",
    "    :param target_resolution: The target resolution in meters (default is 250).\n",
    "    :return: None\n",
    "    \"\"\"\n",
    "    try:\n",
    "        # Construct the gdalwarp command\n",
    "        command = [\n",
    "            'gdalwarp',\n",
    "            '-tr', str(res), str(res),  # Target resolution\n",
    "            '-r', resample_method,  # Resampling method\n",
    "            '-of', 'GTiff',  # Output format\n",
    "            '-co', 'COMPRESS=LZW',  # Compression\n",
    "            '-ot', 'Int8', # ensure output data type\n",
    "            '-t_srs', 'EPSG:5070', # output CRS\n",
    "            in_file,\n",
    "            out_file\n",
    "        ]\n",
    "\n",
    "        # Run the command\n",
    "        subprocess.run(command, check=True)\n",
    "        print(f'Successfully resampled {in_file} to {out_file}')\n",
    "\n",
    "    except subprocess.CalledProcessError as e:\n",
    "        print(f\"Error resampling {in_file}: {e}\")\n",
    "\n",
    "# apply the function\n",
    "in_path = os.path.join(projdir, 'Aim3/data/spatial/mod/silvis/srm_wui_silvis_10m_bin.tif')\n",
    "out_file = os.path.join(projdir, 'Aim3/data/spatial/mod/silvis/srm_wui_silvis_10m_bin_250m.tif')\n",
    "resample_grid_gdalwarp(in_path, out_file) # run the process"
   ]
  },
  {
   "cell_type": "code",
   "execution_count": 15,
   "id": "24d48ca6-bf99-4300-b1b0-28853d3e2311",
   "metadata": {},
   "outputs": [
    {
     "name": "stdout",
     "output_type": "stream",
     "text": [
      "\n",
      "Total elapsed time: 0.01 minutes.\n",
      "\n",
      "~~~~~~~~~~\n",
      "\n"
     ]
    }
   ],
   "source": [
    "# calculate the euclidean distance array\n",
    "from scipy.ndimage import distance_transform_edt\n",
    "# load the 250m resampled grid created above\n",
    "wui_250 = rxr.open_rasterio(out_file, masked=True).squeeze()\n",
    "\n",
    "t0 = time.time()\n",
    "# run the euclidean distance\n",
    "distance_to_wui = distance_transform_edt(wui_250 == 0) * 250\n",
    "# convert to an xarray data array\n",
    "distance_xr = xr.DataArray(distance_to_wui, coords=wui_250.coords, dims=wui_250.dims, attrs=wui_250.attrs)\n",
    "\n",
    "# export the result\n",
    "distance_fp = os.path.join(projdir, 'Aim3/data/spatial/mod/silvis/distance_to_wui.tif')\n",
    "distance_xr.rio.to_raster(\n",
    "    distance_fp,\n",
    "    compress=\"zstd\", zstd_level=9,  # Efficient compression\n",
    "    dtype=\"float32\", driver=\"GTiff\"\n",
    ")\n",
    "\n",
    "t1 = (time.time() - t0) / 60\n",
    "print(f\"\\nTotal elapsed time: {t1:.2f} minutes.\")\n",
    "print(\"\\n~~~~~~~~~~\\n\")"
   ]
  },
  {
   "cell_type": "code",
   "execution_count": 16,
   "id": "0bec6255-7197-41a5-ba37-27a6f23a0605",
   "metadata": {},
   "outputs": [
    {
     "name": "stdout",
     "output_type": "stream",
     "text": [
      "    grid_id  wui_dist_mean\n",
      "0  159230.0    1038.492751\n",
      "1  159231.0     636.598957\n",
      "2  159232.0     308.430041\n",
      "3  159233.0     721.659559\n",
      "4  159234.0    1341.741558\n",
      "\n",
      "Total elapsed time: 0.09 minutes.\n",
      "\n",
      "~~~~~~~~~~\n",
      "\n"
     ]
    }
   ],
   "source": [
    "# calculate the average distance to WUI for gridcells\n",
    "\n",
    "t0 = time.time()\n",
    "\n",
    "# run the zonal stats\n",
    "zs = compute_band_stats(\n",
    "    geoms=future_fire, \n",
    "    image_da=distance_xr, \n",
    "    id_col='grid_id', \n",
    "    stats=['mean'], # 'median','std','percentile_90'\n",
    "    attr='wui_dist',\n",
    "    ztype='continuous'\n",
    ")\n",
    "\n",
    "# check the results:\n",
    "print(zs.head())\n",
    "\n",
    "t1 = (time.time() - t0) / 60\n",
    "print(f\"\\nTotal elapsed time: {t1:.2f} minutes.\")\n",
    "print(\"\\n~~~~~~~~~~\\n\")"
   ]
  },
  {
   "cell_type": "code",
   "execution_count": 18,
   "id": "9298066e-691d-42cd-8676-43007a298443",
   "metadata": {},
   "outputs": [
    {
     "data": {
      "text/html": [
       "<div>\n",
       "<style scoped>\n",
       "    .dataframe tbody tr th:only-of-type {\n",
       "        vertical-align: middle;\n",
       "    }\n",
       "\n",
       "    .dataframe tbody tr th {\n",
       "        vertical-align: top;\n",
       "    }\n",
       "\n",
       "    .dataframe thead th {\n",
       "        text-align: right;\n",
       "    }\n",
       "</style>\n",
       "<table border=\"1\" class=\"dataframe\">\n",
       "  <thead>\n",
       "    <tr style=\"text-align: right;\">\n",
       "      <th></th>\n",
       "      <th>grid_id</th>\n",
       "      <th>wui1</th>\n",
       "      <th>wui2</th>\n",
       "      <th>wui3</th>\n",
       "      <th>wui4</th>\n",
       "      <th>wui_dist_mean</th>\n",
       "    </tr>\n",
       "  </thead>\n",
       "  <tbody>\n",
       "    <tr>\n",
       "      <th>0</th>\n",
       "      <td>159230.0</td>\n",
       "      <td>0.0</td>\n",
       "      <td>0.0</td>\n",
       "      <td>6.532839</td>\n",
       "      <td>0.029470</td>\n",
       "      <td>1038.492751</td>\n",
       "    </tr>\n",
       "    <tr>\n",
       "      <th>1</th>\n",
       "      <td>159231.0</td>\n",
       "      <td>0.0</td>\n",
       "      <td>0.0</td>\n",
       "      <td>15.458371</td>\n",
       "      <td>0.006854</td>\n",
       "      <td>636.598957</td>\n",
       "    </tr>\n",
       "    <tr>\n",
       "      <th>2</th>\n",
       "      <td>159232.0</td>\n",
       "      <td>0.0</td>\n",
       "      <td>0.0</td>\n",
       "      <td>35.265412</td>\n",
       "      <td>0.000000</td>\n",
       "      <td>308.430041</td>\n",
       "    </tr>\n",
       "    <tr>\n",
       "      <th>3</th>\n",
       "      <td>159233.0</td>\n",
       "      <td>0.0</td>\n",
       "      <td>0.0</td>\n",
       "      <td>11.896978</td>\n",
       "      <td>0.000000</td>\n",
       "      <td>721.659559</td>\n",
       "    </tr>\n",
       "    <tr>\n",
       "      <th>4</th>\n",
       "      <td>159234.0</td>\n",
       "      <td>0.0</td>\n",
       "      <td>0.0</td>\n",
       "      <td>12.335940</td>\n",
       "      <td>0.000000</td>\n",
       "      <td>1341.741558</td>\n",
       "    </tr>\n",
       "  </tbody>\n",
       "</table>\n",
       "</div>"
      ],
      "text/plain": [
       "    grid_id  wui1  wui2       wui3      wui4  wui_dist_mean\n",
       "0  159230.0   0.0   0.0   6.532839  0.029470    1038.492751\n",
       "1  159231.0   0.0   0.0  15.458371  0.006854     636.598957\n",
       "2  159232.0   0.0   0.0  35.265412  0.000000     308.430041\n",
       "3  159233.0   0.0   0.0  11.896978  0.000000     721.659559\n",
       "4  159234.0   0.0   0.0  12.335940  0.000000    1341.741558"
      ]
     },
     "execution_count": 18,
     "metadata": {},
     "output_type": "execute_result"
    }
   ],
   "source": [
    "# merge the WUI summary stats by gridcell\n",
    "wui_grid_stats = pd.merge(wui_w, zs, on='grid_id', how='right')\n",
    "wui_grid_stats.head()"
   ]
  },
  {
   "cell_type": "code",
   "execution_count": 20,
   "id": "9596f17c-d992-44b1-a677-1ba6e4ae4819",
   "metadata": {},
   "outputs": [
    {
     "name": "stdout",
     "output_type": "stream",
     "text": [
      "10319\n",
      "10319\n"
     ]
    }
   ],
   "source": [
    "print(len(future_fire))\n",
    "print(len(wui_grid_stats))"
   ]
  },
  {
   "cell_type": "code",
   "execution_count": 22,
   "id": "dded5ad7-1536-4a9e-8337-62f7cb19bb3b",
   "metadata": {},
   "outputs": [
    {
     "data": {
      "text/plain": [
       "grid_id          0\n",
       "wui1             0\n",
       "wui2             0\n",
       "wui3             0\n",
       "wui4             0\n",
       "wui_dist_mean    0\n",
       "dtype: int64"
      ]
     },
     "execution_count": 22,
     "metadata": {},
     "output_type": "execute_result"
    }
   ],
   "source": [
    "wui_grid_stats.isna().sum()"
   ]
  },
  {
   "cell_type": "code",
   "execution_count": 24,
   "id": "6c132794-89c0-40db-9310-6341cc1e8705",
   "metadata": {},
   "outputs": [
    {
     "name": "stdout",
     "output_type": "stream",
     "text": [
      "Saved to: /Users/max/Library/CloudStorage/OneDrive-Personal/mcook/aspen-fire/Aim3/data/tabular/srm_wui_grid_stats.csv\n"
     ]
    }
   ],
   "source": [
    "# export the summary table\n",
    "out_fp = os.path.join(projdir, 'Aim3/data/tabular/srm_wui_grid_stats.csv')\n",
    "wui_grid_stats.to_csv(out_fp)\n",
    "print(f\"Saved to: {out_fp}\")"
   ]
  }
 ],
 "metadata": {
  "kernelspec": {
   "display_name": "aspen-fire",
   "language": "python",
   "name": "aspen-fire"
  },
  "language_info": {
   "codemirror_mode": {
    "name": "ipython",
    "version": 3
   },
   "file_extension": ".py",
   "mimetype": "text/x-python",
   "name": "python",
   "nbconvert_exporter": "python",
   "pygments_lexer": "ipython3",
   "version": "3.10.12"
  }
 },
 "nbformat": 4,
 "nbformat_minor": 5
}
