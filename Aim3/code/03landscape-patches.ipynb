{
 "cells": [
  {
   "cell_type": "code",
   "execution_count": 16,
   "id": "38aa9454-0403-42d2-a456-df8e6c8f7973",
   "metadata": {},
   "outputs": [
    {
     "name": "stdout",
     "output_type": "stream",
     "text": [
      "Ready to go !\n"
     ]
    }
   ],
   "source": [
    "\"\"\"\n",
    "10-meter aspen patch metrics\n",
    "author: maxwell.cook@colorado.edu\n",
    "\"\"\"\n",
    "\n",
    "import os, sys, time\n",
    "import geopandas as gpd\n",
    "import pylandstats as pls\n",
    "import multiprocessing as mp\n",
    "import concurrent.futures\n",
    "import numpy as np\n",
    "import rasterio as rio\n",
    "from rasterio.mask import mask\n",
    "from multiprocessing import Pool, cpu_count\n",
    "from tqdm.notebook import tqdm\n",
    "from shapely.geometry import box\n",
    "\n",
    "maindir = '/Users/max/Library/CloudStorage/OneDrive-Personal/mcook/'\n",
    "projdir = os.path.join(maindir, 'aspen-fire/')\n",
    "\n",
    "# Custom functions\n",
    "sys.path.append(os.path.join(maindir,'aspen-fire/Aim2/code/Python'))\n",
    "from __functions import *\n",
    "\n",
    "proj = 'EPSG:5070' # albers\n",
    "\n",
    "print(\"Ready to go !\")"
   ]
  },
  {
   "cell_type": "code",
   "execution_count": 4,
   "id": "81eec940-2604-47de-a0fa-9d5940d7c85a",
   "metadata": {},
   "outputs": [
    {
     "data": {
      "text/plain": [
       "Index(['fs_id', 'sfs_id', 'sfs_area_ha', 'fs_name', 'sfs_exposure',\n",
       "       'pct_disturbed', 'US_L4CODE', 'US_L4NAME', 'trend_area', 'trend_count',\n",
       "       'historic', 'ssp245', 'ssp585', 'delta245', 'delta585', 'aspen10_pct',\n",
       "       'aspen10_pixn', 'combust_sum', 'msbf_count_sum', 'pop_density_max',\n",
       "       'pop_count_sum', 'wui1', 'wui2', 'wui3', 'wui4', 'wui_dist_mean',\n",
       "       'sfs_area', 'burned_area_c', 'burned_pct_c', 'whp_p95', 'dom_evt1',\n",
       "       'dom_evt2', 'dom_evt3', 'dom_evt4', 'Aspen', 'Douglas_fir',\n",
       "       'Gambel_oak', 'Lodgepole', 'Piñon_juniper', 'Ponderosa', 'Sagebrush',\n",
       "       'Spruce_fir', 'White_fir', 'forest_cc_mean', 'forest_ch_mean',\n",
       "       'geometry'],\n",
       "      dtype='object')"
      ]
     },
     "execution_count": 4,
     "metadata": {},
     "output_type": "execute_result"
    }
   ],
   "source": [
    "fp = os.path.join(projdir, 'Aim3/data/spatial/mod/srm_firesheds_model_data.gpkg')\n",
    "firesheds = gpd.read_file(fp)\n",
    "firesheds.columns"
   ]
  },
  {
   "cell_type": "code",
   "execution_count": 20,
   "id": "c42fe215-deeb-4e8f-b9ae-72ff1a96f9b8",
   "metadata": {},
   "outputs": [
    {
     "data": {
      "text/plain": [
       "count     1637.000000\n",
       "mean     10315.122883\n",
       "std       1246.483878\n",
       "min       5832.000000\n",
       "25%       9564.480000\n",
       "50%      10380.960000\n",
       "75%      11080.800000\n",
       "max      14580.000000\n",
       "Name: sfs_area_ha, dtype: float64"
      ]
     },
     "execution_count": 20,
     "metadata": {},
     "output_type": "execute_result"
    }
   ],
   "source": [
    "firesheds['sfs_area_ha'].describe()"
   ]
  },
  {
   "cell_type": "code",
   "execution_count": 8,
   "id": "0ac52784-85db-4a96-a0f2-229751355e0d",
   "metadata": {},
   "outputs": [
    {
     "name": "stdout",
     "output_type": "stream",
     "text": [
      "1637\n"
     ]
    },
    {
     "data": {
      "text/plain": [
       "1416"
      ]
     },
     "execution_count": 8,
     "metadata": {},
     "output_type": "execute_result"
    }
   ],
   "source": [
    "# subset to fireshed with at least ~5% aspen cover\n",
    "print(len(firesheds))\n",
    "fs_aspen = firesheds[firesheds['aspen10_pct'] > 0.05]\n",
    "len(fs_aspen)"
   ]
  },
  {
   "cell_type": "code",
   "execution_count": 17,
   "id": "39952531-03d0-41cc-972d-6b0f0b271a2f",
   "metadata": {},
   "outputs": [
    {
     "data": {
      "application/vnd.jupyter.widget-view+json": {
       "model_id": "28c2544bd66c435fa488db278dc30dab",
       "version_major": 2,
       "version_minor": 0
      },
      "text/plain": [
       "Processing firesheds:   0%|          | 0/1416 [00:00<?, ?it/s]"
      ]
     },
     "metadata": {},
     "output_type": "display_data"
    },
    {
     "name": "stdout",
     "output_type": "stream",
     "text": [
      "\n",
      "Total elapsed time: 1.26 minutes.\n",
      "\n"
     ]
    }
   ],
   "source": [
    "# patch analysis - largest patch size, mean patch size, etc\n",
    "\n",
    "dir = os.path.join(projdir,'Aim1/data/spatial/mod/results/classification/')\n",
    "aspen10_fp = os.path.join(dir,'s2aspen_distribution_10m_y2019_CookEtAl.tif')\n",
    "\n",
    "# Define metrics to calculate\n",
    "cls_metrics = ['number_of_patches', 'patch_density', 'largest_patch_index']\n",
    "\n",
    "# Function to process a single fireshed grid\n",
    "def process_fireshed(fireshed):\n",
    "    \"\"\" Process a single fireshed grid for patch statistics. \"\"\"\n",
    "    try:\n",
    "        unit_id = fireshed[\"sfs_id\"]\n",
    "        geometry = fireshed[\"geometry\"]  # Shapely Polygon\n",
    "\n",
    "        with rio.open(aspen10_fp) as src:\n",
    "            # Extract raster subset using rasterio mask (faster than .rio.clip)\n",
    "            out_image, _ = mask(src, [geometry], crop=True)\n",
    "            arr = out_image.squeeze()\n",
    "\n",
    "        # Ensure valid data exists\n",
    "        if np.all(arr == src.nodata) or np.count_nonzero(arr) == 0:\n",
    "            return None\n",
    "\n",
    "        # Compute patch statistics\n",
    "        ls = pls.Landscape(arr, res=(10, 10))\n",
    "        patches = ls.compute_class_metrics_df(metrics=cls_metrics)\n",
    "        patches[\"sfs_id\"] = unit_id\n",
    "\n",
    "        return patches\n",
    "\n",
    "    except Exception as e:\n",
    "        print(f\"Error processing grid {fireshed['sfs_id']}: {e}\")\n",
    "        return None\n",
    "\n",
    "if __name__ == \"__main__\":\n",
    "    t0 = time.time()\n",
    "\n",
    "    num_workers = 2  # adjust as needed\n",
    "    fs_list = fs_aspen.to_dict(orient=\"records\")  # Convert GeoDataFrame to list\n",
    "\n",
    "    results = []\n",
    "    with concurrent.futures.ThreadPoolExecutor(max_workers=num_workers) as executor:\n",
    "        futures = {executor.submit(process_fireshed, fs): fs for fs in fs_list}\n",
    "        \n",
    "        for future in tqdm(concurrent.futures.as_completed(futures), \n",
    "                           total=len(futures), desc=\"Processing firesheds\"):\n",
    "            result = future.result()\n",
    "            if result is not None:\n",
    "                results.append(result)\n",
    "\n",
    "    # Merge results into a DataFrame\n",
    "    patch_metrics_df = pd.concat(results, ignore_index=True) if results else pd.DataFrame()\n",
    "\n",
    "    t1 = (time.time() - t0) / 60\n",
    "    print(f\"\\nTotal elapsed time: {t1:.2f} minutes.\\n\")"
   ]
  },
  {
   "cell_type": "code",
   "execution_count": 18,
   "id": "9a6f1f4c-ffbd-4d0c-8572-6fa9fc821b98",
   "metadata": {},
   "outputs": [
    {
     "data": {
      "text/html": [
       "<div>\n",
       "<style scoped>\n",
       "    .dataframe tbody tr th:only-of-type {\n",
       "        vertical-align: middle;\n",
       "    }\n",
       "\n",
       "    .dataframe tbody tr th {\n",
       "        vertical-align: top;\n",
       "    }\n",
       "\n",
       "    .dataframe thead th {\n",
       "        text-align: right;\n",
       "    }\n",
       "</style>\n",
       "<table border=\"1\" class=\"dataframe\">\n",
       "  <thead>\n",
       "    <tr style=\"text-align: right;\">\n",
       "      <th></th>\n",
       "      <th>number_of_patches</th>\n",
       "      <th>patch_density</th>\n",
       "      <th>largest_patch_index</th>\n",
       "      <th>sfs_id</th>\n",
       "    </tr>\n",
       "  </thead>\n",
       "  <tbody>\n",
       "    <tr>\n",
       "      <th>0</th>\n",
       "      <td>86</td>\n",
       "      <td>3.815372</td>\n",
       "      <td>0.095384</td>\n",
       "      <td>20467</td>\n",
       "    </tr>\n",
       "    <tr>\n",
       "      <th>1</th>\n",
       "      <td>2</td>\n",
       "      <td>0.088730</td>\n",
       "      <td>68.277848</td>\n",
       "      <td>20467</td>\n",
       "    </tr>\n",
       "    <tr>\n",
       "      <th>2</th>\n",
       "      <td>1941</td>\n",
       "      <td>54.625124</td>\n",
       "      <td>2.078062</td>\n",
       "      <td>20469</td>\n",
       "    </tr>\n",
       "    <tr>\n",
       "      <th>3</th>\n",
       "      <td>2</td>\n",
       "      <td>0.056286</td>\n",
       "      <td>59.755270</td>\n",
       "      <td>20469</td>\n",
       "    </tr>\n",
       "    <tr>\n",
       "      <th>4</th>\n",
       "      <td>1147</td>\n",
       "      <td>34.018549</td>\n",
       "      <td>2.622127</td>\n",
       "      <td>21247</td>\n",
       "    </tr>\n",
       "  </tbody>\n",
       "</table>\n",
       "</div>"
      ],
      "text/plain": [
       "   number_of_patches  patch_density  largest_patch_index  sfs_id\n",
       "0                 86       3.815372             0.095384   20467\n",
       "1                  2       0.088730            68.277848   20467\n",
       "2               1941      54.625124             2.078062   20469\n",
       "3                  2       0.056286            59.755270   20469\n",
       "4               1147      34.018549             2.622127   21247"
      ]
     },
     "execution_count": 18,
     "metadata": {},
     "output_type": "execute_result"
    }
   ],
   "source": [
    "patch_metrics_df.head()"
   ]
  },
  {
   "cell_type": "code",
   "execution_count": 19,
   "id": "a749d220-cc87-4369-93c7-0808ea57fb8e",
   "metadata": {},
   "outputs": [
    {
     "name": "stdout",
     "output_type": "stream",
     "text": [
      "Saved to: /Users/max/Library/CloudStorage/OneDrive-Personal/mcook/aspen-fire/Aim3/data/tabular/firesheds_aspen10_patches.csv\n"
     ]
    }
   ],
   "source": [
    "# save this file out.\n",
    "out_fp = os.path.join(projdir,'Aim3/data/tabular/firesheds_aspen10_patches.csv')\n",
    "patch_metrics_df.to_csv(out_fp)\n",
    "print(f\"Saved to: {out_fp}\")"
   ]
  }
 ],
 "metadata": {
  "kernelspec": {
   "display_name": "aspen-fire",
   "language": "python",
   "name": "aspen-fire"
  },
  "language_info": {
   "codemirror_mode": {
    "name": "ipython",
    "version": 3
   },
   "file_extension": ".py",
   "mimetype": "text/x-python",
   "name": "python",
   "nbconvert_exporter": "python",
   "pygments_lexer": "ipython3",
   "version": "3.10.12"
  }
 },
 "nbformat": 4,
 "nbformat_minor": 5
}
