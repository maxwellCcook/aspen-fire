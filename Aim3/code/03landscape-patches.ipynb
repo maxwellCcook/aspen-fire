{
 "cells": [
  {
   "cell_type": "code",
   "execution_count": 2,
   "id": "38aa9454-0403-42d2-a456-df8e6c8f7973",
   "metadata": {},
   "outputs": [
    {
     "name": "stdout",
     "output_type": "stream",
     "text": [
      "Ready to go !\n"
     ]
    }
   ],
   "source": [
    "\"\"\"\n",
    "10-meter aspen patch metrics\n",
    "author: maxwell.cook@colorado.edu\n",
    "\"\"\"\n",
    "\n",
    "import os, sys, time\n",
    "import geopandas as gpd\n",
    "import pylandstats as pls\n",
    "import multiprocessing as mp\n",
    "import concurrent.futures\n",
    "import numpy as np\n",
    "import rasterio as rio\n",
    "from rasterio.mask import mask\n",
    "from multiprocessing import Pool, cpu_count\n",
    "from tqdm.notebook import tqdm\n",
    "from shapely.geometry import box\n",
    "\n",
    "maindir = '/Users/max/Library/CloudStorage/OneDrive-Personal/mcook/'\n",
    "projdir = os.path.join(maindir, 'aspen-fire/')\n",
    "\n",
    "# Custom functions\n",
    "sys.path.append(os.path.join(maindir,'aspen-fire/Aim2/code/Python'))\n",
    "from __functions import *\n",
    "\n",
    "proj = 'EPSG:5070' # albers\n",
    "\n",
    "print(\"Ready to go !\")"
   ]
  },
  {
   "cell_type": "code",
   "execution_count": 3,
   "id": "81eec940-2604-47de-a0fa-9d5940d7c85a",
   "metadata": {},
   "outputs": [
    {
     "data": {
      "text/plain": [
       "Index(['OBJECTID', 'Fireshed_ID', 'Subfireshed_ID', 'Fireshed_Area_Ha',\n",
       "       'Subfireshed_Area_Ha', 'Fireshed_Name', 'Fireshed_Code',\n",
       "       'Fireshed_State', 'Shape_Length', 'Shape_Area', 'Fireshed_MajRegion',\n",
       "       'AnnualExposure', 'PctRecentlyDisturbed', 'geometry'],\n",
       "      dtype='object')"
      ]
     },
     "execution_count": 3,
     "metadata": {},
     "output_type": "execute_result"
    }
   ],
   "source": [
    "fp = os.path.join(projdir, 'Aim3/data/spatial/raw/fsim/firesheds/subfiresheds.gpkg')\n",
    "firesheds = gpd.read_file(fp)\n",
    "firesheds.columns"
   ]
  },
  {
   "cell_type": "code",
   "execution_count": 4,
   "id": "26217580-bb27-4268-be3b-9338a3729c2d",
   "metadata": {},
   "outputs": [
    {
     "name": "stdout",
     "output_type": "stream",
     "text": [
      "1714\n"
     ]
    },
    {
     "data": {
      "text/plain": [
       "Index(['sfs_id', 'sfs_area_ha', 'geometry'], dtype='object')"
      ]
     },
     "execution_count": 4,
     "metadata": {},
     "output_type": "execute_result"
    }
   ],
   "source": [
    "firesheds = firesheds[['Subfireshed_ID','Subfireshed_Area_Ha','geometry']]\n",
    "firesheds.rename(columns={\n",
    "    'Subfireshed_ID': 'sfs_id',\n",
    "    'Subfireshed_Area_Ha': 'sfs_area_ha'\n",
    "}, inplace=True)\n",
    "print(len(firesheds))\n",
    "firesheds.columns"
   ]
  },
  {
   "cell_type": "code",
   "execution_count": 5,
   "id": "c42fe215-deeb-4e8f-b9ae-72ff1a96f9b8",
   "metadata": {},
   "outputs": [
    {
     "data": {
      "text/plain": [
       "count     1714.000000\n",
       "mean     10317.604201\n",
       "std       1255.129538\n",
       "min       5832.000000\n",
       "25%       9564.480000\n",
       "50%      10380.960000\n",
       "75%      11197.440000\n",
       "max      14580.000000\n",
       "Name: sfs_area_ha, dtype: float64"
      ]
     },
     "execution_count": 5,
     "metadata": {},
     "output_type": "execute_result"
    }
   ],
   "source": [
    "firesheds['sfs_area_ha'].describe()"
   ]
  },
  {
   "cell_type": "code",
   "execution_count": 6,
   "id": "39952531-03d0-41cc-972d-6b0f0b271a2f",
   "metadata": {},
   "outputs": [
    {
     "data": {
      "application/vnd.jupyter.widget-view+json": {
       "model_id": "684d86dffd5b453aaac2f854f1c0c287",
       "version_major": 2,
       "version_minor": 0
      },
      "text/plain": [
       "Processing firesheds:   0%|          | 0/1714 [00:00<?, ?it/s]"
      ]
     },
     "metadata": {},
     "output_type": "display_data"
    },
    {
     "name": "stdout",
     "output_type": "stream",
     "text": [
      "\n",
      "Total elapsed time: 1.24 minutes.\n",
      "\n"
     ]
    }
   ],
   "source": [
    "# patch analysis - largest patch size, mean patch size, etc\n",
    "dir = os.path.join(projdir,'Aim1/data/spatial/mod/results/classification/')\n",
    "aspen10_fp = os.path.join(dir,'s2aspen_distribution_10m_y2019_CookEtAl.tif')\n",
    "\n",
    "# Define metrics to calculate\n",
    "cls_metrics = ['number_of_patches', 'patch_density', 'largest_patch_index']\n",
    "\n",
    "# Function to process a single fireshed grid\n",
    "def process_fireshed(fireshed):\n",
    "    \"\"\" Process a single fireshed grid for patch statistics. \"\"\"\n",
    "    try:\n",
    "        unit_id = fireshed[\"sfs_id\"]\n",
    "        geometry = fireshed[\"geometry\"]  # Shapely Polygon\n",
    "\n",
    "        with rio.open(aspen10_fp) as src:\n",
    "            # Extract raster subset using rasterio mask (faster than .rio.clip)\n",
    "            out_image, _ = mask(src, [geometry], crop=True)\n",
    "            arr = out_image.squeeze()\n",
    "\n",
    "        # Ensure valid data exists\n",
    "        if np.all(arr == src.nodata) or np.count_nonzero(arr) == 0:\n",
    "            return None\n",
    "\n",
    "        # Compute patch statistics\n",
    "        ls = pls.Landscape(arr, res=(10, 10))\n",
    "        patches = ls.compute_class_metrics_df(metrics=cls_metrics)\n",
    "        # retain only aspen patches\n",
    "        patches = patches.reset_index() # set \"class_val\"\n",
    "        patches = patches[patches[\"class_val\"] == 1].copy()\n",
    "        if not patches.empty:\n",
    "            patches[\"sfs_id\"] = unit_id\n",
    "            return patches\n",
    "        else:\n",
    "            return None\n",
    "\n",
    "    except Exception as e:\n",
    "        print(f\"Error processing grid {fireshed['sfs_id']}: {e}\")\n",
    "        return None\n",
    "\n",
    "if __name__ == \"__main__\":\n",
    "    t0 = time.time()\n",
    "\n",
    "    num_workers = 2  # adjust as needed\n",
    "    fs_list = firesheds.to_dict(orient=\"records\")  # Convert GeoDataFrame to list\n",
    "\n",
    "    results = []\n",
    "    with concurrent.futures.ThreadPoolExecutor(max_workers=num_workers) as executor:\n",
    "        futures = {executor.submit(process_fireshed, fs): fs for fs in fs_list}\n",
    "        \n",
    "        for future in tqdm(concurrent.futures.as_completed(futures), \n",
    "                           total=len(futures), desc=\"Processing firesheds\"):\n",
    "            result = future.result()\n",
    "            if result is not None:\n",
    "                results.append(result)\n",
    "\n",
    "    # Merge results into a DataFrame\n",
    "    patch_metrics_df = pd.concat(results, ignore_index=True) if results else pd.DataFrame()\n",
    "\n",
    "    t1 = (time.time() - t0) / 60\n",
    "    print(f\"\\nTotal elapsed time: {t1:.2f} minutes.\\n\")"
   ]
  },
  {
   "cell_type": "code",
   "execution_count": 7,
   "id": "9a6f1f4c-ffbd-4d0c-8572-6fa9fc821b98",
   "metadata": {},
   "outputs": [
    {
     "data": {
      "text/html": [
       "<div>\n",
       "<style scoped>\n",
       "    .dataframe tbody tr th:only-of-type {\n",
       "        vertical-align: middle;\n",
       "    }\n",
       "\n",
       "    .dataframe tbody tr th {\n",
       "        vertical-align: top;\n",
       "    }\n",
       "\n",
       "    .dataframe thead th {\n",
       "        text-align: right;\n",
       "    }\n",
       "</style>\n",
       "<table border=\"1\" class=\"dataframe\">\n",
       "  <thead>\n",
       "    <tr style=\"text-align: right;\">\n",
       "      <th></th>\n",
       "      <th>class_val</th>\n",
       "      <th>number_of_patches</th>\n",
       "      <th>patch_density</th>\n",
       "      <th>largest_patch_index</th>\n",
       "      <th>sfs_id</th>\n",
       "    </tr>\n",
       "  </thead>\n",
       "  <tbody>\n",
       "    <tr>\n",
       "      <th>0</th>\n",
       "      <td>1</td>\n",
       "      <td>86</td>\n",
       "      <td>3.815372</td>\n",
       "      <td>0.095384</td>\n",
       "      <td>20467</td>\n",
       "    </tr>\n",
       "    <tr>\n",
       "      <th>1</th>\n",
       "      <td>1</td>\n",
       "      <td>4</td>\n",
       "      <td>0.161778</td>\n",
       "      <td>0.010920</td>\n",
       "      <td>20466</td>\n",
       "    </tr>\n",
       "    <tr>\n",
       "      <th>2</th>\n",
       "      <td>1</td>\n",
       "      <td>1941</td>\n",
       "      <td>54.625124</td>\n",
       "      <td>2.078062</td>\n",
       "      <td>20469</td>\n",
       "    </tr>\n",
       "    <tr>\n",
       "      <th>3</th>\n",
       "      <td>1</td>\n",
       "      <td>1147</td>\n",
       "      <td>34.018549</td>\n",
       "      <td>2.622127</td>\n",
       "      <td>21247</td>\n",
       "    </tr>\n",
       "    <tr>\n",
       "      <th>4</th>\n",
       "      <td>1</td>\n",
       "      <td>274</td>\n",
       "      <td>6.027091</td>\n",
       "      <td>0.690916</td>\n",
       "      <td>21025</td>\n",
       "    </tr>\n",
       "  </tbody>\n",
       "</table>\n",
       "</div>"
      ],
      "text/plain": [
       "   class_val  number_of_patches  patch_density  largest_patch_index  sfs_id\n",
       "0          1                 86       3.815372             0.095384   20467\n",
       "1          1                  4       0.161778             0.010920   20466\n",
       "2          1               1941      54.625124             2.078062   20469\n",
       "3          1               1147      34.018549             2.622127   21247\n",
       "4          1                274       6.027091             0.690916   21025"
      ]
     },
     "execution_count": 7,
     "metadata": {},
     "output_type": "execute_result"
    }
   ],
   "source": [
    "patch_metrics_df.head()"
   ]
  },
  {
   "cell_type": "code",
   "execution_count": 8,
   "id": "aa02a4f9-12f2-42a0-b613-b49313c082ed",
   "metadata": {},
   "outputs": [
    {
     "data": {
      "text/plain": [
       "1635"
      ]
     },
     "execution_count": 8,
     "metadata": {},
     "output_type": "execute_result"
    }
   ],
   "source": [
    "len(patch_metrics_df)"
   ]
  },
  {
   "cell_type": "code",
   "execution_count": 9,
   "id": "a749d220-cc87-4369-93c7-0808ea57fb8e",
   "metadata": {},
   "outputs": [
    {
     "name": "stdout",
     "output_type": "stream",
     "text": [
      "Saved to: /Users/max/Library/CloudStorage/OneDrive-Personal/mcook/aspen-fire/Aim3/data/tabular/firesheds_aspen10_patches.csv\n"
     ]
    }
   ],
   "source": [
    "# save this file out.\n",
    "out_fp = os.path.join(projdir,'Aim3/data/tabular/firesheds_aspen10_patches.csv')\n",
    "patch_metrics_df.to_csv(out_fp)\n",
    "print(f\"Saved to: {out_fp}\")"
   ]
  }
 ],
 "metadata": {
  "kernelspec": {
   "display_name": "aspen-fire",
   "language": "python",
   "name": "aspen-fire"
  },
  "language_info": {
   "codemirror_mode": {
    "name": "ipython",
    "version": 3
   },
   "file_extension": ".py",
   "mimetype": "text/x-python",
   "name": "python",
   "nbconvert_exporter": "python",
   "pygments_lexer": "ipython3",
   "version": "3.10.12"
  }
 },
 "nbformat": 4,
 "nbformat_minor": 5
}
