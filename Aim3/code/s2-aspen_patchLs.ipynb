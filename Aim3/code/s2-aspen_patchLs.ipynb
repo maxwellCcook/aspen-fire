{
 "cells": [
  {
   "cell_type": "code",
   "execution_count": null,
   "id": "38aa9454-0403-42d2-a456-df8e6c8f7973",
   "metadata": {},
   "outputs": [],
   "source": [
    "\"\"\"\n",
    "10-meter aspen patch metrics\n",
    "author: maxwell.cook@colorado.edu\n",
    "\"\"\"\n",
    "\n"
   ]
  },
  {
   "cell_type": "code",
   "execution_count": null,
   "id": "81eec940-2604-47de-a0fa-9d5940d7c85a",
   "metadata": {},
   "outputs": [],
   "source": [
    "fp = os.path.join(projdir,'Aim3/data/spatial/mod/future_fire_grid_trend.gpkg')\n",
    "future_fire = gpd.read_file(fp)\n",
    "future_fire.head()"
   ]
  },
  {
   "cell_type": "code",
   "execution_count": null,
   "id": "66ac47af-a49a-4998-ad4e-1470e421b924",
   "metadata": {},
   "outputs": [],
   "source": [
    "# check for duplicates, remove them\n",
    "n = future_fire.duplicated(subset=['grid_id']).sum()\n",
    "if n > 0:\n",
    "    print(f\"\\nThere are [{n}] duplicate rows.\\n\")\n",
    "else:\n",
    "    print(\"\\nNo duplicates at this stage.\\n\")"
   ]
  },
  {
   "cell_type": "code",
   "execution_count": null,
   "id": "71e5f7ea-835d-479a-b8f5-80654c191a85",
   "metadata": {},
   "outputs": [],
   "source": [
    "# load the 10-m aspen map (classification)\n",
    "aspen10_fp = os.path.join(projdir,'Aim1/data/spatial/mod/results/classification/s2aspen_distribution_10m_y2019_CookEtAl.tif')\n",
    "aspen10 = rxr.open_rasterio(aspen10_fp, cache=False, chunks='auto', mask=True).squeeze()\n",
    "print(f\"\\n{aspen10}\\n\")\n",
    "print(aspen10.rio.crs)"
   ]
  },
  {
   "cell_type": "code",
   "execution_count": null,
   "id": "30209f64-45ca-4a5e-bfd1-6d245b950e00",
   "metadata": {},
   "outputs": [],
   "source": [
    "t0 = time.time()\n",
    "\n",
    "# calculate zonal statistics\n",
    "aspen10_grids = compute_band_stats(\n",
    "    geoms=future_fire, \n",
    "    image_da=aspen10, \n",
    "    id_col='grid_id', \n",
    "    attr='aspen10',\n",
    "    ztype='categorical'\n",
    ")\n",
    "# only keep the count of aspen pixels\n",
    "aspen10_grids = aspen10_grids[aspen10_grids['aspen10'] == 1]\n",
    "# check the results\n",
    "print(aspen10_grids.head())\n",
    "\n",
    "t1 = (time.time() - t0) / 60\n",
    "print(f\"\\nTotal elapsed time: {t1:.2f} minutes.\\n\")\n",
    "print(\"\\n~~~~~~~~~~\\n\")"
   ]
  },
  {
   "cell_type": "code",
   "execution_count": null,
   "id": "2fdfdf19-23c0-4d4b-b75f-3b2c17e0a223",
   "metadata": {},
   "outputs": [],
   "source": [
    "aspen10_grids['pct_cover'].describe()"
   ]
  },
  {
   "cell_type": "code",
   "execution_count": null,
   "id": "70f06c9d-cdbc-401f-9f28-8f366d1d692a",
   "metadata": {},
   "outputs": [],
   "source": [
    "# seperate aspen grids for patch analysis\n",
    "aspen_grids = aspen10_grids[aspen10_grids['pct_cover'] > 1] # grids where aspen percent cover is greater than 1%\n",
    "print(f\"\\n[{len(aspen10_grids)}/{len(future_fire)}] grids with any aspen cover.\")\n",
    "print(f\"\\n\\t[{len(aspen_grids)}/{len(future_fire)}] grids with >1% aspen cover.\\n\")"
   ]
  },
  {
   "cell_type": "code",
   "execution_count": null,
   "id": "ee3e711e-208f-4694-a074-82e92e9bc501",
   "metadata": {},
   "outputs": [],
   "source": [
    "# merge back to the spatial data\n",
    "ff_aspen_grids = future_fire[future_fire['grid_id'].isin(aspen_grids['grid_id'].unique())]\n",
    "print(len(ff_aspen_grids))"
   ]
  },
  {
   "cell_type": "code",
   "execution_count": null,
   "id": "39952531-03d0-41cc-972d-6b0f0b271a2f",
   "metadata": {},
   "outputs": [],
   "source": [
    "t0 = time.time()\n",
    "\n",
    "# patch analysis - largest patch size, mean patch size, etc\n",
    "import pylandstats as pls\n",
    "from joblib import Parallel, delayed\n",
    "\n",
    "# define metrics to calculate\n",
    "cls_metrics = [\n",
    "    'number_of_patches',  'patch_density', 'largest_patch_index'\n",
    "]\n",
    "\n",
    "def process_grid(grid):\n",
    "    try:\n",
    "        bounds = grid.geometry.bounds\n",
    "        bbox = box(*bounds)\n",
    "\n",
    "        # extract the raster for the gridcell:\n",
    "        arr = aspen10.rio.clip([bbox])\n",
    "        # generate the landscape\n",
    "        ls = pls.Landscape(arr.values, res=(10,10))\n",
    "        # calculate the patch metrics\n",
    "        patches = ls.compute_class_metrics_df(metrics=cls_metrics)\n",
    "        patches[\"grid_id\"] = grid.grid_id\n",
    "        del arr, ls\n",
    "        \n",
    "        return patches\n",
    "        \n",
    "    except Exception as e:\n",
    "        print(f\"Error processing grid {row.grid_id}: {e}\")\n",
    "\n",
    "metrics_ = [] # to store the patch metrics\n",
    "\n",
    "# Parallel processing using joblib\n",
    "num_cores = -1  # Use all available cores\n",
    "N = len(ff_aspen_grids)\n",
    "results = Parallel(n_jobs=num_cores)(\n",
    "    delayed(process_grid)(grid) for _, grid in tqdm(ff_aspen_grids.iterrows(), total=N)\n",
    ")\n",
    "        \n",
    "# merge the patch metrics\n",
    "metrics_df = pd.concat(filter(None, results), ignore_index=True)\n",
    "metrics_df.to_csv(os.path.join(projdir,\"data/tabular/aspen_patch_metrics.csv\"), index=False)\n",
    "\n",
    "t1 = (time.time() - t0) / 60\n",
    "print(f\"\\nTotal elapsed time: {t1:.2f} minutes.\\n\")\n",
    "print(\"\\n~~~~~~~~~~\\n\")"
   ]
  },
  {
   "cell_type": "code",
   "execution_count": null,
   "id": "5ee26dd6-a902-4ee4-9292-c2689f461d29",
   "metadata": {},
   "outputs": [],
   "source": []
  },
  {
   "cell_type": "code",
   "execution_count": null,
   "id": "e1d39f52-f200-47c8-addd-7941458aef1e",
   "metadata": {},
   "outputs": [],
   "source": []
  }
 ],
 "metadata": {
  "kernelspec": {
   "display_name": "aspen-fire",
   "language": "python",
   "name": "aspen-fire"
  },
  "language_info": {
   "codemirror_mode": {
    "name": "ipython",
    "version": 3
   },
   "file_extension": ".py",
   "mimetype": "text/x-python",
   "name": "python",
   "nbconvert_exporter": "python",
   "pygments_lexer": "ipython3",
   "version": "3.10.12"
  }
 },
 "nbformat": 4,
 "nbformat_minor": 5
}
