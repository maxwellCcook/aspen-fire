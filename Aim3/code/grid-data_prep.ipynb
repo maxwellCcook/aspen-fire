{
 "cells": [
  {
   "cell_type": "code",
   "execution_count": 1,
   "id": "e7393824-b719-401f-9e59-bbe9efcbe357",
   "metadata": {},
   "outputs": [
    {
     "name": "stdout",
     "output_type": "stream",
     "text": [
      "Ready to go !\n"
     ]
    }
   ],
   "source": [
    "\"\"\"\n",
    "Grid preparation for future aspen project:\n",
    "\n",
    "Author: maxwell.cook@colorado.edu\n",
    "\"\"\"\n",
    "\n",
    "import os, sys, time, re\n",
    "import pandas as pd\n",
    "import xarray as xr\n",
    "import geopandas as gpd\n",
    "import numpy as np\n",
    "import rasterio as rio\n",
    "import seaborn as sns\n",
    "import matplotlib.pyplot as plt\n",
    "import matplotlib.colors as mcolors\n",
    "import matplotlib.patches as mpatches\n",
    "\n",
    "from matplotlib.ticker import FuncFormatter\n",
    "from tqdm.notebook import tqdm\n",
    "from matplotlib.colors import to_rgba\n",
    "from matplotlib.patches import Patch\n",
    "from sklearn.preprocessing import MinMaxScaler\n",
    "from scipy.ndimage import distance_transform_edt\n",
    "\n",
    "maindir = '/Users/max/Library/CloudStorage/OneDrive-Personal/mcook/'\n",
    "projdir = os.path.join(maindir, 'aspen-fire/')\n",
    "\n",
    "# Custom functions\n",
    "sys.path.append(os.path.join(maindir,'aspen-fire/Aim2/code/Python'))\n",
    "from __functions import *\n",
    "\n",
    "proj = 'EPSG:5070' # albers\n",
    "\n",
    "print(\"Ready to go !\")"
   ]
  },
  {
   "cell_type": "markdown",
   "id": "e97ad4be-7c66-44be-b982-640c69ced7e7",
   "metadata": {},
   "source": [
    "## Future Fire\n",
    "\n",
    "From Stephens et al., In review, annual probability of area burned and fire occurrence. Trend to 2060 was calculated using a median-based linear model (MBLM) thielsen estimate. "
   ]
  },
  {
   "cell_type": "code",
   "execution_count": 2,
   "id": "7d39e7f5-2ea1-421b-b77e-035645207a1d",
   "metadata": {},
   "outputs": [
    {
     "data": {
      "text/html": [
       "<div>\n",
       "<style scoped>\n",
       "    .dataframe tbody tr th:only-of-type {\n",
       "        vertical-align: middle;\n",
       "    }\n",
       "\n",
       "    .dataframe tbody tr th {\n",
       "        vertical-align: top;\n",
       "    }\n",
       "\n",
       "    .dataframe thead th {\n",
       "        text-align: right;\n",
       "    }\n",
       "</style>\n",
       "<table border=\"1\" class=\"dataframe\">\n",
       "  <thead>\n",
       "    <tr style=\"text-align: right;\">\n",
       "      <th></th>\n",
       "      <th>grid_id</th>\n",
       "      <th>trend_area</th>\n",
       "      <th>trend_count</th>\n",
       "      <th>p_area</th>\n",
       "      <th>p_count</th>\n",
       "      <th>NA_L3NAME</th>\n",
       "      <th>US_L4NAME</th>\n",
       "      <th>US_L4CODE</th>\n",
       "      <th>geometry</th>\n",
       "    </tr>\n",
       "  </thead>\n",
       "  <tbody>\n",
       "    <tr>\n",
       "      <th>0</th>\n",
       "      <td>159230.0</td>\n",
       "      <td>190.629216</td>\n",
       "      <td>0.019221</td>\n",
       "      <td>3.590523e-11</td>\n",
       "      <td>1.436235e-13</td>\n",
       "      <td>Southern Rockies</td>\n",
       "      <td>Foothill Shrublands</td>\n",
       "      <td>21d</td>\n",
       "      <td>POLYGON ((-861518.632 2246765.246, -858285.087...</td>\n",
       "    </tr>\n",
       "    <tr>\n",
       "      <th>1</th>\n",
       "      <td>159231.0</td>\n",
       "      <td>190.629216</td>\n",
       "      <td>0.019221</td>\n",
       "      <td>3.590523e-11</td>\n",
       "      <td>1.436235e-13</td>\n",
       "      <td>Southern Rockies</td>\n",
       "      <td>Foothill Shrublands</td>\n",
       "      <td>21d</td>\n",
       "      <td>POLYGON ((-858285.087 2246403.307, -855051.389...</td>\n",
       "    </tr>\n",
       "    <tr>\n",
       "      <th>2</th>\n",
       "      <td>159232.0</td>\n",
       "      <td>190.629216</td>\n",
       "      <td>0.019221</td>\n",
       "      <td>3.590523e-11</td>\n",
       "      <td>1.436235e-13</td>\n",
       "      <td>Southern Rockies</td>\n",
       "      <td>Foothill Shrublands</td>\n",
       "      <td>21d</td>\n",
       "      <td>POLYGON ((-855051.389 2246042.730, -851817.539...</td>\n",
       "    </tr>\n",
       "    <tr>\n",
       "      <th>3</th>\n",
       "      <td>159233.0</td>\n",
       "      <td>301.282740</td>\n",
       "      <td>0.026862</td>\n",
       "      <td>1.926234e-07</td>\n",
       "      <td>1.677490e-09</td>\n",
       "      <td>Southern Rockies</td>\n",
       "      <td>Crystalline Mid-Elevation Forests</td>\n",
       "      <td>21c</td>\n",
       "      <td>POLYGON ((-851817.539 2245683.513, -848583.540...</td>\n",
       "    </tr>\n",
       "    <tr>\n",
       "      <th>4</th>\n",
       "      <td>159234.0</td>\n",
       "      <td>411.936265</td>\n",
       "      <td>0.034504</td>\n",
       "      <td>3.852110e-07</td>\n",
       "      <td>3.354837e-09</td>\n",
       "      <td>Southern Rockies</td>\n",
       "      <td>Crystalline Mid-Elevation Forests</td>\n",
       "      <td>21c</td>\n",
       "      <td>POLYGON ((-848583.540 2245325.656, -845349.389...</td>\n",
       "    </tr>\n",
       "  </tbody>\n",
       "</table>\n",
       "</div>"
      ],
      "text/plain": [
       "    grid_id  trend_area  trend_count        p_area       p_count  \\\n",
       "0  159230.0  190.629216     0.019221  3.590523e-11  1.436235e-13   \n",
       "1  159231.0  190.629216     0.019221  3.590523e-11  1.436235e-13   \n",
       "2  159232.0  190.629216     0.019221  3.590523e-11  1.436235e-13   \n",
       "3  159233.0  301.282740     0.026862  1.926234e-07  1.677490e-09   \n",
       "4  159234.0  411.936265     0.034504  3.852110e-07  3.354837e-09   \n",
       "\n",
       "          NA_L3NAME                          US_L4NAME US_L4CODE  \\\n",
       "0  Southern Rockies                Foothill Shrublands       21d   \n",
       "1  Southern Rockies                Foothill Shrublands       21d   \n",
       "2  Southern Rockies                Foothill Shrublands       21d   \n",
       "3  Southern Rockies  Crystalline Mid-Elevation Forests       21c   \n",
       "4  Southern Rockies  Crystalline Mid-Elevation Forests       21c   \n",
       "\n",
       "                                            geometry  \n",
       "0  POLYGON ((-861518.632 2246765.246, -858285.087...  \n",
       "1  POLYGON ((-858285.087 2246403.307, -855051.389...  \n",
       "2  POLYGON ((-855051.389 2246042.730, -851817.539...  \n",
       "3  POLYGON ((-851817.539 2245683.513, -848583.540...  \n",
       "4  POLYGON ((-848583.540 2245325.656, -845349.389...  "
      ]
     },
     "execution_count": 2,
     "metadata": {},
     "output_type": "execute_result"
    }
   ],
   "source": [
    "fp = os.path.join(projdir,'Aim3/data/spatial/mod/future_fire_grid_trend.gpkg')\n",
    "future_fire = gpd.read_file(fp)\n",
    "future_fire.head()"
   ]
  },
  {
   "cell_type": "code",
   "execution_count": 3,
   "id": "62a6149a-2a15-4d65-a85a-bd62d1e28c25",
   "metadata": {},
   "outputs": [
    {
     "name": "stdout",
     "output_type": "stream",
     "text": [
      "\n",
      "No duplicates at this stage.\n",
      "\n"
     ]
    }
   ],
   "source": [
    "# check for duplicates, remove them\n",
    "n = future_fire.duplicated(subset=['grid_id']).sum()\n",
    "if n > 0:\n",
    "    print(f\"\\nThere are [{n}] duplicate rows.\\n\")\n",
    "else:\n",
    "    print(\"\\nNo duplicates at this stage.\\n\")"
   ]
  },
  {
   "cell_type": "code",
   "execution_count": null,
   "id": "bee94b58-6ae3-4a60-8418-433ae9df7f27",
   "metadata": {},
   "outputs": [],
   "source": []
  },
  {
   "cell_type": "code",
   "execution_count": null,
   "id": "6beb917a-7be2-4ab6-aad4-b204ad577fce",
   "metadata": {},
   "outputs": [],
   "source": []
  },
  {
   "cell_type": "code",
   "execution_count": null,
   "id": "bbd2aa17-e37c-4b32-aeea-2456413b7902",
   "metadata": {},
   "outputs": [],
   "source": []
  },
  {
   "cell_type": "markdown",
   "id": "edccbba0-db52-49de-8a6e-1cf4b19004b9",
   "metadata": {},
   "source": [
    "## Aspen habitat suitability \n",
    "\n",
    "From Hart et al. In Review- Calculate the change between past and future (2041-2070) aspen suitability to get the difference (future change in habitat suitability)."
   ]
  },
  {
   "cell_type": "code",
   "execution_count": 4,
   "id": "47a6a604-55df-4403-8371-428a1f730be8",
   "metadata": {},
   "outputs": [
    {
     "data": {
      "image/png": "[encoded data removed]",
      "text/plain": [
       "<Figure size 1000x600 with 2 Axes>"
      ]
     },
     "metadata": {},
     "output_type": "display_data"
    }
   ],
   "source": [
    "# load the future aspen suitability predictions\n",
    "dir = os.path.join(projdir,'Aim3/data/spatial/raw/aspen_suitability/Predictions/')\n",
    "# historical suitability\n",
    "hist = os.path.join(dir,'predicted_historical_1981-2010_ensemble.tif')\n",
    "# future suitability (SSP245 2041-2070)\n",
    "ssp245 = os.path.join(dir,'predicted_SSP245_2041-2070_ensemble.tif')\n",
    "# future suitability (SSP585 2041-2070)\n",
    "ssp585 = os.path.join(dir,'predicted_SSP585_2041-2070_ensemble.tif')\n",
    "\n",
    "# load each raster\n",
    "hist_da = rxr.open_rasterio(hist, masked=True, cache=False).squeeze()\n",
    "ssp245_da = rxr.open_rasterio(ssp245, masked=True, cache=False).squeeze()\n",
    "ssp585_da = rxr.open_rasterio(ssp585, masked=True, cache=False).squeeze()\n",
    "\n",
    "# calculate the change in suitability under both scenarios\n",
    "change_SSP245 = ssp245_da - hist_da\n",
    "change_SSP585 = ssp585_da - hist_da\n",
    "\n",
    "# check the results\n",
    "out_png = os.path.join(projdir, 'Aim3/figures/srm_aspen_suitability_change_ssp585.png')\n",
    "plot_raster(change_SSP585, legend_lab = \"Aspen Suitability Change (SSP585)\", save_file=True, out_png=out_png)"
   ]
  },
  {
   "cell_type": "code",
   "execution_count": 5,
   "id": "d33c4c68-ba29-4b8f-b879-88465903c2b2",
   "metadata": {},
   "outputs": [
    {
     "data": {
      "text/plain": [
       "CRS.from_epsg(32613)"
      ]
     },
     "execution_count": 5,
     "metadata": {},
     "output_type": "execute_result"
    }
   ],
   "source": [
    "change_SSP245.rio.crs"
   ]
  },
  {
   "cell_type": "code",
   "execution_count": 6,
   "id": "35fa43c5-1566-4886-88c6-006c49c82f42",
   "metadata": {},
   "outputs": [
    {
     "name": "stdout",
     "output_type": "stream",
     "text": [
      "Processing: historic\n",
      "Processing: ssp245\n",
      "Processing: ssp585\n",
      "Processing: delta245\n",
      "Processing: delta585\n"
     ]
    },
    {
     "data": {
      "text/html": [
       "<div>\n",
       "<style scoped>\n",
       "    .dataframe tbody tr th:only-of-type {\n",
       "        vertical-align: middle;\n",
       "    }\n",
       "\n",
       "    .dataframe tbody tr th {\n",
       "        vertical-align: top;\n",
       "    }\n",
       "\n",
       "    .dataframe thead th {\n",
       "        text-align: right;\n",
       "    }\n",
       "</style>\n",
       "<table border=\"1\" class=\"dataframe\">\n",
       "  <thead>\n",
       "    <tr style=\"text-align: right;\">\n",
       "      <th></th>\n",
       "      <th>grid_id</th>\n",
       "      <th>historic_mean</th>\n",
       "      <th>ssp245_mean</th>\n",
       "      <th>ssp585_mean</th>\n",
       "      <th>delta245_mean</th>\n",
       "      <th>delta585_mean</th>\n",
       "    </tr>\n",
       "  </thead>\n",
       "  <tbody>\n",
       "    <tr>\n",
       "      <th>0</th>\n",
       "      <td>159230.0</td>\n",
       "      <td>0.077949</td>\n",
       "      <td>0.141750</td>\n",
       "      <td>0.188673</td>\n",
       "      <td>0.063800</td>\n",
       "      <td>0.110724</td>\n",
       "    </tr>\n",
       "    <tr>\n",
       "      <th>1</th>\n",
       "      <td>159231.0</td>\n",
       "      <td>0.079767</td>\n",
       "      <td>0.128937</td>\n",
       "      <td>0.173096</td>\n",
       "      <td>0.049170</td>\n",
       "      <td>0.093329</td>\n",
       "    </tr>\n",
       "    <tr>\n",
       "      <th>2</th>\n",
       "      <td>159232.0</td>\n",
       "      <td>0.095146</td>\n",
       "      <td>0.151842</td>\n",
       "      <td>0.198710</td>\n",
       "      <td>0.056696</td>\n",
       "      <td>0.103564</td>\n",
       "    </tr>\n",
       "    <tr>\n",
       "      <th>3</th>\n",
       "      <td>159233.0</td>\n",
       "      <td>0.138749</td>\n",
       "      <td>0.158245</td>\n",
       "      <td>0.199029</td>\n",
       "      <td>0.019496</td>\n",
       "      <td>0.060280</td>\n",
       "    </tr>\n",
       "    <tr>\n",
       "      <th>4</th>\n",
       "      <td>159234.0</td>\n",
       "      <td>0.212962</td>\n",
       "      <td>0.201934</td>\n",
       "      <td>0.235828</td>\n",
       "      <td>-0.011028</td>\n",
       "      <td>0.022866</td>\n",
       "    </tr>\n",
       "  </tbody>\n",
       "</table>\n",
       "</div>"
      ],
      "text/plain": [
       "    grid_id  historic_mean  ssp245_mean  ssp585_mean  delta245_mean  \\\n",
       "0  159230.0       0.077949     0.141750     0.188673       0.063800   \n",
       "1  159231.0       0.079767     0.128937     0.173096       0.049170   \n",
       "2  159232.0       0.095146     0.151842     0.198710       0.056696   \n",
       "3  159233.0       0.138749     0.158245     0.199029       0.019496   \n",
       "4  159234.0       0.212962     0.201934     0.235828      -0.011028   \n",
       "\n",
       "   delta585_mean  \n",
       "0       0.110724  \n",
       "1       0.093329  \n",
       "2       0.103564  \n",
       "3       0.060280  \n",
       "4       0.022866  "
      ]
     },
     "execution_count": 6,
     "metadata": {},
     "output_type": "execute_result"
    }
   ],
   "source": [
    "# calculate band statistics\n",
    "# mean, standard deviation, percentiles\n",
    "\n",
    "# create a list of rasters to calculate zonal stats\n",
    "das = {\n",
    "    'historic': hist_da, # historic (1981-2010) suitability\n",
    "    'ssp245': ssp245_da, # raw suitability SSP245 2041-2070\n",
    "    'ssp585': ssp585_da, # raw suitability SSP585 2041-2070\n",
    "    'delta245': change_SSP245, # change SSP245 2041-2070\n",
    "    'delta585': change_SSP585 # change SSP585 2041-2070\n",
    "}\n",
    "\n",
    "results = []\n",
    "for key, da in das.items():\n",
    "    print(f\"Processing: {key}\")\n",
    "    # ensure the correct projection\n",
    "    da_ = da.rio.reproject(proj) # matches grid\n",
    "    # calculate zonal statistics\n",
    "    zs = compute_band_stats(\n",
    "        geoms=future_fire, \n",
    "        image_da=da_, \n",
    "        id_col='grid_id', \n",
    "        stats=['mean'], # 'median','std','percentile_90'\n",
    "        attr=key,\n",
    "        ztype='continuous'\n",
    "    )\n",
    "    results.append(zs)\n",
    "\n",
    "# concatenate the results\n",
    "future_aspen = pd.concat([df.set_index(\"grid_id\") for df in results], axis=1).reset_index()\n",
    "future_aspen.head()"
   ]
  },
  {
   "cell_type": "code",
   "execution_count": 7,
   "id": "3e479e97-1cd6-4af5-a592-843ed4d63df4",
   "metadata": {},
   "outputs": [
    {
     "name": "stdout",
     "output_type": "stream",
     "text": [
      "Saved to: \n",
      "/Users/max/Library/CloudStorage/OneDrive-Personal/mcook/aspen-fire/Aim3/data/spatial/mod/future_fire_grid_trend_aspen.gpkg\n"
     ]
    }
   ],
   "source": [
    "# rename the columns\n",
    "future_aspen = future_aspen.rename(\n",
    "    columns={\n",
    "        'historic_mean': 'historic',\n",
    "        'ssp245_mean': 'ssp245',\n",
    "        'ssp585_mean': 'ssp585',\n",
    "        'delta245_mean': 'delta245',\n",
    "        'delta585_mean': 'delta585'\n",
    "    }\n",
    ")\n",
    "\n",
    "# join to the fire dataframe\n",
    "fire_fa = pd.merge(future_fire, future_aspen, on=\"grid_id\", how=\"left\")\n",
    "fire_fa.head()\n",
    "\n",
    "# save this file out\n",
    "out_fp = os.path.join(projdir, 'Aim3/data/spatial/mod/future_fire_grid_trend_aspen.gpkg')\n",
    "fire_fa.to_file(out_fp)\n",
    "print(f\"Saved to: \\n{out_fp}\")"
   ]
  },
  {
   "cell_type": "code",
   "execution_count": 8,
   "id": "4eeb31cb-c96c-48ba-8822-8cf961ec5e61",
   "metadata": {},
   "outputs": [
    {
     "data": {
      "text/plain": [
       "133"
      ]
     },
     "execution_count": 8,
     "metadata": {},
     "output_type": "execute_result"
    }
   ],
   "source": [
    "# tidy up\n",
    "del das, results, zs, hist_da, ssp245_da, ssp585_da, change_SSP245, change_SSP585, future_aspen\n",
    "gc.collect()"
   ]
  },
  {
   "cell_type": "code",
   "execution_count": null,
   "id": "7442b8ee-a42c-4743-9d73-c1a0a5acda03",
   "metadata": {},
   "outputs": [],
   "source": []
  },
  {
   "cell_type": "code",
   "execution_count": null,
   "id": "686830b0-9aae-4229-8e03-47090ff3495f",
   "metadata": {},
   "outputs": [],
   "source": []
  },
  {
   "cell_type": "code",
   "execution_count": null,
   "id": "86a29095-e26b-40c1-b105-557ddb1cf7d5",
   "metadata": {},
   "outputs": [],
   "source": []
  },
  {
   "cell_type": "markdown",
   "id": "cfd65dbb-afaa-437f-9df4-099855d27097",
   "metadata": {},
   "source": [
    "## Sentinel-based aspen cover (ca. 2019)\n",
    "\n",
    "From Cook et al. (2024), calculate the percent aspen canopy cover within gridcells. This should ideally be updated to 2023 ..."
   ]
  },
  {
   "cell_type": "code",
   "execution_count": 9,
   "id": "847864b2-88a7-433b-a1ae-32cbda743729",
   "metadata": {},
   "outputs": [
    {
     "name": "stdout",
     "output_type": "stream",
     "text": [
      "\n",
      "<xarray.DataArray (y: 95433, x: 64151)> Size: 6GB\n",
      "dask.array<getitem, shape=(95433, 64151), dtype=uint8, chunksize=(2092, 64151), chunktype=numpy.ndarray>\n",
      "Coordinates:\n",
      "    band         int64 8B 1\n",
      "  * x            (x) float64 513kB -1.217e+06 -1.217e+06 ... -5.76e+05 -5.76e+05\n",
      "  * y            (y) float64 763kB 2.309e+06 2.309e+06 ... 1.355e+06 1.355e+06\n",
      "    spatial_ref  int64 8B 0\n",
      "Attributes:\n",
      "    AREA_OR_POINT:             Area\n",
      "    STATISTICS_APPROXIMATE:    YES\n",
      "    STATISTICS_MAXIMUM:        1\n",
      "    STATISTICS_MEAN:           0.015830995519141\n",
      "    STATISTICS_MINIMUM:        0\n",
      "    STATISTICS_STDDEV:         0.1248213727693\n",
      "    STATISTICS_VALID_PERCENT:  100\n",
      "    _FillValue:                255\n",
      "    scale_factor:              1.0\n",
      "    add_offset:                0.0\n",
      "\n",
      "EPSG:5070\n",
      "    grid_id  aspen10  count  total_pixels  pct_cover\n",
      "1  159230.0        1      8        146335   0.005467\n",
      "3  159231.0        1     23        146342   0.015717\n",
      "5  159232.0        1    764        146346   0.522050\n",
      "7  159233.0        1    100        146336   0.068336\n",
      "9  159234.0        1    369        146336   0.252159\n",
      "\n",
      "Total elapsed time: 0.50 minutes.\n",
      "\n",
      "\n",
      "~~~~~~~~~~\n",
      "\n"
     ]
    }
   ],
   "source": [
    "t0 = time.time()\n",
    "\n",
    "# load the 10-m aspen map (classification)\n",
    "aspen10_fp = os.path.join(projdir,'Aim1/data/spatial/mod/results/classification/s2aspen_distribution_10m_y2019_CookEtAl.tif')\n",
    "aspen10 = rxr.open_rasterio(aspen10_fp, cache=False, chunks='auto', mask=True).squeeze()\n",
    "print(f\"\\n{aspen10}\\n\")\n",
    "print(aspen10.rio.crs)\n",
    "\n",
    "# calculate zonal statistics\n",
    "aspen10_grids = compute_band_stats(\n",
    "    geoms=future_fire, \n",
    "    image_da=aspen10, \n",
    "    id_col='grid_id', \n",
    "    attr='aspen10',\n",
    "    ztype='categorical'\n",
    ")\n",
    "\n",
    "# only keep the count of aspen pixels\n",
    "aspen10_grids = aspen10_grids[aspen10_grids['aspen10'] == 1]\n",
    "# check the results\n",
    "print(aspen10_grids.head())\n",
    "\n",
    "t1 = (time.time() - t0) / 60\n",
    "print(f\"\\nTotal elapsed time: {t1:.2f} minutes.\\n\")\n",
    "print(\"\\n~~~~~~~~~~\\n\")"
   ]
  },
  {
   "cell_type": "code",
   "execution_count": 10,
   "id": "7e85a50a-8847-4e6d-a840-095c7a11dc1f",
   "metadata": {},
   "outputs": [
    {
     "data": {
      "text/plain": [
       "count    9212.000000\n",
       "mean        6.760243\n",
       "std        11.574808\n",
       "min         0.000617\n",
       "25%         0.204016\n",
       "50%         1.432681\n",
       "75%         7.450748\n",
       "max        80.162397\n",
       "Name: pct_cover, dtype: float64"
      ]
     },
     "execution_count": 10,
     "metadata": {},
     "output_type": "execute_result"
    }
   ],
   "source": [
    "aspen10_grids['pct_cover'].describe()"
   ]
  },
  {
   "cell_type": "code",
   "execution_count": 11,
   "id": "25b7a887-bab2-4d33-a335-2bce77dbaf88",
   "metadata": {},
   "outputs": [
    {
     "data": {
      "text/plain": [
       "Index(['grid_id', 'trend_area', 'trend_count', 'p_area', 'p_count',\n",
       "       'NA_L3NAME', 'US_L4NAME', 'US_L4CODE', 'geometry', 'historic', 'ssp245',\n",
       "       'ssp585', 'delta245', 'delta585', 'aspen10_pct', 'aspen10_pixn'],\n",
       "      dtype='object')"
      ]
     },
     "execution_count": 11,
     "metadata": {},
     "output_type": "execute_result"
    }
   ],
   "source": [
    "# rename for clarity\n",
    "aspen10_grids.rename(columns={\n",
    "    'pct_cover': 'aspen10_pct',\n",
    "    'count': 'aspen10_pixn'\n",
    "}, inplace=True)\n",
    "\n",
    "# merge back to the main grid data\n",
    "fire_fa_ = pd.merge(fire_fa, aspen10_grids[['grid_id','aspen10_pct','aspen10_pixn']], on='grid_id')\n",
    "fire_fa_.columns"
   ]
  },
  {
   "cell_type": "code",
   "execution_count": 12,
   "id": "6b6d5c9c-4dd6-4bd7-a399-9cdb1992401d",
   "metadata": {},
   "outputs": [
    {
     "data": {
      "text/plain": [
       "441"
      ]
     },
     "execution_count": 12,
     "metadata": {},
     "output_type": "execute_result"
    }
   ],
   "source": [
    "del aspen10, aspen10_grids, fire_fa\n",
    "gc.collect() # free memory"
   ]
  },
  {
   "cell_type": "code",
   "execution_count": null,
   "id": "72fb2d80-1922-462c-969e-1b5cf0a6134d",
   "metadata": {},
   "outputs": [],
   "source": []
  },
  {
   "cell_type": "code",
   "execution_count": null,
   "id": "50f047fd-83ec-4c92-b05a-826ad923e6cd",
   "metadata": {},
   "outputs": [],
   "source": []
  },
  {
   "cell_type": "code",
   "execution_count": null,
   "id": "cf846306-5cd8-432c-a863-66be82c8feaf",
   "metadata": {},
   "outputs": [],
   "source": []
  },
  {
   "cell_type": "markdown",
   "id": "f253c400-a855-48e3-b902-d81d3696791a",
   "metadata": {},
   "source": [
    "## Built Environment Summaries\n",
    "\n",
    "COMBUST, Microsoft Building Footprints, WorldPop population density/counts, and WUI classification (10-m)"
   ]
  },
  {
   "cell_type": "code",
   "execution_count": 13,
   "id": "82fc9a14-597e-4bb0-a621-7f8d666327fa",
   "metadata": {},
   "outputs": [
    {
     "name": "stdout",
     "output_type": "stream",
     "text": [
      "Processing: combust\n",
      "Processing: msbf_count\n",
      "Processing: pop_density\n",
      "Processing: pop_count\n"
     ]
    },
    {
     "data": {
      "text/html": [
       "<div>\n",
       "<style scoped>\n",
       "    .dataframe tbody tr th:only-of-type {\n",
       "        vertical-align: middle;\n",
       "    }\n",
       "\n",
       "    .dataframe tbody tr th {\n",
       "        vertical-align: top;\n",
       "    }\n",
       "\n",
       "    .dataframe thead th {\n",
       "        text-align: right;\n",
       "    }\n",
       "</style>\n",
       "<table border=\"1\" class=\"dataframe\">\n",
       "  <thead>\n",
       "    <tr style=\"text-align: right;\">\n",
       "      <th></th>\n",
       "      <th>grid_id</th>\n",
       "      <th>combust_sum</th>\n",
       "      <th>msbf_count_sum</th>\n",
       "      <th>pop_density_mean</th>\n",
       "      <th>pop_count_sum</th>\n",
       "    </tr>\n",
       "  </thead>\n",
       "  <tbody>\n",
       "    <tr>\n",
       "      <th>0</th>\n",
       "      <td>159230.0</td>\n",
       "      <td>866.741028</td>\n",
       "      <td>40.0</td>\n",
       "      <td>1.012462</td>\n",
       "      <td>NaN</td>\n",
       "    </tr>\n",
       "    <tr>\n",
       "      <th>1</th>\n",
       "      <td>159231.0</td>\n",
       "      <td>2105.277588</td>\n",
       "      <td>84.0</td>\n",
       "      <td>5.431233</td>\n",
       "      <td>21.508411</td>\n",
       "    </tr>\n",
       "    <tr>\n",
       "      <th>2</th>\n",
       "      <td>159232.0</td>\n",
       "      <td>6195.236816</td>\n",
       "      <td>247.0</td>\n",
       "      <td>16.635210</td>\n",
       "      <td>193.112381</td>\n",
       "    </tr>\n",
       "    <tr>\n",
       "      <th>3</th>\n",
       "      <td>159233.0</td>\n",
       "      <td>1774.940186</td>\n",
       "      <td>96.0</td>\n",
       "      <td>4.073417</td>\n",
       "      <td>NaN</td>\n",
       "    </tr>\n",
       "    <tr>\n",
       "      <th>4</th>\n",
       "      <td>159234.0</td>\n",
       "      <td>3126.656250</td>\n",
       "      <td>141.0</td>\n",
       "      <td>8.421898</td>\n",
       "      <td>NaN</td>\n",
       "    </tr>\n",
       "  </tbody>\n",
       "</table>\n",
       "</div>"
      ],
      "text/plain": [
       "    grid_id  combust_sum  msbf_count_sum  pop_density_mean  pop_count_sum\n",
       "0  159230.0   866.741028            40.0          1.012462            NaN\n",
       "1  159231.0  2105.277588            84.0          5.431233      21.508411\n",
       "2  159232.0  6195.236816           247.0         16.635210     193.112381\n",
       "3  159233.0  1774.940186            96.0          4.073417            NaN\n",
       "4  159234.0  3126.656250           141.0          8.421898            NaN"
      ]
     },
     "execution_count": 13,
     "metadata": {},
     "output_type": "execute_result"
    }
   ],
   "source": [
    "# Contemporary COMBUST grid (combustible mass of the built environment)\n",
    "combust_fp = os.path.join(projdir,'Aim3/data/spatial/raw/COMBUST/combustible_building_mass_t_2020_mean.tif')\n",
    "# Miscrosoft building footprint counts (same grid as COMBUST)\n",
    "msbf_fp = os.path.join(maindir,'earth-lab/opp-urban-fuels/data/spatial/mod/Microsoft/msbf_counts.tif')\n",
    "# WorldPop population density estimates\n",
    "wp_density_fp = os.path.join(projdir,'Aim3/data/spatial/raw/WorldPop/usa_pd_2020_1km.tif')\n",
    "wp_count_fp = os.path.join(projdir,'Aim3/data/spatial/raw/WorldPop/srm_ppp_2020_constrained.tif')\n",
    "\n",
    "# put the continuous rasters in a dictionary to calculate zonal stats\n",
    "das = {\n",
    "    'combust': combust_fp,\n",
    "    'msbf_count': msbf_fp,\n",
    "    'pop_density': wp_density_fp,\n",
    "    'pop_count': wp_count_fp,\n",
    "}\n",
    "\n",
    "results = []\n",
    "# map the dictionary, calculate zonal stats\n",
    "for key, fp in das.items():\n",
    "    print(f\"Processing: {key}\")\n",
    "    # process the raster grid\n",
    "    da = rxr.open_rasterio(fp, masked=True, cache=False).squeeze()\n",
    "    da = da.rio.reproject(proj) # ensure matching projection\n",
    "    if key == 'pop_density':\n",
    "        stat = ['mean']\n",
    "    else:\n",
    "        stat = ['sum']\n",
    "    # calculate zonal statistics\n",
    "    zs = compute_band_stats(\n",
    "        geoms=future_fire, \n",
    "        image_da=da, \n",
    "        id_col='grid_id', \n",
    "        stats=stat, \n",
    "        attr=key,\n",
    "        ztype='continuous'\n",
    "    )\n",
    "    results.append(zs)\n",
    "    del da, zs\n",
    "    \n",
    "# concatenate the results\n",
    "built_env_pop = pd.concat([df.set_index(\"grid_id\") for df in results], axis=1).reset_index()\n",
    "built_env_pop.head()"
   ]
  },
  {
   "cell_type": "markdown",
   "id": "2d82aafe-8922-46e2-9d21-b07db48eaad1",
   "metadata": {},
   "source": [
    "### Wildland Urban Interface/Intermix (SILVIS)"
   ]
  },
  {
   "cell_type": "code",
   "execution_count": 14,
   "id": "2fe64df9-07c4-44bf-8a28-2949e8a408a9",
   "metadata": {},
   "outputs": [
    {
     "data": {
      "text/html": [
       "<div>\n",
       "<style scoped>\n",
       "    .dataframe tbody tr th:only-of-type {\n",
       "        vertical-align: middle;\n",
       "    }\n",
       "\n",
       "    .dataframe tbody tr th {\n",
       "        vertical-align: top;\n",
       "    }\n",
       "\n",
       "    .dataframe thead th {\n",
       "        text-align: right;\n",
       "    }\n",
       "</style>\n",
       "<table border=\"1\" class=\"dataframe\">\n",
       "  <thead>\n",
       "    <tr style=\"text-align: right;\">\n",
       "      <th></th>\n",
       "      <th>grid_id</th>\n",
       "      <th>wui1</th>\n",
       "      <th>wui2</th>\n",
       "      <th>wui3</th>\n",
       "      <th>wui4</th>\n",
       "      <th>wui_dist_mean</th>\n",
       "    </tr>\n",
       "  </thead>\n",
       "  <tbody>\n",
       "    <tr>\n",
       "      <th>0</th>\n",
       "      <td>159230.0</td>\n",
       "      <td>0.0</td>\n",
       "      <td>0.0</td>\n",
       "      <td>6.532839</td>\n",
       "      <td>0.029470</td>\n",
       "      <td>1038.492751</td>\n",
       "    </tr>\n",
       "    <tr>\n",
       "      <th>1</th>\n",
       "      <td>159231.0</td>\n",
       "      <td>0.0</td>\n",
       "      <td>0.0</td>\n",
       "      <td>15.458371</td>\n",
       "      <td>0.006854</td>\n",
       "      <td>636.598957</td>\n",
       "    </tr>\n",
       "    <tr>\n",
       "      <th>2</th>\n",
       "      <td>159232.0</td>\n",
       "      <td>0.0</td>\n",
       "      <td>0.0</td>\n",
       "      <td>35.265412</td>\n",
       "      <td>0.000000</td>\n",
       "      <td>308.430041</td>\n",
       "    </tr>\n",
       "    <tr>\n",
       "      <th>3</th>\n",
       "      <td>159233.0</td>\n",
       "      <td>0.0</td>\n",
       "      <td>0.0</td>\n",
       "      <td>11.896978</td>\n",
       "      <td>0.000000</td>\n",
       "      <td>721.659559</td>\n",
       "    </tr>\n",
       "    <tr>\n",
       "      <th>4</th>\n",
       "      <td>159234.0</td>\n",
       "      <td>0.0</td>\n",
       "      <td>0.0</td>\n",
       "      <td>12.335940</td>\n",
       "      <td>0.000000</td>\n",
       "      <td>1341.741558</td>\n",
       "    </tr>\n",
       "  </tbody>\n",
       "</table>\n",
       "</div>"
      ],
      "text/plain": [
       "    grid_id  wui1  wui2       wui3      wui4  wui_dist_mean\n",
       "0  159230.0   0.0   0.0   6.532839  0.029470    1038.492751\n",
       "1  159231.0   0.0   0.0  15.458371  0.006854     636.598957\n",
       "2  159232.0   0.0   0.0  35.265412  0.000000     308.430041\n",
       "3  159233.0   0.0   0.0  11.896978  0.000000     721.659559\n",
       "4  159234.0   0.0   0.0  12.335940  0.000000    1341.741558"
      ]
     },
     "execution_count": 14,
     "metadata": {},
     "output_type": "execute_result"
    }
   ],
   "source": [
    "# load the results from \"wui-summary.ipynb\"\n",
    "fp = os.path.join(projdir, 'Aim3/data/tabular/srm_wui_grid_stats.csv')\n",
    "wui = pd.read_csv(fp)\n",
    "wui.drop(columns=['Unnamed: 0'], inplace=True)\n",
    "wui.head()"
   ]
  },
  {
   "cell_type": "code",
   "execution_count": 15,
   "id": "f8f11fee-79b2-4d59-9780-4ec2040ee86c",
   "metadata": {},
   "outputs": [
    {
     "data": {
      "text/plain": [
       "Index(['grid_id', 'combust_sum', 'msbf_count_sum', 'pop_density_mean',\n",
       "       'pop_count_sum', 'wui1', 'wui2', 'wui3', 'wui4', 'wui_dist_mean'],\n",
       "      dtype='object')"
      ]
     },
     "execution_count": 15,
     "metadata": {},
     "output_type": "execute_result"
    }
   ],
   "source": [
    "# merge the built environment stats with the wui stats\n",
    "wui_bltenv = pd.merge(built_env_pop, wui, on='grid_id', how='left')\n",
    "wui_bltenv.columns"
   ]
  },
  {
   "cell_type": "code",
   "execution_count": 16,
   "id": "4e0aec8e-b5f9-4754-906b-155badfa943f",
   "metadata": {},
   "outputs": [
    {
     "data": {
      "text/plain": [
       "Index(['grid_id', 'trend_area', 'trend_count', 'p_area', 'p_count',\n",
       "       'NA_L3NAME', 'US_L4NAME', 'US_L4CODE', 'geometry', 'historic', 'ssp245',\n",
       "       'ssp585', 'delta245', 'delta585', 'aspen10_pct', 'aspen10_pixn',\n",
       "       'combust_sum', 'msbf_count_sum', 'pop_density_mean', 'pop_count_sum',\n",
       "       'wui1', 'wui2', 'wui3', 'wui4', 'wui_dist_mean'],\n",
       "      dtype='object')"
      ]
     },
     "execution_count": 16,
     "metadata": {},
     "output_type": "execute_result"
    }
   ],
   "source": [
    "# merge to the future fire grid\n",
    "fire_fa_bltenv = pd.merge(fire_fa_, wui_bltenv, on='grid_id', how='left')\n",
    "fire_fa_bltenv.columns"
   ]
  },
  {
   "cell_type": "code",
   "execution_count": null,
   "id": "24d48ca6-bf99-4300-b1b0-28853d3e2311",
   "metadata": {},
   "outputs": [],
   "source": []
  },
  {
   "cell_type": "code",
   "execution_count": null,
   "id": "65503c25-4392-4039-a39b-3cf51719842f",
   "metadata": {},
   "outputs": [],
   "source": []
  },
  {
   "cell_type": "code",
   "execution_count": null,
   "id": "a3468f3d-96c8-4823-94ee-4e23041a110d",
   "metadata": {},
   "outputs": [],
   "source": []
  },
  {
   "cell_type": "markdown",
   "id": "37a6d2ea-3640-4b75-97cd-564bcc9b3b7b",
   "metadata": {},
   "source": [
    "## Contemporary Fire Activity and Fire Risk "
   ]
  },
  {
   "cell_type": "markdown",
   "id": "d251caee-23c9-4f86-a31d-7d3f13a9e194",
   "metadata": {},
   "source": [
    "### Ignition Causes"
   ]
  },
  {
   "cell_type": "code",
   "execution_count": 17,
   "id": "52a13e8e-8d99-4e2a-aa6d-1868abf43d96",
   "metadata": {},
   "outputs": [
    {
     "data": {
      "text/plain": [
       "Index(['OBJECTID', 'FOD_ID', 'FPA_ID', 'SOURCE_SYSTEM_TYPE', 'SOURCE_SYSTEM',\n",
       "       'NWCG_REPORTING_AGENCY', 'NWCG_REPORTING_UNIT_ID',\n",
       "       'NWCG_REPORTING_UNIT_NAME', 'SOURCE_REPORTING_UNIT',\n",
       "       'SOURCE_REPORTING_UNIT_NAME', 'LOCAL_FIRE_REPORT_ID',\n",
       "       'LOCAL_INCIDENT_ID', 'FIRE_CODE', 'FIRE_NAME',\n",
       "       'ICS_209_PLUS_INCIDENT_JOIN_ID', 'ICS_209_PLUS_COMPLEX_JOIN_ID',\n",
       "       'MTBS_ID', 'MTBS_FIRE_NAME', 'COMPLEX_NAME', 'FIRE_YEAR',\n",
       "       'DISCOVERY_DATE', 'DISCOVERY_DOY', 'DISCOVERY_TIME',\n",
       "       'NWCG_CAUSE_CLASSIFICATION', 'NWCG_GENERAL_CAUSE',\n",
       "       'NWCG_CAUSE_AGE_CATEGORY', 'CONT_DATE', 'CONT_DOY', 'CONT_TIME',\n",
       "       'FIRE_SIZE', 'FIRE_SIZE_CLASS', 'LATITUDE', 'LONGITUDE', 'OWNER_DESCR',\n",
       "       'STATE', 'COUNTY', 'FIPS_CODE', 'FIPS_NAME', 'geometry'],\n",
       "      dtype='object')"
      ]
     },
     "execution_count": 17,
     "metadata": {},
     "output_type": "execute_result"
    }
   ],
   "source": [
    "# load the fpa-fod ignitions data and get the total count\n",
    "fpa_fp = os.path.join(projdir,'Aim3/data/spatial/mod/fire/srm_fpa_fod.gpkg')\n",
    "fpa = gpd.read_file(fpa_fp)\n",
    "fpa.columns"
   ]
  },
  {
   "cell_type": "code",
   "execution_count": 18,
   "id": "0dea7fb8-6de4-4fba-ba3b-92adbb507d58",
   "metadata": {},
   "outputs": [
    {
     "name": "stdout",
     "output_type": "stream",
     "text": [
      "1992\n",
      "2020\n"
     ]
    }
   ],
   "source": [
    "print(fpa['FIRE_YEAR'].min())\n",
    "print(fpa['FIRE_YEAR'].max())"
   ]
  },
  {
   "cell_type": "code",
   "execution_count": 19,
   "id": "d9740833-d705-44bf-88f7-22df966b007d",
   "metadata": {},
   "outputs": [],
   "source": [
    "# load the ICS (for 2021-2023)\n"
   ]
  },
  {
   "cell_type": "code",
   "execution_count": 20,
   "id": "d4aa3eb7-06c8-4b7f-9c6f-907fd9474535",
   "metadata": {},
   "outputs": [
    {
     "data": {
      "text/plain": [
       "array(['Natural', 'Human', 'Missing data/not specified/undetermined'],\n",
       "      dtype=object)"
      ]
     },
     "execution_count": 20,
     "metadata": {},
     "output_type": "execute_result"
    }
   ],
   "source": [
    "fpa['NWCG_CAUSE_CLASSIFICATION'].unique()"
   ]
  },
  {
   "cell_type": "code",
   "execution_count": 21,
   "id": "3cc839a2-ef31-4e7f-96f6-05f3f43b09ee",
   "metadata": {},
   "outputs": [
    {
     "data": {
      "text/html": [
       "<div>\n",
       "<style scoped>\n",
       "    .dataframe tbody tr th:only-of-type {\n",
       "        vertical-align: middle;\n",
       "    }\n",
       "\n",
       "    .dataframe tbody tr th {\n",
       "        vertical-align: top;\n",
       "    }\n",
       "\n",
       "    .dataframe thead th {\n",
       "        text-align: right;\n",
       "    }\n",
       "</style>\n",
       "<table border=\"1\" class=\"dataframe\">\n",
       "  <thead>\n",
       "    <tr style=\"text-align: right;\">\n",
       "      <th></th>\n",
       "      <th>cause</th>\n",
       "      <th>area_burned</th>\n",
       "      <th>fire_count</th>\n",
       "    </tr>\n",
       "  </thead>\n",
       "  <tbody>\n",
       "    <tr>\n",
       "      <th>0</th>\n",
       "      <td>Human</td>\n",
       "      <td>1605750.430</td>\n",
       "      <td>12215</td>\n",
       "    </tr>\n",
       "    <tr>\n",
       "      <th>1</th>\n",
       "      <td>Undetermined</td>\n",
       "      <td>276192.421</td>\n",
       "      <td>2659</td>\n",
       "    </tr>\n",
       "    <tr>\n",
       "      <th>2</th>\n",
       "      <td>Natural</td>\n",
       "      <td>1161911.098</td>\n",
       "      <td>16039</td>\n",
       "    </tr>\n",
       "  </tbody>\n",
       "</table>\n",
       "</div>"
      ],
      "text/plain": [
       "          cause  area_burned  fire_count\n",
       "0         Human  1605750.430       12215\n",
       "1  Undetermined   276192.421        2659\n",
       "2       Natural  1161911.098       16039"
      ]
     },
     "execution_count": 21,
     "metadata": {},
     "output_type": "execute_result"
    }
   ],
   "source": [
    "# calculate the area burned by ignition cause\n",
    "cause_burned = (\n",
    "    fpa.groupby('NWCG_CAUSE_CLASSIFICATION', as_index=False)\n",
    "    .agg(\n",
    "        area_burned=('FIRE_SIZE','sum'),\n",
    "        fire_count=('OBJECTID', 'count')   \n",
    "    )\n",
    ")\n",
    "# rename the cause column\n",
    "cause_burned.rename(columns={'NWCG_CAUSE_CLASSIFICATION': 'cause'}, inplace=True)\n",
    "# replace the undetermined code\n",
    "cause_burned['cause'] = cause_burned['cause'].replace(\n",
    "    \"Missing data/not specified/undetermined\", \"Undetermined\"\n",
    ")\n",
    "# check the results\n",
    "cause_burned.head()"
   ]
  },
  {
   "cell_type": "code",
   "execution_count": 22,
   "id": "1df03432-c7b6-4761-9b86-51a2d0e15699",
   "metadata": {},
   "outputs": [
    {
     "data": {
      "image/png": "[encoded data removed]",
      "text/plain": [
       "<Figure size 800x400 with 2 Axes>"
      ]
     },
     "metadata": {},
     "output_type": "display_data"
    }
   ],
   "source": [
    "# Define labels and values for both metrics\n",
    "labels = cause_burned['cause']\n",
    "sizes_area = cause_burned['area_burned']\n",
    "sizes_count = cause_burned['fire_count']\n",
    "\n",
    "# define color mapping\n",
    "color_map = {\n",
    "    \"Human\": \"#B22222\",        \n",
    "    \"Natural\": \"#377EB8\",      \n",
    "    \"Undetermined\": \"#B3B3B3\"  \n",
    "}\n",
    "# map the colors\n",
    "colors = [color_map.get(cause, \"#CCCCCC\") for cause in cause_burned[\"cause\"]]\n",
    "\n",
    "# Create subplots for two pie charts\n",
    "fig, axes = plt.subplots(1, 2, figsize=(8, 4))\n",
    "\n",
    "axes[0].pie(sizes_area, labels=labels, autopct='%1.1f%%', startangle=140, colors=colors)\n",
    "axes[0].text(-1.3, 1.1, \"A\", fontsize=11, fontweight=\"bold\")  # Add subplot label \"A\"\n",
    "axes[1].pie(sizes_count, labels=labels, autopct='%1.1f%%', startangle=140, colors=colors)\n",
    "axes[1].text(-1.3, 1.1, \"B\", fontsize=11, fontweight=\"bold\")  # Add subplot label \"B\"\n",
    "\n",
    "# Show plot\n",
    "plt.tight_layout()\n",
    "\n",
    "plt.savefig(os.path.join(projdir, 'Aim3/figures/FPA-FOD_cause_pie.png'), dpi=300, bbox_inches='tight')\n",
    "\n",
    "plt.show()"
   ]
  },
  {
   "cell_type": "code",
   "execution_count": 23,
   "id": "21ad5419-59f5-458f-98dd-d5f2e8c32ebf",
   "metadata": {},
   "outputs": [],
   "source": [
    "del fpa"
   ]
  },
  {
   "cell_type": "markdown",
   "id": "ce62bdff-f535-4654-af6d-2b9357093fb4",
   "metadata": {},
   "source": [
    "### Burned Area"
   ]
  },
  {
   "cell_type": "code",
   "execution_count": 24,
   "id": "c94d31d6-144d-427f-85d3-9a914621e2b0",
   "metadata": {},
   "outputs": [
    {
     "data": {
      "text/plain": [
       "Index(['Event_ID', 'irwinID', 'Incid_Name', 'Incid_Type', 'Map_ID', 'Map_Prog',\n",
       "       'Asmnt_Type', 'BurnBndAc', 'BurnBndLat', 'BurnBndLon', 'Ig_Date',\n",
       "       'Pre_ID', 'Post_ID', 'Perim_ID', 'dNBR_offst', 'dNBR_stdDv', 'NoData_T',\n",
       "       'IncGreen_T', 'Low_T', 'Mod_T', 'High_T', 'Comment', 'geometry'],\n",
       "      dtype='object')"
      ]
     },
     "execution_count": 24,
     "metadata": {},
     "output_type": "execute_result"
    }
   ],
   "source": [
    "# load burned area and calculate the cumulative area burned\n",
    "mtbs_fp = os.path.join(projdir,'Aim3/data/spatial/mod/fire/srm_mtbs_perims_dd.gpkg')\n",
    "mtbs = gpd.read_file(mtbs_fp)\n",
    "mtbs.columns"
   ]
  },
  {
   "cell_type": "code",
   "execution_count": 25,
   "id": "1f0f9a6c-d523-4afd-b155-6432071cb91a",
   "metadata": {},
   "outputs": [
    {
     "data": {
      "text/html": [
       "<div>\n",
       "<style scoped>\n",
       "    .dataframe tbody tr th:only-of-type {\n",
       "        vertical-align: middle;\n",
       "    }\n",
       "\n",
       "    .dataframe tbody tr th {\n",
       "        vertical-align: top;\n",
       "    }\n",
       "\n",
       "    .dataframe thead th {\n",
       "        text-align: right;\n",
       "    }\n",
       "</style>\n",
       "<table border=\"1\" class=\"dataframe\">\n",
       "  <thead>\n",
       "    <tr style=\"text-align: right;\">\n",
       "      <th></th>\n",
       "      <th>Ig_Date</th>\n",
       "      <th>Fire_Year</th>\n",
       "    </tr>\n",
       "  </thead>\n",
       "  <tbody>\n",
       "    <tr>\n",
       "      <th>0</th>\n",
       "      <td>1987-07-07</td>\n",
       "      <td>1987</td>\n",
       "    </tr>\n",
       "    <tr>\n",
       "      <th>1</th>\n",
       "      <td>1987-07-02</td>\n",
       "      <td>1987</td>\n",
       "    </tr>\n",
       "    <tr>\n",
       "      <th>2</th>\n",
       "      <td>1989-09-25</td>\n",
       "      <td>1989</td>\n",
       "    </tr>\n",
       "    <tr>\n",
       "      <th>3</th>\n",
       "      <td>1989-07-09</td>\n",
       "      <td>1989</td>\n",
       "    </tr>\n",
       "    <tr>\n",
       "      <th>4</th>\n",
       "      <td>1989-07-08</td>\n",
       "      <td>1989</td>\n",
       "    </tr>\n",
       "  </tbody>\n",
       "</table>\n",
       "</div>"
      ],
      "text/plain": [
       "     Ig_Date  Fire_Year\n",
       "0 1987-07-07       1987\n",
       "1 1987-07-02       1987\n",
       "2 1989-09-25       1989\n",
       "3 1989-07-09       1989\n",
       "4 1989-07-08       1989"
      ]
     },
     "execution_count": 25,
     "metadata": {},
     "output_type": "execute_result"
    }
   ],
   "source": [
    "mtbs['Ig_Date'] = pd.to_datetime(mtbs['Ig_Date'])\n",
    "mtbs['Fire_Year'] = mtbs['Ig_Date'].dt.year\n",
    "mtbs[['Ig_Date','Fire_Year']].head()"
   ]
  },
  {
   "cell_type": "code",
   "execution_count": 26,
   "id": "5d3e258c-6bd8-48c6-a88a-3c3c8857f7fb",
   "metadata": {},
   "outputs": [
    {
     "name": "stdout",
     "output_type": "stream",
     "text": [
      "1984\n",
      "2023\n"
     ]
    }
   ],
   "source": [
    "print(mtbs['Fire_Year'].min())\n",
    "print(mtbs['Fire_Year'].max())"
   ]
  },
  {
   "cell_type": "code",
   "execution_count": 27,
   "id": "88e6b6d7-814c-45e4-872e-f974df7f54d9",
   "metadata": {},
   "outputs": [
    {
     "data": {
      "image/png": "[encoded data removed]",
      "text/plain": [
       "<Figure size 700x300 with 1 Axes>"
      ]
     },
     "metadata": {},
     "output_type": "display_data"
    }
   ],
   "source": [
    "# plot the annual area burned\n",
    "burned_area = mtbs.groupby('Fire_Year')['BurnBndAc'].sum().reset_index()\n",
    "\n",
    "# Function to format colorbar labels with 'k' notation\n",
    "def format_ticks(value, _):\n",
    "    return f'{int(value / 1000)}k'\n",
    "\n",
    "formatter = FuncFormatter(format_ticks)\n",
    "\n",
    "# Plot the results\n",
    "plt.figure(figsize=(7, 3))\n",
    "plt.bar(burned_area['Fire_Year'], burned_area['BurnBndAc'], color='grey', edgecolor='black')\n",
    "plt.xlabel('Year', fontsize=10)\n",
    "plt.ylabel('Area Burned (acres)', fontsize=9)\n",
    "plt.xticks(burned_area['Fire_Year'], rotation=45, size=8)\n",
    "\n",
    "# Apply custom formatting to y-axis\n",
    "plt.gca().yaxis.set_major_formatter(formatter)\n",
    "# plt.ylim(10000, None)\n",
    "\n",
    "plt.grid(axis='y', linestyle='--', alpha=0.7)\n",
    "plt.tight_layout()\n",
    "\n",
    "plt.savefig(os.path.join(projdir, 'Aim3/figures/MTBS_annualBurnedArea.png'), dpi=300, bbox_inches='tight')\n",
    "\n",
    "plt.show()"
   ]
  },
  {
   "cell_type": "code",
   "execution_count": 28,
   "id": "8bd2acd9-1abf-4ca8-9494-11fad8944067",
   "metadata": {},
   "outputs": [
    {
     "data": {
      "text/plain": [
       "Index(['grid_id', 'trend_area', 'trend_count', 'p_area', 'p_count',\n",
       "       'NA_L3NAME', 'US_L4NAME', 'US_L4CODE', 'geometry_x', 'historic',\n",
       "       'ssp245', 'ssp585', 'delta245', 'delta585', 'aspen10_pct',\n",
       "       'aspen10_pixn', 'combust_sum', 'msbf_count_sum', 'pop_density_mean',\n",
       "       'pop_count_sum', 'wui1', 'wui2', 'wui3', 'wui4', 'wui_dist_mean',\n",
       "       'grid_area', 'geometry_y', 'burned_area_c', 'burned_pct_c'],\n",
       "      dtype='object')"
      ]
     },
     "execution_count": 28,
     "metadata": {},
     "output_type": "execute_result"
    }
   ],
   "source": [
    "# calculate the cumulative previous area burned\n",
    "mtbs = mtbs.to_crs(proj) # ensure the correct CRS\n",
    "mtbs_in_grid = gpd.overlay(mtbs, future_fire, how='intersection') # perform the overlay\n",
    "\n",
    "# get the cumulative burned area in each grid cell\n",
    "mtbs_in_grid['burned_area_c'] = mtbs_in_grid.geometry.area\n",
    "burned_area_c = mtbs_in_grid.groupby('grid_id', as_index=False)['burned_area_c'].sum()\n",
    "# calculate the cumulative percent burned\n",
    "# get the gridcell area\n",
    "df = future_fire.copy()\n",
    "df['grid_area'] = df.geometry.area\n",
    "\n",
    "# merge burned area summary back to grid cells\n",
    "burned_area_c = df[['grid_id','grid_area','geometry']].merge(burned_area_c, on='grid_id', how='left')\n",
    "# fill NaN values (for grid cells with no fire) with 0\n",
    "burned_area_c['burned_area_c'] = burned_area_c['burned_area_c'].fillna(0)\n",
    "# Compute percentage of each grid cell burned\n",
    "burned_area_c['burned_pct_c'] = (burned_area_c['burned_area_c'] / burned_area_c['grid_area']) * 100\n",
    "\n",
    "# merge back to the main grid data\n",
    "fire_fa_bltenv_ba = pd.merge(fire_fa_bltenv, burned_area_c, on='grid_id', how='left')\n",
    "fire_fa_bltenv_ba.columns"
   ]
  },
  {
   "cell_type": "code",
   "execution_count": 29,
   "id": "46ce0e70-0f34-4ad2-9be6-c60c628d9f5a",
   "metadata": {},
   "outputs": [
    {
     "data": {
      "text/plain": [
       "48"
      ]
     },
     "execution_count": 29,
     "metadata": {},
     "output_type": "execute_result"
    }
   ],
   "source": [
    "del mtbs, mtbs_in_grid, burned_area_c, fire_fa_bltenv, df\n",
    "gc.collect()"
   ]
  },
  {
   "cell_type": "markdown",
   "id": "d80bed2f-8276-4f87-87d8-d77989cd7afb",
   "metadata": {},
   "source": [
    "### Wildfire Hazard Potential (version 2023)"
   ]
  },
  {
   "cell_type": "code",
   "execution_count": 30,
   "id": "8b6677d8-8347-4456-84be-d314d9818e5e",
   "metadata": {},
   "outputs": [
    {
     "data": {
      "text/html": [
       "<div>\n",
       "<style scoped>\n",
       "    .dataframe tbody tr th:only-of-type {\n",
       "        vertical-align: middle;\n",
       "    }\n",
       "\n",
       "    .dataframe tbody tr th {\n",
       "        vertical-align: top;\n",
       "    }\n",
       "\n",
       "    .dataframe thead th {\n",
       "        text-align: right;\n",
       "    }\n",
       "</style>\n",
       "<table border=\"1\" class=\"dataframe\">\n",
       "  <thead>\n",
       "    <tr style=\"text-align: right;\">\n",
       "      <th></th>\n",
       "      <th>grid_id</th>\n",
       "      <th>whp_percentile_90</th>\n",
       "    </tr>\n",
       "  </thead>\n",
       "  <tbody>\n",
       "    <tr>\n",
       "      <th>0</th>\n",
       "      <td>159230.0</td>\n",
       "      <td>129.1</td>\n",
       "    </tr>\n",
       "    <tr>\n",
       "      <th>1</th>\n",
       "      <td>159231.0</td>\n",
       "      <td>245.0</td>\n",
       "    </tr>\n",
       "    <tr>\n",
       "      <th>2</th>\n",
       "      <td>159232.0</td>\n",
       "      <td>263.8</td>\n",
       "    </tr>\n",
       "    <tr>\n",
       "      <th>3</th>\n",
       "      <td>159233.0</td>\n",
       "      <td>395.6</td>\n",
       "    </tr>\n",
       "    <tr>\n",
       "      <th>4</th>\n",
       "      <td>159234.0</td>\n",
       "      <td>424.2</td>\n",
       "    </tr>\n",
       "  </tbody>\n",
       "</table>\n",
       "</div>"
      ],
      "text/plain": [
       "    grid_id  whp_percentile_90\n",
       "0  159230.0              129.1\n",
       "1  159231.0              245.0\n",
       "2  159232.0              263.8\n",
       "3  159233.0              395.6\n",
       "4  159234.0              424.2"
      ]
     },
     "execution_count": 30,
     "metadata": {},
     "output_type": "execute_result"
    }
   ],
   "source": [
    "# load the wildfire hazard potential\n",
    "fp = os.path.join(projdir,'Aim3/data/spatial/raw/fsim/Data/whp2023_GeoTIF/whp2023_cnt_conus.tif')\n",
    "whp = rxr.open_rasterio(fp, masked=True, chunks='auto').squeeze()\n",
    "whp = whp.rio.reproject(proj) # matches grid\n",
    "# calculate the zonal stats\n",
    "whp_zs = compute_band_stats(\n",
    "    geoms=future_fire, \n",
    "    image_da=whp, \n",
    "    id_col='grid_id', \n",
    "    stats=['percentile_90'], # 'median','std','percentile_90'\n",
    "    attr='whp',\n",
    "    ztype='continuous'\n",
    ")\n",
    "whp_zs.head()"
   ]
  },
  {
   "cell_type": "code",
   "execution_count": 31,
   "id": "75e03b11-3330-4cf4-a5a1-58bbc0c55509",
   "metadata": {},
   "outputs": [
    {
     "data": {
      "text/plain": [
       "Index(['grid_id', 'trend_area', 'trend_count', 'p_area', 'p_count',\n",
       "       'NA_L3NAME', 'US_L4NAME', 'US_L4CODE', 'geometry_x', 'historic',\n",
       "       'ssp245', 'ssp585', 'delta245', 'delta585', 'aspen10_pct',\n",
       "       'aspen10_pixn', 'combust_sum', 'msbf_count_sum', 'pop_density_mean',\n",
       "       'pop_count_sum', 'wui1', 'wui2', 'wui3', 'wui4', 'wui_dist_mean',\n",
       "       'grid_area', 'geometry_y', 'burned_area_c', 'burned_pct_c', 'whp_p90'],\n",
       "      dtype='object')"
      ]
     },
     "execution_count": 31,
     "metadata": {},
     "output_type": "execute_result"
    }
   ],
   "source": [
    "# merge back to the main grid data\n",
    "whp_zs.rename(columns={'whp_percentile_90': 'whp_p90'}, inplace = True) # tidy columns name first\n",
    "fire_fa_bltenv_ba_hz = pd.merge(fire_fa_bltenv_ba, whp_zs, on='grid_id', how='left')\n",
    "fire_fa_bltenv_ba_hz.columns"
   ]
  },
  {
   "cell_type": "code",
   "execution_count": 32,
   "id": "5a5f531c-a373-4f72-b5ba-273b5e71c71f",
   "metadata": {},
   "outputs": [
    {
     "data": {
      "text/plain": [
       "31"
      ]
     },
     "execution_count": 32,
     "metadata": {},
     "output_type": "execute_result"
    }
   ],
   "source": [
    "del fire_fa_bltenv_ba, whp_zs, whp\n",
    "gc.collect()"
   ]
  },
  {
   "cell_type": "code",
   "execution_count": null,
   "id": "cce50f6d-2797-4ee2-b609-191fb6494810",
   "metadata": {},
   "outputs": [],
   "source": []
  },
  {
   "cell_type": "code",
   "execution_count": null,
   "id": "cb8e643d-bb4a-4680-a9c2-434ac28c3359",
   "metadata": {},
   "outputs": [],
   "source": []
  },
  {
   "cell_type": "markdown",
   "id": "205373a7-5462-40b8-b87e-6a502969b3c3",
   "metadata": {},
   "source": [
    "## LANDFIRE Existing Vegetation (ca. 2023)"
   ]
  },
  {
   "cell_type": "code",
   "execution_count": 38,
   "id": "5a6faf2e-a3ce-406b-bd12-7dae8d49d86d",
   "metadata": {},
   "outputs": [
    {
     "name": "stdout",
     "output_type": "stream",
     "text": [
      "['srm_lf23_evt_240.tif', 'srm_lc23_cc_240.tif', 'srm_lc23_ch_240.tif']\n"
     ]
    }
   ],
   "source": [
    "# list out the landfire GeoTIFFs\n",
    "# veg Type, Height, and Cover\n",
    "lf_dir = os.path.join(projdir,'Aim3/data/spatial/mod/landfire/')\n",
    "lf_tiffs = list_files(lf_dir, '*.tif', recursive=True)\n",
    "lf_tiffs = [f for f in lf_tiffs if any(sub in f for sub in ['cc', 'ch', 'evt'])]\n",
    "print([os.path.basename(f) for f in lf_tiffs])"
   ]
  },
  {
   "cell_type": "code",
   "execution_count": 53,
   "id": "f3e70049-e037-4f63-902f-374579b5d313",
   "metadata": {},
   "outputs": [
    {
     "name": "stdout",
     "output_type": "stream",
     "text": [
      "EPSG:5070\n",
      "    grid_id   evt  evt_pixels  total_pixels  pct_cover\n",
      "0  159230.0  7011           7         16450   0.042553\n",
      "1  159230.0  7049          23         16450   0.139818\n",
      "2  159230.0  7054           5         16450   0.030395\n",
      "3  159230.0  7066          60         16450   0.364742\n",
      "4  159230.0  7072           3         16450   0.018237\n",
      "\n",
      "Total elapsed time: 0.28 minutes.\n",
      "\n",
      "~~~~~~~~~~\n",
      "\n"
     ]
    },
    {
     "data": {
      "text/plain": [
       "56"
      ]
     },
     "execution_count": 53,
     "metadata": {},
     "output_type": "execute_result"
    }
   ],
   "source": [
    "# calculate the percent cover from EVT classes\n",
    "evt = rxr.open_rasterio(lf_tiffs[0], masked=True).squeeze()\n",
    "print(evt.rio.crs)\n",
    "\n",
    "# calculate the percent cover of WUI classes for each grid\n",
    "t0 = time.time()\n",
    "\n",
    "# see __functions.py\n",
    "evt_grid = compute_band_stats(future_fire, evt, 'grid_id', attr='evt')\n",
    "# tidy columns in the summary table\n",
    "evt_grid['count'] = evt_grid['count'].astype(int)\n",
    "evt_grid['total_pixels'] = evt_grid['total_pixels'].astype(int)\n",
    "evt_grid.rename(columns = {'count': 'evt_pixels'}, inplace=True)\n",
    "print(evt_grid.head())\n",
    "\n",
    "\n",
    "t1 = (time.time() - t0) / 60\n",
    "print(f\"\\nTotal elapsed time: {t1:.2f} minutes.\")\n",
    "print(\"\\n~~~~~~~~~~\\n\")\n",
    "\n",
    "del evt # clean up \n",
    "gc.collect()"
   ]
  },
  {
   "cell_type": "code",
   "execution_count": 54,
   "id": "649f5af9-efa6-4b47-a06e-c9a28b034478",
   "metadata": {},
   "outputs": [
    {
     "name": "stdout",
     "output_type": "stream",
     "text": [
      "Index(['VALUE', 'EVT_NAME', 'LFRDB', 'EVT_FUEL', 'EVT_FUEL_N', 'EVT_LF',\n",
      "       'EVT_PHYS', 'EVT_GP', 'EVT_GP_N', 'SAF_SRM', 'EVT_ORDER', 'EVT_CLASS',\n",
      "       'EVT_SBCLS', 'R', 'G', 'B', 'RED', 'GREEN', 'BLUE'],\n",
      "      dtype='object')\n",
      "    grid_id   evt  pct_cover  \\\n",
      "0  159230.0  7011   0.042553   \n",
      "1  159230.0  7049   0.139818   \n",
      "2  159230.0  7054   0.030395   \n",
      "3  159230.0  7066   0.364742   \n",
      "4  159230.0  7072   0.018237   \n",
      "\n",
      "                                            EVT_NAME  \\\n",
      "0           Rocky Mountain Aspen Forest and Woodland   \n",
      "1  Rocky Mountain Foothill Limber Pine-Juniper Wo...   \n",
      "2    Southern Rocky Mountain Ponderosa Pine Woodland   \n",
      "3       Inter-Mountain Basins Mat Saltbush Shrubland   \n",
      "4  Wyoming Basins Dwarf Sagebrush Shrubland and S...   \n",
      "\n",
      "                            SAF_SRM  \n",
      "0                    SAF 217: Aspen  \n",
      "1              SAF 219: Limber Pine  \n",
      "2  SAF 237: Interior Ponderosa Pine  \n",
      "3      SRM 501: Saltbush-Greasewood  \n",
      "4          SRM 405: Black Sagebrush  \n",
      "Saved to: \n",
      "/Users/max/Library/CloudStorage/OneDrive-Personal/mcook/aspen-fire/Aim3/data/tabular/srm_evt_grid_summary.csv\n"
     ]
    }
   ],
   "source": [
    "# load the lookup table\n",
    "lookup = os.path.join(maindir,'data/landcover/LANDFIRE/LF2023/LF2023_EVT_240_CONUS/CSV_Data/LF23_EVT_240.csv')\n",
    "lookup = pd.read_csv(lookup)\n",
    "print(lookup.columns)\n",
    "# join to the grid\n",
    "evt_grid = pd.merge(evt_grid, lookup, left_on='evt', right_on='VALUE', how='left')\n",
    "print(evt_grid[['grid_id','evt','pct_cover','EVT_NAME','SAF_SRM']].head())\n",
    "# save this file out\n",
    "out_fp = os.path.join(projdir, 'Aim3/data/tabular/srm_evt_grid_summary.csv')\n",
    "evt_grid.to_csv(out_fp)\n",
    "print(f\"Saved to: \\n{out_fp}\")"
   ]
  },
  {
   "cell_type": "code",
   "execution_count": 55,
   "id": "7d7e79dd-5a66-446a-8583-6c0d6d690027",
   "metadata": {},
   "outputs": [
    {
     "data": {
      "text/html": [
       "<div>\n",
       "<style scoped>\n",
       "    .dataframe tbody tr th:only-of-type {\n",
       "        vertical-align: middle;\n",
       "    }\n",
       "\n",
       "    .dataframe tbody tr th {\n",
       "        vertical-align: top;\n",
       "    }\n",
       "\n",
       "    .dataframe thead th {\n",
       "        text-align: right;\n",
       "    }\n",
       "</style>\n",
       "<table border=\"1\" class=\"dataframe\">\n",
       "  <thead>\n",
       "    <tr style=\"text-align: right;\">\n",
       "      <th></th>\n",
       "      <th>grid_id</th>\n",
       "      <th>dom_evt1</th>\n",
       "      <th>dom_evt2</th>\n",
       "      <th>dom_evt3</th>\n",
       "      <th>dom_evt4</th>\n",
       "    </tr>\n",
       "  </thead>\n",
       "  <tbody>\n",
       "    <tr>\n",
       "      <th>0</th>\n",
       "      <td>159230.0</td>\n",
       "      <td>Agriculture</td>\n",
       "      <td>Big Sagebrush-Bluebunch Wheatgrass</td>\n",
       "      <td>Mountain Big Sagebrush</td>\n",
       "      <td>Agriculture</td>\n",
       "    </tr>\n",
       "    <tr>\n",
       "      <th>1</th>\n",
       "      <td>159231.0</td>\n",
       "      <td>Agriculture</td>\n",
       "      <td>Big Sagebrush-Bluebunch Wheatgrass</td>\n",
       "      <td>Agriculture</td>\n",
       "      <td>Wyoming Big Sagebrush</td>\n",
       "    </tr>\n",
       "    <tr>\n",
       "      <th>2</th>\n",
       "      <td>159232.0</td>\n",
       "      <td>Big Sagebrush-Bluebunch Wheatgrass</td>\n",
       "      <td>Agriculture</td>\n",
       "      <td>Mountain Big Sagebrush</td>\n",
       "      <td>Developed</td>\n",
       "    </tr>\n",
       "    <tr>\n",
       "      <th>3</th>\n",
       "      <td>159233.0</td>\n",
       "      <td>Big Sagebrush-Bluebunch Wheatgrass</td>\n",
       "      <td>Mountain Big Sagebrush</td>\n",
       "      <td>Wyoming Big Sagebrush</td>\n",
       "      <td>Chokecherry-Serviceberry-Rose</td>\n",
       "    </tr>\n",
       "    <tr>\n",
       "      <th>4</th>\n",
       "      <td>159234.0</td>\n",
       "      <td>Mountain Big Sagebrush</td>\n",
       "      <td>Chokecherry-Serviceberry-Rose</td>\n",
       "      <td>Interior Ponderosa Pine</td>\n",
       "      <td>Big Sagebrush-Bluebunch Wheatgrass</td>\n",
       "    </tr>\n",
       "    <tr>\n",
       "      <th>5</th>\n",
       "      <td>159235.0</td>\n",
       "      <td>Mountain Big Sagebrush</td>\n",
       "      <td>Wheatgrass-Bluestem-Needlegrass</td>\n",
       "      <td>Interior Ponderosa Pine</td>\n",
       "      <td>Chokecherry-Serviceberry-Rose</td>\n",
       "    </tr>\n",
       "    <tr>\n",
       "      <th>6</th>\n",
       "      <td>159236.0</td>\n",
       "      <td>Interior Ponderosa Pine</td>\n",
       "      <td>Wheatgrass-Bluestem-Needlegrass</td>\n",
       "      <td>Interior Douglas-Fir</td>\n",
       "      <td>Mountain Big Sagebrush</td>\n",
       "    </tr>\n",
       "    <tr>\n",
       "      <th>7</th>\n",
       "      <td>159237.0</td>\n",
       "      <td>Interior Ponderosa Pine</td>\n",
       "      <td>Wheatgrass-Bluestem-Needlegrass</td>\n",
       "      <td>Interior Douglas-Fir</td>\n",
       "      <td>Lodgepole Pine</td>\n",
       "    </tr>\n",
       "    <tr>\n",
       "      <th>8</th>\n",
       "      <td>159238.0</td>\n",
       "      <td>Wheatgrass-Bluestem-Needlegrass</td>\n",
       "      <td>Interior Ponderosa Pine</td>\n",
       "      <td>Interior Douglas-Fir</td>\n",
       "      <td>Lodgepole Pine</td>\n",
       "    </tr>\n",
       "    <tr>\n",
       "      <th>9</th>\n",
       "      <td>159239.0</td>\n",
       "      <td>Mountain Big Sagebrush</td>\n",
       "      <td>Wheatgrass-Bluestem-Needlegrass</td>\n",
       "      <td>Interior Ponderosa Pine</td>\n",
       "      <td>Chokecherry-Serviceberry-Rose</td>\n",
       "    </tr>\n",
       "  </tbody>\n",
       "</table>\n",
       "</div>"
      ],
      "text/plain": [
       "    grid_id                            dom_evt1  \\\n",
       "0  159230.0                         Agriculture   \n",
       "1  159231.0                         Agriculture   \n",
       "2  159232.0  Big Sagebrush-Bluebunch Wheatgrass   \n",
       "3  159233.0  Big Sagebrush-Bluebunch Wheatgrass   \n",
       "4  159234.0              Mountain Big Sagebrush   \n",
       "5  159235.0              Mountain Big Sagebrush   \n",
       "6  159236.0             Interior Ponderosa Pine   \n",
       "7  159237.0             Interior Ponderosa Pine   \n",
       "8  159238.0     Wheatgrass-Bluestem-Needlegrass   \n",
       "9  159239.0              Mountain Big Sagebrush   \n",
       "\n",
       "                             dom_evt2                 dom_evt3  \\\n",
       "0  Big Sagebrush-Bluebunch Wheatgrass   Mountain Big Sagebrush   \n",
       "1  Big Sagebrush-Bluebunch Wheatgrass              Agriculture   \n",
       "2                         Agriculture   Mountain Big Sagebrush   \n",
       "3              Mountain Big Sagebrush    Wyoming Big Sagebrush   \n",
       "4       Chokecherry-Serviceberry-Rose  Interior Ponderosa Pine   \n",
       "5     Wheatgrass-Bluestem-Needlegrass  Interior Ponderosa Pine   \n",
       "6     Wheatgrass-Bluestem-Needlegrass     Interior Douglas-Fir   \n",
       "7     Wheatgrass-Bluestem-Needlegrass     Interior Douglas-Fir   \n",
       "8             Interior Ponderosa Pine     Interior Douglas-Fir   \n",
       "9     Wheatgrass-Bluestem-Needlegrass  Interior Ponderosa Pine   \n",
       "\n",
       "                             dom_evt4  \n",
       "0                         Agriculture  \n",
       "1               Wyoming Big Sagebrush  \n",
       "2                           Developed  \n",
       "3       Chokecherry-Serviceberry-Rose  \n",
       "4  Big Sagebrush-Bluebunch Wheatgrass  \n",
       "5       Chokecherry-Serviceberry-Rose  \n",
       "6              Mountain Big Sagebrush  \n",
       "7                      Lodgepole Pine  \n",
       "8                      Lodgepole Pine  \n",
       "9       Chokecherry-Serviceberry-Rose  "
      ]
     },
     "execution_count": 55,
     "metadata": {},
     "output_type": "execute_result"
    }
   ],
   "source": [
    "# gather the top three most dominant vegetation types\n",
    "# tidy the SAF column\n",
    "evt_grid[\"SAF_SRM\"] = evt_grid[\"SAF_SRM\"].str.split(\":\", n=1).str[1].str.strip()\n",
    "\n",
    "# Function to get the top X by percent cover\n",
    "def dom_spps(df):\n",
    "    top_three = df.nlargest(4, 'pct_cover')  # Get top three by percent cover\n",
    "    return pd.Series({\n",
    "        'dom_evt1': top_three.iloc[0]['SAF_SRM'] if len(top_three) > 0 else None,\n",
    "        'dom_evt2': top_three.iloc[1]['SAF_SRM'] if len(top_three) > 1 else None,\n",
    "        'dom_evt3': top_three.iloc[2]['SAF_SRM'] if len(top_three) > 2 else None,\n",
    "        'dom_evt4': top_three.iloc[3]['SAF_SRM'] if len(top_three) > 3 else None\n",
    "    })\n",
    "\n",
    "# Apply function per grid_id\n",
    "dom_evts = evt_grid.groupby('grid_id').apply(dom_spps).reset_index()\n",
    "dom_evts.head(10)"
   ]
  },
  {
   "cell_type": "code",
   "execution_count": 57,
   "id": "001e805b-97fe-41d3-aad7-442ac853a3e3",
   "metadata": {},
   "outputs": [
    {
     "name": "stdout",
     "output_type": "stream",
     "text": [
      "Processing: srm_lc23_cc_240.tif\n",
      "Processing: srm_lc23_ch_240.tif\n"
     ]
    },
    {
     "data": {
      "text/html": [
       "<div>\n",
       "<style scoped>\n",
       "    .dataframe tbody tr th:only-of-type {\n",
       "        vertical-align: middle;\n",
       "    }\n",
       "\n",
       "    .dataframe tbody tr th {\n",
       "        vertical-align: top;\n",
       "    }\n",
       "\n",
       "    .dataframe thead th {\n",
       "        text-align: right;\n",
       "    }\n",
       "</style>\n",
       "<table border=\"1\" class=\"dataframe\">\n",
       "  <thead>\n",
       "    <tr style=\"text-align: right;\">\n",
       "      <th></th>\n",
       "      <th>grid_id</th>\n",
       "      <th>forest_cc_mean</th>\n",
       "      <th>forest_ch_mean</th>\n",
       "    </tr>\n",
       "  </thead>\n",
       "  <tbody>\n",
       "    <tr>\n",
       "      <th>0</th>\n",
       "      <td>159230.0</td>\n",
       "      <td>0.080547</td>\n",
       "      <td>0.210942</td>\n",
       "    </tr>\n",
       "    <tr>\n",
       "      <th>1</th>\n",
       "      <td>159231.0</td>\n",
       "      <td>1.825889</td>\n",
       "      <td>4.680036</td>\n",
       "    </tr>\n",
       "    <tr>\n",
       "      <th>2</th>\n",
       "      <td>159232.0</td>\n",
       "      <td>2.939889</td>\n",
       "      <td>8.916307</td>\n",
       "    </tr>\n",
       "    <tr>\n",
       "      <th>3</th>\n",
       "      <td>159233.0</td>\n",
       "      <td>3.734123</td>\n",
       "      <td>10.322091</td>\n",
       "    </tr>\n",
       "    <tr>\n",
       "      <th>4</th>\n",
       "      <td>159234.0</td>\n",
       "      <td>4.345553</td>\n",
       "      <td>13.254301</td>\n",
       "    </tr>\n",
       "  </tbody>\n",
       "</table>\n",
       "</div>"
      ],
      "text/plain": [
       "    grid_id  forest_cc_mean  forest_ch_mean\n",
       "0  159230.0        0.080547        0.210942\n",
       "1  159231.0        1.825889        4.680036\n",
       "2  159232.0        2.939889        8.916307\n",
       "3  159233.0        3.734123       10.322091\n",
       "4  159234.0        4.345553       13.254301"
      ]
     },
     "execution_count": 57,
     "metadata": {},
     "output_type": "execute_result"
    }
   ],
   "source": [
    "# calculate the continuous summaries (forest canopy percent and height)\n",
    "ccs = {\n",
    "    'forest_cc': lf_tiffs[1],\n",
    "    'forest_ch': lf_tiffs[2]\n",
    "}\n",
    "results = [] # store results\n",
    "for key, fp in ccs.items():\n",
    "    print(f\"Processing: {os.path.basename(fp)}\")\n",
    "    da = rxr.open_rasterio(fp, masked=True, chunks='auto').squeeze()\n",
    "    # calculate zonal statistics\n",
    "    zs = compute_band_stats(\n",
    "        geoms=future_fire, \n",
    "        image_da=da, \n",
    "        id_col='grid_id', \n",
    "        stats=['mean'], \n",
    "        attr=key,\n",
    "        ztype='continuous'\n",
    "    )\n",
    "    results.append(zs)\n",
    "    del da, zs\n",
    "\n",
    "# concatenate the results\n",
    "fc_summary = pd.concat([df.set_index(\"grid_id\") for df in results], axis=1).reset_index()\n",
    "fc_summary.head()"
   ]
  },
  {
   "cell_type": "code",
   "execution_count": 58,
   "id": "c8f3ff11-fe63-4a5f-8e02-476fdaf791f8",
   "metadata": {},
   "outputs": [
    {
     "data": {
      "text/plain": [
       "Index(['grid_id', 'dom_evt1', 'dom_evt2', 'dom_evt3', 'dom_evt4',\n",
       "       'forest_cc_mean', 'forest_ch_mean'],\n",
       "      dtype='object')"
      ]
     },
     "execution_count": 58,
     "metadata": {},
     "output_type": "execute_result"
    }
   ],
   "source": [
    "# join the LANDFIRE summaries\n",
    "lf_summary = pd.merge(dom_evts, fc_summary, on='grid_id', how='left')\n",
    "lf_summary.columns"
   ]
  },
  {
   "cell_type": "code",
   "execution_count": 60,
   "id": "c8c011e1-10a2-419d-b9f0-f9a4cee5f103",
   "metadata": {},
   "outputs": [
    {
     "name": "stdout",
     "output_type": "stream",
     "text": [
      "Index(['grid_id', 'trend_area', 'trend_count', 'p_area', 'p_count',\n",
      "       'NA_L3NAME', 'US_L4NAME', 'US_L4CODE', 'geometry_x', 'historic',\n",
      "       'ssp245', 'ssp585', 'delta245', 'delta585', 'aspen10_pct',\n",
      "       'aspen10_pixn', 'combust_sum', 'msbf_count_sum', 'pop_density_mean',\n",
      "       'pop_count_sum', 'wui1', 'wui2', 'wui3', 'wui4', 'wui_dist_mean',\n",
      "       'grid_area', 'geometry_y', 'burned_area_c', 'burned_pct_c', 'whp_p90',\n",
      "       'dom_evt1', 'dom_evt2', 'dom_evt3', 'dom_evt4', 'forest_cc_mean',\n",
      "       'forest_ch_mean'],\n",
      "      dtype='object')\n",
      "Saved to: \n",
      "/Users/max/Library/CloudStorage/OneDrive-Personal/mcook/aspen-fire/Aim3/data/spatial/mod/srm_model_data.gpkg\n"
     ]
    }
   ],
   "source": [
    "# join to the main grid, export\n",
    "fire_fa_bltenv_ba_hz_lf = pd.merge(fire_fa_bltenv_ba_hz, lf_summary, on='grid_id', how='left')\n",
    "print(fire_fa_bltenv_ba_hz_lf.columns)\n",
    "# export\n",
    "out_fp = os.path.join(projdir, 'Aim3/data/spatial/mod/srm_model_data.gpkg')\n",
    "fire_fa_bltenv_ba_hz_lf.to_csv(out_fp)\n",
    "print(f\"Saved to: \\n{out_fp}\")"
   ]
  }
 ],
 "metadata": {
  "kernelspec": {
   "display_name": "aspen-fire",
   "language": "python",
   "name": "aspen-fire"
  },
  "language_info": {
   "codemirror_mode": {
    "name": "ipython",
    "version": 3
   },
   "file_extension": ".py",
   "mimetype": "text/x-python",
   "name": "python",
   "nbconvert_exporter": "python",
   "pygments_lexer": "ipython3",
   "version": "3.10.12"
  }
 },
 "nbformat": 4,
 "nbformat_minor": 5
}
