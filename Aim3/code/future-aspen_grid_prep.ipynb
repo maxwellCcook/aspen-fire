{
 "cells": [
  {
   "cell_type": "code",
   "execution_count": null,
   "id": "e7393824-b719-401f-9e59-bbe9efcbe357",
   "metadata": {},
   "outputs": [],
   "source": [
    "\"\"\"\n",
    "Grid preparation for future aspen project:\n",
    "\n",
    "Future:\n",
    "    - Future aspen suitability\n",
    "    - Future fire probability\n",
    "\n",
    "Contemporary:\n",
    "    - ca. 2019 Aspen canopy cover\n",
    "    - combustible mass of the built environment\n",
    "    - burn probability and conditional flame length probability\n",
    "    - ca. 2016 USFS TreeMap summaries (potential aspen understory, etc)\n",
    "\n",
    "Author: maxwell.cook@colorado.edu\n",
    "\"\"\"\n",
    "\n",
    "import os, sys, time\n",
    "import pandas as pd\n",
    "import xarray as xr\n",
    "import geopandas as gpd\n",
    "import pylandstats as pls\n",
    "import multiprocessing as mp\n",
    "import concurrent.futures\n",
    "import numpy as np\n",
    "\n",
    "import seaborn as sns\n",
    "import matplotlib.pyplot as plt\n",
    "import matplotlib.colors as mcolors\n",
    "import matplotlib.patches as mpatches\n",
    "\n",
    "from tqdm.notebook import tqdm\n",
    "from multiprocessing import Pool, cpu_count\n",
    "from matplotlib.colors import to_rgba\n",
    "from matplotlib.patches import Patch\n",
    "from sklearn.preprocessing import MinMaxScaler\n",
    "\n",
    "maindir = '/Users/max/Library/CloudStorage/OneDrive-Personal/mcook/'\n",
    "projdir = os.path.join(maindir, 'aspen-fire/')\n",
    "\n",
    "# Custom functions\n",
    "sys.path.append(os.path.join(maindir,'aspen-fire/Aim2/code/Python'))\n",
    "from __functions import *\n",
    "\n",
    "proj = 'EPSG:5070' # albers\n",
    "\n",
    "print(\"Ready to go !\")"
   ]
  },
  {
   "cell_type": "markdown",
   "id": "e97ad4be-7c66-44be-b982-640c69ced7e7",
   "metadata": {},
   "source": [
    "## Future Fire"
   ]
  },
  {
   "cell_type": "code",
   "execution_count": null,
   "id": "7d39e7f5-2ea1-421b-b77e-035645207a1d",
   "metadata": {},
   "outputs": [],
   "source": [
    "fp = os.path.join(projdir,'Aim3/data/spatial/mod/future_fire_grid_trend.gpkg')\n",
    "future_fire = gpd.read_file(fp)\n",
    "future_fire.head()"
   ]
  },
  {
   "cell_type": "markdown",
   "id": "38f5631d-7fe0-4266-a860-b2851da80fc7",
   "metadata": {},
   "source": []
  },
  {
   "cell_type": "code",
   "execution_count": null,
   "id": "62a6149a-2a15-4d65-a85a-bd62d1e28c25",
   "metadata": {},
   "outputs": [],
   "source": []
  },
  {
   "cell_type": "markdown",
   "id": "edccbba0-db52-49de-8a6e-1cf4b19004b9",
   "metadata": {},
   "source": [
    "## Aspen habitat suitability metrics"
   ]
  },
  {
   "cell_type": "code",
   "execution_count": null,
   "id": "47a6a604-55df-4403-8371-428a1f730be8",
   "metadata": {},
   "outputs": [],
   "source": [
    "# load the future aspen suitability\n",
    "fp = os.path.join(projdir,'Aim3/data/spatial/raw/aspen_suitability/Predictions/predicted_SSP245_2041-2070_ensemble.tif')\n",
    "aspen = rxr.open_rasterio(fp, cache=False).squeeze()\n",
    "print(f\"\\n{aspen}\\n\")"
   ]
  },
  {
   "cell_type": "code",
   "execution_count": null,
   "id": "d33c4c68-ba29-4b8f-b879-88465903c2b2",
   "metadata": {},
   "outputs": [],
   "source": [
    "aspen.rio.crs"
   ]
  },
  {
   "cell_type": "code",
   "execution_count": null,
   "id": "a191c698-ada0-4a41-96c9-c0b327aae8c4",
   "metadata": {},
   "outputs": [],
   "source": [
    "plot_raster(aspen, legend_lab = \"Aspen Suitability\")"
   ]
  },
  {
   "cell_type": "code",
   "execution_count": null,
   "id": "35fa43c5-1566-4886-88c6-006c49c82f42",
   "metadata": {},
   "outputs": [],
   "source": [
    "# calculate band statistics\n",
    "# mean, standard deviation, percentiles\n",
    "\n",
    "# reproject the aspen grid\n",
    "aspen = aspen.rio.reproject(proj)\n",
    "\n",
    "# calculate zonal statistics\n",
    "future_aspen = compute_band_stats(\n",
    "    geoms=future_fire, \n",
    "    image_da=aspen, \n",
    "    id_col='grid_id', \n",
    "    stats=['mean','median','std','percentile_90'],\n",
    "    attr='f_aspen',\n",
    "    ztype='continuous'\n",
    ")\n",
    "\n",
    "future_aspen.head()"
   ]
  },
  {
   "cell_type": "code",
   "execution_count": null,
   "id": "3e479e97-1cd6-4af5-a592-843ed4d63df4",
   "metadata": {},
   "outputs": [],
   "source": [
    "# rename the columns\n",
    "future_aspen = future_aspen.rename(\n",
    "    columns={\n",
    "        'f_aspen_percentile_90': 'f_aspen_p90',\n",
    "        'f_aspen_mean': 'f_aspen_mn',\n",
    "        'f_aspen_median': 'f_aspen_med'\n",
    "    }\n",
    ")\n",
    "\n",
    "# join to the fire dataframe\n",
    "fire_fa = pd.merge(future_fire, future_aspen, on=\"grid_id\", how=\"left\")\n",
    "fire_fa.head()"
   ]
  },
  {
   "cell_type": "code",
   "execution_count": null,
   "id": "e9cd10c3-91c0-4d8c-ac81-dbbe079d2e18",
   "metadata": {},
   "outputs": [],
   "source": [
    "# Create a bivariate map of future fire/future aspen\n",
    "scaler = MinMaxScaler()\n",
    "fire_fa[[\"trend_count_sc\", \"trend_area_sc\", \"f_aspen_mn_sc\"]] = scaler.fit_transform(fire_fa[[\"trend_count\", \"trend_area\", \"f_aspen_mn\"]])\n",
    "\n",
    "# Define class breaks (e.g., tertiles or quartiles)\n",
    "fire_fa[\"fire_class\"] = np.digitize(\n",
    "    fire_fa[\"trend_count_sc\"], \n",
    "    np.quantile(fire_fa[\"trend_count_sc\"], [0.33, 0.67]))\n",
    "fire_fa[\"aspen_class\"] = np.digitize(\n",
    "    fire_fa[\"f_aspen_mn_sc\"], \n",
    "    np.quantile(fire_fa[\"f_aspen_mn_sc\"], [0.33, 0.67]))\n",
    "\n",
    "# Combine classifications to create bivariate classes\n",
    "fire_fa[\"bivar\"] = fire_fa[\"fire_class\"].astype(str) + fire_fa[\"aspen_class\"].astype(str)\n",
    "\n",
    "# Define a custom bivariate colormap\n",
    "bivar_colors = {\n",
    "    \"00\": \"#f6f6f6\",  # Low fire, low aspen\n",
    "    \"01\": \"#a5c3ff\",  # Low fire, medium aspen\n",
    "    \"02\": \"#003f5c\",  # Low fire, high aspen\n",
    "    \"10\": \"#ffb8b8\",  # Medium fire, low aspen\n",
    "    \"11\": \"#d9a6ff\",  # Medium fire, medium aspen\n",
    "    \"12\": \"#581845\",  # Medium fire, high aspen\n",
    "    \"20\": \"#ff0000\",  # High fire, low aspen\n",
    "    \"21\": \"#ff7300\",  # High fire, medium aspen\n",
    "    \"22\": \"#ffcc00\",  # High fire, high aspen\n",
    "}\n",
    "\n",
    "# Assign colors based on the classification\n",
    "fire_fa[\"color\"] = fire_fa[\"bivar\"].map(bivar_colors)\n",
    "\n",
    "# Plot the bivariate map\n",
    "fig, ax = plt.subplots(1, 1, figsize=(10, 8))\n",
    "fire_fa.plot(ax=ax, color=fire_fa[\"color\"], edgecolor=\"black\", linewidth=0.1)\n",
    "\n",
    "legend_patches = [Patch(color=color, label=label) for label, color in bivar_colors.items()]\n",
    "ax.legend(handles=legend_patches, title=\"\", loc=\"upper left\")\n",
    "ax.axis(\"off\")\n",
    "\n",
    "plt.show()"
   ]
  },
  {
   "cell_type": "code",
   "execution_count": null,
   "id": "16d37567-50a3-4d4d-8e51-6c7a9c7d3bc1",
   "metadata": {},
   "outputs": [],
   "source": [
    "# save this file out\n",
    "out_fp = os.path.join(projdir, 'Aim3/data/spatial/mod/future_fire_grid_trend_aspen.gpkg')\n",
    "fire_fa.to_file(out_fp)\n",
    "print(f\"Saved to: \\n{out_fp}\")"
   ]
  },
  {
   "cell_type": "code",
   "execution_count": null,
   "id": "4eeb31cb-c96c-48ba-8822-8cf961ec5e61",
   "metadata": {},
   "outputs": [],
   "source": []
  },
  {
   "cell_type": "code",
   "execution_count": null,
   "id": "7442b8ee-a42c-4743-9d73-c1a0a5acda03",
   "metadata": {},
   "outputs": [],
   "source": []
  },
  {
   "cell_type": "code",
   "execution_count": null,
   "id": "686830b0-9aae-4229-8e03-47090ff3495f",
   "metadata": {},
   "outputs": [],
   "source": []
  },
  {
   "cell_type": "markdown",
   "id": "cfd65dbb-afaa-437f-9df4-099855d27097",
   "metadata": {},
   "source": [
    "## Sentinel-based aspen cover (ca. 2019)"
   ]
  },
  {
   "cell_type": "code",
   "execution_count": null,
   "id": "f04da86c-117d-42b2-bbd1-09eaeeddb4ac",
   "metadata": {},
   "outputs": [],
   "source": [
    "# load the 10-m aspen map (classification)\n",
    "aspen10_fp = os.path.join(projdir,'Aim1/data/spatial/mod/results/classification/s2aspen_distribution_10m_y2019_CookEtAl.tif')\n",
    "aspen10 = rxr.open_rasterio(aspen10_fp, cache=False, chunks='auto', mask=True).squeeze()\n",
    "print(f\"\\n{aspen10}\\n\")\n",
    "print(aspen10.rio.crs)"
   ]
  },
  {
   "cell_type": "code",
   "execution_count": null,
   "id": "6fba680e-73b1-4479-8dd6-ffb33865e55f",
   "metadata": {},
   "outputs": [],
   "source": [
    "# check for duplicates, remove them\n",
    "n = future_fire.duplicated(subset=['grid_id']).sum()\n",
    "if n > 0:\n",
    "    print(f\"\\nThere are [{n}] duplicate rows.\\n\")\n",
    "else:\n",
    "    print(\"\\nNo duplicates at this stage.\\n\")"
   ]
  },
  {
   "cell_type": "code",
   "execution_count": null,
   "id": "847864b2-88a7-433b-a1ae-32cbda743729",
   "metadata": {},
   "outputs": [],
   "source": [
    "t0 = time.time()\n",
    "\n",
    "# calculate zonal statistics\n",
    "aspen10_grids = compute_band_stats(\n",
    "    geoms=future_fire, \n",
    "    image_da=aspen10, \n",
    "    id_col='grid_id', \n",
    "    attr='aspen10',\n",
    "    ztype='categorical'\n",
    ")\n",
    "# only keep the count of aspen pixels\n",
    "aspen10_grids = aspen10_grids[aspen10_grids['aspen10'] == 1]\n",
    "# check the results\n",
    "print(aspen10_grids.head())\n",
    "\n",
    "t1 = (time.time() - t0) / 60\n",
    "print(f\"\\nTotal elapsed time: {t1:.2f} minutes.\\n\")\n",
    "print(\"\\n~~~~~~~~~~\\n\")"
   ]
  },
  {
   "cell_type": "code",
   "execution_count": null,
   "id": "7e85a50a-8847-4e6d-a840-095c7a11dc1f",
   "metadata": {},
   "outputs": [],
   "source": [
    "aspen10_grids['pct_cover'].describe()"
   ]
  },
  {
   "cell_type": "code",
   "execution_count": null,
   "id": "7498a4a3-4cc0-4df7-9649-3fa0b5ce408f",
   "metadata": {},
   "outputs": [],
   "source": [
    "# seperate aspen grids for patch analysis\n",
    "aspen_grids = aspen10_grids[aspen10_grids['pct_cover'] > 1] # grids where aspen percent cover is greater than 1%\n",
    "print(f\"\\n[{len(aspen10_grids)}/{len(future_fire)}] grids with any aspen cover.\")\n",
    "print(f\"\\n\\t[{len(aspen_grids)}/{len(future_fire)}] grids with >1% aspen cover.\\n\")"
   ]
  },
  {
   "cell_type": "code",
   "execution_count": null,
   "id": "f036be43-4a04-487c-88bd-56e926858101",
   "metadata": {},
   "outputs": [],
   "source": [
    "# merge back to the spatial data\n",
    "ff_aspen_grids = future_fire[future_fire['grid_id'].isin(aspen_grids['grid_id'].unique())]\n",
    "print(len(ff_aspen_grids))"
   ]
  },
  {
   "cell_type": "code",
   "execution_count": null,
   "id": "25b7a887-bab2-4d33-a335-2bce77dbaf88",
   "metadata": {},
   "outputs": [],
   "source": []
  },
  {
   "cell_type": "code",
   "execution_count": null,
   "id": "6b6d5c9c-4dd6-4bd7-a399-9cdb1992401d",
   "metadata": {},
   "outputs": [],
   "source": []
  },
  {
   "cell_type": "code",
   "execution_count": null,
   "id": "72fb2d80-1922-462c-969e-1b5cf0a6134d",
   "metadata": {},
   "outputs": [],
   "source": []
  },
  {
   "cell_type": "markdown",
   "id": "f253c400-a855-48e3-b902-d81d3696791a",
   "metadata": {},
   "source": [
    "## WUI/Built Environment Summaries"
   ]
  },
  {
   "cell_type": "code",
   "execution_count": null,
   "id": "82fc9a14-597e-4bb0-a621-7f8d666327fa",
   "metadata": {},
   "outputs": [],
   "source": [
    "# load the contemporary COMBUST grid (combustible mass of the built environment)"
   ]
  },
  {
   "cell_type": "code",
   "execution_count": null,
   "id": "faeffaf8-d90c-4c8d-9849-9000a707a14a",
   "metadata": {},
   "outputs": [],
   "source": []
  },
  {
   "cell_type": "code",
   "execution_count": null,
   "id": "cddb1fc8-9b34-4000-9f05-4f568c867851",
   "metadata": {},
   "outputs": [],
   "source": []
  },
  {
   "cell_type": "markdown",
   "id": "37a6d2ea-3640-4b75-97cd-564bcc9b3b7b",
   "metadata": {},
   "source": [
    "## Contemporary Fire Activity and Fire Risk "
   ]
  },
  {
   "cell_type": "code",
   "execution_count": null,
   "id": "b7aa95d4-8ffb-4241-b2ef-c1b6a6539aa9",
   "metadata": {},
   "outputs": [],
   "source": [
    "# load the burn probability and conditional flame length probability"
   ]
  },
  {
   "cell_type": "code",
   "execution_count": null,
   "id": "6d56affc-7529-4ef3-acc0-f16ee147e688",
   "metadata": {},
   "outputs": [],
   "source": []
  },
  {
   "cell_type": "code",
   "execution_count": null,
   "id": "52a13e8e-8d99-4e2a-aa6d-1868abf43d96",
   "metadata": {},
   "outputs": [],
   "source": [
    "# load the fpa-fod ignitions data and get the total count"
   ]
  },
  {
   "cell_type": "code",
   "execution_count": null,
   "id": "0dea7fb8-6de4-4fba-ba3b-92adbb507d58",
   "metadata": {},
   "outputs": [],
   "source": []
  },
  {
   "cell_type": "code",
   "execution_count": null,
   "id": "c94d31d6-144d-427f-85d3-9a914621e2b0",
   "metadata": {},
   "outputs": [],
   "source": [
    "# load burned area and calculate the cumulative area burned"
   ]
  },
  {
   "cell_type": "code",
   "execution_count": null,
   "id": "74f3d8b9-a534-476f-8531-25438320f470",
   "metadata": {},
   "outputs": [],
   "source": []
  },
  {
   "cell_type": "markdown",
   "id": "b94d242e-cd40-4941-a24f-18286f6bbad7",
   "metadata": {},
   "source": [
    "## USFS TreeMap Summaries\n",
    "### FORTYPCD"
   ]
  },
  {
   "cell_type": "code",
   "execution_count": null,
   "id": "e81c6b6e-c89c-4a68-92e3-466b79106320",
   "metadata": {},
   "outputs": [],
   "source": [
    "# Load the TreeMap (ca. 2016)\n",
    "# see '04a_TreeMap_FIA-Prep.ipynb'\n",
    "# fp = os.path.join(maindir,'data/landcover/USFS/RDS_TreeMap/TreeMap2016.tif') # tm_id band\n",
    "fp = os.path.join(projdir, \"Aim2/data/spatial/mod/USFS/TreeMap_2016_TMID_FORTYPCD.tif\") # multi-band\n",
    "treemap_da = rxr.open_rasterio(fp, masked=True, cache=False).squeeze()\n",
    "tmid_da = treemap_da.sel(band=1) # the tm_id band\n",
    "fortyp_da = treemap_da.sel(band=2) # the fortypcd band\n",
    "\n",
    "# Grab some raster metadata from one of the layers\n",
    "shp, gt, wkt, nd = fortyp_da.shape, fortyp_da.spatial_ref.GeoTransform, fortyp_da.rio.crs, fortyp_da.rio.nodata\n",
    "print(\n",
    "    f\"Shape: {shp}; \\n\"\n",
    "    f\"GeoTransform: {gt}; \\n\"\n",
    "    f\"WKT: {wkt}; \\n\"\n",
    "    f\"NoData Value: {nd}; \\n\"\n",
    "    f\"Data Type: {fortyp_da[0].dtype}\")\n",
    "\n",
    "del treemap_da # clean up\n",
    "gc.collect()"
   ]
  },
  {
   "cell_type": "code",
   "execution_count": null,
   "id": "e41bed5b-2cd6-4e9f-891e-68e7f19df9dc",
   "metadata": {},
   "outputs": [],
   "source": [
    "# create a forest/non-forest grid\n",
    "forest_mask = xr.where(~np.isnan(fortyp_da), 1, 0)\n",
    "# calculate the grid-level forest percent\n",
    "forest_pct = compute_band_stats(fire, forest_mask, 'grid_id', attr='forest')\n",
    "forest_pct.rename(columns={\n",
    "    'pct_cover': 'forest_pct',\n",
    "    'total_pixels': 'forest_pixels'\n",
    "}, inplace=True)\n",
    "print(forest_pct.head())\n",
    "# gather the forest percent\n",
    "forest_pct = forest_pct[forest_pct['forest'] == 1] # just forest pixels\n",
    "forest_pct = forest_pct[['grid_id','forest_pixels','forest_pct']]\n",
    "# how many forested grids are there? (>50%)\n",
    "n_forest = len(forest_pct[forest_pct['forest_pct'] > 50])\n",
    "print(f\"\\n[{round(n_forest/len(fire)*100,2)}%] predominantly forest grids.\")\n",
    "print(f\"\\n{forest_pct.head(3)}\")\n",
    "# tidy up\n",
    "del forest_mask\n",
    "gc.collect() # clean up"
   ]
  },
  {
   "cell_type": "code",
   "execution_count": null,
   "id": "04c1672f-8ef5-46e9-b0cb-1a8d3d08fb16",
   "metadata": {},
   "outputs": [],
   "source": [
    "# calculate forest type percent from the FORTYPCD\n",
    "t0 = time.time()\n",
    "\n",
    "# see __functions.py\n",
    "fire_fa_fortyp = compute_band_stats(fire_fa, fortyp_da, 'grid_id', attr='fortypcd')\n",
    "# tidy columns in the summary table\n",
    "fire_fa_fortyp['count'] = fire_fa_fortyp['count'].astype(int)\n",
    "fire_fa_fortyp['total_pixels'] = fire_fa_fortyp['total_pixels'].astype(int)\n",
    "fire_fa_fortyp.rename(columns = {'count': 'fortyp_pixels'}, inplace=True)\n",
    "\n",
    "# load the species lookup table\n",
    "fp = os.path.join(projdir,'Aim2/data/tabular/mod/treemap_fortypcd_species_mapping.csv')\n",
    "species_df = pd.read_csv(fp)\n",
    "species_df = species_df[['FORTYPCD','SpeciesName']]\n",
    "species_df.rename(columns={\n",
    "    'FORTYPCD': 'fortypcd',\n",
    "    'SpeciesName': 'fortypnm'\n",
    "}, inplace=True)\n",
    "\n",
    "# join the forest name\n",
    "fire_fa_fortyp = fire_fa_fortyp.merge(species_df, on='fortypcd', how='left')\n",
    "print(f\"\\n{fire_fa_fortyp.head(3)}\")\n",
    "\n",
    "t1 = (time.time() - t0) / 60\n",
    "print(f\"\\nTotal elapsed time: {t1:.2f} minutes.\")\n",
    "print(\"\\n~~~~~~~~~~\\n\")\n",
    "\n",
    "del fortyp_da, species_df # clean up \n",
    "gc.collect()"
   ]
  },
  {
   "cell_type": "code",
   "execution_count": null,
   "id": "d48e842d-12e2-494f-baa1-58571918cdc3",
   "metadata": {},
   "outputs": [],
   "source": [
    "fire_fa_fortyp['fortypnm'].unique()"
   ]
  },
  {
   "cell_type": "code",
   "execution_count": null,
   "id": "2b2fc4e8-b5ef-44f5-852e-d2e4c43c62d4",
   "metadata": {},
   "outputs": [],
   "source": [
    "# subset to southern rockies forest types\n",
    "fortyp_srm = [\n",
    "    'Rocky Mountain juniper', 'Juniper woodland', 'Pinyon / juniper woodland', 'Douglas-fir', 'Ponderosa pine',\n",
    "    'White fir', 'Engelmann spruce', 'Cottonwood', 'Aspen', 'Deciduous oak woodland', 'Lodgepole pine', \n",
    "    'Willow', 'Cercocarpus (mountain brush) woodland', 'Engelmann spruce / subalpine fir', 'Subalpine fir', \n",
    "    'Foxtail pine / bristlecone pine', 'Limber pine', 'Cottonwood / willow', 'Blue spruce', 'Evergreen oak woodland', \n",
    "    'Mixed upland hardwoods'\n",
    "]\n",
    "\n",
    "# subset the dataframe\n",
    "fire_fa_fortyp = fire_fa_fortyp[fire_fa_fortyp['fortypnm'].isin(fortyp_srm)]\n",
    "\n",
    "# Aggregate into forest groups\n",
    "spp_grouping = {\n",
    "    'pinyon|juniper': 'Piñon-juniper',\n",
    "    'spruce|subalpine': 'Spruce-fir',\n",
    "    'ponderosa pine': 'Ponderosa pine', \n",
    "    'lodgepole pine': 'Lodgepole pine', \n",
    "    \n",
    "    'aspen': 'Quaking aspen',\n",
    "    'douglas-fir': 'Douglas-fir',\n",
    "    'white fir': 'White fir',\n",
    "    'deciduous oak woodland|cercocarpus': 'Oak woodland',\n",
    "    'cottonwood|willow|': 'Riparian woodland'\n",
    "}\n",
    "\n",
    "# create the remap table\n",
    "spp_remap = {} # dictionary to store the remap values\n",
    "# Iterate over groups to create the species remap dictionary\n",
    "for keywords, spp_group in spp_grouping.items():\n",
    "    # Find species matching the keywords\n",
    "    spp = fire_fa_fortyp[fire_fa_fortyp['fortypnm'].str.contains(keywords, case=False, na=False)]\n",
    "    # Add matching species to the remap dictionary\n",
    "    spp_remap.update(\n",
    "        {name: spp_group for name in spp['fortypnm'].unique()}\n",
    "    )\n",
    "    del spp\n",
    "    \n",
    "# Apply the remap to create a new grouped species column\n",
    "fire_fa_fortyp['fortypnm_gp'] = fire_fa_fortyp['fortypnm'].map(spp_remap).fillna(fire_fa_fortyp['fortypnm'])\n",
    "# Verify the updated species groups\n",
    "print(fire_fa_fortyp[['fortypnm', 'fortypnm_gp']].drop_duplicates().head(3))\n",
    "print(f\"\\n{fire_fa_fortyp.columns}\")"
   ]
  },
  {
   "cell_type": "code",
   "execution_count": null,
   "id": "b3934fe9-680b-442c-b66e-777218c17507",
   "metadata": {},
   "outputs": [],
   "source": [
    "# Aggregate with the new species groupings\n",
    "# Reacalculate the percent cover for each species group\n",
    "fire_fa_fortypgp = (\n",
    "    fire_fa_fortyp.groupby(['grid_id','fortypnm_gp'], as_index=False)\n",
    "    .agg(\n",
    "        fortyp_pixels=('fortyp_pixels','sum'),\n",
    "        total_pixels=('total_pixels','max'),\n",
    "        fortyp_pct=('pct_cover','sum'),\n",
    "    )\n",
    ")\n",
    "\n",
    "# Merge in the forest percent\n",
    "fire_fa_fortypgp = fire_fa_fortypgp.merge(forest_pct, on='grid_id', how='inner')\n",
    "\n",
    "# Check on nulls introduced\n",
    "print(f\"\\nNaNs in FORTYP group name: {fire_fa_fortypgp['fortypnm_gp'].isna().sum()}\\n\")\n",
    "print(f\"\\n{fire_fa_fortypgp.head(10)}\\n\")\n",
    "print(f\"Forest percent:\\n{fire_fa_fortypgp['forest_pct'].describe()}\\n\")\n",
    "print(\"\\n~~~~~~~~~~~~~~~~~~\\n\")\n",
    "\n",
    "gc.collect()"
   ]
  },
  {
   "cell_type": "code",
   "execution_count": null,
   "id": "4f521915-b3ac-41c9-90dc-36970d2790da",
   "metadata": {},
   "outputs": [],
   "source": [
    "# Create a histogram of the forest species (prevalence)\n",
    "fortyp = fire_fa_fortypgp.copy() # make a copy to work with\n",
    "fortyp = fortyp[fortyp['fortyp_pixels'] > 0] # make sure there are some pixels\n",
    "\n",
    "# calculate the landscape fraction (prevalence)\n",
    "spp_pr = fortyp.groupby('fortypnm_gp')['fortyp_pixels'].sum().reset_index()\n",
    "spp_pr['fraction'] = spp_pr['fortyp_pixels'] / spp_pr['fortyp_pixels'].sum()\n",
    "spp_pr = spp_pr.sort_values(by='fraction', ascending=False)\n",
    "# which species make up 97% of observations?\n",
    "spp_pr['c_fraction'] = spp_pr['fraction'].cumsum()\n",
    "top_species = spp_pr[spp_pr['c_fraction'] <= 0.99]\n",
    "print(f\"\\n\\nSpecies making up 99% of the total: \\n\\n{top_species}\\n\\n\")\n",
    "\n",
    "# plot it\n",
    "plt.figure(figsize=(6, 4))\n",
    "sns.barplot(data=top_species, x='fortypnm_gp', y='fraction', palette='viridis')\n",
    "plt.xlabel('Species')\n",
    "plt.ylabel('Fractional cover')\n",
    "plt.xticks(rotation=45, ha='right')\n",
    "plt.tight_layout()\n",
    "plt.show()\n",
    "\n",
    "# clean up\n",
    "del fortyp, spp_pr\n",
    "gc.collect()"
   ]
  },
  {
   "cell_type": "code",
   "execution_count": null,
   "id": "0eff8748-58f4-40ec-81b0-d494179cd955",
   "metadata": {},
   "outputs": [],
   "source": [
    "# Get the species co-occurrence percentages\n",
    "spps = fire_fa_fortypgp['fortypnm_gp'].unique()\n",
    "coo = get_spp_coo(fire_fa_fortypgp, spps, grid_col='grid_id') # see '__functions.py')\n",
    "print(f\"\\n{coo.head(30)}\\n\")"
   ]
  },
  {
   "cell_type": "code",
   "execution_count": null,
   "id": "d84732c1-97d2-4287-b0f2-969f72711352",
   "metadata": {},
   "outputs": [],
   "source": [
    "# merge to the fire data again\n",
    "fire_fa_tm = pd.merge(fire_fa, fire_fa_fortypgp, on='grid_id', how='left')\n",
    "fire_fa_tm.columns"
   ]
  },
  {
   "cell_type": "code",
   "execution_count": null,
   "id": "7ffce027-0acc-4644-b48e-35921abfd5a0",
   "metadata": {},
   "outputs": [],
   "source": [
    "print(len(fire_fa_tm))\n",
    "print(len(fire_fa_tm['grid_id'].unique()))"
   ]
  },
  {
   "cell_type": "code",
   "execution_count": null,
   "id": "42bd8bc1-13d0-4735-b12f-946c06641ba6",
   "metadata": {},
   "outputs": [],
   "source": [
    "fire_fa_tm['fortypnm_gp'].unique()"
   ]
  },
  {
   "cell_type": "code",
   "execution_count": null,
   "id": "29b148bc-41f6-4233-b2c1-2d9c93c1108a",
   "metadata": {},
   "outputs": [],
   "source": [
    "# check how many grids have aspen/lodgepole FORTYPCD\n",
    "lodgepole_grids = fire_fa_tm[fire_fa_tm['fortypnm_gp'] == 'Lodgepole']['grid_id'].unique()\n",
    "aspen_grids = fire_fa_tm[fire_fa_tm['fortypnm_gp'] == 'Quaking aspen']['grid_id'].unique()\n",
    "# find common grids\n",
    "common_grids = set(lodgepole_grids) & set(aspen_grids)\n",
    "df_cooccur = fire_fa_tm[fire_fa_tm['grid_id'].isin(common_grids)]\n",
    "print(f\"\\n[{len(df_cooccur['grid_id'].unique())}] future fire grids with any aspen & lodgepole.\")"
   ]
  },
  {
   "cell_type": "markdown",
   "id": "333c51aa-314b-49e3-9d31-9dd0d4a9503a",
   "metadata": {},
   "source": [
    "### Tree Table"
   ]
  },
  {
   "cell_type": "code",
   "execution_count": null,
   "id": "2f23b6f0-90d7-4344-871c-d1e68901b22b",
   "metadata": {},
   "outputs": [],
   "source": [
    "# Load the TreeMap (ca. 2016)\n",
    "# Pixel values here denote the FIA plot ID (\"tm_id\")\n",
    "# see '04a_TreeMap_FIA-Prep.ipynb'\n",
    "# fp = os.path.join(maindir,'data/landcover/USFS/RDS_TreeMap/TreeMap2016.tif') # tm_id band\n",
    "fp = os.path.join(projdir, \"data/spatial/mod/USFS/TreeMap_2016_TMID_FORTYPCD.tif\") # multi-band\n",
    "treemap_da = rxr.open_rasterio(fp, masked=True, cache=False).squeeze()\n",
    "tmid_da = treemap_da.sel(band=1) # the \"tm_id\" band\n",
    "\n",
    "# Grab some raster metadata from one of the layers\n",
    "shp, gt, wkt, nd = tmid_da.shape, tmid_da.spatial_ref.GeoTransform, tmid_da.rio.crs, tmid_da.rio.nodata\n",
    "print(\n",
    "    f\"Shape: {shp}; \\n\"\n",
    "    f\"GeoTransform: {gt}; \\n\"\n",
    "    f\"WKT: {wkt}; \\n\"\n",
    "    f\"NoData Value: {nd}; \\n\"\n",
    "    f\"Data Type: {tmid_da[0].dtype}\")\n",
    "\n",
    "del treemap_da\n",
    "gc.collect()"
   ]
  },
  {
   "cell_type": "code",
   "execution_count": null,
   "id": "952dfaeb-7f81-46c0-82a5-94c87f1f26e4",
   "metadata": {},
   "outputs": [],
   "source": [
    "# get the count/proportion of unique \"tm_id\" from TreeMap in grids\n",
    "t0 = time.time()\n",
    "\n",
    "# see __functions.py\n",
    "grid_trees = compute_band_stats(grid, tmid_da, 'grid_idx', attr='tm_id')\n",
    "\n",
    "# tidy columns in the summary table\n",
    "grid_trees['count'] = grid_trees['count'].astype(int)\n",
    "grid_trees['total_pixels'] = grid_trees['total_pixels'].astype(int)\n",
    "grid_trees.rename(columns={\n",
    "    'count': 'tmid_count',\n",
    "    'pct_cover': 'tmid_pct'\n",
    "}, inplace=True)\n",
    "\n",
    "# load the TreeMap Tree Table\n",
    "fp = os.path.join(maindir,'data/landcover/USFS/RDS_TreeMap/TreeMap2016_tree_table.csv')\n",
    "tree_tbl = pd.read_csv(fp)\n",
    "print(tree_tbl.columns)\n",
    "\n",
    "# join the Tree Table to the grid data\n",
    "grid_trees = grid_trees.merge(tree_tbl, on='tm_id', how='left')\n",
    "print(f\"\\n{grid_trees.head(12)}\")\n",
    "\n",
    "t1 = (time.time() - t0) / 60\n",
    "print(f\"\\nTotal elapsed time: {t1:.2f} minutes.\")\n",
    "print(\"\\n~~~~~~~~~~\\n\")\n",
    "\n",
    "del tmid_da, tree_tbl # clean up \n",
    "gc.collect()"
   ]
  },
  {
   "cell_type": "code",
   "execution_count": null,
   "id": "86a1575d-a286-4c30-ad7c-6f1623572a07",
   "metadata": {},
   "outputs": [],
   "source": [
    "# Calculate the Tree Table statistics across tm_id/grid_index combinations\n",
    "#### Abundance (trees/acre, scaled to per-pixel)\n",
    "#### Dominance (live basal area, scaled to per-pixel)\n",
    "#### Tree height (average/species)\n",
    "#### Tree diameter (average/species)\n",
    "#### Quadratic mean diameter (QMD)\n",
    "\n",
    "# force species name to lower case\n",
    "grid_trees.rename(columns={'COMMON_NAME': 'species'}, inplace=True)\n",
    "grid_trees['species'] = grid_trees['species'].str.lower()\n",
    "# tidy the live/dead column\n",
    "grid_trees['live_dead'] = (grid_trees['STATUSCD'] == 1).astype(int)\n",
    "# add a tree/pixel based on scaling factor\n",
    "grid_trees['tpp_unadj'] = grid_trees['TPA_UNADJ'] * 0.222395\n",
    "# calculate live basal area (balive) scaled by TPA\n",
    "grid_trees['BA'] = np.pi * (grid_trees['DIA'] / 2) ** 2  # Basal area in square feet\n",
    "grid_trees['BA_TPAsc'] = grid_trees['BA'] * grid_trees['tpp_unadj']  # adjust based on tree abundance\n",
    "\n",
    "# group by grid_index and plot identifier (tm_id)\n",
    "# calculate statistics for live/dead seperately\n",
    "# merge into a single dataframe\n",
    "\n",
    "# live trees\n",
    "live_metrics = (\n",
    "    grid_trees[grid_trees['live_dead'] == 1]\n",
    "    .groupby(['grid_idx', 'tm_id', 'species'], as_index=False)\n",
    "    .agg(\n",
    "        # grid-level attributes\n",
    "        tmid_pixels=('tmid_count','max'), # retains the tm_id pixel count\n",
    "        tmid_pct=('tmid_pct','max'), # retain the percent of forested area\n",
    "        # calculate species-level attributes\n",
    "        tpp_live=('tpp_unadj','sum'), # sum of the trees/pixel\n",
    "        ba_live=('BA_TPAsc', 'sum'),    # total BALIVE\n",
    "        tree_ht_live=('HT','mean'), # average tree height\n",
    "        tree_dia_live=('DIA','mean') # average diameter\n",
    "    )\n",
    ")\n",
    "\n",
    "# dead trees\n",
    "dead_metrics = (\n",
    "    grid_trees[grid_trees['live_dead'] == 0]\n",
    "    .groupby(['grid_idx', 'tm_id', 'species'], as_index=False)\n",
    "    .agg(\n",
    "        tpp_dead=('tpp_unadj','sum'), # sum of the trees/pixel\n",
    "        ba_dead=('BA_TPAsc', 'sum'),    # Live basal area\n",
    "        tree_ht_dead=('HT','mean'), # average tree height\n",
    "        tree_dia_dead=('DIA','mean') # average diameter\n",
    "    )\n",
    ")\n",
    "\n",
    "# combine live/dead balive\n",
    "tree_metrics = live_metrics.merge(\n",
    "    dead_metrics, \n",
    "    on=['grid_idx', 'tm_id', 'species'], \n",
    "    how='outer'\n",
    ").fillna(0)\n",
    "\n",
    "# subset to the tree metric columns\n",
    "tree_metrics = tree_metrics[[\n",
    "    'grid_idx','tm_id','tmid_pixels','tmid_pct','species',\n",
    "    'ba_live','ba_dead', # basal area\n",
    "    'tpp_live','tpp_dead', # trees/pixel\n",
    "    'tree_ht_live','tree_ht_dead', # tree height\n",
    "    'tree_dia_live','tree_dia_dead' # tree diameter\n",
    "]] \n",
    "\n",
    "# Add Quadratic Mean Diameter (QMD) for live and dead trees\n",
    "# calculated as 'QMD = sqrt( (Basal Area per Acre / Trees per Acre) / 0.005454 )'\n",
    "# https://www.fs.usda.gov/Internet/FSE_DOCUMENTS/stelprdb5413736.pdf\n",
    "tree_metrics['qmd_live'] = np.where(\n",
    "    tree_metrics['tpp_live'] > 0, \n",
    "    np.sqrt(tree_metrics['ba_live'] / (tree_metrics['tpp_live'] * 0.005454)), 0\n",
    ")\n",
    "tree_metrics['qmd_dead'] = np.where(\n",
    "    tree_metrics['tpp_dead'] > 0, \n",
    "    np.sqrt(tree_metrics['ba_dead'] / (tree_metrics['tpp_dead'] * 0.005454)), 0\n",
    ")\n",
    "\n",
    "# Add combined (live + dead)\n",
    "tree_metrics['tpp_ld'] = tree_metrics['tpp_live'] + tree_metrics['tpp_dead']\n",
    "tree_metrics['ba_ld'] = tree_metrics['ba_live'] + tree_metrics['ba_dead']\n",
    "tree_metrics['qmd_ld'] = tree_metrics['qmd_live'] + tree_metrics['qmd_dead']\n",
    "\n",
    "# add in forest percent by grid\n",
    "tree_metrics = tree_metrics.merge(\n",
    "    grid[['grid_idx','forest_pixels','forest_pct']], \n",
    "    on='grid_idx', \n",
    "    how='left'\n",
    ")\n",
    "\n",
    "# filter out any rows with missing information\n",
    "tree_metrics = tree_metrics[tree_metrics['tmid_pixels'] > 0]\n",
    "print(f\"\\n{tree_metrics.head(12)}\\n\")\n",
    "del live_metrics, dead_metrics, grid_trees\n",
    "gc.collect()"
   ]
  },
  {
   "cell_type": "code",
   "execution_count": null,
   "id": "dd336ec4-f992-4c55-8409-188dfb144b9c",
   "metadata": {},
   "outputs": [],
   "source": [
    "# gather the unique species present\n",
    "unique_spp = tree_metrics['species'].unique()\n",
    "unique_spp"
   ]
  },
  {
   "cell_type": "code",
   "execution_count": null,
   "id": "3e4f974c-9583-4bb8-990d-f16844bf3150",
   "metadata": {},
   "outputs": [],
   "source": []
  },
  {
   "cell_type": "code",
   "execution_count": null,
   "id": "cdd6dc0d-c661-435f-8939-1981f3fe4bed",
   "metadata": {},
   "outputs": [],
   "source": []
  },
  {
   "cell_type": "code",
   "execution_count": null,
   "id": "efde198c-118b-4521-a6b9-fb6bbafa2d1f",
   "metadata": {},
   "outputs": [],
   "source": []
  }
 ],
 "metadata": {
  "kernelspec": {
   "display_name": "aspen-fire",
   "language": "python",
   "name": "aspen-fire"
  },
  "language_info": {
   "codemirror_mode": {
    "name": "ipython",
    "version": 3
   },
   "file_extension": ".py",
   "mimetype": "text/x-python",
   "name": "python",
   "nbconvert_exporter": "python",
   "pygments_lexer": "ipython3",
   "version": "3.10.12"
  }
 },
 "nbformat": 4,
 "nbformat_minor": 5
}
