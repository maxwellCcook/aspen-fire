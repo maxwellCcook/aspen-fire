{
 "cells": [
  {
   "cell_type": "code",
   "execution_count": 17,
   "id": "e7393824-b719-401f-9e59-bbe9efcbe357",
   "metadata": {},
   "outputs": [
    {
     "name": "stdout",
     "output_type": "stream",
     "text": [
      "Ready to go !\n"
     ]
    }
   ],
   "source": [
    "\"\"\"\n",
    "Analysis of future fire probability for the Southern Rockies\n",
    "\n",
    "Author: maxwell.cook@colorado.edu\n",
    "\"\"\"\n",
    "\n",
    "import os, sys, time\n",
    "import geopandas as gpd\n",
    "\n",
    "from sklearn.linear_model import TheilSenRegressor\n",
    "from tqdm.notebook import tqdm\n",
    "\n",
    "# Custom functions\n",
    "sys.path.append(os.path.join(maindir,'aspen-fire/Aim2/code/Python'))\n",
    "from __functions import *\n",
    "\n",
    "# Environment variables\n",
    "maindir = '/Users/max/Library/CloudStorage/OneDrive-Personal/mcook/'\n",
    "projdir = os.path.join(maindir, 'aspen-fire/')\n",
    "\n",
    "proj = 'EPSG:5070' # albers equal area\n",
    "\n",
    "print(\"Ready to go !\")"
   ]
  },
  {
   "cell_type": "markdown",
   "id": "e97ad4be-7c66-44be-b982-640c69ced7e7",
   "metadata": {},
   "source": [
    "## Future Fire\n",
    "\n",
    "From \"Fires of Unusual Size\", load and process the annual projected fire activity (area burned and fire counts). Process the grid outputs (geospatial vector format) which can serve as the analystical unit for the remainder of the analysis. Subset grids to Southern Rockies Level III ecoregion. Once merged, tidy the dataframe and set up the median-based linear model (MBLM) to retrieve the trend in area burned and fire counts."
   ]
  },
  {
   "cell_type": "code",
   "execution_count": 2,
   "id": "df7543ea-6756-4f63-ae71-dbb3a5b5e498",
   "metadata": {},
   "outputs": [
    {
     "name": "stdout",
     "output_type": "stream",
     "text": [
      "Total grids: 37\n",
      "\n"
     ]
    },
    {
     "data": {
      "application/vnd.jupyter.widget-view+json": {
       "model_id": "77c937a51224462997124a8e36b1ac7c",
       "version_major": 2,
       "version_minor": 0
      },
      "text/plain": [
       "  0%|          | 0/37 [00:00<?, ?it/s]"
      ]
     },
     "metadata": {},
     "output_type": "display_data"
    },
    {
     "data": {
      "text/plain": [
       "Index(['values', 'grid_id', 'US_L4NAME', 'US_L4CODE', 'US_L3CODE', 'US_L3NAME',\n",
       "       'NA_L3CODE', 'NA_L3NAME', 'NA_L2CODE', 'NA_L2NAME', 'NA_L1CODE',\n",
       "       'NA_L1NAME', 'L4_KEY', 'L3_KEY', 'L2_KEY', 'L1_KEY', 'Shape_Leng',\n",
       "       'Shape_Area', 'Year', 'En_Area', 'En_NFire', 'geometry'],\n",
       "      dtype='object')"
      ]
     },
     "execution_count": 2,
     "metadata": {},
     "output_type": "execute_result"
    }
   ],
   "source": [
    "# load the future fire probability annual data\n",
    "fp = os.path.join(projdir,'Aim3/data/spatial/raw/future-fire/CNRM/')\n",
    "grids = list_files(fp, '*.shp', recursive = True)\n",
    "print(f\"Total grids: {len(grids)}\\n\")\n",
    "\n",
    "# Read the files into a list\n",
    "gdfs = []\n",
    "with tqdm(grids, total=len(grids)) as pbar:\n",
    "    for grid in pbar:\n",
    "        pbar.set_description(f\"Processing [{os.path.basename(grid)[:-4]}]\")\n",
    "        gdf = gpd.read_file(grid)\n",
    "        gdf = gdf[gdf['NA_L3NAME'] == 'Southern Rockies']\n",
    "        gdfs.append(gdf)\n",
    "\n",
    "# grab the crs\n",
    "crs = gdfs[0].crs\n",
    "\n",
    "# Merge all into a single GeoDataFrame\n",
    "future_fire = gpd.GeoDataFrame(pd.concat(gdfs, ignore_index=True), crs=crs)\n",
    "future_fire.columns"
   ]
  },
  {
   "cell_type": "code",
   "execution_count": 4,
   "id": "92c560ae-e7e4-4801-afc5-b33311de6836",
   "metadata": {},
   "outputs": [
    {
     "data": {
      "text/html": [
       "<div>\n",
       "<style scoped>\n",
       "    .dataframe tbody tr th:only-of-type {\n",
       "        vertical-align: middle;\n",
       "    }\n",
       "\n",
       "    .dataframe tbody tr th {\n",
       "        vertical-align: top;\n",
       "    }\n",
       "\n",
       "    .dataframe thead th {\n",
       "        text-align: right;\n",
       "    }\n",
       "</style>\n",
       "<table border=\"1\" class=\"dataframe\">\n",
       "  <thead>\n",
       "    <tr style=\"text-align: right;\">\n",
       "      <th></th>\n",
       "      <th>values</th>\n",
       "      <th>grid_id</th>\n",
       "      <th>US_L4NAME</th>\n",
       "      <th>US_L4CODE</th>\n",
       "      <th>US_L3CODE</th>\n",
       "      <th>US_L3NAME</th>\n",
       "      <th>NA_L3CODE</th>\n",
       "      <th>NA_L3NAME</th>\n",
       "      <th>NA_L2CODE</th>\n",
       "      <th>NA_L2NAME</th>\n",
       "      <th>...</th>\n",
       "      <th>L4_KEY</th>\n",
       "      <th>L3_KEY</th>\n",
       "      <th>L2_KEY</th>\n",
       "      <th>L1_KEY</th>\n",
       "      <th>Shape_Leng</th>\n",
       "      <th>Shape_Area</th>\n",
       "      <th>Year</th>\n",
       "      <th>En_Area</th>\n",
       "      <th>En_NFire</th>\n",
       "      <th>geometry</th>\n",
       "    </tr>\n",
       "  </thead>\n",
       "  <tbody>\n",
       "    <tr>\n",
       "      <th>0</th>\n",
       "      <td>0.0</td>\n",
       "      <td>159230.0</td>\n",
       "      <td>Foothill Shrublands</td>\n",
       "      <td>21d</td>\n",
       "      <td>21</td>\n",
       "      <td>Southern Rockies</td>\n",
       "      <td>6.2.14</td>\n",
       "      <td>Southern Rockies</td>\n",
       "      <td>6.2</td>\n",
       "      <td>WESTERN CORDILLERA</td>\n",
       "      <td>...</td>\n",
       "      <td>21d  Foothill Shrublands</td>\n",
       "      <td>21  Southern Rockies</td>\n",
       "      <td>6.2  WESTERN CORDILLERA</td>\n",
       "      <td>6  NORTHWESTERN FORESTED MOUNTAINS</td>\n",
       "      <td>1.597635e+06</td>\n",
       "      <td>7.271793e+09</td>\n",
       "      <td>2049.0</td>\n",
       "      <td>22744.632243</td>\n",
       "      <td>2.055556</td>\n",
       "      <td>POLYGON ((-106.61317 42.78435, -106.57317 42.7...</td>\n",
       "    </tr>\n",
       "    <tr>\n",
       "      <th>1</th>\n",
       "      <td>0.0</td>\n",
       "      <td>159231.0</td>\n",
       "      <td>Foothill Shrublands</td>\n",
       "      <td>21d</td>\n",
       "      <td>21</td>\n",
       "      <td>Southern Rockies</td>\n",
       "      <td>6.2.14</td>\n",
       "      <td>Southern Rockies</td>\n",
       "      <td>6.2</td>\n",
       "      <td>WESTERN CORDILLERA</td>\n",
       "      <td>...</td>\n",
       "      <td>21d  Foothill Shrublands</td>\n",
       "      <td>21  Southern Rockies</td>\n",
       "      <td>6.2  WESTERN CORDILLERA</td>\n",
       "      <td>6  NORTHWESTERN FORESTED MOUNTAINS</td>\n",
       "      <td>1.597635e+06</td>\n",
       "      <td>7.271793e+09</td>\n",
       "      <td>2049.0</td>\n",
       "      <td>22744.632243</td>\n",
       "      <td>2.055556</td>\n",
       "      <td>POLYGON ((-106.57317 42.78435, -106.53317 42.7...</td>\n",
       "    </tr>\n",
       "    <tr>\n",
       "      <th>2</th>\n",
       "      <td>0.0</td>\n",
       "      <td>159232.0</td>\n",
       "      <td>Foothill Shrublands</td>\n",
       "      <td>21d</td>\n",
       "      <td>21</td>\n",
       "      <td>Southern Rockies</td>\n",
       "      <td>6.2.14</td>\n",
       "      <td>Southern Rockies</td>\n",
       "      <td>6.2</td>\n",
       "      <td>WESTERN CORDILLERA</td>\n",
       "      <td>...</td>\n",
       "      <td>21d  Foothill Shrublands</td>\n",
       "      <td>21  Southern Rockies</td>\n",
       "      <td>6.2  WESTERN CORDILLERA</td>\n",
       "      <td>6  NORTHWESTERN FORESTED MOUNTAINS</td>\n",
       "      <td>1.597635e+06</td>\n",
       "      <td>7.271793e+09</td>\n",
       "      <td>2049.0</td>\n",
       "      <td>22744.632243</td>\n",
       "      <td>2.055556</td>\n",
       "      <td>POLYGON ((-106.53317 42.78435, -106.49317 42.7...</td>\n",
       "    </tr>\n",
       "    <tr>\n",
       "      <th>3</th>\n",
       "      <td>0.0</td>\n",
       "      <td>159233.0</td>\n",
       "      <td>Crystalline Mid-Elevation Forests</td>\n",
       "      <td>21c</td>\n",
       "      <td>21</td>\n",
       "      <td>Southern Rockies</td>\n",
       "      <td>6.2.14</td>\n",
       "      <td>Southern Rockies</td>\n",
       "      <td>6.2</td>\n",
       "      <td>WESTERN CORDILLERA</td>\n",
       "      <td>...</td>\n",
       "      <td>21c  Crystalline Mid-Elevation Forests</td>\n",
       "      <td>21  Southern Rockies</td>\n",
       "      <td>6.2  WESTERN CORDILLERA</td>\n",
       "      <td>6  NORTHWESTERN FORESTED MOUNTAINS</td>\n",
       "      <td>6.022792e+04</td>\n",
       "      <td>1.441915e+08</td>\n",
       "      <td>2049.0</td>\n",
       "      <td>84116.649792</td>\n",
       "      <td>4.498282</td>\n",
       "      <td>POLYGON ((-106.49317 42.78435, -106.45317 42.7...</td>\n",
       "    </tr>\n",
       "    <tr>\n",
       "      <th>4</th>\n",
       "      <td>0.0</td>\n",
       "      <td>159233.0</td>\n",
       "      <td>Foothill Shrublands</td>\n",
       "      <td>21d</td>\n",
       "      <td>21</td>\n",
       "      <td>Southern Rockies</td>\n",
       "      <td>6.2.14</td>\n",
       "      <td>Southern Rockies</td>\n",
       "      <td>6.2</td>\n",
       "      <td>WESTERN CORDILLERA</td>\n",
       "      <td>...</td>\n",
       "      <td>21d  Foothill Shrublands</td>\n",
       "      <td>21  Southern Rockies</td>\n",
       "      <td>6.2  WESTERN CORDILLERA</td>\n",
       "      <td>6  NORTHWESTERN FORESTED MOUNTAINS</td>\n",
       "      <td>1.597635e+06</td>\n",
       "      <td>7.271793e+09</td>\n",
       "      <td>2049.0</td>\n",
       "      <td>22744.632243</td>\n",
       "      <td>2.055556</td>\n",
       "      <td>POLYGON ((-106.49317 42.78435, -106.45317 42.7...</td>\n",
       "    </tr>\n",
       "  </tbody>\n",
       "</table>\n",
       "<p>5 rows × 22 columns</p>\n",
       "</div>"
      ],
      "text/plain": [
       "   values   grid_id                          US_L4NAME US_L4CODE US_L3CODE  \\\n",
       "0     0.0  159230.0                Foothill Shrublands       21d        21   \n",
       "1     0.0  159231.0                Foothill Shrublands       21d        21   \n",
       "2     0.0  159232.0                Foothill Shrublands       21d        21   \n",
       "3     0.0  159233.0  Crystalline Mid-Elevation Forests       21c        21   \n",
       "4     0.0  159233.0                Foothill Shrublands       21d        21   \n",
       "\n",
       "          US_L3NAME NA_L3CODE         NA_L3NAME NA_L2CODE           NA_L2NAME  \\\n",
       "0  Southern Rockies    6.2.14  Southern Rockies       6.2  WESTERN CORDILLERA   \n",
       "1  Southern Rockies    6.2.14  Southern Rockies       6.2  WESTERN CORDILLERA   \n",
       "2  Southern Rockies    6.2.14  Southern Rockies       6.2  WESTERN CORDILLERA   \n",
       "3  Southern Rockies    6.2.14  Southern Rockies       6.2  WESTERN CORDILLERA   \n",
       "4  Southern Rockies    6.2.14  Southern Rockies       6.2  WESTERN CORDILLERA   \n",
       "\n",
       "   ...                                  L4_KEY                L3_KEY  \\\n",
       "0  ...                21d  Foothill Shrublands  21  Southern Rockies   \n",
       "1  ...                21d  Foothill Shrublands  21  Southern Rockies   \n",
       "2  ...                21d  Foothill Shrublands  21  Southern Rockies   \n",
       "3  ...  21c  Crystalline Mid-Elevation Forests  21  Southern Rockies   \n",
       "4  ...                21d  Foothill Shrublands  21  Southern Rockies   \n",
       "\n",
       "                    L2_KEY                              L1_KEY    Shape_Leng  \\\n",
       "0  6.2  WESTERN CORDILLERA  6  NORTHWESTERN FORESTED MOUNTAINS  1.597635e+06   \n",
       "1  6.2  WESTERN CORDILLERA  6  NORTHWESTERN FORESTED MOUNTAINS  1.597635e+06   \n",
       "2  6.2  WESTERN CORDILLERA  6  NORTHWESTERN FORESTED MOUNTAINS  1.597635e+06   \n",
       "3  6.2  WESTERN CORDILLERA  6  NORTHWESTERN FORESTED MOUNTAINS  6.022792e+04   \n",
       "4  6.2  WESTERN CORDILLERA  6  NORTHWESTERN FORESTED MOUNTAINS  1.597635e+06   \n",
       "\n",
       "     Shape_Area    Year       En_Area  En_NFire  \\\n",
       "0  7.271793e+09  2049.0  22744.632243  2.055556   \n",
       "1  7.271793e+09  2049.0  22744.632243  2.055556   \n",
       "2  7.271793e+09  2049.0  22744.632243  2.055556   \n",
       "3  1.441915e+08  2049.0  84116.649792  4.498282   \n",
       "4  7.271793e+09  2049.0  22744.632243  2.055556   \n",
       "\n",
       "                                            geometry  \n",
       "0  POLYGON ((-106.61317 42.78435, -106.57317 42.7...  \n",
       "1  POLYGON ((-106.57317 42.78435, -106.53317 42.7...  \n",
       "2  POLYGON ((-106.53317 42.78435, -106.49317 42.7...  \n",
       "3  POLYGON ((-106.49317 42.78435, -106.45317 42.7...  \n",
       "4  POLYGON ((-106.49317 42.78435, -106.45317 42.7...  \n",
       "\n",
       "[5 rows x 22 columns]"
      ]
     },
     "execution_count": 4,
     "metadata": {},
     "output_type": "execute_result"
    }
   ],
   "source": [
    "future_fire.head()"
   ]
  },
  {
   "cell_type": "code",
   "execution_count": 6,
   "id": "ec455bb7-36b9-4423-b073-b701d4d6f61c",
   "metadata": {},
   "outputs": [
    {
     "data": {
      "text/plain": [
       "array(['Foothill Shrublands', 'Crystalline Mid-Elevation Forests',\n",
       "       'Crystalline Subalpine Forests', 'Alpine Zone',\n",
       "       'Sedimentary Mid-Elevation Forests',\n",
       "       'Sedimentary Subalpine Forests', 'Sagebrush Parks',\n",
       "       'Volcanic Subalpine Forests', 'Grassland Parks',\n",
       "       'Volcanic Mid-Elevation Forests'], dtype=object)"
      ]
     },
     "execution_count": 6,
     "metadata": {},
     "output_type": "execute_result"
    }
   ],
   "source": [
    "future_fire['US_L4NAME'].unique()"
   ]
  },
  {
   "cell_type": "code",
   "execution_count": 7,
   "id": "427c8fba-f5f8-4594-ac25-e11e7a1c4579",
   "metadata": {},
   "outputs": [
    {
     "data": {
      "text/plain": [
       "<Geographic 2D CRS: EPSG:4326>\n",
       "Name: WGS 84\n",
       "Axis Info [ellipsoidal]:\n",
       "- Lat[north]: Geodetic latitude (degree)\n",
       "- Lon[east]: Geodetic longitude (degree)\n",
       "Area of Use:\n",
       "- name: World.\n",
       "- bounds: (-180.0, -90.0, 180.0, 90.0)\n",
       "Datum: World Geodetic System 1984 ensemble\n",
       "- Ellipsoid: WGS 84\n",
       "- Prime Meridian: Greenwich"
      ]
     },
     "execution_count": 7,
     "metadata": {},
     "output_type": "execute_result"
    }
   ],
   "source": [
    "future_fire.crs"
   ]
  },
  {
   "cell_type": "code",
   "execution_count": 8,
   "id": "80955343-4a2e-4e2b-8a0b-10bb95f9e7ae",
   "metadata": {},
   "outputs": [
    {
     "data": {
      "text/plain": [
       "<Projected CRS: EPSG:5070>\n",
       "Name: NAD83 / Conus Albers\n",
       "Axis Info [cartesian]:\n",
       "- X[east]: Easting (metre)\n",
       "- Y[north]: Northing (metre)\n",
       "Area of Use:\n",
       "- name: United States (USA) - CONUS onshore - Alabama; Arizona; Arkansas; California; Colorado; Connecticut; Delaware; Florida; Georgia; Idaho; Illinois; Indiana; Iowa; Kansas; Kentucky; Louisiana; Maine; Maryland; Massachusetts; Michigan; Minnesota; Mississippi; Missouri; Montana; Nebraska; Nevada; New Hampshire; New Jersey; New Mexico; New York; North Carolina; North Dakota; Ohio; Oklahoma; Oregon; Pennsylvania; Rhode Island; South Carolina; South Dakota; Tennessee; Texas; Utah; Vermont; Virginia; Washington; West Virginia; Wisconsin; Wyoming.\n",
       "- bounds: (-124.79, 24.41, -66.91, 49.38)\n",
       "Coordinate Operation:\n",
       "- name: Conus Albers\n",
       "- method: Albers Equal Area\n",
       "Datum: North American Datum 1983\n",
       "- Ellipsoid: GRS 1980\n",
       "- Prime Meridian: Greenwich"
      ]
     },
     "execution_count": 8,
     "metadata": {},
     "output_type": "execute_result"
    }
   ],
   "source": [
    "future_fire = future_fire.to_crs(proj) # reproject\n",
    "future_fire.crs"
   ]
  },
  {
   "cell_type": "code",
   "execution_count": 10,
   "id": "5c5b69eb-628c-4232-a682-789ab43eb5ac",
   "metadata": {},
   "outputs": [
    {
     "data": {
      "text/html": [
       "<div>\n",
       "<style scoped>\n",
       "    .dataframe tbody tr th:only-of-type {\n",
       "        vertical-align: middle;\n",
       "    }\n",
       "\n",
       "    .dataframe tbody tr th {\n",
       "        vertical-align: top;\n",
       "    }\n",
       "\n",
       "    .dataframe thead th {\n",
       "        text-align: right;\n",
       "    }\n",
       "</style>\n",
       "<table border=\"1\" class=\"dataframe\">\n",
       "  <thead>\n",
       "    <tr style=\"text-align: right;\">\n",
       "      <th></th>\n",
       "      <th>grid_id</th>\n",
       "      <th>NA_L3NAME</th>\n",
       "      <th>US_L4NAME</th>\n",
       "      <th>US_L4CODE</th>\n",
       "      <th>Year</th>\n",
       "      <th>En_Area</th>\n",
       "      <th>En_NFire</th>\n",
       "      <th>geometry</th>\n",
       "    </tr>\n",
       "  </thead>\n",
       "  <tbody>\n",
       "    <tr>\n",
       "      <th>0</th>\n",
       "      <td>159230</td>\n",
       "      <td>Southern Rockies</td>\n",
       "      <td>Foothill Shrublands</td>\n",
       "      <td>21d</td>\n",
       "      <td>2049</td>\n",
       "      <td>22744.632243</td>\n",
       "      <td>2.055556</td>\n",
       "      <td>POLYGON ((-861518.632 2246765.246, -858285.087...</td>\n",
       "    </tr>\n",
       "    <tr>\n",
       "      <th>1</th>\n",
       "      <td>159231</td>\n",
       "      <td>Southern Rockies</td>\n",
       "      <td>Foothill Shrublands</td>\n",
       "      <td>21d</td>\n",
       "      <td>2049</td>\n",
       "      <td>22744.632243</td>\n",
       "      <td>2.055556</td>\n",
       "      <td>POLYGON ((-858285.087 2246403.307, -855051.389...</td>\n",
       "    </tr>\n",
       "    <tr>\n",
       "      <th>2</th>\n",
       "      <td>159232</td>\n",
       "      <td>Southern Rockies</td>\n",
       "      <td>Foothill Shrublands</td>\n",
       "      <td>21d</td>\n",
       "      <td>2049</td>\n",
       "      <td>22744.632243</td>\n",
       "      <td>2.055556</td>\n",
       "      <td>POLYGON ((-855051.389 2246042.730, -851817.539...</td>\n",
       "    </tr>\n",
       "    <tr>\n",
       "      <th>3</th>\n",
       "      <td>159233</td>\n",
       "      <td>Southern Rockies</td>\n",
       "      <td>Crystalline Mid-Elevation Forests</td>\n",
       "      <td>21c</td>\n",
       "      <td>2049</td>\n",
       "      <td>84116.649792</td>\n",
       "      <td>4.498282</td>\n",
       "      <td>POLYGON ((-851817.539 2245683.513, -848583.540...</td>\n",
       "    </tr>\n",
       "    <tr>\n",
       "      <th>4</th>\n",
       "      <td>159233</td>\n",
       "      <td>Southern Rockies</td>\n",
       "      <td>Foothill Shrublands</td>\n",
       "      <td>21d</td>\n",
       "      <td>2049</td>\n",
       "      <td>22744.632243</td>\n",
       "      <td>2.055556</td>\n",
       "      <td>POLYGON ((-851817.539 2245683.513, -848583.540...</td>\n",
       "    </tr>\n",
       "  </tbody>\n",
       "</table>\n",
       "</div>"
      ],
      "text/plain": [
       "   grid_id         NA_L3NAME                          US_L4NAME US_L4CODE  \\\n",
       "0   159230  Southern Rockies                Foothill Shrublands       21d   \n",
       "1   159231  Southern Rockies                Foothill Shrublands       21d   \n",
       "2   159232  Southern Rockies                Foothill Shrublands       21d   \n",
       "3   159233  Southern Rockies  Crystalline Mid-Elevation Forests       21c   \n",
       "4   159233  Southern Rockies                Foothill Shrublands       21d   \n",
       "\n",
       "   Year       En_Area  En_NFire  \\\n",
       "0  2049  22744.632243  2.055556   \n",
       "1  2049  22744.632243  2.055556   \n",
       "2  2049  22744.632243  2.055556   \n",
       "3  2049  84116.649792  4.498282   \n",
       "4  2049  22744.632243  2.055556   \n",
       "\n",
       "                                            geometry  \n",
       "0  POLYGON ((-861518.632 2246765.246, -858285.087...  \n",
       "1  POLYGON ((-858285.087 2246403.307, -855051.389...  \n",
       "2  POLYGON ((-855051.389 2246042.730, -851817.539...  \n",
       "3  POLYGON ((-851817.539 2245683.513, -848583.540...  \n",
       "4  POLYGON ((-851817.539 2245683.513, -848583.540...  "
      ]
     },
     "execution_count": 10,
     "metadata": {},
     "output_type": "execute_result"
    }
   ],
   "source": [
    "future_fire_ = future_fire[['grid_id','NA_L3NAME','US_L4NAME','US_L4CODE','Year','En_Area','En_NFire','geometry']]\n",
    "future_fire_['grid_id'] = future_fire_.grid_id.astype(int)\n",
    "future_fire_['Year'] = future_fire_.Year.astype(int)\n",
    "future_fire_.head()"
   ]
  },
  {
   "cell_type": "code",
   "execution_count": 14,
   "id": "577023de-9afe-44e2-bc96-b321cadc289b",
   "metadata": {},
   "outputs": [
    {
     "name": "stdout",
     "output_type": "stream",
     "text": [
      "2023\n",
      "2060\n"
     ]
    }
   ],
   "source": [
    "print(future_fire_['Year'].min())\n",
    "print(future_fire_['Year'].max())"
   ]
  },
  {
   "cell_type": "code",
   "execution_count": 18,
   "id": "11ed5b77-fd89-4a6c-b694-eb2dd5e04c73",
   "metadata": {},
   "outputs": [
    {
     "data": {
      "text/plain": [
       "count    117387.000000\n",
       "mean          1.187936\n",
       "std           0.521148\n",
       "min           0.513173\n",
       "25%           0.743414\n",
       "50%           1.085911\n",
       "75%           1.595074\n",
       "max           2.540664\n",
       "Name: En_NFire, dtype: float64"
      ]
     },
     "execution_count": 18,
     "metadata": {},
     "output_type": "execute_result"
    }
   ],
   "source": [
    "future_fire_[future_fire_['US_L4CODE'] == '21d']['En_NFire'].describe()"
   ]
  },
  {
   "cell_type": "code",
   "execution_count": 32,
   "id": "1fee39c0-73f8-4b21-8ce3-2f93574233e8",
   "metadata": {},
   "outputs": [
    {
     "name": "stdout",
     "output_type": "stream",
     "text": [
      "Saved to: /Users/max/Library/CloudStorage/OneDrive-Personal/mcook/aspen-fire/Aim3/data/spatial/mod/future_fire_grid.gpkg\n"
     ]
    }
   ],
   "source": [
    "# save a spatial dataframe (no duplicates)\n",
    "fire_grid = future_fire_.drop_duplicates(subset=['grid_id','NA_L3NAME','US_L4NAME','US_L4CODE'])\n",
    "fire_grid = fire_grid[['grid_id','NA_L3NAME','US_L4NAME','US_L4CODE','geometry']]\n",
    "# Export this spatial dataframe\n",
    "out_fp = os.path.join(projdir,'Aim3/data/spatial/mod/future_fire_grid.gpkg')\n",
    "fire_grid.to_file(out_fp)\n",
    "print(f\"Saved to: {out_fp}\")"
   ]
  },
  {
   "cell_type": "code",
   "execution_count": 21,
   "id": "47353a1c-fe74-4914-8772-3660c627e4a8",
   "metadata": {},
   "outputs": [
    {
     "data": {
      "text/html": [
       "<div>\n",
       "<style scoped>\n",
       "    .dataframe tbody tr th:only-of-type {\n",
       "        vertical-align: middle;\n",
       "    }\n",
       "\n",
       "    .dataframe tbody tr th {\n",
       "        vertical-align: top;\n",
       "    }\n",
       "\n",
       "    .dataframe thead th {\n",
       "        text-align: right;\n",
       "    }\n",
       "</style>\n",
       "<table border=\"1\" class=\"dataframe\">\n",
       "  <thead>\n",
       "    <tr style=\"text-align: right;\">\n",
       "      <th></th>\n",
       "      <th>US_L4CODE</th>\n",
       "      <th>Year</th>\n",
       "      <th>En_Area</th>\n",
       "      <th>En_NFire</th>\n",
       "    </tr>\n",
       "  </thead>\n",
       "  <tbody>\n",
       "    <tr>\n",
       "      <th>0</th>\n",
       "      <td>21a</td>\n",
       "      <td>2023</td>\n",
       "      <td>740.474306</td>\n",
       "      <td>0.073310</td>\n",
       "    </tr>\n",
       "    <tr>\n",
       "      <th>1</th>\n",
       "      <td>21a</td>\n",
       "      <td>2024</td>\n",
       "      <td>560.702556</td>\n",
       "      <td>0.054410</td>\n",
       "    </tr>\n",
       "    <tr>\n",
       "      <th>2</th>\n",
       "      <td>21a</td>\n",
       "      <td>2025</td>\n",
       "      <td>2061.189727</td>\n",
       "      <td>0.161512</td>\n",
       "    </tr>\n",
       "    <tr>\n",
       "      <th>3</th>\n",
       "      <td>21a</td>\n",
       "      <td>2026</td>\n",
       "      <td>816.846677</td>\n",
       "      <td>0.092784</td>\n",
       "    </tr>\n",
       "    <tr>\n",
       "      <th>4</th>\n",
       "      <td>21a</td>\n",
       "      <td>2027</td>\n",
       "      <td>4828.760898</td>\n",
       "      <td>0.309851</td>\n",
       "    </tr>\n",
       "  </tbody>\n",
       "</table>\n",
       "</div>"
      ],
      "text/plain": [
       "  US_L4CODE  Year      En_Area  En_NFire\n",
       "0       21a  2023   740.474306  0.073310\n",
       "1       21a  2024   560.702556  0.054410\n",
       "2       21a  2025  2061.189727  0.161512\n",
       "3       21a  2026   816.846677  0.092784\n",
       "4       21a  2027  4828.760898  0.309851"
      ]
     },
     "execution_count": 21,
     "metadata": {},
     "output_type": "execute_result"
    }
   ],
   "source": [
    "# create a grouped time-series by ecoregion\n",
    "future_fire_eco = (\n",
    "    future_fire_.groupby(['US_L4CODE','Year'], as_index=False)\n",
    "    .agg(\n",
    "        En_Area=('En_Area','mean'),\n",
    "        En_NFire=('En_NFire','mean'),\n",
    "    )\n",
    ")\n",
    "future_fire_eco.head()"
   ]
  },
  {
   "cell_type": "code",
   "execution_count": 23,
   "id": "e3e5d4a6-abe7-4629-924b-e1d02003a23e",
   "metadata": {},
   "outputs": [
    {
     "data": {
      "text/html": [
       "<div>\n",
       "<style scoped>\n",
       "    .dataframe tbody tr th:only-of-type {\n",
       "        vertical-align: middle;\n",
       "    }\n",
       "\n",
       "    .dataframe tbody tr th {\n",
       "        vertical-align: top;\n",
       "    }\n",
       "\n",
       "    .dataframe thead th {\n",
       "        text-align: right;\n",
       "    }\n",
       "</style>\n",
       "<table border=\"1\" class=\"dataframe\">\n",
       "  <thead>\n",
       "    <tr style=\"text-align: right;\">\n",
       "      <th></th>\n",
       "      <th>US_L4CODE</th>\n",
       "      <th>Year</th>\n",
       "      <th>En_Area</th>\n",
       "      <th>En_NFire</th>\n",
       "    </tr>\n",
       "  </thead>\n",
       "  <tbody>\n",
       "    <tr>\n",
       "      <th>137</th>\n",
       "      <td>21d</td>\n",
       "      <td>2049</td>\n",
       "      <td>22744.632243</td>\n",
       "      <td>2.055556</td>\n",
       "    </tr>\n",
       "  </tbody>\n",
       "</table>\n",
       "</div>"
      ],
      "text/plain": [
       "    US_L4CODE  Year       En_Area  En_NFire\n",
       "137       21d  2049  22744.632243  2.055556"
      ]
     },
     "execution_count": 23,
     "metadata": {},
     "output_type": "execute_result"
    }
   ],
   "source": [
    "future_fire_eco[(future_fire_eco['US_L4CODE'] == '21d') & (future_fire_eco['Year'] == 2049)]"
   ]
  },
  {
   "cell_type": "code",
   "execution_count": 24,
   "id": "07144874-97ec-4bfe-97f6-eebae4d4e617",
   "metadata": {},
   "outputs": [
    {
     "name": "stdout",
     "output_type": "stream",
     "text": [
      "\n",
      "No duplicates at this stage.\n",
      "\n"
     ]
    }
   ],
   "source": [
    "# check for duplicates, remove them\n",
    "n = future_fire_eco.duplicated(subset=['US_L4CODE','Year']).sum()\n",
    "if n > 0:\n",
    "    print(f\"\\nThere are [{n}] duplicate rows.\\n\")\n",
    "else:\n",
    "    print(\"\\nNo duplicates at this stage.\\n\")"
   ]
  },
  {
   "cell_type": "code",
   "execution_count": 26,
   "id": "7d39e7f5-2ea1-421b-b77e-035645207a1d",
   "metadata": {},
   "outputs": [
    {
     "name": "stdout",
     "output_type": "stream",
     "text": [
      "Saved to: /Users/max/Library/CloudStorage/OneDrive-Personal/mcook/aspen-fire/Aim3/data/tabular/us_l4eco_future-fire.csv\n"
     ]
    }
   ],
   "source": [
    "# save this table out for modeling in R\n",
    "out_fp = os.path.join(projdir,'Aim3/data/tabular/us_l4eco_future-fire.csv')\n",
    "future_fire_eco.to_csv(out_fp)\n",
    "print(f\"Saved to: {out_fp}\")"
   ]
  },
  {
   "cell_type": "markdown",
   "id": "38f5631d-7fe0-4266-a860-b2851da80fc7",
   "metadata": {},
   "source": [
    "gc.collect()"
   ]
  },
  {
   "cell_type": "code",
   "execution_count": null,
   "id": "114e2e72-7d45-4d10-a9cc-a51a5767f1a1",
   "metadata": {},
   "outputs": [],
   "source": []
  },
  {
   "cell_type": "code",
   "execution_count": null,
   "id": "167cfffc-497c-4a16-bb6e-3e56e8092a6c",
   "metadata": {},
   "outputs": [],
   "source": []
  }
 ],
 "metadata": {
  "kernelspec": {
   "display_name": "aspen-fire",
   "language": "python",
   "name": "aspen-fire"
  },
  "language_info": {
   "codemirror_mode": {
    "name": "ipython",
    "version": 3
   },
   "file_extension": ".py",
   "mimetype": "text/x-python",
   "name": "python",
   "nbconvert_exporter": "python",
   "pygments_lexer": "ipython3",
   "version": "3.10.12"
  }
 },
 "nbformat": 4,
 "nbformat_minor": 5
}
