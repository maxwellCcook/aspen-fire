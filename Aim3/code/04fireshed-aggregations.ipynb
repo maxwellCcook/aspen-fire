{
 "cells": [
  {
   "cell_type": "code",
   "execution_count": 1,
   "id": "e7393824-b719-401f-9e59-bbe9efcbe357",
   "metadata": {},
   "outputs": [
    {
     "name": "stdout",
     "output_type": "stream",
     "text": [
      "Ready to go !\n"
     ]
    }
   ],
   "source": [
    "\"\"\"\n",
    "Grid preparation for future aspen project:\n",
    "\n",
    "Author: maxwell.cook@colorado.edu\n",
    "\"\"\"\n",
    "\n",
    "import os, sys, time, re\n",
    "import pandas as pd\n",
    "import xarray as xr\n",
    "import geopandas as gpd\n",
    "import numpy as np\n",
    "import rasterio as rio\n",
    "import seaborn as sns\n",
    "import matplotlib.pyplot as plt\n",
    "import matplotlib.colors as mcolors\n",
    "import matplotlib.patches as mpatches\n",
    "\n",
    "from matplotlib.ticker import FuncFormatter\n",
    "from tqdm.notebook import tqdm\n",
    "from matplotlib.colors import to_rgba\n",
    "from matplotlib.patches import Patch\n",
    "from sklearn.preprocessing import MinMaxScaler\n",
    "from scipy.ndimage import distance_transform_edt\n",
    "\n",
    "maindir = '/Users/max/Library/CloudStorage/OneDrive-Personal/mcook/'\n",
    "projdir = os.path.join(maindir, 'aspen-fire/')\n",
    "\n",
    "# Custom functions\n",
    "sys.path.append(os.path.join(maindir,'aspen-fire/Aim2/code/Python'))\n",
    "from __functions import *\n",
    "\n",
    "proj = 'EPSG:5070' # albers\n",
    "\n",
    "print(\"Ready to go !\")"
   ]
  },
  {
   "cell_type": "code",
   "execution_count": 2,
   "id": "02735548-b05e-4b66-a43a-d5ab7733d653",
   "metadata": {},
   "outputs": [
    {
     "name": "stdout",
     "output_type": "stream",
     "text": [
      "Index(['OBJECTID', 'Fireshed_ID', 'Subfireshed_ID', 'Fireshed_Area_Ha',\n",
      "       'Subfireshed_Area_Ha', 'Fireshed_Name', 'Fireshed_Code',\n",
      "       'Fireshed_State', 'Shape_Length', 'Shape_Area', 'Fireshed_MajRegion',\n",
      "       'AnnualExposure', 'PctRecentlyDisturbed', 'geometry'],\n",
      "      dtype='object')\n",
      "1714\n"
     ]
    }
   ],
   "source": [
    "# load the firesheds\n",
    "fp = os.path.join(projdir,'Aim3/data/spatial/raw/fsim/firesheds/subfiresheds.gpkg')\n",
    "firesheds = gpd.read_file(fp)\n",
    "print(firesheds.columns)\n",
    "print(len(firesheds))"
   ]
  },
  {
   "cell_type": "code",
   "execution_count": 3,
   "id": "1a22d22b-f3d6-4ff0-9766-de448eecf01a",
   "metadata": {},
   "outputs": [
    {
     "data": {
      "text/html": [
       "<div>\n",
       "<style scoped>\n",
       "    .dataframe tbody tr th:only-of-type {\n",
       "        vertical-align: middle;\n",
       "    }\n",
       "\n",
       "    .dataframe tbody tr th {\n",
       "        vertical-align: top;\n",
       "    }\n",
       "\n",
       "    .dataframe thead th {\n",
       "        text-align: right;\n",
       "    }\n",
       "</style>\n",
       "<table border=\"1\" class=\"dataframe\">\n",
       "  <thead>\n",
       "    <tr style=\"text-align: right;\">\n",
       "      <th></th>\n",
       "      <th>fs_id</th>\n",
       "      <th>sfs_id</th>\n",
       "      <th>sfs_area_ha</th>\n",
       "      <th>fs_name</th>\n",
       "      <th>sfs_exposure</th>\n",
       "      <th>pct_disturbed</th>\n",
       "      <th>geometry</th>\n",
       "    </tr>\n",
       "  </thead>\n",
       "  <tbody>\n",
       "    <tr>\n",
       "      <th>0</th>\n",
       "      <td>2039</td>\n",
       "      <td>20466</td>\n",
       "      <td>10147.68</td>\n",
       "      <td>Blue Creek Point, Utah</td>\n",
       "      <td>0.000000</td>\n",
       "      <td>0.000000</td>\n",
       "      <td>MULTIPOLYGON (((-1175586.440 1748339.700, -117...</td>\n",
       "    </tr>\n",
       "    <tr>\n",
       "      <th>1</th>\n",
       "      <td>2039</td>\n",
       "      <td>20467</td>\n",
       "      <td>10380.96</td>\n",
       "      <td>Blue Creek Point, Utah</td>\n",
       "      <td>0.000000</td>\n",
       "      <td>0.000000</td>\n",
       "      <td>MULTIPOLYGON (((-1165866.440 1748339.700, -116...</td>\n",
       "    </tr>\n",
       "    <tr>\n",
       "      <th>2</th>\n",
       "      <td>2039</td>\n",
       "      <td>20468</td>\n",
       "      <td>10730.88</td>\n",
       "      <td>Blue Creek Point, Utah</td>\n",
       "      <td>0.000000</td>\n",
       "      <td>0.000000</td>\n",
       "      <td>MULTIPOLYGON (((-1180986.440 1737539.700, -118...</td>\n",
       "    </tr>\n",
       "    <tr>\n",
       "      <th>3</th>\n",
       "      <td>2039</td>\n",
       "      <td>20469</td>\n",
       "      <td>11314.08</td>\n",
       "      <td>Blue Creek Point, Utah</td>\n",
       "      <td>0.000000</td>\n",
       "      <td>0.000000</td>\n",
       "      <td>MULTIPOLYGON (((-1169106.440 1737539.700, -116...</td>\n",
       "    </tr>\n",
       "    <tr>\n",
       "      <th>4</th>\n",
       "      <td>2097</td>\n",
       "      <td>21025</td>\n",
       "      <td>10964.16</td>\n",
       "      <td>Indian Village, Utah</td>\n",
       "      <td>0.001366</td>\n",
       "      <td>9.739679</td>\n",
       "      <td>MULTIPOLYGON (((-1174506.440 1727819.700, -117...</td>\n",
       "    </tr>\n",
       "  </tbody>\n",
       "</table>\n",
       "</div>"
      ],
      "text/plain": [
       "   fs_id  sfs_id  sfs_area_ha                 fs_name  sfs_exposure  \\\n",
       "0   2039   20466     10147.68  Blue Creek Point, Utah      0.000000   \n",
       "1   2039   20467     10380.96  Blue Creek Point, Utah      0.000000   \n",
       "2   2039   20468     10730.88  Blue Creek Point, Utah      0.000000   \n",
       "3   2039   20469     11314.08  Blue Creek Point, Utah      0.000000   \n",
       "4   2097   21025     10964.16    Indian Village, Utah      0.001366   \n",
       "\n",
       "   pct_disturbed                                           geometry  \n",
       "0       0.000000  MULTIPOLYGON (((-1175586.440 1748339.700, -117...  \n",
       "1       0.000000  MULTIPOLYGON (((-1165866.440 1748339.700, -116...  \n",
       "2       0.000000  MULTIPOLYGON (((-1180986.440 1737539.700, -118...  \n",
       "3       0.000000  MULTIPOLYGON (((-1169106.440 1737539.700, -116...  \n",
       "4       9.739679  MULTIPOLYGON (((-1174506.440 1727819.700, -117...  "
      ]
     },
     "execution_count": 3,
     "metadata": {},
     "output_type": "execute_result"
    }
   ],
   "source": [
    "# tidy the dataframe\n",
    "firesheds.drop(\n",
    "    columns=[\n",
    "        'OBJECTID','Fireshed_State',\n",
    "        'Shape_Length','Shape_Area',\n",
    "        'Fireshed_Area_Ha','Fireshed_Code',\n",
    "        'Fireshed_MajRegion'\n",
    "    ], inplace=True\n",
    ")\n",
    "firesheds.rename(\n",
    "    columns={\n",
    "        'Fireshed_ID': 'fs_id',\n",
    "        'Fireshed_Name': 'fs_name',\n",
    "        'Subfireshed_ID': 'sfs_id',\n",
    "        'Subfireshed_Area_Ha': 'sfs_area_ha',\n",
    "        'AnnualExposure': 'sfs_exposure',\n",
    "        'PctRecentlyDisturbed': 'pct_disturbed'\n",
    "    }, inplace=True\n",
    ")\n",
    "# check the results\n",
    "firesheds.head()"
   ]
  },
  {
   "cell_type": "markdown",
   "id": "e97ad4be-7c66-44be-b982-640c69ced7e7",
   "metadata": {},
   "source": [
    "## Future Fire\n",
    "\n",
    "From Stephens et al., In review, annual probability of area burned and fire occurrence by US EPA Level IV ecoregion. Trend to 2060 was calculated using a median-based linear model (MBLM) thielsen estimate. "
   ]
  },
  {
   "cell_type": "code",
   "execution_count": 4,
   "id": "130ed2ac-f347-4ff3-bb4c-9d7ba1d9ec5f",
   "metadata": {},
   "outputs": [
    {
     "data": {
      "text/plain": [
       "Index(['US_L4CODE', 'US_L4NAME', 'US_L3CODE', 'US_L3NAME', 'NA_L3CODE',\n",
       "       'NA_L3NAME', 'NA_L2CODE', 'NA_L2NAME', 'NA_L1CODE', 'NA_L1NAME',\n",
       "       'L4_KEY', 'L3_KEY', 'L2_KEY', 'L1_KEY', 'Shape_Leng', 'Shape_Area',\n",
       "       'trend_area', 'p_area', 'trend_count', 'p_count', 'geometry'],\n",
       "      dtype='object')"
      ]
     },
     "execution_count": 4,
     "metadata": {},
     "output_type": "execute_result"
    }
   ],
   "source": [
    "# join to Level IV ecoregion\n",
    "fp = os.path.join(projdir,'Aim3/data/spatial/mod/future_fire_ecol4_trend.gpkg')\n",
    "ecol4 = gpd.read_file(fp)\n",
    "ecol4.columns"
   ]
  },
  {
   "cell_type": "code",
   "execution_count": 5,
   "id": "777149a8-f9e3-4ea4-9859-e28c51cec6fb",
   "metadata": {},
   "outputs": [
    {
     "data": {
      "text/html": [
       "<div>\n",
       "<style scoped>\n",
       "    .dataframe tbody tr th:only-of-type {\n",
       "        vertical-align: middle;\n",
       "    }\n",
       "\n",
       "    .dataframe tbody tr th {\n",
       "        vertical-align: top;\n",
       "    }\n",
       "\n",
       "    .dataframe thead th {\n",
       "        text-align: right;\n",
       "    }\n",
       "</style>\n",
       "<table border=\"1\" class=\"dataframe\">\n",
       "  <thead>\n",
       "    <tr style=\"text-align: right;\">\n",
       "      <th></th>\n",
       "      <th>fs_id</th>\n",
       "      <th>sfs_id</th>\n",
       "      <th>sfs_area_ha</th>\n",
       "      <th>fs_name</th>\n",
       "      <th>sfs_exposure</th>\n",
       "      <th>pct_disturbed</th>\n",
       "      <th>geometry</th>\n",
       "      <th>US_L4CODE</th>\n",
       "      <th>US_L4NAME</th>\n",
       "      <th>trend_area</th>\n",
       "      <th>trend_count</th>\n",
       "    </tr>\n",
       "  </thead>\n",
       "  <tbody>\n",
       "    <tr>\n",
       "      <th>0</th>\n",
       "      <td>2039</td>\n",
       "      <td>20466</td>\n",
       "      <td>10147.68</td>\n",
       "      <td>Blue Creek Point, Utah</td>\n",
       "      <td>0.000000</td>\n",
       "      <td>0.000000</td>\n",
       "      <td>MULTIPOLYGON (((-1175586.440 1748339.700, -117...</td>\n",
       "      <td>21c</td>\n",
       "      <td>Crystalline Mid-Elevation Forests</td>\n",
       "      <td>411.936265</td>\n",
       "      <td>0.034504</td>\n",
       "    </tr>\n",
       "    <tr>\n",
       "      <th>1</th>\n",
       "      <td>2039</td>\n",
       "      <td>20467</td>\n",
       "      <td>10380.96</td>\n",
       "      <td>Blue Creek Point, Utah</td>\n",
       "      <td>0.000000</td>\n",
       "      <td>0.000000</td>\n",
       "      <td>MULTIPOLYGON (((-1165866.440 1748339.700, -116...</td>\n",
       "      <td>21c</td>\n",
       "      <td>Crystalline Mid-Elevation Forests</td>\n",
       "      <td>411.936265</td>\n",
       "      <td>0.034504</td>\n",
       "    </tr>\n",
       "    <tr>\n",
       "      <th>2</th>\n",
       "      <td>2039</td>\n",
       "      <td>20468</td>\n",
       "      <td>10730.88</td>\n",
       "      <td>Blue Creek Point, Utah</td>\n",
       "      <td>0.000000</td>\n",
       "      <td>0.000000</td>\n",
       "      <td>MULTIPOLYGON (((-1180986.440 1737539.700, -118...</td>\n",
       "      <td>21c</td>\n",
       "      <td>Crystalline Mid-Elevation Forests</td>\n",
       "      <td>411.936265</td>\n",
       "      <td>0.034504</td>\n",
       "    </tr>\n",
       "    <tr>\n",
       "      <th>3</th>\n",
       "      <td>2039</td>\n",
       "      <td>20469</td>\n",
       "      <td>11314.08</td>\n",
       "      <td>Blue Creek Point, Utah</td>\n",
       "      <td>0.000000</td>\n",
       "      <td>0.000000</td>\n",
       "      <td>MULTIPOLYGON (((-1169106.440 1737539.700, -116...</td>\n",
       "      <td>21c</td>\n",
       "      <td>Crystalline Mid-Elevation Forests</td>\n",
       "      <td>411.936265</td>\n",
       "      <td>0.034504</td>\n",
       "    </tr>\n",
       "    <tr>\n",
       "      <th>4</th>\n",
       "      <td>2097</td>\n",
       "      <td>21025</td>\n",
       "      <td>10964.16</td>\n",
       "      <td>Indian Village, Utah</td>\n",
       "      <td>0.001366</td>\n",
       "      <td>9.739679</td>\n",
       "      <td>MULTIPOLYGON (((-1174506.440 1727819.700, -117...</td>\n",
       "      <td>21c</td>\n",
       "      <td>Crystalline Mid-Elevation Forests</td>\n",
       "      <td>411.936265</td>\n",
       "      <td>0.034504</td>\n",
       "    </tr>\n",
       "  </tbody>\n",
       "</table>\n",
       "</div>"
      ],
      "text/plain": [
       "   fs_id  sfs_id  sfs_area_ha                 fs_name  sfs_exposure  \\\n",
       "0   2039   20466     10147.68  Blue Creek Point, Utah      0.000000   \n",
       "1   2039   20467     10380.96  Blue Creek Point, Utah      0.000000   \n",
       "2   2039   20468     10730.88  Blue Creek Point, Utah      0.000000   \n",
       "3   2039   20469     11314.08  Blue Creek Point, Utah      0.000000   \n",
       "4   2097   21025     10964.16    Indian Village, Utah      0.001366   \n",
       "\n",
       "   pct_disturbed                                           geometry US_L4CODE  \\\n",
       "0       0.000000  MULTIPOLYGON (((-1175586.440 1748339.700, -117...       21c   \n",
       "1       0.000000  MULTIPOLYGON (((-1165866.440 1748339.700, -116...       21c   \n",
       "2       0.000000  MULTIPOLYGON (((-1180986.440 1737539.700, -118...       21c   \n",
       "3       0.000000  MULTIPOLYGON (((-1169106.440 1737539.700, -116...       21c   \n",
       "4       9.739679  MULTIPOLYGON (((-1174506.440 1727819.700, -117...       21c   \n",
       "\n",
       "                           US_L4NAME  trend_area  trend_count  \n",
       "0  Crystalline Mid-Elevation Forests  411.936265     0.034504  \n",
       "1  Crystalline Mid-Elevation Forests  411.936265     0.034504  \n",
       "2  Crystalline Mid-Elevation Forests  411.936265     0.034504  \n",
       "3  Crystalline Mid-Elevation Forests  411.936265     0.034504  \n",
       "4  Crystalline Mid-Elevation Forests  411.936265     0.034504  "
      ]
     },
     "execution_count": 5,
     "metadata": {},
     "output_type": "execute_result"
    }
   ],
   "source": [
    "# calculate the majority overlapping level IV ecoregion\n",
    "overlap = gpd.overlay(firesheds, ecol4, how='intersection')\n",
    "overlap['area'] = overlap.geometry.area # get the total area\n",
    "cols = ['sfs_id','US_L4CODE','US_L4NAME','trend_area','trend_count']\n",
    "sum = overlap.groupby(cols)['area'].sum().reset_index() # get the area sum\n",
    "maj = sum.loc[sum.groupby('sfs_id')['area'].idxmax()] # get the largest area\n",
    "# merge back to firesheds\n",
    "firesheds = firesheds.merge(maj[cols], on='sfs_id', how='left')\n",
    "firesheds.head()"
   ]
  },
  {
   "cell_type": "code",
   "execution_count": 6,
   "id": "dc993921-5226-4702-b439-b0d641e440bf",
   "metadata": {},
   "outputs": [
    {
     "data": {
      "text/plain": [
       "1714"
      ]
     },
     "execution_count": 6,
     "metadata": {},
     "output_type": "execute_result"
    }
   ],
   "source": [
    "len(firesheds)"
   ]
  },
  {
   "cell_type": "markdown",
   "id": "edccbba0-db52-49de-8a6e-1cf4b19004b9",
   "metadata": {},
   "source": [
    "## Aspen habitat suitability \n",
    "\n",
    "From Hart et al. In Review- Calculate the change between past and future (2041-2070) aspen suitability to get the difference (future change in habitat suitability)."
   ]
  },
  {
   "cell_type": "code",
   "execution_count": 7,
   "id": "47a6a604-55df-4403-8371-428a1f730be8",
   "metadata": {},
   "outputs": [
    {
     "data": {
      "image/png": "[encoded data removed]",
      "text/plain": [
       "<Figure size 1000x600 with 2 Axes>"
      ]
     },
     "metadata": {},
     "output_type": "display_data"
    },
    {
     "data": {
      "image/png": "[encoded data removed]",
      "text/plain": [
       "<Figure size 1000x600 with 2 Axes>"
      ]
     },
     "metadata": {},
     "output_type": "display_data"
    }
   ],
   "source": [
    "# load the future aspen suitability predictions\n",
    "dir = os.path.join(projdir,'Aim3/data/spatial/raw/aspen_suitability/Predictions/')\n",
    "# historical suitability\n",
    "hist = os.path.join(dir,'predicted_historical_1981-2010_ensemble.tif')\n",
    "# future suitability (SSP245 2041-2070)\n",
    "ssp245 = os.path.join(dir,'predicted_SSP245_2041-2070_ensemble.tif')\n",
    "# future suitability (SSP585 2041-2070)\n",
    "ssp585 = os.path.join(dir,'predicted_SSP585_2041-2070_ensemble.tif')\n",
    "\n",
    "# load each raster\n",
    "hist_da = rxr.open_rasterio(hist, masked=True, cache=False).squeeze()\n",
    "ssp245_da = rxr.open_rasterio(ssp245, masked=True, cache=False).squeeze()\n",
    "ssp585_da = rxr.open_rasterio(ssp585, masked=True, cache=False).squeeze()\n",
    "\n",
    "# calculate the change in suitability under both scenarios\n",
    "change_SSP245 = ssp245_da - hist_da\n",
    "change_SSP585 = ssp585_da - hist_da\n",
    "\n",
    "# check the results\n",
    "out_png = os.path.join(projdir, 'Aim3/figures/srm_aspen_suitability_historic.png')\n",
    "plot_raster(\n",
    "    hist_da, \n",
    "    legend_lab = \"Historic aspen suitability\",\n",
    "    cmap = 'BuGn',\n",
    "    save_file=True, out_png=out_png\n",
    ")\n",
    "out_png = os.path.join(projdir, 'Aim3/figures/srm_aspen_suitability_change_ssp585.png')\n",
    "plot_raster(\n",
    "    change_SSP585, \n",
    "    legend_lab = \"Suitability change 2041-2070 (SSP585)\", \n",
    "    cmap = 'vlag_r',\n",
    "    save_file=True, out_png=out_png\n",
    ")"
   ]
  },
  {
   "cell_type": "code",
   "execution_count": 8,
   "id": "d33c4c68-ba29-4b8f-b879-88465903c2b2",
   "metadata": {},
   "outputs": [
    {
     "data": {
      "text/plain": [
       "CRS.from_epsg(32613)"
      ]
     },
     "execution_count": 8,
     "metadata": {},
     "output_type": "execute_result"
    }
   ],
   "source": [
    "change_SSP245.rio.crs"
   ]
  },
  {
   "cell_type": "code",
   "execution_count": 9,
   "id": "35fa43c5-1566-4886-88c6-006c49c82f42",
   "metadata": {},
   "outputs": [
    {
     "name": "stdout",
     "output_type": "stream",
     "text": [
      "Processing: historic\n",
      "Processing: ssp245\n",
      "Processing: ssp585\n",
      "Processing: delta245\n",
      "Processing: delta585\n"
     ]
    },
    {
     "data": {
      "text/html": [
       "<div>\n",
       "<style scoped>\n",
       "    .dataframe tbody tr th:only-of-type {\n",
       "        vertical-align: middle;\n",
       "    }\n",
       "\n",
       "    .dataframe tbody tr th {\n",
       "        vertical-align: top;\n",
       "    }\n",
       "\n",
       "    .dataframe thead th {\n",
       "        text-align: right;\n",
       "    }\n",
       "</style>\n",
       "<table border=\"1\" class=\"dataframe\">\n",
       "  <thead>\n",
       "    <tr style=\"text-align: right;\">\n",
       "      <th></th>\n",
       "      <th>sfs_id</th>\n",
       "      <th>historic_mean</th>\n",
       "      <th>ssp245_mean</th>\n",
       "      <th>ssp585_mean</th>\n",
       "      <th>delta245_mean</th>\n",
       "      <th>delta585_mean</th>\n",
       "    </tr>\n",
       "  </thead>\n",
       "  <tbody>\n",
       "    <tr>\n",
       "      <th>0</th>\n",
       "      <td>20466</td>\n",
       "      <td>0.486227</td>\n",
       "      <td>0.283289</td>\n",
       "      <td>0.264404</td>\n",
       "      <td>-0.202938</td>\n",
       "      <td>-0.221823</td>\n",
       "    </tr>\n",
       "    <tr>\n",
       "      <th>1</th>\n",
       "      <td>20467</td>\n",
       "      <td>0.438678</td>\n",
       "      <td>0.232485</td>\n",
       "      <td>0.214744</td>\n",
       "      <td>-0.206193</td>\n",
       "      <td>-0.223933</td>\n",
       "    </tr>\n",
       "    <tr>\n",
       "      <th>2</th>\n",
       "      <td>20468</td>\n",
       "      <td>0.614530</td>\n",
       "      <td>0.331943</td>\n",
       "      <td>0.288274</td>\n",
       "      <td>-0.282587</td>\n",
       "      <td>-0.326256</td>\n",
       "    </tr>\n",
       "    <tr>\n",
       "      <th>3</th>\n",
       "      <td>20469</td>\n",
       "      <td>0.672996</td>\n",
       "      <td>0.492449</td>\n",
       "      <td>0.476654</td>\n",
       "      <td>-0.180547</td>\n",
       "      <td>-0.196342</td>\n",
       "    </tr>\n",
       "    <tr>\n",
       "      <th>4</th>\n",
       "      <td>21025</td>\n",
       "      <td>0.640499</td>\n",
       "      <td>0.464256</td>\n",
       "      <td>0.439779</td>\n",
       "      <td>-0.176243</td>\n",
       "      <td>-0.200719</td>\n",
       "    </tr>\n",
       "  </tbody>\n",
       "</table>\n",
       "</div>"
      ],
      "text/plain": [
       "   sfs_id  historic_mean  ssp245_mean  ssp585_mean  delta245_mean  \\\n",
       "0   20466       0.486227     0.283289     0.264404      -0.202938   \n",
       "1   20467       0.438678     0.232485     0.214744      -0.206193   \n",
       "2   20468       0.614530     0.331943     0.288274      -0.282587   \n",
       "3   20469       0.672996     0.492449     0.476654      -0.180547   \n",
       "4   21025       0.640499     0.464256     0.439779      -0.176243   \n",
       "\n",
       "   delta585_mean  \n",
       "0      -0.221823  \n",
       "1      -0.223933  \n",
       "2      -0.326256  \n",
       "3      -0.196342  \n",
       "4      -0.200719  "
      ]
     },
     "execution_count": 9,
     "metadata": {},
     "output_type": "execute_result"
    }
   ],
   "source": [
    "# calculate band statistics\n",
    "# mean, standard deviation, percentiles\n",
    "\n",
    "# create a list of rasters to calculate zonal stats\n",
    "das = {\n",
    "    'historic': hist_da, # historic (1981-2010) suitability\n",
    "    'ssp245': ssp245_da, # raw suitability SSP245 2041-2070\n",
    "    'ssp585': ssp585_da, # raw suitability SSP585 2041-2070\n",
    "    'delta245': change_SSP245, # change SSP245 2041-2070\n",
    "    'delta585': change_SSP585 # change SSP585 2041-2070\n",
    "}\n",
    "\n",
    "results = []\n",
    "for key, da in das.items():\n",
    "    print(f\"Processing: {key}\")\n",
    "    # ensure the correct projection\n",
    "    da_ = da.rio.reproject(proj) # matches grid\n",
    "    # calculate zonal statistics\n",
    "    zs = compute_band_stats(\n",
    "        geoms=firesheds, \n",
    "        image_da=da_, \n",
    "        id_col='sfs_id', \n",
    "        stats=['mean'], # 'median','std','percentile_90'\n",
    "        attr=key,\n",
    "        ztype='continuous'\n",
    "    )\n",
    "    results.append(zs)\n",
    "\n",
    "# concatenate the results\n",
    "future_aspen = pd.concat([df.set_index(\"sfs_id\") for df in results], axis=1).reset_index()\n",
    "future_aspen.head()"
   ]
  },
  {
   "cell_type": "code",
   "execution_count": 10,
   "id": "3e479e97-1cd6-4af5-a592-843ed4d63df4",
   "metadata": {},
   "outputs": [
    {
     "data": {
      "text/html": [
       "<div>\n",
       "<style scoped>\n",
       "    .dataframe tbody tr th:only-of-type {\n",
       "        vertical-align: middle;\n",
       "    }\n",
       "\n",
       "    .dataframe tbody tr th {\n",
       "        vertical-align: top;\n",
       "    }\n",
       "\n",
       "    .dataframe thead th {\n",
       "        text-align: right;\n",
       "    }\n",
       "</style>\n",
       "<table border=\"1\" class=\"dataframe\">\n",
       "  <thead>\n",
       "    <tr style=\"text-align: right;\">\n",
       "      <th></th>\n",
       "      <th>fs_id</th>\n",
       "      <th>sfs_id</th>\n",
       "      <th>sfs_area_ha</th>\n",
       "      <th>fs_name</th>\n",
       "      <th>sfs_exposure</th>\n",
       "      <th>pct_disturbed</th>\n",
       "      <th>geometry</th>\n",
       "      <th>US_L4CODE</th>\n",
       "      <th>US_L4NAME</th>\n",
       "      <th>trend_area</th>\n",
       "      <th>trend_count</th>\n",
       "      <th>historic</th>\n",
       "      <th>ssp245</th>\n",
       "      <th>ssp585</th>\n",
       "      <th>delta245</th>\n",
       "      <th>delta585</th>\n",
       "    </tr>\n",
       "  </thead>\n",
       "  <tbody>\n",
       "    <tr>\n",
       "      <th>0</th>\n",
       "      <td>2039</td>\n",
       "      <td>20466</td>\n",
       "      <td>10147.68</td>\n",
       "      <td>Blue Creek Point, Utah</td>\n",
       "      <td>0.000000</td>\n",
       "      <td>0.000000</td>\n",
       "      <td>MULTIPOLYGON (((-1175586.440 1748339.700, -117...</td>\n",
       "      <td>21c</td>\n",
       "      <td>Crystalline Mid-Elevation Forests</td>\n",
       "      <td>411.936265</td>\n",
       "      <td>0.034504</td>\n",
       "      <td>0.486227</td>\n",
       "      <td>0.283289</td>\n",
       "      <td>0.264404</td>\n",
       "      <td>-0.202938</td>\n",
       "      <td>-0.221823</td>\n",
       "    </tr>\n",
       "    <tr>\n",
       "      <th>1</th>\n",
       "      <td>2039</td>\n",
       "      <td>20467</td>\n",
       "      <td>10380.96</td>\n",
       "      <td>Blue Creek Point, Utah</td>\n",
       "      <td>0.000000</td>\n",
       "      <td>0.000000</td>\n",
       "      <td>MULTIPOLYGON (((-1165866.440 1748339.700, -116...</td>\n",
       "      <td>21c</td>\n",
       "      <td>Crystalline Mid-Elevation Forests</td>\n",
       "      <td>411.936265</td>\n",
       "      <td>0.034504</td>\n",
       "      <td>0.438678</td>\n",
       "      <td>0.232485</td>\n",
       "      <td>0.214744</td>\n",
       "      <td>-0.206193</td>\n",
       "      <td>-0.223933</td>\n",
       "    </tr>\n",
       "    <tr>\n",
       "      <th>2</th>\n",
       "      <td>2039</td>\n",
       "      <td>20468</td>\n",
       "      <td>10730.88</td>\n",
       "      <td>Blue Creek Point, Utah</td>\n",
       "      <td>0.000000</td>\n",
       "      <td>0.000000</td>\n",
       "      <td>MULTIPOLYGON (((-1180986.440 1737539.700, -118...</td>\n",
       "      <td>21c</td>\n",
       "      <td>Crystalline Mid-Elevation Forests</td>\n",
       "      <td>411.936265</td>\n",
       "      <td>0.034504</td>\n",
       "      <td>0.614530</td>\n",
       "      <td>0.331943</td>\n",
       "      <td>0.288274</td>\n",
       "      <td>-0.282587</td>\n",
       "      <td>-0.326256</td>\n",
       "    </tr>\n",
       "    <tr>\n",
       "      <th>3</th>\n",
       "      <td>2039</td>\n",
       "      <td>20469</td>\n",
       "      <td>11314.08</td>\n",
       "      <td>Blue Creek Point, Utah</td>\n",
       "      <td>0.000000</td>\n",
       "      <td>0.000000</td>\n",
       "      <td>MULTIPOLYGON (((-1169106.440 1737539.700, -116...</td>\n",
       "      <td>21c</td>\n",
       "      <td>Crystalline Mid-Elevation Forests</td>\n",
       "      <td>411.936265</td>\n",
       "      <td>0.034504</td>\n",
       "      <td>0.672996</td>\n",
       "      <td>0.492449</td>\n",
       "      <td>0.476654</td>\n",
       "      <td>-0.180547</td>\n",
       "      <td>-0.196342</td>\n",
       "    </tr>\n",
       "    <tr>\n",
       "      <th>4</th>\n",
       "      <td>2097</td>\n",
       "      <td>21025</td>\n",
       "      <td>10964.16</td>\n",
       "      <td>Indian Village, Utah</td>\n",
       "      <td>0.001366</td>\n",
       "      <td>9.739679</td>\n",
       "      <td>MULTIPOLYGON (((-1174506.440 1727819.700, -117...</td>\n",
       "      <td>21c</td>\n",
       "      <td>Crystalline Mid-Elevation Forests</td>\n",
       "      <td>411.936265</td>\n",
       "      <td>0.034504</td>\n",
       "      <td>0.640499</td>\n",
       "      <td>0.464256</td>\n",
       "      <td>0.439779</td>\n",
       "      <td>-0.176243</td>\n",
       "      <td>-0.200719</td>\n",
       "    </tr>\n",
       "  </tbody>\n",
       "</table>\n",
       "</div>"
      ],
      "text/plain": [
       "   fs_id  sfs_id  sfs_area_ha                 fs_name  sfs_exposure  \\\n",
       "0   2039   20466     10147.68  Blue Creek Point, Utah      0.000000   \n",
       "1   2039   20467     10380.96  Blue Creek Point, Utah      0.000000   \n",
       "2   2039   20468     10730.88  Blue Creek Point, Utah      0.000000   \n",
       "3   2039   20469     11314.08  Blue Creek Point, Utah      0.000000   \n",
       "4   2097   21025     10964.16    Indian Village, Utah      0.001366   \n",
       "\n",
       "   pct_disturbed                                           geometry US_L4CODE  \\\n",
       "0       0.000000  MULTIPOLYGON (((-1175586.440 1748339.700, -117...       21c   \n",
       "1       0.000000  MULTIPOLYGON (((-1165866.440 1748339.700, -116...       21c   \n",
       "2       0.000000  MULTIPOLYGON (((-1180986.440 1737539.700, -118...       21c   \n",
       "3       0.000000  MULTIPOLYGON (((-1169106.440 1737539.700, -116...       21c   \n",
       "4       9.739679  MULTIPOLYGON (((-1174506.440 1727819.700, -117...       21c   \n",
       "\n",
       "                           US_L4NAME  trend_area  trend_count  historic  \\\n",
       "0  Crystalline Mid-Elevation Forests  411.936265     0.034504  0.486227   \n",
       "1  Crystalline Mid-Elevation Forests  411.936265     0.034504  0.438678   \n",
       "2  Crystalline Mid-Elevation Forests  411.936265     0.034504  0.614530   \n",
       "3  Crystalline Mid-Elevation Forests  411.936265     0.034504  0.672996   \n",
       "4  Crystalline Mid-Elevation Forests  411.936265     0.034504  0.640499   \n",
       "\n",
       "     ssp245    ssp585  delta245  delta585  \n",
       "0  0.283289  0.264404 -0.202938 -0.221823  \n",
       "1  0.232485  0.214744 -0.206193 -0.223933  \n",
       "2  0.331943  0.288274 -0.282587 -0.326256  \n",
       "3  0.492449  0.476654 -0.180547 -0.196342  \n",
       "4  0.464256  0.439779 -0.176243 -0.200719  "
      ]
     },
     "execution_count": 10,
     "metadata": {},
     "output_type": "execute_result"
    }
   ],
   "source": [
    "# rename the columns\n",
    "future_aspen = future_aspen.rename(\n",
    "    columns={\n",
    "        'historic_mean': 'historic',\n",
    "        'ssp245_mean': 'ssp245',\n",
    "        'ssp585_mean': 'ssp585',\n",
    "        'delta245_mean': 'delta245',\n",
    "        'delta585_mean': 'delta585'\n",
    "    }\n",
    ")\n",
    "\n",
    "# join to the fire dataframe\n",
    "firesheds_fa = pd.merge(firesheds, future_aspen, on=\"sfs_id\", how=\"left\")\n",
    "firesheds_fa.head()"
   ]
  },
  {
   "cell_type": "code",
   "execution_count": 11,
   "id": "f28600e9-1159-4a29-b897-4754e5c00b2a",
   "metadata": {},
   "outputs": [
    {
     "data": {
      "text/plain": [
       "1714"
      ]
     },
     "execution_count": 11,
     "metadata": {},
     "output_type": "execute_result"
    }
   ],
   "source": [
    "len(firesheds_fa)"
   ]
  },
  {
   "cell_type": "code",
   "execution_count": 12,
   "id": "4eeb31cb-c96c-48ba-8822-8cf961ec5e61",
   "metadata": {},
   "outputs": [
    {
     "data": {
      "text/plain": [
       "133"
      ]
     },
     "execution_count": 12,
     "metadata": {},
     "output_type": "execute_result"
    }
   ],
   "source": [
    "# tidy up\n",
    "del das, results, zs, hist_da, ssp245_da, ssp585_da, change_SSP245, change_SSP585, future_aspen\n",
    "gc.collect()"
   ]
  },
  {
   "cell_type": "code",
   "execution_count": null,
   "id": "7442b8ee-a42c-4743-9d73-c1a0a5acda03",
   "metadata": {},
   "outputs": [],
   "source": []
  },
  {
   "cell_type": "code",
   "execution_count": null,
   "id": "686830b0-9aae-4229-8e03-47090ff3495f",
   "metadata": {},
   "outputs": [],
   "source": []
  },
  {
   "cell_type": "code",
   "execution_count": null,
   "id": "86a29095-e26b-40c1-b105-557ddb1cf7d5",
   "metadata": {},
   "outputs": [],
   "source": []
  },
  {
   "cell_type": "markdown",
   "id": "cfd65dbb-afaa-437f-9df4-099855d27097",
   "metadata": {},
   "source": [
    "## Sentinel-based aspen cover (ca. 2019)\n",
    "\n",
    "From Cook et al. (2024), calculate the percent aspen canopy cover within gridcells. This should ideally be updated to 2023 ..."
   ]
  },
  {
   "cell_type": "code",
   "execution_count": 13,
   "id": "847864b2-88a7-433b-a1ae-32cbda743729",
   "metadata": {},
   "outputs": [
    {
     "name": "stdout",
     "output_type": "stream",
     "text": [
      "\n",
      "<xarray.DataArray (y: 95433, x: 64151)> Size: 6GB\n",
      "dask.array<getitem, shape=(95433, 64151), dtype=uint8, chunksize=(2092, 64151), chunktype=numpy.ndarray>\n",
      "Coordinates:\n",
      "    band         int64 8B 1\n",
      "  * x            (x) float64 513kB -1.217e+06 -1.217e+06 ... -5.76e+05 -5.76e+05\n",
      "  * y            (y) float64 763kB 2.309e+06 2.309e+06 ... 1.355e+06 1.355e+06\n",
      "    spatial_ref  int64 8B 0\n",
      "Attributes:\n",
      "    AREA_OR_POINT:             Area\n",
      "    STATISTICS_MAXIMUM:        1\n",
      "    STATISTICS_MEAN:           0.015698091117366\n",
      "    STATISTICS_MINIMUM:        0\n",
      "    STATISTICS_STDDEV:         0.1243047105006\n",
      "    STATISTICS_VALID_PERCENT:  100\n",
      "    _FillValue:                255\n",
      "    scale_factor:              1.0\n",
      "    add_offset:                0.0\n",
      "\n",
      "EPSG:5070\n",
      "    sfs_id  aspen10  count  total_pixels  pct_cover\n",
      "1    20466        1     48       1017037   0.004720\n",
      "3    20467        1   1519       1040365   0.146006\n",
      "6    20469        1  73194       1133785   6.455721\n",
      "8    21025        1   8995       1098901   0.818545\n",
      "10   21247        1  43309        970381   4.463092\n",
      "\n",
      "Total elapsed time: 0.74 minutes.\n",
      "\n",
      "\n",
      "~~~~~~~~~~\n",
      "\n"
     ]
    }
   ],
   "source": [
    "t0 = time.time()\n",
    "\n",
    "# load the 10-m aspen map (classification)\n",
    "aspen10_fp = os.path.join(projdir,'Aim1/data/spatial/mod/results/classification/s2aspen_distribution_10m_y2019_CookEtAl.tif')\n",
    "aspen10 = rxr.open_rasterio(aspen10_fp, cache=False, chunks='auto', mask=True).squeeze()\n",
    "print(f\"\\n{aspen10}\\n\")\n",
    "print(aspen10.rio.crs)\n",
    "\n",
    "# calculate zonal statistics\n",
    "aspen10_grids = compute_band_stats(\n",
    "    geoms=firesheds, \n",
    "    image_da=aspen10, \n",
    "    id_col='sfs_id', \n",
    "    attr='aspen10',\n",
    "    ztype='categorical'\n",
    ")\n",
    "\n",
    "# only keep the count of aspen pixels\n",
    "aspen10_grids = aspen10_grids[aspen10_grids['aspen10'] == 1]\n",
    "# check the results\n",
    "print(aspen10_grids.head())\n",
    "\n",
    "t1 = (time.time() - t0) / 60\n",
    "print(f\"\\nTotal elapsed time: {t1:.2f} minutes.\\n\")\n",
    "print(\"\\n~~~~~~~~~~\\n\")"
   ]
  },
  {
   "cell_type": "code",
   "execution_count": 14,
   "id": "7e85a50a-8847-4e6d-a840-095c7a11dc1f",
   "metadata": {},
   "outputs": [
    {
     "data": {
      "text/plain": [
       "count    1637.000000\n",
       "mean        5.736593\n",
       "std         9.041754\n",
       "min         0.000086\n",
       "25%         0.218776\n",
       "50%         1.792738\n",
       "75%         6.837600\n",
       "max        57.693693\n",
       "Name: pct_cover, dtype: float64"
      ]
     },
     "execution_count": 14,
     "metadata": {},
     "output_type": "execute_result"
    }
   ],
   "source": [
    "aspen10_grids['pct_cover'].describe()"
   ]
  },
  {
   "cell_type": "code",
   "execution_count": 15,
   "id": "25b7a887-bab2-4d33-a335-2bce77dbaf88",
   "metadata": {},
   "outputs": [
    {
     "data": {
      "text/plain": [
       "Index(['fs_id', 'sfs_id', 'sfs_area_ha', 'fs_name', 'sfs_exposure',\n",
       "       'pct_disturbed', 'geometry', 'US_L4CODE', 'US_L4NAME', 'trend_area',\n",
       "       'trend_count', 'historic', 'ssp245', 'ssp585', 'delta245', 'delta585',\n",
       "       'aspen10_pct', 'aspen10_pixn'],\n",
       "      dtype='object')"
      ]
     },
     "execution_count": 15,
     "metadata": {},
     "output_type": "execute_result"
    }
   ],
   "source": [
    "# rename for clarity\n",
    "aspen10_grids.rename(columns={\n",
    "    'pct_cover': 'aspen10_pct',\n",
    "    'count': 'aspen10_pixn'\n",
    "}, inplace=True)\n",
    "\n",
    "# merge back to the main grid data\n",
    "firesheds_fa = pd.merge(\n",
    "    firesheds_fa, aspen10_grids[['sfs_id','aspen10_pct','aspen10_pixn']], \n",
    "    on='sfs_id', how='left')\n",
    "firesheds_fa.columns"
   ]
  },
  {
   "cell_type": "code",
   "execution_count": 16,
   "id": "fc971b19-d97c-49a4-8981-825323109209",
   "metadata": {},
   "outputs": [
    {
     "data": {
      "text/plain": [
       "1714"
      ]
     },
     "execution_count": 16,
     "metadata": {},
     "output_type": "execute_result"
    }
   ],
   "source": [
    "len(firesheds_fa)"
   ]
  },
  {
   "cell_type": "code",
   "execution_count": 17,
   "id": "6b6d5c9c-4dd6-4bd7-a399-9cdb1992401d",
   "metadata": {},
   "outputs": [
    {
     "data": {
      "text/plain": [
       "441"
      ]
     },
     "execution_count": 17,
     "metadata": {},
     "output_type": "execute_result"
    }
   ],
   "source": [
    "del aspen10, aspen10_grids\n",
    "gc.collect() # free memory"
   ]
  },
  {
   "cell_type": "code",
   "execution_count": 18,
   "id": "72fb2d80-1922-462c-969e-1b5cf0a6134d",
   "metadata": {},
   "outputs": [
    {
     "data": {
      "text/html": [
       "<div>\n",
       "<style scoped>\n",
       "    .dataframe tbody tr th:only-of-type {\n",
       "        vertical-align: middle;\n",
       "    }\n",
       "\n",
       "    .dataframe tbody tr th {\n",
       "        vertical-align: top;\n",
       "    }\n",
       "\n",
       "    .dataframe thead th {\n",
       "        text-align: right;\n",
       "    }\n",
       "</style>\n",
       "<table border=\"1\" class=\"dataframe\">\n",
       "  <thead>\n",
       "    <tr style=\"text-align: right;\">\n",
       "      <th></th>\n",
       "      <th>Unnamed: 0</th>\n",
       "      <th>class_val</th>\n",
       "      <th>number_of_patches</th>\n",
       "      <th>patch_density</th>\n",
       "      <th>largest_patch_index</th>\n",
       "      <th>sfs_id</th>\n",
       "    </tr>\n",
       "  </thead>\n",
       "  <tbody>\n",
       "    <tr>\n",
       "      <th>0</th>\n",
       "      <td>0</td>\n",
       "      <td>1</td>\n",
       "      <td>86</td>\n",
       "      <td>3.815372</td>\n",
       "      <td>0.095384</td>\n",
       "      <td>20467</td>\n",
       "    </tr>\n",
       "    <tr>\n",
       "      <th>1</th>\n",
       "      <td>1</td>\n",
       "      <td>1</td>\n",
       "      <td>4</td>\n",
       "      <td>0.161778</td>\n",
       "      <td>0.010920</td>\n",
       "      <td>20466</td>\n",
       "    </tr>\n",
       "    <tr>\n",
       "      <th>2</th>\n",
       "      <td>2</td>\n",
       "      <td>1</td>\n",
       "      <td>1941</td>\n",
       "      <td>54.625124</td>\n",
       "      <td>2.078062</td>\n",
       "      <td>20469</td>\n",
       "    </tr>\n",
       "    <tr>\n",
       "      <th>3</th>\n",
       "      <td>3</td>\n",
       "      <td>1</td>\n",
       "      <td>1147</td>\n",
       "      <td>34.018549</td>\n",
       "      <td>2.622127</td>\n",
       "      <td>21247</td>\n",
       "    </tr>\n",
       "    <tr>\n",
       "      <th>4</th>\n",
       "      <td>4</td>\n",
       "      <td>1</td>\n",
       "      <td>274</td>\n",
       "      <td>6.027091</td>\n",
       "      <td>0.690916</td>\n",
       "      <td>21025</td>\n",
       "    </tr>\n",
       "  </tbody>\n",
       "</table>\n",
       "</div>"
      ],
      "text/plain": [
       "   Unnamed: 0  class_val  number_of_patches  patch_density  \\\n",
       "0           0          1                 86       3.815372   \n",
       "1           1          1                  4       0.161778   \n",
       "2           2          1               1941      54.625124   \n",
       "3           3          1               1147      34.018549   \n",
       "4           4          1                274       6.027091   \n",
       "\n",
       "   largest_patch_index  sfs_id  \n",
       "0             0.095384   20467  \n",
       "1             0.010920   20466  \n",
       "2             2.078062   20469  \n",
       "3             2.622127   21247  \n",
       "4             0.690916   21025  "
      ]
     },
     "execution_count": 18,
     "metadata": {},
     "output_type": "execute_result"
    }
   ],
   "source": [
    "# load the patch metrics and join in\n",
    "fp = os.path.join(projdir,'Aim3/data/tabular/firesheds_aspen10_patches.csv')\n",
    "patches = pd.read_csv(fp)\n",
    "patches.head()"
   ]
  },
  {
   "cell_type": "code",
   "execution_count": 19,
   "id": "50f047fd-83ec-4c92-b05a-826ad923e6cd",
   "metadata": {},
   "outputs": [
    {
     "name": "stdout",
     "output_type": "stream",
     "text": [
      "Index(['fs_id', 'sfs_id', 'sfs_area_ha', 'fs_name', 'sfs_exposure',\n",
      "       'pct_disturbed', 'geometry', 'US_L4CODE', 'US_L4NAME', 'trend_area',\n",
      "       'trend_count', 'historic', 'ssp245', 'ssp585', 'delta245', 'delta585',\n",
      "       'aspen10_pct', 'aspen10_pixn', 'number_of_patches', 'patch_density',\n",
      "       'largest_patch_index'],\n",
      "      dtype='object')\n"
     ]
    },
    {
     "data": {
      "text/plain": [
       "1714"
      ]
     },
     "execution_count": 19,
     "metadata": {},
     "output_type": "execute_result"
    }
   ],
   "source": [
    "# tidy\n",
    "patches = patches[['sfs_id', 'number_of_patches', 'patch_density', 'largest_patch_index']]\n",
    "firesheds_fa = pd.merge(firesheds_fa, patches, on='sfs_id', how='left')\n",
    "print(firesheds_fa.columns)\n",
    "len(firesheds_fa)"
   ]
  },
  {
   "cell_type": "code",
   "execution_count": null,
   "id": "cf846306-5cd8-432c-a863-66be82c8feaf",
   "metadata": {},
   "outputs": [],
   "source": []
  },
  {
   "cell_type": "markdown",
   "id": "f253c400-a855-48e3-b902-d81d3696791a",
   "metadata": {},
   "source": [
    "## Built Environment Summaries\n",
    "\n",
    "COMBUST, Microsoft Building Footprints, WorldPop population density/counts, and WUI classification (10-m)"
   ]
  },
  {
   "cell_type": "code",
   "execution_count": 20,
   "id": "82fc9a14-597e-4bb0-a621-7f8d666327fa",
   "metadata": {},
   "outputs": [
    {
     "name": "stdout",
     "output_type": "stream",
     "text": [
      "Processing: combust\n",
      "Processing: msbf_count\n",
      "Processing: pop_density\n",
      "Processing: pop_count\n"
     ]
    },
    {
     "data": {
      "text/html": [
       "<div>\n",
       "<style scoped>\n",
       "    .dataframe tbody tr th:only-of-type {\n",
       "        vertical-align: middle;\n",
       "    }\n",
       "\n",
       "    .dataframe tbody tr th {\n",
       "        vertical-align: top;\n",
       "    }\n",
       "\n",
       "    .dataframe thead th {\n",
       "        text-align: right;\n",
       "    }\n",
       "</style>\n",
       "<table border=\"1\" class=\"dataframe\">\n",
       "  <thead>\n",
       "    <tr style=\"text-align: right;\">\n",
       "      <th></th>\n",
       "      <th>sfs_id</th>\n",
       "      <th>combust_sum</th>\n",
       "      <th>msbf_count_sum</th>\n",
       "      <th>pop_density_max</th>\n",
       "      <th>pop_count_sum</th>\n",
       "    </tr>\n",
       "  </thead>\n",
       "  <tbody>\n",
       "    <tr>\n",
       "      <th>0</th>\n",
       "      <td>20466</td>\n",
       "      <td>71.803413</td>\n",
       "      <td>16.0</td>\n",
       "      <td>0.097160</td>\n",
       "      <td>NaN</td>\n",
       "    </tr>\n",
       "    <tr>\n",
       "      <th>1</th>\n",
       "      <td>20467</td>\n",
       "      <td>40.710857</td>\n",
       "      <td>10.0</td>\n",
       "      <td>0.353301</td>\n",
       "      <td>NaN</td>\n",
       "    </tr>\n",
       "    <tr>\n",
       "      <th>2</th>\n",
       "      <td>20468</td>\n",
       "      <td>24.782980</td>\n",
       "      <td>10.0</td>\n",
       "      <td>0.097160</td>\n",
       "      <td>NaN</td>\n",
       "    </tr>\n",
       "    <tr>\n",
       "      <th>3</th>\n",
       "      <td>20469</td>\n",
       "      <td>0.000000</td>\n",
       "      <td>0.0</td>\n",
       "      <td>0.117208</td>\n",
       "      <td>NaN</td>\n",
       "    </tr>\n",
       "    <tr>\n",
       "      <th>4</th>\n",
       "      <td>21025</td>\n",
       "      <td>60.324951</td>\n",
       "      <td>13.0</td>\n",
       "      <td>0.004678</td>\n",
       "      <td>NaN</td>\n",
       "    </tr>\n",
       "  </tbody>\n",
       "</table>\n",
       "</div>"
      ],
      "text/plain": [
       "   sfs_id  combust_sum  msbf_count_sum  pop_density_max  pop_count_sum\n",
       "0   20466    71.803413            16.0         0.097160            NaN\n",
       "1   20467    40.710857            10.0         0.353301            NaN\n",
       "2   20468    24.782980            10.0         0.097160            NaN\n",
       "3   20469     0.000000             0.0         0.117208            NaN\n",
       "4   21025    60.324951            13.0         0.004678            NaN"
      ]
     },
     "execution_count": 20,
     "metadata": {},
     "output_type": "execute_result"
    }
   ],
   "source": [
    "# Contemporary COMBUST grid (combustible mass of the built environment)\n",
    "combust_fp = os.path.join(projdir,'Aim3/data/spatial/raw/COMBUST/combustible_building_mass_t_2020_mean.tif')\n",
    "# Miscrosoft building footprint counts (same grid as COMBUST)\n",
    "msbf_fp = os.path.join(maindir,'earth-lab/opp-urban-fuels/data/spatial/mod/Microsoft/msbf_counts.tif')\n",
    "# WorldPop population density estimates\n",
    "wp_density_fp = os.path.join(projdir,'Aim3/data/spatial/raw/WorldPop/usa_pd_2020_1km.tif')\n",
    "wp_count_fp = os.path.join(projdir,'Aim3/data/spatial/raw/WorldPop/srm_ppp_2020_constrained.tif')\n",
    "\n",
    "# put the continuous rasters in a dictionary to calculate zonal stats\n",
    "das = {\n",
    "    'combust': combust_fp,\n",
    "    'msbf_count': msbf_fp,\n",
    "    'pop_density': wp_density_fp,\n",
    "    'pop_count': wp_count_fp,\n",
    "}\n",
    "\n",
    "results = []\n",
    "# map the dictionary, calculate zonal stats\n",
    "for key, fp in das.items():\n",
    "    print(f\"Processing: {key}\")\n",
    "    # process the raster grid\n",
    "    da = rxr.open_rasterio(fp, masked=True, cache=False).squeeze()\n",
    "    da = da.rio.reproject(proj) # ensure matching projection\n",
    "    if key == 'pop_density':\n",
    "        stat = ['max']\n",
    "    else:\n",
    "        stat = ['sum']\n",
    "    # calculate zonal statistics\n",
    "    zs = compute_band_stats(\n",
    "        geoms=firesheds, \n",
    "        image_da=da, \n",
    "        id_col='sfs_id', \n",
    "        stats=stat, \n",
    "        attr=key,\n",
    "        ztype='continuous'\n",
    "    )\n",
    "    results.append(zs)\n",
    "    del da, zs\n",
    "    \n",
    "# concatenate the results\n",
    "built_env_pop = pd.concat([df.set_index(\"sfs_id\") for df in results], axis=1).reset_index()\n",
    "built_env_pop.head()"
   ]
  },
  {
   "cell_type": "markdown",
   "id": "2d82aafe-8922-46e2-9d21-b07db48eaad1",
   "metadata": {},
   "source": [
    "### Wildland Urban Interface/Intermix (SILVIS)"
   ]
  },
  {
   "cell_type": "code",
   "execution_count": 21,
   "id": "2fe64df9-07c4-44bf-8a28-2949e8a408a9",
   "metadata": {},
   "outputs": [
    {
     "data": {
      "text/html": [
       "<div>\n",
       "<style scoped>\n",
       "    .dataframe tbody tr th:only-of-type {\n",
       "        vertical-align: middle;\n",
       "    }\n",
       "\n",
       "    .dataframe tbody tr th {\n",
       "        vertical-align: top;\n",
       "    }\n",
       "\n",
       "    .dataframe thead th {\n",
       "        text-align: right;\n",
       "    }\n",
       "</style>\n",
       "<table border=\"1\" class=\"dataframe\">\n",
       "  <thead>\n",
       "    <tr style=\"text-align: right;\">\n",
       "      <th></th>\n",
       "      <th>sfs_id</th>\n",
       "      <th>wui1</th>\n",
       "      <th>wui2</th>\n",
       "      <th>wui3</th>\n",
       "      <th>wui4</th>\n",
       "      <th>wui_dist_mean</th>\n",
       "    </tr>\n",
       "  </thead>\n",
       "  <tbody>\n",
       "    <tr>\n",
       "      <th>0</th>\n",
       "      <td>20466</td>\n",
       "      <td>0.0</td>\n",
       "      <td>0.0</td>\n",
       "      <td>0.0</td>\n",
       "      <td>0.0</td>\n",
       "      <td>234.911944</td>\n",
       "    </tr>\n",
       "    <tr>\n",
       "      <th>1</th>\n",
       "      <td>20467</td>\n",
       "      <td>0.0</td>\n",
       "      <td>0.0</td>\n",
       "      <td>0.0</td>\n",
       "      <td>0.0</td>\n",
       "      <td>143.537877</td>\n",
       "    </tr>\n",
       "    <tr>\n",
       "      <th>2</th>\n",
       "      <td>20468</td>\n",
       "      <td>0.0</td>\n",
       "      <td>0.0</td>\n",
       "      <td>0.0</td>\n",
       "      <td>0.0</td>\n",
       "      <td>277.059693</td>\n",
       "    </tr>\n",
       "    <tr>\n",
       "      <th>3</th>\n",
       "      <td>20469</td>\n",
       "      <td>0.0</td>\n",
       "      <td>0.0</td>\n",
       "      <td>0.0</td>\n",
       "      <td>0.0</td>\n",
       "      <td>161.697882</td>\n",
       "    </tr>\n",
       "    <tr>\n",
       "      <th>4</th>\n",
       "      <td>21025</td>\n",
       "      <td>0.0</td>\n",
       "      <td>0.0</td>\n",
       "      <td>0.0</td>\n",
       "      <td>0.0</td>\n",
       "      <td>175.126415</td>\n",
       "    </tr>\n",
       "  </tbody>\n",
       "</table>\n",
       "</div>"
      ],
      "text/plain": [
       "   sfs_id  wui1  wui2  wui3  wui4  wui_dist_mean\n",
       "0   20466   0.0   0.0   0.0   0.0     234.911944\n",
       "1   20467   0.0   0.0   0.0   0.0     143.537877\n",
       "2   20468   0.0   0.0   0.0   0.0     277.059693\n",
       "3   20469   0.0   0.0   0.0   0.0     161.697882\n",
       "4   21025   0.0   0.0   0.0   0.0     175.126415"
      ]
     },
     "execution_count": 21,
     "metadata": {},
     "output_type": "execute_result"
    }
   ],
   "source": [
    "# load the results from \"wui-summary.ipynb\"\n",
    "fp = os.path.join(projdir, 'Aim3/data/tabular/fireshed_wuiSILVIS_stats.csv')\n",
    "wui = pd.read_csv(fp)\n",
    "wui.drop(columns=['Unnamed: 0'], inplace=True)\n",
    "wui.head()"
   ]
  },
  {
   "cell_type": "code",
   "execution_count": 22,
   "id": "f8f11fee-79b2-4d59-9780-4ec2040ee86c",
   "metadata": {},
   "outputs": [
    {
     "data": {
      "text/plain": [
       "Index(['sfs_id', 'combust_sum', 'msbf_count_sum', 'pop_density_max',\n",
       "       'pop_count_sum', 'wui1', 'wui2', 'wui3', 'wui4', 'wui_dist_mean'],\n",
       "      dtype='object')"
      ]
     },
     "execution_count": 22,
     "metadata": {},
     "output_type": "execute_result"
    }
   ],
   "source": [
    "# merge the built environment stats with the wui stats\n",
    "wui_bltenv = pd.merge(built_env_pop, wui, on='sfs_id', how='left')\n",
    "wui_bltenv.columns"
   ]
  },
  {
   "cell_type": "code",
   "execution_count": 23,
   "id": "4e0aec8e-b5f9-4754-906b-155badfa943f",
   "metadata": {},
   "outputs": [
    {
     "data": {
      "text/plain": [
       "Index(['fs_id', 'sfs_id', 'sfs_area_ha', 'fs_name', 'sfs_exposure',\n",
       "       'pct_disturbed', 'geometry', 'US_L4CODE', 'US_L4NAME', 'trend_area',\n",
       "       'trend_count', 'historic', 'ssp245', 'ssp585', 'delta245', 'delta585',\n",
       "       'aspen10_pct', 'aspen10_pixn', 'number_of_patches', 'patch_density',\n",
       "       'largest_patch_index', 'combust_sum', 'msbf_count_sum',\n",
       "       'pop_density_max', 'pop_count_sum', 'wui1', 'wui2', 'wui3', 'wui4',\n",
       "       'wui_dist_mean'],\n",
       "      dtype='object')"
      ]
     },
     "execution_count": 23,
     "metadata": {},
     "output_type": "execute_result"
    }
   ],
   "source": [
    "# merge to the future fire grid\n",
    "firesheds_fa = pd.merge(firesheds_fa, wui_bltenv, on='sfs_id', how='left')\n",
    "firesheds_fa.columns"
   ]
  },
  {
   "cell_type": "code",
   "execution_count": 24,
   "id": "24d48ca6-bf99-4300-b1b0-28853d3e2311",
   "metadata": {},
   "outputs": [
    {
     "data": {
      "text/plain": [
       "1714"
      ]
     },
     "execution_count": 24,
     "metadata": {},
     "output_type": "execute_result"
    }
   ],
   "source": [
    "len(firesheds_fa)"
   ]
  },
  {
   "cell_type": "code",
   "execution_count": null,
   "id": "65503c25-4392-4039-a39b-3cf51719842f",
   "metadata": {},
   "outputs": [],
   "source": []
  },
  {
   "cell_type": "code",
   "execution_count": null,
   "id": "a3468f3d-96c8-4823-94ee-4e23041a110d",
   "metadata": {},
   "outputs": [],
   "source": []
  },
  {
   "cell_type": "markdown",
   "id": "37a6d2ea-3640-4b75-97cd-564bcc9b3b7b",
   "metadata": {},
   "source": [
    "## Contemporary Fire Activity and Fire Risk "
   ]
  },
  {
   "cell_type": "markdown",
   "id": "d251caee-23c9-4f86-a31d-7d3f13a9e194",
   "metadata": {},
   "source": [
    "### Ignition Causes"
   ]
  },
  {
   "cell_type": "code",
   "execution_count": 25,
   "id": "52a13e8e-8d99-4e2a-aa6d-1868abf43d96",
   "metadata": {},
   "outputs": [
    {
     "data": {
      "text/plain": [
       "Index(['OBJECTID', 'FOD_ID', 'FPA_ID', 'SOURCE_SYSTEM_TYPE', 'SOURCE_SYSTEM',\n",
       "       'NWCG_REPORTING_AGENCY', 'NWCG_REPORTING_UNIT_ID',\n",
       "       'NWCG_REPORTING_UNIT_NAME', 'SOURCE_REPORTING_UNIT',\n",
       "       'SOURCE_REPORTING_UNIT_NAME', 'LOCAL_FIRE_REPORT_ID',\n",
       "       'LOCAL_INCIDENT_ID', 'FIRE_CODE', 'FIRE_NAME',\n",
       "       'ICS_209_PLUS_INCIDENT_JOIN_ID', 'ICS_209_PLUS_COMPLEX_JOIN_ID',\n",
       "       'MTBS_ID', 'MTBS_FIRE_NAME', 'COMPLEX_NAME', 'FIRE_YEAR',\n",
       "       'DISCOVERY_DATE', 'DISCOVERY_DOY', 'DISCOVERY_TIME',\n",
       "       'NWCG_CAUSE_CLASSIFICATION', 'NWCG_GENERAL_CAUSE',\n",
       "       'NWCG_CAUSE_AGE_CATEGORY', 'CONT_DATE', 'CONT_DOY', 'CONT_TIME',\n",
       "       'FIRE_SIZE', 'FIRE_SIZE_CLASS', 'LATITUDE', 'LONGITUDE', 'OWNER_DESCR',\n",
       "       'STATE', 'COUNTY', 'FIPS_CODE', 'FIPS_NAME', 'geometry'],\n",
       "      dtype='object')"
      ]
     },
     "execution_count": 25,
     "metadata": {},
     "output_type": "execute_result"
    }
   ],
   "source": [
    "# load the fpa-fod ignitions data and get the total count\n",
    "fpa_fp = os.path.join(projdir,'Aim3/data/spatial/mod/fire/srm_fpa_fod.gpkg')\n",
    "fpa = gpd.read_file(fpa_fp)\n",
    "fpa.columns"
   ]
  },
  {
   "cell_type": "code",
   "execution_count": 26,
   "id": "0dea7fb8-6de4-4fba-ba3b-92adbb507d58",
   "metadata": {},
   "outputs": [
    {
     "name": "stdout",
     "output_type": "stream",
     "text": [
      "1992\n",
      "2020\n"
     ]
    }
   ],
   "source": [
    "print(fpa['FIRE_YEAR'].min())\n",
    "print(fpa['FIRE_YEAR'].max())"
   ]
  },
  {
   "cell_type": "code",
   "execution_count": 27,
   "id": "d4aa3eb7-06c8-4b7f-9c6f-907fd9474535",
   "metadata": {},
   "outputs": [
    {
     "data": {
      "text/plain": [
       "array(['Natural', 'Human', 'Missing data/not specified/undetermined'],\n",
       "      dtype=object)"
      ]
     },
     "execution_count": 27,
     "metadata": {},
     "output_type": "execute_result"
    }
   ],
   "source": [
    "fpa['NWCG_CAUSE_CLASSIFICATION'].unique()"
   ]
  },
  {
   "cell_type": "code",
   "execution_count": 28,
   "id": "d9740833-d705-44bf-88f7-22df966b007d",
   "metadata": {},
   "outputs": [
    {
     "data": {
      "text/plain": [
       "Index(['Unnamed: 0', 'INCIDENT_ID', 'INCIDENT_NUMBER', 'INCIDENT_NAME',\n",
       "       'INCTYP_ABBREVIATION', 'FINAL_ACRES', 'CAUSE', 'COMPLEX',\n",
       "       'DISCOVERY_DATE', 'DISCOVERY_DOY', 'EXPECTED_CONTAINMENT_DATE',\n",
       "       'FATALITIES', 'FUEL_MODEL', 'INCIDENT_DESCRIPTION', 'INC_IDENTIFIER',\n",
       "       'INJURIES_TOTAL', 'LL_CONFIDENCE', 'LL_UPDATE', 'LOCAL_TIMEZONE',\n",
       "       'POO_CITY', 'POO_COUNTY', 'POO_LATITUDE', 'POO_LONGITUDE',\n",
       "       'POO_SHORT_LOCATION_DESC', 'POO_STATE', 'PROJECTED_FINAL_IM_COST',\n",
       "       'START_YEAR', 'SUPPRESSION_METHOD', 'STR_DAMAGED_TOTAL',\n",
       "       'STR_DAMAGED_COMM_TOTAL', 'STR_DAMAGED_RES_TOTAL',\n",
       "       'STR_DESTROYED_TOTAL', 'STR_DESTROYED_COMM_TOTAL',\n",
       "       'STR_DESTROYED_RES_TOTAL', 'FATALITIES_RESPONDER', 'FATALITIES_PUBLIC',\n",
       "       'FINAL_REPORT_DATE', 'INCIDENT_ID_OLD', 'INC_MGMT_NUM_SITREPS',\n",
       "       'EVACUATION_REPORTED', 'PEAK_EVACUATIONS', 'STR_THREATENED_MAX',\n",
       "       'STR_THREATENED_COMM_MAX', 'STR_THREATENED_RES_MAX', 'TOTAL_AERIAL_SUM',\n",
       "       'TOTAL_PERSONNEL_SUM', 'WF_PEAK_AERIAL', 'WF_PEAK_AERIAL_DATE',\n",
       "       'WF_PEAK_AERIAL_DOY', 'WF_PEAK_PERSONNEL', 'WF_PEAK_PERSONNEL_DATE',\n",
       "       'WF_PEAK_PERSONNEL_DOY', 'WF_CESSATION_DATE', 'WF_CESSATION_DOY',\n",
       "       'WF_MAX_FSR', 'WF_MAX_GROWTH_DATE', 'WF_MAX_GROWTH_DOY',\n",
       "       'WF_GROWTH_DURATION', 'SUP_SERIES', 'SUP_METHOD_INITIAL',\n",
       "       'SUP_METHOD_FINAL', 'SUP_PERCENT_FS', 'index_right', 'STUSPS',\n",
       "       'geometry'],\n",
       "      dtype='object')"
      ]
     },
     "execution_count": 28,
     "metadata": {},
     "output_type": "execute_result"
    }
   ],
   "source": [
    "# load the ICS (for 2021-2023) for Southern Rockies\n",
    "ics = os.path.join(projdir,'Aim3/data/spatial/raw/ics/srm_ics209plus_to2023.gpkg')\n",
    "ics = gpd.read_file(ics)\n",
    "ics.columns"
   ]
  },
  {
   "cell_type": "code",
   "execution_count": 29,
   "id": "364085a3-45d3-43d3-8da7-9bd1a3bac4c7",
   "metadata": {},
   "outputs": [
    {
     "data": {
      "text/plain": [
       "array(['H', 'L', 'U'], dtype=object)"
      ]
     },
     "execution_count": 29,
     "metadata": {},
     "output_type": "execute_result"
    }
   ],
   "source": [
    "# filter and prep the ICS\n",
    "ics = ics[ics['START_YEAR'] > 2020]\n",
    "ics.CAUSE.unique()"
   ]
  },
  {
   "cell_type": "code",
   "execution_count": 30,
   "id": "c9ecf414-a072-456b-8653-238e760398d8",
   "metadata": {},
   "outputs": [
    {
     "data": {
      "text/html": [
       "<div>\n",
       "<style scoped>\n",
       "    .dataframe tbody tr th:only-of-type {\n",
       "        vertical-align: middle;\n",
       "    }\n",
       "\n",
       "    .dataframe tbody tr th {\n",
       "        vertical-align: top;\n",
       "    }\n",
       "\n",
       "    .dataframe thead th {\n",
       "        text-align: right;\n",
       "    }\n",
       "</style>\n",
       "<table border=\"1\" class=\"dataframe\">\n",
       "  <thead>\n",
       "    <tr style=\"text-align: right;\">\n",
       "      <th></th>\n",
       "      <th>index</th>\n",
       "      <th>START_YEAR</th>\n",
       "      <th>CAUSE</th>\n",
       "      <th>FINAL_ACRES</th>\n",
       "      <th>SOURCE</th>\n",
       "    </tr>\n",
       "  </thead>\n",
       "  <tbody>\n",
       "    <tr>\n",
       "      <th>0</th>\n",
       "      <td>25</td>\n",
       "      <td>2021</td>\n",
       "      <td>Human</td>\n",
       "      <td>8952.00</td>\n",
       "      <td>ICS209PLUS</td>\n",
       "    </tr>\n",
       "    <tr>\n",
       "      <th>1</th>\n",
       "      <td>26</td>\n",
       "      <td>2021</td>\n",
       "      <td>Natural</td>\n",
       "      <td>0.10</td>\n",
       "      <td>ICS209PLUS</td>\n",
       "    </tr>\n",
       "    <tr>\n",
       "      <th>2</th>\n",
       "      <td>27</td>\n",
       "      <td>2022</td>\n",
       "      <td>Natural</td>\n",
       "      <td>0.25</td>\n",
       "      <td>ICS209PLUS</td>\n",
       "    </tr>\n",
       "    <tr>\n",
       "      <th>3</th>\n",
       "      <td>495</td>\n",
       "      <td>2021</td>\n",
       "      <td>Natural</td>\n",
       "      <td>7586.00</td>\n",
       "      <td>ICS209PLUS</td>\n",
       "    </tr>\n",
       "    <tr>\n",
       "      <th>4</th>\n",
       "      <td>496</td>\n",
       "      <td>2021</td>\n",
       "      <td>Human</td>\n",
       "      <td>536.70</td>\n",
       "      <td>ICS209PLUS</td>\n",
       "    </tr>\n",
       "  </tbody>\n",
       "</table>\n",
       "</div>"
      ],
      "text/plain": [
       "   index  START_YEAR    CAUSE  FINAL_ACRES      SOURCE\n",
       "0     25        2021    Human      8952.00  ICS209PLUS\n",
       "1     26        2021  Natural         0.10  ICS209PLUS\n",
       "2     27        2022  Natural         0.25  ICS209PLUS\n",
       "3    495        2021  Natural      7586.00  ICS209PLUS\n",
       "4    496        2021    Human       536.70  ICS209PLUS"
      ]
     },
     "execution_count": 30,
     "metadata": {},
     "output_type": "execute_result"
    }
   ],
   "source": [
    "ics_ = ics[['START_YEAR','CAUSE','FINAL_ACRES']].reset_index()\n",
    "# replace the undetermined code\n",
    "ics_['CAUSE'] = ics_['CAUSE'].replace({\n",
    "    \"U\": \"Undetermined\",\n",
    "    \"H\": \"Human\",\n",
    "    \"L\": \"Natural\"\n",
    "})\n",
    "ics_['SOURCE'] = 'ICS209PLUS'\n",
    "ics_.head()"
   ]
  },
  {
   "cell_type": "code",
   "execution_count": 31,
   "id": "17425c96-2ce0-4662-9a98-426cbaece8b7",
   "metadata": {},
   "outputs": [
    {
     "data": {
      "text/plain": [
       "array(['Natural', 'Human', 'Missing data/not specified/undetermined'],\n",
       "      dtype=object)"
      ]
     },
     "execution_count": 31,
     "metadata": {},
     "output_type": "execute_result"
    }
   ],
   "source": [
    "fpa.rename(\n",
    "    columns={\n",
    "        'NWCG_CAUSE_CLASSIFICATION': 'CAUSE',\n",
    "        'FIRE_YEAR': 'START_YEAR',\n",
    "        'FIRE_SIZE': 'FINAL_ACRES',\n",
    "        'OBJECTID': 'index'\n",
    "    }, inplace=True\n",
    ")\n",
    "fpa_ = fpa[['index','START_YEAR','CAUSE','FINAL_ACRES']]\n",
    "fpa_['SOURCE'] = 'FPA-FOD'\n",
    "fpa_.CAUSE.unique()"
   ]
  },
  {
   "cell_type": "code",
   "execution_count": 32,
   "id": "6223dfaa-83e8-432f-8cad-b6e90bb46459",
   "metadata": {},
   "outputs": [
    {
     "data": {
      "text/plain": [
       "Index(['index', 'START_YEAR', 'CAUSE', 'FINAL_ACRES', 'SOURCE'], dtype='object')"
      ]
     },
     "execution_count": 32,
     "metadata": {},
     "output_type": "execute_result"
    }
   ],
   "source": [
    "# prep and merge FPA and ICS\n",
    "fpa_['CAUSE'] = fpa_['CAUSE'].replace(\n",
    "    \"Missing data/not specified/undetermined\", \"Undetermined\"\n",
    ")\n",
    "# merge\n",
    "ics_fpa = pd.concat([fpa_, ics_], axis=0)\n",
    "ics_fpa.columns"
   ]
  },
  {
   "cell_type": "code",
   "execution_count": 33,
   "id": "0b1255af-262b-4140-9a6b-7551d5c5611c",
   "metadata": {},
   "outputs": [
    {
     "data": {
      "text/html": [
       "<div>\n",
       "<style scoped>\n",
       "    .dataframe tbody tr th:only-of-type {\n",
       "        vertical-align: middle;\n",
       "    }\n",
       "\n",
       "    .dataframe tbody tr th {\n",
       "        vertical-align: top;\n",
       "    }\n",
       "\n",
       "    .dataframe thead th {\n",
       "        text-align: right;\n",
       "    }\n",
       "</style>\n",
       "<table border=\"1\" class=\"dataframe\">\n",
       "  <thead>\n",
       "    <tr style=\"text-align: right;\">\n",
       "      <th></th>\n",
       "      <th>index</th>\n",
       "      <th>START_YEAR</th>\n",
       "      <th>CAUSE</th>\n",
       "      <th>FINAL_ACRES</th>\n",
       "      <th>SOURCE</th>\n",
       "    </tr>\n",
       "  </thead>\n",
       "  <tbody>\n",
       "    <tr>\n",
       "      <th>0</th>\n",
       "      <td>26619</td>\n",
       "      <td>2007</td>\n",
       "      <td>Natural</td>\n",
       "      <td>0.10</td>\n",
       "      <td>FPA-FOD</td>\n",
       "    </tr>\n",
       "    <tr>\n",
       "      <th>1</th>\n",
       "      <td>31852</td>\n",
       "      <td>2008</td>\n",
       "      <td>Natural</td>\n",
       "      <td>0.25</td>\n",
       "      <td>FPA-FOD</td>\n",
       "    </tr>\n",
       "    <tr>\n",
       "      <th>2</th>\n",
       "      <td>144199</td>\n",
       "      <td>2001</td>\n",
       "      <td>Natural</td>\n",
       "      <td>0.50</td>\n",
       "      <td>FPA-FOD</td>\n",
       "    </tr>\n",
       "    <tr>\n",
       "      <th>3</th>\n",
       "      <td>144217</td>\n",
       "      <td>2001</td>\n",
       "      <td>Natural</td>\n",
       "      <td>0.10</td>\n",
       "      <td>FPA-FOD</td>\n",
       "    </tr>\n",
       "    <tr>\n",
       "      <th>4</th>\n",
       "      <td>68258</td>\n",
       "      <td>1994</td>\n",
       "      <td>Natural</td>\n",
       "      <td>0.10</td>\n",
       "      <td>FPA-FOD</td>\n",
       "    </tr>\n",
       "  </tbody>\n",
       "</table>\n",
       "</div>"
      ],
      "text/plain": [
       "    index  START_YEAR    CAUSE  FINAL_ACRES   SOURCE\n",
       "0   26619        2007  Natural         0.10  FPA-FOD\n",
       "1   31852        2008  Natural         0.25  FPA-FOD\n",
       "2  144199        2001  Natural         0.50  FPA-FOD\n",
       "3  144217        2001  Natural         0.10  FPA-FOD\n",
       "4   68258        1994  Natural         0.10  FPA-FOD"
      ]
     },
     "execution_count": 33,
     "metadata": {},
     "output_type": "execute_result"
    }
   ],
   "source": [
    "ics_fpa.head()"
   ]
  },
  {
   "cell_type": "code",
   "execution_count": 34,
   "id": "3cc839a2-ef31-4e7f-96f6-05f3f43b09ee",
   "metadata": {},
   "outputs": [
    {
     "data": {
      "text/html": [
       "<div>\n",
       "<style scoped>\n",
       "    .dataframe tbody tr th:only-of-type {\n",
       "        vertical-align: middle;\n",
       "    }\n",
       "\n",
       "    .dataframe tbody tr th {\n",
       "        vertical-align: top;\n",
       "    }\n",
       "\n",
       "    .dataframe thead th {\n",
       "        text-align: right;\n",
       "    }\n",
       "</style>\n",
       "<table border=\"1\" class=\"dataframe\">\n",
       "  <thead>\n",
       "    <tr style=\"text-align: right;\">\n",
       "      <th></th>\n",
       "      <th>START_YEAR</th>\n",
       "      <th>CAUSE</th>\n",
       "      <th>area_burned</th>\n",
       "      <th>fire_count</th>\n",
       "    </tr>\n",
       "  </thead>\n",
       "  <tbody>\n",
       "    <tr>\n",
       "      <th>0</th>\n",
       "      <td>1992</td>\n",
       "      <td>Human</td>\n",
       "      <td>1606.6</td>\n",
       "      <td>341</td>\n",
       "    </tr>\n",
       "    <tr>\n",
       "      <th>1</th>\n",
       "      <td>1992</td>\n",
       "      <td>Natural</td>\n",
       "      <td>812.0</td>\n",
       "      <td>363</td>\n",
       "    </tr>\n",
       "    <tr>\n",
       "      <th>2</th>\n",
       "      <td>1992</td>\n",
       "      <td>Undetermined</td>\n",
       "      <td>202.7</td>\n",
       "      <td>68</td>\n",
       "    </tr>\n",
       "    <tr>\n",
       "      <th>3</th>\n",
       "      <td>1993</td>\n",
       "      <td>Human</td>\n",
       "      <td>1141.6</td>\n",
       "      <td>362</td>\n",
       "    </tr>\n",
       "    <tr>\n",
       "      <th>4</th>\n",
       "      <td>1993</td>\n",
       "      <td>Natural</td>\n",
       "      <td>8726.0</td>\n",
       "      <td>393</td>\n",
       "    </tr>\n",
       "  </tbody>\n",
       "</table>\n",
       "</div>"
      ],
      "text/plain": [
       "   START_YEAR         CAUSE  area_burned  fire_count\n",
       "0        1992         Human       1606.6         341\n",
       "1        1992       Natural        812.0         363\n",
       "2        1992  Undetermined        202.7          68\n",
       "3        1993         Human       1141.6         362\n",
       "4        1993       Natural       8726.0         393"
      ]
     },
     "execution_count": 34,
     "metadata": {},
     "output_type": "execute_result"
    }
   ],
   "source": [
    "# calculate the area burned by ignition cause by year\n",
    "cause_burned = (\n",
    "    ics_fpa.groupby(['START_YEAR','CAUSE'], as_index=False)\n",
    "    .agg(\n",
    "        area_burned=('FINAL_ACRES','sum'),\n",
    "        fire_count=('index', 'count')   \n",
    "    )\n",
    ")\n",
    "# check the results\n",
    "cause_burned.head()"
   ]
  },
  {
   "cell_type": "code",
   "execution_count": 35,
   "id": "211478b2-3928-4535-be9c-736117647513",
   "metadata": {},
   "outputs": [
    {
     "data": {
      "text/plain": [
       "CAUSE\n",
       "Human           55.120529\n",
       "Natural         33.790534\n",
       "Undetermined    11.088938\n",
       "Name: area_burned, dtype: float64"
      ]
     },
     "execution_count": 35,
     "metadata": {},
     "output_type": "execute_result"
    }
   ],
   "source": [
    "# get the percent by cause\n",
    "total = cause_burned.groupby(\"CAUSE\")[\"area_burned\"].sum()\n",
    "sum = total.sum()\n",
    "(total / sum) * 100"
   ]
  },
  {
   "cell_type": "code",
   "execution_count": 36,
   "id": "3a23e0cd-cfd8-4aba-970d-2d785f0d5647",
   "metadata": {},
   "outputs": [
    {
     "data": {
      "image/png": "[encoded data removed]",
      "text/plain": [
       "<Figure size 700x300 with 1 Axes>"
      ]
     },
     "metadata": {},
     "output_type": "display_data"
    }
   ],
   "source": [
    "# make the plot\n",
    "\n",
    "# Function to format colorbar labels with 'k' notation\n",
    "def format_ticks(value, _):\n",
    "    return f'{int(value / 1000)}k'\n",
    "\n",
    "formatter = FuncFormatter(format_ticks)\n",
    "\n",
    "# define color mapping\n",
    "color_map = {\n",
    "    \"Human\": \"#B22222\",        \n",
    "    \"Natural\": \"#377EB8\",      \n",
    "    \"Undetermined\": \"#B3B3B3\"  \n",
    "}\n",
    "# map the colors\n",
    "colors = [color_map.get(cause, \"#CCCCCC\") for cause in cause_burned[\"CAUSE\"]]\n",
    "\n",
    "# Pivot data for stacking\n",
    "cause_burned_p = cause_burned.pivot(\n",
    "    index=\"START_YEAR\", \n",
    "    columns=\"CAUSE\", \n",
    "    values=\"area_burned\").fillna(0)\n",
    "\n",
    "# Plot\n",
    "fig, ax = plt.subplots(figsize=(7, 3))\n",
    "cause_burned_p.plot(\n",
    "    kind=\"bar\", \n",
    "    stacked=True, \n",
    "    color=[color_map[c] for c in cause_burned_p.columns],  # FIX: use color_map, not cause_colors\n",
    "    ax=ax\n",
    ")\n",
    "\n",
    "# Labels and styling\n",
    "ax.set_xlabel(\"Year\")\n",
    "ax.set_ylabel(\"Area Burned (Acres)\")\n",
    "ax.legend(title=\"Ignition Cause\")\n",
    "\n",
    "# Apply custom formatting to y-axis\n",
    "plt.gca().yaxis.set_major_formatter(formatter)\n",
    "\n",
    "plt.xticks(rotation=45, size=8)\n",
    "plt.grid(axis='y', linestyle='--', alpha=0.7)\n",
    "plt.tight_layout()\n",
    "\n",
    "plt.savefig(os.path.join(projdir, 'Aim3/figures/ICS-FPA_annualBurnedArea_byCause.png'), dpi=300, bbox_inches='tight')\n",
    "\n",
    "plt.show()"
   ]
  },
  {
   "cell_type": "markdown",
   "id": "ce62bdff-f535-4654-af6d-2b9357093fb4",
   "metadata": {},
   "source": [
    "### Burned Area"
   ]
  },
  {
   "cell_type": "code",
   "execution_count": 37,
   "id": "c94d31d6-144d-427f-85d3-9a914621e2b0",
   "metadata": {},
   "outputs": [
    {
     "data": {
      "text/plain": [
       "Index(['Event_ID', 'irwinID', 'Incid_Name', 'Incid_Type', 'Map_ID', 'Map_Prog',\n",
       "       'Asmnt_Type', 'BurnBndAc', 'BurnBndLat', 'BurnBndLon', 'Ig_Date',\n",
       "       'Pre_ID', 'Post_ID', 'Perim_ID', 'dNBR_offst', 'dNBR_stdDv', 'NoData_T',\n",
       "       'IncGreen_T', 'Low_T', 'Mod_T', 'High_T', 'Comment', 'geometry'],\n",
       "      dtype='object')"
      ]
     },
     "execution_count": 37,
     "metadata": {},
     "output_type": "execute_result"
    }
   ],
   "source": [
    "# load burned area and calculate the cumulative area burned\n",
    "mtbs_fp = os.path.join(projdir,'Aim3/data/spatial/mod/fire/srm_mtbs_perims_dd.gpkg')\n",
    "mtbs = gpd.read_file(mtbs_fp)\n",
    "mtbs.columns"
   ]
  },
  {
   "cell_type": "code",
   "execution_count": 38,
   "id": "1f0f9a6c-d523-4afd-b155-6432071cb91a",
   "metadata": {},
   "outputs": [
    {
     "data": {
      "text/html": [
       "<div>\n",
       "<style scoped>\n",
       "    .dataframe tbody tr th:only-of-type {\n",
       "        vertical-align: middle;\n",
       "    }\n",
       "\n",
       "    .dataframe tbody tr th {\n",
       "        vertical-align: top;\n",
       "    }\n",
       "\n",
       "    .dataframe thead th {\n",
       "        text-align: right;\n",
       "    }\n",
       "</style>\n",
       "<table border=\"1\" class=\"dataframe\">\n",
       "  <thead>\n",
       "    <tr style=\"text-align: right;\">\n",
       "      <th></th>\n",
       "      <th>Ig_Date</th>\n",
       "      <th>Fire_Year</th>\n",
       "    </tr>\n",
       "  </thead>\n",
       "  <tbody>\n",
       "    <tr>\n",
       "      <th>0</th>\n",
       "      <td>1987-07-07</td>\n",
       "      <td>1987</td>\n",
       "    </tr>\n",
       "    <tr>\n",
       "      <th>1</th>\n",
       "      <td>1987-07-02</td>\n",
       "      <td>1987</td>\n",
       "    </tr>\n",
       "    <tr>\n",
       "      <th>2</th>\n",
       "      <td>1989-09-25</td>\n",
       "      <td>1989</td>\n",
       "    </tr>\n",
       "    <tr>\n",
       "      <th>3</th>\n",
       "      <td>1989-07-09</td>\n",
       "      <td>1989</td>\n",
       "    </tr>\n",
       "    <tr>\n",
       "      <th>4</th>\n",
       "      <td>1989-07-08</td>\n",
       "      <td>1989</td>\n",
       "    </tr>\n",
       "  </tbody>\n",
       "</table>\n",
       "</div>"
      ],
      "text/plain": [
       "     Ig_Date  Fire_Year\n",
       "0 1987-07-07       1987\n",
       "1 1987-07-02       1987\n",
       "2 1989-09-25       1989\n",
       "3 1989-07-09       1989\n",
       "4 1989-07-08       1989"
      ]
     },
     "execution_count": 38,
     "metadata": {},
     "output_type": "execute_result"
    }
   ],
   "source": [
    "mtbs['Ig_Date'] = pd.to_datetime(mtbs['Ig_Date'])\n",
    "mtbs['Fire_Year'] = mtbs['Ig_Date'].dt.year\n",
    "mtbs[['Ig_Date','Fire_Year']].head()"
   ]
  },
  {
   "cell_type": "code",
   "execution_count": 39,
   "id": "5d3e258c-6bd8-48c6-a88a-3c3c8857f7fb",
   "metadata": {},
   "outputs": [
    {
     "name": "stdout",
     "output_type": "stream",
     "text": [
      "1984\n",
      "2023\n"
     ]
    }
   ],
   "source": [
    "print(mtbs['Fire_Year'].min())\n",
    "print(mtbs['Fire_Year'].max())"
   ]
  },
  {
   "cell_type": "code",
   "execution_count": 40,
   "id": "88e6b6d7-814c-45e4-872e-f974df7f54d9",
   "metadata": {},
   "outputs": [
    {
     "data": {
      "image/png": "[encoded data removed]",
      "text/plain": [
       "<Figure size 700x300 with 1 Axes>"
      ]
     },
     "metadata": {},
     "output_type": "display_data"
    }
   ],
   "source": [
    "# plot the annual area burned\n",
    "burned_area = mtbs.groupby('Fire_Year')['BurnBndAc'].sum().reset_index()\n",
    "\n",
    "# Function to format colorbar labels with 'k' notation\n",
    "def format_ticks(value, _):\n",
    "    return f'{int(value / 1000)}k'\n",
    "\n",
    "formatter = FuncFormatter(format_ticks)\n",
    "\n",
    "# Plot the results\n",
    "plt.figure(figsize=(7, 3))\n",
    "plt.bar(burned_area['Fire_Year'], burned_area['BurnBndAc'], color='grey', edgecolor='black')\n",
    "plt.xlabel('Year', fontsize=10)\n",
    "plt.ylabel('Area Burned (acres)', fontsize=9)\n",
    "plt.xticks(burned_area['Fire_Year'], rotation=45, size=8)\n",
    "\n",
    "# Apply custom formatting to y-axis\n",
    "plt.gca().yaxis.set_major_formatter(formatter)\n",
    "# plt.ylim(10000, None)\n",
    "\n",
    "plt.grid(axis='y', linestyle='--', alpha=0.7)\n",
    "plt.tight_layout()\n",
    "\n",
    "plt.savefig(os.path.join(projdir, 'Aim3/figures/MTBS_annualBurnedArea.png'), dpi=300, bbox_inches='tight')\n",
    "\n",
    "plt.show()"
   ]
  },
  {
   "cell_type": "code",
   "execution_count": 41,
   "id": "8bd2acd9-1abf-4ca8-9494-11fad8944067",
   "metadata": {},
   "outputs": [
    {
     "data": {
      "text/plain": [
       "Index(['fs_id', 'sfs_id', 'sfs_area_ha', 'fs_name', 'sfs_exposure',\n",
       "       'pct_disturbed', 'geometry', 'US_L4CODE', 'US_L4NAME', 'trend_area',\n",
       "       'trend_count', 'historic', 'ssp245', 'ssp585', 'delta245', 'delta585',\n",
       "       'aspen10_pct', 'aspen10_pixn', 'number_of_patches', 'patch_density',\n",
       "       'largest_patch_index', 'combust_sum', 'msbf_count_sum',\n",
       "       'pop_density_max', 'pop_count_sum', 'wui1', 'wui2', 'wui3', 'wui4',\n",
       "       'wui_dist_mean', 'sfs_area', 'burned_area_c', 'burned_pct_c'],\n",
       "      dtype='object')"
      ]
     },
     "execution_count": 41,
     "metadata": {},
     "output_type": "execute_result"
    }
   ],
   "source": [
    "# calculate the cumulative previous area burned\n",
    "mtbs = mtbs.to_crs(proj) # ensure the correct CRS\n",
    "mtbs_in_grid = gpd.overlay(mtbs, firesheds, how='intersection') # perform the overlay\n",
    "\n",
    "# get the cumulative burned area in each grid cell\n",
    "mtbs_in_grid['burned_area_c'] = mtbs_in_grid.geometry.area\n",
    "burned_area_c = mtbs_in_grid.groupby('sfs_id', as_index=False)['burned_area_c'].sum()\n",
    "# calculate the cumulative percent burned\n",
    "# get the gridcell area\n",
    "df = firesheds.copy()\n",
    "df['sfs_area'] = df.geometry.area\n",
    "\n",
    "# merge burned area summary back to grid cells\n",
    "burned_area_c = df[['sfs_id','sfs_area']].merge(burned_area_c, on='sfs_id', how='left')\n",
    "# fill NaN values (for grid cells with no fire) with 0\n",
    "burned_area_c['burned_area_c'] = burned_area_c['burned_area_c'].fillna(0)\n",
    "# Compute percentage of each grid cell burned\n",
    "burned_area_c['burned_pct_c'] = (burned_area_c['burned_area_c'] / burned_area_c['sfs_area']) * 100\n",
    "\n",
    "# merge back to the main grid data\n",
    "firesheds_fa = pd.merge(firesheds_fa, burned_area_c, on='sfs_id', how='left')\n",
    "firesheds_fa.columns"
   ]
  },
  {
   "cell_type": "code",
   "execution_count": 42,
   "id": "721b0741-70e4-4dac-a702-052bf6e68750",
   "metadata": {},
   "outputs": [
    {
     "data": {
      "text/plain": [
       "1714"
      ]
     },
     "execution_count": 42,
     "metadata": {},
     "output_type": "execute_result"
    }
   ],
   "source": [
    "len(firesheds_fa)"
   ]
  },
  {
   "cell_type": "code",
   "execution_count": 43,
   "id": "46ce0e70-0f34-4ad2-9be6-c60c628d9f5a",
   "metadata": {},
   "outputs": [
    {
     "data": {
      "text/plain": [
       "63"
      ]
     },
     "execution_count": 43,
     "metadata": {},
     "output_type": "execute_result"
    }
   ],
   "source": [
    "del mtbs, mtbs_in_grid, burned_area_c, df\n",
    "gc.collect()"
   ]
  },
  {
   "cell_type": "markdown",
   "id": "d80bed2f-8276-4f87-87d8-d77989cd7afb",
   "metadata": {},
   "source": [
    "### Wildfire Hazard Potential (version 2023)"
   ]
  },
  {
   "cell_type": "code",
   "execution_count": 44,
   "id": "8b6677d8-8347-4456-84be-d314d9818e5e",
   "metadata": {},
   "outputs": [
    {
     "name": "stdout",
     "output_type": "stream",
     "text": [
      "   sfs_id  whp_percentile_90\n",
      "0   20466              960.4\n",
      "1   20467              919.6\n",
      "2   20468              968.0\n",
      "3   20469             1462.0\n",
      "4   21025             1458.8\n",
      "Index(['fs_id', 'sfs_id', 'sfs_area_ha', 'fs_name', 'sfs_exposure',\n",
      "       'pct_disturbed', 'geometry', 'US_L4CODE', 'US_L4NAME', 'trend_area',\n",
      "       'trend_count', 'historic', 'ssp245', 'ssp585', 'delta245', 'delta585',\n",
      "       'aspen10_pct', 'aspen10_pixn', 'number_of_patches', 'patch_density',\n",
      "       'largest_patch_index', 'combust_sum', 'msbf_count_sum',\n",
      "       'pop_density_max', 'pop_count_sum', 'wui1', 'wui2', 'wui3', 'wui4',\n",
      "       'wui_dist_mean', 'sfs_area', 'burned_area_c', 'burned_pct_c',\n",
      "       'whp_p90'],\n",
      "      dtype='object')\n"
     ]
    },
    {
     "data": {
      "text/plain": [
       "31"
      ]
     },
     "execution_count": 44,
     "metadata": {},
     "output_type": "execute_result"
    }
   ],
   "source": [
    "# load the wildfire hazard potential\n",
    "fp = os.path.join(projdir,'Aim3/data/spatial/raw/fsim/whp/whp2023_GeoTIF/whp2023_cnt_conus.tif')\n",
    "whp = rxr.open_rasterio(fp, masked=True, chunks='auto').squeeze()\n",
    "whp = whp.rio.reproject(proj) # matches grid\n",
    "# calculate the zonal stats\n",
    "whp_zs = compute_band_stats(\n",
    "    geoms=firesheds, \n",
    "    image_da=whp, \n",
    "    id_col='sfs_id', \n",
    "    stats=['percentile_90'], # 'median','std','percentile_90'\n",
    "    attr='whp',\n",
    "    ztype='continuous'\n",
    ")\n",
    "print(whp_zs.head())\n",
    "# merge back to the main grid data\n",
    "whp_zs.rename(columns={'whp_percentile_90': 'whp_p90'}, inplace = True) # tidy columns name first\n",
    "firesheds_fa = pd.merge(firesheds_fa, whp_zs, on='sfs_id', how='left')\n",
    "print(firesheds_fa.columns)\n",
    "# clean up\n",
    "del whp_zs, whp\n",
    "gc.collect()"
   ]
  },
  {
   "cell_type": "markdown",
   "id": "9f4f8bc8-80b1-4f52-8e52-8ab233de06f0",
   "metadata": {},
   "source": [
    "### Conditional Flame Length (CFL)"
   ]
  },
  {
   "cell_type": "code",
   "execution_count": 45,
   "id": "cb8e643d-bb4a-4680-a9c2-434ac28c3359",
   "metadata": {},
   "outputs": [
    {
     "name": "stdout",
     "output_type": "stream",
     "text": [
      "   sfs_id  cfl_percentile_90\n",
      "0   20466          23.414985\n",
      "1   20467          22.003370\n",
      "2   20468          31.041842\n",
      "3   20469          49.454799\n",
      "4   21025          30.485267\n",
      "Index(['fs_id', 'sfs_id', 'sfs_area_ha', 'fs_name', 'sfs_exposure',\n",
      "       'pct_disturbed', 'geometry', 'US_L4CODE', 'US_L4NAME', 'trend_area',\n",
      "       'trend_count', 'historic', 'ssp245', 'ssp585', 'delta245', 'delta585',\n",
      "       'aspen10_pct', 'aspen10_pixn', 'number_of_patches', 'patch_density',\n",
      "       'largest_patch_index', 'combust_sum', 'msbf_count_sum',\n",
      "       'pop_density_max', 'pop_count_sum', 'wui1', 'wui2', 'wui3', 'wui4',\n",
      "       'wui_dist_mean', 'sfs_area', 'burned_area_c', 'burned_pct_c', 'whp_p90',\n",
      "       'cfl_p90'],\n",
      "      dtype='object')\n"
     ]
    }
   ],
   "source": [
    "# load the conditional flame length\n",
    "fp = os.path.join(projdir,'Aim3/data/spatial/raw/fsim/CFL_CONUS/CFL_srm.tif')\n",
    "cfl = rxr.open_rasterio(fp, masked=True, chunks='auto').squeeze()\n",
    "cfl = cfl.rio.reproject(proj) # matches grid\n",
    "# calculate the zonal stats\n",
    "cfl_zs = compute_band_stats(\n",
    "    geoms=firesheds, \n",
    "    image_da=cfl, \n",
    "    id_col='sfs_id', \n",
    "    stats=['percentile_90'], # 'median','std','percentile_90'\n",
    "    attr='cfl',\n",
    "    ztype='continuous'\n",
    ")\n",
    "print(cfl_zs.head())\n",
    "# merge back to the main grid data\n",
    "cfl_zs.rename(columns={'cfl_percentile_90': 'cfl_p90'}, inplace = True) # tidy columns name first\n",
    "firesheds_fa = pd.merge(firesheds_fa, cfl_zs, on='sfs_id', how='left')\n",
    "print(firesheds_fa.columns)\n",
    "# clean up\n",
    "del cfl, cfl_zs"
   ]
  },
  {
   "cell_type": "markdown",
   "id": "b8659d4a-7726-4cdf-9ee3-b6de1f58ee20",
   "metadata": {},
   "source": [
    "### Housing Unit Impact (HUI)"
   ]
  },
  {
   "cell_type": "code",
   "execution_count": 46,
   "id": "0c1a0fe5-bfbe-4c6b-ba41-d90ffed8f75f",
   "metadata": {},
   "outputs": [
    {
     "name": "stdout",
     "output_type": "stream",
     "text": [
      "   sfs_id  hui_percentile_90\n",
      "0   20466           127534.8\n",
      "1   20467           111468.0\n",
      "2   20468                NaN\n",
      "3   20469                NaN\n",
      "4   21025                NaN\n"
     ]
    }
   ],
   "source": [
    "# load the wildfire hazard potential\n",
    "fp = os.path.join(projdir,'Aim3/data/spatial/raw/fsim/housing_unit/hui/hui_srm.tif')\n",
    "hui = rxr.open_rasterio(fp, masked=True, chunks='auto').squeeze()\n",
    "hui = hui.rio.reproject(proj) # matches grid\n",
    "# calculate the zonal stats\n",
    "hui_zs = compute_band_stats(\n",
    "    geoms=firesheds, \n",
    "    image_da=hui, \n",
    "    id_col='sfs_id', \n",
    "    stats=['percentile_90'], # 'median','std','percentile_90'\n",
    "    attr='hui',\n",
    "    ztype='continuous'\n",
    ")\n",
    "print(hui_zs.head())\n",
    "# merge back to the main grid data\n",
    "hui_zs.rename(columns={'hui_percentile_90': 'hui_p90'}, inplace = True) # tidy columns name first\n",
    "firesheds_fa = pd.merge(firesheds_fa, hui_zs, on='sfs_id', how='left')\n",
    "firesheds_fa.columns\n",
    "# clean up\n",
    "del hui, hui_zs"
   ]
  },
  {
   "cell_type": "code",
   "execution_count": null,
   "id": "74ddf59b-7d42-4d9b-b7c9-f103f0b32fbd",
   "metadata": {},
   "outputs": [],
   "source": []
  },
  {
   "cell_type": "code",
   "execution_count": null,
   "id": "a60b43ca-d9a7-43fa-b619-4a47860a2eed",
   "metadata": {},
   "outputs": [],
   "source": []
  },
  {
   "cell_type": "markdown",
   "id": "205373a7-5462-40b8-b87e-6a502969b3c3",
   "metadata": {},
   "source": [
    "## LANDFIRE Existing Vegetation (ca. 2023)"
   ]
  },
  {
   "cell_type": "code",
   "execution_count": 47,
   "id": "5a6faf2e-a3ce-406b-bd12-7dae8d49d86d",
   "metadata": {},
   "outputs": [
    {
     "name": "stdout",
     "output_type": "stream",
     "text": [
      "['srm_lf23_evt_240.tif', 'srm_lc23_cc_240.tif', 'srm_lc23_ch_240.tif']\n"
     ]
    }
   ],
   "source": [
    "# list out the landfire GeoTIFFs\n",
    "# veg Type, Height, and Cover\n",
    "lf_dir = os.path.join(projdir,'Aim3/data/spatial/mod/landfire/')\n",
    "lf_tiffs = list_files(lf_dir, '*.tif', recursive=True)\n",
    "lf_tiffs = [f for f in lf_tiffs if any(sub in f for sub in ['cc', 'ch', 'evt'])]\n",
    "print([os.path.basename(f) for f in lf_tiffs])"
   ]
  },
  {
   "cell_type": "code",
   "execution_count": 48,
   "id": "f3e70049-e037-4f63-902f-374579b5d313",
   "metadata": {},
   "outputs": [
    {
     "name": "stdout",
     "output_type": "stream",
     "text": [
      "EPSG:5070\n",
      "   sfs_id   evt  evt_pixels  total_pixels  pct_cover\n",
      "0   20466  7011        1217        113509   1.072162\n",
      "1   20466  7016       69616        113509  61.330820\n",
      "2   20466  7051        3006        113509   2.648248\n",
      "3   20466  7052         374        113509   0.329489\n",
      "4   20466  7054        3777        113509   3.327489\n",
      "\n",
      "Total elapsed time: 0.30 minutes.\n",
      "\n",
      "~~~~~~~~~~\n",
      "\n"
     ]
    },
    {
     "data": {
      "text/plain": [
       "33"
      ]
     },
     "execution_count": 48,
     "metadata": {},
     "output_type": "execute_result"
    }
   ],
   "source": [
    "# calculate the percent cover from EVT classes\n",
    "evt = rxr.open_rasterio(lf_tiffs[0], masked=True).squeeze()\n",
    "print(evt.rio.crs)\n",
    "\n",
    "# calculate the percent cover of WUI classes for each grid\n",
    "t0 = time.time()\n",
    "\n",
    "# see __functions.py\n",
    "evt_grid = compute_band_stats(firesheds, evt, 'sfs_id', attr='evt')\n",
    "# tidy columns in the summary table\n",
    "evt_grid['count'] = evt_grid['count'].astype(int)\n",
    "evt_grid['total_pixels'] = evt_grid['total_pixels'].astype(int)\n",
    "evt_grid.rename(columns = {'count': 'evt_pixels'}, inplace=True)\n",
    "print(evt_grid.head())\n",
    "\n",
    "t1 = (time.time() - t0) / 60\n",
    "print(f\"\\nTotal elapsed time: {t1:.2f} minutes.\")\n",
    "print(\"\\n~~~~~~~~~~\\n\")\n",
    "\n",
    "del evt # clean up \n",
    "gc.collect()"
   ]
  },
  {
   "cell_type": "code",
   "execution_count": 49,
   "id": "649f5af9-efa6-4b47-a06e-c9a28b034478",
   "metadata": {},
   "outputs": [
    {
     "name": "stdout",
     "output_type": "stream",
     "text": [
      "Index(['VALUE', 'EVT_NAME', 'LFRDB', 'EVT_FUEL', 'EVT_FUEL_N', 'EVT_LF',\n",
      "       'EVT_PHYS', 'EVT_GP', 'EVT_GP_N', 'SAF_SRM', 'EVT_ORDER', 'EVT_CLASS',\n",
      "       'EVT_SBCLS', 'R', 'G', 'B', 'RED', 'GREEN', 'BLUE'],\n",
      "      dtype='object')\n",
      "   sfs_id   evt  evt_pixels  pct_cover  \\\n",
      "0   20466  7011        1217   1.072162   \n",
      "1   20466  7016       69616  61.330820   \n",
      "2   20466  7051        3006   2.648248   \n",
      "3   20466  7052         374   0.329489   \n",
      "4   20466  7054        3777   3.327489   \n",
      "\n",
      "                                            EVT_NAME  \\\n",
      "0           Rocky Mountain Aspen Forest and Woodland   \n",
      "1           Colorado Plateau Pinyon-Juniper Woodland   \n",
      "2  Southern Rocky Mountain Dry-Mesic Montane Mixe...   \n",
      "3  Southern Rocky Mountain Mesic Montane Mixed Co...   \n",
      "4    Southern Rocky Mountain Ponderosa Pine Woodland   \n",
      "\n",
      "                                 SAF_SRM  \n",
      "0                         SAF 217: Aspen  \n",
      "1  SRM 504: Juniper-Pinyon Pine Woodland  \n",
      "2          SAF 210: Interior Douglas-Fir  \n",
      "3                     SAF 211: White Fir  \n",
      "4       SAF 237: Interior Ponderosa Pine  \n",
      "Saved to: \n",
      "/Users/max/Library/CloudStorage/OneDrive-Personal/mcook/aspen-fire/Aim3/data/tabular/firesheds_evt_summary.csv\n"
     ]
    }
   ],
   "source": [
    "# load the lookup table\n",
    "lookup = os.path.join(maindir,'data/landcover/LANDFIRE/LF2023/LF2023_EVT_240_CONUS/CSV_Data/LF23_EVT_240.csv')\n",
    "lookup = pd.read_csv(lookup)\n",
    "print(lookup.columns)\n",
    "# join to the grid\n",
    "evt_grid = pd.merge(evt_grid, lookup, left_on='evt', right_on='VALUE', how='left')\n",
    "print(evt_grid[['sfs_id','evt','evt_pixels','pct_cover','EVT_NAME','SAF_SRM']].head())\n",
    "# save this file out\n",
    "out_fp = os.path.join(projdir, 'Aim3/data/tabular/firesheds_evt_summary.csv')\n",
    "evt_grid.to_csv(out_fp)\n",
    "print(f\"Saved to: \\n{out_fp}\")"
   ]
  },
  {
   "cell_type": "code",
   "execution_count": 50,
   "id": "ff05e76b-37bd-49f8-ac20-154982ec2304",
   "metadata": {},
   "outputs": [
    {
     "data": {
      "text/plain": [
       "array(['Aspen', 'Juniper-Pinyon Pine Woodland', 'Interior Douglas-Fir',\n",
       "       'White Fir', 'Interior Ponderosa Pine',\n",
       "       'Engelmann Spruce-Subalpine Fir', 'Bristlecone Pine',\n",
       "       'Black Sagebrush', 'Saltbush-Greasewood', 'Blackbush',\n",
       "       'Wyoming Big Sagebrush', 'Salt Desert Shrub',\n",
       "       'Chokecherry-Serviceberry-Rose', 'Sandsage Prairie', 'Gambel oak',\n",
       "       'Mountain Big Sagebrush', 'Grama-Galetta', 'Tall Forb',\n",
       "       'Alpine Rangeland', 'Developed', 'Agriculture',\n",
       "       'Sparsely Vegetated', 'Western Herbaceous Wetland',\n",
       "       'Cottonwood-Willow', 'Riparian',\n",
       "       'Introduced Upland Vegetation - Herbaceous',\n",
       "       'Introduced Woody Wetlands and Riparian Vegetation',\n",
       "       'Introduced Upland Vegetation - Shrub',\n",
       "       'Introduced Herbaceous Wetland and Riparian Vegetation', 'Water',\n",
       "       'Limber Pine', 'Curlleaf Mountain-Mahogany',\n",
       "       'Big Sagebrush-Bluebunch Wheatgrass',\n",
       "       'Rough Fescue-Bluebunch Wheatgrass',\n",
       "       'Wheatgrass-Bluestem-Needlegrass',\n",
       "       'Sand Bluestem -Little Bluestem Dunes', 'Great Plains Riparian',\n",
       "       'Bluestem Prairie', 'Lodgepole Pine', 'Sagebrush-Grass',\n",
       "       'Blue Grama-Buffalograss', 'Blue Grama-Western Wheatgrass',\n",
       "       'Deciduous Shrubland', 'Bluestem-Grama Prairie', 'Snow-Ice',\n",
       "       'Juniper-Pinyon Woodland'], dtype=object)"
      ]
     },
     "execution_count": 50,
     "metadata": {},
     "output_type": "execute_result"
    }
   ],
   "source": [
    "# tidy the SAF column\n",
    "evt_grid['SAF_SRM'] = evt_grid['SAF_SRM'].str.split(\":\", n=1).str[1].str.strip()\n",
    "unique_evt = evt_grid['SAF_SRM'].unique()\n",
    "unique_evt"
   ]
  },
  {
   "cell_type": "code",
   "execution_count": 51,
   "id": "9b437bb4-1ae7-4a05-96ba-fe11712b4afa",
   "metadata": {},
   "outputs": [
    {
     "name": "stdout",
     "output_type": "stream",
     "text": [
      "\n",
      "\n",
      "Species making up 97% of the totalat least 2%: \n",
      "\n",
      "                           SAF_SRM  evt_pixels  fraction  c_fraction\n",
      "16  Engelmann Spruce-Subalpine Fir    25682568  0.129804    0.129804\n",
      "21         Interior Ponderosa Pine    24346126  0.123050    0.252854\n",
      "26    Juniper-Pinyon Pine Woodland    17838418  0.090159    0.343013\n",
      "30          Mountain Big Sagebrush    16000665  0.080870    0.423883\n",
      "2                            Aspen    15420116  0.077936    0.501819\n",
      "1                 Alpine Rangeland    11623952  0.058750    0.560569\n",
      "17                      Gambel oak    10356199  0.052342    0.612911\n",
      "45           Wyoming Big Sagebrush     8901414  0.044989    0.657900\n",
      "20            Interior Douglas-Fir     8847615  0.044717    0.702618\n",
      "29                  Lodgepole Pine     8303496  0.041967    0.744585\n",
      "0                      Agriculture     5702092  0.028819    0.773404\n",
      "39              Sparsely Vegetated     5190209  0.026232    0.799637\n",
      "11   Chokecherry-Serviceberry-Rose     5094268  0.025747    0.825384\n",
      "44                       White Fir     4514539  0.022817    0.848201\n",
      "15                       Developed     4293307  0.021699    0.869900\n",
      "\n",
      "\n"
     ]
    },
    {
     "data": {
      "image/png": "[encoded data removed]",
      "text/plain": [
       "<Figure size 600x400 with 1 Axes>"
      ]
     },
     "metadata": {},
     "output_type": "display_data"
    },
    {
     "data": {
      "text/plain": [
       "245"
      ]
     },
     "execution_count": 51,
     "metadata": {},
     "output_type": "execute_result"
    }
   ],
   "source": [
    "# gather the top 97% of EVTs\n",
    "# Create a histogram of the forest species (prevalence)\n",
    "fortyp = evt_grid.copy() # make a copy to work with\n",
    "# calculate the landscape fraction (prevalence)\n",
    "spp_pr = fortyp.groupby('SAF_SRM')['evt_pixels'].sum().reset_index()\n",
    "spp_pr['fraction'] = spp_pr['evt_pixels'] / spp_pr['evt_pixels'].sum()\n",
    "spp_pr = spp_pr.sort_values(by='fraction', ascending=False)\n",
    "# which species make up 97% of observations?\n",
    "spp_pr['c_fraction'] = spp_pr['fraction'].cumsum()\n",
    "top_species = spp_pr[spp_pr['fraction'] > 0.02]\n",
    "print(f\"\\n\\nSpecies making up 97% of the totalat least 2%: \\n\\n{top_species}\\n\\n\")\n",
    "\n",
    "# plot it\n",
    "plt.figure(figsize=(6, 4))\n",
    "sns.barplot(data=top_species, x='SAF_SRM', y='fraction', palette='viridis')\n",
    "plt.xlabel('SAF_SRM')\n",
    "plt.ylabel('Fractional cover')\n",
    "plt.xticks(rotation=45, ha='right')\n",
    "plt.tight_layout()\n",
    "plt.show()\n",
    "\n",
    "# clean up\n",
    "del fortyp, spp_pr\n",
    "gc.collect()"
   ]
  },
  {
   "cell_type": "code",
   "execution_count": 52,
   "id": "238d74d1-c53f-4f76-bee1-548e7ba12676",
   "metadata": {},
   "outputs": [
    {
     "name": "stdout",
     "output_type": "stream",
     "text": [
      "   sfs_id                         SAF_SRM     SAF_SRM_gp  pct_cover\n",
      "0   20466                           Aspen          aspen   1.072162\n",
      "1   20466    Juniper-Pinyon Pine Woodland  pinon_juniper  61.330820\n",
      "2   20466            Interior Douglas-Fir    douglas_fir   2.648248\n",
      "3   20466                       White Fir      white_fir   0.329489\n",
      "4   20466         Interior Ponderosa Pine      ponderosa   3.327489\n",
      "5   20466  Engelmann Spruce-Subalpine Fir     spruce_fir   0.030835\n",
      "6   20466                Bristlecone Pine          Other   0.000881\n",
      "7   20466                           Aspen          aspen   0.170031\n",
      "\n",
      "Index(['sfs_id', 'evt', 'evt_pixels', 'total_pixels', 'pct_cover', 'VALUE',\n",
      "       'EVT_NAME', 'LFRDB', 'EVT_FUEL', 'EVT_FUEL_N', 'EVT_LF', 'EVT_PHYS',\n",
      "       'EVT_GP', 'EVT_GP_N', 'SAF_SRM', 'EVT_ORDER', 'EVT_CLASS', 'EVT_SBCLS',\n",
      "       'R', 'G', 'B', 'RED', 'GREEN', 'BLUE', 'SAF_SRM_gp'],\n",
      "      dtype='object')\n"
     ]
    }
   ],
   "source": [
    "# Aggregate species into forest groups\n",
    "# These groups represent common pairings for the Southern Rockies\n",
    "spp_grouping = {\n",
    "    'pinyon|juniper': 'pinon_juniper',\n",
    "    'engelmann|subalpine': 'spruce_fir',\n",
    "    'ponderosa': 'ponderosa', \n",
    "    'lodgepole': 'lodgepole',\n",
    "    'sagebrush': 'sagebrush',\n",
    "    'aspen': 'aspen',\n",
    "    'douglas-fir': 'douglas_fir',\n",
    "    'white fir': 'white_fir',\n",
    "    'gambel': 'gambel_oak',\n",
    "}\n",
    "\n",
    "# create the remap table\n",
    "spp_remap = {} # dictionary to store the remap values\n",
    "# Iterate over groups to create the species remap dictionary\n",
    "for keywords, spp_group in spp_grouping.items():\n",
    "    # Find species matching the keywords\n",
    "    spp = evt_grid[evt_grid['SAF_SRM'].str.contains(keywords, case=False, na=False)]\n",
    "    # Add matching species to the remap dictionary\n",
    "    spp_remap.update(\n",
    "        {name: spp_group for name in spp['SAF_SRM'].unique()}\n",
    "    )\n",
    "    del spp\n",
    "    \n",
    "# Apply the remap to create a new grouped species column\n",
    "evt_grid['SAF_SRM_gp'] = evt_grid['SAF_SRM'].map(spp_remap).fillna('Other')\n",
    "# Verify the updated species groups\n",
    "print(evt_grid[['sfs_id', 'SAF_SRM', 'SAF_SRM_gp', 'pct_cover']].head(8))\n",
    "print(f\"\\n{evt_grid.columns}\")"
   ]
  },
  {
   "cell_type": "code",
   "execution_count": 53,
   "id": "6461023b-fc23-4471-8cbc-1c96f371572f",
   "metadata": {},
   "outputs": [
    {
     "data": {
      "text/plain": [
       "count    78418.000000\n",
       "mean         2.185723\n",
       "std          7.195677\n",
       "min          0.000619\n",
       "25%          0.009819\n",
       "50%          0.090086\n",
       "75%          0.774964\n",
       "max         90.189075\n",
       "Name: pct_cover, dtype: float64"
      ]
     },
     "execution_count": 53,
     "metadata": {},
     "output_type": "execute_result"
    }
   ],
   "source": [
    "evt_grid['pct_cover'].describe()"
   ]
  },
  {
   "cell_type": "code",
   "execution_count": 54,
   "id": "04eaacc0-f1b3-4b37-b4f0-3f99da7bc8ab",
   "metadata": {},
   "outputs": [
    {
     "data": {
      "text/html": [
       "<div>\n",
       "<style scoped>\n",
       "    .dataframe tbody tr th:only-of-type {\n",
       "        vertical-align: middle;\n",
       "    }\n",
       "\n",
       "    .dataframe tbody tr th {\n",
       "        vertical-align: top;\n",
       "    }\n",
       "\n",
       "    .dataframe thead th {\n",
       "        text-align: right;\n",
       "    }\n",
       "</style>\n",
       "<table border=\"1\" class=\"dataframe\">\n",
       "  <thead>\n",
       "    <tr style=\"text-align: right;\">\n",
       "      <th>SAF_SRM_gp</th>\n",
       "      <th>sfs_id</th>\n",
       "      <th>aspen</th>\n",
       "      <th>douglas_fir</th>\n",
       "      <th>gambel_oak</th>\n",
       "      <th>lodgepole</th>\n",
       "      <th>pinon_juniper</th>\n",
       "      <th>ponderosa</th>\n",
       "      <th>sagebrush</th>\n",
       "      <th>spruce_fir</th>\n",
       "      <th>white_fir</th>\n",
       "    </tr>\n",
       "  </thead>\n",
       "  <tbody>\n",
       "    <tr>\n",
       "      <th>0</th>\n",
       "      <td>12054</td>\n",
       "      <td>0.150802</td>\n",
       "      <td>0.064153</td>\n",
       "      <td>0.0</td>\n",
       "      <td>0.000000</td>\n",
       "      <td>0.0</td>\n",
       "      <td>8.720683</td>\n",
       "      <td>56.538221</td>\n",
       "      <td>0.000000</td>\n",
       "      <td>0.000000</td>\n",
       "    </tr>\n",
       "    <tr>\n",
       "      <th>1</th>\n",
       "      <td>12055</td>\n",
       "      <td>0.035174</td>\n",
       "      <td>0.000000</td>\n",
       "      <td>0.0</td>\n",
       "      <td>0.000000</td>\n",
       "      <td>0.0</td>\n",
       "      <td>1.725618</td>\n",
       "      <td>53.708321</td>\n",
       "      <td>0.000000</td>\n",
       "      <td>0.000000</td>\n",
       "    </tr>\n",
       "    <tr>\n",
       "      <th>2</th>\n",
       "      <td>12075</td>\n",
       "      <td>0.000000</td>\n",
       "      <td>0.000000</td>\n",
       "      <td>0.0</td>\n",
       "      <td>0.000000</td>\n",
       "      <td>0.0</td>\n",
       "      <td>0.270351</td>\n",
       "      <td>52.501352</td>\n",
       "      <td>0.000000</td>\n",
       "      <td>0.000000</td>\n",
       "    </tr>\n",
       "    <tr>\n",
       "      <th>3</th>\n",
       "      <td>12076</td>\n",
       "      <td>1.215872</td>\n",
       "      <td>5.102086</td>\n",
       "      <td>0.0</td>\n",
       "      <td>2.757503</td>\n",
       "      <td>0.0</td>\n",
       "      <td>12.016094</td>\n",
       "      <td>32.939488</td>\n",
       "      <td>0.945581</td>\n",
       "      <td>0.042261</td>\n",
       "    </tr>\n",
       "    <tr>\n",
       "      <th>4</th>\n",
       "      <td>12077</td>\n",
       "      <td>4.120873</td>\n",
       "      <td>8.104852</td>\n",
       "      <td>0.0</td>\n",
       "      <td>7.251422</td>\n",
       "      <td>0.0</td>\n",
       "      <td>24.572698</td>\n",
       "      <td>26.129368</td>\n",
       "      <td>2.710483</td>\n",
       "      <td>0.093087</td>\n",
       "    </tr>\n",
       "  </tbody>\n",
       "</table>\n",
       "</div>"
      ],
      "text/plain": [
       "SAF_SRM_gp  sfs_id     aspen  douglas_fir  gambel_oak  lodgepole  \\\n",
       "0            12054  0.150802     0.064153         0.0   0.000000   \n",
       "1            12055  0.035174     0.000000         0.0   0.000000   \n",
       "2            12075  0.000000     0.000000         0.0   0.000000   \n",
       "3            12076  1.215872     5.102086         0.0   2.757503   \n",
       "4            12077  4.120873     8.104852         0.0   7.251422   \n",
       "\n",
       "SAF_SRM_gp  pinon_juniper  ponderosa  sagebrush  spruce_fir  white_fir  \n",
       "0                     0.0   8.720683  56.538221    0.000000   0.000000  \n",
       "1                     0.0   1.725618  53.708321    0.000000   0.000000  \n",
       "2                     0.0   0.270351  52.501352    0.000000   0.000000  \n",
       "3                     0.0  12.016094  32.939488    0.945581   0.042261  \n",
       "4                     0.0  24.572698  26.129368    2.710483   0.093087  "
      ]
     },
     "execution_count": 54,
     "metadata": {},
     "output_type": "execute_result"
    }
   ],
   "source": [
    "# Pivot: Fireshed ID as index, Forest Type as columns, Percent Cover as values\n",
    "evt_w = evt_grid.pivot_table(\n",
    "    index='sfs_id', \n",
    "    columns='SAF_SRM_gp', \n",
    "    values='pct_cover', \n",
    "    aggfunc='sum'\n",
    ")\n",
    "\n",
    "# Fill missing values with 0 (firesheds without that forest type)\n",
    "evt_w = evt_w.fillna(0).reset_index()\n",
    "evt_w.drop(columns=['Other'], inplace=True)\n",
    "evt_w.head()"
   ]
  },
  {
   "cell_type": "code",
   "execution_count": 55,
   "id": "7d7e79dd-5a66-446a-8583-6c0d6d690027",
   "metadata": {},
   "outputs": [
    {
     "data": {
      "text/html": [
       "<div>\n",
       "<style scoped>\n",
       "    .dataframe tbody tr th:only-of-type {\n",
       "        vertical-align: middle;\n",
       "    }\n",
       "\n",
       "    .dataframe tbody tr th {\n",
       "        vertical-align: top;\n",
       "    }\n",
       "\n",
       "    .dataframe thead th {\n",
       "        text-align: right;\n",
       "    }\n",
       "</style>\n",
       "<table border=\"1\" class=\"dataframe\">\n",
       "  <thead>\n",
       "    <tr style=\"text-align: right;\">\n",
       "      <th></th>\n",
       "      <th>sfs_id</th>\n",
       "      <th>dom_evt1</th>\n",
       "      <th>dom_evt2</th>\n",
       "      <th>dom_evt3</th>\n",
       "      <th>dom_evt4</th>\n",
       "    </tr>\n",
       "  </thead>\n",
       "  <tbody>\n",
       "    <tr>\n",
       "      <th>0</th>\n",
       "      <td>12054</td>\n",
       "      <td>Inter-Mountain Basins Big Sagebrush Steppe</td>\n",
       "      <td>Inter-Mountain Basins Montane Sagebrush Steppe</td>\n",
       "      <td>Rocky Mountain Lower Montane-Foothill Shrubland</td>\n",
       "      <td>Southern Rocky Mountain Ponderosa Pine Woodland</td>\n",
       "    </tr>\n",
       "    <tr>\n",
       "      <th>1</th>\n",
       "      <td>12055</td>\n",
       "      <td>Inter-Mountain Basins Big Sagebrush Steppe</td>\n",
       "      <td>Western Cool Temperate Pasture and Hayland</td>\n",
       "      <td>Inter-Mountain Basins Big Sagebrush Shrubland</td>\n",
       "      <td>Inter-Mountain Basins Montane Sagebrush Steppe</td>\n",
       "    </tr>\n",
       "    <tr>\n",
       "      <th>2</th>\n",
       "      <td>12075</td>\n",
       "      <td>Inter-Mountain Basins Big Sagebrush Steppe</td>\n",
       "      <td>Northwestern Great Plains Mixedgrass Prairie</td>\n",
       "      <td>Western Great Plains Badlands</td>\n",
       "      <td>Western Cool Temperate Pasture and Hayland</td>\n",
       "    </tr>\n",
       "    <tr>\n",
       "      <th>3</th>\n",
       "      <td>12076</td>\n",
       "      <td>Northwestern Great Plains Mixedgrass Prairie</td>\n",
       "      <td>Inter-Mountain Basins Big Sagebrush Steppe</td>\n",
       "      <td>Inter-Mountain Basins Montane Sagebrush Steppe</td>\n",
       "      <td>Southern Rocky Mountain Ponderosa Pine Woodland</td>\n",
       "    </tr>\n",
       "    <tr>\n",
       "      <th>4</th>\n",
       "      <td>12077</td>\n",
       "      <td>Southern Rocky Mountain Ponderosa Pine Woodland</td>\n",
       "      <td>Inter-Mountain Basins Montane Sagebrush Steppe</td>\n",
       "      <td>Northwestern Great Plains Mixedgrass Prairie</td>\n",
       "      <td>Rocky Mountain Lower Montane-Foothill Shrubland</td>\n",
       "    </tr>\n",
       "    <tr>\n",
       "      <th>5</th>\n",
       "      <td>12078</td>\n",
       "      <td>Northwestern Great Plains Mixedgrass Prairie</td>\n",
       "      <td>Inter-Mountain Basins Big Sagebrush Steppe</td>\n",
       "      <td>Inter-Mountain Basins Montane Sagebrush Steppe</td>\n",
       "      <td>Western Cool Temperate Pasture and Hayland</td>\n",
       "    </tr>\n",
       "    <tr>\n",
       "      <th>6</th>\n",
       "      <td>12263</td>\n",
       "      <td>Inter-Mountain Basins Big Sagebrush Steppe</td>\n",
       "      <td>Northwestern Great Plains Mixedgrass Prairie</td>\n",
       "      <td>Western Great Plains Sand Prairie</td>\n",
       "      <td>Northwestern Great Plains Riparian Herbaceous</td>\n",
       "    </tr>\n",
       "    <tr>\n",
       "      <th>7</th>\n",
       "      <td>12264</td>\n",
       "      <td>Northwestern Great Plains Mixedgrass Prairie</td>\n",
       "      <td>Inter-Mountain Basins Big Sagebrush Steppe</td>\n",
       "      <td>Western Cool Temperate Close Grown Crop</td>\n",
       "      <td>Western Cool Temperate Pasture and Hayland</td>\n",
       "    </tr>\n",
       "    <tr>\n",
       "      <th>8</th>\n",
       "      <td>12266</td>\n",
       "      <td>Rocky Mountain Lower Montane-Foothill Shrubland</td>\n",
       "      <td>Northwestern Great Plains Mixedgrass Prairie</td>\n",
       "      <td>Inter-Mountain Basins Montane Sagebrush Steppe</td>\n",
       "      <td>Southern Rocky Mountain Ponderosa Pine Woodland</td>\n",
       "    </tr>\n",
       "    <tr>\n",
       "      <th>9</th>\n",
       "      <td>12267</td>\n",
       "      <td>Northwestern Great Plains Mixedgrass Prairie</td>\n",
       "      <td>Inter-Mountain Basins Big Sagebrush Steppe</td>\n",
       "      <td>Western Cool Temperate Close Grown Crop</td>\n",
       "      <td>Western Cool Temperate Pasture and Hayland</td>\n",
       "    </tr>\n",
       "  </tbody>\n",
       "</table>\n",
       "</div>"
      ],
      "text/plain": [
       "   sfs_id                                         dom_evt1  \\\n",
       "0   12054       Inter-Mountain Basins Big Sagebrush Steppe   \n",
       "1   12055       Inter-Mountain Basins Big Sagebrush Steppe   \n",
       "2   12075       Inter-Mountain Basins Big Sagebrush Steppe   \n",
       "3   12076     Northwestern Great Plains Mixedgrass Prairie   \n",
       "4   12077  Southern Rocky Mountain Ponderosa Pine Woodland   \n",
       "5   12078     Northwestern Great Plains Mixedgrass Prairie   \n",
       "6   12263       Inter-Mountain Basins Big Sagebrush Steppe   \n",
       "7   12264     Northwestern Great Plains Mixedgrass Prairie   \n",
       "8   12266  Rocky Mountain Lower Montane-Foothill Shrubland   \n",
       "9   12267     Northwestern Great Plains Mixedgrass Prairie   \n",
       "\n",
       "                                         dom_evt2  \\\n",
       "0  Inter-Mountain Basins Montane Sagebrush Steppe   \n",
       "1      Western Cool Temperate Pasture and Hayland   \n",
       "2    Northwestern Great Plains Mixedgrass Prairie   \n",
       "3      Inter-Mountain Basins Big Sagebrush Steppe   \n",
       "4  Inter-Mountain Basins Montane Sagebrush Steppe   \n",
       "5      Inter-Mountain Basins Big Sagebrush Steppe   \n",
       "6    Northwestern Great Plains Mixedgrass Prairie   \n",
       "7      Inter-Mountain Basins Big Sagebrush Steppe   \n",
       "8    Northwestern Great Plains Mixedgrass Prairie   \n",
       "9      Inter-Mountain Basins Big Sagebrush Steppe   \n",
       "\n",
       "                                          dom_evt3  \\\n",
       "0  Rocky Mountain Lower Montane-Foothill Shrubland   \n",
       "1    Inter-Mountain Basins Big Sagebrush Shrubland   \n",
       "2                    Western Great Plains Badlands   \n",
       "3   Inter-Mountain Basins Montane Sagebrush Steppe   \n",
       "4     Northwestern Great Plains Mixedgrass Prairie   \n",
       "5   Inter-Mountain Basins Montane Sagebrush Steppe   \n",
       "6                Western Great Plains Sand Prairie   \n",
       "7          Western Cool Temperate Close Grown Crop   \n",
       "8   Inter-Mountain Basins Montane Sagebrush Steppe   \n",
       "9          Western Cool Temperate Close Grown Crop   \n",
       "\n",
       "                                          dom_evt4  \n",
       "0  Southern Rocky Mountain Ponderosa Pine Woodland  \n",
       "1   Inter-Mountain Basins Montane Sagebrush Steppe  \n",
       "2       Western Cool Temperate Pasture and Hayland  \n",
       "3  Southern Rocky Mountain Ponderosa Pine Woodland  \n",
       "4  Rocky Mountain Lower Montane-Foothill Shrubland  \n",
       "5       Western Cool Temperate Pasture and Hayland  \n",
       "6    Northwestern Great Plains Riparian Herbaceous  \n",
       "7       Western Cool Temperate Pasture and Hayland  \n",
       "8  Southern Rocky Mountain Ponderosa Pine Woodland  \n",
       "9       Western Cool Temperate Pasture and Hayland  "
      ]
     },
     "execution_count": 55,
     "metadata": {},
     "output_type": "execute_result"
    }
   ],
   "source": [
    "# gather the top three most dominant vegetation types\n",
    "\n",
    "# function to get the top X by percent cover\n",
    "def dom_spps(df):\n",
    "    top_three = df.nlargest(4, 'pct_cover')  # Get top three by percent cover\n",
    "    return pd.Series({\n",
    "        'dom_evt1': top_three.iloc[0]['EVT_NAME'] if len(top_three) > 0 else None,\n",
    "        'dom_evt2': top_three.iloc[1]['EVT_NAME'] if len(top_three) > 1 else None,\n",
    "        'dom_evt3': top_three.iloc[2]['EVT_NAME'] if len(top_three) > 2 else None,\n",
    "        'dom_evt4': top_three.iloc[3]['EVT_NAME'] if len(top_three) > 3 else None\n",
    "    })\n",
    "\n",
    "# Apply function per grid_id\n",
    "dom_evts = evt_grid.groupby('sfs_id').apply(dom_spps).reset_index()\n",
    "dom_evts.head(10)"
   ]
  },
  {
   "cell_type": "code",
   "execution_count": 56,
   "id": "6f957559-7024-4711-988e-93c8cc5a246a",
   "metadata": {},
   "outputs": [
    {
     "data": {
      "text/plain": [
       "Index(['sfs_id', 'dom_evt1', 'dom_evt2', 'dom_evt3', 'dom_evt4', 'aspen',\n",
       "       'douglas_fir', 'gambel_oak', 'lodgepole', 'pinon_juniper', 'ponderosa',\n",
       "       'sagebrush', 'spruce_fir', 'white_fir'],\n",
       "      dtype='object')"
      ]
     },
     "execution_count": 56,
     "metadata": {},
     "output_type": "execute_result"
    }
   ],
   "source": [
    "# merge the landcover data\n",
    "evt_summary = pd.merge(dom_evts, evt_w, on='sfs_id', how='left')\n",
    "evt_summary.columns"
   ]
  },
  {
   "cell_type": "code",
   "execution_count": 57,
   "id": "001e805b-97fe-41d3-aad7-442ac853a3e3",
   "metadata": {},
   "outputs": [
    {
     "name": "stdout",
     "output_type": "stream",
     "text": [
      "Processing: srm_lc23_cc_240.tif\n",
      "Processing: srm_lc23_ch_240.tif\n"
     ]
    },
    {
     "data": {
      "text/html": [
       "<div>\n",
       "<style scoped>\n",
       "    .dataframe tbody tr th:only-of-type {\n",
       "        vertical-align: middle;\n",
       "    }\n",
       "\n",
       "    .dataframe tbody tr th {\n",
       "        vertical-align: top;\n",
       "    }\n",
       "\n",
       "    .dataframe thead th {\n",
       "        text-align: right;\n",
       "    }\n",
       "</style>\n",
       "<table border=\"1\" class=\"dataframe\">\n",
       "  <thead>\n",
       "    <tr style=\"text-align: right;\">\n",
       "      <th></th>\n",
       "      <th>sfs_id</th>\n",
       "      <th>forest_cc_mean</th>\n",
       "      <th>forest_ch_mean</th>\n",
       "    </tr>\n",
       "  </thead>\n",
       "  <tbody>\n",
       "    <tr>\n",
       "      <th>0</th>\n",
       "      <td>20466</td>\n",
       "      <td>15.146464</td>\n",
       "      <td>49.989692</td>\n",
       "    </tr>\n",
       "    <tr>\n",
       "      <th>1</th>\n",
       "      <td>20467</td>\n",
       "      <td>12.133961</td>\n",
       "      <td>36.158086</td>\n",
       "    </tr>\n",
       "    <tr>\n",
       "      <th>2</th>\n",
       "      <td>20468</td>\n",
       "      <td>28.423995</td>\n",
       "      <td>111.726890</td>\n",
       "    </tr>\n",
       "    <tr>\n",
       "      <th>3</th>\n",
       "      <td>20469</td>\n",
       "      <td>36.665784</td>\n",
       "      <td>113.228805</td>\n",
       "    </tr>\n",
       "    <tr>\n",
       "      <th>4</th>\n",
       "      <td>21025</td>\n",
       "      <td>23.595795</td>\n",
       "      <td>78.472357</td>\n",
       "    </tr>\n",
       "  </tbody>\n",
       "</table>\n",
       "</div>"
      ],
      "text/plain": [
       "   sfs_id  forest_cc_mean  forest_ch_mean\n",
       "0   20466       15.146464       49.989692\n",
       "1   20467       12.133961       36.158086\n",
       "2   20468       28.423995      111.726890\n",
       "3   20469       36.665784      113.228805\n",
       "4   21025       23.595795       78.472357"
      ]
     },
     "execution_count": 57,
     "metadata": {},
     "output_type": "execute_result"
    }
   ],
   "source": [
    "# calculate the continuous summaries (forest canopy percent and height)\n",
    "ccs = {\n",
    "    'forest_cc': lf_tiffs[1],\n",
    "    'forest_ch': lf_tiffs[2]\n",
    "}\n",
    "results = [] # store results\n",
    "for key, fp in ccs.items():\n",
    "    print(f\"Processing: {os.path.basename(fp)}\")\n",
    "    da = rxr.open_rasterio(fp, masked=True, chunks='auto').squeeze()\n",
    "    # calculate zonal statistics\n",
    "    zs = compute_band_stats(\n",
    "        geoms=firesheds, \n",
    "        image_da=da, \n",
    "        id_col='sfs_id', \n",
    "        stats=['mean'], \n",
    "        attr=key,\n",
    "        ztype='continuous'\n",
    "    )\n",
    "    results.append(zs)\n",
    "    del da, zs\n",
    "\n",
    "# concatenate the results\n",
    "fc_summary = pd.concat([df.set_index(\"sfs_id\") for df in results], axis=1).reset_index()\n",
    "fc_summary.head()"
   ]
  },
  {
   "cell_type": "code",
   "execution_count": 58,
   "id": "c8f3ff11-fe63-4a5f-8e02-476fdaf791f8",
   "metadata": {},
   "outputs": [
    {
     "data": {
      "text/plain": [
       "Index(['sfs_id', 'dom_evt1', 'dom_evt2', 'dom_evt3', 'dom_evt4', 'aspen',\n",
       "       'douglas_fir', 'gambel_oak', 'lodgepole', 'pinon_juniper', 'ponderosa',\n",
       "       'sagebrush', 'spruce_fir', 'white_fir', 'forest_cc_mean',\n",
       "       'forest_ch_mean'],\n",
       "      dtype='object')"
      ]
     },
     "execution_count": 58,
     "metadata": {},
     "output_type": "execute_result"
    }
   ],
   "source": [
    "# join the LANDFIRE summaries\n",
    "lf_summary = pd.merge(evt_summary, fc_summary, on='sfs_id', how='left')\n",
    "lf_summary.columns"
   ]
  },
  {
   "cell_type": "code",
   "execution_count": 59,
   "id": "a2d2c764-b072-476d-a9d8-4efa1d3b2495",
   "metadata": {},
   "outputs": [
    {
     "name": "stdout",
     "output_type": "stream",
     "text": [
      "Index(['fs_id', 'sfs_id', 'sfs_area_ha', 'fs_name', 'sfs_exposure',\n",
      "       'pct_disturbed', 'geometry', 'US_L4CODE', 'US_L4NAME', 'trend_area',\n",
      "       'trend_count', 'historic', 'ssp245', 'ssp585', 'delta245', 'delta585',\n",
      "       'aspen10_pct', 'aspen10_pixn', 'number_of_patches', 'patch_density',\n",
      "       'largest_patch_index', 'combust_sum', 'msbf_count_sum',\n",
      "       'pop_density_max', 'pop_count_sum', 'wui1', 'wui2', 'wui3', 'wui4',\n",
      "       'wui_dist_mean', 'sfs_area', 'burned_area_c', 'burned_pct_c', 'whp_p90',\n",
      "       'cfl_p90', 'hui_p90', 'dom_evt1', 'dom_evt2', 'dom_evt3', 'dom_evt4',\n",
      "       'aspen', 'douglas_fir', 'gambel_oak', 'lodgepole', 'pinon_juniper',\n",
      "       'ponderosa', 'sagebrush', 'spruce_fir', 'white_fir', 'forest_cc_mean',\n",
      "       'forest_ch_mean'],\n",
      "      dtype='object')\n"
     ]
    }
   ],
   "source": [
    "# join to the main grid, export\n",
    "firesheds_fa = pd.merge(firesheds_fa, lf_summary, on='sfs_id', how='left')\n",
    "print(firesheds_fa.columns)"
   ]
  },
  {
   "cell_type": "code",
   "execution_count": 60,
   "id": "5ccbf56c-09bb-4e0f-9ac3-fedd3303ec28",
   "metadata": {},
   "outputs": [
    {
     "name": "stdout",
     "output_type": "stream",
     "text": [
      "1714\n",
      "1714\n"
     ]
    }
   ],
   "source": [
    "print(len(lf_summary))\n",
    "print(len(firesheds_fa))"
   ]
  },
  {
   "cell_type": "code",
   "execution_count": 61,
   "id": "3981bf05-dc6e-4b49-a64f-07d574a60e7e",
   "metadata": {},
   "outputs": [
    {
     "name": "stdout",
     "output_type": "stream",
     "text": [
      "<xarray.DataArray (y: 28724, x: 17006)> Size: 2GB\n",
      "dask.array<getitem, shape=(28724, 17006), dtype=float32, chunksize=(3946, 17006), chunktype=numpy.ndarray>\n",
      "Coordinates:\n",
      "    band         int64 8B 1\n",
      "  * x            (x) float64 136kB -1.193e+06 -1.193e+06 ... -6.831e+05\n",
      "  * y            (y) float64 230kB 2.253e+06 2.253e+06 ... 1.392e+06 1.392e+06\n",
      "    spatial_ref  int64 8B 0\n",
      "Attributes:\n",
      "    AREA_OR_POINT:  Area\n",
      "    scale_factor:   1.0\n",
      "    add_offset:     0.0\n"
     ]
    },
    {
     "data": {
      "text/html": [
       "<div>\n",
       "<style scoped>\n",
       "    .dataframe tbody tr th:only-of-type {\n",
       "        vertical-align: middle;\n",
       "    }\n",
       "\n",
       "    .dataframe tbody tr th {\n",
       "        vertical-align: top;\n",
       "    }\n",
       "\n",
       "    .dataframe thead th {\n",
       "        text-align: right;\n",
       "    }\n",
       "</style>\n",
       "<table border=\"1\" class=\"dataframe\">\n",
       "  <thead>\n",
       "    <tr style=\"text-align: right;\">\n",
       "      <th></th>\n",
       "      <th>sfs_id</th>\n",
       "      <th>forest_pixels</th>\n",
       "      <th>forest_pct</th>\n",
       "    </tr>\n",
       "  </thead>\n",
       "  <tbody>\n",
       "    <tr>\n",
       "      <th>1</th>\n",
       "      <td>20466</td>\n",
       "      <td>113509</td>\n",
       "      <td>69.474667</td>\n",
       "    </tr>\n",
       "    <tr>\n",
       "      <th>3</th>\n",
       "      <td>20467</td>\n",
       "      <td>116101</td>\n",
       "      <td>55.442244</td>\n",
       "    </tr>\n",
       "    <tr>\n",
       "      <th>5</th>\n",
       "      <td>20468</td>\n",
       "      <td>120025</td>\n",
       "      <td>90.025411</td>\n",
       "    </tr>\n",
       "    <tr>\n",
       "      <th>7</th>\n",
       "      <td>20469</td>\n",
       "      <td>126505</td>\n",
       "      <td>87.369669</td>\n",
       "    </tr>\n",
       "    <tr>\n",
       "      <th>9</th>\n",
       "      <td>21025</td>\n",
       "      <td>122653</td>\n",
       "      <td>77.522767</td>\n",
       "    </tr>\n",
       "  </tbody>\n",
       "</table>\n",
       "</div>"
      ],
      "text/plain": [
       "   sfs_id  forest_pixels  forest_pct\n",
       "1   20466         113509   69.474667\n",
       "3   20467         116101   55.442244\n",
       "5   20468         120025   90.025411\n",
       "7   20469         126505   87.369669\n",
       "9   21025         122653   77.522767"
      ]
     },
     "execution_count": 61,
     "metadata": {},
     "output_type": "execute_result"
    }
   ],
   "source": [
    "# proportion forested\n",
    "# Save as a GeoTIFF\n",
    "fp = os.path.join(projdir, \"Aim2/data/spatial/mod/USFS/TreeMap_2016_forestmask.tif\")\n",
    "forest_mask = rxr.open_rasterio(fp, masked=True, cache=False, chunks='auto').squeeze()\n",
    "print(forest_mask)\n",
    "\n",
    "# calculate the grid-level forest percent\n",
    "forest_pct = compute_band_stats(firesheds, forest_mask, 'sfs_id', attr='forest')\n",
    "forest_pct.rename(columns={\n",
    "    'pct_cover': 'forest_pct',\n",
    "    'total_pixels': 'forest_pixels'\n",
    "}, inplace=True)\n",
    "# retain just forest pixels\n",
    "forest_pct = forest_pct[forest_pct['forest'] == 1] # just forest pixels\n",
    "forest_pct = forest_pct[['sfs_id','forest_pixels','forest_pct']]\n",
    "forest_pct.head()"
   ]
  },
  {
   "cell_type": "code",
   "execution_count": 62,
   "id": "df1156aa-332d-498f-8e6b-0c699b1e87fd",
   "metadata": {},
   "outputs": [
    {
     "data": {
      "text/plain": [
       "1714"
      ]
     },
     "execution_count": 62,
     "metadata": {},
     "output_type": "execute_result"
    }
   ],
   "source": [
    "len(firesheds_fa)"
   ]
  },
  {
   "cell_type": "code",
   "execution_count": 63,
   "id": "be5847b5-6f33-43c8-929d-76f309404736",
   "metadata": {},
   "outputs": [
    {
     "name": "stdout",
     "output_type": "stream",
     "text": [
      "Index(['fs_id', 'sfs_id', 'sfs_area_ha', 'fs_name', 'sfs_exposure',\n",
      "       'pct_disturbed', 'geometry', 'US_L4CODE', 'US_L4NAME', 'trend_area',\n",
      "       'trend_count', 'historic', 'ssp245', 'ssp585', 'delta245', 'delta585',\n",
      "       'aspen10_pct', 'aspen10_pixn', 'number_of_patches', 'patch_density',\n",
      "       'largest_patch_index', 'combust_sum', 'msbf_count_sum',\n",
      "       'pop_density_max', 'pop_count_sum', 'wui1', 'wui2', 'wui3', 'wui4',\n",
      "       'wui_dist_mean', 'sfs_area', 'burned_area_c', 'burned_pct_c', 'whp_p90',\n",
      "       'cfl_p90', 'hui_p90', 'dom_evt1', 'dom_evt2', 'dom_evt3', 'dom_evt4',\n",
      "       'aspen', 'douglas_fir', 'gambel_oak', 'lodgepole', 'pinon_juniper',\n",
      "       'ponderosa', 'sagebrush', 'spruce_fir', 'white_fir', 'forest_cc_mean',\n",
      "       'forest_ch_mean', 'forest_pixels', 'forest_pct'],\n",
      "      dtype='object')\n",
      "Saved to: \n",
      "/Users/max/Library/CloudStorage/OneDrive-Personal/mcook/aspen-fire/Aim3/data/spatial/mod/srm_firesheds_model_data.gpkg\n"
     ]
    }
   ],
   "source": [
    "# join to the main grid, export\n",
    "firesheds_fa = pd.merge(firesheds_fa, forest_pct, on='sfs_id', how='left')\n",
    "print(firesheds_fa.columns)\n",
    "# export\n",
    "out_fp = os.path.join(projdir, 'Aim3/data/spatial/mod/srm_firesheds_model_data.gpkg')\n",
    "firesheds_fa.to_file(out_fp)\n",
    "print(f\"Saved to: \\n{out_fp}\")"
   ]
  }
 ],
 "metadata": {
  "kernelspec": {
   "display_name": "aspen-fire",
   "language": "python",
   "name": "aspen-fire"
  },
  "language_info": {
   "codemirror_mode": {
    "name": "ipython",
    "version": 3
   },
   "file_extension": ".py",
   "mimetype": "text/x-python",
   "name": "python",
   "nbconvert_exporter": "python",
   "pygments_lexer": "ipython3",
   "version": "3.10.12"
  }
 },
 "nbformat": 4,
 "nbformat_minor": 5
}
