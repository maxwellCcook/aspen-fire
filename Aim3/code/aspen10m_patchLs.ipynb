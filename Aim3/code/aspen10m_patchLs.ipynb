{
 "cells": [
  {
   "cell_type": "code",
   "execution_count": 1,
   "id": "b0321ebc-c7b7-492a-bda1-74daac51d45a",
   "metadata": {},
   "outputs": [
    {
     "name": "stdout",
     "output_type": "stream",
     "text": [
      "00fire-perimeters-EVT.ipynb\n",
      "00fire-perimeters-TreeMap.ipynb\n",
      "01ics-geolocate.ipynb\n",
      "02afd-nasa-firms.ipynb\n",
      "03a_viirs_earthaccess-swath.ipynb\n",
      "03b_viirs_earthaccess-swath-geolocate.ipynb\n",
      "03c_viirs-afd-processing.ipynb\n",
      "04a_TreeMap_FIA-Prep.ipynb\n",
      "04b_TreeMap_FIA-FORTYPCD.ipynb\n",
      "04b_TreeMap_FIA-TreeTable.ipynb\n",
      "04b_TreeMap_FIA-TreeTable-V2.ipynb\n",
      "04d_GEE-CBI_Summary.ipynb\n",
      "04d_GEE-GridMet.ipynb\n",
      "04d_GEE-MOD15-LAI.ipynb\n",
      "04d_GEE-S2MSI.ipynb\n",
      "04d_GEE-Topo.ipynb\n",
      "04d_GEE-TreeMap.ipynb\n",
      "05a_TreeMap_Forest-Composition.ipynb\n",
      "05b_FRP-CBIbc.ipynb\n",
      "_aspen-cover_comparison.ipynb\n",
      "earthaccess\n",
      "_figures.ipynb\n",
      "fired\n",
      "_fire-summary.ipynb\n",
      "__functions.py\n",
      "_geoloc-sample-dist.ipynb\n",
      "_gridstats_lc_compare.ipynb\n",
      "__pycache__\n",
      "_west-fire-season-length.ipynb\n"
     ]
    }
   ],
   "source": [
    "!ls ../../Aim2/code/Python"
   ]
  },
  {
   "cell_type": "code",
   "execution_count": 16,
   "id": "38aa9454-0403-42d2-a456-df8e6c8f7973",
   "metadata": {},
   "outputs": [
    {
     "name": "stdout",
     "output_type": "stream",
     "text": [
      "Ready to go !\n"
     ]
    }
   ],
   "source": [
    "\"\"\"\n",
    "10-meter aspen patch metrics\n",
    "author: maxwell.cook@colorado.edu\n",
    "\"\"\"\n",
    "\n",
    "import os, sys, time\n",
    "import geopandas as gpd\n",
    "import pylandstats as pls\n",
    "import multiprocessing as mp\n",
    "import concurrent.futures\n",
    "import numpy as np\n",
    "from multiprocessing import Pool, cpu_count\n",
    "from tqdm.notebook import tqdm\n",
    "from shapely.geometry import box\n",
    "\n",
    "# Custom functions\n",
    "sys.path.append('../../Aim2/code/Python')\n",
    "from __functions import *\n",
    "\n",
    "maindir = '/home/jovyan/'\n",
    "datadir = os.path.join(maindir,'data-store/data/iplant/home/maco4303/data')\n",
    "os.listdir(datadir)\n",
    "\n",
    "proj = 'EPSG:5070' # albers\n",
    "\n",
    "print(\"Ready to go !\")"
   ]
  },
  {
   "cell_type": "code",
   "execution_count": 3,
   "id": "bdf85e9a-75dd-42f8-9709-7e35a751eaf6",
   "metadata": {},
   "outputs": [
    {
     "data": {
      "text/plain": [
       "'/home/jovyan/data-store/aspen-fire/Aim3/code'"
      ]
     },
     "execution_count": 3,
     "metadata": {},
     "output_type": "execute_result"
    }
   ],
   "source": [
    "os.getcwd()"
   ]
  },
  {
   "cell_type": "code",
   "execution_count": 4,
   "id": "86e4d9c7-6cac-47d8-b5a8-5849dc6d5c99",
   "metadata": {},
   "outputs": [
    {
     "data": {
      "text/plain": [
       "['HYR-SENSE', 'JFSP', 'OPP']"
      ]
     },
     "execution_count": 4,
     "metadata": {},
     "output_type": "execute_result"
    }
   ],
   "source": [
    "os.listdir(datadir)"
   ]
  },
  {
   "cell_type": "code",
   "execution_count": 5,
   "id": "81eec940-2604-47de-a0fa-9d5940d7c85a",
   "metadata": {},
   "outputs": [
    {
     "data": {
      "text/html": [
       "<div>\n",
       "<style scoped>\n",
       "    .dataframe tbody tr th:only-of-type {\n",
       "        vertical-align: middle;\n",
       "    }\n",
       "\n",
       "    .dataframe tbody tr th {\n",
       "        vertical-align: top;\n",
       "    }\n",
       "\n",
       "    .dataframe thead th {\n",
       "        text-align: right;\n",
       "    }\n",
       "</style>\n",
       "<table border=\"1\" class=\"dataframe\">\n",
       "  <thead>\n",
       "    <tr style=\"text-align: right;\">\n",
       "      <th></th>\n",
       "      <th>grid_id</th>\n",
       "      <th>trend_area</th>\n",
       "      <th>trend_count</th>\n",
       "      <th>p_area</th>\n",
       "      <th>p_count</th>\n",
       "      <th>NA_L3NAME</th>\n",
       "      <th>US_L4NAME</th>\n",
       "      <th>US_L4CODE</th>\n",
       "      <th>geometry</th>\n",
       "    </tr>\n",
       "  </thead>\n",
       "  <tbody>\n",
       "    <tr>\n",
       "      <th>0</th>\n",
       "      <td>159230.0</td>\n",
       "      <td>190.629216</td>\n",
       "      <td>0.019221</td>\n",
       "      <td>3.590523e-11</td>\n",
       "      <td>1.436235e-13</td>\n",
       "      <td>Southern Rockies</td>\n",
       "      <td>Foothill Shrublands</td>\n",
       "      <td>21d</td>\n",
       "      <td>POLYGON ((-861518.632 2246765.246, -858285.087...</td>\n",
       "    </tr>\n",
       "    <tr>\n",
       "      <th>1</th>\n",
       "      <td>159231.0</td>\n",
       "      <td>190.629216</td>\n",
       "      <td>0.019221</td>\n",
       "      <td>3.590523e-11</td>\n",
       "      <td>1.436235e-13</td>\n",
       "      <td>Southern Rockies</td>\n",
       "      <td>Foothill Shrublands</td>\n",
       "      <td>21d</td>\n",
       "      <td>POLYGON ((-858285.087 2246403.307, -855051.389...</td>\n",
       "    </tr>\n",
       "    <tr>\n",
       "      <th>2</th>\n",
       "      <td>159232.0</td>\n",
       "      <td>190.629216</td>\n",
       "      <td>0.019221</td>\n",
       "      <td>3.590523e-11</td>\n",
       "      <td>1.436235e-13</td>\n",
       "      <td>Southern Rockies</td>\n",
       "      <td>Foothill Shrublands</td>\n",
       "      <td>21d</td>\n",
       "      <td>POLYGON ((-855051.389 2246042.730, -851817.539...</td>\n",
       "    </tr>\n",
       "    <tr>\n",
       "      <th>3</th>\n",
       "      <td>159233.0</td>\n",
       "      <td>301.282740</td>\n",
       "      <td>0.026862</td>\n",
       "      <td>1.926234e-07</td>\n",
       "      <td>1.677490e-09</td>\n",
       "      <td>Southern Rockies</td>\n",
       "      <td>Crystalline Mid-Elevation Forests</td>\n",
       "      <td>21c</td>\n",
       "      <td>POLYGON ((-851817.539 2245683.513, -848583.540...</td>\n",
       "    </tr>\n",
       "    <tr>\n",
       "      <th>4</th>\n",
       "      <td>159234.0</td>\n",
       "      <td>411.936265</td>\n",
       "      <td>0.034504</td>\n",
       "      <td>3.852110e-07</td>\n",
       "      <td>3.354837e-09</td>\n",
       "      <td>Southern Rockies</td>\n",
       "      <td>Crystalline Mid-Elevation Forests</td>\n",
       "      <td>21c</td>\n",
       "      <td>POLYGON ((-848583.540 2245325.656, -845349.389...</td>\n",
       "    </tr>\n",
       "  </tbody>\n",
       "</table>\n",
       "</div>"
      ],
      "text/plain": [
       "    grid_id  trend_area  trend_count        p_area       p_count  \\\n",
       "0  159230.0  190.629216     0.019221  3.590523e-11  1.436235e-13   \n",
       "1  159231.0  190.629216     0.019221  3.590523e-11  1.436235e-13   \n",
       "2  159232.0  190.629216     0.019221  3.590523e-11  1.436235e-13   \n",
       "3  159233.0  301.282740     0.026862  1.926234e-07  1.677490e-09   \n",
       "4  159234.0  411.936265     0.034504  3.852110e-07  3.354837e-09   \n",
       "\n",
       "          NA_L3NAME                          US_L4NAME US_L4CODE  \\\n",
       "0  Southern Rockies                Foothill Shrublands       21d   \n",
       "1  Southern Rockies                Foothill Shrublands       21d   \n",
       "2  Southern Rockies                Foothill Shrublands       21d   \n",
       "3  Southern Rockies  Crystalline Mid-Elevation Forests       21c   \n",
       "4  Southern Rockies  Crystalline Mid-Elevation Forests       21c   \n",
       "\n",
       "                                            geometry  \n",
       "0  POLYGON ((-861518.632 2246765.246, -858285.087...  \n",
       "1  POLYGON ((-858285.087 2246403.307, -855051.389...  \n",
       "2  POLYGON ((-855051.389 2246042.730, -851817.539...  \n",
       "3  POLYGON ((-851817.539 2245683.513, -848583.540...  \n",
       "4  POLYGON ((-848583.540 2245325.656, -845349.389...  "
      ]
     },
     "execution_count": 5,
     "metadata": {},
     "output_type": "execute_result"
    }
   ],
   "source": [
    "fp = os.path.join(datadir,'JFSP/Aim3/future_fire_grid_trend.gpkg')\n",
    "future_fire = gpd.read_file(fp)\n",
    "future_fire.head()"
   ]
  },
  {
   "cell_type": "code",
   "execution_count": 6,
   "id": "66ac47af-a49a-4998-ad4e-1470e421b924",
   "metadata": {},
   "outputs": [
    {
     "name": "stdout",
     "output_type": "stream",
     "text": [
      "\n",
      "No duplicates at this stage.\n",
      "\n"
     ]
    }
   ],
   "source": [
    "# check for duplicates, remove them\n",
    "n = future_fire.duplicated(subset=['grid_id']).sum()\n",
    "if n > 0:\n",
    "    print(f\"\\nThere are [{n}] duplicate rows.\\n\")\n",
    "else:\n",
    "    print(\"\\nNo duplicates at this stage.\\n\")"
   ]
  },
  {
   "cell_type": "code",
   "execution_count": 7,
   "id": "71e5f7ea-835d-479a-b8f5-80654c191a85",
   "metadata": {},
   "outputs": [
    {
     "name": "stdout",
     "output_type": "stream",
     "text": [
      "\n",
      "<xarray.DataArray (y: 95433, x: 64151)>\n",
      "[6122122383 values with dtype=uint8]\n",
      "Coordinates:\n",
      "    band         int64 1\n",
      "  * x            (x) float64 -1.217e+06 -1.217e+06 ... -5.76e+05 -5.76e+05\n",
      "  * y            (y) float64 2.309e+06 2.309e+06 ... 1.355e+06 1.355e+06\n",
      "    spatial_ref  int64 0\n",
      "Attributes:\n",
      "    AREA_OR_POINT:  Area\n",
      "    _FillValue:     255\n",
      "    scale_factor:   1.0\n",
      "    add_offset:     0.0\n",
      "\n",
      "EPSG:5070\n"
     ]
    }
   ],
   "source": [
    "# load the 10-m aspen map (classification)\n",
    "aspen10_fp = os.path.join(datadir,'JFSP/Aim3/s2aspen_distribution_10m_y2019_CookEtAl.tif')\n",
    "aspen10 = rxr.open_rasterio(aspen10_fp, cache=False, mask=True).squeeze()\n",
    "print(f\"\\n{aspen10}\\n\")\n",
    "print(aspen10.rio.crs)"
   ]
  },
  {
   "cell_type": "code",
   "execution_count": 8,
   "id": "30209f64-45ca-4a5e-bfd1-6d245b950e00",
   "metadata": {},
   "outputs": [
    {
     "name": "stdout",
     "output_type": "stream",
     "text": [
      "    grid_id  aspen10  count  total_pixels  pct_cover\n",
      "1  159230.0        1      8        146335   0.005467\n",
      "3  159231.0        1     23        146342   0.015717\n",
      "5  159232.0        1    764        146346   0.522050\n",
      "7  159233.0        1    100        146336   0.068336\n",
      "9  159234.0        1    369        146336   0.252159\n",
      "\n",
      "Total elapsed time: 0.69 minutes.\n",
      "\n",
      "\n",
      "~~~~~~~~~~\n",
      "\n"
     ]
    }
   ],
   "source": [
    "t0 = time.time()\n",
    "\n",
    "# calculate zonal statistics\n",
    "aspen10_grids = compute_band_stats(\n",
    "    geoms=future_fire, \n",
    "    image_da=aspen10, \n",
    "    id_col='grid_id', \n",
    "    attr='aspen10',\n",
    "    ztype='categorical'\n",
    ")\n",
    "# only keep the count of aspen pixels\n",
    "aspen10_grids = aspen10_grids[aspen10_grids['aspen10'] == 1]\n",
    "# check the results\n",
    "print(aspen10_grids.head())\n",
    "\n",
    "t1 = (time.time() - t0) / 60\n",
    "print(f\"\\nTotal elapsed time: {t1:.2f} minutes.\\n\")\n",
    "print(\"\\n~~~~~~~~~~\\n\")"
   ]
  },
  {
   "cell_type": "code",
   "execution_count": 9,
   "id": "2fdfdf19-23c0-4d4b-b75f-3b2c17e0a223",
   "metadata": {},
   "outputs": [
    {
     "data": {
      "text/plain": [
       "count    9212.000000\n",
       "mean        6.760243\n",
       "std        11.574808\n",
       "min         0.000617\n",
       "25%         0.204016\n",
       "50%         1.432681\n",
       "75%         7.450748\n",
       "max        80.162397\n",
       "Name: pct_cover, dtype: float64"
      ]
     },
     "execution_count": 9,
     "metadata": {},
     "output_type": "execute_result"
    }
   ],
   "source": [
    "aspen10_grids['pct_cover'].describe()"
   ]
  },
  {
   "cell_type": "code",
   "execution_count": 10,
   "id": "5a47473a-0bd4-454d-aa31-c05b04cd6736",
   "metadata": {},
   "outputs": [
    {
     "name": "stdout",
     "output_type": "stream",
     "text": [
      "9212\n"
     ]
    }
   ],
   "source": [
    "# merge back to the spatial data\n",
    "ff_aspen_grids = future_fire[future_fire['grid_id'].isin(aspen10_grids['grid_id'].unique())]\n",
    "print(len(ff_aspen_grids))"
   ]
  },
  {
   "cell_type": "code",
   "execution_count": 11,
   "id": "cf1e3f41-5209-4f14-981d-0573bdd11f7e",
   "metadata": {},
   "outputs": [
    {
     "data": {
      "text/plain": [
       "128"
      ]
     },
     "execution_count": 11,
     "metadata": {},
     "output_type": "execute_result"
    }
   ],
   "source": [
    "os.cpu_count()"
   ]
  },
  {
   "cell_type": "code",
   "execution_count": 18,
   "id": "81343f0b-f6cf-411f-88fb-915451ea49c4",
   "metadata": {},
   "outputs": [
    {
     "data": {
      "text/plain": [
       "Index(['grid_id', 'trend_area', 'trend_count', 'p_area', 'p_count',\n",
       "       'NA_L3NAME', 'US_L4NAME', 'US_L4CODE', 'geometry'],\n",
       "      dtype='object')"
      ]
     },
     "execution_count": 18,
     "metadata": {},
     "output_type": "execute_result"
    }
   ],
   "source": [
    "ff_aspen_grids.columns"
   ]
  },
  {
   "cell_type": "code",
   "execution_count": 20,
   "id": "39952531-03d0-41cc-972d-6b0f0b271a2f",
   "metadata": {},
   "outputs": [
    {
     "data": {
      "application/vnd.jupyter.widget-view+json": {
       "model_id": "58cf5c15ce2f471fb29fac1f333d9f65",
       "version_major": 2,
       "version_minor": 0
      },
      "text/plain": [
       "Processing Grids:   0%|          | 0/9212 [00:00<?, ?it/s]"
      ]
     },
     "metadata": {},
     "output_type": "display_data"
    },
    {
     "ename": "KeyboardInterrupt",
     "evalue": "",
     "output_type": "error",
     "traceback": [
      "\u001b[0;31m---------------------------------------------------------------------------\u001b[0m",
      "\u001b[0;31mBrokenProcessPool\u001b[0m                         Traceback (most recent call last)",
      "Cell \u001b[0;32mIn[20], line 55\u001b[0m\n\u001b[1;32m     54\u001b[0m \u001b[38;5;28;01mfor\u001b[39;00m future \u001b[38;5;129;01min\u001b[39;00m tqdm(concurrent\u001b[38;5;241m.\u001b[39mfutures\u001b[38;5;241m.\u001b[39mas_completed(futures), total\u001b[38;5;241m=\u001b[39m\u001b[38;5;28mlen\u001b[39m(futures), desc\u001b[38;5;241m=\u001b[39m\u001b[38;5;124m\"\u001b[39m\u001b[38;5;124mProcessing Grids\u001b[39m\u001b[38;5;124m\"\u001b[39m):\n\u001b[0;32m---> 55\u001b[0m     result \u001b[38;5;241m=\u001b[39m \u001b[43mfuture\u001b[49m\u001b[38;5;241;43m.\u001b[39;49m\u001b[43mresult\u001b[49m\u001b[43m(\u001b[49m\u001b[43m)\u001b[49m\n\u001b[1;32m     56\u001b[0m     \u001b[38;5;28;01mif\u001b[39;00m result \u001b[38;5;129;01mis\u001b[39;00m \u001b[38;5;129;01mnot\u001b[39;00m \u001b[38;5;28;01mNone\u001b[39;00m:\n",
      "File \u001b[0;32m/opt/conda/envs/macrosystems/lib/python3.10/concurrent/futures/_base.py:451\u001b[0m, in \u001b[0;36mFuture.result\u001b[0;34m(self, timeout)\u001b[0m\n\u001b[1;32m    450\u001b[0m \u001b[38;5;28;01melif\u001b[39;00m \u001b[38;5;28mself\u001b[39m\u001b[38;5;241m.\u001b[39m_state \u001b[38;5;241m==\u001b[39m FINISHED:\n\u001b[0;32m--> 451\u001b[0m     \u001b[38;5;28;01mreturn\u001b[39;00m \u001b[38;5;28;43mself\u001b[39;49m\u001b[38;5;241;43m.\u001b[39;49m\u001b[43m__get_result\u001b[49m\u001b[43m(\u001b[49m\u001b[43m)\u001b[49m\n\u001b[1;32m    453\u001b[0m \u001b[38;5;28mself\u001b[39m\u001b[38;5;241m.\u001b[39m_condition\u001b[38;5;241m.\u001b[39mwait(timeout)\n",
      "File \u001b[0;32m/opt/conda/envs/macrosystems/lib/python3.10/concurrent/futures/_base.py:403\u001b[0m, in \u001b[0;36mFuture.__get_result\u001b[0;34m(self)\u001b[0m\n\u001b[1;32m    402\u001b[0m \u001b[38;5;28;01mtry\u001b[39;00m:\n\u001b[0;32m--> 403\u001b[0m     \u001b[38;5;28;01mraise\u001b[39;00m \u001b[38;5;28mself\u001b[39m\u001b[38;5;241m.\u001b[39m_exception\n\u001b[1;32m    404\u001b[0m \u001b[38;5;28;01mfinally\u001b[39;00m:\n\u001b[1;32m    405\u001b[0m     \u001b[38;5;66;03m# Break a reference cycle with the exception in self._exception\u001b[39;00m\n",
      "\u001b[0;31mBrokenProcessPool\u001b[0m: A process in the process pool was terminated abruptly while the future was running or pending.",
      "\nDuring handling of the above exception, another exception occurred:\n",
      "\u001b[0;31mKeyboardInterrupt\u001b[0m                         Traceback (most recent call last)",
      "Cell \u001b[0;32mIn[20], line 50\u001b[0m\n\u001b[1;32m     46\u001b[0m grid_list \u001b[38;5;241m=\u001b[39m ff_aspen_grids\u001b[38;5;241m.\u001b[39mto_dict(orient\u001b[38;5;241m=\u001b[39m\u001b[38;5;124m\"\u001b[39m\u001b[38;5;124mrecords\u001b[39m\u001b[38;5;124m\"\u001b[39m)\n\u001b[1;32m     48\u001b[0m results \u001b[38;5;241m=\u001b[39m []\n\u001b[0;32m---> 50\u001b[0m \u001b[38;5;28;01mwith\u001b[39;00m concurrent\u001b[38;5;241m.\u001b[39mfutures\u001b[38;5;241m.\u001b[39mProcessPoolExecutor(max_workers\u001b[38;5;241m=\u001b[39mnum_workers) \u001b[38;5;28;01mas\u001b[39;00m executor:\n\u001b[1;32m     51\u001b[0m     futures \u001b[38;5;241m=\u001b[39m {executor\u001b[38;5;241m.\u001b[39msubmit(process_grid, grid): grid \u001b[38;5;28;01mfor\u001b[39;00m grid \u001b[38;5;129;01min\u001b[39;00m grid_list}\n\u001b[1;32m     53\u001b[0m     \u001b[38;5;66;03m# Track progress with tqdm\u001b[39;00m\n",
      "File \u001b[0;32m/opt/conda/envs/macrosystems/lib/python3.10/concurrent/futures/_base.py:649\u001b[0m, in \u001b[0;36mExecutor.__exit__\u001b[0;34m(self, exc_type, exc_val, exc_tb)\u001b[0m\n\u001b[1;32m    648\u001b[0m \u001b[38;5;28;01mdef\u001b[39;00m \u001b[38;5;21m__exit__\u001b[39m(\u001b[38;5;28mself\u001b[39m, exc_type, exc_val, exc_tb):\n\u001b[0;32m--> 649\u001b[0m     \u001b[38;5;28;43mself\u001b[39;49m\u001b[38;5;241;43m.\u001b[39;49m\u001b[43mshutdown\u001b[49m\u001b[43m(\u001b[49m\u001b[43mwait\u001b[49m\u001b[38;5;241;43m=\u001b[39;49m\u001b[38;5;28;43;01mTrue\u001b[39;49;00m\u001b[43m)\u001b[49m\n\u001b[1;32m    650\u001b[0m     \u001b[38;5;28;01mreturn\u001b[39;00m \u001b[38;5;28;01mFalse\u001b[39;00m\n",
      "File \u001b[0;32m/opt/conda/envs/macrosystems/lib/python3.10/concurrent/futures/process.py:780\u001b[0m, in \u001b[0;36mProcessPoolExecutor.shutdown\u001b[0;34m(self, wait, cancel_futures)\u001b[0m\n\u001b[1;32m    777\u001b[0m         \u001b[38;5;28mself\u001b[39m\u001b[38;5;241m.\u001b[39m_executor_manager_thread_wakeup\u001b[38;5;241m.\u001b[39mwakeup()\n\u001b[1;32m    779\u001b[0m \u001b[38;5;28;01mif\u001b[39;00m \u001b[38;5;28mself\u001b[39m\u001b[38;5;241m.\u001b[39m_executor_manager_thread \u001b[38;5;129;01mis\u001b[39;00m \u001b[38;5;129;01mnot\u001b[39;00m \u001b[38;5;28;01mNone\u001b[39;00m \u001b[38;5;129;01mand\u001b[39;00m wait:\n\u001b[0;32m--> 780\u001b[0m     \u001b[38;5;28;43mself\u001b[39;49m\u001b[38;5;241;43m.\u001b[39;49m\u001b[43m_executor_manager_thread\u001b[49m\u001b[38;5;241;43m.\u001b[39;49m\u001b[43mjoin\u001b[49m\u001b[43m(\u001b[49m\u001b[43m)\u001b[49m\n\u001b[1;32m    781\u001b[0m \u001b[38;5;66;03m# To reduce the risk of opening too many files, remove references to\u001b[39;00m\n\u001b[1;32m    782\u001b[0m \u001b[38;5;66;03m# objects that use file descriptors.\u001b[39;00m\n\u001b[1;32m    783\u001b[0m \u001b[38;5;28mself\u001b[39m\u001b[38;5;241m.\u001b[39m_executor_manager_thread \u001b[38;5;241m=\u001b[39m \u001b[38;5;28;01mNone\u001b[39;00m\n",
      "File \u001b[0;32m/opt/conda/envs/macrosystems/lib/python3.10/threading.py:1096\u001b[0m, in \u001b[0;36mThread.join\u001b[0;34m(self, timeout)\u001b[0m\n\u001b[1;32m   1093\u001b[0m     \u001b[38;5;28;01mraise\u001b[39;00m \u001b[38;5;167;01mRuntimeError\u001b[39;00m(\u001b[38;5;124m\"\u001b[39m\u001b[38;5;124mcannot join current thread\u001b[39m\u001b[38;5;124m\"\u001b[39m)\n\u001b[1;32m   1095\u001b[0m \u001b[38;5;28;01mif\u001b[39;00m timeout \u001b[38;5;129;01mis\u001b[39;00m \u001b[38;5;28;01mNone\u001b[39;00m:\n\u001b[0;32m-> 1096\u001b[0m     \u001b[38;5;28;43mself\u001b[39;49m\u001b[38;5;241;43m.\u001b[39;49m\u001b[43m_wait_for_tstate_lock\u001b[49m\u001b[43m(\u001b[49m\u001b[43m)\u001b[49m\n\u001b[1;32m   1097\u001b[0m \u001b[38;5;28;01melse\u001b[39;00m:\n\u001b[1;32m   1098\u001b[0m     \u001b[38;5;66;03m# the behavior of a negative timeout isn't documented, but\u001b[39;00m\n\u001b[1;32m   1099\u001b[0m     \u001b[38;5;66;03m# historically .join(timeout=x) for x<0 has acted as if timeout=0\u001b[39;00m\n\u001b[1;32m   1100\u001b[0m     \u001b[38;5;28mself\u001b[39m\u001b[38;5;241m.\u001b[39m_wait_for_tstate_lock(timeout\u001b[38;5;241m=\u001b[39m\u001b[38;5;28mmax\u001b[39m(timeout, \u001b[38;5;241m0\u001b[39m))\n",
      "File \u001b[0;32m/opt/conda/envs/macrosystems/lib/python3.10/threading.py:1116\u001b[0m, in \u001b[0;36mThread._wait_for_tstate_lock\u001b[0;34m(self, block, timeout)\u001b[0m\n\u001b[1;32m   1113\u001b[0m     \u001b[38;5;28;01mreturn\u001b[39;00m\n\u001b[1;32m   1115\u001b[0m \u001b[38;5;28;01mtry\u001b[39;00m:\n\u001b[0;32m-> 1116\u001b[0m     \u001b[38;5;28;01mif\u001b[39;00m \u001b[43mlock\u001b[49m\u001b[38;5;241;43m.\u001b[39;49m\u001b[43macquire\u001b[49m\u001b[43m(\u001b[49m\u001b[43mblock\u001b[49m\u001b[43m,\u001b[49m\u001b[43m \u001b[49m\u001b[43mtimeout\u001b[49m\u001b[43m)\u001b[49m:\n\u001b[1;32m   1117\u001b[0m         lock\u001b[38;5;241m.\u001b[39mrelease()\n\u001b[1;32m   1118\u001b[0m         \u001b[38;5;28mself\u001b[39m\u001b[38;5;241m.\u001b[39m_stop()\n",
      "\u001b[0;31mKeyboardInterrupt\u001b[0m: "
     ]
    }
   ],
   "source": [
    "t0 = time.time()\n",
    "\n",
    "# patch analysis - largest patch size, mean patch size, etc\n",
    "\n",
    "# define metrics to calculate\n",
    "cls_metrics = [\n",
    "    'number_of_patches',  'patch_density', 'largest_patch_index'\n",
    "]\n",
    "\n",
    "# Function to process a single gridcell\n",
    "def process_grid(grid_dict):\n",
    "    \"\"\" Process a single gridcell, grid_dict is a dictionary with grid attributes \"\"\"\n",
    "    try:\n",
    "        # Extract required fields from dictionary\n",
    "        grid_id = grid_dict[\"grid_id\"]\n",
    "        geometry = grid_dict[\"geometry\"]  # Geometry is stored as a Shapely object in GeoDataFrame\n",
    "\n",
    "        # Ensure the bounds are in the same CRS as raster\n",
    "        bounds = geometry.bounds\n",
    "        bbox = box(*bounds)\n",
    "\n",
    "        # Extract the raster for the gridcell:\n",
    "        arr = aspen10.rio.clip([bbox], future_fire.crs, drop=True).values\n",
    "\n",
    "        # Ensure non-empty array before processing\n",
    "        if np.all(np.isnan(arr)) or np.count_nonzero(arr) == 0:\n",
    "            return None\n",
    "\n",
    "        # Generate the landscape metrics\n",
    "        ls = pls.Landscape(arr, res=(10, 10))\n",
    "        patches = ls.compute_class_metrics_df(metrics=cls_metrics)\n",
    "        patches[\"grid_id\"] = grid_id  # Attach grid ID for reference\n",
    "\n",
    "        del arr, ls  # Free memory\n",
    "        return patches\n",
    "\n",
    "    except Exception as e:\n",
    "        print(f\"Error processing grid {grid_dict['grid_id']}: {e}\")\n",
    "        return None\n",
    "\n",
    "# Parallel processing with progress tracking\n",
    "if __name__ == \"__main__\":\n",
    "    num_workers = max(1, os.cpu_count() - 2)  # Use available CPU cores\n",
    "\n",
    "    # Convert GeoDataFrame to list of dicts for better serialization\n",
    "    grid_list = ff_aspen_grids.to_dict(orient=\"records\")\n",
    "\n",
    "    results = []\n",
    "    \n",
    "    with concurrent.futures.ProcessPoolExecutor(max_workers=num_workers) as executor:\n",
    "        futures = {executor.submit(process_grid, grid): grid for grid in grid_list}\n",
    "        \n",
    "        # Track progress with tqdm\n",
    "        for future in tqdm(concurrent.futures.as_completed(futures), total=len(futures), desc=\"Processing Grids\"):\n",
    "            result = future.result()\n",
    "            if result is not None:\n",
    "                results.append(result)\n",
    "\n",
    "    # Merge all results into a single DataFrame\n",
    "    if results:\n",
    "        patch_metrics_df = pd.concat(results, ignore_index=True)\n",
    "    else:\n",
    "        patch_metrics_df = pd.DataFrame()  # Handle empty case\n",
    "\n",
    "    t1 = (time.time() - t0) / 60\n",
    "    print(f\"\\nTotal elapsed time: {t1:.2f} minutes.\\n\")"
   ]
  },
  {
   "cell_type": "code",
   "execution_count": null,
   "id": "9a6f1f4c-ffbd-4d0c-8572-6fa9fc821b98",
   "metadata": {},
   "outputs": [],
   "source": []
  }
 ],
 "metadata": {
  "kernelspec": {
   "display_name": "macrosystems",
   "language": "python",
   "name": "macrosystems"
  },
  "language_info": {
   "codemirror_mode": {
    "name": "ipython",
    "version": 3
   },
   "file_extension": ".py",
   "mimetype": "text/x-python",
   "name": "python",
   "nbconvert_exporter": "python",
   "pygments_lexer": "ipython3",
   "version": "3.10.13"
  }
 },
 "nbformat": 4,
 "nbformat_minor": 5
}
